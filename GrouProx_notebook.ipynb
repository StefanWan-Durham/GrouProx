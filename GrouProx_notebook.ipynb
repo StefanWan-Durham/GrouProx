{
 "cells": [
  {
   "cell_type": "code",
   "execution_count": 1,
   "metadata": {},
   "outputs": [
    {
     "name": "stdout",
     "output_type": "stream",
     "text": [
      "WARNING:tensorflow:From /home/lab/anaconda3/envs/TFF/lib/python3.7/site-packages/tensorflow/python/compat/v2_compat.py:96: disable_resource_variables (from tensorflow.python.ops.variable_scope) is deprecated and will be removed in a future version.\n",
      "Instructions for updating:\n",
      "non-resource variables are not supported in the long term\n"
     ]
    }
   ],
   "source": [
    "import importlib\n",
    "import tensorflow.compat.v1 as tf\n",
    "tf.disable_v2_behavior()\n",
    "from flearn.utils.model_utils import read_data\n",
    "import os\n",
    "import importlib\n",
    "import random\n",
    "import numpy as np\n",
    "\n",
    "from flearn.models import client\n",
    "from flearn.models import group\n",
    "from flearn.trainers import grouprox\n",
    "from flearn.trainers import fedprox\n",
    "from flearn.trainers import fedavg"
   ]
  },
  {
   "cell_type": "code",
   "execution_count": 2,
   "metadata": {},
   "outputs": [
    {
     "name": "stdout",
     "output_type": "stream",
     "text": [
      "grouprox-nist-mlp-NumG5-Agglr0.01-ProximalT-EmptyT.csv\n"
     ]
    }
   ],
   "source": [
    "params = {}\n",
    "#DATASETS = ['sent140', 'nist', 'shakespeare', 'mnist', 'synthetic_iid', 'synthetic_0_0', 'synthetic_0.5_0.5', 'synthetic_1_1']\n",
    "\n",
    "\"\"\"\n",
    "Parameters that need to be manually set\n",
    "\"\"\"\n",
    "\n",
    "#params['dataset'] = 'sent140'\n",
    "params['dataset'] = 'nist'\n",
    "params['model'] = 'mlp'\n",
    "#params['model'] = 'stacked_lstm'\n",
    "params['optimizer'] = 'grouprox'\n",
    "params['drop_percent'] = 0\n",
    "\n",
    "if params['dataset'].startswith('mnist'):\n",
    "  params['model_params'] = (10,)\n",
    "  params['learning_rate'] = 0.03\n",
    "  params['mu'] = 1\n",
    "if params['dataset'] == 'nist':\n",
    "  params['model_params'] = (26,)\n",
    "  params['learning_rate'] = 0.003\n",
    "  params['mu'] = 1\n",
    "if params['dataset'] == 'sent140':\n",
    "  params['model_params'] = (25, 2, 100) # seq_len, num_classes, num_hidden\n",
    "  params['learning_rate'] = 0.3\n",
    "  params['mu'] = 0.01\n",
    "if params['dataset'].startswith('synthetic'):\n",
    "  params['model_params'] = (10,)\n",
    "  params['learning_rate'] = 0.01\n",
    "  params['mu'] = 1\n",
    "\n",
    "if params['optimizer']  == 'fedavg':\n",
    "  pass\n",
    "if params['optimizer']  == 'fedprox':\n",
    "  pass\n",
    "if params['optimizer']  == 'grouprox':\n",
    "  params['proximal'] = False\n",
    "  params['randomly'] = False\n",
    "  params['allow_empty'] = True\n",
    "  params['evenly'] = False\n",
    "  params['num_group'] = 5\n",
    "  params['min_clients'] = 2\n",
    "\n",
    "\n",
    "\"\"\"\n",
    "Common parameters\n",
    "\"\"\"\n",
    "params['num_rounds'] = 200\n",
    "params['num_epochs'] = 20\n",
    "params['batch_size'] = 10\n",
    "params['eval_every'] = 1\n",
    "params['clients_per_round'] = 20 ######################################################\n",
    "params['seed'] = 233\n",
    "params['agg_lr'] = 0.01\n",
    "\n",
    "\n",
    "\"\"\" Set the output CSV file name \"\"\"\n",
    "info = '{}-{}-{}'.format(params['optimizer'], params['dataset'], params['model'])\n",
    "info2 = ''\n",
    "suffix = '.csv'\n",
    "if params['optimizer'] == 'fedavg':\n",
    "  pass\n",
    "if params['optimizer'] == 'fedprox':\n",
    "  pass\n",
    "if params['optimizer'] == 'grouprox':\n",
    "  info2 = '-NumG{:1d}-Agglr{:.4}-Proximal{:.1}'.format(\n",
    "    params['num_group'], params['agg_lr'], str(params['proximal']))\n",
    "  if params['randomly'] == True:\n",
    "    info2 = info2 + '-Randomly{:.1}-Evenly{:.1}'.format(str(params['randomly']), str(params['evenly']))\n",
    "  elif params['allow_empty'] == True:\n",
    "    info2 = info2 + '-Empty{:.1}'.format(str(params['allow_empty']))\n",
    "  elif params['allow_empty'] == False:\n",
    "    info2 = info2 + '-Evenly{:.1}'.format(str(params['evenly']))\n",
    "\n",
    "params['export_filename'] = info + info2 + suffix\n",
    "\n",
    "print(params['export_filename'])"
   ]
  },
  {
   "cell_type": "code",
   "execution_count": 3,
   "metadata": {
    "scrolled": true
   },
   "outputs": [
    {
     "name": "stdout",
     "output_type": "stream",
     "text": [
      "Using Group prox to Train\n",
      "WARNING:tensorflow:From /home/lab/workspace/GrouProx/flearn/models/nist/mlp.py:41: dense (from tensorflow.python.layers.core) is deprecated and will be removed in a future version.\n",
      "Instructions for updating:\n",
      "Use keras.layers.Dense instead.\n",
      "WARNING:tensorflow:From /home/lab/anaconda3/envs/TFF/lib/python3.7/site-packages/tensorflow/python/layers/core.py:187: Layer.apply (from tensorflow.python.keras.engine.base_layer_v1) is deprecated and will be removed in a future version.\n",
      "Instructions for updating:\n",
      "Please use `layer.__call__` method instead.\n",
      "WARNING:tensorflow:From /home/lab/anaconda3/envs/TFF/lib/python3.7/site-packages/tensorflow/python/profiler/internal/flops_registry.py:142: tensor_shape_from_node_def_name (from tensorflow.python.framework.graph_util_impl) is deprecated and will be removed in a future version.\n",
      "Instructions for updating:\n",
      "Use `tf.compat.v1.graph_util.tensor_shape_from_node_def_name`\n",
      "200 Clients in Total\n",
      "415258 Parameters in Total\n",
      "WARNING:tensorflow:From /home/lab/workspace/GrouProx/flearn/optimizer/pgd.py:70: Variable.load (from tensorflow.python.ops.variables) is deprecated and will be removed in a future version.\n",
      "Instructions for updating:\n",
      "Prefer Variable.assign which has equivalent behavior in 2.X.\n"
     ]
    },
    {
     "name": "stderr",
     "output_type": "stream",
     "text": [
      "                                                                                                                        \r"
     ]
    },
    {
     "name": "stdout",
     "output_type": "stream",
     "text": [
      "Pre-training take 3.175800085067749s seconds\n",
      "SVD take 0.8088743686676025s seconds\n",
      "(100, 415258) (415258, 3)\n",
      "Calculate Cossim matrix take 0.1857466697692871s seconds\n",
      "Clustering take 0.05171680450439453s seconds\n",
      "Clustering Results: Counter({0: 25, 1: 22, 2: 19, 3: 17, 4: 17})\n",
      "Clustering Inertia: 1.3325695991516113\n"
     ]
    }
   ],
   "source": [
    "\"\"\"\n",
    "Some preparations\n",
    "\"\"\"\n",
    "\n",
    "# read data\n",
    "train_path = os.path.join('data', params['dataset'], 'data', 'train')\n",
    "test_path = os.path.join('data', params['dataset'], 'data', 'test')\n",
    "dataset = read_data(train_path, test_path)\n",
    "\n",
    "# Load model\n",
    "if params['dataset'].startswith('synthetic'):  # all synthetic datasets use the same model\n",
    "  model_path = '%s.%s.%s.%s' % ('flearn', 'models', 'synthetic', params['model'])\n",
    "elif params['dataset'].startswith('mnist'):\n",
    "  model_path = '%s.%s.%s.%s' % ('flearn', 'models', 'mnist', params['model'])\n",
    "else:\n",
    "  model_path = '%s.%s.%s.%s' % ('flearn', 'models', params['dataset'], params['model'])\n",
    "mod = importlib.import_module(model_path)\n",
    "learner = getattr(mod, 'Model')\n",
    "\n",
    "# Set seeds\n",
    "random.seed(1 + params['seed'])\n",
    "np.random.seed(12 + params['seed'])\n",
    "tf.set_random_seed(123 + params['seed'])\n",
    "\n",
    "# Set server\n",
    "if params['optimizer'] == 'fedavg':\n",
    "  server = fedavg.Server(params, learner, dataset)  \n",
    "if params['optimizer'] == 'fedprox':\n",
    "  server = fedprox.Server(params, learner, dataset)\n",
    "if params['optimizer'] == 'grouprox':\n",
    "  server = grouprox.Server(params, learner, dataset)"
   ]
  },
  {
   "cell_type": "code",
   "execution_count": 4,
   "metadata": {
    "scrolled": true
   },
   "outputs": [
    {
     "name": "stderr",
     "output_type": "stream",
     "text": [
      "                                                                                                                        "
     ]
    },
    {
     "name": "stdout",
     "output_type": "stream",
     "text": [
      "Training with 20 workers ---\n"
     ]
    },
    {
     "name": "stderr",
     "output_type": "stream",
     "text": [
      "                                                                                                                        \r"
     ]
    },
    {
     "name": "stdout",
     "output_type": "stream",
     "text": [
      "Group 0, clients ['f_00154', 'f_00033', 'f_00074']\n",
      "Group 1, clients ['f_00018', 'f_00107', 'f_00098', 'f_00177', 'f_00007']\n",
      "Group 2, clients ['f_00182', 'f_00012', 'f_00152', 'f_00061']\n",
      "Group 3, clients ['f_00005', 'f_00146', 'f_00125', 'f_00037']\n",
      "Group 4, clients ['f_00170', 'f_00180', 'f_00080', 'f_00130']\n"
     ]
    },
    {
     "name": "stderr",
     "output_type": "stream",
     "text": [
      "Epoch:  30%|███████████████████████                                                      | 6/20 [00:00<00:00, 53.76it/s]"
     ]
    },
    {
     "name": "stdout",
     "output_type": "stream",
     "text": [
      "Group 0\n",
      "At round 0 accuracy: 0.4458128078817734\n",
      "At round 0 training accuracy: 0.391758560650029\n",
      "At round 0 training loss: 1.7083789346111562\n",
      "Group 1\n",
      "At round 0 accuracy: 0.37349397590361444\n",
      "At round 0 training accuracy: 0.3649322879543835\n",
      "At round 0 training loss: 1.8041862008066918\n",
      "Group 2\n",
      "At round 0 accuracy: 0.3838383838383838\n",
      "At round 0 training accuracy: 0.3688639551192146\n",
      "At round 0 training loss: 1.9114284743043295\n",
      "Group 3\n",
      "At round 0 accuracy: 0.3474320241691843\n",
      "At round 0 training accuracy: 0.33166368515205724\n",
      "At round 0 training loss: 1.8117142595417384\n",
      "Group 4\n",
      "At round 0 accuracy: 0.5222222222222223\n",
      "At round 0 training accuracy: 0.5148578811369509\n",
      "At round 0 training loss: 1.7020223318221341\n",
      "At round 0 mean test accuracy: 0.41476091476091476 mean train accuracy: 0.3941903659947628\n",
      "The groups difference are: [0.93582042 0.90971989 0.92222375 0.86537209 0.9360785 ]\n",
      "Begin group  0 training\n"
     ]
    },
    {
     "name": "stderr",
     "output_type": "stream",
     "text": [
      "Epoch:   0%|                                                                                     | 0/20 [00:00<?, ?it/s]"
     ]
    },
    {
     "name": "stdout",
     "output_type": "stream",
     "text": [
      "Begin group  1 training\n"
     ]
    },
    {
     "name": "stderr",
     "output_type": "stream",
     "text": [
      "Epoch:   0%|                                                                                     | 0/20 [00:00<?, ?it/s]"
     ]
    },
    {
     "name": "stdout",
     "output_type": "stream",
     "text": [
      "Begin group  2 training\n"
     ]
    },
    {
     "name": "stderr",
     "output_type": "stream",
     "text": [
      "Epoch:  20%|███████████████▍                                                             | 4/20 [00:00<00:00, 38.67it/s]"
     ]
    },
    {
     "name": "stdout",
     "output_type": "stream",
     "text": [
      "Begin group  3 training\n"
     ]
    },
    {
     "name": "stderr",
     "output_type": "stream",
     "text": [
      "Epoch:   0%|                                                                                     | 0/20 [00:00<?, ?it/s]"
     ]
    },
    {
     "name": "stdout",
     "output_type": "stream",
     "text": [
      "Begin group  4 training\n"
     ]
    },
    {
     "name": "stderr",
     "output_type": "stream",
     "text": [
      "                                                                                                                        \r"
     ]
    },
    {
     "name": "stdout",
     "output_type": "stream",
     "text": [
      "Group 0, clients ['f_00034', 'f_00184', 'f_00004']\n",
      "Group 1, clients ['f_00058', 'f_00198', 'f_00018', 'f_00089', 'f_00118', 'f_00059']\n",
      "Group 2, clients ['f_00102', 'f_00171', 'f_00011']\n",
      "Group 3, clients ['f_00095', 'f_00035', 'f_00136']\n",
      "Group 4, clients ['f_00040', 'f_00029', 'f_00168', 'f_00110', 'f_00159']\n"
     ]
    },
    {
     "name": "stderr",
     "output_type": "stream",
     "text": [
      "Epoch:  45%|██████████████████████████████████▋                                          | 9/20 [00:00<00:00, 89.90it/s]"
     ]
    },
    {
     "name": "stdout",
     "output_type": "stream",
     "text": [
      "Group 0\n",
      "At round 1 accuracy: 0.31527093596059114\n",
      "At round 1 training accuracy: 0.3374927452118398\n",
      "At round 1 training loss: 2.2882102156750905\n",
      "Group 1\n",
      "At round 1 accuracy: 0.35843373493975905\n",
      "At round 1 training accuracy: 0.32751247327156097\n",
      "At round 1 training loss: 1.8254015101166343\n",
      "Group 2\n",
      "At round 1 accuracy: 0.26464646464646463\n",
      "At round 1 training accuracy: 0.2597007947639084\n",
      "At round 1 training loss: 2.1391223586569774\n",
      "Group 3\n",
      "At round 1 accuracy: 0.3474320241691843\n",
      "At round 1 training accuracy: 0.33166368515205724\n",
      "At round 1 training loss: 2.020913396751731\n",
      "Group 4\n",
      "At round 1 accuracy: 0.6722222222222223\n",
      "At round 1 training accuracy: 0.6650516795865633\n",
      "At round 1 training loss: 1.5765412388229862\n",
      "At round 1 mean test accuracy: 0.382016632016632 mean train accuracy: 0.37628646245661046\n",
      "The groups difference are: [2.49762714 2.50008    2.54384092 2.4665493  2.55702179]\n",
      "Begin group  0 training\n"
     ]
    },
    {
     "name": "stderr",
     "output_type": "stream",
     "text": [
      "Epoch:   0%|                                                                                     | 0/20 [00:00<?, ?it/s]"
     ]
    },
    {
     "name": "stdout",
     "output_type": "stream",
     "text": [
      "Begin group  1 training\n"
     ]
    },
    {
     "name": "stderr",
     "output_type": "stream",
     "text": [
      "Epoch:  25%|███████████████████▎                                                         | 5/20 [00:00<00:00, 47.59it/s]"
     ]
    },
    {
     "name": "stdout",
     "output_type": "stream",
     "text": [
      "Begin group  2 training\n"
     ]
    },
    {
     "name": "stderr",
     "output_type": "stream",
     "text": [
      "Epoch:  60%|█████████████████████████████████████████████                              | 12/20 [00:00<00:00, 113.75it/s]"
     ]
    },
    {
     "name": "stdout",
     "output_type": "stream",
     "text": [
      "Begin group  3 training\n"
     ]
    },
    {
     "name": "stderr",
     "output_type": "stream",
     "text": [
      "Epoch:   0%|                                                                                     | 0/20 [00:00<?, ?it/s]"
     ]
    },
    {
     "name": "stdout",
     "output_type": "stream",
     "text": [
      "Begin group  4 training\n"
     ]
    },
    {
     "name": "stderr",
     "output_type": "stream",
     "text": [
      "                                                                                                                        \r"
     ]
    },
    {
     "name": "stdout",
     "output_type": "stream",
     "text": [
      "Group 0, clients ['f_00193', 'f_00054', 'f_00013', 'f_00174', 'f_00044', 'f_00003', 'f_00113', 'f_00014']\n",
      "Group 1 is empty.\n",
      "Group 2, clients ['f_00112', 'f_00182', 'f_00012', 'f_00092', 'f_00002']\n",
      "Group 3, clients ['f_00085', 'f_00115', 'f_00035', 'f_00126']\n",
      "Group 4, clients ['f_00029', 'f_00199', 'f_00010']\n"
     ]
    },
    {
     "name": "stderr",
     "output_type": "stream",
     "text": [
      "Epoch:   0%|                                                                                     | 0/20 [00:00<?, ?it/s]"
     ]
    },
    {
     "name": "stdout",
     "output_type": "stream",
     "text": [
      "Group 0\n",
      "At round 2 accuracy: 0.7167487684729064\n",
      "At round 2 training accuracy: 0.7100986651189786\n",
      "At round 2 training loss: 2.0276526003228463\n",
      "Group 1\n",
      "At round 2 accuracy: 0.39156626506024095\n",
      "At round 2 training accuracy: 0.3585174625801853\n",
      "At round 2 training loss: 2.6210615609852823\n",
      "Group 2\n",
      "At round 2 accuracy: 0.5414141414141415\n",
      "At round 2 training accuracy: 0.5577372604020571\n",
      "At round 2 training loss: 1.072624196385936\n",
      "Group 3\n",
      "At round 2 accuracy: 0.5226586102719033\n",
      "At round 2 training accuracy: 0.5209302325581395\n",
      "At round 2 training loss: 1.3631688932186803\n",
      "Group 4\n",
      "At round 2 accuracy: 0.6222222222222222\n",
      "At round 2 training accuracy: 0.625\n",
      "At round 2 training loss: 1.0493110701326251\n",
      "At round 2 mean test accuracy: 0.5644490644490644 mean train accuracy: 0.5620851348882528\n",
      "The groups difference are: [3.60181158 3.58900153 3.69305736 3.58540278 3.55849163]\n",
      "Begin group  0 training\n"
     ]
    },
    {
     "name": "stderr",
     "output_type": "stream",
     "text": [
      "Epoch:   0%|                                                                                     | 0/20 [00:00<?, ?it/s]"
     ]
    },
    {
     "name": "stdout",
     "output_type": "stream",
     "text": [
      "Begin group  2 training\n"
     ]
    },
    {
     "name": "stderr",
     "output_type": "stream",
     "text": [
      "Epoch:   0%|                                                                                     | 0/20 [00:00<?, ?it/s]"
     ]
    },
    {
     "name": "stdout",
     "output_type": "stream",
     "text": [
      "Begin group  3 training\n"
     ]
    },
    {
     "name": "stderr",
     "output_type": "stream",
     "text": [
      "Epoch:   0%|                                                                                     | 0/20 [00:00<?, ?it/s]"
     ]
    },
    {
     "name": "stdout",
     "output_type": "stream",
     "text": [
      "Begin group  4 training\n"
     ]
    },
    {
     "name": "stderr",
     "output_type": "stream",
     "text": [
      "                                                                                                                        \r"
     ]
    },
    {
     "name": "stdout",
     "output_type": "stream",
     "text": [
      "Group 0, clients ['f_00183', 'f_00083', 'f_00173', 'f_00003']\n",
      "Group 1, clients ['f_00197', 'f_00058']\n",
      "Group 2, clients ['f_00051', 'f_00082', 'f_00041']\n",
      "Group 3, clients ['f_00046', 'f_00025', 'f_00095']\n",
      "Group 4, clients ['f_00040', 'f_00139', 'f_00170', 'f_00070', 'f_00100', 'f_00179', 'f_00190', 'f_00159']\n"
     ]
    },
    {
     "name": "stderr",
     "output_type": "stream",
     "text": [
      "Epoch:   0%|                                                                                     | 0/20 [00:00<?, ?it/s]"
     ]
    },
    {
     "name": "stdout",
     "output_type": "stream",
     "text": [
      "Group 0\n",
      "At round 3 accuracy: 0.6724137931034483\n",
      "At round 3 training accuracy: 0.6474172954149738\n",
      "At round 3 training loss: 1.3650910149323545\n",
      "Group 1\n",
      "At round 3 accuracy: 0.39156626506024095\n",
      "At round 3 training accuracy: 0.3585174625801853\n",
      "At round 3 training loss: 2.617325621337782\n",
      "Group 2\n",
      "At round 3 accuracy: 0.705050505050505\n",
      "At round 3 training accuracy: 0.7087424029920524\n",
      "At round 3 training loss: 0.9898853739353473\n",
      "Group 3\n",
      "At round 3 accuracy: 0.5226586102719033\n",
      "At round 3 training accuracy: 0.5216457960644008\n",
      "At round 3 training loss: 1.5473921666844799\n",
      "Group 4\n",
      "At round 3 accuracy: 0.6222222222222222\n",
      "At round 3 training accuracy: 0.6246770025839793\n",
      "At round 3 training loss: 1.321461838499212\n",
      "At round 3 mean test accuracy: 0.5971933471933472 mean train accuracy: 0.5883320138846598\n",
      "The groups difference are: [4.26330756 4.19989393 4.39651901 4.30511784 4.32132451]\n",
      "Begin group  0 training\n"
     ]
    },
    {
     "name": "stderr",
     "output_type": "stream",
     "text": [
      "Epoch:   0%|                                                                                     | 0/20 [00:00<?, ?it/s]"
     ]
    },
    {
     "name": "stdout",
     "output_type": "stream",
     "text": [
      "Begin group  1 training\n"
     ]
    },
    {
     "name": "stderr",
     "output_type": "stream",
     "text": [
      "Epoch:   0%|                                                                                     | 0/20 [00:00<?, ?it/s]"
     ]
    },
    {
     "name": "stdout",
     "output_type": "stream",
     "text": [
      "Begin group  2 training\n"
     ]
    },
    {
     "name": "stderr",
     "output_type": "stream",
     "text": [
      "Epoch:  70%|████████████████████████████████████████████████████▌                      | 14/20 [00:00<00:00, 134.10it/s]"
     ]
    },
    {
     "name": "stdout",
     "output_type": "stream",
     "text": [
      "Begin group  3 training\n"
     ]
    },
    {
     "name": "stderr",
     "output_type": "stream",
     "text": [
      "Epoch:   0%|                                                                                     | 0/20 [00:00<?, ?it/s]"
     ]
    },
    {
     "name": "stdout",
     "output_type": "stream",
     "text": [
      "Begin group  4 training\n"
     ]
    },
    {
     "name": "stderr",
     "output_type": "stream",
     "text": [
      "                                                                                                                        \r"
     ]
    },
    {
     "name": "stdout",
     "output_type": "stream",
     "text": [
      "Group 0, clients ['f_00123', 'f_00184', 'f_00033', 'f_00084']\n",
      "Group 1, clients ['f_00128', 'f_00177', 'f_00088', 'f_00187', 'f_00188', 'f_00138']\n",
      "Group 2, clients ['f_00011', 'f_00001', 'f_00111', 'f_00061', 'f_00191', 'f_00171']\n",
      "Group 3, clients ['f_00175']\n",
      "Group 4, clients ['f_00099', 'f_00090', 'f_00199']\n"
     ]
    },
    {
     "name": "stderr",
     "output_type": "stream",
     "text": [
      "Epoch:  20%|███████████████▍                                                             | 4/20 [00:00<00:00, 30.57it/s]"
     ]
    },
    {
     "name": "stdout",
     "output_type": "stream",
     "text": [
      "Group 0\n",
      "At round 4 accuracy: 0.5640394088669951\n",
      "At round 4 training accuracy: 0.573128264654672\n",
      "At round 4 training loss: 1.4355475169866498\n",
      "Group 1\n",
      "At round 4 accuracy: 0.6234939759036144\n",
      "At round 4 training accuracy: 0.620456165359943\n",
      "At round 4 training loss: 1.2310239980242885\n",
      "Group 2\n",
      "At round 4 accuracy: 0.6282828282828283\n",
      "At round 4 training accuracy: 0.634174848059841\n",
      "At round 4 training loss: 1.1855498952473251\n",
      "Group 3\n",
      "At round 4 accuracy: 0.6676737160120846\n",
      "At round 4 training accuracy: 0.6536672629695885\n",
      "At round 4 training loss: 1.24940369004427\n",
      "Group 4\n",
      "At round 4 accuracy: 0.65\n",
      "At round 4 training accuracy: 0.6537467700258398\n",
      "At round 4 training loss: 1.012818738067335\n",
      "At round 4 mean test accuracy: 0.6247401247401247 mean train accuracy: 0.6260276475245113\n",
      "The groups difference are: [4.82767161 4.79452928 4.9496778  4.8860111  4.93778982]\n",
      "Begin group  0 training\n"
     ]
    },
    {
     "name": "stderr",
     "output_type": "stream",
     "text": [
      "Epoch:  35%|██████████████████████████▉                                                  | 7/20 [00:00<00:00, 69.85it/s]"
     ]
    },
    {
     "name": "stdout",
     "output_type": "stream",
     "text": [
      "Begin group  1 training\n"
     ]
    },
    {
     "name": "stderr",
     "output_type": "stream",
     "text": [
      "Epoch:   0%|                                                                                     | 0/20 [00:00<?, ?it/s]"
     ]
    },
    {
     "name": "stdout",
     "output_type": "stream",
     "text": [
      "Begin group  2 training\n"
     ]
    },
    {
     "name": "stderr",
     "output_type": "stream",
     "text": [
      "Epoch:   0%|                                                                                     | 0/20 [00:00<?, ?it/s]"
     ]
    },
    {
     "name": "stdout",
     "output_type": "stream",
     "text": [
      "Begin group  3 training\n",
      "Begin group  4 training\n"
     ]
    },
    {
     "name": "stderr",
     "output_type": "stream",
     "text": [
      "                                                                                                                        \r"
     ]
    },
    {
     "name": "stdout",
     "output_type": "stream",
     "text": [
      "Group 0, clients ['f_00154', 'f_00034', 'f_00104', 'f_00003', 'f_00134']\n",
      "Group 1, clients ['f_00077', 'f_00148', 'f_00028', 'f_00188', 'f_00117']\n",
      "Group 2, clients ['f_00151', 'f_00122', 'f_00071', 'f_00021']\n",
      "Group 3, clients ['f_00006', 'f_00055']\n",
      "Group 4, clients ['f_00119', 'f_00149', 'f_00040', 'f_00039']\n"
     ]
    },
    {
     "name": "stderr",
     "output_type": "stream",
     "text": [
      "Epoch:  35%|██████████████████████████▉                                                  | 7/20 [00:00<00:00, 60.22it/s]"
     ]
    },
    {
     "name": "stdout",
     "output_type": "stream",
     "text": [
      "Group 0\n",
      "At round 5 accuracy: 0.33004926108374383\n",
      "At round 5 training accuracy: 0.3482298316889147\n",
      "At round 5 training loss: 2.2896939739195745\n",
      "Group 1\n",
      "At round 5 accuracy: 0.5783132530120482\n",
      "At round 5 training accuracy: 0.5591589451176051\n",
      "At round 5 training loss: 1.2447538298109304\n",
      "Group 2\n",
      "At round 5 accuracy: 0.6424242424242425\n",
      "At round 5 training accuracy: 0.6467975689574568\n",
      "At round 5 training loss: 1.6208421210434014\n",
      "Group 3\n",
      "At round 5 accuracy: 0.27794561933534745\n",
      "At round 5 training accuracy: 0.25509838998211093\n",
      "At round 5 training loss: 2.2895949474387605\n",
      "Group 4\n",
      "At round 5 accuracy: 0.6333333333333333\n",
      "At round 5 training accuracy: 0.6304909560723514\n",
      "At round 5 training loss: 0.91737973564894\n",
      "At round 5 mean test accuracy: 0.501039501039501 mean train accuracy: 0.4994214725047196\n",
      "The groups difference are: [5.51860525 5.45998326 5.55070038 5.50972056 5.59341076]\n",
      "Begin group  0 training\n"
     ]
    },
    {
     "name": "stderr",
     "output_type": "stream",
     "text": [
      "Epoch:   0%|                                                                                     | 0/20 [00:00<?, ?it/s]"
     ]
    },
    {
     "name": "stdout",
     "output_type": "stream",
     "text": [
      "Begin group  1 training\n"
     ]
    },
    {
     "name": "stderr",
     "output_type": "stream",
     "text": [
      "Epoch:  25%|███████████████████▎                                                         | 5/20 [00:00<00:00, 45.39it/s]"
     ]
    },
    {
     "name": "stdout",
     "output_type": "stream",
     "text": [
      "Begin group  2 training\n"
     ]
    },
    {
     "name": "stderr",
     "output_type": "stream",
     "text": [
      "                                                                                                                        "
     ]
    },
    {
     "name": "stdout",
     "output_type": "stream",
     "text": [
      "Begin group  3 training\n"
     ]
    },
    {
     "name": "stderr",
     "output_type": "stream",
     "text": [
      "Epoch:   0%|                                                                                     | 0/20 [00:00<?, ?it/s]"
     ]
    },
    {
     "name": "stdout",
     "output_type": "stream",
     "text": [
      "Begin group  4 training\n"
     ]
    },
    {
     "name": "stderr",
     "output_type": "stream",
     "text": [
      "                                                                                                                        \r"
     ]
    },
    {
     "name": "stdout",
     "output_type": "stream",
     "text": [
      "Group 0, clients ['f_00134', 'f_00093', 'f_00004', 'f_00094', 'f_00013']\n",
      "Group 1, clients ['f_00118', 'f_00088', 'f_00108', 'f_00158']\n",
      "Group 2, clients ['f_00011', 'f_00152', 'f_00151', 'f_00081']\n",
      "Group 3, clients ['f_00145', 'f_00006', 'f_00156', 'f_00115']\n",
      "Group 4, clients ['f_00149', 'f_00019', 'f_00030']\n"
     ]
    },
    {
     "name": "stderr",
     "output_type": "stream",
     "text": [
      "Epoch:  55%|█████████████████████████████████████████▎                                 | 11/20 [00:00<00:00, 102.26it/s]"
     ]
    },
    {
     "name": "stdout",
     "output_type": "stream",
     "text": [
      "Group 0\n",
      "At round 6 accuracy: 0.7315270935960592\n",
      "At round 6 training accuracy: 0.7202553685432386\n",
      "At round 6 training loss: 1.2985152951503864\n",
      "Group 1\n",
      "At round 6 accuracy: 0.6234939759036144\n",
      "At round 6 training accuracy: 0.6104775481111903\n",
      "At round 6 training loss: 1.0339948193608908\n",
      "Group 2\n",
      "At round 6 accuracy: 0.7414141414141414\n",
      "At round 6 training accuracy: 0.7438055165965405\n",
      "At round 6 training loss: 0.6790995783424645\n",
      "Group 3\n",
      "At round 6 accuracy: 0.513595166163142\n",
      "At round 6 training accuracy: 0.5180679785330948\n",
      "At round 6 training loss: 1.1438342506642418\n",
      "Group 4\n",
      "At round 6 accuracy: 0.725\n",
      "At round 6 training accuracy: 0.6931524547803618\n",
      "At round 6 training loss: 1.2026702672031344\n",
      "At round 6 mean test accuracy: 0.6767151767151767 mean train accuracy: 0.6681079106022776\n",
      "The groups difference are: [6.01197216 5.92350225 6.07442896 5.96654039 6.07046067]\n",
      "Begin group  0 training\n"
     ]
    },
    {
     "name": "stderr",
     "output_type": "stream",
     "text": [
      "Epoch:  25%|███████████████████▎                                                         | 5/20 [00:00<00:00, 48.01it/s]"
     ]
    },
    {
     "name": "stdout",
     "output_type": "stream",
     "text": [
      "Begin group  1 training\n"
     ]
    },
    {
     "name": "stderr",
     "output_type": "stream",
     "text": [
      "Epoch:   0%|                                                                                     | 0/20 [00:00<?, ?it/s]"
     ]
    },
    {
     "name": "stdout",
     "output_type": "stream",
     "text": [
      "Begin group  2 training\n"
     ]
    },
    {
     "name": "stderr",
     "output_type": "stream",
     "text": [
      "Epoch:   0%|                                                                                     | 0/20 [00:00<?, ?it/s]"
     ]
    },
    {
     "name": "stdout",
     "output_type": "stream",
     "text": [
      "Begin group  3 training\n"
     ]
    },
    {
     "name": "stderr",
     "output_type": "stream",
     "text": [
      "Epoch:   0%|                                                                                     | 0/20 [00:00<?, ?it/s]"
     ]
    },
    {
     "name": "stdout",
     "output_type": "stream",
     "text": [
      "Begin group  4 training\n"
     ]
    },
    {
     "name": "stderr",
     "output_type": "stream",
     "text": [
      "                                                                                                                        \r"
     ]
    },
    {
     "name": "stdout",
     "output_type": "stream",
     "text": [
      "Group 0, clients ['f_00094', 'f_00063', 'f_00024', 'f_00153']\n",
      "Group 1, clients ['f_00108', 'f_00138', 'f_00188']\n",
      "Group 2, clients ['f_00022', 'f_00011', 'f_00002', 'f_00121']\n",
      "Group 3, clients ['f_00086', 'f_00195', 'f_00066', 'f_00096', 'f_00065', 'f_00155', 'f_00046']\n",
      "Group 4, clients ['f_00120', 'f_00099']\n"
     ]
    },
    {
     "name": "stderr",
     "output_type": "stream",
     "text": [
      "Epoch:  45%|██████████████████████████████████▋                                          | 9/20 [00:00<00:00, 82.98it/s]"
     ]
    },
    {
     "name": "stdout",
     "output_type": "stream",
     "text": [
      "Group 0\n",
      "At round 7 accuracy: 0.6995073891625616\n",
      "At round 7 training accuracy: 0.6807893209518282\n",
      "At round 7 training loss: 1.0121162656048184\n",
      "Group 1\n",
      "At round 7 accuracy: 0.6927710843373494\n",
      "At round 7 training accuracy: 0.6525302922309337\n",
      "At round 7 training loss: 1.3920860414154939\n",
      "Group 2\n",
      "At round 7 accuracy: 0.6484848484848484\n",
      "At round 7 training accuracy: 0.6510051425899953\n",
      "At round 7 training loss: 0.8263880144412855\n",
      "Group 3\n",
      "At round 7 accuracy: 0.6858006042296072\n",
      "At round 7 training accuracy: 0.6644007155635062\n",
      "At round 7 training loss: 0.8653551194237042\n",
      "Group 4\n",
      "At round 7 accuracy: 0.7388888888888889\n",
      "At round 7 training accuracy: 0.7196382428940569\n",
      "At round 7 training loss: 1.1612729425866937\n",
      "At round 7 mean test accuracy: 0.6902286902286903 mean train accuracy: 0.6727361305645211\n",
      "The groups difference are: [6.52722033 6.45581116 6.58234101 6.47624756 6.54287711]\n",
      "Begin group  0 training\n"
     ]
    },
    {
     "name": "stderr",
     "output_type": "stream",
     "text": [
      "Epoch:  50%|██████████████████████████████████████                                      | 10/20 [00:00<00:00, 91.33it/s]"
     ]
    },
    {
     "name": "stdout",
     "output_type": "stream",
     "text": [
      "Begin group  1 training\n"
     ]
    },
    {
     "name": "stderr",
     "output_type": "stream",
     "text": [
      "Epoch:   0%|                                                                                     | 0/20 [00:00<?, ?it/s]"
     ]
    },
    {
     "name": "stdout",
     "output_type": "stream",
     "text": [
      "Begin group  2 training\n"
     ]
    },
    {
     "name": "stderr",
     "output_type": "stream",
     "text": [
      "Epoch:   0%|                                                                                     | 0/20 [00:00<?, ?it/s]"
     ]
    },
    {
     "name": "stdout",
     "output_type": "stream",
     "text": [
      "Begin group  3 training\n"
     ]
    },
    {
     "name": "stderr",
     "output_type": "stream",
     "text": [
      "Epoch:   0%|                                                                                     | 0/20 [00:00<?, ?it/s]"
     ]
    },
    {
     "name": "stdout",
     "output_type": "stream",
     "text": [
      "Begin group  4 training\n"
     ]
    },
    {
     "name": "stderr",
     "output_type": "stream",
     "text": [
      "                                                                                                                        \r"
     ]
    },
    {
     "name": "stdout",
     "output_type": "stream",
     "text": [
      "Group 0, clients ['f_00193', 'f_00103']\n",
      "Group 1, clients ['f_00067', 'f_00088', 'f_00128', 'f_00117', 'f_00169', 'f_00027']\n",
      "Group 2, clients ['f_00161', 'f_00181', 'f_00142', 'f_00151', 'f_00001']\n",
      "Group 3, clients ['f_00065', 'f_00146']\n",
      "Group 4, clients ['f_00069', 'f_00119', 'f_00190', 'f_00150', 'f_00000']\n"
     ]
    },
    {
     "name": "stderr",
     "output_type": "stream",
     "text": [
      "Epoch:   0%|                                                                                     | 0/20 [00:00<?, ?it/s]"
     ]
    },
    {
     "name": "stdout",
     "output_type": "stream",
     "text": [
      "Group 0\n",
      "At round 8 accuracy: 0.6970443349753694\n",
      "At round 8 training accuracy: 0.69413813116657\n",
      "At round 8 training loss: 0.8808938272024959\n",
      "Group 1\n",
      "At round 8 accuracy: 0.6686746987951807\n",
      "At round 8 training accuracy: 0.6404133998574483\n",
      "At round 8 training loss: 1.6170407949773566\n",
      "Group 2\n",
      "At round 8 accuracy: 0.6888888888888889\n",
      "At round 8 training accuracy: 0.7005610098176718\n",
      "At round 8 training loss: 0.7292875652700008\n",
      "Group 3\n",
      "At round 8 accuracy: 0.6374622356495468\n",
      "At round 8 training accuracy: 0.6325581395348837\n",
      "At round 8 training loss: 1.0332364412134576\n",
      "Group 4\n",
      "At round 8 accuracy: 0.6555555555555556\n",
      "At round 8 training accuracy: 0.6543927648578811\n",
      "At round 8 training loss: 0.8081930023870727\n",
      "At round 8 mean test accuracy: 0.672037422037422 mean train accuracy: 0.668655989282017\n",
      "The groups difference are: [6.95378648 6.88285792 7.01468007 6.92079395 6.94516419]\n",
      "Begin group  0 training\n"
     ]
    },
    {
     "name": "stderr",
     "output_type": "stream",
     "text": [
      "Epoch:  20%|███████████████▍                                                             | 4/20 [00:00<00:00, 33.29it/s]"
     ]
    },
    {
     "name": "stdout",
     "output_type": "stream",
     "text": [
      "Begin group  1 training\n"
     ]
    },
    {
     "name": "stderr",
     "output_type": "stream",
     "text": [
      "Epoch:   0%|                                                                                     | 0/20 [00:00<?, ?it/s]"
     ]
    },
    {
     "name": "stdout",
     "output_type": "stream",
     "text": [
      "Begin group  2 training\n"
     ]
    },
    {
     "name": "stderr",
     "output_type": "stream",
     "text": [
      "                                                                                                                        "
     ]
    },
    {
     "name": "stdout",
     "output_type": "stream",
     "text": [
      "Begin group  3 training\n"
     ]
    },
    {
     "name": "stderr",
     "output_type": "stream",
     "text": [
      "Epoch:   0%|                                                                                     | 0/20 [00:00<?, ?it/s]"
     ]
    },
    {
     "name": "stdout",
     "output_type": "stream",
     "text": [
      "Begin group  4 training\n"
     ]
    },
    {
     "name": "stderr",
     "output_type": "stream",
     "text": [
      "                                                                                                                        \r"
     ]
    },
    {
     "name": "stdout",
     "output_type": "stream",
     "text": [
      "Group 0, clients ['f_00084', 'f_00054', 'f_00123', 'f_00053', 'f_00103', 'f_00003', 'f_00163', 'f_00174']\n",
      "Group 1, clients ['f_00158', 'f_00027']\n",
      "Group 2, clients ['f_00101']\n",
      "Group 3, clients ['f_00156', 'f_00116', 'f_00037']\n",
      "Group 4, clients ['f_00060', 'f_00109', 'f_00140', 'f_00039', 'f_00100', 'f_00069']\n"
     ]
    },
    {
     "name": "stderr",
     "output_type": "stream",
     "text": [
      "Epoch:   0%|                                                                                     | 0/20 [00:00<?, ?it/s]"
     ]
    },
    {
     "name": "stdout",
     "output_type": "stream",
     "text": [
      "Group 0\n",
      "At round 9 accuracy: 0.7931034482758621\n",
      "At round 9 training accuracy: 0.7968659315147998\n",
      "At round 9 training loss: 1.0165617575807344\n",
      "Group 1\n",
      "At round 9 accuracy: 0.6746987951807228\n",
      "At round 9 training accuracy: 0.7017106200997861\n",
      "At round 9 training loss: 1.0259855152429722\n",
      "Group 2\n",
      "At round 9 accuracy: 0.6626262626262627\n",
      "At round 9 training accuracy: 0.6694717157550257\n",
      "At round 9 training loss: 0.9072695429593172\n",
      "Group 3\n",
      "At round 9 accuracy: 0.7673716012084593\n",
      "At round 9 training accuracy: 0.7395348837209302\n",
      "At round 9 training loss: 0.9164187465029667\n",
      "Group 4\n",
      "At round 9 accuracy: 0.6361111111111111\n",
      "At round 9 training accuracy: 0.6330749354005168\n",
      "At round 9 training loss: 0.9099853509887861\n",
      "At round 9 mean test accuracy: 0.7053014553014553 mean train accuracy: 0.7067779063394434\n",
      "The groups difference are: [7.28299117 7.25666527 7.3346961  7.25655219 7.29694537]\n",
      "Begin group  0 training\n"
     ]
    },
    {
     "name": "stderr",
     "output_type": "stream",
     "text": [
      "Epoch:   0%|                                                                                     | 0/20 [00:00<?, ?it/s]"
     ]
    },
    {
     "name": "stdout",
     "output_type": "stream",
     "text": [
      "Begin group  1 training\n"
     ]
    },
    {
     "name": "stderr",
     "output_type": "stream",
     "text": [
      "Epoch:   0%|                                                                                     | 0/20 [00:00<?, ?it/s]"
     ]
    },
    {
     "name": "stdout",
     "output_type": "stream",
     "text": [
      "Begin group  2 training\n",
      "Begin group  3 training\n"
     ]
    },
    {
     "name": "stderr",
     "output_type": "stream",
     "text": [
      "Epoch:   0%|                                                                                     | 0/20 [00:00<?, ?it/s]"
     ]
    },
    {
     "name": "stdout",
     "output_type": "stream",
     "text": [
      "Begin group  4 training\n"
     ]
    },
    {
     "name": "stderr",
     "output_type": "stream",
     "text": [
      "                                                                                                                        \r"
     ]
    },
    {
     "name": "stdout",
     "output_type": "stream",
     "text": [
      "Group 0, clients ['f_00124', 'f_00063']\n",
      "Group 1, clients ['f_00059', 'f_00198', 'f_00098', 'f_00078']\n",
      "Group 2, clients ['f_00052', 'f_00162', 'f_00002', 'f_00142', 'f_00111']\n",
      "Group 3, clients ['f_00005', 'f_00055', 'f_00075', 'f_00185']\n",
      "Group 4, clients ['f_00020', 'f_00019', 'f_00069', 'f_00010', 'f_00109']\n"
     ]
    },
    {
     "name": "stderr",
     "output_type": "stream",
     "text": [
      "Epoch:  30%|███████████████████████                                                      | 6/20 [00:00<00:00, 51.55it/s]"
     ]
    },
    {
     "name": "stdout",
     "output_type": "stream",
     "text": [
      "Group 0\n",
      "At round 10 accuracy: 0.7906403940886699\n",
      "At round 10 training accuracy: 0.7869994196169472\n",
      "At round 10 training loss: 1.1136848508524673\n",
      "Group 1\n",
      "At round 10 accuracy: 0.5873493975903614\n",
      "At round 10 training accuracy: 0.5709194583036351\n",
      "At round 10 training loss: 1.2141258906166807\n",
      "Group 2\n",
      "At round 10 accuracy: 0.705050505050505\n",
      "At round 10 training accuracy: 0.7035998129967275\n",
      "At round 10 training loss: 1.297286354412872\n",
      "Group 3\n",
      "At round 10 accuracy: 0.5981873111782477\n",
      "At round 10 training accuracy: 0.6143112701252236\n",
      "At round 10 training loss: 1.3140663852738566\n",
      "Group 4\n",
      "At round 10 accuracy: 0.6722222222222223\n",
      "At round 10 training accuracy: 0.6689276485788114\n",
      "At round 10 training loss: 0.7068650872574143\n",
      "At round 10 mean test accuracy: 0.6782744282744283 mean train accuracy: 0.6766944765848608\n",
      "The groups difference are: [7.69100446 7.59444241 7.67176757 7.60982826 7.65019113]\n",
      "Begin group  0 training\n"
     ]
    },
    {
     "name": "stderr",
     "output_type": "stream",
     "text": [
      "                                                                                                                        "
     ]
    },
    {
     "name": "stdout",
     "output_type": "stream",
     "text": [
      "Begin group  1 training\n"
     ]
    },
    {
     "name": "stderr",
     "output_type": "stream",
     "text": [
      "Epoch:  30%|███████████████████████                                                      | 6/20 [00:00<00:00, 54.68it/s]"
     ]
    },
    {
     "name": "stdout",
     "output_type": "stream",
     "text": [
      "Begin group  2 training\n"
     ]
    },
    {
     "name": "stderr",
     "output_type": "stream",
     "text": [
      "Epoch:  25%|███████████████████▎                                                         | 5/20 [00:00<00:00, 44.90it/s]"
     ]
    },
    {
     "name": "stdout",
     "output_type": "stream",
     "text": [
      "Begin group  3 training\n"
     ]
    },
    {
     "name": "stderr",
     "output_type": "stream",
     "text": [
      "Epoch:   0%|                                                                                     | 0/20 [00:00<?, ?it/s]"
     ]
    },
    {
     "name": "stdout",
     "output_type": "stream",
     "text": [
      "Begin group  4 training\n"
     ]
    },
    {
     "name": "stderr",
     "output_type": "stream",
     "text": [
      "                                                                                                                        \r"
     ]
    },
    {
     "name": "stdout",
     "output_type": "stream",
     "text": [
      "Group 0, clients ['f_00174', 'f_00033', 'f_00173', 'f_00053', 'f_00134', 'f_00143', 'f_00094', 'f_00073', 'f_00014', 'f_00063']\n",
      "Group 1 is empty.\n",
      "Group 2, clients ['f_00022', 'f_00041', 'f_00111']\n",
      "Group 3, clients ['f_00186', 'f_00056', 'f_00055', 'f_00016']\n",
      "Group 4, clients ['f_00130', 'f_00060', 'f_00000']\n"
     ]
    },
    {
     "name": "stderr",
     "output_type": "stream",
     "text": [
      "Epoch:   0%|                                                                                     | 0/20 [00:00<?, ?it/s]"
     ]
    },
    {
     "name": "stdout",
     "output_type": "stream",
     "text": [
      "Group 0\n",
      "At round 11 accuracy: 0.7561576354679803\n",
      "At round 11 training accuracy: 0.7681369704004644\n",
      "At round 11 training loss: 0.7631776448051665\n",
      "Group 1\n",
      "At round 11 accuracy: 0.7048192771084337\n",
      "At round 11 training accuracy: 0.6699928724162509\n",
      "At round 11 training loss: 1.3474451578457867\n",
      "Group 2\n",
      "At round 11 accuracy: 0.802020202020202\n",
      "At round 11 training accuracy: 0.7940626460963067\n",
      "At round 11 training loss: 0.5856980833774864\n",
      "Group 3\n",
      "At round 11 accuracy: 0.7734138972809668\n",
      "At round 11 training accuracy: 0.7513416815742398\n",
      "At round 11 training loss: 1.0527031777529896\n",
      "Group 4\n",
      "At round 11 accuracy: 0.6805555555555556\n",
      "At round 11 training accuracy: 0.6857235142118863\n",
      "At round 11 training loss: 0.6896905969992011\n",
      "At round 11 mean test accuracy: 0.747920997920998 mean train accuracy: 0.739723524754887\n",
      "The groups difference are: [8.10929056 8.04830172 8.11147423 8.07349663 8.09233803]\n",
      "Begin group  0 training\n"
     ]
    },
    {
     "name": "stderr",
     "output_type": "stream",
     "text": [
      "Epoch:   0%|                                                                                     | 0/20 [00:00<?, ?it/s]"
     ]
    },
    {
     "name": "stdout",
     "output_type": "stream",
     "text": [
      "Begin group  2 training\n"
     ]
    },
    {
     "name": "stderr",
     "output_type": "stream",
     "text": [
      "Epoch:   0%|                                                                                     | 0/20 [00:00<?, ?it/s]"
     ]
    },
    {
     "name": "stdout",
     "output_type": "stream",
     "text": [
      "Begin group  3 training\n"
     ]
    },
    {
     "name": "stderr",
     "output_type": "stream",
     "text": [
      "Epoch:   0%|                                                                                     | 0/20 [00:00<?, ?it/s]"
     ]
    },
    {
     "name": "stdout",
     "output_type": "stream",
     "text": [
      "Begin group  4 training\n"
     ]
    },
    {
     "name": "stderr",
     "output_type": "stream",
     "text": [
      "                                                                                                                        \r"
     ]
    },
    {
     "name": "stdout",
     "output_type": "stream",
     "text": [
      "Group 0, clients ['f_00023', 'f_00172', 'f_00063', 'f_00164', 'f_00173']\n",
      "Group 1, clients ['f_00007', 'f_00098', 'f_00138']\n",
      "Group 2, clients ['f_00182', 'f_00021', 'f_00011', 'f_00061', 'f_00032', 'f_00132', 'f_00031', 'f_00181']\n",
      "Group 3, clients ['f_00095', 'f_00016', 'f_00085']\n",
      "Group 4, clients ['f_00120']\n"
     ]
    },
    {
     "name": "stderr",
     "output_type": "stream",
     "text": [
      "Epoch:  30%|███████████████████████                                                      | 6/20 [00:00<00:00, 57.85it/s]"
     ]
    },
    {
     "name": "stdout",
     "output_type": "stream",
     "text": [
      "Group 0\n",
      "At round 12 accuracy: 0.7881773399014779\n",
      "At round 12 training accuracy: 0.7867092280905398\n",
      "At round 12 training loss: 0.7663271408733489\n",
      "Group 1\n",
      "At round 12 accuracy: 0.7048192771084337\n",
      "At round 12 training accuracy: 0.6699928724162509\n",
      "At round 12 training loss: 1.3461152538285457\n",
      "Group 2\n",
      "At round 12 accuracy: 0.703030303030303\n",
      "At round 12 training accuracy: 0.6912108461898083\n",
      "At round 12 training loss: 0.715520040649797\n",
      "Group 3\n",
      "At round 12 accuracy: 0.7764350453172205\n",
      "At round 12 training accuracy: 0.7635062611806798\n",
      "At round 12 training loss: 0.7212593617934021\n",
      "Group 4\n",
      "At round 12 accuracy: 0.7722222222222223\n",
      "At round 12 training accuracy: 0.7929586563307494\n",
      "At round 12 training loss: 0.8006269022514346\n",
      "At round 12 mean test accuracy: 0.7468814968814969 mean train accuracy: 0.7391145484440655\n",
      "The groups difference are: [8.33143127 8.2124069  8.28829168 8.26383871 8.27618954]\n",
      "Begin group  0 training\n"
     ]
    },
    {
     "name": "stderr",
     "output_type": "stream",
     "text": [
      "Epoch:   0%|                                                                                     | 0/20 [00:00<?, ?it/s]"
     ]
    },
    {
     "name": "stdout",
     "output_type": "stream",
     "text": [
      "Begin group  1 training\n"
     ]
    },
    {
     "name": "stderr",
     "output_type": "stream",
     "text": [
      "Epoch:   0%|                                                                                     | 0/20 [00:00<?, ?it/s]"
     ]
    },
    {
     "name": "stdout",
     "output_type": "stream",
     "text": [
      "Begin group  2 training\n"
     ]
    },
    {
     "name": "stderr",
     "output_type": "stream",
     "text": [
      "Epoch:   0%|                                                                                     | 0/20 [00:00<?, ?it/s]"
     ]
    },
    {
     "name": "stdout",
     "output_type": "stream",
     "text": [
      "Begin group  3 training\n"
     ]
    },
    {
     "name": "stderr",
     "output_type": "stream",
     "text": [
      "                                                                                                                        "
     ]
    },
    {
     "name": "stdout",
     "output_type": "stream",
     "text": [
      "Begin group  4 training\n"
     ]
    },
    {
     "name": "stderr",
     "output_type": "stream",
     "text": [
      "\r"
     ]
    },
    {
     "name": "stdout",
     "output_type": "stream",
     "text": [
      "Group 0, clients ['f_00023', 'f_00033', 'f_00104']\n",
      "Group 1, clients ['f_00198', 'f_00128', 'f_00097', 'f_00089']\n",
      "Group 2, clients ['f_00042', 'f_00102', 'f_00132']\n",
      "Group 3, clients ['f_00155', 'f_00096', 'f_00095', 'f_00106', 'f_00065']\n",
      "Group 4, clients ['f_00179', 'f_00159', 'f_00110', 'f_00079', 'f_00070']\n"
     ]
    },
    {
     "name": "stderr",
     "output_type": "stream",
     "text": [
      "Epoch:  30%|███████████████████████                                                      | 6/20 [00:00<00:00, 56.24it/s]"
     ]
    },
    {
     "name": "stdout",
     "output_type": "stream",
     "text": [
      "Group 0\n",
      "At round 13 accuracy: 0.8152709359605911\n",
      "At round 13 training accuracy: 0.8238537434706906\n",
      "At round 13 training loss: 0.6153302818657835\n",
      "Group 1\n",
      "At round 13 accuracy: 0.6987951807228916\n",
      "At round 13 training accuracy: 0.6685673556664291\n",
      "At round 13 training loss: 1.4176295892689283\n",
      "Group 2\n",
      "At round 13 accuracy: 0.6828282828282828\n",
      "At round 13 training accuracy: 0.6916783543712015\n",
      "At round 13 training loss: 0.7926662104285281\n",
      "Group 3\n",
      "At round 13 accuracy: 0.7885196374622356\n",
      "At round 13 training accuracy: 0.764221824686941\n",
      "At round 13 training loss: 0.7312188052747245\n",
      "Group 4\n",
      "At round 13 accuracy: 0.7805555555555556\n",
      "At round 13 training accuracy: 0.789405684754522\n",
      "At round 13 training loss: 0.9364965337085555\n",
      "At round 13 mean test accuracy: 0.75 mean train accuracy: 0.7462395712806772\n",
      "The groups difference are: [8.63070845 8.53306408 8.56048752 8.55989033 8.56784925]\n",
      "Begin group  0 training\n"
     ]
    },
    {
     "name": "stderr",
     "output_type": "stream",
     "text": [
      "Epoch:   0%|                                                                                     | 0/20 [00:00<?, ?it/s]"
     ]
    },
    {
     "name": "stdout",
     "output_type": "stream",
     "text": [
      "Begin group  1 training\n"
     ]
    },
    {
     "name": "stderr",
     "output_type": "stream",
     "text": [
      "Epoch:   0%|                                                                                     | 0/20 [00:00<?, ?it/s]"
     ]
    },
    {
     "name": "stdout",
     "output_type": "stream",
     "text": [
      "Begin group  2 training\n"
     ]
    },
    {
     "name": "stderr",
     "output_type": "stream",
     "text": [
      "Epoch:  55%|█████████████████████████████████████████▎                                 | 11/20 [00:00<00:00, 108.48it/s]"
     ]
    },
    {
     "name": "stdout",
     "output_type": "stream",
     "text": [
      "Begin group  3 training\n"
     ]
    },
    {
     "name": "stderr",
     "output_type": "stream",
     "text": [
      "Epoch:   0%|                                                                                     | 0/20 [00:00<?, ?it/s]"
     ]
    },
    {
     "name": "stdout",
     "output_type": "stream",
     "text": [
      "Begin group  4 training\n"
     ]
    },
    {
     "name": "stderr",
     "output_type": "stream",
     "text": [
      "                                                                                                                        \r"
     ]
    },
    {
     "name": "stdout",
     "output_type": "stream",
     "text": [
      "Group 0, clients ['f_00114', 'f_00024', 'f_00093', 'f_00044', 'f_00064']\n",
      "Group 1, clients ['f_00198', 'f_00047', 'f_00157']\n",
      "Group 2, clients ['f_00151', 'f_00051', 'f_00112', 'f_00122']\n",
      "Group 3, clients ['f_00005', 'f_00015', 'f_00155', 'f_00006', 'f_00175']\n",
      "Group 4, clients ['f_00189', 'f_00069', 'f_00149']\n"
     ]
    },
    {
     "name": "stderr",
     "output_type": "stream",
     "text": [
      "Epoch:   0%|                                                                                     | 0/20 [00:00<?, ?it/s]"
     ]
    },
    {
     "name": "stdout",
     "output_type": "stream",
     "text": [
      "Group 0\n",
      "At round 14 accuracy: 0.7906403940886699\n",
      "At round 14 training accuracy: 0.798316889146837\n",
      "At round 14 training loss: 0.7359959861470113\n",
      "Group 1\n",
      "At round 14 accuracy: 0.6355421686746988\n",
      "At round 14 training accuracy: 0.6143977191732003\n",
      "At round 14 training loss: 1.2336502383627046\n",
      "Group 2\n",
      "At round 14 accuracy: 0.8\n",
      "At round 14 training accuracy: 0.810892940626461\n",
      "At round 14 training loss: 0.6006230081197758\n",
      "Group 3\n",
      "At round 14 accuracy: 0.7824773413897281\n",
      "At round 14 training accuracy: 0.792128801431127\n",
      "At round 14 training loss: 0.6020407940812529\n",
      "Group 4\n",
      "At round 14 accuracy: 0.7638888888888888\n",
      "At round 14 training accuracy: 0.75\n",
      "At round 14 training loss: 0.6504747748220921\n",
      "At round 14 mean test accuracy: 0.7598752598752598 mean train accuracy: 0.7600024359052433\n",
      "The groups difference are: [8.903872   8.77854754 8.83894728 8.83802534 8.85373574]\n",
      "Begin group  0 training\n"
     ]
    },
    {
     "name": "stderr",
     "output_type": "stream",
     "text": [
      "Epoch:   0%|                                                                                     | 0/20 [00:00<?, ?it/s]"
     ]
    },
    {
     "name": "stdout",
     "output_type": "stream",
     "text": [
      "Begin group  1 training\n"
     ]
    },
    {
     "name": "stderr",
     "output_type": "stream",
     "text": [
      "Epoch:   0%|                                                                                     | 0/20 [00:00<?, ?it/s]"
     ]
    },
    {
     "name": "stdout",
     "output_type": "stream",
     "text": [
      "Begin group  2 training\n"
     ]
    },
    {
     "name": "stderr",
     "output_type": "stream",
     "text": [
      "Epoch:  25%|███████████████████▎                                                         | 5/20 [00:00<00:00, 46.82it/s]"
     ]
    },
    {
     "name": "stdout",
     "output_type": "stream",
     "text": [
      "Begin group  3 training\n"
     ]
    },
    {
     "name": "stderr",
     "output_type": "stream",
     "text": [
      "Epoch:  45%|██████████████████████████████████▋                                          | 9/20 [00:00<00:00, 85.60it/s]"
     ]
    },
    {
     "name": "stdout",
     "output_type": "stream",
     "text": [
      "Begin group  4 training\n"
     ]
    },
    {
     "name": "stderr",
     "output_type": "stream",
     "text": [
      "                                                                                                                        \r"
     ]
    },
    {
     "name": "stdout",
     "output_type": "stream",
     "text": [
      "Group 0, clients ['f_00172', 'f_00072', 'f_00184']\n",
      "Group 1, clients ['f_00049', 'f_00127', 'f_00138', 'f_00057', 'f_00058', 'f_00198']\n",
      "Group 2, clients ['f_00191', 'f_00012', 'f_00192']\n",
      "Group 3, clients ['f_00146', 'f_00026', 'f_00115']\n",
      "Group 4, clients ['f_00040', 'f_00030', 'f_00170', 'f_00150', 'f_00009']\n"
     ]
    },
    {
     "name": "stderr",
     "output_type": "stream",
     "text": [
      "Epoch:  35%|██████████████████████████▉                                                  | 7/20 [00:00<00:00, 60.73it/s]"
     ]
    },
    {
     "name": "stdout",
     "output_type": "stream",
     "text": [
      "Group 0\n",
      "At round 15 accuracy: 0.7857142857142857\n",
      "At round 15 training accuracy: 0.7893209518282066\n",
      "At round 15 training loss: 0.693406967129461\n",
      "Group 1\n",
      "At round 15 accuracy: 0.7379518072289156\n",
      "At round 15 training accuracy: 0.7423378474697078\n",
      "At round 15 training loss: 0.7241146588805566\n",
      "Group 2\n",
      "At round 15 accuracy: 0.7797979797979798\n",
      "At round 15 training accuracy: 0.7793361383824217\n",
      "At round 15 training loss: 0.6524134326853335\n",
      "Group 3\n",
      "At round 15 accuracy: 0.8096676737160121\n",
      "At round 15 training accuracy: 0.7892665474060823\n",
      "At round 15 training loss: 0.8122527073715582\n",
      "Group 4\n",
      "At round 15 accuracy: 0.75\n",
      "At round 15 training accuracy: 0.7319121447028424\n",
      "At round 15 training loss: 1.128977610982319\n",
      "At round 15 mean test accuracy: 0.7733887733887734 mean train accuracy: 0.7678582303148408\n",
      "The groups difference are: [9.19498207 9.06786768 9.15459451 9.15559101 9.1697654 ]\n",
      "Begin group  0 training\n"
     ]
    },
    {
     "name": "stderr",
     "output_type": "stream",
     "text": [
      "Epoch:   0%|                                                                                     | 0/20 [00:00<?, ?it/s]"
     ]
    },
    {
     "name": "stdout",
     "output_type": "stream",
     "text": [
      "Begin group  1 training\n"
     ]
    },
    {
     "name": "stderr",
     "output_type": "stream",
     "text": [
      "Epoch:   0%|                                                                                     | 0/20 [00:00<?, ?it/s]"
     ]
    },
    {
     "name": "stdout",
     "output_type": "stream",
     "text": [
      "Begin group  2 training\n"
     ]
    },
    {
     "name": "stderr",
     "output_type": "stream",
     "text": [
      "Epoch:  65%|████████████████████████████████████████████████▊                          | 13/20 [00:00<00:00, 121.47it/s]"
     ]
    },
    {
     "name": "stdout",
     "output_type": "stream",
     "text": [
      "Begin group  3 training\n"
     ]
    },
    {
     "name": "stderr",
     "output_type": "stream",
     "text": [
      "Epoch:   0%|                                                                                     | 0/20 [00:00<?, ?it/s]"
     ]
    },
    {
     "name": "stdout",
     "output_type": "stream",
     "text": [
      "Begin group  4 training\n"
     ]
    },
    {
     "name": "stderr",
     "output_type": "stream",
     "text": [
      "                                                                                                                        \r"
     ]
    },
    {
     "name": "stdout",
     "output_type": "stream",
     "text": [
      "Group 0, clients ['f_00154', 'f_00174', 'f_00073', 'f_00054', 'f_00134', 'f_00072']\n",
      "Group 1, clients ['f_00059', 'f_00007', 'f_00187']\n",
      "Group 2, clients ['f_00112', 'f_00032', 'f_00081', 'f_00051']\n",
      "Group 3, clients ['f_00096', 'f_00056']\n",
      "Group 4, clients ['f_00000', 'f_00170', 'f_00029', 'f_00090', 'f_00100']\n"
     ]
    },
    {
     "name": "stderr",
     "output_type": "stream",
     "text": [
      "Epoch:  35%|██████████████████████████▉                                                  | 7/20 [00:00<00:00, 64.74it/s]"
     ]
    },
    {
     "name": "stdout",
     "output_type": "stream",
     "text": [
      "Group 0\n",
      "At round 16 accuracy: 0.6600985221674877\n",
      "At round 16 training accuracy: 0.6575739988392338\n",
      "At round 16 training loss: 0.9154970174740721\n",
      "Group 1\n",
      "At round 16 accuracy: 0.7048192771084337\n",
      "At round 16 training accuracy: 0.6846044191019245\n",
      "At round 16 training loss: 0.8128341126679864\n",
      "Group 2\n",
      "At round 16 accuracy: 0.7575757575757576\n",
      "At round 16 training accuracy: 0.770687237026648\n",
      "At round 16 training loss: 0.537742389584602\n",
      "Group 3\n",
      "At round 16 accuracy: 0.770392749244713\n",
      "At round 16 training accuracy: 0.7756708407871199\n",
      "At round 16 training loss: 0.6567529022800261\n",
      "Group 4\n",
      "At round 16 accuracy: 0.8111111111111111\n",
      "At round 16 training accuracy: 0.8042635658914729\n",
      "At round 16 training loss: 0.5398197719678091\n",
      "At round 16 mean test accuracy: 0.7401247401247402 mean train accuracy: 0.7394190365994763\n",
      "The groups difference are: [9.31671739 9.20358387 9.25814526 9.3117471  9.28269026]\n",
      "Begin group  0 training\n"
     ]
    },
    {
     "name": "stderr",
     "output_type": "stream",
     "text": [
      "Epoch:   0%|                                                                                     | 0/20 [00:00<?, ?it/s]"
     ]
    },
    {
     "name": "stdout",
     "output_type": "stream",
     "text": [
      "Begin group  1 training\n"
     ]
    },
    {
     "name": "stderr",
     "output_type": "stream",
     "text": [
      "Epoch:   0%|                                                                                     | 0/20 [00:00<?, ?it/s]"
     ]
    },
    {
     "name": "stdout",
     "output_type": "stream",
     "text": [
      "Begin group  2 training\n"
     ]
    },
    {
     "name": "stderr",
     "output_type": "stream",
     "text": [
      "Epoch:   0%|                                                                                     | 0/20 [00:00<?, ?it/s]"
     ]
    },
    {
     "name": "stdout",
     "output_type": "stream",
     "text": [
      "Begin group  3 training\n"
     ]
    },
    {
     "name": "stderr",
     "output_type": "stream",
     "text": [
      "Epoch:   0%|                                                                                     | 0/20 [00:00<?, ?it/s]"
     ]
    },
    {
     "name": "stdout",
     "output_type": "stream",
     "text": [
      "Begin group  4 training\n"
     ]
    },
    {
     "name": "stderr",
     "output_type": "stream",
     "text": [
      "                                                                                                                        \r"
     ]
    },
    {
     "name": "stdout",
     "output_type": "stream",
     "text": [
      "Group 0, clients ['f_00103']\n",
      "Group 1, clients ['f_00158', 'f_00176', 'f_00197', 'f_00157', 'f_00138', 'f_00147', 'f_00087']\n",
      "Group 2, clients ['f_00082', 'f_00071', 'f_00192']\n",
      "Group 3, clients ['f_00146', 'f_00075', 'f_00085', 'f_00095', 'f_00126', 'f_00016']\n",
      "Group 4, clients ['f_00000', 'f_00080', 'f_00109']\n"
     ]
    },
    {
     "name": "stderr",
     "output_type": "stream",
     "text": [
      "Epoch:   0%|                                                                                     | 0/20 [00:00<?, ?it/s]"
     ]
    },
    {
     "name": "stdout",
     "output_type": "stream",
     "text": [
      "Group 0\n",
      "At round 17 accuracy: 0.8029556650246306\n",
      "At round 17 training accuracy: 0.8148578061520604\n",
      "At round 17 training loss: 0.5255965714408296\n",
      "Group 1\n",
      "At round 17 accuracy: 0.6445783132530121\n",
      "At round 17 training accuracy: 0.6735566642908054\n",
      "At round 17 training loss: 0.8349675513957963\n",
      "Group 2\n",
      "At round 17 accuracy: 0.7333333333333333\n",
      "At round 17 training accuracy: 0.7393641888733052\n",
      "At round 17 training loss: 0.6803055448878196\n",
      "Group 3\n",
      "At round 17 accuracy: 0.7673716012084593\n",
      "At round 17 training accuracy: 0.7602862254025045\n",
      "At round 17 training loss: 1.0068824040255309\n",
      "Group 4\n",
      "At round 17 accuracy: 0.775\n",
      "At round 17 training accuracy: 0.7619509043927648\n",
      "At round 17 training loss: 0.7279563871734518\n",
      "At round 17 mean test accuracy: 0.7463617463617463 mean train accuracy: 0.7517812557091529\n",
      "The groups difference are: [9.5552428  9.41547562 9.46798104 9.54042929 9.5152951 ]\n",
      "Begin group  0 training\n",
      "Begin group  1 training\n"
     ]
    },
    {
     "name": "stderr",
     "output_type": "stream",
     "text": [
      "Epoch:   0%|                                                                                     | 0/20 [00:00<?, ?it/s]"
     ]
    },
    {
     "name": "stdout",
     "output_type": "stream",
     "text": [
      "Begin group  2 training\n"
     ]
    },
    {
     "name": "stderr",
     "output_type": "stream",
     "text": [
      "Epoch:  50%|██████████████████████████████████████                                      | 10/20 [00:00<00:00, 93.46it/s]"
     ]
    },
    {
     "name": "stdout",
     "output_type": "stream",
     "text": [
      "Begin group  3 training\n"
     ]
    },
    {
     "name": "stderr",
     "output_type": "stream",
     "text": [
      "Epoch:   0%|                                                                                     | 0/20 [00:00<?, ?it/s]"
     ]
    },
    {
     "name": "stdout",
     "output_type": "stream",
     "text": [
      "Begin group  4 training\n"
     ]
    },
    {
     "name": "stderr",
     "output_type": "stream",
     "text": [
      "                                                                                                                        \r"
     ]
    },
    {
     "name": "stdout",
     "output_type": "stream",
     "text": [
      "Group 0, clients ['f_00134', 'f_00044', 'f_00074', 'f_00033']\n",
      "Group 1, clients ['f_00108', 'f_00047', 'f_00128', 'f_00049', 'f_00088']\n",
      "Group 2, clients ['f_00091', 'f_00081', 'f_00151', 'f_00012']\n",
      "Group 3, clients ['f_00186', 'f_00006', 'f_00025']\n",
      "Group 4, clients ['f_00170', 'f_00039', 'f_00040', 'f_00109']\n"
     ]
    },
    {
     "name": "stderr",
     "output_type": "stream",
     "text": [
      "Epoch:  60%|█████████████████████████████████████████████                              | 12/20 [00:00<00:00, 111.61it/s]"
     ]
    },
    {
     "name": "stdout",
     "output_type": "stream",
     "text": [
      "Group 0\n",
      "At round 18 accuracy: 0.7807881773399015\n",
      "At round 18 training accuracy: 0.7861288450377248\n",
      "At round 18 training loss: 0.827415919905389\n",
      "Group 1\n",
      "At round 18 accuracy: 0.6897590361445783\n",
      "At round 18 training accuracy: 0.7131147540983607\n",
      "At round 18 training loss: 0.8835380345646687\n",
      "Group 2\n",
      "At round 18 accuracy: 0.8323232323232324\n",
      "At round 18 training accuracy: 0.8328658251519402\n",
      "At round 18 training loss: 0.43934283624636117\n",
      "Group 3\n",
      "At round 18 accuracy: 0.8036253776435045\n",
      "At round 18 training accuracy: 0.7667262969588551\n",
      "At round 18 training loss: 0.6175160005075561\n",
      "Group 4\n",
      "At round 18 accuracy: 0.8416666666666667\n",
      "At round 18 training accuracy: 0.832687338501292\n",
      "At round 18 training loss: 0.7383228185555346\n",
      "At round 18 mean test accuracy: 0.7936590436590436 mean train accuracy: 0.7913038182814689\n",
      "The groups difference are: [9.77149187 9.66756146 9.69660114 9.77200021 9.76578898]\n",
      "Begin group  0 training\n"
     ]
    },
    {
     "name": "stderr",
     "output_type": "stream",
     "text": [
      "Epoch:  50%|██████████████████████████████████████                                      | 10/20 [00:00<00:00, 95.35it/s]"
     ]
    },
    {
     "name": "stdout",
     "output_type": "stream",
     "text": [
      "Begin group  1 training\n"
     ]
    },
    {
     "name": "stderr",
     "output_type": "stream",
     "text": [
      "Epoch:  35%|██████████████████████████▉                                                  | 7/20 [00:00<00:00, 67.28it/s]"
     ]
    },
    {
     "name": "stdout",
     "output_type": "stream",
     "text": [
      "Begin group  2 training\n"
     ]
    },
    {
     "name": "stderr",
     "output_type": "stream",
     "text": [
      "Epoch:  90%|███████████████████████████████████████████████████████████████████▌       | 18/20 [00:00<00:00, 171.39it/s]"
     ]
    },
    {
     "name": "stdout",
     "output_type": "stream",
     "text": [
      "Begin group  3 training\n"
     ]
    },
    {
     "name": "stderr",
     "output_type": "stream",
     "text": [
      "Epoch:   0%|                                                                                     | 0/20 [00:00<?, ?it/s]"
     ]
    },
    {
     "name": "stdout",
     "output_type": "stream",
     "text": [
      "Begin group  4 training\n"
     ]
    },
    {
     "name": "stderr",
     "output_type": "stream",
     "text": [
      "                                                                                                                        \r"
     ]
    },
    {
     "name": "stdout",
     "output_type": "stream",
     "text": [
      "Group 0, clients ['f_00033', 'f_00013', 'f_00094', 'f_00163', 'f_00072']\n",
      "Group 1, clients ['f_00148', 'f_00078', 'f_00169', 'f_00157']\n",
      "Group 2, clients ['f_00091', 'f_00031', 'f_00152']\n",
      "Group 3, clients ['f_00196', 'f_00016', 'f_00037', 'f_00105']\n",
      "Group 4, clients ['f_00040', 'f_00140', 'f_00020', 'f_00180']\n"
     ]
    },
    {
     "name": "stderr",
     "output_type": "stream",
     "text": [
      "Epoch:  45%|██████████████████████████████████▋                                          | 9/20 [00:00<00:00, 81.45it/s]"
     ]
    },
    {
     "name": "stdout",
     "output_type": "stream",
     "text": [
      "Group 0\n",
      "At round 19 accuracy: 0.7832512315270936\n",
      "At round 19 training accuracy: 0.7762623331398724\n",
      "At round 19 training loss: 0.7147231396683343\n",
      "Group 1\n",
      "At round 19 accuracy: 0.713855421686747\n",
      "At round 19 training accuracy: 0.6838916607270136\n",
      "At round 19 training loss: 0.8085808687480279\n",
      "Group 2\n",
      "At round 19 accuracy: 0.705050505050505\n",
      "At round 19 training accuracy: 0.7047685834502104\n",
      "At round 19 training loss: 0.9581868866438507\n",
      "Group 3\n",
      "At round 19 accuracy: 0.8670694864048338\n",
      "At round 19 training accuracy: 0.861180679785331\n",
      "At round 19 training loss: 0.5027899286134938\n",
      "Group 4\n",
      "At round 19 accuracy: 0.7083333333333334\n",
      "At round 19 training accuracy: 0.7018733850129198\n",
      "At round 19 training loss: 0.6772487086053812\n",
      "At round 19 mean test accuracy: 0.7515592515592515 mean train accuracy: 0.7422812252603374\n",
      "The groups difference are: [9.94240797 9.83516277 9.87840933 9.94075854 9.91371682]\n",
      "Begin group  0 training\n"
     ]
    },
    {
     "name": "stderr",
     "output_type": "stream",
     "text": [
      "                                                                                                                        "
     ]
    },
    {
     "name": "stdout",
     "output_type": "stream",
     "text": [
      "Begin group  1 training\n"
     ]
    },
    {
     "name": "stderr",
     "output_type": "stream",
     "text": [
      "Epoch:  35%|██████████████████████████▉                                                  | 7/20 [00:00<00:00, 69.27it/s]"
     ]
    },
    {
     "name": "stdout",
     "output_type": "stream",
     "text": [
      "Begin group  2 training\n"
     ]
    },
    {
     "name": "stderr",
     "output_type": "stream",
     "text": [
      "                                                                                                                        "
     ]
    },
    {
     "name": "stdout",
     "output_type": "stream",
     "text": [
      "Begin group  3 training\n"
     ]
    },
    {
     "name": "stderr",
     "output_type": "stream",
     "text": [
      "Epoch:  65%|████████████████████████████████████████████████▊                          | 13/20 [00:00<00:00, 128.49it/s]"
     ]
    },
    {
     "name": "stdout",
     "output_type": "stream",
     "text": [
      "Begin group  4 training\n"
     ]
    },
    {
     "name": "stderr",
     "output_type": "stream",
     "text": [
      "                                                                                                                        \r"
     ]
    },
    {
     "name": "stdout",
     "output_type": "stream",
     "text": [
      "Group 0, clients ['f_00013', 'f_00084']\n",
      "Group 1, clients ['f_00028', 'f_00178', 'f_00177', 'f_00047', 'f_00077', 'f_00187', 'f_00167']\n",
      "Group 2, clients ['f_00121', 'f_00192']\n",
      "Group 3, clients ['f_00196', 'f_00195', 'f_00136', 'f_00166', 'f_00175', 'f_00155']\n",
      "Group 4, clients ['f_00150', 'f_00109', 'f_00168']\n"
     ]
    },
    {
     "name": "stderr",
     "output_type": "stream",
     "text": [
      "Epoch:  40%|██████████████████████████████▊                                              | 8/20 [00:00<00:00, 79.70it/s]"
     ]
    },
    {
     "name": "stdout",
     "output_type": "stream",
     "text": [
      "Group 0\n",
      "At round 20 accuracy: 0.8448275862068966\n",
      "At round 20 training accuracy: 0.8639001741149158\n",
      "At round 20 training loss: 0.4485604084651967\n",
      "Group 1\n",
      "At round 20 accuracy: 0.7228915662650602\n",
      "At round 20 training accuracy: 0.7109764789736279\n",
      "At round 20 training loss: 0.7496623740354268\n",
      "Group 2\n",
      "At round 20 accuracy: 0.7292929292929293\n",
      "At round 20 training accuracy: 0.7316503038803179\n",
      "At round 20 training loss: 0.644723826926158\n",
      "Group 3\n",
      "At round 20 accuracy: 0.6706948640483383\n",
      "At round 20 training accuracy: 0.6604651162790698\n",
      "At round 20 training loss: 0.8337925049721235\n",
      "Group 4\n",
      "At round 20 accuracy: 0.7833333333333333\n",
      "At round 20 training accuracy: 0.7952196382428941\n",
      "At round 20 training loss: 0.7423103743061924\n",
      "At round 20 mean test accuracy: 0.7525987525987526 mean train accuracy: 0.7557396017294927\n",
      "The groups difference are: [10.14396406 10.0244059  10.08250128 10.14729765 10.12707524]\n",
      "Begin group  0 training\n"
     ]
    },
    {
     "name": "stderr",
     "output_type": "stream",
     "text": [
      "Epoch:   0%|                                                                                     | 0/20 [00:00<?, ?it/s]"
     ]
    },
    {
     "name": "stdout",
     "output_type": "stream",
     "text": [
      "Begin group  1 training\n"
     ]
    },
    {
     "name": "stderr",
     "output_type": "stream",
     "text": [
      "Epoch:  30%|███████████████████████                                                      | 6/20 [00:00<00:00, 49.88it/s]"
     ]
    },
    {
     "name": "stdout",
     "output_type": "stream",
     "text": [
      "Begin group  2 training\n"
     ]
    },
    {
     "name": "stderr",
     "output_type": "stream",
     "text": [
      "Epoch:   0%|                                                                                     | 0/20 [00:00<?, ?it/s]"
     ]
    },
    {
     "name": "stdout",
     "output_type": "stream",
     "text": [
      "Begin group  3 training\n"
     ]
    },
    {
     "name": "stderr",
     "output_type": "stream",
     "text": [
      "Epoch:   0%|                                                                                     | 0/20 [00:00<?, ?it/s]"
     ]
    },
    {
     "name": "stdout",
     "output_type": "stream",
     "text": [
      "Begin group  4 training\n"
     ]
    },
    {
     "name": "stderr",
     "output_type": "stream",
     "text": [
      "                                                                                                                        \r"
     ]
    },
    {
     "name": "stdout",
     "output_type": "stream",
     "text": [
      "Group 0, clients ['f_00144', 'f_00183', 'f_00124', 'f_00013']\n",
      "Group 1, clients ['f_00017', 'f_00087']\n",
      "Group 2, clients ['f_00052', 'f_00091', 'f_00021', 'f_00042', 'f_00152', 'f_00092', 'f_00101']\n",
      "Group 3, clients ['f_00045', 'f_00006', 'f_00105', 'f_00145']\n",
      "Group 4, clients ['f_00009', 'f_00020', 'f_00129']\n"
     ]
    },
    {
     "name": "stderr",
     "output_type": "stream",
     "text": [
      "Epoch:   0%|                                                                                     | 0/20 [00:00<?, ?it/s]"
     ]
    },
    {
     "name": "stdout",
     "output_type": "stream",
     "text": [
      "Group 0\n",
      "At round 21 accuracy: 0.8201970443349754\n",
      "At round 21 training accuracy: 0.8299477655252466\n",
      "At round 21 training loss: 0.5204742241843247\n",
      "Group 1\n",
      "At round 21 accuracy: 0.7048192771084337\n",
      "At round 21 training accuracy: 0.7077690662865289\n",
      "At round 21 training loss: 0.8135651800030058\n",
      "Group 2\n",
      "At round 21 accuracy: 0.7111111111111111\n",
      "At round 21 training accuracy: 0.6984572230014026\n",
      "At round 21 training loss: 1.0024133233241161\n",
      "Group 3\n",
      "At round 21 accuracy: 0.7734138972809668\n",
      "At round 21 training accuracy: 0.7796064400715563\n",
      "At round 21 training loss: 0.603682145369714\n",
      "Group 4\n",
      "At round 21 accuracy: 0.8388888888888889\n",
      "At round 21 training accuracy: 0.7900516795865633\n",
      "At round 21 training loss: 0.5155287431769593\n",
      "At round 21 mean test accuracy: 0.7676715176715176 mean train accuracy: 0.7587235856525181\n",
      "The groups difference are: [10.31732209 10.19389449 10.27232096 10.31753597 10.26649094]\n",
      "Begin group  0 training\n"
     ]
    },
    {
     "name": "stderr",
     "output_type": "stream",
     "text": [
      "Epoch:  20%|███████████████▍                                                             | 4/20 [00:00<00:00, 38.17it/s]"
     ]
    },
    {
     "name": "stdout",
     "output_type": "stream",
     "text": [
      "Begin group  1 training\n"
     ]
    },
    {
     "name": "stderr",
     "output_type": "stream",
     "text": [
      "Epoch:  30%|███████████████████████                                                      | 6/20 [00:00<00:00, 54.63it/s]"
     ]
    },
    {
     "name": "stdout",
     "output_type": "stream",
     "text": [
      "Begin group  2 training\n"
     ]
    },
    {
     "name": "stderr",
     "output_type": "stream",
     "text": [
      "Epoch:   0%|                                                                                     | 0/20 [00:00<?, ?it/s]"
     ]
    },
    {
     "name": "stdout",
     "output_type": "stream",
     "text": [
      "Begin group  3 training\n"
     ]
    },
    {
     "name": "stderr",
     "output_type": "stream",
     "text": [
      "Epoch:  80%|████████████████████████████████████████████████████████████               | 16/20 [00:00<00:00, 154.20it/s]"
     ]
    },
    {
     "name": "stdout",
     "output_type": "stream",
     "text": [
      "Begin group  4 training\n"
     ]
    },
    {
     "name": "stderr",
     "output_type": "stream",
     "text": [
      "                                                                                                                        \r"
     ]
    },
    {
     "name": "stdout",
     "output_type": "stream",
     "text": [
      "Group 0, clients ['f_00144', 'f_00163', 'f_00124', 'f_00104']\n",
      "Group 1, clients ['f_00157', 'f_00098', 'f_00078', 'f_00176', 'f_00087', 'f_00128']\n",
      "Group 2, clients ['f_00032', 'f_00091', 'f_00012']\n",
      "Group 3, clients ['f_00075', 'f_00046', 'f_00036', 'f_00135']\n",
      "Group 4, clients ['f_00170', 'f_00189', 'f_00020']\n"
     ]
    },
    {
     "name": "stderr",
     "output_type": "stream",
     "text": [
      "Epoch:   0%|                                                                                     | 0/20 [00:00<?, ?it/s]"
     ]
    },
    {
     "name": "stdout",
     "output_type": "stream",
     "text": [
      "Group 0\n",
      "At round 22 accuracy: 0.8054187192118226\n",
      "At round 22 training accuracy: 0.818049912942542\n",
      "At round 22 training loss: 0.5617369310027697\n",
      "Group 1\n",
      "At round 22 accuracy: 0.6807228915662651\n",
      "At round 22 training accuracy: 0.7145402708481825\n",
      "At round 22 training loss: 1.1258147864131867\n",
      "Group 2\n",
      "At round 22 accuracy: 0.8404040404040404\n",
      "At round 22 training accuracy: 0.8541374474053296\n",
      "At round 22 training loss: 0.38680550205604447\n",
      "Group 3\n",
      "At round 22 accuracy: 0.8126888217522659\n",
      "At round 22 training accuracy: 0.7871198568872988\n",
      "At round 22 training loss: 0.6595094321532198\n",
      "Group 4\n",
      "At round 22 accuracy: 0.725\n",
      "At round 22 training accuracy: 0.7047803617571059\n",
      "At round 22 training loss: 0.6793015208528486\n",
      "At round 22 mean test accuracy: 0.7791060291060291 mean train accuracy: 0.7831435357164607\n",
      "The groups difference are: [10.53424107 10.43492246 10.50120453 10.52982897 10.49173293]\n",
      "Begin group  0 training\n"
     ]
    },
    {
     "name": "stderr",
     "output_type": "stream",
     "text": [
      "Epoch:   0%|                                                                                     | 0/20 [00:00<?, ?it/s]"
     ]
    },
    {
     "name": "stdout",
     "output_type": "stream",
     "text": [
      "Begin group  1 training\n"
     ]
    },
    {
     "name": "stderr",
     "output_type": "stream",
     "text": [
      "Epoch:  40%|██████████████████████████████▊                                              | 8/20 [00:00<00:00, 75.81it/s]"
     ]
    },
    {
     "name": "stdout",
     "output_type": "stream",
     "text": [
      "Begin group  2 training\n"
     ]
    },
    {
     "name": "stderr",
     "output_type": "stream",
     "text": [
      "Epoch:  45%|██████████████████████████████████▋                                          | 9/20 [00:00<00:00, 86.54it/s]"
     ]
    },
    {
     "name": "stdout",
     "output_type": "stream",
     "text": [
      "Begin group  3 training\n"
     ]
    },
    {
     "name": "stderr",
     "output_type": "stream",
     "text": [
      "Epoch:   0%|                                                                                     | 0/20 [00:00<?, ?it/s]"
     ]
    },
    {
     "name": "stdout",
     "output_type": "stream",
     "text": [
      "Begin group  4 training\n"
     ]
    },
    {
     "name": "stderr",
     "output_type": "stream",
     "text": [
      "                                                                                                                        \r"
     ]
    },
    {
     "name": "stdout",
     "output_type": "stream",
     "text": [
      "Group 0, clients ['f_00072', 'f_00014', 'f_00174', 'f_00024']\n",
      "Group 1, clients ['f_00188', 'f_00077', 'f_00097', 'f_00198', 'f_00157']\n",
      "Group 2, clients ['f_00081', 'f_00191', 'f_00092']\n",
      "Group 3, clients ['f_00185', 'f_00075', 'f_00046']\n",
      "Group 4, clients ['f_00030', 'f_00119', 'f_00019', 'f_00199', 'f_00140']\n"
     ]
    },
    {
     "name": "stderr",
     "output_type": "stream",
     "text": [
      "Epoch:  55%|█████████████████████████████████████████▎                                 | 11/20 [00:00<00:00, 100.10it/s]"
     ]
    },
    {
     "name": "stdout",
     "output_type": "stream",
     "text": [
      "Group 0\n",
      "At round 23 accuracy: 0.7857142857142857\n",
      "At round 23 training accuracy: 0.80586186883343\n",
      "At round 23 training loss: 0.5991284227300299\n",
      "Group 1\n",
      "At round 23 accuracy: 0.7048192771084337\n",
      "At round 23 training accuracy: 0.7006414825374199\n",
      "At round 23 training loss: 0.8160479712065678\n",
      "Group 2\n",
      "At round 23 accuracy: 0.6303030303030303\n",
      "At round 23 training accuracy: 0.6395511921458625\n",
      "At round 23 training loss: 0.9089924019768786\n",
      "Group 3\n",
      "At round 23 accuracy: 0.8157099697885196\n",
      "At round 23 training accuracy: 0.80608228980322\n",
      "At round 23 training loss: 0.6690722745465038\n",
      "Group 4\n",
      "At round 23 accuracy: 0.7222222222222222\n",
      "At round 23 training accuracy: 0.7080103359173127\n",
      "At round 23 training loss: 0.620247649110719\n",
      "At round 23 mean test accuracy: 0.725051975051975 mean train accuracy: 0.7261433530235674\n",
      "The groups difference are: [10.75510267 10.66294329 10.72569974 10.75354725 10.70908303]\n",
      "Begin group  0 training\n"
     ]
    },
    {
     "name": "stderr",
     "output_type": "stream",
     "text": [
      "Epoch:   0%|                                                                                     | 0/20 [00:00<?, ?it/s]"
     ]
    },
    {
     "name": "stdout",
     "output_type": "stream",
     "text": [
      "Begin group  1 training\n"
     ]
    },
    {
     "name": "stderr",
     "output_type": "stream",
     "text": [
      "Epoch:   0%|                                                                                     | 0/20 [00:00<?, ?it/s]"
     ]
    },
    {
     "name": "stdout",
     "output_type": "stream",
     "text": [
      "Begin group  2 training\n"
     ]
    },
    {
     "name": "stderr",
     "output_type": "stream",
     "text": [
      "Epoch:   0%|                                                                                     | 0/20 [00:00<?, ?it/s]"
     ]
    },
    {
     "name": "stdout",
     "output_type": "stream",
     "text": [
      "Begin group  3 training\n"
     ]
    },
    {
     "name": "stderr",
     "output_type": "stream",
     "text": [
      "Epoch:  70%|████████████████████████████████████████████████████▌                      | 14/20 [00:00<00:00, 137.54it/s]"
     ]
    },
    {
     "name": "stdout",
     "output_type": "stream",
     "text": [
      "Begin group  4 training\n"
     ]
    },
    {
     "name": "stderr",
     "output_type": "stream",
     "text": [
      "                                                                                                                        \r"
     ]
    },
    {
     "name": "stdout",
     "output_type": "stream",
     "text": [
      "Group 0, clients ['f_00072', 'f_00014', 'f_00144', 'f_00054']\n",
      "Group 1, clients ['f_00197', 'f_00048']\n",
      "Group 2, clients ['f_00101', 'f_00142', 'f_00091', 'f_00102']\n",
      "Group 3, clients ['f_00125', 'f_00196', 'f_00025', 'f_00026']\n",
      "Group 4, clients ['f_00109', 'f_00029', 'f_00190', 'f_00159', 'f_00069', 'f_00000']\n"
     ]
    },
    {
     "name": "stderr",
     "output_type": "stream",
     "text": [
      "Epoch:  50%|██████████████████████████████████████                                      | 10/20 [00:00<00:00, 91.18it/s]"
     ]
    },
    {
     "name": "stdout",
     "output_type": "stream",
     "text": [
      "Group 0\n",
      "At round 24 accuracy: 0.8029556650246306\n",
      "At round 24 training accuracy: 0.824143934997098\n",
      "At round 24 training loss: 0.5201204277562044\n",
      "Group 1\n",
      "At round 24 accuracy: 0.7319277108433735\n",
      "At round 24 training accuracy: 0.7469707769066286\n",
      "At round 24 training loss: 0.6992814238485233\n",
      "Group 2\n",
      "At round 24 accuracy: 0.7232323232323232\n",
      "At round 24 training accuracy: 0.7316503038803179\n",
      "At round 24 training loss: 0.8358134721127582\n",
      "Group 3\n",
      "At round 24 accuracy: 0.8217522658610272\n",
      "At round 24 training accuracy: 0.8067978533094812\n",
      "At round 24 training loss: 0.7675075480038024\n",
      "Group 4\n",
      "At round 24 accuracy: 0.75\n",
      "At round 24 training accuracy: 0.727390180878553\n",
      "At round 24 training loss: 0.7798718780144395\n",
      "At round 24 mean test accuracy: 0.7635135135135135 mean train accuracy: 0.7656659155958834\n",
      "The groups difference are: [10.91411747 10.82595288 10.88490831 10.92989595 10.88406606]\n",
      "Begin group  0 training\n"
     ]
    },
    {
     "name": "stderr",
     "output_type": "stream",
     "text": [
      "Epoch:   0%|                                                                                     | 0/20 [00:00<?, ?it/s]"
     ]
    },
    {
     "name": "stdout",
     "output_type": "stream",
     "text": [
      "Begin group  1 training\n"
     ]
    },
    {
     "name": "stderr",
     "output_type": "stream",
     "text": [
      "Epoch:   0%|                                                                                     | 0/20 [00:00<?, ?it/s]"
     ]
    },
    {
     "name": "stdout",
     "output_type": "stream",
     "text": [
      "Begin group  2 training\n"
     ]
    },
    {
     "name": "stderr",
     "output_type": "stream",
     "text": [
      "Epoch:   0%|                                                                                     | 0/20 [00:00<?, ?it/s]"
     ]
    },
    {
     "name": "stdout",
     "output_type": "stream",
     "text": [
      "Begin group  3 training\n"
     ]
    },
    {
     "name": "stderr",
     "output_type": "stream",
     "text": [
      "Epoch:  80%|████████████████████████████████████████████████████████████               | 16/20 [00:00<00:00, 159.48it/s]"
     ]
    },
    {
     "name": "stdout",
     "output_type": "stream",
     "text": [
      "Begin group  4 training\n"
     ]
    },
    {
     "name": "stderr",
     "output_type": "stream",
     "text": [
      "                                                                                                                        \r"
     ]
    },
    {
     "name": "stdout",
     "output_type": "stream",
     "text": [
      "Group 0, clients ['f_00193', 'f_00103']\n",
      "Group 1, clients ['f_00148', 'f_00068', 'f_00176', 'f_00117', 'f_00169', 'f_00097']\n",
      "Group 2, clients ['f_00082', 'f_00101', 'f_00111', 'f_00102', 'f_00122', 'f_00081']\n",
      "Group 3, clients ['f_00135', 'f_00126', 'f_00035']\n",
      "Group 4, clients ['f_00069', 'f_00040', 'f_00120']\n"
     ]
    },
    {
     "name": "stderr",
     "output_type": "stream",
     "text": [
      "Epoch:   0%|                                                                                     | 0/20 [00:00<?, ?it/s]"
     ]
    },
    {
     "name": "stdout",
     "output_type": "stream",
     "text": [
      "Group 0\n",
      "At round 25 accuracy: 0.812807881773399\n",
      "At round 25 training accuracy: 0.8250145095763204\n",
      "At round 25 training loss: 0.4461783679614078\n",
      "Group 1\n",
      "At round 25 accuracy: 0.7078313253012049\n",
      "At round 25 training accuracy: 0.7177476835352815\n",
      "At round 25 training loss: 0.7625582809224778\n",
      "Group 2\n",
      "At round 25 accuracy: 0.8707070707070707\n",
      "At round 25 training accuracy: 0.8803179055633473\n",
      "At round 25 training loss: 0.35570381939508694\n",
      "Group 3\n",
      "At round 25 accuracy: 0.8670694864048338\n",
      "At round 25 training accuracy: 0.8661896243291592\n",
      "At round 25 training loss: 0.4516624535932097\n",
      "Group 4\n",
      "At round 25 accuracy: 0.7555555555555555\n",
      "At round 25 training accuracy: 0.7257751937984496\n",
      "At round 25 training loss: 0.7460762682618712\n",
      "At round 25 mean test accuracy: 0.8082120582120582 mean train accuracy: 0.8093904147128677\n",
      "The groups difference are: [11.07090008 10.9850861  11.04842219 11.09370105 11.05035997]\n",
      "Begin group  0 training\n"
     ]
    },
    {
     "name": "stderr",
     "output_type": "stream",
     "text": [
      "Epoch:  40%|██████████████████████████████▊                                              | 8/20 [00:00<00:00, 72.05it/s]"
     ]
    },
    {
     "name": "stdout",
     "output_type": "stream",
     "text": [
      "Begin group  1 training\n"
     ]
    },
    {
     "name": "stderr",
     "output_type": "stream",
     "text": [
      "Epoch:   0%|                                                                                     | 0/20 [00:00<?, ?it/s]"
     ]
    },
    {
     "name": "stdout",
     "output_type": "stream",
     "text": [
      "Begin group  2 training\n"
     ]
    },
    {
     "name": "stderr",
     "output_type": "stream",
     "text": [
      "Epoch:  35%|██████████████████████████▉                                                  | 7/20 [00:00<00:00, 66.66it/s]"
     ]
    },
    {
     "name": "stdout",
     "output_type": "stream",
     "text": [
      "Begin group  3 training\n"
     ]
    },
    {
     "name": "stderr",
     "output_type": "stream",
     "text": [
      "Epoch:  55%|█████████████████████████████████████████▎                                 | 11/20 [00:00<00:00, 100.75it/s]"
     ]
    },
    {
     "name": "stdout",
     "output_type": "stream",
     "text": [
      "Begin group  4 training\n"
     ]
    },
    {
     "name": "stderr",
     "output_type": "stream",
     "text": [
      "                                                                                                                        \r"
     ]
    },
    {
     "name": "stdout",
     "output_type": "stream",
     "text": [
      "Group 0, clients ['f_00153', 'f_00163', 'f_00124', 'f_00174']\n",
      "Group 1, clients ['f_00188', 'f_00167', 'f_00137', 'f_00108', 'f_00118']\n",
      "Group 2, clients ['f_00042']\n",
      "Group 3, clients ['f_00025', 'f_00196', 'f_00136', 'f_00116', 'f_00186']\n",
      "Group 4, clients ['f_00109', 'f_00168', 'f_00030', 'f_00050', 'f_00129']\n"
     ]
    },
    {
     "name": "stderr",
     "output_type": "stream",
     "text": [
      "Epoch:   0%|                                                                                     | 0/20 [00:00<?, ?it/s]"
     ]
    },
    {
     "name": "stdout",
     "output_type": "stream",
     "text": [
      "Group 0\n",
      "At round 26 accuracy: 0.8103448275862069\n",
      "At round 26 training accuracy: 0.808473592571097\n",
      "At round 26 training loss: 0.6328790371916492\n",
      "Group 1\n",
      "At round 26 accuracy: 0.8132530120481928\n",
      "At round 26 training accuracy: 0.7715609408410549\n",
      "At round 26 training loss: 0.5900311120178389\n",
      "Group 2\n",
      "At round 26 accuracy: 0.8646464646464647\n",
      "At round 26 training accuracy: 0.8576437587657784\n",
      "At round 26 training loss: 0.3839672495405938\n",
      "Group 3\n",
      "At round 26 accuracy: 0.8157099697885196\n",
      "At round 26 training accuracy: 0.792128801431127\n",
      "At round 26 training loss: 0.7146299698405061\n",
      "Group 4\n",
      "At round 26 accuracy: 0.8472222222222222\n",
      "At round 26 training accuracy: 0.8049095607235142\n",
      "At round 26 training loss: 0.47989099286015335\n",
      "At round 26 mean test accuracy: 0.8326403326403327 mean train accuracy: 0.811521831800743\n",
      "The groups difference are: [11.21301141 11.14313122 11.21176189 11.26747475 11.21427381]\n",
      "Begin group  0 training\n"
     ]
    },
    {
     "name": "stderr",
     "output_type": "stream",
     "text": [
      "Epoch:   0%|                                                                                     | 0/20 [00:00<?, ?it/s]"
     ]
    },
    {
     "name": "stdout",
     "output_type": "stream",
     "text": [
      "Begin group  1 training\n"
     ]
    },
    {
     "name": "stderr",
     "output_type": "stream",
     "text": [
      "Epoch:   0%|                                                                                     | 0/20 [00:00<?, ?it/s]"
     ]
    },
    {
     "name": "stdout",
     "output_type": "stream",
     "text": [
      "Begin group  2 training\n",
      "Begin group  3 training\n"
     ]
    },
    {
     "name": "stderr",
     "output_type": "stream",
     "text": [
      "                                                                                                                        "
     ]
    },
    {
     "name": "stdout",
     "output_type": "stream",
     "text": [
      "Begin group  4 training\n"
     ]
    },
    {
     "name": "stderr",
     "output_type": "stream",
     "text": [
      "                                                                                                                        \r"
     ]
    },
    {
     "name": "stdout",
     "output_type": "stream",
     "text": [
      "Group 0, clients ['f_00103', 'f_00074', 'f_00173']\n",
      "Group 1, clients ['f_00048', 'f_00148', 'f_00197', 'f_00068', 'f_00078', 'f_00058']\n",
      "Group 2, clients ['f_00162', 'f_00101', 'f_00012']\n",
      "Group 3, clients ['f_00185', 'f_00165', 'f_00095']\n",
      "Group 4, clients ['f_00040', 'f_00109', 'f_00139', 'f_00009', 'f_00090']\n"
     ]
    },
    {
     "name": "stderr",
     "output_type": "stream",
     "text": [
      "Epoch:   0%|                                                                                     | 0/20 [00:00<?, ?it/s]"
     ]
    },
    {
     "name": "stdout",
     "output_type": "stream",
     "text": [
      "Group 0\n",
      "At round 27 accuracy: 0.8448275862068966\n",
      "At round 27 training accuracy: 0.8630295995356936\n",
      "At round 27 training loss: 0.44392133841006753\n",
      "Group 1\n",
      "At round 27 accuracy: 0.6957831325301205\n",
      "At round 27 training accuracy: 0.6685673556664291\n",
      "At round 27 training loss: 0.8709537477703155\n",
      "Group 2\n",
      "At round 27 accuracy: 0.5555555555555556\n",
      "At round 27 training accuracy: 0.5411407199625994\n",
      "At round 27 training loss: 2.1954713827430115\n",
      "Group 3\n",
      "At round 27 accuracy: 0.7583081570996979\n",
      "At round 27 training accuracy: 0.7466905187835421\n",
      "At round 27 training loss: 0.6664939610604097\n",
      "Group 4\n",
      "At round 27 accuracy: 0.75\n",
      "At round 27 training accuracy: 0.7290051679586563\n",
      "At round 27 training loss: 0.615488064872433\n",
      "At round 27 mean test accuracy: 0.7120582120582121 mean train accuracy: 0.7008708361244748\n",
      "The groups difference are: [11.36567104 11.28939713 11.36496303 11.41432756 11.34945929]\n",
      "Begin group  0 training\n"
     ]
    },
    {
     "name": "stderr",
     "output_type": "stream",
     "text": [
      "Epoch:   0%|                                                                                     | 0/20 [00:00<?, ?it/s]"
     ]
    },
    {
     "name": "stdout",
     "output_type": "stream",
     "text": [
      "Begin group  1 training\n"
     ]
    },
    {
     "name": "stderr",
     "output_type": "stream",
     "text": [
      "Epoch:   0%|                                                                                     | 0/20 [00:00<?, ?it/s]"
     ]
    },
    {
     "name": "stdout",
     "output_type": "stream",
     "text": [
      "Begin group  2 training\n"
     ]
    },
    {
     "name": "stderr",
     "output_type": "stream",
     "text": [
      "Epoch:   0%|                                                                                     | 0/20 [00:00<?, ?it/s]"
     ]
    },
    {
     "name": "stdout",
     "output_type": "stream",
     "text": [
      "Begin group  3 training\n"
     ]
    },
    {
     "name": "stderr",
     "output_type": "stream",
     "text": [
      "Epoch:   0%|                                                                                     | 0/20 [00:00<?, ?it/s]"
     ]
    },
    {
     "name": "stdout",
     "output_type": "stream",
     "text": [
      "Begin group  4 training\n"
     ]
    },
    {
     "name": "stderr",
     "output_type": "stream",
     "text": [
      "                                                                                                                        \r"
     ]
    },
    {
     "name": "stdout",
     "output_type": "stream",
     "text": [
      "Group 0, clients ['f_00024', 'f_00073', 'f_00134', 'f_00164']\n",
      "Group 1, clients ['f_00067', 'f_00187', 'f_00127', 'f_00128', 'f_00059', 'f_00177', 'f_00098']\n",
      "Group 2, clients ['f_00061', 'f_00051']\n",
      "Group 3, clients ['f_00065', 'f_00075', 'f_00126']\n",
      "Group 4, clients ['f_00170', 'f_00168', 'f_00099', 'f_00069']\n"
     ]
    },
    {
     "name": "stderr",
     "output_type": "stream",
     "text": [
      "Epoch:   0%|                                                                                     | 0/20 [00:00<?, ?it/s]"
     ]
    },
    {
     "name": "stdout",
     "output_type": "stream",
     "text": [
      "Group 0\n",
      "At round 28 accuracy: 0.8472906403940886\n",
      "At round 28 training accuracy: 0.8697040046430644\n",
      "At round 28 training loss: 0.4388879920403001\n",
      "Group 1\n",
      "At round 28 accuracy: 0.7469879518072289\n",
      "At round 28 training accuracy: 0.7052744119743407\n",
      "At round 28 training loss: 0.7598972547313442\n",
      "Group 2\n",
      "At round 28 accuracy: 0.7858585858585858\n",
      "At round 28 training accuracy: 0.7968676951846657\n",
      "At round 28 training loss: 0.48447571574680265\n",
      "Group 3\n",
      "At round 28 accuracy: 0.8187311178247734\n",
      "At round 28 training accuracy: 0.8075134168157424\n",
      "At round 28 training loss: 0.7426767666485954\n",
      "Group 4\n",
      "At round 28 accuracy: 0.8638888888888889\n",
      "At round 28 training accuracy: 0.8372093023255814\n",
      "At round 28 training loss: 0.4328674412493712\n",
      "At round 28 mean test accuracy: 0.8123700623700624 mean train accuracy: 0.8059192497411851\n",
      "The groups difference are: [11.47578871 11.41480146 11.47417751 11.53546782 11.47397538]\n",
      "Begin group  0 training\n"
     ]
    },
    {
     "name": "stderr",
     "output_type": "stream",
     "text": [
      "Epoch:  20%|███████████████▍                                                             | 4/20 [00:00<00:00, 32.84it/s]"
     ]
    },
    {
     "name": "stdout",
     "output_type": "stream",
     "text": [
      "Begin group  1 training\n"
     ]
    },
    {
     "name": "stderr",
     "output_type": "stream",
     "text": [
      "Epoch:   0%|                                                                                     | 0/20 [00:00<?, ?it/s]"
     ]
    },
    {
     "name": "stdout",
     "output_type": "stream",
     "text": [
      "Begin group  2 training\n",
      "Begin group  3 training\n"
     ]
    },
    {
     "name": "stderr",
     "output_type": "stream",
     "text": [
      "Epoch:   0%|                                                                                     | 0/20 [00:00<?, ?it/s]"
     ]
    },
    {
     "name": "stdout",
     "output_type": "stream",
     "text": [
      "Begin group  4 training\n"
     ]
    },
    {
     "name": "stderr",
     "output_type": "stream",
     "text": [
      "                                                                                                                        \r"
     ]
    },
    {
     "name": "stdout",
     "output_type": "stream",
     "text": [
      "Group 0, clients ['f_00183', 'f_00053', 'f_00063']\n",
      "Group 1, clients ['f_00197', 'f_00088', 'f_00008', 'f_00138', 'f_00198', 'f_00128', 'f_00027']\n",
      "Group 2, clients ['f_00141', 'f_00061', 'f_00101', 'f_00161']\n",
      "Group 3, clients ['f_00145', 'f_00075', 'f_00135', 'f_00165', 'f_00126']\n",
      "Group 4, clients ['f_00119']\n"
     ]
    },
    {
     "name": "stderr",
     "output_type": "stream",
     "text": [
      "Epoch:   0%|                                                                                     | 0/20 [00:00<?, ?it/s]"
     ]
    },
    {
     "name": "stdout",
     "output_type": "stream",
     "text": [
      "Group 0\n",
      "At round 29 accuracy: 0.8448275862068966\n",
      "At round 29 training accuracy: 0.8604178757980266\n",
      "At round 29 training loss: 0.4626299344128602\n",
      "Group 1\n",
      "At round 29 accuracy: 0.7740963855421686\n",
      "At round 29 training accuracy: 0.785816108339273\n",
      "At round 29 training loss: 0.6276791878389786\n",
      "Group 2\n",
      "At round 29 accuracy: 0.7333333333333333\n",
      "At round 29 training accuracy: 0.733286582515194\n",
      "At round 29 training loss: 0.8180976022459835\n",
      "Group 3\n",
      "At round 29 accuracy: 0.8157099697885196\n",
      "At round 29 training accuracy: 0.7957066189624329\n",
      "At round 29 training loss: 0.767674526140387\n",
      "Group 4\n",
      "At round 29 accuracy: 0.7611111111111111\n",
      "At round 29 training accuracy: 0.7464470284237726\n",
      "At round 29 training loss: 0.6614931206572656\n",
      "At round 29 mean test accuracy: 0.7832640332640333 mean train accuracy: 0.7820473783569819\n",
      "The groups difference are: [11.65622269 11.58906254 11.64033895 11.69633084 11.63621533]\n",
      "Begin group  0 training\n"
     ]
    },
    {
     "name": "stderr",
     "output_type": "stream",
     "text": [
      "Epoch:   0%|                                                                                     | 0/20 [00:00<?, ?it/s]"
     ]
    },
    {
     "name": "stdout",
     "output_type": "stream",
     "text": [
      "Begin group  1 training\n"
     ]
    },
    {
     "name": "stderr",
     "output_type": "stream",
     "text": [
      "Epoch:   0%|                                                                                     | 0/20 [00:00<?, ?it/s]"
     ]
    },
    {
     "name": "stdout",
     "output_type": "stream",
     "text": [
      "Begin group  2 training\n"
     ]
    },
    {
     "name": "stderr",
     "output_type": "stream",
     "text": [
      "Epoch:   0%|                                                                                     | 0/20 [00:00<?, ?it/s]"
     ]
    },
    {
     "name": "stdout",
     "output_type": "stream",
     "text": [
      "Begin group  3 training\n"
     ]
    },
    {
     "name": "stderr",
     "output_type": "stream",
     "text": [
      "                                                                                                                        "
     ]
    },
    {
     "name": "stdout",
     "output_type": "stream",
     "text": [
      "Begin group  4 training\n"
     ]
    },
    {
     "name": "stderr",
     "output_type": "stream",
     "text": [
      "\r"
     ]
    },
    {
     "name": "stdout",
     "output_type": "stream",
     "text": [
      "Group 0, clients ['f_00143', 'f_00124', 'f_00024', 'f_00072', 'f_00184', 'f_00063', 'f_00093', 'f_00183']\n",
      "Group 1, clients ['f_00097', 'f_00067']\n",
      "Group 2, clients ['f_00081', 'f_00142', 'f_00171', 'f_00021', 'f_00111']\n",
      "Group 3, clients ['f_00026', 'f_00126', 'f_00106']\n",
      "Group 4, clients ['f_00150', 'f_00129']\n"
     ]
    },
    {
     "name": "stderr",
     "output_type": "stream",
     "text": [
      "Epoch:   0%|                                                                                     | 0/20 [00:00<?, ?it/s]"
     ]
    },
    {
     "name": "stdout",
     "output_type": "stream",
     "text": [
      "Group 0\n",
      "At round 30 accuracy: 0.8078817733990148\n",
      "At round 30 training accuracy: 0.8107951247823564\n",
      "At round 30 training loss: 0.7253554978721963\n",
      "Group 1\n",
      "At round 30 accuracy: 0.8132530120481928\n",
      "At round 30 training accuracy: 0.7758374910905204\n",
      "At round 30 training loss: 0.599813118067199\n",
      "Group 2\n",
      "At round 30 accuracy: 0.7090909090909091\n",
      "At round 30 training accuracy: 0.7211313697989715\n",
      "At round 30 training loss: 0.983749730515983\n",
      "Group 3\n",
      "At round 30 accuracy: 0.8157099697885196\n",
      "At round 30 training accuracy: 0.7946332737030412\n",
      "At round 30 training loss: 0.8286970861509363\n",
      "Group 4\n",
      "At round 30 accuracy: 0.6777777777777778\n",
      "At round 30 training accuracy: 0.6928294573643411\n",
      "At round 30 training loss: 1.2071886468649835\n",
      "At round 30 mean test accuracy: 0.7603950103950103 mean train accuracy: 0.7564703733024786\n",
      "The groups difference are: [11.80581278 11.72590032 11.77473812 11.84711325 11.78384957]\n",
      "Begin group  0 training\n"
     ]
    },
    {
     "name": "stderr",
     "output_type": "stream",
     "text": [
      "Epoch:  20%|███████████████▍                                                             | 4/20 [00:00<00:00, 33.90it/s]"
     ]
    },
    {
     "name": "stdout",
     "output_type": "stream",
     "text": [
      "Begin group  1 training\n"
     ]
    },
    {
     "name": "stderr",
     "output_type": "stream",
     "text": [
      "Epoch:   0%|                                                                                     | 0/20 [00:00<?, ?it/s]"
     ]
    },
    {
     "name": "stdout",
     "output_type": "stream",
     "text": [
      "Begin group  2 training\n"
     ]
    },
    {
     "name": "stderr",
     "output_type": "stream",
     "text": [
      "Epoch:   0%|                                                                                     | 0/20 [00:00<?, ?it/s]"
     ]
    },
    {
     "name": "stdout",
     "output_type": "stream",
     "text": [
      "Begin group  3 training\n"
     ]
    },
    {
     "name": "stderr",
     "output_type": "stream",
     "text": [
      "Epoch:  85%|███████████████████████████████████████████████████████████████▊           | 17/20 [00:00<00:00, 167.15it/s]"
     ]
    },
    {
     "name": "stdout",
     "output_type": "stream",
     "text": [
      "Begin group  4 training\n"
     ]
    },
    {
     "name": "stderr",
     "output_type": "stream",
     "text": [
      "                                                                                                                        \r"
     ]
    },
    {
     "name": "stdout",
     "output_type": "stream",
     "text": [
      "Group 0, clients ['f_00043']\n",
      "Group 1, clients ['f_00148', 'f_00008', 'f_00137', 'f_00147', 'f_00169', 'f_00118', 'f_00017', 'f_00157']\n",
      "Group 2, clients ['f_00102', 'f_00041']\n",
      "Group 3, clients ['f_00056', 'f_00055', 'f_00045', 'f_00096']\n",
      "Group 4, clients ['f_00079', 'f_00179', 'f_00139', 'f_00189', 'f_00010']\n"
     ]
    },
    {
     "name": "stderr",
     "output_type": "stream",
     "text": [
      "Epoch:   0%|                                                                                     | 0/20 [00:00<?, ?it/s]"
     ]
    },
    {
     "name": "stdout",
     "output_type": "stream",
     "text": [
      "Group 0\n",
      "At round 31 accuracy: 0.8251231527093597\n",
      "At round 31 training accuracy: 0.8345908299477656\n",
      "At round 31 training loss: 0.5239776611950808\n",
      "Group 1\n",
      "At round 31 accuracy: 0.6656626506024096\n",
      "At round 31 training accuracy: 0.6981468282252317\n",
      "At round 31 training loss: 1.1047274033331225\n",
      "Group 2\n",
      "At round 31 accuracy: 0.7232323232323232\n",
      "At round 31 training accuracy: 0.728143992519869\n",
      "At round 31 training loss: 0.8528143489030602\n",
      "Group 3\n",
      "At round 31 accuracy: 0.7854984894259819\n",
      "At round 31 training accuracy: 0.7846153846153846\n",
      "At round 31 training loss: 0.639063374580872\n",
      "Group 4\n",
      "At round 31 accuracy: 0.7611111111111111\n",
      "At round 31 training accuracy: 0.7441860465116279\n",
      "At round 31 training loss: 0.735989935826077\n",
      "At round 31 mean test accuracy: 0.7525987525987526 mean train accuracy: 0.7579928140795323\n",
      "The groups difference are: [11.95119237 11.88379289 11.91162339 11.97752634 11.92145774]\n",
      "Begin group  0 training\n",
      "Begin group  1 training\n"
     ]
    },
    {
     "name": "stderr",
     "output_type": "stream",
     "text": [
      "Epoch:  25%|███████████████████▎                                                         | 5/20 [00:00<00:00, 48.78it/s]"
     ]
    },
    {
     "name": "stdout",
     "output_type": "stream",
     "text": [
      "Begin group  2 training\n"
     ]
    },
    {
     "name": "stderr",
     "output_type": "stream",
     "text": [
      "Epoch:   0%|                                                                                     | 0/20 [00:00<?, ?it/s]"
     ]
    },
    {
     "name": "stdout",
     "output_type": "stream",
     "text": [
      "Begin group  3 training\n"
     ]
    },
    {
     "name": "stderr",
     "output_type": "stream",
     "text": [
      "Epoch:  50%|██████████████████████████████████████                                      | 10/20 [00:00<00:00, 95.78it/s]"
     ]
    },
    {
     "name": "stdout",
     "output_type": "stream",
     "text": [
      "Begin group  4 training\n"
     ]
    },
    {
     "name": "stderr",
     "output_type": "stream",
     "text": [
      "                                                                                                                        \r"
     ]
    },
    {
     "name": "stdout",
     "output_type": "stream",
     "text": [
      "Group 0, clients ['f_00144', 'f_00023', 'f_00173']\n",
      "Group 1, clients ['f_00167', 'f_00028', 'f_00027', 'f_00107', 'f_00017', 'f_00118']\n",
      "Group 2, clients ['f_00122', 'f_00101', 'f_00121', 'f_00182', 'f_00181', 'f_00002']\n",
      "Group 3, clients ['f_00186', 'f_00075']\n",
      "Group 4, clients ['f_00029', 'f_00039', 'f_00109']\n"
     ]
    },
    {
     "name": "stderr",
     "output_type": "stream",
     "text": [
      "Epoch:   0%|                                                                                     | 0/20 [00:00<?, ?it/s]"
     ]
    },
    {
     "name": "stdout",
     "output_type": "stream",
     "text": [
      "Group 0\n",
      "At round 32 accuracy: 0.8103448275862069\n",
      "At round 32 training accuracy: 0.8081834010446894\n",
      "At round 32 training loss: 0.6535173618481713\n",
      "Group 1\n",
      "At round 32 accuracy: 0.5813253012048193\n",
      "At round 32 training accuracy: 0.5138987883107626\n",
      "At round 32 training loss: 1.064983118200676\n",
      "Group 2\n",
      "At round 32 accuracy: 0.8424242424242424\n",
      "At round 32 training accuracy: 0.8408134642356241\n",
      "At round 32 training loss: 0.42613659151222394\n",
      "Group 3\n",
      "At round 32 accuracy: 0.8308157099697885\n",
      "At round 32 training accuracy: 0.855098389982111\n",
      "At round 32 training loss: 0.48154304975207246\n",
      "Group 4\n",
      "At round 32 accuracy: 0.7638888888888888\n",
      "At round 32 training accuracy: 0.7412790697674418\n",
      "At round 32 training loss: 0.6252281485794434\n",
      "At round 32 mean test accuracy: 0.7739085239085239 mean train accuracy: 0.7617684672066256\n",
      "The groups difference are: [12.06610091 12.01432112 12.04790449 12.11285526 12.06291464]\n",
      "Begin group  0 training\n"
     ]
    },
    {
     "name": "stderr",
     "output_type": "stream",
     "text": [
      "Epoch:   0%|                                                                                     | 0/20 [00:00<?, ?it/s]"
     ]
    },
    {
     "name": "stdout",
     "output_type": "stream",
     "text": [
      "Begin group  1 training\n"
     ]
    },
    {
     "name": "stderr",
     "output_type": "stream",
     "text": [
      "Epoch:  25%|███████████████████▎                                                         | 5/20 [00:00<00:00, 42.18it/s]"
     ]
    },
    {
     "name": "stdout",
     "output_type": "stream",
     "text": [
      "Begin group  2 training\n"
     ]
    },
    {
     "name": "stderr",
     "output_type": "stream",
     "text": [
      "Epoch:   0%|                                                                                     | 0/20 [00:00<?, ?it/s]"
     ]
    },
    {
     "name": "stdout",
     "output_type": "stream",
     "text": [
      "Begin group  3 training\n"
     ]
    },
    {
     "name": "stderr",
     "output_type": "stream",
     "text": [
      "Epoch:   0%|                                                                                     | 0/20 [00:00<?, ?it/s]"
     ]
    },
    {
     "name": "stdout",
     "output_type": "stream",
     "text": [
      "Begin group  4 training\n"
     ]
    },
    {
     "name": "stderr",
     "output_type": "stream",
     "text": [
      "                                                                                                                        \r"
     ]
    },
    {
     "name": "stdout",
     "output_type": "stream",
     "text": [
      "Group 0, clients ['f_00103', 'f_00054']\n",
      "Group 1, clients ['f_00017', 'f_00117', 'f_00008', 'f_00118', 'f_00038']\n",
      "Group 2, clients ['f_00171', 'f_00162', 'f_00081']\n",
      "Group 3, clients ['f_00015', 'f_00116', 'f_00126', 'f_00085']\n",
      "Group 4, clients ['f_00119', 'f_00100', 'f_00109', 'f_00029', 'f_00149', 'f_00189']\n"
     ]
    },
    {
     "name": "stderr",
     "output_type": "stream",
     "text": [
      "                                                                                                                        "
     ]
    },
    {
     "name": "stdout",
     "output_type": "stream",
     "text": [
      "Group 0\n",
      "At round 33 accuracy: 0.8251231527093597\n",
      "At round 33 training accuracy: 0.8195008705745792\n",
      "At round 33 training loss: 0.6240584521888994\n",
      "Group 1\n",
      "At round 33 accuracy: 0.7951807228915663\n",
      "At round 33 training accuracy: 0.7565930149679259\n",
      "At round 33 training loss: 0.6432022680279534\n",
      "Group 2\n",
      "At round 33 accuracy: 0.793939393939394\n",
      "At round 33 training accuracy: 0.8099579242636746\n",
      "At round 33 training loss: 0.4568938481690673\n",
      "Group 3\n",
      "At round 33 accuracy: 0.8126888217522659\n",
      "At round 33 training accuracy: 0.807871198568873\n",
      "At round 33 training loss: 0.5344408846125407\n",
      "Group 4\n",
      "At round 33 accuracy: 0.75\n",
      "At round 33 training accuracy: 0.7419250645994832\n",
      "At round 33 training loss: 0.933166671811437\n",
      "At round 33 mean test accuracy: 0.7957380457380457 mean train accuracy: 0.7896595822422507\n",
      "The groups difference are: [12.20537865 12.1607316  12.19940672 12.26375713 12.20032845]\n",
      "Begin group  0 training\n"
     ]
    },
    {
     "name": "stderr",
     "output_type": "stream",
     "text": [
      "Epoch:  75%|████████████████████████████████████████████████████████▎                  | 15/20 [00:00<00:00, 147.81it/s]"
     ]
    },
    {
     "name": "stdout",
     "output_type": "stream",
     "text": [
      "Begin group  1 training\n"
     ]
    },
    {
     "name": "stderr",
     "output_type": "stream",
     "text": [
      "Epoch:   0%|                                                                                     | 0/20 [00:00<?, ?it/s]"
     ]
    },
    {
     "name": "stdout",
     "output_type": "stream",
     "text": [
      "Begin group  2 training\n"
     ]
    },
    {
     "name": "stderr",
     "output_type": "stream",
     "text": [
      "Epoch:  50%|██████████████████████████████████████                                      | 10/20 [00:00<00:00, 95.28it/s]"
     ]
    },
    {
     "name": "stdout",
     "output_type": "stream",
     "text": [
      "Begin group  3 training\n"
     ]
    },
    {
     "name": "stderr",
     "output_type": "stream",
     "text": [
      "Epoch:   0%|                                                                                     | 0/20 [00:00<?, ?it/s]"
     ]
    },
    {
     "name": "stdout",
     "output_type": "stream",
     "text": [
      "Begin group  4 training\n"
     ]
    },
    {
     "name": "stderr",
     "output_type": "stream",
     "text": [
      "                                                                                                                        \r"
     ]
    },
    {
     "name": "stdout",
     "output_type": "stream",
     "text": [
      "Group 0, clients ['f_00074', 'f_00183', 'f_00184', 'f_00064', 'f_00003', 'f_00113']\n",
      "Group 1, clients ['f_00087', 'f_00169', 'f_00097']\n",
      "Group 2, clients ['f_00142']\n",
      "Group 3, clients ['f_00195', 'f_00166', 'f_00076', 'f_00026']\n",
      "Group 4, clients ['f_00010', 'f_00079', 'f_00129', 'f_00180', 'f_00189', 'f_00040']\n"
     ]
    },
    {
     "name": "stderr",
     "output_type": "stream",
     "text": [
      "Epoch:  50%|██████████████████████████████████████                                      | 10/20 [00:00<00:00, 90.60it/s]"
     ]
    },
    {
     "name": "stdout",
     "output_type": "stream",
     "text": [
      "Group 0\n",
      "At round 34 accuracy: 0.8349753694581281\n",
      "At round 34 training accuracy: 0.8406848520023216\n",
      "At round 34 training loss: 0.5203538685691128\n",
      "Group 1\n",
      "At round 34 accuracy: 0.49698795180722893\n",
      "At round 34 training accuracy: 0.4953670705630791\n",
      "At round 34 training loss: 1.4939425296003446\n",
      "Group 2\n",
      "At round 34 accuracy: 0.8\n",
      "At round 34 training accuracy: 0.7938288920056101\n",
      "At round 34 training loss: 0.5666086288537375\n",
      "Group 3\n",
      "At round 34 accuracy: 0.8157099697885196\n",
      "At round 34 training accuracy: 0.7957066189624329\n",
      "At round 34 training loss: 0.5952229007772022\n",
      "Group 4\n",
      "At round 34 accuracy: 0.7555555555555555\n",
      "At round 34 training accuracy: 0.7241602067183462\n",
      "At round 34 training loss: 0.8603178064124682\n",
      "At round 34 mean test accuracy: 0.7494802494802495 mean train accuracy: 0.7398453200170514\n",
      "The groups difference are: [12.31622019 12.28862065 12.31982301 12.38986805 12.3226304 ]\n",
      "Begin group  0 training\n"
     ]
    },
    {
     "name": "stderr",
     "output_type": "stream",
     "text": [
      "Epoch:  20%|███████████████▍                                                             | 4/20 [00:00<00:00, 33.81it/s]"
     ]
    },
    {
     "name": "stdout",
     "output_type": "stream",
     "text": [
      "Begin group  1 training\n"
     ]
    },
    {
     "name": "stderr",
     "output_type": "stream",
     "text": [
      "Epoch:   0%|                                                                                     | 0/20 [00:00<?, ?it/s]"
     ]
    },
    {
     "name": "stdout",
     "output_type": "stream",
     "text": [
      "Begin group  2 training\n",
      "Begin group  3 training\n"
     ]
    },
    {
     "name": "stderr",
     "output_type": "stream",
     "text": [
      "Epoch:  30%|███████████████████████                                                      | 6/20 [00:00<00:00, 52.04it/s]"
     ]
    },
    {
     "name": "stdout",
     "output_type": "stream",
     "text": [
      "Begin group  4 training\n"
     ]
    },
    {
     "name": "stderr",
     "output_type": "stream",
     "text": [
      "                                                                                                                        \r"
     ]
    },
    {
     "name": "stdout",
     "output_type": "stream",
     "text": [
      "Group 0, clients ['f_00133', 'f_00154', 'f_00164', 'f_00003', 'f_00043', 'f_00074']\n",
      "Group 1, clients ['f_00077', 'f_00049', 'f_00068', 'f_00028', 'f_00127', 'f_00087']\n",
      "Group 2, clients ['f_00142', 'f_00102']\n",
      "Group 3, clients ['f_00136', 'f_00096', 'f_00156']\n",
      "Group 4, clients ['f_00130', 'f_00010', 'f_00179']\n"
     ]
    },
    {
     "name": "stderr",
     "output_type": "stream",
     "text": [
      "Epoch:  35%|██████████████████████████▉                                                  | 7/20 [00:00<00:00, 63.23it/s]"
     ]
    },
    {
     "name": "stdout",
     "output_type": "stream",
     "text": [
      "Group 0\n",
      "At round 35 accuracy: 0.8497536945812808\n",
      "At round 35 training accuracy: 0.871445153801509\n",
      "At round 35 training loss: 0.43983706645775655\n",
      "Group 1\n",
      "At round 35 accuracy: 0.713855421686747\n",
      "At round 35 training accuracy: 0.7280826799714897\n",
      "At round 35 training loss: 0.8723417857047158\n",
      "Group 2\n",
      "At round 35 accuracy: 0.8323232323232324\n",
      "At round 35 training accuracy: 0.8438522674146798\n",
      "At round 35 training loss: 0.4030882518158554\n",
      "Group 3\n",
      "At round 35 accuracy: 0.8157099697885196\n",
      "At round 35 training accuracy: 0.7935599284436494\n",
      "At round 35 training loss: 0.5870133978856165\n",
      "Group 4\n",
      "At round 35 accuracy: 0.8305555555555556\n",
      "At round 35 training accuracy: 0.8042635658914729\n",
      "At round 35 training loss: 0.49614608744087146\n",
      "At round 35 mean test accuracy: 0.8123700623700624 mean train accuracy: 0.8138359417818647\n",
      "The groups difference are: [12.44958986 12.43363857 12.45182229 12.52292074 12.47363441]\n",
      "Begin group  0 training\n"
     ]
    },
    {
     "name": "stderr",
     "output_type": "stream",
     "text": [
      "Epoch:   0%|                                                                                     | 0/20 [00:00<?, ?it/s]"
     ]
    },
    {
     "name": "stdout",
     "output_type": "stream",
     "text": [
      "Begin group  1 training\n"
     ]
    },
    {
     "name": "stderr",
     "output_type": "stream",
     "text": [
      "Epoch:   0%|                                                                                     | 0/20 [00:00<?, ?it/s]"
     ]
    },
    {
     "name": "stdout",
     "output_type": "stream",
     "text": [
      "Begin group  2 training\n"
     ]
    },
    {
     "name": "stderr",
     "output_type": "stream",
     "text": [
      "Epoch:  40%|██████████████████████████████▊                                              | 8/20 [00:00<00:00, 73.02it/s]"
     ]
    },
    {
     "name": "stdout",
     "output_type": "stream",
     "text": [
      "Begin group  3 training\n"
     ]
    },
    {
     "name": "stderr",
     "output_type": "stream",
     "text": [
      "Epoch:  30%|███████████████████████                                                      | 6/20 [00:00<00:00, 58.92it/s]"
     ]
    },
    {
     "name": "stdout",
     "output_type": "stream",
     "text": [
      "Begin group  4 training\n"
     ]
    },
    {
     "name": "stderr",
     "output_type": "stream",
     "text": [
      "                                                                                                                        \r"
     ]
    },
    {
     "name": "stdout",
     "output_type": "stream",
     "text": [
      "Group 0, clients ['f_00184', 'f_00143', 'f_00014', 'f_00053', 'f_00074']\n",
      "Group 1, clients ['f_00097', 'f_00198', 'f_00077', 'f_00058']\n",
      "Group 2, clients ['f_00052', 'f_00092', 'f_00061']\n",
      "Group 3, clients ['f_00106', 'f_00155', 'f_00085', 'f_00156', 'f_00075', 'f_00056']\n",
      "Group 4, clients ['f_00010', 'f_00139']\n"
     ]
    },
    {
     "name": "stderr",
     "output_type": "stream",
     "text": [
      "Epoch:  55%|█████████████████████████████████████████▎                                 | 11/20 [00:00<00:00, 107.08it/s]"
     ]
    },
    {
     "name": "stdout",
     "output_type": "stream",
     "text": [
      "Group 0\n",
      "At round 36 accuracy: 0.8029556650246306\n",
      "At round 36 training accuracy: 0.7666860127684272\n",
      "At round 36 training loss: 0.779739171134668\n",
      "Group 1\n",
      "At round 36 accuracy: 0.7289156626506024\n",
      "At round 36 training accuracy: 0.7512473271560941\n",
      "At round 36 training loss: 0.6758043971855302\n",
      "Group 2\n",
      "At round 36 accuracy: 0.8202020202020202\n",
      "At round 36 training accuracy: 0.822814399251987\n",
      "At round 36 training loss: 0.5170436181709721\n",
      "Group 3\n",
      "At round 36 accuracy: 0.7885196374622356\n",
      "At round 36 training accuracy: 0.7817531305903399\n",
      "At round 36 training loss: 0.8415683887259159\n",
      "Group 4\n",
      "At round 36 accuracy: 0.8\n",
      "At round 36 training accuracy: 0.8162144702842378\n",
      "At round 36 training loss: 0.4787945152075061\n",
      "At round 36 mean test accuracy: 0.7915800415800416 mean train accuracy: 0.790573046708483\n",
      "The groups difference are: [12.62721794 12.61256281 12.63096201 12.69075881 12.65672727]\n",
      "Begin group  0 training\n"
     ]
    },
    {
     "name": "stderr",
     "output_type": "stream",
     "text": [
      "Epoch:  80%|████████████████████████████████████████████████████████████               | 16/20 [00:00<00:00, 154.43it/s]"
     ]
    },
    {
     "name": "stdout",
     "output_type": "stream",
     "text": [
      "Begin group  1 training\n"
     ]
    },
    {
     "name": "stderr",
     "output_type": "stream",
     "text": [
      "Epoch:  25%|███████████████████▎                                                         | 5/20 [00:00<00:00, 48.45it/s]"
     ]
    },
    {
     "name": "stdout",
     "output_type": "stream",
     "text": [
      "Begin group  2 training\n"
     ]
    },
    {
     "name": "stderr",
     "output_type": "stream",
     "text": [
      "Epoch:   0%|                                                                                     | 0/20 [00:00<?, ?it/s]"
     ]
    },
    {
     "name": "stdout",
     "output_type": "stream",
     "text": [
      "Begin group  3 training\n"
     ]
    },
    {
     "name": "stderr",
     "output_type": "stream",
     "text": [
      "Epoch:  35%|██████████████████████████▉                                                  | 7/20 [00:00<00:00, 64.67it/s]"
     ]
    },
    {
     "name": "stdout",
     "output_type": "stream",
     "text": [
      "Begin group  4 training\n"
     ]
    },
    {
     "name": "stderr",
     "output_type": "stream",
     "text": [
      "                                                                                                                        \r"
     ]
    },
    {
     "name": "stdout",
     "output_type": "stream",
     "text": [
      "Group 0, clients ['f_00183', 'f_00004', 'f_00153', 'f_00003', 'f_00114', 'f_00174']\n",
      "Group 1, clients ['f_00187', 'f_00078']\n",
      "Group 2, clients ['f_00121', 'f_00132', 'f_00002', 'f_00102', 'f_00081']\n",
      "Group 3, clients ['f_00125', 'f_00146', 'f_00195']\n",
      "Group 4, clients ['f_00150', 'f_00069', 'f_00070', 'f_00020']\n"
     ]
    },
    {
     "name": "stderr",
     "output_type": "stream",
     "text": [
      "Epoch:   0%|                                                                                     | 0/20 [00:00<?, ?it/s]"
     ]
    },
    {
     "name": "stdout",
     "output_type": "stream",
     "text": [
      "Group 0\n",
      "At round 37 accuracy: 0.8571428571428571\n",
      "At round 37 training accuracy: 0.883633197910621\n",
      "At round 37 training loss: 0.4053031713834213\n",
      "Group 1\n",
      "At round 37 accuracy: 0.8162650602409639\n",
      "At round 37 training accuracy: 0.800784034212402\n",
      "At round 37 training loss: 0.5751643229491016\n",
      "Group 2\n",
      "At round 37 accuracy: 0.8646464646464647\n",
      "At round 37 training accuracy: 0.8571762505843852\n",
      "At round 37 training loss: 0.49690469743465365\n",
      "Group 3\n",
      "At round 37 accuracy: 0.8942598187311178\n",
      "At round 37 training accuracy: 0.8887298747763864\n",
      "At round 37 training loss: 0.40907929196607234\n",
      "Group 4\n",
      "At round 37 accuracy: 0.8305555555555556\n",
      "At round 37 training accuracy: 0.8204134366925064\n",
      "At round 37 training loss: 0.5853996587151936\n",
      "At round 37 mean test accuracy: 0.8534303534303534 mean train accuracy: 0.8515315754217161\n",
      "The groups difference are: [12.76574611 12.7527412  12.77497836 12.83316854 12.810368  ]\n",
      "Begin group  0 training\n"
     ]
    },
    {
     "name": "stderr",
     "output_type": "stream",
     "text": [
      "                                                                                                                        "
     ]
    },
    {
     "name": "stdout",
     "output_type": "stream",
     "text": [
      "Begin group  1 training\n"
     ]
    },
    {
     "name": "stderr",
     "output_type": "stream",
     "text": [
      "Epoch:  25%|███████████████████▎                                                         | 5/20 [00:00<00:00, 48.44it/s]"
     ]
    },
    {
     "name": "stdout",
     "output_type": "stream",
     "text": [
      "Begin group  2 training\n"
     ]
    },
    {
     "name": "stderr",
     "output_type": "stream",
     "text": [
      "Epoch:   0%|                                                                                     | 0/20 [00:00<?, ?it/s]"
     ]
    },
    {
     "name": "stdout",
     "output_type": "stream",
     "text": [
      "Begin group  3 training\n"
     ]
    },
    {
     "name": "stderr",
     "output_type": "stream",
     "text": [
      "Epoch:  60%|█████████████████████████████████████████████                              | 12/20 [00:00<00:00, 116.93it/s]"
     ]
    },
    {
     "name": "stdout",
     "output_type": "stream",
     "text": [
      "Begin group  4 training\n"
     ]
    },
    {
     "name": "stderr",
     "output_type": "stream",
     "text": [
      "                                                                                                                        \r"
     ]
    },
    {
     "name": "stdout",
     "output_type": "stream",
     "text": [
      "Group 0, clients ['f_00124', 'f_00084', 'f_00174', 'f_00113', 'f_00172']\n",
      "Group 1, clients ['f_00137', 'f_00058', 'f_00197', 'f_00176', 'f_00049', 'f_00117']\n",
      "Group 2, clients ['f_00041', 'f_00191', 'f_00152', 'f_00181', 'f_00011']\n",
      "Group 3, clients ['f_00136', 'f_00186']\n",
      "Group 4, clients ['f_00170', 'f_00120']\n"
     ]
    },
    {
     "name": "stderr",
     "output_type": "stream",
     "text": [
      "Epoch:  35%|██████████████████████████▉                                                  | 7/20 [00:00<00:00, 61.04it/s]"
     ]
    },
    {
     "name": "stdout",
     "output_type": "stream",
     "text": [
      "Group 0\n",
      "At round 38 accuracy: 0.8571428571428571\n",
      "At round 38 training accuracy: 0.8853743470690656\n",
      "At round 38 training loss: 0.42181740350506713\n",
      "Group 1\n",
      "At round 38 accuracy: 0.8253012048192772\n",
      "At round 38 training accuracy: 0.8111190306486101\n",
      "At round 38 training loss: 0.5633133999148353\n",
      "Group 2\n",
      "At round 38 accuracy: 0.8202020202020202\n",
      "At round 38 training accuracy: 0.835203366058906\n",
      "At round 38 training loss: 0.43064603869215023\n",
      "Group 3\n",
      "At round 38 accuracy: 0.8157099697885196\n",
      "At round 38 training accuracy: 0.8028622540250447\n",
      "At round 38 training loss: 0.5583163137312759\n",
      "Group 4\n",
      "At round 38 accuracy: 0.825\n",
      "At round 38 training accuracy: 0.8307493540051679\n",
      "At round 38 training loss: 0.489805657996553\n",
      "At round 38 mean test accuracy: 0.829002079002079 mean train accuracy: 0.8352719079227818\n",
      "The groups difference are: [12.86762639 12.85678418 12.88614082 12.94151162 12.92442783]\n",
      "Begin group  0 training\n"
     ]
    },
    {
     "name": "stderr",
     "output_type": "stream",
     "text": [
      "Epoch:   0%|                                                                                     | 0/20 [00:00<?, ?it/s]"
     ]
    },
    {
     "name": "stdout",
     "output_type": "stream",
     "text": [
      "Begin group  1 training\n"
     ]
    },
    {
     "name": "stderr",
     "output_type": "stream",
     "text": [
      "Epoch:  75%|████████████████████████████████████████████████████████▎                  | 15/20 [00:00<00:00, 146.50it/s]"
     ]
    },
    {
     "name": "stdout",
     "output_type": "stream",
     "text": [
      "Begin group  2 training\n"
     ]
    },
    {
     "name": "stderr",
     "output_type": "stream",
     "text": [
      "Epoch:  40%|██████████████████████████████▊                                              | 8/20 [00:00<00:00, 77.74it/s]"
     ]
    },
    {
     "name": "stdout",
     "output_type": "stream",
     "text": [
      "Begin group  3 training\n"
     ]
    },
    {
     "name": "stderr",
     "output_type": "stream",
     "text": [
      "Epoch:  70%|████████████████████████████████████████████████████▌                      | 14/20 [00:00<00:00, 135.97it/s]"
     ]
    },
    {
     "name": "stdout",
     "output_type": "stream",
     "text": [
      "Begin group  4 training\n"
     ]
    },
    {
     "name": "stderr",
     "output_type": "stream",
     "text": [
      "                                                                                                                        \r"
     ]
    },
    {
     "name": "stdout",
     "output_type": "stream",
     "text": [
      "Group 0, clients ['f_00173', 'f_00074', 'f_00044', 'f_00083', 'f_00023']\n",
      "Group 1, clients ['f_00128', 'f_00117', 'f_00108', 'f_00107']\n",
      "Group 2, clients ['f_00191', 'f_00192', 'f_00002']\n",
      "Group 3, clients ['f_00125', 'f_00095', 'f_00005', 'f_00006', 'f_00135']\n",
      "Group 4, clients ['f_00020', 'f_00019', 'f_00160']\n"
     ]
    },
    {
     "name": "stderr",
     "output_type": "stream",
     "text": [
      "Epoch:   0%|                                                                                     | 0/20 [00:00<?, ?it/s]"
     ]
    },
    {
     "name": "stdout",
     "output_type": "stream",
     "text": [
      "Group 0\n",
      "At round 39 accuracy: 0.9014778325123153\n",
      "At round 39 training accuracy: 0.9155542658154382\n",
      "At round 39 training loss: 0.30043325971463913\n",
      "Group 1\n",
      "At round 39 accuracy: 0.7349397590361446\n",
      "At round 39 training accuracy: 0.7462580185317177\n",
      "At round 39 training loss: 0.7518925735792006\n",
      "Group 2\n",
      "At round 39 accuracy: 0.8464646464646465\n",
      "At round 39 training accuracy: 0.8641888733052828\n",
      "At round 39 training loss: 0.36263918260642725\n",
      "Group 3\n",
      "At round 39 accuracy: 0.8006042296072508\n",
      "At round 39 training accuracy: 0.7853309481216458\n",
      "At round 39 training loss: 0.678352740692218\n",
      "Group 4\n",
      "At round 39 accuracy: 0.7888888888888889\n",
      "At round 39 training accuracy: 0.8068475452196382\n",
      "At round 39 training loss: 0.6326009570584856\n",
      "At round 39 mean test accuracy: 0.8201663201663202 mean train accuracy: 0.8305827903294561\n",
      "The groups difference are: [12.96596967 12.95270407 12.98174855 13.04678257 13.02221965]\n",
      "Begin group  0 training\n"
     ]
    },
    {
     "name": "stderr",
     "output_type": "stream",
     "text": [
      "                                                                                                                        "
     ]
    },
    {
     "name": "stdout",
     "output_type": "stream",
     "text": [
      "Begin group  1 training\n"
     ]
    },
    {
     "name": "stderr",
     "output_type": "stream",
     "text": [
      "Epoch:   0%|                                                                                     | 0/20 [00:00<?, ?it/s]"
     ]
    },
    {
     "name": "stdout",
     "output_type": "stream",
     "text": [
      "Begin group  2 training\n"
     ]
    },
    {
     "name": "stderr",
     "output_type": "stream",
     "text": [
      "Epoch:   0%|                                                                                     | 0/20 [00:00<?, ?it/s]"
     ]
    },
    {
     "name": "stdout",
     "output_type": "stream",
     "text": [
      "Begin group  3 training\n"
     ]
    },
    {
     "name": "stderr",
     "output_type": "stream",
     "text": [
      "Epoch:   0%|                                                                                     | 0/20 [00:00<?, ?it/s]"
     ]
    },
    {
     "name": "stdout",
     "output_type": "stream",
     "text": [
      "Begin group  4 training\n"
     ]
    },
    {
     "name": "stderr",
     "output_type": "stream",
     "text": [
      "                                                                                                                        \r"
     ]
    },
    {
     "name": "stdout",
     "output_type": "stream",
     "text": [
      "Group 0, clients ['f_00183', 'f_00054', 'f_00134', 'f_00023']\n",
      "Group 1, clients ['f_00177', 'f_00089']\n",
      "Group 2, clients ['f_00191', 'f_00142', 'f_00171', 'f_00132']\n",
      "Group 3, clients ['f_00096', 'f_00005', 'f_00116', 'f_00035', 'f_00026', 'f_00037']\n",
      "Group 4, clients ['f_00160', 'f_00090', 'f_00139', 'f_00140']\n"
     ]
    },
    {
     "name": "stderr",
     "output_type": "stream",
     "text": [
      "Epoch:   0%|                                                                                     | 0/20 [00:00<?, ?it/s]"
     ]
    },
    {
     "name": "stdout",
     "output_type": "stream",
     "text": [
      "Group 0\n",
      "At round 40 accuracy: 0.8620689655172413\n",
      "At round 40 training accuracy: 0.8746372605919908\n",
      "At round 40 training loss: 0.3845355693938441\n",
      "Group 1\n",
      "At round 40 accuracy: 0.8162650602409639\n",
      "At round 40 training accuracy: 0.83071988595866\n",
      "At round 40 training loss: 0.5223960507812453\n",
      "Group 2\n",
      "At round 40 accuracy: 0.8808080808080808\n",
      "At round 40 training accuracy: 0.8828892005610098\n",
      "At round 40 training loss: 0.321441716616847\n",
      "Group 3\n",
      "At round 40 accuracy: 0.8489425981873112\n",
      "At round 40 training accuracy: 0.823613595706619\n",
      "At round 40 training loss: 0.5143129879305529\n",
      "Group 4\n",
      "At round 40 accuracy: 0.7722222222222223\n",
      "At round 40 training accuracy: 0.7819767441860465\n",
      "At round 40 training loss: 0.7517164739845104\n",
      "At round 40 mean test accuracy: 0.83991683991684 mean train accuracy: 0.8431277023323793\n",
      "The groups difference are: [13.10446853 13.10570422 13.126823   13.20211217 13.18297897]\n",
      "Begin group  0 training\n"
     ]
    },
    {
     "name": "stderr",
     "output_type": "stream",
     "text": [
      "Epoch:  35%|██████████████████████████▉                                                  | 7/20 [00:00<00:00, 69.00it/s]"
     ]
    },
    {
     "name": "stdout",
     "output_type": "stream",
     "text": [
      "Begin group  1 training\n"
     ]
    },
    {
     "name": "stderr",
     "output_type": "stream",
     "text": [
      "Epoch:   0%|                                                                                     | 0/20 [00:00<?, ?it/s]"
     ]
    },
    {
     "name": "stdout",
     "output_type": "stream",
     "text": [
      "Begin group  2 training\n"
     ]
    },
    {
     "name": "stderr",
     "output_type": "stream",
     "text": [
      "Epoch:   0%|                                                                                     | 0/20 [00:00<?, ?it/s]"
     ]
    },
    {
     "name": "stdout",
     "output_type": "stream",
     "text": [
      "Begin group  3 training\n"
     ]
    },
    {
     "name": "stderr",
     "output_type": "stream",
     "text": [
      "Epoch:  15%|███████████▌                                                                 | 3/20 [00:00<00:00, 26.53it/s]"
     ]
    },
    {
     "name": "stdout",
     "output_type": "stream",
     "text": [
      "Begin group  4 training\n"
     ]
    },
    {
     "name": "stderr",
     "output_type": "stream",
     "text": [
      "                                                                                                                        \r"
     ]
    },
    {
     "name": "stdout",
     "output_type": "stream",
     "text": [
      "Group 0, clients ['f_00063', 'f_00172', 'f_00014', 'f_00194']\n",
      "Group 1, clients ['f_00068', 'f_00118', 'f_00038', 'f_00137']\n",
      "Group 2, clients ['f_00152', 'f_00091', 'f_00051']\n",
      "Group 3, clients ['f_00096', 'f_00196', 'f_00165']\n",
      "Group 4, clients ['f_00168', 'f_00009', 'f_00030', 'f_00029', 'f_00130', 'f_00090']\n"
     ]
    },
    {
     "name": "stderr",
     "output_type": "stream",
     "text": [
      "Epoch:   0%|                                                                                     | 0/20 [00:00<?, ?it/s]"
     ]
    },
    {
     "name": "stdout",
     "output_type": "stream",
     "text": [
      "Group 0\n",
      "At round 41 accuracy: 0.8497536945812808\n",
      "At round 41 training accuracy: 0.8746372605919908\n",
      "At round 41 training loss: 0.4038789112356535\n",
      "Group 1\n",
      "At round 41 accuracy: 0.6716867469879518\n",
      "At round 41 training accuracy: 0.707056307911618\n",
      "At round 41 training loss: 0.7840387095044701\n",
      "Group 2\n",
      "At round 41 accuracy: 0.8484848484848485\n",
      "At round 41 training accuracy: 0.8590462833099579\n",
      "At round 41 training loss: 0.386692802132207\n",
      "Group 3\n",
      "At round 41 accuracy: 0.9093655589123867\n",
      "At round 41 training accuracy: 0.9155635062611807\n",
      "At round 41 training loss: 0.3231842885503615\n",
      "Group 4\n",
      "At round 41 accuracy: 0.8277777777777777\n",
      "At round 41 training accuracy: 0.832687338501292\n",
      "At round 41 training loss: 0.673939204259802\n",
      "At round 41 mean test accuracy: 0.8248440748440748 mean train accuracy: 0.840996285244504\n",
      "The groups difference are: [13.22927071 13.2280274  13.24275827 13.32325854 13.31382452]\n",
      "Begin group  0 training\n"
     ]
    },
    {
     "name": "stderr",
     "output_type": "stream",
     "text": [
      "Epoch:  45%|██████████████████████████████████▋                                          | 9/20 [00:00<00:00, 84.18it/s]"
     ]
    },
    {
     "name": "stdout",
     "output_type": "stream",
     "text": [
      "Begin group  1 training\n"
     ]
    },
    {
     "name": "stderr",
     "output_type": "stream",
     "text": [
      "Epoch:  30%|███████████████████████                                                      | 6/20 [00:00<00:00, 50.52it/s]"
     ]
    },
    {
     "name": "stdout",
     "output_type": "stream",
     "text": [
      "Begin group  2 training\n"
     ]
    },
    {
     "name": "stderr",
     "output_type": "stream",
     "text": [
      "Epoch:  50%|██████████████████████████████████████                                      | 10/20 [00:00<00:00, 93.56it/s]"
     ]
    },
    {
     "name": "stdout",
     "output_type": "stream",
     "text": [
      "Begin group  3 training\n"
     ]
    },
    {
     "name": "stderr",
     "output_type": "stream",
     "text": [
      "                                                                                                                        "
     ]
    },
    {
     "name": "stdout",
     "output_type": "stream",
     "text": [
      "Begin group  4 training\n"
     ]
    },
    {
     "name": "stderr",
     "output_type": "stream",
     "text": [
      "                                                                                                                        \r"
     ]
    },
    {
     "name": "stdout",
     "output_type": "stream",
     "text": [
      "Group 0, clients ['f_00174']\n",
      "Group 1, clients ['f_00158', 'f_00128', 'f_00078', 'f_00177', 'f_00068']\n",
      "Group 2, clients ['f_00182', 'f_00152', 'f_00082']\n",
      "Group 3, clients ['f_00095', 'f_00015', 'f_00115', 'f_00045', 'f_00066', 'f_00165', 'f_00186', 'f_00056']\n",
      "Group 4, clients ['f_00030', 'f_00069', 'f_00170']\n"
     ]
    },
    {
     "name": "stderr",
     "output_type": "stream",
     "text": [
      "Epoch:   0%|                                                                                     | 0/20 [00:00<?, ?it/s]"
     ]
    },
    {
     "name": "stdout",
     "output_type": "stream",
     "text": [
      "Group 0\n",
      "At round 42 accuracy: 0.9039408866995073\n",
      "At round 42 training accuracy: 0.9199071387115496\n",
      "At round 42 training loss: 0.29322232303192847\n",
      "Group 1\n",
      "At round 42 accuracy: 0.5753012048192772\n",
      "At round 42 training accuracy: 0.5773342836778332\n",
      "At round 42 training loss: 1.0697529947575042\n",
      "Group 2\n",
      "At round 42 accuracy: 0.8202020202020202\n",
      "At round 42 training accuracy: 0.8396446937821412\n",
      "At round 42 training loss: 0.4203475589031034\n",
      "Group 3\n",
      "At round 42 accuracy: 0.8398791540785498\n",
      "At round 42 training accuracy: 0.8644007155635063\n",
      "At round 42 training loss: 0.4179455722034084\n",
      "Group 4\n",
      "At round 42 accuracy: 0.8111111111111111\n",
      "At round 42 training accuracy: 0.8032945736434108\n",
      "At round 42 training loss: 0.5340513655583757\n",
      "At round 42 mean test accuracy: 0.7972972972972973 mean train accuracy: 0.8090250289263747\n",
      "The groups difference are: [13.34408598 13.34869041 13.35973133 13.43989794 13.42109688]\n",
      "Begin group  0 training\n",
      "Begin group  1 training\n"
     ]
    },
    {
     "name": "stderr",
     "output_type": "stream",
     "text": [
      "Epoch:  30%|███████████████████████                                                      | 6/20 [00:00<00:00, 55.69it/s]"
     ]
    },
    {
     "name": "stdout",
     "output_type": "stream",
     "text": [
      "Begin group  2 training\n"
     ]
    },
    {
     "name": "stderr",
     "output_type": "stream",
     "text": [
      "Epoch:  50%|██████████████████████████████████████                                      | 10/20 [00:00<00:00, 92.33it/s]"
     ]
    },
    {
     "name": "stdout",
     "output_type": "stream",
     "text": [
      "Begin group  3 training\n"
     ]
    },
    {
     "name": "stderr",
     "output_type": "stream",
     "text": [
      "Epoch:  60%|█████████████████████████████████████████████                              | 12/20 [00:00<00:00, 115.14it/s]"
     ]
    },
    {
     "name": "stdout",
     "output_type": "stream",
     "text": [
      "Begin group  4 training\n"
     ]
    },
    {
     "name": "stderr",
     "output_type": "stream",
     "text": [
      "                                                                                                                        \r"
     ]
    },
    {
     "name": "stdout",
     "output_type": "stream",
     "text": [
      "Group 0, clients ['f_00183', 'f_00133', 'f_00173', 'f_00093']\n",
      "Group 1, clients ['f_00067', 'f_00188', 'f_00128', 'f_00017', 'f_00038']\n",
      "Group 2, clients ['f_00062']\n",
      "Group 3, clients ['f_00056', 'f_00037', 'f_00065', 'f_00195', 'f_00146']\n",
      "Group 4, clients ['f_00079', 'f_00080', 'f_00010', 'f_00149', 'f_00029']\n"
     ]
    },
    {
     "name": "stderr",
     "output_type": "stream",
     "text": [
      "Epoch:   0%|                                                                                     | 0/20 [00:00<?, ?it/s]"
     ]
    },
    {
     "name": "stdout",
     "output_type": "stream",
     "text": [
      "Group 0\n",
      "At round 43 accuracy: 0.8078817733990148\n",
      "At round 43 training accuracy: 0.803830528148578\n",
      "At round 43 training loss: 0.5835158013680856\n",
      "Group 1\n",
      "At round 43 accuracy: 0.8132530120481928\n",
      "At round 43 training accuracy: 0.751960085531005\n",
      "At round 43 training loss: 0.6541292794521417\n",
      "Group 2\n",
      "At round 43 accuracy: 0.8242424242424242\n",
      "At round 43 training accuracy: 0.8316970546984572\n",
      "At round 43 training loss: 0.4619433306795016\n",
      "Group 3\n",
      "At round 43 accuracy: 0.9033232628398792\n",
      "At round 43 training accuracy: 0.8973166368515205\n",
      "At round 43 training loss: 0.369300701150634\n",
      "Group 4\n",
      "At round 43 accuracy: 0.8555555555555555\n",
      "At round 43 training accuracy: 0.8278423772609819\n",
      "At round 43 training loss: 0.4421142391446564\n",
      "At round 43 mean test accuracy: 0.8383575883575883 mean train accuracy: 0.8226660982887766\n",
      "The groups difference are: [13.438241   13.45635859 13.47366165 13.54272196 13.52581792]\n",
      "Begin group  0 training\n"
     ]
    },
    {
     "name": "stderr",
     "output_type": "stream",
     "text": [
      "Epoch:  15%|███████████▌                                                                 | 3/20 [00:00<00:00, 28.97it/s]"
     ]
    },
    {
     "name": "stdout",
     "output_type": "stream",
     "text": [
      "Begin group  1 training\n"
     ]
    },
    {
     "name": "stderr",
     "output_type": "stream",
     "text": [
      "Epoch:   0%|                                                                                     | 0/20 [00:00<?, ?it/s]"
     ]
    },
    {
     "name": "stdout",
     "output_type": "stream",
     "text": [
      "Begin group  2 training\n"
     ]
    },
    {
     "name": "stderr",
     "output_type": "stream",
     "text": [
      "Epoch:   0%|                                                                                     | 0/20 [00:00<?, ?it/s]"
     ]
    },
    {
     "name": "stdout",
     "output_type": "stream",
     "text": [
      "Begin group  3 training\n"
     ]
    },
    {
     "name": "stderr",
     "output_type": "stream",
     "text": [
      "Epoch:  45%|██████████████████████████████████▋                                          | 9/20 [00:00<00:00, 81.92it/s]"
     ]
    },
    {
     "name": "stdout",
     "output_type": "stream",
     "text": [
      "Begin group  4 training\n"
     ]
    },
    {
     "name": "stderr",
     "output_type": "stream",
     "text": [
      "                                                                                                                        \r"
     ]
    },
    {
     "name": "stdout",
     "output_type": "stream",
     "text": [
      "Group 0, clients ['f_00073', 'f_00023', 'f_00054', 'f_00003', 'f_00114', 'f_00124', 'f_00064']\n",
      "Group 1, clients ['f_00157', 'f_00028', 'f_00068', 'f_00089', 'f_00047']\n",
      "Group 2, clients ['f_00111', 'f_00182']\n",
      "Group 3, clients ['f_00135', 'f_00035', 'f_00045']\n",
      "Group 4, clients ['f_00079', 'f_00180', 'f_00009']\n"
     ]
    },
    {
     "name": "stderr",
     "output_type": "stream",
     "text": [
      "Epoch:  15%|███████████▌                                                                 | 3/20 [00:00<00:00, 25.98it/s]"
     ]
    },
    {
     "name": "stdout",
     "output_type": "stream",
     "text": [
      "Group 0\n",
      "At round 44 accuracy: 0.8152709359605911\n",
      "At round 44 training accuracy: 0.8229831688914684\n",
      "At round 44 training loss: 0.5634848435079107\n",
      "Group 1\n",
      "At round 44 accuracy: 0.7168674698795181\n",
      "At round 44 training accuracy: 0.7416250890947969\n",
      "At round 44 training loss: 0.768230662657929\n",
      "Group 2\n",
      "At round 44 accuracy: 0.8282828282828283\n",
      "At round 44 training accuracy: 0.8298270219728845\n",
      "At round 44 training loss: 0.5531283871676945\n",
      "Group 3\n",
      "At round 44 accuracy: 0.8882175226586103\n",
      "At round 44 training accuracy: 0.881216457960644\n",
      "At round 44 training loss: 0.38230799243040714\n",
      "Group 4\n",
      "At round 44 accuracy: 0.8944444444444445\n",
      "At round 44 training accuracy: 0.8762919896640827\n",
      "At round 44 training loss: 0.3786931725180388\n",
      "At round 44 mean test accuracy: 0.829002079002079 mean train accuracy: 0.8308263808537848\n",
      "The groups difference are: [13.55775394 13.57259753 13.58424585 13.6440507  13.64858295]\n",
      "Begin group  0 training\n"
     ]
    },
    {
     "name": "stderr",
     "output_type": "stream",
     "text": [
      "Epoch:   0%|                                                                                     | 0/20 [00:00<?, ?it/s]"
     ]
    },
    {
     "name": "stdout",
     "output_type": "stream",
     "text": [
      "Begin group  1 training\n"
     ]
    },
    {
     "name": "stderr",
     "output_type": "stream",
     "text": [
      "Epoch:   0%|                                                                                     | 0/20 [00:00<?, ?it/s]"
     ]
    },
    {
     "name": "stdout",
     "output_type": "stream",
     "text": [
      "Begin group  2 training\n",
      "Begin group  3 training\n"
     ]
    },
    {
     "name": "stderr",
     "output_type": "stream",
     "text": [
      "Epoch:  50%|██████████████████████████████████████                                      | 10/20 [00:00<00:00, 97.45it/s]"
     ]
    },
    {
     "name": "stdout",
     "output_type": "stream",
     "text": [
      "Begin group  4 training\n"
     ]
    },
    {
     "name": "stderr",
     "output_type": "stream",
     "text": [
      "                                                                                                                        \r"
     ]
    },
    {
     "name": "stdout",
     "output_type": "stream",
     "text": [
      "Group 0, clients ['f_00072', 'f_00013', 'f_00153', 'f_00003', 'f_00044', 'f_00134', 'f_00173', 'f_00033']\n",
      "Group 1, clients ['f_00058']\n",
      "Group 2, clients ['f_00062', 'f_00182', 'f_00112']\n",
      "Group 3, clients ['f_00045', 'f_00025']\n",
      "Group 4, clients ['f_00040', 'f_00080', 'f_00149', 'f_00129', 'f_00069', 'f_00190']\n"
     ]
    },
    {
     "name": "stderr",
     "output_type": "stream",
     "text": [
      "Epoch:  45%|██████████████████████████████████▋                                          | 9/20 [00:00<00:00, 83.70it/s]"
     ]
    },
    {
     "name": "stdout",
     "output_type": "stream",
     "text": [
      "Group 0\n",
      "At round 45 accuracy: 0.8423645320197044\n",
      "At round 45 training accuracy: 0.8540336622170632\n",
      "At round 45 training loss: 0.44638204586908903\n",
      "Group 1\n",
      "At round 45 accuracy: 0.8524096385542169\n",
      "At round 45 training accuracy: 0.81503920171062\n",
      "At round 45 training loss: 0.5370862461090173\n",
      "Group 2\n",
      "At round 45 accuracy: 0.8\n",
      "At round 45 training accuracy: 0.8085553997194951\n",
      "At round 45 training loss: 0.5257545786466956\n",
      "Group 3\n",
      "At round 45 accuracy: 0.8217522658610272\n",
      "At round 45 training accuracy: 0.8110912343470483\n",
      "At round 45 training loss: 0.6463861792320003\n",
      "Group 4\n",
      "At round 45 accuracy: 0.8416666666666667\n",
      "At round 45 training accuracy: 0.8236434108527132\n",
      "At round 45 training loss: 0.4728036141191496\n",
      "At round 45 mean test accuracy: 0.8295218295218295 mean train accuracy: 0.8224834053955301\n",
      "The groups difference are: [13.67488666 13.68616982 13.6914176  13.76491688 13.76553582]\n",
      "Begin group  0 training\n"
     ]
    },
    {
     "name": "stderr",
     "output_type": "stream",
     "text": [
      "Epoch:   0%|                                                                                     | 0/20 [00:00<?, ?it/s]"
     ]
    },
    {
     "name": "stdout",
     "output_type": "stream",
     "text": [
      "Begin group  1 training\n",
      "Begin group  2 training\n"
     ]
    },
    {
     "name": "stderr",
     "output_type": "stream",
     "text": [
      "Epoch:   0%|                                                                                     | 0/20 [00:00<?, ?it/s]"
     ]
    },
    {
     "name": "stdout",
     "output_type": "stream",
     "text": [
      "Begin group  3 training\n"
     ]
    },
    {
     "name": "stderr",
     "output_type": "stream",
     "text": [
      "Epoch:   0%|                                                                                     | 0/20 [00:00<?, ?it/s]"
     ]
    },
    {
     "name": "stdout",
     "output_type": "stream",
     "text": [
      "Begin group  4 training\n"
     ]
    },
    {
     "name": "stderr",
     "output_type": "stream",
     "text": [
      "                                                                                                                        \r"
     ]
    },
    {
     "name": "stdout",
     "output_type": "stream",
     "text": [
      "Group 0, clients ['f_00123', 'f_00004', 'f_00083', 'f_00134', 'f_00113']\n",
      "Group 1, clients ['f_00138', 'f_00017', 'f_00177', 'f_00008', 'f_00169']\n",
      "Group 2, clients ['f_00111', 'f_00051', 'f_00151', 'f_00012']\n",
      "Group 3, clients ['f_00037', 'f_00145', 'f_00025', 'f_00106']\n",
      "Group 4, clients ['f_00090', 'f_00110']\n"
     ]
    },
    {
     "name": "stderr",
     "output_type": "stream",
     "text": [
      "Epoch:  15%|███████████▌                                                                 | 3/20 [00:00<00:00, 23.59it/s]"
     ]
    },
    {
     "name": "stdout",
     "output_type": "stream",
     "text": [
      "Group 0\n",
      "At round 46 accuracy: 0.8669950738916257\n",
      "At round 46 training accuracy: 0.8961114335461404\n",
      "At round 46 training loss: 0.3079527666845245\n",
      "Group 1\n",
      "At round 46 accuracy: 0.6957831325301205\n",
      "At round 46 training accuracy: 0.6582323592302209\n",
      "At round 46 training loss: 0.9117136503213317\n",
      "Group 2\n",
      "At round 46 accuracy: 0.8343434343434344\n",
      "At round 46 training accuracy: 0.839177185600748\n",
      "At round 46 training loss: 0.4442659886175085\n",
      "Group 3\n",
      "At round 46 accuracy: 0.8187311178247734\n",
      "At round 46 training accuracy: 0.8107334525939177\n",
      "At round 46 training loss: 0.7860504218552108\n",
      "Group 4\n",
      "At round 46 accuracy: 0.9277777777777778\n",
      "At round 46 training accuracy: 0.8892118863049095\n",
      "At round 46 training loss: 0.3300386716488951\n",
      "At round 46 mean test accuracy: 0.8321205821205822 mean train accuracy: 0.8247975153766518\n",
      "The groups difference are: [13.74240963 13.75900893 13.76800347 13.84610866 13.84880625]\n",
      "Begin group  0 training\n"
     ]
    },
    {
     "name": "stderr",
     "output_type": "stream",
     "text": [
      "Epoch:   0%|                                                                                     | 0/20 [00:00<?, ?it/s]"
     ]
    },
    {
     "name": "stdout",
     "output_type": "stream",
     "text": [
      "Begin group  1 training\n"
     ]
    },
    {
     "name": "stderr",
     "output_type": "stream",
     "text": [
      "Epoch:   0%|                                                                                     | 0/20 [00:00<?, ?it/s]"
     ]
    },
    {
     "name": "stdout",
     "output_type": "stream",
     "text": [
      "Begin group  2 training\n"
     ]
    },
    {
     "name": "stderr",
     "output_type": "stream",
     "text": [
      "Epoch:  35%|██████████████████████████▉                                                  | 7/20 [00:00<00:00, 62.88it/s]"
     ]
    },
    {
     "name": "stdout",
     "output_type": "stream",
     "text": [
      "Begin group  3 training\n"
     ]
    },
    {
     "name": "stderr",
     "output_type": "stream",
     "text": [
      "Epoch:  30%|███████████████████████                                                      | 6/20 [00:00<00:00, 55.55it/s]"
     ]
    },
    {
     "name": "stdout",
     "output_type": "stream",
     "text": [
      "Begin group  4 training\n"
     ]
    },
    {
     "name": "stderr",
     "output_type": "stream",
     "text": [
      "                                                                                                                        \r"
     ]
    },
    {
     "name": "stdout",
     "output_type": "stream",
     "text": [
      "Group 0, clients ['f_00094', 'f_00154', 'f_00133', 'f_00083']\n",
      "Group 1, clients ['f_00138', 'f_00108']\n",
      "Group 2, clients ['f_00091', 'f_00191', 'f_00141', 'f_00062', 'f_00132']\n",
      "Group 3, clients ['f_00005', 'f_00036', 'f_00106', 'f_00016', 'f_00025']\n",
      "Group 4, clients ['f_00000', 'f_00170', 'f_00020', 'f_00009']\n"
     ]
    },
    {
     "name": "stderr",
     "output_type": "stream",
     "text": [
      "Epoch:  35%|██████████████████████████▉                                                  | 7/20 [00:00<00:00, 64.73it/s]"
     ]
    },
    {
     "name": "stdout",
     "output_type": "stream",
     "text": [
      "Group 0\n",
      "At round 47 accuracy: 0.8472906403940886\n",
      "At round 47 training accuracy: 0.851131746952989\n",
      "At round 47 training loss: 0.4570099649582225\n",
      "Group 1\n",
      "At round 47 accuracy: 0.7530120481927711\n",
      "At round 47 training accuracy: 0.782608695652174\n",
      "At round 47 training loss: 0.6108918729970392\n",
      "Group 2\n",
      "At round 47 accuracy: 0.8262626262626263\n",
      "At round 47 training accuracy: 0.8300607760635811\n",
      "At round 47 training loss: 0.4660504573181989\n",
      "Group 3\n",
      "At round 47 accuracy: 0.8912386706948641\n",
      "At round 47 training accuracy: 0.8851520572450805\n",
      "At round 47 training loss: 0.365575114724248\n",
      "Group 4\n",
      "At round 47 accuracy: 0.775\n",
      "At round 47 training accuracy: 0.8003875968992248\n",
      "At round 47 training loss: 0.615525012537452\n",
      "At round 47 mean test accuracy: 0.8196465696465697 mean train accuracy: 0.8301565069118811\n",
      "The groups difference are: [13.84559471 13.84660815 13.8549099  13.92858166 13.94422889]\n",
      "Begin group  0 training\n"
     ]
    },
    {
     "name": "stderr",
     "output_type": "stream",
     "text": [
      "Epoch:   0%|                                                                                     | 0/20 [00:00<?, ?it/s]"
     ]
    },
    {
     "name": "stdout",
     "output_type": "stream",
     "text": [
      "Begin group  1 training\n"
     ]
    },
    {
     "name": "stderr",
     "output_type": "stream",
     "text": [
      "Epoch:  35%|██████████████████████████▉                                                  | 7/20 [00:00<00:00, 64.30it/s]"
     ]
    },
    {
     "name": "stdout",
     "output_type": "stream",
     "text": [
      "Begin group  2 training\n"
     ]
    },
    {
     "name": "stderr",
     "output_type": "stream",
     "text": [
      "Epoch:  20%|███████████████▍                                                             | 4/20 [00:00<00:00, 34.70it/s]"
     ]
    },
    {
     "name": "stdout",
     "output_type": "stream",
     "text": [
      "Begin group  3 training\n"
     ]
    },
    {
     "name": "stderr",
     "output_type": "stream",
     "text": [
      "Epoch:   0%|                                                                                     | 0/20 [00:00<?, ?it/s]"
     ]
    },
    {
     "name": "stdout",
     "output_type": "stream",
     "text": [
      "Begin group  4 training\n"
     ]
    },
    {
     "name": "stderr",
     "output_type": "stream",
     "text": [
      "                                                                                                                        \r"
     ]
    },
    {
     "name": "stdout",
     "output_type": "stream",
     "text": [
      "Group 0, clients ['f_00072', 'f_00013', 'f_00173', 'f_00163', 'f_00184', 'f_00183']\n",
      "Group 1, clients ['f_00078', 'f_00197', 'f_00137', 'f_00008']\n",
      "Group 2, clients ['f_00031', 'f_00041', 'f_00132', 'f_00192', 'f_00071']\n",
      "Group 3, clients ['f_00085', 'f_00165', 'f_00026', 'f_00195']\n",
      "Group 4, clients ['f_00129']\n"
     ]
    },
    {
     "name": "stderr",
     "output_type": "stream",
     "text": [
      "Epoch:  45%|██████████████████████████████████▋                                          | 9/20 [00:00<00:00, 84.08it/s]"
     ]
    },
    {
     "name": "stdout",
     "output_type": "stream",
     "text": [
      "Group 0\n",
      "At round 48 accuracy: 0.8374384236453202\n",
      "At round 48 training accuracy: 0.8488102147417296\n",
      "At round 48 training loss: 0.4618797306397317\n",
      "Group 1\n",
      "At round 48 accuracy: 0.7620481927710844\n",
      "At round 48 training accuracy: 0.7355666429080542\n",
      "At round 48 training loss: 0.8565823403814394\n",
      "Group 2\n",
      "At round 48 accuracy: 0.8242424242424242\n",
      "At round 48 training accuracy: 0.845956054230949\n",
      "At round 48 training loss: 0.4107484425295731\n",
      "Group 3\n",
      "At round 48 accuracy: 0.8187311178247734\n",
      "At round 48 training accuracy: 0.8114490161001789\n",
      "At round 48 training loss: 0.48705217845884546\n",
      "Group 4\n",
      "At round 48 accuracy: 0.8416666666666667\n",
      "At round 48 training accuracy: 0.850452196382429\n",
      "At round 48 training loss: 0.4381862569104601\n",
      "At round 48 mean test accuracy: 0.8186070686070686 mean train accuracy: 0.8226660982887766\n",
      "The groups difference are: [13.94962568 13.96091391 13.96839288 14.04230268 14.04941965]\n",
      "Begin group  0 training\n"
     ]
    },
    {
     "name": "stderr",
     "output_type": "stream",
     "text": [
      "Epoch:   0%|                                                                                     | 0/20 [00:00<?, ?it/s]"
     ]
    },
    {
     "name": "stdout",
     "output_type": "stream",
     "text": [
      "Begin group  1 training\n"
     ]
    },
    {
     "name": "stderr",
     "output_type": "stream",
     "text": [
      "Epoch:   0%|                                                                                     | 0/20 [00:00<?, ?it/s]"
     ]
    },
    {
     "name": "stdout",
     "output_type": "stream",
     "text": [
      "Begin group  2 training\n"
     ]
    },
    {
     "name": "stderr",
     "output_type": "stream",
     "text": [
      "Epoch:   0%|                                                                                     | 0/20 [00:00<?, ?it/s]"
     ]
    },
    {
     "name": "stdout",
     "output_type": "stream",
     "text": [
      "Begin group  3 training\n"
     ]
    },
    {
     "name": "stderr",
     "output_type": "stream",
     "text": [
      "                                                                                                                        "
     ]
    },
    {
     "name": "stdout",
     "output_type": "stream",
     "text": [
      "Begin group  4 training\n"
     ]
    },
    {
     "name": "stderr",
     "output_type": "stream",
     "text": [
      "\r"
     ]
    },
    {
     "name": "stdout",
     "output_type": "stream",
     "text": [
      "Group 0, clients ['f_00144', 'f_00104', 'f_00153', 'f_00013']\n",
      "Group 1, clients ['f_00107', 'f_00017', 'f_00148', 'f_00007', 'f_00067', 'f_00089']\n",
      "Group 2, clients ['f_00111', 'f_00181', 'f_00132']\n",
      "Group 3, clients ['f_00195', 'f_00065', 'f_00046']\n",
      "Group 4, clients ['f_00150', 'f_00180', 'f_00189', 'f_00029']\n"
     ]
    },
    {
     "name": "stderr",
     "output_type": "stream",
     "text": [
      "Epoch:   0%|                                                                                     | 0/20 [00:00<?, ?it/s]"
     ]
    },
    {
     "name": "stdout",
     "output_type": "stream",
     "text": [
      "Group 0\n",
      "At round 49 accuracy: 0.8596059113300493\n",
      "At round 49 training accuracy: 0.875507835171213\n",
      "At round 49 training loss: 0.3660000489037689\n",
      "Group 1\n",
      "At round 49 accuracy: 0.7710843373493976\n",
      "At round 49 training accuracy: 0.7943692088382038\n",
      "At round 49 training loss: 0.604940645391399\n",
      "Group 2\n",
      "At round 49 accuracy: 0.8464646464646465\n",
      "At round 49 training accuracy: 0.8695652173913043\n",
      "At round 49 training loss: 0.35379276045673413\n",
      "Group 3\n",
      "At round 49 accuracy: 0.8580060422960725\n",
      "At round 49 training accuracy: 0.8361359570661896\n",
      "At round 49 training loss: 0.40480124193621875\n",
      "Group 4\n",
      "At round 49 accuracy: 0.7583333333333333\n",
      "At round 49 training accuracy: 0.7658268733850129\n",
      "At round 49 training loss: 0.7786974642733809\n",
      "At round 49 mean test accuracy: 0.8217255717255717 mean train accuracy: 0.8327142074173315\n",
      "The groups difference are: [14.01429306 14.02606446 14.02971892 14.11040439 14.11770288]\n",
      "Begin group  0 training\n"
     ]
    },
    {
     "name": "stderr",
     "output_type": "stream",
     "text": [
      "Epoch:   0%|                                                                                     | 0/20 [00:00<?, ?it/s]"
     ]
    },
    {
     "name": "stdout",
     "output_type": "stream",
     "text": [
      "Begin group  1 training\n"
     ]
    },
    {
     "name": "stderr",
     "output_type": "stream",
     "text": [
      "Epoch:   0%|                                                                                     | 0/20 [00:00<?, ?it/s]"
     ]
    },
    {
     "name": "stdout",
     "output_type": "stream",
     "text": [
      "Begin group  2 training\n"
     ]
    },
    {
     "name": "stderr",
     "output_type": "stream",
     "text": [
      "Epoch:   0%|                                                                                     | 0/20 [00:00<?, ?it/s]"
     ]
    },
    {
     "name": "stdout",
     "output_type": "stream",
     "text": [
      "Begin group  3 training\n"
     ]
    },
    {
     "name": "stderr",
     "output_type": "stream",
     "text": [
      "Epoch:  30%|███████████████████████                                                      | 6/20 [00:00<00:00, 51.51it/s]"
     ]
    },
    {
     "name": "stdout",
     "output_type": "stream",
     "text": [
      "Begin group  4 training\n"
     ]
    },
    {
     "name": "stderr",
     "output_type": "stream",
     "text": [
      "                                                                                                                        \r"
     ]
    },
    {
     "name": "stdout",
     "output_type": "stream",
     "text": [
      "Group 0, clients ['f_00073', 'f_00144', 'f_00023']\n",
      "Group 1, clients ['f_00008', 'f_00088', 'f_00197', 'f_00138']\n",
      "Group 2, clients ['f_00112', 'f_00012', 'f_00081', 'f_00151']\n",
      "Group 3, clients ['f_00165', 'f_00025']\n",
      "Group 4, clients ['f_00020', 'f_00199', 'f_00039', 'f_00069', 'f_00160', 'f_00099', 'f_00159']\n"
     ]
    },
    {
     "name": "stderr",
     "output_type": "stream",
     "text": [
      "Epoch:  15%|███████████▌                                                                 | 3/20 [00:00<00:00, 26.66it/s]"
     ]
    },
    {
     "name": "stdout",
     "output_type": "stream",
     "text": [
      "Group 0\n",
      "At round 50 accuracy: 0.8620689655172413\n",
      "At round 50 training accuracy: 0.8903076030179918\n",
      "At round 50 training loss: 0.32340083138296166\n",
      "Group 1\n",
      "At round 50 accuracy: 0.713855421686747\n",
      "At round 50 training accuracy: 0.7409123307198859\n",
      "At round 50 training loss: 0.7755012981864442\n",
      "Group 2\n",
      "At round 50 accuracy: 0.8343434343434344\n",
      "At round 50 training accuracy: 0.8485273492286115\n",
      "At round 50 training loss: 0.41331286523569516\n",
      "Group 3\n",
      "At round 50 accuracy: 0.851963746223565\n",
      "At round 50 training accuracy: 0.8364937388193202\n",
      "At round 50 training loss: 0.4261843306927114\n",
      "Group 4\n",
      "At round 50 accuracy: 0.9055555555555556\n",
      "At round 50 training accuracy: 0.8698320413436692\n",
      "At round 50 training loss: 0.3623286519266992\n",
      "At round 50 mean test accuracy: 0.8357588357588358 mean train accuracy: 0.8408744899823397\n",
      "The groups difference are: [14.10164179 14.12427906 14.11498422 14.19505903 14.21174723]\n",
      "Begin group  0 training\n"
     ]
    },
    {
     "name": "stderr",
     "output_type": "stream",
     "text": [
      "Epoch:   0%|                                                                                     | 0/20 [00:00<?, ?it/s]"
     ]
    },
    {
     "name": "stdout",
     "output_type": "stream",
     "text": [
      "Begin group  1 training\n"
     ]
    },
    {
     "name": "stderr",
     "output_type": "stream",
     "text": [
      "Epoch:   0%|                                                                                     | 0/20 [00:00<?, ?it/s]"
     ]
    },
    {
     "name": "stdout",
     "output_type": "stream",
     "text": [
      "Begin group  2 training\n"
     ]
    },
    {
     "name": "stderr",
     "output_type": "stream",
     "text": [
      "Epoch:   0%|                                                                                     | 0/20 [00:00<?, ?it/s]"
     ]
    },
    {
     "name": "stdout",
     "output_type": "stream",
     "text": [
      "Begin group  3 training\n"
     ]
    },
    {
     "name": "stderr",
     "output_type": "stream",
     "text": [
      "Epoch:   0%|                                                                                     | 0/20 [00:00<?, ?it/s]"
     ]
    },
    {
     "name": "stdout",
     "output_type": "stream",
     "text": [
      "Begin group  4 training\n"
     ]
    },
    {
     "name": "stderr",
     "output_type": "stream",
     "text": [
      "                                                                                                                        \r"
     ]
    },
    {
     "name": "stdout",
     "output_type": "stream",
     "text": [
      "Group 0, clients ['f_00104', 'f_00004', 'f_00174', 'f_00023', 'f_00014']\n",
      "Group 1, clients ['f_00148', 'f_00007', 'f_00118', 'f_00058', 'f_00067', 'f_00068', 'f_00177', 'f_00128']\n",
      "Group 2, clients ['f_00192', 'f_00171']\n",
      "Group 3, clients ['f_00115', 'f_00086']\n",
      "Group 4, clients ['f_00160', 'f_00190', 'f_00010']\n"
     ]
    },
    {
     "name": "stderr",
     "output_type": "stream",
     "text": [
      "                                                                                                                        "
     ]
    },
    {
     "name": "stdout",
     "output_type": "stream",
     "text": [
      "Group 0\n",
      "At round 51 accuracy: 0.8300492610837439\n",
      "At round 51 training accuracy: 0.832849680789321\n",
      "At round 51 training loss: 0.544928272117472\n",
      "Group 1\n",
      "At round 51 accuracy: 0.7921686746987951\n",
      "At round 51 training accuracy: 0.812544547398432\n",
      "At round 51 training loss: 0.5262443927977651\n",
      "Group 2\n",
      "At round 51 accuracy: 0.8626262626262626\n",
      "At round 51 training accuracy: 0.8737727910238429\n",
      "At round 51 training loss: 0.35016683136931975\n",
      "Group 3\n",
      "At round 51 accuracy: 0.8187311178247734\n",
      "At round 51 training accuracy: 0.8107334525939177\n",
      "At round 51 training loss: 0.6927381541666596\n",
      "Group 4\n",
      "At round 51 accuracy: 0.8611111111111112\n",
      "At round 51 training accuracy: 0.8317183462532299\n",
      "At round 51 training loss: 0.4137476147164516\n",
      "At round 51 mean test accuracy: 0.8357588357588358 mean train accuracy: 0.8360635771268498\n",
      "The groups difference are: [14.20252088 14.21916242 14.20506003 14.29343051 14.3150442 ]\n",
      "Begin group  0 training\n"
     ]
    },
    {
     "name": "stderr",
     "output_type": "stream",
     "text": [
      "                                                                                                                        "
     ]
    },
    {
     "name": "stdout",
     "output_type": "stream",
     "text": [
      "Begin group  1 training\n"
     ]
    },
    {
     "name": "stderr",
     "output_type": "stream",
     "text": [
      "Epoch:   0%|                                                                                     | 0/20 [00:00<?, ?it/s]"
     ]
    },
    {
     "name": "stdout",
     "output_type": "stream",
     "text": [
      "Begin group  2 training\n"
     ]
    },
    {
     "name": "stderr",
     "output_type": "stream",
     "text": [
      "Epoch:   0%|                                                                                     | 0/20 [00:00<?, ?it/s]"
     ]
    },
    {
     "name": "stdout",
     "output_type": "stream",
     "text": [
      "Begin group  3 training\n"
     ]
    },
    {
     "name": "stderr",
     "output_type": "stream",
     "text": [
      "Epoch:  15%|███████████▌                                                                 | 3/20 [00:00<00:00, 25.36it/s]"
     ]
    },
    {
     "name": "stdout",
     "output_type": "stream",
     "text": [
      "Begin group  4 training\n"
     ]
    },
    {
     "name": "stderr",
     "output_type": "stream",
     "text": [
      "                                                                                                                        \r"
     ]
    },
    {
     "name": "stdout",
     "output_type": "stream",
     "text": [
      "Group 0, clients ['f_00114', 'f_00104', 'f_00023', 'f_00093', 'f_00003']\n",
      "Group 1, clients ['f_00176', 'f_00047', 'f_00027', 'f_00098', 'f_00067']\n",
      "Group 2, clients ['f_00062', 'f_00132', 'f_00131', 'f_00091']\n",
      "Group 3, clients ['f_00056', 'f_00145', 'f_00115']\n",
      "Group 4, clients ['f_00119', 'f_00189', 'f_00040']\n"
     ]
    },
    {
     "name": "stderr",
     "output_type": "stream",
     "text": [
      "Epoch:   0%|                                                                                     | 0/20 [00:00<?, ?it/s]"
     ]
    },
    {
     "name": "stdout",
     "output_type": "stream",
     "text": [
      "Group 0\n",
      "At round 52 accuracy: 0.9088669950738916\n",
      "At round 52 training accuracy: 0.922228670922809\n",
      "At round 52 training loss: 0.32037835047773267\n",
      "Group 1\n",
      "At round 52 accuracy: 0.7198795180722891\n",
      "At round 52 training accuracy: 0.7191732002851033\n",
      "At round 52 training loss: 0.9281392391247998\n",
      "Group 2\n",
      "At round 52 accuracy: 0.8383838383838383\n",
      "At round 52 training accuracy: 0.8401122019635343\n",
      "At round 52 training loss: 0.41969528302720993\n",
      "Group 3\n",
      "At round 52 accuracy: 0.945619335347432\n",
      "At round 52 training accuracy: 0.9230769230769231\n",
      "At round 52 training loss: 0.3339815511992984\n",
      "Group 4\n",
      "At round 52 accuracy: 0.7472222222222222\n",
      "At round 52 training accuracy: 0.7822997416020672\n",
      "At round 52 training loss: 0.6276687265636077\n",
      "At round 52 mean test accuracy: 0.8341995841995842 mean train accuracy: 0.8399001278850253\n",
      "The groups difference are: [14.30764355 14.33212015 14.30248215 14.38700355 14.42859467]\n",
      "Begin group  0 training\n"
     ]
    },
    {
     "name": "stderr",
     "output_type": "stream",
     "text": [
      "Epoch:  85%|███████████████████████████████████████████████████████████████▊           | 17/20 [00:00<00:00, 161.34it/s]"
     ]
    },
    {
     "name": "stdout",
     "output_type": "stream",
     "text": [
      "Begin group  1 training\n"
     ]
    },
    {
     "name": "stderr",
     "output_type": "stream",
     "text": [
      "Epoch:   0%|                                                                                     | 0/20 [00:00<?, ?it/s]"
     ]
    },
    {
     "name": "stdout",
     "output_type": "stream",
     "text": [
      "Begin group  2 training\n"
     ]
    },
    {
     "name": "stderr",
     "output_type": "stream",
     "text": [
      "Epoch:  65%|████████████████████████████████████████████████▊                          | 13/20 [00:00<00:00, 125.84it/s]"
     ]
    },
    {
     "name": "stdout",
     "output_type": "stream",
     "text": [
      "Begin group  3 training\n"
     ]
    },
    {
     "name": "stderr",
     "output_type": "stream",
     "text": [
      "Epoch:   0%|                                                                                     | 0/20 [00:00<?, ?it/s]"
     ]
    },
    {
     "name": "stdout",
     "output_type": "stream",
     "text": [
      "Begin group  4 training\n"
     ]
    },
    {
     "name": "stderr",
     "output_type": "stream",
     "text": [
      "                                                                                                                        \r"
     ]
    },
    {
     "name": "stdout",
     "output_type": "stream",
     "text": [
      "Group 0, clients ['f_00143', 'f_00172', 'f_00074', 'f_00163', 'f_00053']\n",
      "Group 1, clients ['f_00188']\n",
      "Group 2, clients ['f_00132', 'f_00001']\n",
      "Group 3, clients ['f_00115', 'f_00185', 'f_00066', 'f_00175']\n",
      "Group 4, clients ['f_00100', 'f_00120', 'f_00149', 'f_00109', 'f_00050', 'f_00190', 'f_00179', 'f_00168']\n"
     ]
    },
    {
     "name": "stderr",
     "output_type": "stream",
     "text": [
      "Epoch:   0%|                                                                                     | 0/20 [00:00<?, ?it/s]"
     ]
    },
    {
     "name": "stdout",
     "output_type": "stream",
     "text": [
      "Group 0\n",
      "At round 53 accuracy: 0.854679802955665\n",
      "At round 53 training accuracy: 0.8595473012188044\n",
      "At round 53 training loss: 0.47243536077493836\n",
      "Group 1\n",
      "At round 53 accuracy: 0.7409638554216867\n",
      "At round 53 training accuracy: 0.7776193870277975\n",
      "At round 53 training loss: 0.5979064639846258\n",
      "Group 2\n",
      "At round 53 accuracy: 0.8666666666666667\n",
      "At round 53 training accuracy: 0.8683964469378214\n",
      "At round 53 training loss: 0.3509007039148571\n",
      "Group 3\n",
      "At round 53 accuracy: 0.8670694864048338\n",
      "At round 53 training accuracy: 0.8565295169946333\n",
      "At round 53 training loss: 0.37607541758173907\n",
      "Group 4\n",
      "At round 53 accuracy: 0.8472222222222222\n",
      "At round 53 training accuracy: 0.8281653746770026\n",
      "At round 53 training loss: 0.4688497576525661\n",
      "At round 53 mean test accuracy: 0.8388773388773388 mean train accuracy: 0.8414225686620791\n",
      "The groups difference are: [14.40937036 14.43809345 14.40665412 14.48179403 14.53048021]\n",
      "Begin group  0 training\n"
     ]
    },
    {
     "name": "stderr",
     "output_type": "stream",
     "text": [
      "Epoch:   0%|                                                                                     | 0/20 [00:00<?, ?it/s]"
     ]
    },
    {
     "name": "stdout",
     "output_type": "stream",
     "text": [
      "Begin group  1 training\n",
      "Begin group  2 training\n"
     ]
    },
    {
     "name": "stderr",
     "output_type": "stream",
     "text": [
      "Epoch:  80%|████████████████████████████████████████████████████████████               | 16/20 [00:00<00:00, 153.06it/s]"
     ]
    },
    {
     "name": "stdout",
     "output_type": "stream",
     "text": [
      "Begin group  3 training\n"
     ]
    },
    {
     "name": "stderr",
     "output_type": "stream",
     "text": [
      "Epoch:  35%|██████████████████████████▉                                                  | 7/20 [00:00<00:00, 69.87it/s]"
     ]
    },
    {
     "name": "stdout",
     "output_type": "stream",
     "text": [
      "Begin group  4 training\n"
     ]
    },
    {
     "name": "stderr",
     "output_type": "stream",
     "text": [
      "                                                                                                                        \r"
     ]
    },
    {
     "name": "stdout",
     "output_type": "stream",
     "text": [
      "Group 0, clients ['f_00134', 'f_00043', 'f_00194', 'f_00044', 'f_00004']\n",
      "Group 1, clients ['f_00187', 'f_00118', 'f_00178', 'f_00138', 'f_00049']\n",
      "Group 2, clients ['f_00142', 'f_00012', 'f_00011', 'f_00101', 'f_00031']\n",
      "Group 3, clients ['f_00166', 'f_00186']\n",
      "Group 4, clients ['f_00179', 'f_00119', 'f_00149']\n"
     ]
    },
    {
     "name": "stderr",
     "output_type": "stream",
     "text": [
      "Epoch:  50%|██████████████████████████████████████                                      | 10/20 [00:00<00:00, 90.47it/s]"
     ]
    },
    {
     "name": "stdout",
     "output_type": "stream",
     "text": [
      "Group 0\n",
      "At round 54 accuracy: 0.8201970443349754\n",
      "At round 54 training accuracy: 0.8270458502611724\n",
      "At round 54 training loss: 0.5353798281122486\n",
      "Group 1\n",
      "At round 54 accuracy: 0.7831325301204819\n",
      "At round 54 training accuracy: 0.7576621525302922\n",
      "At round 54 training loss: 0.7097499637425753\n",
      "Group 2\n",
      "At round 54 accuracy: 0.8808080808080808\n",
      "At round 54 training accuracy: 0.8819541841982235\n",
      "At round 54 training loss: 0.31779423167092213\n",
      "Group 3\n",
      "At round 54 accuracy: 0.8942598187311178\n",
      "At round 54 training accuracy: 0.8966010733452594\n",
      "At round 54 training loss: 0.3374134878486342\n",
      "Group 4\n",
      "At round 54 accuracy: 0.8888888888888888\n",
      "At round 54 training accuracy: 0.8604651162790697\n",
      "At round 54 training loss: 0.37456594894156436\n",
      "At round 54 mean test accuracy: 0.854989604989605 mean train accuracy: 0.8476341270324584\n",
      "The groups difference are: [14.46980366 14.4896893  14.45579545 14.54750716 14.58952586]\n",
      "Begin group  0 training\n"
     ]
    },
    {
     "name": "stderr",
     "output_type": "stream",
     "text": [
      "Epoch:   0%|                                                                                     | 0/20 [00:00<?, ?it/s]"
     ]
    },
    {
     "name": "stdout",
     "output_type": "stream",
     "text": [
      "Begin group  1 training\n"
     ]
    },
    {
     "name": "stderr",
     "output_type": "stream",
     "text": [
      "Epoch:   0%|                                                                                     | 0/20 [00:00<?, ?it/s]"
     ]
    },
    {
     "name": "stdout",
     "output_type": "stream",
     "text": [
      "Begin group  2 training\n"
     ]
    },
    {
     "name": "stderr",
     "output_type": "stream",
     "text": [
      "                                                                                                                        "
     ]
    },
    {
     "name": "stdout",
     "output_type": "stream",
     "text": [
      "Begin group  3 training\n"
     ]
    },
    {
     "name": "stderr",
     "output_type": "stream",
     "text": [
      "Epoch:   0%|                                                                                     | 0/20 [00:00<?, ?it/s]"
     ]
    },
    {
     "name": "stdout",
     "output_type": "stream",
     "text": [
      "Begin group  4 training\n"
     ]
    },
    {
     "name": "stderr",
     "output_type": "stream",
     "text": [
      "                                                                                                                        \r"
     ]
    },
    {
     "name": "stdout",
     "output_type": "stream",
     "text": [
      "Group 0, clients ['f_00124', 'f_00053', 'f_00123', 'f_00133']\n",
      "Group 1, clients ['f_00188', 'f_00057']\n",
      "Group 2, clients ['f_00022', 'f_00141', 'f_00181']\n",
      "Group 3, clients ['f_00116', 'f_00136', 'f_00145', 'f_00166', 'f_00026']\n",
      "Group 4, clients ['f_00079', 'f_00129', 'f_00190', 'f_00170', 'f_00199', 'f_00119']\n"
     ]
    },
    {
     "name": "stderr",
     "output_type": "stream",
     "text": [
      "Epoch:  30%|███████████████████████                                                      | 6/20 [00:00<00:00, 56.95it/s]"
     ]
    },
    {
     "name": "stdout",
     "output_type": "stream",
     "text": [
      "Group 0\n",
      "At round 55 accuracy: 0.8374384236453202\n",
      "At round 55 training accuracy: 0.8482298316889146\n",
      "At round 55 training loss: 0.46489101572008723\n",
      "Group 1\n",
      "At round 55 accuracy: 0.7319277108433735\n",
      "At round 55 training accuracy: 0.7209550962223806\n",
      "At round 55 training loss: 0.9141852206531288\n",
      "Group 2\n",
      "At round 55 accuracy: 0.8424242424242424\n",
      "At round 55 training accuracy: 0.8520336605890603\n",
      "At round 55 training loss: 0.3780609412121405\n",
      "Group 3\n",
      "At round 55 accuracy: 0.8338368580060423\n",
      "At round 55 training accuracy: 0.8239713774597496\n",
      "At round 55 training loss: 0.48690546583750804\n",
      "Group 4\n",
      "At round 55 accuracy: 0.7555555555555555\n",
      "At round 55 training accuracy: 0.7635658914728682\n",
      "At round 55 training loss: 0.7203491752935953\n",
      "At round 55 mean test accuracy: 0.8045738045738046 mean train accuracy: 0.8073807928871567\n",
      "The groups difference are: [14.54403337 14.55823733 14.5247412  14.60561055 14.65313713]\n",
      "Begin group  0 training\n"
     ]
    },
    {
     "name": "stderr",
     "output_type": "stream",
     "text": [
      "Epoch:   0%|                                                                                     | 0/20 [00:00<?, ?it/s]"
     ]
    },
    {
     "name": "stdout",
     "output_type": "stream",
     "text": [
      "Begin group  1 training\n",
      "Begin group  2 training\n"
     ]
    },
    {
     "name": "stderr",
     "output_type": "stream",
     "text": [
      "Epoch:  40%|██████████████████████████████▊                                              | 8/20 [00:00<00:00, 73.40it/s]"
     ]
    },
    {
     "name": "stdout",
     "output_type": "stream",
     "text": [
      "Begin group  3 training\n"
     ]
    },
    {
     "name": "stderr",
     "output_type": "stream",
     "text": [
      "Epoch:  50%|██████████████████████████████████████                                      | 10/20 [00:00<00:00, 97.87it/s]"
     ]
    },
    {
     "name": "stdout",
     "output_type": "stream",
     "text": [
      "Begin group  4 training\n"
     ]
    },
    {
     "name": "stderr",
     "output_type": "stream",
     "text": [
      "                                                                                                                        \r"
     ]
    },
    {
     "name": "stdout",
     "output_type": "stream",
     "text": [
      "Group 0, clients ['f_00194', 'f_00063', 'f_00073']\n",
      "Group 1, clients ['f_00167', 'f_00017', 'f_00038', 'f_00158']\n",
      "Group 2, clients ['f_00071', 'f_00042', 'f_00082', 'f_00081', 'f_00012', 'f_00102']\n",
      "Group 3, clients ['f_00186', 'f_00045', 'f_00096', 'f_00126']\n",
      "Group 4, clients ['f_00139', 'f_00120', 'f_00000']\n"
     ]
    },
    {
     "name": "stderr",
     "output_type": "stream",
     "text": [
      "Epoch:  30%|███████████████████████                                                      | 6/20 [00:00<00:00, 56.82it/s]"
     ]
    },
    {
     "name": "stdout",
     "output_type": "stream",
     "text": [
      "Group 0\n",
      "At round 56 accuracy: 0.8325123152709359\n",
      "At round 56 training accuracy: 0.8499709808473592\n",
      "At round 56 training loss: 0.46123318175352285\n",
      "Group 1\n",
      "At round 56 accuracy: 0.8283132530120482\n",
      "At round 56 training accuracy: 0.8203848895224519\n",
      "At round 56 training loss: 0.48734704976475246\n",
      "Group 2\n",
      "At round 56 accuracy: 0.8303030303030303\n",
      "At round 56 training accuracy: 0.8309957924263675\n",
      "At round 56 training loss: 0.4692653246230893\n",
      "Group 3\n",
      "At round 56 accuracy: 0.8308157099697885\n",
      "At round 56 training accuracy: 0.8318425760286225\n",
      "At round 56 training loss: 0.5294919164294847\n",
      "Group 4\n",
      "At round 56 accuracy: 0.7583333333333333\n",
      "At round 56 training accuracy: 0.7545219638242894\n",
      "At round 56 training loss: 0.7217480188322275\n",
      "At round 56 mean test accuracy: 0.817047817047817 mean train accuracy: 0.8188904451616832\n",
      "The groups difference are: [14.62799121 14.62248483 14.59498488 14.68113747 14.73178446]\n",
      "Begin group  0 training\n"
     ]
    },
    {
     "name": "stderr",
     "output_type": "stream",
     "text": [
      "                                                                                                                        "
     ]
    },
    {
     "name": "stdout",
     "output_type": "stream",
     "text": [
      "Begin group  1 training\n"
     ]
    },
    {
     "name": "stderr",
     "output_type": "stream",
     "text": [
      "Epoch:   0%|                                                                                     | 0/20 [00:00<?, ?it/s]"
     ]
    },
    {
     "name": "stdout",
     "output_type": "stream",
     "text": [
      "Begin group  2 training\n"
     ]
    },
    {
     "name": "stderr",
     "output_type": "stream",
     "text": [
      "Epoch:   0%|                                                                                     | 0/20 [00:00<?, ?it/s]"
     ]
    },
    {
     "name": "stdout",
     "output_type": "stream",
     "text": [
      "Begin group  3 training\n"
     ]
    },
    {
     "name": "stderr",
     "output_type": "stream",
     "text": [
      "Epoch:   0%|                                                                                     | 0/20 [00:00<?, ?it/s]"
     ]
    },
    {
     "name": "stdout",
     "output_type": "stream",
     "text": [
      "Begin group  4 training\n"
     ]
    },
    {
     "name": "stderr",
     "output_type": "stream",
     "text": [
      "                                                                                                                        \r"
     ]
    },
    {
     "name": "stdout",
     "output_type": "stream",
     "text": [
      "Group 0, clients ['f_00084', 'f_00123', 'f_00153', 'f_00014', 'f_00072', 'f_00193', 'f_00194']\n",
      "Group 1, clients ['f_00157', 'f_00117', 'f_00017']\n",
      "Group 2, clients ['f_00182', 'f_00031', 'f_00051']\n",
      "Group 3, clients ['f_00155', 'f_00116', 'f_00166']\n",
      "Group 4, clients ['f_00159', 'f_00070', 'f_00090', 'f_00180']\n"
     ]
    },
    {
     "name": "stderr",
     "output_type": "stream",
     "text": [
      "Epoch:   0%|                                                                                     | 0/20 [00:00<?, ?it/s]"
     ]
    },
    {
     "name": "stdout",
     "output_type": "stream",
     "text": [
      "Group 0\n",
      "At round 57 accuracy: 0.8472906403940886\n",
      "At round 57 training accuracy: 0.8624492164828786\n",
      "At round 57 training loss: 0.44231351245858436\n",
      "Group 1\n",
      "At round 57 accuracy: 0.7891566265060241\n",
      "At round 57 training accuracy: 0.7498218104062723\n",
      "At round 57 training loss: 0.6592219901494868\n",
      "Group 2\n",
      "At round 57 accuracy: 0.8949494949494949\n",
      "At round 57 training accuracy: 0.8997194950911641\n",
      "At round 57 training loss: 0.28068867693086996\n",
      "Group 3\n",
      "At round 57 accuracy: 0.8580060422960725\n",
      "At round 57 training accuracy: 0.8568872987477638\n",
      "At round 57 training loss: 0.43458581128039386\n",
      "Group 4\n",
      "At round 57 accuracy: 0.9138888888888889\n",
      "At round 57 training accuracy: 0.8937338501291989\n",
      "At round 57 training loss: 0.3045508281811494\n",
      "At round 57 mean test accuracy: 0.8638253638253638 mean train accuracy: 0.8578649290542598\n",
      "The groups difference are: [14.71341977 14.70693465 14.67611371 14.75927299 14.81298425]\n",
      "Begin group  0 training\n"
     ]
    },
    {
     "name": "stderr",
     "output_type": "stream",
     "text": [
      "Epoch:   0%|                                                                                     | 0/20 [00:00<?, ?it/s]"
     ]
    },
    {
     "name": "stdout",
     "output_type": "stream",
     "text": [
      "Begin group  1 training\n"
     ]
    },
    {
     "name": "stderr",
     "output_type": "stream",
     "text": [
      "Epoch:   0%|                                                                                     | 0/20 [00:00<?, ?it/s]"
     ]
    },
    {
     "name": "stdout",
     "output_type": "stream",
     "text": [
      "Begin group  2 training\n"
     ]
    },
    {
     "name": "stderr",
     "output_type": "stream",
     "text": [
      "                                                                                                                        "
     ]
    },
    {
     "name": "stdout",
     "output_type": "stream",
     "text": [
      "Begin group  3 training\n"
     ]
    },
    {
     "name": "stderr",
     "output_type": "stream",
     "text": [
      "Epoch:   0%|                                                                                     | 0/20 [00:00<?, ?it/s]"
     ]
    },
    {
     "name": "stdout",
     "output_type": "stream",
     "text": [
      "Begin group  4 training\n"
     ]
    },
    {
     "name": "stderr",
     "output_type": "stream",
     "text": [
      "                                                                                                                        \r"
     ]
    },
    {
     "name": "stdout",
     "output_type": "stream",
     "text": [
      "Group 0, clients ['f_00193', 'f_00174', 'f_00183', 'f_00143']\n",
      "Group 1, clients ['f_00107', 'f_00048', 'f_00108', 'f_00068', 'f_00038', 'f_00176', 'f_00177']\n",
      "Group 2, clients ['f_00041', 'f_00131', 'f_00181']\n",
      "Group 3, clients ['f_00075', 'f_00175', 'f_00186', 'f_00066']\n",
      "Group 4, clients ['f_00079', 'f_00010']\n"
     ]
    },
    {
     "name": "stderr",
     "output_type": "stream",
     "text": [
      "Epoch:   0%|                                                                                     | 0/20 [00:00<?, ?it/s]"
     ]
    },
    {
     "name": "stdout",
     "output_type": "stream",
     "text": [
      "Group 0\n",
      "At round 58 accuracy: 0.8571428571428571\n",
      "At round 58 training accuracy: 0.875507835171213\n",
      "At round 58 training loss: 0.40911218786457565\n",
      "Group 1\n",
      "At round 58 accuracy: 0.7319277108433735\n",
      "At round 58 training accuracy: 0.7487526728439059\n",
      "At round 58 training loss: 0.7849184151231733\n",
      "Group 2\n",
      "At round 58 accuracy: 0.8121212121212121\n",
      "At round 58 training accuracy: 0.8022440392706872\n",
      "At round 58 training loss: 0.5493160042051416\n",
      "Group 3\n",
      "At round 58 accuracy: 0.9154078549848943\n",
      "At round 58 training accuracy: 0.910912343470483\n",
      "At round 58 training loss: 0.32171986325642293\n",
      "Group 4\n",
      "At round 58 accuracy: 0.8138888888888889\n",
      "At round 58 training accuracy: 0.8323643410852714\n",
      "At round 58 training loss: 0.47879963462753583\n",
      "At round 58 mean test accuracy: 0.8258835758835759 mean train accuracy: 0.8326533097862493\n",
      "The groups difference are: [14.79125568 14.78455495 14.74181639 14.82219715 14.89497851]\n",
      "Begin group  0 training\n"
     ]
    },
    {
     "name": "stderr",
     "output_type": "stream",
     "text": [
      "Epoch:  55%|█████████████████████████████████████████▎                                 | 11/20 [00:00<00:00, 105.03it/s]"
     ]
    },
    {
     "name": "stdout",
     "output_type": "stream",
     "text": [
      "Begin group  1 training\n"
     ]
    },
    {
     "name": "stderr",
     "output_type": "stream",
     "text": [
      "Epoch:   0%|                                                                                     | 0/20 [00:00<?, ?it/s]"
     ]
    },
    {
     "name": "stdout",
     "output_type": "stream",
     "text": [
      "Begin group  2 training\n"
     ]
    },
    {
     "name": "stderr",
     "output_type": "stream",
     "text": [
      "Epoch:  40%|██████████████████████████████▊                                              | 8/20 [00:00<00:00, 75.50it/s]"
     ]
    },
    {
     "name": "stdout",
     "output_type": "stream",
     "text": [
      "Begin group  3 training\n"
     ]
    },
    {
     "name": "stderr",
     "output_type": "stream",
     "text": [
      "Epoch:  45%|██████████████████████████████████▋                                          | 9/20 [00:00<00:00, 83.18it/s]"
     ]
    },
    {
     "name": "stdout",
     "output_type": "stream",
     "text": [
      "Begin group  4 training\n"
     ]
    },
    {
     "name": "stderr",
     "output_type": "stream",
     "text": [
      "                                                                                                                        \r"
     ]
    },
    {
     "name": "stdout",
     "output_type": "stream",
     "text": [
      "Group 0, clients ['f_00144', 'f_00113', 'f_00133']\n",
      "Group 1, clients ['f_00098']\n",
      "Group 2, clients ['f_00192', 'f_00091', 'f_00141', 'f_00132']\n",
      "Group 3, clients ['f_00036', 'f_00146', 'f_00196', 'f_00136', 'f_00106', 'f_00165', 'f_00185', 'f_00016']\n",
      "Group 4, clients ['f_00019', 'f_00030', 'f_00139', 'f_00020']\n"
     ]
    },
    {
     "name": "stderr",
     "output_type": "stream",
     "text": [
      "Epoch:   0%|                                                                                     | 0/20 [00:00<?, ?it/s]"
     ]
    },
    {
     "name": "stdout",
     "output_type": "stream",
     "text": [
      "Group 0\n",
      "At round 59 accuracy: 0.8645320197044335\n",
      "At round 59 training accuracy: 0.8760882182240278\n",
      "At round 59 training loss: 0.37574026709151126\n",
      "Group 1\n",
      "At round 59 accuracy: 0.8343373493975904\n",
      "At round 59 training accuracy: 0.8314326443335709\n",
      "At round 59 training loss: 0.526388986666799\n",
      "Group 2\n",
      "At round 59 accuracy: 0.7454545454545455\n",
      "At round 59 training accuracy: 0.7510518934081346\n",
      "At round 59 training loss: 0.7509789749028186\n",
      "Group 3\n",
      "At round 59 accuracy: 0.8942598187311178\n",
      "At round 59 training accuracy: 0.8887298747763864\n",
      "At round 59 training loss: 0.3688537706682635\n",
      "Group 4\n",
      "At round 59 accuracy: 0.8555555555555555\n",
      "At round 59 training accuracy: 0.8404392764857881\n",
      "At round 59 training loss: 0.4587431147992996\n",
      "At round 59 mean test accuracy: 0.8321205821205822 mean train accuracy: 0.831313561902442\n",
      "The groups difference are: [14.8606009  14.86224695 14.81324846 14.90198942 14.9773985 ]\n",
      "Begin group  0 training\n"
     ]
    },
    {
     "name": "stderr",
     "output_type": "stream",
     "text": [
      "Epoch:  25%|███████████████████▎                                                         | 5/20 [00:00<00:00, 43.86it/s]"
     ]
    },
    {
     "name": "stdout",
     "output_type": "stream",
     "text": [
      "Begin group  1 training\n"
     ]
    },
    {
     "name": "stderr",
     "output_type": "stream",
     "text": [
      "Epoch:   0%|                                                                                     | 0/20 [00:00<?, ?it/s]"
     ]
    },
    {
     "name": "stdout",
     "output_type": "stream",
     "text": [
      "Begin group  2 training\n"
     ]
    },
    {
     "name": "stderr",
     "output_type": "stream",
     "text": [
      "Epoch:   0%|                                                                                     | 0/20 [00:00<?, ?it/s]"
     ]
    },
    {
     "name": "stdout",
     "output_type": "stream",
     "text": [
      "Begin group  3 training\n"
     ]
    },
    {
     "name": "stderr",
     "output_type": "stream",
     "text": [
      "Epoch:   0%|                                                                                     | 0/20 [00:00<?, ?it/s]"
     ]
    },
    {
     "name": "stdout",
     "output_type": "stream",
     "text": [
      "Begin group  4 training\n"
     ]
    },
    {
     "name": "stderr",
     "output_type": "stream",
     "text": [
      "                                                                                                                        \r"
     ]
    },
    {
     "name": "stdout",
     "output_type": "stream",
     "text": [
      "Group 0, clients ['f_00144', 'f_00033', 'f_00053', 'f_00163', 'f_00193']\n",
      "Group 1, clients ['f_00087', 'f_00176']\n",
      "Group 2, clients ['f_00052', 'f_00081', 'f_00132', 'f_00001', 'f_00192', 'f_00021']\n",
      "Group 3, clients ['f_00106', 'f_00046', 'f_00056']\n",
      "Group 4, clients ['f_00000', 'f_00120', 'f_00190', 'f_00079']\n"
     ]
    },
    {
     "name": "stderr",
     "output_type": "stream",
     "text": [
      "Epoch:   0%|                                                                                     | 0/20 [00:00<?, ?it/s]"
     ]
    },
    {
     "name": "stdout",
     "output_type": "stream",
     "text": [
      "Group 0\n",
      "At round 60 accuracy: 0.8842364532019704\n",
      "At round 60 training accuracy: 0.914103308183401\n",
      "At round 60 training loss: 0.3301207565670607\n",
      "Group 1\n",
      "At round 60 accuracy: 0.7439759036144579\n",
      "At round 60 training accuracy: 0.7273699215965788\n",
      "At round 60 training loss: 0.9725972146581771\n",
      "Group 2\n",
      "At round 60 accuracy: 0.806060606060606\n",
      "At round 60 training accuracy: 0.8076203833567087\n",
      "At round 60 training loss: 0.536620170756645\n",
      "Group 3\n",
      "At round 60 accuracy: 0.8882175226586103\n",
      "At round 60 training accuracy: 0.8966010733452594\n",
      "At round 60 training loss: 0.3562578184406851\n",
      "Group 4\n",
      "At round 60 accuracy: 0.9333333333333333\n",
      "At round 60 training accuracy: 0.9047157622739018\n",
      "At round 60 training loss: 0.2874049569554723\n",
      "At round 60 mean test accuracy: 0.8497920997920998 mean train accuracy: 0.8497046464892516\n",
      "The groups difference are: [14.92452087 14.94000581 14.8832459  14.97384733 15.03855553]\n",
      "Begin group  0 training\n"
     ]
    },
    {
     "name": "stderr",
     "output_type": "stream",
     "text": [
      "Epoch:  20%|███████████████▍                                                             | 4/20 [00:00<00:00, 33.42it/s]"
     ]
    },
    {
     "name": "stdout",
     "output_type": "stream",
     "text": [
      "Begin group  1 training\n"
     ]
    },
    {
     "name": "stderr",
     "output_type": "stream",
     "text": [
      "Epoch:  25%|███████████████████▎                                                         | 5/20 [00:00<00:00, 46.65it/s]"
     ]
    },
    {
     "name": "stdout",
     "output_type": "stream",
     "text": [
      "Begin group  2 training\n"
     ]
    },
    {
     "name": "stderr",
     "output_type": "stream",
     "text": [
      "Epoch:   0%|                                                                                     | 0/20 [00:00<?, ?it/s]"
     ]
    },
    {
     "name": "stdout",
     "output_type": "stream",
     "text": [
      "Begin group  3 training\n"
     ]
    },
    {
     "name": "stderr",
     "output_type": "stream",
     "text": [
      "Epoch:   0%|                                                                                     | 0/20 [00:00<?, ?it/s]"
     ]
    },
    {
     "name": "stdout",
     "output_type": "stream",
     "text": [
      "Begin group  4 training\n"
     ]
    },
    {
     "name": "stderr",
     "output_type": "stream",
     "text": [
      "                                                                                                                        \r"
     ]
    },
    {
     "name": "stdout",
     "output_type": "stream",
     "text": [
      "Group 0, clients ['f_00014', 'f_00003', 'f_00023', 'f_00073', 'f_00193', 'f_00133']\n",
      "Group 1, clients ['f_00097', 'f_00028', 'f_00117']\n",
      "Group 2, clients ['f_00062', 'f_00161', 'f_00011', 'f_00081']\n",
      "Group 3, clients ['f_00085', 'f_00086', 'f_00056']\n",
      "Group 4, clients ['f_00170', 'f_00129', 'f_00070', 'f_00030']\n"
     ]
    },
    {
     "name": "stderr",
     "output_type": "stream",
     "text": [
      "Epoch:  45%|██████████████████████████████████▋                                          | 9/20 [00:00<00:00, 82.23it/s]"
     ]
    },
    {
     "name": "stdout",
     "output_type": "stream",
     "text": [
      "Group 0\n",
      "At round 61 accuracy: 0.8325123152709359\n",
      "At round 61 training accuracy: 0.8360417875798026\n",
      "At round 61 training loss: 0.5266400041881337\n",
      "Group 1\n",
      "At round 61 accuracy: 0.7409638554216867\n",
      "At round 61 training accuracy: 0.7601568068424804\n",
      "At round 61 training loss: 0.8004071052137733\n",
      "Group 2\n",
      "At round 61 accuracy: 0.9050505050505051\n",
      "At round 61 training accuracy: 0.9029920523609163\n",
      "At round 61 training loss: 0.2708238729298839\n",
      "Group 3\n",
      "At round 61 accuracy: 0.8429003021148036\n",
      "At round 61 training accuracy: 0.8282647584973166\n",
      "At round 61 training loss: 0.5180994285060649\n",
      "Group 4\n",
      "At round 61 accuracy: 0.9277777777777778\n",
      "At round 61 training accuracy: 0.897609819121447\n",
      "At round 61 training loss: 0.2893556112024057\n",
      "At round 61 mean test accuracy: 0.854989604989605 mean train accuracy: 0.8508008038487302\n",
      "The groups difference are: [15.01152903 15.03165008 14.96824723 15.04547283 15.12912686]\n",
      "Begin group  0 training\n"
     ]
    },
    {
     "name": "stderr",
     "output_type": "stream",
     "text": [
      "Epoch:   0%|                                                                                     | 0/20 [00:00<?, ?it/s]"
     ]
    },
    {
     "name": "stdout",
     "output_type": "stream",
     "text": [
      "Begin group  1 training\n"
     ]
    },
    {
     "name": "stderr",
     "output_type": "stream",
     "text": [
      "Epoch:   0%|                                                                                     | 0/20 [00:00<?, ?it/s]"
     ]
    },
    {
     "name": "stdout",
     "output_type": "stream",
     "text": [
      "Begin group  2 training\n"
     ]
    },
    {
     "name": "stderr",
     "output_type": "stream",
     "text": [
      "Epoch:   0%|                                                                                     | 0/20 [00:00<?, ?it/s]"
     ]
    },
    {
     "name": "stdout",
     "output_type": "stream",
     "text": [
      "Begin group  3 training\n"
     ]
    },
    {
     "name": "stderr",
     "output_type": "stream",
     "text": [
      "Epoch:  80%|████████████████████████████████████████████████████████████               | 16/20 [00:00<00:00, 157.22it/s]"
     ]
    },
    {
     "name": "stdout",
     "output_type": "stream",
     "text": [
      "Begin group  4 training\n"
     ]
    },
    {
     "name": "stderr",
     "output_type": "stream",
     "text": [
      "                                                                                                                        \r"
     ]
    },
    {
     "name": "stdout",
     "output_type": "stream",
     "text": [
      "Group 0, clients ['f_00153', 'f_00004']\n",
      "Group 1, clients ['f_00059', 'f_00087', 'f_00047']\n",
      "Group 2, clients ['f_00171', 'f_00061', 'f_00162', 'f_00032']\n",
      "Group 3, clients ['f_00125', 'f_00146', 'f_00076', 'f_00005', 'f_00166', 'f_00037', 'f_00036']\n",
      "Group 4, clients ['f_00120', 'f_00168', 'f_00199', 'f_00040']\n"
     ]
    },
    {
     "name": "stderr",
     "output_type": "stream",
     "text": [
      "Epoch:   0%|                                                                                     | 0/20 [00:00<?, ?it/s]"
     ]
    },
    {
     "name": "stdout",
     "output_type": "stream",
     "text": [
      "Group 0\n",
      "At round 62 accuracy: 0.8472906403940886\n",
      "At round 62 training accuracy: 0.847069065583285\n",
      "At round 62 training loss: 0.5271018184094463\n",
      "Group 1\n",
      "At round 62 accuracy: 0.7018072289156626\n",
      "At round 62 training accuracy: 0.7230933713471134\n",
      "At round 62 training loss: 0.7316132806990288\n",
      "Group 2\n",
      "At round 62 accuracy: 0.8585858585858586\n",
      "At round 62 training accuracy: 0.8625525946704067\n",
      "At round 62 training loss: 0.40467423755482235\n",
      "Group 3\n",
      "At round 62 accuracy: 0.9335347432024169\n",
      "At round 62 training accuracy: 0.9355992844364938\n",
      "At round 62 training loss: 0.29639069989910066\n",
      "Group 4\n",
      "At round 62 accuracy: 0.8555555555555555\n",
      "At round 62 training accuracy: 0.8536821705426356\n",
      "At round 62 training loss: 0.3655960195401842\n",
      "At round 62 mean test accuracy: 0.8414760914760915 mean train accuracy: 0.8462334815175689\n",
      "The groups difference are: [15.0953197  15.11326503 15.04876006 15.12277861 15.2183803 ]\n",
      "Begin group  0 training\n"
     ]
    },
    {
     "name": "stderr",
     "output_type": "stream",
     "text": [
      "Epoch:  20%|███████████████▍                                                             | 4/20 [00:00<00:00, 37.13it/s]"
     ]
    },
    {
     "name": "stdout",
     "output_type": "stream",
     "text": [
      "Begin group  1 training\n"
     ]
    },
    {
     "name": "stderr",
     "output_type": "stream",
     "text": [
      "Epoch:   0%|                                                                                     | 0/20 [00:00<?, ?it/s]"
     ]
    },
    {
     "name": "stdout",
     "output_type": "stream",
     "text": [
      "Begin group  2 training\n"
     ]
    },
    {
     "name": "stderr",
     "output_type": "stream",
     "text": [
      "Epoch:   0%|                                                                                     | 0/20 [00:00<?, ?it/s]"
     ]
    },
    {
     "name": "stdout",
     "output_type": "stream",
     "text": [
      "Begin group  3 training\n"
     ]
    },
    {
     "name": "stderr",
     "output_type": "stream",
     "text": [
      "Epoch:   0%|                                                                                     | 0/20 [00:00<?, ?it/s]"
     ]
    },
    {
     "name": "stdout",
     "output_type": "stream",
     "text": [
      "Begin group  4 training\n"
     ]
    },
    {
     "name": "stderr",
     "output_type": "stream",
     "text": [
      "                                                                                                                        \r"
     ]
    },
    {
     "name": "stdout",
     "output_type": "stream",
     "text": [
      "Group 0, clients ['f_00154', 'f_00143', 'f_00153', 'f_00193', 'f_00103', 'f_00064', 'f_00194']\n",
      "Group 1, clients ['f_00089', 'f_00097', 'f_00138', 'f_00068']\n",
      "Group 2, clients ['f_00112', 'f_00171', 'f_00052']\n",
      "Group 3, clients ['f_00126', 'f_00125', 'f_00037']\n",
      "Group 4, clients ['f_00010', 'f_00069', 'f_00090']\n"
     ]
    },
    {
     "name": "stderr",
     "output_type": "stream",
     "text": [
      "Epoch:  35%|██████████████████████████▉                                                  | 7/20 [00:00<00:00, 63.03it/s]"
     ]
    },
    {
     "name": "stdout",
     "output_type": "stream",
     "text": [
      "Group 0\n",
      "At round 63 accuracy: 0.9088669950738916\n",
      "At round 63 training accuracy: 0.9114915844457342\n",
      "At round 63 training loss: 0.36191514607041086\n",
      "Group 1\n",
      "At round 63 accuracy: 0.7289156626506024\n",
      "At round 63 training accuracy: 0.759800427655025\n",
      "At round 63 training loss: 0.9313975812459706\n",
      "Group 2\n",
      "At round 63 accuracy: 0.8545454545454545\n",
      "At round 63 training accuracy: 0.8747078073866292\n",
      "At round 63 training loss: 0.3179067181455526\n",
      "Group 3\n",
      "At round 63 accuracy: 0.9093655589123867\n",
      "At round 63 training accuracy: 0.9119856887298747\n",
      "At round 63 training loss: 0.2940335093036107\n",
      "Group 4\n",
      "At round 63 accuracy: 0.8972222222222223\n",
      "At round 63 training accuracy: 0.8611111111111112\n",
      "At round 63 training loss: 0.3758505380036218\n",
      "At round 63 mean test accuracy: 0.8617463617463618 mean train accuracy: 0.8665732902990073\n",
      "The groups difference are: [15.17127165 15.19175214 15.12323505 15.19274088 15.29455328]\n",
      "Begin group  0 training\n"
     ]
    },
    {
     "name": "stderr",
     "output_type": "stream",
     "text": [
      "Epoch:   0%|                                                                                     | 0/20 [00:00<?, ?it/s]"
     ]
    },
    {
     "name": "stdout",
     "output_type": "stream",
     "text": [
      "Begin group  1 training\n"
     ]
    },
    {
     "name": "stderr",
     "output_type": "stream",
     "text": [
      "Epoch:   0%|                                                                                     | 0/20 [00:00<?, ?it/s]"
     ]
    },
    {
     "name": "stdout",
     "output_type": "stream",
     "text": [
      "Begin group  2 training\n"
     ]
    },
    {
     "name": "stderr",
     "output_type": "stream",
     "text": [
      "Epoch:  75%|████████████████████████████████████████████████████████▎                  | 15/20 [00:00<00:00, 145.03it/s]"
     ]
    },
    {
     "name": "stdout",
     "output_type": "stream",
     "text": [
      "Begin group  3 training\n"
     ]
    },
    {
     "name": "stderr",
     "output_type": "stream",
     "text": [
      "Epoch:  30%|███████████████████████                                                      | 6/20 [00:00<00:00, 58.49it/s]"
     ]
    },
    {
     "name": "stdout",
     "output_type": "stream",
     "text": [
      "Begin group  4 training\n"
     ]
    },
    {
     "name": "stderr",
     "output_type": "stream",
     "text": [
      "                                                                                                                        \r"
     ]
    },
    {
     "name": "stdout",
     "output_type": "stream",
     "text": [
      "Group 0, clients ['f_00163', 'f_00014', 'f_00193', 'f_00123']\n",
      "Group 1, clients ['f_00058', 'f_00107', 'f_00157', 'f_00097', 'f_00178']\n",
      "Group 2, clients ['f_00041', 'f_00121', 'f_00102', 'f_00042']\n",
      "Group 3, clients ['f_00156', 'f_00086', 'f_00035', 'f_00116']\n",
      "Group 4, clients ['f_00109', 'f_00030', 'f_00069']\n"
     ]
    },
    {
     "name": "stderr",
     "output_type": "stream",
     "text": [
      "Epoch:  55%|█████████████████████████████████████████▎                                 | 11/20 [00:00<00:00, 109.23it/s]"
     ]
    },
    {
     "name": "stdout",
     "output_type": "stream",
     "text": [
      "Group 0\n",
      "At round 64 accuracy: 0.874384236453202\n",
      "At round 64 training accuracy: 0.8781195589088798\n",
      "At round 64 training loss: 0.3939146809874495\n",
      "Group 1\n",
      "At round 64 accuracy: 0.7319277108433735\n",
      "At round 64 training accuracy: 0.7074126870990735\n",
      "At round 64 training loss: 0.7381492548556474\n",
      "Group 2\n",
      "At round 64 accuracy: 0.8161616161616162\n",
      "At round 64 training accuracy: 0.8279569892473119\n",
      "At round 64 training loss: 0.4346351643842255\n",
      "Group 3\n",
      "At round 64 accuracy: 0.8700906344410876\n",
      "At round 64 training accuracy: 0.8622540250447227\n",
      "At round 64 training loss: 0.41810715479746274\n",
      "Group 4\n",
      "At round 64 accuracy: 0.8805555555555555\n",
      "At round 64 training accuracy: 0.8708010335917312\n",
      "At round 64 training loss: 0.33844208378027113\n",
      "At round 64 mean test accuracy: 0.8352390852390852 mean train accuracy: 0.8318007429510992\n",
      "The groups difference are: [15.25250946 15.26018409 15.20834002 15.26643132 15.37461935]\n",
      "Begin group  0 training\n"
     ]
    },
    {
     "name": "stderr",
     "output_type": "stream",
     "text": [
      "Epoch:  70%|████████████████████████████████████████████████████▌                      | 14/20 [00:00<00:00, 135.53it/s]"
     ]
    },
    {
     "name": "stdout",
     "output_type": "stream",
     "text": [
      "Begin group  1 training\n"
     ]
    },
    {
     "name": "stderr",
     "output_type": "stream",
     "text": [
      "Epoch:  30%|███████████████████████                                                      | 6/20 [00:00<00:00, 51.43it/s]"
     ]
    },
    {
     "name": "stdout",
     "output_type": "stream",
     "text": [
      "Begin group  2 training\n"
     ]
    },
    {
     "name": "stderr",
     "output_type": "stream",
     "text": [
      "Epoch:   0%|                                                                                     | 0/20 [00:00<?, ?it/s]"
     ]
    },
    {
     "name": "stdout",
     "output_type": "stream",
     "text": [
      "Begin group  3 training\n"
     ]
    },
    {
     "name": "stderr",
     "output_type": "stream",
     "text": [
      "Epoch:   0%|                                                                                     | 0/20 [00:00<?, ?it/s]"
     ]
    },
    {
     "name": "stdout",
     "output_type": "stream",
     "text": [
      "Begin group  4 training\n"
     ]
    },
    {
     "name": "stderr",
     "output_type": "stream",
     "text": [
      "                                                                                                                        \r"
     ]
    },
    {
     "name": "stdout",
     "output_type": "stream",
     "text": [
      "Group 0, clients ['f_00054', 'f_00153']\n",
      "Group 1, clients ['f_00169', 'f_00176', 'f_00178']\n",
      "Group 2, clients ['f_00021', 'f_00012', 'f_00151', 'f_00082']\n",
      "Group 3, clients ['f_00075', 'f_00106', 'f_00085', 'f_00065', 'f_00166', 'f_00155', 'f_00116']\n",
      "Group 4, clients ['f_00119', 'f_00020', 'f_00070', 'f_00099']\n"
     ]
    },
    {
     "name": "stderr",
     "output_type": "stream",
     "text": [
      "                                                                                                                        "
     ]
    },
    {
     "name": "stdout",
     "output_type": "stream",
     "text": [
      "Group 0\n",
      "At round 65 accuracy: 0.8571428571428571\n",
      "At round 65 training accuracy: 0.8752176436448056\n",
      "At round 65 training loss: 0.4082455414569506\n",
      "Group 1\n",
      "At round 65 accuracy: 0.8102409638554217\n",
      "At round 65 training accuracy: 0.8296507483962936\n",
      "At round 65 training loss: 0.5211775826923523\n",
      "Group 2\n",
      "At round 65 accuracy: 0.8666666666666667\n",
      "At round 65 training accuracy: 0.8877980364656382\n",
      "At round 65 training loss: 0.29726224291291176\n",
      "Group 3\n",
      "At round 65 accuracy: 0.8187311178247734\n",
      "At round 65 training accuracy: 0.8135957066189624\n",
      "At round 65 training loss: 0.4729947982512561\n",
      "Group 4\n",
      "At round 65 accuracy: 0.8472222222222222\n",
      "At round 65 training accuracy: 0.8259043927648578\n",
      "At round 65 training loss: 0.4639918589050032\n",
      "At round 65 mean test accuracy: 0.843035343035343 mean train accuracy: 0.8509225991108946\n",
      "The groups difference are: [15.32962379 15.33395959 15.28718355 15.33955214 15.44705722]\n",
      "Begin group  0 training\n"
     ]
    },
    {
     "name": "stderr",
     "output_type": "stream",
     "text": [
      "Epoch:   0%|                                                                                     | 0/20 [00:00<?, ?it/s]"
     ]
    },
    {
     "name": "stdout",
     "output_type": "stream",
     "text": [
      "Begin group  1 training\n"
     ]
    },
    {
     "name": "stderr",
     "output_type": "stream",
     "text": [
      "Epoch:   0%|                                                                                     | 0/20 [00:00<?, ?it/s]"
     ]
    },
    {
     "name": "stdout",
     "output_type": "stream",
     "text": [
      "Begin group  2 training\n"
     ]
    },
    {
     "name": "stderr",
     "output_type": "stream",
     "text": [
      "Epoch:  50%|██████████████████████████████████████                                      | 10/20 [00:00<00:00, 92.54it/s]"
     ]
    },
    {
     "name": "stdout",
     "output_type": "stream",
     "text": [
      "Begin group  3 training\n"
     ]
    },
    {
     "name": "stderr",
     "output_type": "stream",
     "text": [
      "Epoch:   0%|                                                                                     | 0/20 [00:00<?, ?it/s]"
     ]
    },
    {
     "name": "stdout",
     "output_type": "stream",
     "text": [
      "Begin group  4 training\n"
     ]
    },
    {
     "name": "stderr",
     "output_type": "stream",
     "text": [
      "                                                                                                                        \r"
     ]
    },
    {
     "name": "stdout",
     "output_type": "stream",
     "text": [
      "Group 0, clients ['f_00174', 'f_00054', 'f_00053', 'f_00104']\n",
      "Group 1, clients ['f_00167', 'f_00017', 'f_00118', 'f_00128', 'f_00108', 'f_00107', 'f_00018', 'f_00007', 'f_00148']\n",
      "Group 2, clients ['f_00052']\n",
      "Group 3, clients ['f_00106', 'f_00156']\n",
      "Group 4, clients ['f_00179', 'f_00160', 'f_00130', 'f_00140']\n"
     ]
    },
    {
     "name": "stderr",
     "output_type": "stream",
     "text": [
      "Epoch:   0%|                                                                                     | 0/20 [00:00<?, ?it/s]"
     ]
    },
    {
     "name": "stdout",
     "output_type": "stream",
     "text": [
      "Group 0\n",
      "At round 66 accuracy: 0.8793103448275862\n",
      "At round 66 training accuracy: 0.903946604759141\n",
      "At round 66 training loss: 0.3786215481526168\n",
      "Group 1\n",
      "At round 66 accuracy: 0.8403614457831325\n",
      "At round 66 training accuracy: 0.8121881682109765\n",
      "At round 66 training loss: 0.48453119109867304\n",
      "Group 2\n",
      "At round 66 accuracy: 0.901010101010101\n",
      "At round 66 training accuracy: 0.9039270687237027\n",
      "At round 66 training loss: 0.2693008791242542\n",
      "Group 3\n",
      "At round 66 accuracy: 0.8368580060422961\n",
      "At round 66 training accuracy: 0.8432915921288014\n",
      "At round 66 training loss: 0.4073193289266236\n",
      "Group 4\n",
      "At round 66 accuracy: 0.9166666666666666\n",
      "At round 66 training accuracy: 0.8840439276485789\n",
      "At round 66 training loss: 0.3214052531300281\n",
      "At round 66 mean test accuracy: 0.8778586278586279 mean train accuracy: 0.8741854941842763\n",
      "The groups difference are: [15.3618503  15.3704882  15.32761304 15.38506455 15.49712745]\n",
      "Begin group  0 training\n"
     ]
    },
    {
     "name": "stderr",
     "output_type": "stream",
     "text": [
      "Epoch:   0%|                                                                                     | 0/20 [00:00<?, ?it/s]"
     ]
    },
    {
     "name": "stdout",
     "output_type": "stream",
     "text": [
      "Begin group  1 training\n"
     ]
    },
    {
     "name": "stderr",
     "output_type": "stream",
     "text": [
      "Epoch:  30%|███████████████████████                                                      | 6/20 [00:00<00:00, 57.53it/s]"
     ]
    },
    {
     "name": "stdout",
     "output_type": "stream",
     "text": [
      "Begin group  2 training\n"
     ]
    },
    {
     "name": "stderr",
     "output_type": "stream",
     "text": [
      "                                                                                                                        "
     ]
    },
    {
     "name": "stdout",
     "output_type": "stream",
     "text": [
      "Begin group  3 training\n"
     ]
    },
    {
     "name": "stderr",
     "output_type": "stream",
     "text": [
      "Epoch:   0%|                                                                                     | 0/20 [00:00<?, ?it/s]"
     ]
    },
    {
     "name": "stdout",
     "output_type": "stream",
     "text": [
      "Begin group  4 training\n"
     ]
    },
    {
     "name": "stderr",
     "output_type": "stream",
     "text": [
      "                                                                                                                        \r"
     ]
    },
    {
     "name": "stdout",
     "output_type": "stream",
     "text": [
      "Group 0, clients ['f_00172', 'f_00123']\n",
      "Group 1, clients ['f_00077', 'f_00187', 'f_00117', 'f_00038', 'f_00108']\n",
      "Group 2, clients ['f_00032', 'f_00071', 'f_00062', 'f_00131']\n",
      "Group 3, clients ['f_00166', 'f_00025', 'f_00195', 'f_00056', 'f_00015']\n",
      "Group 4, clients ['f_00109', 'f_00149', 'f_00180', 'f_00030']\n"
     ]
    },
    {
     "name": "stderr",
     "output_type": "stream",
     "text": [
      "Epoch:  30%|███████████████████████                                                      | 6/20 [00:00<00:00, 59.79it/s]"
     ]
    },
    {
     "name": "stdout",
     "output_type": "stream",
     "text": [
      "Group 0\n",
      "At round 67 accuracy: 0.8226600985221675\n",
      "At round 67 training accuracy: 0.8412652350551364\n",
      "At round 67 training loss: 0.5259032414634769\n",
      "Group 1\n",
      "At round 67 accuracy: 0.8102409638554217\n",
      "At round 67 training accuracy: 0.7872416250890948\n",
      "At round 67 training loss: 0.5536685544288507\n",
      "Group 2\n",
      "At round 67 accuracy: 0.8707070707070707\n",
      "At round 67 training accuracy: 0.8669939223936419\n",
      "At round 67 training loss: 0.386291770867972\n",
      "Group 3\n",
      "At round 67 accuracy: 0.851963746223565\n",
      "At round 67 training accuracy: 0.8347048300536672\n",
      "At round 67 training loss: 0.4491271078083431\n",
      "Group 4\n",
      "At round 67 accuracy: 0.8333333333333334\n",
      "At round 67 training accuracy: 0.8404392764857881\n",
      "At round 67 training loss: 0.416584886025724\n",
      "At round 67 mean test accuracy: 0.83991683991684 mean train accuracy: 0.8374642226417393\n",
      "The groups difference are: [15.46157943 15.4714522  15.43203099 15.48036985 15.60137516]\n",
      "Begin group  0 training\n"
     ]
    },
    {
     "name": "stderr",
     "output_type": "stream",
     "text": [
      "Epoch:   0%|                                                                                     | 0/20 [00:00<?, ?it/s]"
     ]
    },
    {
     "name": "stdout",
     "output_type": "stream",
     "text": [
      "Begin group  1 training\n"
     ]
    },
    {
     "name": "stderr",
     "output_type": "stream",
     "text": [
      "Epoch:  75%|████████████████████████████████████████████████████████▎                  | 15/20 [00:00<00:00, 144.42it/s]"
     ]
    },
    {
     "name": "stdout",
     "output_type": "stream",
     "text": [
      "Begin group  2 training\n"
     ]
    },
    {
     "name": "stderr",
     "output_type": "stream",
     "text": [
      "Epoch:   0%|                                                                                     | 0/20 [00:00<?, ?it/s]"
     ]
    },
    {
     "name": "stdout",
     "output_type": "stream",
     "text": [
      "Begin group  3 training\n"
     ]
    },
    {
     "name": "stderr",
     "output_type": "stream",
     "text": [
      "Epoch:  90%|███████████████████████████████████████████████████████████████████▌       | 18/20 [00:00<00:00, 176.06it/s]"
     ]
    },
    {
     "name": "stdout",
     "output_type": "stream",
     "text": [
      "Begin group  4 training\n"
     ]
    },
    {
     "name": "stderr",
     "output_type": "stream",
     "text": [
      "                                                                                                                        \r"
     ]
    },
    {
     "name": "stdout",
     "output_type": "stream",
     "text": [
      "Group 0, clients ['f_00054', 'f_00143', 'f_00004', 'f_00013', 'f_00183']\n",
      "Group 1, clients ['f_00117', 'f_00107', 'f_00127']\n",
      "Group 2, clients ['f_00102', 'f_00011', 'f_00112', 'f_00132', 'f_00121']\n",
      "Group 3, clients ['f_00016', 'f_00186', 'f_00126', 'f_00116', 'f_00056', 'f_00125']\n",
      "Group 4, clients ['f_00099']\n"
     ]
    },
    {
     "name": "stderr",
     "output_type": "stream",
     "text": [
      "Epoch:   0%|                                                                                     | 0/20 [00:00<?, ?it/s]"
     ]
    },
    {
     "name": "stdout",
     "output_type": "stream",
     "text": [
      "Group 0\n",
      "At round 68 accuracy: 0.8226600985221675\n",
      "At round 68 training accuracy: 0.8244341265235056\n",
      "At round 68 training loss: 0.5623319942663082\n",
      "Group 1\n",
      "At round 68 accuracy: 0.8524096385542169\n",
      "At round 68 training accuracy: 0.8278688524590164\n",
      "At round 68 training loss: 0.47564187764866556\n",
      "Group 2\n",
      "At round 68 accuracy: 0.802020202020202\n",
      "At round 68 training accuracy: 0.8139317438055166\n",
      "At round 68 training loss: 0.5369714347174537\n",
      "Group 3\n",
      "At round 68 accuracy: 0.8851963746223565\n",
      "At round 68 training accuracy: 0.8833631484794275\n",
      "At round 68 training loss: 0.3429617411975144\n",
      "Group 4\n",
      "At round 68 accuracy: 0.8611111111111112\n",
      "At round 68 training accuracy: 0.8675710594315246\n",
      "At round 68 training loss: 0.3798305398883245\n",
      "At round 68 mean test accuracy: 0.8404365904365905 mean train accuracy: 0.8404482065647646\n",
      "The groups difference are: [15.53597125 15.55313661 15.50150716 15.55911519 15.6808723 ]\n",
      "Begin group  0 training\n"
     ]
    },
    {
     "name": "stderr",
     "output_type": "stream",
     "text": [
      "Epoch:   0%|                                                                                     | 0/20 [00:00<?, ?it/s]"
     ]
    },
    {
     "name": "stdout",
     "output_type": "stream",
     "text": [
      "Begin group  1 training\n"
     ]
    },
    {
     "name": "stderr",
     "output_type": "stream",
     "text": [
      "Epoch:  25%|███████████████████▎                                                         | 5/20 [00:00<00:00, 40.19it/s]"
     ]
    },
    {
     "name": "stdout",
     "output_type": "stream",
     "text": [
      "Begin group  2 training\n"
     ]
    },
    {
     "name": "stderr",
     "output_type": "stream",
     "text": [
      "Epoch:   0%|                                                                                     | 0/20 [00:00<?, ?it/s]"
     ]
    },
    {
     "name": "stdout",
     "output_type": "stream",
     "text": [
      "Begin group  3 training\n"
     ]
    },
    {
     "name": "stderr",
     "output_type": "stream",
     "text": [
      "                                                                                                                        "
     ]
    },
    {
     "name": "stdout",
     "output_type": "stream",
     "text": [
      "Begin group  4 training\n",
      "Group 0, clients ['f_00023', 'f_00013']\n",
      "Group 1, clients ['f_00178', 'f_00047', 'f_00118', 'f_00058', 'f_00008', 'f_00068', 'f_00137']\n",
      "Group 2, clients ['f_00032', 'f_00031', 'f_00062']\n",
      "Group 3, clients ['f_00156', 'f_00086', 'f_00125', 'f_00015']\n",
      "Group 4, clients ['f_00070', 'f_00100', 'f_00170', 'f_00199']\n"
     ]
    },
    {
     "name": "stderr",
     "output_type": "stream",
     "text": [
      "Epoch:  40%|██████████████████████████████▊                                              | 8/20 [00:00<00:00, 70.85it/s]"
     ]
    },
    {
     "name": "stdout",
     "output_type": "stream",
     "text": [
      "Group 0\n",
      "At round 69 accuracy: 0.8472906403940886\n",
      "At round 69 training accuracy: 0.8569355774811376\n",
      "At round 69 training loss: 0.39906166086337697\n",
      "Group 1\n",
      "At round 69 accuracy: 0.6566265060240963\n",
      "At round 69 training accuracy: 0.6617961511047755\n",
      "At round 69 training loss: 0.9426024068340776\n",
      "Group 2\n",
      "At round 69 accuracy: 0.8646464646464647\n",
      "At round 69 training accuracy: 0.8831229546517064\n",
      "At round 69 training loss: 0.31113674656399615\n",
      "Group 3\n",
      "At round 69 accuracy: 0.9305135951661632\n",
      "At round 69 training accuracy: 0.9352415026833631\n",
      "At round 69 training loss: 0.2672431706129332\n",
      "Group 4\n",
      "At round 69 accuracy: 0.825\n",
      "At round 69 training accuracy: 0.8284883720930233\n",
      "At round 69 training loss: 0.4789828266659679\n",
      "At round 69 mean test accuracy: 0.829002079002079 mean train accuracy: 0.8383776871079714\n",
      "The groups difference are: [15.58324291 15.60246611 15.5542981  15.60167553 15.72163379]\n",
      "Begin group  0 training\n"
     ]
    },
    {
     "name": "stderr",
     "output_type": "stream",
     "text": [
      "Epoch:   0%|                                                                                     | 0/20 [00:00<?, ?it/s]"
     ]
    },
    {
     "name": "stdout",
     "output_type": "stream",
     "text": [
      "Begin group  1 training\n"
     ]
    },
    {
     "name": "stderr",
     "output_type": "stream",
     "text": [
      "Epoch:   0%|                                                                                     | 0/20 [00:00<?, ?it/s]"
     ]
    },
    {
     "name": "stdout",
     "output_type": "stream",
     "text": [
      "Begin group  2 training\n"
     ]
    },
    {
     "name": "stderr",
     "output_type": "stream",
     "text": [
      "Epoch:   0%|                                                                                     | 0/20 [00:00<?, ?it/s]"
     ]
    },
    {
     "name": "stdout",
     "output_type": "stream",
     "text": [
      "Begin group  3 training\n"
     ]
    },
    {
     "name": "stderr",
     "output_type": "stream",
     "text": [
      "Epoch:  25%|███████████████████▎                                                         | 5/20 [00:00<00:00, 40.27it/s]"
     ]
    },
    {
     "name": "stdout",
     "output_type": "stream",
     "text": [
      "Begin group  4 training\n"
     ]
    },
    {
     "name": "stderr",
     "output_type": "stream",
     "text": [
      "                                                                                                                        \r"
     ]
    },
    {
     "name": "stdout",
     "output_type": "stream",
     "text": [
      "Group 0, clients ['f_00164', 'f_00014']\n",
      "Group 1, clients ['f_00017', 'f_00197', 'f_00057', 'f_00167', 'f_00147', 'f_00097', 'f_00188']\n",
      "Group 2, clients ['f_00102', 'f_00142', 'f_00061', 'f_00021', 'f_00182', 'f_00011']\n",
      "Group 3, clients ['f_00115', 'f_00105']\n",
      "Group 4, clients ['f_00099', 'f_00109', 'f_00179']\n"
     ]
    },
    {
     "name": "stderr",
     "output_type": "stream",
     "text": [
      "Epoch:  15%|███████████▌                                                                 | 3/20 [00:00<00:00, 24.71it/s]"
     ]
    },
    {
     "name": "stdout",
     "output_type": "stream",
     "text": [
      "Group 0\n",
      "At round 70 accuracy: 0.8177339901477833\n",
      "At round 70 training accuracy: 0.8189204875217644\n",
      "At round 70 training loss: 0.619106273477096\n",
      "Group 1\n",
      "At round 70 accuracy: 0.8102409638554217\n",
      "At round 70 training accuracy: 0.7908054169636494\n",
      "At round 70 training loss: 0.5897001087485002\n",
      "Group 2\n",
      "At round 70 accuracy: 0.8383838383838383\n",
      "At round 70 training accuracy: 0.8478260869565217\n",
      "At round 70 training loss: 0.4911843238484642\n",
      "Group 3\n",
      "At round 70 accuracy: 0.9154078549848943\n",
      "At round 70 training accuracy: 0.9159212880143113\n",
      "At round 70 training loss: 0.2973946376448774\n",
      "Group 4\n",
      "At round 70 accuracy: 0.8805555555555555\n",
      "At round 70 training accuracy: 0.8588501291989664\n",
      "At round 70 training loss: 0.3765750810532838\n",
      "At round 70 mean test accuracy: 0.8503118503118503 mean train accuracy: 0.8456854028378296\n",
      "The groups difference are: [15.66626438 15.68939793 15.63360896 15.68944001 15.81119404]\n",
      "Begin group  0 training\n"
     ]
    },
    {
     "name": "stderr",
     "output_type": "stream",
     "text": [
      "Epoch:  70%|████████████████████████████████████████████████████▌                      | 14/20 [00:00<00:00, 134.97it/s]"
     ]
    },
    {
     "name": "stdout",
     "output_type": "stream",
     "text": [
      "Begin group  1 training\n"
     ]
    },
    {
     "name": "stderr",
     "output_type": "stream",
     "text": [
      "Epoch:  25%|███████████████████▎                                                         | 5/20 [00:00<00:00, 42.19it/s]"
     ]
    },
    {
     "name": "stdout",
     "output_type": "stream",
     "text": [
      "Begin group  2 training\n"
     ]
    },
    {
     "name": "stderr",
     "output_type": "stream",
     "text": [
      "Epoch:   0%|                                                                                     | 0/20 [00:00<?, ?it/s]"
     ]
    },
    {
     "name": "stdout",
     "output_type": "stream",
     "text": [
      "Begin group  3 training\n"
     ]
    },
    {
     "name": "stderr",
     "output_type": "stream",
     "text": [
      "Epoch:   0%|                                                                                     | 0/20 [00:00<?, ?it/s]"
     ]
    },
    {
     "name": "stdout",
     "output_type": "stream",
     "text": [
      "Begin group  4 training\n"
     ]
    },
    {
     "name": "stderr",
     "output_type": "stream",
     "text": [
      "                                                                                                                        \r"
     ]
    },
    {
     "name": "stdout",
     "output_type": "stream",
     "text": [
      "Group 0, clients ['f_00064', 'f_00034', 'f_00073']\n",
      "Group 1, clients ['f_00108', 'f_00028', 'f_00147']\n",
      "Group 2, clients ['f_00122', 'f_00132', 'f_00121', 'f_00031', 'f_00182']\n",
      "Group 3, clients ['f_00145', 'f_00136', 'f_00106', 'f_00175']\n",
      "Group 4, clients ['f_00069', 'f_00189', 'f_00020', 'f_00130', 'f_00100']\n"
     ]
    },
    {
     "name": "stderr",
     "output_type": "stream",
     "text": [
      "Epoch:   0%|                                                                                     | 0/20 [00:00<?, ?it/s]"
     ]
    },
    {
     "name": "stdout",
     "output_type": "stream",
     "text": [
      "Group 0\n",
      "At round 71 accuracy: 0.8300492610837439\n",
      "At round 71 training accuracy: 0.8232733604178758\n",
      "At round 71 training loss: 0.5383980130723791\n",
      "Group 1\n",
      "At round 71 accuracy: 0.75\n",
      "At round 71 training accuracy: 0.7736992159657876\n",
      "At round 71 training loss: 0.6150919385227831\n",
      "Group 2\n",
      "At round 71 accuracy: 0.8565656565656565\n",
      "At round 71 training accuracy: 0.8690977092099111\n",
      "At round 71 training loss: 0.35613526448314853\n",
      "Group 3\n",
      "At round 71 accuracy: 0.8187311178247734\n",
      "At round 71 training accuracy: 0.8064400715563507\n",
      "At round 71 training loss: 0.5781826385931647\n",
      "Group 4\n",
      "At round 71 accuracy: 0.8194444444444444\n",
      "At round 71 training accuracy: 0.8184754521963824\n",
      "At round 71 training loss: 0.5087197104586861\n",
      "At round 71 mean test accuracy: 0.8191268191268192 mean train accuracy: 0.8229705864441873\n",
      "The groups difference are: [15.74053015 15.75635547 15.71036702 15.74993358 15.87660845]\n",
      "Begin group  0 training\n"
     ]
    },
    {
     "name": "stderr",
     "output_type": "stream",
     "text": [
      "Epoch:  55%|█████████████████████████████████████████▎                                 | 11/20 [00:00<00:00, 100.34it/s]"
     ]
    },
    {
     "name": "stdout",
     "output_type": "stream",
     "text": [
      "Begin group  1 training\n"
     ]
    },
    {
     "name": "stderr",
     "output_type": "stream",
     "text": [
      "Epoch:  25%|███████████████████▎                                                         | 5/20 [00:00<00:00, 44.88it/s]"
     ]
    },
    {
     "name": "stdout",
     "output_type": "stream",
     "text": [
      "Begin group  2 training\n"
     ]
    },
    {
     "name": "stderr",
     "output_type": "stream",
     "text": [
      "                                                                                                                        "
     ]
    },
    {
     "name": "stdout",
     "output_type": "stream",
     "text": [
      "Begin group  3 training\n"
     ]
    },
    {
     "name": "stderr",
     "output_type": "stream",
     "text": [
      "Epoch:   0%|                                                                                     | 0/20 [00:00<?, ?it/s]"
     ]
    },
    {
     "name": "stdout",
     "output_type": "stream",
     "text": [
      "Begin group  4 training\n"
     ]
    },
    {
     "name": "stderr",
     "output_type": "stream",
     "text": [
      "                                                                                                                        \r"
     ]
    },
    {
     "name": "stdout",
     "output_type": "stream",
     "text": [
      "Group 0, clients ['f_00043', 'f_00083', 'f_00023', 'f_00133']\n",
      "Group 1, clients ['f_00177', 'f_00169', 'f_00187', 'f_00088', 'f_00049', 'f_00176', 'f_00059', 'f_00197']\n",
      "Group 2, clients ['f_00182', 'f_00141', 'f_00191']\n",
      "Group 3, clients ['f_00036', 'f_00186', 'f_00175', 'f_00086']\n",
      "Group 4, clients ['f_00039']\n"
     ]
    },
    {
     "name": "stderr",
     "output_type": "stream",
     "text": [
      "Epoch:   0%|                                                                                     | 0/20 [00:00<?, ?it/s]"
     ]
    },
    {
     "name": "stdout",
     "output_type": "stream",
     "text": [
      "Group 0\n",
      "At round 72 accuracy: 0.874384236453202\n",
      "At round 72 training accuracy: 0.9030760301799188\n",
      "At round 72 training loss: 0.3489670969904749\n",
      "Group 1\n",
      "At round 72 accuracy: 0.7801204819277109\n",
      "At round 72 training accuracy: 0.7651461154668567\n",
      "At round 72 training loss: 0.6705010633328856\n",
      "Group 2\n",
      "At round 72 accuracy: 0.8484848484848485\n",
      "At round 72 training accuracy: 0.8613838242169238\n",
      "At round 72 training loss: 0.3496391599620821\n",
      "Group 3\n",
      "At round 72 accuracy: 0.9244712990936556\n",
      "At round 72 training accuracy: 0.9288014311270125\n",
      "At round 72 training loss: 0.2889281251376132\n",
      "Group 4\n",
      "At round 72 accuracy: 0.9083333333333333\n",
      "At round 72 training accuracy: 0.8827519379844961\n",
      "At round 72 training loss: 0.32544616416327715\n",
      "At round 72 mean test accuracy: 0.8664241164241164 mean train accuracy: 0.8691918884355399\n",
      "The groups difference are: [15.81932031 15.83247775 15.78173092 15.82594072 15.94777697]\n",
      "Begin group  0 training\n"
     ]
    },
    {
     "name": "stderr",
     "output_type": "stream",
     "text": [
      "Epoch:  35%|██████████████████████████▉                                                  | 7/20 [00:00<00:00, 61.17it/s]"
     ]
    },
    {
     "name": "stdout",
     "output_type": "stream",
     "text": [
      "Begin group  1 training\n"
     ]
    },
    {
     "name": "stderr",
     "output_type": "stream",
     "text": [
      "Epoch:   0%|                                                                                     | 0/20 [00:00<?, ?it/s]"
     ]
    },
    {
     "name": "stdout",
     "output_type": "stream",
     "text": [
      "Begin group  2 training\n"
     ]
    },
    {
     "name": "stderr",
     "output_type": "stream",
     "text": [
      "Epoch:   0%|                                                                                     | 0/20 [00:00<?, ?it/s]"
     ]
    },
    {
     "name": "stdout",
     "output_type": "stream",
     "text": [
      "Begin group  3 training\n"
     ]
    },
    {
     "name": "stderr",
     "output_type": "stream",
     "text": [
      "                                                                                                                        "
     ]
    },
    {
     "name": "stdout",
     "output_type": "stream",
     "text": [
      "Begin group  4 training\n",
      "Group 0, clients ['f_00153', 'f_00033', 'f_00014', 'f_00183']\n",
      "Group 1, clients ['f_00089', 'f_00007', 'f_00169']\n",
      "Group 2, clients ['f_00091', 'f_00161', 'f_00021', 'f_00001', 'f_00052', 'f_00032', 'f_00092', 'f_00111']\n",
      "Group 3, clients ['f_00185', 'f_00165', 'f_00105', 'f_00045', 'f_00196']\n",
      "Group 4 is empty.\n"
     ]
    },
    {
     "name": "stderr",
     "output_type": "stream",
     "text": [
      "Epoch:   0%|                                                                                     | 0/20 [00:00<?, ?it/s]"
     ]
    },
    {
     "name": "stdout",
     "output_type": "stream",
     "text": [
      "Group 0\n",
      "At round 73 accuracy: 0.8374384236453202\n",
      "At round 73 training accuracy: 0.8299477655252466\n",
      "At round 73 training loss: 0.5609006677325588\n",
      "Group 1\n",
      "At round 73 accuracy: 0.7981927710843374\n",
      "At round 73 training accuracy: 0.8260869565217391\n",
      "At round 73 training loss: 0.4867756158453349\n",
      "Group 2\n",
      "At round 73 accuracy: 0.7777777777777778\n",
      "At round 73 training accuracy: 0.770687237026648\n",
      "At round 73 training loss: 0.6403469443234148\n",
      "Group 3\n",
      "At round 73 accuracy: 0.8972809667673716\n",
      "At round 73 training accuracy: 0.8915921288014311\n",
      "At round 73 training loss: 0.3692245191959448\n",
      "Group 4\n",
      "At round 73 accuracy: 0.7388888888888889\n",
      "At round 73 training accuracy: 0.7567829457364341\n",
      "At round 73 training loss: 0.6412459937879667\n",
      "At round 73 mean test accuracy: 0.8071725571725572 mean train accuracy: 0.8105474697034285\n",
      "The groups difference are: [15.86486052 15.87129124 15.82158038 15.86333118 15.985796  ]\n",
      "Begin group  0 training\n"
     ]
    },
    {
     "name": "stderr",
     "output_type": "stream",
     "text": [
      "Epoch:   0%|                                                                                     | 0/20 [00:00<?, ?it/s]"
     ]
    },
    {
     "name": "stdout",
     "output_type": "stream",
     "text": [
      "Begin group  1 training\n"
     ]
    },
    {
     "name": "stderr",
     "output_type": "stream",
     "text": [
      "Epoch:  35%|██████████████████████████▉                                                  | 7/20 [00:00<00:00, 69.69it/s]"
     ]
    },
    {
     "name": "stdout",
     "output_type": "stream",
     "text": [
      "Begin group  2 training\n"
     ]
    },
    {
     "name": "stderr",
     "output_type": "stream",
     "text": [
      "Epoch:   0%|                                                                                     | 0/20 [00:00<?, ?it/s]"
     ]
    },
    {
     "name": "stdout",
     "output_type": "stream",
     "text": [
      "Begin group  3 training\n"
     ]
    },
    {
     "name": "stderr",
     "output_type": "stream",
     "text": [
      "                                                                                                                        \r"
     ]
    },
    {
     "name": "stdout",
     "output_type": "stream",
     "text": [
      "Group 0, clients ['f_00194', 'f_00072', 'f_00093', 'f_00084']\n",
      "Group 1, clients ['f_00176', 'f_00117', 'f_00097', 'f_00067']\n",
      "Group 2, clients ['f_00122', 'f_00101', 'f_00022']\n",
      "Group 3, clients ['f_00136', 'f_00046', 'f_00185', 'f_00145']\n",
      "Group 4, clients ['f_00100', 'f_00069', 'f_00109', 'f_00130', 'f_00140']\n"
     ]
    },
    {
     "name": "stderr",
     "output_type": "stream",
     "text": [
      "Epoch:  30%|███████████████████████                                                      | 6/20 [00:00<00:00, 58.38it/s]"
     ]
    },
    {
     "name": "stdout",
     "output_type": "stream",
     "text": [
      "Group 0\n",
      "At round 74 accuracy: 0.8842364532019704\n",
      "At round 74 training accuracy: 0.916715031921068\n",
      "At round 74 training loss: 0.3386071224459644\n",
      "Group 1\n",
      "At round 74 accuracy: 0.7439759036144579\n",
      "At round 74 training accuracy: 0.7198859586600143\n",
      "At round 74 training loss: 0.6598617619624413\n",
      "Group 2\n",
      "At round 74 accuracy: 0.8767676767676768\n",
      "At round 74 training accuracy: 0.8889668069191211\n",
      "At round 74 training loss: 0.30192189055480595\n",
      "Group 3\n",
      "At round 74 accuracy: 0.879154078549849\n",
      "At round 74 training accuracy: 0.8511627906976744\n",
      "At round 74 training loss: 0.3920104968473182\n",
      "Group 4\n",
      "At round 74 accuracy: 0.7388888888888889\n",
      "At round 74 training accuracy: 0.7567829457364341\n",
      "At round 74 training loss: 0.6404178742781397\n",
      "At round 74 mean test accuracy: 0.83004158004158 mean train accuracy: 0.834541136349796\n",
      "The groups difference are: [15.89182603 15.89638839 15.85595239 15.89658904 16.00153562]\n",
      "Begin group  0 training\n"
     ]
    },
    {
     "name": "stderr",
     "output_type": "stream",
     "text": [
      "Epoch:   0%|                                                                                     | 0/20 [00:00<?, ?it/s]"
     ]
    },
    {
     "name": "stdout",
     "output_type": "stream",
     "text": [
      "Begin group  1 training\n"
     ]
    },
    {
     "name": "stderr",
     "output_type": "stream",
     "text": [
      "Epoch:  20%|███████████████▍                                                             | 4/20 [00:00<00:00, 35.80it/s]"
     ]
    },
    {
     "name": "stdout",
     "output_type": "stream",
     "text": [
      "Begin group  2 training\n"
     ]
    },
    {
     "name": "stderr",
     "output_type": "stream",
     "text": [
      "Epoch:  35%|██████████████████████████▉                                                  | 7/20 [00:00<00:00, 62.90it/s]"
     ]
    },
    {
     "name": "stdout",
     "output_type": "stream",
     "text": [
      "Begin group  3 training\n"
     ]
    },
    {
     "name": "stderr",
     "output_type": "stream",
     "text": [
      "Epoch:  30%|███████████████████████                                                      | 6/20 [00:00<00:00, 58.62it/s]"
     ]
    },
    {
     "name": "stdout",
     "output_type": "stream",
     "text": [
      "Begin group  4 training\n"
     ]
    },
    {
     "name": "stderr",
     "output_type": "stream",
     "text": [
      "                                                                                                                        \r"
     ]
    },
    {
     "name": "stdout",
     "output_type": "stream",
     "text": [
      "Group 0 is empty.\n",
      "Group 1, clients ['f_00049', 'f_00068', 'f_00167', 'f_00147', 'f_00028', 'f_00107', 'f_00177']\n",
      "Group 2, clients ['f_00142', 'f_00022', 'f_00002', 'f_00061', 'f_00091', 'f_00062']\n",
      "Group 3, clients ['f_00086', 'f_00085', 'f_00006', 'f_00035']\n",
      "Group 4, clients ['f_00119', 'f_00139', 'f_00160']\n"
     ]
    },
    {
     "name": "stderr",
     "output_type": "stream",
     "text": [
      "Epoch:   0%|                                                                                     | 0/20 [00:00<?, ?it/s]"
     ]
    },
    {
     "name": "stdout",
     "output_type": "stream",
     "text": [
      "Group 0\n",
      "At round 75 accuracy: 0.8793103448275862\n",
      "At round 75 training accuracy: 0.908009286128845\n",
      "At round 75 training loss: 0.31940893811139687\n",
      "Group 1\n",
      "At round 75 accuracy: 0.7379518072289156\n",
      "At round 75 training accuracy: 0.7647897362794013\n",
      "At round 75 training loss: 0.8312377558512638\n",
      "Group 2\n",
      "At round 75 accuracy: 0.8606060606060606\n",
      "At round 75 training accuracy: 0.8775128564749883\n",
      "At round 75 training loss: 0.3459982555943039\n",
      "Group 3\n",
      "At round 75 accuracy: 0.9335347432024169\n",
      "At round 75 training accuracy: 0.9348837209302325\n",
      "At round 75 training loss: 0.28008355374892835\n",
      "Group 4\n",
      "At round 75 accuracy: 0.9277777777777778\n",
      "At round 75 training accuracy: 0.8882428940568475\n",
      "At round 75 training loss: 0.30604382030165317\n",
      "At round 75 mean test accuracy: 0.8685031185031185 mean train accuracy: 0.8764387065343158\n",
      "The groups difference are: [15.96735769 15.9839065  15.92794414 15.96817877 16.08266757]\n",
      "Begin group  1 training\n"
     ]
    },
    {
     "name": "stderr",
     "output_type": "stream",
     "text": [
      "Epoch:   0%|                                                                                     | 0/20 [00:00<?, ?it/s]"
     ]
    },
    {
     "name": "stdout",
     "output_type": "stream",
     "text": [
      "Begin group  2 training\n"
     ]
    },
    {
     "name": "stderr",
     "output_type": "stream",
     "text": [
      "Epoch:   0%|                                                                                     | 0/20 [00:00<?, ?it/s]"
     ]
    },
    {
     "name": "stdout",
     "output_type": "stream",
     "text": [
      "Begin group  3 training\n"
     ]
    },
    {
     "name": "stderr",
     "output_type": "stream",
     "text": [
      "Epoch:  55%|█████████████████████████████████████████▎                                 | 11/20 [00:00<00:00, 101.93it/s]"
     ]
    },
    {
     "name": "stdout",
     "output_type": "stream",
     "text": [
      "Begin group  4 training\n"
     ]
    },
    {
     "name": "stderr",
     "output_type": "stream",
     "text": [
      "                                                                                                                        \r"
     ]
    },
    {
     "name": "stdout",
     "output_type": "stream",
     "text": [
      "Group 0, clients ['f_00074', 'f_00164', 'f_00094']\n",
      "Group 1, clients ['f_00157', 'f_00007', 'f_00178', 'f_00107', 'f_00059']\n",
      "Group 2, clients ['f_00092', 'f_00122', 'f_00032', 'f_00022', 'f_00051', 'f_00021']\n",
      "Group 3, clients ['f_00115', 'f_00096', 'f_00095']\n",
      "Group 4, clients ['f_00050', 'f_00009', 'f_00179']\n"
     ]
    },
    {
     "name": "stderr",
     "output_type": "stream",
     "text": [
      "Epoch:  65%|████████████████████████████████████████████████▊                          | 13/20 [00:00<00:00, 120.35it/s]"
     ]
    },
    {
     "name": "stdout",
     "output_type": "stream",
     "text": [
      "Group 0\n",
      "At round 76 accuracy: 0.8793103448275862\n",
      "At round 76 training accuracy: 0.9065583284968078\n",
      "At round 76 training loss: 0.31901313989351326\n",
      "Group 1\n",
      "At round 76 accuracy: 0.7680722891566265\n",
      "At round 76 training accuracy: 0.7954383464005702\n",
      "At round 76 training loss: 0.5725279826928442\n",
      "Group 2\n",
      "At round 76 accuracy: 0.8666666666666667\n",
      "At round 76 training accuracy: 0.8665264142122487\n",
      "At round 76 training loss: 0.39116974126037285\n",
      "Group 3\n",
      "At round 76 accuracy: 0.9244712990936556\n",
      "At round 76 training accuracy: 0.9148479427549195\n",
      "At round 76 training loss: 0.2983599980316776\n",
      "Group 4\n",
      "At round 76 accuracy: 0.8694444444444445\n",
      "At round 76 training accuracy: 0.8585271317829457\n",
      "At round 76 training loss: 0.3605915722497366\n",
      "At round 76 mean test accuracy: 0.8627858627858628 mean train accuracy: 0.8694963765909506\n",
      "The groups difference are: [16.01456105 16.04702548 15.98619279 16.02587812 16.14952368]\n",
      "Begin group  0 training\n"
     ]
    },
    {
     "name": "stderr",
     "output_type": "stream",
     "text": [
      "Epoch:   0%|                                                                                     | 0/20 [00:00<?, ?it/s]"
     ]
    },
    {
     "name": "stdout",
     "output_type": "stream",
     "text": [
      "Begin group  1 training\n"
     ]
    },
    {
     "name": "stderr",
     "output_type": "stream",
     "text": [
      "Epoch:   0%|                                                                                     | 0/20 [00:00<?, ?it/s]"
     ]
    },
    {
     "name": "stdout",
     "output_type": "stream",
     "text": [
      "Begin group  2 training\n"
     ]
    },
    {
     "name": "stderr",
     "output_type": "stream",
     "text": [
      "Epoch:   0%|                                                                                     | 0/20 [00:00<?, ?it/s]"
     ]
    },
    {
     "name": "stdout",
     "output_type": "stream",
     "text": [
      "Begin group  3 training\n"
     ]
    },
    {
     "name": "stderr",
     "output_type": "stream",
     "text": [
      "Epoch:   0%|                                                                                     | 0/20 [00:00<?, ?it/s]"
     ]
    },
    {
     "name": "stdout",
     "output_type": "stream",
     "text": [
      "Begin group  4 training\n"
     ]
    },
    {
     "name": "stderr",
     "output_type": "stream",
     "text": [
      "                                                                                                                        \r"
     ]
    },
    {
     "name": "stdout",
     "output_type": "stream",
     "text": [
      "Group 0, clients ['f_00074', 'f_00123', 'f_00174', 'f_00013', 'f_00193', 'f_00154']\n",
      "Group 1, clients ['f_00127', 'f_00048', 'f_00049', 'f_00107', 'f_00017', 'f_00058', 'f_00008']\n",
      "Group 2, clients ['f_00182', 'f_00191']\n",
      "Group 3, clients ['f_00016']\n",
      "Group 4, clients ['f_00020', 'f_00090', 'f_00170', 'f_00149']\n"
     ]
    },
    {
     "name": "stderr",
     "output_type": "stream",
     "text": [
      "                                                                                                                        "
     ]
    },
    {
     "name": "stdout",
     "output_type": "stream",
     "text": [
      "Group 0\n",
      "At round 77 accuracy: 0.8349753694581281\n",
      "At round 77 training accuracy: 0.8392338943702844\n",
      "At round 77 training loss: 0.5289698203391051\n",
      "Group 1\n",
      "At round 77 accuracy: 0.7801204819277109\n",
      "At round 77 training accuracy: 0.8186029935851746\n",
      "At round 77 training loss: 0.5318907218389823\n",
      "Group 2\n",
      "At round 77 accuracy: 0.8505050505050505\n",
      "At round 77 training accuracy: 0.8674614305750351\n",
      "At round 77 training loss: 0.3968891063326288\n",
      "Group 3\n",
      "At round 77 accuracy: 0.9063444108761329\n",
      "At round 77 training accuracy: 0.906618962432916\n",
      "At round 77 training loss: 0.3355357972181974\n",
      "Group 4\n",
      "At round 77 accuracy: 0.8944444444444445\n",
      "At round 77 training accuracy: 0.8850129198966409\n",
      "At round 77 training loss: 0.3433811756991601\n",
      "At round 77 mean test accuracy: 0.8529106029106029 mean train accuracy: 0.863163022958407\n",
      "The groups difference are: [16.081999   16.10354438 16.04757287 16.07767541 16.20391109]\n",
      "Begin group  0 training\n"
     ]
    },
    {
     "name": "stderr",
     "output_type": "stream",
     "text": [
      "                                                                                                                        "
     ]
    },
    {
     "name": "stdout",
     "output_type": "stream",
     "text": [
      "Begin group  1 training\n"
     ]
    },
    {
     "name": "stderr",
     "output_type": "stream",
     "text": [
      "                                                                                                                        "
     ]
    },
    {
     "name": "stdout",
     "output_type": "stream",
     "text": [
      "Begin group  2 training\n"
     ]
    },
    {
     "name": "stderr",
     "output_type": "stream",
     "text": [
      "Epoch:   0%|                                                                                     | 0/20 [00:00<?, ?it/s]"
     ]
    },
    {
     "name": "stdout",
     "output_type": "stream",
     "text": [
      "Begin group  3 training\n",
      "Begin group  4 training\n"
     ]
    },
    {
     "name": "stderr",
     "output_type": "stream",
     "text": [
      "                                                                                                                        \r"
     ]
    },
    {
     "name": "stdout",
     "output_type": "stream",
     "text": [
      "Group 0, clients ['f_00173', 'f_00193', 'f_00024', 'f_00004']\n",
      "Group 1, clients ['f_00118', 'f_00089', 'f_00049', 'f_00128', 'f_00138']\n",
      "Group 2, clients ['f_00002', 'f_00132', 'f_00042']\n",
      "Group 3, clients ['f_00006', 'f_00196']\n",
      "Group 4, clients ['f_00099', 'f_00079', 'f_00050', 'f_00080', 'f_00190', 'f_00039']\n"
     ]
    },
    {
     "name": "stderr",
     "output_type": "stream",
     "text": [
      "Epoch:   0%|                                                                                     | 0/20 [00:00<?, ?it/s]"
     ]
    },
    {
     "name": "stdout",
     "output_type": "stream",
     "text": [
      "Group 0\n",
      "At round 78 accuracy: 0.8793103448275862\n",
      "At round 78 training accuracy: 0.8853743470690656\n",
      "At round 78 training loss: 0.39930970284458656\n",
      "Group 1\n",
      "At round 78 accuracy: 0.8283132530120482\n",
      "At round 78 training accuracy: 0.8431931575196009\n",
      "At round 78 training loss: 0.4543307153342115\n",
      "Group 2\n",
      "At round 78 accuracy: 0.8121212121212121\n",
      "At round 78 training accuracy: 0.8045815801776531\n",
      "At round 78 training loss: 0.5513598240673361\n",
      "Group 3\n",
      "At round 78 accuracy: 0.8549848942598187\n",
      "At round 78 training accuracy: 0.8393559928443649\n",
      "At round 78 training loss: 0.45611359594766326\n",
      "Group 4\n",
      "At round 78 accuracy: 0.9194444444444444\n",
      "At round 78 training accuracy: 0.8892118863049095\n",
      "At round 78 training loss: 0.30269353161265145\n",
      "At round 78 mean test accuracy: 0.8565488565488566 mean train accuracy: 0.8500091346446623\n",
      "The groups difference are: [16.13424868 16.1484414  16.0891532  16.1177731  16.24775382]\n",
      "Begin group  0 training\n"
     ]
    },
    {
     "name": "stderr",
     "output_type": "stream",
     "text": [
      "Epoch:  20%|███████████████▍                                                             | 4/20 [00:00<00:00, 36.89it/s]"
     ]
    },
    {
     "name": "stdout",
     "output_type": "stream",
     "text": [
      "Begin group  1 training\n"
     ]
    },
    {
     "name": "stderr",
     "output_type": "stream",
     "text": [
      "Epoch:  35%|██████████████████████████▉                                                  | 7/20 [00:00<00:00, 67.08it/s]"
     ]
    },
    {
     "name": "stdout",
     "output_type": "stream",
     "text": [
      "Begin group  2 training\n"
     ]
    },
    {
     "name": "stderr",
     "output_type": "stream",
     "text": [
      "Epoch:   0%|                                                                                     | 0/20 [00:00<?, ?it/s]"
     ]
    },
    {
     "name": "stdout",
     "output_type": "stream",
     "text": [
      "Begin group  3 training\n"
     ]
    },
    {
     "name": "stderr",
     "output_type": "stream",
     "text": [
      "Epoch:   0%|                                                                                     | 0/20 [00:00<?, ?it/s]"
     ]
    },
    {
     "name": "stdout",
     "output_type": "stream",
     "text": [
      "Begin group  4 training\n"
     ]
    },
    {
     "name": "stderr",
     "output_type": "stream",
     "text": [
      "                                                                                                                        \r"
     ]
    },
    {
     "name": "stdout",
     "output_type": "stream",
     "text": [
      "Group 0, clients ['f_00054', 'f_00154']\n",
      "Group 1, clients ['f_00128', 'f_00098', 'f_00007', 'f_00137', 'f_00097', 'f_00127']\n",
      "Group 2, clients ['f_00091', 'f_00131', 'f_00042']\n",
      "Group 3, clients ['f_00196', 'f_00185', 'f_00045']\n",
      "Group 4, clients ['f_00139', 'f_00000', 'f_00029', 'f_00180', 'f_00120', 'f_00069']\n"
     ]
    },
    {
     "name": "stderr",
     "output_type": "stream",
     "text": [
      "Epoch:  35%|██████████████████████████▉                                                  | 7/20 [00:00<00:00, 66.03it/s]"
     ]
    },
    {
     "name": "stdout",
     "output_type": "stream",
     "text": [
      "Group 0\n",
      "At round 79 accuracy: 0.9113300492610837\n",
      "At round 79 training accuracy: 0.922809053975624\n",
      "At round 79 training loss: 0.31244205156783345\n",
      "Group 1\n",
      "At round 79 accuracy: 0.5572289156626506\n",
      "At round 79 training accuracy: 0.5096222380612973\n",
      "At round 79 training loss: 1.5226952394501108\n",
      "Group 2\n",
      "At round 79 accuracy: 0.8888888888888888\n",
      "At round 79 training accuracy: 0.895278167367929\n",
      "At round 79 training loss: 0.2855488821958175\n",
      "Group 3\n",
      "At round 79 accuracy: 0.8187311178247734\n",
      "At round 79 training accuracy: 0.8042933810375671\n",
      "At round 79 training loss: 0.6627899703048237\n",
      "Group 4\n",
      "At round 79 accuracy: 0.925\n",
      "At round 79 training accuracy: 0.8924418604651163\n",
      "At round 79 training loss: 0.3007630296484676\n",
      "At round 79 mean test accuracy: 0.831081081081081 mean train accuracy: 0.8191340356860118\n",
      "The groups difference are: [16.1847192  16.20499323 16.14666118 16.17579207 16.30232502]\n",
      "Begin group  0 training\n"
     ]
    },
    {
     "name": "stderr",
     "output_type": "stream",
     "text": [
      "Epoch:  25%|███████████████████▎                                                         | 5/20 [00:00<00:00, 47.13it/s]"
     ]
    },
    {
     "name": "stdout",
     "output_type": "stream",
     "text": [
      "Begin group  1 training\n"
     ]
    },
    {
     "name": "stderr",
     "output_type": "stream",
     "text": [
      "Epoch:  40%|██████████████████████████████▊                                              | 8/20 [00:00<00:00, 75.92it/s]"
     ]
    },
    {
     "name": "stdout",
     "output_type": "stream",
     "text": [
      "Begin group  2 training\n"
     ]
    },
    {
     "name": "stderr",
     "output_type": "stream",
     "text": [
      "Epoch:   0%|                                                                                     | 0/20 [00:00<?, ?it/s]"
     ]
    },
    {
     "name": "stdout",
     "output_type": "stream",
     "text": [
      "Begin group  3 training\n"
     ]
    },
    {
     "name": "stderr",
     "output_type": "stream",
     "text": [
      "Epoch:   0%|                                                                                     | 0/20 [00:00<?, ?it/s]"
     ]
    },
    {
     "name": "stdout",
     "output_type": "stream",
     "text": [
      "Begin group  4 training\n"
     ]
    },
    {
     "name": "stderr",
     "output_type": "stream",
     "text": [
      "                                                                                                                        \r"
     ]
    },
    {
     "name": "stdout",
     "output_type": "stream",
     "text": [
      "Group 0, clients ['f_00104', 'f_00023']\n",
      "Group 1, clients ['f_00097', 'f_00028', 'f_00049']\n",
      "Group 2, clients ['f_00161', 'f_00142', 'f_00061', 'f_00021', 'f_00022', 'f_00092']\n",
      "Group 3, clients ['f_00005', 'f_00025']\n",
      "Group 4, clients ['f_00109', 'f_00168', 'f_00060', 'f_00130', 'f_00029', 'f_00030', 'f_00149']\n"
     ]
    },
    {
     "name": "stderr",
     "output_type": "stream",
     "text": [
      "Epoch:   0%|                                                                                     | 0/20 [00:00<?, ?it/s]"
     ]
    },
    {
     "name": "stdout",
     "output_type": "stream",
     "text": [
      "Group 0\n",
      "At round 80 accuracy: 0.8325123152709359\n",
      "At round 80 training accuracy: 0.8374927452118398\n",
      "At round 80 training loss: 0.5422303938964685\n",
      "Group 1\n",
      "At round 80 accuracy: 0.8192771084337349\n",
      "At round 80 training accuracy: 0.7943692088382038\n",
      "At round 80 training loss: 0.5916282430195587\n",
      "Group 2\n",
      "At round 80 accuracy: 0.8121212121212121\n",
      "At round 80 training accuracy: 0.8165030388031791\n",
      "At round 80 training loss: 0.5006110598065409\n",
      "Group 3\n",
      "At round 80 accuracy: 0.9335347432024169\n",
      "At round 80 training accuracy: 0.9280858676207513\n",
      "At round 80 training loss: 0.30126181176342137\n",
      "Group 4\n",
      "At round 80 accuracy: 0.925\n",
      "At round 80 training accuracy: 0.9014857881136951\n",
      "At round 80 training loss: 0.2787985361303932\n",
      "At round 80 mean test accuracy: 0.8596673596673596 mean train accuracy: 0.8521405517325376\n",
      "The groups difference are: [16.2532641  16.27715593 16.21654803 16.23940619 16.36907155]\n",
      "Begin group  0 training\n"
     ]
    },
    {
     "name": "stderr",
     "output_type": "stream",
     "text": [
      "Epoch:   0%|                                                                                     | 0/20 [00:00<?, ?it/s]"
     ]
    },
    {
     "name": "stdout",
     "output_type": "stream",
     "text": [
      "Begin group  1 training\n"
     ]
    },
    {
     "name": "stderr",
     "output_type": "stream",
     "text": [
      "Epoch:   0%|                                                                                     | 0/20 [00:00<?, ?it/s]"
     ]
    },
    {
     "name": "stdout",
     "output_type": "stream",
     "text": [
      "Begin group  2 training\n"
     ]
    },
    {
     "name": "stderr",
     "output_type": "stream",
     "text": [
      "Epoch:  25%|███████████████████▎                                                         | 5/20 [00:00<00:00, 46.76it/s]"
     ]
    },
    {
     "name": "stdout",
     "output_type": "stream",
     "text": [
      "Begin group  3 training\n"
     ]
    },
    {
     "name": "stderr",
     "output_type": "stream",
     "text": [
      "Epoch:   0%|                                                                                     | 0/20 [00:00<?, ?it/s]"
     ]
    },
    {
     "name": "stdout",
     "output_type": "stream",
     "text": [
      "Begin group  4 training\n"
     ]
    },
    {
     "name": "stderr",
     "output_type": "stream",
     "text": [
      "                                                                                                                        \r"
     ]
    },
    {
     "name": "stdout",
     "output_type": "stream",
     "text": [
      "Group 0, clients ['f_00103', 'f_00073', 'f_00044', 'f_00134', 'f_00143']\n",
      "Group 1, clients ['f_00088', 'f_00068', 'f_00147', 'f_00047', 'f_00187']\n",
      "Group 2, clients ['f_00171', 'f_00182', 'f_00141', 'f_00032']\n",
      "Group 3, clients ['f_00037', 'f_00086']\n",
      "Group 4, clients ['f_00160', 'f_00189', 'f_00190', 'f_00149']\n"
     ]
    },
    {
     "name": "stderr",
     "output_type": "stream",
     "text": [
      "Epoch:   0%|                                                                                     | 0/20 [00:00<?, ?it/s]"
     ]
    },
    {
     "name": "stdout",
     "output_type": "stream",
     "text": [
      "Group 0\n",
      "At round 81 accuracy: 0.874384236453202\n",
      "At round 81 training accuracy: 0.9004643064422518\n",
      "At round 81 training loss: 0.344159816402036\n",
      "Group 1\n",
      "At round 81 accuracy: 0.822289156626506\n",
      "At round 81 training accuracy: 0.8057733428367784\n",
      "At round 81 training loss: 0.5470201782961871\n",
      "Group 2\n",
      "At round 81 accuracy: 0.9050505050505051\n",
      "At round 81 training accuracy: 0.9125759700794764\n",
      "At round 81 training loss: 0.23417037954469494\n",
      "Group 3\n",
      "At round 81 accuracy: 0.8187311178247734\n",
      "At round 81 training accuracy: 0.8103756708407871\n",
      "At round 81 training loss: 0.6177099986298407\n",
      "Group 4\n",
      "At round 81 accuracy: 0.9305555555555556\n",
      "At round 81 training accuracy: 0.9179586563307494\n",
      "At round 81 training loss: 0.2225800562296207\n",
      "At round 81 mean test accuracy: 0.8742203742203742 mean train accuracy: 0.8754034468059192\n",
      "The groups difference are: [16.29092983 16.31306688 16.25204637 16.28851312 16.40238003]\n",
      "Begin group  0 training\n"
     ]
    },
    {
     "name": "stderr",
     "output_type": "stream",
     "text": [
      "Epoch:  45%|██████████████████████████████████▋                                          | 9/20 [00:00<00:00, 89.01it/s]"
     ]
    },
    {
     "name": "stdout",
     "output_type": "stream",
     "text": [
      "Begin group  1 training\n"
     ]
    },
    {
     "name": "stderr",
     "output_type": "stream",
     "text": [
      "Epoch:   0%|                                                                                     | 0/20 [00:00<?, ?it/s]"
     ]
    },
    {
     "name": "stdout",
     "output_type": "stream",
     "text": [
      "Begin group  2 training\n"
     ]
    },
    {
     "name": "stderr",
     "output_type": "stream",
     "text": [
      "Epoch:  40%|██████████████████████████████▊                                              | 8/20 [00:00<00:00, 78.38it/s]"
     ]
    },
    {
     "name": "stdout",
     "output_type": "stream",
     "text": [
      "Begin group  3 training\n"
     ]
    },
    {
     "name": "stderr",
     "output_type": "stream",
     "text": [
      "Epoch:  20%|███████████████▍                                                             | 4/20 [00:00<00:00, 32.05it/s]"
     ]
    },
    {
     "name": "stdout",
     "output_type": "stream",
     "text": [
      "Begin group  4 training\n"
     ]
    },
    {
     "name": "stderr",
     "output_type": "stream",
     "text": [
      "                                                                                                                        \r"
     ]
    },
    {
     "name": "stdout",
     "output_type": "stream",
     "text": [
      "Group 0, clients ['f_00114', 'f_00084', 'f_00033']\n",
      "Group 1, clients ['f_00018', 'f_00107']\n",
      "Group 2, clients ['f_00151', 'f_00032', 'f_00191', 'f_00161']\n",
      "Group 3, clients ['f_00086', 'f_00116', 'f_00066', 'f_00055', 'f_00026', 'f_00015']\n",
      "Group 4, clients ['f_00130', 'f_00179', 'f_00090', 'f_00040', 'f_00140']\n"
     ]
    },
    {
     "name": "stderr",
     "output_type": "stream",
     "text": [
      "Epoch:  80%|████████████████████████████████████████████████████████████               | 16/20 [00:00<00:00, 154.06it/s]"
     ]
    },
    {
     "name": "stdout",
     "output_type": "stream",
     "text": [
      "Group 0\n",
      "At round 82 accuracy: 0.8768472906403941\n",
      "At round 82 training accuracy: 0.8975623911781776\n",
      "At round 82 training loss: 0.3795894761713037\n",
      "Group 1\n",
      "At round 82 accuracy: 0.8313253012048193\n",
      "At round 82 training accuracy: 0.7794012829650748\n",
      "At round 82 training loss: 0.5494184885559045\n",
      "Group 2\n",
      "At round 82 accuracy: 0.8404040404040404\n",
      "At round 82 training accuracy: 0.8450210378681627\n",
      "At round 82 training loss: 0.42359999262750875\n",
      "Group 3\n",
      "At round 82 accuracy: 0.7492447129909365\n",
      "At round 82 training accuracy: 0.7599284436493738\n",
      "At round 82 training loss: 0.589005275089327\n",
      "Group 4\n",
      "At round 82 accuracy: 0.9166666666666666\n",
      "At round 82 training accuracy: 0.8937338501291989\n",
      "At round 82 training loss: 0.2939705255053918\n",
      "At round 82 mean test accuracy: 0.8451143451143451 mean train accuracy: 0.8395347420985324\n",
      "The groups difference are: [16.35524076 16.3583737  16.30322691 16.33174648 16.45889567]\n",
      "Begin group  0 training\n"
     ]
    },
    {
     "name": "stderr",
     "output_type": "stream",
     "text": [
      "Epoch:   0%|                                                                                     | 0/20 [00:00<?, ?it/s]"
     ]
    },
    {
     "name": "stdout",
     "output_type": "stream",
     "text": [
      "Begin group  1 training\n"
     ]
    },
    {
     "name": "stderr",
     "output_type": "stream",
     "text": [
      "Epoch:  80%|████████████████████████████████████████████████████████████               | 16/20 [00:00<00:00, 156.54it/s]"
     ]
    },
    {
     "name": "stdout",
     "output_type": "stream",
     "text": [
      "Begin group  2 training\n"
     ]
    },
    {
     "name": "stderr",
     "output_type": "stream",
     "text": [
      "Epoch:   0%|                                                                                     | 0/20 [00:00<?, ?it/s]"
     ]
    },
    {
     "name": "stdout",
     "output_type": "stream",
     "text": [
      "Begin group  3 training\n"
     ]
    },
    {
     "name": "stderr",
     "output_type": "stream",
     "text": [
      "Epoch:   0%|                                                                                     | 0/20 [00:00<?, ?it/s]"
     ]
    },
    {
     "name": "stdout",
     "output_type": "stream",
     "text": [
      "Begin group  4 training\n"
     ]
    },
    {
     "name": "stderr",
     "output_type": "stream",
     "text": [
      "                                                                                                                        \r"
     ]
    },
    {
     "name": "stdout",
     "output_type": "stream",
     "text": [
      "Group 0, clients ['f_00113']\n",
      "Group 1, clients ['f_00027', 'f_00158', 'f_00088', 'f_00147', 'f_00138']\n",
      "Group 2, clients ['f_00042', 'f_00161', 'f_00151', 'f_00071']\n",
      "Group 3, clients ['f_00125', 'f_00186', 'f_00046', 'f_00055', 'f_00056', 'f_00145']\n",
      "Group 4, clients ['f_00069', 'f_00109', 'f_00030', 'f_00179']\n"
     ]
    },
    {
     "name": "stderr",
     "output_type": "stream",
     "text": [
      "Epoch:   0%|                                                                                     | 0/20 [00:00<?, ?it/s]"
     ]
    },
    {
     "name": "stdout",
     "output_type": "stream",
     "text": [
      "Group 0\n",
      "At round 83 accuracy: 0.8916256157635468\n",
      "At round 83 training accuracy: 0.8885664538595474\n",
      "At round 83 training loss: 0.3707985704860937\n",
      "Group 1\n",
      "At round 83 accuracy: 0.8373493975903614\n",
      "At round 83 training accuracy: 0.8585174625801854\n",
      "At round 83 training loss: 0.4628487368800006\n",
      "Group 2\n",
      "At round 83 accuracy: 0.8161616161616162\n",
      "At round 83 training accuracy: 0.812529219261337\n",
      "At round 83 training loss: 0.5357654826879299\n",
      "Group 3\n",
      "At round 83 accuracy: 0.9033232628398792\n",
      "At round 83 training accuracy: 0.8948121645796064\n",
      "At round 83 training loss: 0.336542739613858\n",
      "Group 4\n",
      "At round 83 accuracy: 0.8916666666666667\n",
      "At round 83 training accuracy: 0.8817829457364341\n",
      "At round 83 training loss: 0.32776549817074946\n",
      "At round 83 mean test accuracy: 0.8648648648648649 mean train accuracy: 0.8634066134827355\n",
      "The groups difference are: [16.39834974 16.41019194 16.35000702 16.38181473 16.50919314]\n",
      "Begin group  0 training\n",
      "Begin group  1 training\n"
     ]
    },
    {
     "name": "stderr",
     "output_type": "stream",
     "text": [
      "Epoch:   0%|                                                                                     | 0/20 [00:00<?, ?it/s]"
     ]
    },
    {
     "name": "stdout",
     "output_type": "stream",
     "text": [
      "Begin group  2 training\n"
     ]
    },
    {
     "name": "stderr",
     "output_type": "stream",
     "text": [
      "Epoch:   0%|                                                                                     | 0/20 [00:00<?, ?it/s]"
     ]
    },
    {
     "name": "stdout",
     "output_type": "stream",
     "text": [
      "Begin group  3 training\n"
     ]
    },
    {
     "name": "stderr",
     "output_type": "stream",
     "text": [
      "Epoch:   0%|                                                                                     | 0/20 [00:00<?, ?it/s]"
     ]
    },
    {
     "name": "stdout",
     "output_type": "stream",
     "text": [
      "Begin group  4 training\n"
     ]
    },
    {
     "name": "stderr",
     "output_type": "stream",
     "text": [
      "                                                                                                                        \r"
     ]
    },
    {
     "name": "stdout",
     "output_type": "stream",
     "text": [
      "Group 0, clients ['f_00103', 'f_00074', 'f_00104', 'f_00134', 'f_00054']\n",
      "Group 1, clients ['f_00188', 'f_00028', 'f_00157', 'f_00137', 'f_00059']\n",
      "Group 2, clients ['f_00012', 'f_00011', 'f_00001']\n",
      "Group 3, clients ['f_00155', 'f_00096', 'f_00025', 'f_00085', 'f_00066']\n",
      "Group 4, clients ['f_00120', 'f_00119']\n"
     ]
    },
    {
     "name": "stderr",
     "output_type": "stream",
     "text": [
      "Epoch:   0%|                                                                                     | 0/20 [00:00<?, ?it/s]"
     ]
    },
    {
     "name": "stdout",
     "output_type": "stream",
     "text": [
      "Group 0\n",
      "At round 84 accuracy: 0.8645320197044335\n",
      "At round 84 training accuracy: 0.8757980266976204\n",
      "At round 84 training loss: 0.4166199210255547\n",
      "Group 1\n",
      "At round 84 accuracy: 0.8162650602409639\n",
      "At round 84 training accuracy: 0.8050605844618675\n",
      "At round 84 training loss: 0.5344083396690026\n",
      "Group 2\n",
      "At round 84 accuracy: 0.8686868686868687\n",
      "At round 84 training accuracy: 0.8828892005610098\n",
      "At round 84 training loss: 0.32602411195681075\n",
      "Group 3\n",
      "At round 84 accuracy: 0.9365558912386707\n",
      "At round 84 training accuracy: 0.9338103756708408\n",
      "At round 84 training loss: 0.242895424988434\n",
      "Group 4\n",
      "At round 84 accuracy: 0.85\n",
      "At round 84 training accuracy: 0.8397932816537468\n",
      "At round 84 training loss: 0.4366754565979968\n",
      "At round 84 mean test accuracy: 0.8669438669438669 mean train accuracy: 0.8686438097558005\n",
      "The groups difference are: [16.42363478 16.4423858  16.38153736 16.41521781 16.53865934]\n",
      "Begin group  0 training\n"
     ]
    },
    {
     "name": "stderr",
     "output_type": "stream",
     "text": [
      "Epoch:   0%|                                                                                     | 0/20 [00:00<?, ?it/s]"
     ]
    },
    {
     "name": "stdout",
     "output_type": "stream",
     "text": [
      "Begin group  1 training\n"
     ]
    },
    {
     "name": "stderr",
     "output_type": "stream",
     "text": [
      "Epoch:  85%|███████████████████████████████████████████████████████████████▊           | 17/20 [00:00<00:00, 160.47it/s]"
     ]
    },
    {
     "name": "stdout",
     "output_type": "stream",
     "text": [
      "Begin group  2 training\n"
     ]
    },
    {
     "name": "stderr",
     "output_type": "stream",
     "text": [
      "Epoch:  55%|█████████████████████████████████████████▎                                 | 11/20 [00:00<00:00, 107.21it/s]"
     ]
    },
    {
     "name": "stdout",
     "output_type": "stream",
     "text": [
      "Begin group  3 training\n"
     ]
    },
    {
     "name": "stderr",
     "output_type": "stream",
     "text": [
      "Epoch:   0%|                                                                                     | 0/20 [00:00<?, ?it/s]"
     ]
    },
    {
     "name": "stdout",
     "output_type": "stream",
     "text": [
      "Begin group  4 training\n"
     ]
    },
    {
     "name": "stderr",
     "output_type": "stream",
     "text": [
      "                                                                                                                        \r"
     ]
    },
    {
     "name": "stdout",
     "output_type": "stream",
     "text": [
      "Group 0, clients ['f_00094', 'f_00143', 'f_00023']\n",
      "Group 1, clients ['f_00167', 'f_00048', 'f_00157', 'f_00049', 'f_00088', 'f_00028', 'f_00087', 'f_00148']\n",
      "Group 2, clients ['f_00111', 'f_00042']\n",
      "Group 3, clients ['f_00195', 'f_00046', 'f_00066', 'f_00055', 'f_00185']\n",
      "Group 4, clients ['f_00070', 'f_00139']\n"
     ]
    },
    {
     "name": "stderr",
     "output_type": "stream",
     "text": [
      "Epoch:  50%|██████████████████████████████████████                                      | 10/20 [00:00<00:00, 90.41it/s]"
     ]
    },
    {
     "name": "stdout",
     "output_type": "stream",
     "text": [
      "Group 0\n",
      "At round 85 accuracy: 0.8990147783251231\n",
      "At round 85 training accuracy: 0.8993035403366222\n",
      "At round 85 training loss: 0.34699080567061036\n",
      "Group 1\n",
      "At round 85 accuracy: 0.8313253012048193\n",
      "At round 85 training accuracy: 0.845687811831789\n",
      "At round 85 training loss: 0.4598054389866946\n",
      "Group 2\n",
      "At round 85 accuracy: 0.8444444444444444\n",
      "At round 85 training accuracy: 0.8440860215053764\n",
      "At round 85 training loss: 0.4268117149370492\n",
      "Group 3\n",
      "At round 85 accuracy: 0.9244712990936556\n",
      "At round 85 training accuracy: 0.9320214669051878\n",
      "At round 85 training loss: 0.25204898669436065\n",
      "Group 4\n",
      "At round 85 accuracy: 0.9222222222222223\n",
      "At round 85 training accuracy: 0.9040697674418605\n",
      "At round 85 training loss: 0.2707733955566389\n",
      "At round 85 mean test accuracy: 0.882016632016632 mean train accuracy: 0.8822239814871201\n",
      "The groups difference are: [16.46289204 16.48326394 16.42145608 16.45660804 16.58069403]\n",
      "Begin group  0 training\n"
     ]
    },
    {
     "name": "stderr",
     "output_type": "stream",
     "text": [
      "Epoch:   0%|                                                                                     | 0/20 [00:00<?, ?it/s]"
     ]
    },
    {
     "name": "stdout",
     "output_type": "stream",
     "text": [
      "Begin group  1 training\n"
     ]
    },
    {
     "name": "stderr",
     "output_type": "stream",
     "text": [
      "Epoch:   0%|                                                                                     | 0/20 [00:00<?, ?it/s]"
     ]
    },
    {
     "name": "stdout",
     "output_type": "stream",
     "text": [
      "Begin group  2 training\n"
     ]
    },
    {
     "name": "stderr",
     "output_type": "stream",
     "text": [
      "Epoch:   0%|                                                                                     | 0/20 [00:00<?, ?it/s]"
     ]
    },
    {
     "name": "stdout",
     "output_type": "stream",
     "text": [
      "Begin group  3 training\n"
     ]
    },
    {
     "name": "stderr",
     "output_type": "stream",
     "text": [
      "Epoch:  30%|███████████████████████                                                      | 6/20 [00:00<00:00, 51.46it/s]"
     ]
    },
    {
     "name": "stdout",
     "output_type": "stream",
     "text": [
      "Begin group  4 training\n"
     ]
    },
    {
     "name": "stderr",
     "output_type": "stream",
     "text": [
      "                                                                                                                        \r"
     ]
    },
    {
     "name": "stdout",
     "output_type": "stream",
     "text": [
      "Group 0, clients ['f_00113', 'f_00094', 'f_00034', 'f_00074', 'f_00184', 'f_00083']\n",
      "Group 1, clients ['f_00176', 'f_00067']\n",
      "Group 2, clients ['f_00171', 'f_00182', 'f_00001', 'f_00132', 'f_00012', 'f_00032']\n",
      "Group 3, clients ['f_00055', 'f_00135', 'f_00195', 'f_00037']\n",
      "Group 4, clients ['f_00030', 'f_00189']\n"
     ]
    },
    {
     "name": "stderr",
     "output_type": "stream",
     "text": [
      "Epoch:   0%|                                                                                     | 0/20 [00:00<?, ?it/s]"
     ]
    },
    {
     "name": "stdout",
     "output_type": "stream",
     "text": [
      "Group 0\n",
      "At round 86 accuracy: 0.874384236453202\n",
      "At round 86 training accuracy: 0.912071967498549\n",
      "At round 86 training loss: 0.32828558807153724\n",
      "Group 1\n",
      "At round 86 accuracy: 0.7650602409638554\n",
      "At round 86 training accuracy: 0.8057733428367784\n",
      "At round 86 training loss: 0.5937423122328516\n",
      "Group 2\n",
      "At round 86 accuracy: 0.7636363636363637\n",
      "At round 86 training accuracy: 0.7875175315568023\n",
      "At round 86 training loss: 0.5090119012985457\n",
      "Group 3\n",
      "At round 86 accuracy: 0.9305135951661632\n",
      "At round 86 training accuracy: 0.9352415026833631\n",
      "At round 86 training loss: 0.2573365114056147\n",
      "Group 4\n",
      "At round 86 accuracy: 0.8638888888888889\n",
      "At round 86 training accuracy: 0.8695090439276486\n",
      "At round 86 training loss: 0.33748337746301826\n",
      "At round 86 mean test accuracy: 0.8347193347193347 mean train accuracy: 0.8573777480056026\n",
      "The groups difference are: [16.52850488 16.55434728 16.48395993 16.5229463  16.65812954]\n",
      "Begin group  0 training\n"
     ]
    },
    {
     "name": "stderr",
     "output_type": "stream",
     "text": [
      "Epoch:  20%|███████████████▍                                                             | 4/20 [00:00<00:00, 34.11it/s]"
     ]
    },
    {
     "name": "stdout",
     "output_type": "stream",
     "text": [
      "Begin group  1 training\n"
     ]
    },
    {
     "name": "stderr",
     "output_type": "stream",
     "text": [
      "                                                                                                                        "
     ]
    },
    {
     "name": "stdout",
     "output_type": "stream",
     "text": [
      "Begin group  2 training\n"
     ]
    },
    {
     "name": "stderr",
     "output_type": "stream",
     "text": [
      "Epoch:  45%|██████████████████████████████████▋                                          | 9/20 [00:00<00:00, 81.05it/s]"
     ]
    },
    {
     "name": "stdout",
     "output_type": "stream",
     "text": [
      "Begin group  3 training\n"
     ]
    },
    {
     "name": "stderr",
     "output_type": "stream",
     "text": [
      "Epoch:  45%|██████████████████████████████████▋                                          | 9/20 [00:00<00:00, 87.58it/s]"
     ]
    },
    {
     "name": "stdout",
     "output_type": "stream",
     "text": [
      "Begin group  4 training\n"
     ]
    },
    {
     "name": "stderr",
     "output_type": "stream",
     "text": [
      "                                                                                                                        \r"
     ]
    },
    {
     "name": "stdout",
     "output_type": "stream",
     "text": [
      "Group 0, clients ['f_00194', 'f_00044', 'f_00013', 'f_00024', 'f_00093']\n",
      "Group 1, clients ['f_00158', 'f_00097', 'f_00008', 'f_00067']\n",
      "Group 2, clients ['f_00032', 'f_00012']\n",
      "Group 3, clients ['f_00145', 'f_00125', 'f_00165', 'f_00106', 'f_00135']\n",
      "Group 4, clients ['f_00180', 'f_00080', 'f_00189', 'f_00029']\n"
     ]
    },
    {
     "name": "stderr",
     "output_type": "stream",
     "text": [
      "Epoch:  30%|███████████████████████                                                      | 6/20 [00:00<00:00, 59.95it/s]"
     ]
    },
    {
     "name": "stdout",
     "output_type": "stream",
     "text": [
      "Group 0\n",
      "At round 87 accuracy: 0.8990147783251231\n",
      "At round 87 training accuracy: 0.901915264074289\n",
      "At round 87 training loss: 0.34747246403551973\n",
      "Group 1\n",
      "At round 87 accuracy: 0.713855421686747\n",
      "At round 87 training accuracy: 0.7498218104062723\n",
      "At round 87 training loss: 1.0904180986789491\n",
      "Group 2\n",
      "At round 87 accuracy: 0.9050505050505051\n",
      "At round 87 training accuracy: 0.9137447405329593\n",
      "At round 87 training loss: 0.25058248760061125\n",
      "Group 3\n",
      "At round 87 accuracy: 0.9335347432024169\n",
      "At round 87 training accuracy: 0.9373881932021467\n",
      "At round 87 training loss: 0.23039599036754563\n",
      "Group 4\n",
      "At round 87 accuracy: 0.8805555555555555\n",
      "At round 87 training accuracy: 0.8556201550387597\n",
      "At round 87 training loss: 0.41139842290671913\n",
      "At round 87 mean test accuracy: 0.8711018711018711 mean train accuracy: 0.8763169112721515\n",
      "The groups difference are: [16.58403123 16.61380898 16.53998843 16.57035875 16.71336617]\n",
      "Begin group  0 training\n"
     ]
    },
    {
     "name": "stderr",
     "output_type": "stream",
     "text": [
      "Epoch:   0%|                                                                                     | 0/20 [00:00<?, ?it/s]"
     ]
    },
    {
     "name": "stdout",
     "output_type": "stream",
     "text": [
      "Begin group  1 training\n"
     ]
    },
    {
     "name": "stderr",
     "output_type": "stream",
     "text": [
      "Epoch:   0%|                                                                                     | 0/20 [00:00<?, ?it/s]"
     ]
    },
    {
     "name": "stdout",
     "output_type": "stream",
     "text": [
      "Begin group  2 training\n",
      "Begin group  3 training\n"
     ]
    },
    {
     "name": "stderr",
     "output_type": "stream",
     "text": [
      "Epoch:  30%|███████████████████████                                                      | 6/20 [00:00<00:00, 54.26it/s]"
     ]
    },
    {
     "name": "stdout",
     "output_type": "stream",
     "text": [
      "Begin group  4 training\n"
     ]
    },
    {
     "name": "stderr",
     "output_type": "stream",
     "text": [
      "                                                                                                                        \r"
     ]
    },
    {
     "name": "stdout",
     "output_type": "stream",
     "text": [
      "Group 0, clients ['f_00013', 'f_00074', 'f_00033', 'f_00153', 'f_00113']\n",
      "Group 1, clients ['f_00158', 'f_00057', 'f_00087']\n",
      "Group 2, clients ['f_00002', 'f_00111', 'f_00021']\n",
      "Group 3, clients ['f_00166', 'f_00085', 'f_00105', 'f_00096']\n",
      "Group 4, clients ['f_00199', 'f_00039', 'f_00129', 'f_00180', 'f_00069']\n"
     ]
    },
    {
     "name": "stderr",
     "output_type": "stream",
     "text": [
      "Epoch:  45%|██████████████████████████████████▋                                          | 9/20 [00:00<00:00, 80.49it/s]"
     ]
    },
    {
     "name": "stdout",
     "output_type": "stream",
     "text": [
      "Group 0\n",
      "At round 88 accuracy: 0.9088669950738916\n",
      "At round 88 training accuracy: 0.926291352292513\n",
      "At round 88 training loss: 0.33174107314340956\n",
      "Group 1\n",
      "At round 88 accuracy: 0.7469879518072289\n",
      "At round 88 training accuracy: 0.7722736992159658\n",
      "At round 88 training loss: 0.8453221038695496\n",
      "Group 2\n",
      "At round 88 accuracy: 0.8929292929292929\n",
      "At round 88 training accuracy: 0.9025245441795231\n",
      "At round 88 training loss: 0.2500097548163288\n",
      "Group 3\n",
      "At round 88 accuracy: 0.8187311178247734\n",
      "At round 88 training accuracy: 0.8143112701252236\n",
      "At round 88 training loss: 0.4607866657814527\n",
      "Group 4\n",
      "At round 88 accuracy: 0.925\n",
      "At round 88 training accuracy: 0.8872739018087855\n",
      "At round 88 training loss: 0.30608171008007473\n",
      "At round 88 mean test accuracy: 0.8643451143451143 mean train accuracy: 0.8673649595030754\n",
      "The groups difference are: [16.65548165 16.6973052  16.60558882 16.64245001 16.79086337]\n",
      "Begin group  0 training\n"
     ]
    },
    {
     "name": "stderr",
     "output_type": "stream",
     "text": [
      "Epoch:  55%|█████████████████████████████████████████▎                                 | 11/20 [00:00<00:00, 105.96it/s]"
     ]
    },
    {
     "name": "stdout",
     "output_type": "stream",
     "text": [
      "Begin group  1 training\n"
     ]
    },
    {
     "name": "stderr",
     "output_type": "stream",
     "text": [
      "Epoch:  45%|██████████████████████████████████▋                                          | 9/20 [00:00<00:00, 80.67it/s]"
     ]
    },
    {
     "name": "stdout",
     "output_type": "stream",
     "text": [
      "Begin group  2 training\n"
     ]
    },
    {
     "name": "stderr",
     "output_type": "stream",
     "text": [
      "Epoch:  80%|████████████████████████████████████████████████████████████               | 16/20 [00:00<00:00, 159.08it/s]"
     ]
    },
    {
     "name": "stdout",
     "output_type": "stream",
     "text": [
      "Begin group  3 training\n"
     ]
    },
    {
     "name": "stderr",
     "output_type": "stream",
     "text": [
      "Epoch:  30%|███████████████████████                                                      | 6/20 [00:00<00:00, 57.51it/s]"
     ]
    },
    {
     "name": "stdout",
     "output_type": "stream",
     "text": [
      "Begin group  4 training\n"
     ]
    },
    {
     "name": "stderr",
     "output_type": "stream",
     "text": [
      "                                                                                                                        \r"
     ]
    },
    {
     "name": "stdout",
     "output_type": "stream",
     "text": [
      "Group 0, clients ['f_00014', 'f_00104', 'f_00144', 'f_00074']\n",
      "Group 1, clients ['f_00197', 'f_00127', 'f_00058', 'f_00078', 'f_00089', 'f_00107', 'f_00028']\n",
      "Group 2, clients ['f_00091', 'f_00012']\n",
      "Group 3, clients ['f_00025', 'f_00095', 'f_00065', 'f_00196']\n",
      "Group 4, clients ['f_00170', 'f_00120', 'f_00179']\n"
     ]
    },
    {
     "name": "stderr",
     "output_type": "stream",
     "text": [
      "Epoch:  40%|██████████████████████████████▊                                              | 8/20 [00:00<00:00, 75.86it/s]"
     ]
    },
    {
     "name": "stdout",
     "output_type": "stream",
     "text": [
      "Group 0\n",
      "At round 89 accuracy: 0.8669950738916257\n",
      "At round 89 training accuracy: 0.897852582704585\n",
      "At round 89 training loss: 0.34679656032120426\n",
      "Group 1\n",
      "At round 89 accuracy: 0.7409638554216867\n",
      "At round 89 training accuracy: 0.7533856022808268\n",
      "At round 89 training loss: 0.811695828832054\n",
      "Group 2\n",
      "At round 89 accuracy: 0.8868686868686869\n",
      "At round 89 training accuracy: 0.8978494623655914\n",
      "At round 89 training loss: 0.26966054837710113\n",
      "Group 3\n",
      "At round 89 accuracy: 0.9244712990936556\n",
      "At round 89 training accuracy: 0.9159212880143113\n",
      "At round 89 training loss: 0.261490259410177\n",
      "Group 4\n",
      "At round 89 accuracy: 0.8916666666666667\n",
      "At round 89 training accuracy: 0.876937984496124\n",
      "At round 89 training loss: 0.3358988988788399\n",
      "At round 89 mean test accuracy: 0.8648648648648649 mean train accuracy: 0.8722976676207296\n",
      "The groups difference are: [16.71080597 16.76430331 16.6675291  16.70229751 16.85643904]\n",
      "Begin group  0 training\n"
     ]
    },
    {
     "name": "stderr",
     "output_type": "stream",
     "text": [
      "Epoch:   0%|                                                                                     | 0/20 [00:00<?, ?it/s]"
     ]
    },
    {
     "name": "stdout",
     "output_type": "stream",
     "text": [
      "Begin group  1 training\n"
     ]
    },
    {
     "name": "stderr",
     "output_type": "stream",
     "text": [
      "Epoch:  40%|██████████████████████████████▊                                              | 8/20 [00:00<00:00, 73.23it/s]"
     ]
    },
    {
     "name": "stdout",
     "output_type": "stream",
     "text": [
      "Begin group  2 training\n"
     ]
    },
    {
     "name": "stderr",
     "output_type": "stream",
     "text": [
      "Epoch:   0%|                                                                                     | 0/20 [00:00<?, ?it/s]"
     ]
    },
    {
     "name": "stdout",
     "output_type": "stream",
     "text": [
      "Begin group  3 training\n"
     ]
    },
    {
     "name": "stderr",
     "output_type": "stream",
     "text": [
      "Epoch:  70%|████████████████████████████████████████████████████▌                      | 14/20 [00:00<00:00, 137.68it/s]"
     ]
    },
    {
     "name": "stdout",
     "output_type": "stream",
     "text": [
      "Begin group  4 training\n"
     ]
    },
    {
     "name": "stderr",
     "output_type": "stream",
     "text": [
      "                                                                                                                        \r"
     ]
    },
    {
     "name": "stdout",
     "output_type": "stream",
     "text": [
      "Group 0, clients ['f_00193', 'f_00184', 'f_00083', 'f_00063']\n",
      "Group 1, clients ['f_00117', 'f_00088', 'f_00197', 'f_00038']\n",
      "Group 2, clients ['f_00082', 'f_00161', 'f_00041', 'f_00122', 'f_00001']\n",
      "Group 3, clients ['f_00015', 'f_00016', 'f_00145', 'f_00115', 'f_00185']\n",
      "Group 4, clients ['f_00029', 'f_00079']\n"
     ]
    },
    {
     "name": "stderr",
     "output_type": "stream",
     "text": [
      "Epoch:  65%|████████████████████████████████████████████████▊                          | 13/20 [00:00<00:00, 120.18it/s]"
     ]
    },
    {
     "name": "stdout",
     "output_type": "stream",
     "text": [
      "Group 0\n",
      "At round 90 accuracy: 0.8497536945812808\n",
      "At round 90 training accuracy: 0.8444573418456182\n",
      "At round 90 training loss: 0.4880758100656822\n",
      "Group 1\n",
      "At round 90 accuracy: 0.8072289156626506\n",
      "At round 90 training accuracy: 0.8289379900213828\n",
      "At round 90 training loss: 0.45787365363641286\n",
      "Group 2\n",
      "At round 90 accuracy: 0.8444444444444444\n",
      "At round 90 training accuracy: 0.8410472183263207\n",
      "At round 90 training loss: 0.44408164204321643\n",
      "Group 3\n",
      "At round 90 accuracy: 0.9033232628398792\n",
      "At round 90 training accuracy: 0.8983899821109124\n",
      "At round 90 training loss: 0.3137303061503417\n",
      "Group 4\n",
      "At round 90 accuracy: 0.9638888888888889\n",
      "At round 90 training accuracy: 0.9441214470284238\n",
      "At round 90 training loss: 0.20848078639017903\n",
      "At round 90 mean test accuracy: 0.8716216216216216 mean train accuracy: 0.8688874002801291\n",
      "The groups difference are: [16.7527634  16.8050218  16.71188398 16.74265746 16.89242304]\n",
      "Begin group  0 training\n"
     ]
    },
    {
     "name": "stderr",
     "output_type": "stream",
     "text": [
      "Epoch:   0%|                                                                                     | 0/20 [00:00<?, ?it/s]"
     ]
    },
    {
     "name": "stdout",
     "output_type": "stream",
     "text": [
      "Begin group  1 training\n"
     ]
    },
    {
     "name": "stderr",
     "output_type": "stream",
     "text": [
      "Epoch:   0%|                                                                                     | 0/20 [00:00<?, ?it/s]"
     ]
    },
    {
     "name": "stdout",
     "output_type": "stream",
     "text": [
      "Begin group  2 training\n"
     ]
    },
    {
     "name": "stderr",
     "output_type": "stream",
     "text": [
      "Epoch:  55%|█████████████████████████████████████████▎                                 | 11/20 [00:00<00:00, 102.93it/s]"
     ]
    },
    {
     "name": "stdout",
     "output_type": "stream",
     "text": [
      "Begin group  3 training\n"
     ]
    },
    {
     "name": "stderr",
     "output_type": "stream",
     "text": [
      "Epoch:   0%|                                                                                     | 0/20 [00:00<?, ?it/s]"
     ]
    },
    {
     "name": "stdout",
     "output_type": "stream",
     "text": [
      "Begin group  4 training\n"
     ]
    },
    {
     "name": "stderr",
     "output_type": "stream",
     "text": [
      "                                                                                                                        \r"
     ]
    },
    {
     "name": "stdout",
     "output_type": "stream",
     "text": [
      "Group 0, clients ['f_00023', 'f_00153', 'f_00124', 'f_00163', 'f_00184', 'f_00084', 'f_00003', 'f_00073']\n",
      "Group 1, clients ['f_00137', 'f_00027', 'f_00177']\n",
      "Group 2, clients ['f_00011', 'f_00122', 'f_00112', 'f_00111']\n",
      "Group 3, clients ['f_00055', 'f_00146']\n",
      "Group 4, clients ['f_00020', 'f_00090', 'f_00120']\n"
     ]
    },
    {
     "name": "stderr",
     "output_type": "stream",
     "text": [
      "Epoch:  35%|██████████████████████████▉                                                  | 7/20 [00:00<00:00, 69.20it/s]"
     ]
    },
    {
     "name": "stdout",
     "output_type": "stream",
     "text": [
      "Group 0\n",
      "At round 91 accuracy: 0.9039408866995073\n",
      "At round 91 training accuracy: 0.9300638421358096\n",
      "At round 91 training loss: 0.31592742552698627\n",
      "Group 1\n",
      "At round 91 accuracy: 0.8102409638554217\n",
      "At round 91 training accuracy: 0.83464005702067\n",
      "At round 91 training loss: 0.46516685306239963\n",
      "Group 2\n",
      "At round 91 accuracy: 0.8525252525252526\n",
      "At round 91 training accuracy: 0.8632538569424965\n",
      "At round 91 training loss: 0.3085304581607653\n",
      "Group 3\n",
      "At round 91 accuracy: 0.8187311178247734\n",
      "At round 91 training accuracy: 0.8132379248658318\n",
      "At round 91 training loss: 0.48788514212906786\n",
      "Group 4\n",
      "At round 91 accuracy: 0.7666666666666667\n",
      "At round 91 training accuracy: 0.7819767441860465\n",
      "At round 91 training loss: 0.5908470722577157\n",
      "At round 91 mean test accuracy: 0.8341995841995842 mean train accuracy: 0.8485475914986907\n",
      "The groups difference are: [16.79011693 16.84851169 16.7554383  16.78653585 16.94042964]\n",
      "Begin group  0 training\n"
     ]
    },
    {
     "name": "stderr",
     "output_type": "stream",
     "text": [
      "Epoch:   0%|                                                                                     | 0/20 [00:00<?, ?it/s]"
     ]
    },
    {
     "name": "stdout",
     "output_type": "stream",
     "text": [
      "Begin group  1 training\n"
     ]
    },
    {
     "name": "stderr",
     "output_type": "stream",
     "text": [
      "Epoch:   0%|                                                                                     | 0/20 [00:00<?, ?it/s]"
     ]
    },
    {
     "name": "stdout",
     "output_type": "stream",
     "text": [
      "Begin group  2 training\n"
     ]
    },
    {
     "name": "stderr",
     "output_type": "stream",
     "text": [
      "Epoch:   0%|                                                                                     | 0/20 [00:00<?, ?it/s]"
     ]
    },
    {
     "name": "stdout",
     "output_type": "stream",
     "text": [
      "Begin group  3 training\n",
      "Begin group  4 training\n"
     ]
    },
    {
     "name": "stderr",
     "output_type": "stream",
     "text": [
      "                                                                                                                        \r"
     ]
    },
    {
     "name": "stdout",
     "output_type": "stream",
     "text": [
      "Group 0, clients ['f_00024', 'f_00063', 'f_00034', 'f_00044', 'f_00194', 'f_00123', 'f_00183']\n",
      "Group 1, clients ['f_00038', 'f_00176', 'f_00007']\n",
      "Group 2, clients ['f_00032', 'f_00031', 'f_00091', 'f_00141', 'f_00061', 'f_00022']\n",
      "Group 3, clients ['f_00116', 'f_00026', 'f_00036', 'f_00115']\n",
      "Group 4 is empty.\n"
     ]
    },
    {
     "name": "stderr",
     "output_type": "stream",
     "text": [
      "Epoch:  70%|████████████████████████████████████████████████████▌                      | 14/20 [00:00<00:00, 136.41it/s]"
     ]
    },
    {
     "name": "stdout",
     "output_type": "stream",
     "text": [
      "Group 0\n",
      "At round 92 accuracy: 0.8891625615763546\n",
      "At round 92 training accuracy: 0.9056877539175856\n",
      "At round 92 training loss: 0.3497983404736289\n",
      "Group 1\n",
      "At round 92 accuracy: 0.7379518072289156\n",
      "At round 92 training accuracy: 0.7466143977191732\n",
      "At round 92 training loss: 0.8200422537142008\n",
      "Group 2\n",
      "At round 92 accuracy: 0.8848484848484849\n",
      "At round 92 training accuracy: 0.8938756428237494\n",
      "At round 92 training loss: 0.2939375146175027\n",
      "Group 3\n",
      "At round 92 accuracy: 0.9365558912386707\n",
      "At round 92 training accuracy: 0.9409660107334525\n",
      "At round 92 training loss: 0.24565634768396244\n",
      "Group 4\n",
      "At round 92 accuracy: 0.8972222222222223\n",
      "At round 92 training accuracy: 0.8885658914728682\n",
      "At round 92 training loss: 0.31367446411309585\n",
      "At round 92 mean test accuracy: 0.8716216216216216 mean train accuracy: 0.8782047378356982\n",
      "The groups difference are: [16.84280383 16.90496046 16.8013855  16.8262637  16.99462214]\n",
      "Begin group  0 training\n"
     ]
    },
    {
     "name": "stderr",
     "output_type": "stream",
     "text": [
      "Epoch:   0%|                                                                                     | 0/20 [00:00<?, ?it/s]"
     ]
    },
    {
     "name": "stdout",
     "output_type": "stream",
     "text": [
      "Begin group  1 training\n"
     ]
    },
    {
     "name": "stderr",
     "output_type": "stream",
     "text": [
      "Epoch:   0%|                                                                                     | 0/20 [00:00<?, ?it/s]"
     ]
    },
    {
     "name": "stdout",
     "output_type": "stream",
     "text": [
      "Begin group  2 training\n"
     ]
    },
    {
     "name": "stderr",
     "output_type": "stream",
     "text": [
      "Epoch:  50%|██████████████████████████████████████                                      | 10/20 [00:00<00:00, 98.68it/s]"
     ]
    },
    {
     "name": "stdout",
     "output_type": "stream",
     "text": [
      "Begin group  3 training\n"
     ]
    },
    {
     "name": "stderr",
     "output_type": "stream",
     "text": [
      "                                                                                                                        \r"
     ]
    },
    {
     "name": "stdout",
     "output_type": "stream",
     "text": [
      "Group 0, clients ['f_00004', 'f_00153', 'f_00054']\n",
      "Group 1, clients ['f_00089', 'f_00068', 'f_00028', 'f_00078', 'f_00007']\n",
      "Group 2, clients ['f_00182', 'f_00041', 'f_00151', 'f_00052']\n",
      "Group 3, clients ['f_00065', 'f_00136', 'f_00095', 'f_00175']\n",
      "Group 4, clients ['f_00050', 'f_00100', 'f_00129', 'f_00119']\n"
     ]
    },
    {
     "name": "stderr",
     "output_type": "stream",
     "text": [
      "                                                                                                                        "
     ]
    },
    {
     "name": "stdout",
     "output_type": "stream",
     "text": [
      "Group 0\n",
      "At round 93 accuracy: 0.9137931034482759\n",
      "At round 93 training accuracy: 0.9332559489262914\n",
      "At round 93 training loss: 0.3132648446785802\n",
      "Group 1\n",
      "At round 93 accuracy: 0.8433734939759037\n",
      "At round 93 training accuracy: 0.8521026372059872\n",
      "At round 93 training loss: 0.44963818046391135\n",
      "Group 2\n",
      "At round 93 accuracy: 0.8585858585858586\n",
      "At round 93 training accuracy: 0.8662926601215521\n",
      "At round 93 training loss: 0.3954583797107489\n",
      "Group 3\n",
      "At round 93 accuracy: 0.9033232628398792\n",
      "At round 93 training accuracy: 0.8976744186046511\n",
      "At round 93 training loss: 0.3207217510962902\n",
      "Group 4\n",
      "At round 93 accuracy: 0.8972222222222223\n",
      "At round 93 training accuracy: 0.8885658914728682\n",
      "At round 93 training loss: 0.31335166417355875\n",
      "At round 93 mean test accuracy: 0.8825363825363826 mean train accuracy: 0.8874611777601852\n",
      "The groups difference are: [16.86691102 16.91764035 16.82319343 16.84174924 17.00348664]\n",
      "Begin group  0 training\n"
     ]
    },
    {
     "name": "stderr",
     "output_type": "stream",
     "text": [
      "Epoch:  50%|██████████████████████████████████████                                      | 10/20 [00:00<00:00, 94.74it/s]"
     ]
    },
    {
     "name": "stdout",
     "output_type": "stream",
     "text": [
      "Begin group  1 training\n"
     ]
    },
    {
     "name": "stderr",
     "output_type": "stream",
     "text": [
      "Epoch:   0%|                                                                                     | 0/20 [00:00<?, ?it/s]"
     ]
    },
    {
     "name": "stdout",
     "output_type": "stream",
     "text": [
      "Begin group  2 training\n"
     ]
    },
    {
     "name": "stderr",
     "output_type": "stream",
     "text": [
      "Epoch:   0%|                                                                                     | 0/20 [00:00<?, ?it/s]"
     ]
    },
    {
     "name": "stdout",
     "output_type": "stream",
     "text": [
      "Begin group  3 training\n"
     ]
    },
    {
     "name": "stderr",
     "output_type": "stream",
     "text": [
      "Epoch:  35%|██████████████████████████▉                                                  | 7/20 [00:00<00:00, 68.03it/s]"
     ]
    },
    {
     "name": "stdout",
     "output_type": "stream",
     "text": [
      "Begin group  4 training\n"
     ]
    },
    {
     "name": "stderr",
     "output_type": "stream",
     "text": [
      "                                                                                                                        \r"
     ]
    },
    {
     "name": "stdout",
     "output_type": "stream",
     "text": [
      "Group 0, clients ['f_00054', 'f_00064', 'f_00044']\n",
      "Group 1, clients ['f_00167', 'f_00177', 'f_00028', 'f_00049']\n",
      "Group 2, clients ['f_00092', 'f_00071']\n",
      "Group 3, clients ['f_00145', 'f_00195', 'f_00037', 'f_00025']\n",
      "Group 4, clients ['f_00020', 'f_00159', 'f_00100', 'f_00130', 'f_00149', 'f_00080', 'f_00180']\n"
     ]
    },
    {
     "name": "stderr",
     "output_type": "stream",
     "text": [
      "Epoch:  70%|████████████████████████████████████████████████████▌                      | 14/20 [00:00<00:00, 134.40it/s]"
     ]
    },
    {
     "name": "stdout",
     "output_type": "stream",
     "text": [
      "Group 0\n",
      "At round 94 accuracy: 0.9088669950738916\n",
      "At round 94 training accuracy: 0.905977945443993\n",
      "At round 94 training loss: 0.36133381940675247\n",
      "Group 1\n",
      "At round 94 accuracy: 0.7921686746987951\n",
      "At round 94 training accuracy: 0.7679971489665004\n",
      "At round 94 training loss: 0.6285440354413504\n",
      "Group 2\n",
      "At round 94 accuracy: 0.8747474747474747\n",
      "At round 94 training accuracy: 0.8854604955586722\n",
      "At round 94 training loss: 0.3043280827136673\n",
      "Group 3\n",
      "At round 94 accuracy: 0.9335347432024169\n",
      "At round 94 training accuracy: 0.9323792486583184\n",
      "At round 94 training loss: 0.2768693981395638\n",
      "Group 4\n",
      "At round 94 accuracy: 0.9305555555555556\n",
      "At round 94 training accuracy: 0.8940568475452196\n",
      "At round 94 training loss: 0.2743817904015921\n",
      "At round 94 mean test accuracy: 0.8882536382536382 mean train accuracy: 0.879300895195177\n",
      "The groups difference are: [16.91314743 16.96909227 16.880854   16.89361003 17.05591833]\n",
      "Begin group  0 training\n"
     ]
    },
    {
     "name": "stderr",
     "output_type": "stream",
     "text": [
      "Epoch:   0%|                                                                                     | 0/20 [00:00<?, ?it/s]"
     ]
    },
    {
     "name": "stdout",
     "output_type": "stream",
     "text": [
      "Begin group  1 training\n"
     ]
    },
    {
     "name": "stderr",
     "output_type": "stream",
     "text": [
      "Epoch:   0%|                                                                                     | 0/20 [00:00<?, ?it/s]"
     ]
    },
    {
     "name": "stdout",
     "output_type": "stream",
     "text": [
      "Begin group  2 training\n"
     ]
    },
    {
     "name": "stderr",
     "output_type": "stream",
     "text": [
      "Epoch:   0%|                                                                                     | 0/20 [00:00<?, ?it/s]"
     ]
    },
    {
     "name": "stdout",
     "output_type": "stream",
     "text": [
      "Begin group  3 training\n"
     ]
    },
    {
     "name": "stderr",
     "output_type": "stream",
     "text": [
      "Epoch:   0%|                                                                                     | 0/20 [00:00<?, ?it/s]"
     ]
    },
    {
     "name": "stdout",
     "output_type": "stream",
     "text": [
      "Begin group  4 training\n"
     ]
    },
    {
     "name": "stderr",
     "output_type": "stream",
     "text": [
      "                                                                                                                        \r"
     ]
    },
    {
     "name": "stdout",
     "output_type": "stream",
     "text": [
      "Group 0, clients ['f_00043', 'f_00063', 'f_00004', 'f_00053', 'f_00144', 'f_00174']\n",
      "Group 1, clients ['f_00137', 'f_00089', 'f_00178', 'f_00169']\n",
      "Group 2, clients ['f_00112', 'f_00061', 'f_00021']\n",
      "Group 3, clients ['f_00066', 'f_00085']\n",
      "Group 4, clients ['f_00179', 'f_00069', 'f_00109', 'f_00110', 'f_00160']\n"
     ]
    },
    {
     "name": "stderr",
     "output_type": "stream",
     "text": [
      "Epoch:   0%|                                                                                     | 0/20 [00:00<?, ?it/s]"
     ]
    },
    {
     "name": "stdout",
     "output_type": "stream",
     "text": [
      "Group 0\n",
      "At round 95 accuracy: 0.8497536945812808\n",
      "At round 95 training accuracy: 0.8499709808473592\n",
      "At round 95 training loss: 0.4800732058834542\n",
      "Group 1\n",
      "At round 95 accuracy: 0.786144578313253\n",
      "At round 95 training accuracy: 0.82287954383464\n",
      "At round 95 training loss: 0.5201705251624562\n",
      "Group 2\n",
      "At round 95 accuracy: 0.9090909090909091\n",
      "At round 95 training accuracy: 0.9107059373539037\n",
      "At round 95 training loss: 0.26608734023759456\n",
      "Group 3\n",
      "At round 95 accuracy: 0.9365558912386707\n",
      "At round 95 training accuracy: 0.9438282647584973\n",
      "At round 95 training loss: 0.19036798064258742\n",
      "Group 4\n",
      "At round 95 accuracy: 0.8611111111111112\n",
      "At round 95 training accuracy: 0.8414082687338501\n",
      "At round 95 training loss: 0.41016087720040667\n",
      "At round 95 mean test accuracy: 0.8711018711018711 mean train accuracy: 0.8755252420680836\n",
      "The groups difference are: [16.95328686 17.01094931 16.92292406 16.92843886 17.10175827]\n",
      "Begin group  0 training\n"
     ]
    },
    {
     "name": "stderr",
     "output_type": "stream",
     "text": [
      "Epoch:   0%|                                                                                     | 0/20 [00:00<?, ?it/s]"
     ]
    },
    {
     "name": "stdout",
     "output_type": "stream",
     "text": [
      "Begin group  1 training\n"
     ]
    },
    {
     "name": "stderr",
     "output_type": "stream",
     "text": [
      "                                                                                                                        "
     ]
    },
    {
     "name": "stdout",
     "output_type": "stream",
     "text": [
      "Begin group  2 training\n"
     ]
    },
    {
     "name": "stderr",
     "output_type": "stream",
     "text": [
      "Epoch:  45%|██████████████████████████████████▋                                          | 9/20 [00:00<00:00, 80.91it/s]"
     ]
    },
    {
     "name": "stdout",
     "output_type": "stream",
     "text": [
      "Begin group  3 training\n"
     ]
    },
    {
     "name": "stderr",
     "output_type": "stream",
     "text": [
      "Epoch:   0%|                                                                                     | 0/20 [00:00<?, ?it/s]"
     ]
    },
    {
     "name": "stdout",
     "output_type": "stream",
     "text": [
      "Begin group  4 training\n"
     ]
    },
    {
     "name": "stderr",
     "output_type": "stream",
     "text": [
      "                                                                                                                        \r"
     ]
    },
    {
     "name": "stdout",
     "output_type": "stream",
     "text": [
      "Group 0, clients ['f_00113', 'f_00093', 'f_00173', 'f_00184']\n",
      "Group 1, clients ['f_00167', 'f_00198']\n",
      "Group 2, clients ['f_00102', 'f_00071', 'f_00032', 'f_00051']\n",
      "Group 3, clients ['f_00035', 'f_00005', 'f_00185', 'f_00096', 'f_00175', 'f_00015', 'f_00026', 'f_00086', 'f_00036']\n",
      "Group 4, clients ['f_00080']\n"
     ]
    },
    {
     "name": "stderr",
     "output_type": "stream",
     "text": [
      "Epoch:   0%|                                                                                     | 0/20 [00:00<?, ?it/s]"
     ]
    },
    {
     "name": "stdout",
     "output_type": "stream",
     "text": [
      "Group 0\n",
      "At round 96 accuracy: 0.874384236453202\n",
      "At round 96 training accuracy: 0.9016250725478816\n",
      "At round 96 training loss: 0.3662396574304269\n",
      "Group 1\n",
      "At round 96 accuracy: 0.858433734939759\n",
      "At round 96 training accuracy: 0.8599429793300071\n",
      "At round 96 training loss: 0.4062254978390311\n",
      "Group 2\n",
      "At round 96 accuracy: 0.9212121212121213\n",
      "At round 96 training accuracy: 0.9244974287050023\n",
      "At round 96 training loss: 0.21465605803708318\n",
      "Group 3\n",
      "At round 96 accuracy: 0.8972809667673716\n",
      "At round 96 training accuracy: 0.9037567084078711\n",
      "At round 96 training loss: 0.28945003595862917\n",
      "Group 4\n",
      "At round 96 accuracy: 0.9166666666666666\n",
      "At round 96 training accuracy: 0.8972868217054264\n",
      "At round 96 training loss: 0.26822742225135404\n",
      "At round 96 mean test accuracy: 0.8955301455301455 mean train accuracy: 0.9000060897631083\n",
      "The groups difference are: [17.00395481 17.05649653 16.96380796 16.98140446 17.15224182]\n",
      "Begin group  0 training\n"
     ]
    },
    {
     "name": "stderr",
     "output_type": "stream",
     "text": [
      "                                                                                                                        "
     ]
    },
    {
     "name": "stdout",
     "output_type": "stream",
     "text": [
      "Begin group  1 training\n"
     ]
    },
    {
     "name": "stderr",
     "output_type": "stream",
     "text": [
      "Epoch:  25%|███████████████████▎                                                         | 5/20 [00:00<00:00, 41.18it/s]"
     ]
    },
    {
     "name": "stdout",
     "output_type": "stream",
     "text": [
      "Begin group  2 training\n"
     ]
    },
    {
     "name": "stderr",
     "output_type": "stream",
     "text": [
      "Epoch:  50%|██████████████████████████████████████                                      | 10/20 [00:00<00:00, 93.02it/s]"
     ]
    },
    {
     "name": "stdout",
     "output_type": "stream",
     "text": [
      "Begin group  3 training\n"
     ]
    },
    {
     "name": "stderr",
     "output_type": "stream",
     "text": [
      "Epoch:  35%|██████████████████████████▉                                                  | 7/20 [00:00<00:00, 63.36it/s]"
     ]
    },
    {
     "name": "stdout",
     "output_type": "stream",
     "text": [
      "Begin group  4 training\n"
     ]
    },
    {
     "name": "stderr",
     "output_type": "stream",
     "text": [
      "                                                                                                                        \r"
     ]
    },
    {
     "name": "stdout",
     "output_type": "stream",
     "text": [
      "Group 0, clients ['f_00063']\n",
      "Group 1, clients ['f_00167', 'f_00047', 'f_00128', 'f_00049', 'f_00038', 'f_00058']\n",
      "Group 2, clients ['f_00121', 'f_00022']\n",
      "Group 3, clients ['f_00085', 'f_00055', 'f_00145', 'f_00005', 'f_00045', 'f_00056', 'f_00065']\n",
      "Group 4, clients ['f_00020', 'f_00140', 'f_00110', 'f_00030']\n"
     ]
    },
    {
     "name": "stderr",
     "output_type": "stream",
     "text": [
      "                                                                                                                        "
     ]
    },
    {
     "name": "stdout",
     "output_type": "stream",
     "text": [
      "Group 0\n",
      "At round 97 accuracy: 0.8596059113300493\n",
      "At round 97 training accuracy: 0.8760882182240278\n",
      "At round 97 training loss: 0.43113820906079875\n",
      "Group 1\n",
      "At round 97 accuracy: 0.8493975903614458\n",
      "At round 97 training accuracy: 0.8513898788310763\n",
      "At round 97 training loss: 0.4223582755962781\n",
      "Group 2\n",
      "At round 97 accuracy: 0.8686868686868687\n",
      "At round 97 training accuracy: 0.8800841514726507\n",
      "At round 97 training loss: 0.2876866326666062\n",
      "Group 3\n",
      "At round 97 accuracy: 0.9365558912386707\n",
      "At round 97 training accuracy: 0.9334525939177102\n",
      "At round 97 training loss: 0.2543294003723133\n",
      "Group 4\n",
      "At round 97 accuracy: 0.6027777777777777\n",
      "At round 97 training accuracy: 0.5920542635658915\n",
      "At round 97 training loss: 2.389532163007623\n",
      "At round 97 mean test accuracy: 0.8253638253638254 mean train accuracy: 0.8291212471834846\n",
      "The groups difference are: [17.06838954 17.12752471 17.03539797 17.05083973 17.2297433 ]\n",
      "Begin group  0 training\n"
     ]
    },
    {
     "name": "stderr",
     "output_type": "stream",
     "text": [
      "Epoch:   0%|                                                                                     | 0/20 [00:00<?, ?it/s]"
     ]
    },
    {
     "name": "stdout",
     "output_type": "stream",
     "text": [
      "Begin group  1 training\n"
     ]
    },
    {
     "name": "stderr",
     "output_type": "stream",
     "text": [
      "Epoch:  25%|███████████████████▎                                                         | 5/20 [00:00<00:00, 48.91it/s]"
     ]
    },
    {
     "name": "stdout",
     "output_type": "stream",
     "text": [
      "Begin group  2 training\n"
     ]
    },
    {
     "name": "stderr",
     "output_type": "stream",
     "text": [
      "Epoch:   0%|                                                                                     | 0/20 [00:00<?, ?it/s]"
     ]
    },
    {
     "name": "stdout",
     "output_type": "stream",
     "text": [
      "Begin group  3 training\n"
     ]
    },
    {
     "name": "stderr",
     "output_type": "stream",
     "text": [
      "Epoch:   0%|                                                                                     | 0/20 [00:00<?, ?it/s]"
     ]
    },
    {
     "name": "stdout",
     "output_type": "stream",
     "text": [
      "Begin group  4 training\n"
     ]
    },
    {
     "name": "stderr",
     "output_type": "stream",
     "text": [
      "                                                                                                                        \r"
     ]
    },
    {
     "name": "stdout",
     "output_type": "stream",
     "text": [
      "Group 0, clients ['f_00064', 'f_00153', 'f_00134', 'f_00184']\n",
      "Group 1, clients ['f_00058', 'f_00097', 'f_00198', 'f_00128']\n",
      "Group 2, clients ['f_00041', 'f_00051', 'f_00182', 'f_00121', 'f_00152', 'f_00112']\n",
      "Group 3, clients ['f_00155', 'f_00115', 'f_00145', 'f_00096', 'f_00135']\n",
      "Group 4, clients ['f_00119']\n"
     ]
    },
    {
     "name": "stderr",
     "output_type": "stream",
     "text": [
      "Epoch:   0%|                                                                                     | 0/20 [00:00<?, ?it/s]"
     ]
    },
    {
     "name": "stdout",
     "output_type": "stream",
     "text": [
      "Group 0\n",
      "At round 98 accuracy: 0.8448275862068966\n",
      "At round 98 training accuracy: 0.8447475333720256\n",
      "At round 98 training loss: 0.5549521238910109\n",
      "Group 1\n",
      "At round 98 accuracy: 0.8493975903614458\n",
      "At round 98 training accuracy: 0.8517462580185318\n",
      "At round 98 training loss: 0.4109379783304606\n",
      "Group 2\n",
      "At round 98 accuracy: 0.8363636363636363\n",
      "At round 98 training accuracy: 0.8340345956054231\n",
      "At round 98 training loss: 0.4734619627887398\n",
      "Group 3\n",
      "At round 98 accuracy: 0.8187311178247734\n",
      "At round 98 training accuracy: 0.8168157423971377\n",
      "At round 98 training loss: 0.47237245333322686\n",
      "Group 4\n",
      "At round 98 accuracy: 0.8555555555555555\n",
      "At round 98 training accuracy: 0.8594961240310077\n",
      "At round 98 training loss: 0.4815941606395582\n",
      "At round 98 mean test accuracy: 0.840956340956341 mean train accuracy: 0.8411789781377504\n",
      "The groups difference are: [17.10535306 17.16968766 17.076054   17.09538125 17.26172505]\n",
      "Begin group  0 training\n"
     ]
    },
    {
     "name": "stderr",
     "output_type": "stream",
     "text": [
      "Epoch:   0%|                                                                                     | 0/20 [00:00<?, ?it/s]"
     ]
    },
    {
     "name": "stdout",
     "output_type": "stream",
     "text": [
      "Begin group  1 training\n"
     ]
    },
    {
     "name": "stderr",
     "output_type": "stream",
     "text": [
      "Epoch:   0%|                                                                                     | 0/20 [00:00<?, ?it/s]"
     ]
    },
    {
     "name": "stdout",
     "output_type": "stream",
     "text": [
      "Begin group  2 training\n"
     ]
    },
    {
     "name": "stderr",
     "output_type": "stream",
     "text": [
      "Epoch:   0%|                                                                                     | 0/20 [00:00<?, ?it/s]"
     ]
    },
    {
     "name": "stdout",
     "output_type": "stream",
     "text": [
      "Begin group  3 training\n"
     ]
    },
    {
     "name": "stderr",
     "output_type": "stream",
     "text": [
      "                                                                                                                        "
     ]
    },
    {
     "name": "stdout",
     "output_type": "stream",
     "text": [
      "Begin group  4 training\n"
     ]
    },
    {
     "name": "stderr",
     "output_type": "stream",
     "text": [
      "\r"
     ]
    },
    {
     "name": "stdout",
     "output_type": "stream",
     "text": [
      "Group 0, clients ['f_00024', 'f_00043', 'f_00153']\n",
      "Group 1, clients ['f_00127', 'f_00187', 'f_00049']\n",
      "Group 2, clients ['f_00191', 'f_00111', 'f_00081', 'f_00121']\n",
      "Group 3, clients ['f_00135', 'f_00066', 'f_00036', 'f_00126', 'f_00085', 'f_00155', 'f_00195']\n",
      "Group 4, clients ['f_00119', 'f_00050', 'f_00009']\n"
     ]
    },
    {
     "name": "stderr",
     "output_type": "stream",
     "text": [
      "Epoch:   0%|                                                                                     | 0/20 [00:00<?, ?it/s]"
     ]
    },
    {
     "name": "stdout",
     "output_type": "stream",
     "text": [
      "Group 0\n",
      "At round 99 accuracy: 0.9039408866995073\n",
      "At round 99 training accuracy: 0.9048171793383634\n",
      "At round 99 training loss: 0.35259845522699906\n",
      "Group 1\n",
      "At round 99 accuracy: 0.8253012048192772\n",
      "At round 99 training accuracy: 0.8086243763364219\n",
      "At round 99 training loss: 0.5153212750905425\n",
      "Group 2\n",
      "At round 99 accuracy: 0.8747474747474747\n",
      "At round 99 training accuracy: 0.884992987377279\n",
      "At round 99 training loss: 0.31932243890929735\n",
      "Group 3\n",
      "At round 99 accuracy: 0.879154078549849\n",
      "At round 99 training accuracy: 0.865474060822898\n",
      "At round 99 training loss: 0.3410624371704934\n",
      "Group 4\n",
      "At round 99 accuracy: 0.7777777777777778\n",
      "At round 99 training accuracy: 0.790374677002584\n",
      "At round 99 training loss: 0.5929398261611073\n",
      "At round 99 mean test accuracy: 0.854989604989605 mean train accuracy: 0.8549418427623166\n",
      "The groups difference are: [17.14261153 17.20776193 17.12418077 17.13551666 17.30029882]\n",
      "Begin group  0 training\n"
     ]
    },
    {
     "name": "stderr",
     "output_type": "stream",
     "text": [
      "Epoch:   0%|                                                                                     | 0/20 [00:00<?, ?it/s]"
     ]
    },
    {
     "name": "stdout",
     "output_type": "stream",
     "text": [
      "Begin group  1 training\n"
     ]
    },
    {
     "name": "stderr",
     "output_type": "stream",
     "text": [
      "Epoch:   0%|                                                                                     | 0/20 [00:00<?, ?it/s]"
     ]
    },
    {
     "name": "stdout",
     "output_type": "stream",
     "text": [
      "Begin group  2 training\n"
     ]
    },
    {
     "name": "stderr",
     "output_type": "stream",
     "text": [
      "Epoch:  40%|██████████████████████████████▊                                              | 8/20 [00:00<00:00, 73.23it/s]"
     ]
    },
    {
     "name": "stdout",
     "output_type": "stream",
     "text": [
      "Begin group  3 training\n"
     ]
    },
    {
     "name": "stderr",
     "output_type": "stream",
     "text": [
      "Epoch:   0%|                                                                                     | 0/20 [00:00<?, ?it/s]"
     ]
    },
    {
     "name": "stdout",
     "output_type": "stream",
     "text": [
      "Begin group  4 training\n"
     ]
    },
    {
     "name": "stderr",
     "output_type": "stream",
     "text": [
      "                                                                                                                        \r"
     ]
    },
    {
     "name": "stdout",
     "output_type": "stream",
     "text": [
      "Group 0, clients ['f_00104', 'f_00164', 'f_00124', 'f_00154', 'f_00194', 'f_00163']\n",
      "Group 1, clients ['f_00167', 'f_00177']\n",
      "Group 2, clients ['f_00092', 'f_00111', 'f_00052', 'f_00182', 'f_00031']\n",
      "Group 3, clients ['f_00126', 'f_00116', 'f_00096', 'f_00125', 'f_00196']\n",
      "Group 4, clients ['f_00099', 'f_00069']\n"
     ]
    },
    {
     "name": "stderr",
     "output_type": "stream",
     "text": [
      "Epoch:   0%|                                                                                     | 0/20 [00:00<?, ?it/s]"
     ]
    },
    {
     "name": "stdout",
     "output_type": "stream",
     "text": [
      "Group 0\n",
      "At round 100 accuracy: 0.874384236453202\n",
      "At round 100 training accuracy: 0.9048171793383634\n",
      "At round 100 training loss: 0.35134790189838816\n",
      "Group 1\n",
      "At round 100 accuracy: 0.8343373493975904\n",
      "At round 100 training accuracy: 0.8545972915181753\n",
      "At round 100 training loss: 0.4127912750296396\n",
      "Group 2\n",
      "At round 100 accuracy: 0.7818181818181819\n",
      "At round 100 training accuracy: 0.7793361383824217\n",
      "At round 100 training loss: 0.7002932033177192\n",
      "Group 3\n",
      "At round 100 accuracy: 0.9244712990936556\n",
      "At round 100 training accuracy: 0.9144901610017889\n",
      "At round 100 training loss: 0.2744358528638675\n",
      "Group 4\n",
      "At round 100 accuracy: 0.8166666666666667\n",
      "At round 100 training accuracy: 0.8184754521963824\n",
      "At round 100 training loss: 0.518235980345355\n",
      "At round 100 mean test accuracy: 0.8414760914760915 mean train accuracy: 0.8489129772851836\n",
      "The groups difference are: [17.16434621 17.22840656 17.15324859 17.1648221  17.32064399]\n",
      "Begin group  0 training\n"
     ]
    },
    {
     "name": "stderr",
     "output_type": "stream",
     "text": [
      "Epoch:   0%|                                                                                     | 0/20 [00:00<?, ?it/s]"
     ]
    },
    {
     "name": "stdout",
     "output_type": "stream",
     "text": [
      "Begin group  1 training\n"
     ]
    },
    {
     "name": "stderr",
     "output_type": "stream",
     "text": [
      "Epoch:   0%|                                                                                     | 0/20 [00:00<?, ?it/s]"
     ]
    },
    {
     "name": "stdout",
     "output_type": "stream",
     "text": [
      "Begin group  2 training\n"
     ]
    },
    {
     "name": "stderr",
     "output_type": "stream",
     "text": [
      "Epoch:   0%|                                                                                     | 0/20 [00:00<?, ?it/s]"
     ]
    },
    {
     "name": "stdout",
     "output_type": "stream",
     "text": [
      "Begin group  3 training\n"
     ]
    },
    {
     "name": "stderr",
     "output_type": "stream",
     "text": [
      "Epoch:  65%|████████████████████████████████████████████████▊                          | 13/20 [00:00<00:00, 123.76it/s]"
     ]
    },
    {
     "name": "stdout",
     "output_type": "stream",
     "text": [
      "Begin group  4 training\n"
     ]
    },
    {
     "name": "stderr",
     "output_type": "stream",
     "text": [
      "                                                                                                                        \r"
     ]
    },
    {
     "name": "stdout",
     "output_type": "stream",
     "text": [
      "Group 0, clients ['f_00054', 'f_00074', 'f_00174', 'f_00034']\n",
      "Group 1, clients ['f_00089', 'f_00148']\n",
      "Group 2, clients ['f_00031', 'f_00142', 'f_00112', 'f_00141']\n",
      "Group 3, clients ['f_00037', 'f_00066', 'f_00145', 'f_00055', 'f_00025']\n",
      "Group 4, clients ['f_00109', 'f_00119', 'f_00149', 'f_00170', 'f_00039']\n"
     ]
    },
    {
     "name": "stderr",
     "output_type": "stream",
     "text": [
      "Epoch:  60%|█████████████████████████████████████████████                              | 12/20 [00:00<00:00, 118.46it/s]"
     ]
    },
    {
     "name": "stdout",
     "output_type": "stream",
     "text": [
      "Group 0\n",
      "At round 101 accuracy: 0.8669950738916257\n",
      "At round 101 training accuracy: 0.8792803250145096\n",
      "At round 101 training loss: 0.45006777687961463\n",
      "Group 1\n",
      "At round 101 accuracy: 0.7409638554216867\n",
      "At round 101 training accuracy: 0.7754811119030649\n",
      "At round 101 training loss: 0.8569497597521318\n",
      "Group 2\n",
      "At round 101 accuracy: 0.9050505050505051\n",
      "At round 101 training accuracy: 0.9111734455352969\n",
      "At round 101 training loss: 0.23967553934325342\n",
      "Group 3\n",
      "At round 101 accuracy: 0.9154078549848943\n",
      "At round 101 training accuracy: 0.9101967799642218\n",
      "At round 101 training loss: 0.29708099077140815\n",
      "Group 4\n",
      "At round 101 accuracy: 0.7583333333333333\n",
      "At round 101 training accuracy: 0.7700258397932817\n",
      "At round 101 training loss: 0.7598968595115935\n",
      "At round 101 mean test accuracy: 0.843035343035343 mean train accuracy: 0.8545155593447414\n",
      "The groups difference are: [17.2282519  17.29244632 17.21949666 17.2167553  17.38306692]\n",
      "Begin group  0 training\n"
     ]
    },
    {
     "name": "stderr",
     "output_type": "stream",
     "text": [
      "                                                                                                                        "
     ]
    },
    {
     "name": "stdout",
     "output_type": "stream",
     "text": [
      "Begin group  1 training\n",
      "Begin group  2 training\n"
     ]
    },
    {
     "name": "stderr",
     "output_type": "stream",
     "text": [
      "Epoch:  45%|██████████████████████████████████▋                                          | 9/20 [00:00<00:00, 82.13it/s]"
     ]
    },
    {
     "name": "stdout",
     "output_type": "stream",
     "text": [
      "Begin group  3 training\n"
     ]
    },
    {
     "name": "stderr",
     "output_type": "stream",
     "text": [
      "Epoch:  65%|████████████████████████████████████████████████▊                          | 13/20 [00:00<00:00, 127.47it/s]"
     ]
    },
    {
     "name": "stdout",
     "output_type": "stream",
     "text": [
      "Begin group  4 training\n"
     ]
    },
    {
     "name": "stderr",
     "output_type": "stream",
     "text": [
      "                                                                                                                        \r"
     ]
    },
    {
     "name": "stdout",
     "output_type": "stream",
     "text": [
      "Group 0, clients ['f_00054', 'f_00034', 'f_00163', 'f_00083', 'f_00144']\n",
      "Group 1, clients ['f_00057', 'f_00118', 'f_00008', 'f_00087']\n",
      "Group 2, clients ['f_00142', 'f_00002']\n",
      "Group 3, clients ['f_00085', 'f_00185', 'f_00005', 'f_00036']\n",
      "Group 4, clients ['f_00029', 'f_00119', 'f_00120', 'f_00099', 'f_00129']\n"
     ]
    },
    {
     "name": "stderr",
     "output_type": "stream",
     "text": [
      "Epoch:  55%|█████████████████████████████████████████▎                                 | 11/20 [00:00<00:00, 103.69it/s]"
     ]
    },
    {
     "name": "stdout",
     "output_type": "stream",
     "text": [
      "Group 0\n",
      "At round 102 accuracy: 0.854679802955665\n",
      "At round 102 training accuracy: 0.849100406268137\n",
      "At round 102 training loss: 0.5174612479162247\n",
      "Group 1\n",
      "At round 102 accuracy: 0.7409638554216867\n",
      "At round 102 training accuracy: 0.7273699215965788\n",
      "At round 102 training loss: 0.849105044280684\n",
      "Group 2\n",
      "At round 102 accuracy: 0.907070707070707\n",
      "At round 102 training accuracy: 0.9111734455352969\n",
      "At round 102 training loss: 0.25305418956671266\n",
      "Group 3\n",
      "At round 102 accuracy: 0.9335347432024169\n",
      "At round 102 training accuracy: 0.9320214669051878\n",
      "At round 102 training loss: 0.22962893323443018\n",
      "Group 4\n",
      "At round 102 accuracy: 0.7777777777777778\n",
      "At round 102 training accuracy: 0.792312661498708\n",
      "At round 102 training loss: 0.596990215509663\n",
      "At round 102 mean test accuracy: 0.8477130977130977 mean train accuracy: 0.8478777175567871\n",
      "The groups difference are: [17.24230141 17.2941101  17.23033869 17.23165369 17.3873834 ]\n",
      "Begin group  0 training\n"
     ]
    },
    {
     "name": "stderr",
     "output_type": "stream",
     "text": [
      "Epoch:  25%|███████████████████▎                                                         | 5/20 [00:00<00:00, 47.08it/s]"
     ]
    },
    {
     "name": "stdout",
     "output_type": "stream",
     "text": [
      "Begin group  1 training\n"
     ]
    },
    {
     "name": "stderr",
     "output_type": "stream",
     "text": [
      "Epoch:  40%|██████████████████████████████▊                                              | 8/20 [00:00<00:00, 75.98it/s]"
     ]
    },
    {
     "name": "stdout",
     "output_type": "stream",
     "text": [
      "Begin group  2 training\n"
     ]
    },
    {
     "name": "stderr",
     "output_type": "stream",
     "text": [
      "Epoch:   0%|                                                                                     | 0/20 [00:00<?, ?it/s]"
     ]
    },
    {
     "name": "stdout",
     "output_type": "stream",
     "text": [
      "Begin group  3 training\n"
     ]
    },
    {
     "name": "stderr",
     "output_type": "stream",
     "text": [
      "Epoch:   0%|                                                                                     | 0/20 [00:00<?, ?it/s]"
     ]
    },
    {
     "name": "stdout",
     "output_type": "stream",
     "text": [
      "Begin group  4 training\n"
     ]
    },
    {
     "name": "stderr",
     "output_type": "stream",
     "text": [
      "                                                                                                                        \r"
     ]
    },
    {
     "name": "stdout",
     "output_type": "stream",
     "text": [
      "Group 0, clients ['f_00003', 'f_00193', 'f_00064', 'f_00113', 'f_00164']\n",
      "Group 1, clients ['f_00127']\n",
      "Group 2, clients ['f_00031', 'f_00162', 'f_00052', 'f_00032', 'f_00101', 'f_00111']\n",
      "Group 3, clients ['f_00155', 'f_00186', 'f_00166', 'f_00085']\n",
      "Group 4, clients ['f_00160', 'f_00009', 'f_00190', 'f_00149']\n"
     ]
    },
    {
     "name": "stderr",
     "output_type": "stream",
     "text": [
      "Epoch:   0%|                                                                                     | 0/20 [00:00<?, ?it/s]"
     ]
    },
    {
     "name": "stdout",
     "output_type": "stream",
     "text": [
      "Group 0\n",
      "At round 103 accuracy: 0.9088669950738916\n",
      "At round 103 training accuracy: 0.9294834590829948\n",
      "At round 103 training loss: 0.33536640798334666\n",
      "Group 1\n",
      "At round 103 accuracy: 0.8433734939759037\n",
      "At round 103 training accuracy: 0.8410548823948681\n",
      "At round 103 training loss: 0.43035782795566707\n",
      "Group 2\n",
      "At round 103 accuracy: 0.8929292929292929\n",
      "At round 103 training accuracy: 0.9001870032725573\n",
      "At round 103 training loss: 0.28154618544447446\n",
      "Group 3\n",
      "At round 103 accuracy: 0.8338368580060423\n",
      "At round 103 training accuracy: 0.8379248658318426\n",
      "At round 103 training loss: 0.363896331466961\n",
      "Group 4\n",
      "At round 103 accuracy: 0.8583333333333333\n",
      "At round 103 training accuracy: 0.850452196382429\n",
      "At round 103 training loss: 0.44708990218425865\n",
      "At round 103 mean test accuracy: 0.8711018711018711 mean train accuracy: 0.8762560136410693\n",
      "The groups difference are: [17.28273302 17.35100469 17.28363379 17.28508239 17.43778047]\n",
      "Begin group  0 training\n"
     ]
    },
    {
     "name": "stderr",
     "output_type": "stream",
     "text": [
      "Epoch:   0%|                                                                                     | 0/20 [00:00<?, ?it/s]"
     ]
    },
    {
     "name": "stdout",
     "output_type": "stream",
     "text": [
      "Begin group  1 training\n",
      "Begin group  2 training\n"
     ]
    },
    {
     "name": "stderr",
     "output_type": "stream",
     "text": [
      "Epoch:   0%|                                                                                     | 0/20 [00:00<?, ?it/s]"
     ]
    },
    {
     "name": "stdout",
     "output_type": "stream",
     "text": [
      "Begin group  3 training\n"
     ]
    },
    {
     "name": "stderr",
     "output_type": "stream",
     "text": [
      "Epoch:  15%|███████████▌                                                                 | 3/20 [00:00<00:00, 28.98it/s]"
     ]
    },
    {
     "name": "stdout",
     "output_type": "stream",
     "text": [
      "Begin group  4 training\n"
     ]
    },
    {
     "name": "stderr",
     "output_type": "stream",
     "text": [
      "                                                                                                                        \r"
     ]
    },
    {
     "name": "stdout",
     "output_type": "stream",
     "text": [
      "Group 0, clients ['f_00104', 'f_00034', 'f_00064', 'f_00154', 'f_00113', 'f_00084', 'f_00153', 'f_00123', 'f_00164']\n",
      "Group 1, clients ['f_00128', 'f_00049', 'f_00047', 'f_00018', 'f_00028']\n",
      "Group 2, clients ['f_00192', 'f_00061', 'f_00001']\n",
      "Group 3, clients ['f_00045', 'f_00005']\n",
      "Group 4, clients ['f_00130']\n"
     ]
    },
    {
     "name": "stderr",
     "output_type": "stream",
     "text": [
      "Epoch:   0%|                                                                                     | 0/20 [00:00<?, ?it/s]"
     ]
    },
    {
     "name": "stdout",
     "output_type": "stream",
     "text": [
      "Group 0\n",
      "At round 104 accuracy: 0.874384236453202\n",
      "At round 104 training accuracy: 0.8746372605919908\n",
      "At round 104 training loss: 0.44569603877722597\n",
      "Group 1\n",
      "At round 104 accuracy: 0.7560240963855421\n",
      "At round 104 training accuracy: 0.7811831789023521\n",
      "At round 104 training loss: 0.5790274466599682\n",
      "Group 2\n",
      "At round 104 accuracy: 0.8888888888888888\n",
      "At round 104 training accuracy: 0.8938756428237494\n",
      "At round 104 training loss: 0.2892323085892808\n",
      "Group 3\n",
      "At round 104 accuracy: 0.9335347432024169\n",
      "At round 104 training accuracy: 0.9445438282647585\n",
      "At round 104 training loss: 0.23869110514311542\n",
      "Group 4\n",
      "At round 104 accuracy: 0.9222222222222223\n",
      "At round 104 training accuracy: 0.8866279069767442\n",
      "At round 104 training loss: 0.28402243365439794\n",
      "At round 104 mean test accuracy: 0.8768191268191268 mean train accuracy: 0.8778393520492053\n",
      "The groups difference are: [17.33483597 17.39744229 17.33333978 17.32618146 17.49245139]\n",
      "Begin group  0 training\n"
     ]
    },
    {
     "name": "stderr",
     "output_type": "stream",
     "text": [
      "Epoch:   0%|                                                                                     | 0/20 [00:00<?, ?it/s]"
     ]
    },
    {
     "name": "stdout",
     "output_type": "stream",
     "text": [
      "Begin group  1 training\n"
     ]
    },
    {
     "name": "stderr",
     "output_type": "stream",
     "text": [
      "                                                                                                                        "
     ]
    },
    {
     "name": "stdout",
     "output_type": "stream",
     "text": [
      "Begin group  2 training\n"
     ]
    },
    {
     "name": "stderr",
     "output_type": "stream",
     "text": [
      "Epoch:   0%|                                                                                     | 0/20 [00:00<?, ?it/s]"
     ]
    },
    {
     "name": "stdout",
     "output_type": "stream",
     "text": [
      "Begin group  3 training\n"
     ]
    },
    {
     "name": "stderr",
     "output_type": "stream",
     "text": [
      "                                                                                                                        \r"
     ]
    },
    {
     "name": "stdout",
     "output_type": "stream",
     "text": [
      "Begin group  4 training\n",
      "Group 0, clients ['f_00193', 'f_00044', 'f_00093', 'f_00043']\n",
      "Group 1, clients ['f_00147', 'f_00018', 'f_00118', 'f_00128', 'f_00198']\n",
      "Group 2, clients ['f_00191', 'f_00171']\n",
      "Group 3, clients ['f_00037', 'f_00096', 'f_00125', 'f_00115', 'f_00126', 'f_00086']\n",
      "Group 4, clients ['f_00168', 'f_00110', 'f_00139']\n"
     ]
    },
    {
     "name": "stderr",
     "output_type": "stream",
     "text": [
      "Epoch:   0%|                                                                                     | 0/20 [00:00<?, ?it/s]"
     ]
    },
    {
     "name": "stdout",
     "output_type": "stream",
     "text": [
      "Group 0\n",
      "At round 105 accuracy: 0.8940886699507389\n",
      "At round 105 training accuracy: 0.9036564132327336\n",
      "At round 105 training loss: 0.3689788360931347\n",
      "Group 1\n",
      "At round 105 accuracy: 0.858433734939759\n",
      "At round 105 training accuracy: 0.8510334996436208\n",
      "At round 105 training loss: 0.3929652167498768\n",
      "Group 2\n",
      "At round 105 accuracy: 0.9050505050505051\n",
      "At round 105 training accuracy: 0.9081346423562412\n",
      "At round 105 training loss: 0.2445832197756871\n",
      "Group 3\n",
      "At round 105 accuracy: 0.8187311178247734\n",
      "At round 105 training accuracy: 0.8089445438282648\n",
      "At round 105 training loss: 0.6254814713060429\n",
      "Group 4\n",
      "At round 105 accuracy: 0.49722222222222223\n",
      "At round 105 training accuracy: 0.5058139534883721\n",
      "At round 105 training loss: 1.3908563443587116\n",
      "At round 105 mean test accuracy: 0.8035343035343036 mean train accuracy: 0.8047012971195421\n",
      "The groups difference are: [17.37123555 17.4335157  17.36419734 17.3679572  17.52145234]\n",
      "Begin group  0 training\n"
     ]
    },
    {
     "name": "stderr",
     "output_type": "stream",
     "text": [
      "Epoch:   0%|                                                                                     | 0/20 [00:00<?, ?it/s]"
     ]
    },
    {
     "name": "stdout",
     "output_type": "stream",
     "text": [
      "Begin group  1 training\n"
     ]
    },
    {
     "name": "stderr",
     "output_type": "stream",
     "text": [
      "Epoch:   0%|                                                                                     | 0/20 [00:00<?, ?it/s]"
     ]
    },
    {
     "name": "stdout",
     "output_type": "stream",
     "text": [
      "Begin group  2 training\n"
     ]
    },
    {
     "name": "stderr",
     "output_type": "stream",
     "text": [
      "Epoch:  40%|██████████████████████████████▊                                              | 8/20 [00:00<00:00, 71.42it/s]"
     ]
    },
    {
     "name": "stdout",
     "output_type": "stream",
     "text": [
      "Begin group  3 training\n"
     ]
    },
    {
     "name": "stderr",
     "output_type": "stream",
     "text": [
      "Epoch:   0%|                                                                                     | 0/20 [00:00<?, ?it/s]"
     ]
    },
    {
     "name": "stdout",
     "output_type": "stream",
     "text": [
      "Begin group  4 training\n"
     ]
    },
    {
     "name": "stderr",
     "output_type": "stream",
     "text": [
      "                                                                                                                        \r"
     ]
    },
    {
     "name": "stdout",
     "output_type": "stream",
     "text": [
      "Group 0, clients ['f_00003', 'f_00154', 'f_00124', 'f_00174', 'f_00063', 'f_00014', 'f_00133', 'f_00084']\n",
      "Group 1, clients ['f_00049']\n",
      "Group 2, clients ['f_00181', 'f_00192', 'f_00032', 'f_00102']\n",
      "Group 3, clients ['f_00036', 'f_00065', 'f_00016']\n",
      "Group 4, clients ['f_00060', 'f_00019', 'f_00190', 'f_00149']\n"
     ]
    },
    {
     "name": "stderr",
     "output_type": "stream",
     "text": [
      "Epoch:  35%|██████████████████████████▉                                                  | 7/20 [00:00<00:00, 63.23it/s]"
     ]
    },
    {
     "name": "stdout",
     "output_type": "stream",
     "text": [
      "Group 0\n",
      "At round 106 accuracy: 0.8694581280788177\n",
      "At round 106 training accuracy: 0.8923389437028438\n",
      "At round 106 training loss: 0.39449102121275037\n",
      "Group 1\n",
      "At round 106 accuracy: 0.5572289156626506\n",
      "At round 106 training accuracy: 0.5513186029935851\n",
      "At round 106 training loss: 1.5522722738688108\n",
      "Group 2\n",
      "At round 106 accuracy: 0.806060606060606\n",
      "At round 106 training accuracy: 0.7954651706404862\n",
      "At round 106 training loss: 0.6032838304032924\n",
      "Group 3\n",
      "At round 106 accuracy: 0.9395770392749244\n",
      "At round 106 training accuracy: 0.9334525939177102\n",
      "At round 106 training loss: 0.1994651526625873\n",
      "Group 4\n",
      "At round 106 accuracy: 0.9277777777777778\n",
      "At round 106 training accuracy: 0.9021317829457365\n",
      "At round 106 training loss: 0.25011357224669106\n",
      "At round 106 mean test accuracy: 0.8222453222453222 mean train accuracy: 0.8176724925400402\n",
      "The groups difference are: [17.4035796  17.45655339 17.392198   17.39124799 17.5327218 ]\n",
      "Begin group  0 training\n"
     ]
    },
    {
     "name": "stderr",
     "output_type": "stream",
     "text": [
      "Epoch:   0%|                                                                                     | 0/20 [00:00<?, ?it/s]"
     ]
    },
    {
     "name": "stdout",
     "output_type": "stream",
     "text": [
      "Begin group  1 training\n",
      "Begin group  2 training\n"
     ]
    },
    {
     "name": "stderr",
     "output_type": "stream",
     "text": [
      "Epoch:   0%|                                                                                     | 0/20 [00:00<?, ?it/s]"
     ]
    },
    {
     "name": "stdout",
     "output_type": "stream",
     "text": [
      "Begin group  3 training\n"
     ]
    },
    {
     "name": "stderr",
     "output_type": "stream",
     "text": [
      "Epoch:   0%|                                                                                     | 0/20 [00:00<?, ?it/s]"
     ]
    },
    {
     "name": "stdout",
     "output_type": "stream",
     "text": [
      "Begin group  4 training\n"
     ]
    },
    {
     "name": "stderr",
     "output_type": "stream",
     "text": [
      "                                                                                                                        \r"
     ]
    },
    {
     "name": "stdout",
     "output_type": "stream",
     "text": [
      "Group 0, clients ['f_00193', 'f_00173', 'f_00164']\n",
      "Group 1, clients ['f_00097', 'f_00128', 'f_00018', 'f_00127', 'f_00078']\n",
      "Group 2, clients ['f_00121', 'f_00052', 'f_00002', 'f_00012', 'f_00132']\n",
      "Group 3 is empty.\n",
      "Group 4, clients ['f_00019', 'f_00039', 'f_00010', 'f_00129', 'f_00109', 'f_00159', 'f_00069']\n"
     ]
    },
    {
     "name": "stderr",
     "output_type": "stream",
     "text": [
      "Epoch:   0%|                                                                                     | 0/20 [00:00<?, ?it/s]"
     ]
    },
    {
     "name": "stdout",
     "output_type": "stream",
     "text": [
      "Group 0\n",
      "At round 107 accuracy: 0.9039408866995073\n",
      "At round 107 training accuracy: 0.9036564132327336\n",
      "At round 107 training loss: 0.36445726409394485\n",
      "Group 1\n",
      "At round 107 accuracy: 0.608433734939759\n",
      "At round 107 training accuracy: 0.5830363506771205\n",
      "At round 107 training loss: 1.6129418134514086\n",
      "Group 2\n",
      "At round 107 accuracy: 0.8929292929292929\n",
      "At round 107 training accuracy: 0.898083216456288\n",
      "At round 107 training loss: 0.27027960967006054\n",
      "Group 3\n",
      "At round 107 accuracy: 0.9335347432024169\n",
      "At round 107 training accuracy: 0.9363148479427549\n",
      "At round 107 training loss: 0.2086960661003436\n",
      "Group 4\n",
      "At round 107 accuracy: 0.9111111111111111\n",
      "At round 107 training accuracy: 0.8827519379844961\n",
      "At round 107 training loss: 0.3032538378755598\n",
      "At round 107 mean test accuracy: 0.8565488565488566 mean train accuracy: 0.8490347725473479\n",
      "The groups difference are: [17.43505669 17.48271606 17.42694923 17.42470295 17.56304183]\n",
      "Begin group  0 training\n"
     ]
    },
    {
     "name": "stderr",
     "output_type": "stream",
     "text": [
      "Epoch:   0%|                                                                                     | 0/20 [00:00<?, ?it/s]"
     ]
    },
    {
     "name": "stdout",
     "output_type": "stream",
     "text": [
      "Begin group  1 training\n"
     ]
    },
    {
     "name": "stderr",
     "output_type": "stream",
     "text": [
      "Epoch:  25%|███████████████████▎                                                         | 5/20 [00:00<00:00, 48.49it/s]"
     ]
    },
    {
     "name": "stdout",
     "output_type": "stream",
     "text": [
      "Begin group  2 training\n"
     ]
    },
    {
     "name": "stderr",
     "output_type": "stream",
     "text": [
      "Epoch:   0%|                                                                                     | 0/20 [00:00<?, ?it/s]"
     ]
    },
    {
     "name": "stdout",
     "output_type": "stream",
     "text": [
      "Begin group  4 training\n"
     ]
    },
    {
     "name": "stderr",
     "output_type": "stream",
     "text": [
      "                                                                                                                        \r"
     ]
    },
    {
     "name": "stdout",
     "output_type": "stream",
     "text": [
      "Group 0, clients ['f_00113', 'f_00074', 'f_00024', 'f_00063']\n",
      "Group 1, clients ['f_00089', 'f_00077', 'f_00098', 'f_00007']\n",
      "Group 2, clients ['f_00022', 'f_00002', 'f_00031']\n",
      "Group 3, clients ['f_00196', 'f_00146', 'f_00106']\n",
      "Group 4, clients ['f_00180', 'f_00030', 'f_00019', 'f_00009', 'f_00179', 'f_00140']\n"
     ]
    },
    {
     "name": "stderr",
     "output_type": "stream",
     "text": [
      "Epoch:   0%|                                                                                     | 0/20 [00:00<?, ?it/s]"
     ]
    },
    {
     "name": "stdout",
     "output_type": "stream",
     "text": [
      "Group 0\n",
      "At round 108 accuracy: 0.8399014778325123\n",
      "At round 108 training accuracy: 0.8566453859547302\n",
      "At round 108 training loss: 0.4840149635138791\n",
      "Group 1\n",
      "At round 108 accuracy: 0.8192771084337349\n",
      "At round 108 training accuracy: 0.7957947255880257\n",
      "At round 108 training loss: 0.6216999573695473\n",
      "Group 2\n",
      "At round 108 accuracy: 0.9151515151515152\n",
      "At round 108 training accuracy: 0.9160822814399252\n",
      "At round 108 training loss: 0.2292692629884286\n",
      "Group 3\n",
      "At round 108 accuracy: 0.9335347432024169\n",
      "At round 108 training accuracy: 0.9363148479427549\n",
      "At round 108 training loss: 0.20856889381418287\n",
      "Group 4\n",
      "At round 108 accuracy: 0.8861111111111111\n",
      "At round 108 training accuracy: 0.8659560723514211\n",
      "At round 108 training loss: 0.33103778225776453\n",
      "At round 108 mean test accuracy: 0.8804573804573804 mean train accuracy: 0.8770476828451373\n",
      "The groups difference are: [17.48529282 17.5215597  17.47589628 17.45458206 17.60644309]\n",
      "Begin group  0 training\n"
     ]
    },
    {
     "name": "stderr",
     "output_type": "stream",
     "text": [
      "Epoch:   0%|                                                                                     | 0/20 [00:00<?, ?it/s]"
     ]
    },
    {
     "name": "stdout",
     "output_type": "stream",
     "text": [
      "Begin group  1 training\n"
     ]
    },
    {
     "name": "stderr",
     "output_type": "stream",
     "text": [
      "Epoch:   0%|                                                                                     | 0/20 [00:00<?, ?it/s]"
     ]
    },
    {
     "name": "stdout",
     "output_type": "stream",
     "text": [
      "Begin group  2 training\n"
     ]
    },
    {
     "name": "stderr",
     "output_type": "stream",
     "text": [
      "Epoch:   0%|                                                                                     | 0/20 [00:00<?, ?it/s]"
     ]
    },
    {
     "name": "stdout",
     "output_type": "stream",
     "text": [
      "Begin group  3 training\n"
     ]
    },
    {
     "name": "stderr",
     "output_type": "stream",
     "text": [
      "Epoch:  25%|███████████████████▎                                                         | 5/20 [00:00<00:00, 49.45it/s]"
     ]
    },
    {
     "name": "stdout",
     "output_type": "stream",
     "text": [
      "Begin group  4 training\n"
     ]
    },
    {
     "name": "stderr",
     "output_type": "stream",
     "text": [
      "                                                                                                                        \r"
     ]
    },
    {
     "name": "stdout",
     "output_type": "stream",
     "text": [
      "Group 0, clients ['f_00023', 'f_00054', 'f_00083', 'f_00193', 'f_00124', 'f_00014']\n",
      "Group 1, clients ['f_00047', 'f_00107']\n",
      "Group 2, clients ['f_00001']\n",
      "Group 3, clients ['f_00076', 'f_00005', 'f_00155', 'f_00066', 'f_00055', 'f_00035']\n",
      "Group 4, clients ['f_00079', 'f_00070', 'f_00190', 'f_00130', 'f_00110']\n"
     ]
    },
    {
     "name": "stderr",
     "output_type": "stream",
     "text": [
      "Epoch:  35%|██████████████████████████▉                                                  | 7/20 [00:00<00:00, 60.75it/s]"
     ]
    },
    {
     "name": "stdout",
     "output_type": "stream",
     "text": [
      "Group 0\n",
      "At round 109 accuracy: 0.9064039408866995\n",
      "At round 109 training accuracy: 0.9367382472431804\n",
      "At round 109 training loss: 0.3285442285533742\n",
      "Group 1\n",
      "At round 109 accuracy: 0.8132530120481928\n",
      "At round 109 training accuracy: 0.7861724875267284\n",
      "At round 109 training loss: 0.7157460091873228\n",
      "Group 2\n",
      "At round 109 accuracy: 0.9030303030303031\n",
      "At round 109 training accuracy: 0.9055633473585788\n",
      "At round 109 training loss: 0.27231509615538724\n",
      "Group 3\n",
      "At round 109 accuracy: 0.8549848942598187\n",
      "At round 109 training accuracy: 0.8429338103756708\n",
      "At round 109 training loss: 0.421823877240123\n",
      "Group 4\n",
      "At round 109 accuracy: 0.9555555555555556\n",
      "At round 109 training accuracy: 0.9366925064599483\n",
      "At round 109 training loss: 0.20212103394088782\n",
      "At round 109 mean test accuracy: 0.8898128898128899 mean train accuracy: 0.8869130990804458\n",
      "The groups difference are: [17.52234371 17.56786409 17.51771147 17.49429045 17.64834859]\n",
      "Begin group  0 training\n"
     ]
    },
    {
     "name": "stderr",
     "output_type": "stream",
     "text": [
      "Epoch:   0%|                                                                                     | 0/20 [00:00<?, ?it/s]"
     ]
    },
    {
     "name": "stdout",
     "output_type": "stream",
     "text": [
      "Begin group  1 training\n"
     ]
    },
    {
     "name": "stderr",
     "output_type": "stream",
     "text": [
      "Epoch:   0%|                                                                                     | 0/20 [00:00<?, ?it/s]"
     ]
    },
    {
     "name": "stdout",
     "output_type": "stream",
     "text": [
      "Begin group  2 training\n",
      "Begin group  3 training\n"
     ]
    },
    {
     "name": "stderr",
     "output_type": "stream",
     "text": [
      "Epoch:  50%|██████████████████████████████████████                                      | 10/20 [00:00<00:00, 91.70it/s]"
     ]
    },
    {
     "name": "stdout",
     "output_type": "stream",
     "text": [
      "Begin group  4 training\n"
     ]
    },
    {
     "name": "stderr",
     "output_type": "stream",
     "text": [
      "                                                                                                                        \r"
     ]
    },
    {
     "name": "stdout",
     "output_type": "stream",
     "text": [
      "Group 0, clients ['f_00124']\n",
      "Group 1, clients ['f_00197', 'f_00147', 'f_00028', 'f_00027', 'f_00198']\n",
      "Group 2, clients ['f_00151', 'f_00071', 'f_00041', 'f_00042']\n",
      "Group 3, clients ['f_00065', 'f_00086', 'f_00185', 'f_00055']\n",
      "Group 4, clients ['f_00168', 'f_00140', 'f_00020', 'f_00100', 'f_00119', 'f_00079']\n"
     ]
    },
    {
     "name": "stderr",
     "output_type": "stream",
     "text": [
      "Epoch:  30%|███████████████████████                                                      | 6/20 [00:00<00:00, 54.05it/s]"
     ]
    },
    {
     "name": "stdout",
     "output_type": "stream",
     "text": [
      "Group 0\n",
      "At round 110 accuracy: 0.9088669950738916\n",
      "At round 110 training accuracy: 0.940510737086477\n",
      "At round 110 training loss: 0.3081154401694628\n",
      "Group 1\n",
      "At round 110 accuracy: 0.7530120481927711\n",
      "At round 110 training accuracy: 0.7861724875267284\n",
      "At round 110 training loss: 0.6315275198373086\n",
      "Group 2\n",
      "At round 110 accuracy: 0.8565656565656565\n",
      "At round 110 training accuracy: 0.864656381486676\n",
      "At round 110 training loss: 0.37340658840903157\n",
      "Group 3\n",
      "At round 110 accuracy: 0.9123867069486404\n",
      "At round 110 training accuracy: 0.9234347048300536\n",
      "At round 110 training loss: 0.2496224611890977\n",
      "Group 4\n",
      "At round 110 accuracy: 0.9222222222222223\n",
      "At round 110 training accuracy: 0.9047157622739018\n",
      "At round 110 training loss: 0.26658677103272244\n",
      "At round 110 mean test accuracy: 0.8716216216216216 mean train accuracy: 0.8847207843614884\n",
      "The groups difference are: [17.56569446 17.61440221 17.55275739 17.53361203 17.69742162]\n",
      "Begin group  0 training\n"
     ]
    },
    {
     "name": "stderr",
     "output_type": "stream",
     "text": [
      "Epoch:   0%|                                                                                     | 0/20 [00:00<?, ?it/s]"
     ]
    },
    {
     "name": "stdout",
     "output_type": "stream",
     "text": [
      "Begin group  1 training\n"
     ]
    },
    {
     "name": "stderr",
     "output_type": "stream",
     "text": [
      "Epoch:   0%|                                                                                     | 0/20 [00:00<?, ?it/s]"
     ]
    },
    {
     "name": "stdout",
     "output_type": "stream",
     "text": [
      "Begin group  2 training\n"
     ]
    },
    {
     "name": "stderr",
     "output_type": "stream",
     "text": [
      "Epoch:   0%|                                                                                     | 0/20 [00:00<?, ?it/s]"
     ]
    },
    {
     "name": "stdout",
     "output_type": "stream",
     "text": [
      "Begin group  3 training\n"
     ]
    },
    {
     "name": "stderr",
     "output_type": "stream",
     "text": [
      "Epoch:  70%|████████████████████████████████████████████████████▌                      | 14/20 [00:00<00:00, 138.27it/s]"
     ]
    },
    {
     "name": "stdout",
     "output_type": "stream",
     "text": [
      "Begin group  4 training\n"
     ]
    },
    {
     "name": "stderr",
     "output_type": "stream",
     "text": [
      "                                                                                                                        \r"
     ]
    },
    {
     "name": "stdout",
     "output_type": "stream",
     "text": [
      "Group 0, clients ['f_00164', 'f_00183', 'f_00023', 'f_00163', 'f_00093']\n",
      "Group 1, clients ['f_00198']\n",
      "Group 2, clients ['f_00132', 'f_00011']\n",
      "Group 3, clients ['f_00126', 'f_00035', 'f_00195', 'f_00076', 'f_00175', 'f_00145', 'f_00055']\n",
      "Group 4, clients ['f_00129', 'f_00079', 'f_00159', 'f_00009', 'f_00150']\n"
     ]
    },
    {
     "name": "stderr",
     "output_type": "stream",
     "text": [
      "Epoch:  15%|███████████▌                                                                 | 3/20 [00:00<00:00, 25.79it/s]"
     ]
    },
    {
     "name": "stdout",
     "output_type": "stream",
     "text": [
      "Group 0\n",
      "At round 111 accuracy: 0.8300492610837439\n",
      "At round 111 training accuracy: 0.820081253627394\n",
      "At round 111 training loss: 0.5552027069466774\n",
      "Group 1\n",
      "At round 111 accuracy: 0.8343373493975904\n",
      "At round 111 training accuracy: 0.8360655737704918\n",
      "At round 111 training loss: 0.4517321884154169\n",
      "Group 2\n",
      "At round 111 accuracy: 0.8787878787878788\n",
      "At round 111 training accuracy: 0.8913043478260869\n",
      "At round 111 training loss: 0.301909003457705\n",
      "Group 3\n",
      "At round 111 accuracy: 0.9093655589123867\n",
      "At round 111 training accuracy: 0.9080500894454383\n",
      "At round 111 training loss: 0.27204115014050106\n",
      "Group 4\n",
      "At round 111 accuracy: 0.9305555555555556\n",
      "At round 111 training accuracy: 0.8959948320413437\n",
      "At round 111 training loss: 0.2768519398749106\n",
      "At round 111 mean test accuracy: 0.8757796257796258 mean train accuracy: 0.8706534315815114\n",
      "The groups difference are: [17.60908619 17.65538013 17.59188074 17.569588   17.73809802]\n",
      "Begin group  0 training\n"
     ]
    },
    {
     "name": "stderr",
     "output_type": "stream",
     "text": [
      "                                                                                                                        "
     ]
    },
    {
     "name": "stdout",
     "output_type": "stream",
     "text": [
      "Begin group  1 training\n",
      "Begin group  2 training\n"
     ]
    },
    {
     "name": "stderr",
     "output_type": "stream",
     "text": [
      "Epoch:  60%|█████████████████████████████████████████████                              | 12/20 [00:00<00:00, 115.79it/s]"
     ]
    },
    {
     "name": "stdout",
     "output_type": "stream",
     "text": [
      "Begin group  3 training\n"
     ]
    },
    {
     "name": "stderr",
     "output_type": "stream",
     "text": [
      "Epoch:   0%|                                                                                     | 0/20 [00:00<?, ?it/s]"
     ]
    },
    {
     "name": "stdout",
     "output_type": "stream",
     "text": [
      "Begin group  4 training\n"
     ]
    },
    {
     "name": "stderr",
     "output_type": "stream",
     "text": [
      "                                                                                                                        \r"
     ]
    },
    {
     "name": "stdout",
     "output_type": "stream",
     "text": [
      "Group 0, clients ['f_00173', 'f_00072', 'f_00023', 'f_00114', 'f_00024']\n",
      "Group 1, clients ['f_00108', 'f_00178', 'f_00088']\n",
      "Group 2, clients ['f_00121', 'f_00082', 'f_00142']\n",
      "Group 3, clients ['f_00015', 'f_00166', 'f_00145']\n",
      "Group 4, clients ['f_00150', 'f_00019', 'f_00050', 'f_00099', 'f_00140', 'f_00110']\n"
     ]
    },
    {
     "name": "stderr",
     "output_type": "stream",
     "text": [
      "Epoch:   0%|                                                                                     | 0/20 [00:00<?, ?it/s]"
     ]
    },
    {
     "name": "stdout",
     "output_type": "stream",
     "text": [
      "Group 0\n",
      "At round 112 accuracy: 0.9014778325123153\n",
      "At round 112 training accuracy: 0.9184561810795124\n",
      "At round 112 training loss: 0.36764529222234416\n",
      "Group 1\n",
      "At round 112 accuracy: 0.8012048192771084\n",
      "At round 112 training accuracy: 0.7783321454027085\n",
      "At round 112 training loss: 0.6986680505100269\n",
      "Group 2\n",
      "At round 112 accuracy: 0.8868686868686869\n",
      "At round 112 training accuracy: 0.8945769050958392\n",
      "At round 112 training loss: 0.3082202034664975\n",
      "Group 3\n",
      "At round 112 accuracy: 0.9335347432024169\n",
      "At round 112 training accuracy: 0.9373881932021467\n",
      "At round 112 training loss: 0.2194297257937451\n",
      "Group 4\n",
      "At round 112 accuracy: 0.8138888888888889\n",
      "At round 112 training accuracy: 0.8187984496124031\n",
      "At round 112 training loss: 0.5121883592924502\n",
      "At round 112 mean test accuracy: 0.8695426195426196 mean train accuracy: 0.8727239510383046\n",
      "The groups difference are: [17.65381126 17.69497995 17.63011504 17.60555416 17.77486887]\n",
      "Begin group  0 training\n"
     ]
    },
    {
     "name": "stderr",
     "output_type": "stream",
     "text": [
      "Epoch:  45%|██████████████████████████████████▋                                          | 9/20 [00:00<00:00, 82.28it/s]"
     ]
    },
    {
     "name": "stdout",
     "output_type": "stream",
     "text": [
      "Begin group  1 training\n"
     ]
    },
    {
     "name": "stderr",
     "output_type": "stream",
     "text": [
      "Epoch:  25%|███████████████████▎                                                         | 5/20 [00:00<00:00, 46.00it/s]"
     ]
    },
    {
     "name": "stdout",
     "output_type": "stream",
     "text": [
      "Begin group  2 training\n"
     ]
    },
    {
     "name": "stderr",
     "output_type": "stream",
     "text": [
      "Epoch:  55%|█████████████████████████████████████████▎                                 | 11/20 [00:00<00:00, 101.70it/s]"
     ]
    },
    {
     "name": "stdout",
     "output_type": "stream",
     "text": [
      "Begin group  3 training\n"
     ]
    },
    {
     "name": "stderr",
     "output_type": "stream",
     "text": [
      "Epoch:  80%|████████████████████████████████████████████████████████████               | 16/20 [00:00<00:00, 157.02it/s]"
     ]
    },
    {
     "name": "stdout",
     "output_type": "stream",
     "text": [
      "Begin group  4 training\n"
     ]
    },
    {
     "name": "stderr",
     "output_type": "stream",
     "text": [
      "                                                                                                                        \r"
     ]
    },
    {
     "name": "stdout",
     "output_type": "stream",
     "text": [
      "Group 0, clients ['f_00034', 'f_00063', 'f_00124', 'f_00114']\n",
      "Group 1, clients ['f_00057', 'f_00127', 'f_00117', 'f_00017']\n",
      "Group 2, clients ['f_00062', 'f_00142', 'f_00071', 'f_00022', 'f_00091', 'f_00161']\n",
      "Group 3, clients ['f_00016', 'f_00155', 'f_00006']\n",
      "Group 4, clients ['f_00030', 'f_00019', 'f_00009']\n"
     ]
    },
    {
     "name": "stderr",
     "output_type": "stream",
     "text": [
      "Epoch:  55%|█████████████████████████████████████████▎                                 | 11/20 [00:00<00:00, 106.12it/s]"
     ]
    },
    {
     "name": "stdout",
     "output_type": "stream",
     "text": [
      "Group 0\n",
      "At round 113 accuracy: 0.8768472906403941\n",
      "At round 113 training accuracy: 0.8949506674405108\n",
      "At round 113 training loss: 0.39184842873321446\n",
      "Group 1\n",
      "At round 113 accuracy: 0.8042168674698795\n",
      "At round 113 training accuracy: 0.774768353528154\n",
      "At round 113 training loss: 0.837181064936831\n",
      "Group 2\n",
      "At round 113 accuracy: 0.8727272727272727\n",
      "At round 113 training accuracy: 0.8719027582982702\n",
      "At round 113 training loss: 0.36713970641946475\n",
      "Group 3\n",
      "At round 113 accuracy: 0.8640483383685801\n",
      "At round 113 training accuracy: 0.8511627906976744\n",
      "At round 113 training loss: 0.3752985653235895\n",
      "Group 4\n",
      "At round 113 accuracy: 0.9277777777777778\n",
      "At round 113 training accuracy: 0.9014857881136951\n",
      "At round 113 training loss: 0.2530556721203703\n",
      "At round 113 mean test accuracy: 0.8705821205821206 mean train accuracy: 0.8621886608610925\n",
      "The groups difference are: [17.68412098 17.73885196 17.66576675 17.64917634 17.80723557]\n",
      "Begin group  0 training\n"
     ]
    },
    {
     "name": "stderr",
     "output_type": "stream",
     "text": [
      "Epoch:   0%|                                                                                     | 0/20 [00:00<?, ?it/s]"
     ]
    },
    {
     "name": "stdout",
     "output_type": "stream",
     "text": [
      "Begin group  1 training\n"
     ]
    },
    {
     "name": "stderr",
     "output_type": "stream",
     "text": [
      "Epoch:   5%|███▊                                                                         | 1/20 [00:00<00:03,  6.27it/s]"
     ]
    },
    {
     "name": "stdout",
     "output_type": "stream",
     "text": [
      "Begin group  2 training\n"
     ]
    },
    {
     "name": "stderr",
     "output_type": "stream",
     "text": [
      "Epoch:   0%|                                                                                     | 0/20 [00:00<?, ?it/s]"
     ]
    },
    {
     "name": "stdout",
     "output_type": "stream",
     "text": [
      "Begin group  3 training\n"
     ]
    },
    {
     "name": "stderr",
     "output_type": "stream",
     "text": [
      "Epoch:  75%|████████████████████████████████████████████████████████▎                  | 15/20 [00:00<00:00, 145.23it/s]"
     ]
    },
    {
     "name": "stdout",
     "output_type": "stream",
     "text": [
      "Begin group  4 training\n"
     ]
    },
    {
     "name": "stderr",
     "output_type": "stream",
     "text": [
      "                                                                                                                        \r"
     ]
    },
    {
     "name": "stdout",
     "output_type": "stream",
     "text": [
      "Group 0, clients ['f_00053', 'f_00054', 'f_00114']\n",
      "Group 1, clients ['f_00059', 'f_00127', 'f_00007', 'f_00187', 'f_00078', 'f_00017', 'f_00198']\n",
      "Group 2, clients ['f_00121']\n",
      "Group 3, clients ['f_00006', 'f_00015', 'f_00105', 'f_00106', 'f_00065']\n",
      "Group 4, clients ['f_00099', 'f_00000', 'f_00069', 'f_00030']\n"
     ]
    },
    {
     "name": "stderr",
     "output_type": "stream",
     "text": [
      "Epoch:  15%|███████████▌                                                                 | 3/20 [00:00<00:00, 24.37it/s]"
     ]
    },
    {
     "name": "stdout",
     "output_type": "stream",
     "text": [
      "Group 0\n",
      "At round 114 accuracy: 0.9187192118226601\n",
      "At round 114 training accuracy: 0.9347069065583284\n",
      "At round 114 training loss: 0.2798287712342419\n",
      "Group 1\n",
      "At round 114 accuracy: 0.7680722891566265\n",
      "At round 114 training accuracy: 0.8032786885245902\n",
      "At round 114 training loss: 0.5431674556754906\n",
      "Group 2\n",
      "At round 114 accuracy: 0.8828282828282829\n",
      "At round 114 training accuracy: 0.8901355773726041\n",
      "At round 114 training loss: 0.29378959420735784\n",
      "Group 3\n",
      "At round 114 accuracy: 0.9274924471299094\n",
      "At round 114 training accuracy: 0.9245080500894455\n",
      "At round 114 training loss: 0.28079443855047864\n",
      "Group 4\n",
      "At round 114 accuracy: 0.8638888888888889\n",
      "At round 114 training accuracy: 0.8698320413436692\n",
      "At round 114 training loss: 0.3620813657849719\n",
      "At round 114 mean test accuracy: 0.8747401247401247 mean train accuracy: 0.8866695085561171\n",
      "The groups difference are: [17.70446452 17.75299302 17.67983063 17.65724783 17.82591351]\n",
      "Begin group  0 training\n"
     ]
    },
    {
     "name": "stderr",
     "output_type": "stream",
     "text": [
      "Epoch:   0%|                                                                                     | 0/20 [00:00<?, ?it/s]"
     ]
    },
    {
     "name": "stdout",
     "output_type": "stream",
     "text": [
      "Begin group  1 training\n"
     ]
    },
    {
     "name": "stderr",
     "output_type": "stream",
     "text": [
      "Epoch:  30%|███████████████████████                                                      | 6/20 [00:00<00:00, 50.58it/s]"
     ]
    },
    {
     "name": "stdout",
     "output_type": "stream",
     "text": [
      "Begin group  2 training\n"
     ]
    },
    {
     "name": "stderr",
     "output_type": "stream",
     "text": [
      "Epoch:   0%|                                                                                     | 0/20 [00:00<?, ?it/s]"
     ]
    },
    {
     "name": "stdout",
     "output_type": "stream",
     "text": [
      "Begin group  3 training\n"
     ]
    },
    {
     "name": "stderr",
     "output_type": "stream",
     "text": [
      "Epoch:   0%|                                                                                     | 0/20 [00:00<?, ?it/s]"
     ]
    },
    {
     "name": "stdout",
     "output_type": "stream",
     "text": [
      "Begin group  4 training\n"
     ]
    },
    {
     "name": "stderr",
     "output_type": "stream",
     "text": [
      "                                                                                                                        \r"
     ]
    },
    {
     "name": "stdout",
     "output_type": "stream",
     "text": [
      "Group 0, clients ['f_00143', 'f_00123', 'f_00183', 'f_00014', 'f_00073']\n",
      "Group 1, clients ['f_00169', 'f_00128', 'f_00078', 'f_00188']\n",
      "Group 2, clients ['f_00152', 'f_00042', 'f_00061', 'f_00021', 'f_00161']\n",
      "Group 3, clients ['f_00006', 'f_00165']\n",
      "Group 4, clients ['f_00140', 'f_00180', 'f_00010', 'f_00030']\n"
     ]
    },
    {
     "name": "stderr",
     "output_type": "stream",
     "text": [
      "Epoch:   0%|                                                                                     | 0/20 [00:00<?, ?it/s]"
     ]
    },
    {
     "name": "stdout",
     "output_type": "stream",
     "text": [
      "Group 0\n",
      "At round 115 accuracy: 0.8694581280788177\n",
      "At round 115 training accuracy: 0.8778293673824724\n",
      "At round 115 training loss: 0.4322093934516919\n",
      "Group 1\n",
      "At round 115 accuracy: 0.8704819277108434\n",
      "At round 115 training accuracy: 0.8763364219529579\n",
      "At round 115 training loss: 0.37405638857422685\n",
      "Group 2\n",
      "At round 115 accuracy: 0.694949494949495\n",
      "At round 115 training accuracy: 0.7003272557269752\n",
      "At round 115 training loss: 0.8070255070367446\n",
      "Group 3\n",
      "At round 115 accuracy: 0.9093655589123867\n",
      "At round 115 training accuracy: 0.9137745974955277\n",
      "At round 115 training loss: 0.29251926219247426\n",
      "Group 4\n",
      "At round 115 accuracy: 0.925\n",
      "At round 115 training accuracy: 0.9076227390180879\n",
      "At round 115 training loss: 0.2725340175533845\n",
      "At round 115 mean test accuracy: 0.841995841995842 mean train accuracy: 0.8430668047012971\n",
      "The groups difference are: [17.75695538 17.797903   17.73113821 17.70780058 17.86540853]\n",
      "Begin group  0 training\n"
     ]
    },
    {
     "name": "stderr",
     "output_type": "stream",
     "text": [
      "Epoch:   0%|                                                                                     | 0/20 [00:00<?, ?it/s]"
     ]
    },
    {
     "name": "stdout",
     "output_type": "stream",
     "text": [
      "Begin group  1 training\n"
     ]
    },
    {
     "name": "stderr",
     "output_type": "stream",
     "text": [
      "Epoch:  35%|██████████████████████████▉                                                  | 7/20 [00:00<00:00, 60.91it/s]"
     ]
    },
    {
     "name": "stdout",
     "output_type": "stream",
     "text": [
      "Begin group  2 training\n"
     ]
    },
    {
     "name": "stderr",
     "output_type": "stream",
     "text": [
      "Epoch:   0%|                                                                                     | 0/20 [00:00<?, ?it/s]"
     ]
    },
    {
     "name": "stdout",
     "output_type": "stream",
     "text": [
      "Begin group  3 training\n"
     ]
    },
    {
     "name": "stderr",
     "output_type": "stream",
     "text": [
      "Epoch:   0%|                                                                                     | 0/20 [00:00<?, ?it/s]"
     ]
    },
    {
     "name": "stdout",
     "output_type": "stream",
     "text": [
      "Begin group  4 training\n"
     ]
    },
    {
     "name": "stderr",
     "output_type": "stream",
     "text": [
      "                                                                                                                        \r"
     ]
    },
    {
     "name": "stdout",
     "output_type": "stream",
     "text": [
      "Group 0, clients ['f_00134', 'f_00034', 'f_00103', 'f_00153']\n",
      "Group 1, clients ['f_00127', 'f_00077', 'f_00018']\n",
      "Group 2, clients ['f_00142', 'f_00102', 'f_00132', 'f_00042']\n",
      "Group 3, clients ['f_00166', 'f_00015', 'f_00025', 'f_00006', 'f_00005', 'f_00196']\n",
      "Group 4, clients ['f_00030', 'f_00079', 'f_00150']\n"
     ]
    },
    {
     "name": "stderr",
     "output_type": "stream",
     "text": [
      "Epoch:  60%|█████████████████████████████████████████████                              | 12/20 [00:00<00:00, 117.83it/s]"
     ]
    },
    {
     "name": "stdout",
     "output_type": "stream",
     "text": [
      "Group 0\n",
      "At round 116 accuracy: 0.8399014778325123\n",
      "At round 116 training accuracy: 0.851131746952989\n",
      "At round 116 training loss: 0.4756734731717406\n",
      "Group 1\n",
      "At round 116 accuracy: 0.786144578313253\n",
      "At round 116 training accuracy: 0.7658588738417677\n",
      "At round 116 training loss: 0.6644377448912697\n",
      "Group 2\n",
      "At round 116 accuracy: 0.9090909090909091\n",
      "At round 116 training accuracy: 0.9149135109864422\n",
      "At round 116 training loss: 0.2289977934988248\n",
      "Group 3\n",
      "At round 116 accuracy: 0.9425981873111783\n",
      "At round 116 training accuracy: 0.942397137745975\n",
      "At round 116 training loss: 0.23249348895707583\n",
      "Group 4\n",
      "At round 116 accuracy: 0.8583333333333333\n",
      "At round 116 training accuracy: 0.8688630490956072\n",
      "At round 116 training loss: 0.36245771800468674\n",
      "At round 116 mean test accuracy: 0.8695426195426196 mean train accuracy: 0.8720540770964009\n",
      "The groups difference are: [17.80037015 17.83644251 17.77245039 17.75124715 17.91417446]\n",
      "Begin group  0 training\n"
     ]
    },
    {
     "name": "stderr",
     "output_type": "stream",
     "text": [
      "Epoch:   0%|                                                                                     | 0/20 [00:00<?, ?it/s]"
     ]
    },
    {
     "name": "stdout",
     "output_type": "stream",
     "text": [
      "Begin group  1 training\n"
     ]
    },
    {
     "name": "stderr",
     "output_type": "stream",
     "text": [
      "Epoch:   0%|                                                                                     | 0/20 [00:00<?, ?it/s]"
     ]
    },
    {
     "name": "stdout",
     "output_type": "stream",
     "text": [
      "Begin group  2 training\n"
     ]
    },
    {
     "name": "stderr",
     "output_type": "stream",
     "text": [
      "Epoch:  55%|█████████████████████████████████████████▎                                 | 11/20 [00:00<00:00, 101.37it/s]"
     ]
    },
    {
     "name": "stdout",
     "output_type": "stream",
     "text": [
      "Begin group  3 training\n"
     ]
    },
    {
     "name": "stderr",
     "output_type": "stream",
     "text": [
      "Epoch:   0%|                                                                                     | 0/20 [00:00<?, ?it/s]"
     ]
    },
    {
     "name": "stdout",
     "output_type": "stream",
     "text": [
      "Begin group  4 training\n"
     ]
    },
    {
     "name": "stderr",
     "output_type": "stream",
     "text": [
      "                                                                                                                        \r"
     ]
    },
    {
     "name": "stdout",
     "output_type": "stream",
     "text": [
      "Group 0, clients ['f_00174', 'f_00063', 'f_00133', 'f_00193', 'f_00072']\n",
      "Group 1, clients ['f_00017']\n",
      "Group 2, clients ['f_00041', 'f_00001', 'f_00171', 'f_00062']\n",
      "Group 3, clients ['f_00155', 'f_00036', 'f_00105', 'f_00096', 'f_00006']\n",
      "Group 4, clients ['f_00120', 'f_00129', 'f_00029', 'f_00149', 'f_00140']\n"
     ]
    },
    {
     "name": "stderr",
     "output_type": "stream",
     "text": [
      "Epoch:   0%|                                                                                     | 0/20 [00:00<?, ?it/s]"
     ]
    },
    {
     "name": "stdout",
     "output_type": "stream",
     "text": [
      "Group 0\n",
      "At round 117 accuracy: 0.9064039408866995\n",
      "At round 117 training accuracy: 0.9341265235055136\n",
      "At round 117 training loss: 0.27152173446617844\n",
      "Group 1\n",
      "At round 117 accuracy: 0.8765060240963856\n",
      "At round 117 training accuracy: 0.8891660727013543\n",
      "At round 117 training loss: 0.3490561067829664\n",
      "Group 2\n",
      "At round 117 accuracy: 0.8868686868686869\n",
      "At round 117 training accuracy: 0.8927068723702665\n",
      "At round 117 training loss: 0.3096708884325998\n",
      "Group 3\n",
      "At round 117 accuracy: 0.9093655589123867\n",
      "At round 117 training accuracy: 0.90304114490161\n",
      "At round 117 training loss: 0.30906966963986165\n",
      "Group 4\n",
      "At round 117 accuracy: 0.9111111111111111\n",
      "At round 117 training accuracy: 0.8801679586563308\n",
      "At round 117 training loss: 0.29218494265463\n",
      "At round 117 mean test accuracy: 0.8976091476091476 mean train accuracy: 0.9001887826563547\n",
      "The groups difference are: [17.83114475 17.87181431 17.8154915  17.78878162 17.95381631]\n",
      "Begin group  0 training\n"
     ]
    },
    {
     "name": "stderr",
     "output_type": "stream",
     "text": [
      "Epoch:   0%|                                                                                     | 0/20 [00:00<?, ?it/s]"
     ]
    },
    {
     "name": "stdout",
     "output_type": "stream",
     "text": [
      "Begin group  1 training\n",
      "Begin group  2 training\n"
     ]
    },
    {
     "name": "stderr",
     "output_type": "stream",
     "text": [
      "                                                                                                                        "
     ]
    },
    {
     "name": "stdout",
     "output_type": "stream",
     "text": [
      "Begin group  3 training\n"
     ]
    },
    {
     "name": "stderr",
     "output_type": "stream",
     "text": [
      "Epoch:   0%|                                                                                     | 0/20 [00:00<?, ?it/s]"
     ]
    },
    {
     "name": "stdout",
     "output_type": "stream",
     "text": [
      "Begin group  4 training\n"
     ]
    },
    {
     "name": "stderr",
     "output_type": "stream",
     "text": [
      "                                                                                                                        \r"
     ]
    },
    {
     "name": "stdout",
     "output_type": "stream",
     "text": [
      "Group 0, clients ['f_00063', 'f_00113', 'f_00103', 'f_00034', 'f_00193', 'f_00143']\n",
      "Group 1, clients ['f_00188', 'f_00187', 'f_00058', 'f_00137', 'f_00077']\n",
      "Group 2, clients ['f_00161', 'f_00032', 'f_00092', 'f_00061']\n",
      "Group 3, clients ['f_00135', 'f_00075', 'f_00116', 'f_00016']\n",
      "Group 4, clients ['f_00159']\n"
     ]
    },
    {
     "name": "stderr",
     "output_type": "stream",
     "text": [
      "Epoch:   0%|                                                                                     | 0/20 [00:00<?, ?it/s]"
     ]
    },
    {
     "name": "stdout",
     "output_type": "stream",
     "text": [
      "Group 0\n",
      "At round 118 accuracy: 0.8793103448275862\n",
      "At round 118 training accuracy: 0.9106210098665118\n",
      "At round 118 training loss: 0.2505638413131237\n",
      "Group 1\n",
      "At round 118 accuracy: 0.7560240963855421\n",
      "At round 118 training accuracy: 0.7836778332145403\n",
      "At round 118 training loss: 0.5613648489261005\n",
      "Group 2\n",
      "At round 118 accuracy: 0.8121212121212121\n",
      "At round 118 training accuracy: 0.8260869565217391\n",
      "At round 118 training loss: 0.5135993581228637\n",
      "Group 3\n",
      "At round 118 accuracy: 0.9335347432024169\n",
      "At round 118 training accuracy: 0.9295169946332738\n",
      "At round 118 training loss: 0.2646813532647432\n",
      "Group 4\n",
      "At round 118 accuracy: 0.9361111111111111\n",
      "At round 118 training accuracy: 0.9315245478036176\n",
      "At round 118 training loss: 0.2027555924132755\n",
      "At round 118 mean test accuracy: 0.8607068607068608 mean train accuracy: 0.8740636989221119\n",
      "The groups difference are: [17.83189183 17.8770916  17.81124193 17.79650135 17.9602149 ]\n",
      "Begin group  0 training\n"
     ]
    },
    {
     "name": "stderr",
     "output_type": "stream",
     "text": [
      "Epoch:   0%|                                                                                     | 0/20 [00:00<?, ?it/s]"
     ]
    },
    {
     "name": "stdout",
     "output_type": "stream",
     "text": [
      "Begin group  1 training\n"
     ]
    },
    {
     "name": "stderr",
     "output_type": "stream",
     "text": [
      "Epoch:   0%|                                                                                     | 0/20 [00:00<?, ?it/s]"
     ]
    },
    {
     "name": "stdout",
     "output_type": "stream",
     "text": [
      "Begin group  2 training\n"
     ]
    },
    {
     "name": "stderr",
     "output_type": "stream",
     "text": [
      "Epoch:  40%|██████████████████████████████▊                                              | 8/20 [00:00<00:00, 79.81it/s]"
     ]
    },
    {
     "name": "stdout",
     "output_type": "stream",
     "text": [
      "Begin group  3 training\n"
     ]
    },
    {
     "name": "stderr",
     "output_type": "stream",
     "text": [
      "                                                                                                                        "
     ]
    },
    {
     "name": "stdout",
     "output_type": "stream",
     "text": [
      "Begin group  4 training\n"
     ]
    },
    {
     "name": "stderr",
     "output_type": "stream",
     "text": [
      "\r"
     ]
    },
    {
     "name": "stdout",
     "output_type": "stream",
     "text": [
      "Group 0, clients ['f_00124']\n",
      "Group 1, clients ['f_00178', 'f_00088', 'f_00067', 'f_00027', 'f_00158', 'f_00077', 'f_00008']\n",
      "Group 2, clients ['f_00012', 'f_00112', 'f_00102', 'f_00011', 'f_00021']\n",
      "Group 3, clients ['f_00186', 'f_00035']\n",
      "Group 4, clients ['f_00150', 'f_00109', 'f_00130', 'f_00179', 'f_00090']\n"
     ]
    },
    {
     "name": "stderr",
     "output_type": "stream",
     "text": [
      "Epoch:  35%|██████████████████████████▉                                                  | 7/20 [00:00<00:00, 60.22it/s]"
     ]
    },
    {
     "name": "stdout",
     "output_type": "stream",
     "text": [
      "Group 0\n",
      "At round 119 accuracy: 0.8817733990147784\n",
      "At round 119 training accuracy: 0.9103308183401044\n",
      "At round 119 training loss: 0.25261129393959575\n",
      "Group 1\n",
      "At round 119 accuracy: 0.786144578313253\n",
      "At round 119 training accuracy: 0.8207412687099074\n",
      "At round 119 training loss: 0.5507486479719325\n",
      "Group 2\n",
      "At round 119 accuracy: 0.8848484848484849\n",
      "At round 119 training accuracy: 0.8915381019167835\n",
      "At round 119 training loss: 0.30232697603470843\n",
      "Group 3\n",
      "At round 119 accuracy: 0.8731117824773413\n",
      "At round 119 training accuracy: 0.8608228980322004\n",
      "At round 119 training loss: 0.3661484395821907\n",
      "Group 4\n",
      "At round 119 accuracy: 0.7694444444444445\n",
      "At round 119 training accuracy: 0.7793927648578811\n",
      "At round 119 training loss: 0.6431904297577126\n",
      "At round 119 mean test accuracy: 0.8435550935550935 mean train accuracy: 0.8570123622191097\n",
      "The groups difference are: [17.8542733  17.90491473 17.83670409 17.82588399 17.98905977]\n",
      "Begin group  0 training\n"
     ]
    },
    {
     "name": "stderr",
     "output_type": "stream",
     "text": [
      "Epoch:   0%|                                                                                     | 0/20 [00:00<?, ?it/s]"
     ]
    },
    {
     "name": "stdout",
     "output_type": "stream",
     "text": [
      "Begin group  1 training\n"
     ]
    },
    {
     "name": "stderr",
     "output_type": "stream",
     "text": [
      "Epoch:   0%|                                                                                     | 0/20 [00:00<?, ?it/s]"
     ]
    },
    {
     "name": "stdout",
     "output_type": "stream",
     "text": [
      "Begin group  2 training\n"
     ]
    },
    {
     "name": "stderr",
     "output_type": "stream",
     "text": [
      "Epoch:  65%|████████████████████████████████████████████████▊                          | 13/20 [00:00<00:00, 126.14it/s]"
     ]
    },
    {
     "name": "stdout",
     "output_type": "stream",
     "text": [
      "Begin group  3 training\n"
     ]
    },
    {
     "name": "stderr",
     "output_type": "stream",
     "text": [
      "Epoch:   0%|                                                                                     | 0/20 [00:00<?, ?it/s]"
     ]
    },
    {
     "name": "stdout",
     "output_type": "stream",
     "text": [
      "Begin group  4 training\n"
     ]
    },
    {
     "name": "stderr",
     "output_type": "stream",
     "text": [
      "                                                                                                                        \r"
     ]
    },
    {
     "name": "stdout",
     "output_type": "stream",
     "text": [
      "Group 0, clients ['f_00163', 'f_00074']\n",
      "Group 1, clients ['f_00087', 'f_00118', 'f_00198', 'f_00108', 'f_00178']\n",
      "Group 2, clients ['f_00062', 'f_00101', 'f_00032', 'f_00161']\n",
      "Group 3, clients ['f_00035', 'f_00125', 'f_00046', 'f_00136', 'f_00006']\n",
      "Group 4, clients ['f_00080', 'f_00199', 'f_00160', 'f_00039']\n"
     ]
    },
    {
     "name": "stderr",
     "output_type": "stream",
     "text": [
      "                                                                                                                        "
     ]
    },
    {
     "name": "stdout",
     "output_type": "stream",
     "text": [
      "Group 0\n",
      "At round 120 accuracy: 0.8719211822660099\n",
      "At round 120 training accuracy: 0.8743470690655832\n",
      "At round 120 training loss: 0.3890536103405175\n",
      "Group 1\n",
      "At round 120 accuracy: 0.7650602409638554\n",
      "At round 120 training accuracy: 0.796863863150392\n",
      "At round 120 training loss: 0.5632634472688733\n",
      "Group 2\n",
      "At round 120 accuracy: 0.8888888888888888\n",
      "At round 120 training accuracy: 0.8999532491818607\n",
      "At round 120 training loss: 0.28108715062744155\n",
      "Group 3\n",
      "At round 120 accuracy: 0.8942598187311178\n",
      "At round 120 training accuracy: 0.8801431127012522\n",
      "At round 120 training loss: 0.3417924964144053\n",
      "Group 4\n",
      "At round 120 accuracy: 0.9666666666666667\n",
      "At round 120 training accuracy: 0.9476744186046512\n",
      "At round 120 training loss: 0.17407083137860901\n",
      "At round 120 mean test accuracy: 0.8794178794178794 mean train accuracy: 0.882589367273613\n",
      "The groups difference are: [17.90783033 17.96275783 17.88899372 17.87114983 18.04095672]\n",
      "Begin group  0 training\n"
     ]
    },
    {
     "name": "stderr",
     "output_type": "stream",
     "text": [
      "Epoch:  20%|███████████████▍                                                             | 4/20 [00:00<00:00, 36.94it/s]"
     ]
    },
    {
     "name": "stdout",
     "output_type": "stream",
     "text": [
      "Begin group  1 training\n"
     ]
    },
    {
     "name": "stderr",
     "output_type": "stream",
     "text": [
      "Epoch:   5%|███▊                                                                         | 1/20 [00:00<00:03,  5.63it/s]"
     ]
    },
    {
     "name": "stdout",
     "output_type": "stream",
     "text": [
      "Begin group  2 training\n"
     ]
    },
    {
     "name": "stderr",
     "output_type": "stream",
     "text": [
      "Epoch:  55%|█████████████████████████████████████████▎                                 | 11/20 [00:00<00:00, 100.05it/s]"
     ]
    },
    {
     "name": "stdout",
     "output_type": "stream",
     "text": [
      "Begin group  3 training\n"
     ]
    },
    {
     "name": "stderr",
     "output_type": "stream",
     "text": [
      "Epoch:  25%|███████████████████▎                                                         | 5/20 [00:00<00:00, 43.69it/s]"
     ]
    },
    {
     "name": "stdout",
     "output_type": "stream",
     "text": [
      "Begin group  4 training\n"
     ]
    },
    {
     "name": "stderr",
     "output_type": "stream",
     "text": [
      "                                                                                                                        \r"
     ]
    },
    {
     "name": "stdout",
     "output_type": "stream",
     "text": [
      "Group 0, clients ['f_00144', 'f_00024', 'f_00143']\n",
      "Group 1, clients ['f_00128', 'f_00027', 'f_00178', 'f_00197', 'f_00049', 'f_00147', 'f_00107']\n",
      "Group 2, clients ['f_00142', 'f_00032']\n",
      "Group 3, clients ['f_00155', 'f_00146', 'f_00136', 'f_00056']\n",
      "Group 4, clients ['f_00070', 'f_00079', 'f_00090', 'f_00189']\n"
     ]
    },
    {
     "name": "stderr",
     "output_type": "stream",
     "text": [
      "Epoch:   0%|                                                                                     | 0/20 [00:00<?, ?it/s]"
     ]
    },
    {
     "name": "stdout",
     "output_type": "stream",
     "text": [
      "Group 0\n",
      "At round 121 accuracy: 0.9039408866995073\n",
      "At round 121 training accuracy: 0.934416715031921\n",
      "At round 121 training loss: 0.2802454290659671\n",
      "Group 1\n",
      "At round 121 accuracy: 0.7228915662650602\n",
      "At round 121 training accuracy: 0.6928011404133999\n",
      "At round 121 training loss: 0.7685234109716422\n",
      "Group 2\n",
      "At round 121 accuracy: 0.8585858585858586\n",
      "At round 121 training accuracy: 0.868630201028518\n",
      "At round 121 training loss: 0.4064135757797842\n",
      "Group 3\n",
      "At round 121 accuracy: 0.9305135951661632\n",
      "At round 121 training accuracy: 0.9366726296958855\n",
      "At round 121 training loss: 0.251097788547094\n",
      "Group 4\n",
      "At round 121 accuracy: 0.9361111111111111\n",
      "At round 121 training accuracy: 0.911498708010336\n",
      "At round 121 training loss: 0.23450269410266356\n",
      "At round 121 mean test accuracy: 0.8716216216216216 mean train accuracy: 0.8720540770964009\n",
      "The groups difference are: [17.9452092  18.00481842 17.92131843 17.90991414 18.08512854]\n",
      "Begin group  0 training\n"
     ]
    },
    {
     "name": "stderr",
     "output_type": "stream",
     "text": [
      "Epoch:   0%|                                                                                     | 0/20 [00:00<?, ?it/s]"
     ]
    },
    {
     "name": "stdout",
     "output_type": "stream",
     "text": [
      "Begin group  1 training\n"
     ]
    },
    {
     "name": "stderr",
     "output_type": "stream",
     "text": [
      "                                                                                                                        "
     ]
    },
    {
     "name": "stdout",
     "output_type": "stream",
     "text": [
      "Begin group  2 training\n",
      "Begin group  3 training\n"
     ]
    },
    {
     "name": "stderr",
     "output_type": "stream",
     "text": [
      "Epoch:  25%|███████████████████▎                                                         | 5/20 [00:00<00:00, 48.81it/s]"
     ]
    },
    {
     "name": "stdout",
     "output_type": "stream",
     "text": [
      "Begin group  4 training\n"
     ]
    },
    {
     "name": "stderr",
     "output_type": "stream",
     "text": [
      "                                                                                                                        \r"
     ]
    },
    {
     "name": "stdout",
     "output_type": "stream",
     "text": [
      "Group 0, clients ['f_00043', 'f_00064', 'f_00103', 'f_00113', 'f_00023']\n",
      "Group 1, clients ['f_00018', 'f_00007']\n",
      "Group 2, clients ['f_00002', 'f_00022', 'f_00122', 'f_00131', 'f_00191']\n",
      "Group 3, clients ['f_00095', 'f_00035', 'f_00075']\n",
      "Group 4, clients ['f_00030', 'f_00120', 'f_00160', 'f_00199', 'f_00040']\n"
     ]
    },
    {
     "name": "stderr",
     "output_type": "stream",
     "text": [
      "Epoch:   0%|                                                                                     | 0/20 [00:00<?, ?it/s]"
     ]
    },
    {
     "name": "stdout",
     "output_type": "stream",
     "text": [
      "Group 0\n",
      "At round 122 accuracy: 0.9187192118226601\n",
      "At round 122 training accuracy: 0.936448055716773\n",
      "At round 122 training loss: 0.2493302401780079\n",
      "Group 1\n",
      "At round 122 accuracy: 0.8524096385542169\n",
      "At round 122 training accuracy: 0.8766928011404134\n",
      "At round 122 training loss: 0.3929801693190147\n",
      "Group 2\n",
      "At round 122 accuracy: 0.8666666666666667\n",
      "At round 122 training accuracy: 0.8744740532959326\n",
      "At round 122 training loss: 0.37874308604853296\n",
      "Group 3\n",
      "At round 122 accuracy: 0.8821752265861027\n",
      "At round 122 training accuracy: 0.8844364937388193\n",
      "At round 122 training loss: 0.3796980043546645\n",
      "Group 4\n",
      "At round 122 accuracy: 0.9388888888888889\n",
      "At round 122 training accuracy: 0.9127906976744186\n",
      "At round 122 training loss: 0.24034639827194756\n",
      "At round 122 mean test accuracy: 0.8913721413721414 mean train accuracy: 0.8967785153157543\n",
      "The groups difference are: [17.96811127 18.03064897 17.9444036  17.93356241 18.11713313]\n",
      "Begin group  0 training\n"
     ]
    },
    {
     "name": "stderr",
     "output_type": "stream",
     "text": [
      "                                                                                                                        "
     ]
    },
    {
     "name": "stdout",
     "output_type": "stream",
     "text": [
      "Begin group  1 training\n"
     ]
    },
    {
     "name": "stderr",
     "output_type": "stream",
     "text": [
      "Epoch:  40%|██████████████████████████████▊                                              | 8/20 [00:00<00:00, 79.51it/s]"
     ]
    },
    {
     "name": "stdout",
     "output_type": "stream",
     "text": [
      "Begin group  2 training\n"
     ]
    },
    {
     "name": "stderr",
     "output_type": "stream",
     "text": [
      "Epoch:  65%|████████████████████████████████████████████████▊                          | 13/20 [00:00<00:00, 121.03it/s]"
     ]
    },
    {
     "name": "stdout",
     "output_type": "stream",
     "text": [
      "Begin group  3 training\n"
     ]
    },
    {
     "name": "stderr",
     "output_type": "stream",
     "text": [
      "Epoch:  65%|████████████████████████████████████████████████▊                          | 13/20 [00:00<00:00, 126.37it/s]"
     ]
    },
    {
     "name": "stdout",
     "output_type": "stream",
     "text": [
      "Begin group  4 training\n"
     ]
    },
    {
     "name": "stderr",
     "output_type": "stream",
     "text": [
      "                                                                                                                        \r"
     ]
    },
    {
     "name": "stdout",
     "output_type": "stream",
     "text": [
      "Group 0, clients ['f_00104', 'f_00053', 'f_00004']\n",
      "Group 1, clients ['f_00127', 'f_00158', 'f_00108', 'f_00178']\n",
      "Group 2, clients ['f_00162', 'f_00082', 'f_00182', 'f_00031', 'f_00121']\n",
      "Group 3, clients ['f_00037', 'f_00185']\n",
      "Group 4, clients ['f_00050', 'f_00149', 'f_00019', 'f_00179', 'f_00189', 'f_00020']\n"
     ]
    },
    {
     "name": "stderr",
     "output_type": "stream",
     "text": [
      "Epoch:   0%|                                                                                     | 0/20 [00:00<?, ?it/s]"
     ]
    },
    {
     "name": "stdout",
     "output_type": "stream",
     "text": [
      "Group 0\n",
      "At round 123 accuracy: 0.8817733990147784\n",
      "At round 123 training accuracy: 0.916134648868253\n",
      "At round 123 training loss: 0.3064922182474802\n",
      "Group 1\n",
      "At round 123 accuracy: 0.8885542168674698\n",
      "At round 123 training accuracy: 0.8966500356379188\n",
      "At round 123 training loss: 0.36287957395898895\n",
      "Group 2\n",
      "At round 123 accuracy: 0.8787878787878788\n",
      "At round 123 training accuracy: 0.8892005610098177\n",
      "At round 123 training loss: 0.3149746797174257\n",
      "Group 3\n",
      "At round 123 accuracy: 0.8338368580060423\n",
      "At round 123 training accuracy: 0.8368515205724508\n",
      "At round 123 training loss: 0.4434647805935475\n",
      "Group 4\n",
      "At round 123 accuracy: 0.9555555555555556\n",
      "At round 123 training accuracy: 0.937984496124031\n",
      "At round 123 training loss: 0.1989222966021442\n",
      "At round 123 mean test accuracy: 0.8877338877338877 mean train accuracy: 0.8964131295292613\n",
      "The groups difference are: [18.00107333 18.069329   17.97992293 17.97488721 18.15968511]\n",
      "Begin group  0 training\n"
     ]
    },
    {
     "name": "stderr",
     "output_type": "stream",
     "text": [
      "Epoch:  55%|█████████████████████████████████████████▎                                 | 11/20 [00:00<00:00, 104.75it/s]"
     ]
    },
    {
     "name": "stdout",
     "output_type": "stream",
     "text": [
      "Begin group  1 training\n"
     ]
    },
    {
     "name": "stderr",
     "output_type": "stream",
     "text": [
      "Epoch:   0%|                                                                                     | 0/20 [00:00<?, ?it/s]"
     ]
    },
    {
     "name": "stdout",
     "output_type": "stream",
     "text": [
      "Begin group  2 training\n"
     ]
    },
    {
     "name": "stderr",
     "output_type": "stream",
     "text": [
      "Epoch:  35%|██████████████████████████▉                                                  | 7/20 [00:00<00:00, 64.18it/s]"
     ]
    },
    {
     "name": "stdout",
     "output_type": "stream",
     "text": [
      "Begin group  3 training\n"
     ]
    },
    {
     "name": "stderr",
     "output_type": "stream",
     "text": [
      "Epoch:  90%|███████████████████████████████████████████████████████████████████▌       | 18/20 [00:00<00:00, 176.03it/s]"
     ]
    },
    {
     "name": "stdout",
     "output_type": "stream",
     "text": [
      "Begin group  4 training\n"
     ]
    },
    {
     "name": "stderr",
     "output_type": "stream",
     "text": [
      "                                                                                                                        \r"
     ]
    },
    {
     "name": "stdout",
     "output_type": "stream",
     "text": [
      "Group 0, clients ['f_00183', 'f_00184', 'f_00034']\n",
      "Group 1, clients ['f_00027', 'f_00108', 'f_00127']\n",
      "Group 2, clients ['f_00152', 'f_00091', 'f_00151', 'f_00121']\n",
      "Group 3, clients ['f_00005', 'f_00186', 'f_00056', 'f_00016', 'f_00075', 'f_00086']\n",
      "Group 4, clients ['f_00080', 'f_00100', 'f_00119', 'f_00110']\n"
     ]
    },
    {
     "name": "stderr",
     "output_type": "stream",
     "text": [
      "Epoch:   0%|                                                                                     | 0/20 [00:00<?, ?it/s]"
     ]
    },
    {
     "name": "stdout",
     "output_type": "stream",
     "text": [
      "Group 0\n",
      "At round 124 accuracy: 0.8694581280788177\n",
      "At round 124 training accuracy: 0.8859547301218804\n",
      "At round 124 training loss: 0.3895055968417109\n",
      "Group 1\n",
      "At round 124 accuracy: 0.8132530120481928\n",
      "At round 124 training accuracy: 0.8011404133998574\n",
      "At round 124 training loss: 0.5689171331132087\n",
      "Group 2\n",
      "At round 124 accuracy: 0.8626262626262626\n",
      "At round 124 training accuracy: 0.8672276764843385\n",
      "At round 124 training loss: 0.3497156249859961\n",
      "Group 3\n",
      "At round 124 accuracy: 0.9154078549848943\n",
      "At round 124 training accuracy: 0.9409660107334525\n",
      "At round 124 training loss: 0.23140203208264384\n",
      "Group 4\n",
      "At round 124 accuracy: 0.9277777777777778\n",
      "At round 124 training accuracy: 0.91343669250646\n",
      "At round 124 training loss: 0.2672214849661911\n",
      "At round 124 mean test accuracy: 0.8768191268191268 mean train accuracy: 0.8811278241276415\n",
      "The groups difference are: [18.05074508 18.10247871 18.02533384 18.00707542 18.19213176]\n",
      "Begin group  0 training\n"
     ]
    },
    {
     "name": "stderr",
     "output_type": "stream",
     "text": [
      "Epoch:  50%|██████████████████████████████████████                                      | 10/20 [00:00<00:00, 97.70it/s]"
     ]
    },
    {
     "name": "stdout",
     "output_type": "stream",
     "text": [
      "Begin group  1 training\n"
     ]
    },
    {
     "name": "stderr",
     "output_type": "stream",
     "text": [
      "Epoch:  35%|██████████████████████████▉                                                  | 7/20 [00:00<00:00, 62.08it/s]"
     ]
    },
    {
     "name": "stdout",
     "output_type": "stream",
     "text": [
      "Begin group  2 training\n"
     ]
    },
    {
     "name": "stderr",
     "output_type": "stream",
     "text": [
      "Epoch:  20%|███████████████▍                                                             | 4/20 [00:00<00:00, 39.20it/s]"
     ]
    },
    {
     "name": "stdout",
     "output_type": "stream",
     "text": [
      "Begin group  3 training\n"
     ]
    },
    {
     "name": "stderr",
     "output_type": "stream",
     "text": [
      "Epoch:  30%|███████████████████████                                                      | 6/20 [00:00<00:00, 59.60it/s]"
     ]
    },
    {
     "name": "stdout",
     "output_type": "stream",
     "text": [
      "Begin group  4 training\n"
     ]
    },
    {
     "name": "stderr",
     "output_type": "stream",
     "text": [
      "                                                                                                                        \r"
     ]
    },
    {
     "name": "stdout",
     "output_type": "stream",
     "text": [
      "Group 0, clients ['f_00123', 'f_00193', 'f_00074', 'f_00053']\n",
      "Group 1, clients ['f_00057', 'f_00138', 'f_00098']\n",
      "Group 2, clients ['f_00101', 'f_00011', 'f_00071', 'f_00002', 'f_00001', 'f_00052']\n",
      "Group 3, clients ['f_00135', 'f_00046']\n",
      "Group 4, clients ['f_00109', 'f_00149', 'f_00090', 'f_00150', 'f_00079']\n"
     ]
    },
    {
     "name": "stderr",
     "output_type": "stream",
     "text": [
      "Epoch:  20%|███████████████▍                                                             | 4/20 [00:00<00:00, 35.77it/s]"
     ]
    },
    {
     "name": "stdout",
     "output_type": "stream",
     "text": [
      "Group 0\n",
      "At round 125 accuracy: 0.9113300492610837\n",
      "At round 125 training accuracy: 0.9318049912942542\n",
      "At round 125 training loss: 0.2775628879207964\n",
      "Group 1\n",
      "At round 125 accuracy: 0.8253012048192772\n",
      "At round 125 training accuracy: 0.8104062722736992\n",
      "At round 125 training loss: 0.5035537097945607\n",
      "Group 2\n",
      "At round 125 accuracy: 0.8666666666666667\n",
      "At round 125 training accuracy: 0.87260402057036\n",
      "At round 125 training loss: 0.34866359572798405\n",
      "Group 3\n",
      "At round 125 accuracy: 0.9154078549848943\n",
      "At round 125 training accuracy: 0.9252236135957066\n",
      "At round 125 training loss: 0.2308232184006351\n",
      "Group 4\n",
      "At round 125 accuracy: 0.9416666666666667\n",
      "At round 125 training accuracy: 0.9085917312661499\n",
      "At round 125 training loss: 0.23736852991758084\n",
      "At round 125 mean test accuracy: 0.8913721413721414 mean train accuracy: 0.8901406735277998\n",
      "The groups difference are: [18.09739153 18.16062842 18.08283591 18.06397166 18.24672884]\n",
      "Begin group  0 training\n"
     ]
    },
    {
     "name": "stderr",
     "output_type": "stream",
     "text": [
      "Epoch:   0%|                                                                                     | 0/20 [00:00<?, ?it/s]"
     ]
    },
    {
     "name": "stdout",
     "output_type": "stream",
     "text": [
      "Begin group  1 training\n"
     ]
    },
    {
     "name": "stderr",
     "output_type": "stream",
     "text": [
      "Epoch:   0%|                                                                                     | 0/20 [00:00<?, ?it/s]"
     ]
    },
    {
     "name": "stdout",
     "output_type": "stream",
     "text": [
      "Begin group  2 training\n"
     ]
    },
    {
     "name": "stderr",
     "output_type": "stream",
     "text": [
      "Epoch:  40%|██████████████████████████████▊                                              | 8/20 [00:00<00:00, 74.83it/s]"
     ]
    },
    {
     "name": "stdout",
     "output_type": "stream",
     "text": [
      "Begin group  3 training\n"
     ]
    },
    {
     "name": "stderr",
     "output_type": "stream",
     "text": [
      "Epoch:   0%|                                                                                     | 0/20 [00:00<?, ?it/s]"
     ]
    },
    {
     "name": "stdout",
     "output_type": "stream",
     "text": [
      "Begin group  4 training\n"
     ]
    },
    {
     "name": "stderr",
     "output_type": "stream",
     "text": [
      "                                                                                                                        \r"
     ]
    },
    {
     "name": "stdout",
     "output_type": "stream",
     "text": [
      "Group 0, clients ['f_00074', 'f_00113', 'f_00134', 'f_00103']\n",
      "Group 1 is empty.\n",
      "Group 2, clients ['f_00171', 'f_00121', 'f_00002', 'f_00051', 'f_00142']\n",
      "Group 3, clients ['f_00055', 'f_00046', 'f_00036', 'f_00096', 'f_00076', 'f_00195', 'f_00166']\n",
      "Group 4, clients ['f_00199', 'f_00079', 'f_00119', 'f_00159']\n"
     ]
    },
    {
     "name": "stderr",
     "output_type": "stream",
     "text": [
      "Epoch:   0%|                                                                                     | 0/20 [00:00<?, ?it/s]"
     ]
    },
    {
     "name": "stdout",
     "output_type": "stream",
     "text": [
      "Group 0\n",
      "At round 126 accuracy: 0.8719211822660099\n",
      "At round 126 training accuracy: 0.8807312826465468\n",
      "At round 126 training loss: 0.42582866999586083\n",
      "Group 1\n",
      "At round 126 accuracy: 0.8192771084337349\n",
      "At round 126 training accuracy: 0.7875980042765502\n",
      "At round 126 training loss: 0.8134755385124888\n",
      "Group 2\n",
      "At round 126 accuracy: 0.9111111111111111\n",
      "At round 126 training accuracy: 0.9135109864422627\n",
      "At round 126 training loss: 0.24475722745942172\n",
      "Group 3\n",
      "At round 126 accuracy: 0.8761329305135952\n",
      "At round 126 training accuracy: 0.8618962432915921\n",
      "At round 126 training loss: 0.3398159301778125\n",
      "Group 4\n",
      "At round 126 accuracy: 0.9333333333333333\n",
      "At round 126 training accuracy: 0.9085917312661499\n",
      "At round 126 training loss: 0.24236244435641116\n",
      "At round 126 mean test accuracy: 0.8851351351351351 mean train accuracy: 0.8754034468059192\n",
      "The groups difference are: [18.15250586 18.21860557 18.13852528 18.12180358 18.29977687]\n",
      "Begin group  0 training\n"
     ]
    },
    {
     "name": "stderr",
     "output_type": "stream",
     "text": [
      "Epoch:   0%|                                                                                     | 0/20 [00:00<?, ?it/s]"
     ]
    },
    {
     "name": "stdout",
     "output_type": "stream",
     "text": [
      "Begin group  2 training\n"
     ]
    },
    {
     "name": "stderr",
     "output_type": "stream",
     "text": [
      "Epoch:   0%|                                                                                     | 0/20 [00:00<?, ?it/s]"
     ]
    },
    {
     "name": "stdout",
     "output_type": "stream",
     "text": [
      "Begin group  3 training\n"
     ]
    },
    {
     "name": "stderr",
     "output_type": "stream",
     "text": [
      "Epoch:  30%|███████████████████████                                                      | 6/20 [00:00<00:00, 55.55it/s]"
     ]
    },
    {
     "name": "stdout",
     "output_type": "stream",
     "text": [
      "Begin group  4 training\n"
     ]
    },
    {
     "name": "stderr",
     "output_type": "stream",
     "text": [
      "                                                                                                                        \r"
     ]
    },
    {
     "name": "stdout",
     "output_type": "stream",
     "text": [
      "Group 0, clients ['f_00134', 'f_00163']\n",
      "Group 1, clients ['f_00176', 'f_00147', 'f_00028', 'f_00158', 'f_00138', 'f_00058']\n",
      "Group 2, clients ['f_00061', 'f_00022']\n",
      "Group 3, clients ['f_00045', 'f_00026', 'f_00075', 'f_00186']\n",
      "Group 4, clients ['f_00168', 'f_00129', 'f_00159', 'f_00120', 'f_00000', 'f_00010']\n"
     ]
    },
    {
     "name": "stderr",
     "output_type": "stream",
     "text": [
      "Epoch:  55%|█████████████████████████████████████████▎                                 | 11/20 [00:00<00:00, 107.13it/s]"
     ]
    },
    {
     "name": "stdout",
     "output_type": "stream",
     "text": [
      "Group 0\n",
      "At round 127 accuracy: 0.9236453201970444\n",
      "At round 127 training accuracy: 0.9332559489262914\n",
      "At round 127 training loss: 0.2630196429877712\n",
      "Group 1\n",
      "At round 127 accuracy: 0.8192771084337349\n",
      "At round 127 training accuracy: 0.7875980042765502\n",
      "At round 127 training loss: 0.8124219190597491\n",
      "Group 2\n",
      "At round 127 accuracy: 0.8888888888888888\n",
      "At round 127 training accuracy: 0.8973819541841982\n",
      "At round 127 training loss: 0.29100803100965944\n",
      "Group 3\n",
      "At round 127 accuracy: 0.8972809667673716\n",
      "At round 127 training accuracy: 0.8923076923076924\n",
      "At round 127 training loss: 0.3262504409278921\n",
      "Group 4\n",
      "At round 127 accuracy: 0.7722222222222223\n",
      "At round 127 training accuracy: 0.7845607235142119\n",
      "At round 127 training loss: 0.6675329339072031\n",
      "At round 127 mean test accuracy: 0.8638253638253638 mean train accuracy: 0.8640155897935571\n",
      "The groups difference are: [18.17053979 18.22670739 18.16282783 18.13782064 18.32003567]\n",
      "Begin group  0 training\n"
     ]
    },
    {
     "name": "stderr",
     "output_type": "stream",
     "text": [
      "Epoch:   0%|                                                                                     | 0/20 [00:00<?, ?it/s]"
     ]
    },
    {
     "name": "stdout",
     "output_type": "stream",
     "text": [
      "Begin group  1 training\n"
     ]
    },
    {
     "name": "stderr",
     "output_type": "stream",
     "text": [
      "Epoch:   0%|                                                                                     | 0/20 [00:00<?, ?it/s]"
     ]
    },
    {
     "name": "stdout",
     "output_type": "stream",
     "text": [
      "Begin group  2 training\n",
      "Begin group  3 training\n"
     ]
    },
    {
     "name": "stderr",
     "output_type": "stream",
     "text": [
      "Epoch:  90%|███████████████████████████████████████████████████████████████████▌       | 18/20 [00:00<00:00, 172.02it/s]"
     ]
    },
    {
     "name": "stdout",
     "output_type": "stream",
     "text": [
      "Begin group  4 training\n"
     ]
    },
    {
     "name": "stderr",
     "output_type": "stream",
     "text": [
      "                                                                                                                        \r"
     ]
    },
    {
     "name": "stdout",
     "output_type": "stream",
     "text": [
      "Group 0, clients ['f_00043', 'f_00073']\n",
      "Group 1, clients ['f_00059', 'f_00118', 'f_00187']\n",
      "Group 2, clients ['f_00151', 'f_00192', 'f_00122', 'f_00021']\n",
      "Group 3, clients ['f_00037', 'f_00146', 'f_00076', 'f_00116', 'f_00136', 'f_00165', 'f_00106', 'f_00155']\n",
      "Group 4, clients ['f_00109', 'f_00090', 'f_00159']\n"
     ]
    },
    {
     "name": "stderr",
     "output_type": "stream",
     "text": [
      "Epoch:   0%|                                                                                     | 0/20 [00:00<?, ?it/s]"
     ]
    },
    {
     "name": "stdout",
     "output_type": "stream",
     "text": [
      "Group 0\n",
      "At round 128 accuracy: 0.9113300492610837\n",
      "At round 128 training accuracy: 0.941091120139292\n",
      "At round 128 training loss: 0.28118672174116727\n",
      "Group 1\n",
      "At round 128 accuracy: 0.7981927710843374\n",
      "At round 128 training accuracy: 0.7665716322166786\n",
      "At round 128 training loss: 0.668000279675508\n",
      "Group 2\n",
      "At round 128 accuracy: 0.9090909090909091\n",
      "At round 128 training accuracy: 0.9125759700794764\n",
      "At round 128 training loss: 0.24669109681789259\n",
      "Group 3\n",
      "At round 128 accuracy: 0.9274924471299094\n",
      "At round 128 training accuracy: 0.9341681574239714\n",
      "At round 128 training loss: 0.2400820192862602\n",
      "Group 4\n",
      "At round 128 accuracy: 0.9111111111111111\n",
      "At round 128 training accuracy: 0.876937984496124\n",
      "At round 128 training loss: 0.28868763245526674\n",
      "At round 128 mean test accuracy: 0.893970893970894 mean train accuracy: 0.8905669569453748\n",
      "The groups difference are: [18.18967263 18.24817084 18.18106734 18.15917274 18.34450497]\n",
      "Begin group  0 training\n"
     ]
    },
    {
     "name": "stderr",
     "output_type": "stream",
     "text": [
      "Epoch:  25%|███████████████████▎                                                         | 5/20 [00:00<00:00, 49.18it/s]"
     ]
    },
    {
     "name": "stdout",
     "output_type": "stream",
     "text": [
      "Begin group  1 training\n"
     ]
    },
    {
     "name": "stderr",
     "output_type": "stream",
     "text": [
      "Epoch:   0%|                                                                                     | 0/20 [00:00<?, ?it/s]"
     ]
    },
    {
     "name": "stdout",
     "output_type": "stream",
     "text": [
      "Begin group  2 training\n"
     ]
    },
    {
     "name": "stderr",
     "output_type": "stream",
     "text": [
      "Epoch:  45%|██████████████████████████████████▋                                          | 9/20 [00:00<00:00, 82.53it/s]"
     ]
    },
    {
     "name": "stdout",
     "output_type": "stream",
     "text": [
      "Begin group  3 training\n"
     ]
    },
    {
     "name": "stderr",
     "output_type": "stream",
     "text": [
      "Epoch:  35%|██████████████████████████▉                                                  | 7/20 [00:00<00:00, 62.54it/s]"
     ]
    },
    {
     "name": "stdout",
     "output_type": "stream",
     "text": [
      "Begin group  4 training\n"
     ]
    },
    {
     "name": "stderr",
     "output_type": "stream",
     "text": [
      "                                                                                                                        \r"
     ]
    },
    {
     "name": "stdout",
     "output_type": "stream",
     "text": [
      "Group 0, clients ['f_00004', 'f_00193', 'f_00094', 'f_00043']\n",
      "Group 1, clients ['f_00088', 'f_00138', 'f_00107', 'f_00068']\n",
      "Group 2, clients ['f_00112', 'f_00132', 'f_00022', 'f_00162', 'f_00191', 'f_00041', 'f_00151']\n",
      "Group 3, clients ['f_00115', 'f_00055', 'f_00026']\n",
      "Group 4, clients ['f_00010', 'f_00100']\n"
     ]
    },
    {
     "name": "stderr",
     "output_type": "stream",
     "text": [
      "Epoch:  60%|█████████████████████████████████████████████                              | 12/20 [00:00<00:00, 113.41it/s]"
     ]
    },
    {
     "name": "stdout",
     "output_type": "stream",
     "text": [
      "Group 0\n",
      "At round 129 accuracy: 0.8522167487684729\n",
      "At round 129 training accuracy: 0.859257109692397\n",
      "At round 129 training loss: 0.47127292782135277\n",
      "Group 1\n",
      "At round 129 accuracy: 0.7831325301204819\n",
      "At round 129 training accuracy: 0.7558802565930149\n",
      "At round 129 training loss: 0.8680445556279939\n",
      "Group 2\n",
      "At round 129 accuracy: 0.8626262626262626\n",
      "At round 129 training accuracy: 0.8747078073866292\n",
      "At round 129 training loss: 0.31509982438365286\n",
      "Group 3\n",
      "At round 129 accuracy: 0.8942598187311178\n",
      "At round 129 training accuracy: 0.8940966010733452\n",
      "At round 129 training loss: 0.3076031543514383\n",
      "Group 4\n",
      "At round 129 accuracy: 0.95\n",
      "At round 129 training accuracy: 0.9412144702842378\n",
      "At round 129 training loss: 0.18095105048509685\n",
      "At round 129 mean test accuracy: 0.8685031185031185 mean train accuracy: 0.8669995737165824\n",
      "The groups difference are: [18.23316523 18.28761086 18.21515818 18.19663285 18.38221683]\n",
      "Begin group  0 training\n"
     ]
    },
    {
     "name": "stderr",
     "output_type": "stream",
     "text": [
      "                                                                                                                        "
     ]
    },
    {
     "name": "stdout",
     "output_type": "stream",
     "text": [
      "Begin group  1 training\n"
     ]
    },
    {
     "name": "stderr",
     "output_type": "stream",
     "text": [
      "Epoch:   0%|                                                                                     | 0/20 [00:00<?, ?it/s]"
     ]
    },
    {
     "name": "stdout",
     "output_type": "stream",
     "text": [
      "Begin group  2 training\n"
     ]
    },
    {
     "name": "stderr",
     "output_type": "stream",
     "text": [
      "Epoch:   0%|                                                                                     | 0/20 [00:00<?, ?it/s]"
     ]
    },
    {
     "name": "stdout",
     "output_type": "stream",
     "text": [
      "Begin group  3 training\n"
     ]
    },
    {
     "name": "stderr",
     "output_type": "stream",
     "text": [
      "Epoch:  35%|██████████████████████████▉                                                  | 7/20 [00:00<00:00, 62.05it/s]"
     ]
    },
    {
     "name": "stdout",
     "output_type": "stream",
     "text": [
      "Begin group  4 training\n"
     ]
    },
    {
     "name": "stderr",
     "output_type": "stream",
     "text": [
      "                                                                                                                        \r"
     ]
    },
    {
     "name": "stdout",
     "output_type": "stream",
     "text": [
      "Group 0, clients ['f_00113', 'f_00174', 'f_00123', 'f_00134']\n",
      "Group 1, clients ['f_00018', 'f_00158', 'f_00138', 'f_00047', 'f_00127', 'f_00007', 'f_00176']\n",
      "Group 2, clients ['f_00041', 'f_00132', 'f_00042', 'f_00131']\n",
      "Group 3, clients ['f_00166', 'f_00175']\n",
      "Group 4, clients ['f_00009', 'f_00030', 'f_00140']\n"
     ]
    },
    {
     "name": "stderr",
     "output_type": "stream",
     "text": [
      "Epoch:   0%|                                                                                     | 0/20 [00:00<?, ?it/s]"
     ]
    },
    {
     "name": "stdout",
     "output_type": "stream",
     "text": [
      "Group 0\n",
      "At round 130 accuracy: 0.9211822660098522\n",
      "At round 130 training accuracy: 0.9312246082414394\n",
      "At round 130 training loss: 0.29868183111057367\n",
      "Group 1\n",
      "At round 130 accuracy: 0.8253012048192772\n",
      "At round 130 training accuracy: 0.7908054169636494\n",
      "At round 130 training loss: 0.5652309089012215\n",
      "Group 2\n",
      "At round 130 accuracy: 0.901010101010101\n",
      "At round 130 training accuracy: 0.9039270687237027\n",
      "At round 130 training loss: 0.2788755500487994\n",
      "Group 3\n",
      "At round 130 accuracy: 0.9425981873111783\n",
      "At round 130 training accuracy: 0.9316636851520572\n",
      "At round 130 training loss: 0.24180993196789397\n",
      "Group 4\n",
      "At round 130 accuracy: 0.8694444444444445\n",
      "At round 130 training accuracy: 0.8704780361757106\n",
      "At round 130 training loss: 0.34828943419161923\n",
      "At round 130 mean test accuracy: 0.8934511434511434 mean train accuracy: 0.8887400280129103\n",
      "The groups difference are: [18.26587621 18.32603977 18.24597831 18.22554145 18.42216151]\n",
      "Begin group  0 training\n"
     ]
    },
    {
     "name": "stderr",
     "output_type": "stream",
     "text": [
      "Epoch:   0%|                                                                                     | 0/20 [00:00<?, ?it/s]"
     ]
    },
    {
     "name": "stdout",
     "output_type": "stream",
     "text": [
      "Begin group  1 training\n"
     ]
    },
    {
     "name": "stderr",
     "output_type": "stream",
     "text": [
      "Epoch:   0%|                                                                                     | 0/20 [00:00<?, ?it/s]"
     ]
    },
    {
     "name": "stdout",
     "output_type": "stream",
     "text": [
      "Begin group  2 training\n"
     ]
    },
    {
     "name": "stderr",
     "output_type": "stream",
     "text": [
      "                                                                                                                        "
     ]
    },
    {
     "name": "stdout",
     "output_type": "stream",
     "text": [
      "Begin group  3 training\n"
     ]
    },
    {
     "name": "stderr",
     "output_type": "stream",
     "text": [
      "Epoch:   0%|                                                                                     | 0/20 [00:00<?, ?it/s]"
     ]
    },
    {
     "name": "stdout",
     "output_type": "stream",
     "text": [
      "Begin group  4 training\n"
     ]
    },
    {
     "name": "stderr",
     "output_type": "stream",
     "text": [
      "                                                                                                                        \r"
     ]
    },
    {
     "name": "stdout",
     "output_type": "stream",
     "text": [
      "Group 0, clients ['f_00023', 'f_00104', 'f_00163', 'f_00094', 'f_00074', 'f_00034', 'f_00044']\n",
      "Group 1, clients ['f_00188', 'f_00147', 'f_00108', 'f_00098', 'f_00038']\n",
      "Group 2, clients ['f_00161', 'f_00111']\n",
      "Group 3, clients ['f_00186', 'f_00116', 'f_00036', 'f_00125', 'f_00185']\n",
      "Group 4, clients ['f_00190']\n"
     ]
    },
    {
     "name": "stderr",
     "output_type": "stream",
     "text": [
      "Epoch:  35%|██████████████████████████▉                                                  | 7/20 [00:00<00:00, 67.98it/s]"
     ]
    },
    {
     "name": "stdout",
     "output_type": "stream",
     "text": [
      "Group 0\n",
      "At round 131 accuracy: 0.8669950738916257\n",
      "At round 131 training accuracy: 0.8885664538595474\n",
      "At round 131 training loss: 0.36005256935906527\n",
      "Group 1\n",
      "At round 131 accuracy: 0.8825301204819277\n",
      "At round 131 training accuracy: 0.8749109052031362\n",
      "At round 131 training loss: 0.364992252019309\n",
      "Group 2\n",
      "At round 131 accuracy: 0.9333333333333333\n",
      "At round 131 training accuracy: 0.9310425432445067\n",
      "At round 131 training loss: 0.2020751429463085\n",
      "Group 3\n",
      "At round 131 accuracy: 0.9607250755287009\n",
      "At round 131 training accuracy: 0.9627906976744186\n",
      "At round 131 training loss: 0.17269422965847317\n",
      "Group 4\n",
      "At round 131 accuracy: 0.9472222222222222\n",
      "At round 131 training accuracy: 0.9257105943152455\n",
      "At round 131 training loss: 0.22376347588283763\n",
      "At round 131 mean test accuracy: 0.9178794178794178 mean train accuracy: 0.9169356312039462\n",
      "The groups difference are: [18.28676173 18.34545902 18.26155799 18.23888203 18.43969454]\n",
      "Begin group  0 training\n"
     ]
    },
    {
     "name": "stderr",
     "output_type": "stream",
     "text": [
      "Epoch:   0%|                                                                                     | 0/20 [00:00<?, ?it/s]"
     ]
    },
    {
     "name": "stdout",
     "output_type": "stream",
     "text": [
      "Begin group  1 training\n"
     ]
    },
    {
     "name": "stderr",
     "output_type": "stream",
     "text": [
      "                                                                                                                        "
     ]
    },
    {
     "name": "stdout",
     "output_type": "stream",
     "text": [
      "Begin group  2 training\n",
      "Begin group  3 training\n"
     ]
    },
    {
     "name": "stderr",
     "output_type": "stream",
     "text": [
      "                                                                                                                        "
     ]
    },
    {
     "name": "stdout",
     "output_type": "stream",
     "text": [
      "Begin group  4 training\n"
     ]
    },
    {
     "name": "stderr",
     "output_type": "stream",
     "text": [
      "\r"
     ]
    },
    {
     "name": "stdout",
     "output_type": "stream",
     "text": [
      "Group 0, clients ['f_00073', 'f_00114', 'f_00133', 'f_00144']\n",
      "Group 1, clients ['f_00007', 'f_00157', 'f_00187', 'f_00077', 'f_00027']\n",
      "Group 2, clients ['f_00131', 'f_00121', 'f_00192']\n",
      "Group 3, clients ['f_00026', 'f_00136', 'f_00166', 'f_00116', 'f_00126', 'f_00156']\n",
      "Group 4, clients ['f_00159', 'f_00060']\n"
     ]
    },
    {
     "name": "stderr",
     "output_type": "stream",
     "text": [
      "Epoch:  20%|███████████████▍                                                             | 4/20 [00:00<00:00, 33.22it/s]"
     ]
    },
    {
     "name": "stdout",
     "output_type": "stream",
     "text": [
      "Group 0\n",
      "At round 132 accuracy: 0.9187192118226601\n",
      "At round 132 training accuracy: 0.946604759141033\n",
      "At round 132 training loss: 0.2660225312670372\n",
      "Group 1\n",
      "At round 132 accuracy: 0.8192771084337349\n",
      "At round 132 training accuracy: 0.7911617961511048\n",
      "At round 132 training loss: 0.7652202368616335\n",
      "Group 2\n",
      "At round 132 accuracy: 0.8363636363636363\n",
      "At round 132 training accuracy: 0.8361383824216924\n",
      "At round 132 training loss: 0.4751808107414776\n",
      "Group 3\n",
      "At round 132 accuracy: 0.9425981873111783\n",
      "At round 132 training accuracy: 0.9459749552772808\n",
      "At round 132 training loss: 0.1995272714364774\n",
      "Group 4\n",
      "At round 132 accuracy: 0.8861111111111111\n",
      "At round 132 training accuracy: 0.8727390180878553\n",
      "At round 132 training loss: 0.3206762639692568\n",
      "At round 132 mean test accuracy: 0.8783783783783784 mean train accuracy: 0.8772303757383838\n",
      "The groups difference are: [18.32223983 18.38725616 18.2934551  18.27482846 18.47424643]\n",
      "Begin group  0 training\n"
     ]
    },
    {
     "name": "stderr",
     "output_type": "stream",
     "text": [
      "Epoch:   0%|                                                                                     | 0/20 [00:00<?, ?it/s]"
     ]
    },
    {
     "name": "stdout",
     "output_type": "stream",
     "text": [
      "Begin group  1 training\n"
     ]
    },
    {
     "name": "stderr",
     "output_type": "stream",
     "text": [
      "Epoch:   0%|                                                                                     | 0/20 [00:00<?, ?it/s]"
     ]
    },
    {
     "name": "stdout",
     "output_type": "stream",
     "text": [
      "Begin group  2 training\n"
     ]
    },
    {
     "name": "stderr",
     "output_type": "stream",
     "text": [
      "                                                                                                                        "
     ]
    },
    {
     "name": "stdout",
     "output_type": "stream",
     "text": [
      "Begin group  3 training\n"
     ]
    },
    {
     "name": "stderr",
     "output_type": "stream",
     "text": [
      "Epoch:   0%|                                                                                     | 0/20 [00:00<?, ?it/s]"
     ]
    },
    {
     "name": "stdout",
     "output_type": "stream",
     "text": [
      "Begin group  4 training\n"
     ]
    },
    {
     "name": "stderr",
     "output_type": "stream",
     "text": [
      "                                                                                                                        \r"
     ]
    },
    {
     "name": "stdout",
     "output_type": "stream",
     "text": [
      "Group 0, clients ['f_00043', 'f_00124', 'f_00133', 'f_00143', 'f_00194', 'f_00044', 'f_00103', 'f_00114', 'f_00003']\n",
      "Group 1, clients ['f_00018', 'f_00187', 'f_00169', 'f_00057']\n",
      "Group 2 is empty.\n",
      "Group 3, clients ['f_00126', 'f_00146']\n",
      "Group 4, clients ['f_00130', 'f_00129', 'f_00139', 'f_00029', 'f_00039']\n"
     ]
    },
    {
     "name": "stderr",
     "output_type": "stream",
     "text": [
      "Epoch:   0%|                                                                                     | 0/20 [00:00<?, ?it/s]"
     ]
    },
    {
     "name": "stdout",
     "output_type": "stream",
     "text": [
      "Group 0\n",
      "At round 133 accuracy: 0.8719211822660099\n",
      "At round 133 training accuracy: 0.8934997098084736\n",
      "At round 133 training loss: 0.364295009497685\n",
      "Group 1\n",
      "At round 133 accuracy: 0.7801204819277109\n",
      "At round 133 training accuracy: 0.8107626514611547\n",
      "At round 133 training loss: 0.5275070536390467\n",
      "Group 2\n",
      "At round 133 accuracy: 0.8080808080808081\n",
      "At round 133 training accuracy: 0.7938288920056101\n",
      "At round 133 training loss: 0.6142994450625553\n",
      "Group 3\n",
      "At round 133 accuracy: 0.879154078549849\n",
      "At round 133 training accuracy: 0.8787119856887299\n",
      "At round 133 training loss: 0.3811998699913351\n",
      "Group 4\n",
      "At round 133 accuracy: 0.9055555555555556\n",
      "At round 133 training accuracy: 0.8898578811369509\n",
      "At round 133 training loss: 0.29601310517456025\n",
      "At round 133 mean test accuracy: 0.8471933471933472 mean train accuracy: 0.8501918275379088\n",
      "The groups difference are: [18.36627126 18.42417041 18.3367509  18.31034016 18.50984795]\n",
      "Begin group  0 training\n"
     ]
    },
    {
     "name": "stderr",
     "output_type": "stream",
     "text": [
      "Epoch:   0%|                                                                                     | 0/20 [00:00<?, ?it/s]"
     ]
    },
    {
     "name": "stdout",
     "output_type": "stream",
     "text": [
      "Begin group  1 training\n"
     ]
    },
    {
     "name": "stderr",
     "output_type": "stream",
     "text": [
      "Epoch:   0%|                                                                                     | 0/20 [00:00<?, ?it/s]"
     ]
    },
    {
     "name": "stdout",
     "output_type": "stream",
     "text": [
      "Begin group  3 training\n",
      "Begin group  4 training\n"
     ]
    },
    {
     "name": "stderr",
     "output_type": "stream",
     "text": [
      "                                                                                                                        \r"
     ]
    },
    {
     "name": "stdout",
     "output_type": "stream",
     "text": [
      "Group 0, clients ['f_00173', 'f_00084', 'f_00013']\n",
      "Group 1, clients ['f_00008', 'f_00068', 'f_00127', 'f_00097']\n",
      "Group 2, clients ['f_00122', 'f_00012', 'f_00191', 'f_00081', 'f_00112']\n",
      "Group 3, clients ['f_00195', 'f_00196', 'f_00136', 'f_00016', 'f_00175', 'f_00085']\n",
      "Group 4, clients ['f_00069', 'f_00199']\n"
     ]
    },
    {
     "name": "stderr",
     "output_type": "stream",
     "text": [
      "Epoch:   0%|                                                                                     | 0/20 [00:00<?, ?it/s]"
     ]
    },
    {
     "name": "stdout",
     "output_type": "stream",
     "text": [
      "Group 0\n",
      "At round 134 accuracy: 0.9113300492610837\n",
      "At round 134 training accuracy: 0.932385374347069\n",
      "At round 134 training loss: 0.29219549920386134\n",
      "Group 1\n",
      "At round 134 accuracy: 0.8885542168674698\n",
      "At round 134 training accuracy: 0.8920171062009978\n",
      "At round 134 training loss: 0.36630936387026214\n",
      "Group 2\n",
      "At round 134 accuracy: 0.8080808080808081\n",
      "At round 134 training accuracy: 0.7938288920056101\n",
      "At round 134 training loss: 0.6133262486514461\n",
      "Group 3\n",
      "At round 134 accuracy: 0.8610271903323263\n",
      "At round 134 training accuracy: 0.8540250447227191\n",
      "At round 134 training loss: 0.42425821243197204\n",
      "Group 4\n",
      "At round 134 accuracy: 0.8777777777777778\n",
      "At round 134 training accuracy: 0.8766149870801033\n",
      "At round 134 training loss: 0.3516122610777501\n",
      "At round 134 mean test accuracy: 0.8659043659043659 mean train accuracy: 0.8655380305706109\n",
      "The groups difference are: [18.36887533 18.42002417 18.33045483 18.30343399 18.50605843]\n",
      "Begin group  0 training\n"
     ]
    },
    {
     "name": "stderr",
     "output_type": "stream",
     "text": [
      "Epoch:  45%|██████████████████████████████████▋                                          | 9/20 [00:00<00:00, 84.26it/s]"
     ]
    },
    {
     "name": "stdout",
     "output_type": "stream",
     "text": [
      "Begin group  1 training\n"
     ]
    },
    {
     "name": "stderr",
     "output_type": "stream",
     "text": [
      "Epoch:  25%|███████████████████▎                                                         | 5/20 [00:00<00:00, 41.63it/s]"
     ]
    },
    {
     "name": "stdout",
     "output_type": "stream",
     "text": [
      "Begin group  2 training\n"
     ]
    },
    {
     "name": "stderr",
     "output_type": "stream",
     "text": [
      "Epoch:   0%|                                                                                     | 0/20 [00:00<?, ?it/s]"
     ]
    },
    {
     "name": "stdout",
     "output_type": "stream",
     "text": [
      "Begin group  3 training\n"
     ]
    },
    {
     "name": "stderr",
     "output_type": "stream",
     "text": [
      "Epoch:   0%|                                                                                     | 0/20 [00:00<?, ?it/s]"
     ]
    },
    {
     "name": "stdout",
     "output_type": "stream",
     "text": [
      "Begin group  4 training\n"
     ]
    },
    {
     "name": "stderr",
     "output_type": "stream",
     "text": [
      "                                                                                                                        \r"
     ]
    },
    {
     "name": "stdout",
     "output_type": "stream",
     "text": [
      "Group 0, clients ['f_00143', 'f_00154', 'f_00193', 'f_00114']\n",
      "Group 1, clients ['f_00158', 'f_00078', 'f_00077', 'f_00108', 'f_00058']\n",
      "Group 2, clients ['f_00142', 'f_00161', 'f_00192', 'f_00122']\n",
      "Group 3, clients ['f_00065', 'f_00115', 'f_00026']\n",
      "Group 4, clients ['f_00030', 'f_00060', 'f_00189', 'f_00039']\n"
     ]
    },
    {
     "name": "stderr",
     "output_type": "stream",
     "text": [
      "Epoch:   0%|                                                                                     | 0/20 [00:00<?, ?it/s]"
     ]
    },
    {
     "name": "stdout",
     "output_type": "stream",
     "text": [
      "Group 0\n",
      "At round 135 accuracy: 0.9039408866995073\n",
      "At round 135 training accuracy: 0.92890307603018\n",
      "At round 135 training loss: 0.2953080883102618\n",
      "Group 1\n",
      "At round 135 accuracy: 0.8644578313253012\n",
      "At round 135 training accuracy: 0.8549536707056308\n",
      "At round 135 training loss: 0.4300941063020795\n",
      "Group 2\n",
      "At round 135 accuracy: 0.9212121212121213\n",
      "At round 135 training accuracy: 0.9256661991584852\n",
      "At round 135 training loss: 0.21580491513588568\n",
      "Group 3\n",
      "At round 135 accuracy: 0.9425981873111783\n",
      "At round 135 training accuracy: 0.9330948121645796\n",
      "At round 135 training loss: 0.25134881614625776\n",
      "Group 4\n",
      "At round 135 accuracy: 0.7583333333333333\n",
      "At round 135 training accuracy: 0.7690568475452196\n",
      "At round 135 training loss: 0.7948324691957869\n",
      "At round 135 mean test accuracy: 0.8809771309771309 mean train accuracy: 0.8859996346142135\n",
      "The groups difference are: [18.39434491 18.45163859 18.35875288 18.33267694 18.53994835]\n",
      "Begin group  0 training\n"
     ]
    },
    {
     "name": "stderr",
     "output_type": "stream",
     "text": [
      "Epoch:   0%|                                                                                     | 0/20 [00:00<?, ?it/s]"
     ]
    },
    {
     "name": "stdout",
     "output_type": "stream",
     "text": [
      "Begin group  1 training\n"
     ]
    },
    {
     "name": "stderr",
     "output_type": "stream",
     "text": [
      "Epoch:   0%|                                                                                     | 0/20 [00:00<?, ?it/s]"
     ]
    },
    {
     "name": "stdout",
     "output_type": "stream",
     "text": [
      "Begin group  2 training\n"
     ]
    },
    {
     "name": "stderr",
     "output_type": "stream",
     "text": [
      "Epoch:   0%|                                                                                     | 0/20 [00:00<?, ?it/s]"
     ]
    },
    {
     "name": "stdout",
     "output_type": "stream",
     "text": [
      "Begin group  3 training\n"
     ]
    },
    {
     "name": "stderr",
     "output_type": "stream",
     "text": [
      "Epoch:   0%|                                                                                     | 0/20 [00:00<?, ?it/s]"
     ]
    },
    {
     "name": "stdout",
     "output_type": "stream",
     "text": [
      "Begin group  4 training\n"
     ]
    },
    {
     "name": "stderr",
     "output_type": "stream",
     "text": [
      "                                                                                                                        \r"
     ]
    },
    {
     "name": "stdout",
     "output_type": "stream",
     "text": [
      "Group 0, clients ['f_00064', 'f_00163', 'f_00053', 'f_00084', 'f_00003', 'f_00144', 'f_00094']\n",
      "Group 1, clients ['f_00049', 'f_00038', 'f_00059', 'f_00078', 'f_00068']\n",
      "Group 2, clients ['f_00081', 'f_00181', 'f_00042', 'f_00062']\n",
      "Group 3, clients ['f_00086', 'f_00115']\n",
      "Group 4, clients ['f_00000', 'f_00150']\n"
     ]
    },
    {
     "name": "stderr",
     "output_type": "stream",
     "text": [
      "Epoch:   0%|                                                                                     | 0/20 [00:00<?, ?it/s]"
     ]
    },
    {
     "name": "stdout",
     "output_type": "stream",
     "text": [
      "Group 0\n",
      "At round 136 accuracy: 0.9285714285714286\n",
      "At round 136 training accuracy: 0.9373186302959954\n",
      "At round 136 training loss: 0.2874461845194816\n",
      "Group 1\n",
      "At round 136 accuracy: 0.8674698795180723\n",
      "At round 136 training accuracy: 0.8357091945830364\n",
      "At round 136 training loss: 0.5166068372561604\n",
      "Group 2\n",
      "At round 136 accuracy: 0.9050505050505051\n",
      "At round 136 training accuracy: 0.9036933146330061\n",
      "At round 136 training loss: 0.2964510933146431\n",
      "Group 3\n",
      "At round 136 accuracy: 0.945619335347432\n",
      "At round 136 training accuracy: 0.9474060822898033\n",
      "At round 136 training loss: 0.21451611006649107\n",
      "Group 4\n",
      "At round 136 accuracy: 0.8416666666666667\n",
      "At round 136 training accuracy: 0.8446382428940569\n",
      "At round 136 training loss: 0.45261833795529216\n",
      "At round 136 mean test accuracy: 0.8986486486486487 mean train accuracy: 0.895438767431947\n",
      "The groups difference are: [18.41987082 18.48205494 18.38645237 18.35649674 18.56621124]\n",
      "Begin group  0 training\n"
     ]
    },
    {
     "name": "stderr",
     "output_type": "stream",
     "text": [
      "Epoch:   0%|                                                                                     | 0/20 [00:00<?, ?it/s]"
     ]
    },
    {
     "name": "stdout",
     "output_type": "stream",
     "text": [
      "Begin group  1 training\n"
     ]
    },
    {
     "name": "stderr",
     "output_type": "stream",
     "text": [
      "Epoch:   0%|                                                                                     | 0/20 [00:00<?, ?it/s]"
     ]
    },
    {
     "name": "stdout",
     "output_type": "stream",
     "text": [
      "Begin group  2 training\n"
     ]
    },
    {
     "name": "stderr",
     "output_type": "stream",
     "text": [
      "Epoch:   0%|                                                                                     | 0/20 [00:00<?, ?it/s]"
     ]
    },
    {
     "name": "stdout",
     "output_type": "stream",
     "text": [
      "Begin group  3 training\n"
     ]
    },
    {
     "name": "stderr",
     "output_type": "stream",
     "text": [
      "                                                                                                                        "
     ]
    },
    {
     "name": "stdout",
     "output_type": "stream",
     "text": [
      "Begin group  4 training\n"
     ]
    },
    {
     "name": "stderr",
     "output_type": "stream",
     "text": [
      "\r"
     ]
    },
    {
     "name": "stdout",
     "output_type": "stream",
     "text": [
      "Group 0, clients ['f_00044', 'f_00133', 'f_00144', 'f_00193', 'f_00004', 'f_00114', 'f_00064']\n",
      "Group 1, clients ['f_00047', 'f_00128', 'f_00198', 'f_00187', 'f_00089', 'f_00138', 'f_00158']\n",
      "Group 2, clients ['f_00032']\n",
      "Group 3, clients ['f_00196', 'f_00065', 'f_00106']\n",
      "Group 4, clients ['f_00168', 'f_00080']\n"
     ]
    },
    {
     "name": "stderr",
     "output_type": "stream",
     "text": [
      "Epoch:   0%|                                                                                     | 0/20 [00:00<?, ?it/s]"
     ]
    },
    {
     "name": "stdout",
     "output_type": "stream",
     "text": [
      "Group 0\n",
      "At round 137 accuracy: 0.8916256157635468\n",
      "At round 137 training accuracy: 0.924840394660476\n",
      "At round 137 training loss: 0.29636374066594084\n",
      "Group 1\n",
      "At round 137 accuracy: 0.786144578313253\n",
      "At round 137 training accuracy: 0.7626514611546685\n",
      "At round 137 training loss: 0.7777498548031279\n",
      "Group 2\n",
      "At round 137 accuracy: 0.8707070707070707\n",
      "At round 137 training accuracy: 0.8756428237494156\n",
      "At round 137 training loss: 0.36507574562113965\n",
      "Group 3\n",
      "At round 137 accuracy: 0.9697885196374623\n",
      "At round 137 training accuracy: 0.9516994633273703\n",
      "At round 137 training loss: 0.20916038332890205\n",
      "Group 4\n",
      "At round 137 accuracy: 0.9527777777777777\n",
      "At round 137 training accuracy: 0.9328165374677002\n",
      "At round 137 training loss: 0.20467301927872714\n",
      "At round 137 mean test accuracy: 0.8929313929313929 mean train accuracy: 0.8903842640521283\n",
      "The groups difference are: [18.44171174 18.50190513 18.3980785  18.37158939 18.58331   ]\n",
      "Begin group  0 training\n"
     ]
    },
    {
     "name": "stderr",
     "output_type": "stream",
     "text": [
      "Epoch:   0%|                                                                                     | 0/20 [00:00<?, ?it/s]"
     ]
    },
    {
     "name": "stdout",
     "output_type": "stream",
     "text": [
      "Begin group  1 training\n"
     ]
    },
    {
     "name": "stderr",
     "output_type": "stream",
     "text": [
      "Epoch:   0%|                                                                                     | 0/20 [00:00<?, ?it/s]"
     ]
    },
    {
     "name": "stdout",
     "output_type": "stream",
     "text": [
      "Begin group  2 training\n",
      "Begin group  3 training\n"
     ]
    },
    {
     "name": "stderr",
     "output_type": "stream",
     "text": [
      "Epoch:  35%|██████████████████████████▉                                                  | 7/20 [00:00<00:00, 66.77it/s]"
     ]
    },
    {
     "name": "stdout",
     "output_type": "stream",
     "text": [
      "Begin group  4 training\n"
     ]
    },
    {
     "name": "stderr",
     "output_type": "stream",
     "text": [
      "                                                                                                                        \r"
     ]
    },
    {
     "name": "stdout",
     "output_type": "stream",
     "text": [
      "Group 0, clients ['f_00013', 'f_00154', 'f_00014', 'f_00084', 'f_00114']\n",
      "Group 1, clients ['f_00058', 'f_00128', 'f_00038']\n",
      "Group 2, clients ['f_00162', 'f_00151', 'f_00052', 'f_00142']\n",
      "Group 3, clients ['f_00156', 'f_00115', 'f_00016', 'f_00185', 'f_00186', 'f_00036', 'f_00155']\n",
      "Group 4, clients ['f_00079']\n"
     ]
    },
    {
     "name": "stderr",
     "output_type": "stream",
     "text": [
      "Epoch:  55%|█████████████████████████████████████████▎                                 | 11/20 [00:00<00:00, 102.82it/s]"
     ]
    },
    {
     "name": "stdout",
     "output_type": "stream",
     "text": [
      "Group 0\n",
      "At round 138 accuracy: 0.9088669950738916\n",
      "At round 138 training accuracy: 0.9077190946024376\n",
      "At round 138 training loss: 0.3330578239968677\n",
      "Group 1\n",
      "At round 138 accuracy: 0.822289156626506\n",
      "At round 138 training accuracy: 0.8022095509622238\n",
      "At round 138 training loss: 0.5612725000815229\n",
      "Group 2\n",
      "At round 138 accuracy: 0.8686868686868687\n",
      "At round 138 training accuracy: 0.8716690042075736\n",
      "At round 138 training loss: 0.37494220400195133\n",
      "Group 3\n",
      "At round 138 accuracy: 0.918429003021148\n",
      "At round 138 training accuracy: 0.9216457960644007\n",
      "At round 138 training loss: 0.2805216308596522\n",
      "Group 4\n",
      "At round 138 accuracy: 0.8805555555555555\n",
      "At round 138 training accuracy: 0.8711240310077519\n",
      "At round 138 training loss: 0.32718031829492566\n",
      "At round 138 mean test accuracy: 0.8799376299376299 mean train accuracy: 0.8757688325924121\n",
      "The groups difference are: [18.45647855 18.51839555 18.41111727 18.38520008 18.60177361]\n",
      "Begin group  0 training\n"
     ]
    },
    {
     "name": "stderr",
     "output_type": "stream",
     "text": [
      "                                                                                                                        "
     ]
    },
    {
     "name": "stdout",
     "output_type": "stream",
     "text": [
      "Begin group  1 training\n"
     ]
    },
    {
     "name": "stderr",
     "output_type": "stream",
     "text": [
      "Epoch:   0%|                                                                                     | 0/20 [00:00<?, ?it/s]"
     ]
    },
    {
     "name": "stdout",
     "output_type": "stream",
     "text": [
      "Begin group  2 training\n"
     ]
    },
    {
     "name": "stderr",
     "output_type": "stream",
     "text": [
      "Epoch:   0%|                                                                                     | 0/20 [00:00<?, ?it/s]"
     ]
    },
    {
     "name": "stdout",
     "output_type": "stream",
     "text": [
      "Begin group  3 training\n"
     ]
    },
    {
     "name": "stderr",
     "output_type": "stream",
     "text": [
      "Epoch:  55%|█████████████████████████████████████████▎                                 | 11/20 [00:00<00:00, 103.57it/s]"
     ]
    },
    {
     "name": "stdout",
     "output_type": "stream",
     "text": [
      "Begin group  4 training\n"
     ]
    },
    {
     "name": "stderr",
     "output_type": "stream",
     "text": [
      "                                                                                                                        \r"
     ]
    },
    {
     "name": "stdout",
     "output_type": "stream",
     "text": [
      "Group 0, clients ['f_00164', 'f_00123', 'f_00103', 'f_00183', 'f_00104', 'f_00084', 'f_00054']\n",
      "Group 1, clients ['f_00128', 'f_00108', 'f_00197', 'f_00097', 'f_00167']\n",
      "Group 2, clients ['f_00151', 'f_00142', 'f_00171']\n",
      "Group 3, clients ['f_00156', 'f_00155', 'f_00075']\n",
      "Group 4, clients ['f_00180', 'f_00159']\n"
     ]
    },
    {
     "name": "stderr",
     "output_type": "stream",
     "text": [
      "Epoch:  15%|███████████▌                                                                 | 3/20 [00:00<00:00, 23.98it/s]"
     ]
    },
    {
     "name": "stdout",
     "output_type": "stream",
     "text": [
      "Group 0\n",
      "At round 139 accuracy: 0.9113300492610837\n",
      "At round 139 training accuracy: 0.910040626813697\n",
      "At round 139 training loss: 0.3388526761300053\n",
      "Group 1\n",
      "At round 139 accuracy: 0.8042168674698795\n",
      "At round 139 training accuracy: 0.7761938702779758\n",
      "At round 139 training loss: 0.644258263467128\n",
      "Group 2\n",
      "At round 139 accuracy: 0.8242424242424242\n",
      "At round 139 training accuracy: 0.8368396446937821\n",
      "At round 139 training loss: 0.47877325438739765\n",
      "Group 3\n",
      "At round 139 accuracy: 0.9607250755287009\n",
      "At round 139 training accuracy: 0.9617173524150269\n",
      "At round 139 training loss: 0.20119440863325472\n",
      "Group 4\n",
      "At round 139 accuracy: 0.8\n",
      "At round 139 training accuracy: 0.8097545219638242\n",
      "At round 139 training loss: 0.5458785142407823\n",
      "At round 139 mean test accuracy: 0.8581081081081081 mean train accuracy: 0.8579867243164241\n",
      "The groups difference are: [18.48305844 18.53999765 18.44333465 18.40733191 18.63068064]\n",
      "Begin group  0 training\n"
     ]
    },
    {
     "name": "stderr",
     "output_type": "stream",
     "text": [
      "Epoch:  55%|█████████████████████████████████████████▎                                 | 11/20 [00:00<00:00, 102.16it/s]"
     ]
    },
    {
     "name": "stdout",
     "output_type": "stream",
     "text": [
      "Begin group  1 training\n"
     ]
    },
    {
     "name": "stderr",
     "output_type": "stream",
     "text": [
      "Epoch:   0%|                                                                                     | 0/20 [00:00<?, ?it/s]"
     ]
    },
    {
     "name": "stdout",
     "output_type": "stream",
     "text": [
      "Begin group  2 training\n"
     ]
    },
    {
     "name": "stderr",
     "output_type": "stream",
     "text": [
      "                                                                                                                        "
     ]
    },
    {
     "name": "stdout",
     "output_type": "stream",
     "text": [
      "Begin group  3 training\n"
     ]
    },
    {
     "name": "stderr",
     "output_type": "stream",
     "text": [
      "Epoch:  30%|███████████████████████                                                      | 6/20 [00:00<00:00, 54.48it/s]"
     ]
    },
    {
     "name": "stdout",
     "output_type": "stream",
     "text": [
      "Begin group  4 training\n"
     ]
    },
    {
     "name": "stderr",
     "output_type": "stream",
     "text": [
      "                                                                                                                        \r"
     ]
    },
    {
     "name": "stdout",
     "output_type": "stream",
     "text": [
      "Group 0, clients ['f_00173', 'f_00154', 'f_00153']\n",
      "Group 1, clients ['f_00047', 'f_00049', 'f_00169', 'f_00137']\n",
      "Group 2, clients ['f_00142', 'f_00071', 'f_00021', 'f_00061', 'f_00132']\n",
      "Group 3, clients ['f_00095', 'f_00046', 'f_00145', 'f_00055']\n",
      "Group 4, clients ['f_00129', 'f_00030', 'f_00120', 'f_00140']\n"
     ]
    },
    {
     "name": "stderr",
     "output_type": "stream",
     "text": [
      "Epoch:   0%|                                                                                     | 0/20 [00:00<?, ?it/s]"
     ]
    },
    {
     "name": "stdout",
     "output_type": "stream",
     "text": [
      "Group 0\n",
      "At round 140 accuracy: 0.854679802955665\n",
      "At round 140 training accuracy: 0.855194428322693\n",
      "At round 140 training loss: 0.47250913726560473\n",
      "Group 1\n",
      "At round 140 accuracy: 0.8524096385542169\n",
      "At round 140 training accuracy: 0.8431931575196009\n",
      "At round 140 training loss: 0.41424576694667553\n",
      "Group 2\n",
      "At round 140 accuracy: 0.8787878787878788\n",
      "At round 140 training accuracy: 0.884525479195886\n",
      "At round 140 training loss: 0.3119765375677693\n",
      "Group 3\n",
      "At round 140 accuracy: 0.9365558912386707\n",
      "At round 140 training accuracy: 0.9470483005366727\n",
      "At round 140 training loss: 0.2350588387688072\n",
      "Group 4\n",
      "At round 140 accuracy: 0.9361111111111111\n",
      "At round 140 training accuracy: 0.9140826873385013\n",
      "At round 140 training loss: 0.2137531786242582\n",
      "At round 140 mean test accuracy: 0.8898128898128899 mean train accuracy: 0.8875220753912673\n",
      "The groups difference are: [18.53110178 18.58738935 18.48294361 18.44928682 18.67808567]\n",
      "Begin group  0 training\n"
     ]
    },
    {
     "name": "stderr",
     "output_type": "stream",
     "text": [
      "Epoch:   0%|                                                                                     | 0/20 [00:00<?, ?it/s]"
     ]
    },
    {
     "name": "stdout",
     "output_type": "stream",
     "text": [
      "Begin group  1 training\n"
     ]
    },
    {
     "name": "stderr",
     "output_type": "stream",
     "text": [
      "Epoch:  85%|███████████████████████████████████████████████████████████████▊           | 17/20 [00:00<00:00, 166.73it/s]"
     ]
    },
    {
     "name": "stdout",
     "output_type": "stream",
     "text": [
      "Begin group  2 training\n"
     ]
    },
    {
     "name": "stderr",
     "output_type": "stream",
     "text": [
      "Epoch:   0%|                                                                                     | 0/20 [00:00<?, ?it/s]"
     ]
    },
    {
     "name": "stdout",
     "output_type": "stream",
     "text": [
      "Begin group  3 training\n"
     ]
    },
    {
     "name": "stderr",
     "output_type": "stream",
     "text": [
      "Epoch:   0%|                                                                                     | 0/20 [00:00<?, ?it/s]"
     ]
    },
    {
     "name": "stdout",
     "output_type": "stream",
     "text": [
      "Begin group  4 training\n"
     ]
    },
    {
     "name": "stderr",
     "output_type": "stream",
     "text": [
      "                                                                                                                        \r"
     ]
    },
    {
     "name": "stdout",
     "output_type": "stream",
     "text": [
      "Group 0, clients ['f_00093', 'f_00183', 'f_00163']\n",
      "Group 1, clients ['f_00098', 'f_00107', 'f_00137', 'f_00108', 'f_00007', 'f_00176']\n",
      "Group 2, clients ['f_00051', 'f_00071', 'f_00181']\n",
      "Group 3, clients ['f_00036', 'f_00116', 'f_00055', 'f_00126']\n",
      "Group 4, clients ['f_00079', 'f_00029', 'f_00010', 'f_00020']\n"
     ]
    },
    {
     "name": "stderr",
     "output_type": "stream",
     "text": [
      "Epoch:  30%|███████████████████████                                                      | 6/20 [00:00<00:00, 55.62it/s]"
     ]
    },
    {
     "name": "stdout",
     "output_type": "stream",
     "text": [
      "Group 0\n",
      "At round 141 accuracy: 0.9137931034482759\n",
      "At round 141 training accuracy: 0.928322692977365\n",
      "At round 141 training loss: 0.33205078039329133\n",
      "Group 1\n",
      "At round 141 accuracy: 0.8674698795180723\n",
      "At round 141 training accuracy: 0.8670705630791162\n",
      "At round 141 training loss: 0.38515273128992644\n",
      "Group 2\n",
      "At round 141 accuracy: 0.9171717171717172\n",
      "At round 141 training accuracy: 0.9191210846189808\n",
      "At round 141 training loss: 0.23917141965537733\n",
      "Group 3\n",
      "At round 141 accuracy: 0.9244712990936556\n",
      "At round 141 training accuracy: 0.9398926654740608\n",
      "At round 141 training loss: 0.25561179110650406\n",
      "Group 4\n",
      "At round 141 accuracy: 0.9444444444444444\n",
      "At round 141 training accuracy: 0.9221576227390181\n",
      "At round 141 training loss: 0.1953770407001447\n",
      "At round 141 mean test accuracy: 0.9142411642411642 mean train accuracy: 0.9162657572620425\n",
      "The groups difference are: [18.54932763 18.60613677 18.49744268 18.46290139 18.6951205 ]\n",
      "Begin group  0 training\n"
     ]
    },
    {
     "name": "stderr",
     "output_type": "stream",
     "text": [
      "Epoch:  25%|███████████████████▎                                                         | 5/20 [00:00<00:00, 42.34it/s]"
     ]
    },
    {
     "name": "stdout",
     "output_type": "stream",
     "text": [
      "Begin group  1 training\n"
     ]
    },
    {
     "name": "stderr",
     "output_type": "stream",
     "text": [
      "Epoch:   0%|                                                                                     | 0/20 [00:00<?, ?it/s]"
     ]
    },
    {
     "name": "stdout",
     "output_type": "stream",
     "text": [
      "Begin group  2 training\n"
     ]
    },
    {
     "name": "stderr",
     "output_type": "stream",
     "text": [
      "Epoch:   0%|                                                                                     | 0/20 [00:00<?, ?it/s]"
     ]
    },
    {
     "name": "stdout",
     "output_type": "stream",
     "text": [
      "Begin group  3 training\n"
     ]
    },
    {
     "name": "stderr",
     "output_type": "stream",
     "text": [
      "Epoch:  55%|█████████████████████████████████████████▎                                 | 11/20 [00:00<00:00, 100.71it/s]"
     ]
    },
    {
     "name": "stdout",
     "output_type": "stream",
     "text": [
      "Begin group  4 training\n"
     ]
    },
    {
     "name": "stderr",
     "output_type": "stream",
     "text": [
      "                                                                                                                        \r"
     ]
    },
    {
     "name": "stdout",
     "output_type": "stream",
     "text": [
      "Group 0, clients ['f_00153', 'f_00003', 'f_00072']\n",
      "Group 1, clients ['f_00068', 'f_00067', 'f_00148', 'f_00027']\n",
      "Group 2, clients ['f_00142', 'f_00162', 'f_00001', 'f_00161']\n",
      "Group 3, clients ['f_00025', 'f_00166', 'f_00126', 'f_00175', 'f_00106']\n",
      "Group 4, clients ['f_00010', 'f_00090', 'f_00199', 'f_00099']\n"
     ]
    },
    {
     "name": "stderr",
     "output_type": "stream",
     "text": [
      "Epoch:   0%|                                                                                     | 0/20 [00:00<?, ?it/s]"
     ]
    },
    {
     "name": "stdout",
     "output_type": "stream",
     "text": [
      "Group 0\n",
      "At round 142 accuracy: 0.8620689655172413\n",
      "At round 142 training accuracy: 0.8746372605919908\n",
      "At round 142 training loss: 0.45885518408859893\n",
      "Group 1\n",
      "At round 142 accuracy: 0.8765060240963856\n",
      "At round 142 training accuracy: 0.8581610833927299\n",
      "At round 142 training loss: 0.41575500146298006\n",
      "Group 2\n",
      "At round 142 accuracy: 0.8282828282828283\n",
      "At round 142 training accuracy: 0.8155680224403927\n",
      "At round 142 training loss: 0.5486482733541899\n",
      "Group 3\n",
      "At round 142 accuracy: 0.9425981873111783\n",
      "At round 142 training accuracy: 0.9323792486583184\n",
      "At round 142 training loss: 0.25329149506406357\n",
      "Group 4\n",
      "At round 142 accuracy: 0.9444444444444444\n",
      "At round 142 training accuracy: 0.9289405684754521\n",
      "At round 142 training loss: 0.19452130161370187\n",
      "At round 142 mean test accuracy: 0.8851351351351351 mean train accuracy: 0.876499604165398\n",
      "The groups difference are: [18.57919594 18.63776887 18.52202172 18.48846964 18.72288748]\n",
      "Begin group  0 training\n"
     ]
    },
    {
     "name": "stderr",
     "output_type": "stream",
     "text": [
      "Epoch:  45%|██████████████████████████████████▋                                          | 9/20 [00:00<00:00, 82.93it/s]"
     ]
    },
    {
     "name": "stdout",
     "output_type": "stream",
     "text": [
      "Begin group  1 training\n"
     ]
    },
    {
     "name": "stderr",
     "output_type": "stream",
     "text": [
      "Epoch:   0%|                                                                                     | 0/20 [00:00<?, ?it/s]"
     ]
    },
    {
     "name": "stdout",
     "output_type": "stream",
     "text": [
      "Begin group  2 training\n"
     ]
    },
    {
     "name": "stderr",
     "output_type": "stream",
     "text": [
      "Epoch:   0%|                                                                                     | 0/20 [00:00<?, ?it/s]"
     ]
    },
    {
     "name": "stdout",
     "output_type": "stream",
     "text": [
      "Begin group  3 training\n"
     ]
    },
    {
     "name": "stderr",
     "output_type": "stream",
     "text": [
      "Epoch:  30%|███████████████████████                                                      | 6/20 [00:00<00:00, 51.98it/s]"
     ]
    },
    {
     "name": "stdout",
     "output_type": "stream",
     "text": [
      "Begin group  4 training\n"
     ]
    },
    {
     "name": "stderr",
     "output_type": "stream",
     "text": [
      "                                                                                                                        \r"
     ]
    },
    {
     "name": "stdout",
     "output_type": "stream",
     "text": [
      "Group 0, clients ['f_00072', 'f_00014', 'f_00103']\n",
      "Group 1, clients ['f_00107', 'f_00158', 'f_00147']\n",
      "Group 2, clients ['f_00161', 'f_00041', 'f_00032', 'f_00002', 'f_00001']\n",
      "Group 3, clients ['f_00025', 'f_00015', 'f_00165', 'f_00105', 'f_00096', 'f_00166']\n",
      "Group 4, clients ['f_00119', 'f_00139', 'f_00019']\n"
     ]
    },
    {
     "name": "stderr",
     "output_type": "stream",
     "text": [
      "Epoch:  50%|██████████████████████████████████████                                      | 10/20 [00:00<00:00, 96.00it/s]"
     ]
    },
    {
     "name": "stdout",
     "output_type": "stream",
     "text": [
      "Group 0\n",
      "At round 143 accuracy: 0.8793103448275862\n",
      "At round 143 training accuracy: 0.8859547301218804\n",
      "At round 143 training loss: 0.37316354978191807\n",
      "Group 1\n",
      "At round 143 accuracy: 0.7801204819277109\n",
      "At round 143 training accuracy: 0.8121881682109765\n",
      "At round 143 training loss: 0.5376878398884133\n",
      "Group 2\n",
      "At round 143 accuracy: 0.9373737373737374\n",
      "At round 143 training accuracy: 0.9373539036933146\n",
      "At round 143 training loss: 0.19253616060934484\n",
      "Group 3\n",
      "At round 143 accuracy: 0.9486404833836858\n",
      "At round 143 training accuracy: 0.9570661896243292\n",
      "At round 143 training loss: 0.20711848713350958\n",
      "Group 4\n",
      "At round 143 accuracy: 0.9444444444444444\n",
      "At round 143 training accuracy: 0.9244186046511628\n",
      "At round 143 training loss: 0.19785917831166078\n",
      "At round 143 mean test accuracy: 0.9012474012474012 mean train accuracy: 0.9060958528713233\n",
      "The groups difference are: [18.5846042  18.66788258 18.52925752 18.50885323 18.74607669]\n",
      "Begin group  0 training\n"
     ]
    },
    {
     "name": "stderr",
     "output_type": "stream",
     "text": [
      "Epoch:   0%|                                                                                     | 0/20 [00:00<?, ?it/s]"
     ]
    },
    {
     "name": "stdout",
     "output_type": "stream",
     "text": [
      "Begin group  1 training\n"
     ]
    },
    {
     "name": "stderr",
     "output_type": "stream",
     "text": [
      "                                                                                                                        "
     ]
    },
    {
     "name": "stdout",
     "output_type": "stream",
     "text": [
      "Begin group  2 training\n"
     ]
    },
    {
     "name": "stderr",
     "output_type": "stream",
     "text": [
      "Epoch:   0%|                                                                                     | 0/20 [00:00<?, ?it/s]"
     ]
    },
    {
     "name": "stdout",
     "output_type": "stream",
     "text": [
      "Begin group  3 training\n"
     ]
    },
    {
     "name": "stderr",
     "output_type": "stream",
     "text": [
      "Epoch:   0%|                                                                                     | 0/20 [00:00<?, ?it/s]"
     ]
    },
    {
     "name": "stdout",
     "output_type": "stream",
     "text": [
      "Begin group  4 training\n"
     ]
    },
    {
     "name": "stderr",
     "output_type": "stream",
     "text": [
      "                                                                                                                        \r"
     ]
    },
    {
     "name": "stdout",
     "output_type": "stream",
     "text": [
      "Group 0, clients ['f_00023', 'f_00144', 'f_00193', 'f_00163', 'f_00004', 'f_00104']\n",
      "Group 1, clients ['f_00088', 'f_00008', 'f_00178']\n",
      "Group 2, clients ['f_00001', 'f_00062']\n",
      "Group 3, clients ['f_00165', 'f_00146']\n",
      "Group 4, clients ['f_00189', 'f_00060', 'f_00168', 'f_00199', 'f_00020', 'f_00050', 'f_00190']\n"
     ]
    },
    {
     "name": "stderr",
     "output_type": "stream",
     "text": [
      "Epoch:  30%|███████████████████████                                                      | 6/20 [00:00<00:00, 57.21it/s]"
     ]
    },
    {
     "name": "stdout",
     "output_type": "stream",
     "text": [
      "Group 0\n",
      "At round 144 accuracy: 0.8842364532019704\n",
      "At round 144 training accuracy: 0.9164248403946604\n",
      "At round 144 training loss: 0.25368988809288756\n",
      "Group 1\n",
      "At round 144 accuracy: 0.8975903614457831\n",
      "At round 144 training accuracy: 0.9105488239486814\n",
      "At round 144 training loss: 0.34736330450080327\n",
      "Group 2\n",
      "At round 144 accuracy: 0.907070707070707\n",
      "At round 144 training accuracy: 0.915614773258532\n",
      "At round 144 training loss: 0.22557764934474284\n",
      "Group 3\n",
      "At round 144 accuracy: 0.9093655589123867\n",
      "At round 144 training accuracy: 0.90912343470483\n",
      "At round 144 training loss: 0.28759783866660327\n",
      "Group 4\n",
      "At round 144 accuracy: 0.8083333333333333\n",
      "At round 144 training accuracy: 0.8226744186046512\n",
      "At round 144 training loss: 0.5084446600544476\n",
      "At round 144 mean test accuracy: 0.8825363825363826 mean train accuracy: 0.8962913342670971\n",
      "The groups difference are: [18.61082462 18.70195709 18.55920124 18.53824731 18.77422223]\n",
      "Begin group  0 training\n"
     ]
    },
    {
     "name": "stderr",
     "output_type": "stream",
     "text": [
      "Epoch:   0%|                                                                                     | 0/20 [00:00<?, ?it/s]"
     ]
    },
    {
     "name": "stdout",
     "output_type": "stream",
     "text": [
      "Begin group  1 training\n"
     ]
    },
    {
     "name": "stderr",
     "output_type": "stream",
     "text": [
      "Epoch:   0%|                                                                                     | 0/20 [00:00<?, ?it/s]"
     ]
    },
    {
     "name": "stdout",
     "output_type": "stream",
     "text": [
      "Begin group  2 training\n"
     ]
    },
    {
     "name": "stderr",
     "output_type": "stream",
     "text": [
      "                                                                                                                        "
     ]
    },
    {
     "name": "stdout",
     "output_type": "stream",
     "text": [
      "Begin group  3 training\n"
     ]
    },
    {
     "name": "stderr",
     "output_type": "stream",
     "text": [
      "Epoch:  45%|██████████████████████████████████▋                                          | 9/20 [00:00<00:00, 81.79it/s]"
     ]
    },
    {
     "name": "stdout",
     "output_type": "stream",
     "text": [
      "Begin group  4 training\n"
     ]
    },
    {
     "name": "stderr",
     "output_type": "stream",
     "text": [
      "                                                                                                                        \r"
     ]
    },
    {
     "name": "stdout",
     "output_type": "stream",
     "text": [
      "Group 0, clients ['f_00093', 'f_00163', 'f_00083', 'f_00174', 'f_00063']\n",
      "Group 1, clients ['f_00128', 'f_00067', 'f_00138', 'f_00068', 'f_00028', 'f_00088', 'f_00167']\n",
      "Group 2, clients ['f_00002', 'f_00001', 'f_00132']\n",
      "Group 3, clients ['f_00055', 'f_00086']\n",
      "Group 4, clients ['f_00130', 'f_00080', 'f_00050']\n"
     ]
    },
    {
     "name": "stderr",
     "output_type": "stream",
     "text": [
      "Epoch:  20%|███████████████▍                                                             | 4/20 [00:00<00:00, 36.57it/s]"
     ]
    },
    {
     "name": "stdout",
     "output_type": "stream",
     "text": [
      "Group 0\n",
      "At round 145 accuracy: 0.9113300492610837\n",
      "At round 145 training accuracy: 0.934416715031921\n",
      "At round 145 training loss: 0.21632455863129915\n",
      "Group 1\n",
      "At round 145 accuracy: 0.8192771084337349\n",
      "At round 145 training accuracy: 0.8075552387740556\n",
      "At round 145 training loss: 0.5517588254178496\n",
      "Group 2\n",
      "At round 145 accuracy: 0.8585858585858586\n",
      "At round 145 training accuracy: 0.8662926601215521\n",
      "At round 145 training loss: 0.42181462985944557\n",
      "Group 3\n",
      "At round 145 accuracy: 0.8851963746223565\n",
      "At round 145 training accuracy: 0.8690518783542039\n",
      "At round 145 training loss: 0.34553546233732446\n",
      "Group 4\n",
      "At round 145 accuracy: 0.925\n",
      "At round 145 training accuracy: 0.9102067183462532\n",
      "At round 145 training loss: 0.2448174852290665\n",
      "At round 145 mean test accuracy: 0.8799376299376299 mean train accuracy: 0.879300895195177\n",
      "The groups difference are: [18.6264625  18.71462231 18.56998733 18.55129839 18.79123448]\n",
      "Begin group  0 training\n"
     ]
    },
    {
     "name": "stderr",
     "output_type": "stream",
     "text": [
      "Epoch:  20%|███████████████▍                                                             | 4/20 [00:00<00:00, 35.10it/s]"
     ]
    },
    {
     "name": "stdout",
     "output_type": "stream",
     "text": [
      "Begin group  1 training\n"
     ]
    },
    {
     "name": "stderr",
     "output_type": "stream",
     "text": [
      "Epoch:  45%|██████████████████████████████████▋                                          | 9/20 [00:00<00:00, 80.81it/s]"
     ]
    },
    {
     "name": "stdout",
     "output_type": "stream",
     "text": [
      "Begin group  2 training\n"
     ]
    },
    {
     "name": "stderr",
     "output_type": "stream",
     "text": [
      "                                                                                                                        "
     ]
    },
    {
     "name": "stdout",
     "output_type": "stream",
     "text": [
      "Begin group  3 training\n"
     ]
    },
    {
     "name": "stderr",
     "output_type": "stream",
     "text": [
      "Epoch:  35%|██████████████████████████▉                                                  | 7/20 [00:00<00:00, 62.69it/s]"
     ]
    },
    {
     "name": "stdout",
     "output_type": "stream",
     "text": [
      "Begin group  4 training\n"
     ]
    },
    {
     "name": "stderr",
     "output_type": "stream",
     "text": [
      "                                                                                                                        \r"
     ]
    },
    {
     "name": "stdout",
     "output_type": "stream",
     "text": [
      "Group 0, clients ['f_00143', 'f_00193', 'f_00004', 'f_00024']\n",
      "Group 1, clients ['f_00007', 'f_00197', 'f_00089', 'f_00078', 'f_00148', 'f_00118', 'f_00087', 'f_00057']\n",
      "Group 2, clients ['f_00041', 'f_00162', 'f_00081']\n",
      "Group 3, clients ['f_00076', 'f_00056', 'f_00185', 'f_00095']\n",
      "Group 4, clients ['f_00039']\n"
     ]
    },
    {
     "name": "stderr",
     "output_type": "stream",
     "text": [
      "Epoch:   0%|                                                                                     | 0/20 [00:00<?, ?it/s]"
     ]
    },
    {
     "name": "stdout",
     "output_type": "stream",
     "text": [
      "Group 0\n",
      "At round 146 accuracy: 0.8694581280788177\n",
      "At round 146 training accuracy: 0.885664538595473\n",
      "At round 146 training loss: 0.37261143244815925\n",
      "Group 1\n",
      "At round 146 accuracy: 0.8313253012048193\n",
      "At round 146 training accuracy: 0.8592302209550963\n",
      "At round 146 training loss: 0.4087104629313657\n",
      "Group 2\n",
      "At round 146 accuracy: 0.8767676767676768\n",
      "At round 146 training accuracy: 0.8840579710144928\n",
      "At round 146 training loss: 0.35482179459886276\n",
      "Group 3\n",
      "At round 146 accuracy: 0.8610271903323263\n",
      "At round 146 training accuracy: 0.8737030411449016\n",
      "At round 146 training loss: 0.37676059121735833\n",
      "Group 4\n",
      "At round 146 accuracy: 0.9305555555555556\n",
      "At round 146 training accuracy: 0.917312661498708\n",
      "At round 146 training loss: 0.25537565038046134\n",
      "At round 146 mean test accuracy: 0.8747401247401247 mean train accuracy: 0.8846598867304062\n",
      "The groups difference are: [18.66002708 18.75517309 18.60455911 18.58169763 18.83028545]\n",
      "Begin group  0 training\n"
     ]
    },
    {
     "name": "stderr",
     "output_type": "stream",
     "text": [
      "Epoch:  70%|████████████████████████████████████████████████████▌                      | 14/20 [00:00<00:00, 139.73it/s]"
     ]
    },
    {
     "name": "stdout",
     "output_type": "stream",
     "text": [
      "Begin group  1 training\n"
     ]
    },
    {
     "name": "stderr",
     "output_type": "stream",
     "text": [
      "Epoch:   0%|                                                                                     | 0/20 [00:00<?, ?it/s]"
     ]
    },
    {
     "name": "stdout",
     "output_type": "stream",
     "text": [
      "Begin group  2 training\n"
     ]
    },
    {
     "name": "stderr",
     "output_type": "stream",
     "text": [
      "Epoch:  25%|███████████████████▎                                                         | 5/20 [00:00<00:00, 46.98it/s]"
     ]
    },
    {
     "name": "stdout",
     "output_type": "stream",
     "text": [
      "Begin group  3 training\n"
     ]
    },
    {
     "name": "stderr",
     "output_type": "stream",
     "text": [
      "                                                                                                                        "
     ]
    },
    {
     "name": "stdout",
     "output_type": "stream",
     "text": [
      "Begin group  4 training\n",
      "Group 0, clients ['f_00024', 'f_00072', 'f_00044', 'f_00133', 'f_00174', 'f_00194', 'f_00134']\n",
      "Group 1, clients ['f_00138', 'f_00169', 'f_00097', 'f_00089']\n",
      "Group 2, clients ['f_00062', 'f_00031', 'f_00112', 'f_00022', 'f_00021']\n",
      "Group 3, clients ['f_00035', 'f_00175']\n",
      "Group 4, clients ['f_00140', 'f_00090']\n"
     ]
    },
    {
     "name": "stderr",
     "output_type": "stream",
     "text": [
      "Epoch:  50%|██████████████████████████████████████                                      | 10/20 [00:00<00:00, 91.78it/s]"
     ]
    },
    {
     "name": "stdout",
     "output_type": "stream",
     "text": [
      "Group 0\n",
      "At round 147 accuracy: 0.916256157635468\n",
      "At round 147 training accuracy: 0.9439930354033662\n",
      "At round 147 training loss: 0.21948624739355288\n",
      "Group 1\n",
      "At round 147 accuracy: 0.8734939759036144\n",
      "At round 147 training accuracy: 0.8806129722024234\n",
      "At round 147 training loss: 0.3807210616969204\n",
      "Group 2\n",
      "At round 147 accuracy: 0.9050505050505051\n",
      "At round 147 training accuracy: 0.9090696587190276\n",
      "At round 147 training loss: 0.2614767830501049\n",
      "Group 3\n",
      "At round 147 accuracy: 0.8972809667673716\n",
      "At round 147 training accuracy: 0.8930232558139535\n",
      "At round 147 training loss: 0.3325578259820642\n",
      "Group 4\n",
      "At round 147 accuracy: 0.8916666666666667\n",
      "At round 147 training accuracy: 0.8837209302325582\n",
      "At round 147 training loss: 0.33579495956505184\n",
      "At round 147 mean test accuracy: 0.8981288981288982 mean train accuracy: 0.9040253334145302\n",
      "The groups difference are: [18.67046189 18.76775139 18.61612295 18.59064422 18.83749603]\n",
      "Begin group  0 training\n"
     ]
    },
    {
     "name": "stderr",
     "output_type": "stream",
     "text": [
      "Epoch:   0%|                                                                                     | 0/20 [00:00<?, ?it/s]"
     ]
    },
    {
     "name": "stdout",
     "output_type": "stream",
     "text": [
      "Begin group  1 training\n"
     ]
    },
    {
     "name": "stderr",
     "output_type": "stream",
     "text": [
      "Epoch:   5%|███▊                                                                         | 1/20 [00:00<00:03,  5.55it/s]"
     ]
    },
    {
     "name": "stdout",
     "output_type": "stream",
     "text": [
      "Begin group  2 training\n"
     ]
    },
    {
     "name": "stderr",
     "output_type": "stream",
     "text": [
      "Epoch:   0%|                                                                                     | 0/20 [00:00<?, ?it/s]"
     ]
    },
    {
     "name": "stdout",
     "output_type": "stream",
     "text": [
      "Begin group  3 training\n"
     ]
    },
    {
     "name": "stderr",
     "output_type": "stream",
     "text": [
      "Epoch:   0%|                                                                                     | 0/20 [00:00<?, ?it/s]"
     ]
    },
    {
     "name": "stdout",
     "output_type": "stream",
     "text": [
      "Begin group  4 training\n"
     ]
    },
    {
     "name": "stderr",
     "output_type": "stream",
     "text": [
      "                                                                                                                        \r"
     ]
    },
    {
     "name": "stdout",
     "output_type": "stream",
     "text": [
      "Group 0, clients ['f_00153', 'f_00023', 'f_00193', 'f_00073', 'f_00034', 'f_00013']\n",
      "Group 1, clients ['f_00158', 'f_00097', 'f_00088']\n",
      "Group 2, clients ['f_00192', 'f_00181', 'f_00002']\n",
      "Group 3, clients ['f_00056', 'f_00135', 'f_00055', 'f_00185']\n",
      "Group 4, clients ['f_00189', 'f_00030', 'f_00149', 'f_00060']\n"
     ]
    },
    {
     "name": "stderr",
     "output_type": "stream",
     "text": [
      "Epoch:   0%|                                                                                     | 0/20 [00:00<?, ?it/s]"
     ]
    },
    {
     "name": "stdout",
     "output_type": "stream",
     "text": [
      "Group 0\n",
      "At round 148 accuracy: 0.9064039408866995\n",
      "At round 148 training accuracy: 0.9036564132327336\n",
      "At round 148 training loss: 0.2826732449083266\n",
      "Group 1\n",
      "At round 148 accuracy: 0.7771084337349398\n",
      "At round 148 training accuracy: 0.7544547398431931\n",
      "At round 148 training loss: 0.608993566055342\n",
      "Group 2\n",
      "At round 148 accuracy: 0.8545454545454545\n",
      "At round 148 training accuracy: 0.875409069658719\n",
      "At round 148 training loss: 0.37450339406199296\n",
      "Group 3\n",
      "At round 148 accuracy: 0.8851963746223565\n",
      "At round 148 training accuracy: 0.8683363148479427\n",
      "At round 148 training loss: 0.3525096092026594\n",
      "Group 4\n",
      "At round 148 accuracy: 0.9472222222222222\n",
      "At round 148 training accuracy: 0.9282945736434108\n",
      "At round 148 training loss: 0.23922456032175388\n",
      "At round 148 mean test accuracy: 0.8747401247401247 mean train accuracy: 0.8694354789598685\n",
      "The groups difference are: [18.68383444 18.77999816 18.62254333 18.60687687 18.85421138]\n",
      "Begin group  0 training\n"
     ]
    },
    {
     "name": "stderr",
     "output_type": "stream",
     "text": [
      "Epoch:   0%|                                                                                     | 0/20 [00:00<?, ?it/s]"
     ]
    },
    {
     "name": "stdout",
     "output_type": "stream",
     "text": [
      "Begin group  1 training\n"
     ]
    },
    {
     "name": "stderr",
     "output_type": "stream",
     "text": [
      "Epoch:   0%|                                                                                     | 0/20 [00:00<?, ?it/s]"
     ]
    },
    {
     "name": "stdout",
     "output_type": "stream",
     "text": [
      "Begin group  2 training\n"
     ]
    },
    {
     "name": "stderr",
     "output_type": "stream",
     "text": [
      "Epoch:  45%|██████████████████████████████████▋                                          | 9/20 [00:00<00:00, 80.26it/s]"
     ]
    },
    {
     "name": "stdout",
     "output_type": "stream",
     "text": [
      "Begin group  3 training\n"
     ]
    },
    {
     "name": "stderr",
     "output_type": "stream",
     "text": [
      "Epoch:  45%|██████████████████████████████████▋                                          | 9/20 [00:00<00:00, 86.09it/s]"
     ]
    },
    {
     "name": "stdout",
     "output_type": "stream",
     "text": [
      "Begin group  4 training\n"
     ]
    },
    {
     "name": "stderr",
     "output_type": "stream",
     "text": [
      "                                                                                                                        \r"
     ]
    },
    {
     "name": "stdout",
     "output_type": "stream",
     "text": [
      "Group 0, clients ['f_00013', 'f_00063', 'f_00074']\n",
      "Group 1, clients ['f_00058', 'f_00089', 'f_00107']\n",
      "Group 2, clients ['f_00061', 'f_00091', 'f_00182', 'f_00071', 'f_00022', 'f_00052', 'f_00141', 'f_00062']\n",
      "Group 3, clients ['f_00026', 'f_00135', 'f_00186']\n",
      "Group 4, clients ['f_00180', 'f_00110', 'f_00090']\n"
     ]
    },
    {
     "name": "stderr",
     "output_type": "stream",
     "text": [
      "Epoch:  60%|█████████████████████████████████████████████                              | 12/20 [00:00<00:00, 116.89it/s]"
     ]
    },
    {
     "name": "stdout",
     "output_type": "stream",
     "text": [
      "Group 0\n",
      "At round 149 accuracy: 0.8768472906403941\n",
      "At round 149 training accuracy: 0.9065583284968078\n",
      "At round 149 training loss: 0.2878677588614548\n",
      "Group 1\n",
      "At round 149 accuracy: 0.8072289156626506\n",
      "At round 149 training accuracy: 0.7772630078403421\n",
      "At round 149 training loss: 0.6101677917416658\n",
      "Group 2\n",
      "At round 149 accuracy: 0.8929292929292929\n",
      "At round 149 training accuracy: 0.9025245441795231\n",
      "At round 149 training loss: 0.2675224403141466\n",
      "Group 3\n",
      "At round 149 accuracy: 0.8429003021148036\n",
      "At round 149 training accuracy: 0.8411449016100179\n",
      "At round 149 training loss: 0.43780812379605866\n",
      "Group 4\n",
      "At round 149 accuracy: 0.9361111111111111\n",
      "At round 149 training accuracy: 0.9237726098191215\n",
      "At round 149 training loss: 0.22127059348245232\n",
      "At round 149 mean test accuracy: 0.8742203742203742 mean train accuracy: 0.8755252420680836\n",
      "The groups difference are: [18.71766349 18.81538374 18.65770948 18.64017876 18.88634104]\n",
      "Begin group  0 training\n"
     ]
    },
    {
     "name": "stderr",
     "output_type": "stream",
     "text": [
      "Epoch:   0%|                                                                                     | 0/20 [00:00<?, ?it/s]"
     ]
    },
    {
     "name": "stdout",
     "output_type": "stream",
     "text": [
      "Begin group  1 training\n"
     ]
    },
    {
     "name": "stderr",
     "output_type": "stream",
     "text": [
      "Epoch:  35%|██████████████████████████▉                                                  | 7/20 [00:00<00:00, 63.94it/s]"
     ]
    },
    {
     "name": "stdout",
     "output_type": "stream",
     "text": [
      "Begin group  2 training\n"
     ]
    },
    {
     "name": "stderr",
     "output_type": "stream",
     "text": [
      "Epoch:  50%|██████████████████████████████████████                                      | 10/20 [00:00<00:00, 92.97it/s]"
     ]
    },
    {
     "name": "stdout",
     "output_type": "stream",
     "text": [
      "Begin group  3 training\n"
     ]
    },
    {
     "name": "stderr",
     "output_type": "stream",
     "text": [
      "Epoch:  30%|███████████████████████                                                      | 6/20 [00:00<00:00, 51.24it/s]"
     ]
    },
    {
     "name": "stdout",
     "output_type": "stream",
     "text": [
      "Begin group  4 training\n"
     ]
    },
    {
     "name": "stderr",
     "output_type": "stream",
     "text": [
      "                                                                                                                        \r"
     ]
    },
    {
     "name": "stdout",
     "output_type": "stream",
     "text": [
      "Group 0, clients ['f_00072', 'f_00194', 'f_00184', 'f_00013', 'f_00033', 'f_00084', 'f_00133']\n",
      "Group 1, clients ['f_00087', 'f_00008', 'f_00058']\n",
      "Group 2, clients ['f_00042', 'f_00091']\n",
      "Group 3, clients ['f_00085', 'f_00036', 'f_00056', 'f_00066']\n",
      "Group 4, clients ['f_00070', 'f_00009', 'f_00119', 'f_00168']\n"
     ]
    },
    {
     "name": "stderr",
     "output_type": "stream",
     "text": [
      "Epoch:  55%|█████████████████████████████████████████▎                                 | 11/20 [00:00<00:00, 101.60it/s]"
     ]
    },
    {
     "name": "stdout",
     "output_type": "stream",
     "text": [
      "Group 0\n",
      "At round 150 accuracy: 0.896551724137931\n",
      "At round 150 training accuracy: 0.905977945443993\n",
      "At round 150 training loss: 0.27148265166784347\n",
      "Group 1\n",
      "At round 150 accuracy: 0.7771084337349398\n",
      "At round 150 training accuracy: 0.7565930149679259\n",
      "At round 150 training loss: 0.536584553564351\n",
      "Group 2\n",
      "At round 150 accuracy: 0.8828282828282829\n",
      "At round 150 training accuracy: 0.8831229546517064\n",
      "At round 150 training loss: 0.3533560380290858\n",
      "Group 3\n",
      "At round 150 accuracy: 0.9365558912386707\n",
      "At round 150 training accuracy: 0.9431127012522361\n",
      "At round 150 training loss: 0.24795764972437473\n",
      "Group 4\n",
      "At round 150 accuracy: 0.9277777777777778\n",
      "At round 150 training accuracy: 0.9037467700258398\n",
      "At round 150 training loss: 0.24703755510070913\n",
      "At round 150 mean test accuracy: 0.8851351351351351 mean train accuracy: 0.8803970525546556\n",
      "The groups difference are: [18.74234146 18.84143737 18.68063187 18.66501152 18.91844152]\n",
      "Begin group  0 training\n"
     ]
    },
    {
     "name": "stderr",
     "output_type": "stream",
     "text": [
      "Epoch:  20%|███████████████▍                                                             | 4/20 [00:00<00:00, 33.26it/s]"
     ]
    },
    {
     "name": "stdout",
     "output_type": "stream",
     "text": [
      "Begin group  1 training\n"
     ]
    },
    {
     "name": "stderr",
     "output_type": "stream",
     "text": [
      "Epoch:   0%|                                                                                     | 0/20 [00:00<?, ?it/s]"
     ]
    },
    {
     "name": "stdout",
     "output_type": "stream",
     "text": [
      "Begin group  2 training\n"
     ]
    },
    {
     "name": "stderr",
     "output_type": "stream",
     "text": [
      "Epoch:   0%|                                                                                     | 0/20 [00:00<?, ?it/s]"
     ]
    },
    {
     "name": "stdout",
     "output_type": "stream",
     "text": [
      "Begin group  3 training\n"
     ]
    },
    {
     "name": "stderr",
     "output_type": "stream",
     "text": [
      "Epoch:  25%|███████████████████▎                                                         | 5/20 [00:00<00:00, 44.52it/s]"
     ]
    },
    {
     "name": "stdout",
     "output_type": "stream",
     "text": [
      "Begin group  4 training\n"
     ]
    },
    {
     "name": "stderr",
     "output_type": "stream",
     "text": [
      "                                                                                                                        \r"
     ]
    },
    {
     "name": "stdout",
     "output_type": "stream",
     "text": [
      "Group 0, clients ['f_00053', 'f_00103', 'f_00153', 'f_00094']\n",
      "Group 1, clients ['f_00007', 'f_00038', 'f_00008', 'f_00177', 'f_00138', 'f_00187']\n",
      "Group 2, clients ['f_00061', 'f_00022', 'f_00142', 'f_00011']\n",
      "Group 3, clients ['f_00166', 'f_00076', 'f_00066', 'f_00156']\n",
      "Group 4, clients ['f_00170', 'f_00050']\n"
     ]
    },
    {
     "name": "stderr",
     "output_type": "stream",
     "text": [
      "Epoch:  15%|███████████▌                                                                 | 3/20 [00:00<00:00, 19.63it/s]"
     ]
    },
    {
     "name": "stdout",
     "output_type": "stream",
     "text": [
      "Group 0\n",
      "At round 151 accuracy: 0.9310344827586207\n",
      "At round 151 training accuracy: 0.9579222286709228\n",
      "At round 151 training loss: 0.1793989614322479\n",
      "Group 1\n",
      "At round 151 accuracy: 0.6957831325301205\n",
      "At round 151 training accuracy: 0.6938702779757662\n",
      "At round 151 training loss: 0.9770809011806018\n",
      "Group 2\n",
      "At round 151 accuracy: 0.8767676767676768\n",
      "At round 151 training accuracy: 0.8791491351098645\n",
      "At round 151 training loss: 0.31983906219357666\n",
      "Group 3\n",
      "At round 151 accuracy: 0.9486404833836858\n",
      "At round 151 training accuracy: 0.9338103756708408\n",
      "At round 151 training loss: 0.26888742113489267\n",
      "Group 4\n",
      "At round 151 accuracy: 0.9305555555555556\n",
      "At round 151 training accuracy: 0.8998708010335917\n",
      "At round 151 training loss: 0.2450711637234811\n",
      "At round 151 mean test accuracy: 0.8794178794178794 mean train accuracy: 0.8772303757383838\n",
      "The groups difference are: [18.77829944 18.88216652 18.71698754 18.69823247 18.95612485]\n",
      "Begin group  0 training\n"
     ]
    },
    {
     "name": "stderr",
     "output_type": "stream",
     "text": [
      "Epoch:   0%|                                                                                     | 0/20 [00:00<?, ?it/s]"
     ]
    },
    {
     "name": "stdout",
     "output_type": "stream",
     "text": [
      "Begin group  1 training\n"
     ]
    },
    {
     "name": "stderr",
     "output_type": "stream",
     "text": [
      "Epoch:   0%|                                                                                     | 0/20 [00:00<?, ?it/s]"
     ]
    },
    {
     "name": "stdout",
     "output_type": "stream",
     "text": [
      "Begin group  2 training\n"
     ]
    },
    {
     "name": "stderr",
     "output_type": "stream",
     "text": [
      "Epoch:  25%|███████████████████▎                                                         | 5/20 [00:00<00:00, 40.77it/s]"
     ]
    },
    {
     "name": "stdout",
     "output_type": "stream",
     "text": [
      "Begin group  3 training\n"
     ]
    },
    {
     "name": "stderr",
     "output_type": "stream",
     "text": [
      "                                                                                                                        "
     ]
    },
    {
     "name": "stdout",
     "output_type": "stream",
     "text": [
      "Begin group  4 training\n"
     ]
    },
    {
     "name": "stderr",
     "output_type": "stream",
     "text": [
      "\r"
     ]
    },
    {
     "name": "stdout",
     "output_type": "stream",
     "text": [
      "Group 0, clients ['f_00063', 'f_00133', 'f_00003', 'f_00144']\n",
      "Group 1, clients ['f_00088', 'f_00078', 'f_00167']\n",
      "Group 2, clients ['f_00102', 'f_00191', 'f_00052', 'f_00021', 'f_00141', 'f_00192']\n",
      "Group 3, clients ['f_00156', 'f_00076', 'f_00116', 'f_00115', 'f_00085']\n",
      "Group 4, clients ['f_00099', 'f_00010']\n"
     ]
    },
    {
     "name": "stderr",
     "output_type": "stream",
     "text": [
      "Epoch:   0%|                                                                                     | 0/20 [00:00<?, ?it/s]"
     ]
    },
    {
     "name": "stdout",
     "output_type": "stream",
     "text": [
      "Group 0\n",
      "At round 152 accuracy: 0.8645320197044335\n",
      "At round 152 training accuracy: 0.8792803250145096\n",
      "At round 152 training loss: 0.3504580151823739\n",
      "Group 1\n",
      "At round 152 accuracy: 0.7740963855421686\n",
      "At round 152 training accuracy: 0.804704205274412\n",
      "At round 152 training loss: 0.5986314922735807\n",
      "Group 2\n",
      "At round 152 accuracy: 0.896969696969697\n",
      "At round 152 training accuracy: 0.9057971014492754\n",
      "At round 152 training loss: 0.27318725438789404\n",
      "Group 3\n",
      "At round 152 accuracy: 0.8187311178247734\n",
      "At round 152 training accuracy: 0.813953488372093\n",
      "At round 152 training loss: 0.56239015095549\n",
      "Group 4\n",
      "At round 152 accuracy: 0.9472222222222222\n",
      "At round 152 training accuracy: 0.9273255813953488\n",
      "At round 152 training loss: 0.21778331342386684\n",
      "At round 152 mean test accuracy: 0.8648648648648649 mean train accuracy: 0.8713842031544973\n",
      "The groups difference are: [18.80577927 18.90601821 18.73745652 18.71769161 18.97632845]\n",
      "Begin group  0 training\n"
     ]
    },
    {
     "name": "stderr",
     "output_type": "stream",
     "text": [
      "Epoch:   0%|                                                                                     | 0/20 [00:00<?, ?it/s]"
     ]
    },
    {
     "name": "stdout",
     "output_type": "stream",
     "text": [
      "Begin group  1 training\n"
     ]
    },
    {
     "name": "stderr",
     "output_type": "stream",
     "text": [
      "Epoch:  30%|███████████████████████                                                      | 6/20 [00:00<00:00, 51.20it/s]"
     ]
    },
    {
     "name": "stdout",
     "output_type": "stream",
     "text": [
      "Begin group  2 training\n"
     ]
    },
    {
     "name": "stderr",
     "output_type": "stream",
     "text": [
      "Epoch:   0%|                                                                                     | 0/20 [00:00<?, ?it/s]"
     ]
    },
    {
     "name": "stdout",
     "output_type": "stream",
     "text": [
      "Begin group  3 training\n"
     ]
    },
    {
     "name": "stderr",
     "output_type": "stream",
     "text": [
      "Epoch:   0%|                                                                                     | 0/20 [00:00<?, ?it/s]"
     ]
    },
    {
     "name": "stdout",
     "output_type": "stream",
     "text": [
      "Begin group  4 training\n"
     ]
    },
    {
     "name": "stderr",
     "output_type": "stream",
     "text": [
      "                                                                                                                        \r"
     ]
    },
    {
     "name": "stdout",
     "output_type": "stream",
     "text": [
      "Group 0, clients ['f_00023', 'f_00074', 'f_00004']\n",
      "Group 1, clients ['f_00048', 'f_00198', 'f_00127', 'f_00077']\n",
      "Group 2, clients ['f_00071', 'f_00162', 'f_00101', 'f_00001']\n",
      "Group 3, clients ['f_00015', 'f_00016', 'f_00056', 'f_00125']\n",
      "Group 4, clients ['f_00029', 'f_00020', 'f_00060', 'f_00160', 'f_00039']\n"
     ]
    },
    {
     "name": "stderr",
     "output_type": "stream",
     "text": [
      "Epoch:  35%|██████████████████████████▉                                                  | 7/20 [00:00<00:00, 67.04it/s]"
     ]
    },
    {
     "name": "stdout",
     "output_type": "stream",
     "text": [
      "Group 0\n",
      "At round 153 accuracy: 0.9113300492610837\n",
      "At round 153 training accuracy: 0.9352872896111434\n",
      "At round 153 training loss: 0.24056063195257013\n",
      "Group 1\n",
      "At round 153 accuracy: 0.858433734939759\n",
      "At round 153 training accuracy: 0.8642195295794726\n",
      "At round 153 training loss: 0.3812533391192184\n",
      "Group 2\n",
      "At round 153 accuracy: 0.907070707070707\n",
      "At round 153 training accuracy: 0.9109396914446003\n",
      "At round 153 training loss: 0.22047702675792394\n",
      "Group 3\n",
      "At round 153 accuracy: 0.8761329305135952\n",
      "At round 153 training accuracy: 0.8754919499105546\n",
      "At round 153 training loss: 0.4279370314503265\n",
      "Group 4\n",
      "At round 153 accuracy: 0.9194444444444444\n",
      "At round 153 training accuracy: 0.9053617571059431\n",
      "At round 153 training loss: 0.2680370065128522\n",
      "At round 153 mean test accuracy: 0.8965696465696466 mean train accuracy: 0.9009804518604226\n",
      "The groups difference are: [18.8250943  18.93185059 18.76641187 18.74084332 19.00738608]\n",
      "Begin group  0 training\n"
     ]
    },
    {
     "name": "stderr",
     "output_type": "stream",
     "text": [
      "Epoch:   0%|                                                                                     | 0/20 [00:00<?, ?it/s]"
     ]
    },
    {
     "name": "stdout",
     "output_type": "stream",
     "text": [
      "Begin group  1 training\n"
     ]
    },
    {
     "name": "stderr",
     "output_type": "stream",
     "text": [
      "Epoch:   0%|                                                                                     | 0/20 [00:00<?, ?it/s]"
     ]
    },
    {
     "name": "stdout",
     "output_type": "stream",
     "text": [
      "Begin group  2 training\n"
     ]
    },
    {
     "name": "stderr",
     "output_type": "stream",
     "text": [
      "Epoch:  50%|██████████████████████████████████████                                      | 10/20 [00:00<00:00, 96.57it/s]"
     ]
    },
    {
     "name": "stdout",
     "output_type": "stream",
     "text": [
      "Begin group  3 training\n"
     ]
    },
    {
     "name": "stderr",
     "output_type": "stream",
     "text": [
      "Epoch:   0%|                                                                                     | 0/20 [00:00<?, ?it/s]"
     ]
    },
    {
     "name": "stdout",
     "output_type": "stream",
     "text": [
      "Begin group  4 training\n"
     ]
    },
    {
     "name": "stderr",
     "output_type": "stream",
     "text": [
      "                                                                                                                        \r"
     ]
    },
    {
     "name": "stdout",
     "output_type": "stream",
     "text": [
      "Group 0, clients ['f_00123', 'f_00163', 'f_00134', 'f_00013']\n",
      "Group 1, clients ['f_00157', 'f_00058', 'f_00107', 'f_00188', 'f_00077', 'f_00187', 'f_00097', 'f_00118']\n",
      "Group 2, clients ['f_00092', 'f_00101', 'f_00162']\n",
      "Group 3, clients ['f_00155', 'f_00095', 'f_00076', 'f_00065']\n",
      "Group 4, clients ['f_00040']\n"
     ]
    },
    {
     "name": "stderr",
     "output_type": "stream",
     "text": [
      "Epoch:  20%|███████████████▍                                                             | 4/20 [00:00<00:00, 33.89it/s]"
     ]
    },
    {
     "name": "stdout",
     "output_type": "stream",
     "text": [
      "Group 0\n",
      "At round 154 accuracy: 0.9261083743842364\n",
      "At round 154 training accuracy: 0.9544399303540336\n",
      "At round 154 training loss: 0.21251863759395884\n",
      "Group 1\n",
      "At round 154 accuracy: 0.8885542168674698\n",
      "At round 154 training accuracy: 0.8916607270135424\n",
      "At round 154 training loss: 0.34715532997380133\n",
      "Group 2\n",
      "At round 154 accuracy: 0.8545454545454545\n",
      "At round 154 training accuracy: 0.8553062178588126\n",
      "At round 154 training loss: 0.39315107023402657\n",
      "Group 3\n",
      "At round 154 accuracy: 0.9244712990936556\n",
      "At round 154 training accuracy: 0.940608228980322\n",
      "At round 154 training loss: 0.271363174956965\n",
      "Group 4\n",
      "At round 154 accuracy: 0.85\n",
      "At round 154 training accuracy: 0.8452842377260982\n",
      "At round 154 training loss: 0.33741126532452204\n",
      "At round 154 mean test accuracy: 0.8866943866943867 mean train accuracy: 0.8949515863832896\n",
      "The groups difference are: [18.84994309 18.95953893 18.78861705 18.76768587 19.03393017]\n",
      "Begin group  0 training\n"
     ]
    },
    {
     "name": "stderr",
     "output_type": "stream",
     "text": [
      "Epoch:   0%|                                                                                     | 0/20 [00:00<?, ?it/s]"
     ]
    },
    {
     "name": "stdout",
     "output_type": "stream",
     "text": [
      "Begin group  1 training\n"
     ]
    },
    {
     "name": "stderr",
     "output_type": "stream",
     "text": [
      "Epoch:   0%|                                                                                     | 0/20 [00:00<?, ?it/s]"
     ]
    },
    {
     "name": "stdout",
     "output_type": "stream",
     "text": [
      "Begin group  2 training\n"
     ]
    },
    {
     "name": "stderr",
     "output_type": "stream",
     "text": [
      "Epoch:   0%|                                                                                     | 0/20 [00:00<?, ?it/s]"
     ]
    },
    {
     "name": "stdout",
     "output_type": "stream",
     "text": [
      "Begin group  3 training\n"
     ]
    },
    {
     "name": "stderr",
     "output_type": "stream",
     "text": [
      "                                                                                                                        "
     ]
    },
    {
     "name": "stdout",
     "output_type": "stream",
     "text": [
      "Begin group  4 training\n",
      "Group 0, clients ['f_00183', 'f_00083']\n",
      "Group 1, clients ['f_00169', 'f_00077', 'f_00048', 'f_00157', 'f_00007', 'f_00127']\n",
      "Group 2, clients ['f_00022']\n",
      "Group 3, clients ['f_00166', 'f_00125', 'f_00045', 'f_00155', 'f_00065', 'f_00076', 'f_00035']\n",
      "Group 4, clients ['f_00199', 'f_00130', 'f_00060', 'f_00099']\n"
     ]
    },
    {
     "name": "stderr",
     "output_type": "stream",
     "text": [
      "Epoch:   0%|                                                                                     | 0/20 [00:00<?, ?it/s]"
     ]
    },
    {
     "name": "stdout",
     "output_type": "stream",
     "text": [
      "Group 0\n",
      "At round 155 accuracy: 0.8719211822660099\n",
      "At round 155 training accuracy: 0.8888566453859548\n",
      "At round 155 training loss: 0.3504545538341902\n",
      "Group 1\n",
      "At round 155 accuracy: 0.8765060240963856\n",
      "At round 155 training accuracy: 0.8823948681397007\n",
      "At round 155 training loss: 0.39710799474016906\n",
      "Group 2\n",
      "At round 155 accuracy: 0.9191919191919192\n",
      "At round 155 training accuracy: 0.9247311827956989\n",
      "At round 155 training loss: 0.20322684067649338\n",
      "Group 3\n",
      "At round 155 accuracy: 0.9244712990936556\n",
      "At round 155 training accuracy: 0.9227191413237925\n",
      "At round 155 training loss: 0.2978475054406123\n",
      "Group 4\n",
      "At round 155 accuracy: 0.8083333333333333\n",
      "At round 155 training accuracy: 0.8255813953488372\n",
      "At round 155 training loss: 0.3714189107869138\n",
      "At round 155 mean test accuracy: 0.882016632016632 mean train accuracy: 0.8909323427318677\n",
      "The groups difference are: [18.87384448 18.98375554 18.80836173 18.78788134 19.05288747]\n",
      "Begin group  0 training\n"
     ]
    },
    {
     "name": "stderr",
     "output_type": "stream",
     "text": [
      "Epoch:   0%|                                                                                     | 0/20 [00:00<?, ?it/s]"
     ]
    },
    {
     "name": "stdout",
     "output_type": "stream",
     "text": [
      "Begin group  1 training\n"
     ]
    },
    {
     "name": "stderr",
     "output_type": "stream",
     "text": [
      "Epoch:   0%|                                                                                     | 0/20 [00:00<?, ?it/s]"
     ]
    },
    {
     "name": "stdout",
     "output_type": "stream",
     "text": [
      "Begin group  2 training\n",
      "Begin group  3 training\n"
     ]
    },
    {
     "name": "stderr",
     "output_type": "stream",
     "text": [
      "Epoch:  35%|██████████████████████████▉                                                  | 7/20 [00:00<00:00, 60.66it/s]"
     ]
    },
    {
     "name": "stdout",
     "output_type": "stream",
     "text": [
      "Begin group  4 training\n"
     ]
    },
    {
     "name": "stderr",
     "output_type": "stream",
     "text": [
      "                                                                                                                        \r"
     ]
    },
    {
     "name": "stdout",
     "output_type": "stream",
     "text": [
      "Group 0, clients ['f_00072', 'f_00144', 'f_00003']\n",
      "Group 1, clients ['f_00077', 'f_00049', 'f_00068', 'f_00018']\n",
      "Group 2, clients ['f_00051', 'f_00161', 'f_00141', 'f_00132']\n",
      "Group 3, clients ['f_00185', 'f_00196']\n",
      "Group 4, clients ['f_00009', 'f_00000', 'f_00030', 'f_00050', 'f_00099', 'f_00149', 'f_00019']\n"
     ]
    },
    {
     "name": "stderr",
     "output_type": "stream",
     "text": [
      "Epoch:  45%|██████████████████████████████████▋                                          | 9/20 [00:00<00:00, 82.27it/s]"
     ]
    },
    {
     "name": "stdout",
     "output_type": "stream",
     "text": [
      "Group 0\n",
      "At round 156 accuracy: 0.8694581280788177\n",
      "At round 156 training accuracy: 0.8818920487521764\n",
      "At round 156 training loss: 0.40708020039011406\n",
      "Group 1\n",
      "At round 156 accuracy: 0.8493975903614458\n",
      "At round 156 training accuracy: 0.875623663578047\n",
      "At round 156 training loss: 0.40545609677296746\n",
      "Group 2\n",
      "At round 156 accuracy: 0.9191919191919192\n",
      "At round 156 training accuracy: 0.9247311827956989\n",
      "At round 156 training loss: 0.20736019038771597\n",
      "Group 3\n",
      "At round 156 accuracy: 0.945619335347432\n",
      "At round 156 training accuracy: 0.9506261180679786\n",
      "At round 156 training loss: 0.23110571889030165\n",
      "Group 4\n",
      "At round 156 accuracy: 0.9027777777777778\n",
      "At round 156 training accuracy: 0.8930878552971576\n",
      "At round 156 training loss: 0.30453833474450354\n",
      "At round 156 mean test accuracy: 0.8981288981288982 mean train accuracy: 0.9057913647159126\n",
      "The groups difference are: [18.88152877 18.99439222 18.81995523 18.80046666 19.06837472]\n",
      "Begin group  0 training\n"
     ]
    },
    {
     "name": "stderr",
     "output_type": "stream",
     "text": [
      "Epoch:   0%|                                                                                     | 0/20 [00:00<?, ?it/s]"
     ]
    },
    {
     "name": "stdout",
     "output_type": "stream",
     "text": [
      "Begin group  1 training\n"
     ]
    },
    {
     "name": "stderr",
     "output_type": "stream",
     "text": [
      "Epoch:   0%|                                                                                     | 0/20 [00:00<?, ?it/s]"
     ]
    },
    {
     "name": "stdout",
     "output_type": "stream",
     "text": [
      "Begin group  2 training\n"
     ]
    },
    {
     "name": "stderr",
     "output_type": "stream",
     "text": [
      "Epoch:   0%|                                                                                     | 0/20 [00:00<?, ?it/s]"
     ]
    },
    {
     "name": "stdout",
     "output_type": "stream",
     "text": [
      "Begin group  3 training\n"
     ]
    },
    {
     "name": "stderr",
     "output_type": "stream",
     "text": [
      "Epoch:   0%|                                                                                     | 0/20 [00:00<?, ?it/s]"
     ]
    },
    {
     "name": "stdout",
     "output_type": "stream",
     "text": [
      "Begin group  4 training\n"
     ]
    },
    {
     "name": "stderr",
     "output_type": "stream",
     "text": [
      "                                                                                                                        \r"
     ]
    },
    {
     "name": "stdout",
     "output_type": "stream",
     "text": [
      "Group 0, clients ['f_00144', 'f_00123', 'f_00094', 'f_00072', 'f_00103', 'f_00033']\n",
      "Group 1, clients ['f_00178', 'f_00087', 'f_00127']\n",
      "Group 2, clients ['f_00012', 'f_00052', 'f_00151', 'f_00171']\n",
      "Group 3, clients ['f_00055', 'f_00155']\n",
      "Group 4, clients ['f_00120', 'f_00039', 'f_00040', 'f_00060', 'f_00199']\n"
     ]
    },
    {
     "name": "stderr",
     "output_type": "stream",
     "text": [
      "                                                                                                                        "
     ]
    },
    {
     "name": "stdout",
     "output_type": "stream",
     "text": [
      "Group 0\n",
      "At round 157 accuracy: 0.8891625615763546\n",
      "At round 157 training accuracy: 0.9123621590249564\n",
      "At round 157 training loss: 0.214886458404146\n",
      "Group 1\n",
      "At round 157 accuracy: 0.8644578313253012\n",
      "At round 157 training accuracy: 0.8542409123307199\n",
      "At round 157 training loss: 0.42399731705911825\n",
      "Group 2\n",
      "At round 157 accuracy: 0.8787878787878788\n",
      "At round 157 training accuracy: 0.8938756428237494\n",
      "At round 157 training loss: 0.28800262819236305\n",
      "Group 3\n",
      "At round 157 accuracy: 0.945619335347432\n",
      "At round 157 training accuracy: 0.9559928443649374\n",
      "At round 157 training loss: 0.22439048266728043\n",
      "Group 4\n",
      "At round 157 accuracy: 0.9305555555555556\n",
      "At round 157 training accuracy: 0.9176356589147286\n",
      "At round 157 training loss: 0.23735714625526286\n",
      "At round 157 mean test accuracy: 0.8996881496881497 mean train accuracy: 0.9060349552402411\n",
      "The groups difference are: [18.88144543 19.00555174 18.81776869 18.80970124 19.06904486]\n",
      "Begin group  0 training\n"
     ]
    },
    {
     "name": "stderr",
     "output_type": "stream",
     "text": [
      "Epoch:   0%|                                                                                     | 0/20 [00:00<?, ?it/s]"
     ]
    },
    {
     "name": "stdout",
     "output_type": "stream",
     "text": [
      "Begin group  1 training\n"
     ]
    },
    {
     "name": "stderr",
     "output_type": "stream",
     "text": [
      "Epoch:  30%|███████████████████████                                                      | 6/20 [00:00<00:00, 52.75it/s]"
     ]
    },
    {
     "name": "stdout",
     "output_type": "stream",
     "text": [
      "Begin group  2 training\n"
     ]
    },
    {
     "name": "stderr",
     "output_type": "stream",
     "text": [
      "                                                                                                                        "
     ]
    },
    {
     "name": "stdout",
     "output_type": "stream",
     "text": [
      "Begin group  3 training\n"
     ]
    },
    {
     "name": "stderr",
     "output_type": "stream",
     "text": [
      "Epoch:   0%|                                                                                     | 0/20 [00:00<?, ?it/s]"
     ]
    },
    {
     "name": "stdout",
     "output_type": "stream",
     "text": [
      "Begin group  4 training\n"
     ]
    },
    {
     "name": "stderr",
     "output_type": "stream",
     "text": [
      "                                                                                                                        \r"
     ]
    },
    {
     "name": "stdout",
     "output_type": "stream",
     "text": [
      "Group 0, clients ['f_00023', 'f_00003', 'f_00172']\n",
      "Group 1, clients ['f_00077', 'f_00128', 'f_00176']\n",
      "Group 2, clients ['f_00102', 'f_00162', 'f_00052', 'f_00161']\n",
      "Group 3, clients ['f_00196', 'f_00185', 'f_00105', 'f_00126', 'f_00096', 'f_00015']\n",
      "Group 4, clients ['f_00190', 'f_00149', 'f_00070', 'f_00019']\n"
     ]
    },
    {
     "name": "stderr",
     "output_type": "stream",
     "text": [
      "Epoch:  30%|███████████████████████                                                      | 6/20 [00:00<00:00, 57.04it/s]"
     ]
    },
    {
     "name": "stdout",
     "output_type": "stream",
     "text": [
      "Group 0\n",
      "At round 158 accuracy: 0.8669950738916257\n",
      "At round 158 training accuracy: 0.897852582704585\n",
      "At round 158 training loss: 0.2608273695417622\n",
      "Group 1\n",
      "At round 158 accuracy: 0.7771084337349398\n",
      "At round 158 training accuracy: 0.8025659301496793\n",
      "At round 158 training loss: 0.6179528410014772\n",
      "Group 2\n",
      "At round 158 accuracy: 0.9191919191919192\n",
      "At round 158 training accuracy: 0.9242636746143057\n",
      "At round 158 training loss: 0.2032510921073439\n",
      "Group 3\n",
      "At round 158 accuracy: 0.9214501510574018\n",
      "At round 158 training accuracy: 0.9259391771019678\n",
      "At round 158 training loss: 0.26887395436107475\n",
      "Group 4\n",
      "At round 158 accuracy: 0.9277777777777778\n",
      "At round 158 training accuracy: 0.9121447028423773\n",
      "At round 158 training loss: 0.2627861885334671\n",
      "At round 158 mean test accuracy: 0.8856548856548857 mean train accuracy: 0.8959259484806041\n",
      "The groups difference are: [18.9141906  19.04238985 18.85280592 18.83642262 19.10626144]\n",
      "Begin group  0 training\n"
     ]
    },
    {
     "name": "stderr",
     "output_type": "stream",
     "text": [
      "Epoch:   0%|                                                                                     | 0/20 [00:00<?, ?it/s]"
     ]
    },
    {
     "name": "stdout",
     "output_type": "stream",
     "text": [
      "Begin group  1 training\n"
     ]
    },
    {
     "name": "stderr",
     "output_type": "stream",
     "text": [
      "Epoch:  30%|███████████████████████                                                      | 6/20 [00:00<00:00, 51.36it/s]"
     ]
    },
    {
     "name": "stdout",
     "output_type": "stream",
     "text": [
      "Begin group  2 training\n"
     ]
    },
    {
     "name": "stderr",
     "output_type": "stream",
     "text": [
      "Epoch:   0%|                                                                                     | 0/20 [00:00<?, ?it/s]"
     ]
    },
    {
     "name": "stdout",
     "output_type": "stream",
     "text": [
      "Begin group  3 training\n"
     ]
    },
    {
     "name": "stderr",
     "output_type": "stream",
     "text": [
      "Epoch:   0%|                                                                                     | 0/20 [00:00<?, ?it/s]"
     ]
    },
    {
     "name": "stdout",
     "output_type": "stream",
     "text": [
      "Begin group  4 training\n"
     ]
    },
    {
     "name": "stderr",
     "output_type": "stream",
     "text": [
      "                                                                                                                        \r"
     ]
    },
    {
     "name": "stdout",
     "output_type": "stream",
     "text": [
      "Group 0, clients ['f_00004', 'f_00014', 'f_00184']\n",
      "Group 1, clients ['f_00097', 'f_00128', 'f_00176', 'f_00147', 'f_00038']\n",
      "Group 2, clients ['f_00061', 'f_00131', 'f_00162', 'f_00022', 'f_00151', 'f_00041', 'f_00012']\n",
      "Group 3, clients ['f_00026', 'f_00165', 'f_00116']\n",
      "Group 4, clients ['f_00100', 'f_00020']\n"
     ]
    },
    {
     "name": "stderr",
     "output_type": "stream",
     "text": [
      "                                                                                                                        "
     ]
    },
    {
     "name": "stdout",
     "output_type": "stream",
     "text": [
      "Group 0\n",
      "At round 159 accuracy: 0.8768472906403941\n",
      "At round 159 training accuracy: 0.8697040046430644\n",
      "At round 159 training loss: 0.3827020460204613\n",
      "Group 1\n",
      "At round 159 accuracy: 0.7530120481927711\n",
      "At round 159 training accuracy: 0.7776193870277975\n",
      "At round 159 training loss: 0.6056190002324618\n",
      "Group 2\n",
      "At round 159 accuracy: 0.8868686868686869\n",
      "At round 159 training accuracy: 0.8997194950911641\n",
      "At round 159 training loss: 0.27596930767635475\n",
      "Group 3\n",
      "At round 159 accuracy: 0.9425981873111783\n",
      "At round 159 training accuracy: 0.948479427549195\n",
      "At round 159 training loss: 0.23740089552173782\n",
      "Group 4\n",
      "At round 159 accuracy: 0.9472222222222222\n",
      "At round 159 training accuracy: 0.9231266149870802\n",
      "At round 159 training loss: 0.18978023175294548\n",
      "At round 159 mean test accuracy: 0.8825363825363826 mean train accuracy: 0.8852688630412276\n",
      "The groups difference are: [18.93200889 19.0633445  18.875911   18.86153284 19.13560434]\n",
      "Begin group  0 training\n"
     ]
    },
    {
     "name": "stderr",
     "output_type": "stream",
     "text": [
      "Epoch:   0%|                                                                                     | 0/20 [00:00<?, ?it/s]"
     ]
    },
    {
     "name": "stdout",
     "output_type": "stream",
     "text": [
      "Begin group  1 training\n"
     ]
    },
    {
     "name": "stderr",
     "output_type": "stream",
     "text": [
      "Epoch:   0%|                                                                                     | 0/20 [00:00<?, ?it/s]"
     ]
    },
    {
     "name": "stdout",
     "output_type": "stream",
     "text": [
      "Begin group  2 training\n"
     ]
    },
    {
     "name": "stderr",
     "output_type": "stream",
     "text": [
      "Epoch:   0%|                                                                                     | 0/20 [00:00<?, ?it/s]"
     ]
    },
    {
     "name": "stdout",
     "output_type": "stream",
     "text": [
      "Begin group  3 training\n"
     ]
    },
    {
     "name": "stderr",
     "output_type": "stream",
     "text": [
      "Epoch:  35%|██████████████████████████▉                                                  | 7/20 [00:00<00:00, 62.92it/s]"
     ]
    },
    {
     "name": "stdout",
     "output_type": "stream",
     "text": [
      "Begin group  4 training\n"
     ]
    },
    {
     "name": "stderr",
     "output_type": "stream",
     "text": [
      "                                                                                                                        \r"
     ]
    },
    {
     "name": "stdout",
     "output_type": "stream",
     "text": [
      "Group 0, clients ['f_00064', 'f_00054', 'f_00184']\n",
      "Group 1, clients ['f_00148', 'f_00178', 'f_00198', 'f_00057', 'f_00058']\n",
      "Group 2, clients ['f_00142', 'f_00082', 'f_00081', 'f_00141', 'f_00021']\n",
      "Group 3, clients ['f_00196', 'f_00106', 'f_00115']\n",
      "Group 4, clients ['f_00149', 'f_00000', 'f_00139', 'f_00079']\n"
     ]
    },
    {
     "name": "stderr",
     "output_type": "stream",
     "text": [
      "Epoch:   0%|                                                                                     | 0/20 [00:00<?, ?it/s]"
     ]
    },
    {
     "name": "stdout",
     "output_type": "stream",
     "text": [
      "Group 0\n",
      "At round 160 accuracy: 0.9064039408866995\n",
      "At round 160 training accuracy: 0.905977945443993\n",
      "At round 160 training loss: 0.2597205137246944\n",
      "Group 1\n",
      "At round 160 accuracy: 0.8765060240963856\n",
      "At round 160 training accuracy: 0.8934426229508197\n",
      "At round 160 training loss: 0.335417643221293\n",
      "Group 2\n",
      "At round 160 accuracy: 0.896969696969697\n",
      "At round 160 training accuracy: 0.9064983637213652\n",
      "At round 160 training loss: 0.23819377795192698\n",
      "Group 3\n",
      "At round 160 accuracy: 0.945619335347432\n",
      "At round 160 training accuracy: 0.9495527728085867\n",
      "At round 160 training loss: 0.22929827108686\n",
      "Group 4\n",
      "At round 160 accuracy: 0.7805555555555556\n",
      "At round 160 training accuracy: 0.7942506459948321\n",
      "At round 160 training loss: 0.43485931738566136\n",
      "At round 160 mean test accuracy: 0.882016632016632 mean train accuracy: 0.8903233664210463\n",
      "The groups difference are: [18.94606797 19.071124   18.8863354  18.86941513 19.15201536]\n",
      "Begin group  0 training\n"
     ]
    },
    {
     "name": "stderr",
     "output_type": "stream",
     "text": [
      "Epoch:   0%|                                                                                     | 0/20 [00:00<?, ?it/s]"
     ]
    },
    {
     "name": "stdout",
     "output_type": "stream",
     "text": [
      "Begin group  1 training\n"
     ]
    },
    {
     "name": "stderr",
     "output_type": "stream",
     "text": [
      "Epoch:   0%|                                                                                     | 0/20 [00:00<?, ?it/s]"
     ]
    },
    {
     "name": "stdout",
     "output_type": "stream",
     "text": [
      "Begin group  2 training\n"
     ]
    },
    {
     "name": "stderr",
     "output_type": "stream",
     "text": [
      "Epoch:   0%|                                                                                     | 0/20 [00:00<?, ?it/s]"
     ]
    },
    {
     "name": "stdout",
     "output_type": "stream",
     "text": [
      "Begin group  3 training\n"
     ]
    },
    {
     "name": "stderr",
     "output_type": "stream",
     "text": [
      "Epoch:   0%|                                                                                     | 0/20 [00:00<?, ?it/s]"
     ]
    },
    {
     "name": "stdout",
     "output_type": "stream",
     "text": [
      "Begin group  4 training\n"
     ]
    },
    {
     "name": "stderr",
     "output_type": "stream",
     "text": [
      "                                                                                                                        \r"
     ]
    },
    {
     "name": "stdout",
     "output_type": "stream",
     "text": [
      "Group 0, clients ['f_00133', 'f_00193', 'f_00184', 'f_00124']\n",
      "Group 1, clients ['f_00097', 'f_00098', 'f_00137', 'f_00068', 'f_00117', 'f_00176']\n",
      "Group 2, clients ['f_00101']\n",
      "Group 3, clients ['f_00055', 'f_00175', 'f_00056', 'f_00075']\n",
      "Group 4, clients ['f_00180', 'f_00009', 'f_00039', 'f_00149', 'f_00040']\n"
     ]
    },
    {
     "name": "stderr",
     "output_type": "stream",
     "text": [
      "Epoch:   0%|                                                                                     | 0/20 [00:00<?, ?it/s]"
     ]
    },
    {
     "name": "stdout",
     "output_type": "stream",
     "text": [
      "Group 0\n",
      "At round 161 accuracy: 0.8817733990147784\n",
      "At round 161 training accuracy: 0.8818920487521764\n",
      "At round 161 training loss: 0.34484071027405355\n",
      "Group 1\n",
      "At round 161 accuracy: 0.8253012048192772\n",
      "At round 161 training accuracy: 0.8025659301496793\n",
      "At round 161 training loss: 0.5184501276052134\n",
      "Group 2\n",
      "At round 161 accuracy: 0.9212121212121213\n",
      "At round 161 training accuracy: 0.9226273959794297\n",
      "At round 161 training loss: 0.2248258403737086\n",
      "Group 3\n",
      "At round 161 accuracy: 0.9546827794561934\n",
      "At round 161 training accuracy: 0.9449016100178891\n",
      "At round 161 training loss: 0.24308922865389712\n",
      "Group 4\n",
      "At round 161 accuracy: 0.925\n",
      "At round 161 training accuracy: 0.9092377260981912\n",
      "At round 161 training loss: 0.2393744763598154\n",
      "At round 161 mean test accuracy: 0.9028066528066528 mean train accuracy: 0.8948297911211254\n",
      "The groups difference are: [18.9547454  19.07899199 18.8960819  18.87533953 19.15940544]\n",
      "Begin group  0 training\n"
     ]
    },
    {
     "name": "stderr",
     "output_type": "stream",
     "text": [
      "Epoch:  25%|███████████████████▎                                                         | 5/20 [00:00<00:00, 45.82it/s]"
     ]
    },
    {
     "name": "stdout",
     "output_type": "stream",
     "text": [
      "Begin group  1 training\n"
     ]
    },
    {
     "name": "stderr",
     "output_type": "stream",
     "text": [
      "Epoch:   0%|                                                                                     | 0/20 [00:00<?, ?it/s]"
     ]
    },
    {
     "name": "stdout",
     "output_type": "stream",
     "text": [
      "Begin group  2 training\n",
      "Begin group  3 training\n"
     ]
    },
    {
     "name": "stderr",
     "output_type": "stream",
     "text": [
      "Epoch:  30%|███████████████████████                                                      | 6/20 [00:00<00:00, 54.21it/s]"
     ]
    },
    {
     "name": "stdout",
     "output_type": "stream",
     "text": [
      "Begin group  4 training\n"
     ]
    },
    {
     "name": "stderr",
     "output_type": "stream",
     "text": [
      "                                                                                                                        \r"
     ]
    },
    {
     "name": "stdout",
     "output_type": "stream",
     "text": [
      "Group 0, clients ['f_00172', 'f_00184', 'f_00064', 'f_00004']\n",
      "Group 1, clients ['f_00088', 'f_00057', 'f_00018']\n",
      "Group 2, clients ['f_00112', 'f_00152', 'f_00001', 'f_00121', 'f_00101', 'f_00182']\n",
      "Group 3, clients ['f_00025', 'f_00136']\n",
      "Group 4, clients ['f_00050', 'f_00180', 'f_00010', 'f_00040', 'f_00060']\n"
     ]
    },
    {
     "name": "stderr",
     "output_type": "stream",
     "text": [
      "Epoch:  25%|███████████████████▎                                                         | 5/20 [00:00<00:00, 49.45it/s]"
     ]
    },
    {
     "name": "stdout",
     "output_type": "stream",
     "text": [
      "Group 0\n",
      "At round 162 accuracy: 0.874384236453202\n",
      "At round 162 training accuracy: 0.8717353453279164\n",
      "At round 162 training loss: 0.37953989296120244\n",
      "Group 1\n",
      "At round 162 accuracy: 0.8403614457831325\n",
      "At round 162 training accuracy: 0.8207412687099074\n",
      "At round 162 training loss: 0.523220725638987\n",
      "Group 2\n",
      "At round 162 accuracy: 0.8585858585858586\n",
      "At round 162 training accuracy: 0.8590462833099579\n",
      "At round 162 training loss: 0.40824102591540334\n",
      "Group 3\n",
      "At round 162 accuracy: 0.9063444108761329\n",
      "At round 162 training accuracy: 0.9194991055456172\n",
      "At round 162 training loss: 0.29144855244168494\n",
      "Group 4\n",
      "At round 162 accuracy: 0.9527777777777777\n",
      "At round 162 training accuracy: 0.9441214470284238\n",
      "At round 162 training loss: 0.17362212940078295\n",
      "At round 162 mean test accuracy: 0.8846153846153846 mean train accuracy: 0.8814932099141344\n",
      "The groups difference are: [18.98770309 19.11635575 18.92589725 18.90703673 19.19183985]\n",
      "Begin group  0 training\n"
     ]
    },
    {
     "name": "stderr",
     "output_type": "stream",
     "text": [
      "Epoch:   0%|                                                                                     | 0/20 [00:00<?, ?it/s]"
     ]
    },
    {
     "name": "stdout",
     "output_type": "stream",
     "text": [
      "Begin group  1 training\n"
     ]
    },
    {
     "name": "stderr",
     "output_type": "stream",
     "text": [
      "Epoch:   0%|                                                                                     | 0/20 [00:00<?, ?it/s]"
     ]
    },
    {
     "name": "stdout",
     "output_type": "stream",
     "text": [
      "Begin group  2 training\n"
     ]
    },
    {
     "name": "stderr",
     "output_type": "stream",
     "text": [
      "Epoch:   0%|                                                                                     | 0/20 [00:00<?, ?it/s]"
     ]
    },
    {
     "name": "stdout",
     "output_type": "stream",
     "text": [
      "Begin group  3 training\n"
     ]
    },
    {
     "name": "stderr",
     "output_type": "stream",
     "text": [
      "Epoch:  30%|███████████████████████                                                      | 6/20 [00:00<00:00, 54.17it/s]"
     ]
    },
    {
     "name": "stdout",
     "output_type": "stream",
     "text": [
      "Begin group  4 training\n"
     ]
    },
    {
     "name": "stderr",
     "output_type": "stream",
     "text": [
      "                                                                                                                        \r"
     ]
    },
    {
     "name": "stdout",
     "output_type": "stream",
     "text": [
      "Group 0, clients ['f_00014', 'f_00024', 'f_00063']\n",
      "Group 1, clients ['f_00007', 'f_00058', 'f_00157']\n",
      "Group 2, clients ['f_00031', 'f_00112', 'f_00092', 'f_00032', 'f_00052', 'f_00082']\n",
      "Group 3, clients ['f_00075', 'f_00166', 'f_00085', 'f_00186', 'f_00036']\n",
      "Group 4, clients ['f_00020', 'f_00150', 'f_00079']\n"
     ]
    },
    {
     "name": "stderr",
     "output_type": "stream",
     "text": [
      "Epoch:  45%|██████████████████████████████████▋                                          | 9/20 [00:00<00:00, 80.50it/s]"
     ]
    },
    {
     "name": "stdout",
     "output_type": "stream",
     "text": [
      "Group 0\n",
      "At round 163 accuracy: 0.9211822660098522\n",
      "At round 163 training accuracy: 0.934997098084736\n",
      "At round 163 training loss: 0.18872798457784978\n",
      "Group 1\n",
      "At round 163 accuracy: 0.8704819277108434\n",
      "At round 163 training accuracy: 0.8481824661439772\n",
      "At round 163 training loss: 0.4545013159301055\n",
      "Group 2\n",
      "At round 163 accuracy: 0.8747474747474747\n",
      "At round 163 training accuracy: 0.8821879382889201\n",
      "At round 163 training loss: 0.3343094598245905\n",
      "Group 3\n",
      "At round 163 accuracy: 0.9577039274924471\n",
      "At round 163 training accuracy: 0.9516994633273703\n",
      "At round 163 training loss: 0.2321174638195893\n",
      "Group 4\n",
      "At round 163 accuracy: 0.9111111111111111\n",
      "At round 163 training accuracy: 0.8947028423772609\n",
      "At round 163 training loss: 0.28578196422170454\n",
      "At round 163 mean test accuracy: 0.9048856548856549 mean train accuracy: 0.9016503258023263\n",
      "The groups difference are: [19.00983342 19.14234759 18.94946104 18.93671703 19.22109312]\n",
      "Begin group  0 training\n"
     ]
    },
    {
     "name": "stderr",
     "output_type": "stream",
     "text": [
      "Epoch:   0%|                                                                                     | 0/20 [00:00<?, ?it/s]"
     ]
    },
    {
     "name": "stdout",
     "output_type": "stream",
     "text": [
      "Begin group  1 training\n"
     ]
    },
    {
     "name": "stderr",
     "output_type": "stream",
     "text": [
      "Epoch:   0%|                                                                                     | 0/20 [00:00<?, ?it/s]"
     ]
    },
    {
     "name": "stdout",
     "output_type": "stream",
     "text": [
      "Begin group  2 training\n"
     ]
    },
    {
     "name": "stderr",
     "output_type": "stream",
     "text": [
      "Epoch:  45%|██████████████████████████████████▋                                          | 9/20 [00:00<00:00, 88.38it/s]"
     ]
    },
    {
     "name": "stdout",
     "output_type": "stream",
     "text": [
      "Begin group  3 training\n"
     ]
    },
    {
     "name": "stderr",
     "output_type": "stream",
     "text": [
      "Epoch:   0%|                                                                                     | 0/20 [00:00<?, ?it/s]"
     ]
    },
    {
     "name": "stdout",
     "output_type": "stream",
     "text": [
      "Begin group  4 training\n"
     ]
    },
    {
     "name": "stderr",
     "output_type": "stream",
     "text": [
      "                                                                                                                        \r"
     ]
    },
    {
     "name": "stdout",
     "output_type": "stream",
     "text": [
      "Group 0, clients ['f_00174', 'f_00154', 'f_00003', 'f_00194', 'f_00143', 'f_00044', 'f_00074', 'f_00123']\n",
      "Group 1, clients ['f_00176', 'f_00058', 'f_00028', 'f_00197']\n",
      "Group 2, clients ['f_00182', 'f_00122']\n",
      "Group 3, clients ['f_00185', 'f_00175', 'f_00036', 'f_00145']\n",
      "Group 4, clients ['f_00189', 'f_00060']\n"
     ]
    },
    {
     "name": "stderr",
     "output_type": "stream",
     "text": [
      "Epoch:   0%|                                                                                     | 0/20 [00:00<?, ?it/s]"
     ]
    },
    {
     "name": "stdout",
     "output_type": "stream",
     "text": [
      "Group 0\n",
      "At round 164 accuracy: 0.9261083743842364\n",
      "At round 164 training accuracy: 0.93905977945444\n",
      "At round 164 training loss: 0.20479768706735352\n",
      "Group 1\n",
      "At round 164 accuracy: 0.822289156626506\n",
      "At round 164 training accuracy: 0.8485388453314326\n",
      "At round 164 training loss: 0.4445432443105359\n",
      "Group 2\n",
      "At round 164 accuracy: 0.9090909090909091\n",
      "At round 164 training accuracy: 0.9153810191678354\n",
      "At round 164 training loss: 0.22856596553660738\n",
      "Group 3\n",
      "At round 164 accuracy: 0.9395770392749244\n",
      "At round 164 training accuracy: 0.9534883720930233\n",
      "At round 164 training loss: 0.23627323037403267\n",
      "Group 4\n",
      "At round 164 accuracy: 0.9333333333333333\n",
      "At round 164 training accuracy: 0.9179586563307494\n",
      "At round 164 training loss: 0.214633548023415\n",
      "At round 164 mean test accuracy: 0.9074844074844075 mean train accuracy: 0.9159003714755496\n",
      "The groups difference are: [19.03323759 19.16852468 18.97902739 18.95831026 19.24851607]\n",
      "Begin group  0 training\n"
     ]
    },
    {
     "name": "stderr",
     "output_type": "stream",
     "text": [
      "Epoch:   0%|                                                                                     | 0/20 [00:00<?, ?it/s]"
     ]
    },
    {
     "name": "stdout",
     "output_type": "stream",
     "text": [
      "Begin group  1 training\n"
     ]
    },
    {
     "name": "stderr",
     "output_type": "stream",
     "text": [
      "Epoch:  20%|███████████████▍                                                             | 4/20 [00:00<00:00, 32.31it/s]"
     ]
    },
    {
     "name": "stdout",
     "output_type": "stream",
     "text": [
      "Begin group  2 training\n"
     ]
    },
    {
     "name": "stderr",
     "output_type": "stream",
     "text": [
      "Epoch:  55%|█████████████████████████████████████████▎                                 | 11/20 [00:00<00:00, 105.37it/s]"
     ]
    },
    {
     "name": "stdout",
     "output_type": "stream",
     "text": [
      "Begin group  3 training\n"
     ]
    },
    {
     "name": "stderr",
     "output_type": "stream",
     "text": [
      "Epoch:  40%|██████████████████████████████▊                                              | 8/20 [00:00<00:00, 74.37it/s]"
     ]
    },
    {
     "name": "stdout",
     "output_type": "stream",
     "text": [
      "Begin group  4 training\n"
     ]
    },
    {
     "name": "stderr",
     "output_type": "stream",
     "text": [
      "                                                                                                                        \r"
     ]
    },
    {
     "name": "stdout",
     "output_type": "stream",
     "text": [
      "Group 0, clients ['f_00094', 'f_00134', 'f_00083', 'f_00113']\n",
      "Group 1, clients ['f_00058']\n",
      "Group 2, clients ['f_00092', 'f_00142', 'f_00062', 'f_00042', 'f_00132', 'f_00112']\n",
      "Group 3, clients ['f_00165', 'f_00125', 'f_00036', 'f_00156', 'f_00106']\n",
      "Group 4, clients ['f_00009', 'f_00060', 'f_00130', 'f_00080']\n"
     ]
    },
    {
     "name": "stderr",
     "output_type": "stream",
     "text": [
      "Epoch:  40%|██████████████████████████████▊                                              | 8/20 [00:00<00:00, 73.16it/s]"
     ]
    },
    {
     "name": "stdout",
     "output_type": "stream",
     "text": [
      "Group 0\n",
      "At round 165 accuracy: 0.8891625615763546\n",
      "At round 165 training accuracy: 0.8964016250725478\n",
      "At round 165 training loss: 0.3111792768325248\n",
      "Group 1\n",
      "At round 165 accuracy: 0.8162650602409639\n",
      "At round 165 training accuracy: 0.8421240199572345\n",
      "At round 165 training loss: 0.44565889615026527\n",
      "Group 2\n",
      "At round 165 accuracy: 0.8565656565656565\n",
      "At round 165 training accuracy: 0.8625525946704067\n",
      "At round 165 training loss: 0.36162414846052743\n",
      "Group 3\n",
      "At round 165 accuracy: 0.9033232628398792\n",
      "At round 165 training accuracy: 0.90912343470483\n",
      "At round 165 training loss: 0.2941511797780348\n",
      "Group 4\n",
      "At round 165 accuracy: 0.9166666666666666\n",
      "At round 165 training accuracy: 0.9034237726098191\n",
      "At round 165 training loss: 0.2753600942883015\n",
      "At round 165 mean test accuracy: 0.8757796257796258 mean train accuracy: 0.8817976980695451\n",
      "The groups difference are: [19.05528995 19.18679223 18.99978827 18.97412715 19.27038246]\n",
      "Begin group  0 training\n"
     ]
    },
    {
     "name": "stderr",
     "output_type": "stream",
     "text": [
      "Epoch:   0%|                                                                                     | 0/20 [00:00<?, ?it/s]"
     ]
    },
    {
     "name": "stdout",
     "output_type": "stream",
     "text": [
      "Begin group  1 training\n",
      "Begin group  2 training\n"
     ]
    },
    {
     "name": "stderr",
     "output_type": "stream",
     "text": [
      "Epoch:   0%|                                                                                     | 0/20 [00:00<?, ?it/s]"
     ]
    },
    {
     "name": "stdout",
     "output_type": "stream",
     "text": [
      "Begin group  3 training\n"
     ]
    },
    {
     "name": "stderr",
     "output_type": "stream",
     "text": [
      "                                                                                                                        "
     ]
    },
    {
     "name": "stdout",
     "output_type": "stream",
     "text": [
      "Begin group  4 training\n"
     ]
    },
    {
     "name": "stderr",
     "output_type": "stream",
     "text": [
      "                                                                                                                        \r"
     ]
    },
    {
     "name": "stdout",
     "output_type": "stream",
     "text": [
      "Group 0, clients ['f_00054', 'f_00114']\n",
      "Group 1, clients ['f_00176', 'f_00169', 'f_00087', 'f_00018', 'f_00098']\n",
      "Group 2, clients ['f_00182', 'f_00181', 'f_00002', 'f_00121', 'f_00111']\n",
      "Group 3, clients ['f_00016', 'f_00066']\n",
      "Group 4, clients ['f_00159', 'f_00100', 'f_00170', 'f_00130', 'f_00069', 'f_00189']\n"
     ]
    },
    {
     "name": "stderr",
     "output_type": "stream",
     "text": [
      "                                                                                                                        "
     ]
    },
    {
     "name": "stdout",
     "output_type": "stream",
     "text": [
      "Group 0\n",
      "At round 166 accuracy: 0.9187192118226601\n",
      "At round 166 training accuracy: 0.9265815438189204\n",
      "At round 166 training loss: 0.2440072123239112\n",
      "Group 1\n",
      "At round 166 accuracy: 0.8403614457831325\n",
      "At round 166 training accuracy: 0.8225231646471846\n",
      "At round 166 training loss: 0.4880189984261522\n",
      "Group 2\n",
      "At round 166 accuracy: 0.8606060606060606\n",
      "At round 166 training accuracy: 0.8695652173913043\n",
      "At round 166 training loss: 0.40275914063341933\n",
      "Group 3\n",
      "At round 166 accuracy: 0.945619335347432\n",
      "At round 166 training accuracy: 0.9542039355992844\n",
      "At round 166 training loss: 0.21928873349894137\n",
      "Group 4\n",
      "At round 166 accuracy: 0.9416666666666667\n",
      "At round 166 training accuracy: 0.9208656330749354\n",
      "At round 166 training loss: 0.1920978726857662\n",
      "At round 166 mean test accuracy: 0.8991683991683992 mean train accuracy: 0.8975701845198222\n",
      "The groups difference are: [19.06286038 19.19027476 19.00298612 18.97986959 19.28080687]\n",
      "Begin group  0 training\n"
     ]
    },
    {
     "name": "stderr",
     "output_type": "stream",
     "text": [
      "Epoch:   0%|                                                                                     | 0/20 [00:00<?, ?it/s]"
     ]
    },
    {
     "name": "stdout",
     "output_type": "stream",
     "text": [
      "Begin group  1 training\n"
     ]
    },
    {
     "name": "stderr",
     "output_type": "stream",
     "text": [
      "Epoch:   0%|                                                                                     | 0/20 [00:00<?, ?it/s]"
     ]
    },
    {
     "name": "stdout",
     "output_type": "stream",
     "text": [
      "Begin group  2 training\n"
     ]
    },
    {
     "name": "stderr",
     "output_type": "stream",
     "text": [
      "Epoch:   0%|                                                                                     | 0/20 [00:00<?, ?it/s]"
     ]
    },
    {
     "name": "stdout",
     "output_type": "stream",
     "text": [
      "Begin group  3 training\n"
     ]
    },
    {
     "name": "stderr",
     "output_type": "stream",
     "text": [
      "Epoch:   0%|                                                                                     | 0/20 [00:00<?, ?it/s]"
     ]
    },
    {
     "name": "stdout",
     "output_type": "stream",
     "text": [
      "Begin group  4 training\n"
     ]
    },
    {
     "name": "stderr",
     "output_type": "stream",
     "text": [
      "                                                                                                                        \r"
     ]
    },
    {
     "name": "stdout",
     "output_type": "stream",
     "text": [
      "Group 0, clients ['f_00033', 'f_00073', 'f_00063']\n",
      "Group 1, clients ['f_00157', 'f_00027', 'f_00188', 'f_00198']\n",
      "Group 2, clients ['f_00022', 'f_00041', 'f_00182']\n",
      "Group 3, clients ['f_00095', 'f_00096', 'f_00045', 'f_00145', 'f_00136', 'f_00037']\n",
      "Group 4, clients ['f_00130', 'f_00159', 'f_00199', 'f_00019']\n"
     ]
    },
    {
     "name": "stderr",
     "output_type": "stream",
     "text": [
      "Epoch:   0%|                                                                                     | 0/20 [00:00<?, ?it/s]"
     ]
    },
    {
     "name": "stdout",
     "output_type": "stream",
     "text": [
      "Group 0\n",
      "At round 167 accuracy: 0.8817733990147784\n",
      "At round 167 training accuracy: 0.8685432385374348\n",
      "At round 167 training loss: 0.3580781131089858\n",
      "Group 1\n",
      "At round 167 accuracy: 0.9036144578313253\n",
      "At round 167 training accuracy: 0.9019957234497505\n",
      "At round 167 training loss: 0.3654765787554994\n",
      "Group 2\n",
      "At round 167 accuracy: 0.8767676767676768\n",
      "At round 167 training accuracy: 0.8828892005610098\n",
      "At round 167 training loss: 0.31593657366569183\n",
      "Group 3\n",
      "At round 167 accuracy: 0.8761329305135952\n",
      "At round 167 training accuracy: 0.8690518783542039\n",
      "At round 167 training loss: 0.4483652207337333\n",
      "Group 4\n",
      "At round 167 accuracy: 0.9388888888888889\n",
      "At round 167 training accuracy: 0.9205426356589147\n",
      "At round 167 training loss: 0.2190111305044834\n",
      "At round 167 mean test accuracy: 0.893970893970894 mean train accuracy: 0.8878874611777602\n",
      "The groups difference are: [19.08447533 19.21731899 19.031986   19.00681941 19.30382684]\n",
      "Begin group  0 training\n"
     ]
    },
    {
     "name": "stderr",
     "output_type": "stream",
     "text": [
      "Epoch:   0%|                                                                                     | 0/20 [00:00<?, ?it/s]"
     ]
    },
    {
     "name": "stdout",
     "output_type": "stream",
     "text": [
      "Begin group  1 training\n"
     ]
    },
    {
     "name": "stderr",
     "output_type": "stream",
     "text": [
      "                                                                                                                        "
     ]
    },
    {
     "name": "stdout",
     "output_type": "stream",
     "text": [
      "Begin group  2 training\n"
     ]
    },
    {
     "name": "stderr",
     "output_type": "stream",
     "text": [
      "Epoch:  60%|█████████████████████████████████████████████                              | 12/20 [00:00<00:00, 110.57it/s]"
     ]
    },
    {
     "name": "stdout",
     "output_type": "stream",
     "text": [
      "Begin group  3 training\n"
     ]
    },
    {
     "name": "stderr",
     "output_type": "stream",
     "text": [
      "Epoch:  70%|████████████████████████████████████████████████████▌                      | 14/20 [00:00<00:00, 132.55it/s]"
     ]
    },
    {
     "name": "stdout",
     "output_type": "stream",
     "text": [
      "Begin group  4 training\n"
     ]
    },
    {
     "name": "stderr",
     "output_type": "stream",
     "text": [
      "                                                                                                                        \r"
     ]
    },
    {
     "name": "stdout",
     "output_type": "stream",
     "text": [
      "Group 0, clients ['f_00093', 'f_00024', 'f_00104', 'f_00003', 'f_00114']\n",
      "Group 1, clients ['f_00068', 'f_00049', 'f_00098']\n",
      "Group 2, clients ['f_00091', 'f_00112', 'f_00122']\n",
      "Group 3, clients ['f_00175', 'f_00146', 'f_00125', 'f_00025', 'f_00155', 'f_00115']\n",
      "Group 4, clients ['f_00190', 'f_00170', 'f_00100']\n"
     ]
    },
    {
     "name": "stderr",
     "output_type": "stream",
     "text": [
      "Epoch:  25%|███████████████████▎                                                         | 5/20 [00:00<00:00, 40.63it/s]"
     ]
    },
    {
     "name": "stdout",
     "output_type": "stream",
     "text": [
      "Group 0\n",
      "At round 168 accuracy: 0.8793103448275862\n",
      "At round 168 training accuracy: 0.895821242019733\n",
      "At round 168 training loss: 0.3498948703552972\n",
      "Group 1\n",
      "At round 168 accuracy: 0.9036144578313253\n",
      "At round 168 training accuracy: 0.9016393442622951\n",
      "At round 168 training loss: 0.3436392660326433\n",
      "Group 2\n",
      "At round 168 accuracy: 0.9212121212121213\n",
      "At round 168 training accuracy: 0.9219261337073399\n",
      "At round 168 training loss: 0.22791794421087713\n",
      "Group 3\n",
      "At round 168 accuracy: 0.9335347432024169\n",
      "At round 168 training accuracy: 0.9212880143112702\n",
      "At round 168 training loss: 0.2490138945371339\n",
      "Group 4\n",
      "At round 168 accuracy: 0.7861111111111111\n",
      "At round 168 training accuracy: 0.8023255813953488\n",
      "At round 168 training loss: 0.5854811484086777\n",
      "At round 168 mean test accuracy: 0.8861746361746362 mean train accuracy: 0.8903233664210463\n",
      "The groups difference are: [19.11006424 19.23447203 19.04873917 19.02207922 19.32531957]\n",
      "Begin group  0 training\n"
     ]
    },
    {
     "name": "stderr",
     "output_type": "stream",
     "text": [
      "Epoch:  40%|██████████████████████████████▊                                              | 8/20 [00:00<00:00, 75.06it/s]"
     ]
    },
    {
     "name": "stdout",
     "output_type": "stream",
     "text": [
      "Begin group  1 training\n"
     ]
    },
    {
     "name": "stderr",
     "output_type": "stream",
     "text": [
      "Epoch:  30%|███████████████████████                                                      | 6/20 [00:00<00:00, 53.66it/s]"
     ]
    },
    {
     "name": "stdout",
     "output_type": "stream",
     "text": [
      "Begin group  2 training\n"
     ]
    },
    {
     "name": "stderr",
     "output_type": "stream",
     "text": [
      "Epoch:   0%|                                                                                     | 0/20 [00:00<?, ?it/s]"
     ]
    },
    {
     "name": "stdout",
     "output_type": "stream",
     "text": [
      "Begin group  3 training\n"
     ]
    },
    {
     "name": "stderr",
     "output_type": "stream",
     "text": [
      "Epoch:  55%|█████████████████████████████████████████▎                                 | 11/20 [00:00<00:00, 104.52it/s]"
     ]
    },
    {
     "name": "stdout",
     "output_type": "stream",
     "text": [
      "Begin group  4 training\n"
     ]
    },
    {
     "name": "stderr",
     "output_type": "stream",
     "text": [
      "                                                                                                                        \r"
     ]
    },
    {
     "name": "stdout",
     "output_type": "stream",
     "text": [
      "Group 0, clients ['f_00194', 'f_00114', 'f_00073']\n",
      "Group 1, clients ['f_00198', 'f_00098', 'f_00177', 'f_00008', 'f_00018', 'f_00007']\n",
      "Group 2, clients ['f_00041', 'f_00091', 'f_00051']\n",
      "Group 3, clients ['f_00016', 'f_00015', 'f_00126']\n",
      "Group 4, clients ['f_00168', 'f_00119', 'f_00160', 'f_00140', 'f_00110']\n"
     ]
    },
    {
     "name": "stderr",
     "output_type": "stream",
     "text": [
      "Epoch:  25%|███████████████████▎                                                         | 5/20 [00:00<00:00, 42.32it/s]"
     ]
    },
    {
     "name": "stdout",
     "output_type": "stream",
     "text": [
      "Group 0\n",
      "At round 169 accuracy: 0.8694581280788177\n",
      "At round 169 training accuracy: 0.8964016250725478\n",
      "At round 169 training loss: 0.326274368320108\n",
      "Group 1\n",
      "At round 169 accuracy: 0.8042168674698795\n",
      "At round 169 training accuracy: 0.7712045616535994\n",
      "At round 169 training loss: 0.8053278460705696\n",
      "Group 2\n",
      "At round 169 accuracy: 0.9151515151515152\n",
      "At round 169 training accuracy: 0.9219261337073399\n",
      "At round 169 training loss: 0.22548663818641848\n",
      "Group 3\n",
      "At round 169 accuracy: 0.8942598187311178\n",
      "At round 169 training accuracy: 0.8923076923076924\n",
      "At round 169 training loss: 0.2736842738841002\n",
      "Group 4\n",
      "At round 169 accuracy: 0.9555555555555556\n",
      "At round 169 training accuracy: 0.9250645994832042\n",
      "At round 169 training loss: 0.20668561021780513\n",
      "At round 169 mean test accuracy: 0.8903326403326404 mean train accuracy: 0.8863650204007064\n",
      "The groups difference are: [19.13979845 19.27538506 19.0794628  19.05685258 19.3575071 ]\n",
      "Begin group  0 training\n"
     ]
    },
    {
     "name": "stderr",
     "output_type": "stream",
     "text": [
      "Epoch:   0%|                                                                                     | 0/20 [00:00<?, ?it/s]"
     ]
    },
    {
     "name": "stdout",
     "output_type": "stream",
     "text": [
      "Begin group  1 training\n"
     ]
    },
    {
     "name": "stderr",
     "output_type": "stream",
     "text": [
      "Epoch:  35%|██████████████████████████▉                                                  | 7/20 [00:00<00:00, 65.68it/s]"
     ]
    },
    {
     "name": "stdout",
     "output_type": "stream",
     "text": [
      "Begin group  2 training\n"
     ]
    },
    {
     "name": "stderr",
     "output_type": "stream",
     "text": [
      "Epoch:  45%|██████████████████████████████████▋                                          | 9/20 [00:00<00:00, 85.61it/s]"
     ]
    },
    {
     "name": "stdout",
     "output_type": "stream",
     "text": [
      "Begin group  3 training\n"
     ]
    },
    {
     "name": "stderr",
     "output_type": "stream",
     "text": [
      "Epoch:  55%|█████████████████████████████████████████▎                                 | 11/20 [00:00<00:00, 107.36it/s]"
     ]
    },
    {
     "name": "stdout",
     "output_type": "stream",
     "text": [
      "Begin group  4 training\n"
     ]
    },
    {
     "name": "stderr",
     "output_type": "stream",
     "text": [
      "                                                                                                                        \r"
     ]
    },
    {
     "name": "stdout",
     "output_type": "stream",
     "text": [
      "Group 0, clients ['f_00173', 'f_00113', 'f_00123', 'f_00064', 'f_00164', 'f_00053']\n",
      "Group 1, clients ['f_00137', 'f_00198', 'f_00118', 'f_00007']\n",
      "Group 2, clients ['f_00032', 'f_00091']\n",
      "Group 3, clients ['f_00005', 'f_00105', 'f_00136', 'f_00035', 'f_00156']\n",
      "Group 4, clients ['f_00179', 'f_00140', 'f_00100']\n"
     ]
    },
    {
     "name": "stderr",
     "output_type": "stream",
     "text": [
      "Epoch:   0%|                                                                                     | 0/20 [00:00<?, ?it/s]"
     ]
    },
    {
     "name": "stdout",
     "output_type": "stream",
     "text": [
      "Group 0\n",
      "At round 170 accuracy: 0.9064039408866995\n",
      "At round 170 training accuracy: 0.9326755658734764\n",
      "At round 170 training loss: 0.2517596772791914\n",
      "Group 1\n",
      "At round 170 accuracy: 0.8524096385542169\n",
      "At round 170 training accuracy: 0.8396293656450463\n",
      "At round 170 training loss: 0.4822877182765298\n",
      "Group 2\n",
      "At round 170 accuracy: 0.8444444444444444\n",
      "At round 170 training accuracy: 0.8377746610565685\n",
      "At round 170 training loss: 0.4736959073786607\n",
      "Group 3\n",
      "At round 170 accuracy: 0.9033232628398792\n",
      "At round 170 training accuracy: 0.9105545617173524\n",
      "At round 170 training loss: 0.25272465610680084\n",
      "Group 4\n",
      "At round 170 accuracy: 0.925\n",
      "At round 170 training accuracy: 0.9092377260981912\n",
      "At round 170 training loss: 0.2664827356567409\n",
      "At round 170 mean test accuracy: 0.8840956340956341 mean train accuracy: 0.8838682175263383\n",
      "The groups difference are: [19.18251393 19.31911467 19.11754354 19.09463632 19.39377992]\n",
      "Begin group  0 training\n"
     ]
    },
    {
     "name": "stderr",
     "output_type": "stream",
     "text": [
      "Epoch:   0%|                                                                                     | 0/20 [00:00<?, ?it/s]"
     ]
    },
    {
     "name": "stdout",
     "output_type": "stream",
     "text": [
      "Begin group  1 training\n"
     ]
    },
    {
     "name": "stderr",
     "output_type": "stream",
     "text": [
      "Epoch:  35%|██████████████████████████▉                                                  | 7/20 [00:00<00:00, 63.66it/s]"
     ]
    },
    {
     "name": "stdout",
     "output_type": "stream",
     "text": [
      "Begin group  2 training\n"
     ]
    },
    {
     "name": "stderr",
     "output_type": "stream",
     "text": [
      "Epoch:  20%|███████████████▍                                                             | 4/20 [00:00<00:00, 39.47it/s]"
     ]
    },
    {
     "name": "stdout",
     "output_type": "stream",
     "text": [
      "Begin group  3 training\n"
     ]
    },
    {
     "name": "stderr",
     "output_type": "stream",
     "text": [
      "Epoch:   0%|                                                                                     | 0/20 [00:00<?, ?it/s]"
     ]
    },
    {
     "name": "stdout",
     "output_type": "stream",
     "text": [
      "Begin group  4 training\n"
     ]
    },
    {
     "name": "stderr",
     "output_type": "stream",
     "text": [
      "                                                                                                                        \r"
     ]
    },
    {
     "name": "stdout",
     "output_type": "stream",
     "text": [
      "Group 0, clients ['f_00083', 'f_00164']\n",
      "Group 1, clients ['f_00117', 'f_00127', 'f_00087', 'f_00176']\n",
      "Group 2, clients ['f_00091', 'f_00102', 'f_00142', 'f_00151', 'f_00121', 'f_00161']\n",
      "Group 3, clients ['f_00196', 'f_00116', 'f_00096', 'f_00166']\n",
      "Group 4, clients ['f_00030', 'f_00019', 'f_00129', 'f_00190']\n"
     ]
    },
    {
     "name": "stderr",
     "output_type": "stream",
     "text": [
      "Epoch:   0%|                                                                                     | 0/20 [00:00<?, ?it/s]"
     ]
    },
    {
     "name": "stdout",
     "output_type": "stream",
     "text": [
      "Group 0\n",
      "At round 171 accuracy: 0.8719211822660099\n",
      "At round 171 training accuracy: 0.8905977945443994\n",
      "At round 171 training loss: 0.32226915555523444\n",
      "Group 1\n",
      "At round 171 accuracy: 0.8614457831325302\n",
      "At round 171 training accuracy: 0.8367783321454028\n",
      "At round 171 training loss: 0.5127314528183519\n",
      "Group 2\n",
      "At round 171 accuracy: 0.8222222222222222\n",
      "At round 171 training accuracy: 0.8249181860682562\n",
      "At round 171 training loss: 0.5350659683302338\n",
      "Group 3\n",
      "At round 171 accuracy: 0.9365558912386707\n",
      "At round 171 training accuracy: 0.9384615384615385\n",
      "At round 171 training loss: 0.24959587963407923\n",
      "Group 4\n",
      "At round 171 accuracy: 0.9361111111111111\n",
      "At round 171 training accuracy: 0.9156976744186046\n",
      "At round 171 training loss: 0.24639347841655138\n",
      "At round 171 mean test accuracy: 0.8804573804573804 mean train accuracy: 0.8771694781073016\n",
      "The groups difference are: [19.23145348 19.36896644 19.1658394  19.14226085 19.43736931]\n",
      "Begin group  0 training\n"
     ]
    },
    {
     "name": "stderr",
     "output_type": "stream",
     "text": [
      "Epoch:   0%|                                                                                     | 0/20 [00:00<?, ?it/s]"
     ]
    },
    {
     "name": "stdout",
     "output_type": "stream",
     "text": [
      "Begin group  1 training\n"
     ]
    },
    {
     "name": "stderr",
     "output_type": "stream",
     "text": [
      "Epoch:  30%|███████████████████████                                                      | 6/20 [00:00<00:00, 59.43it/s]"
     ]
    },
    {
     "name": "stdout",
     "output_type": "stream",
     "text": [
      "Begin group  2 training\n"
     ]
    },
    {
     "name": "stderr",
     "output_type": "stream",
     "text": [
      "                                                                                                                        "
     ]
    },
    {
     "name": "stdout",
     "output_type": "stream",
     "text": [
      "Begin group  3 training\n"
     ]
    },
    {
     "name": "stderr",
     "output_type": "stream",
     "text": [
      "Epoch:  80%|████████████████████████████████████████████████████████████               | 16/20 [00:00<00:00, 152.88it/s]"
     ]
    },
    {
     "name": "stdout",
     "output_type": "stream",
     "text": [
      "Begin group  4 training\n"
     ]
    },
    {
     "name": "stderr",
     "output_type": "stream",
     "text": [
      "                                                                                                                        \r"
     ]
    },
    {
     "name": "stdout",
     "output_type": "stream",
     "text": [
      "Group 0, clients ['f_00173', 'f_00133', 'f_00044', 'f_00043', 'f_00134', 'f_00024', 'f_00113']\n",
      "Group 1, clients ['f_00049', 'f_00098']\n",
      "Group 2, clients ['f_00102', 'f_00031', 'f_00032']\n",
      "Group 3, clients ['f_00096', 'f_00146', 'f_00065', 'f_00046']\n",
      "Group 4, clients ['f_00069', 'f_00129', 'f_00139', 'f_00150']\n"
     ]
    },
    {
     "name": "stderr",
     "output_type": "stream",
     "text": [
      "Epoch:   0%|                                                                                     | 0/20 [00:00<?, ?it/s]"
     ]
    },
    {
     "name": "stdout",
     "output_type": "stream",
     "text": [
      "Group 0\n",
      "At round 172 accuracy: 0.9088669950738916\n",
      "At round 172 training accuracy: 0.9117817759721416\n",
      "At round 172 training loss: 0.3150749591952682\n",
      "Group 1\n",
      "At round 172 accuracy: 0.7469879518072289\n",
      "At round 172 training accuracy: 0.774768353528154\n",
      "At round 172 training loss: 0.7428127664061036\n",
      "Group 2\n",
      "At round 172 accuracy: 0.8626262626262626\n",
      "At round 172 training accuracy: 0.8707339878447873\n",
      "At round 172 training loss: 0.3575716580468038\n",
      "Group 3\n",
      "At round 172 accuracy: 0.8761329305135952\n",
      "At round 172 training accuracy: 0.8787119856887299\n",
      "At round 172 training loss: 0.36609021822900273\n",
      "Group 4\n",
      "At round 172 accuracy: 0.9388888888888889\n",
      "At round 172 training accuracy: 0.9192506459948321\n",
      "At round 172 training loss: 0.21176635687184117\n",
      "At round 172 mean test accuracy: 0.8690228690228691 mean train accuracy: 0.8734547226112904\n",
      "The groups difference are: [19.27520023 19.40764479 19.20924771 19.1727911  19.47345435]\n",
      "Begin group  0 training\n"
     ]
    },
    {
     "name": "stderr",
     "output_type": "stream",
     "text": [
      "Epoch:  20%|███████████████▍                                                             | 4/20 [00:00<00:00, 35.61it/s]"
     ]
    },
    {
     "name": "stdout",
     "output_type": "stream",
     "text": [
      "Begin group  1 training\n"
     ]
    },
    {
     "name": "stderr",
     "output_type": "stream",
     "text": [
      "Epoch:  20%|███████████████▍                                                             | 4/20 [00:00<00:00, 38.85it/s]"
     ]
    },
    {
     "name": "stdout",
     "output_type": "stream",
     "text": [
      "Begin group  2 training\n"
     ]
    },
    {
     "name": "stderr",
     "output_type": "stream",
     "text": [
      "Epoch:  45%|██████████████████████████████████▋                                          | 9/20 [00:00<00:00, 87.04it/s]"
     ]
    },
    {
     "name": "stdout",
     "output_type": "stream",
     "text": [
      "Begin group  3 training\n"
     ]
    },
    {
     "name": "stderr",
     "output_type": "stream",
     "text": [
      "Epoch:  50%|██████████████████████████████████████                                      | 10/20 [00:00<00:00, 94.70it/s]"
     ]
    },
    {
     "name": "stdout",
     "output_type": "stream",
     "text": [
      "Begin group  4 training\n"
     ]
    },
    {
     "name": "stderr",
     "output_type": "stream",
     "text": [
      "                                                                                                                        \r"
     ]
    },
    {
     "name": "stdout",
     "output_type": "stream",
     "text": [
      "Group 0, clients ['f_00174', 'f_00183', 'f_00044', 'f_00043', 'f_00063', 'f_00024']\n",
      "Group 1, clients ['f_00008', 'f_00198']\n",
      "Group 2, clients ['f_00101', 'f_00111', 'f_00001', 'f_00012']\n",
      "Group 3, clients ['f_00006', 'f_00056', 'f_00156', 'f_00125']\n",
      "Group 4, clients ['f_00110', 'f_00070', 'f_00009', 'f_00050']\n"
     ]
    },
    {
     "name": "stderr",
     "output_type": "stream",
     "text": [
      "Epoch:   0%|                                                                                     | 0/20 [00:00<?, ?it/s]"
     ]
    },
    {
     "name": "stdout",
     "output_type": "stream",
     "text": [
      "Group 0\n",
      "At round 173 accuracy: 0.9285714285714286\n",
      "At round 173 training accuracy: 0.9503772489843296\n",
      "At round 173 training loss: 0.2403321020971082\n",
      "Group 1\n",
      "At round 173 accuracy: 0.8343373493975904\n",
      "At round 173 training accuracy: 0.8032786885245902\n",
      "At round 173 training loss: 0.7338676788231473\n",
      "Group 2\n",
      "At round 173 accuracy: 0.9131313131313131\n",
      "At round 173 training accuracy: 0.9188873305282842\n",
      "At round 173 training loss: 0.23408586071919982\n",
      "Group 3\n",
      "At round 173 accuracy: 0.9154078549848943\n",
      "At round 173 training accuracy: 0.9116279069767442\n",
      "At round 173 training loss: 0.2789184974069992\n",
      "Group 4\n",
      "At round 173 accuracy: 0.8861111111111111\n",
      "At round 173 training accuracy: 0.876937984496124\n",
      "At round 173 training loss: 0.36725882794563625\n",
      "At round 173 mean test accuracy: 0.8981288981288982 mean train accuracy: 0.8965958224225078\n",
      "The groups difference are: [19.29518638 19.43953706 19.23988162 19.19906135 19.49453609]\n",
      "Begin group  0 training\n"
     ]
    },
    {
     "name": "stderr",
     "output_type": "stream",
     "text": [
      "                                                                                                                        "
     ]
    },
    {
     "name": "stdout",
     "output_type": "stream",
     "text": [
      "Begin group  1 training\n",
      "Begin group  2 training\n"
     ]
    },
    {
     "name": "stderr",
     "output_type": "stream",
     "text": [
      "Epoch:   0%|                                                                                     | 0/20 [00:00<?, ?it/s]"
     ]
    },
    {
     "name": "stdout",
     "output_type": "stream",
     "text": [
      "Begin group  3 training\n"
     ]
    },
    {
     "name": "stderr",
     "output_type": "stream",
     "text": [
      "Epoch:   0%|                                                                                     | 0/20 [00:00<?, ?it/s]"
     ]
    },
    {
     "name": "stdout",
     "output_type": "stream",
     "text": [
      "Begin group  4 training\n"
     ]
    },
    {
     "name": "stderr",
     "output_type": "stream",
     "text": [
      "                                                                                                                        \r"
     ]
    },
    {
     "name": "stdout",
     "output_type": "stream",
     "text": [
      "Group 0, clients ['f_00123', 'f_00103', 'f_00053', 'f_00134']\n",
      "Group 1, clients ['f_00059', 'f_00147']\n",
      "Group 2, clients ['f_00021', 'f_00011', 'f_00042', 'f_00101', 'f_00112', 'f_00102']\n",
      "Group 3, clients ['f_00035', 'f_00096']\n",
      "Group 4, clients ['f_00180', 'f_00129', 'f_00079', 'f_00070', 'f_00030', 'f_00120']\n"
     ]
    },
    {
     "name": "stderr",
     "output_type": "stream",
     "text": [
      "Epoch:  15%|███████████▌                                                                 | 3/20 [00:00<00:00, 26.50it/s]"
     ]
    },
    {
     "name": "stdout",
     "output_type": "stream",
     "text": [
      "Group 0\n",
      "At round 174 accuracy: 0.9211822660098522\n",
      "At round 174 training accuracy: 0.9509576320371446\n",
      "At round 174 training loss: 0.23752501301815515\n",
      "Group 1\n",
      "At round 174 accuracy: 0.8253012048192772\n",
      "At round 174 training accuracy: 0.7954383464005702\n",
      "At round 174 training loss: 0.8125976273632015\n",
      "Group 2\n",
      "At round 174 accuracy: 0.8787878787878788\n",
      "At round 174 training accuracy: 0.8887330528284245\n",
      "At round 174 training loss: 0.3113183324082\n",
      "Group 3\n",
      "At round 174 accuracy: 0.9546827794561934\n",
      "At round 174 training accuracy: 0.9398926654740608\n",
      "At round 174 training loss: 0.23543509533079024\n",
      "Group 4\n",
      "At round 174 accuracy: 0.9694444444444444\n",
      "At round 174 training accuracy: 0.9473514211886305\n",
      "At round 174 training loss: 0.16784522600486412\n",
      "At round 174 mean test accuracy: 0.9085239085239085 mean train accuracy: 0.9056086718226661\n",
      "The groups difference are: [19.305283   19.45432178 19.24945072 19.21186375 19.51084109]\n",
      "Begin group  0 training\n"
     ]
    },
    {
     "name": "stderr",
     "output_type": "stream",
     "text": [
      "Epoch:   0%|                                                                                     | 0/20 [00:00<?, ?it/s]"
     ]
    },
    {
     "name": "stdout",
     "output_type": "stream",
     "text": [
      "Begin group  1 training\n",
      "Begin group  2 training\n"
     ]
    },
    {
     "name": "stderr",
     "output_type": "stream",
     "text": [
      "Epoch:   0%|                                                                                     | 0/20 [00:00<?, ?it/s]"
     ]
    },
    {
     "name": "stdout",
     "output_type": "stream",
     "text": [
      "Begin group  3 training\n"
     ]
    },
    {
     "name": "stderr",
     "output_type": "stream",
     "text": [
      "Epoch:  25%|███████████████████▎                                                         | 5/20 [00:00<00:00, 45.61it/s]"
     ]
    },
    {
     "name": "stdout",
     "output_type": "stream",
     "text": [
      "Begin group  4 training\n"
     ]
    },
    {
     "name": "stderr",
     "output_type": "stream",
     "text": [
      "                                                                                                                        \r"
     ]
    },
    {
     "name": "stdout",
     "output_type": "stream",
     "text": [
      "Group 0, clients ['f_00044']\n",
      "Group 1, clients ['f_00087', 'f_00167', 'f_00017', 'f_00178', 'f_00198', 'f_00127']\n",
      "Group 2, clients ['f_00002', 'f_00182', 'f_00152']\n",
      "Group 3, clients ['f_00126', 'f_00186', 'f_00045', 'f_00016', 'f_00115']\n",
      "Group 4, clients ['f_00170', 'f_00139', 'f_00070', 'f_00029', 'f_00030']\n"
     ]
    },
    {
     "name": "stderr",
     "output_type": "stream",
     "text": [
      "Epoch:   0%|                                                                                     | 0/20 [00:00<?, ?it/s]"
     ]
    },
    {
     "name": "stdout",
     "output_type": "stream",
     "text": [
      "Group 0\n",
      "At round 175 accuracy: 0.8596059113300493\n",
      "At round 175 training accuracy: 0.8769587928032502\n",
      "At round 175 training loss: 0.4022767386124623\n",
      "Group 1\n",
      "At round 175 accuracy: 0.6837349397590361\n",
      "At round 175 training accuracy: 0.6293656450463293\n",
      "At round 175 training loss: 0.8801746824364618\n",
      "Group 2\n",
      "At round 175 accuracy: 0.9292929292929293\n",
      "At round 175 training accuracy: 0.9237961664329126\n",
      "At round 175 training loss: 0.21256805147737085\n",
      "Group 3\n",
      "At round 175 accuracy: 0.9425981873111783\n",
      "At round 175 training accuracy: 0.9481216457960644\n",
      "At round 175 training loss: 0.2145186717973519\n",
      "Group 4\n",
      "At round 175 accuracy: 0.9583333333333334\n",
      "At round 175 training accuracy: 0.935077519379845\n",
      "At round 175 training loss: 0.1778852868396837\n",
      "At round 175 mean test accuracy: 0.8799376299376299 mean train accuracy: 0.8699226600085257\n",
      "The groups difference are: [19.33269693 19.47251049 19.27445186 19.2381255  19.53888937]\n",
      "Begin group  0 training\n",
      "Begin group  1 training\n"
     ]
    },
    {
     "name": "stderr",
     "output_type": "stream",
     "text": [
      "Epoch:  30%|███████████████████████                                                      | 6/20 [00:00<00:00, 54.88it/s]"
     ]
    },
    {
     "name": "stdout",
     "output_type": "stream",
     "text": [
      "Begin group  2 training\n"
     ]
    },
    {
     "name": "stderr",
     "output_type": "stream",
     "text": [
      "Epoch:   0%|                                                                                     | 0/20 [00:00<?, ?it/s]"
     ]
    },
    {
     "name": "stdout",
     "output_type": "stream",
     "text": [
      "Begin group  3 training\n"
     ]
    },
    {
     "name": "stderr",
     "output_type": "stream",
     "text": [
      "Epoch:   0%|                                                                                     | 0/20 [00:00<?, ?it/s]"
     ]
    },
    {
     "name": "stdout",
     "output_type": "stream",
     "text": [
      "Begin group  4 training\n"
     ]
    },
    {
     "name": "stderr",
     "output_type": "stream",
     "text": [
      "                                                                                                                        \r"
     ]
    },
    {
     "name": "stdout",
     "output_type": "stream",
     "text": [
      "Group 0, clients ['f_00072', 'f_00094']\n",
      "Group 1, clients ['f_00118', 'f_00197', 'f_00188', 'f_00198', 'f_00028', 'f_00087', 'f_00097']\n",
      "Group 2, clients ['f_00171', 'f_00162', 'f_00132', 'f_00071', 'f_00032']\n",
      "Group 3, clients ['f_00056', 'f_00185']\n",
      "Group 4, clients ['f_00180', 'f_00029', 'f_00039', 'f_00160']\n"
     ]
    },
    {
     "name": "stderr",
     "output_type": "stream",
     "text": [
      "Epoch:  50%|██████████████████████████████████████                                      | 10/20 [00:00<00:00, 99.09it/s]"
     ]
    },
    {
     "name": "stdout",
     "output_type": "stream",
     "text": [
      "Group 0\n",
      "At round 176 accuracy: 0.9088669950738916\n",
      "At round 176 training accuracy: 0.9109112013929194\n",
      "At round 176 training loss: 0.3065942229705231\n",
      "Group 1\n",
      "At round 176 accuracy: 0.7951807228915663\n",
      "At round 176 training accuracy: 0.8271560940841055\n",
      "At round 176 training loss: 0.4982823182670074\n",
      "Group 2\n",
      "At round 176 accuracy: 0.901010101010101\n",
      "At round 176 training accuracy: 0.9097709209911173\n",
      "At round 176 training loss: 0.25910048386192647\n",
      "Group 3\n",
      "At round 176 accuracy: 0.9607250755287009\n",
      "At round 176 training accuracy: 0.9645796064400716\n",
      "At round 176 training loss: 0.18644654015162443\n",
      "Group 4\n",
      "At round 176 accuracy: 0.9583333333333334\n",
      "At round 176 training accuracy: 0.9292635658914729\n",
      "At round 176 training loss: 0.18833817175206866\n",
      "At round 176 mean test accuracy: 0.9054054054054054 mean train accuracy: 0.9088971439011022\n",
      "The groups difference are: [19.35571292 19.50675132 19.30893794 19.25942026 19.57313635]\n",
      "Begin group  0 training\n"
     ]
    },
    {
     "name": "stderr",
     "output_type": "stream",
     "text": [
      "Epoch:  20%|███████████████▍                                                             | 4/20 [00:00<00:00, 39.83it/s]"
     ]
    },
    {
     "name": "stdout",
     "output_type": "stream",
     "text": [
      "Begin group  1 training\n"
     ]
    },
    {
     "name": "stderr",
     "output_type": "stream",
     "text": [
      "Epoch:   0%|                                                                                     | 0/20 [00:00<?, ?it/s]"
     ]
    },
    {
     "name": "stdout",
     "output_type": "stream",
     "text": [
      "Begin group  2 training\n"
     ]
    },
    {
     "name": "stderr",
     "output_type": "stream",
     "text": [
      "Epoch:  70%|████████████████████████████████████████████████████▌                      | 14/20 [00:00<00:00, 133.45it/s]"
     ]
    },
    {
     "name": "stdout",
     "output_type": "stream",
     "text": [
      "Begin group  3 training\n"
     ]
    },
    {
     "name": "stderr",
     "output_type": "stream",
     "text": [
      "Epoch:  30%|███████████████████████                                                      | 6/20 [00:00<00:00, 53.70it/s]"
     ]
    },
    {
     "name": "stdout",
     "output_type": "stream",
     "text": [
      "Begin group  4 training\n"
     ]
    },
    {
     "name": "stderr",
     "output_type": "stream",
     "text": [
      "                                                                                                                        \r"
     ]
    },
    {
     "name": "stdout",
     "output_type": "stream",
     "text": [
      "Group 0, clients ['f_00003', 'f_00033', 'f_00194', 'f_00154', 'f_00144', 'f_00173', 'f_00014']\n",
      "Group 1, clients ['f_00089', 'f_00017', 'f_00018']\n",
      "Group 2, clients ['f_00111']\n",
      "Group 3, clients ['f_00165', 'f_00037', 'f_00055', 'f_00105', 'f_00126', 'f_00175']\n",
      "Group 4, clients ['f_00100', 'f_00069', 'f_00189']\n"
     ]
    },
    {
     "name": "stderr",
     "output_type": "stream",
     "text": [
      "Epoch:   0%|                                                                                     | 0/20 [00:00<?, ?it/s]"
     ]
    },
    {
     "name": "stdout",
     "output_type": "stream",
     "text": [
      "Group 0\n",
      "At round 177 accuracy: 0.9236453201970444\n",
      "At round 177 training accuracy: 0.9419616947185142\n",
      "At round 177 training loss: 0.18100972432433451\n",
      "Group 1\n",
      "At round 177 accuracy: 0.8313253012048193\n",
      "At round 177 training accuracy: 0.8396293656450463\n",
      "At round 177 training loss: 0.4638114894766172\n",
      "Group 2\n",
      "At round 177 accuracy: 0.9151515151515152\n",
      "At round 177 training accuracy: 0.9149135109864422\n",
      "At round 177 training loss: 0.2464839452490134\n",
      "Group 3\n",
      "At round 177 accuracy: 0.9003021148036254\n",
      "At round 177 training accuracy: 0.9026833631484794\n",
      "At round 177 training loss: 0.27492584924118624\n",
      "Group 4\n",
      "At round 177 accuracy: 0.8972222222222223\n",
      "At round 177 training accuracy: 0.8846899224806202\n",
      "At round 177 training loss: 0.2818985225233305\n",
      "At round 177 mean test accuracy: 0.8965696465696466 mean train accuracy: 0.8999451921320261\n",
      "The groups difference are: [19.37390472 19.53821677 19.32474678 19.28339113 19.59797571]\n",
      "Begin group  0 training\n"
     ]
    },
    {
     "name": "stderr",
     "output_type": "stream",
     "text": [
      "Epoch:   0%|                                                                                     | 0/20 [00:00<?, ?it/s]"
     ]
    },
    {
     "name": "stdout",
     "output_type": "stream",
     "text": [
      "Begin group  1 training\n"
     ]
    },
    {
     "name": "stderr",
     "output_type": "stream",
     "text": [
      "Epoch:   0%|                                                                                     | 0/20 [00:00<?, ?it/s]"
     ]
    },
    {
     "name": "stdout",
     "output_type": "stream",
     "text": [
      "Begin group  2 training\n",
      "Begin group  3 training\n"
     ]
    },
    {
     "name": "stderr",
     "output_type": "stream",
     "text": [
      "Epoch:  30%|███████████████████████                                                      | 6/20 [00:00<00:00, 51.86it/s]"
     ]
    },
    {
     "name": "stdout",
     "output_type": "stream",
     "text": [
      "Begin group  4 training\n"
     ]
    },
    {
     "name": "stderr",
     "output_type": "stream",
     "text": [
      "                                                                                                                        \r"
     ]
    },
    {
     "name": "stdout",
     "output_type": "stream",
     "text": [
      "Group 0, clients ['f_00053', 'f_00103']\n",
      "Group 1, clients ['f_00138', 'f_00188', 'f_00087', 'f_00137', 'f_00157', 'f_00038', 'f_00097']\n",
      "Group 2, clients ['f_00022', 'f_00001', 'f_00071', 'f_00122']\n",
      "Group 3, clients ['f_00166', 'f_00115', 'f_00195', 'f_00126', 'f_00045']\n",
      "Group 4, clients ['f_00069', 'f_00099']\n"
     ]
    },
    {
     "name": "stderr",
     "output_type": "stream",
     "text": [
      "Epoch:  15%|███████████▌                                                                 | 3/20 [00:00<00:00, 23.02it/s]"
     ]
    },
    {
     "name": "stdout",
     "output_type": "stream",
     "text": [
      "Group 0\n",
      "At round 178 accuracy: 0.8940886699507389\n",
      "At round 178 training accuracy: 0.8940800928612884\n",
      "At round 178 training loss: 0.2879695273915255\n",
      "Group 1\n",
      "At round 178 accuracy: 0.8644578313253012\n",
      "At round 178 training accuracy: 0.8513898788310763\n",
      "At round 178 training loss: 0.4274942004629653\n",
      "Group 2\n",
      "At round 178 accuracy: 0.8424242424242424\n",
      "At round 178 training accuracy: 0.8389434315100515\n",
      "At round 178 training loss: 0.4772161292386785\n",
      "Group 3\n",
      "At round 178 accuracy: 0.9667673716012085\n",
      "At round 178 training accuracy: 0.9660107334525939\n",
      "At round 178 training loss: 0.15553863255743583\n",
      "Group 4\n",
      "At round 178 accuracy: 0.9277777777777778\n",
      "At round 178 training accuracy: 0.9037467700258398\n",
      "At round 178 training loss: 0.25729899201301487\n",
      "At round 178 mean test accuracy: 0.8944906444906445 mean train accuracy: 0.8864868156628707\n",
      "The groups difference are: [19.39149234 19.54043373 19.33663045 19.29005418 19.60766366]\n",
      "Begin group  0 training\n"
     ]
    },
    {
     "name": "stderr",
     "output_type": "stream",
     "text": [
      "Epoch:   0%|                                                                                     | 0/20 [00:00<?, ?it/s]"
     ]
    },
    {
     "name": "stdout",
     "output_type": "stream",
     "text": [
      "Begin group  1 training\n"
     ]
    },
    {
     "name": "stderr",
     "output_type": "stream",
     "text": [
      "Epoch:   0%|                                                                                     | 0/20 [00:00<?, ?it/s]"
     ]
    },
    {
     "name": "stdout",
     "output_type": "stream",
     "text": [
      "Begin group  2 training\n"
     ]
    },
    {
     "name": "stderr",
     "output_type": "stream",
     "text": [
      "Epoch:   0%|                                                                                     | 0/20 [00:00<?, ?it/s]"
     ]
    },
    {
     "name": "stdout",
     "output_type": "stream",
     "text": [
      "Begin group  3 training\n"
     ]
    },
    {
     "name": "stderr",
     "output_type": "stream",
     "text": [
      "Epoch:   0%|                                                                                     | 0/20 [00:00<?, ?it/s]"
     ]
    },
    {
     "name": "stdout",
     "output_type": "stream",
     "text": [
      "Begin group  4 training\n"
     ]
    },
    {
     "name": "stderr",
     "output_type": "stream",
     "text": [
      "                                                                                                                        \r"
     ]
    },
    {
     "name": "stdout",
     "output_type": "stream",
     "text": [
      "Group 0, clients ['f_00034', 'f_00134', 'f_00154', 'f_00064', 'f_00083', 'f_00024']\n",
      "Group 1, clients ['f_00187', 'f_00008', 'f_00067', 'f_00007', 'f_00098', 'f_00177']\n",
      "Group 2, clients ['f_00031', 'f_00141', 'f_00192', 'f_00122']\n",
      "Group 3, clients ['f_00065', 'f_00185']\n",
      "Group 4, clients ['f_00150', 'f_00109']\n"
     ]
    },
    {
     "name": "stderr",
     "output_type": "stream",
     "text": [
      "Epoch:  55%|█████████████████████████████████████████▎                                 | 11/20 [00:00<00:00, 100.95it/s]"
     ]
    },
    {
     "name": "stdout",
     "output_type": "stream",
     "text": [
      "Group 0\n",
      "At round 179 accuracy: 0.8571428571428571\n",
      "At round 179 training accuracy: 0.8691236215902496\n",
      "At round 179 training loss: 0.4142896908244039\n",
      "Group 1\n",
      "At round 179 accuracy: 0.8192771084337349\n",
      "At round 179 training accuracy: 0.8460441910192444\n",
      "At round 179 training loss: 0.4919224928318392\n",
      "Group 2\n",
      "At round 179 accuracy: 0.9292929292929293\n",
      "At round 179 training accuracy: 0.9319775596072931\n",
      "At round 179 training loss: 0.20148545555167802\n",
      "Group 3\n",
      "At round 179 accuracy: 0.9395770392749244\n",
      "At round 179 training accuracy: 0.9531305903398927\n",
      "At round 179 training loss: 0.18034092700092225\n",
      "Group 4\n",
      "At round 179 accuracy: 0.8444444444444444\n",
      "At round 179 training accuracy: 0.850452196382429\n",
      "At round 179 training loss: 0.47445196987464255\n",
      "At round 179 mean test accuracy: 0.8809771309771309 mean train accuracy: 0.8923329882467572\n",
      "The groups difference are: [19.42050787 19.57080552 19.36164677 19.31100774 19.63335628]\n",
      "Begin group  0 training\n"
     ]
    },
    {
     "name": "stderr",
     "output_type": "stream",
     "text": [
      "Epoch:   0%|                                                                                     | 0/20 [00:00<?, ?it/s]"
     ]
    },
    {
     "name": "stdout",
     "output_type": "stream",
     "text": [
      "Begin group  1 training\n"
     ]
    },
    {
     "name": "stderr",
     "output_type": "stream",
     "text": [
      "Epoch:   0%|                                                                                     | 0/20 [00:00<?, ?it/s]"
     ]
    },
    {
     "name": "stdout",
     "output_type": "stream",
     "text": [
      "Begin group  2 training\n"
     ]
    },
    {
     "name": "stderr",
     "output_type": "stream",
     "text": [
      "Epoch:   0%|                                                                                     | 0/20 [00:00<?, ?it/s]"
     ]
    },
    {
     "name": "stdout",
     "output_type": "stream",
     "text": [
      "Begin group  3 training\n"
     ]
    },
    {
     "name": "stderr",
     "output_type": "stream",
     "text": [
      "                                                                                                                        \r"
     ]
    },
    {
     "name": "stdout",
     "output_type": "stream",
     "text": [
      "Begin group  4 training\n",
      "Group 0, clients ['f_00103', 'f_00014', 'f_00173', 'f_00072']\n",
      "Group 1, clients ['f_00057', 'f_00187', 'f_00017']\n",
      "Group 2, clients ['f_00001', 'f_00041', 'f_00132', 'f_00141', 'f_00061', 'f_00102', 'f_00161']\n",
      "Group 3, clients ['f_00106', 'f_00195', 'f_00165', 'f_00015', 'f_00116']\n",
      "Group 4, clients ['f_00020']\n"
     ]
    },
    {
     "name": "stderr",
     "output_type": "stream",
     "text": [
      "Epoch:   0%|                                                                                     | 0/20 [00:00<?, ?it/s]"
     ]
    },
    {
     "name": "stdout",
     "output_type": "stream",
     "text": [
      "Group 0\n",
      "At round 180 accuracy: 0.9310344827586207\n",
      "At round 180 training accuracy: 0.934997098084736\n",
      "At round 180 training loss: 0.23802369637809395\n",
      "Group 1\n",
      "At round 180 accuracy: 0.7921686746987951\n",
      "At round 180 training accuracy: 0.8164647184604419\n",
      "At round 180 training loss: 0.5023050989267959\n",
      "Group 2\n",
      "At round 180 accuracy: 0.907070707070707\n",
      "At round 180 training accuracy: 0.9100046750818139\n",
      "At round 180 training loss: 0.2490595878685758\n",
      "Group 3\n",
      "At round 180 accuracy: 0.8489425981873112\n",
      "At round 180 training accuracy: 0.8307692307692308\n",
      "At round 180 training loss: 0.4497610818564705\n",
      "Group 4\n",
      "At round 180 accuracy: 0.9444444444444444\n",
      "At round 180 training accuracy: 0.9437984496124031\n",
      "At round 180 training loss: 0.17693438979698398\n",
      "At round 180 mean test accuracy: 0.8892931392931392 mean train accuracy: 0.8921502953535108\n",
      "The groups difference are: [19.44048013 19.6023837  19.38456871 19.33075861 19.65129847]\n",
      "Begin group  0 training\n"
     ]
    },
    {
     "name": "stderr",
     "output_type": "stream",
     "text": [
      "Epoch:   0%|                                                                                     | 0/20 [00:00<?, ?it/s]"
     ]
    },
    {
     "name": "stdout",
     "output_type": "stream",
     "text": [
      "Begin group  1 training\n"
     ]
    },
    {
     "name": "stderr",
     "output_type": "stream",
     "text": [
      "Epoch:   0%|                                                                                     | 0/20 [00:00<?, ?it/s]"
     ]
    },
    {
     "name": "stdout",
     "output_type": "stream",
     "text": [
      "Begin group  2 training\n"
     ]
    },
    {
     "name": "stderr",
     "output_type": "stream",
     "text": [
      "Epoch:   0%|                                                                                     | 0/20 [00:00<?, ?it/s]"
     ]
    },
    {
     "name": "stdout",
     "output_type": "stream",
     "text": [
      "Begin group  3 training\n"
     ]
    },
    {
     "name": "stderr",
     "output_type": "stream",
     "text": [
      "                                                                                                                        "
     ]
    },
    {
     "name": "stdout",
     "output_type": "stream",
     "text": [
      "Begin group  4 training\n"
     ]
    },
    {
     "name": "stderr",
     "output_type": "stream",
     "text": [
      "\r"
     ]
    },
    {
     "name": "stdout",
     "output_type": "stream",
     "text": [
      "Group 0, clients ['f_00073', 'f_00064', 'f_00114', 'f_00024', 'f_00013', 'f_00084', 'f_00083', 'f_00104', 'f_00154', 'f_00004']\n",
      "Group 1, clients ['f_00137', 'f_00176']\n",
      "Group 2, clients ['f_00052', 'f_00142', 'f_00002']\n",
      "Group 3, clients ['f_00195', 'f_00116', 'f_00166', 'f_00066']\n",
      "Group 4, clients ['f_00189']\n"
     ]
    },
    {
     "name": "stderr",
     "output_type": "stream",
     "text": [
      "Epoch:  20%|███████████████▍                                                             | 4/20 [00:00<00:00, 36.58it/s]"
     ]
    },
    {
     "name": "stdout",
     "output_type": "stream",
     "text": [
      "Group 0\n",
      "At round 181 accuracy: 0.9310344827586207\n",
      "At round 181 training accuracy: 0.9483459082994776\n",
      "At round 181 training loss: 0.1599135821505741\n",
      "Group 1\n",
      "At round 181 accuracy: 0.7710843373493976\n",
      "At round 181 training accuracy: 0.8043478260869565\n",
      "At round 181 training loss: 0.5668594937237857\n",
      "Group 2\n",
      "At round 181 accuracy: 0.8808080808080808\n",
      "At round 181 training accuracy: 0.894109396914446\n",
      "At round 181 training loss: 0.2678705803673782\n",
      "Group 3\n",
      "At round 181 accuracy: 0.8429003021148036\n",
      "At round 181 training accuracy: 0.8354203935599285\n",
      "At round 181 training loss: 0.4272203400087991\n",
      "Group 4\n",
      "At round 181 accuracy: 0.9555555555555556\n",
      "At round 181 training accuracy: 0.9257105943152455\n",
      "At round 181 training loss: 0.20550164240424446\n",
      "At round 181 mean test accuracy: 0.8799376299376299 mean train accuracy: 0.8861214298763778\n",
      "The groups difference are: [19.44856308 19.61566449 19.39722266 19.34528644 19.66499221]\n",
      "Begin group  0 training\n"
     ]
    },
    {
     "name": "stderr",
     "output_type": "stream",
     "text": [
      "Epoch:   0%|                                                                                     | 0/20 [00:00<?, ?it/s]"
     ]
    },
    {
     "name": "stdout",
     "output_type": "stream",
     "text": [
      "Begin group  1 training\n"
     ]
    },
    {
     "name": "stderr",
     "output_type": "stream",
     "text": [
      "Epoch:  30%|███████████████████████                                                      | 6/20 [00:00<00:00, 55.34it/s]"
     ]
    },
    {
     "name": "stdout",
     "output_type": "stream",
     "text": [
      "Begin group  2 training\n"
     ]
    },
    {
     "name": "stderr",
     "output_type": "stream",
     "text": [
      "Epoch:   0%|                                                                                     | 0/20 [00:00<?, ?it/s]"
     ]
    },
    {
     "name": "stdout",
     "output_type": "stream",
     "text": [
      "Begin group  3 training\n"
     ]
    },
    {
     "name": "stderr",
     "output_type": "stream",
     "text": [
      "Epoch:  45%|██████████████████████████████████▋                                          | 9/20 [00:00<00:00, 84.48it/s]"
     ]
    },
    {
     "name": "stdout",
     "output_type": "stream",
     "text": [
      "Begin group  4 training\n"
     ]
    },
    {
     "name": "stderr",
     "output_type": "stream",
     "text": [
      "                                                                                                                        \r"
     ]
    },
    {
     "name": "stdout",
     "output_type": "stream",
     "text": [
      "Group 0, clients ['f_00164', 'f_00104', 'f_00134', 'f_00194']\n",
      "Group 1, clients ['f_00176', 'f_00048', 'f_00138']\n",
      "Group 2, clients ['f_00041', 'f_00011', 'f_00192', 'f_00171', 'f_00181']\n",
      "Group 3, clients ['f_00045', 'f_00146', 'f_00155', 'f_00166']\n",
      "Group 4, clients ['f_00149', 'f_00070', 'f_00159', 'f_00120']\n"
     ]
    },
    {
     "name": "stderr",
     "output_type": "stream",
     "text": [
      "Epoch:  15%|███████████▌                                                                 | 3/20 [00:00<00:00, 24.58it/s]"
     ]
    },
    {
     "name": "stdout",
     "output_type": "stream",
     "text": [
      "Group 0\n",
      "At round 182 accuracy: 0.9187192118226601\n",
      "At round 182 training accuracy: 0.9474753337202554\n",
      "At round 182 training loss: 0.18466423030183782\n",
      "Group 1\n",
      "At round 182 accuracy: 0.7590361445783133\n",
      "At round 182 training accuracy: 0.7761938702779758\n",
      "At round 182 training loss: 0.6527402121852486\n",
      "Group 2\n",
      "At round 182 accuracy: 0.898989898989899\n",
      "At round 182 training accuracy: 0.9036933146330061\n",
      "At round 182 training loss: 0.2744197970183933\n",
      "Group 3\n",
      "At round 182 accuracy: 0.9546827794561934\n",
      "At round 182 training accuracy: 0.9395348837209302\n",
      "At round 182 training loss: 0.21786710247430743\n",
      "Group 4\n",
      "At round 182 accuracy: 0.9027777777777778\n",
      "At round 182 training accuracy: 0.8943798449612403\n",
      "At round 182 training loss: 0.3129080012356453\n",
      "At round 182 mean test accuracy: 0.8892931392931392 mean train accuracy: 0.895438767431947\n",
      "The groups difference are: [19.47466375 19.63652642 19.42955075 19.36580245 19.69295184]\n",
      "Begin group  0 training\n"
     ]
    },
    {
     "name": "stderr",
     "output_type": "stream",
     "text": [
      "Epoch:   0%|                                                                                     | 0/20 [00:00<?, ?it/s]"
     ]
    },
    {
     "name": "stdout",
     "output_type": "stream",
     "text": [
      "Begin group  1 training\n"
     ]
    },
    {
     "name": "stderr",
     "output_type": "stream",
     "text": [
      "                                                                                                                        "
     ]
    },
    {
     "name": "stdout",
     "output_type": "stream",
     "text": [
      "Begin group  2 training\n"
     ]
    },
    {
     "name": "stderr",
     "output_type": "stream",
     "text": [
      "Epoch:   0%|                                                                                     | 0/20 [00:00<?, ?it/s]"
     ]
    },
    {
     "name": "stdout",
     "output_type": "stream",
     "text": [
      "Begin group  3 training\n"
     ]
    },
    {
     "name": "stderr",
     "output_type": "stream",
     "text": [
      "Epoch:   0%|                                                                                     | 0/20 [00:00<?, ?it/s]"
     ]
    },
    {
     "name": "stdout",
     "output_type": "stream",
     "text": [
      "Begin group  4 training\n"
     ]
    },
    {
     "name": "stderr",
     "output_type": "stream",
     "text": [
      "                                                                                                                        \r"
     ]
    },
    {
     "name": "stdout",
     "output_type": "stream",
     "text": [
      "Group 0, clients ['f_00154', 'f_00124']\n",
      "Group 1, clients ['f_00158', 'f_00049', 'f_00059', 'f_00089', 'f_00058', 'f_00198', 'f_00108']\n",
      "Group 2 is empty.\n",
      "Group 3, clients ['f_00076', 'f_00055', 'f_00036', 'f_00126']\n",
      "Group 4, clients ['f_00100', 'f_00000', 'f_00069', 'f_00139', 'f_00130', 'f_00020', 'f_00170']\n"
     ]
    },
    {
     "name": "stderr",
     "output_type": "stream",
     "text": [
      "Epoch:  35%|██████████████████████████▉                                                  | 7/20 [00:00<00:00, 66.36it/s]"
     ]
    },
    {
     "name": "stdout",
     "output_type": "stream",
     "text": [
      "Group 0\n",
      "At round 183 accuracy: 0.8645320197044335\n",
      "At round 183 training accuracy: 0.8850841555426582\n",
      "At round 183 training loss: 0.36009583955179864\n",
      "Group 1\n",
      "At round 183 accuracy: 0.8975903614457831\n",
      "At round 183 training accuracy: 0.882751247327156\n",
      "At round 183 training loss: 0.3321509280919774\n",
      "Group 2\n",
      "At round 183 accuracy: 0.8747474747474747\n",
      "At round 183 training accuracy: 0.8847592332865826\n",
      "At round 183 training loss: 0.339289196415109\n",
      "Group 3\n",
      "At round 183 accuracy: 0.9486404833836858\n",
      "At round 183 training accuracy: 0.9577817531305903\n",
      "At round 183 training loss: 0.17752190920889163\n",
      "Group 4\n",
      "At round 183 accuracy: 0.8527777777777777\n",
      "At round 183 training accuracy: 0.8123385012919897\n",
      "At round 183 training loss: 0.47437102757201793\n",
      "At round 183 mean test accuracy: 0.8851351351351351 mean train accuracy: 0.8832592412155167\n",
      "The groups difference are: [19.49991446 19.65090864 19.44735314 19.37968132 19.71374229]\n",
      "Begin group  0 training\n"
     ]
    },
    {
     "name": "stderr",
     "output_type": "stream",
     "text": [
      "Epoch:   0%|                                                                                     | 0/20 [00:00<?, ?it/s]"
     ]
    },
    {
     "name": "stdout",
     "output_type": "stream",
     "text": [
      "Begin group  1 training\n"
     ]
    },
    {
     "name": "stderr",
     "output_type": "stream",
     "text": [
      "Epoch:  25%|███████████████████▎                                                         | 5/20 [00:00<00:00, 47.02it/s]"
     ]
    },
    {
     "name": "stdout",
     "output_type": "stream",
     "text": [
      "Begin group  3 training\n"
     ]
    },
    {
     "name": "stderr",
     "output_type": "stream",
     "text": [
      "Epoch:  40%|██████████████████████████████▊                                              | 8/20 [00:00<00:00, 70.27it/s]"
     ]
    },
    {
     "name": "stdout",
     "output_type": "stream",
     "text": [
      "Begin group  4 training\n"
     ]
    },
    {
     "name": "stderr",
     "output_type": "stream",
     "text": [
      "                                                                                                                        \r"
     ]
    },
    {
     "name": "stdout",
     "output_type": "stream",
     "text": [
      "Group 0, clients ['f_00014', 'f_00063', 'f_00194', 'f_00104']\n",
      "Group 1, clients ['f_00078', 'f_00138', 'f_00198', 'f_00188', 'f_00097']\n",
      "Group 2, clients ['f_00181']\n",
      "Group 3, clients ['f_00165', 'f_00126', 'f_00066', 'f_00036', 'f_00186', 'f_00105']\n",
      "Group 4, clients ['f_00000', 'f_00139', 'f_00039', 'f_00079']\n"
     ]
    },
    {
     "name": "stderr",
     "output_type": "stream",
     "text": [
      "Epoch:  40%|██████████████████████████████▊                                              | 8/20 [00:00<00:00, 71.02it/s]"
     ]
    },
    {
     "name": "stdout",
     "output_type": "stream",
     "text": [
      "Group 0\n",
      "At round 184 accuracy: 0.8423645320197044\n",
      "At round 184 training accuracy: 0.8340104468949506\n",
      "At round 184 training loss: 0.5121618153973851\n",
      "Group 1\n",
      "At round 184 accuracy: 0.8253012048192772\n",
      "At round 184 training accuracy: 0.8029223093371347\n",
      "At round 184 training loss: 0.672892497301484\n",
      "Group 2\n",
      "At round 184 accuracy: 0.8747474747474747\n",
      "At round 184 training accuracy: 0.884525479195886\n",
      "At round 184 training loss: 0.33889441896019246\n",
      "Group 3\n",
      "At round 184 accuracy: 0.8761329305135952\n",
      "At round 184 training accuracy: 0.8701252236135957\n",
      "At round 184 training loss: 0.39993131052276154\n",
      "Group 4\n",
      "At round 184 accuracy: 0.9694444444444444\n",
      "At round 184 training accuracy: 0.9470284237726099\n",
      "At round 184 training loss: 0.15144198586278684\n",
      "At round 184 mean test accuracy: 0.8773388773388774 mean train accuracy: 0.8693136836977041\n",
      "The groups difference are: [19.51732495 19.66383558 19.45334579 19.38938163 19.72473472]\n",
      "Begin group  0 training\n"
     ]
    },
    {
     "name": "stderr",
     "output_type": "stream",
     "text": [
      "Epoch:   0%|                                                                                     | 0/20 [00:00<?, ?it/s]"
     ]
    },
    {
     "name": "stdout",
     "output_type": "stream",
     "text": [
      "Begin group  1 training\n"
     ]
    },
    {
     "name": "stderr",
     "output_type": "stream",
     "text": [
      "Epoch:   0%|                                                                                     | 0/20 [00:00<?, ?it/s]"
     ]
    },
    {
     "name": "stdout",
     "output_type": "stream",
     "text": [
      "Begin group  2 training\n",
      "Begin group  3 training\n"
     ]
    },
    {
     "name": "stderr",
     "output_type": "stream",
     "text": [
      "Epoch:   0%|                                                                                     | 0/20 [00:00<?, ?it/s]"
     ]
    },
    {
     "name": "stdout",
     "output_type": "stream",
     "text": [
      "Begin group  4 training\n"
     ]
    },
    {
     "name": "stderr",
     "output_type": "stream",
     "text": [
      "                                                                                                                        \r"
     ]
    },
    {
     "name": "stdout",
     "output_type": "stream",
     "text": [
      "Group 0, clients ['f_00034', 'f_00024', 'f_00124']\n",
      "Group 1, clients ['f_00198']\n",
      "Group 2, clients ['f_00141', 'f_00191', 'f_00122', 'f_00081', 'f_00101']\n",
      "Group 3, clients ['f_00175', 'f_00036', 'f_00016', 'f_00015', 'f_00145', 'f_00095']\n",
      "Group 4, clients ['f_00070', 'f_00039', 'f_00179', 'f_00050', 'f_00069']\n"
     ]
    },
    {
     "name": "stderr",
     "output_type": "stream",
     "text": [
      "Epoch:  55%|█████████████████████████████████████████▎                                 | 11/20 [00:00<00:00, 100.68it/s]"
     ]
    },
    {
     "name": "stdout",
     "output_type": "stream",
     "text": [
      "Group 0\n",
      "At round 185 accuracy: 0.8866995073891626\n",
      "At round 185 training accuracy: 0.8789901334881022\n",
      "At round 185 training loss: 0.36987087966412635\n",
      "Group 1\n",
      "At round 185 accuracy: 0.8343373493975904\n",
      "At round 185 training accuracy: 0.807911617961511\n",
      "At round 185 training loss: 0.6135893553118364\n",
      "Group 2\n",
      "At round 185 accuracy: 0.8202020202020202\n",
      "At round 185 training accuracy: 0.8214118747078074\n",
      "At round 185 training loss: 0.5480550323060465\n",
      "Group 3\n",
      "At round 185 accuracy: 0.9425981873111783\n",
      "At round 185 training accuracy: 0.9370304114490161\n",
      "At round 185 training loss: 0.2382594666242173\n",
      "Group 4\n",
      "At round 185 accuracy: 0.925\n",
      "At round 185 training accuracy: 0.9056847545219638\n",
      "At round 185 training loss: 0.25290187553548343\n",
      "At round 185 mean test accuracy: 0.8773388773388774 mean train accuracy: 0.8667559831922538\n",
      "The groups difference are: [19.53231138 19.67479073 19.46564825 19.39976486 19.73537145]\n",
      "Begin group  0 training\n"
     ]
    },
    {
     "name": "stderr",
     "output_type": "stream",
     "text": [
      "Epoch:   0%|                                                                                     | 0/20 [00:00<?, ?it/s]"
     ]
    },
    {
     "name": "stdout",
     "output_type": "stream",
     "text": [
      "Begin group  1 training\n",
      "Begin group  2 training\n"
     ]
    },
    {
     "name": "stderr",
     "output_type": "stream",
     "text": [
      "Epoch:   0%|                                                                                     | 0/20 [00:00<?, ?it/s]"
     ]
    },
    {
     "name": "stdout",
     "output_type": "stream",
     "text": [
      "Begin group  3 training\n"
     ]
    },
    {
     "name": "stderr",
     "output_type": "stream",
     "text": [
      "Epoch:  30%|███████████████████████                                                      | 6/20 [00:00<00:00, 51.82it/s]"
     ]
    },
    {
     "name": "stdout",
     "output_type": "stream",
     "text": [
      "Begin group  4 training\n"
     ]
    },
    {
     "name": "stderr",
     "output_type": "stream",
     "text": [
      "                                                                                                                        \r"
     ]
    },
    {
     "name": "stdout",
     "output_type": "stream",
     "text": [
      "Group 0, clients ['f_00054', 'f_00064']\n",
      "Group 1, clients ['f_00087', 'f_00167', 'f_00028', 'f_00049', 'f_00138']\n",
      "Group 2, clients ['f_00131', 'f_00041', 'f_00102', 'f_00061', 'f_00031', 'f_00151', 'f_00001']\n",
      "Group 3, clients ['f_00037', 'f_00006']\n",
      "Group 4, clients ['f_00160', 'f_00040', 'f_00130', 'f_00019']\n"
     ]
    },
    {
     "name": "stderr",
     "output_type": "stream",
     "text": [
      "Epoch:  70%|████████████████████████████████████████████████████▌                      | 14/20 [00:00<00:00, 135.66it/s]"
     ]
    },
    {
     "name": "stdout",
     "output_type": "stream",
     "text": [
      "Group 0\n",
      "At round 186 accuracy: 0.854679802955665\n",
      "At round 186 training accuracy: 0.8464886825304702\n",
      "At round 186 training loss: 0.471444269691962\n",
      "Group 1\n",
      "At round 186 accuracy: 0.8132530120481928\n",
      "At round 186 training accuracy: 0.7829650748396294\n",
      "At round 186 training loss: 0.7644776487862393\n",
      "Group 2\n",
      "At round 186 accuracy: 0.9191919191919192\n",
      "At round 186 training accuracy: 0.9174848059841048\n",
      "At round 186 training loss: 0.24417357435628473\n",
      "Group 3\n",
      "At round 186 accuracy: 0.9244712990936556\n",
      "At round 186 training accuracy: 0.9409660107334525\n",
      "At round 186 training loss: 0.2248665623210224\n",
      "Group 4\n",
      "At round 186 accuracy: 0.9611111111111111\n",
      "At round 186 training accuracy: 0.9531653746770026\n",
      "At round 186 training loss: 0.1518933259561966\n",
      "At round 186 mean test accuracy: 0.896049896049896 mean train accuracy: 0.8903233664210463\n",
      "The groups difference are: [19.55638772 19.70204221 19.48925765 19.42223486 19.76249626]\n",
      "Begin group  0 training\n"
     ]
    },
    {
     "name": "stderr",
     "output_type": "stream",
     "text": [
      "Epoch:  20%|███████████████▍                                                             | 4/20 [00:00<00:00, 36.38it/s]"
     ]
    },
    {
     "name": "stdout",
     "output_type": "stream",
     "text": [
      "Begin group  1 training\n"
     ]
    },
    {
     "name": "stderr",
     "output_type": "stream",
     "text": [
      "Epoch:   0%|                                                                                     | 0/20 [00:00<?, ?it/s]"
     ]
    },
    {
     "name": "stdout",
     "output_type": "stream",
     "text": [
      "Begin group  2 training\n"
     ]
    },
    {
     "name": "stderr",
     "output_type": "stream",
     "text": [
      "Epoch:  40%|██████████████████████████████▊                                              | 8/20 [00:00<00:00, 79.43it/s]"
     ]
    },
    {
     "name": "stdout",
     "output_type": "stream",
     "text": [
      "Begin group  3 training\n"
     ]
    },
    {
     "name": "stderr",
     "output_type": "stream",
     "text": [
      "Epoch:  15%|███████████▌                                                                 | 3/20 [00:00<00:00, 29.57it/s]"
     ]
    },
    {
     "name": "stdout",
     "output_type": "stream",
     "text": [
      "Begin group  4 training\n"
     ]
    },
    {
     "name": "stderr",
     "output_type": "stream",
     "text": [
      "                                                                                                                        \r"
     ]
    },
    {
     "name": "stdout",
     "output_type": "stream",
     "text": [
      "Group 0, clients ['f_00044', 'f_00183', 'f_00023', 'f_00193']\n",
      "Group 1, clients ['f_00176', 'f_00108', 'f_00049', 'f_00198']\n",
      "Group 2, clients ['f_00062', 'f_00102', 'f_00052', 'f_00192']\n",
      "Group 3, clients ['f_00136', 'f_00046', 'f_00076']\n",
      "Group 4, clients ['f_00020', 'f_00109', 'f_00080', 'f_00120', 'f_00070']\n"
     ]
    },
    {
     "name": "stderr",
     "output_type": "stream",
     "text": [
      "Epoch:   0%|                                                                                     | 0/20 [00:00<?, ?it/s]"
     ]
    },
    {
     "name": "stdout",
     "output_type": "stream",
     "text": [
      "Group 0\n",
      "At round 187 accuracy: 0.8448275862068966\n",
      "At round 187 training accuracy: 0.8386535113174696\n",
      "At round 187 training loss: 0.49213581046038724\n",
      "Group 1\n",
      "At round 187 accuracy: 0.8253012048192772\n",
      "At round 187 training accuracy: 0.8560228082679971\n",
      "At round 187 training loss: 0.45951808292315166\n",
      "Group 2\n",
      "At round 187 accuracy: 0.9191919191919192\n",
      "At round 187 training accuracy: 0.9228611500701263\n",
      "At round 187 training loss: 0.21426194058857465\n",
      "Group 3\n",
      "At round 187 accuracy: 0.7401812688821753\n",
      "At round 187 training accuracy: 0.7735241502683363\n",
      "At round 187 training loss: 0.5082074316541709\n",
      "Group 4\n",
      "At round 187 accuracy: 0.925\n",
      "At round 187 training accuracy: 0.9082687338501292\n",
      "At round 187 training loss: 0.23881809017681144\n",
      "At round 187 mean test accuracy: 0.8575883575883576 mean train accuracy: 0.8655989282016929\n",
      "The groups difference are: [19.57673357 19.71830033 19.51298553 19.43450649 19.78582885]\n",
      "Begin group  0 training\n"
     ]
    },
    {
     "name": "stderr",
     "output_type": "stream",
     "text": [
      "Epoch:  50%|██████████████████████████████████████                                      | 10/20 [00:00<00:00, 97.80it/s]"
     ]
    },
    {
     "name": "stdout",
     "output_type": "stream",
     "text": [
      "Begin group  1 training\n"
     ]
    },
    {
     "name": "stderr",
     "output_type": "stream",
     "text": [
      "Epoch:   5%|███▊                                                                         | 1/20 [00:00<00:03,  6.08it/s]"
     ]
    },
    {
     "name": "stdout",
     "output_type": "stream",
     "text": [
      "Begin group  2 training\n"
     ]
    },
    {
     "name": "stderr",
     "output_type": "stream",
     "text": [
      "Epoch:  30%|███████████████████████                                                      | 6/20 [00:00<00:00, 56.08it/s]"
     ]
    },
    {
     "name": "stdout",
     "output_type": "stream",
     "text": [
      "Begin group  3 training\n"
     ]
    },
    {
     "name": "stderr",
     "output_type": "stream",
     "text": [
      "Epoch:   0%|                                                                                     | 0/20 [00:00<?, ?it/s]"
     ]
    },
    {
     "name": "stdout",
     "output_type": "stream",
     "text": [
      "Begin group  4 training\n"
     ]
    },
    {
     "name": "stderr",
     "output_type": "stream",
     "text": [
      "                                                                                                                        \r"
     ]
    },
    {
     "name": "stdout",
     "output_type": "stream",
     "text": [
      "Group 0, clients ['f_00163', 'f_00073', 'f_00083', 'f_00003', 'f_00004']\n",
      "Group 1, clients ['f_00169', 'f_00158', 'f_00087']\n",
      "Group 2, clients ['f_00152', 'f_00082', 'f_00191', 'f_00091', 'f_00061']\n",
      "Group 3, clients ['f_00015']\n",
      "Group 4, clients ['f_00060', 'f_00109', 'f_00079', 'f_00129', 'f_00010', 'f_00100']\n"
     ]
    },
    {
     "name": "stderr",
     "output_type": "stream",
     "text": [
      "Epoch:  55%|█████████████████████████████████████████▎                                 | 11/20 [00:00<00:00, 104.70it/s]"
     ]
    },
    {
     "name": "stdout",
     "output_type": "stream",
     "text": [
      "Group 0\n",
      "At round 188 accuracy: 0.9014778325123153\n",
      "At round 188 training accuracy: 0.9291932675565874\n",
      "At round 188 training loss: 0.24626841241287342\n",
      "Group 1\n",
      "At round 188 accuracy: 0.8463855421686747\n",
      "At round 188 training accuracy: 0.8335709194583036\n",
      "At round 188 training loss: 0.5014493161957135\n",
      "Group 2\n",
      "At round 188 accuracy: 0.8828282828282829\n",
      "At round 188 training accuracy: 0.8913043478260869\n",
      "At round 188 training loss: 0.32902649796753775\n",
      "Group 3\n",
      "At round 188 accuracy: 0.8157099697885196\n",
      "At round 188 training accuracy: 0.8110912343470483\n",
      "At round 188 training loss: 0.5652087175455578\n",
      "Group 4\n",
      "At round 188 accuracy: 0.9027777777777778\n",
      "At round 188 training accuracy: 0.8911498708010336\n",
      "At round 188 training loss: 0.28597354096208893\n",
      "At round 188 mean test accuracy: 0.8726611226611226 mean train accuracy: 0.87570793496133\n",
      "The groups difference are: [19.59347831 19.73679327 19.52579005 19.45413688 19.80818811]\n",
      "Begin group  0 training\n"
     ]
    },
    {
     "name": "stderr",
     "output_type": "stream",
     "text": [
      "Epoch:  60%|█████████████████████████████████████████████                              | 12/20 [00:00<00:00, 119.61it/s]"
     ]
    },
    {
     "name": "stdout",
     "output_type": "stream",
     "text": [
      "Begin group  1 training\n"
     ]
    },
    {
     "name": "stderr",
     "output_type": "stream",
     "text": [
      "Epoch:  35%|██████████████████████████▉                                                  | 7/20 [00:00<00:00, 62.16it/s]"
     ]
    },
    {
     "name": "stdout",
     "output_type": "stream",
     "text": [
      "Begin group  2 training\n"
     ]
    },
    {
     "name": "stderr",
     "output_type": "stream",
     "text": [
      "Epoch:  50%|██████████████████████████████████████                                      | 10/20 [00:00<00:00, 97.84it/s]"
     ]
    },
    {
     "name": "stdout",
     "output_type": "stream",
     "text": [
      "Begin group  3 training\n"
     ]
    },
    {
     "name": "stderr",
     "output_type": "stream",
     "text": [
      "Epoch:   0%|                                                                                     | 0/20 [00:00<?, ?it/s]"
     ]
    },
    {
     "name": "stdout",
     "output_type": "stream",
     "text": [
      "Begin group  4 training\n"
     ]
    },
    {
     "name": "stderr",
     "output_type": "stream",
     "text": [
      "                                                                                                                        \r"
     ]
    },
    {
     "name": "stdout",
     "output_type": "stream",
     "text": [
      "Group 0, clients ['f_00043', 'f_00114', 'f_00163', 'f_00053', 'f_00133']\n",
      "Group 1, clients ['f_00198', 'f_00027', 'f_00077']\n",
      "Group 2, clients ['f_00091', 'f_00111', 'f_00142', 'f_00002', 'f_00071', 'f_00012']\n",
      "Group 3, clients ['f_00075', 'f_00037', 'f_00136', 'f_00106']\n",
      "Group 4, clients ['f_00130', 'f_00180']\n"
     ]
    },
    {
     "name": "stderr",
     "output_type": "stream",
     "text": [
      "Epoch:   0%|                                                                                     | 0/20 [00:00<?, ?it/s]"
     ]
    },
    {
     "name": "stdout",
     "output_type": "stream",
     "text": [
      "Group 0\n",
      "At round 189 accuracy: 0.874384236453202\n",
      "At round 189 training accuracy: 0.8964016250725478\n",
      "At round 189 training loss: 0.32182085185024717\n",
      "Group 1\n",
      "At round 189 accuracy: 0.8132530120481928\n",
      "At round 189 training accuracy: 0.8435495367070563\n",
      "At round 189 training loss: 0.46909910314321435\n",
      "Group 2\n",
      "At round 189 accuracy: 0.9212121212121213\n",
      "At round 189 training accuracy: 0.9198223468910706\n",
      "At round 189 training loss: 0.22628574592399647\n",
      "Group 3\n",
      "At round 189 accuracy: 0.8731117824773413\n",
      "At round 189 training accuracy: 0.8647584973166369\n",
      "At round 189 training loss: 0.32184359575946664\n",
      "Group 4\n",
      "At round 189 accuracy: 0.9305555555555556\n",
      "At round 189 training accuracy: 0.8998708010335917\n",
      "At round 189 training loss: 0.2197981827798509\n",
      "At round 189 mean test accuracy: 0.8861746361746362 mean train accuracy: 0.8887400280129103\n",
      "The groups difference are: [19.63052601 19.7825285  19.56543972 19.49445861 19.84877394]\n",
      "Begin group  0 training\n"
     ]
    },
    {
     "name": "stderr",
     "output_type": "stream",
     "text": [
      "                                                                                                                        "
     ]
    },
    {
     "name": "stdout",
     "output_type": "stream",
     "text": [
      "Begin group  1 training\n"
     ]
    },
    {
     "name": "stderr",
     "output_type": "stream",
     "text": [
      "Epoch:  40%|██████████████████████████████▊                                              | 8/20 [00:00<00:00, 74.21it/s]"
     ]
    },
    {
     "name": "stdout",
     "output_type": "stream",
     "text": [
      "Begin group  2 training\n"
     ]
    },
    {
     "name": "stderr",
     "output_type": "stream",
     "text": [
      "Epoch:  50%|██████████████████████████████████████                                      | 10/20 [00:00<00:00, 92.07it/s]"
     ]
    },
    {
     "name": "stdout",
     "output_type": "stream",
     "text": [
      "Begin group  3 training\n"
     ]
    },
    {
     "name": "stderr",
     "output_type": "stream",
     "text": [
      "Epoch:  25%|███████████████████▎                                                         | 5/20 [00:00<00:00, 46.05it/s]"
     ]
    },
    {
     "name": "stdout",
     "output_type": "stream",
     "text": [
      "Begin group  4 training\n"
     ]
    },
    {
     "name": "stderr",
     "output_type": "stream",
     "text": [
      "                                                                                                                        \r"
     ]
    },
    {
     "name": "stdout",
     "output_type": "stream",
     "text": [
      "Group 0, clients ['f_00024', 'f_00014', 'f_00023']\n",
      "Group 1, clients ['f_00107', 'f_00028', 'f_00017', 'f_00018', 'f_00008']\n",
      "Group 2, clients ['f_00001', 'f_00092']\n",
      "Group 3, clients ['f_00056', 'f_00006', 'f_00055', 'f_00116', 'f_00046', 'f_00045', 'f_00105']\n",
      "Group 4, clients ['f_00139', 'f_00010', 'f_00019']\n"
     ]
    },
    {
     "name": "stderr",
     "output_type": "stream",
     "text": [
      "Epoch:  40%|██████████████████████████████▊                                              | 8/20 [00:00<00:00, 74.56it/s]"
     ]
    },
    {
     "name": "stdout",
     "output_type": "stream",
     "text": [
      "Group 0\n",
      "At round 190 accuracy: 0.854679802955665\n",
      "At round 190 training accuracy: 0.8554846198491004\n",
      "At round 190 training loss: 0.49869998224680673\n",
      "Group 1\n",
      "At round 190 accuracy: 0.8734939759036144\n",
      "At round 190 training accuracy: 0.8763364219529579\n",
      "At round 190 training loss: 0.35837725875998766\n",
      "Group 2\n",
      "At round 190 accuracy: 0.9191919191919192\n",
      "At round 190 training accuracy: 0.9256661991584852\n",
      "At round 190 training loss: 0.21775548511705928\n",
      "Group 3\n",
      "At round 190 accuracy: 0.9425981873111783\n",
      "At round 190 training accuracy: 0.9524150268336314\n",
      "At round 190 training loss: 0.16870199492157892\n",
      "Group 4\n",
      "At round 190 accuracy: 0.8944444444444445\n",
      "At round 190 training accuracy: 0.8801679586563308\n",
      "At round 190 training loss: 0.3064192011808009\n",
      "At round 190 mean test accuracy: 0.8970893970893971 mean train accuracy: 0.8984836489860545\n",
      "The groups difference are: [19.66432853 19.80885872 19.59602628 19.52233704 19.8813229 ]\n",
      "Begin group  0 training\n"
     ]
    },
    {
     "name": "stderr",
     "output_type": "stream",
     "text": [
      "Epoch:   0%|                                                                                     | 0/20 [00:00<?, ?it/s]"
     ]
    },
    {
     "name": "stdout",
     "output_type": "stream",
     "text": [
      "Begin group  1 training\n"
     ]
    },
    {
     "name": "stderr",
     "output_type": "stream",
     "text": [
      "                                                                                                                        "
     ]
    },
    {
     "name": "stdout",
     "output_type": "stream",
     "text": [
      "Begin group  2 training\n"
     ]
    },
    {
     "name": "stderr",
     "output_type": "stream",
     "text": [
      "Epoch:  85%|███████████████████████████████████████████████████████████████▊           | 17/20 [00:00<00:00, 168.68it/s]"
     ]
    },
    {
     "name": "stdout",
     "output_type": "stream",
     "text": [
      "Begin group  3 training\n"
     ]
    },
    {
     "name": "stderr",
     "output_type": "stream",
     "text": [
      "Epoch:  30%|███████████████████████                                                      | 6/20 [00:00<00:00, 58.46it/s]"
     ]
    },
    {
     "name": "stdout",
     "output_type": "stream",
     "text": [
      "Begin group  4 training\n"
     ]
    },
    {
     "name": "stderr",
     "output_type": "stream",
     "text": [
      "                                                                                                                        \r"
     ]
    },
    {
     "name": "stdout",
     "output_type": "stream",
     "text": [
      "Group 0, clients ['f_00103', 'f_00093']\n",
      "Group 1, clients ['f_00028', 'f_00169', 'f_00059', 'f_00027']\n",
      "Group 2, clients ['f_00111', 'f_00142', 'f_00121', 'f_00002', 'f_00081']\n",
      "Group 3, clients ['f_00125', 'f_00045', 'f_00076', 'f_00136']\n",
      "Group 4, clients ['f_00090', 'f_00110', 'f_00170', 'f_00189', 'f_00139']\n"
     ]
    },
    {
     "name": "stderr",
     "output_type": "stream",
     "text": [
      "Epoch:   0%|                                                                                     | 0/20 [00:00<?, ?it/s]"
     ]
    },
    {
     "name": "stdout",
     "output_type": "stream",
     "text": [
      "Group 0\n",
      "At round 191 accuracy: 0.9334975369458128\n",
      "At round 191 training accuracy: 0.9509576320371446\n",
      "At round 191 training loss: 0.2245017671276552\n",
      "Group 1\n",
      "At round 191 accuracy: 0.8704819277108434\n",
      "At round 191 training accuracy: 0.8791874554526016\n",
      "At round 191 training loss: 0.3497531712134863\n",
      "Group 2\n",
      "At round 191 accuracy: 0.9171717171717172\n",
      "At round 191 training accuracy: 0.9198223468910706\n",
      "At round 191 training loss: 0.22689238197878595\n",
      "Group 3\n",
      "At round 191 accuracy: 0.945619335347432\n",
      "At round 191 training accuracy: 0.9549194991055456\n",
      "At round 191 training loss: 0.15949520606594245\n",
      "Group 4\n",
      "At round 191 accuracy: 0.9305555555555556\n",
      "At round 191 training accuracy: 0.8998708010335917\n",
      "At round 191 training loss: 0.23555727343698266\n",
      "At round 191 mean test accuracy: 0.91995841995842 mean train accuracy: 0.9216247487972717\n",
      "The groups difference are: [19.67912066 19.82549031 19.61006846 19.53509486 19.90033529]\n",
      "Begin group  0 training\n"
     ]
    },
    {
     "name": "stderr",
     "output_type": "stream",
     "text": [
      "Epoch:   0%|                                                                                     | 0/20 [00:00<?, ?it/s]"
     ]
    },
    {
     "name": "stdout",
     "output_type": "stream",
     "text": [
      "Begin group  1 training\n"
     ]
    },
    {
     "name": "stderr",
     "output_type": "stream",
     "text": [
      "Epoch:   0%|                                                                                     | 0/20 [00:00<?, ?it/s]"
     ]
    },
    {
     "name": "stdout",
     "output_type": "stream",
     "text": [
      "Begin group  2 training\n"
     ]
    },
    {
     "name": "stderr",
     "output_type": "stream",
     "text": [
      "Epoch:   0%|                                                                                     | 0/20 [00:00<?, ?it/s]"
     ]
    },
    {
     "name": "stdout",
     "output_type": "stream",
     "text": [
      "Begin group  3 training\n"
     ]
    },
    {
     "name": "stderr",
     "output_type": "stream",
     "text": [
      "Epoch:  40%|██████████████████████████████▊                                              | 8/20 [00:00<00:00, 72.49it/s]"
     ]
    },
    {
     "name": "stdout",
     "output_type": "stream",
     "text": [
      "Begin group  4 training\n"
     ]
    },
    {
     "name": "stderr",
     "output_type": "stream",
     "text": [
      "                                                                                                                        \r"
     ]
    },
    {
     "name": "stdout",
     "output_type": "stream",
     "text": [
      "Group 0, clients ['f_00064', 'f_00072', 'f_00133', 'f_00013', 'f_00093', 'f_00023']\n",
      "Group 1, clients ['f_00158', 'f_00008', 'f_00197']\n",
      "Group 2, clients ['f_00022', 'f_00171', 'f_00041', 'f_00152']\n",
      "Group 3, clients ['f_00085', 'f_00037', 'f_00196']\n",
      "Group 4, clients ['f_00079', 'f_00060', 'f_00100', 'f_00119']\n"
     ]
    },
    {
     "name": "stderr",
     "output_type": "stream",
     "text": [
      "Epoch:   0%|                                                                                     | 0/20 [00:00<?, ?it/s]"
     ]
    },
    {
     "name": "stdout",
     "output_type": "stream",
     "text": [
      "Group 0\n",
      "At round 192 accuracy: 0.8645320197044335\n",
      "At round 192 training accuracy: 0.881601857225769\n",
      "At round 192 training loss: 0.4260755912364297\n",
      "Group 1\n",
      "At round 192 accuracy: 0.858433734939759\n",
      "At round 192 training accuracy: 0.8510334996436208\n",
      "At round 192 training loss: 0.45046016628072677\n",
      "Group 2\n",
      "At round 192 accuracy: 0.898989898989899\n",
      "At round 192 training accuracy: 0.8997194950911641\n",
      "At round 192 training loss: 0.28522760158447374\n",
      "Group 3\n",
      "At round 192 accuracy: 0.918429003021148\n",
      "At round 192 training accuracy: 0.9177101967799642\n",
      "At round 192 training loss: 0.2790314864600494\n",
      "Group 4\n",
      "At round 192 accuracy: 0.9777777777777777\n",
      "At round 192 training accuracy: 0.9573643410852714\n",
      "At round 192 training loss: 0.14104114957177863\n",
      "At round 192 mean test accuracy: 0.9028066528066528 mean train accuracy: 0.901528530540162\n",
      "The groups difference are: [19.6970927  19.8371189  19.62790437 19.55550629 19.91438211]\n",
      "Begin group  0 training\n"
     ]
    },
    {
     "name": "stderr",
     "output_type": "stream",
     "text": [
      "Epoch:   0%|                                                                                     | 0/20 [00:00<?, ?it/s]"
     ]
    },
    {
     "name": "stdout",
     "output_type": "stream",
     "text": [
      "Begin group  1 training\n"
     ]
    },
    {
     "name": "stderr",
     "output_type": "stream",
     "text": [
      "Epoch:  85%|███████████████████████████████████████████████████████████████▊           | 17/20 [00:00<00:00, 168.73it/s]"
     ]
    },
    {
     "name": "stdout",
     "output_type": "stream",
     "text": [
      "Begin group  2 training\n"
     ]
    },
    {
     "name": "stderr",
     "output_type": "stream",
     "text": [
      "Epoch:   0%|                                                                                     | 0/20 [00:00<?, ?it/s]"
     ]
    },
    {
     "name": "stdout",
     "output_type": "stream",
     "text": [
      "Begin group  3 training\n"
     ]
    },
    {
     "name": "stderr",
     "output_type": "stream",
     "text": [
      "Epoch:  55%|█████████████████████████████████████████▎                                 | 11/20 [00:00<00:00, 100.62it/s]"
     ]
    },
    {
     "name": "stdout",
     "output_type": "stream",
     "text": [
      "Begin group  4 training\n"
     ]
    },
    {
     "name": "stderr",
     "output_type": "stream",
     "text": [
      "                                                                                                                        \r"
     ]
    },
    {
     "name": "stdout",
     "output_type": "stream",
     "text": [
      "Group 0, clients ['f_00133', 'f_00173', 'f_00184', 'f_00004', 'f_00043', 'f_00033', 'f_00073', 'f_00164']\n",
      "Group 1, clients ['f_00018', 'f_00187', 'f_00157']\n",
      "Group 2, clients ['f_00091']\n",
      "Group 3, clients ['f_00006', 'f_00186', 'f_00105']\n",
      "Group 4, clients ['f_00140', 'f_00119', 'f_00069', 'f_00000', 'f_00020']\n"
     ]
    },
    {
     "name": "stderr",
     "output_type": "stream",
     "text": [
      "Epoch:   0%|                                                                                     | 0/20 [00:00<?, ?it/s]"
     ]
    },
    {
     "name": "stdout",
     "output_type": "stream",
     "text": [
      "Group 0\n",
      "At round 193 accuracy: 0.8669950738916257\n",
      "At round 193 training accuracy: 0.8847939640162508\n",
      "At round 193 training loss: 0.3806176710791683\n",
      "Group 1\n",
      "At round 193 accuracy: 0.9036144578313253\n",
      "At round 193 training accuracy: 0.909479686386315\n",
      "At round 193 training loss: 0.28394177531078724\n",
      "Group 2\n",
      "At round 193 accuracy: 0.9131313131313131\n",
      "At round 193 training accuracy: 0.9200561009817672\n",
      "At round 193 training loss: 0.2234963423103554\n",
      "Group 3\n",
      "At round 193 accuracy: 0.9214501510574018\n",
      "At round 193 training accuracy: 0.9184257602862254\n",
      "At round 193 training loss: 0.27077793320091126\n",
      "Group 4\n",
      "At round 193 accuracy: 0.925\n",
      "At round 193 training accuracy: 0.9001937984496124\n",
      "At round 193 training loss: 0.2611602324130885\n",
      "At round 193 mean test accuracy: 0.9054054054054054 mean train accuracy: 0.9068266244443092\n",
      "The groups difference are: [19.71589938 19.85502725 19.65002299 19.57081844 19.93471385]\n",
      "Begin group  0 training\n"
     ]
    },
    {
     "name": "stderr",
     "output_type": "stream",
     "text": [
      "Epoch:   0%|                                                                                     | 0/20 [00:00<?, ?it/s]"
     ]
    },
    {
     "name": "stdout",
     "output_type": "stream",
     "text": [
      "Begin group  1 training\n"
     ]
    },
    {
     "name": "stderr",
     "output_type": "stream",
     "text": [
      "Epoch:  40%|██████████████████████████████▊                                              | 8/20 [00:00<00:00, 74.34it/s]"
     ]
    },
    {
     "name": "stdout",
     "output_type": "stream",
     "text": [
      "Begin group  2 training\n"
     ]
    },
    {
     "name": "stderr",
     "output_type": "stream",
     "text": [
      "Epoch:   0%|                                                                                     | 0/20 [00:00<?, ?it/s]"
     ]
    },
    {
     "name": "stdout",
     "output_type": "stream",
     "text": [
      "Begin group  3 training\n"
     ]
    },
    {
     "name": "stderr",
     "output_type": "stream",
     "text": [
      "Epoch:   0%|                                                                                     | 0/20 [00:00<?, ?it/s]"
     ]
    },
    {
     "name": "stdout",
     "output_type": "stream",
     "text": [
      "Begin group  4 training\n"
     ]
    },
    {
     "name": "stderr",
     "output_type": "stream",
     "text": [
      "                                                                                                                        \r"
     ]
    },
    {
     "name": "stdout",
     "output_type": "stream",
     "text": [
      "Group 0, clients ['f_00073', 'f_00133', 'f_00164', 'f_00143', 'f_00053']\n",
      "Group 1, clients ['f_00017', 'f_00188', 'f_00008']\n",
      "Group 2, clients ['f_00101', 'f_00152', 'f_00002', 'f_00041']\n",
      "Group 3, clients ['f_00006', 'f_00136', 'f_00035', 'f_00045', 'f_00165', 'f_00046']\n",
      "Group 4, clients ['f_00139', 'f_00180']\n"
     ]
    },
    {
     "name": "stderr",
     "output_type": "stream",
     "text": [
      "Epoch:  20%|███████████████▍                                                             | 4/20 [00:00<00:00, 32.52it/s]"
     ]
    },
    {
     "name": "stdout",
     "output_type": "stream",
     "text": [
      "Group 0\n",
      "At round 194 accuracy: 0.9064039408866995\n",
      "At round 194 training accuracy: 0.936448055716773\n",
      "At round 194 training loss: 0.2573729781796091\n",
      "Group 1\n",
      "At round 194 accuracy: 0.8674698795180723\n",
      "At round 194 training accuracy: 0.8930862437633642\n",
      "At round 194 training loss: 0.34912665251241526\n",
      "Group 2\n",
      "At round 194 accuracy: 0.8464646464646465\n",
      "At round 194 training accuracy: 0.8513323983169705\n",
      "At round 194 training loss: 0.4322662290750405\n",
      "Group 3\n",
      "At round 194 accuracy: 0.9577039274924471\n",
      "At round 194 training accuracy: 0.9613595706618963\n",
      "At round 194 training loss: 0.1578946109387977\n",
      "Group 4\n",
      "At round 194 accuracy: 0.9444444444444444\n",
      "At round 194 training accuracy: 0.9437984496124031\n",
      "At round 194 training loss: 0.1594660095100409\n",
      "At round 194 mean test accuracy: 0.9002079002079002 mean train accuracy: 0.9124901041349491\n",
      "The groups difference are: [19.74521718 19.88162674 19.67945323 19.59507464 19.9573364 ]\n",
      "Begin group  0 training\n"
     ]
    },
    {
     "name": "stderr",
     "output_type": "stream",
     "text": [
      "                                                                                                                        "
     ]
    },
    {
     "name": "stdout",
     "output_type": "stream",
     "text": [
      "Begin group  1 training\n"
     ]
    },
    {
     "name": "stderr",
     "output_type": "stream",
     "text": [
      "Epoch:   0%|                                                                                     | 0/20 [00:00<?, ?it/s]"
     ]
    },
    {
     "name": "stdout",
     "output_type": "stream",
     "text": [
      "Begin group  2 training\n"
     ]
    },
    {
     "name": "stderr",
     "output_type": "stream",
     "text": [
      "Epoch:   0%|                                                                                     | 0/20 [00:00<?, ?it/s]"
     ]
    },
    {
     "name": "stdout",
     "output_type": "stream",
     "text": [
      "Begin group  3 training\n"
     ]
    },
    {
     "name": "stderr",
     "output_type": "stream",
     "text": [
      "Epoch:  25%|███████████████████▎                                                         | 5/20 [00:00<00:00, 48.03it/s]"
     ]
    },
    {
     "name": "stdout",
     "output_type": "stream",
     "text": [
      "Begin group  4 training\n"
     ]
    },
    {
     "name": "stderr",
     "output_type": "stream",
     "text": [
      "                                                                                                                        \r"
     ]
    },
    {
     "name": "stdout",
     "output_type": "stream",
     "text": [
      "Group 0, clients ['f_00093', 'f_00173', 'f_00154', 'f_00194', 'f_00133']\n",
      "Group 1, clients ['f_00049', 'f_00098', 'f_00107', 'f_00197', 'f_00068', 'f_00178']\n",
      "Group 2, clients ['f_00161', 'f_00052', 'f_00032', 'f_00062']\n",
      "Group 3, clients ['f_00036', 'f_00165', 'f_00015']\n",
      "Group 4, clients ['f_00019', 'f_00130']\n"
     ]
    },
    {
     "name": "stderr",
     "output_type": "stream",
     "text": [
      "Epoch:  30%|███████████████████████                                                      | 6/20 [00:00<00:00, 51.34it/s]"
     ]
    },
    {
     "name": "stdout",
     "output_type": "stream",
     "text": [
      "Group 0\n",
      "At round 195 accuracy: 0.8793103448275862\n",
      "At round 195 training accuracy: 0.8981427742309924\n",
      "At round 195 training loss: 0.3087658734480811\n",
      "Group 1\n",
      "At round 195 accuracy: 0.8885542168674698\n",
      "At round 195 training accuracy: 0.8970064148253742\n",
      "At round 195 training loss: 0.32586303044240644\n",
      "Group 2\n",
      "At round 195 accuracy: 0.9272727272727272\n",
      "At round 195 training accuracy: 0.9287050023375409\n",
      "At round 195 training loss: 0.20125791806485566\n",
      "Group 3\n",
      "At round 195 accuracy: 0.9577039274924471\n",
      "At round 195 training accuracy: 0.9617173524150269\n",
      "At round 195 training loss: 0.16536711146238664\n",
      "Group 4\n",
      "At round 195 accuracy: 0.8583333333333333\n",
      "At round 195 training accuracy: 0.8423772609819121\n",
      "At round 195 training loss: 0.4185060792932292\n",
      "At round 195 mean test accuracy: 0.9028066528066528 mean train accuracy: 0.9062176481334876\n",
      "The groups difference are: [19.77887569 19.90928102 19.71269401 19.62538076 19.99472059]\n",
      "Begin group  0 training\n"
     ]
    },
    {
     "name": "stderr",
     "output_type": "stream",
     "text": [
      "Epoch:  25%|███████████████████▎                                                         | 5/20 [00:00<00:00, 47.08it/s]"
     ]
    },
    {
     "name": "stdout",
     "output_type": "stream",
     "text": [
      "Begin group  1 training\n"
     ]
    },
    {
     "name": "stderr",
     "output_type": "stream",
     "text": [
      "Epoch:  30%|███████████████████████                                                      | 6/20 [00:00<00:00, 50.79it/s]"
     ]
    },
    {
     "name": "stdout",
     "output_type": "stream",
     "text": [
      "Begin group  2 training\n"
     ]
    },
    {
     "name": "stderr",
     "output_type": "stream",
     "text": [
      "Epoch:   0%|                                                                                     | 0/20 [00:00<?, ?it/s]"
     ]
    },
    {
     "name": "stdout",
     "output_type": "stream",
     "text": [
      "Begin group  3 training\n"
     ]
    },
    {
     "name": "stderr",
     "output_type": "stream",
     "text": [
      "Epoch:   0%|                                                                                     | 0/20 [00:00<?, ?it/s]"
     ]
    },
    {
     "name": "stdout",
     "output_type": "stream",
     "text": [
      "Begin group  4 training\n"
     ]
    },
    {
     "name": "stderr",
     "output_type": "stream",
     "text": [
      "                                                                                                                        \r"
     ]
    },
    {
     "name": "stdout",
     "output_type": "stream",
     "text": [
      "Group 0, clients ['f_00073', 'f_00003', 'f_00103', 'f_00013', 'f_00023']\n",
      "Group 1, clients ['f_00157', 'f_00147', 'f_00177']\n",
      "Group 2, clients ['f_00182', 'f_00112', 'f_00122']\n",
      "Group 3, clients ['f_00036', 'f_00156', 'f_00145', 'f_00025']\n",
      "Group 4, clients ['f_00150', 'f_00020', 'f_00159', 'f_00170', 'f_00179']\n"
     ]
    },
    {
     "name": "stderr",
     "output_type": "stream",
     "text": [
      "Epoch:  20%|███████████████▍                                                             | 4/20 [00:00<00:00, 34.10it/s]"
     ]
    },
    {
     "name": "stdout",
     "output_type": "stream",
     "text": [
      "Group 0\n",
      "At round 196 accuracy: 0.9236453201970444\n",
      "At round 196 training accuracy: 0.9538595473012188\n",
      "At round 196 training loss: 0.2200638114826595\n",
      "Group 1\n",
      "At round 196 accuracy: 0.8614457831325302\n",
      "At round 196 training accuracy: 0.8478260869565217\n",
      "At round 196 training loss: 0.4494239745139863\n",
      "Group 2\n",
      "At round 196 accuracy: 0.8767676767676768\n",
      "At round 196 training accuracy: 0.8870967741935484\n",
      "At round 196 training loss: 0.35096173158917765\n",
      "Group 3\n",
      "At round 196 accuracy: 0.8972809667673716\n",
      "At round 196 training accuracy: 0.9023255813953488\n",
      "At round 196 training loss: 0.24518178584244044\n",
      "Group 4\n",
      "At round 196 accuracy: 0.9555555555555556\n",
      "At round 196 training accuracy: 0.9460594315245479\n",
      "At round 196 training loss: 0.16537716641639497\n",
      "At round 196 mean test accuracy: 0.9022869022869023 mean train accuracy: 0.9081054746970343\n",
      "The groups difference are: [19.79542071 19.92734832 19.72246001 19.63883562 20.00546251]\n",
      "Begin group  0 training\n"
     ]
    },
    {
     "name": "stderr",
     "output_type": "stream",
     "text": [
      "Epoch:   0%|                                                                                     | 0/20 [00:00<?, ?it/s]"
     ]
    },
    {
     "name": "stdout",
     "output_type": "stream",
     "text": [
      "Begin group  1 training\n"
     ]
    },
    {
     "name": "stderr",
     "output_type": "stream",
     "text": [
      "Epoch:   0%|                                                                                     | 0/20 [00:00<?, ?it/s]"
     ]
    },
    {
     "name": "stdout",
     "output_type": "stream",
     "text": [
      "Begin group  2 training\n"
     ]
    },
    {
     "name": "stderr",
     "output_type": "stream",
     "text": [
      "Epoch:   0%|                                                                                     | 0/20 [00:00<?, ?it/s]"
     ]
    },
    {
     "name": "stdout",
     "output_type": "stream",
     "text": [
      "Begin group  3 training\n"
     ]
    },
    {
     "name": "stderr",
     "output_type": "stream",
     "text": [
      "Epoch:  80%|████████████████████████████████████████████████████████████               | 16/20 [00:00<00:00, 153.60it/s]"
     ]
    },
    {
     "name": "stdout",
     "output_type": "stream",
     "text": [
      "Begin group  4 training\n"
     ]
    },
    {
     "name": "stderr",
     "output_type": "stream",
     "text": [
      "                                                                                                                        \r"
     ]
    },
    {
     "name": "stdout",
     "output_type": "stream",
     "text": [
      "Group 0, clients ['f_00104', 'f_00103', 'f_00172', 'f_00034', 'f_00194']\n",
      "Group 1, clients ['f_00047', 'f_00048', 'f_00138', 'f_00188', 'f_00147', 'f_00117', 'f_00028', 'f_00187']\n",
      "Group 2, clients ['f_00011', 'f_00101', 'f_00081', 'f_00052', 'f_00162']\n",
      "Group 3 is empty.\n",
      "Group 4, clients ['f_00029', 'f_00130']\n"
     ]
    },
    {
     "name": "stderr",
     "output_type": "stream",
     "text": [
      "Epoch:   0%|                                                                                     | 0/20 [00:00<?, ?it/s]"
     ]
    },
    {
     "name": "stdout",
     "output_type": "stream",
     "text": [
      "Group 0\n",
      "At round 197 accuracy: 0.8719211822660099\n",
      "At round 197 training accuracy: 0.8929193267556588\n",
      "At round 197 training loss: 0.36279930275131406\n",
      "Group 1\n",
      "At round 197 accuracy: 0.7710843373493976\n",
      "At round 197 training accuracy: 0.8039914468995011\n",
      "At round 197 training loss: 0.6647705410395405\n",
      "Group 2\n",
      "At round 197 accuracy: 0.8727272727272727\n",
      "At round 197 training accuracy: 0.8828892005610098\n",
      "At round 197 training loss: 0.3714224075512763\n",
      "Group 3\n",
      "At round 197 accuracy: 0.9486404833836858\n",
      "At round 197 training accuracy: 0.9570661896243292\n",
      "At round 197 training loss: 0.18254683558864115\n",
      "Group 4\n",
      "At round 197 accuracy: 0.9472222222222222\n",
      "At round 197 training accuracy: 0.9450904392764858\n",
      "At round 197 training loss: 0.1689111134759331\n",
      "At round 197 mean test accuracy: 0.882016632016632 mean train accuracy: 0.895865050849522\n",
      "The groups difference are: [19.81471939 19.95057165 19.74066424 19.65434894 20.02463721]\n",
      "Begin group  0 training\n"
     ]
    },
    {
     "name": "stderr",
     "output_type": "stream",
     "text": [
      "Epoch:   0%|                                                                                     | 0/20 [00:00<?, ?it/s]"
     ]
    },
    {
     "name": "stdout",
     "output_type": "stream",
     "text": [
      "Begin group  1 training\n"
     ]
    },
    {
     "name": "stderr",
     "output_type": "stream",
     "text": [
      "Epoch:   0%|                                                                                     | 0/20 [00:00<?, ?it/s]"
     ]
    },
    {
     "name": "stdout",
     "output_type": "stream",
     "text": [
      "Begin group  2 training\n"
     ]
    },
    {
     "name": "stderr",
     "output_type": "stream",
     "text": [
      "Epoch:   0%|                                                                                     | 0/20 [00:00<?, ?it/s]"
     ]
    },
    {
     "name": "stdout",
     "output_type": "stream",
     "text": [
      "Begin group  4 training\n"
     ]
    },
    {
     "name": "stderr",
     "output_type": "stream",
     "text": [
      "                                                                                                                        \r"
     ]
    },
    {
     "name": "stdout",
     "output_type": "stream",
     "text": [
      "Group 0, clients ['f_00064', 'f_00173', 'f_00164', 'f_00083', 'f_00043']\n",
      "Group 1, clients ['f_00118', 'f_00158', 'f_00187', 'f_00147', 'f_00087']\n",
      "Group 2, clients ['f_00111', 'f_00091', 'f_00082', 'f_00102']\n",
      "Group 3, clients ['f_00125', 'f_00005', 'f_00026']\n",
      "Group 4, clients ['f_00199', 'f_00080', 'f_00050']\n"
     ]
    },
    {
     "name": "stderr",
     "output_type": "stream",
     "text": [
      "Epoch:   0%|                                                                                     | 0/20 [00:00<?, ?it/s]"
     ]
    },
    {
     "name": "stdout",
     "output_type": "stream",
     "text": [
      "Group 0\n",
      "At round 198 accuracy: 0.9408866995073891\n",
      "At round 198 training accuracy: 0.9611143354614046\n",
      "At round 198 training loss: 0.14859445490974346\n",
      "Group 1\n",
      "At round 198 accuracy: 0.8734939759036144\n",
      "At round 198 training accuracy: 0.8781183178902352\n",
      "At round 198 training loss: 0.37800944280290893\n",
      "Group 2\n",
      "At round 198 accuracy: 0.8949494949494949\n",
      "At round 198 training accuracy: 0.9027582982702197\n",
      "At round 198 training loss: 0.2596452503111135\n",
      "Group 3\n",
      "At round 198 accuracy: 0.9486404833836858\n",
      "At round 198 training accuracy: 0.9570661896243292\n",
      "At round 198 training loss: 0.18234497002177674\n",
      "Group 4\n",
      "At round 198 accuracy: 0.9361111111111111\n",
      "At round 198 training accuracy: 0.9318475452196382\n",
      "At round 198 training loss: 0.20645423638826904\n",
      "At round 198 mean test accuracy: 0.9178794178794178 mean train accuracy: 0.9255221971865294\n",
      "The groups difference are: [19.81335296 19.95192954 19.74104533 19.64960019 20.02039261]\n",
      "Begin group  0 training\n"
     ]
    },
    {
     "name": "stderr",
     "output_type": "stream",
     "text": [
      "Epoch:  25%|███████████████████▎                                                         | 5/20 [00:00<00:00, 48.82it/s]"
     ]
    },
    {
     "name": "stdout",
     "output_type": "stream",
     "text": [
      "Begin group  1 training\n"
     ]
    },
    {
     "name": "stderr",
     "output_type": "stream",
     "text": [
      "Epoch:   0%|                                                                                     | 0/20 [00:00<?, ?it/s]"
     ]
    },
    {
     "name": "stdout",
     "output_type": "stream",
     "text": [
      "Begin group  2 training\n"
     ]
    },
    {
     "name": "stderr",
     "output_type": "stream",
     "text": [
      "Epoch:   0%|                                                                                     | 0/20 [00:00<?, ?it/s]"
     ]
    },
    {
     "name": "stdout",
     "output_type": "stream",
     "text": [
      "Begin group  3 training\n"
     ]
    },
    {
     "name": "stderr",
     "output_type": "stream",
     "text": [
      "Epoch:  30%|███████████████████████                                                      | 6/20 [00:00<00:00, 52.08it/s]"
     ]
    },
    {
     "name": "stdout",
     "output_type": "stream",
     "text": [
      "Begin group  4 training\n"
     ]
    },
    {
     "name": "stderr",
     "output_type": "stream",
     "text": [
      "                                                                                                                        \r"
     ]
    },
    {
     "name": "stdout",
     "output_type": "stream",
     "text": [
      "Group 0, clients ['f_00194', 'f_00043', 'f_00034', 'f_00144', 'f_00133', 'f_00094', 'f_00123', 'f_00153', 'f_00013', 'f_00063']\n",
      "Group 1, clients ['f_00157', 'f_00089']\n",
      "Group 2, clients ['f_00052', 'f_00021']\n",
      "Group 3, clients ['f_00045', 'f_00146', 'f_00065', 'f_00116']\n",
      "Group 4, clients ['f_00070', 'f_00149']\n"
     ]
    },
    {
     "name": "stderr",
     "output_type": "stream",
     "text": [
      "Epoch:  25%|███████████████████▎                                                         | 5/20 [00:00<00:00, 47.17it/s]"
     ]
    },
    {
     "name": "stdout",
     "output_type": "stream",
     "text": [
      "Group 0\n",
      "At round 199 accuracy: 0.9064039408866995\n",
      "At round 199 training accuracy: 0.920197330237957\n",
      "At round 199 training loss: 0.2513914521279822\n",
      "Group 1\n",
      "At round 199 accuracy: 0.822289156626506\n",
      "At round 199 training accuracy: 0.8257305773342837\n",
      "At round 199 training loss: 0.44647139446253614\n",
      "Group 2\n",
      "At round 199 accuracy: 0.9050505050505051\n",
      "At round 199 training accuracy: 0.9095371669004207\n",
      "At round 199 training loss: 0.24500950614478945\n",
      "Group 3\n",
      "At round 199 accuracy: 0.8972809667673716\n",
      "At round 199 training accuracy: 0.9023255813953488\n",
      "At round 199 training loss: 0.2628747137036834\n",
      "Group 4\n",
      "At round 199 accuracy: 0.9027777777777778\n",
      "At round 199 training accuracy: 0.8727390180878553\n",
      "At round 199 training loss: 0.3174372833867098\n",
      "At round 199 mean test accuracy: 0.8892931392931392 mean train accuracy: 0.8892881066926497\n",
      "The groups difference are: [19.86282683 20.00400575 19.79285126 19.70011062 20.07078352]\n",
      "Begin group  0 training\n"
     ]
    },
    {
     "name": "stderr",
     "output_type": "stream",
     "text": [
      "Epoch:   0%|                                                                                     | 0/20 [00:00<?, ?it/s]"
     ]
    },
    {
     "name": "stdout",
     "output_type": "stream",
     "text": [
      "Begin group  1 training\n"
     ]
    },
    {
     "name": "stderr",
     "output_type": "stream",
     "text": [
      "Epoch:  25%|███████████████████▎                                                         | 5/20 [00:00<00:00, 46.00it/s]"
     ]
    },
    {
     "name": "stdout",
     "output_type": "stream",
     "text": [
      "Begin group  2 training\n"
     ]
    },
    {
     "name": "stderr",
     "output_type": "stream",
     "text": [
      "Epoch:   0%|                                                                                     | 0/20 [00:00<?, ?it/s]"
     ]
    },
    {
     "name": "stdout",
     "output_type": "stream",
     "text": [
      "Begin group  3 training\n"
     ]
    },
    {
     "name": "stderr",
     "output_type": "stream",
     "text": [
      "Epoch:  25%|███████████████████▎                                                         | 5/20 [00:00<00:00, 43.59it/s]"
     ]
    },
    {
     "name": "stdout",
     "output_type": "stream",
     "text": [
      "Begin group  4 training\n"
     ]
    },
    {
     "name": "stderr",
     "output_type": "stream",
     "text": [
      "                                                                                                                        \r"
     ]
    }
   ],
   "source": [
    "server.train()"
   ]
  },
  {
   "cell_type": "code",
   "execution_count": 5,
   "metadata": {},
   "outputs": [
    {
     "name": "stdout",
     "output_type": "stream",
     "text": [
      "Counter({0.0: 126, 1.0: 111, 2.0: 80, 9.0: 43})\n",
      "360\n"
     ]
    }
   ],
   "source": [
    "from collections import Counter\n",
    "\n",
    "group_list = server.group_list\n",
    "clients = server.clients\n",
    "g = group_list[-1]\n",
    "c_list = []\n",
    "for c in clients:\n",
    "  if c.group == g:\n",
    "    c_list.append(c)\n",
    "\n",
    "cnt = Counter()\n",
    "for c in c_list:\n",
    "  cnt += Counter(c.eval_data['y'])\n",
    "print(cnt)\n",
    "print(sum(cnt.values()))"
   ]
  },
  {
   "cell_type": "code",
   "execution_count": 6,
   "metadata": {},
   "outputs": [
    {
     "name": "stdout",
     "output_type": "stream",
     "text": [
      "[[0.5 1. ]\n",
      " [1.5 2. ]\n",
      " [2.5 3. ]\n",
      " [3.5 4. ]\n",
      " [4.5 5. ]]\n",
      "(5, 1)\n"
     ]
    }
   ],
   "source": [
    "nd1 = np.arange(10).reshape(5,2)\n",
    "nd2 = np.arange(10).reshape(5,2)\n",
    "nd3 = np.array([3.]*10).reshape(5,2)\n",
    "print((nd2+1.)/2.)\n",
    "#print(nd2)\n",
    "\n",
    "print(np.linalg.norm(nd2, axis=1, keepdims=True).shape)"
   ]
  }
 ],
 "metadata": {
  "kernelspec": {
   "display_name": "Python 3",
   "language": "python",
   "name": "python3"
  },
  "language_info": {
   "codemirror_mode": {
    "name": "ipython",
    "version": 3
   },
   "file_extension": ".py",
   "mimetype": "text/x-python",
   "name": "python",
   "nbconvert_exporter": "python",
   "pygments_lexer": "ipython3",
   "version": "3.7.7"
  }
 },
 "nbformat": 4,
 "nbformat_minor": 4
}
