{
 "cells": [
  {
   "cell_type": "code",
   "execution_count": 1,
   "metadata": {
    "scrolled": true
   },
   "outputs": [
    {
     "name": "stdout",
     "output_type": "stream",
     "text": [
      "WARNING:tensorflow:From /home/lab/anaconda3/envs/FL/lib/python3.8/site-packages/tensorflow/python/compat/v2_compat.py:96: disable_resource_variables (from tensorflow.python.ops.variable_scope) is deprecated and will be removed in a future version.\n",
      "Instructions for updating:\n",
      "non-resource variables are not supported in the long term\n",
      "Num GPUs Available:  1\n"
     ]
    }
   ],
   "source": [
    "import os\n",
    "os.environ[\"CUDA_VISIBLE_DEVICES\"]=\"0\"\n",
    "\n",
    "import importlib\n",
    "import tensorflow.compat.v1 as tf\n",
    "tf.disable_v2_behavior()\n",
    "from flearn.utils.model_utils import read_data\n",
    "import os\n",
    "import importlib\n",
    "import random\n",
    "import numpy as np\n",
    "\n",
    "from flearn.models import client\n",
    "from flearn.models import group\n",
    "from flearn.trainers import grouprox\n",
    "from flearn.trainers import fedprox\n",
    "from flearn.trainers import fedavg\n",
    "\n",
    "print(\"Num GPUs Available: \", len(tf.config.experimental.list_physical_devices('GPU')))"
   ]
  },
  {
   "cell_type": "code",
   "execution_count": 2,
   "metadata": {},
   "outputs": [
    {
     "name": "stdout",
     "output_type": "stream",
     "text": [
      "grouprox-nist-mlp-DCD-NumG5-Agglr0.05-ProximalF-EmptyT.csv\n"
     ]
    }
   ],
   "source": [
    "params = {}\n",
    "#DATASETS = ['sent140', 'nist', 'shakespeare', 'mnist', 'synthetic_iid', 'synthetic_0_0', 'synthetic_0.5_0.5', 'synthetic_1_1']\n",
    "\n",
    "\"\"\"\n",
    "Parameters that need to be manually set\n",
    "\"\"\"\n",
    "\n",
    "#params['dataset'] = 'sent140'\n",
    "params['dataset'] = 'nist'\n",
    "params['model'] = 'mlp'\n",
    "#params['model'] = 'stacked_lstm'\n",
    "params['optimizer'] = 'grouprox'\n",
    "params['drop_percent'] = 0\n",
    "\n",
    "if params['dataset'].startswith('mnist'):\n",
    "  params['model_params'] = (10,)\n",
    "  params['learning_rate'] = 0.03\n",
    "  params['mu'] = 1\n",
    "  params['num_group'] = 3\n",
    "if params['dataset'] == 'nist':\n",
    "  params['model_params'] = (26,)\n",
    "  params['learning_rate'] = 0.003\n",
    "  params['mu'] = 1\n",
    "  params['num_group'] = 5\n",
    "if params['dataset'] == 'sent140':\n",
    "  params['model_params'] = (25, 2, 100) # seq_len, num_classes, num_hidden\n",
    "  params['learning_rate'] = 0.3\n",
    "  params['mu'] = 0.01\n",
    "  params['num_group'] = 5\n",
    "if params['dataset'].startswith('synthetic'):\n",
    "  params['model_params'] = (10,)\n",
    "  params['learning_rate'] = 0.01\n",
    "  params['mu'] = 1\n",
    "  params['num_group'] = 5\n",
    "\n",
    "if params['optimizer']  == 'fedavg':\n",
    "  pass\n",
    "if params['optimizer']  == 'fedprox':\n",
    "  pass\n",
    "if params['optimizer']  == 'grouprox':\n",
    "  params['FCD'] = False                       # If false, DCD will be used\n",
    "  params['proximal'] = False\n",
    "  params['RAC'] = False\n",
    "  params['RCC'] = False\n",
    "  params['allow_empty'] = True\n",
    "  params['agg_lr'] = 0.05 ########## Group Aggregataion Rate\n",
    "  \n",
    "  # TEST Hyperparameters, Experimental Only\n",
    "  params['evenly'] = False\n",
    "  params['min_clients'] = 2\n",
    "    \n",
    "  # We implement IFCA and FeSEM base on grouprox\n",
    "  params['ifca'] = False\n",
    "  params['fesem'] = False\n",
    "  \n",
    "  \"\"\"\n",
    "  We immplement IFCA and FeSEM base on grouprox,\n",
    "  Some configurations should be flush for above two CFL frameworks\n",
    "  \"\"\"\n",
    "  if params['ifca'] == True or params['fesem'] == True:\n",
    "    params['proximal'] = False\n",
    "    params['RAC'] = False\n",
    "    params['RCC'] = False\n",
    "    params['allow_empty'] = True\n",
    "    params['agg_lr'] = 0.0 # IFCA and FeSEM don't use this parameter\n",
    "    \n",
    "\"\"\"\n",
    "Common parameters\n",
    "\"\"\"\n",
    "params['num_rounds'] = 300\n",
    "params['num_epochs'] = 20\n",
    "params['batch_size'] = 10\n",
    "params['eval_every'] = 1\n",
    "params['clients_per_round'] = 20 ################ Important ######################\n",
    "params['seed'] = 233\n",
    "\n",
    "\"\"\" Set the output CSV file name \"\"\"\n",
    "info = '{}-{}-{}'.format(params['optimizer'], params['dataset'], params['model'])\n",
    "info2 = ''\n",
    "suffix = '.csv'\n",
    "if params['optimizer'] == 'fedavg':\n",
    "  pass\n",
    "if params['optimizer'] == 'fedprox':\n",
    "  pass\n",
    "if params['optimizer'] == 'grouprox':\n",
    "  if params['ifca'] == False and params['fesem'] == False:\n",
    "    if params['FCD'] == True:\n",
    "      info2 = info2 + '-FCD'\n",
    "    else:\n",
    "      info2 = info2 + '-DCD'\n",
    "  if params['ifca'] == True:\n",
    "    info2 = info2 + '-IFCA'\n",
    "  if params['fesem'] == True:\n",
    "    info2 = info2 + '-FeSEM'\n",
    "  \n",
    "  info2 = info2 +  '-NumG{:1d}-Agglr{:.4}-Proximal{:.1}'.format(\n",
    "    params['num_group'], params['agg_lr'], str(params['proximal']))\n",
    "  \n",
    "  if params['RCC'] == True:\n",
    "    info2 = info2 + '-RCC.{:.1}'.format(str(params['RCC']))\n",
    "  \n",
    "  if params['RAC'] == True:\n",
    "    info2 = info2 + '-RAC.{:.1}-Evenly{:.1}'.format(str(params['RAC']), str(params['evenly']))\n",
    "  elif params['allow_empty'] == True:\n",
    "    info2 = info2 + '-Empty{:.1}'.format(str(params['allow_empty']))\n",
    "  elif params['allow_empty'] == False:\n",
    "    info2 = info2 + '-Evenly{:.1}'.format(str(params['evenly']))\n",
    "\n",
    "params['export_filename'] = info + info2 + suffix\n",
    "\n",
    "print(params['export_filename'])"
   ]
  },
  {
   "cell_type": "code",
   "execution_count": 3,
   "metadata": {
    "scrolled": true
   },
   "outputs": [
    {
     "name": "stdout",
     "output_type": "stream",
     "text": [
      "Using Group prox to Train\n"
     ]
    },
    {
     "name": "stderr",
     "output_type": "stream",
     "text": [
      "/home/lab/anaconda3/envs/FL/lib/python3.8/site-packages/tensorflow/python/keras/legacy_tf_layers/core.py:171: UserWarning: `tf.layers.dense` is deprecated and will be removed in a future version. Please use `tf.keras.layers.Dense` instead.\n",
      "  warnings.warn('`tf.layers.dense` is deprecated and '\n",
      "/home/lab/anaconda3/envs/FL/lib/python3.8/site-packages/tensorflow/python/keras/engine/base_layer_v1.py:1719: UserWarning: `layer.apply` is deprecated and will be removed in a future version. Please use `layer.__call__` method instead.\n",
      "  warnings.warn('`layer.apply` is deprecated and '\n"
     ]
    },
    {
     "name": "stdout",
     "output_type": "stream",
     "text": [
      "WARNING:tensorflow:From /home/lab/anaconda3/envs/FL/lib/python3.8/site-packages/tensorflow/python/profiler/internal/flops_registry.py:142: tensor_shape_from_node_def_name (from tensorflow.python.framework.graph_util_impl) is deprecated and will be removed in a future version.\n",
      "Instructions for updating:\n",
      "Use `tf.compat.v1.graph_util.tensor_shape_from_node_def_name`\n"
     ]
    },
    {
     "name": "stderr",
     "output_type": "stream",
     "text": [
      "\r",
      "Epoch:   0%|                                                                                      | 0/1 [00:00<?, ?it/s]"
     ]
    },
    {
     "name": "stdout",
     "output_type": "stream",
     "text": [
      "200 Clients in Total\n",
      "415258 Parameters in Total\n"
     ]
    },
    {
     "name": "stderr",
     "output_type": "stream",
     "text": [
      "                                                                                                                        "
     ]
    },
    {
     "name": "stdout",
     "output_type": "stream",
     "text": [
      "WARNING:tensorflow:From /home/lab/workspace/GrouProx/flearn/models/nist/mlp.py:60: Variable.load (from tensorflow.python.ops.variables) is deprecated and will be removed in a future version.\n",
      "Instructions for updating:\n",
      "Prefer Variable.assign which has equivalent behavior in 2.X.\n"
     ]
    },
    {
     "name": "stderr",
     "output_type": "stream",
     "text": [
      "                                                                                                                        \r"
     ]
    },
    {
     "name": "stdout",
     "output_type": "stream",
     "text": [
      "Pre-training takes 2.964743137359619s seconds\n",
      "SVD takes 0.7239553928375244s seconds\n",
      "DCD Matrix calculation takes 0.15098834037780762s seconds\n",
      "FCD Matrix calculation takes 0.1433272361755371s seconds\n",
      "DCD [0.         0.01455415 0.29476362 0.14749908 0.24707718] \n",
      "FCD [0.         0.01236841 0.25191855 0.12350282 0.19845186] \n",
      "affinity [1.         0.9894647  0.01298085 0.3369573  0.04724744]\n",
      "Clustering takes 0.033614397048950195s seconds\n",
      "Clustering Results: Counter({0: 23, 2: 23, 1: 21, 4: 17, 3: 16})\n"
     ]
    }
   ],
   "source": [
    "\"\"\"\n",
    "Some preparations\n",
    "\"\"\"\n",
    "\n",
    "# read data\n",
    "train_path = os.path.join('data', params['dataset'], 'data', 'train')\n",
    "test_path = os.path.join('data', params['dataset'], 'data', 'test')\n",
    "dataset = read_data(train_path, test_path)\n",
    "\n",
    "# Load model\n",
    "if params['dataset'].startswith('synthetic'):  # all synthetic datasets use the same model\n",
    "  model_path = '%s.%s.%s.%s' % ('flearn', 'models', 'synthetic', params['model'])\n",
    "elif params['dataset'].startswith('mnist'):\n",
    "  model_path = '%s.%s.%s.%s' % ('flearn', 'models', 'mnist', params['model'])\n",
    "else:\n",
    "  model_path = '%s.%s.%s.%s' % ('flearn', 'models', params['dataset'], params['model'])\n",
    "mod = importlib.import_module(model_path)\n",
    "learner = getattr(mod, 'Model')\n",
    "\n",
    "# Set seeds\n",
    "params['sklearn_seed'] = params['seed']\n",
    "random.seed(1 + params['seed'])\n",
    "np.random.seed(12 + params['seed'])\n",
    "tf.set_random_seed(123 + params['seed'])\n",
    "\n",
    "# Set server\n",
    "if params['optimizer'] == 'fedavg':\n",
    "  server = fedavg.Server(params, learner, dataset)  \n",
    "if params['optimizer'] == 'fedprox':\n",
    "  server = fedprox.Server(params, learner, dataset)\n",
    "if params['optimizer'] == 'grouprox':\n",
    "  server = grouprox.Server(params, learner, dataset)"
   ]
  },
  {
   "cell_type": "code",
   "execution_count": 4,
   "metadata": {},
   "outputs": [
    {
     "name": "stderr",
     "output_type": "stream",
     "text": [
      "                                                                                                                        \r"
     ]
    },
    {
     "name": "stdout",
     "output_type": "stream",
     "text": [
      "Cossim_matrix shape: (200, 5)\n"
     ]
    }
   ],
   "source": [
    "\"\"\"\n",
    "Test Ternary Similarity\n",
    "\"\"\"\n",
    "x, y = server.test_ternary_cosine_similariy()"
   ]
  },
  {
   "cell_type": "code",
   "execution_count": 5,
   "metadata": {},
   "outputs": [
    {
     "data": {
      "image/png": "[encoded data removed]",
      "text/plain": [
       "<Figure size 504x504 with 1 Axes>"
      ]
     },
     "metadata": {
      "needs_background": "light"
     },
     "output_type": "display_data"
    }
   ],
   "source": [
    "import matplotlib.pyplot as plt\n",
    "plt.figure(figsize=(7,7))\n",
    "plt.scatter(x[:50000], y[:50000], linewidths=0.01, alpha=0.2, norm=True)\n",
    "plt.show()"
   ]
  },
  {
   "cell_type": "code",
   "execution_count": null,
   "metadata": {
    "scrolled": true
   },
   "outputs": [
    {
     "name": "stderr",
     "output_type": "stream",
     "text": [
      "                                                                                                                        "
     ]
    },
    {
     "name": "stdout",
     "output_type": "stream",
     "text": [
      "Training with 20 workers ---\n"
     ]
    },
    {
     "name": "stderr",
     "output_type": "stream",
     "text": [
      "                                                                                                                        \r"
     ]
    },
    {
     "name": "stdout",
     "output_type": "stream",
     "text": [
      "Cold start clients takes 6.218492746353149s seconds\n",
      "Group 0, clients ['f_00018', 'f_00107', 'f_00098', 'f_00177', 'f_00007', 'f_00037']\n",
      "Group 1, clients ['f_00182', 'f_00012', 'f_00152', 'f_00061']\n",
      "Group 2, clients ['f_00154', 'f_00033', 'f_00074']\n",
      "Group 3, clients ['f_00005', 'f_00146', 'f_00125']\n",
      "Group 4, clients ['f_00170', 'f_00180', 'f_00080', 'f_00130']\n"
     ]
    },
    {
     "name": "stderr",
     "output_type": "stream",
     "text": [
      "Epoch:   0%|                                                                                     | 0/20 [00:00<?, ?it/s]"
     ]
    },
    {
     "name": "stdout",
     "output_type": "stream",
     "text": [
      "Group 0\n",
      "At round 0 accuracy: 0.3421828908554572\n",
      "At round 0 training accuracy: 0.37265135699373697\n",
      "At round 0 training loss: 1.7838535055404083\n",
      "Group 1\n",
      "At round 0 accuracy: 0.3872832369942196\n",
      "At round 0 training accuracy: 0.3918558077436582\n",
      "At round 0 training loss: 1.8574563416842624\n",
      "Group 2\n",
      "At round 0 accuracy: 0.38481675392670156\n",
      "At round 0 training accuracy: 0.3393188854489164\n",
      "At round 0 training loss: 1.7741827324447985\n",
      "Group 3\n",
      "At round 0 accuracy: 0.40752351097178685\n",
      "At round 0 training accuracy: 0.3938152011922504\n",
      "At round 0 training loss: 1.6324668085166487\n",
      "Group 4\n",
      "At round 0 accuracy: 0.35342465753424657\n",
      "At round 0 training accuracy: 0.36667728575979613\n",
      "At round 0 training loss: 1.6940146848706539\n",
      "At round 0 mean test accuracy: 0.37577962577962576 mean train accuracy: 0.3736678643200779 mean train loss: 1.7601770300296313                     number of test client: 200\n",
      "The client-group discrepancy are: [0.18024164 0.15592919 0.19730017 0.19584637 0.16321189 0.20072056]\n",
      "Begin group  0 training\n"
     ]
    },
    {
     "name": "stderr",
     "output_type": "stream",
     "text": [
      "Epoch:   0%|                                                                                     | 0/20 [00:00<?, ?it/s]"
     ]
    },
    {
     "name": "stdout",
     "output_type": "stream",
     "text": [
      "Begin group  1 training\n"
     ]
    },
    {
     "name": "stderr",
     "output_type": "stream",
     "text": [
      "Epoch:  30%|███████████████████████                                                      | 6/20 [00:00<00:00, 54.04it/s]"
     ]
    },
    {
     "name": "stdout",
     "output_type": "stream",
     "text": [
      "Begin group  2 training\n"
     ]
    },
    {
     "name": "stderr",
     "output_type": "stream",
     "text": [
      "Epoch:  15%|███████████▌                                                                 | 3/20 [00:00<00:00, 27.31it/s]"
     ]
    },
    {
     "name": "stdout",
     "output_type": "stream",
     "text": [
      "Begin group  3 training\n"
     ]
    },
    {
     "name": "stderr",
     "output_type": "stream",
     "text": [
      "Epoch:   0%|                                                                                     | 0/20 [00:00<?, ?it/s]"
     ]
    },
    {
     "name": "stdout",
     "output_type": "stream",
     "text": [
      "Begin group  4 training\n"
     ]
    },
    {
     "name": "stderr",
     "output_type": "stream",
     "text": [
      "                                                                                                                        \r"
     ]
    },
    {
     "name": "stdout",
     "output_type": "stream",
     "text": [
      "Training groups takes 6.214878797531128s seconds\n",
      "Group 0, clients ['f_00058', 'f_00198', 'f_00168', 'f_00018', 'f_00118', 'f_00059']\n",
      "Group 1, clients ['f_00102', 'f_00171', 'f_00011']\n",
      "Group 2, clients ['f_00034', 'f_00184', 'f_00004']\n",
      "Group 3, clients ['f_00095', 'f_00035', 'f_00136']\n",
      "Group 4, clients ['f_00040', 'f_00029', 'f_00089', 'f_00110', 'f_00159']\n"
     ]
    },
    {
     "name": "stderr",
     "output_type": "stream",
     "text": [
      "Epoch:   0%|                                                                                     | 0/20 [00:00<?, ?it/s]"
     ]
    },
    {
     "name": "stdout",
     "output_type": "stream",
     "text": [
      "Group 0\n",
      "At round 1 accuracy: 0.471976401179941\n",
      "At round 1 training accuracy: 0.46868475991649267\n",
      "At round 1 training loss: 1.7124872966698665\n",
      "Group 1\n",
      "At round 1 accuracy: 0.6107899807321773\n",
      "At round 1 training accuracy: 0.6125945705384958\n",
      "At round 1 training loss: 1.2316068748951383\n",
      "Group 2\n",
      "At round 1 accuracy: 0.44502617801047123\n",
      "At round 1 training accuracy: 0.4678018575851393\n",
      "At round 1 training loss: 2.0574824804676575\n",
      "Group 3\n",
      "At round 1 accuracy: 0.6739811912225705\n",
      "At round 1 training accuracy: 0.6795827123695977\n",
      "At round 1 training loss: 1.6988316849873424\n",
      "Group 4\n",
      "At round 1 accuracy: 0.5452054794520548\n",
      "At round 1 training accuracy: 0.5546352341510035\n",
      "At round 1 training loss: 1.6524781717278845\n",
      "At round 1 mean test accuracy: 0.5514553014553014 mean train accuracy: 0.5587966628098167 mean train loss: 1.6350399745373814                     number of test client: 200\n",
      "The client-group discrepancy are: [0.63838281 0.54539793 0.68357141 0.57671938 0.74361385 0.69671094]\n",
      "Begin group  0 training\n"
     ]
    },
    {
     "name": "stderr",
     "output_type": "stream",
     "text": [
      "Epoch:  20%|███████████████▍                                                             | 4/20 [00:00<00:00, 31.15it/s]"
     ]
    },
    {
     "name": "stdout",
     "output_type": "stream",
     "text": [
      "Begin group  1 training\n"
     ]
    },
    {
     "name": "stderr",
     "output_type": "stream",
     "text": [
      "Epoch:  40%|██████████████████████████████▊                                              | 8/20 [00:00<00:00, 79.27it/s]"
     ]
    },
    {
     "name": "stdout",
     "output_type": "stream",
     "text": [
      "Begin group  2 training\n"
     ]
    },
    {
     "name": "stderr",
     "output_type": "stream",
     "text": [
      "Epoch:   0%|                                                                                     | 0/20 [00:00<?, ?it/s]"
     ]
    },
    {
     "name": "stdout",
     "output_type": "stream",
     "text": [
      "Begin group  3 training\n"
     ]
    },
    {
     "name": "stderr",
     "output_type": "stream",
     "text": [
      "Epoch:   0%|                                                                                     | 0/20 [00:00<?, ?it/s]"
     ]
    },
    {
     "name": "stdout",
     "output_type": "stream",
     "text": [
      "Begin group  4 training\n"
     ]
    },
    {
     "name": "stderr",
     "output_type": "stream",
     "text": [
      "                                                                                                                        \r"
     ]
    },
    {
     "name": "stdout",
     "output_type": "stream",
     "text": [
      "Training groups takes 4.919415235519409s seconds\n",
      "Group 0 is empty.\n",
      "Group 1, clients ['f_00112', 'f_00182', 'f_00012', 'f_00092', 'f_00002']\n",
      "Group 2, clients ['f_00193', 'f_00054', 'f_00013', 'f_00174', 'f_00044', 'f_00003', 'f_00113', 'f_00014']\n",
      "Group 3, clients ['f_00085', 'f_00115', 'f_00035', 'f_00126']\n",
      "Group 4, clients ['f_00029', 'f_00199', 'f_00010']\n"
     ]
    },
    {
     "name": "stderr",
     "output_type": "stream",
     "text": [
      "Epoch:  75%|████████████████████████████████████████████████████████▎                  | 15/20 [00:00<00:00, 141.36it/s]"
     ]
    },
    {
     "name": "stdout",
     "output_type": "stream",
     "text": [
      "Group 0\n",
      "At round 2 accuracy: 0.39233038348082594\n",
      "At round 2 training accuracy: 0.41092553931802367\n",
      "At round 2 training loss: 1.972347861457883\n",
      "Group 1\n",
      "At round 2 accuracy: 0.605009633911368\n",
      "At round 2 training accuracy: 0.6092567868268803\n",
      "At round 2 training loss: 1.2561897528160928\n",
      "Group 2\n",
      "At round 2 accuracy: 0.693717277486911\n",
      "At round 2 training accuracy: 0.6826625386996904\n",
      "At round 2 training loss: 1.9232917456250442\n",
      "Group 3\n",
      "At round 2 accuracy: 0.5736677115987461\n",
      "At round 2 training accuracy: 0.5830849478390462\n",
      "At round 2 training loss: 1.2518955071174973\n",
      "Group 4\n",
      "At round 2 accuracy: 0.5917808219178082\n",
      "At round 2 training accuracy: 0.5766167569289583\n",
      "At round 2 training loss: 1.3568414544254095\n",
      "At round 2 mean test accuracy: 0.5774428274428275 mean train accuracy: 0.5784665976493515 mean train loss: 1.531288576085445                     number of test client: 200\n",
      "The client-group discrepancy are: [0.78180054 0.         0.92788399 0.76292476 0.80231759 0.56130744]\n",
      "Begin group  1 training\n"
     ]
    },
    {
     "name": "stderr",
     "output_type": "stream",
     "text": [
      "Epoch:   0%|                                                                                     | 0/20 [00:00<?, ?it/s]"
     ]
    },
    {
     "name": "stdout",
     "output_type": "stream",
     "text": [
      "Begin group  2 training\n"
     ]
    },
    {
     "name": "stderr",
     "output_type": "stream",
     "text": [
      "Epoch:  50%|██████████████████████████████████████                                      | 10/20 [00:00<00:00, 89.37it/s]"
     ]
    },
    {
     "name": "stdout",
     "output_type": "stream",
     "text": [
      "Begin group  3 training\n"
     ]
    },
    {
     "name": "stderr",
     "output_type": "stream",
     "text": [
      "Epoch:  55%|█████████████████████████████████████████▎                                 | 11/20 [00:00<00:00, 105.29it/s]"
     ]
    },
    {
     "name": "stdout",
     "output_type": "stream",
     "text": [
      "Begin group  4 training\n"
     ]
    },
    {
     "name": "stderr",
     "output_type": "stream",
     "text": [
      "                                                                                                                        \r"
     ]
    },
    {
     "name": "stdout",
     "output_type": "stream",
     "text": [
      "Training groups takes 4.328243732452393s seconds\n",
      "Group 0, clients ['f_00197', 'f_00058']\n",
      "Group 1, clients ['f_00051', 'f_00082', 'f_00041']\n",
      "Group 2, clients ['f_00183', 'f_00083', 'f_00173', 'f_00003']\n",
      "Group 3, clients ['f_00046', 'f_00025', 'f_00095']\n",
      "Group 4, clients ['f_00040', 'f_00139', 'f_00170', 'f_00070', 'f_00100', 'f_00179', 'f_00190', 'f_00159']\n"
     ]
    },
    {
     "name": "stderr",
     "output_type": "stream",
     "text": [
      "Epoch:  45%|██████████████████████████████████▋                                          | 9/20 [00:00<00:00, 85.75it/s]"
     ]
    },
    {
     "name": "stdout",
     "output_type": "stream",
     "text": [
      "Group 0\n",
      "At round 3 accuracy: 0.39233038348082594\n",
      "At round 3 training accuracy: 0.41092553931802367\n",
      "At round 3 training loss: 1.960194380128226\n",
      "Group 1\n",
      "At round 3 accuracy: 0.8053949903660886\n",
      "At round 3 training accuracy: 0.8157543391188251\n",
      "At round 3 training loss: 0.9490554331738418\n",
      "Group 2\n",
      "At round 3 accuracy: 0.612565445026178\n",
      "At round 3 training accuracy: 0.5934984520123839\n",
      "At round 3 training loss: 1.4352033415630505\n",
      "Group 3\n",
      "At round 3 accuracy: 0.7366771159874608\n",
      "At round 3 training accuracy: 0.746274217585693\n",
      "At round 3 training loss: 1.165488125203974\n",
      "Group 4\n",
      "At round 3 accuracy: 0.6219178082191781\n",
      "At round 3 training accuracy: 0.6237655304237019\n",
      "At round 3 training loss: 1.2114771301672693\n",
      "At round 3 mean test accuracy: 0.6481288981288982 mean train accuracy: 0.6531270933560684 mean train loss: 1.3071894158737558                     number of test client: 200\n",
      "The client-group discrepancy are: [0.86191658 0.61560044 1.16842842 0.71670996 0.88062737 0.87414045]\n",
      "Begin group  0 training\n"
     ]
    },
    {
     "name": "stderr",
     "output_type": "stream",
     "text": [
      "Epoch:   0%|                                                                                     | 0/20 [00:00<?, ?it/s]"
     ]
    },
    {
     "name": "stdout",
     "output_type": "stream",
     "text": [
      "Begin group  1 training\n"
     ]
    },
    {
     "name": "stderr",
     "output_type": "stream",
     "text": [
      "Epoch:   0%|                                                                                     | 0/20 [00:00<?, ?it/s]"
     ]
    },
    {
     "name": "stdout",
     "output_type": "stream",
     "text": [
      "Begin group  2 training\n"
     ]
    },
    {
     "name": "stderr",
     "output_type": "stream",
     "text": [
      "Epoch:   0%|                                                                                     | 0/20 [00:00<?, ?it/s]"
     ]
    },
    {
     "name": "stdout",
     "output_type": "stream",
     "text": [
      "Begin group  3 training\n"
     ]
    },
    {
     "name": "stderr",
     "output_type": "stream",
     "text": [
      "Epoch:   0%|                                                                                     | 0/20 [00:00<?, ?it/s]"
     ]
    },
    {
     "name": "stdout",
     "output_type": "stream",
     "text": [
      "Begin group  4 training\n"
     ]
    },
    {
     "name": "stderr",
     "output_type": "stream",
     "text": [
      "                                                                                                                        \r"
     ]
    },
    {
     "name": "stdout",
     "output_type": "stream",
     "text": [
      "Training groups takes 4.254792928695679s seconds\n",
      "Group 0, clients ['f_00128', 'f_00177', 'f_00088', 'f_00187', 'f_00188', 'f_00138']\n",
      "Group 1, clients ['f_00011', 'f_00001', 'f_00111', 'f_00061', 'f_00191', 'f_00171']\n",
      "Group 2, clients ['f_00123', 'f_00184', 'f_00033', 'f_00084']\n",
      "Group 3, clients ['f_00175']\n",
      "Group 4, clients ['f_00099', 'f_00090', 'f_00199']\n"
     ]
    },
    {
     "name": "stderr",
     "output_type": "stream",
     "text": [
      "Epoch:   0%|                                                                                     | 0/20 [00:00<?, ?it/s]"
     ]
    },
    {
     "name": "stdout",
     "output_type": "stream",
     "text": [
      "Group 0\n",
      "At round 4 accuracy: 0.49852507374631266\n",
      "At round 4 training accuracy: 0.5\n",
      "At round 4 training loss: 1.3019903897409566\n",
      "Group 1\n",
      "At round 4 accuracy: 0.6223506743737958\n",
      "At round 4 training accuracy: 0.6226079216733422\n",
      "At round 4 training loss: 1.0017892147733947\n",
      "Group 2\n",
      "At round 4 accuracy: 0.5445026178010471\n",
      "At round 4 training accuracy: 0.5154798761609907\n",
      "At round 4 training loss: 1.4236785443021047\n",
      "Group 3\n",
      "At round 4 accuracy: 0.6081504702194357\n",
      "At round 4 training accuracy: 0.606929955290611\n",
      "At round 4 training loss: 1.261972361034679\n",
      "Group 4\n",
      "At round 4 accuracy: 0.7589041095890411\n",
      "At round 4 training accuracy: 0.758521822236381\n",
      "At round 4 training loss: 0.9627818111383676\n",
      "At round 4 mean test accuracy: 0.6086278586278586 mean train accuracy: 0.6034955240241154 mean train loss: 1.1723858919422299                     number of test client: 200\n",
      "The client-group discrepancy are: [0.96282211 0.95757597 1.01796479 0.79682738 1.2180693  0.99927296]\n",
      "Begin group  0 training\n"
     ]
    },
    {
     "name": "stderr",
     "output_type": "stream",
     "text": [
      "Epoch:  55%|█████████████████████████████████████████▎                                 | 11/20 [00:00<00:00, 104.08it/s]"
     ]
    },
    {
     "name": "stdout",
     "output_type": "stream",
     "text": [
      "Begin group  1 training\n"
     ]
    },
    {
     "name": "stderr",
     "output_type": "stream",
     "text": [
      "Epoch:  15%|███████████▌                                                                 | 3/20 [00:00<00:00, 28.15it/s]"
     ]
    },
    {
     "name": "stdout",
     "output_type": "stream",
     "text": [
      "Begin group  2 training\n"
     ]
    },
    {
     "name": "stderr",
     "output_type": "stream",
     "text": [
      "Epoch:   0%|                                                                                     | 0/20 [00:00<?, ?it/s]"
     ]
    },
    {
     "name": "stdout",
     "output_type": "stream",
     "text": [
      "Begin group  3 training\n",
      "Begin group  4 training\n"
     ]
    },
    {
     "name": "stderr",
     "output_type": "stream",
     "text": [
      "                                                                                                                        \r"
     ]
    },
    {
     "name": "stdout",
     "output_type": "stream",
     "text": [
      "Training groups takes 4.593153715133667s seconds\n",
      "Group 0, clients ['f_00077', 'f_00148', 'f_00028', 'f_00188', 'f_00117']\n",
      "Group 1, clients ['f_00151', 'f_00122', 'f_00071', 'f_00021']\n",
      "Group 2, clients ['f_00154', 'f_00034', 'f_00104', 'f_00003', 'f_00134']\n",
      "Group 3, clients ['f_00006', 'f_00055']\n",
      "Group 4, clients ['f_00119', 'f_00149', 'f_00040', 'f_00039']\n"
     ]
    },
    {
     "name": "stderr",
     "output_type": "stream",
     "text": [
      "Epoch:  75%|████████████████████████████████████████████████████████▎                  | 15/20 [00:00<00:00, 147.26it/s]"
     ]
    },
    {
     "name": "stdout",
     "output_type": "stream",
     "text": [
      "Group 0\n",
      "At round 5 accuracy: 0.5811209439528023\n",
      "At round 5 training accuracy: 0.5619345859429367\n",
      "At round 5 training loss: 1.1983882518551294\n",
      "Group 1\n",
      "At round 5 accuracy: 0.6589595375722543\n",
      "At round 5 training accuracy: 0.6706720071206053\n",
      "At round 5 training loss: 1.5791391110123132\n",
      "Group 2\n",
      "At round 5 accuracy: 0.468586387434555\n",
      "At round 5 training accuracy: 0.44303405572755417\n",
      "At round 5 training loss: 1.6160101824869681\n",
      "Group 3\n",
      "At round 5 accuracy: 0.5297805642633229\n",
      "At round 5 training accuracy: 0.533532041728763\n",
      "At round 5 training loss: 1.4288879735325914\n",
      "Group 4\n",
      "At round 5 accuracy: 0.6191780821917808\n",
      "At round 5 training accuracy: 0.6282255495380694\n",
      "At round 5 training loss: 1.086869103014564\n",
      "At round 5 mean test accuracy: 0.5784823284823285 mean train accuracy: 0.5763351805614761 mean train loss: 1.4010930714011374                     number of test client: 200\n",
      "The client-group discrepancy are: [1.13247095 0.99403094 1.33703471 0.9810198  1.29714749 1.20793284]\n",
      "Begin group  0 training\n"
     ]
    },
    {
     "name": "stderr",
     "output_type": "stream",
     "text": [
      "Epoch:  15%|███████████▌                                                                 | 3/20 [00:00<00:00, 26.52it/s]"
     ]
    },
    {
     "name": "stdout",
     "output_type": "stream",
     "text": [
      "Begin group  1 training\n"
     ]
    },
    {
     "name": "stderr",
     "output_type": "stream",
     "text": [
      "Epoch:  30%|███████████████████████                                                      | 6/20 [00:00<00:00, 53.69it/s]"
     ]
    },
    {
     "name": "stdout",
     "output_type": "stream",
     "text": [
      "Begin group  2 training\n"
     ]
    },
    {
     "name": "stderr",
     "output_type": "stream",
     "text": [
      "                                                                                                                        "
     ]
    },
    {
     "name": "stdout",
     "output_type": "stream",
     "text": [
      "Begin group  3 training\n"
     ]
    },
    {
     "name": "stderr",
     "output_type": "stream",
     "text": [
      "Epoch:  40%|██████████████████████████████▊                                              | 8/20 [00:00<00:00, 75.64it/s]"
     ]
    },
    {
     "name": "stdout",
     "output_type": "stream",
     "text": [
      "Begin group  4 training\n"
     ]
    },
    {
     "name": "stderr",
     "output_type": "stream",
     "text": [
      "                                                                                                                        \r"
     ]
    },
    {
     "name": "stdout",
     "output_type": "stream",
     "text": [
      "Training groups takes 4.203185558319092s seconds\n",
      "Group 0, clients ['f_00118', 'f_00088', 'f_00108', 'f_00158']\n",
      "Group 1, clients ['f_00011', 'f_00152', 'f_00151', 'f_00081']\n",
      "Group 2, clients ['f_00134', 'f_00093', 'f_00004', 'f_00094', 'f_00013']\n",
      "Group 3, clients ['f_00145', 'f_00006', 'f_00156', 'f_00115']\n",
      "Group 4, clients ['f_00149', 'f_00019', 'f_00030']\n"
     ]
    },
    {
     "name": "stderr",
     "output_type": "stream",
     "text": [
      "Epoch:  20%|███████████████▍                                                             | 4/20 [00:00<00:00, 33.55it/s]"
     ]
    },
    {
     "name": "stdout",
     "output_type": "stream",
     "text": [
      "Group 0\n",
      "At round 6 accuracy: 0.5929203539823009\n",
      "At round 6 training accuracy: 0.6012526096033403\n",
      "At round 6 training loss: 1.0122738232733728\n",
      "Group 1\n",
      "At round 6 accuracy: 0.6377649325626205\n",
      "At round 6 training accuracy: 0.6377392078326658\n",
      "At round 6 training loss: 1.0243116727950152\n",
      "Group 2\n",
      "At round 6 accuracy: 0.7356020942408377\n",
      "At round 6 training accuracy: 0.730030959752322\n",
      "At round 6 training loss: 1.1576969191016797\n",
      "Group 3\n",
      "At round 6 accuracy: 0.6394984326018809\n",
      "At round 6 training accuracy: 0.63301043219076\n",
      "At round 6 training loss: 1.0394319725374173\n",
      "Group 4\n",
      "At round 6 accuracy: 0.736986301369863\n",
      "At round 6 training accuracy: 0.7330359987257088\n",
      "At round 6 training loss: 1.191195394847377\n",
      "At round 6 mean test accuracy: 0.6683991683991684 mean train accuracy: 0.6669508556117167 mean train loss: 1.0828141059036138                     number of test client: 200\n",
      "The client-group discrepancy are: [0.86180866 0.82528786 0.77625734 0.89748746 0.79918865 1.04860017]\n",
      "Begin group  0 training\n"
     ]
    },
    {
     "name": "stderr",
     "output_type": "stream",
     "text": [
      "Epoch:   0%|                                                                                     | 0/20 [00:00<?, ?it/s]"
     ]
    },
    {
     "name": "stdout",
     "output_type": "stream",
     "text": [
      "Begin group  1 training\n"
     ]
    },
    {
     "name": "stderr",
     "output_type": "stream",
     "text": [
      "Epoch:  50%|██████████████████████████████████████                                      | 10/20 [00:00<00:00, 91.80it/s]"
     ]
    },
    {
     "name": "stdout",
     "output_type": "stream",
     "text": [
      "Begin group  2 training\n"
     ]
    },
    {
     "name": "stderr",
     "output_type": "stream",
     "text": [
      "Epoch:  50%|██████████████████████████████████████                                      | 10/20 [00:00<00:00, 95.38it/s]"
     ]
    },
    {
     "name": "stdout",
     "output_type": "stream",
     "text": [
      "Begin group  3 training\n"
     ]
    },
    {
     "name": "stderr",
     "output_type": "stream",
     "text": [
      "Epoch:   0%|                                                                                     | 0/20 [00:00<?, ?it/s]"
     ]
    },
    {
     "name": "stdout",
     "output_type": "stream",
     "text": [
      "Begin group  4 training\n"
     ]
    },
    {
     "name": "stderr",
     "output_type": "stream",
     "text": [
      "                                                                                                                        \r"
     ]
    },
    {
     "name": "stdout",
     "output_type": "stream",
     "text": [
      "Training groups takes 5.436070919036865s seconds\n",
      "Group 0, clients ['f_00108', 'f_00138', 'f_00188']\n",
      "Group 1, clients ['f_00022', 'f_00011', 'f_00002', 'f_00121']\n",
      "Group 2, clients ['f_00094', 'f_00063', 'f_00024', 'f_00153']\n",
      "Group 3, clients ['f_00086', 'f_00195', 'f_00066', 'f_00096', 'f_00065', 'f_00155', 'f_00046']\n",
      "Group 4, clients ['f_00120', 'f_00099']\n"
     ]
    },
    {
     "name": "stderr",
     "output_type": "stream",
     "text": [
      "Epoch:  40%|██████████████████████████████▊                                              | 8/20 [00:00<00:00, 70.01it/s]"
     ]
    },
    {
     "name": "stdout",
     "output_type": "stream",
     "text": [
      "Group 0\n",
      "At round 7 accuracy: 0.5929203539823009\n",
      "At round 7 training accuracy: 0.5601948503827419\n",
      "At round 7 training loss: 1.6780288617438381\n",
      "Group 1\n",
      "At round 7 accuracy: 0.7013487475915221\n",
      "At round 7 training accuracy: 0.6931464174454829\n",
      "At round 7 training loss: 0.7504243260497351\n",
      "Group 2\n",
      "At round 7 accuracy: 0.6832460732984293\n",
      "At round 7 training accuracy: 0.6758513931888545\n",
      "At round 7 training loss: 0.7950208390091226\n",
      "Group 3\n",
      "At round 7 accuracy: 0.64576802507837\n",
      "At round 7 training accuracy: 0.639344262295082\n",
      "At round 7 training loss: 0.8974632166004038\n",
      "Group 4\n",
      "At round 7 accuracy: 0.736986301369863\n",
      "At round 7 training accuracy: 0.7234788149092067\n",
      "At round 7 training loss: 1.078782188717671\n",
      "At round 7 mean test accuracy: 0.6761954261954262 mean train accuracy: 0.6634796906400341 mean train loss: 1.0083471008866098                     number of test client: 200\n",
      "The client-group discrepancy are: [1.04372706 0.27071813 1.02995917 1.24207779 1.2904791  0.97044264]\n",
      "Begin group  0 training\n"
     ]
    },
    {
     "name": "stderr",
     "output_type": "stream",
     "text": [
      "Epoch:   0%|                                                                                     | 0/20 [00:00<?, ?it/s]"
     ]
    },
    {
     "name": "stdout",
     "output_type": "stream",
     "text": [
      "Begin group  1 training\n"
     ]
    },
    {
     "name": "stderr",
     "output_type": "stream",
     "text": [
      "Epoch:  35%|██████████████████████████▉                                                  | 7/20 [00:00<00:00, 62.99it/s]"
     ]
    },
    {
     "name": "stdout",
     "output_type": "stream",
     "text": [
      "Begin group  2 training\n"
     ]
    },
    {
     "name": "stderr",
     "output_type": "stream",
     "text": [
      "                                                                                                                        "
     ]
    },
    {
     "name": "stdout",
     "output_type": "stream",
     "text": [
      "Begin group  3 training\n"
     ]
    },
    {
     "name": "stderr",
     "output_type": "stream",
     "text": [
      "Epoch:  45%|██████████████████████████████████▋                                          | 9/20 [00:00<00:00, 88.80it/s]"
     ]
    },
    {
     "name": "stdout",
     "output_type": "stream",
     "text": [
      "Begin group  4 training\n"
     ]
    },
    {
     "name": "stderr",
     "output_type": "stream",
     "text": [
      "                                                                                                                        \r"
     ]
    },
    {
     "name": "stdout",
     "output_type": "stream",
     "text": [
      "Training groups takes 4.888156175613403s seconds\n",
      "Group 0, clients ['f_00067', 'f_00088', 'f_00128', 'f_00117', 'f_00169', 'f_00027']\n",
      "Group 1, clients ['f_00161', 'f_00181', 'f_00142', 'f_00151', 'f_00001']\n",
      "Group 2, clients ['f_00193', 'f_00103']\n",
      "Group 3, clients ['f_00065', 'f_00146']\n",
      "Group 4, clients ['f_00069', 'f_00119', 'f_00190', 'f_00150', 'f_00000']\n"
     ]
    },
    {
     "name": "stderr",
     "output_type": "stream",
     "text": [
      "\r",
      "Epoch:   0%|                                                                                     | 0/20 [00:00<?, ?it/s]"
     ]
    },
    {
     "name": "stdout",
     "output_type": "stream",
     "text": [
      "Group 0\n",
      "At round 8 accuracy: 0.6902654867256637\n",
      "At round 8 training accuracy: 0.6579679888656924\n",
      "At round 8 training loss: 1.636933809883825\n",
      "Group 1\n",
      "At round 8 accuracy: 0.6396917148362236\n",
      "At round 8 training accuracy: 0.6461949265687583\n",
      "At round 8 training loss: 1.026049727365925\n",
      "Group 2\n",
      "At round 8 accuracy: 0.7198952879581152\n",
      "At round 8 training accuracy: 0.701547987616099\n",
      "At round 8 training loss: 0.7291291781900099\n",
      "Group 3\n",
      "At round 8 accuracy: 0.7241379310344828\n",
      "At round 8 training accuracy: 0.7399403874813711\n",
      "At round 8 training loss: 0.8488289902622405\n",
      "Group 4\n",
      "At round 8 accuracy: 0.7232876712328767\n",
      "At round 8 training accuracy: 0.7088244663905703\n",
      "At round 8 training loss: 0.751493398533311\n",
      "At round 8 mean test accuracy: 0.6943866943866944 mean train accuracy: 0.686438097558005 mean train loss: 0.9931123121492131                     number of test client: 200\n",
      "The client-group discrepancy are: [1.13284137 1.00202783 1.28635672 1.37234064 0.83540547 1.1594769 ]\n",
      "Begin group  0 training\n"
     ]
    },
    {
     "name": "stderr",
     "output_type": "stream",
     "text": [
      "                                                                                                                        "
     ]
    },
    {
     "name": "stdout",
     "output_type": "stream",
     "text": [
      "Begin group  1 training\n"
     ]
    },
    {
     "name": "stderr",
     "output_type": "stream",
     "text": [
      "Epoch:  80%|████████████████████████████████████████████████████████████               | 16/20 [00:00<00:00, 153.06it/s]"
     ]
    },
    {
     "name": "stdout",
     "output_type": "stream",
     "text": [
      "Begin group  2 training\n"
     ]
    },
    {
     "name": "stderr",
     "output_type": "stream",
     "text": [
      "Epoch:  45%|██████████████████████████████████▋                                          | 9/20 [00:00<00:00, 88.50it/s]"
     ]
    },
    {
     "name": "stdout",
     "output_type": "stream",
     "text": [
      "Begin group  3 training\n"
     ]
    },
    {
     "name": "stderr",
     "output_type": "stream",
     "text": [
      "Epoch:  35%|██████████████████████████▉                                                  | 7/20 [00:00<00:00, 67.79it/s]"
     ]
    },
    {
     "name": "stdout",
     "output_type": "stream",
     "text": [
      "Begin group  4 training\n"
     ]
    },
    {
     "name": "stderr",
     "output_type": "stream",
     "text": [
      "                                                                                                                        \r"
     ]
    },
    {
     "name": "stdout",
     "output_type": "stream",
     "text": [
      "Training groups takes 3.9013116359710693s seconds\n",
      "Group 0, clients ['f_00158', 'f_00027', 'f_00037']\n",
      "Group 1, clients ['f_00101']\n",
      "Group 2, clients ['f_00084', 'f_00054', 'f_00123', 'f_00053', 'f_00103', 'f_00003', 'f_00163', 'f_00174']\n",
      "Group 3, clients ['f_00156', 'f_00116']\n",
      "Group 4, clients ['f_00060', 'f_00109', 'f_00140', 'f_00039', 'f_00100', 'f_00069']\n"
     ]
    },
    {
     "name": "stderr",
     "output_type": "stream",
     "text": [
      "Epoch:  40%|██████████████████████████████▊                                              | 8/20 [00:00<00:00, 77.27it/s]"
     ]
    },
    {
     "name": "stdout",
     "output_type": "stream",
     "text": [
      "Group 0\n",
      "At round 9 accuracy: 0.6843657817109144\n",
      "At round 9 training accuracy: 0.6941544885177453\n",
      "At round 9 training loss: 1.1157011828056707\n",
      "Group 1\n",
      "At round 9 accuracy: 0.6589595375722543\n",
      "At round 9 training accuracy: 0.668669336893636\n",
      "At round 9 training loss: 0.8444881319111063\n",
      "Group 2\n",
      "At round 9 accuracy: 0.7774869109947644\n",
      "At round 9 training accuracy: 0.7798761609907121\n",
      "At round 9 training loss: 0.9090866526260095\n",
      "Group 3\n",
      "At round 9 accuracy: 0.7554858934169278\n",
      "At round 9 training accuracy: 0.7522354694485842\n",
      "At round 9 training loss: 0.8696133137948466\n",
      "Group 4\n",
      "At round 9 accuracy: 0.684931506849315\n",
      "At round 9 training accuracy: 0.6699585855367951\n",
      "At round 9 training loss: 0.7531435023488874\n",
      "At round 9 mean test accuracy: 0.7079002079002079 mean train accuracy: 0.7089093234273187 mean train loss: 0.8913077364516501                     number of test client: 200\n",
      "The client-group discrepancy are: [0.98907716 0.75842078 1.85281184 0.93180388 0.95631173 1.04773576]\n",
      "Begin group  0 training\n"
     ]
    },
    {
     "name": "stderr",
     "output_type": "stream",
     "text": [
      "Epoch:   0%|                                                                                     | 0/20 [00:00<?, ?it/s]"
     ]
    },
    {
     "name": "stdout",
     "output_type": "stream",
     "text": [
      "Begin group  1 training\n",
      "Begin group  2 training\n"
     ]
    },
    {
     "name": "stderr",
     "output_type": "stream",
     "text": [
      "Epoch:  50%|██████████████████████████████████████                                      | 10/20 [00:00<00:00, 92.46it/s]"
     ]
    },
    {
     "name": "stdout",
     "output_type": "stream",
     "text": [
      "Begin group  3 training\n"
     ]
    },
    {
     "name": "stderr",
     "output_type": "stream",
     "text": [
      "Epoch:   0%|                                                                                     | 0/20 [00:00<?, ?it/s]"
     ]
    },
    {
     "name": "stdout",
     "output_type": "stream",
     "text": [
      "Begin group  4 training\n"
     ]
    },
    {
     "name": "stderr",
     "output_type": "stream",
     "text": [
      "                                                                                                                        \r"
     ]
    },
    {
     "name": "stdout",
     "output_type": "stream",
     "text": [
      "Training groups takes 5.549186706542969s seconds\n",
      "Group 0, clients ['f_00059', 'f_00198', 'f_00098', 'f_00078']\n",
      "Group 1, clients ['f_00052', 'f_00162', 'f_00002', 'f_00142', 'f_00111']\n",
      "Group 2, clients ['f_00124', 'f_00063']\n",
      "Group 3, clients ['f_00005', 'f_00055', 'f_00075', 'f_00185']\n",
      "Group 4, clients ['f_00020', 'f_00019', 'f_00069', 'f_00010', 'f_00109']\n"
     ]
    },
    {
     "name": "stderr",
     "output_type": "stream",
     "text": [
      "Epoch:   0%|                                                                                     | 0/20 [00:00<?, ?it/s]"
     ]
    },
    {
     "name": "stdout",
     "output_type": "stream",
     "text": [
      "Group 0\n",
      "At round 10 accuracy: 0.6253687315634219\n",
      "At round 10 training accuracy: 0.6221294363256785\n",
      "At round 10 training loss: 0.984437361141834\n",
      "Group 1\n",
      "At round 10 accuracy: 0.6763005780346821\n",
      "At round 10 training accuracy: 0.6824655095683133\n",
      "At round 10 training loss: 1.2992236984070535\n",
      "Group 2\n",
      "At round 10 accuracy: 0.7958115183246073\n",
      "At round 10 training accuracy: 0.7925696594427245\n",
      "At round 10 training loss: 1.0296000925795212\n",
      "Group 3\n",
      "At round 10 accuracy: 0.7210031347962382\n",
      "At round 10 training accuracy: 0.7131147540983607\n",
      "At round 10 training loss: 1.1956775517448583\n",
      "Group 4\n",
      "At round 10 accuracy: 0.663013698630137\n",
      "At round 10 training accuracy: 0.6616756928958267\n",
      "At round 10 training loss: 0.8011408124087\n",
      "At round 10 mean test accuracy: 0.6959459459459459 mean train accuracy: 0.6945983801230132 mean train loss: 1.0789581715260272                     number of test client: 200\n",
      "The client-group discrepancy are: [1.08936807 1.47056882 1.0092045  1.14231768 1.28409962 0.68760596]\n",
      "Begin group  0 training\n"
     ]
    },
    {
     "name": "stderr",
     "output_type": "stream",
     "text": [
      "Epoch:  20%|███████████████▍                                                             | 4/20 [00:00<00:00, 33.32it/s]"
     ]
    },
    {
     "name": "stdout",
     "output_type": "stream",
     "text": [
      "Begin group  1 training\n"
     ]
    },
    {
     "name": "stderr",
     "output_type": "stream",
     "text": [
      "Epoch:  25%|███████████████████▎                                                         | 5/20 [00:00<00:00, 44.15it/s]"
     ]
    },
    {
     "name": "stdout",
     "output_type": "stream",
     "text": [
      "Begin group  2 training\n"
     ]
    },
    {
     "name": "stderr",
     "output_type": "stream",
     "text": [
      "Epoch:  15%|███████████▌                                                                 | 3/20 [00:00<00:00, 26.26it/s]"
     ]
    },
    {
     "name": "stdout",
     "output_type": "stream",
     "text": [
      "Begin group  3 training\n"
     ]
    },
    {
     "name": "stderr",
     "output_type": "stream",
     "text": [
      "Epoch:  45%|██████████████████████████████████▋                                          | 9/20 [00:00<00:00, 89.35it/s]"
     ]
    },
    {
     "name": "stdout",
     "output_type": "stream",
     "text": [
      "Begin group  4 training\n"
     ]
    },
    {
     "name": "stderr",
     "output_type": "stream",
     "text": [
      "                                                                                                                        \r"
     ]
    },
    {
     "name": "stdout",
     "output_type": "stream",
     "text": [
      "Training groups takes 6.3806798458099365s seconds\n",
      "Group 0 is empty.\n",
      "Group 1, clients ['f_00022', 'f_00041', 'f_00111']\n",
      "Group 2, clients ['f_00174', 'f_00033', 'f_00173', 'f_00053', 'f_00134', 'f_00143', 'f_00094', 'f_00073', 'f_00014', 'f_00063']\n",
      "Group 3, clients ['f_00186', 'f_00056', 'f_00055', 'f_00016']\n",
      "Group 4, clients ['f_00130', 'f_00060', 'f_00000']\n"
     ]
    },
    {
     "name": "stderr",
     "output_type": "stream",
     "text": [
      "Epoch:   0%|                                                                                     | 0/20 [00:00<?, ?it/s]"
     ]
    },
    {
     "name": "stdout",
     "output_type": "stream",
     "text": [
      "Group 0\n",
      "At round 11 accuracy: 0.6696165191740413\n",
      "At round 11 training accuracy: 0.674669450243563\n",
      "At round 11 training loss: 1.4546318829121818\n",
      "Group 1\n",
      "At round 11 accuracy: 0.7861271676300579\n",
      "At round 11 training accuracy: 0.7970627503337784\n",
      "At round 11 training loss: 0.6631773457653957\n",
      "Group 2\n",
      "At round 11 accuracy: 0.7513089005235603\n",
      "At round 11 training accuracy: 0.7507739938080495\n",
      "At round 11 training loss: 0.6367270778576287\n",
      "Group 3\n",
      "At round 11 accuracy: 0.8275862068965517\n",
      "At round 11 training accuracy: 0.8192995529061102\n",
      "At round 11 training loss: 1.056556021347753\n",
      "Group 4\n",
      "At round 11 accuracy: 0.6684931506849315\n",
      "At round 11 training accuracy: 0.6702771583306786\n",
      "At round 11 training loss: 0.7351511835425323\n",
      "At round 11 mean test accuracy: 0.7432432432432432 mean train accuracy: 0.7459350831252665 mean train loss: 0.8745506005283976                     number of test client: 200\n",
      "The client-group discrepancy are: [0.98296057 0.         0.52090965 0.98227657 1.49447532 0.76527184]\n",
      "Begin group  1 training\n"
     ]
    },
    {
     "name": "stderr",
     "output_type": "stream",
     "text": [
      "Epoch:   0%|                                                                                     | 0/20 [00:00<?, ?it/s]"
     ]
    },
    {
     "name": "stdout",
     "output_type": "stream",
     "text": [
      "Begin group  2 training\n"
     ]
    },
    {
     "name": "stderr",
     "output_type": "stream",
     "text": [
      "Epoch:   0%|                                                                                     | 0/20 [00:00<?, ?it/s]"
     ]
    },
    {
     "name": "stdout",
     "output_type": "stream",
     "text": [
      "Begin group  3 training\n"
     ]
    },
    {
     "name": "stderr",
     "output_type": "stream",
     "text": [
      "Epoch:   0%|                                                                                     | 0/20 [00:00<?, ?it/s]"
     ]
    },
    {
     "name": "stdout",
     "output_type": "stream",
     "text": [
      "Begin group  4 training\n"
     ]
    },
    {
     "name": "stderr",
     "output_type": "stream",
     "text": [
      "                                                                                                                        \r"
     ]
    },
    {
     "name": "stdout",
     "output_type": "stream",
     "text": [
      "Training groups takes 4.505172491073608s seconds\n",
      "Group 0, clients ['f_00007', 'f_00098', 'f_00138']\n",
      "Group 1, clients ['f_00182', 'f_00172', 'f_00021', 'f_00011', 'f_00061', 'f_00032', 'f_00132', 'f_00031', 'f_00181']\n",
      "Group 2, clients ['f_00023', 'f_00063', 'f_00164', 'f_00173']\n",
      "Group 3, clients ['f_00095', 'f_00016', 'f_00085']\n",
      "Group 4, clients ['f_00120']\n"
     ]
    },
    {
     "name": "stderr",
     "output_type": "stream",
     "text": [
      "                                                                                                                        "
     ]
    },
    {
     "name": "stdout",
     "output_type": "stream",
     "text": [
      "Group 0\n",
      "At round 12 accuracy: 0.6696165191740413\n",
      "At round 12 training accuracy: 0.674669450243563\n",
      "At round 12 training loss: 1.446511748999295\n",
      "Group 1\n",
      "At round 12 accuracy: 0.7148362235067437\n",
      "At round 12 training accuracy: 0.7160658655985759\n",
      "At round 12 training loss: 0.6876141486078514\n",
      "Group 2\n",
      "At round 12 accuracy: 0.7801047120418848\n",
      "At round 12 training accuracy: 0.7746130030959752\n",
      "At round 12 training loss: 0.6970476719755506\n",
      "Group 3\n",
      "At round 12 accuracy: 0.7554858934169278\n",
      "At round 12 training accuracy: 0.7690014903129657\n",
      "At round 12 training loss: 0.6618509889315208\n",
      "Group 4\n",
      "At round 12 accuracy: 0.8082191780821918\n",
      "At round 12 training accuracy: 0.8088563236699586\n",
      "At round 12 training loss: 0.7676863045297865\n",
      "At round 12 mean test accuracy: 0.7442827442827443 mean train accuracy: 0.7467267523293344 mean train loss: 0.8333872538310632                     number of test client: 200\n",
      "The client-group discrepancy are: [1.04959253 0.84243979 1.28111531 1.16951857 0.64272988 0.32822944]\n",
      "Begin group  0 training\n"
     ]
    },
    {
     "name": "stderr",
     "output_type": "stream",
     "text": [
      "Epoch:  25%|███████████████████▎                                                         | 5/20 [00:00<00:00, 45.77it/s]"
     ]
    },
    {
     "name": "stdout",
     "output_type": "stream",
     "text": [
      "Begin group  1 training\n"
     ]
    },
    {
     "name": "stderr",
     "output_type": "stream",
     "text": [
      "Epoch:  25%|███████████████████▎                                                         | 5/20 [00:00<00:00, 47.69it/s]"
     ]
    },
    {
     "name": "stdout",
     "output_type": "stream",
     "text": [
      "Begin group  2 training\n"
     ]
    },
    {
     "name": "stderr",
     "output_type": "stream",
     "text": [
      "Epoch:   0%|                                                                                     | 0/20 [00:00<?, ?it/s]"
     ]
    },
    {
     "name": "stdout",
     "output_type": "stream",
     "text": [
      "Begin group  3 training\n"
     ]
    },
    {
     "name": "stderr",
     "output_type": "stream",
     "text": [
      "Epoch:  40%|██████████████████████████████▊                                              | 8/20 [00:00<00:00, 77.04it/s]"
     ]
    },
    {
     "name": "stdout",
     "output_type": "stream",
     "text": [
      "Begin group  4 training\n"
     ]
    },
    {
     "name": "stderr",
     "output_type": "stream",
     "text": [
      "                                                                                                                        \r"
     ]
    },
    {
     "name": "stdout",
     "output_type": "stream",
     "text": [
      "Training groups takes 5.014981746673584s seconds\n",
      "Group 0, clients ['f_00198', 'f_00128', 'f_00097']\n",
      "Group 1, clients ['f_00042', 'f_00102', 'f_00132']\n",
      "Group 2, clients ['f_00023', 'f_00033', 'f_00104']\n",
      "Group 3, clients ['f_00155', 'f_00096', 'f_00095', 'f_00106', 'f_00065']\n",
      "Group 4, clients ['f_00179', 'f_00159', 'f_00110', 'f_00089', 'f_00079', 'f_00070']\n"
     ]
    },
    {
     "name": "stderr",
     "output_type": "stream",
     "text": [
      "Epoch:  65%|████████████████████████████████████████████████▊                          | 13/20 [00:00<00:00, 122.93it/s]"
     ]
    },
    {
     "name": "stdout",
     "output_type": "stream",
     "text": [
      "Group 0\n",
      "At round 13 accuracy: 0.6873156342182891\n",
      "At round 13 training accuracy: 0.6816283924843424\n",
      "At round 13 training loss: 1.3929304860703382\n",
      "Group 1\n",
      "At round 13 accuracy: 0.7263969171483622\n",
      "At round 13 training accuracy: 0.7300845571873609\n",
      "At round 13 training loss: 0.5987989434439392\n",
      "Group 2\n",
      "At round 13 accuracy: 0.7513089005235603\n",
      "At round 13 training accuracy: 0.7476780185758514\n",
      "At round 13 training loss: 0.6222783481281239\n",
      "Group 3\n",
      "At round 13 accuracy: 0.8056426332288401\n",
      "At round 13 training accuracy: 0.7958271236959762\n",
      "At round 13 training loss: 0.6869510214459346\n",
      "Group 4\n",
      "At round 13 accuracy: 0.810958904109589\n",
      "At round 13 training accuracy: 0.7992991398534565\n",
      "At round 13 training loss: 0.8794808406839708\n",
      "At round 13 mean test accuracy: 0.7536382536382537 mean train accuracy: 0.7490408623104561 mean train loss: 0.8104689503516794                     number of test client: 200\n",
      "The client-group discrepancy are: [0.96922171 1.02183789 1.12731405 0.56722358 0.69680891 1.2918772 ]\n",
      "Begin group  0 training\n"
     ]
    },
    {
     "name": "stderr",
     "output_type": "stream",
     "text": [
      "Epoch:  55%|█████████████████████████████████████████▎                                 | 11/20 [00:00<00:00, 104.65it/s]"
     ]
    },
    {
     "name": "stdout",
     "output_type": "stream",
     "text": [
      "Begin group  1 training\n"
     ]
    },
    {
     "name": "stderr",
     "output_type": "stream",
     "text": [
      "Epoch:  25%|███████████████████▎                                                         | 5/20 [00:00<00:00, 47.39it/s]"
     ]
    },
    {
     "name": "stdout",
     "output_type": "stream",
     "text": [
      "Begin group  2 training\n"
     ]
    },
    {
     "name": "stderr",
     "output_type": "stream",
     "text": [
      "Epoch:   0%|                                                                                     | 0/20 [00:00<?, ?it/s]"
     ]
    },
    {
     "name": "stdout",
     "output_type": "stream",
     "text": [
      "Begin group  3 training\n"
     ]
    },
    {
     "name": "stderr",
     "output_type": "stream",
     "text": [
      "Epoch:   0%|                                                                                     | 0/20 [00:00<?, ?it/s]"
     ]
    },
    {
     "name": "stdout",
     "output_type": "stream",
     "text": [
      "Begin group  4 training\n"
     ]
    },
    {
     "name": "stderr",
     "output_type": "stream",
     "text": [
      "                                                                                                                        \r"
     ]
    },
    {
     "name": "stdout",
     "output_type": "stream",
     "text": [
      "Training groups takes 4.638376235961914s seconds\n",
      "Group 0, clients ['f_00198', 'f_00047', 'f_00157']\n",
      "Group 1, clients ['f_00151', 'f_00051', 'f_00112', 'f_00122']\n",
      "Group 2, clients ['f_00114', 'f_00024', 'f_00093', 'f_00044', 'f_00064']\n",
      "Group 3, clients ['f_00005', 'f_00015', 'f_00155', 'f_00006', 'f_00175']\n",
      "Group 4, clients ['f_00189', 'f_00069', 'f_00149']\n"
     ]
    },
    {
     "name": "stderr",
     "output_type": "stream",
     "text": [
      "Epoch:  75%|████████████████████████████████████████████████████████▎                  | 15/20 [00:00<00:00, 141.81it/s]"
     ]
    },
    {
     "name": "stdout",
     "output_type": "stream",
     "text": [
      "Group 0\n",
      "At round 14 accuracy: 0.672566371681416\n",
      "At round 14 training accuracy: 0.673277661795407\n",
      "At round 14 training loss: 1.1123950928657023\n",
      "Group 1\n",
      "At round 14 accuracy: 0.8497109826589595\n",
      "At round 14 training accuracy: 0.8460169114374722\n",
      "At round 14 training loss: 0.6424379273917498\n",
      "Group 2\n",
      "At round 14 accuracy: 0.7460732984293194\n",
      "At round 14 training accuracy: 0.7551083591331269\n",
      "At round 14 training loss: 0.7011517124879102\n",
      "Group 3\n",
      "At round 14 accuracy: 0.6896551724137931\n",
      "At round 14 training accuracy: 0.686661698956781\n",
      "At round 14 training loss: 0.6408240596934509\n",
      "Group 4\n",
      "At round 14 accuracy: 0.6712328767123288\n",
      "At round 14 training accuracy: 0.6680471487734947\n",
      "At round 14 training loss: 0.7029959921739632\n",
      "At round 14 mean test accuracy: 0.7375259875259875 mean train accuracy: 0.7378356981913403 mean train loss: 0.7475510486317395                     number of test client: 200\n",
      "The client-group discrepancy are: [1.16589255 1.44146863 0.89146855 1.66518676 0.79541775 1.04151611]\n",
      "Begin group  0 training\n"
     ]
    },
    {
     "name": "stderr",
     "output_type": "stream",
     "text": [
      "Epoch:  65%|████████████████████████████████████████████████▊                          | 13/20 [00:00<00:00, 124.01it/s]"
     ]
    },
    {
     "name": "stdout",
     "output_type": "stream",
     "text": [
      "Begin group  1 training\n"
     ]
    },
    {
     "name": "stderr",
     "output_type": "stream",
     "text": [
      "Epoch:   0%|                                                                                     | 0/20 [00:00<?, ?it/s]"
     ]
    },
    {
     "name": "stdout",
     "output_type": "stream",
     "text": [
      "Begin group  2 training\n"
     ]
    },
    {
     "name": "stderr",
     "output_type": "stream",
     "text": [
      "Epoch:  15%|███████████▌                                                                 | 3/20 [00:00<00:00, 29.61it/s]"
     ]
    },
    {
     "name": "stdout",
     "output_type": "stream",
     "text": [
      "Begin group  3 training\n"
     ]
    },
    {
     "name": "stderr",
     "output_type": "stream",
     "text": [
      "Epoch:  30%|███████████████████████                                                      | 6/20 [00:00<00:00, 58.39it/s]"
     ]
    },
    {
     "name": "stdout",
     "output_type": "stream",
     "text": [
      "Begin group  4 training\n"
     ]
    },
    {
     "name": "stderr",
     "output_type": "stream",
     "text": [
      "                                                                                                                        \r"
     ]
    },
    {
     "name": "stdout",
     "output_type": "stream",
     "text": [
      "Training groups takes 5.304633378982544s seconds\n",
      "Group 0, clients ['f_00127', 'f_00138', 'f_00057', 'f_00058', 'f_00198']\n",
      "Group 1, clients ['f_00191', 'f_00012', 'f_00172', 'f_00192', 'f_00072']\n",
      "Group 2, clients ['f_00184']\n",
      "Group 3, clients ['f_00146', 'f_00026', 'f_00115']\n",
      "Group 4, clients ['f_00049', 'f_00040', 'f_00030', 'f_00170', 'f_00150', 'f_00009']\n"
     ]
    },
    {
     "name": "stderr",
     "output_type": "stream",
     "text": [
      "Epoch:   0%|                                                                                     | 0/20 [00:00<?, ?it/s]"
     ]
    },
    {
     "name": "stdout",
     "output_type": "stream",
     "text": [
      "Group 0\n",
      "At round 15 accuracy: 0.7109144542772862\n",
      "At round 15 training accuracy: 0.7143354210160056\n",
      "At round 15 training loss: 0.7436514371952915\n",
      "Group 1\n",
      "At round 15 accuracy: 0.7707129094412332\n",
      "At round 15 training accuracy: 0.7783711615487316\n",
      "At round 15 training loss: 0.6896285338366249\n",
      "Group 2\n",
      "At round 15 accuracy: 0.7984293193717278\n",
      "At round 15 training accuracy: 0.7965944272445821\n",
      "At round 15 training loss: 0.5550419796731081\n",
      "Group 3\n",
      "At round 15 accuracy: 0.8087774294670846\n",
      "At round 15 training accuracy: 0.7991803278688525\n",
      "At round 15 training loss: 0.8493817234370197\n",
      "Group 4\n",
      "At round 15 accuracy: 0.7342465753424657\n",
      "At round 15 training accuracy: 0.7263459700541574\n",
      "At round 15 training loss: 1.2505909453136368\n",
      "At round 15 mean test accuracy: 0.7650727650727651 mean train accuracy: 0.7642043724499117 mean train loss: 0.8059543254947729                     number of test client: 200\n",
      "The client-group discrepancy are: [1.3317247  1.21943028 1.45114054 1.57156087 1.25030232 1.32652867]\n",
      "Begin group  0 training\n"
     ]
    },
    {
     "name": "stderr",
     "output_type": "stream",
     "text": [
      "Epoch:  45%|██████████████████████████████████▋                                          | 9/20 [00:00<00:00, 89.83it/s]"
     ]
    },
    {
     "name": "stdout",
     "output_type": "stream",
     "text": [
      "Begin group  1 training\n"
     ]
    },
    {
     "name": "stderr",
     "output_type": "stream",
     "text": [
      "Epoch:  45%|██████████████████████████████████▋                                          | 9/20 [00:00<00:00, 89.67it/s]"
     ]
    },
    {
     "name": "stdout",
     "output_type": "stream",
     "text": [
      "Begin group  2 training\n"
     ]
    },
    {
     "name": "stderr",
     "output_type": "stream",
     "text": [
      "Epoch:  40%|██████████████████████████████▊                                              | 8/20 [00:00<00:00, 73.72it/s]"
     ]
    },
    {
     "name": "stdout",
     "output_type": "stream",
     "text": [
      "Begin group  3 training\n"
     ]
    },
    {
     "name": "stderr",
     "output_type": "stream",
     "text": [
      "Epoch:   0%|                                                                                     | 0/20 [00:00<?, ?it/s]"
     ]
    },
    {
     "name": "stdout",
     "output_type": "stream",
     "text": [
      "Begin group  4 training\n"
     ]
    },
    {
     "name": "stderr",
     "output_type": "stream",
     "text": [
      "                                                                                                                        \r"
     ]
    },
    {
     "name": "stdout",
     "output_type": "stream",
     "text": [
      "Training groups takes 3.4323391914367676s seconds\n",
      "Group 0, clients ['f_00059', 'f_00007', 'f_00187']\n",
      "Group 1, clients ['f_00112', 'f_00032', 'f_00081', 'f_00072', 'f_00051']\n",
      "Group 2, clients ['f_00154', 'f_00174', 'f_00073', 'f_00054', 'f_00134']\n",
      "Group 3, clients ['f_00096', 'f_00056']\n",
      "Group 4, clients ['f_00000', 'f_00170', 'f_00029', 'f_00090', 'f_00100']\n"
     ]
    },
    {
     "name": "stderr",
     "output_type": "stream",
     "text": [
      "Epoch:   0%|                                                                                     | 0/20 [00:00<?, ?it/s]"
     ]
    },
    {
     "name": "stdout",
     "output_type": "stream",
     "text": [
      "Group 0\n",
      "At round 16 accuracy: 0.7079646017699115\n",
      "At round 16 training accuracy: 0.6826722338204593\n",
      "At round 16 training loss: 0.7870445257375533\n",
      "Group 1\n",
      "At round 16 accuracy: 0.815028901734104\n",
      "At round 16 training accuracy: 0.82688028482421\n",
      "At round 16 training loss: 0.5910892633826509\n",
      "Group 2\n",
      "At round 16 accuracy: 0.7539267015706806\n",
      "At round 16 training accuracy: 0.7464396284829722\n",
      "At round 16 training loss: 0.7496214620376888\n",
      "Group 3\n",
      "At round 16 accuracy: 0.7774294670846394\n",
      "At round 16 training accuracy: 0.7857675111773472\n",
      "At round 16 training loss: 0.5851363110648893\n",
      "Group 4\n",
      "At round 16 accuracy: 0.7972602739726027\n",
      "At round 16 training accuracy: 0.7703090156100669\n",
      "At round 16 training loss: 0.555031210260051\n",
      "At round 16 mean test accuracy: 0.7744282744282744 mean train accuracy: 0.7682845137324158 mean train loss: 0.648702714018486                     number of test client: 200\n",
      "The client-group discrepancy are: [0.54231631 0.6604199  0.34961885 0.66135538 0.27323809 0.65274383]\n",
      "Begin group  0 training\n"
     ]
    },
    {
     "name": "stderr",
     "output_type": "stream",
     "text": [
      "Epoch:   0%|                                                                                     | 0/20 [00:00<?, ?it/s]"
     ]
    },
    {
     "name": "stdout",
     "output_type": "stream",
     "text": [
      "Begin group  1 training\n"
     ]
    },
    {
     "name": "stderr",
     "output_type": "stream",
     "text": [
      "Epoch:  25%|███████████████████▎                                                         | 5/20 [00:00<00:00, 48.29it/s]"
     ]
    },
    {
     "name": "stdout",
     "output_type": "stream",
     "text": [
      "Begin group  2 training\n"
     ]
    },
    {
     "name": "stderr",
     "output_type": "stream",
     "text": [
      "Epoch:  35%|██████████████████████████▉                                                  | 7/20 [00:00<00:00, 65.61it/s]"
     ]
    },
    {
     "name": "stdout",
     "output_type": "stream",
     "text": [
      "Begin group  3 training\n"
     ]
    },
    {
     "name": "stderr",
     "output_type": "stream",
     "text": [
      "Epoch:   0%|                                                                                     | 0/20 [00:00<?, ?it/s]"
     ]
    },
    {
     "name": "stdout",
     "output_type": "stream",
     "text": [
      "Begin group  4 training\n"
     ]
    },
    {
     "name": "stderr",
     "output_type": "stream",
     "text": [
      "                                                                                                                        \r"
     ]
    },
    {
     "name": "stdout",
     "output_type": "stream",
     "text": [
      "Training groups takes 4.939055919647217s seconds\n",
      "Group 0, clients ['f_00158', 'f_00197', 'f_00157', 'f_00138', 'f_00147', 'f_00087']\n",
      "Group 1, clients ['f_00082', 'f_00071', 'f_00192']\n",
      "Group 2, clients ['f_00103']\n",
      "Group 3, clients ['f_00146', 'f_00176', 'f_00075', 'f_00085', 'f_00095', 'f_00126', 'f_00016']\n",
      "Group 4, clients ['f_00000', 'f_00080', 'f_00109']\n"
     ]
    },
    {
     "name": "stderr",
     "output_type": "stream",
     "text": [
      "Epoch:  40%|██████████████████████████████▊                                              | 8/20 [00:00<00:00, 77.92it/s]"
     ]
    },
    {
     "name": "stdout",
     "output_type": "stream",
     "text": [
      "Group 0\n",
      "At round 17 accuracy: 0.6519174041297935\n",
      "At round 17 training accuracy: 0.6677105080027835\n",
      "At round 17 training loss: 0.8287329611756691\n",
      "Group 1\n",
      "At round 17 accuracy: 0.8034682080924855\n",
      "At round 17 training accuracy: 0.8177570093457944\n",
      "At round 17 training loss: 0.4627374056967089\n",
      "Group 2\n",
      "At round 17 accuracy: 0.7905759162303665\n",
      "At round 17 training accuracy: 0.7897832817337461\n",
      "At round 17 training loss: 0.542088605708013\n",
      "Group 3\n",
      "At round 17 accuracy: 0.768025078369906\n",
      "At round 17 training accuracy: 0.7790611028315947\n",
      "At round 17 training loss: 0.9653250672306238\n",
      "Group 4\n",
      "At round 17 accuracy: 0.8\n",
      "At round 17 training accuracy: 0.7967505575023893\n",
      "At round 17 training loss: 0.7183578678066467\n",
      "At round 17 mean test accuracy: 0.7676715176715176 mean train accuracy: 0.7756531270933561 mean train loss: 0.6734135835545231                     number of test client: 200\n",
      "The client-group discrepancy are: [0.90117018 1.07176374 0.83867677 0.91481567 0.80668015 0.8384047 ]\n",
      "Begin group  0 training\n"
     ]
    },
    {
     "name": "stderr",
     "output_type": "stream",
     "text": [
      "Epoch:  40%|██████████████████████████████▊                                              | 8/20 [00:00<00:00, 78.18it/s]"
     ]
    },
    {
     "name": "stdout",
     "output_type": "stream",
     "text": [
      "Begin group  1 training\n"
     ]
    },
    {
     "name": "stderr",
     "output_type": "stream",
     "text": [
      "Epoch:   0%|                                                                                     | 0/20 [00:00<?, ?it/s]"
     ]
    },
    {
     "name": "stdout",
     "output_type": "stream",
     "text": [
      "Begin group  2 training\n",
      "Begin group  3 training\n"
     ]
    },
    {
     "name": "stderr",
     "output_type": "stream",
     "text": [
      "Epoch:   0%|                                                                                     | 0/20 [00:00<?, ?it/s]"
     ]
    },
    {
     "name": "stdout",
     "output_type": "stream",
     "text": [
      "Begin group  4 training\n"
     ]
    },
    {
     "name": "stderr",
     "output_type": "stream",
     "text": [
      "                                                                                                                        \r"
     ]
    },
    {
     "name": "stdout",
     "output_type": "stream",
     "text": [
      "Training groups takes 4.710214614868164s seconds\n",
      "Group 0, clients ['f_00108', 'f_00047', 'f_00128', 'f_00088']\n",
      "Group 1, clients ['f_00091', 'f_00081', 'f_00151', 'f_00012']\n",
      "Group 2, clients ['f_00134', 'f_00044', 'f_00074', 'f_00033']\n",
      "Group 3, clients ['f_00186', 'f_00006', 'f_00025']\n",
      "Group 4, clients ['f_00170', 'f_00039', 'f_00040', 'f_00109', 'f_00049']\n"
     ]
    },
    {
     "name": "stderr",
     "output_type": "stream",
     "text": [
      "Epoch:  35%|██████████████████████████▉                                                  | 7/20 [00:00<00:00, 61.46it/s]"
     ]
    },
    {
     "name": "stdout",
     "output_type": "stream",
     "text": [
      "Group 0\n",
      "At round 18 accuracy: 0.7315634218289085\n",
      "At round 18 training accuracy: 0.7428670842032011\n",
      "At round 18 training loss: 0.8388343776421324\n",
      "Group 1\n",
      "At round 18 accuracy: 0.8092485549132948\n",
      "At round 18 training accuracy: 0.8230974632843792\n",
      "At round 18 training loss: 0.4718674186386689\n",
      "Group 2\n",
      "At round 18 accuracy: 0.7958115183246073\n",
      "At round 18 training accuracy: 0.8024767801857585\n",
      "At round 18 training loss: 0.7048434918994321\n",
      "Group 3\n",
      "At round 18 accuracy: 0.8025078369905956\n",
      "At round 18 training accuracy: 0.7961997019374069\n",
      "At round 18 training loss: 0.5374847004126241\n",
      "Group 4\n",
      "At round 18 accuracy: 0.684931506849315\n",
      "At round 18 training accuracy: 0.7081873208028034\n",
      "At round 18 training loss: 0.9321543060221767\n",
      "At round 18 mean test accuracy: 0.7681912681912682 mean train accuracy: 0.7786371110163814 mean train loss: 0.6806326022807337                     number of test client: 200\n",
      "The client-group discrepancy are: [0.61523128 0.58302767 0.75572565 0.7764374  0.6895997  0.35501272]\n",
      "Begin group  0 training\n"
     ]
    },
    {
     "name": "stderr",
     "output_type": "stream",
     "text": [
      "Epoch:  25%|███████████████████▎                                                         | 5/20 [00:00<00:00, 43.03it/s]"
     ]
    },
    {
     "name": "stdout",
     "output_type": "stream",
     "text": [
      "Begin group  1 training\n"
     ]
    },
    {
     "name": "stderr",
     "output_type": "stream",
     "text": [
      "Epoch:  45%|██████████████████████████████████▋                                          | 9/20 [00:00<00:00, 79.86it/s]"
     ]
    },
    {
     "name": "stdout",
     "output_type": "stream",
     "text": [
      "Begin group  2 training\n"
     ]
    },
    {
     "name": "stderr",
     "output_type": "stream",
     "text": [
      "Epoch:   0%|                                                                                     | 0/20 [00:00<?, ?it/s]"
     ]
    },
    {
     "name": "stdout",
     "output_type": "stream",
     "text": [
      "Begin group  3 training\n"
     ]
    },
    {
     "name": "stderr",
     "output_type": "stream",
     "text": [
      "Epoch:   0%|                                                                                     | 0/20 [00:00<?, ?it/s]"
     ]
    },
    {
     "name": "stdout",
     "output_type": "stream",
     "text": [
      "Begin group  4 training\n"
     ]
    },
    {
     "name": "stderr",
     "output_type": "stream",
     "text": [
      "                                                                                                                        \r"
     ]
    },
    {
     "name": "stdout",
     "output_type": "stream",
     "text": [
      "Training groups takes 3.592133045196533s seconds\n",
      "Group 0, clients ['f_00148', 'f_00078', 'f_00037', 'f_00169', 'f_00157']\n",
      "Group 1, clients ['f_00091', 'f_00031', 'f_00072', 'f_00152']\n",
      "Group 2, clients ['f_00033', 'f_00013', 'f_00094', 'f_00163']\n",
      "Group 3, clients ['f_00196', 'f_00016', 'f_00105']\n",
      "Group 4, clients ['f_00040', 'f_00140', 'f_00020', 'f_00180']\n"
     ]
    },
    {
     "name": "stderr",
     "output_type": "stream",
     "text": [
      "Epoch:   0%|                                                                                     | 0/20 [00:00<?, ?it/s]"
     ]
    },
    {
     "name": "stdout",
     "output_type": "stream",
     "text": [
      "Group 0\n",
      "At round 19 accuracy: 0.6932153392330384\n",
      "At round 19 training accuracy: 0.6878914405010439\n",
      "At round 19 training loss: 0.8500063741422811\n",
      "Group 1\n",
      "At round 19 accuracy: 0.7071290944123314\n",
      "At round 19 training accuracy: 0.7082777036048065\n",
      "At round 19 training loss: 1.0550774387123323\n",
      "Group 2\n",
      "At round 19 accuracy: 0.8010471204188482\n",
      "At round 19 training accuracy: 0.7792569659442724\n",
      "At round 19 training loss: 0.6390032597370561\n",
      "Group 3\n",
      "At round 19 accuracy: 0.8056426332288401\n",
      "At round 19 training accuracy: 0.8211624441132638\n",
      "At round 19 training loss: 0.45210435857715975\n",
      "Group 4\n",
      "At round 19 accuracy: 0.8246575342465754\n",
      "At round 19 training accuracy: 0.807582032494425\n",
      "At round 19 training loss: 0.49041082739222386\n",
      "At round 19 mean test accuracy: 0.761954261954262 mean train accuracy: 0.7561049875159856 mean train loss: 0.730848580684131                     number of test client: 200\n",
      "The client-group discrepancy are: [0.81678936 0.70122721 0.45807966 0.70467333 1.63648851 0.8172934 ]\n",
      "Begin group  0 training\n"
     ]
    },
    {
     "name": "stderr",
     "output_type": "stream",
     "text": [
      "Epoch:  25%|███████████████████▎                                                         | 5/20 [00:00<00:00, 42.85it/s]"
     ]
    },
    {
     "name": "stdout",
     "output_type": "stream",
     "text": [
      "Begin group  1 training\n"
     ]
    },
    {
     "name": "stderr",
     "output_type": "stream",
     "text": [
      "Epoch:  40%|██████████████████████████████▊                                              | 8/20 [00:00<00:00, 78.48it/s]"
     ]
    },
    {
     "name": "stdout",
     "output_type": "stream",
     "text": [
      "Begin group  2 training\n"
     ]
    },
    {
     "name": "stderr",
     "output_type": "stream",
     "text": [
      "Epoch:   0%|                                                                                     | 0/20 [00:00<?, ?it/s]"
     ]
    },
    {
     "name": "stdout",
     "output_type": "stream",
     "text": [
      "Begin group  3 training\n"
     ]
    },
    {
     "name": "stderr",
     "output_type": "stream",
     "text": [
      "Epoch:   0%|                                                                                     | 0/20 [00:00<?, ?it/s]"
     ]
    },
    {
     "name": "stdout",
     "output_type": "stream",
     "text": [
      "Begin group  4 training\n"
     ]
    },
    {
     "name": "stderr",
     "output_type": "stream",
     "text": [
      "                                                                                                                        \r"
     ]
    },
    {
     "name": "stdout",
     "output_type": "stream",
     "text": [
      "Training groups takes 5.25697660446167s seconds\n",
      "Group 0, clients ['f_00028', 'f_00178', 'f_00168', 'f_00177', 'f_00047', 'f_00077', 'f_00187', 'f_00167']\n",
      "Group 1, clients ['f_00121', 'f_00192']\n",
      "Group 2, clients ['f_00013', 'f_00084']\n",
      "Group 3, clients ['f_00196', 'f_00195', 'f_00136', 'f_00166', 'f_00175', 'f_00155']\n",
      "Group 4, clients ['f_00150', 'f_00109']\n"
     ]
    },
    {
     "name": "stderr",
     "output_type": "stream",
     "text": [
      "Epoch:  85%|███████████████████████████████████████████████████████████████▊           | 17/20 [00:00<00:00, 163.43it/s]"
     ]
    },
    {
     "name": "stdout",
     "output_type": "stream",
     "text": [
      "Group 0\n",
      "At round 20 accuracy: 0.7138643067846607\n",
      "At round 20 training accuracy: 0.7077244258872651\n",
      "At round 20 training loss: 0.7719551956562343\n",
      "Group 1\n",
      "At round 20 accuracy: 0.7341040462427746\n",
      "At round 20 training accuracy: 0.7423230974632844\n",
      "At round 20 training loss: 0.636859827197866\n",
      "Group 2\n",
      "At round 20 accuracy: 0.8115183246073299\n",
      "At round 20 training accuracy: 0.8018575851393189\n",
      "At round 20 training loss: 0.5356643096581332\n",
      "Group 3\n",
      "At round 20 accuracy: 0.8213166144200627\n",
      "At round 20 training accuracy: 0.8301043219076006\n",
      "At round 20 training loss: 0.4274873671062213\n",
      "Group 4\n",
      "At round 20 accuracy: 0.8\n",
      "At round 20 training accuracy: 0.8225549538069449\n",
      "At round 20 training loss: 0.7852270983375536\n",
      "At round 20 mean test accuracy: 0.7728690228690228 mean train accuracy: 0.7776627489190671 mean train loss: 0.6347388691878495                     number of test client: 200\n",
      "The client-group discrepancy are: [0.97810405 1.35033181 0.54416929 0.53475351 1.00407837 0.28855542]\n",
      "Begin group  0 training\n"
     ]
    },
    {
     "name": "stderr",
     "output_type": "stream",
     "text": [
      "Epoch:  15%|███████████▌                                                                 | 3/20 [00:00<00:00, 29.28it/s]"
     ]
    },
    {
     "name": "stdout",
     "output_type": "stream",
     "text": [
      "Begin group  1 training\n"
     ]
    },
    {
     "name": "stderr",
     "output_type": "stream",
     "text": [
      "Epoch:  40%|██████████████████████████████▊                                              | 8/20 [00:00<00:00, 77.71it/s]"
     ]
    },
    {
     "name": "stdout",
     "output_type": "stream",
     "text": [
      "Begin group  2 training\n"
     ]
    },
    {
     "name": "stderr",
     "output_type": "stream",
     "text": [
      "Epoch:   0%|                                                                                     | 0/20 [00:00<?, ?it/s]"
     ]
    },
    {
     "name": "stdout",
     "output_type": "stream",
     "text": [
      "Begin group  3 training\n"
     ]
    },
    {
     "name": "stderr",
     "output_type": "stream",
     "text": [
      "                                                                                                                        "
     ]
    },
    {
     "name": "stdout",
     "output_type": "stream",
     "text": [
      "Begin group  4 training\n"
     ]
    },
    {
     "name": "stderr",
     "output_type": "stream",
     "text": [
      "\r"
     ]
    },
    {
     "name": "stdout",
     "output_type": "stream",
     "text": [
      "Training groups takes 4.380775690078735s seconds\n",
      "Group 0, clients ['f_00017', 'f_00087']\n",
      "Group 1, clients ['f_00052', 'f_00091', 'f_00021', 'f_00042', 'f_00152', 'f_00092', 'f_00101']\n",
      "Group 2, clients ['f_00144', 'f_00183', 'f_00124', 'f_00013']\n",
      "Group 3, clients ['f_00045', 'f_00006', 'f_00105', 'f_00145']\n",
      "Group 4, clients ['f_00009', 'f_00020', 'f_00129']\n"
     ]
    },
    {
     "name": "stderr",
     "output_type": "stream",
     "text": [
      "Epoch:   0%|                                                                                     | 0/20 [00:00<?, ?it/s]"
     ]
    },
    {
     "name": "stdout",
     "output_type": "stream",
     "text": [
      "Group 0\n",
      "At round 21 accuracy: 0.7138643067846607\n",
      "At round 21 training accuracy: 0.721642310368824\n",
      "At round 21 training loss: 0.7767261895937644\n",
      "Group 1\n",
      "At round 21 accuracy: 0.6840077071290944\n",
      "At round 21 training accuracy: 0.6911437472185136\n",
      "At round 21 training loss: 1.123193327125293\n",
      "Group 2\n",
      "At round 21 accuracy: 0.8638743455497382\n",
      "At round 21 training accuracy: 0.8674922600619195\n",
      "At round 21 training loss: 0.3711687317435217\n",
      "Group 3\n",
      "At round 21 accuracy: 0.7774294670846394\n",
      "At round 21 training accuracy: 0.7965722801788375\n",
      "At round 21 training loss: 0.5501570418898999\n",
      "Group 4\n",
      "At round 21 accuracy: 0.8273972602739726\n",
      "At round 21 training accuracy: 0.8117234788149092\n",
      "At round 21 training loss: 0.44983763460161275\n",
      "At round 21 mean test accuracy: 0.7676715176715176 mean train accuracy: 0.7714511905486876 mean train loss: 0.6922525254230604                     number of test client: 200\n",
      "The client-group discrepancy are: [1.00843611 1.3186922  0.75062584 1.32839336 0.99583524 0.99334751]\n",
      "Begin group  0 training\n"
     ]
    },
    {
     "name": "stderr",
     "output_type": "stream",
     "text": [
      "Epoch:  20%|███████████████▍                                                             | 4/20 [00:00<00:00, 31.13it/s]"
     ]
    },
    {
     "name": "stdout",
     "output_type": "stream",
     "text": [
      "Begin group  1 training\n"
     ]
    },
    {
     "name": "stderr",
     "output_type": "stream",
     "text": [
      "Epoch:   0%|                                                                                     | 0/20 [00:00<?, ?it/s]"
     ]
    },
    {
     "name": "stdout",
     "output_type": "stream",
     "text": [
      "Begin group  2 training\n"
     ]
    },
    {
     "name": "stderr",
     "output_type": "stream",
     "text": [
      "                                                                                                                        "
     ]
    },
    {
     "name": "stdout",
     "output_type": "stream",
     "text": [
      "Begin group  3 training\n"
     ]
    },
    {
     "name": "stderr",
     "output_type": "stream",
     "text": [
      "Epoch:   0%|                                                                                     | 0/20 [00:00<?, ?it/s]"
     ]
    },
    {
     "name": "stdout",
     "output_type": "stream",
     "text": [
      "Begin group  4 training\n"
     ]
    },
    {
     "name": "stderr",
     "output_type": "stream",
     "text": [
      "                                                                                                                        \r"
     ]
    },
    {
     "name": "stdout",
     "output_type": "stream",
     "text": [
      "Training groups takes 5.911869764328003s seconds\n",
      "Group 0, clients ['f_00157', 'f_00098', 'f_00078', 'f_00087', 'f_00128']\n",
      "Group 1, clients ['f_00032', 'f_00091', 'f_00012']\n",
      "Group 2, clients ['f_00144', 'f_00163', 'f_00124', 'f_00104']\n",
      "Group 3, clients ['f_00075', 'f_00176', 'f_00046', 'f_00036', 'f_00135']\n",
      "Group 4, clients ['f_00170', 'f_00189', 'f_00020']\n"
     ]
    },
    {
     "name": "stderr",
     "output_type": "stream",
     "text": [
      "Epoch:  55%|█████████████████████████████████████████▎                                 | 11/20 [00:00<00:00, 100.46it/s]"
     ]
    },
    {
     "name": "stdout",
     "output_type": "stream",
     "text": [
      "Group 0\n",
      "At round 22 accuracy: 0.7256637168141593\n",
      "At round 22 training accuracy: 0.7571329157967989\n",
      "At round 22 training loss: 1.1650638898825512\n",
      "Group 1\n",
      "At round 22 accuracy: 0.8053949903660886\n",
      "At round 22 training accuracy: 0.8184245660881175\n",
      "At round 22 training loss: 0.44919418282956086\n",
      "Group 2\n",
      "At round 22 accuracy: 0.8324607329842932\n",
      "At round 22 training accuracy: 0.8386996904024768\n",
      "At round 22 training loss: 0.4181988488363777\n",
      "Group 3\n",
      "At round 22 accuracy: 0.8056426332288401\n",
      "At round 22 training accuracy: 0.7969448584202683\n",
      "At round 22 training loss: 0.5721569323104468\n",
      "Group 4\n",
      "At round 22 accuracy: 0.7178082191780822\n",
      "At round 22 training accuracy: 0.7171073590315387\n",
      "At round 22 training loss: 0.6331267068533428\n",
      "At round 22 mean test accuracy: 0.7801455301455301 mean train accuracy: 0.7888070154071006 mean train loss: 0.6236470676593314                     number of test client: 200\n",
      "The client-group discrepancy are: [0.55540958 0.35035399 0.38537708 0.19368011 1.33873812 0.24395979]\n",
      "Begin group  0 training\n"
     ]
    },
    {
     "name": "stderr",
     "output_type": "stream",
     "text": [
      "Epoch:   0%|                                                                                     | 0/20 [00:00<?, ?it/s]"
     ]
    },
    {
     "name": "stdout",
     "output_type": "stream",
     "text": [
      "Begin group  1 training\n"
     ]
    },
    {
     "name": "stderr",
     "output_type": "stream",
     "text": [
      "Epoch:   0%|                                                                                     | 0/20 [00:00<?, ?it/s]"
     ]
    },
    {
     "name": "stdout",
     "output_type": "stream",
     "text": [
      "Begin group  2 training\n"
     ]
    },
    {
     "name": "stderr",
     "output_type": "stream",
     "text": [
      "Epoch:  30%|███████████████████████                                                      | 6/20 [00:00<00:00, 55.61it/s]"
     ]
    },
    {
     "name": "stdout",
     "output_type": "stream",
     "text": [
      "Begin group  3 training\n"
     ]
    },
    {
     "name": "stderr",
     "output_type": "stream",
     "text": [
      "Epoch:   0%|                                                                                     | 0/20 [00:00<?, ?it/s]"
     ]
    },
    {
     "name": "stdout",
     "output_type": "stream",
     "text": [
      "Begin group  4 training\n"
     ]
    },
    {
     "name": "stderr",
     "output_type": "stream",
     "text": [
      "                                                                                                                        \r"
     ]
    },
    {
     "name": "stdout",
     "output_type": "stream",
     "text": [
      "Training groups takes 5.829722881317139s seconds\n",
      "Group 0, clients ['f_00188', 'f_00077', 'f_00097', 'f_00198', 'f_00157']\n",
      "Group 1, clients ['f_00072', 'f_00081', 'f_00191', 'f_00092']\n",
      "Group 2, clients ['f_00014', 'f_00174', 'f_00024']\n",
      "Group 3, clients ['f_00185', 'f_00075', 'f_00046']\n",
      "Group 4, clients ['f_00030', 'f_00119', 'f_00019', 'f_00199', 'f_00140']\n"
     ]
    },
    {
     "name": "stderr",
     "output_type": "stream",
     "text": [
      "Epoch:   0%|                                                                                     | 0/20 [00:00<?, ?it/s]"
     ]
    },
    {
     "name": "stdout",
     "output_type": "stream",
     "text": [
      "Group 0\n",
      "At round 23 accuracy: 0.7109144542772862\n",
      "At round 23 training accuracy: 0.7237299930410578\n",
      "At round 23 training loss: 0.7461695530987814\n",
      "Group 1\n",
      "At round 23 accuracy: 0.720616570327553\n",
      "At round 23 training accuracy: 0.7283044058744993\n",
      "At round 23 training loss: 0.8193191796256056\n",
      "Group 2\n",
      "At round 23 accuracy: 0.8089005235602095\n",
      "At round 23 training accuracy: 0.820123839009288\n",
      "At round 23 training loss: 0.4822789781510645\n",
      "Group 3\n",
      "At round 23 accuracy: 0.8275862068965517\n",
      "At round 23 training accuracy: 0.8103576751117735\n",
      "At round 23 training loss: 0.5445431971064756\n",
      "Group 4\n",
      "At round 23 accuracy: 0.726027397260274\n",
      "At round 23 training accuracy: 0.7151959222682382\n",
      "At round 23 training loss: 0.6265484297795826\n",
      "At round 23 mean test accuracy: 0.7551975051975052 mean train accuracy: 0.7564703733024786 mean train loss: 0.6584594269766274                     number of test client: 200\n",
      "The client-group discrepancy are: [0.55755294 0.65031449 0.41477738 0.48515714 0.38326463 0.7270223 ]\n",
      "Begin group  0 training\n"
     ]
    },
    {
     "name": "stderr",
     "output_type": "stream",
     "text": [
      "Epoch:  35%|██████████████████████████▉                                                  | 7/20 [00:00<00:00, 69.24it/s]"
     ]
    },
    {
     "name": "stdout",
     "output_type": "stream",
     "text": [
      "Begin group  1 training\n"
     ]
    },
    {
     "name": "stderr",
     "output_type": "stream",
     "text": [
      "Epoch:  30%|███████████████████████                                                      | 6/20 [00:00<00:00, 57.63it/s]"
     ]
    },
    {
     "name": "stdout",
     "output_type": "stream",
     "text": [
      "Begin group  2 training\n"
     ]
    },
    {
     "name": "stderr",
     "output_type": "stream",
     "text": [
      "Epoch:  55%|█████████████████████████████████████████▎                                 | 11/20 [00:00<00:00, 100.78it/s]"
     ]
    },
    {
     "name": "stdout",
     "output_type": "stream",
     "text": [
      "Begin group  3 training\n"
     ]
    },
    {
     "name": "stderr",
     "output_type": "stream",
     "text": [
      "Epoch:   0%|                                                                                     | 0/20 [00:00<?, ?it/s]"
     ]
    },
    {
     "name": "stdout",
     "output_type": "stream",
     "text": [
      "Begin group  4 training\n"
     ]
    },
    {
     "name": "stderr",
     "output_type": "stream",
     "text": [
      "                                                                                                                        \r"
     ]
    },
    {
     "name": "stdout",
     "output_type": "stream",
     "text": [
      "Training groups takes 4.489854097366333s seconds\n",
      "Group 0, clients ['f_00197', 'f_00048']\n",
      "Group 1, clients ['f_00101', 'f_00142', 'f_00072', 'f_00091', 'f_00102']\n",
      "Group 2, clients ['f_00014', 'f_00144', 'f_00054']\n",
      "Group 3, clients ['f_00125', 'f_00196', 'f_00025', 'f_00026']\n",
      "Group 4, clients ['f_00109', 'f_00029', 'f_00190', 'f_00159', 'f_00069', 'f_00000']\n"
     ]
    },
    {
     "name": "stderr",
     "output_type": "stream",
     "text": [
      "Epoch:  50%|██████████████████████████████████████                                      | 10/20 [00:00<00:00, 90.59it/s]"
     ]
    },
    {
     "name": "stdout",
     "output_type": "stream",
     "text": [
      "Group 0\n",
      "At round 24 accuracy: 0.7463126843657817\n",
      "At round 24 training accuracy: 0.7578288100208769\n",
      "At round 24 training loss: 0.6048074961330796\n",
      "Group 1\n",
      "At round 24 accuracy: 0.7726396917148363\n",
      "At round 24 training accuracy: 0.7774810858923008\n",
      "At round 24 training loss: 0.5419813734216058\n",
      "Group 2\n",
      "At round 24 accuracy: 0.774869109947644\n",
      "At round 24 training accuracy: 0.7671826625386997\n",
      "At round 24 training loss: 0.7605881548887435\n",
      "Group 3\n",
      "At round 24 accuracy: 0.8307210031347962\n",
      "At round 24 training accuracy: 0.8278688524590164\n",
      "At round 24 training loss: 0.6554030409490831\n",
      "Group 4\n",
      "At round 24 accuracy: 0.7452054794520548\n",
      "At round 24 training accuracy: 0.7362217266645429\n",
      "At round 24 training loss: 0.8118900869370418\n",
      "At round 24 mean test accuracy: 0.7728690228690228 mean train accuracy: 0.7723646550149199 mean train loss: 0.6661108045269181                     number of test client: 200\n",
      "The client-group discrepancy are: [0.62605301 1.60697089 0.43188828 0.1751411  0.86189675 0.52911111]\n",
      "Begin group  0 training\n"
     ]
    },
    {
     "name": "stderr",
     "output_type": "stream",
     "text": [
      "Epoch:   0%|                                                                                     | 0/20 [00:00<?, ?it/s]"
     ]
    },
    {
     "name": "stdout",
     "output_type": "stream",
     "text": [
      "Begin group  1 training\n"
     ]
    },
    {
     "name": "stderr",
     "output_type": "stream",
     "text": [
      "Epoch:  35%|██████████████████████████▉                                                  | 7/20 [00:00<00:00, 61.12it/s]"
     ]
    },
    {
     "name": "stdout",
     "output_type": "stream",
     "text": [
      "Begin group  2 training\n"
     ]
    },
    {
     "name": "stderr",
     "output_type": "stream",
     "text": [
      "Epoch:  50%|██████████████████████████████████████                                      | 10/20 [00:00<00:00, 91.48it/s]"
     ]
    },
    {
     "name": "stdout",
     "output_type": "stream",
     "text": [
      "Begin group  3 training\n"
     ]
    },
    {
     "name": "stderr",
     "output_type": "stream",
     "text": [
      "Epoch:   0%|                                                                                     | 0/20 [00:00<?, ?it/s]"
     ]
    },
    {
     "name": "stdout",
     "output_type": "stream",
     "text": [
      "Begin group  4 training\n"
     ]
    },
    {
     "name": "stderr",
     "output_type": "stream",
     "text": [
      "                                                                                                                        \r"
     ]
    },
    {
     "name": "stdout",
     "output_type": "stream",
     "text": [
      "Training groups takes 5.132952928543091s seconds\n",
      "Group 0, clients ['f_00148', 'f_00068', 'f_00117', 'f_00169', 'f_00097']\n",
      "Group 1, clients ['f_00082', 'f_00101', 'f_00111', 'f_00102', 'f_00122', 'f_00081']\n",
      "Group 2, clients ['f_00193', 'f_00103']\n",
      "Group 3, clients ['f_00135', 'f_00126', 'f_00035', 'f_00176']\n",
      "Group 4, clients ['f_00069', 'f_00040', 'f_00120']\n"
     ]
    },
    {
     "name": "stderr",
     "output_type": "stream",
     "text": [
      "Epoch:   0%|                                                                                     | 0/20 [00:00<?, ?it/s]"
     ]
    },
    {
     "name": "stdout",
     "output_type": "stream",
     "text": [
      "Group 0\n",
      "At round 25 accuracy: 0.7433628318584071\n",
      "At round 25 training accuracy: 0.7536534446764092\n",
      "At round 25 training loss: 0.668422505228405\n",
      "Group 1\n",
      "At round 25 accuracy: 0.8400770712909441\n",
      "At round 25 training accuracy: 0.8538050734312417\n",
      "At round 25 training loss: 0.37405758763240293\n",
      "Group 2\n",
      "At round 25 accuracy: 0.8036649214659686\n",
      "At round 25 training accuracy: 0.7910216718266254\n",
      "At round 25 training loss: 0.8251170718632984\n",
      "Group 3\n",
      "At round 25 accuracy: 0.768025078369906\n",
      "At round 25 training accuracy: 0.7477645305514158\n",
      "At round 25 training loss: 0.6022749116141821\n",
      "Group 4\n",
      "At round 25 accuracy: 0.7479452054794521\n",
      "At round 25 training accuracy: 0.727620261229691\n",
      "At round 25 training loss: 0.6949185334447464\n",
      "At round 25 mean test accuracy: 0.7863825363825364 mean train accuracy: 0.782473661774557 mean train loss: 0.6129373582741875                     number of test client: 200\n",
      "The client-group discrepancy are: [0.6572581  1.01601271 0.45745634 0.82239219 0.6272387  0.38887376]\n",
      "Begin group  0 training\n"
     ]
    },
    {
     "name": "stderr",
     "output_type": "stream",
     "text": [
      "Epoch:  40%|██████████████████████████████▊                                              | 8/20 [00:00<00:00, 77.90it/s]"
     ]
    },
    {
     "name": "stdout",
     "output_type": "stream",
     "text": [
      "Begin group  1 training\n"
     ]
    },
    {
     "name": "stderr",
     "output_type": "stream",
     "text": [
      "Epoch:  80%|████████████████████████████████████████████████████████████               | 16/20 [00:00<00:00, 151.89it/s]"
     ]
    },
    {
     "name": "stdout",
     "output_type": "stream",
     "text": [
      "Begin group  2 training\n"
     ]
    },
    {
     "name": "stderr",
     "output_type": "stream",
     "text": [
      "Epoch:  25%|███████████████████▎                                                         | 5/20 [00:00<00:00, 45.08it/s]"
     ]
    },
    {
     "name": "stdout",
     "output_type": "stream",
     "text": [
      "Begin group  3 training\n"
     ]
    },
    {
     "name": "stderr",
     "output_type": "stream",
     "text": [
      "Epoch:  40%|██████████████████████████████▊                                              | 8/20 [00:00<00:00, 76.11it/s]"
     ]
    },
    {
     "name": "stdout",
     "output_type": "stream",
     "text": [
      "Begin group  4 training\n"
     ]
    },
    {
     "name": "stderr",
     "output_type": "stream",
     "text": [
      "                                                                                                                        \r"
     ]
    },
    {
     "name": "stdout",
     "output_type": "stream",
     "text": [
      "Training groups takes 5.121969223022461s seconds\n",
      "Group 0, clients ['f_00188', 'f_00167', 'f_00137', 'f_00108', 'f_00118', 'f_00168']\n",
      "Group 1, clients ['f_00042']\n",
      "Group 2, clients ['f_00153', 'f_00163', 'f_00124', 'f_00174']\n",
      "Group 3, clients ['f_00025', 'f_00196', 'f_00136', 'f_00116', 'f_00186']\n",
      "Group 4, clients ['f_00109', 'f_00030', 'f_00050', 'f_00129']\n"
     ]
    },
    {
     "name": "stderr",
     "output_type": "stream",
     "text": [
      "Epoch:   0%|                                                                                     | 0/20 [00:00<?, ?it/s]"
     ]
    },
    {
     "name": "stdout",
     "output_type": "stream",
     "text": [
      "Group 0\n",
      "At round 26 accuracy: 0.7787610619469026\n",
      "At round 26 training accuracy: 0.7393876130828114\n",
      "At round 26 training loss: 0.631518324776167\n",
      "Group 1\n",
      "At round 26 accuracy: 0.8497109826589595\n",
      "At round 26 training accuracy: 0.851357365376057\n",
      "At round 26 training loss: 0.46206516679666493\n",
      "Group 2\n",
      "At round 26 accuracy: 0.8010471204188482\n",
      "At round 26 training accuracy: 0.8046439628482972\n",
      "At round 26 training loss: 0.5718022078114213\n",
      "Group 3\n",
      "At round 26 accuracy: 0.8150470219435737\n",
      "At round 26 training accuracy: 0.8099850968703428\n",
      "At round 26 training loss: 0.6151156087424023\n",
      "Group 4\n",
      "At round 26 accuracy: 0.7917808219178082\n",
      "At round 26 training accuracy: 0.7642561325262822\n",
      "At round 26 training loss: 0.5208497314021708\n",
      "At round 26 mean test accuracy: 0.8108108108108109 mean train accuracy: 0.7991596126910663 mean train loss: 0.549561126420914                     number of test client: 200\n",
      "The client-group discrepancy are: [0.6684308  0.93104275 0.32006233 0.47922551 0.44913114 0.82493487]\n",
      "Begin group  0 training\n"
     ]
    },
    {
     "name": "stderr",
     "output_type": "stream",
     "text": [
      "                                                                                                                        "
     ]
    },
    {
     "name": "stdout",
     "output_type": "stream",
     "text": [
      "Begin group  1 training\n"
     ]
    },
    {
     "name": "stderr",
     "output_type": "stream",
     "text": [
      "Epoch:   0%|                                                                                     | 0/20 [00:00<?, ?it/s]"
     ]
    },
    {
     "name": "stdout",
     "output_type": "stream",
     "text": [
      "Begin group  2 training\n"
     ]
    },
    {
     "name": "stderr",
     "output_type": "stream",
     "text": [
      "Epoch:  40%|██████████████████████████████▊                                              | 8/20 [00:00<00:00, 74.80it/s]"
     ]
    },
    {
     "name": "stdout",
     "output_type": "stream",
     "text": [
      "Begin group  3 training\n"
     ]
    },
    {
     "name": "stderr",
     "output_type": "stream",
     "text": [
      "Epoch:   0%|                                                                                     | 0/20 [00:00<?, ?it/s]"
     ]
    },
    {
     "name": "stdout",
     "output_type": "stream",
     "text": [
      "Begin group  4 training\n"
     ]
    },
    {
     "name": "stderr",
     "output_type": "stream",
     "text": [
      "                                                                                                                        \r"
     ]
    },
    {
     "name": "stdout",
     "output_type": "stream",
     "text": [
      "Training groups takes 4.589635372161865s seconds\n",
      "Group 0, clients ['f_00048', 'f_00148', 'f_00197', 'f_00068', 'f_00078', 'f_00058']\n",
      "Group 1, clients ['f_00162', 'f_00101', 'f_00012']\n",
      "Group 2, clients ['f_00103', 'f_00074', 'f_00173']\n",
      "Group 3, clients ['f_00185', 'f_00165', 'f_00095']\n",
      "Group 4, clients ['f_00040', 'f_00109', 'f_00139', 'f_00009', 'f_00090']\n"
     ]
    },
    {
     "name": "stderr",
     "output_type": "stream",
     "text": [
      "Epoch:   0%|                                                                                     | 0/20 [00:00<?, ?it/s]"
     ]
    },
    {
     "name": "stdout",
     "output_type": "stream",
     "text": [
      "Group 0\n",
      "At round 27 accuracy: 0.6991150442477876\n",
      "At round 27 training accuracy: 0.674669450243563\n",
      "At round 27 training loss: 0.8568991059456837\n",
      "Group 1\n",
      "At round 27 accuracy: 0.8497109826589595\n",
      "At round 27 training accuracy: 0.8493546951490877\n",
      "At round 27 training loss: 0.4867261761147073\n",
      "Group 2\n",
      "At round 27 accuracy: 0.8481675392670157\n",
      "At round 27 training accuracy: 0.8653250773993808\n",
      "At round 27 training loss: 0.36877019354387336\n",
      "Group 3\n",
      "At round 27 accuracy: 0.8025078369905956\n",
      "At round 27 training accuracy: 0.8137108792846498\n",
      "At round 27 training loss: 0.505578290601712\n",
      "Group 4\n",
      "At round 27 accuracy: 0.8383561643835616\n",
      "At round 27 training accuracy: 0.8247849633641287\n",
      "At round 27 training loss: 0.4438364926741054\n",
      "At round 27 mean test accuracy: 0.8128898128898129 mean train accuracy: 0.8114000365385786 mean train loss: 0.5231945724117357                     number of test client: 200\n",
      "The client-group discrepancy are: [0.54492853 0.27473592 0.53840199 0.43210378 1.17923598 0.56018596]\n",
      "Begin group  0 training\n"
     ]
    },
    {
     "name": "stderr",
     "output_type": "stream",
     "text": [
      "Epoch:   0%|                                                                                     | 0/20 [00:00<?, ?it/s]"
     ]
    },
    {
     "name": "stdout",
     "output_type": "stream",
     "text": [
      "Begin group  1 training\n"
     ]
    },
    {
     "name": "stderr",
     "output_type": "stream",
     "text": [
      "Epoch:   0%|                                                                                     | 0/20 [00:00<?, ?it/s]"
     ]
    },
    {
     "name": "stdout",
     "output_type": "stream",
     "text": [
      "Begin group  2 training\n"
     ]
    },
    {
     "name": "stderr",
     "output_type": "stream",
     "text": [
      "Epoch:  50%|██████████████████████████████████████                                      | 10/20 [00:00<00:00, 98.82it/s]"
     ]
    },
    {
     "name": "stdout",
     "output_type": "stream",
     "text": [
      "Begin group  3 training\n"
     ]
    },
    {
     "name": "stderr",
     "output_type": "stream",
     "text": [
      "Epoch:   0%|                                                                                     | 0/20 [00:00<?, ?it/s]"
     ]
    },
    {
     "name": "stdout",
     "output_type": "stream",
     "text": [
      "Begin group  4 training\n"
     ]
    },
    {
     "name": "stderr",
     "output_type": "stream",
     "text": [
      "                                                                                                                        \r"
     ]
    },
    {
     "name": "stdout",
     "output_type": "stream",
     "text": [
      "Training groups takes 3.6045949459075928s seconds\n",
      "Group 0, clients ['f_00067', 'f_00187', 'f_00168', 'f_00127', 'f_00128', 'f_00059', 'f_00177', 'f_00098']\n",
      "Group 1, clients ['f_00061', 'f_00051']\n",
      "Group 2, clients ['f_00024', 'f_00073', 'f_00134', 'f_00164']\n",
      "Group 3, clients ['f_00065', 'f_00075', 'f_00126']\n",
      "Group 4, clients ['f_00170', 'f_00099', 'f_00069']\n"
     ]
    },
    {
     "name": "stderr",
     "output_type": "stream",
     "text": [
      "\r",
      "Epoch:   0%|                                                                                     | 0/20 [00:00<?, ?it/s]"
     ]
    },
    {
     "name": "stdout",
     "output_type": "stream",
     "text": [
      "Group 0\n",
      "At round 28 accuracy: 0.7138643067846607\n",
      "At round 28 training accuracy: 0.7032011134307585\n",
      "At round 28 training loss: 0.7012677178066807\n",
      "Group 1\n",
      "At round 28 accuracy: 0.8092485549132948\n",
      "At round 28 training accuracy: 0.8293279928793947\n",
      "At round 28 training loss: 0.4343522435985091\n",
      "Group 2\n",
      "At round 28 accuracy: 0.8586387434554974\n",
      "At round 28 training accuracy: 0.8804953560371517\n",
      "At round 28 training loss: 0.33460250449346685\n",
      "Group 3\n",
      "At round 28 accuracy: 0.8338557993730408\n",
      "At round 28 training accuracy: 0.8342026825633383\n",
      "At round 28 training loss: 0.6922300728384944\n",
      "Group 4\n",
      "At round 28 accuracy: 0.8493150684931506\n",
      "At round 28 training accuracy: 0.8410321758521823\n",
      "At round 28 training loss: 0.44060025156474714\n",
      "At round 28 mean test accuracy: 0.8139293139293139 mean train accuracy: 0.8203519883076549 mean train loss: 0.504791315899291                     number of test client: 200\n",
      "The client-group discrepancy are: [0.54359636 0.54630893 0.88086783 0.43048596 0.41440919 0.59151624]\n",
      "Begin group  0 training\n"
     ]
    },
    {
     "name": "stderr",
     "output_type": "stream",
     "text": [
      "Epoch:  65%|████████████████████████████████████████████████▊                          | 13/20 [00:00<00:00, 125.34it/s]"
     ]
    },
    {
     "name": "stdout",
     "output_type": "stream",
     "text": [
      "Begin group  1 training\n"
     ]
    },
    {
     "name": "stderr",
     "output_type": "stream",
     "text": [
      "Epoch:  15%|███████████▌                                                                 | 3/20 [00:00<00:00, 27.00it/s]"
     ]
    },
    {
     "name": "stdout",
     "output_type": "stream",
     "text": [
      "Begin group  2 training\n"
     ]
    },
    {
     "name": "stderr",
     "output_type": "stream",
     "text": [
      "Epoch:  50%|██████████████████████████████████████                                      | 10/20 [00:00<00:00, 91.28it/s]"
     ]
    },
    {
     "name": "stdout",
     "output_type": "stream",
     "text": [
      "Begin group  3 training\n"
     ]
    },
    {
     "name": "stderr",
     "output_type": "stream",
     "text": [
      "Epoch:   0%|                                                                                     | 0/20 [00:00<?, ?it/s]"
     ]
    },
    {
     "name": "stdout",
     "output_type": "stream",
     "text": [
      "Begin group  4 training\n"
     ]
    },
    {
     "name": "stderr",
     "output_type": "stream",
     "text": [
      "                                                                                                                        \r"
     ]
    },
    {
     "name": "stdout",
     "output_type": "stream",
     "text": [
      "Training groups takes 6.627220392227173s seconds\n",
      "Group 0, clients ['f_00197', 'f_00088', 'f_00008', 'f_00138', 'f_00198', 'f_00128', 'f_00027']\n",
      "Group 1, clients ['f_00141', 'f_00061', 'f_00101', 'f_00161']\n",
      "Group 2, clients ['f_00183', 'f_00053', 'f_00063']\n",
      "Group 3, clients ['f_00145', 'f_00075', 'f_00135', 'f_00165', 'f_00126']\n",
      "Group 4, clients ['f_00119']\n"
     ]
    },
    {
     "name": "stderr",
     "output_type": "stream",
     "text": [
      "Epoch:  50%|██████████████████████████████████████                                      | 10/20 [00:00<00:00, 94.65it/s]"
     ]
    },
    {
     "name": "stdout",
     "output_type": "stream",
     "text": [
      "Group 0\n",
      "At round 29 accuracy: 0.7109144542772862\n",
      "At round 29 training accuracy: 0.7094641614474599\n",
      "At round 29 training loss: 0.7013489371198038\n",
      "Group 1\n",
      "At round 29 accuracy: 0.7283236994219653\n",
      "At round 29 training accuracy: 0.7314196706720071\n",
      "At round 29 training loss: 0.8328878845842111\n",
      "Group 2\n",
      "At round 29 accuracy: 0.7984293193717278\n",
      "At round 29 training accuracy: 0.8117647058823529\n",
      "At round 29 training loss: 0.47058748853834054\n",
      "Group 3\n",
      "At round 29 accuracy: 0.8338557993730408\n",
      "At round 29 training accuracy: 0.8330849478390462\n",
      "At round 29 training loss: 0.6663390856858027\n",
      "Group 4\n",
      "At round 29 accuracy: 0.7589041095890411\n",
      "At round 29 training accuracy: 0.7534246575342466\n",
      "At round 29 training loss: 0.623479637029863\n",
      "At round 29 mean test accuracy: 0.7624740124740125 mean train accuracy: 0.7642043724499117 mean train loss: 0.6713494472443843                     number of test client: 200\n",
      "The client-group discrepancy are: [0.69143898 0.89304653 1.08724042 0.74629374 0.15254444 0.22688879]\n",
      "Begin group  0 training\n"
     ]
    },
    {
     "name": "stderr",
     "output_type": "stream",
     "text": [
      "Epoch:   0%|                                                                                     | 0/20 [00:00<?, ?it/s]"
     ]
    },
    {
     "name": "stdout",
     "output_type": "stream",
     "text": [
      "Begin group  1 training\n"
     ]
    },
    {
     "name": "stderr",
     "output_type": "stream",
     "text": [
      "Epoch:   0%|                                                                                     | 0/20 [00:00<?, ?it/s]"
     ]
    },
    {
     "name": "stdout",
     "output_type": "stream",
     "text": [
      "Begin group  2 training\n"
     ]
    },
    {
     "name": "stderr",
     "output_type": "stream",
     "text": [
      "Epoch:  45%|██████████████████████████████████▋                                          | 9/20 [00:00<00:00, 89.97it/s]"
     ]
    },
    {
     "name": "stdout",
     "output_type": "stream",
     "text": [
      "Begin group  3 training\n"
     ]
    },
    {
     "name": "stderr",
     "output_type": "stream",
     "text": [
      "Epoch:  45%|██████████████████████████████████▋                                          | 9/20 [00:00<00:00, 83.53it/s]"
     ]
    },
    {
     "name": "stdout",
     "output_type": "stream",
     "text": [
      "Begin group  4 training\n"
     ]
    },
    {
     "name": "stderr",
     "output_type": "stream",
     "text": [
      "                                                                                                                        \r"
     ]
    },
    {
     "name": "stdout",
     "output_type": "stream",
     "text": [
      "Training groups takes 4.445184230804443s seconds\n",
      "Group 0, clients ['f_00097', 'f_00067']\n",
      "Group 1, clients ['f_00081', 'f_00142', 'f_00171', 'f_00072', 'f_00021', 'f_00111']\n",
      "Group 2, clients ['f_00143', 'f_00124', 'f_00024', 'f_00184', 'f_00063', 'f_00093', 'f_00183']\n",
      "Group 3, clients ['f_00026', 'f_00126', 'f_00106']\n",
      "Group 4, clients ['f_00150', 'f_00129']\n"
     ]
    },
    {
     "name": "stderr",
     "output_type": "stream",
     "text": [
      "Epoch:   0%|                                                                                     | 0/20 [00:00<?, ?it/s]"
     ]
    },
    {
     "name": "stdout",
     "output_type": "stream",
     "text": [
      "Group 0\n",
      "At round 30 accuracy: 0.8436578171091446\n",
      "At round 30 training accuracy: 0.813848295059151\n",
      "At round 30 training loss: 0.5227462602059876\n",
      "Group 1\n",
      "At round 30 accuracy: 0.6994219653179191\n",
      "At round 30 training accuracy: 0.7129506008010681\n",
      "At round 30 training loss: 0.974501531426913\n",
      "Group 2\n",
      "At round 30 accuracy: 0.8141361256544503\n",
      "At round 30 training accuracy: 0.8099071207430341\n",
      "At round 30 training loss: 0.8658454085570463\n",
      "Group 3\n",
      "At round 30 accuracy: 0.8338557993730408\n",
      "At round 30 training accuracy: 0.8342026825633383\n",
      "At round 30 training loss: 0.7632243517264391\n",
      "Group 4\n",
      "At round 30 accuracy: 0.7589041095890411\n",
      "At round 30 training accuracy: 0.7524689391525964\n",
      "At round 30 training loss: 1.0883207665593162\n",
      "At round 30 mean test accuracy: 0.7811850311850311 mean train accuracy: 0.7770537726082455 mean train loss: 0.8612871536427301                     number of test client: 200\n",
      "The client-group discrepancy are: [0.4607444  0.24571278 0.50288413 0.50945285 0.50459149 0.31310661]\n",
      "Begin group  0 training\n"
     ]
    },
    {
     "name": "stderr",
     "output_type": "stream",
     "text": [
      "Epoch:  55%|█████████████████████████████████████████▎                                 | 11/20 [00:00<00:00, 103.43it/s]"
     ]
    },
    {
     "name": "stdout",
     "output_type": "stream",
     "text": [
      "Begin group  1 training\n"
     ]
    },
    {
     "name": "stderr",
     "output_type": "stream",
     "text": [
      "Epoch:   0%|                                                                                     | 0/20 [00:00<?, ?it/s]"
     ]
    },
    {
     "name": "stdout",
     "output_type": "stream",
     "text": [
      "Begin group  2 training\n"
     ]
    },
    {
     "name": "stderr",
     "output_type": "stream",
     "text": [
      "Epoch:  40%|██████████████████████████████▊                                              | 8/20 [00:00<00:00, 70.87it/s]"
     ]
    },
    {
     "name": "stdout",
     "output_type": "stream",
     "text": [
      "Begin group  3 training\n"
     ]
    },
    {
     "name": "stderr",
     "output_type": "stream",
     "text": [
      "Epoch:   0%|                                                                                     | 0/20 [00:00<?, ?it/s]"
     ]
    },
    {
     "name": "stdout",
     "output_type": "stream",
     "text": [
      "Begin group  4 training\n"
     ]
    },
    {
     "name": "stderr",
     "output_type": "stream",
     "text": [
      "                                                                                                                        \r"
     ]
    },
    {
     "name": "stdout",
     "output_type": "stream",
     "text": [
      "Training groups takes 4.799259185791016s seconds\n",
      "Group 0, clients ['f_00148', 'f_00008', 'f_00137', 'f_00147', 'f_00169', 'f_00118', 'f_00017', 'f_00157']\n",
      "Group 1, clients ['f_00102', 'f_00041']\n",
      "Group 2, clients ['f_00043']\n",
      "Group 3, clients ['f_00056', 'f_00055', 'f_00045', 'f_00096']\n",
      "Group 4, clients ['f_00079', 'f_00179', 'f_00139', 'f_00189', 'f_00010']\n"
     ]
    },
    {
     "name": "stderr",
     "output_type": "stream",
     "text": [
      "Epoch:   0%|                                                                                     | 0/20 [00:00<?, ?it/s]"
     ]
    },
    {
     "name": "stdout",
     "output_type": "stream",
     "text": [
      "Group 0\n",
      "At round 31 accuracy: 0.7345132743362832\n",
      "At round 31 training accuracy: 0.7613082811412665\n",
      "At round 31 training loss: 1.084695187764775\n",
      "Group 1\n",
      "At round 31 accuracy: 0.7707129094412332\n",
      "At round 31 training accuracy: 0.7721406319537161\n",
      "At round 31 training loss: 0.5749325358325845\n",
      "Group 2\n",
      "At round 31 accuracy: 0.837696335078534\n",
      "At round 31 training accuracy: 0.8504643962848297\n",
      "At round 31 training loss: 0.42312318837679574\n",
      "Group 3\n",
      "At round 31 accuracy: 0.7711598746081505\n",
      "At round 31 training accuracy: 0.7827868852459017\n",
      "At round 31 training loss: 0.6863990029606041\n",
      "Group 4\n",
      "At round 31 accuracy: 0.7589041095890411\n",
      "At round 31 training accuracy: 0.7534246575342466\n",
      "At round 31 training loss: 0.630792725970123\n",
      "At round 31 mean test accuracy: 0.7754677754677755 mean train accuracy: 0.7838134096583643 mean train loss: 0.663187502277031                     number of test client: 200\n",
      "The client-group discrepancy are: [0.74496401 0.51975385 0.69472373 3.03703087 0.76620057 0.64999375]\n",
      "Begin group  0 training\n"
     ]
    },
    {
     "name": "stderr",
     "output_type": "stream",
     "text": [
      "Epoch:  20%|███████████████▍                                                             | 4/20 [00:00<00:00, 30.35it/s]"
     ]
    },
    {
     "name": "stdout",
     "output_type": "stream",
     "text": [
      "Begin group  1 training\n"
     ]
    },
    {
     "name": "stderr",
     "output_type": "stream",
     "text": [
      "Epoch:   0%|                                                                                     | 0/20 [00:00<?, ?it/s]"
     ]
    },
    {
     "name": "stdout",
     "output_type": "stream",
     "text": [
      "Begin group  2 training\n",
      "Begin group  3 training\n"
     ]
    },
    {
     "name": "stderr",
     "output_type": "stream",
     "text": [
      "Epoch:  30%|███████████████████████                                                      | 6/20 [00:00<00:00, 57.87it/s]"
     ]
    },
    {
     "name": "stdout",
     "output_type": "stream",
     "text": [
      "Begin group  4 training\n"
     ]
    },
    {
     "name": "stderr",
     "output_type": "stream",
     "text": [
      "                                                                                                                        \r"
     ]
    },
    {
     "name": "stdout",
     "output_type": "stream",
     "text": [
      "Training groups takes 4.998958349227905s seconds\n",
      "Group 0, clients ['f_00167', 'f_00028', 'f_00027', 'f_00107', 'f_00017', 'f_00118']\n",
      "Group 1, clients ['f_00122', 'f_00101', 'f_00121', 'f_00182', 'f_00181', 'f_00002']\n",
      "Group 2, clients ['f_00144', 'f_00023', 'f_00173']\n",
      "Group 3, clients ['f_00186', 'f_00075']\n",
      "Group 4, clients ['f_00029', 'f_00039', 'f_00109']\n"
     ]
    },
    {
     "name": "stderr",
     "output_type": "stream",
     "text": [
      "Epoch:  55%|█████████████████████████████████████████▎                                 | 11/20 [00:00<00:00, 105.88it/s]"
     ]
    },
    {
     "name": "stdout",
     "output_type": "stream",
     "text": [
      "Group 0\n",
      "At round 32 accuracy: 0.7463126843657817\n",
      "At round 32 training accuracy: 0.732080723729993\n",
      "At round 32 training loss: 0.7052491643649468\n",
      "Group 1\n",
      "At round 32 accuracy: 0.7996146435452793\n",
      "At round 32 training accuracy: 0.7963951935914553\n",
      "At round 32 training loss: 0.6041769097261976\n",
      "Group 2\n",
      "At round 32 accuracy: 0.819371727748691\n",
      "At round 32 training accuracy: 0.8142414860681114\n",
      "At round 32 training loss: 0.5541703090463814\n",
      "Group 3\n",
      "At round 32 accuracy: 0.8150470219435737\n",
      "At round 32 training accuracy: 0.8215350223546944\n",
      "At round 32 training loss: 0.42519184574484825\n",
      "Group 4\n",
      "At round 32 accuracy: 0.726027397260274\n",
      "At round 32 training accuracy: 0.7234788149092067\n",
      "At round 32 training loss: 0.6590060963490921\n",
      "At round 32 mean test accuracy: 0.7827442827442828 mean train accuracy: 0.7788198039096279 mean train loss: 0.5932563351399534                     number of test client: 200\n",
      "The client-group discrepancy are: [0.60729016 0.76821437 0.74875701 0.50537324 0.21109971 0.36855194]\n",
      "Begin group  0 training\n"
     ]
    },
    {
     "name": "stderr",
     "output_type": "stream",
     "text": [
      "Epoch:  15%|███████████▌                                                                 | 3/20 [00:00<00:00, 24.80it/s]"
     ]
    },
    {
     "name": "stdout",
     "output_type": "stream",
     "text": [
      "Begin group  1 training\n"
     ]
    },
    {
     "name": "stderr",
     "output_type": "stream",
     "text": [
      "Epoch:   0%|                                                                                     | 0/20 [00:00<?, ?it/s]"
     ]
    },
    {
     "name": "stdout",
     "output_type": "stream",
     "text": [
      "Begin group  2 training\n"
     ]
    },
    {
     "name": "stderr",
     "output_type": "stream",
     "text": [
      "Epoch:   0%|                                                                                     | 0/20 [00:00<?, ?it/s]"
     ]
    },
    {
     "name": "stdout",
     "output_type": "stream",
     "text": [
      "Begin group  3 training\n"
     ]
    },
    {
     "name": "stderr",
     "output_type": "stream",
     "text": [
      "Epoch:  55%|█████████████████████████████████████████▎                                 | 11/20 [00:00<00:00, 103.95it/s]"
     ]
    },
    {
     "name": "stdout",
     "output_type": "stream",
     "text": [
      "Begin group  4 training\n"
     ]
    },
    {
     "name": "stderr",
     "output_type": "stream",
     "text": [
      "                                                                                                                        \r"
     ]
    },
    {
     "name": "stdout",
     "output_type": "stream",
     "text": [
      "Training groups takes 5.6534974575042725s seconds\n",
      "Group 0, clients ['f_00017', 'f_00117', 'f_00008', 'f_00118', 'f_00038']\n",
      "Group 1, clients ['f_00171', 'f_00162', 'f_00081']\n",
      "Group 2, clients ['f_00103', 'f_00054']\n",
      "Group 3, clients ['f_00015', 'f_00116', 'f_00126', 'f_00085']\n",
      "Group 4, clients ['f_00119', 'f_00100', 'f_00109', 'f_00029', 'f_00149', 'f_00189']\n"
     ]
    },
    {
     "name": "stderr",
     "output_type": "stream",
     "text": [
      "Epoch:   0%|                                                                                     | 0/20 [00:00<?, ?it/s]"
     ]
    },
    {
     "name": "stdout",
     "output_type": "stream",
     "text": [
      "Group 0\n",
      "At round 33 accuracy: 0.6076696165191741\n",
      "At round 33 training accuracy: 0.5873347251217815\n",
      "At round 33 training loss: 0.9146123430591203\n",
      "Group 1\n",
      "At round 33 accuracy: 0.7938342967244701\n",
      "At round 33 training accuracy: 0.8075211392968402\n",
      "At round 33 training loss: 0.4799669855997517\n",
      "Group 2\n",
      "At round 33 accuracy: 0.8403141361256544\n",
      "At round 33 training accuracy: 0.8256965944272446\n",
      "At round 33 training loss: 0.5138641950089035\n",
      "Group 3\n",
      "At round 33 accuracy: 0.8275862068965517\n",
      "At round 33 training accuracy: 0.8174366616989568\n",
      "At round 33 training loss: 0.5146661437409423\n",
      "Group 4\n",
      "At round 33 accuracy: 0.6876712328767123\n",
      "At round 33 training accuracy: 0.7021344377190188\n",
      "At round 33 training loss: 0.9640063548371001\n",
      "At round 33 mean test accuracy: 0.7557172557172557 mean train accuracy: 0.7540344680591925 mean train loss: 0.6609054707234822                     number of test client: 200\n",
      "The client-group discrepancy are: [0.4810104  0.80615049 0.2400944  0.37984449 0.54694461 0.32028417]\n",
      "Begin group  0 training\n"
     ]
    },
    {
     "name": "stderr",
     "output_type": "stream",
     "text": [
      "                                                                                                                        "
     ]
    },
    {
     "name": "stdout",
     "output_type": "stream",
     "text": [
      "Begin group  1 training\n"
     ]
    },
    {
     "name": "stderr",
     "output_type": "stream",
     "text": [
      "Epoch:   0%|                                                                                     | 0/20 [00:00<?, ?it/s]"
     ]
    },
    {
     "name": "stdout",
     "output_type": "stream",
     "text": [
      "Begin group  2 training\n"
     ]
    },
    {
     "name": "stderr",
     "output_type": "stream",
     "text": [
      "Epoch:  30%|███████████████████████                                                      | 6/20 [00:00<00:00, 57.18it/s]"
     ]
    },
    {
     "name": "stdout",
     "output_type": "stream",
     "text": [
      "Begin group  3 training\n"
     ]
    },
    {
     "name": "stderr",
     "output_type": "stream",
     "text": [
      "Epoch:  40%|██████████████████████████████▊                                              | 8/20 [00:00<00:00, 76.00it/s]"
     ]
    },
    {
     "name": "stdout",
     "output_type": "stream",
     "text": [
      "Begin group  4 training\n"
     ]
    },
    {
     "name": "stderr",
     "output_type": "stream",
     "text": [
      "                                                                                                                        \r"
     ]
    },
    {
     "name": "stdout",
     "output_type": "stream",
     "text": [
      "Training groups takes 4.542166471481323s seconds\n",
      "Group 0, clients ['f_00087', 'f_00169', 'f_00097']\n",
      "Group 1, clients ['f_00142']\n",
      "Group 2, clients ['f_00074', 'f_00183', 'f_00184', 'f_00064', 'f_00003', 'f_00113']\n",
      "Group 3, clients ['f_00195', 'f_00166', 'f_00076', 'f_00026']\n",
      "Group 4, clients ['f_00010', 'f_00079', 'f_00129', 'f_00180', 'f_00189', 'f_00040']\n"
     ]
    },
    {
     "name": "stderr",
     "output_type": "stream",
     "text": [
      "\r",
      "Epoch:   0%|                                                                                     | 0/20 [00:00<?, ?it/s]"
     ]
    },
    {
     "name": "stdout",
     "output_type": "stream",
     "text": [
      "Group 0\n",
      "At round 34 accuracy: 0.7463126843657817\n",
      "At round 34 training accuracy: 0.7226861517049409\n",
      "At round 34 training loss: 0.8020702664459756\n",
      "Group 1\n",
      "At round 34 accuracy: 0.7649325626204239\n",
      "At round 34 training accuracy: 0.7592345349354696\n",
      "At round 34 training loss: 0.7028010808027582\n",
      "Group 2\n",
      "At round 34 accuracy: 0.8481675392670157\n",
      "At round 34 training accuracy: 0.8631578947368421\n",
      "At round 34 training loss: 0.40318135896426605\n",
      "Group 3\n",
      "At round 34 accuracy: 0.8307210031347962\n",
      "At round 34 training accuracy: 0.8338301043219076\n",
      "At round 34 training loss: 0.5258762076907915\n",
      "Group 4\n",
      "At round 34 accuracy: 0.7589041095890411\n",
      "At round 34 training accuracy: 0.7374960178400765\n",
      "At round 34 training loss: 0.692763152472644\n",
      "At round 34 mean test accuracy: 0.7879417879417879 mean train accuracy: 0.7813166067839961 mean train loss: 0.6304030856465271                     number of test client: 200\n",
      "The client-group discrepancy are: [0.65977361 0.48007746 0.23796011 0.90973839 1.11394233 0.26718001]\n",
      "Begin group  0 training\n"
     ]
    },
    {
     "name": "stderr",
     "output_type": "stream",
     "text": [
      "Epoch:   0%|                                                                                     | 0/20 [00:00<?, ?it/s]"
     ]
    },
    {
     "name": "stdout",
     "output_type": "stream",
     "text": [
      "Begin group  1 training\n",
      "Begin group  2 training\n"
     ]
    },
    {
     "name": "stderr",
     "output_type": "stream",
     "text": [
      "Epoch:  55%|█████████████████████████████████████████▎                                 | 11/20 [00:00<00:00, 105.28it/s]"
     ]
    },
    {
     "name": "stdout",
     "output_type": "stream",
     "text": [
      "Begin group  3 training\n"
     ]
    },
    {
     "name": "stderr",
     "output_type": "stream",
     "text": [
      "Epoch:  40%|██████████████████████████████▊                                              | 8/20 [00:00<00:00, 77.30it/s]"
     ]
    }
   ],
   "source": [
    "server.train()"
   ]
  },
  {
   "cell_type": "code",
   "execution_count": null,
   "metadata": {},
   "outputs": [],
   "source": [
    "\"\"\"\n",
    "fname = 'sampling_interval.csv'\n",
    "interval = 5\n",
    "rounds = 200\n",
    "with open(fname, 'w') as csv_f:\n",
    "  csv_f.write(str(1)+'\\n')\n",
    "  for i in range(2, rounds+1):\n",
    "    if i % interval == 0:\n",
    "      csv_f.write(str(i))\n",
    "    elif i == rounds:\n",
    "      csv_f.write('200')\n",
    "    csv_f.write('\\n')\n",
    "\"\"\""
   ]
  },
  {
   "cell_type": "code",
   "execution_count": null,
   "metadata": {},
   "outputs": [],
   "source": [
    "a = np.arange(16).reshape(4,4)\n",
    "b = np.repeat(a[:,np.newaxis,:], 2, axis=1)\n",
    "print(b.shape)\n",
    "c = np.sum(b, axis=-1)\n",
    "print(b)\n",
    "print(c)\n",
    "print(c.shape)\n",
    "print(np.sum(a, axis=-1))"
   ]
  }
 ],
 "metadata": {
  "kernelspec": {
   "display_name": "Python 3",
   "language": "python",
   "name": "python3"
  },
  "language_info": {
   "codemirror_mode": {
    "name": "ipython",
    "version": 3
   },
   "file_extension": ".py",
   "mimetype": "text/x-python",
   "name": "python",
   "nbconvert_exporter": "python",
   "pygments_lexer": "ipython3",
   "version": "3.8.5"
  }
 },
 "nbformat": 4,
 "nbformat_minor": 4
}
