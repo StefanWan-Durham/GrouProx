{
 "cells": [
  {
   "cell_type": "code",
   "execution_count": 1,
   "metadata": {},
   "outputs": [
    {
     "name": "stdout",
     "output_type": "stream",
     "text": [
      "WARNING:tensorflow:From /home/lab/anaconda3/envs/TFF/lib/python3.7/site-packages/tensorflow/python/compat/v2_compat.py:96: disable_resource_variables (from tensorflow.python.ops.variable_scope) is deprecated and will be removed in a future version.\n",
      "Instructions for updating:\n",
      "non-resource variables are not supported in the long term\n"
     ]
    }
   ],
   "source": [
    "import importlib\n",
    "import tensorflow.compat.v1 as tf\n",
    "tf.disable_v2_behavior()\n",
    "from flearn.utils.model_utils import read_data\n",
    "import os\n",
    "import importlib\n",
    "import random\n",
    "import numpy as np\n",
    "\n",
    "from flearn.models import client\n",
    "from flearn.models import group\n",
    "from flearn.trainers import grouprox\n",
    "from flearn.trainers import fedprox\n",
    "from flearn.trainers import fedavg"
   ]
  },
  {
   "cell_type": "code",
   "execution_count": 2,
   "metadata": {},
   "outputs": [
    {
     "name": "stdout",
     "output_type": "stream",
     "text": [
      "fedprox-sent140-stacked_lstm.csv\n"
     ]
    }
   ],
   "source": [
    "params = {}\n",
    "#DATASETS = ['sent140', 'nist', 'shakespeare', 'mnist', 'synthetic_iid', 'synthetic_0_0', 'synthetic_0.5_0.5', 'synthetic_1_1']\n",
    "\n",
    "\"\"\"\n",
    "Parameters that need to be manually set\n",
    "\"\"\"\n",
    "\n",
    "params['dataset'] = 'sent140'\n",
    "#params['dataset'] = 'mnist'\n",
    "#params['model'] = 'mclr'\n",
    "params['model'] = 'stacked_lstm'\n",
    "params['optimizer'] = 'fedprox'\n",
    "params['drop_percent'] = 0\n",
    "\n",
    "if params['dataset'].startswith('mnist'):\n",
    "  params['model_params'] = (10,)\n",
    "  params['learning_rate'] = 0.03\n",
    "  params['mu'] = 1\n",
    "if params['dataset'] == 'nist':\n",
    "  params['model_params'] = (26,)\n",
    "  params['learning_rate'] = 0.003\n",
    "  params['mu'] = 1\n",
    "if params['dataset'] == 'sent140':\n",
    "  params['model_params'] = (25, 2, 100) # seq_len, num_classes, num_hidden\n",
    "  params['learning_rate'] = 0.3\n",
    "  params['mu'] = 0.01\n",
    "if params['dataset'].startswith('synthetic'):\n",
    "  params['model_params'] = (10,)\n",
    "  params['learning_rate'] = 0.01\n",
    "  params['mu'] = 1\n",
    "\n",
    "if params['optimizer']  == 'fedavg':\n",
    "  pass\n",
    "if params['optimizer']  == 'fedprox':\n",
    "  pass\n",
    "if params['optimizer']  == 'grouprox':\n",
    "  params['proximal'] = False\n",
    "  params['randomly'] = False\n",
    "  params['allow_empty'] = True\n",
    "  params['evenly'] = False\n",
    "  params['num_group'] = 5\n",
    "  params['min_clients'] = 2\n",
    "\n",
    "\n",
    "\"\"\"\n",
    "Common parameters\n",
    "\"\"\"\n",
    "params['num_rounds'] = 200\n",
    "params['num_epochs'] = 20\n",
    "params['batch_size'] = 10\n",
    "params['eval_every'] = 1\n",
    "params['clients_per_round'] = 20 ######################################################\n",
    "params['seed'] = 233\n",
    "params['agg_lr'] = 0.01\n",
    "\n",
    "\n",
    "\"\"\" Set the output CSV file name \"\"\"\n",
    "info = '{}-{}-{}'.format(params['optimizer'], params['dataset'], params['model'])\n",
    "info2 = ''\n",
    "suffix = '.csv'\n",
    "if params['optimizer'] == 'fedavg':\n",
    "  pass\n",
    "if params['optimizer'] == 'fedprox':\n",
    "  pass\n",
    "if params['optimizer'] == 'grouprox':\n",
    "  info2 = '-NumG{:1d}-Agglr{:.4}-Proximal{:.1}'.format(\n",
    "    params['num_group'], params['agg_lr'], str(params['proximal']))\n",
    "  if params['randomly'] == True:\n",
    "    info2 = info2 + '-Randomly{:.1}-Evenly{:.1}'.format(str(params['randomly']), str(params['evenly']))\n",
    "  elif params['allow_empty'] == True:\n",
    "    info2 = info2 + '-Empty{:.1}'.format(str(params['allow_empty']))\n",
    "  elif params['allow_empty'] == False:\n",
    "    info2 = info2 + '-Evenly{:.1}'.format(str(params['evenly']))\n",
    "\n",
    "params['export_filename'] = info + info2 + suffix\n",
    "\n",
    "print(params['export_filename'])"
   ]
  },
  {
   "cell_type": "code",
   "execution_count": 3,
   "metadata": {
    "scrolled": true
   },
   "outputs": [
    {
     "name": "stdout",
     "output_type": "stream",
     "text": [
      "Using Federated prox to Train\n",
      "WARNING:tensorflow:From /home/lab/workspace/GrouProx/flearn/models/sent140/stacked_lstm.py:66: BasicLSTMCell.__init__ (from tensorflow.python.ops.rnn_cell_impl) is deprecated and will be removed in a future version.\n",
      "Instructions for updating:\n",
      "This class is equivalent as tf.keras.layers.LSTMCell, and will be replaced by that in Tensorflow 2.0.\n",
      "WARNING:tensorflow:From /home/lab/workspace/GrouProx/flearn/models/sent140/stacked_lstm.py:66: MultiRNNCell.__init__ (from tensorflow.python.ops.rnn_cell_impl) is deprecated and will be removed in a future version.\n",
      "Instructions for updating:\n",
      "This class is equivalent as tf.keras.layers.StackedRNNCells, and will be replaced by that in Tensorflow 2.0.\n",
      "WARNING:tensorflow:From /home/lab/workspace/GrouProx/flearn/models/sent140/stacked_lstm.py:67: dynamic_rnn (from tensorflow.python.ops.rnn) is deprecated and will be removed in a future version.\n",
      "Instructions for updating:\n",
      "Please use `keras.layers.RNN(cell)`, which is equivalent to this API\n",
      "WARNING:tensorflow:From /home/lab/anaconda3/envs/TFF/lib/python3.7/site-packages/tensorflow/python/ops/rnn_cell_impl.py:740: Layer.add_variable (from tensorflow.python.keras.engine.base_layer_v1) is deprecated and will be removed in a future version.\n",
      "Instructions for updating:\n",
      "Please use `layer.add_weight` method instead.\n",
      "WARNING:tensorflow:From /home/lab/anaconda3/envs/TFF/lib/python3.7/site-packages/tensorflow/python/ops/rnn_cell_impl.py:744: calling Zeros.__init__ (from tensorflow.python.ops.init_ops) with dtype is deprecated and will be removed in a future version.\n",
      "Instructions for updating:\n",
      "Call initializer instance with the dtype argument instead of passing it to the constructor\n",
      "WARNING:tensorflow:From /home/lab/workspace/GrouProx/flearn/models/sent140/stacked_lstm.py:68: dense (from tensorflow.python.layers.core) is deprecated and will be removed in a future version.\n",
      "Instructions for updating:\n",
      "Use keras.layers.Dense instead.\n",
      "WARNING:tensorflow:From /home/lab/anaconda3/envs/TFF/lib/python3.7/site-packages/tensorflow/python/layers/core.py:187: Layer.apply (from tensorflow.python.keras.engine.base_layer_v1) is deprecated and will be removed in a future version.\n",
      "Instructions for updating:\n",
      "Please use `layer.__call__` method instead.\n",
      "WARNING:tensorflow:From /home/lab/workspace/GrouProx/flearn/models/sent140/stacked_lstm.py:77: to_int64 (from tensorflow.python.ops.math_ops) is deprecated and will be removed in a future version.\n",
      "Instructions for updating:\n",
      "Use `tf.cast` instead.\n",
      "WARNING:tensorflow:From /home/lab/anaconda3/envs/TFF/lib/python3.7/site-packages/tensorflow/python/profiler/internal/flops_registry.py:142: tensor_shape_from_node_def_name (from tensorflow.python.framework.graph_util_impl) is deprecated and will be removed in a future version.\n",
      "Instructions for updating:\n",
      "Use `tf.compat.v1.graph_util.tensor_shape_from_node_def_name`\n",
      "772 Clients in Total\n"
     ]
    }
   ],
   "source": [
    "\"\"\"\n",
    "Some preparations\n",
    "\"\"\"\n",
    "\n",
    "# read data\n",
    "train_path = os.path.join('data', params['dataset'], 'data', 'train')\n",
    "test_path = os.path.join('data', params['dataset'], 'data', 'test')\n",
    "dataset = read_data(train_path, test_path)\n",
    "\n",
    "# Load model\n",
    "if params['dataset'].startswith('synthetic'):  # all synthetic datasets use the same model\n",
    "  model_path = '%s.%s.%s.%s' % ('flearn', 'models', 'synthetic', params['model'])\n",
    "elif params['dataset'].startswith('mnist'):\n",
    "  model_path = '%s.%s.%s.%s' % ('flearn', 'models', 'mnist', params['model'])\n",
    "else:\n",
    "  model_path = '%s.%s.%s.%s' % ('flearn', 'models', params['dataset'], params['model'])\n",
    "mod = importlib.import_module(model_path)\n",
    "learner = getattr(mod, 'Model')\n",
    "\n",
    "# Set seeds\n",
    "random.seed(1 + params['seed'])\n",
    "np.random.seed(12 + params['seed'])\n",
    "tf.set_random_seed(123 + params['seed'])\n",
    "\n",
    "# Set server\n",
    "if params['optimizer'] == 'fedavg':\n",
    "  server = fedavg.Server(params, learner, dataset)\n",
    "if params['optimizer'] == 'fedprox':\n",
    "  server = fedprox.Server(params, learner, dataset)\n",
    "if params['optimizer'] == 'grouprox':\n",
    "  server = grouprox.Server(params, learner, dataset)"
   ]
  },
  {
   "cell_type": "code",
   "execution_count": null,
   "metadata": {
    "scrolled": true
   },
   "outputs": [
    {
     "name": "stdout",
     "output_type": "stream",
     "text": [
      "Training with 20 workers ---\n",
      "WARNING:tensorflow:From /home/lab/workspace/GrouProx/flearn/models/sent140/stacked_lstm.py:87: Variable.load (from tensorflow.python.ops.variables) is deprecated and will be removed in a future version.\n",
      "Instructions for updating:\n",
      "Prefer Variable.assign which has equivalent behavior in 2.X.\n",
      "At round 0 accuracy: 0.5742574257425742\n",
      "At round 0 training accuracy: 0.5739186971732871\n",
      "At round 0 training loss: 0.687475905146679\n",
      "At round 0 Discrepancy: 0\n",
      "gradient difference: 0.8754011960627287\n"
     ]
    },
    {
     "name": "stderr",
     "output_type": "stream",
     "text": [
      "                                                      \r"
     ]
    },
    {
     "name": "stdout",
     "output_type": "stream",
     "text": [
      "At round 1 accuracy: 0.5885195662423385\n",
      "At round 1 training accuracy: 0.5867364314684665\n",
      "At round 1 training loss: 0.6718115315324305\n",
      "At round 1 Discrepancy: 36.44366721367058\n"
     ]
    },
    {
     "name": "stderr",
     "output_type": "stream",
     "text": [
      "Epoch:   5%|▌         | 1/20 [00:00<00:02,  8.10it/s]"
     ]
    },
    {
     "name": "stdout",
     "output_type": "stream",
     "text": [
      "gradient difference: 1.0694599902986042\n"
     ]
    },
    {
     "name": "stderr",
     "output_type": "stream",
     "text": [
      "                                                      \r"
     ]
    },
    {
     "name": "stdout",
     "output_type": "stream",
     "text": [
      "At round 2 accuracy: 0.5024752475247525\n",
      "At round 2 training accuracy: 0.5076008545156196\n",
      "At round 2 training loss: 0.7239441527457107\n",
      "At round 2 Discrepancy: 42.72140055591032\n"
     ]
    },
    {
     "name": "stderr",
     "output_type": "stream",
     "text": [
      "Epoch:   5%|▌         | 1/20 [00:00<00:02,  8.88it/s]"
     ]
    },
    {
     "name": "stdout",
     "output_type": "stream",
     "text": [
      "gradient difference: 1.2785173918467174\n"
     ]
    },
    {
     "name": "stderr",
     "output_type": "stream",
     "text": [
      "                                                      \r"
     ]
    },
    {
     "name": "stdout",
     "output_type": "stream",
     "text": [
      "At round 3 accuracy: 0.594059405940594\n",
      "At round 3 training accuracy: 0.5970463481841544\n",
      "At round 3 training loss: 0.6735270962212757\n",
      "At round 3 Discrepancy: 50.45927284751616\n"
     ]
    },
    {
     "name": "stderr",
     "output_type": "stream",
     "text": [
      "\r",
      "Epoch:   0%|          | 0/20 [00:00<?, ?it/s]"
     ]
    },
    {
     "name": "stdout",
     "output_type": "stream",
     "text": [
      "gradient difference: 1.420618641948986\n"
     ]
    },
    {
     "name": "stderr",
     "output_type": "stream",
     "text": [
      "                                                      \r"
     ]
    },
    {
     "name": "stdout",
     "output_type": "stream",
     "text": [
      "At round 4 accuracy: 0.5983026874115983\n",
      "At round 4 training accuracy: 0.5994303229202143\n",
      "At round 4 training loss: 0.7318475142694774\n",
      "At round 4 Discrepancy: 46.82500715933642\n"
     ]
    },
    {
     "name": "stderr",
     "output_type": "stream",
     "text": [
      "\r",
      "Epoch:   0%|          | 0/20 [00:00<?, ?it/s]"
     ]
    },
    {
     "name": "stdout",
     "output_type": "stream",
     "text": [
      "gradient difference: 7.070597563022656\n"
     ]
    },
    {
     "name": "stderr",
     "output_type": "stream",
     "text": [
      "                                                      \r"
     ]
    },
    {
     "name": "stdout",
     "output_type": "stream",
     "text": [
      "At round 5 accuracy: 0.5802687411598303\n",
      "At round 5 training accuracy: 0.5876033313724883\n",
      "At round 5 training loss: 0.8215122858599918\n",
      "At round 5 Discrepancy: 45.24256667094407\n"
     ]
    },
    {
     "name": "stderr",
     "output_type": "stream",
     "text": [
      "\r",
      "Epoch:   0%|          | 0/20 [00:00<?, ?it/s]"
     ]
    },
    {
     "name": "stdout",
     "output_type": "stream",
     "text": [
      "gradient difference: 12.11279061219167\n"
     ]
    },
    {
     "name": "stderr",
     "output_type": "stream",
     "text": [
      "                                                      \r"
     ]
    },
    {
     "name": "stdout",
     "output_type": "stream",
     "text": [
      "At round 6 accuracy: 0.5327675624705328\n",
      "At round 6 training accuracy: 0.5328338338648255\n",
      "At round 6 training loss: 0.8843737536410237\n",
      "At round 6 Discrepancy: 47.76806640072242\n"
     ]
    },
    {
     "name": "stderr",
     "output_type": "stream",
     "text": [
      "Epoch:   5%|▌         | 1/20 [00:00<00:02,  8.43it/s]"
     ]
    },
    {
     "name": "stdout",
     "output_type": "stream",
     "text": [
      "gradient difference: 16.15494277708005\n"
     ]
    },
    {
     "name": "stderr",
     "output_type": "stream",
     "text": [
      "                                                      \r"
     ]
    },
    {
     "name": "stdout",
     "output_type": "stream",
     "text": [
      "At round 7 accuracy: 0.6206977840641207\n",
      "At round 7 training accuracy: 0.6210408990990434\n",
      "At round 7 training loss: 1.4945609661435018\n",
      "At round 7 Discrepancy: 40.445898590716666\n"
     ]
    },
    {
     "name": "stderr",
     "output_type": "stream",
     "text": [
      "Epoch:  10%|█         | 2/20 [00:00<00:01, 11.51it/s]"
     ]
    },
    {
     "name": "stdout",
     "output_type": "stream",
     "text": [
      "gradient difference: 12.357293693069055\n"
     ]
    },
    {
     "name": "stderr",
     "output_type": "stream",
     "text": [
      "                                                      \r"
     ]
    },
    {
     "name": "stdout",
     "output_type": "stream",
     "text": [
      "At round 8 accuracy: 0.5562234794908062\n",
      "At round 8 training accuracy: 0.5565806990928511\n",
      "At round 8 training loss: 0.904624212841533\n",
      "At round 8 Discrepancy: 44.1572161677277\n"
     ]
    },
    {
     "name": "stderr",
     "output_type": "stream",
     "text": [
      "Epoch:   5%|▌         | 1/20 [00:00<00:03,  5.61it/s]"
     ]
    },
    {
     "name": "stdout",
     "output_type": "stream",
     "text": [
      "gradient difference: 23.36831298590369\n"
     ]
    },
    {
     "name": "stderr",
     "output_type": "stream",
     "text": [
      "                                                      \r"
     ]
    },
    {
     "name": "stdout",
     "output_type": "stream",
     "text": [
      "At round 9 accuracy: 0.6020744931636021\n",
      "At round 9 training accuracy: 0.606613207839252\n",
      "At round 9 training loss: 1.2559423200987443\n",
      "At round 9 Discrepancy: 45.09872614033402\n"
     ]
    },
    {
     "name": "stderr",
     "output_type": "stream",
     "text": [
      "\r",
      "Epoch:   0%|          | 0/20 [00:00<?, ?it/s]"
     ]
    },
    {
     "name": "stdout",
     "output_type": "stream",
     "text": [
      "gradient difference: 14.214423114425795\n"
     ]
    },
    {
     "name": "stderr",
     "output_type": "stream",
     "text": [
      "                                                      \r"
     ]
    },
    {
     "name": "stdout",
     "output_type": "stream",
     "text": [
      "At round 10 accuracy: 0.5159123055162659\n",
      "At round 10 training accuracy: 0.5135143502894827\n",
      "At round 10 training loss: 1.2061839277355473\n",
      "At round 10 Discrepancy: 37.58831073461801\n"
     ]
    },
    {
     "name": "stderr",
     "output_type": "stream",
     "text": [
      "Epoch:  10%|█         | 2/20 [00:00<00:01, 11.38it/s]"
     ]
    },
    {
     "name": "stdout",
     "output_type": "stream",
     "text": [
      "gradient difference: 29.837477043164107\n"
     ]
    },
    {
     "name": "stderr",
     "output_type": "stream",
     "text": [
      "                                                      \r"
     ]
    },
    {
     "name": "stdout",
     "output_type": "stream",
     "text": [
      "At round 11 accuracy: 0.6182225365393682\n",
      "At round 11 training accuracy: 0.6198643920864423\n",
      "At round 11 training loss: 1.0830573688406162\n",
      "At round 11 Discrepancy: 54.92409878190196\n"
     ]
    },
    {
     "name": "stderr",
     "output_type": "stream",
     "text": [
      "Epoch:   5%|▌         | 1/20 [00:00<00:02,  8.51it/s]"
     ]
    },
    {
     "name": "stdout",
     "output_type": "stream",
     "text": [
      "gradient difference: 5.380029149387097\n"
     ]
    },
    {
     "name": "stderr",
     "output_type": "stream",
     "text": [
      "                                                      \r"
     ]
    },
    {
     "name": "stdout",
     "output_type": "stream",
     "text": [
      "At round 12 accuracy: 0.5719000471475719\n",
      "At round 12 training accuracy: 0.5704510975571999\n",
      "At round 12 training loss: 0.9416149148467874\n",
      "At round 12 Discrepancy: 45.575639645844184\n"
     ]
    },
    {
     "name": "stderr",
     "output_type": "stream",
     "text": [
      "Epoch:  10%|█         | 2/20 [00:00<00:01, 10.95it/s]"
     ]
    },
    {
     "name": "stdout",
     "output_type": "stream",
     "text": [
      "gradient difference: 14.980379310306484\n"
     ]
    },
    {
     "name": "stderr",
     "output_type": "stream",
     "text": [
      "                                                      \r"
     ]
    },
    {
     "name": "stdout",
     "output_type": "stream",
     "text": [
      "At round 13 accuracy: 0.5491513437057991\n",
      "At round 13 training accuracy: 0.5449704325211306\n",
      "At round 13 training loss: 1.0796562514434727\n",
      "At round 13 Discrepancy: 43.87704591816896\n"
     ]
    },
    {
     "name": "stderr",
     "output_type": "stream",
     "text": [
      "Epoch:   5%|▌         | 1/20 [00:00<00:02,  8.67it/s]"
     ]
    },
    {
     "name": "stdout",
     "output_type": "stream",
     "text": [
      "gradient difference: 22.052941607397482\n"
     ]
    },
    {
     "name": "stderr",
     "output_type": "stream",
     "text": [
      "                                                      \r"
     ]
    },
    {
     "name": "stdout",
     "output_type": "stream",
     "text": [
      "At round 14 accuracy: 0.6269448373408769\n",
      "At round 14 training accuracy: 0.6236415988111087\n",
      "At round 14 training loss: 1.3563211119412377\n",
      "At round 14 Discrepancy: 47.52283271921723\n"
     ]
    },
    {
     "name": "stderr",
     "output_type": "stream",
     "text": [
      "Epoch:   5%|▌         | 1/20 [00:00<00:02,  8.81it/s]"
     ]
    },
    {
     "name": "stdout",
     "output_type": "stream",
     "text": [
      "gradient difference: 20.52628320442245\n"
     ]
    },
    {
     "name": "stderr",
     "output_type": "stream",
     "text": [
      "                                                      \r"
     ]
    },
    {
     "name": "stdout",
     "output_type": "stream",
     "text": [
      "At round 15 accuracy: 0.5966525223950967\n",
      "At round 15 training accuracy: 0.6010712405956841\n",
      "At round 15 training loss: 1.051090191677778\n",
      "At round 15 Discrepancy: 45.22884900449465\n"
     ]
    },
    {
     "name": "stderr",
     "output_type": "stream",
     "text": [
      "Epoch:  10%|█         | 2/20 [00:00<00:01, 11.25it/s]"
     ]
    },
    {
     "name": "stdout",
     "output_type": "stream",
     "text": [
      "gradient difference: 26.34601370988941\n"
     ]
    },
    {
     "name": "stderr",
     "output_type": "stream",
     "text": [
      "                                                      \r"
     ]
    },
    {
     "name": "stdout",
     "output_type": "stream",
     "text": [
      "At round 16 accuracy: 0.6083215464403583\n",
      "At round 16 training accuracy: 0.6024025511625747\n",
      "At round 16 training loss: 1.0751295541447585\n",
      "At round 16 Discrepancy: 45.57005410729721\n"
     ]
    },
    {
     "name": "stderr",
     "output_type": "stream",
     "text": [
      "\r",
      "Epoch:   0%|          | 0/20 [00:00<?, ?it/s]"
     ]
    },
    {
     "name": "stdout",
     "output_type": "stream",
     "text": [
      "gradient difference: 24.17615779714089\n"
     ]
    },
    {
     "name": "stderr",
     "output_type": "stream",
     "text": [
      "                                                      \r"
     ]
    },
    {
     "name": "stdout",
     "output_type": "stream",
     "text": [
      "At round 17 accuracy: 0.5366572371522866\n",
      "At round 17 training accuracy: 0.5435462398216663\n",
      "At round 17 training loss: 1.0097927678757166\n",
      "At round 17 Discrepancy: 49.62715768696808\n"
     ]
    },
    {
     "name": "stderr",
     "output_type": "stream",
     "text": [
      "\r",
      "Epoch:   0%|          | 0/20 [00:00<?, ?it/s]"
     ]
    },
    {
     "name": "stdout",
     "output_type": "stream",
     "text": [
      "gradient difference: 13.72461052897819\n"
     ]
    },
    {
     "name": "stderr",
     "output_type": "stream",
     "text": [
      "                                                      \r"
     ]
    },
    {
     "name": "stdout",
     "output_type": "stream",
     "text": [
      "At round 18 accuracy: 0.6302451673738803\n",
      "At round 18 training accuracy: 0.6293693303198241\n",
      "At round 18 training loss: 0.9026706557979371\n",
      "At round 18 Discrepancy: 49.815268204516954\n"
     ]
    },
    {
     "name": "stderr",
     "output_type": "stream",
     "text": [
      "Epoch:   5%|▌         | 1/20 [00:00<00:02,  8.41it/s]"
     ]
    },
    {
     "name": "stdout",
     "output_type": "stream",
     "text": [
      "gradient difference: 8.229348431899906\n"
     ]
    },
    {
     "name": "stderr",
     "output_type": "stream",
     "text": [
      "                                                      \r"
     ]
    },
    {
     "name": "stdout",
     "output_type": "stream",
     "text": [
      "At round 19 accuracy: 0.5855728429985856\n",
      "At round 19 training accuracy: 0.5949410198458157\n",
      "At round 19 training loss: 1.0255793152882362\n",
      "At round 19 Discrepancy: 41.12567087210866\n"
     ]
    },
    {
     "name": "stderr",
     "output_type": "stream",
     "text": [
      "Epoch:  10%|█         | 2/20 [00:00<00:01, 11.83it/s]"
     ]
    },
    {
     "name": "stdout",
     "output_type": "stream",
     "text": [
      "gradient difference: 24.125086886053328\n"
     ]
    },
    {
     "name": "stderr",
     "output_type": "stream",
     "text": [
      "                                                      \r"
     ]
    },
    {
     "name": "stdout",
     "output_type": "stream",
     "text": [
      "At round 20 accuracy: 0.5893446487505893\n",
      "At round 20 training accuracy: 0.6030217653797331\n",
      "At round 20 training loss: 1.0227580304940111\n",
      "At round 20 Discrepancy: 46.71507081188965\n"
     ]
    },
    {
     "name": "stderr",
     "output_type": "stream",
     "text": [
      "Epoch:  10%|█         | 2/20 [00:00<00:01, 11.00it/s]"
     ]
    },
    {
     "name": "stdout",
     "output_type": "stream",
     "text": [
      "gradient difference: 22.889135353196473\n"
     ]
    },
    {
     "name": "stderr",
     "output_type": "stream",
     "text": [
      "                                                      \r"
     ]
    },
    {
     "name": "stdout",
     "output_type": "stream",
     "text": [
      "At round 21 accuracy: 0.6331918906176331\n",
      "At round 21 training accuracy: 0.6333942227313539\n",
      "At round 21 training loss: 1.0586477185881593\n",
      "At round 21 Discrepancy: 49.479318733161826\n"
     ]
    },
    {
     "name": "stderr",
     "output_type": "stream",
     "text": [
      "Epoch:  10%|█         | 2/20 [00:00<00:01, 11.20it/s]"
     ]
    },
    {
     "name": "stdout",
     "output_type": "stream",
     "text": [
      "gradient difference: 6.627197826763304\n"
     ]
    },
    {
     "name": "stderr",
     "output_type": "stream",
     "text": [
      "                                                      \r"
     ]
    },
    {
     "name": "stdout",
     "output_type": "stream",
     "text": [
      "At round 22 accuracy: 0.5987741631305987\n",
      "At round 22 training accuracy: 0.6077277934301372\n",
      "At round 22 training loss: 1.0457724379424307\n",
      "At round 22 Discrepancy: 40.40234767569098\n"
     ]
    },
    {
     "name": "stderr",
     "output_type": "stream",
     "text": [
      "Epoch:  10%|█         | 2/20 [00:00<00:01, 10.86it/s]"
     ]
    },
    {
     "name": "stdout",
     "output_type": "stream",
     "text": [
      "gradient difference: 22.418232737126665\n"
     ]
    },
    {
     "name": "stderr",
     "output_type": "stream",
     "text": [
      "                                                      \r"
     ]
    },
    {
     "name": "stdout",
     "output_type": "stream",
     "text": [
      "At round 23 accuracy: 0.6158651579443659\n",
      "At round 23 training accuracy: 0.6150345211926066\n",
      "At round 23 training loss: 0.8951901268536817\n",
      "At round 23 Discrepancy: 53.05915571667731\n"
     ]
    },
    {
     "name": "stderr",
     "output_type": "stream",
     "text": [
      "Epoch:   5%|▌         | 1/20 [00:00<00:02,  6.63it/s]"
     ]
    },
    {
     "name": "stdout",
     "output_type": "stream",
     "text": [
      "gradient difference: 11.959885544653822\n"
     ]
    },
    {
     "name": "stderr",
     "output_type": "stream",
     "text": [
      "                                                      \r"
     ]
    },
    {
     "name": "stdout",
     "output_type": "stream",
     "text": [
      "At round 24 accuracy: 0.6198727015558698\n",
      "At round 24 training accuracy: 0.6242608130282671\n",
      "At round 24 training loss: 0.8551232302137248\n",
      "At round 24 Discrepancy: 43.94174402128638\n"
     ]
    },
    {
     "name": "stderr",
     "output_type": "stream",
     "text": [
      "Epoch:  10%|█         | 2/20 [00:00<00:01, 11.14it/s]"
     ]
    },
    {
     "name": "stdout",
     "output_type": "stream",
     "text": [
      "gradient difference: 11.260095420074663\n"
     ]
    },
    {
     "name": "stderr",
     "output_type": "stream",
     "text": [
      "                                                      \r"
     ]
    },
    {
     "name": "stdout",
     "output_type": "stream",
     "text": [
      "At round 25 accuracy: 0.6131541725601132\n",
      "At round 25 training accuracy: 0.6185950029412676\n",
      "At round 25 training loss: 0.9291639322233741\n",
      "At round 25 Discrepancy: 43.74208824853667\n"
     ]
    },
    {
     "name": "stderr",
     "output_type": "stream",
     "text": [
      "Epoch:   5%|▌         | 1/20 [00:00<00:03,  6.01it/s]"
     ]
    },
    {
     "name": "stdout",
     "output_type": "stream",
     "text": [
      "gradient difference: 14.605297761614212\n"
     ]
    },
    {
     "name": "stderr",
     "output_type": "stream",
     "text": [
      "                                                      \r"
     ]
    },
    {
     "name": "stdout",
     "output_type": "stream",
     "text": [
      "At round 26 accuracy: 0.6208156529938709\n",
      "At round 26 training accuracy: 0.6222483668225023\n",
      "At round 26 training loss: 1.0709482876116758\n",
      "At round 26 Discrepancy: 50.65716132001713\n"
     ]
    },
    {
     "name": "stderr",
     "output_type": "stream",
     "text": [
      "Epoch:   5%|▌         | 1/20 [00:00<00:03,  5.49it/s]"
     ]
    },
    {
     "name": "stdout",
     "output_type": "stream",
     "text": [
      "gradient difference: 20.490946169464813\n"
     ]
    },
    {
     "name": "stderr",
     "output_type": "stream",
     "text": [
      "                                                      \r"
     ]
    },
    {
     "name": "stdout",
     "output_type": "stream",
     "text": [
      "At round 27 accuracy: 0.6314238566713815\n",
      "At round 27 training accuracy: 0.6388123471314902\n",
      "At round 27 training loss: 1.1671982306491153\n",
      "At round 27 Discrepancy: 44.2961458014385\n"
     ]
    },
    {
     "name": "stderr",
     "output_type": "stream",
     "text": [
      "\r",
      "Epoch:   0%|          | 0/20 [00:00<?, ?it/s]"
     ]
    },
    {
     "name": "stdout",
     "output_type": "stream",
     "text": [
      "gradient difference: 18.076538497714406\n"
     ]
    },
    {
     "name": "stderr",
     "output_type": "stream",
     "text": [
      "                                                      \r"
     ]
    },
    {
     "name": "stdout",
     "output_type": "stream",
     "text": [
      "At round 28 accuracy: 0.582036775106082\n",
      "At round 28 training accuracy: 0.5971082696058702\n",
      "At round 28 training loss: 0.8336952345636578\n",
      "At round 28 Discrepancy: 51.65973901815349\n"
     ]
    },
    {
     "name": "stderr",
     "output_type": "stream",
     "text": [
      "Epoch:   5%|▌         | 1/20 [00:00<00:02,  8.82it/s]"
     ]
    },
    {
     "name": "stdout",
     "output_type": "stream",
     "text": [
      "gradient difference: 11.285201664281594\n"
     ]
    },
    {
     "name": "stderr",
     "output_type": "stream",
     "text": [
      "                                                      \r"
     ]
    },
    {
     "name": "stdout",
     "output_type": "stream",
     "text": [
      "At round 29 accuracy: 0.5594059405940595\n",
      "At round 29 training accuracy: 0.5750023220533144\n",
      "At round 29 training loss: 1.01793736501522\n",
      "At round 29 Discrepancy: 42.0273703613189\n"
     ]
    },
    {
     "name": "stderr",
     "output_type": "stream",
     "text": [
      "Epoch:   5%|▌         | 1/20 [00:00<00:02,  8.31it/s]"
     ]
    },
    {
     "name": "stdout",
     "output_type": "stream",
     "text": [
      "gradient difference: 36.67378360326723\n"
     ]
    },
    {
     "name": "stderr",
     "output_type": "stream",
     "text": [
      "                                                      \r"
     ]
    },
    {
     "name": "stdout",
     "output_type": "stream",
     "text": [
      "At round 30 accuracy: 0.5697784064120698\n",
      "At round 30 training accuracy: 0.5802346821883031\n",
      "At round 30 training loss: 0.924647685936547\n",
      "At round 30 Discrepancy: 56.64837517095455\n"
     ]
    },
    {
     "name": "stderr",
     "output_type": "stream",
     "text": [
      "Epoch:  10%|█         | 2/20 [00:00<00:01, 11.73it/s]"
     ]
    },
    {
     "name": "stdout",
     "output_type": "stream",
     "text": [
      "gradient difference: 15.869316782050523\n"
     ]
    },
    {
     "name": "stderr",
     "output_type": "stream",
     "text": [
      "                                                      \r"
     ]
    },
    {
     "name": "stdout",
     "output_type": "stream",
     "text": [
      "At round 31 accuracy: 0.6117397454031117\n",
      "At round 31 training accuracy: 0.6191522957367102\n",
      "At round 31 training loss: 1.0004656648385752\n",
      "At round 31 Discrepancy: 44.74115629140122\n"
     ]
    },
    {
     "name": "stderr",
     "output_type": "stream",
     "text": [
      "Epoch:   5%|▌         | 1/20 [00:00<00:03,  6.05it/s]"
     ]
    },
    {
     "name": "stdout",
     "output_type": "stream",
     "text": [
      "gradient difference: 16.939686997456587\n"
     ]
    },
    {
     "name": "stderr",
     "output_type": "stream",
     "text": [
      "                                                      \r"
     ]
    },
    {
     "name": "stdout",
     "output_type": "stream",
     "text": [
      "At round 32 accuracy: 0.6274163130598774\n",
      "At round 32 training accuracy: 0.6371404687451624\n",
      "At round 32 training loss: 1.002084658270776\n",
      "At round 32 Discrepancy: 45.70452081287922\n"
     ]
    },
    {
     "name": "stderr",
     "output_type": "stream",
     "text": [
      "\r",
      "Epoch:   0%|          | 0/20 [00:00<?, ?it/s]"
     ]
    },
    {
     "name": "stdout",
     "output_type": "stream",
     "text": [
      "gradient difference: 12.331421606331267\n"
     ]
    },
    {
     "name": "stderr",
     "output_type": "stream",
     "text": [
      "                                                      \r"
     ]
    },
    {
     "name": "stdout",
     "output_type": "stream",
     "text": [
      "At round 33 accuracy: 0.5892267798208393\n",
      "At round 33 training accuracy: 0.6017214155237004\n",
      "At round 33 training loss: 0.9338313610332085\n",
      "At round 33 Discrepancy: 53.53411652864653\n"
     ]
    },
    {
     "name": "stderr",
     "output_type": "stream",
     "text": [
      "Epoch:  10%|█         | 2/20 [00:00<00:01, 11.50it/s]"
     ]
    },
    {
     "name": "stdout",
     "output_type": "stream",
     "text": [
      "gradient difference: 14.247644837383323\n"
     ]
    },
    {
     "name": "stderr",
     "output_type": "stream",
     "text": [
      "                                                      \r"
     ]
    },
    {
     "name": "stdout",
     "output_type": "stream",
     "text": [
      "At round 34 accuracy: 0.599009900990099\n",
      "At round 34 training accuracy: 0.6091829468404595\n",
      "At round 34 training loss: 0.9678688904035183\n",
      "At round 34 Discrepancy: 45.2810725660645\n"
     ]
    },
    {
     "name": "stderr",
     "output_type": "stream",
     "text": [
      "Epoch:   5%|▌         | 1/20 [00:00<00:02,  9.06it/s]"
     ]
    },
    {
     "name": "stdout",
     "output_type": "stream",
     "text": [
      "gradient difference: 13.821397167865532\n"
     ]
    },
    {
     "name": "stderr",
     "output_type": "stream",
     "text": [
      "                                                      \r"
     ]
    },
    {
     "name": "stdout",
     "output_type": "stream",
     "text": [
      "At round 35 accuracy: 0.6263554926921263\n",
      "At round 35 training accuracy: 0.6348803368525341\n",
      "At round 35 training loss: 1.0728174930586876\n",
      "At round 35 Discrepancy: 50.77685940414367\n"
     ]
    },
    {
     "name": "stderr",
     "output_type": "stream",
     "text": [
      "\r",
      "Epoch:   0%|          | 0/20 [00:00<?, ?it/s]"
     ]
    },
    {
     "name": "stdout",
     "output_type": "stream",
     "text": [
      "gradient difference: 17.049248689838954\n"
     ]
    },
    {
     "name": "stderr",
     "output_type": "stream",
     "text": [
      "                                                      \r"
     ]
    },
    {
     "name": "stdout",
     "output_type": "stream",
     "text": [
      "At round 36 accuracy: 0.6129184347006129\n",
      "At round 36 training accuracy: 0.6254373200408682\n",
      "At round 36 training loss: 0.9881415830732291\n",
      "At round 36 Discrepancy: 50.0818442143032\n"
     ]
    },
    {
     "name": "stderr",
     "output_type": "stream",
     "text": [
      "Epoch:   5%|▌         | 1/20 [00:00<00:02,  6.95it/s]"
     ]
    },
    {
     "name": "stdout",
     "output_type": "stream",
     "text": [
      "gradient difference: 18.452816267386414\n"
     ]
    },
    {
     "name": "stderr",
     "output_type": "stream",
     "text": [
      "                                                      \r"
     ]
    },
    {
     "name": "stdout",
     "output_type": "stream",
     "text": [
      "At round 37 accuracy: 0.5953559641678453\n",
      "At round 37 training accuracy: 0.6047555651877767\n",
      "At round 37 training loss: 0.9031310622643381\n",
      "At round 37 Discrepancy: 46.72689951026094\n"
     ]
    },
    {
     "name": "stderr",
     "output_type": "stream",
     "text": [
      "\r",
      "Epoch:   0%|          | 0/20 [00:00<?, ?it/s]"
     ]
    },
    {
     "name": "stdout",
     "output_type": "stream",
     "text": [
      "gradient difference: 12.328263380537363\n"
     ]
    },
    {
     "name": "stderr",
     "output_type": "stream",
     "text": [
      "                                                      \r"
     ]
    },
    {
     "name": "stdout",
     "output_type": "stream",
     "text": [
      "At round 38 accuracy: 0.6211692597831212\n",
      "At round 38 training accuracy: 0.6346945725873866\n",
      "At round 38 training loss: 0.9301069181367851\n",
      "At round 38 Discrepancy: 44.49392202663298\n"
     ]
    },
    {
     "name": "stderr",
     "output_type": "stream",
     "text": [
      "Epoch:   5%|▌         | 1/20 [00:00<00:02,  8.44it/s]"
     ]
    },
    {
     "name": "stdout",
     "output_type": "stream",
     "text": [
      "gradient difference: 12.201709234195913\n"
     ]
    },
    {
     "name": "stderr",
     "output_type": "stream",
     "text": [
      "                                                      \r"
     ]
    },
    {
     "name": "stdout",
     "output_type": "stream",
     "text": [
      "At round 39 accuracy: 0.6168081093823669\n",
      "At round 39 training accuracy: 0.634137279791944\n",
      "At round 39 training loss: 1.0428941828213465\n",
      "At round 39 Discrepancy: 48.047546727363034\n"
     ]
    },
    {
     "name": "stderr",
     "output_type": "stream",
     "text": [
      "Epoch:   5%|▌         | 1/20 [00:00<00:02,  8.62it/s]"
     ]
    },
    {
     "name": "stdout",
     "output_type": "stream",
     "text": [
      "gradient difference: 10.642886761289287\n"
     ]
    },
    {
     "name": "stderr",
     "output_type": "stream",
     "text": [
      "                                                      \r"
     ]
    },
    {
     "name": "stdout",
     "output_type": "stream",
     "text": [
      "At round 40 accuracy: 0.5642385667138142\n",
      "At round 40 training accuracy: 0.5870769992879037\n",
      "At round 40 training loss: 1.0098263816817175\n",
      "At round 40 Discrepancy: 47.52936788556882\n"
     ]
    },
    {
     "name": "stderr",
     "output_type": "stream",
     "text": [
      "Epoch:   5%|▌         | 1/20 [00:00<00:02,  8.16it/s]"
     ]
    },
    {
     "name": "stdout",
     "output_type": "stream",
     "text": [
      "gradient difference: 17.79664858164699\n"
     ]
    },
    {
     "name": "stderr",
     "output_type": "stream",
     "text": [
      "                                                      \r"
     ]
    },
    {
     "name": "stdout",
     "output_type": "stream",
     "text": [
      "At round 41 accuracy: 0.6034889203206035\n",
      "At round 41 training accuracy: 0.6224341310876498\n",
      "At round 41 training loss: 0.934262671384253\n",
      "At round 41 Discrepancy: 48.7331029103534\n"
     ]
    },
    {
     "name": "stderr",
     "output_type": "stream",
     "text": [
      "Epoch:  10%|█         | 2/20 [00:00<00:01, 11.14it/s]"
     ]
    },
    {
     "name": "stdout",
     "output_type": "stream",
     "text": [
      "gradient difference: 13.803287528323043\n"
     ]
    },
    {
     "name": "stderr",
     "output_type": "stream",
     "text": [
      "                                                      \r"
     ]
    },
    {
     "name": "stdout",
     "output_type": "stream",
     "text": [
      "At round 42 accuracy: 0.6176331918906176\n",
      "At round 42 training accuracy: 0.6364283723954302\n",
      "At round 42 training loss: 0.9113388155330708\n",
      "At round 42 Discrepancy: 42.67617610953524\n"
     ]
    },
    {
     "name": "stderr",
     "output_type": "stream",
     "text": [
      "Epoch:   5%|▌         | 1/20 [00:00<00:02,  8.76it/s]"
     ]
    },
    {
     "name": "stdout",
     "output_type": "stream",
     "text": [
      "gradient difference: 14.088395261524916\n"
     ]
    },
    {
     "name": "stderr",
     "output_type": "stream",
     "text": [
      "                                                      \r"
     ]
    },
    {
     "name": "stdout",
     "output_type": "stream",
     "text": [
      "At round 43 accuracy: 0.6181046676096181\n",
      "At round 43 training accuracy: 0.6340443976593703\n",
      "At round 43 training loss: 0.8379387618571208\n",
      "At round 43 Discrepancy: 46.35480472467906\n"
     ]
    },
    {
     "name": "stderr",
     "output_type": "stream",
     "text": [
      "Epoch:   5%|▌         | 1/20 [00:00<00:03,  5.32it/s]"
     ]
    },
    {
     "name": "stdout",
     "output_type": "stream",
     "text": [
      "gradient difference: 9.383346498792479\n"
     ]
    },
    {
     "name": "stderr",
     "output_type": "stream",
     "text": [
      "                                                      \r"
     ]
    },
    {
     "name": "stdout",
     "output_type": "stream",
     "text": [
      "At round 44 accuracy: 0.6234087694483734\n",
      "At round 44 training accuracy: 0.6444162357967739\n",
      "At round 44 training loss: 0.8995263161466815\n",
      "At round 44 Discrepancy: 41.08271968861981\n"
     ]
    },
    {
     "name": "stderr",
     "output_type": "stream",
     "text": [
      "Epoch:   5%|▌         | 1/20 [00:00<00:01,  9.82it/s]"
     ]
    },
    {
     "name": "stdout",
     "output_type": "stream",
     "text": [
      "gradient difference: 14.87564492585109\n"
     ]
    },
    {
     "name": "stderr",
     "output_type": "stream",
     "text": [
      "                                                      \r"
     ]
    },
    {
     "name": "stdout",
     "output_type": "stream",
     "text": [
      "At round 45 accuracy: 0.5866336633663366\n",
      "At round 45 training accuracy: 0.5995851264745039\n",
      "At round 45 training loss: 0.9637781323617599\n",
      "At round 45 Discrepancy: 49.08100253892812\n"
     ]
    },
    {
     "name": "stderr",
     "output_type": "stream",
     "text": [
      "Epoch:  10%|█         | 2/20 [00:00<00:01, 10.97it/s]"
     ]
    },
    {
     "name": "stdout",
     "output_type": "stream",
     "text": [
      "gradient difference: 16.00015244336101\n"
     ]
    },
    {
     "name": "stderr",
     "output_type": "stream",
     "text": [
      "                                                      \r"
     ]
    },
    {
     "name": "stdout",
     "output_type": "stream",
     "text": [
      "At round 46 accuracy: 0.6047854785478548\n",
      "At round 46 training accuracy: 0.6232391095699558\n",
      "At round 46 training loss: 0.9315759294241821\n",
      "At round 46 Discrepancy: 44.78189936036207\n"
     ]
    },
    {
     "name": "stderr",
     "output_type": "stream",
     "text": [
      "Epoch:  10%|█         | 2/20 [00:00<00:01, 11.69it/s]"
     ]
    },
    {
     "name": "stdout",
     "output_type": "stream",
     "text": [
      "gradient difference: 17.34515440934171\n"
     ]
    },
    {
     "name": "stderr",
     "output_type": "stream",
     "text": [
      "                                                      \r"
     ]
    },
    {
     "name": "stdout",
     "output_type": "stream",
     "text": [
      "At round 47 accuracy: 0.6334276284771334\n",
      "At round 47 training accuracy: 0.6446020000619215\n",
      "At round 47 training loss: 0.894362360743112\n",
      "At round 47 Discrepancy: 45.455666261577655\n"
     ]
    },
    {
     "name": "stderr",
     "output_type": "stream",
     "text": [
      "Epoch:   5%|▌         | 1/20 [00:00<00:02,  7.73it/s]"
     ]
    },
    {
     "name": "stdout",
     "output_type": "stream",
     "text": [
      "gradient difference: 14.830615810552725\n"
     ]
    },
    {
     "name": "stderr",
     "output_type": "stream",
     "text": [
      "                                                      \r"
     ]
    },
    {
     "name": "stdout",
     "output_type": "stream",
     "text": [
      "At round 48 accuracy: 0.6455681282413955\n",
      "At round 48 training accuracy: 0.6556549738381994\n",
      "At round 48 training loss: 0.9653091670620265\n",
      "At round 48 Discrepancy: 42.807711457357925\n"
     ]
    },
    {
     "name": "stderr",
     "output_type": "stream",
     "text": [
      "Epoch:  10%|█         | 2/20 [00:00<00:01, 10.95it/s]"
     ]
    },
    {
     "name": "stdout",
     "output_type": "stream",
     "text": [
      "gradient difference: 13.498011386900329\n"
     ]
    },
    {
     "name": "stderr",
     "output_type": "stream",
     "text": [
      "                                                      \r"
     ]
    },
    {
     "name": "stdout",
     "output_type": "stream",
     "text": [
      "At round 49 accuracy: 0.6295379537953796\n",
      "At round 49 training accuracy: 0.6410105576024026\n",
      "At round 49 training loss: 0.8828699075710003\n",
      "At round 49 Discrepancy: 47.77140057638493\n"
     ]
    },
    {
     "name": "stderr",
     "output_type": "stream",
     "text": [
      "\r",
      "Epoch:   0%|          | 0/20 [00:00<?, ?it/s]"
     ]
    },
    {
     "name": "stdout",
     "output_type": "stream",
     "text": [
      "gradient difference: 12.960594730645397\n"
     ]
    },
    {
     "name": "stderr",
     "output_type": "stream",
     "text": [
      "                                                      \r"
     ]
    },
    {
     "name": "stdout",
     "output_type": "stream",
     "text": [
      "At round 50 accuracy: 0.6307166430928807\n",
      "At round 50 training accuracy: 0.6332084584662064\n",
      "At round 50 training loss: 0.9304920415062383\n",
      "At round 50 Discrepancy: 49.410116126560894\n"
     ]
    },
    {
     "name": "stderr",
     "output_type": "stream",
     "text": [
      "\r",
      "Epoch:   0%|          | 0/20 [00:00<?, ?it/s]"
     ]
    },
    {
     "name": "stdout",
     "output_type": "stream",
     "text": [
      "gradient difference: 14.879695587342113\n"
     ]
    },
    {
     "name": "stderr",
     "output_type": "stream",
     "text": [
      "                                                      \r"
     ]
    },
    {
     "name": "stdout",
     "output_type": "stream",
     "text": [
      "At round 51 accuracy: 0.611975483262612\n",
      "At round 51 training accuracy: 0.6141985819994427\n",
      "At round 51 training loss: 0.877284421520767\n",
      "At round 51 Discrepancy: 49.477393498255815\n"
     ]
    },
    {
     "name": "stderr",
     "output_type": "stream",
     "text": [
      "Epoch:   5%|▌         | 1/20 [00:00<00:02,  8.72it/s]"
     ]
    },
    {
     "name": "stdout",
     "output_type": "stream",
     "text": [
      "gradient difference: 9.868622005396144\n"
     ]
    },
    {
     "name": "stderr",
     "output_type": "stream",
     "text": [
      "                                                      \r"
     ]
    },
    {
     "name": "stdout",
     "output_type": "stream",
     "text": [
      "At round 52 accuracy: 0.6274163130598774\n",
      "At round 52 training accuracy: 0.6355924332022663\n",
      "At round 52 training loss: 0.8940788720461327\n",
      "At round 52 Discrepancy: 42.41429755091672\n"
     ]
    },
    {
     "name": "stderr",
     "output_type": "stream",
     "text": [
      "Epoch:   5%|▌         | 1/20 [00:00<00:02,  8.67it/s]"
     ]
    },
    {
     "name": "stdout",
     "output_type": "stream",
     "text": [
      "gradient difference: 11.197240761367626\n"
     ]
    },
    {
     "name": "stderr",
     "output_type": "stream",
     "text": [
      "                                                      \r"
     ]
    },
    {
     "name": "stdout",
     "output_type": "stream",
     "text": [
      "At round 53 accuracy: 0.6295379537953796\n",
      "At round 53 training accuracy: 0.6352518653828292\n",
      "At round 53 training loss: 0.9783765225683313\n",
      "At round 53 Discrepancy: 46.18684228580321\n"
     ]
    },
    {
     "name": "stderr",
     "output_type": "stream",
     "text": [
      "Epoch:   5%|▌         | 1/20 [00:00<00:03,  6.19it/s]"
     ]
    },
    {
     "name": "stdout",
     "output_type": "stream",
     "text": [
      "gradient difference: 15.06096127826167\n"
     ]
    },
    {
     "name": "stderr",
     "output_type": "stream",
     "text": [
      "                                                      \r"
     ]
    },
    {
     "name": "stdout",
     "output_type": "stream",
     "text": [
      "At round 54 accuracy: 0.6421499292786421\n",
      "At round 54 training accuracy: 0.6449425678813585\n",
      "At round 54 training loss: 1.0105341274365727\n",
      "At round 54 Discrepancy: 44.310885508202354\n"
     ]
    },
    {
     "name": "stderr",
     "output_type": "stream",
     "text": [
      "Epoch:   5%|▌         | 1/20 [00:00<00:02,  6.78it/s]"
     ]
    },
    {
     "name": "stdout",
     "output_type": "stream",
     "text": [
      "gradient difference: 13.190359603709183\n"
     ]
    },
    {
     "name": "stderr",
     "output_type": "stream",
     "text": [
      "                                                      \r"
     ]
    },
    {
     "name": "stdout",
     "output_type": "stream",
     "text": [
      "At round 55 accuracy: 0.6222300801508722\n",
      "At round 55 training accuracy: 0.6266447877643271\n",
      "At round 55 training loss: 1.0539682672187398\n",
      "At round 55 Discrepancy: 42.67630054630006\n"
     ]
    },
    {
     "name": "stderr",
     "output_type": "stream",
     "text": [
      "Epoch:   5%|▌         | 1/20 [00:00<00:02,  8.52it/s]"
     ]
    },
    {
     "name": "stdout",
     "output_type": "stream",
     "text": [
      "gradient difference: 16.548263254294056\n"
     ]
    },
    {
     "name": "stderr",
     "output_type": "stream",
     "text": [
      "                                                      \r"
     ]
    },
    {
     "name": "stdout",
     "output_type": "stream",
     "text": [
      "At round 56 accuracy: 0.6143328618576144\n",
      "At round 56 training accuracy: 0.6193070992909997\n",
      "At round 56 training loss: 0.9111083520994111\n",
      "At round 56 Discrepancy: 51.426328944069034\n"
     ]
    },
    {
     "name": "stderr",
     "output_type": "stream",
     "text": [
      "Epoch:   5%|▌         | 1/20 [00:00<00:02,  6.79it/s]"
     ]
    },
    {
     "name": "stdout",
     "output_type": "stream",
     "text": [
      "gradient difference: 10.781183169957956\n"
     ]
    },
    {
     "name": "stderr",
     "output_type": "stream",
     "text": [
      "                                                      \r"
     ]
    },
    {
     "name": "stdout",
     "output_type": "stream",
     "text": [
      "At round 57 accuracy: 0.6176331918906176\n",
      "At round 57 training accuracy: 0.6242298523174092\n",
      "At round 57 training loss: 0.9483597794916584\n",
      "At round 57 Discrepancy: 37.26773768478645\n"
     ]
    },
    {
     "name": "stderr",
     "output_type": "stream",
     "text": [
      "Epoch:   5%|▌         | 1/20 [00:00<00:03,  5.86it/s]"
     ]
    },
    {
     "name": "stdout",
     "output_type": "stream",
     "text": [
      "gradient difference: 14.215483532308024\n"
     ]
    },
    {
     "name": "stderr",
     "output_type": "stream",
     "text": [
      "                                                      \r"
     ]
    },
    {
     "name": "stdout",
     "output_type": "stream",
     "text": [
      "At round 58 accuracy: 0.6103253182461104\n",
      "At round 58 training accuracy: 0.6160871853617759\n",
      "At round 58 training loss: 1.073598569885028\n",
      "At round 58 Discrepancy: 41.503240062153736\n"
     ]
    },
    {
     "name": "stderr",
     "output_type": "stream",
     "text": [
      "\r",
      "Epoch:   0%|          | 0/20 [00:00<?, ?it/s]"
     ]
    },
    {
     "name": "stdout",
     "output_type": "stream",
     "text": [
      "gradient difference: 25.591371125138256\n"
     ]
    },
    {
     "name": "stderr",
     "output_type": "stream",
     "text": [
      "                                                      \r"
     ]
    },
    {
     "name": "stdout",
     "output_type": "stream",
     "text": [
      "At round 59 accuracy: 0.6524045261669024\n",
      "At round 59 training accuracy: 0.6560574630793523\n",
      "At round 59 training loss: 0.9382405087078218\n",
      "At round 59 Discrepancy: 62.57521014617829\n"
     ]
    },
    {
     "name": "stderr",
     "output_type": "stream",
     "text": [
      "Epoch:  10%|█         | 2/20 [00:00<00:01, 10.77it/s]"
     ]
    },
    {
     "name": "stdout",
     "output_type": "stream",
     "text": [
      "gradient difference: 9.169852150713162\n"
     ]
    },
    {
     "name": "stderr",
     "output_type": "stream",
     "text": [
      "                                                      \r"
     ]
    },
    {
     "name": "stdout",
     "output_type": "stream",
     "text": [
      "At round 60 accuracy: 0.6188118811881188\n",
      "At round 60 training accuracy: 0.6244156165825567\n",
      "At round 60 training loss: 0.92001058812628\n",
      "At round 60 Discrepancy: 37.57986345224325\n"
     ]
    },
    {
     "name": "stderr",
     "output_type": "stream",
     "text": [
      "\r",
      "Epoch:   0%|          | 0/20 [00:00<?, ?it/s]"
     ]
    },
    {
     "name": "stdout",
     "output_type": "stream",
     "text": [
      "gradient difference: 13.83644579001496\n"
     ]
    },
    {
     "name": "stderr",
     "output_type": "stream",
     "text": [
      "                                                      \r"
     ]
    },
    {
     "name": "stdout",
     "output_type": "stream",
     "text": [
      "At round 61 accuracy: 0.6416784535596417\n",
      "At round 61 training accuracy: 0.6411653611566922\n",
      "At round 61 training loss: 1.0396469176533443\n",
      "At round 61 Discrepancy: 51.5175070951367\n"
     ]
    },
    {
     "name": "stderr",
     "output_type": "stream",
     "text": [
      "Epoch:   5%|▌         | 1/20 [00:00<00:02,  6.72it/s]"
     ]
    },
    {
     "name": "stdout",
     "output_type": "stream",
     "text": [
      "gradient difference: 22.040173968599568\n"
     ]
    },
    {
     "name": "stderr",
     "output_type": "stream",
     "text": [
      "                                                      \r"
     ]
    },
    {
     "name": "stdout",
     "output_type": "stream",
     "text": [
      "At round 62 accuracy: 0.6047854785478548\n",
      "At round 62 training accuracy: 0.6092139075513173\n",
      "At round 62 training loss: 1.012592397750281\n",
      "At round 62 Discrepancy: 48.99942512927572\n"
     ]
    },
    {
     "name": "stderr",
     "output_type": "stream",
     "text": [
      "\r",
      "Epoch:   0%|          | 0/20 [00:00<?, ?it/s]"
     ]
    },
    {
     "name": "stdout",
     "output_type": "stream",
     "text": [
      "gradient difference: 16.028315126348655\n"
     ]
    },
    {
     "name": "stderr",
     "output_type": "stream",
     "text": [
      "                                                      \r"
     ]
    },
    {
     "name": "stdout",
     "output_type": "stream",
     "text": [
      "At round 63 accuracy: 0.6270627062706271\n",
      "At round 63 training accuracy: 0.6296479767175455\n",
      "At round 63 training loss: 1.1047036985977248\n",
      "At round 63 Discrepancy: 48.385154149710836\n"
     ]
    },
    {
     "name": "stderr",
     "output_type": "stream",
     "text": [
      "Epoch:   5%|▌         | 1/20 [00:00<00:02,  8.87it/s]"
     ]
    },
    {
     "name": "stdout",
     "output_type": "stream",
     "text": [
      "gradient difference: 22.965040876376655\n"
     ]
    },
    {
     "name": "stderr",
     "output_type": "stream",
     "text": [
      "                                                      \r"
     ]
    },
    {
     "name": "stdout",
     "output_type": "stream",
     "text": [
      "At round 64 accuracy: 0.6447430457331448\n",
      "At round 64 training accuracy: 0.6507631815226478\n",
      "At round 64 training loss: 1.0274943108643741\n",
      "At round 64 Discrepancy: 47.59629784266067\n"
     ]
    },
    {
     "name": "stderr",
     "output_type": "stream",
     "text": [
      "Epoch:  10%|█         | 2/20 [00:00<00:01, 12.25it/s]"
     ]
    },
    {
     "name": "stdout",
     "output_type": "stream",
     "text": [
      "gradient difference: 16.453036852812822\n"
     ]
    },
    {
     "name": "stderr",
     "output_type": "stream",
     "text": [
      "                                                      \r"
     ]
    },
    {
     "name": "stdout",
     "output_type": "stream",
     "text": [
      "At round 65 accuracy: 0.6225836869401226\n",
      "At round 65 training accuracy: 0.6254063593300102\n",
      "At round 65 training loss: 0.8407817491694933\n",
      "At round 65 Discrepancy: 48.89496790663639\n"
     ]
    },
    {
     "name": "stderr",
     "output_type": "stream",
     "text": [
      "Epoch:   5%|▌         | 1/20 [00:00<00:02,  7.25it/s]"
     ]
    },
    {
     "name": "stdout",
     "output_type": "stream",
     "text": [
      "gradient difference: 8.650586954404648\n"
     ]
    },
    {
     "name": "stderr",
     "output_type": "stream",
     "text": [
      "                                                      \r"
     ]
    },
    {
     "name": "stdout",
     "output_type": "stream",
     "text": [
      "At round 66 accuracy: 0.6338991041961339\n",
      "At round 66 training accuracy: 0.6365522152388619\n",
      "At round 66 training loss: 0.9220874784441934\n",
      "At round 66 Discrepancy: 37.20012303108877\n"
     ]
    },
    {
     "name": "stderr",
     "output_type": "stream",
     "text": [
      "Epoch:   5%|▌         | 1/20 [00:00<00:02,  8.22it/s]"
     ]
    },
    {
     "name": "stdout",
     "output_type": "stream",
     "text": [
      "gradient difference: 13.501245734590935\n"
     ]
    },
    {
     "name": "stderr",
     "output_type": "stream",
     "text": [
      "                                                      \r"
     ]
    },
    {
     "name": "stdout",
     "output_type": "stream",
     "text": [
      "At round 67 accuracy: 0.6337812352663837\n",
      "At round 67 training accuracy: 0.636923743769157\n",
      "At round 67 training loss: 0.9918617463701437\n",
      "At round 67 Discrepancy: 41.2201869378598\n"
     ]
    },
    {
     "name": "stderr",
     "output_type": "stream",
     "text": [
      "Epoch:  10%|█         | 2/20 [00:00<00:01, 11.95it/s]"
     ]
    },
    {
     "name": "stdout",
     "output_type": "stream",
     "text": [
      "gradient difference: 15.280597638450855\n"
     ]
    },
    {
     "name": "stderr",
     "output_type": "stream",
     "text": [
      "                                                      \r"
     ]
    },
    {
     "name": "stdout",
     "output_type": "stream",
     "text": [
      "At round 68 accuracy: 0.6377887788778878\n",
      "At round 68 training accuracy: 0.64670732840026\n",
      "At round 68 training loss: 1.064274805380117\n",
      "At round 68 Discrepancy: 37.606681242302635\n"
     ]
    },
    {
     "name": "stderr",
     "output_type": "stream",
     "text": [
      "Epoch:  10%|█         | 2/20 [00:00<00:01, 12.91it/s]"
     ]
    },
    {
     "name": "stdout",
     "output_type": "stream",
     "text": [
      "gradient difference: 17.118303871626775\n"
     ]
    },
    {
     "name": "stderr",
     "output_type": "stream",
     "text": [
      "                                                      \r"
     ]
    },
    {
     "name": "stdout",
     "output_type": "stream",
     "text": [
      "At round 69 accuracy: 0.6232909005186232\n",
      "At round 69 training accuracy: 0.6331774977553485\n",
      "At round 69 training loss: 1.102087237004109\n",
      "At round 69 Discrepancy: 41.27412983129346\n"
     ]
    },
    {
     "name": "stderr",
     "output_type": "stream",
     "text": [
      "Epoch:  10%|█         | 2/20 [00:00<00:01, 10.90it/s]"
     ]
    },
    {
     "name": "stdout",
     "output_type": "stream",
     "text": [
      "gradient difference: 23.177669441053332\n"
     ]
    },
    {
     "name": "stderr",
     "output_type": "stream",
     "text": [
      "                                                      \r"
     ]
    },
    {
     "name": "stdout",
     "output_type": "stream",
     "text": [
      "At round 70 accuracy: 0.5904054691183404\n",
      "At round 70 training accuracy: 0.6040744295489024\n",
      "At round 70 training loss: 1.104998409877025\n",
      "At round 70 Discrepancy: 53.21442297740489\n"
     ]
    },
    {
     "name": "stderr",
     "output_type": "stream",
     "text": [
      "\r",
      "Epoch:   0%|          | 0/20 [00:00<?, ?it/s]"
     ]
    },
    {
     "name": "stdout",
     "output_type": "stream",
     "text": [
      "gradient difference: 20.53174280285048\n"
     ]
    },
    {
     "name": "stderr",
     "output_type": "stream",
     "text": [
      "                                                      \r"
     ]
    },
    {
     "name": "stdout",
     "output_type": "stream",
     "text": [
      "At round 71 accuracy: 0.6382602545968883\n",
      "At round 71 training accuracy: 0.6463977212916808\n",
      "At round 71 training loss: 0.961390811330288\n",
      "At round 71 Discrepancy: 48.114619371330406\n"
     ]
    },
    {
     "name": "stderr",
     "output_type": "stream",
     "text": [
      "Epoch:   5%|▌         | 1/20 [00:00<00:02,  8.59it/s]"
     ]
    },
    {
     "name": "stdout",
     "output_type": "stream",
     "text": [
      "gradient difference: 16.495825273019445\n"
     ]
    },
    {
     "name": "stderr",
     "output_type": "stream",
     "text": [
      "                                                      \r"
     ]
    },
    {
     "name": "stdout",
     "output_type": "stream",
     "text": [
      "At round 72 accuracy: 0.6342527109853843\n",
      "At round 72 training accuracy: 0.651041827920369\n",
      "At round 72 training loss: 0.8976870660036235\n",
      "At round 72 Discrepancy: 57.608811669396594\n"
     ]
    },
    {
     "name": "stderr",
     "output_type": "stream",
     "text": [
      "Epoch:  10%|█         | 2/20 [00:00<00:01, 10.82it/s]"
     ]
    },
    {
     "name": "stdout",
     "output_type": "stream",
     "text": [
      "gradient difference: 12.40508644228565\n"
     ]
    },
    {
     "name": "stderr",
     "output_type": "stream",
     "text": [
      "                                                      \r"
     ]
    },
    {
     "name": "stdout",
     "output_type": "stream",
     "text": [
      "At round 73 accuracy: 0.6305987741631306\n",
      "At round 73 training accuracy: 0.6382240936251896\n",
      "At round 73 training loss: 0.957340979426737\n",
      "At round 73 Discrepancy: 41.59789302887514\n"
     ]
    },
    {
     "name": "stderr",
     "output_type": "stream",
     "text": [
      "Epoch:   5%|▌         | 1/20 [00:00<00:02,  7.73it/s]"
     ]
    },
    {
     "name": "stdout",
     "output_type": "stream",
     "text": [
      "gradient difference: 17.366787710559223\n"
     ]
    },
    {
     "name": "stderr",
     "output_type": "stream",
     "text": [
      "                                                      \r"
     ]
    },
    {
     "name": "stdout",
     "output_type": "stream",
     "text": [
      "At round 74 accuracy: 0.6302451673738803\n",
      "At round 74 training accuracy: 0.6399888541440911\n",
      "At round 74 training loss: 0.9567209845433883\n",
      "At round 74 Discrepancy: 45.408552158401776\n"
     ]
    },
    {
     "name": "stderr",
     "output_type": "stream",
     "text": [
      "Epoch:   5%|▌         | 1/20 [00:00<00:02,  7.14it/s]"
     ]
    },
    {
     "name": "stdout",
     "output_type": "stream",
     "text": [
      "gradient difference: 17.17598392652606\n"
     ]
    },
    {
     "name": "stderr",
     "output_type": "stream",
     "text": [
      "                                                      \r"
     ]
    },
    {
     "name": "stdout",
     "output_type": "stream",
     "text": [
      "At round 75 accuracy: 0.5827439886845828\n",
      "At round 75 training accuracy: 0.6006687513545311\n",
      "At round 75 training loss: 1.0612347416465309\n",
      "At round 75 Discrepancy: 51.08293010244893\n"
     ]
    },
    {
     "name": "stderr",
     "output_type": "stream",
     "text": [
      "Epoch:   5%|▌         | 1/20 [00:00<00:02,  7.81it/s]"
     ]
    },
    {
     "name": "stdout",
     "output_type": "stream",
     "text": [
      "gradient difference: 15.139766118623651\n"
     ]
    },
    {
     "name": "stderr",
     "output_type": "stream",
     "text": [
      "                                                      \r"
     ]
    },
    {
     "name": "stdout",
     "output_type": "stream",
     "text": [
      "At round 76 accuracy: 0.6102074493163602\n",
      "At round 76 training accuracy: 0.6207003312796062\n",
      "At round 76 training loss: 0.9780893982799979\n",
      "At round 76 Discrepancy: 52.869414201507034\n"
     ]
    },
    {
     "name": "stderr",
     "output_type": "stream",
     "text": [
      "Epoch:   5%|▌         | 1/20 [00:00<00:03,  5.50it/s]"
     ]
    },
    {
     "name": "stdout",
     "output_type": "stream",
     "text": [
      "gradient difference: 16.894915743132135\n"
     ]
    },
    {
     "name": "stderr",
     "output_type": "stream",
     "text": [
      "                                                      \r"
     ]
    },
    {
     "name": "stdout",
     "output_type": "stream",
     "text": [
      "At round 77 accuracy: 0.6501650165016502\n",
      "At round 77 training accuracy: 0.6557168952599152\n",
      "At round 77 training loss: 0.9663789558290901\n",
      "At round 77 Discrepancy: 41.188551551375966\n"
     ]
    },
    {
     "name": "stderr",
     "output_type": "stream",
     "text": [
      "Epoch:   5%|▌         | 1/20 [00:00<00:02,  9.25it/s]"
     ]
    },
    {
     "name": "stdout",
     "output_type": "stream",
     "text": [
      "gradient difference: 15.74796853632074\n"
     ]
    },
    {
     "name": "stderr",
     "output_type": "stream",
     "text": [
      "                                                      \r"
     ]
    },
    {
     "name": "stdout",
     "output_type": "stream",
     "text": [
      "At round 78 accuracy: 0.6538189533239038\n",
      "At round 78 training accuracy: 0.6602681197560296\n",
      "At round 78 training loss: 0.9711510464605292\n",
      "At round 78 Discrepancy: 47.36915225069207\n"
     ]
    },
    {
     "name": "stderr",
     "output_type": "stream",
     "text": [
      "Epoch:   5%|▌         | 1/20 [00:00<00:02,  7.38it/s]"
     ]
    },
    {
     "name": "stdout",
     "output_type": "stream",
     "text": [
      "gradient difference: 15.119255272789475\n"
     ]
    },
    {
     "name": "stderr",
     "output_type": "stream",
     "text": [
      "                                                      \r"
     ]
    },
    {
     "name": "stdout",
     "output_type": "stream",
     "text": [
      "At round 79 accuracy: 0.6271805752003772\n",
      "At round 79 training accuracy: 0.6371404687451624\n",
      "At round 79 training loss: 0.9687462232362447\n",
      "At round 79 Discrepancy: 43.830058754516735\n"
     ]
    },
    {
     "name": "stderr",
     "output_type": "stream",
     "text": [
      "Epoch:  10%|█         | 2/20 [00:00<00:01, 12.17it/s]"
     ]
    },
    {
     "name": "stdout",
     "output_type": "stream",
     "text": [
      "gradient difference: 19.205065695878893\n"
     ]
    },
    {
     "name": "stderr",
     "output_type": "stream",
     "text": [
      "                                                      \r"
     ]
    },
    {
     "name": "stdout",
     "output_type": "stream",
     "text": [
      "At round 80 accuracy: 0.6585337105139085\n",
      "At round 80 training accuracy: 0.6689990402179634\n",
      "At round 80 training loss: 0.8959993302324201\n",
      "At round 80 Discrepancy: 47.16460007076549\n"
     ]
    },
    {
     "name": "stderr",
     "output_type": "stream",
     "text": [
      "Epoch:  10%|█         | 2/20 [00:00<00:01, 12.13it/s]"
     ]
    },
    {
     "name": "stdout",
     "output_type": "stream",
     "text": [
      "gradient difference: 11.603523814510773\n"
     ]
    },
    {
     "name": "stderr",
     "output_type": "stream",
     "text": [
      "                                                      \r"
     ]
    },
    {
     "name": "stdout",
     "output_type": "stream",
     "text": [
      "At round 81 accuracy: 0.6356671381423856\n",
      "At round 81 training accuracy: 0.6500201244620577\n",
      "At round 81 training loss: 0.8293834429285822\n",
      "At round 81 Discrepancy: 48.50686134601679\n"
     ]
    },
    {
     "name": "stderr",
     "output_type": "stream",
     "text": [
      "Epoch:   5%|▌         | 1/20 [00:00<00:02,  7.03it/s]"
     ]
    },
    {
     "name": "stdout",
     "output_type": "stream",
     "text": [
      "gradient difference: 10.767044775241924\n"
     ]
    },
    {
     "name": "stderr",
     "output_type": "stream",
     "text": [
      "                                                      \r"
     ]
    },
    {
     "name": "stdout",
     "output_type": "stream",
     "text": [
      "At round 82 accuracy: 0.6258840169731259\n",
      "At round 82 training accuracy: 0.6389052292640639\n",
      "At round 82 training loss: 0.8903052966690297\n",
      "At round 82 Discrepancy: 44.87561661527123\n"
     ]
    },
    {
     "name": "stderr",
     "output_type": "stream",
     "text": [
      "Epoch:   5%|▌         | 1/20 [00:00<00:02,  8.81it/s]"
     ]
    },
    {
     "name": "stdout",
     "output_type": "stream",
     "text": [
      "gradient difference: 14.595128090329316\n"
     ]
    },
    {
     "name": "stderr",
     "output_type": "stream",
     "text": [
      "                                                      \r"
     ]
    },
    {
     "name": "stdout",
     "output_type": "stream",
     "text": [
      "At round 83 accuracy: 0.6201084394153701\n",
      "At round 83 training accuracy: 0.6403603826743862\n",
      "At round 83 training loss: 0.9030822614431215\n",
      "At round 83 Discrepancy: 55.84016091270962\n"
     ]
    },
    {
     "name": "stderr",
     "output_type": "stream",
     "text": [
      "Epoch:   5%|▌         | 1/20 [00:00<00:02,  8.74it/s]"
     ]
    },
    {
     "name": "stdout",
     "output_type": "stream",
     "text": [
      "gradient difference: 15.110646063058415\n"
     ]
    },
    {
     "name": "stderr",
     "output_type": "stream",
     "text": [
      "                                                      \r"
     ]
    },
    {
     "name": "stdout",
     "output_type": "stream",
     "text": [
      "At round 84 accuracy: 0.6584158415841584\n",
      "At round 84 training accuracy: 0.6672962011207777\n",
      "At round 84 training loss: 0.8589144504085172\n",
      "At round 84 Discrepancy: 44.28467647225414\n"
     ]
    },
    {
     "name": "stderr",
     "output_type": "stream",
     "text": [
      "\r",
      "Epoch:   0%|          | 0/20 [00:00<?, ?it/s]"
     ]
    },
    {
     "name": "stdout",
     "output_type": "stream",
     "text": [
      "gradient difference: 11.800203566510325\n"
     ]
    },
    {
     "name": "stderr",
     "output_type": "stream",
     "text": [
      "                                                      \r"
     ]
    },
    {
     "name": "stdout",
     "output_type": "stream",
     "text": [
      "At round 85 accuracy: 0.6508722300801508\n",
      "At round 85 training accuracy: 0.6676367689402148\n",
      "At round 85 training loss: 1.0007247949850255\n",
      "At round 85 Discrepancy: 42.94698706045506\n"
     ]
    },
    {
     "name": "stderr",
     "output_type": "stream",
     "text": [
      "Epoch:   5%|▌         | 1/20 [00:00<00:02,  6.56it/s]"
     ]
    },
    {
     "name": "stdout",
     "output_type": "stream",
     "text": [
      "gradient difference: 12.541550202000069\n"
     ]
    },
    {
     "name": "stderr",
     "output_type": "stream",
     "text": [
      "                                                      \r"
     ]
    },
    {
     "name": "stdout",
     "output_type": "stream",
     "text": [
      "At round 86 accuracy: 0.6571192833569072\n",
      "At round 86 training accuracy: 0.6735502647140779\n",
      "At round 86 training loss: 1.0948746410262262\n",
      "At round 86 Discrepancy: 34.97521984979817\n"
     ]
    },
    {
     "name": "stderr",
     "output_type": "stream",
     "text": [
      "Epoch:   5%|▌         | 1/20 [00:00<00:02,  8.98it/s]"
     ]
    },
    {
     "name": "stdout",
     "output_type": "stream",
     "text": [
      "gradient difference: 17.630447161236276\n"
     ]
    },
    {
     "name": "stderr",
     "output_type": "stream",
     "text": [
      "                                                      \r"
     ]
    },
    {
     "name": "stdout",
     "output_type": "stream",
     "text": [
      "At round 87 accuracy: 0.652993870815653\n",
      "At round 87 training accuracy: 0.6714758970865972\n",
      "At round 87 training loss: 0.9586468703413115\n",
      "At round 87 Discrepancy: 53.083982705054694\n"
     ]
    },
    {
     "name": "stderr",
     "output_type": "stream",
     "text": [
      "Epoch:   5%|▌         | 1/20 [00:00<00:02,  8.49it/s]"
     ]
    },
    {
     "name": "stdout",
     "output_type": "stream",
     "text": [
      "gradient difference: 12.583561439867212\n"
     ]
    },
    {
     "name": "stderr",
     "output_type": "stream",
     "text": [
      "                                                      \r"
     ]
    },
    {
     "name": "stdout",
     "output_type": "stream",
     "text": [
      "At round 88 accuracy: 0.6564120697784064\n",
      "At round 88 training accuracy: 0.6714449363757392\n",
      "At round 88 training loss: 0.9444326872187773\n",
      "At round 88 Discrepancy: 42.20286582237301\n"
     ]
    },
    {
     "name": "stderr",
     "output_type": "stream",
     "text": [
      "Epoch:   5%|▌         | 1/20 [00:00<00:02,  9.36it/s]"
     ]
    },
    {
     "name": "stdout",
     "output_type": "stream",
     "text": [
      "gradient difference: 13.721760939981195\n"
     ]
    },
    {
     "name": "stderr",
     "output_type": "stream",
     "text": [
      "                                                      \r"
     ]
    },
    {
     "name": "stdout",
     "output_type": "stream",
     "text": [
      "At round 89 accuracy: 0.6580622347949081\n",
      "At round 89 training accuracy: 0.6693396080374006\n",
      "At round 89 training loss: 0.9973377178140039\n",
      "At round 89 Discrepancy: 43.19933247078924\n"
     ]
    },
    {
     "name": "stderr",
     "output_type": "stream",
     "text": [
      "Epoch:   5%|▌         | 1/20 [00:00<00:02,  6.81it/s]"
     ]
    },
    {
     "name": "stdout",
     "output_type": "stream",
     "text": [
      "gradient difference: 13.857697283670886\n"
     ]
    },
    {
     "name": "stderr",
     "output_type": "stream",
     "text": [
      "                                                      \r"
     ]
    },
    {
     "name": "stdout",
     "output_type": "stream",
     "text": [
      "At round 90 accuracy: 0.617043847241867\n",
      "At round 90 training accuracy: 0.6423109074584352\n",
      "At round 90 training loss: 0.9631089385570178\n",
      "At round 90 Discrepancy: 52.648893609451015\n"
     ]
    },
    {
     "name": "stderr",
     "output_type": "stream",
     "text": [
      "Epoch:  10%|█         | 2/20 [00:00<00:01, 11.55it/s]"
     ]
    },
    {
     "name": "stdout",
     "output_type": "stream",
     "text": [
      "gradient difference: 17.815025601918702\n"
     ]
    },
    {
     "name": "stderr",
     "output_type": "stream",
     "text": [
      "                                                      \r"
     ]
    },
    {
     "name": "stdout",
     "output_type": "stream",
     "text": [
      "At round 91 accuracy: 0.661008958038661\n",
      "At round 91 training accuracy: 0.675036378835258\n",
      "At round 91 training loss: 1.055232390644077\n",
      "At round 91 Discrepancy: 49.59530074584475\n"
     ]
    },
    {
     "name": "stderr",
     "output_type": "stream",
     "text": [
      "Epoch:  10%|█         | 2/20 [00:00<00:01, 11.56it/s]"
     ]
    },
    {
     "name": "stdout",
     "output_type": "stream",
     "text": [
      "gradient difference: 12.722103929643934\n"
     ]
    },
    {
     "name": "stderr",
     "output_type": "stream",
     "text": [
      "                                                      \r"
     ]
    },
    {
     "name": "stdout",
     "output_type": "stream",
     "text": [
      "At round 92 accuracy: 0.659005186232909\n",
      "At round 92 training accuracy: 0.6763676894021486\n",
      "At round 92 training loss: 0.9923569929834526\n",
      "At round 92 Discrepancy: 46.90010393836604\n"
     ]
    },
    {
     "name": "stderr",
     "output_type": "stream",
     "text": [
      "Epoch:   5%|▌         | 1/20 [00:00<00:02,  8.30it/s]"
     ]
    },
    {
     "name": "stdout",
     "output_type": "stream",
     "text": [
      "gradient difference: 14.224669354775028\n"
     ]
    },
    {
     "name": "stderr",
     "output_type": "stream",
     "text": [
      "                                                      \r"
     ]
    },
    {
     "name": "stdout",
     "output_type": "stream",
     "text": [
      "At round 93 accuracy: 0.6545261669024045\n",
      "At round 93 training accuracy: 0.6694634508808323\n",
      "At round 93 training loss: 1.0490268497764748\n",
      "At round 93 Discrepancy: 42.57832196880469\n"
     ]
    },
    {
     "name": "stderr",
     "output_type": "stream",
     "text": [
      "Epoch:   5%|▌         | 1/20 [00:00<00:02,  6.36it/s]"
     ]
    },
    {
     "name": "stdout",
     "output_type": "stream",
     "text": [
      "gradient difference: 18.08577102527175\n"
     ]
    },
    {
     "name": "stderr",
     "output_type": "stream",
     "text": [
      "                                                      \r"
     ]
    },
    {
     "name": "stdout",
     "output_type": "stream",
     "text": [
      "At round 94 accuracy: 0.6227015558698727\n",
      "At round 94 training accuracy: 0.6468311712436917\n",
      "At round 94 training loss: 0.8953734730633341\n",
      "At round 94 Discrepancy: 52.10046378379811\n"
     ]
    },
    {
     "name": "stderr",
     "output_type": "stream",
     "text": [
      "Epoch:  10%|█         | 2/20 [00:00<00:01, 12.14it/s]"
     ]
    },
    {
     "name": "stdout",
     "output_type": "stream",
     "text": [
      "gradient difference: 15.720019496640836\n"
     ]
    },
    {
     "name": "stderr",
     "output_type": "stream",
     "text": [
      "                                                      \r"
     ]
    },
    {
     "name": "stdout",
     "output_type": "stream",
     "text": [
      "At round 95 accuracy: 0.6656058462989156\n",
      "At round 95 training accuracy: 0.6790922319576458\n",
      "At round 95 training loss: 0.8124679269027707\n",
      "At round 95 Discrepancy: 43.78844045368634\n"
     ]
    },
    {
     "name": "stderr",
     "output_type": "stream",
     "text": [
      "\r",
      "Epoch:   0%|          | 0/20 [00:00<?, ?it/s]"
     ]
    },
    {
     "name": "stdout",
     "output_type": "stream",
     "text": [
      "gradient difference: 10.797354807493388\n"
     ]
    },
    {
     "name": "stderr",
     "output_type": "stream",
     "text": [
      "                                                      \r"
     ]
    },
    {
     "name": "stdout",
     "output_type": "stream",
     "text": [
      "At round 96 accuracy: 0.6620697784064121\n",
      "At round 96 training accuracy: 0.6770797857518809\n",
      "At round 96 training loss: 0.8929084779643294\n",
      "At round 96 Discrepancy: 35.63359793505093\n"
     ]
    },
    {
     "name": "stderr",
     "output_type": "stream",
     "text": [
      "Epoch:  10%|█         | 2/20 [00:00<00:01, 11.69it/s]"
     ]
    },
    {
     "name": "stdout",
     "output_type": "stream",
     "text": [
      "gradient difference: 14.723079623580627\n"
     ]
    },
    {
     "name": "stderr",
     "output_type": "stream",
     "text": [
      "                                                      \r"
     ]
    },
    {
     "name": "stdout",
     "output_type": "stream",
     "text": [
      "At round 97 accuracy: 0.629066478076379\n",
      "At round 97 training accuracy: 0.6555311309947677\n",
      "At round 97 training loss: 0.7900609049286684\n",
      "At round 97 Discrepancy: 50.70251594517594\n"
     ]
    },
    {
     "name": "stderr",
     "output_type": "stream",
     "text": [
      "Epoch:   5%|▌         | 1/20 [00:00<00:02,  8.40it/s]"
     ]
    },
    {
     "name": "stdout",
     "output_type": "stream",
     "text": [
      "gradient difference: 8.353931551876105\n"
     ]
    },
    {
     "name": "stderr",
     "output_type": "stream",
     "text": [
      "                                                      \r"
     ]
    },
    {
     "name": "stdout",
     "output_type": "stream",
     "text": [
      "At round 98 accuracy: 0.652993870815653\n",
      "At round 98 training accuracy: 0.6759032787392798\n",
      "At round 98 training loss: 0.8564251096391913\n",
      "At round 98 Discrepancy: 36.044182521727976\n"
     ]
    },
    {
     "name": "stderr",
     "output_type": "stream",
     "text": [
      "Epoch:   5%|▌         | 1/20 [00:00<00:02,  8.71it/s]"
     ]
    },
    {
     "name": "stdout",
     "output_type": "stream",
     "text": [
      "gradient difference: 13.118237421019737\n"
     ]
    },
    {
     "name": "stderr",
     "output_type": "stream",
     "text": [
      "                                                      \r"
     ]
    },
    {
     "name": "stdout",
     "output_type": "stream",
     "text": [
      "At round 99 accuracy: 0.6361386138613861\n",
      "At round 99 training accuracy: 0.6599585126474504\n",
      "At round 99 training loss: 0.8414876885748362\n",
      "At round 99 Discrepancy: 51.749902231892214\n"
     ]
    },
    {
     "name": "stderr",
     "output_type": "stream",
     "text": [
      "Epoch:   5%|▌         | 1/20 [00:00<00:02,  8.77it/s]"
     ]
    },
    {
     "name": "stdout",
     "output_type": "stream",
     "text": [
      "gradient difference: 13.145648715616346\n"
     ]
    },
    {
     "name": "stderr",
     "output_type": "stream",
     "text": [
      "                                                      \r"
     ]
    },
    {
     "name": "stdout",
     "output_type": "stream",
     "text": [
      "At round 100 accuracy: 0.6454502593116455\n",
      "At round 100 training accuracy: 0.6619709588532152\n",
      "At round 100 training loss: 0.9121331364423191\n",
      "At round 100 Discrepancy: 41.410444908055325\n"
     ]
    },
    {
     "name": "stderr",
     "output_type": "stream",
     "text": [
      "Epoch:  10%|█         | 2/20 [00:00<00:01, 11.32it/s]"
     ]
    },
    {
     "name": "stdout",
     "output_type": "stream",
     "text": [
      "gradient difference: 19.3852686331754\n"
     ]
    },
    {
     "name": "stderr",
     "output_type": "stream",
     "text": [
      "                                                      \r"
     ]
    },
    {
     "name": "stdout",
     "output_type": "stream",
     "text": [
      "At round 101 accuracy: 0.6648986327204149\n",
      "At round 101 training accuracy: 0.6824669494411592\n",
      "At round 101 training loss: 0.8014260917198318\n",
      "At round 101 Discrepancy: 53.280548649124164\n"
     ]
    },
    {
     "name": "stderr",
     "output_type": "stream",
     "text": [
      "\r",
      "Epoch:   0%|          | 0/20 [00:00<?, ?it/s]"
     ]
    },
    {
     "name": "stdout",
     "output_type": "stream",
     "text": [
      "gradient difference: 10.440720987333885\n"
     ]
    },
    {
     "name": "stderr",
     "output_type": "stream",
     "text": [
      "                                                      \r"
     ]
    },
    {
     "name": "stdout",
     "output_type": "stream",
     "text": [
      "At round 102 accuracy: 0.6661951909476662\n",
      "At round 102 training accuracy: 0.6776680392581814\n",
      "At round 102 training loss: 0.9002010594084339\n",
      "At round 102 Discrepancy: 38.80605171270957\n"
     ]
    },
    {
     "name": "stderr",
     "output_type": "stream",
     "text": [
      "Epoch:  10%|█         | 2/20 [00:00<00:01, 11.73it/s]"
     ]
    },
    {
     "name": "stdout",
     "output_type": "stream",
     "text": [
      "gradient difference: 15.00496993714598\n"
     ]
    },
    {
     "name": "stderr",
     "output_type": "stream",
     "text": [
      "                                                      \r"
     ]
    },
    {
     "name": "stdout",
     "output_type": "stream",
     "text": [
      "At round 103 accuracy: 0.6585337105139085\n",
      "At round 103 training accuracy: 0.6743242824855259\n",
      "At round 103 training loss: 0.9939393278414508\n",
      "At round 103 Discrepancy: 45.63053206409222\n"
     ]
    },
    {
     "name": "stderr",
     "output_type": "stream",
     "text": [
      "\r",
      "Epoch:   0%|          | 0/20 [00:00<?, ?it/s]"
     ]
    },
    {
     "name": "stdout",
     "output_type": "stream",
     "text": [
      "gradient difference: 17.187550290692023\n"
     ]
    },
    {
     "name": "stderr",
     "output_type": "stream",
     "text": [
      "                                                      \r"
     ]
    },
    {
     "name": "stdout",
     "output_type": "stream",
     "text": [
      "At round 104 accuracy: 0.642032060348892\n",
      "At round 104 training accuracy: 0.6587200842131335\n",
      "At round 104 training loss: 0.8415434750559022\n",
      "At round 104 Discrepancy: 54.50498517509996\n"
     ]
    },
    {
     "name": "stderr",
     "output_type": "stream",
     "text": [
      "Epoch:   5%|▌         | 1/20 [00:00<00:02,  8.67it/s]"
     ]
    },
    {
     "name": "stdout",
     "output_type": "stream",
     "text": [
      "gradient difference: 10.553812480540676\n"
     ]
    },
    {
     "name": "stderr",
     "output_type": "stream",
     "text": [
      "                                                      \r"
     ]
    },
    {
     "name": "stdout",
     "output_type": "stream",
     "text": [
      "At round 105 accuracy: 0.6454502593116455\n",
      "At round 105 training accuracy: 0.6659648905538871\n",
      "At round 105 training loss: 0.813087846825739\n",
      "At round 105 Discrepancy: 43.69518375637418\n"
     ]
    },
    {
     "name": "stderr",
     "output_type": "stream",
     "text": [
      "\r",
      "Epoch:   0%|          | 0/20 [00:00<?, ?it/s]"
     ]
    },
    {
     "name": "stdout",
     "output_type": "stream",
     "text": [
      "gradient difference: 9.55552783363395\n"
     ]
    },
    {
     "name": "stderr",
     "output_type": "stream",
     "text": [
      "                                                      \r"
     ]
    },
    {
     "name": "stdout",
     "output_type": "stream",
     "text": [
      "At round 106 accuracy: 0.6442715700141443\n",
      "At round 106 training accuracy: 0.6626211337812317\n",
      "At round 106 training loss: 0.840310258603773\n",
      "At round 106 Discrepancy: 46.05279513118065\n"
     ]
    },
    {
     "name": "stderr",
     "output_type": "stream",
     "text": [
      "Epoch:   5%|▌         | 1/20 [00:00<00:02,  8.74it/s]"
     ]
    },
    {
     "name": "stdout",
     "output_type": "stream",
     "text": [
      "gradient difference: 12.572169586084422\n"
     ]
    },
    {
     "name": "stderr",
     "output_type": "stream",
     "text": [
      "                                                      \r"
     ]
    },
    {
     "name": "stdout",
     "output_type": "stream",
     "text": [
      "At round 107 accuracy: 0.6528760018859029\n",
      "At round 107 training accuracy: 0.667946376048794\n",
      "At round 107 training loss: 0.9884888703461877\n",
      "At round 107 Discrepancy: 45.173531835559295\n"
     ]
    },
    {
     "name": "stderr",
     "output_type": "stream",
     "text": [
      "Epoch:  10%|█         | 2/20 [00:00<00:01, 12.01it/s]"
     ]
    },
    {
     "name": "stdout",
     "output_type": "stream",
     "text": [
      "gradient difference: 20.911857235830894\n"
     ]
    },
    {
     "name": "stderr",
     "output_type": "stream",
     "text": [
      "                                                      \r"
     ]
    },
    {
     "name": "stdout",
     "output_type": "stream",
     "text": [
      "At round 108 accuracy: 0.6501650165016502\n",
      "At round 108 training accuracy: 0.6714758970865972\n",
      "At round 108 training loss: 0.8900128521630328\n",
      "At round 108 Discrepancy: 54.59471555258521\n"
     ]
    },
    {
     "name": "stderr",
     "output_type": "stream",
     "text": [
      "Epoch:   5%|▌         | 1/20 [00:00<00:02,  8.72it/s]"
     ]
    },
    {
     "name": "stdout",
     "output_type": "stream",
     "text": [
      "gradient difference: 13.955062888484626\n"
     ]
    },
    {
     "name": "stderr",
     "output_type": "stream",
     "text": [
      "                                                      \r"
     ]
    },
    {
     "name": "stdout",
     "output_type": "stream",
     "text": [
      "At round 109 accuracy: 0.6548797736916548\n",
      "At round 109 training accuracy: 0.6761509644261432\n",
      "At round 109 training loss: 0.926645478122077\n",
      "At round 109 Discrepancy: 48.46028871318865\n"
     ]
    },
    {
     "name": "stderr",
     "output_type": "stream",
     "text": [
      "\r",
      "Epoch:   0%|          | 0/20 [00:00<?, ?it/s]"
     ]
    },
    {
     "name": "stdout",
     "output_type": "stream",
     "text": [
      "gradient difference: 16.32221592499342\n"
     ]
    },
    {
     "name": "stderr",
     "output_type": "stream",
     "text": [
      "                                                      \r"
     ]
    },
    {
     "name": "stdout",
     "output_type": "stream",
     "text": [
      "At round 110 accuracy: 0.67008486562942\n",
      "At round 110 training accuracy: 0.6894331093841914\n",
      "At round 110 training loss: 0.9011292816119285\n",
      "At round 110 Discrepancy: 47.275337233680794\n"
     ]
    },
    {
     "name": "stderr",
     "output_type": "stream",
     "text": [
      "\r",
      "Epoch:   0%|          | 0/20 [00:00<?, ?it/s]"
     ]
    },
    {
     "name": "stdout",
     "output_type": "stream",
     "text": [
      "gradient difference: 11.742672160686269\n"
     ]
    },
    {
     "name": "stderr",
     "output_type": "stream",
     "text": [
      "                                                      \r"
     ]
    },
    {
     "name": "stdout",
     "output_type": "stream",
     "text": [
      "At round 111 accuracy: 0.6597123998114097\n",
      "At round 111 training accuracy: 0.6853772562618038\n",
      "At round 111 training loss: 0.7812834159048411\n",
      "At round 111 Discrepancy: 43.57305821457673\n"
     ]
    },
    {
     "name": "stderr",
     "output_type": "stream",
     "text": [
      "Epoch:  10%|█         | 2/20 [00:00<00:01, 11.32it/s]"
     ]
    },
    {
     "name": "stdout",
     "output_type": "stream",
     "text": [
      "gradient difference: 10.476614329585518\n"
     ]
    },
    {
     "name": "stderr",
     "output_type": "stream",
     "text": [
      "                                                      \r"
     ]
    },
    {
     "name": "stdout",
     "output_type": "stream",
     "text": [
      "At round 112 accuracy: 0.6733851956624234\n",
      "At round 112 training accuracy: 0.694727390940896\n",
      "At round 112 training loss: 0.8313326909269422\n",
      "At round 112 Discrepancy: 41.49673644768665\n"
     ]
    },
    {
     "name": "stderr",
     "output_type": "stream",
     "text": [
      "Epoch:  10%|█         | 2/20 [00:00<00:01, 11.06it/s]"
     ]
    },
    {
     "name": "stdout",
     "output_type": "stream",
     "text": [
      "gradient difference: 11.646014523131083\n"
     ]
    },
    {
     "name": "stderr",
     "output_type": "stream",
     "text": [
      "                                                      \r"
     ]
    },
    {
     "name": "stdout",
     "output_type": "stream",
     "text": [
      "At round 113 accuracy: 0.6598302687411598\n",
      "At round 113 training accuracy: 0.6854082169726617\n",
      "At round 113 training loss: 0.796604098830066\n",
      "At round 113 Discrepancy: 43.78763006368306\n"
     ]
    },
    {
     "name": "stderr",
     "output_type": "stream",
     "text": [
      "\r",
      "Epoch:   0%|          | 0/20 [00:00<?, ?it/s]"
     ]
    },
    {
     "name": "stdout",
     "output_type": "stream",
     "text": [
      "gradient difference: 11.420105020780166\n"
     ]
    },
    {
     "name": "stderr",
     "output_type": "stream",
     "text": [
      "                                                      \r"
     ]
    },
    {
     "name": "stdout",
     "output_type": "stream",
     "text": [
      "At round 114 accuracy: 0.6463932107496464\n",
      "At round 114 training accuracy: 0.6734573825815041\n",
      "At round 114 training loss: 0.8101740399212759\n",
      "At round 114 Discrepancy: 55.78642469293288\n"
     ]
    },
    {
     "name": "stderr",
     "output_type": "stream",
     "text": [
      "Epoch:  10%|█         | 2/20 [00:00<00:01, 12.52it/s]"
     ]
    },
    {
     "name": "stdout",
     "output_type": "stream",
     "text": [
      "gradient difference: 10.070916193712844\n"
     ]
    },
    {
     "name": "stderr",
     "output_type": "stream",
     "text": [
      "                                                      \r"
     ]
    },
    {
     "name": "stdout",
     "output_type": "stream",
     "text": [
      "At round 115 accuracy: 0.6565299387081566\n",
      "At round 115 training accuracy: 0.6829932815257438\n",
      "At round 115 training loss: 0.72182235769071\n",
      "At round 115 Discrepancy: 44.86308234307086\n"
     ]
    },
    {
     "name": "stderr",
     "output_type": "stream",
     "text": [
      "\r",
      "Epoch:   0%|          | 0/20 [00:00<?, ?it/s]"
     ]
    },
    {
     "name": "stdout",
     "output_type": "stream",
     "text": [
      "gradient difference: 7.561710396928532\n"
     ]
    },
    {
     "name": "stderr",
     "output_type": "stream",
     "text": [
      "                                                      \r"
     ]
    },
    {
     "name": "stdout",
     "output_type": "stream",
     "text": [
      "At round 116 accuracy: 0.6625412541254125\n",
      "At round 116 training accuracy: 0.6837672992971918\n",
      "At round 116 training loss: 0.9466662339511296\n",
      "At round 116 Discrepancy: 38.27234284530994\n"
     ]
    },
    {
     "name": "stderr",
     "output_type": "stream",
     "text": [
      "Epoch:   5%|▌         | 1/20 [00:00<00:03,  5.49it/s]"
     ]
    },
    {
     "name": "stdout",
     "output_type": "stream",
     "text": [
      "gradient difference: 16.716276844753217\n"
     ]
    },
    {
     "name": "stderr",
     "output_type": "stream",
     "text": [
      "                                                      \r"
     ]
    },
    {
     "name": "stdout",
     "output_type": "stream",
     "text": [
      "At round 117 accuracy: 0.668906176331919\n",
      "At round 117 training accuracy: 0.6947583516517539\n",
      "At round 117 training loss: 0.867979799033003\n",
      "At round 117 Discrepancy: 45.26040243717449\n"
     ]
    },
    {
     "name": "stderr",
     "output_type": "stream",
     "text": [
      "Epoch:   5%|▌         | 1/20 [00:00<00:02,  7.54it/s]"
     ]
    },
    {
     "name": "stdout",
     "output_type": "stream",
     "text": [
      "gradient difference: 13.102489595006253\n"
     ]
    },
    {
     "name": "stderr",
     "output_type": "stream",
     "text": [
      "                                                      \r"
     ]
    },
    {
     "name": "stdout",
     "output_type": "stream",
     "text": [
      "At round 118 accuracy: 0.6456859971711457\n",
      "At round 118 training accuracy: 0.6755317502089848\n",
      "At round 118 training loss: 0.7894723358617105\n",
      "At round 118 Discrepancy: 44.18249272933131\n"
     ]
    },
    {
     "name": "stderr",
     "output_type": "stream",
     "text": [
      "Epoch:   5%|▌         | 1/20 [00:00<00:02,  8.88it/s]"
     ]
    },
    {
     "name": "stdout",
     "output_type": "stream",
     "text": [
      "gradient difference: 10.760642075124956\n"
     ]
    },
    {
     "name": "stderr",
     "output_type": "stream",
     "text": [
      "                                                      \r"
     ]
    },
    {
     "name": "stdout",
     "output_type": "stream",
     "text": [
      "At round 119 accuracy: 0.6714992927864215\n",
      "At round 119 training accuracy: 0.6973590513638193\n",
      "At round 119 training loss: 0.8701606514035755\n",
      "At round 119 Discrepancy: 38.81866058499044\n"
     ]
    },
    {
     "name": "stderr",
     "output_type": "stream",
     "text": [
      "Epoch:  10%|█         | 2/20 [00:00<00:01, 11.91it/s]"
     ]
    },
    {
     "name": "stdout",
     "output_type": "stream",
     "text": [
      "gradient difference: 12.743746089795316\n"
     ]
    },
    {
     "name": "stderr",
     "output_type": "stream",
     "text": [
      "                                                      \r"
     ]
    },
    {
     "name": "stdout",
     "output_type": "stream",
     "text": [
      "At round 120 accuracy: 0.6428571428571429\n",
      "At round 120 training accuracy: 0.6744171646180996\n",
      "At round 120 training loss: 0.8727729400623786\n",
      "At round 120 Discrepancy: 46.01173059470896\n"
     ]
    },
    {
     "name": "stderr",
     "output_type": "stream",
     "text": [
      "Epoch:   5%|▌         | 1/20 [00:00<00:02,  8.67it/s]"
     ]
    },
    {
     "name": "stdout",
     "output_type": "stream",
     "text": [
      "gradient difference: 13.269482891336256\n"
     ]
    },
    {
     "name": "stderr",
     "output_type": "stream",
     "text": [
      "                                                      \r"
     ]
    },
    {
     "name": "stdout",
     "output_type": "stream",
     "text": [
      "At round 121 accuracy: 0.6674917491749175\n",
      "At round 121 training accuracy: 0.6947893123626119\n",
      "At round 121 training loss: 0.8506488897908775\n",
      "At round 121 Discrepancy: 41.858775317568636\n"
     ]
    },
    {
     "name": "stderr",
     "output_type": "stream",
     "text": [
      "Epoch:  10%|█         | 2/20 [00:00<00:01, 11.09it/s]"
     ]
    },
    {
     "name": "stdout",
     "output_type": "stream",
     "text": [
      "gradient difference: 13.589531684398148\n"
     ]
    },
    {
     "name": "stderr",
     "output_type": "stream",
     "text": [
      "                                                      \r"
     ]
    },
    {
     "name": "stdout",
     "output_type": "stream",
     "text": [
      "At round 122 accuracy: 0.6441537010843942\n",
      "At round 122 training accuracy: 0.6762748072695749\n",
      "At round 122 training loss: 0.7725205715955198\n",
      "At round 122 Discrepancy: 53.986272970144626\n"
     ]
    },
    {
     "name": "stderr",
     "output_type": "stream",
     "text": [
      "Epoch:  10%|█         | 2/20 [00:00<00:01, 11.27it/s]"
     ]
    },
    {
     "name": "stdout",
     "output_type": "stream",
     "text": [
      "gradient difference: 11.552332617822449\n"
     ]
    },
    {
     "name": "stderr",
     "output_type": "stream",
     "text": [
      "                                                      \r"
     ]
    },
    {
     "name": "stdout",
     "output_type": "stream",
     "text": [
      "At round 123 accuracy: 0.6359028760018859\n",
      "At round 123 training accuracy: 0.6681011796030837\n",
      "At round 123 training loss: 0.7969509728917001\n",
      "At round 123 Discrepancy: 44.0774479331197\n"
     ]
    },
    {
     "name": "stderr",
     "output_type": "stream",
     "text": [
      "Epoch:   5%|▌         | 1/20 [00:00<00:02,  8.91it/s]"
     ]
    },
    {
     "name": "stdout",
     "output_type": "stream",
     "text": [
      "gradient difference: 12.65108130202169\n"
     ]
    },
    {
     "name": "stderr",
     "output_type": "stream",
     "text": [
      "                                                      \r"
     ]
    },
    {
     "name": "stdout",
     "output_type": "stream",
     "text": [
      "At round 124 accuracy: 0.6522866572371523\n",
      "At round 124 training accuracy: 0.6883185237933063\n",
      "At round 124 training loss: 0.7834734388073578\n",
      "At round 124 Discrepancy: 48.106306577716474\n"
     ]
    },
    {
     "name": "stderr",
     "output_type": "stream",
     "text": [
      "Epoch:   5%|▌         | 1/20 [00:00<00:02,  7.92it/s]"
     ]
    },
    {
     "name": "stdout",
     "output_type": "stream",
     "text": [
      "gradient difference: 13.748164962627916\n"
     ]
    },
    {
     "name": "stderr",
     "output_type": "stream",
     "text": [
      "                                                      \r"
     ]
    },
    {
     "name": "stdout",
     "output_type": "stream",
     "text": [
      "At round 125 accuracy: 0.6558227251296558\n",
      "At round 125 training accuracy: 0.6882256416607325\n",
      "At round 125 training loss: 0.8177195574357656\n",
      "At round 125 Discrepancy: 49.93387236427291\n"
     ]
    },
    {
     "name": "stderr",
     "output_type": "stream",
     "text": [
      "\r",
      "Epoch:   0%|          | 0/20 [00:00<?, ?it/s]"
     ]
    },
    {
     "name": "stdout",
     "output_type": "stream",
     "text": [
      "gradient difference: 14.64819704212531\n"
     ]
    },
    {
     "name": "stderr",
     "output_type": "stream",
     "text": [
      "                                                      \r"
     ]
    },
    {
     "name": "stdout",
     "output_type": "stream",
     "text": [
      "At round 126 accuracy: 0.6297736916548797\n",
      "At round 126 training accuracy: 0.6566457165856528\n",
      "At round 126 training loss: 0.9042186154967791\n",
      "At round 126 Discrepancy: 50.608176041725145\n"
     ]
    },
    {
     "name": "stderr",
     "output_type": "stream",
     "text": [
      "Epoch:   5%|▌         | 1/20 [00:00<00:02,  8.81it/s]"
     ]
    },
    {
     "name": "stdout",
     "output_type": "stream",
     "text": [
      "gradient difference: 17.61175912594508\n"
     ]
    },
    {
     "name": "stderr",
     "output_type": "stream",
     "text": [
      "                                                      \r"
     ]
    },
    {
     "name": "stdout",
     "output_type": "stream",
     "text": [
      "At round 127 accuracy: 0.6775106082036775\n",
      "At round 127 training accuracy: 0.6996191832564476\n",
      "At round 127 training loss: 0.8834413721603973\n",
      "At round 127 Discrepancy: 46.810891757814915\n"
     ]
    },
    {
     "name": "stderr",
     "output_type": "stream",
     "text": [
      "\r",
      "Epoch:   0%|          | 0/20 [00:00<?, ?it/s]"
     ]
    },
    {
     "name": "stdout",
     "output_type": "stream",
     "text": [
      "gradient difference: 10.375177015622654\n"
     ]
    },
    {
     "name": "stderr",
     "output_type": "stream",
     "text": [
      "                                                      \r"
     ]
    },
    {
     "name": "stdout",
     "output_type": "stream",
     "text": [
      "At round 128 accuracy: 0.6740924092409241\n",
      "At round 128 training accuracy: 0.7008576116907644\n",
      "At round 128 training loss: 0.8170148355672908\n",
      "At round 128 Discrepancy: 37.9738596971618\n"
     ]
    },
    {
     "name": "stderr",
     "output_type": "stream",
     "text": [
      "Epoch:   5%|▌         | 1/20 [00:00<00:02,  8.15it/s]"
     ]
    },
    {
     "name": "stdout",
     "output_type": "stream",
     "text": [
      "gradient difference: 11.817189648510455\n"
     ]
    },
    {
     "name": "stderr",
     "output_type": "stream",
     "text": [
      "                                                      \r"
     ]
    },
    {
     "name": "stdout",
     "output_type": "stream",
     "text": [
      "At round 129 accuracy: 0.669024045261669\n",
      "At round 129 training accuracy: 0.697080404966098\n",
      "At round 129 training loss: 0.8722988823658272\n",
      "At round 129 Discrepancy: 47.04883030170285\n"
     ]
    },
    {
     "name": "stderr",
     "output_type": "stream",
     "text": [
      "Epoch:   5%|▌         | 1/20 [00:00<00:03,  5.49it/s]"
     ]
    },
    {
     "name": "stdout",
     "output_type": "stream",
     "text": [
      "gradient difference: 13.118087534111512\n"
     ]
    },
    {
     "name": "stderr",
     "output_type": "stream",
     "text": [
      "                                                      \r"
     ]
    },
    {
     "name": "stdout",
     "output_type": "stream",
     "text": [
      "At round 130 accuracy: 0.6683168316831684\n",
      "At round 130 training accuracy: 0.6960277407969288\n",
      "At round 130 training loss: 0.9956498286575205\n",
      "At round 130 Discrepancy: 39.64818232892682\n"
     ]
    },
    {
     "name": "stderr",
     "output_type": "stream",
     "text": [
      "\r",
      "Epoch:   0%|          | 0/20 [00:00<?, ?it/s]"
     ]
    },
    {
     "name": "stdout",
     "output_type": "stream",
     "text": [
      "gradient difference: 15.727749563443686\n"
     ]
    },
    {
     "name": "stderr",
     "output_type": "stream",
     "text": [
      "                                                      \r"
     ]
    },
    {
     "name": "stdout",
     "output_type": "stream",
     "text": [
      "At round 131 accuracy: 0.6230551626591231\n",
      "At round 131 training accuracy: 0.6484101674974457\n",
      "At round 131 training loss: 0.9382153408110369\n",
      "At round 131 Discrepancy: 59.09572148350813\n"
     ]
    },
    {
     "name": "stderr",
     "output_type": "stream",
     "text": [
      "Epoch:  10%|█         | 2/20 [00:00<00:01, 10.86it/s]"
     ]
    },
    {
     "name": "stdout",
     "output_type": "stream",
     "text": [
      "gradient difference: 17.165464382916216\n"
     ]
    },
    {
     "name": "stderr",
     "output_type": "stream",
     "text": [
      "                                                      \r"
     ]
    },
    {
     "name": "stdout",
     "output_type": "stream",
     "text": [
      "At round 132 accuracy: 0.6598302687411598\n",
      "At round 132 training accuracy: 0.6857178240812409\n",
      "At round 132 training loss: 0.7424670263509024\n",
      "At round 132 Discrepancy: 58.31070491519474\n"
     ]
    },
    {
     "name": "stderr",
     "output_type": "stream",
     "text": [
      "Epoch:   5%|▌         | 1/20 [00:00<00:02,  6.85it/s]"
     ]
    },
    {
     "name": "stdout",
     "output_type": "stream",
     "text": [
      "gradient difference: 7.99960894219265\n"
     ]
    },
    {
     "name": "stderr",
     "output_type": "stream",
     "text": [
      "                                                      \r"
     ]
    },
    {
     "name": "stdout",
     "output_type": "stream",
     "text": [
      "At round 133 accuracy: 0.671027817067421\n",
      "At round 133 training accuracy: 0.6941700981454534\n",
      "At round 133 training loss: 0.8835052497185587\n",
      "At round 133 Discrepancy: 36.47712075669471\n"
     ]
    },
    {
     "name": "stderr",
     "output_type": "stream",
     "text": [
      "Epoch:   5%|▌         | 1/20 [00:00<00:02,  8.51it/s]"
     ]
    },
    {
     "name": "stdout",
     "output_type": "stream",
     "text": [
      "gradient difference: 10.632382602368498\n"
     ]
    },
    {
     "name": "stderr",
     "output_type": "stream",
     "text": [
      "                                                      \r"
     ]
    },
    {
     "name": "stdout",
     "output_type": "stream",
     "text": [
      "At round 134 accuracy: 0.6672560113154172\n",
      "At round 134 training accuracy: 0.695129880182049\n",
      "At round 134 training loss: 0.8491112563243731\n",
      "At round 134 Discrepancy: 45.65142236105459\n"
     ]
    },
    {
     "name": "stderr",
     "output_type": "stream",
     "text": [
      "Epoch:  10%|█         | 2/20 [00:00<00:01, 10.90it/s]"
     ]
    },
    {
     "name": "stdout",
     "output_type": "stream",
     "text": [
      "gradient difference: 12.709670498872658\n"
     ]
    },
    {
     "name": "stderr",
     "output_type": "stream",
     "text": [
      "                                                      \r"
     ]
    },
    {
     "name": "stdout",
     "output_type": "stream",
     "text": [
      "At round 135 accuracy: 0.6631305987741631\n",
      "At round 135 training accuracy: 0.6922814947831202\n",
      "At round 135 training loss: 0.7688351427367677\n",
      "At round 135 Discrepancy: 54.58355005472129\n"
     ]
    },
    {
     "name": "stderr",
     "output_type": "stream",
     "text": [
      "Epoch:   5%|▌         | 1/20 [00:00<00:03,  5.51it/s]"
     ]
    },
    {
     "name": "stdout",
     "output_type": "stream",
     "text": [
      "gradient difference: 9.700179305307259\n"
     ]
    },
    {
     "name": "stderr",
     "output_type": "stream",
     "text": [
      "                                                      \r"
     ]
    },
    {
     "name": "stdout",
     "output_type": "stream",
     "text": [
      "At round 136 accuracy: 0.6693776520509194\n",
      "At round 136 training accuracy: 0.699835908232453\n",
      "At round 136 training loss: 0.859561851110987\n",
      "At round 136 Discrepancy: 34.95283636158645\n"
     ]
    },
    {
     "name": "stderr",
     "output_type": "stream",
     "text": [
      "Epoch:  10%|█         | 2/20 [00:00<00:01, 11.50it/s]"
     ]
    },
    {
     "name": "stdout",
     "output_type": "stream",
     "text": [
      "gradient difference: 13.63344402329746\n"
     ]
    },
    {
     "name": "stderr",
     "output_type": "stream",
     "text": [
      "                                                      \r"
     ]
    },
    {
     "name": "stdout",
     "output_type": "stream",
     "text": [
      "At round 137 accuracy: 0.6535832154644036\n",
      "At round 137 training accuracy: 0.6846032384903558\n",
      "At round 137 training loss: 0.8030472414399328\n",
      "At round 137 Discrepancy: 58.077470278447926\n"
     ]
    },
    {
     "name": "stderr",
     "output_type": "stream",
     "text": [
      "Epoch:  10%|█         | 2/20 [00:00<00:01, 11.67it/s]"
     ]
    },
    {
     "name": "stdout",
     "output_type": "stream",
     "text": [
      "gradient difference: 10.635609267899607\n"
     ]
    },
    {
     "name": "stderr",
     "output_type": "stream",
     "text": [
      "                                                      \r"
     ]
    },
    {
     "name": "stdout",
     "output_type": "stream",
     "text": [
      "At round 138 accuracy: 0.6726779820839227\n",
      "At round 138 training accuracy: 0.7043252113068516\n",
      "At round 138 training loss: 0.8342324915023441\n",
      "At round 138 Discrepancy: 33.75181833243223\n"
     ]
    },
    {
     "name": "stderr",
     "output_type": "stream",
     "text": [
      "Epoch:  10%|█         | 2/20 [00:00<00:01, 11.65it/s]"
     ]
    },
    {
     "name": "stdout",
     "output_type": "stream",
     "text": [
      "gradient difference: 10.331970408252301\n"
     ]
    },
    {
     "name": "stderr",
     "output_type": "stream",
     "text": [
      "                                                      \r"
     ]
    },
    {
     "name": "stdout",
     "output_type": "stream",
     "text": [
      "At round 139 accuracy: 0.6527581329561527\n",
      "At round 139 training accuracy: 0.6873587417567107\n",
      "At round 139 training loss: 0.8161591336413472\n",
      "At round 139 Discrepancy: 46.00718322720574\n"
     ]
    },
    {
     "name": "stderr",
     "output_type": "stream",
     "text": [
      "Epoch:  10%|█         | 2/20 [00:00<00:01, 11.35it/s]"
     ]
    },
    {
     "name": "stdout",
     "output_type": "stream",
     "text": [
      "gradient difference: 12.19893420781199\n"
     ]
    },
    {
     "name": "stderr",
     "output_type": "stream",
     "text": [
      "                                                      \r"
     ]
    },
    {
     "name": "stdout",
     "output_type": "stream",
     "text": [
      "At round 140 accuracy: 0.6714992927864215\n",
      "At round 140 training accuracy: 0.6985045976655624\n",
      "At round 140 training loss: 0.83968793407047\n",
      "At round 140 Discrepancy: 40.10538453602849\n"
     ]
    },
    {
     "name": "stderr",
     "output_type": "stream",
     "text": [
      "Epoch:  10%|█         | 2/20 [00:00<00:01, 11.52it/s]"
     ]
    },
    {
     "name": "stdout",
     "output_type": "stream",
     "text": [
      "gradient difference: 11.555279538625447\n"
     ]
    },
    {
     "name": "stderr",
     "output_type": "stream",
     "text": [
      "                                                      \r"
     ]
    },
    {
     "name": "stdout",
     "output_type": "stream",
     "text": [
      "At round 141 accuracy: 0.6742102781706742\n",
      "At round 141 training accuracy: 0.7016006687513545\n",
      "At round 141 training loss: 0.8386704247314277\n",
      "At round 141 Discrepancy: 43.49887176032588\n"
     ]
    },
    {
     "name": "stderr",
     "output_type": "stream",
     "text": [
      "\r",
      "Epoch:   0%|          | 0/20 [00:00<?, ?it/s]"
     ]
    },
    {
     "name": "stdout",
     "output_type": "stream",
     "text": [
      "gradient difference: 12.717801589396842\n"
     ]
    },
    {
     "name": "stderr",
     "output_type": "stream",
     "text": [
      "                                                      \r"
     ]
    },
    {
     "name": "stdout",
     "output_type": "stream",
     "text": [
      "At round 142 accuracy: 0.6747996228194248\n",
      "At round 142 training accuracy: 0.7039536827765566\n",
      "At round 142 training loss: 0.9866847203961605\n",
      "At round 142 Discrepancy: 41.498569723660744\n"
     ]
    },
    {
     "name": "stderr",
     "output_type": "stream",
     "text": [
      "Epoch:   5%|▌         | 1/20 [00:00<00:02,  8.76it/s]"
     ]
    },
    {
     "name": "stdout",
     "output_type": "stream",
     "text": [
      "gradient difference: 16.471071344027134\n"
     ]
    },
    {
     "name": "stderr",
     "output_type": "stream",
     "text": [
      "                                                      \r"
     ]
    },
    {
     "name": "stdout",
     "output_type": "stream",
     "text": [
      "At round 143 accuracy: 0.6778642149929278\n",
      "At round 143 training accuracy: 0.7029010186073872\n",
      "At round 143 training loss: 0.8961729286624067\n",
      "At round 143 Discrepancy: 49.76894579528421\n"
     ]
    },
    {
     "name": "stderr",
     "output_type": "stream",
     "text": [
      "Epoch:  10%|█         | 2/20 [00:00<00:01, 11.85it/s]"
     ]
    },
    {
     "name": "stdout",
     "output_type": "stream",
     "text": [
      "gradient difference: 14.8427717391418\n"
     ]
    },
    {
     "name": "stderr",
     "output_type": "stream",
     "text": [
      "                                                      \r"
     ]
    },
    {
     "name": "stdout",
     "output_type": "stream",
     "text": [
      "At round 144 accuracy: 0.679042904290429\n",
      "At round 144 training accuracy: 0.7083501037183814\n",
      "At round 144 training loss: 0.810130868191385\n",
      "At round 144 Discrepancy: 45.65071149334904\n"
     ]
    },
    {
     "name": "stderr",
     "output_type": "stream",
     "text": [
      "Epoch:  10%|█         | 2/20 [00:00<00:01, 10.96it/s]"
     ]
    },
    {
     "name": "stdout",
     "output_type": "stream",
     "text": [
      "gradient difference: 11.07572056976268\n"
     ]
    },
    {
     "name": "stderr",
     "output_type": "stream",
     "text": [
      "                                                      \r"
     ]
    },
    {
     "name": "stdout",
     "output_type": "stream",
     "text": [
      "At round 145 accuracy: 0.6719707685054219\n",
      "At round 145 training accuracy: 0.7016316294622125\n",
      "At round 145 training loss: 0.7997778283072619\n",
      "At round 145 Discrepancy: 43.3259599071069\n"
     ]
    },
    {
     "name": "stderr",
     "output_type": "stream",
     "text": [
      "Epoch:  10%|█         | 2/20 [00:00<00:01, 10.99it/s]"
     ]
    },
    {
     "name": "stdout",
     "output_type": "stream",
     "text": [
      "gradient difference: 9.923115896157597\n"
     ]
    },
    {
     "name": "stderr",
     "output_type": "stream",
     "text": [
      "                                                      \r"
     ]
    },
    {
     "name": "stdout",
     "output_type": "stream",
     "text": [
      "At round 146 accuracy: 0.6727958510136728\n",
      "At round 146 training accuracy: 0.705346914765163\n",
      "At round 146 training loss: 0.838097589114154\n",
      "At round 146 Discrepancy: 35.62294891533076\n"
     ]
    },
    {
     "name": "stderr",
     "output_type": "stream",
     "text": [
      "Epoch:  10%|█         | 2/20 [00:00<00:01, 11.64it/s]"
     ]
    },
    {
     "name": "stdout",
     "output_type": "stream",
     "text": [
      "gradient difference: 13.070994634412035\n"
     ]
    },
    {
     "name": "stderr",
     "output_type": "stream",
     "text": [
      "                                                      \r"
     ]
    },
    {
     "name": "stdout",
     "output_type": "stream",
     "text": [
      "At round 147 accuracy: 0.6766855256954267\n",
      "At round 147 training accuracy: 0.7077928109229388\n",
      "At round 147 training loss: 0.8762604456035475\n",
      "At round 147 Discrepancy: 42.90278742757212\n"
     ]
    },
    {
     "name": "stderr",
     "output_type": "stream",
     "text": [
      "\r",
      "Epoch:   0%|          | 0/20 [00:00<?, ?it/s]"
     ]
    },
    {
     "name": "stdout",
     "output_type": "stream",
     "text": [
      "gradient difference: 14.81610826290201\n"
     ]
    },
    {
     "name": "stderr",
     "output_type": "stream",
     "text": [
      "                                                      \r"
     ]
    },
    {
     "name": "stdout",
     "output_type": "stream",
     "text": [
      "At round 148 accuracy: 0.6604196133899104\n",
      "At round 148 training accuracy: 0.6987522833524258\n",
      "At round 148 training loss: 0.9703727148396181\n",
      "At round 148 Discrepancy: 45.838210206918944\n"
     ]
    },
    {
     "name": "stderr",
     "output_type": "stream",
     "text": [
      "Epoch:   5%|▌         | 1/20 [00:00<00:02,  8.51it/s]"
     ]
    },
    {
     "name": "stdout",
     "output_type": "stream",
     "text": [
      "gradient difference: 15.605789339148908\n"
     ]
    },
    {
     "name": "stderr",
     "output_type": "stream",
     "text": [
      "                                                      \r"
     ]
    },
    {
     "name": "stdout",
     "output_type": "stream",
     "text": [
      "At round 149 accuracy: 0.6667845355964168\n",
      "At round 149 training accuracy: 0.6980711477135515\n",
      "At round 149 training loss: 1.0151886858480792\n",
      "At round 149 Discrepancy: 38.378155639763364\n"
     ]
    },
    {
     "name": "stderr",
     "output_type": "stream",
     "text": [
      "Epoch:  10%|█         | 2/20 [00:00<00:01, 11.74it/s]"
     ]
    },
    {
     "name": "stdout",
     "output_type": "stream",
     "text": [
      "gradient difference: 16.75163786781504\n"
     ]
    },
    {
     "name": "stderr",
     "output_type": "stream",
     "text": [
      "                                                      \r"
     ]
    },
    {
     "name": "stdout",
     "output_type": "stream",
     "text": [
      "At round 150 accuracy: 0.6652522395096653\n",
      "At round 150 training accuracy: 0.6972042478095297\n",
      "At round 150 training loss: 0.8394191538500226\n",
      "At round 150 Discrepancy: 48.24400921731875\n"
     ]
    },
    {
     "name": "stderr",
     "output_type": "stream",
     "text": [
      "Epoch:  10%|█         | 2/20 [00:00<00:01, 11.24it/s]"
     ]
    },
    {
     "name": "stdout",
     "output_type": "stream",
     "text": [
      "gradient difference: 13.929338907324569\n"
     ]
    },
    {
     "name": "stderr",
     "output_type": "stream",
     "text": [
      "                                                      \r"
     ]
    },
    {
     "name": "stdout",
     "output_type": "stream",
     "text": [
      "At round 151 accuracy: 0.6771570014144271\n",
      "At round 151 training accuracy: 0.7035511935354035\n",
      "At round 151 training loss: 0.8950177104996034\n",
      "At round 151 Discrepancy: 43.852536493486795\n"
     ]
    },
    {
     "name": "stderr",
     "output_type": "stream",
     "text": [
      "\r",
      "Epoch:   0%|          | 0/20 [00:00<?, ?it/s]"
     ]
    },
    {
     "name": "stdout",
     "output_type": "stream",
     "text": [
      "gradient difference: 13.01448337071259\n"
     ]
    },
    {
     "name": "stderr",
     "output_type": "stream",
     "text": [
      "                                                      \r"
     ]
    },
    {
     "name": "stdout",
     "output_type": "stream",
     "text": [
      "At round 152 accuracy: 0.6634842055634135\n",
      "At round 152 training accuracy: 0.6961825443512183\n",
      "At round 152 training loss: 0.8109386809074487\n",
      "At round 152 Discrepancy: 47.14864600958771\n"
     ]
    },
    {
     "name": "stderr",
     "output_type": "stream",
     "text": [
      "Epoch:  10%|█         | 2/20 [00:00<00:01, 12.38it/s]"
     ]
    },
    {
     "name": "stdout",
     "output_type": "stream",
     "text": [
      "gradient difference: 12.480992540842696\n"
     ]
    },
    {
     "name": "stderr",
     "output_type": "stream",
     "text": [
      "                                                      \r"
     ]
    },
    {
     "name": "stdout",
     "output_type": "stream",
     "text": [
      "At round 153 accuracy: 0.6600660066006601\n",
      "At round 153 training accuracy: 0.6944797052540327\n",
      "At round 153 training loss: 0.8215994469455127\n",
      "At round 153 Discrepancy: 46.98555321289621\n"
     ]
    },
    {
     "name": "stderr",
     "output_type": "stream",
     "text": [
      "Epoch:  10%|█         | 2/20 [00:00<00:01, 11.27it/s]"
     ]
    },
    {
     "name": "stdout",
     "output_type": "stream",
     "text": [
      "gradient difference: 13.208638235105623\n"
     ]
    },
    {
     "name": "stderr",
     "output_type": "stream",
     "text": [
      "                                                      \r"
     ]
    },
    {
     "name": "stdout",
     "output_type": "stream",
     "text": [
      "At round 154 accuracy: 0.6539368222536539\n",
      "At round 154 training accuracy: 0.6897427164927706\n",
      "At round 154 training loss: 0.8120978615818384\n",
      "At round 154 Discrepancy: 43.73642627110198\n"
     ]
    },
    {
     "name": "stderr",
     "output_type": "stream",
     "text": [
      "Epoch:  10%|█         | 2/20 [00:00<00:01, 11.24it/s]"
     ]
    },
    {
     "name": "stdout",
     "output_type": "stream",
     "text": [
      "gradient difference: 12.268349756892288\n"
     ]
    },
    {
     "name": "stderr",
     "output_type": "stream",
     "text": [
      "                                                      \r"
     ]
    },
    {
     "name": "stdout",
     "output_type": "stream",
     "text": [
      "At round 155 accuracy: 0.6683168316831684\n",
      "At round 155 training accuracy: 0.7039227220656986\n",
      "At round 155 training loss: 0.7862275985989449\n",
      "At round 155 Discrepancy: 40.4288712587968\n"
     ]
    },
    {
     "name": "stderr",
     "output_type": "stream",
     "text": [
      "Epoch:   5%|▌         | 1/20 [00:00<00:02,  8.12it/s]"
     ]
    },
    {
     "name": "stdout",
     "output_type": "stream",
     "text": [
      "gradient difference: 11.048819985841035\n"
     ]
    },
    {
     "name": "stderr",
     "output_type": "stream",
     "text": [
      "                                                      \r"
     ]
    },
    {
     "name": "stdout",
     "output_type": "stream",
     "text": [
      "At round 156 accuracy: 0.6706742102781706\n",
      "At round 156 training accuracy: 0.7043561720177095\n",
      "At round 156 training loss: 0.7968186852198744\n",
      "At round 156 Discrepancy: 41.23916087563447\n"
     ]
    },
    {
     "name": "stderr",
     "output_type": "stream",
     "text": [
      "Epoch:   5%|▌         | 1/20 [00:00<00:02,  6.76it/s]"
     ]
    },
    {
     "name": "stdout",
     "output_type": "stream",
     "text": [
      "gradient difference: 11.246050027722987\n"
     ]
    },
    {
     "name": "stderr",
     "output_type": "stream",
     "text": [
      "                                                      \r"
     ]
    },
    {
     "name": "stdout",
     "output_type": "stream",
     "text": [
      "At round 157 accuracy: 0.6786892975011787\n",
      "At round 157 training accuracy: 0.7078547323446547\n",
      "At round 157 training loss: 0.827106318176037\n",
      "At round 157 Discrepancy: 40.97497976305078\n"
     ]
    },
    {
     "name": "stderr",
     "output_type": "stream",
     "text": [
      "Epoch:   5%|▌         | 1/20 [00:00<00:02,  8.24it/s]"
     ]
    },
    {
     "name": "stdout",
     "output_type": "stream",
     "text": [
      "gradient difference: 12.464621647106426\n"
     ]
    },
    {
     "name": "stderr",
     "output_type": "stream",
     "text": [
      "                                                      \r"
     ]
    },
    {
     "name": "stdout",
     "output_type": "stream",
     "text": [
      "At round 158 accuracy: 0.6771570014144271\n",
      "At round 158 training accuracy: 0.7036440756679774\n",
      "At round 158 training loss: 0.8281775027118841\n",
      "At round 158 Discrepancy: 48.60616958834728\n"
     ]
    },
    {
     "name": "stderr",
     "output_type": "stream",
     "text": [
      "Epoch:   5%|▌         | 1/20 [00:00<00:02,  7.29it/s]"
     ]
    },
    {
     "name": "stdout",
     "output_type": "stream",
     "text": [
      "gradient difference: 11.538665898810267\n"
     ]
    },
    {
     "name": "stderr",
     "output_type": "stream",
     "text": [
      "                                                      \r"
     ]
    },
    {
     "name": "stdout",
     "output_type": "stream",
     "text": [
      "At round 159 accuracy: 0.6512258368694013\n",
      "At round 159 training accuracy: 0.6834886528994706\n",
      "At round 159 training loss: 0.8316213728009636\n",
      "At round 159 Discrepancy: 46.27851051757601\n"
     ]
    },
    {
     "name": "stderr",
     "output_type": "stream",
     "text": [
      "Epoch:   5%|▌         | 1/20 [00:00<00:02,  6.38it/s]"
     ]
    },
    {
     "name": "stdout",
     "output_type": "stream",
     "text": [
      "gradient difference: 12.930840682941081\n"
     ]
    },
    {
     "name": "stderr",
     "output_type": "stream",
     "text": [
      "                                                      \r"
     ]
    },
    {
     "name": "stdout",
     "output_type": "stream",
     "text": [
      "At round 160 accuracy: 0.6868222536539368\n",
      "At round 160 training accuracy: 0.7131490139013592\n",
      "At round 160 training loss: 0.8835246465647832\n",
      "At round 160 Discrepancy: 41.560770264927626\n"
     ]
    },
    {
     "name": "stderr",
     "output_type": "stream",
     "text": [
      "Epoch:   5%|▌         | 1/20 [00:00<00:02,  8.60it/s]"
     ]
    },
    {
     "name": "stdout",
     "output_type": "stream",
     "text": [
      "gradient difference: 14.525369764565436\n"
     ]
    },
    {
     "name": "stderr",
     "output_type": "stream",
     "text": [
      "                                                      \r"
     ]
    },
    {
     "name": "stdout",
     "output_type": "stream",
     "text": [
      "At round 161 accuracy: 0.6835219236209336\n",
      "At round 161 training accuracy: 0.7145422458899656\n",
      "At round 161 training loss: 0.8299497765098494\n",
      "At round 161 Discrepancy: 41.98107862798835\n"
     ]
    },
    {
     "name": "stderr",
     "output_type": "stream",
     "text": [
      "Epoch:   5%|▌         | 1/20 [00:00<00:02,  8.28it/s]"
     ]
    },
    {
     "name": "stdout",
     "output_type": "stream",
     "text": [
      "gradient difference: 12.331544544451532\n"
     ]
    },
    {
     "name": "stderr",
     "output_type": "stream",
     "text": [
      "                                                      \r"
     ]
    },
    {
     "name": "stdout",
     "output_type": "stream",
     "text": [
      "At round 162 accuracy: 0.6558227251296558\n",
      "At round 162 training accuracy: 0.6920957305179727\n",
      "At round 162 training loss: 0.829956978205339\n",
      "At round 162 Discrepancy: 46.28381479922032\n"
     ]
    },
    {
     "name": "stderr",
     "output_type": "stream",
     "text": [
      "Epoch:  10%|█         | 2/20 [00:00<00:01, 11.20it/s]"
     ]
    },
    {
     "name": "stdout",
     "output_type": "stream",
     "text": [
      "gradient difference: 11.29441642931762\n"
     ]
    },
    {
     "name": "stderr",
     "output_type": "stream",
     "text": [
      "Epoch:   0%|          | 0/20 [00:00<?, ?it/s]         "
     ]
    }
   ],
   "source": [
    "server.train()"
   ]
  },
  {
   "cell_type": "code",
   "execution_count": null,
   "metadata": {},
   "outputs": [],
   "source": [
    "from collections import Counter\n",
    "\n",
    "group_list = server.group_list\n",
    "clients = server.clients\n",
    "g = group_list[4]\n",
    "c_list = []\n",
    "for c in clients:\n",
    "  if c.group == g:\n",
    "    c_list.append(c)\n",
    "\n",
    "cnt = Counter()\n",
    "for c in c_list:\n",
    "  cnt += Counter(c.eval_data['y'])\n",
    "print(cnt)\n",
    "print(sum(cnt.values()))"
   ]
  }
 ],
 "metadata": {
  "kernelspec": {
   "display_name": "Python 3",
   "language": "python",
   "name": "python3"
  },
  "language_info": {
   "codemirror_mode": {
    "name": "ipython",
    "version": 3
   },
   "file_extension": ".py",
   "mimetype": "text/x-python",
   "name": "python",
   "nbconvert_exporter": "python",
   "pygments_lexer": "ipython3",
   "version": "3.7.7"
  }
 },
 "nbformat": 4,
 "nbformat_minor": 4
}
