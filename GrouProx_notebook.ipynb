{
 "cells": [
  {
   "cell_type": "code",
   "execution_count": 1,
   "metadata": {
    "scrolled": true
   },
   "outputs": [
    {
     "name": "stdout",
     "output_type": "stream",
     "text": [
      "WARNING:tensorflow:From /home/lab/anaconda3/envs/FL/lib/python3.8/site-packages/tensorflow/python/compat/v2_compat.py:96: disable_resource_variables (from tensorflow.python.ops.variable_scope) is deprecated and will be removed in a future version.\n",
      "Instructions for updating:\n",
      "non-resource variables are not supported in the long term\n",
      "Num GPUs Available:  1\n"
     ]
    }
   ],
   "source": [
    "import os\n",
    "os.environ[\"CUDA_VISIBLE_DEVICES\"]=\"0\"\n",
    "\n",
    "import importlib\n",
    "import tensorflow.compat.v1 as tf\n",
    "tf.disable_v2_behavior()\n",
    "from flearn.utils.model_utils import read_data\n",
    "import os\n",
    "import importlib\n",
    "import random\n",
    "import numpy as np\n",
    "\n",
    "from flearn.models import client\n",
    "from flearn.models import group\n",
    "from flearn.trainers import grouprox\n",
    "from flearn.trainers import fedprox\n",
    "from flearn.trainers import fedavg\n",
    "\n",
    "print(\"Num GPUs Available: \", len(tf.config.experimental.list_physical_devices('GPU')))"
   ]
  },
  {
   "cell_type": "code",
   "execution_count": 2,
   "metadata": {},
   "outputs": [
    {
     "name": "stdout",
     "output_type": "stream",
     "text": [
      "grouprox-sent140-stacked_lstm-IFCA-NumG5-Agglr0.0-ProximalF-EmptyT.csv\n"
     ]
    }
   ],
   "source": [
    "params = {}\n",
    "#DATASETS = ['sent140', 'nist', 'shakespeare', 'mnist', 'synthetic_iid', 'synthetic_0_0', 'synthetic_0.5_0.5', 'synthetic_1_1']\n",
    "\n",
    "\"\"\"\n",
    "Parameters that need to be manually set\n",
    "\"\"\"\n",
    "\n",
    "params['dataset'] = 'sent140'\n",
    "#params['dataset'] = 'nist'\n",
    "#params['model'] = 'mlp'\n",
    "params['model'] = 'stacked_lstm'\n",
    "params['optimizer'] = 'grouprox'\n",
    "params['drop_percent'] = 0\n",
    "\n",
    "if params['dataset'].startswith('mnist'):\n",
    "  params['model_params'] = (10,)\n",
    "  params['learning_rate'] = 0.03\n",
    "  params['mu'] = 1\n",
    "  params['num_group'] = 3\n",
    "if params['dataset'] == 'nist':\n",
    "  params['model_params'] = (26,)\n",
    "  params['learning_rate'] = 0.003\n",
    "  params['mu'] = 1\n",
    "  params['num_group'] = 5\n",
    "if params['dataset'] == 'sent140':\n",
    "  params['model_params'] = (25, 2, 100) # seq_len, num_classes, num_hidden\n",
    "  params['learning_rate'] = 0.3\n",
    "  params['mu'] = 0.01\n",
    "  params['num_group'] = 5\n",
    "if params['dataset'].startswith('synthetic'):\n",
    "  params['model_params'] = (10,)\n",
    "  params['learning_rate'] = 0.01\n",
    "  params['mu'] = 1\n",
    "  params['num_group'] = 5\n",
    "\n",
    "if params['optimizer']  == 'fedavg':\n",
    "  pass\n",
    "if params['optimizer']  == 'fedprox':\n",
    "  pass\n",
    "if params['optimizer']  == 'grouprox':\n",
    "  params['proximal'] = False\n",
    "  params['RAC'] = False\n",
    "  params['RCC'] = False\n",
    "  params['allow_empty'] = True\n",
    "  params['agg_lr'] = 0\n",
    "  \n",
    "  # TEST Hyperparameters, Experimental Only\n",
    "  params['evenly'] = False\n",
    "  params['min_clients'] = 2\n",
    "    \n",
    "  # We implement IFCA and FeSEM base on grouprox\n",
    "  params['ifca'] = True\n",
    "  params['fesem'] = False\n",
    "    \n",
    "  \"\"\"\n",
    "  We immplement IFCA and FeSEM base on grouprox,\n",
    "  Some configurations should be flush for above two CFL frameworks\n",
    "  \"\"\"\n",
    "  if params['ifca'] == True or params['fesem'] == True:\n",
    "    params['proximal'] = False\n",
    "    params['RCC'] = False\n",
    "    params['allow_empty'] = True\n",
    "    params['agg_lr'] = 0.0 # IFCA and FeSEM don't use this parameter\n",
    "\n",
    "\"\"\"\n",
    "Common parameters\n",
    "\"\"\"\n",
    "params['num_rounds'] = 800\n",
    "params['num_epochs'] = 20\n",
    "params['batch_size'] = 10\n",
    "params['eval_every'] = 1\n",
    "params['clients_per_round'] = 20 ################ Important ######################\n",
    "params['seed'] = 233\n",
    "\n",
    "\"\"\" Set the output CSV file name \"\"\"\n",
    "info = '{}-{}-{}'.format(params['optimizer'], params['dataset'], params['model'])\n",
    "info2 = ''\n",
    "suffix = '.csv'\n",
    "if params['optimizer'] == 'fedavg':\n",
    "  pass\n",
    "if params['optimizer'] == 'fedprox':\n",
    "  pass\n",
    "if params['optimizer'] == 'grouprox':\n",
    "    \n",
    "  if params['ifca'] == True:\n",
    "    info2 = info2 + '-IFCA'\n",
    "  if params['fesem'] == True:\n",
    "    info2 = info2 + '-FeSEM'\n",
    "  \n",
    "  info2 = info2 +  '-NumG{:1d}-Agglr{:.4}-Proximal{:.1}'.format(\n",
    "    params['num_group'], params['agg_lr'], str(params['proximal']))\n",
    "  \n",
    "  if params['RCC'] == True:\n",
    "    info2 = info2 + '-RCC.{:.1}'.format(str(params['RCC']))\n",
    "  \n",
    "  if params['RAC'] == True:\n",
    "    info2 = info2 + '-RAC.{:.1}-Evenly{:.1}'.format(str(params['RAC']), str(params['evenly']))\n",
    "  elif params['allow_empty'] == True:\n",
    "    info2 = info2 + '-Empty{:.1}'.format(str(params['allow_empty']))\n",
    "  elif params['allow_empty'] == False:\n",
    "    info2 = info2 + '-Evenly{:.1}'.format(str(params['evenly']))\n",
    "\n",
    "params['export_filename'] = info + info2 + suffix\n",
    "\n",
    "print(params['export_filename'])"
   ]
  },
  {
   "cell_type": "code",
   "execution_count": 3,
   "metadata": {
    "scrolled": true
   },
   "outputs": [
    {
     "name": "stdout",
     "output_type": "stream",
     "text": [
      "Using Group prox to Train\n",
      "WARNING:tensorflow:`tf.nn.rnn_cell.MultiRNNCell` is deprecated. This class is equivalent as `tf.keras.layers.StackedRNNCells`, and will be replaced by that in Tensorflow 2.0.\n",
      "WARNING:tensorflow:From /home/lab/workspace/GrouProx/flearn/models/sent140/stacked_lstm.py:67: dynamic_rnn (from tensorflow.python.ops.rnn) is deprecated and will be removed in a future version.\n",
      "Instructions for updating:\n",
      "Please use `keras.layers.RNN(cell)`, which is equivalent to this API\n",
      "WARNING:tensorflow:From /home/lab/anaconda3/envs/FL/lib/python3.8/site-packages/tensorflow/python/keras/layers/legacy_rnn/rnn_cell_impl.py:753: calling Zeros.__init__ (from tensorflow.python.ops.init_ops) with dtype is deprecated and will be removed in a future version.\n",
      "Instructions for updating:\n",
      "Call initializer instance with the dtype argument instead of passing it to the constructor\n"
     ]
    },
    {
     "name": "stderr",
     "output_type": "stream",
     "text": [
      "/home/lab/anaconda3/envs/FL/lib/python3.8/site-packages/tensorflow/python/keras/layers/legacy_rnn/rnn_cell_impl.py:702: UserWarning: `tf.nn.rnn_cell.BasicLSTMCell` is deprecated and will be removed in a future version. This class is equivalent as `tf.keras.layers.LSTMCell`, and will be replaced by that in Tensorflow 2.0.\n",
      "  warnings.warn(\"`tf.nn.rnn_cell.BasicLSTMCell` is deprecated and will be \"\n",
      "/home/lab/anaconda3/envs/FL/lib/python3.8/site-packages/tensorflow/python/keras/engine/base_layer_v1.py:1727: UserWarning: `layer.add_variable` is deprecated and will be removed in a future version. Please use `layer.add_weight` method instead.\n",
      "  warnings.warn('`layer.add_variable` is deprecated and '\n",
      "/home/lab/anaconda3/envs/FL/lib/python3.8/site-packages/tensorflow/python/keras/legacy_tf_layers/core.py:171: UserWarning: `tf.layers.dense` is deprecated and will be removed in a future version. Please use `tf.keras.layers.Dense` instead.\n",
      "  warnings.warn('`tf.layers.dense` is deprecated and '\n",
      "/home/lab/anaconda3/envs/FL/lib/python3.8/site-packages/tensorflow/python/keras/engine/base_layer_v1.py:1719: UserWarning: `layer.apply` is deprecated and will be removed in a future version. Please use `layer.__call__` method instead.\n",
      "  warnings.warn('`layer.apply` is deprecated and '\n"
     ]
    },
    {
     "name": "stdout",
     "output_type": "stream",
     "text": [
      "WARNING:tensorflow:From /home/lab/workspace/GrouProx/flearn/models/sent140/stacked_lstm.py:77: to_int64 (from tensorflow.python.ops.math_ops) is deprecated and will be removed in a future version.\n",
      "Instructions for updating:\n",
      "Use `tf.cast` instead.\n",
      "WARNING:tensorflow:From /home/lab/anaconda3/envs/FL/lib/python3.8/site-packages/tensorflow/python/profiler/internal/flops_registry.py:142: tensor_shape_from_node_def_name (from tensorflow.python.framework.graph_util_impl) is deprecated and will be removed in a future version.\n",
      "Instructions for updating:\n",
      "Use `tf.compat.v1.graph_util.tensor_shape_from_node_def_name`\n",
      "772 Clients in Total\n",
      "243861 Parameters in Total\n",
      "WARNING:tensorflow:From /home/lab/workspace/GrouProx/flearn/models/sent140/stacked_lstm.py:87: Variable.load (from tensorflow.python.ops.variables) is deprecated and will be removed in a future version.\n",
      "Instructions for updating:\n",
      "Prefer Variable.assign which has equivalent behavior in 2.X.\n"
     ]
    }
   ],
   "source": [
    "\"\"\"\n",
    "Some preparations\n",
    "\"\"\"\n",
    "\n",
    "# read data\n",
    "train_path = os.path.join('data', params['dataset'], 'data', 'train')\n",
    "test_path = os.path.join('data', params['dataset'], 'data', 'test')\n",
    "dataset = read_data(train_path, test_path)\n",
    "\n",
    "# Load model\n",
    "if params['dataset'].startswith('synthetic'):  # all synthetic datasets use the same model\n",
    "  model_path = '%s.%s.%s.%s' % ('flearn', 'models', 'synthetic', params['model'])\n",
    "elif params['dataset'].startswith('mnist'):\n",
    "  model_path = '%s.%s.%s.%s' % ('flearn', 'models', 'mnist', params['model'])\n",
    "else:\n",
    "  model_path = '%s.%s.%s.%s' % ('flearn', 'models', params['dataset'], params['model'])\n",
    "mod = importlib.import_module(model_path)\n",
    "learner = getattr(mod, 'Model')\n",
    "\n",
    "# Set seeds\n",
    "params['sklearn_seed'] = params['seed']\n",
    "random.seed(1 + params['seed'])\n",
    "np.random.seed(12 + params['seed'])\n",
    "tf.set_random_seed(123 + params['seed'])\n",
    "\n",
    "# Set server\n",
    "if params['optimizer'] == 'fedavg':\n",
    "  server = fedavg.Server(params, learner, dataset)  \n",
    "if params['optimizer'] == 'fedprox':\n",
    "  server = fedprox.Server(params, learner, dataset)\n",
    "if params['optimizer'] == 'grouprox':\n",
    "  server = grouprox.Server(params, learner, dataset)"
   ]
  },
  {
   "cell_type": "code",
   "execution_count": 4,
   "metadata": {},
   "outputs": [
    {
     "data": {
      "text/plain": [
       "'\\nTest Ternary Similarity\\n'"
      ]
     },
     "execution_count": 4,
     "metadata": {},
     "output_type": "execute_result"
    }
   ],
   "source": [
    "\"\"\"\n",
    "Test Ternary Similarity\n",
    "\"\"\"\n",
    "#x, y = server.test_ternary_cosine_similariy()"
   ]
  },
  {
   "cell_type": "code",
   "execution_count": 5,
   "metadata": {},
   "outputs": [
    {
     "data": {
      "text/plain": [
       "'\\nimport matplotlib.pyplot as plt\\nplt.figure(figsize=(7,7))\\nplt.scatter(x[:50000], y[:50000], linewidths=0.01, alpha=0.2, norm=True)\\nplt.show()\\n'"
      ]
     },
     "execution_count": 5,
     "metadata": {},
     "output_type": "execute_result"
    }
   ],
   "source": [
    "\"\"\"\n",
    "import matplotlib.pyplot as plt\n",
    "plt.figure(figsize=(7,7))\n",
    "plt.scatter(x[:50000], y[:50000], linewidths=0.01, alpha=0.2, norm=True)\n",
    "plt.show()\n",
    "\"\"\""
   ]
  },
  {
   "cell_type": "code",
   "execution_count": null,
   "metadata": {
    "scrolled": true
   },
   "outputs": [
    {
     "name": "stdout",
     "output_type": "stream",
     "text": [
      "Training with 20 workers ---\n",
      "Cold start clients takes 0.0009734630584716797s seconds\n",
      "Scheduling clients takes 3.526742696762085s seconds\n",
      "Group 0 is empty.\n",
      "Group 1, clients ['steph_davies', 'TinaS71', 'coriluvnthedon', 'Mrs_NickJ07', 'mneylon', 'davidj505', 'MacSheikh']\n",
      "Group 2, clients ['m0po', 'AvonteNikole', 'WooopJess']\n",
      "Group 3, clients ['janabelle_xo', 'marianaguidil']\n",
      "Group 4, clients ['debbier93', 'AllTheSausages', 'maddisondesigns', 'Japh', 'weelissa', 'nyc_specialist', 'schaeferj89', 'weeps']\n"
     ]
    },
    {
     "name": "stderr",
     "output_type": "stream",
     "text": [
      "/home/lab/workspace/GrouProx/flearn/trainers/grouprox.py:438: RuntimeWarning: invalid value encountered in double_scalars\n",
      "  test_acc = np.sum(stats[3])*1.0/np.sum(stats[2])\n",
      "/home/lab/workspace/GrouProx/flearn/trainers/grouprox.py:446: RuntimeWarning: invalid value encountered in double_scalars\n",
      "  train_acc = np.sum(stats_train[3])*1.0/np.sum(stats_train[2])\n",
      "/home/lab/workspace/GrouProx/flearn/trainers/grouprox.py:448: RuntimeWarning: invalid value encountered in double_scalars\n",
      "  train_loss = np.dot(stats_train[4], stats_train[2])*1.0/np.sum(stats_train[2])\n",
      "\r",
      "Epoch:   0%|          | 0/20 [00:00<?, ?it/s]"
     ]
    },
    {
     "name": "stdout",
     "output_type": "stream",
     "text": [
      "Group 0\n",
      "At round 0 accuracy: nan\n",
      "At round 0 training accuracy: nan\n",
      "At round 0 training loss: nan\n",
      "Group 1\n",
      "At round 0 accuracy: 0.8051948051948052\n",
      "At round 0 training accuracy: 0.7918088737201365\n",
      "At round 0 training loss: 0.6646200078746157\n",
      "Group 2\n",
      "At round 0 accuracy: 0.6296296296296297\n",
      "At round 0 training accuracy: 0.7474747474747475\n",
      "At round 0 training loss: 0.6846140737485404\n",
      "Group 3\n",
      "At round 0 accuracy: 0.45454545454545453\n",
      "At round 0 training accuracy: 0.6547619047619048\n",
      "At round 0 training loss: 0.6826283250536237\n",
      "Group 4\n",
      "At round 0 accuracy: 0.6410256410256411\n",
      "At round 0 training accuracy: 0.6305084745762712\n",
      "At round 0 training loss: 0.6850677053807146\n",
      "At round 0 mean test accuracy: 0.6813725490196079 mean train accuracy: 0.7094682230869002 mean train loss: 0.676973032425659                     number of test client: 20\n",
      "The client-group discrepancy are: [37.81632548  0.         37.81879144 37.7426589  37.80998022 37.84337905]\n",
      "Begin group  1 training\n"
     ]
    },
    {
     "name": "stderr",
     "output_type": "stream",
     "text": [
      "Epoch:   5%|▌         | 1/20 [00:00<00:02,  8.46it/s] "
     ]
    },
    {
     "name": "stdout",
     "output_type": "stream",
     "text": [
      "Begin group  2 training\n"
     ]
    },
    {
     "name": "stderr",
     "output_type": "stream",
     "text": [
      "Epoch:   5%|▌         | 1/20 [00:00<00:02,  6.96it/s] "
     ]
    },
    {
     "name": "stdout",
     "output_type": "stream",
     "text": [
      "Begin group  3 training\n"
     ]
    },
    {
     "name": "stderr",
     "output_type": "stream",
     "text": [
      "Epoch:   0%|          | 0/20 [00:00<?, ?it/s]         "
     ]
    },
    {
     "name": "stdout",
     "output_type": "stream",
     "text": [
      "Begin group  4 training\n"
     ]
    },
    {
     "name": "stderr",
     "output_type": "stream",
     "text": [
      "                                                      \r"
     ]
    },
    {
     "name": "stdout",
     "output_type": "stream",
     "text": [
      "Training groups takes 62.23312187194824s seconds\n",
      "Scheduling clients takes 3.115896701812744s seconds\n",
      "Group 0, clients ['dollforlife', 'sophieholly', 'funkybrownchick', 'christian792', 'thepete', 'IzzySc']\n",
      "Group 1, clients ['HelloLizzi', 'mrshananto', 'crucifire', 'xmiyix', 'Whatever_Ista', 'fuseboxradio']\n",
      "Group 2, clients ['bexiclepop']\n",
      "Group 3, clients ['webwoke']\n",
      "Group 4, clients ['Tracey_Mac', 'Rawrrgasmic', 'Christyxcore', 'nyc_specialist', 'pearlbones', 'Andjelija']\n"
     ]
    },
    {
     "name": "stderr",
     "output_type": "stream",
     "text": [
      "Epoch:   5%|▌         | 1/20 [00:00<00:01,  9.57it/s]"
     ]
    },
    {
     "name": "stdout",
     "output_type": "stream",
     "text": [
      "Group 0\n",
      "At round 1 accuracy: 0.5102040816326531\n",
      "At round 1 training accuracy: 0.5384615384615384\n",
      "At round 1 training loss: 0.6867877097575219\n",
      "Group 1\n",
      "At round 1 accuracy: 0.8611111111111112\n",
      "At round 1 training accuracy: 0.8555758683729433\n",
      "At round 1 training loss: 0.41187224148941215\n",
      "Group 2\n",
      "At round 1 accuracy: 0.7777777777777778\n",
      "At round 1 training accuracy: 0.8345864661654135\n",
      "At round 1 training loss: 0.45716817576186103\n",
      "Group 3\n",
      "At round 1 accuracy: 0.6593406593406593\n",
      "At round 1 training accuracy: 0.7916666666666666\n",
      "At round 1 training loss: 0.5239816586176554\n",
      "Group 4\n",
      "At round 1 accuracy: 0.6171875\n",
      "At round 1 training accuracy: 0.6069958847736625\n",
      "At round 1 training loss: 0.6303638690783654\n",
      "At round 1 mean test accuracy: 0.7053571428571429 mean train accuracy: 0.7359484777517564 mean train loss: 0.5304936089703434                     number of test client: 39\n",
      "The client-group discrepancy are: [36.06505755 37.82430706 37.84250439 37.81322664 37.9222523  31.92746721]\n",
      "Begin group  0 training\n"
     ]
    },
    {
     "name": "stderr",
     "output_type": "stream",
     "text": [
      "Epoch:   0%|          | 0/20 [00:00<?, ?it/s]         "
     ]
    },
    {
     "name": "stdout",
     "output_type": "stream",
     "text": [
      "Begin group  1 training\n"
     ]
    },
    {
     "name": "stderr",
     "output_type": "stream",
     "text": [
      "Epoch:   5%|▌         | 1/20 [00:00<00:02,  6.91it/s] "
     ]
    },
    {
     "name": "stdout",
     "output_type": "stream",
     "text": [
      "Begin group  2 training\n"
     ]
    },
    {
     "name": "stderr",
     "output_type": "stream",
     "text": [
      "Epoch:   0%|          | 0/20 [00:00<?, ?it/s]         "
     ]
    },
    {
     "name": "stdout",
     "output_type": "stream",
     "text": [
      "Begin group  3 training\n"
     ]
    },
    {
     "name": "stderr",
     "output_type": "stream",
     "text": [
      "Epoch:   5%|▌         | 1/20 [00:00<00:02,  6.59it/s] "
     ]
    },
    {
     "name": "stdout",
     "output_type": "stream",
     "text": [
      "Begin group  4 training\n"
     ]
    },
    {
     "name": "stderr",
     "output_type": "stream",
     "text": [
      "                                                      \r"
     ]
    },
    {
     "name": "stdout",
     "output_type": "stream",
     "text": [
      "Training groups takes 77.00427269935608s seconds\n",
      "Scheduling clients takes 3.0818698406219482s seconds\n",
      "Group 0, clients ['iamloz_JsPR', 'DanielJUK', 'peggyrossmanith', 'Upstatemomof3', 'vesula', 'juliarygaard', 'Galiiit', 'xXMCR_LadyXx', 'claudiamcfly', 'NoTORIousTori', 'ashleyyosaurus']\n",
      "Group 1, clients ['alyb_', '_Alectrona_']\n",
      "Group 2, clients ['NOTICEmeDAVID', 'MrTHill']\n",
      "Group 3 is empty.\n",
      "Group 4, clients ['irishsamom', 'shinsh0ku', 'chelseasms', 'Rikou26', 'crazymitchell']\n"
     ]
    },
    {
     "name": "stderr",
     "output_type": "stream",
     "text": [
      "\r",
      "Epoch:   0%|          | 0/20 [00:00<?, ?it/s]"
     ]
    },
    {
     "name": "stdout",
     "output_type": "stream",
     "text": [
      "Group 0\n",
      "At round 2 accuracy: 0.6242774566473989\n",
      "At round 2 training accuracy: 0.6543778801843319\n",
      "At round 2 training loss: 0.6393704840115139\n",
      "Group 1\n",
      "At round 2 accuracy: 0.8571428571428571\n",
      "At round 2 training accuracy: 0.8590163934426229\n",
      "At round 2 training loss: 0.4817935764362089\n",
      "Group 2\n",
      "At round 2 accuracy: 0.6730769230769231\n",
      "At round 2 training accuracy: 0.7539267015706806\n",
      "At round 2 training loss: 0.5212890908356113\n",
      "Group 3\n",
      "At round 2 accuracy: 0.8791208791208791\n",
      "At round 2 training accuracy: 0.9138888888888889\n",
      "At round 2 training loss: 0.36520242576419454\n",
      "Group 4\n",
      "At round 2 accuracy: 0.6130952380952381\n",
      "At round 2 training accuracy: 0.6452119309262166\n",
      "At round 2 training loss: 0.6298258682154412\n",
      "At round 2 mean test accuracy: 0.7193798449612403 mean train accuracy: 0.7488770926908942 mean train loss: 0.5481267596551779                     number of test client: 59\n",
      "The client-group discrepancy are: [37.89590749 37.86647465 37.88130007 37.96018436  0.         37.94079196]\n",
      "Begin group  0 training\n"
     ]
    },
    {
     "name": "stderr",
     "output_type": "stream",
     "text": [
      "Epoch:   5%|▌         | 1/20 [00:00<00:02,  9.33it/s] "
     ]
    },
    {
     "name": "stdout",
     "output_type": "stream",
     "text": [
      "Begin group  1 training\n"
     ]
    },
    {
     "name": "stderr",
     "output_type": "stream",
     "text": [
      "Epoch:   5%|▌         | 1/20 [00:00<00:01,  9.68it/s] "
     ]
    },
    {
     "name": "stdout",
     "output_type": "stream",
     "text": [
      "Begin group  2 training\n"
     ]
    },
    {
     "name": "stderr",
     "output_type": "stream",
     "text": [
      "Epoch:   5%|▌         | 1/20 [00:00<00:03,  6.33it/s] "
     ]
    },
    {
     "name": "stdout",
     "output_type": "stream",
     "text": [
      "Begin group  4 training\n"
     ]
    },
    {
     "name": "stderr",
     "output_type": "stream",
     "text": [
      "                                                      \r"
     ]
    },
    {
     "name": "stdout",
     "output_type": "stream",
     "text": [
      "Training groups takes 60.17802691459656s seconds\n",
      "Scheduling clients takes 3.0552237033843994s seconds\n",
      "Group 0, clients ['CaraNinaMcfly', 'Frassington', 'Rianca', 'AlexLJ', 'andrewpycroft', 'xXMCR_LadyXx', 'JaydDragyn', 'Matalatine', 'aliefaulkner', 'ElementsOfJazz', 'heyisabelle_', 'MelFresh27']\n",
      "Group 1, clients ['AsiaBrands', 'DaPrbmChild', 'petehopkins', 'DustinUrbanski']\n",
      "Group 2, clients ['MissPassion', 'iamgaberosales']\n",
      "Group 3 is empty.\n",
      "Group 4, clients ['LorenYxox', 'uyennguyen_']\n"
     ]
    },
    {
     "name": "stderr",
     "output_type": "stream",
     "text": [
      "\r",
      "Epoch:   0%|          | 0/20 [00:00<?, ?it/s]"
     ]
    },
    {
     "name": "stdout",
     "output_type": "stream",
     "text": [
      "Group 0\n",
      "At round 3 accuracy: 0.5664335664335665\n",
      "At round 3 training accuracy: 0.6214219759926131\n",
      "At round 3 training loss: 0.6541645116863268\n",
      "Group 1\n",
      "At round 3 accuracy: 0.8793969849246231\n",
      "At round 3 training accuracy: 0.8843085106382979\n",
      "At round 3 training loss: 0.4130311249755323\n",
      "Group 2\n",
      "At round 3 accuracy: 0.6285714285714286\n",
      "At round 3 training accuracy: 0.752895752895753\n",
      "At round 3 training loss: 0.5286102670039909\n",
      "Group 3\n",
      "At round 3 accuracy: 0.8791208791208791\n",
      "At round 3 training accuracy: 0.9138888888888889\n",
      "At round 3 training loss: 0.36520242576419454\n",
      "Group 4\n",
      "At round 3 accuracy: 0.6557377049180327\n",
      "At round 3 training accuracy: 0.6580459770114943\n",
      "At round 3 training loss: 0.6465177571979063\n",
      "At round 3 mean test accuracy: 0.7008443908323281 mean train accuracy: 0.7365079365079366 mean train loss: 0.5515615439926281                     number of test client: 78\n",
      "The client-group discrepancy are: [36.21344092 35.04626416 37.95419886 37.97126234  0.         37.97716424]\n",
      "Begin group  0 training\n"
     ]
    },
    {
     "name": "stderr",
     "output_type": "stream",
     "text": [
      "Epoch:   5%|▌         | 1/20 [00:00<00:02,  8.20it/s] "
     ]
    },
    {
     "name": "stdout",
     "output_type": "stream",
     "text": [
      "Begin group  1 training\n"
     ]
    },
    {
     "name": "stderr",
     "output_type": "stream",
     "text": [
      "Epoch:   5%|▌         | 1/20 [00:00<00:02,  6.96it/s] "
     ]
    },
    {
     "name": "stdout",
     "output_type": "stream",
     "text": [
      "Begin group  2 training\n"
     ]
    },
    {
     "name": "stderr",
     "output_type": "stream",
     "text": [
      "Epoch:   5%|▌         | 1/20 [00:00<00:02,  7.08it/s] "
     ]
    },
    {
     "name": "stdout",
     "output_type": "stream",
     "text": [
      "Begin group  4 training\n"
     ]
    },
    {
     "name": "stderr",
     "output_type": "stream",
     "text": [
      "                                                      \r"
     ]
    },
    {
     "name": "stdout",
     "output_type": "stream",
     "text": [
      "Training groups takes 61.19197177886963s seconds\n",
      "Scheduling clients takes 2.8488693237304688s seconds\n",
      "Group 0, clients ['DanielJUK', 'goatkeeper7', 'toastedfrenchie', 'janabelle_xo', 'sinspired', 'adlyman']\n",
      "Group 1, clients ['Joy_Inc', 'DNiCESEOUL', 'mp3mad', 'DaPrbmChild', 'pensblogtweet', 'SusanCosmos']\n",
      "Group 2, clients ['redvers']\n",
      "Group 3 is empty.\n",
      "Group 4, clients ['OMGitsJessieLee', 'andrewpycroft', 'clairabellejp', 'tannwick', 'DivasMistress', 'Speed2007', 'lauralovesart']\n"
     ]
    },
    {
     "name": "stderr",
     "output_type": "stream",
     "text": [
      "\r",
      "Epoch:   0%|          | 0/20 [00:00<?, ?it/s]"
     ]
    },
    {
     "name": "stdout",
     "output_type": "stream",
     "text": [
      "Group 0\n",
      "At round 4 accuracy: 0.636094674556213\n",
      "At round 4 training accuracy: 0.6224648985959438\n",
      "At round 4 training loss: 0.7677680812834206\n",
      "Group 1\n",
      "At round 4 accuracy: 0.8893280632411067\n",
      "At round 4 training accuracy: 0.9019812304483837\n",
      "At round 4 training loss: 0.5894094642527412\n",
      "Group 2\n",
      "At round 4 accuracy: 0.7721518987341772\n",
      "At round 4 training accuracy: 0.797945205479452\n",
      "At round 4 training loss: 0.4979353559343782\n",
      "Group 3\n",
      "At round 4 accuracy: 0.8902439024390244\n",
      "At round 4 training accuracy: 0.9444444444444444\n",
      "At round 4 training loss: 0.20120186148549826\n",
      "Group 4\n",
      "At round 4 accuracy: 0.578125\n",
      "At round 4 training accuracy: 0.60431654676259\n",
      "At round 4 training loss: 0.6738597222614386\n",
      "At round 4 mean test accuracy: 0.7162698412698413 mean train accuracy: 0.7284595300261096 mean train loss: 0.6307504943180793                     number of test client: 94\n",
      "The client-group discrepancy are: [34.4814966  32.37954735 31.77881544 38.03558233  0.         38.0920247 ]\n",
      "Begin group  0 training\n"
     ]
    },
    {
     "name": "stderr",
     "output_type": "stream",
     "text": [
      "Epoch:   5%|▌         | 1/20 [00:00<00:02,  8.56it/s] "
     ]
    },
    {
     "name": "stdout",
     "output_type": "stream",
     "text": [
      "Begin group  1 training\n"
     ]
    },
    {
     "name": "stderr",
     "output_type": "stream",
     "text": [
      "Epoch:   5%|▌         | 1/20 [00:00<00:02,  7.52it/s] "
     ]
    },
    {
     "name": "stdout",
     "output_type": "stream",
     "text": [
      "Begin group  2 training\n"
     ]
    },
    {
     "name": "stderr",
     "output_type": "stream",
     "text": [
      "Epoch:   5%|▌         | 1/20 [00:00<00:03,  6.25it/s] "
     ]
    },
    {
     "name": "stdout",
     "output_type": "stream",
     "text": [
      "Begin group  4 training\n"
     ]
    },
    {
     "name": "stderr",
     "output_type": "stream",
     "text": [
      "                                                      \r"
     ]
    },
    {
     "name": "stdout",
     "output_type": "stream",
     "text": [
      "Training groups takes 67.15748310089111s seconds\n",
      "Scheduling clients takes 3.101651430130005s seconds\n",
      "Group 0, clients ['VickyMinor']\n",
      "Group 1, clients ['alltimeASIAN', 'simontay78', 'mattdavey2']\n",
      "Group 2 is empty.\n",
      "Group 3 is empty.\n",
      "Group 4, clients ['amysav83', 'stratosphear', 'valenbfm', 'eysies', 'paigeebaby', 'alwaysloveu_Ci', 'Miamoodles', 'Extremo', 'chelseasms', 'megspeaks', 'winniedepoohi', 'AliciaWag', 'nicolalalalala', 'briethehippo', 'AtlantisJackson', 'jonasnessica']\n"
     ]
    },
    {
     "name": "stderr",
     "output_type": "stream",
     "text": [
      "Epoch:   5%|▌         | 1/20 [00:00<00:02,  8.89it/s]"
     ]
    },
    {
     "name": "stdout",
     "output_type": "stream",
     "text": [
      "Group 0\n",
      "At round 5 accuracy: 0.6271676300578035\n",
      "At round 5 training accuracy: 0.6699695121951219\n",
      "At round 5 training loss: 1.050792899936801\n",
      "Group 1\n",
      "At round 5 accuracy: 0.8932384341637011\n",
      "At round 5 training accuracy: 0.9053420805998126\n",
      "At round 5 training loss: 0.6876935048966505\n",
      "Group 2\n",
      "At round 5 accuracy: 0.6835443037974683\n",
      "At round 5 training accuracy: 0.7773972602739726\n",
      "At round 5 training loss: 1.471875905521351\n",
      "Group 3\n",
      "At round 5 accuracy: 0.8902439024390244\n",
      "At round 5 training accuracy: 0.9444444444444444\n",
      "At round 5 training loss: 0.20120186148549826\n",
      "Group 4\n",
      "At round 5 accuracy: 0.545\n",
      "At round 5 training accuracy: 0.5591327201051248\n",
      "At round 5 training loss: 0.6725804664380604\n",
      "At round 5 mean test accuracy: 0.6843434343434344 mean train accuracy: 0.7148549922514944 mean train loss: 0.8038640451392679                     number of test client: 113\n",
      "The client-group discrepancy are: [36.31907182 38.16596    38.01296809  0.          0.         35.88603576]\n",
      "Begin group  0 training\n"
     ]
    },
    {
     "name": "stderr",
     "output_type": "stream",
     "text": [
      "Epoch:   5%|▌         | 1/20 [00:00<00:02,  7.19it/s] "
     ]
    },
    {
     "name": "stdout",
     "output_type": "stream",
     "text": [
      "Begin group  1 training\n"
     ]
    },
    {
     "name": "stderr",
     "output_type": "stream",
     "text": [
      "Epoch:   0%|          | 0/20 [00:00<?, ?it/s]         "
     ]
    },
    {
     "name": "stdout",
     "output_type": "stream",
     "text": [
      "Begin group  4 training\n"
     ]
    },
    {
     "name": "stderr",
     "output_type": "stream",
     "text": [
      "                                                      \r"
     ]
    },
    {
     "name": "stdout",
     "output_type": "stream",
     "text": [
      "Training groups takes 58.20059847831726s seconds\n",
      "Scheduling clients takes 3.0300025939941406s seconds\n",
      "Group 0, clients ['esmeg', 'PaulCarterJr', 'pagan_spell', 'dyeleepong', 'vulcansmuse', 'pdurham']\n",
      "Group 1, clients ['MissGoogle', 'SandiNJ']\n",
      "Group 2 is empty.\n",
      "Group 3, clients ['tweeteradder2']\n",
      "Group 4, clients ['kellygirl27', 'MAGGIECHICKEN', 'fromthestars', 'Impala_Guy', 'koast08', 'MrsBamBam', 'TwistedHelen', 'ehammond84', 'rbuerckner', 'LiluYvett', 'DubarryMcfly']\n"
     ]
    },
    {
     "name": "stderr",
     "output_type": "stream",
     "text": [
      "\r",
      "Epoch:   0%|          | 0/20 [00:00<?, ?it/s]"
     ]
    },
    {
     "name": "stdout",
     "output_type": "stream",
     "text": [
      "Group 0\n",
      "At round 8 accuracy: 0.7254901960784313\n",
      "At round 8 training accuracy: 0.7268041237113402\n",
      "At round 8 training loss: 0.8832397333944786\n",
      "Group 1\n",
      "At round 8 accuracy: 0.9024390243902439\n",
      "At round 8 training accuracy: 0.9231316725978648\n",
      "At round 8 training loss: 0.28821830041706564\n",
      "Group 2\n",
      "At round 8 accuracy: 0.6835443037974683\n",
      "At round 8 training accuracy: 0.7773972602739726\n",
      "At round 8 training loss: 1.471875905521351\n",
      "Group 3\n",
      "At round 8 accuracy: 0.9142857142857143\n",
      "At round 8 training accuracy: 0.9565217391304348\n",
      "At round 8 training loss: 0.16799418690514858\n",
      "Group 4\n",
      "At round 8 accuracy: 0.5668523676880223\n",
      "At round 8 training accuracy: 0.6207276736493936\n",
      "At round 8 training loss: 0.7044557922905484\n",
      "At round 8 mean test accuracy: 0.706936416184971 mean train accuracy: 0.7415627850410459 mean train loss: 0.663308734449116                     number of test client: 167\n",
      "The client-group discrepancy are: [36.32640581 32.05116155 38.05546322  0.         38.17524225 38.1759071 ]\n",
      "Begin group  0 training\n"
     ]
    },
    {
     "name": "stderr",
     "output_type": "stream",
     "text": [
      "Epoch:   5%|▌         | 1/20 [00:00<00:02,  8.86it/s] "
     ]
    },
    {
     "name": "stdout",
     "output_type": "stream",
     "text": [
      "Begin group  1 training\n"
     ]
    },
    {
     "name": "stderr",
     "output_type": "stream",
     "text": [
      "Epoch:   0%|          | 0/20 [00:00<?, ?it/s]         "
     ]
    },
    {
     "name": "stdout",
     "output_type": "stream",
     "text": [
      "Begin group  3 training\n"
     ]
    },
    {
     "name": "stderr",
     "output_type": "stream",
     "text": [
      "Epoch:   5%|▌         | 1/20 [00:00<00:02,  6.71it/s] "
     ]
    },
    {
     "name": "stdout",
     "output_type": "stream",
     "text": [
      "Begin group  4 training\n"
     ]
    },
    {
     "name": "stderr",
     "output_type": "stream",
     "text": [
      "                                                      \r"
     ]
    },
    {
     "name": "stdout",
     "output_type": "stream",
     "text": [
      "Training groups takes 65.9036021232605s seconds\n",
      "Scheduling clients takes 3.0283892154693604s seconds\n",
      "Group 0, clients ['Rocks4Ever', 'wisdompathart', 'alyb_', 'Christiegarcia']\n",
      "Group 1, clients ['clevertitania', 'tweeteradder3', 'lameymacdonald']\n",
      "Group 2, clients ['ashleyyosaurus', 'DrewDrew2009', 'KnightRid', 'jessiiemcfly', 'juliarygaard', 'tracyewilli', 'gschan', 'hannah106', 'alwaysloveu_Ci', 'angel9293', 'DivaWonderGirl', 'iamgaberosales']\n",
      "Group 3, clients ['katherinemarsh']\n",
      "Group 4 is empty.\n"
     ]
    },
    {
     "name": "stderr",
     "output_type": "stream",
     "text": [
      "\r",
      "Epoch:   0%|          | 0/20 [00:00<?, ?it/s]"
     ]
    },
    {
     "name": "stdout",
     "output_type": "stream",
     "text": [
      "Group 0\n",
      "At round 15 accuracy: 0.6960408684546615\n",
      "At round 15 training accuracy: 0.6976822304333221\n",
      "At round 15 training loss: 1.0087486769795058\n",
      "Group 1\n",
      "At round 15 accuracy: 0.8786936236391913\n",
      "At round 15 training accuracy: 0.9108228617754357\n",
      "At round 15 training loss: 0.33476455929102267\n",
      "Group 2\n",
      "At round 15 accuracy: 0.5300546448087432\n",
      "At round 15 training accuracy: 0.48191027496382055\n",
      "At round 15 training loss: 0.7157866995776269\n",
      "Group 3\n",
      "At round 15 accuracy: 0.6826923076923077\n",
      "At round 15 training accuracy: 0.6945812807881774\n",
      "At round 15 training loss: 2.928322923756873\n",
      "Group 4\n",
      "At round 15 accuracy: 0.5490196078431373\n",
      "At round 15 training accuracy: 0.5946275946275946\n",
      "At round 15 training loss: 1.4307839072278732\n",
      "At round 15 mean test accuracy: 0.6703871642832229 mean train accuracy: 0.6873740150265714 mean train loss: 1.0888008513949345                     number of test client: 264\n",
      "The client-group discrepancy are: [3.29645956e+01 2.96602400e+01 3.82171532e+01 3.54985782e+01\n",
      " 1.65546005e-02 0.00000000e+00]\n",
      "Begin group  0 training\n"
     ]
    },
    {
     "name": "stderr",
     "output_type": "stream",
     "text": [
      "Epoch:   5%|▌         | 1/20 [00:00<00:02,  7.24it/s] "
     ]
    },
    {
     "name": "stdout",
     "output_type": "stream",
     "text": [
      "Begin group  1 training\n"
     ]
    },
    {
     "name": "stderr",
     "output_type": "stream",
     "text": [
      "Epoch:   5%|▌         | 1/20 [00:00<00:02,  8.74it/s] "
     ]
    },
    {
     "name": "stdout",
     "output_type": "stream",
     "text": [
      "Begin group  2 training\n"
     ]
    },
    {
     "name": "stderr",
     "output_type": "stream",
     "text": [
      "Epoch:   5%|▌         | 1/20 [00:00<00:02,  8.47it/s] "
     ]
    },
    {
     "name": "stdout",
     "output_type": "stream",
     "text": [
      "Begin group  3 training\n"
     ]
    },
    {
     "name": "stderr",
     "output_type": "stream",
     "text": [
      "                                                      \r"
     ]
    },
    {
     "name": "stdout",
     "output_type": "stream",
     "text": [
      "Training groups takes 61.473434925079346s seconds\n",
      "Scheduling clients takes 3.0338687896728516s seconds\n",
      "Group 0 is empty.\n",
      "Group 1, clients ['markdavidson', 'clevertitania', 'mandiebear']\n",
      "Group 2, clients ['jaronmc', 'Cherye101', 'VickiElam', 'johnhood', 'koast08', 'tamaryn', 'mneylon', 'LiverpoolFan74', 'funkybrownchick', 'nyc_specialist', 'andie_12', 'vickyjones91', 'gschan', 'PaulHarriott', 'lorettak']\n",
      "Group 3 is empty.\n",
      "Group 4, clients ['fromthestars', 'ericbutcher']\n"
     ]
    },
    {
     "name": "stderr",
     "output_type": "stream",
     "text": [
      "\r",
      "Epoch:   0%|          | 0/20 [00:00<?, ?it/s]"
     ]
    },
    {
     "name": "stdout",
     "output_type": "stream",
     "text": [
      "Group 0\n",
      "At round 16 accuracy: 0.7359477124183007\n",
      "At round 16 training accuracy: 0.742445054945055\n",
      "At round 16 training loss: 0.9636090235697659\n",
      "Group 1\n",
      "At round 16 accuracy: 0.8833592534992224\n",
      "At round 16 training accuracy: 0.9128142741281428\n",
      "At round 16 training loss: 0.3167737250577495\n",
      "Group 2\n",
      "At round 16 accuracy: 0.4820295983086681\n",
      "At round 16 training accuracy: 0.4842696629213483\n",
      "At round 16 training loss: 0.7581041499804915\n",
      "Group 3\n",
      "At round 16 accuracy: 0.6826923076923077\n",
      "At round 16 training accuracy: 0.6945812807881774\n",
      "At round 16 training loss: 2.968063288466667\n",
      "Group 4\n",
      "At round 16 accuracy: 0.5573770491803278\n",
      "At round 16 training accuracy: 0.5949210281820997\n",
      "At round 16 training loss: 1.429195223467874\n",
      "At round 16 mean test accuracy: 0.6717635066258919 mean train accuracy: 0.6929190106259487 mean train loss: 1.0680915828561068                     number of test client: 273\n",
      "The client-group discrepancy are: [27.62430814  0.         14.33694555 31.04156682  0.         21.92591194]\n",
      "Begin group  1 training\n"
     ]
    },
    {
     "name": "stderr",
     "output_type": "stream",
     "text": [
      "Epoch:   5%|▌         | 1/20 [00:00<00:02,  6.75it/s] "
     ]
    },
    {
     "name": "stdout",
     "output_type": "stream",
     "text": [
      "Begin group  2 training\n"
     ]
    },
    {
     "name": "stderr",
     "output_type": "stream",
     "text": [
      "Epoch:   5%|▌         | 1/20 [00:00<00:02,  6.50it/s] "
     ]
    },
    {
     "name": "stdout",
     "output_type": "stream",
     "text": [
      "Begin group  4 training\n"
     ]
    },
    {
     "name": "stderr",
     "output_type": "stream",
     "text": [
      "                                                      \r"
     ]
    },
    {
     "name": "stdout",
     "output_type": "stream",
     "text": [
      "Training groups takes 59.19361209869385s seconds\n",
      "Scheduling clients takes 3.145059585571289s seconds\n",
      "Group 0, clients ['Christiegarcia', 'mini_ritz', 'Momodel180']\n",
      "Group 1, clients ['hypnoticyogi']\n",
      "Group 2, clients ['CherylH77', 'ToksieOlu', 'coliwilso', 'bustyb73', 'hortovanyi', 'paul_steele', 'MCRmuffin', 'LucyAnnabel', 'Kat77', 'nere13', 'davidismyangel', 'ItsMariahxOxO']\n",
      "Group 3 is empty.\n",
      "Group 4, clients ['MCbutterflyfan', 'pearlbones', 'Darth_Disco', 'antzpantz']\n"
     ]
    },
    {
     "name": "stderr",
     "output_type": "stream",
     "text": [
      "\r",
      "Epoch:   0%|          | 0/20 [00:00<?, ?it/s]"
     ]
    },
    {
     "name": "stdout",
     "output_type": "stream",
     "text": [
      "Group 0\n",
      "At round 17 accuracy: 0.7448717948717949\n",
      "At round 17 training accuracy: 0.7485714285714286\n",
      "At round 17 training loss: 0.941970598985668\n",
      "Group 1\n",
      "At round 17 accuracy: 0.9109062980030722\n",
      "At round 17 training accuracy: 0.9322645290581162\n",
      "At round 17 training loss: 0.4067147047667592\n",
      "Group 2\n",
      "At round 17 accuracy: 0.49216300940438873\n",
      "At round 17 training accuracy: 0.5110004151100042\n",
      "At round 17 training loss: 0.7381179858016097\n",
      "Group 3\n",
      "At round 17 accuracy: 0.6826923076923077\n",
      "At round 17 training accuracy: 0.6945812807881774\n",
      "At round 17 training loss: 2.968063288466667\n",
      "Group 4\n",
      "At round 17 accuracy: 0.5592635212888377\n",
      "At round 17 training accuracy: 0.593607305936073\n",
      "At round 17 training loss: 0.7804663904725688\n",
      "At round 17 mean test accuracy: 0.6726001271455817 mean train accuracy: 0.6928857715430862 mean train loss: 0.8825268396049454                     number of test client: 289\n",
      "The client-group discrepancy are: [33.27017406 26.3226526  38.26136585 38.30248294  0.         22.13609057]\n",
      "Begin group  0 training\n"
     ]
    },
    {
     "name": "stderr",
     "output_type": "stream",
     "text": [
      "Epoch:   5%|▌         | 1/20 [00:00<00:02,  8.33it/s] "
     ]
    },
    {
     "name": "stdout",
     "output_type": "stream",
     "text": [
      "Begin group  1 training\n"
     ]
    },
    {
     "name": "stderr",
     "output_type": "stream",
     "text": [
      "Epoch:   0%|          | 0/20 [00:00<?, ?it/s]         "
     ]
    },
    {
     "name": "stdout",
     "output_type": "stream",
     "text": [
      "Begin group  2 training\n"
     ]
    },
    {
     "name": "stderr",
     "output_type": "stream",
     "text": [
      "Epoch:   5%|▌         | 1/20 [00:00<00:03,  5.66it/s] "
     ]
    },
    {
     "name": "stdout",
     "output_type": "stream",
     "text": [
      "Begin group  4 training\n"
     ]
    },
    {
     "name": "stderr",
     "output_type": "stream",
     "text": [
      "                                                      \r"
     ]
    },
    {
     "name": "stdout",
     "output_type": "stream",
     "text": [
      "Training groups takes 76.52110242843628s seconds\n",
      "Scheduling clients takes 3.153751850128174s seconds\n",
      "Group 0, clients ['irishsamom', 'jaronmc', 'kimalojado', 'vesula']\n",
      "Group 1, clients ['SandiNJ', 'FreshPlastic', '18percentgrey']\n",
      "Group 2, clients ['_ophelia', 'clevertitania', 'cavorting', '_MsWhite', 'xxLOVExxPEACE', 'sarahroters', 'Rawrrgasmic', 'sarahlay', 'Bhooshan', 'taylormcfly', 'gerrymoth', 'PreternaReviews']\n",
      "Group 3 is empty.\n",
      "Group 4, clients ['atkailash']\n"
     ]
    },
    {
     "name": "stderr",
     "output_type": "stream",
     "text": [
      "\r",
      "Epoch:   0%|          | 0/20 [00:00<?, ?it/s]"
     ]
    },
    {
     "name": "stdout",
     "output_type": "stream",
     "text": [
      "Group 0\n",
      "At round 18 accuracy: 0.6339950372208437\n",
      "At round 18 training accuracy: 0.650520156046814\n",
      "At round 18 training loss: 0.6288307520363514\n",
      "Group 1\n",
      "At round 18 accuracy: 0.921092564491654\n",
      "At round 18 training accuracy: 0.9386138613861386\n",
      "At round 18 training loss: 0.5247489084432877\n",
      "Group 2\n",
      "At round 18 accuracy: 0.49801324503311256\n",
      "At round 18 training accuracy: 0.5331695331695332\n",
      "At round 18 training loss: 0.7087035560951018\n",
      "Group 3\n",
      "At round 18 accuracy: 0.6826923076923077\n",
      "At round 18 training accuracy: 0.6945812807881774\n",
      "At round 18 training loss: 2.968063288466667\n",
      "Group 4\n",
      "At round 18 accuracy: 0.5551684088269454\n",
      "At round 18 training accuracy: 0.5839483394833949\n",
      "At round 18 training loss: 0.9151831798869452\n",
      "At round 18 mean test accuracy: 0.642748555792034 mean train accuracy: 0.6674924085024773 mean train loss: 0.8522146323817599                     number of test client: 303\n",
      "The client-group discrepancy are: [35.13488206 31.05933246 26.52891281 38.34110511  0.         38.78031159]\n",
      "Begin group  0 training\n"
     ]
    },
    {
     "name": "stderr",
     "output_type": "stream",
     "text": [
      "Epoch:   5%|▌         | 1/20 [00:00<00:02,  6.68it/s] "
     ]
    },
    {
     "name": "stdout",
     "output_type": "stream",
     "text": [
      "Begin group  1 training\n"
     ]
    },
    {
     "name": "stderr",
     "output_type": "stream",
     "text": [
      "Epoch:   5%|▌         | 1/20 [00:00<00:02,  8.18it/s] "
     ]
    },
    {
     "name": "stdout",
     "output_type": "stream",
     "text": [
      "Begin group  2 training\n"
     ]
    },
    {
     "name": "stderr",
     "output_type": "stream",
     "text": [
      "Epoch:   5%|▌         | 1/20 [00:00<00:02,  8.11it/s] "
     ]
    },
    {
     "name": "stdout",
     "output_type": "stream",
     "text": [
      "Begin group  4 training\n"
     ]
    },
    {
     "name": "stderr",
     "output_type": "stream",
     "text": [
      "                                                      \r"
     ]
    },
    {
     "name": "stdout",
     "output_type": "stream",
     "text": [
      "Training groups takes 61.75363349914551s seconds\n",
      "Scheduling clients takes 2.988717794418335s seconds\n",
      "Group 0, clients ['vesula', 'davidrules04', 'wickedground', 'niccccolle', 'NikFreeman', 'lordmuttley', 'aerobic247', 'nicolalalalala']\n",
      "Group 1, clients ['shanajaca', 'MaschaD']\n",
      "Group 2, clients ['mrhankmanthe3rd', 'kjgriffin18', 'paluawahine', 'HOTTVampChick', 'juliarygaard', 'JJLuver756', 'LilahMcfly', 'Tittybird', 'MCRmuffin', 'velofille']\n",
      "Group 3 is empty.\n",
      "Group 4 is empty.\n"
     ]
    },
    {
     "name": "stderr",
     "output_type": "stream",
     "text": [
      "\r",
      "Epoch:   0%|          | 0/20 [00:00<?, ?it/s]"
     ]
    },
    {
     "name": "stdout",
     "output_type": "stream",
     "text": [
      "Group 0\n",
      "At round 19 accuracy: 0.656392694063927\n",
      "At round 19 training accuracy: 0.6672645739910313\n",
      "At round 19 training loss: 0.6520813614620043\n",
      "Group 1\n",
      "At round 19 accuracy: 0.9213649851632048\n",
      "At round 19 training accuracy: 0.9392649903288202\n",
      "At round 19 training loss: 0.38441478420475433\n",
      "Group 2\n",
      "At round 19 accuracy: 0.5066505441354293\n",
      "At round 19 training accuracy: 0.5473819466752329\n",
      "At round 19 training loss: 0.6907360073342953\n",
      "Group 3\n",
      "At round 19 accuracy: 0.6826923076923077\n",
      "At round 19 training accuracy: 0.6945812807881774\n",
      "At round 19 training loss: 2.968063288466667\n",
      "Group 4\n",
      "At round 19 accuracy: 0.5760869565217391\n",
      "At round 19 training accuracy: 0.5946896992962252\n",
      "At round 19 training loss: 1.3757944402063857\n",
      "At round 19 mean test accuracy: 0.654556108995019 mean train accuracy: 0.6769124104460366 mean train loss: 0.9272002443888337                     number of test client: 316\n",
      "The client-group discrepancy are: [31.33127575 34.46608975 20.2690527  31.03586917  0.          0.        ]\n",
      "Begin group  0 training\n"
     ]
    },
    {
     "name": "stderr",
     "output_type": "stream",
     "text": [
      "Epoch:   0%|          | 0/20 [00:00<?, ?it/s]         "
     ]
    },
    {
     "name": "stdout",
     "output_type": "stream",
     "text": [
      "Begin group  1 training\n"
     ]
    },
    {
     "name": "stderr",
     "output_type": "stream",
     "text": [
      "Epoch:   5%|▌         | 1/20 [00:00<00:02,  8.62it/s] "
     ]
    },
    {
     "name": "stdout",
     "output_type": "stream",
     "text": [
      "Begin group  2 training\n"
     ]
    },
    {
     "name": "stderr",
     "output_type": "stream",
     "text": [
      "                                                      \r"
     ]
    },
    {
     "name": "stdout",
     "output_type": "stream",
     "text": [
      "Training groups takes 73.17548680305481s seconds\n",
      "Scheduling clients takes 3.027961254119873s seconds\n",
      "Group 0, clients ['eysies']\n",
      "Group 1, clients ['isisproject', 'keza34', 'PaulCarterJr']\n",
      "Group 2, clients ['AllTheSausages', 'unitechy', 'smilin808hapa', 'TLM26', 'GinaLaGuardia', 'sabrinaxx', 'PercythePigeon', 'AndyCarolan', 'wolfchild59', 'VIBEAUTY', 'neurogirl07', 'Tittybird', 'MisterRo', 'Abbie_xD']\n",
      "Group 3, clients ['emmao414', 'katherinemarsh']\n",
      "Group 4 is empty.\n"
     ]
    },
    {
     "name": "stderr",
     "output_type": "stream",
     "text": [
      "\r",
      "Epoch:   0%|          | 0/20 [00:00<?, ?it/s]"
     ]
    },
    {
     "name": "stdout",
     "output_type": "stream",
     "text": [
      "Group 0\n",
      "At round 20 accuracy: 0.5776754890678941\n",
      "At round 20 training accuracy: 0.5667369689665562\n",
      "At round 20 training loss: 0.9993010479378822\n",
      "Group 1\n",
      "At round 20 accuracy: 0.9228687415426252\n",
      "At round 20 training accuracy: 0.9454225352112676\n",
      "At round 20 training loss: 0.4305703111316791\n",
      "Group 2\n",
      "At round 20 accuracy: 0.5606382978723404\n",
      "At round 20 training accuracy: 0.5815923207227555\n",
      "At round 20 training loss: 0.7759317425786944\n",
      "Group 3\n",
      "At round 20 accuracy: 0.6837209302325581\n",
      "At round 20 training accuracy: 0.7025089605734767\n",
      "At round 20 training loss: 2.891546333315251\n",
      "Group 4\n",
      "At round 20 accuracy: 0.577639751552795\n",
      "At round 20 training accuracy: 0.5960526315789474\n",
      "At round 20 training loss: 1.3700727483000312\n",
      "At round 20 mean test accuracy: 0.6510650224215246 mean train accuracy: 0.6647518043894536 mean train loss: 1.0217333576189789                     number of test client: 329\n",
      "The client-group discrepancy are: [34.70692409 39.55564445 38.50394848 35.7746692  19.11281152  0.        ]\n",
      "Begin group  0 training\n"
     ]
    },
    {
     "name": "stderr",
     "output_type": "stream",
     "text": [
      "Epoch:   0%|          | 0/20 [00:00<?, ?it/s]         "
     ]
    },
    {
     "name": "stdout",
     "output_type": "stream",
     "text": [
      "Begin group  1 training\n"
     ]
    },
    {
     "name": "stderr",
     "output_type": "stream",
     "text": [
      "Epoch:   5%|▌         | 1/20 [00:00<00:02,  8.36it/s] "
     ]
    },
    {
     "name": "stdout",
     "output_type": "stream",
     "text": [
      "Begin group  2 training\n"
     ]
    },
    {
     "name": "stderr",
     "output_type": "stream",
     "text": [
      "Epoch:   5%|▌         | 1/20 [00:00<00:02,  8.97it/s] "
     ]
    },
    {
     "name": "stdout",
     "output_type": "stream",
     "text": [
      "Begin group  3 training\n"
     ]
    },
    {
     "name": "stderr",
     "output_type": "stream",
     "text": [
      "                                                      \r"
     ]
    },
    {
     "name": "stdout",
     "output_type": "stream",
     "text": [
      "Training groups takes 66.25667262077332s seconds\n",
      "Scheduling clients takes 2.9876773357391357s seconds\n",
      "Group 0 is empty.\n",
      "Group 1, clients ['tweeteradder5']\n",
      "Group 2, clients ['kristikubota', 'Bopsicle', 'wyndwitch', 'lina_luka', 'monashoj', 'kwells2416', 'enked', 'katementon', 'davidismyangel', 'thisgoodlife', 'Pepperfire', 'DrewDrew2009', 'danni82', 'RealWorldCara', 'tamaryn', 'sunshinehollyyy', 'pageoneresults']\n",
      "Group 3 is empty.\n",
      "Group 4, clients ['mossyrants', 'pearlbones']\n"
     ]
    },
    {
     "name": "stderr",
     "output_type": "stream",
     "text": [
      "\r",
      "Epoch:   0%|          | 0/20 [00:00<?, ?it/s]"
     ]
    },
    {
     "name": "stdout",
     "output_type": "stream",
     "text": [
      "Group 0\n",
      "At round 21 accuracy: 0.48791714614499426\n",
      "At round 21 training accuracy: 0.5296776137390781\n",
      "At round 21 training loss: 2.4567749451836907\n",
      "Group 1\n",
      "At round 21 accuracy: 0.9147496617050067\n",
      "At round 21 training accuracy: 0.9376760563380282\n",
      "At round 21 training loss: 0.36301694169083726\n",
      "Group 2\n",
      "At round 21 accuracy: 0.5667903525046383\n",
      "At round 21 training accuracy: 0.5882497541789578\n",
      "At round 21 training loss: 0.7119853537137764\n",
      "Group 3\n",
      "At round 21 accuracy: 0.6837209302325581\n",
      "At round 21 training accuracy: 0.7025089605734767\n",
      "At round 21 training loss: 1.9409887637857353\n",
      "Group 4\n",
      "At round 21 accuracy: 0.577639751552795\n",
      "At round 21 training accuracy: 0.5960526315789474\n",
      "At round 21 training loss: 1.3700727483000312\n",
      "At round 21 mean test accuracy: 0.6268213707501349 mean train accuracy: 0.6532898468519569 mean train loss: 1.267086594334589                     number of test client: 342\n",
      "The client-group discrepancy are: [26.1198879   0.          3.19448986 29.987911    0.          4.70439062]\n",
      "Begin group  1 training\n"
     ]
    },
    {
     "name": "stderr",
     "output_type": "stream",
     "text": [
      "Epoch:   5%|▌         | 1/20 [00:00<00:02,  8.08it/s] "
     ]
    },
    {
     "name": "stdout",
     "output_type": "stream",
     "text": [
      "Begin group  2 training\n"
     ]
    },
    {
     "name": "stderr",
     "output_type": "stream",
     "text": [
      "Epoch:   5%|▌         | 1/20 [00:00<00:01,  9.97it/s] "
     ]
    },
    {
     "name": "stdout",
     "output_type": "stream",
     "text": [
      "Begin group  4 training\n"
     ]
    },
    {
     "name": "stderr",
     "output_type": "stream",
     "text": [
      "                                                      \r"
     ]
    },
    {
     "name": "stdout",
     "output_type": "stream",
     "text": [
      "Training groups takes 65.20057129859924s seconds\n",
      "Scheduling clients takes 3.0012359619140625s seconds\n",
      "Group 0, clients ['thalovebug']\n",
      "Group 1, clients ['privatestudmuff', 'tweeteradder3', 'tweeteradder10']\n",
      "Group 2, clients ['TwistedHelen', 'chelseasms', 'ATsLady', 'eatlikeagirl', 'YvetteObeney', 'gracieh89', 'NoTORIousTori', 'MelanieFresh27', 'DanielJUK', 'IzzySc', 'sarahmarina']\n",
      "Group 3 is empty.\n",
      "Group 4, clients ['LisaHopeCyrus', 'kittenspawn', 'mannykimchi', 'hannah106', 'AvonteNikole']\n"
     ]
    },
    {
     "name": "stderr",
     "output_type": "stream",
     "text": [
      "\r",
      "Epoch:   0%|          | 0/20 [00:00<?, ?it/s]"
     ]
    },
    {
     "name": "stdout",
     "output_type": "stream",
     "text": [
      "Group 0\n",
      "At round 22 accuracy: 0.49166666666666664\n",
      "At round 22 training accuracy: 0.5366386030558155\n",
      "At round 22 training loss: 2.4106025252907095\n",
      "Group 1\n",
      "At round 22 accuracy: 0.9154746423927178\n",
      "At round 22 training accuracy: 0.9376904842533017\n",
      "At round 22 training loss: 0.3762248180965816\n",
      "Group 2\n",
      "At round 22 accuracy: 0.5696095076400679\n",
      "At round 22 training accuracy: 0.6047191011235955\n",
      "At round 22 training loss: 0.7373348180765517\n",
      "Group 3\n",
      "At round 22 accuracy: 0.6837209302325581\n",
      "At round 22 training accuracy: 0.7025089605734767\n",
      "At round 22 training loss: 1.9409887637857353\n",
      "Group 4\n",
      "At round 22 accuracy: 0.5591531755915318\n",
      "At round 22 training accuracy: 0.5863321228128096\n",
      "At round 22 training loss: 0.7811163641726392\n",
      "At round 22 mean test accuracy: 0.6265440210249672 mean train accuracy: 0.6593672285161647 mean train loss: 1.1131212482215218                     number of test client: 351\n",
      "The client-group discrepancy are: [35.30083567 38.93189379 26.66771995 38.66015419  0.         32.36399274]\n",
      "Begin group  0 training\n"
     ]
    },
    {
     "name": "stderr",
     "output_type": "stream",
     "text": [
      "Epoch:   5%|▌         | 1/20 [00:00<00:03,  5.40it/s] "
     ]
    },
    {
     "name": "stdout",
     "output_type": "stream",
     "text": [
      "Begin group  1 training\n"
     ]
    },
    {
     "name": "stderr",
     "output_type": "stream",
     "text": [
      "Epoch:   5%|▌         | 1/20 [00:00<00:03,  5.81it/s] "
     ]
    },
    {
     "name": "stdout",
     "output_type": "stream",
     "text": [
      "Begin group  2 training\n"
     ]
    },
    {
     "name": "stderr",
     "output_type": "stream",
     "text": [
      "Epoch:   5%|▌         | 1/20 [00:00<00:01,  9.89it/s] "
     ]
    },
    {
     "name": "stdout",
     "output_type": "stream",
     "text": [
      "Begin group  4 training\n"
     ]
    },
    {
     "name": "stderr",
     "output_type": "stream",
     "text": [
      "                                                      \r"
     ]
    },
    {
     "name": "stdout",
     "output_type": "stream",
     "text": [
      "Training groups takes 67.82501411437988s seconds\n",
      "Scheduling clients takes 3.0911312103271484s seconds\n",
      "Group 0 is empty.\n",
      "Group 1, clients ['RGM77']\n",
      "Group 2, clients ['AussieGal999', 'AshyJonas', 'marianaguidil', 'LexiStarGirl', 'InTheLittleWood', 'christian792', 'McDayDreamer', 'theanand', 'robcthegeek', 'katjrobertson', 'LauraLxox', 'JonasAustralia', 'StampfliTurci', 'markable']\n",
      "Group 3 is empty.\n",
      "Group 4, clients ['KJL912', 'Andjelija', 'sabrinaxx', 'erin82883', 'zenjar']\n"
     ]
    },
    {
     "name": "stderr",
     "output_type": "stream",
     "text": [
      "\r",
      "Epoch:   0%|          | 0/20 [00:00<?, ?it/s]"
     ]
    },
    {
     "name": "stdout",
     "output_type": "stream",
     "text": [
      "Group 0\n",
      "At round 23 accuracy: 0.4897959183673469\n",
      "At round 23 training accuracy: 0.5367924528301887\n",
      "At round 23 training loss: 2.8612355900010327\n",
      "Group 1\n",
      "At round 23 accuracy: 0.9232769830949284\n",
      "At round 23 training accuracy: 0.9448018963765662\n",
      "At round 23 training loss: 0.39598401967760566\n",
      "Group 2\n",
      "At round 23 accuracy: 0.6057098765432098\n",
      "At round 23 training accuracy: 0.6344700837247295\n",
      "At round 23 training loss: 0.71337677990268\n",
      "Group 3\n",
      "At round 23 accuracy: 0.6831683168316832\n",
      "At round 23 training accuracy: 0.7224334600760456\n",
      "At round 23 training loss: 1.8306753908423294\n",
      "Group 4\n",
      "At round 23 accuracy: 0.5676959619952494\n",
      "At round 23 training accuracy: 0.5954030226700252\n",
      "At round 23 training loss: 0.7705400345251152\n",
      "At round 23 mean test accuracy: 0.6390157280568239 mean train accuracy: 0.6712237412470824 mean train loss: 1.177266696266825                     number of test client: 366\n",
      "The client-group discrepancy are: [35.3520402   0.          4.71868794 38.44778127  0.         32.81063565]\n",
      "Begin group  1 training\n"
     ]
    },
    {
     "name": "stderr",
     "output_type": "stream",
     "text": [
      "Epoch:   0%|          | 0/20 [00:00<?, ?it/s]         "
     ]
    },
    {
     "name": "stdout",
     "output_type": "stream",
     "text": [
      "Begin group  2 training\n"
     ]
    },
    {
     "name": "stderr",
     "output_type": "stream",
     "text": [
      "Epoch:   5%|▌         | 1/20 [00:00<00:02,  7.39it/s] "
     ]
    },
    {
     "name": "stdout",
     "output_type": "stream",
     "text": [
      "Begin group  4 training\n"
     ]
    },
    {
     "name": "stderr",
     "output_type": "stream",
     "text": [
      "                                                      \r"
     ]
    },
    {
     "name": "stdout",
     "output_type": "stream",
     "text": [
      "Training groups takes 58.254603147506714s seconds\n",
      "Scheduling clients takes 3.144791603088379s seconds\n",
      "Group 0 is empty.\n",
      "Group 1, clients ['hypnoticyogi', 'privatestudmuff', 'tweeteradder1']\n",
      "Group 2, clients ['xxxSupermodel', 'JoReynolds55', 'Aw_Re_ya_2_', 'sarahroters', 'unitechy', 'sarahlay', 'Deejaywilliams', 'Itxi_Itx', 'NaythenCash', 'jun6lee', 'neszlifeasmcrmy']\n",
      "Group 3 is empty.\n",
      "Group 4, clients ['DrewDrew2009', 'ashleeadams', 'HeathCastor', 'jerryfetus', 'OMGitsJessieLee', 'Impala_Guy']\n"
     ]
    },
    {
     "name": "stderr",
     "output_type": "stream",
     "text": [
      "Epoch:   5%|▌         | 1/20 [00:00<00:02,  8.87it/s]"
     ]
    },
    {
     "name": "stdout",
     "output_type": "stream",
     "text": [
      "Group 0\n",
      "At round 24 accuracy: 0.4993788819875776\n",
      "At round 24 training accuracy: 0.5397394136807817\n",
      "At round 24 training loss: 2.833826941750037\n",
      "Group 1\n",
      "At round 24 accuracy: 0.9085133418043202\n",
      "At round 24 training accuracy: 0.9351422898742554\n",
      "At round 24 training loss: 0.349084295761747\n",
      "Group 2\n",
      "At round 24 accuracy: 0.6205128205128205\n",
      "At round 24 training accuracy: 0.6437160589604345\n",
      "At round 24 training loss: 0.7467763390105949\n",
      "Group 3\n",
      "At round 24 accuracy: 0.6831683168316832\n",
      "At round 24 training accuracy: 0.7224334600760456\n",
      "At round 24 training loss: 1.8306753908423294\n",
      "Group 4\n",
      "At round 24 accuracy: 0.5735632183908046\n",
      "At round 24 training accuracy: 0.5968331303288672\n",
      "At round 24 training loss: 0.6769626029153398\n",
      "At round 24 mean test accuracy: 0.6455696202531646 mean train accuracy: 0.674368513804582 mean train loss: 1.127387789847387                     number of test client: 374\n",
      "The client-group discrepancy are: [24.94433071  0.         14.2568745  28.99119729  0.         22.8688034 ]\n",
      "Begin group  1 training\n"
     ]
    },
    {
     "name": "stderr",
     "output_type": "stream",
     "text": [
      "Epoch:   5%|▌         | 1/20 [00:00<00:02,  8.98it/s] "
     ]
    },
    {
     "name": "stdout",
     "output_type": "stream",
     "text": [
      "Begin group  2 training\n"
     ]
    },
    {
     "name": "stderr",
     "output_type": "stream",
     "text": [
      "Epoch:   5%|▌         | 1/20 [00:00<00:02,  8.43it/s] "
     ]
    },
    {
     "name": "stdout",
     "output_type": "stream",
     "text": [
      "Begin group  4 training\n"
     ]
    },
    {
     "name": "stderr",
     "output_type": "stream",
     "text": [
      "                                                      \r"
     ]
    },
    {
     "name": "stdout",
     "output_type": "stream",
     "text": [
      "Training groups takes 62.3392767906189s seconds\n",
      "Scheduling clients takes 3.0719990730285645s seconds\n",
      "Group 0 is empty.\n",
      "Group 1 is empty.\n",
      "Group 2, clients ['redLIGHTjoli', 'iamluvnjordan', 'clevertitania', 'I_Support_DemiL', 'xmiyix', 'sharonhayes', 'AZBlueEyes', 'mrshananto', 'ialejandro', 'krapposelli', 'sunshinehollyyy', 'CaraNinaMcfly', 'mizsedz']\n",
      "Group 3 is empty.\n",
      "Group 4, clients ['KJL912', 'Monicarrrr', 'MrsBamBam', 'debbier93', 'xdevinnbabyy', 'Lyricist_Juice', 'Rikou26']\n"
     ]
    },
    {
     "name": "stderr",
     "output_type": "stream",
     "text": [
      "\r",
      "Epoch:   0%|          | 0/20 [00:00<?, ?it/s]"
     ]
    },
    {
     "name": "stdout",
     "output_type": "stream",
     "text": [
      "Group 0\n",
      "At round 25 accuracy: 0.5032010243277849\n",
      "At round 25 training accuracy: 0.539288112827401\n",
      "At round 25 training loss: 2.8478979197075365\n",
      "Group 1\n",
      "At round 25 accuracy: 0.9209844559585493\n",
      "At round 25 training accuracy: 0.9443507588532883\n",
      "At round 25 training loss: 0.3100909406787965\n",
      "Group 2\n",
      "At round 25 accuracy: 0.637758505670447\n",
      "At round 25 training accuracy: 0.6601445443328046\n",
      "At round 25 training loss: 0.7596341222918646\n",
      "Group 3\n",
      "At round 25 accuracy: 0.6831683168316832\n",
      "At round 25 training accuracy: 0.7224334600760456\n",
      "At round 25 training loss: 1.8306753908423294\n",
      "Group 4\n",
      "At round 25 accuracy: 0.5761363636363637\n",
      "At round 25 training accuracy: 0.6035574314139283\n",
      "At round 25 training loss: 0.6789193881323512\n",
      "At round 25 mean test accuracy: 0.654329946782777 mean train accuracy: 0.6820379086630199 mean train loss: 1.107126479682803                     number of test client: 383\n",
      "The client-group discrepancy are: [28.67611912  0.          0.         33.18583419  0.         20.300934  ]\n",
      "Begin group  2 training\n"
     ]
    },
    {
     "name": "stderr",
     "output_type": "stream",
     "text": [
      "Epoch:   5%|▌         | 1/20 [00:00<00:02,  6.52it/s] "
     ]
    },
    {
     "name": "stdout",
     "output_type": "stream",
     "text": [
      "Begin group  4 training\n"
     ]
    },
    {
     "name": "stderr",
     "output_type": "stream",
     "text": [
      "                                                      \r"
     ]
    },
    {
     "name": "stdout",
     "output_type": "stream",
     "text": [
      "Training groups takes 68.2078070640564s seconds\n",
      "Scheduling clients takes 3.063835382461548s seconds\n",
      "Group 0 is empty.\n",
      "Group 1, clients ['mrshananto', 'epcotx', 'dogzero']\n",
      "Group 2, clients ['littlefluffycat', 'paluawahine', 'ItsMariahxOxO', 'SarahSee95', 'sweetcherrypop', 'iHaps', 'davidj505', 'Knot2serious', 'katjrobertson', 'esmeg', 'HOTTVampChick', 'Minerveca']\n",
      "Group 3 is empty.\n",
      "Group 4, clients ['JaydDragyn', 'nathanrdotca', 'socilover', 'schaeferj89', 'sheonpoint']\n"
     ]
    },
    {
     "name": "stderr",
     "output_type": "stream",
     "text": [
      "Epoch:   5%|▌         | 1/20 [00:00<00:01,  9.52it/s]"
     ]
    },
    {
     "name": "stdout",
     "output_type": "stream",
     "text": [
      "Group 0\n",
      "At round 26 accuracy: 0.5081081081081081\n",
      "At round 26 training accuracy: 0.5409429280397022\n",
      "At round 26 training loss: 2.8283570477630464\n",
      "Group 1\n",
      "At round 26 accuracy: 0.9225967540574282\n",
      "At round 26 training accuracy: 0.9460863916856123\n",
      "At round 26 training loss: 0.29889772419868826\n",
      "Group 2\n",
      "At round 26 accuracy: 0.6447284345047923\n",
      "At round 26 training accuracy: 0.6640770140179024\n",
      "At round 26 training loss: 0.7196262210401162\n",
      "Group 3\n",
      "At round 26 accuracy: 0.6831683168316832\n",
      "At round 26 training accuracy: 0.7224334600760456\n",
      "At round 26 training loss: 1.8306753908423294\n",
      "Group 4\n",
      "At round 26 accuracy: 0.5785482123510293\n",
      "At round 26 training accuracy: 0.6126436781609196\n",
      "At round 26 training loss: 0.6732787136630766\n",
      "At round 26 mean test accuracy: 0.6608366816355472 mean train accuracy: 0.6881914232442511 mean train loss: 1.0532890606742042                     number of test client: 391\n",
      "The client-group discrepancy are: [30.3727138   0.         38.77358849 27.19279471  0.         32.96399481]\n",
      "Begin group  1 training\n"
     ]
    },
    {
     "name": "stderr",
     "output_type": "stream",
     "text": [
      "Epoch:   0%|          | 0/20 [00:00<?, ?it/s]         "
     ]
    },
    {
     "name": "stdout",
     "output_type": "stream",
     "text": [
      "Begin group  2 training\n"
     ]
    },
    {
     "name": "stderr",
     "output_type": "stream",
     "text": [
      "Epoch:   5%|▌         | 1/20 [00:00<00:03,  5.39it/s] "
     ]
    },
    {
     "name": "stdout",
     "output_type": "stream",
     "text": [
      "Begin group  4 training\n"
     ]
    },
    {
     "name": "stderr",
     "output_type": "stream",
     "text": [
      "                                                      \r"
     ]
    },
    {
     "name": "stdout",
     "output_type": "stream",
     "text": [
      "Training groups takes 63.94839954376221s seconds\n",
      "Scheduling clients takes 3.0223581790924072s seconds\n",
      "Group 0 is empty.\n",
      "Group 1, clients ['imnangl', 'HelloLizzi']\n",
      "Group 2, clients ['lameymacdonald', 'markable', 'lordmuttley', 'TeamUKskyvixen', 'steffy213']\n",
      "Group 3 is empty.\n",
      "Group 4, clients ['vesula', 'pearlbones', 'gerrymoth', 'MelFresh27', 'mnstrsnmnchkns', 'tweetieelovee', 'PaulDale67', 'ericbutcher', 'Hybrid911', 'Jenniewrenbird', 'RockstarAtHeart', 'kellygirl27', 'callyyyy']\n"
     ]
    },
    {
     "name": "stderr",
     "output_type": "stream",
     "text": [
      "\r",
      "Epoch:   0%|          | 0/20 [00:00<?, ?it/s]"
     ]
    },
    {
     "name": "stdout",
     "output_type": "stream",
     "text": [
      "Group 0\n",
      "At round 27 accuracy: 0.511204481792717\n",
      "At round 27 training accuracy: 0.5412844036697247\n",
      "At round 27 training loss: 2.836505182875724\n",
      "Group 1\n",
      "At round 27 accuracy: 0.9219143576826196\n",
      "At round 27 training accuracy: 0.9446083251392986\n",
      "At round 27 training loss: 0.31441309796220696\n",
      "Group 2\n",
      "At round 27 accuracy: 0.6340852130325815\n",
      "At round 27 training accuracy: 0.6567880794701987\n",
      "At round 27 training loss: 0.9497967758444169\n",
      "Group 3\n",
      "At round 27 accuracy: 0.6831683168316832\n",
      "At round 27 training accuracy: 0.7224334600760456\n",
      "At round 27 training loss: 1.8306753908423294\n",
      "Group 4\n",
      "At round 27 accuracy: 0.5964566929133859\n",
      "At round 27 training accuracy: 0.6089911134343963\n",
      "At round 27 training loss: 0.6951631427091638\n",
      "At round 27 mean test accuracy: 0.6601110596945858 mean train accuracy: 0.6830990201448481 mean train loss: 1.1277232413547063                     number of test client: 400\n",
      "The client-group discrepancy are: [28.72850503  0.         22.25128278 31.83826409  0.         28.52893958]\n",
      "Begin group  1 training\n"
     ]
    },
    {
     "name": "stderr",
     "output_type": "stream",
     "text": [
      "Epoch:   0%|          | 0/20 [00:00<?, ?it/s]         "
     ]
    },
    {
     "name": "stdout",
     "output_type": "stream",
     "text": [
      "Begin group  2 training\n"
     ]
    },
    {
     "name": "stderr",
     "output_type": "stream",
     "text": [
      "Epoch:   5%|▌         | 1/20 [00:00<00:02,  6.67it/s] "
     ]
    },
    {
     "name": "stdout",
     "output_type": "stream",
     "text": [
      "Begin group  4 training\n"
     ]
    },
    {
     "name": "stderr",
     "output_type": "stream",
     "text": [
      "                                                      \r"
     ]
    },
    {
     "name": "stdout",
     "output_type": "stream",
     "text": [
      "Training groups takes 66.94510650634766s seconds\n",
      "Scheduling clients takes 3.0844433307647705s seconds\n",
      "Group 0 is empty.\n",
      "Group 1, clients ['DNiCESEOUL', 'dannybrown']\n",
      "Group 2, clients ['smuttysteff', 'Nimilia1621', 'garyshort', 'AussieGal999', 'mrshananto']\n",
      "Group 3 is empty.\n",
      "Group 4, clients ['Lil_Miss_Clumsy', 'xamylouise', 'froggie775', 'Kitt69', 'crrystalbabe', 'serinurshira', 'limeice', 'gewoonlianne', 'jerryfetus', 'damarisens', 'kels450', 'webwoke', 'Arhum']\n"
     ]
    },
    {
     "name": "stderr",
     "output_type": "stream",
     "text": [
      "Epoch:   5%|▌         | 1/20 [00:00<00:02,  8.92it/s]"
     ]
    },
    {
     "name": "stdout",
     "output_type": "stream",
     "text": [
      "Group 0\n",
      "At round 28 accuracy: 0.514367816091954\n",
      "At round 28 training accuracy: 0.5425772418990203\n",
      "At round 28 training loss: 2.8193738330431186\n",
      "Group 1\n",
      "At round 28 accuracy: 0.9296482412060302\n",
      "At round 28 training accuracy: 0.9482815057283143\n",
      "At round 28 training loss: 0.43503356010468214\n",
      "Group 2\n",
      "At round 28 accuracy: 0.6541769041769042\n",
      "At round 28 training accuracy: 0.6756932057726609\n",
      "At round 28 training loss: 1.570167485441519\n",
      "Group 3\n",
      "At round 28 accuracy: 0.6766917293233082\n",
      "At round 28 training accuracy: 0.6900584795321637\n",
      "At round 28 training loss: 1.9753449745576095\n",
      "Group 4\n",
      "At round 28 accuracy: 0.5996677740863787\n",
      "At round 28 training accuracy: 0.5996488147497805\n",
      "At round 28 training loss: 0.688963335619044\n",
      "At round 28 mean test accuracy: 0.6674893426071349 mean train accuracy: 0.6839775745057539 mean train loss: 1.336508556551343                     number of test client: 413\n",
      "The client-group discrepancy are: [33.78500787  0.         21.98215478 32.20441699  0.         36.208751  ]\n",
      "Begin group  1 training\n"
     ]
    },
    {
     "name": "stderr",
     "output_type": "stream",
     "text": [
      "Epoch:   5%|▌         | 1/20 [00:00<00:02,  7.28it/s] "
     ]
    },
    {
     "name": "stdout",
     "output_type": "stream",
     "text": [
      "Begin group  2 training\n"
     ]
    },
    {
     "name": "stderr",
     "output_type": "stream",
     "text": [
      "Epoch:   5%|▌         | 1/20 [00:00<00:02,  7.32it/s] "
     ]
    },
    {
     "name": "stdout",
     "output_type": "stream",
     "text": [
      "Begin group  4 training\n"
     ]
    },
    {
     "name": "stderr",
     "output_type": "stream",
     "text": [
      "                                                      \r"
     ]
    },
    {
     "name": "stdout",
     "output_type": "stream",
     "text": [
      "Training groups takes 79.77891683578491s seconds\n",
      "Scheduling clients takes 2.8941447734832764s seconds\n",
      "Group 0 is empty.\n",
      "Group 1, clients ['carlos_teran', 'KINGmoney']\n",
      "Group 2, clients ['AZBlueEyes', 'TLM26', 'makeupbylinvia', 'mini_ritz', 'mizsedz']\n",
      "Group 3 is empty.\n",
      "Group 4, clients ['TinyPicTweets', 'iLadySyncere', 'Cass_fryer', 'SheBeeGee', 'brianwelburn', 'MsStaceyK', 'Sharonyy', 'MummaBear', 'koast08', 'TwistedHelen', 'dreadw', 'oldskool90', 'paigeebaby']\n"
     ]
    },
    {
     "name": "stderr",
     "output_type": "stream",
     "text": [
      "\r",
      "Epoch:   0%|          | 0/20 [00:00<?, ?it/s]"
     ]
    },
    {
     "name": "stdout",
     "output_type": "stream",
     "text": [
      "Group 0\n",
      "At round 29 accuracy: 0.5103338632750397\n",
      "At round 29 training accuracy: 0.5390396659707725\n",
      "At round 29 training loss: 2.840118593180716\n",
      "Group 1\n",
      "At round 29 accuracy: 0.7014742014742015\n",
      "At round 29 training accuracy: 0.7139654067905189\n",
      "At round 29 training loss: 0.5515284677311149\n",
      "Group 2\n",
      "At round 29 accuracy: 0.6613691931540342\n",
      "At round 29 training accuracy: 0.689727463312369\n",
      "At round 29 training loss: 1.2982319186825635\n",
      "Group 3\n",
      "At round 29 accuracy: 0.6766917293233082\n",
      "At round 29 training accuracy: 0.6900584795321637\n",
      "At round 29 training loss: 1.9753449745576095\n",
      "Group 4\n",
      "At round 29 accuracy: 0.5339805825242718\n",
      "At round 29 training accuracy: 0.5732886170842375\n",
      "At round 29 training loss: 0.670617139611072\n",
      "At round 29 mean test accuracy: 0.6106350252691716 mean train accuracy: 0.6391329479768786 mean train loss: 1.2131215194977751                     number of test client: 422\n",
      "The client-group discrepancy are: [30.57813472  0.         38.81000966 18.07824292  0.         34.11934311]\n",
      "Begin group  1 training\n"
     ]
    },
    {
     "name": "stderr",
     "output_type": "stream",
     "text": [
      "Epoch:   5%|▌         | 1/20 [00:00<00:02,  6.53it/s] "
     ]
    },
    {
     "name": "stdout",
     "output_type": "stream",
     "text": [
      "Begin group  2 training\n"
     ]
    },
    {
     "name": "stderr",
     "output_type": "stream",
     "text": [
      "Epoch:   5%|▌         | 1/20 [00:00<00:02,  6.45it/s] "
     ]
    },
    {
     "name": "stdout",
     "output_type": "stream",
     "text": [
      "Begin group  4 training\n"
     ]
    },
    {
     "name": "stderr",
     "output_type": "stream",
     "text": [
      "                                                      \r"
     ]
    },
    {
     "name": "stdout",
     "output_type": "stream",
     "text": [
      "Training groups takes 72.27450513839722s seconds\n",
      "Scheduling clients takes 2.9836905002593994s seconds\n",
      "Group 0 is empty.\n",
      "Group 1, clients ['ninirific', 'xPurplexMuffinx']\n",
      "Group 2, clients ['katjrobertson', 'tweeteradder2', 'LadyParadis', 'karenstrunks', 'paul_steele', 'kimalojado', 'ThomasGudgeon', 'shellrawlins']\n",
      "Group 3 is empty.\n",
      "Group 4, clients ['PinkTribble', 'txcranberry', 'tifpez', 'LisaHopeCyrus', 'abcdefglynis', 'Shinybiscuit', 'ambienteer', 'Dot12b', 'kevmer', 'queenbmakeup']\n"
     ]
    },
    {
     "name": "stderr",
     "output_type": "stream",
     "text": [
      "\r",
      "Epoch:   0%|          | 0/20 [00:00<?, ?it/s]"
     ]
    },
    {
     "name": "stdout",
     "output_type": "stream",
     "text": [
      "Group 0\n",
      "At round 30 accuracy: 0.5138662316476346\n",
      "At round 30 training accuracy: 0.5362505362505362\n",
      "At round 30 training loss: 2.867034914581128\n",
      "Group 1\n",
      "At round 30 accuracy: 0.873341375150784\n",
      "At round 30 training accuracy: 0.904118201823326\n",
      "At round 30 training loss: 0.32164083432692525\n",
      "Group 2\n",
      "At round 30 accuracy: 0.6521486643437863\n",
      "At round 30 training accuracy: 0.6777352716143841\n",
      "At round 30 training loss: 0.7458208903294077\n",
      "Group 3\n",
      "At round 30 accuracy: 0.8181818181818182\n",
      "At round 30 training accuracy: 0.8368794326241135\n",
      "At round 30 training loss: 1.0393523546254997\n",
      "Group 4\n",
      "At round 30 accuracy: 0.5962078651685393\n",
      "At round 30 training accuracy: 0.6259272997032641\n",
      "At round 30 training loss: 0.662534333533367\n",
      "At round 30 mean test accuracy: 0.6600681140911026 mean train accuracy: 0.6877169409920502 mean train loss: 0.9289087767665288                     number of test client: 434\n",
      "The client-group discrepancy are: [32.15397669  0.         38.9186134  30.51162295  0.         32.11493234]\n",
      "Begin group  1 training\n"
     ]
    },
    {
     "name": "stderr",
     "output_type": "stream",
     "text": [
      "Epoch:   5%|▌         | 1/20 [00:00<00:03,  5.52it/s] "
     ]
    },
    {
     "name": "stdout",
     "output_type": "stream",
     "text": [
      "Begin group  2 training\n"
     ]
    },
    {
     "name": "stderr",
     "output_type": "stream",
     "text": [
      "Epoch:   5%|▌         | 1/20 [00:00<00:02,  8.88it/s] "
     ]
    },
    {
     "name": "stdout",
     "output_type": "stream",
     "text": [
      "Begin group  4 training\n"
     ]
    },
    {
     "name": "stderr",
     "output_type": "stream",
     "text": [
      "                                                      \r"
     ]
    },
    {
     "name": "stdout",
     "output_type": "stream",
     "text": [
      "Training groups takes 77.38501286506653s seconds\n",
      "Scheduling clients takes 3.061155319213867s seconds\n",
      "Group 0 is empty.\n",
      "Group 1, clients ['ninirific', 'bustyb73']\n",
      "Group 2, clients ['YoungA2985', 'nikhilnulkar', 'iamloz_JsPR', 'clevertitania', 'Rocks4Ever', 'LittlestarRed', 'MiraCraigFan', 'AClockworkToad', 'Trace027', 'combustiblesong', 'privatestudmuff', 'YourSavvyVA']\n",
      "Group 3, clients ['kittenspawn']\n",
      "Group 4, clients ['Froosh', 'rbuerckner', 'peytonluvsjoe', 'nere13', 'Christyxcore']\n"
     ]
    },
    {
     "name": "stderr",
     "output_type": "stream",
     "text": [
      "\r",
      "Epoch:   0%|          | 0/20 [00:00<?, ?it/s]"
     ]
    },
    {
     "name": "stdout",
     "output_type": "stream",
     "text": [
      "Group 0\n",
      "At round 31 accuracy: 0.5104529616724739\n",
      "At round 31 training accuracy: 0.5360256998623222\n",
      "At round 31 training loss: 2.868646113701416\n",
      "Group 1\n",
      "At round 31 accuracy: 0.6878824969400245\n",
      "At round 31 training accuracy: 0.7008601465434852\n",
      "At round 31 training loss: 0.8282750429628254\n",
      "Group 2\n",
      "At round 31 accuracy: 0.6729385722191478\n",
      "At round 31 training accuracy: 0.6997369959088252\n",
      "At round 31 training loss: 0.7652002483125164\n",
      "Group 3\n",
      "At round 31 accuracy: 0.8235294117647058\n",
      "At round 31 training accuracy: 0.8442982456140351\n",
      "At round 31 training loss: 0.9939364431979413\n",
      "Group 4\n",
      "At round 31 accuracy: 0.6138888888888889\n",
      "At round 31 training accuracy: 0.6301118650284248\n",
      "At round 31 training loss: 0.6837523174563527\n",
      "At round 31 mean test accuracy: 0.6417910447761194 mean train accuracy: 0.6628299485363289 mean train loss: 1.0109845689919932                     number of test client: 442\n",
      "The client-group discrepancy are: [32.48784971  0.         20.219241   36.29405971 39.26875667 26.9042078 ]\n",
      "Begin group  1 training\n"
     ]
    },
    {
     "name": "stderr",
     "output_type": "stream",
     "text": [
      "Epoch:   5%|▌         | 1/20 [00:00<00:02,  8.09it/s] "
     ]
    },
    {
     "name": "stdout",
     "output_type": "stream",
     "text": [
      "Begin group  2 training\n"
     ]
    },
    {
     "name": "stderr",
     "output_type": "stream",
     "text": [
      "Epoch:   5%|▌         | 1/20 [00:00<00:02,  7.23it/s] "
     ]
    },
    {
     "name": "stdout",
     "output_type": "stream",
     "text": [
      "Begin group  3 training\n"
     ]
    },
    {
     "name": "stderr",
     "output_type": "stream",
     "text": [
      "Epoch:   5%|▌         | 1/20 [00:00<00:02,  9.44it/s] "
     ]
    },
    {
     "name": "stdout",
     "output_type": "stream",
     "text": [
      "Begin group  4 training\n"
     ]
    },
    {
     "name": "stderr",
     "output_type": "stream",
     "text": [
      "                                                      \r"
     ]
    },
    {
     "name": "stdout",
     "output_type": "stream",
     "text": [
      "Training groups takes 60.426637411117554s seconds\n",
      "Scheduling clients takes 2.9443275928497314s seconds\n",
      "Group 0 is empty.\n",
      "Group 1 is empty.\n",
      "Group 2, clients ['Commsguy', 'alltimeASIAN', 'MaschaD']\n",
      "Group 3, clients ['chinatheblack', 'Paiige__', 'WallTweet']\n",
      "Group 4, clients ['michxxblc', 'CannonGod', 'xoxmillyxox', 'BlueEyedGirl18', 'harisn', 'angel9293', 'kayasmith', 'Sazchik', 'rbuerckner', 'nikhilnulkar', 'Tisyonk', 'shawnlimtianjun', 'kyoisorange', 'SandyCalico']\n"
     ]
    },
    {
     "name": "stderr",
     "output_type": "stream",
     "text": [
      "Epoch:   5%|▌         | 1/20 [00:00<00:02,  9.03it/s]"
     ]
    },
    {
     "name": "stdout",
     "output_type": "stream",
     "text": [
      "Group 0\n",
      "At round 32 accuracy: 0.5150442477876106\n",
      "At round 32 training accuracy: 0.5380307979468035\n",
      "At round 32 training loss: 2.8665974992562204\n",
      "Group 1\n",
      "At round 32 accuracy: 0.8170266836086404\n",
      "At round 32 training accuracy: 0.8213695004961958\n",
      "At round 32 training loss: 0.5487673139044651\n",
      "Group 2\n",
      "At round 32 accuracy: 0.6692307692307692\n",
      "At round 32 training accuracy: 0.700449470784399\n",
      "At round 32 training loss: 0.8658816242406632\n",
      "Group 3\n",
      "At round 32 accuracy: 0.8082191780821918\n",
      "At round 32 training accuracy: 0.85\n",
      "At round 32 training loss: 0.47441326504174086\n",
      "Group 4\n",
      "At round 32 accuracy: 0.5444726810673444\n",
      "At round 32 training accuracy: 0.5056160938809723\n",
      "At round 32 training loss: 0.9078273630451976\n",
      "At round 32 mean test accuracy: 0.6392068683565004 mean train accuracy: 0.6433720680008608 mean train loss: 1.046637036917103                     number of test client: 454\n",
      "The client-group discrepancy are: [35.84617341  0.          0.         39.27941188 38.18810786 34.60863635]\n",
      "Begin group  2 training\n"
     ]
    },
    {
     "name": "stderr",
     "output_type": "stream",
     "text": [
      "Epoch:   5%|▌         | 1/20 [00:00<00:02,  6.77it/s] "
     ]
    },
    {
     "name": "stdout",
     "output_type": "stream",
     "text": [
      "Begin group  3 training\n"
     ]
    },
    {
     "name": "stderr",
     "output_type": "stream",
     "text": [
      "Epoch:   0%|          | 0/20 [00:00<?, ?it/s]         "
     ]
    },
    {
     "name": "stdout",
     "output_type": "stream",
     "text": [
      "Begin group  4 training\n"
     ]
    },
    {
     "name": "stderr",
     "output_type": "stream",
     "text": [
      "                                                      \r"
     ]
    },
    {
     "name": "stdout",
     "output_type": "stream",
     "text": [
      "Training groups takes 68.8485324382782s seconds\n",
      "Scheduling clients takes 3.0227878093719482s seconds\n",
      "Group 0 is empty.\n",
      "Group 1 is empty.\n",
      "Group 2, clients ['mixmasterfestus', 'Minerveca', 'holidaycarclub', 'Wendywitwoo', 'LadyProducHer', 'imnangl', 'shellrawlins']\n",
      "Group 3, clients ['I_enigma', 'JBnVFCLover786', 'mariaeduardab', 'LiluYvett']\n",
      "Group 4, clients ['valenbfm', 'Lizloz', 'RealWorldCara', 'kateblogs', 'TaylaMe3', 'VIBEAUTY', 'queenbmakeup', 'McDayDreamer', 'pawsthejaws']\n"
     ]
    },
    {
     "name": "stderr",
     "output_type": "stream",
     "text": [
      "Epoch:   5%|▌         | 1/20 [00:00<00:02,  9.07it/s]"
     ]
    },
    {
     "name": "stdout",
     "output_type": "stream",
     "text": [
      "Group 0\n",
      "At round 33 accuracy: 0.5150442477876106\n",
      "At round 33 training accuracy: 0.5380307979468035\n",
      "At round 33 training loss: 2.8665974992562204\n",
      "Group 1\n",
      "At round 33 accuracy: 0.8184176394293126\n",
      "At round 33 training accuracy: 0.8204522443469456\n",
      "At round 33 training loss: 0.5522090395822319\n",
      "Group 2\n",
      "At round 33 accuracy: 0.6769815418023887\n",
      "At round 33 training accuracy: 0.7041809851088202\n",
      "At round 33 training loss: 1.4717417390974024\n",
      "Group 3\n",
      "At round 33 accuracy: 0.7981220657276995\n",
      "At round 33 training accuracy: 0.8351648351648352\n",
      "At round 33 training loss: 0.5415997935074662\n",
      "Group 4\n",
      "At round 33 accuracy: 0.5572472594397077\n",
      "At round 33 training accuracy: 0.5473819466752329\n",
      "At round 33 training loss: 0.9962800741004209\n",
      "At round 33 mean test accuracy: 0.6465328829723823 mean train accuracy: 0.6581656650117585 mean train loss: 1.2910566032545767                     number of test client: 464\n",
      "The client-group discrepancy are: [32.28254527  0.          0.         28.84040574 38.31535727 32.27851512]\n",
      "Begin group  2 training\n"
     ]
    },
    {
     "name": "stderr",
     "output_type": "stream",
     "text": [
      "Epoch:   0%|          | 0/20 [00:00<?, ?it/s]         "
     ]
    },
    {
     "name": "stdout",
     "output_type": "stream",
     "text": [
      "Begin group  3 training\n"
     ]
    },
    {
     "name": "stderr",
     "output_type": "stream",
     "text": [
      "Epoch:   5%|▌         | 1/20 [00:00<00:02,  8.75it/s] "
     ]
    },
    {
     "name": "stdout",
     "output_type": "stream",
     "text": [
      "Begin group  4 training\n"
     ]
    },
    {
     "name": "stderr",
     "output_type": "stream",
     "text": [
      "                                                      \r"
     ]
    },
    {
     "name": "stdout",
     "output_type": "stream",
     "text": [
      "Training groups takes 73.63191676139832s seconds\n",
      "Scheduling clients takes 3.0414679050445557s seconds\n",
      "Group 0 is empty.\n",
      "Group 1 is empty.\n",
      "Group 2, clients ['amieewhitney', 'DaPrbmChild', 'OHMYDAYSitsHayz']\n",
      "Group 3, clients ['purplepleather', 'photokitty', 'andie_12']\n",
      "Group 4, clients ['gschan', 'Keels_90', 'winniedepoohi', 'koltregaskes', 'katjrobertson', 'MAGGIECHICKEN', 'SpiderxBear', 'aprilyim', 'VioletsCRUK', 'xPurplexMuffinx', 'writesfortea', 'vesula', '_writersblock_', 'sheonpoint']\n"
     ]
    },
    {
     "name": "stderr",
     "output_type": "stream",
     "text": [
      "\r",
      "Epoch:   0%|          | 0/20 [00:00<?, ?it/s]"
     ]
    },
    {
     "name": "stdout",
     "output_type": "stream",
     "text": [
      "Group 0\n",
      "At round 34 accuracy: 0.515370705244123\n",
      "At round 34 training accuracy: 0.5383881735813066\n",
      "At round 34 training loss: 2.862217183807336\n",
      "Group 1\n",
      "At round 34 accuracy: 0.8201058201058201\n",
      "At round 34 training accuracy: 0.8216867469879519\n",
      "At round 34 training loss: 0.551407392696027\n",
      "Group 2\n",
      "At round 34 accuracy: 0.6803503010399562\n",
      "At round 34 training accuracy: 0.7099942229924899\n",
      "At round 34 training loss: 1.0805804147235842\n",
      "Group 3\n",
      "At round 34 accuracy: 0.7755102040816326\n",
      "At round 34 training accuracy: 0.8176033934252386\n",
      "At round 34 training loss: 0.49335853030168364\n",
      "Group 4\n",
      "At round 34 accuracy: 0.6010044642857143\n",
      "At round 34 training accuracy: 0.6128416103438142\n",
      "At round 34 training loss: 0.7239555614925713\n",
      "At round 34 mean test accuracy: 0.6601585153682583 mean train accuracy: 0.6797458703939009 mean train loss: 1.040829750819058                     number of test client: 473\n",
      "The client-group discrepancy are: [32.86737197  0.          0.         39.16591263 38.35204626 30.34239734]\n",
      "Begin group  2 training\n"
     ]
    },
    {
     "name": "stderr",
     "output_type": "stream",
     "text": [
      "Epoch:   0%|          | 0/20 [00:00<?, ?it/s]         "
     ]
    },
    {
     "name": "stdout",
     "output_type": "stream",
     "text": [
      "Begin group  3 training\n"
     ]
    },
    {
     "name": "stderr",
     "output_type": "stream",
     "text": [
      "Epoch:   5%|▌         | 1/20 [00:00<00:02,  7.31it/s] "
     ]
    },
    {
     "name": "stdout",
     "output_type": "stream",
     "text": [
      "Begin group  4 training\n"
     ]
    },
    {
     "name": "stderr",
     "output_type": "stream",
     "text": [
      "                                                      \r"
     ]
    },
    {
     "name": "stdout",
     "output_type": "stream",
     "text": [
      "Training groups takes 76.049800157547s seconds\n",
      "Scheduling clients takes 3.090660572052002s seconds\n",
      "Group 0, clients ['gabbydario']\n",
      "Group 1 is empty.\n",
      "Group 2, clients ['markdavidson', 'SusanCosmos', 'Mrs_NickJ07', 'shellrawlins', 'tweetles']\n",
      "Group 3, clients ['kat_n', 'dannisaywhat', 'magicswebpage', 'suebrody1']\n",
      "Group 4, clients ['sharonhayes', 'Trace027', 'crazymitchell', 'redLIGHTjoli', 'steph_davies', 'kalpik', 'DubarryMcfly', 'sheonpoint', 'sarahlay', 'tynie626']\n"
     ]
    },
    {
     "name": "stderr",
     "output_type": "stream",
     "text": [
      "Epoch:   5%|▌         | 1/20 [00:00<00:02,  9.28it/s]"
     ]
    },
    {
     "name": "stdout",
     "output_type": "stream",
     "text": [
      "Group 0\n",
      "At round 35 accuracy: 0.5160714285714286\n",
      "At round 35 training accuracy: 0.5421176470588235\n",
      "At round 35 training loss: 2.833020471479319\n",
      "Group 1\n",
      "At round 35 accuracy: 0.8371428571428572\n",
      "At round 35 training accuracy: 0.833519137866964\n",
      "At round 35 training loss: 0.4965988510739597\n",
      "Group 2\n",
      "At round 35 accuracy: 0.6860912589334799\n",
      "At round 35 training accuracy: 0.7271540469973891\n",
      "At round 35 training loss: 1.6956055138007258\n",
      "Group 3\n",
      "At round 35 accuracy: 0.7567567567567568\n",
      "At round 35 training accuracy: 0.7984224364592463\n",
      "At round 35 training loss: 0.7029737390865107\n",
      "Group 4\n",
      "At round 35 accuracy: 0.5819540843566471\n",
      "At round 35 training accuracy: 0.5931393223674961\n",
      "At round 35 training loss: 1.2151567778489467\n",
      "At round 35 mean test accuracy: 0.6549161585365854 mean train accuracy: 0.6781206171107994 mean train loss: 1.4271450420463359                     number of test client: 480\n",
      "The client-group discrepancy are: [31.32184465 38.94280356  0.         31.98987876 38.24017937 27.45839781]\n",
      "Begin group  0 training\n"
     ]
    },
    {
     "name": "stderr",
     "output_type": "stream",
     "text": [
      "Epoch:   0%|          | 0/20 [00:00<?, ?it/s]         "
     ]
    },
    {
     "name": "stdout",
     "output_type": "stream",
     "text": [
      "Begin group  2 training\n"
     ]
    },
    {
     "name": "stderr",
     "output_type": "stream",
     "text": [
      "Epoch:   0%|          | 0/20 [00:00<?, ?it/s]         "
     ]
    },
    {
     "name": "stdout",
     "output_type": "stream",
     "text": [
      "Begin group  3 training\n"
     ]
    },
    {
     "name": "stderr",
     "output_type": "stream",
     "text": [
      "Epoch:   0%|          | 0/20 [00:00<?, ?it/s]         "
     ]
    },
    {
     "name": "stdout",
     "output_type": "stream",
     "text": [
      "Begin group  4 training\n"
     ]
    },
    {
     "name": "stderr",
     "output_type": "stream",
     "text": [
      "                                                      \r"
     ]
    },
    {
     "name": "stdout",
     "output_type": "stream",
     "text": [
      "Training groups takes 77.70124530792236s seconds\n",
      "Scheduling clients takes 3.041365385055542s seconds\n",
      "Group 0, clients ['MissDibbs']\n",
      "Group 1, clients ['JenWojcik', 'treewatcher21', 'Kat77']\n",
      "Group 2, clients ['TinchenFFM', 'twliciousness', 'tweeteradder1']\n",
      "Group 3, clients ['guilty_', 'Nikkers', '_strokemyEGO', 'EmAllTimeLow', 'evil_cackle', 'TeeQ2']\n",
      "Group 4, clients ['koltregaskes', 'jj38girl', 'crazymitchell', 'gracieh89', 'exortabreedoll', 'minorityx', 'bacieabbracci']\n"
     ]
    },
    {
     "name": "stderr",
     "output_type": "stream",
     "text": [
      "\r",
      "Epoch:   0%|          | 0/20 [00:00<?, ?it/s]"
     ]
    },
    {
     "name": "stdout",
     "output_type": "stream",
     "text": [
      "Group 0\n",
      "At round 36 accuracy: 0.37857142857142856\n",
      "At round 36 training accuracy: 0.40498588899341487\n",
      "At round 36 training loss: 2.7252033509301796\n",
      "Group 1\n",
      "At round 36 accuracy: 0.8208744710860366\n",
      "At round 36 training accuracy: 0.8264067671938212\n",
      "At round 36 training loss: 0.4996411156506319\n",
      "Group 2\n",
      "At round 36 accuracy: 0.6981029810298103\n",
      "At round 36 training accuracy: 0.723674810687241\n",
      "At round 36 training loss: 2.113528904721283\n",
      "Group 3\n",
      "At round 36 accuracy: 0.7397660818713451\n",
      "At round 36 training accuracy: 0.7893536121673004\n",
      "At round 36 training loss: 0.5328554485234017\n",
      "Group 4\n",
      "At round 36 accuracy: 0.6303317535545023\n",
      "At round 36 training accuracy: 0.6480299667036626\n",
      "At round 36 training loss: 0.7707799018363776\n",
      "At round 36 mean test accuracy: 0.6595704948646125 mean train accuracy: 0.6815927726223794 mean train loss: 1.3846605670408392                     number of test client: 492\n",
      "The client-group discrepancy are: [34.18189319 39.20882639 39.01973804 39.43875646 38.37989237 25.53917137]\n",
      "Begin group  0 training\n"
     ]
    },
    {
     "name": "stderr",
     "output_type": "stream",
     "text": [
      "Epoch:   5%|▌         | 1/20 [00:00<00:03,  5.56it/s] "
     ]
    },
    {
     "name": "stdout",
     "output_type": "stream",
     "text": [
      "Begin group  1 training\n"
     ]
    },
    {
     "name": "stderr",
     "output_type": "stream",
     "text": [
      "Epoch:   0%|          | 0/20 [00:00<?, ?it/s]         "
     ]
    },
    {
     "name": "stdout",
     "output_type": "stream",
     "text": [
      "Begin group  2 training\n"
     ]
    },
    {
     "name": "stderr",
     "output_type": "stream",
     "text": [
      "Epoch:   5%|▌         | 1/20 [00:00<00:02,  8.34it/s] "
     ]
    },
    {
     "name": "stdout",
     "output_type": "stream",
     "text": [
      "Begin group  3 training\n"
     ]
    },
    {
     "name": "stderr",
     "output_type": "stream",
     "text": [
      "Epoch:   5%|▌         | 1/20 [00:00<00:03,  5.90it/s] "
     ]
    },
    {
     "name": "stdout",
     "output_type": "stream",
     "text": [
      "Begin group  4 training\n"
     ]
    },
    {
     "name": "stderr",
     "output_type": "stream",
     "text": [
      "                                                      \r"
     ]
    },
    {
     "name": "stdout",
     "output_type": "stream",
     "text": [
      "Training groups takes 61.79524278640747s seconds\n",
      "Scheduling clients takes 3.16135573387146s seconds\n",
      "Group 0 is empty.\n",
      "Group 1, clients ['MarilynM', 'AClockworkToad', 'paul_steele', '18percentgrey']\n",
      "Group 2, clients ['tweeteradder1', 'OHMYDAYSitsHayz', 'hypnoticyogi', 'shellrawlins', 'DaPrbmChild']\n",
      "Group 3, clients ['CannonGod', 'teachernz', 'socilover', 'suebrody1', 'lawschoolninja', 'Avril4everr', 'eysies', 'christian792']\n",
      "Group 4, clients ['magicswebpage', 'Arasphere', 'makeupbylinvia']\n"
     ]
    },
    {
     "name": "stderr",
     "output_type": "stream",
     "text": [
      "Epoch:   5%|▌         | 1/20 [00:00<00:02,  9.34it/s]"
     ]
    },
    {
     "name": "stdout",
     "output_type": "stream",
     "text": [
      "Group 0\n",
      "At round 37 accuracy: 0.3074141048824593\n",
      "At round 37 training accuracy: 0.32983794089609153\n",
      "At round 37 training loss: 2.1913028437541255\n",
      "Group 1\n",
      "At round 37 accuracy: 0.8900804289544236\n",
      "At round 37 training accuracy: 0.8952148096402375\n",
      "At round 37 training loss: 0.3644362142301272\n",
      "Group 2\n",
      "At round 37 accuracy: 0.696329254727475\n",
      "At round 37 training accuracy: 0.7195247176177204\n",
      "At round 37 training loss: 2.332473100627199\n",
      "Group 3\n",
      "At round 37 accuracy: 0.7161125319693095\n",
      "At round 37 training accuracy: 0.7428571428571429\n",
      "At round 37 training loss: 0.5644785533117693\n",
      "Group 4\n",
      "At round 37 accuracy: 0.6331763474620618\n",
      "At round 37 training accuracy: 0.6479591836734694\n",
      "At round 37 training loss: 0.9595731586111033\n",
      "At round 37 mean test accuracy: 0.6623448786812373 mean train accuracy: 0.6806428049671293 mean train loss: 1.4292460746771152                     number of test client: 497\n",
      "The client-group discrepancy are: [28.41523424  0.         31.13031304  9.21786358 34.54424626 40.44671489]\n",
      "Begin group  1 training\n"
     ]
    },
    {
     "name": "stderr",
     "output_type": "stream",
     "text": [
      "Epoch:   0%|          | 0/20 [00:00<?, ?it/s]         "
     ]
    },
    {
     "name": "stdout",
     "output_type": "stream",
     "text": [
      "Begin group  2 training\n"
     ]
    },
    {
     "name": "stderr",
     "output_type": "stream",
     "text": [
      "Epoch:   5%|▌         | 1/20 [00:00<00:02,  6.97it/s] "
     ]
    },
    {
     "name": "stdout",
     "output_type": "stream",
     "text": [
      "Begin group  3 training\n"
     ]
    },
    {
     "name": "stderr",
     "output_type": "stream",
     "text": [
      "Epoch:   5%|▌         | 1/20 [00:00<00:02,  8.76it/s] "
     ]
    },
    {
     "name": "stdout",
     "output_type": "stream",
     "text": [
      "Begin group  4 training\n"
     ]
    },
    {
     "name": "stderr",
     "output_type": "stream",
     "text": [
      "                                                      \r"
     ]
    },
    {
     "name": "stdout",
     "output_type": "stream",
     "text": [
      "Training groups takes 68.44640111923218s seconds\n",
      "Scheduling clients takes 3.204005479812622s seconds\n",
      "Group 0, clients ['evil_cackle']\n",
      "Group 1 is empty.\n",
      "Group 2, clients ['frankparker', 'HelloLizzi', 'LadyProducHer', 'AussieGal999']\n",
      "Group 3, clients ['iLadySyncere', 'MichaelMcNeill', 'Mixaelala', 'DirtyRose17', 'BrandyWandLover', 'Deejaywilliams', 'LisaHopeCyrus']\n",
      "Group 4, clients ['4evaurgirl', 'webmaster_paul', 'elenarr', 'katementon', 'michxxblc', 'wolfchild59', 'Christiegarcia', 'taylormcfly']\n"
     ]
    },
    {
     "name": "stderr",
     "output_type": "stream",
     "text": [
      "Epoch:   5%|▌         | 1/20 [00:00<00:02,  8.96it/s]"
     ]
    },
    {
     "name": "stdout",
     "output_type": "stream",
     "text": [
      "Group 0\n",
      "At round 38 accuracy: 0.32169117647058826\n",
      "At round 38 training accuracy: 0.3435077519379845\n",
      "At round 38 training loss: 2.149433228945316\n",
      "Group 1\n",
      "At round 38 accuracy: 0.8063186813186813\n",
      "At round 38 training accuracy: 0.8185397279885469\n",
      "At round 38 training loss: 0.4969085655958474\n",
      "Group 2\n",
      "At round 38 accuracy: 0.7024008933556672\n",
      "At round 38 training accuracy: 0.7262430126507796\n",
      "At round 38 training loss: 1.158610860953894\n",
      "Group 3\n",
      "At round 38 accuracy: 0.5089285714285714\n",
      "At round 38 training accuracy: 0.589639115250291\n",
      "At round 38 training loss: 0.6712876059227689\n",
      "Group 4\n",
      "At round 38 accuracy: 0.610683102208526\n",
      "At round 38 training accuracy: 0.6439209314920119\n",
      "At round 38 training loss: 0.8154261796585176\n",
      "At round 38 mean test accuracy: 0.6297178453646024 mean train accuracy: 0.660019267822736 mean train loss: 1.0056377273369765                     number of test client: 503\n",
      "The client-group discrepancy are: [34.54731023 39.90279601  0.         22.23774032 39.09158662 36.05641763]\n",
      "Begin group  0 training\n"
     ]
    },
    {
     "name": "stderr",
     "output_type": "stream",
     "text": [
      "Epoch:   0%|          | 0/20 [00:00<?, ?it/s]         "
     ]
    },
    {
     "name": "stdout",
     "output_type": "stream",
     "text": [
      "Begin group  2 training\n"
     ]
    },
    {
     "name": "stderr",
     "output_type": "stream",
     "text": [
      "Epoch:   5%|▌         | 1/20 [00:00<00:02,  8.47it/s] "
     ]
    },
    {
     "name": "stdout",
     "output_type": "stream",
     "text": [
      "Begin group  3 training\n"
     ]
    },
    {
     "name": "stderr",
     "output_type": "stream",
     "text": [
      "Epoch:   5%|▌         | 1/20 [00:00<00:02,  7.16it/s] "
     ]
    },
    {
     "name": "stdout",
     "output_type": "stream",
     "text": [
      "Begin group  4 training\n"
     ]
    },
    {
     "name": "stderr",
     "output_type": "stream",
     "text": [
      "                                                      \r"
     ]
    },
    {
     "name": "stdout",
     "output_type": "stream",
     "text": [
      "Training groups takes 71.7497341632843s seconds\n",
      "Scheduling clients takes 3.1161837577819824s seconds\n",
      "Group 0, clients ['b1ng0bang0', 'JBnVFCLover786', 'hannah106', 'nicolalalalala']\n",
      "Group 1, clients ['smuttysteff', '_Alectrona_', 'letteapplejuice', 'combustiblesong']\n",
      "Group 2, clients ['RabbiShaiSpecht']\n",
      "Group 3, clients ['taluta', 'jenjeahaly', 'ImmaChocoholic', 'amalinaaa', 'Dot12b', 'unitechy', 'IdolFanatic', 'paluawahine', 'jj38girl', 'Bowl_the_Bunny', 'smilin808hapa']\n",
      "Group 4 is empty.\n"
     ]
    },
    {
     "name": "stderr",
     "output_type": "stream",
     "text": [
      "Epoch:   5%|▌         | 1/20 [00:00<00:02,  9.21it/s]"
     ]
    },
    {
     "name": "stdout",
     "output_type": "stream",
     "text": [
      "Group 0\n",
      "At round 39 accuracy: 0.3524451939291737\n",
      "At round 39 training accuracy: 0.3747779751332149\n",
      "At round 39 training loss: 1.0494465094264829\n",
      "Group 1\n",
      "At round 39 accuracy: 0.8111702127659575\n",
      "At round 39 training accuracy: 0.8184967093869068\n",
      "At round 39 training loss: 0.5022936057516157\n",
      "Group 2\n",
      "At round 39 accuracy: 0.7076659038901602\n",
      "At round 39 training accuracy: 0.7310417608925072\n",
      "At round 39 training loss: 1.6972302844813436\n",
      "Group 3\n",
      "At round 39 accuracy: 0.5326923076923077\n",
      "At round 39 training accuracy: 0.5502008032128514\n",
      "At round 39 training loss: 0.6898460941441567\n",
      "Group 4\n",
      "At round 39 accuracy: 0.6431924882629108\n",
      "At round 39 training accuracy: 0.6630913091309131\n",
      "At round 39 training loss: 1.20238957496112\n",
      "At round 39 mean test accuracy: 0.6448462929475588 mean train accuracy: 0.6642897889332573 mean train loss: 1.1974307883937312                     number of test client: 510\n",
      "The client-group discrepancy are: [36.09830759 31.57303163 31.8036116  39.37754641 39.00745751  0.        ]\n",
      "Begin group  0 training\n"
     ]
    },
    {
     "name": "stderr",
     "output_type": "stream",
     "text": [
      "Epoch:   5%|▌         | 1/20 [00:00<00:02,  6.97it/s] "
     ]
    },
    {
     "name": "stdout",
     "output_type": "stream",
     "text": [
      "Begin group  1 training\n"
     ]
    },
    {
     "name": "stderr",
     "output_type": "stream",
     "text": [
      "Epoch:   5%|▌         | 1/20 [00:00<00:03,  6.18it/s] "
     ]
    },
    {
     "name": "stdout",
     "output_type": "stream",
     "text": [
      "Begin group  2 training\n"
     ]
    },
    {
     "name": "stderr",
     "output_type": "stream",
     "text": [
      "Epoch:   0%|          | 0/20 [00:00<?, ?it/s]         "
     ]
    },
    {
     "name": "stdout",
     "output_type": "stream",
     "text": [
      "Begin group  3 training\n"
     ]
    },
    {
     "name": "stderr",
     "output_type": "stream",
     "text": [
      "                                                      \r"
     ]
    },
    {
     "name": "stdout",
     "output_type": "stream",
     "text": [
      "Training groups takes 66.67759227752686s seconds\n",
      "Scheduling clients takes 3.2137508392333984s seconds\n",
      "Group 0, clients ['heyisabelle_', 'davidbarrett1', 'meghornby', 'chelseasms', 'thatlass', 'limeice', 'krapposelli', 'elenarr', 'suddentwilight', 'JoReynolds55', 'imafanatic']\n",
      "Group 1, clients ['treewatcher21', 'aliefaulkner', 'KINGmoney']\n",
      "Group 2, clients ['frankparker']\n",
      "Group 3, clients ['xmiyix', 'guilty_', 'Deejaywilliams']\n",
      "Group 4, clients ['rbuerckner', 'lauralovesart']\n"
     ]
    },
    {
     "name": "stderr",
     "output_type": "stream",
     "text": [
      "\r",
      "Epoch:   0%|          | 0/20 [00:00<?, ?it/s]"
     ]
    },
    {
     "name": "stdout",
     "output_type": "stream",
     "text": [
      "Group 0\n",
      "At round 40 accuracy: 0.3849493487698987\n",
      "At round 40 training accuracy: 0.4047981721249048\n",
      "At round 40 training loss: 0.821945031907662\n",
      "Group 1\n",
      "At round 40 accuracy: 0.8827404479578392\n",
      "At round 40 training accuracy: 0.8904156647200275\n",
      "At round 40 training loss: 0.4169127660816214\n",
      "Group 2\n",
      "At round 40 accuracy: 0.7053990610328639\n",
      "At round 40 training accuracy: 0.730745437673987\n",
      "At round 40 training loss: 2.0566718911857333\n",
      "Group 3\n",
      "At round 40 accuracy: 0.5568181818181818\n",
      "At round 40 training accuracy: 0.5734784760019792\n",
      "At round 40 training loss: 0.8402465072260936\n",
      "Group 4\n",
      "At round 40 accuracy: 0.6436170212765957\n",
      "At round 40 training accuracy: 0.6635815453653064\n",
      "At round 40 training loss: 1.2012697789118545\n",
      "At round 40 mean test accuracy: 0.6548004314994607 mean train accuracy: 0.6745922949657291 mean train loss: 1.2732164570448803                     number of test client: 514\n",
      "The client-group discrepancy are: [26.0851561  37.12159988 16.162662    1.23479057 15.27795313  8.90444366]\n",
      "Begin group  0 training\n"
     ]
    },
    {
     "name": "stderr",
     "output_type": "stream",
     "text": [
      "Epoch:   5%|▌         | 1/20 [00:00<00:02,  9.06it/s] "
     ]
    },
    {
     "name": "stdout",
     "output_type": "stream",
     "text": [
      "Begin group  1 training\n"
     ]
    },
    {
     "name": "stderr",
     "output_type": "stream",
     "text": [
      "Epoch:   0%|          | 0/20 [00:00<?, ?it/s]         "
     ]
    },
    {
     "name": "stdout",
     "output_type": "stream",
     "text": [
      "Begin group  2 training\n"
     ]
    },
    {
     "name": "stderr",
     "output_type": "stream",
     "text": [
      "Epoch:  10%|█         | 2/20 [00:00<00:01, 11.13it/s] "
     ]
    },
    {
     "name": "stdout",
     "output_type": "stream",
     "text": [
      "Begin group  3 training\n"
     ]
    },
    {
     "name": "stderr",
     "output_type": "stream",
     "text": [
      "Epoch:   0%|          | 0/20 [00:00<?, ?it/s]         "
     ]
    },
    {
     "name": "stdout",
     "output_type": "stream",
     "text": [
      "Begin group  4 training\n"
     ]
    },
    {
     "name": "stderr",
     "output_type": "stream",
     "text": [
      "                                                      \r"
     ]
    },
    {
     "name": "stdout",
     "output_type": "stream",
     "text": [
      "Training groups takes 60.78467011451721s seconds\n",
      "Scheduling clients takes 2.994835138320923s seconds\n",
      "Group 0, clients ['shinsh0ku', 'PapiChulaa', 'suddentwilight', 'AndyCarolan', 'amalinaaa', 'hanaames', 'tifpez', 'caseysevenfold', 'ashleeadams', 'aurihunter', 'iellie', 'DeejayKnight']\n",
      "Group 1, clients ['YvetteObeney', 'amilya', 'aliefaulkner', 'megelder']\n",
      "Group 2, clients ['pensblogtweet']\n",
      "Group 3, clients ['robcthegeek', 'jun6lee']\n",
      "Group 4, clients ['JJLuver756']\n"
     ]
    },
    {
     "name": "stderr",
     "output_type": "stream",
     "text": [
      "Epoch:   5%|▌         | 1/20 [00:00<00:02,  8.29it/s]"
     ]
    },
    {
     "name": "stdout",
     "output_type": "stream",
     "text": [
      "Group 0\n",
      "At round 41 accuracy: 0.41410256410256413\n",
      "At round 41 training accuracy: 0.4246621621621622\n",
      "At round 41 training loss: 0.7209115022340337\n",
      "Group 1\n",
      "At round 41 accuracy: 0.8943298969072165\n",
      "At round 41 training accuracy: 0.9223790322580645\n",
      "At round 41 training loss: 0.3418681765788376\n",
      "Group 2\n",
      "At round 41 accuracy: 0.6995192307692307\n",
      "At round 41 training accuracy: 0.7285691649500872\n",
      "At round 41 training loss: 1.5873338718021293\n",
      "Group 3\n",
      "At round 41 accuracy: 0.4274952919020716\n",
      "At round 41 training accuracy: 0.42317133038782523\n",
      "At round 41 training loss: 2.2453804413331273\n",
      "Group 4\n",
      "At round 41 accuracy: 0.6131974248927039\n",
      "At round 41 training accuracy: 0.6338944688074692\n",
      "At round 41 training loss: 1.0903248958240086\n",
      "At round 41 mean test accuracy: 0.6324131789848619 mean train accuracy: 0.652976162600103 mean train loss: 1.1918844402486815                     number of test client: 520\n",
      "The client-group discrepancy are: [32.7056963  33.8068136  22.31999921 39.61987807 39.32496321 40.88236154]\n",
      "Begin group  0 training\n"
     ]
    },
    {
     "name": "stderr",
     "output_type": "stream",
     "text": [
      "Epoch:   0%|          | 0/20 [00:00<?, ?it/s]         "
     ]
    },
    {
     "name": "stdout",
     "output_type": "stream",
     "text": [
      "Begin group  1 training\n"
     ]
    },
    {
     "name": "stderr",
     "output_type": "stream",
     "text": [
      "Epoch:   5%|▌         | 1/20 [00:00<00:02,  6.85it/s] "
     ]
    },
    {
     "name": "stdout",
     "output_type": "stream",
     "text": [
      "Begin group  2 training\n"
     ]
    },
    {
     "name": "stderr",
     "output_type": "stream",
     "text": [
      "Epoch:   5%|▌         | 1/20 [00:00<00:02,  8.16it/s] "
     ]
    },
    {
     "name": "stdout",
     "output_type": "stream",
     "text": [
      "Begin group  3 training\n"
     ]
    },
    {
     "name": "stderr",
     "output_type": "stream",
     "text": [
      "Epoch:   5%|▌         | 1/20 [00:00<00:02,  9.43it/s] "
     ]
    },
    {
     "name": "stdout",
     "output_type": "stream",
     "text": [
      "Begin group  4 training\n"
     ]
    },
    {
     "name": "stderr",
     "output_type": "stream",
     "text": [
      "                                                      \r"
     ]
    },
    {
     "name": "stdout",
     "output_type": "stream",
     "text": [
      "Training groups takes 58.34772348403931s seconds\n",
      "Scheduling clients takes 3.0074496269226074s seconds\n",
      "Group 0, clients ['lordmuttley', 'NoTORIousTori', 'enked', 'mrhankmanthe3rd', 'DubarryMcfly', 'kittenspawn', 'bacieabbracci', 'rockbigdave', 'neondeception', 'an_other', 'MummaBear', 'sophieholly', 'peggyrossmanith', 'antzpantz', 'HayleyNqahuia']\n",
      "Group 1, clients ['carlos_teran', 'PreternaReviews']\n",
      "Group 2, clients ['brokerkathy', 'holidaycarclub']\n",
      "Group 3, clients ['SunshineBoat']\n",
      "Group 4 is empty.\n"
     ]
    },
    {
     "name": "stderr",
     "output_type": "stream",
     "text": [
      "\r",
      "Epoch:   0%|          | 0/20 [00:00<?, ?it/s]"
     ]
    },
    {
     "name": "stdout",
     "output_type": "stream",
     "text": [
      "Group 0\n",
      "At round 42 accuracy: 0.4212290502793296\n",
      "At round 42 training accuracy: 0.43358913813459266\n",
      "At round 42 training loss: 0.7093686639488518\n",
      "Group 1\n",
      "At round 42 accuracy: 0.8341836734693877\n",
      "At round 42 training accuracy: 0.8695941450432468\n",
      "At round 42 training loss: 0.3490688461481146\n",
      "Group 2\n",
      "At round 42 accuracy: 0.7152605459057072\n",
      "At round 42 training accuracy: 0.7360248447204969\n",
      "At round 42 training loss: 1.9628073454328043\n",
      "Group 3\n",
      "At round 42 accuracy: 0.5093984962406015\n",
      "At round 42 training accuracy: 0.5048923679060665\n",
      "At round 42 training loss: 1.7195579098453726\n",
      "Group 4\n",
      "At round 42 accuracy: 0.6065573770491803\n",
      "At round 42 training accuracy: 0.625324114088159\n",
      "At round 42 training loss: 1.659226319018791\n",
      "At round 42 mean test accuracy: 0.6306385989739961 mean train accuracy: 0.6493162154619034 mean train loss: 1.4184678946269527                     number of test client: 524\n",
      "The client-group discrepancy are: [33.39356243 36.01568847 22.5663664  21.95285573 38.59747734  0.        ]\n",
      "Begin group  0 training\n"
     ]
    },
    {
     "name": "stderr",
     "output_type": "stream",
     "text": [
      "Epoch:   5%|▌         | 1/20 [00:00<00:02,  6.63it/s] "
     ]
    },
    {
     "name": "stdout",
     "output_type": "stream",
     "text": [
      "Begin group  1 training\n"
     ]
    },
    {
     "name": "stderr",
     "output_type": "stream",
     "text": [
      "Epoch:   0%|          | 0/20 [00:00<?, ?it/s]         "
     ]
    },
    {
     "name": "stdout",
     "output_type": "stream",
     "text": [
      "Begin group  2 training\n"
     ]
    },
    {
     "name": "stderr",
     "output_type": "stream",
     "text": [
      "Epoch:   5%|▌         | 1/20 [00:00<00:02,  7.16it/s] "
     ]
    },
    {
     "name": "stdout",
     "output_type": "stream",
     "text": [
      "Begin group  3 training\n"
     ]
    },
    {
     "name": "stderr",
     "output_type": "stream",
     "text": [
      "                                                      \r"
     ]
    },
    {
     "name": "stdout",
     "output_type": "stream",
     "text": [
      "Training groups takes 56.88330626487732s seconds\n",
      "Scheduling clients takes 3.0074892044067383s seconds\n",
      "Group 0, clients ['paulpuddifoot', 'jamisloan', 'gazebow', 'DanielJUK', 'esmeg', 'NatalieGolding', 'ambienteer', 'christian792', 'danni82', 'smuttysteff', 'iamcheerbear', 'lucysavagex', 'megelder', 'kamiNcali', 'unitechy', 'Monicarrrr', 'HOTTVampChick']\n",
      "Group 1 is empty.\n",
      "Group 2, clients ['sheryonstone']\n",
      "Group 3, clients ['majastevanovich']\n",
      "Group 4, clients ['McDayDreamer']\n"
     ]
    },
    {
     "name": "stderr",
     "output_type": "stream",
     "text": [
      "\r",
      "Epoch:   0%|          | 0/20 [00:00<?, ?it/s]"
     ]
    },
    {
     "name": "stdout",
     "output_type": "stream",
     "text": [
      "Group 0\n",
      "At round 43 accuracy: 0.5935114503816794\n",
      "At round 43 training accuracy: 0.5624056366381479\n",
      "At round 43 training loss: 0.6859330115122716\n",
      "Group 1\n",
      "At round 43 accuracy: 0.8488063660477454\n",
      "At round 43 training accuracy: 0.8729664243682935\n",
      "At round 43 training loss: 0.4769407135979896\n",
      "Group 2\n",
      "At round 43 accuracy: 0.7194426852438252\n",
      "At round 43 training accuracy: 0.7393554850559358\n",
      "At round 43 training loss: 2.0817500836966096\n",
      "Group 3\n",
      "At round 43 accuracy: 0.5219047619047619\n",
      "At round 43 training accuracy: 0.5133928571428571\n",
      "At round 43 training loss: 3.085457619112276\n",
      "Group 4\n",
      "At round 43 accuracy: 0.6055555555555555\n",
      "At round 43 training accuracy: 0.6253475779306308\n",
      "At round 43 training loss: 1.6553403896913554\n",
      "At round 43 mean test accuracy: 0.6593059936908517 mean train accuracy: 0.6678494078613889 mean train loss: 1.5714761625494094                     number of test client: 530\n",
      "The client-group discrepancy are: [38.14307933 39.88663796  0.         39.6919302  38.67693458  6.41987645]\n",
      "Begin group  0 training\n"
     ]
    },
    {
     "name": "stderr",
     "output_type": "stream",
     "text": [
      "Epoch:   0%|          | 0/20 [00:00<?, ?it/s]         "
     ]
    },
    {
     "name": "stdout",
     "output_type": "stream",
     "text": [
      "Begin group  2 training\n"
     ]
    },
    {
     "name": "stderr",
     "output_type": "stream",
     "text": [
      "Epoch:   5%|▌         | 1/20 [00:00<00:02,  8.68it/s] "
     ]
    },
    {
     "name": "stdout",
     "output_type": "stream",
     "text": [
      "Begin group  3 training\n"
     ]
    },
    {
     "name": "stderr",
     "output_type": "stream",
     "text": [
      "Epoch:   5%|▌         | 1/20 [00:00<00:02,  8.38it/s] "
     ]
    },
    {
     "name": "stdout",
     "output_type": "stream",
     "text": [
      "Begin group  4 training\n"
     ]
    },
    {
     "name": "stderr",
     "output_type": "stream",
     "text": [
      "                                                      \r"
     ]
    },
    {
     "name": "stdout",
     "output_type": "stream",
     "text": [
      "Training groups takes 57.431002140045166s seconds\n",
      "Scheduling clients takes 3.1486217975616455s seconds\n",
      "Group 0, clients ['dollforlife', 'haselhurst', 'writesfortea', 'Japh', 'peggyrossmanith', 'Rawrrgasmic', 'ScottRhodie', 'EricaLeigh777', 'rockbigdave', 'harisn', 'aLeKnight', 'SarahMorrison', 'eysies', '_xbianca', 'JBnVFCLover786', '4evaurgirl', 'happylovesChuck']\n",
      "Group 1 is empty.\n",
      "Group 2 is empty.\n",
      "Group 3, clients ['jun6lee']\n",
      "Group 4, clients ['RGM77', 'Morrica']\n"
     ]
    },
    {
     "name": "stderr",
     "output_type": "stream",
     "text": [
      "Epoch:   5%|▌         | 1/20 [00:00<00:01,  9.76it/s]"
     ]
    },
    {
     "name": "stdout",
     "output_type": "stream",
     "text": [
      "Group 0\n",
      "At round 44 accuracy: 0.5878889823380993\n",
      "At round 44 training accuracy: 0.5590969455511288\n",
      "At round 44 training loss: 0.6896514380041505\n",
      "Group 1\n",
      "At round 44 accuracy: 0.8474114441416893\n",
      "At round 44 training accuracy: 0.871220206332266\n",
      "At round 44 training loss: 0.4802980938333619\n",
      "Group 2\n",
      "At round 44 accuracy: 0.7116486314449395\n",
      "At round 44 training accuracy: 0.7309951334116462\n",
      "At round 44 training loss: 1.0626491599847998\n",
      "Group 3\n",
      "At round 44 accuracy: 0.416988416988417\n",
      "At round 44 training accuracy: 0.39436619718309857\n",
      "At round 44 training loss: 3.3115554521597805\n",
      "Group 4\n",
      "At round 44 accuracy: 0.5609893198426082\n",
      "At round 44 training accuracy: 0.5247891075921267\n",
      "At round 44 training loss: 1.2761873233304215\n",
      "At round 44 mean test accuracy: 0.6308064237610085 mean train accuracy: 0.6200245086915082 mean train loss: 1.1802686636252464                     number of test client: 536\n",
      "The client-group discrepancy are: [30.79614844 31.25401193  0.          0.          2.53977306 41.03249641]\n",
      "Begin group  0 training\n"
     ]
    },
    {
     "name": "stderr",
     "output_type": "stream",
     "text": [
      "Epoch:   5%|▌         | 1/20 [00:00<00:02,  6.64it/s] "
     ]
    },
    {
     "name": "stdout",
     "output_type": "stream",
     "text": [
      "Begin group  3 training\n"
     ]
    },
    {
     "name": "stderr",
     "output_type": "stream",
     "text": [
      "Epoch:   0%|          | 0/20 [00:00<?, ?it/s]         "
     ]
    },
    {
     "name": "stdout",
     "output_type": "stream",
     "text": [
      "Begin group  4 training\n"
     ]
    },
    {
     "name": "stderr",
     "output_type": "stream",
     "text": [
      "                                                      \r"
     ]
    },
    {
     "name": "stdout",
     "output_type": "stream",
     "text": [
      "Training groups takes 69.54504013061523s seconds\n",
      "Scheduling clients takes 3.1375889778137207s seconds\n",
      "Group 0, clients ['NatalieGolding', 'aprilyim', 'Aussie_MateLC', 'kateblogs', 'thatlass', 'aurihunter', 'torilovesbradie', 'NikFreeman', 'Nikkers', 'lauzmur', 'alwaysloveu_Ci', 'LexiStarGirl']\n",
      "Group 1 is empty.\n",
      "Group 2, clients ['hypnoticyogi']\n",
      "Group 3, clients ['stevegarufi', 'Whatever_Ista', 'OHMYDAYSitsHayz', 'ddaly9']\n",
      "Group 4, clients ['youngnik718', 'SunshineBoat', 'Daddys_pet']\n"
     ]
    },
    {
     "name": "stderr",
     "output_type": "stream",
     "text": [
      "\r",
      "Epoch:   0%|          | 0/20 [00:00<?, ?it/s]"
     ]
    },
    {
     "name": "stdout",
     "output_type": "stream",
     "text": [
      "Group 0\n",
      "At round 45 accuracy: 0.5027322404371585\n",
      "At round 45 training accuracy: 0.5057494866529774\n",
      "At round 45 training loss: 0.731068076490132\n",
      "Group 1\n",
      "At round 45 accuracy: 0.8482758620689655\n",
      "At round 45 training accuracy: 0.8735590778097982\n",
      "At round 45 training loss: 0.46575804940382587\n",
      "Group 2\n",
      "At round 45 accuracy: 0.7108667529107374\n",
      "At round 45 training accuracy: 0.7314246762099523\n",
      "At round 45 training loss: 1.0611106282509242\n",
      "Group 3\n",
      "At round 45 accuracy: 0.44101633393829404\n",
      "At round 45 training accuracy: 0.41540642722117205\n",
      "At round 45 training loss: 1.6581414486290376\n",
      "Group 4\n",
      "At round 45 accuracy: 0.5426966292134832\n",
      "At round 45 training accuracy: 0.5084319526627219\n",
      "At round 45 training loss: 1.6126515951757072\n",
      "At round 45 mean test accuracy: 0.606323304436512 mean train accuracy: 0.6027690933452434 mean train loss: 1.1384544498845561                     number of test client: 542\n",
      "The client-group discrepancy are: [30.80949197 27.72963658  0.          3.42176895 39.32804478 40.90008409]\n",
      "Begin group  0 training\n"
     ]
    },
    {
     "name": "stderr",
     "output_type": "stream",
     "text": [
      "Epoch:   5%|▌         | 1/20 [00:00<00:02,  8.16it/s] "
     ]
    },
    {
     "name": "stdout",
     "output_type": "stream",
     "text": [
      "Begin group  2 training\n"
     ]
    },
    {
     "name": "stderr",
     "output_type": "stream",
     "text": [
      "Epoch:   0%|          | 0/20 [00:00<?, ?it/s]         "
     ]
    },
    {
     "name": "stdout",
     "output_type": "stream",
     "text": [
      "Begin group  3 training\n"
     ]
    },
    {
     "name": "stderr",
     "output_type": "stream",
     "text": [
      "Epoch:   5%|▌         | 1/20 [00:00<00:02,  8.93it/s] "
     ]
    },
    {
     "name": "stdout",
     "output_type": "stream",
     "text": [
      "Begin group  4 training\n"
     ]
    },
    {
     "name": "stderr",
     "output_type": "stream",
     "text": [
      "                                                      \r"
     ]
    },
    {
     "name": "stdout",
     "output_type": "stream",
     "text": [
      "Training groups takes 68.05958151817322s seconds\n",
      "Scheduling clients takes 2.9626996517181396s seconds\n",
      "Group 0, clients ['christyspanties', 'RealWorldCara', 'BearNoiz', 'SexyBeach', 'MisterRo', 'Cherye101', 'wonderpetunia', 'kayasmith', 'EmAllTimeLow', 'hollyhalvorsen', 'Mum_of_Six', '4evaurgirl', 'paulpuddifoot']\n",
      "Group 1, clients ['traciknoppe']\n",
      "Group 2 is empty.\n",
      "Group 3 is empty.\n",
      "Group 4, clients ['tamaryn', 'ialejandro', 'Upstatemomof3', 'mini_ritz', 'RandomShelly', 'sweetcherrypop']\n"
     ]
    },
    {
     "name": "stderr",
     "output_type": "stream",
     "text": [
      "\r",
      "Epoch:   0%|          | 0/20 [00:00<?, ?it/s]"
     ]
    },
    {
     "name": "stdout",
     "output_type": "stream",
     "text": [
      "Group 0\n",
      "At round 46 accuracy: 0.4842027920646583\n",
      "At round 46 training accuracy: 0.4712599187149216\n",
      "At round 46 training loss: 1.0248778393484532\n",
      "Group 1\n",
      "At round 46 accuracy: 0.8485675306957708\n",
      "At round 46 training accuracy: 0.8739316239316239\n",
      "At round 46 training loss: 0.4642974469922496\n",
      "Group 2\n",
      "At round 46 accuracy: 0.714769647696477\n",
      "At round 46 training accuracy: 0.7400535236396075\n",
      "At round 46 training loss: 1.7383966978745602\n",
      "Group 3\n",
      "At round 46 accuracy: 0.4540441176470588\n",
      "At round 46 training accuracy: 0.44731800766283525\n",
      "At round 46 training loss: 3.11130606472114\n",
      "Group 4\n",
      "At round 46 accuracy: 0.5660585959093422\n",
      "At round 46 training accuracy: 0.5433896330809551\n",
      "At round 46 training loss: 1.9481917285687471\n",
      "At round 46 mean test accuracy: 0.6089819348303225 mean train accuracy: 0.6080493432729854 mean train loss: 1.6071881599930111                     number of test client: 547\n",
      "The client-group discrepancy are: [35.12316008 34.14821291 39.54071388  0.          0.         36.49928667]\n",
      "Begin group  0 training\n"
     ]
    },
    {
     "name": "stderr",
     "output_type": "stream",
     "text": [
      "Epoch:   5%|▌         | 1/20 [00:00<00:02,  6.99it/s] "
     ]
    },
    {
     "name": "stdout",
     "output_type": "stream",
     "text": [
      "Begin group  1 training\n"
     ]
    },
    {
     "name": "stderr",
     "output_type": "stream",
     "text": [
      "Epoch:   5%|▌         | 1/20 [00:00<00:02,  8.02it/s] "
     ]
    },
    {
     "name": "stdout",
     "output_type": "stream",
     "text": [
      "Begin group  4 training\n"
     ]
    },
    {
     "name": "stderr",
     "output_type": "stream",
     "text": [
      "                                                      \r"
     ]
    },
    {
     "name": "stdout",
     "output_type": "stream",
     "text": [
      "Training groups takes 57.51811122894287s seconds\n",
      "Scheduling clients takes 3.0070645809173584s seconds\n",
      "Group 0, clients ['katherinemarsh', 'LiluYvett', 'jamisloan', 'suebrody1']\n",
      "Group 1 is empty.\n",
      "Group 2, clients ['Jinxie_G', 'Mrs_NickJ07']\n",
      "Group 3, clients ['robcthegeek']\n",
      "Group 4, clients ['txcranberry', 'ambienteer', 'sabrinaxx', 'angel9293', 'GinaLaGuardia', 'feblub', 'ATsLady', 'Jenivere', 'xmiyix', 'DarianMarie43', 'vulcansmuse', 'steffy213', 'neszlifeasmcrmy']\n"
     ]
    },
    {
     "name": "stderr",
     "output_type": "stream",
     "text": [
      "Epoch:   5%|▌         | 1/20 [00:00<00:02,  8.47it/s]"
     ]
    },
    {
     "name": "stdout",
     "output_type": "stream",
     "text": [
      "Group 0\n",
      "At round 47 accuracy: 0.5108853410740203\n",
      "At round 47 training accuracy: 0.505446206764762\n",
      "At round 47 training loss: 1.5330298264088604\n",
      "Group 1\n",
      "At round 47 accuracy: 0.7486187845303868\n",
      "At round 47 training accuracy: 0.7765765765765765\n",
      "At round 47 training loss: 0.5601474596619572\n",
      "Group 2\n",
      "At round 47 accuracy: 0.7138945927446955\n",
      "At round 47 training accuracy: 0.7413016044708851\n",
      "At round 47 training loss: 1.7293309670791788\n",
      "Group 3\n",
      "At round 47 accuracy: 0.453125\n",
      "At round 47 training accuracy: 0.4507113821138211\n",
      "At round 47 training loss: 3.1056219012631723\n",
      "Group 4\n",
      "At round 47 accuracy: 0.5588390501319261\n",
      "At round 47 training accuracy: 0.5306548032809676\n",
      "At round 47 training loss: 1.0332750916215852\n",
      "At round 47 mean test accuracy: 0.5996649916247906 mean train accuracy: 0.599401303046311 mean train loss: 1.4401111459881883                     number of test client: 550\n",
      "The client-group discrepancy are: [29.2625222  30.91238694  0.         21.78557403  5.34864359 31.74470035]\n",
      "Begin group  0 training\n"
     ]
    },
    {
     "name": "stderr",
     "output_type": "stream",
     "text": [
      "Epoch:   0%|          | 0/20 [00:00<?, ?it/s]         "
     ]
    },
    {
     "name": "stdout",
     "output_type": "stream",
     "text": [
      "Begin group  2 training\n"
     ]
    },
    {
     "name": "stderr",
     "output_type": "stream",
     "text": [
      "Epoch:   5%|▌         | 1/20 [00:00<00:02,  9.05it/s] "
     ]
    },
    {
     "name": "stdout",
     "output_type": "stream",
     "text": [
      "Begin group  3 training\n"
     ]
    },
    {
     "name": "stderr",
     "output_type": "stream",
     "text": [
      "Epoch:   5%|▌         | 1/20 [00:00<00:02,  6.70it/s] "
     ]
    },
    {
     "name": "stdout",
     "output_type": "stream",
     "text": [
      "Begin group  4 training\n"
     ]
    },
    {
     "name": "stderr",
     "output_type": "stream",
     "text": [
      "                                                      \r"
     ]
    },
    {
     "name": "stdout",
     "output_type": "stream",
     "text": [
      "Training groups takes 59.03607201576233s seconds\n",
      "Scheduling clients takes 3.0014607906341553s seconds\n",
      "Group 0, clients ['PinkTribble', 'schaeferj89', 'jerryfetus', 'HayleyNqahuia', 'IanRobinson', 'AllTheSausages', 'Sims_Galore', 'issie07']\n",
      "Group 1 is empty.\n",
      "Group 2, clients ['mandiebear']\n",
      "Group 3 is empty.\n",
      "Group 4, clients ['KnightRid', 'paluawahine', 'dyeleepong', 'IdolFanatic', 'AmyStar92', 'SandyCalico', 'ganeshaxi', 'lordmuttley', 'majastevanovich', 'ddaly9', 'YourSavvyVA']\n"
     ]
    },
    {
     "name": "stderr",
     "output_type": "stream",
     "text": [
      "\r",
      "Epoch:   0%|          | 0/20 [00:00<?, ?it/s]"
     ]
    },
    {
     "name": "stdout",
     "output_type": "stream",
     "text": [
      "Group 0\n",
      "At round 48 accuracy: 0.5079805690492714\n",
      "At round 48 training accuracy: 0.5112287748767573\n",
      "At round 48 training loss: 0.9212839338293862\n",
      "Group 1\n",
      "At round 48 accuracy: 0.7478991596638656\n",
      "At round 48 training accuracy: 0.773474607234198\n",
      "At round 48 training loss: 0.5669820793605096\n",
      "Group 2\n",
      "At round 48 accuracy: 0.71398891966759\n",
      "At round 48 training accuracy: 0.7435757244395844\n",
      "At round 48 training loss: 1.9881853861996721\n",
      "Group 3\n",
      "At round 48 accuracy: 0.4303534303534304\n",
      "At round 48 training accuracy: 0.41914548404542995\n",
      "At round 48 training loss: 3.553881318852398\n",
      "Group 4\n",
      "At round 48 accuracy: 0.6479670612454966\n",
      "At round 48 training accuracy: 0.6383123049789716\n",
      "At round 48 training loss: 1.091697058543763\n",
      "At round 48 mean test accuracy: 0.6247717084509381 mean train accuracy: 0.6316042057501854 mean train loss: 1.401548835040139                     number of test client: 555\n",
      "The client-group discrepancy are: [37.36049503 35.5133344   0.         39.87182671  0.         38.4755817 ]\n",
      "Begin group  0 training\n"
     ]
    },
    {
     "name": "stderr",
     "output_type": "stream",
     "text": [
      "Epoch:   5%|▌         | 1/20 [00:00<00:02,  6.66it/s] "
     ]
    },
    {
     "name": "stdout",
     "output_type": "stream",
     "text": [
      "Begin group  2 training\n"
     ]
    },
    {
     "name": "stderr",
     "output_type": "stream",
     "text": [
      "Epoch:   0%|          | 0/20 [00:00<?, ?it/s]         "
     ]
    },
    {
     "name": "stdout",
     "output_type": "stream",
     "text": [
      "Begin group  4 training\n"
     ]
    },
    {
     "name": "stderr",
     "output_type": "stream",
     "text": [
      "                                                      \r"
     ]
    },
    {
     "name": "stdout",
     "output_type": "stream",
     "text": [
      "Training groups takes 58.98756957054138s seconds\n",
      "Scheduling clients takes 3.092597484588623s seconds\n",
      "Group 0, clients ['Jayme1988', 'thatlass', 'kissmybleep', 'AmyAllTimeLow', 'diiilxia', 'torilovesbradie', 'ToksieOlu', 'Paiige__']\n",
      "Group 1, clients ['wahliaodotcom']\n",
      "Group 2, clients ['mixmasterfestus', 'tweeteradder3', 'authenticstyle']\n",
      "Group 3, clients ['RyanMacintosh', 'GlitzyGloss']\n",
      "Group 4, clients ['MupNorth', 'amberwhiting', 'lordmuttley', 'ninirific', 'hanaames', 'xxxSupermodel']\n"
     ]
    },
    {
     "name": "stderr",
     "output_type": "stream",
     "text": [
      "\r",
      "Epoch:   0%|          | 0/20 [00:00<?, ?it/s]"
     ]
    },
    {
     "name": "stdout",
     "output_type": "stream",
     "text": [
      "Group 0\n",
      "At round 49 accuracy: 0.5652173913043478\n",
      "At round 49 training accuracy: 0.5654658815379286\n",
      "At round 49 training loss: 0.872438687724063\n",
      "Group 1\n",
      "At round 49 accuracy: 0.7655571635311144\n",
      "At round 49 training accuracy: 0.7959183673469388\n",
      "At round 49 training loss: 0.5545095958579255\n",
      "Group 2\n",
      "At round 49 accuracy: 0.7185134205092911\n",
      "At round 49 training accuracy: 0.7480101302460203\n",
      "At round 49 training loss: 2.070702051752907\n",
      "Group 3\n",
      "At round 49 accuracy: 0.4505050505050505\n",
      "At round 49 training accuracy: 0.44438614900314793\n",
      "At round 49 training loss: 3.399220551729128\n",
      "Group 4\n",
      "At round 49 accuracy: 0.6060606060606061\n",
      "At round 49 training accuracy: 0.6012253596164092\n",
      "At round 49 training loss: 1.0655650885147527\n",
      "At round 49 mean test accuracy: 0.6279941339416653 mean train accuracy: 0.6363753103330194 mean train loss: 1.3881821492942967                     number of test client: 562\n",
      "The client-group discrepancy are: [33.08310558 30.75148464 39.3260627  28.27657556 39.02506033 35.57405408]\n",
      "Begin group  0 training\n"
     ]
    },
    {
     "name": "stderr",
     "output_type": "stream",
     "text": [
      "Epoch:   0%|          | 0/20 [00:00<?, ?it/s]         "
     ]
    },
    {
     "name": "stdout",
     "output_type": "stream",
     "text": [
      "Begin group  1 training\n"
     ]
    },
    {
     "name": "stderr",
     "output_type": "stream",
     "text": [
      "Epoch:   5%|▌         | 1/20 [00:00<00:02,  9.11it/s] "
     ]
    },
    {
     "name": "stdout",
     "output_type": "stream",
     "text": [
      "Begin group  2 training\n"
     ]
    },
    {
     "name": "stderr",
     "output_type": "stream",
     "text": [
      "Epoch:   5%|▌         | 1/20 [00:00<00:02,  7.95it/s] "
     ]
    },
    {
     "name": "stdout",
     "output_type": "stream",
     "text": [
      "Begin group  3 training\n"
     ]
    },
    {
     "name": "stderr",
     "output_type": "stream",
     "text": [
      "Epoch:   0%|          | 0/20 [00:00<?, ?it/s]         "
     ]
    },
    {
     "name": "stdout",
     "output_type": "stream",
     "text": [
      "Begin group  4 training\n"
     ]
    },
    {
     "name": "stderr",
     "output_type": "stream",
     "text": [
      "                                                      \r"
     ]
    },
    {
     "name": "stdout",
     "output_type": "stream",
     "text": [
      "Training groups takes 79.0629072189331s seconds\n",
      "Scheduling clients takes 3.054482936859131s seconds\n",
      "Group 0, clients ['xamylouise', 'Broooooke_', 'LittlestarRed', 'louiealdip', 'Tracey_Mac', 'NKAirplay']\n",
      "Group 1 is empty.\n",
      "Group 2, clients ['mandiebear']\n",
      "Group 3, clients ['scarletmandy']\n",
      "Group 4, clients ['aLeKnight', 'jesslina', 'JeniPoynter_x', 'JBnVFCLover786', 'AlexLJ', 'StephanieEllen', 'PercythePigeon', 'sapphire_dorian', 'ddaly9', 'emmao414', 'sampan22', 'Daddys_pet']\n"
     ]
    },
    {
     "name": "stderr",
     "output_type": "stream",
     "text": [
      "\r",
      "Epoch:   0%|          | 0/20 [00:00<?, ?it/s]"
     ]
    },
    {
     "name": "stdout",
     "output_type": "stream",
     "text": [
      "Group 0\n",
      "At round 50 accuracy: 0.5960912052117264\n",
      "At round 50 training accuracy: 0.5986988529361411\n",
      "At round 50 training loss: 1.0147293476871617\n",
      "Group 1\n",
      "At round 50 accuracy: 0.8872620790629575\n",
      "At round 50 training accuracy: 0.9116634799235181\n",
      "At round 50 training loss: 0.4082752061892566\n",
      "Group 2\n",
      "At round 50 accuracy: 0.7191011235955056\n",
      "At round 50 training accuracy: 0.7491688215736978\n",
      "At round 50 training loss: 2.0908163764159577\n",
      "Group 3\n",
      "At round 50 accuracy: 0.4671968190854871\n",
      "At round 50 training accuracy: 0.45801133436373004\n",
      "At round 50 training loss: 3.979769939301156\n",
      "Group 4\n",
      "At round 50 accuracy: 0.6461463887542414\n",
      "At round 50 training accuracy: 0.6456682852031689\n",
      "At round 50 training loss: 0.9313984835506582\n",
      "At round 50 mean test accuracy: 0.6625322164948454 mean train accuracy: 0.6717857596141642 mean train loss: 1.4100017612384232                     number of test client: 569\n",
      "The client-group discrepancy are: [33.48470822 35.18184245  0.          0.20708143 39.03954102 34.94637394]\n",
      "Begin group  0 training\n"
     ]
    },
    {
     "name": "stderr",
     "output_type": "stream",
     "text": [
      "Epoch:   5%|▌         | 1/20 [00:00<00:02,  7.92it/s] "
     ]
    },
    {
     "name": "stdout",
     "output_type": "stream",
     "text": [
      "Begin group  2 training\n"
     ]
    },
    {
     "name": "stderr",
     "output_type": "stream",
     "text": [
      "Epoch:   0%|          | 0/20 [00:00<?, ?it/s]         "
     ]
    },
    {
     "name": "stdout",
     "output_type": "stream",
     "text": [
      "Begin group  3 training\n"
     ]
    },
    {
     "name": "stderr",
     "output_type": "stream",
     "text": [
      "Epoch:   5%|▌         | 1/20 [00:00<00:02,  8.91it/s] "
     ]
    },
    {
     "name": "stdout",
     "output_type": "stream",
     "text": [
      "Begin group  4 training\n"
     ]
    },
    {
     "name": "stderr",
     "output_type": "stream",
     "text": [
      "                                                      \r"
     ]
    },
    {
     "name": "stdout",
     "output_type": "stream",
     "text": [
      "Training groups takes 76.48694276809692s seconds\n",
      "Scheduling clients takes 3.024637222290039s seconds\n",
      "Group 0, clients ['NoTORIousTori', 'FakerParis', 'VickiElam', 'YvetteObeney', 'paulmason10538', 'WallTweet', 'Wendywitwoo']\n",
      "Group 1 is empty.\n",
      "Group 2 is empty.\n",
      "Group 3, clients ['aarthycrazy', 'neurogirl07']\n",
      "Group 4, clients ['nic0lepaula', 'uyennguyen_', 'xxxSupermodel', 'Arhum', 'Daddys_pet', 'hannah106', 'gracieh89', 'ameym21', 'christian792', 'debbier93', 'DirtyRose17']\n"
     ]
    },
    {
     "name": "stderr",
     "output_type": "stream",
     "text": [
      "\r",
      "Epoch:   0%|          | 0/20 [00:00<?, ?it/s]"
     ]
    },
    {
     "name": "stdout",
     "output_type": "stream",
     "text": [
      "Group 0\n",
      "At round 51 accuracy: 0.5825977301387137\n",
      "At round 51 training accuracy: 0.5925496688741722\n",
      "At round 51 training loss: 1.4786774197642674\n",
      "Group 1\n",
      "At round 51 accuracy: 0.8885542168674698\n",
      "At round 51 training accuracy: 0.9125984251968504\n",
      "At round 51 training loss: 0.40018395014629665\n",
      "Group 2\n",
      "At round 51 accuracy: 0.7195994277539342\n",
      "At round 51 training accuracy: 0.7474614516735615\n",
      "At round 51 training loss: 2.1749788195296893\n",
      "Group 3\n",
      "At round 51 accuracy: 0.464\n",
      "At round 51 training accuracy: 0.4686040477426051\n",
      "At round 51 training loss: 2.7148934216842684\n",
      "Group 4\n",
      "At round 51 accuracy: 0.5878153260352214\n",
      "At round 51 training accuracy: 0.601129234629862\n",
      "At round 51 training loss: 0.9481105020159909\n",
      "At round 51 mean test accuracy: 0.6380220835333653 mean train accuracy: 0.6541710443370456 mean train loss: 1.441574134719886                     number of test client: 574\n",
      "The client-group discrepancy are: [29.25941007 35.64111134  0.          0.         39.34235327 23.36506504]\n",
      "Begin group  0 training\n"
     ]
    },
    {
     "name": "stderr",
     "output_type": "stream",
     "text": [
      "Epoch:   5%|▌         | 1/20 [00:00<00:02,  8.62it/s] "
     ]
    },
    {
     "name": "stdout",
     "output_type": "stream",
     "text": [
      "Begin group  3 training\n"
     ]
    },
    {
     "name": "stderr",
     "output_type": "stream",
     "text": [
      "Epoch:   5%|▌         | 1/20 [00:00<00:02,  6.46it/s] "
     ]
    },
    {
     "name": "stdout",
     "output_type": "stream",
     "text": [
      "Begin group  4 training\n"
     ]
    },
    {
     "name": "stderr",
     "output_type": "stream",
     "text": [
      "                                                      \r"
     ]
    },
    {
     "name": "stdout",
     "output_type": "stream",
     "text": [
      "Training groups takes 57.32580518722534s seconds\n",
      "Scheduling clients takes 3.071056842803955s seconds\n",
      "Group 0, clients ['ThomasGudgeon']\n",
      "Group 1 is empty.\n",
      "Group 2, clients ['chaosbot']\n",
      "Group 3, clients ['kayasmith', 'smilin808hapa', 'simontay78', 'UniqueGuitarist', 'JamesHancox', 'caldjr', 'steffy213', 'theanand', 'clevertitania']\n",
      "Group 4, clients ['Jodasaur', 'an_other', 'so_zwitschert', 'abcdefglynis', 'photokitty', 'JeniPoynter_x', 'TessMorris', 'xohanna', 'Tracey_Mac']\n"
     ]
    },
    {
     "name": "stderr",
     "output_type": "stream",
     "text": [
      "\r",
      "Epoch:   0%|          | 0/20 [00:00<?, ?it/s]"
     ]
    },
    {
     "name": "stdout",
     "output_type": "stream",
     "text": [
      "Group 0\n",
      "At round 52 accuracy: 0.5970625798212005\n",
      "At round 52 training accuracy: 0.6213087248322148\n",
      "At round 52 training loss: 1.1567711416256907\n",
      "Group 1\n",
      "At round 52 accuracy: 0.8865030674846626\n",
      "At round 52 training accuracy: 0.913322632423756\n",
      "At round 52 training loss: 0.3981801704648035\n",
      "Group 2\n",
      "At round 52 accuracy: 0.7225017972681524\n",
      "At round 52 training accuracy: 0.749858410420993\n",
      "At round 52 training loss: 2.152505630926237\n",
      "Group 3\n",
      "At round 52 accuracy: 0.5253940455341506\n",
      "At round 52 training accuracy: 0.5131698455949137\n",
      "At round 52 training loss: 1.6392069115903192\n",
      "Group 4\n",
      "At round 52 accuracy: 0.6244822825586747\n",
      "At round 52 training accuracy: 0.6492781754215698\n",
      "At round 52 training loss: 0.9616171194340554\n",
      "At round 52 mean test accuracy: 0.6571698410199905 mean train accuracy: 0.6792179879308919 mean train loss: 1.27405914072582                     number of test client: 581\n",
      "The client-group discrepancy are: [35.63578814 41.13595035  0.         39.98298981 36.31105054 33.86637419]\n",
      "Begin group  0 training\n"
     ]
    },
    {
     "name": "stderr",
     "output_type": "stream",
     "text": [
      "Epoch:   0%|          | 0/20 [00:00<?, ?it/s]         "
     ]
    },
    {
     "name": "stdout",
     "output_type": "stream",
     "text": [
      "Begin group  2 training\n"
     ]
    },
    {
     "name": "stderr",
     "output_type": "stream",
     "text": [
      "Epoch:   5%|▌         | 1/20 [00:00<00:02,  7.67it/s] "
     ]
    },
    {
     "name": "stdout",
     "output_type": "stream",
     "text": [
      "Begin group  3 training\n"
     ]
    },
    {
     "name": "stderr",
     "output_type": "stream",
     "text": [
      "Epoch:   5%|▌         | 1/20 [00:00<00:02,  8.48it/s] "
     ]
    },
    {
     "name": "stdout",
     "output_type": "stream",
     "text": [
      "Begin group  4 training\n"
     ]
    },
    {
     "name": "stderr",
     "output_type": "stream",
     "text": [
      "                                                      \r"
     ]
    },
    {
     "name": "stdout",
     "output_type": "stream",
     "text": [
      "Training groups takes 70.60333728790283s seconds\n",
      "Scheduling clients takes 2.882885217666626s seconds\n",
      "Group 0, clients ['Jenivere', 'iLadySyncere', 'crucifire', 'alyb_', 'Frassington', 'velofille', 'ponor', 'iamgaberosales', 'SammiiSTACK', 'johnhood', 'christinawrites', 'Buildabear96']\n",
      "Group 1 is empty.\n",
      "Group 2, clients ['macmuso', 'Mrs_NickJ07', 'imnangl']\n",
      "Group 3, clients ['scarletmandy']\n",
      "Group 4, clients ['sapphire_dorian', 'exortabreedoll', 'jaronmc', 'eysies']\n"
     ]
    },
    {
     "name": "stderr",
     "output_type": "stream",
     "text": [
      "\r",
      "Epoch:   0%|          | 0/20 [00:00<?, ?it/s]"
     ]
    },
    {
     "name": "stdout",
     "output_type": "stream",
     "text": [
      "Group 0\n",
      "At round 53 accuracy: 0.5807050092764379\n",
      "At round 53 training accuracy: 0.5687774702913886\n",
      "At round 53 training loss: 0.93097864463986\n",
      "Group 1\n",
      "At round 53 accuracy: 0.8865030674846626\n",
      "At round 53 training accuracy: 0.913322632423756\n",
      "At round 53 training loss: 0.3981801704648035\n",
      "Group 2\n",
      "At round 53 accuracy: 0.7238372093023255\n",
      "At round 53 training accuracy: 0.7523845860358642\n",
      "At round 53 training loss: 2.264519901290003\n",
      "Group 3\n",
      "At round 53 accuracy: 0.5230496453900709\n",
      "At round 53 training accuracy: 0.5209195402298851\n",
      "At round 53 training loss: 2.006426969456604\n",
      "Group 4\n",
      "At round 53 accuracy: 0.6455754241173773\n",
      "At round 53 training accuracy: 0.6749244712990936\n",
      "At round 53 training loss: 0.8770655226995577\n",
      "At round 53 mean test accuracy: 0.6597809076682316 mean train accuracy: 0.6754634767953303 mean train loss: 1.241565995819053                     number of test client: 585\n",
      "The client-group discrepancy are: [25.71298004 30.85309327  0.         14.93633178  2.13769678 24.26894736]\n",
      "Begin group  0 training\n"
     ]
    },
    {
     "name": "stderr",
     "output_type": "stream",
     "text": [
      "Epoch:   5%|▌         | 1/20 [00:00<00:03,  5.76it/s] "
     ]
    },
    {
     "name": "stdout",
     "output_type": "stream",
     "text": [
      "Begin group  2 training\n"
     ]
    },
    {
     "name": "stderr",
     "output_type": "stream",
     "text": [
      "Epoch:   0%|          | 0/20 [00:00<?, ?it/s]         "
     ]
    },
    {
     "name": "stdout",
     "output_type": "stream",
     "text": [
      "Begin group  3 training\n"
     ]
    },
    {
     "name": "stderr",
     "output_type": "stream",
     "text": [
      "Epoch:   5%|▌         | 1/20 [00:00<00:02,  6.87it/s] "
     ]
    },
    {
     "name": "stdout",
     "output_type": "stream",
     "text": [
      "Begin group  4 training\n"
     ]
    },
    {
     "name": "stderr",
     "output_type": "stream",
     "text": [
      "                                                      \r"
     ]
    },
    {
     "name": "stdout",
     "output_type": "stream",
     "text": [
      "Training groups takes 58.150169134140015s seconds\n",
      "Scheduling clients takes 3.0383591651916504s seconds\n",
      "Group 0, clients ['amalinaaa', 'ItsMariahxOxO', 'christyspanties', 'queenbmakeup', 'AmyStar92', 'Kat77', 'ninirific', 'marianaguidil', 'Matalatine', 'robertholiday', 'Jenivere', 'krapposelli', 'mariaeduardab', 'christian792', 'NOTICEmeDAVID']\n",
      "Group 1 is empty.\n",
      "Group 2, clients ['purplehayz', 'isisproject']\n",
      "Group 3, clients ['Sheamus', 'RyanMacintosh']\n",
      "Group 4, clients ['redoranda']\n"
     ]
    },
    {
     "name": "stderr",
     "output_type": "stream",
     "text": [
      "\r",
      "Epoch:   0%|          | 0/20 [00:00<?, ?it/s]"
     ]
    },
    {
     "name": "stdout",
     "output_type": "stream",
     "text": [
      "Group 0\n",
      "At round 54 accuracy: 0.5819241982507288\n",
      "At round 54 training accuracy: 0.5705954573357889\n",
      "At round 54 training loss: 0.7614505041809152\n",
      "Group 1\n",
      "At round 54 accuracy: 0.8888888888888888\n",
      "At round 54 training accuracy: 0.9120696806304438\n",
      "At round 54 training loss: 0.40262681281797946\n",
      "Group 2\n",
      "At round 54 accuracy: 0.7262773722627737\n",
      "At round 54 training accuracy: 0.7557939092127944\n",
      "At round 54 training loss: 2.3051668541794537\n",
      "Group 3\n",
      "At round 54 accuracy: 0.5469026548672566\n",
      "At round 54 training accuracy: 0.5555045871559633\n",
      "At round 54 training loss: 2.7674722524455944\n",
      "Group 4\n",
      "At round 54 accuracy: 0.6287843502561714\n",
      "At round 54 training accuracy: 0.6642909805849103\n",
      "At round 54 training loss: 1.0585074431848163\n",
      "At round 54 mean test accuracy: 0.6553601991597946 mean train accuracy: 0.6735878361808224 mean train loss: 1.3330680928466996                     number of test client: 589\n",
      "The client-group discrepancy are: [30.69533795 30.07219829  0.         39.76239012 21.03470621 41.22959197]\n",
      "Begin group  0 training\n"
     ]
    },
    {
     "name": "stderr",
     "output_type": "stream",
     "text": [
      "Epoch:   5%|▌         | 1/20 [00:00<00:02,  9.27it/s] "
     ]
    },
    {
     "name": "stdout",
     "output_type": "stream",
     "text": [
      "Begin group  2 training\n"
     ]
    },
    {
     "name": "stderr",
     "output_type": "stream",
     "text": [
      "Epoch:   5%|▌         | 1/20 [00:00<00:03,  5.79it/s] "
     ]
    },
    {
     "name": "stdout",
     "output_type": "stream",
     "text": [
      "Begin group  3 training\n"
     ]
    },
    {
     "name": "stderr",
     "output_type": "stream",
     "text": [
      "Epoch:   5%|▌         | 1/20 [00:00<00:02,  8.57it/s] "
     ]
    },
    {
     "name": "stdout",
     "output_type": "stream",
     "text": [
      "Begin group  4 training\n"
     ]
    },
    {
     "name": "stderr",
     "output_type": "stream",
     "text": [
      "                                                      \r"
     ]
    },
    {
     "name": "stdout",
     "output_type": "stream",
     "text": [
      "Training groups takes 60.33010959625244s seconds\n",
      "Scheduling clients takes 3.147063970565796s seconds\n",
      "Group 0, clients ['PaulHarriott', 'limeice', 'Extremo', 'valenbfm', 'megspeaks', 'minette95', 'christyspanties', 'AshyJonas', 'randomblonde', 'andrewpycroft', 'mrhankmanthe3rd', '__DalekCaan__', 'sicknastyalison', 'xoxmillyxox', 'happylovesChuck', 'mizsedz', 'Nikie_D', 'caseysevenfold']\n",
      "Group 1, clients ['wahliaodotcom']\n",
      "Group 2, clients ['tweeteradder9']\n",
      "Group 3 is empty.\n",
      "Group 4 is empty.\n"
     ]
    },
    {
     "name": "stderr",
     "output_type": "stream",
     "text": [
      "\r",
      "Epoch:   0%|          | 0/20 [00:00<?, ?it/s]"
     ]
    },
    {
     "name": "stdout",
     "output_type": "stream",
     "text": [
      "Group 0\n",
      "At round 55 accuracy: 0.5865070729053319\n",
      "At round 55 training accuracy: 0.5704265674205554\n",
      "At round 55 training loss: 0.7374388672477565\n",
      "Group 1\n",
      "At round 55 accuracy: 0.8888888888888888\n",
      "At round 55 training accuracy: 0.9120696806304438\n",
      "At round 55 training loss: 0.40262681281797946\n",
      "Group 2\n",
      "At round 55 accuracy: 0.7286245353159851\n",
      "At round 55 training accuracy: 0.7623878267655092\n",
      "At round 55 training loss: 2.2787238845910665\n",
      "Group 3\n",
      "At round 55 accuracy: 0.6141592920353982\n",
      "At round 55 training accuracy: 0.615137614678899\n",
      "At round 55 training loss: 1.445761864611862\n",
      "Group 4\n",
      "At round 55 accuracy: 0.5203057811753464\n",
      "At round 55 training accuracy: 0.5379475542107918\n",
      "At round 55 training loss: 1.9927181141517691\n",
      "At round 55 mean test accuracy: 0.6264874053469325 mean train accuracy: 0.6373046478587375 mean train loss: 1.4922354678715841                     number of test client: 593\n",
      "The client-group discrepancy are: [28.57184533 29.55092452  0.         39.52026524  0.          0.        ]\n",
      "Begin group  0 training\n"
     ]
    },
    {
     "name": "stderr",
     "output_type": "stream",
     "text": [
      "Epoch:   0%|          | 0/20 [00:00<?, ?it/s]         "
     ]
    },
    {
     "name": "stdout",
     "output_type": "stream",
     "text": [
      "Begin group  1 training\n"
     ]
    },
    {
     "name": "stderr",
     "output_type": "stream",
     "text": [
      "Epoch:   0%|          | 0/20 [00:00<?, ?it/s]         "
     ]
    },
    {
     "name": "stdout",
     "output_type": "stream",
     "text": [
      "Begin group  2 training\n"
     ]
    },
    {
     "name": "stderr",
     "output_type": "stream",
     "text": [
      "                                                      \r"
     ]
    },
    {
     "name": "stdout",
     "output_type": "stream",
     "text": [
      "Training groups takes 72.26293182373047s seconds\n",
      "Scheduling clients takes 3.1040210723876953s seconds\n",
      "Group 0, clients ['Bopsicle', 'vulcansmuse', 'bacieabbracci', 'Jenniewrenbird', 'erin82883', 'gracieh89', 'Jill88', 'x0me880x', 'sophieholly', 'ganeshaxi', 'lauralovesart', 'sarahroters', 'wisdompathart', 'mattdavey2', 'louiealdip']\n",
      "Group 1 is empty.\n",
      "Group 2, clients ['pensblogtweet']\n",
      "Group 3, clients ['PS1968']\n",
      "Group 4, clients ['LiluYvett', 'SarahMorrison', 'SexyBeach']\n"
     ]
    },
    {
     "name": "stderr",
     "output_type": "stream",
     "text": [
      "\r",
      "Epoch:   0%|          | 0/20 [00:00<?, ?it/s]"
     ]
    },
    {
     "name": "stdout",
     "output_type": "stream",
     "text": [
      "Group 0\n",
      "At round 56 accuracy: 0.5994736842105263\n",
      "At round 56 training accuracy: 0.5803410508803549\n",
      "At round 56 training loss: 0.6855257668781757\n",
      "Group 1\n",
      "At round 56 accuracy: 0.8922829581993569\n",
      "At round 56 training accuracy: 0.9118387909319899\n",
      "At round 56 training loss: 0.4439890350207293\n",
      "Group 2\n",
      "At round 56 accuracy: 0.7342922028766087\n",
      "At round 56 training accuracy: 0.7647993643226063\n",
      "At round 56 training loss: 2.2949114267496578\n",
      "Group 3\n",
      "At round 56 accuracy: 0.6118881118881119\n",
      "At round 56 training accuracy: 0.6169537624660019\n",
      "At round 56 training loss: 1.4344890857704746\n",
      "Group 4\n",
      "At round 56 accuracy: 0.5264677574590952\n",
      "At round 56 training accuracy: 0.543343063840589\n",
      "At round 56 training loss: 1.9672331691974083\n",
      "At round 56 mean test accuracy: 0.6326813491452333 mean train accuracy: 0.6413368940681395 mean train loss: 1.4655327516179282                     number of test client: 596\n",
      "The client-group discrepancy are: [32.91886077 32.57956944  0.          2.06421576 39.24830968 42.79038276]\n",
      "Begin group  0 training\n"
     ]
    },
    {
     "name": "stderr",
     "output_type": "stream",
     "text": [
      "Epoch:   5%|▌         | 1/20 [00:00<00:02,  7.04it/s] "
     ]
    },
    {
     "name": "stdout",
     "output_type": "stream",
     "text": [
      "Begin group  2 training\n"
     ]
    },
    {
     "name": "stderr",
     "output_type": "stream",
     "text": [
      "Epoch:   5%|▌         | 1/20 [00:00<00:02,  9.07it/s] "
     ]
    },
    {
     "name": "stdout",
     "output_type": "stream",
     "text": [
      "Begin group  3 training\n"
     ]
    },
    {
     "name": "stderr",
     "output_type": "stream",
     "text": [
      "Epoch:   5%|▌         | 1/20 [00:00<00:02,  8.81it/s] "
     ]
    },
    {
     "name": "stdout",
     "output_type": "stream",
     "text": [
      "Begin group  4 training\n"
     ]
    },
    {
     "name": "stderr",
     "output_type": "stream",
     "text": [
      "                                                      \r"
     ]
    },
    {
     "name": "stdout",
     "output_type": "stream",
     "text": [
      "Training groups takes 58.7502646446228s seconds\n",
      "Scheduling clients takes 3.0425984859466553s seconds\n",
      "Group 0, clients ['xoCAZZA', '_writersblock_', 'kristikubota', 'iamloz_JsPR', 'eatlikeagirl', 'webwoke', 'DeejayKnight', 'ganeshaxi', 'rorambenjimouse', 'holyschmoke', 'caseysevenfold', 'xmellyssax', 'StephanieEllen', 'Katie1989', 'Paiige__', 'YvetteObeney', 'MrTHill']\n",
      "Group 1, clients ['AussieGal999']\n",
      "Group 2, clients ['tweeteradder16']\n",
      "Group 3, clients ['ddaly9']\n",
      "Group 4 is empty.\n"
     ]
    },
    {
     "name": "stderr",
     "output_type": "stream",
     "text": [
      "\r",
      "Epoch:   0%|          | 0/20 [00:00<?, ?it/s]"
     ]
    },
    {
     "name": "stdout",
     "output_type": "stream",
     "text": [
      "Group 0\n",
      "At round 57 accuracy: 0.5723180076628352\n",
      "At round 57 training accuracy: 0.5722201234101498\n",
      "At round 57 training loss: 0.7170059924778462\n",
      "Group 1\n",
      "At round 57 accuracy: 0.8943217665615142\n",
      "At round 57 training accuracy: 0.913509060955519\n",
      "At round 57 training loss: 0.43589292301111837\n",
      "Group 2\n",
      "At round 57 accuracy: 0.743549648162627\n",
      "At round 57 training accuracy: 0.7663589743589744\n",
      "At round 57 training loss: 1.514295640705637\n",
      "Group 3\n",
      "At round 57 accuracy: 0.540587219343696\n",
      "At round 57 training accuracy: 0.5420769919427036\n",
      "At round 57 training loss: 1.97741684867461\n",
      "Group 4\n",
      "At round 57 accuracy: 0.4745158002038736\n",
      "At round 57 training accuracy: 0.5053241676775846\n",
      "At round 57 training loss: 2.6742579239143294\n",
      "At round 57 mean test accuracy: 0.6048608988077041 mean train accuracy: 0.6208780174318191 mean train loss: 1.5420393071147946                     number of test client: 601\n",
      "The client-group discrepancy are: [32.02659528 30.45880559 40.81763569 39.61414489 42.30042989  0.        ]\n",
      "Begin group  0 training\n"
     ]
    },
    {
     "name": "stderr",
     "output_type": "stream",
     "text": [
      "Epoch:   5%|▌         | 1/20 [00:00<00:03,  5.43it/s] "
     ]
    },
    {
     "name": "stdout",
     "output_type": "stream",
     "text": [
      "Begin group  1 training\n"
     ]
    },
    {
     "name": "stderr",
     "output_type": "stream",
     "text": [
      "Epoch:   5%|▌         | 1/20 [00:00<00:02,  6.98it/s] "
     ]
    },
    {
     "name": "stdout",
     "output_type": "stream",
     "text": [
      "Begin group  2 training\n"
     ]
    },
    {
     "name": "stderr",
     "output_type": "stream",
     "text": [
      "Epoch:   5%|▌         | 1/20 [00:00<00:02,  9.23it/s] "
     ]
    },
    {
     "name": "stdout",
     "output_type": "stream",
     "text": [
      "Begin group  3 training\n"
     ]
    },
    {
     "name": "stderr",
     "output_type": "stream",
     "text": [
      "                                                      \r"
     ]
    },
    {
     "name": "stdout",
     "output_type": "stream",
     "text": [
      "Training groups takes 83.79762554168701s seconds\n",
      "Scheduling clients takes 3.111212968826294s seconds\n",
      "Group 0, clients ['hanaames', 'RockstarAtHeart', 'tan1337', 'kwells2416', 'Dot12b', '_xbianca', 'Jenivere', 'chyeahitsalicia', 'Jamjar84', 'LauraLxox', 'limeice', 'Spidersamm']\n",
      "Group 1, clients ['aliefaulkner']\n",
      "Group 2, clients ['mini_ritz', 'markdavidson', 'privatestudmuff', 'brampitoyo']\n",
      "Group 3, clients ['combustiblesong', 'skribe', 'DaPrbmChild']\n",
      "Group 4 is empty.\n"
     ]
    },
    {
     "name": "stderr",
     "output_type": "stream",
     "text": [
      "Epoch:   5%|▌         | 1/20 [00:00<00:02,  9.37it/s]"
     ]
    },
    {
     "name": "stdout",
     "output_type": "stream",
     "text": [
      "Group 0\n",
      "At round 58 accuracy: 0.4659090909090909\n",
      "At round 58 training accuracy: 0.4846457163340901\n",
      "At round 58 training loss: 0.8910861972633521\n",
      "Group 1\n",
      "At round 58 accuracy: 0.8778501628664495\n",
      "At round 58 training accuracy: 0.8988525286867828\n",
      "At round 58 training loss: 0.4457325138650554\n",
      "Group 2\n",
      "At round 58 accuracy: 0.7437694704049844\n",
      "At round 58 training accuracy: 0.7689795918367347\n",
      "At round 58 training loss: 1.535951792945658\n",
      "Group 3\n",
      "At round 58 accuracy: 0.5544217687074829\n",
      "At round 58 training accuracy: 0.5711759504862953\n",
      "At round 58 training loss: 2.6545460058868615\n",
      "Group 4\n",
      "At round 58 accuracy: 0.4774260508562532\n",
      "At round 58 training accuracy: 0.5086443468715697\n",
      "At round 58 training loss: 2.657931933794927\n",
      "At round 58 mean test accuracy: 0.5693331317102677 mean train accuracy: 0.5934371523915462 mean train loss: 1.6450049171408192                     number of test client: 606\n",
      "The client-group discrepancy are: [30.16614851 32.05413962  4.76629464 23.33779883 40.18526827  0.        ]\n",
      "Begin group  0 training\n"
     ]
    },
    {
     "name": "stderr",
     "output_type": "stream",
     "text": [
      "Epoch:   5%|▌         | 1/20 [00:00<00:02,  8.58it/s] "
     ]
    },
    {
     "name": "stdout",
     "output_type": "stream",
     "text": [
      "Begin group  1 training\n"
     ]
    },
    {
     "name": "stderr",
     "output_type": "stream",
     "text": [
      "Epoch:   0%|          | 0/20 [00:00<?, ?it/s]         "
     ]
    },
    {
     "name": "stdout",
     "output_type": "stream",
     "text": [
      "Begin group  2 training\n"
     ]
    },
    {
     "name": "stderr",
     "output_type": "stream",
     "text": [
      "Epoch:   5%|▌         | 1/20 [00:00<00:02,  8.18it/s] "
     ]
    },
    {
     "name": "stdout",
     "output_type": "stream",
     "text": [
      "Begin group  3 training\n"
     ]
    },
    {
     "name": "stderr",
     "output_type": "stream",
     "text": [
      "                                                      \r"
     ]
    },
    {
     "name": "stdout",
     "output_type": "stream",
     "text": [
      "Training groups takes 72.41055059432983s seconds\n",
      "Scheduling clients takes 3.09499192237854s seconds\n",
      "Group 0, clients ['PinkTribble', 'Monicarrrr', 'pageoneresults', 'meghornby', 'LisaHopeCyrus', 'StephanieEllen', 'pimpyouriphone', 'Impala_Guy', 'hanaames', 'VickiElam', 'ATsLady', 'xXMCR_LadyXx', 'itsJohno', 'bexiclepop']\n",
      "Group 1, clients ['chaosbot']\n",
      "Group 2, clients ['ialejandro', 'JenWojcik', 'megelder']\n",
      "Group 3 is empty.\n",
      "Group 4, clients ['LauRenxExCarter', 'suewaters']\n"
     ]
    },
    {
     "name": "stderr",
     "output_type": "stream",
     "text": [
      "Epoch:   5%|▌         | 1/20 [00:00<00:01,  9.57it/s]"
     ]
    },
    {
     "name": "stdout",
     "output_type": "stream",
     "text": [
      "Group 0\n",
      "At round 59 accuracy: 0.5316511730854361\n",
      "At round 59 training accuracy: 0.5376018626309662\n",
      "At round 59 training loss: 0.8351812157697533\n",
      "Group 1\n",
      "At round 59 accuracy: 0.8741935483870967\n",
      "At round 59 training accuracy: 0.9036195286195287\n",
      "At round 59 training loss: 0.47155161253801825\n",
      "Group 2\n",
      "At round 59 accuracy: 0.7372549019607844\n",
      "At round 59 training accuracy: 0.7731386260798025\n",
      "At round 59 training loss: 1.0104514030051612\n",
      "Group 3\n",
      "At round 59 accuracy: 0.5611015490533563\n",
      "At round 59 training accuracy: 0.5603217158176944\n",
      "At round 59 training loss: 2.6861757108004527\n",
      "Group 4\n",
      "At round 59 accuracy: 0.4827405857740586\n",
      "At round 59 training accuracy: 0.5141000829416643\n",
      "At round 59 training loss: 2.6280124058685876\n",
      "At round 59 mean test accuracy: 0.5915450579208665 mean train accuracy: 0.6125296442687747 mean train loss: 1.5110723707940072                     number of test client: 610\n",
      "The client-group discrepancy are: [29.42367642 24.32315173 41.01237036 41.39561378  0.         41.37509625]\n",
      "Begin group  0 training\n"
     ]
    },
    {
     "name": "stderr",
     "output_type": "stream",
     "text": [
      "Epoch:   0%|          | 0/20 [00:00<?, ?it/s]         "
     ]
    },
    {
     "name": "stdout",
     "output_type": "stream",
     "text": [
      "Begin group  1 training\n"
     ]
    },
    {
     "name": "stderr",
     "output_type": "stream",
     "text": [
      "Epoch:   5%|▌         | 1/20 [00:00<00:02,  8.98it/s] "
     ]
    },
    {
     "name": "stdout",
     "output_type": "stream",
     "text": [
      "Begin group  2 training\n"
     ]
    },
    {
     "name": "stderr",
     "output_type": "stream",
     "text": [
      "Epoch:   5%|▌         | 1/20 [00:00<00:02,  7.02it/s] "
     ]
    },
    {
     "name": "stdout",
     "output_type": "stream",
     "text": [
      "Begin group  4 training\n"
     ]
    },
    {
     "name": "stderr",
     "output_type": "stream",
     "text": [
      "                                                      \r"
     ]
    },
    {
     "name": "stdout",
     "output_type": "stream",
     "text": [
      "Training groups takes 57.05305290222168s seconds\n",
      "Scheduling clients takes 3.084336042404175s seconds\n",
      "Group 0, clients ['michxxblc', '_ophelia', 'steph_davies', 'janabelle_xo', 'rbuerckner', 'LittlestarRed', 'ashleyyosaurus', 'michellecpa', 'itsJohno', 'jaronmc', 'stratosphear', 'ambienteer', 'natalieannem', 'MrTHill', 'bexiclepop', 'SandyCalico', 'Upstatemomof3']\n",
      "Group 1 is empty.\n",
      "Group 2, clients ['OHMYDAYSitsHayz', 'caldjr', 'markdavidson']\n",
      "Group 3 is empty.\n",
      "Group 4 is empty.\n"
     ]
    },
    {
     "name": "stderr",
     "output_type": "stream",
     "text": [
      "\r",
      "Epoch:   0%|          | 0/20 [00:00<?, ?it/s]"
     ]
    },
    {
     "name": "stdout",
     "output_type": "stream",
     "text": [
      "Group 0\n",
      "At round 60 accuracy: 0.605164514785506\n",
      "At round 60 training accuracy: 0.6093288076207161\n",
      "At round 60 training loss: 0.8981231967264416\n",
      "Group 1\n",
      "At round 60 accuracy: 0.8838709677419355\n",
      "At round 60 training accuracy: 0.9078282828282829\n",
      "At round 60 training loss: 0.47286427951290866\n",
      "Group 2\n",
      "At round 60 accuracy: 0.7467181467181467\n",
      "At round 60 training accuracy: 0.7809967585089141\n",
      "At round 60 training loss: 0.860535220822519\n",
      "Group 3\n",
      "At round 60 accuracy: 0.5439560439560439\n",
      "At round 60 training accuracy: 0.5429928741092637\n",
      "At round 60 training loss: 2.8122897743116932\n",
      "Group 4\n",
      "At round 60 accuracy: 0.48172757475083056\n",
      "At round 60 training accuracy: 0.5054928958546946\n",
      "At round 60 training loss: 2.7553125554276923\n",
      "At round 60 mean test accuracy: 0.620125974805039 mean train accuracy: 0.6372305631083265 mean train loss: 1.509401242252283                     number of test client: 612\n",
      "The client-group discrepancy are: [31.07404469 31.61227193  0.         28.02409036  0.          0.        ]\n",
      "Begin group  0 training\n"
     ]
    },
    {
     "name": "stderr",
     "output_type": "stream",
     "text": [
      "Epoch:   5%|▌         | 1/20 [00:00<00:02,  8.06it/s] "
     ]
    },
    {
     "name": "stdout",
     "output_type": "stream",
     "text": [
      "Begin group  2 training\n"
     ]
    },
    {
     "name": "stderr",
     "output_type": "stream",
     "text": [
      "                                                      \r"
     ]
    },
    {
     "name": "stdout",
     "output_type": "stream",
     "text": [
      "Training groups takes 76.69883012771606s seconds\n",
      "Scheduling clients takes 3.022787570953369s seconds\n",
      "Group 0, clients ['marianaguidil', 'HeatherShea', 'sinfulsignorita', 'MacSheikh', 'toodamnninja', 'katementon', 'hollyhalvorsen', 'MrsBamBam', 'CannonGod', 'SheBeeGee', 'kjerstia', 'Upstatemomof3', 'DarianMarie43', 'KateEdwards', 'KJL912']\n",
      "Group 1, clients ['sarahmarina']\n",
      "Group 2 is empty.\n",
      "Group 3, clients ['19c816tf9227']\n",
      "Group 4, clients ['annzoo', 'BeantownCutie', 'Cass_fryer']\n"
     ]
    },
    {
     "name": "stderr",
     "output_type": "stream",
     "text": [
      "\r",
      "Epoch:   0%|          | 0/20 [00:00<?, ?it/s]"
     ]
    },
    {
     "name": "stdout",
     "output_type": "stream",
     "text": [
      "Group 0\n",
      "At round 61 accuracy: 0.624\n",
      "At round 61 training accuracy: 0.637578947368421\n",
      "At round 61 training loss: 0.9742159930553875\n",
      "Group 1\n",
      "At round 61 accuracy: 0.8836833602584814\n",
      "At round 61 training accuracy: 0.9081718618365627\n",
      "At round 61 training loss: 0.47127564116667486\n",
      "Group 2\n",
      "At round 61 accuracy: 0.7445652173913043\n",
      "At round 61 training accuracy: 0.7801996333265431\n",
      "At round 61 training loss: 1.0108069035645884\n",
      "Group 3\n",
      "At round 61 accuracy: 0.5545454545454546\n",
      "At round 61 training accuracy: 0.5545068428504011\n",
      "At round 61 training loss: 2.7381116921332826\n",
      "Group 4\n",
      "At round 61 accuracy: 0.48659217877094973\n",
      "At round 61 training accuracy: 0.5088678687555425\n",
      "At round 61 training loss: 2.7343604922770326\n",
      "At round 61 mean test accuracy: 0.6287238772787905 mean train accuracy: 0.6490961508493065 mean train loss: 1.5442828877252321                     number of test client: 620\n",
      "The client-group discrepancy are: [34.40069046 34.30950542 40.01610999  0.         39.3286563  31.3421539 ]\n",
      "Begin group  0 training\n"
     ]
    },
    {
     "name": "stderr",
     "output_type": "stream",
     "text": [
      "Epoch:   5%|▌         | 1/20 [00:00<00:02,  9.41it/s] "
     ]
    },
    {
     "name": "stdout",
     "output_type": "stream",
     "text": [
      "Begin group  1 training\n"
     ]
    },
    {
     "name": "stderr",
     "output_type": "stream",
     "text": [
      "Epoch:   0%|          | 0/20 [00:00<?, ?it/s]         "
     ]
    },
    {
     "name": "stdout",
     "output_type": "stream",
     "text": [
      "Begin group  3 training\n"
     ]
    },
    {
     "name": "stderr",
     "output_type": "stream",
     "text": [
      "Epoch:   5%|▌         | 1/20 [00:00<00:02,  9.39it/s] "
     ]
    },
    {
     "name": "stdout",
     "output_type": "stream",
     "text": [
      "Begin group  4 training\n"
     ]
    },
    {
     "name": "stderr",
     "output_type": "stream",
     "text": [
      "                                                      \r"
     ]
    },
    {
     "name": "stdout",
     "output_type": "stream",
     "text": [
      "Training groups takes 56.988813400268555s seconds\n",
      "Scheduling clients takes 3.0700252056121826s seconds\n",
      "Group 0, clients ['StampfliTurci', 'Impala_Guy', 'x0me880x', 'JonasAustralia', 'socilover', 'redLIGHTjoli', 'twebbstack', 'veganluke', 'Jamjar84', 'xxxSupermodel', 'stratosphear', 'aprilyim', 'cavorting', 'toodamnninja']\n",
      "Group 1 is empty.\n",
      "Group 2, clients ['keza34', 'DustinUrbanski', 'zoeyjordan']\n",
      "Group 3 is empty.\n",
      "Group 4, clients ['weelissa', 'Ingenue_Em', 'isdown']\n"
     ]
    },
    {
     "name": "stderr",
     "output_type": "stream",
     "text": [
      "\r",
      "Epoch:   0%|          | 0/20 [00:00<?, ?it/s]"
     ]
    },
    {
     "name": "stdout",
     "output_type": "stream",
     "text": [
      "Group 0\n",
      "At round 62 accuracy: 0.6143790849673203\n",
      "At round 62 training accuracy: 0.630386405017196\n",
      "At round 62 training loss: 0.8646231214997259\n",
      "Group 1\n",
      "At round 62 accuracy: 0.8010849909584087\n",
      "At round 62 training accuracy: 0.8311258278145696\n",
      "At round 62 training loss: 0.7191391948183844\n",
      "Group 2\n",
      "At round 62 accuracy: 0.7547169811320755\n",
      "At round 62 training accuracy: 0.7907114624505929\n",
      "At round 62 training loss: 0.9633634041705382\n",
      "Group 3\n",
      "At round 62 accuracy: 0.5561694290976059\n",
      "At round 62 training accuracy: 0.5559273422562141\n",
      "At round 62 training loss: 2.986899655150337\n",
      "Group 4\n",
      "At round 62 accuracy: 0.5616207090602139\n",
      "At round 62 training accuracy: 0.5824404761904762\n",
      "At round 62 training loss: 1.636358848686463\n",
      "At round 62 mean test accuracy: 0.6384762465068392 mean train accuracy: 0.6596706864564007 mean train loss: 1.2441043909957799                     number of test client: 623\n",
      "The client-group discrepancy are: [27.72915577 25.93881126  0.         40.12940198  0.         23.6838506 ]\n",
      "Begin group  0 training\n"
     ]
    },
    {
     "name": "stderr",
     "output_type": "stream",
     "text": [
      "Epoch:   0%|          | 0/20 [00:00<?, ?it/s]         "
     ]
    },
    {
     "name": "stdout",
     "output_type": "stream",
     "text": [
      "Begin group  2 training\n"
     ]
    },
    {
     "name": "stderr",
     "output_type": "stream",
     "text": [
      "Epoch:   5%|▌         | 1/20 [00:00<00:01,  9.87it/s] "
     ]
    },
    {
     "name": "stdout",
     "output_type": "stream",
     "text": [
      "Begin group  4 training\n"
     ]
    },
    {
     "name": "stderr",
     "output_type": "stream",
     "text": [
      "                                                      \r"
     ]
    },
    {
     "name": "stdout",
     "output_type": "stream",
     "text": [
      "Training groups takes 76.65284967422485s seconds\n",
      "Scheduling clients takes 2.979644775390625s seconds\n",
      "Group 0, clients ['wolfchild59', 'JonasAustralia', 'an_other', 'shawnlimtianjun', 'AliciaWag', 'YourSavvyVA', 'Whatever_Ista', 'xoCAZZA', 'Spidersamm', 'eatlikeagirl', 'tan1337']\n",
      "Group 1, clients ['velofille']\n",
      "Group 2, clients ['twliciousness', 'danic27']\n",
      "Group 3, clients ['30STMluva', 'HelloLizzi', 'mneylon', 'Custardcuppcake']\n",
      "Group 4, clients ['starkissed', 'TeeQ2']\n"
     ]
    },
    {
     "name": "stderr",
     "output_type": "stream",
     "text": [
      "\r",
      "Epoch:   0%|          | 0/20 [00:00<?, ?it/s]"
     ]
    },
    {
     "name": "stdout",
     "output_type": "stream",
     "text": [
      "Group 0\n",
      "At round 63 accuracy: 0.6153846153846154\n",
      "At round 63 training accuracy: 0.6232664870797167\n",
      "At round 63 training loss: 0.8658463907224873\n",
      "Group 1\n",
      "At round 63 accuracy: 0.800711743772242\n",
      "At round 63 training accuracy: 0.8308480894687791\n",
      "At round 63 training loss: 0.7169573207631227\n",
      "Group 2\n",
      "At round 63 accuracy: 0.7632183908045977\n",
      "At round 63 training accuracy: 0.7903614457831325\n",
      "At round 63 training loss: 1.323906024970724\n",
      "Group 3\n",
      "At round 63 accuracy: 0.5853658536585366\n",
      "At round 63 training accuracy: 0.5913200723327305\n",
      "At round 63 training loss: 2.752474951021078\n",
      "Group 4\n",
      "At round 63 accuracy: 0.5541002277904328\n",
      "At round 63 training accuracy: 0.5673236046336694\n",
      "At round 63 training loss: 1.692932845950093\n",
      "At round 63 mean test accuracy: 0.640579286132241 mean train accuracy: 0.6553752691479545 mean train loss: 1.3131121196405817                     number of test client: 627\n",
      "The client-group discrepancy are: [30.63144249 25.69995006 41.67982659 22.72149835 39.82611688 41.75105415]\n",
      "Begin group  0 training\n"
     ]
    },
    {
     "name": "stderr",
     "output_type": "stream",
     "text": [
      "Epoch:   5%|▌         | 1/20 [00:00<00:02,  6.63it/s] "
     ]
    },
    {
     "name": "stdout",
     "output_type": "stream",
     "text": [
      "Begin group  1 training\n"
     ]
    },
    {
     "name": "stderr",
     "output_type": "stream",
     "text": [
      "Epoch:   5%|▌         | 1/20 [00:00<00:02,  6.98it/s] "
     ]
    },
    {
     "name": "stdout",
     "output_type": "stream",
     "text": [
      "Begin group  2 training\n"
     ]
    },
    {
     "name": "stderr",
     "output_type": "stream",
     "text": [
      "Epoch:   5%|▌         | 1/20 [00:00<00:02,  7.10it/s] "
     ]
    },
    {
     "name": "stdout",
     "output_type": "stream",
     "text": [
      "Begin group  3 training\n"
     ]
    },
    {
     "name": "stderr",
     "output_type": "stream",
     "text": [
      "Epoch:   5%|▌         | 1/20 [00:00<00:02,  6.65it/s] "
     ]
    },
    {
     "name": "stdout",
     "output_type": "stream",
     "text": [
      "Begin group  4 training\n"
     ]
    },
    {
     "name": "stderr",
     "output_type": "stream",
     "text": [
      "                                                      \r"
     ]
    },
    {
     "name": "stdout",
     "output_type": "stream",
     "text": [
      "Training groups takes 66.3337140083313s seconds\n",
      "Scheduling clients takes 2.996657133102417s seconds\n",
      "Group 0, clients ['iamcheerbear', 'kalpik', 'so_zwitschert', 'beingnobody', 'veganluke', 'MAGGIECHICKEN', 'megspeaks', 'nikhilnulkar', 'iamgaberosales', 'Christyxcore', 'HayleyNqahuia']\n",
      "Group 1, clients ['elocio']\n",
      "Group 2, clients ['DominaCaffeine', 'neurogirl07', 'nik_kee_dee', 'vulcansmuse', 'mandiebear']\n",
      "Group 3 is empty.\n",
      "Group 4, clients ['hannah106', 'rkb09', 'PinkTribble']\n"
     ]
    },
    {
     "name": "stderr",
     "output_type": "stream",
     "text": [
      "Epoch:   5%|▌         | 1/20 [00:00<00:02,  9.24it/s]"
     ]
    },
    {
     "name": "stdout",
     "output_type": "stream",
     "text": [
      "Group 0\n",
      "At round 64 accuracy: 0.6192077727952168\n",
      "At round 64 training accuracy: 0.6318638063373352\n",
      "At round 64 training loss: 1.1628367347179775\n",
      "Group 1\n",
      "At round 64 accuracy: 0.851138353765324\n",
      "At round 64 training accuracy: 0.8848095456631482\n",
      "At round 64 training loss: 0.5169169207480818\n",
      "Group 2\n",
      "At round 64 accuracy: 0.7614814814814815\n",
      "At round 64 training accuracy: 0.7936723602484472\n",
      "At round 64 training loss: 0.9847279226887622\n",
      "Group 3\n",
      "At round 64 accuracy: 0.5925925925925926\n",
      "At round 64 training accuracy: 0.5909506398537477\n",
      "At round 64 training loss: 2.512172477243805\n",
      "Group 4\n",
      "At round 64 accuracy: 0.5092592592592593\n",
      "At round 64 training accuracy: 0.532956109496865\n",
      "At round 64 training loss: 1.7859291897849956\n",
      "At round 64 mean test accuracy: 0.6365351131746952 mean train accuracy: 0.6565980167810831 mean train loss: 1.3421529930747593                     number of test client: 632\n",
      "The client-group discrepancy are: [29.68583891 26.82459608 39.48978514 33.52846334  0.         30.5047065 ]\n",
      "Begin group  0 training\n"
     ]
    },
    {
     "name": "stderr",
     "output_type": "stream",
     "text": [
      "Epoch:   5%|▌         | 1/20 [00:00<00:02,  6.67it/s] "
     ]
    },
    {
     "name": "stdout",
     "output_type": "stream",
     "text": [
      "Begin group  1 training\n"
     ]
    },
    {
     "name": "stderr",
     "output_type": "stream",
     "text": [
      "Epoch:   0%|          | 0/20 [00:00<?, ?it/s]         "
     ]
    },
    {
     "name": "stdout",
     "output_type": "stream",
     "text": [
      "Begin group  2 training\n"
     ]
    },
    {
     "name": "stderr",
     "output_type": "stream",
     "text": [
      "Epoch:   5%|▌         | 1/20 [00:00<00:02,  7.28it/s] "
     ]
    },
    {
     "name": "stdout",
     "output_type": "stream",
     "text": [
      "Begin group  4 training\n"
     ]
    },
    {
     "name": "stderr",
     "output_type": "stream",
     "text": [
      "                                                      \r"
     ]
    },
    {
     "name": "stdout",
     "output_type": "stream",
     "text": [
      "Training groups takes 58.878509283065796s seconds\n",
      "Scheduling clients takes 3.0264430046081543s seconds\n",
      "Group 0, clients ['KnightRid', 'PaulHarriott', 'minorityx', 'krystinascott', 'Christiegarcia', 'thalovebug', 'hannahkin', 'hortovanyi', 'Jodasaur', 'EricaLeigh777', 'Japh']\n",
      "Group 1, clients ['letteapplejuice']\n",
      "Group 2, clients ['vulcansmuse']\n",
      "Group 3, clients ['GlitzyGloss', 'cmbowen122']\n",
      "Group 4, clients ['ambienteer', 'mister_peterman', 'Speed2007', 'meghornby', 'Rubyam']\n"
     ]
    },
    {
     "name": "stderr",
     "output_type": "stream",
     "text": [
      "\r",
      "Epoch:   0%|          | 0/20 [00:00<?, ?it/s]"
     ]
    },
    {
     "name": "stdout",
     "output_type": "stream",
     "text": [
      "Group 0\n",
      "At round 65 accuracy: 0.5966447848285923\n",
      "At round 65 training accuracy: 0.6285769156904167\n",
      "At round 65 training loss: 0.9466506992939832\n",
      "Group 1\n",
      "At round 65 accuracy: 0.861646234676007\n",
      "At round 65 training accuracy: 0.8981184029371271\n",
      "At round 65 training loss: 0.47168961915480256\n",
      "Group 2\n",
      "At round 65 accuracy: 0.7733433734939759\n",
      "At round 65 training accuracy: 0.8024861878453039\n",
      "At round 65 training loss: 1.0349058940677065\n",
      "Group 3\n",
      "At round 65 accuracy: 0.5958188153310104\n",
      "At round 65 training accuracy: 0.5950338600451467\n",
      "At round 65 training loss: 2.484388643976366\n",
      "Group 4\n",
      "At round 65 accuracy: 0.5132275132275133\n",
      "At round 65 training accuracy: 0.531230577998757\n",
      "At round 65 training loss: 1.3610377766700164\n",
      "At round 65 mean test accuracy: 0.6318681318681318 mean train accuracy: 0.6577607175433262 mean train loss: 1.1551267524618756                     number of test client: 635\n",
      "The client-group discrepancy are: [27.5579918  30.87713463  5.14755639  1.4310873  21.85796196 32.2433575 ]\n",
      "Begin group  0 training\n"
     ]
    },
    {
     "name": "stderr",
     "output_type": "stream",
     "text": [
      "Epoch:   5%|▌         | 1/20 [00:00<00:02,  9.14it/s] "
     ]
    },
    {
     "name": "stdout",
     "output_type": "stream",
     "text": [
      "Begin group  1 training\n"
     ]
    },
    {
     "name": "stderr",
     "output_type": "stream",
     "text": [
      "Epoch:   5%|▌         | 1/20 [00:00<00:02,  7.00it/s] "
     ]
    },
    {
     "name": "stdout",
     "output_type": "stream",
     "text": [
      "Begin group  2 training\n"
     ]
    },
    {
     "name": "stderr",
     "output_type": "stream",
     "text": [
      "Epoch:   5%|▌         | 1/20 [00:00<00:03,  5.54it/s] "
     ]
    },
    {
     "name": "stdout",
     "output_type": "stream",
     "text": [
      "Begin group  3 training\n"
     ]
    },
    {
     "name": "stderr",
     "output_type": "stream",
     "text": [
      "Epoch:   5%|▌         | 1/20 [00:00<00:01,  9.84it/s] "
     ]
    },
    {
     "name": "stdout",
     "output_type": "stream",
     "text": [
      "Begin group  4 training\n"
     ]
    },
    {
     "name": "stderr",
     "output_type": "stream",
     "text": [
      "                                                      \r"
     ]
    },
    {
     "name": "stdout",
     "output_type": "stream",
     "text": [
      "Training groups takes 58.02032256126404s seconds\n",
      "Scheduling clients takes 3.0153801441192627s seconds\n",
      "Group 0, clients ['krystinascott', 'Whatever_Ista', 'sabrinaxx', 'mannykimchi', 'ToksieOlu', 'TaylaMe3', 'AtlantisJackson', 'nwoidaho', 'Jamjar84', 'Mixaelala']\n",
      "Group 1, clients ['traciknoppe', 'elocio', 'Hetty4Christ']\n",
      "Group 2, clients ['xXMCR_LadyXx', 'ThomasGudgeon']\n",
      "Group 3, clients ['dopeydoo', 'skribe', 'markdavidson']\n",
      "Group 4, clients ['ameym21', 'jamisloan']\n"
     ]
    },
    {
     "name": "stderr",
     "output_type": "stream",
     "text": [
      "\r",
      "Epoch:   0%|          | 0/20 [00:00<?, ?it/s]"
     ]
    },
    {
     "name": "stdout",
     "output_type": "stream",
     "text": [
      "Group 0\n",
      "At round 66 accuracy: 0.6004366812227074\n",
      "At round 66 training accuracy: 0.6243649956867632\n",
      "At round 66 training loss: 0.9322330720217781\n",
      "Group 1\n",
      "At round 66 accuracy: 0.8610169491525423\n",
      "At round 66 training accuracy: 0.8903197158081705\n",
      "At round 66 training loss: 0.3942400618650881\n",
      "Group 2\n",
      "At round 66 accuracy: 0.7543330821401658\n",
      "At round 66 training accuracy: 0.7654613712704998\n",
      "At round 66 training loss: 0.9669115017244103\n",
      "Group 3\n",
      "At round 66 accuracy: 0.6100840336134454\n",
      "At round 66 training accuracy: 0.6128751631143976\n",
      "At round 66 training loss: 2.284779769064747\n",
      "Group 4\n",
      "At round 66 accuracy: 0.5696353855349672\n",
      "At round 66 training accuracy: 0.5920429428481212\n",
      "At round 66 training loss: 1.5689442724537634\n",
      "At round 66 mean test accuracy: 0.6454637242175104 mean train accuracy: 0.6653777626142007 mean train loss: 1.1637195147940642                     number of test client: 637\n",
      "The client-group discrepancy are: [26.92049501 27.62008474 15.35881686 42.53991958 27.35848122 24.48865971]\n",
      "Begin group  0 training\n"
     ]
    },
    {
     "name": "stderr",
     "output_type": "stream",
     "text": [
      "Epoch:   5%|▌         | 1/20 [00:00<00:02,  6.76it/s] "
     ]
    },
    {
     "name": "stdout",
     "output_type": "stream",
     "text": [
      "Begin group  1 training\n"
     ]
    },
    {
     "name": "stderr",
     "output_type": "stream",
     "text": [
      "Epoch:   5%|▌         | 1/20 [00:00<00:02,  7.00it/s] "
     ]
    },
    {
     "name": "stdout",
     "output_type": "stream",
     "text": [
      "Begin group  2 training\n"
     ]
    },
    {
     "name": "stderr",
     "output_type": "stream",
     "text": [
      "Epoch:   5%|▌         | 1/20 [00:00<00:02,  7.00it/s] "
     ]
    },
    {
     "name": "stdout",
     "output_type": "stream",
     "text": [
      "Begin group  3 training\n"
     ]
    },
    {
     "name": "stderr",
     "output_type": "stream",
     "text": [
      "Epoch:   5%|▌         | 1/20 [00:00<00:02,  8.77it/s] "
     ]
    },
    {
     "name": "stdout",
     "output_type": "stream",
     "text": [
      "Begin group  4 training\n"
     ]
    },
    {
     "name": "stderr",
     "output_type": "stream",
     "text": [
      "                                                      \r"
     ]
    },
    {
     "name": "stdout",
     "output_type": "stream",
     "text": [
      "Training groups takes 59.72126388549805s seconds\n",
      "Scheduling clients takes 3.0448014736175537s seconds\n",
      "Group 0 is empty.\n",
      "Group 1, clients ['PaulineMJ', 'ninirific', 'Tittch', 'nikipaniki', 'KINGmoney']\n",
      "Group 2, clients ['tamaryn', 'IdolFanatic', 'minxkitty', 'Commsguy', 'SarahSee95', 'Minerveca']\n",
      "Group 3, clients ['petehopkins', 'twliciousness']\n",
      "Group 4, clients ['christyspanties', 'charleneortiz', 'sampan22', 'sfgiantsgirl', 'iamgaberosales', 'debbier93', 'xohanna']\n"
     ]
    },
    {
     "name": "stderr",
     "output_type": "stream",
     "text": [
      "Epoch:   5%|▌         | 1/20 [00:00<00:02,  8.81it/s]"
     ]
    },
    {
     "name": "stdout",
     "output_type": "stream",
     "text": [
      "Group 0\n",
      "At round 67 accuracy: 0.6259259259259259\n",
      "At round 67 training accuracy: 0.6432959531935641\n",
      "At round 67 training loss: 1.174973481169914\n",
      "Group 1\n",
      "At round 67 accuracy: 0.8258785942492013\n",
      "At round 67 training accuracy: 0.8577405857740585\n",
      "At round 67 training loss: 0.3907042770634822\n",
      "Group 2\n",
      "At round 67 accuracy: 0.7247023809523809\n",
      "At round 67 training accuracy: 0.7338930105427567\n",
      "At round 67 training loss: 0.7096185500108112\n",
      "Group 3\n",
      "At round 67 accuracy: 0.6221498371335505\n",
      "At round 67 training accuracy: 0.6247361756015196\n",
      "At round 67 training loss: 2.6101284354878276\n",
      "Group 4\n",
      "At round 67 accuracy: 0.5772646536412078\n",
      "At round 67 training accuracy: 0.5992181391712276\n",
      "At round 67 training loss: 0.9376422938888571\n",
      "At round 67 mean test accuracy: 0.6507959271475692 mean train accuracy: 0.6678225472089254 mean train loss: 1.0854253219940624                     number of test client: 640\n",
      "The client-group discrepancy are: [29.61715865  0.         33.46652023 25.08270499 40.47216724 27.6528582 ]\n",
      "Begin group  1 training\n"
     ]
    },
    {
     "name": "stderr",
     "output_type": "stream",
     "text": [
      "Epoch:   5%|▌         | 1/20 [00:00<00:02,  8.66it/s] "
     ]
    },
    {
     "name": "stdout",
     "output_type": "stream",
     "text": [
      "Begin group  2 training\n"
     ]
    },
    {
     "name": "stderr",
     "output_type": "stream",
     "text": [
      "Epoch:   5%|▌         | 1/20 [00:00<00:02,  7.20it/s] "
     ]
    },
    {
     "name": "stdout",
     "output_type": "stream",
     "text": [
      "Begin group  3 training\n"
     ]
    },
    {
     "name": "stderr",
     "output_type": "stream",
     "text": [
      "Epoch:   5%|▌         | 1/20 [00:00<00:02,  9.13it/s] "
     ]
    },
    {
     "name": "stdout",
     "output_type": "stream",
     "text": [
      "Begin group  4 training\n"
     ]
    },
    {
     "name": "stderr",
     "output_type": "stream",
     "text": [
      "                                                      \r"
     ]
    },
    {
     "name": "stdout",
     "output_type": "stream",
     "text": [
      "Training groups takes 57.920748710632324s seconds\n",
      "Scheduling clients takes 3.123143196105957s seconds\n",
      "Group 0, clients ['DivaWonderGirl', 'megspeaks']\n",
      "Group 1, clients ['FakerParis', 'letssingbaby', 'happylovesChuck', 'cookiemonster82', 'winniedepoohi', 'TinyPicTweets', 'DarianMarie43']\n",
      "Group 2, clients ['koast08', 'stratosphear']\n",
      "Group 3, clients ['AsiaBrands', 'WWF_Climate', 'Custardcuppcake']\n",
      "Group 4, clients ['elenarr', 'andrewpycroft', 'Mixaelala', 'Jenniewrenbird', 'SarahRoseMusic', 'sfgiantsgirl']\n"
     ]
    },
    {
     "name": "stderr",
     "output_type": "stream",
     "text": [
      "\r",
      "Epoch:   0%|          | 0/20 [00:00<?, ?it/s]"
     ]
    },
    {
     "name": "stdout",
     "output_type": "stream",
     "text": [
      "Group 0\n",
      "At round 68 accuracy: 0.6296296296296297\n",
      "At round 68 training accuracy: 0.6441001911276532\n",
      "At round 68 training loss: 1.1691692064566555\n",
      "Group 1\n",
      "At round 68 accuracy: 0.796423658872077\n",
      "At round 68 training accuracy: 0.8251798561151079\n",
      "At round 68 training loss: 0.431580716031168\n",
      "Group 2\n",
      "At round 68 accuracy: 0.7216876387860843\n",
      "At round 68 training accuracy: 0.7521350931677019\n",
      "At round 68 training loss: 0.6620424137319607\n",
      "Group 3\n",
      "At round 68 accuracy: 0.6311605723370429\n",
      "At round 68 training accuracy: 0.6287128712871287\n",
      "At round 68 training loss: 3.4287286357152746\n",
      "Group 4\n",
      "At round 68 accuracy: 0.5783910745742806\n",
      "At round 68 training accuracy: 0.6105687277235394\n",
      "At round 68 training loss: 0.7866273701615838\n",
      "At round 68 mean test accuracy: 0.65229762412861 mean train accuracy: 0.6742429906542056 mean train loss: 1.1073156119673213                     number of test client: 643\n",
      "The client-group discrepancy are: [34.74092146 22.57732033 41.08598823 42.27241133 27.29191737 32.60688269]\n",
      "Begin group  0 training\n"
     ]
    },
    {
     "name": "stderr",
     "output_type": "stream",
     "text": [
      "Epoch:   5%|▌         | 1/20 [00:00<00:02,  7.09it/s] "
     ]
    },
    {
     "name": "stdout",
     "output_type": "stream",
     "text": [
      "Begin group  1 training\n"
     ]
    },
    {
     "name": "stderr",
     "output_type": "stream",
     "text": [
      "Epoch:   5%|▌         | 1/20 [00:00<00:02,  9.25it/s] "
     ]
    },
    {
     "name": "stdout",
     "output_type": "stream",
     "text": [
      "Begin group  2 training\n"
     ]
    },
    {
     "name": "stderr",
     "output_type": "stream",
     "text": [
      "Epoch:   0%|          | 0/20 [00:00<?, ?it/s]         "
     ]
    },
    {
     "name": "stdout",
     "output_type": "stream",
     "text": [
      "Begin group  3 training\n"
     ]
    },
    {
     "name": "stderr",
     "output_type": "stream",
     "text": [
      "Epoch:   5%|▌         | 1/20 [00:00<00:02,  7.36it/s] "
     ]
    },
    {
     "name": "stdout",
     "output_type": "stream",
     "text": [
      "Begin group  4 training\n"
     ]
    },
    {
     "name": "stderr",
     "output_type": "stream",
     "text": [
      "                                                      \r"
     ]
    },
    {
     "name": "stdout",
     "output_type": "stream",
     "text": [
      "Training groups takes 72.06312108039856s seconds\n",
      "Scheduling clients takes 3.1882152557373047s seconds\n",
      "Group 0, clients ['unitechy', 'ganeshaxi', 'JonasAustralia', 'simontay78', 'AmyStar92', 'AlexLJ', 'smilin808hapa', 'minxkitty']\n",
      "Group 1 is empty.\n",
      "Group 2, clients ['AndyCarolan', 'JazzBANGER', 'PegasusAngel', 'katjrobertson', 'kissmybleep']\n",
      "Group 3 is empty.\n",
      "Group 4, clients ['Kikirowr', 'SexyBeach', '_strokemyEGO', 'sfgiantsgirl', 'kat_n', 'meghornby', 'jerryfetus']\n"
     ]
    },
    {
     "name": "stderr",
     "output_type": "stream",
     "text": [
      "Epoch:   5%|▌         | 1/20 [00:00<00:02,  8.50it/s]"
     ]
    },
    {
     "name": "stdout",
     "output_type": "stream",
     "text": [
      "Group 0\n",
      "At round 69 accuracy: 0.584920030464585\n",
      "At round 69 training accuracy: 0.5636473066506169\n",
      "At round 69 training loss: 1.0032631768866043\n",
      "Group 1\n",
      "At round 69 accuracy: 0.8693259972489684\n",
      "At round 69 training accuracy: 0.8971223021582734\n",
      "At round 69 training loss: 0.3287363053657945\n",
      "Group 2\n",
      "At round 69 accuracy: 0.6697909156452776\n",
      "At round 69 training accuracy: 0.7073815367188975\n",
      "At round 69 training loss: 0.7833842967463875\n",
      "Group 3\n",
      "At round 69 accuracy: 0.6366782006920415\n",
      "At round 69 training accuracy: 0.6423751686909581\n",
      "At round 69 training loss: 2.4396458911984737\n",
      "Group 4\n",
      "At round 69 accuracy: 0.5755847119224187\n",
      "At round 69 training accuracy: 0.5604875112849834\n",
      "At round 69 training loss: 1.0244815052452483\n",
      "At round 69 mean test accuracy: 0.6327252156696366 mean train accuracy: 0.6321010588890953 mean train loss: 1.0141943547894932                     number of test client: 646\n",
      "The client-group discrepancy are: [30.05947411 26.16161701  0.         41.13629351  0.         26.60215408]\n",
      "Begin group  0 training\n"
     ]
    },
    {
     "name": "stderr",
     "output_type": "stream",
     "text": [
      "Epoch:   5%|▌         | 1/20 [00:00<00:02,  6.85it/s] "
     ]
    },
    {
     "name": "stdout",
     "output_type": "stream",
     "text": [
      "Begin group  2 training\n"
     ]
    },
    {
     "name": "stderr",
     "output_type": "stream",
     "text": [
      "Epoch:   0%|          | 0/20 [00:00<?, ?it/s]         "
     ]
    },
    {
     "name": "stdout",
     "output_type": "stream",
     "text": [
      "Begin group  4 training\n"
     ]
    },
    {
     "name": "stderr",
     "output_type": "stream",
     "text": [
      "                                                      \r"
     ]
    },
    {
     "name": "stdout",
     "output_type": "stream",
     "text": [
      "Training groups takes 66.8969874382019s seconds\n",
      "Scheduling clients takes 3.1594009399414062s seconds\n",
      "Group 0, clients ['SomersetBob', 'markable', 'PreternaReviews', 'SammiiSTACK', 'amilya', 'MaschaD', 'Joy_Inc', 'SunshineBoat']\n",
      "Group 1 is empty.\n",
      "Group 2, clients ['gabysslave', 'limeice', 'thepete', 'MCRmuffin', 'wisdompathart', 'lameymacdonald', 'paigeebaby', 'alwaysloveu_Ci']\n",
      "Group 3, clients ['Momodel180']\n",
      "Group 4, clients ['purplepleather', 'neondeception', 'AlyssaNoelleD']\n"
     ]
    },
    {
     "name": "stderr",
     "output_type": "stream",
     "text": [
      "\r",
      "Epoch:   0%|          | 0/20 [00:00<?, ?it/s]"
     ]
    },
    {
     "name": "stdout",
     "output_type": "stream",
     "text": [
      "Group 0\n",
      "At round 70 accuracy: 0.5991688704193426\n",
      "At round 70 training accuracy: 0.5812866660037784\n",
      "At round 70 training loss: 0.9077879051241994\n",
      "Group 1\n",
      "At round 70 accuracy: 0.8716119828815977\n",
      "At round 70 training accuracy: 0.8973880597014925\n",
      "At round 70 training loss: 0.3262825356605254\n",
      "Group 2\n",
      "At round 70 accuracy: 0.6708771929824562\n",
      "At round 70 training accuracy: 0.690625\n",
      "At round 70 training loss: 0.6207919093879515\n",
      "Group 3\n",
      "At round 70 accuracy: 0.6437389770723104\n",
      "At round 70 training accuracy: 0.6559633027522935\n",
      "At round 70 training loss: 2.3356914056973412\n",
      "Group 4\n",
      "At round 70 accuracy: 0.5994350282485875\n",
      "At round 70 training accuracy: 0.605427974947808\n",
      "At round 70 training loss: 1.1954867377446154\n",
      "At round 70 mean test accuracy: 0.6440225035161744 mean train accuracy: 0.6465654214240846 mean train loss: 0.978823835946138                     number of test client: 649\n",
      "The client-group discrepancy are: [37.2752122  38.45793693  0.         33.67497048 40.32891519 42.70402319]\n",
      "Begin group  0 training\n"
     ]
    },
    {
     "name": "stderr",
     "output_type": "stream",
     "text": [
      "Epoch:   5%|▌         | 1/20 [00:00<00:02,  6.63it/s] "
     ]
    },
    {
     "name": "stdout",
     "output_type": "stream",
     "text": [
      "Begin group  2 training\n"
     ]
    },
    {
     "name": "stderr",
     "output_type": "stream",
     "text": [
      "Epoch:   5%|▌         | 1/20 [00:00<00:02,  8.69it/s] "
     ]
    },
    {
     "name": "stdout",
     "output_type": "stream",
     "text": [
      "Begin group  3 training\n"
     ]
    },
    {
     "name": "stderr",
     "output_type": "stream",
     "text": [
      "Epoch:   0%|          | 0/20 [00:00<?, ?it/s]         "
     ]
    },
    {
     "name": "stdout",
     "output_type": "stream",
     "text": [
      "Begin group  4 training\n"
     ]
    },
    {
     "name": "stderr",
     "output_type": "stream",
     "text": [
      "                                                      \r"
     ]
    },
    {
     "name": "stdout",
     "output_type": "stream",
     "text": [
      "Training groups takes 72.03564143180847s seconds\n",
      "Scheduling clients takes 3.164417266845703s seconds\n",
      "Group 0 is empty.\n",
      "Group 1, clients ['Sunshineliron', 'thalovebug', 'PS1968']\n",
      "Group 2, clients ['janabelle_xo', 'Whatever_Ista', 'PreternaReviews', 'mini_ritz', 'ImmaChocoholic', 'twebbstack', 'smuttysteff', 'crucifire', 'thisgoeshere']\n",
      "Group 3, clients ['nik_kee_dee']\n",
      "Group 4, clients ['Nathan133', 'brinshannara', 'zenjar', 'YoungA2985', 'johnhood', 'hortovanyi', 'minorityx']\n"
     ]
    },
    {
     "name": "stderr",
     "output_type": "stream",
     "text": [
      "\r",
      "Epoch:   0%|          | 0/20 [00:00<?, ?it/s]"
     ]
    },
    {
     "name": "stdout",
     "output_type": "stream",
     "text": [
      "Group 0\n",
      "At round 71 accuracy: 0.5977742448330684\n",
      "At round 71 training accuracy: 0.5814050884724112\n",
      "At round 71 training loss: 1.4952404585456038\n",
      "Group 1\n",
      "At round 71 accuracy: 0.8741450068399452\n",
      "At round 71 training accuracy: 0.8998927422238112\n",
      "At round 71 training loss: 0.319945512111387\n",
      "Group 2\n",
      "At round 71 accuracy: 0.748046875\n",
      "At round 71 training accuracy: 0.7747149906414837\n",
      "At round 71 training loss: 0.5494835612934443\n",
      "Group 3\n",
      "At round 71 accuracy: 0.6501766784452296\n",
      "At round 71 training accuracy: 0.6585589720055071\n",
      "At round 71 training loss: 2.6536192985157596\n",
      "Group 4\n",
      "At round 71 accuracy: 0.5591280653950954\n",
      "At round 71 training accuracy: 0.5575233981281498\n",
      "At round 71 training loss: 0.6990689117158377\n",
      "At round 71 mean test accuracy: 0.65228285077951 mean train accuracy: 0.6555998391166039 mean train loss: 1.0619223426815796                     number of test client: 653\n",
      "The client-group discrepancy are: [39.49544615  0.         41.21222265 38.54956915 41.43394503 39.69888395]\n",
      "Begin group  1 training\n"
     ]
    },
    {
     "name": "stderr",
     "output_type": "stream",
     "text": [
      "Epoch:   5%|▌         | 1/20 [00:00<00:02,  7.12it/s] "
     ]
    },
    {
     "name": "stdout",
     "output_type": "stream",
     "text": [
      "Begin group  2 training\n"
     ]
    },
    {
     "name": "stderr",
     "output_type": "stream",
     "text": [
      "Epoch:   0%|          | 0/20 [00:00<?, ?it/s]         "
     ]
    },
    {
     "name": "stdout",
     "output_type": "stream",
     "text": [
      "Begin group  3 training\n"
     ]
    },
    {
     "name": "stderr",
     "output_type": "stream",
     "text": [
      "Epoch:   5%|▌         | 1/20 [00:00<00:03,  6.28it/s] "
     ]
    },
    {
     "name": "stdout",
     "output_type": "stream",
     "text": [
      "Begin group  4 training\n"
     ]
    },
    {
     "name": "stderr",
     "output_type": "stream",
     "text": [
      "                                                      \r"
     ]
    },
    {
     "name": "stdout",
     "output_type": "stream",
     "text": [
      "Training groups takes 84.54055571556091s seconds\n",
      "Scheduling clients takes 2.9909303188323975s seconds\n",
      "Group 0, clients ['shellykramer', 'feblub', 'DustinUrbanski', 'dollforlife', 'thalovebug']\n",
      "Group 1 is empty.\n",
      "Group 2, clients ['stratosphear', 'RockstarAtHeart']\n",
      "Group 3 is empty.\n",
      "Group 4, clients ['SarcasticFairy', 'davidismyangel', 'NaythenCash', 'iellie', 'willtompsett', 'Kitt69', 'iamluvnjordan', 'shinsh0ku', 'valenbfm', 'janabelle_xo', 'suddentwilight', 'Sharonyy', 'rockbigdave']\n"
     ]
    },
    {
     "name": "stderr",
     "output_type": "stream",
     "text": [
      "\r",
      "Epoch:   0%|          | 0/20 [00:00<?, ?it/s]"
     ]
    },
    {
     "name": "stdout",
     "output_type": "stream",
     "text": [
      "Group 0\n",
      "At round 72 accuracy: 0.6108471892319873\n",
      "At round 72 training accuracy: 0.5926890231201833\n",
      "At round 72 training loss: 1.454507041892467\n",
      "Group 1\n",
      "At round 72 accuracy: 0.8959778085991679\n",
      "At round 72 training accuracy: 0.9129804205946338\n",
      "At round 72 training loss: 0.4030509730637211\n",
      "Group 2\n",
      "At round 72 accuracy: 0.7459893048128342\n",
      "At round 72 training accuracy: 0.783056768558952\n",
      "At round 72 training loss: 0.7996050306677607\n",
      "Group 3\n",
      "At round 72 accuracy: 0.6519434628975265\n",
      "At round 72 training accuracy: 0.656264341441028\n",
      "At round 72 training loss: 2.992060144683255\n",
      "Group 4\n",
      "At round 72 accuracy: 0.6456487754038561\n",
      "At round 72 training accuracy: 0.6611501861812163\n",
      "At round 72 training loss: 0.9624706151493334\n",
      "At round 72 mean test accuracy: 0.6797177642501383 mean train accuracy: 0.6874795566054879 mean train loss: 1.2049465195801117                     number of test client: 656\n",
      "The client-group discrepancy are: [36.91536982 36.98022184  0.         23.49556562  0.         38.955012  ]\n",
      "Begin group  0 training\n"
     ]
    },
    {
     "name": "stderr",
     "output_type": "stream",
     "text": [
      "Epoch:   0%|          | 0/20 [00:00<?, ?it/s]         "
     ]
    },
    {
     "name": "stdout",
     "output_type": "stream",
     "text": [
      "Begin group  2 training\n"
     ]
    },
    {
     "name": "stderr",
     "output_type": "stream",
     "text": [
      "Epoch:   0%|          | 0/20 [00:00<?, ?it/s]         "
     ]
    },
    {
     "name": "stdout",
     "output_type": "stream",
     "text": [
      "Begin group  4 training\n"
     ]
    },
    {
     "name": "stderr",
     "output_type": "stream",
     "text": [
      "                                                      \r"
     ]
    },
    {
     "name": "stdout",
     "output_type": "stream",
     "text": [
      "Training groups takes 65.24886512756348s seconds\n",
      "Scheduling clients takes 2.876755475997925s seconds\n",
      "Group 0, clients ['simontay78']\n",
      "Group 1, clients ['dopeydoo']\n",
      "Group 2, clients ['oldskool90', 'AClockworkToad', 'bexmith', 'JoReynolds55', 'honeysnowflakes', 'kateblogs', 'unitechy', 'AndyCarolan']\n",
      "Group 3, clients ['petehopkins', 'tweeteradder16']\n",
      "Group 4, clients ['fromthestars', 'rkb09', 'wickedground', 'schaeferj89', 'ElementsOfJazz', 'AvonteNikole', 'ameym21', 'hannahkin']\n"
     ]
    },
    {
     "name": "stderr",
     "output_type": "stream",
     "text": [
      "\r",
      "Epoch:   0%|          | 0/20 [00:00<?, ?it/s]"
     ]
    },
    {
     "name": "stdout",
     "output_type": "stream",
     "text": [
      "Group 0\n",
      "At round 73 accuracy: 0.6142214957090315\n",
      "At round 73 training accuracy: 0.6046711871703799\n",
      "At round 73 training loss: 1.7469098961509835\n",
      "Group 1\n",
      "At round 73 accuracy: 0.899171270718232\n",
      "At round 73 training accuracy: 0.9141414141414141\n",
      "At round 73 training loss: 0.397669923719399\n",
      "Group 2\n",
      "At round 73 accuracy: 0.7280927835051546\n",
      "At round 73 training accuracy: 0.7624495289367429\n",
      "At round 73 training loss: 0.5573910282737379\n",
      "Group 3\n",
      "At round 73 accuracy: 0.6530973451327433\n",
      "At round 73 training accuracy: 0.6560773480662984\n",
      "At round 73 training loss: 2.9931900166358756\n",
      "Group 4\n",
      "At round 73 accuracy: 0.6661554192229039\n",
      "At round 73 training accuracy: 0.674327430039205\n",
      "At round 73 training loss: 0.7570511823580751\n",
      "At round 73 mean test accuracy: 0.684152401987852 mean train accuracy: 0.6925224833188279 mean train loss: 1.1875228262903925                     number of test client: 658\n",
      "The client-group discrepancy are: [30.16014005  2.1765587  41.21257822 37.28259545 21.52542691 27.31275583]\n",
      "Begin group  0 training\n"
     ]
    },
    {
     "name": "stderr",
     "output_type": "stream",
     "text": [
      "Epoch:   5%|▌         | 1/20 [00:00<00:03,  6.30it/s] "
     ]
    },
    {
     "name": "stdout",
     "output_type": "stream",
     "text": [
      "Begin group  1 training\n"
     ]
    },
    {
     "name": "stderr",
     "output_type": "stream",
     "text": [
      "Epoch:   5%|▌         | 1/20 [00:00<00:02,  6.87it/s] "
     ]
    },
    {
     "name": "stdout",
     "output_type": "stream",
     "text": [
      "Begin group  2 training\n"
     ]
    },
    {
     "name": "stderr",
     "output_type": "stream",
     "text": [
      "Epoch:   5%|▌         | 1/20 [00:00<00:02,  6.35it/s] "
     ]
    },
    {
     "name": "stdout",
     "output_type": "stream",
     "text": [
      "Begin group  3 training\n"
     ]
    },
    {
     "name": "stderr",
     "output_type": "stream",
     "text": [
      "Epoch:   5%|▌         | 1/20 [00:00<00:03,  5.97it/s] "
     ]
    },
    {
     "name": "stdout",
     "output_type": "stream",
     "text": [
      "Begin group  4 training\n"
     ]
    },
    {
     "name": "stderr",
     "output_type": "stream",
     "text": [
      "                                                      \r"
     ]
    },
    {
     "name": "stdout",
     "output_type": "stream",
     "text": [
      "Training groups takes 61.128913164138794s seconds\n",
      "Scheduling clients takes 2.993330478668213s seconds\n",
      "Group 0 is empty.\n",
      "Group 1, clients ['mp3mad']\n",
      "Group 2, clients ['natalieannem', 'kels450', 'taylormcfly', 'bexmith', 'iamloz_JsPR', 'AliciaWag', 'donniesgirl01', 'weeps', 'scodal', 'janabelle_xo', 'RealWorldCara', 'WallTweet']\n",
      "Group 3 is empty.\n",
      "Group 4, clients ['SheBeeGee', 'jonasnessica', 'TheEmmaHamilton', 'sampan22', 'crrystalbabe', 'neondeception', 'Saffy']\n"
     ]
    },
    {
     "name": "stderr",
     "output_type": "stream",
     "text": [
      "\r",
      "Epoch:   0%|          | 0/20 [00:00<?, ?it/s]"
     ]
    },
    {
     "name": "stdout",
     "output_type": "stream",
     "text": [
      "Group 0\n",
      "At round 74 accuracy: 0.6120653540008378\n",
      "At round 74 training accuracy: 0.5969556585043018\n",
      "At round 74 training loss: 3.185984718381164\n",
      "Group 1\n",
      "At round 74 accuracy: 0.899171270718232\n",
      "At round 74 training accuracy: 0.9141414141414141\n",
      "At round 74 training loss: 0.33159541277131566\n",
      "Group 2\n",
      "At round 74 accuracy: 0.6990349819059107\n",
      "At round 74 training accuracy: 0.750236518448439\n",
      "At round 74 training loss: 0.5353283250627459\n",
      "Group 3\n",
      "At round 74 accuracy: 0.6530973451327433\n",
      "At round 74 training accuracy: 0.6560773480662984\n",
      "At round 74 training loss: 3.0902188365861236\n",
      "Group 4\n",
      "At round 74 accuracy: 0.6673511293634496\n",
      "At round 74 training accuracy: 0.6722335369993211\n",
      "At round 74 training loss: 1.1221594238596875\n",
      "At round 74 mean test accuracy: 0.6783850590497116 mean train accuracy: 0.6883861889814915 mean train loss: 1.738104111137039                     number of test client: 662\n",
      "The client-group discrepancy are: [31.243669    0.         10.65891293 36.84459031  0.         24.58276905]\n",
      "Begin group  1 training\n"
     ]
    },
    {
     "name": "stderr",
     "output_type": "stream",
     "text": [
      "Epoch:   5%|▌         | 1/20 [00:00<00:03,  5.33it/s] "
     ]
    },
    {
     "name": "stdout",
     "output_type": "stream",
     "text": [
      "Begin group  2 training\n"
     ]
    },
    {
     "name": "stderr",
     "output_type": "stream",
     "text": [
      "Epoch:  10%|█         | 2/20 [00:00<00:01, 10.74it/s] "
     ]
    },
    {
     "name": "stdout",
     "output_type": "stream",
     "text": [
      "Begin group  4 training\n"
     ]
    },
    {
     "name": "stderr",
     "output_type": "stream",
     "text": [
      "                                                      \r"
     ]
    },
    {
     "name": "stdout",
     "output_type": "stream",
     "text": [
      "Training groups takes 64.7276816368103s seconds\n",
      "Scheduling clients takes 3.0391528606414795s seconds\n",
      "Group 0, clients ['Daddys_pet']\n",
      "Group 1 is empty.\n",
      "Group 2, clients ['smilin808hapa', 'nyc_specialist', 'AllTheSausages', 'MsStaceyK', 'martinpolley', 'ToksieOlu', 'Jayme1988', 'SarcasticFairy', 'bexmith', 'JoReynolds55', 'steph_davies', 'MrsBamBam', 'nic0lepaula', 'paigeebaby']\n",
      "Group 3, clients ['quinland', 'nsane8', 'Sunshineliron']\n",
      "Group 4, clients ['Nathan133', 'crrystalbabe']\n"
     ]
    },
    {
     "name": "stderr",
     "output_type": "stream",
     "text": [
      "Epoch:   5%|▌         | 1/20 [00:00<00:02,  9.05it/s]"
     ]
    },
    {
     "name": "stdout",
     "output_type": "stream",
     "text": [
      "Group 0\n",
      "At round 75 accuracy: 0.6121739130434782\n",
      "At round 75 training accuracy: 0.5964912280701754\n",
      "At round 75 training loss: 3.1847441275392088\n",
      "Group 1\n",
      "At round 75 accuracy: 0.8748241912798875\n",
      "At round 75 training accuracy: 0.8966911764705883\n",
      "At round 75 training loss: 0.7856565346468869\n",
      "Group 2\n",
      "At round 75 accuracy: 0.5902547065337763\n",
      "At round 75 training accuracy: 0.6124602486267707\n",
      "At round 75 training loss: 0.9628327117379875\n",
      "Group 3\n",
      "At round 75 accuracy: 0.6744186046511628\n",
      "At round 75 training accuracy: 0.6757457846952011\n",
      "At round 75 training loss: 2.9118100983883335\n",
      "Group 4\n",
      "At round 75 accuracy: 0.569620253164557\n",
      "At round 75 training accuracy: 0.5714285714285714\n",
      "At round 75 training loss: 1.3468726913483156\n",
      "At round 75 mean test accuracy: 0.6263841421736158 mean train accuracy: 0.6299209770114943 mean train loss: 1.9023497205269149                     number of test client: 665\n",
      "The client-group discrepancy are: [31.29360637 44.68793997  0.         32.52046334 40.07597408  2.83488926]\n",
      "Begin group  0 training\n"
     ]
    },
    {
     "name": "stderr",
     "output_type": "stream",
     "text": [
      "Epoch:   5%|▌         | 1/20 [00:00<00:02,  7.22it/s] "
     ]
    },
    {
     "name": "stdout",
     "output_type": "stream",
     "text": [
      "Begin group  2 training\n"
     ]
    },
    {
     "name": "stderr",
     "output_type": "stream",
     "text": [
      "Epoch:   0%|          | 0/20 [00:00<?, ?it/s]         "
     ]
    },
    {
     "name": "stdout",
     "output_type": "stream",
     "text": [
      "Begin group  3 training\n"
     ]
    },
    {
     "name": "stderr",
     "output_type": "stream",
     "text": [
      "Epoch:   5%|▌         | 1/20 [00:00<00:02,  6.64it/s] "
     ]
    },
    {
     "name": "stdout",
     "output_type": "stream",
     "text": [
      "Begin group  4 training\n"
     ]
    },
    {
     "name": "stderr",
     "output_type": "stream",
     "text": [
      "                                                      \r"
     ]
    },
    {
     "name": "stdout",
     "output_type": "stream",
     "text": [
      "Training groups takes 78.20451378822327s seconds\n",
      "Scheduling clients takes 3.0663304328918457s seconds\n",
      "Group 0, clients ['xmiyix', 'makeupbylinvia', 'robcthegeek', 'MGMarts', 'musicalmover', '18percentgrey']\n",
      "Group 1 is empty.\n",
      "Group 2, clients ['gerrymoth', 'CherylH77', 'lameymacdonald', 'LiverpoolFan74', 'megspeaks', 'iamcheerbear', 'Kat77', 'kyoisorange', 'kayasmith', 'LauraLxox', 'youngnik718', 'Rikou26', 'mnstrsnmnchkns']\n",
      "Group 3 is empty.\n",
      "Group 4, clients ['suewaters']\n"
     ]
    },
    {
     "name": "stderr",
     "output_type": "stream",
     "text": [
      "Epoch:   5%|▌         | 1/20 [00:00<00:01,  9.93it/s]"
     ]
    },
    {
     "name": "stdout",
     "output_type": "stream",
     "text": [
      "Group 0\n",
      "At round 76 accuracy: 0.6271551724137931\n",
      "At round 76 training accuracy: 0.616695059625213\n",
      "At round 76 training loss: 1.5108997746548958\n",
      "Group 1\n",
      "At round 76 accuracy: 0.8742857142857143\n",
      "At round 76 training accuracy: 0.896976483762598\n",
      "At round 76 training loss: 0.7891842974603659\n",
      "Group 2\n",
      "At round 76 accuracy: 0.6574122577265584\n",
      "At round 76 training accuracy: 0.6864813039309684\n",
      "At round 76 training loss: 0.6880600005046397\n",
      "Group 3\n",
      "At round 76 accuracy: 0.6706484641638225\n",
      "At round 76 training accuracy: 0.6749666518452646\n",
      "At round 76 training loss: 2.4498793624943285\n",
      "Group 4\n",
      "At round 76 accuracy: 0.5762897914379802\n",
      "At round 76 training accuracy: 0.5852313941679965\n",
      "At round 76 training loss: 1.9255666035352725\n",
      "At round 76 mean test accuracy: 0.6494480032710918 mean train accuracy: 0.6587531779281699 mean train loss: 1.404516510790111                     number of test client: 667\n",
      "The client-group discrepancy are: [36.24961681 42.94265479  0.         35.33523704  0.          7.97832597]\n",
      "Begin group  0 training\n"
     ]
    },
    {
     "name": "stderr",
     "output_type": "stream",
     "text": [
      "Epoch:   0%|          | 0/20 [00:00<?, ?it/s]         "
     ]
    },
    {
     "name": "stdout",
     "output_type": "stream",
     "text": [
      "Begin group  2 training\n"
     ]
    },
    {
     "name": "stderr",
     "output_type": "stream",
     "text": [
      "Epoch:   0%|          | 0/20 [00:00<?, ?it/s]         "
     ]
    },
    {
     "name": "stdout",
     "output_type": "stream",
     "text": [
      "Begin group  4 training\n"
     ]
    },
    {
     "name": "stderr",
     "output_type": "stream",
     "text": [
      "                                                      \r"
     ]
    },
    {
     "name": "stdout",
     "output_type": "stream",
     "text": [
      "Training groups takes 64.43689441680908s seconds\n",
      "Scheduling clients takes 3.010765552520752s seconds\n",
      "Group 0, clients ['garyshort', 'mandiebear']\n",
      "Group 1, clients ['RabbiShaiSpecht']\n",
      "Group 2, clients ['kwells2416', 'JeniPoynter_x', 'steph_davies', 'mr_billiam', 'sweetcherrypop', 'alyb_', 'RealWorldCara', 'jessiiemcfly', 'CaraNinaMcfly', 'winniedepoohi', 'LittlestarRed', 'shawnlimtianjun', 'magicswebpage']\n",
      "Group 3 is empty.\n",
      "Group 4, clients ['xxLOVExxPEACE', 'MelFresh27', 'eysies', 'pearlbones']\n"
     ]
    },
    {
     "name": "stderr",
     "output_type": "stream",
     "text": [
      "Epoch:   5%|▌         | 1/20 [00:00<00:02,  9.15it/s]"
     ]
    },
    {
     "name": "stdout",
     "output_type": "stream",
     "text": [
      "Group 0\n",
      "At round 77 accuracy: 0.6425772747061385\n",
      "At round 77 training accuracy: 0.6321944508140335\n",
      "At round 77 training loss: 1.7460155053680553\n",
      "Group 1\n",
      "At round 77 accuracy: 0.8762446657183499\n",
      "At round 77 training accuracy: 0.9\n",
      "At round 77 training loss: 0.7631904741624719\n",
      "Group 2\n",
      "At round 77 accuracy: 0.6958311888831703\n",
      "At round 77 training accuracy: 0.7261584051724138\n",
      "At round 77 training loss: 0.6882677969175536\n",
      "Group 3\n",
      "At round 77 accuracy: 0.6706484641638225\n",
      "At round 77 training accuracy: 0.6749666518452646\n",
      "At round 77 training loss: 2.4498793624943285\n",
      "Group 4\n",
      "At round 77 accuracy: 0.5835176991150443\n",
      "At round 77 training accuracy: 0.5925168079508916\n",
      "At round 77 training loss: 1.0563897719507118\n",
      "At round 77 mean test accuracy: 0.6667575303257463 mean train accuracy: 0.6766928062448526 mean train loss: 1.2578876085354553                     number of test client: 667\n",
      "The client-group discrepancy are: [30.06898193 43.32929195 41.1761667  30.21327563  0.         20.19307618]\n",
      "Begin group  0 training\n"
     ]
    },
    {
     "name": "stderr",
     "output_type": "stream",
     "text": [
      "Epoch:   5%|▌         | 1/20 [00:00<00:02,  7.83it/s] "
     ]
    },
    {
     "name": "stdout",
     "output_type": "stream",
     "text": [
      "Begin group  1 training\n"
     ]
    },
    {
     "name": "stderr",
     "output_type": "stream",
     "text": [
      "Epoch:   5%|▌         | 1/20 [00:00<00:02,  7.21it/s] "
     ]
    },
    {
     "name": "stdout",
     "output_type": "stream",
     "text": [
      "Begin group  2 training\n"
     ]
    },
    {
     "name": "stderr",
     "output_type": "stream",
     "text": [
      "Epoch:   5%|▌         | 1/20 [00:00<00:02,  6.76it/s] "
     ]
    },
    {
     "name": "stdout",
     "output_type": "stream",
     "text": [
      "Begin group  4 training\n"
     ]
    },
    {
     "name": "stderr",
     "output_type": "stream",
     "text": [
      "                                                      \r"
     ]
    },
    {
     "name": "stdout",
     "output_type": "stream",
     "text": [
      "Training groups takes 66.15704345703125s seconds\n",
      "Scheduling clients takes 3.0294582843780518s seconds\n",
      "Group 0, clients ['mandiebear']\n",
      "Group 1, clients ['CynthiaY29']\n",
      "Group 2, clients ['TLM26', 'alltimeASIAN', 'itsJohno', 'sunshinehollyyy', 'NicJJ']\n",
      "Group 3 is empty.\n",
      "Group 4, clients ['willtompsett', 'Shinybiscuit', 'VIBEAUTY', 'funkybrownchick', 'makeupbylinvia', 'LiluYvett', 'DWsRoseC', 'vesula', 'Al_ice', 'krapposelli', 'TessMorris', 'niccccolle', 'amberwhiting']\n"
     ]
    },
    {
     "name": "stderr",
     "output_type": "stream",
     "text": [
      "\r",
      "Epoch:   0%|          | 0/20 [00:00<?, ?it/s]"
     ]
    },
    {
     "name": "stdout",
     "output_type": "stream",
     "text": [
      "Group 0\n",
      "At round 78 accuracy: 0.6318827708703375\n",
      "At round 78 training accuracy: 0.6136390221078488\n",
      "At round 78 training loss: 2.686430182751723\n",
      "Group 1\n",
      "At round 78 accuracy: 0.8776371308016878\n",
      "At round 78 training accuracy: 0.9000367511944138\n",
      "At round 78 training loss: 0.7697241503021502\n",
      "Group 2\n",
      "At round 78 accuracy: 0.7001537672988212\n",
      "At round 78 training accuracy: 0.7355150214592274\n",
      "At round 78 training loss: 0.7748620089595311\n",
      "Group 3\n",
      "At round 78 accuracy: 0.6706484641638225\n",
      "At round 78 training accuracy: 0.6749666518452646\n",
      "At round 78 training loss: 2.4498793624943285\n",
      "Group 4\n",
      "At round 78 accuracy: 0.6382070437566703\n",
      "At round 78 training accuracy: 0.6571267446778514\n",
      "At round 78 training loss: 0.8769291446388112\n",
      "At round 78 mean test accuracy: 0.6783292649850827 mean train accuracy: 0.6896822003705287 mean train loss: 1.5165996612972683                     number of test client: 671\n",
      "The client-group discrepancy are: [24.70800718  0.60490961 39.78998259 23.44968207  0.         25.88591085]\n",
      "Begin group  0 training\n"
     ]
    },
    {
     "name": "stderr",
     "output_type": "stream",
     "text": [
      "Epoch:   5%|▌         | 1/20 [00:00<00:02,  7.33it/s] "
     ]
    },
    {
     "name": "stdout",
     "output_type": "stream",
     "text": [
      "Begin group  1 training\n"
     ]
    },
    {
     "name": "stderr",
     "output_type": "stream",
     "text": [
      "Epoch:   5%|▌         | 1/20 [00:00<00:03,  5.64it/s] "
     ]
    },
    {
     "name": "stdout",
     "output_type": "stream",
     "text": [
      "Begin group  2 training\n"
     ]
    },
    {
     "name": "stderr",
     "output_type": "stream",
     "text": [
      "Epoch:   0%|          | 0/20 [00:00<?, ?it/s]         "
     ]
    },
    {
     "name": "stdout",
     "output_type": "stream",
     "text": [
      "Begin group  4 training\n"
     ]
    },
    {
     "name": "stderr",
     "output_type": "stream",
     "text": [
      "                                                      \r"
     ]
    },
    {
     "name": "stdout",
     "output_type": "stream",
     "text": [
      "Training groups takes 69.97018480300903s seconds\n",
      "Scheduling clients takes 3.0259861946105957s seconds\n",
      "Group 0, clients ['Jinxie_G', 'dudeman718']\n",
      "Group 1, clients ['hopeinhell', 'majastevanovich', 'justinjap']\n",
      "Group 2, clients ['kjgriffin18', 'allison__', 'Commsguy']\n",
      "Group 3 is empty.\n",
      "Group 4, clients ['SheBeeGee', 'monashoj', 'sinfulsignorita', 'DirtyRose17', 'iLadySyncere', 'annzoo', '_strokemyEGO', 'AliciaWag', 'scodal', 'esmeg', 'limeice', 'youroryoure']\n"
     ]
    },
    {
     "name": "stderr",
     "output_type": "stream",
     "text": [
      "\r",
      "Epoch:   0%|          | 0/20 [00:00<?, ?it/s]"
     ]
    },
    {
     "name": "stdout",
     "output_type": "stream",
     "text": [
      "Group 0\n",
      "At round 79 accuracy: 0.6292834890965732\n",
      "At round 79 training accuracy: 0.613841642228739\n",
      "At round 79 training loss: 3.152441553962905\n",
      "Group 1\n",
      "At round 79 accuracy: 0.8703448275862069\n",
      "At round 79 training accuracy: 0.893294881038212\n",
      "At round 79 training loss: 0.5558871637238996\n",
      "Group 2\n",
      "At round 79 accuracy: 0.7120972002113048\n",
      "At round 79 training accuracy: 0.7441282122133186\n",
      "At round 79 training loss: 1.0120999178403218\n",
      "Group 3\n",
      "At round 79 accuracy: 0.6706484641638225\n",
      "At round 79 training accuracy: 0.6749666518452646\n",
      "At round 79 training loss: 2.4498793624943285\n",
      "Group 4\n",
      "At round 79 accuracy: 0.6334355828220859\n",
      "At round 79 training accuracy: 0.6693679092382496\n",
      "At round 79 training loss: 0.8794140829943696\n",
      "At round 79 mean test accuracy: 0.6784123126771973 mean train accuracy: 0.6942532813054274 mean train loss: 1.6943290174449155                     number of test client: 675\n",
      "The client-group discrepancy are: [32.79273265 42.83722894 40.74874363 20.16615713  0.         32.28629107]\n",
      "Begin group  0 training\n"
     ]
    },
    {
     "name": "stderr",
     "output_type": "stream",
     "text": [
      "Epoch:   5%|▌         | 1/20 [00:00<00:01,  9.98it/s] "
     ]
    },
    {
     "name": "stdout",
     "output_type": "stream",
     "text": [
      "Begin group  1 training\n"
     ]
    },
    {
     "name": "stderr",
     "output_type": "stream",
     "text": [
      "Epoch:   0%|          | 0/20 [00:00<?, ?it/s]         "
     ]
    },
    {
     "name": "stdout",
     "output_type": "stream",
     "text": [
      "Begin group  2 training\n"
     ]
    },
    {
     "name": "stderr",
     "output_type": "stream",
     "text": [
      "Epoch:   5%|▌         | 1/20 [00:00<00:02,  8.68it/s] "
     ]
    },
    {
     "name": "stdout",
     "output_type": "stream",
     "text": [
      "Begin group  4 training\n"
     ]
    },
    {
     "name": "stderr",
     "output_type": "stream",
     "text": [
      "                                                      \r"
     ]
    },
    {
     "name": "stdout",
     "output_type": "stream",
     "text": [
      "Training groups takes 60.93985056877136s seconds\n",
      "Scheduling clients takes 3.136824131011963s seconds\n",
      "Group 0 is empty.\n",
      "Group 1, clients ['Joy_Inc', 'paulmason10538', 'MarilynM']\n",
      "Group 2, clients ['kwells2416', 'ThomasGudgeon', 'kjgriffin18', 'TwistedHelen', 'musicalmover', 'pawsthejaws']\n",
      "Group 3, clients ['toosweet4rnr']\n",
      "Group 4, clients ['katherinemarsh', 'SarcasticFairy', 'rorambenjimouse', 'katjrobertson', 'eatlikeagirl', 'anambanana', 'irishsamom', 'NatalieGolding', 'sky14kemea', 'alwaysloveu_Ci']\n"
     ]
    },
    {
     "name": "stderr",
     "output_type": "stream",
     "text": [
      "Epoch:   5%|▌         | 1/20 [00:00<00:02,  8.89it/s]"
     ]
    },
    {
     "name": "stdout",
     "output_type": "stream",
     "text": [
      "Group 0\n",
      "At round 80 accuracy: 0.6391563502980284\n",
      "At round 80 training accuracy: 0.6253473480729733\n",
      "At round 80 training loss: 3.159222387799059\n",
      "Group 1\n",
      "At round 80 accuracy: 0.893387314439946\n",
      "At round 80 training accuracy: 0.9111111111111111\n",
      "At round 80 training loss: 0.5599398486823339\n",
      "Group 2\n",
      "At round 80 accuracy: 0.7197686645636172\n",
      "At round 80 training accuracy: 0.7483152248659056\n",
      "At round 80 training loss: 1.1685386001937266\n",
      "Group 3\n",
      "At round 80 accuracy: 0.6809917355371901\n",
      "At round 80 training accuracy: 0.683010752688172\n",
      "At round 80 training loss: 2.3903575214111217\n",
      "Group 4\n",
      "At round 80 accuracy: 0.6299407114624506\n",
      "At round 80 training accuracy: 0.6588772845953003\n",
      "At round 80 training loss: 1.0959927284803155\n",
      "At round 80 mean test accuracy: 0.6858982959881926 mean train accuracy: 0.6992033276931754 mean train loss: 1.7690934459347112                     number of test client: 678\n",
      "The client-group discrepancy are: [35.93237095  0.         30.95931223 23.55764675 39.43563675 44.49879651]\n",
      "Begin group  1 training\n"
     ]
    },
    {
     "name": "stderr",
     "output_type": "stream",
     "text": [
      "Epoch:   5%|▌         | 1/20 [00:00<00:02,  6.82it/s] "
     ]
    },
    {
     "name": "stdout",
     "output_type": "stream",
     "text": [
      "Begin group  2 training\n"
     ]
    },
    {
     "name": "stderr",
     "output_type": "stream",
     "text": [
      "Epoch:   0%|          | 0/20 [00:00<?, ?it/s]         "
     ]
    },
    {
     "name": "stdout",
     "output_type": "stream",
     "text": [
      "Begin group  3 training\n"
     ]
    },
    {
     "name": "stderr",
     "output_type": "stream",
     "text": [
      "Epoch:   5%|▌         | 1/20 [00:00<00:02,  9.18it/s] "
     ]
    },
    {
     "name": "stdout",
     "output_type": "stream",
     "text": [
      "Begin group  4 training\n"
     ]
    },
    {
     "name": "stderr",
     "output_type": "stream",
     "text": [
      "                                                      \r"
     ]
    },
    {
     "name": "stdout",
     "output_type": "stream",
     "text": [
      "Training groups takes 66.55334305763245s seconds\n",
      "Scheduling clients takes 3.057878017425537s seconds\n",
      "Group 0, clients ['tweeteradder9']\n",
      "Group 1, clients ['GlitzyGloss']\n",
      "Group 2, clients ['AlluringBri', 'imafanatic', 'Bowl_the_Bunny', 'angel9293', 'froggie775', 'MAGGIECHICKEN', 'DarianMarie43', 'marianaguidil', 'toodamnninja', 'x0me880x', 'youngnik718', 'nikkimaltby']\n",
      "Group 3 is empty.\n",
      "Group 4, clients ['nicolalalalala', 'katementon', 'exortabreedoll', 'janeybelle15', 'minorityx', 'webmaster_paul']\n"
     ]
    },
    {
     "name": "stderr",
     "output_type": "stream",
     "text": [
      "\r",
      "Epoch:   0%|          | 0/20 [00:00<?, ?it/s]"
     ]
    },
    {
     "name": "stdout",
     "output_type": "stream",
     "text": [
      "Group 0\n",
      "At round 81 accuracy: 0.6430581613508443\n",
      "At round 81 training accuracy: 0.6294742039002715\n",
      "At round 81 training loss: 3.1219972174936017\n",
      "Group 1\n",
      "At round 81 accuracy: 0.8818791946308725\n",
      "At round 81 training accuracy: 0.8962131837307152\n",
      "At round 81 training loss: 0.4450263467906004\n",
      "Group 2\n",
      "At round 81 accuracy: 0.6862449799196787\n",
      "At round 81 training accuracy: 0.7275476660092045\n",
      "At round 81 training loss: 0.6386066669993774\n",
      "Group 3\n",
      "At round 81 accuracy: 0.6262975778546713\n",
      "At round 81 training accuracy: 0.6329284750337382\n",
      "At round 81 training loss: 1.570003399300945\n",
      "Group 4\n",
      "At round 81 accuracy: 0.6523879862136879\n",
      "At round 81 training accuracy: 0.6837172979304958\n",
      "At round 81 training loss: 0.7631846876131531\n",
      "At round 81 mean test accuracy: 0.6795934741909602 mean train accuracy: 0.6973124890216055 mean train loss: 1.4324224771223635                     number of test client: 681\n",
      "The client-group discrepancy are: [36.04031005 43.478065   41.30025184 39.70530483  0.         26.5940377 ]\n",
      "Begin group  0 training\n"
     ]
    },
    {
     "name": "stderr",
     "output_type": "stream",
     "text": [
      "Epoch:   0%|          | 0/20 [00:00<?, ?it/s]         "
     ]
    },
    {
     "name": "stdout",
     "output_type": "stream",
     "text": [
      "Begin group  1 training\n"
     ]
    },
    {
     "name": "stderr",
     "output_type": "stream",
     "text": [
      "Epoch:   0%|          | 0/20 [00:00<?, ?it/s]         "
     ]
    },
    {
     "name": "stdout",
     "output_type": "stream",
     "text": [
      "Begin group  2 training\n"
     ]
    },
    {
     "name": "stderr",
     "output_type": "stream",
     "text": [
      "Epoch:   5%|▌         | 1/20 [00:00<00:02,  7.43it/s] "
     ]
    },
    {
     "name": "stdout",
     "output_type": "stream",
     "text": [
      "Begin group  4 training\n"
     ]
    },
    {
     "name": "stderr",
     "output_type": "stream",
     "text": [
      "                                                      \r"
     ]
    },
    {
     "name": "stdout",
     "output_type": "stream",
     "text": [
      "Training groups takes 66.31592512130737s seconds\n",
      "Scheduling clients takes 3.0620176792144775s seconds\n",
      "Group 0 is empty.\n",
      "Group 1 is empty.\n",
      "Group 2, clients ['Bellaleyla', 'MummaBear', 'LucyAnnabel', 'txcranberry', 'letssingbaby', 'lameymacdonald', 'briethehippo', 'MrsBamBam', 'adlyman', 'Rkoluvsdiana']\n",
      "Group 3 is empty.\n",
      "Group 4, clients ['Darth_Disco', 'TessMorris', 'tannwick', 'crrystalbabe', 'socilover', 'nicolalalalala', 'purplepleather', 'suebrody1', 'mariaeduardab', 'TeeQ2']\n"
     ]
    },
    {
     "name": "stderr",
     "output_type": "stream",
     "text": [
      "Epoch:   5%|▌         | 1/20 [00:00<00:02,  7.44it/s]"
     ]
    },
    {
     "name": "stdout",
     "output_type": "stream",
     "text": [
      "Group 0\n",
      "At round 82 accuracy: 0.6459237819585142\n",
      "At round 82 training accuracy: 0.6333375682886545\n",
      "At round 82 training loss: 3.1783236144283\n",
      "Group 1\n",
      "At round 82 accuracy: 0.8998628257887518\n",
      "At round 82 training accuracy: 0.9160989602007888\n",
      "At round 82 training loss: 0.5845339638672947\n",
      "Group 2\n",
      "At round 82 accuracy: 0.6815776815776816\n",
      "At round 82 training accuracy: 0.7152935248173343\n",
      "At round 82 training loss: 0.7725019217349127\n",
      "Group 3\n",
      "At round 82 accuracy: 0.6262975778546713\n",
      "At round 82 training accuracy: 0.6329284750337382\n",
      "At round 82 training loss: 1.570003399300945\n",
      "Group 4\n",
      "At round 82 accuracy: 0.5968612064737616\n",
      "At round 82 training accuracy: 0.6018650433881622\n",
      "At round 82 training loss: 1.1169132840859584\n",
      "At round 82 mean test accuracy: 0.6656441717791411 mean train accuracy: 0.6752154719360942 mean train loss: 1.572867201744673                     number of test client: 683\n",
      "The client-group discrepancy are: [25.84425799  0.          0.         31.70722151  0.         19.98129448]\n",
      "Begin group  2 training\n"
     ]
    },
    {
     "name": "stderr",
     "output_type": "stream",
     "text": [
      "Epoch:   5%|▌         | 1/20 [00:00<00:02,  7.04it/s] "
     ]
    },
    {
     "name": "stdout",
     "output_type": "stream",
     "text": [
      "Begin group  4 training\n"
     ]
    },
    {
     "name": "stderr",
     "output_type": "stream",
     "text": [
      "                                                      \r"
     ]
    },
    {
     "name": "stdout",
     "output_type": "stream",
     "text": [
      "Training groups takes 74.21635246276855s seconds\n",
      "Scheduling clients takes 3.008903741836548s seconds\n",
      "Group 0, clients ['tweeteradder9']\n",
      "Group 1, clients ['UniqueGuitarist', 'Knot2serious', 'Momodel180', 'AshesOfLilies']\n",
      "Group 2, clients ['froggie775', 'YoungA2985', 'danni82']\n",
      "Group 3, clients ['Custardcuppcake', 'pageoneresults', 'YvetteObeney']\n",
      "Group 4, clients ['mannykimchi', 'paigeebaby', 'wickedground', 'suebrody1', 'kittenspawn', 'sexidance', 'f2point4', 'Dumskull', 'lauzmur']\n"
     ]
    },
    {
     "name": "stderr",
     "output_type": "stream",
     "text": [
      "\r",
      "Epoch:   0%|          | 0/20 [00:00<?, ?it/s]"
     ]
    },
    {
     "name": "stdout",
     "output_type": "stream",
     "text": [
      "Group 0\n",
      "At round 83 accuracy: 0.6464746772591857\n",
      "At round 83 training accuracy: 0.6343185979597175\n",
      "At round 83 training loss: 3.1649621468412934\n",
      "Group 1\n",
      "At round 83 accuracy: 0.9029754204398448\n",
      "At round 83 training accuracy: 0.9182984469952734\n",
      "At round 83 training loss: 0.5668643610038854\n",
      "Group 2\n",
      "At round 83 accuracy: 0.6993716771387144\n",
      "At round 83 training accuracy: 0.724600962756524\n",
      "At round 83 training loss: 0.8619083864414099\n",
      "Group 3\n",
      "At round 83 accuracy: 0.6228668941979523\n",
      "At round 83 training accuracy: 0.637250554323725\n",
      "At round 83 training loss: 1.5618534388468743\n",
      "Group 4\n",
      "At round 83 accuracy: 0.6426182513139035\n",
      "At round 83 training accuracy: 0.6663721282504418\n",
      "At round 83 training loss: 0.8259077480242006\n",
      "At round 83 mean test accuracy: 0.6844061048440611 mean train accuracy: 0.6975835977544544 mean train loss: 1.4905358729055387                     number of test client: 687\n",
      "The client-group discrepancy are: [32.98931318  0.         40.73576127 30.25989728 28.91304663 35.48048742]\n",
      "Begin group  0 training\n"
     ]
    },
    {
     "name": "stderr",
     "output_type": "stream",
     "text": [
      "Epoch:   5%|▌         | 1/20 [00:00<00:03,  5.84it/s] "
     ]
    },
    {
     "name": "stdout",
     "output_type": "stream",
     "text": [
      "Begin group  1 training\n"
     ]
    },
    {
     "name": "stderr",
     "output_type": "stream",
     "text": [
      "Epoch:   5%|▌         | 1/20 [00:00<00:02,  7.09it/s] "
     ]
    },
    {
     "name": "stdout",
     "output_type": "stream",
     "text": [
      "Begin group  2 training\n"
     ]
    },
    {
     "name": "stderr",
     "output_type": "stream",
     "text": [
      "Epoch:   5%|▌         | 1/20 [00:00<00:02,  7.25it/s] "
     ]
    },
    {
     "name": "stdout",
     "output_type": "stream",
     "text": [
      "Begin group  3 training\n"
     ]
    },
    {
     "name": "stderr",
     "output_type": "stream",
     "text": [
      "Epoch:   5%|▌         | 1/20 [00:00<00:02,  6.43it/s] "
     ]
    },
    {
     "name": "stdout",
     "output_type": "stream",
     "text": [
      "Begin group  4 training\n"
     ]
    },
    {
     "name": "stderr",
     "output_type": "stream",
     "text": [
      "                                                      \r"
     ]
    },
    {
     "name": "stdout",
     "output_type": "stream",
     "text": [
      "Training groups takes 61.87745428085327s seconds\n",
      "Scheduling clients takes 3.121253490447998s seconds\n",
      "Group 0 is empty.\n",
      "Group 1, clients ['Bizcuits', 'imnangl', 'LadyParadis', 'Momodel180']\n",
      "Group 2, clients ['MTVnHollyWEST23', 'SandyCalico', 'Commsguy', 'tamaryn']\n",
      "Group 3, clients ['chiniehdiaz', 'frankparker', 'StampfliTurci', 'Whatever_Ista', 'carlos_teran']\n",
      "Group 4, clients ['mr_billiam', 'Christyxcore', 'MsStaceyK', 'gazebow', 'nikkimaltby', 'chinatheblack', 'Tracey_Mac']\n"
     ]
    },
    {
     "name": "stderr",
     "output_type": "stream",
     "text": [
      "\r",
      "Epoch:   0%|          | 0/20 [00:00<?, ?it/s]"
     ]
    },
    {
     "name": "stdout",
     "output_type": "stream",
     "text": [
      "Group 0\n",
      "At round 84 accuracy: 0.6488664987405541\n",
      "At round 84 training accuracy: 0.6339392331166247\n",
      "At round 84 training loss: 3.1992314841123575\n",
      "Group 1\n",
      "At round 84 accuracy: 0.8946047678795483\n",
      "At round 84 training accuracy: 0.9073042908614477\n",
      "At round 84 training loss: 0.5112265963993141\n",
      "Group 2\n",
      "At round 84 accuracy: 0.6776900296150049\n",
      "At round 84 training accuracy: 0.7069478587139345\n",
      "At round 84 training loss: 0.7881291129368831\n",
      "Group 3\n",
      "At round 84 accuracy: 0.6956521739130435\n",
      "At round 84 training accuracy: 0.6976180863948325\n",
      "At round 84 training loss: 1.146163382133951\n",
      "Group 4\n",
      "At round 84 accuracy: 0.6375404530744336\n",
      "At round 84 training accuracy: 0.6496644295302013\n",
      "At round 84 training loss: 0.8664383979960867\n",
      "At round 84 mean test accuracy: 0.6829940906106369 mean train accuracy: 0.6920768514366528 mean train loss: 1.4385271904237467                     number of test client: 690\n",
      "The client-group discrepancy are: [35.48251295  0.         30.77120548 24.16460373 41.19325996 40.56296033]\n",
      "Begin group  1 training\n"
     ]
    },
    {
     "name": "stderr",
     "output_type": "stream",
     "text": [
      "Epoch:   0%|          | 0/20 [00:00<?, ?it/s]         "
     ]
    },
    {
     "name": "stdout",
     "output_type": "stream",
     "text": [
      "Begin group  2 training\n"
     ]
    },
    {
     "name": "stderr",
     "output_type": "stream",
     "text": [
      "Epoch:   0%|          | 0/20 [00:00<?, ?it/s]         "
     ]
    },
    {
     "name": "stdout",
     "output_type": "stream",
     "text": [
      "Begin group  3 training\n"
     ]
    },
    {
     "name": "stderr",
     "output_type": "stream",
     "text": [
      "Epoch:   5%|▌         | 1/20 [00:00<00:03,  5.47it/s] "
     ]
    },
    {
     "name": "stdout",
     "output_type": "stream",
     "text": [
      "Begin group  4 training\n"
     ]
    },
    {
     "name": "stderr",
     "output_type": "stream",
     "text": [
      "                                                      \r"
     ]
    },
    {
     "name": "stdout",
     "output_type": "stream",
     "text": [
      "Training groups takes 74.25700306892395s seconds\n",
      "Scheduling clients takes 2.9875669479370117s seconds\n",
      "Group 0, clients ['pensblogtweet', 'OHMYDAYSitsHayz']\n",
      "Group 1, clients ['music_flurry', 'wiseleo', 'perpetualspiral']\n",
      "Group 2, clients ['PercythePigeon', 'Itxi_Itx', 'stratosphear', 'Nimilia1621', 'jiriteach', 'RandomShelly', 'neurogirl07']\n",
      "Group 3, clients ['karenstrunks', 'Wendywitwoo', 'mrshananto', 'Sunshineliron']\n",
      "Group 4, clients ['zenjar', 'TessMorris', 'purplepleather', 'neondeception']\n"
     ]
    },
    {
     "name": "stderr",
     "output_type": "stream",
     "text": [
      "\r",
      "Epoch:   0%|          | 0/20 [00:00<?, ?it/s]"
     ]
    },
    {
     "name": "stdout",
     "output_type": "stream",
     "text": [
      "Group 0\n",
      "At round 85 accuracy: 0.6498740554156172\n",
      "At round 85 training accuracy: 0.6342887473460722\n",
      "At round 85 training loss: 3.195949532577576\n",
      "Group 1\n",
      "At round 85 accuracy: 0.9054726368159204\n",
      "At round 85 training accuracy: 0.9178304644365054\n",
      "At round 85 training loss: 0.5627033788862336\n",
      "Group 2\n",
      "At round 85 accuracy: 0.6831683168316832\n",
      "At round 85 training accuracy: 0.7120425642356605\n",
      "At round 85 training loss: 0.6146586278882269\n",
      "Group 3\n",
      "At round 85 accuracy: 0.7010463378176383\n",
      "At round 85 training accuracy: 0.7136752136752137\n",
      "At round 85 training loss: 1.2457408965416918\n",
      "Group 4\n",
      "At round 85 accuracy: 0.6632462686567164\n",
      "At round 85 training accuracy: 0.672783251231527\n",
      "At round 85 training loss: 1.1029945571948154\n",
      "At round 85 mean test accuracy: 0.6939123589609026 mean train accuracy: 0.7028433568843702 mean train loss: 1.4722264911157061                     number of test client: 691\n",
      "The client-group discrepancy are: [23.7546616  43.61311824 20.50541094 25.55382644 31.52230107  5.34619334]\n",
      "Begin group  0 training\n"
     ]
    },
    {
     "name": "stderr",
     "output_type": "stream",
     "text": [
      "Epoch:   5%|▌         | 1/20 [00:00<00:02,  8.25it/s] "
     ]
    },
    {
     "name": "stdout",
     "output_type": "stream",
     "text": [
      "Begin group  1 training\n"
     ]
    },
    {
     "name": "stderr",
     "output_type": "stream",
     "text": [
      "Epoch:   5%|▌         | 1/20 [00:00<00:03,  5.68it/s] "
     ]
    },
    {
     "name": "stdout",
     "output_type": "stream",
     "text": [
      "Begin group  2 training\n"
     ]
    },
    {
     "name": "stderr",
     "output_type": "stream",
     "text": [
      "Epoch:   0%|          | 0/20 [00:00<?, ?it/s]         "
     ]
    },
    {
     "name": "stdout",
     "output_type": "stream",
     "text": [
      "Begin group  3 training\n"
     ]
    },
    {
     "name": "stderr",
     "output_type": "stream",
     "text": [
      "Epoch:   0%|          | 0/20 [00:00<?, ?it/s]         "
     ]
    },
    {
     "name": "stdout",
     "output_type": "stream",
     "text": [
      "Begin group  4 training\n"
     ]
    },
    {
     "name": "stderr",
     "output_type": "stream",
     "text": [
      "                                                      \r"
     ]
    },
    {
     "name": "stdout",
     "output_type": "stream",
     "text": [
      "Training groups takes 72.48856210708618s seconds\n",
      "Scheduling clients takes 3.143235206604004s seconds\n",
      "Group 0, clients ['zoeyjordan']\n",
      "Group 1, clients ['mixmasterfestus', 'TinaS71']\n",
      "Group 2, clients ['MelanieFresh27', 'MrFlossy', 'allison__', 'KatyCaptivated', 'tamaryn', 'RockstarAtHeart', 'Tittch', 'combustiblesong']\n",
      "Group 3 is empty.\n",
      "Group 4, clients ['CannonGod', 'BlueEyedGirl18', 'dudeman718', 'loving_my_DEW', 'brianwelburn', 'sprinkles_', 'Rikou26', 'Extremo', 'kalpik']\n"
     ]
    },
    {
     "name": "stderr",
     "output_type": "stream",
     "text": [
      "\r",
      "Epoch:   0%|          | 0/20 [00:00<?, ?it/s]"
     ]
    },
    {
     "name": "stdout",
     "output_type": "stream",
     "text": [
      "Group 0\n",
      "At round 86 accuracy: 0.6314984709480123\n",
      "At round 86 training accuracy: 0.6190795652757279\n",
      "At round 86 training loss: 3.8225497509253104\n",
      "Group 1\n",
      "At round 86 accuracy: 0.916030534351145\n",
      "At round 86 training accuracy: 0.9285239361702128\n",
      "At round 86 training loss: 0.44892020575681524\n",
      "Group 2\n",
      "At round 86 accuracy: 0.6691212567501227\n",
      "At round 86 training accuracy: 0.6891405043746783\n",
      "At round 86 training loss: 0.8859952310450343\n",
      "Group 3\n",
      "At round 86 accuracy: 0.6656580937972768\n",
      "At round 86 training accuracy: 0.6922169811320755\n",
      "At round 86 training loss: 1.3005162082512207\n",
      "Group 4\n",
      "At round 86 accuracy: 0.6496613995485327\n",
      "At round 86 training accuracy: 0.6646399618502623\n",
      "At round 86 training loss: 0.7216523956217877\n",
      "At round 86 mean test accuracy: 0.6788930948962276 mean train accuracy: 0.6891479513115035 mean train loss: 1.58023328429664                     number of test client: 694\n",
      "The client-group discrepancy are: [32.80645609 43.771103   26.09691034 26.0801076   0.         39.05814859]\n",
      "Begin group  0 training\n"
     ]
    },
    {
     "name": "stderr",
     "output_type": "stream",
     "text": [
      "Epoch:   5%|▌         | 1/20 [00:00<00:02,  7.91it/s] "
     ]
    },
    {
     "name": "stdout",
     "output_type": "stream",
     "text": [
      "Begin group  1 training\n"
     ]
    },
    {
     "name": "stderr",
     "output_type": "stream",
     "text": [
      "Epoch:   0%|          | 0/20 [00:00<?, ?it/s]         "
     ]
    },
    {
     "name": "stdout",
     "output_type": "stream",
     "text": [
      "Begin group  2 training\n"
     ]
    },
    {
     "name": "stderr",
     "output_type": "stream",
     "text": [
      "Epoch:   5%|▌         | 1/20 [00:00<00:02,  6.57it/s] "
     ]
    },
    {
     "name": "stdout",
     "output_type": "stream",
     "text": [
      "Begin group  4 training\n"
     ]
    },
    {
     "name": "stderr",
     "output_type": "stream",
     "text": [
      "                                                      \r"
     ]
    },
    {
     "name": "stdout",
     "output_type": "stream",
     "text": [
      "Training groups takes 71.33471369743347s seconds\n",
      "Scheduling clients takes 3.0643420219421387s seconds\n",
      "Group 0 is empty.\n",
      "Group 1, clients ['Sheamus']\n",
      "Group 2, clients ['velofille', 'Abbie_xD', 'Bowl_the_Bunny']\n",
      "Group 3, clients ['jun6lee', 'sarasmile13']\n",
      "Group 4, clients ['johnhood', 'ksekher', 'hollyhalvorsen', 'Hybrid911', 'abcdefglynis', 'Galiiit', 'Alicia_vintage', 'TheDailyBlonde', 'fromthestars', 'torilovesbradie', 'dopeydoo', 'xXMCR_LadyXx', 'DubarryMcfly', 'Christiegarcia']\n"
     ]
    },
    {
     "name": "stderr",
     "output_type": "stream",
     "text": [
      "\r",
      "Epoch:   0%|          | 0/20 [00:00<?, ?it/s]"
     ]
    },
    {
     "name": "stdout",
     "output_type": "stream",
     "text": [
      "Group 0\n",
      "At round 87 accuracy: 0.6313265849760256\n",
      "At round 87 training accuracy: 0.6187535092644582\n",
      "At round 87 training loss: 3.8485587971908966\n",
      "Group 1\n",
      "At round 87 accuracy: 0.9125964010282777\n",
      "At round 87 training accuracy: 0.9271812080536913\n",
      "At round 87 training loss: 0.4559611894665934\n",
      "Group 2\n",
      "At round 87 accuracy: 0.6586444007858546\n",
      "At round 87 training accuracy: 0.6792428534638166\n",
      "At round 87 training loss: 1.013795708606541\n",
      "Group 3\n",
      "At round 87 accuracy: 0.6600910470409712\n",
      "At round 87 training accuracy: 0.6920347003154574\n",
      "At round 87 training loss: 1.3113752848006732\n",
      "Group 4\n",
      "At round 87 accuracy: 0.6150556030795552\n",
      "At round 87 training accuracy: 0.6311216429699842\n",
      "At round 87 training loss: 1.0418300559284779\n",
      "At round 87 mean test accuracy: 0.6645421436004162 mean train accuracy: 0.6763017630176302 mean train loss: 1.6812689752196757                     number of test client: 697\n",
      "The client-group discrepancy are: [31.25939034  0.         41.21739493 22.29576997 23.2777653  33.60911224]\n",
      "Begin group  1 training\n"
     ]
    },
    {
     "name": "stderr",
     "output_type": "stream",
     "text": [
      "Epoch:   5%|▌         | 1/20 [00:00<00:02,  6.87it/s] "
     ]
    },
    {
     "name": "stdout",
     "output_type": "stream",
     "text": [
      "Begin group  2 training\n"
     ]
    },
    {
     "name": "stderr",
     "output_type": "stream",
     "text": [
      "Epoch:   5%|▌         | 1/20 [00:00<00:02,  6.76it/s] "
     ]
    },
    {
     "name": "stdout",
     "output_type": "stream",
     "text": [
      "Begin group  3 training\n"
     ]
    },
    {
     "name": "stderr",
     "output_type": "stream",
     "text": [
      "Epoch:   5%|▌         | 1/20 [00:00<00:02,  7.09it/s] "
     ]
    },
    {
     "name": "stdout",
     "output_type": "stream",
     "text": [
      "Begin group  4 training\n"
     ]
    },
    {
     "name": "stderr",
     "output_type": "stream",
     "text": [
      "                                                      \r"
     ]
    },
    {
     "name": "stdout",
     "output_type": "stream",
     "text": [
      "Training groups takes 74.15318083763123s seconds\n",
      "Scheduling clients takes 3.0699241161346436s seconds\n",
      "Group 0, clients ['epcotx']\n",
      "Group 1, clients ['GlitzyGloss', 'wahliaodotcom']\n",
      "Group 2, clients ['mizsedz', 'SandyCalico', 'nicolalalalala', 'michellecpa', 'kjgriffin18', 'josieinthecity', 'froggie775']\n",
      "Group 3, clients ['_MsWhite', 'ZeenaBoBeena', 'IamMaxatHotSpot', 'Nikkers']\n",
      "Group 4, clients ['k_griffiths', 'ATsLady', 'Ingenue_Em', 'hannahkin', 'ciaobella50', 'Mixaelala']\n"
     ]
    },
    {
     "name": "stderr",
     "output_type": "stream",
     "text": [
      "\r",
      "Epoch:   0%|          | 0/20 [00:00<?, ?it/s]"
     ]
    },
    {
     "name": "stdout",
     "output_type": "stream",
     "text": [
      "Group 0\n",
      "At round 88 accuracy: 0.6303291958985429\n",
      "At round 88 training accuracy: 0.6188850967007964\n",
      "At round 88 training loss: 3.847883849644066\n",
      "Group 1\n",
      "At round 88 accuracy: 0.9049479166666666\n",
      "At round 88 training accuracy: 0.9153924566768603\n",
      "At round 88 training loss: 0.5221132953953601\n",
      "Group 2\n",
      "At round 88 accuracy: 0.6732913233155599\n",
      "At round 88 training accuracy: 0.7077509529860229\n",
      "At round 88 training loss: 0.7501560738749253\n",
      "Group 3\n",
      "At round 88 accuracy: 0.49420289855072463\n",
      "At round 88 training accuracy: 0.4920814479638009\n",
      "At round 88 training loss: 1.2115234229966527\n",
      "Group 4\n",
      "At round 88 accuracy: 0.6369833830421815\n",
      "At round 88 training accuracy: 0.6552344540649949\n",
      "At round 88 training loss: 1.1293270495612027\n",
      "At round 88 mean test accuracy: 0.6589819971506281 mean train accuracy: 0.6719292276284451 mean train loss: 1.6248619438576448                     number of test client: 701\n",
      "The client-group discrepancy are: [28.84100149 42.45438758  4.06544483 28.67786194 40.61084074 27.17439266]\n",
      "Begin group  0 training\n"
     ]
    },
    {
     "name": "stderr",
     "output_type": "stream",
     "text": [
      "Epoch:   0%|          | 0/20 [00:00<?, ?it/s]         "
     ]
    },
    {
     "name": "stdout",
     "output_type": "stream",
     "text": [
      "Begin group  1 training\n"
     ]
    },
    {
     "name": "stderr",
     "output_type": "stream",
     "text": [
      "Epoch:   0%|          | 0/20 [00:00<?, ?it/s]         "
     ]
    },
    {
     "name": "stdout",
     "output_type": "stream",
     "text": [
      "Begin group  2 training\n"
     ]
    },
    {
     "name": "stderr",
     "output_type": "stream",
     "text": [
      "Epoch:   5%|▌         | 1/20 [00:00<00:02,  7.07it/s] "
     ]
    },
    {
     "name": "stdout",
     "output_type": "stream",
     "text": [
      "Begin group  3 training\n"
     ]
    },
    {
     "name": "stderr",
     "output_type": "stream",
     "text": [
      "Epoch:   5%|▌         | 1/20 [00:00<00:02,  6.98it/s] "
     ]
    },
    {
     "name": "stdout",
     "output_type": "stream",
     "text": [
      "Begin group  4 training\n"
     ]
    },
    {
     "name": "stderr",
     "output_type": "stream",
     "text": [
      "                                                      \r"
     ]
    },
    {
     "name": "stdout",
     "output_type": "stream",
     "text": [
      "Training groups takes 60.63892340660095s seconds\n",
      "Scheduling clients takes 3.0493693351745605s seconds\n",
      "Group 0, clients ['brokerkathy']\n",
      "Group 1, clients ['effingcards']\n",
      "Group 2, clients ['KiSHEZ', 'AndyCarolan', 'robcthegeek', 'ToksieOlu']\n",
      "Group 3, clients ['BearNoiz', 'paulpuddifoot', 'nere13', 'JBnVFCLover786']\n",
      "Group 4, clients ['MrTHill', 'hannahkin', 'crazymitchell', 'AlluringBri', 'annief1', 'purplepleather', 'brightondoll', 'DivasMistress', 'mnstrsnmnchkns', 'NKAirplay']\n"
     ]
    },
    {
     "name": "stderr",
     "output_type": "stream",
     "text": [
      "\r",
      "Epoch:   0%|          | 0/20 [00:00<?, ?it/s]"
     ]
    },
    {
     "name": "stdout",
     "output_type": "stream",
     "text": [
      "Group 0\n",
      "At round 89 accuracy: 0.6308539944903582\n",
      "At round 89 training accuracy: 0.6199186991869918\n",
      "At round 89 training loss: 3.9039074913998406\n",
      "Group 1\n",
      "At round 89 accuracy: 0.9166666666666666\n",
      "At round 89 training accuracy: 0.927285083248386\n",
      "At round 89 training loss: 0.46729766900081815\n",
      "Group 2\n",
      "At round 89 accuracy: 0.6780487804878049\n",
      "At round 89 training accuracy: 0.6957188498402556\n",
      "At round 89 training loss: 0.8376466539719949\n",
      "Group 3\n",
      "At round 89 accuracy: 0.5086092715231788\n",
      "At round 89 training accuracy: 0.535972461273666\n",
      "At round 89 training loss: 0.8921409114913152\n",
      "Group 4\n",
      "At round 89 accuracy: 0.6123571730850613\n",
      "At round 89 training accuracy: 0.6393020914886478\n",
      "At round 89 training loss: 0.9232720492563716\n",
      "At round 89 mean test accuracy: 0.654109147206812 mean train accuracy: 0.6682936750050844 mean train loss: 1.5479154514353555                     number of test client: 704\n",
      "The client-group discrepancy are: [32.42138946 43.46022201 10.96980822 26.66665825 42.12811935 31.88186485]\n",
      "Begin group  0 training\n"
     ]
    },
    {
     "name": "stderr",
     "output_type": "stream",
     "text": [
      "Epoch:   0%|          | 0/20 [00:00<?, ?it/s]         "
     ]
    },
    {
     "name": "stdout",
     "output_type": "stream",
     "text": [
      "Begin group  1 training\n"
     ]
    },
    {
     "name": "stderr",
     "output_type": "stream",
     "text": [
      "Epoch:   5%|▌         | 1/20 [00:00<00:02,  9.01it/s] "
     ]
    },
    {
     "name": "stdout",
     "output_type": "stream",
     "text": [
      "Begin group  2 training\n"
     ]
    },
    {
     "name": "stderr",
     "output_type": "stream",
     "text": [
      "Epoch:   5%|▌         | 1/20 [00:00<00:02,  8.13it/s] "
     ]
    },
    {
     "name": "stdout",
     "output_type": "stream",
     "text": [
      "Begin group  3 training\n"
     ]
    },
    {
     "name": "stderr",
     "output_type": "stream",
     "text": [
      "Epoch:   5%|▌         | 1/20 [00:00<00:02,  6.58it/s] "
     ]
    },
    {
     "name": "stdout",
     "output_type": "stream",
     "text": [
      "Begin group  4 training\n"
     ]
    },
    {
     "name": "stderr",
     "output_type": "stream",
     "text": [
      "                                                      \r"
     ]
    },
    {
     "name": "stdout",
     "output_type": "stream",
     "text": [
      "Training groups takes 74.40945744514465s seconds\n",
      "Scheduling clients takes 3.038961410522461s seconds\n",
      "Group 0, clients ['petehopkins', '19c816tf9227']\n",
      "Group 1, clients ['davidj505', 'RabbiShaiSpecht', '18percentgrey', 'wiseleo']\n",
      "Group 2, clients ['tamaryn']\n",
      "Group 3, clients ['xamylouise', 'Broooooke_', 'davidismyangel', 'Monicarrrr', 'paulmason10538', 'VioletsCRUK', 'DeejayKnight', 'Frassington', 'eboogiee', 'lauzmur']\n",
      "Group 4, clients ['xmiyix', 'dudeman718', 'Nikkiilyx']\n"
     ]
    },
    {
     "name": "stderr",
     "output_type": "stream",
     "text": [
      "\r",
      "Epoch:   0%|          | 0/20 [00:00<?, ?it/s]"
     ]
    },
    {
     "name": "stdout",
     "output_type": "stream",
     "text": [
      "Group 0\n",
      "At round 90 accuracy: 0.6282271944922547\n",
      "At round 90 training accuracy: 0.6187377024368095\n",
      "At round 90 training loss: 3.949315270962406\n",
      "Group 1\n",
      "At round 90 accuracy: 0.8867438867438867\n",
      "At round 90 training accuracy: 0.9002016129032258\n",
      "At round 90 training loss: 0.5023062427526713\n",
      "Group 2\n",
      "At round 90 accuracy: 0.644542772861357\n",
      "At round 90 training accuracy: 0.6584234930448223\n",
      "At round 90 training loss: 1.2497714283454715\n",
      "Group 3\n",
      "At round 90 accuracy: 0.51\n",
      "At round 90 training accuracy: 0.5502447451770803\n",
      "At round 90 training loss: 0.7395952179525964\n",
      "Group 4\n",
      "At round 90 accuracy: 0.6481561822125813\n",
      "At round 90 training accuracy: 0.6721386752382046\n",
      "At round 90 training loss: 0.9509354792000738\n",
      "At round 90 mean test accuracy: 0.650599304034025 mean train accuracy: 0.6652331448308557 mean train loss: 1.6302674441981653                     number of test client: 705\n",
      "The client-group discrepancy are: [35.25222228 43.29669101 22.84629213  3.80354523 42.84983827 31.58798903]\n",
      "Begin group  0 training\n"
     ]
    },
    {
     "name": "stderr",
     "output_type": "stream",
     "text": [
      "Epoch:   5%|▌         | 1/20 [00:00<00:01,  9.95it/s] "
     ]
    },
    {
     "name": "stdout",
     "output_type": "stream",
     "text": [
      "Begin group  1 training\n"
     ]
    },
    {
     "name": "stderr",
     "output_type": "stream",
     "text": [
      "Epoch:   5%|▌         | 1/20 [00:00<00:02,  7.95it/s] "
     ]
    },
    {
     "name": "stdout",
     "output_type": "stream",
     "text": [
      "Begin group  2 training\n"
     ]
    },
    {
     "name": "stderr",
     "output_type": "stream",
     "text": [
      "Epoch:   0%|          | 0/20 [00:00<?, ?it/s]         "
     ]
    },
    {
     "name": "stdout",
     "output_type": "stream",
     "text": [
      "Begin group  3 training\n"
     ]
    },
    {
     "name": "stderr",
     "output_type": "stream",
     "text": [
      "Epoch:   5%|▌         | 1/20 [00:00<00:01,  9.60it/s] "
     ]
    },
    {
     "name": "stdout",
     "output_type": "stream",
     "text": [
      "Begin group  4 training\n"
     ]
    },
    {
     "name": "stderr",
     "output_type": "stream",
     "text": [
      "                                                      \r"
     ]
    },
    {
     "name": "stdout",
     "output_type": "stream",
     "text": [
      "Training groups takes 82.76806402206421s seconds\n",
      "Scheduling clients takes 3.0255274772644043s seconds\n",
      "Group 0, clients ['R_Arblaster', 'zoeyjordan']\n",
      "Group 1, clients ['sheryonstone', 'allison__', 'thisgoeshere']\n",
      "Group 2, clients ['rockbigdave']\n",
      "Group 3, clients ['HeathCastor', 'saintcreaghzy', 'sheonpoint', 'an_other', 'Jenivere', 'nikhilnulkar', 'hortovanyi', 'Cherrim', 'katementon', 'funkybrownchick', 'vickymoontree']\n",
      "Group 4, clients ['wisdompathart', 'AlyssaNoelleD', 'LauraLxox']\n"
     ]
    },
    {
     "name": "stderr",
     "output_type": "stream",
     "text": [
      "Epoch:   5%|▌         | 1/20 [00:00<00:02,  8.50it/s]"
     ]
    },
    {
     "name": "stdout",
     "output_type": "stream",
     "text": [
      "Group 0\n",
      "At round 91 accuracy: 0.6303592120509849\n",
      "At round 91 training accuracy: 0.6187204153305849\n",
      "At round 91 training loss: 3.976889694109861\n",
      "Group 1\n",
      "At round 91 accuracy: 0.9028776978417267\n",
      "At round 91 training accuracy: 0.9191635455680399\n",
      "At round 91 training loss: 0.38045085281317215\n",
      "Group 2\n",
      "At round 91 accuracy: 0.6163265306122448\n",
      "At round 91 training accuracy: 0.6220735785953178\n",
      "At round 91 training loss: 1.6500485484193652\n",
      "Group 3\n",
      "At round 91 accuracy: 0.5899497487437186\n",
      "At round 91 training accuracy: 0.6136720796228392\n",
      "At round 91 training loss: 0.9912121006570105\n",
      "Group 4\n",
      "At round 91 accuracy: 0.6387665198237885\n",
      "At round 91 training accuracy: 0.6567668297228045\n",
      "At round 91 training loss: 1.492561157005749\n",
      "At round 91 mean test accuracy: 0.6533076429030186 mean train accuracy: 0.6624257559395248 mean train loss: 1.8965073546481326                     number of test client: 708\n",
      "The client-group discrepancy are: [39.49494111 21.0062606  42.72159312 46.59210922 42.79623376 34.12361368]\n",
      "Begin group  0 training\n"
     ]
    },
    {
     "name": "stderr",
     "output_type": "stream",
     "text": [
      "Epoch:   0%|          | 0/20 [00:00<?, ?it/s]         "
     ]
    },
    {
     "name": "stdout",
     "output_type": "stream",
     "text": [
      "Begin group  1 training\n"
     ]
    },
    {
     "name": "stderr",
     "output_type": "stream",
     "text": [
      "Epoch:   5%|▌         | 1/20 [00:00<00:02,  8.64it/s] "
     ]
    },
    {
     "name": "stdout",
     "output_type": "stream",
     "text": [
      "Begin group  2 training\n"
     ]
    },
    {
     "name": "stderr",
     "output_type": "stream",
     "text": [
      "Epoch:   5%|▌         | 1/20 [00:00<00:02,  8.17it/s] "
     ]
    },
    {
     "name": "stdout",
     "output_type": "stream",
     "text": [
      "Begin group  3 training\n"
     ]
    },
    {
     "name": "stderr",
     "output_type": "stream",
     "text": [
      "Epoch:   5%|▌         | 1/20 [00:00<00:02,  7.03it/s] "
     ]
    },
    {
     "name": "stdout",
     "output_type": "stream",
     "text": [
      "Begin group  4 training\n"
     ]
    },
    {
     "name": "stderr",
     "output_type": "stream",
     "text": [
      "                                                      \r"
     ]
    },
    {
     "name": "stdout",
     "output_type": "stream",
     "text": [
      "Training groups takes 64.86745572090149s seconds\n",
      "Scheduling clients takes 3.0489346981048584s seconds\n",
      "Group 0 is empty.\n",
      "Group 1, clients ['mOFrIz', 'dopeydoo', 'Kat77', 'nsane8', 'pimpyouriphone', 'twilightfairy', 'RabbiShaiSpecht', 'thisgoeshere', 'Minerveca', 'pdurham', 'MTVnHollyWEST23']\n",
      "Group 2, clients ['MissDibbs', 'SheBeeGee', 'xDirtyBurdx', 'xoHerbieox', 'guilty_', 'Rawrrgasmic']\n",
      "Group 3, clients ['Jamjar84', 'kimalojado']\n",
      "Group 4, clients ['Mixaelala']\n"
     ]
    },
    {
     "name": "stderr",
     "output_type": "stream",
     "text": [
      "\r",
      "Epoch:   0%|          | 0/20 [00:00<?, ?it/s]"
     ]
    },
    {
     "name": "stdout",
     "output_type": "stream",
     "text": [
      "Group 0\n",
      "At round 92 accuracy: 0.6328125\n",
      "At round 92 training accuracy: 0.6187836553690212\n",
      "At round 92 training loss: 4.003032839269147\n",
      "Group 1\n",
      "At round 92 accuracy: 0.8978947368421053\n",
      "At round 92 training accuracy: 0.9155701754385965\n",
      "At round 92 training loss: 0.320687668858578\n",
      "Group 2\n",
      "At round 92 accuracy: 0.5586277521761392\n",
      "At round 92 training accuracy: 0.5728494623655914\n",
      "At round 92 training loss: 1.0601809605612151\n",
      "Group 3\n",
      "At round 92 accuracy: 0.6318458417849898\n",
      "At round 92 training accuracy: 0.6289258379519662\n",
      "At round 92 training loss: 0.9374553001030795\n",
      "Group 4\n",
      "At round 92 accuracy: 0.64301651048639\n",
      "At round 92 training accuracy: 0.6630473268027853\n",
      "At round 92 training loss: 1.7158126612372497\n",
      "At round 92 mean test accuracy: 0.649345650500385 mean train accuracy: 0.6576995685005393 mean train loss: 1.7672216531981766                     number of test client: 709\n",
      "The client-group discrepancy are: [35.53658557  0.         32.55013054 44.06314106 42.63188119  3.03766661]\n",
      "Begin group  1 training\n"
     ]
    },
    {
     "name": "stderr",
     "output_type": "stream",
     "text": [
      "Epoch:   5%|▌         | 1/20 [00:00<00:02,  6.85it/s] "
     ]
    },
    {
     "name": "stdout",
     "output_type": "stream",
     "text": [
      "Begin group  2 training\n"
     ]
    },
    {
     "name": "stderr",
     "output_type": "stream",
     "text": [
      "Epoch:   5%|▌         | 1/20 [00:00<00:02,  9.04it/s] "
     ]
    },
    {
     "name": "stdout",
     "output_type": "stream",
     "text": [
      "Begin group  3 training\n"
     ]
    },
    {
     "name": "stderr",
     "output_type": "stream",
     "text": [
      "Epoch:   5%|▌         | 1/20 [00:00<00:02,  8.45it/s] "
     ]
    },
    {
     "name": "stdout",
     "output_type": "stream",
     "text": [
      "Begin group  4 training\n"
     ]
    },
    {
     "name": "stderr",
     "output_type": "stream",
     "text": [
      "                                                      \r"
     ]
    },
    {
     "name": "stdout",
     "output_type": "stream",
     "text": [
      "Training groups takes 77.67382001876831s seconds\n",
      "Scheduling clients takes 2.9656341075897217s seconds\n",
      "Group 0 is empty.\n",
      "Group 1, clients ['JJLuver756', 'dollforlife', 'pageoneresults', 'grum', 'karenstrunks', 'life_afairytale', 'writesfortea']\n",
      "Group 2, clients ['PrincessSakura', 'dannisaywhat', 'Ingenue_Em', 'jonasnessica', 'PinkTribble', 'MissDibbs', 'gewoonlianne']\n",
      "Group 3, clients ['kateblogs', 'Broooooke_', 'tweetieelovee', 'DanielJUK', 'NADMEVENTS']\n",
      "Group 4, clients ['IzzySc']\n"
     ]
    },
    {
     "name": "stderr",
     "output_type": "stream",
     "text": [
      "Epoch:   5%|▌         | 1/20 [00:00<00:02,  9.44it/s]"
     ]
    },
    {
     "name": "stdout",
     "output_type": "stream",
     "text": [
      "Group 0\n",
      "At round 93 accuracy: 0.6341911764705882\n",
      "At round 93 training accuracy: 0.6170865633074936\n",
      "At round 93 training loss: 4.022146682804304\n",
      "Group 1\n",
      "At round 93 accuracy: 0.8838133068520357\n",
      "At round 93 training accuracy: 0.9040953862104717\n",
      "At round 93 training loss: 0.3333416381660615\n",
      "Group 2\n",
      "At round 93 accuracy: 0.5775427995971802\n",
      "At round 93 training accuracy: 0.584137475214805\n",
      "At round 93 training loss: 1.1153891776791194\n",
      "Group 3\n",
      "At round 93 accuracy: 0.6196623634558094\n",
      "At round 93 training accuracy: 0.5991746195511993\n",
      "At round 93 training loss: 0.9804339843370004\n",
      "Group 4\n",
      "At round 93 accuracy: 0.6352887676216462\n",
      "At round 93 training accuracy: 0.663138905592303\n",
      "At round 93 training loss: 1.7066286108277484\n",
      "At round 93 mean test accuracy: 0.6503639381943558 mean train accuracy: 0.6563894387224477 mean train loss: 1.765385408978385                     number of test client: 713\n",
      "The client-group discrepancy are: [39.17444824  0.         41.7467174  39.04460346 34.66382704 44.63058354]\n",
      "Begin group  1 training\n"
     ]
    },
    {
     "name": "stderr",
     "output_type": "stream",
     "text": [
      "Epoch:   0%|          | 0/20 [00:00<?, ?it/s]         "
     ]
    },
    {
     "name": "stdout",
     "output_type": "stream",
     "text": [
      "Begin group  2 training\n"
     ]
    },
    {
     "name": "stderr",
     "output_type": "stream",
     "text": [
      "Epoch:   0%|          | 0/20 [00:00<?, ?it/s]         "
     ]
    },
    {
     "name": "stdout",
     "output_type": "stream",
     "text": [
      "Begin group  3 training\n"
     ]
    },
    {
     "name": "stderr",
     "output_type": "stream",
     "text": [
      "Epoch:   5%|▌         | 1/20 [00:00<00:02,  9.04it/s] "
     ]
    },
    {
     "name": "stdout",
     "output_type": "stream",
     "text": [
      "Begin group  4 training\n"
     ]
    },
    {
     "name": "stderr",
     "output_type": "stream",
     "text": [
      "                                                      \r"
     ]
    },
    {
     "name": "stdout",
     "output_type": "stream",
     "text": [
      "Training groups takes 66.07552361488342s seconds\n",
      "Scheduling clients takes 2.9509096145629883s seconds\n",
      "Group 0, clients ['tweeteradder2', 'markdavidson']\n",
      "Group 1, clients ['Jill88', 'shawnlimtianjun', 'mp3mad']\n",
      "Group 2, clients ['SammiiSTACK', 'kellygirl27', 'ashleeadams', 'suewaters', 'Paiige__', 'davidbarrett1']\n",
      "Group 3, clients ['youroryoure', 'Al_ice', 'vesula', 'ATsLady', 'davidrules04', 'Deejaywilliams', 'hollyhalvorsen']\n",
      "Group 4, clients ['Japh', 'AlluringBri']\n"
     ]
    },
    {
     "name": "stderr",
     "output_type": "stream",
     "text": [
      "\r",
      "Epoch:   0%|          | 0/20 [00:00<?, ?it/s]"
     ]
    },
    {
     "name": "stdout",
     "output_type": "stream",
     "text": [
      "Group 0\n",
      "At round 94 accuracy: 0.6466954910438543\n",
      "At round 94 training accuracy: 0.6318440292445167\n",
      "At round 94 training loss: 3.8622193538479346\n",
      "Group 1\n",
      "At round 94 accuracy: 0.8060724779627816\n",
      "At round 94 training accuracy: 0.845957011258956\n",
      "At round 94 training loss: 0.4783099722026627\n",
      "Group 2\n",
      "At round 94 accuracy: 0.4398402396405392\n",
      "At round 94 training accuracy: 0.4374180005247966\n",
      "At round 94 training loss: 2.420079137287336\n",
      "Group 3\n",
      "At round 94 accuracy: 0.6095693779904306\n",
      "At round 94 training accuracy: 0.5811752988047809\n",
      "At round 94 training loss: 1.1126706400451127\n",
      "Group 4\n",
      "At round 94 accuracy: 0.6145590293980401\n",
      "At round 94 training accuracy: 0.6143597335307179\n",
      "At round 94 training loss: 2.1983077324728346\n",
      "At round 94 mean test accuracy: 0.6008172647171498 mean train accuracy: 0.5986177743483074 mean train loss: 2.226826129719599                     number of test client: 713\n",
      "The client-group discrepancy are: [39.11051192 43.14231817 30.35663212 45.08144428 40.37546767 25.86938314]\n",
      "Begin group  0 training\n"
     ]
    },
    {
     "name": "stderr",
     "output_type": "stream",
     "text": [
      "Epoch:   0%|          | 0/20 [00:00<?, ?it/s]         "
     ]
    },
    {
     "name": "stdout",
     "output_type": "stream",
     "text": [
      "Begin group  1 training\n"
     ]
    },
    {
     "name": "stderr",
     "output_type": "stream",
     "text": [
      "Epoch:   0%|          | 0/20 [00:00<?, ?it/s]         "
     ]
    },
    {
     "name": "stdout",
     "output_type": "stream",
     "text": [
      "Begin group  2 training\n"
     ]
    },
    {
     "name": "stderr",
     "output_type": "stream",
     "text": [
      "Epoch:   5%|▌         | 1/20 [00:00<00:02,  9.10it/s] "
     ]
    },
    {
     "name": "stdout",
     "output_type": "stream",
     "text": [
      "Begin group  3 training\n"
     ]
    },
    {
     "name": "stderr",
     "output_type": "stream",
     "text": [
      "Epoch:   5%|▌         | 1/20 [00:00<00:02,  8.47it/s] "
     ]
    },
    {
     "name": "stdout",
     "output_type": "stream",
     "text": [
      "Begin group  4 training\n"
     ]
    },
    {
     "name": "stderr",
     "output_type": "stream",
     "text": [
      "                                                      \r"
     ]
    },
    {
     "name": "stdout",
     "output_type": "stream",
     "text": [
      "Training groups takes 61.74554419517517s seconds\n",
      "Scheduling clients takes 3.0554659366607666s seconds\n",
      "Group 0, clients ['tweeteradder3', 'nik_kee_dee', 'Morrica']\n",
      "Group 1, clients ['JazzBANGER', 'paul_steele', 'Rocks4Ever']\n",
      "Group 2, clients ['Cherrim', 'HelloLivvy', 'atkailash', 'DirtyRose17', 'gerrymoth', 'xDirtyBurdx']\n",
      "Group 3, clients ['treewatcher21', 'coliwilso', 'amilya', '_magic8ball', 'Hybrid911', 'DivaWonderGirl']\n",
      "Group 4, clients ['davidj505', 'Christiegarcia']\n"
     ]
    },
    {
     "name": "stderr",
     "output_type": "stream",
     "text": [
      "\r",
      "Epoch:   0%|          | 0/20 [00:00<?, ?it/s]"
     ]
    },
    {
     "name": "stdout",
     "output_type": "stream",
     "text": [
      "Group 0\n",
      "At round 95 accuracy: 0.6581196581196581\n",
      "At round 95 training accuracy: 0.6397625160462131\n",
      "At round 95 training loss: 3.7039899049196454\n",
      "Group 1\n",
      "At round 95 accuracy: 0.8260019550342131\n",
      "At round 95 training accuracy: 0.8706302628221485\n",
      "At round 95 training loss: 0.6438177253083882\n",
      "Group 2\n",
      "At round 95 accuracy: 0.518910741301059\n",
      "At round 95 training accuracy: 0.513140430050438\n",
      "At round 95 training loss: 1.643355524043308\n",
      "Group 3\n",
      "At round 95 accuracy: 0.6007162041181737\n",
      "At round 95 training accuracy: 0.5933426443202979\n",
      "At round 95 training loss: 0.9301245217150844\n",
      "Group 4\n",
      "At round 95 accuracy: 0.6543735224586288\n",
      "At round 95 training accuracy: 0.6679165104361955\n",
      "At round 95 training loss: 1.5827697721158522\n",
      "At round 95 mean test accuracy: 0.6357287963433215 mean train accuracy: 0.6389833900340204 mean train loss: 1.822659701256488                     number of test client: 715\n",
      "The client-group discrepancy are: [36.37152503 43.75383813 30.8938603  32.16926879 43.23690206 25.52519011]\n",
      "Begin group  0 training\n"
     ]
    },
    {
     "name": "stderr",
     "output_type": "stream",
     "text": [
      "Epoch:   5%|▌         | 1/20 [00:00<00:02,  6.72it/s] "
     ]
    },
    {
     "name": "stdout",
     "output_type": "stream",
     "text": [
      "Begin group  1 training\n"
     ]
    },
    {
     "name": "stderr",
     "output_type": "stream",
     "text": [
      "Epoch:   5%|▌         | 1/20 [00:00<00:03,  5.47it/s] "
     ]
    },
    {
     "name": "stdout",
     "output_type": "stream",
     "text": [
      "Begin group  2 training\n"
     ]
    },
    {
     "name": "stderr",
     "output_type": "stream",
     "text": [
      "Epoch:   5%|▌         | 1/20 [00:00<00:02,  8.39it/s] "
     ]
    },
    {
     "name": "stdout",
     "output_type": "stream",
     "text": [
      "Begin group  3 training\n"
     ]
    },
    {
     "name": "stderr",
     "output_type": "stream",
     "text": [
      "Epoch:   5%|▌         | 1/20 [00:00<00:02,  9.45it/s] "
     ]
    },
    {
     "name": "stdout",
     "output_type": "stream",
     "text": [
      "Begin group  4 training\n"
     ]
    },
    {
     "name": "stderr",
     "output_type": "stream",
     "text": [
      "                                                      \r"
     ]
    },
    {
     "name": "stdout",
     "output_type": "stream",
     "text": [
      "Training groups takes 80.87772154808044s seconds\n",
      "Scheduling clients takes 3.0164453983306885s seconds\n",
      "Group 0 is empty.\n",
      "Group 1, clients ['Jenivere', 'tamaryn', 'PaulHarriott', 'paulmason10538']\n",
      "Group 2, clients ['MsStaceyK', 'Jenniewrenbird', 'Aussie_MateLC', 'emmao414', 'AlyssaNoelleD', 'jamisloan']\n",
      "Group 3, clients ['Dumskull', 'kayasmith', 'Nikkers', 'kristikubota', 'LexiStarGirl', 'an_other', 'kissmybleep', 'MrsBamBam', 'AClockworkToad']\n",
      "Group 4, clients ['GinaLaGuardia']\n"
     ]
    },
    {
     "name": "stderr",
     "output_type": "stream",
     "text": [
      "\r",
      "Epoch:   0%|          | 0/20 [00:00<?, ?it/s]"
     ]
    },
    {
     "name": "stdout",
     "output_type": "stream",
     "text": [
      "Group 0\n",
      "At round 96 accuracy: 0.6566978193146418\n",
      "At round 96 training accuracy: 0.6382978723404256\n",
      "At round 96 training loss: 3.84173051328345\n",
      "Group 1\n",
      "At round 96 accuracy: 0.7748344370860927\n",
      "At round 96 training accuracy: 0.8053425674004452\n",
      "At round 96 training loss: 0.5183502072132082\n",
      "Group 2\n",
      "At round 96 accuracy: 0.5273088381330685\n",
      "At round 96 training accuracy: 0.5278285863600731\n",
      "At round 96 training loss: 1.6768747299485178\n",
      "Group 3\n",
      "At round 96 accuracy: 0.5701906412478336\n",
      "At round 96 training accuracy: 0.5742618886635114\n",
      "At round 96 training loss: 0.9245194999405815\n",
      "Group 4\n",
      "At round 96 accuracy: 0.6617790811339198\n",
      "At round 96 training accuracy: 0.6716205737916774\n",
      "At round 96 training loss: 1.5768583242652197\n",
      "At round 96 mean test accuracy: 0.6281107160995429 mean train accuracy: 0.6317457140951237 mean train loss: 1.8246709772980942                     number of test client: 715\n",
      "The client-group discrepancy are: [39.30991498  0.         43.4379896  46.61665699 35.42068359 13.96024697]\n",
      "Begin group  1 training\n"
     ]
    },
    {
     "name": "stderr",
     "output_type": "stream",
     "text": [
      "Epoch:   0%|          | 0/20 [00:00<?, ?it/s]         "
     ]
    },
    {
     "name": "stdout",
     "output_type": "stream",
     "text": [
      "Begin group  2 training\n"
     ]
    },
    {
     "name": "stderr",
     "output_type": "stream",
     "text": [
      "Epoch:   5%|▌         | 1/20 [00:00<00:02,  8.77it/s] "
     ]
    },
    {
     "name": "stdout",
     "output_type": "stream",
     "text": [
      "Begin group  3 training\n"
     ]
    },
    {
     "name": "stderr",
     "output_type": "stream",
     "text": [
      "Epoch:   5%|▌         | 1/20 [00:00<00:01,  9.57it/s] "
     ]
    },
    {
     "name": "stdout",
     "output_type": "stream",
     "text": [
      "Begin group  4 training\n"
     ]
    },
    {
     "name": "stderr",
     "output_type": "stream",
     "text": [
      "                                                      \r"
     ]
    },
    {
     "name": "stdout",
     "output_type": "stream",
     "text": [
      "Training groups takes 57.07913684844971s seconds\n",
      "Scheduling clients takes 3.0122463703155518s seconds\n",
      "Group 0 is empty.\n",
      "Group 1, clients ['LittleLiverbird', 'Knot2serious', 'aliefaulkner', 'bustyb73', 'Bellaleyla', 'ctham', 'jun6lee', 'AmyStar92']\n",
      "Group 2, clients ['Arti_Sodmg', 'elenarr', 'SimpleMia', 'loving_my_DEW', 'kittenspawn', 'iheartnynuk', 'thisgoodlife', 'hannah106']\n",
      "Group 3, clients ['gabysslave', 'Gillian_CC']\n",
      "Group 4, clients ['Mum_of_Six', 'xxxSupermodel']\n"
     ]
    },
    {
     "name": "stderr",
     "output_type": "stream",
     "text": [
      "\r",
      "Epoch:   0%|          | 0/20 [00:00<?, ?it/s]"
     ]
    },
    {
     "name": "stdout",
     "output_type": "stream",
     "text": [
      "Group 0\n",
      "At round 97 accuracy: 0.6556753329105898\n",
      "At round 97 training accuracy: 0.6379080612924717\n",
      "At round 97 training loss: 3.846417673431005\n",
      "Group 1\n",
      "At round 97 accuracy: 0.8458070333633905\n",
      "At round 97 training accuracy: 0.8693195196609371\n",
      "At round 97 training loss: 0.48515798261093973\n",
      "Group 2\n",
      "At round 97 accuracy: 0.5089936801166748\n",
      "At round 97 training accuracy: 0.5210492642354446\n",
      "At round 97 training loss: 1.6758449103614115\n",
      "Group 3\n",
      "At round 97 accuracy: 0.5570815450643777\n",
      "At round 97 training accuracy: 0.5572928300201028\n",
      "At round 97 training loss: 1.389317475293004\n",
      "Group 4\n",
      "At round 97 accuracy: 0.6309817464232856\n",
      "At round 97 training accuracy: 0.6408818158100704\n",
      "At round 97 training loss: 1.965797943954464\n",
      "At round 97 mean test accuracy: 0.6234404536862004 mean train accuracy: 0.6290178423648581 mean train loss: 1.97096451432171                     number of test client: 721\n",
      "The client-group discrepancy are: [37.48264986  0.         29.54241512 42.03803639 42.19672478 46.30796773]\n",
      "Begin group  1 training\n"
     ]
    },
    {
     "name": "stderr",
     "output_type": "stream",
     "text": [
      "Epoch:   0%|          | 0/20 [00:00<?, ?it/s]         "
     ]
    },
    {
     "name": "stdout",
     "output_type": "stream",
     "text": [
      "Begin group  2 training\n"
     ]
    },
    {
     "name": "stderr",
     "output_type": "stream",
     "text": [
      "Epoch:   5%|▌         | 1/20 [00:00<00:02,  6.62it/s] "
     ]
    },
    {
     "name": "stdout",
     "output_type": "stream",
     "text": [
      "Begin group  3 training\n"
     ]
    },
    {
     "name": "stderr",
     "output_type": "stream",
     "text": [
      "Epoch:   5%|▌         | 1/20 [00:00<00:02,  7.06it/s] "
     ]
    },
    {
     "name": "stdout",
     "output_type": "stream",
     "text": [
      "Begin group  4 training\n"
     ]
    },
    {
     "name": "stderr",
     "output_type": "stream",
     "text": [
      "                                                      \r"
     ]
    },
    {
     "name": "stdout",
     "output_type": "stream",
     "text": [
      "Training groups takes 60.34837365150452s seconds\n",
      "Scheduling clients takes 3.0483944416046143s seconds\n",
      "Group 0, clients ['wiseleo', 'mandiebear']\n",
      "Group 1, clients ['scarletmandy']\n",
      "Group 2, clients ['brightondoll', 'AdrienneNycole', 'aerobic247', 'karinb_za', 'chyeahitsalicia', 'HayleyNqahuia', 'mossyrants', 'iellie', 'Spidersamm', 'JBnVFCLover786', 'PaulDale67']\n",
      "Group 3, clients ['RyanMacintosh', 'janiecwales', 'Hybrid911', 'an_other']\n",
      "Group 4, clients ['jj38girl', 'dollforlife']\n"
     ]
    },
    {
     "name": "stderr",
     "output_type": "stream",
     "text": [
      "\r",
      "Epoch:   0%|          | 0/20 [00:00<?, ?it/s]"
     ]
    },
    {
     "name": "stdout",
     "output_type": "stream",
     "text": [
      "Group 0\n",
      "At round 98 accuracy: 0.663826998689384\n",
      "At round 98 training accuracy: 0.6530506721820062\n",
      "At round 98 training loss: 3.697593898069074\n",
      "Group 1\n",
      "At round 98 accuracy: 0.8094804010938924\n",
      "At round 98 training accuracy: 0.8435196195005945\n",
      "At round 98 training loss: 0.6102200308296382\n",
      "Group 2\n",
      "At round 98 accuracy: 0.4928571428571429\n",
      "At round 98 training accuracy: 0.5057511737089202\n",
      "At round 98 training loss: 1.5133426858125334\n",
      "Group 3\n",
      "At round 98 accuracy: 0.5973214285714286\n",
      "At round 98 training accuracy: 0.6277016035324192\n",
      "At round 98 training loss: 1.1431599840956415\n",
      "Group 4\n",
      "At round 98 accuracy: 0.6535197204193709\n",
      "At round 98 training accuracy: 0.6674145440147816\n",
      "At round 98 training loss: 1.5929090088290876\n",
      "At round 98 mean test accuracy: 0.6239669421487604 mean train accuracy: 0.6381096458052422 mean train loss: 1.7726702299082358                     number of test client: 724\n",
      "The client-group discrepancy are: [36.93281602 22.60972347 41.72297196 45.27691473 15.62447139 45.58497698]\n",
      "Begin group  0 training\n"
     ]
    },
    {
     "name": "stderr",
     "output_type": "stream",
     "text": [
      "Epoch:   0%|          | 0/20 [00:00<?, ?it/s]         "
     ]
    },
    {
     "name": "stdout",
     "output_type": "stream",
     "text": [
      "Begin group  1 training\n"
     ]
    },
    {
     "name": "stderr",
     "output_type": "stream",
     "text": [
      "Epoch:   0%|          | 0/20 [00:00<?, ?it/s]         "
     ]
    },
    {
     "name": "stdout",
     "output_type": "stream",
     "text": [
      "Begin group  2 training\n"
     ]
    },
    {
     "name": "stderr",
     "output_type": "stream",
     "text": [
      "Epoch:   5%|▌         | 1/20 [00:00<00:02,  6.74it/s] "
     ]
    },
    {
     "name": "stdout",
     "output_type": "stream",
     "text": [
      "Begin group  3 training\n"
     ]
    },
    {
     "name": "stderr",
     "output_type": "stream",
     "text": [
      "Epoch:   5%|▌         | 1/20 [00:00<00:02,  8.67it/s] "
     ]
    },
    {
     "name": "stdout",
     "output_type": "stream",
     "text": [
      "Begin group  4 training\n"
     ]
    },
    {
     "name": "stderr",
     "output_type": "stream",
     "text": [
      "                                                      \r"
     ]
    },
    {
     "name": "stdout",
     "output_type": "stream",
     "text": [
      "Training groups takes 84.98966360092163s seconds\n",
      "Scheduling clients takes 3.0349316596984863s seconds\n",
      "Group 0 is empty.\n",
      "Group 1, clients ['SomersetBob', 'SunshineBoat', 'dogzero']\n",
      "Group 2, clients ['thalovebug', 'AreonLee', 'dreadw', 'Aussie_MateLC', 'donniesgirl01', 'DivasMistress', 'DWsRoseC', 'AZBlueEyes', 'Extremo', 'kevmer', 'YourSavvyVA', 'davidismyangel', 'issie07', 'sprinkles_']\n",
      "Group 3, clients ['Itxi_Itx', 'webwoke']\n",
      "Group 4, clients ['TLM26']\n"
     ]
    },
    {
     "name": "stderr",
     "output_type": "stream",
     "text": [
      "\r",
      "Epoch:   0%|          | 0/20 [00:00<?, ?it/s]"
     ]
    },
    {
     "name": "stdout",
     "output_type": "stream",
     "text": [
      "Group 0\n",
      "At round 99 accuracy: 0.6728704366499642\n",
      "At round 99 training accuracy: 0.6623229461756374\n",
      "At round 99 training loss: 1.9740157500072921\n",
      "Group 1\n",
      "At round 99 accuracy: 0.8527062999112689\n",
      "At round 99 training accuracy: 0.8754917843091877\n",
      "At round 99 training loss: 0.631939320460222\n",
      "Group 2\n",
      "At round 99 accuracy: 0.6142306043720531\n",
      "At round 99 training accuracy: 0.6405228758169934\n",
      "At round 99 training loss: 1.1083590504613654\n",
      "Group 3\n",
      "At round 99 accuracy: 0.5653266331658291\n",
      "At round 99 training accuracy: 0.5917391304347827\n",
      "At round 99 training loss: 1.204273973023114\n",
      "Group 4\n",
      "At round 99 accuracy: 0.5987685992816829\n",
      "At round 99 training accuracy: 0.6020352781546812\n",
      "At round 99 training loss: 2.2263273238099535\n",
      "At round 99 mean test accuracy: 0.647 mean train accuracy: 0.6609652002626395 mean train loss: 1.4762407769591948                     number of test client: 725\n",
      "The client-group discrepancy are: [38.86861376  0.         33.12314215 38.70249741 44.52121025 47.1254645 ]\n",
      "Begin group  1 training\n"
     ]
    },
    {
     "name": "stderr",
     "output_type": "stream",
     "text": [
      "Epoch:   5%|▌         | 1/20 [00:00<00:03,  6.23it/s] "
     ]
    },
    {
     "name": "stdout",
     "output_type": "stream",
     "text": [
      "Begin group  2 training\n"
     ]
    },
    {
     "name": "stderr",
     "output_type": "stream",
     "text": [
      "Epoch:   0%|          | 0/20 [00:00<?, ?it/s]         "
     ]
    },
    {
     "name": "stdout",
     "output_type": "stream",
     "text": [
      "Begin group  3 training\n"
     ]
    },
    {
     "name": "stderr",
     "output_type": "stream",
     "text": [
      "Epoch:   0%|          | 0/20 [00:00<?, ?it/s]         "
     ]
    },
    {
     "name": "stdout",
     "output_type": "stream",
     "text": [
      "Begin group  4 training\n"
     ]
    },
    {
     "name": "stderr",
     "output_type": "stream",
     "text": [
      "                                                      \r"
     ]
    },
    {
     "name": "stdout",
     "output_type": "stream",
     "text": [
      "Training groups takes 89.20277452468872s seconds\n",
      "Scheduling clients takes 3.046435594558716s seconds\n",
      "Group 0, clients ['shellykramer', 'Momodel180', 'TinchenFFM', 'Bizcuits']\n",
      "Group 1, clients ['ItsMariahxOxO', 'JazzBANGER']\n",
      "Group 2, clients ['Andjelija', 'cavorting', 'ponor', 'histapleface', 'letssingbaby', 'nere13', 'Mum_of_Six', 'heyisabelle_', '_scene_queen_', 'jonasnessica', 'olivia_15', 'WooopJess']\n",
      "Group 3, clients ['natalieannem']\n",
      "Group 4, clients ['dudeman718']\n"
     ]
    },
    {
     "name": "stderr",
     "output_type": "stream",
     "text": [
      "\r",
      "Epoch:   0%|          | 0/20 [00:00<?, ?it/s]"
     ]
    },
    {
     "name": "stdout",
     "output_type": "stream",
     "text": [
      "Group 0\n",
      "At round 100 accuracy: 0.6809728183118741\n",
      "At round 100 training accuracy: 0.6713774260410779\n",
      "At round 100 training loss: 1.9195564586168306\n",
      "Group 1\n",
      "At round 100 accuracy: 0.881981981981982\n",
      "At round 100 training accuracy: 0.8967787444157066\n",
      "At round 100 training loss: 0.3956912281160288\n",
      "Group 2\n",
      "At round 100 accuracy: 0.6541353383458647\n",
      "At round 100 training accuracy: 0.6762218561230093\n",
      "At round 100 training loss: 0.9677883468713316\n",
      "Group 3\n",
      "At round 100 accuracy: 0.5217391304347826\n",
      "At round 100 training accuracy: 0.5472312703583062\n",
      "At round 100 training loss: 1.3410621104056135\n",
      "Group 4\n",
      "At round 100 accuracy: 0.583203732503888\n",
      "At round 100 training accuracy: 0.5856065798492118\n",
      "At round 100 training loss: 2.548690473972052\n",
      "At round 100 mean test accuracy: 0.6535442880279059 mean train accuracy: 0.6650089972190414 mean train loss: 1.48699368046342                     number of test client: 728\n",
      "The client-group discrepancy are: [33.64616834 33.60526474 24.0111352  36.70011859 44.10376671  5.97484765]\n",
      "Begin group  0 training\n"
     ]
    },
    {
     "name": "stderr",
     "output_type": "stream",
     "text": [
      "Epoch:   5%|▌         | 1/20 [00:00<00:02,  8.86it/s] "
     ]
    },
    {
     "name": "stdout",
     "output_type": "stream",
     "text": [
      "Begin group  1 training\n"
     ]
    },
    {
     "name": "stderr",
     "output_type": "stream",
     "text": [
      "Epoch:   5%|▌         | 1/20 [00:00<00:02,  7.67it/s] "
     ]
    },
    {
     "name": "stdout",
     "output_type": "stream",
     "text": [
      "Begin group  2 training\n"
     ]
    },
    {
     "name": "stderr",
     "output_type": "stream",
     "text": [
      "Epoch:   0%|          | 0/20 [00:00<?, ?it/s]         "
     ]
    },
    {
     "name": "stdout",
     "output_type": "stream",
     "text": [
      "Begin group  3 training\n"
     ]
    },
    {
     "name": "stderr",
     "output_type": "stream",
     "text": [
      "Epoch:   5%|▌         | 1/20 [00:00<00:02,  7.03it/s] "
     ]
    },
    {
     "name": "stdout",
     "output_type": "stream",
     "text": [
      "Begin group  4 training\n"
     ]
    },
    {
     "name": "stderr",
     "output_type": "stream",
     "text": [
      "                                                      \r"
     ]
    },
    {
     "name": "stdout",
     "output_type": "stream",
     "text": [
      "Training groups takes 68.53210377693176s seconds\n",
      "Scheduling clients takes 3.0414037704467773s seconds\n",
      "Group 0, clients ['tweeteradder16', 'MissGoogle', 'hypnoticyogi']\n",
      "Group 1, clients ['letssingbaby', 'pdurham', 'janiecwales', 'cookiemonster82', 'hopeinhell', 'coriluvnthedon', 'sarasmile13', 'lucyntn']\n",
      "Group 2, clients ['Bopsicle', 'imsoapee', 'HelloLivvy', 'AvonteNikole', 'IvanaE', 'xoCAZZA', 'NatalieGolding', 'irishsamom']\n",
      "Group 3 is empty.\n",
      "Group 4, clients ['music_flurry']\n"
     ]
    },
    {
     "name": "stderr",
     "output_type": "stream",
     "text": [
      "\r",
      "Epoch:   0%|          | 0/20 [00:00<?, ?it/s]"
     ]
    },
    {
     "name": "stdout",
     "output_type": "stream",
     "text": [
      "Group 0\n",
      "At round 101 accuracy: 0.6886184681460272\n",
      "At round 101 training accuracy: 0.6790030211480362\n",
      "At round 101 training loss: 2.5958700301749764\n",
      "Group 1\n",
      "At round 101 accuracy: 0.8305531167690957\n",
      "At round 101 training accuracy: 0.85720823798627\n",
      "At round 101 training loss: 0.4410704740798378\n",
      "Group 2\n",
      "At round 101 accuracy: 0.5437731196054254\n",
      "At round 101 training accuracy: 0.5635735119369126\n",
      "At round 101 training loss: 1.0972669472077037\n",
      "Group 3\n",
      "At round 101 accuracy: 0.4700342465753425\n",
      "At round 101 training accuracy: 0.46018683274021355\n",
      "At round 101 training loss: 2.359744557573914\n",
      "Group 4\n",
      "At round 101 accuracy: 0.5453116815086433\n",
      "At round 101 training accuracy: 0.5570181515865318\n",
      "At round 101 training loss: 2.681120395740215\n",
      "At round 101 mean test accuracy: 0.5991797166293811 mean train accuracy: 0.6086956521739131 mean train loss: 1.8211144799825933                     number of test client: 730\n",
      "The client-group discrepancy are: [34.30854329 42.99038395 26.02132577 37.86231404  0.         46.13059552]\n",
      "Begin group  0 training\n"
     ]
    },
    {
     "name": "stderr",
     "output_type": "stream",
     "text": [
      "Epoch:   0%|          | 0/20 [00:00<?, ?it/s]         "
     ]
    },
    {
     "name": "stdout",
     "output_type": "stream",
     "text": [
      "Begin group  1 training\n"
     ]
    },
    {
     "name": "stderr",
     "output_type": "stream",
     "text": [
      "Epoch:   0%|          | 0/20 [00:00<?, ?it/s]         "
     ]
    },
    {
     "name": "stdout",
     "output_type": "stream",
     "text": [
      "Begin group  2 training\n"
     ]
    },
    {
     "name": "stderr",
     "output_type": "stream",
     "text": [
      "Epoch:   0%|          | 0/20 [00:00<?, ?it/s]         "
     ]
    },
    {
     "name": "stdout",
     "output_type": "stream",
     "text": [
      "Begin group  4 training\n"
     ]
    },
    {
     "name": "stderr",
     "output_type": "stream",
     "text": [
      "                                                      \r"
     ]
    },
    {
     "name": "stdout",
     "output_type": "stream",
     "text": [
      "Training groups takes 71.42964148521423s seconds\n",
      "Scheduling clients takes 3.011566400527954s seconds\n",
      "Group 0, clients ['Momodel180']\n",
      "Group 1, clients ['kevmer', 'toastedfrenchie', 'theanand', 'Upstatemomof3', 'Broooooke_', 'aarthycrazy', 'vickymoontree', 'SomersetBob', 'KiSHEZ', 'PreternaReviews']\n",
      "Group 2, clients ['k_griffiths', 'lauralovesart', 'm0po', 'JaydDragyn', 'Aussie_MateLC', 'littlefluffycat', 'MupNorth', 'taluta']\n",
      "Group 3, clients ['wonderpetunia']\n",
      "Group 4 is empty.\n"
     ]
    },
    {
     "name": "stderr",
     "output_type": "stream",
     "text": [
      "Epoch:   5%|▌         | 1/20 [00:00<00:02,  9.40it/s]"
     ]
    },
    {
     "name": "stdout",
     "output_type": "stream",
     "text": [
      "Group 0\n",
      "At round 102 accuracy: 0.6890198968312454\n",
      "At round 102 training accuracy: 0.6798756798756799\n",
      "At round 102 training loss: 2.7375054259282816\n",
      "Group 1\n",
      "At round 102 accuracy: 0.7919678714859437\n",
      "At round 102 training accuracy: 0.819362950544845\n",
      "At round 102 training loss: 0.5299999247127887\n",
      "Group 2\n",
      "At round 102 accuracy: 0.6381685575364667\n",
      "At round 102 training accuracy: 0.6606344475196935\n",
      "At round 102 training loss: 1.0135126303574964\n",
      "Group 3\n",
      "At round 102 accuracy: 0.4791288566243194\n",
      "At round 102 training accuracy: 0.46202830188679245\n",
      "At round 102 training loss: 2.359678333463534\n",
      "Group 4\n",
      "At round 102 accuracy: 0.5165421558164355\n",
      "At round 102 training accuracy: 0.5050833097994917\n",
      "At round 102 training loss: 2.951659836836077\n",
      "At round 102 mean test accuracy: 0.6204325130499627 mean train accuracy: 0.6251468860164512 mean train loss: 1.862236137920911                     number of test client: 730\n",
      "The client-group discrepancy are: [35.37709831  0.95590652 39.29336043 33.81536821 43.12950978  0.        ]\n",
      "Begin group  0 training\n"
     ]
    },
    {
     "name": "stderr",
     "output_type": "stream",
     "text": [
      "Epoch:   5%|▌         | 1/20 [00:00<00:02,  8.21it/s] "
     ]
    },
    {
     "name": "stdout",
     "output_type": "stream",
     "text": [
      "Begin group  1 training\n"
     ]
    },
    {
     "name": "stderr",
     "output_type": "stream",
     "text": [
      "Epoch:   5%|▌         | 1/20 [00:00<00:02,  6.71it/s] "
     ]
    },
    {
     "name": "stdout",
     "output_type": "stream",
     "text": [
      "Begin group  2 training\n"
     ]
    },
    {
     "name": "stderr",
     "output_type": "stream",
     "text": [
      "Epoch:   0%|          | 0/20 [00:00<?, ?it/s]         "
     ]
    },
    {
     "name": "stdout",
     "output_type": "stream",
     "text": [
      "Begin group  3 training\n"
     ]
    },
    {
     "name": "stderr",
     "output_type": "stream",
     "text": [
      "                                                      \r"
     ]
    },
    {
     "name": "stdout",
     "output_type": "stream",
     "text": [
      "Training groups takes 69.55407333374023s seconds\n",
      "Scheduling clients takes 3.0381102561950684s seconds\n",
      "Group 0, clients ['ChineseLearn']\n",
      "Group 1, clients ['HOTTVampChick', 'TeamUKskyvixen', 'rbuerckner', 'zarazombie', 'combustiblesong', 'MGMarts', 'ciaobella50']\n",
      "Group 2, clients ['hannahkin', 'teachernz', 'k_griffiths', 'Tracey_Mac', 'mr_billiam', 'harisn', 'donniesgirl01', 'histapleface', 'eysies', 'starkissed']\n",
      "Group 3, clients ['emmao414', 'typezero3']\n",
      "Group 4 is empty.\n"
     ]
    },
    {
     "name": "stderr",
     "output_type": "stream",
     "text": [
      "\r",
      "Epoch:   0%|          | 0/20 [00:00<?, ?it/s]"
     ]
    },
    {
     "name": "stdout",
     "output_type": "stream",
     "text": [
      "Group 0\n",
      "At round 103 accuracy: 0.6902050113895216\n",
      "At round 103 training accuracy: 0.6812988574864702\n",
      "At round 103 training loss: 3.100895972015162\n",
      "Group 1\n",
      "At round 103 accuracy: 0.7052631578947368\n",
      "At round 103 training accuracy: 0.7362119725220805\n",
      "At round 103 training loss: 0.5601741757262151\n",
      "Group 2\n",
      "At round 103 accuracy: 0.6402390438247012\n",
      "At round 103 training accuracy: 0.6639832723470988\n",
      "At round 103 training loss: 1.0375919038347095\n",
      "Group 3\n",
      "At round 103 accuracy: 0.5072202166064982\n",
      "At round 103 training accuracy: 0.4892018779342723\n",
      "At round 103 training loss: 2.1846118757794195\n",
      "Group 4\n",
      "At round 103 accuracy: 0.5182119205298014\n",
      "At round 103 training accuracy: 0.5042372881355932\n",
      "At round 103 training loss: 2.948638468583984\n",
      "At round 103 mean test accuracy: 0.6134703479014486 mean train accuracy: 0.6189965206646506 mean train loss: 1.877408781572426                     number of test client: 733\n",
      "The client-group discrepancy are: [38.84714342 41.9752256  43.41792721 34.28614595 44.09034641  0.        ]\n",
      "Begin group  0 training\n"
     ]
    },
    {
     "name": "stderr",
     "output_type": "stream",
     "text": [
      "Epoch:   5%|▌         | 1/20 [00:00<00:02,  8.43it/s] "
     ]
    },
    {
     "name": "stdout",
     "output_type": "stream",
     "text": [
      "Begin group  1 training\n"
     ]
    },
    {
     "name": "stderr",
     "output_type": "stream",
     "text": [
      "Epoch:   5%|▌         | 1/20 [00:00<00:03,  5.76it/s] "
     ]
    },
    {
     "name": "stdout",
     "output_type": "stream",
     "text": [
      "Begin group  2 training\n"
     ]
    },
    {
     "name": "stderr",
     "output_type": "stream",
     "text": [
      "Epoch:   5%|▌         | 1/20 [00:00<00:02,  8.71it/s] "
     ]
    },
    {
     "name": "stdout",
     "output_type": "stream",
     "text": [
      "Begin group  3 training\n"
     ]
    },
    {
     "name": "stderr",
     "output_type": "stream",
     "text": [
      "                                                      \r"
     ]
    },
    {
     "name": "stdout",
     "output_type": "stream",
     "text": [
      "Training groups takes 63.399691104888916s seconds\n",
      "Scheduling clients takes 3.031191825866699s seconds\n",
      "Group 0, clients ['brampitoyo', 'Momodel180']\n",
      "Group 1, clients ['Wendywitwoo']\n",
      "Group 2, clients ['crazymitchell', 'vesula', 'weelissa', 'so_zwitschert', 'Rianca', 'nwoidaho', 'I_Support_DemiL', 'xPurplexMuffinx', 'claudiamcfly', 'brinshannara', 'sweetcherrypop', 'NatalieGolding', 'zarazombie', 'Alicia_vintage', 'nere13']\n",
      "Group 3, clients ['Sims_Galore', 'chinatheblack']\n",
      "Group 4 is empty.\n"
     ]
    },
    {
     "name": "stderr",
     "output_type": "stream",
     "text": [
      "\r",
      "Epoch:   0%|          | 0/20 [00:00<?, ?it/s]"
     ]
    },
    {
     "name": "stdout",
     "output_type": "stream",
     "text": [
      "Group 0\n",
      "At round 104 accuracy: 0.69921875\n",
      "At round 104 training accuracy: 0.6908940739211232\n",
      "At round 104 training loss: 3.0176309237046564\n",
      "Group 1\n",
      "At round 104 accuracy: 0.722809667673716\n",
      "At round 104 training accuracy: 0.7644856129286559\n",
      "At round 104 training loss: 0.6035284048567093\n",
      "Group 2\n",
      "At round 104 accuracy: 0.626877165960724\n",
      "At round 104 training accuracy: 0.64022233451238\n",
      "At round 104 training loss: 0.8284353972580651\n",
      "Group 3\n",
      "At round 104 accuracy: 0.44614003590664275\n",
      "At round 104 training accuracy: 0.4421371908539431\n",
      "At round 104 training loss: 1.3295708897997718\n",
      "Group 4\n",
      "At round 104 accuracy: 0.5221339387060159\n",
      "At round 104 training accuracy: 0.5068369646882044\n",
      "At round 104 training loss: 2.9284914002432623\n",
      "At round 104 mean test accuracy: 0.6062894639098675 mean train accuracy: 0.6122329528826456 mean train loss: 1.6603813952431918                     number of test client: 733\n",
      "The client-group discrepancy are: [36.28979616 21.81065917 42.58440018 36.62442643 45.11190412  0.        ]\n",
      "Begin group  0 training\n"
     ]
    },
    {
     "name": "stderr",
     "output_type": "stream",
     "text": [
      "Epoch:   5%|▌         | 1/20 [00:00<00:02,  6.66it/s] "
     ]
    },
    {
     "name": "stdout",
     "output_type": "stream",
     "text": [
      "Begin group  1 training\n"
     ]
    },
    {
     "name": "stderr",
     "output_type": "stream",
     "text": [
      "Epoch:   5%|▌         | 1/20 [00:00<00:02,  6.57it/s] "
     ]
    },
    {
     "name": "stdout",
     "output_type": "stream",
     "text": [
      "Begin group  2 training\n"
     ]
    },
    {
     "name": "stderr",
     "output_type": "stream",
     "text": [
      "Epoch:   0%|          | 0/20 [00:00<?, ?it/s]         "
     ]
    },
    {
     "name": "stdout",
     "output_type": "stream",
     "text": [
      "Begin group  3 training\n"
     ]
    },
    {
     "name": "stderr",
     "output_type": "stream",
     "text": [
      "                                                      \r"
     ]
    },
    {
     "name": "stdout",
     "output_type": "stream",
     "text": [
      "Training groups takes 61.24374175071716s seconds\n",
      "Scheduling clients takes 3.0196611881256104s seconds\n",
      "Group 0, clients ['shellykramer', 'keza34']\n",
      "Group 1, clients ['simontay78', 'Japh']\n",
      "Group 2, clients ['Bruno108', 'lordmuttley', 'gabysslave', 'k_griffiths', 'johnhood', 'AshyJonas', 'flapjacks9702', 'andrewpycroft', 'issie07']\n",
      "Group 3, clients ['diiilxia', 'socilover', 'PinkTribble', 'xoHerbieox', 'AllTheSausages', '_scene_queen_']\n",
      "Group 4, clients ['pawsthejaws']\n"
     ]
    },
    {
     "name": "stderr",
     "output_type": "stream",
     "text": [
      "\r",
      "Epoch:   0%|          | 0/20 [00:00<?, ?it/s]"
     ]
    },
    {
     "name": "stdout",
     "output_type": "stream",
     "text": [
      "Group 0\n",
      "At round 105 accuracy: 0.705108359133127\n",
      "At round 105 training accuracy: 0.7021450459652707\n",
      "At round 105 training loss: 3.096391527280186\n",
      "Group 1\n",
      "At round 105 accuracy: 0.8058035714285714\n",
      "At round 105 training accuracy: 0.8359223300970874\n",
      "At round 105 training loss: 0.7882733612512329\n",
      "Group 2\n",
      "At round 105 accuracy: 0.6271317829457365\n",
      "At round 105 training accuracy: 0.6616809116809117\n",
      "At round 105 training loss: 0.9373915081898316\n",
      "Group 3\n",
      "At round 105 accuracy: 0.40382941688424717\n",
      "At round 105 training accuracy: 0.4016764839148165\n",
      "At round 105 training loss: 1.2046420510485263\n",
      "Group 4\n",
      "At round 105 accuracy: 0.5152386428982174\n",
      "At round 105 training accuracy: 0.5027405602923264\n",
      "At round 105 training loss: 2.927514971631503\n",
      "At round 105 mean test accuracy: 0.6135241855873642 mean train accuracy: 0.6261545940690326 mean train loss: 1.7168801304804386                     number of test client: 735\n",
      "The client-group discrepancy are: [39.60190052 22.47716395 45.65837256 36.99917738 45.91380194 47.29152925]\n",
      "Begin group  0 training\n"
     ]
    },
    {
     "name": "stderr",
     "output_type": "stream",
     "text": [
      "Epoch:   0%|          | 0/20 [00:00<?, ?it/s]         "
     ]
    },
    {
     "name": "stdout",
     "output_type": "stream",
     "text": [
      "Begin group  1 training\n"
     ]
    },
    {
     "name": "stderr",
     "output_type": "stream",
     "text": [
      "Epoch:   0%|          | 0/20 [00:00<?, ?it/s]         "
     ]
    },
    {
     "name": "stdout",
     "output_type": "stream",
     "text": [
      "Begin group  2 training\n"
     ]
    },
    {
     "name": "stderr",
     "output_type": "stream",
     "text": [
      "Epoch:   5%|▌         | 1/20 [00:00<00:02,  8.68it/s] "
     ]
    },
    {
     "name": "stdout",
     "output_type": "stream",
     "text": [
      "Begin group  3 training\n"
     ]
    },
    {
     "name": "stderr",
     "output_type": "stream",
     "text": [
      "Epoch:   0%|          | 0/20 [00:00<?, ?it/s]         "
     ]
    },
    {
     "name": "stdout",
     "output_type": "stream",
     "text": [
      "Begin group  4 training\n"
     ]
    },
    {
     "name": "stderr",
     "output_type": "stream",
     "text": [
      "                                                      \r"
     ]
    },
    {
     "name": "stdout",
     "output_type": "stream",
     "text": [
      "Training groups takes 75.72805070877075s seconds\n",
      "Scheduling clients takes 3.1101317405700684s seconds\n",
      "Group 0, clients ['Bellaleyla']\n",
      "Group 1, clients ['SandiNJ', 'FreshPlastic', 'syarif_m2e']\n",
      "Group 2, clients ['Rawrrgasmic', 'xmellyssax', 'MissPassion', '_writersblock_', 'f2point4', 'b1ng0bang0']\n",
      "Group 3, clients ['Cass_fryer', 'limeice', 'histapleface']\n",
      "Group 4, clients ['aerobic247', 'witnessamiracle', 'VioletsCRUK', 'steph_davies', 'thisgoeshere', 'claudiamcfly', 'imafanatic']\n"
     ]
    },
    {
     "name": "stderr",
     "output_type": "stream",
     "text": [
      "Epoch:   5%|▌         | 1/20 [00:00<00:02,  7.14it/s]"
     ]
    },
    {
     "name": "stdout",
     "output_type": "stream",
     "text": [
      "Group 0\n",
      "At round 106 accuracy: 0.712707182320442\n",
      "At round 106 training accuracy: 0.7092272443240991\n",
      "At round 106 training loss: 1.5436506072810772\n",
      "Group 1\n",
      "At round 106 accuracy: 0.8253477588871716\n",
      "At round 106 training accuracy: 0.855470327008478\n",
      "At round 106 training loss: 0.8368369647812772\n",
      "Group 2\n",
      "At round 106 accuracy: 0.645224171539961\n",
      "At round 106 training accuracy: 0.681920556920557\n",
      "At round 106 training loss: 0.7211410854292849\n",
      "Group 3\n",
      "At round 106 accuracy: 0.4937833037300178\n",
      "At round 106 training accuracy: 0.4951388888888889\n",
      "At round 106 training loss: 1.19879185013749\n",
      "Group 4\n",
      "At round 106 accuracy: 0.5037634408602151\n",
      "At round 106 training accuracy: 0.4825383304940375\n",
      "At round 106 training loss: 0.7345666449256812\n",
      "At round 106 mean test accuracy: 0.6310404339250493 mean train accuracy: 0.6424061903066015 mean train loss: 0.9374148104706383                     number of test client: 736\n",
      "The client-group discrepancy are: [38.41419452 44.320207   13.48766222 35.37890045 46.44805137 47.41187713]\n",
      "Begin group  0 training\n"
     ]
    },
    {
     "name": "stderr",
     "output_type": "stream",
     "text": [
      "Epoch:   5%|▌         | 1/20 [00:00<00:02,  6.50it/s] "
     ]
    },
    {
     "name": "stdout",
     "output_type": "stream",
     "text": [
      "Begin group  1 training\n"
     ]
    },
    {
     "name": "stderr",
     "output_type": "stream",
     "text": [
      "Epoch:   5%|▌         | 1/20 [00:00<00:02,  9.39it/s] "
     ]
    },
    {
     "name": "stdout",
     "output_type": "stream",
     "text": [
      "Begin group  2 training\n"
     ]
    },
    {
     "name": "stderr",
     "output_type": "stream",
     "text": [
      "Epoch:   5%|▌         | 1/20 [00:00<00:02,  7.02it/s] "
     ]
    },
    {
     "name": "stdout",
     "output_type": "stream",
     "text": [
      "Begin group  3 training\n"
     ]
    },
    {
     "name": "stderr",
     "output_type": "stream",
     "text": [
      "Epoch:   5%|▌         | 1/20 [00:00<00:03,  5.38it/s] "
     ]
    },
    {
     "name": "stdout",
     "output_type": "stream",
     "text": [
      "Begin group  4 training\n"
     ]
    },
    {
     "name": "stderr",
     "output_type": "stream",
     "text": [
      "                                                      \r"
     ]
    },
    {
     "name": "stdout",
     "output_type": "stream",
     "text": [
      "Training groups takes 90.45776677131653s seconds\n",
      "Scheduling clients takes 3.137547016143799s seconds\n",
      "Group 0, clients ['sheryonstone']\n",
      "Group 1, clients ['chiniehdiaz']\n",
      "Group 2, clients ['tifpez']\n",
      "Group 3, clients ['uyennguyen_', 'kat_n', 'davidbarrett1', 'Ingenue_Em', 'redoranda', 'janeybelle15']\n",
      "Group 4, clients ['Sazchik', 'Bowl_the_Bunny', 'Nimilia1621', 'christyspanties', 'sarasmile13', 'martinpolley', 'Nikkers', 'EricaLeigh777', 'jj38girl', 'Bopsicle', 'peggyrossmanith']\n"
     ]
    },
    {
     "name": "stderr",
     "output_type": "stream",
     "text": [
      "\r",
      "Epoch:   0%|          | 0/20 [00:00<?, ?it/s]"
     ]
    },
    {
     "name": "stdout",
     "output_type": "stream",
     "text": [
      "Group 0\n",
      "At round 107 accuracy: 0.7124702144559174\n",
      "At round 107 training accuracy: 0.7101570680628272\n",
      "At round 107 training loss: 2.133834473957059\n",
      "Group 1\n",
      "At round 107 accuracy: 0.8141865844255975\n",
      "At round 107 training accuracy: 0.850695144066089\n",
      "At round 107 training loss: 0.8226987234186031\n",
      "Group 2\n",
      "At round 107 accuracy: 0.6210191082802548\n",
      "At round 107 training accuracy: 0.648024252561154\n",
      "At round 107 training loss: 1.2887276191076589\n",
      "Group 3\n",
      "At round 107 accuracy: 0.4891961970613656\n",
      "At round 107 training accuracy: 0.4995489400090212\n",
      "At round 107 training loss: 1.4388986204019472\n",
      "Group 4\n",
      "At round 107 accuracy: 0.6301006889242183\n",
      "At round 107 training accuracy: 0.6248426353336131\n",
      "At round 107 training loss: 0.9058554755535004\n",
      "At round 107 mean test accuracy: 0.6494082840236687 mean train accuracy: 0.6635153948263023 mean train loss: 1.2774344889257472                     number of test client: 736\n",
      "The client-group discrepancy are: [41.35723503 43.96520764 42.74387639 45.06839514 46.07310485 38.08441748]\n",
      "Begin group  0 training\n"
     ]
    },
    {
     "name": "stderr",
     "output_type": "stream",
     "text": [
      "Epoch:   0%|          | 0/20 [00:00<?, ?it/s]         "
     ]
    },
    {
     "name": "stdout",
     "output_type": "stream",
     "text": [
      "Begin group  1 training\n"
     ]
    },
    {
     "name": "stderr",
     "output_type": "stream",
     "text": [
      "Epoch:   5%|▌         | 1/20 [00:00<00:02,  8.26it/s] "
     ]
    },
    {
     "name": "stdout",
     "output_type": "stream",
     "text": [
      "Begin group  2 training\n"
     ]
    },
    {
     "name": "stderr",
     "output_type": "stream",
     "text": [
      "Epoch:   5%|▌         | 1/20 [00:00<00:02,  8.50it/s] "
     ]
    },
    {
     "name": "stdout",
     "output_type": "stream",
     "text": [
      "Begin group  3 training\n"
     ]
    },
    {
     "name": "stderr",
     "output_type": "stream",
     "text": [
      "Epoch:   5%|▌         | 1/20 [00:00<00:02,  9.05it/s] "
     ]
    },
    {
     "name": "stdout",
     "output_type": "stream",
     "text": [
      "Begin group  4 training\n"
     ]
    },
    {
     "name": "stderr",
     "output_type": "stream",
     "text": [
      "                                                      \r"
     ]
    },
    {
     "name": "stdout",
     "output_type": "stream",
     "text": [
      "Training groups takes 66.41284918785095s seconds\n",
      "Scheduling clients takes 3.1877834796905518s seconds\n",
      "Group 0 is empty.\n",
      "Group 1, clients ['sharonhayes', '18percentgrey', 'Rkoluvsdiana', 'Jill88', 'TaylaMe3', 'toosweet4rnr']\n",
      "Group 2, clients ['tweeteradder2', 'karinb_za']\n",
      "Group 3, clients ['TeeQ2', 'starkissed']\n",
      "Group 4, clients ['nikkimaltby', 'winniedepoohi', 'LilahMcfly', 'aussie_ali', 'gazebow', 'makeupbylinvia', 'DirtyRose17', 'x0me880x', 'tannwick', 'toodamnninja']\n"
     ]
    },
    {
     "name": "stderr",
     "output_type": "stream",
     "text": [
      "\r",
      "Epoch:   0%|          | 0/20 [00:00<?, ?it/s]"
     ]
    },
    {
     "name": "stdout",
     "output_type": "stream",
     "text": [
      "Group 0\n",
      "At round 108 accuracy: 0.7144019528071603\n",
      "At round 108 training accuracy: 0.7035208243881494\n",
      "At round 108 training loss: 1.4920207429218384\n",
      "Group 1\n",
      "At round 108 accuracy: 0.8558823529411764\n",
      "At round 108 training accuracy: 0.8673704414587332\n",
      "At round 108 training loss: 0.4571632663056169\n",
      "Group 2\n",
      "At round 108 accuracy: 0.6400322841000807\n",
      "At round 108 training accuracy: 0.6788019896285321\n",
      "At round 108 training loss: 1.2597401783458024\n",
      "Group 3\n",
      "At round 108 accuracy: 0.5186147186147186\n",
      "At round 108 training accuracy: 0.5145960624575696\n",
      "At round 108 training loss: 1.717649972231093\n",
      "Group 4\n",
      "At round 108 accuracy: 0.6410526315789473\n",
      "At round 108 training accuracy: 0.6439004033940743\n",
      "At round 108 training loss: 1.1409992245660072\n",
      "At round 108 mean test accuracy: 0.6704013789706968 mean train accuracy: 0.6827162489894907 mean train loss: 1.1973444409334164                     number of test client: 737\n",
      "The client-group discrepancy are: [32.99099969  0.         31.55169499 27.15102644 47.35602656 32.14957179]\n",
      "Begin group  1 training\n"
     ]
    },
    {
     "name": "stderr",
     "output_type": "stream",
     "text": [
      "Epoch:   0%|          | 0/20 [00:00<?, ?it/s]         "
     ]
    },
    {
     "name": "stdout",
     "output_type": "stream",
     "text": [
      "Begin group  2 training\n"
     ]
    },
    {
     "name": "stderr",
     "output_type": "stream",
     "text": [
      "Epoch:   5%|▌         | 1/20 [00:00<00:02,  8.72it/s] "
     ]
    },
    {
     "name": "stdout",
     "output_type": "stream",
     "text": [
      "Begin group  3 training\n"
     ]
    },
    {
     "name": "stderr",
     "output_type": "stream",
     "text": [
      "Epoch:   5%|▌         | 1/20 [00:00<00:03,  6.30it/s] "
     ]
    },
    {
     "name": "stdout",
     "output_type": "stream",
     "text": [
      "Begin group  4 training\n"
     ]
    },
    {
     "name": "stderr",
     "output_type": "stream",
     "text": [
      "                                                      \r"
     ]
    },
    {
     "name": "stdout",
     "output_type": "stream",
     "text": [
      "Training groups takes 74.48176884651184s seconds\n",
      "Scheduling clients takes 2.980966806411743s seconds\n",
      "Group 0 is empty.\n",
      "Group 1, clients ['feblub', 'jun6lee', '30STMluva', 'JenWojcik', 'hemapreya', 'kwells2416', 'coliwilso', 'macmuso', 'petehopkins', 'PaulineMJ']\n",
      "Group 2, clients ['loving_my_DEW', 'heyisabelle_', 'louiealdip', 'Jodasaur']\n",
      "Group 3, clients ['jonasnessica', 'aLeKnight']\n",
      "Group 4, clients ['DeejayKnight', 'davidismyangel', 'ganeshaxi', 'mrpower']\n"
     ]
    },
    {
     "name": "stderr",
     "output_type": "stream",
     "text": [
      "\r",
      "Epoch:   0%|          | 0/20 [00:00<?, ?it/s]"
     ]
    },
    {
     "name": "stdout",
     "output_type": "stream",
     "text": [
      "Group 0\n",
      "At round 109 accuracy: 0.7100340136054422\n",
      "At round 109 training accuracy: 0.7000224366165583\n",
      "At round 109 training loss: 1.513589724867935\n",
      "Group 1\n",
      "At round 109 accuracy: 0.8481532147742818\n",
      "At round 109 training accuracy: 0.86168691922802\n",
      "At round 109 training loss: 0.46831281656256907\n",
      "Group 2\n",
      "At round 109 accuracy: 0.6265900697578991\n",
      "At round 109 training accuracy: 0.6606067125645438\n",
      "At round 109 training loss: 1.2947807989518147\n",
      "Group 3\n",
      "At round 109 accuracy: 0.455584872471416\n",
      "At round 109 training accuracy: 0.4559668889399862\n",
      "At round 109 training loss: 2.036552817643607\n",
      "Group 4\n",
      "At round 109 accuracy: 0.6652828230409964\n",
      "At round 109 training accuracy: 0.6819865550830018\n",
      "At round 109 training loss: 1.1437135435807426\n",
      "At round 109 mean test accuracy: 0.6637179014620961 mean train accuracy: 0.678897602220286 mean train loss: 1.2455715769635225                     number of test client: 739\n",
      "The client-group discrepancy are: [37.84562639  0.         36.25488644 28.06250133 46.35999263 47.34841823]\n",
      "Begin group  1 training\n"
     ]
    },
    {
     "name": "stderr",
     "output_type": "stream",
     "text": [
      "Epoch:   5%|▌         | 1/20 [00:00<00:02,  6.77it/s] "
     ]
    },
    {
     "name": "stdout",
     "output_type": "stream",
     "text": [
      "Begin group  2 training\n"
     ]
    },
    {
     "name": "stderr",
     "output_type": "stream",
     "text": [
      "Epoch:   5%|▌         | 1/20 [00:00<00:03,  5.88it/s] "
     ]
    },
    {
     "name": "stdout",
     "output_type": "stream",
     "text": [
      "Begin group  3 training\n"
     ]
    },
    {
     "name": "stderr",
     "output_type": "stream",
     "text": [
      "Epoch:   5%|▌         | 1/20 [00:00<00:02,  8.32it/s] "
     ]
    },
    {
     "name": "stdout",
     "output_type": "stream",
     "text": [
      "Begin group  4 training\n"
     ]
    },
    {
     "name": "stderr",
     "output_type": "stream",
     "text": [
      "                                                      \r"
     ]
    },
    {
     "name": "stdout",
     "output_type": "stream",
     "text": [
      "Training groups takes 63.84564995765686s seconds\n",
      "Scheduling clients takes 3.002042055130005s seconds\n",
      "Group 0, clients ['steffy213', 'OHMYDAYSitsHayz']\n",
      "Group 1, clients ['RGM77', 'sarahmarina', 'TaylaMe3']\n",
      "Group 2 is empty.\n",
      "Group 3, clients ['SarahMorrison', 'photokitty', 'olivia_15', 'rorambenjimouse', 'Cass_fryer']\n",
      "Group 4, clients ['VickiElam', 'ThomasGudgeon', 'MAGGIECHICKEN', 'marianaguidil', 'GinaLaGuardia', 'chelseasms', 'LauraLxox', 'johnhood', 'KateEdwards', 'k_griffiths']\n"
     ]
    },
    {
     "name": "stderr",
     "output_type": "stream",
     "text": [
      "\r",
      "Epoch:   0%|          | 0/20 [00:00<?, ?it/s]"
     ]
    },
    {
     "name": "stdout",
     "output_type": "stream",
     "text": [
      "Group 0\n",
      "At round 110 accuracy: 0.7166236003445305\n",
      "At round 110 training accuracy: 0.7035187287173666\n",
      "At round 110 training loss: 1.4953356375383946\n",
      "Group 1\n",
      "At round 110 accuracy: 0.84\n",
      "At round 110 training accuracy: 0.8572946175637394\n",
      "At round 110 training loss: 0.6778095913277583\n",
      "Group 2\n",
      "At round 110 accuracy: 0.6117894736842105\n",
      "At round 110 training accuracy: 0.6507393511366144\n",
      "At round 110 training loss: 1.190540413227541\n",
      "Group 3\n",
      "At round 110 accuracy: 0.5076530612244898\n",
      "At round 110 training accuracy: 0.5052233829739943\n",
      "At round 110 training loss: 2.1053951399595\n",
      "Group 4\n",
      "At round 110 accuracy: 0.6582991803278688\n",
      "At round 110 training accuracy: 0.6715041367150414\n",
      "At round 110 training loss: 1.2042330778750219\n",
      "At round 110 mean test accuracy: 0.6642093623295245 mean train accuracy: 0.6797043921644561 mean train loss: 1.2764992576788365                     number of test client: 739\n",
      "The client-group discrepancy are: [34.63811126 23.54349857 19.07174239  0.         38.1198362  39.78608199]\n",
      "Begin group  0 training\n"
     ]
    },
    {
     "name": "stderr",
     "output_type": "stream",
     "text": [
      "Epoch:   0%|          | 0/20 [00:00<?, ?it/s]         "
     ]
    },
    {
     "name": "stdout",
     "output_type": "stream",
     "text": [
      "Begin group  1 training\n"
     ]
    },
    {
     "name": "stderr",
     "output_type": "stream",
     "text": [
      "Epoch:   0%|          | 0/20 [00:00<?, ?it/s]         "
     ]
    },
    {
     "name": "stdout",
     "output_type": "stream",
     "text": [
      "Begin group  3 training\n"
     ]
    },
    {
     "name": "stderr",
     "output_type": "stream",
     "text": [
      "Epoch:   5%|▌         | 1/20 [00:00<00:02,  6.41it/s] "
     ]
    },
    {
     "name": "stdout",
     "output_type": "stream",
     "text": [
      "Begin group  4 training\n"
     ]
    },
    {
     "name": "stderr",
     "output_type": "stream",
     "text": [
      "                                                      \r"
     ]
    },
    {
     "name": "stdout",
     "output_type": "stream",
     "text": [
      "Training groups takes 60.99393582344055s seconds\n",
      "Scheduling clients takes 3.038689613342285s seconds\n",
      "Group 0, clients ['Momodel180']\n",
      "Group 1, clients ['19c816tf9227', 'JazzBANGER', 'paul_steele']\n",
      "Group 2, clients ['goatkeeper7', 'megspptc', 'Rawrrgasmic']\n",
      "Group 3, clients ['sexidance', 'davidbarrett1']\n",
      "Group 4, clients ['x0me880x', 'MrsGabrielGray_', 'BearNoiz', 'SammiiSTACK', 'pato_30stm', 'Japh', 'youroryoure', 'mrpower', 'christian792', 'toodamnninja', 'Matalatine']\n"
     ]
    },
    {
     "name": "stderr",
     "output_type": "stream",
     "text": [
      "Epoch:   5%|▌         | 1/20 [00:00<00:02,  8.92it/s]"
     ]
    },
    {
     "name": "stdout",
     "output_type": "stream",
     "text": [
      "Group 0\n",
      "At round 111 accuracy: 0.7084078711985689\n",
      "At round 111 training accuracy: 0.7139491046182846\n",
      "At round 111 training loss: 1.5758057158981775\n",
      "Group 1\n",
      "At round 111 accuracy: 0.8277027027027027\n",
      "At round 111 training accuracy: 0.8426807760141094\n",
      "At round 111 training loss: 0.5943620783751962\n",
      "Group 2\n",
      "At round 111 accuracy: 0.6133501259445844\n",
      "At round 111 training accuracy: 0.6521069424579161\n",
      "At round 111 training loss: 1.18675180095151\n",
      "Group 3\n",
      "At round 111 accuracy: 0.5324786324786325\n",
      "At round 111 training accuracy: 0.547119249665029\n",
      "At round 111 training loss: 1.9728868387310086\n",
      "Group 4\n",
      "At round 111 accuracy: 0.6704658077304262\n",
      "At round 111 training accuracy: 0.6895510632711997\n",
      "At round 111 training loss: 0.8490969397286068\n",
      "At round 111 mean test accuracy: 0.6677277179236043 mean train accuracy: 0.6893469243384032 mean train loss: 1.162325068722386                     number of test client: 741\n",
      "The client-group discrepancy are: [29.62324662  3.95178681 19.33570939 31.92960381 26.13760995 34.76745328]\n",
      "Begin group  0 training\n"
     ]
    },
    {
     "name": "stderr",
     "output_type": "stream",
     "text": [
      "Epoch:   5%|▌         | 1/20 [00:00<00:03,  6.04it/s] "
     ]
    },
    {
     "name": "stdout",
     "output_type": "stream",
     "text": [
      "Begin group  1 training\n"
     ]
    },
    {
     "name": "stderr",
     "output_type": "stream",
     "text": [
      "Epoch:   5%|▌         | 1/20 [00:00<00:02,  8.45it/s] "
     ]
    },
    {
     "name": "stdout",
     "output_type": "stream",
     "text": [
      "Begin group  2 training\n"
     ]
    },
    {
     "name": "stderr",
     "output_type": "stream",
     "text": [
      "Epoch:   5%|▌         | 1/20 [00:00<00:02,  6.47it/s] "
     ]
    },
    {
     "name": "stdout",
     "output_type": "stream",
     "text": [
      "Begin group  3 training\n"
     ]
    },
    {
     "name": "stderr",
     "output_type": "stream",
     "text": [
      "Epoch:   5%|▌         | 1/20 [00:00<00:02,  9.21it/s] "
     ]
    },
    {
     "name": "stdout",
     "output_type": "stream",
     "text": [
      "Begin group  4 training\n"
     ]
    },
    {
     "name": "stderr",
     "output_type": "stream",
     "text": [
      "                                                      \r"
     ]
    },
    {
     "name": "stdout",
     "output_type": "stream",
     "text": [
      "Training groups takes 60.77024221420288s seconds\n",
      "Scheduling clients takes 3.0347073078155518s seconds\n",
      "Group 0, clients ['brokerkathy', 'purplehayz']\n",
      "Group 1, clients ['mnstrsnmnchkns', 'xamylouise', 'hanaames', 'suddentwilight', 'VickyMinor', 'RockstarAtHeart', 'mneylon']\n",
      "Group 2, clients ['beingnobody', 'Alicia_vintage', 'valenbfm']\n",
      "Group 3, clients ['I_enigma', 'SheBeeGee']\n",
      "Group 4, clients ['antzpantz', 'EricaLeigh777', 'Katie1989', 'fuseboxradio', 'I_Support_DemiL', 'ganeshaxi']\n"
     ]
    },
    {
     "name": "stderr",
     "output_type": "stream",
     "text": [
      "\r",
      "Epoch:   0%|          | 0/20 [00:00<?, ?it/s]"
     ]
    },
    {
     "name": "stdout",
     "output_type": "stream",
     "text": [
      "Group 0\n",
      "At round 112 accuracy: 0.7181146025878004\n",
      "At round 112 training accuracy: 0.7174811573061026\n",
      "At round 112 training loss: 2.348942116735854\n",
      "Group 1\n",
      "At round 112 accuracy: 0.7734375\n",
      "At round 112 training accuracy: 0.7906106480693995\n",
      "At round 112 training loss: 0.5634522649181839\n",
      "Group 2\n",
      "At round 112 accuracy: 0.6160033869602032\n",
      "At round 112 training accuracy: 0.6556504380614395\n",
      "At round 112 training loss: 1.3200365214162055\n",
      "Group 3\n",
      "At round 112 accuracy: 0.5147826086956522\n",
      "At round 112 training accuracy: 0.527512505684402\n",
      "At round 112 training loss: 2.2971822721642248\n",
      "Group 4\n",
      "At round 112 accuracy: 0.6815505397448479\n",
      "At round 112 training accuracy: 0.7002080083203328\n",
      "At round 112 training loss: 1.0779421401776283\n",
      "At round 112 mean test accuracy: 0.6612389813907933 mean train accuracy: 0.6822405865140359 mean train loss: 1.3913965941163087                     number of test client: 741\n",
      "The client-group discrepancy are: [35.95270899 23.89157212 44.1400622  34.1108073  32.20796653 32.59037421]\n",
      "Begin group  0 training\n"
     ]
    },
    {
     "name": "stderr",
     "output_type": "stream",
     "text": [
      "Epoch:   5%|▌         | 1/20 [00:00<00:02,  9.20it/s] "
     ]
    },
    {
     "name": "stdout",
     "output_type": "stream",
     "text": [
      "Begin group  1 training\n"
     ]
    },
    {
     "name": "stderr",
     "output_type": "stream",
     "text": [
      "Epoch:   5%|▌         | 1/20 [00:00<00:02,  7.32it/s] "
     ]
    },
    {
     "name": "stdout",
     "output_type": "stream",
     "text": [
      "Begin group  2 training\n"
     ]
    },
    {
     "name": "stderr",
     "output_type": "stream",
     "text": [
      "Epoch:   0%|          | 0/20 [00:00<?, ?it/s]         "
     ]
    },
    {
     "name": "stdout",
     "output_type": "stream",
     "text": [
      "Begin group  3 training\n"
     ]
    },
    {
     "name": "stderr",
     "output_type": "stream",
     "text": [
      "Epoch:   5%|▌         | 1/20 [00:00<00:02,  8.69it/s] "
     ]
    },
    {
     "name": "stdout",
     "output_type": "stream",
     "text": [
      "Begin group  4 training\n"
     ]
    },
    {
     "name": "stderr",
     "output_type": "stream",
     "text": [
      "                                                      \r"
     ]
    },
    {
     "name": "stdout",
     "output_type": "stream",
     "text": [
      "Training groups takes 61.689152240753174s seconds\n",
      "Scheduling clients takes 3.196244955062866s seconds\n",
      "Group 0 is empty.\n",
      "Group 1, clients ['Spidersamm', 'neurogirl07', 'MummaBear', 'Sims_Galore', 'Bowl_the_Bunny', 'wyndwitch', 'DustinUrbanski', 'MiraCraigFan', 'natalieannem']\n",
      "Group 2, clients ['irishsamom', 'DWsRoseC']\n",
      "Group 3, clients ['isdown', 'Kikirowr']\n",
      "Group 4, clients ['minorityx', 'Dumskull', 'laraduckytay', 'AreonLee', 'Bopsicle', 'SomersetBob', 'issie07']\n"
     ]
    },
    {
     "name": "stderr",
     "output_type": "stream",
     "text": [
      "\r",
      "Epoch:   0%|          | 0/20 [00:00<?, ?it/s]"
     ]
    },
    {
     "name": "stdout",
     "output_type": "stream",
     "text": [
      "Group 0\n",
      "At round 113 accuracy: 0.7128157156220767\n",
      "At round 113 training accuracy: 0.7133366141732284\n",
      "At round 113 training loss: 2.742197576676484\n",
      "Group 1\n",
      "At round 113 accuracy: 0.6652618904274533\n",
      "At round 113 training accuracy: 0.6761515484986638\n",
      "At round 113 training loss: 0.6334833824593322\n",
      "Group 2\n",
      "At round 113 accuracy: 0.6268922528940338\n",
      "At round 113 training accuracy: 0.6638263102603011\n",
      "At round 113 training loss: 1.3785178877605935\n",
      "Group 3\n",
      "At round 113 accuracy: 0.528695652173913\n",
      "At round 113 training accuracy: 0.5337576721982269\n",
      "At round 113 training loss: 2.1939678963042573\n",
      "Group 4\n",
      "At round 113 accuracy: 0.6687804878048781\n",
      "At round 113 training accuracy: 0.680884063590539\n",
      "At round 113 training loss: 0.9867306410499794\n",
      "At round 113 mean test accuracy: 0.6426125244618396 mean train accuracy: 0.6586674376766898 mean train loss: 1.4221678629378107                     number of test client: 742\n",
      "The client-group discrepancy are: [38.32694808  0.         44.69150083  7.67178598 46.20878159 36.65061701]\n",
      "Begin group  1 training\n"
     ]
    },
    {
     "name": "stderr",
     "output_type": "stream",
     "text": [
      "Epoch:   5%|▌         | 1/20 [00:00<00:02,  6.62it/s] "
     ]
    },
    {
     "name": "stdout",
     "output_type": "stream",
     "text": [
      "Begin group  2 training\n"
     ]
    },
    {
     "name": "stderr",
     "output_type": "stream",
     "text": [
      "Epoch:   5%|▌         | 1/20 [00:00<00:03,  5.59it/s] "
     ]
    },
    {
     "name": "stdout",
     "output_type": "stream",
     "text": [
      "Begin group  3 training\n"
     ]
    },
    {
     "name": "stderr",
     "output_type": "stream",
     "text": [
      "Epoch:   0%|          | 0/20 [00:00<?, ?it/s]         "
     ]
    },
    {
     "name": "stdout",
     "output_type": "stream",
     "text": [
      "Begin group  4 training\n"
     ]
    },
    {
     "name": "stderr",
     "output_type": "stream",
     "text": [
      "                                                      \r"
     ]
    },
    {
     "name": "stdout",
     "output_type": "stream",
     "text": [
      "Training groups takes 89.88003182411194s seconds\n",
      "Scheduling clients takes 3.0965371131896973s seconds\n",
      "Group 0, clients ['RabbiShaiSpecht']\n",
      "Group 1, clients ['AliciaWag', '30STMluva', 'RockstarAtHeart', 'torilovesbradie', 'Abbie_xD', 'ToksieOlu', 'aarthycrazy', 'xxLOVExxPEACE', 'sophieholly', 'Sims_Galore', 'itsJohno', 'bacieabbracci']\n",
      "Group 2, clients ['ashleeadams', 'iellie', 'Andjelija']\n",
      "Group 3, clients ['PrincessSakura', 'WooopJess']\n",
      "Group 4, clients ['Custardcuppcake', '_magic8ball']\n"
     ]
    },
    {
     "name": "stderr",
     "output_type": "stream",
     "text": [
      "\r",
      "Epoch:   0%|          | 0/20 [00:00<?, ?it/s]"
     ]
    },
    {
     "name": "stdout",
     "output_type": "stream",
     "text": [
      "Group 0\n",
      "At round 114 accuracy: 0.7115928369462771\n",
      "At round 114 training accuracy: 0.7157372986369269\n",
      "At round 114 training loss: 2.7192923557418736\n",
      "Group 1\n",
      "At round 114 accuracy: 0.6871060171919771\n",
      "At round 114 training accuracy: 0.7184553210597217\n",
      "At round 114 training loss: 0.6838610407732825\n",
      "Group 2\n",
      "At round 114 accuracy: 0.55474784189005\n",
      "At round 114 training accuracy: 0.5611005240590757\n",
      "At round 114 training loss: 1.787583161781823\n",
      "Group 3\n",
      "At round 114 accuracy: 0.5075690115761353\n",
      "At round 114 training accuracy: 0.5322919095360223\n",
      "At round 114 training loss: 1.8106773702115495\n",
      "Group 4\n",
      "At round 114 accuracy: 0.6686217008797654\n",
      "At round 114 training accuracy: 0.6903067167076485\n",
      "At round 114 training loss: 1.2708923466955842\n",
      "At round 114 mean test accuracy: 0.625366927592955 mean train accuracy: 0.6430223592906708 mean train loss: 1.5463874614141309                     number of test client: 742\n",
      "The client-group discrepancy are: [31.89551635 44.16195834 31.55611997  8.67762527 47.48061211 47.04041453]\n",
      "Begin group  0 training\n"
     ]
    },
    {
     "name": "stderr",
     "output_type": "stream",
     "text": [
      "Epoch:   5%|▌         | 1/20 [00:00<00:02,  8.69it/s] "
     ]
    },
    {
     "name": "stdout",
     "output_type": "stream",
     "text": [
      "Begin group  1 training\n"
     ]
    },
    {
     "name": "stderr",
     "output_type": "stream",
     "text": [
      "Epoch:   5%|▌         | 1/20 [00:00<00:02,  6.56it/s] "
     ]
    },
    {
     "name": "stdout",
     "output_type": "stream",
     "text": [
      "Begin group  2 training\n"
     ]
    },
    {
     "name": "stderr",
     "output_type": "stream",
     "text": [
      "Epoch:   0%|          | 0/20 [00:00<?, ?it/s]         "
     ]
    },
    {
     "name": "stdout",
     "output_type": "stream",
     "text": [
      "Begin group  3 training\n"
     ]
    },
    {
     "name": "stderr",
     "output_type": "stream",
     "text": [
      "Epoch:   5%|▌         | 1/20 [00:00<00:02,  6.41it/s] "
     ]
    },
    {
     "name": "stdout",
     "output_type": "stream",
     "text": [
      "Begin group  4 training\n"
     ]
    },
    {
     "name": "stderr",
     "output_type": "stream",
     "text": [
      "                                                      \r"
     ]
    },
    {
     "name": "stdout",
     "output_type": "stream",
     "text": [
      "Training groups takes 75.54130911827087s seconds\n",
      "Scheduling clients takes 3.031174659729004s seconds\n",
      "Group 0, clients ['shellrawlins', 'justinjap', 'Sheamus']\n",
      "Group 1, clients ['xmellyssax', 'claudiamcfly', 'garyshort', 'AlexTrup', 'mixmasterfestus', 'coriluvnthedon', 'MGMarts', 'LittlestarRed']\n",
      "Group 2, clients ['amysav83', 'brightondoll', 'Andjelija', 'Christyxcore', 'AndyCarolan', 'rockbigdave', 'kellygirl27', 'BlueEyedGirl18', 'jenjeahaly']\n",
      "Group 3 is empty.\n",
      "Group 4 is empty.\n"
     ]
    },
    {
     "name": "stderr",
     "output_type": "stream",
     "text": [
      "\r",
      "Epoch:   0%|          | 0/20 [00:00<?, ?it/s]"
     ]
    },
    {
     "name": "stdout",
     "output_type": "stream",
     "text": [
      "Group 0\n",
      "At round 115 accuracy: 0.7230769230769231\n",
      "At round 115 training accuracy: 0.7248752672843906\n",
      "At round 115 training loss: 2.7179459886540345\n",
      "Group 1\n",
      "At round 115 accuracy: 0.6994906621392191\n",
      "At round 115 training accuracy: 0.7313035767070647\n",
      "At round 115 training loss: 0.7353911551110338\n",
      "Group 2\n",
      "At round 115 accuracy: 0.5641492265696088\n",
      "At round 115 training accuracy: 0.5864168059202673\n",
      "At round 115 training loss: 1.1490464033774621\n",
      "Group 3\n",
      "At round 115 accuracy: 0.5314748201438849\n",
      "At round 115 training accuracy: 0.5581723975506359\n",
      "At round 115 training loss: 2.374558932065009\n",
      "Group 4\n",
      "At round 115 accuracy: 0.5501504513540622\n",
      "At round 115 training accuracy: 0.5555850710585735\n",
      "At round 115 training loss: 1.3846944377419048\n",
      "At round 115 mean test accuracy: 0.6070205479452054 mean train accuracy: 0.6253212541763042 mean train loss: 1.4954363799964434                     number of test client: 742\n",
      "The client-group discrepancy are: [29.47903907 43.88173704 27.90866656 26.07402643  0.          0.        ]\n",
      "Begin group  0 training\n"
     ]
    },
    {
     "name": "stderr",
     "output_type": "stream",
     "text": [
      "Epoch:   5%|▌         | 1/20 [00:00<00:02,  6.66it/s] "
     ]
    },
    {
     "name": "stdout",
     "output_type": "stream",
     "text": [
      "Begin group  1 training\n"
     ]
    },
    {
     "name": "stderr",
     "output_type": "stream",
     "text": [
      "Epoch:   0%|          | 0/20 [00:00<?, ?it/s]         "
     ]
    },
    {
     "name": "stdout",
     "output_type": "stream",
     "text": [
      "Begin group  2 training\n"
     ]
    },
    {
     "name": "stderr",
     "output_type": "stream",
     "text": [
      "                                                      \r"
     ]
    },
    {
     "name": "stdout",
     "output_type": "stream",
     "text": [
      "Training groups takes 73.54461860656738s seconds\n",
      "Scheduling clients takes 3.027836799621582s seconds\n",
      "Group 0, clients ['cookiemonster82', 'dannybrown', 'honeysnowflakes', 'ATsLady', 'HelloLizzi', 'thisgoeshere', 'kamiNcali']\n",
      "Group 1, clients ['pagan_spell', 'nandeb', 'TheDailyBlonde']\n",
      "Group 2, clients ['LucyAnnabel', 'theknickermafia', 'DivaWonderGirl', 'ksekher', 'rockbigdave', 'maddisondesigns', 'sicknastyalison']\n",
      "Group 3, clients ['SarahMorrison']\n",
      "Group 4, clients ['gerrymoth', 'sarahlay']\n"
     ]
    },
    {
     "name": "stderr",
     "output_type": "stream",
     "text": [
      "\r",
      "Epoch:   0%|          | 0/20 [00:00<?, ?it/s]"
     ]
    },
    {
     "name": "stdout",
     "output_type": "stream",
     "text": [
      "Group 0\n",
      "At round 116 accuracy: 0.7468566638725901\n",
      "At round 116 training accuracy: 0.7444468880580603\n",
      "At round 116 training loss: 1.4058786495623155\n",
      "Group 1\n",
      "At round 116 accuracy: 0.7955454026270703\n",
      "At round 116 training accuracy: 0.8125932557445539\n",
      "At round 116 training loss: 0.994901070242661\n",
      "Group 2\n",
      "At round 116 accuracy: 0.5803249097472925\n",
      "At round 116 training accuracy: 0.6034788782392616\n",
      "At round 116 training loss: 1.418652861106115\n",
      "Group 3\n",
      "At round 116 accuracy: 0.5421686746987951\n",
      "At round 116 training accuracy: 0.5665454545454546\n",
      "At round 116 training loss: 2.3187362968343677\n",
      "Group 4\n",
      "At round 116 accuracy: 0.551368094992256\n",
      "At round 116 training accuracy: 0.5555251266602766\n",
      "At round 116 training loss: 1.379584514428459\n",
      "At round 116 mean test accuracy: 0.638820939334638 mean train accuracy: 0.6529491133384734 mean train loss: 1.4356619588424167                     number of test client: 742\n",
      "The client-group discrepancy are: [35.68871805 40.54031912 43.56349964 32.28941714  5.05202822 34.11184006]\n",
      "Begin group  0 training\n"
     ]
    },
    {
     "name": "stderr",
     "output_type": "stream",
     "text": [
      "Epoch:   5%|▌         | 1/20 [00:00<00:02,  8.59it/s] "
     ]
    },
    {
     "name": "stdout",
     "output_type": "stream",
     "text": [
      "Begin group  1 training\n"
     ]
    },
    {
     "name": "stderr",
     "output_type": "stream",
     "text": [
      "Epoch:   5%|▌         | 1/20 [00:00<00:01,  9.65it/s] "
     ]
    },
    {
     "name": "stdout",
     "output_type": "stream",
     "text": [
      "Begin group  2 training\n"
     ]
    },
    {
     "name": "stderr",
     "output_type": "stream",
     "text": [
      "Epoch:   0%|          | 0/20 [00:00<?, ?it/s]         "
     ]
    },
    {
     "name": "stdout",
     "output_type": "stream",
     "text": [
      "Begin group  3 training\n"
     ]
    },
    {
     "name": "stderr",
     "output_type": "stream",
     "text": [
      "Epoch:   0%|          | 0/20 [00:00<?, ?it/s]         "
     ]
    },
    {
     "name": "stdout",
     "output_type": "stream",
     "text": [
      "Begin group  4 training\n"
     ]
    },
    {
     "name": "stderr",
     "output_type": "stream",
     "text": [
      "                                                      \r"
     ]
    },
    {
     "name": "stdout",
     "output_type": "stream",
     "text": [
      "Training groups takes 79.1235580444336s seconds\n",
      "Scheduling clients takes 2.899477481842041s seconds\n",
      "Group 0, clients ['GlitzyGloss']\n",
      "Group 1, clients ['MisterRo', 'Arasphere', 'KINGmoney', 'VickyMinor', 'SarahSee95', 'charleneortiz', 'smuttysteff', 'shawnlimtianjun']\n",
      "Group 2, clients ['jenjeahaly', 'ehammond84']\n",
      "Group 3, clients ['IvanaE', 'WooopJess', 'ZeenaBoBeena', 'thatlass']\n",
      "Group 4, clients ['hollyhalvorsen', 'lucyntn', 'kissmybleep', 'gerrymoth', 'AyyoItsAmandaJo']\n"
     ]
    },
    {
     "name": "stderr",
     "output_type": "stream",
     "text": [
      "\r",
      "Epoch:   0%|          | 0/20 [00:00<?, ?it/s]"
     ]
    },
    {
     "name": "stdout",
     "output_type": "stream",
     "text": [
      "Group 0\n",
      "At round 117 accuracy: 0.7599660729431722\n",
      "At round 117 training accuracy: 0.7576769025367156\n",
      "At round 117 training loss: 0.9928382277134541\n",
      "Group 1\n",
      "At round 117 accuracy: 0.8086662915025323\n",
      "At round 117 training accuracy: 0.8139705882352941\n",
      "At round 117 training loss: 0.5193442731342442\n",
      "Group 2\n",
      "At round 117 accuracy: 0.5841313269493844\n",
      "At round 117 training accuracy: 0.5990193733556566\n",
      "At round 117 training loss: 1.177717724940197\n",
      "Group 3\n",
      "At round 117 accuracy: 0.5637707948243993\n",
      "At round 117 training accuracy: 0.5899975839574777\n",
      "At round 117 training loss: 2.230304391131455\n",
      "Group 4\n",
      "At round 117 accuracy: 0.5634961439588689\n",
      "At round 117 training accuracy: 0.5882994681576436\n",
      "At round 117 training loss: 1.2299043838476786\n",
      "At round 117 mean test accuracy: 0.6506849315068494 mean train accuracy: 0.6651567720380365 mean train loss: 1.1594561292166272                     number of test client: 742\n",
      "The client-group discrepancy are: [31.92309704 44.2320591  30.40333587 24.25764779 27.60998384 38.40959275]\n",
      "Begin group  0 training\n"
     ]
    },
    {
     "name": "stderr",
     "output_type": "stream",
     "text": [
      "Epoch:   0%|          | 0/20 [00:00<?, ?it/s]         "
     ]
    },
    {
     "name": "stdout",
     "output_type": "stream",
     "text": [
      "Begin group  1 training\n"
     ]
    },
    {
     "name": "stderr",
     "output_type": "stream",
     "text": [
      "Epoch:   0%|          | 0/20 [00:00<?, ?it/s]         "
     ]
    },
    {
     "name": "stdout",
     "output_type": "stream",
     "text": [
      "Begin group  2 training\n"
     ]
    },
    {
     "name": "stderr",
     "output_type": "stream",
     "text": [
      "Epoch:   5%|▌         | 1/20 [00:00<00:03,  5.89it/s] "
     ]
    },
    {
     "name": "stdout",
     "output_type": "stream",
     "text": [
      "Begin group  3 training\n"
     ]
    },
    {
     "name": "stderr",
     "output_type": "stream",
     "text": [
      "Epoch:   5%|▌         | 1/20 [00:00<00:02,  6.75it/s] "
     ]
    },
    {
     "name": "stdout",
     "output_type": "stream",
     "text": [
      "Begin group  4 training\n"
     ]
    },
    {
     "name": "stderr",
     "output_type": "stream",
     "text": [
      "                                                      \r"
     ]
    },
    {
     "name": "stdout",
     "output_type": "stream",
     "text": [
      "Training groups takes 56.74540114402771s seconds\n",
      "Scheduling clients takes 3.0207366943359375s seconds\n",
      "Group 0, clients ['SandiNJ', 'mandiebear', 'Speaker99']\n",
      "Group 1, clients ['iamcheerbear', 'FakerParis', 'hortovanyi', 'danni82', 'claudiamcfly', 'Wendywitwoo', 'letteapplejuice']\n",
      "Group 2, clients ['SarcasticFairy', 'k_griffiths', 'Rianca', 'Ingenue_Em', 'kellygirl27', 'brianwelburn']\n",
      "Group 3 is empty.\n",
      "Group 4, clients ['YourSavvyVA', 'megspeaks', 'sweetcherrypop', 'Mixaelala']\n"
     ]
    },
    {
     "name": "stderr",
     "output_type": "stream",
     "text": [
      "\r",
      "Epoch:   0%|          | 0/20 [00:00<?, ?it/s]"
     ]
    },
    {
     "name": "stdout",
     "output_type": "stream",
     "text": [
      "Group 0\n",
      "At round 118 accuracy: 0.767031118587048\n",
      "At round 118 training accuracy: 0.7622408469342744\n",
      "At round 118 training loss: 1.6533469315160954\n",
      "Group 1\n",
      "At round 118 accuracy: 0.73828125\n",
      "At round 118 training accuracy: 0.7713076474022184\n",
      "At round 118 training loss: 0.7871970151817742\n",
      "Group 2\n",
      "At round 118 accuracy: 0.6325328500226551\n",
      "At round 118 training accuracy: 0.6455020175646807\n",
      "At round 118 training loss: 1.5076773768220582\n",
      "Group 3\n",
      "At round 118 accuracy: 0.5700846660395108\n",
      "At round 118 training accuracy: 0.5988200589970502\n",
      "At round 118 training loss: 1.975161020460858\n",
      "Group 4\n",
      "At round 118 accuracy: 0.5802597402597403\n",
      "At round 118 training accuracy: 0.6060982339955849\n",
      "At round 118 training loss: 1.3482319335401816\n",
      "At round 118 mean test accuracy: 0.6548434442270059 mean train accuracy: 0.674922898997687 mean train loss: 1.39426813795156                     number of test client: 742\n",
      "The client-group discrepancy are: [30.08620903 22.42211972 23.61301024 35.02277264  0.         39.75752848]\n",
      "Begin group  0 training\n"
     ]
    },
    {
     "name": "stderr",
     "output_type": "stream",
     "text": [
      "Epoch:   5%|▌         | 1/20 [00:00<00:01,  9.81it/s] "
     ]
    },
    {
     "name": "stdout",
     "output_type": "stream",
     "text": [
      "Begin group  1 training\n"
     ]
    },
    {
     "name": "stderr",
     "output_type": "stream",
     "text": [
      "Epoch:   5%|▌         | 1/20 [00:00<00:03,  5.49it/s] "
     ]
    },
    {
     "name": "stdout",
     "output_type": "stream",
     "text": [
      "Begin group  2 training\n"
     ]
    },
    {
     "name": "stderr",
     "output_type": "stream",
     "text": [
      "Epoch:   5%|▌         | 1/20 [00:00<00:02,  8.28it/s] "
     ]
    },
    {
     "name": "stdout",
     "output_type": "stream",
     "text": [
      "Begin group  4 training\n"
     ]
    },
    {
     "name": "stderr",
     "output_type": "stream",
     "text": [
      "                                                      \r"
     ]
    },
    {
     "name": "stdout",
     "output_type": "stream",
     "text": [
      "Training groups takes 62.25318145751953s seconds\n",
      "Scheduling clients takes 3.0409698486328125s seconds\n",
      "Group 0, clients ['SusanCosmos', 'mOFrIz', 'brampitoyo']\n",
      "Group 1, clients ['MummaBear', 'Dumskull', 'esmeg']\n",
      "Group 2, clients ['erin82883', 'SimpleMia', 'DWsRoseC', 'AmyAllTimeLow', 'Arti_Sodmg', 'ameym21', 'marianaguidil', 'SammiiSTACK', 'letssingbaby', 'holyschmoke']\n",
      "Group 3, clients ['TeeQ2', 'thatlass']\n",
      "Group 4, clients ['IdolFanatic', 'sharonhayes']\n"
     ]
    },
    {
     "name": "stderr",
     "output_type": "stream",
     "text": [
      "Epoch:   5%|▌         | 1/20 [00:00<00:02,  8.90it/s]"
     ]
    },
    {
     "name": "stdout",
     "output_type": "stream",
     "text": [
      "Group 0\n",
      "At round 119 accuracy: 0.77307366638442\n",
      "At round 119 training accuracy: 0.7728685612788633\n",
      "At round 119 training loss: 1.7918705505435661\n",
      "Group 1\n",
      "At round 119 accuracy: 0.7209302325581395\n",
      "At round 119 training accuracy: 0.7498887405429462\n",
      "At round 119 training loss: 0.7531876370342283\n",
      "Group 2\n",
      "At round 119 accuracy: 0.6100044267374944\n",
      "At round 119 training accuracy: 0.6312797308272421\n",
      "At round 119 training loss: 0.9745260499074601\n",
      "Group 3\n",
      "At round 119 accuracy: 0.5700846660395108\n",
      "At round 119 training accuracy: 0.5988200589970502\n",
      "At round 119 training loss: 1.975161020460858\n",
      "Group 4\n",
      "At round 119 accuracy: 0.6235602094240837\n",
      "At round 119 training accuracy: 0.6549471928849361\n",
      "At round 119 training loss: 1.2537055163892228\n",
      "At round 119 mean test accuracy: 0.6554549902152642 mean train accuracy: 0.6786815728604472 mean train loss: 1.2401658562136975                     number of test client: 742\n",
      "The client-group discrepancy are: [33.11379064 31.32899642 33.04430574 36.44612554  4.33850472 48.00882078]\n",
      "Begin group  0 training\n"
     ]
    },
    {
     "name": "stderr",
     "output_type": "stream",
     "text": [
      "Epoch:   5%|▌         | 1/20 [00:00<00:02,  9.08it/s] "
     ]
    },
    {
     "name": "stdout",
     "output_type": "stream",
     "text": [
      "Begin group  1 training\n"
     ]
    },
    {
     "name": "stderr",
     "output_type": "stream",
     "text": [
      "Epoch:   5%|▌         | 1/20 [00:00<00:02,  9.19it/s] "
     ]
    },
    {
     "name": "stdout",
     "output_type": "stream",
     "text": [
      "Begin group  2 training\n"
     ]
    },
    {
     "name": "stderr",
     "output_type": "stream",
     "text": [
      "Epoch:   5%|▌         | 1/20 [00:00<00:02,  8.13it/s] "
     ]
    },
    {
     "name": "stdout",
     "output_type": "stream",
     "text": [
      "Begin group  3 training\n"
     ]
    },
    {
     "name": "stderr",
     "output_type": "stream",
     "text": [
      "Epoch:   5%|▌         | 1/20 [00:00<00:02,  6.72it/s] "
     ]
    },
    {
     "name": "stdout",
     "output_type": "stream",
     "text": [
      "Begin group  4 training\n"
     ]
    },
    {
     "name": "stderr",
     "output_type": "stream",
     "text": [
      "                                                      \r"
     ]
    },
    {
     "name": "stdout",
     "output_type": "stream",
     "text": [
      "Training groups takes 62.712517499923706s seconds\n",
      "Scheduling clients takes 3.042637825012207s seconds\n",
      "Group 0, clients ['skribe']\n",
      "Group 1, clients ['FakerParis', 'AClockworkToad', 'xXMCR_LadyXx', '_Alectrona_', 'Abbie_xD']\n",
      "Group 2, clients ['shinsh0ku', 'pimpyouriphone', 'Jamjar84', 'EmAllTimeLow', 'SheBeeGee', 'Dot12b', 'AyyoItsAmandaJo', 'yolie81', 'brightondoll', 'oldskool90']\n",
      "Group 3, clients ['vickyjones91']\n",
      "Group 4, clients ['DanielJUK', 'lauralovesart', 'michxxblc']\n"
     ]
    },
    {
     "name": "stderr",
     "output_type": "stream",
     "text": [
      "Epoch:   5%|▌         | 1/20 [00:00<00:02,  8.99it/s]"
     ]
    },
    {
     "name": "stdout",
     "output_type": "stream",
     "text": [
      "Group 0\n",
      "At round 120 accuracy: 0.7724077328646749\n",
      "At round 120 training accuracy: 0.7745437745437745\n",
      "At round 120 training loss: 1.9737281050832327\n",
      "Group 1\n",
      "At round 120 accuracy: 0.7419536984754376\n",
      "At round 120 training accuracy: 0.7684241618667849\n",
      "At round 120 training loss: 1.0554019763321087\n",
      "Group 2\n",
      "At round 120 accuracy: 0.5572916666666666\n",
      "At round 120 training accuracy: 0.5892186966905493\n",
      "At round 120 training loss: 1.328910326210018\n",
      "Group 3\n",
      "At round 120 accuracy: 0.5082284607938045\n",
      "At round 120 training accuracy: 0.5330129015937263\n",
      "At round 120 training loss: 2.0546083661131305\n",
      "Group 4\n",
      "At round 120 accuracy: 0.6242268041237113\n",
      "At round 120 training accuracy: 0.6622046168556208\n",
      "At round 120 training loss: 1.5310276366354028\n",
      "At round 120 mean test accuracy: 0.6368189591986319 mean train accuracy: 0.6639073378894343 mean train loss: 1.4985729921412936                     number of test client: 743\n",
      "The client-group discrepancy are: [37.50027121 43.83497624 22.25216336 40.38878539 43.47506871 49.18223621]\n",
      "Begin group  0 training\n"
     ]
    },
    {
     "name": "stderr",
     "output_type": "stream",
     "text": [
      "Epoch:   5%|▌         | 1/20 [00:00<00:02,  8.26it/s] "
     ]
    },
    {
     "name": "stdout",
     "output_type": "stream",
     "text": [
      "Begin group  1 training\n"
     ]
    },
    {
     "name": "stderr",
     "output_type": "stream",
     "text": [
      "Epoch:   5%|▌         | 1/20 [00:00<00:02,  8.24it/s] "
     ]
    },
    {
     "name": "stdout",
     "output_type": "stream",
     "text": [
      "Begin group  2 training\n"
     ]
    },
    {
     "name": "stderr",
     "output_type": "stream",
     "text": [
      "Epoch:   0%|          | 0/20 [00:00<?, ?it/s]         "
     ]
    },
    {
     "name": "stdout",
     "output_type": "stream",
     "text": [
      "Begin group  3 training\n"
     ]
    },
    {
     "name": "stderr",
     "output_type": "stream",
     "text": [
      "Epoch:   0%|          | 0/20 [00:00<?, ?it/s]         "
     ]
    },
    {
     "name": "stdout",
     "output_type": "stream",
     "text": [
      "Begin group  4 training\n"
     ]
    },
    {
     "name": "stderr",
     "output_type": "stream",
     "text": [
      "                                                      \r"
     ]
    },
    {
     "name": "stdout",
     "output_type": "stream",
     "text": [
      "Training groups takes 66.3954029083252s seconds\n",
      "Scheduling clients takes 3.0357162952423096s seconds\n",
      "Group 0, clients ['purplehayz']\n",
      "Group 1, clients ['Pepperfire', 'RyanMacintosh', 'Joy_Inc']\n",
      "Group 2, clients ['kels450', 'maddisondesigns', '_scene_queen_', 'BrandyWandLover']\n",
      "Group 3, clients ['LauRenxExCarter']\n",
      "Group 4, clients ['Dumskull', 'koast08', '_Slamma_', 'Darth_Disco', 'Kitt69', 'YourSavvyVA', 'AmyStar92', 'thisgoodlife', 'JaydDragyn', 'janabelle_xo', 'AmyAllTimeLow']\n"
     ]
    },
    {
     "name": "stderr",
     "output_type": "stream",
     "text": [
      "\r",
      "Epoch:   0%|          | 0/20 [00:00<?, ?it/s]"
     ]
    },
    {
     "name": "stdout",
     "output_type": "stream",
     "text": [
      "Group 0\n",
      "At round 121 accuracy: 0.7724077328646749\n",
      "At round 121 training accuracy: 0.7745437745437745\n",
      "At round 121 training loss: 2.0141608821135204\n",
      "Group 1\n",
      "At round 121 accuracy: 0.7924421883812747\n",
      "At round 121 training accuracy: 0.8065801121274713\n",
      "At round 121 training loss: 0.9757567463532013\n",
      "Group 2\n",
      "At round 121 accuracy: 0.6217047451669596\n",
      "At round 121 training accuracy: 0.6336439995397538\n",
      "At round 121 training loss: 1.2131799076658207\n",
      "Group 3\n",
      "At round 121 accuracy: 0.5507968127490039\n",
      "At round 121 training accuracy: 0.5561929595827901\n",
      "At round 121 training loss: 2.206919083707162\n",
      "Group 4\n",
      "At round 121 accuracy: 0.6442451420029895\n",
      "At round 121 training accuracy: 0.6631481725821349\n",
      "At round 121 training loss: 1.1941704141539609\n",
      "At round 121 mean test accuracy: 0.6763844840204928 mean train accuracy: 0.6883890811226452 mean train loss: 1.3901986581399755                     number of test client: 744\n",
      "The client-group discrepancy are: [34.50464601  4.03640347 32.5375376  28.89933348 46.30144895 38.77682919]\n",
      "Begin group  0 training\n"
     ]
    },
    {
     "name": "stderr",
     "output_type": "stream",
     "text": [
      "Epoch:   5%|▌         | 1/20 [00:00<00:03,  6.10it/s] "
     ]
    },
    {
     "name": "stdout",
     "output_type": "stream",
     "text": [
      "Begin group  1 training\n"
     ]
    },
    {
     "name": "stderr",
     "output_type": "stream",
     "text": [
      "Epoch:   5%|▌         | 1/20 [00:00<00:02,  8.86it/s] "
     ]
    },
    {
     "name": "stdout",
     "output_type": "stream",
     "text": [
      "Begin group  2 training\n"
     ]
    },
    {
     "name": "stderr",
     "output_type": "stream",
     "text": [
      "Epoch:   5%|▌         | 1/20 [00:00<00:02,  6.64it/s] "
     ]
    },
    {
     "name": "stdout",
     "output_type": "stream",
     "text": [
      "Begin group  3 training\n"
     ]
    },
    {
     "name": "stderr",
     "output_type": "stream",
     "text": [
      "Epoch:   5%|▌         | 1/20 [00:00<00:01,  9.77it/s] "
     ]
    },
    {
     "name": "stdout",
     "output_type": "stream",
     "text": [
      "Begin group  4 training\n"
     ]
    },
    {
     "name": "stderr",
     "output_type": "stream",
     "text": [
      "                                                      \r"
     ]
    },
    {
     "name": "stdout",
     "output_type": "stream",
     "text": [
      "Training groups takes 61.56612157821655s seconds\n",
      "Scheduling clients takes 2.97668194770813s seconds\n",
      "Group 0, clients ['Momodel180']\n",
      "Group 1, clients ['LadyProducHer', 'FreshPlastic']\n",
      "Group 2, clients ['oldskool90', 'magicswebpage', 'haselhurst', 'NOTICEmeDAVID', 'f2point4', 'evil_cackle', 'paluawahine', 'eysies', 'kyoisorange', '_strokemyEGO', 'xDirtyBurdx']\n",
      "Group 3 is empty.\n",
      "Group 4, clients ['Christyxcore', 'amberwhiting', 'guilty_', 'Trace027', 'DivasMistress', 'angel9293']\n"
     ]
    },
    {
     "name": "stderr",
     "output_type": "stream",
     "text": [
      "Epoch:   5%|▌         | 1/20 [00:00<00:02,  8.94it/s]"
     ]
    },
    {
     "name": "stdout",
     "output_type": "stream",
     "text": [
      "Group 0\n",
      "At round 122 accuracy: 0.7837837837837838\n",
      "At round 122 training accuracy: 0.7891994315490289\n",
      "At round 122 training loss: 1.9312781309851783\n",
      "Group 1\n",
      "At round 122 accuracy: 0.7974186307519641\n",
      "At round 122 training accuracy: 0.8153530016145604\n",
      "At round 122 training loss: 0.9585028753546918\n",
      "Group 2\n",
      "At round 122 accuracy: 0.590849098108227\n",
      "At round 122 training accuracy: 0.6095874625489744\n",
      "At round 122 training loss: 1.0417977645272043\n",
      "Group 3\n",
      "At round 122 accuracy: 0.5139442231075697\n",
      "At round 122 training accuracy: 0.5428943937418513\n",
      "At round 122 training loss: 3.5619204123051547\n",
      "Group 4\n",
      "At round 122 accuracy: 0.6338097585017249\n",
      "At round 122 training accuracy: 0.6624478079331941\n",
      "At round 122 training loss: 1.0642202906232785\n",
      "At round 122 mean test accuracy: 0.6630885581849232 mean train accuracy: 0.6835832372164552 mean train loss: 1.4590864554628058                     number of test client: 744\n",
      "The client-group discrepancy are: [29.82207629  4.0418126  25.41736457 27.84908346  0.         39.20417769]\n",
      "Begin group  0 training\n"
     ]
    },
    {
     "name": "stderr",
     "output_type": "stream",
     "text": [
      "Epoch:   5%|▌         | 1/20 [00:00<00:02,  6.58it/s] "
     ]
    },
    {
     "name": "stdout",
     "output_type": "stream",
     "text": [
      "Begin group  1 training\n"
     ]
    },
    {
     "name": "stderr",
     "output_type": "stream",
     "text": [
      "Epoch:   5%|▌         | 1/20 [00:00<00:02,  7.03it/s] "
     ]
    },
    {
     "name": "stdout",
     "output_type": "stream",
     "text": [
      "Begin group  2 training\n"
     ]
    },
    {
     "name": "stderr",
     "output_type": "stream",
     "text": [
      "Epoch:   5%|▌         | 1/20 [00:00<00:02,  8.70it/s] "
     ]
    },
    {
     "name": "stdout",
     "output_type": "stream",
     "text": [
      "Begin group  4 training\n"
     ]
    },
    {
     "name": "stderr",
     "output_type": "stream",
     "text": [
      "                                                      \r"
     ]
    },
    {
     "name": "stdout",
     "output_type": "stream",
     "text": [
      "Training groups takes 54.97908401489258s seconds\n",
      "Scheduling clients takes 3.0752038955688477s seconds\n",
      "Group 0, clients ['tweetles']\n",
      "Group 1, clients ['chiniehdiaz', 'MiraCraigFan', 'MGMarts']\n",
      "Group 2, clients ['Nikkers', 'BearNoiz', 'claudiamcfly', 'paulpuddifoot', 'DubarryMcfly', 'KJL912', 'andrewpycroft', 'Lizloz', 'Lyricist_Juice']\n",
      "Group 3, clients ['suewaters', 'SarahMorrison']\n",
      "Group 4, clients ['crazymitchell', 'ponor', 'marianaguidil', 'xmiyix', 'torilovesbradie']\n"
     ]
    },
    {
     "name": "stderr",
     "output_type": "stream",
     "text": [
      "\r",
      "Epoch:   0%|          | 0/20 [00:00<?, ?it/s]"
     ]
    },
    {
     "name": "stdout",
     "output_type": "stream",
     "text": [
      "Group 0\n",
      "At round 123 accuracy: 0.7886690647482014\n",
      "At round 123 training accuracy: 0.7942776069992906\n",
      "At round 123 training loss: 1.9093595688766065\n",
      "Group 1\n",
      "At round 123 accuracy: 0.7927461139896373\n",
      "At round 123 training accuracy: 0.8141286338303961\n",
      "At round 123 training loss: 0.9298386834420185\n",
      "Group 2\n",
      "At round 123 accuracy: 0.5975715524718127\n",
      "At round 123 training accuracy: 0.6234813216759396\n",
      "At round 123 training loss: 1.1221997260851095\n",
      "Group 3\n",
      "At round 123 accuracy: 0.5155466399197592\n",
      "At round 123 training accuracy: 0.5450485946939848\n",
      "At round 123 training loss: 3.5412365678858793\n",
      "Group 4\n",
      "At round 123 accuracy: 0.6559139784946236\n",
      "At round 123 training accuracy: 0.6808538163001293\n",
      "At round 123 training loss: 1.211364628848792\n",
      "At round 123 mean test accuracy: 0.6694315686752866 mean train accuracy: 0.6918172497757273 mean train loss: 1.5050759265258553                     number of test client: 744\n",
      "The client-group discrepancy are: [36.28109722 43.73167281  5.40120057 44.39730216 25.74273543 42.92509593]\n",
      "Begin group  0 training\n"
     ]
    },
    {
     "name": "stderr",
     "output_type": "stream",
     "text": [
      "Epoch:   0%|          | 0/20 [00:00<?, ?it/s]         "
     ]
    },
    {
     "name": "stdout",
     "output_type": "stream",
     "text": [
      "Begin group  1 training\n"
     ]
    },
    {
     "name": "stderr",
     "output_type": "stream",
     "text": [
      "Epoch:   5%|▌         | 1/20 [00:00<00:01,  9.62it/s] "
     ]
    },
    {
     "name": "stdout",
     "output_type": "stream",
     "text": [
      "Begin group  2 training\n"
     ]
    },
    {
     "name": "stderr",
     "output_type": "stream",
     "text": [
      "Epoch:   5%|▌         | 1/20 [00:00<00:01,  9.55it/s] "
     ]
    },
    {
     "name": "stdout",
     "output_type": "stream",
     "text": [
      "Begin group  3 training\n"
     ]
    },
    {
     "name": "stderr",
     "output_type": "stream",
     "text": [
      "Epoch:   5%|▌         | 1/20 [00:00<00:02,  7.03it/s] "
     ]
    },
    {
     "name": "stdout",
     "output_type": "stream",
     "text": [
      "Begin group  4 training\n"
     ]
    },
    {
     "name": "stderr",
     "output_type": "stream",
     "text": [
      "                                                      \r"
     ]
    },
    {
     "name": "stdout",
     "output_type": "stream",
     "text": [
      "Training groups takes 76.10422158241272s seconds\n",
      "Scheduling clients takes 3.002974510192871s seconds\n",
      "Group 0 is empty.\n",
      "Group 1, clients ['smuttysteff', 'AtlantisJackson', 'shanajaca', 'neszlifeasmcrmy', 'life_afairytale', 'Aw_Re_ya_2_', 'vickymoontree']\n",
      "Group 2, clients ['Dot12b', 'evil_cackle', 'Rianca', 'janeybelle15']\n",
      "Group 3, clients ['rorambenjimouse']\n",
      "Group 4, clients ['michxxblc', 'iHaps', 'xmellyssax', 'chelseasms', 'Dumskull', 'wisdompathart', 'ameym21', 'ponor']\n"
     ]
    },
    {
     "name": "stderr",
     "output_type": "stream",
     "text": [
      "\r",
      "Epoch:   0%|          | 0/20 [00:00<?, ?it/s]"
     ]
    },
    {
     "name": "stdout",
     "output_type": "stream",
     "text": [
      "Group 0\n",
      "At round 124 accuracy: 0.7874659400544959\n",
      "At round 124 training accuracy: 0.7932187201528176\n",
      "At round 124 training loss: 2.008322014387471\n",
      "Group 1\n",
      "At round 124 accuracy: 0.815954415954416\n",
      "At round 124 training accuracy: 0.8244855353414853\n",
      "At round 124 training loss: 0.5789203438027369\n",
      "Group 2\n",
      "At round 124 accuracy: 0.6054925893635571\n",
      "At round 124 training accuracy: 0.6279096303057964\n",
      "At round 124 training loss: 1.1511913469840829\n",
      "Group 3\n",
      "At round 124 accuracy: 0.5521783181357649\n",
      "At round 124 training accuracy: 0.5818519501193951\n",
      "At round 124 training loss: 2.8898699941095924\n",
      "Group 4\n",
      "At round 124 accuracy: 0.6433770014556041\n",
      "At round 124 training accuracy: 0.6761721258831085\n",
      "At round 124 training loss: 1.0694178029866117\n",
      "At round 124 mean test accuracy: 0.6780922176140523 mean train accuracy: 0.69880174291939 mean train loss: 1.3328037610795274                     number of test client: 744\n",
      "The client-group discrepancy are: [21.31366278  0.         24.28325914 15.81877842  7.02482842 23.24881243]\n",
      "Begin group  1 training\n"
     ]
    },
    {
     "name": "stderr",
     "output_type": "stream",
     "text": [
      "Epoch:   0%|          | 0/20 [00:00<?, ?it/s]         "
     ]
    },
    {
     "name": "stdout",
     "output_type": "stream",
     "text": [
      "Begin group  2 training\n"
     ]
    },
    {
     "name": "stderr",
     "output_type": "stream",
     "text": [
      "Epoch:   5%|▌         | 1/20 [00:00<00:02,  7.28it/s] "
     ]
    },
    {
     "name": "stdout",
     "output_type": "stream",
     "text": [
      "Begin group  3 training\n"
     ]
    },
    {
     "name": "stderr",
     "output_type": "stream",
     "text": [
      "Epoch:   0%|          | 0/20 [00:00<?, ?it/s]         "
     ]
    },
    {
     "name": "stdout",
     "output_type": "stream",
     "text": [
      "Begin group  4 training\n"
     ]
    },
    {
     "name": "stderr",
     "output_type": "stream",
     "text": [
      "                                                      \r"
     ]
    },
    {
     "name": "stdout",
     "output_type": "stream",
     "text": [
      "Training groups takes 72.42685866355896s seconds\n",
      "Scheduling clients takes 3.088080883026123s seconds\n",
      "Group 0, clients ['mOFrIz']\n",
      "Group 1, clients ['_MsWhite', 'coliwilso', 'toastedfrenchie']\n",
      "Group 2, clients ['aerobic247', 'Spidersamm', 'LorenYxox', 'jaronmc', 'aLeKnight', 'VIBEAUTY', 'holyschmoke', 'suewaters', 'dannisaywhat', 'kittenspawn']\n",
      "Group 3 is empty.\n",
      "Group 4, clients ['torilovesbradie', 'xmiyix', 'mrpower', 'TwistedHelen', 'OMGitsJessieLee', 'itsJohno']\n"
     ]
    },
    {
     "name": "stderr",
     "output_type": "stream",
     "text": [
      "\r",
      "Epoch:   0%|          | 0/20 [00:00<?, ?it/s]"
     ]
    },
    {
     "name": "stdout",
     "output_type": "stream",
     "text": [
      "Group 0\n",
      "At round 125 accuracy: 0.7902930402930403\n",
      "At round 125 training accuracy: 0.7966305655836342\n",
      "At round 125 training loss: 1.9732148950786563\n",
      "Group 1\n",
      "At round 125 accuracy: 0.808051341890315\n",
      "At round 125 training accuracy: 0.8155681296834378\n",
      "At round 125 training loss: 0.7242765070481412\n",
      "Group 2\n",
      "At round 125 accuracy: 0.5781052631578948\n",
      "At round 125 training accuracy: 0.5921603171107686\n",
      "At round 125 training loss: 1.1874876413506654\n",
      "Group 3\n",
      "At round 125 accuracy: 0.5160955347871236\n",
      "At round 125 training accuracy: 0.5188807389296387\n",
      "At round 125 training loss: 2.013257967350416\n",
      "Group 4\n",
      "At round 125 accuracy: 0.6738072054527751\n",
      "At round 125 training accuracy: 0.7049645390070922\n",
      "At round 125 training loss: 1.220659472933129\n",
      "At round 125 mean test accuracy: 0.6711393022688461 mean train accuracy: 0.6855696526976803 mean train loss: 1.3006706240484318                     number of test client: 744\n",
      "The client-group discrepancy are: [28.6687854   1.26953233 20.13165735 37.15277439  0.         23.36390997]\n",
      "Begin group  0 training\n"
     ]
    },
    {
     "name": "stderr",
     "output_type": "stream",
     "text": [
      "Epoch:   5%|▌         | 1/20 [00:00<00:02,  6.56it/s] "
     ]
    },
    {
     "name": "stdout",
     "output_type": "stream",
     "text": [
      "Begin group  1 training\n"
     ]
    },
    {
     "name": "stderr",
     "output_type": "stream",
     "text": [
      "Epoch:   5%|▌         | 1/20 [00:00<00:03,  5.61it/s] "
     ]
    },
    {
     "name": "stdout",
     "output_type": "stream",
     "text": [
      "Begin group  2 training\n"
     ]
    },
    {
     "name": "stderr",
     "output_type": "stream",
     "text": [
      "Epoch:   0%|          | 0/20 [00:00<?, ?it/s]         "
     ]
    },
    {
     "name": "stdout",
     "output_type": "stream",
     "text": [
      "Begin group  4 training\n"
     ]
    },
    {
     "name": "stderr",
     "output_type": "stream",
     "text": [
      "                                                      \r"
     ]
    },
    {
     "name": "stdout",
     "output_type": "stream",
     "text": [
      "Training groups takes 78.18376564979553s seconds\n",
      "Scheduling clients takes 3.0897576808929443s seconds\n",
      "Group 0, clients ['zoeyjordan', 'MissGoogle']\n",
      "Group 1, clients ['ciaobella50', 'AshesOfLilies', 'mattdavey2', 'TinaS71', 'sicknastyalison', 'iamloz_JsPR', 'kamiNcali', 'TeamUKskyvixen', 'Joy_Inc']\n",
      "Group 2, clients ['oldskool90', 'VIBEAUTY', 'hanaames', 'donniesgirl01']\n",
      "Group 3, clients ['lauzmur']\n",
      "Group 4, clients ['froggie775', 'annief1', 'zenjar', 'mnstrsnmnchkns']\n"
     ]
    },
    {
     "name": "stderr",
     "output_type": "stream",
     "text": [
      "\r",
      "Epoch:   0%|          | 0/20 [00:00<?, ?it/s]"
     ]
    },
    {
     "name": "stdout",
     "output_type": "stream",
     "text": [
      "Group 0\n",
      "At round 126 accuracy: 0.7897674418604651\n",
      "At round 126 training accuracy: 0.7956989247311828\n",
      "At round 126 training loss: 2.0043876320587177\n",
      "Group 1\n",
      "At round 126 accuracy: 0.7897759908098794\n",
      "At round 126 training accuracy: 0.8114002105579786\n",
      "At round 126 training loss: 0.7134033813481165\n",
      "Group 2\n",
      "At round 126 accuracy: 0.6097145291861952\n",
      "At round 126 training accuracy: 0.6282051282051282\n",
      "At round 126 training loss: 1.1656829048757968\n",
      "Group 3\n",
      "At round 126 accuracy: 0.5160955347871236\n",
      "At round 126 training accuracy: 0.5188807389296387\n",
      "At round 126 training loss: 2.013257967350416\n",
      "Group 4\n",
      "At round 126 accuracy: 0.665057915057915\n",
      "At round 126 training accuracy: 0.6936061381074169\n",
      "At round 126 training loss: 1.281022450088254\n",
      "At round 126 mean test accuracy: 0.6745547694559648 mean train accuracy: 0.6926823016788415 mean train loss: 1.3081490153534163                     number of test client: 744\n",
      "The client-group discrepancy are: [22.34616627  5.8665671  25.27351114 16.84618065 14.17797669 31.54147291]\n",
      "Begin group  0 training\n"
     ]
    },
    {
     "name": "stderr",
     "output_type": "stream",
     "text": [
      "Epoch:   5%|▌         | 1/20 [00:00<00:02,  7.72it/s] "
     ]
    },
    {
     "name": "stdout",
     "output_type": "stream",
     "text": [
      "Begin group  1 training\n"
     ]
    },
    {
     "name": "stderr",
     "output_type": "stream",
     "text": [
      "Epoch:   5%|▌         | 1/20 [00:00<00:02,  7.35it/s] "
     ]
    },
    {
     "name": "stdout",
     "output_type": "stream",
     "text": [
      "Begin group  2 training\n"
     ]
    },
    {
     "name": "stderr",
     "output_type": "stream",
     "text": [
      "Epoch:   5%|▌         | 1/20 [00:00<00:02,  9.13it/s] "
     ]
    },
    {
     "name": "stdout",
     "output_type": "stream",
     "text": [
      "Begin group  3 training\n"
     ]
    },
    {
     "name": "stderr",
     "output_type": "stream",
     "text": [
      "Epoch:   5%|▌         | 1/20 [00:00<00:02,  6.76it/s] "
     ]
    },
    {
     "name": "stdout",
     "output_type": "stream",
     "text": [
      "Begin group  4 training\n"
     ]
    },
    {
     "name": "stderr",
     "output_type": "stream",
     "text": [
      "                                                      \r"
     ]
    },
    {
     "name": "stdout",
     "output_type": "stream",
     "text": [
      "Training groups takes 56.954400062561035s seconds\n",
      "Scheduling clients takes 3.101766347885132s seconds\n",
      "Group 0 is empty.\n",
      "Group 1, clients ['scarletmandy', 'ImmaChocoholic', 'Sheamus', 'crucifire', 'nikipaniki', 'dopeydoo']\n",
      "Group 2, clients ['ponor', 'PrincessSakura', '_scene_queen_', 'saintcreaghzy', 'tracyewilli', 'sharonhayes', 'xxLOVExxPEACE', 'sweetcherrypop', 'VickiElam', 'thatlass']\n",
      "Group 3, clients ['katherinemarsh', 'I_enigma']\n",
      "Group 4, clients ['annief1', 'xPurplexMuffinx']\n"
     ]
    },
    {
     "name": "stderr",
     "output_type": "stream",
     "text": [
      "\r",
      "Epoch:   0%|          | 0/20 [00:00<?, ?it/s]"
     ]
    },
    {
     "name": "stdout",
     "output_type": "stream",
     "text": [
      "Group 0\n",
      "At round 127 accuracy: 0.7875939849624061\n",
      "At round 127 training accuracy: 0.7937252964426877\n",
      "At round 127 training loss: 2.048064231108368\n",
      "Group 1\n",
      "At round 127 accuracy: 0.7975042541123085\n",
      "At round 127 training accuracy: 0.8245952769939106\n",
      "At round 127 training loss: 0.7386441752994767\n",
      "Group 2\n",
      "At round 127 accuracy: 0.6243760399334443\n",
      "At round 127 training accuracy: 0.6639460224181086\n",
      "At round 127 training loss: 0.8952115631884979\n",
      "Group 3\n",
      "At round 127 accuracy: 0.4909862142099682\n",
      "At round 127 training accuracy: 0.5151430953042512\n",
      "At round 127 training loss: 2.1829688508799374\n",
      "Group 4\n",
      "At round 127 accuracy: 0.682806324110672\n",
      "At round 127 training accuracy: 0.7077063980112521\n",
      "At round 127 training loss: 1.1490465156401575\n",
      "At round 127 mean test accuracy: 0.6818736277140766 mean train accuracy: 0.7089901320005126 mean train loss: 1.221601361890035                     number of test client: 744\n",
      "The client-group discrepancy are: [35.58693689  0.         27.94798907 43.42559898 27.76739382 27.13001304]\n",
      "Begin group  1 training\n"
     ]
    },
    {
     "name": "stderr",
     "output_type": "stream",
     "text": [
      "Epoch:   5%|▌         | 1/20 [00:00<00:02,  8.16it/s] "
     ]
    },
    {
     "name": "stdout",
     "output_type": "stream",
     "text": [
      "Begin group  2 training\n"
     ]
    },
    {
     "name": "stderr",
     "output_type": "stream",
     "text": [
      "Epoch:   5%|▌         | 1/20 [00:00<00:02,  9.01it/s] "
     ]
    },
    {
     "name": "stdout",
     "output_type": "stream",
     "text": [
      "Begin group  3 training\n"
     ]
    },
    {
     "name": "stderr",
     "output_type": "stream",
     "text": [
      "Epoch:   0%|          | 0/20 [00:00<?, ?it/s]         "
     ]
    },
    {
     "name": "stdout",
     "output_type": "stream",
     "text": [
      "Begin group  4 training\n"
     ]
    },
    {
     "name": "stderr",
     "output_type": "stream",
     "text": [
      "                                                      \r"
     ]
    },
    {
     "name": "stdout",
     "output_type": "stream",
     "text": [
      "Training groups takes 64.31453847885132s seconds\n",
      "Scheduling clients takes 3.0611369609832764s seconds\n",
      "Group 0, clients ['petehopkins', '19c816tf9227', 'RGM77']\n",
      "Group 1, clients ['velofille', '18percentgrey', 'majastevanovich']\n",
      "Group 2, clients ['TinyPicTweets', 'Spidersamm', 'kristikubota', 'eboogiee', 'kels450', 'Bhooshan', 'xXMCR_LadyXx', 'MupNorth', 'Arasphere', 'stevegarufi', 'dyeleepong', 'nere13', 'jiriteach', 'kat_n']\n",
      "Group 3 is empty.\n",
      "Group 4 is empty.\n"
     ]
    },
    {
     "name": "stderr",
     "output_type": "stream",
     "text": [
      "\r",
      "Epoch:   0%|          | 0/20 [00:00<?, ?it/s]"
     ]
    },
    {
     "name": "stdout",
     "output_type": "stream",
     "text": [
      "Group 0\n",
      "At round 128 accuracy: 0.7945454545454546\n",
      "At round 128 training accuracy: 0.8002866698518872\n",
      "At round 128 training loss: 1.9831294292197383\n",
      "Group 1\n",
      "At round 128 accuracy: 0.807624633431085\n",
      "At round 128 training accuracy: 0.8301075268817204\n",
      "At round 128 training loss: 0.7511827843812023\n",
      "Group 2\n",
      "At round 128 accuracy: 0.6162464985994398\n",
      "At round 128 training accuracy: 0.6260069044879172\n",
      "At round 128 training loss: 0.8694410151148743\n",
      "Group 3\n",
      "At round 128 accuracy: 0.49942987457240595\n",
      "At round 128 training accuracy: 0.5230538922155689\n",
      "At round 128 training loss: 2.8351164707714624\n",
      "Group 4\n",
      "At round 128 accuracy: 0.6703024293505205\n",
      "At round 128 training accuracy: 0.6983064198503348\n",
      "At round 128 training loss: 1.3383434358678559\n",
      "At round 128 mean test accuracy: 0.6807757989753599 mean train accuracy: 0.6985774702037678 mean train loss: 1.3189163572952927                     number of test client: 744\n",
      "The client-group discrepancy are: [32.8894725  45.29644508 21.82930452 32.60087151  0.          0.        ]\n",
      "Begin group  0 training\n"
     ]
    },
    {
     "name": "stderr",
     "output_type": "stream",
     "text": [
      "Epoch:   5%|▌         | 1/20 [00:00<00:02,  6.78it/s] "
     ]
    },
    {
     "name": "stdout",
     "output_type": "stream",
     "text": [
      "Begin group  1 training\n"
     ]
    },
    {
     "name": "stderr",
     "output_type": "stream",
     "text": [
      "Epoch:   5%|▌         | 1/20 [00:00<00:02,  6.97it/s] "
     ]
    },
    {
     "name": "stdout",
     "output_type": "stream",
     "text": [
      "Begin group  2 training\n"
     ]
    },
    {
     "name": "stderr",
     "output_type": "stream",
     "text": [
      "                                                      \r"
     ]
    },
    {
     "name": "stdout",
     "output_type": "stream",
     "text": [
      "Training groups takes 80.61003494262695s seconds\n",
      "Scheduling clients takes 3.168743371963501s seconds\n",
      "Group 0, clients ['tweeteradder2', 'tweeteradder10', 'tweetles', 'RyanMacintosh']\n",
      "Group 1, clients ['ciaobella50', 'KatyCaptivated', 'SomersetBob', 'shanajaca']\n",
      "Group 2, clients ['AreonLee', 'iamloz_JsPR', 'caseysevenfold', 'Jill88', 'louiealdip', 'ninirific', 'TwistedHelen', 'bustyb73', '_MsWhite']\n",
      "Group 3, clients ['NikFreeman']\n",
      "Group 4, clients ['Rubyam', 'mnstrsnmnchkns']\n"
     ]
    },
    {
     "name": "stderr",
     "output_type": "stream",
     "text": [
      "\r",
      "Epoch:   0%|          | 0/20 [00:00<?, ?it/s]"
     ]
    },
    {
     "name": "stdout",
     "output_type": "stream",
     "text": [
      "Group 0\n",
      "At round 129 accuracy: 0.8146821844225605\n",
      "At round 129 training accuracy: 0.8217728662120856\n",
      "At round 129 training loss: 1.279077449198753\n",
      "Group 1\n",
      "At round 129 accuracy: 0.8211480362537764\n",
      "At round 129 training accuracy: 0.8385820541224878\n",
      "At round 129 training loss: 1.005491058382367\n",
      "Group 2\n",
      "At round 129 accuracy: 0.6531408505657432\n",
      "At round 129 training accuracy: 0.6756811919583631\n",
      "At round 129 training loss: 0.959305350745998\n",
      "Group 3\n",
      "At round 129 accuracy: 0.5056053811659192\n",
      "At round 129 training accuracy: 0.5284074183102738\n",
      "At round 129 training loss: 2.804256111849648\n",
      "Group 4\n",
      "At round 129 accuracy: 0.6681887366818874\n",
      "At round 129 training accuracy: 0.6986835034927459\n",
      "At round 129 training loss: 1.3394372164642598\n",
      "At round 129 mean test accuracy: 0.6966333252012686 mean train accuracy: 0.7180251185441496 mean train loss: 1.303686920819996                     number of test client: 744\n",
      "The client-group discrepancy are: [35.38748214 34.32675858 25.41939012 44.85378349 44.91843788 10.08127939]\n",
      "Begin group  0 training\n"
     ]
    },
    {
     "name": "stderr",
     "output_type": "stream",
     "text": [
      "Epoch:   5%|▌         | 1/20 [00:00<00:02,  7.42it/s] "
     ]
    },
    {
     "name": "stdout",
     "output_type": "stream",
     "text": [
      "Begin group  1 training\n"
     ]
    },
    {
     "name": "stderr",
     "output_type": "stream",
     "text": [
      "Epoch:   0%|          | 0/20 [00:00<?, ?it/s]         "
     ]
    },
    {
     "name": "stdout",
     "output_type": "stream",
     "text": [
      "Begin group  2 training\n"
     ]
    },
    {
     "name": "stderr",
     "output_type": "stream",
     "text": [
      "Epoch:   0%|          | 0/20 [00:00<?, ?it/s]         "
     ]
    },
    {
     "name": "stdout",
     "output_type": "stream",
     "text": [
      "Begin group  3 training\n"
     ]
    },
    {
     "name": "stderr",
     "output_type": "stream",
     "text": [
      "Epoch:   5%|▌         | 1/20 [00:00<00:02,  8.57it/s] "
     ]
    },
    {
     "name": "stdout",
     "output_type": "stream",
     "text": [
      "Begin group  4 training\n"
     ]
    },
    {
     "name": "stderr",
     "output_type": "stream",
     "text": [
      "                                                      \r"
     ]
    },
    {
     "name": "stdout",
     "output_type": "stream",
     "text": [
      "Training groups takes 83.67956328392029s seconds\n",
      "Scheduling clients takes 3.037099599838257s seconds\n",
      "Group 0 is empty.\n",
      "Group 1 is empty.\n",
      "Group 2, clients ['EricaLeigh777', 'Aw_Re_ya_2_', 'sprinkles_', 'AliciaWag', 'Hyper8', 'Bopsicle']\n",
      "Group 3, clients ['davidbarrett1', 'annzoo', 'LiluYvett', 'Kikirowr']\n",
      "Group 4, clients ['MrsBamBam', 'Miamoodles', 'Dot12b', '_writersblock_', 'wonderpetunia', 'mrpower', 'xohanna', 'robertholiday', 'ambienteer', 'eboogiee']\n"
     ]
    },
    {
     "name": "stderr",
     "output_type": "stream",
     "text": [
      "\r",
      "Epoch:   0%|          | 0/20 [00:00<?, ?it/s]"
     ]
    },
    {
     "name": "stdout",
     "output_type": "stream",
     "text": [
      "Group 0\n",
      "At round 130 accuracy: 0.8173598553345389\n",
      "At round 130 training accuracy: 0.8252196627879363\n",
      "At round 130 training loss: 1.2356873087888893\n",
      "Group 1\n",
      "At round 130 accuracy: 0.8182926829268292\n",
      "At round 130 training accuracy: 0.8389465283320032\n",
      "At round 130 training loss: 1.04739644313652\n",
      "Group 2\n",
      "At round 130 accuracy: 0.6302912621359223\n",
      "At round 130 training accuracy: 0.6592848435595287\n",
      "At round 130 training loss: 1.031678397000125\n",
      "Group 3\n",
      "At round 130 accuracy: 0.5755879059350504\n",
      "At round 130 training accuracy: 0.5951750514857311\n",
      "At round 130 training loss: 2.2194941056183715\n",
      "Group 4\n",
      "At round 130 accuracy: 0.672663668165917\n",
      "At round 130 training accuracy: 0.6971300092580347\n",
      "At round 130 training loss: 1.1209654762775332\n",
      "At round 130 mean test accuracy: 0.6973828362751066 mean train accuracy: 0.7197890025575447 mean train loss: 1.2129456695895402                     number of test client: 745\n",
      "The client-group discrepancy are: [37.12489309  0.          0.         43.17421227 28.28018463 37.03318497]\n",
      "Begin group  2 training\n"
     ]
    },
    {
     "name": "stderr",
     "output_type": "stream",
     "text": [
      "Epoch:   5%|▌         | 1/20 [00:00<00:02,  8.60it/s] "
     ]
    },
    {
     "name": "stdout",
     "output_type": "stream",
     "text": [
      "Begin group  3 training\n"
     ]
    },
    {
     "name": "stderr",
     "output_type": "stream",
     "text": [
      "Epoch:   5%|▌         | 1/20 [00:00<00:02,  9.06it/s] "
     ]
    },
    {
     "name": "stdout",
     "output_type": "stream",
     "text": [
      "Begin group  4 training\n"
     ]
    },
    {
     "name": "stderr",
     "output_type": "stream",
     "text": [
      "                                                      \r"
     ]
    },
    {
     "name": "stdout",
     "output_type": "stream",
     "text": [
      "Training groups takes 68.65059876441956s seconds\n",
      "Scheduling clients takes 3.0331192016601562s seconds\n",
      "Group 0, clients ['AsiaBrands', 'makeupbylinvia', 'OHMYDAYSitsHayz']\n",
      "Group 1, clients ['Minerveca', 'mrshananto', 'chiniehdiaz']\n",
      "Group 2, clients ['theknickermafia', 'MrTHill', 'bustyb73', 'xmellyssax', 'iLadySyncere', 'lordmuttley', 'TeeQ2', 'nicolalalalala', 'AreonLee']\n",
      "Group 3, clients ['jonasnessica', 'b1ng0bang0']\n",
      "Group 4, clients ['Jamjar84', 'peytonluvsjoe', 'theanand']\n"
     ]
    },
    {
     "name": "stderr",
     "output_type": "stream",
     "text": [
      "Epoch:   5%|▌         | 1/20 [00:00<00:02,  9.17it/s]"
     ]
    },
    {
     "name": "stdout",
     "output_type": "stream",
     "text": [
      "Group 0\n",
      "At round 131 accuracy: 0.8183437221727515\n",
      "At round 131 training accuracy: 0.8269005847953217\n",
      "At round 131 training loss: 1.2232998683192966\n",
      "Group 1\n",
      "At round 131 accuracy: 0.8187919463087249\n",
      "At round 131 training accuracy: 0.8398786717752235\n",
      "At round 131 training loss: 1.041108938272257\n",
      "Group 2\n",
      "At round 131 accuracy: 0.6542020046260602\n",
      "At round 131 training accuracy: 0.6745663574021783\n",
      "At round 131 training loss: 0.9768269606424513\n",
      "Group 3\n",
      "At round 131 accuracy: 0.5216400911161732\n",
      "At round 131 training accuracy: 0.5630428271937706\n",
      "At round 131 training loss: 1.7256977086555962\n",
      "Group 4\n",
      "At round 131 accuracy: 0.6511862695608278\n",
      "At round 131 training accuracy: 0.6934277317659632\n",
      "At round 131 training loss: 1.021501145976258\n",
      "At round 131 mean test accuracy: 0.6945830797321972 mean train accuracy: 0.7210997442455243 mean train loss: 1.1140150797989852                     number of test client: 745\n",
      "The client-group discrepancy are: [29.41906979 32.34949479 20.15447123 27.57827736 29.18498016 41.43168037]\n",
      "Begin group  0 training\n"
     ]
    },
    {
     "name": "stderr",
     "output_type": "stream",
     "text": [
      "Epoch:   5%|▌         | 1/20 [00:00<00:02,  8.92it/s] "
     ]
    },
    {
     "name": "stdout",
     "output_type": "stream",
     "text": [
      "Begin group  1 training\n"
     ]
    },
    {
     "name": "stderr",
     "output_type": "stream",
     "text": [
      "Epoch:   5%|▌         | 1/20 [00:00<00:02,  6.61it/s] "
     ]
    },
    {
     "name": "stdout",
     "output_type": "stream",
     "text": [
      "Begin group  2 training\n"
     ]
    },
    {
     "name": "stderr",
     "output_type": "stream",
     "text": [
      "Epoch:   0%|          | 0/20 [00:00<?, ?it/s]         "
     ]
    },
    {
     "name": "stdout",
     "output_type": "stream",
     "text": [
      "Begin group  3 training\n"
     ]
    },
    {
     "name": "stderr",
     "output_type": "stream",
     "text": [
      "Epoch:   5%|▌         | 1/20 [00:00<00:02,  8.88it/s] "
     ]
    },
    {
     "name": "stdout",
     "output_type": "stream",
     "text": [
      "Begin group  4 training\n"
     ]
    },
    {
     "name": "stderr",
     "output_type": "stream",
     "text": [
      "                                                      \r"
     ]
    },
    {
     "name": "stdout",
     "output_type": "stream",
     "text": [
      "Training groups takes 59.92659306526184s seconds\n",
      "Scheduling clients takes 2.919368267059326s seconds\n",
      "Group 0, clients ['privatestudmuff', 'brampitoyo', 'nsane8', 'twliciousness']\n",
      "Group 1, clients ['SomersetBob']\n",
      "Group 2, clients ['kels450', 'stratosphear', 'LiluYvett', 'LittlestarRed', 'Hybrid911', 'toastedfrenchie', 'AmyAllTimeLow', 'Commsguy', 'PreternaReviews']\n",
      "Group 3, clients ['suewaters']\n",
      "Group 4, clients ['_Alectrona_', 'Arasphere', 'koast08', 'annief1', 'ponor']\n"
     ]
    },
    {
     "name": "stderr",
     "output_type": "stream",
     "text": [
      "\r",
      "Epoch:   0%|          | 0/20 [00:00<?, ?it/s]"
     ]
    },
    {
     "name": "stdout",
     "output_type": "stream",
     "text": [
      "Group 0\n",
      "At round 132 accuracy: 0.8218588640275387\n",
      "At round 132 training accuracy: 0.8317503392130258\n",
      "At round 132 training loss: 1.0131298535108626\n",
      "Group 1\n",
      "At round 132 accuracy: 0.8170266836086404\n",
      "At round 132 training accuracy: 0.8372131692716994\n",
      "At round 132 training loss: 1.0133919151916235\n",
      "Group 2\n",
      "At round 132 accuracy: 0.6351505909264201\n",
      "At round 132 training accuracy: 0.6730481603350285\n",
      "At round 132 training loss: 0.8228641675192904\n",
      "Group 3\n",
      "At round 132 accuracy: 0.5747663551401869\n",
      "At round 132 training accuracy: 0.629379225568531\n",
      "At round 132 training loss: 2.0906478480562414\n",
      "Group 4\n",
      "At round 132 accuracy: 0.651\n",
      "At round 132 training accuracy: 0.6721333156989816\n",
      "At round 132 training loss: 1.135714117724844\n",
      "At round 132 mean test accuracy: 0.6939744370054778 mean train accuracy: 0.7222826086956522 mean train loss: 1.0939004625297626                     number of test client: 745\n",
      "The client-group discrepancy are: [34.48670477 33.5171467   3.58606328 37.22394806 50.44237705 33.32430715]\n",
      "Begin group  0 training\n"
     ]
    },
    {
     "name": "stderr",
     "output_type": "stream",
     "text": [
      "Epoch:   0%|          | 0/20 [00:00<?, ?it/s]         "
     ]
    },
    {
     "name": "stdout",
     "output_type": "stream",
     "text": [
      "Begin group  1 training\n"
     ]
    },
    {
     "name": "stderr",
     "output_type": "stream",
     "text": [
      "Epoch:   5%|▌         | 1/20 [00:00<00:02,  8.35it/s] "
     ]
    },
    {
     "name": "stdout",
     "output_type": "stream",
     "text": [
      "Begin group  2 training\n"
     ]
    },
    {
     "name": "stderr",
     "output_type": "stream",
     "text": [
      "Epoch:   0%|          | 0/20 [00:00<?, ?it/s]         "
     ]
    },
    {
     "name": "stdout",
     "output_type": "stream",
     "text": [
      "Begin group  3 training\n"
     ]
    },
    {
     "name": "stderr",
     "output_type": "stream",
     "text": [
      "Epoch:   5%|▌         | 1/20 [00:00<00:02,  7.19it/s] "
     ]
    },
    {
     "name": "stdout",
     "output_type": "stream",
     "text": [
      "Begin group  4 training\n"
     ]
    },
    {
     "name": "stderr",
     "output_type": "stream",
     "text": [
      "                                                      \r"
     ]
    },
    {
     "name": "stdout",
     "output_type": "stream",
     "text": [
      "Training groups takes 65.27566838264465s seconds\n",
      "Scheduling clients takes 3.0600838661193848s seconds\n",
      "Group 0, clients ['twliciousness', 'effingcards']\n",
      "Group 1, clients ['Knot2serious', 'ciaobella50']\n",
      "Group 2, clients ['_ophelia', 'AlexLJ', 'Galiiit', 'PS1968', 'TessMorris', 'EricaLeigh777', 'amalinaaa', 'JonasAustralia', 'AshyJonas', 'redLIGHTjoli']\n",
      "Group 3, clients ['sexidance', 'crrystalbabe', 'photokitty', 'fromthestars']\n",
      "Group 4, clients ['Aw_Re_ya_2_', 'robertholiday']\n"
     ]
    },
    {
     "name": "stderr",
     "output_type": "stream",
     "text": [
      "\r",
      "Epoch:   0%|          | 0/20 [00:00<?, ?it/s]"
     ]
    },
    {
     "name": "stdout",
     "output_type": "stream",
     "text": [
      "Group 0\n",
      "At round 133 accuracy: 0.8361233480176211\n",
      "At round 133 training accuracy: 0.8450508788159112\n",
      "At round 133 training loss: 1.2471373402116617\n",
      "Group 1\n",
      "At round 133 accuracy: 0.7703751617076326\n",
      "At round 133 training accuracy: 0.7921747967479674\n",
      "At round 133 training loss: 1.2374637088905163\n",
      "Group 2\n",
      "At round 133 accuracy: 0.6509746230231703\n",
      "At round 133 training accuracy: 0.6777606771835322\n",
      "At round 133 training loss: 1.0698348241616307\n",
      "Group 3\n",
      "At round 133 accuracy: 0.5928899082568807\n",
      "At round 133 training accuracy: 0.6309595654797827\n",
      "At round 133 training loss: 1.7383616832674407\n",
      "Group 4\n",
      "At round 133 accuracy: 0.6309830159547092\n",
      "At round 133 training accuracy: 0.6441024244075184\n",
      "At round 133 training loss: 1.4010566179002542\n",
      "At round 133 mean test accuracy: 0.6881314668289714 mean train accuracy: 0.7096227621483376 mean train loss: 1.2745555861675546                     number of test client: 745\n",
      "The client-group discrepancy are: [32.10747596 22.3424709   7.84698536 40.79745866 29.286805   28.32439999]\n",
      "Begin group  0 training\n"
     ]
    },
    {
     "name": "stderr",
     "output_type": "stream",
     "text": [
      "Epoch:   0%|          | 0/20 [00:00<?, ?it/s]         "
     ]
    },
    {
     "name": "stdout",
     "output_type": "stream",
     "text": [
      "Begin group  1 training\n"
     ]
    },
    {
     "name": "stderr",
     "output_type": "stream",
     "text": [
      "Epoch:   5%|▌         | 1/20 [00:00<00:02,  7.13it/s] "
     ]
    },
    {
     "name": "stdout",
     "output_type": "stream",
     "text": [
      "Begin group  2 training\n"
     ]
    },
    {
     "name": "stderr",
     "output_type": "stream",
     "text": [
      "Epoch:   5%|▌         | 1/20 [00:00<00:02,  7.14it/s] "
     ]
    },
    {
     "name": "stdout",
     "output_type": "stream",
     "text": [
      "Begin group  3 training\n"
     ]
    },
    {
     "name": "stderr",
     "output_type": "stream",
     "text": [
      "Epoch:   5%|▌         | 1/20 [00:00<00:02,  8.87it/s] "
     ]
    },
    {
     "name": "stdout",
     "output_type": "stream",
     "text": [
      "Begin group  4 training\n"
     ]
    },
    {
     "name": "stderr",
     "output_type": "stream",
     "text": [
      "                                                      \r"
     ]
    },
    {
     "name": "stdout",
     "output_type": "stream",
     "text": [
      "Training groups takes 71.97019648551941s seconds\n",
      "Scheduling clients takes 3.0887372493743896s seconds\n",
      "Group 0, clients ['sheryonstone', 'dogzero', 'MissGoogle', 'tweetles']\n",
      "Group 1 is empty.\n",
      "Group 2, clients ['lordmuttley', 'teachernz', 'nic0lepaula', 'Japh', 'vulcansmuse', 'LstInTheSeeThru']\n",
      "Group 3, clients ['weelissa', 'JoshwaActon', 'mrpower', 'andie_12', 'JBnVFCLover786', 'valenbfm', 'Nikkers', 'hannah106']\n",
      "Group 4, clients ['Arasphere', 'JJLuver756']\n"
     ]
    },
    {
     "name": "stderr",
     "output_type": "stream",
     "text": [
      "\r",
      "Epoch:   0%|          | 0/20 [00:00<?, ?it/s]"
     ]
    },
    {
     "name": "stdout",
     "output_type": "stream",
     "text": [
      "Group 0\n",
      "At round 134 accuracy: 0.8405545927209706\n",
      "At round 134 training accuracy: 0.8463636363636363\n",
      "At round 134 training loss: 1.1484255867432258\n",
      "Group 1\n",
      "At round 134 accuracy: 0.7868421052631579\n",
      "At round 134 training accuracy: 0.8106478290833907\n",
      "At round 134 training loss: 1.1520867269762995\n",
      "Group 2\n",
      "At round 134 accuracy: 0.6439535754399102\n",
      "At round 134 training accuracy: 0.6775046518460484\n",
      "At round 134 training loss: 0.9013207972169378\n",
      "Group 3\n",
      "At round 134 accuracy: 0.5787815126050421\n",
      "At round 134 training accuracy: 0.6265193370165746\n",
      "At round 134 training loss: 1.0537932432899817\n",
      "Group 4\n",
      "At round 134 accuracy: 0.6438923395445134\n",
      "At round 134 training accuracy: 0.676756608683742\n",
      "At round 134 training loss: 1.4525109248310062\n",
      "At round 134 mean test accuracy: 0.6903633491311216 mean train accuracy: 0.7198110799080929 mean train loss: 1.1285002683279197                     number of test client: 746\n",
      "The client-group discrepancy are: [31.02430661 13.38750922  0.         25.37485457 45.3851187  25.80300914]\n",
      "Begin group  0 training\n"
     ]
    },
    {
     "name": "stderr",
     "output_type": "stream",
     "text": [
      "Epoch:   5%|▌         | 1/20 [00:00<00:02,  6.60it/s] "
     ]
    },
    {
     "name": "stdout",
     "output_type": "stream",
     "text": [
      "Begin group  2 training\n"
     ]
    },
    {
     "name": "stderr",
     "output_type": "stream",
     "text": [
      "Epoch:   5%|▌         | 1/20 [00:00<00:02,  8.84it/s] "
     ]
    },
    {
     "name": "stdout",
     "output_type": "stream",
     "text": [
      "Begin group  3 training\n"
     ]
    },
    {
     "name": "stderr",
     "output_type": "stream",
     "text": [
      "Epoch:   0%|          | 0/20 [00:00<?, ?it/s]         "
     ]
    },
    {
     "name": "stdout",
     "output_type": "stream",
     "text": [
      "Begin group  4 training\n"
     ]
    },
    {
     "name": "stderr",
     "output_type": "stream",
     "text": [
      "                                                      \r"
     ]
    },
    {
     "name": "stdout",
     "output_type": "stream",
     "text": [
      "Training groups takes 67.01299357414246s seconds\n",
      "Scheduling clients takes 3.050302267074585s seconds\n",
      "Group 0, clients ['keza34', 'Tittch', 'zoeyjordan', 'imnangl', 'DaPrbmChild']\n",
      "Group 1, clients ['Morrica', 'tweeteradder3', 'quinland']\n",
      "Group 2, clients ['theknickermafia', 'neszlifeasmcrmy', 'adriwadri', 'Hyper8', 'ImmaChocoholic']\n",
      "Group 3, clients ['willtompsett', 'jerryfetus', 'Cherrim', 'AdrienneNycole', 'KateEdwards', 'ehammond84']\n",
      "Group 4, clients ['DanielJUK']\n"
     ]
    },
    {
     "name": "stderr",
     "output_type": "stream",
     "text": [
      "\r",
      "Epoch:   0%|          | 0/20 [00:00<?, ?it/s]"
     ]
    },
    {
     "name": "stdout",
     "output_type": "stream",
     "text": [
      "Group 0\n",
      "At round 135 accuracy: 0.8323301805674979\n",
      "At round 135 training accuracy: 0.8426991649740465\n",
      "At round 135 training loss: 0.9178917177748712\n",
      "Group 1\n",
      "At round 135 accuracy: 0.7916120576671035\n",
      "At round 135 training accuracy: 0.8132829929637893\n",
      "At round 135 training loss: 1.1329362377244596\n",
      "Group 2\n",
      "At round 135 accuracy: 0.6747078778741048\n",
      "At round 135 training accuracy: 0.6933925049309665\n",
      "At round 135 training loss: 0.9932806893927826\n",
      "Group 3\n",
      "At round 135 accuracy: 0.546\n",
      "At round 135 training accuracy: 0.6050486458059426\n",
      "At round 135 training loss: 1.1025713248736226\n",
      "Group 4\n",
      "At round 135 accuracy: 0.6631467793030623\n",
      "At round 135 training accuracy: 0.6882246123760302\n",
      "At round 135 training loss: 1.314823798676046\n",
      "At round 135 mean test accuracy: 0.7003399708596406 mean train accuracy: 0.7248724489795918 mean train loss: 1.095234890699614                     number of test client: 747\n",
      "The client-group discrepancy are: [36.61520173 28.46554311 45.25049196 30.39159672 48.981745    8.37638949]\n",
      "Begin group  0 training\n"
     ]
    },
    {
     "name": "stderr",
     "output_type": "stream",
     "text": [
      "Epoch:   5%|▌         | 1/20 [00:00<00:02,  8.23it/s] "
     ]
    },
    {
     "name": "stdout",
     "output_type": "stream",
     "text": [
      "Begin group  1 training\n"
     ]
    },
    {
     "name": "stderr",
     "output_type": "stream",
     "text": [
      "Epoch:   5%|▌         | 1/20 [00:00<00:02,  7.03it/s] "
     ]
    },
    {
     "name": "stdout",
     "output_type": "stream",
     "text": [
      "Begin group  2 training\n"
     ]
    },
    {
     "name": "stderr",
     "output_type": "stream",
     "text": [
      "Epoch:   0%|          | 0/20 [00:00<?, ?it/s]         "
     ]
    },
    {
     "name": "stdout",
     "output_type": "stream",
     "text": [
      "Begin group  3 training\n"
     ]
    },
    {
     "name": "stderr",
     "output_type": "stream",
     "text": [
      "Epoch:   0%|          | 0/20 [00:00<?, ?it/s]         "
     ]
    },
    {
     "name": "stdout",
     "output_type": "stream",
     "text": [
      "Begin group  4 training\n"
     ]
    },
    {
     "name": "stderr",
     "output_type": "stream",
     "text": [
      "                                                      \r"
     ]
    },
    {
     "name": "stdout",
     "output_type": "stream",
     "text": [
      "Training groups takes 76.88119435310364s seconds\n",
      "Scheduling clients takes 2.9261112213134766s seconds\n",
      "Group 0, clients ['RyanMacintosh', 'stinginthetail']\n",
      "Group 1, clients ['nikipaniki']\n",
      "Group 2, clients ['ToksieOlu', 'funkybrownchick', 'TheDailyBlonde', 'shinsh0ku', 'Kitt69', 'caldjr', 'lejunkdrawer', 'letssingbaby', 'megspeaks']\n",
      "Group 3, clients ['kittenspawn', 'Sims_Galore', 'davidbarrett1', 'lina_luka', 'WallTweet', 'gabbydario', 'Christyxcore', 'ambienteer']\n",
      "Group 4 is empty.\n"
     ]
    },
    {
     "name": "stderr",
     "output_type": "stream",
     "text": [
      "\r",
      "Epoch:   0%|          | 0/20 [00:00<?, ?it/s]"
     ]
    },
    {
     "name": "stdout",
     "output_type": "stream",
     "text": [
      "Group 0\n",
      "At round 136 accuracy: 0.8419243986254296\n",
      "At round 136 training accuracy: 0.8497970230040596\n",
      "At round 136 training loss: 0.8699974597157786\n",
      "Group 1\n",
      "At round 136 accuracy: 0.8125836680053548\n",
      "At round 136 training accuracy: 0.8354075372480281\n",
      "At round 136 training loss: 1.228887695567209\n",
      "Group 2\n",
      "At round 136 accuracy: 0.6695327102803739\n",
      "At round 136 training accuracy: 0.693723685498874\n",
      "At round 136 training loss: 1.075601665580602\n",
      "Group 3\n",
      "At round 136 accuracy: 0.5389671361502347\n",
      "At round 136 training accuracy: 0.5899457861015278\n",
      "At round 136 training loss: 1.3258411641328602\n",
      "Group 4\n",
      "At round 136 accuracy: 0.605092091007584\n",
      "At round 136 training accuracy: 0.5914625411832116\n",
      "At round 136 training loss: 1.980641230534991\n",
      "At round 136 mean test accuracy: 0.6885007278020379 mean train accuracy: 0.705361409321143 mean train loss: 1.3080377408996622                     number of test client: 748\n",
      "The client-group discrepancy are: [36.47092807 22.78573801  4.84417237 37.18672204 43.04030183  0.        ]\n",
      "Begin group  0 training\n"
     ]
    },
    {
     "name": "stderr",
     "output_type": "stream",
     "text": [
      "Epoch:   5%|▌         | 1/20 [00:00<00:02,  7.66it/s] "
     ]
    },
    {
     "name": "stdout",
     "output_type": "stream",
     "text": [
      "Begin group  1 training\n"
     ]
    },
    {
     "name": "stderr",
     "output_type": "stream",
     "text": [
      "Epoch:   5%|▌         | 1/20 [00:00<00:02,  8.19it/s] "
     ]
    },
    {
     "name": "stdout",
     "output_type": "stream",
     "text": [
      "Begin group  2 training\n"
     ]
    },
    {
     "name": "stderr",
     "output_type": "stream",
     "text": [
      "Epoch:   5%|▌         | 1/20 [00:00<00:02,  6.84it/s] "
     ]
    },
    {
     "name": "stdout",
     "output_type": "stream",
     "text": [
      "Begin group  3 training\n"
     ]
    },
    {
     "name": "stderr",
     "output_type": "stream",
     "text": [
      "                                                      \r"
     ]
    },
    {
     "name": "stdout",
     "output_type": "stream",
     "text": [
      "Training groups takes 67.05549359321594s seconds\n",
      "Scheduling clients takes 2.990694046020508s seconds\n",
      "Group 0, clients ['traciknoppe', 'BearNoiz', 'frankparker', 'macmuso', 'josieinthecity']\n",
      "Group 1, clients ['FreshPlastic', 'PaulCarterJr', 'petehopkins', 'DaPrbmChild', 'Morrica']\n",
      "Group 2, clients ['Gillian_CC', 'Christiegarcia', 'gschan']\n",
      "Group 3, clients ['annzoo', 'sicknastyalison', 'zenjar', 'I_enigma', 'Saffy', 'kellygirl27', 'WallTweet']\n",
      "Group 4 is empty.\n"
     ]
    },
    {
     "name": "stderr",
     "output_type": "stream",
     "text": [
      "\r",
      "Epoch:   0%|          | 0/20 [00:00<?, ?it/s]"
     ]
    },
    {
     "name": "stdout",
     "output_type": "stream",
     "text": [
      "Group 0\n",
      "At round 137 accuracy: 0.7767558528428093\n",
      "At round 137 training accuracy: 0.781387181738367\n",
      "At round 137 training loss: 0.5534915153241345\n",
      "Group 1\n",
      "At round 137 accuracy: 0.7960837272113437\n",
      "At round 137 training accuracy: 0.8207396920898956\n",
      "At round 137 training loss: 0.9520366716666231\n",
      "Group 2\n",
      "At round 137 accuracy: 0.680343155538978\n",
      "At round 137 training accuracy: 0.6943521594684385\n",
      "At round 137 training loss: 1.1989650548747797\n",
      "Group 3\n",
      "At round 137 accuracy: 0.5337026777469991\n",
      "At round 137 training accuracy: 0.5605326876513317\n",
      "At round 137 training loss: 1.3469631921148184\n",
      "Group 4\n",
      "At round 137 accuracy: 0.6045479755962285\n",
      "At round 137 training accuracy: 0.5914956011730206\n",
      "At round 137 training loss: 1.985262029359931\n",
      "At round 137 mean test accuracy: 0.6792819019893256 mean train accuracy: 0.6897836959638113 mean train loss: 1.2511331263948988                     number of test client: 748\n",
      "The client-group discrepancy are: [35.45219813 45.99534099 23.72837272 49.41699018 30.31063194  0.        ]\n",
      "Begin group  0 training\n"
     ]
    },
    {
     "name": "stderr",
     "output_type": "stream",
     "text": [
      "Epoch:   5%|▌         | 1/20 [00:00<00:02,  8.98it/s] "
     ]
    },
    {
     "name": "stdout",
     "output_type": "stream",
     "text": [
      "Begin group  1 training\n"
     ]
    },
    {
     "name": "stderr",
     "output_type": "stream",
     "text": [
      "Epoch:   5%|▌         | 1/20 [00:00<00:02,  6.67it/s] "
     ]
    },
    {
     "name": "stdout",
     "output_type": "stream",
     "text": [
      "Begin group  2 training\n"
     ]
    },
    {
     "name": "stderr",
     "output_type": "stream",
     "text": [
      "Epoch:   5%|▌         | 1/20 [00:00<00:02,  9.06it/s] "
     ]
    },
    {
     "name": "stdout",
     "output_type": "stream",
     "text": [
      "Begin group  3 training\n"
     ]
    },
    {
     "name": "stderr",
     "output_type": "stream",
     "text": [
      "                                                      \r"
     ]
    },
    {
     "name": "stdout",
     "output_type": "stream",
     "text": [
      "Training groups takes 59.72491979598999s seconds\n",
      "Scheduling clients takes 3.0212156772613525s seconds\n",
      "Group 0, clients ['sinfulsignorita', 'music_flurry', 'TaylaMe3']\n",
      "Group 1, clients ['dopeydoo', 'holidaycarclub']\n",
      "Group 2, clients ['redLIGHTjoli', 'FakerParis', 'nikkimaltby', 'minette95', 'OMGitsJessieLee', 'hannahkin', 'Keels_90', 'michxxblc', 'I_Support_DemiL']\n",
      "Group 3, clients ['Vibhy', 'BrandyWandLover', 'Jenniewrenbird']\n",
      "Group 4, clients ['thisgoodlife', 'kissmybleep', 'RealWorldCara']\n"
     ]
    },
    {
     "name": "stderr",
     "output_type": "stream",
     "text": [
      "\r",
      "Epoch:   0%|          | 0/20 [00:00<?, ?it/s]"
     ]
    },
    {
     "name": "stdout",
     "output_type": "stream",
     "text": [
      "Group 0\n",
      "At round 138 accuracy: 0.8399339933993399\n",
      "At round 138 training accuracy: 0.846437080355209\n",
      "At round 138 training loss: 0.7514698299528036\n",
      "Group 1\n",
      "At round 138 accuracy: 0.8214528173794976\n",
      "At round 138 training accuracy: 0.8445116527308308\n",
      "At round 138 training loss: 1.0667748315864942\n",
      "Group 2\n",
      "At round 138 accuracy: 0.6660502958579881\n",
      "At round 138 training accuracy: 0.6768097683884098\n",
      "At round 138 training loss: 1.468181790775653\n",
      "Group 3\n",
      "At round 138 accuracy: 0.5950266429840142\n",
      "At round 138 training accuracy: 0.6247964642940219\n",
      "At round 138 training loss: 1.6985303860493082\n",
      "Group 4\n",
      "At round 138 accuracy: 0.6032388663967612\n",
      "At round 138 training accuracy: 0.5891354246365723\n",
      "At round 138 training loss: 2.0054376117146897\n",
      "At round 138 mean test accuracy: 0.6965065502183406 mean train accuracy: 0.7064126660507789 mean train loss: 1.434282512644873                     number of test client: 748\n",
      "The client-group discrepancy are: [38.73389004 47.12829365 24.34322469 41.46620066 48.10160286 22.36861866]\n",
      "Begin group  0 training\n"
     ]
    },
    {
     "name": "stderr",
     "output_type": "stream",
     "text": [
      "Epoch:   5%|▌         | 1/20 [00:00<00:03,  6.28it/s] "
     ]
    },
    {
     "name": "stdout",
     "output_type": "stream",
     "text": [
      "Begin group  1 training\n"
     ]
    },
    {
     "name": "stderr",
     "output_type": "stream",
     "text": [
      "Epoch:   0%|          | 0/20 [00:00<?, ?it/s]         "
     ]
    },
    {
     "name": "stdout",
     "output_type": "stream",
     "text": [
      "Begin group  2 training\n"
     ]
    },
    {
     "name": "stderr",
     "output_type": "stream",
     "text": [
      "Epoch:   5%|▌         | 1/20 [00:00<00:02,  9.38it/s] "
     ]
    },
    {
     "name": "stdout",
     "output_type": "stream",
     "text": [
      "Begin group  3 training\n"
     ]
    },
    {
     "name": "stderr",
     "output_type": "stream",
     "text": [
      "Epoch:   5%|▌         | 1/20 [00:00<00:03,  6.16it/s] "
     ]
    },
    {
     "name": "stdout",
     "output_type": "stream",
     "text": [
      "Begin group  4 training\n"
     ]
    },
    {
     "name": "stderr",
     "output_type": "stream",
     "text": [
      "                                                      \r"
     ]
    },
    {
     "name": "stdout",
     "output_type": "stream",
     "text": [
      "Training groups takes 68.98850989341736s seconds\n",
      "Scheduling clients takes 3.0368287563323975s seconds\n",
      "Group 0, clients ['Jill88', 'SarahRoseMusic', 'MelanieFresh27', 'AtlantisJackson', 'loving_my_DEW', 'YvetteObeney']\n",
      "Group 1, clients ['petehopkins', 'brampitoyo', 'cookiemonster82', 'tweeteradder5', 'twliciousness']\n",
      "Group 2, clients ['paulmason10538', 'letteapplejuice', 'dudeman718', 'I_Support_DemiL', 'vesula']\n",
      "Group 3, clients ['isdown', 'sampan22', 'neondeception']\n",
      "Group 4, clients ['Arhum']\n"
     ]
    },
    {
     "name": "stderr",
     "output_type": "stream",
     "text": [
      "Epoch:   5%|▌         | 1/20 [00:00<00:02,  8.51it/s]"
     ]
    },
    {
     "name": "stdout",
     "output_type": "stream",
     "text": [
      "Group 0\n",
      "At round 139 accuracy: 0.763458401305057\n",
      "At round 139 training accuracy: 0.778254342697834\n",
      "At round 139 training loss: 0.5597031223625639\n",
      "Group 1\n",
      "At round 139 accuracy: 0.8218812541694464\n",
      "At round 139 training accuracy: 0.8481830887491265\n",
      "At round 139 training loss: 1.0750787912700306\n",
      "Group 2\n",
      "At round 139 accuracy: 0.632962962962963\n",
      "At round 139 training accuracy: 0.652532505336697\n",
      "At round 139 training loss: 1.1685416962898647\n",
      "Group 3\n",
      "At round 139 accuracy: 0.6364444444444445\n",
      "At round 139 training accuracy: 0.6732696341179212\n",
      "At round 139 training loss: 0.8909382036872133\n",
      "Group 4\n",
      "At round 139 accuracy: 0.6245572609208973\n",
      "At round 139 training accuracy: 0.6213516466364913\n",
      "At round 139 training loss: 1.4159882713009828\n",
      "At round 139 mean test accuracy: 0.6854682193110141 mean train accuracy: 0.7033544646554745 mean train loss: 1.073616325348567                     number of test client: 748\n",
      "The client-group discrepancy are: [36.76556201 46.99445917 31.50324845 33.4010363  36.48864825 19.35711661]\n",
      "Begin group  0 training\n"
     ]
    },
    {
     "name": "stderr",
     "output_type": "stream",
     "text": [
      "Epoch:   5%|▌         | 1/20 [00:00<00:02,  8.14it/s] "
     ]
    },
    {
     "name": "stdout",
     "output_type": "stream",
     "text": [
      "Begin group  1 training\n"
     ]
    },
    {
     "name": "stderr",
     "output_type": "stream",
     "text": [
      "Epoch:   5%|▌         | 1/20 [00:00<00:02,  7.22it/s] "
     ]
    },
    {
     "name": "stdout",
     "output_type": "stream",
     "text": [
      "Begin group  2 training\n"
     ]
    },
    {
     "name": "stderr",
     "output_type": "stream",
     "text": [
      "Epoch:   5%|▌         | 1/20 [00:00<00:03,  5.66it/s] "
     ]
    },
    {
     "name": "stdout",
     "output_type": "stream",
     "text": [
      "Begin group  3 training\n"
     ]
    },
    {
     "name": "stderr",
     "output_type": "stream",
     "text": [
      "Epoch:   5%|▌         | 1/20 [00:00<00:03,  6.26it/s] "
     ]
    },
    {
     "name": "stdout",
     "output_type": "stream",
     "text": [
      "Begin group  4 training\n"
     ]
    },
    {
     "name": "stderr",
     "output_type": "stream",
     "text": [
      "                                                      \r"
     ]
    },
    {
     "name": "stdout",
     "output_type": "stream",
     "text": [
      "Training groups takes 73.16213703155518s seconds\n",
      "Scheduling clients takes 2.980003595352173s seconds\n",
      "Group 0, clients ['ElementsOfJazz', 'shellykramer', 'tracyewilli', 'queenbmakeup', 'NKAirplay']\n",
      "Group 1, clients ['skribe', 'Mrs_NickJ07']\n",
      "Group 2, clients ['yolie81', 'KJL912', 'Tisyonk', 'lejunkdrawer', 'randomblonde', 'thalovebug', 'k_griffiths', 'nathanrdotca', 'Broooooke_']\n",
      "Group 3, clients ['atkailash', 'olivia_15', 'rorambenjimouse', 'aurihunter']\n",
      "Group 4 is empty.\n"
     ]
    },
    {
     "name": "stderr",
     "output_type": "stream",
     "text": [
      "\r",
      "Epoch:   0%|          | 0/20 [00:00<?, ?it/s]"
     ]
    },
    {
     "name": "stdout",
     "output_type": "stream",
     "text": [
      "Group 0\n",
      "At round 140 accuracy: 0.7935483870967742\n",
      "At round 140 training accuracy: 0.8172771543510481\n",
      "At round 140 training loss: 0.6479976882209807\n",
      "Group 1\n",
      "At round 140 accuracy: 0.8283783783783784\n",
      "At round 140 training accuracy: 0.8559021623537753\n",
      "At round 140 training loss: 1.1064716222431503\n",
      "Group 2\n",
      "At round 140 accuracy: 0.6510607168983175\n",
      "At round 140 training accuracy: 0.6641447998467727\n",
      "At round 140 training loss: 1.2488396140889297\n",
      "Group 3\n",
      "At round 140 accuracy: 0.5994741454864154\n",
      "At round 140 training accuracy: 0.6279604506783169\n",
      "At round 140 training loss: 1.7363712744762494\n",
      "Group 4\n",
      "At round 140 accuracy: 0.6403881140084899\n",
      "At round 140 training accuracy: 0.6599839615076183\n",
      "At round 140 training loss: 1.567676347222421\n",
      "At round 140 mean test accuracy: 0.6950509461426492 mean train accuracy: 0.715810264088433 mean train loss: 1.2637230391548264                     number of test client: 748\n",
      "The client-group discrepancy are: [30.24141435 32.9713044  45.2009453  25.99254848 28.90923453  0.        ]\n",
      "Begin group  0 training\n"
     ]
    },
    {
     "name": "stderr",
     "output_type": "stream",
     "text": [
      "Epoch:   5%|▌         | 1/20 [00:00<00:02,  8.29it/s] "
     ]
    },
    {
     "name": "stdout",
     "output_type": "stream",
     "text": [
      "Begin group  1 training\n"
     ]
    },
    {
     "name": "stderr",
     "output_type": "stream",
     "text": [
      "Epoch:   5%|▌         | 1/20 [00:00<00:02,  6.73it/s] "
     ]
    },
    {
     "name": "stdout",
     "output_type": "stream",
     "text": [
      "Begin group  2 training\n"
     ]
    },
    {
     "name": "stderr",
     "output_type": "stream",
     "text": [
      "Epoch:   5%|▌         | 1/20 [00:00<00:01,  9.61it/s] "
     ]
    },
    {
     "name": "stdout",
     "output_type": "stream",
     "text": [
      "Begin group  3 training\n"
     ]
    },
    {
     "name": "stderr",
     "output_type": "stream",
     "text": [
      "                                                      \r"
     ]
    },
    {
     "name": "stdout",
     "output_type": "stream",
     "text": [
      "Training groups takes 70.93790769577026s seconds\n",
      "Scheduling clients takes 3.0721280574798584s seconds\n",
      "Group 0, clients ['brinshannara', 'TinaS71', 'SomersetBob', 'Deejaywilliams']\n",
      "Group 1, clients ['keza34', 'MarilynM']\n",
      "Group 2, clients ['adriwadri', 'kalpik', 'Abbie_xD', 'tweetieelovee', 'minette95', 'tracyewilli', 'lawschoolninja', 'AmyAllTimeLow', 'erin82883', 'TessMorris', 'SimpleMia']\n",
      "Group 3, clients ['Alicia_vintage', 'aurihunter']\n",
      "Group 4, clients ['StephanieEllen']\n"
     ]
    },
    {
     "name": "stderr",
     "output_type": "stream",
     "text": [
      "Epoch:   5%|▌         | 1/20 [00:00<00:02,  8.46it/s]"
     ]
    },
    {
     "name": "stdout",
     "output_type": "stream",
     "text": [
      "Group 0\n",
      "At round 141 accuracy: 0.7629204265791633\n",
      "At round 141 training accuracy: 0.7682505399568035\n",
      "At round 141 training loss: 0.8909479142344503\n",
      "Group 1\n",
      "At round 141 accuracy: 0.8343434343434344\n",
      "At round 141 training accuracy: 0.8574201517557791\n",
      "At round 141 training loss: 1.1652825907012434\n",
      "Group 2\n",
      "At round 141 accuracy: 0.6734324030445814\n",
      "At round 141 training accuracy: 0.6849795995825031\n",
      "At round 141 training loss: 1.008069156248708\n",
      "Group 3\n",
      "At round 141 accuracy: 0.6138175376439327\n",
      "At round 141 training accuracy: 0.6376306620209059\n",
      "At round 141 training loss: 1.312196092977341\n",
      "Group 4\n",
      "At round 141 accuracy: 0.6410411622276029\n",
      "At round 141 training accuracy: 0.66048\n",
      "At round 141 training loss: 1.5642965423209965\n",
      "At round 141 mean test accuracy: 0.7009946627850558 mean train accuracy: 0.7170208021407409 mean train loss: 1.1716302026659957                     number of test client: 748\n",
      "The client-group discrepancy are: [31.84204968 46.70005469 29.92384546 26.17389576 26.34687947 49.58647159]\n",
      "Begin group  0 training\n"
     ]
    },
    {
     "name": "stderr",
     "output_type": "stream",
     "text": [
      "Epoch:   0%|          | 0/20 [00:00<?, ?it/s]         "
     ]
    },
    {
     "name": "stdout",
     "output_type": "stream",
     "text": [
      "Begin group  1 training\n"
     ]
    },
    {
     "name": "stderr",
     "output_type": "stream",
     "text": [
      "Epoch:   5%|▌         | 1/20 [00:00<00:02,  9.01it/s] "
     ]
    },
    {
     "name": "stdout",
     "output_type": "stream",
     "text": [
      "Begin group  2 training\n"
     ]
    },
    {
     "name": "stderr",
     "output_type": "stream",
     "text": [
      "Epoch:   5%|▌         | 1/20 [00:00<00:02,  7.27it/s] "
     ]
    },
    {
     "name": "stdout",
     "output_type": "stream",
     "text": [
      "Begin group  3 training\n"
     ]
    },
    {
     "name": "stderr",
     "output_type": "stream",
     "text": [
      "Epoch:   5%|▌         | 1/20 [00:00<00:02,  6.50it/s] "
     ]
    },
    {
     "name": "stdout",
     "output_type": "stream",
     "text": [
      "Begin group  4 training\n"
     ]
    },
    {
     "name": "stderr",
     "output_type": "stream",
     "text": [
      "                                                      \r"
     ]
    },
    {
     "name": "stdout",
     "output_type": "stream",
     "text": [
      "Training groups takes 71.4382586479187s seconds\n",
      "Scheduling clients takes 3.0515058040618896s seconds\n",
      "Group 0, clients ['TeamUKskyvixen']\n",
      "Group 1, clients ['BostinBloke', 'MissGoogle']\n",
      "Group 2, clients ['Japh', 'JamesHancox', 'Rikou26', 'aerobic247', 'LittlestarRed', 'minorityx', 'coriluvnthedon', 'irishsamom', 'KJL912', '_writersblock_', 'HOTTVampChick', 'VickiElam', 'pdurham']\n",
      "Group 3, clients ['sampan22', 'AvonteNikole', 'queenbmakeup']\n",
      "Group 4, clients ['RockstarAtHeart']\n"
     ]
    },
    {
     "name": "stderr",
     "output_type": "stream",
     "text": [
      "\r",
      "Epoch:   0%|          | 0/20 [00:00<?, ?it/s]"
     ]
    },
    {
     "name": "stdout",
     "output_type": "stream",
     "text": [
      "Group 0\n",
      "At round 142 accuracy: 0.796875\n",
      "At round 142 training accuracy: 0.8202295863114577\n",
      "At round 142 training loss: 0.9448351373370819\n",
      "Group 1\n",
      "At round 142 accuracy: 0.8474457662701189\n",
      "At round 142 training accuracy: 0.864235983876878\n",
      "At round 142 training loss: 1.058208261833279\n",
      "Group 2\n",
      "At round 142 accuracy: 0.6629134412385644\n",
      "At round 142 training accuracy: 0.6876151861408035\n",
      "At round 142 training loss: 0.9506829631632593\n",
      "Group 3\n",
      "At round 142 accuracy: 0.6210526315789474\n",
      "At round 142 training accuracy: 0.6458956081857898\n",
      "At round 142 training loss: 1.4836625957835416\n",
      "Group 4\n",
      "At round 142 accuracy: 0.6097711811997526\n",
      "At round 142 training accuracy: 0.6331970564186427\n",
      "At round 142 training loss: 1.6682778854455376\n",
      "At round 142 mean test accuracy: 0.6984473556525959 mean train accuracy: 0.7214488229110254 mean train loss: 1.182147237647132                     number of test client: 748\n",
      "The client-group discrepancy are: [32.9712944  46.64305263 32.29377076 30.52961323 33.7470237  50.06925081]\n",
      "Begin group  0 training\n"
     ]
    },
    {
     "name": "stderr",
     "output_type": "stream",
     "text": [
      "Epoch:   5%|▌         | 1/20 [00:00<00:02,  6.76it/s] "
     ]
    },
    {
     "name": "stdout",
     "output_type": "stream",
     "text": [
      "Begin group  1 training\n"
     ]
    },
    {
     "name": "stderr",
     "output_type": "stream",
     "text": [
      "Epoch:   5%|▌         | 1/20 [00:00<00:02,  8.52it/s] "
     ]
    },
    {
     "name": "stdout",
     "output_type": "stream",
     "text": [
      "Begin group  2 training\n"
     ]
    },
    {
     "name": "stderr",
     "output_type": "stream",
     "text": [
      "Epoch:   5%|▌         | 1/20 [00:00<00:02,  6.62it/s] "
     ]
    },
    {
     "name": "stdout",
     "output_type": "stream",
     "text": [
      "Begin group  3 training\n"
     ]
    },
    {
     "name": "stderr",
     "output_type": "stream",
     "text": [
      "Epoch:   5%|▌         | 1/20 [00:00<00:02,  6.90it/s] "
     ]
    },
    {
     "name": "stdout",
     "output_type": "stream",
     "text": [
      "Begin group  4 training\n"
     ]
    },
    {
     "name": "stderr",
     "output_type": "stream",
     "text": [
      "                                                      \r"
     ]
    },
    {
     "name": "stdout",
     "output_type": "stream",
     "text": [
      "Training groups takes 68.95964860916138s seconds\n",
      "Scheduling clients takes 2.9373843669891357s seconds\n",
      "Group 0 is empty.\n",
      "Group 1, clients ['karenstrunks', 'purplehayz', 'shellykramer']\n",
      "Group 2, clients ['iHaps', 'eboogiee', 'virustricks', 'InTheLittleWood', 'redLIGHTjoli', 'bustyb73', 'MupNorth', 'MrsGabrielGray_', 'typezero3', 'YvetteObeney', 'HelloLivvy']\n",
      "Group 3, clients ['kellygirl27', 'Ingenue_Em', 'NOTICEmeDAVID']\n",
      "Group 4, clients ['RockstarAtHeart', 'ThomasGudgeon', 'robertbasic']\n"
     ]
    },
    {
     "name": "stderr",
     "output_type": "stream",
     "text": [
      "Epoch:   5%|▌         | 1/20 [00:00<00:02,  8.93it/s]"
     ]
    },
    {
     "name": "stdout",
     "output_type": "stream",
     "text": [
      "Group 0\n",
      "At round 143 accuracy: 0.7414675767918089\n",
      "At round 143 training accuracy: 0.7437050359712231\n",
      "At round 143 training loss: 1.0748398143472737\n",
      "Group 1\n",
      "At round 143 accuracy: 0.843878954607978\n",
      "At round 143 training accuracy: 0.8634726224783862\n",
      "At round 143 training loss: 0.9077986274227211\n",
      "Group 2\n",
      "At round 143 accuracy: 0.6722164412070759\n",
      "At round 143 training accuracy: 0.6983824063976736\n",
      "At round 143 training loss: 0.939332188306981\n",
      "Group 3\n",
      "At round 143 accuracy: 0.6236933797909407\n",
      "At round 143 training accuracy: 0.6462662708380909\n",
      "At round 143 training loss: 1.8184136927636567\n",
      "Group 4\n",
      "At round 143 accuracy: 0.6329588014981273\n",
      "At round 143 training accuracy: 0.6538524995875268\n",
      "At round 143 training loss: 1.8232188756305543\n",
      "At round 143 mean test accuracy: 0.6979053154134883 mean train accuracy: 0.7181020226434296 mean train loss: 1.2457308243100904                     number of test client: 750\n",
      "The client-group discrepancy are: [31.98653911  0.         35.39661051 33.26631778 36.1111829  19.75930211]\n",
      "Begin group  1 training\n"
     ]
    },
    {
     "name": "stderr",
     "output_type": "stream",
     "text": [
      "Epoch:   5%|▌         | 1/20 [00:00<00:02,  8.71it/s] "
     ]
    },
    {
     "name": "stdout",
     "output_type": "stream",
     "text": [
      "Begin group  2 training\n"
     ]
    },
    {
     "name": "stderr",
     "output_type": "stream",
     "text": [
      "Epoch:   5%|▌         | 1/20 [00:00<00:02,  6.34it/s] "
     ]
    },
    {
     "name": "stdout",
     "output_type": "stream",
     "text": [
      "Begin group  3 training\n"
     ]
    },
    {
     "name": "stderr",
     "output_type": "stream",
     "text": [
      "Epoch:   5%|▌         | 1/20 [00:00<00:02,  6.76it/s] "
     ]
    },
    {
     "name": "stdout",
     "output_type": "stream",
     "text": [
      "Begin group  4 training\n"
     ]
    },
    {
     "name": "stderr",
     "output_type": "stream",
     "text": [
      "                                                      \r"
     ]
    },
    {
     "name": "stdout",
     "output_type": "stream",
     "text": [
      "Training groups takes 60.23185873031616s seconds\n",
      "Scheduling clients takes 3.056682825088501s seconds\n",
      "Group 0 is empty.\n",
      "Group 1, clients ['R_Arblaster', 'dogzero']\n",
      "Group 2, clients ['SandyCalico', 'hortovanyi', 'NaythenCash', 'megspeaks', 'AreonLee', 'xxxSupermodel', 'neurogirl07', 'CannonGod', 'thisgoodlife', 'taluta', 'sarahroters', 'schaeferj89', 'krystinascott']\n",
      "Group 3, clients ['queenbmakeup', 'WooopJess', 'weelissa']\n",
      "Group 4, clients ['MAGGIECHICKEN', 'frankparker']\n"
     ]
    },
    {
     "name": "stderr",
     "output_type": "stream",
     "text": [
      "Epoch:   5%|▌         | 1/20 [00:00<00:02,  8.80it/s]"
     ]
    },
    {
     "name": "stdout",
     "output_type": "stream",
     "text": [
      "Group 0\n",
      "At round 144 accuracy: 0.7405405405405405\n",
      "At round 144 training accuracy: 0.742334204896601\n",
      "At round 144 training loss: 1.084543885042639\n",
      "Group 1\n",
      "At round 144 accuracy: 0.8516746411483254\n",
      "At round 144 training accuracy: 0.8680965147453084\n",
      "At round 144 training loss: 0.9963891215810676\n",
      "Group 2\n",
      "At round 144 accuracy: 0.6626262626262627\n",
      "At round 144 training accuracy: 0.693909973521624\n",
      "At round 144 training loss: 0.9542028820787829\n",
      "Group 3\n",
      "At round 144 accuracy: 0.6202090592334495\n",
      "At round 144 training accuracy: 0.6375884905229504\n",
      "At round 144 training loss: 1.5830848963289337\n",
      "Group 4\n",
      "At round 144 accuracy: 0.6211734693877551\n",
      "At round 144 training accuracy: 0.6499241530423058\n",
      "At round 144 training loss: 1.8064146287910063\n",
      "At round 144 mean test accuracy: 0.6928199539895871 mean train accuracy: 0.7152397913751432 mean train loss: 1.22752762584959                     number of test client: 750\n",
      "The client-group discrepancy are: [33.77819148  0.         46.42833193 38.32661366  6.99119459 31.74380223]\n",
      "Begin group  1 training\n"
     ]
    },
    {
     "name": "stderr",
     "output_type": "stream",
     "text": [
      "Epoch:   5%|▌         | 1/20 [00:00<00:02,  9.01it/s] "
     ]
    },
    {
     "name": "stdout",
     "output_type": "stream",
     "text": [
      "Begin group  2 training\n"
     ]
    },
    {
     "name": "stderr",
     "output_type": "stream",
     "text": [
      "Epoch:   5%|▌         | 1/20 [00:00<00:03,  5.90it/s] "
     ]
    },
    {
     "name": "stdout",
     "output_type": "stream",
     "text": [
      "Begin group  3 training\n"
     ]
    },
    {
     "name": "stderr",
     "output_type": "stream",
     "text": [
      "Epoch:   5%|▌         | 1/20 [00:00<00:03,  5.63it/s] "
     ]
    },
    {
     "name": "stdout",
     "output_type": "stream",
     "text": [
      "Begin group  4 training\n"
     ]
    },
    {
     "name": "stderr",
     "output_type": "stream",
     "text": [
      "                                                      \r"
     ]
    },
    {
     "name": "stdout",
     "output_type": "stream",
     "text": [
      "Training groups takes 67.1624047756195s seconds\n",
      "Scheduling clients takes 2.9983508586883545s seconds\n",
      "Group 0, clients ['cmbowen122', 'Kat77']\n",
      "Group 1, clients ['tweeteradder3', 'Mrs_NickJ07', 'quinland', 'R_Arblaster']\n",
      "Group 2, clients ['KateEdwards', 'PegasusAngel', 'tamaryn', 'thisgoodlife', 'Rawrrgasmic', 'DivasMistress', 'aprilyim']\n",
      "Group 3, clients ['AvonteNikole', 'kat_n', 'DivaWonderGirl', 'antzpantz']\n",
      "Group 4, clients ['jiriteach', 'marianaguidil', 'mneylon']\n"
     ]
    },
    {
     "name": "stderr",
     "output_type": "stream",
     "text": [
      "Epoch:   5%|▌         | 1/20 [00:00<00:02,  8.96it/s]"
     ]
    },
    {
     "name": "stdout",
     "output_type": "stream",
     "text": [
      "Group 0\n",
      "At round 145 accuracy: 0.7410394265232975\n",
      "At round 145 training accuracy: 0.7439110900922203\n",
      "At round 145 training loss: 1.0757301278554605\n",
      "Group 1\n",
      "At round 145 accuracy: 0.8511821974965229\n",
      "At round 145 training accuracy: 0.8664607558139535\n",
      "At round 145 training loss: 0.9988162175229665\n",
      "Group 2\n",
      "At round 145 accuracy: 0.6805929919137467\n",
      "At round 145 training accuracy: 0.6985865724381626\n",
      "At round 145 training loss: 0.9280854104343447\n",
      "Group 3\n",
      "At round 145 accuracy: 0.6105892399658411\n",
      "At round 145 training accuracy: 0.6409223192299082\n",
      "At round 145 training loss: 1.3921245525857733\n",
      "Group 4\n",
      "At round 145 accuracy: 0.5945083014048531\n",
      "At round 145 training accuracy: 0.6201890614449697\n",
      "At round 145 training loss: 1.6527365117882813\n",
      "At round 145 mean test accuracy: 0.692214553820075 mean train accuracy: 0.7111054573209515 mean train loss: 1.1627689063191184                     number of test client: 750\n",
      "The client-group discrepancy are: [30.4322096  44.67560264  2.88807831 34.03023796 39.14238989 37.65314941]\n",
      "Begin group  0 training\n"
     ]
    },
    {
     "name": "stderr",
     "output_type": "stream",
     "text": [
      "Epoch:   0%|          | 0/20 [00:00<?, ?it/s]         "
     ]
    },
    {
     "name": "stdout",
     "output_type": "stream",
     "text": [
      "Begin group  1 training\n"
     ]
    },
    {
     "name": "stderr",
     "output_type": "stream",
     "text": [
      "Epoch:   5%|▌         | 1/20 [00:00<00:02,  6.89it/s] "
     ]
    },
    {
     "name": "stdout",
     "output_type": "stream",
     "text": [
      "Begin group  2 training\n"
     ]
    },
    {
     "name": "stderr",
     "output_type": "stream",
     "text": [
      "Epoch:   5%|▌         | 1/20 [00:00<00:02,  6.42it/s] "
     ]
    },
    {
     "name": "stdout",
     "output_type": "stream",
     "text": [
      "Begin group  3 training\n"
     ]
    },
    {
     "name": "stderr",
     "output_type": "stream",
     "text": [
      "Epoch:   5%|▌         | 1/20 [00:00<00:02,  9.42it/s] "
     ]
    },
    {
     "name": "stdout",
     "output_type": "stream",
     "text": [
      "Begin group  4 training\n"
     ]
    },
    {
     "name": "stderr",
     "output_type": "stream",
     "text": [
      "                                                      \r"
     ]
    },
    {
     "name": "stdout",
     "output_type": "stream",
     "text": [
      "Training groups takes 60.84074330329895s seconds\n",
      "Scheduling clients takes 3.109794855117798s seconds\n",
      "Group 0, clients ['fuseboxradio', 'TinaS71', 'raymondpirouz', 'Knot2serious']\n",
      "Group 1 is empty.\n",
      "Group 2, clients ['ashleyyosaurus', 'theknickermafia', 'ImmaChocoholic', 'SomersetBob', 'CaroMcFly', 'tynie626', 'steph_davies', 'Hyper8']\n",
      "Group 3, clients ['annzoo', 'PapiChulaa']\n",
      "Group 4, clients ['AyyoItsAmandaJo', 'webwoke', 'grum', 'meghornby', 'kissmybleep', 'honeysnowflakes']\n"
     ]
    },
    {
     "name": "stderr",
     "output_type": "stream",
     "text": [
      "\r",
      "Epoch:   0%|          | 0/20 [00:00<?, ?it/s]"
     ]
    },
    {
     "name": "stdout",
     "output_type": "stream",
     "text": [
      "Group 0\n",
      "At round 146 accuracy: 0.8390287769784173\n",
      "At round 146 training accuracy: 0.8379981024667932\n",
      "At round 146 training loss: 0.9308169126710454\n",
      "Group 1\n",
      "At round 146 accuracy: 0.856638418079096\n",
      "At round 146 training accuracy: 0.8682899833978971\n",
      "At round 146 training loss: 1.1788648739989238\n",
      "Group 2\n",
      "At round 146 accuracy: 0.671844018506279\n",
      "At round 146 training accuracy: 0.7023654795944893\n",
      "At round 146 training loss: 0.9864389543634324\n",
      "Group 3\n",
      "At round 146 accuracy: 0.6050495942290351\n",
      "At round 146 training accuracy: 0.6193074003795066\n",
      "At round 146 training loss: 1.6906701367581705\n",
      "Group 4\n",
      "At round 146 accuracy: 0.5902045877247365\n",
      "At round 146 training accuracy: 0.614138438880707\n",
      "At round 146 training loss: 1.1990717764650618\n",
      "At round 146 mean test accuracy: 0.7010633156114064 mean train accuracy: 0.7208379622282177 mean train loss: 1.1475903977345852                     number of test client: 752\n",
      "The client-group discrepancy are: [34.40201192 35.74447575  0.         33.07863472 26.31726983 37.96645299]\n",
      "Begin group  0 training\n"
     ]
    },
    {
     "name": "stderr",
     "output_type": "stream",
     "text": [
      "Epoch:   5%|▌         | 1/20 [00:00<00:02,  8.88it/s] "
     ]
    },
    {
     "name": "stdout",
     "output_type": "stream",
     "text": [
      "Begin group  2 training\n"
     ]
    },
    {
     "name": "stderr",
     "output_type": "stream",
     "text": [
      "Epoch:   5%|▌         | 1/20 [00:00<00:02,  9.32it/s] "
     ]
    },
    {
     "name": "stdout",
     "output_type": "stream",
     "text": [
      "Begin group  3 training\n"
     ]
    },
    {
     "name": "stderr",
     "output_type": "stream",
     "text": [
      "Epoch:   5%|▌         | 1/20 [00:00<00:02,  9.17it/s] "
     ]
    },
    {
     "name": "stdout",
     "output_type": "stream",
     "text": [
      "Begin group  4 training\n"
     ]
    },
    {
     "name": "stderr",
     "output_type": "stream",
     "text": [
      "                                                      \r"
     ]
    },
    {
     "name": "stdout",
     "output_type": "stream",
     "text": [
      "Training groups takes 80.86480164527893s seconds\n",
      "Scheduling clients takes 3.1068131923675537s seconds\n",
      "Group 0, clients ['jessiiemcfly', 'adlyman', 'shellrawlins', 'laraduckytay']\n",
      "Group 1, clients ['chaosbot', 'brampitoyo', 'R_Arblaster']\n",
      "Group 2, clients ['TinyPicTweets', 'lucyntn', 'smilin808hapa', 'dreadw', 'neurogirl07', 'michxxblc', 'Japh', 'dudeman718', 'dyeleepong']\n",
      "Group 3, clients ['Ingenue_Em', 'limeice']\n",
      "Group 4, clients ['MCRmuffin', 'nwoidaho']\n"
     ]
    },
    {
     "name": "stderr",
     "output_type": "stream",
     "text": [
      "\r",
      "Epoch:   0%|          | 0/20 [00:00<?, ?it/s]"
     ]
    },
    {
     "name": "stdout",
     "output_type": "stream",
     "text": [
      "Group 0\n",
      "At round 147 accuracy: 0.8359240069084629\n",
      "At round 147 training accuracy: 0.8377701934015928\n",
      "At round 147 training loss: 0.7679753735617006\n",
      "Group 1\n",
      "At round 147 accuracy: 0.856638418079096\n",
      "At round 147 training accuracy: 0.8682899833978971\n",
      "At round 147 training loss: 1.1788648739989238\n",
      "Group 2\n",
      "At round 147 accuracy: 0.6661045531197302\n",
      "At round 147 training accuracy: 0.7045132743362832\n",
      "At round 147 training loss: 1.028869626626838\n",
      "Group 3\n",
      "At round 147 accuracy: 0.6402164111812444\n",
      "At round 147 training accuracy: 0.6816888045540797\n",
      "At round 147 training loss: 1.1456182142631266\n",
      "Group 4\n",
      "At round 147 accuracy: 0.44226044226044225\n",
      "At round 147 training accuracy: 0.4249149522112425\n",
      "At round 147 training loss: 1.529896001168719\n",
      "At round 147 mean test accuracy: 0.6749637506041566 mean train accuracy: 0.6934454848436756 mean train loss: 1.13207679530814                     number of test client: 752\n",
      "The client-group discrepancy are: [20.38480761 37.17838391  5.97791408 13.4526498   8.85561601 51.13189702]\n",
      "Begin group  0 training\n"
     ]
    },
    {
     "name": "stderr",
     "output_type": "stream",
     "text": [
      "Epoch:   0%|          | 0/20 [00:00<?, ?it/s]         "
     ]
    },
    {
     "name": "stdout",
     "output_type": "stream",
     "text": [
      "Begin group  1 training\n"
     ]
    },
    {
     "name": "stderr",
     "output_type": "stream",
     "text": [
      "Epoch:   5%|▌         | 1/20 [00:00<00:02,  6.47it/s] "
     ]
    },
    {
     "name": "stdout",
     "output_type": "stream",
     "text": [
      "Begin group  2 training\n"
     ]
    },
    {
     "name": "stderr",
     "output_type": "stream",
     "text": [
      "Epoch:   5%|▌         | 1/20 [00:00<00:02,  6.36it/s] "
     ]
    },
    {
     "name": "stdout",
     "output_type": "stream",
     "text": [
      "Begin group  3 training\n"
     ]
    },
    {
     "name": "stderr",
     "output_type": "stream",
     "text": [
      "Epoch:   0%|          | 0/20 [00:00<?, ?it/s]         "
     ]
    },
    {
     "name": "stdout",
     "output_type": "stream",
     "text": [
      "Begin group  4 training\n"
     ]
    },
    {
     "name": "stderr",
     "output_type": "stream",
     "text": [
      "                                                      \r"
     ]
    },
    {
     "name": "stdout",
     "output_type": "stream",
     "text": [
      "Training groups takes 81.76126980781555s seconds\n",
      "Scheduling clients takes 3.153445243835449s seconds\n",
      "Group 0, clients ['YoungA2985', 'GlitzyGloss', 'wiseleo', 'StampfliTurci', 'Daddys_pet']\n",
      "Group 1, clients ['mp3mad', '19c816tf9227', 'tweeteradder10', 'TheBetterSexDoc']\n",
      "Group 2, clients ['PegasusAngel', 'MTVnHollyWEST23', '_MsWhite', 'SarahSee95', 'Katie1989', 'DanielJUK']\n",
      "Group 3, clients ['BeantownCutie', 'Alicia_vintage', 'veganluke']\n",
      "Group 4, clients ['JoReynolds55', 'amysav83']\n"
     ]
    },
    {
     "name": "stderr",
     "output_type": "stream",
     "text": [
      "\r",
      "Epoch:   0%|          | 0/20 [00:00<?, ?it/s]"
     ]
    },
    {
     "name": "stdout",
     "output_type": "stream",
     "text": [
      "Group 0\n",
      "At round 148 accuracy: 0.8036971830985915\n",
      "At round 148 training accuracy: 0.8083081921559526\n",
      "At round 148 training loss: 0.7993551196131046\n",
      "Group 1\n",
      "At round 148 accuracy: 0.8682719546742209\n",
      "At round 148 training accuracy: 0.8757867456497593\n",
      "At round 148 training loss: 1.2018728073735094\n",
      "Group 2\n",
      "At round 148 accuracy: 0.6728971962616822\n",
      "At round 148 training accuracy: 0.7118599562363238\n",
      "At round 148 training loss: 1.0211953710277384\n",
      "Group 3\n",
      "At round 148 accuracy: 0.6078431372549019\n",
      "At round 148 training accuracy: 0.6213933849401829\n",
      "At round 148 training loss: 1.177783758545772\n",
      "Group 4\n",
      "At round 148 accuracy: 0.6283950617283951\n",
      "At round 148 training accuracy: 0.6256510416666666\n",
      "At round 148 training loss: 1.3545291260015802\n",
      "At round 148 mean test accuracy: 0.706613565049481 mean train accuracy: 0.7240909235012523 mean train loss: 1.1079229731690332                     number of test client: 753\n",
      "The client-group discrepancy are: [34.31156395 22.96931296 37.12087792 36.21186821 33.84578553 52.04631832]\n",
      "Begin group  0 training\n"
     ]
    },
    {
     "name": "stderr",
     "output_type": "stream",
     "text": [
      "Epoch:   0%|          | 0/20 [00:00<?, ?it/s]         "
     ]
    },
    {
     "name": "stdout",
     "output_type": "stream",
     "text": [
      "Begin group  1 training\n"
     ]
    },
    {
     "name": "stderr",
     "output_type": "stream",
     "text": [
      "Epoch:   5%|▌         | 1/20 [00:00<00:02,  6.67it/s] "
     ]
    },
    {
     "name": "stdout",
     "output_type": "stream",
     "text": [
      "Begin group  2 training\n"
     ]
    },
    {
     "name": "stderr",
     "output_type": "stream",
     "text": [
      "Epoch:   0%|          | 0/20 [00:00<?, ?it/s]         "
     ]
    },
    {
     "name": "stdout",
     "output_type": "stream",
     "text": [
      "Begin group  3 training\n"
     ]
    },
    {
     "name": "stderr",
     "output_type": "stream",
     "text": [
      "Epoch:   5%|▌         | 1/20 [00:00<00:03,  5.46it/s] "
     ]
    },
    {
     "name": "stdout",
     "output_type": "stream",
     "text": [
      "Begin group  4 training\n"
     ]
    },
    {
     "name": "stderr",
     "output_type": "stream",
     "text": [
      "                                                      \r"
     ]
    },
    {
     "name": "stdout",
     "output_type": "stream",
     "text": [
      "Training groups takes 82.62064337730408s seconds\n",
      "Scheduling clients takes 3.1374852657318115s seconds\n",
      "Group 0, clients ['KINGmoney']\n",
      "Group 1, clients ['19c816tf9227', 'AsiaBrands']\n",
      "Group 2, clients ['Jodasaur', 'Pepperfire', 'Monicarrrr', 'MAGGIECHICKEN', 'sarasmile13', 'Nikkers', 'Al_ice', 'josieinthecity', 'PreternaReviews', 'kevmer', 'iamloz_JsPR']\n",
      "Group 3, clients ['sexidance', 'angel9293', 'HeathCastor', 'I_enigma', 'gewoonlianne']\n",
      "Group 4, clients ['StephanieEllen']\n"
     ]
    },
    {
     "name": "stderr",
     "output_type": "stream",
     "text": [
      "Epoch:   5%|▌         | 1/20 [00:00<00:02,  8.52it/s]"
     ]
    },
    {
     "name": "stdout",
     "output_type": "stream",
     "text": [
      "Group 0\n",
      "At round 149 accuracy: 0.8371681415929203\n",
      "At round 149 training accuracy: 0.8447712418300654\n",
      "At round 149 training loss: 0.8349988775457668\n",
      "Group 1\n",
      "At round 149 accuracy: 0.8692528735632183\n",
      "At round 149 training accuracy: 0.878117382336396\n",
      "At round 149 training loss: 1.1244168992004815\n",
      "Group 2\n",
      "At round 149 accuracy: 0.6743958197256695\n",
      "At round 149 training accuracy: 0.6879122761929238\n",
      "At round 149 training loss: 0.9617436268794278\n",
      "Group 3\n",
      "At round 149 accuracy: 0.6160071942446043\n",
      "At round 149 training accuracy: 0.6481306199716044\n",
      "At round 149 training loss: 1.1337884636613476\n",
      "Group 4\n",
      "At round 149 accuracy: 0.6257861635220126\n",
      "At round 149 training accuracy: 0.6372988219678115\n",
      "At round 149 training loss: 1.4268714709969843\n",
      "At round 149 mean test accuracy: 0.7121650977552498 mean train accuracy: 0.7263735218590496 mean train loss: 1.0839561320907165                     number of test client: 753\n",
      "The client-group discrepancy are: [33.82516263 46.37891327 23.6293551  39.91000208 27.17823776  7.96441747]\n",
      "Begin group  0 training\n"
     ]
    },
    {
     "name": "stderr",
     "output_type": "stream",
     "text": [
      "Epoch:   0%|          | 0/20 [00:00<?, ?it/s]         "
     ]
    },
    {
     "name": "stdout",
     "output_type": "stream",
     "text": [
      "Begin group  1 training\n"
     ]
    },
    {
     "name": "stderr",
     "output_type": "stream",
     "text": [
      "Epoch:   5%|▌         | 1/20 [00:00<00:02,  8.48it/s] "
     ]
    },
    {
     "name": "stdout",
     "output_type": "stream",
     "text": [
      "Begin group  2 training\n"
     ]
    },
    {
     "name": "stderr",
     "output_type": "stream",
     "text": [
      "Epoch:   5%|▌         | 1/20 [00:00<00:02,  6.88it/s] "
     ]
    },
    {
     "name": "stdout",
     "output_type": "stream",
     "text": [
      "Begin group  3 training\n"
     ]
    },
    {
     "name": "stderr",
     "output_type": "stream",
     "text": [
      "Epoch:   5%|▌         | 1/20 [00:00<00:03,  6.13it/s] "
     ]
    },
    {
     "name": "stdout",
     "output_type": "stream",
     "text": [
      "Begin group  4 training\n"
     ]
    },
    {
     "name": "stderr",
     "output_type": "stream",
     "text": [
      "                                                      \r"
     ]
    },
    {
     "name": "stdout",
     "output_type": "stream",
     "text": [
      "Training groups takes 57.874496936798096s seconds\n",
      "Scheduling clients takes 3.0695183277130127s seconds\n",
      "Group 0, clients ['aarthycrazy', 'LittleLiverbird', 'privatestudmuff', 'stinginthetail']\n",
      "Group 1, clients ['wahliaodotcom', 'markdavidson']\n",
      "Group 2, clients ['Japh', 'Jodasaur', 'littlefluffycat', 'donniesgirl01', '_writersblock_', 'x0me880x', 'MacSheikh', 'JazzBANGER', 'iHaps', 'loving_my_DEW']\n",
      "Group 3, clients ['aerobic247', 'Shinybiscuit']\n",
      "Group 4, clients ['carlos_teran', 'Avril4everr']\n"
     ]
    },
    {
     "name": "stderr",
     "output_type": "stream",
     "text": [
      "\r",
      "Epoch:   0%|          | 0/20 [00:00<?, ?it/s]"
     ]
    },
    {
     "name": "stdout",
     "output_type": "stream",
     "text": [
      "Group 0\n",
      "At round 150 accuracy: 0.8203753351206434\n",
      "At round 150 training accuracy: 0.84439736346516\n",
      "At round 150 training loss: 0.8971396390331107\n",
      "Group 1\n",
      "At round 150 accuracy: 0.8707334785766159\n",
      "At round 150 training accuracy: 0.880288370328211\n",
      "At round 150 training loss: 1.1150105624564208\n",
      "Group 2\n",
      "At round 150 accuracy: 0.6678559844307492\n",
      "At round 150 training accuracy: 0.6868936170212766\n",
      "At round 150 training loss: 1.0478911927880203\n",
      "Group 3\n",
      "At round 150 accuracy: 0.6181172291296625\n",
      "At round 150 training accuracy: 0.6439411627363997\n",
      "At round 150 training loss: 1.389879320743149\n",
      "Group 4\n",
      "At round 150 accuracy: 0.5964579380139152\n",
      "At round 150 training accuracy: 0.6374561842764146\n",
      "At round 150 training loss: 1.4054150037567592\n",
      "At round 150 mean test accuracy: 0.7017861453053343 mean train accuracy: 0.7252005199251815 mean train loss: 1.153146048087669                     number of test client: 753\n",
      "The client-group discrepancy are: [30.43822709 26.11648176 29.76327589 24.37760143 51.31752778 49.18049658]\n",
      "Begin group  0 training\n"
     ]
    },
    {
     "name": "stderr",
     "output_type": "stream",
     "text": [
      "Epoch:   0%|          | 0/20 [00:00<?, ?it/s]         "
     ]
    },
    {
     "name": "stdout",
     "output_type": "stream",
     "text": [
      "Begin group  1 training\n"
     ]
    },
    {
     "name": "stderr",
     "output_type": "stream",
     "text": [
      "Epoch:   5%|▌         | 1/20 [00:00<00:02,  7.90it/s] "
     ]
    },
    {
     "name": "stdout",
     "output_type": "stream",
     "text": [
      "Begin group  2 training\n"
     ]
    },
    {
     "name": "stderr",
     "output_type": "stream",
     "text": [
      "Epoch:   5%|▌         | 1/20 [00:00<00:03,  5.97it/s] "
     ]
    },
    {
     "name": "stdout",
     "output_type": "stream",
     "text": [
      "Begin group  3 training\n"
     ]
    },
    {
     "name": "stderr",
     "output_type": "stream",
     "text": [
      "Epoch:   5%|▌         | 1/20 [00:00<00:02,  7.00it/s] "
     ]
    },
    {
     "name": "stdout",
     "output_type": "stream",
     "text": [
      "Begin group  4 training\n"
     ]
    },
    {
     "name": "stderr",
     "output_type": "stream",
     "text": [
      "                                                      \r"
     ]
    },
    {
     "name": "stdout",
     "output_type": "stream",
     "text": [
      "Training groups takes 69.44213128089905s seconds\n",
      "Scheduling clients takes 3.024355411529541s seconds\n",
      "Group 0 is empty.\n",
      "Group 1, clients ['effingcards']\n",
      "Group 2, clients ['treewatcher21', 'gobullet', 'ksekher', 'LauraLxox', 'AliciaWag', 'purplepleather']\n",
      "Group 3, clients ['jamisloan', 'LauRenxExCarter']\n",
      "Group 4, clients ['Bruno108', 'theknickermafia', 'InTheLittleWood', 'carlos_teran', 'paulpuddifoot', 'SimpleMia', 'Pepperfire', 'I_Support_DemiL', 'PapiChulaa', 'vickymoontree', 'ashleyyosaurus']\n"
     ]
    },
    {
     "name": "stderr",
     "output_type": "stream",
     "text": [
      "\r",
      "Epoch:   0%|          | 0/20 [00:00<?, ?it/s]"
     ]
    },
    {
     "name": "stdout",
     "output_type": "stream",
     "text": [
      "Group 0\n",
      "At round 151 accuracy: 0.8296903460837887\n",
      "At round 151 training accuracy: 0.829731027857829\n",
      "At round 151 training loss: 0.9698715590128535\n",
      "Group 1\n",
      "At round 151 accuracy: 0.8712230215827338\n",
      "At round 151 training accuracy: 0.8821100056316876\n",
      "At round 151 training loss: 1.0067433935175758\n",
      "Group 2\n",
      "At round 151 accuracy: 0.673260797889878\n",
      "At round 151 training accuracy: 0.702232606438214\n",
      "At round 151 training loss: 0.9769107642600403\n",
      "Group 3\n",
      "At round 151 accuracy: 0.6821428571428572\n",
      "At round 151 training accuracy: 0.7116060961313013\n",
      "At round 151 training loss: 1.4077020224480772\n",
      "Group 4\n",
      "At round 151 accuracy: 0.5440821256038647\n",
      "At round 151 training accuracy: 0.5791235059760956\n",
      "At round 151 training loss: 1.0518453396649\n",
      "At round 151 mean test accuracy: 0.7025430878630831 mean train accuracy: 0.7261848228701681 mean train loss: 1.0540673901581337                     number of test client: 754\n",
      "The client-group discrepancy are: [44.13216257  0.         46.73037863 37.1402215  30.82376783 50.12945527]\n",
      "Begin group  1 training\n"
     ]
    },
    {
     "name": "stderr",
     "output_type": "stream",
     "text": [
      "Epoch:   5%|▌         | 1/20 [00:00<00:02,  9.38it/s] "
     ]
    },
    {
     "name": "stdout",
     "output_type": "stream",
     "text": [
      "Begin group  2 training\n"
     ]
    },
    {
     "name": "stderr",
     "output_type": "stream",
     "text": [
      "Epoch:   5%|▌         | 1/20 [00:00<00:02,  6.52it/s] "
     ]
    },
    {
     "name": "stdout",
     "output_type": "stream",
     "text": [
      "Begin group  3 training\n"
     ]
    },
    {
     "name": "stderr",
     "output_type": "stream",
     "text": [
      "Epoch:   0%|          | 0/20 [00:00<?, ?it/s]         "
     ]
    },
    {
     "name": "stdout",
     "output_type": "stream",
     "text": [
      "Begin group  4 training\n"
     ]
    },
    {
     "name": "stderr",
     "output_type": "stream",
     "text": [
      "                                                      \r"
     ]
    },
    {
     "name": "stdout",
     "output_type": "stream",
     "text": [
      "Training groups takes 66.8044810295105s seconds\n",
      "Scheduling clients takes 3.021618604660034s seconds\n",
      "Group 0, clients ['Aw_Re_ya_2_', 'frankparker']\n",
      "Group 1, clients ['JazzBANGER', 'perpetualspiral']\n",
      "Group 2, clients ['SandyCalico', 'weeps', 'sinspired', 'PaulDale67', 'xDirtyBurdx', 'SarcasticFairy', 'allison__', 'robertbasic', 'DWsRoseC', 'NaythenCash', 'rockbigdave']\n",
      "Group 3 is empty.\n",
      "Group 4, clients ['JoReynolds55', 'hortovanyi', 'jun6lee', 'MrFlossy', 'KateEdwards']\n"
     ]
    },
    {
     "name": "stderr",
     "output_type": "stream",
     "text": [
      "\r",
      "Epoch:   0%|          | 0/20 [00:00<?, ?it/s]"
     ]
    },
    {
     "name": "stdout",
     "output_type": "stream",
     "text": [
      "Group 0\n",
      "At round 152 accuracy: 0.8321364452423698\n",
      "At round 152 training accuracy: 0.8334516205346582\n",
      "At round 152 training loss: 0.9474839883415711\n",
      "Group 1\n",
      "At round 152 accuracy: 0.8364688856729378\n",
      "At round 152 training accuracy: 0.8389350453172205\n",
      "At round 152 training loss: 0.7374361335617493\n",
      "Group 2\n",
      "At round 152 accuracy: 0.6698675496688742\n",
      "At round 152 training accuracy: 0.6865982965409352\n",
      "At round 152 training loss: 1.0376861359375775\n",
      "Group 3\n",
      "At round 152 accuracy: 0.6732142857142858\n",
      "At round 152 training accuracy: 0.7073856975381008\n",
      "At round 152 training loss: 1.362989119776816\n",
      "Group 4\n",
      "At round 152 accuracy: 0.5677302829620711\n",
      "At round 152 training accuracy: 0.5855712696647069\n",
      "At round 152 training loss: 1.247329902553263\n",
      "At round 152 mean test accuracy: 0.6994094250934073 mean train accuracy: 0.7144711431918194 mean train loss: 1.0609646036273281                     number of test client: 754\n",
      "The client-group discrepancy are: [31.69619119 51.49450883 32.19594793 22.24658537  0.         44.36609426]\n",
      "Begin group  0 training\n"
     ]
    },
    {
     "name": "stderr",
     "output_type": "stream",
     "text": [
      "Epoch:   5%|▌         | 1/20 [00:00<00:02,  6.71it/s] "
     ]
    },
    {
     "name": "stdout",
     "output_type": "stream",
     "text": [
      "Begin group  1 training\n"
     ]
    },
    {
     "name": "stderr",
     "output_type": "stream",
     "text": [
      "Epoch:   5%|▌         | 1/20 [00:00<00:01,  9.55it/s] "
     ]
    },
    {
     "name": "stdout",
     "output_type": "stream",
     "text": [
      "Begin group  2 training\n"
     ]
    },
    {
     "name": "stderr",
     "output_type": "stream",
     "text": [
      "Epoch:   5%|▌         | 1/20 [00:00<00:03,  5.89it/s] "
     ]
    },
    {
     "name": "stdout",
     "output_type": "stream",
     "text": [
      "Begin group  4 training\n"
     ]
    },
    {
     "name": "stderr",
     "output_type": "stream",
     "text": [
      "                                                      \r"
     ]
    },
    {
     "name": "stdout",
     "output_type": "stream",
     "text": [
      "Training groups takes 60.87456917762756s seconds\n",
      "Scheduling clients takes 3.100243091583252s seconds\n",
      "Group 0, clients ['Sunshineliron', 'sheryonstone']\n",
      "Group 1, clients ['AClockworkToad', 'DarianMarie43']\n",
      "Group 2, clients ['LucyAnnabel', 'alwaysloveu_Ci', 'PinkTribble', 'sfgiantsgirl', 'kevmer', 'schaeferj89', 'tifpez', 'TheEmmaHamilton', 'exortabreedoll', 'jesslina']\n",
      "Group 3, clients ['thatlass', 'HeathCastor', 'Kikirowr']\n",
      "Group 4, clients ['AndyCarolan', 'ImmaChocoholic', 'witnessamiracle']\n"
     ]
    },
    {
     "name": "stderr",
     "output_type": "stream",
     "text": [
      "\r",
      "Epoch:   0%|          | 0/20 [00:00<?, ?it/s]"
     ]
    },
    {
     "name": "stdout",
     "output_type": "stream",
     "text": [
      "Group 0\n",
      "At round 153 accuracy: 0.8358473824312334\n",
      "At round 153 training accuracy: 0.8382799719560645\n",
      "At round 153 training loss: 0.7154937254787691\n",
      "Group 1\n",
      "At round 153 accuracy: 0.8662832494608196\n",
      "At round 153 training accuracy: 0.8770645645645646\n",
      "At round 153 training loss: 0.7380538247815556\n",
      "Group 2\n",
      "At round 153 accuracy: 0.6757377049180328\n",
      "At round 153 training accuracy: 0.6866930624892408\n",
      "At round 153 training loss: 0.9562040904335155\n",
      "Group 3\n",
      "At round 153 accuracy: 0.6820234869015357\n",
      "At round 153 training accuracy: 0.7172675521821632\n",
      "At round 153 training loss: 1.3203285940548588\n",
      "Group 4\n",
      "At round 153 accuracy: 0.5819975339087546\n",
      "At round 153 training accuracy: 0.6153595834689228\n",
      "At round 153 training loss: 1.3565990871544036\n",
      "At round 153 mean test accuracy: 0.7119440761721104 mean train accuracy: 0.7295406338050464 mean train loss: 1.013305818678653                     number of test client: 754\n",
      "The client-group discrepancy are: [31.98348064 25.94917215 26.95222277 33.94166404 22.67405692 42.14267059]\n",
      "Begin group  0 training\n"
     ]
    },
    {
     "name": "stderr",
     "output_type": "stream",
     "text": [
      "Epoch:   5%|▌         | 1/20 [00:00<00:02,  8.34it/s] "
     ]
    },
    {
     "name": "stdout",
     "output_type": "stream",
     "text": [
      "Begin group  1 training\n"
     ]
    },
    {
     "name": "stderr",
     "output_type": "stream",
     "text": [
      "Epoch:   5%|▌         | 1/20 [00:00<00:02,  8.11it/s] "
     ]
    },
    {
     "name": "stdout",
     "output_type": "stream",
     "text": [
      "Begin group  2 training\n"
     ]
    },
    {
     "name": "stderr",
     "output_type": "stream",
     "text": [
      "Epoch:   5%|▌         | 1/20 [00:00<00:02,  6.36it/s] "
     ]
    },
    {
     "name": "stdout",
     "output_type": "stream",
     "text": [
      "Begin group  3 training\n"
     ]
    },
    {
     "name": "stderr",
     "output_type": "stream",
     "text": [
      "Epoch:   5%|▌         | 1/20 [00:00<00:02,  6.59it/s] "
     ]
    },
    {
     "name": "stdout",
     "output_type": "stream",
     "text": [
      "Begin group  4 training\n"
     ]
    },
    {
     "name": "stderr",
     "output_type": "stream",
     "text": [
      "                                                      \r"
     ]
    },
    {
     "name": "stdout",
     "output_type": "stream",
     "text": [
      "Training groups takes 64.13283205032349s seconds\n",
      "Scheduling clients takes 3.007350206375122s seconds\n",
      "Group 0, clients ['JJLuver756', 'elocio', 'LadyParadis', 'Sunshineliron']\n",
      "Group 1, clients ['Gillian_CC', 'SusanCosmos']\n",
      "Group 2, clients ['melz0812', 'minorityx', 'gabbydario', 'shinsh0ku', 'crazymitchell', 'hannah106', 'ksekher']\n",
      "Group 3, clients ['ericbutcher', 'uyennguyen_']\n",
      "Group 4, clients ['mr_billiam', 'sarahlay', 'DominaCaffeine', 'Monicarrrr', 'ThomasGudgeon']\n"
     ]
    },
    {
     "name": "stderr",
     "output_type": "stream",
     "text": [
      "Epoch:   5%|▌         | 1/20 [00:00<00:02,  9.13it/s]"
     ]
    },
    {
     "name": "stdout",
     "output_type": "stream",
     "text": [
      "Group 0\n",
      "At round 154 accuracy: 0.8266199649737302\n",
      "At round 154 training accuracy: 0.8352941176470589\n",
      "At round 154 training loss: 0.6531170348646473\n",
      "Group 1\n",
      "At round 154 accuracy: 0.8397988505747126\n",
      "At round 154 training accuracy: 0.8558829048601989\n",
      "At round 154 training loss: 0.5975037241004602\n",
      "Group 2\n",
      "At round 154 accuracy: 0.6484529295589203\n",
      "At round 154 training accuracy: 0.66168337366056\n",
      "At round 154 training loss: 1.0915393759642984\n",
      "Group 3\n",
      "At round 154 accuracy: 0.6539509536784741\n",
      "At round 154 training accuracy: 0.6812112541726275\n",
      "At round 154 training loss: 1.4821268531650977\n",
      "Group 4\n",
      "At round 154 accuracy: 0.5808823529411765\n",
      "At round 154 training accuracy: 0.6045270816491511\n",
      "At round 154 training loss: 0.9718124547670615\n",
      "At round 154 mean test accuracy: 0.6924744130042143 mean train accuracy: 0.7096315040328958 mean train loss: 0.9765413065139066                     number of test client: 755\n",
      "The client-group discrepancy are: [35.52521915 35.67322426 48.41137593 31.98022266 30.88913855 37.06977969]\n",
      "Begin group  0 training\n"
     ]
    },
    {
     "name": "stderr",
     "output_type": "stream",
     "text": [
      "Epoch:   5%|▌         | 1/20 [00:00<00:02,  6.67it/s] "
     ]
    },
    {
     "name": "stdout",
     "output_type": "stream",
     "text": [
      "Begin group  1 training\n"
     ]
    },
    {
     "name": "stderr",
     "output_type": "stream",
     "text": [
      "Epoch:   5%|▌         | 1/20 [00:00<00:02,  8.74it/s] "
     ]
    },
    {
     "name": "stdout",
     "output_type": "stream",
     "text": [
      "Begin group  2 training\n"
     ]
    },
    {
     "name": "stderr",
     "output_type": "stream",
     "text": [
      "Epoch:   5%|▌         | 1/20 [00:00<00:02,  6.66it/s] "
     ]
    },
    {
     "name": "stdout",
     "output_type": "stream",
     "text": [
      "Begin group  3 training\n"
     ]
    },
    {
     "name": "stderr",
     "output_type": "stream",
     "text": [
      "Epoch:   5%|▌         | 1/20 [00:00<00:03,  5.41it/s] "
     ]
    },
    {
     "name": "stdout",
     "output_type": "stream",
     "text": [
      "Begin group  4 training\n"
     ]
    },
    {
     "name": "stderr",
     "output_type": "stream",
     "text": [
      "                                                      \r"
     ]
    },
    {
     "name": "stdout",
     "output_type": "stream",
     "text": [
      "Training groups takes 59.29681038856506s seconds\n",
      "Scheduling clients takes 3.0473053455352783s seconds\n",
      "Group 0, clients ['scarletmandy', 'hopeinhell', 'AlexTrup']\n",
      "Group 1, clients ['wolfchild59', 'twilightfairy']\n",
      "Group 2, clients ['xamylouise', 'Nikie_D', 'TheEmmaHamilton', 'iamgaberosales', 'eysies', 'AvonteNikole', 'JoshwaActon', 'amalinaaa', 'jesslina']\n",
      "Group 3, clients ['LiluYvett', 'kittenspawn']\n",
      "Group 4, clients ['NoTORIousTori', 'KnightRid', 'GinaLaGuardia', 'KateEdwards']\n"
     ]
    },
    {
     "name": "stderr",
     "output_type": "stream",
     "text": [
      "\r",
      "Epoch:   0%|          | 0/20 [00:00<?, ?it/s]"
     ]
    },
    {
     "name": "stdout",
     "output_type": "stream",
     "text": [
      "Group 0\n",
      "At round 155 accuracy: 0.8352524357838795\n",
      "At round 155 training accuracy: 0.8498834498834499\n",
      "At round 155 training loss: 0.9148720717190826\n",
      "Group 1\n",
      "At round 155 accuracy: 0.7282127031019202\n",
      "At round 155 training accuracy: 0.7326254826254827\n",
      "At round 155 training loss: 0.7548995375124878\n",
      "Group 2\n",
      "At round 155 accuracy: 0.6397273612463485\n",
      "At round 155 training accuracy: 0.6549343787284814\n",
      "At round 155 training loss: 0.9838238819082429\n",
      "Group 3\n",
      "At round 155 accuracy: 0.6746104491292392\n",
      "At round 155 training accuracy: 0.7188552188552189\n",
      "At round 155 training loss: 1.378423272706201\n",
      "Group 4\n",
      "At round 155 accuracy: 0.6266666666666667\n",
      "At round 155 training accuracy: 0.6492883415960339\n",
      "At round 155 training loss: 1.2493969255540918\n",
      "At round 155 mean test accuracy: 0.6827212522576761 mean train accuracy: 0.7014075597026728 mean train loss: 1.0413833043081762                     number of test client: 755\n",
      "The client-group discrepancy are: [33.27260277 46.44264254 29.488352   31.23874113 31.04202698 30.97867489]\n",
      "Begin group  0 training\n"
     ]
    },
    {
     "name": "stderr",
     "output_type": "stream",
     "text": [
      "Epoch:   5%|▌         | 1/20 [00:00<00:02,  6.49it/s] "
     ]
    },
    {
     "name": "stdout",
     "output_type": "stream",
     "text": [
      "Begin group  1 training\n"
     ]
    },
    {
     "name": "stderr",
     "output_type": "stream",
     "text": [
      "Epoch:   0%|          | 0/20 [00:00<?, ?it/s]         "
     ]
    },
    {
     "name": "stdout",
     "output_type": "stream",
     "text": [
      "Begin group  2 training\n"
     ]
    },
    {
     "name": "stderr",
     "output_type": "stream",
     "text": [
      "Epoch:   5%|▌         | 1/20 [00:00<00:02,  9.44it/s] "
     ]
    },
    {
     "name": "stdout",
     "output_type": "stream",
     "text": [
      "Begin group  3 training\n"
     ]
    },
    {
     "name": "stderr",
     "output_type": "stream",
     "text": [
      "Epoch:   0%|          | 0/20 [00:00<?, ?it/s]         "
     ]
    },
    {
     "name": "stdout",
     "output_type": "stream",
     "text": [
      "Begin group  4 training\n"
     ]
    },
    {
     "name": "stderr",
     "output_type": "stream",
     "text": [
      "                                                      \r"
     ]
    },
    {
     "name": "stdout",
     "output_type": "stream",
     "text": [
      "Training groups takes 58.87369084358215s seconds\n",
      "Scheduling clients takes 2.9998812675476074s seconds\n",
      "Group 0, clients ['shellykramer', 'mOFrIz', 'effingcards']\n",
      "Group 1, clients ['serinurshira', 'life_afairytale', 'sinfulsignorita']\n",
      "Group 2, clients ['xDirtyBurdx', 'MrsBamBam', 'HayleyNqahuia', 'unitechy', 'kjgriffin18', 'janeybelle15', 'CynthiaY29', 'Lyricist_Juice']\n",
      "Group 3, clients ['wickedground', 'niccccolle']\n",
      "Group 4, clients ['KateEdwards', 'VickyMinor', 'tweeteradder2', 'amilya']\n"
     ]
    },
    {
     "name": "stderr",
     "output_type": "stream",
     "text": [
      "\r",
      "Epoch:   0%|          | 0/20 [00:00<?, ?it/s]"
     ]
    },
    {
     "name": "stdout",
     "output_type": "stream",
     "text": [
      "Group 0\n",
      "At round 156 accuracy: 0.8273127753303965\n",
      "At round 156 training accuracy: 0.8463499420625724\n",
      "At round 156 training loss: 0.8658567491671403\n",
      "Group 1\n",
      "At round 156 accuracy: 0.45896656534954405\n",
      "At round 156 training accuracy: 0.46770025839793283\n",
      "At round 156 training loss: 1.274066279559907\n",
      "Group 2\n",
      "At round 156 accuracy: 0.6753875968992248\n",
      "At round 156 training accuracy: 0.6869329263122191\n",
      "At round 156 training loss: 0.9406950616782468\n",
      "Group 3\n",
      "At round 156 accuracy: 0.6012773722627737\n",
      "At round 156 training accuracy: 0.6357758620689655\n",
      "At round 156 training loss: 1.3040964572290779\n",
      "Group 4\n",
      "At round 156 accuracy: 0.6353790613718412\n",
      "At round 156 training accuracy: 0.6515873015873016\n",
      "At round 156 training loss: 1.399279656466226\n",
      "At round 156 mean test accuracy: 0.6440698374473209 mean train accuracy: 0.6600031630555117 mean train loss: 1.122915857302531                     number of test client: 755\n",
      "The client-group discrepancy are: [32.09091341 34.14436762 33.45661811 22.69399417 49.98064105 39.37551887]\n",
      "Begin group  0 training\n"
     ]
    },
    {
     "name": "stderr",
     "output_type": "stream",
     "text": [
      "Epoch:   5%|▌         | 1/20 [00:00<00:01,  9.81it/s] "
     ]
    },
    {
     "name": "stdout",
     "output_type": "stream",
     "text": [
      "Begin group  1 training\n"
     ]
    },
    {
     "name": "stderr",
     "output_type": "stream",
     "text": [
      "Epoch:   5%|▌         | 1/20 [00:00<00:03,  5.76it/s] "
     ]
    },
    {
     "name": "stdout",
     "output_type": "stream",
     "text": [
      "Begin group  2 training\n"
     ]
    },
    {
     "name": "stderr",
     "output_type": "stream",
     "text": [
      "Epoch:   5%|▌         | 1/20 [00:00<00:02,  8.79it/s] "
     ]
    },
    {
     "name": "stdout",
     "output_type": "stream",
     "text": [
      "Begin group  3 training\n"
     ]
    },
    {
     "name": "stderr",
     "output_type": "stream",
     "text": [
      "Epoch:   5%|▌         | 1/20 [00:00<00:02,  6.50it/s] "
     ]
    },
    {
     "name": "stdout",
     "output_type": "stream",
     "text": [
      "Begin group  4 training\n"
     ]
    },
    {
     "name": "stderr",
     "output_type": "stream",
     "text": [
      "                                                      \r"
     ]
    },
    {
     "name": "stdout",
     "output_type": "stream",
     "text": [
      "Training groups takes 69.7567207813263s seconds\n",
      "Scheduling clients takes 3.0012331008911133s seconds\n",
      "Group 0, clients ['19c816tf9227', 'mandiebear']\n",
      "Group 1, clients ['gewoonlianne', 'redLIGHTjoli', 'HayleyNqahuia', 'virustricks', 'Kitt69']\n",
      "Group 2, clients ['saintcreaghzy', 'annief1', 'sweetcherrypop', 'NatalieGolding', 'Paiige__', 'tynie626', 'erin82883', 'Rianca', 'Aussie_MateLC', 'NaythenCash']\n",
      "Group 3 is empty.\n",
      "Group 4, clients ['ciaobella50', 'Custardcuppcake', 'clevertitania']\n"
     ]
    },
    {
     "name": "stderr",
     "output_type": "stream",
     "text": [
      "\r",
      "Epoch:   0%|          | 0/20 [00:00<?, ?it/s]"
     ]
    },
    {
     "name": "stdout",
     "output_type": "stream",
     "text": [
      "Group 0\n",
      "At round 157 accuracy: 0.8449477351916377\n",
      "At round 157 training accuracy: 0.856815578465063\n",
      "At round 157 training loss: 1.0219340492820688\n",
      "Group 1\n",
      "At round 157 accuracy: 0.5373134328358209\n",
      "At round 157 training accuracy: 0.5506934948232076\n",
      "At round 157 training loss: 0.9098389479610942\n",
      "Group 2\n",
      "At round 157 accuracy: 0.6743958197256695\n",
      "At round 157 training accuracy: 0.6969307270233196\n",
      "At round 157 training loss: 0.9323790377685902\n",
      "Group 3\n",
      "At round 157 accuracy: 0.6478220574606117\n",
      "At round 157 training accuracy: 0.6612393681652491\n",
      "At round 157 training loss: 1.185446973286234\n",
      "Group 4\n",
      "At round 157 accuracy: 0.6175417661097852\n",
      "At round 157 training accuracy: 0.6448362720403022\n",
      "At round 157 training loss: 1.6064908027673337\n",
      "At round 157 mean test accuracy: 0.6609271523178808 mean train accuracy: 0.6802150877747905 mean train loss: 1.109474005077111                     number of test client: 755\n",
      "The client-group discrepancy are: [28.72436077 27.42229651 50.72093039 14.79175938  0.         39.37345891]\n",
      "Begin group  0 training\n"
     ]
    },
    {
     "name": "stderr",
     "output_type": "stream",
     "text": [
      "Epoch:   0%|          | 0/20 [00:00<?, ?it/s]         "
     ]
    },
    {
     "name": "stdout",
     "output_type": "stream",
     "text": [
      "Begin group  1 training\n"
     ]
    },
    {
     "name": "stderr",
     "output_type": "stream",
     "text": [
      "Epoch:   5%|▌         | 1/20 [00:00<00:02,  6.93it/s] "
     ]
    },
    {
     "name": "stdout",
     "output_type": "stream",
     "text": [
      "Begin group  2 training\n"
     ]
    },
    {
     "name": "stderr",
     "output_type": "stream",
     "text": [
      "Epoch:   5%|▌         | 1/20 [00:00<00:02,  6.81it/s] "
     ]
    },
    {
     "name": "stdout",
     "output_type": "stream",
     "text": [
      "Begin group  4 training\n"
     ]
    },
    {
     "name": "stderr",
     "output_type": "stream",
     "text": [
      "                                                      \r"
     ]
    },
    {
     "name": "stdout",
     "output_type": "stream",
     "text": [
      "Training groups takes 56.93304371833801s seconds\n",
      "Scheduling clients takes 3.045501470565796s seconds\n",
      "Group 0 is empty.\n",
      "Group 1, clients ['natalieannem', 'I_Support_DemiL', 'lordmuttley', 'amalinaaa', 'Galiiit', 'Daddys_pet', 'zarazombie', 'neszlifeasmcrmy', 'aprilyim']\n",
      "Group 2, clients ['Alicia_vintage', 'CynthiaY29', 'MichaelMcNeill', 'x0me880x', 'schaeferj89', 'SarcasticFairy']\n",
      "Group 3, clients ['NOTICEmeDAVID', 'kittenspawn', 'iheartnynuk', 'HappyCassie']\n",
      "Group 4, clients ['tweeteradder16']\n"
     ]
    },
    {
     "name": "stderr",
     "output_type": "stream",
     "text": [
      "\r",
      "Epoch:   0%|          | 0/20 [00:00<?, ?it/s]"
     ]
    },
    {
     "name": "stdout",
     "output_type": "stream",
     "text": [
      "Group 0\n",
      "At round 158 accuracy: 0.8426171529619806\n",
      "At round 158 training accuracy: 0.8559479553903345\n",
      "At round 158 training loss: 1.057925037501681\n",
      "Group 1\n",
      "At round 158 accuracy: 0.6177498252969951\n",
      "At round 158 training accuracy: 0.6111314536799707\n",
      "At round 158 training loss: 0.8016366071287025\n",
      "Group 2\n",
      "At round 158 accuracy: 0.676\n",
      "At round 158 training accuracy: 0.7069584245076587\n",
      "At round 158 training loss: 0.9050200206226378\n",
      "Group 3\n",
      "At round 158 accuracy: 0.6451016635859519\n",
      "At round 158 training accuracy: 0.6640851887705711\n",
      "At round 158 training loss: 1.1705092338417789\n",
      "Group 4\n",
      "At round 158 accuracy: 0.5857740585774058\n",
      "At round 158 training accuracy: 0.6107255520504732\n",
      "At round 158 training loss: 2.4053658010655354\n",
      "At round 158 mean test accuracy: 0.6664662738968378 mean train accuracy: 0.6858162524081736 mean train loss: 1.2430365277499784                     number of test client: 756\n",
      "The client-group discrepancy are: [34.35089882  0.         46.01407043 19.12995172 26.49598479 52.12769304]\n",
      "Begin group  1 training\n"
     ]
    },
    {
     "name": "stderr",
     "output_type": "stream",
     "text": [
      "Epoch:   5%|▌         | 1/20 [00:00<00:02,  6.86it/s] "
     ]
    },
    {
     "name": "stdout",
     "output_type": "stream",
     "text": [
      "Begin group  2 training\n"
     ]
    },
    {
     "name": "stderr",
     "output_type": "stream",
     "text": [
      "Epoch:   5%|▌         | 1/20 [00:00<00:02,  9.45it/s] "
     ]
    },
    {
     "name": "stdout",
     "output_type": "stream",
     "text": [
      "Begin group  3 training\n"
     ]
    },
    {
     "name": "stderr",
     "output_type": "stream",
     "text": [
      "Epoch:   5%|▌         | 1/20 [00:00<00:02,  6.45it/s] "
     ]
    },
    {
     "name": "stdout",
     "output_type": "stream",
     "text": [
      "Begin group  4 training\n"
     ]
    },
    {
     "name": "stderr",
     "output_type": "stream",
     "text": [
      "                                                      \r"
     ]
    },
    {
     "name": "stdout",
     "output_type": "stream",
     "text": [
      "Training groups takes 67.03519606590271s seconds\n",
      "Scheduling clients takes 3.072038412094116s seconds\n",
      "Group 0, clients ['shanajaca', 'nikipaniki', 'cmbowen122', 'garyshort']\n",
      "Group 1, clients ['MelFresh27', 'NKAirplay']\n",
      "Group 2, clients ['Katie1989', 'xDirtyBurdx', 'adlyman', 'saintcreaghzy', 'CherylH77', 'amysav83', 'imsoapee']\n",
      "Group 3, clients ['WooopJess', 'rkb09', 'typezero3', 'LauRenxExCarter']\n",
      "Group 4, clients ['YvetteObeney', 'MaschaD', 'NicJJ']\n"
     ]
    },
    {
     "name": "stderr",
     "output_type": "stream",
     "text": [
      "\r",
      "Epoch:   0%|          | 0/20 [00:00<?, ?it/s]"
     ]
    },
    {
     "name": "stdout",
     "output_type": "stream",
     "text": [
      "Group 0\n",
      "At round 159 accuracy: 0.8443271767810027\n",
      "At round 159 training accuracy: 0.8610083256244219\n",
      "At round 159 training loss: 1.0296194338494056\n",
      "Group 1\n",
      "At round 159 accuracy: 0.693687230989957\n",
      "At round 159 training accuracy: 0.6974030861874294\n",
      "At round 159 training loss: 0.8452986663496237\n",
      "Group 2\n",
      "At round 159 accuracy: 0.6681048788582807\n",
      "At round 159 training accuracy: 0.6991898248976391\n",
      "At round 159 training loss: 0.8387243856695659\n",
      "Group 3\n",
      "At round 159 accuracy: 0.6411657559198543\n",
      "At round 159 training accuracy: 0.6652350274397518\n",
      "At round 159 training loss: 0.8574509548738446\n",
      "Group 4\n",
      "At round 159 accuracy: 0.5976119402985075\n",
      "At round 159 training accuracy: 0.6199842643587726\n",
      "At round 159 training loss: 2.431706561096131\n",
      "At round 159 mean test accuracy: 0.6787303114103643 mean train accuracy: 0.7005969112212993 mean train loss: 1.1880990719669606                     number of test client: 756\n",
      "The client-group discrepancy are: [33.5679873  36.48181642 47.5530662  22.2343256  28.80111487 53.16053642]\n",
      "Begin group  0 training\n"
     ]
    },
    {
     "name": "stderr",
     "output_type": "stream",
     "text": [
      "Epoch:   5%|▌         | 1/20 [00:00<00:01,  9.64it/s] "
     ]
    },
    {
     "name": "stdout",
     "output_type": "stream",
     "text": [
      "Begin group  1 training\n"
     ]
    },
    {
     "name": "stderr",
     "output_type": "stream",
     "text": [
      "Epoch:   5%|▌         | 1/20 [00:00<00:03,  5.63it/s] "
     ]
    },
    {
     "name": "stdout",
     "output_type": "stream",
     "text": [
      "Begin group  2 training\n"
     ]
    },
    {
     "name": "stderr",
     "output_type": "stream",
     "text": [
      "Epoch:   5%|▌         | 1/20 [00:00<00:02,  6.54it/s] "
     ]
    },
    {
     "name": "stdout",
     "output_type": "stream",
     "text": [
      "Begin group  3 training\n"
     ]
    },
    {
     "name": "stderr",
     "output_type": "stream",
     "text": [
      "Epoch:   0%|          | 0/20 [00:00<?, ?it/s]         "
     ]
    },
    {
     "name": "stdout",
     "output_type": "stream",
     "text": [
      "Begin group  4 training\n"
     ]
    },
    {
     "name": "stderr",
     "output_type": "stream",
     "text": [
      "                                                      \r"
     ]
    },
    {
     "name": "stdout",
     "output_type": "stream",
     "text": [
      "Training groups takes 83.17346525192261s seconds\n",
      "Scheduling clients takes 2.9403750896453857s seconds\n",
      "Group 0, clients ['simontay78', 'R_Arblaster', 'chaosbot']\n",
      "Group 1, clients ['iHaps', 'scarletmandy', 'dyeleepong']\n",
      "Group 2, clients ['sophieholly', 'DubarryMcfly', 'paluawahine', 'xDirtyBurdx', 'mini_ritz', 'Cherye101', 'Christyxcore', 'robertbasic', 'taylormcfly', 'xmellyssax', 'davidrules04', 'LauraLxox']\n",
      "Group 3, clients ['Aussie_MateLC', 'IvanaE']\n",
      "Group 4 is empty.\n"
     ]
    },
    {
     "name": "stderr",
     "output_type": "stream",
     "text": [
      "\r",
      "Epoch:   0%|          | 0/20 [00:00<?, ?it/s]"
     ]
    },
    {
     "name": "stdout",
     "output_type": "stream",
     "text": [
      "Group 0\n",
      "At round 160 accuracy: 0.8547826086956521\n",
      "At round 160 training accuracy: 0.8689087165408373\n",
      "At round 160 training loss: 0.7566319110197386\n",
      "Group 1\n",
      "At round 160 accuracy: 0.7719680464778504\n",
      "At round 160 training accuracy: 0.79073756432247\n",
      "At round 160 training loss: 0.6717062842495166\n",
      "Group 2\n",
      "At round 160 accuracy: 0.670522141440846\n",
      "At round 160 training accuracy: 0.7047247507585609\n",
      "At round 160 training loss: 0.8752011475448771\n",
      "Group 3\n",
      "At round 160 accuracy: 0.6492194674012856\n",
      "At round 160 training accuracy: 0.6859205776173285\n",
      "At round 160 training loss: 0.8666687487408286\n",
      "Group 4\n",
      "At round 160 accuracy: 0.6071641791044776\n",
      "At round 160 training accuracy: 0.625177025963808\n",
      "At round 160 training loss: 2.1385787283868622\n",
      "At round 160 mean test accuracy: 0.6972466033425514 mean train accuracy: 0.7232100559012096 mean train loss: 1.07756064375995                     number of test client: 756\n",
      "The client-group discrepancy are: [32.29188711 47.1525759  50.22429564 23.82155929 33.92420802  0.        ]\n",
      "Begin group  0 training\n"
     ]
    },
    {
     "name": "stderr",
     "output_type": "stream",
     "text": [
      "Epoch:   5%|▌         | 1/20 [00:00<00:02,  9.37it/s] "
     ]
    },
    {
     "name": "stdout",
     "output_type": "stream",
     "text": [
      "Begin group  1 training\n"
     ]
    },
    {
     "name": "stderr",
     "output_type": "stream",
     "text": [
      "Epoch:   5%|▌         | 1/20 [00:00<00:02,  7.07it/s] "
     ]
    },
    {
     "name": "stdout",
     "output_type": "stream",
     "text": [
      "Begin group  2 training\n"
     ]
    },
    {
     "name": "stderr",
     "output_type": "stream",
     "text": [
      "Epoch:   5%|▌         | 1/20 [00:00<00:02,  8.74it/s] "
     ]
    },
    {
     "name": "stdout",
     "output_type": "stream",
     "text": [
      "Begin group  3 training\n"
     ]
    },
    {
     "name": "stderr",
     "output_type": "stream",
     "text": [
      "                                                      \r"
     ]
    },
    {
     "name": "stdout",
     "output_type": "stream",
     "text": [
      "Training groups takes 64.10161519050598s seconds\n",
      "Scheduling clients takes 2.9567298889160156s seconds\n",
      "Group 0 is empty.\n",
      "Group 1, clients ['garyshort']\n",
      "Group 2, clients ['nicolalalalala', 'EricaLeigh777', 'angel9293', 'joshuar1313', 'iamgaberosales', 'Galiiit', 'aurihunter', 'minorityx', 'Froosh', 'kyoisorange']\n",
      "Group 3, clients ['olivia_15', 'MissPassion', 'LiluYvett', 'atkailash', 'suewaters', 'haselhurst']\n",
      "Group 4, clients ['AlexTrup', 'mrshananto', 'mandiebear']\n"
     ]
    },
    {
     "name": "stderr",
     "output_type": "stream",
     "text": [
      "Epoch:   5%|▌         | 1/20 [00:00<00:01,  9.55it/s]"
     ]
    },
    {
     "name": "stdout",
     "output_type": "stream",
     "text": [
      "Group 0\n",
      "At round 161 accuracy: 0.8587921847246892\n",
      "At round 161 training accuracy: 0.866557606917504\n",
      "At round 161 training loss: 0.8630193513413801\n",
      "Group 1\n",
      "At round 161 accuracy: 0.7652685798381162\n",
      "At round 161 training accuracy: 0.7877558903051372\n",
      "At round 161 training loss: 0.8235421832038219\n",
      "Group 2\n",
      "At round 161 accuracy: 0.6895874263261297\n",
      "At round 161 training accuracy: 0.7129725085910653\n",
      "At round 161 training loss: 0.9135432506159158\n",
      "Group 3\n",
      "At round 161 accuracy: 0.6349496797804208\n",
      "At round 161 training accuracy: 0.6742569511025887\n",
      "At round 161 training loss: 1.4870095768030858\n",
      "Group 4\n",
      "At round 161 accuracy: 0.6117021276595744\n",
      "At round 161 training accuracy: 0.6300623052959502\n",
      "At round 161 training loss: 2.109845083005713\n",
      "At round 161 mean test accuracy: 0.7018260451705911 mean train accuracy: 0.7240367319890183 mean train loss: 1.209877687951894                     number of test client: 757\n",
      "The client-group discrepancy are: [31.7462918   0.         48.22644035 29.26150418 22.52482535 52.97846727]\n",
      "Begin group  1 training\n"
     ]
    },
    {
     "name": "stderr",
     "output_type": "stream",
     "text": [
      "Epoch:   5%|▌         | 1/20 [00:00<00:02,  6.71it/s] "
     ]
    },
    {
     "name": "stdout",
     "output_type": "stream",
     "text": [
      "Begin group  2 training\n"
     ]
    },
    {
     "name": "stderr",
     "output_type": "stream",
     "text": [
      "Epoch:   5%|▌         | 1/20 [00:00<00:03,  5.56it/s] "
     ]
    },
    {
     "name": "stdout",
     "output_type": "stream",
     "text": [
      "Begin group  3 training\n"
     ]
    },
    {
     "name": "stderr",
     "output_type": "stream",
     "text": [
      "Epoch:   5%|▌         | 1/20 [00:00<00:02,  8.88it/s] "
     ]
    },
    {
     "name": "stdout",
     "output_type": "stream",
     "text": [
      "Begin group  4 training\n"
     ]
    },
    {
     "name": "stderr",
     "output_type": "stream",
     "text": [
      "                                                      \r"
     ]
    },
    {
     "name": "stdout",
     "output_type": "stream",
     "text": [
      "Training groups takes 60.64644694328308s seconds\n",
      "Scheduling clients takes 3.1076772212982178s seconds\n",
      "Group 0, clients ['carlos_teran', 'Joy_Inc', 'amieewhitney']\n",
      "Group 1, clients ['aarthycrazy', 'RyanMacintosh']\n",
      "Group 2, clients ['AyyoItsAmandaJo', 'guilty_', 'CannonGod', 'imsoapee', 'Arasphere', 'adlyman', 'Christiegarcia', 'paulpuddifoot', 'amberwhiting', 'unitechy', 'serinurshira', 'SimpleMia']\n",
      "Group 3, clients ['sampan22']\n",
      "Group 4, clients ['mattdavey2', 'ciaobella50']\n"
     ]
    },
    {
     "name": "stderr",
     "output_type": "stream",
     "text": [
      "Epoch:   5%|▌         | 1/20 [00:00<00:02,  7.96it/s]"
     ]
    },
    {
     "name": "stdout",
     "output_type": "stream",
     "text": [
      "Group 0\n",
      "At round 162 accuracy: 0.8595258999122037\n",
      "At round 162 training accuracy: 0.8666820702402958\n",
      "At round 162 training loss: 0.861088609890511\n",
      "Group 1\n",
      "At round 162 accuracy: 0.7884615384615384\n",
      "At round 162 training accuracy: 0.8129970902036857\n",
      "At round 162 training loss: 0.9567276679579568\n",
      "Group 2\n",
      "At round 162 accuracy: 0.6672036082474226\n",
      "At round 162 training accuracy: 0.6990447206019106\n",
      "At round 162 training loss: 0.8700647175687437\n",
      "Group 3\n",
      "At round 162 accuracy: 0.6550777676120768\n",
      "At round 162 training accuracy: 0.6903163950143816\n",
      "At round 162 training loss: 1.2018021675199984\n",
      "Group 4\n",
      "At round 162 accuracy: 0.613080684596577\n",
      "At round 162 training accuracy: 0.6296535052377116\n",
      "At round 162 training loss: 2.527456292433495\n",
      "At round 162 mean test accuracy: 0.7009851033157136 mean train accuracy: 0.7257407933352268 mean train loss: 1.2511440283219204                     number of test client: 757\n",
      "The client-group discrepancy are: [35.74984076 48.28909144 47.84852899 34.28902306  8.31747057 27.32336778]\n",
      "Begin group  0 training\n"
     ]
    },
    {
     "name": "stderr",
     "output_type": "stream",
     "text": [
      "Epoch:   5%|▌         | 1/20 [00:00<00:02,  8.95it/s] "
     ]
    },
    {
     "name": "stdout",
     "output_type": "stream",
     "text": [
      "Begin group  1 training\n"
     ]
    },
    {
     "name": "stderr",
     "output_type": "stream",
     "text": [
      "Epoch:   5%|▌         | 1/20 [00:00<00:01,  9.62it/s] "
     ]
    },
    {
     "name": "stdout",
     "output_type": "stream",
     "text": [
      "Begin group  2 training\n"
     ]
    },
    {
     "name": "stderr",
     "output_type": "stream",
     "text": [
      "Epoch:   5%|▌         | 1/20 [00:00<00:02,  6.68it/s] "
     ]
    },
    {
     "name": "stdout",
     "output_type": "stream",
     "text": [
      "Begin group  3 training\n"
     ]
    },
    {
     "name": "stderr",
     "output_type": "stream",
     "text": [
      "Epoch:   5%|▌         | 1/20 [00:00<00:02,  8.90it/s] "
     ]
    },
    {
     "name": "stdout",
     "output_type": "stream",
     "text": [
      "Begin group  4 training\n"
     ]
    },
    {
     "name": "stderr",
     "output_type": "stream",
     "text": [
      "                                                      \r"
     ]
    },
    {
     "name": "stdout",
     "output_type": "stream",
     "text": [
      "Training groups takes 60.67222738265991s seconds\n",
      "Scheduling clients takes 3.046799898147583s seconds\n",
      "Group 0, clients ['vickymoontree', 'davidj505', 'Speed2007', 'MummaBear', 'SomersetBob', 'quinland', '30STMluva', 'ganeshaxi', 'wyndwitch', 'toastedfrenchie']\n",
      "Group 1 is empty.\n",
      "Group 2, clients ['hannahkin', 'AndyCarolan', 'teachernz', 'AlyssaNoelleD', 'fromthestars', 'katjrobertson']\n",
      "Group 3, clients ['bexiclepop', 'Tracey_Mac', 'NOTICEmeDAVID']\n",
      "Group 4, clients ['OHMYDAYSitsHayz']\n"
     ]
    },
    {
     "name": "stderr",
     "output_type": "stream",
     "text": [
      "Epoch:   5%|▌         | 1/20 [00:00<00:01,  9.85it/s]"
     ]
    },
    {
     "name": "stdout",
     "output_type": "stream",
     "text": [
      "Group 0\n",
      "At round 163 accuracy: 0.8559870550161812\n",
      "At round 163 training accuracy: 0.8476778866638262\n",
      "At round 163 training loss: 0.49594948595230204\n",
      "Group 1\n",
      "At round 163 accuracy: 0.8201383551114527\n",
      "At round 163 training accuracy: 0.8437814956661963\n",
      "At round 163 training loss: 0.8961227748544015\n",
      "Group 2\n",
      "At round 163 accuracy: 0.6747572815533981\n",
      "At round 163 training accuracy: 0.7053328804347826\n",
      "At round 163 training loss: 0.7935908805334095\n",
      "Group 3\n",
      "At round 163 accuracy: 0.657298277425204\n",
      "At round 163 training accuracy: 0.6781390932826964\n",
      "At round 163 training loss: 1.5109061565022026\n",
      "Group 4\n",
      "At round 163 accuracy: 0.6085319949811794\n",
      "At round 163 training accuracy: 0.6239867659222498\n",
      "At round 163 training loss: 2.2610726134254575\n",
      "At round 163 mean test accuracy: 0.7093945218644883 mean train accuracy: 0.7289595758780649 mean train loss: 1.1408567568485877                     number of test client: 757\n",
      "The client-group discrepancy are: [42.08167798 48.93342671  0.         32.65019316 34.59608874 52.60986737]\n",
      "Begin group  0 training\n"
     ]
    },
    {
     "name": "stderr",
     "output_type": "stream",
     "text": [
      "Epoch:   0%|          | 0/20 [00:00<?, ?it/s]         "
     ]
    },
    {
     "name": "stdout",
     "output_type": "stream",
     "text": [
      "Begin group  2 training\n"
     ]
    },
    {
     "name": "stderr",
     "output_type": "stream",
     "text": [
      "Epoch:   5%|▌         | 1/20 [00:00<00:02,  6.87it/s] "
     ]
    },
    {
     "name": "stdout",
     "output_type": "stream",
     "text": [
      "Begin group  3 training\n"
     ]
    },
    {
     "name": "stderr",
     "output_type": "stream",
     "text": [
      "Epoch:   0%|          | 0/20 [00:00<?, ?it/s]         "
     ]
    },
    {
     "name": "stdout",
     "output_type": "stream",
     "text": [
      "Begin group  4 training\n"
     ]
    },
    {
     "name": "stderr",
     "output_type": "stream",
     "text": [
      "                                                      \r"
     ]
    },
    {
     "name": "stdout",
     "output_type": "stream",
     "text": [
      "Training groups takes 64.14711689949036s seconds\n",
      "Scheduling clients takes 2.947143316268921s seconds\n",
      "Group 0, clients ['Rocks4Ever', 'GlitzyGloss', 'thisgoeshere']\n",
      "Group 1, clients ['MGMarts', 'hopeinhell', 'tweeteradder16']\n",
      "Group 2, clients ['xoxmillyxox', 'paulmason10538', 'Miamoodles', 'KellyG5', 'Commsguy', 'YourSavvyVA', 'MupNorth', 'Whatever_Ista', 'kevmer', 'DivaWonderGirl']\n",
      "Group 3, clients ['kittenspawn', 'nwoidaho', 'beingnobody']\n",
      "Group 4, clients ['treewatcher21']\n"
     ]
    },
    {
     "name": "stderr",
     "output_type": "stream",
     "text": [
      "Epoch:   5%|▌         | 1/20 [00:00<00:02,  9.49it/s]"
     ]
    },
    {
     "name": "stdout",
     "output_type": "stream",
     "text": [
      "Group 0\n",
      "At round 164 accuracy: 0.8234811165845649\n",
      "At round 164 training accuracy: 0.8236819360414867\n",
      "At round 164 training loss: 0.5339354919561474\n",
      "Group 1\n",
      "At round 164 accuracy: 0.8222730739893211\n",
      "At round 164 training accuracy: 0.8450760608486789\n",
      "At round 164 training loss: 0.887958945288192\n",
      "Group 2\n",
      "At round 164 accuracy: 0.6716608224418233\n",
      "At round 164 training accuracy: 0.6933244102392505\n",
      "At round 164 training loss: 0.808268136163634\n",
      "Group 3\n",
      "At round 164 accuracy: 0.6455122393472348\n",
      "At round 164 training accuracy: 0.6653216235461666\n",
      "At round 164 training loss: 1.1021841565072323\n",
      "Group 4\n",
      "At round 164 accuracy: 0.5895474824729127\n",
      "At round 164 training accuracy: 0.6170391530835154\n",
      "At round 164 training loss: 2.279290109693588\n",
      "At round 164 mean test accuracy: 0.6986087790837131 mean train accuracy: 0.7181967109822948 mean train loss: 1.095611207273784                     number of test client: 758\n",
      "The client-group discrepancy are: [33.89054775 20.16909479 37.22025409 33.90224327 36.69440507 56.5372604 ]\n",
      "Begin group  0 training\n"
     ]
    },
    {
     "name": "stderr",
     "output_type": "stream",
     "text": [
      "Epoch:   0%|          | 0/20 [00:00<?, ?it/s]         "
     ]
    },
    {
     "name": "stdout",
     "output_type": "stream",
     "text": [
      "Begin group  1 training\n"
     ]
    },
    {
     "name": "stderr",
     "output_type": "stream",
     "text": [
      "Epoch:   0%|          | 0/20 [00:00<?, ?it/s]         "
     ]
    },
    {
     "name": "stdout",
     "output_type": "stream",
     "text": [
      "Begin group  2 training\n"
     ]
    },
    {
     "name": "stderr",
     "output_type": "stream",
     "text": [
      "Epoch:   5%|▌         | 1/20 [00:00<00:02,  6.50it/s] "
     ]
    },
    {
     "name": "stdout",
     "output_type": "stream",
     "text": [
      "Begin group  3 training\n"
     ]
    },
    {
     "name": "stderr",
     "output_type": "stream",
     "text": [
      "Epoch:   5%|▌         | 1/20 [00:00<00:02,  8.68it/s] "
     ]
    },
    {
     "name": "stdout",
     "output_type": "stream",
     "text": [
      "Begin group  4 training\n"
     ]
    },
    {
     "name": "stderr",
     "output_type": "stream",
     "text": [
      "                                                      \r"
     ]
    },
    {
     "name": "stdout",
     "output_type": "stream",
     "text": [
      "Training groups takes 70.4745819568634s seconds\n",
      "Scheduling clients takes 3.013763427734375s seconds\n",
      "Group 0, clients ['tweeteradder10', 'Aw_Re_ya_2_', 'epcotx']\n",
      "Group 1, clients ['MGMarts', 'HelloLizzi']\n",
      "Group 2, clients ['LstInTheSeeThru', 'rbuerckner', 'PaulHarriott', 'redLIGHTjoli', 'Christiegarcia', 'MCRmuffin', 'EmAllTimeLow', 'juliarygaard', 'xdevinnbabyy', 'paluawahine']\n",
      "Group 3, clients ['xDirtyBurdx', 'serinurshira', 'SexyBeach', 'katementon']\n",
      "Group 4, clients ['TinaS71']\n"
     ]
    },
    {
     "name": "stderr",
     "output_type": "stream",
     "text": [
      "\r",
      "Epoch:   0%|          | 0/20 [00:00<?, ?it/s]"
     ]
    },
    {
     "name": "stdout",
     "output_type": "stream",
     "text": [
      "Group 0\n",
      "At round 165 accuracy: 0.8439834024896266\n",
      "At round 165 training accuracy: 0.854084753167322\n",
      "At round 165 training loss: 0.9022360576232149\n",
      "Group 1\n",
      "At round 165 accuracy: 0.8317610062893082\n",
      "At round 165 training accuracy: 0.8496597236543617\n",
      "At round 165 training loss: 0.8482047878025085\n",
      "Group 2\n",
      "At round 165 accuracy: 0.687460815047022\n",
      "At round 165 training accuracy: 0.7071263989466754\n",
      "At round 165 training loss: 0.9803625867127692\n",
      "Group 3\n",
      "At round 165 accuracy: 0.6763925729442971\n",
      "At round 165 training accuracy: 0.7\n",
      "At round 165 training loss: 1.2249859579097204\n",
      "Group 4\n",
      "At round 165 accuracy: 0.611038961038961\n",
      "At round 165 training accuracy: 0.6226253636830396\n",
      "At round 165 training loss: 2.098386013078236\n",
      "At round 165 mean test accuracy: 0.7164787718877429 mean train accuracy: 0.7335706634742613 mean train loss: 1.1880019108491318                     number of test client: 758\n",
      "The client-group discrepancy are: [32.78575475 21.71146937 24.34079713 31.08641905 44.46679382 53.16772689]\n",
      "Begin group  0 training\n"
     ]
    },
    {
     "name": "stderr",
     "output_type": "stream",
     "text": [
      "Epoch:   0%|          | 0/20 [00:00<?, ?it/s]         "
     ]
    },
    {
     "name": "stdout",
     "output_type": "stream",
     "text": [
      "Begin group  1 training\n"
     ]
    },
    {
     "name": "stderr",
     "output_type": "stream",
     "text": [
      "Epoch:   0%|          | 0/20 [00:00<?, ?it/s]         "
     ]
    },
    {
     "name": "stdout",
     "output_type": "stream",
     "text": [
      "Begin group  2 training\n"
     ]
    },
    {
     "name": "stderr",
     "output_type": "stream",
     "text": [
      "Epoch:   0%|          | 0/20 [00:00<?, ?it/s]         "
     ]
    },
    {
     "name": "stdout",
     "output_type": "stream",
     "text": [
      "Begin group  3 training\n"
     ]
    },
    {
     "name": "stderr",
     "output_type": "stream",
     "text": [
      "Epoch:   5%|▌         | 1/20 [00:00<00:03,  5.55it/s] "
     ]
    },
    {
     "name": "stdout",
     "output_type": "stream",
     "text": [
      "Begin group  4 training\n"
     ]
    },
    {
     "name": "stderr",
     "output_type": "stream",
     "text": [
      "                                                      \r"
     ]
    },
    {
     "name": "stdout",
     "output_type": "stream",
     "text": [
      "Training groups takes 71.22881197929382s seconds\n",
      "Scheduling clients takes 3.028416156768799s seconds\n",
      "Group 0 is empty.\n",
      "Group 1, clients ['VickyMinor', 'WWF_Climate']\n",
      "Group 2, clients ['iellie', 'Jodasaur', 'lina_luka', 'AmyAllTimeLow', 'HeatherShea', 'megspptc', 'Mirna023', 'TheDailyBlonde', '_ophelia', 'mrpower', 'PercythePigeon', 'issie07', 'johnhood', 'VIBEAUTY']\n",
      "Group 3, clients ['Haarlz', 'SarahMorrison', 'BeantownCutie']\n",
      "Group 4, clients ['ctham']\n"
     ]
    },
    {
     "name": "stderr",
     "output_type": "stream",
     "text": [
      "Epoch:   5%|▌         | 1/20 [00:00<00:02,  8.41it/s]"
     ]
    },
    {
     "name": "stdout",
     "output_type": "stream",
     "text": [
      "Group 0\n",
      "At round 166 accuracy: 0.8578595317725752\n",
      "At round 166 training accuracy: 0.8657570422535211\n",
      "At round 166 training loss: 0.8802109467872431\n",
      "Group 1\n",
      "At round 166 accuracy: 0.8373729476153244\n",
      "At round 166 training accuracy: 0.8493741021957726\n",
      "At round 166 training loss: 1.0196943565580934\n",
      "Group 2\n",
      "At round 166 accuracy: 0.6772519083969466\n",
      "At round 166 training accuracy: 0.7069614675959305\n",
      "At round 166 training loss: 0.7435477133361343\n",
      "Group 3\n",
      "At round 166 accuracy: 0.6555153707052441\n",
      "At round 166 training accuracy: 0.6729768102224326\n",
      "At round 166 training loss: 1.180305438831103\n",
      "Group 4\n",
      "At round 166 accuracy: 0.6100131752305665\n",
      "At round 166 training accuracy: 0.6175755470649531\n",
      "At round 166 training loss: 2.5295148094470337\n",
      "At round 166 mean test accuracy: 0.7124432768091713 mean train accuracy: 0.7307113285660519 mean train loss: 1.1856502416440864                     number of test client: 760\n",
      "The client-group discrepancy are: [30.93735949  0.         49.05985098 28.7396866  22.39466242 51.08788822]\n",
      "Begin group  1 training\n"
     ]
    },
    {
     "name": "stderr",
     "output_type": "stream",
     "text": [
      "Epoch:   0%|          | 0/20 [00:00<?, ?it/s]         "
     ]
    },
    {
     "name": "stdout",
     "output_type": "stream",
     "text": [
      "Begin group  2 training\n"
     ]
    },
    {
     "name": "stderr",
     "output_type": "stream",
     "text": [
      "Epoch:   5%|▌         | 1/20 [00:00<00:02,  6.63it/s] "
     ]
    },
    {
     "name": "stdout",
     "output_type": "stream",
     "text": [
      "Begin group  3 training\n"
     ]
    },
    {
     "name": "stderr",
     "output_type": "stream",
     "text": [
      "Epoch:   5%|▌         | 1/20 [00:00<00:02,  6.56it/s] "
     ]
    },
    {
     "name": "stdout",
     "output_type": "stream",
     "text": [
      "Begin group  4 training\n"
     ]
    },
    {
     "name": "stderr",
     "output_type": "stream",
     "text": [
      "                                                      \r"
     ]
    },
    {
     "name": "stdout",
     "output_type": "stream",
     "text": [
      "Training groups takes 69.92230200767517s seconds\n",
      "Scheduling clients takes 2.966369390487671s seconds\n",
      "Group 0, clients ['frankparker']\n",
      "Group 1 is empty.\n",
      "Group 2, clients ['RockstarAtHeart', 'robertbasic', 'marianaguidil', 'crazymitchell', 'alyb_', 'gazebow', 'IzzySc', 'tynie626', 'Bowl_the_Bunny', 'ganeshaxi', 'johnhood', 'AdrienneNycole', 'brianwelburn', 'wolfchild59']\n",
      "Group 3, clients ['lrnn', 'DrewDrew2009', 'mister_peterman', 'DWsRoseC']\n",
      "Group 4, clients ['KINGmoney']\n"
     ]
    },
    {
     "name": "stderr",
     "output_type": "stream",
     "text": [
      "\r",
      "Epoch:   0%|          | 0/20 [00:00<?, ?it/s]"
     ]
    },
    {
     "name": "stdout",
     "output_type": "stream",
     "text": [
      "Group 0\n",
      "At round 167 accuracy: 0.8569009314140559\n",
      "At round 167 training accuracy: 0.8663994655978624\n",
      "At round 167 training loss: 0.8762098192329211\n",
      "Group 1\n",
      "At round 167 accuracy: 0.8328025477707006\n",
      "At round 167 training accuracy: 0.849624060150376\n",
      "At round 167 training loss: 0.9190885788283258\n",
      "Group 2\n",
      "At round 167 accuracy: 0.6844311377245509\n",
      "At round 167 training accuracy: 0.716745283018868\n",
      "At round 167 training loss: 0.9000810250811426\n",
      "Group 3\n",
      "At round 167 accuracy: 0.7219770520741394\n",
      "At round 167 training accuracy: 0.7584295612009238\n",
      "At round 167 training loss: 1.1113071609127139\n",
      "Group 4\n",
      "At round 167 accuracy: 0.6103190767141887\n",
      "At round 167 training accuracy: 0.6066189624329159\n",
      "At round 167 training loss: 2.153372016807515\n",
      "At round 167 mean test accuracy: 0.7230108553023977 mean train accuracy: 0.7441022588426955 mean train loss: 1.1477174921940934                     number of test client: 761\n",
      "The client-group discrepancy are: [36.68937552  5.79893189  0.         34.15276729 49.11437404 53.39234047]\n",
      "Begin group  0 training\n"
     ]
    },
    {
     "name": "stderr",
     "output_type": "stream",
     "text": [
      "Epoch:   5%|▌         | 1/20 [00:00<00:02,  6.96it/s] "
     ]
    },
    {
     "name": "stdout",
     "output_type": "stream",
     "text": [
      "Begin group  2 training\n"
     ]
    },
    {
     "name": "stderr",
     "output_type": "stream",
     "text": [
      "Epoch:   5%|▌         | 1/20 [00:00<00:02,  7.35it/s] "
     ]
    },
    {
     "name": "stdout",
     "output_type": "stream",
     "text": [
      "Begin group  3 training\n"
     ]
    },
    {
     "name": "stderr",
     "output_type": "stream",
     "text": [
      "Epoch:   0%|          | 0/20 [00:00<?, ?it/s]         "
     ]
    },
    {
     "name": "stdout",
     "output_type": "stream",
     "text": [
      "Begin group  4 training\n"
     ]
    },
    {
     "name": "stderr",
     "output_type": "stream",
     "text": [
      "                                                      \r"
     ]
    },
    {
     "name": "stdout",
     "output_type": "stream",
     "text": [
      "Training groups takes 62.38241243362427s seconds\n",
      "Scheduling clients takes 2.9976699352264404s seconds\n",
      "Group 0, clients ['KateEdwards', 'Abbie_xD', 'bacieabbracci']\n",
      "Group 1, clients ['Morrica', 'tweeteradder5', 'tweeteradder20']\n",
      "Group 2, clients ['redLIGHTjoli', 'DubarryMcfly', 'veganluke', '_MsWhite', 'lordmuttley', 'mnstrsnmnchkns', 'FakerParis', 'AmyStar92', 'adlyman', 'Impala_Guy', 'Mum_of_Six']\n",
      "Group 3, clients ['HeathCastor', 'SexyBeach']\n",
      "Group 4, clients ['privatestudmuff']\n"
     ]
    },
    {
     "name": "stderr",
     "output_type": "stream",
     "text": [
      "\r",
      "Epoch:   0%|          | 0/20 [00:00<?, ?it/s]"
     ]
    },
    {
     "name": "stdout",
     "output_type": "stream",
     "text": [
      "Group 0\n",
      "At round 168 accuracy: 0.8401360544217688\n",
      "At round 168 training accuracy: 0.8483899821109123\n",
      "At round 168 training loss: 0.6459945983180582\n",
      "Group 1\n",
      "At round 168 accuracy: 0.8350680544435548\n",
      "At round 168 training accuracy: 0.8516806722689075\n",
      "At round 168 training loss: 0.9093571864204291\n",
      "Group 2\n",
      "At round 168 accuracy: 0.6913981673071239\n",
      "At round 168 training accuracy: 0.720164609053498\n",
      "At round 168 training loss: 0.8548729233321528\n",
      "Group 3\n",
      "At round 168 accuracy: 0.6962699822380106\n",
      "At round 168 training accuracy: 0.7212543554006968\n",
      "At round 168 training loss: 0.8874972483076147\n",
      "Group 4\n",
      "At round 168 accuracy: 0.6161754626456477\n",
      "At round 168 training accuracy: 0.6353132334356382\n",
      "At round 168 training loss: 2.2468721271913896\n",
      "At round 168 mean test accuracy: 0.7211962349577028 mean train accuracy: 0.7431387889219214 mean train loss: 1.0794378593995237                     number of test client: 762\n",
      "The client-group discrepancy are: [29.57954923 50.78571782 20.02410756 28.76074934  4.66827108 53.45672344]\n",
      "Begin group  0 training\n"
     ]
    },
    {
     "name": "stderr",
     "output_type": "stream",
     "text": [
      "Epoch:   5%|▌         | 1/20 [00:00<00:02,  8.43it/s] "
     ]
    },
    {
     "name": "stdout",
     "output_type": "stream",
     "text": [
      "Begin group  1 training\n"
     ]
    },
    {
     "name": "stderr",
     "output_type": "stream",
     "text": [
      "Epoch:   0%|          | 0/20 [00:00<?, ?it/s]         "
     ]
    },
    {
     "name": "stdout",
     "output_type": "stream",
     "text": [
      "Begin group  2 training\n"
     ]
    },
    {
     "name": "stderr",
     "output_type": "stream",
     "text": [
      "Epoch:   5%|▌         | 1/20 [00:00<00:02,  9.30it/s] "
     ]
    },
    {
     "name": "stdout",
     "output_type": "stream",
     "text": [
      "Begin group  3 training\n"
     ]
    },
    {
     "name": "stderr",
     "output_type": "stream",
     "text": [
      "Epoch:   5%|▌         | 1/20 [00:00<00:03,  5.38it/s] "
     ]
    },
    {
     "name": "stdout",
     "output_type": "stream",
     "text": [
      "Begin group  4 training\n"
     ]
    },
    {
     "name": "stderr",
     "output_type": "stream",
     "text": [
      "                                                      \r"
     ]
    },
    {
     "name": "stdout",
     "output_type": "stream",
     "text": [
      "Training groups takes 65.8572449684143s seconds\n",
      "Scheduling clients takes 2.9732537269592285s seconds\n",
      "Group 0 is empty.\n",
      "Group 1, clients ['Joy_Inc', 'HelloLizzi']\n",
      "Group 2, clients ['pimpyouriphone', 'Pepperfire', 'mrhankmanthe3rd', 'CaraNinaMcfly', 'Alicia_vintage', 'Mum_of_Six', 'FakerParis', 'CaroMcFly', 'christyspanties', 'sheonpoint', 'feelme', 'crucifire', 'youngnik718', 'josieinthecity', 'charleneortiz']\n",
      "Group 3, clients ['sky14kemea', 'IvanaE', 'Cherrim']\n",
      "Group 4 is empty.\n"
     ]
    },
    {
     "name": "stderr",
     "output_type": "stream",
     "text": [
      "Epoch:   5%|▌         | 1/20 [00:00<00:01,  9.60it/s]"
     ]
    },
    {
     "name": "stdout",
     "output_type": "stream",
     "text": [
      "Group 0\n",
      "At round 169 accuracy: 0.7037037037037037\n",
      "At round 169 training accuracy: 0.7364130434782609\n",
      "At round 169 training loss: 0.9692883933386601\n",
      "Group 1\n",
      "At round 169 accuracy: 0.8360258481421647\n",
      "At round 169 training accuracy: 0.8542681635246769\n",
      "At round 169 training loss: 0.942367930880721\n",
      "Group 2\n",
      "At round 169 accuracy: 0.686012768427162\n",
      "At round 169 training accuracy: 0.7166285278413425\n",
      "At round 169 training loss: 1.001526314975424\n",
      "Group 3\n",
      "At round 169 accuracy: 0.6898395721925134\n",
      "At round 169 training accuracy: 0.7195804195804196\n",
      "At round 169 training loss: 1.2891546975234025\n",
      "Group 4\n",
      "At round 169 accuracy: 0.6050244242847174\n",
      "At round 169 training accuracy: 0.6184790595150624\n",
      "At round 169 training loss: 3.0786856802321214\n",
      "At round 169 mean test accuracy: 0.6972619047619047 mean train accuracy: 0.7233669991557488 mean train loss: 1.380511711064641                     number of test client: 763\n",
      "The client-group discrepancy are: [27.71617688  0.         24.89439318 29.22116338 22.07243352  0.        ]\n",
      "Begin group  1 training\n"
     ]
    },
    {
     "name": "stderr",
     "output_type": "stream",
     "text": [
      "Epoch:   5%|▌         | 1/20 [00:00<00:03,  6.21it/s] "
     ]
    },
    {
     "name": "stdout",
     "output_type": "stream",
     "text": [
      "Begin group  2 training\n"
     ]
    },
    {
     "name": "stderr",
     "output_type": "stream",
     "text": [
      "Epoch:   5%|▌         | 1/20 [00:00<00:02,  9.03it/s] "
     ]
    },
    {
     "name": "stdout",
     "output_type": "stream",
     "text": [
      "Begin group  3 training\n"
     ]
    },
    {
     "name": "stderr",
     "output_type": "stream",
     "text": [
      "                                                      \r"
     ]
    },
    {
     "name": "stdout",
     "output_type": "stream",
     "text": [
      "Training groups takes 62.85264039039612s seconds\n",
      "Scheduling clients takes 3.019716262817383s seconds\n",
      "Group 0 is empty.\n",
      "Group 1, clients ['DNiCESEOUL', 'tweeteradder2', 'garyshort']\n",
      "Group 2, clients ['coliwilso', 'dollforlife', 'steffy213', 'KiSHEZ', 'Rianca', 'tweetieelovee', 'ksekher', 'jesslina', 'loving_my_DEW', 'pawsthejaws', 'ambienteer', 'mcflychloe94', 'zenjar', 'McDayDreamer']\n",
      "Group 3, clients ['bexiclepop', 'olivia_15']\n",
      "Group 4, clients ['MarilynM']\n"
     ]
    },
    {
     "name": "stderr",
     "output_type": "stream",
     "text": [
      "Epoch:   5%|▌         | 1/20 [00:00<00:02,  8.41it/s]"
     ]
    },
    {
     "name": "stdout",
     "output_type": "stream",
     "text": [
      "Group 0\n",
      "At round 170 accuracy: 0.7054735013032146\n",
      "At round 170 training accuracy: 0.7363490975554032\n",
      "At round 170 training loss: 0.9692461731356286\n",
      "Group 1\n",
      "At round 170 accuracy: 0.8557457212713936\n",
      "At round 170 training accuracy: 0.8668234288157333\n",
      "At round 170 training loss: 1.0700430182045968\n",
      "Group 2\n",
      "At round 170 accuracy: 0.6977727657175078\n",
      "At round 170 training accuracy: 0.7192293442015562\n",
      "At round 170 training loss: 0.9280404183812521\n",
      "Group 3\n",
      "At round 170 accuracy: 0.6945454545454546\n",
      "At round 170 training accuracy: 0.716254752851711\n",
      "At round 170 training loss: 1.3449161920317263\n",
      "Group 4\n",
      "At round 170 accuracy: 0.601590744757773\n",
      "At round 170 training accuracy: 0.6123381568926123\n",
      "At round 170 training loss: 3.14634916956917\n",
      "At round 170 mean test accuracy: 0.7056374881065651 mean train accuracy: 0.7252108716026242 mean train loss: 1.373195575122697                     number of test client: 764\n",
      "The client-group discrepancy are: [31.58392357  0.         24.81716687 35.36767898  4.61401019 52.85144471]\n",
      "Begin group  1 training\n"
     ]
    },
    {
     "name": "stderr",
     "output_type": "stream",
     "text": [
      "Epoch:   0%|          | 0/20 [00:00<?, ?it/s]         "
     ]
    },
    {
     "name": "stdout",
     "output_type": "stream",
     "text": [
      "Begin group  2 training\n"
     ]
    },
    {
     "name": "stderr",
     "output_type": "stream",
     "text": [
      "Epoch:   5%|▌         | 1/20 [00:00<00:02,  7.40it/s] "
     ]
    },
    {
     "name": "stdout",
     "output_type": "stream",
     "text": [
      "Begin group  3 training\n"
     ]
    },
    {
     "name": "stderr",
     "output_type": "stream",
     "text": [
      "Epoch:   5%|▌         | 1/20 [00:00<00:02,  8.96it/s] "
     ]
    },
    {
     "name": "stdout",
     "output_type": "stream",
     "text": [
      "Begin group  4 training\n"
     ]
    },
    {
     "name": "stderr",
     "output_type": "stream",
     "text": [
      "                                                      \r"
     ]
    },
    {
     "name": "stdout",
     "output_type": "stream",
     "text": [
      "Training groups takes 64.12676048278809s seconds\n",
      "Scheduling clients takes 3.127493143081665s seconds\n",
      "Group 0 is empty.\n",
      "Group 1 is empty.\n",
      "Group 2, clients ['pawsthejaws', 'CannonGod', 'redLIGHTjoli', 'hanaames', 'ElementsOfJazz', 'life_afairytale', 'rockbigdave', 'nic0lepaula', 'sarahmarina', 'k_griffiths', 'TLM26', 'janabelle_xo', 'steffy213', 'Mixaelala', 'HeatherShea']\n",
      "Group 3, clients ['isdown', 'redoranda']\n",
      "Group 4, clients ['mneylon', 'wiseleo', 'nandeb']\n"
     ]
    },
    {
     "name": "stderr",
     "output_type": "stream",
     "text": [
      "\r",
      "Epoch:   0%|          | 0/20 [00:00<?, ?it/s]"
     ]
    },
    {
     "name": "stdout",
     "output_type": "stream",
     "text": [
      "Group 0\n",
      "At round 171 accuracy: 0.7098214285714286\n",
      "At round 171 training accuracy: 0.7377819548872181\n",
      "At round 171 training loss: 0.9609694616426298\n",
      "Group 1\n",
      "At round 171 accuracy: 0.8555926544240401\n",
      "At round 171 training accuracy: 0.8692223439211391\n",
      "At round 171 training loss: 1.025951008766208\n",
      "Group 2\n",
      "At round 171 accuracy: 0.6933739950097033\n",
      "At round 171 training accuracy: 0.7193851533474175\n",
      "At round 171 training loss: 0.8047727317050416\n",
      "Group 3\n",
      "At round 171 accuracy: 0.6709090909090909\n",
      "At round 171 training accuracy: 0.7017585551330798\n",
      "At round 171 training loss: 1.1727690664819395\n",
      "Group 4\n",
      "At round 171 accuracy: 0.6073752711496746\n",
      "At round 171 training accuracy: 0.6233346022078416\n",
      "At round 171 training loss: 2.982688353144357\n",
      "At round 171 mean test accuracy: 0.701593720266413 mean train accuracy: 0.7251171508903468 mean train loss: 1.2629342240256272                     number of test client: 764\n",
      "The client-group discrepancy are: [25.77442319  0.          0.         24.65167123 14.02025114 39.2242977 ]\n",
      "Begin group  2 training\n"
     ]
    },
    {
     "name": "stderr",
     "output_type": "stream",
     "text": [
      "Epoch:   0%|          | 0/20 [00:00<?, ?it/s]         "
     ]
    },
    {
     "name": "stdout",
     "output_type": "stream",
     "text": [
      "Begin group  3 training\n"
     ]
    },
    {
     "name": "stderr",
     "output_type": "stream",
     "text": [
      "Epoch:   5%|▌         | 1/20 [00:00<00:02,  8.22it/s] "
     ]
    },
    {
     "name": "stdout",
     "output_type": "stream",
     "text": [
      "Begin group  4 training\n"
     ]
    },
    {
     "name": "stderr",
     "output_type": "stream",
     "text": [
      "                                                      \r"
     ]
    },
    {
     "name": "stdout",
     "output_type": "stream",
     "text": [
      "Training groups takes 65.71470379829407s seconds\n",
      "Scheduling clients takes 3.129617691040039s seconds\n",
      "Group 0 is empty.\n",
      "Group 1, clients ['velofille', 'Morrica']\n",
      "Group 2, clients ['PaulineMJ', 'LittlestarRed', '_xbianca', 'MelFresh27', 'paulmason10538', '_ophelia', 'steffy213', 'gabysslave', 'ImmaChocoholic', 'xoxmillyxox', 'Rkoluvsdiana', 'life_afairytale']\n",
      "Group 3, clients ['Saffy', 'Vibhy', 'LorenYxox', 'BeantownCutie']\n",
      "Group 4, clients ['mixmasterfestus', 'combustiblesong']\n"
     ]
    },
    {
     "name": "stderr",
     "output_type": "stream",
     "text": [
      "\r",
      "Epoch:   0%|          | 0/20 [00:00<?, ?it/s]"
     ]
    },
    {
     "name": "stdout",
     "output_type": "stream",
     "text": [
      "Group 0\n",
      "At round 172 accuracy: 0.7138989169675091\n",
      "At round 172 training accuracy: 0.7397813688212928\n",
      "At round 172 training loss: 0.9500014801178691\n",
      "Group 1\n",
      "At round 172 accuracy: 0.8598615916955017\n",
      "At round 172 training accuracy: 0.8727602630982082\n",
      "At round 172 training loss: 1.0036449509277139\n",
      "Group 2\n",
      "At round 172 accuracy: 0.6821173889193637\n",
      "At round 172 training accuracy: 0.7090751820082174\n",
      "At round 172 training loss: 0.7423656329426399\n",
      "Group 3\n",
      "At round 172 accuracy: 0.6859205776173285\n",
      "At round 172 training accuracy: 0.7121962727058269\n",
      "At round 172 training loss: 1.436380273314717\n",
      "Group 4\n",
      "At round 172 accuracy: 0.6100719424460431\n",
      "At round 172 training accuracy: 0.6263965158113993\n",
      "At round 172 training loss: 2.5177756653243493\n",
      "At round 172 mean test accuracy: 0.6993339676498572 mean train accuracy: 0.7224304904717276 mean train loss: 1.1904624964057637                     number of test client: 764\n",
      "The client-group discrepancy are: [24.79805023  0.          4.94531652 25.23352022 19.90620788 51.82164869]\n",
      "Begin group  1 training\n"
     ]
    },
    {
     "name": "stderr",
     "output_type": "stream",
     "text": [
      "Epoch:   5%|▌         | 1/20 [00:00<00:02,  8.67it/s] "
     ]
    },
    {
     "name": "stdout",
     "output_type": "stream",
     "text": [
      "Begin group  2 training\n"
     ]
    },
    {
     "name": "stderr",
     "output_type": "stream",
     "text": [
      "Epoch:   0%|          | 0/20 [00:00<?, ?it/s]         "
     ]
    },
    {
     "name": "stdout",
     "output_type": "stream",
     "text": [
      "Begin group  3 training\n"
     ]
    },
    {
     "name": "stderr",
     "output_type": "stream",
     "text": [
      "Epoch:   5%|▌         | 1/20 [00:00<00:02,  8.45it/s] "
     ]
    },
    {
     "name": "stdout",
     "output_type": "stream",
     "text": [
      "Begin group  4 training\n"
     ]
    },
    {
     "name": "stderr",
     "output_type": "stream",
     "text": [
      "                                                      \r"
     ]
    },
    {
     "name": "stdout",
     "output_type": "stream",
     "text": [
      "Training groups takes 61.51795840263367s seconds\n",
      "Scheduling clients takes 3.195888042449951s seconds\n",
      "Group 0, clients ['SammiiSTACK', 'Abbie_xD']\n",
      "Group 1 is empty.\n",
      "Group 2, clients ['pimpyouriphone', 'oldskool90', 'nicolalalalala', 'funkybrownchick', 'heyisabelle_', 'gracieh89', 'kyoisorange', 'caseysevenfold', 'MelanieFresh27', 'Bopsicle', 'steph_davies', 'anambanana', 'wolfchild59']\n",
      "Group 3, clients ['limeice', 'natalieannem']\n",
      "Group 4, clients ['Knot2serious', 'marianaguidil', 'dopeydoo']\n"
     ]
    },
    {
     "name": "stderr",
     "output_type": "stream",
     "text": [
      "Epoch:   5%|▌         | 1/20 [00:00<00:01,  9.53it/s]"
     ]
    },
    {
     "name": "stdout",
     "output_type": "stream",
     "text": [
      "Group 0\n",
      "At round 173 accuracy: 0.7206290471785384\n",
      "At round 173 training accuracy: 0.7423761893144669\n",
      "At round 173 training loss: 0.9463655011852574\n",
      "Group 1\n",
      "At round 173 accuracy: 0.8605472197705207\n",
      "At round 173 training accuracy: 0.8775746355010414\n",
      "At round 173 training loss: 0.8788820633548503\n",
      "Group 2\n",
      "At round 173 accuracy: 0.68367903930131\n",
      "At round 173 training accuracy: 0.7094715709471571\n",
      "At round 173 training loss: 0.9177129849921205\n",
      "Group 3\n",
      "At round 173 accuracy: 0.6859946476360392\n",
      "At round 173 training accuracy: 0.7093538605085141\n",
      "At round 173 training loss: 1.4643160325023388\n",
      "Group 4\n",
      "At round 173 accuracy: 0.6231369765791341\n",
      "At round 173 training accuracy: 0.6473114264376401\n",
      "At round 173 training loss: 1.9324809500543836\n",
      "At round 173 mean test accuracy: 0.7024262607040913 mean train accuracy: 0.7259606373008435 mean train loss: 1.1591388749337266                     number of test client: 764\n",
      "The client-group discrepancy are: [25.70728824 25.88032325  0.         18.39496052 29.87096648 54.50289954]\n",
      "Begin group  0 training\n"
     ]
    },
    {
     "name": "stderr",
     "output_type": "stream",
     "text": [
      "Epoch:   5%|▌         | 1/20 [00:00<00:02,  6.80it/s] "
     ]
    },
    {
     "name": "stdout",
     "output_type": "stream",
     "text": [
      "Begin group  2 training\n"
     ]
    },
    {
     "name": "stderr",
     "output_type": "stream",
     "text": [
      "Epoch:   0%|          | 0/20 [00:00<?, ?it/s]         "
     ]
    },
    {
     "name": "stdout",
     "output_type": "stream",
     "text": [
      "Begin group  3 training\n"
     ]
    },
    {
     "name": "stderr",
     "output_type": "stream",
     "text": [
      "Epoch:   0%|          | 0/20 [00:00<?, ?it/s]         "
     ]
    },
    {
     "name": "stdout",
     "output_type": "stream",
     "text": [
      "Begin group  4 training\n"
     ]
    },
    {
     "name": "stderr",
     "output_type": "stream",
     "text": [
      "                                                      \r"
     ]
    },
    {
     "name": "stdout",
     "output_type": "stream",
     "text": [
      "Training groups takes 72.80561017990112s seconds\n",
      "Scheduling clients takes 3.065990447998047s seconds\n",
      "Group 0 is empty.\n",
      "Group 1, clients ['DaPrbmChild', 'Custardcuppcake']\n",
      "Group 2, clients ['MacSheikh', 'louiealdip', 'mr_billiam', 'LstInTheSeeThru', 'RockstarAtHeart', 'loving_my_DEW', 'Darth_Disco', 'Tittybird', 'TheDailyBlonde', 'IdolFanatic', 'Buildabear96']\n",
      "Group 3, clients ['DirtyRose17', '4evaurgirl', 'willtompsett', 'haselhurst', 'uyennguyen_', 'LiluYvett']\n",
      "Group 4, clients ['BostinBloke']\n"
     ]
    },
    {
     "name": "stderr",
     "output_type": "stream",
     "text": [
      "Epoch:   5%|▌         | 1/20 [00:00<00:02,  9.43it/s]"
     ]
    },
    {
     "name": "stdout",
     "output_type": "stream",
     "text": [
      "Group 0\n",
      "At round 174 accuracy: 0.5729068673565381\n",
      "At round 174 training accuracy: 0.5728107169436865\n",
      "At round 174 training loss: 1.6106783401772529\n",
      "Group 1\n",
      "At round 174 accuracy: 0.8615520282186949\n",
      "At round 174 training accuracy: 0.8775132886526462\n",
      "At round 174 training loss: 0.8801596832155969\n",
      "Group 2\n",
      "At round 174 accuracy: 0.683585313174946\n",
      "At round 174 training accuracy: 0.7094120150365274\n",
      "At round 174 training loss: 0.827894811793349\n",
      "Group 3\n",
      "At round 174 accuracy: 0.6323658751099385\n",
      "At round 174 training accuracy: 0.6745630174793008\n",
      "At round 174 training loss: 1.1461050297307551\n",
      "Group 4\n",
      "At round 174 accuracy: 0.6357664233576642\n",
      "At round 174 training accuracy: 0.6503362151777138\n",
      "At round 174 training loss: 1.5396509675725965\n",
      "At round 174 mean test accuracy: 0.6788772597526166 mean train accuracy: 0.7005935645110903 mean train loss: 1.092493978303265                     number of test client: 764\n",
      "The client-group discrepancy are: [26.15329521  0.         30.80564847 25.17721986 21.93302406 52.90704442]\n",
      "Begin group  1 training\n"
     ]
    },
    {
     "name": "stderr",
     "output_type": "stream",
     "text": [
      "Epoch:   5%|▌         | 1/20 [00:00<00:02,  9.27it/s] "
     ]
    },
    {
     "name": "stdout",
     "output_type": "stream",
     "text": [
      "Begin group  2 training\n"
     ]
    },
    {
     "name": "stderr",
     "output_type": "stream",
     "text": [
      "Epoch:   5%|▌         | 1/20 [00:00<00:02,  9.42it/s] "
     ]
    },
    {
     "name": "stdout",
     "output_type": "stream",
     "text": [
      "Begin group  3 training\n"
     ]
    },
    {
     "name": "stderr",
     "output_type": "stream",
     "text": [
      "Epoch:   5%|▌         | 1/20 [00:00<00:02,  8.09it/s] "
     ]
    },
    {
     "name": "stdout",
     "output_type": "stream",
     "text": [
      "Begin group  4 training\n"
     ]
    },
    {
     "name": "stderr",
     "output_type": "stream",
     "text": [
      "                                                      \r"
     ]
    },
    {
     "name": "stdout",
     "output_type": "stream",
     "text": [
      "Training groups takes 58.764973640441895s seconds\n",
      "Scheduling clients takes 3.060469150543213s seconds\n",
      "Group 0, clients ['nere13']\n",
      "Group 1, clients ['twliciousness', 'AshesOfLilies']\n",
      "Group 2, clients ['LexiStarGirl', 'Miamoodles', 'claudiamcfly', 'Sims_Galore', 'xmellyssax', 'AmyStar92', 'weeps', 'GinaLaGuardia', 'xxxSupermodel', 'happylovesChuck']\n",
      "Group 3, clients ['willtompsett', 'ZeenaBoBeena', 'haselhurst']\n",
      "Group 4, clients ['Daddys_pet', 'Commsguy', 'privatestudmuff', 'thisgoeshere']\n"
     ]
    },
    {
     "name": "stderr",
     "output_type": "stream",
     "text": [
      "\r",
      "Epoch:   0%|          | 0/20 [00:00<?, ?it/s]"
     ]
    },
    {
     "name": "stdout",
     "output_type": "stream",
     "text": [
      "Group 0\n",
      "At round 175 accuracy: 0.5717054263565892\n",
      "At round 175 training accuracy: 0.5745715016628293\n",
      "At round 175 training loss: 1.6052916891300844\n",
      "Group 1\n",
      "At round 175 accuracy: 0.8656987295825771\n",
      "At round 175 training accuracy: 0.8827864954826439\n",
      "At round 175 training loss: 0.8541045145633182\n",
      "Group 2\n",
      "At round 175 accuracy: 0.659273115980759\n",
      "At round 175 training accuracy: 0.6898778604520567\n",
      "At round 175 training loss: 0.8270977205911576\n",
      "Group 3\n",
      "At round 175 accuracy: 0.6753597122302158\n",
      "At round 175 training accuracy: 0.7016223841993887\n",
      "At round 175 training loss: 1.37090881035352\n",
      "Group 4\n",
      "At round 175 accuracy: 0.6401408450704226\n",
      "At round 175 training accuracy: 0.6447368421052632\n",
      "At round 175 training loss: 1.6074158858281427\n",
      "At round 175 mean test accuracy: 0.674476688867745 mean train accuracy: 0.6950952827241487 mean train loss: 1.1294712345819                     number of test client: 764\n",
      "The client-group discrepancy are: [25.39798963 50.96920854  8.95556314 25.25775823  6.23396281 41.94999674]\n",
      "Begin group  0 training\n"
     ]
    },
    {
     "name": "stderr",
     "output_type": "stream",
     "text": [
      "Epoch:   5%|▌         | 1/20 [00:00<00:03,  6.11it/s] "
     ]
    },
    {
     "name": "stdout",
     "output_type": "stream",
     "text": [
      "Begin group  1 training\n"
     ]
    },
    {
     "name": "stderr",
     "output_type": "stream",
     "text": [
      "Epoch:   5%|▌         | 1/20 [00:00<00:02,  6.64it/s] "
     ]
    },
    {
     "name": "stdout",
     "output_type": "stream",
     "text": [
      "Begin group  2 training\n"
     ]
    },
    {
     "name": "stderr",
     "output_type": "stream",
     "text": [
      "Epoch:   0%|          | 0/20 [00:00<?, ?it/s]         "
     ]
    },
    {
     "name": "stdout",
     "output_type": "stream",
     "text": [
      "Begin group  3 training\n"
     ]
    },
    {
     "name": "stderr",
     "output_type": "stream",
     "text": [
      "Epoch:   5%|▌         | 1/20 [00:00<00:02,  8.44it/s] "
     ]
    },
    {
     "name": "stdout",
     "output_type": "stream",
     "text": [
      "Begin group  4 training\n"
     ]
    },
    {
     "name": "stderr",
     "output_type": "stream",
     "text": [
      "                                                      \r"
     ]
    },
    {
     "name": "stdout",
     "output_type": "stream",
     "text": [
      "Training groups takes 75.84051418304443s seconds\n",
      "Scheduling clients takes 3.121478796005249s seconds\n",
      "Group 0 is empty.\n",
      "Group 1, clients ['garyshort']\n",
      "Group 2, clients ['peytonluvsjoe', 'Hetty4Christ', 'hanaames', 'PercythePigeon', 'witnessamiracle', 'amberwhiting', 'm0po', 'lorettak', 'redLIGHTjoli', 'pato_30stm', 'Galiiit', 'Al_ice', 'Bruno108']\n",
      "Group 3, clients ['emmao414', 'Cherrim', 'lauzmur', 'bexiclepop']\n",
      "Group 4, clients ['ashleyyosaurus', 'sarasmile13']\n"
     ]
    },
    {
     "name": "stderr",
     "output_type": "stream",
     "text": [
      "Epoch:   5%|▌         | 1/20 [00:00<00:02,  8.42it/s]"
     ]
    },
    {
     "name": "stdout",
     "output_type": "stream",
     "text": [
      "Group 0\n",
      "At round 176 accuracy: 0.5251937984496124\n",
      "At round 176 training accuracy: 0.545663852647736\n",
      "At round 176 training loss: 1.948523518216126\n",
      "Group 1\n",
      "At round 176 accuracy: 0.8651892890120036\n",
      "At round 176 training accuracy: 0.883135736752964\n",
      "At round 176 training loss: 0.8693484226634413\n",
      "Group 2\n",
      "At round 176 accuracy: 0.6594012605042017\n",
      "At round 176 training accuracy: 0.6956551724137932\n",
      "At round 176 training loss: 0.831163739523754\n",
      "Group 3\n",
      "At round 176 accuracy: 0.6636690647482014\n",
      "At round 176 training accuracy: 0.6938631554197038\n",
      "At round 176 training loss: 1.5212195527825445\n",
      "Group 4\n",
      "At round 176 accuracy: 0.6795338674435543\n",
      "At round 176 training accuracy: 0.6814956855225311\n",
      "At round 176 training loss: 1.5902384346084935\n",
      "At round 176 mean test accuracy: 0.6732873453853473 mean train accuracy: 0.6990003124023743 mean train loss: 1.187894716686558                     number of test client: 764\n",
      "The client-group discrepancy are: [23.12042985  0.          1.80766822 27.10622972 10.38370511 33.34256099]\n",
      "Begin group  1 training\n"
     ]
    },
    {
     "name": "stderr",
     "output_type": "stream",
     "text": [
      "Epoch:   5%|▌         | 1/20 [00:00<00:01,  9.63it/s] "
     ]
    },
    {
     "name": "stdout",
     "output_type": "stream",
     "text": [
      "Begin group  2 training\n"
     ]
    },
    {
     "name": "stderr",
     "output_type": "stream",
     "text": [
      "Epoch:   5%|▌         | 1/20 [00:00<00:02,  9.08it/s] "
     ]
    },
    {
     "name": "stdout",
     "output_type": "stream",
     "text": [
      "Begin group  3 training\n"
     ]
    },
    {
     "name": "stderr",
     "output_type": "stream",
     "text": [
      "Epoch:   5%|▌         | 1/20 [00:00<00:02,  9.39it/s] "
     ]
    },
    {
     "name": "stdout",
     "output_type": "stream",
     "text": [
      "Begin group  4 training\n"
     ]
    },
    {
     "name": "stderr",
     "output_type": "stream",
     "text": [
      "                                                      \r"
     ]
    },
    {
     "name": "stdout",
     "output_type": "stream",
     "text": [
      "Training groups takes 68.21937870979309s seconds\n",
      "Scheduling clients takes 3.0223143100738525s seconds\n",
      "Group 0 is empty.\n",
      "Group 1 is empty.\n",
      "Group 2, clients ['ItsMariahxOxO', 'iamloz_JsPR', 'AdrienneNycole', 'toodamnninja', 'Upstatemomof3', 'Speed2007', 'youngnik718', 'Pepperfire', 'ThomasGudgeon', 'MrTHill', '_ophelia', 'Christyxcore', 'heyisabelle_', 'Kitt69']\n",
      "Group 3, clients ['annzoo', 'jonasnessica', 'LorenYxox', 'Cherrim']\n",
      "Group 4, clients ['Sazchik', 'MGMarts']\n"
     ]
    },
    {
     "name": "stderr",
     "output_type": "stream",
     "text": [
      "\r",
      "Epoch:   0%|          | 0/20 [00:00<?, ?it/s]"
     ]
    },
    {
     "name": "stdout",
     "output_type": "stream",
     "text": [
      "Group 0\n",
      "At round 177 accuracy: 0.5244140625\n",
      "At round 177 training accuracy: 0.545759216292859\n",
      "At round 177 training loss: 1.9448279619902866\n",
      "Group 1\n",
      "At round 177 accuracy: 0.8460057747834456\n",
      "At round 177 training accuracy: 0.8656415427275019\n",
      "At round 177 training loss: 0.7269269926116139\n",
      "Group 2\n",
      "At round 177 accuracy: 0.6723646723646723\n",
      "At round 177 training accuracy: 0.7048734004900626\n",
      "At round 177 training loss: 0.816615823941321\n",
      "Group 3\n",
      "At round 177 accuracy: 0.6762589928057554\n",
      "At round 177 training accuracy: 0.7070303315306842\n",
      "At round 177 training loss: 1.410649525334057\n",
      "Group 4\n",
      "At round 177 accuracy: 0.674198250728863\n",
      "At round 177 training accuracy: 0.6786740754933895\n",
      "At round 177 training loss: 1.527202506684028\n",
      "At round 177 mean test accuracy: 0.676617507136061 mean train accuracy: 0.7015307716338645 mean train loss: 1.137000594914907                     number of test client: 764\n",
      "The client-group discrepancy are: [23.32011493  0.          0.         26.0820601   7.2323968  36.16193501]\n",
      "Begin group  2 training\n"
     ]
    },
    {
     "name": "stderr",
     "output_type": "stream",
     "text": [
      "Epoch:   5%|▌         | 1/20 [00:00<00:02,  9.24it/s] "
     ]
    },
    {
     "name": "stdout",
     "output_type": "stream",
     "text": [
      "Begin group  3 training\n"
     ]
    },
    {
     "name": "stderr",
     "output_type": "stream",
     "text": [
      "Epoch:   5%|▌         | 1/20 [00:00<00:02,  8.37it/s] "
     ]
    },
    {
     "name": "stdout",
     "output_type": "stream",
     "text": [
      "Begin group  4 training\n"
     ]
    },
    {
     "name": "stderr",
     "output_type": "stream",
     "text": [
      "                                                      \r"
     ]
    },
    {
     "name": "stdout",
     "output_type": "stream",
     "text": [
      "Training groups takes 57.419822216033936s seconds\n",
      "Scheduling clients takes 2.9863107204437256s seconds\n",
      "Group 0 is empty.\n",
      "Group 1, clients ['mattdavey2', 'DNiCESEOUL', 'garyshort']\n",
      "Group 2, clients ['brinshannara', 'taluta', 'hanaames', 'aliefaulkner', 'MelFresh27', 'xamylouise', 'HappyCassie', 'Nimilia1621', 'valenbfm', 'ThomasGudgeon', 'funkybrownchick', 'LiverpoolFan74', 'mini_ritz']\n",
      "Group 3, clients ['chinatheblack', 'gewoonlianne']\n",
      "Group 4, clients ['tweeteradder5', 'jj38girl']\n"
     ]
    },
    {
     "name": "stderr",
     "output_type": "stream",
     "text": [
      "Epoch:   5%|▌         | 1/20 [00:00<00:01,  9.67it/s]"
     ]
    },
    {
     "name": "stdout",
     "output_type": "stream",
     "text": [
      "Group 0\n",
      "At round 178 accuracy: 0.5226377952755905\n",
      "At round 178 training accuracy: 0.5451948051948052\n",
      "At round 178 training loss: 1.9480845935571358\n",
      "Group 1\n",
      "At round 178 accuracy: 0.8487229862475442\n",
      "At round 178 training accuracy: 0.8675070748649344\n",
      "At round 178 training loss: 0.7071013472221913\n",
      "Group 2\n",
      "At round 178 accuracy: 0.6603483606557377\n",
      "At round 178 training accuracy: 0.7018240560005384\n",
      "At round 178 training loss: 0.7886245035148087\n",
      "Group 3\n",
      "At round 178 accuracy: 0.6754545454545454\n",
      "At round 178 training accuracy: 0.7217991432651119\n",
      "At round 178 training loss: 1.3002224842867487\n",
      "Group 4\n",
      "At round 178 accuracy: 0.6686131386861314\n",
      "At round 178 training accuracy: 0.6741465285769084\n",
      "At round 178 training loss: 1.7440070370961647\n",
      "At round 178 mean test accuracy: 0.6698382492863939 mean train accuracy: 0.7012183692596063 mean train loss: 1.1409562774432822                     number of test client: 764\n",
      "The client-group discrepancy are: [25.90551312  0.         18.50839629 24.66462846 34.80758921 36.16486256]\n",
      "Begin group  1 training\n"
     ]
    },
    {
     "name": "stderr",
     "output_type": "stream",
     "text": [
      "Epoch:   5%|▌         | 1/20 [00:00<00:02,  8.10it/s] "
     ]
    },
    {
     "name": "stdout",
     "output_type": "stream",
     "text": [
      "Begin group  2 training\n"
     ]
    },
    {
     "name": "stderr",
     "output_type": "stream",
     "text": [
      "Epoch:   5%|▌         | 1/20 [00:00<00:02,  6.43it/s] "
     ]
    },
    {
     "name": "stdout",
     "output_type": "stream",
     "text": [
      "Begin group  3 training\n"
     ]
    },
    {
     "name": "stderr",
     "output_type": "stream",
     "text": [
      "Epoch:   0%|          | 0/20 [00:00<?, ?it/s]         "
     ]
    },
    {
     "name": "stdout",
     "output_type": "stream",
     "text": [
      "Begin group  4 training\n"
     ]
    },
    {
     "name": "stderr",
     "output_type": "stream",
     "text": [
      "                                                      \r"
     ]
    },
    {
     "name": "stdout",
     "output_type": "stream",
     "text": [
      "Training groups takes 58.69292187690735s seconds\n",
      "Scheduling clients takes 3.0446085929870605s seconds\n",
      "Group 0 is empty.\n",
      "Group 1, clients ['michellecpa', 'LadyParadis', 'authenticstyle', '18percentgrey']\n",
      "Group 2, clients ['krapposelli', 'yolie81', 'YvetteObeney', 'gracieh89', 'jesslina', 'thalovebug', 'Rawrrgasmic', '__DalekCaan__', 'SarahRoseMusic', 'Rkoluvsdiana', 'PaulHarriott', 'adriwadri']\n",
      "Group 3, clients ['BeantownCutie', 'atkailash', 'Cass_fryer']\n",
      "Group 4, clients ['LittleLiverbird']\n"
     ]
    },
    {
     "name": "stderr",
     "output_type": "stream",
     "text": [
      "Epoch:   5%|▌         | 1/20 [00:00<00:02,  8.46it/s]"
     ]
    },
    {
     "name": "stdout",
     "output_type": "stream",
     "text": [
      "Group 0\n",
      "At round 179 accuracy: 0.5168884339815762\n",
      "At round 179 training accuracy: 0.5439307921059746\n",
      "At round 179 training loss: 1.9468903909870414\n",
      "Group 1\n",
      "At round 179 accuracy: 0.8712776176753122\n",
      "At round 179 training accuracy: 0.8887490561288699\n",
      "At round 179 training loss: 0.7380785475360027\n",
      "Group 2\n",
      "At round 179 accuracy: 0.6755521706016756\n",
      "At round 179 training accuracy: 0.7118180605575564\n",
      "At round 179 training loss: 0.8286951496422974\n",
      "Group 3\n",
      "At round 179 accuracy: 0.6772727272727272\n",
      "At round 179 training accuracy: 0.7156116135173727\n",
      "At round 179 training loss: 1.3933337974162159\n",
      "Group 4\n",
      "At round 179 accuracy: 0.6713545521835678\n",
      "At round 179 training accuracy: 0.676779463243874\n",
      "At round 179 training loss: 1.7962585172017451\n",
      "At round 179 mean test accuracy: 0.6808991436726927 mean train accuracy: 0.7092471102780381 mean train loss: 1.1762117654343183                     number of test client: 764\n",
      "The client-group discrepancy are: [24.97114026  0.         37.49668331 22.21814421  9.57511556 54.09299482]\n",
      "Begin group  1 training\n"
     ]
    },
    {
     "name": "stderr",
     "output_type": "stream",
     "text": [
      "Epoch:   0%|          | 0/20 [00:00<?, ?it/s]         "
     ]
    },
    {
     "name": "stdout",
     "output_type": "stream",
     "text": [
      "Begin group  2 training\n"
     ]
    },
    {
     "name": "stderr",
     "output_type": "stream",
     "text": [
      "Epoch:   0%|          | 0/20 [00:00<?, ?it/s]         "
     ]
    },
    {
     "name": "stdout",
     "output_type": "stream",
     "text": [
      "Begin group  3 training\n"
     ]
    },
    {
     "name": "stderr",
     "output_type": "stream",
     "text": [
      "Epoch:   0%|          | 0/20 [00:00<?, ?it/s]         "
     ]
    },
    {
     "name": "stdout",
     "output_type": "stream",
     "text": [
      "Begin group  4 training\n"
     ]
    },
    {
     "name": "stderr",
     "output_type": "stream",
     "text": [
      "                                                      \r"
     ]
    },
    {
     "name": "stdout",
     "output_type": "stream",
     "text": [
      "Training groups takes 62.26967191696167s seconds\n",
      "Scheduling clients takes 3.062551736831665s seconds\n",
      "Group 0 is empty.\n",
      "Group 1, clients ['Jinxie_G']\n",
      "Group 2, clients ['txcranberry', 'NKAirplay', 'Nikkiilyx', 'amilya', 'PaulDale67', 'DivaWonderGirl', 'I_Support_DemiL', 'TwistedHelen', 'Tracey_Mac', 'aerobic247', 'mrpower', 'ashleeadams', 'MacSheikh', 'aLeKnight', 'sheonpoint']\n",
      "Group 3, clients ['LiluYvett', 'TeeQ2', 'Nikie_D', 'lauzmur']\n",
      "Group 4 is empty.\n"
     ]
    },
    {
     "name": "stderr",
     "output_type": "stream",
     "text": [
      "\r",
      "Epoch:   0%|          | 0/20 [00:00<?, ?it/s]"
     ]
    },
    {
     "name": "stdout",
     "output_type": "stream",
     "text": [
      "Group 0\n",
      "At round 180 accuracy: 0.5177083333333333\n",
      "At round 180 training accuracy: 0.5441540577716644\n",
      "At round 180 training loss: 1.9423362202897534\n",
      "Group 1\n",
      "At round 180 accuracy: 0.8741529525653436\n",
      "At round 180 training accuracy: 0.8942161339421614\n",
      "At round 180 training loss: 0.6722112249881154\n",
      "Group 2\n",
      "At round 180 accuracy: 0.6742671009771987\n",
      "At round 180 training accuracy: 0.7087116725884984\n",
      "At round 180 training loss: 0.8097036698092119\n",
      "Group 3\n",
      "At round 180 accuracy: 0.7014652014652014\n",
      "At round 180 training accuracy: 0.7251560249639942\n",
      "At round 180 training loss: 1.4134356394259011\n",
      "Group 4\n",
      "At round 180 accuracy: 0.6794294294294294\n",
      "At round 180 training accuracy: 0.6766620635233774\n",
      "At round 180 training loss: 2.214351446946096\n",
      "At round 180 mean test accuracy: 0.6852997145575642 mean train accuracy: 0.7099343955014058 mean train loss: 1.222400672972036                     number of test client: 764\n",
      "The client-group discrepancy are: [28.61285137  0.         46.99153168 27.31146997 28.89836157  0.        ]\n",
      "Begin group  1 training\n"
     ]
    },
    {
     "name": "stderr",
     "output_type": "stream",
     "text": [
      "Epoch:   5%|▌         | 1/20 [00:00<00:02,  6.45it/s] "
     ]
    },
    {
     "name": "stdout",
     "output_type": "stream",
     "text": [
      "Begin group  2 training\n"
     ]
    },
    {
     "name": "stderr",
     "output_type": "stream",
     "text": [
      "Epoch:   5%|▌         | 1/20 [00:00<00:02,  8.79it/s] "
     ]
    },
    {
     "name": "stdout",
     "output_type": "stream",
     "text": [
      "Begin group  3 training\n"
     ]
    },
    {
     "name": "stderr",
     "output_type": "stream",
     "text": [
      "                                                      \r"
     ]
    },
    {
     "name": "stdout",
     "output_type": "stream",
     "text": [
      "Training groups takes 58.740941762924194s seconds\n",
      "Scheduling clients takes 3.1376571655273438s seconds\n",
      "Group 0, clients ['jamisloan']\n",
      "Group 1, clients ['twliciousness', 'nsane8', 'addieking']\n",
      "Group 2, clients ['queenbmakeup', 'ScottRhodie', 'tannwick', 'hanaames', 'NaythenCash', '_Slamma_', 'MCRmuffin', 'claudiamcfly', 'megspeaks', 'josieinthecity', 'gschan', 'caseysevenfold']\n",
      "Group 3, clients ['bexiclepop', 'katherinemarsh']\n",
      "Group 4, clients ['pensblogtweet', 'ciaobella50']\n"
     ]
    },
    {
     "name": "stderr",
     "output_type": "stream",
     "text": [
      "\r",
      "Epoch:   0%|          | 0/20 [00:00<?, ?it/s]"
     ]
    },
    {
     "name": "stdout",
     "output_type": "stream",
     "text": [
      "Group 0\n",
      "At round 181 accuracy: 0.5240641711229946\n",
      "At round 181 training accuracy: 0.5454802259887006\n",
      "At round 181 training loss: 1.9316768109405118\n",
      "Group 1\n",
      "At round 181 accuracy: 0.8798122065727699\n",
      "At round 181 training accuracy: 0.8976377952755905\n",
      "At round 181 training loss: 0.8191361856223555\n",
      "Group 2\n",
      "At round 181 accuracy: 0.6834407535944472\n",
      "At round 181 training accuracy: 0.7120630167306816\n",
      "At round 181 training loss: 0.7757226915457832\n",
      "Group 3\n",
      "At round 181 accuracy: 0.6827906976744186\n",
      "At round 181 training accuracy: 0.7033422786045377\n",
      "At round 181 training loss: 1.3903531109699245\n",
      "Group 4\n",
      "At round 181 accuracy: 0.682648401826484\n",
      "At round 181 training accuracy: 0.6803917649410354\n",
      "At round 181 training loss: 2.18499526392672\n",
      "At round 181 mean test accuracy: 0.6903716015671376 mean train accuracy: 0.7111360588767268 mean train loss: 1.2072713487767655                     number of test client: 765\n",
      "The client-group discrepancy are: [24.23405553 50.89421074 31.02565711 21.77802044  9.31599611 30.37084549]\n",
      "Begin group  0 training\n"
     ]
    },
    {
     "name": "stderr",
     "output_type": "stream",
     "text": [
      "Epoch:   5%|▌         | 1/20 [00:00<00:02,  6.55it/s] "
     ]
    },
    {
     "name": "stdout",
     "output_type": "stream",
     "text": [
      "Begin group  1 training\n"
     ]
    },
    {
     "name": "stderr",
     "output_type": "stream",
     "text": [
      "Epoch:   5%|▌         | 1/20 [00:00<00:02,  6.86it/s] "
     ]
    },
    {
     "name": "stdout",
     "output_type": "stream",
     "text": [
      "Begin group  2 training\n"
     ]
    },
    {
     "name": "stderr",
     "output_type": "stream",
     "text": [
      "Epoch:   5%|▌         | 1/20 [00:00<00:02,  6.91it/s] "
     ]
    },
    {
     "name": "stdout",
     "output_type": "stream",
     "text": [
      "Begin group  3 training\n"
     ]
    },
    {
     "name": "stderr",
     "output_type": "stream",
     "text": [
      "Epoch:   5%|▌         | 1/20 [00:00<00:02,  6.76it/s] "
     ]
    },
    {
     "name": "stdout",
     "output_type": "stream",
     "text": [
      "Begin group  4 training\n"
     ]
    },
    {
     "name": "stderr",
     "output_type": "stream",
     "text": [
      "                                                      \r"
     ]
    },
    {
     "name": "stdout",
     "output_type": "stream",
     "text": [
      "Training groups takes 69.44947218894958s seconds\n",
      "Scheduling clients takes 3.0542211532592773s seconds\n",
      "Group 0, clients ['thepete', 'eboogiee', 'xoCAZZA']\n",
      "Group 1, clients ['markdavidson', 'Joy_Inc']\n",
      "Group 2, clients ['scodal', 'hortovanyi', 'peggyrossmanith', 'paigeebaby', 'winniedepoohi', 'zenjar', 'schaeferj89', 'funkybrownchick', 'makeupbylinvia', 'amalinaaa', 'SarcasticFairy']\n",
      "Group 3 is empty.\n",
      "Group 4, clients ['hemapreya', 'tweeteradder3', 'majastevanovich', 'toosweet4rnr']\n"
     ]
    },
    {
     "name": "stderr",
     "output_type": "stream",
     "text": [
      "\r",
      "Epoch:   0%|          | 0/20 [00:00<?, ?it/s]"
     ]
    },
    {
     "name": "stdout",
     "output_type": "stream",
     "text": [
      "Group 0\n",
      "At round 182 accuracy: 0.2939330543933054\n",
      "At round 182 training accuracy: 0.3102401324868893\n",
      "At round 182 training loss: 1.6297072428493269\n",
      "Group 1\n",
      "At round 182 accuracy: 0.8813559322033898\n",
      "At round 182 training accuracy: 0.8998430962343096\n",
      "At round 182 training loss: 0.8275085647339274\n",
      "Group 2\n",
      "At round 182 accuracy: 0.6821419798575289\n",
      "At round 182 training accuracy: 0.7194578896418199\n",
      "At round 182 training loss: 0.7446808449681169\n",
      "Group 3\n",
      "At round 182 accuracy: 0.7023255813953488\n",
      "At round 182 training accuracy: 0.7262747011466212\n",
      "At round 182 training loss: 1.5430920243895563\n",
      "Group 4\n",
      "At round 182 accuracy: 0.6820940819423369\n",
      "At round 182 training accuracy: 0.6854357341822523\n",
      "At round 182 training loss: 1.8964482344885443\n",
      "At round 182 mean test accuracy: 0.6643713641220468 mean train accuracy: 0.6902734898805626 mean train loss: 1.1371295980191112                     number of test client: 765\n",
      "The client-group discrepancy are: [38.37464261 49.53863148  5.14226139 36.16862911  0.         52.6843787 ]\n",
      "Begin group  0 training\n"
     ]
    },
    {
     "name": "stderr",
     "output_type": "stream",
     "text": [
      "Epoch:   0%|          | 0/20 [00:00<?, ?it/s]         "
     ]
    },
    {
     "name": "stdout",
     "output_type": "stream",
     "text": [
      "Begin group  1 training\n"
     ]
    },
    {
     "name": "stderr",
     "output_type": "stream",
     "text": [
      "Epoch:   5%|▌         | 1/20 [00:00<00:03,  5.59it/s] "
     ]
    },
    {
     "name": "stdout",
     "output_type": "stream",
     "text": [
      "Begin group  2 training\n"
     ]
    },
    {
     "name": "stderr",
     "output_type": "stream",
     "text": [
      "Epoch:   5%|▌         | 1/20 [00:00<00:02,  8.96it/s] "
     ]
    },
    {
     "name": "stdout",
     "output_type": "stream",
     "text": [
      "Begin group  4 training\n"
     ]
    },
    {
     "name": "stderr",
     "output_type": "stream",
     "text": [
      "                                                      \r"
     ]
    },
    {
     "name": "stdout",
     "output_type": "stream",
     "text": [
      "Training groups takes 68.65051341056824s seconds\n",
      "Scheduling clients takes 2.96852707862854s seconds\n",
      "Group 0, clients ['TheEmmaHamilton', 'katementon', 'toastedfrenchie', 'ameym21', 'jaronmc', 'xoCAZZA', 'thisgoodlife']\n",
      "Group 1, clients ['ChineseLearn']\n",
      "Group 2, clients ['Jill88', 'markable', 'Bowl_the_Bunny', 'goatkeeper7', 'ThomasGudgeon']\n",
      "Group 3 is empty.\n",
      "Group 4, clients ['sarasmile13', 'AlexTrup', 'amilya', 'shanajaca', 'SarahSee95', 'KatyCaptivated', 'Aw_Re_ya_2_']\n"
     ]
    },
    {
     "name": "stderr",
     "output_type": "stream",
     "text": [
      "\r",
      "Epoch:   0%|          | 0/20 [00:00<?, ?it/s]"
     ]
    },
    {
     "name": "stdout",
     "output_type": "stream",
     "text": [
      "Group 0\n",
      "At round 183 accuracy: 0.33513513513513515\n",
      "At round 183 training accuracy: 0.3270440251572327\n",
      "At round 183 training loss: 1.0063097247605735\n",
      "Group 1\n",
      "At round 183 accuracy: 0.8821178821178821\n",
      "At round 183 training accuracy: 0.9006031995803829\n",
      "At round 183 training loss: 0.8163641077584934\n",
      "Group 2\n",
      "At round 183 accuracy: 0.6816043575142362\n",
      "At round 183 training accuracy: 0.7157168878480354\n",
      "At round 183 training loss: 0.831199676580698\n",
      "Group 3\n",
      "At round 183 accuracy: 0.704119850187266\n",
      "At round 183 training accuracy: 0.7263803680981595\n",
      "At round 183 training loss: 1.5418198395382179\n",
      "Group 4\n",
      "At round 183 accuracy: 0.7057553956834532\n",
      "At round 183 training accuracy: 0.7006969297419476\n",
      "At round 183 training loss: 1.567297339492411\n",
      "At round 183 mean test accuracy: 0.6742253353911908 mean train accuracy: 0.6941715782580222 mean train loss: 1.060709346367841                     number of test client: 765\n",
      "The client-group discrepancy are: [36.67575394 38.70455158 47.04894555 25.37650647  0.         41.23596282]\n",
      "Begin group  0 training\n"
     ]
    },
    {
     "name": "stderr",
     "output_type": "stream",
     "text": [
      "Epoch:   5%|▌         | 1/20 [00:00<00:02,  8.24it/s] "
     ]
    },
    {
     "name": "stdout",
     "output_type": "stream",
     "text": [
      "Begin group  1 training\n"
     ]
    },
    {
     "name": "stderr",
     "output_type": "stream",
     "text": [
      "Epoch:   5%|▌         | 1/20 [00:00<00:02,  8.52it/s] "
     ]
    },
    {
     "name": "stdout",
     "output_type": "stream",
     "text": [
      "Begin group  2 training\n"
     ]
    },
    {
     "name": "stderr",
     "output_type": "stream",
     "text": [
      "Epoch:   5%|▌         | 1/20 [00:00<00:02,  6.39it/s] "
     ]
    },
    {
     "name": "stdout",
     "output_type": "stream",
     "text": [
      "Begin group  4 training\n"
     ]
    },
    {
     "name": "stderr",
     "output_type": "stream",
     "text": [
      "                                                      \r"
     ]
    },
    {
     "name": "stdout",
     "output_type": "stream",
     "text": [
      "Training groups takes 66.16055798530579s seconds\n",
      "Scheduling clients takes 3.0898172855377197s seconds\n",
      "Group 0, clients ['robcthegeek', 'xohanna', 'enked', 'hanaames', 'VIBEAUTY', 'chyeahitsalicia', 'Christyxcore', 'xoCAZZA', 'mossyrants']\n",
      "Group 1, clients ['petehopkins']\n",
      "Group 2, clients ['IdolFanatic', 'sharonhayes', 'nikkimaltby', 'MelFresh27', 'Bowl_the_Bunny', 'Broooooke_', 'Nikkers', 'IzzySc']\n",
      "Group 3 is empty.\n",
      "Group 4, clients ['shellrawlins', 'dopeydoo']\n"
     ]
    },
    {
     "name": "stderr",
     "output_type": "stream",
     "text": [
      "Epoch:   5%|▌         | 1/20 [00:00<00:02,  8.47it/s]"
     ]
    },
    {
     "name": "stdout",
     "output_type": "stream",
     "text": [
      "Group 0\n",
      "At round 184 accuracy: 0.43597883597883597\n",
      "At round 184 training accuracy: 0.45385694249649366\n",
      "At round 184 training loss: 1.0439073519068045\n",
      "Group 1\n",
      "At round 184 accuracy: 0.8821178821178821\n",
      "At round 184 training accuracy: 0.9006031995803829\n",
      "At round 184 training loss: 0.8287831650631227\n",
      "Group 2\n",
      "At round 184 accuracy: 0.6814314314314315\n",
      "At round 184 training accuracy: 0.7108481262327416\n",
      "At round 184 training loss: 0.8192476862788024\n",
      "Group 3\n",
      "At round 184 accuracy: 0.704119850187266\n",
      "At round 184 training accuracy: 0.7263803680981595\n",
      "At round 184 training loss: 1.5418198395382179\n",
      "Group 4\n",
      "At round 184 accuracy: 0.6956829440905874\n",
      "At round 184 training accuracy: 0.7031828275351591\n",
      "At round 184 training loss: 1.7609815026055156\n",
      "At round 184 mean test accuracy: 0.6830108037516325 mean train accuracy: 0.7055228116131849 mean train loss: 1.0958835286254553                     number of test client: 765\n",
      "The client-group discrepancy are: [25.81322297 42.37537075  8.61064723  8.24522294  0.         30.15684599]\n",
      "Begin group  0 training\n"
     ]
    },
    {
     "name": "stderr",
     "output_type": "stream",
     "text": [
      "Epoch:   5%|▌         | 1/20 [00:00<00:02,  6.99it/s] "
     ]
    },
    {
     "name": "stdout",
     "output_type": "stream",
     "text": [
      "Begin group  1 training\n"
     ]
    },
    {
     "name": "stderr",
     "output_type": "stream",
     "text": [
      "Epoch:   5%|▌         | 1/20 [00:00<00:02,  6.67it/s] "
     ]
    },
    {
     "name": "stdout",
     "output_type": "stream",
     "text": [
      "Begin group  2 training\n"
     ]
    },
    {
     "name": "stderr",
     "output_type": "stream",
     "text": [
      "Epoch:   0%|          | 0/20 [00:00<?, ?it/s]         "
     ]
    },
    {
     "name": "stdout",
     "output_type": "stream",
     "text": [
      "Begin group  4 training\n"
     ]
    },
    {
     "name": "stderr",
     "output_type": "stream",
     "text": [
      "                                                      \r"
     ]
    },
    {
     "name": "stdout",
     "output_type": "stream",
     "text": [
      "Training groups takes 74.24574136734009s seconds\n",
      "Scheduling clients takes 3.098546028137207s seconds\n",
      "Group 0, clients ['krystinascott', 'Vibhy', 'AshyJonas', 'krapposelli', 'xDirtyBurdx', 'serinurshira']\n",
      "Group 1, clients ['brampitoyo', 'DNiCESEOUL', 'SusanCosmos']\n",
      "Group 2, clients ['brinshannara', 'cavorting', 'caldjr', 'Sazchik', '_MsWhite', 'Kat77', 'gschan', 'minxkitty']\n",
      "Group 3, clients ['diiilxia', 'I_enigma']\n",
      "Group 4, clients ['loving_my_DEW']\n"
     ]
    },
    {
     "name": "stderr",
     "output_type": "stream",
     "text": [
      "\r",
      "Epoch:   0%|          | 0/20 [00:00<?, ?it/s]"
     ]
    },
    {
     "name": "stdout",
     "output_type": "stream",
     "text": [
      "Group 0\n",
      "At round 185 accuracy: 0.3856998992950655\n",
      "At round 185 training accuracy: 0.4330226364846871\n",
      "At round 185 training loss: 1.4755148970652199\n",
      "Group 1\n",
      "At round 185 accuracy: 0.8821178821178821\n",
      "At round 185 training accuracy: 0.9006031995803829\n",
      "At round 185 training loss: 0.8788454785909136\n",
      "Group 2\n",
      "At round 185 accuracy: 0.6928499496475328\n",
      "At round 185 training accuracy: 0.7198438430490306\n",
      "At round 185 training loss: 1.0321133817984725\n",
      "Group 3\n",
      "At round 185 accuracy: 0.7024952015355086\n",
      "At round 185 training accuracy: 0.7264720684448918\n",
      "At round 185 training loss: 1.5429266203473972\n",
      "Group 4\n",
      "At round 185 accuracy: 0.6911660777385159\n",
      "At round 185 training accuracy: 0.6932742054693274\n",
      "At round 185 training loss: 1.5571721492396118\n",
      "At round 185 mean test accuracy: 0.6800427401163481 mean train accuracy: 0.7040883150902797 mean train loss: 1.217729499124106                     number of test client: 765\n",
      "The client-group discrepancy are: [30.99282413 52.16451818  5.41601474 25.51767128 14.16952936 58.14090027]\n",
      "Begin group  0 training\n"
     ]
    },
    {
     "name": "stderr",
     "output_type": "stream",
     "text": [
      "Epoch:   0%|          | 0/20 [00:00<?, ?it/s]         "
     ]
    },
    {
     "name": "stdout",
     "output_type": "stream",
     "text": [
      "Begin group  1 training\n"
     ]
    },
    {
     "name": "stderr",
     "output_type": "stream",
     "text": [
      "Epoch:   5%|▌         | 1/20 [00:00<00:02,  9.08it/s] "
     ]
    },
    {
     "name": "stdout",
     "output_type": "stream",
     "text": [
      "Begin group  2 training\n"
     ]
    },
    {
     "name": "stderr",
     "output_type": "stream",
     "text": [
      "Epoch:   0%|          | 0/20 [00:00<?, ?it/s]         "
     ]
    },
    {
     "name": "stdout",
     "output_type": "stream",
     "text": [
      "Begin group  3 training\n"
     ]
    },
    {
     "name": "stderr",
     "output_type": "stream",
     "text": [
      "Epoch:   5%|▌         | 1/20 [00:00<00:02,  6.68it/s] "
     ]
    },
    {
     "name": "stdout",
     "output_type": "stream",
     "text": [
      "Begin group  4 training\n"
     ]
    },
    {
     "name": "stderr",
     "output_type": "stream",
     "text": [
      "                                                      \r"
     ]
    },
    {
     "name": "stdout",
     "output_type": "stream",
     "text": [
      "Training groups takes 66.51578688621521s seconds\n",
      "Scheduling clients takes 3.180758476257324s seconds\n",
      "Group 0, clients ['haselhurst', 'PinkTribble', 'Saffy']\n",
      "Group 1, clients ['Mrs_NickJ07', 'hopeinhell']\n",
      "Group 2, clients ['winniedepoohi', 'minxkitty', 'sarasmile13', 'Mirna023', 'charleneortiz']\n",
      "Group 3, clients ['emmao414']\n",
      "Group 4, clients ['kjerstia', 'PegasusAngel', 'jun6lee', 'briethehippo', 'VioletsCRUK', 'AClockworkToad', 'JamesHancox', 'MummaBear', 'Lil_Miss_Clumsy']\n"
     ]
    },
    {
     "name": "stderr",
     "output_type": "stream",
     "text": [
      "\r",
      "Epoch:   0%|          | 0/20 [00:00<?, ?it/s]"
     ]
    },
    {
     "name": "stdout",
     "output_type": "stream",
     "text": [
      "Group 0\n",
      "At round 186 accuracy: 0.42714570858283435\n",
      "At round 186 training accuracy: 0.4677036646453994\n",
      "At round 186 training loss: 1.192455769905213\n",
      "Group 1\n",
      "At round 186 accuracy: 0.886317907444668\n",
      "At round 186 training accuracy: 0.901769210456826\n",
      "At round 186 training loss: 0.9417066042884971\n",
      "Group 2\n",
      "At round 186 accuracy: 0.6728285641934667\n",
      "At round 186 training accuracy: 0.6958083832335329\n",
      "At round 186 training loss: 1.2310953122509751\n",
      "Group 3\n",
      "At round 186 accuracy: 0.6920821114369502\n",
      "At round 186 training accuracy: 0.7274358974358974\n",
      "At round 186 training loss: 1.869268704589325\n",
      "Group 4\n",
      "At round 186 accuracy: 0.5958762886597938\n",
      "At round 186 training accuracy: 0.6222782076660068\n",
      "At round 186 training loss: 0.7883942458126342\n",
      "At round 186 mean test accuracy: 0.6578416241244213 mean train accuracy: 0.6842548414257648 mean train loss: 1.1932467945458678                     number of test client: 765\n",
      "The client-group discrepancy are: [31.84974599 52.2696899   5.52290246 15.47510327  3.86655756 43.09977458]\n",
      "Begin group  0 training\n"
     ]
    },
    {
     "name": "stderr",
     "output_type": "stream",
     "text": [
      "Epoch:   5%|▌         | 1/20 [00:00<00:03,  6.30it/s] "
     ]
    },
    {
     "name": "stdout",
     "output_type": "stream",
     "text": [
      "Begin group  1 training\n"
     ]
    },
    {
     "name": "stderr",
     "output_type": "stream",
     "text": [
      "Epoch:   5%|▌         | 1/20 [00:00<00:02,  9.03it/s] "
     ]
    },
    {
     "name": "stdout",
     "output_type": "stream",
     "text": [
      "Begin group  2 training\n"
     ]
    },
    {
     "name": "stderr",
     "output_type": "stream",
     "text": [
      "Epoch:   5%|▌         | 1/20 [00:00<00:02,  8.65it/s] "
     ]
    },
    {
     "name": "stdout",
     "output_type": "stream",
     "text": [
      "Begin group  3 training\n"
     ]
    },
    {
     "name": "stderr",
     "output_type": "stream",
     "text": [
      "Epoch:   5%|▌         | 1/20 [00:00<00:02,  6.49it/s] "
     ]
    },
    {
     "name": "stdout",
     "output_type": "stream",
     "text": [
      "Begin group  4 training\n"
     ]
    },
    {
     "name": "stderr",
     "output_type": "stream",
     "text": [
      "                                                      \r"
     ]
    },
    {
     "name": "stdout",
     "output_type": "stream",
     "text": [
      "Training groups takes 71.81852269172668s seconds\n",
      "Scheduling clients takes 3.1603856086730957s seconds\n",
      "Group 0, clients ['rkb09', 'ashleeadams', 'webmaster_paul', 'elenarr', 'gerrymoth']\n",
      "Group 1, clients ['hopeinhell', 'TinchenFFM']\n",
      "Group 2, clients ['Buildabear96', 'wisdompathart', 'iamgaberosales', 'anambanana', 'hanaames', 'CynthiaY29', 'YvetteObeney', 'claudiamcfly', 'LiverpoolFan74']\n",
      "Group 3 is empty.\n",
      "Group 4, clients ['itsJohno', 'ctham', 'StephanieEllen', 'loving_my_DEW']\n"
     ]
    },
    {
     "name": "stderr",
     "output_type": "stream",
     "text": [
      "Epoch:   5%|▌         | 1/20 [00:00<00:02,  8.75it/s]"
     ]
    },
    {
     "name": "stdout",
     "output_type": "stream",
     "text": [
      "Group 0\n",
      "At round 187 accuracy: 0.41295938104448743\n",
      "At round 187 training accuracy: 0.4255427841634738\n",
      "At round 187 training loss: 2.449380769400761\n",
      "Group 1\n",
      "At round 187 accuracy: 0.8878968253968254\n",
      "At round 187 training accuracy: 0.9034608378870674\n",
      "At round 187 training loss: 0.8862750548201689\n",
      "Group 2\n",
      "At round 187 accuracy: 0.6681023562199139\n",
      "At round 187 training accuracy: 0.7004995004995005\n",
      "At round 187 training loss: 1.125609537010502\n",
      "Group 3\n",
      "At round 187 accuracy: 0.7004926108374384\n",
      "At round 187 training accuracy: 0.7257231404958677\n",
      "At round 187 training loss: 1.9434522107262449\n",
      "Group 4\n",
      "At round 187 accuracy: 0.6906272022551092\n",
      "At round 187 training accuracy: 0.7050903725562523\n",
      "At round 187 training loss: 1.1844692853547711\n",
      "At round 187 mean test accuracy: 0.670782381574261 mean train accuracy: 0.6950759347615929 mean train loss: 1.3672481794747298                     number of test client: 765\n",
      "The client-group discrepancy are: [24.83575909 51.04887164 23.82332524 16.88525539  0.         10.46421866]\n",
      "Begin group  0 training\n"
     ]
    },
    {
     "name": "stderr",
     "output_type": "stream",
     "text": [
      "Epoch:   5%|▌         | 1/20 [00:00<00:02,  8.77it/s] "
     ]
    },
    {
     "name": "stdout",
     "output_type": "stream",
     "text": [
      "Begin group  1 training\n"
     ]
    },
    {
     "name": "stderr",
     "output_type": "stream",
     "text": [
      "Epoch:   5%|▌         | 1/20 [00:00<00:02,  6.46it/s] "
     ]
    },
    {
     "name": "stdout",
     "output_type": "stream",
     "text": [
      "Begin group  2 training\n"
     ]
    },
    {
     "name": "stderr",
     "output_type": "stream",
     "text": [
      "Epoch:   5%|▌         | 1/20 [00:00<00:03,  6.26it/s] "
     ]
    },
    {
     "name": "stdout",
     "output_type": "stream",
     "text": [
      "Begin group  4 training\n"
     ]
    },
    {
     "name": "stderr",
     "output_type": "stream",
     "text": [
      "                                                      \r"
     ]
    },
    {
     "name": "stdout",
     "output_type": "stream",
     "text": [
      "Training groups takes 64.96919918060303s seconds\n",
      "Scheduling clients takes 3.128464460372925s seconds\n",
      "Group 0, clients ['donniesgirl01', 'antzpantz', 'f2point4', 'thalovebug', 'TessMorris', 'DivasMistress', 'Andjelija', 'CannonGod']\n",
      "Group 1, clients ['pagan_spell', 'Sheamus', 'Bizcuits']\n",
      "Group 2, clients ['makeupbylinvia', 'crazymitchell', 'LittlestarRed', 'MiraCraigFan', 'youngnik718', 'ElementsOfJazz', 'SpiderxBear', 'mr_billiam']\n",
      "Group 3 is empty.\n",
      "Group 4, clients ['marianaguidil']\n"
     ]
    },
    {
     "name": "stderr",
     "output_type": "stream",
     "text": [
      "Epoch:   5%|▌         | 1/20 [00:00<00:01,  9.64it/s]"
     ]
    },
    {
     "name": "stdout",
     "output_type": "stream",
     "text": [
      "Group 0\n",
      "At round 188 accuracy: 0.4636118598382749\n",
      "At round 188 training accuracy: 0.4780441490624258\n",
      "At round 188 training loss: 1.5217046771342642\n",
      "Group 1\n",
      "At round 188 accuracy: 0.8920510304219823\n",
      "At round 188 training accuracy: 0.9063786008230452\n",
      "At round 188 training loss: 0.8431379308322328\n",
      "Group 2\n",
      "At round 188 accuracy: 0.6724315952503872\n",
      "At round 188 training accuracy: 0.7045408267155365\n",
      "At round 188 training loss: 0.9740840600603614\n",
      "Group 3\n",
      "At round 188 accuracy: 0.7003968253968254\n",
      "At round 188 training accuracy: 0.7260202755393813\n",
      "At round 188 training loss: 1.9407024741284788\n",
      "Group 4\n",
      "At round 188 accuracy: 0.6643009226401704\n",
      "At round 188 training accuracy: 0.6825102116598589\n",
      "At round 188 training loss: 1.2181926588356673\n",
      "At round 188 mean test accuracy: 0.6733942775733112 mean train accuracy: 0.6981320360495213 mean train loss: 1.1871179285612263                     number of test client: 765\n",
      "The client-group discrepancy are: [31.64968442 52.2457997  22.77726269 17.21029992  0.          9.01310339]\n",
      "Begin group  0 training\n"
     ]
    },
    {
     "name": "stderr",
     "output_type": "stream",
     "text": [
      "Epoch:   0%|          | 0/20 [00:00<?, ?it/s]         "
     ]
    },
    {
     "name": "stdout",
     "output_type": "stream",
     "text": [
      "Begin group  1 training\n"
     ]
    },
    {
     "name": "stderr",
     "output_type": "stream",
     "text": [
      "Epoch:   5%|▌         | 1/20 [00:00<00:02,  6.85it/s] "
     ]
    },
    {
     "name": "stdout",
     "output_type": "stream",
     "text": [
      "Begin group  2 training\n"
     ]
    },
    {
     "name": "stderr",
     "output_type": "stream",
     "text": [
      "Epoch:   0%|          | 0/20 [00:00<?, ?it/s]         "
     ]
    },
    {
     "name": "stdout",
     "output_type": "stream",
     "text": [
      "Begin group  4 training\n"
     ]
    },
    {
     "name": "stderr",
     "output_type": "stream",
     "text": [
      "                                                      \r"
     ]
    },
    {
     "name": "stdout",
     "output_type": "stream",
     "text": [
      "Training groups takes 69.19246363639832s seconds\n",
      "Scheduling clients takes 3.1502432823181152s seconds\n",
      "Group 0, clients ['Christiegarcia', 'valenbfm', 'thepete', 'beingnobody', 'eboogiee', 'pimpyouriphone', 'kellygirl27', 'KJL912']\n",
      "Group 1, clients ['PaulCarterJr', '18percentgrey', 'mOFrIz']\n",
      "Group 2, clients ['stratosphear', 'wolfchild59', 'neurogirl07', 'feelme', 'suddentwilight', 'gabysslave', 'wonderpetunia', 'life_afairytale']\n",
      "Group 3, clients ['SexyBeach']\n",
      "Group 4 is empty.\n"
     ]
    },
    {
     "name": "stderr",
     "output_type": "stream",
     "text": [
      "\r",
      "Epoch:   0%|          | 0/20 [00:00<?, ?it/s]"
     ]
    },
    {
     "name": "stdout",
     "output_type": "stream",
     "text": [
      "Group 0\n",
      "At round 189 accuracy: 0.6387208297320657\n",
      "At round 189 training accuracy: 0.6417161113646737\n",
      "At round 189 training loss: 0.9151672195908429\n",
      "Group 1\n",
      "At round 189 accuracy: 0.8940137389597644\n",
      "At round 189 training accuracy: 0.9096989966555183\n",
      "At round 189 training loss: 0.7744423058765966\n",
      "Group 2\n",
      "At round 189 accuracy: 0.694062743064558\n",
      "At round 189 training accuracy: 0.720949263502455\n",
      "At round 189 training loss: 0.9024884344787191\n",
      "Group 3\n",
      "At round 189 accuracy: 0.701417004048583\n",
      "At round 189 training accuracy: 0.7259475218658892\n",
      "At round 189 training loss: 1.9415939412969265\n",
      "Group 4\n",
      "At round 189 accuracy: 0.543509272467903\n",
      "At round 189 training accuracy: 0.5711620966237643\n",
      "At round 189 training loss: 1.6795080387334234\n",
      "At round 189 mean test accuracy: 0.6864537575685623 mean train accuracy: 0.7085477281940936 mean train loss: 1.140864032761048                     number of test client: 765\n",
      "The client-group discrepancy are: [27.25058914 40.84116086 19.73398052 19.1686103   5.73167183  0.        ]\n",
      "Begin group  0 training\n"
     ]
    },
    {
     "name": "stderr",
     "output_type": "stream",
     "text": [
      "Epoch:   5%|▌         | 1/20 [00:00<00:02,  9.26it/s] "
     ]
    },
    {
     "name": "stdout",
     "output_type": "stream",
     "text": [
      "Begin group  1 training\n"
     ]
    },
    {
     "name": "stderr",
     "output_type": "stream",
     "text": [
      "Epoch:   5%|▌         | 1/20 [00:00<00:02,  8.58it/s] "
     ]
    },
    {
     "name": "stdout",
     "output_type": "stream",
     "text": [
      "Begin group  2 training\n"
     ]
    },
    {
     "name": "stderr",
     "output_type": "stream",
     "text": [
      "Epoch:   5%|▌         | 1/20 [00:00<00:03,  6.23it/s] "
     ]
    },
    {
     "name": "stdout",
     "output_type": "stream",
     "text": [
      "Begin group  3 training\n"
     ]
    },
    {
     "name": "stderr",
     "output_type": "stream",
     "text": [
      "                                                      \r"
     ]
    },
    {
     "name": "stdout",
     "output_type": "stream",
     "text": [
      "Training groups takes 56.66728758811951s seconds\n",
      "Scheduling clients takes 3.194432258605957s seconds\n",
      "Group 0, clients ['happylovesChuck', 'jiriteach', 'flapjacks9702', 'andrewpycroft', 'Tisyonk', 'HOTTVampChick', 'LisaHopeCyrus']\n",
      "Group 1 is empty.\n",
      "Group 2, clients ['stevegarufi', 'lauralovesart', 'neszlifeasmcrmy', 'Bia_Loves_NKOTB', 'taylormcfly', 'RealWorldCara', 'Buildabear96', 'GinaLaGuardia', 'ddaly9']\n",
      "Group 3, clients ['mariaeduardab']\n",
      "Group 4, clients ['tweetpet', 'KateEdwards', 'tweeteradder1']\n"
     ]
    },
    {
     "name": "stderr",
     "output_type": "stream",
     "text": [
      "\r",
      "Epoch:   0%|          | 0/20 [00:00<?, ?it/s]"
     ]
    },
    {
     "name": "stdout",
     "output_type": "stream",
     "text": [
      "Group 0\n",
      "At round 190 accuracy: 0.6485148514851485\n",
      "At round 190 training accuracy: 0.6632541929862775\n",
      "At round 190 training loss: 0.965028918226335\n",
      "Group 1\n",
      "At round 190 accuracy: 0.8941641938674579\n",
      "At round 190 training accuracy: 0.9125810635538262\n",
      "At round 190 training loss: 0.7368818160712334\n",
      "Group 2\n",
      "At round 190 accuracy: 0.6901150627615062\n",
      "At round 190 training accuracy: 0.7207622454595487\n",
      "At round 190 training loss: 0.9326740224151444\n",
      "Group 3\n",
      "At round 190 accuracy: 0.7416576964477933\n",
      "At round 190 training accuracy: 0.7763009049773756\n",
      "At round 190 training loss: 1.701322255060474\n",
      "Group 4\n",
      "At round 190 accuracy: 0.5687629578438148\n",
      "At round 190 training accuracy: 0.6011894034961254\n",
      "At round 190 training loss: 1.5508794854519683\n",
      "At round 190 mean test accuracy: 0.6934583877478333 mean train accuracy: 0.7210216110019646 mean train loss: 1.1055035554627828                     number of test client: 765\n",
      "The client-group discrepancy are: [41.49968016 47.05243493  0.         32.43820493 51.09486318 52.52928369]\n",
      "Begin group  0 training\n"
     ]
    },
    {
     "name": "stderr",
     "output_type": "stream",
     "text": [
      "Epoch:   0%|          | 0/20 [00:00<?, ?it/s]         "
     ]
    },
    {
     "name": "stdout",
     "output_type": "stream",
     "text": [
      "Begin group  2 training\n"
     ]
    },
    {
     "name": "stderr",
     "output_type": "stream",
     "text": [
      "Epoch:   5%|▌         | 1/20 [00:00<00:02,  6.44it/s] "
     ]
    },
    {
     "name": "stdout",
     "output_type": "stream",
     "text": [
      "Begin group  3 training\n"
     ]
    },
    {
     "name": "stderr",
     "output_type": "stream",
     "text": [
      "Epoch:   0%|          | 0/20 [00:00<?, ?it/s]         "
     ]
    },
    {
     "name": "stdout",
     "output_type": "stream",
     "text": [
      "Begin group  4 training\n"
     ]
    },
    {
     "name": "stderr",
     "output_type": "stream",
     "text": [
      "                                                      \r"
     ]
    },
    {
     "name": "stdout",
     "output_type": "stream",
     "text": [
      "Training groups takes 83.19626998901367s seconds\n",
      "Scheduling clients takes 3.052454710006714s seconds\n",
      "Group 0, clients ['_Alectrona_', 'AlyssaNoelleD', 'Jodasaur', 'brinshannara', 'kissmybleep', 'InTheLittleWood', 'an_other', 'lina_luka', 'esmeg']\n",
      "Group 1, clients ['19c816tf9227', 'TheBetterSexDoc']\n",
      "Group 2, clients ['life_afairytale', 'JamesHancox', 'Bruno108', 'neszlifeasmcrmy', 'JoshwaActon', 'iamgaberosales', 'dannybrown']\n",
      "Group 3, clients ['Caprica']\n",
      "Group 4, clients ['ZeenaBoBeena']\n"
     ]
    },
    {
     "name": "stderr",
     "output_type": "stream",
     "text": [
      "\r",
      "Epoch:   0%|          | 0/20 [00:00<?, ?it/s]"
     ]
    },
    {
     "name": "stdout",
     "output_type": "stream",
     "text": [
      "Group 0\n",
      "At round 191 accuracy: 0.6419077404222049\n",
      "At round 191 training accuracy: 0.6620618556701031\n",
      "At round 191 training loss: 0.8978299921121179\n",
      "Group 1\n",
      "At round 191 accuracy: 0.8959365708622399\n",
      "At round 191 training accuracy: 0.9157347204161248\n",
      "At round 191 training loss: 0.7074022362321722\n",
      "Group 2\n",
      "At round 191 accuracy: 0.6889473684210526\n",
      "At round 191 training accuracy: 0.7259382357014263\n",
      "At round 191 training loss: 0.8945521457759714\n",
      "Group 3\n",
      "At round 191 accuracy: 0.7429805615550756\n",
      "At round 191 training accuracy: 0.7780294450736127\n",
      "At round 191 training loss: 1.9104844324633523\n",
      "Group 4\n",
      "At round 191 accuracy: 0.5482054890921886\n",
      "At round 191 training accuracy: 0.573999265515975\n",
      "At round 191 training loss: 1.9514155231255494\n",
      "At round 191 mean test accuracy: 0.6887966804979253 mean train accuracy: 0.7189786704032384 mean train loss: 1.16359330853979                     number of test client: 766\n",
      "The client-group discrepancy are: [38.39505953 52.37739188 28.16217077 19.44594549 46.8219464  57.23675731]\n",
      "Begin group  0 training\n"
     ]
    },
    {
     "name": "stderr",
     "output_type": "stream",
     "text": [
      "Epoch:   5%|▌         | 1/20 [00:00<00:03,  6.27it/s] "
     ]
    },
    {
     "name": "stdout",
     "output_type": "stream",
     "text": [
      "Begin group  1 training\n"
     ]
    },
    {
     "name": "stderr",
     "output_type": "stream",
     "text": [
      "Epoch:   0%|          | 0/20 [00:00<?, ?it/s]         "
     ]
    },
    {
     "name": "stdout",
     "output_type": "stream",
     "text": [
      "Begin group  2 training\n"
     ]
    },
    {
     "name": "stderr",
     "output_type": "stream",
     "text": [
      "Epoch:   0%|          | 0/20 [00:00<?, ?it/s]         "
     ]
    },
    {
     "name": "stdout",
     "output_type": "stream",
     "text": [
      "Begin group  3 training\n"
     ]
    },
    {
     "name": "stderr",
     "output_type": "stream",
     "text": [
      "Epoch:   5%|▌         | 1/20 [00:00<00:02,  8.33it/s] "
     ]
    },
    {
     "name": "stdout",
     "output_type": "stream",
     "text": [
      "Begin group  4 training\n"
     ]
    },
    {
     "name": "stderr",
     "output_type": "stream",
     "text": [
      "                                                      \r"
     ]
    },
    {
     "name": "stdout",
     "output_type": "stream",
     "text": [
      "Training groups takes 63.20073199272156s seconds\n",
      "Scheduling clients takes 3.0029091835021973s seconds\n",
      "Group 0, clients ['HeatherShea', 'Andjelija', 'dudeman718', 'thalovebug', 'vulcansmuse']\n",
      "Group 1, clients ['GlitzyGloss', 'DaPrbmChild', 'AshesOfLilies', 'Morrica', 'Mrs_NickJ07']\n",
      "Group 2, clients ['shawnlimtianjun', 'tweetieelovee', 'sarasmile13', 'BlueEyedGirl18', 'gazebow', 'christinawrites', 'minxkitty', 'dannybrown', 'danic27']\n",
      "Group 3 is empty.\n",
      "Group 4, clients ['ameym21']\n"
     ]
    },
    {
     "name": "stderr",
     "output_type": "stream",
     "text": [
      "\r",
      "Epoch:   0%|          | 0/20 [00:00<?, ?it/s]"
     ]
    },
    {
     "name": "stdout",
     "output_type": "stream",
     "text": [
      "Group 0\n",
      "At round 192 accuracy: 0.674745895230649\n",
      "At round 192 training accuracy: 0.6935450608372861\n",
      "At round 192 training loss: 0.9063584950273739\n",
      "Group 1\n",
      "At round 192 accuracy: 0.8975369458128079\n",
      "At round 192 training accuracy: 0.9172699069286453\n",
      "At round 192 training loss: 0.7032822992013296\n",
      "Group 2\n",
      "At round 192 accuracy: 0.6831264853446\n",
      "At round 192 training accuracy: 0.7181268672271243\n",
      "At round 192 training loss: 0.7912441346308291\n",
      "Group 3\n",
      "At round 192 accuracy: 0.7321814254859611\n",
      "At round 192 training accuracy: 0.7718006795016987\n",
      "At round 192 training loss: 1.2095044332693277\n",
      "Group 4\n",
      "At round 192 accuracy: 0.45448179271708683\n",
      "At round 192 training accuracy: 0.4595285949205189\n",
      "At round 192 training loss: 2.9554278383805914\n",
      "At round 192 mean test accuracy: 0.6743331357439242 mean train accuracy: 0.7002335357309668 mean train loss: 1.2128485543579088                     number of test client: 766\n",
      "The client-group discrepancy are: [22.41910323 33.62572773 11.35986685 18.62739533  0.         55.80753383]\n",
      "Begin group  0 training\n"
     ]
    },
    {
     "name": "stderr",
     "output_type": "stream",
     "text": [
      "Epoch:   0%|          | 0/20 [00:00<?, ?it/s]         "
     ]
    },
    {
     "name": "stdout",
     "output_type": "stream",
     "text": [
      "Begin group  1 training\n"
     ]
    },
    {
     "name": "stderr",
     "output_type": "stream",
     "text": [
      "Epoch:   5%|▌         | 1/20 [00:00<00:02,  9.29it/s] "
     ]
    },
    {
     "name": "stdout",
     "output_type": "stream",
     "text": [
      "Begin group  2 training\n"
     ]
    },
    {
     "name": "stderr",
     "output_type": "stream",
     "text": [
      "Epoch:   5%|▌         | 1/20 [00:00<00:02,  8.76it/s] "
     ]
    },
    {
     "name": "stdout",
     "output_type": "stream",
     "text": [
      "Begin group  4 training\n"
     ]
    },
    {
     "name": "stderr",
     "output_type": "stream",
     "text": [
      "                                                      \r"
     ]
    },
    {
     "name": "stdout",
     "output_type": "stream",
     "text": [
      "Training groups takes 56.00354027748108s seconds\n",
      "Scheduling clients takes 2.9836480617523193s seconds\n",
      "Group 0, clients ['Trace027', 'PaulHarriott', 'SarahSee95', 'queenbmakeup', 'ialejandro', 'CherylH77', 'nere13', 'ATsLady', 'vesula', 'PegasusAngel']\n",
      "Group 1, clients ['tweeteradder10', 'tweetles']\n",
      "Group 2, clients ['iLadySyncere', 'DominaCaffeine', 'keza34', 'imsoapee', 'IamMaxatHotSpot']\n",
      "Group 3, clients ['photokitty', 'WallTweet', 'IvanaE']\n",
      "Group 4 is empty.\n"
     ]
    },
    {
     "name": "stderr",
     "output_type": "stream",
     "text": [
      "\r",
      "Epoch:   0%|          | 0/20 [00:00<?, ?it/s]"
     ]
    },
    {
     "name": "stdout",
     "output_type": "stream",
     "text": [
      "Group 0\n",
      "At round 193 accuracy: 0.70473328324568\n",
      "At round 193 training accuracy: 0.7102081268582755\n",
      "At round 193 training loss: 0.9441128131681527\n",
      "Group 1\n",
      "At round 193 accuracy: 0.8967935871743486\n",
      "At round 193 training accuracy: 0.9175664998683171\n",
      "At round 193 training loss: 0.656479864178188\n",
      "Group 2\n",
      "At round 193 accuracy: 0.6722821795209266\n",
      "At round 193 training accuracy: 0.6973702422145329\n",
      "At round 193 training loss: 1.0857426363654485\n",
      "Group 3\n",
      "At round 193 accuracy: 0.7352941176470589\n",
      "At round 193 training accuracy: 0.7762857142857142\n",
      "At round 193 training loss: 1.1721148312239509\n",
      "Group 4\n",
      "At round 193 accuracy: 0.44132469402447805\n",
      "At round 193 training accuracy: 0.4715386060492204\n",
      "At round 193 training loss: 2.5898853988158717\n",
      "At round 193 mean test accuracy: 0.6727919383521044 mean train accuracy: 0.6965903783278842 mean train loss: 1.2714633713024865                     number of test client: 766\n",
      "The client-group discrepancy are: [37.77428113 44.54361952 48.19778742 36.27936508 10.7523424   0.        ]\n",
      "Begin group  0 training\n"
     ]
    },
    {
     "name": "stderr",
     "output_type": "stream",
     "text": [
      "Epoch:   0%|          | 0/20 [00:00<?, ?it/s]         "
     ]
    },
    {
     "name": "stdout",
     "output_type": "stream",
     "text": [
      "Begin group  1 training\n"
     ]
    },
    {
     "name": "stderr",
     "output_type": "stream",
     "text": [
      "Epoch:   5%|▌         | 1/20 [00:00<00:02,  8.88it/s] "
     ]
    },
    {
     "name": "stdout",
     "output_type": "stream",
     "text": [
      "Begin group  2 training\n"
     ]
    },
    {
     "name": "stderr",
     "output_type": "stream",
     "text": [
      "Epoch:   5%|▌         | 1/20 [00:00<00:02,  7.89it/s] "
     ]
    },
    {
     "name": "stdout",
     "output_type": "stream",
     "text": [
      "Begin group  3 training\n"
     ]
    },
    {
     "name": "stderr",
     "output_type": "stream",
     "text": [
      "                                                      \r"
     ]
    },
    {
     "name": "stdout",
     "output_type": "stream",
     "text": [
      "Training groups takes 74.44725370407104s seconds\n",
      "Scheduling clients takes 3.040536880493164s seconds\n",
      "Group 0, clients ['EricaLeigh777', 'NatalieGolding', 'Bruno108', 'Mum_of_Six', 'Mirna023', 'IzzySc', 'zarazombie', 'EmAllTimeLow', 'redoranda', 'sarahroters', 'TwistedHelen']\n",
      "Group 1, clients ['SusanCosmos', 'markdavidson']\n",
      "Group 2, clients ['shellykramer', 'neszlifeasmcrmy', 'mrshananto', 'Tittybird', 'DominaCaffeine']\n",
      "Group 3, clients ['emmao414']\n",
      "Group 4, clients ['erin82883']\n"
     ]
    },
    {
     "name": "stderr",
     "output_type": "stream",
     "text": [
      "\r",
      "Epoch:   0%|          | 0/20 [00:00<?, ?it/s]"
     ]
    },
    {
     "name": "stdout",
     "output_type": "stream",
     "text": [
      "Group 0\n",
      "At round 194 accuracy: 0.6678176795580111\n",
      "At round 194 training accuracy: 0.6792864943574809\n",
      "At round 194 training loss: 0.8891503517266769\n",
      "Group 1\n",
      "At round 194 accuracy: 0.9022403258655805\n",
      "At round 194 training accuracy: 0.9210385438972163\n",
      "At round 194 training loss: 0.6640736739697286\n",
      "Group 2\n",
      "At round 194 accuracy: 0.6639676113360324\n",
      "At round 194 training accuracy: 0.6832055650198751\n",
      "At round 194 training loss: 1.4400695656594957\n",
      "Group 3\n",
      "At round 194 accuracy: 0.747530186608123\n",
      "At round 194 training accuracy: 0.7836593785960875\n",
      "At round 194 training loss: 1.017174573077459\n",
      "Group 4\n",
      "At round 194 accuracy: 0.44348452123830095\n",
      "At round 194 training accuracy: 0.47415899267055067\n",
      "At round 194 training loss: 2.5743180953223153\n",
      "At round 194 mean test accuracy: 0.6650859513930053 mean train accuracy: 0.6864393585551922 mean train loss: 1.397705642863943                     number of test client: 766\n",
      "The client-group discrepancy are: [38.72578658 53.41659939  1.4424332  24.79898579  1.90891392 58.14442899]\n",
      "Begin group  0 training\n"
     ]
    },
    {
     "name": "stderr",
     "output_type": "stream",
     "text": [
      "Epoch:   5%|▌         | 1/20 [00:00<00:02,  8.60it/s] "
     ]
    },
    {
     "name": "stdout",
     "output_type": "stream",
     "text": [
      "Begin group  1 training\n"
     ]
    },
    {
     "name": "stderr",
     "output_type": "stream",
     "text": [
      "Epoch:   0%|          | 0/20 [00:00<?, ?it/s]         "
     ]
    },
    {
     "name": "stdout",
     "output_type": "stream",
     "text": [
      "Begin group  2 training\n"
     ]
    },
    {
     "name": "stderr",
     "output_type": "stream",
     "text": [
      "Epoch:   0%|          | 0/20 [00:00<?, ?it/s]         "
     ]
    },
    {
     "name": "stdout",
     "output_type": "stream",
     "text": [
      "Begin group  3 training\n"
     ]
    },
    {
     "name": "stderr",
     "output_type": "stream",
     "text": [
      "Epoch:   5%|▌         | 1/20 [00:00<00:02,  8.87it/s] "
     ]
    },
    {
     "name": "stdout",
     "output_type": "stream",
     "text": [
      "Begin group  4 training\n"
     ]
    },
    {
     "name": "stderr",
     "output_type": "stream",
     "text": [
      "                                                      \r"
     ]
    },
    {
     "name": "stdout",
     "output_type": "stream",
     "text": [
      "Training groups takes 72.15247058868408s seconds\n",
      "Scheduling clients takes 3.027017831802368s seconds\n",
      "Group 0, clients ['Rawrrgasmic', 'briethehippo', 'angel9293', 'meghornby', 'abcdefglynis', 'tifpez', 'Paiige__', 'chelseasms', 'yolie81', 'Speed2007']\n",
      "Group 1, clients ['justinjap', 'quinland']\n",
      "Group 2, clients ['UniqueGuitarist', 'TLM26', 'suddentwilight', 'CaraNinaMcfly', 'effingcards']\n",
      "Group 3, clients ['AdrienneNycole', 'iellie', 'NOTICEmeDAVID']\n",
      "Group 4 is empty.\n"
     ]
    },
    {
     "name": "stderr",
     "output_type": "stream",
     "text": [
      "Epoch:   5%|▌         | 1/20 [00:00<00:01,  9.78it/s]"
     ]
    },
    {
     "name": "stdout",
     "output_type": "stream",
     "text": [
      "Group 0\n",
      "At round 195 accuracy: 0.6789297658862876\n",
      "At round 195 training accuracy: 0.6852603706972639\n",
      "At round 195 training loss: 0.8394184774756168\n",
      "Group 1\n",
      "At round 195 accuracy: 0.9025380710659898\n",
      "At round 195 training accuracy: 0.9209401709401709\n",
      "At round 195 training loss: 0.7008547109826099\n",
      "Group 2\n",
      "At round 195 accuracy: 0.6698421339139902\n",
      "At round 195 training accuracy: 0.6839055793991416\n",
      "At round 195 training loss: 1.3942566822329936\n",
      "Group 3\n",
      "At round 195 accuracy: 0.7548596112311015\n",
      "At round 195 training accuracy: 0.7878787878787878\n",
      "At round 195 training loss: 1.2195718831219526\n",
      "Group 4\n",
      "At round 195 accuracy: 0.45166051660516604\n",
      "At round 195 training accuracy: 0.4604427333974976\n",
      "At round 195 training loss: 2.722626422449258\n",
      "At round 195 mean test accuracy: 0.672910491997629 mean train accuracy: 0.6870621205044372 mean train loss: 1.4112211338739846                     number of test client: 766\n",
      "The client-group discrepancy are: [43.57013987 53.54796881 47.91124743 24.32356243 39.4942674   0.        ]\n",
      "Begin group  0 training\n"
     ]
    },
    {
     "name": "stderr",
     "output_type": "stream",
     "text": [
      "Epoch:   5%|▌         | 1/20 [00:00<00:02,  7.18it/s] "
     ]
    },
    {
     "name": "stdout",
     "output_type": "stream",
     "text": [
      "Begin group  1 training\n"
     ]
    },
    {
     "name": "stderr",
     "output_type": "stream",
     "text": [
      "Epoch:   0%|          | 0/20 [00:00<?, ?it/s]         "
     ]
    },
    {
     "name": "stdout",
     "output_type": "stream",
     "text": [
      "Begin group  2 training\n"
     ]
    },
    {
     "name": "stderr",
     "output_type": "stream",
     "text": [
      "Epoch:   5%|▌         | 1/20 [00:00<00:02,  9.02it/s] "
     ]
    },
    {
     "name": "stdout",
     "output_type": "stream",
     "text": [
      "Begin group  3 training\n"
     ]
    },
    {
     "name": "stderr",
     "output_type": "stream",
     "text": [
      "                                                      \r"
     ]
    },
    {
     "name": "stdout",
     "output_type": "stream",
     "text": [
      "Training groups takes 62.0927357673645s seconds\n",
      "Scheduling clients takes 3.0904319286346436s seconds\n",
      "Group 0, clients ['Bia_Loves_NKOTB', 'dreadw', 'wonderpetunia', 'happylovesChuck', 'LauraLxox', 'treewatcher21', 'JJLuver756', 'VickiElam', 'dannisaywhat', 'minorityx', 'koltregaskes', 'SimpleMia']\n",
      "Group 1 is empty.\n",
      "Group 2, clients ['stevegarufi', 'cookiemonster82', 'TinaS71', 'Broooooke_', 'fuseboxradio', 'sheonpoint']\n",
      "Group 3, clients ['KJL912', 'Arti_Sodmg']\n",
      "Group 4 is empty.\n"
     ]
    },
    {
     "name": "stderr",
     "output_type": "stream",
     "text": [
      "\r",
      "Epoch:   0%|          | 0/20 [00:00<?, ?it/s]"
     ]
    },
    {
     "name": "stdout",
     "output_type": "stream",
     "text": [
      "Group 0\n",
      "At round 196 accuracy: 0.6760025461489497\n",
      "At round 196 training accuracy: 0.6859545836837678\n",
      "At round 196 training loss: 0.8734474054698287\n",
      "Group 1\n",
      "At round 196 accuracy: 0.9024134312696747\n",
      "At round 196 training accuracy: 0.9203539823008849\n",
      "At round 196 training loss: 0.6284978180799227\n",
      "Group 2\n",
      "At round 196 accuracy: 0.6847736625514403\n",
      "At round 196 training accuracy: 0.7100468131076701\n",
      "At round 196 training loss: 1.3021191446942155\n",
      "Group 3\n",
      "At round 196 accuracy: 0.7070063694267515\n",
      "At round 196 training accuracy: 0.7497216035634744\n",
      "At round 196 training loss: 0.8355948164310298\n",
      "Group 4\n",
      "At round 196 accuracy: 0.4516616314199396\n",
      "At round 196 training accuracy: 0.46168997439432735\n",
      "At round 196 training loss: 2.7111128432364717\n",
      "At round 196 mean test accuracy: 0.6736218138707766 mean train accuracy: 0.6944418496029893 mean train loss: 1.3174838469720114                     number of test client: 766\n",
      "The client-group discrepancy are: [41.61279291 45.48306283  0.         30.13931154 52.81161752  0.        ]\n",
      "Begin group  0 training\n"
     ]
    },
    {
     "name": "stderr",
     "output_type": "stream",
     "text": [
      "Epoch:   0%|          | 0/20 [00:00<?, ?it/s]         "
     ]
    },
    {
     "name": "stdout",
     "output_type": "stream",
     "text": [
      "Begin group  2 training\n"
     ]
    },
    {
     "name": "stderr",
     "output_type": "stream",
     "text": [
      "Epoch:   5%|▌         | 1/20 [00:00<00:02,  6.81it/s] "
     ]
    },
    {
     "name": "stdout",
     "output_type": "stream",
     "text": [
      "Begin group  3 training\n"
     ]
    },
    {
     "name": "stderr",
     "output_type": "stream",
     "text": [
      "                                                      \r"
     ]
    },
    {
     "name": "stdout",
     "output_type": "stream",
     "text": [
      "Training groups takes 86.17327570915222s seconds\n",
      "Scheduling clients takes 3.0704054832458496s seconds\n",
      "Group 0, clients ['LiluYvett', 'charleneortiz', 'rbuerckner', 'xDirtyBurdx', 'Jayme1988', 'antzpantz', 'SimpleMia', 'Rubyam', 'MsStaceyK', 'vickyjones91', 'andrewpycroft', 'weeps', 'Cherye101', 'Monicarrrr']\n",
      "Group 1, clients ['tweeteradder20', 'AsiaBrands', 'privatestudmuff']\n",
      "Group 2, clients ['thisgoeshere']\n",
      "Group 3, clients ['flapjacks9702']\n",
      "Group 4, clients ['ameym21']\n"
     ]
    },
    {
     "name": "stderr",
     "output_type": "stream",
     "text": [
      "\r",
      "Epoch:   0%|          | 0/20 [00:00<?, ?it/s]"
     ]
    },
    {
     "name": "stdout",
     "output_type": "stream",
     "text": [
      "Group 0\n",
      "At round 197 accuracy: 0.6196032672112018\n",
      "At round 197 training accuracy: 0.6305585474688413\n",
      "At round 197 training loss: 0.8799944355044067\n",
      "Group 1\n",
      "At round 197 accuracy: 0.9026915113871635\n",
      "At round 197 training accuracy: 0.9211244541484717\n",
      "At round 197 training loss: 0.6227036723733881\n",
      "Group 2\n",
      "At round 197 accuracy: 0.6890568150013994\n",
      "At round 197 training accuracy: 0.7095493641108579\n",
      "At round 197 training loss: 1.4350782824308583\n",
      "Group 3\n",
      "At round 197 accuracy: 0.7036637931034483\n",
      "At round 197 training accuracy: 0.7232117613797003\n",
      "At round 197 training loss: 0.9164357880793421\n",
      "Group 4\n",
      "At round 197 accuracy: 0.45933014354066987\n",
      "At round 197 training accuracy: 0.46529509559434745\n",
      "At round 197 training loss: 2.6858890661718178\n",
      "At round 197 mean test accuracy: 0.6668642560758743 mean train accuracy: 0.6826093725673361 mean train loss: 1.3603603156369803                     number of test client: 766\n",
      "The client-group discrepancy are: [36.21573454 39.00277126 21.45729429 58.79784004 52.81484089  2.29132931]\n",
      "Begin group  0 training\n"
     ]
    },
    {
     "name": "stderr",
     "output_type": "stream",
     "text": [
      "Epoch:   5%|▌         | 1/20 [00:00<00:02,  6.62it/s] "
     ]
    },
    {
     "name": "stdout",
     "output_type": "stream",
     "text": [
      "Begin group  1 training\n"
     ]
    },
    {
     "name": "stderr",
     "output_type": "stream",
     "text": [
      "Epoch:   0%|          | 0/20 [00:00<?, ?it/s]         "
     ]
    },
    {
     "name": "stdout",
     "output_type": "stream",
     "text": [
      "Begin group  2 training\n"
     ]
    },
    {
     "name": "stderr",
     "output_type": "stream",
     "text": [
      "Epoch:   5%|▌         | 1/20 [00:00<00:02,  8.98it/s] "
     ]
    },
    {
     "name": "stdout",
     "output_type": "stream",
     "text": [
      "Begin group  3 training\n"
     ]
    },
    {
     "name": "stderr",
     "output_type": "stream",
     "text": [
      "Epoch:   5%|▌         | 1/20 [00:00<00:02,  8.51it/s] "
     ]
    },
    {
     "name": "stdout",
     "output_type": "stream",
     "text": [
      "Begin group  4 training\n"
     ]
    },
    {
     "name": "stderr",
     "output_type": "stream",
     "text": [
      "                                                      \r"
     ]
    },
    {
     "name": "stdout",
     "output_type": "stream",
     "text": [
      "Training groups takes 83.31855320930481s seconds\n",
      "Scheduling clients takes 2.9375178813934326s seconds\n",
      "Group 0, clients ['pawsthejaws', 'SarahRoseMusic', 'danni82', 'k_griffiths', 'BlueEyedGirl18', 'ScottRhodie', 'happylovesChuck', 'Matalatine', 'Frassington', 'Sims_Galore']\n",
      "Group 1, clients ['nsane8', 'R_Arblaster', 'velofille', 'Custardcuppcake']\n",
      "Group 2, clients ['TheDailyBlonde', 'bacieabbracci', 'VickyMinor', 'steffy213', 'Wendywitwoo', 'life_afairytale']\n",
      "Group 3 is empty.\n",
      "Group 4 is empty.\n"
     ]
    },
    {
     "name": "stderr",
     "output_type": "stream",
     "text": [
      "\r",
      "Epoch:   0%|          | 0/20 [00:00<?, ?it/s]"
     ]
    },
    {
     "name": "stdout",
     "output_type": "stream",
     "text": [
      "Group 0\n",
      "At round 198 accuracy: 0.6393534002229655\n",
      "At round 198 training accuracy: 0.6439805967955314\n",
      "At round 198 training loss: 1.0329698991519458\n",
      "Group 1\n",
      "At round 198 accuracy: 0.9061181434599156\n",
      "At round 198 training accuracy: 0.9240400667779632\n",
      "At round 198 training loss: 0.5907094721325522\n",
      "Group 2\n",
      "At round 198 accuracy: 0.6740362811791383\n",
      "At round 198 training accuracy: 0.694059848146494\n",
      "At round 198 training loss: 1.753438320830353\n",
      "Group 3\n",
      "At round 198 accuracy: 0.7399347116430903\n",
      "At round 198 training accuracy: 0.7694944301628106\n",
      "At round 198 training loss: 0.9180860614424832\n",
      "Group 4\n",
      "At round 198 accuracy: 0.42375601926163725\n",
      "At round 198 training accuracy: 0.4344553627430483\n",
      "At round 198 training loss: 3.106313664797548\n",
      "At round 198 mean test accuracy: 0.6629519857735625 mean train accuracy: 0.6787482484820178 mean train loss: 1.5811213460578186                     number of test client: 766\n",
      "The client-group discrepancy are: [36.21553633 48.01616283 13.87358704 31.44245837  0.          0.        ]\n",
      "Begin group  0 training\n"
     ]
    },
    {
     "name": "stderr",
     "output_type": "stream",
     "text": [
      "Epoch:   0%|          | 0/20 [00:00<?, ?it/s]         "
     ]
    },
    {
     "name": "stdout",
     "output_type": "stream",
     "text": [
      "Begin group  1 training\n"
     ]
    },
    {
     "name": "stderr",
     "output_type": "stream",
     "text": [
      "Epoch:   5%|▌         | 1/20 [00:00<00:02,  7.05it/s] "
     ]
    },
    {
     "name": "stdout",
     "output_type": "stream",
     "text": [
      "Begin group  2 training\n"
     ]
    },
    {
     "name": "stderr",
     "output_type": "stream",
     "text": [
      "                                                      \r"
     ]
    },
    {
     "name": "stdout",
     "output_type": "stream",
     "text": [
      "Training groups takes 68.61934185028076s seconds\n",
      "Scheduling clients takes 3.2222723960876465s seconds\n",
      "Group 0, clients ['brianwelburn', '_magic8ball', 'xoCAZZA', 'MelanieFresh27', 'DarianMarie43', 'caseysevenfold', 'KateEdwards', 'alwaysloveu_Ci']\n",
      "Group 1, clients ['tweeteradder10', 'Speaker99', 'mOFrIz']\n",
      "Group 2, clients ['danic27', 'DominaCaffeine', 'stevegarufi', 'wahliaodotcom', 'sharonhayes', 'KiSHEZ']\n",
      "Group 3, clients ['sky14kemea', 'AvonteNikole']\n",
      "Group 4, clients ['sfgiantsgirl']\n"
     ]
    },
    {
     "name": "stderr",
     "output_type": "stream",
     "text": [
      "\r",
      "Epoch:   0%|          | 0/20 [00:00<?, ?it/s]"
     ]
    },
    {
     "name": "stdout",
     "output_type": "stream",
     "text": [
      "Group 0\n",
      "At round 199 accuracy: 0.6738332459360251\n",
      "At round 199 training accuracy: 0.6761010630954024\n",
      "At round 199 training loss: 0.900383813254099\n",
      "Group 1\n",
      "At round 199 accuracy: 0.907626208378088\n",
      "At round 199 training accuracy: 0.925758005100595\n",
      "At round 199 training loss: 0.5471187685127347\n",
      "Group 2\n",
      "At round 199 accuracy: 0.6691772885283893\n",
      "At round 199 training accuracy: 0.6864058456386055\n",
      "At round 199 training loss: 1.2954407500579908\n",
      "Group 3\n",
      "At round 199 accuracy: 0.7395048439181916\n",
      "At round 199 training accuracy: 0.7691438259395309\n",
      "At round 199 training loss: 0.9181552343244193\n",
      "Group 4\n",
      "At round 199 accuracy: 0.41694078947368424\n",
      "At round 199 training accuracy: 0.4301328761251607\n",
      "At round 199 training loss: 3.0926024624870263\n",
      "At round 199 mean test accuracy: 0.6679312388855957 mean train accuracy: 0.6822668534952514 mean train loss: 1.3436461819081844                     number of test client: 766\n",
      "The client-group discrepancy are: [32.23296963 47.87343597 16.5997084  15.27883406 30.98138518 58.23700494]\n",
      "Begin group  0 training\n"
     ]
    },
    {
     "name": "stderr",
     "output_type": "stream",
     "text": [
      "Epoch:   0%|          | 0/20 [00:00<?, ?it/s]         "
     ]
    },
    {
     "name": "stdout",
     "output_type": "stream",
     "text": [
      "Begin group  1 training\n"
     ]
    },
    {
     "name": "stderr",
     "output_type": "stream",
     "text": [
      "Epoch:   5%|▌         | 1/20 [00:00<00:02,  9.06it/s] "
     ]
    },
    {
     "name": "stdout",
     "output_type": "stream",
     "text": [
      "Begin group  2 training\n"
     ]
    },
    {
     "name": "stderr",
     "output_type": "stream",
     "text": [
      "Epoch:   5%|▌         | 1/20 [00:00<00:02,  8.10it/s] "
     ]
    },
    {
     "name": "stdout",
     "output_type": "stream",
     "text": [
      "Begin group  3 training\n"
     ]
    },
    {
     "name": "stderr",
     "output_type": "stream",
     "text": [
      "Epoch:   0%|          | 0/20 [00:00<?, ?it/s]         "
     ]
    },
    {
     "name": "stdout",
     "output_type": "stream",
     "text": [
      "Begin group  4 training\n"
     ]
    },
    {
     "name": "stderr",
     "output_type": "stream",
     "text": [
      "                                                      \r"
     ]
    },
    {
     "name": "stdout",
     "output_type": "stream",
     "text": [
      "Training groups takes 93.8185977935791s seconds\n",
      "Scheduling clients takes 3.1775062084198s seconds\n",
      "Group 0, clients ['rkb09', 'RockstarAtHeart', 'karinb_za', 'peytonluvsjoe', 'dreadw', 'xoHerbieox', 'gazebow', 'Rianca', 'jaronmc', 'xoCAZZA', 'esmeg']\n",
      "Group 1, clients ['WWF_Climate']\n",
      "Group 2, clients ['ItsMariahxOxO', 'kwells2416', 'Commsguy', 'Sharonyy']\n",
      "Group 3, clients ['isdown', 'AvonteNikole', 'shinsh0ku', 'iellie']\n",
      "Group 4 is empty.\n"
     ]
    },
    {
     "name": "stderr",
     "output_type": "stream",
     "text": [
      "Epoch:   5%|▌         | 1/20 [00:00<00:01,  9.89it/s]"
     ]
    },
    {
     "name": "stdout",
     "output_type": "stream",
     "text": [
      "Group 0\n",
      "At round 200 accuracy: 0.6079717457114027\n",
      "At round 200 training accuracy: 0.6198511825671007\n",
      "At round 200 training loss: 0.8733258012800007\n",
      "Group 1\n",
      "At round 200 accuracy: 0.9088937093275488\n",
      "At round 200 training accuracy: 0.9270803545896482\n",
      "At round 200 training loss: 0.5720328964886375\n",
      "Group 2\n",
      "At round 200 accuracy: 0.6760646108663729\n",
      "At round 200 training accuracy: 0.6958635591912332\n",
      "At round 200 training loss: 1.1958457374086264\n",
      "Group 3\n",
      "At round 200 accuracy: 0.7478448275862069\n",
      "At round 200 training accuracy: 0.7920792079207921\n",
      "At round 200 training loss: 0.9566021594593019\n",
      "Group 4\n",
      "At round 200 accuracy: 0.44240400667779634\n",
      "At round 200 training accuracy: 0.4409654272667971\n",
      "At round 200 training loss: 3.6462336216795443\n",
      "At round 200 mean test accuracy: 0.6602252519264967 mean train accuracy: 0.6773158959987545 mean train loss: 1.376909081257602                     number of test client: 766\n",
      "The client-group discrepancy are: [29.81195356 32.0925333   3.01422606 43.30489389 16.74685082  0.        ]\n",
      "Begin group  0 training\n"
     ]
    },
    {
     "name": "stderr",
     "output_type": "stream",
     "text": [
      "Epoch:   5%|▌         | 1/20 [00:00<00:02,  9.45it/s] "
     ]
    },
    {
     "name": "stdout",
     "output_type": "stream",
     "text": [
      "Begin group  1 training\n"
     ]
    },
    {
     "name": "stderr",
     "output_type": "stream",
     "text": [
      "Epoch:   5%|▌         | 1/20 [00:00<00:02,  8.42it/s] "
     ]
    },
    {
     "name": "stdout",
     "output_type": "stream",
     "text": [
      "Begin group  2 training\n"
     ]
    },
    {
     "name": "stderr",
     "output_type": "stream",
     "text": [
      "Epoch:   5%|▌         | 1/20 [00:00<00:03,  5.55it/s] "
     ]
    },
    {
     "name": "stdout",
     "output_type": "stream",
     "text": [
      "Begin group  3 training\n"
     ]
    },
    {
     "name": "stderr",
     "output_type": "stream",
     "text": [
      "                                                      \r"
     ]
    },
    {
     "name": "stdout",
     "output_type": "stream",
     "text": [
      "Training groups takes 65.16378092765808s seconds\n",
      "Scheduling clients takes 3.086883544921875s seconds\n",
      "Group 0, clients ['Darth_Disco', 'rockbigdave', 'xdevinnbabyy']\n",
      "Group 1, clients ['epcotx', 'addieking', 'brampitoyo']\n",
      "Group 2, clients ['kevmer', 'MelanieFresh27', 'witnessamiracle', 'tifpez', 'KatyCaptivated', 'fuseboxradio', 'nic0lepaula', 'VIBEAUTY', 'tweetieelovee', 'ponor', 'grum', 'MacSheikh']\n",
      "Group 3, clients ['gabbydario', 'wickedground']\n",
      "Group 4 is empty.\n"
     ]
    },
    {
     "name": "stderr",
     "output_type": "stream",
     "text": [
      "\r",
      "Epoch:   0%|          | 0/20 [00:00<?, ?it/s]"
     ]
    },
    {
     "name": "stdout",
     "output_type": "stream",
     "text": [
      "Group 0\n",
      "At round 201 accuracy: 0.6556627729812088\n",
      "At round 201 training accuracy: 0.6751004016064257\n",
      "At round 201 training loss: 0.9713218754932903\n",
      "Group 1\n",
      "At round 201 accuracy: 0.9098712446351931\n",
      "At round 201 training accuracy: 0.9278438030560272\n",
      "At round 201 training loss: 0.6064387162303841\n",
      "Group 2\n",
      "At round 201 accuracy: 0.686623831775701\n",
      "At round 201 training accuracy: 0.708247027234369\n",
      "At round 201 training loss: 1.087734922802588\n",
      "Group 3\n",
      "At round 201 accuracy: 0.7486631016042781\n",
      "At round 201 training accuracy: 0.7824866685377491\n",
      "At round 201 training loss: 0.8249909083672347\n",
      "Group 4\n",
      "At round 201 accuracy: 0.4391489361702128\n",
      "At round 201 training accuracy: 0.4424994460447596\n",
      "At round 201 training loss: 3.6288007047799566\n",
      "At round 201 mean test accuracy: 0.676467101363367 mean train accuracy: 0.6955939592090923 mean train loss: 1.3356305072087558                     number of test client: 766\n",
      "The client-group discrepancy are: [33.59998544 54.50714987 17.49540497 32.63096298 32.21024426  0.        ]\n",
      "Begin group  0 training\n"
     ]
    },
    {
     "name": "stderr",
     "output_type": "stream",
     "text": [
      "Epoch:   5%|▌         | 1/20 [00:00<00:02,  7.01it/s] "
     ]
    },
    {
     "name": "stdout",
     "output_type": "stream",
     "text": [
      "Begin group  1 training\n"
     ]
    },
    {
     "name": "stderr",
     "output_type": "stream",
     "text": [
      "Epoch:   5%|▌         | 1/20 [00:00<00:02,  8.19it/s] "
     ]
    },
    {
     "name": "stdout",
     "output_type": "stream",
     "text": [
      "Begin group  2 training\n"
     ]
    },
    {
     "name": "stderr",
     "output_type": "stream",
     "text": [
      "Epoch:   5%|▌         | 1/20 [00:00<00:02,  8.49it/s] "
     ]
    },
    {
     "name": "stdout",
     "output_type": "stream",
     "text": [
      "Begin group  3 training\n"
     ]
    },
    {
     "name": "stderr",
     "output_type": "stream",
     "text": [
      "                                                      \r"
     ]
    },
    {
     "name": "stdout",
     "output_type": "stream",
     "text": [
      "Training groups takes 56.1215283870697s seconds\n",
      "Scheduling clients takes 3.067554473876953s seconds\n",
      "Group 0, clients ['pimpyouriphone']\n",
      "Group 1, clients ['R_Arblaster', 'MarilynM', 'tweetles', 'perpetualspiral']\n",
      "Group 2, clients ['kamiNcali', 'combustiblesong', 'AtlantisJackson', 'esmeg', 'BlueEyedGirl18', 'Matalatine', 'shawnlimtianjun', 'Galiiit', 'traciknoppe', 'honeysnowflakes']\n",
      "Group 3, clients ['Caprica', 'janeybelle15', 'Dumskull', 'NikFreeman', '4evaurgirl']\n",
      "Group 4 is empty.\n"
     ]
    },
    {
     "name": "stderr",
     "output_type": "stream",
     "text": [
      "\r",
      "Epoch:   0%|          | 0/20 [00:00<?, ?it/s]"
     ]
    },
    {
     "name": "stdout",
     "output_type": "stream",
     "text": [
      "Group 0\n",
      "At round 202 accuracy: 0.6204913748039729\n",
      "At round 202 training accuracy: 0.6229327453142227\n",
      "At round 202 training loss: 1.038762488851145\n",
      "Group 1\n",
      "At round 202 accuracy: 0.9118279569892473\n",
      "At round 202 training accuracy: 0.9299489506522972\n",
      "At round 202 training loss: 0.6242082044699153\n",
      "Group 2\n",
      "At round 202 accuracy: 0.6886090440755581\n",
      "At round 202 training accuracy: 0.7112781954887218\n",
      "At round 202 training loss: 0.9949658681071343\n",
      "Group 3\n",
      "At round 202 accuracy: 0.7573529411764706\n",
      "At round 202 training accuracy: 0.7813620071684588\n",
      "At round 202 training loss: 0.6699552736243812\n",
      "Group 4\n",
      "At round 202 accuracy: 0.4424083769633508\n",
      "At round 202 training accuracy: 0.4455288243304585\n",
      "At round 202 training loss: 3.6036624107976993\n",
      "At round 202 mean test accuracy: 0.6720806164789568 mean train accuracy: 0.6867818776272769 mean train loss: 1.2853473191125644                     number of test client: 766\n",
      "The client-group discrepancy are: [33.33051756  7.82471484 15.77030776 45.98429322 27.17229464  0.        ]\n",
      "Begin group  0 training\n"
     ]
    },
    {
     "name": "stderr",
     "output_type": "stream",
     "text": [
      "Epoch:   5%|▌         | 1/20 [00:00<00:02,  8.22it/s] "
     ]
    },
    {
     "name": "stdout",
     "output_type": "stream",
     "text": [
      "Begin group  1 training\n"
     ]
    },
    {
     "name": "stderr",
     "output_type": "stream",
     "text": [
      "Epoch:   5%|▌         | 1/20 [00:00<00:02,  7.15it/s] "
     ]
    },
    {
     "name": "stdout",
     "output_type": "stream",
     "text": [
      "Begin group  2 training\n"
     ]
    },
    {
     "name": "stderr",
     "output_type": "stream",
     "text": [
      "Epoch:   5%|▌         | 1/20 [00:00<00:03,  6.18it/s] "
     ]
    },
    {
     "name": "stdout",
     "output_type": "stream",
     "text": [
      "Begin group  3 training\n"
     ]
    },
    {
     "name": "stderr",
     "output_type": "stream",
     "text": [
      "                                                      \r"
     ]
    },
    {
     "name": "stdout",
     "output_type": "stream",
     "text": [
      "Training groups takes 63.69225597381592s seconds\n",
      "Scheduling clients takes 3.0239956378936768s seconds\n",
      "Group 0, clients ['_xbianca', 'Bhooshan', 'thepete', 'jiriteach']\n",
      "Group 1, clients ['AshesOfLilies', 'tweeteradder16', 'hypnoticyogi']\n",
      "Group 2, clients ['christinawrites', 'brianwelburn', 'JJLuver756', 'Paiige__', 'sharonhayes', '_Alectrona_']\n",
      "Group 3, clients ['BeantownCutie', 'veganluke', 'IanRobinson', 'redoranda', 'suebrody1', 'kellygirl27']\n",
      "Group 4, clients ['Andjelija']\n"
     ]
    },
    {
     "name": "stderr",
     "output_type": "stream",
     "text": [
      "\r",
      "Epoch:   0%|          | 0/20 [00:00<?, ?it/s]"
     ]
    },
    {
     "name": "stdout",
     "output_type": "stream",
     "text": [
      "Group 0\n",
      "At round 203 accuracy: 0.6188145731375748\n",
      "At round 203 training accuracy: 0.6457617411225659\n",
      "At round 203 training loss: 1.6055372849725937\n",
      "Group 1\n",
      "At round 203 accuracy: 0.9125799573560768\n",
      "At round 203 training accuracy: 0.930239099859353\n",
      "At round 203 training loss: 0.5176159712673691\n",
      "Group 2\n",
      "At round 203 accuracy: 0.6933788007956806\n",
      "At round 203 training accuracy: 0.7106913543377632\n",
      "At round 203 training loss: 1.0586377203040567\n",
      "Group 3\n",
      "At round 203 accuracy: 0.7401812688821753\n",
      "At round 203 training accuracy: 0.7777777777777778\n",
      "At round 203 training loss: 0.835793573969098\n",
      "Group 4\n",
      "At round 203 accuracy: 0.4406631762652705\n",
      "At round 203 training accuracy: 0.44502498864152656\n",
      "At round 203 training loss: 3.600261389408836\n",
      "At round 203 mean test accuracy: 0.6726733847065798 mean train accuracy: 0.6923555970730189 mean train loss: 1.439833135532851                     number of test client: 766\n",
      "The client-group discrepancy are: [36.65196338 30.7976661  17.32012307 38.86081031 44.65340075 56.80296757]\n",
      "Begin group  0 training\n"
     ]
    },
    {
     "name": "stderr",
     "output_type": "stream",
     "text": [
      "Epoch:   5%|▌         | 1/20 [00:00<00:02,  7.03it/s] "
     ]
    },
    {
     "name": "stdout",
     "output_type": "stream",
     "text": [
      "Begin group  1 training\n"
     ]
    },
    {
     "name": "stderr",
     "output_type": "stream",
     "text": [
      "Epoch:   5%|▌         | 1/20 [00:00<00:01,  9.66it/s] "
     ]
    },
    {
     "name": "stdout",
     "output_type": "stream",
     "text": [
      "Begin group  2 training\n"
     ]
    },
    {
     "name": "stderr",
     "output_type": "stream",
     "text": [
      "Epoch:   0%|          | 0/20 [00:00<?, ?it/s]         "
     ]
    },
    {
     "name": "stdout",
     "output_type": "stream",
     "text": [
      "Begin group  3 training\n"
     ]
    },
    {
     "name": "stderr",
     "output_type": "stream",
     "text": [
      "Epoch:   5%|▌         | 1/20 [00:00<00:02,  6.67it/s] "
     ]
    },
    {
     "name": "stdout",
     "output_type": "stream",
     "text": [
      "Begin group  4 training\n"
     ]
    },
    {
     "name": "stderr",
     "output_type": "stream",
     "text": [
      "                                                      \r"
     ]
    },
    {
     "name": "stdout",
     "output_type": "stream",
     "text": [
      "Training groups takes 65.80438876152039s seconds\n",
      "Scheduling clients takes 3.003660202026367s seconds\n",
      "Group 0, clients ['wonderpetunia', 'Extremo', 'caseysevenfold', 'Tisyonk', 'Speed2007']\n",
      "Group 1, clients ['dannybrown']\n",
      "Group 2, clients ['sweetcherrypop', 'xmiyix', 'music_flurry', 'taylormcfly', 'GinaLaGuardia', 'mneylon', 'SimpleMia', 'davidismyangel', 'pato_30stm', 'YoungA2985']\n",
      "Group 3, clients ['hannahkin', 'IvanaE']\n",
      "Group 4, clients ['Haarlz', 'AyyoItsAmandaJo']\n"
     ]
    },
    {
     "name": "stderr",
     "output_type": "stream",
     "text": [
      "\r",
      "Epoch:   0%|          | 0/20 [00:00<?, ?it/s]"
     ]
    },
    {
     "name": "stdout",
     "output_type": "stream",
     "text": [
      "Group 0\n",
      "At round 204 accuracy: 0.6263013698630137\n",
      "At round 204 training accuracy: 0.6386845521419299\n",
      "At round 204 training loss: 1.2016183246476781\n",
      "Group 1\n",
      "At round 204 accuracy: 0.9134107708553326\n",
      "At round 204 training accuracy: 0.9308614441037079\n",
      "At round 204 training loss: 0.5245044264058683\n",
      "Group 2\n",
      "At round 204 accuracy: 0.6791171477079796\n",
      "At round 204 training accuracy: 0.7113110731018071\n",
      "At round 204 training loss: 0.9761098535045288\n",
      "Group 3\n",
      "At round 204 accuracy: 0.7236180904522613\n",
      "At round 204 training accuracy: 0.7666930588545791\n",
      "At round 204 training loss: 0.8111408436914238\n",
      "Group 4\n",
      "At round 204 accuracy: 0.47883597883597884\n",
      "At round 204 training accuracy: 0.4579031888047717\n",
      "At round 204 training loss: 2.353842855217698\n",
      "At round 204 mean test accuracy: 0.672317723770006 mean train accuracy: 0.6922933208780944 mean train loss: 1.1418894624012563                     number of test client: 766\n",
      "The client-group discrepancy are: [34.01522078 15.70106978 53.14359384 37.1961063  30.1957975  58.1514074 ]\n",
      "Begin group  0 training\n"
     ]
    },
    {
     "name": "stderr",
     "output_type": "stream",
     "text": [
      "Epoch:   5%|▌         | 1/20 [00:00<00:02,  6.45it/s] "
     ]
    },
    {
     "name": "stdout",
     "output_type": "stream",
     "text": [
      "Begin group  1 training\n"
     ]
    },
    {
     "name": "stderr",
     "output_type": "stream",
     "text": [
      "Epoch:   5%|▌         | 1/20 [00:00<00:02,  8.32it/s] "
     ]
    },
    {
     "name": "stdout",
     "output_type": "stream",
     "text": [
      "Begin group  2 training\n"
     ]
    },
    {
     "name": "stderr",
     "output_type": "stream",
     "text": [
      "Epoch:   5%|▌         | 1/20 [00:00<00:03,  5.63it/s] "
     ]
    },
    {
     "name": "stdout",
     "output_type": "stream",
     "text": [
      "Begin group  3 training\n"
     ]
    },
    {
     "name": "stderr",
     "output_type": "stream",
     "text": [
      "Epoch:   5%|▌         | 1/20 [00:00<00:02,  6.39it/s] "
     ]
    },
    {
     "name": "stdout",
     "output_type": "stream",
     "text": [
      "Begin group  4 training\n"
     ]
    },
    {
     "name": "stderr",
     "output_type": "stream",
     "text": [
      "                                                      \r"
     ]
    },
    {
     "name": "stdout",
     "output_type": "stream",
     "text": [
      "Training groups takes 60.23046255111694s seconds\n",
      "Scheduling clients takes 3.0496654510498047s seconds\n",
      "Group 0, clients ['megspptc', 'dollforlife', 'christyspanties', 'RockstarAtHeart', 'TaylaMe3']\n",
      "Group 1, clients ['PS1968', 'Sheamus', 'DaPrbmChild']\n",
      "Group 2, clients ['MelanieFresh27', 'iamgaberosales', 'rockbigdave', 'suddentwilight', 'YoungA2985', 'sarahroters']\n",
      "Group 3, clients ['PinkTribble', 'Saffy']\n",
      "Group 4, clients ['SarahMorrison', 'exortabreedoll', 'xDirtyBurdx', 'Hyper8']\n"
     ]
    },
    {
     "name": "stderr",
     "output_type": "stream",
     "text": [
      "\r",
      "Epoch:   0%|          | 0/20 [00:00<?, ?it/s]"
     ]
    },
    {
     "name": "stdout",
     "output_type": "stream",
     "text": [
      "Group 0\n",
      "At round 205 accuracy: 0.6194444444444445\n",
      "At round 205 training accuracy: 0.6541331382589612\n",
      "At round 205 training loss: 0.9866597447459856\n",
      "Group 1\n",
      "At round 205 accuracy: 0.9035639412997903\n",
      "At round 205 training accuracy: 0.9139219485192361\n",
      "At round 205 training loss: 0.45666985223141804\n",
      "Group 2\n",
      "At round 205 accuracy: 0.7070938215102975\n",
      "At round 205 training accuracy: 0.7347767253044655\n",
      "At round 205 training loss: 0.9422079731113459\n",
      "Group 3\n",
      "At round 205 accuracy: 0.6905965621840243\n",
      "At round 205 training accuracy: 0.740829346092504\n",
      "At round 205 training loss: 0.8733937647262987\n",
      "Group 4\n",
      "At round 205 accuracy: 0.4180602006688963\n",
      "At round 205 training accuracy: 0.42993699761025417\n",
      "At round 205 training loss: 2.3220244711918494\n",
      "At round 205 mean test accuracy: 0.6676941315945465 mean train accuracy: 0.694784368675074 mean train loss: 1.0867508632593637                     number of test client: 766\n",
      "The client-group discrepancy are: [35.58160571 36.84051472 18.66971798 22.43358801 52.81742992 57.79599969]\n",
      "Begin group  0 training\n"
     ]
    },
    {
     "name": "stderr",
     "output_type": "stream",
     "text": [
      "Epoch:   5%|▌         | 1/20 [00:00<00:02,  8.28it/s] "
     ]
    },
    {
     "name": "stdout",
     "output_type": "stream",
     "text": [
      "Begin group  1 training\n"
     ]
    },
    {
     "name": "stderr",
     "output_type": "stream",
     "text": [
      "Epoch:   0%|          | 0/20 [00:00<?, ?it/s]         "
     ]
    },
    {
     "name": "stdout",
     "output_type": "stream",
     "text": [
      "Begin group  2 training\n"
     ]
    },
    {
     "name": "stderr",
     "output_type": "stream",
     "text": [
      "Epoch:   5%|▌         | 1/20 [00:00<00:02,  9.47it/s] "
     ]
    },
    {
     "name": "stdout",
     "output_type": "stream",
     "text": [
      "Begin group  3 training\n"
     ]
    },
    {
     "name": "stderr",
     "output_type": "stream",
     "text": [
      "Epoch:   0%|          | 0/20 [00:00<?, ?it/s]         "
     ]
    },
    {
     "name": "stdout",
     "output_type": "stream",
     "text": [
      "Begin group  4 training\n"
     ]
    },
    {
     "name": "stderr",
     "output_type": "stream",
     "text": [
      "                                                      \r"
     ]
    },
    {
     "name": "stdout",
     "output_type": "stream",
     "text": [
      "Training groups takes 61.755780935287476s seconds\n",
      "Scheduling clients takes 2.993340253829956s seconds\n",
      "Group 0, clients ['Dot12b', 'xxxSupermodel', 'dyeleepong']\n",
      "Group 1, clients ['SarahSee95', 'addieking', 'combustiblesong', 'mixmasterfestus', 'UniqueGuitarist', 'nik_kee_dee']\n",
      "Group 2, clients ['YvetteObeney', 'pageoneresults', 'randomblonde', 'alyb_', 'scarletmandy', 'HeatherShea', 'Kitt69', 'Bopsicle', 'wyndwitch', 'teachernz', 'ashleeadams']\n",
      "Group 3 is empty.\n",
      "Group 4 is empty.\n"
     ]
    },
    {
     "name": "stderr",
     "output_type": "stream",
     "text": [
      "\r",
      "Epoch:   0%|          | 0/20 [00:00<?, ?it/s]"
     ]
    },
    {
     "name": "stdout",
     "output_type": "stream",
     "text": [
      "Group 0\n",
      "At round 206 accuracy: 0.6360544217687075\n",
      "At round 206 training accuracy: 0.6620328849028401\n",
      "At round 206 training loss: 1.0973049807694972\n",
      "Group 1\n",
      "At round 206 accuracy: 0.9085303186022611\n",
      "At round 206 training accuracy: 0.9294245385450597\n",
      "At round 206 training loss: 0.44011052309237186\n",
      "Group 2\n",
      "At round 206 accuracy: 0.7057159026598755\n",
      "At round 206 training accuracy: 0.7331153874730664\n",
      "At round 206 training loss: 0.9282314750711275\n",
      "Group 3\n",
      "At round 206 accuracy: 0.7330637007077856\n",
      "At round 206 training accuracy: 0.7732589048378522\n",
      "At round 206 training loss: 0.9533324246752783\n",
      "Group 4\n",
      "At round 206 accuracy: 0.4085106382978723\n",
      "At round 206 training accuracy: 0.42190265486725664\n",
      "At round 206 training loss: 2.5354285988849545\n",
      "At round 206 mean test accuracy: 0.6763485477178424 mean train accuracy: 0.7017281644091546 mean train loss: 1.1366021721933965                     number of test client: 766\n",
      "The client-group discrepancy are: [37.66586524 53.17449217 43.44811745 30.28228395  0.          0.        ]\n",
      "Begin group  0 training\n"
     ]
    },
    {
     "name": "stderr",
     "output_type": "stream",
     "text": [
      "Epoch:   5%|▌         | 1/20 [00:00<00:02,  8.20it/s] "
     ]
    },
    {
     "name": "stdout",
     "output_type": "stream",
     "text": [
      "Begin group  1 training\n"
     ]
    },
    {
     "name": "stderr",
     "output_type": "stream",
     "text": [
      "Epoch:   0%|          | 0/20 [00:00<?, ?it/s]         "
     ]
    },
    {
     "name": "stdout",
     "output_type": "stream",
     "text": [
      "Begin group  2 training\n"
     ]
    },
    {
     "name": "stderr",
     "output_type": "stream",
     "text": [
      "                                                      \r"
     ]
    },
    {
     "name": "stdout",
     "output_type": "stream",
     "text": [
      "Training groups takes 70.87475371360779s seconds\n",
      "Scheduling clients takes 3.0647501945495605s seconds\n",
      "Group 0, clients ['Bhooshan', 'jesslina', 'eboogiee']\n",
      "Group 1, clients ['DNiCESEOUL', 'pensblogtweet']\n",
      "Group 2, clients ['TLM26', 'ganeshaxi', 'wisdompathart', 'MsStaceyK', 'VickiElam', 'xxLOVExxPEACE', 'randomblonde', 'paul_steele']\n",
      "Group 3, clients ['andie_12', 'mariaeduardab', 'LiluYvett', 'Arti_Sodmg', 'kat_n', 'isdown']\n",
      "Group 4, clients ['Hyper8']\n"
     ]
    },
    {
     "name": "stderr",
     "output_type": "stream",
     "text": [
      "\r",
      "Epoch:   0%|          | 0/20 [00:00<?, ?it/s]"
     ]
    },
    {
     "name": "stdout",
     "output_type": "stream",
     "text": [
      "Group 0\n",
      "At round 207 accuracy: 0.623121387283237\n",
      "At round 207 training accuracy: 0.6257238646754039\n",
      "At round 207 training loss: 1.036140258575278\n",
      "Group 1\n",
      "At round 207 accuracy: 0.9127234490010515\n",
      "At round 207 training accuracy: 0.9333148096693527\n",
      "At round 207 training loss: 0.4610366136004339\n",
      "Group 2\n",
      "At round 207 accuracy: 0.7035077951002228\n",
      "At round 207 training accuracy: 0.7328606928811577\n",
      "At round 207 training loss: 0.8415381926806319\n",
      "Group 3\n",
      "At round 207 accuracy: 0.7329317269076305\n",
      "At round 207 training accuracy: 0.7737592397043295\n",
      "At round 207 training loss: 0.9501634854493897\n",
      "Group 4\n",
      "At round 207 accuracy: 0.4090909090909091\n",
      "At round 207 training accuracy: 0.4241748438893845\n",
      "At round 207 training loss: 2.5251986724877002\n",
      "At round 207 mean test accuracy: 0.6733847065797274 mean train accuracy: 0.6951580258446209 mean train loss: 1.0865501738032843                     number of test client: 766\n",
      "The client-group discrepancy are: [21.99682319 22.77031891 29.20524948 26.65269244 15.96236228  4.21929484]\n",
      "Begin group  0 training\n"
     ]
    },
    {
     "name": "stderr",
     "output_type": "stream",
     "text": [
      "Epoch:   5%|▌         | 1/20 [00:00<00:02,  9.27it/s] "
     ]
    },
    {
     "name": "stdout",
     "output_type": "stream",
     "text": [
      "Begin group  1 training\n"
     ]
    },
    {
     "name": "stderr",
     "output_type": "stream",
     "text": [
      "Epoch:   5%|▌         | 1/20 [00:00<00:03,  5.47it/s] "
     ]
    },
    {
     "name": "stdout",
     "output_type": "stream",
     "text": [
      "Begin group  2 training\n"
     ]
    },
    {
     "name": "stderr",
     "output_type": "stream",
     "text": [
      "Epoch:   5%|▌         | 1/20 [00:00<00:02,  8.80it/s] "
     ]
    },
    {
     "name": "stdout",
     "output_type": "stream",
     "text": [
      "Begin group  3 training\n"
     ]
    },
    {
     "name": "stderr",
     "output_type": "stream",
     "text": [
      "Epoch:   0%|          | 0/20 [00:00<?, ?it/s]         "
     ]
    },
    {
     "name": "stdout",
     "output_type": "stream",
     "text": [
      "Begin group  4 training\n"
     ]
    },
    {
     "name": "stderr",
     "output_type": "stream",
     "text": [
      "                                                      \r"
     ]
    },
    {
     "name": "stdout",
     "output_type": "stream",
     "text": [
      "Training groups takes 73.37546467781067s seconds\n",
      "Scheduling clients takes 3.033195734024048s seconds\n",
      "Group 0, clients ['jaronmc', 'Abbie_xD', 'Mixaelala', 'crazymitchell', 'Arasphere', 'hannah106', 'virustricks']\n",
      "Group 1, clients ['shanajaca', 'clevertitania', 'Custardcuppcake', 'holidaycarclub', 'tweeteradder10']\n",
      "Group 2, clients ['tynie626', 'sunshinehollyyy', 'chelseasms', 'paulmason10538']\n",
      "Group 3, clients ['mariaeduardab', 'feelme', 'gabbydario', 'flapjacks9702']\n",
      "Group 4 is empty.\n"
     ]
    },
    {
     "name": "stderr",
     "output_type": "stream",
     "text": [
      "\r",
      "Epoch:   0%|          | 0/20 [00:00<?, ?it/s]"
     ]
    },
    {
     "name": "stdout",
     "output_type": "stream",
     "text": [
      "Group 0\n",
      "At round 208 accuracy: 0.5898016997167139\n",
      "At round 208 training accuracy: 0.6107292289300658\n",
      "At round 208 training loss: 1.0819660327411205\n",
      "Group 1\n",
      "At round 208 accuracy: 0.9147442326980942\n",
      "At round 208 training accuracy: 0.9333509653530812\n",
      "At round 208 training loss: 0.43300102522489115\n",
      "Group 2\n",
      "At round 208 accuracy: 0.6955299409614843\n",
      "At round 208 training accuracy: 0.7328413284132841\n",
      "At round 208 training loss: 0.9192470688772872\n",
      "Group 3\n",
      "At round 208 accuracy: 0.6899302093718843\n",
      "At round 208 training accuracy: 0.7456738332459361\n",
      "At round 208 training loss: 0.8701998577650986\n",
      "Group 4\n",
      "At round 208 accuracy: 0.4555256064690027\n",
      "At round 208 training accuracy: 0.4616643291257597\n",
      "At round 208 training loss: 3.0079545141957515\n",
      "At round 208 mean test accuracy: 0.6669828097213989 mean train accuracy: 0.6964035497431107 mean train loss: 1.168315834345684                     number of test client: 766\n",
      "The client-group discrepancy are: [28.91417528 41.19987567 24.5024754  25.13236818 16.71063154  0.        ]\n",
      "Begin group  0 training\n"
     ]
    },
    {
     "name": "stderr",
     "output_type": "stream",
     "text": [
      "Epoch:   0%|          | 0/20 [00:00<?, ?it/s]         "
     ]
    },
    {
     "name": "stdout",
     "output_type": "stream",
     "text": [
      "Begin group  1 training\n"
     ]
    },
    {
     "name": "stderr",
     "output_type": "stream",
     "text": [
      "Epoch:   5%|▌         | 1/20 [00:00<00:02,  6.95it/s] "
     ]
    },
    {
     "name": "stdout",
     "output_type": "stream",
     "text": [
      "Begin group  2 training\n"
     ]
    },
    {
     "name": "stderr",
     "output_type": "stream",
     "text": [
      "Epoch:   5%|▌         | 1/20 [00:00<00:02,  7.98it/s] "
     ]
    },
    {
     "name": "stdout",
     "output_type": "stream",
     "text": [
      "Begin group  3 training\n"
     ]
    },
    {
     "name": "stderr",
     "output_type": "stream",
     "text": [
      "                                                      \r"
     ]
    },
    {
     "name": "stdout",
     "output_type": "stream",
     "text": [
      "Training groups takes 66.10848236083984s seconds\n",
      "Scheduling clients takes 3.063260793685913s seconds\n",
      "Group 0, clients ['__DalekCaan__', 'danic27', 'Jodasaur', 'scodal', 'pimpyouriphone']\n",
      "Group 1, clients ['mneylon', 'chaosbot', 'tweeteradder10']\n",
      "Group 2, clients ['MrTHill', 'JamesHancox', 'caldjr', 'mr_billiam', 'markable', 'scarletmandy', 'MAGGIECHICKEN']\n",
      "Group 3, clients ['diiilxia', 'Cass_fryer', 'gewoonlianne', 'elenarr', 'MissPassion']\n",
      "Group 4 is empty.\n"
     ]
    },
    {
     "name": "stderr",
     "output_type": "stream",
     "text": [
      "Epoch:   5%|▌         | 1/20 [00:00<00:02,  8.93it/s]"
     ]
    },
    {
     "name": "stdout",
     "output_type": "stream",
     "text": [
      "Group 0\n",
      "At round 209 accuracy: 0.6362606232294618\n",
      "At round 209 training accuracy: 0.6514200298953662\n",
      "At round 209 training loss: 0.9890313105819182\n",
      "Group 1\n",
      "At round 209 accuracy: 0.911219512195122\n",
      "At round 209 training accuracy: 0.9284979423868313\n",
      "At round 209 training loss: 0.41377602009327163\n",
      "Group 2\n",
      "At round 209 accuracy: 0.6959363455527139\n",
      "At round 209 training accuracy: 0.7286289721020439\n",
      "At round 209 training loss: 0.8638968739011684\n",
      "Group 3\n",
      "At round 209 accuracy: 0.7354392892398816\n",
      "At round 209 training accuracy: 0.7744614586036854\n",
      "At round 209 training loss: 0.8275581470173642\n",
      "Group 4\n",
      "At round 209 accuracy: 0.4555256064690027\n",
      "At round 209 training accuracy: 0.4616643291257597\n",
      "At round 209 training loss: 3.0079545141957515\n",
      "At round 209 mean test accuracy: 0.6826318909306461 mean train accuracy: 0.7066791219056515 mean train loss: 1.1167178289778006                     number of test client: 766\n",
      "The client-group discrepancy are: [21.33874942 35.91924119 34.82486084  8.59875012 16.50258983  0.        ]\n",
      "Begin group  0 training\n"
     ]
    },
    {
     "name": "stderr",
     "output_type": "stream",
     "text": [
      "Epoch:   5%|▌         | 1/20 [00:00<00:02,  6.67it/s] "
     ]
    },
    {
     "name": "stdout",
     "output_type": "stream",
     "text": [
      "Begin group  1 training\n"
     ]
    },
    {
     "name": "stderr",
     "output_type": "stream",
     "text": [
      "Epoch:   5%|▌         | 1/20 [00:00<00:02,  6.64it/s] "
     ]
    },
    {
     "name": "stdout",
     "output_type": "stream",
     "text": [
      "Begin group  2 training\n"
     ]
    },
    {
     "name": "stderr",
     "output_type": "stream",
     "text": [
      "Epoch:   0%|          | 0/20 [00:00<?, ?it/s]         "
     ]
    },
    {
     "name": "stdout",
     "output_type": "stream",
     "text": [
      "Begin group  3 training\n"
     ]
    },
    {
     "name": "stderr",
     "output_type": "stream",
     "text": [
      "                                                      \r"
     ]
    },
    {
     "name": "stdout",
     "output_type": "stream",
     "text": [
      "Training groups takes 67.8190324306488s seconds\n",
      "Scheduling clients takes 3.1362738609313965s seconds\n",
      "Group 0, clients ['YourSavvyVA', 'kayasmith', 'Arhum', 'Daddys_pet', 'sophieholly', 'limeice', 'IzzySc']\n",
      "Group 1, clients ['DNiCESEOUL']\n",
      "Group 2, clients ['tynie626', 'lejunkdrawer', 'PercythePigeon', 'Aw_Re_ya_2_', 'ganeshaxi']\n",
      "Group 3, clients ['DirtyRose17', 'sexidance', 'sfgiantsgirl', 'aurihunter', 'gabbydario', 'isdown']\n",
      "Group 4, clients ['damarisens']\n"
     ]
    },
    {
     "name": "stderr",
     "output_type": "stream",
     "text": [
      "Epoch:   5%|▌         | 1/20 [00:00<00:02,  8.80it/s]"
     ]
    },
    {
     "name": "stdout",
     "output_type": "stream",
     "text": [
      "Group 0\n",
      "At round 210 accuracy: 0.6458333333333334\n",
      "At round 210 training accuracy: 0.6698004049754122\n",
      "At round 210 training loss: 1.0111048722363274\n",
      "Group 1\n",
      "At round 210 accuracy: 0.9170731707317074\n",
      "At round 210 training accuracy: 0.9359567901234568\n",
      "At round 210 training loss: 0.4328481546262655\n",
      "Group 2\n",
      "At round 210 accuracy: 0.704824436197545\n",
      "At round 210 training accuracy: 0.7339875646115814\n",
      "At round 210 training loss: 0.9559124101602734\n",
      "Group 3\n",
      "At round 210 accuracy: 0.7440711462450593\n",
      "At round 210 training accuracy: 0.7930317212688508\n",
      "At round 210 training loss: 0.8434530178058817\n",
      "Group 4\n",
      "At round 210 accuracy: 0.4519140989729225\n",
      "At round 210 training accuracy: 0.4543467702768334\n",
      "At round 210 training loss: 3.0562419852702334\n",
      "At round 210 mean test accuracy: 0.6904564315352697 mean train accuracy: 0.7158337225595516 mean train loss: 1.1603204819206794                     number of test client: 766\n",
      "The client-group discrepancy are: [29.71881138 47.18156426  2.33339879 17.95162091 23.5524292  30.69919921]\n",
      "Begin group  0 training\n"
     ]
    },
    {
     "name": "stderr",
     "output_type": "stream",
     "text": [
      "Epoch:   5%|▌         | 1/20 [00:00<00:02,  8.33it/s] "
     ]
    },
    {
     "name": "stdout",
     "output_type": "stream",
     "text": [
      "Begin group  1 training\n"
     ]
    },
    {
     "name": "stderr",
     "output_type": "stream",
     "text": [
      "Epoch:   5%|▌         | 1/20 [00:00<00:02,  6.55it/s] "
     ]
    },
    {
     "name": "stdout",
     "output_type": "stream",
     "text": [
      "Begin group  2 training\n"
     ]
    },
    {
     "name": "stderr",
     "output_type": "stream",
     "text": [
      "Epoch:   5%|▌         | 1/20 [00:00<00:01,  9.81it/s] "
     ]
    },
    {
     "name": "stdout",
     "output_type": "stream",
     "text": [
      "Begin group  3 training\n"
     ]
    },
    {
     "name": "stderr",
     "output_type": "stream",
     "text": [
      "Epoch:   0%|          | 0/20 [00:00<?, ?it/s]         "
     ]
    },
    {
     "name": "stdout",
     "output_type": "stream",
     "text": [
      "Begin group  4 training\n"
     ]
    },
    {
     "name": "stderr",
     "output_type": "stream",
     "text": [
      "                                                      \r"
     ]
    },
    {
     "name": "stdout",
     "output_type": "stream",
     "text": [
      "Training groups takes 60.17080116271973s seconds\n",
      "Scheduling clients takes 3.1874213218688965s seconds\n",
      "Group 0, clients ['nikkimaltby', 'wonderpetunia']\n",
      "Group 1, clients ['tweeteradder3', 'combustiblesong']\n",
      "Group 2, clients ['coliwilso', 'caldjr', 'tweetpet', 'alyb_', 'hemapreya', 'Buildabear96', 'xmiyix', 'tynie626', 'kamiNcali', 'LilahMcfly', 'jenjeahaly']\n",
      "Group 3, clients ['pearlbones', 'BeantownCutie', 'abcdefglynis', 'iheartnynuk', 'MCbutterflyfan']\n",
      "Group 4 is empty.\n"
     ]
    },
    {
     "name": "stderr",
     "output_type": "stream",
     "text": [
      "\r",
      "Epoch:   0%|          | 0/20 [00:00<?, ?it/s]"
     ]
    },
    {
     "name": "stdout",
     "output_type": "stream",
     "text": [
      "Group 0\n",
      "At round 211 accuracy: 0.6637362637362637\n",
      "At round 211 training accuracy: 0.6894652948847994\n",
      "At round 211 training loss: 1.0275802956093758\n",
      "Group 1\n",
      "At round 211 accuracy: 0.918426103646833\n",
      "At round 211 training accuracy: 0.9375631951466128\n",
      "At round 211 training loss: 0.46484272986772496\n",
      "Group 2\n",
      "At round 211 accuracy: 0.6886026323158779\n",
      "At round 211 training accuracy: 0.7247686205376818\n",
      "At round 211 training loss: 0.9072949135419082\n",
      "Group 3\n",
      "At round 211 accuracy: 0.7526165556612749\n",
      "At round 211 training accuracy: 0.7968476357267951\n",
      "At round 211 training loss: 0.8153126216065982\n",
      "Group 4\n",
      "At round 211 accuracy: 0.5825446898002103\n",
      "At round 211 training accuracy: 0.5862352618590623\n",
      "At round 211 training loss: 1.8359317848352144\n",
      "At round 211 mean test accuracy: 0.7076467101363367 mean train accuracy: 0.7366339716643313 mean train loss: 0.9726486121803568                     number of test client: 766\n",
      "The client-group discrepancy are: [25.68338339 30.29287995 28.55471096 20.77220995 33.49563528  0.        ]\n",
      "Begin group  0 training\n"
     ]
    },
    {
     "name": "stderr",
     "output_type": "stream",
     "text": [
      "Epoch:   0%|          | 0/20 [00:00<?, ?it/s]         "
     ]
    },
    {
     "name": "stdout",
     "output_type": "stream",
     "text": [
      "Begin group  1 training\n"
     ]
    },
    {
     "name": "stderr",
     "output_type": "stream",
     "text": [
      "Epoch:   0%|          | 0/20 [00:00<?, ?it/s]         "
     ]
    },
    {
     "name": "stdout",
     "output_type": "stream",
     "text": [
      "Begin group  2 training\n"
     ]
    },
    {
     "name": "stderr",
     "output_type": "stream",
     "text": [
      "Epoch:   0%|          | 0/20 [00:00<?, ?it/s]         "
     ]
    },
    {
     "name": "stdout",
     "output_type": "stream",
     "text": [
      "Begin group  3 training\n"
     ]
    },
    {
     "name": "stderr",
     "output_type": "stream",
     "text": [
      "                                                      \r"
     ]
    },
    {
     "name": "stdout",
     "output_type": "stream",
     "text": [
      "Training groups takes 85.21378540992737s seconds\n",
      "Scheduling clients takes 3.0072004795074463s seconds\n",
      "Group 0, clients ['Broooooke_', 'mcflychloe94', 'valenbfm', 'AndyCarolan', 'littlefluffycat', 'Jenivere', 'Darth_Disco', 'schaeferj89', 'IdolFanatic']\n",
      "Group 1, clients ['chiniehdiaz', 'ddaly9', 'shellrawlins', '_Alectrona_', 'mattdavey2']\n",
      "Group 2, clients ['Christyxcore']\n",
      "Group 3, clients ['MCbutterflyfan', 'BrandyWandLover', 'LorenYxox']\n",
      "Group 4, clients ['alexaherrera', 'bkGirlFriday']\n"
     ]
    },
    {
     "name": "stderr",
     "output_type": "stream",
     "text": [
      "\r",
      "Epoch:   0%|          | 0/20 [00:00<?, ?it/s]"
     ]
    },
    {
     "name": "stdout",
     "output_type": "stream",
     "text": [
      "Group 0\n",
      "At round 212 accuracy: 0.6650968079539508\n",
      "At round 212 training accuracy: 0.6764543700027571\n",
      "At round 212 training loss: 1.3092383062296866\n",
      "Group 1\n",
      "At round 212 accuracy: 0.9205909510618652\n",
      "At round 212 training accuracy: 0.9373938364474642\n",
      "At round 212 training loss: 0.42264757304481115\n",
      "Group 2\n",
      "At round 212 accuracy: 0.5684240852780179\n",
      "At round 212 training accuracy: 0.5888225062391288\n",
      "At round 212 training loss: 1.7947736023857805\n",
      "Group 3\n",
      "At round 212 accuracy: 0.7392959086584205\n",
      "At round 212 training accuracy: 0.7985989492119089\n",
      "At round 212 training loss: 0.8279815119800007\n",
      "Group 4\n",
      "At round 212 accuracy: 0.594855305466238\n",
      "At round 212 training accuracy: 0.5962506994963627\n",
      "At round 212 training loss: 1.742185209357666\n",
      "At round 212 mean test accuracy: 0.6596046869452006 mean train accuracy: 0.6801268301781218 mean train loss: 1.3835446767970205                     number of test client: 768\n",
      "The client-group discrepancy are: [37.78874367 44.06517135 35.12209204 55.19099388  8.29998679 51.7434584 ]\n",
      "Begin group  0 training\n"
     ]
    },
    {
     "name": "stderr",
     "output_type": "stream",
     "text": [
      "Epoch:   0%|          | 0/20 [00:00<?, ?it/s]         "
     ]
    },
    {
     "name": "stdout",
     "output_type": "stream",
     "text": [
      "Begin group  1 training\n"
     ]
    },
    {
     "name": "stderr",
     "output_type": "stream",
     "text": [
      "Epoch:   5%|▌         | 1/20 [00:00<00:01,  9.53it/s] "
     ]
    },
    {
     "name": "stdout",
     "output_type": "stream",
     "text": [
      "Begin group  2 training\n"
     ]
    },
    {
     "name": "stderr",
     "output_type": "stream",
     "text": [
      "Epoch:   5%|▌         | 1/20 [00:00<00:03,  6.07it/s] "
     ]
    },
    {
     "name": "stdout",
     "output_type": "stream",
     "text": [
      "Begin group  3 training\n"
     ]
    },
    {
     "name": "stderr",
     "output_type": "stream",
     "text": [
      "Epoch:   5%|▌         | 1/20 [00:00<00:02,  8.84it/s] "
     ]
    },
    {
     "name": "stdout",
     "output_type": "stream",
     "text": [
      "Begin group  4 training\n"
     ]
    },
    {
     "name": "stderr",
     "output_type": "stream",
     "text": [
      "                                                      \r"
     ]
    },
    {
     "name": "stdout",
     "output_type": "stream",
     "text": [
      "Training groups takes 81.42541337013245s seconds\n",
      "Scheduling clients takes 3.026644706726074s seconds\n",
      "Group 0, clients ['Commsguy', 'LittleLiverbird', 'amilya', 'JazzBANGER', 'xamylouise', 'KellyG5', 'xoxmillyxox', 'gracieh89', 'life_afairytale', 'briethehippo']\n",
      "Group 1, clients ['traciknoppe', 'elocio']\n",
      "Group 2, clients ['hanaames', 'ksekher']\n",
      "Group 3, clients ['kels450', 'Cass_fryer', 'haselhurst', 'atkailash', 'rorambenjimouse']\n",
      "Group 4, clients ['SarcasticFairy']\n"
     ]
    },
    {
     "name": "stderr",
     "output_type": "stream",
     "text": [
      "Epoch:   5%|▌         | 1/20 [00:00<00:01,  9.51it/s]"
     ]
    },
    {
     "name": "stdout",
     "output_type": "stream",
     "text": [
      "Group 0\n",
      "At round 213 accuracy: 0.6731634182908546\n",
      "At round 213 training accuracy: 0.6779326670173593\n",
      "At round 213 training loss: 1.1101353822118245\n",
      "Group 1\n",
      "At round 213 accuracy: 0.918423464711274\n",
      "At round 213 training accuracy: 0.930843373493976\n",
      "At round 213 training loss: 0.3249630314552264\n",
      "Group 2\n",
      "At round 213 accuracy: 0.5772767724710768\n",
      "At round 213 training accuracy: 0.5921052631578947\n",
      "At round 213 training loss: 1.8572125292288109\n",
      "Group 3\n",
      "At round 213 accuracy: 0.72803738317757\n",
      "At round 213 training accuracy: 0.7839233038348082\n",
      "At round 213 training loss: 0.9061077138049127\n",
      "Group 4\n",
      "At round 213 accuracy: 0.6091703056768559\n",
      "At round 213 training accuracy: 0.6340279760205538\n",
      "At round 213 training loss: 1.4266437787837511\n",
      "At round 213 mean test accuracy: 0.6665877618653095 mean train accuracy: 0.6849140476856601 mean train loss: 1.3157910749209056                     number of test client: 768\n",
      "The client-group discrepancy are: [41.10242738 50.67355756 51.37325832 10.33132388 26.35121249 60.14774512]\n",
      "Begin group  0 training\n"
     ]
    },
    {
     "name": "stderr",
     "output_type": "stream",
     "text": [
      "Epoch:   5%|▌         | 1/20 [00:00<00:02,  6.90it/s] "
     ]
    },
    {
     "name": "stdout",
     "output_type": "stream",
     "text": [
      "Begin group  1 training\n"
     ]
    },
    {
     "name": "stderr",
     "output_type": "stream",
     "text": [
      "Epoch:   5%|▌         | 1/20 [00:00<00:02,  9.25it/s] "
     ]
    },
    {
     "name": "stdout",
     "output_type": "stream",
     "text": [
      "Begin group  2 training\n"
     ]
    },
    {
     "name": "stderr",
     "output_type": "stream",
     "text": [
      "Epoch:   5%|▌         | 1/20 [00:00<00:01,  9.73it/s] "
     ]
    },
    {
     "name": "stdout",
     "output_type": "stream",
     "text": [
      "Begin group  3 training\n"
     ]
    },
    {
     "name": "stderr",
     "output_type": "stream",
     "text": [
      "Epoch:   5%|▌         | 1/20 [00:00<00:03,  5.59it/s] "
     ]
    },
    {
     "name": "stdout",
     "output_type": "stream",
     "text": [
      "Begin group  4 training\n"
     ]
    },
    {
     "name": "stderr",
     "output_type": "stream",
     "text": [
      "                                                      \r"
     ]
    },
    {
     "name": "stdout",
     "output_type": "stream",
     "text": [
      "Training groups takes 66.66524386405945s seconds\n",
      "Scheduling clients takes 3.0207557678222656s seconds\n",
      "Group 0, clients ['mizsedz', 'jj38girl', 'McDayDreamer', 'enked', 'Keels_90', 'TeamUKskyvixen', 'caldjr']\n",
      "Group 1, clients ['PaulCarterJr', 'authenticstyle', 'SandiNJ', 'imnangl', 'TinchenFFM']\n",
      "Group 2, clients ['Spidersamm']\n",
      "Group 3, clients ['olivia_15', 'PinkTribble']\n",
      "Group 4, clients ['nathanrdotca', 'Mixaelala', 'abbyavaryxo', 'maddisondesigns', 'eboogiee']\n"
     ]
    },
    {
     "name": "stderr",
     "output_type": "stream",
     "text": [
      "\r",
      "Epoch:   0%|          | 0/20 [00:00<?, ?it/s]"
     ]
    },
    {
     "name": "stdout",
     "output_type": "stream",
     "text": [
      "Group 0\n",
      "At round 214 accuracy: 0.6781836130306022\n",
      "At round 214 training accuracy: 0.6836363636363636\n",
      "At round 214 training loss: 1.2786379590099557\n",
      "Group 1\n",
      "At round 214 accuracy: 0.9162162162162162\n",
      "At round 214 training accuracy: 0.9353540137343122\n",
      "At round 214 training loss: 0.35410518844125743\n",
      "Group 2\n",
      "At round 214 accuracy: 0.6163884673748103\n",
      "At round 214 training accuracy: 0.6358929424884499\n",
      "At round 214 training loss: 1.3047615150685212\n",
      "Group 3\n",
      "At round 214 accuracy: 0.7532710280373832\n",
      "At round 214 training accuracy: 0.7999016715830876\n",
      "At round 214 training loss: 0.893690210685302\n",
      "Group 4\n",
      "At round 214 accuracy: 0.5821989528795811\n",
      "At round 214 training accuracy: 0.6082785087719298\n",
      "At round 214 training loss: 1.5487731817614219\n",
      "At round 214 mean test accuracy: 0.6840113528855251 mean train accuracy: 0.7041903519398627 mean train loss: 1.1495148292941875                     number of test client: 769\n",
      "The client-group discrepancy are: [36.16280507 42.70465488 21.62620788 16.29437325  6.41342152 57.41425229]\n",
      "Begin group  0 training\n"
     ]
    },
    {
     "name": "stderr",
     "output_type": "stream",
     "text": [
      "Epoch:   5%|▌         | 1/20 [00:00<00:02,  7.72it/s] "
     ]
    },
    {
     "name": "stdout",
     "output_type": "stream",
     "text": [
      "Begin group  1 training\n"
     ]
    },
    {
     "name": "stderr",
     "output_type": "stream",
     "text": [
      "Epoch:   0%|          | 0/20 [00:00<?, ?it/s]         "
     ]
    },
    {
     "name": "stdout",
     "output_type": "stream",
     "text": [
      "Begin group  2 training\n"
     ]
    },
    {
     "name": "stderr",
     "output_type": "stream",
     "text": [
      "Epoch:   0%|          | 0/20 [00:00<?, ?it/s]         "
     ]
    },
    {
     "name": "stdout",
     "output_type": "stream",
     "text": [
      "Begin group  3 training\n"
     ]
    },
    {
     "name": "stderr",
     "output_type": "stream",
     "text": [
      "Epoch:   5%|▌         | 1/20 [00:00<00:03,  5.56it/s] "
     ]
    },
    {
     "name": "stdout",
     "output_type": "stream",
     "text": [
      "Begin group  4 training\n"
     ]
    },
    {
     "name": "stderr",
     "output_type": "stream",
     "text": [
      "                                                      \r"
     ]
    },
    {
     "name": "stdout",
     "output_type": "stream",
     "text": [
      "Training groups takes 73.36383533477783s seconds\n",
      "Scheduling clients takes 3.018301248550415s seconds\n",
      "Group 0, clients ['FakerParis', 'frankparker', 'Sazchik', 'bacieabbracci', 'markable', 'AlexLJ']\n",
      "Group 1, clients ['skribe']\n",
      "Group 2, clients ['Japh', 'Christyxcore']\n",
      "Group 3, clients ['haselhurst', 'uyennguyen_']\n",
      "Group 4, clients ['bkGirlFriday', 'AreonLee', 'Bopsicle', 'socilover', 'michellecpa', 'hannah106', 'CannonGod', 'AmyAllTimeLow', 'Froosh']\n"
     ]
    },
    {
     "name": "stderr",
     "output_type": "stream",
     "text": [
      "\r",
      "Epoch:   0%|          | 0/20 [00:00<?, ?it/s]"
     ]
    },
    {
     "name": "stdout",
     "output_type": "stream",
     "text": [
      "Group 0\n",
      "At round 215 accuracy: 0.6663414634146342\n",
      "At round 215 training accuracy: 0.6795069337442219\n",
      "At round 215 training loss: 1.563834175885528\n",
      "Group 1\n",
      "At round 215 accuracy: 0.9210526315789473\n",
      "At round 215 training accuracy: 0.9394372913686219\n",
      "At round 215 training loss: 0.41222219813192745\n",
      "Group 2\n",
      "At round 215 accuracy: 0.660853316723762\n",
      "At round 215 training accuracy: 0.6934706218844489\n",
      "At round 215 training loss: 1.5766938796921985\n",
      "Group 3\n",
      "At round 215 accuracy: 0.7365945437441204\n",
      "At round 215 training accuracy: 0.7852016827517941\n",
      "At round 215 training loss: 0.7387388870193798\n",
      "Group 4\n",
      "At round 215 accuracy: 0.6213592233009708\n",
      "At round 215 training accuracy: 0.6290363590134758\n",
      "At round 215 training loss: 0.9379322359406127\n",
      "At round 215 mean test accuracy: 0.7008041627246925 mean train accuracy: 0.7257788960332991 mean train loss: 1.2386585528827687                     number of test client: 769\n",
      "The client-group discrepancy are: [40.23329461 48.41696224  8.97277396  9.64367969  5.23174499 52.82672172]\n",
      "Begin group  0 training\n"
     ]
    },
    {
     "name": "stderr",
     "output_type": "stream",
     "text": [
      "Epoch:   5%|▌         | 1/20 [00:00<00:02,  8.45it/s] "
     ]
    },
    {
     "name": "stdout",
     "output_type": "stream",
     "text": [
      "Begin group  1 training\n"
     ]
    },
    {
     "name": "stderr",
     "output_type": "stream",
     "text": [
      "Epoch:   5%|▌         | 1/20 [00:00<00:02,  9.15it/s] "
     ]
    },
    {
     "name": "stdout",
     "output_type": "stream",
     "text": [
      "Begin group  2 training\n"
     ]
    },
    {
     "name": "stderr",
     "output_type": "stream",
     "text": [
      "Epoch:   5%|▌         | 1/20 [00:00<00:03,  5.69it/s] "
     ]
    },
    {
     "name": "stdout",
     "output_type": "stream",
     "text": [
      "Begin group  3 training\n"
     ]
    },
    {
     "name": "stderr",
     "output_type": "stream",
     "text": [
      "Epoch:   5%|▌         | 1/20 [00:00<00:02,  9.07it/s] "
     ]
    },
    {
     "name": "stdout",
     "output_type": "stream",
     "text": [
      "Begin group  4 training\n"
     ]
    },
    {
     "name": "stderr",
     "output_type": "stream",
     "text": [
      "                                                      \r"
     ]
    },
    {
     "name": "stdout",
     "output_type": "stream",
     "text": [
      "Training groups takes 56.71990776062012s seconds\n",
      "Scheduling clients takes 3.0903730392456055s seconds\n",
      "Group 0, clients ['Lil_Miss_Clumsy', 'sarasmile13', 'sheryonstone']\n",
      "Group 1, clients ['SusanCosmos', 'LadyParadis']\n",
      "Group 2, clients ['IzzySc', 'melz0812']\n",
      "Group 3, clients ['typezero3', 'Ingenue_Em']\n",
      "Group 4, clients ['xohanna', 'PegasusAngel', 'JBnVFCLover786', 'xdevinnbabyy', 'harisn', 'lucyntn', 'AreonLee', 'bkGirlFriday', 'JoReynolds55', 'hortovanyi', 'DubarryMcfly']\n"
     ]
    },
    {
     "name": "stderr",
     "output_type": "stream",
     "text": [
      "\r",
      "Epoch:   0%|          | 0/20 [00:00<?, ?it/s]"
     ]
    },
    {
     "name": "stdout",
     "output_type": "stream",
     "text": [
      "Group 0\n",
      "At round 216 accuracy: 0.6563421828908554\n",
      "At round 216 training accuracy: 0.6656755009696186\n",
      "At round 216 training loss: 1.4342404873166943\n",
      "Group 1\n",
      "At round 216 accuracy: 0.9219600725952813\n",
      "At round 216 training accuracy: 0.9396757272293753\n",
      "At round 216 training loss: 0.42931232865704133\n",
      "Group 2\n",
      "At round 216 accuracy: 0.6421815889029003\n",
      "At round 216 training accuracy: 0.6814232519652462\n",
      "At round 216 training loss: 1.4976695837405998\n",
      "Group 3\n",
      "At round 216 accuracy: 0.7466019417475728\n",
      "At round 216 training accuracy: 0.8008182050626438\n",
      "At round 216 training loss: 0.8744209806954646\n",
      "Group 4\n",
      "At round 216 accuracy: 0.6135957066189625\n",
      "At round 216 training accuracy: 0.6216026241799437\n",
      "At round 216 training loss: 0.8887016970416376\n",
      "At round 216 mean test accuracy: 0.6909886471144749 mean train accuracy: 0.7178579194234772 mean train loss: 1.1867972010611338                     number of test client: 769\n",
      "The client-group discrepancy are: [36.16842697 42.39888807  4.19897675 35.29361608 12.14866283 44.80812398]\n",
      "Begin group  0 training\n"
     ]
    },
    {
     "name": "stderr",
     "output_type": "stream",
     "text": [
      "Epoch:   5%|▌         | 1/20 [00:00<00:02,  8.60it/s] "
     ]
    },
    {
     "name": "stdout",
     "output_type": "stream",
     "text": [
      "Begin group  1 training\n"
     ]
    },
    {
     "name": "stderr",
     "output_type": "stream",
     "text": [
      "Epoch:   5%|▌         | 1/20 [00:00<00:02,  8.78it/s] "
     ]
    },
    {
     "name": "stdout",
     "output_type": "stream",
     "text": [
      "Begin group  2 training\n"
     ]
    },
    {
     "name": "stderr",
     "output_type": "stream",
     "text": [
      "Epoch:   5%|▌         | 1/20 [00:00<00:02,  7.36it/s] "
     ]
    },
    {
     "name": "stdout",
     "output_type": "stream",
     "text": [
      "Begin group  3 training\n"
     ]
    },
    {
     "name": "stderr",
     "output_type": "stream",
     "text": [
      "Epoch:   5%|▌         | 1/20 [00:00<00:02,  6.85it/s] "
     ]
    },
    {
     "name": "stdout",
     "output_type": "stream",
     "text": [
      "Begin group  4 training\n"
     ]
    },
    {
     "name": "stderr",
     "output_type": "stream",
     "text": [
      "                                                      \r"
     ]
    },
    {
     "name": "stdout",
     "output_type": "stream",
     "text": [
      "Training groups takes 65.19361162185669s seconds\n",
      "Scheduling clients takes 2.982900619506836s seconds\n",
      "Group 0, clients ['tamaryn', 'dannybrown', 'TinaS71', 'youroryoure', '30STMluva', 'perpetualspiral', 'toosweet4rnr']\n",
      "Group 1, clients ['imnangl', 'TinchenFFM']\n",
      "Group 2, clients ['tifpez', 'amberwhiting']\n",
      "Group 3, clients ['kittenspawn', 'PrincessSakura']\n",
      "Group 4, clients ['krystinascott', 'Bopsicle', 'Keels_90', 'debbier93', 'AlluringBri', 'webmaster_paul', 'gobullet']\n"
     ]
    },
    {
     "name": "stderr",
     "output_type": "stream",
     "text": [
      "Epoch:   5%|▌         | 1/20 [00:00<00:02,  9.24it/s]"
     ]
    },
    {
     "name": "stdout",
     "output_type": "stream",
     "text": [
      "Group 0\n",
      "At round 217 accuracy: 0.6393837265286471\n",
      "At round 217 training accuracy: 0.6480121549759432\n",
      "At round 217 training loss: 1.8691474303405688\n",
      "Group 1\n",
      "At round 217 accuracy: 0.9211502782931354\n",
      "At round 217 training accuracy: 0.9390541199414919\n",
      "At round 217 training loss: 0.44147450063775495\n",
      "Group 2\n",
      "At round 217 accuracy: 0.6905142127115937\n",
      "At round 217 training accuracy: 0.7221430368072441\n",
      "At round 217 training loss: 1.3570217585125617\n",
      "Group 3\n",
      "At round 217 accuracy: 0.6676272814601345\n",
      "At round 217 training accuracy: 0.7150442477876107\n",
      "At round 217 training loss: 1.0093171887617798\n",
      "Group 4\n",
      "At round 217 accuracy: 0.6093888396811338\n",
      "At round 217 training accuracy: 0.6316399907214103\n",
      "At round 217 training loss: 1.1411961116721088\n",
      "At round 217 mean test accuracy: 0.6937086092715232 mean train accuracy: 0.7186034231044016 mean train loss: 1.2943869549031313                     number of test client: 769\n",
      "The client-group discrepancy are: [35.61250783 48.08626398  0.2839048   9.94634394 32.12228229 41.56303525]\n",
      "Begin group  0 training\n"
     ]
    },
    {
     "name": "stderr",
     "output_type": "stream",
     "text": [
      "Epoch:   5%|▌         | 1/20 [00:00<00:02,  7.34it/s] "
     ]
    },
    {
     "name": "stdout",
     "output_type": "stream",
     "text": [
      "Begin group  1 training\n"
     ]
    },
    {
     "name": "stderr",
     "output_type": "stream",
     "text": [
      "Epoch:   5%|▌         | 1/20 [00:00<00:02,  8.97it/s] "
     ]
    },
    {
     "name": "stdout",
     "output_type": "stream",
     "text": [
      "Begin group  2 training\n"
     ]
    },
    {
     "name": "stderr",
     "output_type": "stream",
     "text": [
      "Epoch:   5%|▌         | 1/20 [00:00<00:02,  6.63it/s] "
     ]
    },
    {
     "name": "stdout",
     "output_type": "stream",
     "text": [
      "Begin group  3 training\n"
     ]
    },
    {
     "name": "stderr",
     "output_type": "stream",
     "text": [
      "Epoch:   5%|▌         | 1/20 [00:00<00:02,  6.91it/s] "
     ]
    },
    {
     "name": "stdout",
     "output_type": "stream",
     "text": [
      "Begin group  4 training\n"
     ]
    },
    {
     "name": "stderr",
     "output_type": "stream",
     "text": [
      "                                                      \r"
     ]
    },
    {
     "name": "stdout",
     "output_type": "stream",
     "text": [
      "Training groups takes 63.776092290878296s seconds\n",
      "Scheduling clients takes 2.942718267440796s seconds\n",
      "Group 0, clients ['jj38girl', 'MacSheikh', 'scarletmandy', 'hemapreya']\n",
      "Group 1, clients ['DaPrbmChild']\n",
      "Group 2, clients ['ksekher', 'CaraNinaMcfly', 'katementon', 'DWsRoseC', 'IvanaE', 'kwells2416']\n",
      "Group 3, clients ['weelissa', 'Cass_fryer']\n",
      "Group 4, clients ['AllTheSausages', 'Kitt69', 'feelme', 'gabysslave', 'amilya', 'xoCAZZA', 'caseysevenfold']\n"
     ]
    },
    {
     "name": "stderr",
     "output_type": "stream",
     "text": [
      "Epoch:   5%|▌         | 1/20 [00:00<00:02,  8.85it/s]"
     ]
    },
    {
     "name": "stdout",
     "output_type": "stream",
     "text": [
      "Group 0\n",
      "At round 218 accuracy: 0.6466019417475728\n",
      "At round 218 training accuracy: 0.6581938944948269\n",
      "At round 218 training loss: 1.861714158529614\n",
      "Group 1\n",
      "At round 218 accuracy: 0.922077922077922\n",
      "At round 218 training accuracy: 0.9400292540224281\n",
      "At round 218 training loss: 0.4724527910899958\n",
      "Group 2\n",
      "At round 218 accuracy: 0.6407204889031843\n",
      "At round 218 training accuracy: 0.6822327309576085\n",
      "At round 218 training loss: 1.1500299539949421\n",
      "Group 3\n",
      "At round 218 accuracy: 0.7300796812749004\n",
      "At round 218 training accuracy: 0.7579968536969062\n",
      "At round 218 training loss: 0.9965205265645682\n",
      "Group 4\n",
      "At round 218 accuracy: 0.6298755186721992\n",
      "At round 218 training accuracy: 0.6569691706469822\n",
      "At round 218 training loss: 1.0388468638659163\n",
      "At round 218 mean test accuracy: 0.6870860927152318 mean train accuracy: 0.7145963408194328 mean train loss: 1.2026736916308294                     number of test client: 769\n",
      "The client-group discrepancy are: [40.28718751 43.51341046  3.23295223 32.63854309  9.1994834  59.17527582]\n",
      "Begin group  0 training\n"
     ]
    },
    {
     "name": "stderr",
     "output_type": "stream",
     "text": [
      "Epoch:   5%|▌         | 1/20 [00:00<00:01,  9.55it/s] "
     ]
    },
    {
     "name": "stdout",
     "output_type": "stream",
     "text": [
      "Begin group  1 training\n"
     ]
    },
    {
     "name": "stderr",
     "output_type": "stream",
     "text": [
      "Epoch:   0%|          | 0/20 [00:00<?, ?it/s]         "
     ]
    },
    {
     "name": "stdout",
     "output_type": "stream",
     "text": [
      "Begin group  2 training\n"
     ]
    },
    {
     "name": "stderr",
     "output_type": "stream",
     "text": [
      "Epoch:   5%|▌         | 1/20 [00:00<00:01,  9.55it/s] "
     ]
    },
    {
     "name": "stdout",
     "output_type": "stream",
     "text": [
      "Begin group  3 training\n"
     ]
    },
    {
     "name": "stderr",
     "output_type": "stream",
     "text": [
      "Epoch:   5%|▌         | 1/20 [00:00<00:02,  8.27it/s] "
     ]
    },
    {
     "name": "stdout",
     "output_type": "stream",
     "text": [
      "Begin group  4 training\n"
     ]
    },
    {
     "name": "stderr",
     "output_type": "stream",
     "text": [
      "                                                      \r"
     ]
    },
    {
     "name": "stdout",
     "output_type": "stream",
     "text": [
      "Training groups takes 66.11557698249817s seconds\n",
      "Scheduling clients takes 2.8304665088653564s seconds\n",
      "Group 0, clients ['scarletmandy', 'MrFlossy']\n",
      "Group 1, clients ['syarif_m2e', 'holidaycarclub']\n",
      "Group 2, clients ['vickyjones91', 'Arti_Sodmg', 'sexidance']\n",
      "Group 3, clients ['Cass_fryer']\n",
      "Group 4, clients ['lauralovesart', 'Deejaywilliams', 'YoungA2985', 'jun6lee', 'txcranberry', 'xmiyix', 'antzpantz', 'Bia_Loves_NKOTB', 'DanielJUK', 'IdolFanatic', 'Froosh', 'AshyJonas']\n"
     ]
    },
    {
     "name": "stderr",
     "output_type": "stream",
     "text": [
      "\r",
      "Epoch:   0%|          | 0/20 [00:00<?, ?it/s]"
     ]
    },
    {
     "name": "stdout",
     "output_type": "stream",
     "text": [
      "Group 0\n",
      "At round 219 accuracy: 0.6567015445939213\n",
      "At round 219 training accuracy: 0.6682824577492467\n",
      "At round 219 training loss: 1.721449047267835\n",
      "Group 1\n",
      "At round 219 accuracy: 0.9230055658627088\n",
      "At round 219 training accuracy: 0.9412481716235982\n",
      "At round 219 training loss: 0.4866247924495246\n",
      "Group 2\n",
      "At round 219 accuracy: 0.5587568792489479\n",
      "At round 219 training accuracy: 0.5915852103697408\n",
      "At round 219 training loss: 1.5481884243501105\n",
      "Group 3\n",
      "At round 219 accuracy: 0.7436676798378926\n",
      "At round 219 training accuracy: 0.7729816147082335\n",
      "At round 219 training loss: 1.1277930542227113\n",
      "Group 4\n",
      "At round 219 accuracy: 0.6501930501930502\n",
      "At round 219 training accuracy: 0.6795546558704454\n",
      "At round 219 training loss: 0.9006539857892135\n",
      "At round 219 mean test accuracy: 0.6640255439924314 mean train accuracy: 0.6889696517876557 mean train loss: 1.3056326006025822                     number of test client: 769\n",
      "The client-group discrepancy are: [43.02441038 28.51437936  8.29760699 57.57679334  0.92358607 51.10085574]\n",
      "Begin group  0 training\n"
     ]
    },
    {
     "name": "stderr",
     "output_type": "stream",
     "text": [
      "Epoch:   0%|          | 0/20 [00:00<?, ?it/s]         "
     ]
    },
    {
     "name": "stdout",
     "output_type": "stream",
     "text": [
      "Begin group  1 training\n"
     ]
    },
    {
     "name": "stderr",
     "output_type": "stream",
     "text": [
      "Epoch:   0%|          | 0/20 [00:00<?, ?it/s]         "
     ]
    },
    {
     "name": "stdout",
     "output_type": "stream",
     "text": [
      "Begin group  2 training\n"
     ]
    },
    {
     "name": "stderr",
     "output_type": "stream",
     "text": [
      "Epoch:   5%|▌         | 1/20 [00:00<00:02,  6.34it/s] "
     ]
    },
    {
     "name": "stdout",
     "output_type": "stream",
     "text": [
      "Begin group  3 training\n"
     ]
    },
    {
     "name": "stderr",
     "output_type": "stream",
     "text": [
      "Epoch:   5%|▌         | 1/20 [00:00<00:02,  6.41it/s] "
     ]
    },
    {
     "name": "stdout",
     "output_type": "stream",
     "text": [
      "Begin group  4 training\n"
     ]
    },
    {
     "name": "stderr",
     "output_type": "stream",
     "text": [
      "                                                      \r"
     ]
    },
    {
     "name": "stdout",
     "output_type": "stream",
     "text": [
      "Training groups takes 62.93121600151062s seconds\n",
      "Scheduling clients takes 3.0759754180908203s seconds\n",
      "Group 0, clients ['PaulHarriott', 'christinawrites', 'mneylon']\n",
      "Group 1, clients ['tweeteradder2', 'RabbiShaiSpecht']\n",
      "Group 2, clients ['brightondoll', 'sexidance', 'DWsRoseC', 'Nikkers', 'guilty_', 'haselhurst']\n",
      "Group 3, clients ['lawschoolninja']\n",
      "Group 4, clients ['cavorting', 'SarcasticFairy', 'mrpower', 'anambanana', 'tweetieelovee', 'OMGitsJessieLee', 'loving_my_DEW', 'fuseboxradio']\n"
     ]
    },
    {
     "name": "stderr",
     "output_type": "stream",
     "text": [
      "\r",
      "Epoch:   0%|          | 0/20 [00:00<?, ?it/s]"
     ]
    },
    {
     "name": "stdout",
     "output_type": "stream",
     "text": [
      "Group 0\n",
      "At round 220 accuracy: 0.6519364448857994\n",
      "At round 220 training accuracy: 0.6558297427862645\n",
      "At round 220 training loss: 1.6383678426698312\n",
      "Group 1\n",
      "At round 220 accuracy: 0.924860853432282\n",
      "At round 220 training accuracy: 0.9422092172640819\n",
      "At round 220 training loss: 0.4821547925380956\n",
      "Group 2\n",
      "At round 220 accuracy: 0.48339973439575035\n",
      "At round 220 training accuracy: 0.499390243902439\n",
      "At round 220 training loss: 1.3761669170773403\n",
      "Group 3\n",
      "At round 220 accuracy: 0.7372708757637475\n",
      "At round 220 training accuracy: 0.7733118971061094\n",
      "At round 220 training loss: 1.242075176017298\n",
      "Group 4\n",
      "At round 220 accuracy: 0.6437956204379562\n",
      "At round 220 training accuracy: 0.6588776096533231\n",
      "At round 220 training loss: 1.0732907012675894\n",
      "At round 220 mean test accuracy: 0.6352885525070956 mean train accuracy: 0.6506383375267916 mean train loss: 1.2599958881579683                     number of test client: 769\n",
      "The client-group discrepancy are: [35.94178959 39.36628585 26.1149212  18.49106128 54.91042148 47.83128784]\n",
      "Begin group  0 training\n"
     ]
    },
    {
     "name": "stderr",
     "output_type": "stream",
     "text": [
      "Epoch:   0%|          | 0/20 [00:00<?, ?it/s]         "
     ]
    },
    {
     "name": "stdout",
     "output_type": "stream",
     "text": [
      "Begin group  1 training\n"
     ]
    },
    {
     "name": "stderr",
     "output_type": "stream",
     "text": [
      "Epoch:   0%|          | 0/20 [00:00<?, ?it/s]         "
     ]
    },
    {
     "name": "stdout",
     "output_type": "stream",
     "text": [
      "Begin group  2 training\n"
     ]
    },
    {
     "name": "stderr",
     "output_type": "stream",
     "text": [
      "Epoch:   5%|▌         | 1/20 [00:00<00:02,  8.60it/s] "
     ]
    },
    {
     "name": "stdout",
     "output_type": "stream",
     "text": [
      "Begin group  3 training\n"
     ]
    },
    {
     "name": "stderr",
     "output_type": "stream",
     "text": [
      "Epoch:   0%|          | 0/20 [00:00<?, ?it/s]         "
     ]
    },
    {
     "name": "stdout",
     "output_type": "stream",
     "text": [
      "Begin group  4 training\n"
     ]
    },
    {
     "name": "stderr",
     "output_type": "stream",
     "text": [
      "                                                      \r"
     ]
    },
    {
     "name": "stdout",
     "output_type": "stream",
     "text": [
      "Training groups takes 67.76519203186035s seconds\n",
      "Scheduling clients takes 2.91359281539917s seconds\n",
      "Group 0, clients ['MiraCraigFan', 'Gillian_CC', 'karenstrunks', 'JazzBANGER', 'adlyman', 'christinawrites', 'martinpolley']\n",
      "Group 1, clients ['BostinBloke']\n",
      "Group 2, clients ['SheBeeGee', 'eysies', '_scene_queen_', 'annzoo', 'm0po']\n",
      "Group 3 is empty.\n",
      "Group 4, clients ['LauraLxox', 'johnhood', 'paigeebaby', 'MelFresh27', 'vesula', 'irishsamom', 'Impala_Guy']\n"
     ]
    },
    {
     "name": "stderr",
     "output_type": "stream",
     "text": [
      "Epoch:   5%|▌         | 1/20 [00:00<00:01,  9.74it/s]"
     ]
    },
    {
     "name": "stdout",
     "output_type": "stream",
     "text": [
      "Group 0\n",
      "At round 221 accuracy: 0.6775450560155869\n",
      "At round 221 training accuracy: 0.6824177231399667\n",
      "At round 221 training loss: 1.4387471429354377\n",
      "Group 1\n",
      "At round 221 accuracy: 0.9289719626168225\n",
      "At round 221 training accuracy: 0.9447445972495089\n",
      "At round 221 training loss: 0.5041629944195288\n",
      "Group 2\n",
      "At round 221 accuracy: 0.5444330949948928\n",
      "At round 221 training accuracy: 0.559685489635454\n",
      "At round 221 training loss: 1.5545174727603137\n",
      "Group 3\n",
      "At round 221 accuracy: 0.6899383983572895\n",
      "At round 221 training accuracy: 0.7261679719146638\n",
      "At round 221 training loss: 1.049733755057147\n",
      "Group 4\n",
      "At round 221 accuracy: 0.6033755274261603\n",
      "At round 221 training accuracy: 0.6368838840686727\n",
      "At round 221 training loss: 1.008919436289289\n",
      "At round 221 mean test accuracy: 0.652081362346263 mean train accuracy: 0.6703009971111732 mean train loss: 1.2437103839017265                     number of test client: 769\n",
      "The client-group discrepancy are: [43.24119323 38.91970548 53.89584532 24.07006725  0.         59.73424924]\n",
      "Begin group  0 training\n"
     ]
    },
    {
     "name": "stderr",
     "output_type": "stream",
     "text": [
      "Epoch:   5%|▌         | 1/20 [00:00<00:03,  6.31it/s] "
     ]
    },
    {
     "name": "stdout",
     "output_type": "stream",
     "text": [
      "Begin group  1 training\n"
     ]
    },
    {
     "name": "stderr",
     "output_type": "stream",
     "text": [
      "Epoch:   5%|▌         | 1/20 [00:00<00:02,  8.29it/s] "
     ]
    },
    {
     "name": "stdout",
     "output_type": "stream",
     "text": [
      "Begin group  2 training\n"
     ]
    },
    {
     "name": "stderr",
     "output_type": "stream",
     "text": [
      "Epoch:   5%|▌         | 1/20 [00:00<00:02,  8.15it/s] "
     ]
    },
    {
     "name": "stdout",
     "output_type": "stream",
     "text": [
      "Begin group  4 training\n"
     ]
    },
    {
     "name": "stderr",
     "output_type": "stream",
     "text": [
      "                                                      \r"
     ]
    },
    {
     "name": "stdout",
     "output_type": "stream",
     "text": [
      "Training groups takes 58.44468879699707s seconds\n",
      "Scheduling clients takes 3.1898183822631836s seconds\n",
      "Group 0, clients ['ponor', 'adlyman', 'christinawrites', 'sarahlay']\n",
      "Group 1, clients ['TinchenFFM', 'chaosbot']\n",
      "Group 2, clients ['TeeQ2', 'AlyssaNoelleD', 'MrTHill']\n",
      "Group 3, clients ['purplepleather']\n",
      "Group 4, clients ['DanielJUK', 'Darth_Disco', 'MTVnHollyWEST23', 'hanaames', 'Monicarrrr', 'jenjeahaly', 'thalovebug', 'joshuar1313', 'kat_n', 'gracieh89']\n"
     ]
    },
    {
     "name": "stderr",
     "output_type": "stream",
     "text": [
      "Epoch:   5%|▌         | 1/20 [00:00<00:01,  9.98it/s]"
     ]
    },
    {
     "name": "stdout",
     "output_type": "stream",
     "text": [
      "Group 0\n",
      "At round 222 accuracy: 0.6860809476801579\n",
      "At round 222 training accuracy: 0.6967691708836123\n",
      "At round 222 training loss: 1.3555205159370287\n",
      "Group 1\n",
      "At round 222 accuracy: 0.922429906542056\n",
      "At round 222 training accuracy: 0.9420432220039293\n",
      "At round 222 training loss: 0.3455427358751435\n",
      "Group 2\n",
      "At round 222 accuracy: 0.5624128312412832\n",
      "At round 222 training accuracy: 0.596044680461454\n",
      "At round 222 training loss: 1.6576384360926057\n",
      "Group 3\n",
      "At round 222 accuracy: 0.6854166666666667\n",
      "At round 222 training accuracy: 0.7291153108737333\n",
      "At round 222 training loss: 1.03506552831644\n",
      "Group 4\n",
      "At round 222 accuracy: 0.6155352480417755\n",
      "At round 222 training accuracy: 0.6521143639787708\n",
      "At round 222 training loss: 0.9642280717940598\n",
      "At round 222 mean test accuracy: 0.6611873226111636 mean train accuracy: 0.6891870903612587 mean train loss: 1.22293212956376                     number of test client: 769\n",
      "The client-group discrepancy are: [42.13727986 29.33383194  1.92106787 40.79642502 55.64523121 54.35336274]\n",
      "Begin group  0 training\n"
     ]
    },
    {
     "name": "stderr",
     "output_type": "stream",
     "text": [
      "Epoch:   0%|          | 0/20 [00:00<?, ?it/s]         "
     ]
    },
    {
     "name": "stdout",
     "output_type": "stream",
     "text": [
      "Begin group  1 training\n"
     ]
    },
    {
     "name": "stderr",
     "output_type": "stream",
     "text": [
      "Epoch:   5%|▌         | 1/20 [00:00<00:02,  9.18it/s] "
     ]
    },
    {
     "name": "stdout",
     "output_type": "stream",
     "text": [
      "Begin group  2 training\n"
     ]
    },
    {
     "name": "stderr",
     "output_type": "stream",
     "text": [
      "Epoch:   0%|          | 0/20 [00:00<?, ?it/s]         "
     ]
    },
    {
     "name": "stdout",
     "output_type": "stream",
     "text": [
      "Begin group  3 training\n"
     ]
    },
    {
     "name": "stderr",
     "output_type": "stream",
     "text": [
      "Epoch:   0%|          | 0/20 [00:00<?, ?it/s]         "
     ]
    },
    {
     "name": "stdout",
     "output_type": "stream",
     "text": [
      "Begin group  4 training\n"
     ]
    },
    {
     "name": "stderr",
     "output_type": "stream",
     "text": [
      "                                                      \r"
     ]
    },
    {
     "name": "stdout",
     "output_type": "stream",
     "text": [
      "Training groups takes 79.55801677703857s seconds\n",
      "Scheduling clients takes 3.1496617794036865s seconds\n",
      "Group 0, clients ['laraduckytay', 'tweeteradder2']\n",
      "Group 1, clients ['shellykramer', 'hopeinhell']\n",
      "Group 2, clients ['webwoke', 'katementon', 'IvanaE', 'TeeQ2']\n",
      "Group 3 is empty.\n",
      "Group 4, clients ['MisterRo', 'gobullet', 'iLadySyncere', 'tracyewilli', 'andrewpycroft', 'mcflychloe94', 'Jodasaur', 'Jamjar84', 'dyeleepong', 'sinfulsignorita', 'ImmaChocoholic', 'smilin808hapa']\n"
     ]
    },
    {
     "name": "stderr",
     "output_type": "stream",
     "text": [
      "Epoch:   5%|▌         | 1/20 [00:00<00:01,  9.68it/s]"
     ]
    },
    {
     "name": "stdout",
     "output_type": "stream",
     "text": [
      "Group 0\n",
      "At round 223 accuracy: 0.6625371655104063\n",
      "At round 223 training accuracy: 0.67578125\n",
      "At round 223 training loss: 1.4217690527594642\n",
      "Group 1\n",
      "At round 223 accuracy: 0.9300095877277086\n",
      "At round 223 training accuracy: 0.9486016628873771\n",
      "At round 223 training loss: 0.3701047784783836\n",
      "Group 2\n",
      "At round 223 accuracy: 0.5508151231356226\n",
      "At round 223 training accuracy: 0.5842584167424931\n",
      "At round 223 training loss: 2.0099306275713866\n",
      "Group 3\n",
      "At round 223 accuracy: 0.6\n",
      "At round 223 training accuracy: 0.6433853738701726\n",
      "At round 223 training loss: 1.5709865464968504\n",
      "Group 4\n",
      "At round 223 accuracy: 0.6398195876288659\n",
      "At round 223 training accuracy: 0.6725393867524987\n",
      "At round 223 training loss: 1.0139258982278894\n",
      "At round 223 mean test accuracy: 0.6461684011352885 mean train accuracy: 0.6739042649023079 mean train loss: 1.4350370032765558                     number of test client: 769\n",
      "The client-group discrepancy are: [40.73512994 33.62859168 28.81430622 18.60224059  0.         51.28398672]\n",
      "Begin group  0 training\n"
     ]
    },
    {
     "name": "stderr",
     "output_type": "stream",
     "text": [
      "Epoch:   0%|          | 0/20 [00:00<?, ?it/s]         "
     ]
    },
    {
     "name": "stdout",
     "output_type": "stream",
     "text": [
      "Begin group  1 training\n"
     ]
    },
    {
     "name": "stderr",
     "output_type": "stream",
     "text": [
      "Epoch:   0%|          | 0/20 [00:00<?, ?it/s]         "
     ]
    },
    {
     "name": "stdout",
     "output_type": "stream",
     "text": [
      "Begin group  2 training\n"
     ]
    },
    {
     "name": "stderr",
     "output_type": "stream",
     "text": [
      "Epoch:   5%|▌         | 1/20 [00:00<00:03,  5.58it/s] "
     ]
    },
    {
     "name": "stdout",
     "output_type": "stream",
     "text": [
      "Begin group  4 training\n"
     ]
    },
    {
     "name": "stderr",
     "output_type": "stream",
     "text": [
      "                                                      \r"
     ]
    },
    {
     "name": "stdout",
     "output_type": "stream",
     "text": [
      "Training groups takes 78.4878876209259s seconds\n",
      "Scheduling clients takes 3.116079330444336s seconds\n",
      "Group 0, clients ['sarahlay', 'AClockworkToad', 'Pepperfire']\n",
      "Group 1, clients ['Bizcuits', 'WWF_Climate', 'SandiNJ', 'epcotx']\n",
      "Group 2, clients ['redoranda', 'fromthestars', 'HayleyNqahuia', 'AshyJonas']\n",
      "Group 3, clients ['lrnn']\n",
      "Group 4, clients ['Bowl_the_Bunny', 'kjerstia', 'sinspired', 'AmyAllTimeLow', 'VIBEAUTY', 'annief1', 'Matalatine', 'sicknastyalison']\n"
     ]
    },
    {
     "name": "stderr",
     "output_type": "stream",
     "text": [
      "Epoch:   5%|▌         | 1/20 [00:00<00:02,  9.30it/s]"
     ]
    },
    {
     "name": "stdout",
     "output_type": "stream",
     "text": [
      "Group 0\n",
      "At round 224 accuracy: 0.6669941060903732\n",
      "At round 224 training accuracy: 0.6793183578621224\n",
      "At round 224 training loss: 1.54763636467592\n",
      "Group 1\n",
      "At round 224 accuracy: 0.9323671497584541\n",
      "At round 224 training accuracy: 0.9530218384966989\n",
      "At round 224 training loss: 0.3130090400715563\n",
      "Group 2\n",
      "At round 224 accuracy: 0.583829191459573\n",
      "At round 224 training accuracy: 0.6175660792951542\n",
      "At round 224 training loss: 1.6753775140338285\n",
      "Group 3\n",
      "At round 224 accuracy: 0.6002120890774125\n",
      "At round 224 training accuracy: 0.643434625034848\n",
      "At round 224 training loss: 1.5666853180665672\n",
      "Group 4\n",
      "At round 224 accuracy: 0.6504731861198738\n",
      "At round 224 training accuracy: 0.6873547958845005\n",
      "At round 224 training loss: 1.0251041167404706\n",
      "At round 224 mean test accuracy: 0.6608325449385052 mean train accuracy: 0.6894045289348616 mean train loss: 1.3441590382032402                     number of test client: 769\n",
      "The client-group discrepancy are: [35.73963712 38.61357154  3.46213879 47.64076449 11.44560012 47.88685182]\n",
      "Begin group  0 training\n"
     ]
    },
    {
     "name": "stderr",
     "output_type": "stream",
     "text": [
      "Epoch:   0%|          | 0/20 [00:00<?, ?it/s]         "
     ]
    },
    {
     "name": "stdout",
     "output_type": "stream",
     "text": [
      "Begin group  1 training\n"
     ]
    },
    {
     "name": "stderr",
     "output_type": "stream",
     "text": [
      "Epoch:   0%|          | 0/20 [00:00<?, ?it/s]         "
     ]
    },
    {
     "name": "stdout",
     "output_type": "stream",
     "text": [
      "Begin group  2 training\n"
     ]
    },
    {
     "name": "stderr",
     "output_type": "stream",
     "text": [
      "Epoch:   5%|▌         | 1/20 [00:00<00:02,  7.37it/s] "
     ]
    },
    {
     "name": "stdout",
     "output_type": "stream",
     "text": [
      "Begin group  3 training\n"
     ]
    },
    {
     "name": "stderr",
     "output_type": "stream",
     "text": [
      "Epoch:   0%|          | 0/20 [00:00<?, ?it/s]         "
     ]
    },
    {
     "name": "stdout",
     "output_type": "stream",
     "text": [
      "Begin group  4 training\n"
     ]
    },
    {
     "name": "stderr",
     "output_type": "stream",
     "text": [
      "                                                      \r"
     ]
    },
    {
     "name": "stdout",
     "output_type": "stream",
     "text": [
      "Training groups takes 58.00024080276489s seconds\n",
      "Scheduling clients takes 3.1513099670410156s seconds\n",
      "Group 0, clients ['hemapreya', 'davidj505', 'megelder', 'allison__', 'CynthiaY29', 'AussieGal999', 'frankparker', 'TinaS71', 'SunshineBoat', 'kwells2416']\n",
      "Group 1 is empty.\n",
      "Group 2, clients ['paulpuddifoot', 'MelanieFresh27', 'fromthestars', 'sprinkles_', 'Arhum']\n",
      "Group 3 is empty.\n",
      "Group 4, clients ['ImmaChocoholic', 'kateblogs', 'suddentwilight', 'SpiderxBear', 'happylovesChuck']\n"
     ]
    },
    {
     "name": "stderr",
     "output_type": "stream",
     "text": [
      "Epoch:   5%|▌         | 1/20 [00:00<00:02,  9.48it/s]"
     ]
    },
    {
     "name": "stdout",
     "output_type": "stream",
     "text": [
      "Group 0\n",
      "At round 225 accuracy: 0.6710398445092323\n",
      "At round 225 training accuracy: 0.6915804267279928\n",
      "At round 225 training loss: 1.0801842385591682\n",
      "Group 1\n",
      "At round 225 accuracy: 0.932872655478776\n",
      "At round 225 training accuracy: 0.9532710280373832\n",
      "At round 225 training loss: 0.3495311187628961\n",
      "Group 2\n",
      "At round 225 accuracy: 0.5638108780661216\n",
      "At round 225 training accuracy: 0.5873311597578016\n",
      "At round 225 training loss: 1.0222182959401447\n",
      "Group 3\n",
      "At round 225 accuracy: 0.6810344827586207\n",
      "At round 225 training accuracy: 0.6937907570172952\n",
      "At round 225 training loss: 1.1388068104628606\n",
      "Group 4\n",
      "At round 225 accuracy: 0.6581508515815085\n",
      "At round 225 training accuracy: 0.691618682021753\n",
      "At round 225 training loss: 0.9504397283582674\n",
      "At round 225 mean test accuracy: 0.6653263954588458 mean train accuracy: 0.6883794613735905 mean train loss: 0.9546556740220897                     number of test client: 769\n",
      "The client-group discrepancy are: [34.27309116 34.17031907  0.         20.95790377  0.         47.79382274]\n",
      "Begin group  0 training\n"
     ]
    },
    {
     "name": "stderr",
     "output_type": "stream",
     "text": [
      "Epoch:   5%|▌         | 1/20 [00:00<00:03,  5.38it/s] "
     ]
    },
    {
     "name": "stdout",
     "output_type": "stream",
     "text": [
      "Begin group  2 training\n"
     ]
    },
    {
     "name": "stderr",
     "output_type": "stream",
     "text": [
      "Epoch:   5%|▌         | 1/20 [00:00<00:02,  8.42it/s] "
     ]
    },
    {
     "name": "stdout",
     "output_type": "stream",
     "text": [
      "Begin group  4 training\n"
     ]
    },
    {
     "name": "stderr",
     "output_type": "stream",
     "text": [
      "                                                      \r"
     ]
    },
    {
     "name": "stdout",
     "output_type": "stream",
     "text": [
      "Training groups takes 70.15335965156555s seconds\n",
      "Scheduling clients takes 2.9385766983032227s seconds\n",
      "Group 0, clients ['TinaS71', 'FakerParis', 'dogzero']\n",
      "Group 1, clients ['markdavidson']\n",
      "Group 2, clients ['claudiamcfly', 'zarazombie', 'randomblonde', 'Rikou26', 'Galiiit', 'iamluvnjordan', 'xoCAZZA', 'MelanieFresh27', 'Kikirowr', 'Arti_Sodmg', 'suewaters']\n",
      "Group 3, clients ['TeeQ2']\n",
      "Group 4, clients ['kristikubota', 'Arasphere', 'davidismyangel', 'StephanieEllen']\n"
     ]
    },
    {
     "name": "stderr",
     "output_type": "stream",
     "text": [
      "\r",
      "Epoch:   0%|          | 0/20 [00:00<?, ?it/s]"
     ]
    },
    {
     "name": "stdout",
     "output_type": "stream",
     "text": [
      "Group 0\n",
      "At round 226 accuracy: 0.68\n",
      "At round 226 training accuracy: 0.6931657904859597\n",
      "At round 226 training loss: 1.6883168708324727\n",
      "Group 1\n",
      "At round 226 accuracy: 0.93158953722334\n",
      "At round 226 training accuracy: 0.9525953389830508\n",
      "At round 226 training loss: 0.3540695754188041\n",
      "Group 2\n",
      "At round 226 accuracy: 0.623249299719888\n",
      "At round 226 training accuracy: 0.6482992573576603\n",
      "At round 226 training loss: 1.0484938170459281\n",
      "Group 3\n",
      "At round 226 accuracy: 0.6758849557522124\n",
      "At round 226 training accuracy: 0.6946386946386947\n",
      "At round 226 training loss: 1.1330811832480605\n",
      "Group 4\n",
      "At round 226 accuracy: 0.664043583535109\n",
      "At round 226 training accuracy: 0.6937410415671286\n",
      "At round 226 training loss: 1.101159968385676\n",
      "At round 226 mean test accuracy: 0.6868495742667928 mean train accuracy: 0.7086633740254092 mean train loss: 1.141334765859808                     number of test client: 769\n",
      "The client-group discrepancy are: [33.22860176 19.37000207  4.14599826 31.70845039 58.93861663 48.64611495]\n",
      "Begin group  0 training\n"
     ]
    },
    {
     "name": "stderr",
     "output_type": "stream",
     "text": [
      "Epoch:   0%|          | 0/20 [00:00<?, ?it/s]         "
     ]
    },
    {
     "name": "stdout",
     "output_type": "stream",
     "text": [
      "Begin group  1 training\n"
     ]
    },
    {
     "name": "stderr",
     "output_type": "stream",
     "text": [
      "Epoch:   5%|▌         | 1/20 [00:00<00:02,  8.08it/s] "
     ]
    },
    {
     "name": "stdout",
     "output_type": "stream",
     "text": [
      "Begin group  2 training\n"
     ]
    },
    {
     "name": "stderr",
     "output_type": "stream",
     "text": [
      "Epoch:   5%|▌         | 1/20 [00:00<00:02,  8.32it/s] "
     ]
    },
    {
     "name": "stdout",
     "output_type": "stream",
     "text": [
      "Begin group  3 training\n"
     ]
    },
    {
     "name": "stderr",
     "output_type": "stream",
     "text": [
      "Epoch:   5%|▌         | 1/20 [00:00<00:02,  9.37it/s] "
     ]
    },
    {
     "name": "stdout",
     "output_type": "stream",
     "text": [
      "Begin group  4 training\n"
     ]
    },
    {
     "name": "stderr",
     "output_type": "stream",
     "text": [
      "                                                      \r"
     ]
    },
    {
     "name": "stdout",
     "output_type": "stream",
     "text": [
      "Training groups takes 73.94788932800293s seconds\n",
      "Scheduling clients takes 2.535116195678711s seconds\n",
      "Group 0, clients ['AussieGal999']\n",
      "Group 1, clients ['LadyParadis', 'imnangl', 'TheBetterSexDoc', 'R_Arblaster']\n",
      "Group 2, clients ['DubarryMcfly', 'NaythenCash', 'abbyavaryxo', 'dizzybunny', 'JoshwaActon', 'lina_luka', 'EmAllTimeLow', 'wonderpetunia', 'serinurshira', 'VIBEAUTY', '_Slamma_']\n",
      "Group 3 is empty.\n",
      "Group 4, clients ['danic27', 'pdurham', 'sarahroters', 'AmyStar92']\n"
     ]
    },
    {
     "name": "stderr",
     "output_type": "stream",
     "text": [
      "\r",
      "Epoch:   0%|          | 0/20 [00:00<?, ?it/s]"
     ]
    },
    {
     "name": "stdout",
     "output_type": "stream",
     "text": [
      "Group 0\n",
      "At round 227 accuracy: 0.6691616766467066\n",
      "At round 227 training accuracy: 0.6846385937295029\n",
      "At round 227 training loss: 1.984416373690311\n",
      "Group 1\n",
      "At round 227 accuracy: 0.9325955734406438\n",
      "At round 227 training accuracy: 0.9528601694915254\n",
      "At round 227 training loss: 0.3802949806596975\n",
      "Group 2\n",
      "At round 227 accuracy: 0.6209649427282193\n",
      "At round 227 training accuracy: 0.6494592383895301\n",
      "At round 227 training loss: 0.9792686665985413\n",
      "Group 3\n",
      "At round 227 accuracy: 0.7422566371681416\n",
      "At round 227 training accuracy: 0.7564102564102564\n",
      "At round 227 training loss: 1.1537227426990182\n",
      "Group 4\n",
      "At round 227 accuracy: 0.6720238095238096\n",
      "At round 227 training accuracy: 0.7030075187969925\n",
      "At round 227 training loss: 1.111443168038364\n",
      "At round 227 mean test accuracy: 0.6920713694907243 mean train accuracy: 0.7153454590601527 mean train loss: 1.191666852067042                     number of test client: 770\n",
      "The client-group discrepancy are: [38.06607391  2.06397628  2.77661368 45.99359032  0.         60.55538843]\n",
      "Begin group  0 training\n"
     ]
    },
    {
     "name": "stderr",
     "output_type": "stream",
     "text": [
      "Epoch:   5%|▌         | 1/20 [00:00<00:02,  8.55it/s] "
     ]
    },
    {
     "name": "stdout",
     "output_type": "stream",
     "text": [
      "Begin group  1 training\n"
     ]
    },
    {
     "name": "stderr",
     "output_type": "stream",
     "text": [
      "Epoch:   5%|▌         | 1/20 [00:00<00:02,  7.15it/s] "
     ]
    },
    {
     "name": "stdout",
     "output_type": "stream",
     "text": [
      "Begin group  2 training\n"
     ]
    },
    {
     "name": "stderr",
     "output_type": "stream",
     "text": [
      "Epoch:   5%|▌         | 1/20 [00:00<00:02,  8.69it/s] "
     ]
    },
    {
     "name": "stdout",
     "output_type": "stream",
     "text": [
      "Begin group  4 training\n"
     ]
    },
    {
     "name": "stderr",
     "output_type": "stream",
     "text": [
      "                                                      \r"
     ]
    },
    {
     "name": "stdout",
     "output_type": "stream",
     "text": [
      "Training groups takes 60.26252055168152s seconds\n",
      "Scheduling clients takes 2.898097276687622s seconds\n",
      "Group 0, clients ['frankparker', 'karenstrunks', 'tweeteradder1']\n",
      "Group 1, clients ['mixmasterfestus']\n",
      "Group 2, clients ['NatalieGolding', 'Lizloz', 'jerryfetus', 'dizzybunny', 'LorenYxox', 'Katie1989', 'hanaames', 'issie07', 'DubarryMcfly', 'davidismyangel', 'peytonluvsjoe', 'sophieholly']\n",
      "Group 3, clients ['neondeception']\n",
      "Group 4, clients ['kamiNcali', 'Keels_90', 'michellecpa']\n"
     ]
    },
    {
     "name": "stderr",
     "output_type": "stream",
     "text": [
      "\r",
      "Epoch:   0%|          | 0/20 [00:00<?, ?it/s]"
     ]
    },
    {
     "name": "stdout",
     "output_type": "stream",
     "text": [
      "Group 0\n",
      "At round 228 accuracy: 0.6925388082123185\n",
      "At round 228 training accuracy: 0.7015789473684211\n",
      "At round 228 training loss: 2.0773580137472814\n",
      "Group 1\n",
      "At round 228 accuracy: 0.9325955734406438\n",
      "At round 228 training accuracy: 0.953125\n",
      "At round 228 training loss: 0.3885605936418627\n",
      "Group 2\n",
      "At round 228 accuracy: 0.627724795640327\n",
      "At round 228 training accuracy: 0.6647331786542924\n",
      "At round 228 training loss: 1.080242283843084\n",
      "Group 3\n",
      "At round 228 accuracy: 0.7440543601359003\n",
      "At round 228 training accuracy: 0.7585795284989555\n",
      "At round 228 training loss: 1.1399527105766256\n",
      "Group 4\n",
      "At round 228 accuracy: 0.6575922565033273\n",
      "At round 228 training accuracy: 0.6744630071599045\n",
      "At round 228 training loss: 1.5721561016142405\n",
      "At round 228 mean test accuracy: 0.6967978258300839 mean train accuracy: 0.718883853746353 mean train loss: 1.3365604125210873                     number of test client: 770\n",
      "The client-group discrepancy are: [31.44698357 21.59208082  3.33901535 38.90737112 15.64600673 26.09665111]\n",
      "Begin group  0 training\n"
     ]
    },
    {
     "name": "stderr",
     "output_type": "stream",
     "text": [
      "Epoch:   5%|▌         | 1/20 [00:00<00:02,  9.39it/s] "
     ]
    },
    {
     "name": "stdout",
     "output_type": "stream",
     "text": [
      "Begin group  1 training\n"
     ]
    },
    {
     "name": "stderr",
     "output_type": "stream",
     "text": [
      "Epoch:   5%|▌         | 1/20 [00:00<00:02,  6.41it/s] "
     ]
    },
    {
     "name": "stdout",
     "output_type": "stream",
     "text": [
      "Begin group  2 training\n"
     ]
    },
    {
     "name": "stderr",
     "output_type": "stream",
     "text": [
      "Epoch:   5%|▌         | 1/20 [00:00<00:02,  6.67it/s] "
     ]
    },
    {
     "name": "stdout",
     "output_type": "stream",
     "text": [
      "Begin group  3 training\n"
     ]
    },
    {
     "name": "stderr",
     "output_type": "stream",
     "text": [
      "Epoch:   5%|▌         | 1/20 [00:00<00:02,  7.66it/s] "
     ]
    },
    {
     "name": "stdout",
     "output_type": "stream",
     "text": [
      "Begin group  4 training\n"
     ]
    },
    {
     "name": "stderr",
     "output_type": "stream",
     "text": [
      "                                                      \r"
     ]
    },
    {
     "name": "stdout",
     "output_type": "stream",
     "text": [
      "Training groups takes 61.91991448402405s seconds\n",
      "Scheduling clients takes 2.986774206161499s seconds\n",
      "Group 0, clients ['MrFlossy']\n",
      "Group 1, clients ['combustiblesong', 'AshesOfLilies', 'imnangl', 'Sheamus']\n",
      "Group 2, clients ['queenbmakeup', 'LorenYxox', 'lorettak', 'josieinthecity', 'wickedground', 'Monicarrrr', 'janiecwales', 'Mixaelala', 'lucyntn', 'vesula', 'katementon', 'sicknastyalison', 'Jenivere']\n",
      "Group 3, clients ['uyennguyen_', 'ericbutcher']\n",
      "Group 4 is empty.\n"
     ]
    },
    {
     "name": "stderr",
     "output_type": "stream",
     "text": [
      "\r",
      "Epoch:   0%|          | 0/20 [00:00<?, ?it/s]"
     ]
    },
    {
     "name": "stdout",
     "output_type": "stream",
     "text": [
      "Group 0\n",
      "At round 229 accuracy: 0.6904040404040404\n",
      "At round 229 training accuracy: 0.7015262110152621\n",
      "At round 229 training loss: 1.771986902622888\n",
      "Group 1\n",
      "At round 229 accuracy: 0.9359756097560976\n",
      "At round 229 training accuracy: 0.9566381156316917\n",
      "At round 229 training loss: 0.3027230454958535\n",
      "Group 2\n",
      "At round 229 accuracy: 0.6543824701195219\n",
      "At round 229 training accuracy: 0.6860424643230073\n",
      "At round 229 training loss: 0.8960846131813368\n",
      "Group 3\n",
      "At round 229 accuracy: 0.7454337899543378\n",
      "At round 229 training accuracy: 0.7813533834586466\n",
      "At round 229 training loss: 1.3125385175298032\n",
      "Group 4\n",
      "At round 229 accuracy: 0.6511483550589696\n",
      "At round 229 training accuracy: 0.665252854812398\n",
      "At round 229 training loss: 1.493870976263452\n",
      "At round 229 mean test accuracy: 0.7043601559730592 mean train accuracy: 0.7269228381650009 mean train loss: 1.188848427562153                     number of test client: 770\n",
      "The client-group discrepancy are: [30.97425911  4.57303881  2.76644891 44.80560866 10.68671761  0.        ]\n",
      "Begin group  0 training\n"
     ]
    },
    {
     "name": "stderr",
     "output_type": "stream",
     "text": [
      "Epoch:   5%|▌         | 1/20 [00:00<00:02,  7.98it/s] "
     ]
    },
    {
     "name": "stdout",
     "output_type": "stream",
     "text": [
      "Begin group  1 training\n"
     ]
    },
    {
     "name": "stderr",
     "output_type": "stream",
     "text": [
      "Epoch:   5%|▌         | 1/20 [00:00<00:02,  7.22it/s] "
     ]
    },
    {
     "name": "stdout",
     "output_type": "stream",
     "text": [
      "Begin group  2 training\n"
     ]
    },
    {
     "name": "stderr",
     "output_type": "stream",
     "text": [
      "Epoch:   5%|▌         | 1/20 [00:00<00:02,  9.29it/s] "
     ]
    },
    {
     "name": "stdout",
     "output_type": "stream",
     "text": [
      "Begin group  3 training\n"
     ]
    },
    {
     "name": "stderr",
     "output_type": "stream",
     "text": [
      "                                                      \r"
     ]
    },
    {
     "name": "stdout",
     "output_type": "stream",
     "text": [
      "Training groups takes 52.78376126289368s seconds\n",
      "Scheduling clients takes 3.029508352279663s seconds\n",
      "Group 0, clients ['DustinUrbanski']\n",
      "Group 1 is empty.\n",
      "Group 2, clients ['AndyCarolan', 'xxxSupermodel', 'MichaelMcNeill', 'cavorting', 'redLIGHTjoli', 'Gillian_CC', 'mini_ritz', 'kevmer', 'enked', 'iamgaberosales', 'f2point4', 'Mirna023', 'christyspanties']\n",
      "Group 3, clients ['WallTweet']\n",
      "Group 4, clients ['kjerstia', 'Minerveca', 'tweetpet', 'sunshinehollyyy', 'Pepperfire']\n"
     ]
    },
    {
     "name": "stderr",
     "output_type": "stream",
     "text": [
      "\r",
      "Epoch:   0%|          | 0/20 [00:00<?, ?it/s]"
     ]
    },
    {
     "name": "stdout",
     "output_type": "stream",
     "text": [
      "Group 0\n",
      "At round 230 accuracy: 0.6875\n",
      "At round 230 training accuracy: 0.6980273141122914\n",
      "At round 230 training loss: 1.54225051922654\n",
      "Group 1\n",
      "At round 230 accuracy: 0.9294605809128631\n",
      "At round 230 training accuracy: 0.9519257033597378\n",
      "At round 230 training loss: 0.2774247801703584\n",
      "Group 2\n",
      "At round 230 accuracy: 0.6658978583196046\n",
      "At round 230 training accuracy: 0.6985993429016082\n",
      "At round 230 training loss: 0.8388332838533031\n",
      "Group 3\n",
      "At round 230 accuracy: 0.747716894977169\n",
      "At round 230 training accuracy: 0.7714285714285715\n",
      "At round 230 training loss: 1.1135014140166175\n",
      "Group 4\n",
      "At round 230 accuracy: 0.6318289786223278\n",
      "At round 230 training accuracy: 0.6451612903225806\n",
      "At round 230 training loss: 1.5002102023909671\n",
      "At round 230 mean test accuracy: 0.7024695734373154 mean train accuracy: 0.7241293686758955 mean train loss: 1.0933829835952653                     number of test client: 770\n",
      "The client-group discrepancy are: [41.86737096 50.12846507  0.         40.89713195 10.30233717 49.05078033]\n",
      "Begin group  0 training\n"
     ]
    },
    {
     "name": "stderr",
     "output_type": "stream",
     "text": [
      "Epoch:   5%|▌         | 1/20 [00:00<00:02,  7.23it/s] "
     ]
    },
    {
     "name": "stdout",
     "output_type": "stream",
     "text": [
      "Begin group  2 training\n"
     ]
    },
    {
     "name": "stderr",
     "output_type": "stream",
     "text": [
      "Epoch:   5%|▌         | 1/20 [00:00<00:02,  6.57it/s] "
     ]
    },
    {
     "name": "stdout",
     "output_type": "stream",
     "text": [
      "Begin group  3 training\n"
     ]
    },
    {
     "name": "stderr",
     "output_type": "stream",
     "text": [
      "Epoch:   5%|▌         | 1/20 [00:00<00:02,  6.48it/s] "
     ]
    },
    {
     "name": "stdout",
     "output_type": "stream",
     "text": [
      "Begin group  4 training\n"
     ]
    },
    {
     "name": "stderr",
     "output_type": "stream",
     "text": [
      "                                                      \r"
     ]
    },
    {
     "name": "stdout",
     "output_type": "stream",
     "text": [
      "Training groups takes 82.49662518501282s seconds\n",
      "Scheduling clients takes 3.0664222240448s seconds\n",
      "Group 0, clients ['MissGoogle', 'bexmith', 'nik_kee_dee']\n",
      "Group 1 is empty.\n",
      "Group 2, clients ['lejunkdrawer', 'limeice', 'SammiiSTACK', 'Jamjar84', 'eatlikeagirl', 'coliwilso', 'Rkoluvsdiana', 'JonasAustralia', '_writersblock_', 'Darth_Disco', 'unitechy', 'LexiStarGirl', 'MelanieFresh27', 'alexaherrera', 'JazzBANGER', 'MsStaceyK']\n",
      "Group 3, clients ['chinatheblack']\n",
      "Group 4 is empty.\n"
     ]
    },
    {
     "name": "stderr",
     "output_type": "stream",
     "text": [
      "Epoch:   5%|▌         | 1/20 [00:00<00:02,  8.53it/s]"
     ]
    },
    {
     "name": "stdout",
     "output_type": "stream",
     "text": [
      "Group 0\n",
      "At round 231 accuracy: 0.6852631578947368\n",
      "At round 231 training accuracy: 0.7043538355217692\n",
      "At round 231 training loss: 1.2598165455803985\n",
      "Group 1\n",
      "At round 231 accuracy: 0.9289501590668081\n",
      "At round 231 training accuracy: 0.9516894722144652\n",
      "At round 231 training loss: 0.2820308936486151\n",
      "Group 2\n",
      "At round 231 accuracy: 0.6711974110032363\n",
      "At round 231 training accuracy: 0.7118831223987089\n",
      "At round 231 training loss: 0.8987664479601255\n",
      "Group 3\n",
      "At round 231 accuracy: 0.7579908675799086\n",
      "At round 231 training accuracy: 0.791578947368421\n",
      "At round 231 training loss: 1.1505061548180646\n",
      "Group 4\n",
      "At round 231 accuracy: 0.4195888754534462\n",
      "At round 231 training accuracy: 0.45923223350253806\n",
      "At round 231 training loss: 3.248733050033036\n",
      "At round 231 mean test accuracy: 0.662885501595179 mean train accuracy: 0.6956359798870196 mean train loss: 1.3970869961339238                     number of test client: 770\n",
      "The client-group discrepancy are: [34.56956067 51.00388644  0.         32.97584398 10.76605052  0.        ]\n",
      "Begin group  0 training\n"
     ]
    },
    {
     "name": "stderr",
     "output_type": "stream",
     "text": [
      "Epoch:   5%|▌         | 1/20 [00:00<00:02,  9.21it/s] "
     ]
    },
    {
     "name": "stdout",
     "output_type": "stream",
     "text": [
      "Begin group  2 training\n"
     ]
    },
    {
     "name": "stderr",
     "output_type": "stream",
     "text": [
      "Epoch:   5%|▌         | 1/20 [00:00<00:02,  6.78it/s] "
     ]
    },
    {
     "name": "stdout",
     "output_type": "stream",
     "text": [
      "Begin group  3 training\n"
     ]
    },
    {
     "name": "stderr",
     "output_type": "stream",
     "text": [
      "                                                      \r"
     ]
    },
    {
     "name": "stdout",
     "output_type": "stream",
     "text": [
      "Training groups takes 69.08060693740845s seconds\n",
      "Scheduling clients takes 3.024998188018799s seconds\n",
      "Group 0, clients ['shanajaca', 'adlyman', 'Abbie_xD', 'garyshort']\n",
      "Group 1, clients ['TinaS71', 'justinjap', 'aliefaulkner', 'Mrs_NickJ07']\n",
      "Group 2, clients ['robertholiday', 'lameymacdonald', 'Nikkers', 'SpiderxBear', 'Nikkiilyx', 'IzzySc', 'AmyAllTimeLow', 'bustyb73', 'unitechy', 'eboogiee']\n",
      "Group 3, clients ['shinsh0ku', 'IvanaE']\n",
      "Group 4 is empty.\n"
     ]
    },
    {
     "name": "stderr",
     "output_type": "stream",
     "text": [
      "\r",
      "Epoch:   0%|          | 0/20 [00:00<?, ?it/s]"
     ]
    },
    {
     "name": "stdout",
     "output_type": "stream",
     "text": [
      "Group 0\n",
      "At round 232 accuracy: 0.6945304437564499\n",
      "At round 232 training accuracy: 0.7098957628265873\n",
      "At round 232 training loss: 1.688253168651212\n",
      "Group 1\n",
      "At round 232 accuracy: 0.9276315789473685\n",
      "At round 232 training accuracy: 0.9510570518389806\n",
      "At round 232 training loss: 0.2828371876412624\n",
      "Group 2\n",
      "At round 232 accuracy: 0.665165648118366\n",
      "At round 232 training accuracy: 0.7093887200270179\n",
      "At round 232 training loss: 0.9221689730353606\n",
      "Group 3\n",
      "At round 232 accuracy: 0.7592800899887514\n",
      "At round 232 training accuracy: 0.7982222222222223\n",
      "At round 232 training loss: 1.2279284366057426\n",
      "Group 4\n",
      "At round 232 accuracy: 0.4173374613003096\n",
      "At round 232 training accuracy: 0.45737944471505115\n",
      "At round 232 training loss: 3.259616087977891\n",
      "At round 232 mean test accuracy: 0.662767340186695 mean train accuracy: 0.6965360978335092 mean train loss: 1.5081682985220313                     number of test client: 770\n",
      "The client-group discrepancy are: [31.03497482 29.44379409 28.36731837 32.03656106 34.54471803  0.        ]\n",
      "Begin group  0 training\n"
     ]
    },
    {
     "name": "stderr",
     "output_type": "stream",
     "text": [
      "Epoch:   5%|▌         | 1/20 [00:00<00:03,  6.17it/s] "
     ]
    },
    {
     "name": "stdout",
     "output_type": "stream",
     "text": [
      "Begin group  1 training\n"
     ]
    },
    {
     "name": "stderr",
     "output_type": "stream",
     "text": [
      "Epoch:   5%|▌         | 1/20 [00:00<00:03,  5.48it/s] "
     ]
    },
    {
     "name": "stdout",
     "output_type": "stream",
     "text": [
      "Begin group  2 training\n"
     ]
    },
    {
     "name": "stderr",
     "output_type": "stream",
     "text": [
      "Epoch:   5%|▌         | 1/20 [00:00<00:02,  9.33it/s] "
     ]
    },
    {
     "name": "stdout",
     "output_type": "stream",
     "text": [
      "Begin group  3 training\n"
     ]
    },
    {
     "name": "stderr",
     "output_type": "stream",
     "text": [
      "                                                      \r"
     ]
    },
    {
     "name": "stdout",
     "output_type": "stream",
     "text": [
      "Training groups takes 71.88631558418274s seconds\n",
      "Scheduling clients takes 3.037919759750366s seconds\n",
      "Group 0, clients ['garyshort', 'Rocks4Ever']\n",
      "Group 1, clients ['AsiaBrands', 'tweetles']\n",
      "Group 2, clients ['mcflychloe94', 'JaydDragyn', 'MCbutterflyfan', 'gewoonlianne', 'happylovesChuck', 'ATsLady', 'kalpik', 'socilover', 'serinurshira', 'Spidersamm', 'LisaHopeCyrus', 'YourSavvyVA', 'paigeebaby', 'annief1', 'goatkeeper7']\n",
      "Group 3, clients ['maddisondesigns']\n",
      "Group 4 is empty.\n"
     ]
    },
    {
     "name": "stderr",
     "output_type": "stream",
     "text": [
      "Epoch:   5%|▌         | 1/20 [00:00<00:02,  9.03it/s]"
     ]
    },
    {
     "name": "stdout",
     "output_type": "stream",
     "text": [
      "Group 0\n",
      "At round 233 accuracy: 0.6984872196139802\n",
      "At round 233 training accuracy: 0.7168831168831169\n",
      "At round 233 training loss: 1.445533769964912\n",
      "Group 1\n",
      "At round 233 accuracy: 0.9276315789473685\n",
      "At round 233 training accuracy: 0.9533738777874312\n",
      "At round 233 training loss: 0.28383529968869997\n",
      "Group 2\n",
      "At round 233 accuracy: 0.6554726368159204\n",
      "At round 233 training accuracy: 0.6984075132707227\n",
      "At round 233 training loss: 0.9111575509009676\n",
      "Group 3\n",
      "At round 233 accuracy: 0.7298524404086265\n",
      "At round 233 training accuracy: 0.7577751196172249\n",
      "At round 233 training loss: 1.0843026279042915\n",
      "Group 4\n",
      "At round 233 accuracy: 0.4176968119713728\n",
      "At round 233 training accuracy: 0.4577717113120628\n",
      "At round 233 training loss: 3.2530008215492994\n",
      "At round 233 mean test accuracy: 0.6591043365236914 mean train accuracy: 0.692314855049972 mean train loss: 1.4092442991716791                     number of test client: 770\n",
      "The client-group discrepancy are: [39.59326535  9.01486166  4.22903096 46.99711779 60.42075485  0.        ]\n",
      "Begin group  0 training\n"
     ]
    },
    {
     "name": "stderr",
     "output_type": "stream",
     "text": [
      "Epoch:   5%|▌         | 1/20 [00:00<00:02,  8.41it/s] "
     ]
    },
    {
     "name": "stdout",
     "output_type": "stream",
     "text": [
      "Begin group  1 training\n"
     ]
    },
    {
     "name": "stderr",
     "output_type": "stream",
     "text": [
      "Epoch:   5%|▌         | 1/20 [00:00<00:02,  8.36it/s] "
     ]
    },
    {
     "name": "stdout",
     "output_type": "stream",
     "text": [
      "Begin group  2 training\n"
     ]
    },
    {
     "name": "stderr",
     "output_type": "stream",
     "text": [
      "Epoch:   5%|▌         | 1/20 [00:00<00:03,  6.08it/s] "
     ]
    },
    {
     "name": "stdout",
     "output_type": "stream",
     "text": [
      "Begin group  3 training\n"
     ]
    },
    {
     "name": "stderr",
     "output_type": "stream",
     "text": [
      "                                                      \r"
     ]
    },
    {
     "name": "stdout",
     "output_type": "stream",
     "text": [
      "Training groups takes 65.87850618362427s seconds\n",
      "Scheduling clients takes 2.993734121322632s seconds\n",
      "Group 0, clients ['amieewhitney', 'smuttysteff', 'cmbowen122', 'SunshineBoat']\n",
      "Group 1, clients ['imnangl']\n",
      "Group 2, clients ['Cass_fryer', 'veganluke', 'nathanrdotca', 'Rubyam', 'brianwelburn', 'xmiyix', 'CherylH77', 'harisn', 'neszlifeasmcrmy', 'chyeahitsalicia']\n",
      "Group 3, clients ['TheEmmaHamilton', 'SheBeeGee', 'aLeKnight', 'willtompsett']\n",
      "Group 4, clients ['thatlass']\n"
     ]
    },
    {
     "name": "stderr",
     "output_type": "stream",
     "text": [
      "\r",
      "Epoch:   0%|          | 0/20 [00:00<?, ?it/s]"
     ]
    },
    {
     "name": "stdout",
     "output_type": "stream",
     "text": [
      "Group 0\n",
      "At round 234 accuracy: 0.7031914893617022\n",
      "At round 234 training accuracy: 0.7151616499442587\n",
      "At round 234 training loss: 1.3653737481842412\n",
      "Group 1\n",
      "At round 234 accuracy: 0.9346622369878184\n",
      "At round 234 training accuracy: 0.9575775307197192\n",
      "At round 234 training loss: 0.3217785851888126\n",
      "Group 2\n",
      "At round 234 accuracy: 0.6595550137153307\n",
      "At round 234 training accuracy: 0.7004962381943333\n",
      "At round 234 training loss: 0.9065210476243514\n",
      "Group 3\n",
      "At round 234 accuracy: 0.669683257918552\n",
      "At round 234 training accuracy: 0.706865671641791\n",
      "At round 234 training loss: 0.9685902446130319\n",
      "Group 4\n",
      "At round 234 accuracy: 0.42046204620462047\n",
      "At round 234 training accuracy: 0.46038062283737025\n",
      "At round 234 training loss: 3.218995228243825\n",
      "At round 234 mean test accuracy: 0.6568592697624955 mean train accuracy: 0.688621267614377 mean train loss: 1.3680056157696656                     number of test client: 770\n",
      "The client-group discrepancy are: [41.55746351 21.98640932  1.11403775 50.11987743 45.44155921 59.12458405]\n",
      "Begin group  0 training\n"
     ]
    },
    {
     "name": "stderr",
     "output_type": "stream",
     "text": [
      "Epoch:   5%|▌         | 1/20 [00:00<00:03,  6.24it/s] "
     ]
    },
    {
     "name": "stdout",
     "output_type": "stream",
     "text": [
      "Begin group  1 training\n"
     ]
    },
    {
     "name": "stderr",
     "output_type": "stream",
     "text": [
      "Epoch:   5%|▌         | 1/20 [00:00<00:03,  6.15it/s] "
     ]
    },
    {
     "name": "stdout",
     "output_type": "stream",
     "text": [
      "Begin group  2 training\n"
     ]
    },
    {
     "name": "stderr",
     "output_type": "stream",
     "text": [
      "Epoch:   5%|▌         | 1/20 [00:00<00:02,  7.54it/s] "
     ]
    },
    {
     "name": "stdout",
     "output_type": "stream",
     "text": [
      "Begin group  3 training\n"
     ]
    },
    {
     "name": "stderr",
     "output_type": "stream",
     "text": [
      "Epoch:   5%|▌         | 1/20 [00:00<00:02,  6.89it/s] "
     ]
    },
    {
     "name": "stdout",
     "output_type": "stream",
     "text": [
      "Begin group  4 training\n"
     ]
    },
    {
     "name": "stderr",
     "output_type": "stream",
     "text": [
      "                                                      \r"
     ]
    },
    {
     "name": "stdout",
     "output_type": "stream",
     "text": [
      "Training groups takes 66.24805474281311s seconds\n",
      "Scheduling clients takes 3.165931224822998s seconds\n",
      "Group 0, clients ['SunshineBoat', 'MrFlossy', 'Commsguy', 'bacieabbracci', 'thisgoeshere']\n",
      "Group 1, clients ['addieking']\n",
      "Group 2, clients ['MCRmuffin', 'adriwadri', 'sinfulsignorita', 'imsoapee', 'Sharonyy', 'nyc_specialist', 'amalinaaa', 'SimpleMia', 'michxxblc', 'EmAllTimeLow', 'LorenYxox', 'xoxmillyxox']\n",
      "Group 3, clients ['emmao414', 'weeps']\n",
      "Group 4 is empty.\n"
     ]
    },
    {
     "name": "stderr",
     "output_type": "stream",
     "text": [
      "\r",
      "Epoch:   0%|          | 0/20 [00:00<?, ?it/s]"
     ]
    },
    {
     "name": "stdout",
     "output_type": "stream",
     "text": [
      "Group 0\n",
      "At round 235 accuracy: 0.7189646064447967\n",
      "At round 235 training accuracy: 0.7296998201687647\n",
      "At round 235 training loss: 1.3989670707576616\n",
      "Group 1\n",
      "At round 235 accuracy: 0.9346622369878184\n",
      "At round 235 training accuracy: 0.9575775307197192\n",
      "At round 235 training loss: 0.3383409505720019\n",
      "Group 2\n",
      "At round 235 accuracy: 0.6765696784073507\n",
      "At round 235 training accuracy: 0.7154582763337893\n",
      "At round 235 training loss: 0.8081038598358808\n",
      "Group 3\n",
      "At round 235 accuracy: 0.6763392857142857\n",
      "At round 235 training accuracy: 0.7198351971748087\n",
      "At round 235 training loss: 1.0505714669512292\n",
      "Group 4\n",
      "At round 235 accuracy: 0.4203187250996016\n",
      "At round 235 training accuracy: 0.46014618865297596\n",
      "At round 235 training loss: 4.1460175092587\n",
      "At round 235 mean test accuracy: 0.6679664421599906 mean train accuracy: 0.6992674902228568 mean train loss: 1.5117247328401358                     number of test client: 770\n",
      "The client-group discrepancy are: [20.00179814 15.50819022  3.49498438 21.13492925 32.69043817  0.        ]\n",
      "Begin group  0 training\n"
     ]
    },
    {
     "name": "stderr",
     "output_type": "stream",
     "text": [
      "Epoch:   0%|          | 0/20 [00:00<?, ?it/s]         "
     ]
    },
    {
     "name": "stdout",
     "output_type": "stream",
     "text": [
      "Begin group  1 training\n"
     ]
    },
    {
     "name": "stderr",
     "output_type": "stream",
     "text": [
      "Epoch:   0%|          | 0/20 [00:00<?, ?it/s]         "
     ]
    },
    {
     "name": "stdout",
     "output_type": "stream",
     "text": [
      "Begin group  2 training\n"
     ]
    },
    {
     "name": "stderr",
     "output_type": "stream",
     "text": [
      "Epoch:   5%|▌         | 1/20 [00:00<00:02,  8.66it/s] "
     ]
    },
    {
     "name": "stdout",
     "output_type": "stream",
     "text": [
      "Begin group  3 training\n"
     ]
    },
    {
     "name": "stderr",
     "output_type": "stream",
     "text": [
      "                                                      \r"
     ]
    },
    {
     "name": "stdout",
     "output_type": "stream",
     "text": [
      "Training groups takes 82.61979079246521s seconds\n",
      "Scheduling clients takes 3.1659798622131348s seconds\n",
      "Group 0, clients ['YvetteObeney', 'mini_ritz', 'Kat77']\n",
      "Group 1, clients ['TheBetterSexDoc']\n",
      "Group 2, clients ['youngnik718', 'wolfchild59', 'NaythenCash', 'PercythePigeon', 'kwells2416', 'LstInTheSeeThru', 'christian792', 'Saffy', 'mcflychloe94', 'iLadySyncere', 'ashleyyosaurus', 'sprinkles_']\n",
      "Group 3, clients ['chinatheblack', 'ericbutcher']\n",
      "Group 4, clients ['suewaters', 'mossyrants']\n"
     ]
    },
    {
     "name": "stderr",
     "output_type": "stream",
     "text": [
      "\r",
      "Epoch:   0%|          | 0/20 [00:00<?, ?it/s]"
     ]
    },
    {
     "name": "stdout",
     "output_type": "stream",
     "text": [
      "Group 0\n",
      "At round 236 accuracy: 0.7294484911550468\n",
      "At round 236 training accuracy: 0.7492512932208004\n",
      "At round 236 training loss: 1.438753546291931\n",
      "Group 1\n",
      "At round 236 accuracy: 0.9346622369878184\n",
      "At round 236 training accuracy: 0.957284961966062\n",
      "At round 236 training loss: 0.35573327534377425\n",
      "Group 2\n",
      "At round 236 accuracy: 0.6744615384615384\n",
      "At round 236 training accuracy: 0.7134885977680737\n",
      "At round 236 training loss: 0.8463544409083283\n",
      "Group 3\n",
      "At round 236 accuracy: 0.7019122609673791\n",
      "At round 236 training accuracy: 0.7413230495401958\n",
      "At round 236 training loss: 0.931602065091457\n",
      "Group 4\n",
      "At round 236 accuracy: 0.4256170780520347\n",
      "At round 236 training accuracy: 0.4649291586496414\n",
      "At round 236 training loss: 4.102907677978396\n",
      "At round 236 mean test accuracy: 0.673520028358738 mean train accuracy: 0.7063132410453784 mean train loss: 1.5161634073773582                     number of test client: 770\n",
      "The client-group discrepancy are: [33.48388329 57.6001606   1.25508943 30.35954324  4.63431519 61.0194727 ]\n",
      "Begin group  0 training\n"
     ]
    },
    {
     "name": "stderr",
     "output_type": "stream",
     "text": [
      "Epoch:   5%|▌         | 1/20 [00:00<00:02,  6.53it/s] "
     ]
    },
    {
     "name": "stdout",
     "output_type": "stream",
     "text": [
      "Begin group  1 training\n"
     ]
    },
    {
     "name": "stderr",
     "output_type": "stream",
     "text": [
      "Epoch:   5%|▌         | 1/20 [00:00<00:02,  8.58it/s] "
     ]
    },
    {
     "name": "stdout",
     "output_type": "stream",
     "text": [
      "Begin group  2 training\n"
     ]
    },
    {
     "name": "stderr",
     "output_type": "stream",
     "text": [
      "Epoch:   5%|▌         | 1/20 [00:00<00:03,  6.17it/s] "
     ]
    },
    {
     "name": "stdout",
     "output_type": "stream",
     "text": [
      "Begin group  3 training\n"
     ]
    },
    {
     "name": "stderr",
     "output_type": "stream",
     "text": [
      "Epoch:   5%|▌         | 1/20 [00:00<00:02,  8.65it/s] "
     ]
    },
    {
     "name": "stdout",
     "output_type": "stream",
     "text": [
      "Begin group  4 training\n"
     ]
    },
    {
     "name": "stderr",
     "output_type": "stream",
     "text": [
      "                                                      \r"
     ]
    },
    {
     "name": "stdout",
     "output_type": "stream",
     "text": [
      "Training groups takes 64.58102416992188s seconds\n",
      "Scheduling clients takes 3.047250747680664s seconds\n",
      "Group 0, clients ['KINGmoney', 'CynthiaY29', 'clevertitania']\n",
      "Group 1, clients ['DaPrbmChild', 'nsane8', 'brokerkathy', 'mandiebear', 'Bizcuits']\n",
      "Group 2, clients ['natalieannem', 'AyyoItsAmandaJo', 'aerobic247', 'holyschmoke', 'sarahroters', 'Hyper8', 'megspptc']\n",
      "Group 3, clients ['flapjacks9702', 'davidbarrett1']\n",
      "Group 4, clients ['NikFreeman', 'kittenspawn', 'ambienteer']\n"
     ]
    },
    {
     "name": "stderr",
     "output_type": "stream",
     "text": [
      "Epoch:   5%|▌         | 1/20 [00:00<00:02,  8.94it/s]"
     ]
    },
    {
     "name": "stdout",
     "output_type": "stream",
     "text": [
      "Group 0\n",
      "At round 237 accuracy: 0.7345132743362832\n",
      "At round 237 training accuracy: 0.7505109687968388\n",
      "At round 237 training loss: 1.3818669603328677\n",
      "Group 1\n",
      "At round 237 accuracy: 0.9387978142076503\n",
      "At round 237 training accuracy: 0.9593190998268898\n",
      "At round 237 training loss: 0.3430672394418342\n",
      "Group 2\n",
      "At round 237 accuracy: 0.6653531373143377\n",
      "At round 237 training accuracy: 0.7060697785566353\n",
      "At round 237 training loss: 0.9143082680239109\n",
      "Group 3\n",
      "At round 237 accuracy: 0.7382629107981221\n",
      "At round 237 training accuracy: 0.7782245592329106\n",
      "At round 237 training loss: 0.9906245068791866\n",
      "Group 4\n",
      "At round 237 accuracy: 0.4478319783197832\n",
      "At round 237 training accuracy: 0.47209384998222537\n",
      "At round 237 training loss: 2.3074111458376962\n",
      "At round 237 mean test accuracy: 0.6800189058253574 mean train accuracy: 0.7098205971816997 mean train loss: 1.2102862625794208                     number of test client: 770\n",
      "The client-group discrepancy are: [38.54040092 38.37142401 21.69814208 48.20769874 13.62253325 60.83469278]\n",
      "Begin group  0 training\n"
     ]
    },
    {
     "name": "stderr",
     "output_type": "stream",
     "text": [
      "Epoch:   5%|▌         | 1/20 [00:00<00:02,  8.23it/s] "
     ]
    },
    {
     "name": "stdout",
     "output_type": "stream",
     "text": [
      "Begin group  1 training\n"
     ]
    },
    {
     "name": "stderr",
     "output_type": "stream",
     "text": [
      "Epoch:   5%|▌         | 1/20 [00:00<00:03,  6.21it/s] "
     ]
    },
    {
     "name": "stdout",
     "output_type": "stream",
     "text": [
      "Begin group  2 training\n"
     ]
    },
    {
     "name": "stderr",
     "output_type": "stream",
     "text": [
      "Epoch:   5%|▌         | 1/20 [00:00<00:02,  8.45it/s] "
     ]
    },
    {
     "name": "stdout",
     "output_type": "stream",
     "text": [
      "Begin group  3 training\n"
     ]
    },
    {
     "name": "stderr",
     "output_type": "stream",
     "text": [
      "Epoch:   0%|          | 0/20 [00:00<?, ?it/s]         "
     ]
    },
    {
     "name": "stdout",
     "output_type": "stream",
     "text": [
      "Begin group  4 training\n"
     ]
    },
    {
     "name": "stderr",
     "output_type": "stream",
     "text": [
      "                                                      \r"
     ]
    },
    {
     "name": "stdout",
     "output_type": "stream",
     "text": [
      "Training groups takes 65.7922956943512s seconds\n",
      "Scheduling clients takes 3.056370735168457s seconds\n",
      "Group 0, clients ['JamesHancox', 'danni82', '_MsWhite', 'raymondpirouz', 'cmbowen122']\n",
      "Group 1, clients ['markable', 'brokerkathy']\n",
      "Group 2, clients ['writesfortea', 'louiealdip', 'gobullet', 'HappyCassie', 'amalinaaa', 'christyspanties', 'suddentwilight', 'abcdefglynis', '_Alectrona_', 'DivaWonderGirl', 'natalieannem', 'NaythenCash']\n",
      "Group 3 is empty.\n",
      "Group 4, clients ['__DalekCaan__']\n"
     ]
    },
    {
     "name": "stderr",
     "output_type": "stream",
     "text": [
      "Epoch:   5%|▌         | 1/20 [00:00<00:01,  9.82it/s]"
     ]
    },
    {
     "name": "stdout",
     "output_type": "stream",
     "text": [
      "Group 0\n",
      "At round 238 accuracy: 0.7268470343392299\n",
      "At round 238 training accuracy: 0.7452316076294278\n",
      "At round 238 training loss: 1.444045325134797\n",
      "Group 1\n",
      "At round 238 accuracy: 0.9426681367144433\n",
      "At round 238 training accuracy: 0.9618742724097789\n",
      "At round 238 training loss: 0.3225669264127199\n",
      "Group 2\n",
      "At round 238 accuracy: 0.6665666266506602\n",
      "At round 238 training accuracy: 0.7024128686327078\n",
      "At round 238 training loss: 0.9717928905356097\n",
      "Group 3\n",
      "At round 238 accuracy: 0.7380952380952381\n",
      "At round 238 training accuracy: 0.7801129234629862\n",
      "At round 238 training loss: 0.9954916541511368\n",
      "Group 4\n",
      "At round 238 accuracy: 0.4528043775649795\n",
      "At round 238 training accuracy: 0.4901292175161522\n",
      "At round 238 training loss: 1.8644632269004566\n",
      "At round 238 mean test accuracy: 0.6800189058253574 mean train accuracy: 0.710813830777826 mean train loss: 1.1668733806300606                     number of test client: 770\n",
      "The client-group discrepancy are: [30.67542569 29.20475886 25.99228122 29.62243912  0.         60.03088752]\n",
      "Begin group  0 training\n"
     ]
    },
    {
     "name": "stderr",
     "output_type": "stream",
     "text": [
      "Epoch:   5%|▌         | 1/20 [00:00<00:02,  6.81it/s] "
     ]
    },
    {
     "name": "stdout",
     "output_type": "stream",
     "text": [
      "Begin group  1 training\n"
     ]
    },
    {
     "name": "stderr",
     "output_type": "stream",
     "text": [
      "Epoch:   5%|▌         | 1/20 [00:00<00:02,  9.30it/s] "
     ]
    },
    {
     "name": "stdout",
     "output_type": "stream",
     "text": [
      "Begin group  2 training\n"
     ]
    },
    {
     "name": "stderr",
     "output_type": "stream",
     "text": [
      "Epoch:   5%|▌         | 1/20 [00:00<00:02,  8.53it/s] "
     ]
    },
    {
     "name": "stdout",
     "output_type": "stream",
     "text": [
      "Begin group  4 training\n"
     ]
    },
    {
     "name": "stderr",
     "output_type": "stream",
     "text": [
      "                                                      \r"
     ]
    },
    {
     "name": "stdout",
     "output_type": "stream",
     "text": [
      "Training groups takes 58.056708335876465s seconds\n",
      "Scheduling clients takes 3.094890832901001s seconds\n",
      "Group 0, clients ['Jill88']\n",
      "Group 1, clients ['RabbiShaiSpecht', 'Sheamus', 'tweeteradder16', 'dannybrown', 'chaosbot']\n",
      "Group 2, clients ['gschan', 'krapposelli', 'froggie775', 'irishsamom', 'nwoidaho', 'steph_davies', 'VickiElam', 'Lizloz', 'winniedepoohi', 'amysav83']\n",
      "Group 3, clients ['thatlass', 'Nathan133', 'SarahMorrison', 'niccccolle']\n",
      "Group 4 is empty.\n"
     ]
    },
    {
     "name": "stderr",
     "output_type": "stream",
     "text": [
      "Epoch:   5%|▌         | 1/20 [00:00<00:02,  8.72it/s]"
     ]
    },
    {
     "name": "stdout",
     "output_type": "stream",
     "text": [
      "Group 0\n",
      "At round 239 accuracy: 0.7183394640042039\n",
      "At round 239 training accuracy: 0.7399201871473785\n",
      "At round 239 training loss: 1.256561261840504\n",
      "Group 1\n",
      "At round 239 accuracy: 0.9388646288209607\n",
      "At round 239 training accuracy: 0.9622260668973471\n",
      "At round 239 training loss: 0.2640464834468894\n",
      "Group 2\n",
      "At round 239 accuracy: 0.6643896643896644\n",
      "At round 239 training accuracy: 0.7140962633590764\n",
      "At round 239 training loss: 0.8172867269943886\n",
      "Group 3\n",
      "At round 239 accuracy: 0.7445589919816724\n",
      "At round 239 training accuracy: 0.7828709288299156\n",
      "At round 239 training loss: 0.9667950538256677\n",
      "Group 4\n",
      "At round 239 accuracy: 0.6203703703703703\n",
      "At round 239 training accuracy: 0.6479057591623036\n",
      "At round 239 training loss: 1.153358060251648\n",
      "At round 239 mean test accuracy: 0.707196029776675 mean train accuracy: 0.7427214600533864 mean train loss: 0.9279903703656822                     number of test client: 770\n",
      "The client-group discrepancy are: [30.87197598 56.35191922 12.40243151 31.18168858 46.81463927  0.        ]\n",
      "Begin group  0 training\n"
     ]
    },
    {
     "name": "stderr",
     "output_type": "stream",
     "text": [
      "Epoch:   5%|▌         | 1/20 [00:00<00:03,  5.99it/s] "
     ]
    },
    {
     "name": "stdout",
     "output_type": "stream",
     "text": [
      "Begin group  1 training\n"
     ]
    },
    {
     "name": "stderr",
     "output_type": "stream",
     "text": [
      "Epoch:   5%|▌         | 1/20 [00:00<00:03,  6.20it/s] "
     ]
    },
    {
     "name": "stdout",
     "output_type": "stream",
     "text": [
      "Begin group  2 training\n"
     ]
    },
    {
     "name": "stderr",
     "output_type": "stream",
     "text": [
      "Epoch:   5%|▌         | 1/20 [00:00<00:03,  6.30it/s] "
     ]
    },
    {
     "name": "stdout",
     "output_type": "stream",
     "text": [
      "Begin group  3 training\n"
     ]
    },
    {
     "name": "stderr",
     "output_type": "stream",
     "text": [
      "                                                      \r"
     ]
    },
    {
     "name": "stdout",
     "output_type": "stream",
     "text": [
      "Training groups takes 73.45573592185974s seconds\n",
      "Scheduling clients takes 3.0532095432281494s seconds\n",
      "Group 0, clients ['tweeteradder9']\n",
      "Group 1, clients ['purplehayz']\n",
      "Group 2, clients ['tynie626', 'iHaps', 'MAGGIECHICKEN', 'xmiyix', 'JoReynolds55', 'letssingbaby', 'writesfortea', 'kristikubota', 'Nikie_D', 'amberwhiting', 'gabysslave', 'lucysavagex', 'brinshannara', 'mr_billiam']\n",
      "Group 3, clients ['Cherrim', 'Haarlz']\n",
      "Group 4, clients ['sarahroters', '30STMluva']\n"
     ]
    },
    {
     "name": "stderr",
     "output_type": "stream",
     "text": [
      "\r",
      "Epoch:   0%|          | 0/20 [00:00<?, ?it/s]"
     ]
    },
    {
     "name": "stdout",
     "output_type": "stream",
     "text": [
      "Group 0\n",
      "At round 240 accuracy: 0.711395101171459\n",
      "At round 240 training accuracy: 0.7255749128919861\n",
      "At round 240 training loss: 1.4445434765347023\n",
      "Group 1\n",
      "At round 240 accuracy: 0.9438943894389439\n",
      "At round 240 training accuracy: 0.9645760743321719\n",
      "At round 240 training loss: 0.2488856784416094\n",
      "Group 2\n",
      "At round 240 accuracy: 0.6736009375915617\n",
      "At round 240 training accuracy: 0.7227654168912157\n",
      "At round 240 training loss: 0.8973690963430756\n",
      "Group 3\n",
      "At round 240 accuracy: 0.7796803652968036\n",
      "At round 240 training accuracy: 0.8057057057057057\n",
      "At round 240 training loss: 1.0498556104071253\n",
      "Group 4\n",
      "At round 240 accuracy: 0.6229271809661139\n",
      "At round 240 training accuracy: 0.6534090909090909\n",
      "At round 240 training loss: 1.1335910422171407\n",
      "At round 240 mean test accuracy: 0.7136949072432943 mean train accuracy: 0.7464460860388603 mean train loss: 1.0043785709433184                     number of test client: 770\n",
      "The client-group discrepancy are: [35.19428541 19.42643967  8.73685451 34.26337521 35.69076798 62.32681255]\n",
      "Begin group  0 training\n"
     ]
    },
    {
     "name": "stderr",
     "output_type": "stream",
     "text": [
      "Epoch:   5%|▌         | 1/20 [00:00<00:02,  8.21it/s] "
     ]
    },
    {
     "name": "stdout",
     "output_type": "stream",
     "text": [
      "Begin group  1 training\n"
     ]
    },
    {
     "name": "stderr",
     "output_type": "stream",
     "text": [
      "Epoch:   5%|▌         | 1/20 [00:00<00:02,  6.78it/s] "
     ]
    },
    {
     "name": "stdout",
     "output_type": "stream",
     "text": [
      "Begin group  2 training\n"
     ]
    },
    {
     "name": "stderr",
     "output_type": "stream",
     "text": [
      "Epoch:   5%|▌         | 1/20 [00:00<00:03,  5.56it/s] "
     ]
    },
    {
     "name": "stdout",
     "output_type": "stream",
     "text": [
      "Begin group  3 training\n"
     ]
    },
    {
     "name": "stderr",
     "output_type": "stream",
     "text": [
      "Epoch:   0%|          | 0/20 [00:00<?, ?it/s]         "
     ]
    },
    {
     "name": "stdout",
     "output_type": "stream",
     "text": [
      "Begin group  4 training\n"
     ]
    },
    {
     "name": "stderr",
     "output_type": "stream",
     "text": [
      "                                                      \r"
     ]
    },
    {
     "name": "stdout",
     "output_type": "stream",
     "text": [
      "Training groups takes 61.33190393447876s seconds\n",
      "Scheduling clients takes 3.076598644256592s seconds\n",
      "Group 0, clients ['tweeteradder10']\n",
      "Group 1, clients ['UniqueGuitarist', 'holidaycarclub', 'twilightfairy']\n",
      "Group 2, clients ['BlueEyedGirl18', 'jaronmc', 'holyschmoke', 'mannykimchi', 'ScottRhodie', 'jesslina', 'Rikou26', 'littlefluffycat', 'angel9293', 'kalpik', 'LiverpoolFan74', 'goatkeeper7', 'nere13', 'PaulineMJ']\n",
      "Group 3, clients ['olivia_15', 'elenarr']\n",
      "Group 4 is empty.\n"
     ]
    },
    {
     "name": "stderr",
     "output_type": "stream",
     "text": [
      "\r",
      "Epoch:   0%|          | 0/20 [00:00<?, ?it/s]"
     ]
    },
    {
     "name": "stdout",
     "output_type": "stream",
     "text": [
      "Group 0\n",
      "At round 241 accuracy: 0.720892274211099\n",
      "At round 241 training accuracy: 0.7336275626423691\n",
      "At round 241 training loss: 1.4573292879882793\n",
      "Group 1\n",
      "At round 241 accuracy: 0.9428251121076233\n",
      "At round 241 training accuracy: 0.9635986978395975\n",
      "At round 241 training loss: 0.26440872496011963\n",
      "Group 2\n",
      "At round 241 accuracy: 0.6711698764012647\n",
      "At round 241 training accuracy: 0.7028252001812962\n",
      "At round 241 training loss: 0.8172993157885593\n",
      "Group 3\n",
      "At round 241 accuracy: 0.7796803652968036\n",
      "At round 241 training accuracy: 0.8024024024024023\n",
      "At round 241 training loss: 0.9580616281545433\n",
      "Group 4\n",
      "At round 241 accuracy: 0.6226415094339622\n",
      "At round 241 training accuracy: 0.6268343815513627\n",
      "At round 241 training loss: 2.0134346862260184\n",
      "At round 241 mean test accuracy: 0.7139312300602623 mean train accuracy: 0.7348066298342542 mean train loss: 1.1081992477267806                     number of test client: 770\n",
      "The client-group discrepancy are: [27.43154716 52.41717167  4.53035252 33.08272849  9.73225755  0.        ]\n",
      "Begin group  0 training\n"
     ]
    },
    {
     "name": "stderr",
     "output_type": "stream",
     "text": [
      "Epoch:   5%|▌         | 1/20 [00:00<00:03,  5.42it/s] "
     ]
    },
    {
     "name": "stdout",
     "output_type": "stream",
     "text": [
      "Begin group  1 training\n"
     ]
    },
    {
     "name": "stderr",
     "output_type": "stream",
     "text": [
      "Epoch:   0%|          | 0/20 [00:00<?, ?it/s]         "
     ]
    },
    {
     "name": "stdout",
     "output_type": "stream",
     "text": [
      "Begin group  2 training\n"
     ]
    },
    {
     "name": "stderr",
     "output_type": "stream",
     "text": [
      "Epoch:   5%|▌         | 1/20 [00:00<00:03,  5.84it/s] "
     ]
    },
    {
     "name": "stdout",
     "output_type": "stream",
     "text": [
      "Begin group  3 training\n"
     ]
    },
    {
     "name": "stderr",
     "output_type": "stream",
     "text": [
      "                                                      \r"
     ]
    },
    {
     "name": "stdout",
     "output_type": "stream",
     "text": [
      "Training groups takes 61.95927596092224s seconds\n",
      "Scheduling clients takes 3.0506293773651123s seconds\n",
      "Group 0, clients ['Jill88', 'isisproject']\n",
      "Group 1, clients ['quinland', 'Custardcuppcake']\n",
      "Group 2, clients ['Rianca', 'minorityx', 'paul_steele', 'Lizloz', 'mnstrsnmnchkns', 'donniesgirl01', 'bkGirlFriday', 'DubarryMcfly', 'teachernz']\n",
      "Group 3, clients ['Cass_fryer', 'Cherrim', 'veganluke', 'elenarr', 'I_enigma', 'sfgiantsgirl']\n",
      "Group 4, clients ['stratosphear']\n"
     ]
    },
    {
     "name": "stderr",
     "output_type": "stream",
     "text": [
      "Epoch:   5%|▌         | 1/20 [00:00<00:02,  9.41it/s]"
     ]
    },
    {
     "name": "stdout",
     "output_type": "stream",
     "text": [
      "Group 0\n",
      "At round 242 accuracy: 0.7227722772277227\n",
      "At round 242 training accuracy: 0.7387737478411054\n",
      "At round 242 training loss: 1.4602997251278713\n",
      "Group 1\n",
      "At round 242 accuracy: 0.9417040358744395\n",
      "At round 242 training accuracy: 0.963894643385617\n",
      "At round 242 training loss: 0.23321279595850228\n",
      "Group 2\n",
      "At round 242 accuracy: 0.6802525832376579\n",
      "At round 242 training accuracy: 0.7152447763445727\n",
      "At round 242 training loss: 0.7993440043031967\n",
      "Group 3\n",
      "At round 242 accuracy: 0.7104377104377104\n",
      "At round 242 training accuracy: 0.7614408030705639\n",
      "At round 242 training loss: 0.7696877327690724\n",
      "Group 4\n",
      "At round 242 accuracy: 0.6219158200290276\n",
      "At round 242 training accuracy: 0.628168477225081\n",
      "At round 242 training loss: 2.0056694927979075\n",
      "At round 242 mean test accuracy: 0.7106227106227107 mean train accuracy: 0.7370724439754175 mean train loss: 1.0758511444651802                     number of test client: 770\n",
      "The client-group discrepancy are: [27.3176786  24.59875531  3.9527126  31.36680741 24.16665483 61.94944051]\n",
      "Begin group  0 training\n"
     ]
    },
    {
     "name": "stderr",
     "output_type": "stream",
     "text": [
      "Epoch:   0%|          | 0/20 [00:00<?, ?it/s]         "
     ]
    },
    {
     "name": "stdout",
     "output_type": "stream",
     "text": [
      "Begin group  1 training\n"
     ]
    },
    {
     "name": "stderr",
     "output_type": "stream",
     "text": [
      "Epoch:   5%|▌         | 1/20 [00:00<00:02,  6.83it/s] "
     ]
    },
    {
     "name": "stdout",
     "output_type": "stream",
     "text": [
      "Begin group  2 training\n"
     ]
    },
    {
     "name": "stderr",
     "output_type": "stream",
     "text": [
      "Epoch:   5%|▌         | 1/20 [00:00<00:02,  6.75it/s] "
     ]
    },
    {
     "name": "stdout",
     "output_type": "stream",
     "text": [
      "Begin group  3 training\n"
     ]
    },
    {
     "name": "stderr",
     "output_type": "stream",
     "text": [
      "Epoch:   5%|▌         | 1/20 [00:00<00:02,  9.09it/s] "
     ]
    },
    {
     "name": "stdout",
     "output_type": "stream",
     "text": [
      "Begin group  4 training\n"
     ]
    },
    {
     "name": "stderr",
     "output_type": "stream",
     "text": [
      "                                                      \r"
     ]
    },
    {
     "name": "stdout",
     "output_type": "stream",
     "text": [
      "Training groups takes 71.31529784202576s seconds\n",
      "Scheduling clients takes 3.0061135292053223s seconds\n",
      "Group 0, clients ['velofille', 'tweeteradder16']\n",
      "Group 1, clients ['OHMYDAYSitsHayz', 'addieking', 'zoeyjordan', 'FreshPlastic']\n",
      "Group 2, clients ['donniesgirl01', 'MisterRo', 'Jodasaur', 'redoranda', 'feelme', 'vickymoontree', 'wonderpetunia', 'kat_n']\n",
      "Group 3, clients ['iheartnynuk', 'sky14kemea', 'Shinybiscuit']\n",
      "Group 4, clients ['mam1cutie', 'marianaguidil', 'TinyPicTweets']\n"
     ]
    },
    {
     "name": "stderr",
     "output_type": "stream",
     "text": [
      "Epoch:   5%|▌         | 1/20 [00:00<00:02,  8.26it/s]"
     ]
    },
    {
     "name": "stdout",
     "output_type": "stream",
     "text": [
      "Group 0\n",
      "At round 243 accuracy: 0.7218251786695987\n",
      "At round 243 training accuracy: 0.7386674341631889\n",
      "At round 243 training loss: 1.5031119111707896\n",
      "Group 1\n",
      "At round 243 accuracy: 0.9472502805836139\n",
      "At round 243 training accuracy: 0.9653743711157147\n",
      "At round 243 training loss: 0.22381661475272796\n",
      "Group 2\n",
      "At round 243 accuracy: 0.6831823329558324\n",
      "At round 243 training accuracy: 0.7112880422650495\n",
      "At round 243 training loss: 0.9676823006742314\n",
      "Group 3\n",
      "At round 243 accuracy: 0.7631874298540965\n",
      "At round 243 training accuracy: 0.8092707410687925\n",
      "At round 243 training loss: 0.8582555014779778\n",
      "Group 4\n",
      "At round 243 accuracy: 0.5997023809523809\n",
      "At round 243 training accuracy: 0.6115234375\n",
      "At round 243 training loss: 1.2791931485917303\n",
      "At round 243 mean test accuracy: 0.7144036805473635 mean train accuracy: 0.7382413087934561 mean train loss: 1.0430211239707456                     number of test client: 771\n",
      "The client-group discrepancy are: [35.57948606 52.43418915 28.09046575 40.90245863 11.92029239 43.7929779 ]\n",
      "Begin group  0 training\n"
     ]
    },
    {
     "name": "stderr",
     "output_type": "stream",
     "text": [
      "Epoch:   5%|▌         | 1/20 [00:00<00:02,  8.67it/s] "
     ]
    },
    {
     "name": "stdout",
     "output_type": "stream",
     "text": [
      "Begin group  1 training\n"
     ]
    },
    {
     "name": "stderr",
     "output_type": "stream",
     "text": [
      "Epoch:   5%|▌         | 1/20 [00:00<00:02,  8.46it/s] "
     ]
    },
    {
     "name": "stdout",
     "output_type": "stream",
     "text": [
      "Begin group  2 training\n"
     ]
    },
    {
     "name": "stderr",
     "output_type": "stream",
     "text": [
      "Epoch:   5%|▌         | 1/20 [00:00<00:02,  6.39it/s] "
     ]
    },
    {
     "name": "stdout",
     "output_type": "stream",
     "text": [
      "Begin group  3 training\n"
     ]
    },
    {
     "name": "stderr",
     "output_type": "stream",
     "text": [
      "Epoch:   0%|          | 0/20 [00:00<?, ?it/s]         "
     ]
    },
    {
     "name": "stdout",
     "output_type": "stream",
     "text": [
      "Begin group  4 training\n"
     ]
    },
    {
     "name": "stderr",
     "output_type": "stream",
     "text": [
      "                                                      \r"
     ]
    },
    {
     "name": "stdout",
     "output_type": "stream",
     "text": [
      "Training groups takes 65.36202716827393s seconds\n",
      "Scheduling clients takes 3.0730977058410645s seconds\n",
      "Group 0, clients ['MaschaD', 'TheBetterSexDoc', 'tweeteradder3', 'mneylon']\n",
      "Group 1, clients ['SusanCosmos', 'AshesOfLilies', 'mixmasterfestus', 'Sunshineliron']\n",
      "Group 2, clients ['yolie81', 'PaulDale67', 'dreadw', 'KiSHEZ', 'MAGGIECHICKEN', 'CaraNinaMcfly', 'saintcreaghzy', 'amberwhiting', 'issie07', 'writesfortea', 'xDirtyBurdx', 'heyisabelle_']\n",
      "Group 3 is empty.\n",
      "Group 4 is empty.\n"
     ]
    },
    {
     "name": "stderr",
     "output_type": "stream",
     "text": [
      "\r",
      "Epoch:   0%|          | 0/20 [00:00<?, ?it/s]"
     ]
    },
    {
     "name": "stdout",
     "output_type": "stream",
     "text": [
      "Group 0\n",
      "At round 244 accuracy: 0.7359212684527064\n",
      "At round 244 training accuracy: 0.7488199113145473\n",
      "At round 244 training loss: 1.748262524689127\n",
      "Group 1\n",
      "At round 244 accuracy: 0.9464082098061574\n",
      "At round 244 training accuracy: 0.963609022556391\n",
      "At round 244 training loss: 0.24258491341732757\n",
      "Group 2\n",
      "At round 244 accuracy: 0.6643278136401909\n",
      "At round 244 training accuracy: 0.6943501991444165\n",
      "At round 244 training loss: 0.8769716609300704\n",
      "Group 3\n",
      "At round 244 accuracy: 0.7744107744107744\n",
      "At round 244 training accuracy: 0.8125184529081784\n",
      "At round 244 training loss: 0.9467189223882952\n",
      "Group 4\n",
      "At round 244 accuracy: 0.6271829916476841\n",
      "At round 244 training accuracy: 0.6305605425892679\n",
      "At round 244 training loss: 1.187319998395771\n",
      "At round 244 mean test accuracy: 0.714757579332311 mean train accuracy: 0.7363822271797732 mean train loss: 1.0558732127468349                     number of test client: 771\n",
      "The client-group discrepancy are: [24.40362761 42.29382919 13.56402274 22.0534287   0.          0.        ]\n",
      "Begin group  0 training\n"
     ]
    },
    {
     "name": "stderr",
     "output_type": "stream",
     "text": [
      "Epoch:   5%|▌         | 1/20 [00:00<00:02,  8.58it/s] "
     ]
    },
    {
     "name": "stdout",
     "output_type": "stream",
     "text": [
      "Begin group  1 training\n"
     ]
    },
    {
     "name": "stderr",
     "output_type": "stream",
     "text": [
      "Epoch:   5%|▌         | 1/20 [00:00<00:02,  6.84it/s] "
     ]
    },
    {
     "name": "stdout",
     "output_type": "stream",
     "text": [
      "Begin group  2 training\n"
     ]
    },
    {
     "name": "stderr",
     "output_type": "stream",
     "text": [
      "                                                      \r"
     ]
    },
    {
     "name": "stdout",
     "output_type": "stream",
     "text": [
      "Training groups takes 67.7053337097168s seconds\n",
      "Scheduling clients takes 3.085235357284546s seconds\n",
      "Group 0, clients ['toastedfrenchie', 'GlitzyGloss', 'R_Arblaster']\n",
      "Group 1, clients ['dopeydoo', 'quinland', 'RyanMacintosh', 'FreshPlastic', 'LadyParadis']\n",
      "Group 2, clients ['DarianMarie43', 'kjgriffin18', 'charleneortiz', 'Arasphere', 'rockbigdave', 'kyoisorange', 'Kitt69']\n",
      "Group 3, clients ['evil_cackle', 'atkailash', 'BeantownCutie']\n",
      "Group 4, clients ['mam1cutie', 'GinaLaGuardia']\n"
     ]
    },
    {
     "name": "stderr",
     "output_type": "stream",
     "text": [
      "\r",
      "Epoch:   0%|          | 0/20 [00:00<?, ?it/s]"
     ]
    },
    {
     "name": "stdout",
     "output_type": "stream",
     "text": [
      "Group 0\n",
      "At round 245 accuracy: 0.7386797599563557\n",
      "At round 245 training accuracy: 0.7529596348595065\n",
      "At round 245 training loss: 1.7745149008519048\n",
      "Group 1\n",
      "At round 245 accuracy: 0.9423298731257209\n",
      "At round 245 training accuracy: 0.9626026147765279\n",
      "At round 245 training loss: 0.21522439845186236\n",
      "Group 2\n",
      "At round 245 accuracy: 0.6890686001115449\n",
      "At round 245 training accuracy: 0.7081592258632066\n",
      "At round 245 training loss: 0.8028020204647258\n",
      "Group 3\n",
      "At round 245 accuracy: 0.7744444444444445\n",
      "At round 245 training accuracy: 0.8129201987722888\n",
      "At round 245 training loss: 0.9472163917966545\n",
      "Group 4\n",
      "At round 245 accuracy: 0.6250968241673122\n",
      "At round 245 training accuracy: 0.6294788273615635\n",
      "At round 245 training loss: 1.1857135045532317\n",
      "At round 245 mean test accuracy: 0.7250206440957886 mean train accuracy: 0.742950982214786 mean train loss: 1.0275971800285688                     number of test client: 771\n",
      "The client-group discrepancy are: [30.43749293 39.62201673 12.92892782 40.76557879 24.87579358 32.6263685 ]\n",
      "Begin group  0 training\n"
     ]
    },
    {
     "name": "stderr",
     "output_type": "stream",
     "text": [
      "Epoch:   5%|▌         | 1/20 [00:00<00:03,  6.17it/s] "
     ]
    },
    {
     "name": "stdout",
     "output_type": "stream",
     "text": [
      "Begin group  1 training\n"
     ]
    },
    {
     "name": "stderr",
     "output_type": "stream",
     "text": [
      "Epoch:   5%|▌         | 1/20 [00:00<00:02,  6.40it/s] "
     ]
    },
    {
     "name": "stdout",
     "output_type": "stream",
     "text": [
      "Begin group  2 training\n"
     ]
    },
    {
     "name": "stderr",
     "output_type": "stream",
     "text": [
      "Epoch:   5%|▌         | 1/20 [00:00<00:02,  7.37it/s] "
     ]
    },
    {
     "name": "stdout",
     "output_type": "stream",
     "text": [
      "Begin group  3 training\n"
     ]
    },
    {
     "name": "stderr",
     "output_type": "stream",
     "text": [
      "Epoch:   0%|          | 0/20 [00:00<?, ?it/s]         "
     ]
    },
    {
     "name": "stdout",
     "output_type": "stream",
     "text": [
      "Begin group  4 training\n"
     ]
    },
    {
     "name": "stderr",
     "output_type": "stream",
     "text": [
      "                                                      \r"
     ]
    },
    {
     "name": "stdout",
     "output_type": "stream",
     "text": [
      "Training groups takes 63.27654004096985s seconds\n",
      "Scheduling clients takes 2.968132257461548s seconds\n",
      "Group 0, clients ['KatyCaptivated']\n",
      "Group 1, clients ['FreshPlastic']\n",
      "Group 2, clients ['exortabreedoll', 'schaeferj89', 'pato_30stm', 'randomblonde', 'oldskool90', 'rockbigdave', 'brightondoll', 'juliarygaard', 'paul_steele', 'honeysnowflakes', 'itsJohno', 'kjerstia', 'm0po', 'crazymitchell']\n",
      "Group 3, clients ['Extremo', 'suewaters', 'mister_peterman', 'PrincessSakura']\n",
      "Group 4 is empty.\n"
     ]
    },
    {
     "name": "stderr",
     "output_type": "stream",
     "text": [
      "\r",
      "Epoch:   0%|          | 0/20 [00:00<?, ?it/s]"
     ]
    },
    {
     "name": "stdout",
     "output_type": "stream",
     "text": [
      "Group 0\n",
      "At round 246 accuracy: 0.7429674572531716\n",
      "At round 246 training accuracy: 0.7614996395097332\n",
      "At round 246 training loss: 1.6085636746636363\n",
      "Group 1\n",
      "At round 246 accuracy: 0.9388696655132641\n",
      "At round 246 training accuracy: 0.9622985709942232\n",
      "At round 246 training loss: 0.21981664178824656\n",
      "Group 2\n",
      "At round 246 accuracy: 0.6892561983471074\n",
      "At round 246 training accuracy: 0.7142960602549246\n",
      "At round 246 training loss: 0.8493148834727324\n",
      "Group 3\n",
      "At round 246 accuracy: 0.7778993435448578\n",
      "At round 246 training accuracy: 0.8186528497409327\n",
      "At round 246 training loss: 0.9211182321740017\n",
      "Group 4\n",
      "At round 246 accuracy: 0.6440542697525937\n",
      "At round 246 training accuracy: 0.6470218120805369\n",
      "At round 246 training loss: 1.2525809949543787\n",
      "At round 246 mean test accuracy: 0.7291494632535095 mean train accuracy: 0.7510070025407448 mean train loss: 1.0156155683255967                     number of test client: 771\n",
      "The client-group discrepancy are: [29.45122289 57.40759111  0.767103   27.95652298 34.86461047  0.        ]\n",
      "Begin group  0 training\n"
     ]
    },
    {
     "name": "stderr",
     "output_type": "stream",
     "text": [
      "Epoch:   5%|▌         | 1/20 [00:00<00:01,  9.57it/s] "
     ]
    },
    {
     "name": "stdout",
     "output_type": "stream",
     "text": [
      "Begin group  1 training\n"
     ]
    },
    {
     "name": "stderr",
     "output_type": "stream",
     "text": [
      "Epoch:   5%|▌         | 1/20 [00:00<00:03,  5.95it/s] "
     ]
    },
    {
     "name": "stdout",
     "output_type": "stream",
     "text": [
      "Begin group  2 training\n"
     ]
    },
    {
     "name": "stderr",
     "output_type": "stream",
     "text": [
      "Epoch:   0%|          | 0/20 [00:00<?, ?it/s]         "
     ]
    },
    {
     "name": "stdout",
     "output_type": "stream",
     "text": [
      "Begin group  3 training\n"
     ]
    },
    {
     "name": "stderr",
     "output_type": "stream",
     "text": [
      "                                                      \r"
     ]
    },
    {
     "name": "stdout",
     "output_type": "stream",
     "text": [
      "Training groups takes 68.42478537559509s seconds\n",
      "Scheduling clients takes 3.0068721771240234s seconds\n",
      "Group 0, clients ['nandeb', 'isisproject', 'garyshort']\n",
      "Group 1, clients ['zoeyjordan', 'combustiblesong', 'AsiaBrands']\n",
      "Group 2, clients ['dannisaywhat', 'tan1337', 'Itxi_Itx', 'nwoidaho', 'ameym21', 'sarahlay', 'janeybelle15', 'MupNorth']\n",
      "Group 3, clients ['SarahMorrison', 'sampan22', 'lrnn']\n",
      "Group 4, clients ['TeamUKskyvixen', 'Trace027', 'CannonGod']\n"
     ]
    },
    {
     "name": "stderr",
     "output_type": "stream",
     "text": [
      "\r",
      "Epoch:   0%|          | 0/20 [00:00<?, ?it/s]"
     ]
    },
    {
     "name": "stdout",
     "output_type": "stream",
     "text": [
      "Group 0\n",
      "At round 247 accuracy: 0.7383230163196398\n",
      "At round 247 training accuracy: 0.7539297781695313\n",
      "At round 247 training loss: 1.2012211165967457\n",
      "Group 1\n",
      "At round 247 accuracy: 0.9446366782006921\n",
      "At round 247 training accuracy: 0.9592581331711767\n",
      "At round 247 training loss: 0.2562943309253045\n",
      "Group 2\n",
      "At round 247 accuracy: 0.6911605206073753\n",
      "At round 247 training accuracy: 0.7216399286987523\n",
      "At round 247 training loss: 0.8638262150780615\n",
      "Group 3\n",
      "At round 247 accuracy: 0.7871621621621622\n",
      "At round 247 training accuracy: 0.8266666666666667\n",
      "At round 247 training loss: 0.8712185880896394\n",
      "Group 4\n",
      "At round 247 accuracy: 0.6443914081145584\n",
      "At round 247 training accuracy: 0.6494349100041859\n",
      "At round 247 training loss: 1.240691807654507\n",
      "At round 247 mean test accuracy: 0.7300931933467029 mean train accuracy: 0.7529590382351119 mean train loss: 0.9296404242837254                     number of test client: 771\n",
      "The client-group discrepancy are: [29.90556721 22.14279746  2.62917337 45.85462222  8.20894097 44.11054367]\n",
      "Begin group  0 training\n"
     ]
    },
    {
     "name": "stderr",
     "output_type": "stream",
     "text": [
      "Epoch:   5%|▌         | 1/20 [00:00<00:02,  6.62it/s] "
     ]
    },
    {
     "name": "stdout",
     "output_type": "stream",
     "text": [
      "Begin group  1 training\n"
     ]
    },
    {
     "name": "stderr",
     "output_type": "stream",
     "text": [
      "Epoch:   5%|▌         | 1/20 [00:00<00:02,  6.65it/s] "
     ]
    },
    {
     "name": "stdout",
     "output_type": "stream",
     "text": [
      "Begin group  2 training\n"
     ]
    },
    {
     "name": "stderr",
     "output_type": "stream",
     "text": [
      "Epoch:   0%|          | 0/20 [00:00<?, ?it/s]         "
     ]
    },
    {
     "name": "stdout",
     "output_type": "stream",
     "text": [
      "Begin group  3 training\n"
     ]
    },
    {
     "name": "stderr",
     "output_type": "stream",
     "text": [
      "Epoch:   5%|▌         | 1/20 [00:00<00:03,  5.46it/s] "
     ]
    },
    {
     "name": "stdout",
     "output_type": "stream",
     "text": [
      "Begin group  4 training\n"
     ]
    },
    {
     "name": "stderr",
     "output_type": "stream",
     "text": [
      "                                                      \r"
     ]
    },
    {
     "name": "stdout",
     "output_type": "stream",
     "text": [
      "Training groups takes 63.57404112815857s seconds\n",
      "Scheduling clients takes 3.0337555408477783s seconds\n",
      "Group 0, clients ['tweeteradder5']\n",
      "Group 1, clients ['UniqueGuitarist', 'Speaker99', 'wiseleo', 'mandiebear']\n",
      "Group 2, clients ['pearlbones', 'lawschoolninja', 'xDirtyBurdx', 'AlluringBri', 'jerryfetus', 'dreadw', 'JoReynolds55', 'teachernz', 'saintcreaghzy']\n",
      "Group 3, clients ['isdown']\n",
      "Group 4, clients ['LiluYvett', 'aussie_ali', 'SpiderxBear', 'kjerstia', 'karenstrunks']\n"
     ]
    },
    {
     "name": "stderr",
     "output_type": "stream",
     "text": [
      "\r",
      "Epoch:   0%|          | 0/20 [00:00<?, ?it/s]"
     ]
    },
    {
     "name": "stdout",
     "output_type": "stream",
     "text": [
      "Group 0\n",
      "At round 248 accuracy: 0.7516816143497758\n",
      "At round 248 training accuracy: 0.7673296285463586\n",
      "At round 248 training loss: 1.3118534412254141\n",
      "Group 1\n",
      "At round 248 accuracy: 0.9401805869074492\n",
      "At round 248 training accuracy: 0.9607376561570494\n",
      "At round 248 training loss: 0.25696737831661015\n",
      "Group 2\n",
      "At round 248 accuracy: 0.6743305382742765\n",
      "At round 248 training accuracy: 0.7067690557451649\n",
      "At round 248 training loss: 0.9276526007818247\n",
      "Group 3\n",
      "At round 248 accuracy: 0.770663562281723\n",
      "At round 248 training accuracy: 0.8104134762633997\n",
      "At round 248 training loss: 0.9664626354383017\n",
      "Group 4\n",
      "At round 248 accuracy: 0.6514788169464428\n",
      "At round 248 training accuracy: 0.660695468914647\n",
      "At round 248 training loss: 1.1027940245021381\n",
      "At round 248 mean test accuracy: 0.7247847115724902 mean train accuracy: 0.7497676147982897 mean train loss: 0.9688647978361563                     number of test client: 771\n",
      "The client-group discrepancy are: [31.30023464 57.63851389 16.00728119 24.01308384 10.50934905 55.54199012]\n",
      "Begin group  0 training\n"
     ]
    },
    {
     "name": "stderr",
     "output_type": "stream",
     "text": [
      "Epoch:   5%|▌         | 1/20 [00:00<00:03,  5.47it/s] "
     ]
    },
    {
     "name": "stdout",
     "output_type": "stream",
     "text": [
      "Begin group  1 training\n"
     ]
    },
    {
     "name": "stderr",
     "output_type": "stream",
     "text": [
      "Epoch:   0%|          | 0/20 [00:00<?, ?it/s]         "
     ]
    },
    {
     "name": "stdout",
     "output_type": "stream",
     "text": [
      "Begin group  2 training\n"
     ]
    },
    {
     "name": "stderr",
     "output_type": "stream",
     "text": [
      "Epoch:   5%|▌         | 1/20 [00:00<00:03,  5.72it/s] "
     ]
    },
    {
     "name": "stdout",
     "output_type": "stream",
     "text": [
      "Begin group  3 training\n"
     ]
    },
    {
     "name": "stderr",
     "output_type": "stream",
     "text": [
      "Epoch:   5%|▌         | 1/20 [00:00<00:02,  9.34it/s] "
     ]
    },
    {
     "name": "stdout",
     "output_type": "stream",
     "text": [
      "Begin group  4 training\n"
     ]
    },
    {
     "name": "stderr",
     "output_type": "stream",
     "text": [
      "                                                      \r"
     ]
    },
    {
     "name": "stdout",
     "output_type": "stream",
     "text": [
      "Training groups takes 66.10801863670349s seconds\n",
      "Scheduling clients takes 3.084587335586548s seconds\n",
      "Group 0, clients ['AussieGal999', 'tweeteradder3', 'tweeteradder20', 'pagan_spell']\n",
      "Group 1, clients ['wiseleo']\n",
      "Group 2, clients ['bacieabbracci', 'Arhum', 'lucyntn', 'Jodasaur', 'thalovebug', '4evaurgirl', 'janeybelle15', 'Sharonyy', 'MissPassion', 'jesslina']\n",
      "Group 3, clients ['sky14kemea', 'tweetpet']\n",
      "Group 4, clients ['_strokemyEGO', 'Mirna023', 'minxkitty']\n"
     ]
    },
    {
     "name": "stderr",
     "output_type": "stream",
     "text": [
      "\r",
      "Epoch:   0%|          | 0/20 [00:00<?, ?it/s]"
     ]
    },
    {
     "name": "stdout",
     "output_type": "stream",
     "text": [
      "Group 0\n",
      "At round 249 accuracy: 0.7522321428571429\n",
      "At round 249 training accuracy: 0.7687490898500072\n",
      "At round 249 training loss: 1.3746106290425393\n",
      "Group 1\n",
      "At round 249 accuracy: 0.9390103567318757\n",
      "At round 249 training accuracy: 0.9603030303030303\n",
      "At round 249 training loss: 0.27908301011750924\n",
      "Group 2\n",
      "At round 249 accuracy: 0.6592632719393283\n",
      "At round 249 training accuracy: 0.6909712332668755\n",
      "At round 249 training loss: 0.9990925002685047\n",
      "Group 3\n",
      "At round 249 accuracy: 0.7763012181616833\n",
      "At round 249 training accuracy: 0.8106302643043857\n",
      "At round 249 training loss: 0.9814011122152396\n",
      "Group 4\n",
      "At round 249 accuracy: 0.6617526617526618\n",
      "At round 249 training accuracy: 0.6971861471861471\n",
      "At round 249 training loss: 0.9970391345037011\n",
      "At round 249 mean test accuracy: 0.720419959891471 mean train accuracy: 0.7487141352172026 mean train loss: 1.0031903398264221                     number of test client: 771\n",
      "The client-group discrepancy are: [32.24073404 28.83338335  0.80543848 27.56713327 33.36425731 62.09195388]\n",
      "Begin group  0 training\n"
     ]
    },
    {
     "name": "stderr",
     "output_type": "stream",
     "text": [
      "Epoch:   0%|          | 0/20 [00:00<?, ?it/s]         "
     ]
    },
    {
     "name": "stdout",
     "output_type": "stream",
     "text": [
      "Begin group  1 training\n"
     ]
    },
    {
     "name": "stderr",
     "output_type": "stream",
     "text": [
      "Epoch:   5%|▌         | 1/20 [00:00<00:02,  6.66it/s] "
     ]
    },
    {
     "name": "stdout",
     "output_type": "stream",
     "text": [
      "Begin group  2 training\n"
     ]
    },
    {
     "name": "stderr",
     "output_type": "stream",
     "text": [
      "Epoch:   5%|▌         | 1/20 [00:00<00:02,  8.77it/s] "
     ]
    },
    {
     "name": "stdout",
     "output_type": "stream",
     "text": [
      "Begin group  3 training\n"
     ]
    },
    {
     "name": "stderr",
     "output_type": "stream",
     "text": [
      "Epoch:   5%|▌         | 1/20 [00:00<00:02,  8.50it/s] "
     ]
    },
    {
     "name": "stdout",
     "output_type": "stream",
     "text": [
      "Begin group  4 training\n"
     ]
    },
    {
     "name": "stderr",
     "output_type": "stream",
     "text": [
      "                                                      \r"
     ]
    },
    {
     "name": "stdout",
     "output_type": "stream",
     "text": [
      "Training groups takes 82.227543592453s seconds\n",
      "Scheduling clients takes 3.0837554931640625s seconds\n",
      "Group 0, clients ['aarthycrazy', 'SandiNJ', 'AussieGal999']\n",
      "Group 1, clients ['perpetualspiral']\n",
      "Group 2, clients ['webmaster_paul', 'sophieholly', 'wickedground', 'xoHerbieox', 'taluta', 'witnessamiracle', 'Nikkers', 'KJL912', 'dreadw', 'unitechy']\n",
      "Group 3, clients ['tweetpet']\n",
      "Group 4, clients ['AreonLee', 'RGM77', 'ImmaChocoholic', 'shawnlimtianjun', 'toosweet4rnr']\n"
     ]
    }
   ],
   "source": [
    "server.train()"
   ]
  },
  {
   "cell_type": "code",
   "execution_count": null,
   "metadata": {},
   "outputs": [],
   "source": [
    "\"\"\"\n",
    "fname = 'sampling_interval.csv'\n",
    "interval = 5\n",
    "rounds = 200\n",
    "with open(fname, 'w') as csv_f:\n",
    "  csv_f.write(str(1)+'\\n')\n",
    "  for i in range(2, rounds+1):\n",
    "    if i % interval == 0:\n",
    "      csv_f.write(str(i))\n",
    "    elif i == rounds:\n",
    "      csv_f.write('200')\n",
    "    csv_f.write('\\n')\n",
    "\"\"\""
   ]
  }
 ],
 "metadata": {
  "kernelspec": {
   "display_name": "Python 3",
   "language": "python",
   "name": "python3"
  },
  "language_info": {
   "codemirror_mode": {
    "name": "ipython",
    "version": 3
   },
   "file_extension": ".py",
   "mimetype": "text/x-python",
   "name": "python",
   "nbconvert_exporter": "python",
   "pygments_lexer": "ipython3",
   "version": "3.8.5"
  }
 },
 "nbformat": 4,
 "nbformat_minor": 4
}
