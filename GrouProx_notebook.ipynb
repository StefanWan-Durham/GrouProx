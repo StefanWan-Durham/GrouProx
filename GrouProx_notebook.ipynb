{
 "cells": [
  {
   "cell_type": "code",
   "execution_count": 1,
   "metadata": {
    "scrolled": true
   },
   "outputs": [
    {
     "name": "stdout",
     "output_type": "stream",
     "text": [
      "WARNING:tensorflow:From /home/lab/anaconda3/envs/FL/lib/python3.8/site-packages/tensorflow/python/compat/v2_compat.py:96: disable_resource_variables (from tensorflow.python.ops.variable_scope) is deprecated and will be removed in a future version.\n",
      "Instructions for updating:\n",
      "non-resource variables are not supported in the long term\n",
      "Num GPUs Available:  1\n"
     ]
    }
   ],
   "source": [
    "import os\n",
    "os.environ[\"CUDA_VISIBLE_DEVICES\"]=\"0\"\n",
    "\n",
    "import importlib\n",
    "import tensorflow.compat.v1 as tf\n",
    "tf.disable_v2_behavior()\n",
    "from flearn.utils.model_utils import read_data\n",
    "import os\n",
    "import importlib\n",
    "import random\n",
    "import numpy as np\n",
    "\n",
    "from flearn.models import client\n",
    "from flearn.models import group\n",
    "from flearn.trainers import grouprox\n",
    "from flearn.trainers import fedprox\n",
    "from flearn.trainers import fedavg\n",
    "\n",
    "print(\"Num GPUs Available: \", len(tf.config.experimental.list_physical_devices('GPU')))"
   ]
  },
  {
   "cell_type": "code",
   "execution_count": 2,
   "metadata": {},
   "outputs": [
    {
     "name": "stdout",
     "output_type": "stream",
     "text": [
      "grouprox-mnist-mlp-IFCA-NumG3-Agglr0.0-ProximalF-EmptyT.csv\n"
     ]
    }
   ],
   "source": [
    "params = {}\n",
    "#DATASETS = ['sent140', 'nist', 'shakespeare', 'mnist', 'synthetic_iid', 'synthetic_0_0', 'synthetic_0.5_0.5', 'synthetic_1_1']\n",
    "\n",
    "\"\"\"\n",
    "Parameters that need to be manually set\n",
    "\"\"\"\n",
    "\n",
    "#params['dataset'] = 'sent140'\n",
    "params['dataset'] = 'mnist'\n",
    "params['model'] = 'mlp'\n",
    "#params['model'] = 'stacked_lstm'\n",
    "params['optimizer'] = 'grouprox'\n",
    "params['drop_percent'] = 0\n",
    "\n",
    "if params['dataset'].startswith('mnist'):\n",
    "  params['model_params'] = (10,)\n",
    "  params['learning_rate'] = 0.03\n",
    "  params['mu'] = 1\n",
    "  params['num_group'] = 3\n",
    "if params['dataset'] == 'nist':\n",
    "  params['model_params'] = (26,)\n",
    "  params['learning_rate'] = 0.003\n",
    "  params['mu'] = 1\n",
    "  params['num_group'] = 5\n",
    "if params['dataset'] == 'sent140':\n",
    "  params['model_params'] = (25, 2, 100) # seq_len, num_classes, num_hidden\n",
    "  params['learning_rate'] = 0.3\n",
    "  params['mu'] = 0.01\n",
    "  params['num_group'] = 5\n",
    "if params['dataset'].startswith('synthetic'):\n",
    "  params['model_params'] = (10,)\n",
    "  params['learning_rate'] = 0.01\n",
    "  params['mu'] = 1\n",
    "  params['num_group'] = 5\n",
    "\n",
    "if params['optimizer']  == 'fedavg':\n",
    "  pass\n",
    "if params['optimizer']  == 'fedprox':\n",
    "  pass\n",
    "if params['optimizer']  == 'grouprox':\n",
    "  params['proximal'] = False\n",
    "  params['RAC'] = False\n",
    "  params['RCC'] = False\n",
    "  params['allow_empty'] = True\n",
    "  \n",
    "  # TEST Hyperparameters, Experimental Only\n",
    "  params['evenly'] = False\n",
    "  params['min_clients'] = 2\n",
    "    \n",
    "  # We implement IFCA and FeSEM base on grouprox\n",
    "  params['ifca'] = True\n",
    "  params['fesem'] = False\n",
    "    \n",
    "\"\"\"\n",
    "Common parameters\n",
    "\"\"\"\n",
    "params['num_rounds'] = 300\n",
    "params['num_epochs'] = 20\n",
    "params['batch_size'] = 10\n",
    "params['eval_every'] = 1\n",
    "params['clients_per_round'] = 20 ################ Important ######################\n",
    "params['seed'] = 233\n",
    "params['agg_lr'] = 0.05\n",
    "\n",
    "\"\"\"\n",
    "We immplement IFCA and FeSEM base on grouprox,\n",
    "Some configurations should be flush for above two CFL frameworks\n",
    "\"\"\"\n",
    "if params['ifca'] == True or params['fesem'] == True:\n",
    "    params['proximal'] = False\n",
    "    params['RCC'] = False\n",
    "    params['allow_empty'] = True\n",
    "    params['agg_lr'] = 0.0 # IFCA and FeSEM don't use this parameter\n",
    "\n",
    "\"\"\" Set the output CSV file name \"\"\"\n",
    "info = '{}-{}-{}'.format(params['optimizer'], params['dataset'], params['model'])\n",
    "info2 = ''\n",
    "suffix = '.csv'\n",
    "if params['optimizer'] == 'fedavg':\n",
    "  pass\n",
    "if params['optimizer'] == 'fedprox':\n",
    "  pass\n",
    "if params['optimizer'] == 'grouprox':\n",
    "    \n",
    "  if params['ifca'] == True:\n",
    "    info2 = info2 + '-IFCA'\n",
    "  if params['fesem'] == True:\n",
    "    info2 = info2 + '-FeSEM'\n",
    "  \n",
    "  info2 = info2 +  '-NumG{:1d}-Agglr{:.4}-Proximal{:.1}'.format(\n",
    "    params['num_group'], params['agg_lr'], str(params['proximal']))\n",
    "  \n",
    "  if params['RCC'] == True:\n",
    "    info2 = info2 + '-RCC.{:.1}'.format(str(params['RCC']))\n",
    "  \n",
    "  if params['RAC'] == True:\n",
    "    info2 = info2 + '-RAC.{:.1}-Evenly{:.1}'.format(str(params['RAC']), str(params['evenly']))\n",
    "  elif params['allow_empty'] == True:\n",
    "    info2 = info2 + '-Empty{:.1}'.format(str(params['allow_empty']))\n",
    "  elif params['allow_empty'] == False:\n",
    "    info2 = info2 + '-Evenly{:.1}'.format(str(params['evenly']))\n",
    "\n",
    "params['export_filename'] = info + info2 + suffix\n",
    "\n",
    "print(params['export_filename'])"
   ]
  },
  {
   "cell_type": "code",
   "execution_count": 3,
   "metadata": {
    "scrolled": true
   },
   "outputs": [
    {
     "name": "stdout",
     "output_type": "stream",
     "text": [
      "Using Group prox to Train\n"
     ]
    },
    {
     "name": "stderr",
     "output_type": "stream",
     "text": [
      "/home/lab/anaconda3/envs/FL/lib/python3.8/site-packages/tensorflow/python/keras/legacy_tf_layers/core.py:171: UserWarning: `tf.layers.dense` is deprecated and will be removed in a future version. Please use `tf.keras.layers.Dense` instead.\n",
      "  warnings.warn('`tf.layers.dense` is deprecated and '\n",
      "/home/lab/anaconda3/envs/FL/lib/python3.8/site-packages/tensorflow/python/keras/engine/base_layer_v1.py:1719: UserWarning: `layer.apply` is deprecated and will be removed in a future version. Please use `layer.__call__` method instead.\n",
      "  warnings.warn('`layer.apply` is deprecated and '\n"
     ]
    },
    {
     "name": "stdout",
     "output_type": "stream",
     "text": [
      "WARNING:tensorflow:From /home/lab/anaconda3/envs/FL/lib/python3.8/site-packages/tensorflow/python/profiler/internal/flops_registry.py:142: tensor_shape_from_node_def_name (from tensorflow.python.framework.graph_util_impl) is deprecated and will be removed in a future version.\n",
      "Instructions for updating:\n",
      "Use `tf.compat.v1.graph_util.tensor_shape_from_node_def_name`\n",
      "1000 Clients in Total\n",
      "101770 Parameters in Total\n",
      "WARNING:tensorflow:From /home/lab/workspace/GrouProx/flearn/models/mnist/mlp.py:60: Variable.load (from tensorflow.python.ops.variables) is deprecated and will be removed in a future version.\n",
      "Instructions for updating:\n",
      "Prefer Variable.assign which has equivalent behavior in 2.X.\n"
     ]
    }
   ],
   "source": [
    "\"\"\"\n",
    "Some preparations\n",
    "\"\"\"\n",
    "\n",
    "# read data\n",
    "train_path = os.path.join('data', params['dataset'], 'data', 'train')\n",
    "test_path = os.path.join('data', params['dataset'], 'data', 'test')\n",
    "dataset = read_data(train_path, test_path)\n",
    "\n",
    "# Load model\n",
    "if params['dataset'].startswith('synthetic'):  # all synthetic datasets use the same model\n",
    "  model_path = '%s.%s.%s.%s' % ('flearn', 'models', 'synthetic', params['model'])\n",
    "elif params['dataset'].startswith('mnist'):\n",
    "  model_path = '%s.%s.%s.%s' % ('flearn', 'models', 'mnist', params['model'])\n",
    "else:\n",
    "  model_path = '%s.%s.%s.%s' % ('flearn', 'models', params['dataset'], params['model'])\n",
    "mod = importlib.import_module(model_path)\n",
    "learner = getattr(mod, 'Model')\n",
    "\n",
    "# Set seeds\n",
    "params['sklearn_seed'] = params['seed']\n",
    "random.seed(1 + params['seed'])\n",
    "np.random.seed(12 + params['seed'])\n",
    "tf.set_random_seed(123 + params['seed'])\n",
    "\n",
    "# Set server\n",
    "if params['optimizer'] == 'fedavg':\n",
    "  server = fedavg.Server(params, learner, dataset)  \n",
    "if params['optimizer'] == 'fedprox':\n",
    "  server = fedprox.Server(params, learner, dataset)\n",
    "if params['optimizer'] == 'grouprox':\n",
    "  server = grouprox.Server(params, learner, dataset)"
   ]
  },
  {
   "cell_type": "code",
   "execution_count": 4,
   "metadata": {},
   "outputs": [
    {
     "data": {
      "text/plain": [
       "'\\nTest Ternary Similarity\\n'"
      ]
     },
     "execution_count": 4,
     "metadata": {},
     "output_type": "execute_result"
    }
   ],
   "source": [
    "\"\"\"\n",
    "Test Ternary Similarity\n",
    "\"\"\"\n",
    "#x, y = server.test_ternary_cosine_similariy()"
   ]
  },
  {
   "cell_type": "code",
   "execution_count": 5,
   "metadata": {},
   "outputs": [
    {
     "data": {
      "text/plain": [
       "'\\nimport matplotlib.pyplot as plt\\nplt.figure(figsize=(7,7))\\nplt.scatter(x[:50000], y[:50000], linewidths=0.01, alpha=0.2, norm=True)\\nplt.show()\\n'"
      ]
     },
     "execution_count": 5,
     "metadata": {},
     "output_type": "execute_result"
    }
   ],
   "source": [
    "\"\"\"\n",
    "import matplotlib.pyplot as plt\n",
    "plt.figure(figsize=(7,7))\n",
    "plt.scatter(x[:50000], y[:50000], linewidths=0.01, alpha=0.2, norm=True)\n",
    "plt.show()\n",
    "\"\"\""
   ]
  },
  {
   "cell_type": "code",
   "execution_count": null,
   "metadata": {
    "scrolled": true
   },
   "outputs": [
    {
     "name": "stdout",
     "output_type": "stream",
     "text": [
      "Training with 20 workers ---\n"
     ]
    },
    {
     "name": "stderr",
     "output_type": "stream",
     "text": [
      "Epoch:   0%|                                                                                     | 0/20 [00:00<?, ?it/s]"
     ]
    },
    {
     "name": "stdout",
     "output_type": "stream",
     "text": [
      "Group 0, clients ['f_00298', 'f_00027', 'f_00558']\n",
      "Group 1, clients ['f_00993', 'f_00553', 'f_00672', 'f_00231']\n",
      "Group 2, clients ['f_00859', 'f_00971', 'f_00306', 'f_00706', 'f_00496', 'f_00784', 'f_00239', 'f_00578', 'f_00055', 'f_00906', 'f_00175', 'f_00014', 'f_00077']\n",
      "Group 0\n",
      "At round 0 accuracy: 0.2857142857142857\n",
      "At round 0 training accuracy: 0.26229508196721313\n",
      "At round 0 training loss: 1.9290181593816789\n",
      "Group 1\n",
      "At round 0 accuracy: 0.13333333333333333\n",
      "At round 0 training accuracy: 0.20754716981132076\n",
      "At round 0 training loss: 2.3486012130413414\n",
      "Group 2\n",
      "At round 0 accuracy: 0.09178743961352658\n",
      "At round 0 training accuracy: 0.10776102735901731\n",
      "At round 0 training loss: 2.547757662121375\n",
      "At round 0 mean test accuracy: 0.116 mean train accuracy: 0.13031293787949555 # of test client: 20\n",
      "The client-group discrepancy are: [21.86091334 21.81561974 21.94770632 21.84466018]\n",
      "Begin group  0 training\n"
     ]
    },
    {
     "name": "stderr",
     "output_type": "stream",
     "text": [
      "Epoch:  75%|████████████████████████████████████████████████████████▎                  | 15/20 [00:00<00:00, 148.91it/s]"
     ]
    },
    {
     "name": "stdout",
     "output_type": "stream",
     "text": [
      "Begin group  1 training\n"
     ]
    },
    {
     "name": "stderr",
     "output_type": "stream",
     "text": [
      "Epoch:  40%|██████████████████████████████▊                                              | 8/20 [00:00<00:00, 79.79it/s]"
     ]
    },
    {
     "name": "stdout",
     "output_type": "stream",
     "text": [
      "Begin group  2 training\n"
     ]
    },
    {
     "name": "stderr",
     "output_type": "stream",
     "text": [
      "Epoch:   0%|                                                                                     | 0/20 [00:00<?, ?it/s]"
     ]
    },
    {
     "name": "stdout",
     "output_type": "stream",
     "text": [
      "Group 0, clients ['f_00507', 'f_00818', 'f_00368', 'f_00318', 'f_00446', 'f_00496']\n",
      "Group 1, clients ['f_00452', 'f_00242', 'f_00929', 'f_00262', 'f_00810', 'f_00142', 'f_00345', 'f_00971', 'f_00133', 'f_00006', 'f_00600']\n",
      "Group 2, clients ['f_00049', 'f_00968', 'f_00104']\n",
      "Group 0\n",
      "At round 1 accuracy: 0.6363636363636364\n",
      "At round 1 training accuracy: 0.7855153203342619\n",
      "At round 1 training loss: 0.8418897943918835\n",
      "Group 1\n",
      "At round 1 accuracy: 0.3541666666666667\n",
      "At round 1 training accuracy: 0.42939481268011526\n",
      "At round 1 training loss: 1.614374513498988\n",
      "Group 2\n",
      "At round 1 accuracy: 0.7095238095238096\n",
      "At round 1 training accuracy: 0.7448810182623132\n",
      "At round 1 training loss: 1.0304990218520396\n",
      "At round 1 mean test accuracy: 0.6423841059602649 mean train accuracy: 0.7071229606048548 # of test client: 38\n",
      "The client-group discrepancy are: [21.93074319 21.89053863 21.96257421 21.89443857]\n",
      "Begin group  0 training\n"
     ]
    },
    {
     "name": "stderr",
     "output_type": "stream",
     "text": [
      "Epoch:   0%|                                                                                     | 0/20 [00:00<?, ?it/s]"
     ]
    },
    {
     "name": "stdout",
     "output_type": "stream",
     "text": [
      "Begin group  1 training\n"
     ]
    },
    {
     "name": "stderr",
     "output_type": "stream",
     "text": [
      "Epoch:  60%|█████████████████████████████████████████████                              | 12/20 [00:00<00:00, 116.72it/s]"
     ]
    },
    {
     "name": "stdout",
     "output_type": "stream",
     "text": [
      "Begin group  2 training\n"
     ]
    },
    {
     "name": "stderr",
     "output_type": "stream",
     "text": [
      "                                                                                                                        \r"
     ]
    },
    {
     "name": "stdout",
     "output_type": "stream",
     "text": [
      "Group 0, clients ['f_00037', 'f_00726', 'f_00846', 'f_00658', 'f_00286', 'f_00137', 'f_00788', 'f_00737']\n",
      "Group 1, clients ['f_00682', 'f_00880', 'f_00272', 'f_00860', 'f_00640', 'f_00683', 'f_00412', 'f_00071']\n",
      "Group 2, clients ['f_00295', 'f_00924', 'f_00954', 'f_00515']\n"
     ]
    },
    {
     "name": "stderr",
     "output_type": "stream",
     "text": [
      "Epoch:   0%|                                                                                     | 0/20 [00:00<?, ?it/s]"
     ]
    },
    {
     "name": "stdout",
     "output_type": "stream",
     "text": [
      "Group 0\n",
      "At round 2 accuracy: 0.7391304347826086\n",
      "At round 2 training accuracy: 0.8032128514056225\n",
      "At round 2 training loss: 0.5673428809985898\n",
      "Group 1\n",
      "At round 2 accuracy: 0.4897959183673469\n",
      "At round 2 training accuracy: 0.5183639398998331\n",
      "At round 2 training loss: 1.474929717936878\n",
      "Group 2\n",
      "At round 2 accuracy: 0.796875\n",
      "At round 2 training accuracy: 0.8341640235613955\n",
      "At round 2 training loss: 0.6945281793976538\n",
      "At round 2 mean test accuracy: 0.694949494949495 mean train accuracy: 0.73747591522158 # of test client: 58\n",
      "The client-group discrepancy are: [21.92060826 21.86899256 21.97923733 21.90658153]\n",
      "Begin group  0 training\n"
     ]
    },
    {
     "name": "stderr",
     "output_type": "stream",
     "text": [
      "Epoch:   0%|                                                                                     | 0/20 [00:00<?, ?it/s]"
     ]
    },
    {
     "name": "stdout",
     "output_type": "stream",
     "text": [
      "Begin group  1 training\n"
     ]
    },
    {
     "name": "stderr",
     "output_type": "stream",
     "text": [
      "                                                                                                                        "
     ]
    },
    {
     "name": "stdout",
     "output_type": "stream",
     "text": [
      "Begin group  2 training\n"
     ]
    },
    {
     "name": "stderr",
     "output_type": "stream",
     "text": [
      "                                                                                                                        \r"
     ]
    },
    {
     "name": "stdout",
     "output_type": "stream",
     "text": [
      "Group 0, clients ['f_00586', 'f_00797', 'f_00416', 'f_00498', 'f_00456', 'f_00449', 'f_00266']\n",
      "Group 1, clients ['f_00642', 'f_00762', 'f_00652', 'f_00881', 'f_00530', 'f_00180', 'f_00752']\n",
      "Group 2, clients ['f_00909', 'f_00199', 'f_00755', 'f_00514', 'f_00809', 'f_00058']\n"
     ]
    },
    {
     "name": "stderr",
     "output_type": "stream",
     "text": [
      "Epoch:  35%|██████████████████████████▉                                                  | 7/20 [00:00<00:00, 68.94it/s]"
     ]
    },
    {
     "name": "stdout",
     "output_type": "stream",
     "text": [
      "Group 0\n",
      "At round 3 accuracy: 0.84375\n",
      "At round 3 training accuracy: 0.8538055764883196\n",
      "At round 3 training loss: 0.5364749148037473\n",
      "Group 1\n",
      "At round 3 accuracy: 0.7660818713450293\n",
      "At round 3 training accuracy: 0.803623188405797\n",
      "At round 3 training loss: 0.6012836553537678\n",
      "Group 2\n",
      "At round 3 accuracy: 0.7925696594427245\n",
      "At round 3 training accuracy: 0.8103448275862069\n",
      "At round 3 training loss: 0.7911660374482109\n",
      "At round 3 mean test accuracy: 0.7981651376146789 mean train accuracy: 0.8191586232016026 # of test client: 78\n",
      "The client-group discrepancy are: [21.94953181 21.88656925 22.01963769 21.94119792]\n",
      "Begin group  0 training\n"
     ]
    },
    {
     "name": "stderr",
     "output_type": "stream",
     "text": [
      "Epoch:  45%|██████████████████████████████████▋                                          | 9/20 [00:00<00:00, 85.81it/s]"
     ]
    },
    {
     "name": "stdout",
     "output_type": "stream",
     "text": [
      "Begin group  1 training\n"
     ]
    },
    {
     "name": "stderr",
     "output_type": "stream",
     "text": [
      "Epoch:   0%|                                                                                     | 0/20 [00:00<?, ?it/s]"
     ]
    },
    {
     "name": "stdout",
     "output_type": "stream",
     "text": [
      "Begin group  2 training\n"
     ]
    },
    {
     "name": "stderr",
     "output_type": "stream",
     "text": [
      "                                                                                                                        \r"
     ]
    },
    {
     "name": "stdout",
     "output_type": "stream",
     "text": [
      "Group 0, clients ['f_00698', 'f_00577', 'f_00996', 'f_00817', 'f_00517', 'f_00247', 'f_00908', 'f_00536', 'f_00636', 'f_00807']\n",
      "Group 1, clients ['f_00763', 'f_00790', 'f_00520', 'f_00152', 'f_00881', 'f_00170']\n",
      "Group 2, clients ['f_00825', 'f_00958', 'f_00384', 'f_00300']\n"
     ]
    },
    {
     "name": "stderr",
     "output_type": "stream",
     "text": [
      "Epoch:   0%|                                                                                     | 0/20 [00:00<?, ?it/s]"
     ]
    },
    {
     "name": "stdout",
     "output_type": "stream",
     "text": [
      "Group 0\n",
      "At round 4 accuracy: 0.8669950738916257\n",
      "At round 4 training accuracy: 0.8625678119349005\n",
      "At round 4 training loss: 0.48913366159167637\n",
      "Group 1\n",
      "At round 4 accuracy: 0.7712765957446809\n",
      "At round 4 training accuracy: 0.8259430840502978\n",
      "At round 4 training loss: 0.4853946659405803\n",
      "Group 2\n",
      "At round 4 accuracy: 0.7223880597014926\n",
      "At round 4 training accuracy: 0.7641936607453849\n",
      "At round 4 training loss: 1.046194512499558\n",
      "At round 4 mean test accuracy: 0.7754820936639119 mean train accuracy: 0.8066545273961264 # of test client: 97\n",
      "The client-group discrepancy are: [20.88914038 21.90554682 18.46611868 21.98265686]\n",
      "Begin group  0 training\n"
     ]
    },
    {
     "name": "stderr",
     "output_type": "stream",
     "text": [
      "Epoch:   0%|                                                                                     | 0/20 [00:00<?, ?it/s]"
     ]
    },
    {
     "name": "stdout",
     "output_type": "stream",
     "text": [
      "Begin group  1 training\n"
     ]
    },
    {
     "name": "stderr",
     "output_type": "stream",
     "text": [
      "Epoch:   0%|                                                                                     | 0/20 [00:00<?, ?it/s]"
     ]
    },
    {
     "name": "stdout",
     "output_type": "stream",
     "text": [
      "Begin group  2 training\n"
     ]
    },
    {
     "name": "stderr",
     "output_type": "stream",
     "text": [
      "                                                                                                                        \r"
     ]
    },
    {
     "name": "stdout",
     "output_type": "stream",
     "text": [
      "Group 0, clients ['f_00198', 'f_00236', 'f_00567', 'f_00906', 'f_00336']\n",
      "Group 1, clients ['f_00193', 'f_00011', 'f_00653', 'f_00643', 'f_00763', 'f_00721', 'f_00500', 'f_00060', 'f_00353']\n",
      "Group 2, clients ['f_00544', 'f_00515', 'f_00279', 'f_00979', 'f_00969', 'f_00929']\n"
     ]
    },
    {
     "name": "stderr",
     "output_type": "stream",
     "text": [
      "Epoch:   0%|                                                                                     | 0/20 [00:00<?, ?it/s]"
     ]
    },
    {
     "name": "stdout",
     "output_type": "stream",
     "text": [
      "Group 0\n",
      "At round 5 accuracy: 0.9038461538461539\n",
      "At round 5 training accuracy: 0.9194974406700791\n",
      "At round 5 training loss: 0.23885514570652344\n",
      "Group 1\n",
      "At round 5 accuracy: 0.908256880733945\n",
      "At round 5 training accuracy: 0.9414772727272728\n",
      "At round 5 training loss: 0.22856002254834906\n",
      "Group 2\n",
      "At round 5 accuracy: 0.8097982708933718\n",
      "At round 5 training accuracy: 0.8336720867208672\n",
      "At round 5 training loss: 0.7594229353902241\n",
      "At round 5 mean test accuracy: 0.8654545454545455 mean train accuracy: 0.8882087159306223 # of test client: 113\n",
      "The client-group discrepancy are: [19.8944557  21.94575987 19.65334778 18.54669745]\n",
      "Begin group  0 training\n"
     ]
    },
    {
     "name": "stderr",
     "output_type": "stream",
     "text": [
      "Epoch:   0%|                                                                                     | 0/20 [00:00<?, ?it/s]"
     ]
    },
    {
     "name": "stdout",
     "output_type": "stream",
     "text": [
      "Begin group  1 training\n"
     ]
    },
    {
     "name": "stderr",
     "output_type": "stream",
     "text": [
      "Epoch:  15%|███████████▌                                                                 | 3/20 [00:00<00:00, 24.11it/s]"
     ]
    },
    {
     "name": "stdout",
     "output_type": "stream",
     "text": [
      "Begin group  2 training\n"
     ]
    },
    {
     "name": "stderr",
     "output_type": "stream",
     "text": [
      "                                                                                                                        \r"
     ]
    },
    {
     "name": "stdout",
     "output_type": "stream",
     "text": [
      "Group 0, clients ['f_00736', 'f_00257', 'f_00366', 'f_00816', 'f_00207']\n",
      "Group 1, clients ['f_00022', 'f_00260', 'f_00990', 'f_00263', 'f_00691', 'f_00043', 'f_00203', 'f_00292']\n",
      "Group 2, clients ['f_00978', 'f_00909', 'f_00399', 'f_00438', 'f_00055', 'f_00899', 'f_00539']\n"
     ]
    },
    {
     "name": "stderr",
     "output_type": "stream",
     "text": [
      "Epoch:   0%|                                                                                     | 0/20 [00:00<?, ?it/s]"
     ]
    },
    {
     "name": "stdout",
     "output_type": "stream",
     "text": [
      "Group 0\n",
      "At round 6 accuracy: 0.8398576512455516\n",
      "At round 6 training accuracy: 0.8578199052132701\n",
      "At round 6 training loss: 0.5313821534699993\n",
      "Group 1\n",
      "At round 6 accuracy: 0.896551724137931\n",
      "At round 6 training accuracy: 0.9408919935518538\n",
      "At round 6 training loss: 0.2142558437199089\n",
      "Group 2\n",
      "At round 6 accuracy: 0.8840970350404312\n",
      "At round 6 training accuracy: 0.9042925278219396\n",
      "At round 6 training loss: 0.46288498827568675\n",
      "At round 6 mean test accuracy: 0.8733031674208145 mean train accuracy: 0.8988672034939266 # of test client: 131\n",
      "The client-group discrepancy are: [19.96508402 21.95997826 22.05604457 16.15049035]\n",
      "Begin group  0 training\n"
     ]
    },
    {
     "name": "stderr",
     "output_type": "stream",
     "text": [
      "Epoch:   0%|                                                                                     | 0/20 [00:00<?, ?it/s]"
     ]
    },
    {
     "name": "stdout",
     "output_type": "stream",
     "text": [
      "Begin group  1 training\n"
     ]
    },
    {
     "name": "stderr",
     "output_type": "stream",
     "text": [
      "Epoch:   0%|                                                                                     | 0/20 [00:00<?, ?it/s]"
     ]
    },
    {
     "name": "stdout",
     "output_type": "stream",
     "text": [
      "Begin group  2 training\n"
     ]
    },
    {
     "name": "stderr",
     "output_type": "stream",
     "text": [
      "                                                                                                                        \r"
     ]
    },
    {
     "name": "stdout",
     "output_type": "stream",
     "text": [
      "Group 0, clients ['f_00216', 'f_00487', 'f_00886', 'f_00426']\n",
      "Group 1, clients ['f_00271', 'f_00802', 'f_00812', 'f_00170', 'f_00024', 'f_00242', 'f_00542', 'f_00930', 'f_00453', 'f_00650', 'f_00913']\n",
      "Group 2, clients ['f_00778', 'f_00334', 'f_00408', 'f_00094', 'f_00125']\n"
     ]
    },
    {
     "name": "stderr",
     "output_type": "stream",
     "text": [
      "Epoch:   0%|                                                                                     | 0/20 [00:00<?, ?it/s]"
     ]
    },
    {
     "name": "stdout",
     "output_type": "stream",
     "text": [
      "Group 0\n",
      "At round 7 accuracy: 0.8602150537634409\n",
      "At round 7 training accuracy: 0.8932350112215454\n",
      "At round 7 training loss: 0.4094464338107284\n",
      "Group 1\n",
      "At round 7 accuracy: 0.8938547486033519\n",
      "At round 7 training accuracy: 0.9082146768893757\n",
      "At round 7 training loss: 0.3108041679660044\n",
      "Group 2\n",
      "At round 7 accuracy: 0.8623376623376623\n",
      "At round 7 training accuracy: 0.8890255149093145\n",
      "At round 7 training loss: 0.5581865004898537\n",
      "At round 7 mean test accuracy: 0.874806800618238 mean train accuracy: 0.8982353479016184 # of test client: 149\n",
      "The client-group discrepancy are: [19.91408149 21.96322672 18.2176062  22.00701095]\n",
      "Begin group  0 training\n"
     ]
    },
    {
     "name": "stderr",
     "output_type": "stream",
     "text": [
      "Epoch:   0%|                                                                                     | 0/20 [00:00<?, ?it/s]"
     ]
    },
    {
     "name": "stdout",
     "output_type": "stream",
     "text": [
      "Begin group  1 training\n"
     ]
    },
    {
     "name": "stderr",
     "output_type": "stream",
     "text": [
      "Epoch:   0%|                                                                                     | 0/20 [00:00<?, ?it/s]"
     ]
    },
    {
     "name": "stdout",
     "output_type": "stream",
     "text": [
      "Begin group  2 training\n"
     ]
    },
    {
     "name": "stderr",
     "output_type": "stream",
     "text": [
      "                                                                                                                        \r"
     ]
    },
    {
     "name": "stdout",
     "output_type": "stream",
     "text": [
      "Group 0, clients ['f_00627', 'f_00327', 'f_00925', 'f_00607']\n",
      "Group 1, clients ['f_00244', 'f_00584', 'f_00173', 'f_00041', 'f_00253', 'f_00103']\n",
      "Group 2, clients ['f_00908', 'f_00265', 'f_00615', 'f_00625', 'f_00565', 'f_00675', 'f_00665', 'f_00579', 'f_00705', 'f_00485']\n"
     ]
    },
    {
     "name": "stderr",
     "output_type": "stream",
     "text": [
      "Epoch:   0%|                                                                                     | 0/20 [00:00<?, ?it/s]"
     ]
    },
    {
     "name": "stdout",
     "output_type": "stream",
     "text": [
      "Group 0\n",
      "At round 8 accuracy: 0.8939393939393939\n",
      "At round 8 training accuracy: 0.8978300180831826\n",
      "At round 8 training loss: 0.37534983605298505\n",
      "Group 1\n",
      "At round 8 accuracy: 0.7647951441578149\n",
      "At round 8 training accuracy: 0.7979403409090909\n",
      "At round 8 training loss: 0.6730885296986302\n",
      "Group 2\n",
      "At round 8 accuracy: 0.8822170900692841\n",
      "At round 8 training accuracy: 0.9045267489711935\n",
      "At round 8 training loss: 0.44748918006786836\n",
      "At round 8 mean test accuracy: 0.8333333333333334 mean train accuracy: 0.8551012306470822 # of test client: 168\n",
      "The client-group discrepancy are: [22.0467     22.00123332 22.10609582 22.02924919]\n",
      "Begin group  0 training\n"
     ]
    },
    {
     "name": "stderr",
     "output_type": "stream",
     "text": [
      "Epoch:   5%|███▊                                                                         | 1/20 [00:00<00:02,  9.09it/s]"
     ]
    },
    {
     "name": "stdout",
     "output_type": "stream",
     "text": [
      "Begin group  1 training\n"
     ]
    },
    {
     "name": "stderr",
     "output_type": "stream",
     "text": [
      "Epoch:  35%|██████████████████████████▉                                                  | 7/20 [00:00<00:00, 61.07it/s]"
     ]
    },
    {
     "name": "stdout",
     "output_type": "stream",
     "text": [
      "Begin group  2 training\n"
     ]
    },
    {
     "name": "stderr",
     "output_type": "stream",
     "text": [
      "                                                                                                                        \r"
     ]
    },
    {
     "name": "stdout",
     "output_type": "stream",
     "text": [
      "Group 0, clients ['f_00057', 'f_00496', 'f_00098', 'f_00856', 'f_00148', 'f_00697', 'f_00916']\n",
      "Group 1, clients ['f_00002', 'f_00611', 'f_00200', 'f_00603', 'f_00213', 'f_00450']\n",
      "Group 2, clients ['f_00879', 'f_00045', 'f_00665', 'f_00299', 'f_00065', 'f_00128', 'f_00010']\n"
     ]
    },
    {
     "name": "stderr",
     "output_type": "stream",
     "text": [
      "\r",
      "Epoch:   0%|                                                                                     | 0/20 [00:00<?, ?it/s]"
     ]
    },
    {
     "name": "stdout",
     "output_type": "stream",
     "text": [
      "Group 0\n",
      "At round 9 accuracy: 0.8755020080321285\n",
      "At round 9 training accuracy: 0.883095238095238\n",
      "At round 9 training loss: 0.40964854941718626\n",
      "Group 1\n",
      "At round 9 accuracy: 0.8162083936324168\n",
      "At round 9 training accuracy: 0.8571186153062956\n",
      "At round 9 training loss: 0.49036319167544046\n",
      "Group 2\n",
      "At round 9 accuracy: 0.8701030927835052\n",
      "At round 9 training accuracy: 0.9033284385707293\n",
      "At round 9 training loss: 0.4177913822917923\n",
      "At round 9 mean test accuracy: 0.8494623655913979 mean train accuracy: 0.8781296283235771 # of test client: 186\n",
      "The client-group discrepancy are: [19.97661269 19.18283059 22.11940369 18.93371679]\n",
      "Begin group  0 training\n"
     ]
    },
    {
     "name": "stderr",
     "output_type": "stream",
     "text": [
      "Epoch:   0%|                                                                                     | 0/20 [00:00<?, ?it/s]"
     ]
    },
    {
     "name": "stdout",
     "output_type": "stream",
     "text": [
      "Begin group  1 training\n"
     ]
    },
    {
     "name": "stderr",
     "output_type": "stream",
     "text": [
      "Epoch:  10%|███████▋                                                                     | 2/20 [00:00<00:00, 19.20it/s]"
     ]
    },
    {
     "name": "stdout",
     "output_type": "stream",
     "text": [
      "Begin group  2 training\n"
     ]
    },
    {
     "name": "stderr",
     "output_type": "stream",
     "text": [
      "                                                                                                                        \r"
     ]
    },
    {
     "name": "stdout",
     "output_type": "stream",
     "text": [
      "Group 0, clients ['f_00956', 'f_00417']\n",
      "Group 1, clients ['f_00841', 'f_00544', 'f_00173', 'f_00121', 'f_00230', 'f_00011', 'f_00120', 'f_00191', 'f_00392', 'f_00772']\n",
      "Group 2, clients ['f_00759', 'f_00955', 'f_00659', 'f_00419', 'f_00944', 'f_00845', 'f_00814', 'f_00374']\n"
     ]
    },
    {
     "name": "stderr",
     "output_type": "stream",
     "text": [
      "Epoch:   0%|                                                                                     | 0/20 [00:00<?, ?it/s]"
     ]
    },
    {
     "name": "stdout",
     "output_type": "stream",
     "text": [
      "Group 0\n",
      "At round 10 accuracy: 0.896551724137931\n",
      "At round 10 training accuracy: 0.9103088101725704\n",
      "At round 10 training loss: 0.31476611317078085\n",
      "Group 1\n",
      "At round 10 accuracy: 0.897119341563786\n",
      "At round 10 training accuracy: 0.9235483870967742\n",
      "At round 10 training loss: 0.24110437623191355\n",
      "Group 2\n",
      "At round 10 accuracy: 0.8821218074656189\n",
      "At round 10 training accuracy: 0.8930905695611578\n",
      "At round 10 training loss: 0.42925219271044196\n",
      "At round 10 mean test accuracy: 0.8926136363636363 mean train accuracy: 0.9108678130037614 # of test client: 203\n",
      "The client-group discrepancy are: [19.97520189 22.01691834 17.92399771 22.028778  ]\n",
      "Begin group  0 training\n"
     ]
    },
    {
     "name": "stderr",
     "output_type": "stream",
     "text": [
      "Epoch:   0%|                                                                                     | 0/20 [00:00<?, ?it/s]"
     ]
    },
    {
     "name": "stdout",
     "output_type": "stream",
     "text": [
      "Begin group  1 training\n"
     ]
    },
    {
     "name": "stderr",
     "output_type": "stream",
     "text": [
      "Epoch:   0%|                                                                                     | 0/20 [00:00<?, ?it/s]"
     ]
    },
    {
     "name": "stdout",
     "output_type": "stream",
     "text": [
      "Begin group  2 training\n"
     ]
    },
    {
     "name": "stderr",
     "output_type": "stream",
     "text": [
      "                                                                                                                        \r"
     ]
    },
    {
     "name": "stdout",
     "output_type": "stream",
     "text": [
      "Group 0, clients ['f_00757', 'f_00357', 'f_00767', 'f_00607', 'f_00626', 'f_00617']\n",
      "Group 1, clients ['f_00372', 'f_00730', 'f_00642', 'f_00400', 'f_00641', 'f_00340']\n",
      "Group 2, clients ['f_00025', 'f_00464', 'f_00565', 'f_00374', 'f_00095', 'f_00289', 'f_00309', 'f_00315']\n"
     ]
    },
    {
     "name": "stderr",
     "output_type": "stream",
     "text": [
      "Epoch:   0%|                                                                                     | 0/20 [00:00<?, ?it/s]"
     ]
    },
    {
     "name": "stdout",
     "output_type": "stream",
     "text": [
      "Group 0\n",
      "At round 11 accuracy: 0.9212454212454212\n",
      "At round 11 training accuracy: 0.9267232006958034\n",
      "At round 11 training loss: 0.28178973823868453\n",
      "Group 1\n",
      "At round 11 accuracy: 0.9335106382978723\n",
      "At round 11 training accuracy: 0.9525598872710193\n",
      "At round 11 training loss: 0.15496912002881355\n",
      "Group 2\n",
      "At round 11 accuracy: 0.908745247148289\n",
      "At round 11 training accuracy: 0.9140004538234626\n",
      "At round 11 training loss: 0.3850334340031063\n",
      "At round 11 mean test accuracy: 0.9226973684210527 mean train accuracy: 0.9338010784122653 # of test client: 219\n",
      "The client-group discrepancy are: [17.83651387 18.55617553 18.66311496 16.6768168 ]\n",
      "Begin group  0 training\n"
     ]
    },
    {
     "name": "stderr",
     "output_type": "stream",
     "text": [
      "Epoch:   0%|                                                                                     | 0/20 [00:00<?, ?it/s]"
     ]
    },
    {
     "name": "stdout",
     "output_type": "stream",
     "text": [
      "Begin group  1 training\n"
     ]
    },
    {
     "name": "stderr",
     "output_type": "stream",
     "text": [
      "Epoch:   0%|                                                                                     | 0/20 [00:00<?, ?it/s]"
     ]
    },
    {
     "name": "stdout",
     "output_type": "stream",
     "text": [
      "Begin group  2 training\n"
     ]
    },
    {
     "name": "stderr",
     "output_type": "stream",
     "text": [
      "                                                                                                                        \r"
     ]
    },
    {
     "name": "stdout",
     "output_type": "stream",
     "text": [
      "Group 0, clients ['f_00518', 'f_00797', 'f_00827', 'f_00766', 'f_00507', 'f_00506', 'f_00136', 'f_00938']\n",
      "Group 1, clients ['f_00871', 'f_00832', 'f_00931', 'f_00562', 'f_00381', 'f_00003', 'f_00842', 'f_00854', 'f_00190']\n",
      "Group 2, clients ['f_00274', 'f_00325', 'f_00368']\n"
     ]
    },
    {
     "name": "stderr",
     "output_type": "stream",
     "text": [
      "Epoch:  50%|██████████████████████████████████████                                      | 10/20 [00:00<00:00, 97.28it/s]"
     ]
    },
    {
     "name": "stdout",
     "output_type": "stream",
     "text": [
      "Group 0\n",
      "At round 12 accuracy: 0.9361344537815126\n",
      "At round 12 training accuracy: 0.947357926221336\n",
      "At round 12 training loss: 0.2268951055831262\n",
      "Group 1\n",
      "At round 12 accuracy: 0.944801026957638\n",
      "At round 12 training accuracy: 0.9527714502657555\n",
      "At round 12 training loss: 0.16121389136706948\n",
      "Group 2\n",
      "At round 12 accuracy: 0.9065420560747663\n",
      "At round 12 training accuracy: 0.9165551093261937\n",
      "At round 12 training loss: 0.3712610530649137\n",
      "At round 12 mean test accuracy: 0.93137768465165 mean train accuracy: 0.9409899266260415 # of test client: 236\n",
      "The client-group discrepancy are: [20.10995281 17.08227276 22.13904266 22.09649671]\n",
      "Begin group  0 training\n"
     ]
    },
    {
     "name": "stderr",
     "output_type": "stream",
     "text": [
      "Epoch:   0%|                                                                                     | 0/20 [00:00<?, ?it/s]"
     ]
    },
    {
     "name": "stdout",
     "output_type": "stream",
     "text": [
      "Begin group  1 training\n"
     ]
    },
    {
     "name": "stderr",
     "output_type": "stream",
     "text": [
      "Epoch:  75%|████████████████████████████████████████████████████████▎                  | 15/20 [00:00<00:00, 146.72it/s]"
     ]
    },
    {
     "name": "stdout",
     "output_type": "stream",
     "text": [
      "Begin group  2 training\n"
     ]
    },
    {
     "name": "stderr",
     "output_type": "stream",
     "text": [
      "                                                                                                                        \r"
     ]
    },
    {
     "name": "stdout",
     "output_type": "stream",
     "text": [
      "Group 0, clients ['f_00986', 'f_00546', 'f_00407', 'f_00196', 'f_00078']\n",
      "Group 1, clients ['f_00452', 'f_00433', 'f_00291', 'f_00923', 'f_00260', 'f_00591', 'f_00390', 'f_00261', 'f_00594', 'f_00644']\n",
      "Group 2, clients ['f_00945', 'f_00304', 'f_00864', 'f_00618', 'f_00765']\n"
     ]
    },
    {
     "name": "stderr",
     "output_type": "stream",
     "text": [
      "Epoch:   0%|                                                                                     | 0/20 [00:00<?, ?it/s]"
     ]
    },
    {
     "name": "stdout",
     "output_type": "stream",
     "text": [
      "Group 0\n",
      "At round 13 accuracy: 0.9016393442622951\n",
      "At round 13 training accuracy: 0.9104710003892565\n",
      "At round 13 training loss: 0.29761698473027026\n",
      "Group 1\n",
      "At round 13 accuracy: 0.9341950646298472\n",
      "At round 13 training accuracy: 0.9467818333797715\n",
      "At round 13 training loss: 0.17770324750036867\n",
      "Group 2\n",
      "At round 13 accuracy: 0.9039855072463768\n",
      "At round 13 training accuracy: 0.9211267605633803\n",
      "At round 13 training loss: 0.3520496395977571\n",
      "At round 13 mean test accuracy: 0.9160457029309488 mean train accuracy: 0.9287697123619396 # of test client: 254\n",
      "The client-group discrepancy are: [20.03670691 22.0457496  18.02834851 22.04438103]\n",
      "Begin group  0 training\n"
     ]
    },
    {
     "name": "stderr",
     "output_type": "stream",
     "text": [
      "Epoch:   0%|                                                                                     | 0/20 [00:00<?, ?it/s]"
     ]
    },
    {
     "name": "stdout",
     "output_type": "stream",
     "text": [
      "Begin group  1 training\n"
     ]
    },
    {
     "name": "stderr",
     "output_type": "stream",
     "text": [
      "Epoch:   0%|                                                                                     | 0/20 [00:00<?, ?it/s]"
     ]
    },
    {
     "name": "stdout",
     "output_type": "stream",
     "text": [
      "Begin group  2 training\n"
     ]
    },
    {
     "name": "stderr",
     "output_type": "stream",
     "text": [
      "                                                                                                                        \r"
     ]
    },
    {
     "name": "stdout",
     "output_type": "stream",
     "text": [
      "Group 0, clients ['f_00278', 'f_00486', 'f_00918', 'f_00556', 'f_00717', 'f_00137']\n",
      "Group 1, clients ['f_00172', 'f_00513', 'f_00672', 'f_00303', 'f_00033', 'f_00280', 'f_00742', 'f_00732', 'f_00850', 'f_00580', 'f_00263', 'f_00201']\n",
      "Group 2, clients ['f_00129', 'f_00658']\n"
     ]
    },
    {
     "name": "stderr",
     "output_type": "stream",
     "text": [
      "Epoch:  65%|████████████████████████████████████████████████▊                          | 13/20 [00:00<00:00, 119.88it/s]"
     ]
    },
    {
     "name": "stdout",
     "output_type": "stream",
     "text": [
      "Group 0\n",
      "At round 14 accuracy: 0.9340175953079178\n",
      "At round 14 training accuracy: 0.9517612354676384\n",
      "At round 14 training loss: 0.17883600038849998\n",
      "Group 1\n",
      "At round 14 accuracy: 0.9382716049382716\n",
      "At round 14 training accuracy: 0.9489197119231795\n",
      "At round 14 training loss: 0.17994177660738508\n",
      "Group 2\n",
      "At round 14 accuracy: 0.8886894075403949\n",
      "At round 14 training accuracy: 0.9186571981923822\n",
      "At round 14 training loss: 0.3641581182223401\n",
      "At round 14 mean test accuracy: 0.923943661971831 mean train accuracy: 0.9419812374357829 # of test client: 270\n",
      "The client-group discrepancy are: [19.08957088 18.77119389 18.74126623 22.13452974]\n",
      "Begin group  0 training\n"
     ]
    },
    {
     "name": "stderr",
     "output_type": "stream",
     "text": [
      "Epoch:  35%|██████████████████████████▉                                                  | 7/20 [00:00<00:00, 68.23it/s]"
     ]
    },
    {
     "name": "stdout",
     "output_type": "stream",
     "text": [
      "Begin group  1 training\n"
     ]
    },
    {
     "name": "stderr",
     "output_type": "stream",
     "text": [
      "                                                                                                                        \r"
     ]
    },
    {
     "name": "stdout",
     "output_type": "stream",
     "text": [
      "Begin group  2 training\n",
      "Group 0, clients ['f_00836', 'f_00247', 'f_00307', 'f_00276', 'f_00767']\n",
      "Group 1, clients ['f_00042', 'f_00883']\n",
      "Group 2, clients ['f_00825', 'f_00374', 'f_00488', 'f_00608', 'f_00334', 'f_00205', 'f_00988', 'f_00579', 'f_00094', 'f_00789', 'f_00779', 'f_00385', 'f_00158']\n"
     ]
    },
    {
     "name": "stderr",
     "output_type": "stream",
     "text": [
      "Epoch:   0%|                                                                                     | 0/20 [00:00<?, ?it/s]"
     ]
    },
    {
     "name": "stdout",
     "output_type": "stream",
     "text": [
      "Group 0\n",
      "At round 15 accuracy: 0.9363241678726484\n",
      "At round 15 training accuracy: 0.9445683885361249\n",
      "At round 15 training loss: 0.20235141108177343\n",
      "Group 1\n",
      "At round 15 accuracy: 0.9488320355951056\n",
      "At round 15 training accuracy: 0.9583057577763071\n",
      "At round 15 training loss: 0.14326027511547534\n",
      "Group 2\n",
      "At round 15 accuracy: 0.8991869918699187\n",
      "At round 15 training accuracy: 0.9201091192517536\n",
      "At round 15 training loss: 0.35773153716661266\n",
      "At round 15 mean test accuracy: 0.9310657596371882 mean train accuracy: 0.9433941881819163 # of test client: 283\n",
      "The client-group discrepancy are: [14.73715337 13.82870177 22.15758504 13.94495296]\n",
      "Begin group  0 training\n"
     ]
    },
    {
     "name": "stderr",
     "output_type": "stream",
     "text": [
      "Epoch:   0%|                                                                                     | 0/20 [00:00<?, ?it/s]"
     ]
    },
    {
     "name": "stdout",
     "output_type": "stream",
     "text": [
      "Begin group  1 training\n"
     ]
    },
    {
     "name": "stderr",
     "output_type": "stream",
     "text": [
      "Epoch:   0%|                                                                                     | 0/20 [00:00<?, ?it/s]"
     ]
    },
    {
     "name": "stdout",
     "output_type": "stream",
     "text": [
      "Begin group  2 training\n"
     ]
    },
    {
     "name": "stderr",
     "output_type": "stream",
     "text": [
      "                                                                                                                        \r"
     ]
    },
    {
     "name": "stdout",
     "output_type": "stream",
     "text": [
      "Group 0, clients ['f_00106', 'f_00126', 'f_00246', 'f_00877', 'f_00436', 'f_00506']\n",
      "Group 1, clients ['f_00221', 'f_00882', 'f_00500', 'f_00210', 'f_00953', 'f_00030', 'f_00512', 'f_00340']\n",
      "Group 2, clients ['f_00988', 'f_00734', 'f_00589', 'f_00948', 'f_00055', 'f_00859']\n"
     ]
    },
    {
     "name": "stderr",
     "output_type": "stream",
     "text": [
      "Epoch:   0%|                                                                                     | 0/20 [00:00<?, ?it/s]"
     ]
    },
    {
     "name": "stdout",
     "output_type": "stream",
     "text": [
      "Group 0\n",
      "At round 16 accuracy: 0.9416785206258891\n",
      "At round 16 training accuracy: 0.949594046008119\n",
      "At round 16 training loss: 0.19364636973943355\n",
      "Group 1\n",
      "At round 16 accuracy: 0.9436170212765957\n",
      "At round 16 training accuracy: 0.9590288315629742\n",
      "At round 16 training loss: 0.14481843909239642\n",
      "Group 2\n",
      "At round 16 accuracy: 0.8916913946587537\n",
      "At round 16 training accuracy: 0.9143617021276595\n",
      "At round 16 training loss: 0.38864757487916135\n",
      "At round 16 mean test accuracy: 0.927924039706517 mean train accuracy: 0.9432168550873586 # of test client: 297\n",
      "The client-group discrepancy are: [15.813307   18.50886609 16.89235193 11.67902135]\n",
      "Begin group  0 training\n"
     ]
    },
    {
     "name": "stderr",
     "output_type": "stream",
     "text": [
      "Epoch:   0%|                                                                                     | 0/20 [00:00<?, ?it/s]"
     ]
    },
    {
     "name": "stdout",
     "output_type": "stream",
     "text": [
      "Begin group  1 training\n"
     ]
    },
    {
     "name": "stderr",
     "output_type": "stream",
     "text": [
      "Epoch:   0%|                                                                                     | 0/20 [00:00<?, ?it/s]"
     ]
    },
    {
     "name": "stdout",
     "output_type": "stream",
     "text": [
      "Begin group  2 training\n"
     ]
    },
    {
     "name": "stderr",
     "output_type": "stream",
     "text": [
      "                                                                                                                        \r"
     ]
    },
    {
     "name": "stdout",
     "output_type": "stream",
     "text": [
      "Group 0, clients ['f_00786', 'f_00217', 'f_00098', 'f_00446']\n",
      "Group 1, clients ['f_00930', 'f_00803', 'f_00810', 'f_00983', 'f_00620', 'f_00293']\n",
      "Group 2, clients ['f_00499', 'f_00069', 'f_00078', 'f_00775', 'f_00358', 'f_00924', 'f_00869', 'f_00168', 'f_00575', 'f_00444']\n"
     ]
    },
    {
     "name": "stderr",
     "output_type": "stream",
     "text": [
      "Epoch:   0%|                                                                                     | 0/20 [00:00<?, ?it/s]"
     ]
    },
    {
     "name": "stdout",
     "output_type": "stream",
     "text": [
      "Group 0\n",
      "At round 17 accuracy: 0.9475920679886686\n",
      "At round 17 training accuracy: 0.9561625358286967\n",
      "At round 17 training loss: 0.1711770058063241\n",
      "Group 1\n",
      "At round 17 accuracy: 0.9516806722689075\n",
      "At round 17 training accuracy: 0.965331664580726\n",
      "At round 17 training loss: 0.11962496439621227\n",
      "Group 2\n",
      "At round 17 accuracy: 0.9155446756425949\n",
      "At round 17 training accuracy: 0.9248839907192575\n",
      "At round 17 training loss: 0.33179778352421935\n",
      "At round 17 mean test accuracy: 0.9385858585858586 mean train accuracy: 0.9493202670893981 # of test client: 311\n",
      "The client-group discrepancy are: [17.05674864 11.99154065 15.35553138 20.10356219]\n",
      "Begin group  0 training\n"
     ]
    },
    {
     "name": "stderr",
     "output_type": "stream",
     "text": [
      "Epoch:  25%|███████████████████▎                                                         | 5/20 [00:00<00:00, 41.83it/s]"
     ]
    },
    {
     "name": "stdout",
     "output_type": "stream",
     "text": [
      "Begin group  1 training\n"
     ]
    },
    {
     "name": "stderr",
     "output_type": "stream",
     "text": [
      "                                                                                                                        "
     ]
    }
   ],
   "source": [
    "server.train()"
   ]
  },
  {
   "cell_type": "code",
   "execution_count": null,
   "metadata": {},
   "outputs": [],
   "source": [
    "\"\"\"\n",
    "fname = 'sampling_interval.csv'\n",
    "interval = 5\n",
    "rounds = 200\n",
    "with open(fname, 'w') as csv_f:\n",
    "  csv_f.write(str(1)+'\\n')\n",
    "  for i in range(2, rounds+1):\n",
    "    if i % interval == 0:\n",
    "      csv_f.write(str(i))\n",
    "    elif i == rounds:\n",
    "      csv_f.write('200')\n",
    "    csv_f.write('\\n')\n",
    "\"\"\""
   ]
  }
 ],
 "metadata": {
  "kernelspec": {
   "display_name": "Python 3",
   "language": "python",
   "name": "python3"
  },
  "language_info": {
   "codemirror_mode": {
    "name": "ipython",
    "version": 3
   },
   "file_extension": ".py",
   "mimetype": "text/x-python",
   "name": "python",
   "nbconvert_exporter": "python",
   "pygments_lexer": "ipython3",
   "version": "3.8.5"
  }
 },
 "nbformat": 4,
 "nbformat_minor": 4
}
