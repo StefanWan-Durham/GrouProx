{
 "cells": [
  {
   "cell_type": "code",
   "execution_count": 1,
   "metadata": {
    "scrolled": true
   },
   "outputs": [
    {
     "name": "stdout",
     "output_type": "stream",
     "text": [
      "WARNING:tensorflow:From /home/lab/anaconda3/envs/FL/lib/python3.8/site-packages/tensorflow/python/compat/v2_compat.py:96: disable_resource_variables (from tensorflow.python.ops.variable_scope) is deprecated and will be removed in a future version.\n",
      "Instructions for updating:\n",
      "non-resource variables are not supported in the long term\n",
      "Num GPUs Available:  1\n"
     ]
    }
   ],
   "source": [
    "import os\n",
    "os.environ[\"CUDA_VISIBLE_DEVICES\"]=\"0\"\n",
    "\n",
    "import importlib\n",
    "import tensorflow.compat.v1 as tf\n",
    "tf.disable_v2_behavior()\n",
    "from flearn.utils.model_utils import read_data\n",
    "import os\n",
    "import importlib\n",
    "import random\n",
    "import numpy as np\n",
    "\n",
    "from flearn.models import client\n",
    "from flearn.models import group\n",
    "from flearn.trainers import grouprox\n",
    "from flearn.trainers import fedprox\n",
    "from flearn.trainers import fedavg\n",
    "\n",
    "print(\"Num GPUs Available: \", len(tf.config.experimental.list_physical_devices('GPU')))"
   ]
  },
  {
   "cell_type": "code",
   "execution_count": 2,
   "metadata": {},
   "outputs": [
    {
     "name": "stdout",
     "output_type": "stream",
     "text": [
      "grouprox-mnist-mlp-NumG3-Agglr0.05-ProximalF-EmptyT.csv\n"
     ]
    }
   ],
   "source": [
    "params = {}\n",
    "#DATASETS = ['sent140', 'nist', 'shakespeare', 'mnist', 'synthetic_iid', 'synthetic_0_0', 'synthetic_0.5_0.5', 'synthetic_1_1']\n",
    "\n",
    "\"\"\"\n",
    "Parameters that need to be manually set\n",
    "\"\"\"\n",
    "\n",
    "#params['dataset'] = 'sent140'\n",
    "params['dataset'] = 'mnist'\n",
    "params['model'] = 'mlp'\n",
    "#params['model'] = 'stacked_lstm'\n",
    "params['optimizer'] = 'grouprox'\n",
    "params['drop_percent'] = 0\n",
    "\n",
    "if params['dataset'].startswith('mnist'):\n",
    "  params['model_params'] = (10,)\n",
    "  params['learning_rate'] = 0.03\n",
    "  params['mu'] = 1\n",
    "  params['num_group'] = 3\n",
    "if params['dataset'] == 'nist':\n",
    "  params['model_params'] = (26,)\n",
    "  params['learning_rate'] = 0.003\n",
    "  params['mu'] = 1\n",
    "  params['num_group'] = 5\n",
    "if params['dataset'] == 'sent140':\n",
    "  params['model_params'] = (25, 2, 100) # seq_len, num_classes, num_hidden\n",
    "  params['learning_rate'] = 0.3\n",
    "  params['mu'] = 0.01\n",
    "  params['num_group'] = 5\n",
    "if params['dataset'].startswith('synthetic'):\n",
    "  params['model_params'] = (10,)\n",
    "  params['learning_rate'] = 0.01\n",
    "  params['mu'] = 1\n",
    "  params['num_group'] = 5\n",
    "\n",
    "if params['optimizer']  == 'fedavg':\n",
    "  pass\n",
    "if params['optimizer']  == 'fedprox':\n",
    "  pass\n",
    "if params['optimizer']  == 'grouprox':\n",
    "  params['proximal'] = False\n",
    "  params['RAC'] = False\n",
    "  params['RCC'] = False\n",
    "  params['allow_empty'] = True\n",
    "  \n",
    "  # TEST Hyperparameters, Experimental Only\n",
    "  params['evenly'] = False\n",
    "  params['min_clients'] = 2\n",
    "    \n",
    "  # We implement IFCA and FeSEM base on grouprox\n",
    "  params['ifca'] = False\n",
    "  params['fesem'] = False\n",
    "    \n",
    "\"\"\"\n",
    "Common parameters\n",
    "\"\"\"\n",
    "params['num_rounds'] = 300\n",
    "params['num_epochs'] = 20\n",
    "params['batch_size'] = 10\n",
    "params['eval_every'] = 1\n",
    "params['clients_per_round'] = 20 ################ Important ######################\n",
    "params['seed'] = 233\n",
    "params['agg_lr'] = 0.05\n",
    "\n",
    "\"\"\"\n",
    "We immplement IFCA and FeSEM base on grouprox,\n",
    "Some configurations should be flush for above two CFL frameworks\n",
    "\"\"\"\n",
    "if params['ifca'] == True or params['fesem'] == True:\n",
    "    params['proximal'] = False\n",
    "    params['RCC'] = False\n",
    "    params['allow_empty'] = True\n",
    "    params['agg_lr'] = 0 # IFCA and FeSEM don't use this parameter\n",
    "\n",
    "\"\"\" Set the output CSV file name \"\"\"\n",
    "info = '{}-{}-{}'.format(params['optimizer'], params['dataset'], params['model'])\n",
    "info2 = ''\n",
    "suffix = '.csv'\n",
    "if params['optimizer'] == 'fedavg':\n",
    "  pass\n",
    "if params['optimizer'] == 'fedprox':\n",
    "  pass\n",
    "if params['optimizer'] == 'grouprox':\n",
    "    \n",
    "  if params['ifca'] == True:\n",
    "    info2 = info2 + '-IFCA'\n",
    "  if params['fesem'] == True:\n",
    "    info2 = info2 + '-FeSEM'\n",
    "  \n",
    "  info2 = '-NumG{:1d}-Agglr{:.4}-Proximal{:.1}'.format(\n",
    "    params['num_group'], params['agg_lr'], str(params['proximal']))\n",
    "  \n",
    "  if params['RCC'] == True:\n",
    "    info2 = info2 + '-RCC.{:.1}'.format(str(params['RCC']))\n",
    "  \n",
    "  if params['RAC'] == True:\n",
    "    info2 = info2 + '-RAC.{:.1}-Evenly{:.1}'.format(str(params['RAC']), str(params['evenly']))\n",
    "  elif params['allow_empty'] == True:\n",
    "    info2 = info2 + '-Empty{:.1}'.format(str(params['allow_empty']))\n",
    "  elif params['allow_empty'] == False:\n",
    "    info2 = info2 + '-Evenly{:.1}'.format(str(params['evenly']))\n",
    "\n",
    "params['export_filename'] = info + info2 + suffix\n",
    "\n",
    "print(params['export_filename'])"
   ]
  },
  {
   "cell_type": "code",
   "execution_count": 3,
   "metadata": {
    "scrolled": true
   },
   "outputs": [
    {
     "name": "stdout",
     "output_type": "stream",
     "text": [
      "Using Group prox to Train\n"
     ]
    },
    {
     "name": "stderr",
     "output_type": "stream",
     "text": [
      "/home/lab/anaconda3/envs/FL/lib/python3.8/site-packages/tensorflow/python/keras/legacy_tf_layers/core.py:171: UserWarning: `tf.layers.dense` is deprecated and will be removed in a future version. Please use `tf.keras.layers.Dense` instead.\n",
      "  warnings.warn('`tf.layers.dense` is deprecated and '\n",
      "/home/lab/anaconda3/envs/FL/lib/python3.8/site-packages/tensorflow/python/keras/engine/base_layer_v1.py:1719: UserWarning: `layer.apply` is deprecated and will be removed in a future version. Please use `layer.__call__` method instead.\n",
      "  warnings.warn('`layer.apply` is deprecated and '\n"
     ]
    },
    {
     "name": "stdout",
     "output_type": "stream",
     "text": [
      "WARNING:tensorflow:From /home/lab/anaconda3/envs/FL/lib/python3.8/site-packages/tensorflow/python/profiler/internal/flops_registry.py:142: tensor_shape_from_node_def_name (from tensorflow.python.framework.graph_util_impl) is deprecated and will be removed in a future version.\n",
      "Instructions for updating:\n",
      "Use `tf.compat.v1.graph_util.tensor_shape_from_node_def_name`\n"
     ]
    },
    {
     "name": "stderr",
     "output_type": "stream",
     "text": [
      "\r",
      "Epoch:   0%|                                                                                      | 0/1 [00:00<?, ?it/s]"
     ]
    },
    {
     "name": "stdout",
     "output_type": "stream",
     "text": [
      "1000 Clients in Total\n",
      "101770 Parameters in Total\n"
     ]
    },
    {
     "name": "stderr",
     "output_type": "stream",
     "text": [
      "                                                                                                                        "
     ]
    },
    {
     "name": "stdout",
     "output_type": "stream",
     "text": [
      "WARNING:tensorflow:From /home/lab/workspace/GrouProx/flearn/models/mnist/mlp.py:60: Variable.load (from tensorflow.python.ops.variables) is deprecated and will be removed in a future version.\n",
      "Instructions for updating:\n",
      "Prefer Variable.assign which has equivalent behavior in 2.X.\n"
     ]
    },
    {
     "name": "stderr",
     "output_type": "stream",
     "text": [
      "                                                                                                                        \r"
     ]
    },
    {
     "name": "stdout",
     "output_type": "stream",
     "text": [
      "Pre-training takes 1.6543328762054443s seconds\n",
      "SVD takes 0.14454436302185059s seconds\n",
      "Delta w shape: (60, 101770) Matrix V shape: (101770, 3)\n",
      "Ternary Cossim Matrix calculation takes 0.01588582992553711s seconds\n",
      "Clustering takes 0.018156051635742188s seconds\n",
      "Clustering Results: Counter({1: 31, 2: 16, 0: 13})\n",
      "Clustering Inertia: 1.0033761262893677\n"
     ]
    }
   ],
   "source": [
    "\"\"\"\n",
    "Some preparations\n",
    "\"\"\"\n",
    "\n",
    "# read data\n",
    "train_path = os.path.join('data', params['dataset'], 'data', 'train')\n",
    "test_path = os.path.join('data', params['dataset'], 'data', 'test')\n",
    "dataset = read_data(train_path, test_path)\n",
    "\n",
    "# Load model\n",
    "if params['dataset'].startswith('synthetic'):  # all synthetic datasets use the same model\n",
    "  model_path = '%s.%s.%s.%s' % ('flearn', 'models', 'synthetic', params['model'])\n",
    "elif params['dataset'].startswith('mnist'):\n",
    "  model_path = '%s.%s.%s.%s' % ('flearn', 'models', 'mnist', params['model'])\n",
    "else:\n",
    "  model_path = '%s.%s.%s.%s' % ('flearn', 'models', params['dataset'], params['model'])\n",
    "mod = importlib.import_module(model_path)\n",
    "learner = getattr(mod, 'Model')\n",
    "\n",
    "# Set seeds\n",
    "params['sklearn_seed'] = params['seed']\n",
    "random.seed(1 + params['seed'])\n",
    "np.random.seed(12 + params['seed'])\n",
    "tf.set_random_seed(123 + params['seed'])\n",
    "\n",
    "# Set server\n",
    "if params['optimizer'] == 'fedavg':\n",
    "  server = fedavg.Server(params, learner, dataset)  \n",
    "if params['optimizer'] == 'fedprox':\n",
    "  server = fedprox.Server(params, learner, dataset)\n",
    "if params['optimizer'] == 'grouprox':\n",
    "  server = grouprox.Server(params, learner, dataset)"
   ]
  },
  {
   "cell_type": "code",
   "execution_count": 4,
   "metadata": {},
   "outputs": [
    {
     "data": {
      "text/plain": [
       "'\\nTest Ternary Similarity\\n'"
      ]
     },
     "execution_count": 4,
     "metadata": {},
     "output_type": "execute_result"
    }
   ],
   "source": [
    "\"\"\"\n",
    "Test Ternary Similarity\n",
    "\"\"\"\n",
    "#x, y = server.test_ternary_cosine_similariy()"
   ]
  },
  {
   "cell_type": "code",
   "execution_count": 5,
   "metadata": {},
   "outputs": [
    {
     "data": {
      "text/plain": [
       "'\\nimport matplotlib.pyplot as plt\\nplt.figure(figsize=(7,7))\\nplt.scatter(x[:50000], y[:50000], linewidths=0.01, alpha=0.2, norm=True)\\nplt.show()\\n'"
      ]
     },
     "execution_count": 5,
     "metadata": {},
     "output_type": "execute_result"
    }
   ],
   "source": [
    "\"\"\"\n",
    "import matplotlib.pyplot as plt\n",
    "plt.figure(figsize=(7,7))\n",
    "plt.scatter(x[:50000], y[:50000], linewidths=0.01, alpha=0.2, norm=True)\n",
    "plt.show()\n",
    "\"\"\""
   ]
  },
  {
   "cell_type": "code",
   "execution_count": null,
   "metadata": {
    "scrolled": true
   },
   "outputs": [
    {
     "name": "stderr",
     "output_type": "stream",
     "text": [
      "                                                                                                                        "
     ]
    },
    {
     "name": "stdout",
     "output_type": "stream",
     "text": [
      "Training with 20 workers ---\n"
     ]
    },
    {
     "name": "stderr",
     "output_type": "stream",
     "text": [
      "                                                                                                                        \r"
     ]
    },
    {
     "name": "stdout",
     "output_type": "stream",
     "text": [
      "Group 0, clients ['f_00859', 'f_00298', 'f_00558', 'f_00239', 'f_00578']\n",
      "Group 1, clients ['f_00993', 'f_00027', 'f_00306', 'f_00706', 'f_00496', 'f_00784', 'f_00055', 'f_00906', 'f_00175', 'f_00014', 'f_00077']\n",
      "Group 2, clients ['f_00553', 'f_00672', 'f_00971', 'f_00231']\n"
     ]
    },
    {
     "name": "stderr",
     "output_type": "stream",
     "text": [
      "Epoch:  45%|██████████████████████████████████▋                                          | 9/20 [00:00<00:00, 83.66it/s]"
     ]
    },
    {
     "name": "stdout",
     "output_type": "stream",
     "text": [
      "Group 0\n",
      "At round 0 accuracy: 0.6532929598788796\n",
      "At round 0 training accuracy: 0.6520510483135825\n",
      "At round 0 training loss: 1.2432568036216765\n",
      "Group 1\n",
      "At round 0 accuracy: 0.3258590564938847\n",
      "At round 0 training accuracy: 0.3295271453590193\n",
      "At round 0 training loss: 2.0476418802408327\n",
      "Group 2\n",
      "At round 0 accuracy: 0.5764525993883792\n",
      "At round 0 training accuracy: 0.5600162572254336\n",
      "At round 0 training loss: 1.351473760628276\n",
      "At round 0 mean test accuracy: 0.4734771401438068 mean train accuracy: 0.46967436429683446\n",
      "number: [5, 11, 4]\n",
      "The client-group discrepancy are: [0.32899693 0.43719464 0.25975225 0.38417265]\n",
      "Begin group  0 training\n"
     ]
    },
    {
     "name": "stderr",
     "output_type": "stream",
     "text": [
      "Epoch:   0%|                                                                                     | 0/20 [00:00<?, ?it/s]"
     ]
    },
    {
     "name": "stdout",
     "output_type": "stream",
     "text": [
      "Begin group  1 training\n"
     ]
    },
    {
     "name": "stderr",
     "output_type": "stream",
     "text": [
      "Epoch:   0%|                                                                                     | 0/20 [00:00<?, ?it/s]"
     ]
    },
    {
     "name": "stdout",
     "output_type": "stream",
     "text": [
      "Begin group  2 training\n"
     ]
    },
    {
     "name": "stderr",
     "output_type": "stream",
     "text": [
      "                                                                                                                        \r"
     ]
    },
    {
     "name": "stdout",
     "output_type": "stream",
     "text": [
      "Group 0, clients ['f_00818', 'f_00368', 'f_00929', 'f_00318', 'f_00049', 'f_00968']\n",
      "Group 1, clients ['f_00507', 'f_00446', 'f_00345', 'f_00133', 'f_00104', 'f_00006', 'f_00496']\n",
      "Group 2, clients ['f_00452', 'f_00242', 'f_00262', 'f_00810', 'f_00142', 'f_00971', 'f_00600']\n"
     ]
    },
    {
     "name": "stderr",
     "output_type": "stream",
     "text": [
      "Epoch:   0%|                                                                                     | 0/20 [00:00<?, ?it/s]"
     ]
    },
    {
     "name": "stdout",
     "output_type": "stream",
     "text": [
      "Group 0\n",
      "At round 1 accuracy: 0.8455715367146102\n",
      "At round 1 training accuracy: 0.8487693710118505\n",
      "At round 1 training loss: 0.5436617606247325\n",
      "Group 1\n",
      "At round 1 accuracy: 0.2711124053581829\n",
      "At round 1 training accuracy: 0.28066549912434324\n",
      "At round 1 training loss: 2.779323073195036\n",
      "Group 2\n",
      "At round 1 accuracy: 0.7431192660550459\n",
      "At round 1 training accuracy: 0.7511289739884393\n",
      "At round 1 training loss: 0.8374671734118501\n",
      "At round 1 mean test accuracy: 0.5415818749152083 mean train accuracy: 0.550677867151012\n",
      "number: [6, 7, 7]\n",
      "The client-group discrepancy are: [0.97317805 1.00508318 1.19841066 0.72059818]\n",
      "Begin group  0 training\n"
     ]
    },
    {
     "name": "stderr",
     "output_type": "stream",
     "text": [
      "Epoch:   0%|                                                                                     | 0/20 [00:00<?, ?it/s]"
     ]
    },
    {
     "name": "stdout",
     "output_type": "stream",
     "text": [
      "Begin group  1 training\n"
     ]
    },
    {
     "name": "stderr",
     "output_type": "stream",
     "text": [
      "Epoch:   0%|                                                                                     | 0/20 [00:00<?, ?it/s]"
     ]
    },
    {
     "name": "stdout",
     "output_type": "stream",
     "text": [
      "Begin group  2 training\n"
     ]
    },
    {
     "name": "stderr",
     "output_type": "stream",
     "text": [
      "                                                                                                                        \r"
     ]
    },
    {
     "name": "stdout",
     "output_type": "stream",
     "text": [
      "Group 0, clients ['f_00658', 'f_00788']\n",
      "Group 1, clients ['f_00037', 'f_00726', 'f_00846', 'f_00295', 'f_00924', 'f_00286', 'f_00137', 'f_00954', 'f_00515', 'f_00737', 'f_00683']\n",
      "Group 2, clients ['f_00682', 'f_00880', 'f_00272', 'f_00860', 'f_00640', 'f_00412', 'f_00071']\n"
     ]
    },
    {
     "name": "stderr",
     "output_type": "stream",
     "text": [
      "Epoch:   0%|                                                                                     | 0/20 [00:00<?, ?it/s]"
     ]
    },
    {
     "name": "stdout",
     "output_type": "stream",
     "text": [
      "Group 0\n",
      "At round 2 accuracy: 0.9084027252081757\n",
      "At round 2 training accuracy: 0.9093892433910665\n",
      "At round 2 training loss: 0.3470634945399156\n",
      "Group 1\n",
      "At round 2 accuracy: 0.586488060570763\n",
      "At round 2 training accuracy: 0.5946059544658494\n",
      "At round 2 training loss: 1.353470529539677\n",
      "Group 2\n",
      "At round 2 accuracy: 0.7813455657492355\n",
      "At round 2 training accuracy: 0.7875270953757225\n",
      "At round 2 training loss: 0.6809857628234888\n",
      "At round 2 mean test accuracy: 0.71333604666938 mean train accuracy: 0.7198851842241827\n",
      "number: [2, 11, 7]\n",
      "The client-group discrepancy are: [1.11577495 1.11757531 1.2018845  0.97994556]\n",
      "Begin group  0 training\n",
      "Begin group  1 training\n"
     ]
    },
    {
     "name": "stderr",
     "output_type": "stream",
     "text": [
      "Epoch:   0%|                                                                                     | 0/20 [00:00<?, ?it/s]"
     ]
    },
    {
     "name": "stdout",
     "output_type": "stream",
     "text": [
      "Begin group  2 training\n"
     ]
    },
    {
     "name": "stderr",
     "output_type": "stream",
     "text": [
      "                                                                                                                        \r"
     ]
    },
    {
     "name": "stdout",
     "output_type": "stream",
     "text": [
      "Group 0, clients ['f_00909', 'f_00199', 'f_00498', 'f_00449', 'f_00809', 'f_00058']\n",
      "Group 1, clients ['f_00586', 'f_00797', 'f_00755', 'f_00416', 'f_00514', 'f_00456', 'f_00266']\n",
      "Group 2, clients ['f_00642', 'f_00762', 'f_00652', 'f_00881', 'f_00530', 'f_00180', 'f_00752']\n"
     ]
    },
    {
     "name": "stderr",
     "output_type": "stream",
     "text": [
      "Epoch:   0%|                                                                                     | 0/20 [00:00<?, ?it/s]"
     ]
    },
    {
     "name": "stdout",
     "output_type": "stream",
     "text": [
      "Group 0\n",
      "At round 3 accuracy: 0.9106737320211961\n",
      "At round 3 training accuracy: 0.9124886052871468\n",
      "At round 3 training loss: 0.31244352635126915\n",
      "Group 1\n",
      "At round 3 accuracy: 0.7370413511939429\n",
      "At round 3 training accuracy: 0.7407705779334501\n",
      "At round 3 training loss: 0.8582084748107164\n",
      "Group 2\n",
      "At round 3 accuracy: 0.8818807339449541\n",
      "At round 3 training accuracy: 0.8869219653179191\n",
      "At round 3 training loss: 0.38397413989205337\n",
      "At round 3 mean test accuracy: 0.8195631528964862 mean train accuracy: 0.8238031914893617\n",
      "number: [6, 7, 7]\n",
      "The client-group discrepancy are: [1.27869083 1.23582042 1.45069913 1.1434286 ]\n",
      "Begin group  0 training\n"
     ]
    },
    {
     "name": "stderr",
     "output_type": "stream",
     "text": [
      "Epoch:  35%|██████████████████████████▉                                                  | 7/20 [00:00<00:00, 62.68it/s]"
     ]
    },
    {
     "name": "stdout",
     "output_type": "stream",
     "text": [
      "Begin group  1 training\n"
     ]
    },
    {
     "name": "stderr",
     "output_type": "stream",
     "text": [
      "Epoch:  45%|██████████████████████████████████▋                                          | 9/20 [00:00<00:00, 84.93it/s]"
     ]
    },
    {
     "name": "stdout",
     "output_type": "stream",
     "text": [
      "Begin group  2 training\n"
     ]
    },
    {
     "name": "stderr",
     "output_type": "stream",
     "text": [
      "                                                                                                                        \r"
     ]
    },
    {
     "name": "stdout",
     "output_type": "stream",
     "text": [
      "Group 0, clients ['f_00698', 'f_00958', 'f_00908']\n",
      "Group 1, clients ['f_00577', 'f_00763', 'f_00825', 'f_00996', 'f_00817', 'f_00517', 'f_00384', 'f_00247', 'f_00536', 'f_00636', 'f_00807']\n",
      "Group 2, clients ['f_00790', 'f_00520', 'f_00152', 'f_00881', 'f_00170', 'f_00300']\n"
     ]
    },
    {
     "name": "stderr",
     "output_type": "stream",
     "text": [
      "Epoch:   0%|                                                                                     | 0/20 [00:00<?, ?it/s]"
     ]
    },
    {
     "name": "stdout",
     "output_type": "stream",
     "text": [
      "Group 0\n",
      "At round 4 accuracy: 0.8811506434519304\n",
      "At round 4 training accuracy: 0.8890610756608933\n",
      "At round 4 training loss: 0.39673874634937006\n",
      "Group 1\n",
      "At round 4 accuracy: 0.7143273150844496\n",
      "At round 4 training accuracy: 0.7097022767075306\n",
      "At round 4 training loss: 0.8726905856849629\n",
      "Group 2\n",
      "At round 4 accuracy: 0.8463302752293578\n",
      "At round 4 training accuracy: 0.848491690751445\n",
      "At round 4 training loss: 0.47203418412117953\n",
      "At round 4 mean test accuracy: 0.7910731244064577 mean train accuracy: 0.7914504411001557\n",
      "number: [3, 11, 6]\n",
      "The client-group discrepancy are: [1.71975954 2.00228156 1.92937414 1.19420511]\n",
      "Begin group  0 training\n"
     ]
    },
    {
     "name": "stderr",
     "output_type": "stream",
     "text": [
      "Epoch:   0%|                                                                                     | 0/20 [00:00<?, ?it/s]"
     ]
    },
    {
     "name": "stdout",
     "output_type": "stream",
     "text": [
      "Begin group  1 training\n"
     ]
    },
    {
     "name": "stderr",
     "output_type": "stream",
     "text": [
      "Epoch:  65%|████████████████████████████████████████████████▊                          | 13/20 [00:00<00:00, 120.13it/s]"
     ]
    },
    {
     "name": "stdout",
     "output_type": "stream",
     "text": [
      "Begin group  2 training\n"
     ]
    },
    {
     "name": "stderr",
     "output_type": "stream",
     "text": [
      "                                                                                                                        \r"
     ]
    },
    {
     "name": "stdout",
     "output_type": "stream",
     "text": [
      "Group 0, clients ['f_00279', 'f_00979', 'f_00969', 'f_00929']\n",
      "Group 1, clients ['f_00544', 'f_00515', 'f_00193', 'f_00643', 'f_00763', 'f_00198', 'f_00236', 'f_00567', 'f_00906', 'f_00353', 'f_00336']\n",
      "Group 2, clients ['f_00011', 'f_00653', 'f_00721', 'f_00500', 'f_00060']\n"
     ]
    },
    {
     "name": "stderr",
     "output_type": "stream",
     "text": [
      "Epoch:   0%|                                                                                     | 0/20 [00:00<?, ?it/s]"
     ]
    },
    {
     "name": "stdout",
     "output_type": "stream",
     "text": [
      "Group 0\n",
      "At round 5 accuracy: 0.9576078728236185\n",
      "At round 5 training accuracy: 0.95897903372835\n",
      "At round 5 training loss: 0.14009303789269162\n",
      "Group 1\n",
      "At round 5 accuracy: 0.7757716948165405\n",
      "At round 5 training accuracy: 0.781891418563923\n",
      "At round 5 training loss: 0.6849249517273862\n",
      "Group 2\n",
      "At round 5 accuracy: 0.9185779816513762\n",
      "At round 5 training accuracy: 0.9203847543352601\n",
      "At round 5 training loss: 0.25821467503787365\n",
      "At round 5 mean test accuracy: 0.8590421923755257 mean train accuracy: 0.863129216398547\n",
      "number: [4, 11, 5]\n",
      "The client-group discrepancy are: [1.72202425 1.97444564 1.7612691  1.43374847]\n",
      "Begin group  0 training\n"
     ]
    },
    {
     "name": "stderr",
     "output_type": "stream",
     "text": [
      "Epoch:  10%|███████▋                                                                     | 2/20 [00:00<00:01, 17.51it/s]"
     ]
    },
    {
     "name": "stdout",
     "output_type": "stream",
     "text": [
      "Begin group  1 training\n"
     ]
    },
    {
     "name": "stderr",
     "output_type": "stream",
     "text": [
      "Epoch:  35%|██████████████████████████▉                                                  | 7/20 [00:00<00:00, 62.67it/s]"
     ]
    },
    {
     "name": "stdout",
     "output_type": "stream",
     "text": [
      "Begin group  2 training\n"
     ]
    },
    {
     "name": "stderr",
     "output_type": "stream",
     "text": [
      "                                                                                                                        \r"
     ]
    },
    {
     "name": "stdout",
     "output_type": "stream",
     "text": [
      "Group 0, clients ['f_00978', 'f_00909', 'f_00399', 'f_00438', 'f_00899', 'f_00539']\n",
      "Group 1, clients ['f_00736', 'f_00263', 'f_00257', 'f_00055', 'f_00366', 'f_00816', 'f_00043', 'f_00203', 'f_00207']\n",
      "Group 2, clients ['f_00022', 'f_00260', 'f_00990', 'f_00691', 'f_00292']\n"
     ]
    },
    {
     "name": "stderr",
     "output_type": "stream",
     "text": [
      "Epoch:   0%|                                                                                     | 0/20 [00:00<?, ?it/s]"
     ]
    },
    {
     "name": "stdout",
     "output_type": "stream",
     "text": [
      "Group 0\n",
      "At round 6 accuracy: 0.9530658591975776\n",
      "At round 6 training accuracy: 0.9578851412944394\n",
      "At round 6 training loss: 0.1418260876483178\n",
      "Group 1\n",
      "At round 6 accuracy: 0.7440302853814793\n",
      "At round 6 training accuracy: 0.74784588441331\n",
      "At round 6 training loss: 0.7577000152548851\n",
      "Group 2\n",
      "At round 6 accuracy: 0.8964067278287462\n",
      "At round 6 training accuracy: 0.8954570086705202\n",
      "At round 6 training loss: 0.35217189532305104\n",
      "At round 6 mean test accuracy: 0.8355718355718356 mean train accuracy: 0.8382200311364816\n",
      "number: [6, 9, 5]\n",
      "The client-group discrepancy are: [1.90620814 2.01034365 2.04249585 1.53592763]\n",
      "Begin group  0 training\n"
     ]
    },
    {
     "name": "stderr",
     "output_type": "stream",
     "text": [
      "Epoch:   0%|                                                                                     | 0/20 [00:00<?, ?it/s]"
     ]
    },
    {
     "name": "stdout",
     "output_type": "stream",
     "text": [
      "Begin group  1 training\n"
     ]
    },
    {
     "name": "stderr",
     "output_type": "stream",
     "text": [
      "Epoch:   0%|                                                                                     | 0/20 [00:00<?, ?it/s]"
     ]
    },
    {
     "name": "stdout",
     "output_type": "stream",
     "text": [
      "Begin group  2 training\n"
     ]
    },
    {
     "name": "stderr",
     "output_type": "stream",
     "text": [
      "                                                                                                                        \r"
     ]
    },
    {
     "name": "stdout",
     "output_type": "stream",
     "text": [
      "Group 0, clients ['f_00778', 'f_00408']\n",
      "Group 1, clients ['f_00334', 'f_00216', 'f_00094', 'f_00487', 'f_00024', 'f_00886', 'f_00426', 'f_00125', 'f_00453']\n",
      "Group 2, clients ['f_00271', 'f_00802', 'f_00812', 'f_00170', 'f_00242', 'f_00542', 'f_00930', 'f_00650', 'f_00913']\n"
     ]
    },
    {
     "name": "stderr",
     "output_type": "stream",
     "text": [
      "Epoch:   0%|                                                                                     | 0/20 [00:00<?, ?it/s]"
     ]
    },
    {
     "name": "stdout",
     "output_type": "stream",
     "text": [
      "Group 0\n",
      "At round 7 accuracy: 0.9477668433005298\n",
      "At round 7 training accuracy: 0.9525979945305378\n",
      "At round 7 training loss: 0.16201151169778366\n",
      "Group 1\n",
      "At round 7 accuracy: 0.7789749563191614\n",
      "At round 7 training accuracy: 0.7811908931698774\n",
      "At round 7 training loss: 0.6485994076839976\n",
      "Group 2\n",
      "At round 7 accuracy: 0.9197247706422018\n",
      "At round 7 training accuracy: 0.9193912572254336\n",
      "At round 7 training loss: 0.2736062347537072\n",
      "At round 7 mean test accuracy: 0.8591778591778592 mean train accuracy: 0.8613129216398547\n",
      "number: [2, 9, 9]\n",
      "The client-group discrepancy are: [1.7638459  2.15669263 2.08043549 1.35995704]\n",
      "Begin group  0 training\n",
      "Begin group  1 training\n"
     ]
    },
    {
     "name": "stderr",
     "output_type": "stream",
     "text": [
      "Epoch:   0%|                                                                                     | 0/20 [00:00<?, ?it/s]"
     ]
    },
    {
     "name": "stdout",
     "output_type": "stream",
     "text": [
      "Begin group  2 training\n"
     ]
    },
    {
     "name": "stderr",
     "output_type": "stream",
     "text": [
      "                                                                                                                        \r"
     ]
    },
    {
     "name": "stdout",
     "output_type": "stream",
     "text": [
      "Group 0, clients ['f_00908', 'f_00579']\n",
      "Group 1, clients ['f_00265', 'f_00627', 'f_00327', 'f_00244', 'f_00615', 'f_00625', 'f_00584', 'f_00925', 'f_00565', 'f_00173', 'f_00675', 'f_00665', 'f_00253', 'f_00607', 'f_00103', 'f_00705', 'f_00485']\n",
      "Group 2, clients ['f_00041']\n"
     ]
    },
    {
     "name": "stderr",
     "output_type": "stream",
     "text": [
      "Epoch:  35%|██████████████████████████▉                                                  | 7/20 [00:00<00:00, 60.30it/s]"
     ]
    },
    {
     "name": "stdout",
     "output_type": "stream",
     "text": [
      "Group 0\n",
      "At round 8 accuracy: 0.9545798637395913\n",
      "At round 8 training accuracy: 0.959890610756609\n",
      "At round 8 training loss: 0.1346728318772018\n",
      "Group 1\n",
      "At round 8 accuracy: 0.7152009318578917\n",
      "At round 8 training accuracy: 0.7156217162872154\n",
      "At round 8 training loss: 0.8831370414865226\n",
      "Group 2\n",
      "At round 8 accuracy: 0.3795871559633027\n",
      "At round 8 training accuracy: 0.39608923410404623\n",
      "At round 8 training loss: 2.1250546001761808\n",
      "At round 8 mean test accuracy: 0.638990638990639 mean train accuracy: 0.644330565646082\n",
      "number: [2, 17, 1]\n",
      "The client-group discrepancy are: [2.08562062 1.28094698 2.18341805 2.03241171]\n",
      "Begin group  0 training\n"
     ]
    },
    {
     "name": "stderr",
     "output_type": "stream",
     "text": [
      "Epoch:  75%|████████████████████████████████████████████████████████▎                  | 15/20 [00:00<00:00, 140.74it/s]"
     ]
    },
    {
     "name": "stdout",
     "output_type": "stream",
     "text": [
      "Begin group  1 training\n"
     ]
    },
    {
     "name": "stderr",
     "output_type": "stream",
     "text": [
      "                                                                                                                        \r"
     ]
    },
    {
     "name": "stdout",
     "output_type": "stream",
     "text": [
      "Begin group  2 training\n",
      "Group 0, clients ['f_00879', 'f_00299', 'f_00128', 'f_00098', 'f_00148']\n",
      "Group 1, clients ['f_00057', 'f_00496', 'f_00045', 'f_00665', 'f_00603', 'f_00213', 'f_00065', 'f_00856', 'f_00697', 'f_00916']\n",
      "Group 2, clients ['f_00002', 'f_00611', 'f_00200', 'f_00450', 'f_00010']\n"
     ]
    },
    {
     "name": "stderr",
     "output_type": "stream",
     "text": [
      "                                                                                                                        "
     ]
    },
    {
     "name": "stdout",
     "output_type": "stream",
     "text": [
      "Group 0\n",
      "At round 9 accuracy: 0.9606358819076457\n",
      "At round 9 training accuracy: 0.9636280765724704\n",
      "At round 9 training loss: 0.1257953873677277\n",
      "Group 1\n",
      "At round 9 accuracy: 0.8276062900407688\n",
      "At round 9 training accuracy: 0.8316637478108582\n",
      "At round 9 training loss: 0.507298411478512\n",
      "Group 2\n",
      "At round 9 accuracy: 0.7782874617737003\n",
      "At round 9 training accuracy: 0.7902366329479769\n",
      "At round 9 training loss: 0.6901909460786051\n",
      "At round 9 mean test accuracy: 0.833943833943834 mean train accuracy: 0.8402633627400103\n",
      "number: [5, 10, 5]\n",
      "The client-group discrepancy are: [2.10866916 2.2604591  2.06625413 2.04170927]\n",
      "Begin group  0 training\n"
     ]
    },
    {
     "name": "stderr",
     "output_type": "stream",
     "text": [
      "Epoch:   5%|███▊                                                                         | 1/20 [00:00<00:02,  9.43it/s]"
     ]
    },
    {
     "name": "stdout",
     "output_type": "stream",
     "text": [
      "Begin group  1 training\n"
     ]
    },
    {
     "name": "stderr",
     "output_type": "stream",
     "text": [
      "Epoch:   0%|                                                                                     | 0/20 [00:00<?, ?it/s]"
     ]
    },
    {
     "name": "stdout",
     "output_type": "stream",
     "text": [
      "Begin group  2 training\n"
     ]
    },
    {
     "name": "stderr",
     "output_type": "stream",
     "text": [
      "                                                                                                                        \r"
     ]
    },
    {
     "name": "stdout",
     "output_type": "stream",
     "text": [
      "Group 0, clients ['f_00759', 'f_00659', 'f_00419']\n",
      "Group 1, clients ['f_00956', 'f_00544', 'f_00173', 'f_00955', 'f_00944', 'f_00417', 'f_00845', 'f_00814', 'f_00374']\n",
      "Group 2, clients ['f_00841', 'f_00121', 'f_00230', 'f_00011', 'f_00120', 'f_00191', 'f_00392', 'f_00772']\n"
     ]
    },
    {
     "name": "stderr",
     "output_type": "stream",
     "text": [
      "Epoch:  55%|█████████████████████████████████████████▎                                 | 11/20 [00:00<00:00, 100.78it/s]"
     ]
    },
    {
     "name": "stdout",
     "output_type": "stream",
     "text": [
      "Group 0\n",
      "At round 10 accuracy: 0.9613928841786525\n",
      "At round 10 training accuracy: 0.9608021877848678\n",
      "At round 10 training loss: 0.129155945890488\n",
      "Group 1\n",
      "At round 10 accuracy: 0.8241118229470006\n",
      "At round 10 training accuracy: 0.837092819614711\n",
      "At round 10 training loss: 0.501633629479956\n",
      "Group 2\n",
      "At round 10 accuracy: 0.908256880733945\n",
      "At round 10 training accuracy: 0.909320809248555\n",
      "At round 10 training loss: 0.27578815440309057\n",
      "At round 10 mean test accuracy: 0.8785782119115453 mean train accuracy: 0.8850382719252724\n",
      "number: [3, 9, 8]\n",
      "The client-group discrepancy are: [2.10431565 2.30530454 2.15895336 1.96747738]\n",
      "Begin group  0 training\n"
     ]
    },
    {
     "name": "stderr",
     "output_type": "stream",
     "text": [
      "Epoch:   0%|                                                                                     | 0/20 [00:00<?, ?it/s]"
     ]
    },
    {
     "name": "stdout",
     "output_type": "stream",
     "text": [
      "Begin group  1 training\n"
     ]
    },
    {
     "name": "stderr",
     "output_type": "stream",
     "text": [
      "Epoch:  40%|██████████████████████████████▊                                              | 8/20 [00:00<00:00, 71.37it/s]"
     ]
    },
    {
     "name": "stdout",
     "output_type": "stream",
     "text": [
      "Begin group  2 training\n"
     ]
    },
    {
     "name": "stderr",
     "output_type": "stream",
     "text": [
      "                                                                                                                        \r"
     ]
    },
    {
     "name": "stdout",
     "output_type": "stream",
     "text": [
      "Group 0, clients ['f_00289', 'f_00309']\n",
      "Group 1, clients ['f_00025', 'f_00464', 'f_00757', 'f_00357', 'f_00565', 'f_00767', 'f_00607', 'f_00374', 'f_00095', 'f_00626', 'f_00617', 'f_00315']\n",
      "Group 2, clients ['f_00372', 'f_00730', 'f_00642', 'f_00400', 'f_00641', 'f_00340']\n"
     ]
    },
    {
     "name": "stderr",
     "output_type": "stream",
     "text": [
      "Epoch:  75%|████████████████████████████████████████████████████████▎                  | 15/20 [00:00<00:00, 140.39it/s]"
     ]
    },
    {
     "name": "stdout",
     "output_type": "stream",
     "text": [
      "Group 0\n",
      "At round 11 accuracy: 0.9666919000757003\n",
      "At round 11 training accuracy: 0.9669097538742024\n",
      "At round 11 training loss: 0.10831191339649437\n",
      "Group 1\n",
      "At round 11 accuracy: 0.8313919627256844\n",
      "At round 11 training accuracy: 0.8369176882661996\n",
      "At round 11 training loss: 0.44623218070033893\n",
      "Group 2\n",
      "At round 11 accuracy: 0.926605504587156\n",
      "At round 11 training accuracy: 0.9313132225433526\n",
      "At round 11 training loss: 0.22329989425243132\n",
      "At round 11 mean test accuracy: 0.8894315560982228 mean train accuracy: 0.8939413596263622\n",
      "number: [2, 12, 6]\n",
      "The client-group discrepancy are: [2.05033461 2.32604811 2.03088037 1.99733859]\n",
      "Begin group  0 training\n"
     ]
    },
    {
     "name": "stderr",
     "output_type": "stream",
     "text": [
      "Epoch:   0%|                                                                                     | 0/20 [00:00<?, ?it/s]"
     ]
    },
    {
     "name": "stdout",
     "output_type": "stream",
     "text": [
      "Begin group  1 training\n"
     ]
    },
    {
     "name": "stderr",
     "output_type": "stream",
     "text": [
      "Epoch:   0%|                                                                                     | 0/20 [00:00<?, ?it/s]"
     ]
    },
    {
     "name": "stdout",
     "output_type": "stream",
     "text": [
      "Begin group  2 training\n"
     ]
    },
    {
     "name": "stderr",
     "output_type": "stream",
     "text": [
      "                                                                                                                        \r"
     ]
    },
    {
     "name": "stdout",
     "output_type": "stream",
     "text": [
      "Group 0, clients ['f_00518', 'f_00368', 'f_00938']\n",
      "Group 1, clients ['f_00797', 'f_00274', 'f_00325', 'f_00827', 'f_00766', 'f_00507', 'f_00506', 'f_00003', 'f_00136', 'f_00854']\n",
      "Group 2, clients ['f_00871', 'f_00832', 'f_00931', 'f_00562', 'f_00381', 'f_00842', 'f_00190']\n"
     ]
    },
    {
     "name": "stderr",
     "output_type": "stream",
     "text": [
      "Epoch:   0%|                                                                                     | 0/20 [00:00<?, ?it/s]"
     ]
    },
    {
     "name": "stdout",
     "output_type": "stream",
     "text": [
      "Group 0\n",
      "At round 12 accuracy: 0.9659348978046934\n",
      "At round 12 training accuracy: 0.9677301731996354\n",
      "At round 12 training loss: 0.10560119078074394\n",
      "Group 1\n",
      "At round 12 accuracy: 0.8677926616191031\n",
      "At round 12 training accuracy: 0.8790893169877408\n",
      "At round 12 training loss: 0.3420919153093721\n",
      "Group 2\n",
      "At round 12 accuracy: 0.9430428134556575\n",
      "At round 12 training accuracy: 0.9495574421965318\n",
      "At round 12 training loss: 0.1765284746400965\n",
      "At round 12 mean test accuracy: 0.9120879120879121 mean train accuracy: 0.9201641152049819\n",
      "number: [3, 10, 7]\n",
      "The client-group discrepancy are: [2.23140432 2.12250452 2.30225943 2.17685409]\n",
      "Begin group  0 training\n"
     ]
    },
    {
     "name": "stderr",
     "output_type": "stream",
     "text": [
      "Epoch:  50%|██████████████████████████████████████                                      | 10/20 [00:00<00:00, 96.20it/s]"
     ]
    },
    {
     "name": "stdout",
     "output_type": "stream",
     "text": [
      "Begin group  1 training\n"
     ]
    },
    {
     "name": "stderr",
     "output_type": "stream",
     "text": [
      "Epoch:   0%|                                                                                     | 0/20 [00:00<?, ?it/s]"
     ]
    },
    {
     "name": "stdout",
     "output_type": "stream",
     "text": [
      "Begin group  2 training\n"
     ]
    },
    {
     "name": "stderr",
     "output_type": "stream",
     "text": [
      "                                                                                                                        \r"
     ]
    },
    {
     "name": "stdout",
     "output_type": "stream",
     "text": [
      "Group 0, clients ['f_00618', 'f_00078']\n",
      "Group 1, clients ['f_00945', 'f_00304', 'f_00433', 'f_00864', 'f_00986', 'f_00923', 'f_00546', 'f_00407', 'f_00594', 'f_00196', 'f_00765', 'f_00644']\n",
      "Group 2, clients ['f_00452', 'f_00291', 'f_00260', 'f_00591', 'f_00390', 'f_00261']\n"
     ]
    },
    {
     "name": "stderr",
     "output_type": "stream",
     "text": [
      "Epoch:   0%|                                                                                     | 0/20 [00:00<?, ?it/s]"
     ]
    },
    {
     "name": "stdout",
     "output_type": "stream",
     "text": [
      "Group 0\n",
      "At round 13 accuracy: 0.9409538228614686\n",
      "At round 13 training accuracy: 0.9397447584320875\n",
      "At round 13 training loss: 0.20514073239673572\n",
      "Group 1\n",
      "At round 13 accuracy: 0.8744903902154921\n",
      "At round 13 training accuracy: 0.8859544658493871\n",
      "At round 13 training loss: 0.3313551801985828\n",
      "Group 2\n",
      "At round 13 accuracy: 0.9464831804281345\n",
      "At round 13 training accuracy: 0.9489252167630058\n",
      "At round 13 training loss: 0.1791142223926075\n",
      "At round 13 mean test accuracy: 0.9119522452855786 mean train accuracy: 0.9181370005189413\n",
      "number: [2, 12, 6]\n",
      "The client-group discrepancy are: [2.30783868 2.46987953 2.46841335 1.93267573]\n",
      "Begin group  0 training\n"
     ]
    },
    {
     "name": "stderr",
     "output_type": "stream",
     "text": [
      "Epoch:   0%|                                                                                     | 0/20 [00:00<?, ?it/s]"
     ]
    },
    {
     "name": "stdout",
     "output_type": "stream",
     "text": [
      "Begin group  1 training\n"
     ]
    },
    {
     "name": "stderr",
     "output_type": "stream",
     "text": [
      "Epoch:   0%|                                                                                     | 0/20 [00:00<?, ?it/s]"
     ]
    },
    {
     "name": "stdout",
     "output_type": "stream",
     "text": [
      "Begin group  2 training\n"
     ]
    },
    {
     "name": "stderr",
     "output_type": "stream",
     "text": [
      "                                                                                                                        \r"
     ]
    },
    {
     "name": "stdout",
     "output_type": "stream",
     "text": [
      "Group 0, clients ['f_00278', 'f_00918', 'f_00129', 'f_00658']\n",
      "Group 1, clients ['f_00486', 'f_00513', 'f_00556', 'f_00303', 'f_00033', 'f_00263', 'f_00717', 'f_00137']\n",
      "Group 2, clients ['f_00172', 'f_00672', 'f_00280', 'f_00742', 'f_00732', 'f_00850', 'f_00580', 'f_00201']\n"
     ]
    },
    {
     "name": "stderr",
     "output_type": "stream",
     "text": [
      "Epoch:   0%|                                                                                     | 0/20 [00:00<?, ?it/s]"
     ]
    },
    {
     "name": "stdout",
     "output_type": "stream",
     "text": [
      "Group 0\n",
      "At round 14 accuracy: 0.9432248296744891\n",
      "At round 14 training accuracy: 0.9430264357338195\n",
      "At round 14 training loss: 0.19170958682362083\n",
      "Group 1\n",
      "At round 14 accuracy: 0.8675014560279557\n",
      "At round 14 training accuracy: 0.8741155866900175\n",
      "At round 14 training loss: 0.42295027997507834\n",
      "Group 2\n",
      "At round 14 accuracy: 0.948394495412844\n",
      "At round 14 training accuracy: 0.9498735549132948\n",
      "At round 14 training loss: 0.17412346394044395\n",
      "At round 14 mean test accuracy: 0.9097815764482431 mean train accuracy: 0.9135800467047224\n",
      "number: [4, 8, 8]\n",
      "The client-group discrepancy are: [2.2490611  2.29561474 2.32143647 2.15340891]\n",
      "Begin group  0 training\n"
     ]
    },
    {
     "name": "stderr",
     "output_type": "stream",
     "text": [
      "Epoch:  10%|███████▋                                                                     | 2/20 [00:00<00:01, 11.44it/s]"
     ]
    },
    {
     "name": "stdout",
     "output_type": "stream",
     "text": [
      "Begin group  1 training\n"
     ]
    },
    {
     "name": "stderr",
     "output_type": "stream",
     "text": [
      "Epoch:  35%|██████████████████████████▉                                                  | 7/20 [00:00<00:00, 68.56it/s]"
     ]
    },
    {
     "name": "stdout",
     "output_type": "stream",
     "text": [
      "Begin group  2 training\n"
     ]
    },
    {
     "name": "stderr",
     "output_type": "stream",
     "text": [
      "                                                                                                                        \r"
     ]
    },
    {
     "name": "stdout",
     "output_type": "stream",
     "text": [
      "Group 0, clients ['f_00488', 'f_00608', 'f_00988', 'f_00579', 'f_00789', 'f_00779', 'f_00158']\n",
      "Group 1, clients ['f_00825', 'f_00374', 'f_00836', 'f_00247', 'f_00334', 'f_00205', 'f_00094', 'f_00307', 'f_00276', 'f_00385', 'f_00883', 'f_00767']\n",
      "Group 2, clients ['f_00042']\n"
     ]
    },
    {
     "name": "stderr",
     "output_type": "stream",
     "text": [
      "Epoch:  45%|██████████████████████████████████▋                                          | 9/20 [00:00<00:00, 89.07it/s]"
     ]
    },
    {
     "name": "stdout",
     "output_type": "stream",
     "text": [
      "Group 0\n",
      "At round 15 accuracy: 0.9409538228614686\n",
      "At round 15 training accuracy: 0.9432999088422972\n",
      "At round 15 training loss: 0.1930421086566785\n",
      "Group 1\n",
      "At round 15 accuracy: 0.8675014560279557\n",
      "At round 15 training accuracy: 0.8691418563922942\n",
      "At round 15 training loss: 0.4071540721710168\n",
      "Group 2\n",
      "At round 15 accuracy: 0.9506880733944955\n",
      "At round 15 training accuracy: 0.9551571531791907\n",
      "At round 15 training loss: 0.15694664993490123\n",
      "At round 15 mean test accuracy: 0.9101885768552436 mean train accuracy: 0.9132232745199792\n",
      "number: [7, 12, 1]\n",
      "The client-group discrepancy are: [2.08565924 2.25257925 1.97563693 2.23748689]\n",
      "Begin group  0 training\n"
     ]
    },
    {
     "name": "stderr",
     "output_type": "stream",
     "text": [
      "Epoch:   0%|                                                                                     | 0/20 [00:00<?, ?it/s]"
     ]
    },
    {
     "name": "stdout",
     "output_type": "stream",
     "text": [
      "Begin group  1 training\n"
     ]
    },
    {
     "name": "stderr",
     "output_type": "stream",
     "text": [
      "                                                                                                                        \r"
     ]
    },
    {
     "name": "stdout",
     "output_type": "stream",
     "text": [
      "Begin group  2 training\n",
      "Group 0, clients ['f_00988', 'f_00589', 'f_00948', 'f_00859']\n",
      "Group 1, clients ['f_00106', 'f_00126', 'f_00246', 'f_00734', 'f_00953', 'f_00877', 'f_00055', 'f_00436', 'f_00506']\n",
      "Group 2, clients ['f_00221', 'f_00882', 'f_00500', 'f_00210', 'f_00030', 'f_00512', 'f_00340']\n"
     ]
    },
    {
     "name": "stderr",
     "output_type": "stream",
     "text": [
      "Epoch:   0%|                                                                                     | 0/20 [00:00<?, ?it/s]"
     ]
    },
    {
     "name": "stdout",
     "output_type": "stream",
     "text": [
      "Group 0\n",
      "At round 16 accuracy: 0.9538228614685844\n",
      "At round 16 training accuracy: 0.9583409298085688\n",
      "At round 16 training loss: 0.13348809534582823\n",
      "Group 1\n",
      "At round 16 accuracy: 0.9039021549213745\n",
      "At round 16 training accuracy: 0.9062697022767076\n",
      "At round 16 training loss: 0.30590054434009145\n",
      "Group 2\n",
      "At round 16 accuracy: 0.9480122324159022\n",
      "At round 16 training accuracy: 0.9466221098265896\n",
      "At round 16 training loss: 0.1961495409137317\n",
      "At round 16 mean test accuracy: 0.9285035951702618 mean train accuracy: 0.9300240010378827\n",
      "number: [4, 9, 7]\n",
      "The client-group discrepancy are: [2.09991857 1.86047395 2.33745574 1.93133915]\n",
      "Begin group  0 training\n"
     ]
    },
    {
     "name": "stderr",
     "output_type": "stream",
     "text": [
      "Epoch:   0%|                                                                                     | 0/20 [00:00<?, ?it/s]"
     ]
    },
    {
     "name": "stdout",
     "output_type": "stream",
     "text": [
      "Begin group  1 training\n"
     ]
    },
    {
     "name": "stderr",
     "output_type": "stream",
     "text": [
      "Epoch:   0%|                                                                                     | 0/20 [00:00<?, ?it/s]"
     ]
    },
    {
     "name": "stdout",
     "output_type": "stream",
     "text": [
      "Begin group  2 training\n"
     ]
    },
    {
     "name": "stderr",
     "output_type": "stream",
     "text": [
      "                                                                                                                        \r"
     ]
    },
    {
     "name": "stdout",
     "output_type": "stream",
     "text": [
      "Group 0, clients ['f_00499', 'f_00069', 'f_00098', 'f_00078', 'f_00358', 'f_00869', 'f_00168']\n",
      "Group 1, clients ['f_00786', 'f_00217', 'f_00803', 'f_00983', 'f_00775', 'f_00924', 'f_00293', 'f_00446', 'f_00575', 'f_00444']\n",
      "Group 2, clients ['f_00930', 'f_00810', 'f_00620']\n"
     ]
    },
    {
     "name": "stderr",
     "output_type": "stream",
     "text": [
      "Epoch:   0%|                                                                                     | 0/20 [00:00<?, ?it/s]"
     ]
    },
    {
     "name": "stdout",
     "output_type": "stream",
     "text": [
      "Group 0\n",
      "At round 17 accuracy: 0.9613928841786525\n",
      "At round 17 training accuracy: 0.963081130355515\n",
      "At round 17 training loss: 0.11818509240582846\n",
      "Group 1\n",
      "At round 17 accuracy: 0.8255678509027373\n",
      "At round 17 training accuracy: 0.8373029772329247\n",
      "At round 17 training loss: 0.5489388067945398\n",
      "Group 2\n",
      "At round 17 accuracy: 0.9525993883792049\n",
      "At round 17 training accuracy: 0.9547507225433526\n",
      "At round 17 training loss: 0.16035867467877124\n",
      "At round 17 mean test accuracy: 0.894993894993895 mean train accuracy: 0.9018552153606643\n",
      "number: [7, 10, 3]\n",
      "The client-group discrepancy are: [2.27519709 1.97749482 2.6198871  1.82086905]\n",
      "Begin group  0 training\n"
     ]
    },
    {
     "name": "stderr",
     "output_type": "stream",
     "text": [
      "                                                                                                                        "
     ]
    },
    {
     "name": "stdout",
     "output_type": "stream",
     "text": [
      "Begin group  1 training\n"
     ]
    },
    {
     "name": "stderr",
     "output_type": "stream",
     "text": [
      "Epoch:  25%|███████████████████▎                                                         | 5/20 [00:00<00:00, 42.92it/s]"
     ]
    },
    {
     "name": "stdout",
     "output_type": "stream",
     "text": [
      "Begin group  2 training\n"
     ]
    },
    {
     "name": "stderr",
     "output_type": "stream",
     "text": [
      "                                                                                                                        \r"
     ]
    },
    {
     "name": "stdout",
     "output_type": "stream",
     "text": [
      "Group 0, clients ['f_00128', 'f_00668', 'f_00808', 'f_00749', 'f_00748']\n",
      "Group 1, clients ['f_00246', 'f_00075', 'f_00395', 'f_00966', 'f_00785', 'f_00746', 'f_00823', 'f_00915', 'f_00983', 'f_00716', 'f_00623']\n",
      "Group 2, clients ['f_00751', 'f_00960', 'f_00272', 'f_00821']\n"
     ]
    },
    {
     "name": "stderr",
     "output_type": "stream",
     "text": [
      "Epoch:   0%|                                                                                     | 0/20 [00:00<?, ?it/s]"
     ]
    },
    {
     "name": "stdout",
     "output_type": "stream",
     "text": [
      "Group 0\n",
      "At round 18 accuracy: 0.967448902346707\n",
      "At round 18 training accuracy: 0.9711030082041933\n",
      "At round 18 training loss: 0.08943007759317417\n",
      "Group 1\n",
      "At round 18 accuracy: 0.7719860221316249\n",
      "At round 18 training accuracy: 0.7761120840630473\n",
      "At round 18 training loss: 0.819089887903925\n",
      "Group 2\n",
      "At round 18 accuracy: 0.9541284403669725\n",
      "At round 18 training accuracy: 0.9556990606936416\n",
      "At round 18 training loss: 0.1542925745197416\n",
      "At round 18 mean test accuracy: 0.8716592049925384 mean train accuracy: 0.8752919045147898\n",
      "number: [5, 11, 4]\n",
      "The client-group discrepancy are: [2.33680587 2.23979576 2.42679533 2.21059752]\n",
      "Begin group  0 training\n"
     ]
    },
    {
     "name": "stderr",
     "output_type": "stream",
     "text": [
      "Epoch:  80%|████████████████████████████████████████████████████████████               | 16/20 [00:00<00:00, 157.50it/s]"
     ]
    },
    {
     "name": "stdout",
     "output_type": "stream",
     "text": [
      "Begin group  1 training\n"
     ]
    },
    {
     "name": "stderr",
     "output_type": "stream",
     "text": [
      "Epoch:  55%|█████████████████████████████████████████▎                                 | 11/20 [00:00<00:00, 103.33it/s]"
     ]
    },
    {
     "name": "stdout",
     "output_type": "stream",
     "text": [
      "Begin group  2 training\n"
     ]
    },
    {
     "name": "stderr",
     "output_type": "stream",
     "text": [
      "                                                                                                                        \r"
     ]
    },
    {
     "name": "stdout",
     "output_type": "stream",
     "text": [
      "Group 0, clients ['f_00819', 'f_00719', 'f_00239', 'f_00658', 'f_00648', 'f_00588', 'f_00208', 'f_00038']\n",
      "Group 1, clients ['f_00773', 'f_00023', 'f_00486', 'f_00944', 'f_00666']\n",
      "Group 2, clients ['f_00800', 'f_00472', 'f_00323', 'f_00152', 'f_00743', 'f_00913', 'f_00481']\n"
     ]
    },
    {
     "name": "stderr",
     "output_type": "stream",
     "text": [
      "Epoch:  35%|██████████████████████████▉                                                  | 7/20 [00:00<00:00, 60.62it/s]"
     ]
    },
    {
     "name": "stdout",
     "output_type": "stream",
     "text": [
      "Group 0\n",
      "At round 19 accuracy: 0.9704769114307343\n",
      "At round 19 training accuracy: 0.9730173199635369\n",
      "At round 19 training loss: 0.0883892188492898\n",
      "Group 1\n",
      "At round 19 accuracy: 0.8450786255096098\n",
      "At round 19 training accuracy: 0.856077057793345\n",
      "At round 19 training loss: 0.4863280250813124\n",
      "Group 2\n",
      "At round 19 accuracy: 0.9518348623853211\n",
      "At round 19 training accuracy: 0.9543442919075145\n",
      "At round 19 training loss: 0.17451534812429115\n",
      "At round 19 mean test accuracy: 0.9054402387735722 mean train accuracy: 0.9121691748832382\n",
      "number: [8, 5, 7]\n",
      "The client-group discrepancy are: [2.19969284 2.29458116 2.11189263 2.15396349]\n",
      "Begin group  0 training\n"
     ]
    },
    {
     "name": "stderr",
     "output_type": "stream",
     "text": [
      "Epoch:   0%|                                                                                     | 0/20 [00:00<?, ?it/s]"
     ]
    },
    {
     "name": "stdout",
     "output_type": "stream",
     "text": [
      "Begin group  1 training\n"
     ]
    },
    {
     "name": "stderr",
     "output_type": "stream",
     "text": [
      "Epoch:   0%|                                                                                     | 0/20 [00:00<?, ?it/s]"
     ]
    },
    {
     "name": "stdout",
     "output_type": "stream",
     "text": [
      "Begin group  2 training\n"
     ]
    },
    {
     "name": "stderr",
     "output_type": "stream",
     "text": [
      "                                                                                                                        \r"
     ]
    },
    {
     "name": "stdout",
     "output_type": "stream",
     "text": [
      "Group 0, clients ['f_00798', 'f_00858', 'f_00438', 'f_00528', 'f_00558', 'f_00499']\n",
      "Group 1, clients ['f_00694', 'f_00147', 'f_00446', 'f_00634', 'f_00127', 'f_00747', 'f_00505', 'f_00045', 'f_00306']\n",
      "Group 2, clients ['f_00890', 'f_00812', 'f_00592', 'f_00020', 'f_00062']\n"
     ]
    },
    {
     "name": "stderr",
     "output_type": "stream",
     "text": [
      "\r",
      "Epoch:   0%|                                                                                     | 0/20 [00:00<?, ?it/s]"
     ]
    },
    {
     "name": "stdout",
     "output_type": "stream",
     "text": [
      "Group 0\n",
      "At round 20 accuracy: 0.9742619227857684\n",
      "At round 20 training accuracy: 0.9791248860528715\n",
      "At round 20 training loss: 0.07069733959529081\n",
      "Group 1\n",
      "At round 20 accuracy: 0.8459522422830519\n",
      "At round 20 training accuracy: 0.848476357267951\n",
      "At round 20 training loss: 0.4661465927125696\n",
      "Group 2\n",
      "At round 20 accuracy: 0.6578746177370031\n",
      "At round 20 training accuracy: 0.6677203757225434\n",
      "At round 20 training loss: 1.1821430412177205\n",
      "At round 20 mean test accuracy: 0.8021978021978022 mean train accuracy: 0.8068078619615984\n",
      "number: [6, 9, 5]\n",
      "The client-group discrepancy are: [2.29585272 1.90726016 2.46356376 2.46028393]\n",
      "Begin group  0 training\n"
     ]
    },
    {
     "name": "stderr",
     "output_type": "stream",
     "text": [
      "Epoch:   0%|                                                                                     | 0/20 [00:00<?, ?it/s]"
     ]
    },
    {
     "name": "stdout",
     "output_type": "stream",
     "text": [
      "Begin group  1 training\n"
     ]
    },
    {
     "name": "stderr",
     "output_type": "stream",
     "text": [
      "Epoch:   0%|                                                                                     | 0/20 [00:00<?, ?it/s]"
     ]
    },
    {
     "name": "stdout",
     "output_type": "stream",
     "text": [
      "Begin group  2 training\n"
     ]
    },
    {
     "name": "stderr",
     "output_type": "stream",
     "text": [
      "                                                                                                                        \r"
     ]
    },
    {
     "name": "stdout",
     "output_type": "stream",
     "text": [
      "Group 0, clients ['f_00549', 'f_00169', 'f_00689', 'f_00529', 'f_00508', 'f_00438']\n",
      "Group 1, clients ['f_00383', 'f_00856', 'f_00834', 'f_00603', 'f_00126', 'f_00406', 'f_00516', 'f_00715', 'f_00625', 'f_00925']\n",
      "Group 2, clients ['f_00492', 'f_00712', 'f_00290', 'f_00110']\n"
     ]
    },
    {
     "name": "stderr",
     "output_type": "stream",
     "text": [
      "Epoch:  40%|██████████████████████████████▊                                              | 8/20 [00:00<00:00, 78.02it/s]"
     ]
    },
    {
     "name": "stdout",
     "output_type": "stream",
     "text": [
      "Group 0\n",
      "At round 21 accuracy: 0.9719909159727479\n",
      "At round 21 training accuracy: 0.9710118505013674\n",
      "At round 21 training loss: 0.09634931114731579\n",
      "Group 1\n",
      "At round 21 accuracy: 0.8316831683168316\n",
      "At round 21 training accuracy: 0.8361821366024519\n",
      "At round 21 training loss: 0.5457666933650906\n",
      "Group 2\n",
      "At round 21 accuracy: 0.8589449541284404\n",
      "At round 21 training accuracy: 0.858742774566474\n",
      "At round 21 training loss: 0.48483022408784254\n",
      "At round 21 mean test accuracy: 0.8665038665038665 mean train accuracy: 0.8682699792423456\n",
      "number: [6, 10, 4]\n",
      "The client-group discrepancy are: [2.31221521 2.35217407 2.17233103 2.60198734]\n",
      "Begin group  0 training\n"
     ]
    },
    {
     "name": "stderr",
     "output_type": "stream",
     "text": [
      "Epoch:   0%|                                                                                     | 0/20 [00:00<?, ?it/s]"
     ]
    },
    {
     "name": "stdout",
     "output_type": "stream",
     "text": [
      "Begin group  1 training\n"
     ]
    },
    {
     "name": "stderr",
     "output_type": "stream",
     "text": [
      "Epoch:  10%|███████▋                                                                     | 2/20 [00:00<00:00, 19.52it/s]"
     ]
    },
    {
     "name": "stdout",
     "output_type": "stream",
     "text": [
      "Begin group  2 training\n"
     ]
    },
    {
     "name": "stderr",
     "output_type": "stream",
     "text": [
      "                                                                                                                        \r"
     ]
    },
    {
     "name": "stdout",
     "output_type": "stream",
     "text": [
      "Group 0 is empty.\n",
      "Group 1, clients ['f_00866', 'f_00657', 'f_00155', 'f_00865', 'f_00615', 'f_00905', 'f_00635', 'f_00253', 'f_00056']\n",
      "Group 2, clients ['f_00191', 'f_00732', 'f_00452', 'f_00412', 'f_00902', 'f_00951', 'f_00602', 'f_00162', 'f_00972', 'f_00130', 'f_00430']\n"
     ]
    },
    {
     "name": "stderr",
     "output_type": "stream",
     "text": [
      "/home/lab/workspace/GrouProx/flearn/trainers/grouprox.py:296: RuntimeWarning: invalid value encountered in true_divide\n",
      "  average_group_diff = diffs / number_clients\n",
      "Epoch:   0%|                                                                                     | 0/20 [00:00<?, ?it/s]"
     ]
    },
    {
     "name": "stdout",
     "output_type": "stream",
     "text": [
      "Group 0\n",
      "At round 22 accuracy: 0.9803179409538229\n",
      "At round 22 training accuracy: 0.9807657247037375\n",
      "At round 22 training loss: 0.06257211893752403\n",
      "Group 1\n",
      "At round 22 accuracy: 0.84944670937682\n",
      "At round 22 training accuracy: 0.8555866900175131\n",
      "At round 22 training loss: 0.461828928671109\n",
      "Group 2\n",
      "At round 22 accuracy: 0.8524464831804281\n",
      "At round 22 training accuracy: 0.8628973988439307\n",
      "At round 22 training loss: 0.401115670745989\n",
      "At round 22 mean test accuracy: 0.8739655406322073 mean train accuracy: 0.8804813181110535\n",
      "number: [0, 9, 11]\n",
      "The client-group discrepancy are: [2.52453657        nan 2.62915988 2.43893567]\n",
      "Begin group  1 training\n"
     ]
    },
    {
     "name": "stderr",
     "output_type": "stream",
     "text": [
      "Epoch:  40%|██████████████████████████████▊                                              | 8/20 [00:00<00:00, 76.36it/s]"
     ]
    },
    {
     "name": "stdout",
     "output_type": "stream",
     "text": [
      "Begin group  2 training\n"
     ]
    },
    {
     "name": "stderr",
     "output_type": "stream",
     "text": [
      "                                                                                                                        \r"
     ]
    },
    {
     "name": "stdout",
     "output_type": "stream",
     "text": [
      "Group 0, clients ['f_00519', 'f_00208', 'f_00978', 'f_00508', 'f_00158', 'f_00589', 'f_00428', 'f_00998']\n",
      "Group 1, clients ['f_00837', 'f_00525', 'f_00583', 'f_00167', 'f_00974', 'f_00095', 'f_00236', 'f_00203']\n",
      "Group 2, clients ['f_00201', 'f_00280', 'f_00790', 'f_00381']\n"
     ]
    },
    {
     "name": "stderr",
     "output_type": "stream",
     "text": [
      "                                                                                                                        "
     ]
    },
    {
     "name": "stdout",
     "output_type": "stream",
     "text": [
      "Group 0\n",
      "At round 23 accuracy: 0.9803179409538229\n",
      "At round 23 training accuracy: 0.9806745670009116\n",
      "At round 23 training loss: 0.06256489293706727\n",
      "Group 1\n",
      "At round 23 accuracy: 0.8389633080955154\n",
      "At round 23 training accuracy: 0.8421366024518389\n",
      "At round 23 training loss: 0.5030566653053284\n",
      "Group 2\n",
      "At round 23 accuracy: 0.948394495412844\n",
      "At round 23 training accuracy: 0.9493316473988439\n",
      "At round 23 training loss: 0.18783946593559103\n",
      "At round 23 mean test accuracy: 0.9031339031339032 mean train accuracy: 0.9052769849507005\n",
      "number: [8, 8, 4]\n",
      "The client-group discrepancy are: [1.9230255  1.49826285 2.45226567 1.71407044]\n",
      "Begin group  0 training\n"
     ]
    },
    {
     "name": "stderr",
     "output_type": "stream",
     "text": [
      "Epoch:   0%|                                                                                     | 0/20 [00:00<?, ?it/s]"
     ]
    },
    {
     "name": "stdout",
     "output_type": "stream",
     "text": [
      "Begin group  1 training\n"
     ]
    },
    {
     "name": "stderr",
     "output_type": "stream",
     "text": [
      "Epoch:   0%|                                                                                     | 0/20 [00:00<?, ?it/s]"
     ]
    },
    {
     "name": "stdout",
     "output_type": "stream",
     "text": [
      "Begin group  2 training\n"
     ]
    },
    {
     "name": "stderr",
     "output_type": "stream",
     "text": [
      "                                                                                                                        \r"
     ]
    },
    {
     "name": "stdout",
     "output_type": "stream",
     "text": [
      "Group 0, clients ['f_00268', 'f_00919', 'f_00469']\n",
      "Group 1, clients ['f_00354', 'f_00476', 'f_00037', 'f_00516', 'f_00596', 'f_00285', 'f_00115', 'f_00727', 'f_00966']\n",
      "Group 2, clients ['f_00131', 'f_00982', 'f_00491', 'f_00681', 'f_00941', 'f_00622', 'f_00882', 'f_00971']\n"
     ]
    },
    {
     "name": "stderr",
     "output_type": "stream",
     "text": [
      "Epoch:   0%|                                                                                     | 0/20 [00:00<?, ?it/s]"
     ]
    },
    {
     "name": "stdout",
     "output_type": "stream",
     "text": [
      "Group 0\n",
      "At round 24 accuracy: 0.9788039364118092\n",
      "At round 24 training accuracy: 0.9823154056517776\n",
      "At round 24 training loss: 0.06022448508656262\n",
      "Group 1\n",
      "At round 24 accuracy: 0.8576004659289458\n",
      "At round 24 training accuracy: 0.8612609457092819\n",
      "At round 24 training loss: 0.43627392275422994\n",
      "Group 2\n",
      "At round 24 accuracy: 0.9495412844036697\n",
      "At round 24 training accuracy: 0.9526282514450867\n",
      "At round 24 training loss: 0.1737310843042138\n",
      "At round 24 mean test accuracy: 0.9119522452855786 mean train accuracy: 0.9156071613907628\n",
      "number: [3, 9, 8]\n",
      "The client-group discrepancy are: [2.5752495  2.69468103 2.43050816 2.69329668]\n",
      "Begin group  0 training\n"
     ]
    },
    {
     "name": "stderr",
     "output_type": "stream",
     "text": [
      "Epoch:  30%|███████████████████████                                                      | 6/20 [00:00<00:00, 59.07it/s]"
     ]
    },
    {
     "name": "stdout",
     "output_type": "stream",
     "text": [
      "Begin group  1 training\n"
     ]
    },
    {
     "name": "stderr",
     "output_type": "stream",
     "text": [
      "Epoch:  10%|███████▋                                                                     | 2/20 [00:00<00:01, 15.43it/s]"
     ]
    },
    {
     "name": "stdout",
     "output_type": "stream",
     "text": [
      "Begin group  2 training\n"
     ]
    },
    {
     "name": "stderr",
     "output_type": "stream",
     "text": [
      "                                                                                                                        \r"
     ]
    },
    {
     "name": "stdout",
     "output_type": "stream",
     "text": [
      "Group 0, clients ['f_00688', 'f_00049', 'f_00288', 'f_00698', 'f_00279', 'f_00599', 'f_00988']\n",
      "Group 1, clients ['f_00775', 'f_00305', 'f_00627', 'f_00224', 'f_00757', 'f_00367', 'f_00684', 'f_00974', 'f_00905']\n",
      "Group 2, clients ['f_00081', 'f_00651', 'f_00630', 'f_00761']\n"
     ]
    },
    {
     "name": "stderr",
     "output_type": "stream",
     "text": [
      "Epoch:   0%|                                                                                     | 0/20 [00:00<?, ?it/s]"
     ]
    },
    {
     "name": "stdout",
     "output_type": "stream",
     "text": [
      "Group 0\n",
      "At round 25 accuracy: 0.9750189250567751\n",
      "At round 25 training accuracy: 0.9808568824065633\n",
      "At round 25 training loss: 0.06072251203872279\n",
      "Group 1\n",
      "At round 25 accuracy: 0.8744903902154921\n",
      "At round 25 training accuracy: 0.8800350262697023\n",
      "At round 25 training loss: 0.3765060416494788\n",
      "Group 2\n",
      "At round 25 accuracy: 0.9506880733944955\n",
      "At round 25 training accuracy: 0.959356936416185\n",
      "At round 25 training loss: 0.14515771910920663\n",
      "At round 25 mean test accuracy: 0.9195495862162529 mean train accuracy: 0.9264562791904515\n",
      "number: [7, 9, 4]\n",
      "The client-group discrepancy are: [2.13868069 1.99377307 1.90596393 2.91588172]\n",
      "Begin group  0 training\n"
     ]
    },
    {
     "name": "stderr",
     "output_type": "stream",
     "text": [
      "Epoch:   0%|                                                                                     | 0/20 [00:00<?, ?it/s]"
     ]
    },
    {
     "name": "stdout",
     "output_type": "stream",
     "text": [
      "Begin group  1 training\n"
     ]
    },
    {
     "name": "stderr",
     "output_type": "stream",
     "text": [
      "                                                                                                                        "
     ]
    },
    {
     "name": "stdout",
     "output_type": "stream",
     "text": [
      "Begin group  2 training\n"
     ]
    },
    {
     "name": "stderr",
     "output_type": "stream",
     "text": [
      "                                                                                                                        \r"
     ]
    },
    {
     "name": "stdout",
     "output_type": "stream",
     "text": [
      "Group 0, clients ['f_00769', 'f_00719', 'f_00129']\n",
      "Group 1, clients ['f_00824', 'f_00107', 'f_00157', 'f_00333', 'f_00267', 'f_00044', 'f_00906', 'f_00273', 'f_00063', 'f_00057']\n",
      "Group 2, clients ['f_00921', 'f_00480', 'f_00721', 'f_00562', 'f_00080', 'f_00451', 'f_00071']\n"
     ]
    },
    {
     "name": "stderr",
     "output_type": "stream",
     "text": [
      "Epoch:   0%|                                                                                     | 0/20 [00:00<?, ?it/s]"
     ]
    },
    {
     "name": "stdout",
     "output_type": "stream",
     "text": [
      "Group 0\n",
      "At round 26 accuracy: 0.9772899318697956\n",
      "At round 26 training accuracy: 0.9835004557885141\n",
      "At round 26 training loss: 0.052502745152096124\n",
      "Group 1\n",
      "At round 26 accuracy: 0.9138031450203844\n",
      "At round 26 training accuracy: 0.9264098073555166\n",
      "At round 26 training loss: 0.24063767846361586\n",
      "Group 2\n",
      "At round 26 accuracy: 0.959480122324159\n",
      "At round 26 training accuracy: 0.9657695086705202\n",
      "At round 26 training loss: 0.12279710557820937\n",
      "At round 26 mean test accuracy: 0.9413919413919414 mean train accuracy: 0.9507005708354956\n",
      "number: [3, 10, 7]\n",
      "The client-group discrepancy are: [2.47833478 1.47792368 2.74841056 2.52125986]\n",
      "Begin group  0 training\n"
     ]
    },
    {
     "name": "stderr",
     "output_type": "stream",
     "text": [
      "Epoch:  35%|██████████████████████████▉                                                  | 7/20 [00:00<00:00, 60.05it/s]"
     ]
    },
    {
     "name": "stdout",
     "output_type": "stream",
     "text": [
      "Begin group  1 training\n"
     ]
    },
    {
     "name": "stderr",
     "output_type": "stream",
     "text": [
      "Epoch:   0%|                                                                                     | 0/20 [00:00<?, ?it/s]"
     ]
    },
    {
     "name": "stdout",
     "output_type": "stream",
     "text": [
      "Begin group  2 training\n"
     ]
    },
    {
     "name": "stderr",
     "output_type": "stream",
     "text": [
      "                                                                                                                        \r"
     ]
    },
    {
     "name": "stdout",
     "output_type": "stream",
     "text": [
      "Group 0, clients ['f_00768', 'f_00459']\n",
      "Group 1, clients ['f_00754', 'f_00023', 'f_00047', 'f_00453', 'f_00774', 'f_00256', 'f_00457', 'f_00643', 'f_00097', 'f_00113']\n",
      "Group 2, clients ['f_00713', 'f_00732', 'f_00432', 'f_00672', 'f_00700', 'f_00550', 'f_00202', 'f_00292']\n"
     ]
    },
    {
     "name": "stderr",
     "output_type": "stream",
     "text": [
      "Epoch:  30%|███████████████████████                                                      | 6/20 [00:00<00:00, 58.26it/s]"
     ]
    },
    {
     "name": "stdout",
     "output_type": "stream",
     "text": [
      "Group 0\n",
      "At round 27 accuracy: 0.9780469341408025\n",
      "At round 27 training accuracy: 0.9832269826800365\n",
      "At round 27 training loss: 0.05370940245709013\n",
      "Group 1\n",
      "At round 27 accuracy: 0.8197437390797904\n",
      "At round 27 training accuracy: 0.8343957968476358\n",
      "At round 27 training loss: 0.497271971244723\n",
      "Group 2\n",
      "At round 27 accuracy: 0.959480122324159\n",
      "At round 27 training accuracy: 0.9663114161849711\n",
      "At round 27 training loss: 0.12055275443727581\n",
      "At round 27 mean test accuracy: 0.8977072310405644 mean train accuracy: 0.9082446808510638\n",
      "number: [2, 10, 8]\n",
      "The client-group discrepancy are: [2.54999006 2.72722459 2.6685098  2.35753176]\n",
      "Begin group  0 training\n"
     ]
    },
    {
     "name": "stderr",
     "output_type": "stream",
     "text": [
      "Epoch:   0%|                                                                                     | 0/20 [00:00<?, ?it/s]"
     ]
    },
    {
     "name": "stdout",
     "output_type": "stream",
     "text": [
      "Begin group  1 training\n"
     ]
    },
    {
     "name": "stderr",
     "output_type": "stream",
     "text": [
      "Epoch:  50%|██████████████████████████████████████                                      | 10/20 [00:00<00:00, 95.27it/s]"
     ]
    },
    {
     "name": "stdout",
     "output_type": "stream",
     "text": [
      "Begin group  2 training\n"
     ]
    },
    {
     "name": "stderr",
     "output_type": "stream",
     "text": [
      "                                                                                                                        \r"
     ]
    },
    {
     "name": "stdout",
     "output_type": "stream",
     "text": [
      "Group 0, clients ['f_00179', 'f_00229', 'f_00309', 'f_00029']\n",
      "Group 1, clients ['f_00063', 'f_00955', 'f_00846', 'f_00093', 'f_00256', 'f_00936', 'f_00446', 'f_00824']\n",
      "Group 2, clients ['f_00312', 'f_00392', 'f_00622', 'f_00632', 'f_00653', 'f_00102', 'f_00262', 'f_00662']\n"
     ]
    },
    {
     "name": "stderr",
     "output_type": "stream",
     "text": [
      "Epoch:   0%|                                                                                     | 0/20 [00:00<?, ?it/s]"
     ]
    },
    {
     "name": "stdout",
     "output_type": "stream",
     "text": [
      "Group 0\n",
      "At round 28 accuracy: 0.9765329295987888\n",
      "At round 28 training accuracy: 0.9817684594348223\n",
      "At round 28 training loss: 0.057383195229204376\n",
      "Group 1\n",
      "At round 28 accuracy: 0.8841001747233547\n",
      "At round 28 training accuracy: 0.8918739054290719\n",
      "At round 28 training loss: 0.31876719160305356\n",
      "Group 2\n",
      "At round 28 accuracy: 0.9491590214067278\n",
      "At round 28 training accuracy: 0.956195809248555\n",
      "At round 28 training loss: 0.14522726267340583\n",
      "At round 28 mean test accuracy: 0.9237552570885904 mean train accuracy: 0.9309645822522055\n",
      "number: [4, 8, 8]\n",
      "The client-group discrepancy are: [2.08085433 2.3413803  1.63414285 2.39730283]\n",
      "Begin group  0 training\n"
     ]
    },
    {
     "name": "stderr",
     "output_type": "stream",
     "text": [
      "Epoch:   0%|                                                                                     | 0/20 [00:00<?, ?it/s]"
     ]
    },
    {
     "name": "stdout",
     "output_type": "stream",
     "text": [
      "Begin group  1 training\n"
     ]
    },
    {
     "name": "stderr",
     "output_type": "stream",
     "text": [
      "Epoch:   0%|                                                                                     | 0/20 [00:00<?, ?it/s]"
     ]
    },
    {
     "name": "stdout",
     "output_type": "stream",
     "text": [
      "Begin group  2 training\n"
     ]
    },
    {
     "name": "stderr",
     "output_type": "stream",
     "text": [
      "                                                                                                                        \r"
     ]
    },
    {
     "name": "stdout",
     "output_type": "stream",
     "text": [
      "Group 0, clients ['f_00848', 'f_00298', 'f_00789', 'f_00359']\n",
      "Group 1, clients ['f_00795', 'f_00973', 'f_00794', 'f_00694', 'f_00587', 'f_00514', 'f_00207', 'f_00197', 'f_00707', 'f_00534', 'f_00624', 'f_00704', 'f_00224']\n",
      "Group 2, clients ['f_00010', 'f_00713', 'f_00061']\n"
     ]
    },
    {
     "name": "stderr",
     "output_type": "stream",
     "text": [
      "Epoch:  40%|██████████████████████████████▊                                              | 8/20 [00:00<00:00, 77.17it/s]"
     ]
    },
    {
     "name": "stdout",
     "output_type": "stream",
     "text": [
      "Group 0\n",
      "At round 29 accuracy: 0.9735049205147616\n",
      "At round 29 training accuracy: 0.9806745670009116\n",
      "At round 29 training loss: 0.05970493228827632\n",
      "Group 1\n",
      "At round 29 accuracy: 0.9336051252184042\n",
      "At round 29 training accuracy: 0.9386339754816112\n",
      "At round 29 training loss: 0.20172530997376123\n",
      "Group 2\n",
      "At round 29 accuracy: 0.9610091743119266\n",
      "At round 29 training accuracy: 0.9673500722543352\n",
      "At round 29 training loss: 0.11095781108428775\n",
      "At round 29 mean test accuracy: 0.9504816171482838 mean train accuracy: 0.9564251427088739\n",
      "number: [4, 13, 3]\n",
      "The client-group discrepancy are: [2.38388699 2.21407664 2.5649541  1.82567667]\n",
      "Begin group  0 training\n"
     ]
    },
    {
     "name": "stderr",
     "output_type": "stream",
     "text": [
      "Epoch:  25%|███████████████████▎                                                         | 5/20 [00:00<00:00, 42.02it/s]"
     ]
    },
    {
     "name": "stdout",
     "output_type": "stream",
     "text": [
      "Begin group  1 training\n"
     ]
    },
    {
     "name": "stderr",
     "output_type": "stream",
     "text": [
      "Epoch:   0%|                                                                                     | 0/20 [00:00<?, ?it/s]"
     ]
    },
    {
     "name": "stdout",
     "output_type": "stream",
     "text": [
      "Begin group  2 training\n"
     ]
    },
    {
     "name": "stderr",
     "output_type": "stream",
     "text": [
      "                                                                                                                        \r"
     ]
    },
    {
     "name": "stdout",
     "output_type": "stream",
     "text": [
      "Group 0, clients ['f_00879', 'f_00658', 'f_00479']\n",
      "Group 1, clients ['f_00923', 'f_00516', 'f_00087', 'f_00463', 'f_00297', 'f_00417', 'f_00344', 'f_00056', 'f_00615', 'f_00577', 'f_00935']\n",
      "Group 2, clients ['f_00921', 'f_00112', 'f_00830', 'f_00010', 'f_00411', 'f_00521']\n"
     ]
    },
    {
     "name": "stderr",
     "output_type": "stream",
     "text": [
      "Epoch:   0%|                                                                                     | 0/20 [00:00<?, ?it/s]"
     ]
    },
    {
     "name": "stdout",
     "output_type": "stream",
     "text": [
      "Group 0\n",
      "At round 30 accuracy: 0.9788039364118092\n",
      "At round 30 training accuracy: 0.9837739288969918\n",
      "At round 30 training loss: 0.05322457014762609\n",
      "Group 1\n",
      "At round 30 accuracy: 0.9327315084449621\n",
      "At round 30 training accuracy: 0.938984238178634\n",
      "At round 30 training loss: 0.19846213264851187\n",
      "Group 2\n",
      "At round 30 accuracy: 0.9610091743119266\n",
      "At round 30 training accuracy: 0.9689306358381503\n",
      "At round 30 training loss: 0.10670430970796162\n",
      "At round 30 mean test accuracy: 0.9510242843576177 mean train accuracy: 0.9577062791904515\n",
      "number: [3, 11, 6]\n",
      "The client-group discrepancy are: [2.0302559  1.57777468 2.09498307 2.13783002]\n",
      "Begin group  0 training\n"
     ]
    },
    {
     "name": "stderr",
     "output_type": "stream",
     "text": [
      "Epoch:  10%|███████▋                                                                     | 2/20 [00:00<00:01, 17.38it/s]"
     ]
    },
    {
     "name": "stdout",
     "output_type": "stream",
     "text": [
      "Begin group  1 training\n"
     ]
    },
    {
     "name": "stderr",
     "output_type": "stream",
     "text": [
      "Epoch:   0%|                                                                                     | 0/20 [00:00<?, ?it/s]"
     ]
    },
    {
     "name": "stdout",
     "output_type": "stream",
     "text": [
      "Begin group  2 training\n"
     ]
    },
    {
     "name": "stderr",
     "output_type": "stream",
     "text": [
      "                                                                                                                        \r"
     ]
    },
    {
     "name": "stdout",
     "output_type": "stream",
     "text": [
      "Group 0, clients ['f_00558', 'f_00899', 'f_00528', 'f_00819', 'f_00429']\n",
      "Group 1, clients ['f_00975', 'f_00423', 'f_00927', 'f_00416', 'f_00836', 'f_00797']\n",
      "Group 2, clients ['f_00222', 'f_00913', 'f_00501', 'f_00190', 'f_00212', 'f_00232', 'f_00720', 'f_00960', 'f_00082']\n"
     ]
    },
    {
     "name": "stderr",
     "output_type": "stream",
     "text": [
      "Epoch:   0%|                                                                                     | 0/20 [00:00<?, ?it/s]"
     ]
    },
    {
     "name": "stdout",
     "output_type": "stream",
     "text": [
      "Group 0\n",
      "At round 31 accuracy: 0.9788039364118092\n",
      "At round 31 training accuracy: 0.98359161349134\n",
      "At round 31 training loss: 0.05347895699888947\n",
      "Group 1\n",
      "At round 31 accuracy: 0.9172976121141526\n",
      "At round 31 training accuracy: 0.9211908931698775\n",
      "At round 31 training loss: 0.24870936426870693\n",
      "Group 2\n",
      "At round 31 accuracy: 0.9621559633027523\n",
      "At round 31 training accuracy: 0.9692919075144508\n",
      "At round 31 training loss: 0.10482854946876667\n",
      "At round 31 mean test accuracy: 0.9442409442409443 mean train accuracy: 0.949565386611313\n",
      "number: [5, 6, 9]\n",
      "The client-group discrepancy are: [2.17560088 1.30344661 2.36533062 2.53364453]\n",
      "Begin group  0 training\n"
     ]
    },
    {
     "name": "stderr",
     "output_type": "stream",
     "text": [
      "Epoch:   0%|                                                                                     | 0/20 [00:00<?, ?it/s]"
     ]
    },
    {
     "name": "stdout",
     "output_type": "stream",
     "text": [
      "Begin group  1 training\n"
     ]
    },
    {
     "name": "stderr",
     "output_type": "stream",
     "text": [
      "Epoch:   0%|                                                                                     | 0/20 [00:00<?, ?it/s]"
     ]
    },
    {
     "name": "stdout",
     "output_type": "stream",
     "text": [
      "Begin group  2 training\n"
     ]
    },
    {
     "name": "stderr",
     "output_type": "stream",
     "text": [
      "                                                                                                                        \r"
     ]
    },
    {
     "name": "stdout",
     "output_type": "stream",
     "text": [
      "Group 0, clients ['f_00668', 'f_00789', 'f_00599', 'f_00169', 'f_00898', 'f_00149']\n",
      "Group 1, clients ['f_00687', 'f_00833', 'f_00375', 'f_00587', 'f_00074', 'f_00697', 'f_00123', 'f_00464']\n",
      "Group 2, clients ['f_00632', 'f_00182', 'f_00831', 'f_00402', 'f_00860', 'f_00682']\n"
     ]
    },
    {
     "name": "stderr",
     "output_type": "stream",
     "text": [
      "Epoch:  55%|█████████████████████████████████████████▎                                 | 11/20 [00:00<00:00, 100.16it/s]"
     ]
    },
    {
     "name": "stdout",
     "output_type": "stream",
     "text": [
      "Group 0\n",
      "At round 32 accuracy: 0.9719909159727479\n",
      "At round 32 training accuracy: 0.9800364630811303\n",
      "At round 32 training loss: 0.06449603785347038\n",
      "Group 1\n",
      "At round 32 accuracy: 0.9167152009318579\n",
      "At round 32 training accuracy: 0.9194746059544658\n",
      "At round 32 training loss: 0.2487533525117076\n",
      "Group 2\n",
      "At round 32 accuracy: 0.7962538226299695\n",
      "At round 32 training accuracy: 0.7985458815028902\n",
      "At round 32 training loss: 0.7875041185204119\n",
      "At round 32 mean test accuracy: 0.8838692172025505 mean train accuracy: 0.886822132848988\n",
      "number: [6, 8, 6]\n",
      "The client-group discrepancy are: [2.10356849 1.28149765 2.37509321 2.56360635]\n",
      "Begin group  0 training\n"
     ]
    },
    {
     "name": "stderr",
     "output_type": "stream",
     "text": [
      "Epoch:   0%|                                                                                     | 0/20 [00:00<?, ?it/s]"
     ]
    },
    {
     "name": "stdout",
     "output_type": "stream",
     "text": [
      "Begin group  1 training\n"
     ]
    },
    {
     "name": "stderr",
     "output_type": "stream",
     "text": [
      "Epoch:   0%|                                                                                     | 0/20 [00:00<?, ?it/s]"
     ]
    },
    {
     "name": "stdout",
     "output_type": "stream",
     "text": [
      "Begin group  2 training\n"
     ]
    },
    {
     "name": "stderr",
     "output_type": "stream",
     "text": [
      "                                                                                                                        \r"
     ]
    },
    {
     "name": "stdout",
     "output_type": "stream",
     "text": [
      "Group 0, clients ['f_00458', 'f_00388']\n",
      "Group 1, clients ['f_00286', 'f_00253', 'f_00004', 'f_00767', 'f_00234', 'f_00433', 'f_00176', 'f_00634', 'f_00896', 'f_00925', 'f_00943']\n",
      "Group 2, clients ['f_00402', 'f_00372', 'f_00110', 'f_00661', 'f_00800', 'f_00192', 'f_00520']\n"
     ]
    },
    {
     "name": "stderr",
     "output_type": "stream",
     "text": [
      "Epoch:  55%|█████████████████████████████████████████▎                                 | 11/20 [00:00<00:00, 104.27it/s]"
     ]
    },
    {
     "name": "stdout",
     "output_type": "stream",
     "text": [
      "Group 0\n",
      "At round 33 accuracy: 0.9750189250567751\n",
      "At round 33 training accuracy: 0.9802187784867822\n",
      "At round 33 training loss: 0.062090648606217214\n",
      "Group 1\n",
      "At round 33 accuracy: 0.8972044263249854\n",
      "At round 33 training accuracy: 0.9033975481611208\n",
      "At round 33 training loss: 0.28460485947271075\n",
      "Group 2\n",
      "At round 33 accuracy: 0.9422782874617737\n",
      "At round 33 training accuracy: 0.9465317919075145\n",
      "At round 33 training loss: 0.20810539157746777\n",
      "At round 33 mean test accuracy: 0.9271469271469271 mean train accuracy: 0.9325538401660612\n",
      "number: [2, 11, 7]\n",
      "The client-group discrepancy are: [2.17320435 2.76522259 2.18458322 1.9861752 ]\n",
      "Begin group  0 training\n"
     ]
    },
    {
     "name": "stderr",
     "output_type": "stream",
     "text": [
      "Epoch:  15%|███████████▌                                                                 | 3/20 [00:00<00:00, 25.97it/s]"
     ]
    },
    {
     "name": "stdout",
     "output_type": "stream",
     "text": [
      "Begin group  1 training\n"
     ]
    },
    {
     "name": "stderr",
     "output_type": "stream",
     "text": [
      "Epoch:   0%|                                                                                     | 0/20 [00:00<?, ?it/s]"
     ]
    },
    {
     "name": "stdout",
     "output_type": "stream",
     "text": [
      "Begin group  2 training\n"
     ]
    },
    {
     "name": "stderr",
     "output_type": "stream",
     "text": [
      "                                                                                                                        \r"
     ]
    },
    {
     "name": "stdout",
     "output_type": "stream",
     "text": [
      "Group 0, clients ['f_00339', 'f_00359', 'f_00469']\n",
      "Group 1, clients ['f_00395', 'f_00434', 'f_00195', 'f_00577', 'f_00087', 'f_00134', 'f_00504', 'f_00897']\n",
      "Group 2, clients ['f_00430', 'f_00972', 'f_00310', 'f_00130', 'f_00220', 'f_00402', 'f_00032', 'f_00861', 'f_00360']\n"
     ]
    },
    {
     "name": "stderr",
     "output_type": "stream",
     "text": [
      "Epoch:  25%|███████████████████▎                                                         | 5/20 [00:00<00:00, 41.91it/s]"
     ]
    },
    {
     "name": "stdout",
     "output_type": "stream",
     "text": [
      "Group 0\n",
      "At round 34 accuracy: 0.9780469341408025\n",
      "At round 34 training accuracy: 0.9837739288969918\n",
      "At round 34 training loss: 0.055266677313918156\n",
      "Group 1\n",
      "At round 34 accuracy: 0.9277810133954572\n",
      "At round 34 training accuracy: 0.9279509632224168\n",
      "At round 34 training loss: 0.22607686001355246\n",
      "Group 2\n",
      "At round 34 accuracy: 0.959480122324159\n",
      "At round 34 training accuracy: 0.9661307803468208\n",
      "At round 34 training loss: 0.13821568398498\n",
      "At round 34 mean test accuracy: 0.9480396147062814 mean train accuracy: 0.9515925012973534\n",
      "number: [3, 8, 9]\n",
      "The client-group discrepancy are: [2.05198241 1.25830858 2.24483278 2.14511781]\n",
      "Begin group  0 training\n"
     ]
    },
    {
     "name": "stderr",
     "output_type": "stream",
     "text": [
      "Epoch:  40%|██████████████████████████████▊                                              | 8/20 [00:00<00:00, 74.00it/s]"
     ]
    },
    {
     "name": "stdout",
     "output_type": "stream",
     "text": [
      "Begin group  1 training\n"
     ]
    },
    {
     "name": "stderr",
     "output_type": "stream",
     "text": [
      "Epoch:   5%|███▊                                                                         | 1/20 [00:00<00:02,  6.41it/s]"
     ]
    },
    {
     "name": "stdout",
     "output_type": "stream",
     "text": [
      "Begin group  2 training\n"
     ]
    },
    {
     "name": "stderr",
     "output_type": "stream",
     "text": [
      "                                                                                                                        \r"
     ]
    },
    {
     "name": "stdout",
     "output_type": "stream",
     "text": [
      "Group 0, clients ['f_00638', 'f_00939', 'f_00778', 'f_00138', 'f_00169']\n",
      "Group 1, clients ['f_00617', 'f_00826', 'f_00925', 'f_00106', 'f_00234', 'f_00077', 'f_00585', 'f_00543']\n",
      "Group 2, clients ['f_00832', 'f_00072', 'f_00110', 'f_00711', 'f_00350', 'f_00080', 'f_00401']\n"
     ]
    },
    {
     "name": "stderr",
     "output_type": "stream",
     "text": [
      "Epoch:   0%|                                                                                     | 0/20 [00:00<?, ?it/s]"
     ]
    },
    {
     "name": "stdout",
     "output_type": "stream",
     "text": [
      "Group 0\n",
      "At round 35 accuracy: 0.9727479182437547\n",
      "At round 35 training accuracy: 0.9817684594348223\n",
      "At round 35 training loss: 0.05695996068384346\n",
      "Group 1\n",
      "At round 35 accuracy: 0.9379732090856144\n",
      "At round 35 training accuracy: 0.9440280210157618\n",
      "At round 35 training loss: 0.17925383808771425\n",
      "Group 2\n",
      "At round 35 accuracy: 0.9476299694189603\n",
      "At round 35 training accuracy: 0.9522218208092486\n",
      "At round 35 training loss: 0.17811806531230986\n",
      "At round 35 mean test accuracy: 0.9476326142992809 mean train accuracy: 0.9536844836533471\n",
      "number: [5, 8, 7]\n",
      "The client-group discrepancy are: [2.11998585 2.00748481 2.03091339 2.30214084]\n",
      "Begin group  0 training\n"
     ]
    },
    {
     "name": "stderr",
     "output_type": "stream",
     "text": [
      "Epoch:  45%|██████████████████████████████████▋                                          | 9/20 [00:00<00:00, 84.25it/s]"
     ]
    },
    {
     "name": "stdout",
     "output_type": "stream",
     "text": [
      "Begin group  1 training\n"
     ]
    },
    {
     "name": "stderr",
     "output_type": "stream",
     "text": [
      "Epoch:   0%|                                                                                     | 0/20 [00:00<?, ?it/s]"
     ]
    },
    {
     "name": "stdout",
     "output_type": "stream",
     "text": [
      "Begin group  2 training\n"
     ]
    },
    {
     "name": "stderr",
     "output_type": "stream",
     "text": [
      "                                                                                                                        \r"
     ]
    },
    {
     "name": "stdout",
     "output_type": "stream",
     "text": [
      "Group 0, clients ['f_00329', 'f_00898', 'f_00928', 'f_00849', 'f_00888', 'f_00369', 'f_00759', 'f_00108', 'f_00348']\n",
      "Group 1, clients ['f_00677', 'f_00015', 'f_00297', 'f_00967']\n",
      "Group 2, clients ['f_00212', 'f_00361', 'f_00880', 'f_00700', 'f_00480', 'f_00632', 'f_00470']\n"
     ]
    },
    {
     "name": "stderr",
     "output_type": "stream",
     "text": [
      "Epoch:   0%|                                                                                     | 0/20 [00:00<?, ?it/s]"
     ]
    },
    {
     "name": "stdout",
     "output_type": "stream",
     "text": [
      "Group 0\n",
      "At round 36 accuracy: 0.9742619227857684\n",
      "At round 36 training accuracy: 0.9814038286235187\n",
      "At round 36 training loss: 0.058814394598144644\n",
      "Group 1\n",
      "At round 36 accuracy: 0.935061153174141\n",
      "At round 36 training accuracy: 0.937723292469352\n",
      "At round 36 training loss: 0.19766299593907857\n",
      "Group 2\n",
      "At round 36 accuracy: 0.966743119266055\n",
      "At round 36 training accuracy: 0.971820809248555\n",
      "At round 36 training loss: 0.10570951386075005\n",
      "At round 36 mean test accuracy: 0.9533306199972866 mean train accuracy: 0.9577387130254281\n",
      "number: [9, 4, 7]\n",
      "The client-group discrepancy are: [2.19327761 2.34485326 2.55824335 1.78984278]\n",
      "Begin group  0 training\n"
     ]
    },
    {
     "name": "stderr",
     "output_type": "stream",
     "text": [
      "Epoch:   0%|                                                                                     | 0/20 [00:00<?, ?it/s]"
     ]
    },
    {
     "name": "stdout",
     "output_type": "stream",
     "text": [
      "Begin group  1 training\n"
     ]
    },
    {
     "name": "stderr",
     "output_type": "stream",
     "text": [
      "Epoch:  45%|██████████████████████████████████▋                                          | 9/20 [00:00<00:00, 83.29it/s]"
     ]
    },
    {
     "name": "stdout",
     "output_type": "stream",
     "text": [
      "Begin group  2 training\n"
     ]
    },
    {
     "name": "stderr",
     "output_type": "stream",
     "text": [
      "                                                                                                                        \r"
     ]
    },
    {
     "name": "stdout",
     "output_type": "stream",
     "text": [
      "Group 0, clients ['f_00489', 'f_00558', 'f_00909', 'f_00338', 'f_00008']\n",
      "Group 1, clients ['f_00697', 'f_00604', 'f_00647', 'f_00487', 'f_00486', 'f_00097', 'f_00835', 'f_00606', 'f_00814']\n",
      "Group 2, clients ['f_00982', 'f_00011', 'f_00591', 'f_00160', 'f_00271', 'f_00530']\n"
     ]
    },
    {
     "name": "stderr",
     "output_type": "stream",
     "text": [
      "Epoch:  20%|███████████████▍                                                             | 4/20 [00:00<00:00, 33.72it/s]"
     ]
    },
    {
     "name": "stdout",
     "output_type": "stream",
     "text": [
      "Group 0\n",
      "At round 37 accuracy: 0.9666919000757003\n",
      "At round 37 training accuracy: 0.9721969006381039\n",
      "At round 37 training loss: 0.0819376671107713\n",
      "Group 1\n",
      "At round 37 accuracy: 0.930984274898078\n",
      "At round 37 training accuracy: 0.9345709281961471\n",
      "At round 37 training loss: 0.20806057823578877\n",
      "Group 2\n",
      "At round 37 accuracy: 0.9525993883792049\n",
      "At round 37 training accuracy: 0.9585440751445087\n",
      "At round 37 training loss: 0.1402280377236889\n",
      "At round 37 mean test accuracy: 0.945054945054945 mean train accuracy: 0.949873508043591\n",
      "number: [5, 9, 6]\n",
      "The client-group discrepancy are: [2.11121463 2.04247747 2.10946147 2.17112533]\n",
      "Begin group  0 training\n"
     ]
    },
    {
     "name": "stderr",
     "output_type": "stream",
     "text": [
      "Epoch:   0%|                                                                                     | 0/20 [00:00<?, ?it/s]"
     ]
    },
    {
     "name": "stdout",
     "output_type": "stream",
     "text": [
      "Begin group  1 training\n"
     ]
    },
    {
     "name": "stderr",
     "output_type": "stream",
     "text": [
      "Epoch:  30%|███████████████████████                                                      | 6/20 [00:00<00:00, 56.83it/s]"
     ]
    },
    {
     "name": "stdout",
     "output_type": "stream",
     "text": [
      "Begin group  2 training\n"
     ]
    },
    {
     "name": "stderr",
     "output_type": "stream",
     "text": [
      "                                                                                                                        \r"
     ]
    },
    {
     "name": "stdout",
     "output_type": "stream",
     "text": [
      "Group 0, clients ['f_00989', 'f_00599']\n",
      "Group 1, clients ['f_00635', 'f_00215', 'f_00094', 'f_00414', 'f_00824', 'f_00936', 'f_00714', 'f_00634', 'f_00364']\n",
      "Group 2, clients ['f_00010', 'f_00323', 'f_00761', 'f_00961', 'f_00910', 'f_00651', 'f_00181', 'f_00600', 'f_00743']\n"
     ]
    },
    {
     "name": "stderr",
     "output_type": "stream",
     "text": [
      "Epoch:  25%|███████████████████▎                                                         | 5/20 [00:00<00:00, 47.80it/s]"
     ]
    },
    {
     "name": "stdout",
     "output_type": "stream",
     "text": [
      "Group 0\n",
      "At round 38 accuracy: 0.9644208932626798\n",
      "At round 38 training accuracy: 0.9683682771194166\n",
      "At round 38 training loss: 0.09571436836041484\n",
      "Group 1\n",
      "At round 38 accuracy: 0.9283634245777519\n",
      "At round 38 training accuracy: 0.9326094570928196\n",
      "At round 38 training loss: 0.22157138522586953\n",
      "Group 2\n",
      "At round 38 accuracy: 0.966743119266055\n",
      "At round 38 training accuracy: 0.9686596820809249\n",
      "At round 38 training loss: 0.11564330845531372\n",
      "At round 38 mean test accuracy: 0.9484466151132818 mean train accuracy: 0.9519168396471199\n",
      "number: [2, 9, 9]\n",
      "The client-group discrepancy are: [1.99658252 1.64234274 1.98356307 2.08832193]\n",
      "Begin group  0 training\n"
     ]
    },
    {
     "name": "stderr",
     "output_type": "stream",
     "text": [
      "Epoch:  35%|██████████████████████████▉                                                  | 7/20 [00:00<00:00, 65.36it/s]"
     ]
    },
    {
     "name": "stdout",
     "output_type": "stream",
     "text": [
      "Begin group  1 training\n"
     ]
    },
    {
     "name": "stderr",
     "output_type": "stream",
     "text": [
      "Epoch:  60%|█████████████████████████████████████████████                              | 12/20 [00:00<00:00, 113.96it/s]"
     ]
    },
    {
     "name": "stdout",
     "output_type": "stream",
     "text": [
      "Begin group  2 training\n"
     ]
    },
    {
     "name": "stderr",
     "output_type": "stream",
     "text": [
      "                                                                                                                        \r"
     ]
    },
    {
     "name": "stdout",
     "output_type": "stream",
     "text": [
      "Group 0, clients ['f_00929', 'f_00248', 'f_00738', 'f_00569', 'f_00089', 'f_00118']\n",
      "Group 1, clients ['f_00173', 'f_00725', 'f_00424', 'f_00537', 'f_00497', 'f_00277', 'f_00544', 'f_00726']\n",
      "Group 2, clients ['f_00201', 'f_00172', 'f_00900', 'f_00002', 'f_00970', 'f_00390']\n"
     ]
    },
    {
     "name": "stderr",
     "output_type": "stream",
     "text": [
      "Epoch:   0%|                                                                                     | 0/20 [00:00<?, ?it/s]"
     ]
    },
    {
     "name": "stdout",
     "output_type": "stream",
     "text": [
      "Group 0\n",
      "At round 39 accuracy: 0.9613928841786525\n",
      "At round 39 training accuracy: 0.9675478577939836\n",
      "At round 39 training loss: 0.0970715771365426\n",
      "Group 1\n",
      "At round 39 accuracy: 0.9245777518928363\n",
      "At round 39 training accuracy: 0.9332049036777583\n",
      "At round 39 training loss: 0.21135741116052012\n",
      "Group 2\n",
      "At round 39 accuracy: 0.9694189602446484\n",
      "At round 39 training accuracy: 0.9729949421965318\n",
      "At round 39 training loss: 0.11015893783544169\n",
      "At round 39 mean test accuracy: 0.9470899470899471 mean train accuracy: 0.9536033990659055\n",
      "number: [6, 8, 6]\n",
      "The client-group discrepancy are: [2.57415692 2.59111795 2.81462839 2.23656727]\n",
      "Begin group  0 training\n"
     ]
    },
    {
     "name": "stderr",
     "output_type": "stream",
     "text": [
      "Epoch:  20%|███████████████▍                                                             | 4/20 [00:00<00:00, 34.61it/s]"
     ]
    },
    {
     "name": "stdout",
     "output_type": "stream",
     "text": [
      "Begin group  1 training\n"
     ]
    },
    {
     "name": "stderr",
     "output_type": "stream",
     "text": [
      "Epoch:   0%|                                                                                     | 0/20 [00:00<?, ?it/s]"
     ]
    },
    {
     "name": "stdout",
     "output_type": "stream",
     "text": [
      "Begin group  2 training\n"
     ]
    },
    {
     "name": "stderr",
     "output_type": "stream",
     "text": [
      "                                                                                                                        \r"
     ]
    },
    {
     "name": "stdout",
     "output_type": "stream",
     "text": [
      "Group 0, clients ['f_00538', 'f_00348']\n",
      "Group 1, clients ['f_00204', 'f_00594', 'f_00014', 'f_00064', 'f_00135', 'f_00976', 'f_00246', 'f_00366', 'f_00176', 'f_00644']\n",
      "Group 2, clients ['f_00071', 'f_00672', 'f_00340', 'f_00350', 'f_00181', 'f_00982', 'f_00632', 'f_00042']\n"
     ]
    },
    {
     "name": "stderr",
     "output_type": "stream",
     "text": [
      "Epoch:  30%|███████████████████████                                                      | 6/20 [00:00<00:00, 55.33it/s]"
     ]
    },
    {
     "name": "stdout",
     "output_type": "stream",
     "text": [
      "Group 0\n",
      "At round 40 accuracy: 0.9644208932626798\n",
      "At round 40 training accuracy: 0.9697356426618049\n",
      "At round 40 training loss: 0.08993338565514675\n",
      "Group 1\n",
      "At round 40 accuracy: 0.9411764705882353\n",
      "At round 40 training accuracy: 0.9479859894921191\n",
      "At round 40 training loss: 0.17034938097668847\n",
      "Group 2\n",
      "At round 40 accuracy: 0.970565749235474\n",
      "At round 40 training accuracy: 0.9761109104046243\n",
      "At round 40 training loss: 0.09558792811001542\n",
      "At round 40 mean test accuracy: 0.9557726224392891 mean train accuracy: 0.9619551115723923\n",
      "number: [2, 10, 8]\n",
      "The client-group discrepancy are: [1.78352462 1.56496057 2.43875387 1.01912906]\n",
      "Begin group  0 training\n"
     ]
    },
    {
     "name": "stderr",
     "output_type": "stream",
     "text": [
      "Epoch:   0%|                                                                                     | 0/20 [00:00<?, ?it/s]"
     ]
    },
    {
     "name": "stdout",
     "output_type": "stream",
     "text": [
      "Begin group  1 training\n"
     ]
    },
    {
     "name": "stderr",
     "output_type": "stream",
     "text": [
      "Epoch:   0%|                                                                                     | 0/20 [00:00<?, ?it/s]"
     ]
    },
    {
     "name": "stdout",
     "output_type": "stream",
     "text": [
      "Begin group  2 training\n"
     ]
    },
    {
     "name": "stderr",
     "output_type": "stream",
     "text": [
      "                                                                                                                        \r"
     ]
    },
    {
     "name": "stdout",
     "output_type": "stream",
     "text": [
      "Group 0, clients ['f_00219', 'f_00998', 'f_00328', 'f_00299', 'f_00898']\n",
      "Group 1, clients ['f_00833', 'f_00484', 'f_00834', 'f_00185', 'f_00926', 'f_00586', 'f_00283', 'f_00143']\n",
      "Group 2, clients ['f_00522', 'f_00670', 'f_00551', 'f_00332', 'f_00411', 'f_00982', 'f_00612']\n"
     ]
    },
    {
     "name": "stderr",
     "output_type": "stream",
     "text": [
      "Epoch:   0%|                                                                                     | 0/20 [00:00<?, ?it/s]"
     ]
    },
    {
     "name": "stdout",
     "output_type": "stream",
     "text": [
      "Group 0\n",
      "At round 41 accuracy: 0.9750189250567751\n",
      "At round 41 training accuracy: 0.9837739288969918\n",
      "At round 41 training loss: 0.056441057177001104\n",
      "Group 1\n",
      "At round 41 accuracy: 0.9333139196272568\n",
      "At round 41 training accuracy: 0.942031523642732\n",
      "At round 41 training loss: 0.19549027322450682\n",
      "Group 2\n",
      "At round 41 accuracy: 0.9690366972477065\n",
      "At round 41 training accuracy: 0.9752528901734104\n",
      "At round 41 training loss: 0.09891397766370122\n",
      "At round 41 mean test accuracy: 0.9534662867996201 mean train accuracy: 0.961387519460301\n",
      "number: [5, 8, 7]\n",
      "The client-group discrepancy are: [2.31756946 1.6575341  2.62448222 2.43826583]\n",
      "Begin group  0 training\n"
     ]
    },
    {
     "name": "stderr",
     "output_type": "stream",
     "text": [
      "Epoch:  55%|█████████████████████████████████████████▎                                 | 11/20 [00:00<00:00, 100.52it/s]"
     ]
    },
    {
     "name": "stdout",
     "output_type": "stream",
     "text": [
      "Begin group  1 training\n"
     ]
    },
    {
     "name": "stderr",
     "output_type": "stream",
     "text": [
      "Epoch:   0%|                                                                                     | 0/20 [00:00<?, ?it/s]"
     ]
    },
    {
     "name": "stdout",
     "output_type": "stream",
     "text": [
      "Begin group  2 training\n"
     ]
    },
    {
     "name": "stderr",
     "output_type": "stream",
     "text": [
      "                                                                                                                        \r"
     ]
    },
    {
     "name": "stdout",
     "output_type": "stream",
     "text": [
      "Group 0, clients ['f_00678', 'f_00859', 'f_00938', 'f_00899', 'f_00319']\n",
      "Group 1, clients ['f_00737', 'f_00626', 'f_00513', 'f_00136', 'f_00076', 'f_00636', 'f_00973', 'f_00883']\n",
      "Group 2, clients ['f_00521', 'f_00740', 'f_00660', 'f_00411', 'f_00811', 'f_00280', 'f_00761']\n"
     ]
    },
    {
     "name": "stderr",
     "output_type": "stream",
     "text": [
      "Epoch:   0%|                                                                                     | 0/20 [00:00<?, ?it/s]"
     ]
    },
    {
     "name": "stdout",
     "output_type": "stream",
     "text": [
      "Group 0\n",
      "At round 42 accuracy: 0.975775927327782\n",
      "At round 42 training accuracy: 0.9839562443026436\n",
      "At round 42 training loss: 0.05458303339266585\n",
      "Group 1\n",
      "At round 42 accuracy: 0.9324403028538147\n",
      "At round 42 training accuracy: 0.9419964973730298\n",
      "At round 42 training loss: 0.1934615106704839\n",
      "Group 2\n",
      "At round 42 accuracy: 0.9629204892966361\n",
      "At round 42 training accuracy: 0.9658146676300579\n",
      "At round 42 training loss: 0.1327222407446402\n",
      "At round 42 mean test accuracy: 0.9510242843576177 mean train accuracy: 0.9580144006227296\n",
      "number: [5, 8, 7]\n",
      "The client-group discrepancy are: [1.87109826 1.73560245 1.9652153  1.86031867]\n",
      "Begin group  0 training\n"
     ]
    },
    {
     "name": "stderr",
     "output_type": "stream",
     "text": [
      "Epoch:  45%|██████████████████████████████████▋                                          | 9/20 [00:00<00:00, 85.49it/s]"
     ]
    },
    {
     "name": "stdout",
     "output_type": "stream",
     "text": [
      "Begin group  1 training\n"
     ]
    },
    {
     "name": "stderr",
     "output_type": "stream",
     "text": [
      "Epoch:   0%|                                                                                     | 0/20 [00:00<?, ?it/s]"
     ]
    },
    {
     "name": "stdout",
     "output_type": "stream",
     "text": [
      "Begin group  2 training\n"
     ]
    },
    {
     "name": "stderr",
     "output_type": "stream",
     "text": [
      "                                                                                                                        \r"
     ]
    },
    {
     "name": "stdout",
     "output_type": "stream",
     "text": [
      "Group 0, clients ['f_00858']\n",
      "Group 1, clients ['f_00986', 'f_00183', 'f_00604', 'f_00447', 'f_00884', 'f_00695', 'f_00874', 'f_00143', 'f_00536', 'f_00523']\n",
      "Group 2, clients ['f_00502', 'f_00710', 'f_00692', 'f_00653', 'f_00082', 'f_00191', 'f_00760', 'f_00180', 'f_00500']\n"
     ]
    },
    {
     "name": "stderr",
     "output_type": "stream",
     "text": [
      "Epoch:  80%|████████████████████████████████████████████████████████████               | 16/20 [00:00<00:00, 154.88it/s]"
     ]
    },
    {
     "name": "stdout",
     "output_type": "stream",
     "text": [
      "Group 0\n",
      "At round 43 accuracy: 0.9704769114307343\n",
      "At round 43 training accuracy: 0.980309936189608\n",
      "At round 43 training loss: 0.06714292518666422\n",
      "Group 1\n",
      "At round 43 accuracy: 0.9338963308095516\n",
      "At round 43 training accuracy: 0.9451488616462347\n",
      "At round 43 training loss: 0.18535556692506552\n",
      "Group 2\n",
      "At round 43 accuracy: 0.9640672782874617\n",
      "At round 43 training accuracy: 0.9663114161849711\n",
      "At round 43 training loss: 0.13008762573601898\n",
      "At round 43 mean test accuracy: 0.9511599511599511 mean train accuracy: 0.9590036325895174\n",
      "number: [1, 10, 9]\n",
      "The client-group discrepancy are: [2.37432045 0.99528067 2.53200086 2.35234663]\n",
      "Begin group  0 training\n",
      "Begin group  1 training\n"
     ]
    },
    {
     "name": "stderr",
     "output_type": "stream",
     "text": [
      "Epoch:  45%|██████████████████████████████████▋                                          | 9/20 [00:00<00:00, 87.17it/s]"
     ]
    },
    {
     "name": "stdout",
     "output_type": "stream",
     "text": [
      "Begin group  2 training\n"
     ]
    },
    {
     "name": "stderr",
     "output_type": "stream",
     "text": [
      "                                                                                                                        \r"
     ]
    },
    {
     "name": "stdout",
     "output_type": "stream",
     "text": [
      "Group 0, clients ['f_00118', 'f_00019', 'f_00758', 'f_00848', 'f_00639', 'f_00928', 'f_00998']\n",
      "Group 1, clients ['f_00425', 'f_00637', 'f_00406', 'f_00237', 'f_00117', 'f_00837']\n",
      "Group 2, clients ['f_00041', 'f_00221', 'f_00231', 'f_00032', 'f_00281', 'f_00841', 'f_00622']\n"
     ]
    },
    {
     "name": "stderr",
     "output_type": "stream",
     "text": [
      "Epoch:  60%|█████████████████████████████████████████████                              | 12/20 [00:00<00:00, 114.88it/s]"
     ]
    },
    {
     "name": "stdout",
     "output_type": "stream",
     "text": [
      "Group 0\n",
      "At round 44 accuracy: 0.9727479182437547\n",
      "At round 44 training accuracy: 0.9810391978122152\n",
      "At round 44 training loss: 0.06510947760207779\n",
      "Group 1\n",
      "At round 44 accuracy: 0.9373907979033197\n",
      "At round 44 training accuracy: 0.9466549912434326\n",
      "At round 44 training loss: 0.17985720100537275\n",
      "Group 2\n",
      "At round 44 accuracy: 0.9720948012232415\n",
      "At round 44 training accuracy: 0.9752077312138728\n",
      "At round 44 training loss: 0.0973459121622603\n",
      "At round 44 mean test accuracy: 0.9560439560439561 mean train accuracy: 0.9630254281266217\n",
      "number: [7, 6, 7]\n",
      "The client-group discrepancy are: [2.03604127 1.50445329 2.65105898 2.04047122]\n",
      "Begin group  0 training\n"
     ]
    },
    {
     "name": "stderr",
     "output_type": "stream",
     "text": [
      "Epoch:   0%|                                                                                     | 0/20 [00:00<?, ?it/s]"
     ]
    },
    {
     "name": "stdout",
     "output_type": "stream",
     "text": [
      "Begin group  1 training\n"
     ]
    },
    {
     "name": "stderr",
     "output_type": "stream",
     "text": [
      "Epoch:   0%|                                                                                     | 0/20 [00:00<?, ?it/s]"
     ]
    },
    {
     "name": "stdout",
     "output_type": "stream",
     "text": [
      "Begin group  2 training\n"
     ]
    },
    {
     "name": "stderr",
     "output_type": "stream",
     "text": [
      "                                                                                                                        \r"
     ]
    },
    {
     "name": "stdout",
     "output_type": "stream",
     "text": [
      "Group 0, clients ['f_00919', 'f_00658', 'f_00739', 'f_00809']\n",
      "Group 1, clients ['f_00726', 'f_00243', 'f_00976', 'f_00257', 'f_00634', 'f_00033', 'f_00485', 'f_00536', 'f_00396', 'f_00337']\n",
      "Group 2, clients ['f_00342', 'f_00922', 'f_00331', 'f_00210', 'f_00052', 'f_00472']\n"
     ]
    },
    {
     "name": "stderr",
     "output_type": "stream",
     "text": [
      "Epoch:  50%|██████████████████████████████████████                                      | 10/20 [00:00<00:00, 99.78it/s]"
     ]
    },
    {
     "name": "stdout",
     "output_type": "stream",
     "text": [
      "Group 0\n",
      "At round 45 accuracy: 0.9735049205147616\n",
      "At round 45 training accuracy: 0.9829535095715588\n",
      "At round 45 training loss: 0.060290356193648816\n",
      "Group 1\n",
      "At round 45 accuracy: 0.9394292370413512\n",
      "At round 45 training accuracy: 0.9494220665499125\n",
      "At round 45 training loss: 0.1762068895803032\n",
      "Group 2\n",
      "At round 45 accuracy: 0.9713302752293578\n",
      "At round 45 training accuracy: 0.9738981213872833\n",
      "At round 45 training loss: 0.10035755329619868\n",
      "At round 45 mean test accuracy: 0.9568579568579568 mean train accuracy: 0.9641768292682927\n",
      "number: [4, 10, 6]\n",
      "The client-group discrepancy are: [2.06871131 1.61638898 1.84482518 2.74340308]\n",
      "Begin group  0 training\n"
     ]
    },
    {
     "name": "stderr",
     "output_type": "stream",
     "text": [
      "Epoch:   0%|                                                                                     | 0/20 [00:00<?, ?it/s]"
     ]
    },
    {
     "name": "stdout",
     "output_type": "stream",
     "text": [
      "Begin group  1 training\n"
     ]
    },
    {
     "name": "stderr",
     "output_type": "stream",
     "text": [
      "Epoch:  25%|███████████████████▎                                                         | 5/20 [00:00<00:00, 42.82it/s]"
     ]
    },
    {
     "name": "stdout",
     "output_type": "stream",
     "text": [
      "Begin group  2 training\n"
     ]
    },
    {
     "name": "stderr",
     "output_type": "stream",
     "text": [
      "                                                                                                                        \r"
     ]
    },
    {
     "name": "stdout",
     "output_type": "stream",
     "text": [
      "Group 0, clients ['f_00629', 'f_00078', 'f_00348', 'f_00038', 'f_00719', 'f_00678']\n",
      "Group 1, clients ['f_00576', 'f_00557', 'f_00677', 'f_00467', 'f_00983', 'f_00364', 'f_00486', 'f_00773', 'f_00036']\n",
      "Group 2, clients ['f_00641', 'f_00352', 'f_00131', 'f_00332', 'f_00342']\n"
     ]
    },
    {
     "name": "stderr",
     "output_type": "stream",
     "text": [
      "                                                                                                                        "
     ]
    },
    {
     "name": "stdout",
     "output_type": "stream",
     "text": [
      "Group 0\n",
      "At round 46 accuracy: 0.975775927327782\n",
      "At round 46 training accuracy: 0.9851412944393801\n",
      "At round 46 training loss: 0.051084308538636325\n",
      "Group 1\n",
      "At round 46 accuracy: 0.9321490972626675\n",
      "At round 46 training accuracy: 0.9353415061295972\n",
      "At round 46 training loss: 0.21253024251699548\n",
      "Group 2\n",
      "At round 46 accuracy: 0.9690366972477065\n",
      "At round 46 training accuracy: 0.9724981936416185\n",
      "At round 46 training loss: 0.10492509866152513\n",
      "At round 46 mean test accuracy: 0.9530592863926197 mean train accuracy: 0.9575441100155683\n",
      "number: [6, 9, 5]\n",
      "The client-group discrepancy are: [1.65824139 1.08796757 2.13908763 1.47704677]\n",
      "Begin group  0 training\n"
     ]
    },
    {
     "name": "stderr",
     "output_type": "stream",
     "text": [
      "Epoch:  45%|██████████████████████████████████▋                                          | 9/20 [00:00<00:00, 82.55it/s]"
     ]
    },
    {
     "name": "stdout",
     "output_type": "stream",
     "text": [
      "Begin group  1 training\n"
     ]
    },
    {
     "name": "stderr",
     "output_type": "stream",
     "text": [
      "Epoch:   0%|                                                                                     | 0/20 [00:00<?, ?it/s]"
     ]
    },
    {
     "name": "stdout",
     "output_type": "stream",
     "text": [
      "Begin group  2 training\n"
     ]
    },
    {
     "name": "stderr",
     "output_type": "stream",
     "text": [
      "                                                                                                                        \r"
     ]
    },
    {
     "name": "stdout",
     "output_type": "stream",
     "text": [
      "Group 0, clients ['f_00569', 'f_00899', 'f_00938', 'f_00898', 'f_00328', 'f_00158']\n",
      "Group 1, clients ['f_00926', 'f_00586', 'f_00025', 'f_00115', 'f_00867', 'f_00687']\n",
      "Group 2, clients ['f_00530', 'f_00332', 'f_00682', 'f_00881', 'f_00452', 'f_00742', 'f_00940', 'f_00091']\n"
     ]
    },
    {
     "name": "stderr",
     "output_type": "stream",
     "text": [
      "Epoch:   0%|                                                                                     | 0/20 [00:00<?, ?it/s]"
     ]
    },
    {
     "name": "stdout",
     "output_type": "stream",
     "text": [
      "Group 0\n",
      "At round 47 accuracy: 0.9765329295987888\n",
      "At round 47 training accuracy: 0.9855059252506837\n",
      "At round 47 training loss: 0.049305597595550234\n",
      "Group 1\n",
      "At round 47 accuracy: 0.9149679673849738\n",
      "At round 47 training accuracy: 0.9195446584938703\n",
      "At round 47 training loss: 0.25790768658758007\n",
      "Group 2\n",
      "At round 47 accuracy: 0.9617737003058104\n",
      "At round 47 training accuracy: 0.9671242774566474\n",
      "At round 47 training loss: 0.12104941416574046\n",
      "At round 47 mean test accuracy: 0.9426129426129426 mean train accuracy: 0.948365334717177\n",
      "number: [6, 6, 8]\n",
      "The client-group discrepancy are: [1.31789994 0.46485892 1.47521792 1.83969222]\n",
      "Begin group  0 training\n"
     ]
    },
    {
     "name": "stderr",
     "output_type": "stream",
     "text": [
      "Epoch:  40%|██████████████████████████████▊                                              | 8/20 [00:00<00:00, 76.53it/s]"
     ]
    },
    {
     "name": "stdout",
     "output_type": "stream",
     "text": [
      "Begin group  1 training\n"
     ]
    },
    {
     "name": "stderr",
     "output_type": "stream",
     "text": [
      "Epoch:   0%|                                                                                     | 0/20 [00:00<?, ?it/s]"
     ]
    },
    {
     "name": "stdout",
     "output_type": "stream",
     "text": [
      "Begin group  2 training\n"
     ]
    },
    {
     "name": "stderr",
     "output_type": "stream",
     "text": [
      "                                                                                                                        \r"
     ]
    },
    {
     "name": "stdout",
     "output_type": "stream",
     "text": [
      "Group 0, clients ['f_00329', 'f_00279', 'f_00309', 'f_00478']\n",
      "Group 1, clients ['f_00847', 'f_00474', 'f_00853', 'f_00244', 'f_00225', 'f_00235', 'f_00665', 'f_00613', 'f_00873', 'f_00906', 'f_00277']\n",
      "Group 2, clients ['f_00540', 'f_00422', 'f_00461', 'f_00520', 'f_00691']\n"
     ]
    },
    {
     "name": "stderr",
     "output_type": "stream",
     "text": [
      "Epoch:   0%|                                                                                     | 0/20 [00:00<?, ?it/s]"
     ]
    },
    {
     "name": "stdout",
     "output_type": "stream",
     "text": [
      "Group 0\n",
      "At round 48 accuracy: 0.9742619227857684\n",
      "At round 48 training accuracy: 0.9818596171376481\n",
      "At round 48 training loss: 0.06012592754771039\n",
      "Group 1\n",
      "At round 48 accuracy: 0.8849737914967968\n",
      "At round 48 training accuracy: 0.8855341506129597\n",
      "At round 48 training loss: 0.35946540311459857\n",
      "Group 2\n",
      "At round 48 accuracy: 0.966743119266055\n",
      "At round 48 training accuracy: 0.9714595375722543\n",
      "At round 48 training loss: 0.10789056553194327\n",
      "At round 48 mean test accuracy: 0.92999592999593 mean train accuracy: 0.9335268552153607\n",
      "number: [4, 11, 5]\n",
      "The client-group discrepancy are: [2.42759243 1.26280171 2.77057051 2.60487323]\n",
      "Begin group  0 training\n"
     ]
    },
    {
     "name": "stderr",
     "output_type": "stream",
     "text": [
      "Epoch:   0%|                                                                                     | 0/20 [00:00<?, ?it/s]"
     ]
    },
    {
     "name": "stdout",
     "output_type": "stream",
     "text": [
      "Begin group  1 training\n"
     ]
    },
    {
     "name": "stderr",
     "output_type": "stream",
     "text": [
      "Epoch:   0%|                                                                                     | 0/20 [00:00<?, ?it/s]"
     ]
    },
    {
     "name": "stdout",
     "output_type": "stream",
     "text": [
      "Begin group  2 training\n"
     ]
    },
    {
     "name": "stderr",
     "output_type": "stream",
     "text": [
      "                                                                                                                        \r"
     ]
    },
    {
     "name": "stdout",
     "output_type": "stream",
     "text": [
      "Group 0, clients ['f_00318', 'f_00718', 'f_00498', 'f_00369', 'f_00769', 'f_00159']\n",
      "Group 1, clients ['f_00794', 'f_00466', 'f_00616', 'f_00566', 'f_00215', 'f_00024', 'f_00996', 'f_00335']\n",
      "Group 2, clients ['f_00181', 'f_00661', 'f_00381', 'f_00981', 'f_00071', 'f_00732']\n"
     ]
    },
    {
     "name": "stderr",
     "output_type": "stream",
     "text": [
      "Epoch:   0%|                                                                                     | 0/20 [00:00<?, ?it/s]"
     ]
    },
    {
     "name": "stdout",
     "output_type": "stream",
     "text": [
      "Group 0\n",
      "At round 49 accuracy: 0.9772899318697956\n",
      "At round 49 training accuracy: 0.9845943482224248\n",
      "At round 49 training loss: 0.050262777850695856\n",
      "Group 1\n",
      "At round 49 accuracy: 0.9222481071636576\n",
      "At round 49 training accuracy: 0.9260245183887916\n",
      "At round 49 training loss: 0.24430298482922547\n",
      "Group 2\n",
      "At round 49 accuracy: 0.9682721712538226\n",
      "At round 49 training accuracy: 0.9720917630057804\n",
      "At round 49 training loss: 0.10635706895312073\n",
      "At round 49 mean test accuracy: 0.9484466151132818 mean train accuracy: 0.9529871562013492\n",
      "number: [6, 8, 6]\n",
      "The client-group discrepancy are: [2.01454863 1.91476946 2.58251015 1.35704577]\n",
      "Begin group  0 training\n"
     ]
    },
    {
     "name": "stderr",
     "output_type": "stream",
     "text": [
      "Epoch:  30%|███████████████████████                                                      | 6/20 [00:00<00:00, 58.49it/s]"
     ]
    },
    {
     "name": "stdout",
     "output_type": "stream",
     "text": [
      "Begin group  1 training\n"
     ]
    },
    {
     "name": "stderr",
     "output_type": "stream",
     "text": [
      "Epoch:  80%|████████████████████████████████████████████████████████████               | 16/20 [00:00<00:00, 155.90it/s]"
     ]
    },
    {
     "name": "stdout",
     "output_type": "stream",
     "text": [
      "Begin group  2 training\n"
     ]
    },
    {
     "name": "stderr",
     "output_type": "stream",
     "text": [
      "                                                                                                                        \r"
     ]
    },
    {
     "name": "stdout",
     "output_type": "stream",
     "text": [
      "Group 0, clients ['f_00459', 'f_00978']\n",
      "Group 1, clients ['f_00316', 'f_00854', 'f_00727', 'f_00563', 'f_00747', 'f_00684', 'f_00665', 'f_00386', 'f_00636']\n",
      "Group 2, clients ['f_00011', 'f_00771', 'f_00541', 'f_00881', 'f_00502', 'f_00421', 'f_00260', 'f_00460', 'f_00401']\n"
     ]
    },
    {
     "name": "stderr",
     "output_type": "stream",
     "text": [
      "Epoch:   0%|                                                                                     | 0/20 [00:00<?, ?it/s]"
     ]
    },
    {
     "name": "stdout",
     "output_type": "stream",
     "text": [
      "Group 0\n",
      "At round 50 accuracy: 0.9735049205147616\n",
      "At round 50 training accuracy: 0.9813126709206929\n",
      "At round 50 training loss: 0.05547982760401172\n",
      "Group 1\n",
      "At round 50 accuracy: 0.9283634245777519\n",
      "At round 50 training accuracy: 0.9324693520140105\n",
      "At round 50 training loss: 0.2240601180375622\n",
      "Group 2\n",
      "At round 50 accuracy: 0.9694189602446484\n",
      "At round 50 training accuracy: 0.9737626445086706\n",
      "At round 50 training loss: 0.10157439463282152\n",
      "At round 50 mean test accuracy: 0.9510242843576177 mean train accuracy: 0.9559872859366891\n",
      "number: [2, 9, 9]\n",
      "The client-group discrepancy are: [1.84253584 0.84692576 1.99355748 1.91276089]\n",
      "Begin group  0 training\n",
      "Begin group  1 training\n"
     ]
    },
    {
     "name": "stderr",
     "output_type": "stream",
     "text": [
      "Epoch:  30%|███████████████████████                                                      | 6/20 [00:00<00:00, 53.57it/s]"
     ]
    },
    {
     "name": "stdout",
     "output_type": "stream",
     "text": [
      "Begin group  2 training\n"
     ]
    },
    {
     "name": "stderr",
     "output_type": "stream",
     "text": [
      "                                                                                                                        \r"
     ]
    },
    {
     "name": "stdout",
     "output_type": "stream",
     "text": [
      "Group 0, clients ['f_00869', 'f_00189']\n",
      "Group 1, clients ['f_00833', 'f_00535', 'f_00144', 'f_00585', 'f_00513', 'f_00925', 'f_00297', 'f_00575', 'f_00364']\n",
      "Group 2, clients ['f_00551', 'f_00782', 'f_00712', 'f_00542', 'f_00140', 'f_00220', 'f_00312', 'f_00221', 'f_00630']\n"
     ]
    },
    {
     "name": "stderr",
     "output_type": "stream",
     "text": [
      "Epoch:  20%|███████████████▍                                                             | 4/20 [00:00<00:00, 35.67it/s]"
     ]
    },
    {
     "name": "stdout",
     "output_type": "stream",
     "text": [
      "Group 0\n",
      "At round 51 accuracy: 0.9750189250567751\n",
      "At round 51 training accuracy: 0.9836827711941659\n",
      "At round 51 training loss: 0.04863500982644301\n",
      "Group 1\n",
      "At round 51 accuracy: 0.9234129295282469\n",
      "At round 51 training accuracy: 0.9325744308231173\n",
      "At round 51 training loss: 0.22849333981625097\n",
      "Group 2\n",
      "At round 51 accuracy: 0.9671253822629969\n",
      "At round 51 training accuracy: 0.9710079479768786\n",
      "At round 51 training loss: 0.11100631493415034\n",
      "At round 51 mean test accuracy: 0.9481752815086149 mean train accuracy: 0.9554683445770628\n",
      "number: [2, 9, 9]\n",
      "The client-group discrepancy are: [1.67238586 2.03637327 1.58554072 1.67834491]\n",
      "Begin group  0 training\n"
     ]
    },
    {
     "name": "stderr",
     "output_type": "stream",
     "text": [
      "Epoch:  15%|███████████▌                                                                 | 3/20 [00:00<00:00, 27.41it/s]"
     ]
    },
    {
     "name": "stdout",
     "output_type": "stream",
     "text": [
      "Begin group  1 training\n"
     ]
    },
    {
     "name": "stderr",
     "output_type": "stream",
     "text": [
      "Epoch:  15%|███████████▌                                                                 | 3/20 [00:00<00:00, 23.58it/s]"
     ]
    },
    {
     "name": "stdout",
     "output_type": "stream",
     "text": [
      "Begin group  2 training\n"
     ]
    },
    {
     "name": "stderr",
     "output_type": "stream",
     "text": [
      "                                                                                                                        \r"
     ]
    },
    {
     "name": "stdout",
     "output_type": "stream",
     "text": [
      "Group 0, clients ['f_00639', 'f_00109', 'f_00618', 'f_00589']\n",
      "Group 1, clients ['f_00198', 'f_00314', 'f_00975', 'f_00006', 'f_00895', 'f_00897', 'f_00957', 'f_00807', 'f_00046', 'f_00007', 'f_00027', 'f_00273']\n",
      "Group 2, clients ['f_00481', 'f_00751', 'f_00291', 'f_00120']\n"
     ]
    },
    {
     "name": "stderr",
     "output_type": "stream",
     "text": [
      "Epoch:  35%|██████████████████████████▉                                                  | 7/20 [00:00<00:00, 65.24it/s]"
     ]
    },
    {
     "name": "stdout",
     "output_type": "stream",
     "text": [
      "Group 0\n",
      "At round 52 accuracy: 0.9666919000757003\n",
      "At round 52 training accuracy: 0.9690975387420238\n",
      "At round 52 training loss: 0.08741772192683885\n",
      "Group 1\n",
      "At round 52 accuracy: 0.9155503785672685\n",
      "At round 52 training accuracy: 0.9276357267950963\n",
      "At round 52 training loss: 0.24315476041514816\n",
      "Group 2\n",
      "At round 52 accuracy: 0.9709480122324159\n",
      "At round 52 training accuracy: 0.9771044075144508\n",
      "At round 52 training loss: 0.09187683821756314\n",
      "At round 52 mean test accuracy: 0.9443766110432777 mean train accuracy: 0.952776336274001\n",
      "number: [4, 12, 4]\n",
      "The client-group discrepancy are: [2.28740882 1.43419686 2.70207183 1.89663174]\n",
      "Begin group  0 training\n"
     ]
    },
    {
     "name": "stderr",
     "output_type": "stream",
     "text": [
      "Epoch:   0%|                                                                                     | 0/20 [00:00<?, ?it/s]"
     ]
    },
    {
     "name": "stdout",
     "output_type": "stream",
     "text": [
      "Begin group  1 training\n"
     ]
    },
    {
     "name": "stderr",
     "output_type": "stream",
     "text": [
      "Epoch:  30%|███████████████████████                                                      | 6/20 [00:00<00:00, 53.50it/s]"
     ]
    },
    {
     "name": "stdout",
     "output_type": "stream",
     "text": [
      "Begin group  2 training\n"
     ]
    },
    {
     "name": "stderr",
     "output_type": "stream",
     "text": [
      "                                                                                                                        \r"
     ]
    },
    {
     "name": "stdout",
     "output_type": "stream",
     "text": [
      "Group 0, clients ['f_00718', 'f_00768', 'f_00929', 'f_00759']\n",
      "Group 1, clients ['f_00554', 'f_00687', 'f_00914', 'f_00095', 'f_00266', 'f_00514', 'f_00455', 'f_00136', 'f_00434', 'f_00545', 'f_00957']\n",
      "Group 2, clients ['f_00721', 'f_00371', 'f_00672', 'f_00040', 'f_00851']\n"
     ]
    },
    {
     "name": "stderr",
     "output_type": "stream",
     "text": [
      "Epoch:   0%|                                                                                     | 0/20 [00:00<?, ?it/s]"
     ]
    },
    {
     "name": "stdout",
     "output_type": "stream",
     "text": [
      "Group 0\n",
      "At round 53 accuracy: 0.9682059046177138\n",
      "At round 53 training accuracy: 0.9711030082041933\n",
      "At round 53 training loss: 0.08141995281998213\n",
      "Group 1\n",
      "At round 53 accuracy: 0.8800232964472918\n",
      "At round 53 training accuracy: 0.8854290718038529\n",
      "At round 53 training loss: 0.3482534362901175\n",
      "Group 2\n",
      "At round 53 accuracy: 0.9663608562691132\n",
      "At round 53 training accuracy: 0.9704660404624278\n",
      "At round 53 training loss: 0.11034550994262161\n",
      "At round 53 mean test accuracy: 0.9264685931352598 mean train accuracy: 0.9312078360145304\n",
      "number: [4, 11, 5]\n",
      "The client-group discrepancy are: [1.8510764  0.64543161 2.07823709 2.3158387 ]\n",
      "Begin group  0 training\n"
     ]
    },
    {
     "name": "stderr",
     "output_type": "stream",
     "text": [
      "Epoch:  75%|████████████████████████████████████████████████████████▎                  | 15/20 [00:00<00:00, 141.09it/s]"
     ]
    },
    {
     "name": "stdout",
     "output_type": "stream",
     "text": [
      "Begin group  1 training\n"
     ]
    },
    {
     "name": "stderr",
     "output_type": "stream",
     "text": [
      "Epoch:   0%|                                                                                     | 0/20 [00:00<?, ?it/s]"
     ]
    },
    {
     "name": "stdout",
     "output_type": "stream",
     "text": [
      "Begin group  2 training\n"
     ]
    },
    {
     "name": "stderr",
     "output_type": "stream",
     "text": [
      "                                                                                                                        \r"
     ]
    },
    {
     "name": "stdout",
     "output_type": "stream",
     "text": [
      "Group 0, clients ['f_00658', 'f_00129', 'f_00719']\n",
      "Group 1, clients ['f_00185', 'f_00744', 'f_00413', 'f_00627', 'f_00077', 'f_00167', 'f_00995', 'f_00297', 'f_00544', 'f_00644', 'f_00316']\n",
      "Group 2, clients ['f_00970', 'f_00092', 'f_00682', 'f_00352', 'f_00330', 'f_00891']\n"
     ]
    },
    {
     "name": "stderr",
     "output_type": "stream",
     "text": [
      "Epoch:   0%|                                                                                     | 0/20 [00:00<?, ?it/s]"
     ]
    },
    {
     "name": "stdout",
     "output_type": "stream",
     "text": [
      "Group 0\n",
      "At round 54 accuracy: 0.9712339137017411\n",
      "At round 54 training accuracy: 0.973746581586144\n",
      "At round 54 training loss: 0.0732506955070209\n",
      "Group 1\n",
      "At round 54 accuracy: 0.894292370413512\n",
      "At round 54 training accuracy: 0.902661996497373\n",
      "At round 54 training loss: 0.3061825979735226\n",
      "Group 2\n",
      "At round 54 accuracy: 0.9648318042813455\n",
      "At round 54 training accuracy: 0.9695177023121387\n",
      "At round 54 training loss: 0.11438543013287937\n",
      "At round 54 mean test accuracy: 0.9331162664495998 mean train accuracy: 0.9393162947586923\n",
      "number: [3, 11, 6]\n",
      "The client-group discrepancy are: [1.58220195 0.61338952 1.69983708 1.85094377]\n",
      "Begin group  0 training\n"
     ]
    },
    {
     "name": "stderr",
     "output_type": "stream",
     "text": [
      "Epoch:   0%|                                                                                     | 0/20 [00:00<?, ?it/s]"
     ]
    },
    {
     "name": "stdout",
     "output_type": "stream",
     "text": [
      "Begin group  1 training\n"
     ]
    },
    {
     "name": "stderr",
     "output_type": "stream",
     "text": [
      "Epoch:   0%|                                                                                     | 0/20 [00:00<?, ?it/s]"
     ]
    },
    {
     "name": "stdout",
     "output_type": "stream",
     "text": [
      "Begin group  2 training\n"
     ]
    },
    {
     "name": "stderr",
     "output_type": "stream",
     "text": [
      "                                                                                                                        \r"
     ]
    },
    {
     "name": "stdout",
     "output_type": "stream",
     "text": [
      "Group 0, clients ['f_00458', 'f_00239', 'f_00518', 'f_00528', 'f_00488']\n",
      "Group 1, clients ['f_00387', 'f_00895', 'f_00915', 'f_00993', 'f_00084', 'f_00454', 'f_00283', 'f_00235']\n",
      "Group 2, clients ['f_00532', 'f_00151', 'f_00300', 'f_00091', 'f_00072', 'f_00341', 'f_00352']\n"
     ]
    },
    {
     "name": "stderr",
     "output_type": "stream",
     "text": [
      "Epoch:  50%|██████████████████████████████████████                                      | 10/20 [00:00<00:00, 90.57it/s]"
     ]
    },
    {
     "name": "stdout",
     "output_type": "stream",
     "text": [
      "Group 0\n",
      "At round 55 accuracy: 0.9712339137017411\n",
      "At round 55 training accuracy: 0.9757520510483135\n",
      "At round 55 training loss: 0.06940856917832454\n",
      "Group 1\n",
      "At round 55 accuracy: 0.8969132207338381\n",
      "At round 55 training accuracy: 0.9054991243432574\n",
      "At round 55 training loss: 0.3001806290348473\n",
      "Group 2\n",
      "At round 55 accuracy: 0.9675076452599388\n",
      "At round 55 training accuracy: 0.9723627167630058\n",
      "At round 55 training loss: 0.10376762964034897\n",
      "At round 55 mean test accuracy: 0.9352869352869353 mean train accuracy: 0.942008303061754\n",
      "number: [5, 8, 7]\n",
      "The client-group discrepancy are: [1.87675482 1.11943861 2.28681885 1.94905036]\n",
      "Begin group  0 training\n"
     ]
    },
    {
     "name": "stderr",
     "output_type": "stream",
     "text": [
      "Epoch:   0%|                                                                                     | 0/20 [00:00<?, ?it/s]"
     ]
    },
    {
     "name": "stdout",
     "output_type": "stream",
     "text": [
      "Begin group  1 training\n"
     ]
    },
    {
     "name": "stderr",
     "output_type": "stream",
     "text": [
      "Epoch:  30%|███████████████████████                                                      | 6/20 [00:00<00:00, 56.74it/s]"
     ]
    },
    {
     "name": "stdout",
     "output_type": "stream",
     "text": [
      "Begin group  2 training\n"
     ]
    },
    {
     "name": "stderr",
     "output_type": "stream",
     "text": [
      "                                                                                                                        \r"
     ]
    },
    {
     "name": "stdout",
     "output_type": "stream",
     "text": [
      "Group 0, clients ['f_00509', 'f_00598', 'f_00098']\n",
      "Group 1, clients ['f_00213', 'f_00946', 'f_00146', 'f_00077', 'f_00684', 'f_00676', 'f_00505', 'f_00117', 'f_00283', 'f_00377']\n",
      "Group 2, clients ['f_00552', 'f_00412', 'f_00112', 'f_00831', 'f_00520', 'f_00792', 'f_00260']\n"
     ]
    },
    {
     "name": "stderr",
     "output_type": "stream",
     "text": [
      "Epoch:   0%|                                                                                     | 0/20 [00:00<?, ?it/s]"
     ]
    },
    {
     "name": "stdout",
     "output_type": "stream",
     "text": [
      "Group 0\n",
      "At round 56 accuracy: 0.9727479182437547\n",
      "At round 56 training accuracy: 0.977848678213309\n",
      "At round 56 training loss: 0.06428486033841722\n",
      "Group 1\n",
      "At round 56 accuracy: 0.9304018637157834\n",
      "At round 56 training accuracy: 0.9345359019264449\n",
      "At round 56 training loss: 0.21055769065941804\n",
      "Group 2\n",
      "At round 56 accuracy: 0.9675076452599388\n",
      "At round 56 training accuracy: 0.9693370664739884\n",
      "At round 56 training loss: 0.1154212196020497\n",
      "At round 56 mean test accuracy: 0.9511599511599511 mean train accuracy: 0.9547385832900882\n",
      "number: [3, 10, 7]\n",
      "The client-group discrepancy are: [1.91626066 2.35076469 2.0247906  1.57500187]\n",
      "Begin group  0 training\n"
     ]
    },
    {
     "name": "stderr",
     "output_type": "stream",
     "text": [
      "Epoch:  45%|██████████████████████████████████▋                                          | 9/20 [00:00<00:00, 86.41it/s]"
     ]
    },
    {
     "name": "stdout",
     "output_type": "stream",
     "text": [
      "Begin group  1 training\n"
     ]
    },
    {
     "name": "stderr",
     "output_type": "stream",
     "text": [
      "Epoch:  45%|██████████████████████████████████▋                                          | 9/20 [00:00<00:00, 83.42it/s]"
     ]
    },
    {
     "name": "stdout",
     "output_type": "stream",
     "text": [
      "Begin group  2 training\n"
     ]
    },
    {
     "name": "stderr",
     "output_type": "stream",
     "text": [
      "                                                                                                                        \r"
     ]
    },
    {
     "name": "stdout",
     "output_type": "stream",
     "text": [
      "Group 0, clients ['f_00319', 'f_00789', 'f_00458', 'f_00379', 'f_00399', 'f_00478', 'f_00029']\n",
      "Group 1, clients ['f_00775', 'f_00095', 'f_00513', 'f_00077', 'f_00065', 'f_00357', 'f_00564', 'f_00225', 'f_00576', 'f_00927', 'f_00476', 'f_00175']\n",
      "Group 2, clients ['f_00340']\n"
     ]
    },
    {
     "name": "stderr",
     "output_type": "stream",
     "text": [
      "Epoch:   0%|                                                                                     | 0/20 [00:00<?, ?it/s]"
     ]
    },
    {
     "name": "stdout",
     "output_type": "stream",
     "text": [
      "Group 0\n",
      "At round 57 accuracy: 0.9780469341408025\n",
      "At round 57 training accuracy: 0.9866909753874202\n",
      "At round 57 training loss: 0.04268201693749666\n",
      "Group 1\n",
      "At round 57 accuracy: 0.9324403028538147\n",
      "At round 57 training accuracy: 0.9386339754816112\n",
      "At round 57 training loss: 0.2019271508753156\n",
      "Group 2\n",
      "At round 57 accuracy: 0.9709480122324159\n",
      "At round 57 training accuracy: 0.9744851878612717\n",
      "At round 57 training loss: 0.09843716370414636\n",
      "At round 57 mean test accuracy: 0.9542802876136209 mean train accuracy: 0.9600577322262585\n",
      "number: [7, 12, 1]\n",
      "The client-group discrepancy are: [1.32173604 1.08101611 1.51100715 0.73552236]\n",
      "Begin group  0 training\n"
     ]
    },
    {
     "name": "stderr",
     "output_type": "stream",
     "text": [
      "Epoch:   0%|                                                                                     | 0/20 [00:00<?, ?it/s]"
     ]
    },
    {
     "name": "stdout",
     "output_type": "stream",
     "text": [
      "Begin group  1 training\n"
     ]
    },
    {
     "name": "stderr",
     "output_type": "stream",
     "text": [
      "                                                                                                                        \r"
     ]
    },
    {
     "name": "stdout",
     "output_type": "stream",
     "text": [
      "Begin group  2 training\n",
      "Group 0, clients ['f_00009', 'f_00399', 'f_00668']\n",
      "Group 1, clients ['f_00595', 'f_00604', 'f_00826', 'f_00277', 'f_00656', 'f_00704', 'f_00485', 'f_00294', 'f_00963', 'f_00445', 'f_00153', 'f_00657']\n",
      "Group 2, clients ['f_00570', 'f_00651', 'f_00391', 'f_00881', 'f_00181']\n"
     ]
    },
    {
     "name": "stderr",
     "output_type": "stream",
     "text": [
      "Epoch:  45%|██████████████████████████████████▋                                          | 9/20 [00:00<00:00, 87.25it/s]"
     ]
    },
    {
     "name": "stdout",
     "output_type": "stream",
     "text": [
      "Group 0\n",
      "At round 58 accuracy: 0.9788039364118092\n",
      "At round 58 training accuracy: 0.9864175022789425\n",
      "At round 58 training loss: 0.0413129200984754\n",
      "Group 1\n",
      "At round 58 accuracy: 0.9336051252184042\n",
      "At round 58 training accuracy: 0.9399649737302977\n",
      "At round 58 training loss: 0.19509741709508202\n",
      "Group 2\n",
      "At round 58 accuracy: 0.9713302752293578\n",
      "At round 58 training accuracy: 0.9739884393063584\n",
      "At round 58 training loss: 0.09818505410608085\n",
      "At round 58 mean test accuracy: 0.9550942884276218 mean train accuracy: 0.9604469382459782\n",
      "number: [3, 12, 5]\n",
      "The client-group discrepancy are: [2.03122697 1.58337291 2.31614932 1.61612574]\n",
      "Begin group  0 training\n"
     ]
    },
    {
     "name": "stderr",
     "output_type": "stream",
     "text": [
      "                                                                                                                        "
     ]
    },
    {
     "name": "stdout",
     "output_type": "stream",
     "text": [
      "Begin group  1 training\n"
     ]
    },
    {
     "name": "stderr",
     "output_type": "stream",
     "text": [
      "Epoch:   0%|                                                                                     | 0/20 [00:00<?, ?it/s]"
     ]
    },
    {
     "name": "stdout",
     "output_type": "stream",
     "text": [
      "Begin group  2 training\n"
     ]
    },
    {
     "name": "stderr",
     "output_type": "stream",
     "text": [
      "                                                                                                                        \r"
     ]
    },
    {
     "name": "stdout",
     "output_type": "stream",
     "text": [
      "Group 0, clients ['f_00539', 'f_00049', 'f_00579', 'f_00118', 'f_00568', 'f_00788', 'f_00108']\n",
      "Group 1, clients ['f_00456', 'f_00103', 'f_00694', 'f_00353', 'f_00183', 'f_00475', 'f_00307', 'f_00104', 'f_00923', 'f_00006']\n",
      "Group 2, clients ['f_00230', 'f_00702', 'f_00202']\n"
     ]
    },
    {
     "name": "stderr",
     "output_type": "stream",
     "text": [
      "Epoch:  60%|█████████████████████████████████████████████                              | 12/20 [00:00<00:00, 115.43it/s]"
     ]
    },
    {
     "name": "stdout",
     "output_type": "stream",
     "text": [
      "Group 0\n",
      "At round 59 accuracy: 0.9825889477668432\n",
      "At round 59 training accuracy: 0.9872379216043756\n",
      "At round 59 training loss: 0.039527063179829444\n",
      "Group 1\n",
      "At round 59 accuracy: 0.9219569015725102\n",
      "At round 59 training accuracy: 0.9348511383537653\n",
      "At round 59 training loss: 0.20496783437904303\n",
      "Group 2\n",
      "At round 59 accuracy: 0.9709480122324159\n",
      "At round 59 training accuracy: 0.9739432803468208\n",
      "At round 59 training loss: 0.09909888533174405\n",
      "At round 59 mean test accuracy: 0.9502102835436169 mean train accuracy: 0.9582090036325895\n",
      "number: [7, 10, 3]\n",
      "The client-group discrepancy are: [1.92866946 1.67654947 2.02834103 2.18471086]\n",
      "Begin group  0 training\n"
     ]
    },
    {
     "name": "stderr",
     "output_type": "stream",
     "text": [
      "Epoch:   0%|                                                                                     | 0/20 [00:00<?, ?it/s]"
     ]
    },
    {
     "name": "stdout",
     "output_type": "stream",
     "text": [
      "Begin group  1 training\n"
     ]
    },
    {
     "name": "stderr",
     "output_type": "stream",
     "text": [
      "Epoch:  50%|██████████████████████████████████████                                      | 10/20 [00:00<00:00, 91.22it/s]"
     ]
    },
    {
     "name": "stdout",
     "output_type": "stream",
     "text": [
      "Begin group  2 training\n"
     ]
    },
    {
     "name": "stderr",
     "output_type": "stream",
     "text": [
      "                                                                                                                        \r"
     ]
    },
    {
     "name": "stdout",
     "output_type": "stream",
     "text": [
      "Group 0, clients ['f_00958', 'f_00178', 'f_00068', 'f_00288', 'f_00479', 'f_00239']\n",
      "Group 1, clients ['f_00724', 'f_00585', 'f_00885', 'f_00437', 'f_00335', 'f_00587', 'f_00547', 'f_00054', 'f_00784']\n",
      "Group 2, clients ['f_00241', 'f_00541', 'f_00360', 'f_00602', 'f_00872']\n"
     ]
    },
    {
     "name": "stderr",
     "output_type": "stream",
     "text": [
      "Epoch:   0%|                                                                                     | 0/20 [00:00<?, ?it/s]"
     ]
    },
    {
     "name": "stdout",
     "output_type": "stream",
     "text": [
      "Group 0\n",
      "At round 60 accuracy: 0.9825889477668432\n",
      "At round 60 training accuracy: 0.9874202370100273\n",
      "At round 60 training loss: 0.03682686018021284\n",
      "Group 1\n",
      "At round 60 accuracy: 0.9001164822364589\n",
      "At round 60 training accuracy: 0.9118038528896673\n",
      "At round 60 training loss: 0.3180743995412773\n",
      "Group 2\n",
      "At round 60 accuracy: 0.9686544342507645\n",
      "At round 60 training accuracy: 0.9752980491329479\n",
      "At round 60 training loss: 0.10561723699454906\n",
      "At round 60 mean test accuracy: 0.9392212725546059 mean train accuracy: 0.9480572132848988\n",
      "number: [6, 9, 5]\n",
      "The client-group discrepancy are: [2.29244129 1.83574167 2.75142679 2.01430695]\n",
      "Begin group  0 training\n"
     ]
    },
    {
     "name": "stderr",
     "output_type": "stream",
     "text": [
      "Epoch:   0%|                                                                                     | 0/20 [00:00<?, ?it/s]"
     ]
    },
    {
     "name": "stdout",
     "output_type": "stream",
     "text": [
      "Begin group  1 training\n"
     ]
    },
    {
     "name": "stderr",
     "output_type": "stream",
     "text": [
      "Epoch:   0%|                                                                                     | 0/20 [00:00<?, ?it/s]"
     ]
    },
    {
     "name": "stdout",
     "output_type": "stream",
     "text": [
      "Begin group  2 training\n"
     ]
    },
    {
     "name": "stderr",
     "output_type": "stream",
     "text": [
      "                                                                                                                        \r"
     ]
    },
    {
     "name": "stdout",
     "output_type": "stream",
     "text": [
      "Group 0, clients ['f_00568', 'f_00388']\n",
      "Group 1, clients ['f_00867', 'f_00805', 'f_00333', 'f_00223', 'f_00567', 'f_00813', 'f_00736', 'f_00415', 'f_00926', 'f_00803', 'f_00687']\n",
      "Group 2, clients ['f_00080', 'f_00360', 'f_00101', 'f_00902', 'f_00861', 'f_00021', 'f_00922']\n"
     ]
    },
    {
     "name": "stderr",
     "output_type": "stream",
     "text": [
      "Epoch:  75%|████████████████████████████████████████████████████████▎                  | 15/20 [00:00<00:00, 147.94it/s]"
     ]
    },
    {
     "name": "stdout",
     "output_type": "stream",
     "text": [
      "Group 0\n",
      "At round 61 accuracy: 0.9803179409538229\n",
      "At round 61 training accuracy: 0.9870556061987238\n",
      "At round 61 training loss: 0.037430515523724395\n",
      "Group 1\n",
      "At round 61 accuracy: 0.8191613278974956\n",
      "At round 61 training accuracy: 0.8208756567425569\n",
      "At round 61 training loss: 0.672835132471775\n",
      "Group 2\n",
      "At round 61 accuracy: 0.970565749235474\n",
      "At round 61 training accuracy: 0.9753432080924855\n",
      "At round 61 training loss: 0.09689951411410207\n",
      "At round 61 mean test accuracy: 0.9017772351105684 mean train accuracy: 0.9059094447327452\n",
      "number: [2, 11, 7]\n",
      "The client-group discrepancy are: [2.06975473 0.64258616 2.62350957 1.60733099]\n",
      "Begin group  0 training\n"
     ]
    },
    {
     "name": "stderr",
     "output_type": "stream",
     "text": [
      "Epoch:  10%|███████▋                                                                     | 2/20 [00:00<00:01, 11.30it/s]"
     ]
    },
    {
     "name": "stdout",
     "output_type": "stream",
     "text": [
      "Begin group  1 training\n"
     ]
    },
    {
     "name": "stderr",
     "output_type": "stream",
     "text": [
      "Epoch:   0%|                                                                                     | 0/20 [00:00<?, ?it/s]"
     ]
    },
    {
     "name": "stdout",
     "output_type": "stream",
     "text": [
      "Begin group  2 training\n"
     ]
    },
    {
     "name": "stderr",
     "output_type": "stream",
     "text": [
      "                                                                                                                        \r"
     ]
    },
    {
     "name": "stdout",
     "output_type": "stream",
     "text": [
      "Group 0, clients ['f_00538']\n",
      "Group 1, clients ['f_00846', 'f_00536', 'f_00926', 'f_00196', 'f_00046', 'f_00363', 'f_00737', 'f_00263', 'f_00314', 'f_00556', 'f_00825', 'f_00066', 'f_00594', 'f_00694']\n",
      "Group 2, clients ['f_00761', 'f_00602', 'f_00441', 'f_00760', 'f_00782']\n"
     ]
    },
    {
     "name": "stderr",
     "output_type": "stream",
     "text": [
      "Epoch:  30%|███████████████████████                                                      | 6/20 [00:00<00:00, 54.48it/s]"
     ]
    },
    {
     "name": "stdout",
     "output_type": "stream",
     "text": [
      "Group 0\n",
      "At round 62 accuracy: 0.9810749432248297\n",
      "At round 62 training accuracy: 0.9875113947128532\n",
      "At round 62 training loss: 0.03844726542180366\n",
      "Group 1\n",
      "At round 62 accuracy: 0.9044845661036692\n",
      "At round 62 training accuracy: 0.9125744308231173\n",
      "At round 62 training loss: 0.2815440331495264\n",
      "Group 2\n",
      "At round 62 accuracy: 0.9701834862385321\n",
      "At round 62 training accuracy: 0.9750270953757225\n",
      "At round 62 training loss: 0.09821876764087163\n",
      "At round 62 mean test accuracy: 0.9415276081942748 mean train accuracy: 0.9483329008822003\n",
      "number: [1, 14, 5]\n",
      "The client-group discrepancy are: [1.87618133 0.93292106 2.13215913 1.34809552]\n",
      "Begin group  0 training\n"
     ]
    },
    {
     "name": "stderr",
     "output_type": "stream",
     "text": [
      "Epoch:  55%|█████████████████████████████████████████▎                                 | 11/20 [00:00<00:00, 100.90it/s]"
     ]
    },
    {
     "name": "stdout",
     "output_type": "stream",
     "text": [
      "Begin group  1 training\n"
     ]
    },
    {
     "name": "stderr",
     "output_type": "stream",
     "text": [
      "Epoch:   0%|                                                                                     | 0/20 [00:00<?, ?it/s]"
     ]
    },
    {
     "name": "stdout",
     "output_type": "stream",
     "text": [
      "Begin group  2 training\n"
     ]
    },
    {
     "name": "stderr",
     "output_type": "stream",
     "text": [
      "                                                                                                                        \r"
     ]
    },
    {
     "name": "stdout",
     "output_type": "stream",
     "text": [
      "Group 0, clients ['f_00609', 'f_00268', 'f_00588', 'f_00569', 'f_00478', 'f_00249', 'f_00128', 'f_00068']\n",
      "Group 1, clients ['f_00164', 'f_00663', 'f_00055', 'f_00004', 'f_00423', 'f_00403', 'f_00034', 'f_00724']\n",
      "Group 2, clients ['f_00221', 'f_00352', 'f_00112', 'f_00312']\n"
     ]
    },
    {
     "name": "stderr",
     "output_type": "stream",
     "text": [
      "Epoch:  40%|██████████████████████████████▊                                              | 8/20 [00:00<00:00, 72.10it/s]"
     ]
    },
    {
     "name": "stdout",
     "output_type": "stream",
     "text": [
      "Group 0\n",
      "At round 63 accuracy: 0.9659348978046934\n",
      "At round 63 training accuracy: 0.9792160437556974\n",
      "At round 63 training loss: 0.06329451753683901\n",
      "Group 1\n",
      "At round 63 accuracy: 0.930984274898078\n",
      "At round 63 training accuracy: 0.9388791593695271\n",
      "At round 63 training loss: 0.19731624406334783\n",
      "Group 2\n",
      "At round 63 accuracy: 0.9694189602446484\n",
      "At round 63 training accuracy: 0.9761560693641619\n",
      "At round 63 training loss: 0.09640825191441195\n",
      "At round 63 mean test accuracy: 0.9508886175552842 mean train accuracy: 0.9594414893617021\n",
      "number: [8, 8, 4]\n",
      "The client-group discrepancy are: [1.89127158 1.53356999 2.82241023 0.74439749]\n",
      "Begin group  0 training\n"
     ]
    },
    {
     "name": "stderr",
     "output_type": "stream",
     "text": [
      "Epoch:  60%|█████████████████████████████████████████████                              | 12/20 [00:00<00:00, 119.48it/s]"
     ]
    },
    {
     "name": "stdout",
     "output_type": "stream",
     "text": [
      "Begin group  1 training\n"
     ]
    },
    {
     "name": "stderr",
     "output_type": "stream",
     "text": [
      "Epoch:   0%|                                                                                     | 0/20 [00:00<?, ?it/s]"
     ]
    },
    {
     "name": "stdout",
     "output_type": "stream",
     "text": [
      "Begin group  2 training\n"
     ]
    },
    {
     "name": "stderr",
     "output_type": "stream",
     "text": [
      "                                                                                                                        \r"
     ]
    },
    {
     "name": "stdout",
     "output_type": "stream",
     "text": [
      "Group 0, clients ['f_00498', 'f_00938', 'f_00508']\n",
      "Group 1, clients ['f_00516', 'f_00774', 'f_00534', 'f_00407', 'f_00167', 'f_00403', 'f_00077', 'f_00377', 'f_00827', 'f_00193']\n",
      "Group 2, clients ['f_00112', 'f_00110', 'f_00461', 'f_00782', 'f_00672', 'f_00720', 'f_00930']\n"
     ]
    },
    {
     "name": "stderr",
     "output_type": "stream",
     "text": [
      "Epoch:   0%|                                                                                     | 0/20 [00:00<?, ?it/s]"
     ]
    },
    {
     "name": "stdout",
     "output_type": "stream",
     "text": [
      "Group 0\n",
      "At round 64 accuracy: 0.9735049205147616\n",
      "At round 64 training accuracy: 0.9842297174111212\n",
      "At round 64 training loss: 0.04938942904958998\n",
      "Group 1\n",
      "At round 64 accuracy: 0.9205008736167735\n",
      "At round 64 training accuracy: 0.9284063047285465\n",
      "At round 64 training loss: 0.22377821791135002\n",
      "Group 2\n",
      "At round 64 accuracy: 0.9713302752293578\n",
      "At round 64 training accuracy: 0.9776463150289018\n",
      "At round 64 training loss: 0.09434475766051566\n",
      "At round 64 mean test accuracy: 0.9480396147062814 mean train accuracy: 0.9560197197716658\n",
      "number: [3, 10, 7]\n",
      "The client-group discrepancy are: [1.38317469 0.99052982 1.85704554 0.87449271]\n",
      "Begin group  0 training\n"
     ]
    },
    {
     "name": "stderr",
     "output_type": "stream",
     "text": [
      "Epoch:   0%|                                                                                     | 0/20 [00:00<?, ?it/s]"
     ]
    },
    {
     "name": "stdout",
     "output_type": "stream",
     "text": [
      "Begin group  1 training\n"
     ]
    },
    {
     "name": "stderr",
     "output_type": "stream",
     "text": [
      "Epoch:   0%|                                                                                     | 0/20 [00:00<?, ?it/s]"
     ]
    },
    {
     "name": "stdout",
     "output_type": "stream",
     "text": [
      "Begin group  2 training\n"
     ]
    },
    {
     "name": "stderr",
     "output_type": "stream",
     "text": [
      "                                                                                                                        \r"
     ]
    },
    {
     "name": "stdout",
     "output_type": "stream",
     "text": [
      "Group 0, clients ['f_00609', 'f_00449', 'f_00908', 'f_00618', 'f_00439', 'f_00289']\n",
      "Group 1, clients ['f_00414', 'f_00707', 'f_00855', 'f_00776', 'f_00253', 'f_00087', 'f_00186']\n",
      "Group 2, clients ['f_00662', 'f_00280', 'f_00110', 'f_00681', 'f_00742', 'f_00840', 'f_00573']\n"
     ]
    },
    {
     "name": "stderr",
     "output_type": "stream",
     "text": [
      "Epoch:  35%|██████████████████████████▉                                                  | 7/20 [00:00<00:00, 69.17it/s]"
     ]
    },
    {
     "name": "stdout",
     "output_type": "stream",
     "text": [
      "Group 0\n",
      "At round 65 accuracy: 0.967448902346707\n",
      "At round 65 training accuracy: 0.9767547857793983\n",
      "At round 65 training loss: 0.07288226219338018\n",
      "Group 1\n",
      "At round 65 accuracy: 0.9274898078043099\n",
      "At round 65 training accuracy: 0.9359019264448336\n",
      "At round 65 training loss: 0.20570130933991154\n",
      "Group 2\n",
      "At round 65 accuracy: 0.9701834862385321\n",
      "At round 65 training accuracy: 0.9771044075144508\n",
      "At round 65 training loss: 0.09302485468438293\n",
      "At round 65 mean test accuracy: 0.9498032831366164 mean train accuracy: 0.9579657498702646\n",
      "number: [6, 7, 7]\n",
      "The client-group discrepancy are: [2.02643267 1.7061107  2.71214383 1.61528321]\n",
      "Begin group  0 training\n"
     ]
    },
    {
     "name": "stderr",
     "output_type": "stream",
     "text": [
      "Epoch:   0%|                                                                                     | 0/20 [00:00<?, ?it/s]"
     ]
    }
   ],
   "source": [
    "server.train()"
   ]
  },
  {
   "cell_type": "code",
   "execution_count": null,
   "metadata": {},
   "outputs": [],
   "source": [
    "\"\"\"\n",
    "fname = 'sampling_interval.csv'\n",
    "interval = 5\n",
    "rounds = 200\n",
    "with open(fname, 'w') as csv_f:\n",
    "  csv_f.write(str(1)+'\\n')\n",
    "  for i in range(2, rounds+1):\n",
    "    if i % interval == 0:\n",
    "      csv_f.write(str(i))\n",
    "    elif i == rounds:\n",
    "      csv_f.write('200')\n",
    "    csv_f.write('\\n')\n",
    "\"\"\""
   ]
  }
 ],
 "metadata": {
  "kernelspec": {
   "display_name": "Python 3",
   "language": "python",
   "name": "python3"
  },
  "language_info": {
   "codemirror_mode": {
    "name": "ipython",
    "version": 3
   },
   "file_extension": ".py",
   "mimetype": "text/x-python",
   "name": "python",
   "nbconvert_exporter": "python",
   "pygments_lexer": "ipython3",
   "version": "3.8.5"
  }
 },
 "nbformat": 4,
 "nbformat_minor": 4
}
