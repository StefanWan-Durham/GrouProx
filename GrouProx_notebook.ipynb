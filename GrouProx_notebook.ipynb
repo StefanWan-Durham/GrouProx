{
 "cells": [
  {
   "cell_type": "code",
   "execution_count": 1,
   "metadata": {},
   "outputs": [
    {
     "name": "stdout",
     "output_type": "stream",
     "text": [
      "WARNING:tensorflow:From /home/lab/anaconda3/envs/TFF/lib/python3.7/site-packages/tensorflow/python/compat/v2_compat.py:96: disable_resource_variables (from tensorflow.python.ops.variable_scope) is deprecated and will be removed in a future version.\n",
      "Instructions for updating:\n",
      "non-resource variables are not supported in the long term\n"
     ]
    }
   ],
   "source": [
    "import importlib\n",
    "import tensorflow.compat.v1 as tf\n",
    "tf.disable_v2_behavior()\n",
    "from flearn.utils.model_utils import read_data\n",
    "import os\n",
    "import importlib\n",
    "import random\n",
    "import numpy as np\n",
    "\n",
    "from flearn.models import client\n",
    "from flearn.models import group\n",
    "from flearn.trainers import grouprox\n",
    "from flearn.trainers import fedprox\n",
    "from flearn.trainers import fedavg"
   ]
  },
  {
   "cell_type": "code",
   "execution_count": 2,
   "metadata": {},
   "outputs": [
    {
     "name": "stdout",
     "output_type": "stream",
     "text": [
      "grouprox-nist-NumG5-Agglr0.01-ProximalF-EmptyT.csv\n"
     ]
    }
   ],
   "source": [
    "params = {}\n",
    "#DATASETS = ['sent140', 'nist', 'shakespeare', 'mnist', 'synthetic_iid', 'synthetic_0_0', 'synthetic_0.5_0.5', 'synthetic_1_1']\n",
    "\n",
    "\"\"\"\n",
    "Parameters that need to be manually set\n",
    "\"\"\"\n",
    "\n",
    "params['dataset'] = 'nist'\n",
    "#params['dataset'] = 'mnist'\n",
    "params['model'] = 'mclr'\n",
    "params['optimizer'] = 'grouprox'\n",
    "params['drop_percent'] = 0\n",
    "\n",
    "if params['dataset'] == 'mnist':\n",
    "  params['model_params'] = (10,)\n",
    "  params['learning_rate'] = 0.03\n",
    "  params['mu'] = 1\n",
    "if params['dataset'] == 'nist':\n",
    "  params['model_params'] = (26,)\n",
    "  params['learning_rate'] = 0.003\n",
    "  params['mu'] = 1\n",
    "if params['dataset'] == 'sent140':\n",
    "  params['model_params'] = (25, 2, 100) # seq_len, num_classes, num_hidden\n",
    "  params['learning_rate'] = 0.3\n",
    "  params['mu'] = 0.01\n",
    "if params['dataset'].startswith('synthetic'):\n",
    "  params['model_params'] = (10,)\n",
    "  params['learning_rate'] = 0.01\n",
    "  params['mu'] = 1\n",
    "\n",
    "if params['optimizer']  == 'fedavg':\n",
    "  pass\n",
    "if params['optimizer']  == 'fedprox':\n",
    "  pass\n",
    "if params['optimizer']  == 'grouprox':\n",
    "  params['proximal'] = False\n",
    "  params['randomly'] = False\n",
    "  params['allow_empty'] = True\n",
    "  params['evenly'] = False\n",
    "  params['num_group'] = 5\n",
    "  params['min_clients'] = 2\n",
    "\n",
    "\n",
    "\"\"\"\n",
    "Common parameters\n",
    "\"\"\"\n",
    "params['num_rounds'] = 200\n",
    "params['num_epochs'] = 20\n",
    "params['batch_size'] = 10\n",
    "params['eval_every'] = 1\n",
    "params['clients_per_round'] = 20\n",
    "params['seed'] = 233\n",
    "params['agg_lr'] = 0.01\n",
    "\n",
    "\n",
    "\"\"\" Set the output CSV file name \"\"\"\n",
    "info = '{}-{}'.format(params['optimizer'], params['dataset'])\n",
    "info2 = ''\n",
    "suffix = '.csv'\n",
    "if params['optimizer'] == 'fedavg':\n",
    "  pass\n",
    "if params['optimizer'] == 'fedprox':\n",
    "  pass\n",
    "if params['optimizer'] == 'grouprox':\n",
    "  info2 = '-NumG{:1d}-Agglr{:.4}-Proximal{:.1}'.format(\n",
    "    params['num_group'], params['agg_lr'], str(params['proximal']))\n",
    "  if params['randomly'] == True:\n",
    "    info2 = info2 + '-Randomly{:.1}-Evenly{:.1}'.format(str(params['randomly']), str(params['evenly']))\n",
    "  elif params['allow_empty'] == True:\n",
    "    info2 = info2 + '-Empty{:.1}'.format(str(params['allow_empty']))\n",
    "  elif params['allow_empty'] == False:\n",
    "    info2 = info2 + '-Evenly{:.1}'.format(str(params['evenly']))\n",
    "\n",
    "params['export_filename'] = info + info2 + suffix\n",
    "\n",
    "print(params['export_filename'])"
   ]
  },
  {
   "cell_type": "code",
   "execution_count": 3,
   "metadata": {
    "scrolled": true
   },
   "outputs": [
    {
     "name": "stdout",
     "output_type": "stream",
     "text": [
      "Using Group prox to Train\n",
      "WARNING:tensorflow:From /home/lab/workspace/GrouProx/flearn/models/nist/mclr.py:41: dense (from tensorflow.python.layers.core) is deprecated and will be removed in a future version.\n",
      "Instructions for updating:\n",
      "Use keras.layers.Dense instead.\n",
      "WARNING:tensorflow:From /home/lab/anaconda3/envs/TFF/lib/python3.7/site-packages/tensorflow/python/layers/core.py:187: Layer.apply (from tensorflow.python.keras.engine.base_layer_v1) is deprecated and will be removed in a future version.\n",
      "Instructions for updating:\n",
      "Please use `layer.__call__` method instead.\n",
      "WARNING:tensorflow:From /home/lab/anaconda3/envs/TFF/lib/python3.7/site-packages/tensorflow/python/profiler/internal/flops_registry.py:142: tensor_shape_from_node_def_name (from tensorflow.python.framework.graph_util_impl) is deprecated and will be removed in a future version.\n",
      "Instructions for updating:\n",
      "Use `tf.compat.v1.graph_util.tensor_shape_from_node_def_name`\n"
     ]
    },
    {
     "name": "stderr",
     "output_type": "stream",
     "text": [
      "\r",
      "Epoch:   0%|                                                                                      | 0/1 [00:00<?, ?it/s]"
     ]
    },
    {
     "name": "stdout",
     "output_type": "stream",
     "text": [
      "200 Clients in Total\n"
     ]
    },
    {
     "name": "stderr",
     "output_type": "stream",
     "text": [
      "                                                                                                                        "
     ]
    },
    {
     "name": "stdout",
     "output_type": "stream",
     "text": [
      "WARNING:tensorflow:From /home/lab/workspace/GrouProx/flearn/models/nist/mclr.py:59: Variable.load (from tensorflow.python.ops.variables) is deprecated and will be removed in a future version.\n",
      "Instructions for updating:\n",
      "Prefer Variable.assign which has equivalent behavior in 2.X.\n"
     ]
    },
    {
     "name": "stderr",
     "output_type": "stream",
     "text": [
      "                                                                                                                        \r"
     ]
    },
    {
     "name": "stdout",
     "output_type": "stream",
     "text": [
      "Clustering Results: Counter({4: 27, 0: 20, 1: 18, 2: 18, 3: 17})\n",
      "Clustering Inertia: 0.8652811243279721\n"
     ]
    }
   ],
   "source": [
    "\"\"\"\n",
    "Some preparations\n",
    "\"\"\"\n",
    "\n",
    "# read data\n",
    "train_path = os.path.join('data', params['dataset'], 'data', 'train')\n",
    "test_path = os.path.join('data', params['dataset'], 'data', 'test')\n",
    "dataset = read_data(train_path, test_path)\n",
    "\n",
    "# Load model\n",
    "if params['dataset'].startswith('synthetic'):  # all synthetic datasets use the same model\n",
    "  model_path = '%s.%s.%s.%s' % ('flearn', 'models', 'synthetic', params['model'])\n",
    "else:\n",
    "  model_path = '%s.%s.%s.%s' % ('flearn', 'models', params['dataset'], params['model'])\n",
    "\n",
    "mod = importlib.import_module(model_path)\n",
    "learner = getattr(mod, 'Model')\n",
    "\n",
    "# Set seeds\n",
    "random.seed(1 + params['seed'])\n",
    "np.random.seed(12 + params['seed'])\n",
    "tf.set_random_seed(123 + params['seed'])\n",
    "\n",
    "# Set server\n",
    "if params['optimizer'] == 'fedavg':\n",
    "  server = fedavg.Server(params, learner, dataset)\n",
    "if params['optimizer'] == 'fedprox':\n",
    "  server = fedprox.Server(params, learner, dataset)\n",
    "if params['optimizer'] == 'grouprox':\n",
    "  server = grouprox.Server(params, learner, dataset)"
   ]
  },
  {
   "cell_type": "code",
   "execution_count": 4,
   "metadata": {
    "scrolled": true
   },
   "outputs": [
    {
     "name": "stderr",
     "output_type": "stream",
     "text": [
      "                                                                                                                        "
     ]
    },
    {
     "name": "stdout",
     "output_type": "stream",
     "text": [
      "Training with 20 workers ---\n"
     ]
    },
    {
     "name": "stderr",
     "output_type": "stream",
     "text": [
      "                                                                                                                        \r"
     ]
    },
    {
     "name": "stdout",
     "output_type": "stream",
     "text": [
      "Group 0, clients ['f_00154', 'f_00033', 'f_00074']\n",
      "Group 1, clients ['f_00018', 'f_00098']\n",
      "Group 2, clients ['f_00182', 'f_00012', 'f_00152', 'f_00061']\n",
      "Group 3, clients ['f_00170', 'f_00180', 'f_00080', 'f_00130']\n",
      "Group 4, clients ['f_00107', 'f_00177', 'f_00005', 'f_00146', 'f_00125', 'f_00007', 'f_00037']\n"
     ]
    },
    {
     "name": "stderr",
     "output_type": "stream",
     "text": [
      "Epoch:  35%|██████████████████████████▉                                                  | 7/20 [00:00<00:00, 68.71it/s]"
     ]
    },
    {
     "name": "stdout",
     "output_type": "stream",
     "text": [
      "Group 0\n",
      "At round 0 accuracy: 0.36910994764397903\n",
      "At round 0 training accuracy: 0.32910216718266255\n",
      "At round 0 training loss: 2.3607565518872287\n",
      "Group 1\n",
      "At round 0 accuracy: 0.33568904593639576\n",
      "At round 0 training accuracy: 0.3355676581483033\n",
      "At round 0 training loss: 1.9621006213425092\n",
      "Group 2\n",
      "At round 0 accuracy: 0.32755298651252407\n",
      "At round 0 training accuracy: 0.34668446817979526\n",
      "At round 0 training loss: 2.4288669025096885\n",
      "Group 3\n",
      "At round 0 accuracy: 0.33047210300429186\n",
      "At round 0 training accuracy: 0.33515121467526027\n",
      "At round 0 training loss: 1.6519857785107184\n",
      "Group 4\n",
      "At round 0 accuracy: 0.31952662721893493\n",
      "At round 0 training accuracy: 0.32191940368040994\n",
      "At round 0 training loss: 2.2979635899088584\n",
      "At round 0 mean test accuracy: 0.33523908523908524 mean train accuracy: 0.33371901833018697\n",
      "The groups difference are: [0.         0.27416576 0.19306641 0.2942886  0.22554122]\n",
      "Begin group  0 training\n"
     ]
    },
    {
     "name": "stderr",
     "output_type": "stream",
     "text": [
      "Epoch:  25%|███████████████████▎                                                         | 5/20 [00:00<00:00, 47.99it/s]"
     ]
    },
    {
     "name": "stdout",
     "output_type": "stream",
     "text": [
      "Begin group  1 training\n"
     ]
    },
    {
     "name": "stderr",
     "output_type": "stream",
     "text": [
      "Epoch:  35%|██████████████████████████▉                                                  | 7/20 [00:00<00:00, 65.60it/s]"
     ]
    },
    {
     "name": "stdout",
     "output_type": "stream",
     "text": [
      "Begin group  2 training\n"
     ]
    },
    {
     "name": "stderr",
     "output_type": "stream",
     "text": [
      "Epoch:   0%|                                                                                     | 0/20 [00:00<?, ?it/s]"
     ]
    },
    {
     "name": "stdout",
     "output_type": "stream",
     "text": [
      "Begin group  3 training\n"
     ]
    },
    {
     "name": "stderr",
     "output_type": "stream",
     "text": [
      "Epoch:   0%|                                                                                     | 0/20 [00:00<?, ?it/s]"
     ]
    },
    {
     "name": "stdout",
     "output_type": "stream",
     "text": [
      "Begin group  4 training\n"
     ]
    },
    {
     "name": "stderr",
     "output_type": "stream",
     "text": [
      "                                                                                                                        \r"
     ]
    },
    {
     "name": "stdout",
     "output_type": "stream",
     "text": [
      "Group 0, clients ['f_00034', 'f_00184', 'f_00004']\n",
      "Group 1, clients ['f_00058', 'f_00198', 'f_00029', 'f_00168', 'f_00018', 'f_00089', 'f_00118', 'f_00159', 'f_00059']\n",
      "Group 2, clients ['f_00102', 'f_00171', 'f_00011']\n",
      "Group 3, clients ['f_00040', 'f_00110']\n",
      "Group 4, clients ['f_00095', 'f_00035', 'f_00136']\n"
     ]
    },
    {
     "name": "stderr",
     "output_type": "stream",
     "text": [
      "Epoch:  55%|█████████████████████████████████████████▎                                 | 11/20 [00:00<00:00, 105.56it/s]"
     ]
    },
    {
     "name": "stdout",
     "output_type": "stream",
     "text": [
      "Group 0\n",
      "At round 1 accuracy: 0.5130890052356021\n",
      "At round 1 training accuracy: 0.5213622291021672\n",
      "At round 1 training loss: 2.026356405351922\n",
      "Group 1\n",
      "At round 1 accuracy: 0.5335689045936396\n",
      "At round 1 training accuracy: 0.4968579807289485\n",
      "At round 1 training loss: 2.046192391551984\n",
      "Group 2\n",
      "At round 1 accuracy: 0.47398843930635837\n",
      "At round 1 training accuracy: 0.46039163328882954\n",
      "At round 1 training loss: 1.4326330578931978\n",
      "Group 3\n",
      "At round 1 accuracy: 0.7553648068669528\n",
      "At round 1 training accuracy: 0.7327714427367378\n",
      "At round 1 training loss: 0.8256129998645395\n",
      "Group 4\n",
      "At round 1 accuracy: 0.3254437869822485\n",
      "At round 1 training accuracy: 0.3342650826927556\n",
      "At round 1 training loss: 2.385396337886804\n",
      "At round 1 mean test accuracy: 0.48544698544698545 mean train accuracy: 0.4781681992570489\n",
      "The groups difference are: [0.         1.04411824 0.75840083 0.98033756 0.70723879]\n",
      "Begin group  0 training\n"
     ]
    },
    {
     "name": "stderr",
     "output_type": "stream",
     "text": [
      "Epoch:   0%|                                                                                     | 0/20 [00:00<?, ?it/s]"
     ]
    },
    {
     "name": "stdout",
     "output_type": "stream",
     "text": [
      "Begin group  1 training\n"
     ]
    },
    {
     "name": "stderr",
     "output_type": "stream",
     "text": [
      "Epoch:  25%|███████████████████▎                                                         | 5/20 [00:00<00:00, 41.73it/s]"
     ]
    },
    {
     "name": "stdout",
     "output_type": "stream",
     "text": [
      "Begin group  2 training\n"
     ]
    },
    {
     "name": "stderr",
     "output_type": "stream",
     "text": [
      "Epoch:   0%|                                                                                     | 0/20 [00:00<?, ?it/s]"
     ]
    },
    {
     "name": "stdout",
     "output_type": "stream",
     "text": [
      "Begin group  3 training\n",
      "Begin group  4 training\n"
     ]
    },
    {
     "name": "stderr",
     "output_type": "stream",
     "text": [
      "                                                                                                                        \r"
     ]
    },
    {
     "name": "stdout",
     "output_type": "stream",
     "text": [
      "Group 0, clients ['f_00193', 'f_00054', 'f_00013', 'f_00174', 'f_00044', 'f_00003', 'f_00113', 'f_00014']\n",
      "Group 1, clients ['f_00029', 'f_00199']\n",
      "Group 2, clients ['f_00112', 'f_00182', 'f_00012', 'f_00092', 'f_00002']\n",
      "Group 3, clients ['f_00010']\n",
      "Group 4, clients ['f_00085', 'f_00115', 'f_00035', 'f_00126']\n"
     ]
    },
    {
     "name": "stderr",
     "output_type": "stream",
     "text": [
      "Epoch:   0%|                                                                                     | 0/20 [00:00<?, ?it/s]"
     ]
    },
    {
     "name": "stdout",
     "output_type": "stream",
     "text": [
      "Group 0\n",
      "At round 2 accuracy: 0.6675392670157068\n",
      "At round 2 training accuracy: 0.6804953560371517\n",
      "At round 2 training loss: 2.0480695549179524\n",
      "Group 1\n",
      "At round 2 accuracy: 0.657243816254417\n",
      "At round 2 training accuracy: 0.6015919564306661\n",
      "At round 2 training loss: 1.6588177321893078\n",
      "Group 2\n",
      "At round 2 accuracy: 0.6184971098265896\n",
      "At round 2 training accuracy: 0.6179350244770806\n",
      "At round 2 training loss: 1.0750974880014996\n",
      "Group 3\n",
      "At round 2 accuracy: 0.5536480686695279\n",
      "At round 2 training accuracy: 0.5587506197322757\n",
      "At round 2 training loss: 0.8195961564557648\n",
      "Group 4\n",
      "At round 2 accuracy: 0.4635108481262327\n",
      "At round 2 training accuracy: 0.48497554157931516\n",
      "At round 2 training loss: 1.9735850849380423\n",
      "At round 2 mean test accuracy: 0.5852390852390852 mean train accuracy: 0.5858352110102917\n",
      "The groups difference are: [0.         1.30946432 1.12070704 1.17059625 0.92430762]\n",
      "Begin group  0 training\n"
     ]
    },
    {
     "name": "stderr",
     "output_type": "stream",
     "text": [
      "Epoch:   0%|                                                                                     | 0/20 [00:00<?, ?it/s]"
     ]
    },
    {
     "name": "stdout",
     "output_type": "stream",
     "text": [
      "Begin group  1 training\n"
     ]
    },
    {
     "name": "stderr",
     "output_type": "stream",
     "text": [
      "Epoch:   0%|                                                                                     | 0/20 [00:00<?, ?it/s]"
     ]
    },
    {
     "name": "stdout",
     "output_type": "stream",
     "text": [
      "Begin group  2 training\n"
     ]
    },
    {
     "name": "stderr",
     "output_type": "stream",
     "text": [
      "Epoch:  35%|██████████████████████████▉                                                  | 7/20 [00:00<00:00, 65.61it/s]"
     ]
    },
    {
     "name": "stdout",
     "output_type": "stream",
     "text": [
      "Begin group  3 training\n"
     ]
    },
    {
     "name": "stderr",
     "output_type": "stream",
     "text": [
      "Epoch:   0%|                                                                                     | 0/20 [00:00<?, ?it/s]"
     ]
    },
    {
     "name": "stdout",
     "output_type": "stream",
     "text": [
      "Begin group  4 training\n"
     ]
    },
    {
     "name": "stderr",
     "output_type": "stream",
     "text": [
      "                                                                                                                        \r"
     ]
    },
    {
     "name": "stdout",
     "output_type": "stream",
     "text": [
      "Group 0, clients ['f_00183', 'f_00083', 'f_00173', 'f_00003']\n",
      "Group 1, clients ['f_00139', 'f_00179', 'f_00159', 'f_00058']\n",
      "Group 2, clients ['f_00051', 'f_00082', 'f_00041']\n",
      "Group 3, clients ['f_00040', 'f_00170', 'f_00070', 'f_00100', 'f_00190']\n",
      "Group 4, clients ['f_00197', 'f_00046', 'f_00025', 'f_00095']\n"
     ]
    },
    {
     "name": "stderr",
     "output_type": "stream",
     "text": [
      "Epoch:   0%|                                                                                     | 0/20 [00:00<?, ?it/s]"
     ]
    },
    {
     "name": "stdout",
     "output_type": "stream",
     "text": [
      "Group 0\n",
      "At round 3 accuracy: 0.6518324607329843\n",
      "At round 3 training accuracy: 0.638390092879257\n",
      "At round 3 training loss: 1.50057739923613\n",
      "Group 1\n",
      "At round 3 accuracy: 0.5300353356890459\n",
      "At round 3 training accuracy: 0.49895266024298285\n",
      "At round 3 training loss: 1.7191871739003166\n",
      "Group 2\n",
      "At round 3 accuracy: 0.74373795761079\n",
      "At round 3 training accuracy: 0.7378727191811304\n",
      "At round 3 training loss: 1.0553923826059555\n",
      "Group 3\n",
      "At round 3 accuracy: 0.8240343347639485\n",
      "At round 3 training accuracy: 0.8334159643034209\n",
      "At round 3 training loss: 0.6487705480597311\n",
      "Group 4\n",
      "At round 3 accuracy: 0.47731755424063116\n",
      "At round 3 training accuracy: 0.49266247379454925\n",
      "At round 3 training loss: 2.3333070882128135\n",
      "At round 3 mean test accuracy: 0.6335758835758836 mean train accuracy: 0.6312039461664941\n",
      "The groups difference are: [0.         1.53912925 1.23795388 1.50489267 1.04731996]\n",
      "Begin group  0 training\n"
     ]
    },
    {
     "name": "stderr",
     "output_type": "stream",
     "text": [
      "Epoch:   0%|                                                                                     | 0/20 [00:00<?, ?it/s]"
     ]
    },
    {
     "name": "stdout",
     "output_type": "stream",
     "text": [
      "Begin group  1 training\n"
     ]
    },
    {
     "name": "stderr",
     "output_type": "stream",
     "text": [
      "Epoch:   0%|                                                                                     | 0/20 [00:00<?, ?it/s]"
     ]
    },
    {
     "name": "stdout",
     "output_type": "stream",
     "text": [
      "Begin group  2 training\n"
     ]
    },
    {
     "name": "stderr",
     "output_type": "stream",
     "text": [
      "Epoch:   0%|                                                                                     | 0/20 [00:00<?, ?it/s]"
     ]
    },
    {
     "name": "stdout",
     "output_type": "stream",
     "text": [
      "Begin group  3 training\n"
     ]
    },
    {
     "name": "stderr",
     "output_type": "stream",
     "text": [
      "Epoch:   0%|                                                                                     | 0/20 [00:00<?, ?it/s]"
     ]
    },
    {
     "name": "stdout",
     "output_type": "stream",
     "text": [
      "Begin group  4 training\n"
     ]
    },
    {
     "name": "stderr",
     "output_type": "stream",
     "text": [
      "                                                                                                                        \r"
     ]
    },
    {
     "name": "stdout",
     "output_type": "stream",
     "text": [
      "Group 0, clients ['f_00123', 'f_00184', 'f_00033', 'f_00084']\n",
      "Group 1, clients ['f_00099', 'f_00128', 'f_00088', 'f_00199', 'f_00188', 'f_00138']\n",
      "Group 2, clients ['f_00011', 'f_00001', 'f_00111', 'f_00061', 'f_00191', 'f_00171']\n",
      "Group 3, clients ['f_00090']\n",
      "Group 4, clients ['f_00175', 'f_00177', 'f_00187']\n"
     ]
    },
    {
     "name": "stderr",
     "output_type": "stream",
     "text": [
      "Epoch:  20%|███████████████▍                                                             | 4/20 [00:00<00:00, 33.79it/s]"
     ]
    },
    {
     "name": "stdout",
     "output_type": "stream",
     "text": [
      "Group 0\n",
      "At round 4 accuracy: 0.675392670157068\n",
      "At round 4 training accuracy: 0.6746130030959753\n",
      "At round 4 training loss: 1.3425660679953018\n",
      "Group 1\n",
      "At round 4 accuracy: 0.7597173144876325\n",
      "At round 4 training accuracy: 0.7348135735232509\n",
      "At round 4 training loss: 1.5012486451557105\n",
      "Group 2\n",
      "At round 4 accuracy: 0.6319845857418112\n",
      "At round 4 training accuracy: 0.6317311971517579\n",
      "At round 4 training loss: 1.0561629596237188\n",
      "Group 3\n",
      "At round 4 accuracy: 0.8583690987124464\n",
      "At round 4 training accuracy: 0.8368864650470996\n",
      "At round 4 training loss: 0.5843799838525681\n",
      "Group 4\n",
      "At round 4 accuracy: 0.3629191321499014\n",
      "At round 4 training accuracy: 0.37596086652690425\n",
      "At round 4 training loss: 1.6422263822882097\n",
      "At round 4 mean test accuracy: 0.6159043659043659 mean train accuracy: 0.6134827355215882\n",
      "The groups difference are: [0.         1.65172457 1.27878331 1.73389633 1.20840515]\n",
      "Begin group  0 training\n"
     ]
    },
    {
     "name": "stderr",
     "output_type": "stream",
     "text": [
      "Epoch:   0%|                                                                                     | 0/20 [00:00<?, ?it/s]"
     ]
    },
    {
     "name": "stdout",
     "output_type": "stream",
     "text": [
      "Begin group  1 training\n"
     ]
    },
    {
     "name": "stderr",
     "output_type": "stream",
     "text": [
      "Epoch:   0%|                                                                                     | 0/20 [00:00<?, ?it/s]"
     ]
    },
    {
     "name": "stdout",
     "output_type": "stream",
     "text": [
      "Begin group  2 training\n"
     ]
    },
    {
     "name": "stderr",
     "output_type": "stream",
     "text": [
      "Epoch:  35%|██████████████████████████▉                                                  | 7/20 [00:00<00:00, 67.67it/s]"
     ]
    },
    {
     "name": "stdout",
     "output_type": "stream",
     "text": [
      "Begin group  3 training\n"
     ]
    },
    {
     "name": "stderr",
     "output_type": "stream",
     "text": [
      "Epoch:  35%|██████████████████████████▉                                                  | 7/20 [00:00<00:00, 65.79it/s]"
     ]
    },
    {
     "name": "stdout",
     "output_type": "stream",
     "text": [
      "Begin group  4 training\n"
     ]
    },
    {
     "name": "stderr",
     "output_type": "stream",
     "text": [
      "                                                                                                                        \r"
     ]
    },
    {
     "name": "stdout",
     "output_type": "stream",
     "text": [
      "Group 0, clients ['f_00154', 'f_00034', 'f_00104', 'f_00003', 'f_00134']\n",
      "Group 1, clients ['f_00119', 'f_00148', 'f_00149', 'f_00028', 'f_00188', 'f_00039']\n",
      "Group 2, clients ['f_00151', 'f_00122', 'f_00071', 'f_00021']\n",
      "Group 3, clients ['f_00040']\n",
      "Group 4, clients ['f_00077', 'f_00006', 'f_00055', 'f_00117']\n"
     ]
    },
    {
     "name": "stderr",
     "output_type": "stream",
     "text": [
      "Epoch:  40%|██████████████████████████████▊                                              | 8/20 [00:00<00:00, 71.67it/s]"
     ]
    },
    {
     "name": "stdout",
     "output_type": "stream",
     "text": [
      "Group 0\n",
      "At round 5 accuracy: 0.5890052356020943\n",
      "At round 5 training accuracy: 0.5773993808049536\n",
      "At round 5 training loss: 1.3186035979273887\n",
      "Group 1\n",
      "At round 5 accuracy: 0.7102473498233216\n",
      "At round 5 training accuracy: 0.6774193548387096\n",
      "At round 5 training loss: 1.2184966765640668\n",
      "Group 2\n",
      "At round 5 accuracy: 0.6377649325626205\n",
      "At round 5 training accuracy: 0.616822429906542\n",
      "At round 5 training loss: 1.725707591694092\n",
      "Group 3\n",
      "At round 5 accuracy: 0.7424892703862661\n",
      "At round 5 training accuracy: 0.7233515121467526\n",
      "At round 5 training loss: 0.6070601128976298\n",
      "Group 4\n",
      "At round 5 accuracy: 0.5285996055226825\n",
      "At round 5 training accuracy: 0.5483344980200326\n",
      "At round 5 training loss: 1.9019926583297653\n",
      "At round 5 mean test accuracy: 0.6226611226611226 mean train accuracy: 0.6130564521040132\n",
      "The groups difference are: [0.         1.98333385 1.4298337  2.0954213  1.60810105]\n",
      "Begin group  0 training\n"
     ]
    },
    {
     "name": "stderr",
     "output_type": "stream",
     "text": [
      "Epoch:   0%|                                                                                     | 0/20 [00:00<?, ?it/s]"
     ]
    },
    {
     "name": "stdout",
     "output_type": "stream",
     "text": [
      "Begin group  1 training\n"
     ]
    },
    {
     "name": "stderr",
     "output_type": "stream",
     "text": [
      "Epoch:  25%|███████████████████▎                                                         | 5/20 [00:00<00:00, 43.54it/s]"
     ]
    },
    {
     "name": "stdout",
     "output_type": "stream",
     "text": [
      "Begin group  2 training\n"
     ]
    },
    {
     "name": "stderr",
     "output_type": "stream",
     "text": [
      "Epoch:   0%|                                                                                     | 0/20 [00:00<?, ?it/s]"
     ]
    },
    {
     "name": "stdout",
     "output_type": "stream",
     "text": [
      "Begin group  3 training\n",
      "Begin group  4 training\n"
     ]
    },
    {
     "name": "stderr",
     "output_type": "stream",
     "text": [
      "                                                                                                                        \r"
     ]
    },
    {
     "name": "stdout",
     "output_type": "stream",
     "text": [
      "Group 0, clients ['f_00134', 'f_00093', 'f_00004', 'f_00094', 'f_00013']\n",
      "Group 1, clients ['f_00118', 'f_00149', 'f_00019', 'f_00088', 'f_00108', 'f_00158']\n",
      "Group 2, clients ['f_00011', 'f_00152', 'f_00151', 'f_00081']\n",
      "Group 3, clients ['f_00030']\n",
      "Group 4, clients ['f_00145', 'f_00006', 'f_00156', 'f_00115']\n"
     ]
    },
    {
     "name": "stderr",
     "output_type": "stream",
     "text": [
      "Epoch:  55%|█████████████████████████████████████████▎                                 | 11/20 [00:00<00:00, 105.71it/s]"
     ]
    },
    {
     "name": "stdout",
     "output_type": "stream",
     "text": [
      "Group 0\n",
      "At round 6 accuracy: 0.7408376963350786\n",
      "At round 6 training accuracy: 0.7507739938080495\n",
      "At round 6 training loss: 1.2531058845320722\n",
      "Group 1\n",
      "At round 6 accuracy: 0.7102473498233216\n",
      "At round 6 training accuracy: 0.6774193548387096\n",
      "At round 6 training loss: 1.0656077218420295\n",
      "Group 2\n",
      "At round 6 accuracy: 0.6936416184971098\n",
      "At round 6 training accuracy: 0.6931464174454829\n",
      "At round 6 training loss: 0.8836490424092102\n",
      "Group 3\n",
      "At round 6 accuracy: 0.7939914163090128\n",
      "At round 6 training accuracy: 0.7704511650966782\n",
      "At round 6 training loss: 0.5705000858497195\n",
      "Group 4\n",
      "At round 6 accuracy: 0.514792899408284\n",
      "At round 6 training accuracy: 0.527603074772886\n",
      "At round 6 training loss: 1.6385314090252479\n",
      "At round 6 mean test accuracy: 0.6704781704781705 mean train accuracy: 0.6684123987576883\n",
      "The groups difference are: [0.         2.11868506 1.65390563 2.20863257 1.69726323]\n",
      "Begin group  0 training\n"
     ]
    },
    {
     "name": "stderr",
     "output_type": "stream",
     "text": [
      "Epoch:  25%|███████████████████▎                                                         | 5/20 [00:00<00:00, 46.01it/s]"
     ]
    },
    {
     "name": "stdout",
     "output_type": "stream",
     "text": [
      "Begin group  1 training\n"
     ]
    },
    {
     "name": "stderr",
     "output_type": "stream",
     "text": [
      "Epoch:   0%|                                                                                     | 0/20 [00:00<?, ?it/s]"
     ]
    },
    {
     "name": "stdout",
     "output_type": "stream",
     "text": [
      "Begin group  2 training\n"
     ]
    },
    {
     "name": "stderr",
     "output_type": "stream",
     "text": [
      "Epoch:  80%|████████████████████████████████████████████████████████████               | 16/20 [00:00<00:00, 150.45it/s]"
     ]
    },
    {
     "name": "stdout",
     "output_type": "stream",
     "text": [
      "Begin group  3 training\n",
      "Begin group  4 training\n"
     ]
    },
    {
     "name": "stderr",
     "output_type": "stream",
     "text": [
      "                                                                                                                        \r"
     ]
    },
    {
     "name": "stdout",
     "output_type": "stream",
     "text": [
      "Group 0, clients ['f_00094', 'f_00063', 'f_00024', 'f_00153']\n",
      "Group 1, clients ['f_00108', 'f_00138', 'f_00188', 'f_00099']\n",
      "Group 2, clients ['f_00022', 'f_00011', 'f_00002', 'f_00121']\n",
      "Group 3, clients ['f_00120']\n",
      "Group 4, clients ['f_00086', 'f_00195', 'f_00066', 'f_00096', 'f_00065', 'f_00155', 'f_00046']\n"
     ]
    },
    {
     "name": "stderr",
     "output_type": "stream",
     "text": [
      "Epoch:  55%|█████████████████████████████████████████▎                                 | 11/20 [00:00<00:00, 106.62it/s]"
     ]
    },
    {
     "name": "stdout",
     "output_type": "stream",
     "text": [
      "Group 0\n",
      "At round 7 accuracy: 0.6570680628272252\n",
      "At round 7 training accuracy: 0.646749226006192\n",
      "At round 7 training loss: 0.9758847975878524\n",
      "Group 1\n",
      "At round 7 accuracy: 0.7173144876325088\n",
      "At round 7 training accuracy: 0.6531210724759112\n",
      "At round 7 training loss: 1.1128132019923929\n",
      "Group 2\n",
      "At round 7 accuracy: 0.6435452793834296\n",
      "At round 7 training accuracy: 0.6392968402314196\n",
      "At round 7 training loss: 0.9090972899939678\n",
      "Group 3\n",
      "At round 7 accuracy: 0.9141630901287554\n",
      "At round 7 training accuracy: 0.8909271194843827\n",
      "At round 7 training loss: 0.5119277251552814\n",
      "Group 4\n",
      "At round 7 accuracy: 0.5167652859960552\n",
      "At round 7 training accuracy: 0.5224784532960633\n",
      "At round 7 training loss: 1.5071935067914344\n",
      "At round 7 mean test accuracy: 0.6564449064449065 mean train accuracy: 0.6431398818585957\n",
      "The groups difference are: [0.         2.32185692 1.77087557 2.3214445  1.81495023]\n",
      "Begin group  0 training\n"
     ]
    },
    {
     "name": "stderr",
     "output_type": "stream",
     "text": [
      "Epoch:  45%|██████████████████████████████████▋                                          | 9/20 [00:00<00:00, 86.19it/s]"
     ]
    },
    {
     "name": "stdout",
     "output_type": "stream",
     "text": [
      "Begin group  1 training\n"
     ]
    },
    {
     "name": "stderr",
     "output_type": "stream",
     "text": [
      "Epoch:   0%|                                                                                     | 0/20 [00:00<?, ?it/s]"
     ]
    },
    {
     "name": "stdout",
     "output_type": "stream",
     "text": [
      "Begin group  2 training\n"
     ]
    },
    {
     "name": "stderr",
     "output_type": "stream",
     "text": [
      "Epoch:   0%|                                                                                     | 0/20 [00:00<?, ?it/s]"
     ]
    },
    {
     "name": "stdout",
     "output_type": "stream",
     "text": [
      "Begin group  3 training\n",
      "Begin group  4 training\n"
     ]
    },
    {
     "name": "stderr",
     "output_type": "stream",
     "text": [
      "                                                                                                                        \r"
     ]
    },
    {
     "name": "stdout",
     "output_type": "stream",
     "text": [
      "Group 0, clients ['f_00193', 'f_00103']\n",
      "Group 1, clients ['f_00069', 'f_00088', 'f_00128', 'f_00119', 'f_00169']\n",
      "Group 2, clients ['f_00161', 'f_00181', 'f_00142', 'f_00151', 'f_00001']\n",
      "Group 3, clients ['f_00190', 'f_00150', 'f_00000']\n",
      "Group 4, clients ['f_00067', 'f_00065', 'f_00117', 'f_00146', 'f_00027']\n"
     ]
    },
    {
     "name": "stderr",
     "output_type": "stream",
     "text": [
      "Epoch:   0%|                                                                                     | 0/20 [00:00<?, ?it/s]"
     ]
    },
    {
     "name": "stdout",
     "output_type": "stream",
     "text": [
      "Group 0\n",
      "At round 8 accuracy: 0.680628272251309\n",
      "At round 8 training accuracy: 0.6739938080495356\n",
      "At round 8 training loss: 0.8243397860888726\n",
      "Group 1\n",
      "At round 8 accuracy: 0.7420494699646644\n",
      "At round 8 training accuracy: 0.7193129451193967\n",
      "At round 8 training loss: 1.0803480888941221\n",
      "Group 2\n",
      "At round 8 accuracy: 0.6396917148362236\n",
      "At round 8 training accuracy: 0.6388518024032043\n",
      "At round 8 training loss: 1.0084098650712037\n",
      "Group 3\n",
      "At round 8 accuracy: 0.8626609442060086\n",
      "At round 8 training accuracy: 0.8477937530986613\n",
      "At round 8 training loss: 0.5197496496484488\n",
      "Group 4\n",
      "At round 8 accuracy: 0.5502958579881657\n",
      "At round 8 training accuracy: 0.5723270440251572\n",
      "At round 8 training loss: 1.6253345297567499\n",
      "At round 8 mean test accuracy: 0.6663201663201663 mean train accuracy: 0.6657329029900737\n",
      "The groups difference are: [0.         2.42708406 1.92684222 2.43509074 1.93078139]\n",
      "Begin group  0 training\n",
      "Begin group  1 training\n"
     ]
    },
    {
     "name": "stderr",
     "output_type": "stream",
     "text": [
      "Epoch:   0%|                                                                                     | 0/20 [00:00<?, ?it/s]"
     ]
    },
    {
     "name": "stdout",
     "output_type": "stream",
     "text": [
      "Begin group  2 training\n"
     ]
    },
    {
     "name": "stderr",
     "output_type": "stream",
     "text": [
      "Epoch:   0%|                                                                                     | 0/20 [00:00<?, ?it/s]"
     ]
    },
    {
     "name": "stdout",
     "output_type": "stream",
     "text": [
      "Begin group  3 training\n"
     ]
    },
    {
     "name": "stderr",
     "output_type": "stream",
     "text": [
      "Epoch:  20%|███████████████▍                                                             | 4/20 [00:00<00:00, 35.51it/s]"
     ]
    },
    {
     "name": "stdout",
     "output_type": "stream",
     "text": [
      "Begin group  4 training\n"
     ]
    },
    {
     "name": "stderr",
     "output_type": "stream",
     "text": [
      "                                                                                                                        \r"
     ]
    },
    {
     "name": "stdout",
     "output_type": "stream",
     "text": [
      "Group 0, clients ['f_00084', 'f_00054', 'f_00123', 'f_00053', 'f_00103', 'f_00003', 'f_00163', 'f_00174']\n",
      "Group 1, clients ['f_00109', 'f_00039', 'f_00158', 'f_00069']\n",
      "Group 2, clients ['f_00101']\n",
      "Group 3, clients ['f_00060', 'f_00140', 'f_00100']\n",
      "Group 4, clients ['f_00156', 'f_00116', 'f_00027', 'f_00037']\n"
     ]
    },
    {
     "name": "stderr",
     "output_type": "stream",
     "text": [
      "Epoch:   0%|                                                                                     | 0/20 [00:00<?, ?it/s]"
     ]
    },
    {
     "name": "stdout",
     "output_type": "stream",
     "text": [
      "Group 0\n",
      "At round 9 accuracy: 0.7931937172774869\n",
      "At round 9 training accuracy: 0.7969040247678019\n",
      "At round 9 training loss: 1.0188622717979154\n",
      "Group 1\n",
      "At round 9 accuracy: 0.7526501766784452\n",
      "At round 9 training accuracy: 0.7134478424801005\n",
      "At round 9 training loss: 1.0539656457014048\n",
      "Group 2\n",
      "At round 9 accuracy: 0.6454720616570327\n",
      "At round 9 training accuracy: 0.6497552291944815\n",
      "At round 9 training loss: 0.9426828308746344\n",
      "Group 3\n",
      "At round 9 accuracy: 0.871244635193133\n",
      "At round 9 training accuracy: 0.8512642538423401\n",
      "At round 9 training loss: 0.5003818701444785\n",
      "Group 4\n",
      "At round 9 accuracy: 0.5443786982248521\n",
      "At round 9 training accuracy: 0.5639412997903563\n",
      "At round 9 training loss: 1.8329392656867887\n",
      "At round 9 mean test accuracy: 0.6912681912681913 mean train accuracy: 0.6902746483161805\n",
      "The groups difference are: [0.         2.50478383 1.93462189 2.50837783 2.1749005 ]\n",
      "Begin group  0 training\n"
     ]
    },
    {
     "name": "stderr",
     "output_type": "stream",
     "text": [
      "Epoch:   0%|                                                                                     | 0/20 [00:00<?, ?it/s]"
     ]
    },
    {
     "name": "stdout",
     "output_type": "stream",
     "text": [
      "Begin group  1 training\n"
     ]
    },
    {
     "name": "stderr",
     "output_type": "stream",
     "text": [
      "Epoch:   0%|                                                                                     | 0/20 [00:00<?, ?it/s]"
     ]
    },
    {
     "name": "stdout",
     "output_type": "stream",
     "text": [
      "Begin group  2 training\n",
      "Begin group  3 training\n"
     ]
    },
    {
     "name": "stderr",
     "output_type": "stream",
     "text": [
      "Epoch:   0%|                                                                                     | 0/20 [00:00<?, ?it/s]"
     ]
    },
    {
     "name": "stdout",
     "output_type": "stream",
     "text": [
      "Begin group  4 training\n"
     ]
    },
    {
     "name": "stderr",
     "output_type": "stream",
     "text": [
      "                                                                                                                        \r"
     ]
    },
    {
     "name": "stdout",
     "output_type": "stream",
     "text": [
      "Group 0, clients ['f_00124', 'f_00063']\n",
      "Group 1, clients ['f_00059', 'f_00198', 'f_00019', 'f_00069', 'f_00098', 'f_00109', 'f_00078']\n",
      "Group 2, clients ['f_00052', 'f_00162', 'f_00002', 'f_00142', 'f_00111']\n",
      "Group 3, clients ['f_00020', 'f_00010']\n",
      "Group 4, clients ['f_00005', 'f_00055', 'f_00075', 'f_00185']\n"
     ]
    },
    {
     "name": "stderr",
     "output_type": "stream",
     "text": [
      "Epoch:  35%|██████████████████████████▉                                                  | 7/20 [00:00<00:00, 63.35it/s]"
     ]
    },
    {
     "name": "stdout",
     "output_type": "stream",
     "text": [
      "Group 0\n",
      "At round 10 accuracy: 0.7931937172774869\n",
      "At round 10 training accuracy: 0.788235294117647\n",
      "At round 10 training loss: 1.1534024714777713\n",
      "Group 1\n",
      "At round 10 accuracy: 0.7102473498233216\n",
      "At round 10 training accuracy: 0.6761625471302891\n",
      "At round 10 training loss: 0.9215110804827882\n",
      "Group 2\n",
      "At round 10 accuracy: 0.7013487475915221\n",
      "At round 10 training accuracy: 0.6895861148197597\n",
      "At round 10 training loss: 1.3788424259922905\n",
      "Group 3\n",
      "At round 10 accuracy: 0.9184549356223176\n",
      "At round 10 training accuracy: 0.903321764997521\n",
      "At round 10 training loss: 0.4571830833318745\n",
      "Group 4\n",
      "At round 10 accuracy: 0.5266272189349113\n",
      "At round 10 training accuracy: 0.5364546936873981\n",
      "At round 10 training loss: 1.657871330114836\n",
      "At round 10 mean test accuracy: 0.7011434511434511 mean train accuracy: 0.6932586322392059\n",
      "The groups difference are: [0.         2.73578876 2.06132617 2.76935228 2.43392003]\n",
      "Begin group  0 training\n"
     ]
    },
    {
     "name": "stderr",
     "output_type": "stream",
     "text": [
      "Epoch:   0%|                                                                                     | 0/20 [00:00<?, ?it/s]"
     ]
    },
    {
     "name": "stdout",
     "output_type": "stream",
     "text": [
      "Begin group  1 training\n"
     ]
    },
    {
     "name": "stderr",
     "output_type": "stream",
     "text": [
      "Epoch:  30%|███████████████████████                                                      | 6/20 [00:00<00:00, 51.03it/s]"
     ]
    },
    {
     "name": "stdout",
     "output_type": "stream",
     "text": [
      "Begin group  2 training\n"
     ]
    },
    {
     "name": "stderr",
     "output_type": "stream",
     "text": [
      "Epoch:   0%|                                                                                     | 0/20 [00:00<?, ?it/s]"
     ]
    },
    {
     "name": "stdout",
     "output_type": "stream",
     "text": [
      "Begin group  3 training\n"
     ]
    },
    {
     "name": "stderr",
     "output_type": "stream",
     "text": [
      "Epoch:  25%|███████████████████▎                                                         | 5/20 [00:00<00:00, 42.66it/s]"
     ]
    },
    {
     "name": "stdout",
     "output_type": "stream",
     "text": [
      "Begin group  4 training\n"
     ]
    },
    {
     "name": "stderr",
     "output_type": "stream",
     "text": [
      "                                                                                                                        \r"
     ]
    },
    {
     "name": "stdout",
     "output_type": "stream",
     "text": [
      "Group 0, clients ['f_00174', 'f_00033', 'f_00173', 'f_00053', 'f_00134', 'f_00143', 'f_00094', 'f_00073', 'f_00014', 'f_00063']\n",
      "Group 1 is empty.\n",
      "Group 2, clients ['f_00022', 'f_00041', 'f_00111']\n",
      "Group 3, clients ['f_00130', 'f_00060', 'f_00000']\n",
      "Group 4, clients ['f_00186', 'f_00056', 'f_00055', 'f_00016']\n"
     ]
    },
    {
     "name": "stderr",
     "output_type": "stream",
     "text": [
      "Epoch:   0%|                                                                                     | 0/20 [00:00<?, ?it/s]"
     ]
    },
    {
     "name": "stdout",
     "output_type": "stream",
     "text": [
      "Group 0\n",
      "At round 11 accuracy: 0.7041884816753927\n",
      "At round 11 training accuracy: 0.6919504643962848\n",
      "At round 11 training loss: 0.8141119224552769\n",
      "Group 1\n",
      "At round 11 accuracy: 0.6819787985865724\n",
      "At round 11 training accuracy: 0.6233766233766234\n",
      "At round 11 training loss: 0.9246414855378514\n",
      "Group 2\n",
      "At round 11 accuracy: 0.8188824662813102\n",
      "At round 11 training accuracy: 0.810636404094348\n",
      "At round 11 training loss: 0.728853698214744\n",
      "Group 3\n",
      "At round 11 accuracy: 0.9055793991416309\n",
      "At round 11 training accuracy: 0.9092711948438275\n",
      "At round 11 training loss: 0.4313903849758485\n",
      "Group 4\n",
      "At round 11 accuracy: 0.621301775147929\n",
      "At round 11 training accuracy: 0.6135569531795947\n",
      "At round 11 training loss: 2.2382434094990713\n",
      "At round 11 mean test accuracy: 0.7344074844074844 mean train accuracy: 0.7206625662261738\n",
      "The groups difference are: [0.         2.87896014 2.16943969 2.92689738 2.45076156]\n",
      "Begin group  0 training\n"
     ]
    },
    {
     "name": "stderr",
     "output_type": "stream",
     "text": [
      "Epoch:   0%|                                                                                     | 0/20 [00:00<?, ?it/s]"
     ]
    },
    {
     "name": "stdout",
     "output_type": "stream",
     "text": [
      "Begin group  2 training\n"
     ]
    },
    {
     "name": "stderr",
     "output_type": "stream",
     "text": [
      "Epoch:   0%|                                                                                     | 0/20 [00:00<?, ?it/s]"
     ]
    },
    {
     "name": "stdout",
     "output_type": "stream",
     "text": [
      "Begin group  3 training\n"
     ]
    },
    {
     "name": "stderr",
     "output_type": "stream",
     "text": [
      "Epoch:   0%|                                                                                     | 0/20 [00:00<?, ?it/s]"
     ]
    },
    {
     "name": "stdout",
     "output_type": "stream",
     "text": [
      "Begin group  4 training\n"
     ]
    },
    {
     "name": "stderr",
     "output_type": "stream",
     "text": [
      "                                                                                                                        \r"
     ]
    },
    {
     "name": "stdout",
     "output_type": "stream",
     "text": [
      "Group 0, clients ['f_00023', 'f_00063', 'f_00164', 'f_00173']\n",
      "Group 1, clients ['f_00098', 'f_00138']\n",
      "Group 2, clients ['f_00182', 'f_00172', 'f_00021', 'f_00011', 'f_00061', 'f_00032', 'f_00132', 'f_00031', 'f_00181']\n",
      "Group 3, clients ['f_00120']\n",
      "Group 4, clients ['f_00007', 'f_00095', 'f_00016', 'f_00085']\n"
     ]
    },
    {
     "name": "stderr",
     "output_type": "stream",
     "text": [
      "Epoch:  40%|██████████████████████████████▊                                              | 8/20 [00:00<00:00, 75.33it/s]"
     ]
    },
    {
     "name": "stdout",
     "output_type": "stream",
     "text": [
      "Group 0\n",
      "At round 12 accuracy: 0.7513089005235603\n",
      "At round 12 training accuracy: 0.7504643962848297\n",
      "At round 12 training loss: 0.8497236819274654\n",
      "Group 1\n",
      "At round 12 accuracy: 0.6819787985865724\n",
      "At round 12 training accuracy: 0.6233766233766234\n",
      "At round 12 training loss: 0.9200191467838104\n",
      "Group 2\n",
      "At round 12 accuracy: 0.649325626204239\n",
      "At round 12 training accuracy: 0.6444147752558967\n",
      "At round 12 training loss: 0.8217855408476044\n",
      "Group 3\n",
      "At round 12 accuracy: 0.9055793991416309\n",
      "At round 12 training accuracy: 0.9058006941001487\n",
      "At round 12 training loss: 0.42568860279491294\n",
      "Group 4\n",
      "At round 12 accuracy: 0.6587771203155819\n",
      "At round 12 training accuracy: 0.680875844397857\n",
      "At round 12 training loss: 1.37032131196429\n",
      "At round 12 mean test accuracy: 0.7079002079002079 mean train accuracy: 0.7038548200475001\n",
      "The groups difference are: [0.         2.99156379 2.26356672 3.0592185  2.60670715]\n",
      "Begin group  0 training\n"
     ]
    },
    {
     "name": "stderr",
     "output_type": "stream",
     "text": [
      "Epoch:  20%|███████████████▍                                                             | 4/20 [00:00<00:00, 37.08it/s]"
     ]
    },
    {
     "name": "stdout",
     "output_type": "stream",
     "text": [
      "Begin group  1 training\n"
     ]
    },
    {
     "name": "stderr",
     "output_type": "stream",
     "text": [
      "Epoch:  40%|██████████████████████████████▊                                              | 8/20 [00:00<00:00, 69.63it/s]"
     ]
    },
    {
     "name": "stdout",
     "output_type": "stream",
     "text": [
      "Begin group  2 training\n"
     ]
    },
    {
     "name": "stderr",
     "output_type": "stream",
     "text": [
      "Epoch:   0%|                                                                                     | 0/20 [00:00<?, ?it/s]"
     ]
    },
    {
     "name": "stdout",
     "output_type": "stream",
     "text": [
      "Begin group  3 training\n",
      "Begin group  4 training\n"
     ]
    },
    {
     "name": "stderr",
     "output_type": "stream",
     "text": [
      "                                                                                                                        \r"
     ]
    },
    {
     "name": "stdout",
     "output_type": "stream",
     "text": [
      "Group 0, clients ['f_00023', 'f_00033', 'f_00104']\n",
      "Group 1, clients ['f_00179', 'f_00159', 'f_00198', 'f_00128', 'f_00097', 'f_00089', 'f_00079']\n",
      "Group 2, clients ['f_00042', 'f_00102', 'f_00132']\n",
      "Group 3, clients ['f_00110', 'f_00070']\n",
      "Group 4, clients ['f_00155', 'f_00096', 'f_00095', 'f_00106', 'f_00065']\n"
     ]
    },
    {
     "name": "stderr",
     "output_type": "stream",
     "text": [
      "Epoch:  35%|██████████████████████████▉                                                  | 7/20 [00:00<00:00, 63.29it/s]"
     ]
    },
    {
     "name": "stdout",
     "output_type": "stream",
     "text": [
      "Group 0\n",
      "At round 13 accuracy: 0.7094240837696335\n",
      "At round 13 training accuracy: 0.698452012383901\n",
      "At round 13 training loss: 0.7824699616469097\n",
      "Group 1\n",
      "At round 13 accuracy: 0.7137809187279152\n",
      "At round 13 training accuracy: 0.6686217008797654\n",
      "At round 13 training loss: 1.3040088965745964\n",
      "Group 2\n",
      "At round 13 accuracy: 0.6666666666666666\n",
      "At round 13 training accuracy: 0.6624388072986204\n",
      "At round 13 training loss: 0.7582691811724774\n",
      "Group 3\n",
      "At round 13 accuracy: 0.8798283261802575\n",
      "At round 13 training accuracy: 0.8894397620228062\n",
      "At round 13 training loss: 0.4303560074627488\n",
      "Group 4\n",
      "At round 13 accuracy: 0.5562130177514792\n",
      "At round 13 training accuracy: 0.5725599813650128\n",
      "At round 13 training loss: 1.1478441808430875\n",
      "At round 13 mean test accuracy: 0.6787941787941788 mean train accuracy: 0.6748066500213141\n",
      "The groups difference are: [0.         3.21600179 2.43118193 3.21664176 2.68891699]\n",
      "Begin group  0 training\n"
     ]
    },
    {
     "name": "stderr",
     "output_type": "stream",
     "text": [
      "Epoch:   0%|                                                                                     | 0/20 [00:00<?, ?it/s]"
     ]
    },
    {
     "name": "stdout",
     "output_type": "stream",
     "text": [
      "Begin group  1 training\n"
     ]
    },
    {
     "name": "stderr",
     "output_type": "stream",
     "text": [
      "Epoch:   0%|                                                                                     | 0/20 [00:00<?, ?it/s]"
     ]
    },
    {
     "name": "stdout",
     "output_type": "stream",
     "text": [
      "Begin group  2 training\n"
     ]
    },
    {
     "name": "stderr",
     "output_type": "stream",
     "text": [
      "Epoch:  30%|███████████████████████                                                      | 6/20 [00:00<00:00, 56.70it/s]"
     ]
    },
    {
     "name": "stdout",
     "output_type": "stream",
     "text": [
      "Begin group  3 training\n"
     ]
    },
    {
     "name": "stderr",
     "output_type": "stream",
     "text": [
      "Epoch:  55%|█████████████████████████████████████████▎                                 | 11/20 [00:00<00:00, 107.22it/s]"
     ]
    },
    {
     "name": "stdout",
     "output_type": "stream",
     "text": [
      "Begin group  4 training\n"
     ]
    },
    {
     "name": "stderr",
     "output_type": "stream",
     "text": [
      "                                                                                                                        \r"
     ]
    },
    {
     "name": "stdout",
     "output_type": "stream",
     "text": [
      "Group 0, clients ['f_00114', 'f_00024', 'f_00093', 'f_00044', 'f_00064']\n",
      "Group 1, clients ['f_00189', 'f_00198', 'f_00069', 'f_00149']\n",
      "Group 2, clients ['f_00151', 'f_00051', 'f_00112', 'f_00122']\n",
      "Group 3 is empty.\n",
      "Group 4, clients ['f_00005', 'f_00015', 'f_00155', 'f_00006', 'f_00175', 'f_00047', 'f_00157']\n"
     ]
    },
    {
     "name": "stderr",
     "output_type": "stream",
     "text": [
      "Epoch:   0%|                                                                                     | 0/20 [00:00<?, ?it/s]"
     ]
    },
    {
     "name": "stdout",
     "output_type": "stream",
     "text": [
      "Group 0\n",
      "At round 14 accuracy: 0.7827225130890052\n",
      "At round 14 training accuracy: 0.7811145510835913\n",
      "At round 14 training loss: 0.7620959590832146\n",
      "Group 1\n",
      "At round 14 accuracy: 0.7455830388692579\n",
      "At round 14 training accuracy: 0.7121910347716799\n",
      "At round 14 training loss: 0.8833426384057866\n",
      "Group 2\n",
      "At round 14 accuracy: 0.8265895953757225\n",
      "At round 14 training accuracy: 0.8190921228304406\n",
      "At round 14 training loss: 0.7443336413922075\n",
      "Group 3\n",
      "At round 14 accuracy: 0.9227467811158798\n",
      "At round 14 training accuracy: 0.9102627664848786\n",
      "At round 14 training loss: 0.3971848811438962\n",
      "Group 4\n",
      "At round 14 accuracy: 0.6153846153846154\n",
      "At round 14 training accuracy: 0.6375494991847193\n",
      "At round 14 training loss: 1.280242578357965\n",
      "At round 14 mean test accuracy: 0.761954261954262 mean train accuracy: 0.7598197430119968\n",
      "The groups difference are: [0.         3.28823651 2.47645868 3.36188937 2.77120333]\n",
      "Begin group  0 training\n"
     ]
    },
    {
     "name": "stderr",
     "output_type": "stream",
     "text": [
      "Epoch:  35%|██████████████████████████▉                                                  | 7/20 [00:00<00:00, 68.72it/s]"
     ]
    },
    {
     "name": "stdout",
     "output_type": "stream",
     "text": [
      "Begin group  1 training\n"
     ]
    },
    {
     "name": "stderr",
     "output_type": "stream",
     "text": [
      "Epoch:   0%|                                                                                     | 0/20 [00:00<?, ?it/s]"
     ]
    },
    {
     "name": "stdout",
     "output_type": "stream",
     "text": [
      "Begin group  2 training\n"
     ]
    },
    {
     "name": "stderr",
     "output_type": "stream",
     "text": [
      "Epoch:  25%|███████████████████▎                                                         | 5/20 [00:00<00:00, 43.91it/s]"
     ]
    },
    {
     "name": "stdout",
     "output_type": "stream",
     "text": [
      "Begin group  4 training\n"
     ]
    },
    {
     "name": "stderr",
     "output_type": "stream",
     "text": [
      "                                                                                                                        \r"
     ]
    },
    {
     "name": "stdout",
     "output_type": "stream",
     "text": [
      "Group 0, clients ['f_00184']\n",
      "Group 1, clients ['f_00049', 'f_00138', 'f_00058', 'f_00009', 'f_00198']\n",
      "Group 2, clients ['f_00191', 'f_00012', 'f_00172', 'f_00192', 'f_00072']\n",
      "Group 3, clients ['f_00040', 'f_00030', 'f_00170', 'f_00150']\n",
      "Group 4, clients ['f_00127', 'f_00057', 'f_00146', 'f_00026', 'f_00115']\n"
     ]
    },
    {
     "name": "stderr",
     "output_type": "stream",
     "text": [
      "Epoch:   0%|                                                                                     | 0/20 [00:00<?, ?it/s]"
     ]
    },
    {
     "name": "stdout",
     "output_type": "stream",
     "text": [
      "Group 0\n",
      "At round 15 accuracy: 0.7460732984293194\n",
      "At round 15 training accuracy: 0.7606811145510836\n",
      "At round 15 training loss: 0.6702155000469633\n",
      "Group 1\n",
      "At round 15 accuracy: 0.7561837455830389\n",
      "At round 15 training accuracy: 0.7276916631755341\n",
      "At round 15 training loss: 0.9774875651231909\n",
      "Group 2\n",
      "At round 15 accuracy: 0.7726396917148363\n",
      "At round 15 training accuracy: 0.789942145082332\n",
      "At round 15 training loss: 0.7421063466712958\n",
      "Group 3\n",
      "At round 15 accuracy: 0.927038626609442\n",
      "At round 15 training accuracy: 0.9132374814080317\n",
      "At round 15 training loss: 0.39809642949344265\n",
      "Group 4\n",
      "At round 15 accuracy: 0.5463510848126233\n",
      "At round 15 training accuracy: 0.5427440018634987\n",
      "At round 15 training loss: 1.4142846207282163\n",
      "At round 15 mean test accuracy: 0.724012474012474 mean train accuracy: 0.7256561719749102\n",
      "The groups difference are: [0.         3.37361383 2.55600086 3.39413701 2.82752667]\n",
      "Begin group  0 training\n",
      "Begin group  1 training\n"
     ]
    },
    {
     "name": "stderr",
     "output_type": "stream",
     "text": [
      "Epoch:   0%|                                                                                     | 0/20 [00:00<?, ?it/s]"
     ]
    },
    {
     "name": "stdout",
     "output_type": "stream",
     "text": [
      "Begin group  2 training\n"
     ]
    },
    {
     "name": "stderr",
     "output_type": "stream",
     "text": [
      "Epoch:   0%|                                                                                     | 0/20 [00:00<?, ?it/s]"
     ]
    },
    {
     "name": "stdout",
     "output_type": "stream",
     "text": [
      "Begin group  3 training\n"
     ]
    },
    {
     "name": "stderr",
     "output_type": "stream",
     "text": [
      "Epoch:   0%|                                                                                     | 0/20 [00:00<?, ?it/s]"
     ]
    },
    {
     "name": "stdout",
     "output_type": "stream",
     "text": [
      "Begin group  4 training\n"
     ]
    },
    {
     "name": "stderr",
     "output_type": "stream",
     "text": [
      "                                                                                                                        \r"
     ]
    },
    {
     "name": "stdout",
     "output_type": "stream",
     "text": [
      "Group 0, clients ['f_00154', 'f_00174', 'f_00073', 'f_00054', 'f_00134']\n",
      "Group 1, clients ['f_00059', 'f_00029']\n",
      "Group 2, clients ['f_00112', 'f_00032', 'f_00081', 'f_00072', 'f_00051']\n",
      "Group 3, clients ['f_00000', 'f_00170', 'f_00090', 'f_00100']\n",
      "Group 4, clients ['f_00007', 'f_00096', 'f_00056', 'f_00187']\n"
     ]
    },
    {
     "name": "stderr",
     "output_type": "stream",
     "text": [
      "Epoch:  35%|██████████████████████████▉                                                  | 7/20 [00:00<00:00, 65.07it/s]"
     ]
    },
    {
     "name": "stdout",
     "output_type": "stream",
     "text": [
      "Group 0\n",
      "At round 16 accuracy: 0.7591623036649214\n",
      "At round 16 training accuracy: 0.7529411764705882\n",
      "At round 16 training loss: 0.8575127070348698\n",
      "Group 1\n",
      "At round 16 accuracy: 0.7314487632508834\n",
      "At round 16 training accuracy: 0.7029744449099288\n",
      "At round 16 training loss: 0.721569125603371\n",
      "Group 2\n",
      "At round 16 accuracy: 0.7842003853564548\n",
      "At round 16 training accuracy: 0.8006230529595015\n",
      "At round 16 training loss: 0.6706352625216279\n",
      "Group 3\n",
      "At round 16 accuracy: 0.9227467811158798\n",
      "At round 16 training accuracy: 0.9167079821517105\n",
      "At round 16 training loss: 0.39121518544501815\n",
      "Group 4\n",
      "At round 16 accuracy: 0.6351084812623274\n",
      "At round 16 training accuracy: 0.6699277894246448\n",
      "At round 16 training loss: 1.1008183390436654\n",
      "At round 16 mean test accuracy: 0.748960498960499 mean train accuracy: 0.7571402472443822\n",
      "The groups difference are: [0.         3.40910585 2.62382953 3.42336694 2.85660619]\n",
      "Begin group  0 training\n"
     ]
    },
    {
     "name": "stderr",
     "output_type": "stream",
     "text": [
      "Epoch:   0%|                                                                                     | 0/20 [00:00<?, ?it/s]"
     ]
    },
    {
     "name": "stdout",
     "output_type": "stream",
     "text": [
      "Begin group  1 training\n",
      "Begin group  2 training\n"
     ]
    },
    {
     "name": "stderr",
     "output_type": "stream",
     "text": [
      "Epoch:   0%|                                                                                     | 0/20 [00:00<?, ?it/s]"
     ]
    },
    {
     "name": "stdout",
     "output_type": "stream",
     "text": [
      "Begin group  3 training\n"
     ]
    },
    {
     "name": "stderr",
     "output_type": "stream",
     "text": [
      "Epoch:  60%|█████████████████████████████████████████████                              | 12/20 [00:00<00:00, 114.53it/s]"
     ]
    },
    {
     "name": "stdout",
     "output_type": "stream",
     "text": [
      "Begin group  4 training\n"
     ]
    },
    {
     "name": "stderr",
     "output_type": "stream",
     "text": [
      "                                                                                                                        \r"
     ]
    },
    {
     "name": "stdout",
     "output_type": "stream",
     "text": [
      "Group 0, clients ['f_00103']\n",
      "Group 1, clients ['f_00158', 'f_00138', 'f_00109']\n",
      "Group 2, clients ['f_00082', 'f_00071', 'f_00192']\n",
      "Group 3, clients ['f_00000', 'f_00080']\n",
      "Group 4, clients ['f_00146', 'f_00176', 'f_00197', 'f_00075', 'f_00085', 'f_00157', 'f_00095', 'f_00147', 'f_00126', 'f_00016', 'f_00087']\n"
     ]
    },
    {
     "name": "stderr",
     "output_type": "stream",
     "text": [
      "Epoch:   0%|                                                                                     | 0/20 [00:00<?, ?it/s]"
     ]
    },
    {
     "name": "stdout",
     "output_type": "stream",
     "text": [
      "Group 0\n",
      "At round 17 accuracy: 0.7356020942408377\n",
      "At round 17 training accuracy: 0.743343653250774\n",
      "At round 17 training loss: 0.6579361471229294\n",
      "Group 1\n",
      "At round 17 accuracy: 0.7879858657243817\n",
      "At round 17 training accuracy: 0.754084625052367\n",
      "At round 17 training loss: 1.0268087161538688\n",
      "Group 2\n",
      "At round 17 accuracy: 0.7244701348747592\n",
      "At round 17 training accuracy: 0.7291944815309301\n",
      "At round 17 training loss: 0.6370712981708961\n",
      "Group 3\n",
      "At round 17 accuracy: 0.9141630901287554\n",
      "At round 17 training accuracy: 0.9191869112543382\n",
      "At round 17 training loss: 0.379356847713061\n",
      "Group 4\n",
      "At round 17 accuracy: 0.6568047337278107\n",
      "At round 17 training accuracy: 0.6696948520847892\n",
      "At round 17 training loss: 1.1964895290676432\n",
      "At round 17 mean test accuracy: 0.7411642411642412 mean train accuracy: 0.7433773826198161\n",
      "The groups difference are: [0.         3.49721874 2.67851261 3.54357465 2.96160647]\n",
      "Begin group  0 training\n",
      "Begin group  1 training\n"
     ]
    },
    {
     "name": "stderr",
     "output_type": "stream",
     "text": [
      "Epoch:   0%|                                                                                     | 0/20 [00:00<?, ?it/s]"
     ]
    },
    {
     "name": "stdout",
     "output_type": "stream",
     "text": [
      "Begin group  2 training\n"
     ]
    },
    {
     "name": "stderr",
     "output_type": "stream",
     "text": [
      "Epoch:   0%|                                                                                     | 0/20 [00:00<?, ?it/s]"
     ]
    },
    {
     "name": "stdout",
     "output_type": "stream",
     "text": [
      "Begin group  3 training\n"
     ]
    },
    {
     "name": "stderr",
     "output_type": "stream",
     "text": [
      "Epoch:   0%|                                                                                     | 0/20 [00:00<?, ?it/s]"
     ]
    },
    {
     "name": "stdout",
     "output_type": "stream",
     "text": [
      "Begin group  4 training\n"
     ]
    },
    {
     "name": "stderr",
     "output_type": "stream",
     "text": [
      "                                                                                                                        \r"
     ]
    },
    {
     "name": "stdout",
     "output_type": "stream",
     "text": [
      "Group 0, clients ['f_00134', 'f_00044', 'f_00074', 'f_00033']\n",
      "Group 1, clients ['f_00108', 'f_00039', 'f_00128', 'f_00109', 'f_00049', 'f_00088']\n",
      "Group 2, clients ['f_00091', 'f_00081', 'f_00151', 'f_00012']\n",
      "Group 3, clients ['f_00170', 'f_00040']\n",
      "Group 4, clients ['f_00047', 'f_00186', 'f_00006', 'f_00025']\n"
     ]
    },
    {
     "name": "stderr",
     "output_type": "stream",
     "text": [
      "Epoch:   0%|                                                                                     | 0/20 [00:00<?, ?it/s]"
     ]
    },
    {
     "name": "stdout",
     "output_type": "stream",
     "text": [
      "Group 0\n",
      "At round 18 accuracy: 0.8010471204188482\n",
      "At round 18 training accuracy: 0.8043343653250774\n",
      "At round 18 training loss: 0.8274724785342306\n",
      "Group 1\n",
      "At round 18 accuracy: 0.734982332155477\n",
      "At round 18 training accuracy: 0.6744868035190615\n",
      "At round 18 training loss: 0.8613571681434957\n",
      "Group 2\n",
      "At round 18 accuracy: 0.7764932562620424\n",
      "At round 18 training accuracy: 0.7963951935914553\n",
      "At round 18 training loss: 0.573922295609102\n",
      "Group 3\n",
      "At round 18 accuracy: 0.9012875536480687\n",
      "At round 18 training accuracy: 0.8919186911254338\n",
      "At round 18 training loss: 0.40305520655438637\n",
      "Group 4\n",
      "At round 18 accuracy: 0.5463510848126233\n",
      "At round 18 training accuracy: 0.5856044723969253\n",
      "At round 18 training loss: 1.1385690927949785\n",
      "At round 18 mean test accuracy: 0.7297297297297297 mean train accuracy: 0.7368613360940259\n",
      "The groups difference are: [0.         3.52693355 2.68148992 3.61377863 3.04371138]\n",
      "Begin group  0 training\n"
     ]
    },
    {
     "name": "stderr",
     "output_type": "stream",
     "text": [
      "Epoch:  50%|██████████████████████████████████████                                      | 10/20 [00:00<00:00, 93.48it/s]"
     ]
    },
    {
     "name": "stdout",
     "output_type": "stream",
     "text": [
      "Begin group  1 training\n"
     ]
    },
    {
     "name": "stderr",
     "output_type": "stream",
     "text": [
      "Epoch:  35%|██████████████████████████▉                                                  | 7/20 [00:00<00:00, 65.38it/s]"
     ]
    },
    {
     "name": "stdout",
     "output_type": "stream",
     "text": [
      "Begin group  2 training\n"
     ]
    },
    {
     "name": "stderr",
     "output_type": "stream",
     "text": [
      "Epoch:   0%|                                                                                     | 0/20 [00:00<?, ?it/s]"
     ]
    },
    {
     "name": "stdout",
     "output_type": "stream",
     "text": [
      "Begin group  3 training\n",
      "Begin group  4 training\n"
     ]
    },
    {
     "name": "stderr",
     "output_type": "stream",
     "text": [
      "                                                                                                                        \r"
     ]
    },
    {
     "name": "stdout",
     "output_type": "stream",
     "text": [
      "Group 0, clients ['f_00033', 'f_00013', 'f_00094', 'f_00163']\n",
      "Group 1, clients ['f_00148', 'f_00078', 'f_00169']\n",
      "Group 2, clients ['f_00091', 'f_00031', 'f_00072', 'f_00152']\n",
      "Group 3, clients ['f_00040', 'f_00140', 'f_00020', 'f_00180']\n",
      "Group 4, clients ['f_00196', 'f_00016', 'f_00037', 'f_00105', 'f_00157']\n"
     ]
    },
    {
     "name": "stderr",
     "output_type": "stream",
     "text": [
      "Epoch:  55%|█████████████████████████████████████████▎                                 | 11/20 [00:00<00:00, 103.78it/s]"
     ]
    },
    {
     "name": "stdout",
     "output_type": "stream",
     "text": [
      "Group 0\n",
      "At round 19 accuracy: 0.7643979057591623\n",
      "At round 19 training accuracy: 0.7671826625386997\n",
      "At round 19 training loss: 0.7532233939543597\n",
      "Group 1\n",
      "At round 19 accuracy: 0.7208480565371025\n",
      "At round 19 training accuracy: 0.6945957268537913\n",
      "At round 19 training loss: 0.7408895542245058\n",
      "Group 2\n",
      "At round 19 accuracy: 0.6994219653179191\n",
      "At round 19 training accuracy: 0.6895861148197597\n",
      "At round 19 training loss: 1.217262990331724\n",
      "Group 3\n",
      "At round 19 accuracy: 0.9184549356223176\n",
      "At round 19 training accuracy: 0.9201784828953892\n",
      "At round 19 training loss: 0.371995070789436\n",
      "Group 4\n",
      "At round 19 accuracy: 0.6390532544378699\n",
      "At round 19 training accuracy: 0.6678313533659446\n",
      "At round 19 training loss: 0.9096610349443113\n",
      "At round 19 mean test accuracy: 0.7260914760914761 mean train accuracy: 0.7282138724803605\n",
      "The groups difference are: [0.         3.56172338 2.78200057 3.63403157 3.03439936]\n",
      "Begin group  0 training\n"
     ]
    },
    {
     "name": "stderr",
     "output_type": "stream",
     "text": [
      "Epoch:   0%|                                                                                     | 0/20 [00:00<?, ?it/s]"
     ]
    },
    {
     "name": "stdout",
     "output_type": "stream",
     "text": [
      "Begin group  1 training\n"
     ]
    },
    {
     "name": "stderr",
     "output_type": "stream",
     "text": [
      "Epoch:  35%|██████████████████████████▉                                                  | 7/20 [00:00<00:00, 66.50it/s]"
     ]
    },
    {
     "name": "stdout",
     "output_type": "stream",
     "text": [
      "Begin group  2 training\n"
     ]
    },
    {
     "name": "stderr",
     "output_type": "stream",
     "text": [
      "Epoch:  65%|████████████████████████████████████████████████▊                          | 13/20 [00:00<00:00, 124.86it/s]"
     ]
    },
    {
     "name": "stdout",
     "output_type": "stream",
     "text": [
      "Begin group  3 training\n"
     ]
    },
    {
     "name": "stderr",
     "output_type": "stream",
     "text": [
      "Epoch:   0%|                                                                                     | 0/20 [00:00<?, ?it/s]"
     ]
    },
    {
     "name": "stdout",
     "output_type": "stream",
     "text": [
      "Begin group  4 training\n"
     ]
    },
    {
     "name": "stderr",
     "output_type": "stream",
     "text": [
      "                                                                                                                        \r"
     ]
    },
    {
     "name": "stdout",
     "output_type": "stream",
     "text": [
      "Group 0, clients ['f_00013', 'f_00084']\n",
      "Group 1, clients ['f_00028', 'f_00178', 'f_00109', 'f_00168']\n",
      "Group 2, clients ['f_00121', 'f_00192']\n",
      "Group 3, clients ['f_00150']\n",
      "Group 4, clients ['f_00177', 'f_00196', 'f_00047', 'f_00195', 'f_00136', 'f_00077', 'f_00187', 'f_00166', 'f_00175', 'f_00155', 'f_00167']\n"
     ]
    },
    {
     "name": "stderr",
     "output_type": "stream",
     "text": [
      "Epoch:   0%|                                                                                     | 0/20 [00:00<?, ?it/s]"
     ]
    },
    {
     "name": "stdout",
     "output_type": "stream",
     "text": [
      "Group 0\n",
      "At round 20 accuracy: 0.7801047120418848\n",
      "At round 20 training accuracy: 0.7832817337461301\n",
      "At round 20 training loss: 0.5749012278144943\n",
      "Group 1\n",
      "At round 20 accuracy: 0.7208480565371025\n",
      "At round 20 training accuracy: 0.673229995810641\n",
      "At round 20 training loss: 0.7701109370078609\n",
      "Group 2\n",
      "At round 20 accuracy: 0.6994219653179191\n",
      "At round 20 training accuracy: 0.696706720071206\n",
      "At round 20 training loss: 0.6880012345833941\n",
      "Group 3\n",
      "At round 20 accuracy: 0.9098712446351931\n",
      "At round 20 training accuracy: 0.9152206246901339\n",
      "At round 20 training loss: 0.35437253024475257\n",
      "Group 4\n",
      "At round 20 accuracy: 0.5680473372781065\n",
      "At round 20 training accuracy: 0.604006522245516\n",
      "At round 20 training loss: 1.0480510733245887\n",
      "At round 20 mean test accuracy: 0.7094594594594594 mean train accuracy: 0.7129285670787406\n",
      "The groups difference are: [0.         3.59263031 2.81439123 3.71412084 3.10660911]\n",
      "Begin group  0 training\n"
     ]
    },
    {
     "name": "stderr",
     "output_type": "stream",
     "text": [
      "Epoch:   0%|                                                                                     | 0/20 [00:00<?, ?it/s]"
     ]
    },
    {
     "name": "stdout",
     "output_type": "stream",
     "text": [
      "Begin group  1 training\n"
     ]
    },
    {
     "name": "stderr",
     "output_type": "stream",
     "text": [
      "Epoch:  35%|██████████████████████████▉                                                  | 7/20 [00:00<00:00, 61.73it/s]"
     ]
    },
    {
     "name": "stdout",
     "output_type": "stream",
     "text": [
      "Begin group  2 training\n"
     ]
    },
    {
     "name": "stderr",
     "output_type": "stream",
     "text": [
      "Epoch:  45%|██████████████████████████████████▋                                          | 9/20 [00:00<00:00, 80.74it/s]"
     ]
    },
    {
     "name": "stdout",
     "output_type": "stream",
     "text": [
      "Begin group  3 training\n",
      "Begin group  4 training\n"
     ]
    },
    {
     "name": "stderr",
     "output_type": "stream",
     "text": [
      "                                                                                                                        \r"
     ]
    },
    {
     "name": "stdout",
     "output_type": "stream",
     "text": [
      "Group 0, clients ['f_00144', 'f_00183', 'f_00124', 'f_00013']\n",
      "Group 1, clients ['f_00009', 'f_00129']\n",
      "Group 2, clients ['f_00052', 'f_00091', 'f_00021', 'f_00042', 'f_00152', 'f_00092', 'f_00101']\n",
      "Group 3, clients ['f_00020']\n",
      "Group 4, clients ['f_00017', 'f_00045', 'f_00006', 'f_00105', 'f_00145', 'f_00087']\n"
     ]
    },
    {
     "name": "stderr",
     "output_type": "stream",
     "text": [
      "Epoch:   0%|                                                                                     | 0/20 [00:00<?, ?it/s]"
     ]
    },
    {
     "name": "stdout",
     "output_type": "stream",
     "text": [
      "Group 0\n",
      "At round 21 accuracy: 0.7879581151832461\n",
      "At round 21 training accuracy: 0.7869969040247679\n",
      "At round 21 training loss: 0.563040184817816\n",
      "Group 1\n",
      "At round 21 accuracy: 0.7703180212014135\n",
      "At round 21 training accuracy: 0.737746124842899\n",
      "At round 21 training loss: 0.7877025238429846\n",
      "Group 2\n",
      "At round 21 accuracy: 0.6917148362235067\n",
      "At round 21 training accuracy: 0.6898086337338674\n",
      "At round 21 training loss: 1.3182781542878073\n",
      "Group 3\n",
      "At round 21 accuracy: 0.9184549356223176\n",
      "At round 21 training accuracy: 0.9162121963311849\n",
      "At round 21 training loss: 0.3638912679227674\n",
      "Group 4\n",
      "At round 21 accuracy: 0.6134122287968442\n",
      "At round 21 training accuracy: 0.6266014442115071\n",
      "At round 21 training loss: 1.0387679507841798\n",
      "At round 21 mean test accuracy: 0.7292099792099792 mean train accuracy: 0.7271786127519639\n",
      "The groups difference are: [0.         3.62149966 2.90984281 3.73046415 3.16003046]\n",
      "Begin group  0 training\n"
     ]
    },
    {
     "name": "stderr",
     "output_type": "stream",
     "text": [
      "Epoch:   0%|                                                                                     | 0/20 [00:00<?, ?it/s]"
     ]
    },
    {
     "name": "stdout",
     "output_type": "stream",
     "text": [
      "Begin group  1 training\n",
      "Begin group  2 training\n"
     ]
    },
    {
     "name": "stderr",
     "output_type": "stream",
     "text": [
      "                                                                                                                        "
     ]
    },
    {
     "name": "stdout",
     "output_type": "stream",
     "text": [
      "Begin group  3 training\n",
      "Begin group  4 training\n"
     ]
    },
    {
     "name": "stderr",
     "output_type": "stream",
     "text": [
      "                                                                                                                        \r"
     ]
    },
    {
     "name": "stdout",
     "output_type": "stream",
     "text": [
      "Group 0, clients ['f_00144', 'f_00163', 'f_00124', 'f_00104']\n",
      "Group 1, clients ['f_00098', 'f_00078', 'f_00189', 'f_00128']\n",
      "Group 2, clients ['f_00032', 'f_00091', 'f_00012']\n",
      "Group 3, clients ['f_00170', 'f_00020']\n",
      "Group 4, clients ['f_00157', 'f_00075', 'f_00176', 'f_00087', 'f_00046', 'f_00036', 'f_00135']\n"
     ]
    },
    {
     "name": "stderr",
     "output_type": "stream",
     "text": [
      "Epoch:   0%|                                                                                     | 0/20 [00:00<?, ?it/s]"
     ]
    },
    {
     "name": "stdout",
     "output_type": "stream",
     "text": [
      "Group 0\n",
      "At round 22 accuracy: 0.7486910994764397\n",
      "At round 22 training accuracy: 0.7541795665634675\n",
      "At round 22 training loss: 0.5832681229793619\n",
      "Group 1\n",
      "At round 22 accuracy: 0.8056537102473498\n",
      "At round 22 training accuracy: 0.7653958944281525\n",
      "At round 22 training loss: 0.991023937653037\n",
      "Group 2\n",
      "At round 22 accuracy: 0.7630057803468208\n",
      "At round 22 training accuracy: 0.769247886070316\n",
      "At round 22 training loss: 0.5838556901237197\n",
      "Group 3\n",
      "At round 22 accuracy: 0.9313304721030042\n",
      "At round 22 training accuracy: 0.9196826970748636\n",
      "At round 22 training loss: 0.3585827013881241\n",
      "Group 4\n",
      "At round 22 accuracy: 0.591715976331361\n",
      "At round 22 training accuracy: 0.6205450733752621\n",
      "At round 22 training loss: 0.9868790011791368\n",
      "At round 22 mean test accuracy: 0.7416839916839917 mean train accuracy: 0.7453261068144449\n",
      "The groups difference are: [0.         3.66799797 2.95811237 3.78167072 3.23782226]\n",
      "Begin group  0 training\n"
     ]
    },
    {
     "name": "stderr",
     "output_type": "stream",
     "text": [
      "Epoch:  20%|███████████████▍                                                             | 4/20 [00:00<00:00, 36.81it/s]"
     ]
    },
    {
     "name": "stdout",
     "output_type": "stream",
     "text": [
      "Begin group  1 training\n"
     ]
    },
    {
     "name": "stderr",
     "output_type": "stream",
     "text": [
      "Epoch:  35%|██████████████████████████▉                                                  | 7/20 [00:00<00:00, 68.96it/s]"
     ]
    },
    {
     "name": "stdout",
     "output_type": "stream",
     "text": [
      "Begin group  2 training\n"
     ]
    },
    {
     "name": "stderr",
     "output_type": "stream",
     "text": [
      "Epoch:   0%|                                                                                     | 0/20 [00:00<?, ?it/s]"
     ]
    },
    {
     "name": "stdout",
     "output_type": "stream",
     "text": [
      "Begin group  3 training\n"
     ]
    },
    {
     "name": "stderr",
     "output_type": "stream",
     "text": [
      "Epoch:   0%|                                                                                     | 0/20 [00:00<?, ?it/s]"
     ]
    },
    {
     "name": "stdout",
     "output_type": "stream",
     "text": [
      "Begin group  4 training\n"
     ]
    },
    {
     "name": "stderr",
     "output_type": "stream",
     "text": [
      "                                                                                                                        \r"
     ]
    },
    {
     "name": "stdout",
     "output_type": "stream",
     "text": [
      "Group 0, clients ['f_00014', 'f_00174', 'f_00024']\n",
      "Group 1, clients ['f_00188', 'f_00119', 'f_00097', 'f_00019', 'f_00198', 'f_00199']\n",
      "Group 2, clients ['f_00072', 'f_00081', 'f_00191', 'f_00092']\n",
      "Group 3, clients ['f_00030', 'f_00140']\n",
      "Group 4, clients ['f_00077', 'f_00185', 'f_00075', 'f_00046', 'f_00157']\n"
     ]
    },
    {
     "name": "stderr",
     "output_type": "stream",
     "text": [
      "Epoch:  40%|██████████████████████████████▊                                              | 8/20 [00:00<00:00, 76.70it/s]"
     ]
    },
    {
     "name": "stdout",
     "output_type": "stream",
     "text": [
      "Group 0\n",
      "At round 23 accuracy: 0.7801047120418848\n",
      "At round 23 training accuracy: 0.781733746130031\n",
      "At round 23 training loss: 0.6234900707338616\n",
      "Group 1\n",
      "At round 23 accuracy: 0.6996466431095406\n",
      "At round 23 training accuracy: 0.6552157519899455\n",
      "At round 23 training loss: 0.8768428549838455\n",
      "Group 2\n",
      "At round 23 accuracy: 0.7032755298651252\n",
      "At round 23 training accuracy: 0.6995994659546061\n",
      "At round 23 training loss: 1.005049535806544\n",
      "Group 3\n",
      "At round 23 accuracy: 0.927038626609442\n",
      "At round 23 training accuracy: 0.924640555280119\n",
      "At round 23 training loss: 0.3465227193845991\n",
      "Group 4\n",
      "At round 23 accuracy: 0.6055226824457594\n",
      "At round 23 training accuracy: 0.6459352434195201\n",
      "At round 23 training loss: 0.9124366516642656\n",
      "At round 23 mean test accuracy: 0.7193347193347194 mean train accuracy: 0.7229157785762134\n",
      "The groups difference are: [0.         3.75922979 3.04095735 3.82384677 3.30504764]\n",
      "Begin group  0 training\n"
     ]
    },
    {
     "name": "stderr",
     "output_type": "stream",
     "text": [
      "Epoch:  70%|████████████████████████████████████████████████████▌                      | 14/20 [00:00<00:00, 130.50it/s]"
     ]
    },
    {
     "name": "stdout",
     "output_type": "stream",
     "text": [
      "Begin group  1 training\n"
     ]
    },
    {
     "name": "stderr",
     "output_type": "stream",
     "text": [
      "Epoch:   0%|                                                                                     | 0/20 [00:00<?, ?it/s]"
     ]
    },
    {
     "name": "stdout",
     "output_type": "stream",
     "text": [
      "Begin group  2 training\n"
     ]
    },
    {
     "name": "stderr",
     "output_type": "stream",
     "text": [
      "Epoch:   0%|                                                                                     | 0/20 [00:00<?, ?it/s]"
     ]
    },
    {
     "name": "stdout",
     "output_type": "stream",
     "text": [
      "Begin group  3 training\n",
      "Begin group  4 training\n"
     ]
    },
    {
     "name": "stderr",
     "output_type": "stream",
     "text": [
      "                                                                                                                        \r"
     ]
    },
    {
     "name": "stdout",
     "output_type": "stream",
     "text": [
      "Group 0, clients ['f_00014', 'f_00144', 'f_00054']\n",
      "Group 1, clients ['f_00109', 'f_00048', 'f_00029', 'f_00159', 'f_00069']\n",
      "Group 2, clients ['f_00101', 'f_00142', 'f_00072', 'f_00091', 'f_00102']\n",
      "Group 3, clients ['f_00190', 'f_00000']\n",
      "Group 4, clients ['f_00197', 'f_00125', 'f_00196', 'f_00025', 'f_00026']\n"
     ]
    },
    {
     "name": "stderr",
     "output_type": "stream",
     "text": [
      "Epoch:  45%|██████████████████████████████████▋                                          | 9/20 [00:00<00:00, 87.15it/s]"
     ]
    },
    {
     "name": "stdout",
     "output_type": "stream",
     "text": [
      "Group 0\n",
      "At round 24 accuracy: 0.7722513089005235\n",
      "At round 24 training accuracy: 0.7746130030959752\n",
      "At round 24 training loss: 0.8277943087897434\n",
      "Group 1\n",
      "At round 24 accuracy: 0.7985865724381626\n",
      "At round 24 training accuracy: 0.7712609970674487\n",
      "At round 24 training loss: 0.8265332603584437\n",
      "Group 2\n",
      "At round 24 accuracy: 0.7302504816955684\n",
      "At round 24 training accuracy: 0.7274143302180686\n",
      "At round 24 training loss: 0.6203161161848848\n",
      "Group 3\n",
      "At round 24 accuracy: 0.9313304721030042\n",
      "At round 24 training accuracy: 0.9201784828953892\n",
      "At round 24 training loss: 0.34892835842983877\n",
      "Group 4\n",
      "At round 24 accuracy: 0.5996055226824457\n",
      "At round 24 training accuracy: 0.6256696948520848\n",
      "At round 24 training loss: 0.8721598949627862\n",
      "At round 24 mean test accuracy: 0.7385654885654885 mean train accuracy: 0.7401498081724621\n",
      "The groups difference are: [0.         3.81140213 3.07822208 3.86239145 3.31373272]\n",
      "Begin group  0 training\n"
     ]
    },
    {
     "name": "stderr",
     "output_type": "stream",
     "text": [
      "Epoch:   0%|                                                                                     | 0/20 [00:00<?, ?it/s]"
     ]
    },
    {
     "name": "stdout",
     "output_type": "stream",
     "text": [
      "Begin group  1 training\n"
     ]
    },
    {
     "name": "stderr",
     "output_type": "stream",
     "text": [
      "Epoch:   0%|                                                                                     | 0/20 [00:00<?, ?it/s]"
     ]
    },
    {
     "name": "stdout",
     "output_type": "stream",
     "text": [
      "Begin group  2 training\n"
     ]
    },
    {
     "name": "stderr",
     "output_type": "stream",
     "text": [
      "Epoch:   0%|                                                                                     | 0/20 [00:00<?, ?it/s]"
     ]
    },
    {
     "name": "stdout",
     "output_type": "stream",
     "text": [
      "Begin group  3 training\n"
     ]
    },
    {
     "name": "stderr",
     "output_type": "stream",
     "text": [
      "Epoch:   0%|                                                                                     | 0/20 [00:00<?, ?it/s]"
     ]
    },
    {
     "name": "stdout",
     "output_type": "stream",
     "text": [
      "Begin group  4 training\n"
     ]
    },
    {
     "name": "stderr",
     "output_type": "stream",
     "text": [
      "                                                                                                                        \r"
     ]
    },
    {
     "name": "stdout",
     "output_type": "stream",
     "text": [
      "Group 0, clients ['f_00193', 'f_00103']\n",
      "Group 1, clients ['f_00148', 'f_00069', 'f_00068', 'f_00169', 'f_00097']\n",
      "Group 2, clients ['f_00082', 'f_00101', 'f_00111', 'f_00102', 'f_00122', 'f_00081']\n",
      "Group 3, clients ['f_00040', 'f_00120']\n",
      "Group 4, clients ['f_00135', 'f_00126', 'f_00035', 'f_00176', 'f_00117']\n"
     ]
    },
    {
     "name": "stderr",
     "output_type": "stream",
     "text": [
      "Epoch:   0%|                                                                                     | 0/20 [00:00<?, ?it/s]"
     ]
    },
    {
     "name": "stdout",
     "output_type": "stream",
     "text": [
      "Group 0\n",
      "At round 25 accuracy: 0.774869109947644\n",
      "At round 25 training accuracy: 0.7668730650154799\n",
      "At round 25 training loss: 0.9482296991089918\n",
      "Group 1\n",
      "At round 25 accuracy: 0.8091872791519434\n",
      "At round 25 training accuracy: 0.7758692919983242\n",
      "At round 25 training loss: 0.9605032020737349\n",
      "Group 2\n",
      "At round 25 accuracy: 0.7610789980732178\n",
      "At round 25 training accuracy: 0.7694704049844237\n",
      "At round 25 training loss: 0.557097347871855\n",
      "Group 3\n",
      "At round 25 accuracy: 0.9055793991416309\n",
      "At round 25 training accuracy: 0.9112543381259296\n",
      "At round 25 training loss: 0.34069063553256923\n",
      "Group 4\n",
      "At round 25 accuracy: 0.650887573964497\n",
      "At round 25 training accuracy: 0.679711157698579\n",
      "At round 25 training loss: 0.8875398727777314\n",
      "At round 25 mean test accuracy: 0.7593555093555093 mean train accuracy: 0.7638389866634188\n",
      "The groups difference are: [0.         3.8535769  3.13011238 3.90331293 3.33870679]\n",
      "Begin group  0 training\n",
      "Begin group  1 training\n"
     ]
    },
    {
     "name": "stderr",
     "output_type": "stream",
     "text": [
      "Epoch:   0%|                                                                                     | 0/20 [00:00<?, ?it/s]"
     ]
    },
    {
     "name": "stdout",
     "output_type": "stream",
     "text": [
      "Begin group  2 training\n"
     ]
    },
    {
     "name": "stderr",
     "output_type": "stream",
     "text": [
      "                                                                                                                        "
     ]
    },
    {
     "name": "stdout",
     "output_type": "stream",
     "text": [
      "Begin group  3 training\n"
     ]
    },
    {
     "name": "stderr",
     "output_type": "stream",
     "text": [
      "Epoch:  50%|██████████████████████████████████████                                      | 10/20 [00:00<00:00, 90.72it/s]"
     ]
    },
    {
     "name": "stdout",
     "output_type": "stream",
     "text": [
      "Begin group  4 training\n"
     ]
    },
    {
     "name": "stderr",
     "output_type": "stream",
     "text": [
      "                                                                                                                        \r"
     ]
    },
    {
     "name": "stdout",
     "output_type": "stream",
     "text": [
      "Group 0, clients ['f_00153', 'f_00163', 'f_00124', 'f_00174']\n",
      "Group 1, clients ['f_00188', 'f_00108', 'f_00118', 'f_00109', 'f_00168', 'f_00129']\n",
      "Group 2, clients ['f_00042']\n",
      "Group 3, clients ['f_00030', 'f_00050']\n",
      "Group 4, clients ['f_00025', 'f_00196', 'f_00167', 'f_00137', 'f_00136', 'f_00116', 'f_00186']\n"
     ]
    },
    {
     "name": "stderr",
     "output_type": "stream",
     "text": [
      "Epoch:  75%|████████████████████████████████████████████████████████▎                  | 15/20 [00:00<00:00, 142.80it/s]"
     ]
    },
    {
     "name": "stdout",
     "output_type": "stream",
     "text": [
      "Group 0\n",
      "At round 26 accuracy: 0.7958115183246073\n",
      "At round 26 training accuracy: 0.8027863777089783\n",
      "At round 26 training loss: 0.6833502483118798\n",
      "Group 1\n",
      "At round 26 accuracy: 0.7385159010600707\n",
      "At round 26 training accuracy: 0.7172182656053624\n",
      "At round 26 training loss: 0.6893827825797169\n",
      "Group 2\n",
      "At round 26 accuracy: 0.8265895953757225\n",
      "At round 26 training accuracy: 0.840231419670672\n",
      "At round 26 training loss: 0.5417583520193868\n",
      "Group 3\n",
      "At round 26 accuracy: 0.9313304721030042\n",
      "At round 26 training accuracy: 0.9281110560237977\n",
      "At round 26 training loss: 0.3362261766348963\n",
      "Group 4\n",
      "At round 26 accuracy: 0.5581854043392505\n",
      "At round 26 training accuracy: 0.5595154903331004\n",
      "At round 26 training loss: 1.1288011025055122\n",
      "At round 26 mean test accuracy: 0.7494802494802495 mean train accuracy: 0.7523902320199745\n",
      "The groups difference are: [0.         3.87616338 3.12525432 3.92235113 3.36290524]\n",
      "Begin group  0 training\n"
     ]
    },
    {
     "name": "stderr",
     "output_type": "stream",
     "text": [
      "Epoch:  60%|█████████████████████████████████████████████                              | 12/20 [00:00<00:00, 119.42it/s]"
     ]
    },
    {
     "name": "stdout",
     "output_type": "stream",
     "text": [
      "Begin group  1 training\n"
     ]
    },
    {
     "name": "stderr",
     "output_type": "stream",
     "text": [
      "Epoch:   0%|                                                                                     | 0/20 [00:00<?, ?it/s]"
     ]
    },
    {
     "name": "stdout",
     "output_type": "stream",
     "text": [
      "Begin group  2 training\n",
      "Begin group  3 training\n"
     ]
    },
    {
     "name": "stderr",
     "output_type": "stream",
     "text": [
      "Epoch:   0%|                                                                                     | 0/20 [00:00<?, ?it/s]"
     ]
    },
    {
     "name": "stdout",
     "output_type": "stream",
     "text": [
      "Begin group  4 training\n"
     ]
    },
    {
     "name": "stderr",
     "output_type": "stream",
     "text": [
      "                                                                                                                        \r"
     ]
    },
    {
     "name": "stdout",
     "output_type": "stream",
     "text": [
      "Group 0, clients ['f_00103', 'f_00074', 'f_00173']\n",
      "Group 1, clients ['f_00048', 'f_00148', 'f_00109', 'f_00139', 'f_00068', 'f_00078', 'f_00058', 'f_00009']\n",
      "Group 2, clients ['f_00162', 'f_00101', 'f_00012']\n",
      "Group 3, clients ['f_00040', 'f_00090']\n",
      "Group 4, clients ['f_00185', 'f_00197', 'f_00165', 'f_00095']\n"
     ]
    },
    {
     "name": "stderr",
     "output_type": "stream",
     "text": [
      "Epoch:  70%|████████████████████████████████████████████████████▌                      | 14/20 [00:00<00:00, 138.52it/s]"
     ]
    },
    {
     "name": "stdout",
     "output_type": "stream",
     "text": [
      "Group 0\n",
      "At round 27 accuracy: 0.7853403141361257\n",
      "At round 27 training accuracy: 0.8006191950464396\n",
      "At round 27 training loss: 0.5454251457017273\n",
      "Group 1\n",
      "At round 27 accuracy: 0.7137809187279152\n",
      "At round 27 training accuracy: 0.6518642647674906\n",
      "At round 27 training loss: 0.92756077995548\n",
      "Group 2\n",
      "At round 27 accuracy: 0.6782273603082851\n",
      "At round 27 training accuracy: 0.6773475745438362\n",
      "At round 27 training loss: 0.8667397109412808\n",
      "Group 3\n",
      "At round 27 accuracy: 0.927038626609442\n",
      "At round 27 training accuracy: 0.924640555280119\n",
      "At round 27 training loss: 0.33596879993710826\n",
      "Group 4\n",
      "At round 27 accuracy: 0.6449704142011834\n",
      "At round 27 training accuracy: 0.6710924761239226\n",
      "At round 27 training loss: 0.9604463414409459\n",
      "At round 27 mean test accuracy: 0.7260914760914761 mean train accuracy: 0.7266305340722246\n",
      "The groups difference are: [0.         3.93707704 3.17109314 3.94529179 3.40279783]\n",
      "Begin group  0 training\n"
     ]
    },
    {
     "name": "stderr",
     "output_type": "stream",
     "text": [
      "Epoch:   0%|                                                                                     | 0/20 [00:00<?, ?it/s]"
     ]
    },
    {
     "name": "stdout",
     "output_type": "stream",
     "text": [
      "Begin group  1 training\n"
     ]
    },
    {
     "name": "stderr",
     "output_type": "stream",
     "text": [
      "Epoch:   0%|                                                                                     | 0/20 [00:00<?, ?it/s]"
     ]
    },
    {
     "name": "stdout",
     "output_type": "stream",
     "text": [
      "Begin group  2 training\n"
     ]
    },
    {
     "name": "stderr",
     "output_type": "stream",
     "text": [
      "Epoch:  40%|██████████████████████████████▊                                              | 8/20 [00:00<00:00, 71.89it/s]"
     ]
    },
    {
     "name": "stdout",
     "output_type": "stream",
     "text": [
      "Begin group  3 training\n"
     ]
    },
    {
     "name": "stderr",
     "output_type": "stream",
     "text": [
      "Epoch:   0%|                                                                                     | 0/20 [00:00<?, ?it/s]"
     ]
    },
    {
     "name": "stdout",
     "output_type": "stream",
     "text": [
      "Begin group  4 training\n"
     ]
    },
    {
     "name": "stderr",
     "output_type": "stream",
     "text": [
      "                                                                                                                        \r"
     ]
    },
    {
     "name": "stdout",
     "output_type": "stream",
     "text": [
      "Group 0, clients ['f_00024', 'f_00073', 'f_00134', 'f_00164']\n",
      "Group 1, clients ['f_00168', 'f_00128', 'f_00059', 'f_00099', 'f_00069', 'f_00098']\n",
      "Group 2, clients ['f_00061', 'f_00051']\n",
      "Group 3, clients ['f_00170']\n",
      "Group 4, clients ['f_00067', 'f_00065', 'f_00187', 'f_00127', 'f_00075', 'f_00126', 'f_00177']\n"
     ]
    },
    {
     "name": "stderr",
     "output_type": "stream",
     "text": [
      "Epoch:  20%|███████████████▍                                                             | 4/20 [00:00<00:00, 33.22it/s]"
     ]
    },
    {
     "name": "stdout",
     "output_type": "stream",
     "text": [
      "Group 0\n",
      "At round 28 accuracy: 0.8115183246073299\n",
      "At round 28 training accuracy: 0.8359133126934984\n",
      "At round 28 training loss: 0.4588621313265603\n",
      "Group 1\n",
      "At round 28 accuracy: 0.7632508833922261\n",
      "At round 28 training accuracy: 0.7431922915793884\n",
      "At round 28 training loss: 0.7099654667288576\n",
      "Group 2\n",
      "At round 28 accuracy: 0.7630057803468208\n",
      "At round 28 training accuracy: 0.7730307076101469\n",
      "At round 28 training loss: 0.5458190017307287\n",
      "Group 3\n",
      "At round 28 accuracy: 0.9313304721030042\n",
      "At round 28 training accuracy: 0.9310857709469509\n",
      "At round 28 training loss: 0.3268151940112074\n",
      "Group 4\n",
      "At round 28 accuracy: 0.6390532544378699\n",
      "At round 28 training accuracy: 0.6699277894246448\n",
      "At round 28 training loss: 0.8410775680073264\n",
      "At round 28 mean test accuracy: 0.7603950103950103 mean train accuracy: 0.7735217100054808\n",
      "The groups difference are: [0.         3.95404195 3.17282248 3.99196806 3.40947216]\n",
      "Begin group  0 training\n"
     ]
    },
    {
     "name": "stderr",
     "output_type": "stream",
     "text": [
      "Epoch:   0%|                                                                                     | 0/20 [00:00<?, ?it/s]"
     ]
    },
    {
     "name": "stdout",
     "output_type": "stream",
     "text": [
      "Begin group  1 training\n"
     ]
    },
    {
     "name": "stderr",
     "output_type": "stream",
     "text": [
      "Epoch:   0%|                                                                                     | 0/20 [00:00<?, ?it/s]"
     ]
    },
    {
     "name": "stdout",
     "output_type": "stream",
     "text": [
      "Begin group  2 training\n",
      "Begin group  3 training\n"
     ]
    },
    {
     "name": "stderr",
     "output_type": "stream",
     "text": [
      "Epoch:  20%|███████████████▍                                                             | 4/20 [00:00<00:00, 34.26it/s]"
     ]
    },
    {
     "name": "stdout",
     "output_type": "stream",
     "text": [
      "Begin group  4 training\n"
     ]
    },
    {
     "name": "stderr",
     "output_type": "stream",
     "text": [
      "                                                                                                                        \r"
     ]
    },
    {
     "name": "stdout",
     "output_type": "stream",
     "text": [
      "Group 0, clients ['f_00183', 'f_00053', 'f_00063']\n",
      "Group 1, clients ['f_00119', 'f_00088', 'f_00008', 'f_00138', 'f_00198', 'f_00128']\n",
      "Group 2, clients ['f_00141', 'f_00061', 'f_00101', 'f_00161']\n",
      "Group 3 is empty.\n",
      "Group 4, clients ['f_00145', 'f_00197', 'f_00075', 'f_00135', 'f_00027', 'f_00165', 'f_00126']\n"
     ]
    },
    {
     "name": "stderr",
     "output_type": "stream",
     "text": [
      "Epoch:   0%|                                                                                     | 0/20 [00:00<?, ?it/s]"
     ]
    },
    {
     "name": "stdout",
     "output_type": "stream",
     "text": [
      "Group 0\n",
      "At round 29 accuracy: 0.7617801047120419\n",
      "At round 29 training accuracy: 0.7777089783281734\n",
      "At round 29 training loss: 0.5753245729964584\n",
      "Group 1\n",
      "At round 29 accuracy: 0.7561837455830389\n",
      "At round 29 training accuracy: 0.7126099706744868\n",
      "At round 29 training loss: 0.7491158766505805\n",
      "Group 2\n",
      "At round 29 accuracy: 0.7013487475915221\n",
      "At round 29 training accuracy: 0.7024922118380063\n",
      "At round 29 training loss: 0.9258883611183459\n",
      "Group 3\n",
      "At round 29 accuracy: 0.9313304721030042\n",
      "At round 29 training accuracy: 0.9345562716906296\n",
      "At round 29 training loss: 0.3304558760483311\n",
      "Group 4\n",
      "At round 29 accuracy: 0.5660749506903353\n",
      "At round 29 training accuracy: 0.5895644071744701\n",
      "At round 29 training loss: 1.1414756386076796\n",
      "At round 29 mean test accuracy: 0.7136174636174636 mean train accuracy: 0.7177394799342306\n",
      "The groups difference are: [0.         4.07391304 3.27024424 4.07095578 3.54080503]\n",
      "Begin group  0 training\n"
     ]
    },
    {
     "name": "stderr",
     "output_type": "stream",
     "text": [
      "Epoch:   0%|                                                                                     | 0/20 [00:00<?, ?it/s]"
     ]
    },
    {
     "name": "stdout",
     "output_type": "stream",
     "text": [
      "Begin group  1 training\n"
     ]
    },
    {
     "name": "stderr",
     "output_type": "stream",
     "text": [
      "Epoch:   0%|                                                                                     | 0/20 [00:00<?, ?it/s]"
     ]
    },
    {
     "name": "stdout",
     "output_type": "stream",
     "text": [
      "Begin group  2 training\n"
     ]
    },
    {
     "name": "stderr",
     "output_type": "stream",
     "text": [
      "Epoch:   0%|                                                                                     | 0/20 [00:00<?, ?it/s]"
     ]
    },
    {
     "name": "stdout",
     "output_type": "stream",
     "text": [
      "Begin group  4 training\n"
     ]
    },
    {
     "name": "stderr",
     "output_type": "stream",
     "text": [
      "                                                                                                                        \r"
     ]
    },
    {
     "name": "stdout",
     "output_type": "stream",
     "text": [
      "Group 0, clients ['f_00143', 'f_00124', 'f_00024', 'f_00184', 'f_00063', 'f_00093', 'f_00183']\n",
      "Group 1, clients ['f_00129', 'f_00097']\n",
      "Group 2, clients ['f_00081', 'f_00142', 'f_00171', 'f_00072', 'f_00021', 'f_00111']\n",
      "Group 3, clients ['f_00150']\n",
      "Group 4, clients ['f_00026', 'f_00126', 'f_00067', 'f_00106']\n"
     ]
    },
    {
     "name": "stderr",
     "output_type": "stream",
     "text": [
      "Epoch:   0%|                                                                                     | 0/20 [00:00<?, ?it/s]"
     ]
    },
    {
     "name": "stdout",
     "output_type": "stream",
     "text": [
      "Group 0\n",
      "At round 30 accuracy: 0.8089005235602095\n",
      "At round 30 training accuracy: 0.8089783281733746\n",
      "At round 30 training loss: 0.9561253866820881\n",
      "Group 1\n",
      "At round 30 accuracy: 0.7809187279151943\n",
      "At round 30 training accuracy: 0.7620444072056975\n",
      "At round 30 training loss: 0.6426610578090315\n",
      "Group 2\n",
      "At round 30 accuracy: 0.6994219653179191\n",
      "At round 30 training accuracy: 0.7000445037828216\n",
      "At round 30 training loss: 1.0703249647450754\n",
      "Group 3\n",
      "At round 30 accuracy: 0.9313304721030042\n",
      "At round 30 training accuracy: 0.9345562716906296\n",
      "At round 30 training loss: 0.3315361644380094\n",
      "Group 4\n",
      "At round 30 accuracy: 0.6173570019723866\n",
      "At round 30 training accuracy: 0.6142557651991615\n",
      "At round 30 training loss: 1.0872887763531647\n",
      "At round 30 mean test accuracy: 0.7396049896049897 mean train accuracy: 0.7368613360940259\n",
      "The groups difference are: [0.         4.16003754 3.30859866 4.13868857 3.61820321]\n",
      "Begin group  0 training\n"
     ]
    },
    {
     "name": "stderr",
     "output_type": "stream",
     "text": [
      "Epoch:   0%|                                                                                     | 0/20 [00:00<?, ?it/s]"
     ]
    },
    {
     "name": "stdout",
     "output_type": "stream",
     "text": [
      "Begin group  1 training\n",
      "Begin group  2 training\n"
     ]
    },
    {
     "name": "stderr",
     "output_type": "stream",
     "text": [
      "Epoch:  70%|████████████████████████████████████████████████████▌                      | 14/20 [00:00<00:00, 135.42it/s]"
     ]
    },
    {
     "name": "stdout",
     "output_type": "stream",
     "text": [
      "Begin group  3 training\n",
      "Begin group  4 training\n"
     ]
    },
    {
     "name": "stderr",
     "output_type": "stream",
     "text": [
      "                                                                                                                        \r"
     ]
    },
    {
     "name": "stdout",
     "output_type": "stream",
     "text": [
      "Group 0, clients ['f_00043']\n",
      "Group 1, clients ['f_00148', 'f_00008', 'f_00079', 'f_00179', 'f_00169', 'f_00139', 'f_00189', 'f_00118']\n",
      "Group 2, clients ['f_00102', 'f_00041']\n",
      "Group 3, clients ['f_00010']\n",
      "Group 4, clients ['f_00137', 'f_00147', 'f_00056', 'f_00055', 'f_00045', 'f_00017', 'f_00157', 'f_00096']\n"
     ]
    },
    {
     "name": "stderr",
     "output_type": "stream",
     "text": [
      "Epoch:   0%|                                                                                     | 0/20 [00:00<?, ?it/s]"
     ]
    },
    {
     "name": "stdout",
     "output_type": "stream",
     "text": [
      "Group 0\n",
      "At round 31 accuracy: 0.7774869109947644\n",
      "At round 31 training accuracy: 0.7808049535603715\n",
      "At round 31 training loss: 0.5793802395601391\n",
      "Group 1\n",
      "At round 31 accuracy: 0.7455830388692579\n",
      "At round 31 training accuracy: 0.7427733556765815\n",
      "At round 31 training loss: 0.7234152092574578\n",
      "Group 2\n",
      "At round 31 accuracy: 0.7418111753371869\n",
      "At round 31 training accuracy: 0.7363150867823764\n",
      "At round 31 training loss: 0.6140733371456836\n",
      "Group 3\n",
      "At round 31 accuracy: 0.927038626609442\n",
      "At round 31 training accuracy: 0.9276152702032722\n",
      "At round 31 training loss: 0.32742663325504556\n",
      "Group 4\n",
      "At round 31 accuracy: 0.5838264299802761\n",
      "At round 31 training accuracy: 0.5949219659911483\n",
      "At round 31 training loss: 1.3989898881419622\n",
      "At round 31 mean test accuracy: 0.7302494802494802 mean train accuracy: 0.7325376042871933\n",
      "The groups difference are: [0.         4.18341888 3.33236914 4.15487964 3.72803664]\n",
      "Begin group  0 training\n",
      "Begin group  1 training\n"
     ]
    },
    {
     "name": "stderr",
     "output_type": "stream",
     "text": [
      "Epoch:  30%|███████████████████████                                                      | 6/20 [00:00<00:00, 51.39it/s]"
     ]
    },
    {
     "name": "stdout",
     "output_type": "stream",
     "text": [
      "Begin group  2 training\n"
     ]
    },
    {
     "name": "stderr",
     "output_type": "stream",
     "text": [
      "Epoch:  35%|██████████████████████████▉                                                  | 7/20 [00:00<00:00, 64.71it/s]"
     ]
    },
    {
     "name": "stdout",
     "output_type": "stream",
     "text": [
      "Begin group  3 training\n"
     ]
    },
    {
     "name": "stderr",
     "output_type": "stream",
     "text": [
      "Epoch:   0%|                                                                                     | 0/20 [00:00<?, ?it/s]"
     ]
    },
    {
     "name": "stdout",
     "output_type": "stream",
     "text": [
      "Begin group  4 training\n"
     ]
    },
    {
     "name": "stderr",
     "output_type": "stream",
     "text": [
      "                                                                                                                        \r"
     ]
    },
    {
     "name": "stdout",
     "output_type": "stream",
     "text": [
      "Group 0, clients ['f_00144', 'f_00023', 'f_00173']\n",
      "Group 1, clients ['f_00029', 'f_00028', 'f_00039', 'f_00109', 'f_00118']\n",
      "Group 2, clients ['f_00122', 'f_00101', 'f_00121', 'f_00182', 'f_00181', 'f_00002']\n",
      "Group 3 is empty.\n",
      "Group 4, clients ['f_00186', 'f_00167', 'f_00075', 'f_00027', 'f_00107', 'f_00017']\n"
     ]
    },
    {
     "name": "stderr",
     "output_type": "stream",
     "text": [
      "Epoch:   0%|                                                                                     | 0/20 [00:00<?, ?it/s]"
     ]
    },
    {
     "name": "stdout",
     "output_type": "stream",
     "text": [
      "Group 0\n",
      "At round 32 accuracy: 0.8036649214659686\n",
      "At round 32 training accuracy: 0.8055727554179567\n",
      "At round 32 training loss: 0.6719908345871296\n",
      "Group 1\n",
      "At round 32 accuracy: 0.7243816254416962\n",
      "At round 32 training accuracy: 0.7029744449099288\n",
      "At round 32 training loss: 0.8547419369420498\n",
      "Group 2\n",
      "At round 32 accuracy: 0.8304431599229287\n",
      "At round 32 training accuracy: 0.8179795282599021\n",
      "At round 32 training loss: 0.6060889735121593\n",
      "Group 3\n",
      "At round 32 accuracy: 0.9313304721030042\n",
      "At round 32 training accuracy: 0.9300941993058999\n",
      "At round 32 training loss: 0.3231361720251103\n",
      "Group 4\n",
      "At round 32 accuracy: 0.6351084812623274\n",
      "At round 32 training accuracy: 0.6780805963195901\n",
      "At round 32 training loss: 0.8955691274148779\n",
      "At round 32 mean test accuracy: 0.7702702702702703 mean train accuracy: 0.776018512879849\n",
      "The groups difference are: [0.         4.21419448 3.33099986 4.21143626 3.72937562]\n",
      "Begin group  0 training\n"
     ]
    },
    {
     "name": "stderr",
     "output_type": "stream",
     "text": [
      "Epoch:   0%|                                                                                     | 0/20 [00:00<?, ?it/s]"
     ]
    },
    {
     "name": "stdout",
     "output_type": "stream",
     "text": [
      "Begin group  1 training\n"
     ]
    },
    {
     "name": "stderr",
     "output_type": "stream",
     "text": [
      "Epoch:  30%|███████████████████████                                                      | 6/20 [00:00<00:00, 51.51it/s]"
     ]
    },
    {
     "name": "stdout",
     "output_type": "stream",
     "text": [
      "Begin group  2 training\n"
     ]
    },
    {
     "name": "stderr",
     "output_type": "stream",
     "text": [
      "Epoch:   0%|                                                                                     | 0/20 [00:00<?, ?it/s]"
     ]
    },
    {
     "name": "stdout",
     "output_type": "stream",
     "text": [
      "Begin group  4 training\n"
     ]
    },
    {
     "name": "stderr",
     "output_type": "stream",
     "text": [
      "                                                                                                                        \r"
     ]
    },
    {
     "name": "stdout",
     "output_type": "stream",
     "text": [
      "Group 0, clients ['f_00103', 'f_00054']\n",
      "Group 1, clients ['f_00119', 'f_00109', 'f_00008', 'f_00118', 'f_00038', 'f_00029', 'f_00149', 'f_00189']\n",
      "Group 2, clients ['f_00171', 'f_00162', 'f_00081']\n",
      "Group 3, clients ['f_00100']\n",
      "Group 4, clients ['f_00015', 'f_00116', 'f_00017', 'f_00117', 'f_00126', 'f_00085']\n"
     ]
    },
    {
     "name": "stderr",
     "output_type": "stream",
     "text": [
      "Epoch:   0%|                                                                                     | 0/20 [00:00<?, ?it/s]"
     ]
    },
    {
     "name": "stdout",
     "output_type": "stream",
     "text": [
      "Group 0\n",
      "At round 33 accuracy: 0.7958115183246073\n",
      "At round 33 training accuracy: 0.8006191950464396\n",
      "At round 33 training loss: 0.6380103354529699\n",
      "Group 1\n",
      "At round 33 accuracy: 0.7420494699646644\n",
      "At round 33 training accuracy: 0.6950146627565983\n",
      "At round 33 training loss: 0.7624625716316286\n",
      "Group 2\n",
      "At round 33 accuracy: 0.7167630057803468\n",
      "At round 33 training accuracy: 0.7145082331998219\n",
      "At round 33 training loss: 0.6428604505104015\n",
      "Group 3\n",
      "At round 33 accuracy: 0.9313304721030042\n",
      "At round 33 training accuracy: 0.9300941993058999\n",
      "At round 33 training loss: 0.3242583387578899\n",
      "Group 4\n",
      "At round 33 accuracy: 0.6607495069033531\n",
      "At round 33 training accuracy: 0.6857675285348241\n",
      "At round 33 training loss: 0.7413420667466155\n",
      "At round 33 mean test accuracy: 0.7474012474012474 mean train accuracy: 0.7475793191644845\n",
      "The groups difference are: [0.         4.26064068 3.37906044 4.21598784 3.74712399]\n",
      "Begin group  0 training\n",
      "Begin group  1 training\n"
     ]
    },
    {
     "name": "stderr",
     "output_type": "stream",
     "text": [
      "Epoch:   0%|                                                                                     | 0/20 [00:00<?, ?it/s]"
     ]
    },
    {
     "name": "stdout",
     "output_type": "stream",
     "text": [
      "Begin group  2 training\n"
     ]
    },
    {
     "name": "stderr",
     "output_type": "stream",
     "text": [
      "Epoch:  40%|██████████████████████████████▊                                              | 8/20 [00:00<00:00, 71.38it/s]"
     ]
    },
    {
     "name": "stdout",
     "output_type": "stream",
     "text": [
      "Begin group  3 training\n"
     ]
    },
    {
     "name": "stderr",
     "output_type": "stream",
     "text": [
      "Epoch:   0%|                                                                                     | 0/20 [00:00<?, ?it/s]"
     ]
    },
    {
     "name": "stdout",
     "output_type": "stream",
     "text": [
      "Begin group  4 training\n"
     ]
    },
    {
     "name": "stderr",
     "output_type": "stream",
     "text": [
      "                                                                                                                        \r"
     ]
    },
    {
     "name": "stdout",
     "output_type": "stream",
     "text": [
      "Group 0, clients ['f_00074', 'f_00183', 'f_00184', 'f_00064', 'f_00003', 'f_00113']\n",
      "Group 1, clients ['f_00079', 'f_00129', 'f_00189', 'f_00169', 'f_00097']\n",
      "Group 2, clients ['f_00142']\n",
      "Group 3, clients ['f_00010', 'f_00180', 'f_00040']\n",
      "Group 4, clients ['f_00195', 'f_00087', 'f_00166', 'f_00076', 'f_00026']\n"
     ]
    },
    {
     "name": "stderr",
     "output_type": "stream",
     "text": [
      "Epoch:   0%|                                                                                     | 0/20 [00:00<?, ?it/s]"
     ]
    },
    {
     "name": "stdout",
     "output_type": "stream",
     "text": [
      "Group 0\n",
      "At round 34 accuracy: 0.7984293193717278\n",
      "At round 34 training accuracy: 0.8071207430340557\n",
      "At round 34 training loss: 0.5165095090266352\n",
      "Group 1\n",
      "At round 34 accuracy: 0.8056537102473498\n",
      "At round 34 training accuracy: 0.7750314201927105\n",
      "At round 34 training loss: 0.5789392665933754\n",
      "Group 2\n",
      "At round 34 accuracy: 0.7341040462427746\n",
      "At round 34 training accuracy: 0.7294170004450379\n",
      "At round 34 training loss: 0.7170782811909874\n",
      "Group 3\n",
      "At round 34 accuracy: 0.8841201716738197\n",
      "At round 34 training accuracy: 0.8720872583044125\n",
      "At round 34 training loss: 0.3724809780340119\n",
      "Group 4\n",
      "At round 34 accuracy: 0.6686390532544378\n",
      "At round 34 training accuracy: 0.7078965758211041\n",
      "At round 34 training loss: 0.7882052149676566\n",
      "At round 34 mean test accuracy: 0.7583160083160083 mean train accuracy: 0.7632300103525973\n",
      "The groups difference are: [0.         4.28385318 3.39059408 4.25796189 3.73922407]\n",
      "Begin group  0 training\n"
     ]
    },
    {
     "name": "stderr",
     "output_type": "stream",
     "text": [
      "Epoch:   0%|                                                                                     | 0/20 [00:00<?, ?it/s]"
     ]
    },
    {
     "name": "stdout",
     "output_type": "stream",
     "text": [
      "Begin group  1 training\n"
     ]
    },
    {
     "name": "stderr",
     "output_type": "stream",
     "text": [
      "Epoch:  35%|██████████████████████████▉                                                  | 7/20 [00:00<00:00, 68.04it/s]"
     ]
    },
    {
     "name": "stdout",
     "output_type": "stream",
     "text": [
      "Begin group  2 training\n",
      "Begin group  3 training\n"
     ]
    },
    {
     "name": "stderr",
     "output_type": "stream",
     "text": [
      "Epoch:   0%|                                                                                     | 0/20 [00:00<?, ?it/s]"
     ]
    },
    {
     "name": "stdout",
     "output_type": "stream",
     "text": [
      "Begin group  4 training\n"
     ]
    },
    {
     "name": "stderr",
     "output_type": "stream",
     "text": [
      "                                                                                                                        \r"
     ]
    },
    {
     "name": "stdout",
     "output_type": "stream",
     "text": [
      "Group 0, clients ['f_00133', 'f_00154', 'f_00164', 'f_00003', 'f_00043', 'f_00074']\n",
      "Group 1, clients ['f_00049', 'f_00068', 'f_00028', 'f_00179']\n",
      "Group 2, clients ['f_00142', 'f_00102']\n",
      "Group 3, clients ['f_00130', 'f_00010']\n",
      "Group 4, clients ['f_00136', 'f_00096', 'f_00077', 'f_00127', 'f_00087', 'f_00156']\n"
     ]
    },
    {
     "name": "stderr",
     "output_type": "stream",
     "text": [
      "Epoch:  40%|██████████████████████████████▊                                              | 8/20 [00:00<00:00, 72.14it/s]"
     ]
    },
    {
     "name": "stdout",
     "output_type": "stream",
     "text": [
      "Group 0\n",
      "At round 35 accuracy: 0.8036649214659686\n",
      "At round 35 training accuracy: 0.8328173374613003\n",
      "At round 35 training loss: 0.44625467680648384\n",
      "Group 1\n",
      "At round 35 accuracy: 0.8127208480565371\n",
      "At round 35 training accuracy: 0.7825722664432342\n",
      "At round 35 training loss: 0.8995761921715926\n",
      "Group 2\n",
      "At round 35 accuracy: 0.838150289017341\n",
      "At round 35 training accuracy: 0.8457943925233645\n",
      "At round 35 training loss: 0.47478326997281606\n",
      "Group 3\n",
      "At round 35 accuracy: 0.9184549356223176\n",
      "At round 35 training accuracy: 0.9122459097669806\n",
      "At round 35 training loss: 0.3019636113660195\n",
      "Group 4\n",
      "At round 35 accuracy: 0.621301775147929\n",
      "At round 35 training accuracy: 0.6342883764267412\n",
      "At round 35 training loss: 1.1371939132367985\n",
      "At round 35 mean test accuracy: 0.7801455301455301 mean train accuracy: 0.7869191888435539\n",
      "The groups difference are: [0.         4.31024001 3.39206172 4.31412348 3.80216819]\n",
      "Begin group  0 training\n"
     ]
    },
    {
     "name": "stderr",
     "output_type": "stream",
     "text": [
      "Epoch:  70%|████████████████████████████████████████████████████▌                      | 14/20 [00:00<00:00, 132.79it/s]"
     ]
    },
    {
     "name": "stdout",
     "output_type": "stream",
     "text": [
      "Begin group  1 training\n"
     ]
    },
    {
     "name": "stderr",
     "output_type": "stream",
     "text": [
      "Epoch:  30%|███████████████████████                                                      | 6/20 [00:00<00:00, 55.36it/s]"
     ]
    },
    {
     "name": "stdout",
     "output_type": "stream",
     "text": [
      "Begin group  2 training\n"
     ]
    },
    {
     "name": "stderr",
     "output_type": "stream",
     "text": [
      "Epoch:  40%|██████████████████████████████▊                                              | 8/20 [00:00<00:00, 73.47it/s]"
     ]
    },
    {
     "name": "stdout",
     "output_type": "stream",
     "text": [
      "Begin group  3 training\n"
     ]
    },
    {
     "name": "stderr",
     "output_type": "stream",
     "text": [
      "Epoch:  45%|██████████████████████████████████▋                                          | 9/20 [00:00<00:00, 84.90it/s]"
     ]
    },
    {
     "name": "stdout",
     "output_type": "stream",
     "text": [
      "Begin group  4 training\n"
     ]
    },
    {
     "name": "stderr",
     "output_type": "stream",
     "text": [
      "                                                                                                                        \r"
     ]
    },
    {
     "name": "stdout",
     "output_type": "stream",
     "text": [
      "Group 0, clients ['f_00184', 'f_00143', 'f_00014', 'f_00053', 'f_00074']\n",
      "Group 1, clients ['f_00097', 'f_00198', 'f_00058', 'f_00139']\n",
      "Group 2, clients ['f_00052', 'f_00092', 'f_00061']\n",
      "Group 3, clients ['f_00010']\n",
      "Group 4, clients ['f_00106', 'f_00155', 'f_00085', 'f_00077', 'f_00156', 'f_00075', 'f_00056']\n"
     ]
    },
    {
     "name": "stderr",
     "output_type": "stream",
     "text": [
      "Epoch:   0%|                                                                                     | 0/20 [00:00<?, ?it/s]"
     ]
    },
    {
     "name": "stdout",
     "output_type": "stream",
     "text": [
      "Group 0\n",
      "At round 36 accuracy: 0.8036649214659686\n",
      "At round 36 training accuracy: 0.7826625386996904\n",
      "At round 36 training loss: 0.8041044251376261\n",
      "Group 1\n",
      "At round 36 accuracy: 0.7243816254416962\n",
      "At round 36 training accuracy: 0.6950146627565983\n",
      "At round 36 training loss: 0.7005786313189589\n",
      "Group 2\n",
      "At round 36 accuracy: 0.8285163776493256\n",
      "At round 36 training accuracy: 0.8255451713395638\n",
      "At round 36 training loss: 0.6295170822327116\n",
      "Group 3\n",
      "At round 36 accuracy: 0.9356223175965666\n",
      "At round 36 training accuracy: 0.9305899851264254\n",
      "At round 36 training loss: 0.29790873663018824\n",
      "Group 4\n",
      "At round 36 accuracy: 0.6193293885601578\n",
      "At round 36 training accuracy: 0.6370836245050081\n",
      "At round 36 training loss: 1.194555496193439\n",
      "At round 36 mean test accuracy: 0.7661122661122661 mean train accuracy: 0.7617684672066256\n",
      "The groups difference are: [0.         4.37793279 3.48594772 4.41496877 3.87753085]\n",
      "Begin group  0 training\n"
     ]
    },
    {
     "name": "stderr",
     "output_type": "stream",
     "text": [
      "Epoch:   0%|                                                                                     | 0/20 [00:00<?, ?it/s]"
     ]
    },
    {
     "name": "stdout",
     "output_type": "stream",
     "text": [
      "Begin group  1 training\n"
     ]
    },
    {
     "name": "stderr",
     "output_type": "stream",
     "text": [
      "Epoch:  25%|███████████████████▎                                                         | 5/20 [00:00<00:00, 49.00it/s]"
     ]
    },
    {
     "name": "stdout",
     "output_type": "stream",
     "text": [
      "Begin group  2 training\n"
     ]
    },
    {
     "name": "stderr",
     "output_type": "stream",
     "text": [
      "Epoch:  30%|███████████████████████                                                      | 6/20 [00:00<00:00, 58.38it/s]"
     ]
    },
    {
     "name": "stdout",
     "output_type": "stream",
     "text": [
      "Begin group  3 training\n"
     ]
    },
    {
     "name": "stderr",
     "output_type": "stream",
     "text": [
      "Epoch:   0%|                                                                                     | 0/20 [00:00<?, ?it/s]"
     ]
    },
    {
     "name": "stdout",
     "output_type": "stream",
     "text": [
      "Begin group  4 training\n"
     ]
    },
    {
     "name": "stderr",
     "output_type": "stream",
     "text": [
      "                                                                                                                        \r"
     ]
    },
    {
     "name": "stdout",
     "output_type": "stream",
     "text": [
      "Group 0, clients ['f_00183', 'f_00004', 'f_00153', 'f_00003', 'f_00114', 'f_00174']\n",
      "Group 1, clients ['f_00069', 'f_00078']\n",
      "Group 2, clients ['f_00121', 'f_00132', 'f_00002', 'f_00102', 'f_00081']\n",
      "Group 3, clients ['f_00150', 'f_00070', 'f_00020']\n",
      "Group 4, clients ['f_00187', 'f_00125', 'f_00146', 'f_00195']\n"
     ]
    },
    {
     "name": "stderr",
     "output_type": "stream",
     "text": [
      "Epoch:   0%|                                                                                     | 0/20 [00:00<?, ?it/s]"
     ]
    },
    {
     "name": "stdout",
     "output_type": "stream",
     "text": [
      "Group 0\n",
      "At round 37 accuracy: 0.806282722513089\n",
      "At round 37 training accuracy: 0.8102167182662539\n",
      "At round 37 training loss: 0.5405700672060344\n",
      "Group 1\n",
      "At round 37 accuracy: 0.784452296819788\n",
      "At round 37 training accuracy: 0.7771260997067448\n",
      "At round 37 training loss: 0.6295427414204319\n",
      "Group 2\n",
      "At round 37 accuracy: 0.8420038535645472\n",
      "At round 37 training accuracy: 0.8457943925233645\n",
      "At round 37 training loss: 0.6087222236511598\n",
      "Group 3\n",
      "At round 37 accuracy: 0.927038626609442\n",
      "At round 37 training accuracy: 0.9147248388696083\n",
      "At round 37 training loss: 0.2938203835286418\n",
      "Group 4\n",
      "At round 37 accuracy: 0.6666666666666666\n",
      "At round 37 training accuracy: 0.6943862101094805\n",
      "At round 37 training loss: 0.8648423890661533\n",
      "At round 37 mean test accuracy: 0.7905405405405406 mean train accuracy: 0.7976980695450947\n",
      "The groups difference are: [0.         4.42315723 3.52357937 4.50888065 3.90976453]\n",
      "Begin group  0 training\n"
     ]
    },
    {
     "name": "stderr",
     "output_type": "stream",
     "text": [
      "Epoch:   0%|                                                                                     | 0/20 [00:00<?, ?it/s]"
     ]
    },
    {
     "name": "stdout",
     "output_type": "stream",
     "text": [
      "Begin group  1 training\n"
     ]
    },
    {
     "name": "stderr",
     "output_type": "stream",
     "text": [
      "Epoch:  30%|███████████████████████                                                      | 6/20 [00:00<00:00, 54.73it/s]"
     ]
    },
    {
     "name": "stdout",
     "output_type": "stream",
     "text": [
      "Begin group  2 training\n"
     ]
    },
    {
     "name": "stderr",
     "output_type": "stream",
     "text": [
      "Epoch:  25%|███████████████████▎                                                         | 5/20 [00:00<00:00, 45.90it/s]"
     ]
    },
    {
     "name": "stdout",
     "output_type": "stream",
     "text": [
      "Begin group  3 training\n"
     ]
    },
    {
     "name": "stderr",
     "output_type": "stream",
     "text": [
      "Epoch:   0%|                                                                                     | 0/20 [00:00<?, ?it/s]"
     ]
    },
    {
     "name": "stdout",
     "output_type": "stream",
     "text": [
      "Begin group  4 training\n"
     ]
    },
    {
     "name": "stderr",
     "output_type": "stream",
     "text": [
      "                                                                                                                        \r"
     ]
    },
    {
     "name": "stdout",
     "output_type": "stream",
     "text": [
      "Group 0, clients ['f_00124', 'f_00084', 'f_00174', 'f_00113']\n",
      "Group 1, clients ['f_00058', 'f_00049']\n",
      "Group 2, clients ['f_00041', 'f_00191', 'f_00152', 'f_00172', 'f_00181', 'f_00011']\n",
      "Group 3, clients ['f_00170', 'f_00120']\n",
      "Group 4, clients ['f_00137', 'f_00197', 'f_00176', 'f_00136', 'f_00117', 'f_00186']\n"
     ]
    },
    {
     "name": "stderr",
     "output_type": "stream",
     "text": [
      "Epoch:  35%|██████████████████████████▉                                                  | 7/20 [00:00<00:00, 64.22it/s]"
     ]
    },
    {
     "name": "stdout",
     "output_type": "stream",
     "text": [
      "Group 0\n",
      "At round 38 accuracy: 0.8534031413612565\n",
      "At round 38 training accuracy: 0.8640866873065015\n",
      "At round 38 training loss: 0.39869448111706846\n",
      "Group 1\n",
      "At round 38 accuracy: 0.7985865724381626\n",
      "At round 38 training accuracy: 0.7670716380393799\n",
      "At round 38 training loss: 0.7696394099880074\n",
      "Group 2\n",
      "At round 38 accuracy: 0.7398843930635838\n",
      "At round 38 training accuracy: 0.7436582109479306\n",
      "At round 38 training loss: 0.5936307382944376\n",
      "Group 3\n",
      "At round 38 accuracy: 0.944206008583691\n",
      "At round 38 training accuracy: 0.9310857709469509\n",
      "At round 38 training loss: 0.2833343063493619\n",
      "Group 4\n",
      "At round 38 accuracy: 0.7001972386587771\n",
      "At round 38 training accuracy: 0.7132541346377824\n",
      "At round 38 training loss: 0.869380493292352\n",
      "At round 38 mean test accuracy: 0.7853430353430353 mean train accuracy: 0.7858230314840753\n",
      "The groups difference are: [0.         4.43730016 3.55910216 4.54862585 3.89959986]\n",
      "Begin group  0 training\n"
     ]
    },
    {
     "name": "stderr",
     "output_type": "stream",
     "text": [
      "Epoch:   0%|                                                                                     | 0/20 [00:00<?, ?it/s]"
     ]
    },
    {
     "name": "stdout",
     "output_type": "stream",
     "text": [
      "Begin group  1 training\n",
      "Begin group  2 training\n"
     ]
    },
    {
     "name": "stderr",
     "output_type": "stream",
     "text": [
      "Epoch:  75%|████████████████████████████████████████████████████████▎                  | 15/20 [00:00<00:00, 146.25it/s]"
     ]
    },
    {
     "name": "stdout",
     "output_type": "stream",
     "text": [
      "Begin group  3 training\n"
     ]
    },
    {
     "name": "stderr",
     "output_type": "stream",
     "text": [
      "Epoch:   0%|                                                                                     | 0/20 [00:00<?, ?it/s]"
     ]
    },
    {
     "name": "stdout",
     "output_type": "stream",
     "text": [
      "Begin group  4 training\n"
     ]
    },
    {
     "name": "stderr",
     "output_type": "stream",
     "text": [
      "                                                                                                                        \r"
     ]
    },
    {
     "name": "stdout",
     "output_type": "stream",
     "text": [
      "Group 0, clients ['f_00173', 'f_00074', 'f_00044', 'f_00083', 'f_00023']\n",
      "Group 1, clients ['f_00128', 'f_00019', 'f_00108']\n",
      "Group 2, clients ['f_00191', 'f_00192', 'f_00002']\n",
      "Group 3, clients ['f_00020', 'f_00160']\n",
      "Group 4, clients ['f_00117', 'f_00125', 'f_00095', 'f_00005', 'f_00006', 'f_00135', 'f_00107']\n"
     ]
    },
    {
     "name": "stderr",
     "output_type": "stream",
     "text": [
      "Epoch:   0%|                                                                                     | 0/20 [00:00<?, ?it/s]"
     ]
    },
    {
     "name": "stdout",
     "output_type": "stream",
     "text": [
      "Group 0\n",
      "At round 39 accuracy: 0.7879581151832461\n",
      "At round 39 training accuracy: 0.7981424148606812\n",
      "At round 39 training loss: 0.5953815094042488\n",
      "Group 1\n",
      "At round 39 accuracy: 0.7667844522968198\n",
      "At round 39 training accuracy: 0.7390029325513197\n",
      "At round 39 training loss: 0.5981925403879534\n",
      "Group 2\n",
      "At round 39 accuracy: 0.766859344894027\n",
      "At round 39 training accuracy: 0.7794837561192701\n",
      "At round 39 training loss: 0.5065738390260768\n",
      "Group 3\n",
      "At round 39 accuracy: 0.9399141630901288\n",
      "At round 39 training accuracy: 0.9345562716906296\n",
      "At round 39 training loss: 0.2814214833017972\n",
      "Group 4\n",
      "At round 39 accuracy: 0.6272189349112426\n",
      "At round 39 training accuracy: 0.6475658047985092\n",
      "At round 39 training loss: 1.004490945136772\n",
      "At round 39 mean test accuracy: 0.7551975051975052 mean train accuracy: 0.7618293648377078\n",
      "The groups difference are: [0.         4.44899365 3.59563715 4.56740237 3.93500599]\n",
      "Begin group  0 training\n"
     ]
    },
    {
     "name": "stderr",
     "output_type": "stream",
     "text": [
      "Epoch:   0%|                                                                                     | 0/20 [00:00<?, ?it/s]"
     ]
    },
    {
     "name": "stdout",
     "output_type": "stream",
     "text": [
      "Begin group  1 training\n"
     ]
    },
    {
     "name": "stderr",
     "output_type": "stream",
     "text": [
      "Epoch:   0%|                                                                                     | 0/20 [00:00<?, ?it/s]"
     ]
    },
    {
     "name": "stdout",
     "output_type": "stream",
     "text": [
      "Begin group  2 training\n"
     ]
    },
    {
     "name": "stderr",
     "output_type": "stream",
     "text": [
      "Epoch:   0%|                                                                                     | 0/20 [00:00<?, ?it/s]"
     ]
    },
    {
     "name": "stdout",
     "output_type": "stream",
     "text": [
      "Begin group  3 training\n"
     ]
    },
    {
     "name": "stderr",
     "output_type": "stream",
     "text": [
      "Epoch:   0%|                                                                                     | 0/20 [00:00<?, ?it/s]"
     ]
    },
    {
     "name": "stdout",
     "output_type": "stream",
     "text": [
      "Begin group  4 training\n"
     ]
    },
    {
     "name": "stderr",
     "output_type": "stream",
     "text": [
      "                                                                                                                        \r"
     ]
    },
    {
     "name": "stdout",
     "output_type": "stream",
     "text": [
      "Group 0, clients ['f_00183', 'f_00054', 'f_00134', 'f_00023']\n",
      "Group 1, clients ['f_00139', 'f_00089']\n",
      "Group 2, clients ['f_00191', 'f_00142', 'f_00171', 'f_00132']\n",
      "Group 3, clients ['f_00160', 'f_00090', 'f_00140']\n",
      "Group 4, clients ['f_00096', 'f_00005', 'f_00116', 'f_00035', 'f_00177', 'f_00026', 'f_00037']\n"
     ]
    },
    {
     "name": "stderr",
     "output_type": "stream",
     "text": [
      "Epoch:   0%|                                                                                     | 0/20 [00:00<?, ?it/s]"
     ]
    },
    {
     "name": "stdout",
     "output_type": "stream",
     "text": [
      "Group 0\n",
      "At round 40 accuracy: 0.8298429319371727\n",
      "At round 40 training accuracy: 0.836532507739938\n",
      "At round 40 training loss: 0.4445644141304604\n",
      "Group 1\n",
      "At round 40 accuracy: 0.7773851590106007\n",
      "At round 40 training accuracy: 0.7486384583158777\n",
      "At round 40 training loss: 0.6176909812085041\n",
      "Group 2\n",
      "At round 40 accuracy: 0.838150289017341\n",
      "At round 40 training accuracy: 0.8455718736092568\n",
      "At round 40 training loss: 0.45021795444638135\n",
      "Group 3\n",
      "At round 40 accuracy: 0.927038626609442\n",
      "At round 40 training accuracy: 0.9157164105106594\n",
      "At round 40 training loss: 0.28600313030201785\n",
      "Group 4\n",
      "At round 40 accuracy: 0.6153846153846154\n",
      "At round 40 training accuracy: 0.6156533892382949\n",
      "At round 40 training loss: 1.017917813189569\n",
      "At round 40 mean test accuracy: 0.7796257796257796 mean train accuracy: 0.7782108275988064\n",
      "The groups difference are: [0.         4.47155142 3.5966004  4.65190551 3.94324294]\n",
      "Begin group  0 training\n"
     ]
    },
    {
     "name": "stderr",
     "output_type": "stream",
     "text": [
      "Epoch:   0%|                                                                                     | 0/20 [00:00<?, ?it/s]"
     ]
    },
    {
     "name": "stdout",
     "output_type": "stream",
     "text": [
      "Begin group  1 training\n",
      "Begin group  2 training\n"
     ]
    },
    {
     "name": "stderr",
     "output_type": "stream",
     "text": [
      "Epoch:  15%|███████████▌                                                                 | 3/20 [00:00<00:00, 26.28it/s]"
     ]
    },
    {
     "name": "stdout",
     "output_type": "stream",
     "text": [
      "Begin group  3 training\n"
     ]
    },
    {
     "name": "stderr",
     "output_type": "stream",
     "text": [
      "Epoch:  50%|██████████████████████████████████████                                      | 10/20 [00:00<00:00, 95.67it/s]"
     ]
    },
    {
     "name": "stdout",
     "output_type": "stream",
     "text": [
      "Begin group  4 training\n"
     ]
    },
    {
     "name": "stderr",
     "output_type": "stream",
     "text": [
      "                                                                                                                        \r"
     ]
    },
    {
     "name": "stdout",
     "output_type": "stream",
     "text": [
      "Group 0, clients ['f_00063', 'f_00014', 'f_00194']\n",
      "Group 1, clients ['f_00168', 'f_00068', 'f_00009', 'f_00118', 'f_00029', 'f_00038']\n",
      "Group 2, clients ['f_00152', 'f_00091', 'f_00051', 'f_00172']\n",
      "Group 3, clients ['f_00030', 'f_00130', 'f_00090']\n",
      "Group 4, clients ['f_00096', 'f_00196', 'f_00165', 'f_00137']\n"
     ]
    },
    {
     "name": "stderr",
     "output_type": "stream",
     "text": [
      "Epoch:   0%|                                                                                     | 0/20 [00:00<?, ?it/s]"
     ]
    },
    {
     "name": "stdout",
     "output_type": "stream",
     "text": [
      "Group 0\n",
      "At round 41 accuracy: 0.824607329842932\n",
      "At round 41 training accuracy: 0.8374613003095975\n",
      "At round 41 training loss: 0.4522939728048195\n",
      "Group 1\n",
      "At round 41 accuracy: 0.8127208480565371\n",
      "At round 41 training accuracy: 0.7825722664432342\n",
      "At round 41 training loss: 0.7742772825502381\n",
      "Group 2\n",
      "At round 41 accuracy: 0.7649325626204239\n",
      "At round 41 training accuracy: 0.7674677347574543\n",
      "At round 41 training loss: 0.5478028309580003\n",
      "Group 3\n",
      "At round 41 accuracy: 0.9098712446351931\n",
      "At round 41 training accuracy: 0.9053049082796232\n",
      "At round 41 training loss: 0.27206793868518075\n",
      "Group 4\n",
      "At round 41 accuracy: 0.6962524654832347\n",
      "At round 41 training accuracy: 0.7167481947356161\n",
      "At round 41 training loss: 0.7400667466068779\n",
      "At round 41 mean test accuracy: 0.7832640332640333 mean train accuracy: 0.7871018817368004\n",
      "The groups difference are: [0.         4.48419364 3.61226554 4.72130278 3.97905557]\n",
      "Begin group  0 training\n"
     ]
    },
    {
     "name": "stderr",
     "output_type": "stream",
     "text": [
      "Epoch:  50%|██████████████████████████████████████                                      | 10/20 [00:00<00:00, 97.91it/s]"
     ]
    },
    {
     "name": "stdout",
     "output_type": "stream",
     "text": [
      "Begin group  1 training\n"
     ]
    },
    {
     "name": "stderr",
     "output_type": "stream",
     "text": [
      "Epoch:  40%|██████████████████████████████▊                                              | 8/20 [00:00<00:00, 71.86it/s]"
     ]
    },
    {
     "name": "stdout",
     "output_type": "stream",
     "text": [
      "Begin group  2 training\n"
     ]
    },
    {
     "name": "stderr",
     "output_type": "stream",
     "text": [
      "Epoch:   0%|                                                                                     | 0/20 [00:00<?, ?it/s]"
     ]
    },
    {
     "name": "stdout",
     "output_type": "stream",
     "text": [
      "Begin group  3 training\n"
     ]
    },
    {
     "name": "stderr",
     "output_type": "stream",
     "text": [
      "Epoch:   0%|                                                                                     | 0/20 [00:00<?, ?it/s]"
     ]
    },
    {
     "name": "stdout",
     "output_type": "stream",
     "text": [
      "Begin group  4 training\n"
     ]
    },
    {
     "name": "stderr",
     "output_type": "stream",
     "text": [
      "                                                                                                                        \r"
     ]
    },
    {
     "name": "stdout",
     "output_type": "stream",
     "text": [
      "Group 0, clients ['f_00174']\n",
      "Group 1, clients ['f_00158', 'f_00128', 'f_00069', 'f_00078', 'f_00068']\n",
      "Group 2, clients ['f_00182', 'f_00152', 'f_00082']\n",
      "Group 3, clients ['f_00030', 'f_00170']\n",
      "Group 4, clients ['f_00095', 'f_00015', 'f_00115', 'f_00045', 'f_00066', 'f_00165', 'f_00186', 'f_00177', 'f_00056']\n"
     ]
    },
    {
     "name": "stderr",
     "output_type": "stream",
     "text": [
      "Epoch:  65%|████████████████████████████████████████████████▊                          | 13/20 [00:00<00:00, 128.39it/s]"
     ]
    },
    {
     "name": "stdout",
     "output_type": "stream",
     "text": [
      "Group 0\n",
      "At round 42 accuracy: 0.8036649214659686\n",
      "At round 42 training accuracy: 0.8092879256965945\n",
      "At round 42 training loss: 0.5566381392694848\n",
      "Group 1\n",
      "At round 42 accuracy: 0.7632508833922261\n",
      "At round 42 training accuracy: 0.7306242144951822\n",
      "At round 42 training loss: 0.7313259131597784\n",
      "Group 2\n",
      "At round 42 accuracy: 0.7784200385356455\n",
      "At round 42 training accuracy: 0.7914997774810859\n",
      "At round 42 training loss: 0.5007836156399132\n",
      "Group 3\n",
      "At round 42 accuracy: 0.9227467811158798\n",
      "At round 42 training accuracy: 0.9216658403569657\n",
      "At round 42 training loss: 0.2644966984658059\n",
      "Group 4\n",
      "At round 42 accuracy: 0.7001972386587771\n",
      "At round 42 training accuracy: 0.7249010016305614\n",
      "At round 42 training loss: 0.7866519362171741\n",
      "At round 42 mean test accuracy: 0.7780665280665281 mean train accuracy: 0.7847268741245965\n",
      "The groups difference are: [0.         4.52696761 3.65981458 4.75509132 3.99025227]\n",
      "Begin group  0 training\n",
      "Begin group  1 training\n"
     ]
    },
    {
     "name": "stderr",
     "output_type": "stream",
     "text": [
      "Epoch:  30%|███████████████████████                                                      | 6/20 [00:00<00:00, 58.43it/s]"
     ]
    },
    {
     "name": "stdout",
     "output_type": "stream",
     "text": [
      "Begin group  2 training\n"
     ]
    },
    {
     "name": "stderr",
     "output_type": "stream",
     "text": [
      "Epoch:   0%|                                                                                     | 0/20 [00:00<?, ?it/s]"
     ]
    },
    {
     "name": "stdout",
     "output_type": "stream",
     "text": [
      "Begin group  3 training\n",
      "Begin group  4 training\n"
     ]
    },
    {
     "name": "stderr",
     "output_type": "stream",
     "text": [
      "                                                                                                                        \r"
     ]
    },
    {
     "name": "stdout",
     "output_type": "stream",
     "text": [
      "Group 0, clients ['f_00183', 'f_00133', 'f_00173', 'f_00093']\n",
      "Group 1, clients ['f_00079', 'f_00188', 'f_00128', 'f_00038', 'f_00149', 'f_00029']\n",
      "Group 2, clients ['f_00062']\n",
      "Group 3, clients ['f_00080', 'f_00010']\n",
      "Group 4, clients ['f_00056', 'f_00037', 'f_00067', 'f_00065', 'f_00017', 'f_00195', 'f_00146']\n"
     ]
    },
    {
     "name": "stderr",
     "output_type": "stream",
     "text": [
      "Epoch:   0%|                                                                                     | 0/20 [00:00<?, ?it/s]"
     ]
    },
    {
     "name": "stdout",
     "output_type": "stream",
     "text": [
      "Group 0\n",
      "At round 43 accuracy: 0.7879581151832461\n",
      "At round 43 training accuracy: 0.7845201238390093\n",
      "At round 43 training loss: 0.661809493319907\n",
      "Group 1\n",
      "At round 43 accuracy: 0.7597173144876325\n",
      "At round 43 training accuracy: 0.7255969836614998\n",
      "At round 43 training loss: 0.6765734674569\n",
      "Group 2\n",
      "At round 43 accuracy: 0.8477842003853564\n",
      "At round 43 training accuracy: 0.8533600356030263\n",
      "At round 43 training loss: 0.5354614936090545\n",
      "Group 3\n",
      "At round 43 accuracy: 0.9527896995708155\n",
      "At round 43 training accuracy: 0.9410014873574616\n",
      "At round 43 training loss: 0.26197444602854486\n",
      "Group 4\n",
      "At round 43 accuracy: 0.6982248520710059\n",
      "At round 43 training accuracy: 0.7165152573957605\n",
      "At round 43 training loss: 0.7539651202670961\n",
      "At round 43 mean test accuracy: 0.7962577962577962 mean train accuracy: 0.7962365263991231\n",
      "The groups difference are: [0.         4.53521306 3.66860774 4.74212825 3.99451138]\n",
      "Begin group  0 training\n"
     ]
    },
    {
     "name": "stderr",
     "output_type": "stream",
     "text": [
      "Epoch:  50%|██████████████████████████████████████                                      | 10/20 [00:00<00:00, 95.83it/s]"
     ]
    },
    {
     "name": "stdout",
     "output_type": "stream",
     "text": [
      "Begin group  1 training\n"
     ]
    },
    {
     "name": "stderr",
     "output_type": "stream",
     "text": [
      "Epoch:   5%|███▊                                                                         | 1/20 [00:00<00:03,  5.66it/s]"
     ]
    },
    {
     "name": "stdout",
     "output_type": "stream",
     "text": [
      "Begin group  2 training\n"
     ]
    },
    {
     "name": "stderr",
     "output_type": "stream",
     "text": [
      "Epoch:  30%|███████████████████████                                                      | 6/20 [00:00<00:00, 57.16it/s]"
     ]
    },
    {
     "name": "stdout",
     "output_type": "stream",
     "text": [
      "Begin group  3 training\n"
     ]
    },
    {
     "name": "stderr",
     "output_type": "stream",
     "text": [
      "Epoch:  40%|██████████████████████████████▊                                              | 8/20 [00:00<00:00, 77.82it/s]"
     ]
    },
    {
     "name": "stdout",
     "output_type": "stream",
     "text": [
      "Begin group  4 training\n"
     ]
    },
    {
     "name": "stderr",
     "output_type": "stream",
     "text": [
      "                                                                                                                        \r"
     ]
    },
    {
     "name": "stdout",
     "output_type": "stream",
     "text": [
      "Group 0, clients ['f_00073', 'f_00023', 'f_00054', 'f_00003', 'f_00114', 'f_00124', 'f_00064']\n",
      "Group 1, clients ['f_00028', 'f_00079', 'f_00009', 'f_00068', 'f_00089']\n",
      "Group 2, clients ['f_00111', 'f_00182']\n",
      "Group 3, clients ['f_00180']\n",
      "Group 4, clients ['f_00135', 'f_00157', 'f_00035', 'f_00045', 'f_00047']\n"
     ]
    },
    {
     "name": "stderr",
     "output_type": "stream",
     "text": [
      "Epoch:  20%|███████████████▍                                                             | 4/20 [00:00<00:00, 33.01it/s]"
     ]
    },
    {
     "name": "stdout",
     "output_type": "stream",
     "text": [
      "Group 0\n",
      "At round 44 accuracy: 0.8115183246073299\n",
      "At round 44 training accuracy: 0.8123839009287925\n",
      "At round 44 training loss: 0.7298226469049328\n",
      "Group 1\n",
      "At round 44 accuracy: 0.8091872791519434\n",
      "At round 44 training accuracy: 0.7750314201927105\n",
      "At round 44 training loss: 0.6903528039506354\n",
      "Group 2\n",
      "At round 44 accuracy: 0.8477842003853564\n",
      "At round 44 training accuracy: 0.8449043168669337\n",
      "At round 44 training loss: 0.7286430127059931\n",
      "Group 3\n",
      "At round 44 accuracy: 0.9055793991416309\n",
      "At round 44 training accuracy: 0.9211700545364403\n",
      "At round 44 training loss: 0.2916062409164413\n",
      "Group 4\n",
      "At round 44 accuracy: 0.6015779092702169\n",
      "At round 44 training accuracy: 0.6198462613556953\n",
      "At round 44 training loss: 1.096918864667263\n",
      "At round 44 mean test accuracy: 0.777027027027027 mean train accuracy: 0.7788807015407101\n",
      "The groups difference are: [0.         4.5645134  3.90041019 4.79409806 4.08353382]\n",
      "Begin group  0 training\n"
     ]
    },
    {
     "name": "stderr",
     "output_type": "stream",
     "text": [
      "Epoch:  60%|█████████████████████████████████████████████                              | 12/20 [00:00<00:00, 119.53it/s]"
     ]
    },
    {
     "name": "stdout",
     "output_type": "stream",
     "text": [
      "Begin group  1 training\n"
     ]
    },
    {
     "name": "stderr",
     "output_type": "stream",
     "text": [
      "Epoch:   0%|                                                                                     | 0/20 [00:00<?, ?it/s]"
     ]
    },
    {
     "name": "stdout",
     "output_type": "stream",
     "text": [
      "Begin group  2 training\n",
      "Begin group  3 training\n"
     ]
    },
    {
     "name": "stderr",
     "output_type": "stream",
     "text": [
      "Epoch:  55%|█████████████████████████████████████████▎                                 | 11/20 [00:00<00:00, 101.43it/s]"
     ]
    },
    {
     "name": "stdout",
     "output_type": "stream",
     "text": [
      "Begin group  4 training\n"
     ]
    },
    {
     "name": "stderr",
     "output_type": "stream",
     "text": [
      "                                                                                                                        \r"
     ]
    },
    {
     "name": "stdout",
     "output_type": "stream",
     "text": [
      "Group 0, clients ['f_00013', 'f_00153', 'f_00003', 'f_00044', 'f_00134', 'f_00173', 'f_00033']\n",
      "Group 1, clients ['f_00058', 'f_00149', 'f_00129', 'f_00069']\n",
      "Group 2, clients ['f_00072', 'f_00062', 'f_00182', 'f_00112']\n",
      "Group 3, clients ['f_00040', 'f_00080', 'f_00190']\n",
      "Group 4, clients ['f_00045', 'f_00025']\n"
     ]
    },
    {
     "name": "stderr",
     "output_type": "stream",
     "text": [
      "Epoch:   0%|                                                                                     | 0/20 [00:00<?, ?it/s]"
     ]
    },
    {
     "name": "stdout",
     "output_type": "stream",
     "text": [
      "Group 0\n",
      "At round 45 accuracy: 0.8115183246073299\n",
      "At round 45 training accuracy: 0.8151702786377709\n",
      "At round 45 training loss: 0.522014919560022\n",
      "Group 1\n",
      "At round 45 accuracy: 0.7703180212014135\n",
      "At round 45 training accuracy: 0.7381650607457059\n",
      "At round 45 training loss: 0.5841095653984104\n",
      "Group 2\n",
      "At round 45 accuracy: 0.7475915221579962\n",
      "At round 45 training accuracy: 0.7472185135736538\n",
      "At round 45 training loss: 0.6521125751459232\n",
      "Group 3\n",
      "At round 45 accuracy: 0.9613733905579399\n",
      "At round 45 training accuracy: 0.939514129895885\n",
      "At round 45 training loss: 0.2698311289318966\n",
      "Group 4\n",
      "At round 45 accuracy: 0.6666666666666666\n",
      "At round 45 training accuracy: 0.6832052177964127\n",
      "At round 45 training loss: 0.8269382935150115\n",
      "At round 45 mean test accuracy: 0.7681912681912682 mean train accuracy: 0.7661530966445406\n",
      "The groups difference are: [0.         4.60236037 3.92581432 4.8582395  4.08924416]\n",
      "Begin group  0 training\n"
     ]
    },
    {
     "name": "stderr",
     "output_type": "stream",
     "text": [
      "Epoch:   0%|                                                                                     | 0/20 [00:00<?, ?it/s]"
     ]
    },
    {
     "name": "stdout",
     "output_type": "stream",
     "text": [
      "Begin group  1 training\n"
     ]
    },
    {
     "name": "stderr",
     "output_type": "stream",
     "text": [
      "Epoch:   0%|                                                                                     | 0/20 [00:00<?, ?it/s]"
     ]
    },
    {
     "name": "stdout",
     "output_type": "stream",
     "text": [
      "Begin group  2 training\n"
     ]
    },
    {
     "name": "stderr",
     "output_type": "stream",
     "text": [
      "Epoch:  45%|██████████████████████████████████▋                                          | 9/20 [00:00<00:00, 85.10it/s]"
     ]
    },
    {
     "name": "stdout",
     "output_type": "stream",
     "text": [
      "Begin group  3 training\n"
     ]
    },
    {
     "name": "stderr",
     "output_type": "stream",
     "text": [
      "Epoch: 100%|███████████████████████████████████████████████████████████████████████████| 20/20 [00:00<00:00, 191.65it/s]"
     ]
    },
    {
     "name": "stdout",
     "output_type": "stream",
     "text": [
      "Begin group  4 training\n"
     ]
    },
    {
     "name": "stderr",
     "output_type": "stream",
     "text": [
      "                                                                                                                        \r"
     ]
    },
    {
     "name": "stdout",
     "output_type": "stream",
     "text": [
      "Group 0, clients ['f_00123', 'f_00004', 'f_00083', 'f_00134', 'f_00113']\n",
      "Group 1, clients ['f_00138', 'f_00008', 'f_00169']\n",
      "Group 2, clients ['f_00111', 'f_00051', 'f_00151', 'f_00012']\n",
      "Group 3, clients ['f_00090', 'f_00110']\n",
      "Group 4, clients ['f_00037', 'f_00017', 'f_00145', 'f_00177', 'f_00025', 'f_00106']\n"
     ]
    },
    {
     "name": "stderr",
     "output_type": "stream",
     "text": [
      "Epoch:  20%|███████████████▍                                                             | 4/20 [00:00<00:00, 38.09it/s]"
     ]
    },
    {
     "name": "stdout",
     "output_type": "stream",
     "text": [
      "Group 0\n",
      "At round 46 accuracy: 0.8664921465968587\n",
      "At round 46 training accuracy: 0.881733746130031\n",
      "At round 46 training loss: 0.37568065478890306\n",
      "Group 1\n",
      "At round 46 accuracy: 0.8162544169611308\n",
      "At round 46 training accuracy: 0.7913699204021785\n",
      "At round 46 training loss: 0.8155748147781194\n",
      "Group 2\n",
      "At round 46 accuracy: 0.8497109826589595\n",
      "At round 46 training accuracy: 0.8509123275478415\n",
      "At round 46 training loss: 0.6822930961601937\n",
      "Group 3\n",
      "At round 46 accuracy: 0.9227467811158798\n",
      "At round 46 training accuracy: 0.9355478433316807\n",
      "At round 46 training loss: 0.2617184380138636\n",
      "Group 4\n",
      "At round 46 accuracy: 0.6370808678500987\n",
      "At round 46 training accuracy: 0.6403447472629863\n",
      "At round 46 training loss: 1.4166167489221095\n",
      "At round 46 mean test accuracy: 0.8009355509355509 mean train accuracy: 0.8036660373911455\n",
      "The groups difference are: [0.         4.61343479 4.12457372 4.87743601 4.07860585]\n",
      "Begin group  0 training\n"
     ]
    },
    {
     "name": "stderr",
     "output_type": "stream",
     "text": [
      "Epoch:   0%|                                                                                     | 0/20 [00:00<?, ?it/s]"
     ]
    },
    {
     "name": "stdout",
     "output_type": "stream",
     "text": [
      "Begin group  1 training\n",
      "Begin group  2 training\n"
     ]
    },
    {
     "name": "stderr",
     "output_type": "stream",
     "text": [
      "Epoch:  40%|██████████████████████████████▊                                              | 8/20 [00:00<00:00, 76.86it/s]"
     ]
    },
    {
     "name": "stdout",
     "output_type": "stream",
     "text": [
      "Begin group  3 training\n"
     ]
    },
    {
     "name": "stderr",
     "output_type": "stream",
     "text": [
      "Epoch:  40%|██████████████████████████████▊                                              | 8/20 [00:00<00:00, 73.60it/s]"
     ]
    },
    {
     "name": "stdout",
     "output_type": "stream",
     "text": [
      "Begin group  4 training\n"
     ]
    },
    {
     "name": "stderr",
     "output_type": "stream",
     "text": [
      "                                                                                                                        \r"
     ]
    },
    {
     "name": "stdout",
     "output_type": "stream",
     "text": [
      "Group 0, clients ['f_00094', 'f_00154', 'f_00133', 'f_00083']\n",
      "Group 1, clients ['f_00138', 'f_00108', 'f_00009']\n",
      "Group 2, clients ['f_00091', 'f_00191', 'f_00141', 'f_00062', 'f_00132']\n",
      "Group 3, clients ['f_00000', 'f_00170', 'f_00020']\n",
      "Group 4, clients ['f_00005', 'f_00036', 'f_00106', 'f_00016', 'f_00025']\n"
     ]
    },
    {
     "name": "stderr",
     "output_type": "stream",
     "text": [
      "Epoch:  50%|██████████████████████████████████████                                      | 10/20 [00:00<00:00, 98.03it/s]"
     ]
    },
    {
     "name": "stdout",
     "output_type": "stream",
     "text": [
      "Group 0\n",
      "At round 47 accuracy: 0.8115183246073299\n",
      "At round 47 training accuracy: 0.8160990712074303\n",
      "At round 47 training loss: 0.5199704691906093\n",
      "Group 1\n",
      "At round 47 accuracy: 0.8197879858657244\n",
      "At round 47 training accuracy: 0.8031001256807708\n",
      "At round 47 training loss: 0.53516543242389\n",
      "Group 2\n",
      "At round 47 accuracy: 0.7803468208092486\n",
      "At round 47 training accuracy: 0.789942145082332\n",
      "At round 47 training loss: 0.5342529626570652\n",
      "Group 3\n",
      "At round 47 accuracy: 0.9527896995708155\n",
      "At round 47 training accuracy: 0.9444719881011403\n",
      "At round 47 training loss: 0.2500528216169917\n",
      "Group 4\n",
      "At round 47 accuracy: 0.6725838264299803\n",
      "At round 47 training accuracy: 0.6948520847891917\n",
      "At round 47 training loss: 0.7493558055505368\n",
      "At round 47 mean test accuracy: 0.7848232848232848 mean train accuracy: 0.7911211253882224\n",
      "The groups difference are: [0.         4.63763234 4.1377319  4.91886798 4.13864404]\n",
      "Begin group  0 training\n"
     ]
    },
    {
     "name": "stderr",
     "output_type": "stream",
     "text": [
      "Epoch:  50%|██████████████████████████████████████                                      | 10/20 [00:00<00:00, 94.78it/s]"
     ]
    },
    {
     "name": "stdout",
     "output_type": "stream",
     "text": [
      "Begin group  1 training\n"
     ]
    },
    {
     "name": "stderr",
     "output_type": "stream",
     "text": [
      "Epoch:  40%|██████████████████████████████▊                                              | 8/20 [00:00<00:00, 73.69it/s]"
     ]
    },
    {
     "name": "stdout",
     "output_type": "stream",
     "text": [
      "Begin group  2 training\n"
     ]
    },
    {
     "name": "stderr",
     "output_type": "stream",
     "text": [
      "Epoch:   0%|                                                                                     | 0/20 [00:00<?, ?it/s]"
     ]
    },
    {
     "name": "stdout",
     "output_type": "stream",
     "text": [
      "Begin group  3 training\n"
     ]
    },
    {
     "name": "stderr",
     "output_type": "stream",
     "text": [
      "Epoch:  25%|███████████████████▎                                                         | 5/20 [00:00<00:00, 47.53it/s]"
     ]
    },
    {
     "name": "stdout",
     "output_type": "stream",
     "text": [
      "Begin group  4 training\n"
     ]
    },
    {
     "name": "stderr",
     "output_type": "stream",
     "text": [
      "                                                                                                                        \r"
     ]
    },
    {
     "name": "stdout",
     "output_type": "stream",
     "text": [
      "Group 0, clients ['f_00013', 'f_00173', 'f_00163', 'f_00184', 'f_00183']\n",
      "Group 1, clients ['f_00078', 'f_00129', 'f_00008']\n",
      "Group 2, clients ['f_00031', 'f_00041', 'f_00132', 'f_00192', 'f_00072', 'f_00071']\n",
      "Group 3 is empty.\n",
      "Group 4, clients ['f_00085', 'f_00165', 'f_00197', 'f_00137', 'f_00026', 'f_00195']\n"
     ]
    },
    {
     "name": "stderr",
     "output_type": "stream",
     "text": [
      "Epoch:   0%|                                                                                     | 0/20 [00:00<?, ?it/s]"
     ]
    },
    {
     "name": "stdout",
     "output_type": "stream",
     "text": [
      "Group 0\n",
      "At round 48 accuracy: 0.8089005235602095\n",
      "At round 48 training accuracy: 0.8198142414860681\n",
      "At round 48 training loss: 0.52473339321259\n",
      "Group 1\n",
      "At round 48 accuracy: 0.7879858657243817\n",
      "At round 48 training accuracy: 0.7892752408881442\n",
      "At round 48 training loss: 0.620714108989885\n",
      "Group 2\n",
      "At round 48 accuracy: 0.8439306358381503\n",
      "At round 48 training accuracy: 0.8502447708055185\n",
      "At round 48 training loss: 0.6349113469070522\n",
      "Group 3\n",
      "At round 48 accuracy: 0.9399141630901288\n",
      "At round 48 training accuracy: 0.9370352007932573\n",
      "At round 48 training loss: 0.25095758468548024\n",
      "Group 4\n",
      "At round 48 accuracy: 0.6252465483234714\n",
      "At round 48 training accuracy: 0.6310272536687631\n",
      "At round 48 training loss: 1.2779609541632817\n",
      "At round 48 mean test accuracy: 0.7827442827442828 mean train accuracy: 0.7887461177760186\n",
      "The groups difference are: [0.         4.65738866 4.32278641 4.92751    4.12730691]\n",
      "Begin group  0 training\n"
     ]
    },
    {
     "name": "stderr",
     "output_type": "stream",
     "text": [
      "Epoch:  85%|███████████████████████████████████████████████████████████████▊           | 17/20 [00:00<00:00, 166.77it/s]"
     ]
    },
    {
     "name": "stdout",
     "output_type": "stream",
     "text": [
      "Begin group  1 training\n"
     ]
    },
    {
     "name": "stderr",
     "output_type": "stream",
     "text": [
      "Epoch:   0%|                                                                                     | 0/20 [00:00<?, ?it/s]"
     ]
    },
    {
     "name": "stdout",
     "output_type": "stream",
     "text": [
      "Begin group  2 training\n"
     ]
    },
    {
     "name": "stderr",
     "output_type": "stream",
     "text": [
      "Epoch:   0%|                                                                                     | 0/20 [00:00<?, ?it/s]"
     ]
    },
    {
     "name": "stdout",
     "output_type": "stream",
     "text": [
      "Begin group  4 training\n"
     ]
    },
    {
     "name": "stderr",
     "output_type": "stream",
     "text": [
      "                                                                                                                        \r"
     ]
    },
    {
     "name": "stdout",
     "output_type": "stream",
     "text": [
      "Group 0, clients ['f_00144', 'f_00104', 'f_00153', 'f_00013']\n",
      "Group 1, clients ['f_00189', 'f_00029', 'f_00148', 'f_00089']\n",
      "Group 2, clients ['f_00111', 'f_00181', 'f_00132']\n",
      "Group 3, clients ['f_00150', 'f_00180']\n",
      "Group 4, clients ['f_00107', 'f_00195', 'f_00065', 'f_00017', 'f_00046', 'f_00007', 'f_00067']\n"
     ]
    },
    {
     "name": "stderr",
     "output_type": "stream",
     "text": [
      "Epoch:   0%|                                                                                     | 0/20 [00:00<?, ?it/s]"
     ]
    },
    {
     "name": "stdout",
     "output_type": "stream",
     "text": [
      "Group 0\n",
      "At round 49 accuracy: 0.8298429319371727\n",
      "At round 49 training accuracy: 0.8337461300309598\n",
      "At round 49 training loss: 0.46352682441657544\n",
      "Group 1\n",
      "At round 49 accuracy: 0.7809187279151943\n",
      "At round 49 training accuracy: 0.7641390867197319\n",
      "At round 49 training loss: 0.560364929468351\n",
      "Group 2\n",
      "At round 49 accuracy: 0.8053949903660886\n",
      "At round 49 training accuracy: 0.8255451713395638\n",
      "At round 49 training loss: 0.4672243495583269\n",
      "Group 3\n",
      "At round 49 accuracy: 0.9399141630901288\n",
      "At round 49 training accuracy: 0.9385225582548339\n",
      "At round 49 training loss: 0.2516380912842701\n",
      "Group 4\n",
      "At round 49 accuracy: 0.7100591715976331\n",
      "At round 49 training accuracy: 0.7465641742371302\n",
      "At round 49 training loss: 0.6736587832128421\n",
      "At round 49 mean test accuracy: 0.7978170478170478 mean train accuracy: 0.8114609341696608\n",
      "The groups difference are: [0.         4.66143849 4.3005885  4.91557461 4.14870224]\n",
      "Begin group  0 training\n"
     ]
    },
    {
     "name": "stderr",
     "output_type": "stream",
     "text": [
      "Epoch:  40%|██████████████████████████████▊                                              | 8/20 [00:00<00:00, 71.04it/s]"
     ]
    },
    {
     "name": "stdout",
     "output_type": "stream",
     "text": [
      "Begin group  1 training\n"
     ]
    },
    {
     "name": "stderr",
     "output_type": "stream",
     "text": [
      "Epoch:   0%|                                                                                     | 0/20 [00:00<?, ?it/s]"
     ]
    },
    {
     "name": "stdout",
     "output_type": "stream",
     "text": [
      "Begin group  2 training\n"
     ]
    },
    {
     "name": "stderr",
     "output_type": "stream",
     "text": [
      "Epoch:  25%|███████████████████▎                                                         | 5/20 [00:00<00:00, 45.96it/s]"
     ]
    },
    {
     "name": "stdout",
     "output_type": "stream",
     "text": [
      "Begin group  3 training\n"
     ]
    },
    {
     "name": "stderr",
     "output_type": "stream",
     "text": [
      "Epoch:   0%|                                                                                     | 0/20 [00:00<?, ?it/s]"
     ]
    },
    {
     "name": "stdout",
     "output_type": "stream",
     "text": [
      "Begin group  4 training\n"
     ]
    },
    {
     "name": "stderr",
     "output_type": "stream",
     "text": [
      "                                                                                                                        \r"
     ]
    },
    {
     "name": "stdout",
     "output_type": "stream",
     "text": [
      "Group 0, clients ['f_00073', 'f_00144', 'f_00023']\n",
      "Group 1, clients ['f_00199', 'f_00008', 'f_00039', 'f_00088', 'f_00069', 'f_00099', 'f_00138', 'f_00159']\n",
      "Group 2, clients ['f_00112', 'f_00012', 'f_00081', 'f_00151']\n",
      "Group 3, clients ['f_00020', 'f_00160']\n",
      "Group 4, clients ['f_00165', 'f_00197', 'f_00025']\n"
     ]
    },
    {
     "name": "stderr",
     "output_type": "stream",
     "text": [
      "Epoch:  20%|███████████████▍                                                             | 4/20 [00:00<00:00, 35.76it/s]"
     ]
    },
    {
     "name": "stdout",
     "output_type": "stream",
     "text": [
      "Group 0\n",
      "At round 50 accuracy: 0.8638743455497382\n",
      "At round 50 training accuracy: 0.8798761609907121\n",
      "At round 50 training loss: 0.37420888604948027\n",
      "Group 1\n",
      "At round 50 accuracy: 0.8162544169611308\n",
      "At round 50 training accuracy: 0.7913699204021785\n",
      "At round 50 training loss: 0.8102036523029901\n",
      "Group 2\n",
      "At round 50 accuracy: 0.8073217726396917\n",
      "At round 50 training accuracy: 0.810636404094348\n",
      "At round 50 training loss: 0.4931824212412225\n",
      "Group 3\n",
      "At round 50 accuracy: 0.9527896995708155\n",
      "At round 50 training accuracy: 0.9380267724343084\n",
      "At round 50 training loss: 0.24743219168397773\n",
      "Group 4\n",
      "At round 50 accuracy: 0.6094674556213018\n",
      "At round 50 training accuracy: 0.6238061961332402\n",
      "At round 50 training loss: 1.0096398382761138\n",
      "At round 50 mean test accuracy: 0.7853430353430353 mean train accuracy: 0.7882589367273614\n",
      "The groups difference are: [0.         4.67754049 4.29568573 4.94715866 4.19798085]\n",
      "Begin group  0 training\n"
     ]
    },
    {
     "name": "stderr",
     "output_type": "stream",
     "text": [
      "Epoch:  30%|███████████████████████                                                      | 6/20 [00:00<00:00, 59.67it/s]"
     ]
    },
    {
     "name": "stdout",
     "output_type": "stream",
     "text": [
      "Begin group  1 training\n"
     ]
    },
    {
     "name": "stderr",
     "output_type": "stream",
     "text": [
      "Epoch:   0%|                                                                                     | 0/20 [00:00<?, ?it/s]"
     ]
    },
    {
     "name": "stdout",
     "output_type": "stream",
     "text": [
      "Begin group  2 training\n"
     ]
    },
    {
     "name": "stderr",
     "output_type": "stream",
     "text": [
      "Epoch:   0%|                                                                                     | 0/20 [00:00<?, ?it/s]"
     ]
    },
    {
     "name": "stdout",
     "output_type": "stream",
     "text": [
      "Begin group  3 training\n"
     ]
    },
    {
     "name": "stderr",
     "output_type": "stream",
     "text": [
      "Epoch:   0%|                                                                                     | 0/20 [00:00<?, ?it/s]"
     ]
    },
    {
     "name": "stdout",
     "output_type": "stream",
     "text": [
      "Begin group  4 training\n"
     ]
    },
    {
     "name": "stderr",
     "output_type": "stream",
     "text": [
      "                                                                                                                        \r"
     ]
    },
    {
     "name": "stdout",
     "output_type": "stream",
     "text": [
      "Group 0, clients ['f_00104', 'f_00004', 'f_00174', 'f_00023', 'f_00014']\n",
      "Group 1, clients ['f_00148', 'f_00118', 'f_00058', 'f_00068', 'f_00128']\n",
      "Group 2, clients ['f_00192', 'f_00171']\n",
      "Group 3, clients ['f_00160', 'f_00190', 'f_00010']\n",
      "Group 4, clients ['f_00007', 'f_00115', 'f_00086', 'f_00067', 'f_00177']\n"
     ]
    },
    {
     "name": "stderr",
     "output_type": "stream",
     "text": [
      "Epoch:   0%|                                                                                     | 0/20 [00:00<?, ?it/s]"
     ]
    },
    {
     "name": "stdout",
     "output_type": "stream",
     "text": [
      "Group 0\n",
      "At round 51 accuracy: 0.8089005235602095\n",
      "At round 51 training accuracy: 0.8108359133126934\n",
      "At round 51 training loss: 0.7006521661953291\n",
      "Group 1\n",
      "At round 51 accuracy: 0.8162544169611308\n",
      "At round 51 training accuracy: 0.7901131126937578\n",
      "At round 51 training loss: 0.8443044856171954\n",
      "Group 2\n",
      "At round 51 accuracy: 0.8246628131021194\n",
      "At round 51 training accuracy: 0.8364485981308412\n",
      "At round 51 training loss: 0.4080298725974841\n",
      "Group 3\n",
      "At round 51 accuracy: 0.9313304721030042\n",
      "At round 51 training accuracy: 0.9345562716906296\n",
      "At round 51 training loss: 0.2445828658877237\n",
      "Group 4\n",
      "At round 51 accuracy: 0.7357001972386588\n",
      "At round 51 training accuracy: 0.7530864197530864\n",
      "At round 51 training loss: 0.6899628160009844\n",
      "At round 51 mean test accuracy: 0.8097713097713097 mean train accuracy: 0.8149320991413433\n",
      "The groups difference are: [0.         4.72181918 4.29032951 5.03461353 4.22002933]\n",
      "Begin group  0 training\n"
     ]
    },
    {
     "name": "stderr",
     "output_type": "stream",
     "text": [
      "Epoch:  25%|███████████████████▎                                                         | 5/20 [00:00<00:00, 47.82it/s]"
     ]
    },
    {
     "name": "stdout",
     "output_type": "stream",
     "text": [
      "Begin group  1 training\n"
     ]
    },
    {
     "name": "stderr",
     "output_type": "stream",
     "text": [
      "Epoch:   0%|                                                                                     | 0/20 [00:00<?, ?it/s]"
     ]
    },
    {
     "name": "stdout",
     "output_type": "stream",
     "text": [
      "Begin group  2 training\n"
     ]
    },
    {
     "name": "stderr",
     "output_type": "stream",
     "text": [
      "Epoch:  15%|███████████▌                                                                 | 3/20 [00:00<00:00, 29.75it/s]"
     ]
    },
    {
     "name": "stdout",
     "output_type": "stream",
     "text": [
      "Begin group  3 training\n"
     ]
    },
    {
     "name": "stderr",
     "output_type": "stream",
     "text": [
      "Epoch:   0%|                                                                                     | 0/20 [00:00<?, ?it/s]"
     ]
    },
    {
     "name": "stdout",
     "output_type": "stream",
     "text": [
      "Begin group  4 training\n"
     ]
    },
    {
     "name": "stderr",
     "output_type": "stream",
     "text": [
      "                                                                                                                        \r"
     ]
    },
    {
     "name": "stdout",
     "output_type": "stream",
     "text": [
      "Group 0, clients ['f_00114', 'f_00104', 'f_00023', 'f_00093', 'f_00003']\n",
      "Group 1, clients ['f_00119', 'f_00189', 'f_00098']\n",
      "Group 2, clients ['f_00062', 'f_00132', 'f_00131', 'f_00091']\n",
      "Group 3, clients ['f_00040']\n",
      "Group 4, clients ['f_00176', 'f_00056', 'f_00145', 'f_00047', 'f_00027', 'f_00115', 'f_00067']\n"
     ]
    },
    {
     "name": "stderr",
     "output_type": "stream",
     "text": [
      "                                                                                                                        "
     ]
    },
    {
     "name": "stdout",
     "output_type": "stream",
     "text": [
      "Group 0\n",
      "At round 52 accuracy: 0.8612565445026178\n",
      "At round 52 training accuracy: 0.8699690402476781\n",
      "At round 52 training loss: 0.3688966912843126\n",
      "Group 1\n",
      "At round 52 accuracy: 0.7102473498233216\n",
      "At round 52 training accuracy: 0.663594470046083\n",
      "At round 52 training loss: 0.9985943194408521\n",
      "Group 2\n",
      "At round 52 accuracy: 0.7976878612716763\n",
      "At round 52 training accuracy: 0.806186025812194\n",
      "At round 52 training loss: 0.48462500545877213\n",
      "Group 3\n",
      "At round 52 accuracy: 0.9484978540772532\n",
      "At round 52 training accuracy: 0.946950917203768\n",
      "At round 52 training loss: 0.2407187777739914\n",
      "Group 4\n",
      "At round 52 accuracy: 0.5936883629191322\n",
      "At round 52 training accuracy: 0.6081993943629164\n",
      "At round 52 training loss: 1.3012444529601697\n",
      "At round 52 mean test accuracy: 0.761954261954262 mean train accuracy: 0.763534498508008\n",
      "The groups difference are: [0.         4.75313116 4.29855457 5.08755589 4.28145241]\n",
      "Begin group  0 training\n"
     ]
    },
    {
     "name": "stderr",
     "output_type": "stream",
     "text": [
      "Epoch:   0%|                                                                                     | 0/20 [00:00<?, ?it/s]"
     ]
    },
    {
     "name": "stdout",
     "output_type": "stream",
     "text": [
      "Begin group  1 training\n"
     ]
    },
    {
     "name": "stderr",
     "output_type": "stream",
     "text": [
      "Epoch:   5%|███▊                                                                         | 1/20 [00:00<00:03,  5.67it/s]"
     ]
    },
    {
     "name": "stdout",
     "output_type": "stream",
     "text": [
      "Begin group  2 training\n"
     ]
    },
    {
     "name": "stderr",
     "output_type": "stream",
     "text": [
      "Epoch:   0%|                                                                                     | 0/20 [00:00<?, ?it/s]"
     ]
    },
    {
     "name": "stdout",
     "output_type": "stream",
     "text": [
      "Begin group  3 training\n",
      "Begin group  4 training\n"
     ]
    },
    {
     "name": "stderr",
     "output_type": "stream",
     "text": [
      "                                                                                                                        \r"
     ]
    },
    {
     "name": "stdout",
     "output_type": "stream",
     "text": [
      "Group 0, clients ['f_00143', 'f_00074', 'f_00163', 'f_00053']\n",
      "Group 1, clients ['f_00188', 'f_00149', 'f_00109', 'f_00179', 'f_00168']\n",
      "Group 2, clients ['f_00172', 'f_00132', 'f_00001']\n",
      "Group 3, clients ['f_00100', 'f_00120', 'f_00050', 'f_00190']\n",
      "Group 4, clients ['f_00115', 'f_00185', 'f_00066', 'f_00175']\n"
     ]
    },
    {
     "name": "stderr",
     "output_type": "stream",
     "text": [
      "Epoch:  70%|████████████████████████████████████████████████████▌                      | 14/20 [00:00<00:00, 135.94it/s]"
     ]
    },
    {
     "name": "stdout",
     "output_type": "stream",
     "text": [
      "Group 0\n",
      "At round 53 accuracy: 0.8089005235602095\n",
      "At round 53 training accuracy: 0.8123839009287925\n",
      "At round 53 training loss: 0.5842101063060318\n",
      "Group 1\n",
      "At round 53 accuracy: 0.7314487632508834\n",
      "At round 53 training accuracy: 0.7084206116464181\n",
      "At round 53 training loss: 0.693992165576278\n",
      "Group 2\n",
      "At round 53 accuracy: 0.8689788053949904\n",
      "At round 53 training accuracy: 0.8669336893635959\n",
      "At round 53 training loss: 0.6062262071123322\n",
      "Group 3\n",
      "At round 53 accuracy: 0.9184549356223176\n",
      "At round 53 training accuracy: 0.9325731284085275\n",
      "At round 53 training loss: 0.2623989078140992\n",
      "Group 4\n",
      "At round 53 accuracy: 0.6055226824457594\n",
      "At round 53 training accuracy: 0.6163522012578616\n",
      "At round 53 training loss: 1.1046621719496306\n",
      "At round 53 mean test accuracy: 0.7733887733887734 mean train accuracy: 0.7757140247244382\n",
      "The groups difference are: [0.         4.79698439 4.44631259 5.09257698 4.33786213]\n",
      "Begin group  0 training\n"
     ]
    },
    {
     "name": "stderr",
     "output_type": "stream",
     "text": [
      "Epoch:   0%|                                                                                     | 0/20 [00:00<?, ?it/s]"
     ]
    },
    {
     "name": "stdout",
     "output_type": "stream",
     "text": [
      "Begin group  1 training\n"
     ]
    },
    {
     "name": "stderr",
     "output_type": "stream",
     "text": [
      "Epoch:  50%|██████████████████████████████████████                                      | 10/20 [00:00<00:00, 90.87it/s]"
     ]
    },
    {
     "name": "stdout",
     "output_type": "stream",
     "text": [
      "Begin group  2 training\n"
     ]
    },
    {
     "name": "stderr",
     "output_type": "stream",
     "text": [
      "Epoch:  45%|██████████████████████████████████▋                                          | 9/20 [00:00<00:00, 82.33it/s]"
     ]
    },
    {
     "name": "stdout",
     "output_type": "stream",
     "text": [
      "Begin group  3 training\n"
     ]
    },
    {
     "name": "stderr",
     "output_type": "stream",
     "text": [
      "Epoch:  85%|███████████████████████████████████████████████████████████████▊           | 17/20 [00:00<00:00, 167.47it/s]"
     ]
    },
    {
     "name": "stdout",
     "output_type": "stream",
     "text": [
      "Begin group  4 training\n"
     ]
    },
    {
     "name": "stderr",
     "output_type": "stream",
     "text": [
      "                                                                                                                        \r"
     ]
    },
    {
     "name": "stdout",
     "output_type": "stream",
     "text": [
      "Group 0, clients ['f_00134', 'f_00043', 'f_00194', 'f_00044', 'f_00004']\n",
      "Group 1, clients ['f_00179', 'f_00119', 'f_00118', 'f_00178', 'f_00138', 'f_00049', 'f_00149']\n",
      "Group 2, clients ['f_00142', 'f_00012', 'f_00011', 'f_00101', 'f_00031']\n",
      "Group 3 is empty.\n",
      "Group 4, clients ['f_00166', 'f_00187', 'f_00186']\n"
     ]
    },
    {
     "name": "stderr",
     "output_type": "stream",
     "text": [
      "Epoch:   0%|                                                                                     | 0/20 [00:00<?, ?it/s]"
     ]
    },
    {
     "name": "stdout",
     "output_type": "stream",
     "text": [
      "Group 0\n",
      "At round 54 accuracy: 0.8010471204188482\n",
      "At round 54 training accuracy: 0.8092879256965945\n",
      "At round 54 training loss: 0.7314897133746753\n",
      "Group 1\n",
      "At round 54 accuracy: 0.8162544169611308\n",
      "At round 54 training accuracy: 0.789694176790951\n",
      "At round 54 training loss: 0.5833611120276737\n",
      "Group 2\n",
      "At round 54 accuracy: 0.8574181117533719\n",
      "At round 54 training accuracy: 0.8600356030262573\n",
      "At round 54 training loss: 0.5800594875898211\n",
      "Group 3\n",
      "At round 54 accuracy: 0.9399141630901288\n",
      "At round 54 training accuracy: 0.9429846306395637\n",
      "At round 54 training loss: 0.23716437406228447\n",
      "Group 4\n",
      "At round 54 accuracy: 0.6903353057199211\n",
      "At round 54 training accuracy: 0.7153505706964827\n",
      "At round 54 training loss: 0.9219447500099537\n",
      "At round 54 mean test accuracy: 0.8061330561330561 mean train accuracy: 0.8121917057426467\n",
      "The groups difference are: [0.         4.8323249  4.44823995 5.13629296 4.36717978]\n",
      "Begin group  0 training\n"
     ]
    },
    {
     "name": "stderr",
     "output_type": "stream",
     "text": [
      "Epoch:   0%|                                                                                     | 0/20 [00:00<?, ?it/s]"
     ]
    },
    {
     "name": "stdout",
     "output_type": "stream",
     "text": [
      "Begin group  1 training\n"
     ]
    },
    {
     "name": "stderr",
     "output_type": "stream",
     "text": [
      "Epoch:   0%|                                                                                     | 0/20 [00:00<?, ?it/s]"
     ]
    },
    {
     "name": "stdout",
     "output_type": "stream",
     "text": [
      "Begin group  2 training\n"
     ]
    },
    {
     "name": "stderr",
     "output_type": "stream",
     "text": [
      "Epoch:   0%|                                                                                     | 0/20 [00:00<?, ?it/s]"
     ]
    },
    {
     "name": "stdout",
     "output_type": "stream",
     "text": [
      "Begin group  4 training\n"
     ]
    },
    {
     "name": "stderr",
     "output_type": "stream",
     "text": [
      "                                                                                                                        \r"
     ]
    },
    {
     "name": "stdout",
     "output_type": "stream",
     "text": [
      "Group 0, clients ['f_00124', 'f_00053', 'f_00123', 'f_00133']\n",
      "Group 1, clients ['f_00079', 'f_00129', 'f_00188', 'f_00199', 'f_00119']\n",
      "Group 2, clients ['f_00022', 'f_00141', 'f_00181']\n",
      "Group 3, clients ['f_00190', 'f_00170']\n",
      "Group 4, clients ['f_00116', 'f_00136', 'f_00145', 'f_00166', 'f_00057', 'f_00026']\n"
     ]
    },
    {
     "name": "stderr",
     "output_type": "stream",
     "text": [
      "Epoch:  35%|██████████████████████████▉                                                  | 7/20 [00:00<00:00, 62.78it/s]"
     ]
    },
    {
     "name": "stdout",
     "output_type": "stream",
     "text": [
      "Group 0\n",
      "At round 55 accuracy: 0.824607329842932\n",
      "At round 55 training accuracy: 0.8089783281733746\n",
      "At round 55 training loss: 0.5537318138884317\n",
      "Group 1\n",
      "At round 55 accuracy: 0.784452296819788\n",
      "At round 55 training accuracy: 0.7649769585253456\n",
      "At round 55 training loss: 0.6036454460388155\n",
      "Group 2\n",
      "At round 55 accuracy: 0.8246628131021194\n",
      "At round 55 training accuracy: 0.8297730307076101\n",
      "At round 55 training loss: 0.42639075706720775\n",
      "Group 3\n",
      "At round 55 accuracy: 0.9399141630901288\n",
      "At round 55 training accuracy: 0.9429846306395637\n",
      "At round 55 training loss: 0.23782886764940556\n",
      "Group 4\n",
      "At round 55 accuracy: 0.6686390532544378\n",
      "At round 55 training accuracy: 0.6866992778942465\n",
      "At round 55 training loss: 0.7945719393204066\n",
      "At round 55 mean test accuracy: 0.7915800415800416 mean train accuracy: 0.7927653614274405\n",
      "The groups difference are: [0.         4.85672231 4.4668001  5.12770256 4.35777239]\n",
      "Begin group  0 training\n"
     ]
    },
    {
     "name": "stderr",
     "output_type": "stream",
     "text": [
      "Epoch:  45%|██████████████████████████████████▋                                          | 9/20 [00:00<00:00, 87.80it/s]"
     ]
    },
    {
     "name": "stdout",
     "output_type": "stream",
     "text": [
      "Begin group  1 training\n"
     ]
    },
    {
     "name": "stderr",
     "output_type": "stream",
     "text": [
      "Epoch:   0%|                                                                                     | 0/20 [00:00<?, ?it/s]"
     ]
    },
    {
     "name": "stdout",
     "output_type": "stream",
     "text": [
      "Begin group  2 training\n"
     ]
    },
    {
     "name": "stderr",
     "output_type": "stream",
     "text": [
      "Epoch:  50%|██████████████████████████████████████                                      | 10/20 [00:00<00:00, 96.10it/s]"
     ]
    },
    {
     "name": "stdout",
     "output_type": "stream",
     "text": [
      "Begin group  3 training\n"
     ]
    },
    {
     "name": "stderr",
     "output_type": "stream",
     "text": [
      "Epoch:  35%|██████████████████████████▉                                                  | 7/20 [00:00<00:00, 63.09it/s]"
     ]
    },
    {
     "name": "stdout",
     "output_type": "stream",
     "text": [
      "Begin group  4 training\n"
     ]
    },
    {
     "name": "stderr",
     "output_type": "stream",
     "text": [
      "                                                                                                                        \r"
     ]
    },
    {
     "name": "stdout",
     "output_type": "stream",
     "text": [
      "Group 0, clients ['f_00194', 'f_00063', 'f_00073']\n",
      "Group 1, clients ['f_00038', 'f_00139', 'f_00158']\n",
      "Group 2, clients ['f_00071', 'f_00042', 'f_00082', 'f_00081', 'f_00012', 'f_00102']\n",
      "Group 3, clients ['f_00120', 'f_00000']\n",
      "Group 4, clients ['f_00167', 'f_00186', 'f_00017', 'f_00045', 'f_00096', 'f_00126']\n"
     ]
    },
    {
     "name": "stderr",
     "output_type": "stream",
     "text": [
      "Epoch:  30%|███████████████████████                                                      | 6/20 [00:00<00:00, 52.44it/s]"
     ]
    },
    {
     "name": "stdout",
     "output_type": "stream",
     "text": [
      "Group 0\n",
      "At round 56 accuracy: 0.8010471204188482\n",
      "At round 56 training accuracy: 0.8080495356037152\n",
      "At round 56 training loss: 0.6516687674142259\n",
      "Group 1\n",
      "At round 56 accuracy: 0.8127208480565371\n",
      "At round 56 training accuracy: 0.7863426895684961\n",
      "At round 56 training loss: 0.8912976501961357\n",
      "Group 2\n",
      "At round 56 accuracy: 0.8073217726396917\n",
      "At round 56 training accuracy: 0.8113039608366711\n",
      "At round 56 training loss: 0.4986969975959369\n",
      "Group 3\n",
      "At round 56 accuracy: 0.944206008583691\n",
      "At round 56 training accuracy: 0.940505701536936\n",
      "At round 56 training loss: 0.23460257139073543\n",
      "Group 4\n",
      "At round 56 accuracy: 0.7021696252465484\n",
      "At round 56 training accuracy: 0.7249010016305614\n",
      "At round 56 training loss: 0.9888173425351021\n",
      "At round 56 mean test accuracy: 0.7957380457380457 mean train accuracy: 0.8003166676816272\n",
      "The groups difference are: [0.         4.91459034 4.47165081 5.16770889 4.40952499]\n",
      "Begin group  0 training\n"
     ]
    },
    {
     "name": "stderr",
     "output_type": "stream",
     "text": [
      "Epoch:   0%|                                                                                     | 0/20 [00:00<?, ?it/s]"
     ]
    },
    {
     "name": "stdout",
     "output_type": "stream",
     "text": [
      "Begin group  1 training\n"
     ]
    },
    {
     "name": "stderr",
     "output_type": "stream",
     "text": [
      "Epoch:   0%|                                                                                     | 0/20 [00:00<?, ?it/s]"
     ]
    },
    {
     "name": "stdout",
     "output_type": "stream",
     "text": [
      "Begin group  2 training\n"
     ]
    },
    {
     "name": "stderr",
     "output_type": "stream",
     "text": [
      "Epoch:   0%|                                                                                     | 0/20 [00:00<?, ?it/s]"
     ]
    },
    {
     "name": "stdout",
     "output_type": "stream",
     "text": [
      "Begin group  3 training\n"
     ]
    },
    {
     "name": "stderr",
     "output_type": "stream",
     "text": [
      "Epoch:   0%|                                                                                     | 0/20 [00:00<?, ?it/s]"
     ]
    },
    {
     "name": "stdout",
     "output_type": "stream",
     "text": [
      "Begin group  4 training\n"
     ]
    },
    {
     "name": "stderr",
     "output_type": "stream",
     "text": [
      "                                                                                                                        \r"
     ]
    },
    {
     "name": "stdout",
     "output_type": "stream",
     "text": [
      "Group 0, clients ['f_00084', 'f_00123', 'f_00153', 'f_00014', 'f_00193', 'f_00194']\n",
      "Group 1, clients ['f_00159']\n",
      "Group 2, clients ['f_00182', 'f_00031', 'f_00072', 'f_00051']\n",
      "Group 3, clients ['f_00070', 'f_00090', 'f_00180']\n",
      "Group 4, clients ['f_00157', 'f_00117', 'f_00017', 'f_00155', 'f_00116', 'f_00166']\n"
     ]
    },
    {
     "name": "stderr",
     "output_type": "stream",
     "text": [
      "Epoch:   0%|                                                                                     | 0/20 [00:00<?, ?it/s]"
     ]
    },
    {
     "name": "stdout",
     "output_type": "stream",
     "text": [
      "Group 0\n",
      "At round 57 accuracy: 0.8298429319371727\n",
      "At round 57 training accuracy: 0.8263157894736842\n",
      "At round 57 training loss: 0.5009008939144413\n",
      "Group 1\n",
      "At round 57 accuracy: 0.8197879858657244\n",
      "At round 57 training accuracy: 0.8139924591537495\n",
      "At round 57 training loss: 0.5533383456692818\n",
      "Group 2\n",
      "At round 57 accuracy: 0.8535645472061657\n",
      "At round 57 training accuracy: 0.8578104138851802\n",
      "At round 57 training loss: 0.38608635059782914\n",
      "Group 3\n",
      "At round 57 accuracy: 0.9356223175965666\n",
      "At round 57 training accuracy: 0.9424888448190382\n",
      "At round 57 training loss: 0.2429731700478891\n",
      "Group 4\n",
      "At round 57 accuracy: 0.7159763313609467\n",
      "At round 57 training accuracy: 0.7349173072443512\n",
      "At round 57 training loss: 0.7667865148935733\n",
      "At round 57 mean test accuracy: 0.8175675675675675 mean train accuracy: 0.8235186651239267\n",
      "The groups difference are: [0.         4.94006845 4.47092094 5.18841466 4.42818799]\n",
      "Begin group  0 training\n"
     ]
    },
    {
     "name": "stderr",
     "output_type": "stream",
     "text": [
      "                                                                                                                        "
     ]
    },
    {
     "name": "stdout",
     "output_type": "stream",
     "text": [
      "Begin group  1 training\n",
      "Begin group  2 training\n"
     ]
    },
    {
     "name": "stderr",
     "output_type": "stream",
     "text": [
      "Epoch:  20%|███████████████▍                                                             | 4/20 [00:00<00:00, 37.19it/s]"
     ]
    },
    {
     "name": "stdout",
     "output_type": "stream",
     "text": [
      "Begin group  3 training\n"
     ]
    },
    {
     "name": "stderr",
     "output_type": "stream",
     "text": [
      "Epoch:   0%|                                                                                     | 0/20 [00:00<?, ?it/s]"
     ]
    },
    {
     "name": "stdout",
     "output_type": "stream",
     "text": [
      "Begin group  4 training\n"
     ]
    },
    {
     "name": "stderr",
     "output_type": "stream",
     "text": [
      "                                                                                                                        \r"
     ]
    },
    {
     "name": "stdout",
     "output_type": "stream",
     "text": [
      "Group 0, clients ['f_00193', 'f_00174', 'f_00183', 'f_00143']\n",
      "Group 1, clients ['f_00048', 'f_00108', 'f_00068', 'f_00038', 'f_00079']\n",
      "Group 2, clients ['f_00041', 'f_00131', 'f_00181']\n",
      "Group 3, clients ['f_00010']\n",
      "Group 4, clients ['f_00107', 'f_00075', 'f_00175', 'f_00186', 'f_00176', 'f_00177', 'f_00066']\n"
     ]
    },
    {
     "name": "stderr",
     "output_type": "stream",
     "text": [
      "Epoch:   0%|                                                                                     | 0/20 [00:00<?, ?it/s]"
     ]
    },
    {
     "name": "stdout",
     "output_type": "stream",
     "text": [
      "Group 0\n",
      "At round 58 accuracy: 0.8324607329842932\n",
      "At round 58 training accuracy: 0.8309597523219814\n",
      "At round 58 training loss: 0.41755716726875897\n",
      "Group 1\n",
      "At round 58 accuracy: 0.8091872791519434\n",
      "At round 58 training accuracy: 0.789694176790951\n",
      "At round 58 training loss: 0.878914178148143\n",
      "Group 2\n",
      "At round 58 accuracy: 0.7726396917148363\n",
      "At round 58 training accuracy: 0.7797062750333779\n",
      "At round 58 training loss: 0.501698938784039\n",
      "Group 3\n",
      "At round 58 accuracy: 0.9356223175965666\n",
      "At round 58 training accuracy: 0.9424888448190382\n",
      "At round 58 training loss: 0.23399615968934487\n",
      "Group 4\n",
      "At round 58 accuracy: 0.6489151873767258\n",
      "At round 58 training accuracy: 0.6745865362217563\n",
      "At round 58 training loss: 0.7884559369006691\n",
      "At round 58 mean test accuracy: 0.777027027027027 mean train accuracy: 0.7837525120272821\n",
      "The groups difference are: [0.         4.97053299 4.48129239 5.23668721 4.44565881]\n",
      "Begin group  0 training\n"
     ]
    },
    {
     "name": "stderr",
     "output_type": "stream",
     "text": [
      "Epoch:  50%|██████████████████████████████████████                                      | 10/20 [00:00<00:00, 90.83it/s]"
     ]
    },
    {
     "name": "stdout",
     "output_type": "stream",
     "text": [
      "Begin group  1 training\n"
     ]
    },
    {
     "name": "stderr",
     "output_type": "stream",
     "text": [
      "Epoch:   0%|                                                                                     | 0/20 [00:00<?, ?it/s]"
     ]
    },
    {
     "name": "stdout",
     "output_type": "stream",
     "text": [
      "Begin group  2 training\n"
     ]
    },
    {
     "name": "stderr",
     "output_type": "stream",
     "text": [
      "Epoch:  25%|███████████████████▎                                                         | 5/20 [00:00<00:00, 49.11it/s]"
     ]
    },
    {
     "name": "stdout",
     "output_type": "stream",
     "text": [
      "Begin group  3 training\n"
     ]
    },
    {
     "name": "stderr",
     "output_type": "stream",
     "text": [
      "Epoch:   0%|                                                                                     | 0/20 [00:00<?, ?it/s]"
     ]
    },
    {
     "name": "stdout",
     "output_type": "stream",
     "text": [
      "Begin group  4 training\n"
     ]
    },
    {
     "name": "stderr",
     "output_type": "stream",
     "text": [
      "                                                                                                                        \r"
     ]
    },
    {
     "name": "stdout",
     "output_type": "stream",
     "text": [
      "Group 0, clients ['f_00144', 'f_00113', 'f_00133']\n",
      "Group 1, clients ['f_00098', 'f_00019', 'f_00139']\n",
      "Group 2, clients ['f_00192', 'f_00091', 'f_00141', 'f_00132']\n",
      "Group 3, clients ['f_00030', 'f_00020']\n",
      "Group 4, clients ['f_00036', 'f_00146', 'f_00196', 'f_00136', 'f_00106', 'f_00165', 'f_00185', 'f_00016']\n"
     ]
    },
    {
     "name": "stderr",
     "output_type": "stream",
     "text": [
      "Epoch:   0%|                                                                                     | 0/20 [00:00<?, ?it/s]"
     ]
    },
    {
     "name": "stdout",
     "output_type": "stream",
     "text": [
      "Group 0\n",
      "At round 59 accuracy: 0.8481675392670157\n",
      "At round 59 training accuracy: 0.8448916408668731\n",
      "At round 59 training loss: 0.40524337497242835\n",
      "Group 1\n",
      "At round 59 accuracy: 0.823321554770318\n",
      "At round 59 training accuracy: 0.82865521575199\n",
      "At round 59 training loss: 0.49168118464931765\n",
      "Group 2\n",
      "At round 59 accuracy: 0.7456647398843931\n",
      "At round 59 training accuracy: 0.7501112594570538\n",
      "At round 59 training loss: 0.6873194084390434\n",
      "Group 3\n",
      "At round 59 accuracy: 0.9399141630901288\n",
      "At round 59 training accuracy: 0.9340604858701042\n",
      "At round 59 training loss: 0.22907448294039226\n",
      "Group 4\n",
      "At round 59 accuracy: 0.7159763313609467\n",
      "At round 59 training accuracy: 0.7260656883298393\n",
      "At round 59 training loss: 0.7010450810332857\n",
      "At round 59 mean test accuracy: 0.7931392931392931 mean train accuracy: 0.7964801169234517\n",
      "The groups difference are: [0.         4.972356   4.46582956 5.25553583 4.44880326]\n",
      "Begin group  0 training\n"
     ]
    },
    {
     "name": "stderr",
     "output_type": "stream",
     "text": [
      "Epoch:  20%|███████████████▍                                                             | 4/20 [00:00<00:00, 35.62it/s]"
     ]
    },
    {
     "name": "stdout",
     "output_type": "stream",
     "text": [
      "Begin group  1 training\n"
     ]
    },
    {
     "name": "stderr",
     "output_type": "stream",
     "text": [
      "Epoch:   0%|                                                                                     | 0/20 [00:00<?, ?it/s]"
     ]
    },
    {
     "name": "stdout",
     "output_type": "stream",
     "text": [
      "Begin group  2 training\n"
     ]
    },
    {
     "name": "stderr",
     "output_type": "stream",
     "text": [
      "Epoch:  75%|████████████████████████████████████████████████████████▎                  | 15/20 [00:00<00:00, 142.66it/s]"
     ]
    },
    {
     "name": "stdout",
     "output_type": "stream",
     "text": [
      "Begin group  3 training\n"
     ]
    },
    {
     "name": "stderr",
     "output_type": "stream",
     "text": [
      "Epoch:   0%|                                                                                     | 0/20 [00:00<?, ?it/s]"
     ]
    },
    {
     "name": "stdout",
     "output_type": "stream",
     "text": [
      "Begin group  4 training\n"
     ]
    },
    {
     "name": "stderr",
     "output_type": "stream",
     "text": [
      "                                                                                                                        \r"
     ]
    },
    {
     "name": "stdout",
     "output_type": "stream",
     "text": [
      "Group 0, clients ['f_00144', 'f_00033', 'f_00053', 'f_00163', 'f_00193']\n",
      "Group 1, clients ['f_00079']\n",
      "Group 2, clients ['f_00052', 'f_00081', 'f_00132', 'f_00001', 'f_00192', 'f_00021']\n",
      "Group 3, clients ['f_00000', 'f_00120', 'f_00190']\n",
      "Group 4, clients ['f_00087', 'f_00176', 'f_00106', 'f_00046', 'f_00056']\n"
     ]
    },
    {
     "name": "stderr",
     "output_type": "stream",
     "text": [
      "Epoch:   0%|                                                                                     | 0/20 [00:00<?, ?it/s]"
     ]
    },
    {
     "name": "stdout",
     "output_type": "stream",
     "text": [
      "Group 0\n",
      "At round 60 accuracy: 0.887434554973822\n",
      "At round 60 training accuracy: 0.9003095975232198\n",
      "At round 60 training loss: 0.3197814446761512\n",
      "Group 1\n",
      "At round 60 accuracy: 0.7632508833922261\n",
      "At round 60 training accuracy: 0.7415165479681609\n",
      "At round 60 training loss: 0.680159200733558\n",
      "Group 2\n",
      "At round 60 accuracy: 0.7842003853564548\n",
      "At round 60 training accuracy: 0.7843791722296395\n",
      "At round 60 training loss: 0.5859886986009932\n",
      "Group 3\n",
      "At round 60 accuracy: 0.9527896995708155\n",
      "At round 60 training accuracy: 0.9419930589985126\n",
      "At round 60 training loss: 0.22793356147832544\n",
      "Group 4\n",
      "At round 60 accuracy: 0.7061143984220908\n",
      "At round 60 training accuracy: 0.7255998136501282\n",
      "At round 60 training loss: 0.8837924304054023\n",
      "At round 60 mean test accuracy: 0.8014553014553014 mean train accuracy: 0.8049448876438706\n",
      "The groups difference are: [0.         4.99185455 4.46385547 5.244902   4.4361142 ]\n",
      "Begin group  0 training\n"
     ]
    },
    {
     "name": "stderr",
     "output_type": "stream",
     "text": [
      "Epoch:  45%|██████████████████████████████████▋                                          | 9/20 [00:00<00:00, 84.86it/s]"
     ]
    },
    {
     "name": "stdout",
     "output_type": "stream",
     "text": [
      "Begin group  1 training\n"
     ]
    },
    {
     "name": "stderr",
     "output_type": "stream",
     "text": [
      "Epoch:  30%|███████████████████████                                                      | 6/20 [00:00<00:00, 51.95it/s]"
     ]
    },
    {
     "name": "stdout",
     "output_type": "stream",
     "text": [
      "Begin group  2 training\n"
     ]
    },
    {
     "name": "stderr",
     "output_type": "stream",
     "text": [
      "Epoch:   0%|                                                                                     | 0/20 [00:00<?, ?it/s]"
     ]
    },
    {
     "name": "stdout",
     "output_type": "stream",
     "text": [
      "Begin group  3 training\n"
     ]
    },
    {
     "name": "stderr",
     "output_type": "stream",
     "text": [
      "Epoch:  15%|███████████▌                                                                 | 3/20 [00:00<00:00, 29.53it/s]"
     ]
    },
    {
     "name": "stdout",
     "output_type": "stream",
     "text": [
      "Begin group  4 training\n"
     ]
    },
    {
     "name": "stderr",
     "output_type": "stream",
     "text": [
      "                                                                                                                        \r"
     ]
    },
    {
     "name": "stdout",
     "output_type": "stream",
     "text": [
      "Group 0, clients ['f_00014', 'f_00003', 'f_00023', 'f_00073', 'f_00193', 'f_00133']\n",
      "Group 1, clients ['f_00129', 'f_00097', 'f_00028']\n",
      "Group 2, clients ['f_00062', 'f_00161', 'f_00011', 'f_00081']\n",
      "Group 3, clients ['f_00170', 'f_00070', 'f_00030']\n",
      "Group 4, clients ['f_00085', 'f_00086', 'f_00117', 'f_00056']\n"
     ]
    },
    {
     "name": "stderr",
     "output_type": "stream",
     "text": [
      "Epoch:  40%|██████████████████████████████▊                                              | 8/20 [00:00<00:00, 71.30it/s]"
     ]
    },
    {
     "name": "stdout",
     "output_type": "stream",
     "text": [
      "Group 0\n",
      "At round 61 accuracy: 0.8141361256544503\n",
      "At round 61 training accuracy: 0.8157894736842105\n",
      "At round 61 training loss: 0.7020356823969921\n",
      "Group 1\n",
      "At round 61 accuracy: 0.8162544169611308\n",
      "At round 61 training accuracy: 0.796397151235861\n",
      "At round 61 training loss: 0.9164383278970045\n",
      "Group 2\n",
      "At round 61 accuracy: 0.8497109826589595\n",
      "At round 61 training accuracy: 0.8589230084557188\n",
      "At round 61 training loss: 0.37559947416577594\n",
      "Group 3\n",
      "At round 61 accuracy: 0.9399141630901288\n",
      "At round 61 training accuracy: 0.9400099157164105\n",
      "At round 61 training loss: 0.23506879820555346\n",
      "Group 4\n",
      "At round 61 accuracy: 0.6015779092702169\n",
      "At round 61 training accuracy: 0.6149545772187281\n",
      "At round 61 training loss: 1.233785917340751\n",
      "At round 61 mean test accuracy: 0.7832640332640333 mean train accuracy: 0.7875281651543755\n",
      "The groups difference are: [0.         5.04206184 4.46620882 5.27782645 4.52968997]\n",
      "Begin group  0 training\n"
     ]
    },
    {
     "name": "stderr",
     "output_type": "stream",
     "text": [
      "Epoch:   0%|                                                                                     | 0/20 [00:00<?, ?it/s]"
     ]
    },
    {
     "name": "stdout",
     "output_type": "stream",
     "text": [
      "Begin group  1 training\n"
     ]
    },
    {
     "name": "stderr",
     "output_type": "stream",
     "text": [
      "Epoch:   0%|                                                                                     | 0/20 [00:00<?, ?it/s]"
     ]
    },
    {
     "name": "stdout",
     "output_type": "stream",
     "text": [
      "Begin group  2 training\n"
     ]
    },
    {
     "name": "stderr",
     "output_type": "stream",
     "text": [
      "Epoch:   0%|                                                                                     | 0/20 [00:00<?, ?it/s]"
     ]
    },
    {
     "name": "stdout",
     "output_type": "stream",
     "text": [
      "Begin group  3 training\n"
     ]
    },
    {
     "name": "stderr",
     "output_type": "stream",
     "text": [
      "Epoch:   0%|                                                                                     | 0/20 [00:00<?, ?it/s]"
     ]
    },
    {
     "name": "stdout",
     "output_type": "stream",
     "text": [
      "Begin group  4 training\n"
     ]
    },
    {
     "name": "stderr",
     "output_type": "stream",
     "text": [
      "                                                                                                                        \r"
     ]
    },
    {
     "name": "stdout",
     "output_type": "stream",
     "text": [
      "Group 0, clients ['f_00153', 'f_00004']\n",
      "Group 1, clients ['f_00168', 'f_00199', 'f_00059']\n",
      "Group 2, clients ['f_00171', 'f_00061', 'f_00162', 'f_00032']\n",
      "Group 3, clients ['f_00120', 'f_00040']\n",
      "Group 4, clients ['f_00125', 'f_00146', 'f_00087', 'f_00076', 'f_00005', 'f_00047', 'f_00166', 'f_00037', 'f_00036']\n"
     ]
    },
    {
     "name": "stderr",
     "output_type": "stream",
     "text": [
      "Epoch:  70%|████████████████████████████████████████████████████▌                      | 14/20 [00:00<00:00, 134.09it/s]"
     ]
    },
    {
     "name": "stdout",
     "output_type": "stream",
     "text": [
      "Group 0\n",
      "At round 62 accuracy: 0.8089005235602095\n",
      "At round 62 training accuracy: 0.8117647058823529\n",
      "At round 62 training loss: 0.6199524870251908\n",
      "Group 1\n",
      "At round 62 accuracy: 0.8021201413427562\n",
      "At round 62 training accuracy: 0.7783829074151655\n",
      "At round 62 training loss: 0.4969760458814983\n",
      "Group 2\n",
      "At round 62 accuracy: 0.8574181117533719\n",
      "At round 62 training accuracy: 0.8600356030262573\n",
      "At round 62 training loss: 0.6079915056049054\n",
      "Group 3\n",
      "At round 62 accuracy: 0.9356223175965666\n",
      "At round 62 training accuracy: 0.9410014873574616\n",
      "At round 62 training loss: 0.22756769390288237\n",
      "Group 4\n",
      "At round 62 accuracy: 0.7218934911242604\n",
      "At round 62 training accuracy: 0.7398089913813184\n",
      "At round 62 training loss: 0.6577513315149768\n",
      "At round 62 mean test accuracy: 0.8134095634095634 mean train accuracy: 0.817185311491383\n",
      "The groups difference are: [0.         5.05406822 4.62069753 5.31741876 4.53221505]\n",
      "Begin group  0 training\n"
     ]
    },
    {
     "name": "stderr",
     "output_type": "stream",
     "text": [
      "Epoch:  50%|██████████████████████████████████████                                      | 10/20 [00:00<00:00, 90.64it/s]"
     ]
    },
    {
     "name": "stdout",
     "output_type": "stream",
     "text": [
      "Begin group  1 training\n"
     ]
    },
    {
     "name": "stderr",
     "output_type": "stream",
     "text": [
      "Epoch:   0%|                                                                                     | 0/20 [00:00<?, ?it/s]"
     ]
    },
    {
     "name": "stdout",
     "output_type": "stream",
     "text": [
      "Begin group  2 training\n"
     ]
    },
    {
     "name": "stderr",
     "output_type": "stream",
     "text": [
      "Epoch:   0%|                                                                                     | 0/20 [00:00<?, ?it/s]"
     ]
    },
    {
     "name": "stdout",
     "output_type": "stream",
     "text": [
      "Begin group  3 training\n"
     ]
    },
    {
     "name": "stderr",
     "output_type": "stream",
     "text": [
      "Epoch:   0%|                                                                                     | 0/20 [00:00<?, ?it/s]"
     ]
    },
    {
     "name": "stdout",
     "output_type": "stream",
     "text": [
      "Begin group  4 training\n"
     ]
    },
    {
     "name": "stderr",
     "output_type": "stream",
     "text": [
      "                                                                                                                        \r"
     ]
    },
    {
     "name": "stdout",
     "output_type": "stream",
     "text": [
      "Group 0, clients ['f_00154', 'f_00143', 'f_00153', 'f_00193', 'f_00103', 'f_00064', 'f_00194']\n",
      "Group 1, clients ['f_00089', 'f_00097', 'f_00138', 'f_00068', 'f_00069']\n",
      "Group 2, clients ['f_00112', 'f_00171', 'f_00052']\n",
      "Group 3, clients ['f_00010', 'f_00090']\n",
      "Group 4, clients ['f_00126', 'f_00125', 'f_00037']\n"
     ]
    },
    {
     "name": "stderr",
     "output_type": "stream",
     "text": [
      "Epoch:  40%|██████████████████████████████▊                                              | 8/20 [00:00<00:00, 76.69it/s]"
     ]
    },
    {
     "name": "stdout",
     "output_type": "stream",
     "text": [
      "Group 0\n",
      "At round 63 accuracy: 0.8586387434554974\n",
      "At round 63 training accuracy: 0.8674922600619195\n",
      "At round 63 training loss: 0.355104481541889\n",
      "Group 1\n",
      "At round 63 accuracy: 0.8127208480565371\n",
      "At round 63 training accuracy: 0.8060326770004189\n",
      "At round 63 training loss: 0.9128252884172524\n",
      "Group 2\n",
      "At round 63 accuracy: 0.7957610789980732\n",
      "At round 63 training accuracy: 0.8093012906097018\n",
      "At round 63 training loss: 0.44697342257951705\n",
      "Group 3\n",
      "At round 63 accuracy: 0.9356223175965666\n",
      "At round 63 training accuracy: 0.9390183440753594\n",
      "At round 63 training loss: 0.2255745380230333\n",
      "Group 4\n",
      "At round 63 accuracy: 0.6804733727810651\n",
      "At round 63 training accuracy: 0.70020964360587\n",
      "At round 63 training loss: 0.7134090080048525\n",
      "At round 63 mean test accuracy: 0.7972972972972973 mean train accuracy: 0.8076852810425674\n",
      "The groups difference are: [0.         5.0683783  4.61948468 5.31215439 4.54415057]\n",
      "Begin group  0 training\n"
     ]
    },
    {
     "name": "stderr",
     "output_type": "stream",
     "text": [
      "Epoch:   0%|                                                                                     | 0/20 [00:00<?, ?it/s]"
     ]
    },
    {
     "name": "stdout",
     "output_type": "stream",
     "text": [
      "Begin group  1 training\n"
     ]
    },
    {
     "name": "stderr",
     "output_type": "stream",
     "text": [
      "Epoch:   0%|                                                                                     | 0/20 [00:00<?, ?it/s]"
     ]
    },
    {
     "name": "stdout",
     "output_type": "stream",
     "text": [
      "Begin group  2 training\n"
     ]
    },
    {
     "name": "stderr",
     "output_type": "stream",
     "text": [
      "Epoch:  40%|██████████████████████████████▊                                              | 8/20 [00:00<00:00, 72.91it/s]"
     ]
    },
    {
     "name": "stdout",
     "output_type": "stream",
     "text": [
      "Begin group  3 training\n"
     ]
    },
    {
     "name": "stderr",
     "output_type": "stream",
     "text": [
      "Epoch:   0%|                                                                                     | 0/20 [00:00<?, ?it/s]"
     ]
    },
    {
     "name": "stdout",
     "output_type": "stream",
     "text": [
      "Begin group  4 training\n"
     ]
    },
    {
     "name": "stderr",
     "output_type": "stream",
     "text": [
      "                                                                                                                        \r"
     ]
    },
    {
     "name": "stdout",
     "output_type": "stream",
     "text": [
      "Group 0, clients ['f_00163', 'f_00014', 'f_00193', 'f_00123']\n",
      "Group 1, clients ['f_00058', 'f_00109', 'f_00069', 'f_00097', 'f_00178']\n",
      "Group 2, clients ['f_00041', 'f_00121', 'f_00102', 'f_00042']\n",
      "Group 3, clients ['f_00030']\n",
      "Group 4, clients ['f_00156', 'f_00086', 'f_00035', 'f_00107', 'f_00157', 'f_00116']\n"
     ]
    },
    {
     "name": "stderr",
     "output_type": "stream",
     "text": [
      "Epoch:   0%|                                                                                     | 0/20 [00:00<?, ?it/s]"
     ]
    },
    {
     "name": "stdout",
     "output_type": "stream",
     "text": [
      "Group 0\n",
      "At round 64 accuracy: 0.824607329842932\n",
      "At round 64 training accuracy: 0.8495356037151702\n",
      "At round 64 training loss: 0.4135384380632879\n",
      "Group 1\n",
      "At round 64 accuracy: 0.7632508833922261\n",
      "At round 64 training accuracy: 0.7457059069962296\n",
      "At round 64 training loss: 0.583245268821167\n",
      "Group 2\n",
      "At round 64 accuracy: 0.8477842003853564\n",
      "At round 64 training accuracy: 0.8480195816644415\n",
      "At round 64 training loss: 0.4163286989968408\n",
      "Group 3\n",
      "At round 64 accuracy: 0.9484978540772532\n",
      "At round 64 training accuracy: 0.9414972731779871\n",
      "At round 64 training loss: 0.22207221173832306\n",
      "Group 4\n",
      "At round 64 accuracy: 0.7001972386587771\n",
      "At round 64 training accuracy: 0.7025390170044258\n",
      "At round 64 training loss: 0.712416200948267\n",
      "At round 64 mean test accuracy: 0.8040540540540541 mean train accuracy: 0.8068936118384995\n",
      "The groups difference are: [0.         5.0798766  4.62251384 5.33829507 4.55750646]\n",
      "Begin group  0 training\n"
     ]
    },
    {
     "name": "stderr",
     "output_type": "stream",
     "text": [
      "Epoch:   0%|                                                                                     | 0/20 [00:00<?, ?it/s]"
     ]
    },
    {
     "name": "stdout",
     "output_type": "stream",
     "text": [
      "Begin group  1 training\n"
     ]
    },
    {
     "name": "stderr",
     "output_type": "stream",
     "text": [
      "Epoch:  30%|███████████████████████                                                      | 6/20 [00:00<00:00, 56.57it/s]"
     ]
    },
    {
     "name": "stdout",
     "output_type": "stream",
     "text": [
      "Begin group  2 training\n"
     ]
    },
    {
     "name": "stderr",
     "output_type": "stream",
     "text": [
      "Epoch:   0%|                                                                                     | 0/20 [00:00<?, ?it/s]"
     ]
    },
    {
     "name": "stdout",
     "output_type": "stream",
     "text": [
      "Begin group  3 training\n",
      "Begin group  4 training\n"
     ]
    },
    {
     "name": "stderr",
     "output_type": "stream",
     "text": [
      "                                                                                                                        \r"
     ]
    },
    {
     "name": "stdout",
     "output_type": "stream",
     "text": [
      "Group 0, clients ['f_00054', 'f_00153']\n",
      "Group 1, clients ['f_00169', 'f_00119', 'f_00178', 'f_00099']\n",
      "Group 2, clients ['f_00021', 'f_00012', 'f_00151', 'f_00082']\n",
      "Group 3, clients ['f_00020', 'f_00070']\n",
      "Group 4, clients ['f_00075', 'f_00176', 'f_00106', 'f_00085', 'f_00065', 'f_00166', 'f_00155', 'f_00116']\n"
     ]
    },
    {
     "name": "stderr",
     "output_type": "stream",
     "text": [
      "Epoch:   0%|                                                                                     | 0/20 [00:00<?, ?it/s]"
     ]
    },
    {
     "name": "stdout",
     "output_type": "stream",
     "text": [
      "Group 0\n",
      "At round 65 accuracy: 0.8350785340314136\n",
      "At round 65 training accuracy: 0.8291021671826625\n",
      "At round 65 training loss: 0.5015838048660165\n",
      "Group 1\n",
      "At round 65 accuracy: 0.8127208480565371\n",
      "At round 65 training accuracy: 0.7850858818600754\n",
      "At round 65 training loss: 0.5129629924649917\n",
      "Group 2\n",
      "At round 65 accuracy: 0.8111753371868978\n",
      "At round 65 training accuracy: 0.8197596795727636\n",
      "At round 65 training loss: 0.4312918882967898\n",
      "Group 3\n",
      "At round 65 accuracy: 0.9356223175965666\n",
      "At round 65 training accuracy: 0.9410014873574616\n",
      "At round 65 training loss: 0.2266312936375386\n",
      "Group 4\n",
      "At round 65 accuracy: 0.7514792899408284\n",
      "At round 65 training accuracy: 0.7465641742371302\n",
      "At round 65 training loss: 0.6450715594821506\n",
      "At round 65 mean test accuracy: 0.8154885654885655 mean train accuracy: 0.8123135010048109\n",
      "The groups difference are: [0.         5.10113977 4.63035712 5.34491935 4.57784671]\n",
      "Begin group  0 training\n",
      "Begin group  1 training\n"
     ]
    },
    {
     "name": "stderr",
     "output_type": "stream",
     "text": [
      "Epoch:   0%|                                                                                     | 0/20 [00:00<?, ?it/s]"
     ]
    },
    {
     "name": "stdout",
     "output_type": "stream",
     "text": [
      "Begin group  2 training\n"
     ]
    },
    {
     "name": "stderr",
     "output_type": "stream",
     "text": [
      "Epoch:   0%|                                                                                     | 0/20 [00:00<?, ?it/s]"
     ]
    },
    {
     "name": "stdout",
     "output_type": "stream",
     "text": [
      "Begin group  3 training\n"
     ]
    },
    {
     "name": "stderr",
     "output_type": "stream",
     "text": [
      "Epoch:  45%|██████████████████████████████████▋                                          | 9/20 [00:00<00:00, 82.10it/s]"
     ]
    },
    {
     "name": "stdout",
     "output_type": "stream",
     "text": [
      "Begin group  4 training\n"
     ]
    },
    {
     "name": "stderr",
     "output_type": "stream",
     "text": [
      "                                                                                                                        \r"
     ]
    },
    {
     "name": "stdout",
     "output_type": "stream",
     "text": [
      "Group 0, clients ['f_00174', 'f_00054', 'f_00053', 'f_00104']\n",
      "Group 1, clients ['f_00118', 'f_00128', 'f_00108', 'f_00018', 'f_00179', 'f_00148']\n",
      "Group 2, clients ['f_00052']\n",
      "Group 3, clients ['f_00160', 'f_00130', 'f_00140']\n",
      "Group 4, clients ['f_00167', 'f_00106', 'f_00017', 'f_00107', 'f_00007', 'f_00156']\n"
     ]
    },
    {
     "name": "stderr",
     "output_type": "stream",
     "text": [
      "Epoch:   0%|                                                                                     | 0/20 [00:00<?, ?it/s]"
     ]
    },
    {
     "name": "stdout",
     "output_type": "stream",
     "text": [
      "Group 0\n",
      "At round 66 accuracy: 0.8507853403141361\n",
      "At round 66 training accuracy: 0.8668730650154799\n",
      "At round 66 training loss: 0.365167173909329\n",
      "Group 1\n",
      "At round 66 accuracy: 0.7985865724381626\n",
      "At round 66 training accuracy: 0.7783829074151655\n",
      "At round 66 training loss: 0.6172947616358906\n",
      "Group 2\n",
      "At round 66 accuracy: 0.8535645472061657\n",
      "At round 66 training accuracy: 0.8604806408544726\n",
      "At round 66 training loss: 0.3441228039121702\n",
      "Group 3\n",
      "At round 66 accuracy: 0.9484978540772532\n",
      "At round 66 training accuracy: 0.947942488844819\n",
      "At round 66 training loss: 0.22501959100579885\n",
      "Group 4\n",
      "At round 66 accuracy: 0.6666666666666666\n",
      "At round 66 training accuracy: 0.6750524109014675\n",
      "At round 66 training loss: 0.9472824609900254\n",
      "At round 66 mean test accuracy: 0.8071725571725572 mean train accuracy: 0.8120699104804823\n",
      "The groups difference are: [0.         5.09233418 4.60587353 5.35944231 4.55270072]\n",
      "Begin group  0 training\n"
     ]
    },
    {
     "name": "stderr",
     "output_type": "stream",
     "text": [
      "Epoch:  30%|███████████████████████                                                      | 6/20 [00:00<00:00, 53.31it/s]"
     ]
    },
    {
     "name": "stdout",
     "output_type": "stream",
     "text": [
      "Begin group  1 training\n"
     ]
    },
    {
     "name": "stderr",
     "output_type": "stream",
     "text": [
      "Epoch:  30%|███████████████████████                                                      | 6/20 [00:00<00:00, 55.92it/s]"
     ]
    },
    {
     "name": "stdout",
     "output_type": "stream",
     "text": [
      "Begin group  2 training\n"
     ]
    },
    {
     "name": "stderr",
     "output_type": "stream",
     "text": [
      "Epoch:  15%|███████████▌                                                                 | 3/20 [00:00<00:00, 29.38it/s]"
     ]
    },
    {
     "name": "stdout",
     "output_type": "stream",
     "text": [
      "Begin group  3 training\n"
     ]
    },
    {
     "name": "stderr",
     "output_type": "stream",
     "text": [
      "Epoch:   0%|                                                                                     | 0/20 [00:00<?, ?it/s]"
     ]
    },
    {
     "name": "stdout",
     "output_type": "stream",
     "text": [
      "Begin group  4 training\n"
     ]
    },
    {
     "name": "stderr",
     "output_type": "stream",
     "text": [
      "                                                                                                                        \r"
     ]
    },
    {
     "name": "stdout",
     "output_type": "stream",
     "text": [
      "Group 0, clients ['f_00123']\n",
      "Group 1, clients ['f_00109', 'f_00149', 'f_00038', 'f_00108']\n",
      "Group 2, clients ['f_00032', 'f_00071', 'f_00172', 'f_00062', 'f_00131']\n",
      "Group 3, clients ['f_00180', 'f_00030']\n",
      "Group 4, clients ['f_00077', 'f_00166', 'f_00187', 'f_00025', 'f_00117', 'f_00195', 'f_00056', 'f_00015']\n"
     ]
    },
    {
     "name": "stderr",
     "output_type": "stream",
     "text": [
      "Epoch:  20%|███████████████▍                                                             | 4/20 [00:00<00:00, 34.19it/s]"
     ]
    },
    {
     "name": "stdout",
     "output_type": "stream",
     "text": [
      "Group 0\n",
      "At round 67 accuracy: 0.806282722513089\n",
      "At round 67 training accuracy: 0.8108359133126934\n",
      "At round 67 training loss: 0.641092496768978\n",
      "Group 1\n",
      "At round 67 accuracy: 0.7809187279151943\n",
      "At round 67 training accuracy: 0.7729367406786761\n",
      "At round 67 training loss: 0.6949457040155688\n",
      "Group 2\n",
      "At round 67 accuracy: 0.8574181117533719\n",
      "At round 67 training accuracy: 0.8627058299955496\n",
      "At round 67 training loss: 0.4832984724268151\n",
      "Group 3\n",
      "At round 67 accuracy: 0.9570815450643777\n",
      "At round 67 training accuracy: 0.9489340604858701\n",
      "At round 67 training loss: 0.21830698019230668\n",
      "Group 4\n",
      "At round 67 accuracy: 0.6528599605522682\n",
      "At round 67 training accuracy: 0.6738877242021896\n",
      "At round 67 training loss: 0.8226567795996952\n",
      "At round 67 mean test accuracy: 0.7941787941787942 mean train accuracy: 0.80068205346812\n",
      "The groups difference are: [0.         5.14220428 4.61993628 5.43298706 4.60390579]\n",
      "Begin group  0 training\n"
     ]
    },
    {
     "name": "stderr",
     "output_type": "stream",
     "text": [
      "Epoch:   0%|                                                                                     | 0/20 [00:00<?, ?it/s]"
     ]
    },
    {
     "name": "stdout",
     "output_type": "stream",
     "text": [
      "Begin group  1 training\n"
     ]
    },
    {
     "name": "stderr",
     "output_type": "stream",
     "text": [
      "Epoch:   0%|                                                                                     | 0/20 [00:00<?, ?it/s]"
     ]
    },
    {
     "name": "stdout",
     "output_type": "stream",
     "text": [
      "Begin group  2 training\n"
     ]
    },
    {
     "name": "stderr",
     "output_type": "stream",
     "text": [
      "Epoch:  35%|██████████████████████████▉                                                  | 7/20 [00:00<00:00, 60.66it/s]"
     ]
    },
    {
     "name": "stdout",
     "output_type": "stream",
     "text": [
      "Begin group  3 training\n"
     ]
    },
    {
     "name": "stderr",
     "output_type": "stream",
     "text": [
      "Epoch:   0%|                                                                                     | 0/20 [00:00<?, ?it/s]"
     ]
    },
    {
     "name": "stdout",
     "output_type": "stream",
     "text": [
      "Begin group  4 training\n"
     ]
    },
    {
     "name": "stderr",
     "output_type": "stream",
     "text": [
      "                                                                                                                        \r"
     ]
    },
    {
     "name": "stdout",
     "output_type": "stream",
     "text": [
      "Group 0, clients ['f_00054', 'f_00143', 'f_00004', 'f_00013', 'f_00183']\n",
      "Group 1, clients ['f_00099']\n",
      "Group 2, clients ['f_00102', 'f_00011', 'f_00112', 'f_00132', 'f_00121']\n",
      "Group 3 is empty.\n",
      "Group 4, clients ['f_00016', 'f_00117', 'f_00186', 'f_00126', 'f_00107', 'f_00116', 'f_00056', 'f_00127', 'f_00125']\n"
     ]
    },
    {
     "name": "stderr",
     "output_type": "stream",
     "text": [
      "Epoch:   0%|                                                                                     | 0/20 [00:00<?, ?it/s]"
     ]
    },
    {
     "name": "stdout",
     "output_type": "stream",
     "text": [
      "Group 0\n",
      "At round 68 accuracy: 0.819371727748691\n",
      "At round 68 training accuracy: 0.8164086687306501\n",
      "At round 68 training loss: 0.8510151647261975\n",
      "Group 1\n",
      "At round 68 accuracy: 0.7985865724381626\n",
      "At round 68 training accuracy: 0.7993297025555091\n",
      "At round 68 training loss: 0.5634003068469886\n",
      "Group 2\n",
      "At round 68 accuracy: 0.8458574181117534\n",
      "At round 68 training accuracy: 0.8593680462839342\n",
      "At round 68 training loss: 0.6277092859301505\n",
      "Group 3\n",
      "At round 68 accuracy: 0.9399141630901288\n",
      "At round 68 training accuracy: 0.9474467030242935\n",
      "At round 68 training loss: 0.22743142823594953\n",
      "Group 4\n",
      "At round 68 accuracy: 0.7889546351084813\n",
      "At round 68 training accuracy: 0.8094572559981364\n",
      "At round 68 training loss: 0.5929448508088916\n",
      "At round 68 mean test accuracy: 0.83004158004158 mean train accuracy: 0.8399610255161074\n",
      "The groups difference are: [0.         5.17377105 4.76292493 5.48078921 4.62352376]\n",
      "Begin group  0 training\n"
     ]
    },
    {
     "name": "stderr",
     "output_type": "stream",
     "text": [
      "Epoch:  25%|███████████████████▎                                                         | 5/20 [00:00<00:00, 48.68it/s]"
     ]
    },
    {
     "name": "stdout",
     "output_type": "stream",
     "text": [
      "Begin group  1 training\n",
      "Begin group  2 training\n"
     ]
    },
    {
     "name": "stderr",
     "output_type": "stream",
     "text": [
      "Epoch:  70%|████████████████████████████████████████████████████▌                      | 14/20 [00:00<00:00, 137.63it/s]"
     ]
    },
    {
     "name": "stdout",
     "output_type": "stream",
     "text": [
      "Begin group  4 training\n"
     ]
    },
    {
     "name": "stderr",
     "output_type": "stream",
     "text": [
      "                                                                                                                        \r"
     ]
    },
    {
     "name": "stdout",
     "output_type": "stream",
     "text": [
      "Group 0, clients ['f_00023', 'f_00013']\n",
      "Group 1, clients ['f_00178', 'f_00118', 'f_00058', 'f_00199', 'f_00008', 'f_00068']\n",
      "Group 2, clients ['f_00032', 'f_00031', 'f_00062']\n",
      "Group 3, clients ['f_00070', 'f_00100', 'f_00170']\n",
      "Group 4, clients ['f_00156', 'f_00047', 'f_00086', 'f_00125', 'f_00015', 'f_00137']\n"
     ]
    },
    {
     "name": "stderr",
     "output_type": "stream",
     "text": [
      "Epoch:  35%|██████████████████████████▉                                                  | 7/20 [00:00<00:00, 68.15it/s]"
     ]
    },
    {
     "name": "stdout",
     "output_type": "stream",
     "text": [
      "Group 0\n",
      "At round 69 accuracy: 0.837696335078534\n",
      "At round 69 training accuracy: 0.8275541795665635\n",
      "At round 69 training loss: 0.5024749315121779\n",
      "Group 1\n",
      "At round 69 accuracy: 0.8162544169611308\n",
      "At round 69 training accuracy: 0.796397151235861\n",
      "At round 69 training loss: 0.6651841864258263\n",
      "Group 2\n",
      "At round 69 accuracy: 0.7957610789980732\n",
      "At round 69 training accuracy: 0.8093012906097018\n",
      "At round 69 training loss: 0.4659237780263809\n",
      "Group 3\n",
      "At round 69 accuracy: 0.9399141630901288\n",
      "At round 69 training accuracy: 0.9474467030242935\n",
      "At round 69 training loss: 0.22809067928501445\n",
      "Group 4\n",
      "At round 69 accuracy: 0.7731755424063116\n",
      "At round 69 training accuracy: 0.7682273468436991\n",
      "At round 69 training loss: 0.5730775165413466\n",
      "At round 69 mean test accuracy: 0.8186070686070686 mean train accuracy: 0.8172462091224652\n",
      "The groups difference are: [0.         5.16368294 4.76030633 5.45838717 4.6177193 ]\n",
      "Begin group  0 training\n"
     ]
    },
    {
     "name": "stderr",
     "output_type": "stream",
     "text": [
      "Epoch:   0%|                                                                                     | 0/20 [00:00<?, ?it/s]"
     ]
    },
    {
     "name": "stdout",
     "output_type": "stream",
     "text": [
      "Begin group  1 training\n"
     ]
    },
    {
     "name": "stderr",
     "output_type": "stream",
     "text": [
      "Epoch:   0%|                                                                                     | 0/20 [00:00<?, ?it/s]"
     ]
    },
    {
     "name": "stdout",
     "output_type": "stream",
     "text": [
      "Begin group  2 training\n"
     ]
    },
    {
     "name": "stderr",
     "output_type": "stream",
     "text": [
      "Epoch:  30%|███████████████████████                                                      | 6/20 [00:00<00:00, 50.49it/s]"
     ]
    },
    {
     "name": "stdout",
     "output_type": "stream",
     "text": [
      "Begin group  3 training\n"
     ]
    },
    {
     "name": "stderr",
     "output_type": "stream",
     "text": [
      "Epoch:   0%|                                                                                     | 0/20 [00:00<?, ?it/s]"
     ]
    },
    {
     "name": "stdout",
     "output_type": "stream",
     "text": [
      "Begin group  4 training\n"
     ]
    },
    {
     "name": "stderr",
     "output_type": "stream",
     "text": [
      "                                                                                                                        \r"
     ]
    },
    {
     "name": "stdout",
     "output_type": "stream",
     "text": [
      "Group 0, clients ['f_00164', 'f_00014']\n",
      "Group 1, clients ['f_00099', 'f_00109', 'f_00179', 'f_00097', 'f_00188']\n",
      "Group 2, clients ['f_00102', 'f_00142', 'f_00061', 'f_00021', 'f_00182', 'f_00011']\n",
      "Group 3 is empty.\n",
      "Group 4, clients ['f_00115', 'f_00017', 'f_00197', 'f_00057', 'f_00167', 'f_00105', 'f_00147']\n"
     ]
    },
    {
     "name": "stderr",
     "output_type": "stream",
     "text": [
      "Epoch:  15%|███████████▌                                                                 | 3/20 [00:00<00:00, 23.79it/s]"
     ]
    },
    {
     "name": "stdout",
     "output_type": "stream",
     "text": [
      "Group 0\n",
      "At round 70 accuracy: 0.8167539267015707\n",
      "At round 70 training accuracy: 0.81671826625387\n",
      "At round 70 training loss: 0.6994862551774956\n",
      "Group 1\n",
      "At round 70 accuracy: 0.7809187279151943\n",
      "At round 70 training accuracy: 0.763720150816925\n",
      "At round 70 training loss: 0.584657264120368\n",
      "Group 2\n",
      "At round 70 accuracy: 0.8709055876685935\n",
      "At round 70 training accuracy: 0.872719181130396\n",
      "At round 70 training loss: 0.639942847848814\n",
      "Group 3\n",
      "At round 70 accuracy: 0.9527896995708155\n",
      "At round 70 training accuracy: 0.9419930589985126\n",
      "At round 70 training loss: 0.21432734244624518\n",
      "Group 4\n",
      "At round 70 accuracy: 0.7455621301775148\n",
      "At round 70 training accuracy: 0.7593757279291871\n",
      "At round 70 training loss: 0.6021824294513348\n",
      "At round 70 mean test accuracy: 0.8238045738045738 mean train accuracy: 0.8247366177455697\n",
      "The groups difference are: [0.         5.1859936  4.8795381  5.48250507 4.62424242]\n",
      "Begin group  0 training\n"
     ]
    },
    {
     "name": "stderr",
     "output_type": "stream",
     "text": [
      "Epoch:   0%|                                                                                     | 0/20 [00:00<?, ?it/s]"
     ]
    },
    {
     "name": "stdout",
     "output_type": "stream",
     "text": [
      "Begin group  1 training\n"
     ]
    },
    {
     "name": "stderr",
     "output_type": "stream",
     "text": [
      "Epoch:  25%|███████████████████▎                                                         | 5/20 [00:00<00:00, 49.16it/s]"
     ]
    },
    {
     "name": "stdout",
     "output_type": "stream",
     "text": [
      "Begin group  2 training\n"
     ]
    },
    {
     "name": "stderr",
     "output_type": "stream",
     "text": [
      "Epoch:   0%|                                                                                     | 0/20 [00:00<?, ?it/s]"
     ]
    },
    {
     "name": "stdout",
     "output_type": "stream",
     "text": [
      "Begin group  4 training\n"
     ]
    },
    {
     "name": "stderr",
     "output_type": "stream",
     "text": [
      "                                                                                                                        \r"
     ]
    },
    {
     "name": "stdout",
     "output_type": "stream",
     "text": [
      "Group 0, clients ['f_00064', 'f_00034', 'f_00073']\n",
      "Group 1, clients ['f_00108', 'f_00028', 'f_00069', 'f_00189']\n",
      "Group 2, clients ['f_00122', 'f_00132', 'f_00121', 'f_00031', 'f_00182']\n",
      "Group 3, clients ['f_00020', 'f_00130', 'f_00100']\n",
      "Group 4, clients ['f_00145', 'f_00147', 'f_00136', 'f_00106', 'f_00175']\n"
     ]
    },
    {
     "name": "stderr",
     "output_type": "stream",
     "text": [
      "Epoch:   0%|                                                                                     | 0/20 [00:00<?, ?it/s]"
     ]
    },
    {
     "name": "stdout",
     "output_type": "stream",
     "text": [
      "Group 0\n",
      "At round 71 accuracy: 0.7958115183246073\n",
      "At round 71 training accuracy: 0.7743034055727555\n",
      "At round 71 training loss: 0.758449291707746\n",
      "Group 1\n",
      "At round 71 accuracy: 0.8091872791519434\n",
      "At round 71 training accuracy: 0.7917888563049853\n",
      "At round 71 training loss: 0.5229229472068797\n",
      "Group 2\n",
      "At round 71 accuracy: 0.859344894026975\n",
      "At round 71 training accuracy: 0.863150867823765\n",
      "At round 71 training loss: 0.49546138876257445\n",
      "Group 3\n",
      "At round 71 accuracy: 0.9527896995708155\n",
      "At round 71 training accuracy: 0.9419930589985126\n",
      "At round 71 training loss: 0.21496310852279626\n",
      "Group 4\n",
      "At round 71 accuracy: 0.7416173570019724\n",
      "At round 71 training accuracy: 0.7684602841835546\n",
      "At round 71 training loss: 0.5777889466524513\n",
      "At round 71 mean test accuracy: 0.8196465696465697 mean train accuracy: 0.8202301930454905\n",
      "The groups difference are: [0.         5.22010806 4.93340348 5.50367779 4.63097545]\n",
      "Begin group  0 training\n"
     ]
    },
    {
     "name": "stderr",
     "output_type": "stream",
     "text": [
      "Epoch:   0%|                                                                                     | 0/20 [00:00<?, ?it/s]"
     ]
    },
    {
     "name": "stdout",
     "output_type": "stream",
     "text": [
      "Begin group  1 training\n"
     ]
    },
    {
     "name": "stderr",
     "output_type": "stream",
     "text": [
      "Epoch:  25%|███████████████████▎                                                         | 5/20 [00:00<00:00, 45.08it/s]"
     ]
    },
    {
     "name": "stdout",
     "output_type": "stream",
     "text": [
      "Begin group  2 training\n"
     ]
    },
    {
     "name": "stderr",
     "output_type": "stream",
     "text": [
      "Epoch:   0%|                                                                                     | 0/20 [00:00<?, ?it/s]"
     ]
    },
    {
     "name": "stdout",
     "output_type": "stream",
     "text": [
      "Begin group  3 training\n"
     ]
    },
    {
     "name": "stderr",
     "output_type": "stream",
     "text": [
      "Epoch:   0%|                                                                                     | 0/20 [00:00<?, ?it/s]"
     ]
    },
    {
     "name": "stdout",
     "output_type": "stream",
     "text": [
      "Begin group  4 training\n"
     ]
    },
    {
     "name": "stderr",
     "output_type": "stream",
     "text": [
      "                                                                                                                        \r"
     ]
    },
    {
     "name": "stdout",
     "output_type": "stream",
     "text": [
      "Group 0, clients ['f_00043', 'f_00083', 'f_00023', 'f_00133']\n",
      "Group 1, clients ['f_00169', 'f_00088', 'f_00049', 'f_00059', 'f_00039']\n",
      "Group 2, clients ['f_00182', 'f_00141', 'f_00191']\n",
      "Group 3 is empty.\n",
      "Group 4, clients ['f_00177', 'f_00187', 'f_00176', 'f_00036', 'f_00186', 'f_00175', 'f_00197', 'f_00086']\n"
     ]
    },
    {
     "name": "stderr",
     "output_type": "stream",
     "text": [
      "Epoch:   0%|                                                                                     | 0/20 [00:00<?, ?it/s]"
     ]
    },
    {
     "name": "stdout",
     "output_type": "stream",
     "text": [
      "Group 0\n",
      "At round 72 accuracy: 0.837696335078534\n",
      "At round 72 training accuracy: 0.8417956656346749\n",
      "At round 72 training loss: 0.4520433801431036\n",
      "Group 1\n",
      "At round 72 accuracy: 0.8056537102473498\n",
      "At round 72 training accuracy: 0.7792207792207793\n",
      "At round 72 training loss: 0.5778700467128858\n",
      "Group 2\n",
      "At round 72 accuracy: 0.7996146435452793\n",
      "At round 72 training accuracy: 0.8190921228304406\n",
      "At round 72 training loss: 0.4273533173598445\n",
      "Group 3\n",
      "At round 72 accuracy: 0.9613733905579399\n",
      "At round 72 training accuracy: 0.9514129895884977\n",
      "At round 72 training loss: 0.21333938090885166\n",
      "Group 4\n",
      "At round 72 accuracy: 0.7100591715976331\n",
      "At round 72 training accuracy: 0.7344514325646401\n",
      "At round 72 training loss: 0.8116384542074454\n",
      "At round 72 mean test accuracy: 0.8040540540540541 mean train accuracy: 0.8118872175872358\n",
      "The groups difference are: [0.         5.2467885  4.92411456 5.52636676 4.65613931]\n",
      "Begin group  0 training\n"
     ]
    },
    {
     "name": "stderr",
     "output_type": "stream",
     "text": [
      "Epoch:   0%|                                                                                     | 0/20 [00:00<?, ?it/s]"
     ]
    },
    {
     "name": "stdout",
     "output_type": "stream",
     "text": [
      "Begin group  1 training\n"
     ]
    },
    {
     "name": "stderr",
     "output_type": "stream",
     "text": [
      "Epoch:   0%|                                                                                     | 0/20 [00:00<?, ?it/s]"
     ]
    },
    {
     "name": "stdout",
     "output_type": "stream",
     "text": [
      "Begin group  2 training\n"
     ]
    },
    {
     "name": "stderr",
     "output_type": "stream",
     "text": [
      "Epoch:  40%|██████████████████████████████▊                                              | 8/20 [00:00<00:00, 78.42it/s]"
     ]
    },
    {
     "name": "stdout",
     "output_type": "stream",
     "text": [
      "Begin group  4 training\n"
     ]
    },
    {
     "name": "stderr",
     "output_type": "stream",
     "text": [
      "                                                                                                                        \r"
     ]
    },
    {
     "name": "stdout",
     "output_type": "stream",
     "text": [
      "Group 0, clients ['f_00153', 'f_00033', 'f_00014', 'f_00183']\n",
      "Group 1, clients ['f_00089', 'f_00169']\n",
      "Group 2, clients ['f_00091', 'f_00161', 'f_00021', 'f_00001', 'f_00052', 'f_00032', 'f_00092', 'f_00111']\n",
      "Group 3 is empty.\n",
      "Group 4, clients ['f_00185', 'f_00165', 'f_00007', 'f_00105', 'f_00045', 'f_00196']\n"
     ]
    },
    {
     "name": "stderr",
     "output_type": "stream",
     "text": [
      "Epoch:   0%|                                                                                     | 0/20 [00:00<?, ?it/s]"
     ]
    },
    {
     "name": "stdout",
     "output_type": "stream",
     "text": [
      "Group 0\n",
      "At round 73 accuracy: 0.8167539267015707\n",
      "At round 73 training accuracy: 0.8145510835913312\n",
      "At round 73 training loss: 0.6382305100629388\n",
      "Group 1\n",
      "At round 73 accuracy: 0.8091872791519434\n",
      "At round 73 training accuracy: 0.7825722664432342\n",
      "At round 73 training loss: 0.6055491515062671\n",
      "Group 2\n",
      "At round 73 accuracy: 0.7398843930635838\n",
      "At round 73 training accuracy: 0.7505562972852693\n",
      "At round 73 training loss: 0.707759301128006\n",
      "Group 3\n",
      "At round 73 accuracy: 0.9613733905579399\n",
      "At round 73 training accuracy: 0.9514129895884977\n",
      "At round 73 training loss: 0.21394277952822\n",
      "Group 4\n",
      "At round 73 accuracy: 0.6804733727810651\n",
      "At round 73 training accuracy: 0.6995108315863033\n",
      "At round 73 training loss: 0.7903867364832218\n",
      "At round 73 mean test accuracy: 0.7765072765072765 mean train accuracy: 0.7791242920650386\n",
      "The groups difference are: [0.         5.24310819 4.91061764 5.51092106 4.67798199]\n",
      "Begin group  0 training\n"
     ]
    },
    {
     "name": "stderr",
     "output_type": "stream",
     "text": [
      "Epoch:   0%|                                                                                     | 0/20 [00:00<?, ?it/s]"
     ]
    },
    {
     "name": "stdout",
     "output_type": "stream",
     "text": [
      "Begin group  1 training\n",
      "Begin group  2 training\n"
     ]
    },
    {
     "name": "stderr",
     "output_type": "stream",
     "text": [
      "Epoch:   0%|                                                                                     | 0/20 [00:00<?, ?it/s]"
     ]
    },
    {
     "name": "stdout",
     "output_type": "stream",
     "text": [
      "Begin group  4 training\n"
     ]
    },
    {
     "name": "stderr",
     "output_type": "stream",
     "text": [
      "                                                                                                                        \r"
     ]
    },
    {
     "name": "stdout",
     "output_type": "stream",
     "text": [
      "Group 0, clients ['f_00194', 'f_00093', 'f_00084']\n",
      "Group 1, clients ['f_00069', 'f_00097', 'f_00109']\n",
      "Group 2, clients ['f_00122', 'f_00101', 'f_00072', 'f_00022']\n",
      "Group 3, clients ['f_00100', 'f_00130', 'f_00140']\n",
      "Group 4, clients ['f_00176', 'f_00136', 'f_00046', 'f_00117', 'f_00185', 'f_00145', 'f_00067']\n"
     ]
    },
    {
     "name": "stderr",
     "output_type": "stream",
     "text": [
      "Epoch:  30%|███████████████████████                                                      | 6/20 [00:00<00:00, 55.56it/s]"
     ]
    },
    {
     "name": "stdout",
     "output_type": "stream",
     "text": [
      "Group 0\n",
      "At round 74 accuracy: 0.8717277486910995\n",
      "At round 74 training accuracy: 0.8746130030959752\n",
      "At round 74 training loss: 0.33999910585743726\n",
      "Group 1\n",
      "At round 74 accuracy: 0.8162544169611308\n",
      "At round 74 training accuracy: 0.7917888563049853\n",
      "At round 74 training loss: 0.7428987917038102\n",
      "Group 2\n",
      "At round 74 accuracy: 0.8188824662813102\n",
      "At round 74 training accuracy: 0.8315531820204718\n",
      "At round 74 training loss: 0.40323266622738463\n",
      "Group 3\n",
      "At round 74 accuracy: 0.9613733905579399\n",
      "At round 74 training accuracy: 0.9514129895884977\n",
      "At round 74 training loss: 0.21455626181582146\n",
      "Group 4\n",
      "At round 74 accuracy: 0.7001972386587771\n",
      "At round 74 training accuracy: 0.7064989517819706\n",
      "At round 74 training loss: 0.8403245595828542\n",
      "At round 74 mean test accuracy: 0.814968814968815 mean train accuracy: 0.8162718470251508\n",
      "The groups difference are: [0.         5.23733161 4.90809855 5.49321095 4.64857164]\n",
      "Begin group  0 training\n"
     ]
    },
    {
     "name": "stderr",
     "output_type": "stream",
     "text": [
      "Epoch:   0%|                                                                                     | 0/20 [00:00<?, ?it/s]"
     ]
    },
    {
     "name": "stdout",
     "output_type": "stream",
     "text": [
      "Begin group  1 training\n"
     ]
    },
    {
     "name": "stderr",
     "output_type": "stream",
     "text": [
      "Epoch:  25%|███████████████████▎                                                         | 5/20 [00:00<00:00, 44.90it/s]"
     ]
    },
    {
     "name": "stdout",
     "output_type": "stream",
     "text": [
      "Begin group  2 training\n"
     ]
    },
    {
     "name": "stderr",
     "output_type": "stream",
     "text": [
      "Epoch:  35%|██████████████████████████▉                                                  | 7/20 [00:00<00:00, 61.58it/s]"
     ]
    },
    {
     "name": "stdout",
     "output_type": "stream",
     "text": [
      "Begin group  3 training\n"
     ]
    },
    {
     "name": "stderr",
     "output_type": "stream",
     "text": [
      "Epoch:  35%|██████████████████████████▉                                                  | 7/20 [00:00<00:00, 69.82it/s]"
     ]
    },
    {
     "name": "stdout",
     "output_type": "stream",
     "text": [
      "Begin group  4 training\n"
     ]
    },
    {
     "name": "stderr",
     "output_type": "stream",
     "text": [
      "                                                                                                                        \r"
     ]
    },
    {
     "name": "stdout",
     "output_type": "stream",
     "text": [
      "Group 0 is empty.\n",
      "Group 1, clients ['f_00049', 'f_00068', 'f_00119', 'f_00139', 'f_00028']\n",
      "Group 2, clients ['f_00142', 'f_00022', 'f_00002', 'f_00061', 'f_00091', 'f_00062']\n",
      "Group 3, clients ['f_00160']\n",
      "Group 4, clients ['f_00167', 'f_00086', 'f_00147', 'f_00085', 'f_00107', 'f_00006', 'f_00177', 'f_00035']\n"
     ]
    },
    {
     "name": "stderr",
     "output_type": "stream",
     "text": [
      "Epoch:  35%|██████████████████████████▉                                                  | 7/20 [00:00<00:00, 67.07it/s]"
     ]
    },
    {
     "name": "stdout",
     "output_type": "stream",
     "text": [
      "Group 0\n",
      "At round 75 accuracy: 0.8691099476439791\n",
      "At round 75 training accuracy: 0.8662538699690403\n",
      "At round 75 training loss: 0.3568758941102692\n",
      "Group 1\n",
      "At round 75 accuracy: 0.8162544169611308\n",
      "At round 75 training accuracy: 0.7905320485965647\n",
      "At round 75 training loss: 0.6959872444241827\n",
      "Group 2\n",
      "At round 75 accuracy: 0.8689788053949904\n",
      "At round 75 training accuracy: 0.8700489541611037\n",
      "At round 75 training loss: 0.4057547050645524\n",
      "Group 3\n",
      "At round 75 accuracy: 0.9356223175965666\n",
      "At round 75 training accuracy: 0.9434804164600893\n",
      "At round 75 training loss: 0.2205828898353156\n",
      "Group 4\n",
      "At round 75 accuracy: 0.6765285996055227\n",
      "At round 75 training accuracy: 0.6918238993710691\n",
      "At round 75 training loss: 0.7728166195470471\n",
      "At round 75 mean test accuracy: 0.8186070686070686 mean train accuracy: 0.8201692954144084\n",
      "The groups difference are: [0.         5.25013563 4.89714463 5.51072951 4.69678869]\n",
      "Begin group  1 training\n"
     ]
    },
    {
     "name": "stderr",
     "output_type": "stream",
     "text": [
      "Epoch:   0%|                                                                                     | 0/20 [00:00<?, ?it/s]"
     ]
    },
    {
     "name": "stdout",
     "output_type": "stream",
     "text": [
      "Begin group  2 training\n"
     ]
    },
    {
     "name": "stderr",
     "output_type": "stream",
     "text": [
      "Epoch:  15%|███████████▌                                                                 | 3/20 [00:00<00:00, 28.19it/s]"
     ]
    },
    {
     "name": "stdout",
     "output_type": "stream",
     "text": [
      "Begin group  3 training\n"
     ]
    },
    {
     "name": "stderr",
     "output_type": "stream",
     "text": [
      "Epoch:   0%|                                                                                     | 0/20 [00:00<?, ?it/s]"
     ]
    },
    {
     "name": "stdout",
     "output_type": "stream",
     "text": [
      "Begin group  4 training\n"
     ]
    },
    {
     "name": "stderr",
     "output_type": "stream",
     "text": [
      "                                                                                                                        \r"
     ]
    },
    {
     "name": "stdout",
     "output_type": "stream",
     "text": [
      "Group 0, clients ['f_00074', 'f_00164', 'f_00094']\n",
      "Group 1, clients ['f_00178', 'f_00009', 'f_00059', 'f_00179']\n",
      "Group 2, clients ['f_00092', 'f_00122', 'f_00032', 'f_00022', 'f_00051', 'f_00021']\n",
      "Group 3, clients ['f_00050']\n",
      "Group 4, clients ['f_00157', 'f_00007', 'f_00115', 'f_00096', 'f_00107', 'f_00095']\n"
     ]
    },
    {
     "name": "stderr",
     "output_type": "stream",
     "text": [
      "Epoch:   0%|                                                                                     | 0/20 [00:00<?, ?it/s]"
     ]
    },
    {
     "name": "stdout",
     "output_type": "stream",
     "text": [
      "Group 0\n",
      "At round 76 accuracy: 0.8691099476439791\n",
      "At round 76 training accuracy: 0.8662538699690403\n",
      "At round 76 training loss: 0.3564746567339351\n",
      "Group 1\n",
      "At round 76 accuracy: 0.7879858657243817\n",
      "At round 76 training accuracy: 0.7616254713028907\n",
      "At round 76 training loss: 0.5126753888546697\n",
      "Group 2\n",
      "At round 76 accuracy: 0.8709055876685935\n",
      "At round 76 training accuracy: 0.8720516243880729\n",
      "At round 76 training loss: 0.5778874547867761\n",
      "Group 3\n",
      "At round 76 accuracy: 0.9356223175965666\n",
      "At round 76 training accuracy: 0.9439762022806147\n",
      "At round 76 training loss: 0.21769880662253427\n",
      "Group 4\n",
      "At round 76 accuracy: 0.7218934911242604\n",
      "At round 76 training accuracy: 0.7230375029117168\n",
      "At round 76 training loss: 0.6402111404527464\n",
      "At round 76 mean test accuracy: 0.8269230769230769 mean train accuracy: 0.8247366177455697\n",
      "The groups difference are: [0.         5.23729689 4.99021851 5.54509176 4.68519543]\n",
      "Begin group  0 training\n"
     ]
    },
    {
     "name": "stderr",
     "output_type": "stream",
     "text": [
      "Epoch:   0%|                                                                                     | 0/20 [00:00<?, ?it/s]"
     ]
    },
    {
     "name": "stdout",
     "output_type": "stream",
     "text": [
      "Begin group  1 training\n"
     ]
    },
    {
     "name": "stderr",
     "output_type": "stream",
     "text": [
      "Epoch:   0%|                                                                                     | 0/20 [00:00<?, ?it/s]"
     ]
    },
    {
     "name": "stdout",
     "output_type": "stream",
     "text": [
      "Begin group  2 training\n"
     ]
    },
    {
     "name": "stderr",
     "output_type": "stream",
     "text": [
      "Epoch:  65%|████████████████████████████████████████████████▊                          | 13/20 [00:00<00:00, 125.24it/s]"
     ]
    },
    {
     "name": "stdout",
     "output_type": "stream",
     "text": [
      "Begin group  3 training\n",
      "Begin group  4 training\n"
     ]
    },
    {
     "name": "stderr",
     "output_type": "stream",
     "text": [
      "                                                                                                                        \r"
     ]
    },
    {
     "name": "stdout",
     "output_type": "stream",
     "text": [
      "Group 0, clients ['f_00074', 'f_00123', 'f_00174', 'f_00013', 'f_00193', 'f_00154']\n",
      "Group 1, clients ['f_00048', 'f_00049', 'f_00149', 'f_00058', 'f_00008']\n",
      "Group 2, clients ['f_00182', 'f_00191']\n",
      "Group 3, clients ['f_00020', 'f_00090', 'f_00170']\n",
      "Group 4, clients ['f_00127', 'f_00016', 'f_00107', 'f_00017']\n"
     ]
    },
    {
     "name": "stderr",
     "output_type": "stream",
     "text": [
      "Epoch:   0%|                                                                                     | 0/20 [00:00<?, ?it/s]"
     ]
    },
    {
     "name": "stdout",
     "output_type": "stream",
     "text": [
      "Group 0\n",
      "At round 77 accuracy: 0.8167539267015707\n",
      "At round 77 training accuracy: 0.8052631578947368\n",
      "At round 77 training loss: 0.6576254691548022\n",
      "Group 1\n",
      "At round 77 accuracy: 0.8127208480565371\n",
      "At round 77 training accuracy: 0.7871805613741097\n",
      "At round 77 training loss: 0.5346047116570708\n",
      "Group 2\n",
      "At round 77 accuracy: 0.859344894026975\n",
      "At round 77 training accuracy: 0.8638184245660881\n",
      "At round 77 training loss: 0.5120723647213428\n",
      "Group 3\n",
      "At round 77 accuracy: 0.9527896995708155\n",
      "At round 77 training accuracy: 0.9429846306395637\n",
      "At round 77 training loss: 0.21058816030200425\n",
      "Group 4\n",
      "At round 77 accuracy: 0.7120315581854043\n",
      "At round 77 training accuracy: 0.7188446307943164\n",
      "At round 77 training loss: 0.6619057236553877\n",
      "At round 77 mean test accuracy: 0.8165280665280665 mean train accuracy: 0.8129833749467146\n",
      "The groups difference are: [0.         5.26898542 5.02506226 5.56393826 4.69951347]\n",
      "Begin group  0 training\n"
     ]
    },
    {
     "name": "stderr",
     "output_type": "stream",
     "text": [
      "Epoch:   0%|                                                                                     | 0/20 [00:00<?, ?it/s]"
     ]
    },
    {
     "name": "stdout",
     "output_type": "stream",
     "text": [
      "Begin group  1 training\n"
     ]
    },
    {
     "name": "stderr",
     "output_type": "stream",
     "text": [
      "Epoch:   0%|                                                                                     | 0/20 [00:00<?, ?it/s]"
     ]
    },
    {
     "name": "stdout",
     "output_type": "stream",
     "text": [
      "Begin group  2 training\n",
      "Begin group  3 training\n"
     ]
    },
    {
     "name": "stderr",
     "output_type": "stream",
     "text": [
      "Epoch:   0%|                                                                                     | 0/20 [00:00<?, ?it/s]"
     ]
    },
    {
     "name": "stdout",
     "output_type": "stream",
     "text": [
      "Begin group  4 training\n"
     ]
    },
    {
     "name": "stderr",
     "output_type": "stream",
     "text": [
      "                                                                                                                        \r"
     ]
    },
    {
     "name": "stdout",
     "output_type": "stream",
     "text": [
      "Group 0, clients ['f_00173', 'f_00193', 'f_00024', 'f_00004']\n",
      "Group 1, clients ['f_00118', 'f_00099', 'f_00079', 'f_00089', 'f_00049', 'f_00039', 'f_00128', 'f_00138']\n",
      "Group 2, clients ['f_00002', 'f_00132', 'f_00042']\n",
      "Group 3, clients ['f_00050', 'f_00080', 'f_00190']\n",
      "Group 4, clients ['f_00006', 'f_00196']\n"
     ]
    },
    {
     "name": "stderr",
     "output_type": "stream",
     "text": [
      "Epoch:   0%|                                                                                     | 0/20 [00:00<?, ?it/s]"
     ]
    },
    {
     "name": "stdout",
     "output_type": "stream",
     "text": [
      "Group 0\n",
      "At round 78 accuracy: 0.837696335078534\n",
      "At round 78 training accuracy: 0.8325077399380805\n",
      "At round 78 training loss: 0.42323300026057303\n",
      "Group 1\n",
      "At round 78 accuracy: 0.823321554770318\n",
      "At round 78 training accuracy: 0.7955592794302472\n",
      "At round 78 training loss: 0.48218821379608523\n",
      "Group 2\n",
      "At round 78 accuracy: 0.7764932562620424\n",
      "At round 78 training accuracy: 0.7732532265242545\n",
      "At round 78 training loss: 0.6545204685683457\n",
      "Group 3\n",
      "At round 78 accuracy: 0.9141630901287554\n",
      "At round 78 training accuracy: 0.918195339613287\n",
      "At round 78 training loss: 0.22225354716780166\n",
      "Group 4\n",
      "At round 78 accuracy: 0.6429980276134122\n",
      "At round 78 training accuracy: 0.6508269275564873\n",
      "At round 78 training loss: 0.9230187076276036\n",
      "At round 78 mean test accuracy: 0.777027027027027 mean train accuracy: 0.7739479934230559\n",
      "The groups difference are: [0.         5.27427555 5.02123618 5.57808425 4.71912695]\n",
      "Begin group  0 training\n"
     ]
    },
    {
     "name": "stderr",
     "output_type": "stream",
     "text": [
      "Epoch:  30%|███████████████████████                                                      | 6/20 [00:00<00:00, 50.96it/s]"
     ]
    },
    {
     "name": "stdout",
     "output_type": "stream",
     "text": [
      "Begin group  1 training\n"
     ]
    },
    {
     "name": "stderr",
     "output_type": "stream",
     "text": [
      "Epoch:  40%|██████████████████████████████▊                                              | 8/20 [00:00<00:00, 78.84it/s]"
     ]
    },
    {
     "name": "stdout",
     "output_type": "stream",
     "text": [
      "Begin group  2 training\n"
     ]
    },
    {
     "name": "stderr",
     "output_type": "stream",
     "text": [
      "Epoch:  40%|██████████████████████████████▊                                              | 8/20 [00:00<00:00, 70.69it/s]"
     ]
    },
    {
     "name": "stdout",
     "output_type": "stream",
     "text": [
      "Begin group  3 training\n"
     ]
    },
    {
     "name": "stderr",
     "output_type": "stream",
     "text": [
      "                                                                                                                        "
     ]
    },
    {
     "name": "stdout",
     "output_type": "stream",
     "text": [
      "Begin group  4 training\n"
     ]
    },
    {
     "name": "stderr",
     "output_type": "stream",
     "text": [
      "\r"
     ]
    },
    {
     "name": "stdout",
     "output_type": "stream",
     "text": [
      "Group 0, clients ['f_00054', 'f_00154']\n",
      "Group 1, clients ['f_00139', 'f_00128', 'f_00098', 'f_00097', 'f_00029', 'f_00069']\n",
      "Group 2, clients ['f_00091', 'f_00131', 'f_00042']\n",
      "Group 3, clients ['f_00000', 'f_00180', 'f_00120']\n",
      "Group 4, clients ['f_00196', 'f_00007', 'f_00137', 'f_00185', 'f_00127', 'f_00045']\n"
     ]
    },
    {
     "name": "stderr",
     "output_type": "stream",
     "text": [
      "Epoch:  35%|██████████████████████████▉                                                  | 7/20 [00:00<00:00, 64.77it/s]"
     ]
    },
    {
     "name": "stdout",
     "output_type": "stream",
     "text": [
      "Group 0\n",
      "At round 79 accuracy: 0.8926701570680629\n",
      "At round 79 training accuracy: 0.9092879256965944\n",
      "At round 79 training loss: 0.29401514124205974\n",
      "Group 1\n",
      "At round 79 accuracy: 0.7491166077738516\n",
      "At round 79 training accuracy: 0.7348135735232509\n",
      "At round 79 training loss: 0.6418014385108923\n",
      "Group 2\n",
      "At round 79 accuracy: 0.8709055876685935\n",
      "At round 79 training accuracy: 0.8756119270137962\n",
      "At round 79 training loss: 0.3945581185112118\n",
      "Group 3\n",
      "At round 79 accuracy: 0.9656652360515021\n",
      "At round 79 training accuracy: 0.9578582052553297\n",
      "At round 79 training loss: 0.20879357237226606\n",
      "Group 4\n",
      "At round 79 accuracy: 0.7199211045364892\n",
      "At round 79 training accuracy: 0.7388772420218961\n",
      "At round 79 training loss: 1.0568242111969406\n",
      "At round 79 mean test accuracy: 0.829002079002079 mean train accuracy: 0.836124474757932\n",
      "The groups difference are: [0.         5.27938723 4.99541984 5.5793113  4.7046126 ]\n",
      "Begin group  0 training\n"
     ]
    },
    {
     "name": "stderr",
     "output_type": "stream",
     "text": [
      "Epoch:   0%|                                                                                     | 0/20 [00:00<?, ?it/s]"
     ]
    },
    {
     "name": "stdout",
     "output_type": "stream",
     "text": [
      "Begin group  1 training\n"
     ]
    },
    {
     "name": "stderr",
     "output_type": "stream",
     "text": [
      "Epoch:  35%|██████████████████████████▉                                                  | 7/20 [00:00<00:00, 65.05it/s]"
     ]
    },
    {
     "name": "stdout",
     "output_type": "stream",
     "text": [
      "Begin group  2 training\n"
     ]
    },
    {
     "name": "stderr",
     "output_type": "stream",
     "text": [
      "Epoch:   0%|                                                                                     | 0/20 [00:00<?, ?it/s]"
     ]
    },
    {
     "name": "stdout",
     "output_type": "stream",
     "text": [
      "Begin group  3 training\n"
     ]
    },
    {
     "name": "stderr",
     "output_type": "stream",
     "text": [
      "Epoch:   0%|                                                                                     | 0/20 [00:00<?, ?it/s]"
     ]
    },
    {
     "name": "stdout",
     "output_type": "stream",
     "text": [
      "Begin group  4 training\n"
     ]
    },
    {
     "name": "stderr",
     "output_type": "stream",
     "text": [
      "                                                                                                                        \r"
     ]
    },
    {
     "name": "stdout",
     "output_type": "stream",
     "text": [
      "Group 0, clients ['f_00104', 'f_00023']\n",
      "Group 1, clients ['f_00109', 'f_00168', 'f_00097', 'f_00028', 'f_00029', 'f_00049', 'f_00149']\n",
      "Group 2, clients ['f_00161', 'f_00142', 'f_00061', 'f_00021', 'f_00022', 'f_00092']\n",
      "Group 3, clients ['f_00060', 'f_00130', 'f_00030']\n",
      "Group 4, clients ['f_00005', 'f_00025']\n"
     ]
    },
    {
     "name": "stderr",
     "output_type": "stream",
     "text": [
      "Epoch:   0%|                                                                                     | 0/20 [00:00<?, ?it/s]"
     ]
    },
    {
     "name": "stdout",
     "output_type": "stream",
     "text": [
      "Group 0\n",
      "At round 80 accuracy: 0.8324607329842932\n",
      "At round 80 training accuracy: 0.8179566563467492\n",
      "At round 80 training loss: 0.5491608520410378\n",
      "Group 1\n",
      "At round 80 accuracy: 0.7985865724381626\n",
      "At round 80 training accuracy: 0.7788018433179723\n",
      "At round 80 training loss: 0.5848710956336766\n",
      "Group 2\n",
      "At round 80 accuracy: 0.7784200385356455\n",
      "At round 80 training accuracy: 0.7779261237205163\n",
      "At round 80 training loss: 0.6243950591804348\n",
      "Group 3\n",
      "At round 80 accuracy: 0.9570815450643777\n",
      "At round 80 training accuracy: 0.9504214179474467\n",
      "At round 80 training loss: 0.20839870315881784\n",
      "Group 4\n",
      "At round 80 accuracy: 0.757396449704142\n",
      "At round 80 training accuracy: 0.7714884696016772\n",
      "At round 80 training loss: 0.5748713469549739\n",
      "At round 80 mean test accuracy: 0.8082120582120582 mean train accuracy: 0.8054320686925278\n",
      "The groups difference are: [0.         5.30227984 5.01478526 5.59669342 4.69379978]\n",
      "Begin group  0 training\n"
     ]
    },
    {
     "name": "stderr",
     "output_type": "stream",
     "text": [
      "Epoch:   0%|                                                                                     | 0/20 [00:00<?, ?it/s]"
     ]
    },
    {
     "name": "stdout",
     "output_type": "stream",
     "text": [
      "Begin group  1 training\n"
     ]
    },
    {
     "name": "stderr",
     "output_type": "stream",
     "text": [
      "Epoch:   0%|                                                                                     | 0/20 [00:00<?, ?it/s]"
     ]
    },
    {
     "name": "stdout",
     "output_type": "stream",
     "text": [
      "Begin group  2 training\n"
     ]
    },
    {
     "name": "stderr",
     "output_type": "stream",
     "text": [
      "Epoch:   0%|                                                                                     | 0/20 [00:00<?, ?it/s]"
     ]
    },
    {
     "name": "stdout",
     "output_type": "stream",
     "text": [
      "Begin group  3 training\n"
     ]
    },
    {
     "name": "stderr",
     "output_type": "stream",
     "text": [
      "Epoch:  25%|███████████████████▎                                                         | 5/20 [00:00<00:00, 46.66it/s]"
     ]
    },
    {
     "name": "stdout",
     "output_type": "stream",
     "text": [
      "Begin group  4 training\n"
     ]
    },
    {
     "name": "stderr",
     "output_type": "stream",
     "text": [
      "                                                                                                                        \r"
     ]
    },
    {
     "name": "stdout",
     "output_type": "stream",
     "text": [
      "Group 0, clients ['f_00103', 'f_00073', 'f_00044', 'f_00134', 'f_00143']\n",
      "Group 1, clients ['f_00088', 'f_00068', 'f_00189', 'f_00149']\n",
      "Group 2, clients ['f_00171', 'f_00182', 'f_00141', 'f_00032']\n",
      "Group 3, clients ['f_00160', 'f_00190']\n",
      "Group 4, clients ['f_00037', 'f_00147', 'f_00047', 'f_00086', 'f_00187']\n"
     ]
    },
    {
     "name": "stderr",
     "output_type": "stream",
     "text": [
      "Epoch:   0%|                                                                                     | 0/20 [00:00<?, ?it/s]"
     ]
    },
    {
     "name": "stdout",
     "output_type": "stream",
     "text": [
      "Group 0\n",
      "At round 81 accuracy: 0.8403141361256544\n",
      "At round 81 training accuracy: 0.8368421052631579\n",
      "At round 81 training loss: 0.4205358112005996\n",
      "Group 1\n",
      "At round 81 accuracy: 0.8268551236749117\n",
      "At round 81 training accuracy: 0.7989107666527021\n",
      "At round 81 training loss: 0.46464661451678524\n",
      "Group 2\n",
      "At round 81 accuracy: 0.884393063583815\n",
      "At round 81 training accuracy: 0.8911882510013351\n",
      "At round 81 training loss: 0.30557363940892773\n",
      "Group 3\n",
      "At round 81 accuracy: 0.9227467811158798\n",
      "At round 81 training accuracy: 0.9419930589985126\n",
      "At round 81 training loss: 0.22522868018045128\n",
      "Group 4\n",
      "At round 81 accuracy: 0.6370808678500987\n",
      "At round 81 training accuracy: 0.6424411833216864\n",
      "At round 81 training loss: 1.5403267536273293\n",
      "At round 81 mean test accuracy: 0.8066528066528067 mean train accuracy: 0.808294257353389\n",
      "The groups difference are: [0.         5.30042923 4.98136045 5.5877749  4.69653041]\n",
      "Begin group  0 training\n"
     ]
    },
    {
     "name": "stderr",
     "output_type": "stream",
     "text": [
      "Epoch:  50%|██████████████████████████████████████                                      | 10/20 [00:00<00:00, 97.76it/s]"
     ]
    },
    {
     "name": "stdout",
     "output_type": "stream",
     "text": [
      "Begin group  1 training\n"
     ]
    },
    {
     "name": "stderr",
     "output_type": "stream",
     "text": [
      "Epoch:   0%|                                                                                     | 0/20 [00:00<?, ?it/s]"
     ]
    },
    {
     "name": "stdout",
     "output_type": "stream",
     "text": [
      "Begin group  2 training\n"
     ]
    },
    {
     "name": "stderr",
     "output_type": "stream",
     "text": [
      "Epoch:  20%|███████████████▍                                                             | 4/20 [00:00<00:00, 34.60it/s]"
     ]
    },
    {
     "name": "stdout",
     "output_type": "stream",
     "text": [
      "Begin group  3 training\n"
     ]
    },
    {
     "name": "stderr",
     "output_type": "stream",
     "text": [
      "Epoch:  40%|██████████████████████████████▊                                              | 8/20 [00:00<00:00, 73.89it/s]"
     ]
    },
    {
     "name": "stdout",
     "output_type": "stream",
     "text": [
      "Begin group  4 training\n"
     ]
    },
    {
     "name": "stderr",
     "output_type": "stream",
     "text": [
      "                                                                                                                        \r"
     ]
    },
    {
     "name": "stdout",
     "output_type": "stream",
     "text": [
      "Group 0, clients ['f_00114', 'f_00084', 'f_00033']\n",
      "Group 1, clients ['f_00018', 'f_00179']\n",
      "Group 2, clients ['f_00151', 'f_00032', 'f_00191', 'f_00161']\n",
      "Group 3, clients ['f_00130', 'f_00090', 'f_00040', 'f_00140']\n",
      "Group 4, clients ['f_00086', 'f_00116', 'f_00066', 'f_00055', 'f_00107', 'f_00026', 'f_00015']\n"
     ]
    },
    {
     "name": "stderr",
     "output_type": "stream",
     "text": [
      "                                                                                                                        "
     ]
    },
    {
     "name": "stdout",
     "output_type": "stream",
     "text": [
      "Group 0\n",
      "At round 82 accuracy: 0.8429319371727748\n",
      "At round 82 training accuracy: 0.8405572755417957\n",
      "At round 82 training loss: 0.45275326479606953\n",
      "Group 1\n",
      "At round 82 accuracy: 0.8303886925795053\n",
      "At round 82 training accuracy: 0.7867616254713029\n",
      "At round 82 training loss: 0.4775257270094936\n",
      "Group 2\n",
      "At round 82 accuracy: 0.8227360308285164\n",
      "At round 82 training accuracy: 0.8168669336893636\n",
      "At round 82 training loss: 0.4951210273674291\n",
      "Group 3\n",
      "At round 82 accuracy: 0.9742489270386266\n",
      "At round 82 training accuracy: 0.9593455627169063\n",
      "At round 82 training loss: 0.20547382779563483\n",
      "Group 4\n",
      "At round 82 accuracy: 0.6587771203155819\n",
      "At round 82 training accuracy: 0.6689960400652225\n",
      "At round 82 training loss: 0.8818159787951442\n",
      "At round 82 mean test accuracy: 0.803014553014553 mean train accuracy: 0.7959929358747945\n",
      "The groups difference are: [0.         5.32107514 4.97848381 5.63636932 4.73648726]\n",
      "Begin group  0 training\n"
     ]
    },
    {
     "name": "stderr",
     "output_type": "stream",
     "text": [
      "                                                                                                                        "
     ]
    },
    {
     "name": "stdout",
     "output_type": "stream",
     "text": [
      "Begin group  1 training\n",
      "Begin group  2 training\n"
     ]
    },
    {
     "name": "stderr",
     "output_type": "stream",
     "text": [
      "Epoch:  40%|██████████████████████████████▊                                              | 8/20 [00:00<00:00, 73.77it/s]"
     ]
    },
    {
     "name": "stdout",
     "output_type": "stream",
     "text": [
      "Begin group  3 training\n"
     ]
    },
    {
     "name": "stderr",
     "output_type": "stream",
     "text": [
      "Epoch:   0%|                                                                                     | 0/20 [00:00<?, ?it/s]"
     ]
    },
    {
     "name": "stdout",
     "output_type": "stream",
     "text": [
      "Begin group  4 training\n"
     ]
    },
    {
     "name": "stderr",
     "output_type": "stream",
     "text": [
      "                                                                                                                        \r"
     ]
    },
    {
     "name": "stdout",
     "output_type": "stream",
     "text": [
      "Group 0, clients ['f_00113']\n",
      "Group 1, clients ['f_00069', 'f_00158', 'f_00109', 'f_00179', 'f_00088', 'f_00138']\n",
      "Group 2, clients ['f_00042', 'f_00161', 'f_00151', 'f_00071']\n",
      "Group 3, clients ['f_00030']\n",
      "Group 4, clients ['f_00027', 'f_00125', 'f_00147', 'f_00186', 'f_00046', 'f_00055', 'f_00056', 'f_00145']\n"
     ]
    },
    {
     "name": "stderr",
     "output_type": "stream",
     "text": [
      "Epoch:  60%|█████████████████████████████████████████████                              | 12/20 [00:00<00:00, 110.75it/s]"
     ]
    },
    {
     "name": "stdout",
     "output_type": "stream",
     "text": [
      "Group 0\n",
      "At round 83 accuracy: 0.887434554973822\n",
      "At round 83 training accuracy: 0.8786377708978328\n",
      "At round 83 training loss: 0.34869908831160135\n",
      "Group 1\n",
      "At round 83 accuracy: 0.8127208480565371\n",
      "At round 83 training accuracy: 0.7947214076246334\n",
      "At round 83 training loss: 0.4690050296719523\n",
      "Group 2\n",
      "At round 83 accuracy: 0.7822736030828517\n",
      "At round 83 training accuracy: 0.7846016911437472\n",
      "At round 83 training loss: 0.5998972296154415\n",
      "Group 3\n",
      "At round 83 accuracy: 0.9484978540772532\n",
      "At round 83 training accuracy: 0.9529003470500743\n",
      "At round 83 training loss: 0.20595828752944417\n",
      "Group 4\n",
      "At round 83 accuracy: 0.7199211045364892\n",
      "At round 83 training accuracy: 0.7419054274400186\n",
      "At round 83 training loss: 0.7528987731007938\n",
      "At round 83 mean test accuracy: 0.8113305613305614 mean train accuracy: 0.8140795323061933\n",
      "The groups difference are: [0.         5.30846518 4.97010984 5.62950587 4.71619601]\n",
      "Begin group  0 training\n",
      "Begin group  1 training\n"
     ]
    },
    {
     "name": "stderr",
     "output_type": "stream",
     "text": [
      "Epoch:   0%|                                                                                     | 0/20 [00:00<?, ?it/s]"
     ]
    },
    {
     "name": "stdout",
     "output_type": "stream",
     "text": [
      "Begin group  2 training\n"
     ]
    },
    {
     "name": "stderr",
     "output_type": "stream",
     "text": [
      "Epoch:   0%|                                                                                     | 0/20 [00:00<?, ?it/s]"
     ]
    },
    {
     "name": "stdout",
     "output_type": "stream",
     "text": [
      "Begin group  3 training\n",
      "Begin group  4 training\n"
     ]
    },
    {
     "name": "stderr",
     "output_type": "stream",
     "text": [
      "                                                                                                                        \r"
     ]
    },
    {
     "name": "stdout",
     "output_type": "stream",
     "text": [
      "Group 0, clients ['f_00103', 'f_00074', 'f_00104', 'f_00134', 'f_00054']\n",
      "Group 1, clients ['f_00188', 'f_00028', 'f_00059', 'f_00119']\n",
      "Group 2, clients ['f_00012', 'f_00011', 'f_00001']\n",
      "Group 3, clients ['f_00120']\n",
      "Group 4, clients ['f_00155', 'f_00096', 'f_00025', 'f_00157', 'f_00137', 'f_00085', 'f_00066']\n"
     ]
    },
    {
     "name": "stderr",
     "output_type": "stream",
     "text": [
      "Epoch:   0%|                                                                                     | 0/20 [00:00<?, ?it/s]"
     ]
    },
    {
     "name": "stdout",
     "output_type": "stream",
     "text": [
      "Group 0\n",
      "At round 84 accuracy: 0.856020942408377\n",
      "At round 84 training accuracy: 0.8473684210526315\n",
      "At round 84 training loss: 0.4345370570157335\n",
      "Group 1\n",
      "At round 84 accuracy: 0.8021201413427562\n",
      "At round 84 training accuracy: 0.7741935483870968\n",
      "At round 84 training loss: 0.4862717559547868\n",
      "Group 2\n",
      "At round 84 accuracy: 0.8285163776493256\n",
      "At round 84 training accuracy: 0.8411214953271028\n",
      "At round 84 training loss: 0.3872506587281591\n",
      "Group 3\n",
      "At round 84 accuracy: 0.9742489270386266\n",
      "At round 84 training accuracy: 0.9588497768963807\n",
      "At round 84 training loss: 0.20362025919339416\n",
      "Group 4\n",
      "At round 84 accuracy: 0.7416173570019724\n",
      "At round 84 training accuracy: 0.7677614721639879\n",
      "At round 84 training loss: 0.6761993478047329\n",
      "At round 84 mean test accuracy: 0.8248440748440748 mean train accuracy: 0.8279032945618415\n",
      "The groups difference are: [0.         5.29998075 4.93825711 5.60686676 4.70564561]\n",
      "Begin group  0 training\n"
     ]
    },
    {
     "name": "stderr",
     "output_type": "stream",
     "text": [
      "Epoch:   0%|                                                                                     | 0/20 [00:00<?, ?it/s]"
     ]
    },
    {
     "name": "stdout",
     "output_type": "stream",
     "text": [
      "Begin group  1 training\n"
     ]
    },
    {
     "name": "stderr",
     "output_type": "stream",
     "text": [
      "Epoch:   0%|                                                                                     | 0/20 [00:00<?, ?it/s]"
     ]
    },
    {
     "name": "stdout",
     "output_type": "stream",
     "text": [
      "Begin group  2 training\n"
     ]
    },
    {
     "name": "stderr",
     "output_type": "stream",
     "text": [
      "Epoch:   0%|                                                                                     | 0/20 [00:00<?, ?it/s]"
     ]
    },
    {
     "name": "stdout",
     "output_type": "stream",
     "text": [
      "Begin group  3 training\n",
      "Begin group  4 training\n"
     ]
    },
    {
     "name": "stderr",
     "output_type": "stream",
     "text": [
      "                                                                                                                        \r"
     ]
    },
    {
     "name": "stdout",
     "output_type": "stream",
     "text": [
      "Group 0, clients ['f_00094', 'f_00143', 'f_00023']\n",
      "Group 1, clients ['f_00139', 'f_00048', 'f_00049', 'f_00088', 'f_00028', 'f_00148']\n",
      "Group 2, clients ['f_00111', 'f_00042']\n",
      "Group 3, clients ['f_00070']\n",
      "Group 4, clients ['f_00167', 'f_00195', 'f_00046', 'f_00157', 'f_00066', 'f_00055', 'f_00185', 'f_00087']\n"
     ]
    },
    {
     "name": "stderr",
     "output_type": "stream",
     "text": [
      "Epoch:  45%|██████████████████████████████████▋                                          | 9/20 [00:00<00:00, 89.99it/s]"
     ]
    },
    {
     "name": "stdout",
     "output_type": "stream",
     "text": [
      "Group 0\n",
      "At round 85 accuracy: 0.8691099476439791\n",
      "At round 85 training accuracy: 0.8761609907120743\n",
      "At round 85 training loss: 0.3462672069853304\n",
      "Group 1\n",
      "At round 85 accuracy: 0.8091872791519434\n",
      "At round 85 training accuracy: 0.7825722664432342\n",
      "At round 85 training loss: 0.5814151572641789\n",
      "Group 2\n",
      "At round 85 accuracy: 0.8246628131021194\n",
      "At round 85 training accuracy: 0.8257676902536716\n",
      "At round 85 training loss: 0.4812651679904582\n",
      "Group 3\n",
      "At round 85 accuracy: 0.9742489270386266\n",
      "At round 85 training accuracy: 0.9593455627169063\n",
      "At round 85 training loss: 0.20236117342541463\n",
      "Group 4\n",
      "At round 85 accuracy: 0.7416173570019724\n",
      "At round 85 training accuracy: 0.7584439785697648\n",
      "At round 85 training loss: 0.656665518085023\n",
      "At round 85 mean test accuracy: 0.8274428274428275 mean train accuracy: 0.8282077827172523\n",
      "The groups difference are: [0.         5.29329834 4.93357032 5.59863319 4.69835907]\n",
      "Begin group  0 training\n"
     ]
    },
    {
     "name": "stderr",
     "output_type": "stream",
     "text": [
      "Epoch:   0%|                                                                                     | 0/20 [00:00<?, ?it/s]"
     ]
    },
    {
     "name": "stdout",
     "output_type": "stream",
     "text": [
      "Begin group  1 training\n"
     ]
    },
    {
     "name": "stderr",
     "output_type": "stream",
     "text": [
      "Epoch:   0%|                                                                                     | 0/20 [00:00<?, ?it/s]"
     ]
    },
    {
     "name": "stdout",
     "output_type": "stream",
     "text": [
      "Begin group  2 training\n"
     ]
    },
    {
     "name": "stderr",
     "output_type": "stream",
     "text": [
      "Epoch:  25%|███████████████████▎                                                         | 5/20 [00:00<00:00, 43.29it/s]"
     ]
    },
    {
     "name": "stdout",
     "output_type": "stream",
     "text": [
      "Begin group  3 training\n"
     ]
    },
    {
     "name": "stderr",
     "output_type": "stream",
     "text": [
      "Epoch:   0%|                                                                                     | 0/20 [00:00<?, ?it/s]"
     ]
    },
    {
     "name": "stdout",
     "output_type": "stream",
     "text": [
      "Begin group  4 training\n"
     ]
    },
    {
     "name": "stderr",
     "output_type": "stream",
     "text": [
      "                                                                                                                        \r"
     ]
    },
    {
     "name": "stdout",
     "output_type": "stream",
     "text": [
      "Group 0, clients ['f_00113', 'f_00094', 'f_00034', 'f_00074', 'f_00184', 'f_00083']\n",
      "Group 1, clients ['f_00189']\n",
      "Group 2, clients ['f_00171', 'f_00182', 'f_00001', 'f_00132', 'f_00012', 'f_00032']\n",
      "Group 3, clients ['f_00030']\n",
      "Group 4, clients ['f_00176', 'f_00055', 'f_00135', 'f_00195', 'f_00067', 'f_00037']\n"
     ]
    },
    {
     "name": "stderr",
     "output_type": "stream",
     "text": [
      "Epoch:  45%|██████████████████████████████████▋                                          | 9/20 [00:00<00:00, 82.98it/s]"
     ]
    },
    {
     "name": "stdout",
     "output_type": "stream",
     "text": [
      "Group 0\n",
      "At round 86 accuracy: 0.8691099476439791\n",
      "At round 86 training accuracy: 0.8739938080495356\n",
      "At round 86 training loss: 0.3439156826297196\n",
      "Group 1\n",
      "At round 86 accuracy: 0.8445229681978799\n",
      "At round 86 training accuracy: 0.8420611646418098\n",
      "At round 86 training loss: 0.41934048905375615\n",
      "Group 2\n",
      "At round 86 accuracy: 0.9017341040462428\n",
      "At round 86 training accuracy: 0.9078771695594126\n",
      "At round 86 training loss: 0.28012670594477684\n",
      "Group 3\n",
      "At round 86 accuracy: 0.9570815450643777\n",
      "At round 86 training accuracy: 0.9514129895884977\n",
      "At round 86 training loss: 0.200856072559443\n",
      "Group 4\n",
      "At round 86 accuracy: 0.6903353057199211\n",
      "At round 86 training accuracy: 0.7060330771022595\n",
      "At round 86 training loss: 0.7260244601663665\n",
      "At round 86 mean test accuracy: 0.8378378378378378 mean train accuracy: 0.844223859691858\n",
      "The groups difference are: [0.         5.28948025 4.91251232 5.62660324 4.72980988]\n",
      "Begin group  0 training\n"
     ]
    },
    {
     "name": "stderr",
     "output_type": "stream",
     "text": [
      "Epoch:  40%|██████████████████████████████▊                                              | 8/20 [00:00<00:00, 76.04it/s]"
     ]
    },
    {
     "name": "stdout",
     "output_type": "stream",
     "text": [
      "Begin group  1 training\n"
     ]
    },
    {
     "name": "stderr",
     "output_type": "stream",
     "text": [
      "Epoch:   0%|                                                                                     | 0/20 [00:00<?, ?it/s]"
     ]
    },
    {
     "name": "stdout",
     "output_type": "stream",
     "text": [
      "Begin group  2 training\n"
     ]
    },
    {
     "name": "stderr",
     "output_type": "stream",
     "text": [
      "Epoch:   0%|                                                                                     | 0/20 [00:00<?, ?it/s]"
     ]
    },
    {
     "name": "stdout",
     "output_type": "stream",
     "text": [
      "Begin group  3 training\n",
      "Begin group  4 training\n"
     ]
    },
    {
     "name": "stderr",
     "output_type": "stream",
     "text": [
      "                                                                                                                        \r"
     ]
    },
    {
     "name": "stdout",
     "output_type": "stream",
     "text": [
      "Group 0, clients ['f_00194', 'f_00044', 'f_00013', 'f_00024', 'f_00093']\n",
      "Group 1, clients ['f_00189', 'f_00158', 'f_00097', 'f_00008', 'f_00029']\n",
      "Group 2, clients ['f_00032', 'f_00012']\n",
      "Group 3, clients ['f_00180', 'f_00080']\n",
      "Group 4, clients ['f_00145', 'f_00125', 'f_00165', 'f_00106', 'f_00067', 'f_00135']\n"
     ]
    },
    {
     "name": "stderr",
     "output_type": "stream",
     "text": [
      "Epoch:  30%|███████████████████████                                                      | 6/20 [00:00<00:00, 56.59it/s]"
     ]
    },
    {
     "name": "stdout",
     "output_type": "stream",
     "text": [
      "Group 0\n",
      "At round 87 accuracy: 0.8612565445026178\n",
      "At round 87 training accuracy: 0.8752321981424148\n",
      "At round 87 training loss: 0.35877714261827826\n",
      "Group 1\n",
      "At round 87 accuracy: 0.8127208480565371\n",
      "At round 87 training accuracy: 0.8051948051948052\n",
      "At round 87 training loss: 0.9108700739835465\n",
      "Group 2\n",
      "At round 87 accuracy: 0.8516377649325626\n",
      "At round 87 training accuracy: 0.8709390298175345\n",
      "At round 87 training loss: 0.3180951871571405\n",
      "Group 3\n",
      "At round 87 accuracy: 0.9742489270386266\n",
      "At round 87 training accuracy: 0.9588497768963807\n",
      "At round 87 training loss: 0.20161990122846524\n",
      "Group 4\n",
      "At round 87 accuracy: 0.6528599605522682\n",
      "At round 87 training accuracy: 0.6706266014442115\n",
      "At round 87 training loss: 0.8092150094485244\n",
      "At round 87 mean test accuracy: 0.8102910602910602 mean train accuracy: 0.8206564764630656\n",
      "The groups difference are: [0.         5.30350821 4.90618542 5.6108462  4.74911019]\n",
      "Begin group  0 training\n"
     ]
    },
    {
     "name": "stderr",
     "output_type": "stream",
     "text": [
      "Epoch:  40%|██████████████████████████████▊                                              | 8/20 [00:00<00:00, 79.35it/s]"
     ]
    },
    {
     "name": "stdout",
     "output_type": "stream",
     "text": [
      "Begin group  1 training\n"
     ]
    },
    {
     "name": "stderr",
     "output_type": "stream",
     "text": [
      "Epoch:   0%|                                                                                     | 0/20 [00:00<?, ?it/s]"
     ]
    },
    {
     "name": "stdout",
     "output_type": "stream",
     "text": [
      "Begin group  2 training\n",
      "Begin group  3 training\n"
     ]
    },
    {
     "name": "stderr",
     "output_type": "stream",
     "text": [
      "Epoch:   0%|                                                                                     | 0/20 [00:00<?, ?it/s]"
     ]
    },
    {
     "name": "stdout",
     "output_type": "stream",
     "text": [
      "Begin group  4 training\n"
     ]
    },
    {
     "name": "stderr",
     "output_type": "stream",
     "text": [
      "                                                                                                                        \r"
     ]
    },
    {
     "name": "stdout",
     "output_type": "stream",
     "text": [
      "Group 0, clients ['f_00013', 'f_00074', 'f_00033', 'f_00153', 'f_00113']\n",
      "Group 1, clients ['f_00199', 'f_00158', 'f_00039', 'f_00129', 'f_00069']\n",
      "Group 2, clients ['f_00002', 'f_00111', 'f_00021']\n",
      "Group 3, clients ['f_00180']\n",
      "Group 4, clients ['f_00166', 'f_00085', 'f_00057', 'f_00087', 'f_00105', 'f_00096']\n"
     ]
    },
    {
     "name": "stderr",
     "output_type": "stream",
     "text": [
      "Epoch:   0%|                                                                                     | 0/20 [00:00<?, ?it/s]"
     ]
    },
    {
     "name": "stdout",
     "output_type": "stream",
     "text": [
      "Group 0\n",
      "At round 88 accuracy: 0.8612565445026178\n",
      "At round 88 training accuracy: 0.8786377708978328\n",
      "At round 88 training loss: 0.3394015436202011\n",
      "Group 1\n",
      "At round 88 accuracy: 0.8021201413427562\n",
      "At round 88 training accuracy: 0.7762882279011312\n",
      "At round 88 training loss: 0.5890458636813\n",
      "Group 2\n",
      "At round 88 accuracy: 0.8651252408477842\n",
      "At round 88 training accuracy: 0.8738317757009346\n",
      "At round 88 training loss: 0.31356206419908794\n",
      "Group 3\n",
      "At round 88 accuracy: 0.9613733905579399\n",
      "At round 88 training accuracy: 0.9568666336142786\n",
      "At round 88 training loss: 0.20205602800795863\n",
      "Group 4\n",
      "At round 88 accuracy: 0.7199211045364892\n",
      "At round 88 training accuracy: 0.7363149312834848\n",
      "At round 88 training loss: 0.6204205058183588\n",
      "At round 88 mean test accuracy: 0.8284823284823285 mean train accuracy: 0.8348456245052067\n",
      "The groups difference are: [0.         5.31564687 4.88972003 5.63491773 4.77476275]\n",
      "Begin group  0 training\n"
     ]
    },
    {
     "name": "stderr",
     "output_type": "stream",
     "text": [
      "Epoch:  30%|███████████████████████                                                      | 6/20 [00:00<00:00, 59.19it/s]"
     ]
    },
    {
     "name": "stdout",
     "output_type": "stream",
     "text": [
      "Begin group  1 training\n"
     ]
    },
    {
     "name": "stderr",
     "output_type": "stream",
     "text": [
      "Epoch:  40%|██████████████████████████████▊                                              | 8/20 [00:00<00:00, 77.27it/s]"
     ]
    },
    {
     "name": "stdout",
     "output_type": "stream",
     "text": [
      "Begin group  2 training\n"
     ]
    },
    {
     "name": "stderr",
     "output_type": "stream",
     "text": [
      "Epoch:  30%|███████████████████████                                                      | 6/20 [00:00<00:00, 50.98it/s]"
     ]
    },
    {
     "name": "stdout",
     "output_type": "stream",
     "text": [
      "Begin group  3 training\n"
     ]
    },
    {
     "name": "stderr",
     "output_type": "stream",
     "text": [
      "Epoch:  80%|████████████████████████████████████████████████████████████               | 16/20 [00:00<00:00, 159.51it/s]"
     ]
    },
    {
     "name": "stdout",
     "output_type": "stream",
     "text": [
      "Begin group  4 training\n"
     ]
    },
    {
     "name": "stderr",
     "output_type": "stream",
     "text": [
      "                                                                                                                        \r"
     ]
    },
    {
     "name": "stdout",
     "output_type": "stream",
     "text": [
      "Group 0, clients ['f_00014', 'f_00104', 'f_00144', 'f_00074']\n",
      "Group 1, clients ['f_00058', 'f_00179', 'f_00078', 'f_00089', 'f_00028']\n",
      "Group 2, clients ['f_00091', 'f_00012']\n",
      "Group 3, clients ['f_00170', 'f_00120']\n",
      "Group 4, clients ['f_00197', 'f_00127', 'f_00025', 'f_00095', 'f_00065', 'f_00196', 'f_00107']\n"
     ]
    },
    {
     "name": "stderr",
     "output_type": "stream",
     "text": [
      "Epoch:  45%|██████████████████████████████████▋                                          | 9/20 [00:00<00:00, 89.38it/s]"
     ]
    },
    {
     "name": "stdout",
     "output_type": "stream",
     "text": [
      "Group 0\n",
      "At round 89 accuracy: 0.8769633507853403\n",
      "At round 89 training accuracy: 0.8907120743034056\n",
      "At round 89 training loss: 0.32474700666664186\n",
      "Group 1\n",
      "At round 89 accuracy: 0.8127208480565371\n",
      "At round 89 training accuracy: 0.7846669459572685\n",
      "At round 89 training loss: 0.7540367664304997\n",
      "Group 2\n",
      "At round 89 accuracy: 0.859344894026975\n",
      "At round 89 training accuracy: 0.8664886515353805\n",
      "At round 89 training loss: 0.336054314937547\n",
      "Group 3\n",
      "At round 89 accuracy: 0.9399141630901288\n",
      "At round 89 training accuracy: 0.946950917203768\n",
      "At round 89 training loss: 0.2032269211499834\n",
      "Group 4\n",
      "At round 89 accuracy: 0.7061143984220908\n",
      "At round 89 training accuracy: 0.7067318891218263\n",
      "At round 89 training loss: 0.7125019567178841\n",
      "At round 89 mean test accuracy: 0.8253638253638254 mean train accuracy: 0.8274770111442665\n",
      "The groups difference are: [0.         5.31732211 4.87078832 5.64914127 4.79423349]\n",
      "Begin group  0 training\n"
     ]
    },
    {
     "name": "stderr",
     "output_type": "stream",
     "text": [
      "Epoch:   0%|                                                                                     | 0/20 [00:00<?, ?it/s]"
     ]
    },
    {
     "name": "stdout",
     "output_type": "stream",
     "text": [
      "Begin group  1 training\n"
     ]
    },
    {
     "name": "stderr",
     "output_type": "stream",
     "text": [
      "Epoch:  45%|██████████████████████████████████▋                                          | 9/20 [00:00<00:00, 80.38it/s]"
     ]
    },
    {
     "name": "stdout",
     "output_type": "stream",
     "text": [
      "Begin group  2 training\n"
     ]
    },
    {
     "name": "stderr",
     "output_type": "stream",
     "text": [
      "Epoch:  65%|████████████████████████████████████████████████▊                          | 13/20 [00:00<00:00, 128.60it/s]"
     ]
    },
    {
     "name": "stdout",
     "output_type": "stream",
     "text": [
      "Begin group  3 training\n"
     ]
    },
    {
     "name": "stderr",
     "output_type": "stream",
     "text": [
      "Epoch:   0%|                                                                                     | 0/20 [00:00<?, ?it/s]"
     ]
    },
    {
     "name": "stdout",
     "output_type": "stream",
     "text": [
      "Begin group  4 training\n"
     ]
    },
    {
     "name": "stderr",
     "output_type": "stream",
     "text": [
      "                                                                                                                        \r"
     ]
    },
    {
     "name": "stdout",
     "output_type": "stream",
     "text": [
      "Group 0, clients ['f_00193', 'f_00184', 'f_00083', 'f_00063']\n",
      "Group 1, clients ['f_00029', 'f_00088', 'f_00079', 'f_00038']\n",
      "Group 2, clients ['f_00082', 'f_00161', 'f_00041', 'f_00122', 'f_00001']\n",
      "Group 3 is empty.\n",
      "Group 4, clients ['f_00015', 'f_00117', 'f_00016', 'f_00145', 'f_00197', 'f_00115', 'f_00185']\n"
     ]
    },
    {
     "name": "stderr",
     "output_type": "stream",
     "text": [
      "Epoch:  65%|████████████████████████████████████████████████▊                          | 13/20 [00:00<00:00, 120.61it/s]"
     ]
    },
    {
     "name": "stdout",
     "output_type": "stream",
     "text": [
      "Group 0\n",
      "At round 90 accuracy: 0.837696335078534\n",
      "At round 90 training accuracy: 0.8136222910216718\n",
      "At round 90 training loss: 0.49436465847556804\n",
      "Group 1\n",
      "At round 90 accuracy: 0.8445229681978799\n",
      "At round 90 training accuracy: 0.8160871386677838\n",
      "At round 90 training loss: 0.45404259167271377\n",
      "Group 2\n",
      "At round 90 accuracy: 0.7726396917148363\n",
      "At round 90 training accuracy: 0.7765910102358701\n",
      "At round 90 training loss: 0.6405292629671723\n",
      "Group 3\n",
      "At round 90 accuracy: 0.9613733905579399\n",
      "At round 90 training accuracy: 0.9514129895884977\n",
      "At round 90 training loss: 0.19860706332448572\n",
      "Group 4\n",
      "At round 90 accuracy: 0.7830374753451677\n",
      "At round 90 training accuracy: 0.7775448404379222\n",
      "At round 90 training loss: 0.5347177431233802\n",
      "At round 90 mean test accuracy: 0.8217255717255717 mean train accuracy: 0.8113391389074965\n",
      "The groups difference are: [0.         5.31053166 4.88943891 5.6419499  4.77637648]\n",
      "Begin group  0 training\n"
     ]
    },
    {
     "name": "stderr",
     "output_type": "stream",
     "text": [
      "Epoch:   0%|                                                                                     | 0/20 [00:00<?, ?it/s]"
     ]
    },
    {
     "name": "stdout",
     "output_type": "stream",
     "text": [
      "Begin group  1 training\n"
     ]
    },
    {
     "name": "stderr",
     "output_type": "stream",
     "text": [
      "Epoch:   0%|                                                                                     | 0/20 [00:00<?, ?it/s]"
     ]
    },
    {
     "name": "stdout",
     "output_type": "stream",
     "text": [
      "Begin group  2 training\n"
     ]
    },
    {
     "name": "stderr",
     "output_type": "stream",
     "text": [
      "Epoch:  45%|██████████████████████████████████▋                                          | 9/20 [00:00<00:00, 87.71it/s]"
     ]
    },
    {
     "name": "stdout",
     "output_type": "stream",
     "text": [
      "Begin group  4 training\n"
     ]
    },
    {
     "name": "stderr",
     "output_type": "stream",
     "text": [
      "                                                                                                                        \r"
     ]
    },
    {
     "name": "stdout",
     "output_type": "stream",
     "text": [
      "Group 0, clients ['f_00023', 'f_00153', 'f_00124', 'f_00163', 'f_00184', 'f_00084', 'f_00003', 'f_00073']\n",
      "Group 1 is empty.\n",
      "Group 2, clients ['f_00011', 'f_00122', 'f_00112', 'f_00111']\n",
      "Group 3, clients ['f_00020', 'f_00090', 'f_00120']\n",
      "Group 4, clients ['f_00137', 'f_00027', 'f_00055', 'f_00177', 'f_00146']\n"
     ]
    },
    {
     "name": "stderr",
     "output_type": "stream",
     "text": [
      "Epoch:  35%|██████████████████████████▉                                                  | 7/20 [00:00<00:00, 64.36it/s]"
     ]
    },
    {
     "name": "stdout",
     "output_type": "stream",
     "text": [
      "Group 0\n",
      "At round 91 accuracy: 0.8769633507853403\n",
      "At round 91 training accuracy: 0.9018575851393189\n",
      "At round 91 training loss: 0.3081864049467878\n",
      "Group 1\n",
      "At round 91 accuracy: 0.8197879858657244\n",
      "At round 91 training accuracy: 0.7938835358190197\n",
      "At round 91 training loss: 0.5686602850382578\n",
      "Group 2\n",
      "At round 91 accuracy: 0.859344894026975\n",
      "At round 91 training accuracy: 0.8644859813084113\n",
      "At round 91 training loss: 0.39558629473090223\n",
      "Group 3\n",
      "At round 91 accuracy: 0.9613733905579399\n",
      "At round 91 training accuracy: 0.9514129895884977\n",
      "At round 91 training loss: 0.19922066830471713\n",
      "Group 4\n",
      "At round 91 accuracy: 0.8126232741617357\n",
      "At round 91 training accuracy: 0.8269275564873049\n",
      "At round 91 training loss: 0.583967311747308\n",
      "At round 91 mean test accuracy: 0.8570686070686071 mean train accuracy: 0.8624322513854211\n",
      "The groups difference are: [0.         5.30788521 4.85661608 5.61939425 4.76738941]\n",
      "Begin group  0 training\n"
     ]
    },
    {
     "name": "stderr",
     "output_type": "stream",
     "text": [
      "Epoch:   0%|                                                                                     | 0/20 [00:00<?, ?it/s]"
     ]
    },
    {
     "name": "stdout",
     "output_type": "stream",
     "text": [
      "Begin group  2 training\n"
     ]
    },
    {
     "name": "stderr",
     "output_type": "stream",
     "text": [
      "Epoch:   0%|                                                                                     | 0/20 [00:00<?, ?it/s]"
     ]
    },
    {
     "name": "stdout",
     "output_type": "stream",
     "text": [
      "Begin group  3 training\n"
     ]
    },
    {
     "name": "stderr",
     "output_type": "stream",
     "text": [
      "Epoch:   0%|                                                                                     | 0/20 [00:00<?, ?it/s]"
     ]
    },
    {
     "name": "stdout",
     "output_type": "stream",
     "text": [
      "Begin group  4 training\n"
     ]
    },
    {
     "name": "stderr",
     "output_type": "stream",
     "text": [
      "                                                                                                                        \r"
     ]
    },
    {
     "name": "stdout",
     "output_type": "stream",
     "text": [
      "Group 0, clients ['f_00024', 'f_00063', 'f_00034', 'f_00044', 'f_00194', 'f_00123', 'f_00183']\n",
      "Group 1, clients ['f_00038']\n",
      "Group 2, clients ['f_00032', 'f_00031', 'f_00091', 'f_00141', 'f_00061', 'f_00022']\n",
      "Group 3 is empty.\n",
      "Group 4, clients ['f_00116', 'f_00176', 'f_00026', 'f_00007', 'f_00036', 'f_00115']\n"
     ]
    },
    {
     "name": "stderr",
     "output_type": "stream",
     "text": [
      "                                                                                                                        "
     ]
    },
    {
     "name": "stdout",
     "output_type": "stream",
     "text": [
      "Group 0\n",
      "At round 92 accuracy: 0.8350785340314136\n",
      "At round 92 training accuracy: 0.8464396284829722\n",
      "At round 92 training loss: 0.3815468410450977\n",
      "Group 1\n",
      "At round 92 accuracy: 0.8197879858657244\n",
      "At round 92 training accuracy: 0.7938835358190197\n",
      "At round 92 training loss: 0.5678598653629678\n",
      "Group 2\n",
      "At round 92 accuracy: 0.8516377649325626\n",
      "At round 92 training accuracy: 0.8582554517133957\n",
      "At round 92 training loss: 0.3691825350298052\n",
      "Group 3\n",
      "At round 92 accuracy: 0.9570815450643777\n",
      "At round 92 training accuracy: 0.9573624194348042\n",
      "At round 92 training loss: 0.197840402976794\n",
      "Group 4\n",
      "At round 92 accuracy: 0.6331360946745562\n",
      "At round 92 training accuracy: 0.6436058700209644\n",
      "At round 92 training loss: 0.9575505724965123\n",
      "At round 92 mean test accuracy: 0.7988565488565489 mean train accuracy: 0.8026307776627489\n",
      "The groups difference are: [0.         5.30387962 4.85094314 5.6320446  4.80094142]\n",
      "Begin group  0 training\n"
     ]
    },
    {
     "name": "stderr",
     "output_type": "stream",
     "text": [
      "Epoch:   0%|                                                                                     | 0/20 [00:00<?, ?it/s]"
     ]
    },
    {
     "name": "stdout",
     "output_type": "stream",
     "text": [
      "Begin group  1 training\n",
      "Begin group  2 training\n"
     ]
    },
    {
     "name": "stderr",
     "output_type": "stream",
     "text": [
      "Epoch:   0%|                                                                                     | 0/20 [00:00<?, ?it/s]"
     ]
    },
    {
     "name": "stdout",
     "output_type": "stream",
     "text": [
      "Begin group  4 training\n"
     ]
    },
    {
     "name": "stderr",
     "output_type": "stream",
     "text": [
      "                                                                                                                        \r"
     ]
    },
    {
     "name": "stdout",
     "output_type": "stream",
     "text": [
      "Group 0, clients ['f_00004', 'f_00153', 'f_00054']\n",
      "Group 1, clients ['f_00089', 'f_00068', 'f_00028', 'f_00129', 'f_00119', 'f_00078']\n",
      "Group 2, clients ['f_00182', 'f_00041', 'f_00151', 'f_00052']\n",
      "Group 3, clients ['f_00050', 'f_00100']\n",
      "Group 4, clients ['f_00065', 'f_00136', 'f_00095', 'f_00007', 'f_00175']\n"
     ]
    },
    {
     "name": "stderr",
     "output_type": "stream",
     "text": [
      "Epoch:   0%|                                                                                     | 0/20 [00:00<?, ?it/s]"
     ]
    },
    {
     "name": "stdout",
     "output_type": "stream",
     "text": [
      "Group 0\n",
      "At round 93 accuracy: 0.8717277486910995\n",
      "At round 93 training accuracy: 0.8845201238390092\n",
      "At round 93 training loss: 0.33898574194118336\n",
      "Group 1\n",
      "At round 93 accuracy: 0.823321554770318\n",
      "At round 93 training accuracy: 0.8265605362379556\n",
      "At round 93 training loss: 0.523840535789491\n",
      "Group 2\n",
      "At round 93 accuracy: 0.8169556840077071\n",
      "At round 93 training accuracy: 0.8137516688918558\n",
      "At round 93 training loss: 0.5318616914351914\n",
      "Group 3\n",
      "At round 93 accuracy: 0.9570815450643777\n",
      "At round 93 training accuracy: 0.9573624194348042\n",
      "At round 93 training loss: 0.1983971702517645\n",
      "Group 4\n",
      "At round 93 accuracy: 0.7199211045364892\n",
      "At round 93 training accuracy: 0.7435359888190077\n",
      "At round 93 training loss: 0.7482000942496662\n",
      "At round 93 mean test accuracy: 0.8201663201663202 mean train accuracy: 0.8288167590280738\n",
      "The groups difference are: [0.         5.31045965 4.86256351 5.62498994 4.79656017]\n",
      "Begin group  0 training\n"
     ]
    },
    {
     "name": "stderr",
     "output_type": "stream",
     "text": [
      "Epoch:  55%|█████████████████████████████████████████▎                                 | 11/20 [00:00<00:00, 108.91it/s]"
     ]
    },
    {
     "name": "stdout",
     "output_type": "stream",
     "text": [
      "Begin group  1 training\n"
     ]
    },
    {
     "name": "stderr",
     "output_type": "stream",
     "text": [
      "Epoch:   0%|                                                                                     | 0/20 [00:00<?, ?it/s]"
     ]
    },
    {
     "name": "stdout",
     "output_type": "stream",
     "text": [
      "Begin group  2 training\n"
     ]
    },
    {
     "name": "stderr",
     "output_type": "stream",
     "text": [
      "Epoch:  35%|██████████████████████████▉                                                  | 7/20 [00:00<00:00, 66.58it/s]"
     ]
    },
    {
     "name": "stdout",
     "output_type": "stream",
     "text": [
      "Begin group  3 training\n"
     ]
    },
    {
     "name": "stderr",
     "output_type": "stream",
     "text": [
      "Epoch:   0%|                                                                                     | 0/20 [00:00<?, ?it/s]"
     ]
    },
    {
     "name": "stdout",
     "output_type": "stream",
     "text": [
      "Begin group  4 training\n"
     ]
    },
    {
     "name": "stderr",
     "output_type": "stream",
     "text": [
      "                                                                                                                        \r"
     ]
    },
    {
     "name": "stdout",
     "output_type": "stream",
     "text": [
      "Group 0, clients ['f_00054', 'f_00064', 'f_00044']\n",
      "Group 1, clients ['f_00159', 'f_00028', 'f_00049', 'f_00149']\n",
      "Group 2, clients ['f_00092', 'f_00071']\n",
      "Group 3, clients ['f_00020', 'f_00100', 'f_00130', 'f_00080', 'f_00180']\n",
      "Group 4, clients ['f_00167', 'f_00145', 'f_00195', 'f_00177', 'f_00037', 'f_00025']\n"
     ]
    },
    {
     "name": "stderr",
     "output_type": "stream",
     "text": [
      "                                                                                                                        "
     ]
    },
    {
     "name": "stdout",
     "output_type": "stream",
     "text": [
      "Group 0\n",
      "At round 94 accuracy: 0.8717277486910995\n",
      "At round 94 training accuracy: 0.8857585139318885\n",
      "At round 94 training loss: 0.3221204110712459\n",
      "Group 1\n",
      "At round 94 accuracy: 0.784452296819788\n",
      "At round 94 training accuracy: 0.7582739840804357\n",
      "At round 94 training loss: 0.5143642314043713\n",
      "Group 2\n",
      "At round 94 accuracy: 0.8709055876685935\n",
      "At round 94 training accuracy: 0.8720516243880729\n",
      "At round 94 training loss: 0.3826542110889023\n",
      "Group 3\n",
      "At round 94 accuracy: 0.9484978540772532\n",
      "At round 94 training accuracy: 0.9524045612295489\n",
      "At round 94 training loss: 0.20004784535241707\n",
      "Group 4\n",
      "At round 94 accuracy: 0.727810650887574\n",
      "At round 94 training accuracy: 0.7495923596552527\n",
      "At round 94 training loss: 0.7397285318516252\n",
      "At round 94 mean test accuracy: 0.83004158004158 mean train accuracy: 0.8360635771268498\n",
      "The groups difference are: [0.         5.30644155 4.85204555 5.62783881 4.78318164]\n",
      "Begin group  0 training\n"
     ]
    },
    {
     "name": "stderr",
     "output_type": "stream",
     "text": [
      "Epoch:   0%|                                                                                     | 0/20 [00:00<?, ?it/s]"
     ]
    },
    {
     "name": "stdout",
     "output_type": "stream",
     "text": [
      "Begin group  1 training\n"
     ]
    },
    {
     "name": "stderr",
     "output_type": "stream",
     "text": [
      "Epoch:   0%|                                                                                     | 0/20 [00:00<?, ?it/s]"
     ]
    },
    {
     "name": "stdout",
     "output_type": "stream",
     "text": [
      "Begin group  2 training\n"
     ]
    },
    {
     "name": "stderr",
     "output_type": "stream",
     "text": [
      "Epoch:   0%|                                                                                     | 0/20 [00:00<?, ?it/s]"
     ]
    },
    {
     "name": "stdout",
     "output_type": "stream",
     "text": [
      "Begin group  3 training\n"
     ]
    },
    {
     "name": "stderr",
     "output_type": "stream",
     "text": [
      "Epoch:   0%|                                                                                     | 0/20 [00:00<?, ?it/s]"
     ]
    },
    {
     "name": "stdout",
     "output_type": "stream",
     "text": [
      "Begin group  4 training\n"
     ]
    },
    {
     "name": "stderr",
     "output_type": "stream",
     "text": [
      "                                                                                                                        \r"
     ]
    },
    {
     "name": "stdout",
     "output_type": "stream",
     "text": [
      "Group 0, clients ['f_00043', 'f_00063', 'f_00004', 'f_00053', 'f_00144', 'f_00174']\n",
      "Group 1, clients ['f_00179', 'f_00089', 'f_00178', 'f_00169', 'f_00069', 'f_00109']\n",
      "Group 2, clients ['f_00112', 'f_00061', 'f_00021']\n",
      "Group 3, clients ['f_00110', 'f_00160']\n",
      "Group 4, clients ['f_00137', 'f_00066', 'f_00085']\n"
     ]
    },
    {
     "name": "stderr",
     "output_type": "stream",
     "text": [
      "Epoch:  70%|████████████████████████████████████████████████████▌                      | 14/20 [00:00<00:00, 137.49it/s]"
     ]
    },
    {
     "name": "stdout",
     "output_type": "stream",
     "text": [
      "Group 0\n",
      "At round 95 accuracy: 0.8455497382198953\n",
      "At round 95 training accuracy: 0.8374613003095975\n",
      "At round 95 training loss: 0.4520151717697873\n",
      "Group 1\n",
      "At round 95 accuracy: 0.8162544169611308\n",
      "At round 95 training accuracy: 0.7943024717218266\n",
      "At round 95 training loss: 0.5961474138551993\n",
      "Group 2\n",
      "At round 95 accuracy: 0.8458574181117534\n",
      "At round 95 training accuracy: 0.8627058299955496\n",
      "At round 95 training loss: 0.35159509173587367\n",
      "Group 3\n",
      "At round 95 accuracy: 0.944206008583691\n",
      "At round 95 training accuracy: 0.9484382746653446\n",
      "At round 95 training loss: 0.20404650759640813\n",
      "Group 4\n",
      "At round 95 accuracy: 0.7218934911242604\n",
      "At round 95 training accuracy: 0.7507570463545307\n",
      "At round 95 training loss: 0.6125426621473727\n",
      "At round 95 mean test accuracy: 0.8206860706860707 mean train accuracy: 0.8290603495524024\n",
      "The groups difference are: [0.         5.298339   4.84643224 5.63289154 4.78604772]\n",
      "Begin group  0 training\n"
     ]
    },
    {
     "name": "stderr",
     "output_type": "stream",
     "text": [
      "Epoch:   0%|                                                                                     | 0/20 [00:00<?, ?it/s]"
     ]
    },
    {
     "name": "stdout",
     "output_type": "stream",
     "text": [
      "Begin group  1 training\n"
     ]
    },
    {
     "name": "stderr",
     "output_type": "stream",
     "text": [
      "Epoch:   0%|                                                                                     | 0/20 [00:00<?, ?it/s]"
     ]
    },
    {
     "name": "stdout",
     "output_type": "stream",
     "text": [
      "Begin group  2 training\n"
     ]
    },
    {
     "name": "stderr",
     "output_type": "stream",
     "text": [
      "Epoch:  15%|███████████▌                                                                 | 3/20 [00:00<00:00, 28.98it/s]"
     ]
    },
    {
     "name": "stdout",
     "output_type": "stream",
     "text": [
      "Begin group  3 training\n"
     ]
    },
    {
     "name": "stderr",
     "output_type": "stream",
     "text": [
      "Epoch:   0%|                                                                                     | 0/20 [00:00<?, ?it/s]"
     ]
    },
    {
     "name": "stdout",
     "output_type": "stream",
     "text": [
      "Begin group  4 training\n"
     ]
    },
    {
     "name": "stderr",
     "output_type": "stream",
     "text": [
      "                                                                                                                        \r"
     ]
    },
    {
     "name": "stdout",
     "output_type": "stream",
     "text": [
      "Group 0, clients ['f_00113', 'f_00093', 'f_00173', 'f_00184']\n",
      "Group 1, clients ['f_00198']\n",
      "Group 2, clients ['f_00102', 'f_00071', 'f_00032', 'f_00051']\n",
      "Group 3, clients ['f_00080']\n",
      "Group 4, clients ['f_00035', 'f_00005', 'f_00167', 'f_00185', 'f_00096', 'f_00175', 'f_00015', 'f_00026', 'f_00086', 'f_00036']\n"
     ]
    },
    {
     "name": "stderr",
     "output_type": "stream",
     "text": [
      "Epoch:  30%|███████████████████████                                                      | 6/20 [00:00<00:00, 52.77it/s]"
     ]
    },
    {
     "name": "stdout",
     "output_type": "stream",
     "text": [
      "Group 0\n",
      "At round 96 accuracy: 0.8350785340314136\n",
      "At round 96 training accuracy: 0.8337461300309598\n",
      "At round 96 training loss: 0.4826829972604849\n",
      "Group 1\n",
      "At round 96 accuracy: 0.8162544169611308\n",
      "At round 96 training accuracy: 0.7905320485965647\n",
      "At round 96 training loss: 0.626285213760167\n",
      "Group 2\n",
      "At round 96 accuracy: 0.8516377649325626\n",
      "At round 96 training accuracy: 0.8693813974187806\n",
      "At round 96 training loss: 0.3229843750264467\n",
      "Group 3\n",
      "At round 96 accuracy: 0.9399141630901288\n",
      "At round 96 training accuracy: 0.946950917203768\n",
      "At round 96 training loss: 0.20260664404738818\n",
      "Group 4\n",
      "At round 96 accuracy: 0.7416173570019724\n",
      "At round 96 training accuracy: 0.756114605171209\n",
      "At round 96 training loss: 0.6781400381831503\n",
      "At round 96 mean test accuracy: 0.8248440748440748 mean train accuracy: 0.8308263808537848\n",
      "The groups difference are: [0.         5.31796913 4.83294329 5.6895138  4.81496456]\n",
      "Begin group  0 training\n"
     ]
    },
    {
     "name": "stderr",
     "output_type": "stream",
     "text": [
      "Epoch:   0%|                                                                                     | 0/20 [00:00<?, ?it/s]"
     ]
    },
    {
     "name": "stdout",
     "output_type": "stream",
     "text": [
      "Begin group  1 training\n",
      "Begin group  2 training\n"
     ]
    },
    {
     "name": "stderr",
     "output_type": "stream",
     "text": [
      "Epoch:  35%|██████████████████████████▉                                                  | 7/20 [00:00<00:00, 61.54it/s]"
     ]
    },
    {
     "name": "stdout",
     "output_type": "stream",
     "text": [
      "Begin group  3 training\n"
     ]
    },
    {
     "name": "stderr",
     "output_type": "stream",
     "text": [
      "Epoch:   0%|                                                                                     | 0/20 [00:00<?, ?it/s]"
     ]
    },
    {
     "name": "stdout",
     "output_type": "stream",
     "text": [
      "Begin group  4 training\n"
     ]
    },
    {
     "name": "stderr",
     "output_type": "stream",
     "text": [
      "                                                                                                                        \r"
     ]
    },
    {
     "name": "stdout",
     "output_type": "stream",
     "text": [
      "Group 0, clients ['f_00063']\n",
      "Group 1, clients ['f_00128', 'f_00049', 'f_00038', 'f_00058']\n",
      "Group 2, clients ['f_00121', 'f_00022']\n",
      "Group 3, clients ['f_00020', 'f_00140', 'f_00110', 'f_00030']\n",
      "Group 4, clients ['f_00085', 'f_00055', 'f_00145', 'f_00005', 'f_00167', 'f_00045', 'f_00047', 'f_00056', 'f_00065']\n"
     ]
    },
    {
     "name": "stderr",
     "output_type": "stream",
     "text": [
      "Epoch:   0%|                                                                                     | 0/20 [00:00<?, ?it/s]"
     ]
    },
    {
     "name": "stdout",
     "output_type": "stream",
     "text": [
      "Group 0\n",
      "At round 97 accuracy: 0.8429319371727748\n",
      "At round 97 training accuracy: 0.8390092879256966\n",
      "At round 97 training loss: 0.467664341972247\n",
      "Group 1\n",
      "At round 97 accuracy: 0.8374558303886925\n",
      "At round 97 training accuracy: 0.8374528697109342\n",
      "At round 97 training loss: 0.5496795295383025\n",
      "Group 2\n",
      "At round 97 accuracy: 0.8651252408477842\n",
      "At round 97 training accuracy: 0.8713840676457499\n",
      "At round 97 training loss: 0.3356647380873475\n",
      "Group 3\n",
      "At round 97 accuracy: 0.8969957081545065\n",
      "At round 97 training accuracy: 0.8889439762022806\n",
      "At round 97 training loss: 0.29064093546431197\n",
      "Group 4\n",
      "At round 97 accuracy: 0.7435897435897436\n",
      "At round 97 training accuracy: 0.7668297228045655\n",
      "At round 97 training loss: 0.8017622319247766\n",
      "At round 97 mean test accuracy: 0.8284823284823285 mean train accuracy: 0.8349065221362889\n",
      "The groups difference are: [0.         5.31944543 4.82005731 5.70324381 4.81036821]\n",
      "Begin group  0 training\n",
      "Begin group  1 training\n"
     ]
    },
    {
     "name": "stderr",
     "output_type": "stream",
     "text": [
      "Epoch:  25%|███████████████████▎                                                         | 5/20 [00:00<00:00, 48.76it/s]"
     ]
    },
    {
     "name": "stdout",
     "output_type": "stream",
     "text": [
      "Begin group  2 training\n"
     ]
    },
    {
     "name": "stderr",
     "output_type": "stream",
     "text": [
      "Epoch:   0%|                                                                                     | 0/20 [00:00<?, ?it/s]"
     ]
    },
    {
     "name": "stdout",
     "output_type": "stream",
     "text": [
      "Begin group  3 training\n"
     ]
    },
    {
     "name": "stderr",
     "output_type": "stream",
     "text": [
      "Epoch:   0%|                                                                                     | 0/20 [00:00<?, ?it/s]"
     ]
    },
    {
     "name": "stdout",
     "output_type": "stream",
     "text": [
      "Begin group  4 training\n"
     ]
    },
    {
     "name": "stderr",
     "output_type": "stream",
     "text": [
      "                                                                                                                        \r"
     ]
    },
    {
     "name": "stdout",
     "output_type": "stream",
     "text": [
      "Group 0, clients ['f_00064', 'f_00153', 'f_00134', 'f_00184']\n",
      "Group 1, clients ['f_00058', 'f_00119', 'f_00097', 'f_00198', 'f_00128']\n",
      "Group 2, clients ['f_00041', 'f_00051', 'f_00182', 'f_00121', 'f_00152', 'f_00112']\n",
      "Group 3 is empty.\n",
      "Group 4, clients ['f_00155', 'f_00115', 'f_00145', 'f_00096', 'f_00135']\n"
     ]
    },
    {
     "name": "stderr",
     "output_type": "stream",
     "text": [
      "Epoch:   0%|                                                                                     | 0/20 [00:00<?, ?it/s]"
     ]
    },
    {
     "name": "stdout",
     "output_type": "stream",
     "text": [
      "Group 0\n",
      "At round 98 accuracy: 0.8167539267015707\n",
      "At round 98 training accuracy: 0.8185758513931889\n",
      "At round 98 training loss: 0.582247025538063\n",
      "Group 1\n",
      "At round 98 accuracy: 0.833922261484099\n",
      "At round 98 training accuracy: 0.8470883954754922\n",
      "At round 98 training loss: 0.4796633433861167\n",
      "Group 2\n",
      "At round 98 accuracy: 0.74373795761079\n",
      "At round 98 training accuracy: 0.7496662216288384\n",
      "At round 98 training loss: 0.8001019816363208\n",
      "Group 3\n",
      "At round 98 accuracy: 0.9570815450643777\n",
      "At round 98 training accuracy: 0.9573624194348042\n",
      "At round 98 training loss: 0.19308433003158457\n",
      "Group 4\n",
      "At round 98 accuracy: 0.6548323471400395\n",
      "At round 98 training accuracy: 0.6634055439086886\n",
      "At round 98 training loss: 0.8924548975583587\n",
      "At round 98 mean test accuracy: 0.7739085239085239 mean train accuracy: 0.7803422446866817\n",
      "The groups difference are: [0.         5.30557198 4.83131711 5.69035173 4.80362993]\n",
      "Begin group  0 training\n"
     ]
    },
    {
     "name": "stderr",
     "output_type": "stream",
     "text": [
      "Epoch:   0%|                                                                                     | 0/20 [00:00<?, ?it/s]"
     ]
    },
    {
     "name": "stdout",
     "output_type": "stream",
     "text": [
      "Begin group  1 training\n"
     ]
    },
    {
     "name": "stderr",
     "output_type": "stream",
     "text": [
      "Epoch:   0%|                                                                                     | 0/20 [00:00<?, ?it/s]"
     ]
    },
    {
     "name": "stdout",
     "output_type": "stream",
     "text": [
      "Begin group  2 training\n"
     ]
    },
    {
     "name": "stderr",
     "output_type": "stream",
     "text": [
      "Epoch:   0%|                                                                                     | 0/20 [00:00<?, ?it/s]"
     ]
    },
    {
     "name": "stdout",
     "output_type": "stream",
     "text": [
      "Begin group  4 training\n"
     ]
    },
    {
     "name": "stderr",
     "output_type": "stream",
     "text": [
      "                                                                                                                        \r"
     ]
    },
    {
     "name": "stdout",
     "output_type": "stream",
     "text": [
      "Group 0, clients ['f_00024', 'f_00043', 'f_00153']\n",
      "Group 1, clients ['f_00119', 'f_00049', 'f_00009']\n",
      "Group 2, clients ['f_00191', 'f_00111', 'f_00081', 'f_00121']\n",
      "Group 3, clients ['f_00050']\n",
      "Group 4, clients ['f_00135', 'f_00127', 'f_00066', 'f_00036', 'f_00126', 'f_00187', 'f_00085', 'f_00155', 'f_00195']\n"
     ]
    },
    {
     "name": "stderr",
     "output_type": "stream",
     "text": [
      "Epoch:   0%|                                                                                     | 0/20 [00:00<?, ?it/s]"
     ]
    },
    {
     "name": "stdout",
     "output_type": "stream",
     "text": [
      "Group 0\n",
      "At round 99 accuracy: 0.8691099476439791\n",
      "At round 99 training accuracy: 0.8712074303405573\n",
      "At round 99 training loss: 0.3563664954559353\n",
      "Group 1\n",
      "At round 99 accuracy: 0.8197879858657244\n",
      "At round 99 training accuracy: 0.7901131126937578\n",
      "At round 99 training loss: 0.4566198375542692\n",
      "Group 2\n",
      "At round 99 accuracy: 0.8092485549132948\n",
      "At round 99 training accuracy: 0.8113039608366711\n",
      "At round 99 training loss: 0.45706808419660244\n",
      "Group 3\n",
      "At round 99 accuracy: 0.9613733905579399\n",
      "At round 99 training accuracy: 0.9578582052553297\n",
      "At round 99 training loss: 0.19360222230837612\n",
      "Group 4\n",
      "At round 99 accuracy: 0.7001972386587771\n",
      "At round 99 training accuracy: 0.7200093174935942\n",
      "At round 99 training loss: 0.9558392259073846\n",
      "At round 99 mean test accuracy: 0.8123700623700624 mean train accuracy: 0.8141404299372754\n",
      "The groups difference are: [0.         5.29839177 4.83478692 5.66874625 4.78515121]\n",
      "Begin group  0 training\n",
      "Begin group  1 training\n"
     ]
    },
    {
     "name": "stderr",
     "output_type": "stream",
     "text": [
      "Epoch:   0%|                                                                                     | 0/20 [00:00<?, ?it/s]"
     ]
    },
    {
     "name": "stdout",
     "output_type": "stream",
     "text": [
      "Begin group  2 training\n"
     ]
    },
    {
     "name": "stderr",
     "output_type": "stream",
     "text": [
      "Epoch:  40%|██████████████████████████████▊                                              | 8/20 [00:00<00:00, 76.71it/s]"
     ]
    },
    {
     "name": "stdout",
     "output_type": "stream",
     "text": [
      "Begin group  3 training\n",
      "Begin group  4 training\n"
     ]
    },
    {
     "name": "stderr",
     "output_type": "stream",
     "text": [
      "                                                                                                                        \r"
     ]
    },
    {
     "name": "stdout",
     "output_type": "stream",
     "text": [
      "Group 0, clients ['f_00104', 'f_00164', 'f_00124', 'f_00154', 'f_00194', 'f_00163']\n",
      "Group 1, clients ['f_00099', 'f_00069']\n",
      "Group 2, clients ['f_00092', 'f_00111', 'f_00052', 'f_00182', 'f_00031']\n",
      "Group 3 is empty.\n",
      "Group 4, clients ['f_00126', 'f_00167', 'f_00116', 'f_00096', 'f_00125', 'f_00196', 'f_00177']\n"
     ]
    },
    {
     "name": "stderr",
     "output_type": "stream",
     "text": [
      "Epoch:   0%|                                                                                     | 0/20 [00:00<?, ?it/s]"
     ]
    },
    {
     "name": "stdout",
     "output_type": "stream",
     "text": [
      "Group 0\n",
      "At round 100 accuracy: 0.8612565445026178\n",
      "At round 100 training accuracy: 0.8842105263157894\n",
      "At round 100 training loss: 0.3152045036409477\n",
      "Group 1\n",
      "At round 100 accuracy: 0.8162544169611308\n",
      "At round 100 training accuracy: 0.7984918307498953\n",
      "At round 100 training loss: 0.7223761983630944\n",
      "Group 2\n",
      "At round 100 accuracy: 0.7148362235067437\n",
      "At round 100 training accuracy: 0.7269692923898531\n",
      "At round 100 training loss: 0.9147600501304899\n",
      "Group 3\n",
      "At round 100 accuracy: 0.9613733905579399\n",
      "At round 100 training accuracy: 0.9548834903321765\n",
      "At round 100 training loss: 0.19393322068641963\n",
      "Group 4\n",
      "At round 100 accuracy: 0.73767258382643\n",
      "At round 100 training accuracy: 0.76659678546471\n",
      "At round 100 training loss: 0.794928895401116\n",
      "At round 100 mean test accuracy: 0.7946985446985447 mean train accuracy: 0.8066500213141709\n",
      "The groups difference are: [0.         5.28811211 4.83065615 5.64523897 4.78428734]\n",
      "Begin group  0 training\n"
     ]
    },
    {
     "name": "stderr",
     "output_type": "stream",
     "text": [
      "Epoch:   0%|                                                                                     | 0/20 [00:00<?, ?it/s]"
     ]
    },
    {
     "name": "stdout",
     "output_type": "stream",
     "text": [
      "Begin group  1 training\n"
     ]
    },
    {
     "name": "stderr",
     "output_type": "stream",
     "text": [
      "Epoch:   0%|                                                                                     | 0/20 [00:00<?, ?it/s]"
     ]
    },
    {
     "name": "stdout",
     "output_type": "stream",
     "text": [
      "Begin group  2 training\n"
     ]
    },
    {
     "name": "stderr",
     "output_type": "stream",
     "text": [
      "Epoch:  70%|████████████████████████████████████████████████████▌                      | 14/20 [00:00<00:00, 133.86it/s]"
     ]
    },
    {
     "name": "stdout",
     "output_type": "stream",
     "text": [
      "Begin group  4 training\n"
     ]
    },
    {
     "name": "stderr",
     "output_type": "stream",
     "text": [
      "                                                                                                                        \r"
     ]
    },
    {
     "name": "stdout",
     "output_type": "stream",
     "text": [
      "Group 0, clients ['f_00054', 'f_00074', 'f_00174', 'f_00034']\n",
      "Group 1, clients ['f_00109', 'f_00089', 'f_00119', 'f_00148', 'f_00149', 'f_00039']\n",
      "Group 2, clients ['f_00031', 'f_00142', 'f_00112', 'f_00141']\n",
      "Group 3, clients ['f_00170']\n",
      "Group 4, clients ['f_00037', 'f_00066', 'f_00145', 'f_00055', 'f_00025']\n"
     ]
    },
    {
     "name": "stderr",
     "output_type": "stream",
     "text": [
      "                                                                                                                        "
     ]
    },
    {
     "name": "stdout",
     "output_type": "stream",
     "text": [
      "Group 0\n",
      "At round 101 accuracy: 0.8324607329842932\n",
      "At round 101 training accuracy: 0.8312693498452013\n",
      "At round 101 training loss: 0.5183180673157468\n",
      "Group 1\n",
      "At round 101 accuracy: 0.8162544169611308\n",
      "At round 101 training accuracy: 0.7984918307498953\n",
      "At round 101 training loss: 0.8655395412706011\n",
      "Group 2\n",
      "At round 101 accuracy: 0.8670520231213873\n",
      "At round 101 training accuracy: 0.8780596350689809\n",
      "At round 101 training loss: 0.32024221338454384\n",
      "Group 3\n",
      "At round 101 accuracy: 0.9613733905579399\n",
      "At round 101 training accuracy: 0.9548834903321765\n",
      "At round 101 training loss: 0.19449314063559917\n",
      "Group 4\n",
      "At round 101 accuracy: 0.7297830374753451\n",
      "At round 101 training accuracy: 0.7337526205450734\n",
      "At round 101 training loss: 0.6719908677813836\n",
      "At round 101 mean test accuracy: 0.827962577962578 mean train accuracy: 0.8289994519213203\n",
      "The groups difference are: [0.         5.31317463 4.85383191 5.64856952 4.80052972]\n",
      "Begin group  0 training\n"
     ]
    },
    {
     "name": "stderr",
     "output_type": "stream",
     "text": [
      "Epoch:   0%|                                                                                     | 0/20 [00:00<?, ?it/s]"
     ]
    },
    {
     "name": "stdout",
     "output_type": "stream",
     "text": [
      "Begin group  1 training\n"
     ]
    },
    {
     "name": "stderr",
     "output_type": "stream",
     "text": [
      "Epoch:   0%|                                                                                     | 0/20 [00:00<?, ?it/s]"
     ]
    },
    {
     "name": "stdout",
     "output_type": "stream",
     "text": [
      "Begin group  2 training\n"
     ]
    },
    {
     "name": "stderr",
     "output_type": "stream",
     "text": [
      "Epoch:  50%|██████████████████████████████████████                                      | 10/20 [00:00<00:00, 94.50it/s]"
     ]
    },
    {
     "name": "stdout",
     "output_type": "stream",
     "text": [
      "Begin group  3 training\n",
      "Begin group  4 training\n"
     ]
    },
    {
     "name": "stderr",
     "output_type": "stream",
     "text": [
      "                                                                                                                        \r"
     ]
    },
    {
     "name": "stdout",
     "output_type": "stream",
     "text": [
      "Group 0, clients ['f_00054', 'f_00034', 'f_00163', 'f_00083', 'f_00144']\n",
      "Group 1, clients ['f_00118', 'f_00029', 'f_00119', 'f_00008', 'f_00099', 'f_00129']\n",
      "Group 2, clients ['f_00142', 'f_00002']\n",
      "Group 3, clients ['f_00120']\n",
      "Group 4, clients ['f_00057', 'f_00085', 'f_00185', 'f_00005', 'f_00036', 'f_00087']\n"
     ]
    },
    {
     "name": "stderr",
     "output_type": "stream",
     "text": [
      "Epoch:  55%|█████████████████████████████████████████▎                                 | 11/20 [00:00<00:00, 103.54it/s]"
     ]
    },
    {
     "name": "stdout",
     "output_type": "stream",
     "text": [
      "Group 0\n",
      "At round 102 accuracy: 0.8324607329842932\n",
      "At round 102 training accuracy: 0.8123839009287925\n",
      "At round 102 training loss: 0.5776299729159003\n",
      "Group 1\n",
      "At round 102 accuracy: 0.8162544169611308\n",
      "At round 102 training accuracy: 0.7972350230414746\n",
      "At round 102 training loss: 0.8077527375733398\n",
      "Group 2\n",
      "At round 102 accuracy: 0.8805394990366089\n",
      "At round 102 training accuracy: 0.8880729862038274\n",
      "At round 102 training loss: 0.2927067037199304\n",
      "Group 3\n",
      "At round 102 accuracy: 0.9785407725321889\n",
      "At round 102 training accuracy: 0.9657907783837383\n",
      "At round 102 training loss: 0.1935975688057603\n",
      "Group 4\n",
      "At round 102 accuracy: 0.7790927021696252\n",
      "At round 102 training accuracy: 0.7868623340321453\n",
      "At round 102 training loss: 0.5902744477795688\n",
      "At round 102 mean test accuracy: 0.8466735966735967 mean train accuracy: 0.8430668047012971\n",
      "The groups difference are: [0.         5.30493371 4.84149676 5.63214905 4.79560125]\n",
      "Begin group  0 training\n"
     ]
    },
    {
     "name": "stderr",
     "output_type": "stream",
     "text": [
      "Epoch:  30%|███████████████████████                                                      | 6/20 [00:00<00:00, 54.68it/s]"
     ]
    },
    {
     "name": "stdout",
     "output_type": "stream",
     "text": [
      "Begin group  1 training\n"
     ]
    },
    {
     "name": "stderr",
     "output_type": "stream",
     "text": [
      "Epoch:  50%|██████████████████████████████████████                                      | 10/20 [00:00<00:00, 89.34it/s]"
     ]
    },
    {
     "name": "stdout",
     "output_type": "stream",
     "text": [
      "Begin group  2 training\n"
     ]
    },
    {
     "name": "stderr",
     "output_type": "stream",
     "text": [
      "Epoch:   0%|                                                                                     | 0/20 [00:00<?, ?it/s]"
     ]
    },
    {
     "name": "stdout",
     "output_type": "stream",
     "text": [
      "Begin group  3 training\n",
      "Begin group  4 training\n"
     ]
    },
    {
     "name": "stderr",
     "output_type": "stream",
     "text": [
      "                                                                                                                        \r"
     ]
    },
    {
     "name": "stdout",
     "output_type": "stream",
     "text": [
      "Group 0, clients ['f_00003', 'f_00193', 'f_00064', 'f_00113', 'f_00164']\n",
      "Group 1, clients ['f_00009', 'f_00149']\n",
      "Group 2, clients ['f_00031', 'f_00162', 'f_00052', 'f_00032', 'f_00101', 'f_00111']\n",
      "Group 3, clients ['f_00160', 'f_00190']\n",
      "Group 4, clients ['f_00155', 'f_00186', 'f_00166', 'f_00085', 'f_00127']\n"
     ]
    },
    {
     "name": "stderr",
     "output_type": "stream",
     "text": [
      "Epoch:  90%|███████████████████████████████████████████████████████████████████▌       | 18/20 [00:00<00:00, 174.59it/s]"
     ]
    },
    {
     "name": "stdout",
     "output_type": "stream",
     "text": [
      "Group 0\n",
      "At round 103 accuracy: 0.8795811518324608\n",
      "At round 103 training accuracy: 0.8857585139318885\n",
      "At round 103 training loss: 0.32195870805266474\n",
      "Group 1\n",
      "At round 103 accuracy: 0.7491166077738516\n",
      "At round 103 training accuracy: 0.7373271889400922\n",
      "At round 103 training loss: 0.6271704365555891\n",
      "Group 2\n",
      "At round 103 accuracy: 0.8709055876685935\n",
      "At round 103 training accuracy: 0.8689363595905651\n",
      "At round 103 training loss: 0.3710890989443913\n",
      "Group 3\n",
      "At round 103 accuracy: 0.9785407725321889\n",
      "At round 103 training accuracy: 0.9598413485374319\n",
      "At round 103 training loss: 0.1958986926356577\n",
      "Group 4\n",
      "At round 103 accuracy: 0.7810650887573964\n",
      "At round 103 training accuracy: 0.8022361984626135\n",
      "At round 103 training loss: 0.5324944071410947\n",
      "At round 103 mean test accuracy: 0.8440748440748441 mean train accuracy: 0.8468424578283905\n",
      "The groups difference are: [0.         5.30777516 4.82184918 5.62279178 4.80689357]\n",
      "Begin group  0 training\n"
     ]
    },
    {
     "name": "stderr",
     "output_type": "stream",
     "text": [
      "                                                                                                                        "
     ]
    },
    {
     "name": "stdout",
     "output_type": "stream",
     "text": [
      "Begin group  1 training\n",
      "Begin group  2 training\n"
     ]
    },
    {
     "name": "stderr",
     "output_type": "stream",
     "text": [
      "Epoch:  20%|███████████████▍                                                             | 4/20 [00:00<00:00, 37.38it/s]"
     ]
    },
    {
     "name": "stdout",
     "output_type": "stream",
     "text": [
      "Begin group  3 training\n"
     ]
    },
    {
     "name": "stderr",
     "output_type": "stream",
     "text": [
      "Epoch:   0%|                                                                                     | 0/20 [00:00<?, ?it/s]"
     ]
    },
    {
     "name": "stdout",
     "output_type": "stream",
     "text": [
      "Begin group  4 training\n"
     ]
    },
    {
     "name": "stderr",
     "output_type": "stream",
     "text": [
      "                                                                                                                        \r"
     ]
    },
    {
     "name": "stdout",
     "output_type": "stream",
     "text": [
      "Group 0, clients ['f_00104', 'f_00034', 'f_00064', 'f_00154', 'f_00113', 'f_00084', 'f_00153', 'f_00123', 'f_00164']\n",
      "Group 1, clients ['f_00128', 'f_00049', 'f_00018', 'f_00028']\n",
      "Group 2, clients ['f_00192', 'f_00061', 'f_00001']\n",
      "Group 3, clients ['f_00130']\n",
      "Group 4, clients ['f_00045', 'f_00005', 'f_00047']\n"
     ]
    },
    {
     "name": "stderr",
     "output_type": "stream",
     "text": [
      "Epoch:   0%|                                                                                     | 0/20 [00:00<?, ?it/s]"
     ]
    },
    {
     "name": "stdout",
     "output_type": "stream",
     "text": [
      "Group 0\n",
      "At round 104 accuracy: 0.837696335078534\n",
      "At round 104 training accuracy: 0.8222910216718267\n",
      "At round 104 training loss: 0.5307636810068744\n",
      "Group 1\n",
      "At round 104 accuracy: 0.8197879858657244\n",
      "At round 104 training accuracy: 0.8035190615835777\n",
      "At round 104 training loss: 0.7058332593503686\n",
      "Group 2\n",
      "At round 104 accuracy: 0.8554913294797688\n",
      "At round 104 training accuracy: 0.8622607921673342\n",
      "At round 104 training loss: 0.34333867371135357\n",
      "Group 3\n",
      "At round 104 accuracy: 0.9570815450643777\n",
      "At round 104 training accuracy: 0.9548834903321765\n",
      "At round 104 training loss: 0.19179882938813383\n",
      "Group 4\n",
      "At round 104 accuracy: 0.814595660749507\n",
      "At round 104 training accuracy: 0.8308874912648497\n",
      "At round 104 training loss: 0.5528685274364064\n",
      "At round 104 mean test accuracy: 0.8482328482328483 mean train accuracy: 0.8490347725473479\n",
      "The groups difference are: [0.         5.33421722 4.86412707 5.68516148 4.80538636]\n",
      "Begin group  0 training\n"
     ]
    },
    {
     "name": "stderr",
     "output_type": "stream",
     "text": [
      "Epoch:   0%|                                                                                     | 0/20 [00:00<?, ?it/s]"
     ]
    },
    {
     "name": "stdout",
     "output_type": "stream",
     "text": [
      "Begin group  1 training\n"
     ]
    },
    {
     "name": "stderr",
     "output_type": "stream",
     "text": [
      "                                                                                                                        "
     ]
    },
    {
     "name": "stdout",
     "output_type": "stream",
     "text": [
      "Begin group  2 training\n",
      "Begin group  3 training\n"
     ]
    },
    {
     "name": "stderr",
     "output_type": "stream",
     "text": [
      "Epoch:   0%|                                                                                     | 0/20 [00:00<?, ?it/s]"
     ]
    },
    {
     "name": "stdout",
     "output_type": "stream",
     "text": [
      "Begin group  4 training\n"
     ]
    },
    {
     "name": "stderr",
     "output_type": "stream",
     "text": [
      "                                                                                                                        \r"
     ]
    },
    {
     "name": "stdout",
     "output_type": "stream",
     "text": [
      "Group 0, clients ['f_00193', 'f_00044', 'f_00093', 'f_00043']\n",
      "Group 1, clients ['f_00168', 'f_00018', 'f_00118', 'f_00139', 'f_00128', 'f_00198']\n",
      "Group 2, clients ['f_00191', 'f_00171']\n",
      "Group 3, clients ['f_00110']\n",
      "Group 4, clients ['f_00037', 'f_00147', 'f_00096', 'f_00125', 'f_00115', 'f_00126', 'f_00086']\n"
     ]
    },
    {
     "name": "stderr",
     "output_type": "stream",
     "text": [
      "                                                                                                                        "
     ]
    },
    {
     "name": "stdout",
     "output_type": "stream",
     "text": [
      "Group 0\n",
      "At round 105 accuracy: 0.8455497382198953\n",
      "At round 105 training accuracy: 0.8634674922600619\n",
      "At round 105 training loss: 0.3805920631477707\n",
      "Group 1\n",
      "At round 105 accuracy: 0.8833922261484098\n",
      "At round 105 training accuracy: 0.8701298701298701\n",
      "At round 105 training loss: 0.400620707905737\n",
      "Group 2\n",
      "At round 105 accuracy: 0.884393063583815\n",
      "At round 105 training accuracy: 0.894971072541166\n",
      "At round 105 training loss: 0.2997842711584272\n",
      "Group 3\n",
      "At round 105 accuracy: 0.871244635193133\n",
      "At round 105 training accuracy: 0.8824987605354487\n",
      "At round 105 training loss: 0.278446880857662\n",
      "Group 4\n",
      "At round 105 accuracy: 0.6390532544378699\n",
      "At round 105 training accuracy: 0.6433729326811087\n",
      "At round 105 training loss: 1.0945582529297804\n",
      "At round 105 mean test accuracy: 0.8102910602910602 mean train accuracy: 0.8178551854332866\n",
      "The groups difference are: [0.         5.34611915 4.87214891 5.69029092 4.81414183]\n",
      "Begin group  0 training\n"
     ]
    },
    {
     "name": "stderr",
     "output_type": "stream",
     "text": [
      "Epoch:   0%|                                                                                     | 0/20 [00:00<?, ?it/s]"
     ]
    },
    {
     "name": "stdout",
     "output_type": "stream",
     "text": [
      "Begin group  1 training\n"
     ]
    },
    {
     "name": "stderr",
     "output_type": "stream",
     "text": [
      "Epoch:   0%|                                                                                     | 0/20 [00:00<?, ?it/s]"
     ]
    },
    {
     "name": "stdout",
     "output_type": "stream",
     "text": [
      "Begin group  2 training\n"
     ]
    },
    {
     "name": "stderr",
     "output_type": "stream",
     "text": [
      "Epoch:   0%|                                                                                     | 0/20 [00:00<?, ?it/s]"
     ]
    },
    {
     "name": "stdout",
     "output_type": "stream",
     "text": [
      "Begin group  3 training\n",
      "Begin group  4 training\n"
     ]
    },
    {
     "name": "stderr",
     "output_type": "stream",
     "text": [
      "                                                                                                                        \r"
     ]
    },
    {
     "name": "stdout",
     "output_type": "stream",
     "text": [
      "Group 0, clients ['f_00003', 'f_00154', 'f_00124', 'f_00174', 'f_00063', 'f_00014', 'f_00133', 'f_00084']\n",
      "Group 1, clients ['f_00049', 'f_00019', 'f_00149']\n",
      "Group 2, clients ['f_00181', 'f_00192', 'f_00032', 'f_00102']\n",
      "Group 3, clients ['f_00060', 'f_00190']\n",
      "Group 4, clients ['f_00036', 'f_00065', 'f_00016']\n"
     ]
    },
    {
     "name": "stderr",
     "output_type": "stream",
     "text": [
      "Epoch:  30%|███████████████████████                                                      | 6/20 [00:00<00:00, 58.25it/s]"
     ]
    },
    {
     "name": "stdout",
     "output_type": "stream",
     "text": [
      "Group 0\n",
      "At round 106 accuracy: 0.8403141361256544\n",
      "At round 106 training accuracy: 0.8414860681114551\n",
      "At round 106 training loss: 0.4236388537352299\n",
      "Group 1\n",
      "At round 106 accuracy: 0.773851590106007\n",
      "At round 106 training accuracy: 0.7725178047758693\n",
      "At round 106 training loss: 0.703652216791857\n",
      "Group 2\n",
      "At round 106 accuracy: 0.7456647398843931\n",
      "At round 106 training accuracy: 0.7472185135736538\n",
      "At round 106 training loss: 0.739056555959626\n",
      "Group 3\n",
      "At round 106 accuracy: 0.9527896995708155\n",
      "At round 106 training accuracy: 0.9538919186911254\n",
      "At round 106 training loss: 0.19436035327055576\n",
      "Group 4\n",
      "At round 106 accuracy: 0.7790927021696252\n",
      "At round 106 training accuracy: 0.7861635220125787\n",
      "At round 106 training loss: 0.5893288265255096\n",
      "At round 106 mean test accuracy: 0.8024948024948025 mean train accuracy: 0.8050057852749528\n",
      "The groups difference are: [0.         5.3604966  4.86375922 5.68205207 4.8381053 ]\n",
      "Begin group  0 training\n"
     ]
    },
    {
     "name": "stderr",
     "output_type": "stream",
     "text": [
      "Epoch:   0%|                                                                                     | 0/20 [00:00<?, ?it/s]"
     ]
    },
    {
     "name": "stdout",
     "output_type": "stream",
     "text": [
      "Begin group  1 training\n"
     ]
    },
    {
     "name": "stderr",
     "output_type": "stream",
     "text": [
      "Epoch:   0%|                                                                                     | 0/20 [00:00<?, ?it/s]"
     ]
    },
    {
     "name": "stdout",
     "output_type": "stream",
     "text": [
      "Begin group  2 training\n"
     ]
    },
    {
     "name": "stderr",
     "output_type": "stream",
     "text": [
      "Epoch:  65%|████████████████████████████████████████████████▊                          | 13/20 [00:00<00:00, 123.05it/s]"
     ]
    },
    {
     "name": "stdout",
     "output_type": "stream",
     "text": [
      "Begin group  3 training\n"
     ]
    },
    {
     "name": "stderr",
     "output_type": "stream",
     "text": [
      "Epoch:  85%|███████████████████████████████████████████████████████████████▊           | 17/20 [00:00<00:00, 164.52it/s]"
     ]
    },
    {
     "name": "stdout",
     "output_type": "stream",
     "text": [
      "Begin group  4 training\n"
     ]
    },
    {
     "name": "stderr",
     "output_type": "stream",
     "text": [
      "                                                                                                                        \r"
     ]
    },
    {
     "name": "stdout",
     "output_type": "stream",
     "text": [
      "Group 0, clients ['f_00193', 'f_00173', 'f_00164']\n",
      "Group 1, clients ['f_00097', 'f_00019', 'f_00128', 'f_00039', 'f_00018', 'f_00129', 'f_00109', 'f_00159', 'f_00069', 'f_00078']\n",
      "Group 2, clients ['f_00121', 'f_00052', 'f_00002', 'f_00012', 'f_00132']\n",
      "Group 3, clients ['f_00010']\n",
      "Group 4, clients ['f_00127']\n"
     ]
    },
    {
     "name": "stderr",
     "output_type": "stream",
     "text": [
      "Epoch:   0%|                                                                                     | 0/20 [00:00<?, ?it/s]"
     ]
    },
    {
     "name": "stdout",
     "output_type": "stream",
     "text": [
      "Group 0\n",
      "At round 107 accuracy: 0.8534031413612565\n",
      "At round 107 training accuracy: 0.8678018575851393\n",
      "At round 107 training loss: 0.3782716292115188\n",
      "Group 1\n",
      "At round 107 accuracy: 0.8197879858657244\n",
      "At round 107 training accuracy: 0.8047758692919983\n",
      "At round 107 training loss: 0.6907144251650579\n",
      "Group 2\n",
      "At round 107 accuracy: 0.8516377649325626\n",
      "At round 107 training accuracy: 0.8611481975967957\n",
      "At round 107 training loss: 0.35371732058249744\n",
      "Group 3\n",
      "At round 107 accuracy: 0.9742489270386266\n",
      "At round 107 training accuracy: 0.9593455627169063\n",
      "At round 107 training loss: 0.1924317406991891\n",
      "Group 4\n",
      "At round 107 accuracy: 0.7357001972386588\n",
      "At round 107 training accuracy: 0.7703237829023992\n",
      "At round 107 training loss: 0.7015580181236343\n",
      "At round 107 mean test accuracy: 0.8316008316008316 mean train accuracy: 0.8425796236526399\n",
      "The groups difference are: [0.         5.36024696 4.86133261 5.68012351 4.81687428]\n",
      "Begin group  0 training\n"
     ]
    },
    {
     "name": "stderr",
     "output_type": "stream",
     "text": [
      "                                                                                                                        "
     ]
    },
    {
     "name": "stdout",
     "output_type": "stream",
     "text": [
      "Begin group  1 training\n"
     ]
    },
    {
     "name": "stderr",
     "output_type": "stream",
     "text": [
      "Epoch:  25%|███████████████████▎                                                         | 5/20 [00:00<00:00, 46.84it/s]"
     ]
    },
    {
     "name": "stdout",
     "output_type": "stream",
     "text": [
      "Begin group  2 training\n"
     ]
    },
    {
     "name": "stderr",
     "output_type": "stream",
     "text": [
      "Epoch:  30%|███████████████████████                                                      | 6/20 [00:00<00:00, 56.48it/s]"
     ]
    },
    {
     "name": "stdout",
     "output_type": "stream",
     "text": [
      "Begin group  3 training\n"
     ]
    },
    {
     "name": "stderr",
     "output_type": "stream",
     "text": [
      "                                                                                                                        \r"
     ]
    },
    {
     "name": "stdout",
     "output_type": "stream",
     "text": [
      "Begin group  4 training\n",
      "Group 0, clients ['f_00113', 'f_00074', 'f_00024', 'f_00063']\n",
      "Group 1, clients ['f_00089', 'f_00098', 'f_00019', 'f_00009', 'f_00179']\n",
      "Group 2, clients ['f_00022', 'f_00002', 'f_00031']\n",
      "Group 3, clients ['f_00180', 'f_00030', 'f_00140']\n",
      "Group 4, clients ['f_00196', 'f_00077', 'f_00146', 'f_00106', 'f_00007']\n"
     ]
    },
    {
     "name": "stderr",
     "output_type": "stream",
     "text": [
      "Epoch:  65%|████████████████████████████████████████████████▊                          | 13/20 [00:00<00:00, 126.64it/s]"
     ]
    },
    {
     "name": "stdout",
     "output_type": "stream",
     "text": [
      "Group 0\n",
      "At round 108 accuracy: 0.806282722513089\n",
      "At round 108 training accuracy: 0.820123839009288\n",
      "At round 108 training loss: 0.537936723407577\n",
      "Group 1\n",
      "At round 108 accuracy: 0.8162544169611308\n",
      "At round 108 training accuracy: 0.7943024717218266\n",
      "At round 108 training loss: 0.6386983905894316\n",
      "Group 2\n",
      "At round 108 accuracy: 0.8554913294797688\n",
      "At round 108 training accuracy: 0.8620382732532266\n",
      "At round 108 training loss: 0.3436367507372424\n",
      "Group 3\n",
      "At round 108 accuracy: 0.9785407725321889\n",
      "At round 108 training accuracy: 0.9657907783837383\n",
      "At round 108 training loss: 0.19097078008688967\n",
      "Group 4\n",
      "At round 108 accuracy: 0.7001972386587771\n",
      "At round 108 training accuracy: 0.7018402049848591\n",
      "At round 108 training loss: 0.7378415996944213\n",
      "At round 108 mean test accuracy: 0.8139293139293139 mean train accuracy: 0.8148103038791791\n",
      "The groups difference are: [0.         5.3941523  4.91517027 5.72782594 4.83968299]\n",
      "Begin group  0 training\n"
     ]
    },
    {
     "name": "stderr",
     "output_type": "stream",
     "text": [
      "Epoch:   0%|                                                                                     | 0/20 [00:00<?, ?it/s]"
     ]
    },
    {
     "name": "stdout",
     "output_type": "stream",
     "text": [
      "Begin group  1 training\n"
     ]
    },
    {
     "name": "stderr",
     "output_type": "stream",
     "text": [
      "Epoch:   0%|                                                                                     | 0/20 [00:00<?, ?it/s]"
     ]
    },
    {
     "name": "stdout",
     "output_type": "stream",
     "text": [
      "Begin group  2 training\n"
     ]
    },
    {
     "name": "stderr",
     "output_type": "stream",
     "text": [
      "Epoch:  25%|███████████████████▎                                                         | 5/20 [00:00<00:00, 47.90it/s]"
     ]
    },
    {
     "name": "stdout",
     "output_type": "stream",
     "text": [
      "Begin group  3 training\n"
     ]
    },
    {
     "name": "stderr",
     "output_type": "stream",
     "text": [
      "Epoch:   0%|                                                                                     | 0/20 [00:00<?, ?it/s]"
     ]
    },
    {
     "name": "stdout",
     "output_type": "stream",
     "text": [
      "Begin group  4 training\n"
     ]
    },
    {
     "name": "stderr",
     "output_type": "stream",
     "text": [
      "                                                                                                                        \r"
     ]
    },
    {
     "name": "stdout",
     "output_type": "stream",
     "text": [
      "Group 0, clients ['f_00023', 'f_00054', 'f_00083', 'f_00193', 'f_00124', 'f_00014']\n",
      "Group 1, clients ['f_00079']\n",
      "Group 2, clients ['f_00001']\n",
      "Group 3, clients ['f_00070', 'f_00190', 'f_00130', 'f_00110']\n",
      "Group 4, clients ['f_00076', 'f_00005', 'f_00155', 'f_00066', 'f_00055', 'f_00047', 'f_00107', 'f_00035']\n"
     ]
    },
    {
     "name": "stderr",
     "output_type": "stream",
     "text": [
      "Epoch:  40%|██████████████████████████████▊                                              | 8/20 [00:00<00:00, 70.83it/s]"
     ]
    },
    {
     "name": "stdout",
     "output_type": "stream",
     "text": [
      "Group 0\n",
      "At round 109 accuracy: 0.8848167539267016\n",
      "At round 109 training accuracy: 0.9030959752321981\n",
      "At round 109 training loss: 0.29166755987671505\n",
      "Group 1\n",
      "At round 109 accuracy: 0.7879858657243817\n",
      "At round 109 training accuracy: 0.7708420611646418\n",
      "At round 109 training loss: 0.5508270637355792\n",
      "Group 2\n",
      "At round 109 accuracy: 0.8651252408477842\n",
      "At round 109 training accuracy: 0.8716065865598576\n",
      "At round 109 training loss: 0.3418559722327157\n",
      "Group 3\n",
      "At round 109 accuracy: 0.9785407725321889\n",
      "At round 109 training accuracy: 0.9647992067426872\n",
      "At round 109 training loss: 0.19139640294772656\n",
      "Group 4\n",
      "At round 109 accuracy: 0.6982248520710059\n",
      "At round 109 training accuracy: 0.7202422548334498\n",
      "At round 109 training loss: 0.704428467131594\n",
      "At round 109 mean test accuracy: 0.8274428274428275 mean train accuracy: 0.8350283173984532\n",
      "The groups difference are: [0.         5.3976706  4.89212486 5.72833896 4.82930808]\n",
      "Begin group  0 training\n"
     ]
    },
    {
     "name": "stderr",
     "output_type": "stream",
     "text": [
      "Epoch:   0%|                                                                                     | 0/20 [00:00<?, ?it/s]"
     ]
    },
    {
     "name": "stdout",
     "output_type": "stream",
     "text": [
      "Begin group  1 training\n",
      "Begin group  2 training\n"
     ]
    },
    {
     "name": "stderr",
     "output_type": "stream",
     "text": [
      "Epoch:  30%|███████████████████████                                                      | 6/20 [00:00<00:00, 55.46it/s]"
     ]
    },
    {
     "name": "stdout",
     "output_type": "stream",
     "text": [
      "Begin group  3 training\n"
     ]
    },
    {
     "name": "stderr",
     "output_type": "stream",
     "text": [
      "Epoch:  25%|███████████████████▎                                                         | 5/20 [00:00<00:00, 47.74it/s]"
     ]
    },
    {
     "name": "stdout",
     "output_type": "stream",
     "text": [
      "Begin group  4 training\n"
     ]
    },
    {
     "name": "stderr",
     "output_type": "stream",
     "text": [
      "                                                                                                                        \r"
     ]
    },
    {
     "name": "stdout",
     "output_type": "stream",
     "text": [
      "Group 0, clients ['f_00124']\n",
      "Group 1, clients ['f_00168', 'f_00028', 'f_00119', 'f_00198', 'f_00079']\n",
      "Group 2, clients ['f_00151', 'f_00071', 'f_00041', 'f_00042']\n",
      "Group 3, clients ['f_00140', 'f_00020', 'f_00100']\n",
      "Group 4, clients ['f_00197', 'f_00147', 'f_00065', 'f_00086', 'f_00027', 'f_00185', 'f_00055']\n"
     ]
    },
    {
     "name": "stderr",
     "output_type": "stream",
     "text": [
      "Epoch:  40%|██████████████████████████████▊                                              | 8/20 [00:00<00:00, 70.70it/s]"
     ]
    },
    {
     "name": "stdout",
     "output_type": "stream",
     "text": [
      "Group 0\n",
      "At round 110 accuracy: 0.887434554973822\n",
      "At round 110 training accuracy: 0.8928792569659443\n",
      "At round 110 training loss: 0.288519394619177\n",
      "Group 1\n",
      "At round 110 accuracy: 0.7915194346289752\n",
      "At round 110 training accuracy: 0.789694176790951\n",
      "At round 110 training loss: 0.890063019067511\n",
      "Group 2\n",
      "At round 110 accuracy: 0.8574181117533719\n",
      "At round 110 training accuracy: 0.8580329327992879\n",
      "At round 110 training loss: 0.41194792096322785\n",
      "Group 3\n",
      "At round 110 accuracy: 0.9699570815450643\n",
      "At round 110 training accuracy: 0.9558750619732276\n",
      "At round 110 training loss: 0.19055308195096052\n",
      "Group 4\n",
      "At round 110 accuracy: 0.7061143984220908\n",
      "At round 110 training accuracy: 0.725133938970417\n",
      "At round 110 training loss: 0.7379500405711503\n",
      "At round 110 mean test accuracy: 0.8274428274428275 mean train accuracy: 0.8322270263686743\n",
      "The groups difference are: [0.         5.40950695 4.88793587 5.7413902  4.82760328]\n",
      "Begin group  0 training\n"
     ]
    },
    {
     "name": "stderr",
     "output_type": "stream",
     "text": [
      "Epoch:   0%|                                                                                     | 0/20 [00:00<?, ?it/s]"
     ]
    },
    {
     "name": "stdout",
     "output_type": "stream",
     "text": [
      "Begin group  1 training\n"
     ]
    },
    {
     "name": "stderr",
     "output_type": "stream",
     "text": [
      "Epoch:   0%|                                                                                     | 0/20 [00:00<?, ?it/s]"
     ]
    },
    {
     "name": "stdout",
     "output_type": "stream",
     "text": [
      "Begin group  2 training\n"
     ]
    },
    {
     "name": "stderr",
     "output_type": "stream",
     "text": [
      "Epoch:   0%|                                                                                     | 0/20 [00:00<?, ?it/s]"
     ]
    },
    {
     "name": "stdout",
     "output_type": "stream",
     "text": [
      "Begin group  3 training\n"
     ]
    },
    {
     "name": "stderr",
     "output_type": "stream",
     "text": [
      "Epoch:   0%|                                                                                     | 0/20 [00:00<?, ?it/s]"
     ]
    },
    {
     "name": "stdout",
     "output_type": "stream",
     "text": [
      "Begin group  4 training\n"
     ]
    },
    {
     "name": "stderr",
     "output_type": "stream",
     "text": [
      "                                                                                                                        \r"
     ]
    },
    {
     "name": "stdout",
     "output_type": "stream",
     "text": [
      "Group 0, clients ['f_00164', 'f_00183', 'f_00023', 'f_00163', 'f_00093']\n",
      "Group 1, clients ['f_00129', 'f_00079', 'f_00198', 'f_00159', 'f_00009']\n",
      "Group 2, clients ['f_00132', 'f_00011']\n",
      "Group 3, clients ['f_00150']\n",
      "Group 4, clients ['f_00126', 'f_00035', 'f_00195', 'f_00076', 'f_00175', 'f_00145', 'f_00055']\n"
     ]
    },
    {
     "name": "stderr",
     "output_type": "stream",
     "text": [
      "Epoch:  15%|███████████▌                                                                 | 3/20 [00:00<00:00, 28.45it/s]"
     ]
    },
    {
     "name": "stdout",
     "output_type": "stream",
     "text": [
      "Group 0\n",
      "At round 111 accuracy: 0.8298429319371727\n",
      "At round 111 training accuracy: 0.8142414860681114\n",
      "At round 111 training loss: 0.5724080848966036\n",
      "Group 1\n",
      "At round 111 accuracy: 0.8091872791519434\n",
      "At round 111 training accuracy: 0.7821533305404273\n",
      "At round 111 training loss: 0.6030142347234335\n",
      "Group 2\n",
      "At round 111 accuracy: 0.8574181117533719\n",
      "At round 111 training accuracy: 0.8635959056519804\n",
      "At round 111 training loss: 0.36230390290445785\n",
      "Group 3\n",
      "At round 111 accuracy: 0.9742489270386266\n",
      "At round 111 training accuracy: 0.9657907783837383\n",
      "At round 111 training loss: 0.18785641748729648\n",
      "Group 4\n",
      "At round 111 accuracy: 0.814595660749507\n",
      "At round 111 training accuracy: 0.8355462380619614\n",
      "At round 111 training loss: 0.5070661190448594\n",
      "At round 111 mean test accuracy: 0.8477130977130977 mean train accuracy: 0.8472687412459655\n",
      "The groups difference are: [0.         5.41984218 4.89459366 5.75244193 4.82209556]\n",
      "Begin group  0 training\n"
     ]
    },
    {
     "name": "stderr",
     "output_type": "stream",
     "text": [
      "Epoch:  75%|████████████████████████████████████████████████████████▎                  | 15/20 [00:00<00:00, 144.27it/s]"
     ]
    },
    {
     "name": "stdout",
     "output_type": "stream",
     "text": [
      "Begin group  1 training\n"
     ]
    },
    {
     "name": "stderr",
     "output_type": "stream",
     "text": [
      "                                                                                                                        "
     ]
    },
    {
     "name": "stdout",
     "output_type": "stream",
     "text": [
      "Begin group  2 training\n"
     ]
    },
    {
     "name": "stderr",
     "output_type": "stream",
     "text": [
      "Epoch:   0%|                                                                                     | 0/20 [00:00<?, ?it/s]"
     ]
    },
    {
     "name": "stdout",
     "output_type": "stream",
     "text": [
      "Begin group  3 training\n",
      "Begin group  4 training\n"
     ]
    },
    {
     "name": "stderr",
     "output_type": "stream",
     "text": [
      "                                                                                                                        \r"
     ]
    },
    {
     "name": "stdout",
     "output_type": "stream",
     "text": [
      "Group 0, clients ['f_00173', 'f_00023', 'f_00114', 'f_00024']\n",
      "Group 1, clients ['f_00108', 'f_00019', 'f_00178', 'f_00099', 'f_00088']\n",
      "Group 2, clients ['f_00121', 'f_00072', 'f_00082', 'f_00142']\n",
      "Group 3, clients ['f_00150', 'f_00050', 'f_00140', 'f_00110']\n",
      "Group 4, clients ['f_00015', 'f_00166', 'f_00145']\n"
     ]
    },
    {
     "name": "stderr",
     "output_type": "stream",
     "text": [
      "Epoch:   0%|                                                                                     | 0/20 [00:00<?, ?it/s]"
     ]
    },
    {
     "name": "stdout",
     "output_type": "stream",
     "text": [
      "Group 0\n",
      "At round 112 accuracy: 0.8664921465968587\n",
      "At round 112 training accuracy: 0.8743034055727554\n",
      "At round 112 training loss: 0.3404785085942354\n",
      "Group 1\n",
      "At round 112 accuracy: 0.823321554770318\n",
      "At round 112 training accuracy: 0.808965228320067\n",
      "At round 112 training loss: 0.6699716127444423\n",
      "Group 2\n",
      "At round 112 accuracy: 0.8574181117533719\n",
      "At round 112 training accuracy: 0.8678237650200267\n",
      "At round 112 training loss: 0.3708357802203856\n",
      "Group 3\n",
      "At round 112 accuracy: 0.9613733905579399\n",
      "At round 112 training accuracy: 0.9548834903321765\n",
      "At round 112 training loss: 0.1892898563567104\n",
      "Group 4\n",
      "At round 112 accuracy: 0.7238658777120316\n",
      "At round 112 training accuracy: 0.750524109014675\n",
      "At round 112 training loss: 0.792641392477931\n",
      "At round 112 mean test accuracy: 0.8316008316008316 mean train accuracy: 0.840570001826929\n",
      "The groups difference are: [0.         5.44098904 4.90157406 5.7570533  4.84171263]\n",
      "Begin group  0 training\n"
     ]
    },
    {
     "name": "stderr",
     "output_type": "stream",
     "text": [
      "Epoch:  55%|█████████████████████████████████████████▎                                 | 11/20 [00:00<00:00, 101.23it/s]"
     ]
    },
    {
     "name": "stdout",
     "output_type": "stream",
     "text": [
      "Begin group  1 training\n"
     ]
    },
    {
     "name": "stderr",
     "output_type": "stream",
     "text": [
      "Epoch:  30%|███████████████████████                                                      | 6/20 [00:00<00:00, 50.21it/s]"
     ]
    },
    {
     "name": "stdout",
     "output_type": "stream",
     "text": [
      "Begin group  2 training\n"
     ]
    },
    {
     "name": "stderr",
     "output_type": "stream",
     "text": [
      "Epoch:   0%|                                                                                     | 0/20 [00:00<?, ?it/s]"
     ]
    },
    {
     "name": "stdout",
     "output_type": "stream",
     "text": [
      "Begin group  3 training\n"
     ]
    },
    {
     "name": "stderr",
     "output_type": "stream",
     "text": [
      "Epoch:   0%|                                                                                     | 0/20 [00:00<?, ?it/s]"
     ]
    },
    {
     "name": "stdout",
     "output_type": "stream",
     "text": [
      "Begin group  4 training\n"
     ]
    },
    {
     "name": "stderr",
     "output_type": "stream",
     "text": [
      "                                                                                                                        \r"
     ]
    },
    {
     "name": "stdout",
     "output_type": "stream",
     "text": [
      "Group 0, clients ['f_00034', 'f_00063', 'f_00124', 'f_00114']\n",
      "Group 1, clients ['f_00019', 'f_00009']\n",
      "Group 2, clients ['f_00062', 'f_00142', 'f_00071', 'f_00022', 'f_00091', 'f_00161']\n",
      "Group 3, clients ['f_00030']\n",
      "Group 4, clients ['f_00016', 'f_00057', 'f_00155', 'f_00127', 'f_00117', 'f_00017', 'f_00006']\n"
     ]
    },
    {
     "name": "stderr",
     "output_type": "stream",
     "text": [
      "Epoch:   0%|                                                                                     | 0/20 [00:00<?, ?it/s]"
     ]
    },
    {
     "name": "stdout",
     "output_type": "stream",
     "text": [
      "Group 0\n",
      "At round 113 accuracy: 0.8507853403141361\n",
      "At round 113 training accuracy: 0.8498452012383901\n",
      "At round 113 training loss: 0.4224516467551698\n",
      "Group 1\n",
      "At round 113 accuracy: 0.8409893992932862\n",
      "At round 113 training accuracy: 0.8232090490155006\n",
      "At round 113 training loss: 0.41664559782724975\n",
      "Group 2\n",
      "At round 113 accuracy: 0.8342967244701349\n",
      "At round 113 training accuracy: 0.8346684468179796\n",
      "At round 113 training loss: 0.43065310383657374\n",
      "Group 3\n",
      "At round 113 accuracy: 0.9742489270386266\n",
      "At round 113 training accuracy: 0.9652949925632127\n",
      "At round 113 training loss: 0.18766566770807847\n",
      "Group 4\n",
      "At round 113 accuracy: 0.6390532544378699\n",
      "At round 113 training accuracy: 0.6445376193803867\n",
      "At round 113 training loss: 1.0787535252675653\n",
      "At round 113 mean test accuracy: 0.8040540540540541 mean train accuracy: 0.8023262895073382\n",
      "The groups difference are: [0.         5.43959758 4.89346938 5.74767339 4.83746363]\n",
      "Begin group  0 training\n"
     ]
    },
    {
     "name": "stderr",
     "output_type": "stream",
     "text": [
      "Epoch:   0%|                                                                                     | 0/20 [00:00<?, ?it/s]"
     ]
    },
    {
     "name": "stdout",
     "output_type": "stream",
     "text": [
      "Begin group  1 training\n"
     ]
    },
    {
     "name": "stderr",
     "output_type": "stream",
     "text": [
      "Epoch:   5%|███▊                                                                         | 1/20 [00:00<00:03,  5.81it/s]"
     ]
    },
    {
     "name": "stdout",
     "output_type": "stream",
     "text": [
      "Begin group  2 training\n"
     ]
    },
    {
     "name": "stderr",
     "output_type": "stream",
     "text": [
      "Epoch:   0%|                                                                                     | 0/20 [00:00<?, ?it/s]"
     ]
    },
    {
     "name": "stdout",
     "output_type": "stream",
     "text": [
      "Begin group  3 training\n",
      "Begin group  4 training\n"
     ]
    },
    {
     "name": "stderr",
     "output_type": "stream",
     "text": [
      "                                                                                                                        \r"
     ]
    },
    {
     "name": "stdout",
     "output_type": "stream",
     "text": [
      "Group 0, clients ['f_00053', 'f_00054', 'f_00114']\n",
      "Group 1, clients ['f_00059', 'f_00078', 'f_00099', 'f_00069', 'f_00198']\n",
      "Group 2, clients ['f_00121']\n",
      "Group 3, clients ['f_00000', 'f_00030']\n",
      "Group 4, clients ['f_00006', 'f_00127', 'f_00007', 'f_00015', 'f_00187', 'f_00105', 'f_00106', 'f_00065', 'f_00017']\n"
     ]
    },
    {
     "name": "stderr",
     "output_type": "stream",
     "text": [
      "Epoch:  15%|███████████▌                                                                 | 3/20 [00:00<00:00, 23.94it/s]"
     ]
    },
    {
     "name": "stdout",
     "output_type": "stream",
     "text": [
      "Group 0\n",
      "At round 114 accuracy: 0.8691099476439791\n",
      "At round 114 training accuracy: 0.8743034055727554\n",
      "At round 114 training loss: 0.33798701239075085\n",
      "Group 1\n",
      "At round 114 accuracy: 0.8162544169611308\n",
      "At round 114 training accuracy: 0.8039379974863846\n",
      "At round 114 training loss: 0.7213904037915566\n",
      "Group 2\n",
      "At round 114 accuracy: 0.8574181117533719\n",
      "At round 114 training accuracy: 0.8622607921673342\n",
      "At round 114 training loss: 0.5163240899005677\n",
      "Group 3\n",
      "At round 114 accuracy: 0.9613733905579399\n",
      "At round 114 training accuracy: 0.9608329201784829\n",
      "At round 114 training loss: 0.19219861991507733\n",
      "Group 4\n",
      "At round 114 accuracy: 0.7692307692307693\n",
      "At round 114 training accuracy: 0.7747495923596552\n",
      "At round 114 training loss: 0.558330365311508\n",
      "At round 114 mean test accuracy: 0.843035343035343 mean train accuracy: 0.8453809146824188\n",
      "The groups difference are: [0.         5.43883248 5.01078746 5.73514467 4.83430762]\n",
      "Begin group  0 training\n"
     ]
    },
    {
     "name": "stderr",
     "output_type": "stream",
     "text": [
      "Epoch:   0%|                                                                                     | 0/20 [00:00<?, ?it/s]"
     ]
    },
    {
     "name": "stdout",
     "output_type": "stream",
     "text": [
      "Begin group  1 training\n"
     ]
    },
    {
     "name": "stderr",
     "output_type": "stream",
     "text": [
      "Epoch:  25%|███████████████████▎                                                         | 5/20 [00:00<00:00, 47.38it/s]"
     ]
    },
    {
     "name": "stdout",
     "output_type": "stream",
     "text": [
      "Begin group  2 training\n"
     ]
    },
    {
     "name": "stderr",
     "output_type": "stream",
     "text": [
      "Epoch:   0%|                                                                                     | 0/20 [00:00<?, ?it/s]"
     ]
    },
    {
     "name": "stdout",
     "output_type": "stream",
     "text": [
      "Begin group  3 training\n",
      "Begin group  4 training\n"
     ]
    },
    {
     "name": "stderr",
     "output_type": "stream",
     "text": [
      "                                                                                                                        \r"
     ]
    },
    {
     "name": "stdout",
     "output_type": "stream",
     "text": [
      "Group 0, clients ['f_00143', 'f_00123', 'f_00183', 'f_00014', 'f_00073']\n",
      "Group 1, clients ['f_00169', 'f_00128', 'f_00078', 'f_00188']\n",
      "Group 2, clients ['f_00152', 'f_00042', 'f_00061', 'f_00021', 'f_00161']\n",
      "Group 3, clients ['f_00140', 'f_00180', 'f_00010', 'f_00030']\n",
      "Group 4, clients ['f_00006', 'f_00165']\n"
     ]
    },
    {
     "name": "stderr",
     "output_type": "stream",
     "text": [
      "Epoch:   0%|                                                                                     | 0/20 [00:00<?, ?it/s]"
     ]
    },
    {
     "name": "stdout",
     "output_type": "stream",
     "text": [
      "Group 0\n",
      "At round 115 accuracy: 0.8219895287958116\n",
      "At round 115 training accuracy: 0.820123839009288\n",
      "At round 115 training loss: 0.6420421527266134\n",
      "Group 1\n",
      "At round 115 accuracy: 0.8127208480565371\n",
      "At round 115 training accuracy: 0.7850858818600754\n",
      "At round 115 training loss: 0.5387380071168522\n",
      "Group 2\n",
      "At round 115 accuracy: 0.7071290944123314\n",
      "At round 115 training accuracy: 0.7131731197151758\n",
      "At round 115 training loss: 1.0529752499761718\n",
      "Group 3\n",
      "At round 115 accuracy: 0.9313304721030042\n",
      "At round 115 training accuracy: 0.939514129895885\n",
      "At round 115 training loss: 0.21459739558106905\n",
      "Group 4\n",
      "At round 115 accuracy: 0.7909270216962525\n",
      "At round 115 training accuracy: 0.8115536920568367\n",
      "At round 115 training loss: 0.5563429780469307\n",
      "At round 115 mean test accuracy: 0.7946985446985447 mean train accuracy: 0.7981852505937519\n",
      "The groups difference are: [0.         5.46529852 5.04203128 5.75247137 4.85928469]\n",
      "Begin group  0 training\n"
     ]
    },
    {
     "name": "stderr",
     "output_type": "stream",
     "text": [
      "Epoch:   0%|                                                                                     | 0/20 [00:00<?, ?it/s]"
     ]
    },
    {
     "name": "stdout",
     "output_type": "stream",
     "text": [
      "Begin group  1 training\n"
     ]
    },
    {
     "name": "stderr",
     "output_type": "stream",
     "text": [
      "Epoch:  30%|███████████████████████                                                      | 6/20 [00:00<00:00, 57.59it/s]"
     ]
    },
    {
     "name": "stdout",
     "output_type": "stream",
     "text": [
      "Begin group  2 training\n"
     ]
    },
    {
     "name": "stderr",
     "output_type": "stream",
     "text": [
      "Epoch:   0%|                                                                                     | 0/20 [00:00<?, ?it/s]"
     ]
    },
    {
     "name": "stdout",
     "output_type": "stream",
     "text": [
      "Begin group  3 training\n"
     ]
    },
    {
     "name": "stderr",
     "output_type": "stream",
     "text": [
      "Epoch:   0%|                                                                                     | 0/20 [00:00<?, ?it/s]"
     ]
    },
    {
     "name": "stdout",
     "output_type": "stream",
     "text": [
      "Begin group  4 training\n"
     ]
    },
    {
     "name": "stderr",
     "output_type": "stream",
     "text": [
      "                                                                                                                        \r"
     ]
    },
    {
     "name": "stdout",
     "output_type": "stream",
     "text": [
      "Group 0, clients ['f_00134', 'f_00034', 'f_00103', 'f_00153']\n",
      "Group 1, clients ['f_00018', 'f_00079']\n",
      "Group 2, clients ['f_00142', 'f_00102', 'f_00132', 'f_00042']\n",
      "Group 3, clients ['f_00030', 'f_00150']\n",
      "Group 4, clients ['f_00127', 'f_00077', 'f_00166', 'f_00015', 'f_00025', 'f_00006', 'f_00005', 'f_00196']\n"
     ]
    },
    {
     "name": "stderr",
     "output_type": "stream",
     "text": [
      "                                                                                                                        "
     ]
    },
    {
     "name": "stdout",
     "output_type": "stream",
     "text": [
      "Group 0\n",
      "At round 116 accuracy: 0.8141361256544503\n",
      "At round 116 training accuracy: 0.8195046439628483\n",
      "At round 116 training loss: 0.5825866959366267\n",
      "Group 1\n",
      "At round 116 accuracy: 0.8480565371024735\n",
      "At round 116 training accuracy: 0.8462505236698785\n",
      "At round 116 training loss: 0.397243636425789\n",
      "Group 2\n",
      "At round 116 accuracy: 0.859344894026975\n",
      "At round 116 training accuracy: 0.8669336893635959\n",
      "At round 116 training loss: 0.33411000858334156\n",
      "Group 3\n",
      "At round 116 accuracy: 0.9613733905579399\n",
      "At round 116 training accuracy: 0.9603371343579573\n",
      "At round 116 training loss: 0.19319598435114443\n",
      "Group 4\n",
      "At round 116 accuracy: 0.7593688362919132\n",
      "At round 116 training accuracy: 0.7873282087118565\n",
      "At round 116 training loss: 0.6995169654880791\n",
      "At round 116 mean test accuracy: 0.8347193347193347 mean train accuracy: 0.8452591194202546\n",
      "The groups difference are: [0.         5.46874343 5.02642654 5.77600707 4.86700232]\n",
      "Begin group  0 training\n"
     ]
    },
    {
     "name": "stderr",
     "output_type": "stream",
     "text": [
      "Epoch:   0%|                                                                                     | 0/20 [00:00<?, ?it/s]"
     ]
    },
    {
     "name": "stdout",
     "output_type": "stream",
     "text": [
      "Begin group  1 training\n"
     ]
    },
    {
     "name": "stderr",
     "output_type": "stream",
     "text": [
      "Epoch:  25%|███████████████████▎                                                         | 5/20 [00:00<00:00, 45.14it/s]"
     ]
    },
    {
     "name": "stdout",
     "output_type": "stream",
     "text": [
      "Begin group  2 training\n"
     ]
    },
    {
     "name": "stderr",
     "output_type": "stream",
     "text": [
      "Epoch:   0%|                                                                                     | 0/20 [00:00<?, ?it/s]"
     ]
    },
    {
     "name": "stdout",
     "output_type": "stream",
     "text": [
      "Begin group  3 training\n",
      "Begin group  4 training\n"
     ]
    },
    {
     "name": "stderr",
     "output_type": "stream",
     "text": [
      "                                                                                                                        \r"
     ]
    },
    {
     "name": "stdout",
     "output_type": "stream",
     "text": [
      "Group 0, clients ['f_00174', 'f_00063', 'f_00133', 'f_00193']\n",
      "Group 1, clients ['f_00129', 'f_00029', 'f_00149']\n",
      "Group 2, clients ['f_00041', 'f_00001', 'f_00171', 'f_00062', 'f_00072']\n",
      "Group 3, clients ['f_00120', 'f_00140']\n",
      "Group 4, clients ['f_00155', 'f_00036', 'f_00105', 'f_00096', 'f_00017', 'f_00006']\n"
     ]
    },
    {
     "name": "stderr",
     "output_type": "stream",
     "text": [
      "Epoch:  80%|████████████████████████████████████████████████████████████               | 16/20 [00:00<00:00, 155.89it/s]"
     ]
    },
    {
     "name": "stdout",
     "output_type": "stream",
     "text": [
      "Group 0\n",
      "At round 117 accuracy: 0.8979057591623036\n",
      "At round 117 training accuracy: 0.9139318885448916\n",
      "At round 117 training loss: 0.2703995802592567\n",
      "Group 1\n",
      "At round 117 accuracy: 0.8197879858657244\n",
      "At round 117 training accuracy: 0.8047758692919983\n",
      "At round 117 training loss: 0.5903285936232786\n",
      "Group 2\n",
      "At round 117 accuracy: 0.8709055876685935\n",
      "At round 117 training accuracy: 0.8713840676457499\n",
      "At round 117 training loss: 0.4021185500241408\n",
      "Group 3\n",
      "At round 117 accuracy: 0.9613733905579399\n",
      "At round 117 training accuracy: 0.9613287059990084\n",
      "At round 117 training loss: 0.19085081167663154\n",
      "Group 4\n",
      "At round 117 accuracy: 0.717948717948718\n",
      "At round 117 training accuracy: 0.7372466806429071\n",
      "At round 117 training loss: 0.8415077698382081\n",
      "At round 117 mean test accuracy: 0.8393970893970893 mean train accuracy: 0.8460507886243225\n",
      "The groups difference are: [0.         5.46574767 5.01797965 5.7564873  4.84779966]\n",
      "Begin group  0 training\n"
     ]
    },
    {
     "name": "stderr",
     "output_type": "stream",
     "text": [
      "Epoch:   0%|                                                                                     | 0/20 [00:00<?, ?it/s]"
     ]
    },
    {
     "name": "stdout",
     "output_type": "stream",
     "text": [
      "Begin group  1 training\n"
     ]
    },
    {
     "name": "stderr",
     "output_type": "stream",
     "text": [
      "Epoch:   0%|                                                                                     | 0/20 [00:00<?, ?it/s]"
     ]
    },
    {
     "name": "stdout",
     "output_type": "stream",
     "text": [
      "Begin group  2 training\n"
     ]
    },
    {
     "name": "stderr",
     "output_type": "stream",
     "text": [
      "Epoch:   0%|                                                                                     | 0/20 [00:00<?, ?it/s]"
     ]
    },
    {
     "name": "stdout",
     "output_type": "stream",
     "text": [
      "Begin group  3 training\n"
     ]
    },
    {
     "name": "stderr",
     "output_type": "stream",
     "text": [
      "Epoch:   0%|                                                                                     | 0/20 [00:00<?, ?it/s]"
     ]
    },
    {
     "name": "stdout",
     "output_type": "stream",
     "text": [
      "Begin group  4 training\n"
     ]
    },
    {
     "name": "stderr",
     "output_type": "stream",
     "text": [
      "                                                                                                                        \r"
     ]
    },
    {
     "name": "stdout",
     "output_type": "stream",
     "text": [
      "Group 0, clients ['f_00063', 'f_00113', 'f_00103', 'f_00034', 'f_00193', 'f_00143']\n",
      "Group 1, clients ['f_00188', 'f_00058', 'f_00159']\n",
      "Group 2, clients ['f_00161', 'f_00032', 'f_00092', 'f_00061']\n",
      "Group 3 is empty.\n",
      "Group 4, clients ['f_00135', 'f_00187', 'f_00075', 'f_00116', 'f_00137', 'f_00077', 'f_00016']\n"
     ]
    },
    {
     "name": "stderr",
     "output_type": "stream",
     "text": [
      "Epoch:   0%|                                                                                     | 0/20 [00:00<?, ?it/s]"
     ]
    },
    {
     "name": "stdout",
     "output_type": "stream",
     "text": [
      "Group 0\n",
      "At round 118 accuracy: 0.8769633507853403\n",
      "At round 118 training accuracy: 0.8894736842105263\n",
      "At round 118 training loss: 0.2998752614062268\n",
      "Group 1\n",
      "At round 118 accuracy: 0.8197879858657244\n",
      "At round 118 training accuracy: 0.8093841642228738\n",
      "At round 118 training loss: 0.7870744830883094\n",
      "Group 2\n",
      "At round 118 accuracy: 0.8689788053949904\n",
      "At round 118 training accuracy: 0.8709390298175345\n",
      "At round 118 training loss: 0.5529864031969042\n",
      "Group 3\n",
      "At round 118 accuracy: 0.9742489270386266\n",
      "At round 118 training accuracy: 0.9647992067426872\n",
      "At round 118 training loss: 0.1862200001161407\n",
      "Group 4\n",
      "At round 118 accuracy: 0.7396449704142012\n",
      "At round 118 training accuracy: 0.7700908455625437\n",
      "At round 118 training loss: 0.7647180395240332\n",
      "At round 118 mean test accuracy: 0.841995841995842 mean train accuracy: 0.8508008038487302\n",
      "The groups difference are: [0.         5.45460707 5.11491087 5.74434217 4.8453664 ]\n",
      "Begin group  0 training\n"
     ]
    },
    {
     "name": "stderr",
     "output_type": "stream",
     "text": [
      "Epoch:   0%|                                                                                     | 0/20 [00:00<?, ?it/s]"
     ]
    },
    {
     "name": "stdout",
     "output_type": "stream",
     "text": [
      "Begin group  1 training\n"
     ]
    },
    {
     "name": "stderr",
     "output_type": "stream",
     "text": [
      "                                                                                                                        "
     ]
    },
    {
     "name": "stdout",
     "output_type": "stream",
     "text": [
      "Begin group  2 training\n"
     ]
    },
    {
     "name": "stderr",
     "output_type": "stream",
     "text": [
      "Epoch:  40%|██████████████████████████████▊                                              | 8/20 [00:00<00:00, 74.58it/s]"
     ]
    },
    {
     "name": "stdout",
     "output_type": "stream",
     "text": [
      "Begin group  4 training\n"
     ]
    },
    {
     "name": "stderr",
     "output_type": "stream",
     "text": [
      "                                                                                                                        \r"
     ]
    },
    {
     "name": "stdout",
     "output_type": "stream",
     "text": [
      "Group 0, clients ['f_00124']\n",
      "Group 1, clients ['f_00109', 'f_00178', 'f_00088', 'f_00179', 'f_00158', 'f_00008']\n",
      "Group 2, clients ['f_00012', 'f_00112', 'f_00102', 'f_00011', 'f_00021']\n",
      "Group 3, clients ['f_00150', 'f_00130', 'f_00090']\n",
      "Group 4, clients ['f_00067', 'f_00027', 'f_00186', 'f_00077', 'f_00035']\n"
     ]
    },
    {
     "name": "stderr",
     "output_type": "stream",
     "text": [
      "Epoch:  40%|██████████████████████████████▊                                              | 8/20 [00:00<00:00, 73.93it/s]"
     ]
    },
    {
     "name": "stdout",
     "output_type": "stream",
     "text": [
      "Group 0\n",
      "At round 119 accuracy: 0.8769633507853403\n",
      "At round 119 training accuracy: 0.8984520123839009\n",
      "At round 119 training loss: 0.2884114002664761\n",
      "Group 1\n",
      "At round 119 accuracy: 0.8162544169611308\n",
      "At round 119 training accuracy: 0.7943024717218266\n",
      "At round 119 training loss: 0.6013056342421739\n",
      "Group 2\n",
      "At round 119 accuracy: 0.859344894026975\n",
      "At round 119 training accuracy: 0.8647085002225189\n",
      "At round 119 training loss: 0.4450664932515868\n",
      "Group 3\n",
      "At round 119 accuracy: 0.9742489270386266\n",
      "At round 119 training accuracy: 0.9647992067426872\n",
      "At round 119 training loss: 0.18680770998478055\n",
      "Group 4\n",
      "At round 119 accuracy: 0.7928994082840237\n",
      "At round 119 training accuracy: 0.81085488003727\n",
      "At round 119 training loss: 0.578398674702189\n",
      "At round 119 mean test accuracy: 0.8529106029106029 mean train accuracy: 0.8593264722002314\n",
      "The groups difference are: [0.         5.44431228 5.09401314 5.71958852 4.83358194]\n",
      "Begin group  0 training\n"
     ]
    },
    {
     "name": "stderr",
     "output_type": "stream",
     "text": [
      "Epoch:   0%|                                                                                     | 0/20 [00:00<?, ?it/s]"
     ]
    },
    {
     "name": "stdout",
     "output_type": "stream",
     "text": [
      "Begin group  1 training\n"
     ]
    },
    {
     "name": "stderr",
     "output_type": "stream",
     "text": [
      "Epoch:   0%|                                                                                     | 0/20 [00:00<?, ?it/s]"
     ]
    },
    {
     "name": "stdout",
     "output_type": "stream",
     "text": [
      "Begin group  2 training\n"
     ]
    },
    {
     "name": "stderr",
     "output_type": "stream",
     "text": [
      "Epoch:   0%|                                                                                     | 0/20 [00:00<?, ?it/s]"
     ]
    },
    {
     "name": "stdout",
     "output_type": "stream",
     "text": [
      "Begin group  3 training\n"
     ]
    },
    {
     "name": "stderr",
     "output_type": "stream",
     "text": [
      "Epoch:  25%|███████████████████▎                                                         | 5/20 [00:00<00:00, 44.13it/s]"
     ]
    },
    {
     "name": "stdout",
     "output_type": "stream",
     "text": [
      "Begin group  4 training\n"
     ]
    },
    {
     "name": "stderr",
     "output_type": "stream",
     "text": [
      "                                                                                                                        \r"
     ]
    },
    {
     "name": "stdout",
     "output_type": "stream",
     "text": [
      "Group 0, clients ['f_00163', 'f_00074']\n",
      "Group 1, clients ['f_00118', 'f_00198', 'f_00108', 'f_00199', 'f_00178', 'f_00039']\n",
      "Group 2, clients ['f_00062', 'f_00101', 'f_00032', 'f_00161']\n",
      "Group 3, clients ['f_00080', 'f_00160']\n",
      "Group 4, clients ['f_00087', 'f_00035', 'f_00125', 'f_00046', 'f_00136', 'f_00006']\n"
     ]
    },
    {
     "name": "stderr",
     "output_type": "stream",
     "text": [
      "Epoch:   0%|                                                                                     | 0/20 [00:00<?, ?it/s]"
     ]
    },
    {
     "name": "stdout",
     "output_type": "stream",
     "text": [
      "Group 0\n",
      "At round 120 accuracy: 0.8429319371727748\n",
      "At round 120 training accuracy: 0.8263157894736842\n",
      "At round 120 training loss: 0.5207241130087398\n",
      "Group 1\n",
      "At round 120 accuracy: 0.8409893992932862\n",
      "At round 120 training accuracy: 0.834939254294093\n",
      "At round 120 training loss: 0.4260299158897867\n",
      "Group 2\n",
      "At round 120 accuracy: 0.8574181117533719\n",
      "At round 120 training accuracy: 0.8622607921673342\n",
      "At round 120 training loss: 0.38498786488041437\n",
      "Group 3\n",
      "At round 120 accuracy: 0.9484978540772532\n",
      "At round 120 training accuracy: 0.9548834903321765\n",
      "At round 120 training loss: 0.18838947105655945\n",
      "Group 4\n",
      "At round 120 accuracy: 0.6351084812623274\n",
      "At round 120 training accuracy: 0.6436058700209644\n",
      "At round 120 training loss: 0.9250902703681415\n",
      "At round 120 mean test accuracy: 0.8045738045738046 mean train accuracy: 0.8054320686925278\n",
      "The groups difference are: [0.         5.45091553 5.10171645 5.73100356 4.87522515]\n",
      "Begin group  0 training\n"
     ]
    },
    {
     "name": "stderr",
     "output_type": "stream",
     "text": [
      "Epoch:  25%|███████████████████▎                                                         | 5/20 [00:00<00:00, 46.28it/s]"
     ]
    },
    {
     "name": "stdout",
     "output_type": "stream",
     "text": [
      "Begin group  1 training\n"
     ]
    },
    {
     "name": "stderr",
     "output_type": "stream",
     "text": [
      "Epoch:   5%|███▊                                                                         | 1/20 [00:00<00:03,  5.73it/s]"
     ]
    },
    {
     "name": "stdout",
     "output_type": "stream",
     "text": [
      "Begin group  2 training\n"
     ]
    },
    {
     "name": "stderr",
     "output_type": "stream",
     "text": [
      "Epoch:  30%|███████████████████████                                                      | 6/20 [00:00<00:00, 55.50it/s]"
     ]
    },
    {
     "name": "stdout",
     "output_type": "stream",
     "text": [
      "Begin group  3 training\n"
     ]
    },
    {
     "name": "stderr",
     "output_type": "stream",
     "text": [
      "Epoch:  20%|███████████████▍                                                             | 4/20 [00:00<00:00, 32.80it/s]"
     ]
    },
    {
     "name": "stdout",
     "output_type": "stream",
     "text": [
      "Begin group  4 training\n"
     ]
    },
    {
     "name": "stderr",
     "output_type": "stream",
     "text": [
      "                                                                                                                        \r"
     ]
    },
    {
     "name": "stdout",
     "output_type": "stream",
     "text": [
      "Group 0, clients ['f_00144', 'f_00024', 'f_00143']\n",
      "Group 1, clients ['f_00079', 'f_00128', 'f_00189', 'f_00178', 'f_00049']\n",
      "Group 2, clients ['f_00142', 'f_00032']\n",
      "Group 3, clients ['f_00070', 'f_00090']\n",
      "Group 4, clients ['f_00155', 'f_00146', 'f_00027', 'f_00197', 'f_00147', 'f_00136', 'f_00107', 'f_00056']\n"
     ]
    },
    {
     "name": "stderr",
     "output_type": "stream",
     "text": [
      "Epoch:   0%|                                                                                     | 0/20 [00:00<?, ?it/s]"
     ]
    },
    {
     "name": "stdout",
     "output_type": "stream",
     "text": [
      "Group 0\n",
      "At round 121 accuracy: 0.8821989528795812\n",
      "At round 121 training accuracy: 0.8922600619195047\n",
      "At round 121 training loss: 0.3004066867678896\n",
      "Group 1\n",
      "At round 121 accuracy: 0.773851590106007\n",
      "At round 121 training accuracy: 0.7607875994972769\n",
      "At round 121 training loss: 0.5674902411824647\n",
      "Group 2\n",
      "At round 121 accuracy: 0.8689788053949904\n",
      "At round 121 training accuracy: 0.8738317757009346\n",
      "At round 121 training loss: 0.5757818774423389\n",
      "Group 3\n",
      "At round 121 accuracy: 0.9484978540772532\n",
      "At round 121 training accuracy: 0.9484382746653446\n",
      "At round 121 training loss: 0.19424129372770146\n",
      "Group 4\n",
      "At round 121 accuracy: 0.7238658777120316\n",
      "At round 121 training accuracy: 0.7249010016305614\n",
      "At round 121 training loss: 0.6653424364313112\n",
      "At round 121 mean test accuracy: 0.829002079002079 mean train accuracy: 0.8312526642713598\n",
      "The groups difference are: [0.         5.45314877 5.19755614 5.75549326 4.88407731]\n",
      "Begin group  0 training\n"
     ]
    },
    {
     "name": "stderr",
     "output_type": "stream",
     "text": [
      "Epoch:  50%|██████████████████████████████████████                                      | 10/20 [00:00<00:00, 93.85it/s]"
     ]
    },
    {
     "name": "stdout",
     "output_type": "stream",
     "text": [
      "Begin group  1 training\n"
     ]
    },
    {
     "name": "stderr",
     "output_type": "stream",
     "text": [
      "Epoch:   0%|                                                                                     | 0/20 [00:00<?, ?it/s]"
     ]
    },
    {
     "name": "stdout",
     "output_type": "stream",
     "text": [
      "Begin group  2 training\n",
      "Begin group  3 training\n"
     ]
    },
    {
     "name": "stderr",
     "output_type": "stream",
     "text": [
      "Epoch:   0%|                                                                                     | 0/20 [00:00<?, ?it/s]"
     ]
    },
    {
     "name": "stdout",
     "output_type": "stream",
     "text": [
      "Begin group  4 training\n"
     ]
    },
    {
     "name": "stderr",
     "output_type": "stream",
     "text": [
      "                                                                                                                        \r"
     ]
    },
    {
     "name": "stdout",
     "output_type": "stream",
     "text": [
      "Group 0, clients ['f_00043', 'f_00064', 'f_00103', 'f_00113', 'f_00023']\n",
      "Group 1, clients ['f_00018', 'f_00199']\n",
      "Group 2, clients ['f_00002', 'f_00022', 'f_00122', 'f_00131', 'f_00191']\n",
      "Group 3, clients ['f_00030', 'f_00120', 'f_00160', 'f_00040']\n",
      "Group 4, clients ['f_00095', 'f_00035', 'f_00075', 'f_00007']\n"
     ]
    },
    {
     "name": "stderr",
     "output_type": "stream",
     "text": [
      "Epoch:  75%|████████████████████████████████████████████████████████▎                  | 15/20 [00:00<00:00, 145.90it/s]"
     ]
    },
    {
     "name": "stdout",
     "output_type": "stream",
     "text": [
      "Group 0\n",
      "At round 122 accuracy: 0.900523560209424\n",
      "At round 122 training accuracy: 0.9281733746130031\n",
      "At round 122 training loss: 0.25231437997275463\n",
      "Group 1\n",
      "At round 122 accuracy: 0.8162544169611308\n",
      "At round 122 training accuracy: 0.7943024717218266\n",
      "At round 122 training loss: 0.6623473845556485\n",
      "Group 2\n",
      "At round 122 accuracy: 0.8709055876685935\n",
      "At round 122 training accuracy: 0.8738317757009346\n",
      "At round 122 training loss: 0.5618655317702133\n",
      "Group 3\n",
      "At round 122 accuracy: 0.9785407725321889\n",
      "At round 122 training accuracy: 0.9657907783837383\n",
      "At round 122 training loss: 0.18319278951765702\n",
      "Group 4\n",
      "At round 122 accuracy: 0.7238658777120316\n",
      "At round 122 training accuracy: 0.748893547635686\n",
      "At round 122 training loss: 0.7035248650295624\n",
      "At round 122 mean test accuracy: 0.843035343035343 mean train accuracy: 0.8515924730527983\n",
      "The groups difference are: [0.         5.44883231 5.17606202 5.76134941 4.87587662]\n",
      "Begin group  0 training\n"
     ]
    },
    {
     "name": "stderr",
     "output_type": "stream",
     "text": [
      "Epoch:   0%|                                                                                     | 0/20 [00:00<?, ?it/s]"
     ]
    },
    {
     "name": "stdout",
     "output_type": "stream",
     "text": [
      "Begin group  1 training\n"
     ]
    },
    {
     "name": "stderr",
     "output_type": "stream",
     "text": [
      "Epoch:  35%|██████████████████████████▉                                                  | 7/20 [00:00<00:00, 64.85it/s]"
     ]
    },
    {
     "name": "stdout",
     "output_type": "stream",
     "text": [
      "Begin group  2 training\n"
     ]
    },
    {
     "name": "stderr",
     "output_type": "stream",
     "text": [
      "                                                                                                                        "
     ]
    },
    {
     "name": "stdout",
     "output_type": "stream",
     "text": [
      "Begin group  3 training\n"
     ]
    },
    {
     "name": "stderr",
     "output_type": "stream",
     "text": [
      "Epoch:  65%|████████████████████████████████████████████████▊                          | 13/20 [00:00<00:00, 120.74it/s]"
     ]
    },
    {
     "name": "stdout",
     "output_type": "stream",
     "text": [
      "Begin group  4 training\n"
     ]
    },
    {
     "name": "stderr",
     "output_type": "stream",
     "text": [
      "                                                                                                                        \r"
     ]
    },
    {
     "name": "stdout",
     "output_type": "stream",
     "text": [
      "Group 0, clients ['f_00104', 'f_00053', 'f_00004']\n",
      "Group 1, clients ['f_00149', 'f_00019', 'f_00179', 'f_00158', 'f_00189', 'f_00108', 'f_00178']\n",
      "Group 2, clients ['f_00162', 'f_00082', 'f_00182', 'f_00031', 'f_00121']\n",
      "Group 3, clients ['f_00050', 'f_00020']\n",
      "Group 4, clients ['f_00127', 'f_00037', 'f_00185']\n"
     ]
    },
    {
     "name": "stderr",
     "output_type": "stream",
     "text": [
      "Epoch:   0%|                                                                                     | 0/20 [00:00<?, ?it/s]"
     ]
    },
    {
     "name": "stdout",
     "output_type": "stream",
     "text": [
      "Group 0\n",
      "At round 123 accuracy: 0.8717277486910995\n",
      "At round 123 training accuracy: 0.8730650154798761\n",
      "At round 123 training loss: 0.35228183319325046\n",
      "Group 1\n",
      "At round 123 accuracy: 0.8197879858657244\n",
      "At round 123 training accuracy: 0.795978215333054\n",
      "At round 123 training loss: 0.8044258676434991\n",
      "Group 2\n",
      "At round 123 accuracy: 0.859344894026975\n",
      "At round 123 training accuracy: 0.8642634623943035\n",
      "At round 123 training loss: 0.4691847629138879\n",
      "Group 3\n",
      "At round 123 accuracy: 0.9785407725321889\n",
      "At round 123 training accuracy: 0.9662865642042637\n",
      "At round 123 training loss: 0.18200622118148818\n",
      "Group 4\n",
      "At round 123 accuracy: 0.6489151873767258\n",
      "At round 123 training accuracy: 0.6580479850920102\n",
      "At round 123 training loss: 0.8709027542084656\n",
      "At round 123 mean test accuracy: 0.814968814968815 mean train accuracy: 0.8146885086170148\n",
      "The groups difference are: [0.         5.45369863 5.15247821 5.78273519 4.86049845]\n",
      "Begin group  0 training\n"
     ]
    },
    {
     "name": "stderr",
     "output_type": "stream",
     "text": [
      "Epoch:  90%|███████████████████████████████████████████████████████████████████▌       | 18/20 [00:00<00:00, 174.34it/s]"
     ]
    },
    {
     "name": "stdout",
     "output_type": "stream",
     "text": [
      "Begin group  1 training\n"
     ]
    },
    {
     "name": "stderr",
     "output_type": "stream",
     "text": [
      "Epoch:   0%|                                                                                     | 0/20 [00:00<?, ?it/s]"
     ]
    },
    {
     "name": "stdout",
     "output_type": "stream",
     "text": [
      "Begin group  2 training\n"
     ]
    },
    {
     "name": "stderr",
     "output_type": "stream",
     "text": [
      "Epoch:   0%|                                                                                     | 0/20 [00:00<?, ?it/s]"
     ]
    },
    {
     "name": "stdout",
     "output_type": "stream",
     "text": [
      "Begin group  3 training\n",
      "Begin group  4 training\n"
     ]
    },
    {
     "name": "stderr",
     "output_type": "stream",
     "text": [
      "                                                                                                                        \r"
     ]
    },
    {
     "name": "stdout",
     "output_type": "stream",
     "text": [
      "Group 0, clients ['f_00183', 'f_00184', 'f_00034']\n",
      "Group 1, clients ['f_00108', 'f_00119']\n",
      "Group 2, clients ['f_00152', 'f_00091', 'f_00151', 'f_00121']\n",
      "Group 3, clients ['f_00080', 'f_00100', 'f_00110']\n",
      "Group 4, clients ['f_00005', 'f_00027', 'f_00186', 'f_00127', 'f_00056', 'f_00016', 'f_00075', 'f_00086']\n"
     ]
    },
    {
     "name": "stderr",
     "output_type": "stream",
     "text": [
      "Epoch:   0%|                                                                                     | 0/20 [00:00<?, ?it/s]"
     ]
    },
    {
     "name": "stdout",
     "output_type": "stream",
     "text": [
      "Group 0\n",
      "At round 124 accuracy: 0.8429319371727748\n",
      "At round 124 training accuracy: 0.8390092879256966\n",
      "At round 124 training loss: 0.49587084193347775\n",
      "Group 1\n",
      "At round 124 accuracy: 0.823321554770318\n",
      "At round 124 training accuracy: 0.7926267281105991\n",
      "At round 124 training loss: 0.5002541790509953\n",
      "Group 2\n",
      "At round 124 accuracy: 0.8131021194605009\n",
      "At round 124 training accuracy: 0.8135291499777481\n",
      "At round 124 training loss: 0.5114664740306725\n",
      "Group 3\n",
      "At round 124 accuracy: 0.9742489270386266\n",
      "At round 124 training accuracy: 0.9657907783837383\n",
      "At round 124 training loss: 0.18146242001858098\n",
      "Group 4\n",
      "At round 124 accuracy: 0.727810650887574\n",
      "At round 124 training accuracy: 0.7554157931516422\n",
      "At round 124 training loss: 0.5812624276947814\n",
      "At round 124 mean test accuracy: 0.8175675675675675 mean train accuracy: 0.8190122404238475\n",
      "The groups difference are: [0.         5.47747985 5.16744966 5.7958454  4.89979579]\n",
      "Begin group  0 training\n"
     ]
    },
    {
     "name": "stderr",
     "output_type": "stream",
     "text": [
      "Epoch:  45%|██████████████████████████████████▋                                          | 9/20 [00:00<00:00, 82.06it/s]"
     ]
    },
    {
     "name": "stdout",
     "output_type": "stream",
     "text": [
      "Begin group  1 training\n"
     ]
    },
    {
     "name": "stderr",
     "output_type": "stream",
     "text": [
      "Epoch:  30%|███████████████████████                                                      | 6/20 [00:00<00:00, 55.28it/s]"
     ]
    },
    {
     "name": "stdout",
     "output_type": "stream",
     "text": [
      "Begin group  2 training\n"
     ]
    },
    {
     "name": "stderr",
     "output_type": "stream",
     "text": [
      "Epoch:  30%|███████████████████████                                                      | 6/20 [00:00<00:00, 54.81it/s]"
     ]
    },
    {
     "name": "stdout",
     "output_type": "stream",
     "text": [
      "Begin group  3 training\n"
     ]
    },
    {
     "name": "stderr",
     "output_type": "stream",
     "text": [
      "Epoch:  25%|███████████████████▎                                                         | 5/20 [00:00<00:00, 43.30it/s]"
     ]
    },
    {
     "name": "stdout",
     "output_type": "stream",
     "text": [
      "Begin group  4 training\n"
     ]
    },
    {
     "name": "stderr",
     "output_type": "stream",
     "text": [
      "                                                                                                                        \r"
     ]
    },
    {
     "name": "stdout",
     "output_type": "stream",
     "text": [
      "Group 0, clients ['f_00123', 'f_00193', 'f_00074', 'f_00053']\n",
      "Group 1, clients ['f_00109', 'f_00149', 'f_00138', 'f_00079', 'f_00098']\n",
      "Group 2, clients ['f_00101', 'f_00011', 'f_00071', 'f_00002', 'f_00001', 'f_00052']\n",
      "Group 3, clients ['f_00090', 'f_00150']\n",
      "Group 4, clients ['f_00135', 'f_00057', 'f_00046']\n"
     ]
    },
    {
     "name": "stderr",
     "output_type": "stream",
     "text": [
      "Epoch:  20%|███████████████▍                                                             | 4/20 [00:00<00:00, 34.81it/s]"
     ]
    },
    {
     "name": "stdout",
     "output_type": "stream",
     "text": [
      "Group 0\n",
      "At round 125 accuracy: 0.8979057591623036\n",
      "At round 125 training accuracy: 0.8972136222910216\n",
      "At round 125 training loss: 0.2831657849367558\n",
      "Group 1\n",
      "At round 125 accuracy: 0.8409893992932862\n",
      "At round 125 training accuracy: 0.8206954335986594\n",
      "At round 125 training loss: 0.42201250968216153\n",
      "Group 2\n",
      "At round 125 accuracy: 0.8053949903660886\n",
      "At round 125 training accuracy: 0.806186025812194\n",
      "At round 125 training loss: 0.5311466667471221\n",
      "Group 3\n",
      "At round 125 accuracy: 0.9742489270386266\n",
      "At round 125 training accuracy: 0.9652949925632127\n",
      "At round 125 training loss: 0.18244335463895736\n",
      "Group 4\n",
      "At round 125 accuracy: 0.727810650887574\n",
      "At round 125 training accuracy: 0.7467971115769858\n",
      "At round 125 training loss: 0.7795104481541913\n",
      "At round 125 mean test accuracy: 0.829002079002079 mean train accuracy: 0.8302174045429633\n",
      "The groups difference are: [0.         5.47523103 5.16985393 5.79615426 4.87493719]\n",
      "Begin group  0 training\n"
     ]
    },
    {
     "name": "stderr",
     "output_type": "stream",
     "text": [
      "Epoch:   0%|                                                                                     | 0/20 [00:00<?, ?it/s]"
     ]
    },
    {
     "name": "stdout",
     "output_type": "stream",
     "text": [
      "Begin group  1 training\n"
     ]
    },
    {
     "name": "stderr",
     "output_type": "stream",
     "text": [
      "Epoch:   0%|                                                                                     | 0/20 [00:00<?, ?it/s]"
     ]
    },
    {
     "name": "stdout",
     "output_type": "stream",
     "text": [
      "Begin group  2 training\n"
     ]
    },
    {
     "name": "stderr",
     "output_type": "stream",
     "text": [
      "Epoch:   0%|                                                                                     | 0/20 [00:00<?, ?it/s]"
     ]
    },
    {
     "name": "stdout",
     "output_type": "stream",
     "text": [
      "Begin group  3 training\n"
     ]
    },
    {
     "name": "stderr",
     "output_type": "stream",
     "text": [
      "Epoch:  55%|█████████████████████████████████████████▎                                 | 11/20 [00:00<00:00, 103.64it/s]"
     ]
    },
    {
     "name": "stdout",
     "output_type": "stream",
     "text": [
      "Begin group  4 training\n"
     ]
    },
    {
     "name": "stderr",
     "output_type": "stream",
     "text": [
      "                                                                                                                        \r"
     ]
    },
    {
     "name": "stdout",
     "output_type": "stream",
     "text": [
      "Group 0, clients ['f_00074', 'f_00113', 'f_00134', 'f_00103']\n",
      "Group 1, clients ['f_00199', 'f_00079', 'f_00119', 'f_00159']\n",
      "Group 2, clients ['f_00171', 'f_00121', 'f_00002', 'f_00051', 'f_00142']\n",
      "Group 3 is empty.\n",
      "Group 4, clients ['f_00055', 'f_00046', 'f_00036', 'f_00096', 'f_00076', 'f_00195', 'f_00166']\n"
     ]
    },
    {
     "name": "stderr",
     "output_type": "stream",
     "text": [
      "Epoch:   0%|                                                                                     | 0/20 [00:00<?, ?it/s]"
     ]
    },
    {
     "name": "stdout",
     "output_type": "stream",
     "text": [
      "Group 0\n",
      "At round 126 accuracy: 0.8219895287958116\n",
      "At round 126 training accuracy: 0.8222910216718267\n",
      "At round 126 training loss: 0.5848952196007912\n",
      "Group 1\n",
      "At round 126 accuracy: 0.8127208480565371\n",
      "At round 126 training accuracy: 0.7943024717218266\n",
      "At round 126 training loss: 0.5148660614805637\n",
      "Group 2\n",
      "At round 126 accuracy: 0.8574181117533719\n",
      "At round 126 training accuracy: 0.8749443702714731\n",
      "At round 126 training loss: 0.3194895565549586\n",
      "Group 3\n",
      "At round 126 accuracy: 0.9785407725321889\n",
      "At round 126 training accuracy: 0.9657907783837383\n",
      "At round 126 training loss: 0.18117773498883624\n",
      "Group 4\n",
      "At round 126 accuracy: 0.6765285996055227\n",
      "At round 126 training accuracy: 0.6904262753319357\n",
      "At round 126 training loss: 0.9191226077203342\n",
      "At round 126 mean test accuracy: 0.8108108108108109 mean train accuracy: 0.8157846659764935\n",
      "The groups difference are: [0.         5.51003909 5.16110046 5.82081477 4.900606  ]\n",
      "Begin group  0 training\n"
     ]
    },
    {
     "name": "stderr",
     "output_type": "stream",
     "text": [
      "Epoch:  30%|███████████████████████                                                      | 6/20 [00:00<00:00, 57.28it/s]"
     ]
    },
    {
     "name": "stdout",
     "output_type": "stream",
     "text": [
      "Begin group  1 training\n"
     ]
    },
    {
     "name": "stderr",
     "output_type": "stream",
     "text": [
      "Epoch:   0%|                                                                                     | 0/20 [00:00<?, ?it/s]"
     ]
    },
    {
     "name": "stdout",
     "output_type": "stream",
     "text": [
      "Begin group  2 training\n"
     ]
    },
    {
     "name": "stderr",
     "output_type": "stream",
     "text": [
      "Epoch:   0%|                                                                                     | 0/20 [00:00<?, ?it/s]"
     ]
    },
    {
     "name": "stdout",
     "output_type": "stream",
     "text": [
      "Begin group  4 training\n"
     ]
    },
    {
     "name": "stderr",
     "output_type": "stream",
     "text": [
      "                                                                                                                        \r"
     ]
    },
    {
     "name": "stdout",
     "output_type": "stream",
     "text": [
      "Group 0, clients ['f_00134', 'f_00163']\n",
      "Group 1, clients ['f_00168', 'f_00129', 'f_00159', 'f_00028', 'f_00158', 'f_00138', 'f_00058']\n",
      "Group 2, clients ['f_00061', 'f_00022']\n",
      "Group 3, clients ['f_00120', 'f_00000', 'f_00010']\n",
      "Group 4, clients ['f_00176', 'f_00045', 'f_00147', 'f_00026', 'f_00075', 'f_00186']\n"
     ]
    },
    {
     "name": "stderr",
     "output_type": "stream",
     "text": [
      "Epoch:   0%|                                                                                     | 0/20 [00:00<?, ?it/s]"
     ]
    },
    {
     "name": "stdout",
     "output_type": "stream",
     "text": [
      "Group 0\n",
      "At round 127 accuracy: 0.8979057591623036\n",
      "At round 127 training accuracy: 0.9173374613003096\n",
      "At round 127 training loss: 0.2552816355698987\n",
      "Group 1\n",
      "At round 127 accuracy: 0.823321554770318\n",
      "At round 127 training accuracy: 0.8102220360284876\n",
      "At round 127 training loss: 0.8477220674988412\n",
      "Group 2\n",
      "At round 127 accuracy: 0.8169556840077071\n",
      "At round 127 training accuracy: 0.8202047174009791\n",
      "At round 127 training loss: 0.4565372531649188\n",
      "Group 3\n",
      "At round 127 accuracy: 0.9785407725321889\n",
      "At round 127 training accuracy: 0.9657907783837383\n",
      "At round 127 training loss: 0.18174563608712704\n",
      "Group 4\n",
      "At round 127 accuracy: 0.7218934911242604\n",
      "At round 127 training accuracy: 0.740041928721174\n",
      "At round 127 training loss: 0.9951392873972411\n",
      "At round 127 mean test accuracy: 0.8284823284823285 mean train accuracy: 0.8347847268741246\n",
      "The groups difference are: [0.         5.50898571 5.16244801 5.79585798 4.89871007]\n",
      "Begin group  0 training\n"
     ]
    },
    {
     "name": "stderr",
     "output_type": "stream",
     "text": [
      "Epoch:  75%|████████████████████████████████████████████████████████▎                  | 15/20 [00:00<00:00, 144.96it/s]"
     ]
    },
    {
     "name": "stdout",
     "output_type": "stream",
     "text": [
      "Begin group  1 training\n"
     ]
    },
    {
     "name": "stderr",
     "output_type": "stream",
     "text": [
      "Epoch:   0%|                                                                                     | 0/20 [00:00<?, ?it/s]"
     ]
    },
    {
     "name": "stdout",
     "output_type": "stream",
     "text": [
      "Begin group  2 training\n",
      "Begin group  3 training\n"
     ]
    },
    {
     "name": "stderr",
     "output_type": "stream",
     "text": [
      "Epoch:  80%|████████████████████████████████████████████████████████████               | 16/20 [00:00<00:00, 157.35it/s]"
     ]
    },
    {
     "name": "stdout",
     "output_type": "stream",
     "text": [
      "Begin group  4 training\n"
     ]
    },
    {
     "name": "stderr",
     "output_type": "stream",
     "text": [
      "                                                                                                                        \r"
     ]
    },
    {
     "name": "stdout",
     "output_type": "stream",
     "text": [
      "Group 0, clients ['f_00043', 'f_00073']\n",
      "Group 1, clients ['f_00059', 'f_00118', 'f_00109', 'f_00159']\n",
      "Group 2, clients ['f_00151', 'f_00192', 'f_00122', 'f_00021']\n",
      "Group 3, clients ['f_00090']\n",
      "Group 4, clients ['f_00037', 'f_00187', 'f_00146', 'f_00076', 'f_00116', 'f_00136', 'f_00165', 'f_00106', 'f_00155']\n"
     ]
    },
    {
     "name": "stderr",
     "output_type": "stream",
     "text": [
      "Epoch:  20%|███████████████▍                                                             | 4/20 [00:00<00:00, 39.19it/s]"
     ]
    },
    {
     "name": "stdout",
     "output_type": "stream",
     "text": [
      "Group 0\n",
      "At round 128 accuracy: 0.900523560209424\n",
      "At round 128 training accuracy: 0.9176470588235294\n",
      "At round 128 training loss: 0.2715688451063522\n",
      "Group 1\n",
      "At round 128 accuracy: 0.8480565371024735\n",
      "At round 128 training accuracy: 0.8148303309593632\n",
      "At round 128 training loss: 0.4392789976650269\n",
      "Group 2\n",
      "At round 128 accuracy: 0.8901734104046243\n",
      "At round 128 training accuracy: 0.894971072541166\n",
      "At round 128 training loss: 0.2768749845428471\n",
      "Group 3\n",
      "At round 128 accuracy: 0.9785407725321889\n",
      "At round 128 training accuracy: 0.9697570649479424\n",
      "At round 128 training loss: 0.18035580717252514\n",
      "Group 4\n",
      "At round 128 accuracy: 0.7317554240631163\n",
      "At round 128 training accuracy: 0.7645003494060097\n",
      "At round 128 training loss: 0.8704995404145336\n",
      "At round 128 mean test accuracy: 0.854989604989605 mean train accuracy: 0.8628585348029961\n",
      "The groups difference are: [0.         5.50125643 5.13897332 5.79608463 4.88407052]\n",
      "Begin group  0 training\n"
     ]
    },
    {
     "name": "stderr",
     "output_type": "stream",
     "text": [
      "Epoch:  25%|███████████████████▎                                                         | 5/20 [00:00<00:00, 49.50it/s]"
     ]
    },
    {
     "name": "stdout",
     "output_type": "stream",
     "text": [
      "Begin group  1 training\n"
     ]
    },
    {
     "name": "stderr",
     "output_type": "stream",
     "text": [
      "Epoch:   0%|                                                                                     | 0/20 [00:00<?, ?it/s]"
     ]
    },
    {
     "name": "stdout",
     "output_type": "stream",
     "text": [
      "Begin group  2 training\n"
     ]
    },
    {
     "name": "stderr",
     "output_type": "stream",
     "text": [
      "Epoch:  35%|██████████████████████████▉                                                  | 7/20 [00:00<00:00, 61.92it/s]"
     ]
    },
    {
     "name": "stdout",
     "output_type": "stream",
     "text": [
      "Begin group  3 training\n"
     ]
    },
    {
     "name": "stderr",
     "output_type": "stream",
     "text": [
      "Epoch:  40%|██████████████████████████████▊                                              | 8/20 [00:00<00:00, 79.24it/s]"
     ]
    },
    {
     "name": "stdout",
     "output_type": "stream",
     "text": [
      "Begin group  4 training\n"
     ]
    },
    {
     "name": "stderr",
     "output_type": "stream",
     "text": [
      "                                                                                                                        \r"
     ]
    },
    {
     "name": "stdout",
     "output_type": "stream",
     "text": [
      "Group 0, clients ['f_00004', 'f_00193', 'f_00094', 'f_00043']\n",
      "Group 1, clients ['f_00088', 'f_00138', 'f_00068']\n",
      "Group 2, clients ['f_00112', 'f_00132', 'f_00022', 'f_00162', 'f_00191', 'f_00041', 'f_00151']\n",
      "Group 3, clients ['f_00010', 'f_00100']\n",
      "Group 4, clients ['f_00115', 'f_00055', 'f_00026', 'f_00107']\n"
     ]
    },
    {
     "name": "stderr",
     "output_type": "stream",
     "text": [
      "Epoch:   0%|                                                                                     | 0/20 [00:00<?, ?it/s]"
     ]
    },
    {
     "name": "stdout",
     "output_type": "stream",
     "text": [
      "Group 0\n",
      "At round 129 accuracy: 0.8167539267015707\n",
      "At round 129 training accuracy: 0.8219814241486069\n",
      "At round 129 training loss: 0.6284123159114606\n",
      "Group 1\n",
      "At round 129 accuracy: 0.7632508833922261\n",
      "At round 129 training accuracy: 0.7490573942186846\n",
      "At round 129 training loss: 0.6263317485009471\n",
      "Group 2\n",
      "At round 129 accuracy: 0.8709055876685935\n",
      "At round 129 training accuracy: 0.8720516243880729\n",
      "At round 129 training loss: 0.3607576341299041\n",
      "Group 3\n",
      "At round 129 accuracy: 0.9699570815450643\n",
      "At round 129 training accuracy: 0.962816063460585\n",
      "At round 129 training loss: 0.17963646297990893\n",
      "Group 4\n",
      "At round 129 accuracy: 0.7396449704142012\n",
      "At round 129 training accuracy: 0.7481947356161193\n",
      "At round 129 training loss: 0.8206149795180069\n",
      "At round 129 mean test accuracy: 0.8217255717255717 mean train accuracy: 0.8230923817063516\n",
      "The groups difference are: [0.         5.53038824 5.12369955 5.81898836 4.92493076]\n",
      "Begin group  0 training\n"
     ]
    },
    {
     "name": "stderr",
     "output_type": "stream",
     "text": [
      "Epoch:   0%|                                                                                     | 0/20 [00:00<?, ?it/s]"
     ]
    },
    {
     "name": "stdout",
     "output_type": "stream",
     "text": [
      "Begin group  1 training\n"
     ]
    },
    {
     "name": "stderr",
     "output_type": "stream",
     "text": [
      "Epoch:   0%|                                                                                     | 0/20 [00:00<?, ?it/s]"
     ]
    },
    {
     "name": "stdout",
     "output_type": "stream",
     "text": [
      "Begin group  2 training\n"
     ]
    },
    {
     "name": "stderr",
     "output_type": "stream",
     "text": [
      "Epoch:  30%|███████████████████████                                                      | 6/20 [00:00<00:00, 51.73it/s]"
     ]
    },
    {
     "name": "stdout",
     "output_type": "stream",
     "text": [
      "Begin group  3 training\n"
     ]
    },
    {
     "name": "stderr",
     "output_type": "stream",
     "text": [
      "Epoch:   0%|                                                                                     | 0/20 [00:00<?, ?it/s]"
     ]
    },
    {
     "name": "stdout",
     "output_type": "stream",
     "text": [
      "Begin group  4 training\n"
     ]
    },
    {
     "name": "stderr",
     "output_type": "stream",
     "text": [
      "                                                                                                                        \r"
     ]
    },
    {
     "name": "stdout",
     "output_type": "stream",
     "text": [
      "Group 0, clients ['f_00113', 'f_00174', 'f_00123', 'f_00134']\n",
      "Group 1, clients ['f_00018', 'f_00009', 'f_00158', 'f_00138']\n",
      "Group 2, clients ['f_00041', 'f_00132', 'f_00042', 'f_00131']\n",
      "Group 3, clients ['f_00030', 'f_00140']\n",
      "Group 4, clients ['f_00166', 'f_00047', 'f_00127', 'f_00007', 'f_00175', 'f_00176']\n"
     ]
    },
    {
     "name": "stderr",
     "output_type": "stream",
     "text": [
      "Epoch:   0%|                                                                                     | 0/20 [00:00<?, ?it/s]"
     ]
    },
    {
     "name": "stdout",
     "output_type": "stream",
     "text": [
      "Group 0\n",
      "At round 130 accuracy: 0.8664921465968587\n",
      "At round 130 training accuracy: 0.8835913312693499\n",
      "At round 130 training loss: 0.30711890438761874\n",
      "Group 1\n",
      "At round 130 accuracy: 0.7385159010600707\n",
      "At round 130 training accuracy: 0.7201508169250105\n",
      "At round 130 training loss: 0.6874155575791112\n",
      "Group 2\n",
      "At round 130 accuracy: 0.8516377649325626\n",
      "At round 130 training accuracy: 0.8707165109034268\n",
      "At round 130 training loss: 0.32330335266838406\n",
      "Group 3\n",
      "At round 130 accuracy: 0.9742489270386266\n",
      "At round 130 training accuracy: 0.9657907783837383\n",
      "At round 130 training loss: 0.17877019484502937\n",
      "Group 4\n",
      "At round 130 accuracy: 0.777120315581854\n",
      "At round 130 training accuracy: 0.7845329606335896\n",
      "At round 130 training loss: 0.5868130855048811\n",
      "At round 130 mean test accuracy: 0.8331600831600832 mean train accuracy: 0.8405091041958468\n",
      "The groups difference are: [0.         5.52700556 5.11701029 5.82425234 4.90658842]\n",
      "Begin group  0 training\n"
     ]
    },
    {
     "name": "stderr",
     "output_type": "stream",
     "text": [
      "Epoch:   0%|                                                                                     | 0/20 [00:00<?, ?it/s]"
     ]
    },
    {
     "name": "stdout",
     "output_type": "stream",
     "text": [
      "Begin group  1 training\n"
     ]
    },
    {
     "name": "stderr",
     "output_type": "stream",
     "text": [
      "Epoch:   0%|                                                                                     | 0/20 [00:00<?, ?it/s]"
     ]
    },
    {
     "name": "stdout",
     "output_type": "stream",
     "text": [
      "Begin group  2 training\n"
     ]
    },
    {
     "name": "stderr",
     "output_type": "stream",
     "text": [
      "Epoch:   0%|                                                                                     | 0/20 [00:00<?, ?it/s]"
     ]
    },
    {
     "name": "stdout",
     "output_type": "stream",
     "text": [
      "Begin group  3 training\n",
      "Begin group  4 training\n"
     ]
    },
    {
     "name": "stderr",
     "output_type": "stream",
     "text": [
      "                                                                                                                        \r"
     ]
    },
    {
     "name": "stdout",
     "output_type": "stream",
     "text": [
      "Group 0, clients ['f_00023', 'f_00104', 'f_00163', 'f_00094', 'f_00074', 'f_00034', 'f_00044']\n",
      "Group 1, clients ['f_00188', 'f_00108', 'f_00098', 'f_00038']\n",
      "Group 2, clients ['f_00161', 'f_00111']\n",
      "Group 3, clients ['f_00190']\n",
      "Group 4, clients ['f_00186', 'f_00116', 'f_00036', 'f_00125', 'f_00185', 'f_00147']\n"
     ]
    },
    {
     "name": "stderr",
     "output_type": "stream",
     "text": [
      "Epoch:  40%|██████████████████████████████▊                                              | 8/20 [00:00<00:00, 76.51it/s]"
     ]
    },
    {
     "name": "stdout",
     "output_type": "stream",
     "text": [
      "Group 0\n",
      "At round 131 accuracy: 0.837696335078534\n",
      "At round 131 training accuracy: 0.8445820433436533\n",
      "At round 131 training loss: 0.4073034864899359\n",
      "Group 1\n",
      "At round 131 accuracy: 0.8197879858657244\n",
      "At round 131 training accuracy: 0.8273984080435693\n",
      "At round 131 training loss: 0.5299898711866947\n",
      "Group 2\n",
      "At round 131 accuracy: 0.8921001926782274\n",
      "At round 131 training accuracy: 0.8967512238540276\n",
      "At round 131 training loss: 0.2671338334798972\n",
      "Group 3\n",
      "At round 131 accuracy: 0.9527896995708155\n",
      "At round 131 training accuracy: 0.9474467030242935\n",
      "At round 131 training loss: 0.18379672182318474\n",
      "Group 4\n",
      "At round 131 accuracy: 0.7790927021696252\n",
      "At round 131 training accuracy: 0.7894246447705567\n",
      "At round 131 training loss: 0.5203164034815287\n",
      "At round 131 mean test accuracy: 0.8482328482328483 mean train accuracy: 0.8545764569758236\n",
      "The groups difference are: [0.         5.53367293 5.10303312 5.82682393 4.91547804]\n",
      "Begin group  0 training\n"
     ]
    },
    {
     "name": "stderr",
     "output_type": "stream",
     "text": [
      "Epoch:  60%|█████████████████████████████████████████████                              | 12/20 [00:00<00:00, 114.80it/s]"
     ]
    },
    {
     "name": "stdout",
     "output_type": "stream",
     "text": [
      "Begin group  1 training\n"
     ]
    },
    {
     "name": "stderr",
     "output_type": "stream",
     "text": [
      "Epoch:  85%|███████████████████████████████████████████████████████████████▊           | 17/20 [00:00<00:00, 166.26it/s]"
     ]
    },
    {
     "name": "stdout",
     "output_type": "stream",
     "text": [
      "Begin group  2 training\n",
      "Begin group  3 training\n"
     ]
    },
    {
     "name": "stderr",
     "output_type": "stream",
     "text": [
      "Epoch:   0%|                                                                                     | 0/20 [00:00<?, ?it/s]"
     ]
    },
    {
     "name": "stdout",
     "output_type": "stream",
     "text": [
      "Begin group  4 training\n"
     ]
    },
    {
     "name": "stderr",
     "output_type": "stream",
     "text": [
      "                                                                                                                        \r"
     ]
    },
    {
     "name": "stdout",
     "output_type": "stream",
     "text": [
      "Group 0, clients ['f_00073', 'f_00114', 'f_00133', 'f_00144']\n",
      "Group 1, clients ['f_00159']\n",
      "Group 2, clients ['f_00131', 'f_00121', 'f_00192']\n",
      "Group 3, clients ['f_00060']\n",
      "Group 4, clients ['f_00007', 'f_00026', 'f_00157', 'f_00136', 'f_00166', 'f_00187', 'f_00116', 'f_00077', 'f_00126', 'f_00027', 'f_00156']\n"
     ]
    },
    {
     "name": "stderr",
     "output_type": "stream",
     "text": [
      "Epoch:  25%|███████████████████▎                                                         | 5/20 [00:00<00:00, 40.27it/s]"
     ]
    },
    {
     "name": "stdout",
     "output_type": "stream",
     "text": [
      "Group 0\n",
      "At round 132 accuracy: 0.9057591623036649\n",
      "At round 132 training accuracy: 0.9325077399380804\n",
      "At round 132 training loss: 0.25489047988557223\n",
      "Group 1\n",
      "At round 132 accuracy: 0.7915194346289752\n",
      "At round 132 training accuracy: 0.7741935483870968\n",
      "At round 132 training loss: 0.7294798426152175\n",
      "Group 2\n",
      "At round 132 accuracy: 0.7842003853564548\n",
      "At round 132 training accuracy: 0.7857142857142857\n",
      "At round 132 training loss: 0.5964006739102792\n",
      "Group 3\n",
      "At round 132 accuracy: 0.9570815450643777\n",
      "At round 132 training accuracy: 0.9563708477937531\n",
      "At round 132 training loss: 0.18065975405493762\n",
      "Group 4\n",
      "At round 132 accuracy: 0.7790927021696252\n",
      "At round 132 training accuracy: 0.7959468902865129\n",
      "At round 132 training loss: 0.6050863252107064\n",
      "At round 132 mean test accuracy: 0.829002079002079 mean train accuracy: 0.836550758175507\n",
      "The groups difference are: [0.         5.54329628 5.09773153 5.82110039 4.89372637]\n",
      "Begin group  0 training\n"
     ]
    },
    {
     "name": "stderr",
     "output_type": "stream",
     "text": [
      "Epoch:   0%|                                                                                     | 0/20 [00:00<?, ?it/s]"
     ]
    },
    {
     "name": "stdout",
     "output_type": "stream",
     "text": [
      "Begin group  1 training\n",
      "Begin group  2 training\n"
     ]
    },
    {
     "name": "stderr",
     "output_type": "stream",
     "text": [
      "Epoch:   0%|                                                                                     | 0/20 [00:00<?, ?it/s]"
     ]
    },
    {
     "name": "stdout",
     "output_type": "stream",
     "text": [
      "Begin group  3 training\n",
      "Begin group  4 training\n"
     ]
    },
    {
     "name": "stderr",
     "output_type": "stream",
     "text": [
      "                                                                                                                        \r"
     ]
    },
    {
     "name": "stdout",
     "output_type": "stream",
     "text": [
      "Group 0, clients ['f_00043', 'f_00124', 'f_00133', 'f_00143', 'f_00194', 'f_00044', 'f_00103', 'f_00114', 'f_00003']\n",
      "Group 1, clients ['f_00018', 'f_00129', 'f_00139', 'f_00169', 'f_00029', 'f_00039']\n",
      "Group 2 is empty.\n",
      "Group 3, clients ['f_00130']\n",
      "Group 4, clients ['f_00187', 'f_00126', 'f_00146', 'f_00057']\n"
     ]
    },
    {
     "name": "stderr",
     "output_type": "stream",
     "text": [
      "Epoch:   0%|                                                                                     | 0/20 [00:00<?, ?it/s]"
     ]
    },
    {
     "name": "stdout",
     "output_type": "stream",
     "text": [
      "Group 0\n",
      "At round 133 accuracy: 0.8429319371727748\n",
      "At round 133 training accuracy: 0.8405572755417957\n",
      "At round 133 training loss: 0.46175039673783463\n",
      "Group 1\n",
      "At round 133 accuracy: 0.8162544169611308\n",
      "At round 133 training accuracy: 0.8068705488060327\n",
      "At round 133 training loss: 0.7519031109535699\n",
      "Group 2\n",
      "At round 133 accuracy: 0.7341040462427746\n",
      "At round 133 training accuracy: 0.7409879839786382\n",
      "At round 133 training loss: 0.8125816204953602\n",
      "Group 3\n",
      "At round 133 accuracy: 0.9699570815450643\n",
      "At round 133 training accuracy: 0.961824491819534\n",
      "At round 133 training loss: 0.17826430515806807\n",
      "Group 4\n",
      "At round 133 accuracy: 0.7199211045364892\n",
      "At round 133 training accuracy: 0.746098299557419\n",
      "At round 133 training loss: 0.6909541608850328\n",
      "At round 133 mean test accuracy: 0.7926195426195426 mean train accuracy: 0.798611534011327\n",
      "The groups difference are: [0.         5.55667448 5.10526187 5.8219267  4.91935072]\n",
      "Begin group  0 training\n"
     ]
    },
    {
     "name": "stderr",
     "output_type": "stream",
     "text": [
      "Epoch:   0%|                                                                                     | 0/20 [00:00<?, ?it/s]"
     ]
    },
    {
     "name": "stdout",
     "output_type": "stream",
     "text": [
      "Begin group  1 training\n"
     ]
    },
    {
     "name": "stderr",
     "output_type": "stream",
     "text": [
      "Epoch:   0%|                                                                                     | 0/20 [00:00<?, ?it/s]"
     ]
    },
    {
     "name": "stdout",
     "output_type": "stream",
     "text": [
      "Begin group  3 training\n",
      "Begin group  4 training\n"
     ]
    },
    {
     "name": "stderr",
     "output_type": "stream",
     "text": [
      "                                                                                                                        \r"
     ]
    },
    {
     "name": "stdout",
     "output_type": "stream",
     "text": [
      "Group 0, clients ['f_00173', 'f_00084', 'f_00013']\n",
      "Group 1, clients ['f_00008', 'f_00069', 'f_00068', 'f_00199', 'f_00097']\n",
      "Group 2, clients ['f_00122', 'f_00012', 'f_00191', 'f_00081', 'f_00112']\n",
      "Group 3 is empty.\n",
      "Group 4, clients ['f_00195', 'f_00196', 'f_00136', 'f_00016', 'f_00127', 'f_00175', 'f_00085']\n"
     ]
    },
    {
     "name": "stderr",
     "output_type": "stream",
     "text": [
      "Epoch:   0%|                                                                                     | 0/20 [00:00<?, ?it/s]"
     ]
    },
    {
     "name": "stdout",
     "output_type": "stream",
     "text": [
      "Group 0\n",
      "At round 134 accuracy: 0.8795811518324608\n",
      "At round 134 training accuracy: 0.8922600619195047\n",
      "At round 134 training loss: 0.2992336458742803\n",
      "Group 1\n",
      "At round 134 accuracy: 0.8197879858657244\n",
      "At round 134 training accuracy: 0.7997486384583159\n",
      "At round 134 training loss: 0.701203597558933\n",
      "Group 2\n",
      "At round 134 accuracy: 0.7341040462427746\n",
      "At round 134 training accuracy: 0.7407654650645304\n",
      "At round 134 training loss: 0.811833575107638\n",
      "Group 3\n",
      "At round 134 accuracy: 0.8755364806866953\n",
      "At round 134 training accuracy: 0.8914229053049083\n",
      "At round 134 training loss: 0.26615993476883276\n",
      "Group 4\n",
      "At round 134 accuracy: 0.7613412228796844\n",
      "At round 134 training accuracy: 0.7801071511763336\n",
      "At round 134 training loss: 0.5953795256927495\n",
      "At round 134 mean test accuracy: 0.7998960498960499 mean train accuracy: 0.8079288715668961\n",
      "The groups difference are: [0.         5.55130703 5.09677606 5.80933294 4.90271628]\n",
      "Begin group  0 training\n"
     ]
    },
    {
     "name": "stderr",
     "output_type": "stream",
     "text": [
      "Epoch:   0%|                                                                                     | 0/20 [00:00<?, ?it/s]"
     ]
    },
    {
     "name": "stdout",
     "output_type": "stream",
     "text": [
      "Begin group  1 training\n"
     ]
    },
    {
     "name": "stderr",
     "output_type": "stream",
     "text": [
      "Epoch:  25%|███████████████████▎                                                         | 5/20 [00:00<00:00, 49.27it/s]"
     ]
    },
    {
     "name": "stdout",
     "output_type": "stream",
     "text": [
      "Begin group  2 training\n"
     ]
    },
    {
     "name": "stderr",
     "output_type": "stream",
     "text": [
      "Epoch:   0%|                                                                                     | 0/20 [00:00<?, ?it/s]"
     ]
    },
    {
     "name": "stdout",
     "output_type": "stream",
     "text": [
      "Begin group  4 training\n"
     ]
    },
    {
     "name": "stderr",
     "output_type": "stream",
     "text": [
      "                                                                                                                        \r"
     ]
    },
    {
     "name": "stdout",
     "output_type": "stream",
     "text": [
      "Group 0, clients ['f_00143', 'f_00154', 'f_00193', 'f_00114']\n",
      "Group 1, clients ['f_00158', 'f_00078', 'f_00189', 'f_00039', 'f_00108', 'f_00058']\n",
      "Group 2, clients ['f_00142', 'f_00161', 'f_00192', 'f_00122']\n",
      "Group 3, clients ['f_00030', 'f_00060']\n",
      "Group 4, clients ['f_00065', 'f_00115', 'f_00077', 'f_00026']\n"
     ]
    },
    {
     "name": "stderr",
     "output_type": "stream",
     "text": [
      "Epoch:  40%|██████████████████████████████▊                                              | 8/20 [00:00<00:00, 76.29it/s]"
     ]
    },
    {
     "name": "stdout",
     "output_type": "stream",
     "text": [
      "Group 0\n",
      "At round 135 accuracy: 0.8769633507853403\n",
      "At round 135 training accuracy: 0.8959752321981425\n",
      "At round 135 training loss: 0.2840076698768803\n",
      "Group 1\n",
      "At round 135 accuracy: 0.8162544169611308\n",
      "At round 135 training accuracy: 0.7888563049853372\n",
      "At round 135 training loss: 0.5735384067157646\n",
      "Group 2\n",
      "At round 135 accuracy: 0.8805394990366089\n",
      "At round 135 training accuracy: 0.8880729862038274\n",
      "At round 135 training loss: 0.30224810324818174\n",
      "Group 3\n",
      "At round 135 accuracy: 0.8755364806866953\n",
      "At round 135 training accuracy: 0.8914229053049083\n",
      "At round 135 training loss: 0.2659827919513445\n",
      "Group 4\n",
      "At round 135 accuracy: 0.7317554240631163\n",
      "At round 135 training accuracy: 0.757745166550198\n",
      "At round 135 training loss: 0.6721178245744366\n",
      "At round 135 mean test accuracy: 0.8305613305613305 mean train accuracy: 0.8415443639242434\n",
      "The groups difference are: [0.         5.54899384 5.06482381 5.78606177 4.89318006]\n",
      "Begin group  0 training\n"
     ]
    },
    {
     "name": "stderr",
     "output_type": "stream",
     "text": [
      "Epoch:   0%|                                                                                     | 0/20 [00:00<?, ?it/s]"
     ]
    },
    {
     "name": "stdout",
     "output_type": "stream",
     "text": [
      "Begin group  1 training\n"
     ]
    },
    {
     "name": "stderr",
     "output_type": "stream",
     "text": [
      "Epoch:   0%|                                                                                     | 0/20 [00:00<?, ?it/s]"
     ]
    },
    {
     "name": "stdout",
     "output_type": "stream",
     "text": [
      "Begin group  2 training\n"
     ]
    },
    {
     "name": "stderr",
     "output_type": "stream",
     "text": [
      "Epoch:   0%|                                                                                     | 0/20 [00:00<?, ?it/s]"
     ]
    },
    {
     "name": "stdout",
     "output_type": "stream",
     "text": [
      "Begin group  3 training\n",
      "Begin group  4 training\n"
     ]
    },
    {
     "name": "stderr",
     "output_type": "stream",
     "text": [
      "                                                                                                                        \r"
     ]
    },
    {
     "name": "stdout",
     "output_type": "stream",
     "text": [
      "Group 0, clients ['f_00064', 'f_00163', 'f_00053', 'f_00084', 'f_00003', 'f_00144', 'f_00094']\n",
      "Group 1, clients ['f_00049', 'f_00038', 'f_00059', 'f_00078', 'f_00068']\n",
      "Group 2, clients ['f_00081', 'f_00181', 'f_00042', 'f_00062']\n",
      "Group 3, clients ['f_00000', 'f_00150']\n",
      "Group 4, clients ['f_00086', 'f_00115']\n"
     ]
    },
    {
     "name": "stderr",
     "output_type": "stream",
     "text": [
      "Epoch:   0%|                                                                                     | 0/20 [00:00<?, ?it/s]"
     ]
    },
    {
     "name": "stdout",
     "output_type": "stream",
     "text": [
      "Group 0\n",
      "At round 136 accuracy: 0.900523560209424\n",
      "At round 136 training accuracy: 0.9012383900928792\n",
      "At round 136 training loss: 0.2854709000456444\n",
      "Group 1\n",
      "At round 136 accuracy: 0.8374558303886925\n",
      "At round 136 training accuracy: 0.8106409719312945\n",
      "At round 136 training loss: 0.4308089938063126\n",
      "Group 2\n",
      "At round 136 accuracy: 0.8728323699421965\n",
      "At round 136 training accuracy: 0.872719181130396\n",
      "At round 136 training loss: 0.3668458453273052\n",
      "Group 3\n",
      "At round 136 accuracy: 0.9785407725321889\n",
      "At round 136 training accuracy: 0.9657907783837383\n",
      "At round 136 training loss: 0.17851096351045043\n",
      "Group 4\n",
      "At round 136 accuracy: 0.7790927021696252\n",
      "At round 136 training accuracy: 0.8085255066387141\n",
      "At round 136 training loss: 0.5806323867069934\n",
      "At round 136 mean test accuracy: 0.8612266112266113 mean train accuracy: 0.8639546921624749\n",
      "The groups difference are: [0.         5.5495939  5.05785844 5.77302195 4.87898229]\n",
      "Begin group  0 training\n"
     ]
    },
    {
     "name": "stderr",
     "output_type": "stream",
     "text": [
      "Epoch:   0%|                                                                                     | 0/20 [00:00<?, ?it/s]"
     ]
    },
    {
     "name": "stdout",
     "output_type": "stream",
     "text": [
      "Begin group  1 training\n"
     ]
    },
    {
     "name": "stderr",
     "output_type": "stream",
     "text": [
      "Epoch:   0%|                                                                                     | 0/20 [00:00<?, ?it/s]"
     ]
    },
    {
     "name": "stdout",
     "output_type": "stream",
     "text": [
      "Begin group  2 training\n"
     ]
    },
    {
     "name": "stderr",
     "output_type": "stream",
     "text": [
      "Epoch:   0%|                                                                                     | 0/20 [00:00<?, ?it/s]"
     ]
    },
    {
     "name": "stdout",
     "output_type": "stream",
     "text": [
      "Begin group  3 training\n",
      "Begin group  4 training\n"
     ]
    },
    {
     "name": "stderr",
     "output_type": "stream",
     "text": [
      "                                                                                                                        \r"
     ]
    },
    {
     "name": "stdout",
     "output_type": "stream",
     "text": [
      "Group 0, clients ['f_00044', 'f_00133', 'f_00144', 'f_00193', 'f_00004', 'f_00114', 'f_00064']\n",
      "Group 1, clients ['f_00128', 'f_00198', 'f_00168', 'f_00089', 'f_00138', 'f_00158']\n",
      "Group 2, clients ['f_00032']\n",
      "Group 3, clients ['f_00080']\n",
      "Group 4, clients ['f_00047', 'f_00187', 'f_00196', 'f_00065', 'f_00106']\n"
     ]
    },
    {
     "name": "stderr",
     "output_type": "stream",
     "text": [
      "Epoch:   0%|                                                                                     | 0/20 [00:00<?, ?it/s]"
     ]
    },
    {
     "name": "stdout",
     "output_type": "stream",
     "text": [
      "Group 0\n",
      "At round 137 accuracy: 0.856020942408377\n",
      "At round 137 training accuracy: 0.865015479876161\n",
      "At round 137 training loss: 0.35044926094012363\n",
      "Group 1\n",
      "At round 137 accuracy: 0.833922261484099\n",
      "At round 137 training accuracy: 0.8391286133221617\n",
      "At round 137 training loss: 0.46935209939057326\n",
      "Group 2\n",
      "At round 137 accuracy: 0.8709055876685935\n",
      "At round 137 training accuracy: 0.8751668891855807\n",
      "At round 137 training loss: 0.5441177627763909\n",
      "Group 3\n",
      "At round 137 accuracy: 0.9785407725321889\n",
      "At round 137 training accuracy: 0.9657907783837383\n",
      "At round 137 training loss: 0.1784489196999923\n",
      "Group 4\n",
      "At round 137 accuracy: 0.777120315581854\n",
      "At round 137 training accuracy: 0.803633822501747\n",
      "At round 137 training loss: 0.6696181573405873\n",
      "At round 137 mean test accuracy: 0.8508316008316008 mean train accuracy: 0.860361731928628\n",
      "The groups difference are: [0.         5.55994075 5.16476311 5.77383084 4.88627366]\n",
      "Begin group  0 training\n"
     ]
    },
    {
     "name": "stderr",
     "output_type": "stream",
     "text": [
      "Epoch:   0%|                                                                                     | 0/20 [00:00<?, ?it/s]"
     ]
    },
    {
     "name": "stdout",
     "output_type": "stream",
     "text": [
      "Begin group  1 training\n"
     ]
    },
    {
     "name": "stderr",
     "output_type": "stream",
     "text": [
      "Epoch:  35%|██████████████████████████▉                                                  | 7/20 [00:00<00:00, 62.77it/s]"
     ]
    },
    {
     "name": "stdout",
     "output_type": "stream",
     "text": [
      "Begin group  2 training\n",
      "Begin group  3 training\n"
     ]
    },
    {
     "name": "stderr",
     "output_type": "stream",
     "text": [
      "Epoch:   0%|                                                                                     | 0/20 [00:00<?, ?it/s]"
     ]
    },
    {
     "name": "stdout",
     "output_type": "stream",
     "text": [
      "Begin group  4 training\n"
     ]
    },
    {
     "name": "stderr",
     "output_type": "stream",
     "text": [
      "                                                                                                                        \r"
     ]
    },
    {
     "name": "stdout",
     "output_type": "stream",
     "text": [
      "Group 0, clients ['f_00013', 'f_00154', 'f_00014', 'f_00084', 'f_00114']\n",
      "Group 1, clients ['f_00058', 'f_00128', 'f_00038', 'f_00079']\n",
      "Group 2, clients ['f_00162', 'f_00151', 'f_00052', 'f_00142']\n",
      "Group 3 is empty.\n",
      "Group 4, clients ['f_00156', 'f_00115', 'f_00016', 'f_00185', 'f_00186', 'f_00036', 'f_00155']\n"
     ]
    },
    {
     "name": "stderr",
     "output_type": "stream",
     "text": [
      "Epoch:   0%|                                                                                     | 0/20 [00:00<?, ?it/s]"
     ]
    },
    {
     "name": "stdout",
     "output_type": "stream",
     "text": [
      "Group 0\n",
      "At round 138 accuracy: 0.8979057591623036\n",
      "At round 138 training accuracy: 0.8919504643962848\n",
      "At round 138 training loss: 0.3084416637894908\n",
      "Group 1\n",
      "At round 138 accuracy: 0.8303886925795053\n",
      "At round 138 training accuracy: 0.8433179723502304\n",
      "At round 138 training loss: 0.4750609560321453\n",
      "Group 2\n",
      "At round 138 accuracy: 0.8689788053949904\n",
      "At round 138 training accuracy: 0.8718291054739653\n",
      "At round 138 training loss: 0.5514994640455386\n",
      "Group 3\n",
      "At round 138 accuracy: 0.9785407725321889\n",
      "At round 138 training accuracy: 0.9652949925632127\n",
      "At round 138 training loss: 0.1787980852383579\n",
      "Group 4\n",
      "At round 138 accuracy: 0.8106508875739645\n",
      "At round 138 training accuracy: 0.8292569298858607\n",
      "At round 138 training loss: 0.5287267089362137\n",
      "At round 138 mean test accuracy: 0.8669438669438669 mean train accuracy: 0.8719931794653188\n",
      "The groups difference are: [0.         5.54832193 5.15055314 5.7762254  4.87005093]\n",
      "Begin group  0 training\n"
     ]
    },
    {
     "name": "stderr",
     "output_type": "stream",
     "text": [
      "Epoch:   0%|                                                                                     | 0/20 [00:00<?, ?it/s]"
     ]
    },
    {
     "name": "stdout",
     "output_type": "stream",
     "text": [
      "Begin group  1 training\n"
     ]
    },
    {
     "name": "stderr",
     "output_type": "stream",
     "text": [
      "Epoch:   0%|                                                                                     | 0/20 [00:00<?, ?it/s]"
     ]
    },
    {
     "name": "stdout",
     "output_type": "stream",
     "text": [
      "Begin group  2 training\n"
     ]
    },
    {
     "name": "stderr",
     "output_type": "stream",
     "text": [
      "Epoch:   0%|                                                                                     | 0/20 [00:00<?, ?it/s]"
     ]
    },
    {
     "name": "stdout",
     "output_type": "stream",
     "text": [
      "Begin group  4 training\n"
     ]
    },
    {
     "name": "stderr",
     "output_type": "stream",
     "text": [
      "                                                                                                                        \r"
     ]
    },
    {
     "name": "stdout",
     "output_type": "stream",
     "text": [
      "Group 0, clients ['f_00164', 'f_00123', 'f_00103', 'f_00183', 'f_00104', 'f_00084', 'f_00054']\n",
      "Group 1, clients ['f_00128', 'f_00108', 'f_00097', 'f_00159']\n",
      "Group 2, clients ['f_00151', 'f_00142', 'f_00171']\n",
      "Group 3, clients ['f_00180']\n",
      "Group 4, clients ['f_00156', 'f_00155', 'f_00197', 'f_00075', 'f_00167']\n"
     ]
    },
    {
     "name": "stderr",
     "output_type": "stream",
     "text": [
      "Epoch:  15%|███████████▌                                                                 | 3/20 [00:00<00:00, 26.93it/s]"
     ]
    },
    {
     "name": "stdout",
     "output_type": "stream",
     "text": [
      "Group 0\n",
      "At round 139 accuracy: 0.8795811518324608\n",
      "At round 139 training accuracy: 0.8842105263157894\n",
      "At round 139 training loss: 0.3309198021081394\n",
      "Group 1\n",
      "At round 139 accuracy: 0.8268551236749117\n",
      "At round 139 training accuracy: 0.8043569333891915\n",
      "At round 139 training loss: 0.4691971300265806\n",
      "Group 2\n",
      "At round 139 accuracy: 0.8574181117533719\n",
      "At round 139 training accuracy: 0.8671562082777036\n",
      "At round 139 training loss: 0.5326199642667305\n",
      "Group 3\n",
      "At round 139 accuracy: 0.9785407725321889\n",
      "At round 139 training accuracy: 0.9652949925632127\n",
      "At round 139 training loss: 0.17932346783094497\n",
      "Group 4\n",
      "At round 139 accuracy: 0.7810650887573964\n",
      "At round 139 training accuracy: 0.803633822501747\n",
      "At round 139 training loss: 0.6309679588192331\n",
      "At round 139 mean test accuracy: 0.8518711018711018 mean train accuracy: 0.8568296693258632\n",
      "The groups difference are: [0.         5.54754723 5.14457222 5.75908013 4.85610678]\n",
      "Begin group  0 training\n"
     ]
    },
    {
     "name": "stderr",
     "output_type": "stream",
     "text": [
      "Epoch:  50%|██████████████████████████████████████                                      | 10/20 [00:00<00:00, 93.35it/s]"
     ]
    },
    {
     "name": "stdout",
     "output_type": "stream",
     "text": [
      "Begin group  1 training\n"
     ]
    },
    {
     "name": "stderr",
     "output_type": "stream",
     "text": [
      "Epoch:  95%|███████████████████████████████████████████████████████████████████████▎   | 19/20 [00:00<00:00, 189.74it/s]"
     ]
    },
    {
     "name": "stdout",
     "output_type": "stream",
     "text": [
      "Begin group  2 training\n"
     ]
    },
    {
     "name": "stderr",
     "output_type": "stream",
     "text": [
      "Epoch:  25%|███████████████████▎                                                         | 5/20 [00:00<00:00, 44.43it/s]"
     ]
    },
    {
     "name": "stdout",
     "output_type": "stream",
     "text": [
      "Begin group  3 training\n"
     ]
    },
    {
     "name": "stderr",
     "output_type": "stream",
     "text": [
      "Epoch:   0%|                                                                                     | 0/20 [00:00<?, ?it/s]"
     ]
    },
    {
     "name": "stdout",
     "output_type": "stream",
     "text": [
      "Begin group  4 training\n"
     ]
    },
    {
     "name": "stderr",
     "output_type": "stream",
     "text": [
      "                                                                                                                        \r"
     ]
    },
    {
     "name": "stdout",
     "output_type": "stream",
     "text": [
      "Group 0, clients ['f_00173', 'f_00154', 'f_00153']\n",
      "Group 1, clients ['f_00129', 'f_00049', 'f_00169']\n",
      "Group 2, clients ['f_00142', 'f_00071', 'f_00021', 'f_00061', 'f_00132']\n",
      "Group 3, clients ['f_00030', 'f_00120', 'f_00140']\n",
      "Group 4, clients ['f_00047', 'f_00095', 'f_00046', 'f_00137', 'f_00145', 'f_00055']\n"
     ]
    },
    {
     "name": "stderr",
     "output_type": "stream",
     "text": [
      "Epoch:   0%|                                                                                     | 0/20 [00:00<?, ?it/s]"
     ]
    },
    {
     "name": "stdout",
     "output_type": "stream",
     "text": [
      "Group 0\n",
      "At round 140 accuracy: 0.8664921465968587\n",
      "At round 140 training accuracy: 0.8681114551083592\n",
      "At round 140 training loss: 0.35278856526864205\n",
      "Group 1\n",
      "At round 140 accuracy: 0.8551236749116607\n",
      "At round 140 training accuracy: 0.8550481776288228\n",
      "At round 140 training loss: 0.3864939112417559\n",
      "Group 2\n",
      "At round 140 accuracy: 0.838150289017341\n",
      "At round 140 training accuracy: 0.8411214953271028\n",
      "At round 140 training loss: 0.39716843563050336\n",
      "Group 3\n",
      "At round 140 accuracy: 0.9785407725321889\n",
      "At round 140 training accuracy: 0.9652949925632127\n",
      "At round 140 training loss: 0.17804685892905703\n",
      "Group 4\n",
      "At round 140 accuracy: 0.8402366863905325\n",
      "At round 140 training accuracy: 0.8460284183554624\n",
      "At round 140 training loss: 0.4900129954457533\n",
      "At round 140 mean test accuracy: 0.8638253638253638 mean train accuracy: 0.8649899518908715\n",
      "The groups difference are: [0.         5.56706807 5.15767732 5.7932778  4.87178541]\n",
      "Begin group  0 training\n"
     ]
    },
    {
     "name": "stderr",
     "output_type": "stream",
     "text": [
      "Epoch:   0%|                                                                                     | 0/20 [00:00<?, ?it/s]"
     ]
    },
    {
     "name": "stdout",
     "output_type": "stream",
     "text": [
      "Begin group  1 training\n"
     ]
    },
    {
     "name": "stderr",
     "output_type": "stream",
     "text": [
      "Epoch:  80%|████████████████████████████████████████████████████████████               | 16/20 [00:00<00:00, 159.36it/s]"
     ]
    },
    {
     "name": "stdout",
     "output_type": "stream",
     "text": [
      "Begin group  2 training\n"
     ]
    },
    {
     "name": "stderr",
     "output_type": "stream",
     "text": [
      "Epoch:  65%|████████████████████████████████████████████████▊                          | 13/20 [00:00<00:00, 123.13it/s]"
     ]
    },
    {
     "name": "stdout",
     "output_type": "stream",
     "text": [
      "Begin group  3 training\n"
     ]
    },
    {
     "name": "stderr",
     "output_type": "stream",
     "text": [
      "Epoch:   0%|                                                                                     | 0/20 [00:00<?, ?it/s]"
     ]
    },
    {
     "name": "stdout",
     "output_type": "stream",
     "text": [
      "Begin group  4 training\n"
     ]
    },
    {
     "name": "stderr",
     "output_type": "stream",
     "text": [
      "                                                                                                                        \r"
     ]
    },
    {
     "name": "stdout",
     "output_type": "stream",
     "text": [
      "Group 0, clients ['f_00093', 'f_00183', 'f_00163']\n",
      "Group 1, clients ['f_00098', 'f_00079', 'f_00029', 'f_00108']\n",
      "Group 2, clients ['f_00051', 'f_00071', 'f_00181']\n",
      "Group 3, clients ['f_00010', 'f_00020']\n",
      "Group 4, clients ['f_00036', 'f_00107', 'f_00116', 'f_00055', 'f_00137', 'f_00007', 'f_00126', 'f_00176']\n"
     ]
    },
    {
     "name": "stderr",
     "output_type": "stream",
     "text": [
      "Epoch:  30%|███████████████████████                                                      | 6/20 [00:00<00:00, 56.88it/s]"
     ]
    },
    {
     "name": "stdout",
     "output_type": "stream",
     "text": [
      "Group 0\n",
      "At round 141 accuracy: 0.8926701570680629\n",
      "At round 141 training accuracy: 0.8959752321981425\n",
      "At round 141 training loss: 0.29481774760012286\n",
      "Group 1\n",
      "At round 141 accuracy: 0.823321554770318\n",
      "At round 141 training accuracy: 0.8102220360284876\n",
      "At round 141 training loss: 0.6132846909197095\n",
      "Group 2\n",
      "At round 141 accuracy: 0.8651252408477842\n",
      "At round 141 training accuracy: 0.8798397863818425\n",
      "At round 141 training loss: 0.30680236571833563\n",
      "Group 3\n",
      "At round 141 accuracy: 0.9785407725321889\n",
      "At round 141 training accuracy: 0.9652949925632127\n",
      "At round 141 training loss: 0.17689270535036072\n",
      "Group 4\n",
      "At round 141 accuracy: 0.8441814595660749\n",
      "At round 141 training accuracy: 0.8532494758909853\n",
      "At round 141 training loss: 0.44593792154104206\n",
      "At round 141 mean test accuracy: 0.8726611226611226 mean train accuracy: 0.8764387065343158\n",
      "The groups difference are: [0.         5.56038764 5.14531601 5.78673315 4.86441448]\n",
      "Begin group  0 training\n"
     ]
    },
    {
     "name": "stderr",
     "output_type": "stream",
     "text": [
      "Epoch:  20%|███████████████▍                                                             | 4/20 [00:00<00:00, 38.74it/s]"
     ]
    },
    {
     "name": "stdout",
     "output_type": "stream",
     "text": [
      "Begin group  1 training\n"
     ]
    },
    {
     "name": "stderr",
     "output_type": "stream",
     "text": [
      "Epoch:   0%|                                                                                     | 0/20 [00:00<?, ?it/s]"
     ]
    },
    {
     "name": "stdout",
     "output_type": "stream",
     "text": [
      "Begin group  2 training\n"
     ]
    },
    {
     "name": "stderr",
     "output_type": "stream",
     "text": [
      "Epoch:  35%|██████████████████████████▉                                                  | 7/20 [00:00<00:00, 62.37it/s]"
     ]
    },
    {
     "name": "stdout",
     "output_type": "stream",
     "text": [
      "Begin group  3 training\n"
     ]
    },
    {
     "name": "stderr",
     "output_type": "stream",
     "text": [
      "Epoch:  75%|████████████████████████████████████████████████████████▎                  | 15/20 [00:00<00:00, 144.68it/s]"
     ]
    },
    {
     "name": "stdout",
     "output_type": "stream",
     "text": [
      "Begin group  4 training\n"
     ]
    },
    {
     "name": "stderr",
     "output_type": "stream",
     "text": [
      "                                                                                                                        \r"
     ]
    },
    {
     "name": "stdout",
     "output_type": "stream",
     "text": [
      "Group 0, clients ['f_00153', 'f_00003']\n",
      "Group 1, clients ['f_00068', 'f_00199', 'f_00099', 'f_00148']\n",
      "Group 2, clients ['f_00142', 'f_00162', 'f_00001', 'f_00072', 'f_00161']\n",
      "Group 3, clients ['f_00010', 'f_00090']\n",
      "Group 4, clients ['f_00025', 'f_00166', 'f_00126', 'f_00175', 'f_00106', 'f_00067', 'f_00027']\n"
     ]
    },
    {
     "name": "stderr",
     "output_type": "stream",
     "text": [
      "Epoch:   0%|                                                                                     | 0/20 [00:00<?, ?it/s]"
     ]
    },
    {
     "name": "stdout",
     "output_type": "stream",
     "text": [
      "Group 0\n",
      "At round 142 accuracy: 0.8272251308900523\n",
      "At round 142 training accuracy: 0.8278637770897833\n",
      "At round 142 training loss: 0.512612618500188\n",
      "Group 1\n",
      "At round 142 accuracy: 0.8197879858657244\n",
      "At round 142 training accuracy: 0.8056137410976121\n",
      "At round 142 training loss: 0.5086553531508092\n",
      "Group 2\n",
      "At round 142 accuracy: 0.7687861271676301\n",
      "At round 142 training accuracy: 0.7621272808188696\n",
      "At round 142 training loss: 0.6925273996574326\n",
      "Group 3\n",
      "At round 142 accuracy: 0.9785407725321889\n",
      "At round 142 training accuracy: 0.9657907783837383\n",
      "At round 142 training loss: 0.17594174826845535\n",
      "Group 4\n",
      "At round 142 accuracy: 0.757396449704142\n",
      "At round 142 training accuracy: 0.751688795713953\n",
      "At round 142 training loss: 0.6037805328627663\n",
      "At round 142 mean test accuracy: 0.8102910602910602 mean train accuracy: 0.8036660373911455\n",
      "The groups difference are: [0.         5.5736368  5.12833667 5.79585084 4.87660965]\n",
      "Begin group  0 training\n",
      "Begin group  1 training\n"
     ]
    },
    {
     "name": "stderr",
     "output_type": "stream",
     "text": [
      "Epoch:   0%|                                                                                     | 0/20 [00:00<?, ?it/s]"
     ]
    },
    {
     "name": "stdout",
     "output_type": "stream",
     "text": [
      "Begin group  2 training\n"
     ]
    },
    {
     "name": "stderr",
     "output_type": "stream",
     "text": [
      "Epoch:  30%|███████████████████████                                                      | 6/20 [00:00<00:00, 54.66it/s]"
     ]
    },
    {
     "name": "stdout",
     "output_type": "stream",
     "text": [
      "Begin group  3 training\n"
     ]
    },
    {
     "name": "stderr",
     "output_type": "stream",
     "text": [
      "Epoch:   0%|                                                                                     | 0/20 [00:00<?, ?it/s]"
     ]
    },
    {
     "name": "stdout",
     "output_type": "stream",
     "text": [
      "Begin group  4 training\n"
     ]
    },
    {
     "name": "stderr",
     "output_type": "stream",
     "text": [
      "                                                                                                                        \r"
     ]
    },
    {
     "name": "stdout",
     "output_type": "stream",
     "text": [
      "Group 0, clients ['f_00014', 'f_00103']\n",
      "Group 1, clients ['f_00119', 'f_00139', 'f_00158', 'f_00019']\n",
      "Group 2, clients ['f_00161', 'f_00072', 'f_00041', 'f_00032', 'f_00002', 'f_00001']\n",
      "Group 3 is empty.\n",
      "Group 4, clients ['f_00025', 'f_00015', 'f_00107', 'f_00165', 'f_00105', 'f_00096', 'f_00147', 'f_00166']\n"
     ]
    },
    {
     "name": "stderr",
     "output_type": "stream",
     "text": [
      "Epoch:  45%|██████████████████████████████████▋                                          | 9/20 [00:00<00:00, 87.22it/s]"
     ]
    },
    {
     "name": "stdout",
     "output_type": "stream",
     "text": [
      "Group 0\n",
      "At round 143 accuracy: 0.8167539267015707\n",
      "At round 143 training accuracy: 0.8170278637770898\n",
      "At round 143 training loss: 0.5586311293045064\n",
      "Group 1\n",
      "At round 143 accuracy: 0.833922261484099\n",
      "At round 143 training accuracy: 0.8014243820695434\n",
      "At round 143 training loss: 0.4556067630174173\n",
      "Group 2\n",
      "At round 143 accuracy: 0.8882466281310212\n",
      "At round 143 training accuracy: 0.8978638184245661\n",
      "At round 143 training loss: 0.2761282537664686\n",
      "Group 3\n",
      "At round 143 accuracy: 0.9785407725321889\n",
      "At round 143 training accuracy: 0.9657907783837383\n",
      "At round 143 training loss: 0.17540260001714122\n",
      "Group 4\n",
      "At round 143 accuracy: 0.6785009861932939\n",
      "At round 143 training accuracy: 0.6876310272536688\n",
      "At round 143 training loss: 0.7916651386607091\n",
      "At round 143 mean test accuracy: 0.8217255717255717 mean train accuracy: 0.8213263504049693\n",
      "The groups difference are: [0.         5.56501943 5.09284074 5.79337742 4.89602918]\n",
      "Begin group  0 training\n"
     ]
    },
    {
     "name": "stderr",
     "output_type": "stream",
     "text": [
      "Epoch:   0%|                                                                                     | 0/20 [00:00<?, ?it/s]"
     ]
    },
    {
     "name": "stdout",
     "output_type": "stream",
     "text": [
      "Begin group  1 training\n"
     ]
    },
    {
     "name": "stderr",
     "output_type": "stream",
     "text": [
      "Epoch:  55%|█████████████████████████████████████████▎                                 | 11/20 [00:00<00:00, 107.27it/s]"
     ]
    },
    {
     "name": "stdout",
     "output_type": "stream",
     "text": [
      "Begin group  2 training\n"
     ]
    },
    {
     "name": "stderr",
     "output_type": "stream",
     "text": [
      "Epoch:   0%|                                                                                     | 0/20 [00:00<?, ?it/s]"
     ]
    },
    {
     "name": "stdout",
     "output_type": "stream",
     "text": [
      "Begin group  4 training\n"
     ]
    },
    {
     "name": "stderr",
     "output_type": "stream",
     "text": [
      "                                                                                                                        \r"
     ]
    },
    {
     "name": "stdout",
     "output_type": "stream",
     "text": [
      "Group 0, clients ['f_00023', 'f_00144', 'f_00193', 'f_00163', 'f_00004', 'f_00104']\n",
      "Group 1, clients ['f_00189', 'f_00088', 'f_00008', 'f_00178', 'f_00168', 'f_00199']\n",
      "Group 2, clients ['f_00001', 'f_00062']\n",
      "Group 3, clients ['f_00060', 'f_00020', 'f_00050', 'f_00190']\n",
      "Group 4, clients ['f_00165', 'f_00146']\n"
     ]
    },
    {
     "name": "stderr",
     "output_type": "stream",
     "text": [
      "Epoch:  30%|███████████████████████                                                      | 6/20 [00:00<00:00, 57.91it/s]"
     ]
    },
    {
     "name": "stdout",
     "output_type": "stream",
     "text": [
      "Group 0\n",
      "At round 144 accuracy: 0.8769633507853403\n",
      "At round 144 training accuracy: 0.891640866873065\n",
      "At round 144 training loss: 0.29519314206329295\n",
      "Group 1\n",
      "At round 144 accuracy: 0.823321554770318\n",
      "At round 144 training accuracy: 0.795978215333054\n",
      "At round 144 training loss: 0.46454379274024094\n",
      "Group 2\n",
      "At round 144 accuracy: 0.8709055876685935\n",
      "At round 144 training accuracy: 0.8769470404984424\n",
      "At round 144 training loss: 0.31382286861625097\n",
      "Group 3\n",
      "At round 144 accuracy: 0.9785407725321889\n",
      "At round 144 training accuracy: 0.9657907783837383\n",
      "At round 144 training loss: 0.17591037341182517\n",
      "Group 4\n",
      "At round 144 accuracy: 0.7731755424063116\n",
      "At round 144 training accuracy: 0.7947822035872351\n",
      "At round 144 training loss: 0.6175777209949138\n",
      "At round 144 mean test accuracy: 0.8523908523908524 mean train accuracy: 0.8574995432677669\n",
      "The groups difference are: [0.         5.56199685 5.09054404 5.77448294 4.86714138]\n",
      "Begin group  0 training\n"
     ]
    },
    {
     "name": "stderr",
     "output_type": "stream",
     "text": [
      "Epoch:  40%|██████████████████████████████▊                                              | 8/20 [00:00<00:00, 78.98it/s]"
     ]
    },
    {
     "name": "stdout",
     "output_type": "stream",
     "text": [
      "Begin group  1 training\n"
     ]
    },
    {
     "name": "stderr",
     "output_type": "stream",
     "text": [
      "Epoch:   0%|                                                                                     | 0/20 [00:00<?, ?it/s]"
     ]
    },
    {
     "name": "stdout",
     "output_type": "stream",
     "text": [
      "Begin group  2 training\n"
     ]
    },
    {
     "name": "stderr",
     "output_type": "stream",
     "text": [
      "Epoch:  80%|████████████████████████████████████████████████████████████               | 16/20 [00:00<00:00, 158.41it/s]"
     ]
    },
    {
     "name": "stdout",
     "output_type": "stream",
     "text": [
      "Begin group  3 training\n"
     ]
    },
    {
     "name": "stderr",
     "output_type": "stream",
     "text": [
      "                                                                                                                        \r"
     ]
    },
    {
     "name": "stdout",
     "output_type": "stream",
     "text": [
      "Begin group  4 training\n",
      "Group 0, clients ['f_00093', 'f_00163', 'f_00083', 'f_00174', 'f_00063']\n",
      "Group 1, clients ['f_00128', 'f_00138', 'f_00068', 'f_00028', 'f_00088']\n",
      "Group 2, clients ['f_00002', 'f_00001', 'f_00132']\n",
      "Group 3, clients ['f_00130', 'f_00080', 'f_00050']\n",
      "Group 4, clients ['f_00067', 'f_00055', 'f_00086', 'f_00167']\n"
     ]
    },
    {
     "name": "stderr",
     "output_type": "stream",
     "text": [
      "Epoch:  25%|███████████████████▎                                                         | 5/20 [00:00<00:00, 48.90it/s]"
     ]
    },
    {
     "name": "stdout",
     "output_type": "stream",
     "text": [
      "Group 0\n",
      "At round 145 accuracy: 0.8795811518324608\n",
      "At round 145 training accuracy: 0.9058823529411765\n",
      "At round 145 training loss: 0.2671517983148157\n",
      "Group 1\n",
      "At round 145 accuracy: 0.8197879858657244\n",
      "At round 145 training accuracy: 0.7997486384583159\n",
      "At round 145 training loss: 0.6316410999918364\n",
      "Group 2\n",
      "At round 145 accuracy: 0.8651252408477842\n",
      "At round 145 training accuracy: 0.8667111704494882\n",
      "At round 145 training loss: 0.5785211127302782\n",
      "Group 3\n",
      "At round 145 accuracy: 0.9785407725321889\n",
      "At round 145 training accuracy: 0.9687654933068914\n",
      "At round 145 training loss: 0.17617531762406208\n",
      "Group 4\n",
      "At round 145 accuracy: 0.6785009861932939\n",
      "At round 145 training accuracy: 0.6962497088283252\n",
      "At round 145 training loss: 0.8565201963834514\n",
      "At round 145 mean test accuracy: 0.8258835758835759 mean train accuracy: 0.8326533097862493\n",
      "The groups difference are: [0.         5.56270381 5.19331572 5.76483114 4.85606247]\n",
      "Begin group  0 training\n"
     ]
    },
    {
     "name": "stderr",
     "output_type": "stream",
     "text": [
      "Epoch:   0%|                                                                                     | 0/20 [00:00<?, ?it/s]"
     ]
    },
    {
     "name": "stdout",
     "output_type": "stream",
     "text": [
      "Begin group  1 training\n"
     ]
    },
    {
     "name": "stderr",
     "output_type": "stream",
     "text": [
      "Epoch:  50%|██████████████████████████████████████                                      | 10/20 [00:00<00:00, 99.52it/s]"
     ]
    },
    {
     "name": "stdout",
     "output_type": "stream",
     "text": [
      "Begin group  2 training\n"
     ]
    },
    {
     "name": "stderr",
     "output_type": "stream",
     "text": [
      "Epoch:  40%|██████████████████████████████▊                                              | 8/20 [00:00<00:00, 79.75it/s]"
     ]
    },
    {
     "name": "stdout",
     "output_type": "stream",
     "text": [
      "Begin group  3 training\n"
     ]
    },
    {
     "name": "stderr",
     "output_type": "stream",
     "text": [
      "Epoch:  25%|███████████████████▎                                                         | 5/20 [00:00<00:00, 40.96it/s]"
     ]
    },
    {
     "name": "stdout",
     "output_type": "stream",
     "text": [
      "Begin group  4 training\n"
     ]
    },
    {
     "name": "stderr",
     "output_type": "stream",
     "text": [
      "                                                                                                                        \r"
     ]
    },
    {
     "name": "stdout",
     "output_type": "stream",
     "text": [
      "Group 0, clients ['f_00143', 'f_00193', 'f_00004', 'f_00024']\n",
      "Group 1, clients ['f_00089', 'f_00078', 'f_00148', 'f_00118', 'f_00039']\n",
      "Group 2, clients ['f_00041', 'f_00162', 'f_00081']\n",
      "Group 3 is empty.\n",
      "Group 4, clients ['f_00007', 'f_00197', 'f_00076', 'f_00087', 'f_00056', 'f_00185', 'f_00095', 'f_00057']\n"
     ]
    },
    {
     "name": "stderr",
     "output_type": "stream",
     "text": [
      "Epoch:   0%|                                                                                     | 0/20 [00:00<?, ?it/s]"
     ]
    },
    {
     "name": "stdout",
     "output_type": "stream",
     "text": [
      "Group 0\n",
      "At round 146 accuracy: 0.8455497382198953\n",
      "At round 146 training accuracy: 0.8424148606811146\n",
      "At round 146 training loss: 0.45231272997132765\n",
      "Group 1\n",
      "At round 146 accuracy: 0.833922261484099\n",
      "At round 146 training accuracy: 0.8391286133221617\n",
      "At round 146 training loss: 0.4846339353118724\n",
      "Group 2\n",
      "At round 146 accuracy: 0.8670520231213873\n",
      "At round 146 training accuracy: 0.8716065865598576\n",
      "At round 146 training loss: 0.5308568445102714\n",
      "Group 3\n",
      "At round 146 accuracy: 0.9785407725321889\n",
      "At round 146 training accuracy: 0.9657907783837383\n",
      "At round 146 training loss: 0.17518352534313514\n",
      "Group 4\n",
      "At round 146 accuracy: 0.6291913214990138\n",
      "At round 146 training accuracy: 0.6405776846028418\n",
      "At round 146 training loss: 1.096550242324101\n",
      "At round 146 mean test accuracy: 0.8087318087318087 mean train accuracy: 0.8123135010048109\n",
      "The groups difference are: [0.         5.56116589 5.17021847 5.76783342 4.91227105]\n",
      "Begin group  0 training\n"
     ]
    },
    {
     "name": "stderr",
     "output_type": "stream",
     "text": [
      "Epoch:   0%|                                                                                     | 0/20 [00:00<?, ?it/s]"
     ]
    },
    {
     "name": "stdout",
     "output_type": "stream",
     "text": [
      "Begin group  1 training\n"
     ]
    },
    {
     "name": "stderr",
     "output_type": "stream",
     "text": [
      "Epoch:   0%|                                                                                     | 0/20 [00:00<?, ?it/s]"
     ]
    },
    {
     "name": "stdout",
     "output_type": "stream",
     "text": [
      "Begin group  2 training\n"
     ]
    },
    {
     "name": "stderr",
     "output_type": "stream",
     "text": [
      "Epoch:  70%|████████████████████████████████████████████████████▌                      | 14/20 [00:00<00:00, 139.72it/s]"
     ]
    },
    {
     "name": "stdout",
     "output_type": "stream",
     "text": [
      "Begin group  4 training\n"
     ]
    },
    {
     "name": "stderr",
     "output_type": "stream",
     "text": [
      "                                                                                                                        \r"
     ]
    },
    {
     "name": "stdout",
     "output_type": "stream",
     "text": [
      "Group 0, clients ['f_00024', 'f_00044', 'f_00133', 'f_00174', 'f_00194', 'f_00134']\n",
      "Group 1, clients ['f_00138', 'f_00169', 'f_00097', 'f_00089']\n",
      "Group 2, clients ['f_00062', 'f_00031', 'f_00112', 'f_00022', 'f_00072', 'f_00021']\n",
      "Group 3, clients ['f_00140', 'f_00090']\n",
      "Group 4, clients ['f_00035', 'f_00175']\n"
     ]
    },
    {
     "name": "stderr",
     "output_type": "stream",
     "text": [
      "Epoch:   0%|                                                                                     | 0/20 [00:00<?, ?it/s]"
     ]
    },
    {
     "name": "stdout",
     "output_type": "stream",
     "text": [
      "Group 0\n",
      "At round 147 accuracy: 0.9083769633507853\n",
      "At round 147 training accuracy: 0.934984520123839\n",
      "At round 147 training loss: 0.24012385768694774\n",
      "Group 1\n",
      "At round 147 accuracy: 0.8197879858657244\n",
      "At round 147 training accuracy: 0.828236279849183\n",
      "At round 147 training loss: 0.5472632226306722\n",
      "Group 2\n",
      "At round 147 accuracy: 0.8400770712909441\n",
      "At round 147 training accuracy: 0.8435692033822875\n",
      "At round 147 training loss: 0.36720305617565463\n",
      "Group 3\n",
      "At round 147 accuracy: 0.9785407725321889\n",
      "At round 147 training accuracy: 0.9657907783837383\n",
      "At round 147 training loss: 0.17570862809752968\n",
      "Group 4\n",
      "At round 147 accuracy: 0.7001972386587771\n",
      "At round 147 training accuracy: 0.7030048916841369\n",
      "At round 147 training loss: 0.8098457292079815\n",
      "At round 147 mean test accuracy: 0.8305613305613305 mean train accuracy: 0.8375860179039035\n",
      "The groups difference are: [0.         5.56016336 5.15842025 5.7429707  4.91376513]\n",
      "Begin group  0 training\n"
     ]
    },
    {
     "name": "stderr",
     "output_type": "stream",
     "text": [
      "Epoch:   0%|                                                                                     | 0/20 [00:00<?, ?it/s]"
     ]
    },
    {
     "name": "stdout",
     "output_type": "stream",
     "text": [
      "Begin group  1 training\n"
     ]
    },
    {
     "name": "stderr",
     "output_type": "stream",
     "text": [
      "Epoch:   5%|███▊                                                                         | 1/20 [00:00<00:03,  5.68it/s]"
     ]
    },
    {
     "name": "stdout",
     "output_type": "stream",
     "text": [
      "Begin group  2 training\n"
     ]
    },
    {
     "name": "stderr",
     "output_type": "stream",
     "text": [
      "Epoch:   0%|                                                                                     | 0/20 [00:00<?, ?it/s]"
     ]
    },
    {
     "name": "stdout",
     "output_type": "stream",
     "text": [
      "Begin group  3 training\n"
     ]
    },
    {
     "name": "stderr",
     "output_type": "stream",
     "text": [
      "Epoch:   0%|                                                                                     | 0/20 [00:00<?, ?it/s]"
     ]
    },
    {
     "name": "stdout",
     "output_type": "stream",
     "text": [
      "Begin group  4 training\n"
     ]
    },
    {
     "name": "stderr",
     "output_type": "stream",
     "text": [
      "                                                                                                                        \r"
     ]
    },
    {
     "name": "stdout",
     "output_type": "stream",
     "text": [
      "Group 0, clients ['f_00153', 'f_00023', 'f_00193', 'f_00073', 'f_00034', 'f_00013']\n",
      "Group 1, clients ['f_00158', 'f_00097', 'f_00088', 'f_00189', 'f_00149']\n",
      "Group 2, clients ['f_00192', 'f_00181', 'f_00002']\n",
      "Group 3, clients ['f_00030', 'f_00060']\n",
      "Group 4, clients ['f_00056', 'f_00135', 'f_00055', 'f_00185']\n"
     ]
    },
    {
     "name": "stderr",
     "output_type": "stream",
     "text": [
      "Epoch:  40%|██████████████████████████████▊                                              | 8/20 [00:00<00:00, 72.06it/s]"
     ]
    },
    {
     "name": "stdout",
     "output_type": "stream",
     "text": [
      "Group 0\n",
      "At round 148 accuracy: 0.8507853403141361\n",
      "At round 148 training accuracy: 0.8424148606811146\n",
      "At round 148 training loss: 0.4194355378694394\n",
      "Group 1\n",
      "At round 148 accuracy: 0.8445229681978799\n",
      "At round 148 training accuracy: 0.8315877670716381\n",
      "At round 148 training loss: 0.40041405022468934\n",
      "Group 2\n",
      "At round 148 accuracy: 0.8689788053949904\n",
      "At round 148 training accuracy: 0.8749443702714731\n",
      "At round 148 training loss: 0.5366075768682179\n",
      "Group 3\n",
      "At round 148 accuracy: 0.9742489270386266\n",
      "At round 148 training accuracy: 0.962816063460585\n",
      "At round 148 training loss: 0.17941483047023882\n",
      "Group 4\n",
      "At round 148 accuracy: 0.6370808678500987\n",
      "At round 148 training accuracy: 0.6445376193803867\n",
      "At round 148 training loss: 0.9702282959615715\n",
      "At round 148 mean test accuracy: 0.8134095634095634 mean train accuracy: 0.8128006820534681\n",
      "The groups difference are: [0.         5.55049031 5.25538462 5.74661081 4.88182358]\n",
      "Begin group  0 training\n"
     ]
    },
    {
     "name": "stderr",
     "output_type": "stream",
     "text": [
      "Epoch:   0%|                                                                                     | 0/20 [00:00<?, ?it/s]"
     ]
    },
    {
     "name": "stdout",
     "output_type": "stream",
     "text": [
      "Begin group  1 training\n"
     ]
    },
    {
     "name": "stderr",
     "output_type": "stream",
     "text": [
      "Epoch:   0%|                                                                                     | 0/20 [00:00<?, ?it/s]"
     ]
    },
    {
     "name": "stdout",
     "output_type": "stream",
     "text": [
      "Begin group  2 training\n"
     ]
    },
    {
     "name": "stderr",
     "output_type": "stream",
     "text": [
      "Epoch:   0%|                                                                                     | 0/20 [00:00<?, ?it/s]"
     ]
    },
    {
     "name": "stdout",
     "output_type": "stream",
     "text": [
      "Begin group  3 training\n",
      "Begin group  4 training\n"
     ]
    },
    {
     "name": "stderr",
     "output_type": "stream",
     "text": [
      "                                                                                                                        \r"
     ]
    },
    {
     "name": "stdout",
     "output_type": "stream",
     "text": [
      "Group 0, clients ['f_00013', 'f_00063', 'f_00074']\n",
      "Group 1, clients ['f_00058', 'f_00089']\n",
      "Group 2, clients ['f_00061', 'f_00091', 'f_00182', 'f_00071', 'f_00022', 'f_00052', 'f_00141', 'f_00062']\n",
      "Group 3, clients ['f_00180', 'f_00110', 'f_00090']\n",
      "Group 4, clients ['f_00026', 'f_00135', 'f_00107', 'f_00186']\n"
     ]
    },
    {
     "name": "stderr",
     "output_type": "stream",
     "text": [
      "Epoch:  50%|██████████████████████████████████████                                      | 10/20 [00:00<00:00, 99.87it/s]"
     ]
    },
    {
     "name": "stdout",
     "output_type": "stream",
     "text": [
      "Group 0\n",
      "At round 149 accuracy: 0.8455497382198953\n",
      "At round 149 training accuracy: 0.8455108359133127\n",
      "At round 149 training loss: 0.43001233874805755\n",
      "Group 1\n",
      "At round 149 accuracy: 0.8445229681978799\n",
      "At round 149 training accuracy: 0.8098031001256808\n",
      "At round 149 training loss: 0.4338732236753611\n",
      "Group 2\n",
      "At round 149 accuracy: 0.8554913294797688\n",
      "At round 149 training accuracy: 0.8602581219403649\n",
      "At round 149 training loss: 0.43801334449249635\n",
      "Group 3\n",
      "At round 149 accuracy: 0.9785407725321889\n",
      "At round 149 training accuracy: 0.9657907783837383\n",
      "At round 149 training loss: 0.17520211659183466\n",
      "Group 4\n",
      "At round 149 accuracy: 0.6351084812623274\n",
      "At round 149 training accuracy: 0.6422082459818309\n",
      "At round 149 training loss: 1.1502744593828285\n",
      "At round 149 mean test accuracy: 0.8087318087318087 mean train accuracy: 0.8059801473722672\n",
      "The groups difference are: [0.         5.55867672 5.2327341  5.74170007 4.89332602]\n",
      "Begin group  0 training\n"
     ]
    },
    {
     "name": "stderr",
     "output_type": "stream",
     "text": [
      "Epoch:   0%|                                                                                     | 0/20 [00:00<?, ?it/s]"
     ]
    },
    {
     "name": "stdout",
     "output_type": "stream",
     "text": [
      "Begin group  1 training\n",
      "Begin group  2 training\n"
     ]
    },
    {
     "name": "stderr",
     "output_type": "stream",
     "text": [
      "Epoch:  30%|███████████████████████                                                      | 6/20 [00:00<00:00, 51.68it/s]"
     ]
    },
    {
     "name": "stdout",
     "output_type": "stream",
     "text": [
      "Begin group  3 training\n"
     ]
    },
    {
     "name": "stderr",
     "output_type": "stream",
     "text": [
      "Epoch:   0%|                                                                                     | 0/20 [00:00<?, ?it/s]"
     ]
    },
    {
     "name": "stdout",
     "output_type": "stream",
     "text": [
      "Begin group  4 training\n"
     ]
    },
    {
     "name": "stderr",
     "output_type": "stream",
     "text": [
      "                                                                                                                        \r"
     ]
    },
    {
     "name": "stdout",
     "output_type": "stream",
     "text": [
      "Group 0, clients ['f_00194', 'f_00184', 'f_00013', 'f_00033', 'f_00084', 'f_00133']\n",
      "Group 1, clients ['f_00009', 'f_00119', 'f_00168', 'f_00008', 'f_00058']\n",
      "Group 2, clients ['f_00072', 'f_00042', 'f_00091']\n",
      "Group 3, clients ['f_00070']\n",
      "Group 4, clients ['f_00085', 'f_00087', 'f_00036', 'f_00056', 'f_00066']\n"
     ]
    },
    {
     "name": "stderr",
     "output_type": "stream",
     "text": [
      "Epoch:  35%|██████████████████████████▉                                                  | 7/20 [00:00<00:00, 63.20it/s]"
     ]
    },
    {
     "name": "stdout",
     "output_type": "stream",
     "text": [
      "Group 0\n",
      "At round 150 accuracy: 0.8664921465968587\n",
      "At round 150 training accuracy: 0.8724458204334365\n",
      "At round 150 training loss: 0.32121978150478825\n",
      "Group 1\n",
      "At round 150 accuracy: 0.8409893992932862\n",
      "At round 150 training accuracy: 0.8190196899874319\n",
      "At round 150 training loss: 0.4357801831737442\n",
      "Group 2\n",
      "At round 150 accuracy: 0.8689788053949904\n",
      "At round 150 training accuracy: 0.8756119270137962\n",
      "At round 150 training loss: 0.5002714021070883\n",
      "Group 3\n",
      "At round 150 accuracy: 0.9785407725321889\n",
      "At round 150 training accuracy: 0.9657907783837383\n",
      "At round 150 training loss: 0.17443629291072954\n",
      "Group 4\n",
      "At round 150 accuracy: 0.7534516765285996\n",
      "At round 150 training accuracy: 0.7873282087118565\n",
      "At round 150 training loss: 0.622366418461963\n",
      "At round 150 mean test accuracy: 0.8471933471933472 mean train accuracy: 0.8547591498690701\n",
      "The groups difference are: [0.         5.54339446 5.30183911 5.74448385 4.88915861]\n",
      "Begin group  0 training\n"
     ]
    },
    {
     "name": "stderr",
     "output_type": "stream",
     "text": [
      "Epoch:  75%|████████████████████████████████████████████████████████▎                  | 15/20 [00:00<00:00, 145.78it/s]"
     ]
    },
    {
     "name": "stdout",
     "output_type": "stream",
     "text": [
      "Begin group  1 training\n"
     ]
    },
    {
     "name": "stderr",
     "output_type": "stream",
     "text": [
      "Epoch:   0%|                                                                                     | 0/20 [00:00<?, ?it/s]"
     ]
    },
    {
     "name": "stdout",
     "output_type": "stream",
     "text": [
      "Begin group  2 training\n"
     ]
    },
    {
     "name": "stderr",
     "output_type": "stream",
     "text": [
      "Epoch:  30%|███████████████████████                                                      | 6/20 [00:00<00:00, 50.81it/s]"
     ]
    },
    {
     "name": "stdout",
     "output_type": "stream",
     "text": [
      "Begin group  3 training\n"
     ]
    },
    {
     "name": "stderr",
     "output_type": "stream",
     "text": [
      "Epoch:   0%|                                                                                     | 0/20 [00:00<?, ?it/s]"
     ]
    },
    {
     "name": "stdout",
     "output_type": "stream",
     "text": [
      "Begin group  4 training\n"
     ]
    },
    {
     "name": "stderr",
     "output_type": "stream",
     "text": [
      "                                                                                                                        \r"
     ]
    },
    {
     "name": "stdout",
     "output_type": "stream",
     "text": [
      "Group 0, clients ['f_00053', 'f_00103', 'f_00153', 'f_00094']\n",
      "Group 1, clients ['f_00038', 'f_00008', 'f_00138']\n",
      "Group 2, clients ['f_00061', 'f_00022', 'f_00142', 'f_00011']\n",
      "Group 3, clients ['f_00170', 'f_00050']\n",
      "Group 4, clients ['f_00007', 'f_00166', 'f_00076', 'f_00066', 'f_00177', 'f_00156', 'f_00187']\n"
     ]
    },
    {
     "name": "stderr",
     "output_type": "stream",
     "text": [
      "Epoch:  15%|███████████▌                                                                 | 3/20 [00:00<00:00, 23.27it/s]"
     ]
    },
    {
     "name": "stdout",
     "output_type": "stream",
     "text": [
      "Group 0\n",
      "At round 151 accuracy: 0.900523560209424\n",
      "At round 151 training accuracy: 0.8984520123839009\n",
      "At round 151 training loss: 0.2725623126461779\n",
      "Group 1\n",
      "At round 151 accuracy: 0.8303886925795053\n",
      "At round 151 training accuracy: 0.8135735232509426\n",
      "At round 151 training loss: 0.486465079974419\n",
      "Group 2\n",
      "At round 151 accuracy: 0.8227360308285164\n",
      "At round 151 training accuracy: 0.8264352469959947\n",
      "At round 151 training loss: 0.420533492236096\n",
      "Group 3\n",
      "At round 151 accuracy: 0.9613733905579399\n",
      "At round 151 training accuracy: 0.9573624194348042\n",
      "At round 151 training loss: 0.17938123573583722\n",
      "Group 4\n",
      "At round 151 accuracy: 0.6824457593688363\n",
      "At round 151 training accuracy: 0.7055672024225483\n",
      "At round 151 training loss: 0.7153112589375777\n",
      "At round 151 mean test accuracy: 0.8191268191268192 mean train accuracy: 0.823214176968516\n",
      "The groups difference are: [0.         5.53911027 5.30134258 5.7635247  4.91143326]\n",
      "Begin group  0 training\n"
     ]
    },
    {
     "name": "stderr",
     "output_type": "stream",
     "text": [
      "Epoch:   0%|                                                                                     | 0/20 [00:00<?, ?it/s]"
     ]
    },
    {
     "name": "stdout",
     "output_type": "stream",
     "text": [
      "Begin group  1 training\n"
     ]
    },
    {
     "name": "stderr",
     "output_type": "stream",
     "text": [
      "Epoch:   0%|                                                                                     | 0/20 [00:00<?, ?it/s]"
     ]
    },
    {
     "name": "stdout",
     "output_type": "stream",
     "text": [
      "Begin group  2 training\n"
     ]
    },
    {
     "name": "stderr",
     "output_type": "stream",
     "text": [
      "Epoch:   0%|                                                                                     | 0/20 [00:00<?, ?it/s]"
     ]
    },
    {
     "name": "stdout",
     "output_type": "stream",
     "text": [
      "Begin group  3 training\n",
      "Begin group  4 training\n"
     ]
    },
    {
     "name": "stderr",
     "output_type": "stream",
     "text": [
      "                                                                                                                        \r"
     ]
    },
    {
     "name": "stdout",
     "output_type": "stream",
     "text": [
      "Group 0, clients ['f_00063', 'f_00133', 'f_00003', 'f_00144']\n",
      "Group 1, clients ['f_00099', 'f_00088', 'f_00078']\n",
      "Group 2, clients ['f_00102', 'f_00191', 'f_00052', 'f_00021', 'f_00141', 'f_00192']\n",
      "Group 3, clients ['f_00010']\n",
      "Group 4, clients ['f_00156', 'f_00076', 'f_00116', 'f_00115', 'f_00085', 'f_00167']\n"
     ]
    },
    {
     "name": "stderr",
     "output_type": "stream",
     "text": [
      "Epoch:   0%|                                                                                     | 0/20 [00:00<?, ?it/s]"
     ]
    },
    {
     "name": "stdout",
     "output_type": "stream",
     "text": [
      "Group 0\n",
      "At round 152 accuracy: 0.8481675392670157\n",
      "At round 152 training accuracy: 0.8486068111455108\n",
      "At round 152 training loss: 0.4606390420105251\n",
      "Group 1\n",
      "At round 152 accuracy: 0.8515901060070671\n",
      "At round 152 training accuracy: 0.8437369082530373\n",
      "At round 152 training loss: 0.4296285573987717\n",
      "Group 2\n",
      "At round 152 accuracy: 0.8574181117533719\n",
      "At round 152 training accuracy: 0.8711615487316422\n",
      "At round 152 training loss: 0.31577498018973715\n",
      "Group 3\n",
      "At round 152 accuracy: 0.9785407725321889\n",
      "At round 152 training accuracy: 0.9657907783837383\n",
      "At round 152 training loss: 0.17318371445472489\n",
      "Group 4\n",
      "At round 152 accuracy: 0.7218934911242604\n",
      "At round 152 training accuracy: 0.742837176799441\n",
      "At round 152 training loss: 0.8733007988846722\n",
      "At round 152 mean test accuracy: 0.8336798336798337 mean train accuracy: 0.8408135923512575\n",
      "The groups difference are: [0.         5.5506318  5.2913105  5.76910605 4.94323115]\n",
      "Begin group  0 training\n"
     ]
    },
    {
     "name": "stderr",
     "output_type": "stream",
     "text": [
      "Epoch:   0%|                                                                                     | 0/20 [00:00<?, ?it/s]"
     ]
    },
    {
     "name": "stdout",
     "output_type": "stream",
     "text": [
      "Begin group  1 training\n",
      "Begin group  2 training\n"
     ]
    },
    {
     "name": "stderr",
     "output_type": "stream",
     "text": [
      "Epoch:  35%|██████████████████████████▉                                                  | 7/20 [00:00<00:00, 66.92it/s]"
     ]
    },
    {
     "name": "stdout",
     "output_type": "stream",
     "text": [
      "Begin group  3 training\n"
     ]
    },
    {
     "name": "stderr",
     "output_type": "stream",
     "text": [
      "Epoch:   0%|                                                                                     | 0/20 [00:00<?, ?it/s]"
     ]
    },
    {
     "name": "stdout",
     "output_type": "stream",
     "text": [
      "Begin group  4 training\n"
     ]
    },
    {
     "name": "stderr",
     "output_type": "stream",
     "text": [
      "                                                                                                                        \r"
     ]
    },
    {
     "name": "stdout",
     "output_type": "stream",
     "text": [
      "Group 0, clients ['f_00023', 'f_00074', 'f_00004']\n",
      "Group 1, clients ['f_00029', 'f_00048', 'f_00198', 'f_00039']\n",
      "Group 2, clients ['f_00071', 'f_00162', 'f_00101', 'f_00001']\n",
      "Group 3, clients ['f_00020', 'f_00060', 'f_00160']\n",
      "Group 4, clients ['f_00015', 'f_00016', 'f_00056', 'f_00127', 'f_00077', 'f_00125']\n"
     ]
    },
    {
     "name": "stderr",
     "output_type": "stream",
     "text": [
      "Epoch:  40%|██████████████████████████████▊                                              | 8/20 [00:00<00:00, 77.80it/s]"
     ]
    },
    {
     "name": "stdout",
     "output_type": "stream",
     "text": [
      "Group 0\n",
      "At round 153 accuracy: 0.8743455497382199\n",
      "At round 153 training accuracy: 0.8869969040247678\n",
      "At round 153 training loss: 0.2963333261132978\n",
      "Group 1\n",
      "At round 153 accuracy: 0.8833922261484098\n",
      "At round 153 training accuracy: 0.8797653958944281\n",
      "At round 153 training loss: 0.35468923531169916\n",
      "Group 2\n",
      "At round 153 accuracy: 0.8631984585741811\n",
      "At round 153 training accuracy: 0.8700489541611037\n",
      "At round 153 training loss: 0.32016161048696157\n",
      "Group 3\n",
      "At round 153 accuracy: 0.9785407725321889\n",
      "At round 153 training accuracy: 0.9687654933068914\n",
      "At round 153 training loss: 0.17271278287345487\n",
      "Group 4\n",
      "At round 153 accuracy: 0.7238658777120316\n",
      "At round 153 training accuracy: 0.7430701141392966\n",
      "At round 153 training loss: 0.8404755926398778\n",
      "At round 153 mean test accuracy: 0.8456340956340956 mean train accuracy: 0.8537238901406735\n",
      "The groups difference are: [0.         5.53148359 5.26785936 5.77138126 4.93379468]\n",
      "Begin group  0 training\n"
     ]
    },
    {
     "name": "stderr",
     "output_type": "stream",
     "text": [
      "Epoch:   0%|                                                                                     | 0/20 [00:00<?, ?it/s]"
     ]
    },
    {
     "name": "stdout",
     "output_type": "stream",
     "text": [
      "Begin group  1 training\n"
     ]
    },
    {
     "name": "stderr",
     "output_type": "stream",
     "text": [
      "Epoch:   0%|                                                                                     | 0/20 [00:00<?, ?it/s]"
     ]
    },
    {
     "name": "stdout",
     "output_type": "stream",
     "text": [
      "Begin group  2 training\n"
     ]
    },
    {
     "name": "stderr",
     "output_type": "stream",
     "text": [
      "Epoch:   0%|                                                                                     | 0/20 [00:00<?, ?it/s]"
     ]
    },
    {
     "name": "stdout",
     "output_type": "stream",
     "text": [
      "Begin group  3 training\n"
     ]
    },
    {
     "name": "stderr",
     "output_type": "stream",
     "text": [
      "Epoch:   0%|                                                                                     | 0/20 [00:00<?, ?it/s]"
     ]
    },
    {
     "name": "stdout",
     "output_type": "stream",
     "text": [
      "Begin group  4 training\n"
     ]
    },
    {
     "name": "stderr",
     "output_type": "stream",
     "text": [
      "                                                                                                                        \r"
     ]
    },
    {
     "name": "stdout",
     "output_type": "stream",
     "text": [
      "Group 0, clients ['f_00123', 'f_00163', 'f_00134', 'f_00013']\n",
      "Group 1, clients ['f_00058', 'f_00188', 'f_00097', 'f_00118']\n",
      "Group 2, clients ['f_00092', 'f_00101', 'f_00162']\n",
      "Group 3, clients ['f_00040']\n",
      "Group 4, clients ['f_00157', 'f_00155', 'f_00107', 'f_00095', 'f_00076', 'f_00077', 'f_00187', 'f_00065']\n"
     ]
    },
    {
     "name": "stderr",
     "output_type": "stream",
     "text": [
      "Epoch:  25%|███████████████████▎                                                         | 5/20 [00:00<00:00, 39.88it/s]"
     ]
    },
    {
     "name": "stdout",
     "output_type": "stream",
     "text": [
      "Group 0\n",
      "At round 154 accuracy: 0.8795811518324608\n",
      "At round 154 training accuracy: 0.9086687306501547\n",
      "At round 154 training loss: 0.24731244070242064\n",
      "Group 1\n",
      "At round 154 accuracy: 0.8621908127208481\n",
      "At round 154 training accuracy: 0.8374528697109342\n",
      "At round 154 training loss: 0.39782749549971497\n",
      "Group 2\n",
      "At round 154 accuracy: 0.8535645472061657\n",
      "At round 154 training accuracy: 0.8573653760569648\n",
      "At round 154 training loss: 0.4056180788657508\n",
      "Group 3\n",
      "At round 154 accuracy: 0.9313304721030042\n",
      "At round 154 training accuracy: 0.9424888448190382\n",
      "At round 154 training loss: 0.19372795409918658\n",
      "Group 4\n",
      "At round 154 accuracy: 0.7988165680473372\n",
      "At round 154 training accuracy: 0.8229676217097601\n",
      "At round 154 training loss: 0.5603570641857356\n",
      "At round 154 mean test accuracy: 0.854989604989605 mean train accuracy: 0.866025211619268\n",
      "The groups difference are: [0.         5.52487743 5.25593964 5.79280263 4.91829862]\n",
      "Begin group  0 training\n"
     ]
    },
    {
     "name": "stderr",
     "output_type": "stream",
     "text": [
      "Epoch:   0%|                                                                                     | 0/20 [00:00<?, ?it/s]"
     ]
    },
    {
     "name": "stdout",
     "output_type": "stream",
     "text": [
      "Begin group  1 training\n"
     ]
    },
    {
     "name": "stderr",
     "output_type": "stream",
     "text": [
      "Epoch:   0%|                                                                                     | 0/20 [00:00<?, ?it/s]"
     ]
    },
    {
     "name": "stdout",
     "output_type": "stream",
     "text": [
      "Begin group  2 training\n"
     ]
    },
    {
     "name": "stderr",
     "output_type": "stream",
     "text": [
      "Epoch:   0%|                                                                                     | 0/20 [00:00<?, ?it/s]"
     ]
    },
    {
     "name": "stdout",
     "output_type": "stream",
     "text": [
      "Begin group  3 training\n",
      "Begin group  4 training\n"
     ]
    },
    {
     "name": "stderr",
     "output_type": "stream",
     "text": [
      "                                                                                                                        \r"
     ]
    },
    {
     "name": "stdout",
     "output_type": "stream",
     "text": [
      "Group 0, clients ['f_00183', 'f_00083']\n",
      "Group 1, clients ['f_00199', 'f_00169', 'f_00048', 'f_00099']\n",
      "Group 2, clients ['f_00022']\n",
      "Group 3, clients ['f_00130', 'f_00060']\n",
      "Group 4, clients ['f_00077', 'f_00166', 'f_00125', 'f_00157', 'f_00045', 'f_00155', 'f_00065', 'f_00007', 'f_00127', 'f_00076', 'f_00035']\n"
     ]
    },
    {
     "name": "stderr",
     "output_type": "stream",
     "text": [
      "                                                                                                                        "
     ]
    },
    {
     "name": "stdout",
     "output_type": "stream",
     "text": [
      "Group 0\n",
      "At round 155 accuracy: 0.8429319371727748\n",
      "At round 155 training accuracy: 0.8421052631578947\n",
      "At round 155 training loss: 0.43898040630130947\n",
      "Group 1\n",
      "At round 155 accuracy: 0.7809187279151943\n",
      "At round 155 training accuracy: 0.7720988688730624\n",
      "At round 155 training loss: 0.7375098885254326\n",
      "Group 2\n",
      "At round 155 accuracy: 0.884393063583815\n",
      "At round 155 training accuracy: 0.8951935914552737\n",
      "At round 155 training loss: 0.26866594113121045\n",
      "Group 3\n",
      "At round 155 accuracy: 0.9356223175965666\n",
      "At round 155 training accuracy: 0.939514129895885\n",
      "At round 155 training loss: 0.18430924241975444\n",
      "Group 4\n",
      "At round 155 accuracy: 0.7534516765285996\n",
      "At round 155 training accuracy: 0.7675285348241323\n",
      "At round 155 training loss: 0.6360310556177434\n",
      "At round 155 mean test accuracy: 0.8326403326403327 mean train accuracy: 0.8389257657877108\n",
      "The groups difference are: [0.         5.54591617 5.23870088 5.78859145 4.94044753]\n",
      "Begin group  0 training\n",
      "Begin group  1 training\n"
     ]
    },
    {
     "name": "stderr",
     "output_type": "stream",
     "text": [
      "Epoch:   0%|                                                                                     | 0/20 [00:00<?, ?it/s]"
     ]
    },
    {
     "name": "stdout",
     "output_type": "stream",
     "text": [
      "Begin group  2 training\n",
      "Begin group  3 training\n"
     ]
    },
    {
     "name": "stderr",
     "output_type": "stream",
     "text": [
      "Epoch:   0%|                                                                                     | 0/20 [00:00<?, ?it/s]"
     ]
    },
    {
     "name": "stdout",
     "output_type": "stream",
     "text": [
      "Begin group  4 training\n"
     ]
    },
    {
     "name": "stderr",
     "output_type": "stream",
     "text": [
      "                                                                                                                        \r"
     ]
    },
    {
     "name": "stdout",
     "output_type": "stream",
     "text": [
      "Group 0, clients ['f_00144', 'f_00003']\n",
      "Group 1, clients ['f_00009', 'f_00099', 'f_00049', 'f_00149', 'f_00019', 'f_00068', 'f_00018']\n",
      "Group 2, clients ['f_00051', 'f_00161', 'f_00072', 'f_00141', 'f_00132']\n",
      "Group 3, clients ['f_00000', 'f_00030', 'f_00050']\n",
      "Group 4, clients ['f_00077', 'f_00185', 'f_00196']\n"
     ]
    },
    {
     "name": "stderr",
     "output_type": "stream",
     "text": [
      "Epoch:   0%|                                                                                     | 0/20 [00:00<?, ?it/s]"
     ]
    },
    {
     "name": "stdout",
     "output_type": "stream",
     "text": [
      "Group 0\n",
      "At round 156 accuracy: 0.8272251308900523\n",
      "At round 156 training accuracy: 0.8250773993808049\n",
      "At round 156 training loss: 0.5002400571786029\n",
      "Group 1\n",
      "At round 156 accuracy: 0.8197879858657244\n",
      "At round 156 training accuracy: 0.7997486384583159\n",
      "At round 156 training loss: 0.7029312795701514\n",
      "Group 2\n",
      "At round 156 accuracy: 0.8921001926782274\n",
      "At round 156 training accuracy: 0.8989764129951046\n",
      "At round 156 training loss: 0.2850655574081312\n",
      "Group 3\n",
      "At round 156 accuracy: 0.9699570815450643\n",
      "At round 156 training accuracy: 0.9643034209221616\n",
      "At round 156 training loss: 0.1739604849632447\n",
      "Group 4\n",
      "At round 156 accuracy: 0.7613412228796844\n",
      "At round 156 training accuracy: 0.7817377125553227\n",
      "At round 156 training loss: 0.5775280933755138\n",
      "At round 156 mean test accuracy: 0.8435550935550935 mean train accuracy: 0.8473905365081298\n",
      "The groups difference are: [0.         5.53789444 5.21150168 5.76680042 4.93178207]\n",
      "Begin group  0 training\n",
      "Begin group  1 training\n"
     ]
    },
    {
     "name": "stderr",
     "output_type": "stream",
     "text": [
      "Epoch:   0%|                                                                                     | 0/20 [00:00<?, ?it/s]"
     ]
    },
    {
     "name": "stdout",
     "output_type": "stream",
     "text": [
      "Begin group  2 training\n"
     ]
    },
    {
     "name": "stderr",
     "output_type": "stream",
     "text": [
      "Epoch:   0%|                                                                                     | 0/20 [00:00<?, ?it/s]"
     ]
    },
    {
     "name": "stdout",
     "output_type": "stream",
     "text": [
      "Begin group  3 training\n"
     ]
    },
    {
     "name": "stderr",
     "output_type": "stream",
     "text": [
      "Epoch:   0%|                                                                                     | 0/20 [00:00<?, ?it/s]"
     ]
    },
    {
     "name": "stdout",
     "output_type": "stream",
     "text": [
      "Begin group  4 training\n"
     ]
    },
    {
     "name": "stderr",
     "output_type": "stream",
     "text": [
      "                                                                                                                        \r"
     ]
    },
    {
     "name": "stdout",
     "output_type": "stream",
     "text": [
      "Group 0, clients ['f_00144', 'f_00123', 'f_00094', 'f_00103', 'f_00033']\n",
      "Group 1, clients ['f_00039', 'f_00178', 'f_00199']\n",
      "Group 2, clients ['f_00012', 'f_00052', 'f_00072', 'f_00151', 'f_00171']\n",
      "Group 3, clients ['f_00120', 'f_00040', 'f_00060']\n",
      "Group 4, clients ['f_00055', 'f_00155', 'f_00087', 'f_00127']\n"
     ]
    },
    {
     "name": "stderr",
     "output_type": "stream",
     "text": [
      "Epoch:   0%|                                                                                     | 0/20 [00:00<?, ?it/s]"
     ]
    },
    {
     "name": "stdout",
     "output_type": "stream",
     "text": [
      "Group 0\n",
      "At round 157 accuracy: 0.9319371727748691\n",
      "At round 157 training accuracy: 0.9396284829721362\n",
      "At round 157 training loss: 0.23472466693020458\n",
      "Group 1\n",
      "At round 157 accuracy: 0.8374558303886925\n",
      "At round 157 training accuracy: 0.8039379974863846\n",
      "At round 157 training loss: 0.4538759957822637\n",
      "Group 2\n",
      "At round 157 accuracy: 0.8766859344894027\n",
      "At round 157 training accuracy: 0.8914107699154428\n",
      "At round 157 training loss: 0.2808846553790076\n",
      "Group 3\n",
      "At round 157 accuracy: 0.9785407725321889\n",
      "At round 157 training accuracy: 0.9652949925632127\n",
      "At round 157 training loss: 0.17115736764938333\n",
      "Group 4\n",
      "At round 157 accuracy: 0.8224852071005917\n",
      "At round 157 training accuracy: 0.8409037968786397\n",
      "At round 157 training loss: 0.4897436986686243\n",
      "At round 157 mean test accuracy: 0.8799376299376299 mean train accuracy: 0.8840509104195847\n",
      "The groups difference are: [0.         5.52526761 5.19860425 5.74620238 4.90841336]\n",
      "Begin group  0 training\n"
     ]
    },
    {
     "name": "stderr",
     "output_type": "stream",
     "text": [
      "Epoch:   0%|                                                                                     | 0/20 [00:00<?, ?it/s]"
     ]
    },
    {
     "name": "stdout",
     "output_type": "stream",
     "text": [
      "Begin group  1 training\n"
     ]
    },
    {
     "name": "stderr",
     "output_type": "stream",
     "text": [
      "Epoch:  35%|██████████████████████████▉                                                  | 7/20 [00:00<00:00, 59.23it/s]"
     ]
    },
    {
     "name": "stdout",
     "output_type": "stream",
     "text": [
      "Begin group  2 training\n"
     ]
    },
    {
     "name": "stderr",
     "output_type": "stream",
     "text": [
      "Epoch:   0%|                                                                                     | 0/20 [00:00<?, ?it/s]"
     ]
    },
    {
     "name": "stdout",
     "output_type": "stream",
     "text": [
      "Begin group  3 training\n"
     ]
    },
    {
     "name": "stderr",
     "output_type": "stream",
     "text": [
      "Epoch:   0%|                                                                                     | 0/20 [00:00<?, ?it/s]"
     ]
    },
    {
     "name": "stdout",
     "output_type": "stream",
     "text": [
      "Begin group  4 training\n"
     ]
    },
    {
     "name": "stderr",
     "output_type": "stream",
     "text": [
      "                                                                                                                        \r"
     ]
    },
    {
     "name": "stdout",
     "output_type": "stream",
     "text": [
      "Group 0, clients ['f_00023', 'f_00003']\n",
      "Group 1, clients ['f_00149', 'f_00128', 'f_00019']\n",
      "Group 2, clients ['f_00102', 'f_00162', 'f_00052', 'f_00161', 'f_00172']\n",
      "Group 3, clients ['f_00190', 'f_00070']\n",
      "Group 4, clients ['f_00196', 'f_00185', 'f_00077', 'f_00176', 'f_00105', 'f_00126', 'f_00096', 'f_00015']\n"
     ]
    },
    {
     "name": "stderr",
     "output_type": "stream",
     "text": [
      "Epoch:  35%|██████████████████████████▉                                                  | 7/20 [00:00<00:00, 60.22it/s]"
     ]
    },
    {
     "name": "stdout",
     "output_type": "stream",
     "text": [
      "Group 0\n",
      "At round 158 accuracy: 0.8455497382198953\n",
      "At round 158 training accuracy: 0.8585139318885449\n",
      "At round 158 training loss: 0.3560559364341361\n",
      "Group 1\n",
      "At round 158 accuracy: 0.8197879858657244\n",
      "At round 158 training accuracy: 0.7997486384583159\n",
      "At round 158 training loss: 0.6907686978129098\n",
      "Group 2\n",
      "At round 158 accuracy: 0.8786127167630058\n",
      "At round 158 training accuracy: 0.8891855807743658\n",
      "At round 158 training loss: 0.3008238955317575\n",
      "Group 3\n",
      "At round 158 accuracy: 0.9742489270386266\n",
      "At round 158 training accuracy: 0.969261279127417\n",
      "At round 158 training loss: 0.17189113497290803\n",
      "Group 4\n",
      "At round 158 accuracy: 0.6410256410256411\n",
      "At round 158 training accuracy: 0.6515257395760541\n",
      "At round 158 training loss: 1.1123249484627447\n",
      "At round 158 mean test accuracy: 0.8123700623700624 mean train accuracy: 0.8178551854332866\n",
      "The groups difference are: [0.         5.53889764 5.18857704 5.7465652  4.96012542]\n",
      "Begin group  0 training\n"
     ]
    },
    {
     "name": "stderr",
     "output_type": "stream",
     "text": [
      "Epoch:   0%|                                                                                     | 0/20 [00:00<?, ?it/s]"
     ]
    },
    {
     "name": "stdout",
     "output_type": "stream",
     "text": [
      "Begin group  1 training\n"
     ]
    },
    {
     "name": "stderr",
     "output_type": "stream",
     "text": [
      "Epoch:  30%|███████████████████████                                                      | 6/20 [00:00<00:00, 51.82it/s]"
     ]
    },
    {
     "name": "stdout",
     "output_type": "stream",
     "text": [
      "Begin group  2 training\n"
     ]
    },
    {
     "name": "stderr",
     "output_type": "stream",
     "text": [
      "Epoch:   0%|                                                                                     | 0/20 [00:00<?, ?it/s]"
     ]
    },
    {
     "name": "stdout",
     "output_type": "stream",
     "text": [
      "Begin group  3 training\n"
     ]
    },
    {
     "name": "stderr",
     "output_type": "stream",
     "text": [
      "Epoch:   0%|                                                                                     | 0/20 [00:00<?, ?it/s]"
     ]
    },
    {
     "name": "stdout",
     "output_type": "stream",
     "text": [
      "Begin group  4 training\n"
     ]
    },
    {
     "name": "stderr",
     "output_type": "stream",
     "text": [
      "                                                                                                                        \r"
     ]
    },
    {
     "name": "stdout",
     "output_type": "stream",
     "text": [
      "Group 0, clients ['f_00004', 'f_00014', 'f_00184']\n",
      "Group 1, clients ['f_00097', 'f_00128', 'f_00038']\n",
      "Group 2, clients ['f_00061', 'f_00131', 'f_00162', 'f_00022', 'f_00151', 'f_00041', 'f_00012']\n",
      "Group 3, clients ['f_00100', 'f_00020']\n",
      "Group 4, clients ['f_00026', 'f_00165', 'f_00116', 'f_00176', 'f_00147']\n"
     ]
    },
    {
     "name": "stderr",
     "output_type": "stream",
     "text": [
      "Epoch:   0%|                                                                                     | 0/20 [00:00<?, ?it/s]"
     ]
    },
    {
     "name": "stdout",
     "output_type": "stream",
     "text": [
      "Group 0\n",
      "At round 159 accuracy: 0.819371727748691\n",
      "At round 159 training accuracy: 0.8250773993808049\n",
      "At round 159 training loss: 0.5486227993360338\n",
      "Group 1\n",
      "At round 159 accuracy: 0.823321554770318\n",
      "At round 159 training accuracy: 0.8135735232509426\n",
      "At round 159 training loss: 0.7369481193929424\n",
      "Group 2\n",
      "At round 159 accuracy: 0.8709055876685935\n",
      "At round 159 training accuracy: 0.8765020026702269\n",
      "At round 159 training loss: 0.3837769275732607\n",
      "Group 3\n",
      "At round 159 accuracy: 0.9656652360515021\n",
      "At round 159 training accuracy: 0.9623202776400595\n",
      "At round 159 training loss: 0.17358729478210047\n",
      "Group 4\n",
      "At round 159 accuracy: 0.7554240631163708\n",
      "At round 159 training accuracy: 0.7910552061495457\n",
      "At round 159 training loss: 0.5842636026704114\n",
      "At round 159 mean test accuracy: 0.8347193347193347 mean train accuracy: 0.845441812313501\n",
      "The groups difference are: [0.         5.53590001 5.16869828 5.75967865 4.94684628]\n",
      "Begin group  0 training\n"
     ]
    },
    {
     "name": "stderr",
     "output_type": "stream",
     "text": [
      "Epoch:   0%|                                                                                     | 0/20 [00:00<?, ?it/s]"
     ]
    },
    {
     "name": "stdout",
     "output_type": "stream",
     "text": [
      "Begin group  1 training\n",
      "Begin group  2 training\n"
     ]
    },
    {
     "name": "stderr",
     "output_type": "stream",
     "text": [
      "Epoch:   0%|                                                                                     | 0/20 [00:00<?, ?it/s]"
     ]
    },
    {
     "name": "stdout",
     "output_type": "stream",
     "text": [
      "Begin group  3 training\n"
     ]
    },
    {
     "name": "stderr",
     "output_type": "stream",
     "text": [
      "Epoch:   0%|                                                                                     | 0/20 [00:00<?, ?it/s]"
     ]
    },
    {
     "name": "stdout",
     "output_type": "stream",
     "text": [
      "Begin group  4 training\n"
     ]
    },
    {
     "name": "stderr",
     "output_type": "stream",
     "text": [
      "                                                                                                                        \r"
     ]
    },
    {
     "name": "stdout",
     "output_type": "stream",
     "text": [
      "Group 0, clients ['f_00064', 'f_00054', 'f_00184']\n",
      "Group 1, clients ['f_00149', 'f_00139', 'f_00148', 'f_00178', 'f_00198', 'f_00079', 'f_00058']\n",
      "Group 2, clients ['f_00142', 'f_00082', 'f_00081', 'f_00141', 'f_00021']\n",
      "Group 3, clients ['f_00000']\n",
      "Group 4, clients ['f_00196', 'f_00106', 'f_00115', 'f_00057']\n"
     ]
    },
    {
     "name": "stderr",
     "output_type": "stream",
     "text": [
      "Epoch:   0%|                                                                                     | 0/20 [00:00<?, ?it/s]"
     ]
    },
    {
     "name": "stdout",
     "output_type": "stream",
     "text": [
      "Group 0\n",
      "At round 160 accuracy: 0.856020942408377\n",
      "At round 160 training accuracy: 0.860061919504644\n",
      "At round 160 training loss: 0.377782139795668\n",
      "Group 1\n",
      "At round 160 accuracy: 0.8197879858657244\n",
      "At round 160 training accuracy: 0.8232090490155006\n",
      "At round 160 training loss: 0.4550472717555837\n",
      "Group 2\n",
      "At round 160 accuracy: 0.8747591522157996\n",
      "At round 160 training accuracy: 0.8845126835781041\n",
      "At round 160 training loss: 0.3003561777515734\n",
      "Group 3\n",
      "At round 160 accuracy: 0.9656652360515021\n",
      "At round 160 training accuracy: 0.9613287059990084\n",
      "At round 160 training loss: 0.1712086520642116\n",
      "Group 4\n",
      "At round 160 accuracy: 0.7613412228796844\n",
      "At round 160 training accuracy: 0.7945492662473794\n",
      "At round 160 training loss: 0.6527146907458626\n",
      "At round 160 mean test accuracy: 0.8440748440748441 mean train accuracy: 0.856707874063699\n",
      "The groups difference are: [0.         5.52497374 5.16724555 5.76150015 4.92557704]\n",
      "Begin group  0 training\n"
     ]
    },
    {
     "name": "stderr",
     "output_type": "stream",
     "text": [
      "Epoch:   0%|                                                                                     | 0/20 [00:00<?, ?it/s]"
     ]
    },
    {
     "name": "stdout",
     "output_type": "stream",
     "text": [
      "Begin group  1 training\n"
     ]
    },
    {
     "name": "stderr",
     "output_type": "stream",
     "text": [
      "Epoch:   0%|                                                                                     | 0/20 [00:00<?, ?it/s]"
     ]
    },
    {
     "name": "stdout",
     "output_type": "stream",
     "text": [
      "Begin group  2 training\n"
     ]
    },
    {
     "name": "stderr",
     "output_type": "stream",
     "text": [
      "Epoch:   0%|                                                                                     | 0/20 [00:00<?, ?it/s]"
     ]
    },
    {
     "name": "stdout",
     "output_type": "stream",
     "text": [
      "Begin group  3 training\n",
      "Begin group  4 training\n"
     ]
    },
    {
     "name": "stderr",
     "output_type": "stream",
     "text": [
      "                                                                                                                        \r"
     ]
    },
    {
     "name": "stdout",
     "output_type": "stream",
     "text": [
      "Group 0, clients ['f_00133', 'f_00193', 'f_00184', 'f_00124']\n",
      "Group 1, clients ['f_00097', 'f_00009', 'f_00098', 'f_00039', 'f_00068', 'f_00149']\n",
      "Group 2, clients ['f_00101']\n",
      "Group 3, clients ['f_00180', 'f_00040']\n",
      "Group 4, clients ['f_00055', 'f_00137', 'f_00175', 'f_00056', 'f_00117', 'f_00176', 'f_00075']\n"
     ]
    },
    {
     "name": "stderr",
     "output_type": "stream",
     "text": [
      "Epoch:  65%|████████████████████████████████████████████████▊                          | 13/20 [00:00<00:00, 127.64it/s]"
     ]
    },
    {
     "name": "stdout",
     "output_type": "stream",
     "text": [
      "Group 0\n",
      "At round 161 accuracy: 0.8455497382198953\n",
      "At round 161 training accuracy: 0.8393188854489164\n",
      "At round 161 training loss: 0.42977825320172974\n",
      "Group 1\n",
      "At round 161 accuracy: 0.8621908127208481\n",
      "At round 161 training accuracy: 0.8374528697109342\n",
      "At round 161 training loss: 0.3956377827470703\n",
      "Group 2\n",
      "At round 161 accuracy: 0.8863198458574181\n",
      "At round 161 training accuracy: 0.8896306186025812\n",
      "At round 161 training loss: 0.28160573458891736\n",
      "Group 3\n",
      "At round 161 accuracy: 0.9785407725321889\n",
      "At round 161 training accuracy: 0.9722359940505702\n",
      "At round 161 training loss: 0.171477543846711\n",
      "Group 4\n",
      "At round 161 accuracy: 0.7988165680473372\n",
      "At round 161 training accuracy: 0.8152806894945259\n",
      "At round 161 training loss: 0.6079802600280294\n",
      "At round 161 mean test accuracy: 0.8627858627858628 mean train accuracy: 0.8628585348029961\n",
      "The groups difference are: [0.         5.51542786 5.15197829 5.74603993 4.91041507]\n",
      "Begin group  0 training\n"
     ]
    },
    {
     "name": "stderr",
     "output_type": "stream",
     "text": [
      "Epoch:   0%|                                                                                     | 0/20 [00:00<?, ?it/s]"
     ]
    },
    {
     "name": "stdout",
     "output_type": "stream",
     "text": [
      "Begin group  1 training\n"
     ]
    },
    {
     "name": "stderr",
     "output_type": "stream",
     "text": [
      "Epoch:   0%|                                                                                     | 0/20 [00:00<?, ?it/s]"
     ]
    },
    {
     "name": "stdout",
     "output_type": "stream",
     "text": [
      "Begin group  2 training\n",
      "Begin group  3 training\n"
     ]
    },
    {
     "name": "stderr",
     "output_type": "stream",
     "text": [
      "                                                                                                                        "
     ]
    },
    {
     "name": "stdout",
     "output_type": "stream",
     "text": [
      "Begin group  4 training\n"
     ]
    },
    {
     "name": "stderr",
     "output_type": "stream",
     "text": [
      "                                                                                                                        \r"
     ]
    },
    {
     "name": "stdout",
     "output_type": "stream",
     "text": [
      "Group 0, clients ['f_00184', 'f_00064', 'f_00004']\n",
      "Group 1, clients ['f_00088', 'f_00018']\n",
      "Group 2, clients ['f_00112', 'f_00152', 'f_00172', 'f_00001', 'f_00121', 'f_00101', 'f_00182']\n",
      "Group 3, clients ['f_00050', 'f_00180', 'f_00010', 'f_00040', 'f_00060']\n",
      "Group 4, clients ['f_00025', 'f_00057', 'f_00136']\n"
     ]
    },
    {
     "name": "stderr",
     "output_type": "stream",
     "text": [
      "Epoch:   0%|                                                                                     | 0/20 [00:00<?, ?it/s]"
     ]
    },
    {
     "name": "stdout",
     "output_type": "stream",
     "text": [
      "Group 0\n",
      "At round 162 accuracy: 0.8429319371727748\n",
      "At round 162 training accuracy: 0.8374613003095975\n",
      "At round 162 training loss: 0.42691410332918167\n",
      "Group 1\n",
      "At round 162 accuracy: 0.8197879858657244\n",
      "At round 162 training accuracy: 0.8123167155425219\n",
      "At round 162 training loss: 0.5399727156634704\n",
      "Group 2\n",
      "At round 162 accuracy: 0.8246628131021194\n",
      "At round 162 training accuracy: 0.8190921228304406\n",
      "At round 162 training loss: 0.48740117878888944\n",
      "Group 3\n",
      "At round 162 accuracy: 0.9742489270386266\n",
      "At round 162 training accuracy: 0.9652949925632127\n",
      "At round 162 training loss: 0.16859867489154703\n",
      "Group 4\n",
      "At round 162 accuracy: 0.8757396449704142\n",
      "At round 162 training accuracy: 0.8812019566736548\n",
      "At round 162 training loss: 0.4446825558055455\n",
      "At round 162 mean test accuracy: 0.8591476091476091 mean train accuracy: 0.8559162048596309\n",
      "The groups difference are: [0.         5.52671772 5.1484246  5.75770584 4.90336976]\n",
      "Begin group  0 training\n"
     ]
    },
    {
     "name": "stderr",
     "output_type": "stream",
     "text": [
      "Epoch:   0%|                                                                                     | 0/20 [00:00<?, ?it/s]"
     ]
    },
    {
     "name": "stdout",
     "output_type": "stream",
     "text": [
      "Begin group  1 training\n",
      "Begin group  2 training\n"
     ]
    },
    {
     "name": "stderr",
     "output_type": "stream",
     "text": [
      "Epoch:  25%|███████████████████▎                                                         | 5/20 [00:00<00:00, 46.17it/s]"
     ]
    },
    {
     "name": "stdout",
     "output_type": "stream",
     "text": [
      "Begin group  3 training\n"
     ]
    },
    {
     "name": "stderr",
     "output_type": "stream",
     "text": [
      "Epoch:   0%|                                                                                     | 0/20 [00:00<?, ?it/s]"
     ]
    },
    {
     "name": "stdout",
     "output_type": "stream",
     "text": [
      "Begin group  4 training\n"
     ]
    },
    {
     "name": "stderr",
     "output_type": "stream",
     "text": [
      "                                                                                                                        \r"
     ]
    },
    {
     "name": "stdout",
     "output_type": "stream",
     "text": [
      "Group 0, clients ['f_00014', 'f_00024', 'f_00063']\n",
      "Group 1, clients ['f_00079', 'f_00058']\n",
      "Group 2, clients ['f_00031', 'f_00112', 'f_00092', 'f_00032', 'f_00052', 'f_00082']\n",
      "Group 3, clients ['f_00020', 'f_00150']\n",
      "Group 4, clients ['f_00007', 'f_00075', 'f_00166', 'f_00085', 'f_00186', 'f_00036', 'f_00157']\n"
     ]
    },
    {
     "name": "stderr",
     "output_type": "stream",
     "text": [
      "Epoch:  45%|██████████████████████████████████▋                                          | 9/20 [00:00<00:00, 89.01it/s]"
     ]
    },
    {
     "name": "stdout",
     "output_type": "stream",
     "text": [
      "Group 0\n",
      "At round 163 accuracy: 0.8429319371727748\n",
      "At round 163 training accuracy: 0.8309597523219814\n",
      "At round 163 training loss: 0.48047572957242235\n",
      "Group 1\n",
      "At round 163 accuracy: 0.8268551236749117\n",
      "At round 163 training accuracy: 0.8227901131126938\n",
      "At round 163 training loss: 0.5365127797999739\n",
      "Group 2\n",
      "At round 163 accuracy: 0.8497109826589595\n",
      "At round 163 training accuracy: 0.8560302625723186\n",
      "At round 163 training loss: 0.35518367854778005\n",
      "Group 3\n",
      "At round 163 accuracy: 0.9828326180257511\n",
      "At round 163 training accuracy: 0.9722359940505702\n",
      "At round 163 training loss: 0.16890676698961882\n",
      "Group 4\n",
      "At round 163 accuracy: 0.727810650887574\n",
      "At round 163 training accuracy: 0.757745166550198\n",
      "At round 163 training loss: 0.7168469186564189\n",
      "At round 163 mean test accuracy: 0.829002079002079 mean train accuracy: 0.8348456245052067\n",
      "The groups difference are: [0.         5.51346505 5.13778247 5.76045791 4.89546244]\n",
      "Begin group  0 training\n"
     ]
    },
    {
     "name": "stderr",
     "output_type": "stream",
     "text": [
      "Epoch:  50%|██████████████████████████████████████                                      | 10/20 [00:00<00:00, 91.26it/s]"
     ]
    },
    {
     "name": "stdout",
     "output_type": "stream",
     "text": [
      "Begin group  1 training\n"
     ]
    },
    {
     "name": "stderr",
     "output_type": "stream",
     "text": [
      "Epoch:   0%|                                                                                     | 0/20 [00:00<?, ?it/s]"
     ]
    },
    {
     "name": "stdout",
     "output_type": "stream",
     "text": [
      "Begin group  2 training\n"
     ]
    },
    {
     "name": "stderr",
     "output_type": "stream",
     "text": [
      "Epoch:   0%|                                                                                     | 0/20 [00:00<?, ?it/s]"
     ]
    },
    {
     "name": "stdout",
     "output_type": "stream",
     "text": [
      "Begin group  3 training\n"
     ]
    },
    {
     "name": "stderr",
     "output_type": "stream",
     "text": [
      "Epoch:  50%|██████████████████████████████████████                                      | 10/20 [00:00<00:00, 90.65it/s]"
     ]
    },
    {
     "name": "stdout",
     "output_type": "stream",
     "text": [
      "Begin group  4 training\n"
     ]
    },
    {
     "name": "stderr",
     "output_type": "stream",
     "text": [
      "                                                                                                                        \r"
     ]
    },
    {
     "name": "stdout",
     "output_type": "stream",
     "text": [
      "Group 0, clients ['f_00174', 'f_00154', 'f_00003', 'f_00194', 'f_00143', 'f_00044', 'f_00074', 'f_00123']\n",
      "Group 1, clients ['f_00058', 'f_00189', 'f_00028']\n",
      "Group 2, clients ['f_00182', 'f_00122']\n",
      "Group 3, clients ['f_00060']\n",
      "Group 4, clients ['f_00185', 'f_00176', 'f_00175', 'f_00036', 'f_00197', 'f_00145']\n"
     ]
    },
    {
     "name": "stderr",
     "output_type": "stream",
     "text": [
      "Epoch:  40%|██████████████████████████████▊                                              | 8/20 [00:00<00:00, 77.43it/s]"
     ]
    },
    {
     "name": "stdout",
     "output_type": "stream",
     "text": [
      "Group 0\n",
      "At round 164 accuracy: 0.8795811518324608\n",
      "At round 164 training accuracy: 0.8829721362229103\n",
      "At round 164 training loss: 0.31064650749689654\n",
      "Group 1\n",
      "At round 164 accuracy: 0.8162544169611308\n",
      "At round 164 training accuracy: 0.8068705488060327\n",
      "At round 164 training loss: 0.6375110184248641\n",
      "Group 2\n",
      "At round 164 accuracy: 0.8689788053949904\n",
      "At round 164 training accuracy: 0.8822874944370271\n",
      "At round 164 training loss: 0.3139241768265227\n",
      "Group 3\n",
      "At round 164 accuracy: 0.9785407725321889\n",
      "At round 164 training accuracy: 0.9682697074863659\n",
      "At round 164 training loss: 0.16829955370992378\n",
      "Group 4\n",
      "At round 164 accuracy: 0.8224852071005917\n",
      "At round 164 training accuracy: 0.8397391101793618\n",
      "At round 164 training loss: 0.5143905769388852\n",
      "At round 164 mean test accuracy: 0.8643451143451143 mean train accuracy: 0.8708970221058401\n",
      "The groups difference are: [0.         5.51286746 5.12071971 5.7495893  4.88504603]\n",
      "Begin group  0 training\n"
     ]
    },
    {
     "name": "stderr",
     "output_type": "stream",
     "text": [
      "Epoch:  40%|██████████████████████████████▊                                              | 8/20 [00:00<00:00, 73.94it/s]"
     ]
    },
    {
     "name": "stdout",
     "output_type": "stream",
     "text": [
      "Begin group  1 training\n"
     ]
    },
    {
     "name": "stderr",
     "output_type": "stream",
     "text": [
      "Epoch:  20%|███████████████▍                                                             | 4/20 [00:00<00:00, 38.88it/s]"
     ]
    },
    {
     "name": "stdout",
     "output_type": "stream",
     "text": [
      "Begin group  2 training\n"
     ]
    },
    {
     "name": "stderr",
     "output_type": "stream",
     "text": [
      "Epoch:  75%|████████████████████████████████████████████████████████▎                  | 15/20 [00:00<00:00, 147.25it/s]"
     ]
    },
    {
     "name": "stdout",
     "output_type": "stream",
     "text": [
      "Begin group  3 training\n",
      "Begin group  4 training\n"
     ]
    },
    {
     "name": "stderr",
     "output_type": "stream",
     "text": [
      "                                                                                                                        \r"
     ]
    },
    {
     "name": "stdout",
     "output_type": "stream",
     "text": [
      "Group 0, clients ['f_00094', 'f_00134', 'f_00083', 'f_00113']\n",
      "Group 1, clients ['f_00009', 'f_00058']\n",
      "Group 2, clients ['f_00092', 'f_00142', 'f_00062', 'f_00042', 'f_00132', 'f_00112']\n",
      "Group 3, clients ['f_00060', 'f_00130', 'f_00080']\n",
      "Group 4, clients ['f_00165', 'f_00125', 'f_00036', 'f_00156', 'f_00106']\n"
     ]
    },
    {
     "name": "stderr",
     "output_type": "stream",
     "text": [
      "Epoch:  45%|██████████████████████████████████▋                                          | 9/20 [00:00<00:00, 87.35it/s]"
     ]
    },
    {
     "name": "stdout",
     "output_type": "stream",
     "text": [
      "Group 0\n",
      "At round 165 accuracy: 0.8664921465968587\n",
      "At round 165 training accuracy: 0.8597523219814242\n",
      "At round 165 training loss: 0.35459779740856157\n",
      "Group 1\n",
      "At round 165 accuracy: 0.8197879858657244\n",
      "At round 165 training accuracy: 0.795978215333054\n",
      "At round 165 training loss: 0.6386310819194664\n",
      "Group 2\n",
      "At round 165 accuracy: 0.8728323699421965\n",
      "At round 165 training accuracy: 0.8731642189586115\n",
      "At round 165 training loss: 0.4027218098707023\n",
      "Group 3\n",
      "At round 165 accuracy: 0.9656652360515021\n",
      "At round 165 training accuracy: 0.969261279127417\n",
      "At round 165 training loss: 0.17311122350442745\n",
      "Group 4\n",
      "At round 165 accuracy: 0.8382642998027613\n",
      "At round 165 training accuracy: 0.8495224784532961\n",
      "At round 165 training loss: 0.4926160792912355\n",
      "At round 165 mean test accuracy: 0.8659043659043659 mean train accuracy: 0.8649290542597893\n",
      "The groups difference are: [0.         5.52206847 5.11177965 5.74485707 4.88457846]\n",
      "Begin group  0 training\n"
     ]
    },
    {
     "name": "stderr",
     "output_type": "stream",
     "text": [
      "Epoch:   0%|                                                                                     | 0/20 [00:00<?, ?it/s]"
     ]
    },
    {
     "name": "stdout",
     "output_type": "stream",
     "text": [
      "Begin group  1 training\n",
      "Begin group  2 training\n"
     ]
    },
    {
     "name": "stderr",
     "output_type": "stream",
     "text": [
      "Epoch:   0%|                                                                                     | 0/20 [00:00<?, ?it/s]"
     ]
    },
    {
     "name": "stdout",
     "output_type": "stream",
     "text": [
      "Begin group  3 training\n"
     ]
    },
    {
     "name": "stderr",
     "output_type": "stream",
     "text": [
      "Epoch:   0%|                                                                                     | 0/20 [00:00<?, ?it/s]"
     ]
    },
    {
     "name": "stdout",
     "output_type": "stream",
     "text": [
      "Begin group  4 training\n"
     ]
    },
    {
     "name": "stderr",
     "output_type": "stream",
     "text": [
      "                                                                                                                        \r"
     ]
    },
    {
     "name": "stdout",
     "output_type": "stream",
     "text": [
      "Group 0, clients ['f_00054', 'f_00114']\n",
      "Group 1, clients ['f_00159', 'f_00169', 'f_00018', 'f_00069', 'f_00098', 'f_00189']\n",
      "Group 2, clients ['f_00182', 'f_00181', 'f_00002', 'f_00121', 'f_00111']\n",
      "Group 3, clients ['f_00100', 'f_00170', 'f_00130']\n",
      "Group 4, clients ['f_00176', 'f_00087', 'f_00016', 'f_00066']\n"
     ]
    },
    {
     "name": "stderr",
     "output_type": "stream",
     "text": [
      "Epoch:   0%|                                                                                     | 0/20 [00:00<?, ?it/s]"
     ]
    },
    {
     "name": "stdout",
     "output_type": "stream",
     "text": [
      "Group 0\n",
      "At round 166 accuracy: 0.9031413612565445\n",
      "At round 166 training accuracy: 0.9018575851393189\n",
      "At round 166 training loss: 0.2805192006238658\n",
      "Group 1\n",
      "At round 166 accuracy: 0.833922261484099\n",
      "At round 166 training accuracy: 0.8198575617930457\n",
      "At round 166 training loss: 0.4972581211235616\n",
      "Group 2\n",
      "At round 166 accuracy: 0.8689788053949904\n",
      "At round 166 training accuracy: 0.8724966622162884\n",
      "At round 166 training loss: 0.5486201040304179\n",
      "Group 3\n",
      "At round 166 accuracy: 0.9742489270386266\n",
      "At round 166 training accuracy: 0.9657907783837383\n",
      "At round 166 training loss: 0.17119007315680598\n",
      "Group 4\n",
      "At round 166 accuracy: 0.7731755424063116\n",
      "At round 166 training accuracy: 0.797577451665502\n",
      "At round 166 training loss: 0.6455510763884035\n",
      "At round 166 mean test accuracy: 0.8581081081081081 mean train accuracy: 0.8624931490165033\n",
      "The groups difference are: [0.         5.50902397 5.20456624 5.74339528 4.86964596]\n",
      "Begin group  0 training\n",
      "Begin group  1 training\n"
     ]
    },
    {
     "name": "stderr",
     "output_type": "stream",
     "text": [
      "Epoch:   0%|                                                                                     | 0/20 [00:00<?, ?it/s]"
     ]
    },
    {
     "name": "stdout",
     "output_type": "stream",
     "text": [
      "Begin group  2 training\n"
     ]
    },
    {
     "name": "stderr",
     "output_type": "stream",
     "text": [
      "Epoch:  35%|██████████████████████████▉                                                  | 7/20 [00:00<00:00, 66.60it/s]"
     ]
    },
    {
     "name": "stdout",
     "output_type": "stream",
     "text": [
      "Begin group  3 training\n"
     ]
    },
    {
     "name": "stderr",
     "output_type": "stream",
     "text": [
      "Epoch:  20%|███████████████▍                                                             | 4/20 [00:00<00:00, 36.38it/s]"
     ]
    },
    {
     "name": "stdout",
     "output_type": "stream",
     "text": [
      "Begin group  4 training\n"
     ]
    },
    {
     "name": "stderr",
     "output_type": "stream",
     "text": [
      "                                                                                                                        \r"
     ]
    },
    {
     "name": "stdout",
     "output_type": "stream",
     "text": [
      "Group 0, clients ['f_00033', 'f_00073', 'f_00063']\n",
      "Group 1, clients ['f_00188', 'f_00198', 'f_00159', 'f_00199', 'f_00019']\n",
      "Group 2, clients ['f_00022', 'f_00041', 'f_00182']\n",
      "Group 3, clients ['f_00130']\n",
      "Group 4, clients ['f_00157', 'f_00095', 'f_00027', 'f_00096', 'f_00045', 'f_00145', 'f_00136', 'f_00037']\n"
     ]
    },
    {
     "name": "stderr",
     "output_type": "stream",
     "text": [
      "Epoch:  20%|███████████████▍                                                             | 4/20 [00:00<00:00, 33.61it/s]"
     ]
    },
    {
     "name": "stdout",
     "output_type": "stream",
     "text": [
      "Group 0\n",
      "At round 167 accuracy: 0.8429319371727748\n",
      "At round 167 training accuracy: 0.8476780185758513\n",
      "At round 167 training loss: 0.3861516411574817\n",
      "Group 1\n",
      "At round 167 accuracy: 0.7809187279151943\n",
      "At round 167 training accuracy: 0.7670716380393799\n",
      "At round 167 training loss: 0.5128580167184178\n",
      "Group 2\n",
      "At round 167 accuracy: 0.8073217726396917\n",
      "At round 167 training accuracy: 0.8075211392968402\n",
      "At round 167 training loss: 0.4784138216891976\n",
      "Group 3\n",
      "At round 167 accuracy: 0.9570815450643777\n",
      "At round 167 training accuracy: 0.954387704511651\n",
      "At round 167 training loss: 0.172402785458391\n",
      "Group 4\n",
      "At round 167 accuracy: 0.6587771203155819\n",
      "At round 167 training accuracy: 0.6848357791754018\n",
      "At round 167 training loss: 0.8934309906804586\n",
      "At round 167 mean test accuracy: 0.7895010395010394 mean train accuracy: 0.7955057548261373\n",
      "The groups difference are: [0.         5.50597782 5.19804688 5.73329164 4.89958921]\n",
      "Begin group  0 training\n"
     ]
    },
    {
     "name": "stderr",
     "output_type": "stream",
     "text": [
      "Epoch:   0%|                                                                                     | 0/20 [00:00<?, ?it/s]"
     ]
    },
    {
     "name": "stdout",
     "output_type": "stream",
     "text": [
      "Begin group  1 training\n"
     ]
    },
    {
     "name": "stderr",
     "output_type": "stream",
     "text": [
      "                                                                                                                        "
     ]
    },
    {
     "name": "stdout",
     "output_type": "stream",
     "text": [
      "Begin group  2 training\n",
      "Begin group  3 training\n"
     ]
    },
    {
     "name": "stderr",
     "output_type": "stream",
     "text": [
      "Epoch:   0%|                                                                                     | 0/20 [00:00<?, ?it/s]"
     ]
    },
    {
     "name": "stdout",
     "output_type": "stream",
     "text": [
      "Begin group  4 training\n"
     ]
    },
    {
     "name": "stderr",
     "output_type": "stream",
     "text": [
      "                                                                                                                        \r"
     ]
    },
    {
     "name": "stdout",
     "output_type": "stream",
     "text": [
      "Group 0, clients ['f_00093', 'f_00024', 'f_00104', 'f_00003', 'f_00114']\n",
      "Group 1, clients ['f_00068', 'f_00049', 'f_00098']\n",
      "Group 2, clients ['f_00091', 'f_00112', 'f_00122']\n",
      "Group 3, clients ['f_00190', 'f_00170', 'f_00100']\n",
      "Group 4, clients ['f_00175', 'f_00146', 'f_00125', 'f_00025', 'f_00155', 'f_00115']\n"
     ]
    },
    {
     "name": "stderr",
     "output_type": "stream",
     "text": [
      "Epoch:  35%|██████████████████████████▉                                                  | 7/20 [00:00<00:00, 62.46it/s]"
     ]
    },
    {
     "name": "stdout",
     "output_type": "stream",
     "text": [
      "Group 0\n",
      "At round 168 accuracy: 0.824607329842932\n",
      "At round 168 training accuracy: 0.8241486068111455\n",
      "At round 168 training loss: 0.5612657693344465\n",
      "Group 1\n",
      "At round 168 accuracy: 0.823321554770318\n",
      "At round 168 training accuracy: 0.8068705488060327\n",
      "At round 168 training loss: 0.6337519422248412\n",
      "Group 2\n",
      "At round 168 accuracy: 0.8863198458574181\n",
      "At round 168 training accuracy: 0.8956386292834891\n",
      "At round 168 training loss: 0.26855524304075457\n",
      "Group 3\n",
      "At round 168 accuracy: 0.944206008583691\n",
      "At round 168 training accuracy: 0.9380267724343084\n",
      "At round 168 training loss: 0.18784499353459996\n",
      "Group 4\n",
      "At round 168 accuracy: 0.7869822485207101\n",
      "At round 168 training accuracy: 0.790356394129979\n",
      "At round 168 training loss: 0.5778832828668123\n",
      "At round 168 mean test accuracy: 0.8456340956340956 mean train accuracy: 0.8463552767797333\n",
      "The groups difference are: [0.         5.52184523 5.17613606 5.73288575 4.91635269]\n",
      "Begin group  0 training\n"
     ]
    },
    {
     "name": "stderr",
     "output_type": "stream",
     "text": [
      "                                                                                                                        "
     ]
    },
    {
     "name": "stdout",
     "output_type": "stream",
     "text": [
      "Begin group  1 training\n"
     ]
    },
    {
     "name": "stderr",
     "output_type": "stream",
     "text": [
      "Epoch:  50%|██████████████████████████████████████                                      | 10/20 [00:00<00:00, 91.14it/s]"
     ]
    },
    {
     "name": "stdout",
     "output_type": "stream",
     "text": [
      "Begin group  2 training\n"
     ]
    },
    {
     "name": "stderr",
     "output_type": "stream",
     "text": [
      "Epoch:   0%|                                                                                     | 0/20 [00:00<?, ?it/s]"
     ]
    },
    {
     "name": "stdout",
     "output_type": "stream",
     "text": [
      "Begin group  3 training\n"
     ]
    },
    {
     "name": "stderr",
     "output_type": "stream",
     "text": [
      "Epoch:   0%|                                                                                     | 0/20 [00:00<?, ?it/s]"
     ]
    },
    {
     "name": "stdout",
     "output_type": "stream",
     "text": [
      "Begin group  4 training\n"
     ]
    },
    {
     "name": "stderr",
     "output_type": "stream",
     "text": [
      "                                                                                                                        \r"
     ]
    },
    {
     "name": "stdout",
     "output_type": "stream",
     "text": [
      "Group 0, clients ['f_00194', 'f_00114', 'f_00073']\n",
      "Group 1, clients ['f_00168', 'f_00119', 'f_00198', 'f_00098', 'f_00008', 'f_00018']\n",
      "Group 2, clients ['f_00041', 'f_00091', 'f_00051']\n",
      "Group 3, clients ['f_00160', 'f_00140', 'f_00110']\n",
      "Group 4, clients ['f_00177', 'f_00016', 'f_00015', 'f_00126', 'f_00007']\n"
     ]
    },
    {
     "name": "stderr",
     "output_type": "stream",
     "text": [
      "Epoch:  35%|██████████████████████████▉                                                  | 7/20 [00:00<00:00, 66.28it/s]"
     ]
    },
    {
     "name": "stdout",
     "output_type": "stream",
     "text": [
      "Group 0\n",
      "At round 169 accuracy: 0.8481675392670157\n",
      "At round 169 training accuracy: 0.8473684210526315\n",
      "At round 169 training loss: 0.3910792998277551\n",
      "Group 1\n",
      "At round 169 accuracy: 0.8127208480565371\n",
      "At round 169 training accuracy: 0.7980728948470884\n",
      "At round 169 training loss: 0.6465098579957688\n",
      "Group 2\n",
      "At round 169 accuracy: 0.8786127167630058\n",
      "At round 169 training accuracy: 0.8874054294615042\n",
      "At round 169 training loss: 0.2943976334713542\n",
      "Group 3\n",
      "At round 169 accuracy: 0.9656652360515021\n",
      "At round 169 training accuracy: 0.961824491819534\n",
      "At round 169 training loss: 0.17094760191251454\n",
      "Group 4\n",
      "At round 169 accuracy: 0.6923076923076923\n",
      "At round 169 training accuracy: 0.7083624505008153\n",
      "At round 169 training loss: 0.7831763107752205\n",
      "At round 169 mean test accuracy: 0.8243243243243243 mean train accuracy: 0.8288776566591559\n",
      "The groups difference are: [0.         5.53584835 5.16114202 5.73335905 4.89645991]\n",
      "Begin group  0 training\n"
     ]
    },
    {
     "name": "stderr",
     "output_type": "stream",
     "text": [
      "Epoch:  70%|████████████████████████████████████████████████████▌                      | 14/20 [00:00<00:00, 137.65it/s]"
     ]
    },
    {
     "name": "stdout",
     "output_type": "stream",
     "text": [
      "Begin group  1 training\n"
     ]
    },
    {
     "name": "stderr",
     "output_type": "stream",
     "text": [
      "Epoch:  40%|██████████████████████████████▊                                              | 8/20 [00:00<00:00, 72.68it/s]"
     ]
    },
    {
     "name": "stdout",
     "output_type": "stream",
     "text": [
      "Begin group  2 training\n"
     ]
    },
    {
     "name": "stderr",
     "output_type": "stream",
     "text": [
      "Epoch:  15%|███████████▌                                                                 | 3/20 [00:00<00:00, 28.58it/s]"
     ]
    },
    {
     "name": "stdout",
     "output_type": "stream",
     "text": [
      "Begin group  3 training\n"
     ]
    },
    {
     "name": "stderr",
     "output_type": "stream",
     "text": [
      "Epoch:  30%|███████████████████████                                                      | 6/20 [00:00<00:00, 57.06it/s]"
     ]
    },
    {
     "name": "stdout",
     "output_type": "stream",
     "text": [
      "Begin group  4 training\n"
     ]
    },
    {
     "name": "stderr",
     "output_type": "stream",
     "text": [
      "                                                                                                                        \r"
     ]
    },
    {
     "name": "stdout",
     "output_type": "stream",
     "text": [
      "Group 0, clients ['f_00173', 'f_00113', 'f_00123', 'f_00064', 'f_00164', 'f_00053']\n",
      "Group 1, clients ['f_00198', 'f_00118', 'f_00179']\n",
      "Group 2, clients ['f_00032', 'f_00091']\n",
      "Group 3, clients ['f_00140', 'f_00100']\n",
      "Group 4, clients ['f_00137', 'f_00005', 'f_00007', 'f_00105', 'f_00136', 'f_00035', 'f_00156']\n"
     ]
    },
    {
     "name": "stderr",
     "output_type": "stream",
     "text": [
      "Epoch:   0%|                                                                                     | 0/20 [00:00<?, ?it/s]"
     ]
    },
    {
     "name": "stdout",
     "output_type": "stream",
     "text": [
      "Group 0\n",
      "At round 170 accuracy: 0.8612565445026178\n",
      "At round 170 training accuracy: 0.8699690402476781\n",
      "At round 170 training loss: 0.31080437404775396\n",
      "Group 1\n",
      "At round 170 accuracy: 0.7879858657243817\n",
      "At round 170 training accuracy: 0.7846669459572685\n",
      "At round 170 training loss: 0.6300105226928837\n",
      "Group 2\n",
      "At round 170 accuracy: 0.7610789980732178\n",
      "At round 170 training accuracy: 0.7610146862483311\n",
      "At round 170 training loss: 0.7348057627536997\n",
      "Group 3\n",
      "At round 170 accuracy: 0.9828326180257511\n",
      "At round 170 training accuracy: 0.9712444224095191\n",
      "At round 170 training loss: 0.16964772570440542\n",
      "Group 4\n",
      "At round 170 accuracy: 0.7948717948717948\n",
      "At round 170 training accuracy: 0.8038667598416026\n",
      "At round 170 training loss: 0.4845079853627445\n",
      "At round 170 mean test accuracy: 0.8206860706860707 mean train accuracy: 0.8229096888131052\n",
      "The groups difference are: [0.         5.5556817  5.17228684 5.76701258 4.91782434]\n",
      "Begin group  0 training\n"
     ]
    },
    {
     "name": "stderr",
     "output_type": "stream",
     "text": [
      "Epoch:   0%|                                                                                     | 0/20 [00:00<?, ?it/s]"
     ]
    },
    {
     "name": "stdout",
     "output_type": "stream",
     "text": [
      "Begin group  1 training\n"
     ]
    },
    {
     "name": "stderr",
     "output_type": "stream",
     "text": [
      "Epoch:  45%|██████████████████████████████████▋                                          | 9/20 [00:00<00:00, 85.06it/s]"
     ]
    },
    {
     "name": "stdout",
     "output_type": "stream",
     "text": [
      "Begin group  2 training\n"
     ]
    },
    {
     "name": "stderr",
     "output_type": "stream",
     "text": [
      "Epoch:   0%|                                                                                     | 0/20 [00:00<?, ?it/s]"
     ]
    },
    {
     "name": "stdout",
     "output_type": "stream",
     "text": [
      "Begin group  3 training\n"
     ]
    },
    {
     "name": "stderr",
     "output_type": "stream",
     "text": [
      "Epoch:   0%|                                                                                     | 0/20 [00:00<?, ?it/s]"
     ]
    },
    {
     "name": "stdout",
     "output_type": "stream",
     "text": [
      "Begin group  4 training\n"
     ]
    },
    {
     "name": "stderr",
     "output_type": "stream",
     "text": [
      "                                                                                                                        \r"
     ]
    },
    {
     "name": "stdout",
     "output_type": "stream",
     "text": [
      "Group 0, clients ['f_00083', 'f_00164']\n",
      "Group 1, clients ['f_00019', 'f_00129']\n",
      "Group 2, clients ['f_00091', 'f_00102', 'f_00142', 'f_00151', 'f_00121', 'f_00161']\n",
      "Group 3, clients ['f_00030', 'f_00190']\n",
      "Group 4, clients ['f_00117', 'f_00127', 'f_00196', 'f_00116', 'f_00087', 'f_00096', 'f_00166', 'f_00176']\n"
     ]
    },
    {
     "name": "stderr",
     "output_type": "stream",
     "text": [
      "Epoch:   0%|                                                                                     | 0/20 [00:00<?, ?it/s]"
     ]
    },
    {
     "name": "stdout",
     "output_type": "stream",
     "text": [
      "Group 0\n",
      "At round 171 accuracy: 0.8507853403141361\n",
      "At round 171 training accuracy: 0.8591331269349846\n",
      "At round 171 training loss: 0.3498723771319301\n",
      "Group 1\n",
      "At round 171 accuracy: 0.8197879858657244\n",
      "At round 171 training accuracy: 0.7955592794302472\n",
      "At round 171 training loss: 0.647186697266019\n",
      "Group 2\n",
      "At round 171 accuracy: 0.7456647398843931\n",
      "At round 171 training accuracy: 0.7492211838006231\n",
      "At round 171 training loss: 0.7356503122342352\n",
      "Group 3\n",
      "At round 171 accuracy: 0.9785407725321889\n",
      "At round 171 training accuracy: 0.9657907783837383\n",
      "At round 171 training loss: 0.16592540692059665\n",
      "Group 4\n",
      "At round 171 accuracy: 0.7455621301775148\n",
      "At round 171 training accuracy: 0.7780107151176333\n",
      "At round 171 training loss: 0.6516119736823174\n",
      "At round 171 mean test accuracy: 0.8056133056133056 mean train accuracy: 0.8117045246939893\n",
      "The groups difference are: [0.         5.58685979 5.18970038 5.78964568 4.92878446]\n",
      "Begin group  0 training\n"
     ]
    },
    {
     "name": "stderr",
     "output_type": "stream",
     "text": [
      "Epoch:   0%|                                                                                     | 0/20 [00:00<?, ?it/s]"
     ]
    },
    {
     "name": "stdout",
     "output_type": "stream",
     "text": [
      "Begin group  1 training\n"
     ]
    },
    {
     "name": "stderr",
     "output_type": "stream",
     "text": [
      "Epoch:  45%|██████████████████████████████████▋                                          | 9/20 [00:00<00:00, 83.69it/s]"
     ]
    },
    {
     "name": "stdout",
     "output_type": "stream",
     "text": [
      "Begin group  2 training\n"
     ]
    },
    {
     "name": "stderr",
     "output_type": "stream",
     "text": [
      "Epoch:  70%|████████████████████████████████████████████████████▌                      | 14/20 [00:00<00:00, 132.59it/s]"
     ]
    },
    {
     "name": "stdout",
     "output_type": "stream",
     "text": [
      "Begin group  3 training\n"
     ]
    },
    {
     "name": "stderr",
     "output_type": "stream",
     "text": [
      "Epoch:   0%|                                                                                     | 0/20 [00:00<?, ?it/s]"
     ]
    },
    {
     "name": "stdout",
     "output_type": "stream",
     "text": [
      "Begin group  4 training\n"
     ]
    },
    {
     "name": "stderr",
     "output_type": "stream",
     "text": [
      "                                                                                                                        \r"
     ]
    },
    {
     "name": "stdout",
     "output_type": "stream",
     "text": [
      "Group 0, clients ['f_00173', 'f_00133', 'f_00044', 'f_00043', 'f_00134', 'f_00024', 'f_00113']\n",
      "Group 1, clients ['f_00069', 'f_00049', 'f_00129', 'f_00098', 'f_00139']\n",
      "Group 2, clients ['f_00102', 'f_00031', 'f_00032']\n",
      "Group 3, clients ['f_00150']\n",
      "Group 4, clients ['f_00096', 'f_00146', 'f_00065', 'f_00046']\n"
     ]
    },
    {
     "name": "stderr",
     "output_type": "stream",
     "text": [
      "Epoch:   0%|                                                                                     | 0/20 [00:00<?, ?it/s]"
     ]
    },
    {
     "name": "stdout",
     "output_type": "stream",
     "text": [
      "Group 0\n",
      "At round 172 accuracy: 0.8586387434554974\n",
      "At round 172 training accuracy: 0.8402476780185758\n",
      "At round 172 training loss: 0.5170731352371144\n",
      "Group 1\n",
      "At round 172 accuracy: 0.8127208480565371\n",
      "At round 172 training accuracy: 0.8072894847088395\n",
      "At round 172 training loss: 0.6731797244086094\n",
      "Group 2\n",
      "At round 172 accuracy: 0.8304431599229287\n",
      "At round 172 training accuracy: 0.8360035603026257\n",
      "At round 172 training loss: 0.4474067681870648\n",
      "Group 3\n",
      "At round 172 accuracy: 0.9699570815450643\n",
      "At round 172 training accuracy: 0.962816063460585\n",
      "At round 172 training loss: 0.16635031698582842\n",
      "Group 4\n",
      "At round 172 accuracy: 0.6804733727810651\n",
      "At round 172 training accuracy: 0.7018402049848591\n",
      "At round 172 training loss: 0.7991752988762326\n",
      "At round 172 mean test accuracy: 0.8108108108108109 mean train accuracy: 0.813166067839961\n",
      "The groups difference are: [0.         5.61223912 5.23152206 5.81264398 4.96870799]\n",
      "Begin group  0 training\n"
     ]
    },
    {
     "name": "stderr",
     "output_type": "stream",
     "text": [
      "Epoch:   0%|                                                                                     | 0/20 [00:00<?, ?it/s]"
     ]
    },
    {
     "name": "stdout",
     "output_type": "stream",
     "text": [
      "Begin group  1 training\n"
     ]
    },
    {
     "name": "stderr",
     "output_type": "stream",
     "text": [
      "Epoch:  30%|███████████████████████                                                      | 6/20 [00:00<00:00, 51.84it/s]"
     ]
    },
    {
     "name": "stdout",
     "output_type": "stream",
     "text": [
      "Begin group  2 training\n"
     ]
    },
    {
     "name": "stderr",
     "output_type": "stream",
     "text": [
      "Epoch:  65%|████████████████████████████████████████████████▊                          | 13/20 [00:00<00:00, 127.17it/s]"
     ]
    },
    {
     "name": "stdout",
     "output_type": "stream",
     "text": [
      "Begin group  3 training\n",
      "Begin group  4 training\n"
     ]
    },
    {
     "name": "stderr",
     "output_type": "stream",
     "text": [
      "                                                                                                                        \r"
     ]
    },
    {
     "name": "stdout",
     "output_type": "stream",
     "text": [
      "Group 0, clients ['f_00174', 'f_00183', 'f_00044', 'f_00043', 'f_00063', 'f_00024']\n",
      "Group 1, clients ['f_00008', 'f_00009', 'f_00198']\n",
      "Group 2, clients ['f_00101', 'f_00111', 'f_00001', 'f_00012']\n",
      "Group 3, clients ['f_00110', 'f_00070', 'f_00050']\n",
      "Group 4, clients ['f_00006', 'f_00056', 'f_00156', 'f_00125']\n"
     ]
    },
    {
     "name": "stderr",
     "output_type": "stream",
     "text": [
      "Epoch:   0%|                                                                                     | 0/20 [00:00<?, ?it/s]"
     ]
    },
    {
     "name": "stdout",
     "output_type": "stream",
     "text": [
      "Group 0\n",
      "At round 173 accuracy: 0.9031413612565445\n",
      "At round 173 training accuracy: 0.908359133126935\n",
      "At round 173 training loss: 0.26170806280876463\n",
      "Group 1\n",
      "At round 173 accuracy: 0.8127208480565371\n",
      "At round 173 training accuracy: 0.8018433179723502\n",
      "At round 173 training loss: 0.4678631529530372\n",
      "Group 2\n",
      "At round 173 accuracy: 0.8728323699421965\n",
      "At round 173 training accuracy: 0.8773920783266578\n",
      "At round 173 training loss: 0.33488742898425156\n",
      "Group 3\n",
      "At round 173 accuracy: 0.9785407725321889\n",
      "At round 173 training accuracy: 0.9657907783837383\n",
      "At round 173 training loss: 0.16604105330335073\n",
      "Group 4\n",
      "At round 173 accuracy: 0.7258382642998028\n",
      "At round 173 training accuracy: 0.7537852317726531\n",
      "At round 173 training loss: 0.7302161832647032\n",
      "At round 173 mean test accuracy: 0.8440748440748441 mean train accuracy: 0.8510443943730589\n",
      "The groups difference are: [0.         5.61147787 5.20266353 5.79052149 4.94767344]\n",
      "Begin group  0 training\n"
     ]
    },
    {
     "name": "stderr",
     "output_type": "stream",
     "text": [
      "Epoch:   0%|                                                                                     | 0/20 [00:00<?, ?it/s]"
     ]
    },
    {
     "name": "stdout",
     "output_type": "stream",
     "text": [
      "Begin group  1 training\n"
     ]
    },
    {
     "name": "stderr",
     "output_type": "stream",
     "text": [
      "Epoch:   0%|                                                                                     | 0/20 [00:00<?, ?it/s]"
     ]
    },
    {
     "name": "stdout",
     "output_type": "stream",
     "text": [
      "Begin group  2 training\n"
     ]
    },
    {
     "name": "stderr",
     "output_type": "stream",
     "text": [
      "Epoch:   0%|                                                                                     | 0/20 [00:00<?, ?it/s]"
     ]
    },
    {
     "name": "stdout",
     "output_type": "stream",
     "text": [
      "Begin group  3 training\n"
     ]
    },
    {
     "name": "stderr",
     "output_type": "stream",
     "text": [
      "Epoch:   0%|                                                                                     | 0/20 [00:00<?, ?it/s]"
     ]
    },
    {
     "name": "stdout",
     "output_type": "stream",
     "text": [
      "Begin group  4 training\n"
     ]
    },
    {
     "name": "stderr",
     "output_type": "stream",
     "text": [
      "                                                                                                                        \r"
     ]
    },
    {
     "name": "stdout",
     "output_type": "stream",
     "text": [
      "Group 0, clients ['f_00123', 'f_00103', 'f_00053', 'f_00134']\n",
      "Group 1, clients ['f_00129', 'f_00079', 'f_00059']\n",
      "Group 2, clients ['f_00021', 'f_00011', 'f_00042', 'f_00101', 'f_00112', 'f_00102']\n",
      "Group 3, clients ['f_00180', 'f_00070', 'f_00030', 'f_00120']\n",
      "Group 4, clients ['f_00035', 'f_00096', 'f_00147']\n"
     ]
    },
    {
     "name": "stderr",
     "output_type": "stream",
     "text": [
      "Epoch:  20%|███████████████▍                                                             | 4/20 [00:00<00:00, 32.64it/s]"
     ]
    },
    {
     "name": "stdout",
     "output_type": "stream",
     "text": [
      "Group 0\n",
      "At round 174 accuracy: 0.9057591623036649\n",
      "At round 174 training accuracy: 0.9356037151702786\n",
      "At round 174 training loss: 0.22778164532393125\n",
      "Group 1\n",
      "At round 174 accuracy: 0.8551236749116607\n",
      "At round 174 training accuracy: 0.8508588186007541\n",
      "At round 174 training loss: 0.37454967238836123\n",
      "Group 2\n",
      "At round 174 accuracy: 0.8631984585741811\n",
      "At round 174 training accuracy: 0.8638184245660881\n",
      "At round 174 training loss: 0.3711048653345136\n",
      "Group 3\n",
      "At round 174 accuracy: 0.9742489270386266\n",
      "At round 174 training accuracy: 0.9657907783837383\n",
      "At round 174 training loss: 0.16545263942318147\n",
      "Group 4\n",
      "At round 174 accuracy: 0.7455621301775148\n",
      "At round 174 training accuracy: 0.7735849056603774\n",
      "At round 174 training loss: 0.7351775058958876\n",
      "At round 174 mean test accuracy: 0.8529106029106029 mean train accuracy: 0.8649899518908715\n",
      "The groups difference are: [0.         5.59487925 5.18474513 5.79106694 4.93595724]\n",
      "Begin group  0 training\n"
     ]
    },
    {
     "name": "stderr",
     "output_type": "stream",
     "text": [
      "Epoch:   0%|                                                                                     | 0/20 [00:00<?, ?it/s]"
     ]
    },
    {
     "name": "stdout",
     "output_type": "stream",
     "text": [
      "Begin group  1 training\n"
     ]
    },
    {
     "name": "stderr",
     "output_type": "stream",
     "text": [
      "Epoch:   0%|                                                                                     | 0/20 [00:00<?, ?it/s]"
     ]
    },
    {
     "name": "stdout",
     "output_type": "stream",
     "text": [
      "Begin group  2 training\n"
     ]
    },
    {
     "name": "stderr",
     "output_type": "stream",
     "text": [
      "Epoch:  30%|███████████████████████                                                      | 6/20 [00:00<00:00, 55.68it/s]"
     ]
    },
    {
     "name": "stdout",
     "output_type": "stream",
     "text": [
      "Begin group  3 training\n"
     ]
    },
    {
     "name": "stderr",
     "output_type": "stream",
     "text": [
      "Epoch:   0%|                                                                                     | 0/20 [00:00<?, ?it/s]"
     ]
    },
    {
     "name": "stdout",
     "output_type": "stream",
     "text": [
      "Begin group  4 training\n"
     ]
    },
    {
     "name": "stderr",
     "output_type": "stream",
     "text": [
      "                                                                                                                        \r"
     ]
    },
    {
     "name": "stdout",
     "output_type": "stream",
     "text": [
      "Group 0, clients ['f_00044']\n",
      "Group 1, clients ['f_00139', 'f_00178', 'f_00198', 'f_00029']\n",
      "Group 2, clients ['f_00002', 'f_00182', 'f_00152']\n",
      "Group 3, clients ['f_00170', 'f_00070', 'f_00030']\n",
      "Group 4, clients ['f_00126', 'f_00087', 'f_00186', 'f_00167', 'f_00045', 'f_00016', 'f_00017', 'f_00127', 'f_00115']\n"
     ]
    },
    {
     "name": "stderr",
     "output_type": "stream",
     "text": [
      "Epoch:   0%|                                                                                     | 0/20 [00:00<?, ?it/s]"
     ]
    },
    {
     "name": "stdout",
     "output_type": "stream",
     "text": [
      "Group 0\n",
      "At round 175 accuracy: 0.8324607329842932\n",
      "At round 175 training accuracy: 0.8291021671826625\n",
      "At round 175 training loss: 0.5296573229779954\n",
      "Group 1\n",
      "At round 175 accuracy: 0.823321554770318\n",
      "At round 175 training accuracy: 0.8139924591537495\n",
      "At round 175 training loss: 0.7199695395422022\n",
      "Group 2\n",
      "At round 175 accuracy: 0.8863198458574181\n",
      "At round 175 training accuracy: 0.8900756564307967\n",
      "At round 175 training loss: 0.2788350401246447\n",
      "Group 3\n",
      "At round 175 accuracy: 0.9742489270386266\n",
      "At round 175 training accuracy: 0.969261279127417\n",
      "At round 175 training loss: 0.16506840894068003\n",
      "Group 4\n",
      "At round 175 accuracy: 0.7495069033530573\n",
      "At round 175 training accuracy: 0.7791754018169113\n",
      "At round 175 training loss: 0.7324436976828832\n",
      "At round 175 mean test accuracy: 0.840956340956341 mean train accuracy: 0.8477559222946227\n",
      "The groups difference are: [0.         5.6125372  5.17623428 5.81778782 4.95351353]\n",
      "Begin group  0 training\n",
      "Begin group  1 training\n"
     ]
    },
    {
     "name": "stderr",
     "output_type": "stream",
     "text": [
      "Epoch:  35%|██████████████████████████▉                                                  | 7/20 [00:00<00:00, 65.71it/s]"
     ]
    },
    {
     "name": "stdout",
     "output_type": "stream",
     "text": [
      "Begin group  2 training\n"
     ]
    },
    {
     "name": "stderr",
     "output_type": "stream",
     "text": [
      "Epoch:   0%|                                                                                     | 0/20 [00:00<?, ?it/s]"
     ]
    },
    {
     "name": "stdout",
     "output_type": "stream",
     "text": [
      "Begin group  3 training\n"
     ]
    },
    {
     "name": "stderr",
     "output_type": "stream",
     "text": [
      "Epoch:  20%|███████████████▍                                                             | 4/20 [00:00<00:00, 33.53it/s]"
     ]
    },
    {
     "name": "stdout",
     "output_type": "stream",
     "text": [
      "Begin group  4 training\n"
     ]
    },
    {
     "name": "stderr",
     "output_type": "stream",
     "text": [
      "                                                                                                                        \r"
     ]
    },
    {
     "name": "stdout",
     "output_type": "stream",
     "text": [
      "Group 0, clients ['f_00094']\n",
      "Group 1, clients ['f_00118', 'f_00188', 'f_00029', 'f_00039', 'f_00198', 'f_00028', 'f_00097']\n",
      "Group 2, clients ['f_00171', 'f_00072', 'f_00162', 'f_00132', 'f_00071', 'f_00032']\n",
      "Group 3, clients ['f_00180', 'f_00160']\n",
      "Group 4, clients ['f_00197', 'f_00056', 'f_00185', 'f_00087']\n"
     ]
    },
    {
     "name": "stderr",
     "output_type": "stream",
     "text": [
      "Epoch:  45%|██████████████████████████████████▋                                          | 9/20 [00:00<00:00, 85.99it/s]"
     ]
    },
    {
     "name": "stdout",
     "output_type": "stream",
     "text": [
      "Group 0\n",
      "At round 176 accuracy: 0.8900523560209425\n",
      "At round 176 training accuracy: 0.8888544891640867\n",
      "At round 176 training loss: 0.3262310775925316\n",
      "Group 1\n",
      "At round 176 accuracy: 0.8551236749116607\n",
      "At round 176 training accuracy: 0.8244658567239213\n",
      "At round 176 training loss: 0.41304572976604387\n",
      "Group 2\n",
      "At round 176 accuracy: 0.8747591522157996\n",
      "At round 176 training accuracy: 0.8798397863818425\n",
      "At round 176 training loss: 0.36332173141827834\n",
      "Group 3\n",
      "At round 176 accuracy: 0.9742489270386266\n",
      "At round 176 training accuracy: 0.9657907783837383\n",
      "At round 176 training loss: 0.16345793553284033\n",
      "Group 4\n",
      "At round 176 accuracy: 0.7080867850098619\n",
      "At round 176 training accuracy: 0.7200093174935942\n",
      "At round 176 training loss: 0.7036262942851631\n",
      "At round 176 mean test accuracy: 0.843035343035343 mean train accuracy: 0.8423360331283113\n",
      "The groups difference are: [0.         5.59843109 5.1721469  5.81938358 4.96037988]\n",
      "Begin group  0 training\n"
     ]
    },
    {
     "name": "stderr",
     "output_type": "stream",
     "text": [
      "Epoch:  25%|███████████████████▎                                                         | 5/20 [00:00<00:00, 43.60it/s]"
     ]
    },
    {
     "name": "stdout",
     "output_type": "stream",
     "text": [
      "Begin group  1 training\n"
     ]
    },
    {
     "name": "stderr",
     "output_type": "stream",
     "text": [
      "Epoch:   0%|                                                                                     | 0/20 [00:00<?, ?it/s]"
     ]
    },
    {
     "name": "stdout",
     "output_type": "stream",
     "text": [
      "Begin group  2 training\n"
     ]
    },
    {
     "name": "stderr",
     "output_type": "stream",
     "text": [
      "Epoch:  25%|███████████████████▎                                                         | 5/20 [00:00<00:00, 46.66it/s]"
     ]
    },
    {
     "name": "stdout",
     "output_type": "stream",
     "text": [
      "Begin group  3 training\n"
     ]
    },
    {
     "name": "stderr",
     "output_type": "stream",
     "text": [
      "Epoch:   0%|                                                                                     | 0/20 [00:00<?, ?it/s]"
     ]
    },
    {
     "name": "stdout",
     "output_type": "stream",
     "text": [
      "Begin group  4 training\n"
     ]
    },
    {
     "name": "stderr",
     "output_type": "stream",
     "text": [
      "                                                                                                                        \r"
     ]
    },
    {
     "name": "stdout",
     "output_type": "stream",
     "text": [
      "Group 0, clients ['f_00003', 'f_00033', 'f_00194', 'f_00154', 'f_00144', 'f_00173', 'f_00014']\n",
      "Group 1, clients ['f_00089', 'f_00069', 'f_00189', 'f_00018']\n",
      "Group 2, clients ['f_00111']\n",
      "Group 3, clients ['f_00100']\n",
      "Group 4, clients ['f_00165', 'f_00037', 'f_00055', 'f_00105', 'f_00126', 'f_00017', 'f_00175']\n"
     ]
    },
    {
     "name": "stderr",
     "output_type": "stream",
     "text": [
      "Epoch:  35%|██████████████████████████▉                                                  | 7/20 [00:00<00:00, 65.18it/s]"
     ]
    },
    {
     "name": "stdout",
     "output_type": "stream",
     "text": [
      "Group 0\n",
      "At round 177 accuracy: 0.8507853403141361\n",
      "At round 177 training accuracy: 0.843343653250774\n",
      "At round 177 training loss: 0.45655912576537383\n",
      "Group 1\n",
      "At round 177 accuracy: 0.833922261484099\n",
      "At round 177 training accuracy: 0.8294930875576036\n",
      "At round 177 training loss: 0.5256430615952288\n",
      "Group 2\n",
      "At round 177 accuracy: 0.8651252408477842\n",
      "At round 177 training accuracy: 0.8862928348909658\n",
      "At round 177 training loss: 0.306747537257144\n",
      "Group 3\n",
      "At round 177 accuracy: 0.9656652360515021\n",
      "At round 177 training accuracy: 0.9578582052553297\n",
      "At round 177 training loss: 0.16725484968472898\n",
      "Group 4\n",
      "At round 177 accuracy: 0.6429980276134122\n",
      "At round 177 training accuracy: 0.6522245515956208\n",
      "At round 177 training loss: 0.9628951254908421\n",
      "At round 177 mean test accuracy: 0.8113305613305614 mean train accuracy: 0.817185311491383\n",
      "The groups difference are: [0.         5.60274459 5.16396231 5.84174736 4.98124264]\n",
      "Begin group  0 training\n"
     ]
    },
    {
     "name": "stderr",
     "output_type": "stream",
     "text": [
      "Epoch:  65%|████████████████████████████████████████████████▊                          | 13/20 [00:00<00:00, 122.20it/s]"
     ]
    },
    {
     "name": "stdout",
     "output_type": "stream",
     "text": [
      "Begin group  1 training\n"
     ]
    },
    {
     "name": "stderr",
     "output_type": "stream",
     "text": [
      "Epoch:  50%|██████████████████████████████████████                                      | 10/20 [00:00<00:00, 99.19it/s]"
     ]
    },
    {
     "name": "stdout",
     "output_type": "stream",
     "text": [
      "Begin group  2 training\n",
      "Begin group  3 training\n"
     ]
    },
    {
     "name": "stderr",
     "output_type": "stream",
     "text": [
      "Epoch:   0%|                                                                                     | 0/20 [00:00<?, ?it/s]"
     ]
    },
    {
     "name": "stdout",
     "output_type": "stream",
     "text": [
      "Begin group  4 training\n"
     ]
    },
    {
     "name": "stderr",
     "output_type": "stream",
     "text": [
      "                                                                                                                        \r"
     ]
    },
    {
     "name": "stdout",
     "output_type": "stream",
     "text": [
      "Group 0, clients ['f_00053', 'f_00103']\n",
      "Group 1, clients ['f_00069', 'f_00138', 'f_00188', 'f_00099', 'f_00038', 'f_00097']\n",
      "Group 2, clients ['f_00022', 'f_00001', 'f_00071', 'f_00122']\n",
      "Group 3 is empty.\n",
      "Group 4, clients ['f_00087', 'f_00166', 'f_00137', 'f_00115', 'f_00195', 'f_00126', 'f_00157', 'f_00045']\n"
     ]
    },
    {
     "name": "stderr",
     "output_type": "stream",
     "text": [
      "Epoch:  20%|███████████████▍                                                             | 4/20 [00:00<00:00, 29.83it/s]"
     ]
    },
    {
     "name": "stdout",
     "output_type": "stream",
     "text": [
      "Group 0\n",
      "At round 178 accuracy: 0.8507853403141361\n",
      "At round 178 training accuracy: 0.8430340557275542\n",
      "At round 178 training loss: 0.44304685563125845\n",
      "Group 1\n",
      "At round 178 accuracy: 0.823321554770318\n",
      "At round 178 training accuracy: 0.8102220360284876\n",
      "At round 178 training loss: 0.6058753161879579\n",
      "Group 2\n",
      "At round 178 accuracy: 0.7842003853564548\n",
      "At round 178 training accuracy: 0.7879394748553628\n",
      "At round 178 training loss: 0.5796864282366337\n",
      "Group 3\n",
      "At round 178 accuracy: 0.9570815450643777\n",
      "At round 178 training accuracy: 0.9533961328705999\n",
      "At round 178 training loss: 0.17171212504066094\n",
      "Group 4\n",
      "At round 178 accuracy: 0.8323471400394478\n",
      "At round 178 training accuracy: 0.8443978569764733\n",
      "At round 178 training loss: 0.4475279284917528\n",
      "At round 178 mean test accuracy: 0.8367983367983368 mean train accuracy: 0.8370988368552463\n",
      "The groups difference are: [0.         5.60370566 5.1621535  5.84653494 4.9641609 ]\n",
      "Begin group  0 training\n"
     ]
    },
    {
     "name": "stderr",
     "output_type": "stream",
     "text": [
      "Epoch:   0%|                                                                                     | 0/20 [00:00<?, ?it/s]"
     ]
    },
    {
     "name": "stdout",
     "output_type": "stream",
     "text": [
      "Begin group  1 training\n"
     ]
    },
    {
     "name": "stderr",
     "output_type": "stream",
     "text": [
      "Epoch:   0%|                                                                                     | 0/20 [00:00<?, ?it/s]"
     ]
    },
    {
     "name": "stdout",
     "output_type": "stream",
     "text": [
      "Begin group  2 training\n"
     ]
    },
    {
     "name": "stderr",
     "output_type": "stream",
     "text": [
      "Epoch:  20%|███████████████▍                                                             | 4/20 [00:00<00:00, 34.40it/s]"
     ]
    },
    {
     "name": "stdout",
     "output_type": "stream",
     "text": [
      "Begin group  4 training\n"
     ]
    },
    {
     "name": "stderr",
     "output_type": "stream",
     "text": [
      "                                                                                                                        \r"
     ]
    },
    {
     "name": "stdout",
     "output_type": "stream",
     "text": [
      "Group 0, clients ['f_00034', 'f_00134', 'f_00154', 'f_00064', 'f_00083', 'f_00024']\n",
      "Group 1, clients ['f_00008', 'f_00109', 'f_00098']\n",
      "Group 2, clients ['f_00031', 'f_00141', 'f_00192', 'f_00122']\n",
      "Group 3, clients ['f_00150']\n",
      "Group 4, clients ['f_00065', 'f_00187', 'f_00067', 'f_00185', 'f_00007', 'f_00177']\n"
     ]
    },
    {
     "name": "stderr",
     "output_type": "stream",
     "text": [
      "Epoch:   0%|                                                                                     | 0/20 [00:00<?, ?it/s]"
     ]
    },
    {
     "name": "stdout",
     "output_type": "stream",
     "text": [
      "Group 0\n",
      "At round 179 accuracy: 0.8219895287958116\n",
      "At round 179 training accuracy: 0.8222910216718267\n",
      "At round 179 training loss: 0.6415516073616573\n",
      "Group 1\n",
      "At round 179 accuracy: 0.8586572438162544\n",
      "At round 179 training accuracy: 0.8303309593632174\n",
      "At round 179 training loss: 0.39541617936053236\n",
      "Group 2\n",
      "At round 179 accuracy: 0.8709055876685935\n",
      "At round 179 training accuracy: 0.8802848242100578\n",
      "At round 179 training loss: 0.3024437734795031\n",
      "Group 3\n",
      "At round 179 accuracy: 0.9570815450643777\n",
      "At round 179 training accuracy: 0.9533961328705999\n",
      "At round 179 training loss: 0.1721052287103046\n",
      "Group 4\n",
      "At round 179 accuracy: 0.717948717948718\n",
      "At round 179 training accuracy: 0.7214069415327277\n",
      "At round 179 training loss: 0.6975626501827675\n",
      "At round 179 mean test accuracy: 0.8295218295218295 mean train accuracy: 0.8290603495524024\n",
      "The groups difference are: [0.         5.61937791 5.14597321 5.85088435 5.01404757]\n",
      "Begin group  0 training\n"
     ]
    },
    {
     "name": "stderr",
     "output_type": "stream",
     "text": [
      "Epoch:   0%|                                                                                     | 0/20 [00:00<?, ?it/s]"
     ]
    },
    {
     "name": "stdout",
     "output_type": "stream",
     "text": [
      "Begin group  1 training\n"
     ]
    },
    {
     "name": "stderr",
     "output_type": "stream",
     "text": [
      "Epoch:   0%|                                                                                     | 0/20 [00:00<?, ?it/s]"
     ]
    },
    {
     "name": "stdout",
     "output_type": "stream",
     "text": [
      "Begin group  2 training\n"
     ]
    },
    {
     "name": "stderr",
     "output_type": "stream",
     "text": [
      "Epoch:  70%|████████████████████████████████████████████████████▌                      | 14/20 [00:00<00:00, 139.69it/s]"
     ]
    },
    {
     "name": "stdout",
     "output_type": "stream",
     "text": [
      "Begin group  3 training\n",
      "Begin group  4 training\n"
     ]
    },
    {
     "name": "stderr",
     "output_type": "stream",
     "text": [
      "                                                                                                                        \r"
     ]
    },
    {
     "name": "stdout",
     "output_type": "stream",
     "text": [
      "Group 0, clients ['f_00103', 'f_00014', 'f_00173']\n",
      "Group 1 is empty.\n",
      "Group 2, clients ['f_00001', 'f_00041', 'f_00132', 'f_00141', 'f_00061', 'f_00102', 'f_00161', 'f_00072']\n",
      "Group 3, clients ['f_00020']\n",
      "Group 4, clients ['f_00057', 'f_00106', 'f_00195', 'f_00165', 'f_00015', 'f_00187', 'f_00017', 'f_00116']\n"
     ]
    },
    {
     "name": "stderr",
     "output_type": "stream",
     "text": [
      "Epoch:   0%|                                                                                     | 0/20 [00:00<?, ?it/s]"
     ]
    },
    {
     "name": "stdout",
     "output_type": "stream",
     "text": [
      "Group 0\n",
      "At round 180 accuracy: 0.8979057591623036\n",
      "At round 180 training accuracy: 0.8947368421052632\n",
      "At round 180 training loss: 0.3004582768807839\n",
      "Group 1\n",
      "At round 180 accuracy: 0.7915194346289752\n",
      "At round 180 training accuracy: 0.7620444072056975\n",
      "At round 180 training loss: 0.6795989784751919\n",
      "Group 2\n",
      "At round 180 accuracy: 0.8631984585741811\n",
      "At round 180 training accuracy: 0.8684913217623498\n",
      "At round 180 training loss: 0.33074438911798426\n",
      "Group 3\n",
      "At round 180 accuracy: 0.9828326180257511\n",
      "At round 180 training accuracy: 0.9712444224095191\n",
      "At round 180 training loss: 0.1664583839598007\n",
      "Group 4\n",
      "At round 180 accuracy: 0.6489151873767258\n",
      "At round 180 training accuracy: 0.6685301653855112\n",
      "At round 180 training loss: 0.8777731822631366\n",
      "At round 180 mean test accuracy: 0.8175675675675675 mean train accuracy: 0.8185250593751903\n",
      "The groups difference are: [0.         5.63212536 5.1409687  5.83288837 5.02474863]\n",
      "Begin group  0 training\n"
     ]
    },
    {
     "name": "stderr",
     "output_type": "stream",
     "text": [
      "Epoch:   0%|                                                                                     | 0/20 [00:00<?, ?it/s]"
     ]
    },
    {
     "name": "stdout",
     "output_type": "stream",
     "text": [
      "Begin group  2 training\n"
     ]
    },
    {
     "name": "stderr",
     "output_type": "stream",
     "text": [
      "Epoch:   0%|                                                                                     | 0/20 [00:00<?, ?it/s]"
     ]
    },
    {
     "name": "stdout",
     "output_type": "stream",
     "text": [
      "Begin group  3 training\n",
      "Begin group  4 training\n"
     ]
    },
    {
     "name": "stderr",
     "output_type": "stream",
     "text": [
      "                                                                                                                        \r"
     ]
    },
    {
     "name": "stdout",
     "output_type": "stream",
     "text": [
      "Group 0, clients ['f_00073', 'f_00064', 'f_00114', 'f_00024', 'f_00013', 'f_00084', 'f_00083', 'f_00104', 'f_00154', 'f_00004']\n",
      "Group 1, clients ['f_00189']\n",
      "Group 2, clients ['f_00052', 'f_00142', 'f_00002']\n",
      "Group 3 is empty.\n",
      "Group 4, clients ['f_00195', 'f_00137', 'f_00176', 'f_00116', 'f_00166', 'f_00066']\n"
     ]
    },
    {
     "name": "stderr",
     "output_type": "stream",
     "text": [
      "Epoch:  20%|███████████████▍                                                             | 4/20 [00:00<00:00, 34.28it/s]"
     ]
    },
    {
     "name": "stdout",
     "output_type": "stream",
     "text": [
      "Group 0\n",
      "At round 181 accuracy: 0.9162303664921466\n",
      "At round 181 training accuracy: 0.9226006191950464\n",
      "At round 181 training loss: 0.23952833657663303\n",
      "Group 1\n",
      "At round 181 accuracy: 0.7915194346289752\n",
      "At round 181 training accuracy: 0.7620444072056975\n",
      "At round 181 training loss: 0.6762325290323652\n",
      "Group 2\n",
      "At round 181 accuracy: 0.8631984585741811\n",
      "At round 181 training accuracy: 0.8684913217623498\n",
      "At round 181 training loss: 0.32123781870312834\n",
      "Group 3\n",
      "At round 181 accuracy: 0.9742489270386266\n",
      "At round 181 training accuracy: 0.9652949925632127\n",
      "At round 181 training loss: 0.16264688488452458\n",
      "Group 4\n",
      "At round 181 accuracy: 0.8264299802761341\n",
      "At round 181 training accuracy: 0.8446307943163289\n",
      "At round 181 training loss: 0.5157638768629264\n",
      "At round 181 mean test accuracy: 0.8669438669438669 mean train accuracy: 0.8693136836977041\n",
      "The groups difference are: [0.         5.61301613 5.12721721 5.82267926 4.99714347]\n",
      "Begin group  0 training\n"
     ]
    },
    {
     "name": "stderr",
     "output_type": "stream",
     "text": [
      "Epoch:  45%|██████████████████████████████████▋                                          | 9/20 [00:00<00:00, 82.23it/s]"
     ]
    },
    {
     "name": "stdout",
     "output_type": "stream",
     "text": [
      "Begin group  1 training\n"
     ]
    },
    {
     "name": "stderr",
     "output_type": "stream",
     "text": [
      "Epoch:  30%|███████████████████████                                                      | 6/20 [00:00<00:00, 57.00it/s]"
     ]
    },
    {
     "name": "stdout",
     "output_type": "stream",
     "text": [
      "Begin group  2 training\n"
     ]
    },
    {
     "name": "stderr",
     "output_type": "stream",
     "text": [
      "Epoch:   0%|                                                                                     | 0/20 [00:00<?, ?it/s]"
     ]
    },
    {
     "name": "stdout",
     "output_type": "stream",
     "text": [
      "Begin group  4 training\n"
     ]
    },
    {
     "name": "stderr",
     "output_type": "stream",
     "text": [
      "                                                                                                                        \r"
     ]
    },
    {
     "name": "stdout",
     "output_type": "stream",
     "text": [
      "Group 0, clients ['f_00164', 'f_00104', 'f_00134', 'f_00194']\n",
      "Group 1, clients ['f_00149', 'f_00048', 'f_00159', 'f_00138']\n",
      "Group 2, clients ['f_00041', 'f_00011', 'f_00192', 'f_00171', 'f_00181']\n",
      "Group 3, clients ['f_00070', 'f_00120']\n",
      "Group 4, clients ['f_00045', 'f_00176', 'f_00146', 'f_00155', 'f_00166']\n"
     ]
    },
    {
     "name": "stderr",
     "output_type": "stream",
     "text": [
      "Epoch:  15%|███████████▌                                                                 | 3/20 [00:00<00:00, 23.06it/s]"
     ]
    },
    {
     "name": "stdout",
     "output_type": "stream",
     "text": [
      "Group 0\n",
      "At round 182 accuracy: 0.8979057591623036\n",
      "At round 182 training accuracy: 0.9210526315789473\n",
      "At round 182 training loss: 0.24664299686903554\n",
      "Group 1\n",
      "At round 182 accuracy: 0.8197879858657244\n",
      "At round 182 training accuracy: 0.8127356514453289\n",
      "At round 182 training loss: 0.7654716088387773\n",
      "Group 2\n",
      "At round 182 accuracy: 0.8689788053949904\n",
      "At round 182 training accuracy: 0.87427681352915\n",
      "At round 182 training loss: 0.3745466719982913\n",
      "Group 3\n",
      "At round 182 accuracy: 0.9742489270386266\n",
      "At round 182 training accuracy: 0.9652949925632127\n",
      "At round 182 training loss: 0.16307815600576292\n",
      "Group 4\n",
      "At round 182 accuracy: 0.7652859960552268\n",
      "At round 182 training accuracy: 0.7803400885161892\n",
      "At round 182 training loss: 0.6050099879919775\n",
      "At round 182 mean test accuracy: 0.8529106029106029 mean train accuracy: 0.8611534011326959\n",
      "The groups difference are: [0.         5.62023709 5.11896578 5.80785131 5.00528665]\n",
      "Begin group  0 training\n"
     ]
    },
    {
     "name": "stderr",
     "output_type": "stream",
     "text": [
      "Epoch:   0%|                                                                                     | 0/20 [00:00<?, ?it/s]"
     ]
    },
    {
     "name": "stdout",
     "output_type": "stream",
     "text": [
      "Begin group  1 training\n"
     ]
    },
    {
     "name": "stderr",
     "output_type": "stream",
     "text": [
      "Epoch:   0%|                                                                                     | 0/20 [00:00<?, ?it/s]"
     ]
    },
    {
     "name": "stdout",
     "output_type": "stream",
     "text": [
      "Begin group  2 training\n"
     ]
    },
    {
     "name": "stderr",
     "output_type": "stream",
     "text": [
      "Epoch:  30%|███████████████████████                                                      | 6/20 [00:00<00:00, 52.24it/s]"
     ]
    },
    {
     "name": "stdout",
     "output_type": "stream",
     "text": [
      "Begin group  3 training\n"
     ]
    },
    {
     "name": "stderr",
     "output_type": "stream",
     "text": [
      "                                                                                                                        "
     ]
    },
    {
     "name": "stdout",
     "output_type": "stream",
     "text": [
      "Begin group  4 training\n"
     ]
    },
    {
     "name": "stderr",
     "output_type": "stream",
     "text": [
      "                                                                                                                        \r"
     ]
    },
    {
     "name": "stdout",
     "output_type": "stream",
     "text": [
      "Group 0, clients ['f_00154', 'f_00124']\n",
      "Group 1, clients ['f_00158', 'f_00049', 'f_00059', 'f_00089', 'f_00058', 'f_00069', 'f_00198', 'f_00139', 'f_00108']\n",
      "Group 2 is empty.\n",
      "Group 3, clients ['f_00100', 'f_00000', 'f_00130', 'f_00020', 'f_00170']\n",
      "Group 4, clients ['f_00076', 'f_00055', 'f_00036', 'f_00126']\n"
     ]
    },
    {
     "name": "stderr",
     "output_type": "stream",
     "text": [
      "Epoch:  35%|██████████████████████████▉                                                  | 7/20 [00:00<00:00, 61.11it/s]"
     ]
    },
    {
     "name": "stdout",
     "output_type": "stream",
     "text": [
      "Group 0\n",
      "At round 183 accuracy: 0.8481675392670157\n",
      "At round 183 training accuracy: 0.8325077399380805\n",
      "At round 183 training loss: 0.4917692649267591\n",
      "Group 1\n",
      "At round 183 accuracy: 0.8303886925795053\n",
      "At round 183 training accuracy: 0.8135735232509426\n",
      "At round 183 training loss: 0.5098797887045567\n",
      "Group 2\n",
      "At round 183 accuracy: 0.8477842003853564\n",
      "At round 183 training accuracy: 0.8506898086337339\n",
      "At round 183 training loss: 0.42914282916587065\n",
      "Group 3\n",
      "At round 183 accuracy: 0.9484978540772532\n",
      "At round 183 training accuracy: 0.9444719881011403\n",
      "At round 183 training loss: 0.18159606965257793\n",
      "Group 4\n",
      "At round 183 accuracy: 0.7830374753451677\n",
      "At round 183 training accuracy: 0.8131842534358258\n",
      "At round 183 training loss: 0.5717485280663657\n",
      "At round 183 mean test accuracy: 0.8404365904365905 mean train accuracy: 0.8434321904877901\n",
      "The groups difference are: [0.         5.63340555 5.14906646 5.83624496 4.99456536]\n",
      "Begin group  0 training\n"
     ]
    },
    {
     "name": "stderr",
     "output_type": "stream",
     "text": [
      "Epoch:   0%|                                                                                     | 0/20 [00:00<?, ?it/s]"
     ]
    },
    {
     "name": "stdout",
     "output_type": "stream",
     "text": [
      "Begin group  1 training\n"
     ]
    },
    {
     "name": "stderr",
     "output_type": "stream",
     "text": [
      "Epoch:  30%|███████████████████████                                                      | 6/20 [00:00<00:00, 59.56it/s]"
     ]
    },
    {
     "name": "stdout",
     "output_type": "stream",
     "text": [
      "Begin group  3 training\n"
     ]
    },
    {
     "name": "stderr",
     "output_type": "stream",
     "text": [
      "Epoch:  20%|███████████████▍                                                             | 4/20 [00:00<00:00, 39.03it/s]"
     ]
    },
    {
     "name": "stdout",
     "output_type": "stream",
     "text": [
      "Begin group  4 training\n"
     ]
    },
    {
     "name": "stderr",
     "output_type": "stream",
     "text": [
      "                                                                                                                        \r"
     ]
    },
    {
     "name": "stdout",
     "output_type": "stream",
     "text": [
      "Group 0, clients ['f_00014', 'f_00063', 'f_00194', 'f_00104']\n",
      "Group 1, clients ['f_00078', 'f_00138', 'f_00139', 'f_00198', 'f_00039', 'f_00188', 'f_00079', 'f_00097']\n",
      "Group 2, clients ['f_00181']\n",
      "Group 3, clients ['f_00000']\n",
      "Group 4, clients ['f_00165', 'f_00126', 'f_00066', 'f_00036', 'f_00186', 'f_00105']\n"
     ]
    },
    {
     "name": "stderr",
     "output_type": "stream",
     "text": [
      "Epoch:  40%|██████████████████████████████▊                                              | 8/20 [00:00<00:00, 71.82it/s]"
     ]
    },
    {
     "name": "stdout",
     "output_type": "stream",
     "text": [
      "Group 0\n",
      "At round 184 accuracy: 0.8481675392670157\n",
      "At round 184 training accuracy: 0.8272445820433436\n",
      "At round 184 training loss: 0.5833867296899435\n",
      "Group 1\n",
      "At round 184 accuracy: 0.8586572438162544\n",
      "At round 184 training accuracy: 0.8353581901968998\n",
      "At round 184 training loss: 0.38188009675097456\n",
      "Group 2\n",
      "At round 184 accuracy: 0.8477842003853564\n",
      "At round 184 training accuracy: 0.8506898086337339\n",
      "At round 184 training loss: 0.42867375147401704\n",
      "Group 3\n",
      "At round 184 accuracy: 0.9742489270386266\n",
      "At round 184 training accuracy: 0.9657907783837383\n",
      "At round 184 training loss: 0.1617177809206755\n",
      "Group 4\n",
      "At round 184 accuracy: 0.7238658777120316\n",
      "At round 184 training accuracy: 0.747262986256697\n",
      "At round 184 training loss: 1.0380299203575087\n",
      "At round 184 mean test accuracy: 0.8321205821205822 mean train accuracy: 0.8309481761159491\n",
      "The groups difference are: [0.         5.63389543 5.13941201 5.83707508 5.00664396]\n",
      "Begin group  0 training\n"
     ]
    },
    {
     "name": "stderr",
     "output_type": "stream",
     "text": [
      "                                                                                                                        "
     ]
    },
    {
     "name": "stdout",
     "output_type": "stream",
     "text": [
      "Begin group  1 training\n"
     ]
    },
    {
     "name": "stderr",
     "output_type": "stream",
     "text": [
      "Epoch:   0%|                                                                                     | 0/20 [00:00<?, ?it/s]"
     ]
    },
    {
     "name": "stdout",
     "output_type": "stream",
     "text": [
      "Begin group  2 training\n",
      "Begin group  3 training\n"
     ]
    },
    {
     "name": "stderr",
     "output_type": "stream",
     "text": [
      "Epoch:   0%|                                                                                     | 0/20 [00:00<?, ?it/s]"
     ]
    },
    {
     "name": "stdout",
     "output_type": "stream",
     "text": [
      "Begin group  4 training\n"
     ]
    },
    {
     "name": "stderr",
     "output_type": "stream",
     "text": [
      "                                                                                                                        \r"
     ]
    },
    {
     "name": "stdout",
     "output_type": "stream",
     "text": [
      "Group 0, clients ['f_00034', 'f_00024', 'f_00124']\n",
      "Group 1, clients ['f_00039', 'f_00198', 'f_00179', 'f_00069']\n",
      "Group 2, clients ['f_00141', 'f_00191', 'f_00122', 'f_00081', 'f_00101']\n",
      "Group 3, clients ['f_00070', 'f_00050']\n",
      "Group 4, clients ['f_00175', 'f_00036', 'f_00016', 'f_00015', 'f_00145', 'f_00095']\n"
     ]
    },
    {
     "name": "stderr",
     "output_type": "stream",
     "text": [
      "Epoch:   0%|                                                                                     | 0/20 [00:00<?, ?it/s]"
     ]
    },
    {
     "name": "stdout",
     "output_type": "stream",
     "text": [
      "Group 0\n",
      "At round 185 accuracy: 0.8429319371727748\n",
      "At round 185 training accuracy: 0.8417956656346749\n",
      "At round 185 training loss: 0.44808303363644303\n",
      "Group 1\n",
      "At round 185 accuracy: 0.8621908127208481\n",
      "At round 185 training accuracy: 0.8294930875576036\n",
      "At round 185 training loss: 0.39013240986730346\n",
      "Group 2\n",
      "At round 185 accuracy: 0.766859344894027\n",
      "At round 185 training accuracy: 0.7630173564753004\n",
      "At round 185 training loss: 0.6641218692576575\n",
      "Group 3\n",
      "At round 185 accuracy: 0.9828326180257511\n",
      "At round 185 training accuracy: 0.9672781358453149\n",
      "At round 185 training loss: 0.1650268617919547\n",
      "Group 4\n",
      "At round 185 accuracy: 0.7238658777120316\n",
      "At round 185 training accuracy: 0.7493594223153972\n",
      "At round 185 training loss: 0.8662374850502248\n",
      "At round 185 mean test accuracy: 0.8108108108108109 mean train accuracy: 0.8096949028682784\n",
      "The groups difference are: [0.         5.62854008 5.13320104 5.82742682 4.99616121]\n",
      "Begin group  0 training\n"
     ]
    },
    {
     "name": "stderr",
     "output_type": "stream",
     "text": [
      "Epoch:   0%|                                                                                     | 0/20 [00:00<?, ?it/s]"
     ]
    },
    {
     "name": "stdout",
     "output_type": "stream",
     "text": [
      "Begin group  1 training\n"
     ]
    },
    {
     "name": "stderr",
     "output_type": "stream",
     "text": [
      "Epoch:   0%|                                                                                     | 0/20 [00:00<?, ?it/s]"
     ]
    },
    {
     "name": "stdout",
     "output_type": "stream",
     "text": [
      "Begin group  2 training\n"
     ]
    },
    {
     "name": "stderr",
     "output_type": "stream",
     "text": [
      "Epoch:  30%|███████████████████████                                                      | 6/20 [00:00<00:00, 58.33it/s]"
     ]
    },
    {
     "name": "stdout",
     "output_type": "stream",
     "text": [
      "Begin group  3 training\n"
     ]
    },
    {
     "name": "stderr",
     "output_type": "stream",
     "text": [
      "Epoch:   0%|                                                                                     | 0/20 [00:00<?, ?it/s]"
     ]
    },
    {
     "name": "stdout",
     "output_type": "stream",
     "text": [
      "Begin group  4 training\n"
     ]
    },
    {
     "name": "stderr",
     "output_type": "stream",
     "text": [
      "                                                                                                                        \r"
     ]
    },
    {
     "name": "stdout",
     "output_type": "stream",
     "text": [
      "Group 0, clients ['f_00054', 'f_00064']\n",
      "Group 1, clients ['f_00028', 'f_00049', 'f_00138', 'f_00019']\n",
      "Group 2, clients ['f_00131', 'f_00041', 'f_00102', 'f_00061', 'f_00031', 'f_00151', 'f_00001']\n",
      "Group 3, clients ['f_00160', 'f_00040', 'f_00130']\n",
      "Group 4, clients ['f_00087', 'f_00167', 'f_00037', 'f_00006']\n"
     ]
    },
    {
     "name": "stderr",
     "output_type": "stream",
     "text": [
      "Epoch:   0%|                                                                                     | 0/20 [00:00<?, ?it/s]"
     ]
    },
    {
     "name": "stdout",
     "output_type": "stream",
     "text": [
      "Group 0\n",
      "At round 186 accuracy: 0.8455497382198953\n",
      "At round 186 training accuracy: 0.8297213622291022\n",
      "At round 186 training loss: 0.5496933255240829\n",
      "Group 1\n",
      "At round 186 accuracy: 0.8303886925795053\n",
      "At round 186 training accuracy: 0.8127356514453289\n",
      "At round 186 training loss: 0.5009207747686244\n",
      "Group 2\n",
      "At round 186 accuracy: 0.8574181117533719\n",
      "At round 186 training accuracy: 0.8729417000445038\n",
      "At round 186 training loss: 0.3262108741274239\n",
      "Group 3\n",
      "At round 186 accuracy: 0.9699570815450643\n",
      "At round 186 training accuracy: 0.9603371343579573\n",
      "At round 186 training loss: 0.16850836140629555\n",
      "Group 4\n",
      "At round 186 accuracy: 0.7435897435897436\n",
      "At round 186 training accuracy: 0.7682273468436991\n",
      "At round 186 training loss: 0.8842244810493515\n",
      "At round 186 mean test accuracy: 0.8347193347193347 mean train accuracy: 0.8390475610498752\n",
      "The groups difference are: [0.         5.62562667 5.12264793 5.83975981 4.97912778]\n",
      "Begin group  0 training\n",
      "Begin group  1 training\n"
     ]
    },
    {
     "name": "stderr",
     "output_type": "stream",
     "text": [
      "Epoch:   0%|                                                                                     | 0/20 [00:00<?, ?it/s]"
     ]
    },
    {
     "name": "stdout",
     "output_type": "stream",
     "text": [
      "Begin group  2 training\n"
     ]
    },
    {
     "name": "stderr",
     "output_type": "stream",
     "text": [
      "Epoch:  20%|███████████████▍                                                             | 4/20 [00:00<00:00, 39.71it/s]"
     ]
    },
    {
     "name": "stdout",
     "output_type": "stream",
     "text": [
      "Begin group  3 training\n"
     ]
    },
    {
     "name": "stderr",
     "output_type": "stream",
     "text": [
      "Epoch:  30%|███████████████████████                                                      | 6/20 [00:00<00:00, 50.28it/s]"
     ]
    },
    {
     "name": "stdout",
     "output_type": "stream",
     "text": [
      "Begin group  4 training\n"
     ]
    },
    {
     "name": "stderr",
     "output_type": "stream",
     "text": [
      "                                                                                                                        \r"
     ]
    },
    {
     "name": "stdout",
     "output_type": "stream",
     "text": [
      "Group 0, clients ['f_00044', 'f_00183', 'f_00023', 'f_00193']\n",
      "Group 1, clients ['f_00108', 'f_00049', 'f_00109', 'f_00198']\n",
      "Group 2, clients ['f_00062', 'f_00102', 'f_00052', 'f_00192']\n",
      "Group 3, clients ['f_00020', 'f_00080', 'f_00120', 'f_00070']\n",
      "Group 4, clients ['f_00176', 'f_00136', 'f_00046', 'f_00076']\n"
     ]
    },
    {
     "name": "stderr",
     "output_type": "stream",
     "text": [
      "Epoch:   0%|                                                                                     | 0/20 [00:00<?, ?it/s]"
     ]
    },
    {
     "name": "stdout",
     "output_type": "stream",
     "text": [
      "Group 0\n",
      "At round 187 accuracy: 0.837696335078534\n",
      "At round 187 training accuracy: 0.8185758513931889\n",
      "At round 187 training loss: 0.5662942752934093\n",
      "Group 1\n",
      "At round 187 accuracy: 0.872791519434629\n",
      "At round 187 training accuracy: 0.8512777545035609\n",
      "At round 187 training loss: 0.3742112254323598\n",
      "Group 2\n",
      "At round 187 accuracy: 0.882466281310212\n",
      "At round 187 training accuracy: 0.8887405429461505\n",
      "At round 187 training loss: 0.2886898915735573\n",
      "Group 3\n",
      "At round 187 accuracy: 0.9828326180257511\n",
      "At round 187 training accuracy: 0.9677739216658403\n",
      "At round 187 training loss: 0.16133711918132046\n",
      "Group 4\n",
      "At round 187 accuracy: 0.6390532544378699\n",
      "At round 187 training accuracy: 0.6473328674586536\n",
      "At round 187 training loss: 1.0864373735481283\n",
      "At round 187 mean test accuracy: 0.8201663201663202 mean train accuracy: 0.8160891541319043\n",
      "The groups difference are: [0.         5.60916234 5.10428013 5.85304569 5.01523743]\n",
      "Begin group  0 training\n"
     ]
    },
    {
     "name": "stderr",
     "output_type": "stream",
     "text": [
      "Epoch:  45%|██████████████████████████████████▋                                          | 9/20 [00:00<00:00, 83.28it/s]"
     ]
    },
    {
     "name": "stdout",
     "output_type": "stream",
     "text": [
      "Begin group  1 training\n"
     ]
    },
    {
     "name": "stderr",
     "output_type": "stream",
     "text": [
      "Epoch:   5%|███▊                                                                         | 1/20 [00:00<00:03,  5.31it/s]"
     ]
    },
    {
     "name": "stdout",
     "output_type": "stream",
     "text": [
      "Begin group  2 training\n"
     ]
    },
    {
     "name": "stderr",
     "output_type": "stream",
     "text": [
      "Epoch:   0%|                                                                                     | 0/20 [00:00<?, ?it/s]"
     ]
    },
    {
     "name": "stdout",
     "output_type": "stream",
     "text": [
      "Begin group  3 training\n"
     ]
    },
    {
     "name": "stderr",
     "output_type": "stream",
     "text": [
      "Epoch:  45%|██████████████████████████████████▋                                          | 9/20 [00:00<00:00, 89.65it/s]"
     ]
    },
    {
     "name": "stdout",
     "output_type": "stream",
     "text": [
      "Begin group  4 training\n"
     ]
    },
    {
     "name": "stderr",
     "output_type": "stream",
     "text": [
      "                                                                                                                        \r"
     ]
    },
    {
     "name": "stdout",
     "output_type": "stream",
     "text": [
      "Group 0, clients ['f_00163', 'f_00073', 'f_00083', 'f_00003', 'f_00004']\n",
      "Group 1, clients ['f_00169', 'f_00158', 'f_00109', 'f_00079', 'f_00129']\n",
      "Group 2, clients ['f_00152', 'f_00082', 'f_00191', 'f_00091', 'f_00061']\n",
      "Group 3, clients ['f_00060', 'f_00010', 'f_00100']\n",
      "Group 4, clients ['f_00015', 'f_00087']\n"
     ]
    },
    {
     "name": "stderr",
     "output_type": "stream",
     "text": [
      "Epoch:   0%|                                                                                     | 0/20 [00:00<?, ?it/s]"
     ]
    },
    {
     "name": "stdout",
     "output_type": "stream",
     "text": [
      "Group 0\n",
      "At round 188 accuracy: 0.8769633507853403\n",
      "At round 188 training accuracy: 0.8848297213622291\n",
      "At round 188 training loss: 0.302792415225838\n",
      "Group 1\n",
      "At round 188 accuracy: 0.833922261484099\n",
      "At round 188 training accuracy: 0.8487641390867198\n",
      "At round 188 training loss: 0.41249270800846016\n",
      "Group 2\n",
      "At round 188 accuracy: 0.8728323699421965\n",
      "At round 188 training accuracy: 0.8769470404984424\n",
      "At round 188 training loss: 0.5256096314146458\n",
      "Group 3\n",
      "At round 188 accuracy: 0.9742489270386266\n",
      "At round 188 training accuracy: 0.9657907783837383\n",
      "At round 188 training loss: 0.1603311314055928\n",
      "Group 4\n",
      "At round 188 accuracy: 0.7238658777120316\n",
      "At round 188 training accuracy: 0.7470300489168413\n",
      "At round 188 training loss: 1.1206286985625857\n",
      "At round 188 mean test accuracy: 0.840956340956341 mean train accuracy: 0.8513488825284696\n",
      "The groups difference are: [0.         5.60321629 5.173491   5.85420025 5.01786921]\n",
      "Begin group  0 training\n"
     ]
    },
    {
     "name": "stderr",
     "output_type": "stream",
     "text": [
      "Epoch:  75%|████████████████████████████████████████████████████████▎                  | 15/20 [00:00<00:00, 142.06it/s]"
     ]
    },
    {
     "name": "stdout",
     "output_type": "stream",
     "text": [
      "Begin group  1 training\n"
     ]
    },
    {
     "name": "stderr",
     "output_type": "stream",
     "text": [
      "Epoch:  45%|██████████████████████████████████▋                                          | 9/20 [00:00<00:00, 86.31it/s]"
     ]
    },
    {
     "name": "stdout",
     "output_type": "stream",
     "text": [
      "Begin group  2 training\n"
     ]
    },
    {
     "name": "stderr",
     "output_type": "stream",
     "text": [
      "Epoch:  40%|██████████████████████████████▊                                              | 8/20 [00:00<00:00, 76.06it/s]"
     ]
    },
    {
     "name": "stdout",
     "output_type": "stream",
     "text": [
      "Begin group  3 training\n"
     ]
    },
    {
     "name": "stderr",
     "output_type": "stream",
     "text": [
      "Epoch:   0%|                                                                                     | 0/20 [00:00<?, ?it/s]"
     ]
    },
    {
     "name": "stdout",
     "output_type": "stream",
     "text": [
      "Begin group  4 training\n"
     ]
    },
    {
     "name": "stderr",
     "output_type": "stream",
     "text": [
      "                                                                                                                        \r"
     ]
    },
    {
     "name": "stdout",
     "output_type": "stream",
     "text": [
      "Group 0, clients ['f_00043', 'f_00114', 'f_00163', 'f_00053', 'f_00133']\n",
      "Group 1, clients ['f_00198']\n",
      "Group 2, clients ['f_00091', 'f_00111', 'f_00142', 'f_00002', 'f_00071', 'f_00012']\n",
      "Group 3, clients ['f_00130', 'f_00180']\n",
      "Group 4, clients ['f_00075', 'f_00027', 'f_00037', 'f_00136', 'f_00077', 'f_00106']\n"
     ]
    },
    {
     "name": "stderr",
     "output_type": "stream",
     "text": [
      "Epoch:   0%|                                                                                     | 0/20 [00:00<?, ?it/s]"
     ]
    },
    {
     "name": "stdout",
     "output_type": "stream",
     "text": [
      "Group 0\n",
      "At round 189 accuracy: 0.856020942408377\n",
      "At round 189 training accuracy: 0.8520123839009288\n",
      "At round 189 training loss: 0.4205336564073437\n",
      "Group 1\n",
      "At round 189 accuracy: 0.8268551236749117\n",
      "At round 189 training accuracy: 0.8014243820695434\n",
      "At round 189 training loss: 0.4829177427545321\n",
      "Group 2\n",
      "At round 189 accuracy: 0.8362235067437379\n",
      "At round 189 training accuracy: 0.8538050734312417\n",
      "At round 189 training loss: 0.35949075918331325\n",
      "Group 3\n",
      "At round 189 accuracy: 0.9742489270386266\n",
      "At round 189 training accuracy: 0.9652949925632127\n",
      "At round 189 training loss: 0.16008025659714586\n",
      "Group 4\n",
      "At round 189 accuracy: 0.6725838264299803\n",
      "At round 189 training accuracy: 0.6936873980899139\n",
      "At round 189 training loss: 0.7938834613446392\n",
      "At round 189 mean test accuracy: 0.8123700623700624 mean train accuracy: 0.8176724925400402\n",
      "The groups difference are: [0.         5.60739449 5.16800772 5.86381338 5.05133483]\n",
      "Begin group  0 training\n"
     ]
    },
    {
     "name": "stderr",
     "output_type": "stream",
     "text": [
      "Epoch:   0%|                                                                                     | 0/20 [00:00<?, ?it/s]"
     ]
    },
    {
     "name": "stdout",
     "output_type": "stream",
     "text": [
      "Begin group  1 training\n",
      "Begin group  2 training\n"
     ]
    },
    {
     "name": "stderr",
     "output_type": "stream",
     "text": [
      "Epoch:  30%|███████████████████████                                                      | 6/20 [00:00<00:00, 49.90it/s]"
     ]
    },
    {
     "name": "stdout",
     "output_type": "stream",
     "text": [
      "Begin group  3 training\n"
     ]
    },
    {
     "name": "stderr",
     "output_type": "stream",
     "text": [
      "Epoch:  50%|██████████████████████████████████████                                      | 10/20 [00:00<00:00, 95.15it/s]"
     ]
    },
    {
     "name": "stdout",
     "output_type": "stream",
     "text": [
      "Begin group  4 training\n"
     ]
    },
    {
     "name": "stderr",
     "output_type": "stream",
     "text": [
      "                                                                                                                        \r"
     ]
    },
    {
     "name": "stdout",
     "output_type": "stream",
     "text": [
      "Group 0, clients ['f_00024', 'f_00014', 'f_00023']\n",
      "Group 1, clients ['f_00139', 'f_00028', 'f_00018', 'f_00008', 'f_00019']\n",
      "Group 2, clients ['f_00001', 'f_00092']\n",
      "Group 3, clients ['f_00010']\n",
      "Group 4, clients ['f_00056', 'f_00107', 'f_00006', 'f_00055', 'f_00116', 'f_00046', 'f_00017', 'f_00045', 'f_00105']\n"
     ]
    },
    {
     "name": "stderr",
     "output_type": "stream",
     "text": [
      "Epoch:  40%|██████████████████████████████▊                                              | 8/20 [00:00<00:00, 79.21it/s]"
     ]
    },
    {
     "name": "stdout",
     "output_type": "stream",
     "text": [
      "Group 0\n",
      "At round 190 accuracy: 0.824607329842932\n",
      "At round 190 training accuracy: 0.8222910216718267\n",
      "At round 190 training loss: 0.6145070980173238\n",
      "Group 1\n",
      "At round 190 accuracy: 0.8445229681978799\n",
      "At round 190 training accuracy: 0.8408043569333892\n",
      "At round 190 training loss: 0.45063934256379257\n",
      "Group 2\n",
      "At round 190 accuracy: 0.8631984585741811\n",
      "At round 190 training accuracy: 0.8696039163328882\n",
      "At round 190 training loss: 0.33079252842835283\n",
      "Group 3\n",
      "At round 190 accuracy: 0.9656652360515021\n",
      "At round 190 training accuracy: 0.9578582052553297\n",
      "At round 190 training loss: 0.16411379993656336\n",
      "Group 4\n",
      "At round 190 accuracy: 0.7909270216962525\n",
      "At round 190 training accuracy: 0.791521080829257\n",
      "At round 190 training loss: 0.526392034785386\n",
      "At round 190 mean test accuracy: 0.8461538461538461 mean train accuracy: 0.8465379696729797\n",
      "The groups difference are: [0.         5.61860094 5.16797942 5.88609407 5.06526295]\n",
      "Begin group  0 training\n"
     ]
    },
    {
     "name": "stderr",
     "output_type": "stream",
     "text": [
      "Epoch:   0%|                                                                                     | 0/20 [00:00<?, ?it/s]"
     ]
    },
    {
     "name": "stdout",
     "output_type": "stream",
     "text": [
      "Begin group  1 training\n"
     ]
    },
    {
     "name": "stderr",
     "output_type": "stream",
     "text": [
      "Epoch:   0%|                                                                                     | 0/20 [00:00<?, ?it/s]"
     ]
    },
    {
     "name": "stdout",
     "output_type": "stream",
     "text": [
      "Begin group  2 training\n",
      "Begin group  3 training\n"
     ]
    },
    {
     "name": "stderr",
     "output_type": "stream",
     "text": [
      "Epoch:  65%|████████████████████████████████████████████████▊                          | 13/20 [00:00<00:00, 127.57it/s]"
     ]
    },
    {
     "name": "stdout",
     "output_type": "stream",
     "text": [
      "Begin group  4 training\n"
     ]
    },
    {
     "name": "stderr",
     "output_type": "stream",
     "text": [
      "                                                                                                                        \r"
     ]
    },
    {
     "name": "stdout",
     "output_type": "stream",
     "text": [
      "Group 0, clients ['f_00103', 'f_00093']\n",
      "Group 1, clients ['f_00189', 'f_00028', 'f_00169', 'f_00059', 'f_00139']\n",
      "Group 2, clients ['f_00111', 'f_00142', 'f_00121', 'f_00002', 'f_00081']\n",
      "Group 3, clients ['f_00090', 'f_00110', 'f_00170']\n",
      "Group 4, clients ['f_00125', 'f_00045', 'f_00076', 'f_00136', 'f_00027']\n"
     ]
    },
    {
     "name": "stderr",
     "output_type": "stream",
     "text": [
      "Epoch:   0%|                                                                                     | 0/20 [00:00<?, ?it/s]"
     ]
    },
    {
     "name": "stdout",
     "output_type": "stream",
     "text": [
      "Group 0\n",
      "At round 191 accuracy: 0.8795811518324608\n",
      "At round 191 training accuracy: 0.9077399380804954\n",
      "At round 191 training loss: 0.256962344668598\n",
      "Group 1\n",
      "At round 191 accuracy: 0.8833922261484098\n",
      "At round 191 training accuracy: 0.8496020108923334\n",
      "At round 191 training loss: 0.3717975639615241\n",
      "Group 2\n",
      "At round 191 accuracy: 0.8901734104046243\n",
      "At round 191 training accuracy: 0.9032042723631508\n",
      "At round 191 training loss: 0.2632177331326111\n",
      "Group 3\n",
      "At round 191 accuracy: 0.9785407725321889\n",
      "At round 191 training accuracy: 0.9687654933068914\n",
      "At round 191 training loss: 0.15857200046385286\n",
      "Group 4\n",
      "At round 191 accuracy: 0.8500986193293886\n",
      "At round 191 training accuracy: 0.8548800372699744\n",
      "At round 191 training loss: 0.45067231722597806\n",
      "At round 191 mean test accuracy: 0.8872141372141372 mean train accuracy: 0.8917240119359356\n",
      "The groups difference are: [0.         5.60872522 5.15453242 5.89142244 5.04661193]\n",
      "Begin group  0 training\n"
     ]
    },
    {
     "name": "stderr",
     "output_type": "stream",
     "text": [
      "Epoch:  55%|█████████████████████████████████████████▎                                 | 11/20 [00:00<00:00, 103.03it/s]"
     ]
    },
    {
     "name": "stdout",
     "output_type": "stream",
     "text": [
      "Begin group  1 training\n"
     ]
    },
    {
     "name": "stderr",
     "output_type": "stream",
     "text": [
      "Epoch:   0%|                                                                                     | 0/20 [00:00<?, ?it/s]"
     ]
    },
    {
     "name": "stdout",
     "output_type": "stream",
     "text": [
      "Begin group  2 training\n"
     ]
    },
    {
     "name": "stderr",
     "output_type": "stream",
     "text": [
      "Epoch:  45%|██████████████████████████████████▋                                          | 9/20 [00:00<00:00, 87.62it/s]"
     ]
    },
    {
     "name": "stdout",
     "output_type": "stream",
     "text": [
      "Begin group  3 training\n"
     ]
    },
    {
     "name": "stderr",
     "output_type": "stream",
     "text": [
      "Epoch:   0%|                                                                                     | 0/20 [00:00<?, ?it/s]"
     ]
    },
    {
     "name": "stdout",
     "output_type": "stream",
     "text": [
      "Begin group  4 training\n"
     ]
    },
    {
     "name": "stderr",
     "output_type": "stream",
     "text": [
      "                                                                                                                        \r"
     ]
    },
    {
     "name": "stdout",
     "output_type": "stream",
     "text": [
      "Group 0, clients ['f_00064', 'f_00133', 'f_00013', 'f_00093', 'f_00023']\n",
      "Group 1, clients ['f_00158', 'f_00079', 'f_00008', 'f_00119']\n",
      "Group 2, clients ['f_00022', 'f_00072', 'f_00171', 'f_00041', 'f_00152']\n",
      "Group 3, clients ['f_00060', 'f_00100']\n",
      "Group 4, clients ['f_00085', 'f_00037', 'f_00197', 'f_00196']\n"
     ]
    },
    {
     "name": "stderr",
     "output_type": "stream",
     "text": [
      "Epoch:   0%|                                                                                     | 0/20 [00:00<?, ?it/s]"
     ]
    },
    {
     "name": "stdout",
     "output_type": "stream",
     "text": [
      "Group 0\n",
      "At round 192 accuracy: 0.8272251308900523\n",
      "At round 192 training accuracy: 0.8269349845201238\n",
      "At round 192 training loss: 0.5052391244461847\n",
      "Group 1\n",
      "At round 192 accuracy: 0.8268551236749117\n",
      "At round 192 training accuracy: 0.8148303309593632\n",
      "At round 192 training loss: 0.5566905009126034\n",
      "Group 2\n",
      "At round 192 accuracy: 0.8497109826589595\n",
      "At round 192 training accuracy: 0.8551401869158879\n",
      "At round 192 training loss: 0.4025561045996205\n",
      "Group 3\n",
      "At round 192 accuracy: 0.9613733905579399\n",
      "At round 192 training accuracy: 0.9578582052553297\n",
      "At round 192 training loss: 0.16386625045854145\n",
      "Group 4\n",
      "At round 192 accuracy: 0.7258382642998028\n",
      "At round 192 training accuracy: 0.74446773817843\n",
      "At round 192 training loss: 0.8546456341060508\n",
      "At round 192 mean test accuracy: 0.8227650727650727 mean train accuracy: 0.8274161135131843\n",
      "The groups difference are: [0.         5.60990198 5.14798179 5.89077262 5.06220785]\n",
      "Begin group  0 training\n"
     ]
    },
    {
     "name": "stderr",
     "output_type": "stream",
     "text": [
      "Epoch:   0%|                                                                                     | 0/20 [00:00<?, ?it/s]"
     ]
    },
    {
     "name": "stdout",
     "output_type": "stream",
     "text": [
      "Begin group  1 training\n"
     ]
    },
    {
     "name": "stderr",
     "output_type": "stream",
     "text": [
      "Epoch:  80%|████████████████████████████████████████████████████████████               | 16/20 [00:00<00:00, 155.00it/s]"
     ]
    },
    {
     "name": "stdout",
     "output_type": "stream",
     "text": [
      "Begin group  2 training\n"
     ]
    },
    {
     "name": "stderr",
     "output_type": "stream",
     "text": [
      "Epoch:  40%|██████████████████████████████▊                                              | 8/20 [00:00<00:00, 76.16it/s]"
     ]
    },
    {
     "name": "stdout",
     "output_type": "stream",
     "text": [
      "Begin group  3 training\n"
     ]
    },
    {
     "name": "stderr",
     "output_type": "stream",
     "text": [
      "Epoch:   0%|                                                                                     | 0/20 [00:00<?, ?it/s]"
     ]
    },
    {
     "name": "stdout",
     "output_type": "stream",
     "text": [
      "Begin group  4 training\n"
     ]
    },
    {
     "name": "stderr",
     "output_type": "stream",
     "text": [
      "                                                                                                                        \r"
     ]
    },
    {
     "name": "stdout",
     "output_type": "stream",
     "text": [
      "Group 0, clients ['f_00133', 'f_00173', 'f_00184', 'f_00004', 'f_00043', 'f_00033', 'f_00073', 'f_00164']\n",
      "Group 1, clients ['f_00018', 'f_00119', 'f_00069']\n",
      "Group 2, clients ['f_00091']\n",
      "Group 3, clients ['f_00140', 'f_00000', 'f_00020']\n",
      "Group 4, clients ['f_00006', 'f_00187', 'f_00157', 'f_00186', 'f_00105']\n"
     ]
    },
    {
     "name": "stderr",
     "output_type": "stream",
     "text": [
      "Epoch:   0%|                                                                                     | 0/20 [00:00<?, ?it/s]"
     ]
    },
    {
     "name": "stdout",
     "output_type": "stream",
     "text": [
      "Group 0\n",
      "At round 193 accuracy: 0.8403141361256544\n",
      "At round 193 training accuracy: 0.8352941176470589\n",
      "At round 193 training loss: 0.47835296037442543\n",
      "Group 1\n",
      "At round 193 accuracy: 0.8303886925795053\n",
      "At round 193 training accuracy: 0.8127356514453289\n",
      "At round 193 training loss: 0.500919663959472\n",
      "Group 2\n",
      "At round 193 accuracy: 0.882466281310212\n",
      "At round 193 training accuracy: 0.8900756564307967\n",
      "At round 193 training loss: 0.2825837026291759\n",
      "Group 3\n",
      "At round 193 accuracy: 0.944206008583691\n",
      "At round 193 training accuracy: 0.9400099157164105\n",
      "At round 193 training loss: 0.17335573496665468\n",
      "Group 4\n",
      "At round 193 accuracy: 0.747534516765286\n",
      "At round 193 training accuracy: 0.754949918471931\n",
      "At round 193 training loss: 0.5834547122257061\n",
      "At round 193 mean test accuracy: 0.8383575883575883 mean train accuracy: 0.8388648681566288\n",
      "The groups difference are: [0.         5.60869442 5.12916065 5.88993779 5.06654642]\n",
      "Begin group  0 training\n"
     ]
    },
    {
     "name": "stderr",
     "output_type": "stream",
     "text": [
      "Epoch:   0%|                                                                                     | 0/20 [00:00<?, ?it/s]"
     ]
    },
    {
     "name": "stdout",
     "output_type": "stream",
     "text": [
      "Begin group  1 training\n"
     ]
    },
    {
     "name": "stderr",
     "output_type": "stream",
     "text": [
      "Epoch:  40%|██████████████████████████████▊                                              | 8/20 [00:00<00:00, 70.90it/s]"
     ]
    },
    {
     "name": "stdout",
     "output_type": "stream",
     "text": [
      "Begin group  2 training\n"
     ]
    },
    {
     "name": "stderr",
     "output_type": "stream",
     "text": [
      "Epoch:   0%|                                                                                     | 0/20 [00:00<?, ?it/s]"
     ]
    },
    {
     "name": "stdout",
     "output_type": "stream",
     "text": [
      "Begin group  3 training\n"
     ]
    },
    {
     "name": "stderr",
     "output_type": "stream",
     "text": [
      "Epoch:   0%|                                                                                     | 0/20 [00:00<?, ?it/s]"
     ]
    },
    {
     "name": "stdout",
     "output_type": "stream",
     "text": [
      "Begin group  4 training\n"
     ]
    },
    {
     "name": "stderr",
     "output_type": "stream",
     "text": [
      "                                                                                                                        \r"
     ]
    },
    {
     "name": "stdout",
     "output_type": "stream",
     "text": [
      "Group 0, clients ['f_00073', 'f_00133', 'f_00164', 'f_00143', 'f_00053']\n",
      "Group 1, clients ['f_00139', 'f_00188', 'f_00008']\n",
      "Group 2, clients ['f_00101', 'f_00152', 'f_00002', 'f_00041']\n",
      "Group 3, clients ['f_00180']\n",
      "Group 4, clients ['f_00006', 'f_00136', 'f_00035', 'f_00045', 'f_00017', 'f_00165', 'f_00046']\n"
     ]
    },
    {
     "name": "stderr",
     "output_type": "stream",
     "text": [
      "Epoch:  25%|███████████████████▎                                                         | 5/20 [00:00<00:00, 42.02it/s]"
     ]
    },
    {
     "name": "stdout",
     "output_type": "stream",
     "text": [
      "Group 0\n",
      "At round 194 accuracy: 0.8821989528795812\n",
      "At round 194 training accuracy: 0.896594427244582\n",
      "At round 194 training loss: 0.28225613402047023\n",
      "Group 1\n",
      "At round 194 accuracy: 0.823321554770318\n",
      "At round 194 training accuracy: 0.8093841642228738\n",
      "At round 194 training loss: 0.5821548971387698\n",
      "Group 2\n",
      "At round 194 accuracy: 0.7572254335260116\n",
      "At round 194 training accuracy: 0.7627948375611927\n",
      "At round 194 training loss: 0.7074804107704572\n",
      "Group 3\n",
      "At round 194 accuracy: 0.9785407725321889\n",
      "At round 194 training accuracy: 0.9682697074863659\n",
      "At round 194 training loss: 0.15813728755115578\n",
      "Group 4\n",
      "At round 194 accuracy: 0.8500986193293886\n",
      "At round 194 training accuracy: 0.8537153505706965\n",
      "At round 194 training loss: 0.4470248820688406\n",
      "At round 194 mean test accuracy: 0.843035343035343 mean train accuracy: 0.8448937336337616\n",
      "The groups difference are: [0.         5.62138379 5.15940057 5.89622438 5.06182731]\n",
      "Begin group  0 training\n"
     ]
    },
    {
     "name": "stderr",
     "output_type": "stream",
     "text": [
      "Epoch:   0%|                                                                                     | 0/20 [00:00<?, ?it/s]"
     ]
    },
    {
     "name": "stdout",
     "output_type": "stream",
     "text": [
      "Begin group  1 training\n",
      "Begin group  2 training\n"
     ]
    },
    {
     "name": "stderr",
     "output_type": "stream",
     "text": [
      "Epoch:  40%|██████████████████████████████▊                                              | 8/20 [00:00<00:00, 72.16it/s]"
     ]
    },
    {
     "name": "stdout",
     "output_type": "stream",
     "text": [
      "Begin group  3 training\n"
     ]
    },
    {
     "name": "stderr",
     "output_type": "stream",
     "text": [
      "Epoch:  60%|█████████████████████████████████████████████                              | 12/20 [00:00<00:00, 109.75it/s]"
     ]
    },
    {
     "name": "stdout",
     "output_type": "stream",
     "text": [
      "Begin group  4 training\n"
     ]
    },
    {
     "name": "stderr",
     "output_type": "stream",
     "text": [
      "                                                                                                                        \r"
     ]
    },
    {
     "name": "stdout",
     "output_type": "stream",
     "text": [
      "Group 0, clients ['f_00093', 'f_00173', 'f_00154', 'f_00194', 'f_00133']\n",
      "Group 1, clients ['f_00049', 'f_00098', 'f_00019', 'f_00068', 'f_00178']\n",
      "Group 2, clients ['f_00161', 'f_00052', 'f_00032', 'f_00062']\n",
      "Group 3, clients ['f_00130']\n",
      "Group 4, clients ['f_00036', 'f_00165', 'f_00107', 'f_00197', 'f_00015']\n"
     ]
    },
    {
     "name": "stderr",
     "output_type": "stream",
     "text": [
      "Epoch:  40%|██████████████████████████████▊                                              | 8/20 [00:00<00:00, 70.94it/s]"
     ]
    },
    {
     "name": "stdout",
     "output_type": "stream",
     "text": [
      "Group 0\n",
      "At round 195 accuracy: 0.8586387434554974\n",
      "At round 195 training accuracy: 0.8665634674922601\n",
      "At round 195 training loss: 0.35224599226524955\n",
      "Group 1\n",
      "At round 195 accuracy: 0.872791519434629\n",
      "At round 195 training accuracy: 0.8516966904063679\n",
      "At round 195 training loss: 0.3736698305976406\n",
      "Group 2\n",
      "At round 195 accuracy: 0.8709055876685935\n",
      "At round 195 training accuracy: 0.8756119270137962\n",
      "At round 195 training loss: 0.299621557786192\n",
      "Group 3\n",
      "At round 195 accuracy: 0.9570815450643777\n",
      "At round 195 training accuracy: 0.9533961328705999\n",
      "At round 195 training loss: 0.16756225286820883\n",
      "Group 4\n",
      "At round 195 accuracy: 0.7593688362919132\n",
      "At round 195 training accuracy: 0.7968786396459352\n",
      "At round 195 training loss: 0.6092576836143622\n",
      "At round 195 mean test accuracy: 0.8497920997920998 mean train accuracy: 0.8593264722002314\n",
      "The groups difference are: [0.         5.631327   5.1613276  5.92643977 5.07389463]\n",
      "Begin group  0 training\n"
     ]
    },
    {
     "name": "stderr",
     "output_type": "stream",
     "text": [
      "Epoch:  30%|███████████████████████                                                      | 6/20 [00:00<00:00, 51.67it/s]"
     ]
    },
    {
     "name": "stdout",
     "output_type": "stream",
     "text": [
      "Begin group  1 training\n"
     ]
    },
    {
     "name": "stderr",
     "output_type": "stream",
     "text": [
      "Epoch:  25%|███████████████████▎                                                         | 5/20 [00:00<00:00, 49.06it/s]"
     ]
    },
    {
     "name": "stdout",
     "output_type": "stream",
     "text": [
      "Begin group  2 training\n"
     ]
    },
    {
     "name": "stderr",
     "output_type": "stream",
     "text": [
      "Epoch:   0%|                                                                                     | 0/20 [00:00<?, ?it/s]"
     ]
    },
    {
     "name": "stdout",
     "output_type": "stream",
     "text": [
      "Begin group  3 training\n",
      "Begin group  4 training\n"
     ]
    },
    {
     "name": "stderr",
     "output_type": "stream",
     "text": [
      "                                                                                                                        \r"
     ]
    },
    {
     "name": "stdout",
     "output_type": "stream",
     "text": [
      "Group 0, clients ['f_00073', 'f_00003', 'f_00103', 'f_00013', 'f_00023']\n",
      "Group 1, clients ['f_00159', 'f_00179']\n",
      "Group 2, clients ['f_00182', 'f_00112', 'f_00122']\n",
      "Group 3, clients ['f_00150', 'f_00020', 'f_00170']\n",
      "Group 4, clients ['f_00036', 'f_00157', 'f_00156', 'f_00145', 'f_00147', 'f_00177', 'f_00025']\n"
     ]
    },
    {
     "name": "stderr",
     "output_type": "stream",
     "text": [
      "Epoch:  25%|███████████████████▎                                                         | 5/20 [00:00<00:00, 40.19it/s]"
     ]
    },
    {
     "name": "stdout",
     "output_type": "stream",
     "text": [
      "Group 0\n",
      "At round 196 accuracy: 0.9031413612565445\n",
      "At round 196 training accuracy: 0.9374613003095975\n",
      "At round 196 training loss: 0.23210246572645826\n",
      "Group 1\n",
      "At round 196 accuracy: 0.8480565371024735\n",
      "At round 196 training accuracy: 0.8428990364474236\n",
      "At round 196 training loss: 0.5042383685539495\n",
      "Group 2\n",
      "At round 196 accuracy: 0.8689788053949904\n",
      "At round 196 training accuracy: 0.8769470404984424\n",
      "At round 196 training loss: 0.5243204503084322\n",
      "Group 3\n",
      "At round 196 accuracy: 0.8755364806866953\n",
      "At round 196 training accuracy: 0.9013386217154189\n",
      "At round 196 training loss: 0.23686961717368\n",
      "Group 4\n",
      "At round 196 accuracy: 0.8579881656804734\n",
      "At round 196 training accuracy: 0.8634987188446308\n",
      "At round 196 training loss: 0.44043052068074323\n",
      "At round 196 mean test accuracy: 0.8705821205821206 mean train accuracy: 0.8833810364776811\n",
      "The groups difference are: [0.         5.64237311 5.25667812 5.91472092 5.06865949]\n",
      "Begin group  0 training\n"
     ]
    },
    {
     "name": "stderr",
     "output_type": "stream",
     "text": [
      "Epoch:   0%|                                                                                     | 0/20 [00:00<?, ?it/s]"
     ]
    },
    {
     "name": "stdout",
     "output_type": "stream",
     "text": [
      "Begin group  1 training\n"
     ]
    },
    {
     "name": "stderr",
     "output_type": "stream",
     "text": [
      "Epoch:   0%|                                                                                     | 0/20 [00:00<?, ?it/s]"
     ]
    },
    {
     "name": "stdout",
     "output_type": "stream",
     "text": [
      "Begin group  2 training\n"
     ]
    },
    {
     "name": "stderr",
     "output_type": "stream",
     "text": [
      "Epoch:   0%|                                                                                     | 0/20 [00:00<?, ?it/s]"
     ]
    },
    {
     "name": "stdout",
     "output_type": "stream",
     "text": [
      "Begin group  3 training\n"
     ]
    },
    {
     "name": "stderr",
     "output_type": "stream",
     "text": [
      "Epoch:   0%|                                                                                     | 0/20 [00:00<?, ?it/s]"
     ]
    },
    {
     "name": "stdout",
     "output_type": "stream",
     "text": [
      "Begin group  4 training\n"
     ]
    },
    {
     "name": "stderr",
     "output_type": "stream",
     "text": [
      "                                                                                                                        \r"
     ]
    },
    {
     "name": "stdout",
     "output_type": "stream",
     "text": [
      "Group 0, clients ['f_00104', 'f_00103', 'f_00034', 'f_00194']\n",
      "Group 1, clients ['f_00029', 'f_00048', 'f_00138', 'f_00188', 'f_00028']\n",
      "Group 2, clients ['f_00172', 'f_00011', 'f_00101', 'f_00081', 'f_00052', 'f_00162']\n",
      "Group 3, clients ['f_00130']\n",
      "Group 4, clients ['f_00047', 'f_00147', 'f_00117', 'f_00187']\n"
     ]
    },
    {
     "name": "stderr",
     "output_type": "stream",
     "text": [
      "Epoch:   0%|                                                                                     | 0/20 [00:00<?, ?it/s]"
     ]
    },
    {
     "name": "stdout",
     "output_type": "stream",
     "text": [
      "Group 0\n",
      "At round 197 accuracy: 0.8298429319371727\n",
      "At round 197 training accuracy: 0.8291021671826625\n",
      "At round 197 training loss: 0.5005110171880146\n",
      "Group 1\n",
      "At round 197 accuracy: 0.823321554770318\n",
      "At round 197 training accuracy: 0.8135735232509426\n",
      "At round 197 training loss: 0.6633114879088617\n",
      "Group 2\n",
      "At round 197 accuracy: 0.8689788053949904\n",
      "At round 197 training accuracy: 0.8762794837561193\n",
      "At round 197 training loss: 0.5279128264169933\n",
      "Group 3\n",
      "At round 197 accuracy: 0.9785407725321889\n",
      "At round 197 training accuracy: 0.9687654933068914\n",
      "At round 197 training loss: 0.15700099904997017\n",
      "Group 4\n",
      "At round 197 accuracy: 0.8007889546351085\n",
      "At round 197 training accuracy: 0.8115536920568367\n",
      "At round 197 training loss: 0.4556288099180644\n",
      "At round 197 mean test accuracy: 0.8497920997920998 mean train accuracy: 0.852323244625784\n",
      "The groups difference are: [0.         5.64555446 5.23534083 5.91054632 5.08500783]\n",
      "Begin group  0 training\n"
     ]
    },
    {
     "name": "stderr",
     "output_type": "stream",
     "text": [
      "                                                                                                                        "
     ]
    },
    {
     "name": "stdout",
     "output_type": "stream",
     "text": [
      "Begin group  1 training\n"
     ]
    },
    {
     "name": "stderr",
     "output_type": "stream",
     "text": [
      "Epoch:  40%|██████████████████████████████▊                                              | 8/20 [00:00<00:00, 73.47it/s]"
     ]
    },
    {
     "name": "stdout",
     "output_type": "stream",
     "text": [
      "Begin group  2 training\n"
     ]
    },
    {
     "name": "stderr",
     "output_type": "stream",
     "text": [
      "Epoch:   0%|                                                                                     | 0/20 [00:00<?, ?it/s]"
     ]
    },
    {
     "name": "stdout",
     "output_type": "stream",
     "text": [
      "Begin group  3 training\n",
      "Begin group  4 training\n"
     ]
    },
    {
     "name": "stderr",
     "output_type": "stream",
     "text": [
      "                                                                                                                        \r"
     ]
    },
    {
     "name": "stdout",
     "output_type": "stream",
     "text": [
      "Group 0, clients ['f_00064', 'f_00173', 'f_00164', 'f_00083', 'f_00043']\n",
      "Group 1, clients ['f_00118', 'f_00158', 'f_00199']\n",
      "Group 2, clients ['f_00111', 'f_00091', 'f_00082', 'f_00102']\n",
      "Group 3, clients ['f_00080', 'f_00050']\n",
      "Group 4, clients ['f_00187', 'f_00147', 'f_00125', 'f_00005', 'f_00026', 'f_00087']\n"
     ]
    },
    {
     "name": "stderr",
     "output_type": "stream",
     "text": [
      "Epoch:   0%|                                                                                     | 0/20 [00:00<?, ?it/s]"
     ]
    },
    {
     "name": "stdout",
     "output_type": "stream",
     "text": [
      "Group 0\n",
      "At round 198 accuracy: 0.887434554973822\n",
      "At round 198 training accuracy: 0.8938080495356037\n",
      "At round 198 training loss: 0.2949111025169169\n",
      "Group 1\n",
      "At round 198 accuracy: 0.901060070671378\n",
      "At round 198 training accuracy: 0.8952660242982824\n",
      "At round 198 training loss: 0.3281351017699763\n",
      "Group 2\n",
      "At round 198 accuracy: 0.8497109826589595\n",
      "At round 198 training accuracy: 0.8627058299955496\n",
      "At round 198 training loss: 0.39534417064350663\n",
      "Group 3\n",
      "At round 198 accuracy: 0.944206008583691\n",
      "At round 198 training accuracy: 0.9429846306395637\n",
      "At round 198 training loss: 0.17545122159372536\n",
      "Group 4\n",
      "At round 198 accuracy: 0.6844181459566075\n",
      "At round 198 training accuracy: 0.686932215234102\n",
      "At round 198 training loss: 0.795839832503424\n",
      "At round 198 mean test accuracy: 0.8326403326403327 mean train accuracy: 0.8374642226417393\n",
      "The groups difference are: [0.         5.63671919 5.23756063 5.8964397  5.07702208]\n",
      "Begin group  0 training\n"
     ]
    },
    {
     "name": "stderr",
     "output_type": "stream",
     "text": [
      "Epoch:  25%|███████████████████▎                                                         | 5/20 [00:00<00:00, 43.06it/s]"
     ]
    },
    {
     "name": "stdout",
     "output_type": "stream",
     "text": [
      "Begin group  1 training\n"
     ]
    },
    {
     "name": "stderr",
     "output_type": "stream",
     "text": [
      "Epoch:   0%|                                                                                     | 0/20 [00:00<?, ?it/s]"
     ]
    },
    {
     "name": "stdout",
     "output_type": "stream",
     "text": [
      "Begin group  2 training\n"
     ]
    },
    {
     "name": "stderr",
     "output_type": "stream",
     "text": [
      "Epoch:  30%|███████████████████████                                                      | 6/20 [00:00<00:00, 55.64it/s]"
     ]
    },
    {
     "name": "stdout",
     "output_type": "stream",
     "text": [
      "Begin group  3 training\n"
     ]
    },
    {
     "name": "stderr",
     "output_type": "stream",
     "text": [
      "Epoch:   0%|                                                                                     | 0/20 [00:00<?, ?it/s]"
     ]
    },
    {
     "name": "stdout",
     "output_type": "stream",
     "text": [
      "Begin group  4 training\n"
     ]
    },
    {
     "name": "stderr",
     "output_type": "stream",
     "text": [
      "                                                                                                                        \r"
     ]
    },
    {
     "name": "stdout",
     "output_type": "stream",
     "text": [
      "Group 0, clients ['f_00194', 'f_00043', 'f_00034', 'f_00144', 'f_00133', 'f_00094', 'f_00123', 'f_00153', 'f_00013', 'f_00063']\n",
      "Group 1, clients ['f_00149', 'f_00089']\n",
      "Group 2, clients ['f_00052', 'f_00021']\n",
      "Group 3, clients ['f_00070']\n",
      "Group 4, clients ['f_00045', 'f_00146', 'f_00157', 'f_00065', 'f_00116']\n"
     ]
    },
    {
     "name": "stderr",
     "output_type": "stream",
     "text": [
      "Epoch:  30%|███████████████████████                                                      | 6/20 [00:00<00:00, 52.42it/s]"
     ]
    },
    {
     "name": "stdout",
     "output_type": "stream",
     "text": [
      "Group 0\n",
      "At round 199 accuracy: 0.8455497382198953\n",
      "At round 199 training accuracy: 0.8606811145510835\n",
      "At round 199 training loss: 0.3735211022959405\n",
      "Group 1\n",
      "At round 199 accuracy: 0.7667844522968198\n",
      "At round 199 training accuracy: 0.7528278173439463\n",
      "At round 199 training loss: 0.5775523648683526\n",
      "Group 2\n",
      "At round 199 accuracy: 0.8458574181117534\n",
      "At round 199 training accuracy: 0.8651535380507344\n",
      "At round 199 training loss: 0.3254567437407755\n",
      "Group 3\n",
      "At round 199 accuracy: 0.9656652360515021\n",
      "At round 199 training accuracy: 0.9578582052553297\n",
      "At round 199 training loss: 0.16307625794357514\n",
      "Group 4\n",
      "At round 199 accuracy: 0.757396449704142\n",
      "At round 199 training accuracy: 0.7675285348241323\n",
      "At round 199 training loss: 0.49666369876646643\n",
      "At round 199 mean test accuracy: 0.8253638253638254 mean train accuracy: 0.8338103647768101\n",
      "The groups difference are: [0.         5.66408643 5.25789263 5.9160908  5.09048878]\n",
      "Begin group  0 training\n"
     ]
    },
    {
     "name": "stderr",
     "output_type": "stream",
     "text": [
      "Epoch:   0%|                                                                                     | 0/20 [00:00<?, ?it/s]"
     ]
    },
    {
     "name": "stdout",
     "output_type": "stream",
     "text": [
      "Begin group  1 training\n",
      "Begin group  2 training\n"
     ]
    },
    {
     "name": "stderr",
     "output_type": "stream",
     "text": [
      "Epoch:  25%|███████████████████▎                                                         | 5/20 [00:00<00:00, 44.34it/s]"
     ]
    },
    {
     "name": "stdout",
     "output_type": "stream",
     "text": [
      "Begin group  3 training\n"
     ]
    },
    {
     "name": "stderr",
     "output_type": "stream",
     "text": [
      "Epoch:   0%|                                                                                     | 0/20 [00:00<?, ?it/s]"
     ]
    },
    {
     "name": "stdout",
     "output_type": "stream",
     "text": [
      "Begin group  4 training\n"
     ]
    },
    {
     "name": "stderr",
     "output_type": "stream",
     "text": [
      "                                                                                                                        \r"
     ]
    }
   ],
   "source": [
    "server.train()"
   ]
  },
  {
   "cell_type": "code",
   "execution_count": 5,
   "metadata": {},
   "outputs": [
    {
     "name": "stdout",
     "output_type": "stream",
     "text": [
      "Counter({7.0: 165, 6.0: 106, 8.0: 105, 9.0: 71, 5.0: 60})\n",
      "507\n"
     ]
    }
   ],
   "source": [
    "from collections import Counter\n",
    "\n",
    "group_list = server.group_list\n",
    "clients = server.clients\n",
    "g = group_list[4]\n",
    "c_list = []\n",
    "for c in clients:\n",
    "  if c.group == g:\n",
    "    c_list.append(c)\n",
    "\n",
    "cnt = Counter()\n",
    "for c in c_list:\n",
    "  cnt += Counter(c.eval_data['y'])\n",
    "print(cnt)\n",
    "print(sum(cnt.values()))"
   ]
  }
 ],
 "metadata": {
  "kernelspec": {
   "display_name": "Python 3",
   "language": "python",
   "name": "python3"
  },
  "language_info": {
   "codemirror_mode": {
    "name": "ipython",
    "version": 3
   },
   "file_extension": ".py",
   "mimetype": "text/x-python",
   "name": "python",
   "nbconvert_exporter": "python",
   "pygments_lexer": "ipython3",
   "version": "3.7.7"
  }
 },
 "nbformat": 4,
 "nbformat_minor": 4
}
