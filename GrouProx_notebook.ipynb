{
 "cells": [
  {
   "cell_type": "code",
   "execution_count": 1,
   "metadata": {
    "scrolled": true
   },
   "outputs": [
    {
     "name": "stdout",
     "output_type": "stream",
     "text": [
      "WARNING:tensorflow:From /home/lab/anaconda3/envs/FL/lib/python3.8/site-packages/tensorflow/python/compat/v2_compat.py:96: disable_resource_variables (from tensorflow.python.ops.variable_scope) is deprecated and will be removed in a future version.\n",
      "Instructions for updating:\n",
      "non-resource variables are not supported in the long term\n",
      "Num GPUs Available:  1\n"
     ]
    }
   ],
   "source": [
    "import os\n",
    "os.environ[\"CUDA_VISIBLE_DEVICES\"]=\"0\"\n",
    "\n",
    "import importlib\n",
    "import tensorflow.compat.v1 as tf\n",
    "tf.disable_v2_behavior()\n",
    "from flearn.utils.model_utils import read_data\n",
    "import os\n",
    "import importlib\n",
    "import random\n",
    "import numpy as np\n",
    "\n",
    "from flearn.models import client\n",
    "from flearn.models import group\n",
    "from flearn.trainers import grouprox\n",
    "from flearn.trainers import fedprox\n",
    "from flearn.trainers import fedavg\n",
    "\n",
    "print(\"Num GPUs Available: \", len(tf.config.experimental.list_physical_devices('GPU')))"
   ]
  },
  {
   "cell_type": "code",
   "execution_count": 2,
   "metadata": {},
   "outputs": [
    {
     "name": "stdout",
     "output_type": "stream",
     "text": [
      "fedprox-mnist-mclr.csv\n"
     ]
    }
   ],
   "source": [
    "params = {}\n",
    "#DATASETS = ['sent140', 'nist', 'shakespeare', 'mnist', 'synthetic_iid', 'synthetic_0_0', 'synthetic_0.5_0.5', 'synthetic_1_1']\n",
    "\n",
    "\"\"\"\n",
    "Parameters that need to be manually set\n",
    "\"\"\"\n",
    "\n",
    "#params['dataset'] = 'sent140'\n",
    "params['dataset'] = 'mnist'\n",
    "params['model'] = 'mclr'\n",
    "#params['model'] = 'stacked_lstm'\n",
    "params['optimizer'] = 'grouprox'\n",
    "params['drop_percent'] = 0\n",
    "\n",
    "if params['dataset'].startswith('mnist'):\n",
    "  params['model_params'] = (10,)\n",
    "  params['learning_rate'] = 0.03\n",
    "  params['mu'] = 1\n",
    "  params['num_group'] = 3\n",
    "if params['dataset'] == 'nist':\n",
    "  params['model_params'] = (26,)\n",
    "  params['learning_rate'] = 0.003\n",
    "  params['mu'] = 1\n",
    "  params['num_group'] = 5\n",
    "if params['dataset'] == 'sent140':\n",
    "  params['model_params'] = (25, 2, 100) # seq_len, num_classes, num_hidden\n",
    "  params['learning_rate'] = 0.3\n",
    "  params['mu'] = 0.01\n",
    "  params['num_group'] = 5\n",
    "if params['dataset'].startswith('synthetic'):\n",
    "  params['model_params'] = (10,)\n",
    "  params['learning_rate'] = 0.01\n",
    "  params['mu'] = 1\n",
    "  params['num_group'] = 5\n",
    "\n",
    "if params['optimizer']  == 'fedavg':\n",
    "  pass\n",
    "if params['optimizer']  == 'fedprox':\n",
    "  pass\n",
    "if params['optimizer']  == 'grouprox':\n",
    "  params['proximal'] = False\n",
    "  params['RAC'] = False\n",
    "  params['RCC'] = False\n",
    "  params['allow_empty'] = True\n",
    "  params['agg_lr'] = 0.05\n",
    "  \n",
    "  # TEST Hyperparameters, Experimental Only\n",
    "  params['evenly'] = False\n",
    "  params['min_clients'] = 2\n",
    "    \n",
    "  # We implement IFCA and FeSEM base on grouprox\n",
    "  params['ifca'] = True\n",
    "  params['fesem'] = False\n",
    "    \n",
    "  \"\"\"\n",
    "  We immplement IFCA and FeSEM base on grouprox,\n",
    "  Some configurations should be flush for above two CFL frameworks\n",
    "  \"\"\"\n",
    "  if params['ifca'] == True or params['fesem'] == True:\n",
    "    params['proximal'] = False\n",
    "    params['RCC'] = False\n",
    "    params['allow_empty'] = True\n",
    "    params['agg_lr'] = 0.0 # IFCA and FeSEM don't use this parameter\n",
    "\n",
    "\"\"\"\n",
    "Common parameters\n",
    "\"\"\"\n",
    "params['num_rounds'] = 300\n",
    "params['num_epochs'] = 20\n",
    "params['batch_size'] = 10\n",
    "params['eval_every'] = 1\n",
    "params['clients_per_round'] = 20 ################ Important ######################\n",
    "params['seed'] = 233\n",
    "\n",
    "\"\"\" Set the output CSV file name \"\"\"\n",
    "info = '{}-{}-{}'.format(params['optimizer'], params['dataset'], params['model'])\n",
    "info2 = ''\n",
    "suffix = '.csv'\n",
    "if params['optimizer'] == 'fedavg':\n",
    "  pass\n",
    "if params['optimizer'] == 'fedprox':\n",
    "  pass\n",
    "if params['optimizer'] == 'grouprox':\n",
    "    \n",
    "  if params['ifca'] == True:\n",
    "    info2 = info2 + '-IFCA'\n",
    "  if params['fesem'] == True:\n",
    "    info2 = info2 + '-FeSEM'\n",
    "  \n",
    "  info2 = info2 +  '-NumG{:1d}-Agglr{:.4}-Proximal{:.1}'.format(\n",
    "    params['num_group'], params['agg_lr'], str(params['proximal']))\n",
    "  \n",
    "  if params['RCC'] == True:\n",
    "    info2 = info2 + '-RCC.{:.1}'.format(str(params['RCC']))\n",
    "  \n",
    "  if params['RAC'] == True:\n",
    "    info2 = info2 + '-RAC.{:.1}-Evenly{:.1}'.format(str(params['RAC']), str(params['evenly']))\n",
    "  elif params['allow_empty'] == True:\n",
    "    info2 = info2 + '-Empty{:.1}'.format(str(params['allow_empty']))\n",
    "  elif params['allow_empty'] == False:\n",
    "    info2 = info2 + '-Evenly{:.1}'.format(str(params['evenly']))\n",
    "\n",
    "params['export_filename'] = info + info2 + suffix\n",
    "\n",
    "print(params['export_filename'])"
   ]
  },
  {
   "cell_type": "code",
   "execution_count": 3,
   "metadata": {
    "scrolled": true
   },
   "outputs": [
    {
     "name": "stdout",
     "output_type": "stream",
     "text": [
      "Using Federated prox to Train\n"
     ]
    },
    {
     "name": "stderr",
     "output_type": "stream",
     "text": [
      "/home/lab/anaconda3/envs/FL/lib/python3.8/site-packages/tensorflow/python/keras/legacy_tf_layers/core.py:171: UserWarning: `tf.layers.dense` is deprecated and will be removed in a future version. Please use `tf.keras.layers.Dense` instead.\n",
      "  warnings.warn('`tf.layers.dense` is deprecated and '\n",
      "/home/lab/anaconda3/envs/FL/lib/python3.8/site-packages/tensorflow/python/keras/engine/base_layer_v1.py:1719: UserWarning: `layer.apply` is deprecated and will be removed in a future version. Please use `layer.__call__` method instead.\n",
      "  warnings.warn('`layer.apply` is deprecated and '\n"
     ]
    },
    {
     "name": "stdout",
     "output_type": "stream",
     "text": [
      "WARNING:tensorflow:From /home/lab/anaconda3/envs/FL/lib/python3.8/site-packages/tensorflow/python/profiler/internal/flops_registry.py:142: tensor_shape_from_node_def_name (from tensorflow.python.framework.graph_util_impl) is deprecated and will be removed in a future version.\n",
      "Instructions for updating:\n",
      "Use `tf.compat.v1.graph_util.tensor_shape_from_node_def_name`\n",
      "1000 Clients in Total\n",
      "7850 Parameters in Total\n"
     ]
    }
   ],
   "source": [
    "\"\"\"\n",
    "Some preparations\n",
    "\"\"\"\n",
    "\n",
    "# read data\n",
    "train_path = os.path.join('data', params['dataset'], 'data', 'train')\n",
    "test_path = os.path.join('data', params['dataset'], 'data', 'test')\n",
    "dataset = read_data(train_path, test_path)\n",
    "\n",
    "# Load model\n",
    "if params['dataset'].startswith('synthetic'):  # all synthetic datasets use the same model\n",
    "  model_path = '%s.%s.%s.%s' % ('flearn', 'models', 'synthetic', params['model'])\n",
    "elif params['dataset'].startswith('mnist'):\n",
    "  model_path = '%s.%s.%s.%s' % ('flearn', 'models', 'mnist', params['model'])\n",
    "else:\n",
    "  model_path = '%s.%s.%s.%s' % ('flearn', 'models', params['dataset'], params['model'])\n",
    "mod = importlib.import_module(model_path)\n",
    "learner = getattr(mod, 'Model')\n",
    "\n",
    "# Set seeds\n",
    "params['sklearn_seed'] = params['seed']\n",
    "random.seed(1 + params['seed'])\n",
    "np.random.seed(12 + params['seed'])\n",
    "tf.set_random_seed(123 + params['seed'])\n",
    "\n",
    "# Set server\n",
    "if params['optimizer'] == 'fedavg':\n",
    "  server = fedavg.Server(params, learner, dataset)  \n",
    "if params['optimizer'] == 'fedprox':\n",
    "  server = fedprox.Server(params, learner, dataset)\n",
    "if params['optimizer'] == 'grouprox':\n",
    "  server = grouprox.Server(params, learner, dataset)"
   ]
  },
  {
   "cell_type": "code",
   "execution_count": 4,
   "metadata": {},
   "outputs": [
    {
     "data": {
      "text/plain": [
       "'\\nTest Ternary Similarity\\n'"
      ]
     },
     "execution_count": 4,
     "metadata": {},
     "output_type": "execute_result"
    }
   ],
   "source": [
    "\"\"\"\n",
    "Test Ternary Similarity\n",
    "\"\"\"\n",
    "#x, y = server.test_ternary_cosine_similariy()"
   ]
  },
  {
   "cell_type": "code",
   "execution_count": 5,
   "metadata": {},
   "outputs": [
    {
     "data": {
      "text/plain": [
       "'\\nimport matplotlib.pyplot as plt\\nplt.figure(figsize=(7,7))\\nplt.scatter(x[:50000], y[:50000], linewidths=0.01, alpha=0.2, norm=True)\\nplt.show()\\n'"
      ]
     },
     "execution_count": 5,
     "metadata": {},
     "output_type": "execute_result"
    }
   ],
   "source": [
    "\"\"\"\n",
    "import matplotlib.pyplot as plt\n",
    "plt.figure(figsize=(7,7))\n",
    "plt.scatter(x[:50000], y[:50000], linewidths=0.01, alpha=0.2, norm=True)\n",
    "plt.show()\n",
    "\"\"\""
   ]
  },
  {
   "cell_type": "code",
   "execution_count": 6,
   "metadata": {
    "scrolled": true
   },
   "outputs": [
    {
     "name": "stdout",
     "output_type": "stream",
     "text": [
      "Training with 20 workers ---\n",
      "WARNING:tensorflow:From /home/lab/workspace/GrouProx/flearn/models/mnist/mclr.py:59: Variable.load (from tensorflow.python.ops.variables) is deprecated and will be removed in a future version.\n",
      "Instructions for updating:\n",
      "Prefer Variable.assign which has equivalent behavior in 2.X.\n",
      "At round 0 accuracy: 0.06593406593406594\n",
      "At round 0 training accuracy: 0.06867864556305138\n",
      "At round 0 training loss: 3.1687753601342856\n",
      "At round 0 Discrepancy: 0\n"
     ]
    },
    {
     "name": "stderr",
     "output_type": "stream",
     "text": [
      "Epoch:  70%|████████████████████████████████████████████████████▌                      | 14/20 [00:00<00:00, 130.78it/s]"
     ]
    },
    {
     "name": "stdout",
     "output_type": "stream",
     "text": [
      "gradient difference: 89.36836981188159\n"
     ]
    },
    {
     "name": "stderr",
     "output_type": "stream",
     "text": [
      "                                                                                                                        \r"
     ]
    },
    {
     "name": "stdout",
     "output_type": "stream",
     "text": [
      "At round 1 accuracy: 0.18057251390584725\n",
      "At round 1 training accuracy: 0.1800077841203944\n",
      "At round 1 training loss: 2.6941314326124637\n",
      "At round 1 Discrepancy: 0.8920369249763611\n"
     ]
    },
    {
     "name": "stderr",
     "output_type": "stream",
     "text": [
      "Epoch:   0%|                                                                                     | 0/20 [00:00<?, ?it/s]"
     ]
    },
    {
     "name": "stdout",
     "output_type": "stream",
     "text": [
      "gradient difference: 81.18244470516551\n"
     ]
    },
    {
     "name": "stderr",
     "output_type": "stream",
     "text": [
      "                                                                                                                        \r"
     ]
    },
    {
     "name": "stdout",
     "output_type": "stream",
     "text": [
      "At round 2 accuracy: 0.30443630443630443\n",
      "At round 2 training accuracy: 0.29795342501297356\n",
      "At round 2 training loss: 2.1997174288165047\n",
      "At round 2 Discrepancy: 0.5926337993857465\n"
     ]
    },
    {
     "name": "stderr",
     "output_type": "stream",
     "text": [
      "Epoch:   0%|                                                                                     | 0/20 [00:00<?, ?it/s]"
     ]
    },
    {
     "name": "stdout",
     "output_type": "stream",
     "text": [
      "gradient difference: 71.49671187\n"
     ]
    },
    {
     "name": "stderr",
     "output_type": "stream",
     "text": [
      "                                                                                                                        \r"
     ]
    },
    {
     "name": "stdout",
     "output_type": "stream",
     "text": [
      "At round 3 accuracy: 0.41948175281508615\n",
      "At round 3 training accuracy: 0.4177964452516866\n",
      "At round 3 training loss: 1.8527610258880247\n",
      "At round 3 Discrepancy: 0.6046117646273959\n"
     ]
    },
    {
     "name": "stderr",
     "output_type": "stream",
     "text": [
      "Epoch:   0%|                                                                                     | 0/20 [00:00<?, ?it/s]"
     ]
    },
    {
     "name": "stdout",
     "output_type": "stream",
     "text": [
      "gradient difference: 63.48578796628801\n"
     ]
    },
    {
     "name": "stderr",
     "output_type": "stream",
     "text": [
      "                                                                                                                        \r"
     ]
    },
    {
     "name": "stdout",
     "output_type": "stream",
     "text": [
      "At round 4 accuracy: 0.529643196309863\n",
      "At round 4 training accuracy: 0.5178548261546445\n",
      "At round 4 training loss: 1.466491747434871\n",
      "At round 4 Discrepancy: 0.5946272510726582\n"
     ]
    },
    {
     "name": "stderr",
     "output_type": "stream",
     "text": [
      "Epoch:   0%|                                                                                     | 0/20 [00:00<?, ?it/s]"
     ]
    },
    {
     "name": "stdout",
     "output_type": "stream",
     "text": [
      "gradient difference: 50.950716967944665\n"
     ]
    },
    {
     "name": "stderr",
     "output_type": "stream",
     "text": [
      "                                                                                                                        \r"
     ]
    },
    {
     "name": "stdout",
     "output_type": "stream",
     "text": [
      "At round 5 accuracy: 0.6161986161986162\n",
      "At round 5 training accuracy: 0.6114426569797613\n",
      "At round 5 training loss: 1.2559627419676909\n",
      "At round 5 Discrepancy: 0.4881683265746428\n"
     ]
    },
    {
     "name": "stderr",
     "output_type": "stream",
     "text": [
      "Epoch:  15%|███████████▌                                                                 | 3/20 [00:00<00:00, 23.19it/s]"
     ]
    },
    {
     "name": "stdout",
     "output_type": "stream",
     "text": [
      "gradient difference: 44.6963126363909\n"
     ]
    },
    {
     "name": "stderr",
     "output_type": "stream",
     "text": [
      "                                                                                                                        \r"
     ]
    },
    {
     "name": "stdout",
     "output_type": "stream",
     "text": [
      "At round 6 accuracy: 0.6178266178266179\n",
      "At round 6 training accuracy: 0.6132751686559419\n",
      "At round 6 training loss: 1.1902212337324938\n",
      "At round 6 Discrepancy: 0.5384851108804666\n"
     ]
    },
    {
     "name": "stderr",
     "output_type": "stream",
     "text": [
      "Epoch:   0%|                                                                                     | 0/20 [00:00<?, ?it/s]"
     ]
    },
    {
     "name": "stdout",
     "output_type": "stream",
     "text": [
      "gradient difference: 42.447393181943134\n"
     ]
    },
    {
     "name": "stderr",
     "output_type": "stream",
     "text": [
      "                                                                                                                        \r"
     ]
    },
    {
     "name": "stdout",
     "output_type": "stream",
     "text": [
      "At round 7 accuracy: 0.6518789852123186\n",
      "At round 7 training accuracy: 0.6498929683445771\n",
      "At round 7 training loss: 1.1052364039973785\n",
      "At round 7 Discrepancy: 0.4622390661682756\n"
     ]
    },
    {
     "name": "stderr",
     "output_type": "stream",
     "text": [
      "Epoch:   0%|                                                                                     | 0/20 [00:00<?, ?it/s]"
     ]
    },
    {
     "name": "stdout",
     "output_type": "stream",
     "text": [
      "gradient difference: 38.86159471355626\n"
     ]
    },
    {
     "name": "stderr",
     "output_type": "stream",
     "text": [
      "                                                                                                                        \r"
     ]
    },
    {
     "name": "stdout",
     "output_type": "stream",
     "text": [
      "At round 8 accuracy: 0.6860670194003528\n",
      "At round 8 training accuracy: 0.6879702906071614\n",
      "At round 8 training loss: 1.0171384052508794\n",
      "At round 8 Discrepancy: 0.6327273567053734\n"
     ]
    },
    {
     "name": "stderr",
     "output_type": "stream",
     "text": [
      "Epoch:  45%|██████████████████████████████████▋                                          | 9/20 [00:00<00:00, 80.33it/s]"
     ]
    },
    {
     "name": "stdout",
     "output_type": "stream",
     "text": [
      "gradient difference: 35.715107559277065\n"
     ]
    },
    {
     "name": "stderr",
     "output_type": "stream",
     "text": [
      "                                                                                                                        \r"
     ]
    },
    {
     "name": "stdout",
     "output_type": "stream",
     "text": [
      "At round 9 accuracy: 0.7104870438203772\n",
      "At round 9 training accuracy: 0.714290347690711\n",
      "At round 9 training loss: 0.9684700258158352\n",
      "At round 9 Discrepancy: 0.49687245313119827\n"
     ]
    },
    {
     "name": "stderr",
     "output_type": "stream",
     "text": [
      "Epoch:   0%|                                                                                     | 0/20 [00:00<?, ?it/s]"
     ]
    },
    {
     "name": "stdout",
     "output_type": "stream",
     "text": [
      "gradient difference: 34.85067041095135\n"
     ]
    },
    {
     "name": "stderr",
     "output_type": "stream",
     "text": [
      "                                                                                                                        \r"
     ]
    },
    {
     "name": "stdout",
     "output_type": "stream",
     "text": [
      "At round 10 accuracy: 0.7233753900420568\n",
      "At round 10 training accuracy: 0.7264206019719772\n",
      "At round 10 training loss: 0.9248112696232627\n",
      "At round 10 Discrepancy: 0.5016006288371346\n"
     ]
    },
    {
     "name": "stderr",
     "output_type": "stream",
     "text": [
      "Epoch:   0%|                                                                                     | 0/20 [00:00<?, ?it/s]"
     ]
    },
    {
     "name": "stdout",
     "output_type": "stream",
     "text": [
      "gradient difference: 34.06421515326608\n"
     ]
    },
    {
     "name": "stderr",
     "output_type": "stream",
     "text": [
      "                                                                                                                        \r"
     ]
    },
    {
     "name": "stdout",
     "output_type": "stream",
     "text": [
      "At round 11 accuracy: 0.7741147741147741\n",
      "At round 11 training accuracy: 0.7740983393876492\n",
      "At round 11 training loss: 0.8026552207970467\n",
      "At round 11 Discrepancy: 0.44367104275410363\n"
     ]
    },
    {
     "name": "stderr",
     "output_type": "stream",
     "text": [
      "Epoch:   0%|                                                                                     | 0/20 [00:00<?, ?it/s]"
     ]
    },
    {
     "name": "stdout",
     "output_type": "stream",
     "text": [
      "gradient difference: 29.237592804206066\n"
     ]
    },
    {
     "name": "stderr",
     "output_type": "stream",
     "text": [
      "                                                                                                                        \r"
     ]
    },
    {
     "name": "stdout",
     "output_type": "stream",
     "text": [
      "At round 12 accuracy: 0.7971781305114638\n",
      "At round 12 training accuracy: 0.8020400882200311\n",
      "At round 12 training loss: 0.7226165006414238\n",
      "At round 12 Discrepancy: 0.38283713768856503\n"
     ]
    },
    {
     "name": "stderr",
     "output_type": "stream",
     "text": [
      "Epoch:   0%|                                                                                     | 0/20 [00:00<?, ?it/s]"
     ]
    },
    {
     "name": "stdout",
     "output_type": "stream",
     "text": [
      "gradient difference: 25.871725969561897\n"
     ]
    },
    {
     "name": "stderr",
     "output_type": "stream",
     "text": [
      "                                                                                                                        \r"
     ]
    },
    {
     "name": "stdout",
     "output_type": "stream",
     "text": [
      "At round 13 accuracy: 0.7950074616741284\n",
      "At round 13 training accuracy: 0.7968182407887908\n",
      "At round 13 training loss: 0.7251159935898703\n",
      "At round 13 Discrepancy: 0.43704353428764947\n"
     ]
    },
    {
     "name": "stderr",
     "output_type": "stream",
     "text": [
      "Epoch:   0%|                                                                                     | 0/20 [00:00<?, ?it/s]"
     ]
    },
    {
     "name": "stdout",
     "output_type": "stream",
     "text": [
      "gradient difference: 26.019670407986027\n"
     ]
    },
    {
     "name": "stderr",
     "output_type": "stream",
     "text": [
      "                                                                                                                        \r"
     ]
    },
    {
     "name": "stdout",
     "output_type": "stream",
     "text": [
      "At round 14 accuracy: 0.787681454348121\n",
      "At round 14 training accuracy: 0.7903314737934614\n",
      "At round 14 training loss: 0.7158767611540363\n",
      "At round 14 Discrepancy: 0.4570632731573848\n"
     ]
    },
    {
     "name": "stderr",
     "output_type": "stream",
     "text": [
      "Epoch:  40%|██████████████████████████████▊                                              | 8/20 [00:00<00:00, 79.01it/s]"
     ]
    },
    {
     "name": "stdout",
     "output_type": "stream",
     "text": [
      "gradient difference: 25.97329665611172\n"
     ]
    },
    {
     "name": "stderr",
     "output_type": "stream",
     "text": [
      "                                                                                                                        \r"
     ]
    },
    {
     "name": "stdout",
     "output_type": "stream",
     "text": [
      "At round 15 accuracy: 0.7903947903947904\n",
      "At round 15 training accuracy: 0.7913531395952257\n",
      "At round 15 training loss: 0.699994277151591\n",
      "At round 15 Discrepancy: 0.4415564363238686\n"
     ]
    },
    {
     "name": "stderr",
     "output_type": "stream",
     "text": [
      "Epoch:   0%|                                                                                     | 0/20 [00:00<?, ?it/s]"
     ]
    },
    {
     "name": "stdout",
     "output_type": "stream",
     "text": [
      "gradient difference: 24.44082280736236\n"
     ]
    },
    {
     "name": "stderr",
     "output_type": "stream",
     "text": [
      "                                                                                                                        \r"
     ]
    },
    {
     "name": "stdout",
     "output_type": "stream",
     "text": [
      "At round 16 accuracy: 0.8130511463844797\n",
      "At round 16 training accuracy: 0.8165704462895693\n",
      "At round 16 training loss: 0.6630134819696266\n",
      "At round 16 Discrepancy: 0.4207490908930258\n"
     ]
    },
    {
     "name": "stderr",
     "output_type": "stream",
     "text": [
      "Epoch:  85%|███████████████████████████████████████████████████████████████▊           | 17/20 [00:00<00:00, 167.88it/s]"
     ]
    },
    {
     "name": "stdout",
     "output_type": "stream",
     "text": [
      "gradient difference: 22.984218608571666\n"
     ]
    },
    {
     "name": "stderr",
     "output_type": "stream",
     "text": [
      "                                                                                                                        \r"
     ]
    },
    {
     "name": "stdout",
     "output_type": "stream",
     "text": [
      "At round 17 accuracy: 0.8198344865011532\n",
      "At round 17 training accuracy: 0.8203489880643487\n",
      "At round 17 training loss: 0.6408791785187861\n",
      "At round 17 Discrepancy: 0.41533551446443734\n"
     ]
    },
    {
     "name": "stderr",
     "output_type": "stream",
     "text": [
      "Epoch:   0%|                                                                                     | 0/20 [00:00<?, ?it/s]"
     ]
    },
    {
     "name": "stdout",
     "output_type": "stream",
     "text": [
      "gradient difference: 22.618134835178612\n"
     ]
    },
    {
     "name": "stderr",
     "output_type": "stream",
     "text": [
      "                                                                                                                        \r"
     ]
    },
    {
     "name": "stdout",
     "output_type": "stream",
     "text": [
      "At round 18 accuracy: 0.7898521231854565\n",
      "At round 18 training accuracy: 0.7900720031136481\n",
      "At round 18 training loss: 0.6737163407973593\n",
      "At round 18 Discrepancy: 0.3879115438296882\n"
     ]
    },
    {
     "name": "stderr",
     "output_type": "stream",
     "text": [
      "Epoch:  60%|█████████████████████████████████████████████                              | 12/20 [00:00<00:00, 115.54it/s]"
     ]
    },
    {
     "name": "stdout",
     "output_type": "stream",
     "text": [
      "gradient difference: 24.042701698360776\n"
     ]
    },
    {
     "name": "stderr",
     "output_type": "stream",
     "text": [
      "                                                                                                                        \r"
     ]
    },
    {
     "name": "stdout",
     "output_type": "stream",
     "text": [
      "At round 19 accuracy: 0.7935151268484602\n",
      "At round 19 training accuracy: 0.7936072911261027\n",
      "At round 19 training loss: 0.657328776941989\n",
      "At round 19 Discrepancy: 0.38354001651224595\n"
     ]
    },
    {
     "name": "stderr",
     "output_type": "stream",
     "text": [
      "Epoch:   0%|                                                                                     | 0/20 [00:00<?, ?it/s]"
     ]
    },
    {
     "name": "stdout",
     "output_type": "stream",
     "text": [
      "gradient difference: 23.497056740327995\n"
     ]
    },
    {
     "name": "stderr",
     "output_type": "stream",
     "text": [
      "                                                                                                                        \r"
     ]
    },
    {
     "name": "stdout",
     "output_type": "stream",
     "text": [
      "At round 20 accuracy: 0.8107448107448108\n",
      "At round 20 training accuracy: 0.8134405812143228\n",
      "At round 20 training loss: 0.6352539656808978\n",
      "At round 20 Discrepancy: 0.4971484725449965\n"
     ]
    },
    {
     "name": "stderr",
     "output_type": "stream",
     "text": [
      "Epoch:   0%|                                                                                     | 0/20 [00:00<?, ?it/s]"
     ]
    },
    {
     "name": "stdout",
     "output_type": "stream",
     "text": [
      "gradient difference: 22.935616525437638\n"
     ]
    },
    {
     "name": "stderr",
     "output_type": "stream",
     "text": [
      "                                                                                                                        \r"
     ]
    },
    {
     "name": "stdout",
     "output_type": "stream",
     "text": [
      "At round 21 accuracy: 0.7730294396961064\n",
      "At round 21 training accuracy: 0.7783309548521017\n",
      "At round 21 training loss: 0.6952957273371514\n",
      "At round 21 Discrepancy: 0.4335432937296533\n"
     ]
    },
    {
     "name": "stderr",
     "output_type": "stream",
     "text": [
      "Epoch:  15%|███████████▌                                                                 | 3/20 [00:00<00:00, 27.08it/s]"
     ]
    },
    {
     "name": "stdout",
     "output_type": "stream",
     "text": [
      "gradient difference: 26.05048558783141\n"
     ]
    },
    {
     "name": "stderr",
     "output_type": "stream",
     "text": [
      "                                                                                                                        \r"
     ]
    },
    {
     "name": "stdout",
     "output_type": "stream",
     "text": [
      "At round 22 accuracy: 0.7857821191154525\n",
      "At round 22 training accuracy: 0.7896017125064868\n",
      "At round 22 training loss: 0.6593962077210408\n",
      "At round 22 Discrepancy: 0.43061407228013177\n"
     ]
    },
    {
     "name": "stderr",
     "output_type": "stream",
     "text": [
      "Epoch:  50%|██████████████████████████████████████                                      | 10/20 [00:00<00:00, 91.80it/s]"
     ]
    },
    {
     "name": "stdout",
     "output_type": "stream",
     "text": [
      "gradient difference: 24.598875008937174\n"
     ]
    },
    {
     "name": "stderr",
     "output_type": "stream",
     "text": [
      "                                                                                                                        \r"
     ]
    },
    {
     "name": "stdout",
     "output_type": "stream",
     "text": [
      "At round 23 accuracy: 0.8138651471984806\n",
      "At round 23 training accuracy: 0.812451349247535\n",
      "At round 23 training loss: 0.6058343655437514\n",
      "At round 23 Discrepancy: 0.43925872599311894\n"
     ]
    },
    {
     "name": "stderr",
     "output_type": "stream",
     "text": [
      "Epoch:   0%|                                                                                     | 0/20 [00:00<?, ?it/s]"
     ]
    },
    {
     "name": "stdout",
     "output_type": "stream",
     "text": [
      "gradient difference: 21.755607973316952\n"
     ]
    },
    {
     "name": "stderr",
     "output_type": "stream",
     "text": [
      "                                                                                                                        \r"
     ]
    },
    {
     "name": "stdout",
     "output_type": "stream",
     "text": [
      "At round 24 accuracy: 0.8385565052231719\n",
      "At round 24 training accuracy: 0.8421283082511676\n",
      "At round 24 training loss: 0.5650967836326116\n",
      "At round 24 Discrepancy: 0.3730589439724125\n"
     ]
    },
    {
     "name": "stderr",
     "output_type": "stream",
     "text": [
      "Epoch:  10%|███████▋                                                                     | 2/20 [00:00<00:00, 19.24it/s]"
     ]
    },
    {
     "name": "stdout",
     "output_type": "stream",
     "text": [
      "gradient difference: 19.696626895652464\n"
     ]
    },
    {
     "name": "stderr",
     "output_type": "stream",
     "text": [
      "                                                                                                                        \r"
     ]
    },
    {
     "name": "stdout",
     "output_type": "stream",
     "text": [
      "At round 25 accuracy: 0.855650522317189\n",
      "At round 25 training accuracy: 0.8592209392838609\n",
      "At round 25 training loss: 0.5109800437811354\n",
      "At round 25 Discrepancy: 0.3780254990374581\n"
     ]
    },
    {
     "name": "stderr",
     "output_type": "stream",
     "text": [
      "Epoch:   0%|                                                                                     | 0/20 [00:00<?, ?it/s]"
     ]
    },
    {
     "name": "stdout",
     "output_type": "stream",
     "text": [
      "gradient difference: 17.531931120708865\n"
     ]
    },
    {
     "name": "stderr",
     "output_type": "stream",
     "text": [
      "                                                                                                                        \r"
     ]
    },
    {
     "name": "stdout",
     "output_type": "stream",
     "text": [
      "At round 26 accuracy: 0.855379188712522\n",
      "At round 26 training accuracy: 0.8571776076803321\n",
      "At round 26 training loss: 0.5133234607517336\n",
      "At round 26 Discrepancy: 0.37108817926852194\n"
     ]
    },
    {
     "name": "stderr",
     "output_type": "stream",
     "text": [
      "Epoch:   0%|                                                                                     | 0/20 [00:00<?, ?it/s]"
     ]
    },
    {
     "name": "stdout",
     "output_type": "stream",
     "text": [
      "gradient difference: 17.74039600167747\n"
     ]
    },
    {
     "name": "stderr",
     "output_type": "stream",
     "text": [
      "                                                                                                                        \r"
     ]
    },
    {
     "name": "stdout",
     "output_type": "stream",
     "text": [
      "At round 27 accuracy: 0.844661511328178\n",
      "At round 27 training accuracy: 0.8490691489361702\n",
      "At round 27 training loss: 0.5361666874531135\n",
      "At round 27 Discrepancy: 0.395241716254677\n"
     ]
    },
    {
     "name": "stderr",
     "output_type": "stream",
     "text": [
      "Epoch:  35%|██████████████████████████▉                                                  | 7/20 [00:00<00:00, 65.67it/s]"
     ]
    },
    {
     "name": "stdout",
     "output_type": "stream",
     "text": [
      "gradient difference: 18.396182433315413\n"
     ]
    },
    {
     "name": "stderr",
     "output_type": "stream",
     "text": [
      "                                                                                                                        \r"
     ]
    },
    {
     "name": "stdout",
     "output_type": "stream",
     "text": [
      "At round 28 accuracy: 0.8564645231311898\n",
      "At round 28 training accuracy: 0.8615075246497146\n",
      "At round 28 training loss: 0.49410804752386106\n",
      "At round 28 Discrepancy: 0.377445633778131\n"
     ]
    },
    {
     "name": "stderr",
     "output_type": "stream",
     "text": [
      "Epoch:  75%|████████████████████████████████████████████████████████▎                  | 15/20 [00:00<00:00, 146.79it/s]"
     ]
    },
    {
     "name": "stdout",
     "output_type": "stream",
     "text": [
      "gradient difference: 17.02411558706485\n"
     ]
    },
    {
     "name": "stderr",
     "output_type": "stream",
     "text": [
      "                                                                                                                        \r"
     ]
    },
    {
     "name": "stdout",
     "output_type": "stream",
     "text": [
      "At round 29 accuracy: 0.8633835300501967\n",
      "At round 29 training accuracy: 0.8663239491437468\n",
      "At round 29 training loss: 0.4820137490471511\n",
      "At round 29 Discrepancy: 0.35105626779833726\n"
     ]
    },
    {
     "name": "stderr",
     "output_type": "stream",
     "text": [
      "Epoch:  35%|██████████████████████████▉                                                  | 7/20 [00:00<00:00, 64.08it/s]"
     ]
    },
    {
     "name": "stdout",
     "output_type": "stream",
     "text": [
      "gradient difference: 16.64943858518234\n"
     ]
    },
    {
     "name": "stderr",
     "output_type": "stream",
     "text": [
      "                                                                                                                        \r"
     ]
    },
    {
     "name": "stdout",
     "output_type": "stream",
     "text": [
      "At round 30 accuracy: 0.857685524352191\n",
      "At round 30 training accuracy: 0.8626427088738973\n",
      "At round 30 training loss: 0.4849680609266227\n",
      "At round 30 Discrepancy: 0.3062142999335131\n"
     ]
    },
    {
     "name": "stderr",
     "output_type": "stream",
     "text": [
      "Epoch:  10%|███████▋                                                                     | 2/20 [00:00<00:00, 19.54it/s]"
     ]
    },
    {
     "name": "stdout",
     "output_type": "stream",
     "text": [
      "gradient difference: 16.81593659441586\n"
     ]
    },
    {
     "name": "stderr",
     "output_type": "stream",
     "text": [
      "                                                                                                                        \r"
     ]
    },
    {
     "name": "stdout",
     "output_type": "stream",
     "text": [
      "At round 31 accuracy: 0.8572785239451907\n",
      "At round 31 training accuracy: 0.8581344058121432\n",
      "At round 31 training loss: 0.49276191643105755\n",
      "At round 31 Discrepancy: 0.32929132360699287\n"
     ]
    },
    {
     "name": "stderr",
     "output_type": "stream",
     "text": [
      "Epoch:   0%|                                                                                     | 0/20 [00:00<?, ?it/s]"
     ]
    },
    {
     "name": "stdout",
     "output_type": "stream",
     "text": [
      "gradient difference: 17.25268149724412\n"
     ]
    },
    {
     "name": "stderr",
     "output_type": "stream",
     "text": [
      "                                                                                                                        \r"
     ]
    },
    {
     "name": "stdout",
     "output_type": "stream",
     "text": [
      "At round 32 accuracy: 0.8400488400488401\n",
      "At round 32 training accuracy: 0.8419823559937727\n",
      "At round 32 training loss: 0.5302392837756276\n",
      "At round 32 Discrepancy: 0.524825994731581\n"
     ]
    },
    {
     "name": "stderr",
     "output_type": "stream",
     "text": [
      "Epoch:   0%|                                                                                     | 0/20 [00:00<?, ?it/s]"
     ]
    },
    {
     "name": "stdout",
     "output_type": "stream",
     "text": [
      "gradient difference: 18.909247996206503\n"
     ]
    },
    {
     "name": "stderr",
     "output_type": "stream",
     "text": [
      "                                                                                                                        \r"
     ]
    },
    {
     "name": "stdout",
     "output_type": "stream",
     "text": [
      "At round 33 accuracy: 0.8304164970831638\n",
      "At round 33 training accuracy: 0.8333387389724961\n",
      "At round 33 training loss: 0.5381139080733333\n",
      "At round 33 Discrepancy: 0.38409852447564763\n"
     ]
    },
    {
     "name": "stderr",
     "output_type": "stream",
     "text": [
      "Epoch:  20%|███████████████▍                                                             | 4/20 [00:00<00:00, 31.16it/s]"
     ]
    },
    {
     "name": "stdout",
     "output_type": "stream",
     "text": [
      "gradient difference: 19.627864926132624\n"
     ]
    },
    {
     "name": "stderr",
     "output_type": "stream",
     "text": [
      "                                                                                                                        \r"
     ]
    },
    {
     "name": "stdout",
     "output_type": "stream",
     "text": [
      "At round 34 accuracy: 0.8483245149911817\n",
      "At round 34 training accuracy: 0.8518746756616502\n",
      "At round 34 training loss: 0.5084798283127442\n",
      "At round 34 Discrepancy: 0.38339704464676483\n"
     ]
    },
    {
     "name": "stderr",
     "output_type": "stream",
     "text": [
      "Epoch:   5%|███▊                                                                         | 1/20 [00:00<00:02,  9.06it/s]"
     ]
    },
    {
     "name": "stdout",
     "output_type": "stream",
     "text": [
      "gradient difference: 18.369262525339316\n"
     ]
    },
    {
     "name": "stderr",
     "output_type": "stream",
     "text": [
      "                                                                                                                        \r"
     ]
    },
    {
     "name": "stdout",
     "output_type": "stream",
     "text": [
      "At round 35 accuracy: 0.8479175145841813\n",
      "At round 35 training accuracy: 0.8512259989621173\n",
      "At round 35 training loss: 0.5009416149135101\n",
      "At round 35 Discrepancy: 0.33186127033411106\n"
     ]
    },
    {
     "name": "stderr",
     "output_type": "stream",
     "text": [
      "Epoch:  50%|██████████████████████████████████████                                      | 10/20 [00:00<00:00, 98.50it/s]"
     ]
    },
    {
     "name": "stdout",
     "output_type": "stream",
     "text": [
      "gradient difference: 18.189541813547457\n"
     ]
    },
    {
     "name": "stderr",
     "output_type": "stream",
     "text": [
      "                                                                                                                        \r"
     ]
    },
    {
     "name": "stdout",
     "output_type": "stream",
     "text": [
      "At round 36 accuracy: 0.8548365215031881\n",
      "At round 36 training accuracy: 0.8580208873897249\n",
      "At round 36 training loss: 0.47818988820667935\n",
      "At round 36 Discrepancy: 0.36625853508958445\n"
     ]
    },
    {
     "name": "stderr",
     "output_type": "stream",
     "text": [
      "Epoch:   0%|                                                                                     | 0/20 [00:00<?, ?it/s]"
     ]
    },
    {
     "name": "stdout",
     "output_type": "stream",
     "text": [
      "gradient difference: 17.430057254528595\n"
     ]
    },
    {
     "name": "stderr",
     "output_type": "stream",
     "text": [
      "                                                                                                                        \r"
     ]
    },
    {
     "name": "stdout",
     "output_type": "stream",
     "text": [
      "At round 37 accuracy: 0.8418125084791751\n",
      "At round 37 training accuracy: 0.8441554229372081\n",
      "At round 37 training loss: 0.48882420541407234\n",
      "At round 37 Discrepancy: 0.34684757140656425\n"
     ]
    },
    {
     "name": "stderr",
     "output_type": "stream",
     "text": [
      "Epoch:  30%|███████████████████████                                                      | 6/20 [00:00<00:00, 59.42it/s]"
     ]
    },
    {
     "name": "stdout",
     "output_type": "stream",
     "text": [
      "gradient difference: 17.983462071455644\n"
     ]
    },
    {
     "name": "stderr",
     "output_type": "stream",
     "text": [
      "                                                                                                                        \r"
     ]
    },
    {
     "name": "stdout",
     "output_type": "stream",
     "text": [
      "At round 38 accuracy: 0.8670465337132004\n",
      "At round 38 training accuracy: 0.8698592371562014\n",
      "At round 38 training loss: 0.4483582263393883\n",
      "At round 38 Discrepancy: 0.3559929465020092\n"
     ]
    },
    {
     "name": "stderr",
     "output_type": "stream",
     "text": [
      "Epoch:  40%|██████████████████████████████▊                                              | 8/20 [00:00<00:00, 77.98it/s]"
     ]
    },
    {
     "name": "stdout",
     "output_type": "stream",
     "text": [
      "gradient difference: 15.97329509240746\n"
     ]
    },
    {
     "name": "stderr",
     "output_type": "stream",
     "text": [
      "                                                                                                                        \r"
     ]
    },
    {
     "name": "stdout",
     "output_type": "stream",
     "text": [
      "At round 39 accuracy: 0.8772215438882106\n",
      "At round 39 training accuracy: 0.8784866372599897\n",
      "At round 39 training loss: 0.43254808699969516\n",
      "At round 39 Discrepancy: 0.33637608548433817\n"
     ]
    },
    {
     "name": "stderr",
     "output_type": "stream",
     "text": [
      "Epoch:  25%|███████████████████▎                                                         | 5/20 [00:00<00:00, 49.42it/s]"
     ]
    },
    {
     "name": "stdout",
     "output_type": "stream",
     "text": [
      "gradient difference: 15.439629344243306\n"
     ]
    },
    {
     "name": "stderr",
     "output_type": "stream",
     "text": [
      "                                                                                                                        \r"
     ]
    },
    {
     "name": "stdout",
     "output_type": "stream",
     "text": [
      "At round 40 accuracy: 0.8768145434812101\n",
      "At round 40 training accuracy: 0.8801245459263103\n",
      "At round 40 training loss: 0.42962801766084757\n",
      "At round 40 Discrepancy: 0.33900655938475416\n"
     ]
    },
    {
     "name": "stderr",
     "output_type": "stream",
     "text": [
      "Epoch:   0%|                                                                                     | 0/20 [00:00<?, ?it/s]"
     ]
    },
    {
     "name": "stdout",
     "output_type": "stream",
     "text": [
      "gradient difference: 15.227246790968497\n"
     ]
    },
    {
     "name": "stderr",
     "output_type": "stream",
     "text": [
      "                                                                                                                        \r"
     ]
    },
    {
     "name": "stdout",
     "output_type": "stream",
     "text": [
      "At round 41 accuracy: 0.877628544295211\n",
      "At round 41 training accuracy: 0.8819732745199792\n",
      "At round 41 training loss: 0.4245421930629355\n",
      "At round 41 Discrepancy: 0.3460428761755631\n"
     ]
    },
    {
     "name": "stderr",
     "output_type": "stream",
     "text": [
      "Epoch:   0%|                                                                                     | 0/20 [00:00<?, ?it/s]"
     ]
    },
    {
     "name": "stdout",
     "output_type": "stream",
     "text": [
      "gradient difference: 15.07513560111563\n"
     ]
    },
    {
     "name": "stderr",
     "output_type": "stream",
     "text": [
      "                                                                                                                        \r"
     ]
    },
    {
     "name": "stdout",
     "output_type": "stream",
     "text": [
      "At round 42 accuracy: 0.8802062135395469\n",
      "At round 42 training accuracy: 0.8838220031136481\n",
      "At round 42 training loss: 0.41745266508772344\n",
      "At round 42 Discrepancy: 0.41003282208912034\n"
     ]
    },
    {
     "name": "stderr",
     "output_type": "stream",
     "text": [
      "Epoch:   0%|                                                                                     | 0/20 [00:00<?, ?it/s]"
     ]
    },
    {
     "name": "stdout",
     "output_type": "stream",
     "text": [
      "gradient difference: 15.060267969987493\n"
     ]
    },
    {
     "name": "stderr",
     "output_type": "stream",
     "text": [
      "                                                                                                                        \r"
     ]
    },
    {
     "name": "stdout",
     "output_type": "stream",
     "text": [
      "At round 43 accuracy: 0.8788495455162122\n",
      "At round 43 training accuracy: 0.8827516865594188\n",
      "At round 43 training loss: 0.42162925435985776\n",
      "At round 43 Discrepancy: 0.3606599920583285\n"
     ]
    },
    {
     "name": "stderr",
     "output_type": "stream",
     "text": [
      "Epoch:   0%|                                                                                     | 0/20 [00:00<?, ?it/s]"
     ]
    },
    {
     "name": "stdout",
     "output_type": "stream",
     "text": [
      "gradient difference: 15.036981702787207\n"
     ]
    },
    {
     "name": "stderr",
     "output_type": "stream",
     "text": [
      "                                                                                                                        \r"
     ]
    },
    {
     "name": "stdout",
     "output_type": "stream",
     "text": [
      "At round 44 accuracy: 0.8810202143535477\n",
      "At round 44 training accuracy: 0.8855734302023871\n",
      "At round 44 training loss: 0.41524980306266757\n",
      "At round 44 Discrepancy: 0.3226727759943885\n"
     ]
    },
    {
     "name": "stderr",
     "output_type": "stream",
     "text": [
      "Epoch:   0%|                                                                                     | 0/20 [00:00<?, ?it/s]"
     ]
    },
    {
     "name": "stdout",
     "output_type": "stream",
     "text": [
      "gradient difference: 14.832618768095386\n"
     ]
    },
    {
     "name": "stderr",
     "output_type": "stream",
     "text": [
      "                                                                                                                        \r"
     ]
    },
    {
     "name": "stdout",
     "output_type": "stream",
     "text": [
      "At round 45 accuracy: 0.8749152082485416\n",
      "At round 45 training accuracy: 0.877854177477945\n",
      "At round 45 training loss: 0.4234812228078217\n",
      "At round 45 Discrepancy: 0.32423176152024785\n"
     ]
    },
    {
     "name": "stderr",
     "output_type": "stream",
     "text": [
      "Epoch:   0%|                                                                                     | 0/20 [00:00<?, ?it/s]"
     ]
    },
    {
     "name": "stdout",
     "output_type": "stream",
     "text": [
      "gradient difference: 15.006927182823802\n"
     ]
    },
    {
     "name": "stderr",
     "output_type": "stream",
     "text": [
      "                                                                                                                        \r"
     ]
    },
    {
     "name": "stdout",
     "output_type": "stream",
     "text": [
      "At round 46 accuracy: 0.8781712115045448\n",
      "At round 46 training accuracy: 0.8836922677737415\n",
      "At round 46 training loss: 0.41658135333118285\n",
      "At round 46 Discrepancy: 0.36496368960467257\n"
     ]
    },
    {
     "name": "stderr",
     "output_type": "stream",
     "text": [
      "Epoch:   0%|                                                                                     | 0/20 [00:00<?, ?it/s]"
     ]
    },
    {
     "name": "stdout",
     "output_type": "stream",
     "text": [
      "gradient difference: 14.484743753923476\n"
     ]
    },
    {
     "name": "stderr",
     "output_type": "stream",
     "text": [
      "                                                                                                                        \r"
     ]
    },
    {
     "name": "stdout",
     "output_type": "stream",
     "text": [
      "At round 47 accuracy: 0.8708452041785375\n",
      "At round 47 training accuracy: 0.87790282823041\n",
      "At round 47 training loss: 0.4226843249351806\n",
      "At round 47 Discrepancy: 0.3203161776285143\n"
     ]
    },
    {
     "name": "stderr",
     "output_type": "stream",
     "text": [
      "Epoch:   0%|                                                                                     | 0/20 [00:00<?, ?it/s]"
     ]
    },
    {
     "name": "stdout",
     "output_type": "stream",
     "text": [
      "gradient difference: 14.577836308781484\n"
     ]
    },
    {
     "name": "stderr",
     "output_type": "stream",
     "text": [
      "                                                                                                                        \r"
     ]
    },
    {
     "name": "stdout",
     "output_type": "stream",
     "text": [
      "At round 48 accuracy: 0.864061864061864\n",
      "At round 48 training accuracy: 0.8697619356512714\n",
      "At round 48 training loss: 0.44585729231917165\n",
      "At round 48 Discrepancy: 0.3661914667058067\n"
     ]
    },
    {
     "name": "stderr",
     "output_type": "stream",
     "text": [
      "Epoch:   0%|                                                                                     | 0/20 [00:00<?, ?it/s]"
     ]
    },
    {
     "name": "stdout",
     "output_type": "stream",
     "text": [
      "gradient difference: 15.271523499185063\n"
     ]
    },
    {
     "name": "stderr",
     "output_type": "stream",
     "text": [
      "                                                                                                                        \r"
     ]
    },
    {
     "name": "stdout",
     "output_type": "stream",
     "text": [
      "At round 49 accuracy: 0.8692172025505359\n",
      "At round 49 training accuracy: 0.8713836274001038\n",
      "At round 49 training loss: 0.43863385767769214\n",
      "At round 49 Discrepancy: 0.40316873192938063\n"
     ]
    },
    {
     "name": "stderr",
     "output_type": "stream",
     "text": [
      "Epoch:  35%|██████████████████████████▉                                                  | 7/20 [00:00<00:00, 67.09it/s]"
     ]
    },
    {
     "name": "stdout",
     "output_type": "stream",
     "text": [
      "gradient difference: 15.380497979607945\n"
     ]
    },
    {
     "name": "stderr",
     "output_type": "stream",
     "text": [
      "                                                                                                                        \r"
     ]
    },
    {
     "name": "stdout",
     "output_type": "stream",
     "text": [
      "At round 50 accuracy: 0.8808845475512143\n",
      "At round 50 training accuracy: 0.8836598339387649\n",
      "At round 50 training loss: 0.41991169189516653\n",
      "At round 50 Discrepancy: 0.3694852512077416\n"
     ]
    },
    {
     "name": "stderr",
     "output_type": "stream",
     "text": [
      "Epoch:  30%|███████████████████████                                                      | 6/20 [00:00<00:00, 48.29it/s]"
     ]
    },
    {
     "name": "stdout",
     "output_type": "stream",
     "text": [
      "gradient difference: 14.67518589791934\n"
     ]
    },
    {
     "name": "stderr",
     "output_type": "stream",
     "text": [
      "                                                                                                                        \r"
     ]
    },
    {
     "name": "stdout",
     "output_type": "stream",
     "text": [
      "At round 51 accuracy: 0.8829195495862162\n",
      "At round 51 training accuracy: 0.8861248053969901\n",
      "At round 51 training loss: 0.41244390650492135\n",
      "At round 51 Discrepancy: 0.3261529926884093\n"
     ]
    },
    {
     "name": "stderr",
     "output_type": "stream",
     "text": [
      "Epoch:  15%|███████████▌                                                                 | 3/20 [00:00<00:00, 27.28it/s]"
     ]
    },
    {
     "name": "stdout",
     "output_type": "stream",
     "text": [
      "gradient difference: 14.552103467792053\n"
     ]
    },
    {
     "name": "stderr",
     "output_type": "stream",
     "text": [
      "                                                                                                                        \r"
     ]
    },
    {
     "name": "stdout",
     "output_type": "stream",
     "text": [
      "At round 52 accuracy: 0.8841405508072174\n",
      "At round 52 training accuracy: 0.8843247275557862\n",
      "At round 52 training loss: 0.40886214935431253\n",
      "At round 52 Discrepancy: 0.3395278138551473\n"
     ]
    },
    {
     "name": "stderr",
     "output_type": "stream",
     "text": [
      "Epoch:   0%|                                                                                     | 0/20 [00:00<?, ?it/s]"
     ]
    },
    {
     "name": "stdout",
     "output_type": "stream",
     "text": [
      "gradient difference: 14.537032043468798\n"
     ]
    },
    {
     "name": "stderr",
     "output_type": "stream",
     "text": [
      "                                                                                                                        \r"
     ]
    },
    {
     "name": "stdout",
     "output_type": "stream",
     "text": [
      "At round 53 accuracy: 0.8787138787138787\n",
      "At round 53 training accuracy: 0.880254281266217\n",
      "At round 53 training loss: 0.4154923252576984\n",
      "At round 53 Discrepancy: 0.3688427335729929\n"
     ]
    },
    {
     "name": "stderr",
     "output_type": "stream",
     "text": [
      "Epoch:   0%|                                                                                     | 0/20 [00:00<?, ?it/s]"
     ]
    },
    {
     "name": "stdout",
     "output_type": "stream",
     "text": [
      "gradient difference: 14.27354620725322\n"
     ]
    },
    {
     "name": "stderr",
     "output_type": "stream",
     "text": [
      "                                                                                                                        \r"
     ]
    },
    {
     "name": "stdout",
     "output_type": "stream",
     "text": [
      "At round 54 accuracy: 0.8761362094695428\n",
      "At round 54 training accuracy: 0.8794272184743124\n",
      "At round 54 training loss: 0.41812882015739433\n",
      "At round 54 Discrepancy: 0.34224595309019035\n"
     ]
    },
    {
     "name": "stderr",
     "output_type": "stream",
     "text": [
      "                                                                                                                        "
     ]
    },
    {
     "name": "stdout",
     "output_type": "stream",
     "text": [
      "gradient difference: 13.946463633528051\n"
     ]
    },
    {
     "name": "stderr",
     "output_type": "stream",
     "text": [
      "                                                                                                                        \r"
     ]
    },
    {
     "name": "stdout",
     "output_type": "stream",
     "text": [
      "At round 55 accuracy: 0.877085877085877\n",
      "At round 55 training accuracy: 0.8795731707317073\n",
      "At round 55 training loss: 0.4215796394304449\n",
      "At round 55 Discrepancy: 0.2936540807881568\n"
     ]
    },
    {
     "name": "stderr",
     "output_type": "stream",
     "text": [
      "Epoch:   0%|                                                                                     | 0/20 [00:00<?, ?it/s]"
     ]
    },
    {
     "name": "stdout",
     "output_type": "stream",
     "text": [
      "gradient difference: 13.951843173718691\n"
     ]
    },
    {
     "name": "stderr",
     "output_type": "stream",
     "text": [
      "                                                                                                                        \r"
     ]
    },
    {
     "name": "stdout",
     "output_type": "stream",
     "text": [
      "At round 56 accuracy: 0.8732872066205399\n",
      "At round 56 training accuracy: 0.8743837571354437\n",
      "At round 56 training loss: 0.4276247599685819\n",
      "At round 56 Discrepancy: 0.383666661478959\n"
     ]
    },
    {
     "name": "stderr",
     "output_type": "stream",
     "text": [
      "Epoch:   0%|                                                                                     | 0/20 [00:00<?, ?it/s]"
     ]
    },
    {
     "name": "stdout",
     "output_type": "stream",
     "text": [
      "gradient difference: 14.570744386627778\n"
     ]
    },
    {
     "name": "stderr",
     "output_type": "stream",
     "text": [
      "                                                                                                                        \r"
     ]
    },
    {
     "name": "stdout",
     "output_type": "stream",
     "text": [
      "At round 57 accuracy: 0.8783068783068783\n",
      "At round 57 training accuracy: 0.881162428645563\n",
      "At round 57 training loss: 0.4224740217049443\n",
      "At round 57 Discrepancy: 0.37386136712128104\n"
     ]
    },
    {
     "name": "stderr",
     "output_type": "stream",
     "text": [
      "Epoch:   0%|                                                                                     | 0/20 [00:00<?, ?it/s]"
     ]
    },
    {
     "name": "stdout",
     "output_type": "stream",
     "text": [
      "gradient difference: 14.264886147532101\n"
     ]
    },
    {
     "name": "stderr",
     "output_type": "stream",
     "text": [
      "                                                                                                                        \r"
     ]
    },
    {
     "name": "stdout",
     "output_type": "stream",
     "text": [
      "At round 58 accuracy: 0.8743725410392077\n",
      "At round 58 training accuracy: 0.8731837052413077\n",
      "At round 58 training loss: 0.4309776986323995\n",
      "At round 58 Discrepancy: 0.3210791117930808\n"
     ]
    },
    {
     "name": "stderr",
     "output_type": "stream",
     "text": [
      "Epoch:   0%|                                                                                     | 0/20 [00:00<?, ?it/s]"
     ]
    },
    {
     "name": "stdout",
     "output_type": "stream",
     "text": [
      "gradient difference: 14.515274056520163\n"
     ]
    },
    {
     "name": "stderr",
     "output_type": "stream",
     "text": [
      "                                                                                                                        \r"
     ]
    },
    {
     "name": "stdout",
     "output_type": "stream",
     "text": [
      "At round 59 accuracy: 0.8762718762718763\n",
      "At round 59 training accuracy: 0.8764108718214841\n",
      "At round 59 training loss: 0.4221819792189681\n",
      "At round 59 Discrepancy: 0.3443441936037658\n"
     ]
    },
    {
     "name": "stderr",
     "output_type": "stream",
     "text": [
      "Epoch:   0%|                                                                                     | 0/20 [00:00<?, ?it/s]"
     ]
    },
    {
     "name": "stdout",
     "output_type": "stream",
     "text": [
      "gradient difference: 14.223178208010696\n"
     ]
    },
    {
     "name": "stderr",
     "output_type": "stream",
     "text": [
      "                                                                                                                        \r"
     ]
    },
    {
     "name": "stdout",
     "output_type": "stream",
     "text": [
      "At round 60 accuracy: 0.8815628815628815\n",
      "At round 60 training accuracy: 0.8810975609756098\n",
      "At round 60 training loss: 0.4175977824963499\n",
      "At round 60 Discrepancy: 0.30934430498852084\n"
     ]
    },
    {
     "name": "stderr",
     "output_type": "stream",
     "text": [
      "Epoch:   0%|                                                                                     | 0/20 [00:00<?, ?it/s]"
     ]
    },
    {
     "name": "stdout",
     "output_type": "stream",
     "text": [
      "gradient difference: 14.160472283395675\n"
     ]
    },
    {
     "name": "stderr",
     "output_type": "stream",
     "text": [
      "                                                                                                                        \r"
     ]
    },
    {
     "name": "stdout",
     "output_type": "stream",
     "text": [
      "At round 61 accuracy: 0.8755935422602089\n",
      "At round 61 training accuracy: 0.8782271665801764\n",
      "At round 61 training loss: 0.43377908609418314\n",
      "At round 61 Discrepancy: 0.6495335293727822\n"
     ]
    },
    {
     "name": "stderr",
     "output_type": "stream",
     "text": [
      "Epoch:  10%|███████▋                                                                     | 2/20 [00:00<00:01, 15.80it/s]"
     ]
    },
    {
     "name": "stdout",
     "output_type": "stream",
     "text": [
      "gradient difference: 15.63697154691756\n"
     ]
    },
    {
     "name": "stderr",
     "output_type": "stream",
     "text": [
      "                                                                                                                        \r"
     ]
    },
    {
     "name": "stdout",
     "output_type": "stream",
     "text": [
      "At round 62 accuracy: 0.8807488807488808\n",
      "At round 62 training accuracy: 0.8829787234042553\n",
      "At round 62 training loss: 0.42315309493945424\n",
      "At round 62 Discrepancy: 0.3589397545393166\n"
     ]
    },
    {
     "name": "stderr",
     "output_type": "stream",
     "text": [
      "Epoch:  60%|█████████████████████████████████████████████                              | 12/20 [00:00<00:00, 118.55it/s]"
     ]
    },
    {
     "name": "stdout",
     "output_type": "stream",
     "text": [
      "gradient difference: 14.937148383910168\n"
     ]
    },
    {
     "name": "stderr",
     "output_type": "stream",
     "text": [
      "                                                                                                                        \r"
     ]
    },
    {
     "name": "stdout",
     "output_type": "stream",
     "text": [
      "At round 63 accuracy: 0.8757292090625424\n",
      "At round 63 training accuracy: 0.8800758951738453\n",
      "At round 63 training loss: 0.42434999723877653\n",
      "At round 63 Discrepancy: 0.31173471544481046\n"
     ]
    },
    {
     "name": "stderr",
     "output_type": "stream",
     "text": [
      "Epoch:  45%|██████████████████████████████████▋                                          | 9/20 [00:00<00:00, 85.98it/s]"
     ]
    },
    {
     "name": "stdout",
     "output_type": "stream",
     "text": [
      "gradient difference: 15.158721427995754\n"
     ]
    },
    {
     "name": "stderr",
     "output_type": "stream",
     "text": [
      "                                                                                                                        \r"
     ]
    },
    {
     "name": "stdout",
     "output_type": "stream",
     "text": [
      "At round 64 accuracy: 0.8825125491792158\n",
      "At round 64 training accuracy: 0.887568111053451\n",
      "At round 64 training loss: 0.4103135980638377\n",
      "At round 64 Discrepancy: 0.3303522675681808\n"
     ]
    },
    {
     "name": "stderr",
     "output_type": "stream",
     "text": [
      "Epoch:   0%|                                                                                     | 0/20 [00:00<?, ?it/s]"
     ]
    },
    {
     "name": "stdout",
     "output_type": "stream",
     "text": [
      "gradient difference: 14.627418895064494\n"
     ]
    },
    {
     "name": "stderr",
     "output_type": "stream",
     "text": [
      "                                                                                                                        \r"
     ]
    },
    {
     "name": "stdout",
     "output_type": "stream",
     "text": [
      "At round 65 accuracy: 0.87993487993488\n",
      "At round 65 training accuracy: 0.8852004411001557\n",
      "At round 65 training loss: 0.4159424820202357\n",
      "At round 65 Discrepancy: 0.3325191756538841\n"
     ]
    },
    {
     "name": "stderr",
     "output_type": "stream",
     "text": [
      "Epoch:  60%|█████████████████████████████████████████████                              | 12/20 [00:00<00:00, 114.71it/s]"
     ]
    },
    {
     "name": "stdout",
     "output_type": "stream",
     "text": [
      "gradient difference: 14.761547931497466\n"
     ]
    },
    {
     "name": "stderr",
     "output_type": "stream",
     "text": [
      "                                                                                                                        \r"
     ]
    },
    {
     "name": "stdout",
     "output_type": "stream",
     "text": [
      "At round 66 accuracy: 0.8802062135395469\n",
      "At round 66 training accuracy: 0.8859626362221069\n",
      "At round 66 training loss: 0.4137300976318151\n",
      "At round 66 Discrepancy: 0.31381404672623603\n"
     ]
    },
    {
     "name": "stderr",
     "output_type": "stream",
     "text": [
      "Epoch:   0%|                                                                                     | 0/20 [00:00<?, ?it/s]"
     ]
    },
    {
     "name": "stdout",
     "output_type": "stream",
     "text": [
      "gradient difference: 14.728974982009404\n"
     ]
    },
    {
     "name": "stderr",
     "output_type": "stream",
     "text": [
      "                                                                                                                        \r"
     ]
    },
    {
     "name": "stdout",
     "output_type": "stream",
     "text": [
      "At round 67 accuracy: 0.8807488807488808\n",
      "At round 67 training accuracy: 0.8876491956408926\n",
      "At round 67 training loss: 0.402935825544929\n",
      "At round 67 Discrepancy: 0.3995683580702324\n"
     ]
    },
    {
     "name": "stderr",
     "output_type": "stream",
     "text": [
      "Epoch:   0%|                                                                                     | 0/20 [00:00<?, ?it/s]"
     ]
    },
    {
     "name": "stdout",
     "output_type": "stream",
     "text": [
      "gradient difference: 14.623337804969616\n"
     ]
    },
    {
     "name": "stderr",
     "output_type": "stream",
     "text": [
      "                                                                                                                        \r"
     ]
    },
    {
     "name": "stdout",
     "output_type": "stream",
     "text": [
      "At round 68 accuracy: 0.8812915479582146\n",
      "At round 68 training accuracy: 0.8867572651790347\n",
      "At round 68 training loss: 0.4032778080017439\n",
      "At round 68 Discrepancy: 0.3501416645227585\n"
     ]
    },
    {
     "name": "stderr",
     "output_type": "stream",
     "text": [
      "Epoch:   0%|                                                                                     | 0/20 [00:00<?, ?it/s]"
     ]
    },
    {
     "name": "stdout",
     "output_type": "stream",
     "text": [
      "gradient difference: 14.55883768645897\n"
     ]
    },
    {
     "name": "stderr",
     "output_type": "stream",
     "text": [
      "                                                                                                                        \r"
     ]
    },
    {
     "name": "stdout",
     "output_type": "stream",
     "text": [
      "At round 69 accuracy: 0.8788495455162122\n",
      "At round 69 training accuracy: 0.8829949403217436\n",
      "At round 69 training loss: 0.4033420314038724\n",
      "At round 69 Discrepancy: 0.3107093669043651\n"
     ]
    },
    {
     "name": "stderr",
     "output_type": "stream",
     "text": [
      "Epoch:   0%|                                                                                     | 0/20 [00:00<?, ?it/s]"
     ]
    },
    {
     "name": "stdout",
     "output_type": "stream",
     "text": [
      "gradient difference: 14.578395867335312\n"
     ]
    },
    {
     "name": "stderr",
     "output_type": "stream",
     "text": [
      "                                                                                                                        \r"
     ]
    },
    {
     "name": "stdout",
     "output_type": "stream",
     "text": [
      "At round 70 accuracy: 0.8891602224935559\n",
      "At round 70 training accuracy: 0.8918980280228335\n",
      "At round 70 training loss: 0.38245812090703146\n",
      "At round 70 Discrepancy: 0.3137647537321667\n"
     ]
    },
    {
     "name": "stderr",
     "output_type": "stream",
     "text": [
      "Epoch:   0%|                                                                                     | 0/20 [00:00<?, ?it/s]"
     ]
    },
    {
     "name": "stdout",
     "output_type": "stream",
     "text": [
      "gradient difference: 13.72069700971318\n"
     ]
    },
    {
     "name": "stderr",
     "output_type": "stream",
     "text": [
      "                                                                                                                        \r"
     ]
    },
    {
     "name": "stdout",
     "output_type": "stream",
     "text": [
      "At round 71 accuracy: 0.8821055487722155\n",
      "At round 71 training accuracy: 0.8873410742086144\n",
      "At round 71 training loss: 0.3957007423001687\n",
      "At round 71 Discrepancy: 0.3658767669807419\n"
     ]
    },
    {
     "name": "stderr",
     "output_type": "stream",
     "text": [
      "Epoch:  20%|███████████████▍                                                             | 4/20 [00:00<00:00, 35.05it/s]"
     ]
    },
    {
     "name": "stdout",
     "output_type": "stream",
     "text": [
      "gradient difference: 14.203884171895861\n"
     ]
    },
    {
     "name": "stderr",
     "output_type": "stream",
     "text": [
      "                                                                                                                        \r"
     ]
    },
    {
     "name": "stdout",
     "output_type": "stream",
     "text": [
      "At round 72 accuracy: 0.8871252204585538\n",
      "At round 72 training accuracy: 0.8925953554748314\n",
      "At round 72 training loss: 0.3887613581185513\n",
      "At round 72 Discrepancy: 0.3266112424101472\n"
     ]
    },
    {
     "name": "stderr",
     "output_type": "stream",
     "text": [
      "Epoch:  20%|███████████████▍                                                             | 4/20 [00:00<00:00, 34.30it/s]"
     ]
    },
    {
     "name": "stdout",
     "output_type": "stream",
     "text": [
      "gradient difference: 13.909566231772699\n"
     ]
    },
    {
     "name": "stderr",
     "output_type": "stream",
     "text": [
      "                                                                                                                        \r"
     ]
    },
    {
     "name": "stdout",
     "output_type": "stream",
     "text": [
      "At round 73 accuracy: 0.8909238909238909\n",
      "At round 73 training accuracy: 0.8946386870783601\n",
      "At round 73 training loss: 0.37942587388652804\n",
      "At round 73 Discrepancy: 0.32245528101678206\n"
     ]
    },
    {
     "name": "stderr",
     "output_type": "stream",
     "text": [
      "Epoch:   0%|                                                                                     | 0/20 [00:00<?, ?it/s]"
     ]
    },
    {
     "name": "stdout",
     "output_type": "stream",
     "text": [
      "gradient difference: 13.631520207576648\n"
     ]
    },
    {
     "name": "stderr",
     "output_type": "stream",
     "text": [
      "                                                                                                                        \r"
     ]
    },
    {
     "name": "stdout",
     "output_type": "stream",
     "text": [
      "At round 74 accuracy: 0.886311219644553\n",
      "At round 74 training accuracy: 0.8911358329008822\n",
      "At round 74 training loss: 0.386449318450632\n",
      "At round 74 Discrepancy: 0.36573052358609215\n"
     ]
    },
    {
     "name": "stderr",
     "output_type": "stream",
     "text": [
      "Epoch:   0%|                                                                                     | 0/20 [00:00<?, ?it/s]"
     ]
    },
    {
     "name": "stdout",
     "output_type": "stream",
     "text": [
      "gradient difference: 13.443783784109748\n"
     ]
    },
    {
     "name": "stderr",
     "output_type": "stream",
     "text": [
      "                                                                                                                        \r"
     ]
    },
    {
     "name": "stdout",
     "output_type": "stream",
     "text": [
      "At round 75 accuracy: 0.8732872066205399\n",
      "At round 75 training accuracy: 0.8754702906071614\n",
      "At round 75 training loss: 0.4077365059226079\n",
      "At round 75 Discrepancy: 0.3194301734253907\n"
     ]
    },
    {
     "name": "stderr",
     "output_type": "stream",
     "text": [
      "Epoch:   0%|                                                                                     | 0/20 [00:00<?, ?it/s]"
     ]
    },
    {
     "name": "stdout",
     "output_type": "stream",
     "text": [
      "gradient difference: 14.33337433370643\n"
     ]
    },
    {
     "name": "stderr",
     "output_type": "stream",
     "text": [
      "                                                                                                                        \r"
     ]
    },
    {
     "name": "stdout",
     "output_type": "stream",
     "text": [
      "At round 76 accuracy: 0.8846832180165514\n",
      "At round 76 training accuracy: 0.8867248313440581\n",
      "At round 76 training loss: 0.387541324864863\n",
      "At round 76 Discrepancy: 0.3036784335632295\n"
     ]
    },
    {
     "name": "stderr",
     "output_type": "stream",
     "text": [
      "Epoch:  35%|██████████████████████████▉                                                  | 7/20 [00:00<00:00, 68.60it/s]"
     ]
    },
    {
     "name": "stdout",
     "output_type": "stream",
     "text": [
      "gradient difference: 13.5524313639778\n"
     ]
    },
    {
     "name": "stderr",
     "output_type": "stream",
     "text": [
      "                                                                                                                        \r"
     ]
    },
    {
     "name": "stdout",
     "output_type": "stream",
     "text": [
      "At round 77 accuracy: 0.8936372269705603\n",
      "At round 77 training accuracy: 0.8980604566683965\n",
      "At round 77 training loss: 0.36956877937678395\n",
      "At round 77 Discrepancy: 0.31593111223339154\n"
     ]
    },
    {
     "name": "stderr",
     "output_type": "stream",
     "text": [
      "Epoch:   0%|                                                                                     | 0/20 [00:00<?, ?it/s]"
     ]
    },
    {
     "name": "stdout",
     "output_type": "stream",
     "text": [
      "gradient difference: 12.853554913652165\n"
     ]
    },
    {
     "name": "stderr",
     "output_type": "stream",
     "text": [
      "                                                                                                                        \r"
     ]
    },
    {
     "name": "stdout",
     "output_type": "stream",
     "text": [
      "At round 78 accuracy: 0.8937728937728938\n",
      "At round 78 training accuracy: 0.8965685002594707\n",
      "At round 78 training loss: 0.3702539954520327\n",
      "At round 78 Discrepancy: 0.2869810466664691\n"
     ]
    },
    {
     "name": "stderr",
     "output_type": "stream",
     "text": [
      "Epoch:   0%|                                                                                     | 0/20 [00:00<?, ?it/s]"
     ]
    },
    {
     "name": "stdout",
     "output_type": "stream",
     "text": [
      "gradient difference: 12.899977748872077\n"
     ]
    },
    {
     "name": "stderr",
     "output_type": "stream",
     "text": [
      "                                                                                                                        \r"
     ]
    },
    {
     "name": "stdout",
     "output_type": "stream",
     "text": [
      "At round 79 accuracy: 0.8853615520282186\n",
      "At round 79 training accuracy: 0.8862545407368967\n",
      "At round 79 training loss: 0.3876479177595709\n",
      "At round 79 Discrepancy: 0.3092446178760929\n"
     ]
    },
    {
     "name": "stderr",
     "output_type": "stream",
     "text": [
      "Epoch:   0%|                                                                                     | 0/20 [00:00<?, ?it/s]"
     ]
    },
    {
     "name": "stdout",
     "output_type": "stream",
     "text": [
      "gradient difference: 13.585709176724745\n"
     ]
    },
    {
     "name": "stderr",
     "output_type": "stream",
     "text": [
      "                                                                                                                        \r"
     ]
    },
    {
     "name": "stdout",
     "output_type": "stream",
     "text": [
      "At round 80 accuracy: 0.8873965540632207\n",
      "At round 80 training accuracy: 0.8887681629475869\n",
      "At round 80 training loss: 0.3834859227240144\n",
      "At round 80 Discrepancy: 0.28412518595703157\n"
     ]
    },
    {
     "name": "stderr",
     "output_type": "stream",
     "text": [
      "Epoch:   0%|                                                                                     | 0/20 [00:00<?, ?it/s]"
     ]
    },
    {
     "name": "stdout",
     "output_type": "stream",
     "text": [
      "gradient difference: 13.305117504663517\n"
     ]
    },
    {
     "name": "stderr",
     "output_type": "stream",
     "text": [
      "                                                                                                                        \r"
     ]
    },
    {
     "name": "stdout",
     "output_type": "stream",
     "text": [
      "At round 81 accuracy: 0.8834622167955501\n",
      "At round 81 training accuracy: 0.8869843020238714\n",
      "At round 81 training loss: 0.3875251191773451\n",
      "At round 81 Discrepancy: 0.3388461891374539\n"
     ]
    },
    {
     "name": "stderr",
     "output_type": "stream",
     "text": [
      "Epoch:   0%|                                                                                     | 0/20 [00:00<?, ?it/s]"
     ]
    },
    {
     "name": "stdout",
     "output_type": "stream",
     "text": [
      "gradient difference: 13.38966741413609\n"
     ]
    },
    {
     "name": "stderr",
     "output_type": "stream",
     "text": [
      "                                                                                                                        \r"
     ]
    },
    {
     "name": "stdout",
     "output_type": "stream",
     "text": [
      "At round 82 accuracy: 0.884004884004884\n",
      "At round 82 training accuracy: 0.8858491177996887\n",
      "At round 82 training loss: 0.39503484282987683\n",
      "At round 82 Discrepancy: 0.4019624749707281\n"
     ]
    },
    {
     "name": "stderr",
     "output_type": "stream",
     "text": [
      "Epoch:   0%|                                                                                     | 0/20 [00:00<?, ?it/s]"
     ]
    },
    {
     "name": "stdout",
     "output_type": "stream",
     "text": [
      "gradient difference: 13.738226283565462\n"
     ]
    },
    {
     "name": "stderr",
     "output_type": "stream",
     "text": [
      "                                                                                                                        \r"
     ]
    },
    {
     "name": "stdout",
     "output_type": "stream",
     "text": [
      "At round 83 accuracy: 0.884276217609551\n",
      "At round 83 training accuracy: 0.885313959522574\n",
      "At round 83 training loss: 0.3950805132450453\n",
      "At round 83 Discrepancy: 0.29403769569348787\n"
     ]
    },
    {
     "name": "stderr",
     "output_type": "stream",
     "text": [
      "Epoch:  85%|███████████████████████████████████████████████████████████████▊           | 17/20 [00:00<00:00, 168.59it/s]"
     ]
    },
    {
     "name": "stdout",
     "output_type": "stream",
     "text": [
      "gradient difference: 13.724717275561938\n"
     ]
    },
    {
     "name": "stderr",
     "output_type": "stream",
     "text": [
      "                                                                                                                        \r"
     ]
    },
    {
     "name": "stdout",
     "output_type": "stream",
     "text": [
      "At round 84 accuracy: 0.888346221679555\n",
      "At round 84 training accuracy: 0.8913790866632071\n",
      "At round 84 training loss: 0.374236584504416\n",
      "At round 84 Discrepancy: 0.38207041377056794\n"
     ]
    },
    {
     "name": "stderr",
     "output_type": "stream",
     "text": [
      "Epoch:  20%|███████████████▍                                                             | 4/20 [00:00<00:00, 33.20it/s]"
     ]
    },
    {
     "name": "stdout",
     "output_type": "stream",
     "text": [
      "gradient difference: 13.247999368688124\n"
     ]
    },
    {
     "name": "stderr",
     "output_type": "stream",
     "text": [
      "                                                                                                                        \r"
     ]
    },
    {
     "name": "stdout",
     "output_type": "stream",
     "text": [
      "At round 85 accuracy: 0.8910595577262244\n",
      "At round 85 training accuracy: 0.8941359626362221\n",
      "At round 85 training loss: 0.3665145946792015\n",
      "At round 85 Discrepancy: 0.3397698053749041\n"
     ]
    },
    {
     "name": "stderr",
     "output_type": "stream",
     "text": [
      "Epoch:  30%|███████████████████████                                                      | 6/20 [00:00<00:00, 58.86it/s]"
     ]
    },
    {
     "name": "stdout",
     "output_type": "stream",
     "text": [
      "gradient difference: 12.856878935257834\n"
     ]
    },
    {
     "name": "stderr",
     "output_type": "stream",
     "text": [
      "                                                                                                                        \r"
     ]
    },
    {
     "name": "stdout",
     "output_type": "stream",
     "text": [
      "At round 86 accuracy: 0.8899742233075566\n",
      "At round 86 training accuracy: 0.8939251427088739\n",
      "At round 86 training loss: 0.3663512563364209\n",
      "At round 86 Discrepancy: 0.32156285546715085\n"
     ]
    },
    {
     "name": "stderr",
     "output_type": "stream",
     "text": [
      "Epoch:   0%|                                                                                     | 0/20 [00:00<?, ?it/s]"
     ]
    },
    {
     "name": "stdout",
     "output_type": "stream",
     "text": [
      "gradient difference: 12.924558717593293\n"
     ]
    },
    {
     "name": "stderr",
     "output_type": "stream",
     "text": [
      "                                                                                                                        \r"
     ]
    },
    {
     "name": "stdout",
     "output_type": "stream",
     "text": [
      "At round 87 accuracy: 0.890652557319224\n",
      "At round 87 training accuracy: 0.8952873637778931\n",
      "At round 87 training loss: 0.36332312626227714\n",
      "At round 87 Discrepancy: 0.30551005488612976\n"
     ]
    },
    {
     "name": "stderr",
     "output_type": "stream",
     "text": [
      "Epoch:   0%|                                                                                     | 0/20 [00:00<?, ?it/s]"
     ]
    },
    {
     "name": "stdout",
     "output_type": "stream",
     "text": [
      "gradient difference: 12.829186970090188\n"
     ]
    },
    {
     "name": "stderr",
     "output_type": "stream",
     "text": [
      "                                                                                                                        \r"
     ]
    },
    {
     "name": "stdout",
     "output_type": "stream",
     "text": [
      "At round 88 accuracy: 0.8943155609822276\n",
      "At round 88 training accuracy: 0.8969901401141671\n",
      "At round 88 training loss: 0.3582540898792616\n",
      "At round 88 Discrepancy: 0.31972847237813384\n"
     ]
    },
    {
     "name": "stderr",
     "output_type": "stream",
     "text": [
      "Epoch:  70%|████████████████████████████████████████████████████▌                      | 14/20 [00:00<00:00, 135.72it/s]"
     ]
    },
    {
     "name": "stdout",
     "output_type": "stream",
     "text": [
      "gradient difference: 12.662493362971501\n"
     ]
    },
    {
     "name": "stderr",
     "output_type": "stream",
     "text": [
      "                                                                                                                        \r"
     ]
    },
    {
     "name": "stdout",
     "output_type": "stream",
     "text": [
      "At round 89 accuracy: 0.8888888888888888\n",
      "At round 89 training accuracy: 0.8911196159833938\n",
      "At round 89 training loss: 0.36378782817260924\n",
      "At round 89 Discrepancy: 0.31990856361250974\n"
     ]
    },
    {
     "name": "stderr",
     "output_type": "stream",
     "text": [
      "Epoch:   0%|                                                                                     | 0/20 [00:00<?, ?it/s]"
     ]
    },
    {
     "name": "stdout",
     "output_type": "stream",
     "text": [
      "gradient difference: 12.87017916225742\n"
     ]
    },
    {
     "name": "stderr",
     "output_type": "stream",
     "text": [
      "                                                                                                                        \r"
     ]
    },
    {
     "name": "stdout",
     "output_type": "stream",
     "text": [
      "At round 90 accuracy: 0.8822412155745489\n",
      "At round 90 training accuracy: 0.8858977685521536\n",
      "At round 90 training loss: 0.37840044941815615\n",
      "At round 90 Discrepancy: 0.4407686256389935\n"
     ]
    },
    {
     "name": "stderr",
     "output_type": "stream",
     "text": [
      "Epoch:   0%|                                                                                     | 0/20 [00:00<?, ?it/s]"
     ]
    },
    {
     "name": "stdout",
     "output_type": "stream",
     "text": [
      "gradient difference: 13.303486767420948\n"
     ]
    },
    {
     "name": "stderr",
     "output_type": "stream",
     "text": [
      "                                                                                                                        \r"
     ]
    },
    {
     "name": "stdout",
     "output_type": "stream",
     "text": [
      "At round 91 accuracy: 0.8848188848188848\n",
      "At round 91 training accuracy: 0.8860437208095485\n",
      "At round 91 training loss: 0.37720344966184083\n",
      "At round 91 Discrepancy: 0.3124316699764028\n"
     ]
    },
    {
     "name": "stderr",
     "output_type": "stream",
     "text": [
      "Epoch:  85%|███████████████████████████████████████████████████████████████▊           | 17/20 [00:00<00:00, 166.78it/s]"
     ]
    },
    {
     "name": "stdout",
     "output_type": "stream",
     "text": [
      "gradient difference: 13.227730166781516\n"
     ]
    },
    {
     "name": "stderr",
     "output_type": "stream",
     "text": [
      "                                                                                                                        \r"
     ]
    },
    {
     "name": "stdout",
     "output_type": "stream",
     "text": [
      "At round 92 accuracy: 0.8901098901098901\n",
      "At round 92 training accuracy: 0.8906006746237675\n",
      "At round 92 training loss: 0.37068985033945623\n",
      "At round 92 Discrepancy: 0.3798009539579082\n"
     ]
    },
    {
     "name": "stderr",
     "output_type": "stream",
     "text": [
      "Epoch:   0%|                                                                                     | 0/20 [00:00<?, ?it/s]"
     ]
    },
    {
     "name": "stdout",
     "output_type": "stream",
     "text": [
      "gradient difference: 13.157930124795193\n"
     ]
    },
    {
     "name": "stderr",
     "output_type": "stream",
     "text": [
      "                                                                                                                        \r"
     ]
    },
    {
     "name": "stdout",
     "output_type": "stream",
     "text": [
      "At round 93 accuracy: 0.8902455569122236\n",
      "At round 93 training accuracy: 0.8944116502335236\n",
      "At round 93 training loss: 0.36620971523572077\n",
      "At round 93 Discrepancy: 0.27105242975496074\n"
     ]
    },
    {
     "name": "stderr",
     "output_type": "stream",
     "text": [
      "                                                                                                                        "
     ]
    },
    {
     "name": "stdout",
     "output_type": "stream",
     "text": [
      "gradient difference: 12.931049213575685\n"
     ]
    },
    {
     "name": "stderr",
     "output_type": "stream",
     "text": [
      "                                                                                                                        \r"
     ]
    },
    {
     "name": "stdout",
     "output_type": "stream",
     "text": [
      "At round 94 accuracy: 0.892958892958893\n",
      "At round 94 training accuracy: 0.8969577062791905\n",
      "At round 94 training loss: 0.3648308216467051\n",
      "At round 94 Discrepancy: 0.39245045569892456\n"
     ]
    },
    {
     "name": "stderr",
     "output_type": "stream",
     "text": [
      "Epoch:   0%|                                                                                     | 0/20 [00:00<?, ?it/s]"
     ]
    },
    {
     "name": "stdout",
     "output_type": "stream",
     "text": [
      "gradient difference: 12.586308798947917\n"
     ]
    },
    {
     "name": "stderr",
     "output_type": "stream",
     "text": [
      "                                                                                                                        \r"
     ]
    },
    {
     "name": "stdout",
     "output_type": "stream",
     "text": [
      "At round 95 accuracy: 0.8968932302265635\n",
      "At round 95 training accuracy: 0.9006227296315517\n",
      "At round 95 training loss: 0.352704462924624\n",
      "At round 95 Discrepancy: 0.3126582431855772\n"
     ]
    },
    {
     "name": "stderr",
     "output_type": "stream",
     "text": [
      "Epoch:   0%|                                                                                     | 0/20 [00:00<?, ?it/s]"
     ]
    },
    {
     "name": "stdout",
     "output_type": "stream",
     "text": [
      "gradient difference: 12.203110458316429\n"
     ]
    },
    {
     "name": "stderr",
     "output_type": "stream",
     "text": [
      "                                                                                                                        \r"
     ]
    },
    {
     "name": "stdout",
     "output_type": "stream",
     "text": [
      "At round 96 accuracy: 0.8943155609822276\n",
      "At round 96 training accuracy: 0.8983037104307213\n",
      "At round 96 training loss: 0.3616451218882653\n",
      "At round 96 Discrepancy: 0.30210274837979234\n"
     ]
    },
    {
     "name": "stderr",
     "output_type": "stream",
     "text": [
      "Epoch:  85%|███████████████████████████████████████████████████████████████▊           | 17/20 [00:00<00:00, 168.61it/s]"
     ]
    },
    {
     "name": "stdout",
     "output_type": "stream",
     "text": [
      "gradient difference: 12.414172959734627\n"
     ]
    },
    {
     "name": "stderr",
     "output_type": "stream",
     "text": [
      "                                                                                                                        \r"
     ]
    },
    {
     "name": "stdout",
     "output_type": "stream",
     "text": [
      "At round 97 accuracy: 0.8910595577262244\n",
      "At round 97 training accuracy: 0.8948170731707317\n",
      "At round 97 training loss: 0.3691309639285345\n",
      "At round 97 Discrepancy: 0.26931613873918775\n"
     ]
    },
    {
     "name": "stderr",
     "output_type": "stream",
     "text": [
      "Epoch:  60%|█████████████████████████████████████████████                              | 12/20 [00:00<00:00, 119.68it/s]"
     ]
    },
    {
     "name": "stdout",
     "output_type": "stream",
     "text": [
      "gradient difference: 12.861542764521472\n"
     ]
    },
    {
     "name": "stderr",
     "output_type": "stream",
     "text": [
      "                                                                                                                        \r"
     ]
    },
    {
     "name": "stdout",
     "output_type": "stream",
     "text": [
      "At round 98 accuracy: 0.8935015601682268\n",
      "At round 98 training accuracy: 0.8987577841203944\n",
      "At round 98 training loss: 0.3571045760415228\n",
      "At round 98 Discrepancy: 0.32349172161830975\n"
     ]
    },
    {
     "name": "stderr",
     "output_type": "stream",
     "text": [
      "Epoch:  30%|███████████████████████                                                      | 6/20 [00:00<00:00, 56.23it/s]"
     ]
    },
    {
     "name": "stdout",
     "output_type": "stream",
     "text": [
      "gradient difference: 12.4981696256186\n"
     ]
    },
    {
     "name": "stderr",
     "output_type": "stream",
     "text": [
      "                                                                                                                        \r"
     ]
    },
    {
     "name": "stdout",
     "output_type": "stream",
     "text": [
      "At round 99 accuracy: 0.8905168905168905\n",
      "At round 99 training accuracy: 0.894233264141152\n",
      "At round 99 training loss: 0.3648661892771959\n",
      "At round 99 Discrepancy: 0.28204119133843253\n"
     ]
    },
    {
     "name": "stderr",
     "output_type": "stream",
     "text": [
      "Epoch:   0%|                                                                                     | 0/20 [00:00<?, ?it/s]"
     ]
    },
    {
     "name": "stdout",
     "output_type": "stream",
     "text": [
      "gradient difference: 12.880150501571979\n"
     ]
    },
    {
     "name": "stderr",
     "output_type": "stream",
     "text": [
      "                                                                                                                        \r"
     ]
    },
    {
     "name": "stdout",
     "output_type": "stream",
     "text": [
      "At round 100 accuracy: 0.8911952245285578\n",
      "At round 100 training accuracy: 0.895936040477426\n",
      "At round 100 training loss: 0.354715578811841\n",
      "At round 100 Discrepancy: 0.29217246630517824\n"
     ]
    },
    {
     "name": "stderr",
     "output_type": "stream",
     "text": [
      "Epoch:   0%|                                                                                     | 0/20 [00:00<?, ?it/s]"
     ]
    },
    {
     "name": "stdout",
     "output_type": "stream",
     "text": [
      "gradient difference: 12.630596851423206\n"
     ]
    },
    {
     "name": "stderr",
     "output_type": "stream",
     "text": [
      "                                                                                                                        \r"
     ]
    },
    {
     "name": "stdout",
     "output_type": "stream",
     "text": [
      "At round 101 accuracy: 0.8884818884818885\n",
      "At round 101 training accuracy: 0.8903574208614426\n",
      "At round 101 training loss: 0.36640931451229813\n",
      "At round 101 Discrepancy: 0.2768124122686768\n"
     ]
    },
    {
     "name": "stderr",
     "output_type": "stream",
     "text": [
      "Epoch:   0%|                                                                                     | 0/20 [00:00<?, ?it/s]"
     ]
    },
    {
     "name": "stdout",
     "output_type": "stream",
     "text": [
      "gradient difference: 12.818853459563554\n"
     ]
    },
    {
     "name": "stderr",
     "output_type": "stream",
     "text": [
      "                                                                                                                        \r"
     ]
    },
    {
     "name": "stdout",
     "output_type": "stream",
     "text": [
      "At round 102 accuracy: 0.8932302265635599\n",
      "At round 102 training accuracy: 0.8958225220550078\n",
      "At round 102 training loss: 0.35467587703837494\n",
      "At round 102 Discrepancy: 0.288243763762414\n"
     ]
    },
    {
     "name": "stderr",
     "output_type": "stream",
     "text": [
      "Epoch:  15%|███████████▌                                                                 | 3/20 [00:00<00:00, 28.01it/s]"
     ]
    },
    {
     "name": "stdout",
     "output_type": "stream",
     "text": [
      "gradient difference: 12.371030618564415\n"
     ]
    },
    {
     "name": "stderr",
     "output_type": "stream",
     "text": [
      "                                                                                                                        \r"
     ]
    },
    {
     "name": "stdout",
     "output_type": "stream",
     "text": [
      "At round 103 accuracy: 0.8914665581332248\n",
      "At round 103 training accuracy: 0.8917196419304618\n",
      "At round 103 training loss: 0.3659015705077822\n",
      "At round 103 Discrepancy: 0.32318769606207703\n"
     ]
    },
    {
     "name": "stderr",
     "output_type": "stream",
     "text": [
      "Epoch:   0%|                                                                                     | 0/20 [00:00<?, ?it/s]"
     ]
    },
    {
     "name": "stdout",
     "output_type": "stream",
     "text": [
      "gradient difference: 12.787046645151745\n"
     ]
    },
    {
     "name": "stderr",
     "output_type": "stream",
     "text": [
      "                                                                                                                        \r"
     ]
    },
    {
     "name": "stdout",
     "output_type": "stream",
     "text": [
      "At round 104 accuracy: 0.8917378917378918\n",
      "At round 104 training accuracy: 0.8920115464452517\n",
      "At round 104 training loss: 0.3625909076704495\n",
      "At round 104 Discrepancy: 0.31555614801874604\n"
     ]
    },
    {
     "name": "stderr",
     "output_type": "stream",
     "text": [
      "Epoch:  25%|███████████████████▎                                                         | 5/20 [00:00<00:00, 40.83it/s]"
     ]
    },
    {
     "name": "stdout",
     "output_type": "stream",
     "text": [
      "gradient difference: 12.78439149288803\n"
     ]
    },
    {
     "name": "stderr",
     "output_type": "stream",
     "text": [
      "                                                                                                                        \r"
     ]
    },
    {
     "name": "stdout",
     "output_type": "stream",
     "text": [
      "At round 105 accuracy: 0.8967575634242301\n",
      "At round 105 training accuracy: 0.8969901401141671\n",
      "At round 105 training loss: 0.354949358045718\n",
      "At round 105 Discrepancy: 0.3274505874739033\n"
     ]
    },
    {
     "name": "stderr",
     "output_type": "stream",
     "text": [
      "Epoch:  65%|████████████████████████████████████████████████▊                          | 13/20 [00:00<00:00, 124.91it/s]"
     ]
    },
    {
     "name": "stdout",
     "output_type": "stream",
     "text": [
      "gradient difference: 12.501648390618435\n"
     ]
    },
    {
     "name": "stderr",
     "output_type": "stream",
     "text": [
      "                                                                                                                        \r"
     ]
    },
    {
     "name": "stdout",
     "output_type": "stream",
     "text": [
      "At round 106 accuracy: 0.8959435626102292\n",
      "At round 106 training accuracy: 0.8997632330046704\n",
      "At round 106 training loss: 0.3501581355465284\n",
      "At round 106 Discrepancy: 0.30899042188752823\n"
     ]
    },
    {
     "name": "stderr",
     "output_type": "stream",
     "text": [
      "Epoch:   0%|                                                                                     | 0/20 [00:00<?, ?it/s]"
     ]
    },
    {
     "name": "stdout",
     "output_type": "stream",
     "text": [
      "gradient difference: 12.33271736534027\n"
     ]
    },
    {
     "name": "stderr",
     "output_type": "stream",
     "text": [
      "                                                                                                                        \r"
     ]
    },
    {
     "name": "stdout",
     "output_type": "stream",
     "text": [
      "At round 107 accuracy: 0.894993894993895\n",
      "At round 107 training accuracy: 0.8972496107939802\n",
      "At round 107 training loss: 0.34963975229074495\n",
      "At round 107 Discrepancy: 0.3071634306117552\n"
     ]
    },
    {
     "name": "stderr",
     "output_type": "stream",
     "text": [
      "Epoch:   0%|                                                                                     | 0/20 [00:00<?, ?it/s]"
     ]
    },
    {
     "name": "stdout",
     "output_type": "stream",
     "text": [
      "gradient difference: 12.276761593290635\n"
     ]
    },
    {
     "name": "stderr",
     "output_type": "stream",
     "text": [
      "                                                                                                                        \r"
     ]
    },
    {
     "name": "stdout",
     "output_type": "stream",
     "text": [
      "At round 108 accuracy: 0.8966218966218966\n",
      "At round 108 training accuracy: 0.8990010378827192\n",
      "At round 108 training loss: 0.34402284570422303\n",
      "At round 108 Discrepancy: 0.2541836116455034\n"
     ]
    },
    {
     "name": "stderr",
     "output_type": "stream",
     "text": [
      "Epoch:   0%|                                                                                     | 0/20 [00:00<?, ?it/s]"
     ]
    },
    {
     "name": "stdout",
     "output_type": "stream",
     "text": [
      "gradient difference: 12.017015522439651\n"
     ]
    },
    {
     "name": "stderr",
     "output_type": "stream",
     "text": [
      "                                                                                                                        \r"
     ]
    },
    {
     "name": "stdout",
     "output_type": "stream",
     "text": [
      "At round 109 accuracy: 0.895265228598562\n",
      "At round 109 training accuracy: 0.8965522833419823\n",
      "At round 109 training loss: 0.3538921146794837\n",
      "At round 109 Discrepancy: 0.3307246167654029\n"
     ]
    },
    {
     "name": "stderr",
     "output_type": "stream",
     "text": [
      "Epoch:   0%|                                                                                     | 0/20 [00:00<?, ?it/s]"
     ]
    },
    {
     "name": "stdout",
     "output_type": "stream",
     "text": [
      "gradient difference: 12.209743522328289\n"
     ]
    },
    {
     "name": "stderr",
     "output_type": "stream",
     "text": [
      "                                                                                                                        \r"
     ]
    },
    {
     "name": "stdout",
     "output_type": "stream",
     "text": [
      "At round 110 accuracy: 0.8966218966218966\n",
      "At round 110 training accuracy: 0.8985307472755578\n",
      "At round 110 training loss: 0.3499460276207509\n",
      "At round 110 Discrepancy: 0.2639869645409613\n"
     ]
    },
    {
     "name": "stderr",
     "output_type": "stream",
     "text": [
      "Epoch:   0%|                                                                                     | 0/20 [00:00<?, ?it/s]"
     ]
    },
    {
     "name": "stdout",
     "output_type": "stream",
     "text": [
      "gradient difference: 12.114442062127706\n"
     ]
    },
    {
     "name": "stderr",
     "output_type": "stream",
     "text": [
      "                                                                                                                        \r"
     ]
    },
    {
     "name": "stdout",
     "output_type": "stream",
     "text": [
      "At round 111 accuracy: 0.8939085605752273\n",
      "At round 111 training accuracy: 0.8956927867151012\n",
      "At round 111 training loss: 0.36501017009621206\n",
      "At round 111 Discrepancy: 0.33660302207135173\n"
     ]
    },
    {
     "name": "stderr",
     "output_type": "stream",
     "text": [
      "Epoch:   0%|                                                                                     | 0/20 [00:00<?, ?it/s]"
     ]
    },
    {
     "name": "stdout",
     "output_type": "stream",
     "text": [
      "gradient difference: 12.014474344911838\n"
     ]
    },
    {
     "name": "stderr",
     "output_type": "stream",
     "text": [
      "                                                                                                                        \r"
     ]
    },
    {
     "name": "stdout",
     "output_type": "stream",
     "text": [
      "At round 112 accuracy: 0.8937728937728938\n",
      "At round 112 training accuracy: 0.8954981837052413\n",
      "At round 112 training loss: 0.36335225195259524\n",
      "At round 112 Discrepancy: 0.4036394368732131\n"
     ]
    },
    {
     "name": "stderr",
     "output_type": "stream",
     "text": [
      "Epoch:  65%|████████████████████████████████████████████████▊                          | 13/20 [00:00<00:00, 120.02it/s]"
     ]
    },
    {
     "name": "stdout",
     "output_type": "stream",
     "text": [
      "gradient difference: 11.983578032453453\n"
     ]
    },
    {
     "name": "stderr",
     "output_type": "stream",
     "text": [
      "                                                                                                                        \r"
     ]
    },
    {
     "name": "stdout",
     "output_type": "stream",
     "text": [
      "At round 113 accuracy: 0.8930945597612264\n",
      "At round 113 training accuracy: 0.8958387389724961\n",
      "At round 113 training loss: 0.36101091079767667\n",
      "At round 113 Discrepancy: 0.2901740351136509\n"
     ]
    },
    {
     "name": "stderr",
     "output_type": "stream",
     "text": [
      "Epoch:   0%|                                                                                     | 0/20 [00:00<?, ?it/s]"
     ]
    },
    {
     "name": "stdout",
     "output_type": "stream",
     "text": [
      "gradient difference: 11.925160491256964\n"
     ]
    },
    {
     "name": "stderr",
     "output_type": "stream",
     "text": [
      "                                                                                                                        \r"
     ]
    },
    {
     "name": "stdout",
     "output_type": "stream",
     "text": [
      "At round 114 accuracy: 0.8945868945868946\n",
      "At round 114 training accuracy: 0.8972333938764919\n",
      "At round 114 training loss: 0.36013839381487656\n",
      "At round 114 Discrepancy: 0.3488651171941587\n"
     ]
    },
    {
     "name": "stderr",
     "output_type": "stream",
     "text": [
      "Epoch:   0%|                                                                                     | 0/20 [00:00<?, ?it/s]"
     ]
    },
    {
     "name": "stdout",
     "output_type": "stream",
     "text": [
      "gradient difference: 11.845083290796959\n"
     ]
    },
    {
     "name": "stderr",
     "output_type": "stream",
     "text": [
      "                                                                                                                        \r"
     ]
    },
    {
     "name": "stdout",
     "output_type": "stream",
     "text": [
      "At round 115 accuracy: 0.8926875593542261\n",
      "At round 115 training accuracy: 0.8953684483653347\n",
      "At round 115 training loss: 0.36116805066615315\n",
      "At round 115 Discrepancy: 0.3410466331847256\n"
     ]
    },
    {
     "name": "stderr",
     "output_type": "stream",
     "text": [
      "Epoch:  40%|██████████████████████████████▊                                              | 8/20 [00:00<00:00, 76.05it/s]"
     ]
    },
    {
     "name": "stdout",
     "output_type": "stream",
     "text": [
      "gradient difference: 11.881982937918004\n"
     ]
    },
    {
     "name": "stderr",
     "output_type": "stream",
     "text": [
      "                                                                                                                        \r"
     ]
    },
    {
     "name": "stdout",
     "output_type": "stream",
     "text": [
      "At round 116 accuracy: 0.8967575634242301\n",
      "At round 116 training accuracy: 0.8991632070576024\n",
      "At round 116 training loss: 0.35835138216333684\n",
      "At round 116 Discrepancy: 0.3626226812874268\n"
     ]
    },
    {
     "name": "stderr",
     "output_type": "stream",
     "text": [
      "Epoch:  45%|██████████████████████████████████▋                                          | 9/20 [00:00<00:00, 82.47it/s]"
     ]
    },
    {
     "name": "stdout",
     "output_type": "stream",
     "text": [
      "gradient difference: 12.007352813593354\n"
     ]
    },
    {
     "name": "stderr",
     "output_type": "stream",
     "text": [
      "                                                                                                                        \r"
     ]
    },
    {
     "name": "stdout",
     "output_type": "stream",
     "text": [
      "At round 117 accuracy: 0.8978428978428978\n",
      "At round 117 training accuracy: 0.9020336014530358\n",
      "At round 117 training loss: 0.3499174957307656\n",
      "At round 117 Discrepancy: 0.26928871473595034\n"
     ]
    },
    {
     "name": "stderr",
     "output_type": "stream",
     "text": [
      "Epoch:   5%|███▊                                                                         | 1/20 [00:00<00:02,  7.34it/s]"
     ]
    },
    {
     "name": "stdout",
     "output_type": "stream",
     "text": [
      "gradient difference: 11.737700693402184\n"
     ]
    },
    {
     "name": "stderr",
     "output_type": "stream",
     "text": [
      "                                                                                                                        \r"
     ]
    },
    {
     "name": "stdout",
     "output_type": "stream",
     "text": [
      "At round 118 accuracy: 0.901370234703568\n",
      "At round 118 training accuracy: 0.9046931759211209\n",
      "At round 118 training loss: 0.344776854319324\n",
      "At round 118 Discrepancy: 0.30889334128750867\n"
     ]
    },
    {
     "name": "stderr",
     "output_type": "stream",
     "text": [
      "Epoch:   0%|                                                                                     | 0/20 [00:00<?, ?it/s]"
     ]
    },
    {
     "name": "stdout",
     "output_type": "stream",
     "text": [
      "gradient difference: 11.634230979476264\n"
     ]
    },
    {
     "name": "stderr",
     "output_type": "stream",
     "text": [
      "                                                                                                                        \r"
     ]
    },
    {
     "name": "stdout",
     "output_type": "stream",
     "text": [
      "At round 119 accuracy: 0.899335232668566\n",
      "At round 119 training accuracy: 0.901595744680851\n",
      "At round 119 training loss: 0.35062055976927997\n",
      "At round 119 Discrepancy: 0.28995632587796566\n"
     ]
    },
    {
     "name": "stderr",
     "output_type": "stream",
     "text": [
      "Epoch:   0%|                                                                                     | 0/20 [00:00<?, ?it/s]"
     ]
    },
    {
     "name": "stdout",
     "output_type": "stream",
     "text": [
      "gradient difference: 11.720790952170741\n"
     ]
    },
    {
     "name": "stderr",
     "output_type": "stream",
     "text": [
      "                                                                                                                        \r"
     ]
    },
    {
     "name": "stdout",
     "output_type": "stream",
     "text": [
      "At round 120 accuracy: 0.8871252204585538\n",
      "At round 120 training accuracy: 0.8899195640892579\n",
      "At round 120 training loss: 0.3757587150449417\n",
      "At round 120 Discrepancy: 0.482020317097438\n"
     ]
    },
    {
     "name": "stderr",
     "output_type": "stream",
     "text": [
      "Epoch:   0%|                                                                                     | 0/20 [00:00<?, ?it/s]"
     ]
    },
    {
     "name": "stdout",
     "output_type": "stream",
     "text": [
      "gradient difference: 12.376076787095023\n"
     ]
    },
    {
     "name": "stderr",
     "output_type": "stream",
     "text": [
      "                                                                                                                        \r"
     ]
    },
    {
     "name": "stdout",
     "output_type": "stream",
     "text": [
      "At round 121 accuracy: 0.8878035544702212\n",
      "At round 121 training accuracy: 0.889822262584328\n",
      "At round 121 training loss: 0.37808798905329116\n",
      "At round 121 Discrepancy: 0.3314754006439972\n"
     ]
    },
    {
     "name": "stderr",
     "output_type": "stream",
     "text": [
      "Epoch:  30%|███████████████████████                                                      | 6/20 [00:00<00:00, 50.41it/s]"
     ]
    },
    {
     "name": "stdout",
     "output_type": "stream",
     "text": [
      "gradient difference: 12.675387898138768\n"
     ]
    },
    {
     "name": "stderr",
     "output_type": "stream",
     "text": [
      "                                                                                                                        \r"
     ]
    },
    {
     "name": "stdout",
     "output_type": "stream",
     "text": [
      "At round 122 accuracy: 0.875322208655542\n",
      "At round 122 training accuracy: 0.8783731188375714\n",
      "At round 122 training loss: 0.39638586011097815\n",
      "At round 122 Discrepancy: 0.323731001540959\n"
     ]
    },
    {
     "name": "stderr",
     "output_type": "stream",
     "text": [
      "Epoch:   0%|                                                                                     | 0/20 [00:00<?, ?it/s]"
     ]
    },
    {
     "name": "stdout",
     "output_type": "stream",
     "text": [
      "gradient difference: 13.343107945954172\n"
     ]
    },
    {
     "name": "stderr",
     "output_type": "stream",
     "text": [
      "                                                                                                                        \r"
     ]
    },
    {
     "name": "stdout",
     "output_type": "stream",
     "text": [
      "At round 123 accuracy: 0.8869895536562203\n",
      "At round 123 training accuracy: 0.8915736896730669\n",
      "At round 123 training loss: 0.37177272597851\n",
      "At round 123 Discrepancy: 0.4769961620923355\n"
     ]
    },
    {
     "name": "stderr",
     "output_type": "stream",
     "text": [
      "Epoch:  10%|███████▋                                                                     | 2/20 [00:00<00:00, 18.08it/s]"
     ]
    },
    {
     "name": "stdout",
     "output_type": "stream",
     "text": [
      "gradient difference: 12.949879838394272\n"
     ]
    },
    {
     "name": "stderr",
     "output_type": "stream",
     "text": [
      "                                                                                                                        \r"
     ]
    },
    {
     "name": "stdout",
     "output_type": "stream",
     "text": [
      "At round 124 accuracy: 0.8916022249355583\n",
      "At round 124 training accuracy: 0.89483329008822\n",
      "At round 124 training loss: 0.3553275440199848\n",
      "At round 124 Discrepancy: 0.3008717387023133\n"
     ]
    },
    {
     "name": "stderr",
     "output_type": "stream",
     "text": [
      "Epoch:   0%|                                                                                     | 0/20 [00:00<?, ?it/s]"
     ]
    },
    {
     "name": "stdout",
     "output_type": "stream",
     "text": [
      "gradient difference: 12.445995144512812\n"
     ]
    },
    {
     "name": "stderr",
     "output_type": "stream",
     "text": [
      "                                                                                                                        \r"
     ]
    },
    {
     "name": "stdout",
     "output_type": "stream",
     "text": [
      "At round 125 accuracy: 0.8827838827838828\n",
      "At round 125 training accuracy: 0.884665282823041\n",
      "At round 125 training loss: 0.3685222830224121\n",
      "At round 125 Discrepancy: 0.31265089075297464\n"
     ]
    },
    {
     "name": "stderr",
     "output_type": "stream",
     "text": [
      "Epoch:   0%|                                                                                     | 0/20 [00:00<?, ?it/s]"
     ]
    },
    {
     "name": "stdout",
     "output_type": "stream",
     "text": [
      "gradient difference: 12.887447101334152\n"
     ]
    },
    {
     "name": "stderr",
     "output_type": "stream",
     "text": [
      "                                                                                                                        \r"
     ]
    },
    {
     "name": "stdout",
     "output_type": "stream",
     "text": [
      "At round 126 accuracy: 0.8876678876678876\n",
      "At round 126 training accuracy: 0.8902925531914894\n",
      "At round 126 training loss: 0.3569311269521933\n",
      "At round 126 Discrepancy: 0.29069373313111224\n"
     ]
    },
    {
     "name": "stderr",
     "output_type": "stream",
     "text": [
      "Epoch:   0%|                                                                                     | 0/20 [00:00<?, ?it/s]"
     ]
    },
    {
     "name": "stdout",
     "output_type": "stream",
     "text": [
      "gradient difference: 12.442250280709445\n"
     ]
    },
    {
     "name": "stderr",
     "output_type": "stream",
     "text": [
      "                                                                                                                        \r"
     ]
    },
    {
     "name": "stdout",
     "output_type": "stream",
     "text": [
      "At round 127 accuracy: 0.8898385565052231\n",
      "At round 127 training accuracy: 0.8917034250129735\n",
      "At round 127 training loss: 0.3573917417308426\n",
      "At round 127 Discrepancy: 0.32757730905344207\n"
     ]
    },
    {
     "name": "stderr",
     "output_type": "stream",
     "text": [
      "Epoch:   0%|                                                                                     | 0/20 [00:00<?, ?it/s]"
     ]
    },
    {
     "name": "stdout",
     "output_type": "stream",
     "text": [
      "gradient difference: 12.453542199461857\n"
     ]
    },
    {
     "name": "stderr",
     "output_type": "stream",
     "text": [
      "                                                                                                                        \r"
     ]
    },
    {
     "name": "stdout",
     "output_type": "stream",
     "text": [
      "At round 128 accuracy: 0.8925518925518926\n",
      "At round 128 training accuracy: 0.8967468863518422\n",
      "At round 128 training loss: 0.3478571903664347\n",
      "At round 128 Discrepancy: 0.3136271968072034\n"
     ]
    },
    {
     "name": "stderr",
     "output_type": "stream",
     "text": [
      "Epoch:   0%|                                                                                     | 0/20 [00:00<?, ?it/s]"
     ]
    },
    {
     "name": "stdout",
     "output_type": "stream",
     "text": [
      "gradient difference: 12.090986558080493\n"
     ]
    },
    {
     "name": "stderr",
     "output_type": "stream",
     "text": [
      "                                                                                                                        \r"
     ]
    },
    {
     "name": "stdout",
     "output_type": "stream",
     "text": [
      "At round 129 accuracy: 0.8909238909238909\n",
      "At round 129 training accuracy: 0.8972496107939802\n",
      "At round 129 training loss: 0.34388931897989866\n",
      "At round 129 Discrepancy: 0.325566763933542\n"
     ]
    },
    {
     "name": "stderr",
     "output_type": "stream",
     "text": [
      "Epoch:   0%|                                                                                     | 0/20 [00:00<?, ?it/s]"
     ]
    },
    {
     "name": "stdout",
     "output_type": "stream",
     "text": [
      "gradient difference: 12.03135205111756\n"
     ]
    },
    {
     "name": "stderr",
     "output_type": "stream",
     "text": [
      "                                                                                                                        \r"
     ]
    },
    {
     "name": "stdout",
     "output_type": "stream",
     "text": [
      "At round 130 accuracy: 0.8671822005155339\n",
      "At round 130 training accuracy: 0.8737675142708874\n",
      "At round 130 training loss: 0.38562162354533897\n",
      "At round 130 Discrepancy: 0.30121352716112804\n"
     ]
    },
    {
     "name": "stderr",
     "output_type": "stream",
     "text": [
      "Epoch:   0%|                                                                                     | 0/20 [00:00<?, ?it/s]"
     ]
    },
    {
     "name": "stdout",
     "output_type": "stream",
     "text": [
      "gradient difference: 13.398023513716083\n"
     ]
    },
    {
     "name": "stderr",
     "output_type": "stream",
     "text": [
      "                                                                                                                        \r"
     ]
    },
    {
     "name": "stdout",
     "output_type": "stream",
     "text": [
      "At round 131 accuracy: 0.8715235381902049\n",
      "At round 131 training accuracy: 0.8776271406331084\n",
      "At round 131 training loss: 0.37745405950394545\n",
      "At round 131 Discrepancy: 0.34616721104903353\n"
     ]
    },
    {
     "name": "stderr",
     "output_type": "stream",
     "text": [
      "Epoch:   0%|                                                                                     | 0/20 [00:00<?, ?it/s]"
     ]
    },
    {
     "name": "stdout",
     "output_type": "stream",
     "text": [
      "gradient difference: 12.951532490265693\n"
     ]
    },
    {
     "name": "stderr",
     "output_type": "stream",
     "text": [
      "                                                                                                                        \r"
     ]
    },
    {
     "name": "stdout",
     "output_type": "stream",
     "text": [
      "At round 132 accuracy: 0.8797992131325465\n",
      "At round 132 training accuracy: 0.8857518162947587\n",
      "At round 132 training loss: 0.36264708359613046\n",
      "At round 132 Discrepancy: 0.27669105212954637\n"
     ]
    },
    {
     "name": "stderr",
     "output_type": "stream",
     "text": [
      "Epoch:   0%|                                                                                     | 0/20 [00:00<?, ?it/s]"
     ]
    },
    {
     "name": "stdout",
     "output_type": "stream",
     "text": [
      "gradient difference: 12.47595641836187\n"
     ]
    },
    {
     "name": "stderr",
     "output_type": "stream",
     "text": [
      "                                                                                                                        \r"
     ]
    },
    {
     "name": "stdout",
     "output_type": "stream",
     "text": [
      "At round 133 accuracy: 0.8781712115045448\n",
      "At round 133 training accuracy: 0.881162428645563\n",
      "At round 133 training loss: 0.37998659765816883\n",
      "At round 133 Discrepancy: 0.45363203246952094\n"
     ]
    },
    {
     "name": "stderr",
     "output_type": "stream",
     "text": [
      "Epoch:   0%|                                                                                     | 0/20 [00:00<?, ?it/s]"
     ]
    },
    {
     "name": "stdout",
     "output_type": "stream",
     "text": [
      "gradient difference: 12.807217381884664\n"
     ]
    },
    {
     "name": "stderr",
     "output_type": "stream",
     "text": [
      "                                                                                                                        \r"
     ]
    },
    {
     "name": "stdout",
     "output_type": "stream",
     "text": [
      "At round 134 accuracy: 0.8830552163885497\n",
      "At round 134 training accuracy: 0.8884600415153088\n",
      "At round 134 training loss: 0.3634411201310418\n",
      "At round 134 Discrepancy: 0.2985065004582578\n"
     ]
    },
    {
     "name": "stderr",
     "output_type": "stream",
     "text": [
      "Epoch:   0%|                                                                                     | 0/20 [00:00<?, ?it/s]"
     ]
    },
    {
     "name": "stdout",
     "output_type": "stream",
     "text": [
      "gradient difference: 12.403765393711678\n"
     ]
    },
    {
     "name": "stderr",
     "output_type": "stream",
     "text": [
      "                                                                                                                        \r"
     ]
    },
    {
     "name": "stdout",
     "output_type": "stream",
     "text": [
      "At round 135 accuracy: 0.881698548365215\n",
      "At round 135 training accuracy: 0.8877951478982875\n",
      "At round 135 training loss: 0.3617842035066565\n",
      "At round 135 Discrepancy: 0.33177479612973315\n"
     ]
    },
    {
     "name": "stderr",
     "output_type": "stream",
     "text": [
      "Epoch:  25%|███████████████████▎                                                         | 5/20 [00:00<00:00, 42.02it/s]"
     ]
    },
    {
     "name": "stdout",
     "output_type": "stream",
     "text": [
      "gradient difference: 12.487318287658463\n"
     ]
    },
    {
     "name": "stderr",
     "output_type": "stream",
     "text": [
      "                                                                                                                        \r"
     ]
    },
    {
     "name": "stdout",
     "output_type": "stream",
     "text": [
      "At round 136 accuracy: 0.8890245556912224\n",
      "At round 136 training accuracy: 0.8982064089257914\n",
      "At round 136 training loss: 0.34482158947367264\n",
      "At round 136 Discrepancy: 0.29237976513158004\n"
     ]
    },
    {
     "name": "stderr",
     "output_type": "stream",
     "text": [
      "Epoch:   0%|                                                                                     | 0/20 [00:00<?, ?it/s]"
     ]
    },
    {
     "name": "stdout",
     "output_type": "stream",
     "text": [
      "gradient difference: 11.907751019317619\n"
     ]
    },
    {
     "name": "stderr",
     "output_type": "stream",
     "text": [
      "                                                                                                                        \r"
     ]
    },
    {
     "name": "stdout",
     "output_type": "stream",
     "text": [
      "At round 137 accuracy: 0.8914665581332248\n",
      "At round 137 training accuracy: 0.8974442138038402\n",
      "At round 137 training loss: 0.3419175271045602\n",
      "At round 137 Discrepancy: 0.2859065692023527\n"
     ]
    },
    {
     "name": "stderr",
     "output_type": "stream",
     "text": [
      "Epoch:   0%|                                                                                     | 0/20 [00:00<?, ?it/s]"
     ]
    },
    {
     "name": "stdout",
     "output_type": "stream",
     "text": [
      "gradient difference: 11.890120033680734\n"
     ]
    },
    {
     "name": "stderr",
     "output_type": "stream",
     "text": [
      "                                                                                                                        \r"
     ]
    },
    {
     "name": "stdout",
     "output_type": "stream",
     "text": [
      "At round 138 accuracy: 0.8888888888888888\n",
      "At round 138 training accuracy: 0.896536066424494\n",
      "At round 138 training loss: 0.3448865792347233\n",
      "At round 138 Discrepancy: 0.2524693380386268\n"
     ]
    },
    {
     "name": "stderr",
     "output_type": "stream",
     "text": [
      "Epoch:   0%|                                                                                     | 0/20 [00:00<?, ?it/s]"
     ]
    },
    {
     "name": "stdout",
     "output_type": "stream",
     "text": [
      "gradient difference: 11.878977983289609\n"
     ]
    },
    {
     "name": "stderr",
     "output_type": "stream",
     "text": [
      "                                                                                                                        \r"
     ]
    },
    {
     "name": "stdout",
     "output_type": "stream",
     "text": [
      "At round 139 accuracy: 0.8935015601682268\n",
      "At round 139 training accuracy: 0.9003794758692267\n",
      "At round 139 training loss: 0.33761397356578365\n",
      "At round 139 Discrepancy: 0.2950481028124793\n"
     ]
    },
    {
     "name": "stderr",
     "output_type": "stream",
     "text": [
      "Epoch:   0%|                                                                                     | 0/20 [00:00<?, ?it/s]"
     ]
    },
    {
     "name": "stdout",
     "output_type": "stream",
     "text": [
      "gradient difference: 11.622960616643564\n"
     ]
    },
    {
     "name": "stderr",
     "output_type": "stream",
     "text": [
      "                                                                                                                        \r"
     ]
    },
    {
     "name": "stdout",
     "output_type": "stream",
     "text": [
      "At round 140 accuracy: 0.8955365622032289\n",
      "At round 140 training accuracy: 0.9021309029579657\n",
      "At round 140 training loss: 0.3351081081985152\n",
      "At round 140 Discrepancy: 0.31190918357347824\n"
     ]
    },
    {
     "name": "stderr",
     "output_type": "stream",
     "text": [
      "Epoch:  35%|██████████████████████████▉                                                  | 7/20 [00:00<00:00, 65.77it/s]"
     ]
    },
    {
     "name": "stdout",
     "output_type": "stream",
     "text": [
      "gradient difference: 11.548817425625868\n"
     ]
    },
    {
     "name": "stderr",
     "output_type": "stream",
     "text": [
      "                                                                                                                        \r"
     ]
    },
    {
     "name": "stdout",
     "output_type": "stream",
     "text": [
      "At round 141 accuracy: 0.8873965540632207\n",
      "At round 141 training accuracy: 0.8923034509600415\n",
      "At round 141 training loss: 0.3595997718256686\n",
      "At round 141 Discrepancy: 0.35128852039271546\n"
     ]
    },
    {
     "name": "stderr",
     "output_type": "stream",
     "text": [
      "Epoch:   0%|                                                                                     | 0/20 [00:00<?, ?it/s]"
     ]
    },
    {
     "name": "stdout",
     "output_type": "stream",
     "text": [
      "gradient difference: 12.20993089143629\n"
     ]
    },
    {
     "name": "stderr",
     "output_type": "stream",
     "text": [
      "                                                                                                                        \r"
     ]
    },
    {
     "name": "stdout",
     "output_type": "stream",
     "text": [
      "At round 142 accuracy: 0.886311219644553\n",
      "At round 142 training accuracy: 0.892579138557343\n",
      "At round 142 training loss: 0.35917353568032623\n",
      "At round 142 Discrepancy: 0.3666394768543164\n"
     ]
    },
    {
     "name": "stderr",
     "output_type": "stream",
     "text": [
      "Epoch:  80%|████████████████████████████████████████████████████████████               | 16/20 [00:00<00:00, 159.98it/s]"
     ]
    },
    {
     "name": "stdout",
     "output_type": "stream",
     "text": [
      "gradient difference: 12.233032626924288\n"
     ]
    },
    {
     "name": "stderr",
     "output_type": "stream",
     "text": [
      "                                                                                                                        \r"
     ]
    },
    {
     "name": "stdout",
     "output_type": "stream",
     "text": [
      "At round 143 accuracy: 0.8884818884818885\n",
      "At round 143 training accuracy: 0.8941683964711987\n",
      "At round 143 training loss: 0.3531324480621052\n",
      "At round 143 Discrepancy: 0.3181701452672844\n"
     ]
    },
    {
     "name": "stderr",
     "output_type": "stream",
     "text": [
      "Epoch:   0%|                                                                                     | 0/20 [00:00<?, ?it/s]"
     ]
    },
    {
     "name": "stdout",
     "output_type": "stream",
     "text": [
      "gradient difference: 12.058448390026934\n"
     ]
    },
    {
     "name": "stderr",
     "output_type": "stream",
     "text": [
      "                                                                                                                        \r"
     ]
    },
    {
     "name": "stdout",
     "output_type": "stream",
     "text": [
      "At round 144 accuracy: 0.8966218966218966\n",
      "At round 144 training accuracy: 0.9024552413077322\n",
      "At round 144 training loss: 0.339054886527019\n",
      "At round 144 Discrepancy: 0.3063848452765161\n"
     ]
    },
    {
     "name": "stderr",
     "output_type": "stream",
     "text": [
      "Epoch:  50%|██████████████████████████████████████                                      | 10/20 [00:00<00:00, 95.21it/s]"
     ]
    },
    {
     "name": "stdout",
     "output_type": "stream",
     "text": [
      "gradient difference: 11.880689972814146\n"
     ]
    },
    {
     "name": "stderr",
     "output_type": "stream",
     "text": [
      "                                                                                                                        \r"
     ]
    },
    {
     "name": "stdout",
     "output_type": "stream",
     "text": [
      "At round 145 accuracy: 0.8887532220865554\n",
      "At round 145 training accuracy: 0.894427867151012\n",
      "At round 145 training loss: 0.3633790273671778\n",
      "At round 145 Discrepancy: 0.496106046034833\n"
     ]
    },
    {
     "name": "stderr",
     "output_type": "stream",
     "text": [
      "Epoch:  45%|██████████████████████████████████▋                                          | 9/20 [00:00<00:00, 80.98it/s]"
     ]
    },
    {
     "name": "stdout",
     "output_type": "stream",
     "text": [
      "gradient difference: 12.877046323641142\n"
     ]
    },
    {
     "name": "stderr",
     "output_type": "stream",
     "text": [
      "                                                                                                                        \r"
     ]
    },
    {
     "name": "stdout",
     "output_type": "stream",
     "text": [
      "At round 146 accuracy: 0.8911952245285578\n",
      "At round 146 training accuracy: 0.8968117540217956\n",
      "At round 146 training loss: 0.355504434252195\n",
      "At round 146 Discrepancy: 0.2725961714990606\n"
     ]
    },
    {
     "name": "stderr",
     "output_type": "stream",
     "text": [
      "Epoch:   0%|                                                                                     | 0/20 [00:00<?, ?it/s]"
     ]
    },
    {
     "name": "stdout",
     "output_type": "stream",
     "text": [
      "gradient difference: 12.569674987986629\n"
     ]
    },
    {
     "name": "stderr",
     "output_type": "stream",
     "text": [
      "                                                                                                                        \r"
     ]
    },
    {
     "name": "stdout",
     "output_type": "stream",
     "text": [
      "At round 147 accuracy: 0.8933658933658933\n",
      "At round 147 training accuracy: 0.9008659833938765\n",
      "At round 147 training loss: 0.34328987052891674\n",
      "At round 147 Discrepancy: 0.27954623868467143\n"
     ]
    },
    {
     "name": "stderr",
     "output_type": "stream",
     "text": [
      "Epoch:   0%|                                                                                     | 0/20 [00:00<?, ?it/s]"
     ]
    },
    {
     "name": "stdout",
     "output_type": "stream",
     "text": [
      "gradient difference: 12.180860501311837\n"
     ]
    },
    {
     "name": "stderr",
     "output_type": "stream",
     "text": [
      "                                                                                                                        \r"
     ]
    },
    {
     "name": "stdout",
     "output_type": "stream",
     "text": [
      "At round 148 accuracy: 0.894722561389228\n",
      "At round 148 training accuracy: 0.9006551634665283\n",
      "At round 148 training loss: 0.3483680948274286\n",
      "At round 148 Discrepancy: 0.398416687627012\n"
     ]
    },
    {
     "name": "stderr",
     "output_type": "stream",
     "text": [
      "Epoch:   0%|                                                                                     | 0/20 [00:00<?, ?it/s]"
     ]
    },
    {
     "name": "stdout",
     "output_type": "stream",
     "text": [
      "gradient difference: 12.239190326664051\n"
     ]
    },
    {
     "name": "stderr",
     "output_type": "stream",
     "text": [
      "                                                                                                                        \r"
     ]
    },
    {
     "name": "stdout",
     "output_type": "stream",
     "text": [
      "At round 149 accuracy: 0.8943155609822276\n",
      "At round 149 training accuracy: 0.8988713025428127\n",
      "At round 149 training loss: 0.34685350635891743\n",
      "At round 149 Discrepancy: 0.3069844523432425\n"
     ]
    },
    {
     "name": "stderr",
     "output_type": "stream",
     "text": [
      "Epoch:   0%|                                                                                     | 0/20 [00:00<?, ?it/s]"
     ]
    },
    {
     "name": "stdout",
     "output_type": "stream",
     "text": [
      "gradient difference: 12.524717573235373\n"
     ]
    },
    {
     "name": "stderr",
     "output_type": "stream",
     "text": [
      "                                                                                                                        \r"
     ]
    },
    {
     "name": "stdout",
     "output_type": "stream",
     "text": [
      "At round 150 accuracy: 0.8933658933658933\n",
      "At round 150 training accuracy: 0.8986604826154645\n",
      "At round 150 training loss: 0.3426515169461757\n",
      "At round 150 Discrepancy: 0.29726910214499963\n"
     ]
    },
    {
     "name": "stderr",
     "output_type": "stream",
     "text": [
      "Epoch:   0%|                                                                                     | 0/20 [00:00<?, ?it/s]"
     ]
    },
    {
     "name": "stdout",
     "output_type": "stream",
     "text": [
      "gradient difference: 12.446185833639394\n"
     ]
    },
    {
     "name": "stderr",
     "output_type": "stream",
     "text": [
      "                                                                                                                        \r"
     ]
    },
    {
     "name": "stdout",
     "output_type": "stream",
     "text": [
      "At round 151 accuracy: 0.894722561389228\n",
      "At round 151 training accuracy: 0.9007200311364816\n",
      "At round 151 training loss: 0.33831218443641786\n",
      "At round 151 Discrepancy: 0.2628167410349688\n"
     ]
    },
    {
     "name": "stderr",
     "output_type": "stream",
     "text": [
      "Epoch:  45%|██████████████████████████████████▋                                          | 9/20 [00:00<00:00, 89.12it/s]"
     ]
    },
    {
     "name": "stdout",
     "output_type": "stream",
     "text": [
      "gradient difference: 12.174759460852679\n"
     ]
    },
    {
     "name": "stderr",
     "output_type": "stream",
     "text": [
      "                                                                                                                        \r"
     ]
    },
    {
     "name": "stdout",
     "output_type": "stream",
     "text": [
      "At round 152 accuracy: 0.8991995658662325\n",
      "At round 152 training accuracy: 0.9043688375713544\n",
      "At round 152 training loss: 0.3310248206090351\n",
      "At round 152 Discrepancy: 0.3159973698347659\n"
     ]
    },
    {
     "name": "stderr",
     "output_type": "stream",
     "text": [
      "Epoch:  60%|█████████████████████████████████████████████                              | 12/20 [00:00<00:00, 115.63it/s]"
     ]
    },
    {
     "name": "stdout",
     "output_type": "stream",
     "text": [
      "gradient difference: 11.89963509473339\n"
     ]
    },
    {
     "name": "stderr",
     "output_type": "stream",
     "text": [
      "                                                                                                                        \r"
     ]
    },
    {
     "name": "stdout",
     "output_type": "stream",
     "text": [
      "At round 153 accuracy: 0.9008275674942342\n",
      "At round 153 training accuracy: 0.9045796574987026\n",
      "At round 153 training loss: 0.3287700048227832\n",
      "At round 153 Discrepancy: 0.3264534754837636\n"
     ]
    },
    {
     "name": "stderr",
     "output_type": "stream",
     "text": [
      "Epoch:   0%|                                                                                     | 0/20 [00:00<?, ?it/s]"
     ]
    },
    {
     "name": "stdout",
     "output_type": "stream",
     "text": [
      "gradient difference: 11.82428363971367\n"
     ]
    },
    {
     "name": "stderr",
     "output_type": "stream",
     "text": [
      "                                                                                                                        \r"
     ]
    },
    {
     "name": "stdout",
     "output_type": "stream",
     "text": [
      "At round 154 accuracy: 0.9024555691222358\n",
      "At round 154 training accuracy: 0.9075473533990659\n",
      "At round 154 training loss: 0.3259981266420081\n",
      "At round 154 Discrepancy: 0.29989644817737526\n"
     ]
    },
    {
     "name": "stderr",
     "output_type": "stream",
     "text": [
      "Epoch:   0%|                                                                                     | 0/20 [00:00<?, ?it/s]"
     ]
    },
    {
     "name": "stdout",
     "output_type": "stream",
     "text": [
      "gradient difference: 11.540793812330826\n"
     ]
    },
    {
     "name": "stderr",
     "output_type": "stream",
     "text": [
      "                                                                                                                        \r"
     ]
    },
    {
     "name": "stdout",
     "output_type": "stream",
     "text": [
      "At round 155 accuracy: 0.9010989010989011\n",
      "At round 155 training accuracy: 0.9051634665282823\n",
      "At round 155 training loss: 0.32941414925466\n",
      "At round 155 Discrepancy: 0.27312681247920234\n"
     ]
    },
    {
     "name": "stderr",
     "output_type": "stream",
     "text": [
      "Epoch:   0%|                                                                                     | 0/20 [00:00<?, ?it/s]"
     ]
    },
    {
     "name": "stdout",
     "output_type": "stream",
     "text": [
      "gradient difference: 11.778087024728526\n"
     ]
    },
    {
     "name": "stderr",
     "output_type": "stream",
     "text": [
      "                                                                                                                        \r"
     ]
    },
    {
     "name": "stdout",
     "output_type": "stream",
     "text": [
      "At round 156 accuracy: 0.9015059015059015\n",
      "At round 156 training accuracy: 0.9051148157758173\n",
      "At round 156 training loss: 0.3307695446683231\n",
      "At round 156 Discrepancy: 0.33624306569465684\n"
     ]
    },
    {
     "name": "stderr",
     "output_type": "stream",
     "text": [
      "Epoch:  45%|██████████████████████████████████▋                                          | 9/20 [00:00<00:00, 88.37it/s]"
     ]
    },
    {
     "name": "stdout",
     "output_type": "stream",
     "text": [
      "gradient difference: 11.7241054024836\n"
     ]
    },
    {
     "name": "stderr",
     "output_type": "stream",
     "text": [
      "                                                                                                                        \r"
     ]
    },
    {
     "name": "stdout",
     "output_type": "stream",
     "text": [
      "At round 157 accuracy: 0.8997422330755664\n",
      "At round 157 training accuracy: 0.9062175661650234\n",
      "At round 157 training loss: 0.32573756906504175\n",
      "At round 157 Discrepancy: 0.30505034905710643\n"
     ]
    },
    {
     "name": "stderr",
     "output_type": "stream",
     "text": [
      "Epoch:   0%|                                                                                     | 0/20 [00:00<?, ?it/s]"
     ]
    },
    {
     "name": "stdout",
     "output_type": "stream",
     "text": [
      "gradient difference: 11.634458476281129\n"
     ]
    },
    {
     "name": "stderr",
     "output_type": "stream",
     "text": [
      "                                                                                                                        \r"
     ]
    },
    {
     "name": "stdout",
     "output_type": "stream",
     "text": [
      "At round 158 accuracy: 0.901912901912902\n",
      "At round 158 training accuracy: 0.9078392579138558\n",
      "At round 158 training loss: 0.32209982852839714\n",
      "At round 158 Discrepancy: 0.28047514623668207\n"
     ]
    },
    {
     "name": "stderr",
     "output_type": "stream",
     "text": [
      "Epoch:   0%|                                                                                     | 0/20 [00:00<?, ?it/s]"
     ]
    },
    {
     "name": "stdout",
     "output_type": "stream",
     "text": [
      "gradient difference: 11.457974212980945\n"
     ]
    },
    {
     "name": "stderr",
     "output_type": "stream",
     "text": [
      "                                                                                                                        \r"
     ]
    },
    {
     "name": "stdout",
     "output_type": "stream",
     "text": [
      "At round 159 accuracy: 0.9027269027269027\n",
      "At round 159 training accuracy: 0.9078230409963675\n",
      "At round 159 training loss: 0.3203348664291211\n",
      "At round 159 Discrepancy: 0.3036093624078717\n"
     ]
    },
    {
     "name": "stderr",
     "output_type": "stream",
     "text": [
      "Epoch:   0%|                                                                                     | 0/20 [00:00<?, ?it/s]"
     ]
    },
    {
     "name": "stdout",
     "output_type": "stream",
     "text": [
      "gradient difference: 11.221873833273603\n"
     ]
    },
    {
     "name": "stderr",
     "output_type": "stream",
     "text": [
      "                                                                                                                        \r"
     ]
    },
    {
     "name": "stdout",
     "output_type": "stream",
     "text": [
      "At round 160 accuracy: 0.9021842355175689\n",
      "At round 160 training accuracy: 0.9092825635703166\n",
      "At round 160 training loss: 0.31845118093854574\n",
      "At round 160 Discrepancy: 0.29519914149238397\n"
     ]
    },
    {
     "name": "stderr",
     "output_type": "stream",
     "text": [
      "Epoch:   0%|                                                                                     | 0/20 [00:00<?, ?it/s]"
     ]
    },
    {
     "name": "stdout",
     "output_type": "stream",
     "text": [
      "gradient difference: 11.274597291863733\n"
     ]
    },
    {
     "name": "stderr",
     "output_type": "stream",
     "text": [
      "                                                                                                                        \r"
     ]
    },
    {
     "name": "stdout",
     "output_type": "stream",
     "text": [
      "At round 161 accuracy: 0.9016415683082349\n",
      "At round 161 training accuracy: 0.9087960560456668\n",
      "At round 161 training loss: 0.31841390059498365\n",
      "At round 161 Discrepancy: 0.30747079373385405\n"
     ]
    },
    {
     "name": "stderr",
     "output_type": "stream",
     "text": [
      "Epoch:   0%|                                                                                     | 0/20 [00:00<?, ?it/s]"
     ]
    },
    {
     "name": "stdout",
     "output_type": "stream",
     "text": [
      "gradient difference: 11.357798939574577\n"
     ]
    },
    {
     "name": "stderr",
     "output_type": "stream",
     "text": [
      "                                                                                                                        \r"
     ]
    },
    {
     "name": "stdout",
     "output_type": "stream",
     "text": [
      "At round 162 accuracy: 0.9031339031339032\n",
      "At round 162 training accuracy: 0.9074176180591593\n",
      "At round 162 training loss: 0.3226507144082883\n",
      "At round 162 Discrepancy: 0.3077589327169789\n"
     ]
    },
    {
     "name": "stderr",
     "output_type": "stream",
     "text": [
      "Epoch:   0%|                                                                                     | 0/20 [00:00<?, ?it/s]"
     ]
    },
    {
     "name": "stdout",
     "output_type": "stream",
     "text": [
      "gradient difference: 11.492320046278435\n"
     ]
    },
    {
     "name": "stderr",
     "output_type": "stream",
     "text": [
      "                                                                                                                        \r"
     ]
    },
    {
     "name": "stdout",
     "output_type": "stream",
     "text": [
      "At round 163 accuracy: 0.9025912359245692\n",
      "At round 163 training accuracy: 0.9077581733264141\n",
      "At round 163 training loss: 0.32517801987485245\n",
      "At round 163 Discrepancy: 0.29186084528677825\n"
     ]
    },
    {
     "name": "stderr",
     "output_type": "stream",
     "text": [
      "Epoch:  45%|██████████████████████████████████▋                                          | 9/20 [00:00<00:00, 89.88it/s]"
     ]
    },
    {
     "name": "stdout",
     "output_type": "stream",
     "text": [
      "gradient difference: 11.530994325098792\n"
     ]
    },
    {
     "name": "stderr",
     "output_type": "stream",
     "text": [
      "                                                                                                                        \r"
     ]
    },
    {
     "name": "stdout",
     "output_type": "stream",
     "text": [
      "At round 164 accuracy: 0.9002849002849003\n",
      "At round 164 training accuracy: 0.9052769849507005\n",
      "At round 164 training loss: 0.3293597593127661\n",
      "At round 164 Discrepancy: 0.28105194286079593\n"
     ]
    },
    {
     "name": "stderr",
     "output_type": "stream",
     "text": [
      "Epoch:   0%|                                                                                     | 0/20 [00:00<?, ?it/s]"
     ]
    },
    {
     "name": "stdout",
     "output_type": "stream",
     "text": [
      "gradient difference: 11.640182263963228\n"
     ]
    },
    {
     "name": "stderr",
     "output_type": "stream",
     "text": [
      "                                                                                                                        \r"
     ]
    },
    {
     "name": "stdout",
     "output_type": "stream",
     "text": [
      "At round 165 accuracy: 0.8987925654592321\n",
      "At round 165 training accuracy: 0.9046931759211209\n",
      "At round 165 training loss: 0.33114301811100344\n",
      "At round 165 Discrepancy: 0.3282740162203547\n"
     ]
    },
    {
     "name": "stderr",
     "output_type": "stream",
     "text": [
      "Epoch:   0%|                                                                                     | 0/20 [00:00<?, ?it/s]"
     ]
    },
    {
     "name": "stdout",
     "output_type": "stream",
     "text": [
      "gradient difference: 11.636956453177781\n"
     ]
    },
    {
     "name": "stderr",
     "output_type": "stream",
     "text": [
      "                                                                                                                        \r"
     ]
    },
    {
     "name": "stdout",
     "output_type": "stream",
     "text": [
      "At round 166 accuracy: 0.9021842355175689\n",
      "At round 166 training accuracy: 0.9073203165542294\n",
      "At round 166 training loss: 0.32840615639248116\n",
      "At round 166 Discrepancy: 0.2824960165505858\n"
     ]
    },
    {
     "name": "stderr",
     "output_type": "stream",
     "text": [
      "Epoch:  50%|██████████████████████████████████████                                      | 10/20 [00:00<00:00, 92.38it/s]"
     ]
    },
    {
     "name": "stdout",
     "output_type": "stream",
     "text": [
      "gradient difference: 11.456698231851778\n"
     ]
    },
    {
     "name": "stderr",
     "output_type": "stream",
     "text": [
      "                                                                                                                        \r"
     ]
    },
    {
     "name": "stdout",
     "output_type": "stream",
     "text": [
      "At round 167 accuracy: 0.8991995658662325\n",
      "At round 167 training accuracy: 0.9072716658017644\n",
      "At round 167 training loss: 0.3280931224736719\n",
      "At round 167 Discrepancy: 0.3406390765031392\n"
     ]
    },
    {
     "name": "stderr",
     "output_type": "stream",
     "text": [
      "Epoch:   0%|                                                                                     | 0/20 [00:00<?, ?it/s]"
     ]
    },
    {
     "name": "stdout",
     "output_type": "stream",
     "text": [
      "gradient difference: 11.41794042180697\n"
     ]
    },
    {
     "name": "stderr",
     "output_type": "stream",
     "text": [
      "                                                                                                                        \r"
     ]
    },
    {
     "name": "stdout",
     "output_type": "stream",
     "text": [
      "At round 168 accuracy: 0.9016415683082349\n",
      "At round 168 training accuracy: 0.907450051894136\n",
      "At round 168 training loss: 0.3279171195261801\n",
      "At round 168 Discrepancy: 0.27115617839144013\n"
     ]
    },
    {
     "name": "stderr",
     "output_type": "stream",
     "text": [
      "Epoch:  65%|████████████████████████████████████████████████▊                          | 13/20 [00:00<00:00, 120.17it/s]"
     ]
    },
    {
     "name": "stdout",
     "output_type": "stream",
     "text": [
      "gradient difference: 11.39969072313101\n"
     ]
    },
    {
     "name": "stderr",
     "output_type": "stream",
     "text": [
      "                                                                                                                        \r"
     ]
    },
    {
     "name": "stdout",
     "output_type": "stream",
     "text": [
      "At round 169 accuracy: 0.894993894993895\n",
      "At round 169 training accuracy: 0.9002010897768552\n",
      "At round 169 training loss: 0.3433963040178523\n",
      "At round 169 Discrepancy: 0.3929529643698032\n"
     ]
    },
    {
     "name": "stderr",
     "output_type": "stream",
     "text": [
      "Epoch:  40%|██████████████████████████████▊                                              | 8/20 [00:00<00:00, 74.28it/s]"
     ]
    },
    {
     "name": "stdout",
     "output_type": "stream",
     "text": [
      "gradient difference: 11.782390766260027\n"
     ]
    },
    {
     "name": "stderr",
     "output_type": "stream",
     "text": [
      "                                                                                                                        \r"
     ]
    },
    {
     "name": "stdout",
     "output_type": "stream",
     "text": [
      "At round 170 accuracy: 0.8867182200515534\n",
      "At round 170 training accuracy: 0.892676440062273\n",
      "At round 170 training loss: 0.3627745598493836\n",
      "At round 170 Discrepancy: 0.35244773019881803\n"
     ]
    },
    {
     "name": "stderr",
     "output_type": "stream",
     "text": [
      "Epoch:   0%|                                                                                     | 0/20 [00:00<?, ?it/s]"
     ]
    },
    {
     "name": "stdout",
     "output_type": "stream",
     "text": [
      "gradient difference: 12.221952454141148\n"
     ]
    },
    {
     "name": "stderr",
     "output_type": "stream",
     "text": [
      "                                                                                                                        \r"
     ]
    },
    {
     "name": "stdout",
     "output_type": "stream",
     "text": [
      "At round 171 accuracy: 0.8905168905168905\n",
      "At round 171 training accuracy: 0.8964549818370524\n",
      "At round 171 training loss: 0.35378020689469925\n",
      "At round 171 Discrepancy: 0.336543068390283\n"
     ]
    },
    {
     "name": "stderr",
     "output_type": "stream",
     "text": [
      "Epoch:  35%|██████████████████████████▉                                                  | 7/20 [00:00<00:00, 67.44it/s]"
     ]
    },
    {
     "name": "stdout",
     "output_type": "stream",
     "text": [
      "gradient difference: 12.159623754248916\n"
     ]
    },
    {
     "name": "stderr",
     "output_type": "stream",
     "text": [
      "                                                                                                                        \r"
     ]
    },
    {
     "name": "stdout",
     "output_type": "stream",
     "text": [
      "At round 172 accuracy: 0.8917378917378918\n",
      "At round 172 training accuracy: 0.8988550856253243\n",
      "At round 172 training loss: 0.3470813453985684\n",
      "At round 172 Discrepancy: 0.28467695860936526\n"
     ]
    },
    {
     "name": "stderr",
     "output_type": "stream",
     "text": [
      "Epoch:  45%|██████████████████████████████████▋                                          | 9/20 [00:00<00:00, 87.06it/s]"
     ]
    },
    {
     "name": "stdout",
     "output_type": "stream",
     "text": [
      "gradient difference: 12.006331234176015\n"
     ]
    },
    {
     "name": "stderr",
     "output_type": "stream",
     "text": [
      "                                                                                                                        \r"
     ]
    },
    {
     "name": "stdout",
     "output_type": "stream",
     "text": [
      "At round 173 accuracy: 0.8956722290055623\n",
      "At round 173 training accuracy: 0.9038498962117281\n",
      "At round 173 training loss: 0.3348926050696265\n",
      "At round 173 Discrepancy: 0.296106552314891\n"
     ]
    },
    {
     "name": "stderr",
     "output_type": "stream",
     "text": [
      "Epoch:   0%|                                                                                     | 0/20 [00:00<?, ?it/s]"
     ]
    },
    {
     "name": "stdout",
     "output_type": "stream",
     "text": [
      "gradient difference: 11.58066123618392\n"
     ]
    },
    {
     "name": "stderr",
     "output_type": "stream",
     "text": [
      "                                                                                                                        \r"
     ]
    },
    {
     "name": "stdout",
     "output_type": "stream",
     "text": [
      "At round 174 accuracy: 0.8910595577262244\n",
      "At round 174 training accuracy: 0.8984820965230929\n",
      "At round 174 training loss: 0.3526465152246519\n",
      "At round 174 Discrepancy: 0.3432690999659722\n"
     ]
    },
    {
     "name": "stderr",
     "output_type": "stream",
     "text": [
      "Epoch:   0%|                                                                                     | 0/20 [00:00<?, ?it/s]"
     ]
    },
    {
     "name": "stdout",
     "output_type": "stream",
     "text": [
      "gradient difference: 12.403302622357856\n"
     ]
    },
    {
     "name": "stderr",
     "output_type": "stream",
     "text": [
      "                                                                                                                        \r"
     ]
    },
    {
     "name": "stdout",
     "output_type": "stream",
     "text": [
      "At round 175 accuracy: 0.8894315560982228\n",
      "At round 175 training accuracy: 0.8953684483653347\n",
      "At round 175 training loss: 0.3564181694750256\n",
      "At round 175 Discrepancy: 0.31147383593802547\n"
     ]
    },
    {
     "name": "stderr",
     "output_type": "stream",
     "text": [
      "Epoch:   0%|                                                                                     | 0/20 [00:00<?, ?it/s]"
     ]
    },
    {
     "name": "stdout",
     "output_type": "stream",
     "text": [
      "gradient difference: 12.507919005377131\n"
     ]
    },
    {
     "name": "stderr",
     "output_type": "stream",
     "text": [
      "                                                                                                                        \r"
     ]
    },
    {
     "name": "stdout",
     "output_type": "stream",
     "text": [
      "At round 176 accuracy: 0.8955365622032289\n",
      "At round 176 training accuracy: 0.9021795537104307\n",
      "At round 176 training loss: 0.33736519305391366\n",
      "At round 176 Discrepancy: 0.3276414224328871\n"
     ]
    },
    {
     "name": "stderr",
     "output_type": "stream",
     "text": [
      "Epoch:   0%|                                                                                     | 0/20 [00:00<?, ?it/s]"
     ]
    },
    {
     "name": "stdout",
     "output_type": "stream",
     "text": [
      "gradient difference: 11.856283387339028\n"
     ]
    },
    {
     "name": "stderr",
     "output_type": "stream",
     "text": [
      "                                                                                                                        \r"
     ]
    },
    {
     "name": "stdout",
     "output_type": "stream",
     "text": [
      "At round 177 accuracy: 0.8944512277845611\n",
      "At round 177 training accuracy: 0.9033309548521017\n",
      "At round 177 training loss: 0.33408759418661055\n",
      "At round 177 Discrepancy: 0.2960859424751218\n"
     ]
    },
    {
     "name": "stderr",
     "output_type": "stream",
     "text": [
      "Epoch:  85%|███████████████████████████████████████████████████████████████▊           | 17/20 [00:00<00:00, 161.80it/s]"
     ]
    },
    {
     "name": "stdout",
     "output_type": "stream",
     "text": [
      "gradient difference: 11.761001380523737\n"
     ]
    },
    {
     "name": "stderr",
     "output_type": "stream",
     "text": [
      "                                                                                                                        \r"
     ]
    },
    {
     "name": "stdout",
     "output_type": "stream",
     "text": [
      "At round 178 accuracy: 0.8986568986568987\n",
      "At round 178 training accuracy: 0.9054553710430722\n",
      "At round 178 training loss: 0.32957742361985093\n",
      "At round 178 Discrepancy: 0.25137160303660777\n"
     ]
    },
    {
     "name": "stderr",
     "output_type": "stream",
     "text": [
      "Epoch:   0%|                                                                                     | 0/20 [00:00<?, ?it/s]"
     ]
    },
    {
     "name": "stdout",
     "output_type": "stream",
     "text": [
      "gradient difference: 11.669251851723343\n"
     ]
    },
    {
     "name": "stderr",
     "output_type": "stream",
     "text": [
      "                                                                                                                        \r"
     ]
    },
    {
     "name": "stdout",
     "output_type": "stream",
     "text": [
      "At round 179 accuracy: 0.8989282322615656\n",
      "At round 179 training accuracy: 0.9059580954852102\n",
      "At round 179 training loss: 0.33044708946310286\n",
      "At round 179 Discrepancy: 0.29261479217735664\n"
     ]
    },
    {
     "name": "stderr",
     "output_type": "stream",
     "text": [
      "Epoch:  15%|███████████▌                                                                 | 3/20 [00:00<00:00, 24.29it/s]"
     ]
    },
    {
     "name": "stdout",
     "output_type": "stream",
     "text": [
      "gradient difference: 11.761800618983312\n"
     ]
    },
    {
     "name": "stderr",
     "output_type": "stream",
     "text": [
      "                                                                                                                        \r"
     ]
    },
    {
     "name": "stdout",
     "output_type": "stream",
     "text": [
      "At round 180 accuracy: 0.8968932302265635\n",
      "At round 180 training accuracy: 0.9023741567202906\n",
      "At round 180 training loss: 0.3383155444139261\n",
      "At round 180 Discrepancy: 0.35113855087692236\n"
     ]
    },
    {
     "name": "stderr",
     "output_type": "stream",
     "text": [
      "Epoch:  15%|███████████▌                                                                 | 3/20 [00:00<00:00, 28.45it/s]"
     ]
    },
    {
     "name": "stdout",
     "output_type": "stream",
     "text": [
      "gradient difference: 12.031835090702252\n"
     ]
    },
    {
     "name": "stderr",
     "output_type": "stream",
     "text": [
      "                                                                                                                        \r"
     ]
    },
    {
     "name": "stdout",
     "output_type": "stream",
     "text": [
      "At round 181 accuracy: 0.8944512277845611\n",
      "At round 181 training accuracy: 0.9013524909185262\n",
      "At round 181 training loss: 0.3376893227590445\n",
      "At round 181 Discrepancy: 0.2931030326925214\n"
     ]
    },
    {
     "name": "stderr",
     "output_type": "stream",
     "text": [
      "Epoch:  95%|███████████████████████████████████████████████████████████████████████▎   | 19/20 [00:00<00:00, 179.34it/s]"
     ]
    },
    {
     "name": "stdout",
     "output_type": "stream",
     "text": [
      "gradient difference: 11.971091831796507\n"
     ]
    },
    {
     "name": "stderr",
     "output_type": "stream",
     "text": [
      "                                                                                                                        \r"
     ]
    },
    {
     "name": "stdout",
     "output_type": "stream",
     "text": [
      "At round 182 accuracy: 0.8986568986568987\n",
      "At round 182 training accuracy: 0.9059905293201869\n",
      "At round 182 training loss: 0.3288775971124602\n",
      "At round 182 Discrepancy: 0.33183390244377886\n"
     ]
    },
    {
     "name": "stderr",
     "output_type": "stream",
     "text": [
      "Epoch:  35%|██████████████████████████▉                                                  | 7/20 [00:00<00:00, 61.76it/s]"
     ]
    },
    {
     "name": "stdout",
     "output_type": "stream",
     "text": [
      "gradient difference: 11.649172183536429\n"
     ]
    },
    {
     "name": "stderr",
     "output_type": "stream",
     "text": [
      "                                                                                                                        \r"
     ]
    },
    {
     "name": "stdout",
     "output_type": "stream",
     "text": [
      "At round 183 accuracy: 0.8959435626102292\n",
      "At round 183 training accuracy: 0.9028768811624286\n",
      "At round 183 training loss: 0.33572080879283767\n",
      "At round 183 Discrepancy: 0.2634837993342334\n"
     ]
    },
    {
     "name": "stderr",
     "output_type": "stream",
     "text": [
      "Epoch:   0%|                                                                                     | 0/20 [00:00<?, ?it/s]"
     ]
    },
    {
     "name": "stdout",
     "output_type": "stream",
     "text": [
      "gradient difference: 11.695913109332093\n"
     ]
    },
    {
     "name": "stderr",
     "output_type": "stream",
     "text": [
      "                                                                                                                        \r"
     ]
    },
    {
     "name": "stdout",
     "output_type": "stream",
     "text": [
      "At round 184 accuracy: 0.895265228598562\n",
      "At round 184 training accuracy: 0.900590295796575\n",
      "At round 184 training loss: 0.3355027443323549\n",
      "At round 184 Discrepancy: 0.34609478800584315\n"
     ]
    },
    {
     "name": "stderr",
     "output_type": "stream",
     "text": [
      "Epoch:   0%|                                                                                     | 0/20 [00:00<?, ?it/s]"
     ]
    },
    {
     "name": "stdout",
     "output_type": "stream",
     "text": [
      "gradient difference: 12.161584178195206\n"
     ]
    },
    {
     "name": "stderr",
     "output_type": "stream",
     "text": [
      "                                                                                                                        \r"
     ]
    },
    {
     "name": "stdout",
     "output_type": "stream",
     "text": [
      "At round 185 accuracy: 0.8928232261565595\n",
      "At round 185 training accuracy: 0.8987091333679295\n",
      "At round 185 training loss: 0.3359430342606744\n",
      "At round 185 Discrepancy: 0.2571731439217965\n"
     ]
    },
    {
     "name": "stderr",
     "output_type": "stream",
     "text": [
      "Epoch:  25%|███████████████████▎                                                         | 5/20 [00:00<00:00, 44.94it/s]"
     ]
    },
    {
     "name": "stdout",
     "output_type": "stream",
     "text": [
      "gradient difference: 11.859943920556052\n"
     ]
    },
    {
     "name": "stderr",
     "output_type": "stream",
     "text": [
      "                                                                                                                        \r"
     ]
    },
    {
     "name": "stdout",
     "output_type": "stream",
     "text": [
      "At round 186 accuracy: 0.8987925654592321\n",
      "At round 186 training accuracy: 0.9046283082511676\n",
      "At round 186 training loss: 0.32571451304184773\n",
      "At round 186 Discrepancy: 0.33396290638855536\n"
     ]
    },
    {
     "name": "stderr",
     "output_type": "stream",
     "text": [
      "Epoch:  40%|██████████████████████████████▊                                              | 8/20 [00:00<00:00, 72.30it/s]"
     ]
    },
    {
     "name": "stdout",
     "output_type": "stream",
     "text": [
      "gradient difference: 11.33990511705193\n"
     ]
    },
    {
     "name": "stderr",
     "output_type": "stream",
     "text": [
      "                                                                                                                        \r"
     ]
    },
    {
     "name": "stdout",
     "output_type": "stream",
     "text": [
      "At round 187 accuracy: 0.9010989010989011\n",
      "At round 187 training accuracy: 0.906801375194603\n",
      "At round 187 training loss: 0.32220187941012124\n",
      "At round 187 Discrepancy: 0.274483195931594\n"
     ]
    },
    {
     "name": "stderr",
     "output_type": "stream",
     "text": [
      "Epoch:   0%|                                                                                     | 0/20 [00:00<?, ?it/s]"
     ]
    },
    {
     "name": "stdout",
     "output_type": "stream",
     "text": [
      "gradient difference: 11.237760684210718\n"
     ]
    },
    {
     "name": "stderr",
     "output_type": "stream",
     "text": [
      "                                                                                                                        \r"
     ]
    },
    {
     "name": "stdout",
     "output_type": "stream",
     "text": [
      "At round 188 accuracy: 0.9027269027269027\n",
      "At round 188 training accuracy: 0.908001427088739\n",
      "At round 188 training loss: 0.3211016933259179\n",
      "At round 188 Discrepancy: 0.23980809419962723\n"
     ]
    },
    {
     "name": "stderr",
     "output_type": "stream",
     "text": [
      "Epoch:   0%|                                                                                     | 0/20 [00:00<?, ?it/s]"
     ]
    },
    {
     "name": "stdout",
     "output_type": "stream",
     "text": [
      "gradient difference: 11.146100895823034\n"
     ]
    },
    {
     "name": "stderr",
     "output_type": "stream",
     "text": [
      "                                                                                                                        \r"
     ]
    },
    {
     "name": "stdout",
     "output_type": "stream",
     "text": [
      "At round 189 accuracy: 0.9035409035409036\n",
      "At round 189 training accuracy: 0.9095906850025947\n",
      "At round 189 training loss: 0.31771473275868733\n",
      "At round 189 Discrepancy: 0.2485273864330179\n"
     ]
    },
    {
     "name": "stderr",
     "output_type": "stream",
     "text": [
      "Epoch:   0%|                                                                                     | 0/20 [00:00<?, ?it/s]"
     ]
    },
    {
     "name": "stdout",
     "output_type": "stream",
     "text": [
      "gradient difference: 11.032652425176305\n"
     ]
    },
    {
     "name": "stderr",
     "output_type": "stream",
     "text": [
      "                                                                                                                        \r"
     ]
    },
    {
     "name": "stdout",
     "output_type": "stream",
     "text": [
      "At round 190 accuracy: 0.903676570343237\n",
      "At round 190 training accuracy: 0.9100771925272444\n",
      "At round 190 training loss: 0.31772952086178513\n",
      "At round 190 Discrepancy: 0.30163133798121117\n"
     ]
    },
    {
     "name": "stderr",
     "output_type": "stream",
     "text": [
      "Epoch:   0%|                                                                                     | 0/20 [00:00<?, ?it/s]"
     ]
    },
    {
     "name": "stdout",
     "output_type": "stream",
     "text": [
      "gradient difference: 10.922702794163838\n"
     ]
    },
    {
     "name": "stderr",
     "output_type": "stream",
     "text": [
      "                                                                                                                        \r"
     ]
    },
    {
     "name": "stdout",
     "output_type": "stream",
     "text": [
      "At round 191 accuracy: 0.9020485687152354\n",
      "At round 191 training accuracy: 0.9077743902439024\n",
      "At round 191 training loss: 0.3216518764954991\n",
      "At round 191 Discrepancy: 0.3146966899974946\n"
     ]
    },
    {
     "name": "stderr",
     "output_type": "stream",
     "text": [
      "Epoch:   0%|                                                                                     | 0/20 [00:00<?, ?it/s]"
     ]
    },
    {
     "name": "stdout",
     "output_type": "stream",
     "text": [
      "gradient difference: 11.254752353879029\n"
     ]
    },
    {
     "name": "stderr",
     "output_type": "stream",
     "text": [
      "                                                                                                                        \r"
     ]
    },
    {
     "name": "stdout",
     "output_type": "stream",
     "text": [
      "At round 192 accuracy: 0.9023199023199023\n",
      "At round 192 training accuracy: 0.9072554488842761\n",
      "At round 192 training loss: 0.3232730967563576\n",
      "At round 192 Discrepancy: 0.268953831153596\n"
     ]
    },
    {
     "name": "stderr",
     "output_type": "stream",
     "text": [
      "Epoch:   0%|                                                                                     | 0/20 [00:00<?, ?it/s]"
     ]
    },
    {
     "name": "stdout",
     "output_type": "stream",
     "text": [
      "gradient difference: 11.221957832907417\n"
     ]
    },
    {
     "name": "stderr",
     "output_type": "stream",
     "text": [
      "                                                                                                                        \r"
     ]
    },
    {
     "name": "stdout",
     "output_type": "stream",
     "text": [
      "At round 193 accuracy: 0.9012345679012346\n",
      "At round 193 training accuracy: 0.9050823819408407\n",
      "At round 193 training loss: 0.32663273913181085\n",
      "At round 193 Discrepancy: 0.279771651697602\n"
     ]
    },
    {
     "name": "stderr",
     "output_type": "stream",
     "text": [
      "Epoch:   0%|                                                                                     | 0/20 [00:00<?, ?it/s]"
     ]
    },
    {
     "name": "stdout",
     "output_type": "stream",
     "text": [
      "gradient difference: 11.210822998055606\n"
     ]
    },
    {
     "name": "stderr",
     "output_type": "stream",
     "text": [
      "                                                                                                                        \r"
     ]
    },
    {
     "name": "stdout",
     "output_type": "stream",
     "text": [
      "At round 194 accuracy: 0.9012345679012346\n",
      "At round 194 training accuracy: 0.9065905552672548\n",
      "At round 194 training loss: 0.3188953752045932\n",
      "At round 194 Discrepancy: 0.31479099939210703\n"
     ]
    },
    {
     "name": "stderr",
     "output_type": "stream",
     "text": [
      "Epoch:   0%|                                                                                     | 0/20 [00:00<?, ?it/s]"
     ]
    },
    {
     "name": "stdout",
     "output_type": "stream",
     "text": [
      "gradient difference: 10.999711765137508\n"
     ]
    },
    {
     "name": "stderr",
     "output_type": "stream",
     "text": [
      "                                                                                                                        \r"
     ]
    },
    {
     "name": "stdout",
     "output_type": "stream",
     "text": [
      "At round 195 accuracy: 0.8979785646452313\n",
      "At round 195 training accuracy: 0.903947197716658\n",
      "At round 195 training loss: 0.3240826706064659\n",
      "At round 195 Discrepancy: 0.31765304344021583\n"
     ]
    },
    {
     "name": "stderr",
     "output_type": "stream",
     "text": [
      "Epoch:   0%|                                                                                     | 0/20 [00:00<?, ?it/s]"
     ]
    },
    {
     "name": "stdout",
     "output_type": "stream",
     "text": [
      "gradient difference: 11.321948550438206\n"
     ]
    },
    {
     "name": "stderr",
     "output_type": "stream",
     "text": [
      "                                                                                                                        \r"
     ]
    },
    {
     "name": "stdout",
     "output_type": "stream",
     "text": [
      "At round 196 accuracy: 0.8951295617962285\n",
      "At round 196 training accuracy: 0.9010119356512714\n",
      "At round 196 training loss: 0.3270736143418309\n",
      "At round 196 Discrepancy: 0.2860504265514153\n"
     ]
    },
    {
     "name": "stderr",
     "output_type": "stream",
     "text": [
      "Epoch:  70%|████████████████████████████████████████████████████▌                      | 14/20 [00:00<00:00, 137.95it/s]"
     ]
    },
    {
     "name": "stdout",
     "output_type": "stream",
     "text": [
      "gradient difference: 11.39575148499497\n"
     ]
    },
    {
     "name": "stderr",
     "output_type": "stream",
     "text": [
      "                                                                                                                        \r"
     ]
    },
    {
     "name": "stdout",
     "output_type": "stream",
     "text": [
      "At round 197 accuracy: 0.899606566273233\n",
      "At round 197 training accuracy: 0.9065256875973015\n",
      "At round 197 training loss: 0.3180423995687338\n",
      "At round 197 Discrepancy: 0.2688921737770972\n"
     ]
    },
    {
     "name": "stderr",
     "output_type": "stream",
     "text": [
      "Epoch:  50%|██████████████████████████████████████                                      | 10/20 [00:00<00:00, 94.39it/s]"
     ]
    },
    {
     "name": "stdout",
     "output_type": "stream",
     "text": [
      "gradient difference: 11.10219902161515\n"
     ]
    },
    {
     "name": "stderr",
     "output_type": "stream",
     "text": [
      "                                                                                                                        \r"
     ]
    },
    {
     "name": "stdout",
     "output_type": "stream",
     "text": [
      "At round 198 accuracy: 0.8962148962148963\n",
      "At round 198 training accuracy: 0.9026660612350804\n",
      "At round 198 training loss: 0.33241410174060415\n",
      "At round 198 Discrepancy: 0.5128316666833139\n"
     ]
    },
    {
     "name": "stderr",
     "output_type": "stream",
     "text": [
      "Epoch:   0%|                                                                                     | 0/20 [00:00<?, ?it/s]"
     ]
    },
    {
     "name": "stdout",
     "output_type": "stream",
     "text": [
      "gradient difference: 11.915135500549091\n"
     ]
    },
    {
     "name": "stderr",
     "output_type": "stream",
     "text": [
      "                                                                                                                        \r"
     ]
    },
    {
     "name": "stdout",
     "output_type": "stream",
     "text": [
      "At round 199 accuracy: 0.8959435626102292\n",
      "At round 199 training accuracy: 0.9013849247535028\n",
      "At round 199 training loss: 0.33314781273082317\n",
      "At round 199 Discrepancy: 0.2866809449302629\n"
     ]
    },
    {
     "name": "stderr",
     "output_type": "stream",
     "text": [
      "Epoch:   0%|                                                                                     | 0/20 [00:00<?, ?it/s]"
     ]
    },
    {
     "name": "stdout",
     "output_type": "stream",
     "text": [
      "gradient difference: 12.032147001243532\n"
     ]
    },
    {
     "name": "stderr",
     "output_type": "stream",
     "text": [
      "                                                                                                                        \r"
     ]
    },
    {
     "name": "stdout",
     "output_type": "stream",
     "text": [
      "At round 200 accuracy: 0.8911952245285578\n",
      "At round 200 training accuracy: 0.8961306434872859\n",
      "At round 200 training loss: 0.3462902022365937\n",
      "At round 200 Discrepancy: 0.3690983761505989\n"
     ]
    },
    {
     "name": "stderr",
     "output_type": "stream",
     "text": [
      "Epoch:   0%|                                                                                     | 0/20 [00:00<?, ?it/s]"
     ]
    },
    {
     "name": "stdout",
     "output_type": "stream",
     "text": [
      "gradient difference: 12.497421438426032\n"
     ]
    },
    {
     "name": "stderr",
     "output_type": "stream",
     "text": [
      "                                                                                                                        \r"
     ]
    },
    {
     "name": "stdout",
     "output_type": "stream",
     "text": [
      "At round 201 accuracy: 0.8925518925518926\n",
      "At round 201 training accuracy: 0.8976225998962117\n",
      "At round 201 training loss: 0.3437690441633203\n",
      "At round 201 Discrepancy: 0.2719357544145381\n"
     ]
    },
    {
     "name": "stderr",
     "output_type": "stream",
     "text": [
      "Epoch:   0%|                                                                                     | 0/20 [00:00<?, ?it/s]"
     ]
    },
    {
     "name": "stdout",
     "output_type": "stream",
     "text": [
      "gradient difference: 12.44134616355624\n"
     ]
    },
    {
     "name": "stderr",
     "output_type": "stream",
     "text": [
      "                                                                                                                        \r"
     ]
    },
    {
     "name": "stdout",
     "output_type": "stream",
     "text": [
      "At round 202 accuracy: 0.8852258852258852\n",
      "At round 202 training accuracy: 0.8910871821484172\n",
      "At round 202 training loss: 0.3605645958005985\n",
      "At round 202 Discrepancy: 0.4537222201255354\n"
     ]
    },
    {
     "name": "stderr",
     "output_type": "stream",
     "text": [
      "Epoch:   0%|                                                                                     | 0/20 [00:00<?, ?it/s]"
     ]
    },
    {
     "name": "stdout",
     "output_type": "stream",
     "text": [
      "gradient difference: 13.145460513328356\n"
     ]
    },
    {
     "name": "stderr",
     "output_type": "stream",
     "text": [
      "                                                                                                                        \r"
     ]
    },
    {
     "name": "stdout",
     "output_type": "stream",
     "text": [
      "At round 203 accuracy: 0.8888888888888888\n",
      "At round 203 training accuracy: 0.89502789309808\n",
      "At round 203 training loss: 0.3482841695726978\n",
      "At round 203 Discrepancy: 0.3539373553093135\n"
     ]
    },
    {
     "name": "stderr",
     "output_type": "stream",
     "text": [
      "Epoch:   0%|                                                                                     | 0/20 [00:00<?, ?it/s]"
     ]
    },
    {
     "name": "stdout",
     "output_type": "stream",
     "text": [
      "gradient difference: 12.62174424994023\n"
     ]
    },
    {
     "name": "stderr",
     "output_type": "stream",
     "text": [
      "                                                                                                                        \r"
     ]
    },
    {
     "name": "stdout",
     "output_type": "stream",
     "text": [
      "At round 204 accuracy: 0.8897028897028897\n",
      "At round 204 training accuracy: 0.8947684224182667\n",
      "At round 204 training loss: 0.3442579053941063\n",
      "At round 204 Discrepancy: 0.299716082898689\n"
     ]
    },
    {
     "name": "stderr",
     "output_type": "stream",
     "text": [
      "Epoch:   0%|                                                                                     | 0/20 [00:00<?, ?it/s]"
     ]
    },
    {
     "name": "stdout",
     "output_type": "stream",
     "text": [
      "gradient difference: 12.30139505240952\n"
     ]
    },
    {
     "name": "stderr",
     "output_type": "stream",
     "text": [
      "                                                                                                                        \r"
     ]
    },
    {
     "name": "stdout",
     "output_type": "stream",
     "text": [
      "At round 205 accuracy: 0.8945868945868946\n",
      "At round 205 training accuracy: 0.8999416190970421\n",
      "At round 205 training loss: 0.3337677435196068\n",
      "At round 205 Discrepancy: 0.2989984375954431\n"
     ]
    },
    {
     "name": "stderr",
     "output_type": "stream",
     "text": [
      "Epoch:  25%|███████████████████▎                                                         | 5/20 [00:00<00:00, 48.21it/s]"
     ]
    },
    {
     "name": "stdout",
     "output_type": "stream",
     "text": [
      "gradient difference: 11.964805097387506\n"
     ]
    },
    {
     "name": "stderr",
     "output_type": "stream",
     "text": [
      "                                                                                                                        \r"
     ]
    },
    {
     "name": "stdout",
     "output_type": "stream",
     "text": [
      "At round 206 accuracy: 0.8959435626102292\n",
      "At round 206 training accuracy: 0.9019849507005708\n",
      "At round 206 training loss: 0.3263232132167298\n",
      "At round 206 Discrepancy: 0.3296888591132182\n"
     ]
    },
    {
     "name": "stderr",
     "output_type": "stream",
     "text": [
      "Epoch:  10%|███████▋                                                                     | 2/20 [00:00<00:01, 14.19it/s]"
     ]
    },
    {
     "name": "stdout",
     "output_type": "stream",
     "text": [
      "gradient difference: 11.694111059166277\n"
     ]
    },
    {
     "name": "stderr",
     "output_type": "stream",
     "text": [
      "                                                                                                                        \r"
     ]
    },
    {
     "name": "stdout",
     "output_type": "stream",
     "text": [
      "At round 207 accuracy: 0.901912901912902\n",
      "At round 207 training accuracy: 0.909752854177478\n",
      "At round 207 training loss: 0.31513200744329967\n",
      "At round 207 Discrepancy: 0.31658447797505623\n"
     ]
    },
    {
     "name": "stderr",
     "output_type": "stream",
     "text": [
      "Epoch:   0%|                                                                                     | 0/20 [00:00<?, ?it/s]"
     ]
    },
    {
     "name": "stdout",
     "output_type": "stream",
     "text": [
      "gradient difference: 11.262325754992816\n"
     ]
    },
    {
     "name": "stderr",
     "output_type": "stream",
     "text": [
      "                                                                                                                        \r"
     ]
    },
    {
     "name": "stdout",
     "output_type": "stream",
     "text": [
      "At round 208 accuracy: 0.9008275674942342\n",
      "At round 208 training accuracy: 0.9094771665801764\n",
      "At round 208 training loss: 0.3155618033545673\n",
      "At round 208 Discrepancy: 0.27609794622001027\n"
     ]
    },
    {
     "name": "stderr",
     "output_type": "stream",
     "text": [
      "Epoch:   0%|                                                                                     | 0/20 [00:00<?, ?it/s]"
     ]
    },
    {
     "name": "stdout",
     "output_type": "stream",
     "text": [
      "gradient difference: 11.348936148187864\n"
     ]
    },
    {
     "name": "stderr",
     "output_type": "stream",
     "text": [
      "                                                                                                                        \r"
     ]
    },
    {
     "name": "stdout",
     "output_type": "stream",
     "text": [
      "At round 209 accuracy: 0.9021842355175689\n",
      "At round 209 training accuracy: 0.9115204981837053\n",
      "At round 209 training loss: 0.3093267264916391\n",
      "At round 209 Discrepancy: 0.29476577941210136\n"
     ]
    },
    {
     "name": "stderr",
     "output_type": "stream",
     "text": [
      "Epoch:  15%|███████████▌                                                                 | 3/20 [00:00<00:00, 21.83it/s]"
     ]
    },
    {
     "name": "stdout",
     "output_type": "stream",
     "text": [
      "gradient difference: 11.059071706017571\n"
     ]
    },
    {
     "name": "stderr",
     "output_type": "stream",
     "text": [
      "                                                                                                                        \r"
     ]
    },
    {
     "name": "stdout",
     "output_type": "stream",
     "text": [
      "At round 210 accuracy: 0.9050332383665717\n",
      "At round 210 training accuracy: 0.9134665282823041\n",
      "At round 210 training loss: 0.30541438705109775\n",
      "At round 210 Discrepancy: 0.2571427315064662\n"
     ]
    },
    {
     "name": "stderr",
     "output_type": "stream",
     "text": [
      "Epoch:   0%|                                                                                     | 0/20 [00:00<?, ?it/s]"
     ]
    },
    {
     "name": "stdout",
     "output_type": "stream",
     "text": [
      "gradient difference: 11.011094740855729\n"
     ]
    },
    {
     "name": "stderr",
     "output_type": "stream",
     "text": [
      "                                                                                                                        \r"
     ]
    },
    {
     "name": "stdout",
     "output_type": "stream",
     "text": [
      "At round 211 accuracy: 0.903676570343237\n",
      "At round 211 training accuracy: 0.9117313181110535\n",
      "At round 211 training loss: 0.3071408716735919\n",
      "At round 211 Discrepancy: 0.27598473309709654\n"
     ]
    },
    {
     "name": "stderr",
     "output_type": "stream",
     "text": [
      "Epoch:   0%|                                                                                     | 0/20 [00:00<?, ?it/s]"
     ]
    },
    {
     "name": "stdout",
     "output_type": "stream",
     "text": [
      "gradient difference: 10.98102164852172\n"
     ]
    },
    {
     "name": "stderr",
     "output_type": "stream",
     "text": [
      "                                                                                                                        \r"
     ]
    },
    {
     "name": "stdout",
     "output_type": "stream",
     "text": [
      "At round 212 accuracy: 0.9031339031339032\n",
      "At round 212 training accuracy: 0.9090230928905034\n",
      "At round 212 training loss: 0.3172348818538933\n",
      "At round 212 Discrepancy: 0.35749645566549193\n"
     ]
    },
    {
     "name": "stderr",
     "output_type": "stream",
     "text": [
      "Epoch:   0%|                                                                                     | 0/20 [00:00<?, ?it/s]"
     ]
    },
    {
     "name": "stdout",
     "output_type": "stream",
     "text": [
      "gradient difference: 11.326863399649895\n"
     ]
    },
    {
     "name": "stderr",
     "output_type": "stream",
     "text": [
      "                                                                                                                        \r"
     ]
    },
    {
     "name": "stdout",
     "output_type": "stream",
     "text": [
      "At round 213 accuracy: 0.8985212318545652\n",
      "At round 213 training accuracy: 0.9033796056045666\n",
      "At round 213 training loss: 0.3224816793698158\n",
      "At round 213 Discrepancy: 0.35631786215609185\n"
     ]
    },
    {
     "name": "stderr",
     "output_type": "stream",
     "text": [
      "Epoch:   0%|                                                                                     | 0/20 [00:00<?, ?it/s]"
     ]
    },
    {
     "name": "stdout",
     "output_type": "stream",
     "text": [
      "gradient difference: 11.41556006614283\n"
     ]
    },
    {
     "name": "stderr",
     "output_type": "stream",
     "text": [
      "                                                                                                                        \r"
     ]
    },
    {
     "name": "stdout",
     "output_type": "stream",
     "text": [
      "At round 214 accuracy: 0.8994708994708994\n",
      "At round 214 training accuracy: 0.9051796834457706\n",
      "At round 214 training loss: 0.3179926060378884\n",
      "At round 214 Discrepancy: 0.2733020490804232\n"
     ]
    },
    {
     "name": "stderr",
     "output_type": "stream",
     "text": [
      "Epoch:   0%|                                                                                     | 0/20 [00:00<?, ?it/s]"
     ]
    },
    {
     "name": "stdout",
     "output_type": "stream",
     "text": [
      "gradient difference: 11.353792923664328\n"
     ]
    },
    {
     "name": "stderr",
     "output_type": "stream",
     "text": [
      "                                                                                                                        \r"
     ]
    },
    {
     "name": "stdout",
     "output_type": "stream",
     "text": [
      "At round 215 accuracy: 0.9009632342965677\n",
      "At round 215 training accuracy: 0.9073040996367411\n",
      "At round 215 training loss: 0.31481913613926593\n",
      "At round 215 Discrepancy: 0.3453316928561144\n"
     ]
    },
    {
     "name": "stderr",
     "output_type": "stream",
     "text": [
      "Epoch:  65%|████████████████████████████████████████████████▊                          | 13/20 [00:00<00:00, 122.14it/s]"
     ]
    },
    {
     "name": "stdout",
     "output_type": "stream",
     "text": [
      "gradient difference: 11.315682101854868\n"
     ]
    },
    {
     "name": "stderr",
     "output_type": "stream",
     "text": [
      "                                                                                                                        \r"
     ]
    },
    {
     "name": "stdout",
     "output_type": "stream",
     "text": [
      "At round 216 accuracy: 0.9009632342965677\n",
      "At round 216 training accuracy: 0.9092339128178516\n",
      "At round 216 training loss: 0.3138586929435339\n",
      "At round 216 Discrepancy: 0.3012818115622336\n"
     ]
    },
    {
     "name": "stderr",
     "output_type": "stream",
     "text": [
      "Epoch:   0%|                                                                                     | 0/20 [00:00<?, ?it/s]"
     ]
    },
    {
     "name": "stdout",
     "output_type": "stream",
     "text": [
      "gradient difference: 11.24377089519788\n"
     ]
    },
    {
     "name": "stderr",
     "output_type": "stream",
     "text": [
      "                                                                                                                        \r"
     ]
    },
    {
     "name": "stdout",
     "output_type": "stream",
     "text": [
      "At round 217 accuracy: 0.9017772351105684\n",
      "At round 217 training accuracy: 0.9091366113129217\n",
      "At round 217 training loss: 0.31298343866005573\n",
      "At round 217 Discrepancy: 0.3134529365911495\n"
     ]
    },
    {
     "name": "stderr",
     "output_type": "stream",
     "text": [
      "                                                                                                                        "
     ]
    },
    {
     "name": "stdout",
     "output_type": "stream",
     "text": [
      "gradient difference: 11.235510363627665\n"
     ]
    },
    {
     "name": "stderr",
     "output_type": "stream",
     "text": [
      "                                                                                                                        \r"
     ]
    },
    {
     "name": "stdout",
     "output_type": "stream",
     "text": [
      "At round 218 accuracy: 0.9002849002849003\n",
      "At round 218 training accuracy: 0.908001427088739\n",
      "At round 218 training loss: 0.31599041083642754\n",
      "At round 218 Discrepancy: 0.29680005800906606\n"
     ]
    },
    {
     "name": "stderr",
     "output_type": "stream",
     "text": [
      "Epoch:   0%|                                                                                     | 0/20 [00:00<?, ?it/s]"
     ]
    },
    {
     "name": "stdout",
     "output_type": "stream",
     "text": [
      "gradient difference: 11.31282300596689\n"
     ]
    },
    {
     "name": "stderr",
     "output_type": "stream",
     "text": [
      "                                                                                                                        \r"
     ]
    },
    {
     "name": "stdout",
     "output_type": "stream",
     "text": [
      "At round 219 accuracy: 0.9016415683082349\n",
      "At round 219 training accuracy: 0.9091690451478983\n",
      "At round 219 training loss: 0.3110877512182252\n",
      "At round 219 Discrepancy: 0.3523887864984213\n"
     ]
    },
    {
     "name": "stderr",
     "output_type": "stream",
     "text": [
      "Epoch:  35%|██████████████████████████▉                                                  | 7/20 [00:00<00:00, 69.76it/s]"
     ]
    },
    {
     "name": "stdout",
     "output_type": "stream",
     "text": [
      "gradient difference: 11.095356464983256\n"
     ]
    },
    {
     "name": "stderr",
     "output_type": "stream",
     "text": [
      "                                                                                                                        \r"
     ]
    },
    {
     "name": "stdout",
     "output_type": "stream",
     "text": [
      "At round 220 accuracy: 0.903676570343237\n",
      "At round 220 training accuracy: 0.9097690710949663\n",
      "At round 220 training loss: 0.30696048065274517\n",
      "At round 220 Discrepancy: 0.30661903326191536\n"
     ]
    },
    {
     "name": "stderr",
     "output_type": "stream",
     "text": [
      "                                                                                                                        "
     ]
    },
    {
     "name": "stdout",
     "output_type": "stream",
     "text": [
      "gradient difference: 10.83742381402294\n"
     ]
    },
    {
     "name": "stderr",
     "output_type": "stream",
     "text": [
      "                                                                                                                        \r"
     ]
    },
    {
     "name": "stdout",
     "output_type": "stream",
     "text": [
      "At round 221 accuracy: 0.9061185727852394\n",
      "At round 221 training accuracy: 0.909655552672548\n",
      "At round 221 training loss: 0.3068259293965323\n",
      "At round 221 Discrepancy: 0.28045039807587513\n"
     ]
    },
    {
     "name": "stderr",
     "output_type": "stream",
     "text": [
      "Epoch:   0%|                                                                                     | 0/20 [00:00<?, ?it/s]"
     ]
    },
    {
     "name": "stdout",
     "output_type": "stream",
     "text": [
      "gradient difference: 10.884224484846817\n"
     ]
    },
    {
     "name": "stderr",
     "output_type": "stream",
     "text": [
      "                                                                                                                        \r"
     ]
    },
    {
     "name": "stdout",
     "output_type": "stream",
     "text": [
      "At round 222 accuracy: 0.905982905982906\n",
      "At round 222 training accuracy: 0.9089095744680851\n",
      "At round 222 training loss: 0.3112483821258418\n",
      "At round 222 Discrepancy: 0.29529946532098955\n"
     ]
    },
    {
     "name": "stderr",
     "output_type": "stream",
     "text": [
      "Epoch:  40%|██████████████████████████████▊                                              | 8/20 [00:00<00:00, 73.00it/s]"
     ]
    },
    {
     "name": "stdout",
     "output_type": "stream",
     "text": [
      "gradient difference: 11.038008228382544\n"
     ]
    },
    {
     "name": "stderr",
     "output_type": "stream",
     "text": [
      "                                                                                                                        \r"
     ]
    },
    {
     "name": "stdout",
     "output_type": "stream",
     "text": [
      "At round 223 accuracy: 0.8880748880748881\n",
      "At round 223 training accuracy: 0.8952549299429164\n",
      "At round 223 training loss: 0.3363249708990072\n",
      "At round 223 Discrepancy: 0.3043028950123784\n"
     ]
    },
    {
     "name": "stderr",
     "output_type": "stream",
     "text": [
      "Epoch:  50%|██████████████████████████████████████                                      | 10/20 [00:00<00:00, 95.51it/s]"
     ]
    },
    {
     "name": "stdout",
     "output_type": "stream",
     "text": [
      "gradient difference: 11.931008376396159\n"
     ]
    },
    {
     "name": "stderr",
     "output_type": "stream",
     "text": [
      "                                                                                                                        \r"
     ]
    },
    {
     "name": "stdout",
     "output_type": "stream",
     "text": [
      "At round 224 accuracy: 0.901370234703568\n",
      "At round 224 training accuracy: 0.903947197716658\n",
      "At round 224 training loss: 0.32138193971626067\n",
      "At round 224 Discrepancy: 0.36396031221136493\n"
     ]
    },
    {
     "name": "stderr",
     "output_type": "stream",
     "text": [
      "Epoch:   0%|                                                                                     | 0/20 [00:00<?, ?it/s]"
     ]
    },
    {
     "name": "stdout",
     "output_type": "stream",
     "text": [
      "gradient difference: 11.5888710740699\n"
     ]
    },
    {
     "name": "stderr",
     "output_type": "stream",
     "text": [
      "                                                                                                                        \r"
     ]
    },
    {
     "name": "stdout",
     "output_type": "stream",
     "text": [
      "At round 225 accuracy: 0.8905168905168905\n",
      "At round 225 training accuracy: 0.896033341982356\n",
      "At round 225 training loss: 0.34132136999038964\n",
      "At round 225 Discrepancy: 0.43690119985991893\n"
     ]
    },
    {
     "name": "stderr",
     "output_type": "stream",
     "text": [
      "Epoch:  30%|███████████████████████                                                      | 6/20 [00:00<00:00, 57.69it/s]"
     ]
    },
    {
     "name": "stdout",
     "output_type": "stream",
     "text": [
      "gradient difference: 12.028961922586134\n"
     ]
    },
    {
     "name": "stderr",
     "output_type": "stream",
     "text": [
      "                                                                                                                        \r"
     ]
    },
    {
     "name": "stdout",
     "output_type": "stream",
     "text": [
      "At round 226 accuracy: 0.8879392212725546\n",
      "At round 226 training accuracy: 0.8931142968344578\n",
      "At round 226 training loss: 0.3431435790339211\n",
      "At round 226 Discrepancy: 0.28505234095359583\n"
     ]
    },
    {
     "name": "stderr",
     "output_type": "stream",
     "text": [
      "Epoch:  50%|██████████████████████████████████████                                      | 10/20 [00:00<00:00, 91.68it/s]"
     ]
    },
    {
     "name": "stdout",
     "output_type": "stream",
     "text": [
      "gradient difference: 11.925871646999788\n"
     ]
    },
    {
     "name": "stderr",
     "output_type": "stream",
     "text": [
      "                                                                                                                        \r"
     ]
    },
    {
     "name": "stdout",
     "output_type": "stream",
     "text": [
      "At round 227 accuracy: 0.8891602224935559\n",
      "At round 227 training accuracy: 0.8937954073689673\n",
      "At round 227 training loss: 0.3431200709606685\n",
      "At round 227 Discrepancy: 0.28222900355248715\n"
     ]
    },
    {
     "name": "stderr",
     "output_type": "stream",
     "text": [
      "Epoch:  10%|███████▋                                                                     | 2/20 [00:00<00:01, 13.82it/s]"
     ]
    },
    {
     "name": "stdout",
     "output_type": "stream",
     "text": [
      "gradient difference: 11.922246154633651\n"
     ]
    },
    {
     "name": "stderr",
     "output_type": "stream",
     "text": [
      "                                                                                                                        \r"
     ]
    },
    {
     "name": "stdout",
     "output_type": "stream",
     "text": [
      "At round 228 accuracy: 0.8998778998778999\n",
      "At round 228 training accuracy: 0.9058283601453035\n",
      "At round 228 training loss: 0.3224070014844208\n",
      "At round 228 Discrepancy: 0.44862057173450615\n"
     ]
    },
    {
     "name": "stderr",
     "output_type": "stream",
     "text": [
      "Epoch:  45%|██████████████████████████████████▋                                          | 9/20 [00:00<00:00, 81.89it/s]"
     ]
    },
    {
     "name": "stdout",
     "output_type": "stream",
     "text": [
      "gradient difference: 11.148942434017131\n"
     ]
    },
    {
     "name": "stderr",
     "output_type": "stream",
     "text": [
      "                                                                                                                        \r"
     ]
    },
    {
     "name": "stdout",
     "output_type": "stream",
     "text": [
      "At round 229 accuracy: 0.8974358974358975\n",
      "At round 229 training accuracy: 0.9043201868188895\n",
      "At round 229 training loss: 0.32235160934344076\n",
      "At round 229 Discrepancy: 0.276182114428705\n"
     ]
    },
    {
     "name": "stderr",
     "output_type": "stream",
     "text": [
      "Epoch:   0%|                                                                                     | 0/20 [00:00<?, ?it/s]"
     ]
    },
    {
     "name": "stdout",
     "output_type": "stream",
     "text": [
      "gradient difference: 11.048476124240919\n"
     ]
    },
    {
     "name": "stderr",
     "output_type": "stream",
     "text": [
      "                                                                                                                        \r"
     ]
    },
    {
     "name": "stdout",
     "output_type": "stream",
     "text": [
      "At round 230 accuracy: 0.894722561389228\n",
      "At round 230 training accuracy: 0.9010443694862481\n",
      "At round 230 training loss: 0.3280477055504502\n",
      "At round 230 Discrepancy: 0.31373730257722066\n"
     ]
    },
    {
     "name": "stderr",
     "output_type": "stream",
     "text": [
      "Epoch:  85%|███████████████████████████████████████████████████████████████▊           | 17/20 [00:00<00:00, 166.23it/s]"
     ]
    },
    {
     "name": "stdout",
     "output_type": "stream",
     "text": [
      "gradient difference: 11.04223229586026\n"
     ]
    },
    {
     "name": "stderr",
     "output_type": "stream",
     "text": [
      "                                                                                                                        \r"
     ]
    },
    {
     "name": "stdout",
     "output_type": "stream",
     "text": [
      "At round 231 accuracy: 0.8989282322615656\n",
      "At round 231 training accuracy: 0.9067040736896731\n",
      "At round 231 training loss: 0.3187601349551724\n",
      "At round 231 Discrepancy: 0.31273902693980027\n"
     ]
    },
    {
     "name": "stderr",
     "output_type": "stream",
     "text": [
      "Epoch:   0%|                                                                                     | 0/20 [00:00<?, ?it/s]"
     ]
    },
    {
     "name": "stdout",
     "output_type": "stream",
     "text": [
      "gradient difference: 10.69384068924111\n"
     ]
    },
    {
     "name": "stderr",
     "output_type": "stream",
     "text": [
      "                                                                                                                        \r"
     ]
    },
    {
     "name": "stdout",
     "output_type": "stream",
     "text": [
      "At round 232 accuracy: 0.901370234703568\n",
      "At round 232 training accuracy: 0.9079689932537623\n",
      "At round 232 training loss: 0.31836484229126527\n",
      "At round 232 Discrepancy: 0.35413702123590274\n"
     ]
    },
    {
     "name": "stderr",
     "output_type": "stream",
     "text": [
      "Epoch:   0%|                                                                                     | 0/20 [00:00<?, ?it/s]"
     ]
    },
    {
     "name": "stdout",
     "output_type": "stream",
     "text": [
      "gradient difference: 10.427682276774014\n"
     ]
    },
    {
     "name": "stderr",
     "output_type": "stream",
     "text": [
      "                                                                                                                        \r"
     ]
    },
    {
     "name": "stdout",
     "output_type": "stream",
     "text": [
      "At round 233 accuracy: 0.9062542395875729\n",
      "At round 233 training accuracy: 0.9111961598339388\n",
      "At round 233 training loss: 0.3147118255745167\n",
      "At round 233 Discrepancy: 0.3144221597354963\n"
     ]
    },
    {
     "name": "stderr",
     "output_type": "stream",
     "text": [
      "Epoch:   0%|                                                                                     | 0/20 [00:00<?, ?it/s]"
     ]
    },
    {
     "name": "stdout",
     "output_type": "stream",
     "text": [
      "gradient difference: 10.425995410846571\n"
     ]
    },
    {
     "name": "stderr",
     "output_type": "stream",
     "text": [
      "                                                                                                                        \r"
     ]
    },
    {
     "name": "stdout",
     "output_type": "stream",
     "text": [
      "At round 234 accuracy: 0.9028625695292362\n",
      "At round 234 training accuracy: 0.9098663725998962\n",
      "At round 234 training loss: 0.318832031369095\n",
      "At round 234 Discrepancy: 0.3245354110879496\n"
     ]
    },
    {
     "name": "stderr",
     "output_type": "stream",
     "text": [
      "Epoch:   0%|                                                                                     | 0/20 [00:00<?, ?it/s]"
     ]
    },
    {
     "name": "stdout",
     "output_type": "stream",
     "text": [
      "gradient difference: 10.540761645904668\n"
     ]
    },
    {
     "name": "stderr",
     "output_type": "stream",
     "text": [
      "                                                                                                                        \r"
     ]
    },
    {
     "name": "stdout",
     "output_type": "stream",
     "text": [
      "At round 235 accuracy: 0.9021842355175689\n",
      "At round 235 training accuracy: 0.9091852620653866\n",
      "At round 235 training loss: 0.32066987628496235\n",
      "At round 235 Discrepancy: 0.29435932470274406\n"
     ]
    },
    {
     "name": "stderr",
     "output_type": "stream",
     "text": [
      "Epoch:   0%|                                                                                     | 0/20 [00:00<?, ?it/s]"
     ]
    },
    {
     "name": "stdout",
     "output_type": "stream",
     "text": [
      "gradient difference: 10.557833333923831\n"
     ]
    },
    {
     "name": "stderr",
     "output_type": "stream",
     "text": [
      "                                                                                                                        \r"
     ]
    },
    {
     "name": "stdout",
     "output_type": "stream",
     "text": [
      "At round 236 accuracy: 0.9047619047619048\n",
      "At round 236 training accuracy: 0.9103853139595226\n",
      "At round 236 training loss: 0.3193831571221224\n",
      "At round 236 Discrepancy: 0.3227953784566525\n"
     ]
    },
    {
     "name": "stderr",
     "output_type": "stream",
     "text": [
      "Epoch:   0%|                                                                                     | 0/20 [00:00<?, ?it/s]"
     ]
    },
    {
     "name": "stdout",
     "output_type": "stream",
     "text": [
      "gradient difference: 10.476203962976946\n"
     ]
    },
    {
     "name": "stderr",
     "output_type": "stream",
     "text": [
      "                                                                                                                        \r"
     ]
    },
    {
     "name": "stdout",
     "output_type": "stream",
     "text": [
      "At round 237 accuracy: 0.9055759055759056\n",
      "At round 237 training accuracy: 0.9114231966787752\n",
      "At round 237 training loss: 0.31625592811041586\n",
      "At round 237 Discrepancy: 0.24021429304756067\n"
     ]
    },
    {
     "name": "stderr",
     "output_type": "stream",
     "text": [
      "Epoch:  50%|██████████████████████████████████████                                      | 10/20 [00:00<00:00, 98.74it/s]"
     ]
    },
    {
     "name": "stdout",
     "output_type": "stream",
     "text": [
      "gradient difference: 10.413052273187144\n"
     ]
    },
    {
     "name": "stderr",
     "output_type": "stream",
     "text": [
      "                                                                                                                        \r"
     ]
    },
    {
     "name": "stdout",
     "output_type": "stream",
     "text": [
      "At round 238 accuracy: 0.9008275674942342\n",
      "At round 238 training accuracy: 0.9080338609237156\n",
      "At round 238 training loss: 0.3214052883484901\n",
      "At round 238 Discrepancy: 0.3274118407597116\n"
     ]
    },
    {
     "name": "stderr",
     "output_type": "stream",
     "text": [
      "Epoch:   0%|                                                                                     | 0/20 [00:00<?, ?it/s]"
     ]
    },
    {
     "name": "stdout",
     "output_type": "stream",
     "text": [
      "gradient difference: 10.755187946697472\n"
     ]
    },
    {
     "name": "stderr",
     "output_type": "stream",
     "text": [
      "                                                                                                                        \r"
     ]
    },
    {
     "name": "stdout",
     "output_type": "stream",
     "text": [
      "At round 239 accuracy: 0.897300230633564\n",
      "At round 239 training accuracy: 0.9036228593668916\n",
      "At round 239 training loss: 0.3340956321470722\n",
      "At round 239 Discrepancy: 0.41594227775350434\n"
     ]
    },
    {
     "name": "stderr",
     "output_type": "stream",
     "text": [
      "Epoch:  55%|█████████████████████████████████████████▎                                 | 11/20 [00:00<00:00, 109.18it/s]"
     ]
    },
    {
     "name": "stdout",
     "output_type": "stream",
     "text": [
      "gradient difference: 11.44700272387432\n"
     ]
    },
    {
     "name": "stderr",
     "output_type": "stream",
     "text": [
      "                                                                                                                        \r"
     ]
    },
    {
     "name": "stdout",
     "output_type": "stream",
     "text": [
      "At round 240 accuracy: 0.8974358974358975\n",
      "At round 240 training accuracy: 0.9060716139076285\n",
      "At round 240 training loss: 0.32712742326707206\n",
      "At round 240 Discrepancy: 0.30486638261106125\n"
     ]
    },
    {
     "name": "stderr",
     "output_type": "stream",
     "text": [
      "Epoch:  65%|████████████████████████████████████████████████▊                          | 13/20 [00:00<00:00, 125.46it/s]"
     ]
    },
    {
     "name": "stdout",
     "output_type": "stream",
     "text": [
      "gradient difference: 11.151463808173938\n"
     ]
    },
    {
     "name": "stderr",
     "output_type": "stream",
     "text": [
      "                                                                                                                        \r"
     ]
    },
    {
     "name": "stdout",
     "output_type": "stream",
     "text": [
      "At round 241 accuracy: 0.8985212318545652\n",
      "At round 241 training accuracy: 0.9070121951219512\n",
      "At round 241 training loss: 0.31518552156264196\n",
      "At round 241 Discrepancy: 0.31596263549560055\n"
     ]
    },
    {
     "name": "stderr",
     "output_type": "stream",
     "text": [
      "Epoch:   0%|                                                                                     | 0/20 [00:00<?, ?it/s]"
     ]
    },
    {
     "name": "stdout",
     "output_type": "stream",
     "text": [
      "gradient difference: 10.810584540518029\n"
     ]
    },
    {
     "name": "stderr",
     "output_type": "stream",
     "text": [
      "                                                                                                                        \r"
     ]
    },
    {
     "name": "stdout",
     "output_type": "stream",
     "text": [
      "At round 242 accuracy: 0.8887532220865554\n",
      "At round 242 training accuracy: 0.8976063829787234\n",
      "At round 242 training loss: 0.3411944262678498\n",
      "At round 242 Discrepancy: 0.3746297532856239\n"
     ]
    },
    {
     "name": "stderr",
     "output_type": "stream",
     "text": [
      "Epoch:   0%|                                                                                     | 0/20 [00:00<?, ?it/s]"
     ]
    },
    {
     "name": "stdout",
     "output_type": "stream",
     "text": [
      "gradient difference: 11.579429165313707\n"
     ]
    },
    {
     "name": "stderr",
     "output_type": "stream",
     "text": [
      "                                                                                                                        \r"
     ]
    },
    {
     "name": "stdout",
     "output_type": "stream",
     "text": [
      "At round 243 accuracy: 0.8783068783068783\n",
      "At round 243 training accuracy: 0.8878600155682408\n",
      "At round 243 training loss: 0.37513339866073436\n",
      "At round 243 Discrepancy: 0.6157737728129231\n"
     ]
    },
    {
     "name": "stderr",
     "output_type": "stream",
     "text": [
      "Epoch:  40%|██████████████████████████████▊                                              | 8/20 [00:00<00:00, 73.19it/s]"
     ]
    },
    {
     "name": "stdout",
     "output_type": "stream",
     "text": [
      "gradient difference: 13.083436245735506\n"
     ]
    },
    {
     "name": "stderr",
     "output_type": "stream",
     "text": [
      "                                                                                                                        \r"
     ]
    },
    {
     "name": "stdout",
     "output_type": "stream",
     "text": [
      "At round 244 accuracy: 0.8821055487722155\n",
      "At round 244 training accuracy: 0.8909087960560457\n",
      "At round 244 training loss: 0.36455509331283104\n",
      "At round 244 Discrepancy: 0.2840117404376457\n"
     ]
    },
    {
     "name": "stderr",
     "output_type": "stream",
     "text": [
      "Epoch:   0%|                                                                                     | 0/20 [00:00<?, ?it/s]"
     ]
    },
    {
     "name": "stdout",
     "output_type": "stream",
     "text": [
      "gradient difference: 12.765948655553672\n"
     ]
    },
    {
     "name": "stderr",
     "output_type": "stream",
     "text": [
      "                                                                                                                        \r"
     ]
    },
    {
     "name": "stdout",
     "output_type": "stream",
     "text": [
      "At round 245 accuracy: 0.8865825532492199\n",
      "At round 245 training accuracy: 0.8948495070057083\n",
      "At round 245 training loss: 0.35545256859646457\n",
      "At round 245 Discrepancy: 0.3203236670218227\n"
     ]
    },
    {
     "name": "stderr",
     "output_type": "stream",
     "text": [
      "Epoch:   0%|                                                                                     | 0/20 [00:00<?, ?it/s]"
     ]
    },
    {
     "name": "stdout",
     "output_type": "stream",
     "text": [
      "gradient difference: 12.52552722777975\n"
     ]
    },
    {
     "name": "stderr",
     "output_type": "stream",
     "text": [
      "                                                                                                                        \r"
     ]
    },
    {
     "name": "stdout",
     "output_type": "stream",
     "text": [
      "At round 246 accuracy: 0.8909238909238909\n",
      "At round 246 training accuracy: 0.8986766995329528\n",
      "At round 246 training loss: 0.34397838324488184\n",
      "At round 246 Discrepancy: 0.2723326845009998\n"
     ]
    },
    {
     "name": "stderr",
     "output_type": "stream",
     "text": [
      "Epoch:   0%|                                                                                     | 0/20 [00:00<?, ?it/s]"
     ]
    },
    {
     "name": "stdout",
     "output_type": "stream",
     "text": [
      "gradient difference: 12.117853886255567\n"
     ]
    },
    {
     "name": "stderr",
     "output_type": "stream",
     "text": [
      "                                                                                                                        \r"
     ]
    },
    {
     "name": "stdout",
     "output_type": "stream",
     "text": [
      "At round 247 accuracy: 0.892416225749559\n",
      "At round 247 training accuracy: 0.8980766735858848\n",
      "At round 247 training loss: 0.34069415858703156\n",
      "At round 247 Discrepancy: 0.2613294497201568\n"
     ]
    },
    {
     "name": "stderr",
     "output_type": "stream",
     "text": [
      "Epoch:   0%|                                                                                     | 0/20 [00:00<?, ?it/s]"
     ]
    },
    {
     "name": "stdout",
     "output_type": "stream",
     "text": [
      "gradient difference: 11.976148002828737\n"
     ]
    },
    {
     "name": "stderr",
     "output_type": "stream",
     "text": [
      "                                                                                                                        \r"
     ]
    },
    {
     "name": "stdout",
     "output_type": "stream",
     "text": [
      "At round 248 accuracy: 0.8963505630172297\n",
      "At round 248 training accuracy: 0.9026660612350804\n",
      "At round 248 training loss: 0.3295476459132927\n",
      "At round 248 Discrepancy: 0.3033348990796715\n"
     ]
    },
    {
     "name": "stderr",
     "output_type": "stream",
     "text": [
      "Epoch:  20%|███████████████▍                                                             | 4/20 [00:00<00:00, 38.32it/s]"
     ]
    },
    {
     "name": "stdout",
     "output_type": "stream",
     "text": [
      "gradient difference: 11.447195565125448\n"
     ]
    },
    {
     "name": "stderr",
     "output_type": "stream",
     "text": [
      "                                                                                                                        \r"
     ]
    },
    {
     "name": "stdout",
     "output_type": "stream",
     "text": [
      "At round 249 accuracy: 0.899335232668566\n",
      "At round 249 training accuracy: 0.9068824597820446\n",
      "At round 249 training loss: 0.3189458967053361\n",
      "At round 249 Discrepancy: 0.2885121687686019\n"
     ]
    },
    {
     "name": "stderr",
     "output_type": "stream",
     "text": [
      "Epoch:  55%|█████████████████████████████████████████▊                                  | 11/20 [00:00<00:00, 98.60it/s]"
     ]
    },
    {
     "name": "stdout",
     "output_type": "stream",
     "text": [
      "gradient difference: 11.092549828521612\n"
     ]
    },
    {
     "name": "stderr",
     "output_type": "stream",
     "text": [
      "                                                                                                                        \r"
     ]
    },
    {
     "name": "stdout",
     "output_type": "stream",
     "text": [
      "At round 250 accuracy: 0.9001492334825668\n",
      "At round 250 training accuracy: 0.9066392060197198\n",
      "At round 250 training loss: 0.31966319803573695\n",
      "At round 250 Discrepancy: 0.3799391739639605\n"
     ]
    },
    {
     "name": "stderr",
     "output_type": "stream",
     "text": [
      "Epoch:  45%|██████████████████████████████████▋                                          | 9/20 [00:00<00:00, 84.83it/s]"
     ]
    },
    {
     "name": "stdout",
     "output_type": "stream",
     "text": [
      "gradient difference: 11.020622101467023\n"
     ]
    },
    {
     "name": "stderr",
     "output_type": "stream",
     "text": [
      "                                                                                                                        \r"
     ]
    },
    {
     "name": "stdout",
     "output_type": "stream",
     "text": [
      "At round 251 accuracy: 0.901912901912902\n",
      "At round 251 training accuracy: 0.9092825635703166\n",
      "At round 251 training loss: 0.3186751613047261\n",
      "At round 251 Discrepancy: 0.34918000720114517\n"
     ]
    },
    {
     "name": "stderr",
     "output_type": "stream",
     "text": [
      "Epoch:   0%|                                                                                     | 0/20 [00:00<?, ?it/s]"
     ]
    },
    {
     "name": "stdout",
     "output_type": "stream",
     "text": [
      "gradient difference: 10.518367422011394\n"
     ]
    },
    {
     "name": "stderr",
     "output_type": "stream",
     "text": [
      "                                                                                                                        \r"
     ]
    },
    {
     "name": "stdout",
     "output_type": "stream",
     "text": [
      "At round 252 accuracy: 0.9017772351105684\n",
      "At round 252 training accuracy: 0.9090879605604567\n",
      "At round 252 training loss: 0.3188771237254026\n",
      "At round 252 Discrepancy: 0.2657842728085722\n"
     ]
    },
    {
     "name": "stderr",
     "output_type": "stream",
     "text": [
      "Epoch:   0%|                                                                                     | 0/20 [00:00<?, ?it/s]"
     ]
    },
    {
     "name": "stdout",
     "output_type": "stream",
     "text": [
      "gradient difference: 10.609435898904716\n"
     ]
    },
    {
     "name": "stderr",
     "output_type": "stream",
     "text": [
      "                                                                                                                        \r"
     ]
    },
    {
     "name": "stdout",
     "output_type": "stream",
     "text": [
      "At round 253 accuracy: 0.901370234703568\n",
      "At round 253 training accuracy: 0.9095258173326414\n",
      "At round 253 training loss: 0.31447066554766023\n",
      "At round 253 Discrepancy: 0.29858541517675485\n"
     ]
    },
    {
     "name": "stderr",
     "output_type": "stream",
     "text": [
      "Epoch:   0%|                                                                                     | 0/20 [00:00<?, ?it/s]"
     ]
    },
    {
     "name": "stdout",
     "output_type": "stream",
     "text": [
      "gradient difference: 10.543978380717888\n"
     ]
    },
    {
     "name": "stderr",
     "output_type": "stream",
     "text": [
      "                                                                                                                        \r"
     ]
    },
    {
     "name": "stdout",
     "output_type": "stream",
     "text": [
      "At round 254 accuracy: 0.9006919006919006\n",
      "At round 254 training accuracy: 0.90915282823041\n",
      "At round 254 training loss: 0.31113861665844583\n",
      "At round 254 Discrepancy: 0.2622154045049051\n"
     ]
    },
    {
     "name": "stderr",
     "output_type": "stream",
     "text": [
      "Epoch:  10%|███████▋                                                                     | 2/20 [00:00<00:01, 14.27it/s]"
     ]
    },
    {
     "name": "stdout",
     "output_type": "stream",
     "text": [
      "gradient difference: 10.456037857619867\n"
     ]
    },
    {
     "name": "stderr",
     "output_type": "stream",
     "text": [
      "                                                                                                                        \r"
     ]
    },
    {
     "name": "stdout",
     "output_type": "stream",
     "text": [
      "At round 255 accuracy: 0.8989282322615656\n",
      "At round 255 training accuracy: 0.9067202906071614\n",
      "At round 255 training loss: 0.3188191223148476\n",
      "At round 255 Discrepancy: 0.32729600158730054\n"
     ]
    },
    {
     "name": "stderr",
     "output_type": "stream",
     "text": [
      "Epoch:  75%|████████████████████████████████████████████████████████▎                  | 15/20 [00:00<00:00, 141.75it/s]"
     ]
    },
    {
     "name": "stdout",
     "output_type": "stream",
     "text": [
      "gradient difference: 10.808364225827779\n"
     ]
    },
    {
     "name": "stderr",
     "output_type": "stream",
     "text": [
      "                                                                                                                        \r"
     ]
    },
    {
     "name": "stdout",
     "output_type": "stream",
     "text": [
      "At round 256 accuracy: 0.9015059015059015\n",
      "At round 256 training accuracy: 0.9084068500259471\n",
      "At round 256 training loss: 0.31615545543065776\n",
      "At round 256 Discrepancy: 0.29298490652791265\n"
     ]
    },
    {
     "name": "stderr",
     "output_type": "stream",
     "text": [
      "Epoch:  40%|██████████████████████████████▊                                              | 8/20 [00:00<00:00, 76.79it/s]"
     ]
    },
    {
     "name": "stdout",
     "output_type": "stream",
     "text": [
      "gradient difference: 10.777095670615012\n"
     ]
    },
    {
     "name": "stderr",
     "output_type": "stream",
     "text": [
      "                                                                                                                        \r"
     ]
    },
    {
     "name": "stdout",
     "output_type": "stream",
     "text": [
      "At round 257 accuracy: 0.8967575634242301\n",
      "At round 257 training accuracy: 0.905147249610794\n",
      "At round 257 training loss: 0.31917464415685115\n",
      "At round 257 Discrepancy: 0.2795017859765442\n"
     ]
    },
    {
     "name": "stderr",
     "output_type": "stream",
     "text": [
      "Epoch:   0%|                                                                                     | 0/20 [00:00<?, ?it/s]"
     ]
    },
    {
     "name": "stdout",
     "output_type": "stream",
     "text": [
      "gradient difference: 10.901229881408478\n"
     ]
    },
    {
     "name": "stderr",
     "output_type": "stream",
     "text": [
      "                                                                                                                        \r"
     ]
    },
    {
     "name": "stdout",
     "output_type": "stream",
     "text": [
      "At round 258 accuracy: 0.8958078958078958\n",
      "At round 258 training accuracy: 0.9064608199273482\n",
      "At round 258 training loss: 0.31667398289546805\n",
      "At round 258 Discrepancy: 0.31203260079430295\n"
     ]
    },
    {
     "name": "stderr",
     "output_type": "stream",
     "text": [
      "Epoch:   0%|                                                                                     | 0/20 [00:00<?, ?it/s]"
     ]
    },
    {
     "name": "stdout",
     "output_type": "stream",
     "text": [
      "gradient difference: 10.79629584346996\n"
     ]
    },
    {
     "name": "stderr",
     "output_type": "stream",
     "text": [
      "                                                                                                                        \r"
     ]
    },
    {
     "name": "stdout",
     "output_type": "stream",
     "text": [
      "At round 259 accuracy: 0.8971645638312304\n",
      "At round 259 training accuracy: 0.9062337830825117\n",
      "At round 259 training loss: 0.31712299483507694\n",
      "At round 259 Discrepancy: 0.31573659985833114\n"
     ]
    },
    {
     "name": "stderr",
     "output_type": "stream",
     "text": [
      "Epoch:   0%|                                                                                     | 0/20 [00:00<?, ?it/s]"
     ]
    },
    {
     "name": "stdout",
     "output_type": "stream",
     "text": [
      "gradient difference: 10.777313269148463\n"
     ]
    },
    {
     "name": "stderr",
     "output_type": "stream",
     "text": [
      "                                                                                                                        \r"
     ]
    },
    {
     "name": "stdout",
     "output_type": "stream",
     "text": [
      "At round 260 accuracy: 0.8978428978428978\n",
      "At round 260 training accuracy: 0.9079041255838091\n",
      "At round 260 training loss: 0.3134508426982033\n",
      "At round 260 Discrepancy: 0.2968899743567848\n"
     ]
    },
    {
     "name": "stderr",
     "output_type": "stream",
     "text": [
      "Epoch:   0%|                                                                                     | 0/20 [00:00<?, ?it/s]"
     ]
    },
    {
     "name": "stdout",
     "output_type": "stream",
     "text": [
      "gradient difference: 10.73569976270105\n"
     ]
    },
    {
     "name": "stderr",
     "output_type": "stream",
     "text": [
      "                                                                                                                        \r"
     ]
    },
    {
     "name": "stdout",
     "output_type": "stream",
     "text": [
      "At round 261 accuracy: 0.9017772351105684\n",
      "At round 261 training accuracy: 0.9100609756097561\n",
      "At round 261 training loss: 0.3085193799011898\n",
      "At round 261 Discrepancy: 0.24455247659745366\n"
     ]
    },
    {
     "name": "stderr",
     "output_type": "stream",
     "text": [
      "Epoch:  70%|████████████████████████████████████████████████████▌                      | 14/20 [00:00<00:00, 138.63it/s]"
     ]
    },
    {
     "name": "stdout",
     "output_type": "stream",
     "text": [
      "gradient difference: 10.50632104925158\n"
     ]
    },
    {
     "name": "stderr",
     "output_type": "stream",
     "text": [
      "                                                                                                                        \r"
     ]
    },
    {
     "name": "stdout",
     "output_type": "stream",
     "text": [
      "At round 262 accuracy: 0.901912901912902\n",
      "At round 262 training accuracy: 0.910709652309289\n",
      "At round 262 training loss: 0.3105160780177323\n",
      "At round 262 Discrepancy: 0.35229390006563166\n"
     ]
    },
    {
     "name": "stderr",
     "output_type": "stream",
     "text": [
      "Epoch:   0%|                                                                                     | 0/20 [00:00<?, ?it/s]"
     ]
    },
    {
     "name": "stdout",
     "output_type": "stream",
     "text": [
      "gradient difference: 10.600691477600556\n"
     ]
    },
    {
     "name": "stderr",
     "output_type": "stream",
     "text": [
      "                                                                                                                        \r"
     ]
    },
    {
     "name": "stdout",
     "output_type": "stream",
     "text": [
      "At round 263 accuracy: 0.9050332383665717\n",
      "At round 263 training accuracy: 0.9127043331603529\n",
      "At round 263 training loss: 0.3097054195362803\n",
      "At round 263 Discrepancy: 0.341502568621292\n"
     ]
    },
    {
     "name": "stderr",
     "output_type": "stream",
     "text": [
      "Epoch:   0%|                                                                                     | 0/20 [00:00<?, ?it/s]"
     ]
    },
    {
     "name": "stdout",
     "output_type": "stream",
     "text": [
      "gradient difference: 10.631412357773918\n"
     ]
    },
    {
     "name": "stderr",
     "output_type": "stream",
     "text": [
      "                                                                                                                        \r"
     ]
    },
    {
     "name": "stdout",
     "output_type": "stream",
     "text": [
      "At round 264 accuracy: 0.9015059015059015\n",
      "At round 264 training accuracy: 0.9114556305137519\n",
      "At round 264 training loss: 0.3077076537108141\n",
      "At round 264 Discrepancy: 0.27203480489846693\n"
     ]
    },
    {
     "name": "stderr",
     "output_type": "stream",
     "text": [
      "Epoch:   0%|                                                                                     | 0/20 [00:00<?, ?it/s]"
     ]
    },
    {
     "name": "stdout",
     "output_type": "stream",
     "text": [
      "gradient difference: 10.61140343558345\n"
     ]
    },
    {
     "name": "stderr",
     "output_type": "stream",
     "text": [
      "                                                                                                                        \r"
     ]
    },
    {
     "name": "stdout",
     "output_type": "stream",
     "text": [
      "At round 265 accuracy: 0.9016415683082349\n",
      "At round 265 training accuracy: 0.9117475350285418\n",
      "At round 265 training loss: 0.30526302502480673\n",
      "At round 265 Discrepancy: 0.29775169738792273\n"
     ]
    },
    {
     "name": "stderr",
     "output_type": "stream",
     "text": [
      "Epoch:  65%|████████████████████████████████████████████████▊                          | 13/20 [00:00<00:00, 128.29it/s]"
     ]
    },
    {
     "name": "stdout",
     "output_type": "stream",
     "text": [
      "gradient difference: 10.640597017598065\n"
     ]
    },
    {
     "name": "stderr",
     "output_type": "stream",
     "text": [
      "                                                                                                                        \r"
     ]
    },
    {
     "name": "stdout",
     "output_type": "stream",
     "text": [
      "At round 266 accuracy: 0.8960792294125628\n",
      "At round 266 training accuracy: 0.9041580176440063\n",
      "At round 266 training loss: 0.3163297227033164\n",
      "At round 266 Discrepancy: 0.27751827747441654\n"
     ]
    },
    {
     "name": "stderr",
     "output_type": "stream",
     "text": [
      "Epoch:  15%|███████████▌                                                                 | 3/20 [00:00<00:00, 27.38it/s]"
     ]
    },
    {
     "name": "stdout",
     "output_type": "stream",
     "text": [
      "gradient difference: 10.92861354750301\n"
     ]
    },
    {
     "name": "stderr",
     "output_type": "stream",
     "text": [
      "                                                                                                                        \r"
     ]
    },
    {
     "name": "stdout",
     "output_type": "stream",
     "text": [
      "At round 267 accuracy: 0.8933658933658933\n",
      "At round 267 training accuracy: 0.9015146600934094\n",
      "At round 267 training loss: 0.32281864029503965\n",
      "At round 267 Discrepancy: 0.3175801684591516\n"
     ]
    },
    {
     "name": "stderr",
     "output_type": "stream",
     "text": [
      "Epoch:   0%|                                                                                     | 0/20 [00:00<?, ?it/s]"
     ]
    },
    {
     "name": "stdout",
     "output_type": "stream",
     "text": [
      "gradient difference: 11.110762780040396\n"
     ]
    },
    {
     "name": "stderr",
     "output_type": "stream",
     "text": [
      "                                                                                                                        \r"
     ]
    },
    {
     "name": "stdout",
     "output_type": "stream",
     "text": [
      "At round 268 accuracy: 0.8981142314475647\n",
      "At round 268 training accuracy: 0.9054391541255838\n",
      "At round 268 training loss: 0.31946502815731825\n",
      "At round 268 Discrepancy: 0.3425932092286935\n"
     ]
    },
    {
     "name": "stderr",
     "output_type": "stream",
     "text": [
      "Epoch:   0%|                                                                                     | 0/20 [00:00<?, ?it/s]"
     ]
    },
    {
     "name": "stdout",
     "output_type": "stream",
     "text": [
      "gradient difference: 11.19663753637101\n"
     ]
    },
    {
     "name": "stderr",
     "output_type": "stream",
     "text": [
      "                                                                                                                        \r"
     ]
    },
    {
     "name": "stdout",
     "output_type": "stream",
     "text": [
      "At round 269 accuracy: 0.8967575634242301\n",
      "At round 269 training accuracy: 0.9042391022314479\n",
      "At round 269 training loss: 0.3236423057798994\n",
      "At round 269 Discrepancy: 0.2800386610850382\n"
     ]
    },
    {
     "name": "stderr",
     "output_type": "stream",
     "text": [
      "Epoch:   0%|                                                                                     | 0/20 [00:00<?, ?it/s]"
     ]
    },
    {
     "name": "stdout",
     "output_type": "stream",
     "text": [
      "gradient difference: 11.384487003999451\n"
     ]
    },
    {
     "name": "stderr",
     "output_type": "stream",
     "text": [
      "                                                                                                                        \r"
     ]
    },
    {
     "name": "stdout",
     "output_type": "stream",
     "text": [
      "At round 270 accuracy: 0.8925518925518926\n",
      "At round 270 training accuracy: 0.8986118318629995\n",
      "At round 270 training loss: 0.33466640851130786\n",
      "At round 270 Discrepancy: 0.26115965421298387\n"
     ]
    },
    {
     "name": "stderr",
     "output_type": "stream",
     "text": [
      "Epoch:   5%|███▊                                                                         | 1/20 [00:00<00:02,  8.61it/s]"
     ]
    },
    {
     "name": "stdout",
     "output_type": "stream",
     "text": [
      "gradient difference: 11.66707432536479\n"
     ]
    },
    {
     "name": "stderr",
     "output_type": "stream",
     "text": [
      "                                                                                                                        \r"
     ]
    },
    {
     "name": "stdout",
     "output_type": "stream",
     "text": [
      "At round 271 accuracy: 0.8941798941798942\n",
      "At round 271 training accuracy: 0.9021795537104307\n",
      "At round 271 training loss: 0.32707870110292947\n",
      "At round 271 Discrepancy: 0.28915848379810905\n"
     ]
    },
    {
     "name": "stderr",
     "output_type": "stream",
     "text": [
      "Epoch:   0%|                                                                                     | 0/20 [00:00<?, ?it/s]"
     ]
    },
    {
     "name": "stdout",
     "output_type": "stream",
     "text": [
      "gradient difference: 11.43631006864086\n"
     ]
    },
    {
     "name": "stderr",
     "output_type": "stream",
     "text": [
      "                                                                                                                        \r"
     ]
    },
    {
     "name": "stdout",
     "output_type": "stream",
     "text": [
      "At round 272 accuracy: 0.8933658933658933\n",
      "At round 272 training accuracy: 0.9014173585884795\n",
      "At round 272 training loss: 0.32434661791028097\n",
      "At round 272 Discrepancy: 0.2707737189290388\n"
     ]
    },
    {
     "name": "stderr",
     "output_type": "stream",
     "text": [
      "Epoch:   0%|                                                                                     | 0/20 [00:00<?, ?it/s]"
     ]
    },
    {
     "name": "stdout",
     "output_type": "stream",
     "text": [
      "gradient difference: 11.329296114036532\n"
     ]
    },
    {
     "name": "stderr",
     "output_type": "stream",
     "text": [
      "                                                                                                                        \r"
     ]
    },
    {
     "name": "stdout",
     "output_type": "stream",
     "text": [
      "At round 273 accuracy: 0.8979785646452313\n",
      "At round 273 training accuracy: 0.9047580435910743\n",
      "At round 273 training loss: 0.3181710776296716\n",
      "At round 273 Discrepancy: 0.2753758778919902\n"
     ]
    },
    {
     "name": "stderr",
     "output_type": "stream",
     "text": [
      "Epoch:   0%|                                                                                     | 0/20 [00:00<?, ?it/s]"
     ]
    },
    {
     "name": "stdout",
     "output_type": "stream",
     "text": [
      "gradient difference: 11.043988744955332\n"
     ]
    },
    {
     "name": "stderr",
     "output_type": "stream",
     "text": [
      "                                                                                                                        \r"
     ]
    },
    {
     "name": "stdout",
     "output_type": "stream",
     "text": [
      "At round 274 accuracy: 0.8994708994708994\n",
      "At round 274 training accuracy: 0.908001427088739\n",
      "At round 274 training loss: 0.31115570646230656\n",
      "At round 274 Discrepancy: 0.2534295312014564\n"
     ]
    },
    {
     "name": "stderr",
     "output_type": "stream",
     "text": [
      "Epoch:  70%|████████████████████████████████████████████████████▌                      | 14/20 [00:00<00:00, 138.01it/s]"
     ]
    },
    {
     "name": "stdout",
     "output_type": "stream",
     "text": [
      "gradient difference: 10.833845514530738\n"
     ]
    },
    {
     "name": "stderr",
     "output_type": "stream",
     "text": [
      "                                                                                                                        \r"
     ]
    },
    {
     "name": "stdout",
     "output_type": "stream",
     "text": [
      "At round 275 accuracy: 0.895265228598562\n",
      "At round 275 training accuracy: 0.9015470939283861\n",
      "At round 275 training loss: 0.3213986836715863\n",
      "At round 275 Discrepancy: 0.3033740488712972\n"
     ]
    },
    {
     "name": "stderr",
     "output_type": "stream",
     "text": [
      "Epoch:   0%|                                                                                     | 0/20 [00:00<?, ?it/s]"
     ]
    },
    {
     "name": "stdout",
     "output_type": "stream",
     "text": [
      "gradient difference: 11.123169402243219\n"
     ]
    },
    {
     "name": "stderr",
     "output_type": "stream",
     "text": [
      "                                                                                                                        \r"
     ]
    },
    {
     "name": "stdout",
     "output_type": "stream",
     "text": [
      "At round 276 accuracy: 0.9065255731922398\n",
      "At round 276 training accuracy: 0.9156395952257395\n",
      "At round 276 training loss: 0.2975612787484094\n",
      "At round 276 Discrepancy: 0.3354423034930242\n"
     ]
    },
    {
     "name": "stderr",
     "output_type": "stream",
     "text": [
      "Epoch:   0%|                                                                                     | 0/20 [00:00<?, ?it/s]"
     ]
    },
    {
     "name": "stdout",
     "output_type": "stream",
     "text": [
      "gradient difference: 10.109128115778045\n"
     ]
    },
    {
     "name": "stderr",
     "output_type": "stream",
     "text": [
      "                                                                                                                        \r"
     ]
    },
    {
     "name": "stdout",
     "output_type": "stream",
     "text": [
      "At round 277 accuracy: 0.9050332383665717\n",
      "At round 277 training accuracy: 0.914715230928905\n",
      "At round 277 training loss: 0.3003573591488203\n",
      "At round 277 Discrepancy: 0.26388420990699385\n"
     ]
    },
    {
     "name": "stderr",
     "output_type": "stream",
     "text": [
      "Epoch:   0%|                                                                                     | 0/20 [00:00<?, ?it/s]"
     ]
    },
    {
     "name": "stdout",
     "output_type": "stream",
     "text": [
      "gradient difference: 10.224159031832222\n"
     ]
    },
    {
     "name": "stderr",
     "output_type": "stream",
     "text": [
      "                                                                                                                        \r"
     ]
    },
    {
     "name": "stdout",
     "output_type": "stream",
     "text": [
      "At round 278 accuracy: 0.9074752408085741\n",
      "At round 278 training accuracy: 0.9147476647638817\n",
      "At round 278 training loss: 0.3021726404500318\n",
      "At round 278 Discrepancy: 0.2914637397816392\n"
     ]
    },
    {
     "name": "stderr",
     "output_type": "stream",
     "text": [
      "Epoch:  65%|████████████████████████████████████████████████▊                          | 13/20 [00:00<00:00, 125.61it/s]"
     ]
    },
    {
     "name": "stdout",
     "output_type": "stream",
     "text": [
      "gradient difference: 10.17059932564731\n"
     ]
    },
    {
     "name": "stderr",
     "output_type": "stream",
     "text": [
      "                                                                                                                        \r"
     ]
    },
    {
     "name": "stdout",
     "output_type": "stream",
     "text": [
      "At round 279 accuracy: 0.9051689051689051\n",
      "At round 279 training accuracy: 0.9128502854177478\n",
      "At round 279 training loss: 0.30729506757616254\n",
      "At round 279 Discrepancy: 0.3154413974499631\n"
     ]
    },
    {
     "name": "stderr",
     "output_type": "stream",
     "text": [
      "Epoch:  10%|███████▋                                                                     | 2/20 [00:00<00:01, 16.25it/s]"
     ]
    },
    {
     "name": "stdout",
     "output_type": "stream",
     "text": [
      "gradient difference: 10.241019743121463\n"
     ]
    },
    {
     "name": "stderr",
     "output_type": "stream",
     "text": [
      "                                                                                                                        \r"
     ]
    },
    {
     "name": "stdout",
     "output_type": "stream",
     "text": [
      "At round 280 accuracy: 0.9047619047619048\n",
      "At round 280 training accuracy: 0.9104501816294759\n",
      "At round 280 training loss: 0.314011058250027\n",
      "At round 280 Discrepancy: 0.34438234120953914\n"
     ]
    },
    {
     "name": "stderr",
     "output_type": "stream",
     "text": [
      "Epoch:  20%|███████████████▍                                                             | 4/20 [00:00<00:00, 33.26it/s]"
     ]
    },
    {
     "name": "stdout",
     "output_type": "stream",
     "text": [
      "gradient difference: 10.478875089244843\n"
     ]
    },
    {
     "name": "stderr",
     "output_type": "stream",
     "text": [
      "                                                                                                                        \r"
     ]
    },
    {
     "name": "stdout",
     "output_type": "stream",
     "text": [
      "At round 281 accuracy: 0.9023199023199023\n",
      "At round 281 training accuracy: 0.9123475609756098\n",
      "At round 281 training loss: 0.30838075258857783\n",
      "At round 281 Discrepancy: 0.2889534068330043\n"
     ]
    },
    {
     "name": "stderr",
     "output_type": "stream",
     "text": [
      "Epoch:   0%|                                                                                     | 0/20 [00:00<?, ?it/s]"
     ]
    },
    {
     "name": "stdout",
     "output_type": "stream",
     "text": [
      "gradient difference: 10.235212146358526\n"
     ]
    },
    {
     "name": "stderr",
     "output_type": "stream",
     "text": [
      "                                                                                                                        \r"
     ]
    },
    {
     "name": "stdout",
     "output_type": "stream",
     "text": [
      "At round 282 accuracy: 0.9017772351105684\n",
      "At round 282 training accuracy: 0.9101420601971977\n",
      "At round 282 training loss: 0.3138621625030202\n",
      "At round 282 Discrepancy: 0.29653893084452504\n"
     ]
    },
    {
     "name": "stderr",
     "output_type": "stream",
     "text": [
      "Epoch:  25%|███████████████████▎                                                         | 5/20 [00:00<00:00, 45.13it/s]"
     ]
    },
    {
     "name": "stdout",
     "output_type": "stream",
     "text": [
      "gradient difference: 10.326960768985275\n"
     ]
    },
    {
     "name": "stderr",
     "output_type": "stream",
     "text": [
      "                                                                                                                        \r"
     ]
    },
    {
     "name": "stdout",
     "output_type": "stream",
     "text": [
      "At round 283 accuracy: 0.9046262379595713\n",
      "At round 283 training accuracy: 0.9111637259989621\n",
      "At round 283 training loss: 0.3132194467347739\n",
      "At round 283 Discrepancy: 0.3090530312059045\n"
     ]
    },
    {
     "name": "stderr",
     "output_type": "stream",
     "text": [
      "Epoch:   0%|                                                                                     | 0/20 [00:00<?, ?it/s]"
     ]
    },
    {
     "name": "stdout",
     "output_type": "stream",
     "text": [
      "gradient difference: 10.347791535236198\n"
     ]
    },
    {
     "name": "stderr",
     "output_type": "stream",
     "text": [
      "                                                                                                                        \r"
     ]
    },
    {
     "name": "stdout",
     "output_type": "stream",
     "text": [
      "At round 284 accuracy: 0.9031339031339032\n",
      "At round 284 training accuracy: 0.9108718214841723\n",
      "At round 284 training loss: 0.3136878056807751\n",
      "At round 284 Discrepancy: 0.31355267043752005\n"
     ]
    },
    {
     "name": "stderr",
     "output_type": "stream",
     "text": [
      "Epoch:   0%|                                                                                     | 0/20 [00:00<?, ?it/s]"
     ]
    },
    {
     "name": "stdout",
     "output_type": "stream",
     "text": [
      "gradient difference: 10.382817609401279\n"
     ]
    },
    {
     "name": "stderr",
     "output_type": "stream",
     "text": [
      "                                                                                                                        \r"
     ]
    },
    {
     "name": "stdout",
     "output_type": "stream",
     "text": [
      "At round 285 accuracy: 0.9035409035409036\n",
      "At round 285 training accuracy: 0.9110502075765439\n",
      "At round 285 training loss: 0.3129406643498082\n",
      "At round 285 Discrepancy: 0.28919220757027086\n"
     ]
    },
    {
     "name": "stderr",
     "output_type": "stream",
     "text": [
      "Epoch:  30%|███████████████████████                                                      | 6/20 [00:00<00:00, 50.36it/s]"
     ]
    },
    {
     "name": "stdout",
     "output_type": "stream",
     "text": [
      "gradient difference: 10.382757797371063\n"
     ]
    },
    {
     "name": "stderr",
     "output_type": "stream",
     "text": [
      "                                                                                                                        \r"
     ]
    },
    {
     "name": "stdout",
     "output_type": "stream",
     "text": [
      "At round 286 accuracy: 0.9031339031339032\n",
      "At round 286 training accuracy: 0.9115204981837053\n",
      "At round 286 training loss: 0.31031958497123097\n",
      "At round 286 Discrepancy: 0.2681971559181394\n"
     ]
    },
    {
     "name": "stderr",
     "output_type": "stream",
     "text": [
      "                                                                                                                        "
     ]
    },
    {
     "name": "stdout",
     "output_type": "stream",
     "text": [
      "gradient difference: 10.29203217354295\n"
     ]
    },
    {
     "name": "stderr",
     "output_type": "stream",
     "text": [
      "                                                                                                                        \r"
     ]
    },
    {
     "name": "stdout",
     "output_type": "stream",
     "text": [
      "At round 287 accuracy: 0.895265228598562\n",
      "At round 287 training accuracy: 0.902747145822522\n",
      "At round 287 training loss: 0.3294704877791298\n",
      "At round 287 Discrepancy: 0.4559024668996459\n"
     ]
    },
    {
     "name": "stderr",
     "output_type": "stream",
     "text": [
      "Epoch:  20%|███████████████▍                                                             | 4/20 [00:00<00:00, 37.71it/s]"
     ]
    },
    {
     "name": "stdout",
     "output_type": "stream",
     "text": [
      "gradient difference: 10.765896047017204\n"
     ]
    },
    {
     "name": "stderr",
     "output_type": "stream",
     "text": [
      "                                                                                                                        \r"
     ]
    },
    {
     "name": "stdout",
     "output_type": "stream",
     "text": [
      "At round 288 accuracy: 0.8987925654592321\n",
      "At round 288 training accuracy: 0.9076933056564608\n",
      "At round 288 training loss: 0.31534817039991475\n",
      "At round 288 Discrepancy: 0.3151545367520877\n"
     ]
    },
    {
     "name": "stderr",
     "output_type": "stream",
     "text": [
      "Epoch:   0%|                                                                                     | 0/20 [00:00<?, ?it/s]"
     ]
    },
    {
     "name": "stdout",
     "output_type": "stream",
     "text": [
      "gradient difference: 10.460884202282898\n"
     ]
    },
    {
     "name": "stderr",
     "output_type": "stream",
     "text": [
      "                                                                                                                        \r"
     ]
    },
    {
     "name": "stdout",
     "output_type": "stream",
     "text": [
      "At round 289 accuracy: 0.8959435626102292\n",
      "At round 289 training accuracy: 0.9056661909704203\n",
      "At round 289 training loss: 0.3145711879955122\n",
      "At round 289 Discrepancy: 0.2934089650645032\n"
     ]
    },
    {
     "name": "stderr",
     "output_type": "stream",
     "text": [
      "Epoch:  55%|█████████████████████████████████████████▎                                 | 11/20 [00:00<00:00, 100.56it/s]"
     ]
    },
    {
     "name": "stdout",
     "output_type": "stream",
     "text": [
      "gradient difference: 10.14248353659791\n"
     ]
    },
    {
     "name": "stderr",
     "output_type": "stream",
     "text": [
      "                                                                                                                        \r"
     ]
    },
    {
     "name": "stdout",
     "output_type": "stream",
     "text": [
      "At round 290 accuracy: 0.9001492334825668\n",
      "At round 290 training accuracy: 0.9087474052932019\n",
      "At round 290 training loss: 0.30937254086821775\n",
      "At round 290 Discrepancy: 0.31387676395815944\n"
     ]
    },
    {
     "name": "stderr",
     "output_type": "stream",
     "text": [
      "Epoch:   0%|                                                                                     | 0/20 [00:00<?, ?it/s]"
     ]
    },
    {
     "name": "stdout",
     "output_type": "stream",
     "text": [
      "gradient difference: 10.007441225522838\n"
     ]
    },
    {
     "name": "stderr",
     "output_type": "stream",
     "text": [
      "                                                                                                                        \r"
     ]
    },
    {
     "name": "stdout",
     "output_type": "stream",
     "text": [
      "At round 291 accuracy: 0.9001492334825668\n",
      "At round 291 training accuracy: 0.909752854177478\n",
      "At round 291 training loss: 0.31050108281990246\n",
      "At round 291 Discrepancy: 0.2322290001304122\n"
     ]
    },
    {
     "name": "stderr",
     "output_type": "stream",
     "text": [
      "Epoch:  35%|██████████████████████████▉                                                  | 7/20 [00:00<00:00, 62.90it/s]"
     ]
    },
    {
     "name": "stdout",
     "output_type": "stream",
     "text": [
      "gradient difference: 10.05914417041613\n"
     ]
    },
    {
     "name": "stderr",
     "output_type": "stream",
     "text": [
      "                                                                                                                        \r"
     ]
    },
    {
     "name": "stdout",
     "output_type": "stream",
     "text": [
      "At round 292 accuracy: 0.899063899063899\n",
      "At round 292 training accuracy: 0.9086501037882719\n",
      "At round 292 training loss: 0.31108707312569306\n",
      "At round 292 Discrepancy: 0.25132138363664625\n"
     ]
    },
    {
     "name": "stderr",
     "output_type": "stream",
     "text": [
      "Epoch:   0%|                                                                                     | 0/20 [00:00<?, ?it/s]"
     ]
    },
    {
     "name": "stdout",
     "output_type": "stream",
     "text": [
      "gradient difference: 10.061008130411034\n"
     ]
    },
    {
     "name": "stderr",
     "output_type": "stream",
     "text": [
      "                                                                                                                        \r"
     ]
    },
    {
     "name": "stdout",
     "output_type": "stream",
     "text": [
      "At round 293 accuracy: 0.9028625695292362\n",
      "At round 293 training accuracy: 0.9118772703684483\n",
      "At round 293 training loss: 0.3040128487645624\n",
      "At round 293 Discrepancy: 0.30829421331444823\n"
     ]
    },
    {
     "name": "stderr",
     "output_type": "stream",
     "text": [
      "Epoch:  30%|███████████████████████                                                      | 6/20 [00:00<00:00, 50.61it/s]"
     ]
    },
    {
     "name": "stdout",
     "output_type": "stream",
     "text": [
      "gradient difference: 9.837251272555584\n"
     ]
    },
    {
     "name": "stderr",
     "output_type": "stream",
     "text": [
      "                                                                                                                        \r"
     ]
    },
    {
     "name": "stdout",
     "output_type": "stream",
     "text": [
      "At round 294 accuracy: 0.9043549043549044\n",
      "At round 294 training accuracy: 0.914163855734302\n",
      "At round 294 training loss: 0.2984205455371006\n",
      "At round 294 Discrepancy: 0.31371440723739025\n"
     ]
    },
    {
     "name": "stderr",
     "output_type": "stream",
     "text": [
      "Epoch:  35%|██████████████████████████▉                                                  | 7/20 [00:00<00:00, 64.27it/s]"
     ]
    },
    {
     "name": "stdout",
     "output_type": "stream",
     "text": [
      "gradient difference: 9.65559026602975\n"
     ]
    },
    {
     "name": "stderr",
     "output_type": "stream",
     "text": [
      "                                                                                                                        \r"
     ]
    },
    {
     "name": "stdout",
     "output_type": "stream",
     "text": [
      "At round 295 accuracy: 0.9057115723782391\n",
      "At round 295 training accuracy: 0.9148611831862999\n",
      "At round 295 training loss: 0.2955216580014915\n",
      "At round 295 Discrepancy: 0.27127572927416865\n"
     ]
    },
    {
     "name": "stderr",
     "output_type": "stream",
     "text": [
      "Epoch:  60%|█████████████████████████████████████████████                              | 12/20 [00:00<00:00, 113.61it/s]"
     ]
    },
    {
     "name": "stdout",
     "output_type": "stream",
     "text": [
      "gradient difference: 9.576358041016135\n"
     ]
    },
    {
     "name": "stderr",
     "output_type": "stream",
     "text": [
      "                                                                                                                        \r"
     ]
    },
    {
     "name": "stdout",
     "output_type": "stream",
     "text": [
      "At round 296 accuracy: 0.9015059015059015\n",
      "At round 296 training accuracy: 0.9094285158277114\n",
      "At round 296 training loss: 0.30844771692765655\n",
      "At round 296 Discrepancy: 0.29504758589681346\n"
     ]
    },
    {
     "name": "stderr",
     "output_type": "stream",
     "text": [
      "Epoch:  65%|████████████████████████████████████████████████▊                          | 13/20 [00:00<00:00, 122.72it/s]"
     ]
    },
    {
     "name": "stdout",
     "output_type": "stream",
     "text": [
      "gradient difference: 9.817006210213234\n"
     ]
    },
    {
     "name": "stderr",
     "output_type": "stream",
     "text": [
      "                                                                                                                        \r"
     ]
    },
    {
     "name": "stdout",
     "output_type": "stream",
     "text": [
      "At round 297 accuracy: 0.8998778998778999\n",
      "At round 297 training accuracy: 0.9097366372599897\n",
      "At round 297 training loss: 0.31062644713102866\n",
      "At round 297 Discrepancy: 0.3004633476286688\n"
     ]
    },
    {
     "name": "stderr",
     "output_type": "stream",
     "text": [
      "Epoch:   0%|                                                                                     | 0/20 [00:00<?, ?it/s]"
     ]
    },
    {
     "name": "stdout",
     "output_type": "stream",
     "text": [
      "gradient difference: 9.877307802127081\n"
     ]
    },
    {
     "name": "stderr",
     "output_type": "stream",
     "text": [
      "                                                                                                                        \r"
     ]
    },
    {
     "name": "stdout",
     "output_type": "stream",
     "text": [
      "At round 298 accuracy: 0.8997422330755664\n",
      "At round 298 training accuracy: 0.9092339128178516\n",
      "At round 298 training loss: 0.3074020570354656\n",
      "At round 298 Discrepancy: 0.24767614722344566\n"
     ]
    },
    {
     "name": "stderr",
     "output_type": "stream",
     "text": [
      "Epoch:   0%|                                                                                     | 0/20 [00:00<?, ?it/s]"
     ]
    },
    {
     "name": "stdout",
     "output_type": "stream",
     "text": [
      "gradient difference: 9.786311917163431\n"
     ]
    },
    {
     "name": "stderr",
     "output_type": "stream",
     "text": [
      "                                                                                                                        \r"
     ]
    },
    {
     "name": "stdout",
     "output_type": "stream",
     "text": [
      "At round 299 accuracy: 0.9004205670872337\n",
      "At round 299 training accuracy: 0.9106610015568241\n",
      "At round 299 training loss: 0.3042049081976449\n",
      "At round 299 Discrepancy: 0.24566441075035664\n"
     ]
    },
    {
     "name": "stderr",
     "output_type": "stream",
     "text": [
      "Epoch:   0%|                                                                                     | 0/20 [00:00<?, ?it/s]"
     ]
    },
    {
     "name": "stdout",
     "output_type": "stream",
     "text": [
      "gradient difference: 9.616125440880257\n"
     ]
    },
    {
     "name": "stderr",
     "output_type": "stream",
     "text": [
      "                                                                                                                        \r"
     ]
    },
    {
     "name": "stdout",
     "output_type": "stream",
     "text": [
      "At round 300 accuracy: 0.8907882241215574\n",
      "At round 300 training accuracy: 0.9019038661131292\n"
     ]
    }
   ],
   "source": [
    "server.train()"
   ]
  },
  {
   "cell_type": "code",
   "execution_count": 7,
   "metadata": {},
   "outputs": [
    {
     "data": {
      "text/plain": [
       "\"\\nfname = 'sampling_interval.csv'\\ninterval = 5\\nrounds = 200\\nwith open(fname, 'w') as csv_f:\\n  csv_f.write(str(1)+'\\n')\\n  for i in range(2, rounds+1):\\n    if i % interval == 0:\\n      csv_f.write(str(i))\\n    elif i == rounds:\\n      csv_f.write('200')\\n    csv_f.write('\\n')\\n\""
      ]
     },
     "execution_count": 7,
     "metadata": {},
     "output_type": "execute_result"
    }
   ],
   "source": [
    "\"\"\"\n",
    "fname = 'sampling_interval.csv'\n",
    "interval = 5\n",
    "rounds = 200\n",
    "with open(fname, 'w') as csv_f:\n",
    "  csv_f.write(str(1)+'\\n')\n",
    "  for i in range(2, rounds+1):\n",
    "    if i % interval == 0:\n",
    "      csv_f.write(str(i))\n",
    "    elif i == rounds:\n",
    "      csv_f.write('200')\n",
    "    csv_f.write('\\n')\n",
    "\"\"\""
   ]
  }
 ],
 "metadata": {
  "kernelspec": {
   "display_name": "Python 3",
   "language": "python",
   "name": "python3"
  },
  "language_info": {
   "codemirror_mode": {
    "name": "ipython",
    "version": 3
   },
   "file_extension": ".py",
   "mimetype": "text/x-python",
   "name": "python",
   "nbconvert_exporter": "python",
   "pygments_lexer": "ipython3",
   "version": "3.8.5"
  }
 },
 "nbformat": 4,
 "nbformat_minor": 4
}
