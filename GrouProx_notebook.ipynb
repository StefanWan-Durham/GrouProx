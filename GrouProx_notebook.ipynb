{
 "cells": [
  {
   "cell_type": "code",
   "execution_count": 1,
   "metadata": {},
   "outputs": [
    {
     "name": "stdout",
     "output_type": "stream",
     "text": [
      "WARNING:tensorflow:From /home/lab/anaconda3/envs/TFF/lib/python3.7/site-packages/tensorflow/python/compat/v2_compat.py:96: disable_resource_variables (from tensorflow.python.ops.variable_scope) is deprecated and will be removed in a future version.\n",
      "Instructions for updating:\n",
      "non-resource variables are not supported in the long term\n"
     ]
    }
   ],
   "source": [
    "import importlib\n",
    "import tensorflow.compat.v1 as tf\n",
    "tf.disable_v2_behavior()\n",
    "from flearn.utils.model_utils import read_data\n",
    "import os\n",
    "import importlib\n",
    "import random\n",
    "import numpy as np\n",
    "\n",
    "from flearn.models import client\n",
    "from flearn.models import group\n",
    "from flearn.trainers import grouprox\n",
    "from flearn.trainers import fedprox\n",
    "from flearn.trainers import fedavg"
   ]
  },
  {
   "cell_type": "code",
   "execution_count": 2,
   "metadata": {},
   "outputs": [
    {
     "name": "stdout",
     "output_type": "stream",
     "text": [
      "grouprox-nist-mclr-NumG5-Agglr0.01-ProximalF-RAC.T-EvenlyF.csv\n"
     ]
    }
   ],
   "source": [
    "params = {}\n",
    "#DATASETS = ['sent140', 'nist', 'shakespeare', 'mnist', 'synthetic_iid', 'synthetic_0_0', 'synthetic_0.5_0.5', 'synthetic_1_1']\n",
    "\n",
    "\"\"\"\n",
    "Parameters that need to be manually set\n",
    "\"\"\"\n",
    "\n",
    "#params['dataset'] = 'sent140'\n",
    "params['dataset'] = 'nist'\n",
    "params['model'] = 'mlp'\n",
    "#params['model'] = 'stacked_lstm'\n",
    "params['optimizer'] = 'grouprox'\n",
    "params['drop_percent'] = 0\n",
    "\n",
    "if params['dataset'].startswith('mnist'):\n",
    "  params['model_params'] = (10,)\n",
    "  params['learning_rate'] = 0.03\n",
    "  params['mu'] = 1\n",
    "  params['num_group'] = 3\n",
    "if params['dataset'] == 'nist':\n",
    "  params['model_params'] = (26,)\n",
    "  params['learning_rate'] = 0.003\n",
    "  params['mu'] = 1\n",
    "  params['num_group'] = 5\n",
    "if params['dataset'] == 'sent140':\n",
    "  params['model_params'] = (25, 2, 100) # seq_len, num_classes, num_hidden\n",
    "  params['learning_rate'] = 0.3\n",
    "  params['mu'] = 0.01\n",
    "  params['num_group'] = 5\n",
    "if params['dataset'].startswith('synthetic'):\n",
    "  params['model_params'] = (10,)\n",
    "  params['learning_rate'] = 0.01\n",
    "  params['mu'] = 1\n",
    "  params['num_group'] = 5\n",
    "\n",
    "if params['optimizer']  == 'fedavg':\n",
    "  pass\n",
    "if params['optimizer']  == 'fedprox':\n",
    "  pass\n",
    "if params['optimizer']  == 'grouprox':\n",
    "  params['proximal'] = False\n",
    "  params['RAC'] = True\n",
    "  params['RCC'] = False\n",
    "  params['allow_empty'] = True\n",
    "  \n",
    "  # TEST Hyperparameters\n",
    "  params['evenly'] = False\n",
    "  params['min_clients'] = 2\n",
    "\n",
    "\"\"\"\n",
    "Common parameters\n",
    "\"\"\"\n",
    "params['num_rounds'] = 200\n",
    "params['num_epochs'] = 20\n",
    "params['batch_size'] = 10\n",
    "params['eval_every'] = 1\n",
    "params['clients_per_round'] = 20 ######################################################\n",
    "params['seed'] = 233\n",
    "params['agg_lr'] = 0.01\n",
    "\n",
    "\n",
    "\"\"\" Set the output CSV file name \"\"\"\n",
    "info = '{}-{}-{}'.format(params['optimizer'], params['dataset'], params['model'])\n",
    "info2 = ''\n",
    "suffix = '.csv'\n",
    "if params['optimizer'] == 'fedavg':\n",
    "  pass\n",
    "if params['optimizer'] == 'fedprox':\n",
    "  pass\n",
    "if params['optimizer'] == 'grouprox':\n",
    "  \n",
    "  info2 = '-NumG{:1d}-Agglr{:.4}-Proximal{:.1}'.format(\n",
    "    params['num_group'], params['agg_lr'], str(params['proximal']))\n",
    "  \n",
    "  if params['RCC'] == True:\n",
    "    info2 = info2 + '-RCC.{:.1}'.format(str(params['RCC']))\n",
    "  \n",
    "  if params['RAC'] == True:\n",
    "    info2 = info2 + '-RAC.{:.1}-Evenly{:.1}'.format(str(params['RAC']), str(params['evenly']))\n",
    "  elif params['allow_empty'] == True:\n",
    "    info2 = info2 + '-Empty{:.1}'.format(str(params['allow_empty']))\n",
    "  elif params['allow_empty'] == False:\n",
    "    info2 = info2 + '-Evenly{:.1}'.format(str(params['evenly']))\n",
    "\n",
    "params['export_filename'] = info + info2 + suffix\n",
    "\n",
    "print(params['export_filename'])"
   ]
  },
  {
   "cell_type": "code",
   "execution_count": 3,
   "metadata": {
    "scrolled": true
   },
   "outputs": [
    {
     "name": "stdout",
     "output_type": "stream",
     "text": [
      "Using Group prox to Train\n",
      "WARNING:tensorflow:From /home/lab/workspace/GrouProx/flearn/models/nist/mclr.py:41: dense (from tensorflow.python.layers.core) is deprecated and will be removed in a future version.\n",
      "Instructions for updating:\n",
      "Use keras.layers.Dense instead.\n",
      "WARNING:tensorflow:From /home/lab/anaconda3/envs/TFF/lib/python3.7/site-packages/tensorflow/python/layers/core.py:187: Layer.apply (from tensorflow.python.keras.engine.base_layer_v1) is deprecated and will be removed in a future version.\n",
      "Instructions for updating:\n",
      "Please use `layer.__call__` method instead.\n",
      "WARNING:tensorflow:From /home/lab/anaconda3/envs/TFF/lib/python3.7/site-packages/tensorflow/python/profiler/internal/flops_registry.py:142: tensor_shape_from_node_def_name (from tensorflow.python.framework.graph_util_impl) is deprecated and will be removed in a future version.\n",
      "Instructions for updating:\n",
      "Use `tf.compat.v1.graph_util.tensor_shape_from_node_def_name`\n"
     ]
    },
    {
     "name": "stderr",
     "output_type": "stream",
     "text": [
      "\r",
      "Epoch:   0%|                                                                                      | 0/1 [00:00<?, ?it/s]"
     ]
    },
    {
     "name": "stdout",
     "output_type": "stream",
     "text": [
      "200 Clients in Total\n",
      "20410 Parameters in Total\n"
     ]
    },
    {
     "name": "stderr",
     "output_type": "stream",
     "text": [
      "                                                                                                                        "
     ]
    },
    {
     "name": "stdout",
     "output_type": "stream",
     "text": [
      "WARNING:tensorflow:From /home/lab/workspace/GrouProx/flearn/models/nist/mclr.py:59: Variable.load (from tensorflow.python.ops.variables) is deprecated and will be removed in a future version.\n",
      "Instructions for updating:\n",
      "Prefer Variable.assign which has equivalent behavior in 2.X.\n"
     ]
    },
    {
     "name": "stderr",
     "output_type": "stream",
     "text": [
      "                                                                                                                        \r"
     ]
    },
    {
     "name": "stdout",
     "output_type": "stream",
     "text": [
      "Pre-training takes 1.9123432636260986s seconds\n",
      "SVD takes 0.07723760604858398s seconds\n",
      "Delta w shape: (100, 20410) Matrix V shape: (20410, 3)\n",
      "Ternary Cossim Matrix calculation takes 0.008769035339355469s seconds\n",
      "Clustering takes 0.06634712219238281s seconds\n",
      "Clustering Results: Counter({1: 23, 0: 23, 3: 21, 2: 17, 4: 16})\n",
      "Clustering Inertia: 1.006733775138855\n"
     ]
    }
   ],
   "source": [
    "\"\"\"\n",
    "Some preparations\n",
    "\"\"\"\n",
    "\n",
    "# read data\n",
    "train_path = os.path.join('data', params['dataset'], 'data', 'train')\n",
    "test_path = os.path.join('data', params['dataset'], 'data', 'test')\n",
    "dataset = read_data(train_path, test_path)\n",
    "\n",
    "# Load model\n",
    "if params['dataset'].startswith('synthetic'):  # all synthetic datasets use the same model\n",
    "  model_path = '%s.%s.%s.%s' % ('flearn', 'models', 'synthetic', params['model'])\n",
    "elif params['dataset'].startswith('mnist'):\n",
    "  model_path = '%s.%s.%s.%s' % ('flearn', 'models', 'mnist', params['model'])\n",
    "else:\n",
    "  model_path = '%s.%s.%s.%s' % ('flearn', 'models', params['dataset'], params['model'])\n",
    "mod = importlib.import_module(model_path)\n",
    "learner = getattr(mod, 'Model')\n",
    "\n",
    "# Set seeds\n",
    "random.seed(1 + params['seed'])\n",
    "np.random.seed(12 + params['seed'])\n",
    "tf.set_random_seed(123 + params['seed'])\n",
    "\n",
    "# Set server\n",
    "if params['optimizer'] == 'fedavg':\n",
    "  server = fedavg.Server(params, learner, dataset)  \n",
    "if params['optimizer'] == 'fedprox':\n",
    "  server = fedprox.Server(params, learner, dataset)\n",
    "if params['optimizer'] == 'grouprox':\n",
    "  server = grouprox.Server(params, learner, dataset)"
   ]
  },
  {
   "cell_type": "code",
   "execution_count": 4,
   "metadata": {
    "scrolled": true
   },
   "outputs": [
    {
     "name": "stderr",
     "output_type": "stream",
     "text": [
      "\r",
      "Epoch:   0%|                                                                                      | 0/1 [00:00<?, ?it/s]"
     ]
    },
    {
     "name": "stdout",
     "output_type": "stream",
     "text": [
      "Training with 20 workers ---\n"
     ]
    },
    {
     "name": "stderr",
     "output_type": "stream",
     "text": [
      "                                                                                                                        \r"
     ]
    },
    {
     "name": "stdout",
     "output_type": "stream",
     "text": [
      "Group 0, clients ['f_00154', 'f_00033', 'f_00074']\n",
      "Group 1, clients ['f_00018', 'f_00107', 'f_00098', 'f_00177', 'f_00007', 'f_00037']\n",
      "Group 2, clients ['f_00170', 'f_00180', 'f_00080', 'f_00130']\n",
      "Group 3, clients ['f_00182', 'f_00012', 'f_00152', 'f_00061']\n",
      "Group 4, clients ['f_00005', 'f_00146', 'f_00125']\n"
     ]
    },
    {
     "name": "stderr",
     "output_type": "stream",
     "text": [
      "Epoch:  35%|██████████████████████████▉                                                  | 7/20 [00:00<00:00, 66.26it/s]"
     ]
    },
    {
     "name": "stdout",
     "output_type": "stream",
     "text": [
      "Group 0\n",
      "At round 0 accuracy: 0.36649214659685864\n",
      "At round 0 training accuracy: 0.3260061919504644\n",
      "At round 0 training loss: 2.2774107565082633\n",
      "Group 1\n",
      "At round 0 accuracy: 0.3538011695906433\n",
      "At round 0 training accuracy: 0.3398963730569948\n",
      "At round 0 training loss: 2.0419706101244595\n",
      "Group 2\n",
      "At round 0 accuracy: 0.31232876712328766\n",
      "At round 0 training accuracy: 0.33545715195922265\n",
      "At round 0 training loss: 1.9824235395247407\n",
      "Group 3\n",
      "At round 0 accuracy: 0.3930635838150289\n",
      "At round 0 training accuracy: 0.3938584779706275\n",
      "At round 0 training loss: 2.4083697632731043\n",
      "Group 4\n",
      "At round 0 accuracy: 0.33860759493670883\n",
      "At round 0 training accuracy: 0.36950807360120164\n",
      "At round 0 training loss: 1.8481984084323078\n",
      "At round 0 mean test accuracy: 0.35654885654885654 mean train accuracy: 0.3558857560440899\n",
      "The groups difference are: [1.31396624 1.29598937 1.31914754 1.33039692 1.28824134]\n",
      "Begin group  0 training\n"
     ]
    },
    {
     "name": "stderr",
     "output_type": "stream",
     "text": [
      "Epoch:  65%|████████████████████████████████████████████████▊                          | 13/20 [00:00<00:00, 128.93it/s]"
     ]
    },
    {
     "name": "stdout",
     "output_type": "stream",
     "text": [
      "Begin group  1 training\n"
     ]
    },
    {
     "name": "stderr",
     "output_type": "stream",
     "text": [
      "Epoch:   0%|                                                                                     | 0/20 [00:00<?, ?it/s]"
     ]
    },
    {
     "name": "stdout",
     "output_type": "stream",
     "text": [
      "Begin group  2 training\n"
     ]
    },
    {
     "name": "stderr",
     "output_type": "stream",
     "text": [
      "Epoch:   0%|                                                                                     | 0/20 [00:00<?, ?it/s]"
     ]
    },
    {
     "name": "stdout",
     "output_type": "stream",
     "text": [
      "Begin group  3 training\n"
     ]
    },
    {
     "name": "stderr",
     "output_type": "stream",
     "text": [
      "Epoch:  25%|███████████████████▎                                                         | 5/20 [00:00<00:00, 41.66it/s]"
     ]
    },
    {
     "name": "stdout",
     "output_type": "stream",
     "text": [
      "Begin group  4 training\n"
     ]
    },
    {
     "name": "stderr",
     "output_type": "stream",
     "text": [
      "                                                                                                                        \r"
     ]
    },
    {
     "name": "stdout",
     "output_type": "stream",
     "text": [
      "Group 0, clients ['f_00034', 'f_00184', 'f_00004']\n",
      "Group 1, clients ['f_00058', 'f_00198', 'f_00168', 'f_00018', 'f_00118', 'f_00059']\n",
      "Group 2, clients ['f_00040', 'f_00029', 'f_00089', 'f_00110', 'f_00159']\n",
      "Group 3, clients ['f_00102', 'f_00171', 'f_00011']\n",
      "Group 4, clients ['f_00095', 'f_00035', 'f_00136']\n"
     ]
    },
    {
     "name": "stderr",
     "output_type": "stream",
     "text": [
      "Epoch:   0%|                                                                                     | 0/20 [00:00<?, ?it/s]"
     ]
    },
    {
     "name": "stdout",
     "output_type": "stream",
     "text": [
      "Group 0\n",
      "At round 1 accuracy: 0.5209424083769634\n",
      "At round 1 training accuracy: 0.5272445820433437\n",
      "At round 1 training loss: 2.1089427602364923\n",
      "Group 1\n",
      "At round 1 accuracy: 0.4649122807017544\n",
      "At round 1 training accuracy: 0.4376511226252159\n",
      "At round 1 training loss: 1.7278418187650375\n",
      "Group 2\n",
      "At round 1 accuracy: 0.7013698630136986\n",
      "At round 1 training accuracy: 0.675374323032813\n",
      "At round 1 training loss: 1.6844868779410296\n",
      "Group 3\n",
      "At round 1 accuracy: 0.47591522157996147\n",
      "At round 1 training accuracy: 0.46395193591455275\n",
      "At round 1 training loss: 1.4260028158233704\n",
      "Group 4\n",
      "At round 1 accuracy: 0.6835443037974683\n",
      "At round 1 training accuracy: 0.6932031543372137\n",
      "At round 1 training loss: 1.8321286620298722\n",
      "At round 1 mean test accuracy: 0.5597713097713097 mean train accuracy: 0.5493575299920833\n",
      "The groups difference are: [3.40442015 3.49795638 3.55484897 3.51971527 3.55208043]\n",
      "Begin group  0 training\n"
     ]
    },
    {
     "name": "stderr",
     "output_type": "stream",
     "text": [
      "Epoch:   0%|                                                                                     | 0/20 [00:00<?, ?it/s]"
     ]
    },
    {
     "name": "stdout",
     "output_type": "stream",
     "text": [
      "Begin group  1 training\n"
     ]
    },
    {
     "name": "stderr",
     "output_type": "stream",
     "text": [
      "Epoch:   0%|                                                                                     | 0/20 [00:00<?, ?it/s]"
     ]
    },
    {
     "name": "stdout",
     "output_type": "stream",
     "text": [
      "Begin group  2 training\n"
     ]
    },
    {
     "name": "stderr",
     "output_type": "stream",
     "text": [
      "Epoch:  25%|███████████████████▎                                                         | 5/20 [00:00<00:00, 45.72it/s]"
     ]
    },
    {
     "name": "stdout",
     "output_type": "stream",
     "text": [
      "Begin group  3 training\n"
     ]
    },
    {
     "name": "stderr",
     "output_type": "stream",
     "text": [
      "Epoch:  70%|████████████████████████████████████████████████████▌                      | 14/20 [00:00<00:00, 130.71it/s]"
     ]
    },
    {
     "name": "stdout",
     "output_type": "stream",
     "text": [
      "Begin group  4 training\n"
     ]
    },
    {
     "name": "stderr",
     "output_type": "stream",
     "text": [
      "                                                                                                                        \r"
     ]
    },
    {
     "name": "stdout",
     "output_type": "stream",
     "text": [
      "Group 0, clients ['f_00193', 'f_00054', 'f_00013', 'f_00174', 'f_00044', 'f_00003', 'f_00113', 'f_00014']\n",
      "Group 1 is empty.\n",
      "Group 2, clients ['f_00029', 'f_00199', 'f_00010']\n",
      "Group 3, clients ['f_00112', 'f_00182', 'f_00012', 'f_00092', 'f_00002']\n",
      "Group 4, clients ['f_00085', 'f_00115', 'f_00035', 'f_00126']\n"
     ]
    },
    {
     "name": "stderr",
     "output_type": "stream",
     "text": [
      "Epoch:   0%|                                                                                     | 0/20 [00:00<?, ?it/s]"
     ]
    },
    {
     "name": "stdout",
     "output_type": "stream",
     "text": [
      "Group 0\n",
      "At round 2 accuracy: 0.6675392670157068\n",
      "At round 2 training accuracy: 0.6804953560371517\n",
      "At round 2 training loss: 2.122547063406776\n",
      "Group 1\n",
      "At round 2 accuracy: 0.42105263157894735\n",
      "At round 2 training accuracy: 0.40621761658031086\n",
      "At round 2 training loss: 2.0489254121747456\n",
      "Group 2\n",
      "At round 2 accuracy: 0.6273972602739726\n",
      "At round 2 training accuracy: 0.626314112774769\n",
      "At round 2 training loss: 1.366132877745724\n",
      "Group 3\n",
      "At round 2 accuracy: 0.6184971098265896\n",
      "At round 2 training accuracy: 0.6181575433911882\n",
      "At round 2 training loss: 1.0717662875393417\n",
      "Group 4\n",
      "At round 2 accuracy: 0.5981012658227848\n",
      "At round 2 training accuracy: 0.6087119789710852\n",
      "At round 2 training loss: 1.370236631805987\n",
      "At round 2 mean test accuracy: 0.5914760914760915 mean train accuracy: 0.5930820291090677\n",
      "The groups difference are: [4.44543632 4.54754233 4.45841938 4.63358987 4.58028456]\n",
      "Begin group  0 training\n"
     ]
    },
    {
     "name": "stderr",
     "output_type": "stream",
     "text": [
      "Epoch:   0%|                                                                                     | 0/20 [00:00<?, ?it/s]"
     ]
    },
    {
     "name": "stdout",
     "output_type": "stream",
     "text": [
      "Begin group  2 training\n"
     ]
    },
    {
     "name": "stderr",
     "output_type": "stream",
     "text": [
      "Epoch:   0%|                                                                                     | 0/20 [00:00<?, ?it/s]"
     ]
    },
    {
     "name": "stdout",
     "output_type": "stream",
     "text": [
      "Begin group  3 training\n"
     ]
    },
    {
     "name": "stderr",
     "output_type": "stream",
     "text": [
      "Epoch:   0%|                                                                                     | 0/20 [00:00<?, ?it/s]"
     ]
    },
    {
     "name": "stdout",
     "output_type": "stream",
     "text": [
      "Begin group  4 training\n"
     ]
    },
    {
     "name": "stderr",
     "output_type": "stream",
     "text": [
      "                                                                                                                        \r"
     ]
    },
    {
     "name": "stdout",
     "output_type": "stream",
     "text": [
      "Group 0, clients ['f_00183', 'f_00083', 'f_00173', 'f_00003']\n",
      "Group 1, clients ['f_00197', 'f_00058']\n",
      "Group 2, clients ['f_00040', 'f_00139', 'f_00170', 'f_00070', 'f_00100', 'f_00179', 'f_00190', 'f_00159']\n",
      "Group 3, clients ['f_00051', 'f_00082', 'f_00041']\n",
      "Group 4, clients ['f_00046', 'f_00025', 'f_00095']\n"
     ]
    },
    {
     "name": "stderr",
     "output_type": "stream",
     "text": [
      "Epoch:   0%|                                                                                     | 0/20 [00:00<?, ?it/s]"
     ]
    },
    {
     "name": "stdout",
     "output_type": "stream",
     "text": [
      "Group 0\n",
      "At round 3 accuracy: 0.6413612565445026\n",
      "At round 3 training accuracy: 0.6287925696594427\n",
      "At round 3 training loss: 1.4915618665078108\n",
      "Group 1\n",
      "At round 3 accuracy: 0.41812865497076024\n",
      "At round 3 training accuracy: 0.4048359240069085\n",
      "At round 3 training loss: 2.0418213351196988\n",
      "Group 2\n",
      "At round 3 accuracy: 0.6328767123287671\n",
      "At round 3 training accuracy: 0.6358712965912711\n",
      "At round 3 training loss: 1.3791688927118473\n",
      "Group 3\n",
      "At round 3 accuracy: 0.7360308285163777\n",
      "At round 3 training accuracy: 0.7376502002670227\n",
      "At round 3 training loss: 1.0500080871698747\n",
      "Group 4\n",
      "At round 3 accuracy: 0.6107594936708861\n",
      "At round 3 training accuracy: 0.6135936913255726\n",
      "At round 3 training loss: 1.2808910198020076\n",
      "At round 3 mean test accuracy: 0.6205821205821206 mean train accuracy: 0.6179891602216674\n",
      "The groups difference are: [5.0943575  5.14785522 5.24088861 5.32312789 5.28003424]\n",
      "Begin group  0 training\n"
     ]
    },
    {
     "name": "stderr",
     "output_type": "stream",
     "text": [
      "Epoch:   0%|                                                                                     | 0/20 [00:00<?, ?it/s]"
     ]
    },
    {
     "name": "stdout",
     "output_type": "stream",
     "text": [
      "Begin group  1 training\n",
      "Begin group  2 training\n"
     ]
    },
    {
     "name": "stderr",
     "output_type": "stream",
     "text": [
      "Epoch:   0%|                                                                                     | 0/20 [00:00<?, ?it/s]"
     ]
    },
    {
     "name": "stdout",
     "output_type": "stream",
     "text": [
      "Begin group  3 training\n"
     ]
    },
    {
     "name": "stderr",
     "output_type": "stream",
     "text": [
      "Epoch:  70%|████████████████████████████████████████████████████▌                      | 14/20 [00:00<00:00, 139.81it/s]"
     ]
    },
    {
     "name": "stdout",
     "output_type": "stream",
     "text": [
      "Begin group  4 training\n"
     ]
    },
    {
     "name": "stderr",
     "output_type": "stream",
     "text": [
      "                                                                                                                        \r"
     ]
    },
    {
     "name": "stdout",
     "output_type": "stream",
     "text": [
      "Group 0, clients ['f_00123', 'f_00184', 'f_00033', 'f_00084']\n",
      "Group 1, clients ['f_00128', 'f_00177', 'f_00088', 'f_00187', 'f_00188', 'f_00138']\n",
      "Group 2, clients ['f_00099', 'f_00090', 'f_00199']\n",
      "Group 3, clients ['f_00011', 'f_00001', 'f_00111', 'f_00061', 'f_00191', 'f_00171']\n",
      "Group 4, clients ['f_00175']\n"
     ]
    },
    {
     "name": "stderr",
     "output_type": "stream",
     "text": [
      "Epoch:  20%|███████████████▍                                                             | 4/20 [00:00<00:00, 37.18it/s]"
     ]
    },
    {
     "name": "stdout",
     "output_type": "stream",
     "text": [
      "Group 0\n",
      "At round 4 accuracy: 0.6204188481675392\n",
      "At round 4 training accuracy: 0.6185758513931888\n",
      "At round 4 training loss: 1.3678572389732573\n",
      "Group 1\n",
      "At round 4 accuracy: 0.631578947368421\n",
      "At round 4 training accuracy: 0.6151986183074266\n",
      "At round 4 training loss: 1.2937085652186668\n",
      "Group 2\n",
      "At round 4 accuracy: 0.6328767123287671\n",
      "At round 4 training accuracy: 0.6384198789423383\n",
      "At round 4 training loss: 1.1280308423356746\n",
      "Group 3\n",
      "At round 4 accuracy: 0.6319845857418112\n",
      "At round 4 training accuracy: 0.6319537160658656\n",
      "At round 4 training loss: 1.0544851521385687\n",
      "Group 4\n",
      "At round 4 accuracy: 0.6677215189873418\n",
      "At round 4 training accuracy: 0.6616597822005257\n",
      "At round 4 training loss: 1.1826146201133012\n",
      "At round 4 mean test accuracy: 0.6356548856548857 mean train accuracy: 0.6324218987881371\n",
      "The groups difference are: [5.62248331 5.68554795 5.85121082 5.81254254 5.8171724 ]\n",
      "Begin group  0 training\n"
     ]
    },
    {
     "name": "stderr",
     "output_type": "stream",
     "text": [
      "Epoch:  35%|██████████████████████████▉                                                  | 7/20 [00:00<00:00, 63.22it/s]"
     ]
    },
    {
     "name": "stdout",
     "output_type": "stream",
     "text": [
      "Begin group  1 training\n"
     ]
    },
    {
     "name": "stderr",
     "output_type": "stream",
     "text": [
      "Epoch:   0%|                                                                                     | 0/20 [00:00<?, ?it/s]"
     ]
    },
    {
     "name": "stdout",
     "output_type": "stream",
     "text": [
      "Begin group  2 training\n"
     ]
    },
    {
     "name": "stderr",
     "output_type": "stream",
     "text": [
      "Epoch:   0%|                                                                                     | 0/20 [00:00<?, ?it/s]"
     ]
    },
    {
     "name": "stdout",
     "output_type": "stream",
     "text": [
      "Begin group  3 training\n"
     ]
    },
    {
     "name": "stderr",
     "output_type": "stream",
     "text": [
      "                                                                                                                        \r"
     ]
    },
    {
     "name": "stdout",
     "output_type": "stream",
     "text": [
      "Begin group  4 training\n",
      "Group 0, clients ['f_00154', 'f_00034', 'f_00104', 'f_00003', 'f_00134']\n",
      "Group 1, clients ['f_00077', 'f_00148', 'f_00028', 'f_00188', 'f_00117']\n",
      "Group 2, clients ['f_00119', 'f_00149', 'f_00040', 'f_00039']\n",
      "Group 3, clients ['f_00151', 'f_00122', 'f_00071', 'f_00021']\n",
      "Group 4, clients ['f_00006', 'f_00055']\n"
     ]
    },
    {
     "name": "stderr",
     "output_type": "stream",
     "text": [
      "Epoch:  45%|██████████████████████████████████▋                                          | 9/20 [00:00<00:00, 80.24it/s]"
     ]
    },
    {
     "name": "stdout",
     "output_type": "stream",
     "text": [
      "Group 0\n",
      "At round 5 accuracy: 0.5890052356020943\n",
      "At round 5 training accuracy: 0.5780185758513932\n",
      "At round 5 training loss: 1.319833761103013\n",
      "Group 1\n",
      "At round 5 accuracy: 0.5526315789473685\n",
      "At round 5 training accuracy: 0.5468048359240069\n",
      "At round 5 training loss: 1.2335472682185329\n",
      "Group 2\n",
      "At round 5 accuracy: 0.6383561643835617\n",
      "At round 5 training accuracy: 0.6425613252628225\n",
      "At round 5 training loss: 1.0944928733092578\n",
      "Group 3\n",
      "At round 5 accuracy: 0.6416184971098265\n",
      "At round 5 training accuracy: 0.6186025812194037\n",
      "At round 5 training loss: 1.7211779920085037\n",
      "Group 4\n",
      "At round 5 accuracy: 0.43670886075949367\n",
      "At round 5 training accuracy: 0.4423582425835524\n",
      "At round 5 training loss: 1.551195957496835\n",
      "At round 5 mean test accuracy: 0.581081081081081 mean train accuracy: 0.5739601729492723\n",
      "The groups difference are: [6.4914574  6.45183124 6.6243922  6.47277422 6.52079046]\n",
      "Begin group  0 training\n"
     ]
    },
    {
     "name": "stderr",
     "output_type": "stream",
     "text": [
      "Epoch:   0%|                                                                                     | 0/20 [00:00<?, ?it/s]"
     ]
    },
    {
     "name": "stdout",
     "output_type": "stream",
     "text": [
      "Begin group  1 training\n"
     ]
    },
    {
     "name": "stderr",
     "output_type": "stream",
     "text": [
      "Epoch:   0%|                                                                                     | 0/20 [00:00<?, ?it/s]"
     ]
    },
    {
     "name": "stdout",
     "output_type": "stream",
     "text": [
      "Begin group  2 training\n"
     ]
    },
    {
     "name": "stderr",
     "output_type": "stream",
     "text": [
      "Epoch:  20%|███████████████▍                                                             | 4/20 [00:00<00:00, 38.46it/s]"
     ]
    },
    {
     "name": "stdout",
     "output_type": "stream",
     "text": [
      "Begin group  3 training\n"
     ]
    },
    {
     "name": "stderr",
     "output_type": "stream",
     "text": [
      "                                                                                                                        \r"
     ]
    },
    {
     "name": "stdout",
     "output_type": "stream",
     "text": [
      "Begin group  4 training\n",
      "Group 0, clients ['f_00134', 'f_00093', 'f_00004', 'f_00094', 'f_00013']\n",
      "Group 1, clients ['f_00118', 'f_00088', 'f_00108', 'f_00158']\n",
      "Group 2, clients ['f_00149', 'f_00019', 'f_00030']\n",
      "Group 3, clients ['f_00011', 'f_00152', 'f_00151', 'f_00081']\n",
      "Group 4, clients ['f_00145', 'f_00006', 'f_00156', 'f_00115']\n"
     ]
    },
    {
     "name": "stderr",
     "output_type": "stream",
     "text": [
      "Epoch:   0%|                                                                                     | 0/20 [00:00<?, ?it/s]"
     ]
    },
    {
     "name": "stdout",
     "output_type": "stream",
     "text": [
      "Group 0\n",
      "At round 6 accuracy: 0.7408376963350786\n",
      "At round 6 training accuracy: 0.7504643962848297\n",
      "At round 6 training loss: 1.2503883772036608\n",
      "Group 1\n",
      "At round 6 accuracy: 0.5614035087719298\n",
      "At round 6 training accuracy: 0.542314335060449\n",
      "At round 6 training loss: 1.0999350885241348\n",
      "Group 2\n",
      "At round 6 accuracy: 0.6958904109589041\n",
      "At round 6 training accuracy: 0.6811086333227142\n",
      "At round 6 training loss: 1.2598724820956413\n",
      "Group 3\n",
      "At round 6 accuracy: 0.6955684007707129\n",
      "At round 6 training accuracy: 0.6940364931019136\n",
      "At round 6 training loss: 0.8829459227160661\n",
      "Group 4\n",
      "At round 6 accuracy: 0.5917721518987342\n",
      "At round 6 training accuracy: 0.6030792339466767\n",
      "At round 6 training loss: 1.0270069035604579\n",
      "At round 6 mean test accuracy: 0.6637214137214137 mean train accuracy: 0.6611655806589124\n",
      "The groups difference are: [7.04139367 6.96454009 7.15473503 7.12604837 7.02625549]\n",
      "Begin group  0 training\n"
     ]
    },
    {
     "name": "stderr",
     "output_type": "stream",
     "text": [
      "Epoch:  25%|███████████████████▎                                                         | 5/20 [00:00<00:00, 45.56it/s]"
     ]
    },
    {
     "name": "stdout",
     "output_type": "stream",
     "text": [
      "Begin group  1 training\n"
     ]
    },
    {
     "name": "stderr",
     "output_type": "stream",
     "text": [
      "Epoch:   0%|                                                                                     | 0/20 [00:00<?, ?it/s]"
     ]
    },
    {
     "name": "stdout",
     "output_type": "stream",
     "text": [
      "Begin group  2 training\n"
     ]
    },
    {
     "name": "stderr",
     "output_type": "stream",
     "text": [
      "Epoch:   0%|                                                                                     | 0/20 [00:00<?, ?it/s]"
     ]
    },
    {
     "name": "stdout",
     "output_type": "stream",
     "text": [
      "Begin group  3 training\n"
     ]
    },
    {
     "name": "stderr",
     "output_type": "stream",
     "text": [
      "Epoch:   0%|                                                                                     | 0/20 [00:00<?, ?it/s]"
     ]
    },
    {
     "name": "stdout",
     "output_type": "stream",
     "text": [
      "Begin group  4 training\n"
     ]
    },
    {
     "name": "stderr",
     "output_type": "stream",
     "text": [
      "                                                                                                                        \r"
     ]
    },
    {
     "name": "stdout",
     "output_type": "stream",
     "text": [
      "Group 0, clients ['f_00094', 'f_00063', 'f_00024', 'f_00153']\n",
      "Group 1, clients ['f_00108', 'f_00138', 'f_00188']\n",
      "Group 2, clients ['f_00120', 'f_00099']\n",
      "Group 3, clients ['f_00022', 'f_00011', 'f_00002', 'f_00121']\n",
      "Group 4, clients ['f_00086', 'f_00195', 'f_00066', 'f_00096', 'f_00065', 'f_00155', 'f_00046']\n"
     ]
    },
    {
     "name": "stderr",
     "output_type": "stream",
     "text": [
      "Epoch:   0%|                                                                                     | 0/20 [00:00<?, ?it/s]"
     ]
    },
    {
     "name": "stdout",
     "output_type": "stream",
     "text": [
      "Group 0\n",
      "At round 7 accuracy: 0.6570680628272252\n",
      "At round 7 training accuracy: 0.6464396284829721\n",
      "At round 7 training loss: 1.0063320087390049\n",
      "Group 1\n",
      "At round 7 accuracy: 0.6783625730994152\n",
      "At round 7 training accuracy: 0.6583765112262522\n",
      "At round 7 training loss: 1.6718898415977268\n",
      "Group 2\n",
      "At round 7 accuracy: 0.7178082191780822\n",
      "At round 7 training accuracy: 0.7034087288945524\n",
      "At round 7 training loss: 1.2162671586479037\n",
      "Group 3\n",
      "At round 7 accuracy: 0.6435452793834296\n",
      "At round 7 training accuracy: 0.6392968402314196\n",
      "At round 7 training loss: 0.9077543721736989\n",
      "Group 4\n",
      "At round 7 accuracy: 0.6424050632911392\n",
      "At round 7 training accuracy: 0.641381900112655\n",
      "At round 7 training loss: 0.9382257067391714\n",
      "At round 7 mean test accuracy: 0.6663201663201663 mean train accuracy: 0.6566591559588332\n",
      "The groups difference are: [7.63919214 7.60392128 7.67724942 7.70456875 7.60300806]\n",
      "Begin group  0 training\n"
     ]
    },
    {
     "name": "stderr",
     "output_type": "stream",
     "text": [
      "Epoch:   0%|                                                                                     | 0/20 [00:00<?, ?it/s]"
     ]
    },
    {
     "name": "stdout",
     "output_type": "stream",
     "text": [
      "Begin group  1 training\n"
     ]
    },
    {
     "name": "stderr",
     "output_type": "stream",
     "text": [
      "Epoch:   0%|                                                                                     | 0/20 [00:00<?, ?it/s]"
     ]
    },
    {
     "name": "stdout",
     "output_type": "stream",
     "text": [
      "Begin group  2 training\n"
     ]
    },
    {
     "name": "stderr",
     "output_type": "stream",
     "text": [
      "Epoch:   0%|                                                                                     | 0/20 [00:00<?, ?it/s]"
     ]
    },
    {
     "name": "stdout",
     "output_type": "stream",
     "text": [
      "Begin group  3 training\n"
     ]
    },
    {
     "name": "stderr",
     "output_type": "stream",
     "text": [
      "Epoch:   0%|                                                                                     | 0/20 [00:00<?, ?it/s]"
     ]
    },
    {
     "name": "stdout",
     "output_type": "stream",
     "text": [
      "Begin group  4 training\n"
     ]
    },
    {
     "name": "stderr",
     "output_type": "stream",
     "text": [
      "                                                                                                                        \r"
     ]
    },
    {
     "name": "stdout",
     "output_type": "stream",
     "text": [
      "Group 0, clients ['f_00193', 'f_00103']\n",
      "Group 1, clients ['f_00067', 'f_00088', 'f_00128', 'f_00117', 'f_00169', 'f_00027']\n",
      "Group 2, clients ['f_00069', 'f_00119', 'f_00190', 'f_00150', 'f_00000']\n",
      "Group 3, clients ['f_00161', 'f_00181', 'f_00142', 'f_00151', 'f_00001']\n",
      "Group 4, clients ['f_00065', 'f_00146']\n"
     ]
    },
    {
     "name": "stderr",
     "output_type": "stream",
     "text": [
      "Epoch:   0%|                                                                                     | 0/20 [00:00<?, ?it/s]"
     ]
    },
    {
     "name": "stdout",
     "output_type": "stream",
     "text": [
      "Group 0\n",
      "At round 8 accuracy: 0.6832460732984293\n",
      "At round 8 training accuracy: 0.6739938080495356\n",
      "At round 8 training loss: 0.8251471430155515\n",
      "Group 1\n",
      "At round 8 accuracy: 0.6578947368421053\n",
      "At round 8 training accuracy: 0.6259067357512953\n",
      "At round 8 training loss: 1.785501902399903\n",
      "Group 2\n",
      "At round 8 accuracy: 0.6383561643835617\n",
      "At round 8 training accuracy: 0.6425613252628225\n",
      "At round 8 training loss: 0.9345768697324852\n",
      "Group 3\n",
      "At round 8 accuracy: 0.6396917148362236\n",
      "At round 8 training accuracy: 0.6388518024032043\n",
      "At round 8 training loss: 1.0074036136488411\n",
      "Group 4\n",
      "At round 8 accuracy: 0.6234177215189873\n",
      "At round 8 training accuracy: 0.6308674427337589\n",
      "At round 8 training loss: 1.0693371702395478\n",
      "At round 8 mean test accuracy: 0.6486486486486487 mean train accuracy: 0.6428962913342671\n",
      "The groups difference are: [8.1046047  8.07052963 8.10366444 8.18662627 8.08339512]\n",
      "Begin group  0 training\n",
      "Begin group  1 training\n"
     ]
    },
    {
     "name": "stderr",
     "output_type": "stream",
     "text": [
      "Epoch:   0%|                                                                                     | 0/20 [00:00<?, ?it/s]"
     ]
    },
    {
     "name": "stdout",
     "output_type": "stream",
     "text": [
      "Begin group  2 training\n"
     ]
    },
    {
     "name": "stderr",
     "output_type": "stream",
     "text": [
      "Epoch:   0%|                                                                                     | 0/20 [00:00<?, ?it/s]"
     ]
    },
    {
     "name": "stdout",
     "output_type": "stream",
     "text": [
      "Begin group  3 training\n"
     ]
    },
    {
     "name": "stderr",
     "output_type": "stream",
     "text": [
      "                                                                                                                        \r"
     ]
    },
    {
     "name": "stdout",
     "output_type": "stream",
     "text": [
      "Begin group  4 training\n",
      "Group 0, clients ['f_00084', 'f_00054', 'f_00123', 'f_00053', 'f_00103', 'f_00003', 'f_00163', 'f_00174']\n",
      "Group 1, clients ['f_00158', 'f_00027', 'f_00037']\n",
      "Group 2, clients ['f_00060', 'f_00109', 'f_00140', 'f_00039', 'f_00100', 'f_00069']\n",
      "Group 3, clients ['f_00101']\n",
      "Group 4, clients ['f_00156', 'f_00116']\n"
     ]
    },
    {
     "name": "stderr",
     "output_type": "stream",
     "text": [
      "Epoch:   0%|                                                                                     | 0/20 [00:00<?, ?it/s]"
     ]
    },
    {
     "name": "stdout",
     "output_type": "stream",
     "text": [
      "Group 0\n",
      "At round 9 accuracy: 0.7958115183246073\n",
      "At round 9 training accuracy: 0.7969040247678019\n",
      "At round 9 training loss: 1.0069805957123221\n",
      "Group 1\n",
      "At round 9 accuracy: 0.7076023391812866\n",
      "At round 9 training accuracy: 0.7212435233160622\n",
      "At round 9 training loss: 1.2369247996848276\n",
      "Group 2\n",
      "At round 9 accuracy: 0.6301369863013698\n",
      "At round 9 training accuracy: 0.6294998407136031\n",
      "At round 9 training loss: 1.0005860800726394\n",
      "Group 3\n",
      "At round 9 accuracy: 0.6454720616570327\n",
      "At round 9 training accuracy: 0.6497552291944815\n",
      "At round 9 training loss: 0.9412717354605343\n",
      "Group 4\n",
      "At round 9 accuracy: 0.7120253164556962\n",
      "At round 9 training accuracy: 0.7236199774690198\n",
      "At round 9 training loss: 0.9543768200174203\n",
      "At round 9 mean test accuracy: 0.6943866943866944 mean train accuracy: 0.6994092929785032\n",
      "The groups difference are: [8.48940856 8.56073568 8.51937677 8.55832851 8.46625664]\n",
      "Begin group  0 training\n"
     ]
    },
    {
     "name": "stderr",
     "output_type": "stream",
     "text": [
      "Epoch:   0%|                                                                                     | 0/20 [00:00<?, ?it/s]"
     ]
    },
    {
     "name": "stdout",
     "output_type": "stream",
     "text": [
      "Begin group  1 training\n"
     ]
    },
    {
     "name": "stderr",
     "output_type": "stream",
     "text": [
      "Epoch:   0%|                                                                                     | 0/20 [00:00<?, ?it/s]"
     ]
    },
    {
     "name": "stdout",
     "output_type": "stream",
     "text": [
      "Begin group  2 training\n"
     ]
    },
    {
     "name": "stderr",
     "output_type": "stream",
     "text": [
      "Epoch:  85%|███████████████████████████████████████████████████████████████▊           | 17/20 [00:00<00:00, 161.07it/s]"
     ]
    },
    {
     "name": "stdout",
     "output_type": "stream",
     "text": [
      "Begin group  3 training\n",
      "Begin group  4 training\n"
     ]
    },
    {
     "name": "stderr",
     "output_type": "stream",
     "text": [
      "                                                                                                                        \r"
     ]
    },
    {
     "name": "stdout",
     "output_type": "stream",
     "text": [
      "Group 0, clients ['f_00124', 'f_00063']\n",
      "Group 1, clients ['f_00059', 'f_00198', 'f_00098', 'f_00078']\n",
      "Group 2, clients ['f_00020', 'f_00019', 'f_00069', 'f_00010', 'f_00109']\n",
      "Group 3, clients ['f_00052', 'f_00162', 'f_00002', 'f_00142', 'f_00111']\n",
      "Group 4, clients ['f_00005', 'f_00055', 'f_00075', 'f_00185']\n"
     ]
    },
    {
     "name": "stderr",
     "output_type": "stream",
     "text": [
      "Epoch:  35%|██████████████████████████▉                                                  | 7/20 [00:00<00:00, 62.22it/s]"
     ]
    },
    {
     "name": "stdout",
     "output_type": "stream",
     "text": [
      "Group 0\n",
      "At round 10 accuracy: 0.7931937172774869\n",
      "At round 10 training accuracy: 0.7885448916408668\n",
      "At round 10 training loss: 1.151838748456893\n",
      "Group 1\n",
      "At round 10 accuracy: 0.6432748538011696\n",
      "At round 10 training accuracy: 0.6317789291882556\n",
      "At round 10 training loss: 1.0155821303629504\n",
      "Group 2\n",
      "At round 10 accuracy: 0.6383561643835617\n",
      "At round 10 training accuracy: 0.6422427524689391\n",
      "At round 10 training loss: 0.8987865082660881\n",
      "Group 3\n",
      "At round 10 accuracy: 0.7013487475915221\n",
      "At round 10 training accuracy: 0.6895861148197597\n",
      "At round 10 training loss: 1.3766285394980315\n",
      "Group 4\n",
      "At round 10 accuracy: 0.7088607594936709\n",
      "At round 10 training accuracy: 0.734885467517837\n",
      "At round 10 training loss: 1.2381304495996253\n",
      "At round 10 mean test accuracy: 0.6985446985446986 mean train accuracy: 0.6971560806284636\n",
      "The groups difference are: [9.11825917 9.0695837  9.03222382 8.99846191 8.96168479]\n",
      "Begin group  0 training\n"
     ]
    },
    {
     "name": "stderr",
     "output_type": "stream",
     "text": [
      "Epoch:   0%|                                                                                     | 0/20 [00:00<?, ?it/s]"
     ]
    },
    {
     "name": "stdout",
     "output_type": "stream",
     "text": [
      "Begin group  1 training\n"
     ]
    },
    {
     "name": "stderr",
     "output_type": "stream",
     "text": [
      "Epoch:   0%|                                                                                     | 0/20 [00:00<?, ?it/s]"
     ]
    },
    {
     "name": "stdout",
     "output_type": "stream",
     "text": [
      "Begin group  2 training\n"
     ]
    },
    {
     "name": "stderr",
     "output_type": "stream",
     "text": [
      "Epoch:  30%|███████████████████████                                                      | 6/20 [00:00<00:00, 54.17it/s]"
     ]
    },
    {
     "name": "stdout",
     "output_type": "stream",
     "text": [
      "Begin group  3 training\n"
     ]
    },
    {
     "name": "stderr",
     "output_type": "stream",
     "text": [
      "Epoch:  25%|███████████████████▎                                                         | 5/20 [00:00<00:00, 42.64it/s]"
     ]
    },
    {
     "name": "stdout",
     "output_type": "stream",
     "text": [
      "Begin group  4 training\n"
     ]
    },
    {
     "name": "stderr",
     "output_type": "stream",
     "text": [
      "                                                                                                                        \r"
     ]
    },
    {
     "name": "stdout",
     "output_type": "stream",
     "text": [
      "Group 0, clients ['f_00174', 'f_00033', 'f_00173', 'f_00053', 'f_00134', 'f_00143', 'f_00094', 'f_00073', 'f_00014', 'f_00063']\n",
      "Group 1 is empty.\n",
      "Group 2, clients ['f_00130', 'f_00060', 'f_00000']\n",
      "Group 3, clients ['f_00022', 'f_00041', 'f_00111']\n",
      "Group 4, clients ['f_00186', 'f_00056', 'f_00055', 'f_00016']\n"
     ]
    },
    {
     "name": "stderr",
     "output_type": "stream",
     "text": [
      "Epoch:   0%|                                                                                     | 0/20 [00:00<?, ?it/s]"
     ]
    },
    {
     "name": "stdout",
     "output_type": "stream",
     "text": [
      "Group 0\n",
      "At round 11 accuracy: 0.7041884816753927\n",
      "At round 11 training accuracy: 0.6919504643962848\n",
      "At round 11 training loss: 0.8136504806232158\n",
      "Group 1\n",
      "At round 11 accuracy: 0.6812865497076024\n",
      "At round 11 training accuracy: 0.6732297063903282\n",
      "At round 11 training loss: 1.4999300437681828\n",
      "Group 2\n",
      "At round 11 accuracy: 0.6438356164383562\n",
      "At round 11 training accuracy: 0.6517999362854412\n",
      "At round 11 training loss: 0.8734919669788406\n",
      "Group 3\n",
      "At round 11 accuracy: 0.8188824662813102\n",
      "At round 11 training accuracy: 0.810636404094348\n",
      "At round 11 training loss: 0.7296091942560106\n",
      "Group 4\n",
      "At round 11 accuracy: 0.8259493670886076\n",
      "At round 11 training accuracy: 0.8054825384904243\n",
      "At round 11 training loss: 1.2113239867455343\n",
      "At round 11 mean test accuracy: 0.7396049896049897 mean train accuracy: 0.7318677303452895\n",
      "The groups difference are: [9.68827373 9.71826292 9.64218801 9.63233419 9.6280516 ]\n",
      "Begin group  0 training\n"
     ]
    },
    {
     "name": "stderr",
     "output_type": "stream",
     "text": [
      "Epoch:   0%|                                                                                     | 0/20 [00:00<?, ?it/s]"
     ]
    },
    {
     "name": "stdout",
     "output_type": "stream",
     "text": [
      "Begin group  2 training\n"
     ]
    },
    {
     "name": "stderr",
     "output_type": "stream",
     "text": [
      "Epoch:   0%|                                                                                     | 0/20 [00:00<?, ?it/s]"
     ]
    },
    {
     "name": "stdout",
     "output_type": "stream",
     "text": [
      "Begin group  3 training\n"
     ]
    },
    {
     "name": "stderr",
     "output_type": "stream",
     "text": [
      "Epoch:   0%|                                                                                     | 0/20 [00:00<?, ?it/s]"
     ]
    },
    {
     "name": "stdout",
     "output_type": "stream",
     "text": [
      "Begin group  4 training\n"
     ]
    },
    {
     "name": "stderr",
     "output_type": "stream",
     "text": [
      "                                                                                                                        \r"
     ]
    },
    {
     "name": "stdout",
     "output_type": "stream",
     "text": [
      "Group 0, clients ['f_00023', 'f_00063', 'f_00164', 'f_00173']\n",
      "Group 1, clients ['f_00007', 'f_00098', 'f_00138']\n",
      "Group 2, clients ['f_00120']\n",
      "Group 3, clients ['f_00182', 'f_00172', 'f_00021', 'f_00011', 'f_00061', 'f_00032', 'f_00132', 'f_00031', 'f_00181']\n",
      "Group 4, clients ['f_00095', 'f_00016', 'f_00085']\n"
     ]
    },
    {
     "name": "stderr",
     "output_type": "stream",
     "text": [
      "Epoch:  40%|██████████████████████████████▊                                              | 8/20 [00:00<00:00, 70.52it/s]"
     ]
    },
    {
     "name": "stdout",
     "output_type": "stream",
     "text": [
      "Group 0\n",
      "At round 12 accuracy: 0.7513089005235603\n",
      "At round 12 training accuracy: 0.7504643962848297\n",
      "At round 12 training loss: 0.8488029115340289\n",
      "Group 1\n",
      "At round 12 accuracy: 0.6812865497076024\n",
      "At round 12 training accuracy: 0.6732297063903282\n",
      "At round 12 training loss: 1.494863874265773\n",
      "Group 2\n",
      "At round 12 accuracy: 0.7589041095890411\n",
      "At round 12 training accuracy: 0.7683975788467665\n",
      "At round 12 training loss: 0.9279406461680759\n",
      "Group 3\n",
      "At round 12 accuracy: 0.649325626204239\n",
      "At round 12 training accuracy: 0.6444147752558967\n",
      "At round 12 training loss: 0.8219141101884906\n",
      "Group 4\n",
      "At round 12 accuracy: 0.740506329113924\n",
      "At round 12 training accuracy: 0.7521592189260233\n",
      "At round 12 training loss: 0.8243057097186283\n",
      "At round 12 mean test accuracy: 0.7110187110187111 mean train accuracy: 0.7115279215638511\n",
      "The groups difference are: [9.98788577 9.89941997 9.84869049 9.8097883  9.83254617]\n",
      "Begin group  0 training\n"
     ]
    },
    {
     "name": "stderr",
     "output_type": "stream",
     "text": [
      "Epoch:  25%|███████████████████▎                                                         | 5/20 [00:00<00:00, 41.25it/s]"
     ]
    },
    {
     "name": "stdout",
     "output_type": "stream",
     "text": [
      "Begin group  1 training\n"
     ]
    },
    {
     "name": "stderr",
     "output_type": "stream",
     "text": [
      "Epoch:   0%|                                                                                     | 0/20 [00:00<?, ?it/s]"
     ]
    },
    {
     "name": "stdout",
     "output_type": "stream",
     "text": [
      "Begin group  2 training\n",
      "Begin group  3 training\n"
     ]
    },
    {
     "name": "stderr",
     "output_type": "stream",
     "text": [
      "Epoch:   0%|                                                                                     | 0/20 [00:00<?, ?it/s]"
     ]
    },
    {
     "name": "stdout",
     "output_type": "stream",
     "text": [
      "Begin group  4 training\n"
     ]
    },
    {
     "name": "stderr",
     "output_type": "stream",
     "text": [
      "                                                                                                                        \r"
     ]
    },
    {
     "name": "stdout",
     "output_type": "stream",
     "text": [
      "Group 0, clients ['f_00023', 'f_00033', 'f_00104']\n",
      "Group 1, clients ['f_00198', 'f_00128', 'f_00097']\n",
      "Group 2, clients ['f_00179', 'f_00159', 'f_00110', 'f_00089', 'f_00079', 'f_00070']\n",
      "Group 3, clients ['f_00042', 'f_00102', 'f_00132']\n",
      "Group 4, clients ['f_00155', 'f_00096', 'f_00095', 'f_00106', 'f_00065']\n"
     ]
    },
    {
     "name": "stderr",
     "output_type": "stream",
     "text": [
      "Epoch:  35%|██████████████████████████▉                                                  | 7/20 [00:00<00:00, 65.04it/s]"
     ]
    },
    {
     "name": "stdout",
     "output_type": "stream",
     "text": [
      "Group 0\n",
      "At round 13 accuracy: 0.7094240837696335\n",
      "At round 13 training accuracy: 0.698452012383901\n",
      "At round 13 training loss: 0.7832309172249431\n",
      "Group 1\n",
      "At round 13 accuracy: 0.652046783625731\n",
      "At round 13 training accuracy: 0.6207253886010363\n",
      "At round 13 training loss: 1.5061264847844376\n",
      "Group 2\n",
      "At round 13 accuracy: 0.7178082191780822\n",
      "At round 13 training accuracy: 0.73877030901561\n",
      "At round 13 training loss: 1.061072619791508\n",
      "Group 3\n",
      "At round 13 accuracy: 0.6666666666666666\n",
      "At round 13 training accuracy: 0.6631063640409435\n",
      "At round 13 training loss: 0.7586064438423051\n",
      "Group 4\n",
      "At round 13 accuracy: 0.7879746835443038\n",
      "At round 13 training accuracy: 0.7788208787082238\n",
      "At round 13 training loss: 0.8163358582686626\n",
      "At round 13 mean test accuracy: 0.7021829521829522 mean train accuracy: 0.6958163327446563\n",
      "The groups difference are: [10.48611859 10.392156   10.28308426 10.24753695 10.25118771]\n",
      "Begin group  0 training\n"
     ]
    },
    {
     "name": "stderr",
     "output_type": "stream",
     "text": [
      "Epoch:   0%|                                                                                     | 0/20 [00:00<?, ?it/s]"
     ]
    },
    {
     "name": "stdout",
     "output_type": "stream",
     "text": [
      "Begin group  1 training\n"
     ]
    },
    {
     "name": "stderr",
     "output_type": "stream",
     "text": [
      "Epoch:   0%|                                                                                     | 0/20 [00:00<?, ?it/s]"
     ]
    },
    {
     "name": "stdout",
     "output_type": "stream",
     "text": [
      "Begin group  2 training\n"
     ]
    },
    {
     "name": "stderr",
     "output_type": "stream",
     "text": [
      "Epoch:   0%|                                                                                     | 0/20 [00:00<?, ?it/s]"
     ]
    },
    {
     "name": "stdout",
     "output_type": "stream",
     "text": [
      "Begin group  3 training\n"
     ]
    },
    {
     "name": "stderr",
     "output_type": "stream",
     "text": [
      "Epoch:  55%|█████████████████████████████████████████▎                                 | 11/20 [00:00<00:00, 106.13it/s]"
     ]
    },
    {
     "name": "stdout",
     "output_type": "stream",
     "text": [
      "Begin group  4 training\n"
     ]
    },
    {
     "name": "stderr",
     "output_type": "stream",
     "text": [
      "                                                                                                                        \r"
     ]
    },
    {
     "name": "stdout",
     "output_type": "stream",
     "text": [
      "Group 0, clients ['f_00114', 'f_00024', 'f_00093', 'f_00044', 'f_00064']\n",
      "Group 1, clients ['f_00198', 'f_00047', 'f_00157']\n",
      "Group 2, clients ['f_00189', 'f_00069', 'f_00149']\n",
      "Group 3, clients ['f_00151', 'f_00051', 'f_00112', 'f_00122']\n",
      "Group 4, clients ['f_00005', 'f_00015', 'f_00155', 'f_00006', 'f_00175']\n"
     ]
    },
    {
     "name": "stderr",
     "output_type": "stream",
     "text": [
      "Epoch:   0%|                                                                                     | 0/20 [00:00<?, ?it/s]"
     ]
    },
    {
     "name": "stdout",
     "output_type": "stream",
     "text": [
      "Group 0\n",
      "At round 14 accuracy: 0.7827225130890052\n",
      "At round 14 training accuracy: 0.7811145510835913\n",
      "At round 14 training loss: 0.7613358883481277\n",
      "Group 1\n",
      "At round 14 accuracy: 0.695906432748538\n",
      "At round 14 training accuracy: 0.6618307426597582\n",
      "At round 14 training loss: 1.186293208609385\n",
      "Group 2\n",
      "At round 14 accuracy: 0.6410958904109589\n",
      "At round 14 training accuracy: 0.649251353934374\n",
      "At round 14 training loss: 0.859683292141459\n",
      "Group 3\n",
      "At round 14 accuracy: 0.8265895953757225\n",
      "At round 14 training accuracy: 0.8188696039163329\n",
      "At round 14 training loss: 0.7458026987422982\n",
      "Group 4\n",
      "At round 14 accuracy: 0.6582278481012658\n",
      "At round 14 training accuracy: 0.6594066841907623\n",
      "At round 14 training loss: 0.7408571827246021\n",
      "At round 14 mean test accuracy: 0.7318087318087318 mean train accuracy: 0.7254734790816637\n",
      "The groups difference are: [10.81694742 10.69645677 10.65331414 10.61515352 10.59696939]\n",
      "Begin group  0 training\n"
     ]
    },
    {
     "name": "stderr",
     "output_type": "stream",
     "text": [
      "Epoch:   0%|                                                                                     | 0/20 [00:00<?, ?it/s]"
     ]
    },
    {
     "name": "stdout",
     "output_type": "stream",
     "text": [
      "Begin group  1 training\n"
     ]
    },
    {
     "name": "stderr",
     "output_type": "stream",
     "text": [
      "Epoch:  50%|██████████████████████████████████████                                      | 10/20 [00:00<00:00, 88.97it/s]"
     ]
    },
    {
     "name": "stdout",
     "output_type": "stream",
     "text": [
      "Begin group  2 training\n"
     ]
    },
    {
     "name": "stderr",
     "output_type": "stream",
     "text": [
      "Epoch:   0%|                                                                                     | 0/20 [00:00<?, ?it/s]"
     ]
    },
    {
     "name": "stdout",
     "output_type": "stream",
     "text": [
      "Begin group  3 training\n"
     ]
    },
    {
     "name": "stderr",
     "output_type": "stream",
     "text": [
      "Epoch:  25%|███████████████████▎                                                         | 5/20 [00:00<00:00, 47.71it/s]"
     ]
    },
    {
     "name": "stdout",
     "output_type": "stream",
     "text": [
      "Begin group  4 training\n"
     ]
    },
    {
     "name": "stderr",
     "output_type": "stream",
     "text": [
      "                                                                                                                        \r"
     ]
    },
    {
     "name": "stdout",
     "output_type": "stream",
     "text": [
      "Group 0, clients ['f_00184']\n",
      "Group 1, clients ['f_00127', 'f_00138', 'f_00057', 'f_00058', 'f_00198']\n",
      "Group 2, clients ['f_00049', 'f_00040', 'f_00030', 'f_00170', 'f_00150', 'f_00009']\n",
      "Group 3, clients ['f_00191', 'f_00012', 'f_00172', 'f_00192', 'f_00072']\n",
      "Group 4, clients ['f_00146', 'f_00026', 'f_00115']\n"
     ]
    },
    {
     "name": "stderr",
     "output_type": "stream",
     "text": [
      "Epoch:   0%|                                                                                     | 0/20 [00:00<?, ?it/s]"
     ]
    },
    {
     "name": "stdout",
     "output_type": "stream",
     "text": [
      "Group 0\n",
      "At round 15 accuracy: 0.7460732984293194\n",
      "At round 15 training accuracy: 0.7606811145510836\n",
      "At round 15 training loss: 0.6694961420707289\n",
      "Group 1\n",
      "At round 15 accuracy: 0.6666666666666666\n",
      "At round 15 training accuracy: 0.6549222797927461\n",
      "At round 15 training loss: 0.8531206688526792\n",
      "Group 2\n",
      "At round 15 accuracy: 0.7123287671232876\n",
      "At round 15 training accuracy: 0.7075501752150366\n",
      "At round 15 training loss: 1.36052560024901\n",
      "Group 3\n",
      "At round 15 accuracy: 0.791907514450867\n",
      "At round 15 training accuracy: 0.806186025812194\n",
      "At round 15 training loss: 0.7338960115504785\n",
      "Group 4\n",
      "At round 15 accuracy: 0.8006329113924051\n",
      "At round 15 training accuracy: 0.7927149831017649\n",
      "At round 15 training loss: 0.9547649723020568\n",
      "At round 15 mean test accuracy: 0.7468814968814969 mean train accuracy: 0.7495280433591134\n",
      "The groups difference are: [11.17965651 11.05638571 11.05653719 11.04118695 11.02858774]\n",
      "Begin group  0 training\n",
      "Begin group  1 training\n"
     ]
    },
    {
     "name": "stderr",
     "output_type": "stream",
     "text": [
      "                                                                                                                        "
     ]
    },
    {
     "name": "stdout",
     "output_type": "stream",
     "text": [
      "Begin group  2 training\n"
     ]
    },
    {
     "name": "stderr",
     "output_type": "stream",
     "text": [
      "Epoch:   0%|                                                                                     | 0/20 [00:00<?, ?it/s]"
     ]
    },
    {
     "name": "stdout",
     "output_type": "stream",
     "text": [
      "Begin group  3 training\n"
     ]
    },
    {
     "name": "stderr",
     "output_type": "stream",
     "text": [
      "Epoch:  60%|█████████████████████████████████████████████                              | 12/20 [00:00<00:00, 117.00it/s]"
     ]
    },
    {
     "name": "stdout",
     "output_type": "stream",
     "text": [
      "Begin group  4 training\n"
     ]
    },
    {
     "name": "stderr",
     "output_type": "stream",
     "text": [
      "                                                                                                                        \r"
     ]
    },
    {
     "name": "stdout",
     "output_type": "stream",
     "text": [
      "Group 0, clients ['f_00154', 'f_00174', 'f_00073', 'f_00054', 'f_00134']\n",
      "Group 1, clients ['f_00059', 'f_00007', 'f_00187']\n",
      "Group 2, clients ['f_00000', 'f_00170', 'f_00029', 'f_00090', 'f_00100']\n",
      "Group 3, clients ['f_00112', 'f_00032', 'f_00081', 'f_00072', 'f_00051']\n",
      "Group 4, clients ['f_00096', 'f_00056']\n"
     ]
    },
    {
     "name": "stderr",
     "output_type": "stream",
     "text": [
      "Epoch:  35%|██████████████████████████▉                                                  | 7/20 [00:00<00:00, 69.90it/s]"
     ]
    },
    {
     "name": "stdout",
     "output_type": "stream",
     "text": [
      "Group 0\n",
      "At round 16 accuracy: 0.7591623036649214\n",
      "At round 16 training accuracy: 0.7529411764705882\n",
      "At round 16 training loss: 0.857305272915415\n",
      "Group 1\n",
      "At round 16 accuracy: 0.695906432748538\n",
      "At round 16 training accuracy: 0.6552677029360967\n",
      "At round 16 training loss: 0.9161334653901313\n",
      "Group 2\n",
      "At round 16 accuracy: 0.6684931506849315\n",
      "At round 16 training accuracy: 0.6693214399490284\n",
      "At round 16 training loss: 0.7160171270845194\n",
      "Group 3\n",
      "At round 16 accuracy: 0.7861271676300579\n",
      "At round 16 training accuracy: 0.8008455718736093\n",
      "At round 16 training loss: 0.6721949890938981\n",
      "Group 4\n",
      "At round 16 accuracy: 0.7151898734177216\n",
      "At round 16 training accuracy: 0.7209913631242959\n",
      "At round 16 training loss: 0.800958173864997\n",
      "At round 16 mean test accuracy: 0.7307692307692307 mean train accuracy: 0.7276657938006211\n",
      "The groups difference are: [11.32404848 11.18544818 11.18168673 11.19718811 11.17073352]\n",
      "Begin group  0 training\n"
     ]
    },
    {
     "name": "stderr",
     "output_type": "stream",
     "text": [
      "Epoch:   0%|                                                                                     | 0/20 [00:00<?, ?it/s]"
     ]
    },
    {
     "name": "stdout",
     "output_type": "stream",
     "text": [
      "Begin group  1 training\n"
     ]
    },
    {
     "name": "stderr",
     "output_type": "stream",
     "text": [
      "Epoch:   0%|                                                                                     | 0/20 [00:00<?, ?it/s]"
     ]
    },
    {
     "name": "stdout",
     "output_type": "stream",
     "text": [
      "Begin group  2 training\n"
     ]
    },
    {
     "name": "stderr",
     "output_type": "stream",
     "text": [
      "Epoch:   0%|                                                                                     | 0/20 [00:00<?, ?it/s]"
     ]
    },
    {
     "name": "stdout",
     "output_type": "stream",
     "text": [
      "Begin group  3 training\n"
     ]
    },
    {
     "name": "stderr",
     "output_type": "stream",
     "text": [
      "Epoch:  50%|██████████████████████████████████████                                      | 10/20 [00:00<00:00, 92.61it/s]"
     ]
    },
    {
     "name": "stdout",
     "output_type": "stream",
     "text": [
      "Begin group  4 training\n"
     ]
    },
    {
     "name": "stderr",
     "output_type": "stream",
     "text": [
      "                                                                                                                        \r"
     ]
    },
    {
     "name": "stdout",
     "output_type": "stream",
     "text": [
      "Group 0, clients ['f_00103']\n",
      "Group 1, clients ['f_00158', 'f_00176', 'f_00197', 'f_00157', 'f_00138', 'f_00147', 'f_00087']\n",
      "Group 2, clients ['f_00000', 'f_00080', 'f_00109']\n",
      "Group 3, clients ['f_00082', 'f_00071', 'f_00192']\n",
      "Group 4, clients ['f_00146', 'f_00075', 'f_00085', 'f_00095', 'f_00126', 'f_00016']\n"
     ]
    },
    {
     "name": "stderr",
     "output_type": "stream",
     "text": [
      "Epoch:   0%|                                                                                     | 0/20 [00:00<?, ?it/s]"
     ]
    },
    {
     "name": "stdout",
     "output_type": "stream",
     "text": [
      "Group 0\n",
      "At round 17 accuracy: 0.7356020942408377\n",
      "At round 17 training accuracy: 0.743343653250774\n",
      "At round 17 training loss: 0.6571031346594217\n",
      "Group 1\n",
      "At round 17 accuracy: 0.6432748538011696\n",
      "At round 17 training accuracy: 0.6804835924006909\n",
      "At round 17 training loss: 0.8632819211544768\n",
      "Group 2\n",
      "At round 17 accuracy: 0.7972602739726027\n",
      "At round 17 training accuracy: 0.7856005097164702\n",
      "At round 17 training loss: 0.8400616725279518\n",
      "Group 3\n",
      "At round 17 accuracy: 0.7321772639691715\n",
      "At round 17 training accuracy: 0.7343124165554072\n",
      "At round 17 training loss: 0.6253648698462557\n",
      "Group 4\n",
      "At round 17 accuracy: 0.7658227848101266\n",
      "At round 17 training accuracy: 0.7773188133683815\n",
      "At round 17 training loss: 1.097864631564824\n",
      "At round 17 mean test accuracy: 0.7349272349272349 mean train accuracy: 0.7433773826198161\n",
      "The groups difference are: [11.60512086 11.40400518 11.45082878 11.41342104 11.42740907]\n",
      "Begin group  0 training\n",
      "Begin group  1 training\n"
     ]
    },
    {
     "name": "stderr",
     "output_type": "stream",
     "text": [
      "Epoch:  45%|██████████████████████████████████▋                                          | 9/20 [00:00<00:00, 83.53it/s]"
     ]
    },
    {
     "name": "stdout",
     "output_type": "stream",
     "text": [
      "Begin group  2 training\n"
     ]
    },
    {
     "name": "stderr",
     "output_type": "stream",
     "text": [
      "Epoch:   0%|                                                                                     | 0/20 [00:00<?, ?it/s]"
     ]
    },
    {
     "name": "stdout",
     "output_type": "stream",
     "text": [
      "Begin group  3 training\n"
     ]
    },
    {
     "name": "stderr",
     "output_type": "stream",
     "text": [
      "Epoch:  60%|█████████████████████████████████████████████                              | 12/20 [00:00<00:00, 111.65it/s]"
     ]
    },
    {
     "name": "stdout",
     "output_type": "stream",
     "text": [
      "Begin group  4 training\n"
     ]
    },
    {
     "name": "stderr",
     "output_type": "stream",
     "text": [
      "                                                                                                                        \r"
     ]
    },
    {
     "name": "stdout",
     "output_type": "stream",
     "text": [
      "Group 0, clients ['f_00134', 'f_00044', 'f_00074', 'f_00033']\n",
      "Group 1, clients ['f_00108', 'f_00047', 'f_00128', 'f_00088']\n",
      "Group 2, clients ['f_00170', 'f_00039', 'f_00040', 'f_00109', 'f_00049']\n",
      "Group 3, clients ['f_00091', 'f_00081', 'f_00151', 'f_00012']\n",
      "Group 4, clients ['f_00186', 'f_00006', 'f_00025']\n"
     ]
    },
    {
     "name": "stderr",
     "output_type": "stream",
     "text": [
      "Epoch:   0%|                                                                                     | 0/20 [00:00<?, ?it/s]"
     ]
    },
    {
     "name": "stdout",
     "output_type": "stream",
     "text": [
      "Group 0\n",
      "At round 18 accuracy: 0.8010471204188482\n",
      "At round 18 training accuracy: 0.8043343653250774\n",
      "At round 18 training loss: 0.8257569422201475\n",
      "Group 1\n",
      "At round 18 accuracy: 0.7076023391812866\n",
      "At round 18 training accuracy: 0.7001727115716753\n",
      "At round 18 training loss: 0.9900989976674576\n",
      "Group 2\n",
      "At round 18 accuracy: 0.7753424657534247\n",
      "At round 18 training accuracy: 0.7671232876712328\n",
      "At round 18 training loss: 0.9069971609225733\n",
      "Group 3\n",
      "At round 18 accuracy: 0.7784200385356455\n",
      "At round 18 training accuracy: 0.796617712505563\n",
      "At round 18 training loss: 0.5750545986464249\n",
      "Group 4\n",
      "At round 18 accuracy: 0.7658227848101266\n",
      "At round 18 training accuracy: 0.7686819376642884\n",
      "At round 18 training loss: 0.7387124233303148\n",
      "At round 18 mean test accuracy: 0.7676715176715176 mean train accuracy: 0.7709640095000304\n",
      "The groups difference are: [11.84492396 11.71211669 11.74670472 11.66469914 11.69072517]\n",
      "Begin group  0 training\n"
     ]
    },
    {
     "name": "stderr",
     "output_type": "stream",
     "text": [
      "Epoch:  55%|█████████████████████████████████████████▎                                 | 11/20 [00:00<00:00, 103.47it/s]"
     ]
    },
    {
     "name": "stdout",
     "output_type": "stream",
     "text": [
      "Begin group  1 training\n"
     ]
    },
    {
     "name": "stderr",
     "output_type": "stream",
     "text": [
      "Epoch:   0%|                                                                                     | 0/20 [00:00<?, ?it/s]"
     ]
    },
    {
     "name": "stdout",
     "output_type": "stream",
     "text": [
      "Begin group  2 training\n"
     ]
    },
    {
     "name": "stderr",
     "output_type": "stream",
     "text": [
      "Epoch:  35%|██████████████████████████▉                                                  | 7/20 [00:00<00:00, 66.68it/s]"
     ]
    },
    {
     "name": "stdout",
     "output_type": "stream",
     "text": [
      "Begin group  3 training\n"
     ]
    },
    {
     "name": "stderr",
     "output_type": "stream",
     "text": [
      "Epoch:  80%|████████████████████████████████████████████████████████████               | 16/20 [00:00<00:00, 158.78it/s]"
     ]
    },
    {
     "name": "stdout",
     "output_type": "stream",
     "text": [
      "Begin group  4 training\n"
     ]
    },
    {
     "name": "stderr",
     "output_type": "stream",
     "text": [
      "                                                                                                                        \r"
     ]
    },
    {
     "name": "stdout",
     "output_type": "stream",
     "text": [
      "Group 0, clients ['f_00033', 'f_00013', 'f_00094', 'f_00163']\n",
      "Group 1, clients ['f_00148', 'f_00078', 'f_00037', 'f_00169', 'f_00157']\n",
      "Group 2, clients ['f_00040', 'f_00140', 'f_00020', 'f_00180']\n",
      "Group 3, clients ['f_00091', 'f_00031', 'f_00072', 'f_00152']\n",
      "Group 4, clients ['f_00196', 'f_00016', 'f_00105']\n"
     ]
    },
    {
     "name": "stderr",
     "output_type": "stream",
     "text": [
      "Epoch:  50%|██████████████████████████████████████                                      | 10/20 [00:00<00:00, 94.48it/s]"
     ]
    },
    {
     "name": "stdout",
     "output_type": "stream",
     "text": [
      "Group 0\n",
      "At round 19 accuracy: 0.7643979057591623\n",
      "At round 19 training accuracy: 0.7671826625386997\n",
      "At round 19 training loss: 0.7529852445834192\n",
      "Group 1\n",
      "At round 19 accuracy: 0.6900584795321637\n",
      "At round 19 training accuracy: 0.6500863557858376\n",
      "At round 19 training loss: 0.9833882241051431\n",
      "Group 2\n",
      "At round 19 accuracy: 0.663013698630137\n",
      "At round 19 training accuracy: 0.6591271105447595\n",
      "At round 19 training loss: 0.7617560896610674\n",
      "Group 3\n",
      "At round 19 accuracy: 0.6994219653179191\n",
      "At round 19 training accuracy: 0.6900311526479751\n",
      "At round 19 training loss: 1.2171799978469284\n",
      "Group 4\n",
      "At round 19 accuracy: 0.7246835443037974\n",
      "At round 19 training accuracy: 0.7202403304543747\n",
      "At round 19 training loss: 0.6083141014041463\n",
      "At round 19 mean test accuracy: 0.7079002079002079 mean train accuracy: 0.6971560806284636\n",
      "The groups difference are: [11.98804538 11.85398903 11.8546148  11.83044683 11.83359864]\n",
      "Begin group  0 training\n"
     ]
    },
    {
     "name": "stderr",
     "output_type": "stream",
     "text": [
      "Epoch:   0%|                                                                                     | 0/20 [00:00<?, ?it/s]"
     ]
    },
    {
     "name": "stdout",
     "output_type": "stream",
     "text": [
      "Begin group  1 training\n"
     ]
    },
    {
     "name": "stderr",
     "output_type": "stream",
     "text": [
      "Epoch:  65%|████████████████████████████████████████████████▊                          | 13/20 [00:00<00:00, 129.41it/s]"
     ]
    },
    {
     "name": "stdout",
     "output_type": "stream",
     "text": [
      "Begin group  2 training\n"
     ]
    },
    {
     "name": "stderr",
     "output_type": "stream",
     "text": [
      "Epoch:  40%|██████████████████████████████▊                                              | 8/20 [00:00<00:00, 73.63it/s]"
     ]
    },
    {
     "name": "stdout",
     "output_type": "stream",
     "text": [
      "Begin group  3 training\n"
     ]
    },
    {
     "name": "stderr",
     "output_type": "stream",
     "text": [
      "Epoch:   0%|                                                                                     | 0/20 [00:00<?, ?it/s]"
     ]
    },
    {
     "name": "stdout",
     "output_type": "stream",
     "text": [
      "Begin group  4 training\n"
     ]
    },
    {
     "name": "stderr",
     "output_type": "stream",
     "text": [
      "                                                                                                                        \r"
     ]
    },
    {
     "name": "stdout",
     "output_type": "stream",
     "text": [
      "Group 0, clients ['f_00013', 'f_00084']\n",
      "Group 1, clients ['f_00028', 'f_00178', 'f_00168', 'f_00177', 'f_00047', 'f_00077', 'f_00187', 'f_00167']\n",
      "Group 2, clients ['f_00150', 'f_00109']\n",
      "Group 3, clients ['f_00121', 'f_00192']\n",
      "Group 4, clients ['f_00196', 'f_00195', 'f_00136', 'f_00166', 'f_00175', 'f_00155']\n"
     ]
    },
    {
     "name": "stderr",
     "output_type": "stream",
     "text": [
      "Epoch:  55%|█████████████████████████████████████████▎                                 | 11/20 [00:00<00:00, 102.96it/s]"
     ]
    },
    {
     "name": "stdout",
     "output_type": "stream",
     "text": [
      "Group 0\n",
      "At round 20 accuracy: 0.7879581151832461\n",
      "At round 20 training accuracy: 0.7842105263157895\n",
      "At round 20 training loss: 0.5752665392385548\n",
      "Group 1\n",
      "At round 20 accuracy: 0.6929824561403509\n",
      "At round 20 training accuracy: 0.7115716753022453\n",
      "At round 20 training loss: 0.8499504531809291\n",
      "Group 2\n",
      "At round 20 accuracy: 0.7863013698630137\n",
      "At round 20 training accuracy: 0.8015291494106404\n",
      "At round 20 training loss: 0.9082689637893246\n",
      "Group 3\n",
      "At round 20 accuracy: 0.6994219653179191\n",
      "At round 20 training accuracy: 0.696706720071206\n",
      "At round 20 training loss: 0.6893859869063989\n",
      "Group 4\n",
      "At round 20 accuracy: 0.6835443037974683\n",
      "At round 20 training accuracy: 0.681562147953436\n",
      "At round 20 training loss: 0.7209259827491532\n",
      "At round 20 mean test accuracy: 0.7297297297297297 mean train accuracy: 0.7341209426953291\n",
      "The groups difference are: [12.24211257 12.12667287 12.15299667 12.09860067 12.09832253]\n",
      "Begin group  0 training\n"
     ]
    },
    {
     "name": "stderr",
     "output_type": "stream",
     "text": [
      "Epoch:   0%|                                                                                     | 0/20 [00:00<?, ?it/s]"
     ]
    },
    {
     "name": "stdout",
     "output_type": "stream",
     "text": [
      "Begin group  1 training\n"
     ]
    },
    {
     "name": "stderr",
     "output_type": "stream",
     "text": [
      "Epoch:   0%|                                                                                     | 0/20 [00:00<?, ?it/s]"
     ]
    },
    {
     "name": "stdout",
     "output_type": "stream",
     "text": [
      "Begin group  2 training\n",
      "Begin group  3 training\n"
     ]
    },
    {
     "name": "stderr",
     "output_type": "stream",
     "text": [
      "Epoch:   0%|                                                                                     | 0/20 [00:00<?, ?it/s]"
     ]
    },
    {
     "name": "stdout",
     "output_type": "stream",
     "text": [
      "Begin group  4 training\n"
     ]
    },
    {
     "name": "stderr",
     "output_type": "stream",
     "text": [
      "                                                                                                                        \r"
     ]
    },
    {
     "name": "stdout",
     "output_type": "stream",
     "text": [
      "Group 0, clients ['f_00144', 'f_00183', 'f_00124', 'f_00013']\n",
      "Group 1, clients ['f_00017', 'f_00087']\n",
      "Group 2, clients ['f_00009', 'f_00020', 'f_00129']\n",
      "Group 3, clients ['f_00052', 'f_00091', 'f_00021', 'f_00042', 'f_00152', 'f_00092', 'f_00101']\n",
      "Group 4, clients ['f_00045', 'f_00006', 'f_00105', 'f_00145']\n"
     ]
    },
    {
     "name": "stderr",
     "output_type": "stream",
     "text": [
      "Epoch:   0%|                                                                                     | 0/20 [00:00<?, ?it/s]"
     ]
    },
    {
     "name": "stdout",
     "output_type": "stream",
     "text": [
      "Group 0\n",
      "At round 21 accuracy: 0.7931937172774869\n",
      "At round 21 training accuracy: 0.788235294117647\n",
      "At round 21 training loss: 0.5551304164685701\n",
      "Group 1\n",
      "At round 21 accuracy: 0.6842105263157895\n",
      "At round 21 training accuracy: 0.6835924006908463\n",
      "At round 21 training loss: 0.8953432561305315\n",
      "Group 2\n",
      "At round 21 accuracy: 0.6904109589041096\n",
      "At round 21 training accuracy: 0.6925772539025167\n",
      "At round 21 training loss: 0.6647035887701643\n",
      "Group 3\n",
      "At round 21 accuracy: 0.6897880539499036\n",
      "At round 21 training accuracy: 0.6875834445927904\n",
      "At round 21 training loss: 1.3184452528721713\n",
      "Group 4\n",
      "At round 21 accuracy: 0.7373417721518988\n",
      "At round 21 training accuracy: 0.7544123169357867\n",
      "At round 21 training loss: 0.7383935600015573\n",
      "At round 21 mean test accuracy: 0.7172557172557172 mean train accuracy: 0.7184702515072163\n",
      "The groups difference are: [12.43609855 12.31697267 12.30394117 12.32482342 12.30137477]\n",
      "Begin group  0 training\n"
     ]
    },
    {
     "name": "stderr",
     "output_type": "stream",
     "text": [
      "Epoch:   0%|                                                                                     | 0/20 [00:00<?, ?it/s]"
     ]
    },
    {
     "name": "stdout",
     "output_type": "stream",
     "text": [
      "Begin group  1 training\n"
     ]
    },
    {
     "name": "stderr",
     "output_type": "stream",
     "text": [
      "Epoch:   0%|                                                                                     | 0/20 [00:00<?, ?it/s]"
     ]
    },
    {
     "name": "stdout",
     "output_type": "stream",
     "text": [
      "Begin group  2 training\n"
     ]
    },
    {
     "name": "stderr",
     "output_type": "stream",
     "text": [
      "Epoch:  30%|███████████████████████                                                      | 6/20 [00:00<00:00, 52.84it/s]"
     ]
    },
    {
     "name": "stdout",
     "output_type": "stream",
     "text": [
      "Begin group  3 training\n"
     ]
    },
    {
     "name": "stderr",
     "output_type": "stream",
     "text": [
      "Epoch:   0%|                                                                                     | 0/20 [00:00<?, ?it/s]"
     ]
    },
    {
     "name": "stdout",
     "output_type": "stream",
     "text": [
      "Begin group  4 training\n"
     ]
    },
    {
     "name": "stderr",
     "output_type": "stream",
     "text": [
      "                                                                                                                        \r"
     ]
    },
    {
     "name": "stdout",
     "output_type": "stream",
     "text": [
      "Group 0, clients ['f_00144', 'f_00163', 'f_00124', 'f_00104']\n",
      "Group 1, clients ['f_00157', 'f_00098', 'f_00078', 'f_00176', 'f_00087', 'f_00128']\n",
      "Group 2, clients ['f_00170', 'f_00189', 'f_00020']\n",
      "Group 3, clients ['f_00032', 'f_00091', 'f_00012']\n",
      "Group 4, clients ['f_00075', 'f_00046', 'f_00036', 'f_00135']\n"
     ]
    },
    {
     "name": "stderr",
     "output_type": "stream",
     "text": [
      "Epoch:   0%|                                                                                     | 0/20 [00:00<?, ?it/s]"
     ]
    },
    {
     "name": "stdout",
     "output_type": "stream",
     "text": [
      "Group 0\n",
      "At round 22 accuracy: 0.743455497382199\n",
      "At round 22 training accuracy: 0.75015479876161\n",
      "At round 22 training loss: 0.5861239425999462\n",
      "Group 1\n",
      "At round 22 accuracy: 0.7134502923976608\n",
      "At round 22 training accuracy: 0.7326424870466322\n",
      "At round 22 training loss: 1.217619410543244\n",
      "Group 2\n",
      "At round 22 accuracy: 0.6794520547945205\n",
      "At round 22 training accuracy: 0.6725071678878624\n",
      "At round 22 training loss: 0.7532974189350885\n",
      "Group 3\n",
      "At round 22 accuracy: 0.7649325626204239\n",
      "At round 22 training accuracy: 0.7705829995549621\n",
      "At round 22 training loss: 0.5849818203069392\n",
      "Group 4\n",
      "At round 22 accuracy: 0.7911392405063291\n",
      "At round 22 training accuracy: 0.7852046564025535\n",
      "At round 22 training loss: 0.7287137929183668\n",
      "At round 22 mean test accuracy: 0.7396049896049897 mean train accuracy: 0.7434991778819804\n",
      "The groups difference are: [12.70992604 12.66223166 12.58703818 12.63087708 12.56644869]\n",
      "Begin group  0 training\n"
     ]
    },
    {
     "name": "stderr",
     "output_type": "stream",
     "text": [
      "Epoch:   0%|                                                                                     | 0/20 [00:00<?, ?it/s]"
     ]
    },
    {
     "name": "stdout",
     "output_type": "stream",
     "text": [
      "Begin group  1 training\n"
     ]
    },
    {
     "name": "stderr",
     "output_type": "stream",
     "text": [
      "Epoch:  40%|██████████████████████████████▊                                              | 8/20 [00:00<00:00, 74.64it/s]"
     ]
    },
    {
     "name": "stdout",
     "output_type": "stream",
     "text": [
      "Begin group  2 training\n"
     ]
    },
    {
     "name": "stderr",
     "output_type": "stream",
     "text": [
      "Epoch:  35%|██████████████████████████▉                                                  | 7/20 [00:00<00:00, 67.02it/s]"
     ]
    },
    {
     "name": "stdout",
     "output_type": "stream",
     "text": [
      "Begin group  3 training\n"
     ]
    },
    {
     "name": "stderr",
     "output_type": "stream",
     "text": [
      "Epoch:  45%|██████████████████████████████████▋                                          | 9/20 [00:00<00:00, 81.01it/s]"
     ]
    },
    {
     "name": "stdout",
     "output_type": "stream",
     "text": [
      "Begin group  4 training\n"
     ]
    },
    {
     "name": "stderr",
     "output_type": "stream",
     "text": [
      "                                                                                                                        \r"
     ]
    },
    {
     "name": "stdout",
     "output_type": "stream",
     "text": [
      "Group 0, clients ['f_00014', 'f_00174', 'f_00024']\n",
      "Group 1, clients ['f_00188', 'f_00077', 'f_00097', 'f_00198', 'f_00157']\n",
      "Group 2, clients ['f_00030', 'f_00119', 'f_00019', 'f_00199', 'f_00140']\n",
      "Group 3, clients ['f_00072', 'f_00081', 'f_00191', 'f_00092']\n",
      "Group 4, clients ['f_00185', 'f_00075', 'f_00046']\n"
     ]
    },
    {
     "name": "stderr",
     "output_type": "stream",
     "text": [
      "Epoch:  40%|██████████████████████████████▊                                              | 8/20 [00:00<00:00, 77.90it/s]"
     ]
    },
    {
     "name": "stdout",
     "output_type": "stream",
     "text": [
      "Group 0\n",
      "At round 23 accuracy: 0.7801047120418848\n",
      "At round 23 training accuracy: 0.7820433436532508\n",
      "At round 23 training loss: 0.6233798220892071\n",
      "Group 1\n",
      "At round 23 accuracy: 0.6403508771929824\n",
      "At round 23 training accuracy: 0.6172711571675302\n",
      "At round 23 training loss: 0.8955110524396617\n",
      "Group 2\n",
      "At round 23 accuracy: 0.6794520547945205\n",
      "At round 23 training accuracy: 0.672188595093979\n",
      "At round 23 training loss: 0.7845502405570699\n",
      "Group 3\n",
      "At round 23 accuracy: 0.7032755298651252\n",
      "At round 23 training accuracy: 0.6993769470404985\n",
      "At round 23 training loss: 1.0050284922666746\n",
      "Group 4\n",
      "At round 23 accuracy: 0.8069620253164557\n",
      "At round 23 training accuracy: 0.8039804731505821\n",
      "At round 23 training loss: 0.7413839229595558\n",
      "At round 23 mean test accuracy: 0.7198544698544699 mean train accuracy: 0.7129285670787406\n",
      "The groups difference are: [12.9801467  12.95785013 12.84560226 12.90745927 12.84532685]\n",
      "Begin group  0 training\n"
     ]
    },
    {
     "name": "stderr",
     "output_type": "stream",
     "text": [
      "Epoch:   0%|                                                                                     | 0/20 [00:00<?, ?it/s]"
     ]
    },
    {
     "name": "stdout",
     "output_type": "stream",
     "text": [
      "Begin group  1 training\n"
     ]
    },
    {
     "name": "stderr",
     "output_type": "stream",
     "text": [
      "Epoch:  65%|████████████████████████████████████████████████▊                          | 13/20 [00:00<00:00, 120.58it/s]"
     ]
    },
    {
     "name": "stdout",
     "output_type": "stream",
     "text": [
      "Begin group  2 training\n"
     ]
    },
    {
     "name": "stderr",
     "output_type": "stream",
     "text": [
      "Epoch:   0%|                                                                                     | 0/20 [00:00<?, ?it/s]"
     ]
    },
    {
     "name": "stdout",
     "output_type": "stream",
     "text": [
      "Begin group  3 training\n"
     ]
    },
    {
     "name": "stderr",
     "output_type": "stream",
     "text": [
      "Epoch:   0%|                                                                                     | 0/20 [00:00<?, ?it/s]"
     ]
    },
    {
     "name": "stdout",
     "output_type": "stream",
     "text": [
      "Begin group  4 training\n"
     ]
    },
    {
     "name": "stderr",
     "output_type": "stream",
     "text": [
      "                                                                                                                        \r"
     ]
    },
    {
     "name": "stdout",
     "output_type": "stream",
     "text": [
      "Group 0, clients ['f_00014', 'f_00144', 'f_00054']\n",
      "Group 1, clients ['f_00197', 'f_00048']\n",
      "Group 2, clients ['f_00109', 'f_00029', 'f_00190', 'f_00159', 'f_00069', 'f_00000']\n",
      "Group 3, clients ['f_00101', 'f_00142', 'f_00072', 'f_00091', 'f_00102']\n",
      "Group 4, clients ['f_00125', 'f_00196', 'f_00025', 'f_00026']\n"
     ]
    },
    {
     "name": "stderr",
     "output_type": "stream",
     "text": [
      "Epoch:  40%|██████████████████████████████▊                                              | 8/20 [00:00<00:00, 78.00it/s]"
     ]
    },
    {
     "name": "stdout",
     "output_type": "stream",
     "text": [
      "Group 0\n",
      "At round 24 accuracy: 0.7722513089005235\n",
      "At round 24 training accuracy: 0.7746130030959752\n",
      "At round 24 training loss: 0.827626645717274\n",
      "Group 1\n",
      "At round 24 accuracy: 0.6988304093567251\n",
      "At round 24 training accuracy: 0.694300518134715\n",
      "At round 24 training loss: 0.752423692006933\n",
      "Group 2\n",
      "At round 24 accuracy: 0.7041095890410959\n",
      "At round 24 training accuracy: 0.7034087288945524\n",
      "At round 24 training loss: 0.9474339495612087\n",
      "Group 3\n",
      "At round 24 accuracy: 0.7302504816955684\n",
      "At round 24 training accuracy: 0.7265242545616377\n",
      "At round 24 training loss: 0.6206132978214176\n",
      "Group 4\n",
      "At round 24 accuracy: 0.8291139240506329\n",
      "At round 24 training accuracy: 0.8137438978595569\n",
      "At round 24 training loss: 0.7965080765765993\n",
      "At round 24 mean test accuracy: 0.7442827442827443 mean train accuracy: 0.7400280129102977\n",
      "The groups difference are: [13.13558646 13.10171753 13.02285766 13.06785045 13.01459021]\n",
      "Begin group  0 training\n"
     ]
    },
    {
     "name": "stderr",
     "output_type": "stream",
     "text": [
      "Epoch:   0%|                                                                                     | 0/20 [00:00<?, ?it/s]"
     ]
    },
    {
     "name": "stdout",
     "output_type": "stream",
     "text": [
      "Begin group  1 training\n"
     ]
    },
    {
     "name": "stderr",
     "output_type": "stream",
     "text": [
      "Epoch:   0%|                                                                                     | 0/20 [00:00<?, ?it/s]"
     ]
    },
    {
     "name": "stdout",
     "output_type": "stream",
     "text": [
      "Begin group  2 training\n"
     ]
    },
    {
     "name": "stderr",
     "output_type": "stream",
     "text": [
      "Epoch:   0%|                                                                                     | 0/20 [00:00<?, ?it/s]"
     ]
    },
    {
     "name": "stdout",
     "output_type": "stream",
     "text": [
      "Begin group  3 training\n"
     ]
    },
    {
     "name": "stderr",
     "output_type": "stream",
     "text": [
      "Epoch:   0%|                                                                                     | 0/20 [00:00<?, ?it/s]"
     ]
    },
    {
     "name": "stdout",
     "output_type": "stream",
     "text": [
      "Begin group  4 training\n"
     ]
    },
    {
     "name": "stderr",
     "output_type": "stream",
     "text": [
      "                                                                                                                        \r"
     ]
    },
    {
     "name": "stdout",
     "output_type": "stream",
     "text": [
      "Group 0, clients ['f_00193', 'f_00103']\n",
      "Group 1, clients ['f_00148', 'f_00068', 'f_00176', 'f_00117', 'f_00169', 'f_00097']\n",
      "Group 2, clients ['f_00069', 'f_00040', 'f_00120']\n",
      "Group 3, clients ['f_00082', 'f_00101', 'f_00111', 'f_00102', 'f_00122', 'f_00081']\n",
      "Group 4, clients ['f_00135', 'f_00126', 'f_00035']\n"
     ]
    },
    {
     "name": "stderr",
     "output_type": "stream",
     "text": [
      "Epoch:   0%|                                                                                     | 0/20 [00:00<?, ?it/s]"
     ]
    },
    {
     "name": "stdout",
     "output_type": "stream",
     "text": [
      "Group 0\n",
      "At round 25 accuracy: 0.774869109947644\n",
      "At round 25 training accuracy: 0.7668730650154799\n",
      "At round 25 training loss: 0.9479833564291429\n",
      "Group 1\n",
      "At round 25 accuracy: 0.7017543859649122\n",
      "At round 25 training accuracy: 0.7177892918825561\n",
      "At round 25 training loss: 0.8130780176898152\n",
      "Group 2\n",
      "At round 25 accuracy: 0.6876712328767123\n",
      "At round 25 training accuracy: 0.6865243708187321\n",
      "At round 25 training loss: 0.8539859182081165\n",
      "Group 3\n",
      "At round 25 accuracy: 0.7610789980732178\n",
      "At round 25 training accuracy: 0.7694704049844237\n",
      "At round 25 training loss: 0.5582992095959468\n",
      "Group 4\n",
      "At round 25 accuracy: 0.7183544303797469\n",
      "At round 25 training accuracy: 0.7067217423957942\n",
      "At round 25 training loss: 0.6073244099571344\n",
      "At round 25 mean test accuracy: 0.7323284823284824 mean train accuracy: 0.7338164545399184\n",
      "The groups difference are: [13.29275521 13.25111646 13.18531435 13.24780709 13.17220953]\n",
      "Begin group  0 training\n",
      "Begin group  1 training\n"
     ]
    },
    {
     "name": "stderr",
     "output_type": "stream",
     "text": [
      "Epoch:   0%|                                                                                     | 0/20 [00:00<?, ?it/s]"
     ]
    },
    {
     "name": "stdout",
     "output_type": "stream",
     "text": [
      "Begin group  2 training\n"
     ]
    },
    {
     "name": "stderr",
     "output_type": "stream",
     "text": [
      "Epoch:   0%|                                                                                     | 0/20 [00:00<?, ?it/s]"
     ]
    },
    {
     "name": "stdout",
     "output_type": "stream",
     "text": [
      "Begin group  3 training\n"
     ]
    },
    {
     "name": "stderr",
     "output_type": "stream",
     "text": [
      "Epoch:  35%|██████████████████████████▉                                                  | 7/20 [00:00<00:00, 67.67it/s]"
     ]
    },
    {
     "name": "stdout",
     "output_type": "stream",
     "text": [
      "Begin group  4 training\n"
     ]
    },
    {
     "name": "stderr",
     "output_type": "stream",
     "text": [
      "                                                                                                                        \r"
     ]
    },
    {
     "name": "stdout",
     "output_type": "stream",
     "text": [
      "Group 0, clients ['f_00153', 'f_00163', 'f_00124', 'f_00174']\n",
      "Group 1, clients ['f_00188', 'f_00167', 'f_00137', 'f_00108', 'f_00118', 'f_00168']\n",
      "Group 2, clients ['f_00109', 'f_00030', 'f_00050', 'f_00129']\n",
      "Group 3, clients ['f_00042']\n",
      "Group 4, clients ['f_00025', 'f_00196', 'f_00136', 'f_00116', 'f_00186']\n"
     ]
    },
    {
     "name": "stderr",
     "output_type": "stream",
     "text": [
      "Epoch:  65%|████████████████████████████████████████████████▊                          | 13/20 [00:00<00:00, 124.45it/s]"
     ]
    },
    {
     "name": "stdout",
     "output_type": "stream",
     "text": [
      "Group 0\n",
      "At round 26 accuracy: 0.7958115183246073\n",
      "At round 26 training accuracy: 0.8027863777089783\n",
      "At round 26 training loss: 0.6806315673993837\n",
      "Group 1\n",
      "At round 26 accuracy: 0.7573099415204678\n",
      "At round 26 training accuracy: 0.6984455958549223\n",
      "At round 26 training loss: 0.731676241091496\n",
      "Group 2\n",
      "At round 26 accuracy: 0.7041095890410959\n",
      "At round 26 training accuracy: 0.6909843899330997\n",
      "At round 26 training loss: 0.6598197216344283\n",
      "Group 3\n",
      "At round 26 accuracy: 0.8265895953757225\n",
      "At round 26 training accuracy: 0.8400089007565643\n",
      "At round 26 training loss: 0.5434632251925292\n",
      "Group 4\n",
      "At round 26 accuracy: 0.8291139240506329\n",
      "At round 26 training accuracy: 0.8137438978595569\n",
      "At round 26 training loss: 0.8138240351405664\n",
      "At round 26 mean test accuracy: 0.7853430353430353 mean train accuracy: 0.7749832531514524\n",
      "The groups difference are: [13.42662149 13.40910204 13.3500521  13.4252666  13.36696235]\n",
      "Begin group  0 training\n"
     ]
    },
    {
     "name": "stderr",
     "output_type": "stream",
     "text": [
      "Epoch:  65%|████████████████████████████████████████████████▊                          | 13/20 [00:00<00:00, 130.00it/s]"
     ]
    },
    {
     "name": "stdout",
     "output_type": "stream",
     "text": [
      "Begin group  1 training\n"
     ]
    },
    {
     "name": "stderr",
     "output_type": "stream",
     "text": [
      "Epoch:   0%|                                                                                     | 0/20 [00:00<?, ?it/s]"
     ]
    },
    {
     "name": "stdout",
     "output_type": "stream",
     "text": [
      "Begin group  2 training\n"
     ]
    },
    {
     "name": "stderr",
     "output_type": "stream",
     "text": [
      "Epoch:   0%|                                                                                     | 0/20 [00:00<?, ?it/s]"
     ]
    },
    {
     "name": "stdout",
     "output_type": "stream",
     "text": [
      "Begin group  3 training\n",
      "Begin group  4 training\n"
     ]
    },
    {
     "name": "stderr",
     "output_type": "stream",
     "text": [
      "                                                                                                                        \r"
     ]
    },
    {
     "name": "stdout",
     "output_type": "stream",
     "text": [
      "Group 0, clients ['f_00103', 'f_00074', 'f_00173']\n",
      "Group 1, clients ['f_00048', 'f_00148', 'f_00197', 'f_00068', 'f_00078', 'f_00058']\n",
      "Group 2, clients ['f_00040', 'f_00109', 'f_00139', 'f_00009', 'f_00090']\n",
      "Group 3, clients ['f_00162', 'f_00101', 'f_00012']\n",
      "Group 4, clients ['f_00185', 'f_00165', 'f_00095']\n"
     ]
    },
    {
     "name": "stderr",
     "output_type": "stream",
     "text": [
      "Epoch:   0%|                                                                                     | 0/20 [00:00<?, ?it/s]"
     ]
    },
    {
     "name": "stdout",
     "output_type": "stream",
     "text": [
      "Group 0\n",
      "At round 27 accuracy: 0.7853403141361257\n",
      "At round 27 training accuracy: 0.8006191950464396\n",
      "At round 27 training loss: 0.544597470843386\n",
      "Group 1\n",
      "At round 27 accuracy: 0.6432748538011696\n",
      "At round 27 training accuracy: 0.649740932642487\n",
      "At round 27 training loss: 1.0200268181288592\n",
      "Group 2\n",
      "At round 27 accuracy: 0.7424657534246575\n",
      "At round 27 training accuracy: 0.7193373685887225\n",
      "At round 27 training loss: 0.6837824645430542\n",
      "Group 3\n",
      "At round 27 accuracy: 0.6782273603082851\n",
      "At round 27 training accuracy: 0.6773475745438362\n",
      "At round 27 training loss: 0.8681030667088113\n",
      "Group 4\n",
      "At round 27 accuracy: 0.7278481012658228\n",
      "At round 27 training accuracy: 0.7363875328576793\n",
      "At round 27 training loss: 0.7229117562436896\n",
      "At round 27 mean test accuracy: 0.7136174636174636 mean train accuracy: 0.7143292125936301\n",
      "The groups difference are: [13.57676273 13.55159107 13.47700641 13.56797616 13.51207335]\n",
      "Begin group  0 training\n"
     ]
    },
    {
     "name": "stderr",
     "output_type": "stream",
     "text": [
      "Epoch:   0%|                                                                                     | 0/20 [00:00<?, ?it/s]"
     ]
    },
    {
     "name": "stdout",
     "output_type": "stream",
     "text": [
      "Begin group  1 training\n"
     ]
    },
    {
     "name": "stderr",
     "output_type": "stream",
     "text": [
      "Epoch:   0%|                                                                                     | 0/20 [00:00<?, ?it/s]"
     ]
    },
    {
     "name": "stdout",
     "output_type": "stream",
     "text": [
      "Begin group  2 training\n"
     ]
    },
    {
     "name": "stderr",
     "output_type": "stream",
     "text": [
      "Epoch:   0%|                                                                                     | 0/20 [00:00<?, ?it/s]"
     ]
    },
    {
     "name": "stdout",
     "output_type": "stream",
     "text": [
      "Begin group  3 training\n"
     ]
    },
    {
     "name": "stderr",
     "output_type": "stream",
     "text": [
      "Epoch:   0%|                                                                                     | 0/20 [00:00<?, ?it/s]"
     ]
    },
    {
     "name": "stdout",
     "output_type": "stream",
     "text": [
      "Begin group  4 training\n"
     ]
    },
    {
     "name": "stderr",
     "output_type": "stream",
     "text": [
      "                                                                                                                        \r"
     ]
    },
    {
     "name": "stdout",
     "output_type": "stream",
     "text": [
      "Group 0, clients ['f_00024', 'f_00073', 'f_00134', 'f_00164']\n",
      "Group 1, clients ['f_00067', 'f_00187', 'f_00168', 'f_00127', 'f_00128', 'f_00059', 'f_00177', 'f_00098']\n",
      "Group 2, clients ['f_00170', 'f_00099', 'f_00069']\n",
      "Group 3, clients ['f_00061', 'f_00051']\n",
      "Group 4, clients ['f_00065', 'f_00075', 'f_00126']\n"
     ]
    },
    {
     "name": "stderr",
     "output_type": "stream",
     "text": [
      "Epoch:  20%|███████████████▍                                                             | 4/20 [00:00<00:00, 37.16it/s]"
     ]
    },
    {
     "name": "stdout",
     "output_type": "stream",
     "text": [
      "Group 0\n",
      "At round 28 accuracy: 0.8115183246073299\n",
      "At round 28 training accuracy: 0.8337461300309598\n",
      "At round 28 training loss: 0.4584905595602266\n",
      "Group 1\n",
      "At round 28 accuracy: 0.7017543859649122\n",
      "At round 28 training accuracy: 0.6746113989637306\n",
      "At round 28 training loss: 0.8580672800849757\n",
      "Group 2\n",
      "At round 28 accuracy: 0.7589041095890411\n",
      "At round 28 training accuracy: 0.7489646384198789\n",
      "At round 28 training loss: 0.6438558288025378\n",
      "Group 3\n",
      "At round 28 accuracy: 0.7630057803468208\n",
      "At round 28 training accuracy: 0.7730307076101469\n",
      "At round 28 training loss: 0.5474477643416519\n",
      "Group 4\n",
      "At round 28 accuracy: 0.8322784810126582\n",
      "At round 28 training accuracy: 0.8325197146075854\n",
      "At round 28 training loss: 0.7909338068142897\n",
      "At round 28 mean test accuracy: 0.7723492723492723 mean train accuracy: 0.7726691431703306\n",
      "The groups difference are: [13.65974067 13.65256399 13.58390742 13.64425772 13.61129369]\n",
      "Begin group  0 training\n"
     ]
    },
    {
     "name": "stderr",
     "output_type": "stream",
     "text": [
      "Epoch:  20%|███████████████▍                                                             | 4/20 [00:00<00:00, 30.52it/s]"
     ]
    },
    {
     "name": "stdout",
     "output_type": "stream",
     "text": [
      "Begin group  1 training\n"
     ]
    },
    {
     "name": "stderr",
     "output_type": "stream",
     "text": [
      "Epoch:   0%|                                                                                     | 0/20 [00:00<?, ?it/s]"
     ]
    },
    {
     "name": "stdout",
     "output_type": "stream",
     "text": [
      "Begin group  2 training\n"
     ]
    },
    {
     "name": "stderr",
     "output_type": "stream",
     "text": [
      "Epoch:   0%|                                                                                     | 0/20 [00:00<?, ?it/s]"
     ]
    },
    {
     "name": "stdout",
     "output_type": "stream",
     "text": [
      "Begin group  3 training\n",
      "Begin group  4 training\n"
     ]
    },
    {
     "name": "stderr",
     "output_type": "stream",
     "text": [
      "                                                                                                                        \r"
     ]
    },
    {
     "name": "stdout",
     "output_type": "stream",
     "text": [
      "Group 0, clients ['f_00183', 'f_00053', 'f_00063']\n",
      "Group 1, clients ['f_00197', 'f_00088', 'f_00008', 'f_00138', 'f_00198', 'f_00128', 'f_00027']\n",
      "Group 2, clients ['f_00119']\n",
      "Group 3, clients ['f_00141', 'f_00061', 'f_00101', 'f_00161']\n",
      "Group 4, clients ['f_00145', 'f_00075', 'f_00135', 'f_00165', 'f_00126']\n"
     ]
    },
    {
     "name": "stderr",
     "output_type": "stream",
     "text": [
      "Epoch:   0%|                                                                                     | 0/20 [00:00<?, ?it/s]"
     ]
    },
    {
     "name": "stdout",
     "output_type": "stream",
     "text": [
      "Group 0\n",
      "At round 29 accuracy: 0.7643979057591623\n",
      "At round 29 training accuracy: 0.7786377708978328\n",
      "At round 29 training loss: 0.57454804138687\n",
      "Group 1\n",
      "At round 29 accuracy: 0.6900584795321637\n",
      "At round 29 training accuracy: 0.6863557858376511\n",
      "At round 29 training loss: 0.7933901625181933\n",
      "Group 2\n",
      "At round 29 accuracy: 0.7452054794520548\n",
      "At round 29 training accuracy: 0.7225230965275565\n",
      "At round 29 training loss: 0.8396894601489678\n",
      "Group 3\n",
      "At round 29 accuracy: 0.7013487475915221\n",
      "At round 29 training accuracy: 0.7024922118380063\n",
      "At round 29 training loss: 0.9270141424837514\n",
      "Group 4\n",
      "At round 29 accuracy: 0.8291139240506329\n",
      "At round 29 training accuracy: 0.8144949305294781\n",
      "At round 29 training loss: 0.7952395532807595\n",
      "At round 29 mean test accuracy: 0.7411642411642412 mean train accuracy: 0.7366177455696974\n",
      "The groups difference are: [13.94899994 13.92021426 13.81757771 13.87221599 13.83913487]\n",
      "Begin group  0 training\n"
     ]
    },
    {
     "name": "stderr",
     "output_type": "stream",
     "text": [
      "Epoch:   0%|                                                                                     | 0/20 [00:00<?, ?it/s]"
     ]
    },
    {
     "name": "stdout",
     "output_type": "stream",
     "text": [
      "Begin group  1 training\n"
     ]
    },
    {
     "name": "stderr",
     "output_type": "stream",
     "text": [
      "Epoch:   0%|                                                                                     | 0/20 [00:00<?, ?it/s]"
     ]
    },
    {
     "name": "stdout",
     "output_type": "stream",
     "text": [
      "Begin group  2 training\n",
      "Begin group  3 training\n"
     ]
    },
    {
     "name": "stderr",
     "output_type": "stream",
     "text": [
      "Epoch:   0%|                                                                                     | 0/20 [00:00<?, ?it/s]"
     ]
    },
    {
     "name": "stdout",
     "output_type": "stream",
     "text": [
      "Begin group  4 training\n"
     ]
    },
    {
     "name": "stderr",
     "output_type": "stream",
     "text": [
      "                                                                                                                        \r"
     ]
    },
    {
     "name": "stdout",
     "output_type": "stream",
     "text": [
      "Group 0, clients ['f_00143', 'f_00124', 'f_00024', 'f_00184', 'f_00063', 'f_00093', 'f_00183']\n",
      "Group 1, clients ['f_00097', 'f_00067']\n",
      "Group 2, clients ['f_00150', 'f_00129']\n",
      "Group 3, clients ['f_00081', 'f_00142', 'f_00171', 'f_00072', 'f_00021', 'f_00111']\n",
      "Group 4, clients ['f_00026', 'f_00126', 'f_00106']\n"
     ]
    },
    {
     "name": "stderr",
     "output_type": "stream",
     "text": [
      "Epoch:   0%|                                                                                     | 0/20 [00:00<?, ?it/s]"
     ]
    },
    {
     "name": "stdout",
     "output_type": "stream",
     "text": [
      "Group 0\n",
      "At round 30 accuracy: 0.8089005235602095\n",
      "At round 30 training accuracy: 0.8089783281733746\n",
      "At round 30 training loss: 0.9543606268639904\n",
      "Group 1\n",
      "At round 30 accuracy: 0.7777777777777778\n",
      "At round 30 training accuracy: 0.7488773747841105\n",
      "At round 30 training loss: 0.6844116388207273\n",
      "Group 2\n",
      "At round 30 accuracy: 0.6931506849315069\n",
      "At round 30 training accuracy: 0.7091430391844536\n",
      "At round 30 training loss: 1.234778639616272\n",
      "Group 3\n",
      "At round 30 accuracy: 0.6994219653179191\n",
      "At round 30 training accuracy: 0.6998219848687138\n",
      "At round 30 training loss: 1.0709614361100426\n",
      "Group 4\n",
      "At round 30 accuracy: 0.8291139240506329\n",
      "At round 30 training accuracy: 0.8193766428839655\n",
      "At round 30 training loss: 0.8541438332792068\n",
      "At round 30 mean test accuracy: 0.7551975051975052 mean train accuracy: 0.7511113817672492\n",
      "The groups difference are: [14.18165273 14.09317139 14.00958206 14.03151825 14.04198639]\n",
      "Begin group  0 training\n"
     ]
    },
    {
     "name": "stderr",
     "output_type": "stream",
     "text": [
      "Epoch:  15%|███████████▌                                                                 | 3/20 [00:00<00:00, 29.44it/s]"
     ]
    },
    {
     "name": "stdout",
     "output_type": "stream",
     "text": [
      "Begin group  1 training\n"
     ]
    },
    {
     "name": "stderr",
     "output_type": "stream",
     "text": [
      "Epoch:   0%|                                                                                     | 0/20 [00:00<?, ?it/s]"
     ]
    },
    {
     "name": "stdout",
     "output_type": "stream",
     "text": [
      "Begin group  2 training\n",
      "Begin group  3 training\n"
     ]
    },
    {
     "name": "stderr",
     "output_type": "stream",
     "text": [
      "Epoch:   0%|                                                                                     | 0/20 [00:00<?, ?it/s]"
     ]
    },
    {
     "name": "stdout",
     "output_type": "stream",
     "text": [
      "Begin group  4 training\n"
     ]
    },
    {
     "name": "stderr",
     "output_type": "stream",
     "text": [
      "                                                                                                                        \r"
     ]
    },
    {
     "name": "stdout",
     "output_type": "stream",
     "text": [
      "Group 0, clients ['f_00043']\n",
      "Group 1, clients ['f_00148', 'f_00008', 'f_00137', 'f_00147', 'f_00169', 'f_00118', 'f_00017', 'f_00157']\n",
      "Group 2, clients ['f_00079', 'f_00179', 'f_00139', 'f_00189', 'f_00010']\n",
      "Group 3, clients ['f_00102', 'f_00041']\n",
      "Group 4, clients ['f_00056', 'f_00055', 'f_00045', 'f_00096']\n"
     ]
    },
    {
     "name": "stderr",
     "output_type": "stream",
     "text": [
      "Epoch:   0%|                                                                                     | 0/20 [00:00<?, ?it/s]"
     ]
    },
    {
     "name": "stdout",
     "output_type": "stream",
     "text": [
      "Group 0\n",
      "At round 31 accuracy: 0.7774869109947644\n",
      "At round 31 training accuracy: 0.7811145510835913\n",
      "At round 31 training loss: 0.5781575825745845\n",
      "Group 1\n",
      "At round 31 accuracy: 0.7222222222222222\n",
      "At round 31 training accuracy: 0.7385146804835924\n",
      "At round 31 training loss: 1.2143490194347857\n",
      "Group 2\n",
      "At round 31 accuracy: 0.7424657534246575\n",
      "At round 31 training accuracy: 0.727620261229691\n",
      "At round 31 training loss: 0.8652872654065542\n",
      "Group 3\n",
      "At round 31 accuracy: 0.7418111753371869\n",
      "At round 31 training accuracy: 0.7365376056964842\n",
      "At round 31 training loss: 0.6144101812765765\n",
      "Group 4\n",
      "At round 31 accuracy: 0.7658227848101266\n",
      "At round 31 training accuracy: 0.7750657153586181\n",
      "At round 31 training loss: 0.8206980467693187\n",
      "At round 31 mean test accuracy: 0.7494802494802495 mean train accuracy: 0.750197917301017\n",
      "The groups difference are: [14.36156714 14.31631187 14.18141839 14.20282599 14.19409718]\n",
      "Begin group  0 training\n",
      "Begin group  1 training\n"
     ]
    },
    {
     "name": "stderr",
     "output_type": "stream",
     "text": [
      "Epoch:  45%|██████████████████████████████████▋                                          | 9/20 [00:00<00:00, 88.47it/s]"
     ]
    },
    {
     "name": "stdout",
     "output_type": "stream",
     "text": [
      "Begin group  2 training\n"
     ]
    },
    {
     "name": "stderr",
     "output_type": "stream",
     "text": [
      "Epoch:  25%|███████████████████▎                                                         | 5/20 [00:00<00:00, 45.91it/s]"
     ]
    },
    {
     "name": "stdout",
     "output_type": "stream",
     "text": [
      "Begin group  3 training\n"
     ]
    },
    {
     "name": "stderr",
     "output_type": "stream",
     "text": [
      "Epoch:   0%|                                                                                     | 0/20 [00:00<?, ?it/s]"
     ]
    },
    {
     "name": "stdout",
     "output_type": "stream",
     "text": [
      "Begin group  4 training\n"
     ]
    },
    {
     "name": "stderr",
     "output_type": "stream",
     "text": [
      "                                                                                                                        \r"
     ]
    },
    {
     "name": "stdout",
     "output_type": "stream",
     "text": [
      "Group 0, clients ['f_00144', 'f_00023', 'f_00173']\n",
      "Group 1, clients ['f_00167', 'f_00028', 'f_00027', 'f_00107', 'f_00017', 'f_00118']\n",
      "Group 2, clients ['f_00029', 'f_00039', 'f_00109']\n",
      "Group 3, clients ['f_00122', 'f_00101', 'f_00121', 'f_00182', 'f_00181', 'f_00002']\n",
      "Group 4, clients ['f_00186', 'f_00075']\n"
     ]
    },
    {
     "name": "stderr",
     "output_type": "stream",
     "text": [
      "Epoch:   0%|                                                                                     | 0/20 [00:00<?, ?it/s]"
     ]
    },
    {
     "name": "stdout",
     "output_type": "stream",
     "text": [
      "Group 0\n",
      "At round 32 accuracy: 0.8036649214659686\n",
      "At round 32 training accuracy: 0.8055727554179567\n",
      "At round 32 training loss: 0.6697132987319131\n",
      "Group 1\n",
      "At round 32 accuracy: 0.6081871345029239\n",
      "At round 32 training accuracy: 0.6058721934369603\n",
      "At round 32 training loss: 0.9576025204749099\n",
      "Group 2\n",
      "At round 32 accuracy: 0.6794520547945205\n",
      "At round 32 training accuracy: 0.6750557502389296\n",
      "At round 32 training loss: 0.80501120106245\n",
      "Group 3\n",
      "At round 32 accuracy: 0.8304431599229287\n",
      "At round 32 training accuracy: 0.8179795282599021\n",
      "At round 32 training loss: 0.6086942977278191\n",
      "Group 4\n",
      "At round 32 accuracy: 0.7689873417721519\n",
      "At round 32 training accuracy: 0.7818250093879083\n",
      "At round 32 training loss: 0.5992192116909084\n",
      "At round 32 mean test accuracy: 0.7468814968814969 mean train accuracy: 0.744960721027952\n",
      "The groups difference are: [14.49268887 14.47297291 14.35541639 14.38486523 14.36019506]\n",
      "Begin group  0 training\n"
     ]
    },
    {
     "name": "stderr",
     "output_type": "stream",
     "text": [
      "Epoch:   0%|                                                                                     | 0/20 [00:00<?, ?it/s]"
     ]
    },
    {
     "name": "stdout",
     "output_type": "stream",
     "text": [
      "Begin group  1 training\n"
     ]
    },
    {
     "name": "stderr",
     "output_type": "stream",
     "text": [
      "Epoch:   0%|                                                                                     | 0/20 [00:00<?, ?it/s]"
     ]
    },
    {
     "name": "stdout",
     "output_type": "stream",
     "text": [
      "Begin group  2 training\n"
     ]
    },
    {
     "name": "stderr",
     "output_type": "stream",
     "text": [
      "Epoch:  25%|███████████████████▎                                                         | 5/20 [00:00<00:00, 47.60it/s]"
     ]
    },
    {
     "name": "stdout",
     "output_type": "stream",
     "text": [
      "Begin group  3 training\n"
     ]
    },
    {
     "name": "stderr",
     "output_type": "stream",
     "text": [
      "Epoch:   0%|                                                                                     | 0/20 [00:00<?, ?it/s]"
     ]
    },
    {
     "name": "stdout",
     "output_type": "stream",
     "text": [
      "Begin group  4 training\n"
     ]
    },
    {
     "name": "stderr",
     "output_type": "stream",
     "text": [
      "                                                                                                                        \r"
     ]
    },
    {
     "name": "stdout",
     "output_type": "stream",
     "text": [
      "Group 0, clients ['f_00103', 'f_00054']\n",
      "Group 1, clients ['f_00017', 'f_00117', 'f_00008', 'f_00118', 'f_00038']\n",
      "Group 2, clients ['f_00119', 'f_00100', 'f_00109', 'f_00029', 'f_00149', 'f_00189']\n",
      "Group 3, clients ['f_00171', 'f_00162', 'f_00081']\n",
      "Group 4, clients ['f_00015', 'f_00116', 'f_00126', 'f_00085']\n"
     ]
    },
    {
     "name": "stderr",
     "output_type": "stream",
     "text": [
      "Epoch:   0%|                                                                                     | 0/20 [00:00<?, ?it/s]"
     ]
    },
    {
     "name": "stdout",
     "output_type": "stream",
     "text": [
      "Group 0\n",
      "At round 33 accuracy: 0.7984293193717278\n",
      "At round 33 training accuracy: 0.8006191950464396\n",
      "At round 33 training loss: 0.6362088716067028\n",
      "Group 1\n",
      "At round 33 accuracy: 0.7192982456140351\n",
      "At round 33 training accuracy: 0.6825561312607945\n",
      "At round 33 training loss: 0.7975328843313589\n",
      "Group 2\n",
      "At round 33 accuracy: 0.7397260273972602\n",
      "At round 33 training accuracy: 0.7384517362217267\n",
      "At round 33 training loss: 1.051026480128219\n",
      "Group 3\n",
      "At round 33 accuracy: 0.7167630057803468\n",
      "At round 33 training accuracy: 0.7145082331998219\n",
      "At round 33 training loss: 0.6442738392311146\n",
      "Group 4\n",
      "At round 33 accuracy: 0.819620253164557\n",
      "At round 33 training accuracy: 0.8092377018400301\n",
      "At round 33 training loss: 0.6579179071502671\n",
      "At round 33 mean test accuracy: 0.7546777546777547 mean train accuracy: 0.74575239023202\n",
      "The groups difference are: [14.64054311 14.63463349 14.49409801 14.56007102 14.52830714]\n",
      "Begin group  0 training\n",
      "Begin group  1 training\n"
     ]
    },
    {
     "name": "stderr",
     "output_type": "stream",
     "text": [
      "Epoch:   0%|                                                                                     | 0/20 [00:00<?, ?it/s]"
     ]
    },
    {
     "name": "stdout",
     "output_type": "stream",
     "text": [
      "Begin group  2 training\n"
     ]
    },
    {
     "name": "stderr",
     "output_type": "stream",
     "text": [
      "Epoch:   0%|                                                                                     | 0/20 [00:00<?, ?it/s]"
     ]
    },
    {
     "name": "stdout",
     "output_type": "stream",
     "text": [
      "Begin group  3 training\n"
     ]
    },
    {
     "name": "stderr",
     "output_type": "stream",
     "text": [
      "Epoch:  45%|██████████████████████████████████▋                                          | 9/20 [00:00<00:00, 83.34it/s]"
     ]
    },
    {
     "name": "stdout",
     "output_type": "stream",
     "text": [
      "Begin group  4 training\n"
     ]
    },
    {
     "name": "stderr",
     "output_type": "stream",
     "text": [
      "                                                                                                                        \r"
     ]
    },
    {
     "name": "stdout",
     "output_type": "stream",
     "text": [
      "Group 0, clients ['f_00074', 'f_00183', 'f_00184', 'f_00064', 'f_00003', 'f_00113']\n",
      "Group 1, clients ['f_00087', 'f_00169', 'f_00097']\n",
      "Group 2, clients ['f_00010', 'f_00079', 'f_00129', 'f_00180', 'f_00189', 'f_00040']\n",
      "Group 3, clients ['f_00142']\n",
      "Group 4, clients ['f_00195', 'f_00166', 'f_00076', 'f_00026']\n"
     ]
    },
    {
     "name": "stderr",
     "output_type": "stream",
     "text": [
      "Epoch:   0%|                                                                                     | 0/20 [00:00<?, ?it/s]"
     ]
    },
    {
     "name": "stdout",
     "output_type": "stream",
     "text": [
      "Group 0\n",
      "At round 34 accuracy: 0.7984293193717278\n",
      "At round 34 training accuracy: 0.8071207430340557\n",
      "At round 34 training loss: 0.5148272312739316\n",
      "Group 1\n",
      "At round 34 accuracy: 0.631578947368421\n",
      "At round 34 training accuracy: 0.6093264248704663\n",
      "At round 34 training loss: 1.0717180874990058\n",
      "Group 2\n",
      "At round 34 accuracy: 0.7041095890410959\n",
      "At round 34 training accuracy: 0.6932143994902835\n",
      "At round 34 training loss: 0.8901268115427966\n",
      "Group 3\n",
      "At round 34 accuracy: 0.7341040462427746\n",
      "At round 34 training accuracy: 0.7289719626168224\n",
      "At round 34 training loss: 0.7178564458176938\n",
      "Group 4\n",
      "At round 34 accuracy: 0.8259493670886076\n",
      "At round 34 training accuracy: 0.819752159218926\n",
      "At round 34 training loss: 0.6558609360698198\n",
      "At round 34 mean test accuracy: 0.738045738045738 mean train accuracy: 0.7311369587723038\n",
      "The groups difference are: [14.73172522 14.75068348 14.60346161 14.6557788  14.64079018]\n",
      "Begin group  0 training\n"
     ]
    },
    {
     "name": "stderr",
     "output_type": "stream",
     "text": [
      "Epoch:  20%|███████████████▍                                                             | 4/20 [00:00<00:00, 32.15it/s]"
     ]
    },
    {
     "name": "stdout",
     "output_type": "stream",
     "text": [
      "Begin group  1 training\n"
     ]
    },
    {
     "name": "stderr",
     "output_type": "stream",
     "text": [
      "Epoch:  30%|███████████████████████                                                      | 6/20 [00:00<00:00, 51.88it/s]"
     ]
    },
    {
     "name": "stdout",
     "output_type": "stream",
     "text": [
      "Begin group  2 training\n"
     ]
    },
    {
     "name": "stderr",
     "output_type": "stream",
     "text": [
      "Epoch:   0%|                                                                                     | 0/20 [00:00<?, ?it/s]"
     ]
    },
    {
     "name": "stdout",
     "output_type": "stream",
     "text": [
      "Begin group  3 training\n",
      "Begin group  4 training\n"
     ]
    },
    {
     "name": "stderr",
     "output_type": "stream",
     "text": [
      "                                                                                                                        \r"
     ]
    },
    {
     "name": "stdout",
     "output_type": "stream",
     "text": [
      "Group 0, clients ['f_00133', 'f_00154', 'f_00164', 'f_00003', 'f_00043', 'f_00074']\n",
      "Group 1, clients ['f_00077', 'f_00068', 'f_00028', 'f_00127', 'f_00087']\n",
      "Group 2, clients ['f_00130', 'f_00049', 'f_00010', 'f_00179']\n",
      "Group 3, clients ['f_00142', 'f_00102']\n",
      "Group 4, clients ['f_00136', 'f_00096', 'f_00156']\n"
     ]
    },
    {
     "name": "stderr",
     "output_type": "stream",
     "text": [
      "Epoch:  35%|██████████████████████████▉                                                  | 7/20 [00:00<00:00, 68.74it/s]"
     ]
    },
    {
     "name": "stdout",
     "output_type": "stream",
     "text": [
      "Group 0\n",
      "At round 35 accuracy: 0.8036649214659686\n",
      "At round 35 training accuracy: 0.8346749226006192\n",
      "At round 35 training loss: 0.4461123096315484\n",
      "Group 1\n",
      "At round 35 accuracy: 0.716374269005848\n",
      "At round 35 training accuracy: 0.73713298791019\n",
      "At round 35 training loss: 1.0578947404917451\n",
      "Group 2\n",
      "At round 35 accuracy: 0.673972602739726\n",
      "At round 35 training accuracy: 0.6795157693532973\n",
      "At round 35 training loss: 0.6902466260179208\n",
      "Group 3\n",
      "At round 35 accuracy: 0.838150289017341\n",
      "At round 35 training accuracy: 0.8457943925233645\n",
      "At round 35 training loss: 0.4773690657458891\n",
      "Group 4\n",
      "At round 35 accuracy: 0.759493670886076\n",
      "At round 35 training accuracy: 0.7791963950431844\n",
      "At round 35 training loss: 0.8367216898631298\n",
      "At round 35 mean test accuracy: 0.7655925155925156 mean train accuracy: 0.7818646854637354\n",
      "The groups difference are: [14.92227079 14.96896369 14.83619461 14.84300709 14.84501699]\n",
      "Begin group  0 training\n"
     ]
    },
    {
     "name": "stderr",
     "output_type": "stream",
     "text": [
      "Epoch:   0%|                                                                                     | 0/20 [00:00<?, ?it/s]"
     ]
    },
    {
     "name": "stdout",
     "output_type": "stream",
     "text": [
      "Begin group  1 training\n"
     ]
    },
    {
     "name": "stderr",
     "output_type": "stream",
     "text": [
      "Epoch:   0%|                                                                                     | 0/20 [00:00<?, ?it/s]"
     ]
    },
    {
     "name": "stdout",
     "output_type": "stream",
     "text": [
      "Begin group  2 training\n"
     ]
    },
    {
     "name": "stderr",
     "output_type": "stream",
     "text": [
      "Epoch:  30%|███████████████████████                                                      | 6/20 [00:00<00:00, 55.54it/s]"
     ]
    },
    {
     "name": "stdout",
     "output_type": "stream",
     "text": [
      "Begin group  3 training\n"
     ]
    },
    {
     "name": "stderr",
     "output_type": "stream",
     "text": [
      "Epoch:  35%|██████████████████████████▉                                                  | 7/20 [00:00<00:00, 69.98it/s]"
     ]
    },
    {
     "name": "stdout",
     "output_type": "stream",
     "text": [
      "Begin group  4 training\n"
     ]
    },
    {
     "name": "stderr",
     "output_type": "stream",
     "text": [
      "                                                                                                                        \r"
     ]
    },
    {
     "name": "stdout",
     "output_type": "stream",
     "text": [
      "Group 0, clients ['f_00184', 'f_00143', 'f_00014', 'f_00053', 'f_00074']\n",
      "Group 1, clients ['f_00097', 'f_00198', 'f_00077', 'f_00058']\n",
      "Group 2, clients ['f_00010', 'f_00139']\n",
      "Group 3, clients ['f_00052', 'f_00092', 'f_00061']\n",
      "Group 4, clients ['f_00106', 'f_00155', 'f_00085', 'f_00156', 'f_00075', 'f_00056']\n"
     ]
    },
    {
     "name": "stderr",
     "output_type": "stream",
     "text": [
      "Epoch:   0%|                                                                                     | 0/20 [00:00<?, ?it/s]"
     ]
    },
    {
     "name": "stdout",
     "output_type": "stream",
     "text": [
      "Group 0\n",
      "At round 36 accuracy: 0.8036649214659686\n",
      "At round 36 training accuracy: 0.7826625386996904\n",
      "At round 36 training loss: 0.8034018557737855\n",
      "Group 1\n",
      "At round 36 accuracy: 0.7017543859649122\n",
      "At round 36 training accuracy: 0.7167530224525043\n",
      "At round 36 training loss: 0.8445010632328007\n",
      "Group 2\n",
      "At round 36 accuracy: 0.810958904109589\n",
      "At round 36 training accuracy: 0.8047148773494743\n",
      "At round 36 training loss: 0.6200489233200168\n",
      "Group 3\n",
      "At round 36 accuracy: 0.8285163776493256\n",
      "At round 36 training accuracy: 0.8255451713395638\n",
      "At round 36 training loss: 0.6326801473159603\n",
      "Group 4\n",
      "At round 36 accuracy: 0.7658227848101266\n",
      "At round 36 training accuracy: 0.7799474277131055\n",
      "At round 36 training loss: 1.0033438643353172\n",
      "At round 36 mean test accuracy: 0.7874220374220374 mean train accuracy: 0.7865538030570611\n",
      "The groups difference are: [15.20851541 15.24291389 15.11598851 15.12177352 15.09652611]\n",
      "Begin group  0 training\n"
     ]
    },
    {
     "name": "stderr",
     "output_type": "stream",
     "text": [
      "Epoch:   0%|                                                                                     | 0/20 [00:00<?, ?it/s]"
     ]
    },
    {
     "name": "stdout",
     "output_type": "stream",
     "text": [
      "Begin group  1 training\n"
     ]
    },
    {
     "name": "stderr",
     "output_type": "stream",
     "text": [
      "Epoch:  30%|███████████████████████                                                      | 6/20 [00:00<00:00, 55.42it/s]"
     ]
    },
    {
     "name": "stdout",
     "output_type": "stream",
     "text": [
      "Begin group  2 training\n"
     ]
    },
    {
     "name": "stderr",
     "output_type": "stream",
     "text": [
      "Epoch:  25%|███████████████████▎                                                         | 5/20 [00:00<00:00, 49.14it/s]"
     ]
    },
    {
     "name": "stdout",
     "output_type": "stream",
     "text": [
      "Begin group  3 training\n"
     ]
    },
    {
     "name": "stderr",
     "output_type": "stream",
     "text": [
      "Epoch:   0%|                                                                                     | 0/20 [00:00<?, ?it/s]"
     ]
    },
    {
     "name": "stdout",
     "output_type": "stream",
     "text": [
      "Begin group  4 training\n"
     ]
    },
    {
     "name": "stderr",
     "output_type": "stream",
     "text": [
      "                                                                                                                        \r"
     ]
    },
    {
     "name": "stdout",
     "output_type": "stream",
     "text": [
      "Group 0, clients ['f_00183', 'f_00004', 'f_00153', 'f_00003', 'f_00114', 'f_00174']\n",
      "Group 1, clients ['f_00187', 'f_00078']\n",
      "Group 2, clients ['f_00150', 'f_00069', 'f_00070', 'f_00020']\n",
      "Group 3, clients ['f_00121', 'f_00132', 'f_00002', 'f_00102', 'f_00081']\n",
      "Group 4, clients ['f_00125', 'f_00146', 'f_00195']\n"
     ]
    },
    {
     "name": "stderr",
     "output_type": "stream",
     "text": [
      "Epoch:   0%|                                                                                     | 0/20 [00:00<?, ?it/s]"
     ]
    },
    {
     "name": "stdout",
     "output_type": "stream",
     "text": [
      "Group 0\n",
      "At round 37 accuracy: 0.806282722513089\n",
      "At round 37 training accuracy: 0.8105263157894737\n",
      "At round 37 training loss: 0.5391883511015505\n",
      "Group 1\n",
      "At round 37 accuracy: 0.7543859649122807\n",
      "At round 37 training accuracy: 0.7471502590673575\n",
      "At round 37 training loss: 0.6624653350606895\n",
      "Group 2\n",
      "At round 37 accuracy: 0.810958904109589\n",
      "At round 37 training accuracy: 0.805989168525008\n",
      "At round 37 training loss: 0.7377847153248397\n",
      "Group 3\n",
      "At round 37 accuracy: 0.8420038535645472\n",
      "At round 37 training accuracy: 0.8455718736092568\n",
      "At round 37 training loss: 0.6117807165365193\n",
      "Group 4\n",
      "At round 37 accuracy: 0.7943037974683544\n",
      "At round 37 training accuracy: 0.7867067217423958\n",
      "At round 37 training loss: 0.51857695158066\n",
      "At round 37 mean test accuracy: 0.8056133056133056 mean train accuracy: 0.8042141160708849\n",
      "The groups difference are: [15.40389691 15.41569685 15.32306972 15.30217899 15.28190837]\n",
      "Begin group  0 training\n"
     ]
    },
    {
     "name": "stderr",
     "output_type": "stream",
     "text": [
      "Epoch:   0%|                                                                                     | 0/20 [00:00<?, ?it/s]"
     ]
    },
    {
     "name": "stdout",
     "output_type": "stream",
     "text": [
      "Begin group  1 training\n",
      "Begin group  2 training\n"
     ]
    },
    {
     "name": "stderr",
     "output_type": "stream",
     "text": [
      "Epoch:  25%|███████████████████▎                                                         | 5/20 [00:00<00:00, 44.81it/s]"
     ]
    },
    {
     "name": "stdout",
     "output_type": "stream",
     "text": [
      "Begin group  3 training\n"
     ]
    },
    {
     "name": "stderr",
     "output_type": "stream",
     "text": [
      "Epoch:   0%|                                                                                     | 0/20 [00:00<?, ?it/s]"
     ]
    },
    {
     "name": "stdout",
     "output_type": "stream",
     "text": [
      "Begin group  4 training\n"
     ]
    },
    {
     "name": "stderr",
     "output_type": "stream",
     "text": [
      "                                                                                                                        \r"
     ]
    },
    {
     "name": "stdout",
     "output_type": "stream",
     "text": [
      "Group 0, clients ['f_00124', 'f_00084', 'f_00174', 'f_00113']\n",
      "Group 1, clients ['f_00137', 'f_00058', 'f_00197', 'f_00176', 'f_00117']\n",
      "Group 2, clients ['f_00170', 'f_00120', 'f_00049']\n",
      "Group 3, clients ['f_00041', 'f_00191', 'f_00152', 'f_00172', 'f_00181', 'f_00011']\n",
      "Group 4, clients ['f_00136', 'f_00186']\n"
     ]
    },
    {
     "name": "stderr",
     "output_type": "stream",
     "text": [
      "Epoch:  35%|██████████████████████████▉                                                  | 7/20 [00:00<00:00, 62.95it/s]"
     ]
    },
    {
     "name": "stdout",
     "output_type": "stream",
     "text": [
      "Group 0\n",
      "At round 38 accuracy: 0.8534031413612565\n",
      "At round 38 training accuracy: 0.8640866873065015\n",
      "At round 38 training loss: 0.39660981577985427\n",
      "Group 1\n",
      "At round 38 accuracy: 0.7923976608187134\n",
      "At round 38 training accuracy: 0.7941278065630397\n",
      "At round 38 training loss: 0.6041789583900432\n",
      "Group 2\n",
      "At round 38 accuracy: 0.8054794520547945\n",
      "At round 38 training accuracy: 0.8005734310289901\n",
      "At round 38 training loss: 0.6733045129591434\n",
      "Group 3\n",
      "At round 38 accuracy: 0.7398843930635838\n",
      "At round 38 training accuracy: 0.7432131731197151\n",
      "At round 38 training loss: 0.5963669292691766\n",
      "Group 4\n",
      "At round 38 accuracy: 0.8132911392405063\n",
      "At round 38 training accuracy: 0.8081111528351483\n",
      "At round 38 training loss: 0.611227159012407\n",
      "At round 38 mean test accuracy: 0.7962577962577962 mean train accuracy: 0.797454479020766\n",
      "The groups difference are: [15.48512947 15.49852177 15.43145701 15.40639688 15.37396629]\n",
      "Begin group  0 training\n"
     ]
    },
    {
     "name": "stderr",
     "output_type": "stream",
     "text": [
      "Epoch:   0%|                                                                                     | 0/20 [00:00<?, ?it/s]"
     ]
    },
    {
     "name": "stdout",
     "output_type": "stream",
     "text": [
      "Begin group  1 training\n"
     ]
    },
    {
     "name": "stderr",
     "output_type": "stream",
     "text": [
      "Epoch:  65%|████████████████████████████████████████████████▊                          | 13/20 [00:00<00:00, 122.60it/s]"
     ]
    },
    {
     "name": "stdout",
     "output_type": "stream",
     "text": [
      "Begin group  2 training\n"
     ]
    },
    {
     "name": "stderr",
     "output_type": "stream",
     "text": [
      "Epoch:  65%|████████████████████████████████████████████████▊                          | 13/20 [00:00<00:00, 126.54it/s]"
     ]
    },
    {
     "name": "stdout",
     "output_type": "stream",
     "text": [
      "Begin group  3 training\n"
     ]
    },
    {
     "name": "stderr",
     "output_type": "stream",
     "text": [
      "Epoch:  40%|██████████████████████████████▊                                              | 8/20 [00:00<00:00, 75.10it/s]"
     ]
    },
    {
     "name": "stdout",
     "output_type": "stream",
     "text": [
      "Begin group  4 training\n"
     ]
    },
    {
     "name": "stderr",
     "output_type": "stream",
     "text": [
      "                                                                                                                        \r"
     ]
    },
    {
     "name": "stdout",
     "output_type": "stream",
     "text": [
      "Group 0, clients ['f_00173', 'f_00074', 'f_00044', 'f_00083', 'f_00023']\n",
      "Group 1, clients ['f_00128', 'f_00117', 'f_00108', 'f_00107']\n",
      "Group 2, clients ['f_00020', 'f_00019', 'f_00160']\n",
      "Group 3, clients ['f_00191', 'f_00192', 'f_00002']\n",
      "Group 4, clients ['f_00125', 'f_00095', 'f_00005', 'f_00006', 'f_00135']\n"
     ]
    },
    {
     "name": "stderr",
     "output_type": "stream",
     "text": [
      "Epoch:   0%|                                                                                     | 0/20 [00:00<?, ?it/s]"
     ]
    },
    {
     "name": "stdout",
     "output_type": "stream",
     "text": [
      "Group 0\n",
      "At round 39 accuracy: 0.7879581151832461\n",
      "At round 39 training accuracy: 0.7981424148606812\n",
      "At round 39 training loss: 0.5944724119300074\n",
      "Group 1\n",
      "At round 39 accuracy: 0.7105263157894737\n",
      "At round 39 training accuracy: 0.7305699481865285\n",
      "At round 39 training loss: 0.890055111230758\n",
      "Group 2\n",
      "At round 39 accuracy: 0.8191780821917808\n",
      "At round 39 training accuracy: 0.812360624402676\n",
      "At round 39 training loss: 0.624417254782551\n",
      "Group 3\n",
      "At round 39 accuracy: 0.766859344894027\n",
      "At round 39 training accuracy: 0.7790387182910548\n",
      "At round 39 training loss: 0.5089119318847822\n",
      "Group 4\n",
      "At round 39 accuracy: 0.7658227848101266\n",
      "At round 39 training accuracy: 0.7769432970334209\n",
      "At round 39 training loss: 0.8938028129741655\n",
      "At round 39 mean test accuracy: 0.7707900207900208 mean train accuracy: 0.7802813470555995\n",
      "The groups difference are: [15.58368358 15.57480039 15.52328688 15.50997799 15.47493278]\n",
      "Begin group  0 training\n"
     ]
    },
    {
     "name": "stderr",
     "output_type": "stream",
     "text": [
      "Epoch:   0%|                                                                                     | 0/20 [00:00<?, ?it/s]"
     ]
    },
    {
     "name": "stdout",
     "output_type": "stream",
     "text": [
      "Begin group  1 training\n"
     ]
    },
    {
     "name": "stderr",
     "output_type": "stream",
     "text": [
      "Epoch:   0%|                                                                                     | 0/20 [00:00<?, ?it/s]"
     ]
    },
    {
     "name": "stdout",
     "output_type": "stream",
     "text": [
      "Begin group  2 training\n"
     ]
    },
    {
     "name": "stderr",
     "output_type": "stream",
     "text": [
      "Epoch:   0%|                                                                                     | 0/20 [00:00<?, ?it/s]"
     ]
    },
    {
     "name": "stdout",
     "output_type": "stream",
     "text": [
      "Begin group  3 training\n"
     ]
    },
    {
     "name": "stderr",
     "output_type": "stream",
     "text": [
      "Epoch:   0%|                                                                                     | 0/20 [00:00<?, ?it/s]"
     ]
    },
    {
     "name": "stdout",
     "output_type": "stream",
     "text": [
      "Begin group  4 training\n"
     ]
    },
    {
     "name": "stderr",
     "output_type": "stream",
     "text": [
      "                                                                                                                        \r"
     ]
    },
    {
     "name": "stdout",
     "output_type": "stream",
     "text": [
      "Group 0, clients ['f_00183', 'f_00054', 'f_00134', 'f_00023']\n",
      "Group 1, clients ['f_00177', 'f_00037']\n",
      "Group 2, clients ['f_00160', 'f_00090', 'f_00139', 'f_00089', 'f_00140']\n",
      "Group 3, clients ['f_00191', 'f_00142', 'f_00171', 'f_00132']\n",
      "Group 4, clients ['f_00096', 'f_00005', 'f_00116', 'f_00035', 'f_00026']\n"
     ]
    },
    {
     "name": "stderr",
     "output_type": "stream",
     "text": [
      "Epoch:   0%|                                                                                     | 0/20 [00:00<?, ?it/s]"
     ]
    },
    {
     "name": "stdout",
     "output_type": "stream",
     "text": [
      "Group 0\n",
      "At round 40 accuracy: 0.8403141361256544\n",
      "At round 40 training accuracy: 0.8417956656346749\n",
      "At round 40 training loss: 0.44268667384197835\n",
      "Group 1\n",
      "At round 40 accuracy: 0.7690058479532164\n",
      "At round 40 training accuracy: 0.7861830742659758\n",
      "At round 40 training loss: 0.6164372405034066\n",
      "Group 2\n",
      "At round 40 accuracy: 0.8136986301369863\n",
      "At round 40 training accuracy: 0.8110863332271424\n",
      "At round 40 training loss: 0.7672384235653082\n",
      "Group 3\n",
      "At round 40 accuracy: 0.838150289017341\n",
      "At round 40 training accuracy: 0.8455718736092568\n",
      "At round 40 training loss: 0.4525340683708522\n",
      "Group 4\n",
      "At round 40 accuracy: 0.8259493670886076\n",
      "At round 40 training accuracy: 0.8201276755538865\n",
      "At round 40 training loss: 0.6922561550079948\n",
      "At round 40 mean test accuracy: 0.8196465696465697 mean train accuracy: 0.823640460386091\n",
      "The groups difference are: [15.75955201 15.76967564 15.76482228 15.6888525  15.69655702]\n",
      "Begin group  0 training\n"
     ]
    },
    {
     "name": "stderr",
     "output_type": "stream",
     "text": [
      "Epoch:  35%|██████████████████████████▉                                                  | 7/20 [00:00<00:00, 61.78it/s]"
     ]
    },
    {
     "name": "stdout",
     "output_type": "stream",
     "text": [
      "Begin group  1 training\n"
     ]
    },
    {
     "name": "stderr",
     "output_type": "stream",
     "text": [
      "Epoch:  20%|███████████████▍                                                             | 4/20 [00:00<00:00, 34.81it/s]"
     ]
    },
    {
     "name": "stdout",
     "output_type": "stream",
     "text": [
      "Begin group  2 training\n"
     ]
    },
    {
     "name": "stderr",
     "output_type": "stream",
     "text": [
      "Epoch:   0%|                                                                                     | 0/20 [00:00<?, ?it/s]"
     ]
    },
    {
     "name": "stdout",
     "output_type": "stream",
     "text": [
      "Begin group  3 training\n"
     ]
    },
    {
     "name": "stderr",
     "output_type": "stream",
     "text": [
      "Epoch:   0%|                                                                                     | 0/20 [00:00<?, ?it/s]"
     ]
    },
    {
     "name": "stdout",
     "output_type": "stream",
     "text": [
      "Begin group  4 training\n"
     ]
    },
    {
     "name": "stderr",
     "output_type": "stream",
     "text": [
      "                                                                                                                        \r"
     ]
    },
    {
     "name": "stdout",
     "output_type": "stream",
     "text": [
      "Group 0, clients ['f_00063', 'f_00014', 'f_00194']\n",
      "Group 1, clients ['f_00168', 'f_00068', 'f_00118', 'f_00038', 'f_00137']\n",
      "Group 2, clients ['f_00009', 'f_00030', 'f_00029', 'f_00130', 'f_00090']\n",
      "Group 3, clients ['f_00152', 'f_00091', 'f_00051', 'f_00172']\n",
      "Group 4, clients ['f_00096', 'f_00196', 'f_00165']\n"
     ]
    },
    {
     "name": "stderr",
     "output_type": "stream",
     "text": [
      "Epoch:   0%|                                                                                     | 0/20 [00:00<?, ?it/s]"
     ]
    },
    {
     "name": "stdout",
     "output_type": "stream",
     "text": [
      "Group 0\n",
      "At round 41 accuracy: 0.8350785340314136\n",
      "At round 41 training accuracy: 0.8417956656346749\n",
      "At round 41 training loss: 0.45053783961493904\n",
      "Group 1\n",
      "At round 41 accuracy: 0.7368421052631579\n",
      "At round 41 training accuracy: 0.7544041450777202\n",
      "At round 41 training loss: 1.0091999260563924\n",
      "Group 2\n",
      "At round 41 accuracy: 0.810958904109589\n",
      "At round 41 training accuracy: 0.809174896463842\n",
      "At round 41 training loss: 0.7757300426385402\n",
      "Group 3\n",
      "At round 41 accuracy: 0.7649325626204239\n",
      "At round 41 training accuracy: 0.767022696929239\n",
      "At round 41 training loss: 0.5492845275167841\n",
      "Group 4\n",
      "At round 41 accuracy: 0.7816455696202531\n",
      "At round 41 training accuracy: 0.7799474277131055\n",
      "At round 41 training loss: 0.5534499016664908\n",
      "At round 41 mean test accuracy: 0.7853430353430353 mean train accuracy: 0.7896595822422507\n",
      "The groups difference are: [15.93238558 15.95700863 15.9777173  15.84392946 15.88367577]\n",
      "Begin group  0 training\n"
     ]
    },
    {
     "name": "stderr",
     "output_type": "stream",
     "text": [
      "Epoch:  50%|██████████████████████████████████████                                      | 10/20 [00:00<00:00, 99.44it/s]"
     ]
    },
    {
     "name": "stdout",
     "output_type": "stream",
     "text": [
      "Begin group  1 training\n"
     ]
    },
    {
     "name": "stderr",
     "output_type": "stream",
     "text": [
      "Epoch:   0%|                                                                                     | 0/20 [00:00<?, ?it/s]"
     ]
    },
    {
     "name": "stdout",
     "output_type": "stream",
     "text": [
      "Begin group  2 training\n"
     ]
    },
    {
     "name": "stderr",
     "output_type": "stream",
     "text": [
      "Epoch:  35%|██████████████████████████▉                                                  | 7/20 [00:00<00:00, 65.78it/s]"
     ]
    },
    {
     "name": "stdout",
     "output_type": "stream",
     "text": [
      "Begin group  3 training\n"
     ]
    },
    {
     "name": "stderr",
     "output_type": "stream",
     "text": [
      "Epoch:  50%|██████████████████████████████████████                                      | 10/20 [00:00<00:00, 93.10it/s]"
     ]
    },
    {
     "name": "stdout",
     "output_type": "stream",
     "text": [
      "Begin group  4 training\n"
     ]
    },
    {
     "name": "stderr",
     "output_type": "stream",
     "text": [
      "                                                                                                                        \r"
     ]
    },
    {
     "name": "stdout",
     "output_type": "stream",
     "text": [
      "Group 0, clients ['f_00174']\n",
      "Group 1, clients ['f_00158', 'f_00128', 'f_00078', 'f_00177', 'f_00068']\n",
      "Group 2, clients ['f_00030', 'f_00069', 'f_00170']\n",
      "Group 3, clients ['f_00182', 'f_00152', 'f_00082']\n",
      "Group 4, clients ['f_00095', 'f_00015', 'f_00115', 'f_00045', 'f_00066', 'f_00165', 'f_00186', 'f_00056']\n"
     ]
    },
    {
     "name": "stderr",
     "output_type": "stream",
     "text": [
      "Epoch:  55%|█████████████████████████████████████████▎                                 | 11/20 [00:00<00:00, 109.75it/s]"
     ]
    },
    {
     "name": "stdout",
     "output_type": "stream",
     "text": [
      "Group 0\n",
      "At round 42 accuracy: 0.8036649214659686\n",
      "At round 42 training accuracy: 0.8092879256965945\n",
      "At round 42 training loss: 0.5557431036196995\n",
      "Group 1\n",
      "At round 42 accuracy: 0.672514619883041\n",
      "At round 42 training accuracy: 0.6449050086355785\n",
      "At round 42 training loss: 0.9596447139618104\n",
      "Group 2\n",
      "At round 42 accuracy: 0.7726027397260274\n",
      "At round 42 training accuracy: 0.7715833067856005\n",
      "At round 42 training loss: 0.6239510796638992\n",
      "Group 3\n",
      "At round 42 accuracy: 0.7726396917148363\n",
      "At round 42 training accuracy: 0.7841566533155319\n",
      "At round 42 training loss: 0.5030781873727725\n",
      "Group 4\n",
      "At round 42 accuracy: 0.7848101265822784\n",
      "At round 42 training accuracy: 0.7987232444611341\n",
      "At round 42 training loss: 0.5211572232626454\n",
      "At round 42 mean test accuracy: 0.762993762993763 mean train accuracy: 0.7645088606053224\n",
      "The groups difference are: [16.0510772  16.07460033 16.08390242 15.97466358 15.99563228]\n",
      "Begin group  0 training\n",
      "Begin group  1 training\n"
     ]
    },
    {
     "name": "stderr",
     "output_type": "stream",
     "text": [
      "Epoch:  55%|█████████████████████████████████████████▎                                 | 11/20 [00:00<00:00, 105.09it/s]"
     ]
    },
    {
     "name": "stdout",
     "output_type": "stream",
     "text": [
      "Begin group  2 training\n"
     ]
    },
    {
     "name": "stderr",
     "output_type": "stream",
     "text": [
      "Epoch:  30%|███████████████████████                                                      | 6/20 [00:00<00:00, 56.75it/s]"
     ]
    },
    {
     "name": "stdout",
     "output_type": "stream",
     "text": [
      "Begin group  3 training\n"
     ]
    },
    {
     "name": "stderr",
     "output_type": "stream",
     "text": [
      "Epoch:  45%|██████████████████████████████████▋                                          | 9/20 [00:00<00:00, 80.94it/s]"
     ]
    },
    {
     "name": "stdout",
     "output_type": "stream",
     "text": [
      "Begin group  4 training\n"
     ]
    },
    {
     "name": "stderr",
     "output_type": "stream",
     "text": [
      "                                                                                                                        \r"
     ]
    },
    {
     "name": "stdout",
     "output_type": "stream",
     "text": [
      "Group 0, clients ['f_00183', 'f_00133', 'f_00173', 'f_00093']\n",
      "Group 1, clients ['f_00037', 'f_00067', 'f_00188', 'f_00128', 'f_00017', 'f_00038']\n",
      "Group 2, clients ['f_00079', 'f_00080', 'f_00010', 'f_00149', 'f_00029']\n",
      "Group 3, clients ['f_00062']\n",
      "Group 4, clients ['f_00056', 'f_00065', 'f_00195', 'f_00146']\n"
     ]
    },
    {
     "name": "stderr",
     "output_type": "stream",
     "text": [
      "Epoch:   0%|                                                                                     | 0/20 [00:00<?, ?it/s]"
     ]
    },
    {
     "name": "stdout",
     "output_type": "stream",
     "text": [
      "Group 0\n",
      "At round 43 accuracy: 0.7905759162303665\n",
      "At round 43 training accuracy: 0.7863777089783281\n",
      "At round 43 training loss: 0.6609216757141769\n",
      "Group 1\n",
      "At round 43 accuracy: 0.7514619883040936\n",
      "At round 43 training accuracy: 0.7195164075993091\n",
      "At round 43 training loss: 0.7086896914171638\n",
      "Group 2\n",
      "At round 43 accuracy: 0.726027397260274\n",
      "At round 43 training accuracy: 0.7244345332908569\n",
      "At round 43 training loss: 0.6077377803008926\n",
      "Group 3\n",
      "At round 43 accuracy: 0.8477842003853564\n",
      "At round 43 training accuracy: 0.8533600356030263\n",
      "At round 43 training loss: 0.5384651469617989\n",
      "Group 4\n",
      "At round 43 accuracy: 0.8227848101265823\n",
      "At round 43 training accuracy: 0.8343972962823882\n",
      "At round 43 training loss: 0.46407111662248\n",
      "At round 43 mean test accuracy: 0.7920997920997921 mean train accuracy: 0.7888679130381828\n",
      "The groups difference are: [16.10511428 16.14667148 16.15341246 16.06560602 16.06889052]\n",
      "Begin group  0 training\n"
     ]
    },
    {
     "name": "stderr",
     "output_type": "stream",
     "text": [
      "Epoch:  35%|██████████████████████████▉                                                  | 7/20 [00:00<00:00, 66.08it/s]"
     ]
    },
    {
     "name": "stdout",
     "output_type": "stream",
     "text": [
      "Begin group  1 training\n"
     ]
    },
    {
     "name": "stderr",
     "output_type": "stream",
     "text": [
      "Epoch:  40%|██████████████████████████████▊                                              | 8/20 [00:00<00:00, 79.40it/s]"
     ]
    },
    {
     "name": "stdout",
     "output_type": "stream",
     "text": [
      "Begin group  2 training\n"
     ]
    },
    {
     "name": "stderr",
     "output_type": "stream",
     "text": [
      "Epoch:   5%|███▊                                                                         | 1/20 [00:00<00:03,  5.58it/s]"
     ]
    },
    {
     "name": "stdout",
     "output_type": "stream",
     "text": [
      "Begin group  3 training\n"
     ]
    },
    {
     "name": "stderr",
     "output_type": "stream",
     "text": [
      "Epoch:  70%|████████████████████████████████████████████████████▌                      | 14/20 [00:00<00:00, 135.92it/s]"
     ]
    },
    {
     "name": "stdout",
     "output_type": "stream",
     "text": [
      "Begin group  4 training\n"
     ]
    },
    {
     "name": "stderr",
     "output_type": "stream",
     "text": [
      "                                                                                                                        \r"
     ]
    },
    {
     "name": "stdout",
     "output_type": "stream",
     "text": [
      "Group 0, clients ['f_00073', 'f_00023', 'f_00054', 'f_00003', 'f_00114', 'f_00124', 'f_00064']\n",
      "Group 1, clients ['f_00157', 'f_00028', 'f_00068', 'f_00047']\n",
      "Group 2, clients ['f_00079', 'f_00180', 'f_00009', 'f_00089']\n",
      "Group 3, clients ['f_00111', 'f_00182']\n",
      "Group 4, clients ['f_00135', 'f_00035', 'f_00045']\n"
     ]
    },
    {
     "name": "stderr",
     "output_type": "stream",
     "text": [
      "Epoch:  25%|███████████████████▎                                                         | 5/20 [00:00<00:00, 41.79it/s]"
     ]
    },
    {
     "name": "stdout",
     "output_type": "stream",
     "text": [
      "Group 0\n",
      "At round 44 accuracy: 0.8089005235602095\n",
      "At round 44 training accuracy: 0.8117647058823529\n",
      "At round 44 training loss: 0.7263713828066001\n",
      "Group 1\n",
      "At round 44 accuracy: 0.7046783625730995\n",
      "At round 44 training accuracy: 0.7281519861830743\n",
      "At round 44 training loss: 0.9346797192137888\n",
      "Group 2\n",
      "At round 44 accuracy: 0.8054794520547945\n",
      "At round 44 training accuracy: 0.8021662949984071\n",
      "At round 44 training loss: 0.5790117914584003\n",
      "Group 3\n",
      "At round 44 accuracy: 0.8458574181117534\n",
      "At round 44 training accuracy: 0.8449043168669337\n",
      "At round 44 training loss: 0.7327513587497371\n",
      "Group 4\n",
      "At round 44 accuracy: 0.8322784810126582\n",
      "At round 44 training accuracy: 0.8144949305294781\n",
      "At round 44 training loss: 0.48606203482467075\n",
      "At round 44 mean test accuracy: 0.8035343035343036 mean train accuracy: 0.8047012971195421\n",
      "The groups difference are: [16.5877732  16.69044761 16.66889799 16.80975547 16.5716632 ]\n",
      "Begin group  0 training\n"
     ]
    },
    {
     "name": "stderr",
     "output_type": "stream",
     "text": [
      "Epoch:   0%|                                                                                     | 0/20 [00:00<?, ?it/s]"
     ]
    },
    {
     "name": "stdout",
     "output_type": "stream",
     "text": [
      "Begin group  1 training\n"
     ]
    },
    {
     "name": "stderr",
     "output_type": "stream",
     "text": [
      "Epoch:  45%|██████████████████████████████████▋                                          | 9/20 [00:00<00:00, 83.34it/s]"
     ]
    },
    {
     "name": "stdout",
     "output_type": "stream",
     "text": [
      "Begin group  2 training\n"
     ]
    },
    {
     "name": "stderr",
     "output_type": "stream",
     "text": [
      "Epoch:   0%|                                                                                     | 0/20 [00:00<?, ?it/s]"
     ]
    },
    {
     "name": "stdout",
     "output_type": "stream",
     "text": [
      "Begin group  3 training\n",
      "Begin group  4 training\n"
     ]
    },
    {
     "name": "stderr",
     "output_type": "stream",
     "text": [
      "                                                                                                                        \r"
     ]
    },
    {
     "name": "stdout",
     "output_type": "stream",
     "text": [
      "Group 0, clients ['f_00013', 'f_00153', 'f_00003', 'f_00044', 'f_00134', 'f_00173', 'f_00033']\n",
      "Group 1, clients ['f_00058']\n",
      "Group 2, clients ['f_00040', 'f_00080', 'f_00149', 'f_00129', 'f_00069', 'f_00190']\n",
      "Group 3, clients ['f_00072', 'f_00062', 'f_00182', 'f_00112']\n",
      "Group 4, clients ['f_00045', 'f_00025']\n"
     ]
    },
    {
     "name": "stderr",
     "output_type": "stream",
     "text": [
      "Epoch:   0%|                                                                                     | 0/20 [00:00<?, ?it/s]"
     ]
    },
    {
     "name": "stdout",
     "output_type": "stream",
     "text": [
      "Group 0\n",
      "At round 45 accuracy: 0.8219895287958116\n",
      "At round 45 training accuracy: 0.820123839009288\n",
      "At round 45 training loss: 0.5198544594894622\n",
      "Group 1\n",
      "At round 45 accuracy: 0.7485380116959064\n",
      "At round 45 training accuracy: 0.7409326424870466\n",
      "At round 45 training loss: 0.665661999125143\n",
      "Group 2\n",
      "At round 45 accuracy: 0.7753424657534247\n",
      "At round 45 training accuracy: 0.7550175215036636\n",
      "At round 45 training loss: 0.6014051333606224\n",
      "Group 3\n",
      "At round 45 accuracy: 0.7456647398843931\n",
      "At round 45 training accuracy: 0.746995994659546\n",
      "At round 45 training loss: 0.6542424695640073\n",
      "Group 4\n",
      "At round 45 accuracy: 0.8354430379746836\n",
      "At round 45 training accuracy: 0.8347728126173488\n",
      "At round 45 training loss: 0.7659051328830329\n",
      "At round 45 mean test accuracy: 0.7817047817047817 mean train accuracy: 0.7760794105109311\n",
      "The groups difference are: [16.68973707 16.77528994 16.76444894 16.87446623 16.67182202]\n",
      "Begin group  0 training\n"
     ]
    },
    {
     "name": "stderr",
     "output_type": "stream",
     "text": [
      "Epoch:   0%|                                                                                     | 0/20 [00:00<?, ?it/s]"
     ]
    },
    {
     "name": "stdout",
     "output_type": "stream",
     "text": [
      "Begin group  1 training\n",
      "Begin group  2 training\n"
     ]
    },
    {
     "name": "stderr",
     "output_type": "stream",
     "text": [
      "Epoch:   0%|                                                                                     | 0/20 [00:00<?, ?it/s]"
     ]
    },
    {
     "name": "stdout",
     "output_type": "stream",
     "text": [
      "Begin group  3 training\n"
     ]
    },
    {
     "name": "stderr",
     "output_type": "stream",
     "text": [
      "Epoch:   0%|                                                                                     | 0/20 [00:00<?, ?it/s]"
     ]
    },
    {
     "name": "stdout",
     "output_type": "stream",
     "text": [
      "Begin group  4 training\n"
     ]
    },
    {
     "name": "stderr",
     "output_type": "stream",
     "text": [
      "                                                                                                                        \r"
     ]
    },
    {
     "name": "stdout",
     "output_type": "stream",
     "text": [
      "Group 0, clients ['f_00123', 'f_00004', 'f_00083', 'f_00134', 'f_00113']\n",
      "Group 1, clients ['f_00037', 'f_00138', 'f_00017', 'f_00177', 'f_00008', 'f_00169']\n",
      "Group 2, clients ['f_00090', 'f_00110']\n",
      "Group 3, clients ['f_00111', 'f_00051', 'f_00151', 'f_00012']\n",
      "Group 4, clients ['f_00145', 'f_00025', 'f_00106']\n"
     ]
    },
    {
     "name": "stderr",
     "output_type": "stream",
     "text": [
      "Epoch:  20%|███████████████▍                                                             | 4/20 [00:00<00:00, 36.27it/s]"
     ]
    },
    {
     "name": "stdout",
     "output_type": "stream",
     "text": [
      "Group 0\n",
      "At round 46 accuracy: 0.8638743455497382\n",
      "At round 46 training accuracy: 0.8777089783281734\n",
      "At round 46 training loss: 0.3740169395880064\n",
      "Group 1\n",
      "At round 46 accuracy: 0.695906432748538\n",
      "At round 46 training accuracy: 0.6784110535405872\n",
      "At round 46 training loss: 0.8638294575024968\n",
      "Group 2\n",
      "At round 46 accuracy: 0.8191780821917808\n",
      "At round 46 training accuracy: 0.8063077413188914\n",
      "At round 46 training loss: 0.5166724925209816\n",
      "Group 3\n",
      "At round 46 accuracy: 0.8497109826589595\n",
      "At round 46 training accuracy: 0.8509123275478415\n",
      "At round 46 training loss: 0.6856785365473603\n",
      "Group 4\n",
      "At round 46 accuracy: 0.8291139240506329\n",
      "At round 46 training accuracy: 0.8295155839279008\n",
      "At round 46 training loss: 0.8255057849753767\n",
      "At round 46 mean test accuracy: 0.816008316008316 mean train accuracy: 0.8137750441507825\n",
      "The groups difference are: [16.99755477 17.11059409 17.11156378 17.42080384 17.02168222]\n",
      "Begin group  0 training\n"
     ]
    },
    {
     "name": "stderr",
     "output_type": "stream",
     "text": [
      "Epoch:  40%|██████████████████████████████▊                                              | 8/20 [00:00<00:00, 78.28it/s]"
     ]
    },
    {
     "name": "stdout",
     "output_type": "stream",
     "text": [
      "Begin group  1 training\n"
     ]
    },
    {
     "name": "stderr",
     "output_type": "stream",
     "text": [
      "Epoch:  40%|██████████████████████████████▊                                              | 8/20 [00:00<00:00, 70.79it/s]"
     ]
    },
    {
     "name": "stdout",
     "output_type": "stream",
     "text": [
      "Begin group  2 training\n"
     ]
    },
    {
     "name": "stderr",
     "output_type": "stream",
     "text": [
      "Epoch:   0%|                                                                                     | 0/20 [00:00<?, ?it/s]"
     ]
    },
    {
     "name": "stdout",
     "output_type": "stream",
     "text": [
      "Begin group  3 training\n"
     ]
    },
    {
     "name": "stderr",
     "output_type": "stream",
     "text": [
      "Epoch:   0%|                                                                                     | 0/20 [00:00<?, ?it/s]"
     ]
    },
    {
     "name": "stdout",
     "output_type": "stream",
     "text": [
      "Begin group  4 training\n"
     ]
    },
    {
     "name": "stderr",
     "output_type": "stream",
     "text": [
      "                                                                                                                        \r"
     ]
    },
    {
     "name": "stdout",
     "output_type": "stream",
     "text": [
      "Group 0, clients ['f_00094', 'f_00154', 'f_00133', 'f_00083']\n",
      "Group 1, clients ['f_00138', 'f_00108']\n",
      "Group 2, clients ['f_00000', 'f_00170', 'f_00020', 'f_00009']\n",
      "Group 3, clients ['f_00091', 'f_00191', 'f_00141', 'f_00062', 'f_00132']\n",
      "Group 4, clients ['f_00005', 'f_00036', 'f_00106', 'f_00016', 'f_00025']\n"
     ]
    },
    {
     "name": "stderr",
     "output_type": "stream",
     "text": [
      "Epoch:  45%|██████████████████████████████████▋                                          | 9/20 [00:00<00:00, 86.36it/s]"
     ]
    },
    {
     "name": "stdout",
     "output_type": "stream",
     "text": [
      "Group 0\n",
      "At round 47 accuracy: 0.8115183246073299\n",
      "At round 47 training accuracy: 0.8160990712074303\n",
      "At round 47 training loss: 0.5177228134990477\n",
      "Group 1\n",
      "At round 47 accuracy: 0.6929824561403509\n",
      "At round 47 training accuracy: 0.7298791018998273\n",
      "At round 47 training loss: 0.781328645827239\n",
      "Group 2\n",
      "At round 47 accuracy: 0.7945205479452054\n",
      "At round 47 training accuracy: 0.810767760433259\n",
      "At round 47 training loss: 0.7155871241905006\n",
      "Group 3\n",
      "At round 47 accuracy: 0.7803468208092486\n",
      "At round 47 training accuracy: 0.7890520694259012\n",
      "At round 47 training loss: 0.5361508782049471\n",
      "Group 4\n",
      "At round 47 accuracy: 0.8291139240506329\n",
      "At round 47 training accuracy: 0.8272624859181374\n",
      "At round 47 training loss: 0.7895309657384434\n",
      "At round 47 mean test accuracy: 0.7817047817047817 mean train accuracy: 0.7942878022044942\n",
      "The groups difference are: [17.08970206 17.19201793 17.19247833 17.46319918 17.08866635]\n",
      "Begin group  0 training\n"
     ]
    },
    {
     "name": "stderr",
     "output_type": "stream",
     "text": [
      "Epoch:  60%|█████████████████████████████████████████████                              | 12/20 [00:00<00:00, 111.22it/s]"
     ]
    },
    {
     "name": "stdout",
     "output_type": "stream",
     "text": [
      "Begin group  1 training\n"
     ]
    },
    {
     "name": "stderr",
     "output_type": "stream",
     "text": [
      "Epoch:   0%|                                                                                     | 0/20 [00:00<?, ?it/s]"
     ]
    },
    {
     "name": "stdout",
     "output_type": "stream",
     "text": [
      "Begin group  2 training\n"
     ]
    },
    {
     "name": "stderr",
     "output_type": "stream",
     "text": [
      "Epoch:  35%|██████████████████████████▉                                                  | 7/20 [00:00<00:00, 61.92it/s]"
     ]
    },
    {
     "name": "stdout",
     "output_type": "stream",
     "text": [
      "Begin group  3 training\n"
     ]
    },
    {
     "name": "stderr",
     "output_type": "stream",
     "text": [
      "Epoch:  25%|███████████████████▎                                                         | 5/20 [00:00<00:00, 44.84it/s]"
     ]
    },
    {
     "name": "stdout",
     "output_type": "stream",
     "text": [
      "Begin group  4 training\n"
     ]
    },
    {
     "name": "stderr",
     "output_type": "stream",
     "text": [
      "                                                                                                                        \r"
     ]
    },
    {
     "name": "stdout",
     "output_type": "stream",
     "text": [
      "Group 0, clients ['f_00013', 'f_00173', 'f_00163', 'f_00184', 'f_00183']\n",
      "Group 1, clients ['f_00078', 'f_00197', 'f_00137', 'f_00008']\n",
      "Group 2, clients ['f_00129']\n",
      "Group 3, clients ['f_00031', 'f_00041', 'f_00132', 'f_00192', 'f_00072', 'f_00071']\n",
      "Group 4, clients ['f_00085', 'f_00165', 'f_00026', 'f_00195']\n"
     ]
    },
    {
     "name": "stderr",
     "output_type": "stream",
     "text": [
      "Epoch:   0%|                                                                                     | 0/20 [00:00<?, ?it/s]"
     ]
    },
    {
     "name": "stdout",
     "output_type": "stream",
     "text": [
      "Group 0\n",
      "At round 48 accuracy: 0.8089005235602095\n",
      "At round 48 training accuracy: 0.820123839009288\n",
      "At round 48 training loss: 0.523518907142682\n",
      "Group 1\n",
      "At round 48 accuracy: 0.7046783625730995\n",
      "At round 48 training accuracy: 0.690846286701209\n",
      "At round 48 training loss: 1.0208526047297297\n",
      "Group 2\n",
      "At round 48 accuracy: 0.821917808219178\n",
      "At round 48 training accuracy: 0.8200063714558776\n",
      "At round 48 training loss: 0.5888503607992687\n",
      "Group 3\n",
      "At round 48 accuracy: 0.8439306358381503\n",
      "At round 48 training accuracy: 0.8502447708055185\n",
      "At round 48 training loss: 0.6384625148258583\n",
      "Group 4\n",
      "At round 48 accuracy: 0.8259493670886076\n",
      "At round 48 training accuracy: 0.8208787082238077\n",
      "At round 48 training loss: 0.6745793290248814\n",
      "At round 48 mean test accuracy: 0.8050935550935551 mean train accuracy: 0.8056756592168565\n",
      "The groups difference are: [17.38264162 17.51170051 17.49558978 17.94309141 17.42662797]\n",
      "Begin group  0 training\n"
     ]
    },
    {
     "name": "stderr",
     "output_type": "stream",
     "text": [
      "Epoch:  65%|████████████████████████████████████████████████▊                          | 13/20 [00:00<00:00, 129.88it/s]"
     ]
    },
    {
     "name": "stdout",
     "output_type": "stream",
     "text": [
      "Begin group  1 training\n"
     ]
    },
    {
     "name": "stderr",
     "output_type": "stream",
     "text": [
      "Epoch:   0%|                                                                                     | 0/20 [00:00<?, ?it/s]"
     ]
    },
    {
     "name": "stdout",
     "output_type": "stream",
     "text": [
      "Begin group  2 training\n",
      "Begin group  3 training\n"
     ]
    },
    {
     "name": "stderr",
     "output_type": "stream",
     "text": [
      "Epoch:   0%|                                                                                     | 0/20 [00:00<?, ?it/s]"
     ]
    },
    {
     "name": "stdout",
     "output_type": "stream",
     "text": [
      "Begin group  4 training\n"
     ]
    },
    {
     "name": "stderr",
     "output_type": "stream",
     "text": [
      "                                                                                                                        \r"
     ]
    },
    {
     "name": "stdout",
     "output_type": "stream",
     "text": [
      "Group 0, clients ['f_00144', 'f_00104', 'f_00153', 'f_00013']\n",
      "Group 1, clients ['f_00107', 'f_00017', 'f_00148', 'f_00007', 'f_00067']\n",
      "Group 2, clients ['f_00150', 'f_00180', 'f_00189', 'f_00029', 'f_00089']\n",
      "Group 3, clients ['f_00111', 'f_00181', 'f_00132']\n",
      "Group 4, clients ['f_00195', 'f_00065', 'f_00046']\n"
     ]
    },
    {
     "name": "stderr",
     "output_type": "stream",
     "text": [
      "Epoch:   0%|                                                                                     | 0/20 [00:00<?, ?it/s]"
     ]
    },
    {
     "name": "stdout",
     "output_type": "stream",
     "text": [
      "Group 0\n",
      "At round 49 accuracy: 0.8324607329842932\n",
      "At round 49 training accuracy: 0.8309597523219814\n",
      "At round 49 training loss: 0.4613038874724332\n",
      "Group 1\n",
      "At round 49 accuracy: 0.7368421052631579\n",
      "At round 49 training accuracy: 0.7540587219343696\n",
      "At round 49 training loss: 0.7029334643447132\n",
      "Group 2\n",
      "At round 49 accuracy: 0.7424657534246575\n",
      "At round 49 training accuracy: 0.7483274928321121\n",
      "At round 49 training loss: 0.9265010356475837\n",
      "Group 3\n",
      "At round 49 accuracy: 0.8053949903660886\n",
      "At round 49 training accuracy: 0.8253226524254562\n",
      "At round 49 training loss: 0.47013470200257246\n",
      "Group 4\n",
      "At round 49 accuracy: 0.8037974683544303\n",
      "At round 49 training accuracy: 0.7998497934660158\n",
      "At round 49 training loss: 0.5174319371105449\n",
      "At round 49 mean test accuracy: 0.7863825363825364 mean train accuracy: 0.7950185737774801\n",
      "The groups difference are: [17.38423797 17.50481002 17.49959703 17.93015341 17.42884635]\n",
      "Begin group  0 training\n"
     ]
    },
    {
     "name": "stderr",
     "output_type": "stream",
     "text": [
      "Epoch:   0%|                                                                                     | 0/20 [00:00<?, ?it/s]"
     ]
    },
    {
     "name": "stdout",
     "output_type": "stream",
     "text": [
      "Begin group  1 training\n"
     ]
    },
    {
     "name": "stderr",
     "output_type": "stream",
     "text": [
      "Epoch:  30%|███████████████████████                                                      | 6/20 [00:00<00:00, 53.09it/s]"
     ]
    },
    {
     "name": "stdout",
     "output_type": "stream",
     "text": [
      "Begin group  2 training\n"
     ]
    },
    {
     "name": "stderr",
     "output_type": "stream",
     "text": [
      "Epoch:   0%|                                                                                     | 0/20 [00:00<?, ?it/s]"
     ]
    },
    {
     "name": "stdout",
     "output_type": "stream",
     "text": [
      "Begin group  3 training\n"
     ]
    },
    {
     "name": "stderr",
     "output_type": "stream",
     "text": [
      "Epoch:   0%|                                                                                     | 0/20 [00:00<?, ?it/s]"
     ]
    },
    {
     "name": "stdout",
     "output_type": "stream",
     "text": [
      "Begin group  4 training\n"
     ]
    },
    {
     "name": "stderr",
     "output_type": "stream",
     "text": [
      "                                                                                                                        \r"
     ]
    },
    {
     "name": "stdout",
     "output_type": "stream",
     "text": [
      "Group 0, clients ['f_00073', 'f_00144', 'f_00023']\n",
      "Group 1, clients ['f_00008', 'f_00088', 'f_00197', 'f_00138']\n",
      "Group 2, clients ['f_00020', 'f_00199', 'f_00039', 'f_00069', 'f_00160', 'f_00099', 'f_00159']\n",
      "Group 3, clients ['f_00112', 'f_00012', 'f_00081', 'f_00151']\n",
      "Group 4, clients ['f_00165', 'f_00025']\n"
     ]
    },
    {
     "name": "stderr",
     "output_type": "stream",
     "text": [
      "Epoch:  25%|███████████████████▎                                                         | 5/20 [00:00<00:00, 40.64it/s]"
     ]
    },
    {
     "name": "stdout",
     "output_type": "stream",
     "text": [
      "Group 0\n",
      "At round 50 accuracy: 0.8664921465968587\n",
      "At round 50 training accuracy: 0.8814241486068112\n",
      "At round 50 training loss: 0.3663047215840765\n",
      "Group 1\n",
      "At round 50 accuracy: 0.7456140350877193\n",
      "At round 50 training accuracy: 0.7578583765112262\n",
      "At round 50 training loss: 0.9856417403474373\n",
      "Group 2\n",
      "At round 50 accuracy: 0.7863013698630137\n",
      "At round 50 training accuracy: 0.7588403950302645\n",
      "At round 50 training loss: 0.5787802342967495\n",
      "Group 3\n",
      "At round 50 accuracy: 0.8073217726396917\n",
      "At round 50 training accuracy: 0.8104138851802403\n",
      "At round 50 training loss: 0.49467076732879434\n",
      "Group 4\n",
      "At round 50 accuracy: 0.8291139240506329\n",
      "At round 50 training accuracy: 0.819752159218926\n",
      "At round 50 training loss: 0.5059553677208478\n",
      "At round 50 mean test accuracy: 0.8076923076923077 mean train accuracy: 0.8067718165763352\n",
      "The groups difference are: [17.45141567 17.60394737 17.58174    17.98003947 17.4887042 ]\n",
      "Begin group  0 training\n"
     ]
    },
    {
     "name": "stderr",
     "output_type": "stream",
     "text": [
      "Epoch:  75%|████████████████████████████████████████████████████████▎                  | 15/20 [00:00<00:00, 141.56it/s]"
     ]
    },
    {
     "name": "stdout",
     "output_type": "stream",
     "text": [
      "Begin group  1 training\n"
     ]
    },
    {
     "name": "stderr",
     "output_type": "stream",
     "text": [
      "Epoch:   0%|                                                                                     | 0/20 [00:00<?, ?it/s]"
     ]
    },
    {
     "name": "stdout",
     "output_type": "stream",
     "text": [
      "Begin group  2 training\n"
     ]
    },
    {
     "name": "stderr",
     "output_type": "stream",
     "text": [
      "Epoch:   0%|                                                                                     | 0/20 [00:00<?, ?it/s]"
     ]
    },
    {
     "name": "stdout",
     "output_type": "stream",
     "text": [
      "Begin group  3 training\n"
     ]
    },
    {
     "name": "stderr",
     "output_type": "stream",
     "text": [
      "Epoch:   0%|                                                                                     | 0/20 [00:00<?, ?it/s]"
     ]
    },
    {
     "name": "stdout",
     "output_type": "stream",
     "text": [
      "Begin group  4 training\n"
     ]
    },
    {
     "name": "stderr",
     "output_type": "stream",
     "text": [
      "                                                                                                                        \r"
     ]
    },
    {
     "name": "stdout",
     "output_type": "stream",
     "text": [
      "Group 0, clients ['f_00104', 'f_00004', 'f_00174', 'f_00023', 'f_00014']\n",
      "Group 1, clients ['f_00148', 'f_00007', 'f_00118', 'f_00058', 'f_00067', 'f_00068', 'f_00177', 'f_00128']\n",
      "Group 2, clients ['f_00160', 'f_00190', 'f_00010']\n",
      "Group 3, clients ['f_00192', 'f_00171']\n",
      "Group 4, clients ['f_00115', 'f_00086']\n"
     ]
    },
    {
     "name": "stderr",
     "output_type": "stream",
     "text": [
      "Epoch:   0%|                                                                                     | 0/20 [00:00<?, ?it/s]"
     ]
    },
    {
     "name": "stdout",
     "output_type": "stream",
     "text": [
      "Group 0\n",
      "At round 51 accuracy: 0.8089005235602095\n",
      "At round 51 training accuracy: 0.8108359133126934\n",
      "At round 51 training loss: 0.6978561000489044\n",
      "Group 1\n",
      "At round 51 accuracy: 0.7426900584795322\n",
      "At round 51 training accuracy: 0.7626943005181347\n",
      "At round 51 training loss: 0.6226528213843575\n",
      "Group 2\n",
      "At round 51 accuracy: 0.7780821917808219\n",
      "At round 51 training accuracy: 0.7566103854730806\n",
      "At round 51 training loss: 0.5802586644593604\n",
      "Group 3\n",
      "At round 51 accuracy: 0.8227360308285164\n",
      "At round 51 training accuracy: 0.8355585224744103\n",
      "At round 51 training loss: 0.40866059808596855\n",
      "Group 4\n",
      "At round 51 accuracy: 0.8291139240506329\n",
      "At round 51 training accuracy: 0.8272624859181374\n",
      "At round 51 training loss: 0.7167081676208118\n",
      "At round 51 mean test accuracy: 0.7983367983367984 mean train accuracy: 0.8014128250411059\n",
      "The groups difference are: [17.55369318 17.68204059 17.69221793 18.03751471 17.58052285]\n",
      "Begin group  0 training\n"
     ]
    },
    {
     "name": "stderr",
     "output_type": "stream",
     "text": [
      "Epoch:   0%|                                                                                     | 0/20 [00:00<?, ?it/s]"
     ]
    },
    {
     "name": "stdout",
     "output_type": "stream",
     "text": [
      "Begin group  1 training\n"
     ]
    },
    {
     "name": "stderr",
     "output_type": "stream",
     "text": [
      "Epoch:  15%|███████████▌                                                                 | 3/20 [00:00<00:00, 27.35it/s]"
     ]
    },
    {
     "name": "stdout",
     "output_type": "stream",
     "text": [
      "Begin group  2 training\n"
     ]
    },
    {
     "name": "stderr",
     "output_type": "stream",
     "text": [
      "Epoch:   0%|                                                                                     | 0/20 [00:00<?, ?it/s]"
     ]
    },
    {
     "name": "stdout",
     "output_type": "stream",
     "text": [
      "Begin group  3 training\n"
     ]
    },
    {
     "name": "stderr",
     "output_type": "stream",
     "text": [
      "Epoch:  85%|███████████████████████████████████████████████████████████████▊           | 17/20 [00:00<00:00, 160.39it/s]"
     ]
    },
    {
     "name": "stdout",
     "output_type": "stream",
     "text": [
      "Begin group  4 training\n"
     ]
    },
    {
     "name": "stderr",
     "output_type": "stream",
     "text": [
      "                                                                                                                        \r"
     ]
    },
    {
     "name": "stdout",
     "output_type": "stream",
     "text": [
      "Group 0, clients ['f_00114', 'f_00104', 'f_00023', 'f_00093', 'f_00003']\n",
      "Group 1, clients ['f_00176', 'f_00047', 'f_00027', 'f_00098', 'f_00067']\n",
      "Group 2, clients ['f_00119', 'f_00189', 'f_00040']\n",
      "Group 3, clients ['f_00062', 'f_00132', 'f_00131', 'f_00091']\n",
      "Group 4, clients ['f_00056', 'f_00145', 'f_00115']\n"
     ]
    },
    {
     "name": "stderr",
     "output_type": "stream",
     "text": [
      "Epoch:   0%|                                                                                     | 0/20 [00:00<?, ?it/s]"
     ]
    },
    {
     "name": "stdout",
     "output_type": "stream",
     "text": [
      "Group 0\n",
      "At round 52 accuracy: 0.8612565445026178\n",
      "At round 52 training accuracy: 0.8702786377708979\n",
      "At round 52 training loss: 0.36760170605529574\n",
      "Group 1\n",
      "At round 52 accuracy: 0.7017543859649122\n",
      "At round 52 training accuracy: 0.7091537132987911\n",
      "At round 52 training loss: 0.7425661873426256\n",
      "Group 2\n",
      "At round 52 accuracy: 0.7917808219178082\n",
      "At round 52 training accuracy: 0.8158649251353934\n",
      "At round 52 training loss: 0.7742422680522121\n",
      "Group 3\n",
      "At round 52 accuracy: 0.7957610789980732\n",
      "At round 52 training accuracy: 0.8046283934134402\n",
      "At round 52 training loss: 0.48667924104463167\n",
      "Group 4\n",
      "At round 52 accuracy: 0.8607594936708861\n",
      "At round 52 training accuracy: 0.8820878708223808\n",
      "At round 52 training loss: 0.3775140281754063\n",
      "At round 52 mean test accuracy: 0.8019750519750519 mean train accuracy: 0.8154192801900007\n",
      "The groups difference are: [17.66489675 17.80932032 17.83557073 18.12018128 17.67180879]\n",
      "Begin group  0 training\n"
     ]
    },
    {
     "name": "stderr",
     "output_type": "stream",
     "text": [
      "Epoch:   0%|                                                                                     | 0/20 [00:00<?, ?it/s]"
     ]
    },
    {
     "name": "stdout",
     "output_type": "stream",
     "text": [
      "Begin group  1 training\n"
     ]
    },
    {
     "name": "stderr",
     "output_type": "stream",
     "text": [
      "Epoch:   0%|                                                                                     | 0/20 [00:00<?, ?it/s]"
     ]
    },
    {
     "name": "stdout",
     "output_type": "stream",
     "text": [
      "Begin group  2 training\n"
     ]
    },
    {
     "name": "stderr",
     "output_type": "stream",
     "text": [
      "Epoch:   5%|███▊                                                                         | 1/20 [00:00<00:02,  6.65it/s]"
     ]
    },
    {
     "name": "stdout",
     "output_type": "stream",
     "text": [
      "Begin group  3 training\n"
     ]
    },
    {
     "name": "stderr",
     "output_type": "stream",
     "text": [
      "Epoch:   0%|                                                                                     | 0/20 [00:00<?, ?it/s]"
     ]
    },
    {
     "name": "stdout",
     "output_type": "stream",
     "text": [
      "Begin group  4 training\n"
     ]
    },
    {
     "name": "stderr",
     "output_type": "stream",
     "text": [
      "                                                                                                                        \r"
     ]
    },
    {
     "name": "stdout",
     "output_type": "stream",
     "text": [
      "Group 0, clients ['f_00143', 'f_00074', 'f_00163', 'f_00053']\n",
      "Group 1, clients ['f_00188', 'f_00168']\n",
      "Group 2, clients ['f_00100', 'f_00120', 'f_00149', 'f_00109', 'f_00050', 'f_00190', 'f_00179']\n",
      "Group 3, clients ['f_00172', 'f_00132', 'f_00001']\n",
      "Group 4, clients ['f_00115', 'f_00185', 'f_00066', 'f_00175']\n"
     ]
    },
    {
     "name": "stderr",
     "output_type": "stream",
     "text": [
      "Epoch:  70%|████████████████████████████████████████████████████▌                      | 14/20 [00:00<00:00, 135.65it/s]"
     ]
    },
    {
     "name": "stdout",
     "output_type": "stream",
     "text": [
      "Group 0\n",
      "At round 53 accuracy: 0.8089005235602095\n",
      "At round 53 training accuracy: 0.8123839009287925\n",
      "At round 53 training loss: 0.5813460436583303\n",
      "Group 1\n",
      "At round 53 accuracy: 0.7251461988304093\n",
      "At round 53 training accuracy: 0.7347150259067358\n",
      "At round 53 training loss: 0.6950961947852877\n",
      "Group 2\n",
      "At round 53 accuracy: 0.7589041095890411\n",
      "At round 53 training accuracy: 0.7460974832749283\n",
      "At round 53 training loss: 0.7541896915713022\n",
      "Group 3\n",
      "At round 53 accuracy: 0.8689788053949904\n",
      "At round 53 training accuracy: 0.8669336893635959\n",
      "At round 53 training loss: 0.6102675613020864\n",
      "Group 4\n",
      "At round 53 accuracy: 0.8259493670886076\n",
      "At round 53 training accuracy: 0.8208787082238077\n",
      "At round 53 training loss: 0.4668933683506224\n",
      "At round 53 mean test accuracy: 0.8035343035343036 mean train accuracy: 0.8023262895073382\n",
      "The groups difference are: [17.96819992 18.15006882 18.15198045 18.58483966 17.98629841]\n",
      "Begin group  0 training\n"
     ]
    },
    {
     "name": "stderr",
     "output_type": "stream",
     "text": [
      "Epoch:   0%|                                                                                     | 0/20 [00:00<?, ?it/s]"
     ]
    },
    {
     "name": "stdout",
     "output_type": "stream",
     "text": [
      "Begin group  1 training\n",
      "Begin group  2 training\n"
     ]
    },
    {
     "name": "stderr",
     "output_type": "stream",
     "text": [
      "Epoch:  40%|██████████████████████████████▊                                              | 8/20 [00:00<00:00, 70.96it/s]"
     ]
    },
    {
     "name": "stdout",
     "output_type": "stream",
     "text": [
      "Begin group  3 training\n"
     ]
    },
    {
     "name": "stderr",
     "output_type": "stream",
     "text": [
      "Epoch:  80%|████████████████████████████████████████████████████████████               | 16/20 [00:00<00:00, 154.74it/s]"
     ]
    },
    {
     "name": "stdout",
     "output_type": "stream",
     "text": [
      "Begin group  4 training\n"
     ]
    },
    {
     "name": "stderr",
     "output_type": "stream",
     "text": [
      "                                                                                                                        \r"
     ]
    },
    {
     "name": "stdout",
     "output_type": "stream",
     "text": [
      "Group 0, clients ['f_00134', 'f_00043', 'f_00194', 'f_00044', 'f_00004']\n",
      "Group 1, clients ['f_00187', 'f_00118', 'f_00178', 'f_00138']\n",
      "Group 2, clients ['f_00179', 'f_00119', 'f_00049', 'f_00149']\n",
      "Group 3, clients ['f_00142', 'f_00012', 'f_00011', 'f_00101', 'f_00031']\n",
      "Group 4, clients ['f_00166', 'f_00186']\n"
     ]
    },
    {
     "name": "stderr",
     "output_type": "stream",
     "text": [
      "Epoch:   0%|                                                                                     | 0/20 [00:00<?, ?it/s]"
     ]
    },
    {
     "name": "stdout",
     "output_type": "stream",
     "text": [
      "Group 0\n",
      "At round 54 accuracy: 0.8010471204188482\n",
      "At round 54 training accuracy: 0.8092879256965945\n",
      "At round 54 training loss: 0.7283614565736554\n",
      "Group 1\n",
      "At round 54 accuracy: 0.7280701754385965\n",
      "At round 54 training accuracy: 0.707426597582038\n",
      "At round 54 training loss: 0.7867340515726383\n",
      "Group 2\n",
      "At round 54 accuracy: 0.8191780821917808\n",
      "At round 54 training accuracy: 0.8126791971965595\n",
      "At round 54 training loss: 0.5268260046588118\n",
      "Group 3\n",
      "At round 54 accuracy: 0.8574181117533719\n",
      "At round 54 training accuracy: 0.8600356030262573\n",
      "At round 54 training loss: 0.5846273334200349\n",
      "Group 4\n",
      "At round 54 accuracy: 0.7911392405063291\n",
      "At round 54 training accuracy: 0.8152459631993991\n",
      "At round 54 training loss: 0.4609028808254968\n",
      "At round 54 mean test accuracy: 0.8050935550935551 mean train accuracy: 0.8068327142074173\n",
      "The groups difference are: [18.04647253 18.19242122 18.2080045  18.61881597 18.04795472]\n",
      "Begin group  0 training\n"
     ]
    },
    {
     "name": "stderr",
     "output_type": "stream",
     "text": [
      "Epoch:   0%|                                                                                     | 0/20 [00:00<?, ?it/s]"
     ]
    },
    {
     "name": "stdout",
     "output_type": "stream",
     "text": [
      "Begin group  1 training\n"
     ]
    },
    {
     "name": "stderr",
     "output_type": "stream",
     "text": [
      "Epoch:   0%|                                                                                     | 0/20 [00:00<?, ?it/s]"
     ]
    },
    {
     "name": "stdout",
     "output_type": "stream",
     "text": [
      "Begin group  2 training\n"
     ]
    },
    {
     "name": "stderr",
     "output_type": "stream",
     "text": [
      "Epoch:   0%|                                                                                     | 0/20 [00:00<?, ?it/s]"
     ]
    },
    {
     "name": "stdout",
     "output_type": "stream",
     "text": [
      "Begin group  3 training\n"
     ]
    },
    {
     "name": "stderr",
     "output_type": "stream",
     "text": [
      "                                                                                                                        \r"
     ]
    },
    {
     "name": "stdout",
     "output_type": "stream",
     "text": [
      "Begin group  4 training\n",
      "Group 0, clients ['f_00124', 'f_00053', 'f_00123', 'f_00133']\n",
      "Group 1, clients ['f_00188', 'f_00057']\n",
      "Group 2, clients ['f_00079', 'f_00129', 'f_00190', 'f_00170', 'f_00199', 'f_00119']\n",
      "Group 3, clients ['f_00022', 'f_00141', 'f_00181']\n",
      "Group 4, clients ['f_00116', 'f_00136', 'f_00145', 'f_00166', 'f_00026']\n"
     ]
    },
    {
     "name": "stderr",
     "output_type": "stream",
     "text": [
      "Epoch:  35%|██████████████████████████▉                                                  | 7/20 [00:00<00:00, 63.09it/s]"
     ]
    },
    {
     "name": "stdout",
     "output_type": "stream",
     "text": [
      "Group 0\n",
      "At round 55 accuracy: 0.824607329842932\n",
      "At round 55 training accuracy: 0.8089783281733746\n",
      "At round 55 training loss: 0.5522507398074995\n",
      "Group 1\n",
      "At round 55 accuracy: 0.7192982456140351\n",
      "At round 55 training accuracy: 0.7043177892918826\n",
      "At round 55 training loss: 1.02166064021295\n",
      "Group 2\n",
      "At round 55 accuracy: 0.736986301369863\n",
      "At round 55 training accuracy: 0.7410003185727939\n",
      "At round 55 training loss: 0.8422289618681706\n",
      "Group 3\n",
      "At round 55 accuracy: 0.8227360308285164\n",
      "At round 55 training accuracy: 0.829105473965287\n",
      "At round 55 training loss: 0.428485520943356\n",
      "Group 4\n",
      "At round 55 accuracy: 0.7689873417721519\n",
      "At round 55 training accuracy: 0.7758167480285393\n",
      "At round 55 training loss: 0.6099533103756156\n",
      "At round 55 mean test accuracy: 0.7796257796257796 mean train accuracy: 0.7776627489190671\n",
      "The groups difference are: [18.06193514 18.2015135  18.20343727 18.61470564 18.04148045]\n",
      "Begin group  0 training\n"
     ]
    },
    {
     "name": "stderr",
     "output_type": "stream",
     "text": [
      "Epoch:   0%|                                                                                     | 0/20 [00:00<?, ?it/s]"
     ]
    },
    {
     "name": "stdout",
     "output_type": "stream",
     "text": [
      "Begin group  1 training\n",
      "Begin group  2 training\n"
     ]
    },
    {
     "name": "stderr",
     "output_type": "stream",
     "text": [
      "Epoch:   0%|                                                                                     | 0/20 [00:00<?, ?it/s]"
     ]
    },
    {
     "name": "stdout",
     "output_type": "stream",
     "text": [
      "Begin group  3 training\n"
     ]
    },
    {
     "name": "stderr",
     "output_type": "stream",
     "text": [
      "Epoch:  45%|██████████████████████████████████▋                                          | 9/20 [00:00<00:00, 80.52it/s]"
     ]
    },
    {
     "name": "stdout",
     "output_type": "stream",
     "text": [
      "Begin group  4 training\n"
     ]
    },
    {
     "name": "stderr",
     "output_type": "stream",
     "text": [
      "                                                                                                                        \r"
     ]
    },
    {
     "name": "stdout",
     "output_type": "stream",
     "text": [
      "Group 0, clients ['f_00194', 'f_00063', 'f_00073']\n",
      "Group 1, clients ['f_00167', 'f_00017', 'f_00038', 'f_00158']\n",
      "Group 2, clients ['f_00139', 'f_00120', 'f_00000']\n",
      "Group 3, clients ['f_00071', 'f_00042', 'f_00082', 'f_00081', 'f_00012', 'f_00102']\n",
      "Group 4, clients ['f_00186', 'f_00045', 'f_00096', 'f_00126']\n"
     ]
    },
    {
     "name": "stderr",
     "output_type": "stream",
     "text": [
      "Epoch:  35%|██████████████████████████▉                                                  | 7/20 [00:00<00:00, 67.08it/s]"
     ]
    },
    {
     "name": "stdout",
     "output_type": "stream",
     "text": [
      "Group 0\n",
      "At round 56 accuracy: 0.8010471204188482\n",
      "At round 56 training accuracy: 0.8080495356037152\n",
      "At round 56 training loss: 0.6490427982050568\n",
      "Group 1\n",
      "At round 56 accuracy: 0.804093567251462\n",
      "At round 56 training accuracy: 0.7740932642487046\n",
      "At round 56 training loss: 0.5723431715899386\n",
      "Group 2\n",
      "At round 56 accuracy: 0.7561643835616438\n",
      "At round 56 training accuracy: 0.7413188913666773\n",
      "At round 56 training loss: 0.7723797119966394\n",
      "Group 3\n",
      "At round 56 accuracy: 0.8092485549132948\n",
      "At round 56 training accuracy: 0.8126390743213173\n",
      "At round 56 training loss: 0.5002419194301925\n",
      "Group 4\n",
      "At round 56 accuracy: 0.7658227848101266\n",
      "At round 56 training accuracy: 0.7885843034171987\n",
      "At round 56 training loss: 0.6239194059468193\n",
      "At round 56 mean test accuracy: 0.7895010395010394 mean train accuracy: 0.7874063698922112\n",
      "The groups difference are: [18.14623021 18.23616574 18.26261899 18.64386896 18.10015306]\n",
      "Begin group  0 training\n"
     ]
    },
    {
     "name": "stderr",
     "output_type": "stream",
     "text": [
      "Epoch:   0%|                                                                                     | 0/20 [00:00<?, ?it/s]"
     ]
    },
    {
     "name": "stdout",
     "output_type": "stream",
     "text": [
      "Begin group  1 training\n"
     ]
    },
    {
     "name": "stderr",
     "output_type": "stream",
     "text": [
      "Epoch:  70%|████████████████████████████████████████████████████▌                      | 14/20 [00:00<00:00, 139.49it/s]"
     ]
    },
    {
     "name": "stdout",
     "output_type": "stream",
     "text": [
      "Begin group  2 training\n"
     ]
    },
    {
     "name": "stderr",
     "output_type": "stream",
     "text": [
      "Epoch:   0%|                                                                                     | 0/20 [00:00<?, ?it/s]"
     ]
    },
    {
     "name": "stdout",
     "output_type": "stream",
     "text": [
      "Begin group  3 training\n"
     ]
    },
    {
     "name": "stderr",
     "output_type": "stream",
     "text": [
      "Epoch:  85%|███████████████████████████████████████████████████████████████▊           | 17/20 [00:00<00:00, 167.34it/s]"
     ]
    },
    {
     "name": "stdout",
     "output_type": "stream",
     "text": [
      "Begin group  4 training\n"
     ]
    },
    {
     "name": "stderr",
     "output_type": "stream",
     "text": [
      "                                                                                                                        \r"
     ]
    },
    {
     "name": "stdout",
     "output_type": "stream",
     "text": [
      "Group 0, clients ['f_00084', 'f_00123', 'f_00153', 'f_00014', 'f_00193', 'f_00194']\n",
      "Group 1, clients ['f_00157', 'f_00117', 'f_00017']\n",
      "Group 2, clients ['f_00159', 'f_00070', 'f_00090', 'f_00180']\n",
      "Group 3, clients ['f_00182', 'f_00031', 'f_00072', 'f_00051']\n",
      "Group 4, clients ['f_00155', 'f_00116', 'f_00166']\n"
     ]
    },
    {
     "name": "stderr",
     "output_type": "stream",
     "text": [
      "Epoch:   0%|                                                                                     | 0/20 [00:00<?, ?it/s]"
     ]
    },
    {
     "name": "stdout",
     "output_type": "stream",
     "text": [
      "Group 0\n",
      "At round 57 accuracy: 0.8298429319371727\n",
      "At round 57 training accuracy: 0.8263157894736842\n",
      "At round 57 training loss: 0.4984058683963014\n",
      "Group 1\n",
      "At round 57 accuracy: 0.8011695906432749\n",
      "At round 57 training accuracy: 0.7734024179620035\n",
      "At round 57 training loss: 0.6030144488049707\n",
      "Group 2\n",
      "At round 57 accuracy: 0.8383561643835616\n",
      "At round 57 training accuracy: 0.836890729531698\n",
      "At round 57 training loss: 0.47267929844109635\n",
      "Group 3\n",
      "At round 57 accuracy: 0.8535645472061657\n",
      "At round 57 training accuracy: 0.8578104138851802\n",
      "At round 57 training loss: 0.38980774719369216\n",
      "Group 4\n",
      "At round 57 accuracy: 0.7848101265822784\n",
      "At round 57 training accuracy: 0.8152459631993991\n",
      "At round 57 training loss: 0.5237924639293675\n",
      "At round 57 mean test accuracy: 0.8253638253638254 mean train accuracy: 0.8258327751050484\n",
      "The groups difference are: [18.18540121 18.26447483 18.28834613 18.66097313 18.12549304]\n",
      "Begin group  0 training\n"
     ]
    },
    {
     "name": "stderr",
     "output_type": "stream",
     "text": [
      "Epoch:   0%|                                                                                     | 0/20 [00:00<?, ?it/s]"
     ]
    },
    {
     "name": "stdout",
     "output_type": "stream",
     "text": [
      "Begin group  1 training\n"
     ]
    },
    {
     "name": "stderr",
     "output_type": "stream",
     "text": [
      "Epoch:   0%|                                                                                     | 0/20 [00:00<?, ?it/s]"
     ]
    },
    {
     "name": "stdout",
     "output_type": "stream",
     "text": [
      "Begin group  2 training\n"
     ]
    },
    {
     "name": "stderr",
     "output_type": "stream",
     "text": [
      "Epoch:   0%|                                                                                     | 0/20 [00:00<?, ?it/s]"
     ]
    },
    {
     "name": "stdout",
     "output_type": "stream",
     "text": [
      "Begin group  3 training\n"
     ]
    },
    {
     "name": "stderr",
     "output_type": "stream",
     "text": [
      "                                                                                                                        \r"
     ]
    },
    {
     "name": "stdout",
     "output_type": "stream",
     "text": [
      "Begin group  4 training\n",
      "Group 0, clients ['f_00193', 'f_00174', 'f_00183', 'f_00143']\n",
      "Group 1, clients ['f_00107', 'f_00048', 'f_00108', 'f_00068', 'f_00038', 'f_00176', 'f_00177']\n",
      "Group 2, clients ['f_00079', 'f_00010']\n",
      "Group 3, clients ['f_00041', 'f_00131', 'f_00181']\n",
      "Group 4, clients ['f_00075', 'f_00175', 'f_00186', 'f_00066']\n"
     ]
    },
    {
     "name": "stderr",
     "output_type": "stream",
     "text": [
      "Epoch:   0%|                                                                                     | 0/20 [00:00<?, ?it/s]"
     ]
    },
    {
     "name": "stdout",
     "output_type": "stream",
     "text": [
      "Group 0\n",
      "At round 58 accuracy: 0.8324607329842932\n",
      "At round 58 training accuracy: 0.8309597523219814\n",
      "At round 58 training loss: 0.41559990449771056\n",
      "Group 1\n",
      "At round 58 accuracy: 0.7309941520467836\n",
      "At round 58 training accuracy: 0.7526770293609671\n",
      "At round 58 training loss: 0.816406244101302\n",
      "Group 2\n",
      "At round 58 accuracy: 0.8164383561643835\n",
      "At round 58 training accuracy: 0.818732080280344\n",
      "At round 58 training loss: 0.6493919621648664\n",
      "Group 3\n",
      "At round 58 accuracy: 0.7726396917148363\n",
      "At round 58 training accuracy: 0.7794837561192701\n",
      "At round 58 training loss: 0.5051836304575483\n",
      "Group 4\n",
      "At round 58 accuracy: 0.8386075949367089\n",
      "At round 58 training accuracy: 0.8711978971085242\n",
      "At round 58 training loss: 0.40329010997819487\n",
      "At round 58 mean test accuracy: 0.7962577962577962 mean train accuracy: 0.8072589976249924\n",
      "The groups difference are: [18.245255   18.30977659 18.35776747 18.68705771 18.15688462]\n",
      "Begin group  0 training\n"
     ]
    },
    {
     "name": "stderr",
     "output_type": "stream",
     "text": [
      "Epoch:   0%|                                                                                     | 0/20 [00:00<?, ?it/s]"
     ]
    },
    {
     "name": "stdout",
     "output_type": "stream",
     "text": [
      "Begin group  1 training\n"
     ]
    },
    {
     "name": "stderr",
     "output_type": "stream",
     "text": [
      "Epoch:  45%|██████████████████████████████████▋                                          | 9/20 [00:00<00:00, 81.12it/s]"
     ]
    },
    {
     "name": "stdout",
     "output_type": "stream",
     "text": [
      "Begin group  2 training\n"
     ]
    },
    {
     "name": "stderr",
     "output_type": "stream",
     "text": [
      "Epoch:   0%|                                                                                     | 0/20 [00:00<?, ?it/s]"
     ]
    },
    {
     "name": "stdout",
     "output_type": "stream",
     "text": [
      "Begin group  3 training\n"
     ]
    },
    {
     "name": "stderr",
     "output_type": "stream",
     "text": [
      "Epoch:  40%|██████████████████████████████▊                                              | 8/20 [00:00<00:00, 73.06it/s]"
     ]
    },
    {
     "name": "stdout",
     "output_type": "stream",
     "text": [
      "Begin group  4 training\n"
     ]
    },
    {
     "name": "stderr",
     "output_type": "stream",
     "text": [
      "                                                                                                                        \r"
     ]
    },
    {
     "name": "stdout",
     "output_type": "stream",
     "text": [
      "Group 0, clients ['f_00144', 'f_00113', 'f_00133']\n",
      "Group 1, clients ['f_00098']\n",
      "Group 2, clients ['f_00019', 'f_00030', 'f_00139', 'f_00020']\n",
      "Group 3, clients ['f_00192', 'f_00091', 'f_00141', 'f_00132']\n",
      "Group 4, clients ['f_00036', 'f_00146', 'f_00196', 'f_00136', 'f_00106', 'f_00165', 'f_00185', 'f_00016']\n"
     ]
    },
    {
     "name": "stderr",
     "output_type": "stream",
     "text": [
      "Epoch:   0%|                                                                                     | 0/20 [00:00<?, ?it/s]"
     ]
    },
    {
     "name": "stdout",
     "output_type": "stream",
     "text": [
      "Group 0\n",
      "At round 59 accuracy: 0.8481675392670157\n",
      "At round 59 training accuracy: 0.8452012383900929\n",
      "At round 59 training loss: 0.40150844314519096\n",
      "Group 1\n",
      "At round 59 accuracy: 0.7894736842105263\n",
      "At round 59 training accuracy: 0.786873920552677\n",
      "At round 59 training loss: 0.598244526071252\n",
      "Group 2\n",
      "At round 59 accuracy: 0.7890410958904109\n",
      "At round 59 training accuracy: 0.787830519273654\n",
      "At round 59 training loss: 0.6060369835419426\n",
      "Group 3\n",
      "At round 59 accuracy: 0.7456647398843931\n",
      "At round 59 training accuracy: 0.7487761459724076\n",
      "At round 59 training loss: 0.6915723497340639\n",
      "Group 4\n",
      "At round 59 accuracy: 0.7943037974683544\n",
      "At round 59 training accuracy: 0.8152459631993991\n",
      "At round 59 training loss: 0.4675346994104575\n",
      "At round 59 mean test accuracy: 0.7900207900207901 mean train accuracy: 0.7927044637963583\n",
      "The groups difference are: [18.269817   18.34022475 18.40209602 18.70378953 18.20101852]\n",
      "Begin group  0 training\n"
     ]
    },
    {
     "name": "stderr",
     "output_type": "stream",
     "text": [
      "Epoch:  25%|███████████████████▎                                                         | 5/20 [00:00<00:00, 45.14it/s]"
     ]
    },
    {
     "name": "stdout",
     "output_type": "stream",
     "text": [
      "Begin group  1 training\n"
     ]
    },
    {
     "name": "stderr",
     "output_type": "stream",
     "text": [
      "Epoch:   0%|                                                                                     | 0/20 [00:00<?, ?it/s]"
     ]
    },
    {
     "name": "stdout",
     "output_type": "stream",
     "text": [
      "Begin group  2 training\n"
     ]
    },
    {
     "name": "stderr",
     "output_type": "stream",
     "text": [
      "Epoch:  40%|██████████████████████████████▊                                              | 8/20 [00:00<00:00, 72.86it/s]"
     ]
    },
    {
     "name": "stdout",
     "output_type": "stream",
     "text": [
      "Begin group  3 training\n"
     ]
    },
    {
     "name": "stderr",
     "output_type": "stream",
     "text": [
      "Epoch:   0%|                                                                                     | 0/20 [00:00<?, ?it/s]"
     ]
    },
    {
     "name": "stdout",
     "output_type": "stream",
     "text": [
      "Begin group  4 training\n"
     ]
    },
    {
     "name": "stderr",
     "output_type": "stream",
     "text": [
      "                                                                                                                        \r"
     ]
    },
    {
     "name": "stdout",
     "output_type": "stream",
     "text": [
      "Group 0, clients ['f_00144', 'f_00033', 'f_00053', 'f_00163', 'f_00193']\n",
      "Group 1, clients ['f_00087', 'f_00176']\n",
      "Group 2, clients ['f_00000', 'f_00120', 'f_00190', 'f_00079']\n",
      "Group 3, clients ['f_00052', 'f_00081', 'f_00132', 'f_00001', 'f_00192', 'f_00021']\n",
      "Group 4, clients ['f_00106', 'f_00046', 'f_00056']\n"
     ]
    },
    {
     "name": "stderr",
     "output_type": "stream",
     "text": [
      "Epoch:   0%|                                                                                     | 0/20 [00:00<?, ?it/s]"
     ]
    },
    {
     "name": "stdout",
     "output_type": "stream",
     "text": [
      "Group 0\n",
      "At round 60 accuracy: 0.887434554973822\n",
      "At round 60 training accuracy: 0.9003095975232198\n",
      "At round 60 training loss: 0.3183457557815516\n",
      "Group 1\n",
      "At round 60 accuracy: 0.7076023391812866\n",
      "At round 60 training accuracy: 0.6991364421416235\n",
      "At round 60 training loss: 1.237733119051897\n",
      "Group 2\n",
      "At round 60 accuracy: 0.8328767123287671\n",
      "At round 60 training accuracy: 0.8257406817457789\n",
      "At round 60 training loss: 0.44969516646979757\n",
      "Group 3\n",
      "At round 60 accuracy: 0.7842003853564548\n",
      "At round 60 training accuracy: 0.7828215398308856\n",
      "At round 60 training loss: 0.5881278785181857\n",
      "Group 4\n",
      "At round 60 accuracy: 0.8037974683544303\n",
      "At round 60 training accuracy: 0.827638002253098\n",
      "At round 60 training loss: 0.45761918131901363\n",
      "At round 60 mean test accuracy: 0.8035343035343036 mean train accuracy: 0.8066500213141709\n",
      "The groups difference are: [18.30098027 18.40203134 18.42235205 18.73874123 18.24540375]\n",
      "Begin group  0 training\n"
     ]
    },
    {
     "name": "stderr",
     "output_type": "stream",
     "text": [
      "Epoch:  20%|███████████████▍                                                             | 4/20 [00:00<00:00, 31.83it/s]"
     ]
    },
    {
     "name": "stdout",
     "output_type": "stream",
     "text": [
      "Begin group  1 training\n"
     ]
    },
    {
     "name": "stderr",
     "output_type": "stream",
     "text": [
      "Epoch:   0%|                                                                                     | 0/20 [00:00<?, ?it/s]"
     ]
    },
    {
     "name": "stdout",
     "output_type": "stream",
     "text": [
      "Begin group  2 training\n"
     ]
    },
    {
     "name": "stderr",
     "output_type": "stream",
     "text": [
      "Epoch:  25%|███████████████████▎                                                         | 5/20 [00:00<00:00, 46.97it/s]"
     ]
    },
    {
     "name": "stdout",
     "output_type": "stream",
     "text": [
      "Begin group  3 training\n"
     ]
    },
    {
     "name": "stderr",
     "output_type": "stream",
     "text": [
      "                                                                                                                        "
     ]
    },
    {
     "name": "stdout",
     "output_type": "stream",
     "text": [
      "Begin group  4 training\n",
      "Group 0, clients ['f_00014', 'f_00003', 'f_00023', 'f_00073', 'f_00193', 'f_00133']\n",
      "Group 1, clients ['f_00097', 'f_00028', 'f_00117']\n",
      "Group 2, clients ['f_00170', 'f_00129', 'f_00070', 'f_00030']\n",
      "Group 3, clients ['f_00062', 'f_00161', 'f_00011', 'f_00081']\n",
      "Group 4, clients ['f_00085', 'f_00086', 'f_00056']\n"
     ]
    },
    {
     "name": "stderr",
     "output_type": "stream",
     "text": [
      "Epoch:  55%|█████████████████████████████████████████▎                                 | 11/20 [00:00<00:00, 103.48it/s]"
     ]
    },
    {
     "name": "stdout",
     "output_type": "stream",
     "text": [
      "Group 0\n",
      "At round 61 accuracy: 0.8141361256544503\n",
      "At round 61 training accuracy: 0.8157894736842105\n",
      "At round 61 training loss: 0.6983697921637411\n",
      "Group 1\n",
      "At round 61 accuracy: 0.7397660818713451\n",
      "At round 61 training accuracy: 0.7592400690846287\n",
      "At round 61 training loss: 1.0230049042401124\n",
      "Group 2\n",
      "At round 61 accuracy: 0.8438356164383561\n",
      "At round 61 training accuracy: 0.8298821280662632\n",
      "At round 61 training loss: 0.4531143982581706\n",
      "Group 3\n",
      "At round 61 accuracy: 0.8497109826589595\n",
      "At round 61 training accuracy: 0.8589230084557188\n",
      "At round 61 training loss: 0.37915369061878323\n",
      "Group 4\n",
      "At round 61 accuracy: 0.7689873417721519\n",
      "At round 61 training accuracy: 0.7833270747277506\n",
      "At round 61 training loss: 0.6067015515501186\n",
      "At round 61 mean test accuracy: 0.8087318087318087 mean train accuracy: 0.8150538944035077\n",
      "The groups difference are: [18.41920955 18.52539364 18.5259657  18.82322188 18.32119759]\n",
      "Begin group  0 training\n"
     ]
    },
    {
     "name": "stderr",
     "output_type": "stream",
     "text": [
      "Epoch:   0%|                                                                                     | 0/20 [00:00<?, ?it/s]"
     ]
    },
    {
     "name": "stdout",
     "output_type": "stream",
     "text": [
      "Begin group  1 training\n"
     ]
    },
    {
     "name": "stderr",
     "output_type": "stream",
     "text": [
      "Epoch:   0%|                                                                                     | 0/20 [00:00<?, ?it/s]"
     ]
    },
    {
     "name": "stdout",
     "output_type": "stream",
     "text": [
      "Begin group  2 training\n"
     ]
    },
    {
     "name": "stderr",
     "output_type": "stream",
     "text": [
      "Epoch:   5%|███▊                                                                         | 1/20 [00:00<00:03,  5.20it/s]"
     ]
    },
    {
     "name": "stdout",
     "output_type": "stream",
     "text": [
      "Begin group  3 training\n"
     ]
    },
    {
     "name": "stderr",
     "output_type": "stream",
     "text": [
      "Epoch:   0%|                                                                                     | 0/20 [00:00<?, ?it/s]"
     ]
    },
    {
     "name": "stdout",
     "output_type": "stream",
     "text": [
      "Begin group  4 training\n"
     ]
    },
    {
     "name": "stderr",
     "output_type": "stream",
     "text": [
      "                                                                                                                        \r"
     ]
    },
    {
     "name": "stdout",
     "output_type": "stream",
     "text": [
      "Group 0, clients ['f_00153', 'f_00004']\n",
      "Group 1, clients ['f_00168', 'f_00059', 'f_00087', 'f_00047', 'f_00037']\n",
      "Group 2, clients ['f_00120', 'f_00199', 'f_00040']\n",
      "Group 3, clients ['f_00171', 'f_00061', 'f_00162', 'f_00032']\n",
      "Group 4, clients ['f_00125', 'f_00146', 'f_00076', 'f_00005', 'f_00166', 'f_00036']\n"
     ]
    },
    {
     "name": "stderr",
     "output_type": "stream",
     "text": [
      "Epoch:  65%|████████████████████████████████████████████████▊                          | 13/20 [00:00<00:00, 128.40it/s]"
     ]
    },
    {
     "name": "stdout",
     "output_type": "stream",
     "text": [
      "Group 0\n",
      "At round 62 accuracy: 0.8089005235602095\n",
      "At round 62 training accuracy: 0.8117647058823529\n",
      "At round 62 training loss: 0.6164215229843792\n",
      "Group 1\n",
      "At round 62 accuracy: 0.6929824561403509\n",
      "At round 62 training accuracy: 0.696027633851468\n",
      "At round 62 training loss: 0.8164057604389487\n",
      "Group 2\n",
      "At round 62 accuracy: 0.8328767123287671\n",
      "At round 62 training accuracy: 0.8324307104173304\n",
      "At round 62 training loss: 0.5498630171626873\n",
      "Group 3\n",
      "At round 62 accuracy: 0.859344894026975\n",
      "At round 62 training accuracy: 0.8638184245660881\n",
      "At round 62 training loss: 0.612793460067214\n",
      "Group 4\n",
      "At round 62 accuracy: 0.8670886075949367\n",
      "At round 62 training accuracy: 0.8802102891475779\n",
      "At round 62 training loss: 0.38598872778830207\n",
      "At round 62 mean test accuracy: 0.816008316008316 mean train accuracy: 0.8206564764630656\n",
      "The groups difference are: [18.67426314 18.78438191 18.80154737 19.21582209 18.58298999]\n",
      "Begin group  0 training\n"
     ]
    },
    {
     "name": "stderr",
     "output_type": "stream",
     "text": [
      "Epoch:   0%|                                                                                     | 0/20 [00:00<?, ?it/s]"
     ]
    },
    {
     "name": "stdout",
     "output_type": "stream",
     "text": [
      "Begin group  1 training\n"
     ]
    },
    {
     "name": "stderr",
     "output_type": "stream",
     "text": [
      "Epoch:   0%|                                                                                     | 0/20 [00:00<?, ?it/s]"
     ]
    },
    {
     "name": "stdout",
     "output_type": "stream",
     "text": [
      "Begin group  2 training\n"
     ]
    },
    {
     "name": "stderr",
     "output_type": "stream",
     "text": [
      "Epoch:   0%|                                                                                     | 0/20 [00:00<?, ?it/s]"
     ]
    },
    {
     "name": "stdout",
     "output_type": "stream",
     "text": [
      "Begin group  3 training\n"
     ]
    },
    {
     "name": "stderr",
     "output_type": "stream",
     "text": [
      "Epoch:   0%|                                                                                     | 0/20 [00:00<?, ?it/s]"
     ]
    },
    {
     "name": "stdout",
     "output_type": "stream",
     "text": [
      "Begin group  4 training\n"
     ]
    },
    {
     "name": "stderr",
     "output_type": "stream",
     "text": [
      "                                                                                                                        \r"
     ]
    },
    {
     "name": "stdout",
     "output_type": "stream",
     "text": [
      "Group 0, clients ['f_00154', 'f_00143', 'f_00153', 'f_00193', 'f_00103', 'f_00064', 'f_00194']\n",
      "Group 1, clients ['f_00097', 'f_00138', 'f_00068', 'f_00037']\n",
      "Group 2, clients ['f_00089', 'f_00010', 'f_00069', 'f_00090']\n",
      "Group 3, clients ['f_00112', 'f_00171', 'f_00052']\n",
      "Group 4, clients ['f_00126', 'f_00125']\n"
     ]
    },
    {
     "name": "stderr",
     "output_type": "stream",
     "text": [
      "Epoch:  40%|██████████████████████████████▊                                              | 8/20 [00:00<00:00, 73.55it/s]"
     ]
    },
    {
     "name": "stdout",
     "output_type": "stream",
     "text": [
      "Group 0\n",
      "At round 63 accuracy: 0.8586387434554974\n",
      "At round 63 training accuracy: 0.8674922600619195\n",
      "At round 63 training loss: 0.3537931672698204\n",
      "Group 1\n",
      "At round 63 accuracy: 0.7397660818713451\n",
      "At round 63 training accuracy: 0.7568221070811745\n",
      "At round 63 training loss: 0.9349416175088322\n",
      "Group 2\n",
      "At round 63 accuracy: 0.7780821917808219\n",
      "At round 63 training accuracy: 0.7722204523733673\n",
      "At round 63 training loss: 0.5685482232784838\n",
      "Group 3\n",
      "At round 63 accuracy: 0.7957610789980732\n",
      "At round 63 training accuracy: 0.8093012906097018\n",
      "At round 63 training loss: 0.4506509470499299\n",
      "Group 4\n",
      "At round 63 accuracy: 0.7879746835443038\n",
      "At round 63 training accuracy: 0.8099887345099512\n",
      "At round 63 training loss: 0.47748970777255184\n",
      "At round 63 mean test accuracy: 0.7936590436590436 mean train accuracy: 0.8045186042262956\n",
      "The groups difference are: [18.7286128  18.85505815 18.86643182 19.26140313 18.65545096]\n",
      "Begin group  0 training\n"
     ]
    },
    {
     "name": "stderr",
     "output_type": "stream",
     "text": [
      "Epoch:   0%|                                                                                     | 0/20 [00:00<?, ?it/s]"
     ]
    },
    {
     "name": "stdout",
     "output_type": "stream",
     "text": [
      "Begin group  1 training\n"
     ]
    },
    {
     "name": "stderr",
     "output_type": "stream",
     "text": [
      "Epoch:  30%|███████████████████████                                                      | 6/20 [00:00<00:00, 54.31it/s]"
     ]
    },
    {
     "name": "stdout",
     "output_type": "stream",
     "text": [
      "Begin group  2 training\n"
     ]
    },
    {
     "name": "stderr",
     "output_type": "stream",
     "text": [
      "Epoch:   0%|                                                                                     | 0/20 [00:00<?, ?it/s]"
     ]
    },
    {
     "name": "stdout",
     "output_type": "stream",
     "text": [
      "Begin group  3 training\n"
     ]
    },
    {
     "name": "stderr",
     "output_type": "stream",
     "text": [
      "Epoch:  70%|████████████████████████████████████████████████████▌                      | 14/20 [00:00<00:00, 133.49it/s]"
     ]
    },
    {
     "name": "stdout",
     "output_type": "stream",
     "text": [
      "Begin group  4 training\n"
     ]
    },
    {
     "name": "stderr",
     "output_type": "stream",
     "text": [
      "                                                                                                                        \r"
     ]
    },
    {
     "name": "stdout",
     "output_type": "stream",
     "text": [
      "Group 0, clients ['f_00163', 'f_00014', 'f_00193', 'f_00123']\n",
      "Group 1, clients ['f_00058', 'f_00107', 'f_00157', 'f_00097', 'f_00178']\n",
      "Group 2, clients ['f_00109', 'f_00030', 'f_00069']\n",
      "Group 3, clients ['f_00041', 'f_00121', 'f_00102', 'f_00042']\n",
      "Group 4, clients ['f_00156', 'f_00086', 'f_00035', 'f_00116']\n"
     ]
    },
    {
     "name": "stderr",
     "output_type": "stream",
     "text": [
      "Epoch:   0%|                                                                                     | 0/20 [00:00<?, ?it/s]"
     ]
    },
    {
     "name": "stdout",
     "output_type": "stream",
     "text": [
      "Group 0\n",
      "At round 64 accuracy: 0.824607329842932\n",
      "At round 64 training accuracy: 0.8495356037151702\n",
      "At round 64 training loss: 0.41303049661334457\n",
      "Group 1\n",
      "At round 64 accuracy: 0.7573099415204678\n",
      "At round 64 training accuracy: 0.772020725388601\n",
      "At round 64 training loss: 0.6087178928349714\n",
      "Group 2\n",
      "At round 64 accuracy: 0.8164383561643835\n",
      "At round 64 training accuracy: 0.8142720611659764\n",
      "At round 64 training loss: 0.5144428233834124\n",
      "Group 3\n",
      "At round 64 accuracy: 0.8497109826589595\n",
      "At round 64 training accuracy: 0.8493546951490877\n",
      "At round 64 training loss: 0.4192552380313542\n",
      "Group 4\n",
      "At round 64 accuracy: 0.8575949367088608\n",
      "At round 64 training accuracy: 0.8580548253849043\n",
      "At round 64 training loss: 0.4185016553707692\n",
      "At round 64 mean test accuracy: 0.8232848232848233 mean train accuracy: 0.8304609950672919\n",
      "The groups difference are: [18.77079197 18.90450031 18.92106973 19.29951996 18.69477662]\n",
      "Begin group  0 training\n"
     ]
    },
    {
     "name": "stderr",
     "output_type": "stream",
     "text": [
      "Epoch:  60%|█████████████████████████████████████████████                              | 12/20 [00:00<00:00, 113.61it/s]"
     ]
    },
    {
     "name": "stdout",
     "output_type": "stream",
     "text": [
      "Begin group  1 training\n"
     ]
    },
    {
     "name": "stderr",
     "output_type": "stream",
     "text": [
      "Epoch:   0%|                                                                                     | 0/20 [00:00<?, ?it/s]"
     ]
    },
    {
     "name": "stdout",
     "output_type": "stream",
     "text": [
      "Begin group  2 training\n"
     ]
    },
    {
     "name": "stderr",
     "output_type": "stream",
     "text": [
      "Epoch:  25%|███████████████████▎                                                         | 5/20 [00:00<00:00, 49.46it/s]"
     ]
    },
    {
     "name": "stdout",
     "output_type": "stream",
     "text": [
      "Begin group  3 training\n"
     ]
    },
    {
     "name": "stderr",
     "output_type": "stream",
     "text": [
      "Epoch:   0%|                                                                                     | 0/20 [00:00<?, ?it/s]"
     ]
    },
    {
     "name": "stdout",
     "output_type": "stream",
     "text": [
      "Begin group  4 training\n"
     ]
    },
    {
     "name": "stderr",
     "output_type": "stream",
     "text": [
      "                                                                                                                        \r"
     ]
    },
    {
     "name": "stdout",
     "output_type": "stream",
     "text": [
      "Group 0, clients ['f_00054', 'f_00153']\n",
      "Group 1, clients ['f_00169', 'f_00176', 'f_00178']\n",
      "Group 2, clients ['f_00119', 'f_00020', 'f_00070', 'f_00099']\n",
      "Group 3, clients ['f_00021', 'f_00012', 'f_00151', 'f_00082']\n",
      "Group 4, clients ['f_00075', 'f_00106', 'f_00085', 'f_00065', 'f_00166', 'f_00155', 'f_00116']\n"
     ]
    },
    {
     "name": "stderr",
     "output_type": "stream",
     "text": [
      "Epoch:   0%|                                                                                     | 0/20 [00:00<?, ?it/s]"
     ]
    },
    {
     "name": "stdout",
     "output_type": "stream",
     "text": [
      "Group 0\n",
      "At round 65 accuracy: 0.8350785340314136\n",
      "At round 65 training accuracy: 0.8291021671826625\n",
      "At round 65 training loss: 0.4988801048197798\n",
      "Group 1\n",
      "At round 65 accuracy: 0.7192982456140351\n",
      "At round 65 training accuracy: 0.738860103626943\n",
      "At round 65 training loss: 0.6257950265996403\n",
      "Group 2\n",
      "At round 65 accuracy: 0.7589041095890411\n",
      "At round 65 training accuracy: 0.7448231920993947\n",
      "At round 65 training loss: 0.6429768190020473\n",
      "Group 3\n",
      "At round 65 accuracy: 0.8073217726396917\n",
      "At round 65 training accuracy: 0.8164218958611482\n",
      "At round 65 training loss: 0.4342034563959361\n",
      "Group 4\n",
      "At round 65 accuracy: 0.7911392405063291\n",
      "At round 65 training accuracy: 0.8077356365001878\n",
      "At round 65 training loss: 0.45553005813791303\n",
      "At round 65 mean test accuracy: 0.7853430353430353 mean train accuracy: 0.7901467632909079\n",
      "The groups difference are: [18.81407988 18.92535094 18.94194234 19.32265743 18.72602887]\n",
      "Begin group  0 training\n",
      "Begin group  1 training\n"
     ]
    },
    {
     "name": "stderr",
     "output_type": "stream",
     "text": [
      "Epoch:   0%|                                                                                     | 0/20 [00:00<?, ?it/s]"
     ]
    },
    {
     "name": "stdout",
     "output_type": "stream",
     "text": [
      "Begin group  2 training\n"
     ]
    },
    {
     "name": "stderr",
     "output_type": "stream",
     "text": [
      "Epoch:   0%|                                                                                     | 0/20 [00:00<?, ?it/s]"
     ]
    },
    {
     "name": "stdout",
     "output_type": "stream",
     "text": [
      "Begin group  3 training\n"
     ]
    },
    {
     "name": "stderr",
     "output_type": "stream",
     "text": [
      "Epoch:  40%|██████████████████████████████▊                                              | 8/20 [00:00<00:00, 78.77it/s]"
     ]
    },
    {
     "name": "stdout",
     "output_type": "stream",
     "text": [
      "Begin group  4 training\n"
     ]
    },
    {
     "name": "stderr",
     "output_type": "stream",
     "text": [
      "                                                                                                                        \r"
     ]
    },
    {
     "name": "stdout",
     "output_type": "stream",
     "text": [
      "Group 0, clients ['f_00174', 'f_00054', 'f_00053', 'f_00104']\n",
      "Group 1, clients ['f_00167', 'f_00017', 'f_00118', 'f_00128', 'f_00108', 'f_00107', 'f_00018', 'f_00007', 'f_00148']\n",
      "Group 2, clients ['f_00179', 'f_00160', 'f_00130', 'f_00140']\n",
      "Group 3, clients ['f_00052']\n",
      "Group 4, clients ['f_00106', 'f_00156']\n"
     ]
    },
    {
     "name": "stderr",
     "output_type": "stream",
     "text": [
      "Epoch:   0%|                                                                                     | 0/20 [00:00<?, ?it/s]"
     ]
    },
    {
     "name": "stdout",
     "output_type": "stream",
     "text": [
      "Group 0\n",
      "At round 66 accuracy: 0.8507853403141361\n",
      "At round 66 training accuracy: 0.8668730650154799\n",
      "At round 66 training loss: 0.3631547933623149\n",
      "Group 1\n",
      "At round 66 accuracy: 0.8128654970760234\n",
      "At round 66 training accuracy: 0.7678756476683938\n",
      "At round 66 training loss: 0.604523640119556\n",
      "Group 2\n",
      "At round 66 accuracy: 0.810958904109589\n",
      "At round 66 training accuracy: 0.8101306148454922\n",
      "At round 66 training loss: 0.5201921273650695\n",
      "Group 3\n",
      "At round 66 accuracy: 0.8535645472061657\n",
      "At round 66 training accuracy: 0.8607031597685804\n",
      "At round 66 training loss: 0.347943111554511\n",
      "Group 4\n",
      "At round 66 accuracy: 0.8291139240506329\n",
      "At round 66 training accuracy: 0.817123544874202\n",
      "At round 66 training loss: 0.4989490791668446\n",
      "At round 66 mean test accuracy: 0.8336798336798337 mean train accuracy: 0.8288167590280738\n",
      "The groups difference are: [18.78169545 18.89271184 18.93854693 19.28911395 18.71482215]\n",
      "Begin group  0 training\n"
     ]
    },
    {
     "name": "stderr",
     "output_type": "stream",
     "text": [
      "Epoch:   0%|                                                                                     | 0/20 [00:00<?, ?it/s]"
     ]
    },
    {
     "name": "stdout",
     "output_type": "stream",
     "text": [
      "Begin group  1 training\n"
     ]
    },
    {
     "name": "stderr",
     "output_type": "stream",
     "text": [
      "Epoch:   0%|                                                                                     | 0/20 [00:00<?, ?it/s]"
     ]
    },
    {
     "name": "stdout",
     "output_type": "stream",
     "text": [
      "Begin group  2 training\n"
     ]
    },
    {
     "name": "stderr",
     "output_type": "stream",
     "text": [
      "Epoch:  25%|███████████████████▎                                                         | 5/20 [00:00<00:00, 47.14it/s]"
     ]
    },
    {
     "name": "stdout",
     "output_type": "stream",
     "text": [
      "Begin group  3 training\n"
     ]
    },
    {
     "name": "stderr",
     "output_type": "stream",
     "text": [
      "                                                                                                                        \r"
     ]
    },
    {
     "name": "stdout",
     "output_type": "stream",
     "text": [
      "Begin group  4 training\n",
      "Group 0, clients ['f_00123']\n",
      "Group 1, clients ['f_00077', 'f_00187', 'f_00117', 'f_00038', 'f_00108']\n",
      "Group 2, clients ['f_00109', 'f_00149', 'f_00180', 'f_00030']\n",
      "Group 3, clients ['f_00032', 'f_00071', 'f_00172', 'f_00062', 'f_00131']\n",
      "Group 4, clients ['f_00166', 'f_00025', 'f_00195', 'f_00056', 'f_00015']\n"
     ]
    },
    {
     "name": "stderr",
     "output_type": "stream",
     "text": [
      "Epoch:  25%|███████████████████▎                                                         | 5/20 [00:00<00:00, 41.60it/s]"
     ]
    },
    {
     "name": "stdout",
     "output_type": "stream",
     "text": [
      "Group 0\n",
      "At round 67 accuracy: 0.806282722513089\n",
      "At round 67 training accuracy: 0.8108359133126934\n",
      "At round 67 training loss: 0.6371517760765626\n",
      "Group 1\n",
      "At round 67 accuracy: 0.7309941520467836\n",
      "At round 67 training accuracy: 0.7136442141623489\n",
      "At round 67 training loss: 0.6949218729617065\n",
      "Group 2\n",
      "At round 67 accuracy: 0.8082191780821918\n",
      "At round 67 training accuracy: 0.8177763618986938\n",
      "At round 67 training loss: 0.6416858088280905\n",
      "Group 3\n",
      "At round 67 accuracy: 0.8574181117533719\n",
      "At round 67 training accuracy: 0.8627058299955496\n",
      "At round 67 training loss: 0.4878727934747258\n",
      "Group 4\n",
      "At round 67 accuracy: 0.7721518987341772\n",
      "At round 67 training accuracy: 0.7867067217423958\n",
      "At round 67 training loss: 0.6340111607207958\n",
      "At round 67 mean test accuracy: 0.8014553014553014 mean train accuracy: 0.8053102734303635\n",
      "The groups difference are: [18.93203843 19.02219321 19.09578013 19.40548738 18.83926994]\n",
      "Begin group  0 training\n"
     ]
    },
    {
     "name": "stderr",
     "output_type": "stream",
     "text": [
      "Epoch:   0%|                                                                                     | 0/20 [00:00<?, ?it/s]"
     ]
    },
    {
     "name": "stdout",
     "output_type": "stream",
     "text": [
      "Begin group  1 training\n"
     ]
    },
    {
     "name": "stderr",
     "output_type": "stream",
     "text": [
      "Epoch:   0%|                                                                                     | 0/20 [00:00<?, ?it/s]"
     ]
    },
    {
     "name": "stdout",
     "output_type": "stream",
     "text": [
      "Begin group  2 training\n"
     ]
    },
    {
     "name": "stderr",
     "output_type": "stream",
     "text": [
      "Epoch:   0%|                                                                                     | 0/20 [00:00<?, ?it/s]"
     ]
    },
    {
     "name": "stdout",
     "output_type": "stream",
     "text": [
      "Begin group  3 training\n"
     ]
    },
    {
     "name": "stderr",
     "output_type": "stream",
     "text": [
      "Epoch:  65%|████████████████████████████████████████████████▊                          | 13/20 [00:00<00:00, 120.29it/s]"
     ]
    },
    {
     "name": "stdout",
     "output_type": "stream",
     "text": [
      "Begin group  4 training\n"
     ]
    },
    {
     "name": "stderr",
     "output_type": "stream",
     "text": [
      "                                                                                                                        \r"
     ]
    },
    {
     "name": "stdout",
     "output_type": "stream",
     "text": [
      "Group 0, clients ['f_00054', 'f_00143', 'f_00004', 'f_00013', 'f_00183']\n",
      "Group 1, clients ['f_00117', 'f_00107', 'f_00127']\n",
      "Group 2, clients ['f_00099']\n",
      "Group 3, clients ['f_00102', 'f_00011', 'f_00112', 'f_00132', 'f_00121']\n",
      "Group 4, clients ['f_00016', 'f_00186', 'f_00126', 'f_00116', 'f_00056', 'f_00125']\n"
     ]
    },
    {
     "name": "stderr",
     "output_type": "stream",
     "text": [
      "Epoch:   0%|                                                                                     | 0/20 [00:00<?, ?it/s]"
     ]
    },
    {
     "name": "stdout",
     "output_type": "stream",
     "text": [
      "Group 0\n",
      "At round 68 accuracy: 0.819371727748691\n",
      "At round 68 training accuracy: 0.8164086687306501\n",
      "At round 68 training loss: 0.8468398924836249\n",
      "Group 1\n",
      "At round 68 accuracy: 0.827485380116959\n",
      "At round 68 training accuracy: 0.8013816925734024\n",
      "At round 68 training loss: 0.5587458560606771\n",
      "Group 2\n",
      "At round 68 accuracy: 0.8301369863013699\n",
      "At round 68 training accuracy: 0.8365721567378146\n",
      "At round 68 training loss: 0.5743565838137187\n",
      "Group 3\n",
      "At round 68 accuracy: 0.8458574181117534\n",
      "At round 68 training accuracy: 0.8593680462839342\n",
      "At round 68 training loss: 0.6327174341129524\n",
      "Group 4\n",
      "At round 68 accuracy: 0.8259493670886076\n",
      "At round 68 training accuracy: 0.8174990612091626\n",
      "At round 68 training loss: 0.4818670753133597\n",
      "At round 68 mean test accuracy: 0.831081081081081 mean train accuracy: 0.8295475306010596\n",
      "The groups difference are: [19.18564419 19.27090395 19.35119706 19.75959023 19.08932138]\n",
      "Begin group  0 training\n"
     ]
    },
    {
     "name": "stderr",
     "output_type": "stream",
     "text": [
      "Epoch:   0%|                                                                                     | 0/20 [00:00<?, ?it/s]"
     ]
    },
    {
     "name": "stdout",
     "output_type": "stream",
     "text": [
      "Begin group  1 training\n"
     ]
    },
    {
     "name": "stderr",
     "output_type": "stream",
     "text": [
      "Epoch:   0%|                                                                                     | 0/20 [00:00<?, ?it/s]"
     ]
    },
    {
     "name": "stdout",
     "output_type": "stream",
     "text": [
      "Begin group  2 training\n",
      "Begin group  3 training\n"
     ]
    },
    {
     "name": "stderr",
     "output_type": "stream",
     "text": [
      "Epoch:   0%|                                                                                     | 0/20 [00:00<?, ?it/s]"
     ]
    },
    {
     "name": "stdout",
     "output_type": "stream",
     "text": [
      "Begin group  4 training\n"
     ]
    },
    {
     "name": "stderr",
     "output_type": "stream",
     "text": [
      "                                                                                                                        \r"
     ]
    },
    {
     "name": "stdout",
     "output_type": "stream",
     "text": [
      "Group 0, clients ['f_00023', 'f_00013']\n",
      "Group 1, clients ['f_00178', 'f_00047', 'f_00118', 'f_00058', 'f_00008', 'f_00068', 'f_00137']\n",
      "Group 2, clients ['f_00070', 'f_00100', 'f_00170', 'f_00199']\n",
      "Group 3, clients ['f_00032', 'f_00031', 'f_00062']\n",
      "Group 4, clients ['f_00156', 'f_00086', 'f_00125', 'f_00015']\n"
     ]
    },
    {
     "name": "stderr",
     "output_type": "stream",
     "text": [
      "Epoch:  35%|██████████████████████████▉                                                  | 7/20 [00:00<00:00, 67.07it/s]"
     ]
    },
    {
     "name": "stdout",
     "output_type": "stream",
     "text": [
      "Group 0\n",
      "At round 69 accuracy: 0.8350785340314136\n",
      "At round 69 training accuracy: 0.8263157894736842\n",
      "At round 69 training loss: 0.5003785764423686\n",
      "Group 1\n",
      "At round 69 accuracy: 0.7222222222222222\n",
      "At round 69 training accuracy: 0.7588946459412781\n",
      "At round 69 training loss: 0.8094985652464042\n",
      "Group 2\n",
      "At round 69 accuracy: 0.7479452054794521\n",
      "At round 69 training accuracy: 0.7473717744504619\n",
      "At round 69 training loss: 0.6873790819759238\n",
      "Group 3\n",
      "At round 69 accuracy: 0.7957610789980732\n",
      "At round 69 training accuracy: 0.8090787716955942\n",
      "At round 69 training loss: 0.47226129783939985\n",
      "Group 4\n",
      "At round 69 accuracy: 0.8544303797468354\n",
      "At round 69 training accuracy: 0.8899737138565528\n",
      "At round 69 training loss: 0.3635287097733226\n",
      "At round 69 mean test accuracy: 0.7910602910602911 mean train accuracy: 0.8049448876438706\n",
      "The groups difference are: [19.15285189 19.23683664 19.30913066 19.72573083 19.05363222]\n",
      "Begin group  0 training\n"
     ]
    },
    {
     "name": "stderr",
     "output_type": "stream",
     "text": [
      "Epoch:   0%|                                                                                     | 0/20 [00:00<?, ?it/s]"
     ]
    },
    {
     "name": "stdout",
     "output_type": "stream",
     "text": [
      "Begin group  1 training\n"
     ]
    },
    {
     "name": "stderr",
     "output_type": "stream",
     "text": [
      "Epoch:  20%|███████████████▍                                                             | 4/20 [00:00<00:00, 39.67it/s]"
     ]
    },
    {
     "name": "stdout",
     "output_type": "stream",
     "text": [
      "Begin group  2 training\n"
     ]
    },
    {
     "name": "stderr",
     "output_type": "stream",
     "text": [
      "Epoch:   0%|                                                                                     | 0/20 [00:00<?, ?it/s]"
     ]
    },
    {
     "name": "stdout",
     "output_type": "stream",
     "text": [
      "Begin group  3 training\n"
     ]
    },
    {
     "name": "stderr",
     "output_type": "stream",
     "text": [
      "Epoch:   0%|                                                                                     | 0/20 [00:00<?, ?it/s]"
     ]
    },
    {
     "name": "stdout",
     "output_type": "stream",
     "text": [
      "Begin group  4 training\n"
     ]
    },
    {
     "name": "stderr",
     "output_type": "stream",
     "text": [
      "                                                                                                                        \r"
     ]
    },
    {
     "name": "stdout",
     "output_type": "stream",
     "text": [
      "Group 0, clients ['f_00164', 'f_00014']\n",
      "Group 1, clients ['f_00017', 'f_00197', 'f_00057', 'f_00167', 'f_00147', 'f_00097', 'f_00188']\n",
      "Group 2, clients ['f_00099', 'f_00109', 'f_00179']\n",
      "Group 3, clients ['f_00102', 'f_00142', 'f_00061', 'f_00021', 'f_00182', 'f_00011']\n",
      "Group 4, clients ['f_00115', 'f_00105']\n"
     ]
    },
    {
     "name": "stderr",
     "output_type": "stream",
     "text": [
      "Epoch:  15%|███████████▌                                                                 | 3/20 [00:00<00:00, 28.01it/s]"
     ]
    },
    {
     "name": "stdout",
     "output_type": "stream",
     "text": [
      "Group 0\n",
      "At round 70 accuracy: 0.8167539267015707\n",
      "At round 70 training accuracy: 0.8139318885448916\n",
      "At round 70 training loss: 0.6962457545701379\n",
      "Group 1\n",
      "At round 70 accuracy: 0.7222222222222222\n",
      "At round 70 training accuracy: 0.7098445595854922\n",
      "At round 70 training loss: 0.7892135996892662\n",
      "Group 2\n",
      "At round 70 accuracy: 0.821917808219178\n",
      "At round 70 training accuracy: 0.8200063714558776\n",
      "At round 70 training loss: 0.5097474515552011\n",
      "Group 3\n",
      "At round 70 accuracy: 0.8709055876685935\n",
      "At round 70 training accuracy: 0.872719181130396\n",
      "At round 70 training loss: 0.6449548413369408\n",
      "Group 4\n",
      "At round 70 accuracy: 0.8607594936708861\n",
      "At round 70 training accuracy: 0.8599324070597071\n",
      "At round 70 training loss: 0.4152646784971766\n",
      "At round 70 mean test accuracy: 0.8227650727650727 mean train accuracy: 0.8202910906765727\n",
      "The groups difference are: [19.38180309 19.48862325 19.56186183 20.07688825 19.30550632]\n",
      "Begin group  0 training\n"
     ]
    },
    {
     "name": "stderr",
     "output_type": "stream",
     "text": [
      "Epoch:  60%|█████████████████████████████████████████████                              | 12/20 [00:00<00:00, 118.86it/s]"
     ]
    },
    {
     "name": "stdout",
     "output_type": "stream",
     "text": [
      "Begin group  1 training\n"
     ]
    },
    {
     "name": "stderr",
     "output_type": "stream",
     "text": [
      "Epoch:   0%|                                                                                     | 0/20 [00:00<?, ?it/s]"
     ]
    },
    {
     "name": "stdout",
     "output_type": "stream",
     "text": [
      "Begin group  2 training\n"
     ]
    },
    {
     "name": "stderr",
     "output_type": "stream",
     "text": [
      "Epoch:  30%|███████████████████████                                                      | 6/20 [00:00<00:00, 54.23it/s]"
     ]
    },
    {
     "name": "stdout",
     "output_type": "stream",
     "text": [
      "Begin group  3 training\n"
     ]
    },
    {
     "name": "stderr",
     "output_type": "stream",
     "text": [
      "Epoch:  55%|█████████████████████████████████████████▎                                 | 11/20 [00:00<00:00, 107.53it/s]"
     ]
    },
    {
     "name": "stdout",
     "output_type": "stream",
     "text": [
      "Begin group  4 training\n"
     ]
    },
    {
     "name": "stderr",
     "output_type": "stream",
     "text": [
      "                                                                                                                        \r"
     ]
    },
    {
     "name": "stdout",
     "output_type": "stream",
     "text": [
      "Group 0, clients ['f_00064', 'f_00034', 'f_00073']\n",
      "Group 1, clients ['f_00108', 'f_00028', 'f_00147']\n",
      "Group 2, clients ['f_00069', 'f_00189', 'f_00020', 'f_00130', 'f_00100']\n",
      "Group 3, clients ['f_00122', 'f_00132', 'f_00121', 'f_00031', 'f_00182']\n",
      "Group 4, clients ['f_00145', 'f_00136', 'f_00106', 'f_00175']\n"
     ]
    },
    {
     "name": "stderr",
     "output_type": "stream",
     "text": [
      "Epoch:   0%|                                                                                     | 0/20 [00:00<?, ?it/s]"
     ]
    },
    {
     "name": "stdout",
     "output_type": "stream",
     "text": [
      "Group 0\n",
      "At round 71 accuracy: 0.7958115183246073\n",
      "At round 71 training accuracy: 0.7743034055727555\n",
      "At round 71 training loss: 0.7564792821327968\n",
      "Group 1\n",
      "At round 71 accuracy: 0.7456140350877193\n",
      "At round 71 training accuracy: 0.7668393782383419\n",
      "At round 71 training loss: 0.6821795441995219\n",
      "Group 2\n",
      "At round 71 accuracy: 0.7506849315068493\n",
      "At round 71 training accuracy: 0.7546989487097802\n",
      "At round 71 training loss: 0.6900167135381137\n",
      "Group 3\n",
      "At round 71 accuracy: 0.859344894026975\n",
      "At round 71 training accuracy: 0.8633733867378727\n",
      "At round 71 training loss: 0.5002575310127014\n",
      "Group 4\n",
      "At round 71 accuracy: 0.8354430379746836\n",
      "At round 71 training accuracy: 0.8325197146075854\n",
      "At round 71 training loss: 0.6462495739925324\n",
      "At round 71 mean test accuracy: 0.8019750519750519 mean train accuracy: 0.8030570610803239\n",
      "The groups difference are: [19.43725851 19.51135361 19.58591875 20.10283788 19.31973295]\n",
      "Begin group  0 training\n"
     ]
    },
    {
     "name": "stderr",
     "output_type": "stream",
     "text": [
      "Epoch:  50%|██████████████████████████████████████                                      | 10/20 [00:00<00:00, 93.91it/s]"
     ]
    },
    {
     "name": "stdout",
     "output_type": "stream",
     "text": [
      "Begin group  1 training\n"
     ]
    },
    {
     "name": "stderr",
     "output_type": "stream",
     "text": [
      "Epoch:   0%|                                                                                     | 0/20 [00:00<?, ?it/s]"
     ]
    },
    {
     "name": "stdout",
     "output_type": "stream",
     "text": [
      "Begin group  2 training\n"
     ]
    },
    {
     "name": "stderr",
     "output_type": "stream",
     "text": [
      "Epoch:  20%|███████████████▍                                                             | 4/20 [00:00<00:00, 38.37it/s]"
     ]
    },
    {
     "name": "stdout",
     "output_type": "stream",
     "text": [
      "Begin group  3 training\n"
     ]
    },
    {
     "name": "stderr",
     "output_type": "stream",
     "text": [
      "Epoch:   0%|                                                                                     | 0/20 [00:00<?, ?it/s]"
     ]
    },
    {
     "name": "stdout",
     "output_type": "stream",
     "text": [
      "Begin group  4 training\n"
     ]
    },
    {
     "name": "stderr",
     "output_type": "stream",
     "text": [
      "                                                                                                                        \r"
     ]
    },
    {
     "name": "stdout",
     "output_type": "stream",
     "text": [
      "Group 0, clients ['f_00043', 'f_00083', 'f_00023', 'f_00133']\n",
      "Group 1, clients ['f_00177', 'f_00169', 'f_00187', 'f_00088', 'f_00176', 'f_00059', 'f_00197']\n",
      "Group 2, clients ['f_00049', 'f_00039']\n",
      "Group 3, clients ['f_00182', 'f_00141', 'f_00191']\n",
      "Group 4, clients ['f_00036', 'f_00186', 'f_00175', 'f_00086']\n"
     ]
    },
    {
     "name": "stderr",
     "output_type": "stream",
     "text": [
      "Epoch:   0%|                                                                                     | 0/20 [00:00<?, ?it/s]"
     ]
    },
    {
     "name": "stdout",
     "output_type": "stream",
     "text": [
      "Group 0\n",
      "At round 72 accuracy: 0.837696335078534\n",
      "At round 72 training accuracy: 0.8417956656346749\n",
      "At round 72 training loss: 0.44934172465613015\n",
      "Group 1\n",
      "At round 72 accuracy: 0.7134502923976608\n",
      "At round 72 training accuracy: 0.7029360967184801\n",
      "At round 72 training loss: 0.8365249080515896\n",
      "Group 2\n",
      "At round 72 accuracy: 0.8164383561643835\n",
      "At round 72 training accuracy: 0.807582032494425\n",
      "At round 72 training loss: 0.48464711000487165\n",
      "Group 3\n",
      "At round 72 accuracy: 0.7976878612716763\n",
      "At round 72 training accuracy: 0.8148642634623943\n",
      "At round 72 training loss: 0.43066570394215287\n",
      "Group 4\n",
      "At round 72 accuracy: 0.8006329113924051\n",
      "At round 72 training accuracy: 0.8144949305294781\n",
      "At round 72 training loss: 0.4579678527896135\n",
      "At round 72 mean test accuracy: 0.7946985446985447 mean train accuracy: 0.7989769197978198\n",
      "The groups difference are: [19.48892476 19.54752463 19.61959237 20.12243821 19.37049635]\n",
      "Begin group  0 training\n"
     ]
    },
    {
     "name": "stderr",
     "output_type": "stream",
     "text": [
      "Epoch:  30%|███████████████████████                                                      | 6/20 [00:00<00:00, 55.63it/s]"
     ]
    },
    {
     "name": "stdout",
     "output_type": "stream",
     "text": [
      "Begin group  1 training\n"
     ]
    },
    {
     "name": "stderr",
     "output_type": "stream",
     "text": [
      "Epoch:   0%|                                                                                     | 0/20 [00:00<?, ?it/s]"
     ]
    },
    {
     "name": "stdout",
     "output_type": "stream",
     "text": [
      "Begin group  2 training\n",
      "Begin group  3 training\n"
     ]
    },
    {
     "name": "stderr",
     "output_type": "stream",
     "text": [
      "Epoch:   0%|                                                                                     | 0/20 [00:00<?, ?it/s]"
     ]
    },
    {
     "name": "stdout",
     "output_type": "stream",
     "text": [
      "Begin group  4 training\n"
     ]
    },
    {
     "name": "stderr",
     "output_type": "stream",
     "text": [
      "                                                                                                                        \r"
     ]
    },
    {
     "name": "stdout",
     "output_type": "stream",
     "text": [
      "Group 0, clients ['f_00153', 'f_00033', 'f_00014', 'f_00183']\n",
      "Group 1, clients ['f_00007', 'f_00169']\n",
      "Group 2, clients ['f_00089']\n",
      "Group 3, clients ['f_00091', 'f_00161', 'f_00021', 'f_00001', 'f_00052', 'f_00032', 'f_00092', 'f_00111']\n",
      "Group 4, clients ['f_00185', 'f_00165', 'f_00105', 'f_00045', 'f_00196']\n"
     ]
    },
    {
     "name": "stderr",
     "output_type": "stream",
     "text": [
      "Epoch:   0%|                                                                                     | 0/20 [00:00<?, ?it/s]"
     ]
    },
    {
     "name": "stdout",
     "output_type": "stream",
     "text": [
      "Group 0\n",
      "At round 73 accuracy: 0.8167539267015707\n",
      "At round 73 training accuracy: 0.8145510835913312\n",
      "At round 73 training loss: 0.6339134443954971\n",
      "Group 1\n",
      "At round 73 accuracy: 0.7456140350877193\n",
      "At round 73 training accuracy: 0.7606217616580311\n",
      "At round 73 training loss: 0.6420195130898338\n",
      "Group 2\n",
      "At round 73 accuracy: 0.7232876712328767\n",
      "At round 73 training accuracy: 0.7368588722523096\n",
      "At round 73 training loss: 0.7195588563820783\n",
      "Group 3\n",
      "At round 73 accuracy: 0.7398843930635838\n",
      "At round 73 training accuracy: 0.7498887405429462\n",
      "At round 73 training loss: 0.7109542897010067\n",
      "Group 4\n",
      "At round 73 accuracy: 0.8069620253164557\n",
      "At round 73 training accuracy: 0.8137438978595569\n",
      "At round 73 training loss: 0.4768560763184083\n",
      "At round 73 mean test accuracy: 0.764033264033264 mean train accuracy: 0.7723646550149199\n",
      "The groups difference are: [19.46455391 19.51433028 19.58343303 20.07912225 19.33546736]\n",
      "Begin group  0 training\n"
     ]
    },
    {
     "name": "stderr",
     "output_type": "stream",
     "text": [
      "Epoch:   0%|                                                                                     | 0/20 [00:00<?, ?it/s]"
     ]
    },
    {
     "name": "stdout",
     "output_type": "stream",
     "text": [
      "Begin group  1 training\n",
      "Begin group  2 training\n"
     ]
    },
    {
     "name": "stderr",
     "output_type": "stream",
     "text": [
      "Epoch:  35%|██████████████████████████▉                                                  | 7/20 [00:00<00:00, 67.75it/s]"
     ]
    },
    {
     "name": "stdout",
     "output_type": "stream",
     "text": [
      "Begin group  3 training\n"
     ]
    },
    {
     "name": "stderr",
     "output_type": "stream",
     "text": [
      "Epoch:   0%|                                                                                     | 0/20 [00:00<?, ?it/s]"
     ]
    },
    {
     "name": "stdout",
     "output_type": "stream",
     "text": [
      "Begin group  4 training\n"
     ]
    },
    {
     "name": "stderr",
     "output_type": "stream",
     "text": [
      "                                                                                                                        \r"
     ]
    },
    {
     "name": "stdout",
     "output_type": "stream",
     "text": [
      "Group 0, clients ['f_00194', 'f_00093', 'f_00084']\n",
      "Group 1, clients ['f_00176', 'f_00117', 'f_00097', 'f_00067']\n",
      "Group 2, clients ['f_00100', 'f_00069', 'f_00109', 'f_00130', 'f_00140']\n",
      "Group 3, clients ['f_00122', 'f_00101', 'f_00072', 'f_00022']\n",
      "Group 4, clients ['f_00136', 'f_00046', 'f_00185', 'f_00145']\n"
     ]
    },
    {
     "name": "stderr",
     "output_type": "stream",
     "text": [
      "Epoch:  30%|███████████████████████                                                      | 6/20 [00:00<00:00, 57.43it/s]"
     ]
    },
    {
     "name": "stdout",
     "output_type": "stream",
     "text": [
      "Group 0\n",
      "At round 74 accuracy: 0.8717277486910995\n",
      "At round 74 training accuracy: 0.8761609907120743\n",
      "At round 74 training loss: 0.3384087161106222\n",
      "Group 1\n",
      "At round 74 accuracy: 0.7660818713450293\n",
      "At round 74 training accuracy: 0.8010362694300518\n",
      "At round 74 training loss: 0.5589070466515932\n",
      "Group 2\n",
      "At round 74 accuracy: 0.7561643835616438\n",
      "At round 74 training accuracy: 0.7572475310608474\n",
      "At round 74 training loss: 0.8151957428628147\n",
      "Group 3\n",
      "At round 74 accuracy: 0.8188824662813102\n",
      "At round 74 training accuracy: 0.8311081441922563\n",
      "At round 74 training loss: 0.4053541961800378\n",
      "Group 4\n",
      "At round 74 accuracy: 0.8259493670886076\n",
      "At round 74 training accuracy: 0.8190011265490049\n",
      "At round 74 training loss: 0.47769857057549653\n",
      "At round 74 mean test accuracy: 0.8092515592515592 mean train accuracy: 0.8185859570062725\n",
      "The groups difference are: [19.4270852  19.47379937 19.5448546  20.04711162 19.30842506]\n",
      "Begin group  0 training\n"
     ]
    },
    {
     "name": "stderr",
     "output_type": "stream",
     "text": [
      "Epoch:  70%|████████████████████████████████████████████████████▌                      | 14/20 [00:00<00:00, 137.38it/s]"
     ]
    },
    {
     "name": "stdout",
     "output_type": "stream",
     "text": [
      "Begin group  1 training\n"
     ]
    },
    {
     "name": "stderr",
     "output_type": "stream",
     "text": [
      "Epoch:  35%|██████████████████████████▉                                                  | 7/20 [00:00<00:00, 63.56it/s]"
     ]
    },
    {
     "name": "stdout",
     "output_type": "stream",
     "text": [
      "Begin group  2 training\n"
     ]
    },
    {
     "name": "stderr",
     "output_type": "stream",
     "text": [
      "Epoch:  20%|███████████████▍                                                             | 4/20 [00:00<00:00, 37.95it/s]"
     ]
    },
    {
     "name": "stdout",
     "output_type": "stream",
     "text": [
      "Begin group  3 training\n"
     ]
    },
    {
     "name": "stderr",
     "output_type": "stream",
     "text": [
      "Epoch:  40%|██████████████████████████████▊                                              | 8/20 [00:00<00:00, 77.29it/s]"
     ]
    },
    {
     "name": "stdout",
     "output_type": "stream",
     "text": [
      "Begin group  4 training\n"
     ]
    },
    {
     "name": "stderr",
     "output_type": "stream",
     "text": [
      "                                                                                                                        \r"
     ]
    },
    {
     "name": "stdout",
     "output_type": "stream",
     "text": [
      "Group 0 is empty.\n",
      "Group 1, clients ['f_00068', 'f_00167', 'f_00147', 'f_00028', 'f_00107', 'f_00177']\n",
      "Group 2, clients ['f_00049', 'f_00119', 'f_00139', 'f_00160']\n",
      "Group 3, clients ['f_00142', 'f_00022', 'f_00002', 'f_00061', 'f_00091', 'f_00062']\n",
      "Group 4, clients ['f_00086', 'f_00085', 'f_00006', 'f_00035']\n"
     ]
    },
    {
     "name": "stderr",
     "output_type": "stream",
     "text": [
      "Epoch:  40%|██████████████████████████████▊                                              | 8/20 [00:00<00:00, 71.62it/s]"
     ]
    },
    {
     "name": "stdout",
     "output_type": "stream",
     "text": [
      "Group 0\n",
      "At round 75 accuracy: 0.8691099476439791\n",
      "At round 75 training accuracy: 0.8724458204334365\n",
      "At round 75 training loss: 0.35470465319259986\n",
      "Group 1\n",
      "At round 75 accuracy: 0.7514619883040936\n",
      "At round 75 training accuracy: 0.770293609671848\n",
      "At round 75 training loss: 1.0126710044802367\n",
      "Group 2\n",
      "At round 75 accuracy: 0.8164383561643835\n",
      "At round 75 training accuracy: 0.8072634597005416\n",
      "At round 75 training loss: 0.49160469207329976\n",
      "Group 3\n",
      "At round 75 accuracy: 0.8689788053949904\n",
      "At round 75 training accuracy: 0.8702714730752114\n",
      "At round 75 training loss: 0.41074975129692726\n",
      "Group 4\n",
      "At round 75 accuracy: 0.8322784810126582\n",
      "At round 75 training accuracy: 0.8452872699962448\n",
      "At round 75 training loss: 0.4064254829456517\n",
      "At round 75 mean test accuracy: 0.8321205821205822 mean train accuracy: 0.8369770415930821\n",
      "The groups difference are: [19.50300032 19.57772772 19.62718308 20.10797531 19.37563951]\n",
      "Begin group  1 training\n"
     ]
    },
    {
     "name": "stderr",
     "output_type": "stream",
     "text": [
      "Epoch:  60%|█████████████████████████████████████████████                              | 12/20 [00:00<00:00, 118.71it/s]"
     ]
    },
    {
     "name": "stdout",
     "output_type": "stream",
     "text": [
      "Begin group  2 training\n"
     ]
    },
    {
     "name": "stderr",
     "output_type": "stream",
     "text": [
      "Epoch:   0%|                                                                                     | 0/20 [00:00<?, ?it/s]"
     ]
    },
    {
     "name": "stdout",
     "output_type": "stream",
     "text": [
      "Begin group  3 training\n"
     ]
    },
    {
     "name": "stderr",
     "output_type": "stream",
     "text": [
      "Epoch:   0%|                                                                                     | 0/20 [00:00<?, ?it/s]"
     ]
    },
    {
     "name": "stdout",
     "output_type": "stream",
     "text": [
      "Begin group  4 training\n"
     ]
    },
    {
     "name": "stderr",
     "output_type": "stream",
     "text": [
      "                                                                                                                        \r"
     ]
    },
    {
     "name": "stdout",
     "output_type": "stream",
     "text": [
      "Group 0, clients ['f_00074', 'f_00164', 'f_00094']\n",
      "Group 1, clients ['f_00157', 'f_00007', 'f_00178', 'f_00107', 'f_00059']\n",
      "Group 2, clients ['f_00050', 'f_00009', 'f_00179']\n",
      "Group 3, clients ['f_00092', 'f_00122', 'f_00032', 'f_00022', 'f_00051', 'f_00021']\n",
      "Group 4, clients ['f_00115', 'f_00096', 'f_00095']\n"
     ]
    },
    {
     "name": "stderr",
     "output_type": "stream",
     "text": [
      "Epoch:   0%|                                                                                     | 0/20 [00:00<?, ?it/s]"
     ]
    },
    {
     "name": "stdout",
     "output_type": "stream",
     "text": [
      "Group 0\n",
      "At round 76 accuracy: 0.8691099476439791\n",
      "At round 76 training accuracy: 0.8724458204334365\n",
      "At round 76 training loss: 0.3541085572619187\n",
      "Group 1\n",
      "At round 76 accuracy: 0.7397660818713451\n",
      "At round 76 training accuracy: 0.755440414507772\n",
      "At round 76 training loss: 0.6950713857673816\n",
      "Group 2\n",
      "At round 76 accuracy: 0.810958904109589\n",
      "At round 76 training accuracy: 0.8161834979292768\n",
      "At round 76 training loss: 0.5569122418946391\n",
      "Group 3\n",
      "At round 76 accuracy: 0.8709055876685935\n",
      "At round 76 training accuracy: 0.8720516243880729\n",
      "At round 76 training loss: 0.5829310132481546\n",
      "Group 4\n",
      "At round 76 accuracy: 0.8829113924050633\n",
      "At round 76 training accuracy: 0.8911002628614345\n",
      "At round 76 training loss: 0.36491772954933094\n",
      "At round 76 mean test accuracy: 0.8378378378378378 mean train accuracy: 0.8439802691675293\n",
      "The groups difference are: [19.66465457 19.7670904  19.84126881 20.37813971 19.56398479]\n",
      "Begin group  0 training\n"
     ]
    },
    {
     "name": "stderr",
     "output_type": "stream",
     "text": [
      "Epoch:   0%|                                                                                     | 0/20 [00:00<?, ?it/s]"
     ]
    },
    {
     "name": "stdout",
     "output_type": "stream",
     "text": [
      "Begin group  1 training\n"
     ]
    },
    {
     "name": "stderr",
     "output_type": "stream",
     "text": [
      "Epoch:   0%|                                                                                     | 0/20 [00:00<?, ?it/s]"
     ]
    },
    {
     "name": "stdout",
     "output_type": "stream",
     "text": [
      "Begin group  2 training\n"
     ]
    },
    {
     "name": "stderr",
     "output_type": "stream",
     "text": [
      "Epoch:   0%|                                                                                     | 0/20 [00:00<?, ?it/s]"
     ]
    },
    {
     "name": "stdout",
     "output_type": "stream",
     "text": [
      "Begin group  3 training\n"
     ]
    },
    {
     "name": "stderr",
     "output_type": "stream",
     "text": [
      "Epoch:  60%|█████████████████████████████████████████████                              | 12/20 [00:00<00:00, 110.54it/s]"
     ]
    },
    {
     "name": "stdout",
     "output_type": "stream",
     "text": [
      "Begin group  4 training\n"
     ]
    },
    {
     "name": "stderr",
     "output_type": "stream",
     "text": [
      "                                                                                                                        \r"
     ]
    },
    {
     "name": "stdout",
     "output_type": "stream",
     "text": [
      "Group 0, clients ['f_00074', 'f_00123', 'f_00174', 'f_00013', 'f_00193', 'f_00154']\n",
      "Group 1, clients ['f_00127', 'f_00048', 'f_00107', 'f_00017', 'f_00058', 'f_00008']\n",
      "Group 2, clients ['f_00020', 'f_00090', 'f_00049', 'f_00170', 'f_00149']\n",
      "Group 3, clients ['f_00182', 'f_00191']\n",
      "Group 4, clients ['f_00016']\n"
     ]
    },
    {
     "name": "stderr",
     "output_type": "stream",
     "text": [
      "Epoch:   0%|                                                                                     | 0/20 [00:00<?, ?it/s]"
     ]
    },
    {
     "name": "stdout",
     "output_type": "stream",
     "text": [
      "Group 0\n",
      "At round 77 accuracy: 0.8167539267015707\n",
      "At round 77 training accuracy: 0.8052631578947368\n",
      "At round 77 training loss: 0.656046024564619\n",
      "Group 1\n",
      "At round 77 accuracy: 0.7251461988304093\n",
      "At round 77 training accuracy: 0.755440414507772\n",
      "At round 77 training loss: 0.6085429681500417\n",
      "Group 2\n",
      "At round 77 accuracy: 0.8328767123287671\n",
      "At round 77 training accuracy: 0.8129977699904428\n",
      "At round 77 training loss: 0.4933050142594605\n",
      "Group 3\n",
      "At round 77 accuracy: 0.859344894026975\n",
      "At round 77 training accuracy: 0.8638184245660881\n",
      "At round 77 training loss: 0.5172078094126439\n",
      "Group 4\n",
      "At round 77 accuracy: 0.8069620253164557\n",
      "At round 77 training accuracy: 0.8370259106271123\n",
      "At round 77 training loss: 0.4342312756009537\n",
      "At round 77 mean test accuracy: 0.8134095634095634 mean train accuracy: 0.8191340356860118\n",
      "The groups difference are: [19.70604804 19.76979756 19.84526461 20.38445905 19.56882589]\n",
      "Begin group  0 training\n"
     ]
    },
    {
     "name": "stderr",
     "output_type": "stream",
     "text": [
      "Epoch:   0%|                                                                                     | 0/20 [00:00<?, ?it/s]"
     ]
    },
    {
     "name": "stdout",
     "output_type": "stream",
     "text": [
      "Begin group  1 training\n"
     ]
    },
    {
     "name": "stderr",
     "output_type": "stream",
     "text": [
      "Epoch:   0%|                                                                                     | 0/20 [00:00<?, ?it/s]"
     ]
    },
    {
     "name": "stdout",
     "output_type": "stream",
     "text": [
      "Begin group  2 training\n"
     ]
    },
    {
     "name": "stderr",
     "output_type": "stream",
     "text": [
      "                                                                                                                        "
     ]
    },
    {
     "name": "stdout",
     "output_type": "stream",
     "text": [
      "Begin group  3 training\n"
     ]
    },
    {
     "name": "stderr",
     "output_type": "stream",
     "text": [
      "                                                                                                                        \r"
     ]
    },
    {
     "name": "stdout",
     "output_type": "stream",
     "text": [
      "Begin group  4 training\n",
      "Group 0, clients ['f_00173', 'f_00193', 'f_00024', 'f_00004']\n",
      "Group 1, clients ['f_00118', 'f_00128', 'f_00138']\n",
      "Group 2, clients ['f_00099', 'f_00079', 'f_00089', 'f_00050', 'f_00080', 'f_00190', 'f_00049', 'f_00039']\n",
      "Group 3, clients ['f_00002', 'f_00132', 'f_00042']\n",
      "Group 4, clients ['f_00006', 'f_00196']\n"
     ]
    },
    {
     "name": "stderr",
     "output_type": "stream",
     "text": [
      "Epoch:   0%|                                                                                     | 0/20 [00:00<?, ?it/s]"
     ]
    },
    {
     "name": "stdout",
     "output_type": "stream",
     "text": [
      "Group 0\n",
      "At round 78 accuracy: 0.8324607329842932\n",
      "At round 78 training accuracy: 0.8325077399380805\n",
      "At round 78 training loss: 0.42045929922777064\n",
      "Group 1\n",
      "At round 78 accuracy: 0.7573099415204678\n",
      "At round 78 training accuracy: 0.7734024179620035\n",
      "At round 78 training loss: 0.584710555743677\n",
      "Group 2\n",
      "At round 78 accuracy: 0.8356164383561644\n",
      "At round 78 training accuracy: 0.8276521185090793\n",
      "At round 78 training loss: 0.4634736785086601\n",
      "Group 3\n",
      "At round 78 accuracy: 0.7784200385356455\n",
      "At round 78 training accuracy: 0.7761459724076547\n",
      "At round 78 training loss: 0.6568473617587294\n",
      "Group 4\n",
      "At round 78 accuracy: 0.7753164556962026\n",
      "At round 78 training accuracy: 0.7874577544123169\n",
      "At round 78 training loss: 0.5698110023992562\n",
      "At round 78 mean test accuracy: 0.7957380457380457 mean train accuracy: 0.7984288411180805\n",
      "The groups difference are: [19.70470946 19.75031567 19.82636999 20.34603009 19.5483336 ]\n",
      "Begin group  0 training\n"
     ]
    },
    {
     "name": "stderr",
     "output_type": "stream",
     "text": [
      "Epoch:  25%|███████████████████▎                                                         | 5/20 [00:00<00:00, 41.96it/s]"
     ]
    },
    {
     "name": "stdout",
     "output_type": "stream",
     "text": [
      "Begin group  1 training\n"
     ]
    },
    {
     "name": "stderr",
     "output_type": "stream",
     "text": [
      "Epoch:  45%|██████████████████████████████████▋                                          | 9/20 [00:00<00:00, 82.89it/s]"
     ]
    },
    {
     "name": "stdout",
     "output_type": "stream",
     "text": [
      "Begin group  2 training\n"
     ]
    },
    {
     "name": "stderr",
     "output_type": "stream",
     "text": [
      "Epoch:  35%|██████████████████████████▉                                                  | 7/20 [00:00<00:00, 61.30it/s]"
     ]
    },
    {
     "name": "stdout",
     "output_type": "stream",
     "text": [
      "Begin group  3 training\n"
     ]
    },
    {
     "name": "stderr",
     "output_type": "stream",
     "text": [
      "Epoch:   0%|                                                                                     | 0/20 [00:00<?, ?it/s]"
     ]
    },
    {
     "name": "stdout",
     "output_type": "stream",
     "text": [
      "Begin group  4 training\n"
     ]
    },
    {
     "name": "stderr",
     "output_type": "stream",
     "text": [
      "                                                                                                                        \r"
     ]
    },
    {
     "name": "stdout",
     "output_type": "stream",
     "text": [
      "Group 0, clients ['f_00054', 'f_00154']\n",
      "Group 1, clients ['f_00128', 'f_00098', 'f_00007', 'f_00137', 'f_00097', 'f_00127']\n",
      "Group 2, clients ['f_00139', 'f_00000', 'f_00029', 'f_00180', 'f_00120', 'f_00069']\n",
      "Group 3, clients ['f_00091', 'f_00131', 'f_00042']\n",
      "Group 4, clients ['f_00196', 'f_00185', 'f_00045']\n"
     ]
    },
    {
     "name": "stderr",
     "output_type": "stream",
     "text": [
      "Epoch:  35%|██████████████████████████▉                                                  | 7/20 [00:00<00:00, 65.16it/s]"
     ]
    },
    {
     "name": "stdout",
     "output_type": "stream",
     "text": [
      "Group 0\n",
      "At round 79 accuracy: 0.8926701570680629\n",
      "At round 79 training accuracy: 0.9095975232198142\n",
      "At round 79 training loss: 0.2935310403905786\n",
      "Group 1\n",
      "At round 79 accuracy: 0.6608187134502924\n",
      "At round 79 training accuracy: 0.629706390328152\n",
      "At round 79 training loss: 1.2613692165759356\n",
      "Group 2\n",
      "At round 79 accuracy: 0.8273972602739726\n",
      "At round 79 training accuracy: 0.8327492832112138\n",
      "At round 79 training loss: 0.44770497590654706\n",
      "Group 3\n",
      "At round 79 accuracy: 0.8709055876685935\n",
      "At round 79 training accuracy: 0.8738317757009346\n",
      "At round 79 training loss: 0.3999124106482288\n",
      "Group 4\n",
      "At round 79 accuracy: 0.7721518987341772\n",
      "At round 79 training accuracy: 0.7863312054074352\n",
      "At round 79 training loss: 0.7265712369458593\n",
      "At round 79 mean test accuracy: 0.8134095634095634 mean train accuracy: 0.8157846659764935\n",
      "The groups difference are: [19.70413518 19.77204503 19.83378221 20.34822358 19.55864561]\n",
      "Begin group  0 training\n"
     ]
    },
    {
     "name": "stderr",
     "output_type": "stream",
     "text": [
      "Epoch:  25%|███████████████████▎                                                         | 5/20 [00:00<00:00, 48.49it/s]"
     ]
    },
    {
     "name": "stdout",
     "output_type": "stream",
     "text": [
      "Begin group  1 training\n"
     ]
    },
    {
     "name": "stderr",
     "output_type": "stream",
     "text": [
      "Epoch:   0%|                                                                                     | 0/20 [00:00<?, ?it/s]"
     ]
    },
    {
     "name": "stdout",
     "output_type": "stream",
     "text": [
      "Begin group  2 training\n"
     ]
    },
    {
     "name": "stderr",
     "output_type": "stream",
     "text": [
      "Epoch:  35%|██████████████████████████▉                                                  | 7/20 [00:00<00:00, 63.44it/s]"
     ]
    },
    {
     "name": "stdout",
     "output_type": "stream",
     "text": [
      "Begin group  3 training\n"
     ]
    },
    {
     "name": "stderr",
     "output_type": "stream",
     "text": [
      "Epoch:   0%|                                                                                     | 0/20 [00:00<?, ?it/s]"
     ]
    },
    {
     "name": "stdout",
     "output_type": "stream",
     "text": [
      "Begin group  4 training\n"
     ]
    },
    {
     "name": "stderr",
     "output_type": "stream",
     "text": [
      "                                                                                                                        \r"
     ]
    },
    {
     "name": "stdout",
     "output_type": "stream",
     "text": [
      "Group 0, clients ['f_00104', 'f_00023']\n",
      "Group 1, clients ['f_00168', 'f_00097', 'f_00028']\n",
      "Group 2, clients ['f_00109', 'f_00060', 'f_00130', 'f_00029', 'f_00030', 'f_00049', 'f_00149']\n",
      "Group 3, clients ['f_00161', 'f_00142', 'f_00061', 'f_00021', 'f_00022', 'f_00092']\n",
      "Group 4, clients ['f_00005', 'f_00025']\n"
     ]
    },
    {
     "name": "stderr",
     "output_type": "stream",
     "text": [
      "Epoch:   0%|                                                                                     | 0/20 [00:00<?, ?it/s]"
     ]
    },
    {
     "name": "stdout",
     "output_type": "stream",
     "text": [
      "Group 0\n",
      "At round 80 accuracy: 0.8324607329842932\n",
      "At round 80 training accuracy: 0.8179566563467492\n",
      "At round 80 training loss: 0.5472087107068245\n",
      "Group 1\n",
      "At round 80 accuracy: 0.7339181286549707\n",
      "At round 80 training accuracy: 0.7236614853195165\n",
      "At round 80 training loss: 0.7288742422851668\n",
      "Group 2\n",
      "At round 80 accuracy: 0.8356164383561644\n",
      "At round 80 training accuracy: 0.8314749920356802\n",
      "At round 80 training loss: 0.44715650870983065\n",
      "Group 3\n",
      "At round 80 accuracy: 0.7764932562620424\n",
      "At round 80 training accuracy: 0.7757009345794392\n",
      "At round 80 training loss: 0.6275382340899377\n",
      "Group 4\n",
      "At round 80 accuracy: 0.8481012658227848\n",
      "At round 80 training accuracy: 0.8546751783702591\n",
      "At round 80 training loss: 0.4018412669865296\n",
      "At round 80 mean test accuracy: 0.803014553014553 mean train accuracy: 0.7983070458559162\n",
      "The groups difference are: [19.73167207 19.805634   19.85454067 20.36138682 19.57465662]\n",
      "Begin group  0 training\n"
     ]
    },
    {
     "name": "stderr",
     "output_type": "stream",
     "text": [
      "Epoch:   0%|                                                                                     | 0/20 [00:00<?, ?it/s]"
     ]
    },
    {
     "name": "stdout",
     "output_type": "stream",
     "text": [
      "Begin group  1 training\n"
     ]
    },
    {
     "name": "stderr",
     "output_type": "stream",
     "text": [
      "Epoch:   0%|                                                                                     | 0/20 [00:00<?, ?it/s]"
     ]
    },
    {
     "name": "stdout",
     "output_type": "stream",
     "text": [
      "Begin group  2 training\n"
     ]
    },
    {
     "name": "stderr",
     "output_type": "stream",
     "text": [
      "Epoch:   0%|                                                                                     | 0/20 [00:00<?, ?it/s]"
     ]
    },
    {
     "name": "stdout",
     "output_type": "stream",
     "text": [
      "Begin group  3 training\n"
     ]
    },
    {
     "name": "stderr",
     "output_type": "stream",
     "text": [
      "Epoch:  20%|███████████████▍                                                             | 4/20 [00:00<00:00, 38.70it/s]"
     ]
    },
    {
     "name": "stdout",
     "output_type": "stream",
     "text": [
      "Begin group  4 training\n"
     ]
    },
    {
     "name": "stderr",
     "output_type": "stream",
     "text": [
      "                                                                                                                        \r"
     ]
    },
    {
     "name": "stdout",
     "output_type": "stream",
     "text": [
      "Group 0, clients ['f_00103', 'f_00073', 'f_00044', 'f_00134', 'f_00143']\n",
      "Group 1, clients ['f_00088', 'f_00068', 'f_00037', 'f_00147', 'f_00047', 'f_00187']\n",
      "Group 2, clients ['f_00160', 'f_00189', 'f_00190', 'f_00149']\n",
      "Group 3, clients ['f_00171', 'f_00182', 'f_00141', 'f_00032']\n",
      "Group 4, clients ['f_00086']\n"
     ]
    },
    {
     "name": "stderr",
     "output_type": "stream",
     "text": [
      "Epoch:   0%|                                                                                     | 0/20 [00:00<?, ?it/s]"
     ]
    },
    {
     "name": "stdout",
     "output_type": "stream",
     "text": [
      "Group 0\n",
      "At round 81 accuracy: 0.8403141361256544\n",
      "At round 81 training accuracy: 0.8380804953560371\n",
      "At round 81 training loss: 0.4175776964785883\n",
      "Group 1\n",
      "At round 81 accuracy: 0.8070175438596491\n",
      "At round 81 training accuracy: 0.7675302245250432\n",
      "At round 81 training loss: 0.6048270917000548\n",
      "Group 2\n",
      "At round 81 accuracy: 0.8657534246575342\n",
      "At round 81 training accuracy: 0.8464479133482\n",
      "At round 81 training loss: 0.40176169639770754\n",
      "Group 3\n",
      "At round 81 accuracy: 0.8766859344894027\n",
      "At round 81 training accuracy: 0.8871829105473965\n",
      "At round 81 training loss: 0.3091829706946637\n",
      "Group 4\n",
      "At round 81 accuracy: 0.8354430379746836\n",
      "At round 81 training accuracy: 0.8351483289523094\n",
      "At round 81 training loss: 0.7409759541561494\n",
      "At round 81 mean test accuracy: 0.8482328482328483 mean train accuracy: 0.8402046160404361\n",
      "The groups difference are: [19.72426953 19.80103591 19.85216487 20.34710306 19.60537814]\n",
      "Begin group  0 training\n"
     ]
    },
    {
     "name": "stderr",
     "output_type": "stream",
     "text": [
      "Epoch:  45%|██████████████████████████████████▋                                          | 9/20 [00:00<00:00, 88.13it/s]"
     ]
    },
    {
     "name": "stdout",
     "output_type": "stream",
     "text": [
      "Begin group  1 training\n"
     ]
    },
    {
     "name": "stderr",
     "output_type": "stream",
     "text": [
      "Epoch:  15%|███████████▌                                                                 | 3/20 [00:00<00:00, 29.20it/s]"
     ]
    },
    {
     "name": "stdout",
     "output_type": "stream",
     "text": [
      "Begin group  2 training\n"
     ]
    },
    {
     "name": "stderr",
     "output_type": "stream",
     "text": [
      "Epoch:   0%|                                                                                     | 0/20 [00:00<?, ?it/s]"
     ]
    },
    {
     "name": "stdout",
     "output_type": "stream",
     "text": [
      "Begin group  3 training\n"
     ]
    },
    {
     "name": "stderr",
     "output_type": "stream",
     "text": [
      "                                                                                                                        \r"
     ]
    },
    {
     "name": "stdout",
     "output_type": "stream",
     "text": [
      "Begin group  4 training\n",
      "Group 0, clients ['f_00114', 'f_00084', 'f_00033']\n",
      "Group 1, clients ['f_00018', 'f_00107']\n",
      "Group 2, clients ['f_00130', 'f_00179', 'f_00090', 'f_00040', 'f_00140']\n",
      "Group 3, clients ['f_00151', 'f_00032', 'f_00191', 'f_00161']\n",
      "Group 4, clients ['f_00086', 'f_00116', 'f_00066', 'f_00055', 'f_00026', 'f_00015']\n"
     ]
    },
    {
     "name": "stderr",
     "output_type": "stream",
     "text": [
      "Epoch:   0%|                                                                                     | 0/20 [00:00<?, ?it/s]"
     ]
    },
    {
     "name": "stdout",
     "output_type": "stream",
     "text": [
      "Group 0\n",
      "At round 82 accuracy: 0.8429319371727748\n",
      "At round 82 training accuracy: 0.8445820433436533\n",
      "At round 82 training loss: 0.44928119769406394\n",
      "Group 1\n",
      "At round 82 accuracy: 0.8070175438596491\n",
      "At round 82 training accuracy: 0.8207253886010363\n",
      "At round 82 training loss: 0.532707873022824\n",
      "Group 2\n",
      "At round 82 accuracy: 0.8136986301369863\n",
      "At round 82 training accuracy: 0.8165020707231603\n",
      "At round 82 training loss: 0.5204965107216505\n",
      "Group 3\n",
      "At round 82 accuracy: 0.8208092485549133\n",
      "At round 82 training accuracy: 0.8141967067200712\n",
      "At round 82 training loss: 0.4974880855469158\n",
      "Group 4\n",
      "At round 82 accuracy: 0.7721518987341772\n",
      "At round 82 training accuracy: 0.7780698460383026\n",
      "At round 82 training loss: 0.59511866901172\n",
      "At round 82 mean test accuracy: 0.8134095634095634 mean train accuracy: 0.8159064612386578\n",
      "The groups difference are: [19.7818105  19.84315092 19.91806411 20.36565361 19.64206386]\n",
      "Begin group  0 training\n"
     ]
    },
    {
     "name": "stderr",
     "output_type": "stream",
     "text": [
      "Epoch:   0%|                                                                                     | 0/20 [00:00<?, ?it/s]"
     ]
    },
    {
     "name": "stdout",
     "output_type": "stream",
     "text": [
      "Begin group  1 training\n"
     ]
    },
    {
     "name": "stderr",
     "output_type": "stream",
     "text": [
      "Epoch:   0%|                                                                                     | 0/20 [00:00<?, ?it/s]"
     ]
    },
    {
     "name": "stdout",
     "output_type": "stream",
     "text": [
      "Begin group  2 training\n"
     ]
    },
    {
     "name": "stderr",
     "output_type": "stream",
     "text": [
      "Epoch:  80%|████████████████████████████████████████████████████████████               | 16/20 [00:00<00:00, 151.14it/s]"
     ]
    },
    {
     "name": "stdout",
     "output_type": "stream",
     "text": [
      "Begin group  3 training\n"
     ]
    },
    {
     "name": "stderr",
     "output_type": "stream",
     "text": [
      "Epoch:   0%|                                                                                     | 0/20 [00:00<?, ?it/s]"
     ]
    },
    {
     "name": "stdout",
     "output_type": "stream",
     "text": [
      "Begin group  4 training\n"
     ]
    },
    {
     "name": "stderr",
     "output_type": "stream",
     "text": [
      "                                                                                                                        \r"
     ]
    },
    {
     "name": "stdout",
     "output_type": "stream",
     "text": [
      "Group 0, clients ['f_00113']\n",
      "Group 1, clients ['f_00027', 'f_00158', 'f_00088', 'f_00147', 'f_00138']\n",
      "Group 2, clients ['f_00069', 'f_00109', 'f_00030', 'f_00179']\n",
      "Group 3, clients ['f_00042', 'f_00161', 'f_00151', 'f_00071']\n",
      "Group 4, clients ['f_00125', 'f_00186', 'f_00046', 'f_00055', 'f_00056', 'f_00145']\n"
     ]
    },
    {
     "name": "stderr",
     "output_type": "stream",
     "text": [
      "Epoch:   0%|                                                                                     | 0/20 [00:00<?, ?it/s]"
     ]
    },
    {
     "name": "stdout",
     "output_type": "stream",
     "text": [
      "Group 0\n",
      "At round 83 accuracy: 0.887434554973822\n",
      "At round 83 training accuracy: 0.8786377708978328\n",
      "At round 83 training loss: 0.3470409541399486\n",
      "Group 1\n",
      "At round 83 accuracy: 0.7485380116959064\n",
      "At round 83 training accuracy: 0.7941278065630397\n",
      "At round 83 training loss: 0.5846529040826622\n",
      "Group 2\n",
      "At round 83 accuracy: 0.8273972602739726\n",
      "At round 83 training accuracy: 0.8356164383561644\n",
      "At round 83 training loss: 0.5151157135006803\n",
      "Group 3\n",
      "At round 83 accuracy: 0.7822736030828517\n",
      "At round 83 training accuracy: 0.7846016911437472\n",
      "At round 83 training loss: 0.6020580220471821\n",
      "Group 4\n",
      "At round 83 accuracy: 0.7848101265822784\n",
      "At round 83 training accuracy: 0.817123544874202\n",
      "At round 83 training loss: 0.48751136928606514\n",
      "At round 83 mean test accuracy: 0.8061330561330561 mean train accuracy: 0.8198039096279155\n",
      "The groups difference are: [19.75446641 19.82153124 19.8989808  20.33460557 19.62565588]\n",
      "Begin group  0 training\n",
      "Begin group  1 training\n"
     ]
    },
    {
     "name": "stderr",
     "output_type": "stream",
     "text": [
      "Epoch:  50%|██████████████████████████████████████                                      | 10/20 [00:00<00:00, 96.86it/s]"
     ]
    },
    {
     "name": "stdout",
     "output_type": "stream",
     "text": [
      "Begin group  2 training\n"
     ]
    },
    {
     "name": "stderr",
     "output_type": "stream",
     "text": [
      "Epoch:   0%|                                                                                     | 0/20 [00:00<?, ?it/s]"
     ]
    },
    {
     "name": "stdout",
     "output_type": "stream",
     "text": [
      "Begin group  3 training\n"
     ]
    },
    {
     "name": "stderr",
     "output_type": "stream",
     "text": [
      "Epoch:   0%|                                                                                     | 0/20 [00:00<?, ?it/s]"
     ]
    },
    {
     "name": "stdout",
     "output_type": "stream",
     "text": [
      "Begin group  4 training\n"
     ]
    },
    {
     "name": "stderr",
     "output_type": "stream",
     "text": [
      "                                                                                                                        \r"
     ]
    },
    {
     "name": "stdout",
     "output_type": "stream",
     "text": [
      "Group 0, clients ['f_00103', 'f_00074', 'f_00104', 'f_00134', 'f_00054']\n",
      "Group 1, clients ['f_00188', 'f_00028', 'f_00157', 'f_00137', 'f_00059']\n",
      "Group 2, clients ['f_00120', 'f_00119']\n",
      "Group 3, clients ['f_00012', 'f_00011', 'f_00001']\n",
      "Group 4, clients ['f_00155', 'f_00096', 'f_00025', 'f_00085', 'f_00066']\n"
     ]
    },
    {
     "name": "stderr",
     "output_type": "stream",
     "text": [
      "Epoch:   0%|                                                                                     | 0/20 [00:00<?, ?it/s]"
     ]
    },
    {
     "name": "stdout",
     "output_type": "stream",
     "text": [
      "Group 0\n",
      "At round 84 accuracy: 0.856020942408377\n",
      "At round 84 training accuracy: 0.8476780185758513\n",
      "At round 84 training loss: 0.4310362099171054\n",
      "Group 1\n",
      "At round 84 accuracy: 0.7456140350877193\n",
      "At round 84 training accuracy: 0.7253886010362695\n",
      "At round 84 training loss: 0.6696636785754679\n",
      "Group 2\n",
      "At round 84 accuracy: 0.7616438356164383\n",
      "At round 84 training accuracy: 0.7664861420834661\n",
      "At round 84 training loss: 0.60700503634909\n",
      "Group 3\n",
      "At round 84 accuracy: 0.8304431599229287\n",
      "At round 84 training accuracy: 0.840231419670672\n",
      "At round 84 training loss: 0.38897948098026175\n",
      "Group 4\n",
      "At round 84 accuracy: 0.8829113924050633\n",
      "At round 84 training accuracy: 0.8869695831768682\n",
      "At round 84 training loss: 0.3541037256539517\n",
      "At round 84 mean test accuracy: 0.816008316008316 mean train accuracy: 0.8149320991413433\n",
      "The groups difference are: [19.70525168 19.77674756 19.85384003 20.28398984 19.58898254]\n",
      "Begin group  0 training\n"
     ]
    },
    {
     "name": "stderr",
     "output_type": "stream",
     "text": [
      "Epoch:   0%|                                                                                     | 0/20 [00:00<?, ?it/s]"
     ]
    },
    {
     "name": "stdout",
     "output_type": "stream",
     "text": [
      "Begin group  1 training\n"
     ]
    },
    {
     "name": "stderr",
     "output_type": "stream",
     "text": [
      "Epoch:   0%|                                                                                     | 0/20 [00:00<?, ?it/s]"
     ]
    },
    {
     "name": "stdout",
     "output_type": "stream",
     "text": [
      "Begin group  2 training\n"
     ]
    },
    {
     "name": "stderr",
     "output_type": "stream",
     "text": [
      "Epoch:   0%|                                                                                     | 0/20 [00:00<?, ?it/s]"
     ]
    },
    {
     "name": "stdout",
     "output_type": "stream",
     "text": [
      "Begin group  3 training\n"
     ]
    },
    {
     "name": "stderr",
     "output_type": "stream",
     "text": [
      "Epoch:  50%|██████████████████████████████████████                                      | 10/20 [00:00<00:00, 97.85it/s]"
     ]
    },
    {
     "name": "stdout",
     "output_type": "stream",
     "text": [
      "Begin group  4 training\n"
     ]
    },
    {
     "name": "stderr",
     "output_type": "stream",
     "text": [
      "                                                                                                                        \r"
     ]
    },
    {
     "name": "stdout",
     "output_type": "stream",
     "text": [
      "Group 0, clients ['f_00094', 'f_00143', 'f_00023']\n",
      "Group 1, clients ['f_00167', 'f_00048', 'f_00157', 'f_00088', 'f_00028', 'f_00087', 'f_00148']\n",
      "Group 2, clients ['f_00070', 'f_00139', 'f_00049']\n",
      "Group 3, clients ['f_00111', 'f_00042']\n",
      "Group 4, clients ['f_00195', 'f_00046', 'f_00066', 'f_00055', 'f_00185']\n"
     ]
    },
    {
     "name": "stderr",
     "output_type": "stream",
     "text": [
      "Epoch:  60%|█████████████████████████████████████████████                              | 12/20 [00:00<00:00, 114.02it/s]"
     ]
    },
    {
     "name": "stdout",
     "output_type": "stream",
     "text": [
      "Group 0\n",
      "At round 85 accuracy: 0.8848167539267016\n",
      "At round 85 training accuracy: 0.8798761609907121\n",
      "At round 85 training loss: 0.34471916993243773\n",
      "Group 1\n",
      "At round 85 accuracy: 0.7485380116959064\n",
      "At round 85 training accuracy: 0.7962003454231433\n",
      "At round 85 training loss: 0.5491134804559289\n",
      "Group 2\n",
      "At round 85 accuracy: 0.873972602739726\n",
      "At round 85 training accuracy: 0.8537750876075183\n",
      "At round 85 training loss: 0.4161423012096816\n",
      "Group 3\n",
      "At round 85 accuracy: 0.8246628131021194\n",
      "At round 85 training accuracy: 0.8257676902536716\n",
      "At round 85 training loss: 0.48290024684517446\n",
      "Group 4\n",
      "At round 85 accuracy: 0.819620253164557\n",
      "At round 85 training accuracy: 0.8370259106271123\n",
      "At round 85 training loss: 0.402826981451831\n",
      "At round 85 mean test accuracy: 0.8316008316008316 mean train accuracy: 0.8383776871079714\n",
      "The groups difference are: [19.67699227 19.7436737  19.82713077 20.24732842 19.56555035]\n",
      "Begin group  0 training\n"
     ]
    },
    {
     "name": "stderr",
     "output_type": "stream",
     "text": [
      "Epoch:   0%|                                                                                     | 0/20 [00:00<?, ?it/s]"
     ]
    },
    {
     "name": "stdout",
     "output_type": "stream",
     "text": [
      "Begin group  1 training\n"
     ]
    },
    {
     "name": "stderr",
     "output_type": "stream",
     "text": [
      "Epoch:  25%|███████████████████▎                                                         | 5/20 [00:00<00:00, 43.13it/s]"
     ]
    },
    {
     "name": "stdout",
     "output_type": "stream",
     "text": [
      "Begin group  2 training\n"
     ]
    },
    {
     "name": "stderr",
     "output_type": "stream",
     "text": [
      "Epoch:   0%|                                                                                     | 0/20 [00:00<?, ?it/s]"
     ]
    },
    {
     "name": "stdout",
     "output_type": "stream",
     "text": [
      "Begin group  3 training\n"
     ]
    },
    {
     "name": "stderr",
     "output_type": "stream",
     "text": [
      "Epoch:   0%|                                                                                     | 0/20 [00:00<?, ?it/s]"
     ]
    },
    {
     "name": "stdout",
     "output_type": "stream",
     "text": [
      "Begin group  4 training\n"
     ]
    },
    {
     "name": "stderr",
     "output_type": "stream",
     "text": [
      "                                                                                                                        \r"
     ]
    },
    {
     "name": "stdout",
     "output_type": "stream",
     "text": [
      "Group 0, clients ['f_00113', 'f_00094', 'f_00034', 'f_00074', 'f_00184', 'f_00083']\n",
      "Group 1, clients ['f_00176', 'f_00067', 'f_00037']\n",
      "Group 2, clients ['f_00030', 'f_00189']\n",
      "Group 3, clients ['f_00171', 'f_00182', 'f_00001', 'f_00132', 'f_00012', 'f_00032']\n",
      "Group 4, clients ['f_00055', 'f_00135', 'f_00195']\n"
     ]
    },
    {
     "name": "stderr",
     "output_type": "stream",
     "text": [
      "Epoch:  45%|██████████████████████████████████▋                                          | 9/20 [00:00<00:00, 86.63it/s]"
     ]
    },
    {
     "name": "stdout",
     "output_type": "stream",
     "text": [
      "Group 0\n",
      "At round 86 accuracy: 0.8691099476439791\n",
      "At round 86 training accuracy: 0.8743034055727554\n",
      "At round 86 training loss: 0.3416095963710971\n",
      "Group 1\n",
      "At round 86 accuracy: 0.7192982456140351\n",
      "At round 86 training accuracy: 0.7499136442141624\n",
      "At round 86 training loss: 0.7330293659616217\n",
      "Group 2\n",
      "At round 86 accuracy: 0.8301369863013699\n",
      "At round 86 training accuracy: 0.8381650207072316\n",
      "At round 86 training loss: 0.5291611751237087\n",
      "Group 3\n",
      "At round 86 accuracy: 0.9017341040462428\n",
      "At round 86 training accuracy: 0.9076546506453048\n",
      "At round 86 training loss: 0.2827011511180737\n",
      "Group 4\n",
      "At round 86 accuracy: 0.8322784810126582\n",
      "At round 86 training accuracy: 0.8426586556515209\n",
      "At round 86 training loss: 0.3835416803716315\n",
      "At round 86 mean test accuracy: 0.8378378378378378 mean train accuracy: 0.8494610559649229\n",
      "The groups difference are: [19.72389536 19.80610002 19.89506749 20.27575037 19.61305422]\n",
      "Begin group  0 training\n"
     ]
    },
    {
     "name": "stderr",
     "output_type": "stream",
     "text": [
      "Epoch:  20%|███████████████▍                                                             | 4/20 [00:00<00:00, 31.39it/s]"
     ]
    },
    {
     "name": "stdout",
     "output_type": "stream",
     "text": [
      "Begin group  1 training\n"
     ]
    },
    {
     "name": "stderr",
     "output_type": "stream",
     "text": [
      "Epoch:  50%|██████████████████████████████████████                                      | 10/20 [00:00<00:00, 91.59it/s]"
     ]
    },
    {
     "name": "stdout",
     "output_type": "stream",
     "text": [
      "Begin group  2 training\n"
     ]
    },
    {
     "name": "stderr",
     "output_type": "stream",
     "text": [
      "Epoch:   0%|                                                                                     | 0/20 [00:00<?, ?it/s]"
     ]
    },
    {
     "name": "stdout",
     "output_type": "stream",
     "text": [
      "Begin group  3 training\n"
     ]
    },
    {
     "name": "stderr",
     "output_type": "stream",
     "text": [
      "Epoch:  40%|██████████████████████████████▊                                              | 8/20 [00:00<00:00, 72.70it/s]"
     ]
    },
    {
     "name": "stdout",
     "output_type": "stream",
     "text": [
      "Begin group  4 training\n"
     ]
    },
    {
     "name": "stderr",
     "output_type": "stream",
     "text": [
      "                                                                                                                        \r"
     ]
    },
    {
     "name": "stdout",
     "output_type": "stream",
     "text": [
      "Group 0, clients ['f_00194', 'f_00044', 'f_00013', 'f_00024', 'f_00093']\n",
      "Group 1, clients ['f_00158', 'f_00097', 'f_00008', 'f_00067']\n",
      "Group 2, clients ['f_00180', 'f_00080', 'f_00189', 'f_00029']\n",
      "Group 3, clients ['f_00032', 'f_00012']\n",
      "Group 4, clients ['f_00145', 'f_00125', 'f_00165', 'f_00106', 'f_00135']\n"
     ]
    },
    {
     "name": "stderr",
     "output_type": "stream",
     "text": [
      "Epoch:  35%|██████████████████████████▉                                                  | 7/20 [00:00<00:00, 67.77it/s]"
     ]
    },
    {
     "name": "stdout",
     "output_type": "stream",
     "text": [
      "Group 0\n",
      "At round 87 accuracy: 0.8612565445026178\n",
      "At round 87 training accuracy: 0.8752321981424148\n",
      "At round 87 training loss: 0.3573604484460671\n",
      "Group 1\n",
      "At round 87 accuracy: 0.7426900584795322\n",
      "At round 87 training accuracy: 0.7651122625215889\n",
      "At round 87 training loss: 1.0528816893259272\n",
      "Group 2\n",
      "At round 87 accuracy: 0.7616438356164383\n",
      "At round 87 training accuracy: 0.7617075501752151\n",
      "At round 87 training loss: 0.6081471518702704\n",
      "Group 3\n",
      "At round 87 accuracy: 0.8516377649325626\n",
      "At round 87 training accuracy: 0.8713840676457499\n",
      "At round 87 training loss: 0.31990987370159557\n",
      "Group 4\n",
      "At round 87 accuracy: 0.8322784810126582\n",
      "At round 87 training accuracy: 0.8265114532482163\n",
      "At round 87 training loss: 0.5915512897485501\n",
      "At round 87 mean test accuracy: 0.8139293139293139 mean train accuracy: 0.8251629011631447\n",
      "The groups difference are: [19.75486009 19.86912051 19.93609433 20.30514263 19.65086837]\n",
      "Begin group  0 training\n"
     ]
    },
    {
     "name": "stderr",
     "output_type": "stream",
     "text": [
      "Epoch:   0%|                                                                                     | 0/20 [00:00<?, ?it/s]"
     ]
    },
    {
     "name": "stdout",
     "output_type": "stream",
     "text": [
      "Begin group  1 training\n"
     ]
    },
    {
     "name": "stderr",
     "output_type": "stream",
     "text": [
      "Epoch:  30%|███████████████████████                                                      | 6/20 [00:00<00:00, 50.49it/s]"
     ]
    },
    {
     "name": "stdout",
     "output_type": "stream",
     "text": [
      "Begin group  2 training\n"
     ]
    },
    {
     "name": "stderr",
     "output_type": "stream",
     "text": [
      "Epoch:   0%|                                                                                     | 0/20 [00:00<?, ?it/s]"
     ]
    },
    {
     "name": "stdout",
     "output_type": "stream",
     "text": [
      "Begin group  3 training\n",
      "Begin group  4 training\n"
     ]
    },
    {
     "name": "stderr",
     "output_type": "stream",
     "text": [
      "                                                                                                                        \r"
     ]
    },
    {
     "name": "stdout",
     "output_type": "stream",
     "text": [
      "Group 0, clients ['f_00013', 'f_00074', 'f_00033', 'f_00153', 'f_00113']\n",
      "Group 1, clients ['f_00158', 'f_00057', 'f_00087']\n",
      "Group 2, clients ['f_00199', 'f_00039', 'f_00129', 'f_00180', 'f_00069']\n",
      "Group 3, clients ['f_00002', 'f_00111', 'f_00021']\n",
      "Group 4, clients ['f_00166', 'f_00085', 'f_00105', 'f_00096']\n"
     ]
    },
    {
     "name": "stderr",
     "output_type": "stream",
     "text": [
      "Epoch:  55%|█████████████████████████████████████████▎                                 | 11/20 [00:00<00:00, 107.66it/s]"
     ]
    },
    {
     "name": "stdout",
     "output_type": "stream",
     "text": [
      "Group 0\n",
      "At round 88 accuracy: 0.8612565445026178\n",
      "At round 88 training accuracy: 0.8786377708978328\n",
      "At round 88 training loss: 0.33704667464590665\n",
      "Group 1\n",
      "At round 88 accuracy: 0.7485380116959064\n",
      "At round 88 training accuracy: 0.7664939550949914\n",
      "At round 88 training loss: 0.8610386064839075\n",
      "Group 2\n",
      "At round 88 accuracy: 0.8246575342465754\n",
      "At round 88 training accuracy: 0.8215992354252947\n",
      "At round 88 training loss: 0.4766853068447599\n",
      "Group 3\n",
      "At round 88 accuracy: 0.8651252408477842\n",
      "At round 88 training accuracy: 0.8736092567868269\n",
      "At round 88 training loss: 0.3185142097330698\n",
      "Group 4\n",
      "At round 88 accuracy: 0.8291139240506329\n",
      "At round 88 training accuracy: 0.8265114532482163\n",
      "At round 88 training loss: 0.6521445299745994\n",
      "At round 88 mean test accuracy: 0.83004158004158 mean train accuracy: 0.8381340965836429\n",
      "The groups difference are: [19.81488875 19.95482823 20.00683916 20.34405722 19.71051169]\n",
      "Begin group  0 training\n"
     ]
    },
    {
     "name": "stderr",
     "output_type": "stream",
     "text": [
      "Epoch:   0%|                                                                                     | 0/20 [00:00<?, ?it/s]"
     ]
    },
    {
     "name": "stdout",
     "output_type": "stream",
     "text": [
      "Begin group  1 training\n"
     ]
    },
    {
     "name": "stderr",
     "output_type": "stream",
     "text": [
      "Epoch:  35%|██████████████████████████▉                                                  | 7/20 [00:00<00:00, 67.55it/s]"
     ]
    },
    {
     "name": "stdout",
     "output_type": "stream",
     "text": [
      "Begin group  2 training\n"
     ]
    },
    {
     "name": "stderr",
     "output_type": "stream",
     "text": [
      "Epoch:  40%|██████████████████████████████▊                                              | 8/20 [00:00<00:00, 78.88it/s]"
     ]
    },
    {
     "name": "stdout",
     "output_type": "stream",
     "text": [
      "Begin group  3 training\n"
     ]
    },
    {
     "name": "stderr",
     "output_type": "stream",
     "text": [
      "Epoch:  70%|████████████████████████████████████████████████████▌                      | 14/20 [00:00<00:00, 131.07it/s]"
     ]
    },
    {
     "name": "stdout",
     "output_type": "stream",
     "text": [
      "Begin group  4 training\n"
     ]
    },
    {
     "name": "stderr",
     "output_type": "stream",
     "text": [
      "                                                                                                                        \r"
     ]
    },
    {
     "name": "stdout",
     "output_type": "stream",
     "text": [
      "Group 0, clients ['f_00014', 'f_00104', 'f_00144', 'f_00074']\n",
      "Group 1, clients ['f_00197', 'f_00127', 'f_00058', 'f_00078', 'f_00107', 'f_00028']\n",
      "Group 2, clients ['f_00170', 'f_00120', 'f_00179', 'f_00089']\n",
      "Group 3, clients ['f_00091', 'f_00012']\n",
      "Group 4, clients ['f_00025', 'f_00095', 'f_00065', 'f_00196']\n"
     ]
    },
    {
     "name": "stderr",
     "output_type": "stream",
     "text": [
      "Epoch:  45%|██████████████████████████████████▋                                          | 9/20 [00:00<00:00, 85.93it/s]"
     ]
    },
    {
     "name": "stdout",
     "output_type": "stream",
     "text": [
      "Group 0\n",
      "At round 89 accuracy: 0.8795811518324608\n",
      "At round 89 training accuracy: 0.8922600619195047\n",
      "At round 89 training loss: 0.32284549456493405\n",
      "Group 1\n",
      "At round 89 accuracy: 0.7426900584795322\n",
      "At round 89 training accuracy: 0.7640759930915372\n",
      "At round 89 training loss: 0.8196943967093252\n",
      "Group 2\n",
      "At round 89 accuracy: 0.8493150684931506\n",
      "At round 89 training accuracy: 0.812360624402676\n",
      "At round 89 training loss: 0.49541426663871174\n",
      "Group 3\n",
      "At round 89 accuracy: 0.859344894026975\n",
      "At round 89 training accuracy: 0.8664886515353805\n",
      "At round 89 training loss: 0.3400702187629822\n",
      "Group 4\n",
      "At round 89 accuracy: 0.8639240506329114\n",
      "At round 89 training accuracy: 0.8644386030792339\n",
      "At round 89 training loss: 0.39215138454970855\n",
      "At round 89 mean test accuracy: 0.8414760914760915 mean train accuracy: 0.8428232141769685\n",
      "The groups difference are: [19.83973148 20.00151962 20.04663944 20.36629091 19.7398208 ]\n",
      "Begin group  0 training\n"
     ]
    },
    {
     "name": "stderr",
     "output_type": "stream",
     "text": [
      "Epoch:   0%|                                                                                     | 0/20 [00:00<?, ?it/s]"
     ]
    },
    {
     "name": "stdout",
     "output_type": "stream",
     "text": [
      "Begin group  1 training\n"
     ]
    },
    {
     "name": "stderr",
     "output_type": "stream",
     "text": [
      "Epoch:   0%|                                                                                     | 0/20 [00:00<?, ?it/s]"
     ]
    },
    {
     "name": "stdout",
     "output_type": "stream",
     "text": [
      "Begin group  2 training\n"
     ]
    },
    {
     "name": "stderr",
     "output_type": "stream",
     "text": [
      "Epoch:  30%|███████████████████████                                                      | 6/20 [00:00<00:00, 58.62it/s]"
     ]
    },
    {
     "name": "stdout",
     "output_type": "stream",
     "text": [
      "Begin group  3 training\n"
     ]
    },
    {
     "name": "stderr",
     "output_type": "stream",
     "text": [
      "Epoch:   0%|                                                                                     | 0/20 [00:00<?, ?it/s]"
     ]
    },
    {
     "name": "stdout",
     "output_type": "stream",
     "text": [
      "Begin group  4 training\n"
     ]
    },
    {
     "name": "stderr",
     "output_type": "stream",
     "text": [
      "                                                                                                                        \r"
     ]
    },
    {
     "name": "stdout",
     "output_type": "stream",
     "text": [
      "Group 0, clients ['f_00193', 'f_00184', 'f_00083', 'f_00063']\n",
      "Group 1, clients ['f_00117', 'f_00088', 'f_00197', 'f_00038']\n",
      "Group 2, clients ['f_00029', 'f_00079']\n",
      "Group 3, clients ['f_00082', 'f_00161', 'f_00041', 'f_00122', 'f_00001']\n",
      "Group 4, clients ['f_00015', 'f_00016', 'f_00145', 'f_00115', 'f_00185']\n"
     ]
    },
    {
     "name": "stderr",
     "output_type": "stream",
     "text": [
      "Epoch:  65%|████████████████████████████████████████████████▊                          | 13/20 [00:00<00:00, 122.54it/s]"
     ]
    },
    {
     "name": "stdout",
     "output_type": "stream",
     "text": [
      "Group 0\n",
      "At round 90 accuracy: 0.837696335078534\n",
      "At round 90 training accuracy: 0.8148606811145511\n",
      "At round 90 training loss: 0.49212229377345035\n",
      "Group 1\n",
      "At round 90 accuracy: 0.7485380116959064\n",
      "At round 90 training accuracy: 0.7661485319516408\n",
      "At round 90 training loss: 0.6412198133367742\n",
      "Group 2\n",
      "At round 90 accuracy: 0.9178082191780822\n",
      "At round 90 training accuracy: 0.8798980567059573\n",
      "At round 90 training loss: 0.36199339520270446\n",
      "Group 3\n",
      "At round 90 accuracy: 0.7726396917148363\n",
      "At round 90 training accuracy: 0.7761459724076547\n",
      "At round 90 training loss: 0.6438922759677682\n",
      "Group 4\n",
      "At round 90 accuracy: 0.8481012658227848\n",
      "At round 90 training accuracy: 0.843409688321442\n",
      "At round 90 training loss: 0.4051650287069372\n",
      "At round 90 mean test accuracy: 0.8212058212058212 mean train accuracy: 0.8127397844223859\n",
      "The groups difference are: [19.81902811 19.97636904 20.01257195 20.34258705 19.71599597]\n",
      "Begin group  0 training\n"
     ]
    },
    {
     "name": "stderr",
     "output_type": "stream",
     "text": [
      "Epoch:   0%|                                                                                     | 0/20 [00:00<?, ?it/s]"
     ]
    },
    {
     "name": "stdout",
     "output_type": "stream",
     "text": [
      "Begin group  1 training\n"
     ]
    },
    {
     "name": "stderr",
     "output_type": "stream",
     "text": [
      "Epoch:   0%|                                                                                     | 0/20 [00:00<?, ?it/s]"
     ]
    },
    {
     "name": "stdout",
     "output_type": "stream",
     "text": [
      "Begin group  2 training\n"
     ]
    },
    {
     "name": "stderr",
     "output_type": "stream",
     "text": [
      "Epoch:   0%|                                                                                     | 0/20 [00:00<?, ?it/s]"
     ]
    },
    {
     "name": "stdout",
     "output_type": "stream",
     "text": [
      "Begin group  3 training\n"
     ]
    },
    {
     "name": "stderr",
     "output_type": "stream",
     "text": [
      "Epoch:  45%|██████████████████████████████████▋                                          | 9/20 [00:00<00:00, 86.40it/s]"
     ]
    },
    {
     "name": "stdout",
     "output_type": "stream",
     "text": [
      "Begin group  4 training\n"
     ]
    },
    {
     "name": "stderr",
     "output_type": "stream",
     "text": [
      "                                                                                                                        \r"
     ]
    },
    {
     "name": "stdout",
     "output_type": "stream",
     "text": [
      "Group 0, clients ['f_00023', 'f_00153', 'f_00124', 'f_00163', 'f_00184', 'f_00084', 'f_00003', 'f_00073']\n",
      "Group 1, clients ['f_00137', 'f_00027', 'f_00177']\n",
      "Group 2, clients ['f_00020', 'f_00090', 'f_00120']\n",
      "Group 3, clients ['f_00011', 'f_00122', 'f_00112', 'f_00111']\n",
      "Group 4, clients ['f_00055', 'f_00146']\n"
     ]
    },
    {
     "name": "stderr",
     "output_type": "stream",
     "text": [
      "Epoch:  40%|██████████████████████████████▊                                              | 8/20 [00:00<00:00, 69.55it/s]"
     ]
    },
    {
     "name": "stdout",
     "output_type": "stream",
     "text": [
      "Group 0\n",
      "At round 91 accuracy: 0.8769633507853403\n",
      "At round 91 training accuracy: 0.9018575851393189\n",
      "At round 91 training loss: 0.3059106285634794\n",
      "Group 1\n",
      "At round 91 accuracy: 0.7865497076023392\n",
      "At round 91 training accuracy: 0.8103626943005181\n",
      "At round 91 training loss: 0.5549465899743359\n",
      "Group 2\n",
      "At round 91 accuracy: 0.7643835616438356\n",
      "At round 91 training accuracy: 0.776680471487735\n",
      "At round 91 training loss: 0.8235804099932564\n",
      "Group 3\n",
      "At round 91 accuracy: 0.859344894026975\n",
      "At round 91 training accuracy: 0.8627058299955496\n",
      "At round 91 training loss: 0.40113347698820395\n",
      "Group 4\n",
      "At round 91 accuracy: 0.8291139240506329\n",
      "At round 91 training accuracy: 0.8295155839279008\n",
      "At round 91 training loss: 0.5462164531132802\n",
      "At round 91 mean test accuracy: 0.8269230769230769 mean train accuracy: 0.8393520492052859\n",
      "The groups difference are: [19.79703006 19.96164752 20.00940832 20.33003046 19.71304145]\n",
      "Begin group  0 training\n"
     ]
    },
    {
     "name": "stderr",
     "output_type": "stream",
     "text": [
      "Epoch:   0%|                                                                                     | 0/20 [00:00<?, ?it/s]"
     ]
    },
    {
     "name": "stdout",
     "output_type": "stream",
     "text": [
      "Begin group  1 training\n"
     ]
    },
    {
     "name": "stderr",
     "output_type": "stream",
     "text": [
      "Epoch:   0%|                                                                                     | 0/20 [00:00<?, ?it/s]"
     ]
    },
    {
     "name": "stdout",
     "output_type": "stream",
     "text": [
      "Begin group  2 training\n"
     ]
    },
    {
     "name": "stderr",
     "output_type": "stream",
     "text": [
      "Epoch:   0%|                                                                                     | 0/20 [00:00<?, ?it/s]"
     ]
    },
    {
     "name": "stdout",
     "output_type": "stream",
     "text": [
      "Begin group  3 training\n"
     ]
    },
    {
     "name": "stderr",
     "output_type": "stream",
     "text": [
      "                                                                                                                        \r"
     ]
    },
    {
     "name": "stdout",
     "output_type": "stream",
     "text": [
      "Begin group  4 training\n",
      "Group 0, clients ['f_00024', 'f_00063', 'f_00034', 'f_00044', 'f_00194', 'f_00123', 'f_00183']\n",
      "Group 1, clients ['f_00038', 'f_00176', 'f_00007']\n",
      "Group 2 is empty.\n",
      "Group 3, clients ['f_00032', 'f_00031', 'f_00091', 'f_00141', 'f_00061', 'f_00022']\n",
      "Group 4, clients ['f_00116', 'f_00026', 'f_00036', 'f_00115']\n"
     ]
    },
    {
     "name": "stderr",
     "output_type": "stream",
     "text": [
      "Epoch:  75%|████████████████████████████████████████████████████████▎                  | 15/20 [00:00<00:00, 143.21it/s]"
     ]
    },
    {
     "name": "stdout",
     "output_type": "stream",
     "text": [
      "Group 0\n",
      "At round 92 accuracy: 0.8350785340314136\n",
      "At round 92 training accuracy: 0.8464396284829722\n",
      "At round 92 training loss: 0.37856140234752705\n",
      "Group 1\n",
      "At round 92 accuracy: 0.7426900584795322\n",
      "At round 92 training accuracy: 0.7682210708117444\n",
      "At round 92 training loss: 0.8493052609174775\n",
      "Group 2\n",
      "At round 92 accuracy: 0.8383561643835616\n",
      "At round 92 training accuracy: 0.8426250398215992\n",
      "At round 92 training loss: 0.5530839373196489\n",
      "Group 3\n",
      "At round 92 accuracy: 0.8497109826589595\n",
      "At round 92 training accuracy: 0.8582554517133957\n",
      "At round 92 training loss: 0.37378496945262435\n",
      "Group 4\n",
      "At round 92 accuracy: 0.8987341772151899\n",
      "At round 92 training accuracy: 0.9061209162598574\n",
      "At round 92 training loss: 0.32703556810896334\n",
      "At round 92 mean test accuracy: 0.8336798336798337 mean train accuracy: 0.8448328360026794\n",
      "The groups difference are: [19.81308584 19.97873809 20.02248015 20.32392686 19.70926644]\n",
      "Begin group  0 training\n"
     ]
    },
    {
     "name": "stderr",
     "output_type": "stream",
     "text": [
      "Epoch:   0%|                                                                                     | 0/20 [00:00<?, ?it/s]"
     ]
    },
    {
     "name": "stdout",
     "output_type": "stream",
     "text": [
      "Begin group  1 training\n"
     ]
    },
    {
     "name": "stderr",
     "output_type": "stream",
     "text": [
      "Epoch:   0%|                                                                                     | 0/20 [00:00<?, ?it/s]"
     ]
    },
    {
     "name": "stdout",
     "output_type": "stream",
     "text": [
      "Begin group  3 training\n"
     ]
    },
    {
     "name": "stderr",
     "output_type": "stream",
     "text": [
      "Epoch:  60%|█████████████████████████████████████████████                              | 12/20 [00:00<00:00, 115.03it/s]"
     ]
    },
    {
     "name": "stdout",
     "output_type": "stream",
     "text": [
      "Begin group  4 training\n"
     ]
    },
    {
     "name": "stderr",
     "output_type": "stream",
     "text": [
      "                                                                                                                        \r"
     ]
    },
    {
     "name": "stdout",
     "output_type": "stream",
     "text": [
      "Group 0, clients ['f_00004', 'f_00153', 'f_00054']\n",
      "Group 1, clients ['f_00068', 'f_00028', 'f_00078', 'f_00007']\n",
      "Group 2, clients ['f_00089', 'f_00050', 'f_00100', 'f_00129', 'f_00119']\n",
      "Group 3, clients ['f_00182', 'f_00041', 'f_00151', 'f_00052']\n",
      "Group 4, clients ['f_00065', 'f_00136', 'f_00095', 'f_00175']\n"
     ]
    },
    {
     "name": "stderr",
     "output_type": "stream",
     "text": [
      "Epoch:   0%|                                                                                     | 0/20 [00:00<?, ?it/s]"
     ]
    },
    {
     "name": "stdout",
     "output_type": "stream",
     "text": [
      "Group 0\n",
      "At round 93 accuracy: 0.8717277486910995\n",
      "At round 93 training accuracy: 0.8848297213622291\n",
      "At round 93 training loss: 0.3364610854963031\n",
      "Group 1\n",
      "At round 93 accuracy: 0.783625730994152\n",
      "At round 93 training accuracy: 0.8037996545768566\n",
      "At round 93 training loss: 0.5326597738966011\n",
      "Group 2\n",
      "At round 93 accuracy: 0.8383561643835616\n",
      "At round 93 training accuracy: 0.8426250398215992\n",
      "At round 93 training loss: 0.5522675383438461\n",
      "Group 3\n",
      "At round 93 accuracy: 0.815028901734104\n",
      "At round 93 training accuracy: 0.8093012906097018\n",
      "At round 93 training loss: 0.5358283558721987\n",
      "Group 4\n",
      "At round 93 accuracy: 0.8259493670886076\n",
      "At round 93 training accuracy: 0.8374014269620729\n",
      "At round 93 training loss: 0.43583715682442903\n",
      "At round 93 mean test accuracy: 0.8269230769230769 mean train accuracy: 0.834114852932221\n",
      "The groups difference are: [19.78515251 19.92383041 19.963547   20.27692509 19.66631766]\n",
      "Begin group  0 training\n"
     ]
    },
    {
     "name": "stderr",
     "output_type": "stream",
     "text": [
      "Epoch:  45%|██████████████████████████████████▋                                          | 9/20 [00:00<00:00, 81.81it/s]"
     ]
    },
    {
     "name": "stdout",
     "output_type": "stream",
     "text": [
      "Begin group  1 training\n"
     ]
    },
    {
     "name": "stderr",
     "output_type": "stream",
     "text": [
      "Epoch:   0%|                                                                                     | 0/20 [00:00<?, ?it/s]"
     ]
    },
    {
     "name": "stdout",
     "output_type": "stream",
     "text": [
      "Begin group  2 training\n"
     ]
    },
    {
     "name": "stderr",
     "output_type": "stream",
     "text": [
      "Epoch:   0%|                                                                                     | 0/20 [00:00<?, ?it/s]"
     ]
    },
    {
     "name": "stdout",
     "output_type": "stream",
     "text": [
      "Begin group  3 training\n"
     ]
    },
    {
     "name": "stderr",
     "output_type": "stream",
     "text": [
      "Epoch:   0%|                                                                                     | 0/20 [00:00<?, ?it/s]"
     ]
    },
    {
     "name": "stdout",
     "output_type": "stream",
     "text": [
      "Begin group  4 training\n"
     ]
    },
    {
     "name": "stderr",
     "output_type": "stream",
     "text": [
      "                                                                                                                        \r"
     ]
    },
    {
     "name": "stdout",
     "output_type": "stream",
     "text": [
      "Group 0, clients ['f_00054', 'f_00064', 'f_00044']\n",
      "Group 1, clients ['f_00167', 'f_00177', 'f_00028', 'f_00037']\n",
      "Group 2, clients ['f_00020', 'f_00159', 'f_00100', 'f_00130', 'f_00049', 'f_00149', 'f_00080', 'f_00180']\n",
      "Group 3, clients ['f_00092', 'f_00071']\n",
      "Group 4, clients ['f_00145', 'f_00195', 'f_00025']\n"
     ]
    },
    {
     "name": "stderr",
     "output_type": "stream",
     "text": [
      "Epoch:  75%|████████████████████████████████████████████████████████▎                  | 15/20 [00:00<00:00, 144.07it/s]"
     ]
    },
    {
     "name": "stdout",
     "output_type": "stream",
     "text": [
      "Group 0\n",
      "At round 94 accuracy: 0.8717277486910995\n",
      "At round 94 training accuracy: 0.8863777089783281\n",
      "At round 94 training loss: 0.3204694917512014\n",
      "Group 1\n",
      "At round 94 accuracy: 0.7426900584795322\n",
      "At round 94 training accuracy: 0.7316062176165803\n",
      "At round 94 training loss: 0.6961137675405167\n",
      "Group 2\n",
      "At round 94 accuracy: 0.8328767123287671\n",
      "At round 94 training accuracy: 0.8266964001274291\n",
      "At round 94 training loss: 0.43295420913720595\n",
      "Group 3\n",
      "At round 94 accuracy: 0.8709055876685935\n",
      "At round 94 training accuracy: 0.8720516243880729\n",
      "At round 94 training loss: 0.387683446271636\n",
      "Group 4\n",
      "At round 94 accuracy: 0.8037974683544303\n",
      "At round 94 training accuracy: 0.8389034923019152\n",
      "At round 94 training loss: 0.40293104890097453\n",
      "At round 94 mean test accuracy: 0.83004158004158 mean train accuracy: 0.8360635771268498\n",
      "The groups difference are: [19.7821065  19.92875724 19.97447649 20.28980658 19.68006327]\n",
      "Begin group  0 training\n"
     ]
    },
    {
     "name": "stderr",
     "output_type": "stream",
     "text": [
      "Epoch:   0%|                                                                                     | 0/20 [00:00<?, ?it/s]"
     ]
    },
    {
     "name": "stdout",
     "output_type": "stream",
     "text": [
      "Begin group  1 training\n"
     ]
    },
    {
     "name": "stderr",
     "output_type": "stream",
     "text": [
      "Epoch:   0%|                                                                                     | 0/20 [00:00<?, ?it/s]"
     ]
    },
    {
     "name": "stdout",
     "output_type": "stream",
     "text": [
      "Begin group  2 training\n"
     ]
    },
    {
     "name": "stderr",
     "output_type": "stream",
     "text": [
      "Epoch:   0%|                                                                                     | 0/20 [00:00<?, ?it/s]"
     ]
    },
    {
     "name": "stdout",
     "output_type": "stream",
     "text": [
      "Begin group  3 training\n"
     ]
    },
    {
     "name": "stderr",
     "output_type": "stream",
     "text": [
      "Epoch:   0%|                                                                                     | 0/20 [00:00<?, ?it/s]"
     ]
    },
    {
     "name": "stdout",
     "output_type": "stream",
     "text": [
      "Begin group  4 training\n"
     ]
    },
    {
     "name": "stderr",
     "output_type": "stream",
     "text": [
      "                                                                                                                        \r"
     ]
    },
    {
     "name": "stdout",
     "output_type": "stream",
     "text": [
      "Group 0, clients ['f_00043', 'f_00063', 'f_00004', 'f_00053', 'f_00144', 'f_00174']\n",
      "Group 1, clients ['f_00137', 'f_00178', 'f_00169']\n",
      "Group 2, clients ['f_00179', 'f_00089', 'f_00069', 'f_00109', 'f_00110', 'f_00160']\n",
      "Group 3, clients ['f_00112', 'f_00061', 'f_00021']\n",
      "Group 4, clients ['f_00066', 'f_00085']\n"
     ]
    },
    {
     "name": "stderr",
     "output_type": "stream",
     "text": [
      "Epoch:  75%|████████████████████████████████████████████████████████▎                  | 15/20 [00:00<00:00, 140.64it/s]"
     ]
    },
    {
     "name": "stdout",
     "output_type": "stream",
     "text": [
      "Group 0\n",
      "At round 95 accuracy: 0.8455497382198953\n",
      "At round 95 training accuracy: 0.8374613003095975\n",
      "At round 95 training loss: 0.45000948794762785\n",
      "Group 1\n",
      "At round 95 accuracy: 0.7514619883040936\n",
      "At round 95 training accuracy: 0.7768566493955095\n",
      "At round 95 training loss: 0.7581833202810073\n",
      "Group 2\n",
      "At round 95 accuracy: 0.8328767123287671\n",
      "At round 95 training accuracy: 0.8317935648295636\n",
      "At round 95 training loss: 0.503945521106003\n",
      "Group 3\n",
      "At round 95 accuracy: 0.8458574181117534\n",
      "At round 95 training accuracy: 0.8595905651980418\n",
      "At round 95 training loss: 0.3539989866601477\n",
      "Group 4\n",
      "At round 95 accuracy: 0.8322784810126582\n",
      "At round 95 training accuracy: 0.8343972962823882\n",
      "At round 95 training loss: 0.541698716063272\n",
      "At round 95 mean test accuracy: 0.8243243243243243 mean train accuracy: 0.8312526642713598\n",
      "The groups difference are: [19.77947681 19.94440204 19.98875274 20.28126619 19.68023149]\n",
      "Begin group  0 training\n"
     ]
    },
    {
     "name": "stderr",
     "output_type": "stream",
     "text": [
      "Epoch:   0%|                                                                                     | 0/20 [00:00<?, ?it/s]"
     ]
    },
    {
     "name": "stdout",
     "output_type": "stream",
     "text": [
      "Begin group  1 training\n"
     ]
    },
    {
     "name": "stderr",
     "output_type": "stream",
     "text": [
      "Epoch:   0%|                                                                                     | 0/20 [00:00<?, ?it/s]"
     ]
    },
    {
     "name": "stdout",
     "output_type": "stream",
     "text": [
      "Begin group  2 training\n"
     ]
    },
    {
     "name": "stderr",
     "output_type": "stream",
     "text": [
      "Epoch:   0%|                                                                                     | 0/20 [00:00<?, ?it/s]"
     ]
    },
    {
     "name": "stdout",
     "output_type": "stream",
     "text": [
      "Begin group  3 training\n"
     ]
    },
    {
     "name": "stderr",
     "output_type": "stream",
     "text": [
      "Epoch:  35%|██████████████████████████▉                                                  | 7/20 [00:00<00:00, 66.15it/s]"
     ]
    },
    {
     "name": "stdout",
     "output_type": "stream",
     "text": [
      "Begin group  4 training\n"
     ]
    },
    {
     "name": "stderr",
     "output_type": "stream",
     "text": [
      "                                                                                                                        \r"
     ]
    },
    {
     "name": "stdout",
     "output_type": "stream",
     "text": [
      "Group 0, clients ['f_00113', 'f_00093', 'f_00173', 'f_00184']\n",
      "Group 1, clients ['f_00167', 'f_00198']\n",
      "Group 2, clients ['f_00080']\n",
      "Group 3, clients ['f_00102', 'f_00071', 'f_00032', 'f_00051']\n",
      "Group 4, clients ['f_00035', 'f_00005', 'f_00185', 'f_00096', 'f_00175', 'f_00015', 'f_00026', 'f_00086', 'f_00036']\n"
     ]
    },
    {
     "name": "stderr",
     "output_type": "stream",
     "text": [
      "Epoch:  30%|███████████████████████                                                      | 6/20 [00:00<00:00, 56.70it/s]"
     ]
    },
    {
     "name": "stdout",
     "output_type": "stream",
     "text": [
      "Group 0\n",
      "At round 96 accuracy: 0.8350785340314136\n",
      "At round 96 training accuracy: 0.8337461300309598\n",
      "At round 96 training loss: 0.47883638509148413\n",
      "Group 1\n",
      "At round 96 accuracy: 0.7807017543859649\n",
      "At round 96 training accuracy: 0.8110535405872193\n",
      "At round 96 training loss: 0.5222373623304416\n",
      "Group 2\n",
      "At round 96 accuracy: 0.8410958904109589\n",
      "At round 96 training accuracy: 0.8419878942338325\n",
      "At round 96 training loss: 0.44960944661197105\n",
      "Group 3\n",
      "At round 96 accuracy: 0.884393063583815\n",
      "At round 96 training accuracy: 0.8898531375166889\n",
      "At round 96 training loss: 0.29538108473440566\n",
      "Group 4\n",
      "At round 96 accuracy: 0.7974683544303798\n",
      "At round 96 training accuracy: 0.8103642508449117\n",
      "At round 96 training loss: 0.46304034912022174\n",
      "At round 96 mean test accuracy: 0.8336798336798337 mean train accuracy: 0.8428841118080507\n",
      "The groups difference are: [19.84014878 19.97371645 20.05047241 20.29979499 19.73315051]\n",
      "Begin group  0 training\n"
     ]
    },
    {
     "name": "stderr",
     "output_type": "stream",
     "text": [
      "Epoch:   0%|                                                                                     | 0/20 [00:00<?, ?it/s]"
     ]
    },
    {
     "name": "stdout",
     "output_type": "stream",
     "text": [
      "Begin group  1 training\n"
     ]
    },
    {
     "name": "stderr",
     "output_type": "stream",
     "text": [
      "Epoch:  30%|███████████████████████                                                      | 6/20 [00:00<00:00, 52.66it/s]"
     ]
    },
    {
     "name": "stdout",
     "output_type": "stream",
     "text": [
      "Begin group  2 training\n"
     ]
    },
    {
     "name": "stderr",
     "output_type": "stream",
     "text": [
      "Epoch:  25%|███████████████████▎                                                         | 5/20 [00:00<00:00, 46.00it/s]"
     ]
    },
    {
     "name": "stdout",
     "output_type": "stream",
     "text": [
      "Begin group  3 training\n"
     ]
    },
    {
     "name": "stderr",
     "output_type": "stream",
     "text": [
      "Epoch:   0%|                                                                                     | 0/20 [00:00<?, ?it/s]"
     ]
    },
    {
     "name": "stdout",
     "output_type": "stream",
     "text": [
      "Begin group  4 training\n"
     ]
    },
    {
     "name": "stderr",
     "output_type": "stream",
     "text": [
      "                                                                                                                        \r"
     ]
    },
    {
     "name": "stdout",
     "output_type": "stream",
     "text": [
      "Group 0, clients ['f_00063']\n",
      "Group 1, clients ['f_00167', 'f_00047', 'f_00128', 'f_00038', 'f_00058']\n",
      "Group 2, clients ['f_00020', 'f_00140', 'f_00110', 'f_00030', 'f_00049']\n",
      "Group 3, clients ['f_00121', 'f_00022']\n",
      "Group 4, clients ['f_00085', 'f_00055', 'f_00145', 'f_00005', 'f_00045', 'f_00056', 'f_00065']\n"
     ]
    },
    {
     "name": "stderr",
     "output_type": "stream",
     "text": [
      "Epoch:   0%|                                                                                     | 0/20 [00:00<?, ?it/s]"
     ]
    },
    {
     "name": "stdout",
     "output_type": "stream",
     "text": [
      "Group 0\n",
      "At round 97 accuracy: 0.8429319371727748\n",
      "At round 97 training accuracy: 0.8390092879256966\n",
      "At round 97 training loss: 0.463895365817259\n",
      "Group 1\n",
      "At round 97 accuracy: 0.7953216374269005\n",
      "At round 97 training accuracy: 0.8100172711571675\n",
      "At round 97 training loss: 0.5223886965367048\n",
      "Group 2\n",
      "At round 97 accuracy: 0.7945205479452054\n",
      "At round 97 training accuracy: 0.7948391207390889\n",
      "At round 97 training loss: 0.7056653698506953\n",
      "Group 3\n",
      "At round 97 accuracy: 0.8651252408477842\n",
      "At round 97 training accuracy: 0.8713840676457499\n",
      "At round 97 training loss: 0.3400141350762495\n",
      "Group 4\n",
      "At round 97 accuracy: 0.8544303797468354\n",
      "At round 97 training accuracy: 0.8588058580548253\n",
      "At round 97 training loss: 0.3896105253759113\n",
      "At round 97 mean test accuracy: 0.8331600831600832 mean train accuracy: 0.8375251202728213\n",
      "The groups difference are: [19.86749305 20.007113   20.09875316 20.32762254 19.77708346]\n",
      "Begin group  0 training\n",
      "Begin group  1 training\n"
     ]
    },
    {
     "name": "stderr",
     "output_type": "stream",
     "text": [
      "Epoch:   0%|                                                                                     | 0/20 [00:00<?, ?it/s]"
     ]
    },
    {
     "name": "stdout",
     "output_type": "stream",
     "text": [
      "Begin group  2 training\n"
     ]
    },
    {
     "name": "stderr",
     "output_type": "stream",
     "text": [
      "Epoch:  30%|███████████████████████                                                      | 6/20 [00:00<00:00, 51.32it/s]"
     ]
    },
    {
     "name": "stdout",
     "output_type": "stream",
     "text": [
      "Begin group  3 training\n"
     ]
    },
    {
     "name": "stderr",
     "output_type": "stream",
     "text": [
      "Epoch:   0%|                                                                                     | 0/20 [00:00<?, ?it/s]"
     ]
    },
    {
     "name": "stdout",
     "output_type": "stream",
     "text": [
      "Begin group  4 training\n"
     ]
    },
    {
     "name": "stderr",
     "output_type": "stream",
     "text": [
      "                                                                                                                        \r"
     ]
    },
    {
     "name": "stdout",
     "output_type": "stream",
     "text": [
      "Group 0, clients ['f_00064', 'f_00153', 'f_00134', 'f_00184']\n",
      "Group 1, clients ['f_00058', 'f_00097', 'f_00198', 'f_00128']\n",
      "Group 2, clients ['f_00119']\n",
      "Group 3, clients ['f_00041', 'f_00051', 'f_00182', 'f_00121', 'f_00152', 'f_00112']\n",
      "Group 4, clients ['f_00155', 'f_00115', 'f_00145', 'f_00096', 'f_00135']\n"
     ]
    },
    {
     "name": "stderr",
     "output_type": "stream",
     "text": [
      "Epoch:   0%|                                                                                     | 0/20 [00:00<?, ?it/s]"
     ]
    },
    {
     "name": "stdout",
     "output_type": "stream",
     "text": [
      "Group 0\n",
      "At round 98 accuracy: 0.8167539267015707\n",
      "At round 98 training accuracy: 0.8204334365325078\n",
      "At round 98 training loss: 0.5772946767670452\n",
      "Group 1\n",
      "At round 98 accuracy: 0.804093567251462\n",
      "At round 98 training accuracy: 0.8248704663212435\n",
      "At round 98 training loss: 0.513115979743951\n",
      "Group 2\n",
      "At round 98 accuracy: 0.8191780821917808\n",
      "At round 98 training accuracy: 0.8333864287989806\n",
      "At round 98 training loss: 0.5879547581214288\n",
      "Group 3\n",
      "At round 98 accuracy: 0.74373795761079\n",
      "At round 98 training accuracy: 0.7492211838006231\n",
      "At round 98 training loss: 0.8048526946824951\n",
      "Group 4\n",
      "At round 98 accuracy: 0.8354430379746836\n",
      "At round 98 training accuracy: 0.8343972962823882\n",
      "At round 98 training loss: 0.5902864639802934\n",
      "At round 98 mean test accuracy: 0.7983367983367984 mean train accuracy: 0.8064673284209244\n",
      "The groups difference are: [19.86024762 20.0042795  20.07949651 20.32431734 19.78989838]\n",
      "Begin group  0 training\n"
     ]
    },
    {
     "name": "stderr",
     "output_type": "stream",
     "text": [
      "Epoch:   0%|                                                                                     | 0/20 [00:00<?, ?it/s]"
     ]
    },
    {
     "name": "stdout",
     "output_type": "stream",
     "text": [
      "Begin group  1 training\n"
     ]
    },
    {
     "name": "stderr",
     "output_type": "stream",
     "text": [
      "Epoch:   0%|                                                                                     | 0/20 [00:00<?, ?it/s]"
     ]
    },
    {
     "name": "stdout",
     "output_type": "stream",
     "text": [
      "Begin group  2 training\n",
      "Begin group  3 training\n"
     ]
    },
    {
     "name": "stderr",
     "output_type": "stream",
     "text": [
      "Epoch:   0%|                                                                                     | 0/20 [00:00<?, ?it/s]"
     ]
    },
    {
     "name": "stdout",
     "output_type": "stream",
     "text": [
      "Begin group  4 training\n"
     ]
    },
    {
     "name": "stderr",
     "output_type": "stream",
     "text": [
      "                                                                                                                        \r"
     ]
    },
    {
     "name": "stdout",
     "output_type": "stream",
     "text": [
      "Group 0, clients ['f_00024', 'f_00043', 'f_00153']\n",
      "Group 1, clients ['f_00127', 'f_00187']\n",
      "Group 2, clients ['f_00119', 'f_00049', 'f_00050', 'f_00009']\n",
      "Group 3, clients ['f_00191', 'f_00111', 'f_00081', 'f_00121']\n",
      "Group 4, clients ['f_00135', 'f_00066', 'f_00036', 'f_00126', 'f_00085', 'f_00155', 'f_00195']\n"
     ]
    },
    {
     "name": "stderr",
     "output_type": "stream",
     "text": [
      "Epoch:   0%|                                                                                     | 0/20 [00:00<?, ?it/s]"
     ]
    },
    {
     "name": "stdout",
     "output_type": "stream",
     "text": [
      "Group 0\n",
      "At round 99 accuracy: 0.8691099476439791\n",
      "At round 99 training accuracy: 0.8721362229102168\n",
      "At round 99 training loss: 0.3542473569373966\n",
      "Group 1\n",
      "At round 99 accuracy: 0.7748538011695907\n",
      "At round 99 training accuracy: 0.7547495682210709\n",
      "At round 99 training loss: 0.6242427704762507\n",
      "Group 2\n",
      "At round 99 accuracy: 0.7589041095890411\n",
      "At round 99 training accuracy: 0.7677604332589997\n",
      "At round 99 training loss: 0.788372314241651\n",
      "Group 3\n",
      "At round 99 accuracy: 0.8092485549132948\n",
      "At round 99 training accuracy: 0.8099688473520249\n",
      "At round 99 training loss: 0.4609984552407323\n",
      "Group 4\n",
      "At round 99 accuracy: 0.8417721518987342\n",
      "At round 99 training accuracy: 0.8242583552384529\n",
      "At round 99 training loss: 0.44227477569039314\n",
      "At round 99 mean test accuracy: 0.8108108108108109 mean train accuracy: 0.806710918945253\n",
      "The groups difference are: [19.8407637  19.98055756 20.06236034 20.31688947 19.78093503]\n",
      "Begin group  0 training\n"
     ]
    },
    {
     "name": "stderr",
     "output_type": "stream",
     "text": [
      "Epoch:   0%|                                                                                     | 0/20 [00:00<?, ?it/s]"
     ]
    },
    {
     "name": "stdout",
     "output_type": "stream",
     "text": [
      "Begin group  1 training\n",
      "Begin group  2 training\n"
     ]
    },
    {
     "name": "stderr",
     "output_type": "stream",
     "text": [
      "Epoch:   0%|                                                                                     | 0/20 [00:00<?, ?it/s]"
     ]
    },
    {
     "name": "stdout",
     "output_type": "stream",
     "text": [
      "Begin group  3 training\n"
     ]
    },
    {
     "name": "stderr",
     "output_type": "stream",
     "text": [
      "Epoch:  35%|██████████████████████████▉                                                  | 7/20 [00:00<00:00, 65.84it/s]"
     ]
    },
    {
     "name": "stdout",
     "output_type": "stream",
     "text": [
      "Begin group  4 training\n"
     ]
    },
    {
     "name": "stderr",
     "output_type": "stream",
     "text": [
      "                                                                                                                        \r"
     ]
    },
    {
     "name": "stdout",
     "output_type": "stream",
     "text": [
      "Group 0, clients ['f_00104', 'f_00164', 'f_00124', 'f_00154', 'f_00194', 'f_00163']\n",
      "Group 1, clients ['f_00167', 'f_00177']\n",
      "Group 2, clients ['f_00099', 'f_00069']\n",
      "Group 3, clients ['f_00092', 'f_00111', 'f_00052', 'f_00182', 'f_00031']\n",
      "Group 4, clients ['f_00126', 'f_00116', 'f_00096', 'f_00125', 'f_00196']\n"
     ]
    },
    {
     "name": "stderr",
     "output_type": "stream",
     "text": [
      "Epoch:   0%|                                                                                     | 0/20 [00:00<?, ?it/s]"
     ]
    },
    {
     "name": "stdout",
     "output_type": "stream",
     "text": [
      "Group 0\n",
      "At round 100 accuracy: 0.8612565445026178\n",
      "At round 100 training accuracy: 0.8842105263157894\n",
      "At round 100 training loss: 0.3126726780997895\n",
      "Group 1\n",
      "At round 100 accuracy: 0.7543859649122807\n",
      "At round 100 training accuracy: 0.7744386873920552\n",
      "At round 100 training loss: 0.6311626105213825\n",
      "Group 2\n",
      "At round 100 accuracy: 0.7561643835616438\n",
      "At round 100 training accuracy: 0.756928958266964\n",
      "At round 100 training loss: 0.7021456502897795\n",
      "Group 3\n",
      "At round 100 accuracy: 0.7148362235067437\n",
      "At round 100 training accuracy: 0.7267467734757455\n",
      "At round 100 training loss: 0.9190285290294241\n",
      "Group 4\n",
      "At round 100 accuracy: 0.8765822784810127\n",
      "At round 100 training accuracy: 0.8772061584678934\n",
      "At round 100 training loss: 0.37394265756654504\n",
      "At round 100 mean test accuracy: 0.7853430353430353 mean train accuracy: 0.7962974240302052\n",
      "The groups difference are: [19.81031143 19.94731058 20.02772818 20.2900255  19.76213061]\n",
      "Begin group  0 training\n"
     ]
    },
    {
     "name": "stderr",
     "output_type": "stream",
     "text": [
      "Epoch:   0%|                                                                                     | 0/20 [00:00<?, ?it/s]"
     ]
    },
    {
     "name": "stdout",
     "output_type": "stream",
     "text": [
      "Begin group  1 training\n"
     ]
    },
    {
     "name": "stderr",
     "output_type": "stream",
     "text": [
      "Epoch:   0%|                                                                                     | 0/20 [00:00<?, ?it/s]"
     ]
    },
    {
     "name": "stdout",
     "output_type": "stream",
     "text": [
      "Begin group  2 training\n"
     ]
    },
    {
     "name": "stderr",
     "output_type": "stream",
     "text": [
      "Epoch:   0%|                                                                                     | 0/20 [00:00<?, ?it/s]"
     ]
    },
    {
     "name": "stdout",
     "output_type": "stream",
     "text": [
      "Begin group  3 training\n"
     ]
    },
    {
     "name": "stderr",
     "output_type": "stream",
     "text": [
      "Epoch:   0%|                                                                                     | 0/20 [00:00<?, ?it/s]"
     ]
    },
    {
     "name": "stdout",
     "output_type": "stream",
     "text": [
      "Begin group  4 training\n"
     ]
    },
    {
     "name": "stderr",
     "output_type": "stream",
     "text": [
      "                                                                                                                        \r"
     ]
    },
    {
     "name": "stdout",
     "output_type": "stream",
     "text": [
      "Group 0, clients ['f_00054', 'f_00074', 'f_00174', 'f_00034']\n",
      "Group 1, clients ['f_00037', 'f_00148']\n",
      "Group 2, clients ['f_00109', 'f_00089', 'f_00119', 'f_00149', 'f_00170', 'f_00039']\n",
      "Group 3, clients ['f_00031', 'f_00142', 'f_00112', 'f_00141']\n",
      "Group 4, clients ['f_00066', 'f_00145', 'f_00055', 'f_00025']\n"
     ]
    },
    {
     "name": "stderr",
     "output_type": "stream",
     "text": [
      "Epoch:  70%|████████████████████████████████████████████████████▌                      | 14/20 [00:00<00:00, 130.09it/s]"
     ]
    },
    {
     "name": "stdout",
     "output_type": "stream",
     "text": [
      "Group 0\n",
      "At round 101 accuracy: 0.8324607329842932\n",
      "At round 101 training accuracy: 0.8340557275541796\n",
      "At round 101 training loss: 0.5158971875513855\n",
      "Group 1\n",
      "At round 101 accuracy: 0.7485380116959064\n",
      "At round 101 training accuracy: 0.7740932642487046\n",
      "At round 101 training loss: 0.8782219788210791\n",
      "Group 2\n",
      "At round 101 accuracy: 0.7534246575342466\n",
      "At round 101 training accuracy: 0.7566103854730806\n",
      "At round 101 training loss: 0.893046670010911\n",
      "Group 3\n",
      "At round 101 accuracy: 0.8574181117533719\n",
      "At round 101 training accuracy: 0.8682688028482421\n",
      "At round 101 training loss: 0.32432660478045794\n",
      "Group 4\n",
      "At round 101 accuracy: 0.8132911392405063\n",
      "At round 101 training accuracy: 0.8411565903116786\n",
      "At round 101 training loss: 0.4110998524408165\n",
      "At round 101 mean test accuracy: 0.8061330561330561 mean train accuracy: 0.8191949333170939\n",
      "The groups difference are: [19.85882221 19.98486108 20.06468975 20.32722855 19.78443893]\n",
      "Begin group  0 training\n"
     ]
    },
    {
     "name": "stderr",
     "output_type": "stream",
     "text": [
      "Epoch:  45%|██████████████████████████████████▋                                          | 9/20 [00:00<00:00, 83.31it/s]"
     ]
    },
    {
     "name": "stdout",
     "output_type": "stream",
     "text": [
      "Begin group  1 training\n"
     ]
    },
    {
     "name": "stderr",
     "output_type": "stream",
     "text": [
      "Epoch:   0%|                                                                                     | 0/20 [00:00<?, ?it/s]"
     ]
    },
    {
     "name": "stdout",
     "output_type": "stream",
     "text": [
      "Begin group  2 training\n"
     ]
    },
    {
     "name": "stderr",
     "output_type": "stream",
     "text": [
      "Epoch:   0%|                                                                                     | 0/20 [00:00<?, ?it/s]"
     ]
    },
    {
     "name": "stdout",
     "output_type": "stream",
     "text": [
      "Begin group  3 training\n"
     ]
    },
    {
     "name": "stderr",
     "output_type": "stream",
     "text": [
      "Epoch:  55%|█████████████████████████████████████████▎                                 | 11/20 [00:00<00:00, 101.35it/s]"
     ]
    },
    {
     "name": "stdout",
     "output_type": "stream",
     "text": [
      "Begin group  4 training\n"
     ]
    },
    {
     "name": "stderr",
     "output_type": "stream",
     "text": [
      "                                                                                                                        \r"
     ]
    },
    {
     "name": "stdout",
     "output_type": "stream",
     "text": [
      "Group 0, clients ['f_00054', 'f_00034', 'f_00163', 'f_00083', 'f_00144']\n",
      "Group 1, clients ['f_00057', 'f_00118', 'f_00008', 'f_00087']\n",
      "Group 2, clients ['f_00029', 'f_00119', 'f_00120', 'f_00099', 'f_00129']\n",
      "Group 3, clients ['f_00142', 'f_00002']\n",
      "Group 4, clients ['f_00085', 'f_00185', 'f_00005', 'f_00036']\n"
     ]
    },
    {
     "name": "stderr",
     "output_type": "stream",
     "text": [
      "Epoch:  60%|█████████████████████████████████████████████                              | 12/20 [00:00<00:00, 113.58it/s]"
     ]
    },
    {
     "name": "stdout",
     "output_type": "stream",
     "text": [
      "Group 0\n",
      "At round 102 accuracy: 0.8324607329842932\n",
      "At round 102 training accuracy: 0.8123839009287925\n",
      "At round 102 training loss: 0.5753641786197944\n",
      "Group 1\n",
      "At round 102 accuracy: 0.7514619883040936\n",
      "At round 102 training accuracy: 0.7706390328151986\n",
      "At round 102 training loss: 0.7617778308702462\n",
      "Group 2\n",
      "At round 102 accuracy: 0.7561643835616438\n",
      "At round 102 training accuracy: 0.7572475310608474\n",
      "At round 102 training loss: 0.762174380024021\n",
      "Group 3\n",
      "At round 102 accuracy: 0.8728323699421965\n",
      "At round 102 training accuracy: 0.8834000890075656\n",
      "At round 102 training loss: 0.3065463922914527\n",
      "Group 4\n",
      "At round 102 accuracy: 0.8481012658227848\n",
      "At round 102 training accuracy: 0.867067217423958\n",
      "At round 102 training loss: 0.38313062852189095\n",
      "At round 102 mean test accuracy: 0.817047817047817 mean train accuracy: 0.8227878935509408\n",
      "The groups difference are: [19.83757738 19.97404651 20.04195613 20.3000102  19.76951054]\n",
      "Begin group  0 training\n"
     ]
    },
    {
     "name": "stderr",
     "output_type": "stream",
     "text": [
      "Epoch:  25%|███████████████████▎                                                         | 5/20 [00:00<00:00, 48.31it/s]"
     ]
    },
    {
     "name": "stdout",
     "output_type": "stream",
     "text": [
      "Begin group  1 training\n"
     ]
    },
    {
     "name": "stderr",
     "output_type": "stream",
     "text": [
      "Epoch:   0%|                                                                                     | 0/20 [00:00<?, ?it/s]"
     ]
    },
    {
     "name": "stdout",
     "output_type": "stream",
     "text": [
      "Begin group  2 training\n"
     ]
    },
    {
     "name": "stderr",
     "output_type": "stream",
     "text": [
      "Epoch:  40%|██████████████████████████████▊                                              | 8/20 [00:00<00:00, 77.94it/s]"
     ]
    },
    {
     "name": "stdout",
     "output_type": "stream",
     "text": [
      "Begin group  3 training\n"
     ]
    },
    {
     "name": "stderr",
     "output_type": "stream",
     "text": [
      "Epoch:   0%|                                                                                     | 0/20 [00:00<?, ?it/s]"
     ]
    },
    {
     "name": "stdout",
     "output_type": "stream",
     "text": [
      "Begin group  4 training\n"
     ]
    },
    {
     "name": "stderr",
     "output_type": "stream",
     "text": [
      "                                                                                                                        \r"
     ]
    },
    {
     "name": "stdout",
     "output_type": "stream",
     "text": [
      "Group 0, clients ['f_00003', 'f_00193', 'f_00064', 'f_00113', 'f_00164']\n",
      "Group 1, clients ['f_00127']\n",
      "Group 2, clients ['f_00160', 'f_00009', 'f_00190', 'f_00149']\n",
      "Group 3, clients ['f_00031', 'f_00162', 'f_00052', 'f_00032', 'f_00101', 'f_00111']\n",
      "Group 4, clients ['f_00155', 'f_00186', 'f_00166', 'f_00085']\n"
     ]
    },
    {
     "name": "stderr",
     "output_type": "stream",
     "text": [
      "Epoch:   0%|                                                                                     | 0/20 [00:00<?, ?it/s]"
     ]
    },
    {
     "name": "stdout",
     "output_type": "stream",
     "text": [
      "Group 0\n",
      "At round 103 accuracy: 0.8795811518324608\n",
      "At round 103 training accuracy: 0.8848297213622291\n",
      "At round 103 training loss: 0.32003491889489327\n",
      "Group 1\n",
      "At round 103 accuracy: 0.7514619883040936\n",
      "At round 103 training accuracy: 0.7678756476683938\n",
      "At round 103 training loss: 0.621428541280651\n",
      "Group 2\n",
      "At round 103 accuracy: 0.7616438356164383\n",
      "At round 103 training accuracy: 0.7661675692895826\n",
      "At round 103 training loss: 0.5836500448761339\n",
      "Group 3\n",
      "At round 103 accuracy: 0.8709055876685935\n",
      "At round 103 training accuracy: 0.8689363595905651\n",
      "At round 103 training loss: 0.3762646438806758\n",
      "Group 4\n",
      "At round 103 accuracy: 0.8322784810126582\n",
      "At round 103 training accuracy: 0.8313931656027037\n",
      "At round 103 training loss: 0.5311675475608841\n",
      "At round 103 mean test accuracy: 0.8243243243243243 mean train accuracy: 0.8285122708726631\n",
      "The groups difference are: [19.8558365  20.02641518 20.06966281 20.32889576 19.8171839 ]\n",
      "Begin group  0 training\n"
     ]
    },
    {
     "name": "stderr",
     "output_type": "stream",
     "text": [
      "Epoch:  20%|███████████████▍                                                             | 4/20 [00:00<00:00, 31.91it/s]"
     ]
    },
    {
     "name": "stdout",
     "output_type": "stream",
     "text": [
      "Begin group  1 training\n",
      "Begin group  2 training\n"
     ]
    },
    {
     "name": "stderr",
     "output_type": "stream",
     "text": [
      "Epoch:   0%|                                                                                     | 0/20 [00:00<?, ?it/s]"
     ]
    },
    {
     "name": "stdout",
     "output_type": "stream",
     "text": [
      "Begin group  3 training\n"
     ]
    },
    {
     "name": "stderr",
     "output_type": "stream",
     "text": [
      "Epoch:   0%|                                                                                     | 0/20 [00:00<?, ?it/s]"
     ]
    },
    {
     "name": "stdout",
     "output_type": "stream",
     "text": [
      "Begin group  4 training\n"
     ]
    },
    {
     "name": "stderr",
     "output_type": "stream",
     "text": [
      "                                                                                                                        \r"
     ]
    },
    {
     "name": "stdout",
     "output_type": "stream",
     "text": [
      "Group 0, clients ['f_00104', 'f_00034', 'f_00064', 'f_00154', 'f_00113', 'f_00084', 'f_00153', 'f_00123', 'f_00164']\n",
      "Group 1, clients ['f_00128', 'f_00047', 'f_00018', 'f_00028']\n",
      "Group 2, clients ['f_00049', 'f_00130']\n",
      "Group 3, clients ['f_00192', 'f_00061', 'f_00001']\n",
      "Group 4, clients ['f_00045', 'f_00005']\n"
     ]
    },
    {
     "name": "stderr",
     "output_type": "stream",
     "text": [
      "Epoch:   0%|                                                                                     | 0/20 [00:00<?, ?it/s]"
     ]
    },
    {
     "name": "stdout",
     "output_type": "stream",
     "text": [
      "Group 0\n",
      "At round 104 accuracy: 0.837696335078534\n",
      "At round 104 training accuracy: 0.8222910216718267\n",
      "At round 104 training loss: 0.5284870672475074\n",
      "Group 1\n",
      "At round 104 accuracy: 0.7514619883040936\n",
      "At round 104 training accuracy: 0.7675302245250432\n",
      "At round 104 training loss: 0.6805459619700805\n",
      "Group 2\n",
      "At round 104 accuracy: 0.8301369863013699\n",
      "At round 104 training accuracy: 0.8378464479133482\n",
      "At round 104 training loss: 0.523462147467662\n",
      "Group 3\n",
      "At round 104 accuracy: 0.8516377649325626\n",
      "At round 104 training accuracy: 0.8578104138851802\n",
      "At round 104 training loss: 0.347924071683664\n",
      "Group 4\n",
      "At round 104 accuracy: 0.879746835443038\n",
      "At round 104 training accuracy: 0.8895981975215922\n",
      "At round 104 training loss: 0.33638159010504765\n",
      "At round 104 mean test accuracy: 0.8316008316008316 mean train accuracy: 0.8362462700200962\n",
      "The groups difference are: [19.93369156 20.07136469 20.14849502 20.37218583 19.85632191]\n",
      "Begin group  0 training\n"
     ]
    },
    {
     "name": "stderr",
     "output_type": "stream",
     "text": [
      "Epoch:   0%|                                                                                     | 0/20 [00:00<?, ?it/s]"
     ]
    },
    {
     "name": "stdout",
     "output_type": "stream",
     "text": [
      "Begin group  1 training\n"
     ]
    },
    {
     "name": "stderr",
     "output_type": "stream",
     "text": [
      "Epoch:   0%|                                                                                     | 0/20 [00:00<?, ?it/s]"
     ]
    },
    {
     "name": "stdout",
     "output_type": "stream",
     "text": [
      "Begin group  2 training\n",
      "Begin group  3 training\n"
     ]
    },
    {
     "name": "stderr",
     "output_type": "stream",
     "text": [
      "Epoch:   0%|                                                                                     | 0/20 [00:00<?, ?it/s]"
     ]
    },
    {
     "name": "stdout",
     "output_type": "stream",
     "text": [
      "Begin group  4 training\n"
     ]
    },
    {
     "name": "stderr",
     "output_type": "stream",
     "text": [
      "                                                                                                                        \r"
     ]
    },
    {
     "name": "stdout",
     "output_type": "stream",
     "text": [
      "Group 0, clients ['f_00193', 'f_00044', 'f_00093', 'f_00043']\n",
      "Group 1, clients ['f_00168', 'f_00037', 'f_00147', 'f_00018', 'f_00118', 'f_00128', 'f_00198']\n",
      "Group 2, clients ['f_00110', 'f_00139']\n",
      "Group 3, clients ['f_00191', 'f_00171']\n",
      "Group 4, clients ['f_00096', 'f_00125', 'f_00115', 'f_00126', 'f_00086']\n"
     ]
    },
    {
     "name": "stderr",
     "output_type": "stream",
     "text": [
      "Epoch:   0%|                                                                                     | 0/20 [00:00<?, ?it/s]"
     ]
    },
    {
     "name": "stdout",
     "output_type": "stream",
     "text": [
      "Group 0\n",
      "At round 105 accuracy: 0.8455497382198953\n",
      "At round 105 training accuracy: 0.8634674922600619\n",
      "At round 105 training loss: 0.3786382136191746\n",
      "Group 1\n",
      "At round 105 accuracy: 0.8362573099415205\n",
      "At round 105 training accuracy: 0.827979274611399\n",
      "At round 105 training loss: 0.5046404277928341\n",
      "Group 2\n",
      "At round 105 accuracy: 0.9315068493150684\n",
      "At round 105 training accuracy: 0.9044281618349793\n",
      "At round 105 training loss: 0.3064076206550434\n",
      "Group 3\n",
      "At round 105 accuracy: 0.8805394990366089\n",
      "At round 105 training accuracy: 0.8947485536270583\n",
      "At round 105 training loss: 0.30301696338624917\n",
      "Group 4\n",
      "At round 105 accuracy: 0.8354430379746836\n",
      "At round 105 training accuracy: 0.8358993616222306\n",
      "At round 105 training loss: 0.6950366857762047\n",
      "At round 105 mean test accuracy: 0.867983367983368 mean train accuracy: 0.8691309908044577\n",
      "The groups difference are: [19.95297794 20.07616453 20.14689428 20.37097778 19.88686329]\n",
      "Begin group  0 training\n"
     ]
    },
    {
     "name": "stderr",
     "output_type": "stream",
     "text": [
      "Epoch:  35%|██████████████████████████▉                                                  | 7/20 [00:00<00:00, 69.59it/s]"
     ]
    },
    {
     "name": "stdout",
     "output_type": "stream",
     "text": [
      "Begin group  1 training\n"
     ]
    },
    {
     "name": "stderr",
     "output_type": "stream",
     "text": [
      "Epoch:   0%|                                                                                     | 0/20 [00:00<?, ?it/s]"
     ]
    },
    {
     "name": "stdout",
     "output_type": "stream",
     "text": [
      "Begin group  2 training\n",
      "Begin group  3 training\n"
     ]
    },
    {
     "name": "stderr",
     "output_type": "stream",
     "text": [
      "Epoch:   0%|                                                                                     | 0/20 [00:00<?, ?it/s]"
     ]
    },
    {
     "name": "stdout",
     "output_type": "stream",
     "text": [
      "Begin group  4 training\n"
     ]
    },
    {
     "name": "stderr",
     "output_type": "stream",
     "text": [
      "                                                                                                                        \r"
     ]
    },
    {
     "name": "stdout",
     "output_type": "stream",
     "text": [
      "Group 0, clients ['f_00003', 'f_00154', 'f_00124', 'f_00174', 'f_00063', 'f_00014', 'f_00133', 'f_00084']\n",
      "Group 1 is empty.\n",
      "Group 2, clients ['f_00060', 'f_00049', 'f_00019', 'f_00190', 'f_00149']\n",
      "Group 3, clients ['f_00181', 'f_00192', 'f_00032', 'f_00102']\n",
      "Group 4, clients ['f_00036', 'f_00065', 'f_00016']\n"
     ]
    },
    {
     "name": "stderr",
     "output_type": "stream",
     "text": [
      "Epoch:  35%|██████████████████████████▉                                                  | 7/20 [00:00<00:00, 65.58it/s]"
     ]
    },
    {
     "name": "stdout",
     "output_type": "stream",
     "text": [
      "Group 0\n",
      "At round 106 accuracy: 0.8403141361256544\n",
      "At round 106 training accuracy: 0.8414860681114551\n",
      "At round 106 training loss: 0.4199397757165019\n",
      "Group 1\n",
      "At round 106 accuracy: 0.7923976608187134\n",
      "At round 106 training accuracy: 0.7526770293609671\n",
      "At round 106 training loss: 0.6583144387999141\n",
      "Group 2\n",
      "At round 106 accuracy: 0.9178082191780822\n",
      "At round 106 training accuracy: 0.8894552405224594\n",
      "At round 106 training loss: 0.3226946529004558\n",
      "Group 3\n",
      "At round 106 accuracy: 0.7456647398843931\n",
      "At round 106 training accuracy: 0.7467734757454384\n",
      "At round 106 training loss: 0.7444938813059739\n",
      "Group 4\n",
      "At round 106 accuracy: 0.8449367088607594\n",
      "At round 106 training accuracy: 0.8666917010889974\n",
      "At round 106 training loss: 0.3572057183136673\n",
      "At round 106 mean test accuracy: 0.8217255717255717 mean train accuracy: 0.813166067839961\n",
      "The groups difference are: [19.94834973 20.06861059 20.11779961 20.34660706 19.8739296 ]\n",
      "Begin group  0 training\n"
     ]
    },
    {
     "name": "stderr",
     "output_type": "stream",
     "text": [
      "Epoch:   0%|                                                                                     | 0/20 [00:00<?, ?it/s]"
     ]
    },
    {
     "name": "stdout",
     "output_type": "stream",
     "text": [
      "Begin group  2 training\n"
     ]
    },
    {
     "name": "stderr",
     "output_type": "stream",
     "text": [
      "Epoch:   0%|                                                                                     | 0/20 [00:00<?, ?it/s]"
     ]
    },
    {
     "name": "stdout",
     "output_type": "stream",
     "text": [
      "Begin group  3 training\n"
     ]
    },
    {
     "name": "stderr",
     "output_type": "stream",
     "text": [
      "Epoch:   0%|                                                                                     | 0/20 [00:00<?, ?it/s]"
     ]
    },
    {
     "name": "stdout",
     "output_type": "stream",
     "text": [
      "Begin group  4 training\n"
     ]
    },
    {
     "name": "stderr",
     "output_type": "stream",
     "text": [
      "                                                                                                                        \r"
     ]
    },
    {
     "name": "stdout",
     "output_type": "stream",
     "text": [
      "Group 0, clients ['f_00193', 'f_00173', 'f_00164']\n",
      "Group 1, clients ['f_00097', 'f_00128', 'f_00018', 'f_00127', 'f_00078']\n",
      "Group 2, clients ['f_00019', 'f_00039', 'f_00010', 'f_00129', 'f_00109', 'f_00159', 'f_00069']\n",
      "Group 3, clients ['f_00121', 'f_00052', 'f_00002', 'f_00012', 'f_00132']\n",
      "Group 4 is empty.\n"
     ]
    },
    {
     "name": "stderr",
     "output_type": "stream",
     "text": [
      "Epoch:   0%|                                                                                     | 0/20 [00:00<?, ?it/s]"
     ]
    },
    {
     "name": "stdout",
     "output_type": "stream",
     "text": [
      "Group 0\n",
      "At round 107 accuracy: 0.8534031413612565\n",
      "At round 107 training accuracy: 0.8678018575851393\n",
      "At round 107 training loss: 0.3760296282707353\n",
      "Group 1\n",
      "At round 107 accuracy: 0.7923976608187134\n",
      "At round 107 training accuracy: 0.7526770293609671\n",
      "At round 107 training loss: 0.6568788212712771\n",
      "Group 2\n",
      "At round 107 accuracy: 0.863013698630137\n",
      "At round 107 training accuracy: 0.8467664861420835\n",
      "At round 107 training loss: 0.4091422444469954\n",
      "Group 3\n",
      "At round 107 accuracy: 0.8516377649325626\n",
      "At round 107 training accuracy: 0.8604806408544726\n",
      "At round 107 training loss: 0.3590287785789783\n",
      "Group 4\n",
      "At round 107 accuracy: 0.8955696202531646\n",
      "At round 107 training accuracy: 0.9023657529102516\n",
      "At round 107 training loss: 0.3130537907610788\n",
      "At round 107 mean test accuracy: 0.8508316008316008 mean train accuracy: 0.8470860483527191\n",
      "The groups difference are: [19.91359768 20.02585102 20.0889762  20.32026298 19.83787619]\n",
      "Begin group  0 training\n"
     ]
    },
    {
     "name": "stderr",
     "output_type": "stream",
     "text": [
      "Epoch:   0%|                                                                                     | 0/20 [00:00<?, ?it/s]"
     ]
    },
    {
     "name": "stdout",
     "output_type": "stream",
     "text": [
      "Begin group  1 training\n"
     ]
    },
    {
     "name": "stderr",
     "output_type": "stream",
     "text": [
      "Epoch:   0%|                                                                                     | 0/20 [00:00<?, ?it/s]"
     ]
    },
    {
     "name": "stdout",
     "output_type": "stream",
     "text": [
      "Begin group  2 training\n"
     ]
    },
    {
     "name": "stderr",
     "output_type": "stream",
     "text": [
      "Epoch:  25%|███████████████████▎                                                         | 5/20 [00:00<00:00, 44.54it/s]"
     ]
    },
    {
     "name": "stdout",
     "output_type": "stream",
     "text": [
      "Begin group  3 training\n"
     ]
    },
    {
     "name": "stderr",
     "output_type": "stream",
     "text": [
      "                                                                                                                        \r"
     ]
    },
    {
     "name": "stdout",
     "output_type": "stream",
     "text": [
      "Group 0, clients ['f_00113', 'f_00074', 'f_00024', 'f_00063']\n",
      "Group 1, clients ['f_00077', 'f_00098', 'f_00007']\n",
      "Group 2, clients ['f_00180', 'f_00089', 'f_00030', 'f_00019', 'f_00009', 'f_00179', 'f_00140']\n",
      "Group 3, clients ['f_00022', 'f_00002', 'f_00031']\n",
      "Group 4, clients ['f_00196', 'f_00146', 'f_00106']\n"
     ]
    },
    {
     "name": "stderr",
     "output_type": "stream",
     "text": [
      "Epoch:  65%|████████████████████████████████████████████████▊                          | 13/20 [00:00<00:00, 126.57it/s]"
     ]
    },
    {
     "name": "stdout",
     "output_type": "stream",
     "text": [
      "Group 0\n",
      "At round 108 accuracy: 0.806282722513089\n",
      "At round 108 training accuracy: 0.820123839009288\n",
      "At round 108 training loss: 0.5353691908089738\n",
      "Group 1\n",
      "At round 108 accuracy: 0.8362573099415205\n",
      "At round 108 training accuracy: 0.8252158894645941\n",
      "At round 108 training loss: 0.5030169351627995\n",
      "Group 2\n",
      "At round 108 accuracy: 0.8547945205479452\n",
      "At round 108 training accuracy: 0.817139216310927\n",
      "At round 108 training loss: 0.48239359748557176\n",
      "Group 3\n",
      "At round 108 accuracy: 0.8554913294797688\n",
      "At round 108 training accuracy: 0.8618157543391188\n",
      "At round 108 training loss: 0.34763362086251626\n",
      "Group 4\n",
      "At round 108 accuracy: 0.8955696202531646\n",
      "At round 108 training accuracy: 0.9023657529102516\n",
      "At round 108 training loss: 0.31318624994717187\n",
      "At round 108 mean test accuracy: 0.8487525987525988 mean train accuracy: 0.8451982217891724\n",
      "The groups difference are: [19.96628966 20.03844487 20.11028152 20.34395522 19.84029659]\n",
      "Begin group  0 training\n"
     ]
    },
    {
     "name": "stderr",
     "output_type": "stream",
     "text": [
      "Epoch:   0%|                                                                                     | 0/20 [00:00<?, ?it/s]"
     ]
    },
    {
     "name": "stdout",
     "output_type": "stream",
     "text": [
      "Begin group  1 training\n"
     ]
    },
    {
     "name": "stderr",
     "output_type": "stream",
     "text": [
      "Epoch:  25%|███████████████████▎                                                         | 5/20 [00:00<00:00, 48.66it/s]"
     ]
    },
    {
     "name": "stdout",
     "output_type": "stream",
     "text": [
      "Begin group  2 training\n"
     ]
    },
    {
     "name": "stderr",
     "output_type": "stream",
     "text": [
      "Epoch:  35%|██████████████████████████▉                                                  | 7/20 [00:00<00:00, 69.84it/s]"
     ]
    },
    {
     "name": "stdout",
     "output_type": "stream",
     "text": [
      "Begin group  3 training\n"
     ]
    },
    {
     "name": "stderr",
     "output_type": "stream",
     "text": [
      "Epoch:   0%|                                                                                     | 0/20 [00:00<?, ?it/s]"
     ]
    },
    {
     "name": "stdout",
     "output_type": "stream",
     "text": [
      "Begin group  4 training\n"
     ]
    },
    {
     "name": "stderr",
     "output_type": "stream",
     "text": [
      "                                                                                                                        \r"
     ]
    },
    {
     "name": "stdout",
     "output_type": "stream",
     "text": [
      "Group 0, clients ['f_00023', 'f_00054', 'f_00083', 'f_00193', 'f_00124', 'f_00014']\n",
      "Group 1, clients ['f_00047', 'f_00107']\n",
      "Group 2, clients ['f_00079', 'f_00070', 'f_00190', 'f_00130', 'f_00110']\n",
      "Group 3, clients ['f_00001']\n",
      "Group 4, clients ['f_00076', 'f_00005', 'f_00155', 'f_00066', 'f_00055', 'f_00035']\n"
     ]
    },
    {
     "name": "stderr",
     "output_type": "stream",
     "text": [
      "Epoch:  35%|██████████████████████████▉                                                  | 7/20 [00:00<00:00, 62.43it/s]"
     ]
    },
    {
     "name": "stdout",
     "output_type": "stream",
     "text": [
      "Group 0\n",
      "At round 109 accuracy: 0.887434554973822\n",
      "At round 109 training accuracy: 0.9030959752321981\n",
      "At round 109 training loss: 0.2896062109861581\n",
      "Group 1\n",
      "At round 109 accuracy: 0.7514619883040936\n",
      "At round 109 training accuracy: 0.7350604490500864\n",
      "At round 109 training loss: 0.7886704184179273\n",
      "Group 2\n",
      "At round 109 accuracy: 0.8602739726027397\n",
      "At round 109 training accuracy: 0.8505893596686843\n",
      "At round 109 training loss: 0.38915242591778465\n",
      "Group 3\n",
      "At round 109 accuracy: 0.8651252408477842\n",
      "At round 109 training accuracy: 0.8707165109034268\n",
      "At round 109 training loss: 0.3466933693755028\n",
      "Group 4\n",
      "At round 109 accuracy: 0.8164556962025317\n",
      "At round 109 training accuracy: 0.7998497934660158\n",
      "At round 109 training loss: 0.5138913438736923\n",
      "At round 109 mean test accuracy: 0.8404365904365905 mean train accuracy: 0.8378296084282322\n",
      "The groups difference are: [19.9627882  20.05447557 20.1139459  20.3401032  19.84263162]\n",
      "Begin group  0 training\n"
     ]
    },
    {
     "name": "stderr",
     "output_type": "stream",
     "text": [
      "Epoch:   0%|                                                                                     | 0/20 [00:00<?, ?it/s]"
     ]
    },
    {
     "name": "stdout",
     "output_type": "stream",
     "text": [
      "Begin group  1 training\n"
     ]
    },
    {
     "name": "stderr",
     "output_type": "stream",
     "text": [
      "Epoch:   0%|                                                                                     | 0/20 [00:00<?, ?it/s]"
     ]
    },
    {
     "name": "stdout",
     "output_type": "stream",
     "text": [
      "Begin group  2 training\n"
     ]
    },
    {
     "name": "stderr",
     "output_type": "stream",
     "text": [
      "Epoch:  30%|███████████████████████                                                      | 6/20 [00:00<00:00, 49.74it/s]"
     ]
    },
    {
     "name": "stdout",
     "output_type": "stream",
     "text": [
      "Begin group  3 training\n",
      "Begin group  4 training\n"
     ]
    },
    {
     "name": "stderr",
     "output_type": "stream",
     "text": [
      "                                                                                                                        \r"
     ]
    },
    {
     "name": "stdout",
     "output_type": "stream",
     "text": [
      "Group 0, clients ['f_00124']\n",
      "Group 1, clients ['f_00168', 'f_00197', 'f_00147', 'f_00028', 'f_00027', 'f_00198']\n",
      "Group 2, clients ['f_00140', 'f_00020', 'f_00100', 'f_00119', 'f_00079']\n",
      "Group 3, clients ['f_00151', 'f_00071', 'f_00041', 'f_00042']\n",
      "Group 4, clients ['f_00065', 'f_00086', 'f_00185', 'f_00055']\n"
     ]
    },
    {
     "name": "stderr",
     "output_type": "stream",
     "text": [
      "Epoch:  35%|██████████████████████████▉                                                  | 7/20 [00:00<00:00, 67.17it/s]"
     ]
    },
    {
     "name": "stdout",
     "output_type": "stream",
     "text": [
      "Group 0\n",
      "At round 110 accuracy: 0.8900523560209425\n",
      "At round 110 training accuracy: 0.9027863777089783\n",
      "At round 110 training loss: 0.28668306318137665\n",
      "Group 1\n",
      "At round 110 accuracy: 0.7280701754385965\n",
      "At round 110 training accuracy: 0.7682210708117444\n",
      "At round 110 training loss: 0.7471005806496724\n",
      "Group 2\n",
      "At round 110 accuracy: 0.8438356164383561\n",
      "At round 110 training accuracy: 0.8419878942338325\n",
      "At round 110 training loss: 0.45864785507003303\n",
      "Group 3\n",
      "At round 110 accuracy: 0.8574181117533719\n",
      "At round 110 training accuracy: 0.8571428571428571\n",
      "At round 110 training loss: 0.4170941742535798\n",
      "Group 4\n",
      "At round 110 accuracy: 0.8354430379746836\n",
      "At round 110 training accuracy: 0.8482914006759295\n",
      "At round 110 training loss: 0.3879023503303707\n",
      "At round 110 mean test accuracy: 0.8347193347193347 mean train accuracy: 0.8461116862554047\n",
      "The groups difference are: [19.97902906 20.06680495 20.14019107 20.33791458 19.86680951]\n",
      "Begin group  0 training\n"
     ]
    },
    {
     "name": "stderr",
     "output_type": "stream",
     "text": [
      "Epoch:  65%|████████████████████████████████████████████████▊                          | 13/20 [00:00<00:00, 129.59it/s]"
     ]
    },
    {
     "name": "stdout",
     "output_type": "stream",
     "text": [
      "Begin group  1 training\n"
     ]
    },
    {
     "name": "stderr",
     "output_type": "stream",
     "text": [
      "Epoch:   0%|                                                                                     | 0/20 [00:00<?, ?it/s]"
     ]
    },
    {
     "name": "stdout",
     "output_type": "stream",
     "text": [
      "Begin group  2 training\n"
     ]
    },
    {
     "name": "stderr",
     "output_type": "stream",
     "text": [
      "                                                                                                                        "
     ]
    },
    {
     "name": "stdout",
     "output_type": "stream",
     "text": [
      "Begin group  3 training\n"
     ]
    },
    {
     "name": "stderr",
     "output_type": "stream",
     "text": [
      "Epoch:   0%|                                                                                     | 0/20 [00:00<?, ?it/s]"
     ]
    },
    {
     "name": "stdout",
     "output_type": "stream",
     "text": [
      "Begin group  4 training\n"
     ]
    },
    {
     "name": "stderr",
     "output_type": "stream",
     "text": [
      "                                                                                                                        \r"
     ]
    },
    {
     "name": "stdout",
     "output_type": "stream",
     "text": [
      "Group 0, clients ['f_00164', 'f_00183', 'f_00023', 'f_00163', 'f_00093']\n",
      "Group 1, clients ['f_00198']\n",
      "Group 2, clients ['f_00129', 'f_00079', 'f_00159', 'f_00009', 'f_00150']\n",
      "Group 3, clients ['f_00132', 'f_00011']\n",
      "Group 4, clients ['f_00126', 'f_00035', 'f_00195', 'f_00076', 'f_00175', 'f_00145', 'f_00055']\n"
     ]
    },
    {
     "name": "stderr",
     "output_type": "stream",
     "text": [
      "Epoch:  15%|███████████▌                                                                 | 3/20 [00:00<00:00, 28.18it/s]"
     ]
    },
    {
     "name": "stdout",
     "output_type": "stream",
     "text": [
      "Group 0\n",
      "At round 111 accuracy: 0.8350785340314136\n",
      "At round 111 training accuracy: 0.8160990712074303\n",
      "At round 111 training loss: 0.5694677661216296\n",
      "Group 1\n",
      "At round 111 accuracy: 0.7894736842105263\n",
      "At round 111 training accuracy: 0.8176165803108808\n",
      "At round 111 training loss: 0.5178156567875791\n",
      "Group 2\n",
      "At round 111 accuracy: 0.8465753424657534\n",
      "At round 111 training accuracy: 0.838483593501115\n",
      "At round 111 training loss: 0.43402518651484684\n",
      "Group 3\n",
      "At round 111 accuracy: 0.8497109826589595\n",
      "At round 111 training accuracy: 0.8600356030262573\n",
      "At round 111 training loss: 0.36537727498390116\n",
      "Group 4\n",
      "At round 111 accuracy: 0.8607594936708861\n",
      "At round 111 training accuracy: 0.872324446113406\n",
      "At round 111 training loss: 0.35689744268240803\n",
      "At round 111 mean test accuracy: 0.8373180873180873 mean train accuracy: 0.8417879544485719\n",
      "The groups difference are: [19.97470551 20.05195181 20.13128953 20.32003559 19.85223672]\n",
      "Begin group  0 training\n"
     ]
    },
    {
     "name": "stderr",
     "output_type": "stream",
     "text": [
      "Epoch:   0%|                                                                                     | 0/20 [00:00<?, ?it/s]"
     ]
    },
    {
     "name": "stdout",
     "output_type": "stream",
     "text": [
      "Begin group  1 training\n",
      "Begin group  2 training\n"
     ]
    },
    {
     "name": "stderr",
     "output_type": "stream",
     "text": [
      "Epoch:   0%|                                                                                     | 0/20 [00:00<?, ?it/s]"
     ]
    },
    {
     "name": "stdout",
     "output_type": "stream",
     "text": [
      "Begin group  3 training\n"
     ]
    },
    {
     "name": "stderr",
     "output_type": "stream",
     "text": [
      "Epoch:  60%|█████████████████████████████████████████████                              | 12/20 [00:00<00:00, 111.67it/s]"
     ]
    },
    {
     "name": "stdout",
     "output_type": "stream",
     "text": [
      "Begin group  4 training\n"
     ]
    },
    {
     "name": "stderr",
     "output_type": "stream",
     "text": [
      "                                                                                                                        \r"
     ]
    },
    {
     "name": "stdout",
     "output_type": "stream",
     "text": [
      "Group 0, clients ['f_00173', 'f_00023', 'f_00114', 'f_00024']\n",
      "Group 1, clients ['f_00108', 'f_00178', 'f_00088']\n",
      "Group 2, clients ['f_00150', 'f_00019', 'f_00050', 'f_00099', 'f_00140', 'f_00110']\n",
      "Group 3, clients ['f_00121', 'f_00072', 'f_00082', 'f_00142']\n",
      "Group 4, clients ['f_00015', 'f_00166', 'f_00145']\n"
     ]
    },
    {
     "name": "stderr",
     "output_type": "stream",
     "text": [
      "Epoch:   0%|                                                                                     | 0/20 [00:00<?, ?it/s]"
     ]
    },
    {
     "name": "stdout",
     "output_type": "stream",
     "text": [
      "Group 0\n",
      "At round 112 accuracy: 0.856020942408377\n",
      "At round 112 training accuracy: 0.8693498452012384\n",
      "At round 112 training loss: 0.3380138190076816\n",
      "Group 1\n",
      "At round 112 accuracy: 0.7280701754385965\n",
      "At round 112 training accuracy: 0.7360967184801381\n",
      "At round 112 training loss: 0.8248504572890583\n",
      "Group 2\n",
      "At round 112 accuracy: 0.7616438356164383\n",
      "At round 112 training accuracy: 0.7677604332589997\n",
      "At round 112 training loss: 0.670786485227858\n",
      "Group 3\n",
      "At round 112 accuracy: 0.8574181117533719\n",
      "At round 112 training accuracy: 0.8678237650200267\n",
      "At round 112 training loss: 0.37264693015129446\n",
      "Group 4\n",
      "At round 112 accuracy: 0.8417721518987342\n",
      "At round 112 training accuracy: 0.8651896357491551\n",
      "At round 112 training loss: 0.35710723773120623\n",
      "At round 112 mean test accuracy: 0.8134095634095634 mean train accuracy: 0.8253455940563912\n",
      "The groups difference are: [20.00480031 20.0550179  20.13950093 20.32389374 19.8714982 ]\n",
      "Begin group  0 training\n"
     ]
    },
    {
     "name": "stderr",
     "output_type": "stream",
     "text": [
      "Epoch:   0%|                                                                                     | 0/20 [00:00<?, ?it/s]"
     ]
    },
    {
     "name": "stdout",
     "output_type": "stream",
     "text": [
      "Begin group  1 training\n"
     ]
    },
    {
     "name": "stderr",
     "output_type": "stream",
     "text": [
      "Epoch:   0%|                                                                                     | 0/20 [00:00<?, ?it/s]"
     ]
    },
    {
     "name": "stdout",
     "output_type": "stream",
     "text": [
      "Begin group  2 training\n"
     ]
    },
    {
     "name": "stderr",
     "output_type": "stream",
     "text": [
      "Epoch:  25%|███████████████████▎                                                         | 5/20 [00:00<00:00, 47.12it/s]"
     ]
    },
    {
     "name": "stdout",
     "output_type": "stream",
     "text": [
      "Begin group  3 training\n"
     ]
    },
    {
     "name": "stderr",
     "output_type": "stream",
     "text": [
      "Epoch:  50%|██████████████████████████████████████                                      | 10/20 [00:00<00:00, 91.93it/s]"
     ]
    },
    {
     "name": "stdout",
     "output_type": "stream",
     "text": [
      "Begin group  4 training\n"
     ]
    },
    {
     "name": "stderr",
     "output_type": "stream",
     "text": [
      "                                                                                                                        \r"
     ]
    },
    {
     "name": "stdout",
     "output_type": "stream",
     "text": [
      "Group 0, clients ['f_00034', 'f_00063', 'f_00124', 'f_00114']\n",
      "Group 1, clients ['f_00057', 'f_00127', 'f_00117', 'f_00017']\n",
      "Group 2, clients ['f_00030', 'f_00019', 'f_00009']\n",
      "Group 3, clients ['f_00062', 'f_00142', 'f_00071', 'f_00022', 'f_00091', 'f_00161']\n",
      "Group 4, clients ['f_00016', 'f_00155', 'f_00006']\n"
     ]
    },
    {
     "name": "stderr",
     "output_type": "stream",
     "text": [
      "                                                                                                                        "
     ]
    },
    {
     "name": "stdout",
     "output_type": "stream",
     "text": [
      "Group 0\n",
      "At round 113 accuracy: 0.8507853403141361\n",
      "At round 113 training accuracy: 0.8473684210526315\n",
      "At round 113 training loss: 0.4191938723780607\n",
      "Group 1\n",
      "At round 113 accuracy: 0.7251461988304093\n",
      "At round 113 training accuracy: 0.7257340241796201\n",
      "At round 113 training loss: 0.9721022899955871\n",
      "Group 2\n",
      "At round 113 accuracy: 0.8931506849315068\n",
      "At round 113 training accuracy: 0.8741637464160561\n",
      "At round 113 training loss: 0.3671700721069596\n",
      "Group 3\n",
      "At round 113 accuracy: 0.8323699421965318\n",
      "At round 113 training accuracy: 0.8324432576769025\n",
      "At round 113 training loss: 0.4338354509245914\n",
      "Group 4\n",
      "At round 113 accuracy: 0.8322784810126582\n",
      "At round 113 training accuracy: 0.8317686819376643\n",
      "At round 113 training loss: 0.4560635032826825\n",
      "At round 113 mean test accuracy: 0.8284823284823285 mean train accuracy: 0.824432129590159\n",
      "The groups difference are: [19.99458005 20.05346914 20.12226582 20.31321143 19.87243857]\n",
      "Begin group  0 training\n"
     ]
    },
    {
     "name": "stderr",
     "output_type": "stream",
     "text": [
      "Epoch:   0%|                                                                                     | 0/20 [00:00<?, ?it/s]"
     ]
    },
    {
     "name": "stdout",
     "output_type": "stream",
     "text": [
      "Begin group  1 training\n"
     ]
    },
    {
     "name": "stderr",
     "output_type": "stream",
     "text": [
      "Epoch:  75%|████████████████████████████████████████████████████████▎                  | 15/20 [00:00<00:00, 140.16it/s]"
     ]
    },
    {
     "name": "stdout",
     "output_type": "stream",
     "text": [
      "Begin group  2 training\n"
     ]
    },
    {
     "name": "stderr",
     "output_type": "stream",
     "text": [
      "Epoch:   5%|███▊                                                                         | 1/20 [00:00<00:03,  5.36it/s]"
     ]
    },
    {
     "name": "stdout",
     "output_type": "stream",
     "text": [
      "Begin group  3 training\n"
     ]
    },
    {
     "name": "stderr",
     "output_type": "stream",
     "text": [
      "Epoch:   0%|                                                                                     | 0/20 [00:00<?, ?it/s]"
     ]
    },
    {
     "name": "stdout",
     "output_type": "stream",
     "text": [
      "Begin group  4 training\n"
     ]
    },
    {
     "name": "stderr",
     "output_type": "stream",
     "text": [
      "                                                                                                                        \r"
     ]
    },
    {
     "name": "stdout",
     "output_type": "stream",
     "text": [
      "Group 0, clients ['f_00053', 'f_00054', 'f_00114']\n",
      "Group 1, clients ['f_00059', 'f_00127', 'f_00007', 'f_00187', 'f_00078', 'f_00017', 'f_00198']\n",
      "Group 2, clients ['f_00099', 'f_00000', 'f_00069', 'f_00030']\n",
      "Group 3, clients ['f_00121']\n",
      "Group 4, clients ['f_00006', 'f_00015', 'f_00105', 'f_00106', 'f_00065']\n"
     ]
    },
    {
     "name": "stderr",
     "output_type": "stream",
     "text": [
      "Epoch:  15%|███████████▌                                                                 | 3/20 [00:00<00:00, 25.34it/s]"
     ]
    },
    {
     "name": "stdout",
     "output_type": "stream",
     "text": [
      "Group 0\n",
      "At round 114 accuracy: 0.8691099476439791\n",
      "At round 114 training accuracy: 0.8743034055727554\n",
      "At round 114 training loss: 0.3360839858558894\n",
      "Group 1\n",
      "At round 114 accuracy: 0.7573099415204678\n",
      "At round 114 training accuracy: 0.7696027633851468\n",
      "At round 114 training loss: 0.6515063756745508\n",
      "Group 2\n",
      "At round 114 accuracy: 0.8328767123287671\n",
      "At round 114 training accuracy: 0.8165020707231603\n",
      "At round 114 training loss: 0.5088014868688872\n",
      "Group 3\n",
      "At round 114 accuracy: 0.8574181117533719\n",
      "At round 114 training accuracy: 0.8624833110814419\n",
      "At round 114 training loss: 0.5218366385998331\n",
      "Group 4\n",
      "At round 114 accuracy: 0.8322784810126582\n",
      "At round 114 training accuracy: 0.8700713481036425\n",
      "At round 114 training loss: 0.3660923004055265\n",
      "At round 114 mean test accuracy: 0.8331600831600832 mean train accuracy: 0.8408744899823397\n",
      "The groups difference are: [20.11269682 20.16770558 20.24390374 20.54139616 19.98386345]\n",
      "Begin group  0 training\n"
     ]
    },
    {
     "name": "stderr",
     "output_type": "stream",
     "text": [
      "Epoch:   0%|                                                                                     | 0/20 [00:00<?, ?it/s]"
     ]
    },
    {
     "name": "stdout",
     "output_type": "stream",
     "text": [
      "Begin group  1 training\n"
     ]
    },
    {
     "name": "stderr",
     "output_type": "stream",
     "text": [
      "Epoch:   0%|                                                                                     | 0/20 [00:00<?, ?it/s]"
     ]
    },
    {
     "name": "stdout",
     "output_type": "stream",
     "text": [
      "Begin group  2 training\n"
     ]
    },
    {
     "name": "stderr",
     "output_type": "stream",
     "text": [
      "Epoch:  30%|███████████████████████                                                      | 6/20 [00:00<00:00, 54.50it/s]"
     ]
    },
    {
     "name": "stdout",
     "output_type": "stream",
     "text": [
      "Begin group  3 training\n"
     ]
    },
    {
     "name": "stderr",
     "output_type": "stream",
     "text": [
      "Epoch:   0%|                                                                                     | 0/20 [00:00<?, ?it/s]"
     ]
    },
    {
     "name": "stdout",
     "output_type": "stream",
     "text": [
      "Begin group  4 training\n"
     ]
    },
    {
     "name": "stderr",
     "output_type": "stream",
     "text": [
      "                                                                                                                        \r"
     ]
    },
    {
     "name": "stdout",
     "output_type": "stream",
     "text": [
      "Group 0, clients ['f_00143', 'f_00123', 'f_00183', 'f_00014', 'f_00073']\n",
      "Group 1, clients ['f_00169', 'f_00128', 'f_00078', 'f_00188']\n",
      "Group 2, clients ['f_00140', 'f_00180', 'f_00010', 'f_00030']\n",
      "Group 3, clients ['f_00152', 'f_00042', 'f_00061', 'f_00021', 'f_00161']\n",
      "Group 4, clients ['f_00006', 'f_00165']\n"
     ]
    },
    {
     "name": "stderr",
     "output_type": "stream",
     "text": [
      "Epoch:   0%|                                                                                     | 0/20 [00:00<?, ?it/s]"
     ]
    },
    {
     "name": "stdout",
     "output_type": "stream",
     "text": [
      "Group 0\n",
      "At round 115 accuracy: 0.8219895287958116\n",
      "At round 115 training accuracy: 0.820123839009288\n",
      "At round 115 training loss: 0.6376490009781377\n",
      "Group 1\n",
      "At round 115 accuracy: 0.847953216374269\n",
      "At round 115 training accuracy: 0.846286701208981\n",
      "At round 115 training loss: 0.48094309580758443\n",
      "Group 2\n",
      "At round 115 accuracy: 0.8438356164383561\n",
      "At round 115 training accuracy: 0.8270149729213125\n",
      "At round 115 training loss: 0.4480421692038008\n",
      "Group 3\n",
      "At round 115 accuracy: 0.6955684007707129\n",
      "At round 115 training accuracy: 0.7058299955496217\n",
      "At round 115 training loss: 1.060727693879928\n",
      "Group 4\n",
      "At round 115 accuracy: 0.8639240506329114\n",
      "At round 115 training accuracy: 0.8475403680060083\n",
      "At round 115 training loss: 0.39042595974258854\n",
      "At round 115 mean test accuracy: 0.8035343035343036 mean train accuracy: 0.7992205103221485\n",
      "The groups difference are: [20.16420751 20.18691347 20.25042049 20.56103591 20.0174576 ]\n",
      "Begin group  0 training\n"
     ]
    },
    {
     "name": "stderr",
     "output_type": "stream",
     "text": [
      "                                                                                                                        "
     ]
    },
    {
     "name": "stdout",
     "output_type": "stream",
     "text": [
      "Begin group  1 training\n"
     ]
    },
    {
     "name": "stderr",
     "output_type": "stream",
     "text": [
      "Epoch:   0%|                                                                                     | 0/20 [00:00<?, ?it/s]"
     ]
    },
    {
     "name": "stdout",
     "output_type": "stream",
     "text": [
      "Begin group  2 training\n"
     ]
    },
    {
     "name": "stderr",
     "output_type": "stream",
     "text": [
      "Epoch:  30%|███████████████████████                                                      | 6/20 [00:00<00:00, 58.54it/s]"
     ]
    },
    {
     "name": "stdout",
     "output_type": "stream",
     "text": [
      "Begin group  3 training\n"
     ]
    },
    {
     "name": "stderr",
     "output_type": "stream",
     "text": [
      "Epoch:   0%|                                                                                     | 0/20 [00:00<?, ?it/s]"
     ]
    },
    {
     "name": "stdout",
     "output_type": "stream",
     "text": [
      "Begin group  4 training\n"
     ]
    },
    {
     "name": "stderr",
     "output_type": "stream",
     "text": [
      "                                                                                                                        \r"
     ]
    },
    {
     "name": "stdout",
     "output_type": "stream",
     "text": [
      "Group 0, clients ['f_00134', 'f_00034', 'f_00103', 'f_00153']\n",
      "Group 1, clients ['f_00127', 'f_00077', 'f_00018']\n",
      "Group 2, clients ['f_00030', 'f_00079', 'f_00150']\n",
      "Group 3, clients ['f_00142', 'f_00102', 'f_00132', 'f_00042']\n",
      "Group 4, clients ['f_00166', 'f_00015', 'f_00025', 'f_00006', 'f_00005', 'f_00196']\n"
     ]
    },
    {
     "name": "stderr",
     "output_type": "stream",
     "text": [
      "Epoch:   0%|                                                                                     | 0/20 [00:00<?, ?it/s]"
     ]
    },
    {
     "name": "stdout",
     "output_type": "stream",
     "text": [
      "Group 0\n",
      "At round 116 accuracy: 0.8141361256544503\n",
      "At round 116 training accuracy: 0.8195046439628483\n",
      "At round 116 training loss: 0.5782347514441138\n",
      "Group 1\n",
      "At round 116 accuracy: 0.695906432748538\n",
      "At round 116 training accuracy: 0.696027633851468\n",
      "At round 116 training loss: 0.8142149112796948\n",
      "Group 2\n",
      "At round 116 accuracy: 0.810958904109589\n",
      "At round 116 training accuracy: 0.8238292449824784\n",
      "At round 116 training loss: 0.6061410228465157\n",
      "Group 3\n",
      "At round 116 accuracy: 0.859344894026975\n",
      "At round 116 training accuracy: 0.8667111704494882\n",
      "At round 116 training loss: 0.3385984943769325\n",
      "Group 4\n",
      "At round 116 accuracy: 0.9082278481012658\n",
      "At round 116 training accuracy: 0.912504693954187\n",
      "At round 116 training loss: 0.2901324821154157\n",
      "At round 116 mean test accuracy: 0.8201663201663202 mean train accuracy: 0.8265635466780342\n",
      "The groups difference are: [20.1772958  20.18440148 20.27162794 20.55500956 20.02676538]\n",
      "Begin group  0 training\n"
     ]
    },
    {
     "name": "stderr",
     "output_type": "stream",
     "text": [
      "Epoch:   0%|                                                                                     | 0/20 [00:00<?, ?it/s]"
     ]
    },
    {
     "name": "stdout",
     "output_type": "stream",
     "text": [
      "Begin group  1 training\n"
     ]
    },
    {
     "name": "stderr",
     "output_type": "stream",
     "text": [
      "Epoch:  55%|█████████████████████████████████████████▎                                 | 11/20 [00:00<00:00, 107.29it/s]"
     ]
    },
    {
     "name": "stdout",
     "output_type": "stream",
     "text": [
      "Begin group  2 training\n"
     ]
    },
    {
     "name": "stderr",
     "output_type": "stream",
     "text": [
      "Epoch:  25%|███████████████████▎                                                         | 5/20 [00:00<00:00, 45.51it/s]"
     ]
    },
    {
     "name": "stdout",
     "output_type": "stream",
     "text": [
      "Begin group  3 training\n"
     ]
    },
    {
     "name": "stderr",
     "output_type": "stream",
     "text": [
      "Epoch:  45%|██████████████████████████████████▋                                          | 9/20 [00:00<00:00, 84.13it/s]"
     ]
    },
    {
     "name": "stdout",
     "output_type": "stream",
     "text": [
      "Begin group  4 training\n"
     ]
    },
    {
     "name": "stderr",
     "output_type": "stream",
     "text": [
      "                                                                                                                        \r"
     ]
    },
    {
     "name": "stdout",
     "output_type": "stream",
     "text": [
      "Group 0, clients ['f_00174', 'f_00063', 'f_00133', 'f_00193']\n",
      "Group 1, clients ['f_00017']\n",
      "Group 2, clients ['f_00120', 'f_00129', 'f_00029', 'f_00149', 'f_00140']\n",
      "Group 3, clients ['f_00041', 'f_00001', 'f_00171', 'f_00062', 'f_00072']\n",
      "Group 4, clients ['f_00155', 'f_00036', 'f_00105', 'f_00096', 'f_00006']\n"
     ]
    },
    {
     "name": "stderr",
     "output_type": "stream",
     "text": [
      "Epoch:  75%|████████████████████████████████████████████████████████▎                  | 15/20 [00:00<00:00, 149.03it/s]"
     ]
    },
    {
     "name": "stdout",
     "output_type": "stream",
     "text": [
      "Group 0\n",
      "At round 117 accuracy: 0.8979057591623036\n",
      "At round 117 training accuracy: 0.9154798761609907\n",
      "At round 117 training loss: 0.2686727734680515\n",
      "Group 1\n",
      "At round 117 accuracy: 0.8391812865497076\n",
      "At round 117 training accuracy: 0.8483592400690846\n",
      "At round 117 training loss: 0.4672862027232923\n",
      "Group 2\n",
      "At round 117 accuracy: 0.8164383561643835\n",
      "At round 117 training accuracy: 0.7922905383880217\n",
      "At round 117 training loss: 0.5038116489504127\n",
      "Group 3\n",
      "At round 117 accuracy: 0.8709055876685935\n",
      "At round 117 training accuracy: 0.8693813974187806\n",
      "At round 117 training loss: 0.40815203272479345\n",
      "Group 4\n",
      "At round 117 accuracy: 0.8417721518987342\n",
      "At round 117 training accuracy: 0.8265114532482163\n",
      "At round 117 training loss: 0.42511336854580334\n",
      "At round 117 mean test accuracy: 0.8555093555093555 mean train accuracy: 0.8530540161987699\n",
      "The groups difference are: [20.15205898 20.16457109 20.26218073 20.54709691 20.02273282]\n",
      "Begin group  0 training\n"
     ]
    },
    {
     "name": "stderr",
     "output_type": "stream",
     "text": [
      "Epoch:  55%|█████████████████████████████████████████▎                                 | 11/20 [00:00<00:00, 106.54it/s]"
     ]
    },
    {
     "name": "stdout",
     "output_type": "stream",
     "text": [
      "Begin group  1 training\n",
      "Begin group  2 training\n"
     ]
    },
    {
     "name": "stderr",
     "output_type": "stream",
     "text": [
      "Epoch:   0%|                                                                                     | 0/20 [00:00<?, ?it/s]"
     ]
    },
    {
     "name": "stdout",
     "output_type": "stream",
     "text": [
      "Begin group  3 training\n"
     ]
    },
    {
     "name": "stderr",
     "output_type": "stream",
     "text": [
      "Epoch:   0%|                                                                                     | 0/20 [00:00<?, ?it/s]"
     ]
    },
    {
     "name": "stdout",
     "output_type": "stream",
     "text": [
      "Begin group  4 training\n"
     ]
    },
    {
     "name": "stderr",
     "output_type": "stream",
     "text": [
      "                                                                                                                        \r"
     ]
    },
    {
     "name": "stdout",
     "output_type": "stream",
     "text": [
      "Group 0, clients ['f_00063', 'f_00113', 'f_00103', 'f_00034', 'f_00193', 'f_00143']\n",
      "Group 1, clients ['f_00188', 'f_00187', 'f_00058', 'f_00137', 'f_00077']\n",
      "Group 2, clients ['f_00159']\n",
      "Group 3, clients ['f_00161', 'f_00032', 'f_00092', 'f_00061']\n",
      "Group 4, clients ['f_00135', 'f_00075', 'f_00116', 'f_00016']\n"
     ]
    },
    {
     "name": "stderr",
     "output_type": "stream",
     "text": [
      "Epoch:   0%|                                                                                     | 0/20 [00:00<?, ?it/s]"
     ]
    },
    {
     "name": "stdout",
     "output_type": "stream",
     "text": [
      "Group 0\n",
      "At round 118 accuracy: 0.8769633507853403\n",
      "At round 118 training accuracy: 0.8894736842105263\n",
      "At round 118 training loss: 0.29723550177902996\n",
      "Group 1\n",
      "At round 118 accuracy: 0.7485380116959064\n",
      "At round 118 training accuracy: 0.7644214162348877\n",
      "At round 118 training loss: 0.6222684269381722\n",
      "Group 2\n",
      "At round 118 accuracy: 0.8821917808219178\n",
      "At round 118 training accuracy: 0.8690665817139216\n",
      "At round 118 training loss: 0.36945486627934504\n",
      "Group 3\n",
      "At round 118 accuracy: 0.8689788053949904\n",
      "At round 118 training accuracy: 0.8709390298175345\n",
      "At round 118 training loss: 0.5583637195942293\n",
      "Group 4\n",
      "At round 118 accuracy: 0.8354430379746836\n",
      "At round 118 training accuracy: 0.8595568907247465\n",
      "At round 118 training loss: 0.35854116931608015\n",
      "At round 118 mean test accuracy: 0.8461538461538461 mean train accuracy: 0.8536020948785092\n",
      "The groups difference are: [20.25951099 20.27691301 20.37959689 20.76547669 20.14386845]\n",
      "Begin group  0 training\n"
     ]
    },
    {
     "name": "stderr",
     "output_type": "stream",
     "text": [
      "Epoch:   0%|                                                                                     | 0/20 [00:00<?, ?it/s]"
     ]
    },
    {
     "name": "stdout",
     "output_type": "stream",
     "text": [
      "Begin group  1 training\n"
     ]
    },
    {
     "name": "stderr",
     "output_type": "stream",
     "text": [
      "Epoch:   0%|                                                                                     | 0/20 [00:00<?, ?it/s]"
     ]
    },
    {
     "name": "stdout",
     "output_type": "stream",
     "text": [
      "Begin group  2 training\n",
      "Begin group  3 training\n"
     ]
    },
    {
     "name": "stderr",
     "output_type": "stream",
     "text": [
      "Epoch:  40%|██████████████████████████████▊                                              | 8/20 [00:00<00:00, 76.23it/s]"
     ]
    },
    {
     "name": "stdout",
     "output_type": "stream",
     "text": [
      "Begin group  4 training\n"
     ]
    },
    {
     "name": "stderr",
     "output_type": "stream",
     "text": [
      "                                                                                                                        \r"
     ]
    },
    {
     "name": "stdout",
     "output_type": "stream",
     "text": [
      "Group 0, clients ['f_00124']\n",
      "Group 1, clients ['f_00178', 'f_00088', 'f_00067', 'f_00027', 'f_00158', 'f_00077', 'f_00008']\n",
      "Group 2, clients ['f_00150', 'f_00109', 'f_00130', 'f_00179', 'f_00090']\n",
      "Group 3, clients ['f_00012', 'f_00112', 'f_00102', 'f_00011', 'f_00021']\n",
      "Group 4, clients ['f_00186', 'f_00035']\n"
     ]
    },
    {
     "name": "stderr",
     "output_type": "stream",
     "text": [
      "Epoch:  35%|██████████████████████████▉                                                  | 7/20 [00:00<00:00, 65.20it/s]"
     ]
    },
    {
     "name": "stdout",
     "output_type": "stream",
     "text": [
      "Group 0\n",
      "At round 119 accuracy: 0.8769633507853403\n",
      "At round 119 training accuracy: 0.8984520123839009\n",
      "At round 119 training loss: 0.28567858269155577\n",
      "Group 1\n",
      "At round 119 accuracy: 0.7456140350877193\n",
      "At round 119 training accuracy: 0.7747841105354059\n",
      "At round 119 training loss: 0.6199240010173828\n",
      "Group 2\n",
      "At round 119 accuracy: 0.7643835616438356\n",
      "At round 119 training accuracy: 0.776680471487735\n",
      "At round 119 training loss: 0.7887563125965283\n",
      "Group 3\n",
      "At round 119 accuracy: 0.859344894026975\n",
      "At round 119 training accuracy: 0.8647085002225189\n",
      "At round 119 training loss: 0.44976753889055426\n",
      "Group 4\n",
      "At round 119 accuracy: 0.8291139240506329\n",
      "At round 119 training accuracy: 0.8220052572286894\n",
      "At round 119 training loss: 0.4870551769816468\n",
      "At round 119 mean test accuracy: 0.8196465696465697 mean train accuracy: 0.8317398453200171\n",
      "The groups difference are: [20.22363087 20.24676151 20.35552154 20.72821457 20.12661027]\n",
      "Begin group  0 training\n"
     ]
    },
    {
     "name": "stderr",
     "output_type": "stream",
     "text": [
      "Epoch:   0%|                                                                                     | 0/20 [00:00<?, ?it/s]"
     ]
    },
    {
     "name": "stdout",
     "output_type": "stream",
     "text": [
      "Begin group  1 training\n"
     ]
    },
    {
     "name": "stderr",
     "output_type": "stream",
     "text": [
      "Epoch:   0%|                                                                                     | 0/20 [00:00<?, ?it/s]"
     ]
    },
    {
     "name": "stdout",
     "output_type": "stream",
     "text": [
      "Begin group  2 training\n"
     ]
    },
    {
     "name": "stderr",
     "output_type": "stream",
     "text": [
      "Epoch:   0%|                                                                                     | 0/20 [00:00<?, ?it/s]"
     ]
    },
    {
     "name": "stdout",
     "output_type": "stream",
     "text": [
      "Begin group  3 training\n"
     ]
    },
    {
     "name": "stderr",
     "output_type": "stream",
     "text": [
      "Epoch:  55%|█████████████████████████████████████████▎                                 | 11/20 [00:00<00:00, 107.25it/s]"
     ]
    },
    {
     "name": "stdout",
     "output_type": "stream",
     "text": [
      "Begin group  4 training\n"
     ]
    },
    {
     "name": "stderr",
     "output_type": "stream",
     "text": [
      "                                                                                                                        \r"
     ]
    },
    {
     "name": "stdout",
     "output_type": "stream",
     "text": [
      "Group 0, clients ['f_00163', 'f_00074']\n",
      "Group 1, clients ['f_00087', 'f_00118', 'f_00198', 'f_00108', 'f_00178']\n",
      "Group 2, clients ['f_00080', 'f_00199', 'f_00160', 'f_00039']\n",
      "Group 3, clients ['f_00062', 'f_00101', 'f_00032', 'f_00161']\n",
      "Group 4, clients ['f_00035', 'f_00125', 'f_00046', 'f_00136', 'f_00006']\n"
     ]
    },
    {
     "name": "stderr",
     "output_type": "stream",
     "text": [
      "Epoch:   0%|                                                                                     | 0/20 [00:00<?, ?it/s]"
     ]
    },
    {
     "name": "stdout",
     "output_type": "stream",
     "text": [
      "Group 0\n",
      "At round 120 accuracy: 0.8455497382198953\n",
      "At round 120 training accuracy: 0.8294117647058824\n",
      "At round 120 training loss: 0.5184034664056988\n",
      "Group 1\n",
      "At round 120 accuracy: 0.7456140350877193\n",
      "At round 120 training accuracy: 0.7626943005181347\n",
      "At round 120 training loss: 0.666704289545667\n",
      "Group 2\n",
      "At round 120 accuracy: 0.8602739726027397\n",
      "At round 120 training accuracy: 0.8534565148136349\n",
      "At round 120 training loss: 0.38224218750634215\n",
      "Group 3\n",
      "At round 120 accuracy: 0.8574181117533719\n",
      "At round 120 training accuracy: 0.8622607921673342\n",
      "At round 120 training loss: 0.38920038316480093\n",
      "Group 4\n",
      "At round 120 accuracy: 0.8544303797468354\n",
      "At round 120 training accuracy: 0.8306421329327826\n",
      "At round 120 training loss: 0.42058967938559244\n",
      "At round 120 mean test accuracy: 0.8352390852390852 mean train accuracy: 0.8314353571646063\n",
      "The groups difference are: [20.25553178 20.29559503 20.38401318 20.74751495 20.14575708]\n",
      "Begin group  0 training\n"
     ]
    },
    {
     "name": "stderr",
     "output_type": "stream",
     "text": [
      "Epoch:  20%|███████████████▍                                                             | 4/20 [00:00<00:00, 31.24it/s]"
     ]
    },
    {
     "name": "stdout",
     "output_type": "stream",
     "text": [
      "Begin group  1 training\n"
     ]
    },
    {
     "name": "stderr",
     "output_type": "stream",
     "text": [
      "Epoch:  40%|██████████████████████████████▊                                              | 8/20 [00:00<00:00, 70.49it/s]"
     ]
    },
    {
     "name": "stdout",
     "output_type": "stream",
     "text": [
      "Begin group  2 training\n"
     ]
    },
    {
     "name": "stderr",
     "output_type": "stream",
     "text": [
      "Epoch:   0%|                                                                                     | 0/20 [00:00<?, ?it/s]"
     ]
    },
    {
     "name": "stdout",
     "output_type": "stream",
     "text": [
      "Begin group  3 training\n"
     ]
    },
    {
     "name": "stderr",
     "output_type": "stream",
     "text": [
      "Epoch:  50%|██████████████████████████████████████                                      | 10/20 [00:00<00:00, 95.92it/s]"
     ]
    },
    {
     "name": "stdout",
     "output_type": "stream",
     "text": [
      "Begin group  4 training\n"
     ]
    },
    {
     "name": "stderr",
     "output_type": "stream",
     "text": [
      "                                                                                                                        \r"
     ]
    },
    {
     "name": "stdout",
     "output_type": "stream",
     "text": [
      "Group 0, clients ['f_00144', 'f_00024', 'f_00143']\n",
      "Group 1, clients ['f_00128', 'f_00027', 'f_00178', 'f_00197', 'f_00147', 'f_00107']\n",
      "Group 2, clients ['f_00070', 'f_00079', 'f_00090', 'f_00189', 'f_00049']\n",
      "Group 3, clients ['f_00142', 'f_00032']\n",
      "Group 4, clients ['f_00155', 'f_00146', 'f_00136', 'f_00056']\n"
     ]
    },
    {
     "name": "stderr",
     "output_type": "stream",
     "text": [
      "Epoch:   0%|                                                                                     | 0/20 [00:00<?, ?it/s]"
     ]
    },
    {
     "name": "stdout",
     "output_type": "stream",
     "text": [
      "Group 0\n",
      "At round 121 accuracy: 0.8821989528795812\n",
      "At round 121 training accuracy: 0.8938080495356037\n",
      "At round 121 training loss: 0.2981946248342009\n",
      "Group 1\n",
      "At round 121 accuracy: 0.7397660818713451\n",
      "At round 121 training accuracy: 0.7416234887737478\n",
      "At round 121 training loss: 0.6363706365768156\n",
      "Group 2\n",
      "At round 121 accuracy: 0.8438356164383561\n",
      "At round 121 training accuracy: 0.8333864287989806\n",
      "At round 121 training loss: 0.47349863448371626\n",
      "Group 3\n",
      "At round 121 accuracy: 0.8689788053949904\n",
      "At round 121 training accuracy: 0.8736092567868269\n",
      "At round 121 training loss: 0.5813335000865185\n",
      "Group 4\n",
      "At round 121 accuracy: 0.8417721518987342\n",
      "At round 121 training accuracy: 0.8591813743897859\n",
      "At round 121 training loss: 0.355018117896292\n",
      "At round 121 mean test accuracy: 0.8393970893970893 mean train accuracy: 0.8442847573229402\n",
      "The groups difference are: [20.44507451 20.51076523 20.6063272  21.04468831 20.3528836 ]\n",
      "Begin group  0 training\n"
     ]
    },
    {
     "name": "stderr",
     "output_type": "stream",
     "text": [
      "Epoch:   0%|                                                                                     | 0/20 [00:00<?, ?it/s]"
     ]
    },
    {
     "name": "stdout",
     "output_type": "stream",
     "text": [
      "Begin group  1 training\n"
     ]
    },
    {
     "name": "stderr",
     "output_type": "stream",
     "text": [
      "Epoch:  25%|███████████████████▎                                                         | 5/20 [00:00<00:00, 40.40it/s]"
     ]
    },
    {
     "name": "stdout",
     "output_type": "stream",
     "text": [
      "Begin group  2 training\n"
     ]
    },
    {
     "name": "stderr",
     "output_type": "stream",
     "text": [
      "                                                                                                                        "
     ]
    },
    {
     "name": "stdout",
     "output_type": "stream",
     "text": [
      "Begin group  3 training\n",
      "Begin group  4 training\n"
     ]
    },
    {
     "name": "stderr",
     "output_type": "stream",
     "text": [
      "                                                                                                                        \r"
     ]
    },
    {
     "name": "stdout",
     "output_type": "stream",
     "text": [
      "Group 0, clients ['f_00043', 'f_00064', 'f_00103', 'f_00113', 'f_00023']\n",
      "Group 1, clients ['f_00018', 'f_00007']\n",
      "Group 2, clients ['f_00030', 'f_00120', 'f_00160', 'f_00199', 'f_00040']\n",
      "Group 3, clients ['f_00002', 'f_00022', 'f_00122', 'f_00131', 'f_00191']\n",
      "Group 4, clients ['f_00095', 'f_00035', 'f_00075']\n"
     ]
    },
    {
     "name": "stderr",
     "output_type": "stream",
     "text": [
      "Epoch:  75%|████████████████████████████████████████████████████████▎                  | 15/20 [00:00<00:00, 144.48it/s]"
     ]
    },
    {
     "name": "stdout",
     "output_type": "stream",
     "text": [
      "Group 0\n",
      "At round 122 accuracy: 0.9057591623036649\n",
      "At round 122 training accuracy: 0.9309597523219815\n",
      "At round 122 training loss: 0.24894393740146892\n",
      "Group 1\n",
      "At round 122 accuracy: 0.7777777777777778\n",
      "At round 122 training accuracy: 0.8010362694300518\n",
      "At round 122 training loss: 0.5488175272735701\n",
      "Group 2\n",
      "At round 122 accuracy: 0.8438356164383561\n",
      "At round 122 training accuracy: 0.8362535839439312\n",
      "At round 122 training loss: 0.4300063493507005\n",
      "Group 3\n",
      "At round 122 accuracy: 0.8709055876685935\n",
      "At round 122 training accuracy: 0.8738317757009346\n",
      "At round 122 training loss: 0.5679010395963668\n",
      "Group 4\n",
      "At round 122 accuracy: 0.810126582278481\n",
      "At round 122 training accuracy: 0.8073601201652272\n",
      "At round 122 training loss: 0.5357515656109865\n",
      "At round 122 mean test accuracy: 0.8461538461538461 mean train accuracy: 0.8542719688204129\n",
      "The groups difference are: [20.42003511 20.48448212 20.5984063  21.01175898 20.33513855]\n",
      "Begin group  0 training\n"
     ]
    },
    {
     "name": "stderr",
     "output_type": "stream",
     "text": [
      "Epoch:   0%|                                                                                     | 0/20 [00:00<?, ?it/s]"
     ]
    },
    {
     "name": "stdout",
     "output_type": "stream",
     "text": [
      "Begin group  1 training\n",
      "Begin group  2 training\n"
     ]
    },
    {
     "name": "stderr",
     "output_type": "stream",
     "text": [
      "Epoch:  35%|██████████████████████████▉                                                  | 7/20 [00:00<00:00, 67.35it/s]"
     ]
    },
    {
     "name": "stdout",
     "output_type": "stream",
     "text": [
      "Begin group  3 training\n"
     ]
    },
    {
     "name": "stderr",
     "output_type": "stream",
     "text": [
      "Epoch:  55%|█████████████████████████████████████████▎                                 | 11/20 [00:00<00:00, 102.60it/s]"
     ]
    },
    {
     "name": "stdout",
     "output_type": "stream",
     "text": [
      "Begin group  4 training\n"
     ]
    },
    {
     "name": "stderr",
     "output_type": "stream",
     "text": [
      "                                                                                                                        \r"
     ]
    },
    {
     "name": "stdout",
     "output_type": "stream",
     "text": [
      "Group 0, clients ['f_00104', 'f_00053', 'f_00004']\n",
      "Group 1, clients ['f_00127', 'f_00037', 'f_00158', 'f_00108', 'f_00178']\n",
      "Group 2, clients ['f_00050', 'f_00149', 'f_00019', 'f_00179', 'f_00189', 'f_00020']\n",
      "Group 3, clients ['f_00162', 'f_00082', 'f_00182', 'f_00031', 'f_00121']\n",
      "Group 4, clients ['f_00185']\n"
     ]
    },
    {
     "name": "stderr",
     "output_type": "stream",
     "text": [
      "Epoch:   0%|                                                                                     | 0/20 [00:00<?, ?it/s]"
     ]
    },
    {
     "name": "stdout",
     "output_type": "stream",
     "text": [
      "Group 0\n",
      "At round 123 accuracy: 0.8743455497382199\n",
      "At round 123 training accuracy: 0.8780185758513932\n",
      "At round 123 training loss: 0.3488895886199947\n",
      "Group 1\n",
      "At round 123 accuracy: 0.8567251461988304\n",
      "At round 123 training accuracy: 0.8556131260794473\n",
      "At round 123 training loss: 0.46193309912203917\n",
      "Group 2\n",
      "At round 123 accuracy: 0.8465753424657534\n",
      "At round 123 training accuracy: 0.8359350111500478\n",
      "At round 123 training loss: 0.4307479689828755\n",
      "Group 3\n",
      "At round 123 accuracy: 0.859344894026975\n",
      "At round 123 training accuracy: 0.8640409434801958\n",
      "At round 123 training loss: 0.4756728467586627\n",
      "Group 4\n",
      "At round 123 accuracy: 0.8354430379746836\n",
      "At round 123 training accuracy: 0.83552384528727\n",
      "At round 123 training loss: 0.5550469646731848\n",
      "At round 123 mean test accuracy: 0.8555093555093555 mean train accuracy: 0.8553072285488095\n",
      "The groups difference are: [20.42019285 20.49118579 20.62591908 21.0047915  20.35364921]\n",
      "Begin group  0 training\n"
     ]
    },
    {
     "name": "stderr",
     "output_type": "stream",
     "text": [
      "Epoch:  40%|██████████████████████████████▊                                              | 8/20 [00:00<00:00, 74.42it/s]"
     ]
    },
    {
     "name": "stdout",
     "output_type": "stream",
     "text": [
      "Begin group  1 training\n"
     ]
    },
    {
     "name": "stderr",
     "output_type": "stream",
     "text": [
      "Epoch:   0%|                                                                                     | 0/20 [00:00<?, ?it/s]"
     ]
    },
    {
     "name": "stdout",
     "output_type": "stream",
     "text": [
      "Begin group  2 training\n"
     ]
    },
    {
     "name": "stderr",
     "output_type": "stream",
     "text": [
      "Epoch:   0%|                                                                                     | 0/20 [00:00<?, ?it/s]"
     ]
    },
    {
     "name": "stdout",
     "output_type": "stream",
     "text": [
      "Begin group  3 training\n"
     ]
    },
    {
     "name": "stderr",
     "output_type": "stream",
     "text": [
      "                                                                                                                        \r"
     ]
    },
    {
     "name": "stdout",
     "output_type": "stream",
     "text": [
      "Begin group  4 training\n",
      "Group 0, clients ['f_00183', 'f_00184', 'f_00034']\n",
      "Group 1, clients ['f_00027', 'f_00108', 'f_00127']\n",
      "Group 2, clients ['f_00080', 'f_00100', 'f_00119', 'f_00110']\n",
      "Group 3, clients ['f_00152', 'f_00091', 'f_00151', 'f_00121']\n",
      "Group 4, clients ['f_00005', 'f_00186', 'f_00056', 'f_00016', 'f_00075', 'f_00086']\n"
     ]
    },
    {
     "name": "stderr",
     "output_type": "stream",
     "text": [
      "Epoch:   0%|                                                                                     | 0/20 [00:00<?, ?it/s]"
     ]
    },
    {
     "name": "stdout",
     "output_type": "stream",
     "text": [
      "Group 0\n",
      "At round 124 accuracy: 0.8429319371727748\n",
      "At round 124 training accuracy: 0.8390092879256966\n",
      "At round 124 training loss: 0.49190045164281\n",
      "Group 1\n",
      "At round 124 accuracy: 0.8304093567251462\n",
      "At round 124 training accuracy: 0.8\n",
      "At round 124 training loss: 0.5181352903342618\n",
      "Group 2\n",
      "At round 124 accuracy: 0.8465753424657534\n",
      "At round 124 training accuracy: 0.8276521185090793\n",
      "At round 124 training loss: 0.4695869566918407\n",
      "Group 3\n",
      "At round 124 accuracy: 0.8053949903660886\n",
      "At round 124 training accuracy: 0.8050734312416555\n",
      "At round 124 training loss: 0.5143502804160145\n",
      "Group 4\n",
      "At round 124 accuracy: 0.8354430379746836\n",
      "At round 124 training accuracy: 0.8358993616222306\n",
      "At round 124 training loss: 0.6415384692320732\n",
      "At round 124 mean test accuracy: 0.83004158004158 mean train accuracy: 0.8201692954144084\n",
      "The groups difference are: [20.45838882 20.5122078  20.63390323 21.01372954 20.37123405]\n",
      "Begin group  0 training\n"
     ]
    },
    {
     "name": "stderr",
     "output_type": "stream",
     "text": [
      "Epoch:  45%|██████████████████████████████████▋                                          | 9/20 [00:00<00:00, 85.15it/s]"
     ]
    },
    {
     "name": "stdout",
     "output_type": "stream",
     "text": [
      "Begin group  1 training\n"
     ]
    },
    {
     "name": "stderr",
     "output_type": "stream",
     "text": [
      "Epoch:  30%|███████████████████████                                                      | 6/20 [00:00<00:00, 57.31it/s]"
     ]
    },
    {
     "name": "stdout",
     "output_type": "stream",
     "text": [
      "Begin group  2 training\n"
     ]
    },
    {
     "name": "stderr",
     "output_type": "stream",
     "text": [
      "Epoch:  30%|███████████████████████                                                      | 6/20 [00:00<00:00, 52.52it/s]"
     ]
    },
    {
     "name": "stdout",
     "output_type": "stream",
     "text": [
      "Begin group  3 training\n"
     ]
    },
    {
     "name": "stderr",
     "output_type": "stream",
     "text": [
      "Epoch:  20%|███████████████▍                                                             | 4/20 [00:00<00:00, 37.49it/s]"
     ]
    },
    {
     "name": "stdout",
     "output_type": "stream",
     "text": [
      "Begin group  4 training\n"
     ]
    },
    {
     "name": "stderr",
     "output_type": "stream",
     "text": [
      "                                                                                                                        \r"
     ]
    },
    {
     "name": "stdout",
     "output_type": "stream",
     "text": [
      "Group 0, clients ['f_00123', 'f_00193', 'f_00074', 'f_00053']\n",
      "Group 1, clients ['f_00057', 'f_00138', 'f_00098']\n",
      "Group 2, clients ['f_00109', 'f_00149', 'f_00090', 'f_00150', 'f_00079']\n",
      "Group 3, clients ['f_00101', 'f_00011', 'f_00071', 'f_00002', 'f_00001', 'f_00052']\n",
      "Group 4, clients ['f_00135', 'f_00046']\n"
     ]
    },
    {
     "name": "stderr",
     "output_type": "stream",
     "text": [
      "Epoch:  20%|███████████████▍                                                             | 4/20 [00:00<00:00, 34.41it/s]"
     ]
    },
    {
     "name": "stdout",
     "output_type": "stream",
     "text": [
      "Group 0\n",
      "At round 125 accuracy: 0.8979057591623036\n",
      "At round 125 training accuracy: 0.8972136222910216\n",
      "At round 125 training loss: 0.2812489240162144\n",
      "Group 1\n",
      "At round 125 accuracy: 0.8128654970760234\n",
      "At round 125 training accuracy: 0.7737478411053541\n",
      "At round 125 training loss: 0.6022079409712955\n",
      "Group 2\n",
      "At round 125 accuracy: 0.8410958904109589\n",
      "At round 125 training accuracy: 0.8413507486460656\n",
      "At round 125 training loss: 0.4555396957547849\n",
      "Group 3\n",
      "At round 125 accuracy: 0.8034682080924855\n",
      "At round 125 training accuracy: 0.8030707610146862\n",
      "At round 125 training loss: 0.5340941920196766\n",
      "Group 4\n",
      "At round 125 accuracy: 0.8291139240506329\n",
      "At round 125 training accuracy: 0.8235073225685318\n",
      "At round 125 training loss: 0.4540253523940034\n",
      "At round 125 mean test accuracy: 0.8352390852390852 mean train accuracy: 0.8270507277266914\n",
      "The groups difference are: [20.46322566 20.52834135 20.64827187 21.02322543 20.3936654 ]\n",
      "Begin group  0 training\n"
     ]
    },
    {
     "name": "stderr",
     "output_type": "stream",
     "text": [
      "Epoch:   0%|                                                                                     | 0/20 [00:00<?, ?it/s]"
     ]
    },
    {
     "name": "stdout",
     "output_type": "stream",
     "text": [
      "Begin group  1 training\n"
     ]
    },
    {
     "name": "stderr",
     "output_type": "stream",
     "text": [
      "Epoch:   0%|                                                                                     | 0/20 [00:00<?, ?it/s]"
     ]
    },
    {
     "name": "stdout",
     "output_type": "stream",
     "text": [
      "Begin group  2 training\n"
     ]
    },
    {
     "name": "stderr",
     "output_type": "stream",
     "text": [
      "Epoch:  90%|███████████████████████████████████████████████████████████████████▌       | 18/20 [00:00<00:00, 174.36it/s]"
     ]
    },
    {
     "name": "stdout",
     "output_type": "stream",
     "text": [
      "Begin group  3 training\n"
     ]
    },
    {
     "name": "stderr",
     "output_type": "stream",
     "text": [
      "Epoch:  40%|██████████████████████████████▊                                              | 8/20 [00:00<00:00, 72.86it/s]"
     ]
    },
    {
     "name": "stdout",
     "output_type": "stream",
     "text": [
      "Begin group  4 training\n"
     ]
    },
    {
     "name": "stderr",
     "output_type": "stream",
     "text": [
      "                                                                                                                        \r"
     ]
    },
    {
     "name": "stdout",
     "output_type": "stream",
     "text": [
      "Group 0, clients ['f_00074', 'f_00113', 'f_00134', 'f_00103']\n",
      "Group 1 is empty.\n",
      "Group 2, clients ['f_00199', 'f_00079', 'f_00119', 'f_00159']\n",
      "Group 3, clients ['f_00171', 'f_00121', 'f_00002', 'f_00051', 'f_00142']\n",
      "Group 4, clients ['f_00055', 'f_00046', 'f_00036', 'f_00096', 'f_00076', 'f_00195', 'f_00166']\n"
     ]
    },
    {
     "name": "stderr",
     "output_type": "stream",
     "text": [
      "Epoch:   0%|                                                                                     | 0/20 [00:00<?, ?it/s]"
     ]
    },
    {
     "name": "stdout",
     "output_type": "stream",
     "text": [
      "Group 0\n",
      "At round 126 accuracy: 0.8219895287958116\n",
      "At round 126 training accuracy: 0.8222910216718267\n",
      "At round 126 training loss: 0.5806426087238655\n",
      "Group 1\n",
      "At round 126 accuracy: 0.7426900584795322\n",
      "At round 126 training accuracy: 0.7402417962003455\n",
      "At round 126 training loss: 1.0023638554444996\n",
      "Group 2\n",
      "At round 126 accuracy: 0.8465753424657534\n",
      "At round 126 training accuracy: 0.8464479133482\n",
      "At round 126 training loss: 0.40343591652979094\n",
      "Group 3\n",
      "At round 126 accuracy: 0.8554913294797688\n",
      "At round 126 training accuracy: 0.8707165109034268\n",
      "At round 126 training loss: 0.3231039413437081\n",
      "Group 4\n",
      "At round 126 accuracy: 0.8291139240506329\n",
      "At round 126 training accuracy: 0.8291400675929403\n",
      "At round 126 training loss: 0.4679063422436827\n",
      "At round 126 mean test accuracy: 0.8227650727650727 mean train accuracy: 0.8268071372023629\n",
      "The groups difference are: [20.52864919 20.59355885 20.69727569 21.06510488 20.45545945]\n",
      "Begin group  0 training\n"
     ]
    },
    {
     "name": "stderr",
     "output_type": "stream",
     "text": [
      "Epoch:  35%|██████████████████████████▉                                                  | 7/20 [00:00<00:00, 67.34it/s]"
     ]
    },
    {
     "name": "stdout",
     "output_type": "stream",
     "text": [
      "Begin group  2 training\n"
     ]
    },
    {
     "name": "stderr",
     "output_type": "stream",
     "text": [
      "Epoch:   0%|                                                                                     | 0/20 [00:00<?, ?it/s]"
     ]
    },
    {
     "name": "stdout",
     "output_type": "stream",
     "text": [
      "Begin group  3 training\n"
     ]
    },
    {
     "name": "stderr",
     "output_type": "stream",
     "text": [
      "Epoch:   0%|                                                                                     | 0/20 [00:00<?, ?it/s]"
     ]
    },
    {
     "name": "stdout",
     "output_type": "stream",
     "text": [
      "Begin group  4 training\n"
     ]
    },
    {
     "name": "stderr",
     "output_type": "stream",
     "text": [
      "                                                                                                                        \r"
     ]
    },
    {
     "name": "stdout",
     "output_type": "stream",
     "text": [
      "Group 0, clients ['f_00134', 'f_00163']\n",
      "Group 1, clients ['f_00176', 'f_00168', 'f_00147', 'f_00028', 'f_00158', 'f_00138', 'f_00058']\n",
      "Group 2, clients ['f_00129', 'f_00159', 'f_00120', 'f_00000', 'f_00010']\n",
      "Group 3, clients ['f_00061', 'f_00022']\n",
      "Group 4, clients ['f_00045', 'f_00026', 'f_00075', 'f_00186']\n"
     ]
    },
    {
     "name": "stderr",
     "output_type": "stream",
     "text": [
      "Epoch:   0%|                                                                                     | 0/20 [00:00<?, ?it/s]"
     ]
    },
    {
     "name": "stdout",
     "output_type": "stream",
     "text": [
      "Group 0\n",
      "At round 127 accuracy: 0.8979057591623036\n",
      "At round 127 training accuracy: 0.9176470588235294\n",
      "At round 127 training loss: 0.2535489904160839\n",
      "Group 1\n",
      "At round 127 accuracy: 0.7426900584795322\n",
      "At round 127 training accuracy: 0.7402417962003455\n",
      "At round 127 training loss: 0.9992129644375802\n",
      "Group 2\n",
      "At round 127 accuracy: 0.7589041095890411\n",
      "At round 127 training accuracy: 0.7703090156100669\n",
      "At round 127 training loss: 0.8575365057143295\n",
      "Group 3\n",
      "At round 127 accuracy: 0.8131021194605009\n",
      "At round 127 training accuracy: 0.8130841121495327\n",
      "At round 127 training loss: 0.4593157150584112\n",
      "Group 4\n",
      "At round 127 accuracy: 0.7848101265822784\n",
      "At round 127 training accuracy: 0.8028539241457003\n",
      "At round 127 training loss: 0.5345361965337374\n",
      "At round 127 mean test accuracy: 0.8024948024948025 mean train accuracy: 0.8109737531210036\n",
      "The groups difference are: [20.50127487 20.54641948 20.67451116 21.0408927  20.43543134]\n",
      "Begin group  0 training\n"
     ]
    },
    {
     "name": "stderr",
     "output_type": "stream",
     "text": [
      "Epoch:   0%|                                                                                     | 0/20 [00:00<?, ?it/s]"
     ]
    },
    {
     "name": "stdout",
     "output_type": "stream",
     "text": [
      "Begin group  1 training\n"
     ]
    },
    {
     "name": "stderr",
     "output_type": "stream",
     "text": [
      "Epoch:   0%|                                                                                     | 0/20 [00:00<?, ?it/s]"
     ]
    },
    {
     "name": "stdout",
     "output_type": "stream",
     "text": [
      "Begin group  2 training\n"
     ]
    },
    {
     "name": "stderr",
     "output_type": "stream",
     "text": [
      "Epoch:   0%|                                                                                     | 0/20 [00:00<?, ?it/s]"
     ]
    },
    {
     "name": "stdout",
     "output_type": "stream",
     "text": [
      "Begin group  3 training\n",
      "Begin group  4 training\n"
     ]
    },
    {
     "name": "stderr",
     "output_type": "stream",
     "text": [
      "                                                                                                                        \r"
     ]
    },
    {
     "name": "stdout",
     "output_type": "stream",
     "text": [
      "Group 0, clients ['f_00043', 'f_00073']\n",
      "Group 1, clients ['f_00037', 'f_00059', 'f_00118', 'f_00187']\n",
      "Group 2, clients ['f_00109', 'f_00090', 'f_00159']\n",
      "Group 3, clients ['f_00151', 'f_00192', 'f_00122', 'f_00021']\n",
      "Group 4, clients ['f_00146', 'f_00076', 'f_00116', 'f_00136', 'f_00165', 'f_00106', 'f_00155']\n"
     ]
    },
    {
     "name": "stderr",
     "output_type": "stream",
     "text": [
      "Epoch:  20%|███████████████▍                                                             | 4/20 [00:00<00:00, 35.51it/s]"
     ]
    },
    {
     "name": "stdout",
     "output_type": "stream",
     "text": [
      "Group 0\n",
      "At round 128 accuracy: 0.900523560209424\n",
      "At round 128 training accuracy: 0.9179566563467493\n",
      "At round 128 training loss: 0.26924264435151785\n",
      "Group 1\n",
      "At round 128 accuracy: 0.7573099415204678\n",
      "At round 128 training accuracy: 0.738860103626943\n",
      "At round 128 training loss: 0.8429761543329516\n",
      "Group 2\n",
      "At round 128 accuracy: 0.8602739726027397\n",
      "At round 128 training accuracy: 0.8496336412870341\n",
      "At round 128 training loss: 0.39646774218526\n",
      "Group 3\n",
      "At round 128 accuracy: 0.8901734104046243\n",
      "At round 128 training accuracy: 0.894971072541166\n",
      "At round 128 training loss: 0.2806608890215184\n",
      "Group 4\n",
      "At round 128 accuracy: 0.879746835443038\n",
      "At round 128 training accuracy: 0.883589936162223\n",
      "At round 128 training loss: 0.3482644126641764\n",
      "At round 128 mean test accuracy: 0.8612266112266113 mean train accuracy: 0.8614578892881067\n",
      "The groups difference are: [20.46071051 20.51031739 20.6467143  20.99228041 20.40264068]\n",
      "Begin group  0 training\n"
     ]
    },
    {
     "name": "stderr",
     "output_type": "stream",
     "text": [
      "Epoch:  35%|██████████████████████████▉                                                  | 7/20 [00:00<00:00, 64.50it/s]"
     ]
    },
    {
     "name": "stdout",
     "output_type": "stream",
     "text": [
      "Begin group  1 training\n"
     ]
    },
    {
     "name": "stderr",
     "output_type": "stream",
     "text": [
      "Epoch:  35%|██████████████████████████▉                                                  | 7/20 [00:00<00:00, 67.09it/s]"
     ]
    },
    {
     "name": "stdout",
     "output_type": "stream",
     "text": [
      "Begin group  2 training\n"
     ]
    },
    {
     "name": "stderr",
     "output_type": "stream",
     "text": [
      "Epoch:   0%|                                                                                     | 0/20 [00:00<?, ?it/s]"
     ]
    },
    {
     "name": "stdout",
     "output_type": "stream",
     "text": [
      "Begin group  3 training\n"
     ]
    },
    {
     "name": "stderr",
     "output_type": "stream",
     "text": [
      "Epoch:  20%|███████████████▍                                                             | 4/20 [00:00<00:00, 39.25it/s]"
     ]
    },
    {
     "name": "stdout",
     "output_type": "stream",
     "text": [
      "Begin group  4 training\n"
     ]
    },
    {
     "name": "stderr",
     "output_type": "stream",
     "text": [
      "                                                                                                                        \r"
     ]
    },
    {
     "name": "stdout",
     "output_type": "stream",
     "text": [
      "Group 0, clients ['f_00004', 'f_00193', 'f_00094', 'f_00043']\n",
      "Group 1, clients ['f_00088', 'f_00138', 'f_00107', 'f_00068']\n",
      "Group 2, clients ['f_00010', 'f_00100']\n",
      "Group 3, clients ['f_00112', 'f_00132', 'f_00022', 'f_00162', 'f_00191', 'f_00041', 'f_00151']\n",
      "Group 4, clients ['f_00115', 'f_00055', 'f_00026']\n"
     ]
    },
    {
     "name": "stderr",
     "output_type": "stream",
     "text": [
      "Epoch:   0%|                                                                                     | 0/20 [00:00<?, ?it/s]"
     ]
    },
    {
     "name": "stdout",
     "output_type": "stream",
     "text": [
      "Group 0\n",
      "At round 129 accuracy: 0.8219895287958116\n",
      "At round 129 training accuracy: 0.8275541795665635\n",
      "At round 129 training loss: 0.6232893592340658\n",
      "Group 1\n",
      "At round 129 accuracy: 0.7894736842105263\n",
      "At round 129 training accuracy: 0.7678756476683938\n",
      "At round 129 training loss: 0.6213890573572824\n",
      "Group 2\n",
      "At round 129 accuracy: 0.8794520547945206\n",
      "At round 129 training accuracy: 0.8700223000955718\n",
      "At round 129 training loss: 0.36437575626369495\n",
      "Group 3\n",
      "At round 129 accuracy: 0.8709055876685935\n",
      "At round 129 training accuracy: 0.8724966622162884\n",
      "At round 129 training loss: 0.3667037548770043\n",
      "Group 4\n",
      "At round 129 accuracy: 0.7816455696202531\n",
      "At round 129 training accuracy: 0.8017273751408186\n",
      "At round 129 training loss: 0.5336686392929202\n",
      "At round 129 mean test accuracy: 0.8336798336798337 mean train accuracy: 0.8332622860970709\n",
      "The groups difference are: [20.51528054 20.55592145 20.69037156 21.02204921 20.45195528]\n",
      "Begin group  0 training\n"
     ]
    },
    {
     "name": "stderr",
     "output_type": "stream",
     "text": [
      "Epoch:   0%|                                                                                     | 0/20 [00:00<?, ?it/s]"
     ]
    },
    {
     "name": "stdout",
     "output_type": "stream",
     "text": [
      "Begin group  1 training\n"
     ]
    },
    {
     "name": "stderr",
     "output_type": "stream",
     "text": [
      "Epoch:  25%|███████████████████▎                                                         | 5/20 [00:00<00:00, 47.58it/s]"
     ]
    },
    {
     "name": "stdout",
     "output_type": "stream",
     "text": [
      "Begin group  2 training\n"
     ]
    },
    {
     "name": "stderr",
     "output_type": "stream",
     "text": [
      "Epoch:   0%|                                                                                     | 0/20 [00:00<?, ?it/s]"
     ]
    },
    {
     "name": "stdout",
     "output_type": "stream",
     "text": [
      "Begin group  3 training\n"
     ]
    },
    {
     "name": "stderr",
     "output_type": "stream",
     "text": [
      "Epoch:   0%|                                                                                     | 0/20 [00:00<?, ?it/s]"
     ]
    },
    {
     "name": "stdout",
     "output_type": "stream",
     "text": [
      "Begin group  4 training\n"
     ]
    },
    {
     "name": "stderr",
     "output_type": "stream",
     "text": [
      "                                                                                                                        \r"
     ]
    },
    {
     "name": "stdout",
     "output_type": "stream",
     "text": [
      "Group 0, clients ['f_00113', 'f_00174', 'f_00123', 'f_00134']\n",
      "Group 1, clients ['f_00018', 'f_00158', 'f_00138', 'f_00047', 'f_00127', 'f_00007', 'f_00176']\n",
      "Group 2, clients ['f_00009', 'f_00030', 'f_00140']\n",
      "Group 3, clients ['f_00041', 'f_00132', 'f_00042', 'f_00131']\n",
      "Group 4, clients ['f_00166', 'f_00175']\n"
     ]
    },
    {
     "name": "stderr",
     "output_type": "stream",
     "text": [
      "Epoch:   0%|                                                                                     | 0/20 [00:00<?, ?it/s]"
     ]
    },
    {
     "name": "stdout",
     "output_type": "stream",
     "text": [
      "Group 0\n",
      "At round 130 accuracy: 0.8664921465968587\n",
      "At round 130 training accuracy: 0.8835913312693499\n",
      "At round 130 training loss: 0.30498705945516885\n",
      "Group 1\n",
      "At round 130 accuracy: 0.8099415204678363\n",
      "At round 130 training accuracy: 0.7785837651122626\n",
      "At round 130 training loss: 0.5788249635274341\n",
      "Group 2\n",
      "At round 130 accuracy: 0.8410958904109589\n",
      "At round 130 training accuracy: 0.843262185409366\n",
      "At round 130 training loss: 0.5935990580895517\n",
      "Group 3\n",
      "At round 130 accuracy: 0.8497109826589595\n",
      "At round 130 training accuracy: 0.8662661326212728\n",
      "At round 130 training loss: 0.33095197294704853\n",
      "Group 4\n",
      "At round 130 accuracy: 0.8544303797468354\n",
      "At round 130 training accuracy: 0.8865940668419077\n",
      "At round 130 training loss: 0.3436859152005259\n",
      "At round 130 mean test accuracy: 0.8451143451143451 mean train accuracy: 0.853114913829852\n",
      "The groups difference are: [20.49570479 20.54267437 20.68577783 20.99216065 20.42853777]\n",
      "Begin group  0 training\n"
     ]
    },
    {
     "name": "stderr",
     "output_type": "stream",
     "text": [
      "Epoch:  55%|█████████████████████████████████████████▎                                 | 11/20 [00:00<00:00, 109.20it/s]"
     ]
    },
    {
     "name": "stdout",
     "output_type": "stream",
     "text": [
      "Begin group  1 training\n"
     ]
    },
    {
     "name": "stderr",
     "output_type": "stream",
     "text": [
      "Epoch:   0%|                                                                                     | 0/20 [00:00<?, ?it/s]"
     ]
    },
    {
     "name": "stdout",
     "output_type": "stream",
     "text": [
      "Begin group  2 training\n"
     ]
    },
    {
     "name": "stderr",
     "output_type": "stream",
     "text": [
      "Epoch:   0%|                                                                                     | 0/20 [00:00<?, ?it/s]"
     ]
    },
    {
     "name": "stdout",
     "output_type": "stream",
     "text": [
      "Begin group  3 training\n"
     ]
    },
    {
     "name": "stderr",
     "output_type": "stream",
     "text": [
      "                                                                                                                        \r"
     ]
    },
    {
     "name": "stdout",
     "output_type": "stream",
     "text": [
      "Begin group  4 training\n",
      "Group 0, clients ['f_00023', 'f_00104', 'f_00163', 'f_00094', 'f_00074', 'f_00034', 'f_00044']\n",
      "Group 1, clients ['f_00188', 'f_00147', 'f_00108', 'f_00098', 'f_00038']\n",
      "Group 2, clients ['f_00190']\n",
      "Group 3, clients ['f_00161', 'f_00111']\n",
      "Group 4, clients ['f_00186', 'f_00116', 'f_00036', 'f_00125', 'f_00185']\n"
     ]
    },
    {
     "name": "stderr",
     "output_type": "stream",
     "text": [
      "Epoch:  35%|██████████████████████████▉                                                  | 7/20 [00:00<00:00, 64.01it/s]"
     ]
    },
    {
     "name": "stdout",
     "output_type": "stream",
     "text": [
      "Group 0\n",
      "At round 131 accuracy: 0.837696335078534\n",
      "At round 131 training accuracy: 0.8448916408668731\n",
      "At round 131 training loss: 0.40377142052209414\n",
      "Group 1\n",
      "At round 131 accuracy: 0.8421052631578947\n",
      "At round 131 training accuracy: 0.8276338514680484\n",
      "At round 131 training loss: 0.4755591283241908\n",
      "Group 2\n",
      "At round 131 accuracy: 0.8383561643835616\n",
      "At round 131 training accuracy: 0.8435807582032494\n",
      "At round 131 training loss: 0.42785623896773284\n",
      "Group 3\n",
      "At round 131 accuracy: 0.8901734104046243\n",
      "At round 131 training accuracy: 0.8954161103693814\n",
      "At round 131 training loss: 0.27087426601408005\n",
      "Group 4\n",
      "At round 131 accuracy: 0.9208860759493671\n",
      "At round 131 training accuracy: 0.9459256477656778\n",
      "At round 131 training loss: 0.23904357573008386\n",
      "At round 131 mean test accuracy: 0.8664241164241164 mean train accuracy: 0.8718104865720724\n",
      "The groups difference are: [20.4678415  20.5026757  20.64397295 20.9419244  20.38584443]\n",
      "Begin group  0 training\n"
     ]
    },
    {
     "name": "stderr",
     "output_type": "stream",
     "text": [
      "Epoch:   0%|                                                                                     | 0/20 [00:00<?, ?it/s]"
     ]
    },
    {
     "name": "stdout",
     "output_type": "stream",
     "text": [
      "Begin group  1 training\n"
     ]
    },
    {
     "name": "stderr",
     "output_type": "stream",
     "text": [
      "                                                                                                                        "
     ]
    },
    {
     "name": "stdout",
     "output_type": "stream",
     "text": [
      "Begin group  2 training\n"
     ]
    },
    {
     "name": "stderr",
     "output_type": "stream",
     "text": [
      "Epoch:   0%|                                                                                     | 0/20 [00:00<?, ?it/s]"
     ]
    },
    {
     "name": "stdout",
     "output_type": "stream",
     "text": [
      "Begin group  3 training\n",
      "Begin group  4 training\n"
     ]
    },
    {
     "name": "stderr",
     "output_type": "stream",
     "text": [
      "                                                                                                                        \r"
     ]
    },
    {
     "name": "stdout",
     "output_type": "stream",
     "text": [
      "Group 0, clients ['f_00073', 'f_00114', 'f_00133', 'f_00144']\n",
      "Group 1, clients ['f_00007', 'f_00157', 'f_00187', 'f_00077', 'f_00027']\n",
      "Group 2, clients ['f_00159', 'f_00060']\n",
      "Group 3, clients ['f_00131', 'f_00121', 'f_00192']\n",
      "Group 4, clients ['f_00026', 'f_00136', 'f_00166', 'f_00116', 'f_00126', 'f_00156']\n"
     ]
    },
    {
     "name": "stderr",
     "output_type": "stream",
     "text": [
      "Epoch:  20%|███████████████▍                                                             | 4/20 [00:00<00:00, 35.96it/s]"
     ]
    },
    {
     "name": "stdout",
     "output_type": "stream",
     "text": [
      "Group 0\n",
      "At round 132 accuracy: 0.9057591623036649\n",
      "At round 132 training accuracy: 0.9340557275541795\n",
      "At round 132 training loss: 0.2528908179824935\n",
      "Group 1\n",
      "At round 132 accuracy: 0.7426900584795322\n",
      "At round 132 training accuracy: 0.738860103626943\n",
      "At round 132 training loss: 0.9716416308556608\n",
      "Group 2\n",
      "At round 132 accuracy: 0.8465753424657534\n",
      "At round 132 training accuracy: 0.8515450780503345\n",
      "At round 132 training loss: 0.5211376530035509\n",
      "Group 3\n",
      "At round 132 accuracy: 0.7842003853564548\n",
      "At round 132 training accuracy: 0.784824210057855\n",
      "At round 132 training loss: 0.6015195152861148\n",
      "Group 4\n",
      "At round 132 accuracy: 0.9082278481012658\n",
      "At round 132 training accuracy: 0.917761922643635\n",
      "At round 132 training loss: 0.2796647806382251\n",
      "At round 132 mean test accuracy: 0.8331600831600832 mean train accuracy: 0.8403873089336825\n",
      "The groups difference are: [20.45416798 20.50305294 20.62352369 20.91704924 20.37097767]\n",
      "Begin group  0 training\n"
     ]
    },
    {
     "name": "stderr",
     "output_type": "stream",
     "text": [
      "Epoch:   0%|                                                                                     | 0/20 [00:00<?, ?it/s]"
     ]
    },
    {
     "name": "stdout",
     "output_type": "stream",
     "text": [
      "Begin group  1 training\n"
     ]
    },
    {
     "name": "stderr",
     "output_type": "stream",
     "text": [
      "Epoch:   0%|                                                                                     | 0/20 [00:00<?, ?it/s]"
     ]
    },
    {
     "name": "stdout",
     "output_type": "stream",
     "text": [
      "Begin group  2 training\n"
     ]
    },
    {
     "name": "stderr",
     "output_type": "stream",
     "text": [
      "Epoch:  25%|███████████████████▎                                                         | 5/20 [00:00<00:00, 46.10it/s]"
     ]
    },
    {
     "name": "stdout",
     "output_type": "stream",
     "text": [
      "Begin group  3 training\n"
     ]
    },
    {
     "name": "stderr",
     "output_type": "stream",
     "text": [
      "Epoch:  50%|██████████████████████████████████████                                      | 10/20 [00:00<00:00, 96.04it/s]"
     ]
    },
    {
     "name": "stdout",
     "output_type": "stream",
     "text": [
      "Begin group  4 training\n"
     ]
    },
    {
     "name": "stderr",
     "output_type": "stream",
     "text": [
      "                                                                                                                        \r"
     ]
    },
    {
     "name": "stdout",
     "output_type": "stream",
     "text": [
      "Group 0, clients ['f_00043', 'f_00124', 'f_00133', 'f_00143', 'f_00194', 'f_00044', 'f_00103', 'f_00114', 'f_00003']\n",
      "Group 1, clients ['f_00018', 'f_00187', 'f_00169', 'f_00057']\n",
      "Group 2, clients ['f_00130', 'f_00129', 'f_00139', 'f_00029', 'f_00039']\n",
      "Group 3 is empty.\n",
      "Group 4, clients ['f_00126', 'f_00146']\n"
     ]
    },
    {
     "name": "stderr",
     "output_type": "stream",
     "text": [
      "Epoch:  35%|██████████████████████████▉                                                  | 7/20 [00:00<00:00, 61.79it/s]"
     ]
    },
    {
     "name": "stdout",
     "output_type": "stream",
     "text": [
      "Group 0\n",
      "At round 133 accuracy: 0.8429319371727748\n",
      "At round 133 training accuracy: 0.8417956656346749\n",
      "At round 133 training loss: 0.45754329278696065\n",
      "Group 1\n",
      "At round 133 accuracy: 0.7573099415204678\n",
      "At round 133 training accuracy: 0.7799654576856649\n",
      "At round 133 training loss: 0.6415799241712468\n",
      "Group 2\n",
      "At round 133 accuracy: 0.8410958904109589\n",
      "At round 133 training accuracy: 0.8196877986619943\n",
      "At round 133 training loss: 0.46405349796689516\n",
      "Group 3\n",
      "At round 133 accuracy: 0.7302504816955684\n",
      "At round 133 training accuracy: 0.7389853137516689\n",
      "At round 133 training loss: 0.818187764830453\n",
      "Group 4\n",
      "At round 133 accuracy: 0.8006329113924051\n",
      "At round 133 training accuracy: 0.79609463011641\n",
      "At round 133 training loss: 0.5574155937512365\n",
      "At round 133 mean test accuracy: 0.7900207900207901 mean train accuracy: 0.7911211253882224\n",
      "The groups difference are: [20.47213937 20.4967464  20.62008142 20.91864065 20.37471301]\n",
      "Begin group  0 training\n"
     ]
    },
    {
     "name": "stderr",
     "output_type": "stream",
     "text": [
      "Epoch:   0%|                                                                                     | 0/20 [00:00<?, ?it/s]"
     ]
    },
    {
     "name": "stdout",
     "output_type": "stream",
     "text": [
      "Begin group  1 training\n"
     ]
    },
    {
     "name": "stderr",
     "output_type": "stream",
     "text": [
      "Epoch:   0%|                                                                                     | 0/20 [00:00<?, ?it/s]"
     ]
    },
    {
     "name": "stdout",
     "output_type": "stream",
     "text": [
      "Begin group  2 training\n"
     ]
    },
    {
     "name": "stderr",
     "output_type": "stream",
     "text": [
      "                                                                                                                        \r"
     ]
    },
    {
     "name": "stdout",
     "output_type": "stream",
     "text": [
      "Begin group  4 training\n",
      "Group 0, clients ['f_00173', 'f_00084', 'f_00013']\n",
      "Group 1, clients ['f_00008', 'f_00068', 'f_00127', 'f_00097']\n",
      "Group 2, clients ['f_00069', 'f_00199']\n",
      "Group 3, clients ['f_00122', 'f_00012', 'f_00191', 'f_00081', 'f_00112']\n",
      "Group 4, clients ['f_00195', 'f_00196', 'f_00136', 'f_00016', 'f_00175', 'f_00085']\n"
     ]
    },
    {
     "name": "stderr",
     "output_type": "stream",
     "text": [
      "Epoch:   0%|                                                                                     | 0/20 [00:00<?, ?it/s]"
     ]
    },
    {
     "name": "stdout",
     "output_type": "stream",
     "text": [
      "Group 0\n",
      "At round 134 accuracy: 0.8952879581151832\n",
      "At round 134 training accuracy: 0.8959752321981425\n",
      "At round 134 training loss: 0.2972380759546262\n",
      "Group 1\n",
      "At round 134 accuracy: 0.827485380116959\n",
      "At round 134 training accuracy: 0.8307426597582038\n",
      "At round 134 training loss: 0.4845017021595917\n",
      "Group 2\n",
      "At round 134 accuracy: 0.7808219178082192\n",
      "At round 134 training accuracy: 0.7881490920675375\n",
      "At round 134 training loss: 0.5791725724788371\n",
      "Group 3\n",
      "At round 134 accuracy: 0.7302504816955684\n",
      "At round 134 training accuracy: 0.7387627948375612\n",
      "At round 134 training loss: 0.8158378088154632\n",
      "Group 4\n",
      "At round 134 accuracy: 0.7911392405063291\n",
      "At round 134 training accuracy: 0.7904618850920015\n",
      "At round 134 training loss: 0.5899362390594424\n",
      "At round 134 mean test accuracy: 0.7998960498960499 mean train accuracy: 0.8037269350222276\n",
      "The groups difference are: [20.40823074 20.41874894 20.54740852 20.83978564 20.29973533]\n",
      "Begin group  0 training\n"
     ]
    },
    {
     "name": "stderr",
     "output_type": "stream",
     "text": [
      "Epoch:  45%|██████████████████████████████████▋                                          | 9/20 [00:00<00:00, 83.81it/s]"
     ]
    },
    {
     "name": "stdout",
     "output_type": "stream",
     "text": [
      "Begin group  1 training\n"
     ]
    },
    {
     "name": "stderr",
     "output_type": "stream",
     "text": [
      "Epoch:   0%|                                                                                     | 0/20 [00:00<?, ?it/s]"
     ]
    },
    {
     "name": "stdout",
     "output_type": "stream",
     "text": [
      "Begin group  2 training\n"
     ]
    },
    {
     "name": "stderr",
     "output_type": "stream",
     "text": [
      "Epoch:  25%|███████████████████▎                                                         | 5/20 [00:00<00:00, 45.93it/s]"
     ]
    },
    {
     "name": "stdout",
     "output_type": "stream",
     "text": [
      "Begin group  3 training\n"
     ]
    },
    {
     "name": "stderr",
     "output_type": "stream",
     "text": [
      "Epoch:   0%|                                                                                     | 0/20 [00:00<?, ?it/s]"
     ]
    },
    {
     "name": "stdout",
     "output_type": "stream",
     "text": [
      "Begin group  4 training\n"
     ]
    },
    {
     "name": "stderr",
     "output_type": "stream",
     "text": [
      "                                                                                                                        \r"
     ]
    },
    {
     "name": "stdout",
     "output_type": "stream",
     "text": [
      "Group 0, clients ['f_00143', 'f_00154', 'f_00193', 'f_00114']\n",
      "Group 1, clients ['f_00158', 'f_00078', 'f_00077', 'f_00108', 'f_00058']\n",
      "Group 2, clients ['f_00030', 'f_00060', 'f_00189', 'f_00039']\n",
      "Group 3, clients ['f_00142', 'f_00161', 'f_00192', 'f_00122']\n",
      "Group 4, clients ['f_00065', 'f_00115', 'f_00026']\n"
     ]
    },
    {
     "name": "stderr",
     "output_type": "stream",
     "text": [
      "Epoch:   0%|                                                                                     | 0/20 [00:00<?, ?it/s]"
     ]
    },
    {
     "name": "stdout",
     "output_type": "stream",
     "text": [
      "Group 0\n",
      "At round 135 accuracy: 0.8795811518324608\n",
      "At round 135 training accuracy: 0.8953560371517028\n",
      "At round 135 training loss: 0.2820398918338604\n",
      "Group 1\n",
      "At round 135 accuracy: 0.8157894736842105\n",
      "At round 135 training accuracy: 0.7775474956822107\n",
      "At round 135 training loss: 0.5878689306284686\n",
      "Group 2\n",
      "At round 135 accuracy: 0.7561643835616438\n",
      "At round 135 training accuracy: 0.7642561325262822\n",
      "At round 135 training loss: 0.9402730223212739\n",
      "Group 3\n",
      "At round 135 accuracy: 0.8805394990366089\n",
      "At round 135 training accuracy: 0.8874054294615042\n",
      "At round 135 training loss: 0.3071771404334159\n",
      "Group 4\n",
      "At round 135 accuracy: 0.8417721518987342\n",
      "At round 135 training accuracy: 0.8633120540743522\n",
      "At round 135 training loss: 0.3579893395601248\n",
      "At round 135 mean test accuracy: 0.8388773388773388 mean train accuracy: 0.8421533402350648\n",
      "The groups difference are: [20.38966729 20.41065475 20.54735291 20.82549135 20.29404544]\n",
      "Begin group  0 training\n"
     ]
    },
    {
     "name": "stderr",
     "output_type": "stream",
     "text": [
      "Epoch:   0%|                                                                                     | 0/20 [00:00<?, ?it/s]"
     ]
    },
    {
     "name": "stdout",
     "output_type": "stream",
     "text": [
      "Begin group  1 training\n"
     ]
    },
    {
     "name": "stderr",
     "output_type": "stream",
     "text": [
      "Epoch:   0%|                                                                                     | 0/20 [00:00<?, ?it/s]"
     ]
    },
    {
     "name": "stdout",
     "output_type": "stream",
     "text": [
      "Begin group  2 training\n"
     ]
    },
    {
     "name": "stderr",
     "output_type": "stream",
     "text": [
      "Epoch:   0%|                                                                                     | 0/20 [00:00<?, ?it/s]"
     ]
    },
    {
     "name": "stdout",
     "output_type": "stream",
     "text": [
      "Begin group  3 training\n"
     ]
    },
    {
     "name": "stderr",
     "output_type": "stream",
     "text": [
      "Epoch:   0%|                                                                                     | 0/20 [00:00<?, ?it/s]"
     ]
    },
    {
     "name": "stdout",
     "output_type": "stream",
     "text": [
      "Begin group  4 training\n"
     ]
    },
    {
     "name": "stderr",
     "output_type": "stream",
     "text": [
      "                                                                                                                        \r"
     ]
    },
    {
     "name": "stdout",
     "output_type": "stream",
     "text": [
      "Group 0, clients ['f_00064', 'f_00163', 'f_00053', 'f_00084', 'f_00003', 'f_00144', 'f_00094']\n",
      "Group 1, clients ['f_00038', 'f_00059', 'f_00078', 'f_00068']\n",
      "Group 2, clients ['f_00049', 'f_00000', 'f_00150']\n",
      "Group 3, clients ['f_00081', 'f_00181', 'f_00042', 'f_00062']\n",
      "Group 4, clients ['f_00086', 'f_00115']\n"
     ]
    },
    {
     "name": "stderr",
     "output_type": "stream",
     "text": [
      "Epoch:   0%|                                                                                     | 0/20 [00:00<?, ?it/s]"
     ]
    },
    {
     "name": "stdout",
     "output_type": "stream",
     "text": [
      "Group 0\n",
      "At round 136 accuracy: 0.900523560209424\n",
      "At round 136 training accuracy: 0.9012383900928792\n",
      "At round 136 training loss: 0.2830598949740177\n",
      "Group 1\n",
      "At round 136 accuracy: 0.7690058479532164\n",
      "At round 136 training accuracy: 0.7474956822107082\n",
      "At round 136 training loss: 0.6830955528173216\n",
      "Group 2\n",
      "At round 136 accuracy: 0.7671232876712328\n",
      "At round 136 training accuracy: 0.768079006052883\n",
      "At round 136 training loss: 0.6284152628909102\n",
      "Group 3\n",
      "At round 136 accuracy: 0.8728323699421965\n",
      "At round 136 training accuracy: 0.8722741433021807\n",
      "At round 136 training loss: 0.37335340016196983\n",
      "Group 4\n",
      "At round 136 accuracy: 0.8955696202531646\n",
      "At round 136 training accuracy: 0.9128802102891476\n",
      "At round 136 training loss: 0.28544757541211707\n",
      "At round 136 mean test accuracy: 0.8435550935550935 mean train accuracy: 0.842640521283722\n",
      "The groups difference are: [20.36692082 20.39335837 20.5270837  20.80639769 20.27257147]\n",
      "Begin group  0 training\n"
     ]
    },
    {
     "name": "stderr",
     "output_type": "stream",
     "text": [
      "Epoch:   0%|                                                                                     | 0/20 [00:00<?, ?it/s]"
     ]
    },
    {
     "name": "stdout",
     "output_type": "stream",
     "text": [
      "Begin group  1 training\n"
     ]
    },
    {
     "name": "stderr",
     "output_type": "stream",
     "text": [
      "Epoch:   0%|                                                                                     | 0/20 [00:00<?, ?it/s]"
     ]
    },
    {
     "name": "stdout",
     "output_type": "stream",
     "text": [
      "Begin group  2 training\n"
     ]
    },
    {
     "name": "stderr",
     "output_type": "stream",
     "text": [
      "Epoch:   0%|                                                                                     | 0/20 [00:00<?, ?it/s]"
     ]
    },
    {
     "name": "stdout",
     "output_type": "stream",
     "text": [
      "Begin group  3 training\n"
     ]
    },
    {
     "name": "stderr",
     "output_type": "stream",
     "text": [
      "Epoch:   0%|                                                                                     | 0/20 [00:00<?, ?it/s]"
     ]
    },
    {
     "name": "stdout",
     "output_type": "stream",
     "text": [
      "Begin group  4 training\n"
     ]
    },
    {
     "name": "stderr",
     "output_type": "stream",
     "text": [
      "                                                                                                                        \r"
     ]
    },
    {
     "name": "stdout",
     "output_type": "stream",
     "text": [
      "Group 0, clients ['f_00044', 'f_00133', 'f_00144', 'f_00193', 'f_00004', 'f_00114', 'f_00064']\n",
      "Group 1, clients ['f_00047', 'f_00128', 'f_00198', 'f_00187', 'f_00168', 'f_00138', 'f_00158']\n",
      "Group 2, clients ['f_00089', 'f_00080']\n",
      "Group 3, clients ['f_00032']\n",
      "Group 4, clients ['f_00196', 'f_00065', 'f_00106']\n"
     ]
    },
    {
     "name": "stderr",
     "output_type": "stream",
     "text": [
      "Epoch:   0%|                                                                                     | 0/20 [00:00<?, ?it/s]"
     ]
    },
    {
     "name": "stdout",
     "output_type": "stream",
     "text": [
      "Group 0\n",
      "At round 137 accuracy: 0.856020942408377\n",
      "At round 137 training accuracy: 0.8656346749226006\n",
      "At round 137 training loss: 0.34747888048643666\n",
      "Group 1\n",
      "At round 137 accuracy: 0.7251461988304093\n",
      "At round 137 training accuracy: 0.7208981001727116\n",
      "At round 137 training loss: 0.9305108692516317\n",
      "Group 2\n",
      "At round 137 accuracy: 0.936986301369863\n",
      "At round 137 training accuracy: 0.9053838802166295\n",
      "At round 137 training loss: 0.3082155650181921\n",
      "Group 3\n",
      "At round 137 accuracy: 0.8709055876685935\n",
      "At round 137 training accuracy: 0.8751668891855807\n",
      "At round 137 training loss: 0.5497203667593841\n",
      "Group 4\n",
      "At round 137 accuracy: 0.8987341772151899\n",
      "At round 137 training accuracy: 0.9222681186631618\n",
      "At round 137 training loss: 0.27959648921800384\n",
      "At round 137 mean test accuracy: 0.8591476091476091 mean train accuracy: 0.8595091650934779\n",
      "The groups difference are: [20.50191692 20.52559726 20.6458459  21.02710208 20.40034593]\n",
      "Begin group  0 training\n"
     ]
    },
    {
     "name": "stderr",
     "output_type": "stream",
     "text": [
      "Epoch:   0%|                                                                                     | 0/20 [00:00<?, ?it/s]"
     ]
    },
    {
     "name": "stdout",
     "output_type": "stream",
     "text": [
      "Begin group  1 training\n"
     ]
    },
    {
     "name": "stderr",
     "output_type": "stream",
     "text": [
      "Epoch:   0%|                                                                                     | 0/20 [00:00<?, ?it/s]"
     ]
    },
    {
     "name": "stdout",
     "output_type": "stream",
     "text": [
      "Begin group  2 training\n"
     ]
    },
    {
     "name": "stderr",
     "output_type": "stream",
     "text": [
      "Epoch:   0%|                                                                                     | 0/20 [00:00<?, ?it/s]"
     ]
    },
    {
     "name": "stdout",
     "output_type": "stream",
     "text": [
      "Begin group  3 training\n",
      "Begin group  4 training\n"
     ]
    },
    {
     "name": "stderr",
     "output_type": "stream",
     "text": [
      "                                                                                                                        \r"
     ]
    },
    {
     "name": "stdout",
     "output_type": "stream",
     "text": [
      "Group 0, clients ['f_00013', 'f_00154', 'f_00014', 'f_00084', 'f_00114']\n",
      "Group 1, clients ['f_00058', 'f_00128', 'f_00038']\n",
      "Group 2, clients ['f_00079']\n",
      "Group 3, clients ['f_00162', 'f_00151', 'f_00052', 'f_00142']\n",
      "Group 4, clients ['f_00156', 'f_00115', 'f_00016', 'f_00185', 'f_00186', 'f_00036', 'f_00155']\n"
     ]
    },
    {
     "name": "stderr",
     "output_type": "stream",
     "text": [
      "                                                                                                                        "
     ]
    },
    {
     "name": "stdout",
     "output_type": "stream",
     "text": [
      "Group 0\n",
      "At round 138 accuracy: 0.8979057591623036\n",
      "At round 138 training accuracy: 0.8919504643962848\n",
      "At round 138 training loss: 0.30628123576334754\n",
      "Group 1\n",
      "At round 138 accuracy: 0.7397660818713451\n",
      "At round 138 training accuracy: 0.7392055267702936\n",
      "At round 138 training loss: 0.6667438673952495\n",
      "Group 2\n",
      "At round 138 accuracy: 0.8438356164383561\n",
      "At round 138 training accuracy: 0.8445364765848996\n",
      "At round 138 training loss: 0.45391480357888475\n",
      "Group 3\n",
      "At round 138 accuracy: 0.8689788053949904\n",
      "At round 138 training accuracy: 0.8718291054739653\n",
      "At round 138 training loss: 0.5574591795623329\n",
      "Group 4\n",
      "At round 138 accuracy: 0.8734177215189873\n",
      "At round 138 training accuracy: 0.8726999624483665\n",
      "At round 138 training loss: 0.34291902674103963\n",
      "At round 138 mean test accuracy: 0.8477130977130977 mean train accuracy: 0.8473296388770477\n",
      "The groups difference are: [20.46402674 20.49094484 20.62376381 20.9816534  20.3629111 ]\n",
      "Begin group  0 training\n"
     ]
    },
    {
     "name": "stderr",
     "output_type": "stream",
     "text": [
      "Epoch:   0%|                                                                                     | 0/20 [00:00<?, ?it/s]"
     ]
    },
    {
     "name": "stdout",
     "output_type": "stream",
     "text": [
      "Begin group  1 training\n",
      "Begin group  2 training\n"
     ]
    },
    {
     "name": "stderr",
     "output_type": "stream",
     "text": [
      "Epoch:   0%|                                                                                     | 0/20 [00:00<?, ?it/s]"
     ]
    },
    {
     "name": "stdout",
     "output_type": "stream",
     "text": [
      "Begin group  3 training\n"
     ]
    },
    {
     "name": "stderr",
     "output_type": "stream",
     "text": [
      "Epoch:   0%|                                                                                     | 0/20 [00:00<?, ?it/s]"
     ]
    },
    {
     "name": "stdout",
     "output_type": "stream",
     "text": [
      "Begin group  4 training\n"
     ]
    },
    {
     "name": "stderr",
     "output_type": "stream",
     "text": [
      "                                                                                                                        \r"
     ]
    },
    {
     "name": "stdout",
     "output_type": "stream",
     "text": [
      "Group 0, clients ['f_00164', 'f_00123', 'f_00103', 'f_00183', 'f_00104', 'f_00084', 'f_00054']\n",
      "Group 1, clients ['f_00128', 'f_00108', 'f_00197', 'f_00097', 'f_00167']\n",
      "Group 2, clients ['f_00180', 'f_00159']\n",
      "Group 3, clients ['f_00151', 'f_00142', 'f_00171']\n",
      "Group 4, clients ['f_00156', 'f_00155', 'f_00075']\n"
     ]
    },
    {
     "name": "stderr",
     "output_type": "stream",
     "text": [
      "Epoch:  15%|███████████▌                                                                 | 3/20 [00:00<00:00, 25.35it/s]"
     ]
    },
    {
     "name": "stdout",
     "output_type": "stream",
     "text": [
      "Group 0\n",
      "At round 139 accuracy: 0.8795811518324608\n",
      "At round 139 training accuracy: 0.885139318885449\n",
      "At round 139 training loss: 0.32676128206699623\n",
      "Group 1\n",
      "At round 139 accuracy: 0.7485380116959064\n",
      "At round 139 training accuracy: 0.7426597582037997\n",
      "At round 139 training loss: 0.7908830430686783\n",
      "Group 2\n",
      "At round 139 accuracy: 0.7616438356164383\n",
      "At round 139 training accuracy: 0.7543803759158968\n",
      "At round 139 training loss: 0.801416679480988\n",
      "Group 3\n",
      "At round 139 accuracy: 0.8535645472061657\n",
      "At round 139 training accuracy: 0.8604806408544726\n",
      "At round 139 training loss: 0.5389526218215678\n",
      "Group 4\n",
      "At round 139 accuracy: 0.9050632911392406\n",
      "At round 139 training accuracy: 0.9312805107022155\n",
      "At round 139 training loss: 0.2643585882485025\n",
      "At round 139 mean test accuracy: 0.831081081081081 mean train accuracy: 0.835759088971439\n",
      "The groups difference are: [20.44042627 20.45651239 20.60558643 20.95919056 20.33626827]\n",
      "Begin group  0 training\n"
     ]
    },
    {
     "name": "stderr",
     "output_type": "stream",
     "text": [
      "Epoch:  45%|██████████████████████████████████▋                                          | 9/20 [00:00<00:00, 85.86it/s]"
     ]
    },
    {
     "name": "stdout",
     "output_type": "stream",
     "text": [
      "Begin group  1 training\n"
     ]
    },
    {
     "name": "stderr",
     "output_type": "stream",
     "text": [
      "Epoch:  25%|███████████████████▎                                                         | 5/20 [00:00<00:00, 46.43it/s]"
     ]
    },
    {
     "name": "stdout",
     "output_type": "stream",
     "text": [
      "Begin group  2 training\n"
     ]
    },
    {
     "name": "stderr",
     "output_type": "stream",
     "text": [
      "Epoch:   0%|                                                                                     | 0/20 [00:00<?, ?it/s]"
     ]
    },
    {
     "name": "stdout",
     "output_type": "stream",
     "text": [
      "Begin group  3 training\n"
     ]
    },
    {
     "name": "stderr",
     "output_type": "stream",
     "text": [
      "Epoch:   0%|                                                                                     | 0/20 [00:00<?, ?it/s]"
     ]
    },
    {
     "name": "stdout",
     "output_type": "stream",
     "text": [
      "Begin group  4 training\n"
     ]
    },
    {
     "name": "stderr",
     "output_type": "stream",
     "text": [
      "                                                                                                                        \r"
     ]
    },
    {
     "name": "stdout",
     "output_type": "stream",
     "text": [
      "Group 0, clients ['f_00173', 'f_00154', 'f_00153']\n",
      "Group 1, clients ['f_00047', 'f_00169', 'f_00137']\n",
      "Group 2, clients ['f_00129', 'f_00030', 'f_00120', 'f_00049', 'f_00140']\n",
      "Group 3, clients ['f_00142', 'f_00071', 'f_00021', 'f_00061', 'f_00132']\n",
      "Group 4, clients ['f_00095', 'f_00046', 'f_00145', 'f_00055']\n"
     ]
    },
    {
     "name": "stderr",
     "output_type": "stream",
     "text": [
      "Epoch:   0%|                                                                                     | 0/20 [00:00<?, ?it/s]"
     ]
    },
    {
     "name": "stdout",
     "output_type": "stream",
     "text": [
      "Group 0\n",
      "At round 140 accuracy: 0.8664921465968587\n",
      "At round 140 training accuracy: 0.8681114551083592\n",
      "At round 140 training loss: 0.350117281457588\n",
      "Group 1\n",
      "At round 140 accuracy: 0.8538011695906432\n",
      "At round 140 training accuracy: 0.8438687392055267\n",
      "At round 140 training loss: 0.48743984613805647\n",
      "Group 2\n",
      "At round 140 accuracy: 0.8328767123287671\n",
      "At round 140 training accuracy: 0.8282892640968461\n",
      "At round 140 training loss: 0.45016986595460207\n",
      "Group 3\n",
      "At round 140 accuracy: 0.8362235067437379\n",
      "At round 140 training accuracy: 0.8397863818424566\n",
      "At round 140 training loss: 0.40030030616400347\n",
      "Group 4\n",
      "At round 140 accuracy: 0.8860759493670886\n",
      "At round 140 training accuracy: 0.8918512955313556\n",
      "At round 140 training loss: 0.31985731058625677\n",
      "At round 140 mean test accuracy: 0.8529106029106029 mean train accuracy: 0.852323244625784\n",
      "The groups difference are: [20.47928785 20.48006839 20.63421736 20.95991601 20.35541145]\n",
      "Begin group  0 training\n"
     ]
    },
    {
     "name": "stderr",
     "output_type": "stream",
     "text": [
      "Epoch:   0%|                                                                                     | 0/20 [00:00<?, ?it/s]"
     ]
    },
    {
     "name": "stdout",
     "output_type": "stream",
     "text": [
      "Begin group  1 training\n"
     ]
    },
    {
     "name": "stderr",
     "output_type": "stream",
     "text": [
      "Epoch:   0%|                                                                                     | 0/20 [00:00<?, ?it/s]"
     ]
    },
    {
     "name": "stdout",
     "output_type": "stream",
     "text": [
      "Begin group  2 training\n"
     ]
    },
    {
     "name": "stderr",
     "output_type": "stream",
     "text": [
      "Epoch:   0%|                                                                                     | 0/20 [00:00<?, ?it/s]"
     ]
    },
    {
     "name": "stdout",
     "output_type": "stream",
     "text": [
      "Begin group  3 training\n"
     ]
    },
    {
     "name": "stderr",
     "output_type": "stream",
     "text": [
      "Epoch:   0%|                                                                                     | 0/20 [00:00<?, ?it/s]"
     ]
    },
    {
     "name": "stdout",
     "output_type": "stream",
     "text": [
      "Begin group  4 training\n"
     ]
    },
    {
     "name": "stderr",
     "output_type": "stream",
     "text": [
      "                                                                                                                        \r"
     ]
    },
    {
     "name": "stdout",
     "output_type": "stream",
     "text": [
      "Group 0, clients ['f_00093', 'f_00183', 'f_00163']\n",
      "Group 1, clients ['f_00098', 'f_00107', 'f_00137', 'f_00108', 'f_00007', 'f_00176']\n",
      "Group 2, clients ['f_00079', 'f_00029', 'f_00010', 'f_00020']\n",
      "Group 3, clients ['f_00051', 'f_00071', 'f_00181']\n",
      "Group 4, clients ['f_00036', 'f_00116', 'f_00055', 'f_00126']\n"
     ]
    },
    {
     "name": "stderr",
     "output_type": "stream",
     "text": [
      "Epoch:  35%|██████████████████████████▉                                                  | 7/20 [00:00<00:00, 63.17it/s]"
     ]
    },
    {
     "name": "stdout",
     "output_type": "stream",
     "text": [
      "Group 0\n",
      "At round 141 accuracy: 0.8926701570680629\n",
      "At round 141 training accuracy: 0.8959752321981425\n",
      "At round 141 training loss: 0.29400632497695944\n",
      "Group 1\n",
      "At round 141 accuracy: 0.7397660818713451\n",
      "At round 141 training accuracy: 0.7678756476683938\n",
      "At round 141 training loss: 0.5656429930105934\n",
      "Group 2\n",
      "At round 141 accuracy: 0.8767123287671232\n",
      "At round 141 training accuracy: 0.867792290538388\n",
      "At round 141 training loss: 0.3558963716751681\n",
      "Group 3\n",
      "At round 141 accuracy: 0.8554913294797688\n",
      "At round 141 training accuracy: 0.8738317757009346\n",
      "At round 141 training loss: 0.3094610730803671\n",
      "Group 4\n",
      "At round 141 accuracy: 0.8829113924050633\n",
      "At round 141 training accuracy: 0.8926023282012767\n",
      "At round 141 training loss: 0.31739613285950596\n",
      "At round 141 mean test accuracy: 0.8508316008316008 mean train accuracy: 0.8613969916570245\n",
      "The groups difference are: [20.43494921 20.43357361 20.58571408 20.90422087 20.30552732]\n",
      "Begin group  0 training\n"
     ]
    },
    {
     "name": "stderr",
     "output_type": "stream",
     "text": [
      "Epoch:  25%|███████████████████▎                                                         | 5/20 [00:00<00:00, 47.07it/s]"
     ]
    },
    {
     "name": "stdout",
     "output_type": "stream",
     "text": [
      "Begin group  1 training\n"
     ]
    },
    {
     "name": "stderr",
     "output_type": "stream",
     "text": [
      "Epoch:  50%|██████████████████████████████████████                                      | 10/20 [00:00<00:00, 98.46it/s]"
     ]
    },
    {
     "name": "stdout",
     "output_type": "stream",
     "text": [
      "Begin group  2 training\n"
     ]
    },
    {
     "name": "stderr",
     "output_type": "stream",
     "text": [
      "Epoch:   0%|                                                                                     | 0/20 [00:00<?, ?it/s]"
     ]
    },
    {
     "name": "stdout",
     "output_type": "stream",
     "text": [
      "Begin group  3 training\n"
     ]
    },
    {
     "name": "stderr",
     "output_type": "stream",
     "text": [
      "Epoch:   0%|                                                                                     | 0/20 [00:00<?, ?it/s]"
     ]
    },
    {
     "name": "stdout",
     "output_type": "stream",
     "text": [
      "Begin group  4 training\n"
     ]
    },
    {
     "name": "stderr",
     "output_type": "stream",
     "text": [
      "                                                                                                                        \r"
     ]
    },
    {
     "name": "stdout",
     "output_type": "stream",
     "text": [
      "Group 0, clients ['f_00153', 'f_00003']\n",
      "Group 1, clients ['f_00068', 'f_00067', 'f_00148', 'f_00027']\n",
      "Group 2, clients ['f_00010', 'f_00090', 'f_00199', 'f_00099']\n",
      "Group 3, clients ['f_00142', 'f_00162', 'f_00001', 'f_00072', 'f_00161']\n",
      "Group 4, clients ['f_00025', 'f_00166', 'f_00126', 'f_00175', 'f_00106']\n"
     ]
    },
    {
     "name": "stderr",
     "output_type": "stream",
     "text": [
      "Epoch:   0%|                                                                                     | 0/20 [00:00<?, ?it/s]"
     ]
    },
    {
     "name": "stdout",
     "output_type": "stream",
     "text": [
      "Group 0\n",
      "At round 142 accuracy: 0.8272251308900523\n",
      "At round 142 training accuracy: 0.8278637770897833\n",
      "At round 142 training loss: 0.5074263756350836\n",
      "Group 1\n",
      "At round 142 accuracy: 0.804093567251462\n",
      "At round 142 training accuracy: 0.7734024179620035\n",
      "At round 142 training loss: 0.5919476345155729\n",
      "Group 2\n",
      "At round 142 accuracy: 0.8712328767123287\n",
      "At round 142 training accuracy: 0.8528193692258681\n",
      "At round 142 training loss: 0.3898679027514839\n",
      "Group 3\n",
      "At round 142 accuracy: 0.7687861271676301\n",
      "At round 142 training accuracy: 0.7614597240765465\n",
      "At round 142 training loss: 0.6966034793703223\n",
      "Group 4\n",
      "At round 142 accuracy: 0.8670886075949367\n",
      "At round 142 training accuracy: 0.8858430341719865\n",
      "At round 142 training loss: 0.32555700728331927\n",
      "At round 142 mean test accuracy: 0.8222453222453222 mean train accuracy: 0.8142622251994397\n",
      "The groups difference are: [20.43504384 20.4339046  20.57868058 20.88326258 20.29780004]\n",
      "Begin group  0 training\n",
      "Begin group  1 training\n"
     ]
    },
    {
     "name": "stderr",
     "output_type": "stream",
     "text": [
      "Epoch:  30%|███████████████████████                                                      | 6/20 [00:00<00:00, 57.36it/s]"
     ]
    },
    {
     "name": "stdout",
     "output_type": "stream",
     "text": [
      "Begin group  2 training\n"
     ]
    },
    {
     "name": "stderr",
     "output_type": "stream",
     "text": [
      "Epoch:   0%|                                                                                     | 0/20 [00:00<?, ?it/s]"
     ]
    },
    {
     "name": "stdout",
     "output_type": "stream",
     "text": [
      "Begin group  3 training\n"
     ]
    },
    {
     "name": "stderr",
     "output_type": "stream",
     "text": [
      "Epoch:   0%|                                                                                     | 0/20 [00:00<?, ?it/s]"
     ]
    },
    {
     "name": "stdout",
     "output_type": "stream",
     "text": [
      "Begin group  4 training\n"
     ]
    },
    {
     "name": "stderr",
     "output_type": "stream",
     "text": [
      "                                                                                                                        \r"
     ]
    },
    {
     "name": "stdout",
     "output_type": "stream",
     "text": [
      "Group 0, clients ['f_00014', 'f_00103']\n",
      "Group 1, clients ['f_00107', 'f_00158', 'f_00147']\n",
      "Group 2, clients ['f_00119', 'f_00139', 'f_00019']\n",
      "Group 3, clients ['f_00161', 'f_00072', 'f_00041', 'f_00032', 'f_00002', 'f_00001']\n",
      "Group 4, clients ['f_00025', 'f_00015', 'f_00165', 'f_00105', 'f_00096', 'f_00166']\n"
     ]
    },
    {
     "name": "stderr",
     "output_type": "stream",
     "text": [
      "Epoch:  40%|██████████████████████████████▊                                              | 8/20 [00:00<00:00, 78.38it/s]"
     ]
    },
    {
     "name": "stdout",
     "output_type": "stream",
     "text": [
      "Group 0\n",
      "At round 143 accuracy: 0.8167539267015707\n",
      "At round 143 training accuracy: 0.8182662538699691\n",
      "At round 143 training loss: 0.5538252345214226\n",
      "Group 1\n",
      "At round 143 accuracy: 0.7397660818713451\n",
      "At round 143 training accuracy: 0.7550949913644214\n",
      "At round 143 training loss: 0.6604412824739034\n",
      "Group 2\n",
      "At round 143 accuracy: 0.8383561643835616\n",
      "At round 143 training accuracy: 0.8321121376234469\n",
      "At round 143 training loss: 0.41728241563166124\n",
      "Group 3\n",
      "At round 143 accuracy: 0.884393063583815\n",
      "At round 143 training accuracy: 0.8947485536270583\n",
      "At round 143 training loss: 0.28142649012244325\n",
      "Group 4\n",
      "At round 143 accuracy: 0.9082278481012658\n",
      "At round 143 training accuracy: 0.9192639879834773\n",
      "At round 143 training loss: 0.2645940703364006\n",
      "At round 143 mean test accuracy: 0.8404365904365905 mean train accuracy: 0.8470860483527191\n",
      "The groups difference are: [20.42688525 20.46439186 20.59814181 20.87776501 20.29650908]\n",
      "Begin group  0 training\n"
     ]
    },
    {
     "name": "stderr",
     "output_type": "stream",
     "text": [
      "Epoch:   0%|                                                                                     | 0/20 [00:00<?, ?it/s]"
     ]
    },
    {
     "name": "stdout",
     "output_type": "stream",
     "text": [
      "Begin group  1 training\n"
     ]
    },
    {
     "name": "stderr",
     "output_type": "stream",
     "text": [
      "Epoch:   0%|                                                                                     | 0/20 [00:00<?, ?it/s]"
     ]
    },
    {
     "name": "stdout",
     "output_type": "stream",
     "text": [
      "Begin group  2 training\n"
     ]
    },
    {
     "name": "stderr",
     "output_type": "stream",
     "text": [
      "Epoch:  55%|█████████████████████████████████████████▎                                 | 11/20 [00:00<00:00, 103.10it/s]"
     ]
    },
    {
     "name": "stdout",
     "output_type": "stream",
     "text": [
      "Begin group  3 training\n"
     ]
    },
    {
     "name": "stderr",
     "output_type": "stream",
     "text": [
      "Epoch:   0%|                                                                                     | 0/20 [00:00<?, ?it/s]"
     ]
    },
    {
     "name": "stdout",
     "output_type": "stream",
     "text": [
      "Begin group  4 training\n"
     ]
    },
    {
     "name": "stderr",
     "output_type": "stream",
     "text": [
      "                                                                                                                        \r"
     ]
    },
    {
     "name": "stdout",
     "output_type": "stream",
     "text": [
      "Group 0, clients ['f_00023', 'f_00144', 'f_00193', 'f_00163', 'f_00004', 'f_00104']\n",
      "Group 1, clients ['f_00088', 'f_00008', 'f_00178', 'f_00168']\n",
      "Group 2, clients ['f_00189', 'f_00060', 'f_00199', 'f_00020', 'f_00050', 'f_00190']\n",
      "Group 3, clients ['f_00001', 'f_00062']\n",
      "Group 4, clients ['f_00165', 'f_00146']\n"
     ]
    },
    {
     "name": "stderr",
     "output_type": "stream",
     "text": [
      "Epoch:  40%|██████████████████████████████▊                                              | 8/20 [00:00<00:00, 69.76it/s]"
     ]
    },
    {
     "name": "stdout",
     "output_type": "stream",
     "text": [
      "Group 0\n",
      "At round 144 accuracy: 0.8769633507853403\n",
      "At round 144 training accuracy: 0.891640866873065\n",
      "At round 144 training loss: 0.2931446227357484\n",
      "Group 1\n",
      "At round 144 accuracy: 0.827485380116959\n",
      "At round 144 training accuracy: 0.8452504317789292\n",
      "At round 144 training loss: 0.48353327301705645\n",
      "Group 2\n",
      "At round 144 accuracy: 0.7616438356164383\n",
      "At round 144 training accuracy: 0.7699904428161835\n",
      "At round 144 training loss: 0.6910398103042786\n",
      "Group 3\n",
      "At round 144 accuracy: 0.8709055876685935\n",
      "At round 144 training accuracy: 0.8765020026702269\n",
      "At round 144 training loss: 0.3196666058522625\n",
      "Group 4\n",
      "At round 144 accuracy: 0.8512658227848101\n",
      "At round 144 training accuracy: 0.8584303417198648\n",
      "At round 144 training loss: 0.35158017196301183\n",
      "At round 144 mean test accuracy: 0.8404365904365905 mean train accuracy: 0.850679008586566\n",
      "The groups difference are: [20.40200576 20.44193109 20.57527964 20.85679745 20.275754  ]\n",
      "Begin group  0 training\n"
     ]
    },
    {
     "name": "stderr",
     "output_type": "stream",
     "text": [
      "Epoch:   0%|                                                                                     | 0/20 [00:00<?, ?it/s]"
     ]
    },
    {
     "name": "stdout",
     "output_type": "stream",
     "text": [
      "Begin group  1 training\n"
     ]
    },
    {
     "name": "stderr",
     "output_type": "stream",
     "text": [
      "Epoch:  40%|██████████████████████████████▊                                              | 8/20 [00:00<00:00, 71.47it/s]"
     ]
    },
    {
     "name": "stdout",
     "output_type": "stream",
     "text": [
      "Begin group  2 training\n"
     ]
    },
    {
     "name": "stderr",
     "output_type": "stream",
     "text": [
      "Epoch:   0%|                                                                                     | 0/20 [00:00<?, ?it/s]"
     ]
    },
    {
     "name": "stdout",
     "output_type": "stream",
     "text": [
      "Begin group  3 training\n"
     ]
    },
    {
     "name": "stderr",
     "output_type": "stream",
     "text": [
      "                                                                                                                        \r"
     ]
    },
    {
     "name": "stdout",
     "output_type": "stream",
     "text": [
      "Begin group  4 training\n",
      "Group 0, clients ['f_00093', 'f_00163', 'f_00083', 'f_00174', 'f_00063']\n",
      "Group 1, clients ['f_00128', 'f_00067', 'f_00138', 'f_00068', 'f_00028', 'f_00088', 'f_00167']\n",
      "Group 2, clients ['f_00130', 'f_00080', 'f_00050']\n",
      "Group 3, clients ['f_00002', 'f_00001', 'f_00132']\n",
      "Group 4, clients ['f_00055', 'f_00086']\n"
     ]
    },
    {
     "name": "stderr",
     "output_type": "stream",
     "text": [
      "Epoch:  30%|███████████████████████                                                      | 6/20 [00:00<00:00, 58.71it/s]"
     ]
    },
    {
     "name": "stdout",
     "output_type": "stream",
     "text": [
      "Group 0\n",
      "At round 145 accuracy: 0.8795811518324608\n",
      "At round 145 training accuracy: 0.9061919504643963\n",
      "At round 145 training loss: 0.26478394807169314\n",
      "Group 1\n",
      "At round 145 accuracy: 0.7543859649122807\n",
      "At round 145 training accuracy: 0.7492227979274612\n",
      "At round 145 training loss: 0.6859152327495948\n",
      "Group 2\n",
      "At round 145 accuracy: 0.8575342465753425\n",
      "At round 145 training accuracy: 0.835297865562281\n",
      "At round 145 training loss: 0.42842313324941805\n",
      "Group 3\n",
      "At round 145 accuracy: 0.8651252408477842\n",
      "At round 145 training accuracy: 0.8664886515353805\n",
      "At round 145 training loss: 0.5846008115514788\n",
      "Group 4\n",
      "At round 145 accuracy: 0.8417721518987342\n",
      "At round 145 training accuracy: 0.8464138190011266\n",
      "At round 145 training loss: 0.3837288442832655\n",
      "At round 145 mean test accuracy: 0.843035343035343 mean train accuracy: 0.8444065525851044\n",
      "The groups difference are: [20.52485467 20.57098627 20.70890375 21.09076768 20.41148243]\n",
      "Begin group  0 training\n"
     ]
    },
    {
     "name": "stderr",
     "output_type": "stream",
     "text": [
      "Epoch:  15%|███████████▌                                                                 | 3/20 [00:00<00:00, 29.59it/s]"
     ]
    },
    {
     "name": "stdout",
     "output_type": "stream",
     "text": [
      "Begin group  1 training\n"
     ]
    },
    {
     "name": "stderr",
     "output_type": "stream",
     "text": [
      "Epoch:  30%|███████████████████████                                                      | 6/20 [00:00<00:00, 57.10it/s]"
     ]
    },
    {
     "name": "stdout",
     "output_type": "stream",
     "text": [
      "Begin group  2 training\n"
     ]
    },
    {
     "name": "stderr",
     "output_type": "stream",
     "text": [
      "Epoch:  35%|██████████████████████████▉                                                  | 7/20 [00:00<00:00, 62.68it/s]"
     ]
    },
    {
     "name": "stdout",
     "output_type": "stream",
     "text": [
      "Begin group  3 training\n"
     ]
    },
    {
     "name": "stderr",
     "output_type": "stream",
     "text": [
      "                                                                                                                        \r"
     ]
    },
    {
     "name": "stdout",
     "output_type": "stream",
     "text": [
      "Begin group  4 training\n",
      "Group 0, clients ['f_00143', 'f_00193', 'f_00004', 'f_00024']\n",
      "Group 1, clients ['f_00007', 'f_00197', 'f_00078', 'f_00148', 'f_00118', 'f_00087', 'f_00057']\n",
      "Group 2, clients ['f_00089', 'f_00039']\n",
      "Group 3, clients ['f_00041', 'f_00162', 'f_00081']\n",
      "Group 4, clients ['f_00076', 'f_00056', 'f_00185', 'f_00095']\n"
     ]
    },
    {
     "name": "stderr",
     "output_type": "stream",
     "text": [
      "Epoch:   0%|                                                                                     | 0/20 [00:00<?, ?it/s]"
     ]
    },
    {
     "name": "stdout",
     "output_type": "stream",
     "text": [
      "Group 0\n",
      "At round 146 accuracy: 0.8455497382198953\n",
      "At round 146 training accuracy: 0.8424148606811146\n",
      "At round 146 training loss: 0.4472851607567939\n",
      "Group 1\n",
      "At round 146 accuracy: 0.7719298245614035\n",
      "At round 146 training accuracy: 0.8041450777202073\n",
      "At round 146 training loss: 0.5812808546274643\n",
      "Group 2\n",
      "At round 146 accuracy: 0.8493150684931506\n",
      "At round 146 training accuracy: 0.8531379420197515\n",
      "At round 146 training loss: 0.4993032925744731\n",
      "Group 3\n",
      "At round 146 accuracy: 0.8670520231213873\n",
      "At round 146 training accuracy: 0.8713840676457499\n",
      "At round 146 training loss: 0.5371818025449302\n",
      "Group 4\n",
      "At round 146 accuracy: 0.8006329113924051\n",
      "At round 146 training accuracy: 0.8152459631993991\n",
      "At round 146 training loss: 0.42446195374764406\n",
      "At round 146 mean test accuracy: 0.8316008316008316 mean train accuracy: 0.8412398757688326\n",
      "The groups difference are: [20.53419475 20.59769022 20.7272912  21.08488948 20.41306602]\n",
      "Begin group  0 training\n"
     ]
    },
    {
     "name": "stderr",
     "output_type": "stream",
     "text": [
      "Epoch:  65%|████████████████████████████████████████████████▊                          | 13/20 [00:00<00:00, 125.85it/s]"
     ]
    },
    {
     "name": "stdout",
     "output_type": "stream",
     "text": [
      "Begin group  1 training\n"
     ]
    },
    {
     "name": "stderr",
     "output_type": "stream",
     "text": [
      "                                                                                                                        "
     ]
    },
    {
     "name": "stdout",
     "output_type": "stream",
     "text": [
      "Begin group  2 training\n",
      "Begin group  3 training\n"
     ]
    },
    {
     "name": "stderr",
     "output_type": "stream",
     "text": [
      "Epoch:  25%|███████████████████▎                                                         | 5/20 [00:00<00:00, 45.54it/s]"
     ]
    },
    {
     "name": "stdout",
     "output_type": "stream",
     "text": [
      "Begin group  4 training\n"
     ]
    },
    {
     "name": "stderr",
     "output_type": "stream",
     "text": [
      "                                                                                                                        \r"
     ]
    },
    {
     "name": "stdout",
     "output_type": "stream",
     "text": [
      "Group 0, clients ['f_00024', 'f_00044', 'f_00133', 'f_00174', 'f_00194', 'f_00134']\n",
      "Group 1, clients ['f_00138', 'f_00169', 'f_00097']\n",
      "Group 2, clients ['f_00140', 'f_00090', 'f_00089']\n",
      "Group 3, clients ['f_00062', 'f_00031', 'f_00112', 'f_00022', 'f_00072', 'f_00021']\n",
      "Group 4, clients ['f_00035', 'f_00175']\n"
     ]
    },
    {
     "name": "stderr",
     "output_type": "stream",
     "text": [
      "Epoch:   0%|                                                                                     | 0/20 [00:00<?, ?it/s]"
     ]
    },
    {
     "name": "stdout",
     "output_type": "stream",
     "text": [
      "Group 0\n",
      "At round 147 accuracy: 0.9083769633507853\n",
      "At round 147 training accuracy: 0.934984520123839\n",
      "At round 147 training loss: 0.23844921350848194\n",
      "Group 1\n",
      "At round 147 accuracy: 0.7748538011695907\n",
      "At round 147 training accuracy: 0.8093264248704664\n",
      "At round 147 training loss: 0.54545740421366\n",
      "Group 2\n",
      "At round 147 accuracy: 0.7643835616438356\n",
      "At round 147 training accuracy: 0.7776361898693852\n",
      "At round 147 training loss: 0.5830564138145157\n",
      "Group 3\n",
      "At round 147 accuracy: 0.8400770712909441\n",
      "At round 147 training accuracy: 0.8431241655540721\n",
      "At round 147 training loss: 0.37067043317733045\n",
      "Group 4\n",
      "At round 147 accuracy: 0.7943037974683544\n",
      "At round 147 training accuracy: 0.8193766428839655\n",
      "At round 147 training loss: 0.5197278521017745\n",
      "At round 147 mean test accuracy: 0.8201663201663202 mean train accuracy: 0.8388648681566288\n",
      "The groups difference are: [20.51413915 20.58509684 20.70041413 21.0585006  20.40243827]\n",
      "Begin group  0 training\n"
     ]
    },
    {
     "name": "stderr",
     "output_type": "stream",
     "text": [
      "                                                                                                                        "
     ]
    },
    {
     "name": "stdout",
     "output_type": "stream",
     "text": [
      "Begin group  1 training\n"
     ]
    },
    {
     "name": "stderr",
     "output_type": "stream",
     "text": [
      "Epoch:   0%|                                                                                     | 0/20 [00:00<?, ?it/s]"
     ]
    },
    {
     "name": "stdout",
     "output_type": "stream",
     "text": [
      "Begin group  2 training\n"
     ]
    },
    {
     "name": "stderr",
     "output_type": "stream",
     "text": [
      "Epoch:   5%|███▊                                                                         | 1/20 [00:00<00:03,  5.39it/s]"
     ]
    },
    {
     "name": "stdout",
     "output_type": "stream",
     "text": [
      "Begin group  3 training\n"
     ]
    },
    {
     "name": "stderr",
     "output_type": "stream",
     "text": [
      "Epoch:  50%|██████████████████████████████████████                                      | 10/20 [00:00<00:00, 97.89it/s]"
     ]
    },
    {
     "name": "stdout",
     "output_type": "stream",
     "text": [
      "Begin group  4 training\n"
     ]
    },
    {
     "name": "stderr",
     "output_type": "stream",
     "text": [
      "                                                                                                                        \r"
     ]
    },
    {
     "name": "stdout",
     "output_type": "stream",
     "text": [
      "Group 0, clients ['f_00153', 'f_00023', 'f_00193', 'f_00073', 'f_00034', 'f_00013']\n",
      "Group 1, clients ['f_00158', 'f_00097', 'f_00088']\n",
      "Group 2, clients ['f_00189', 'f_00030', 'f_00149', 'f_00060']\n",
      "Group 3, clients ['f_00192', 'f_00181', 'f_00002']\n",
      "Group 4, clients ['f_00056', 'f_00135', 'f_00055', 'f_00185']\n"
     ]
    },
    {
     "name": "stderr",
     "output_type": "stream",
     "text": [
      "Epoch:  40%|██████████████████████████████▊                                              | 8/20 [00:00<00:00, 77.18it/s]"
     ]
    },
    {
     "name": "stdout",
     "output_type": "stream",
     "text": [
      "Group 0\n",
      "At round 148 accuracy: 0.8507853403141361\n",
      "At round 148 training accuracy: 0.8448916408668731\n",
      "At round 148 training loss: 0.4161197856852883\n",
      "Group 1\n",
      "At round 148 accuracy: 0.7982456140350878\n",
      "At round 148 training accuracy: 0.7806563039723662\n",
      "At round 148 training loss: 0.5826590643079376\n",
      "Group 2\n",
      "At round 148 accuracy: 0.8575342465753425\n",
      "At round 148 training accuracy: 0.8563236699585856\n",
      "At round 148 training loss: 0.4107244560894369\n",
      "Group 3\n",
      "At round 148 accuracy: 0.8689788053949904\n",
      "At round 148 training accuracy: 0.8751668891855807\n",
      "At round 148 training loss: 0.5428624501759389\n",
      "Group 4\n",
      "At round 148 accuracy: 0.8354430379746836\n",
      "At round 148 training accuracy: 0.8358993616222306\n",
      "At round 148 training loss: 0.4497897465717869\n",
      "At round 148 mean test accuracy: 0.8451143451143451 mean train accuracy: 0.8425796236526399\n",
      "The groups difference are: [20.61804033 20.69545607 20.8169606  21.25762163 20.519234  ]\n",
      "Begin group  0 training\n"
     ]
    },
    {
     "name": "stderr",
     "output_type": "stream",
     "text": [
      "Epoch:   0%|                                                                                     | 0/20 [00:00<?, ?it/s]"
     ]
    },
    {
     "name": "stdout",
     "output_type": "stream",
     "text": [
      "Begin group  1 training\n"
     ]
    },
    {
     "name": "stderr",
     "output_type": "stream",
     "text": [
      "Epoch:  35%|██████████████████████████▉                                                  | 7/20 [00:00<00:00, 69.56it/s]"
     ]
    },
    {
     "name": "stdout",
     "output_type": "stream",
     "text": [
      "Begin group  2 training\n"
     ]
    },
    {
     "name": "stderr",
     "output_type": "stream",
     "text": [
      "Epoch:   0%|                                                                                     | 0/20 [00:00<?, ?it/s]"
     ]
    },
    {
     "name": "stdout",
     "output_type": "stream",
     "text": [
      "Begin group  3 training\n"
     ]
    },
    {
     "name": "stderr",
     "output_type": "stream",
     "text": [
      "Epoch:  35%|██████████████████████████▉                                                  | 7/20 [00:00<00:00, 64.96it/s]"
     ]
    },
    {
     "name": "stdout",
     "output_type": "stream",
     "text": [
      "Begin group  4 training\n"
     ]
    },
    {
     "name": "stderr",
     "output_type": "stream",
     "text": [
      "                                                                                                                        \r"
     ]
    },
    {
     "name": "stdout",
     "output_type": "stream",
     "text": [
      "Group 0, clients ['f_00013', 'f_00063', 'f_00074']\n",
      "Group 1, clients ['f_00058', 'f_00107']\n",
      "Group 2, clients ['f_00180', 'f_00110', 'f_00089', 'f_00090']\n",
      "Group 3, clients ['f_00061', 'f_00091', 'f_00182', 'f_00071', 'f_00022', 'f_00052', 'f_00141', 'f_00062']\n",
      "Group 4, clients ['f_00026', 'f_00135', 'f_00186']\n"
     ]
    },
    {
     "name": "stderr",
     "output_type": "stream",
     "text": [
      "Epoch:   0%|                                                                                     | 0/20 [00:00<?, ?it/s]"
     ]
    },
    {
     "name": "stdout",
     "output_type": "stream",
     "text": [
      "Group 0\n",
      "At round 149 accuracy: 0.8455497382198953\n",
      "At round 149 training accuracy: 0.8455108359133127\n",
      "At round 149 training loss: 0.42546258857906233\n",
      "Group 1\n",
      "At round 149 accuracy: 0.7690058479532164\n",
      "At round 149 training accuracy: 0.7523316062176166\n",
      "At round 149 training loss: 0.6634550537727452\n",
      "Group 2\n",
      "At round 149 accuracy: 0.8383561643835616\n",
      "At round 149 training accuracy: 0.8273335457151959\n",
      "At round 149 training loss: 0.45156717777499045\n",
      "Group 3\n",
      "At round 149 accuracy: 0.8554913294797688\n",
      "At round 149 training accuracy: 0.8600356030262573\n",
      "At round 149 training loss: 0.4448193064167545\n",
      "Group 4\n",
      "At round 149 accuracy: 0.8291139240506329\n",
      "At round 149 training accuracy: 0.8317686819376643\n",
      "At round 149 training loss: 0.5026721581536892\n",
      "At round 149 mean test accuracy: 0.8305613305613305 mean train accuracy: 0.8273552158821021\n",
      "The groups difference are: [20.61055406 20.68132594 20.80303108 21.23335433 20.51551532]\n",
      "Begin group  0 training\n"
     ]
    },
    {
     "name": "stderr",
     "output_type": "stream",
     "text": [
      "Epoch:  65%|████████████████████████████████████████████████▊                          | 13/20 [00:00<00:00, 120.16it/s]"
     ]
    },
    {
     "name": "stdout",
     "output_type": "stream",
     "text": [
      "Begin group  1 training\n"
     ]
    },
    {
     "name": "stderr",
     "output_type": "stream",
     "text": [
      "Epoch:  25%|███████████████████▎                                                         | 5/20 [00:00<00:00, 47.25it/s]"
     ]
    },
    {
     "name": "stdout",
     "output_type": "stream",
     "text": [
      "Begin group  2 training\n"
     ]
    },
    {
     "name": "stderr",
     "output_type": "stream",
     "text": [
      "Epoch:  35%|██████████████████████████▉                                                  | 7/20 [00:00<00:00, 63.27it/s]"
     ]
    },
    {
     "name": "stdout",
     "output_type": "stream",
     "text": [
      "Begin group  3 training\n"
     ]
    },
    {
     "name": "stderr",
     "output_type": "stream",
     "text": [
      "Epoch:   0%|                                                                                     | 0/20 [00:00<?, ?it/s]"
     ]
    },
    {
     "name": "stdout",
     "output_type": "stream",
     "text": [
      "Begin group  4 training\n"
     ]
    },
    {
     "name": "stderr",
     "output_type": "stream",
     "text": [
      "                                                                                                                        \r"
     ]
    },
    {
     "name": "stdout",
     "output_type": "stream",
     "text": [
      "Group 0, clients ['f_00194', 'f_00184', 'f_00013', 'f_00033', 'f_00084', 'f_00133']\n",
      "Group 1, clients ['f_00087', 'f_00168', 'f_00008', 'f_00058']\n",
      "Group 2, clients ['f_00070', 'f_00009', 'f_00119']\n",
      "Group 3, clients ['f_00072', 'f_00042', 'f_00091']\n",
      "Group 4, clients ['f_00085', 'f_00036', 'f_00056', 'f_00066']\n"
     ]
    },
    {
     "name": "stderr",
     "output_type": "stream",
     "text": [
      "Epoch:  35%|██████████████████████████▉                                                  | 7/20 [00:00<00:00, 65.30it/s]"
     ]
    },
    {
     "name": "stdout",
     "output_type": "stream",
     "text": [
      "Group 0\n",
      "At round 150 accuracy: 0.8664921465968587\n",
      "At round 150 training accuracy: 0.8724458204334365\n",
      "At round 150 training loss: 0.3174337553396683\n",
      "Group 1\n",
      "At round 150 accuracy: 0.7514619883040936\n",
      "At round 150 training accuracy: 0.783419689119171\n",
      "At round 150 training loss: 0.5845849909776233\n",
      "Group 2\n",
      "At round 150 accuracy: 0.8410958904109589\n",
      "At round 150 training accuracy: 0.8480407773176171\n",
      "At round 150 training loss: 0.4741154176038555\n",
      "Group 3\n",
      "At round 150 accuracy: 0.8689788053949904\n",
      "At round 150 training accuracy: 0.8753894080996885\n",
      "At round 150 training loss: 0.5069729271077505\n",
      "Group 4\n",
      "At round 150 accuracy: 0.8892405063291139\n",
      "At round 150 training accuracy: 0.8963574915508825\n",
      "At round 150 training loss: 0.3272265882038596\n",
      "At round 150 mean test accuracy: 0.8456340956340956 mean train accuracy: 0.856768771694781\n",
      "The groups difference are: [20.70818781 20.79196093 20.92373862 21.40837502 20.62626192]\n",
      "Begin group  0 training\n"
     ]
    },
    {
     "name": "stderr",
     "output_type": "stream",
     "text": [
      "Epoch:  20%|███████████████▍                                                             | 4/20 [00:00<00:00, 30.84it/s]"
     ]
    },
    {
     "name": "stdout",
     "output_type": "stream",
     "text": [
      "Begin group  1 training\n"
     ]
    },
    {
     "name": "stderr",
     "output_type": "stream",
     "text": [
      "Epoch:  25%|███████████████████▎                                                         | 5/20 [00:00<00:00, 45.01it/s]"
     ]
    },
    {
     "name": "stdout",
     "output_type": "stream",
     "text": [
      "Begin group  2 training\n"
     ]
    },
    {
     "name": "stderr",
     "output_type": "stream",
     "text": [
      "                                                                                                                        "
     ]
    },
    {
     "name": "stdout",
     "output_type": "stream",
     "text": [
      "Begin group  3 training\n"
     ]
    },
    {
     "name": "stderr",
     "output_type": "stream",
     "text": [
      "Epoch:   0%|                                                                                     | 0/20 [00:00<?, ?it/s]"
     ]
    },
    {
     "name": "stdout",
     "output_type": "stream",
     "text": [
      "Begin group  4 training\n"
     ]
    },
    {
     "name": "stderr",
     "output_type": "stream",
     "text": [
      "                                                                                                                        \r"
     ]
    },
    {
     "name": "stdout",
     "output_type": "stream",
     "text": [
      "Group 0, clients ['f_00053', 'f_00103', 'f_00153', 'f_00094']\n",
      "Group 1, clients ['f_00007', 'f_00038', 'f_00008', 'f_00177', 'f_00138', 'f_00187']\n",
      "Group 2, clients ['f_00170', 'f_00050']\n",
      "Group 3, clients ['f_00061', 'f_00022', 'f_00142', 'f_00011']\n",
      "Group 4, clients ['f_00166', 'f_00076', 'f_00066', 'f_00156']\n"
     ]
    },
    {
     "name": "stderr",
     "output_type": "stream",
     "text": [
      "Epoch:  15%|███████████▌                                                                 | 3/20 [00:00<00:00, 24.84it/s]"
     ]
    },
    {
     "name": "stdout",
     "output_type": "stream",
     "text": [
      "Group 0\n",
      "At round 151 accuracy: 0.900523560209424\n",
      "At round 151 training accuracy: 0.9\n",
      "At round 151 training loss: 0.2700144631574767\n",
      "Group 1\n",
      "At round 151 accuracy: 0.7543859649122807\n",
      "At round 151 training accuracy: 0.7747841105354059\n",
      "At round 151 training loss: 0.8279721722907559\n",
      "Group 2\n",
      "At round 151 accuracy: 0.852054794520548\n",
      "At round 151 training accuracy: 0.8410321758521823\n",
      "At round 151 training loss: 0.42760951918623713\n",
      "Group 3\n",
      "At round 151 accuracy: 0.815028901734104\n",
      "At round 151 training accuracy: 0.8208722741433022\n",
      "At round 151 training loss: 0.42537307851663103\n",
      "Group 4\n",
      "At round 151 accuracy: 0.8227848101265823\n",
      "At round 151 training accuracy: 0.8542996620352985\n",
      "At round 151 training loss: 0.38864979307946074\n",
      "At round 151 mean test accuracy: 0.8295218295218295 mean train accuracy: 0.8375860179039035\n",
      "The groups difference are: [20.73898276 20.83717653 20.95873656 21.42340039 20.64861813]\n",
      "Begin group  0 training\n"
     ]
    },
    {
     "name": "stderr",
     "output_type": "stream",
     "text": [
      "Epoch:   0%|                                                                                     | 0/20 [00:00<?, ?it/s]"
     ]
    },
    {
     "name": "stdout",
     "output_type": "stream",
     "text": [
      "Begin group  1 training\n"
     ]
    },
    {
     "name": "stderr",
     "output_type": "stream",
     "text": [
      "Epoch:   0%|                                                                                     | 0/20 [00:00<?, ?it/s]"
     ]
    },
    {
     "name": "stdout",
     "output_type": "stream",
     "text": [
      "Begin group  2 training\n",
      "Begin group  3 training\n"
     ]
    },
    {
     "name": "stderr",
     "output_type": "stream",
     "text": [
      "Epoch:  25%|███████████████████▎                                                         | 5/20 [00:00<00:00, 45.05it/s]"
     ]
    },
    {
     "name": "stdout",
     "output_type": "stream",
     "text": [
      "Begin group  4 training\n"
     ]
    },
    {
     "name": "stderr",
     "output_type": "stream",
     "text": [
      "                                                                                                                        \r"
     ]
    },
    {
     "name": "stdout",
     "output_type": "stream",
     "text": [
      "Group 0, clients ['f_00063', 'f_00133', 'f_00003', 'f_00144']\n",
      "Group 1, clients ['f_00088', 'f_00078', 'f_00167']\n",
      "Group 2, clients ['f_00099', 'f_00010']\n",
      "Group 3, clients ['f_00102', 'f_00191', 'f_00052', 'f_00021', 'f_00141', 'f_00192']\n",
      "Group 4, clients ['f_00156', 'f_00076', 'f_00116', 'f_00115', 'f_00085']\n"
     ]
    },
    {
     "name": "stderr",
     "output_type": "stream",
     "text": [
      "Epoch:   0%|                                                                                     | 0/20 [00:00<?, ?it/s]"
     ]
    },
    {
     "name": "stdout",
     "output_type": "stream",
     "text": [
      "Group 0\n",
      "At round 152 accuracy: 0.8481675392670157\n",
      "At round 152 training accuracy: 0.8486068111455108\n",
      "At round 152 training loss: 0.45647082306882913\n",
      "Group 1\n",
      "At round 152 accuracy: 0.7573099415204678\n",
      "At round 152 training accuracy: 0.7806563039723662\n",
      "At round 152 training loss: 0.6459243714860889\n",
      "Group 2\n",
      "At round 152 accuracy: 0.8547945205479452\n",
      "At round 152 training accuracy: 0.8588722523096528\n",
      "At round 152 training loss: 0.4288740966346811\n",
      "Group 3\n",
      "At round 152 accuracy: 0.8574181117533719\n",
      "At round 152 training accuracy: 0.8709390298175345\n",
      "At round 152 training loss: 0.3187197210506752\n",
      "Group 4\n",
      "At round 152 accuracy: 0.7879746835443038\n",
      "At round 152 training accuracy: 0.7897108524220804\n",
      "At round 152 training loss: 0.7292196217391372\n",
      "At round 152 mean test accuracy: 0.8258835758835759 mean train accuracy: 0.8351501126606174\n",
      "The groups difference are: [20.75316068 20.82909795 20.94518944 21.40201125 20.65377052]\n",
      "Begin group  0 training\n"
     ]
    },
    {
     "name": "stderr",
     "output_type": "stream",
     "text": [
      "Epoch:   0%|                                                                                     | 0/20 [00:00<?, ?it/s]"
     ]
    },
    {
     "name": "stdout",
     "output_type": "stream",
     "text": [
      "Begin group  1 training\n"
     ]
    },
    {
     "name": "stderr",
     "output_type": "stream",
     "text": [
      "Epoch:   0%|                                                                                     | 0/20 [00:00<?, ?it/s]"
     ]
    },
    {
     "name": "stdout",
     "output_type": "stream",
     "text": [
      "Begin group  2 training\n"
     ]
    },
    {
     "name": "stderr",
     "output_type": "stream",
     "text": [
      "Epoch:  30%|███████████████████████                                                      | 6/20 [00:00<00:00, 55.37it/s]"
     ]
    },
    {
     "name": "stdout",
     "output_type": "stream",
     "text": [
      "Begin group  3 training\n"
     ]
    },
    {
     "name": "stderr",
     "output_type": "stream",
     "text": [
      "Epoch:   0%|                                                                                     | 0/20 [00:00<?, ?it/s]"
     ]
    },
    {
     "name": "stdout",
     "output_type": "stream",
     "text": [
      "Begin group  4 training\n"
     ]
    },
    {
     "name": "stderr",
     "output_type": "stream",
     "text": [
      "                                                                                                                        \r"
     ]
    },
    {
     "name": "stdout",
     "output_type": "stream",
     "text": [
      "Group 0, clients ['f_00023', 'f_00074', 'f_00004']\n",
      "Group 1, clients ['f_00048', 'f_00198', 'f_00127', 'f_00077']\n",
      "Group 2, clients ['f_00029', 'f_00020', 'f_00060', 'f_00160', 'f_00039']\n",
      "Group 3, clients ['f_00071', 'f_00162', 'f_00101', 'f_00001']\n",
      "Group 4, clients ['f_00015', 'f_00016', 'f_00056', 'f_00125']\n"
     ]
    },
    {
     "name": "stderr",
     "output_type": "stream",
     "text": [
      "Epoch:  45%|██████████████████████████████████▋                                          | 9/20 [00:00<00:00, 82.50it/s]"
     ]
    },
    {
     "name": "stdout",
     "output_type": "stream",
     "text": [
      "Group 0\n",
      "At round 153 accuracy: 0.8743455497382199\n",
      "At round 153 training accuracy: 0.8888544891640867\n",
      "At round 153 training loss: 0.29336217412315657\n",
      "Group 1\n",
      "At round 153 accuracy: 0.8304093567251462\n",
      "At round 153 training accuracy: 0.842832469775475\n",
      "At round 153 training loss: 0.4736553318862882\n",
      "Group 2\n",
      "At round 153 accuracy: 0.8273972602739726\n",
      "At round 153 training accuracy: 0.8378464479133482\n",
      "At round 153 training loss: 0.4771113385104875\n",
      "Group 3\n",
      "At round 153 accuracy: 0.8631984585741811\n",
      "At round 153 training accuracy: 0.8722741433021807\n",
      "At round 153 training loss: 0.32648331836416394\n",
      "Group 4\n",
      "At round 153 accuracy: 0.7753164556962026\n",
      "At round 153 training accuracy: 0.7987232444611341\n",
      "At round 153 training loss: 0.5615523522688265\n",
      "At round 153 mean test accuracy: 0.8383575883575883 mean train accuracy: 0.8518360635771268\n",
      "The groups difference are: [20.73078291 20.81268075 20.94606179 21.38582193 20.64970709]\n",
      "Begin group  0 training\n"
     ]
    },
    {
     "name": "stderr",
     "output_type": "stream",
     "text": [
      "Epoch:   0%|                                                                                     | 0/20 [00:00<?, ?it/s]"
     ]
    },
    {
     "name": "stdout",
     "output_type": "stream",
     "text": [
      "Begin group  1 training\n"
     ]
    },
    {
     "name": "stderr",
     "output_type": "stream",
     "text": [
      "Epoch:   0%|                                                                                     | 0/20 [00:00<?, ?it/s]"
     ]
    },
    {
     "name": "stdout",
     "output_type": "stream",
     "text": [
      "Begin group  2 training\n"
     ]
    },
    {
     "name": "stderr",
     "output_type": "stream",
     "text": [
      "Epoch:   0%|                                                                                     | 0/20 [00:00<?, ?it/s]"
     ]
    },
    {
     "name": "stdout",
     "output_type": "stream",
     "text": [
      "Begin group  3 training\n"
     ]
    },
    {
     "name": "stderr",
     "output_type": "stream",
     "text": [
      "Epoch:  45%|██████████████████████████████████▋                                          | 9/20 [00:00<00:00, 85.05it/s]"
     ]
    },
    {
     "name": "stdout",
     "output_type": "stream",
     "text": [
      "Begin group  4 training\n"
     ]
    },
    {
     "name": "stderr",
     "output_type": "stream",
     "text": [
      "                                                                                                                        \r"
     ]
    },
    {
     "name": "stdout",
     "output_type": "stream",
     "text": [
      "Group 0, clients ['f_00123', 'f_00163', 'f_00134', 'f_00013']\n",
      "Group 1, clients ['f_00157', 'f_00058', 'f_00107', 'f_00188', 'f_00077', 'f_00187', 'f_00097', 'f_00118']\n",
      "Group 2, clients ['f_00040']\n",
      "Group 3, clients ['f_00092', 'f_00101', 'f_00162']\n",
      "Group 4, clients ['f_00155', 'f_00095', 'f_00076', 'f_00065']\n"
     ]
    },
    {
     "name": "stderr",
     "output_type": "stream",
     "text": [
      "Epoch:  20%|███████████████▍                                                             | 4/20 [00:00<00:00, 38.11it/s]"
     ]
    },
    {
     "name": "stdout",
     "output_type": "stream",
     "text": [
      "Group 0\n",
      "At round 154 accuracy: 0.8795811518324608\n",
      "At round 154 training accuracy: 0.9089783281733747\n",
      "At round 154 training loss: 0.24493042418600605\n",
      "Group 1\n",
      "At round 154 accuracy: 0.8538011695906432\n",
      "At round 154 training accuracy: 0.8476683937823835\n",
      "At round 154 training loss: 0.45500073614618736\n",
      "Group 2\n",
      "At round 154 accuracy: 0.8602739726027397\n",
      "At round 154 training accuracy: 0.858235106721886\n",
      "At round 154 training loss: 0.5015239736249812\n",
      "Group 3\n",
      "At round 154 accuracy: 0.8497109826589595\n",
      "At round 154 training accuracy: 0.855807743658211\n",
      "At round 154 training loss: 0.40907102336167867\n",
      "Group 4\n",
      "At round 154 accuracy: 0.8607594936708861\n",
      "At round 154 training accuracy: 0.8640630867442733\n",
      "At round 154 training loss: 0.3532239059465432\n",
      "At round 154 mean test accuracy: 0.8601871101871101 mean train accuracy: 0.8666341879300895\n",
      "The groups difference are: [20.71988523 20.80222621 20.95161419 21.3591016  20.64317245]\n",
      "Begin group  0 training\n"
     ]
    },
    {
     "name": "stderr",
     "output_type": "stream",
     "text": [
      "Epoch:   0%|                                                                                     | 0/20 [00:00<?, ?it/s]"
     ]
    },
    {
     "name": "stdout",
     "output_type": "stream",
     "text": [
      "Begin group  1 training\n"
     ]
    },
    {
     "name": "stderr",
     "output_type": "stream",
     "text": [
      "Epoch:   0%|                                                                                     | 0/20 [00:00<?, ?it/s]"
     ]
    },
    {
     "name": "stdout",
     "output_type": "stream",
     "text": [
      "Begin group  2 training\n",
      "Begin group  3 training\n"
     ]
    },
    {
     "name": "stderr",
     "output_type": "stream",
     "text": [
      "Epoch:   0%|                                                                                     | 0/20 [00:00<?, ?it/s]"
     ]
    },
    {
     "name": "stdout",
     "output_type": "stream",
     "text": [
      "Begin group  4 training\n"
     ]
    },
    {
     "name": "stderr",
     "output_type": "stream",
     "text": [
      "                                                                                                                        \r"
     ]
    },
    {
     "name": "stdout",
     "output_type": "stream",
     "text": [
      "Group 0, clients ['f_00183', 'f_00083']\n",
      "Group 1, clients ['f_00169', 'f_00077', 'f_00048', 'f_00157', 'f_00007', 'f_00127']\n",
      "Group 2, clients ['f_00199', 'f_00130', 'f_00060', 'f_00099']\n",
      "Group 3, clients ['f_00022']\n",
      "Group 4, clients ['f_00166', 'f_00125', 'f_00045', 'f_00155', 'f_00065', 'f_00076', 'f_00035']\n"
     ]
    },
    {
     "name": "stderr",
     "output_type": "stream",
     "text": [
      "                                                                                                                        "
     ]
    },
    {
     "name": "stdout",
     "output_type": "stream",
     "text": [
      "Group 0\n",
      "At round 155 accuracy: 0.8429319371727748\n",
      "At round 155 training accuracy: 0.8436532507739938\n",
      "At round 155 training loss: 0.43469559687994214\n",
      "Group 1\n",
      "At round 155 accuracy: 0.8128654970760234\n",
      "At round 155 training accuracy: 0.7875647668393783\n",
      "At round 155 training loss: 0.5463566440065908\n",
      "Group 2\n",
      "At round 155 accuracy: 0.7506849315068493\n",
      "At round 155 training accuracy: 0.7852819369225869\n",
      "At round 155 training loss: 0.6058061771158885\n",
      "Group 3\n",
      "At round 155 accuracy: 0.884393063583815\n",
      "At round 155 training accuracy: 0.894971072541166\n",
      "At round 155 training loss: 0.2727317816159648\n",
      "Group 4\n",
      "At round 155 accuracy: 0.8037974683544303\n",
      "At round 155 training accuracy: 0.8261359369132557\n",
      "At round 155 training loss: 0.4728730629809226\n",
      "At round 155 mean test accuracy: 0.8248440748440748 mean train accuracy: 0.8338103647768101\n",
      "The groups difference are: [20.72046232 20.79510523 20.93468766 21.33784391 20.64454559]\n",
      "Begin group  0 training\n"
     ]
    },
    {
     "name": "stderr",
     "output_type": "stream",
     "text": [
      "Epoch:   0%|                                                                                     | 0/20 [00:00<?, ?it/s]"
     ]
    },
    {
     "name": "stdout",
     "output_type": "stream",
     "text": [
      "Begin group  1 training\n"
     ]
    },
    {
     "name": "stderr",
     "output_type": "stream",
     "text": [
      "Epoch:  35%|██████████████████████████▉                                                  | 7/20 [00:00<00:00, 67.49it/s]"
     ]
    },
    {
     "name": "stdout",
     "output_type": "stream",
     "text": [
      "Begin group  2 training\n"
     ]
    },
    {
     "name": "stderr",
     "output_type": "stream",
     "text": [
      "Epoch:   0%|                                                                                     | 0/20 [00:00<?, ?it/s]"
     ]
    },
    {
     "name": "stdout",
     "output_type": "stream",
     "text": [
      "Begin group  3 training\n",
      "Begin group  4 training\n"
     ]
    },
    {
     "name": "stderr",
     "output_type": "stream",
     "text": [
      "                                                                                                                        \r"
     ]
    },
    {
     "name": "stdout",
     "output_type": "stream",
     "text": [
      "Group 0, clients ['f_00144', 'f_00003']\n",
      "Group 1, clients ['f_00077', 'f_00068', 'f_00018']\n",
      "Group 2, clients ['f_00009', 'f_00000', 'f_00030', 'f_00050', 'f_00099', 'f_00049', 'f_00149', 'f_00019']\n",
      "Group 3, clients ['f_00051', 'f_00161', 'f_00072', 'f_00141', 'f_00132']\n",
      "Group 4, clients ['f_00185', 'f_00196']\n"
     ]
    },
    {
     "name": "stderr",
     "output_type": "stream",
     "text": [
      "Epoch:   0%|                                                                                     | 0/20 [00:00<?, ?it/s]"
     ]
    },
    {
     "name": "stdout",
     "output_type": "stream",
     "text": [
      "Group 0\n",
      "At round 156 accuracy: 0.8272251308900523\n",
      "At round 156 training accuracy: 0.8250773993808049\n",
      "At round 156 training loss: 0.4951491613125561\n",
      "Group 1\n",
      "At round 156 accuracy: 0.7865497076023392\n",
      "At round 156 training accuracy: 0.8269430051813471\n",
      "At round 156 training loss: 0.5036580264413912\n",
      "Group 2\n",
      "At round 156 accuracy: 0.7917808219178082\n",
      "At round 156 training accuracy: 0.7859190825103536\n",
      "At round 156 training loss: 0.5545514893521356\n",
      "Group 3\n",
      "At round 156 accuracy: 0.8863198458574181\n",
      "At round 156 training accuracy: 0.8902981753449043\n",
      "At round 156 training loss: 0.2921688418270059\n",
      "Group 4\n",
      "At round 156 accuracy: 0.8575949367088608\n",
      "At round 156 training accuracy: 0.878332707472775\n",
      "At round 156 training loss: 0.33237730611816546\n",
      "At round 156 mean test accuracy: 0.8341995841995842 mean train accuracy: 0.8444065525851044\n",
      "The groups difference are: [20.67512629 20.74693607 20.90273836 21.29244473 20.61317475]\n",
      "Begin group  0 training\n",
      "Begin group  1 training\n"
     ]
    },
    {
     "name": "stderr",
     "output_type": "stream",
     "text": [
      "Epoch:   0%|                                                                                     | 0/20 [00:00<?, ?it/s]"
     ]
    },
    {
     "name": "stdout",
     "output_type": "stream",
     "text": [
      "Begin group  2 training\n"
     ]
    },
    {
     "name": "stderr",
     "output_type": "stream",
     "text": [
      "Epoch:   0%|                                                                                     | 0/20 [00:00<?, ?it/s]"
     ]
    },
    {
     "name": "stdout",
     "output_type": "stream",
     "text": [
      "Begin group  3 training\n"
     ]
    },
    {
     "name": "stderr",
     "output_type": "stream",
     "text": [
      "Epoch:   0%|                                                                                     | 0/20 [00:00<?, ?it/s]"
     ]
    },
    {
     "name": "stdout",
     "output_type": "stream",
     "text": [
      "Begin group  4 training\n"
     ]
    },
    {
     "name": "stderr",
     "output_type": "stream",
     "text": [
      "                                                                                                                        \r"
     ]
    },
    {
     "name": "stdout",
     "output_type": "stream",
     "text": [
      "Group 0, clients ['f_00144', 'f_00123', 'f_00094', 'f_00103', 'f_00033']\n",
      "Group 1, clients ['f_00178', 'f_00087', 'f_00127']\n",
      "Group 2, clients ['f_00120', 'f_00039', 'f_00040', 'f_00060', 'f_00199']\n",
      "Group 3, clients ['f_00012', 'f_00052', 'f_00072', 'f_00151', 'f_00171']\n",
      "Group 4, clients ['f_00055', 'f_00155']\n"
     ]
    },
    {
     "name": "stderr",
     "output_type": "stream",
     "text": [
      "Epoch:   0%|                                                                                     | 0/20 [00:00<?, ?it/s]"
     ]
    },
    {
     "name": "stdout",
     "output_type": "stream",
     "text": [
      "Group 0\n",
      "At round 157 accuracy: 0.9319371727748691\n",
      "At round 157 training accuracy: 0.9396284829721362\n",
      "At round 157 training loss: 0.2339495150666488\n",
      "Group 1\n",
      "At round 157 accuracy: 0.8157894736842105\n",
      "At round 157 training accuracy: 0.7758203799654577\n",
      "At round 157 training loss: 0.5882760035610776\n",
      "Group 2\n",
      "At round 157 accuracy: 0.8602739726027397\n",
      "At round 157 training accuracy: 0.8448550493787831\n",
      "At round 157 training loss: 0.42103505350101067\n",
      "Group 3\n",
      "At round 157 accuracy: 0.8747591522157996\n",
      "At round 157 training accuracy: 0.8902981753449043\n",
      "At round 157 training loss: 0.285242805851795\n",
      "Group 4\n",
      "At round 157 accuracy: 0.9050632911392406\n",
      "At round 157 training accuracy: 0.9095005632745025\n",
      "At round 157 training loss: 0.26879238457304616\n",
      "At round 157 mean test accuracy: 0.8778586278586279 mean train accuracy: 0.8742463918153583\n",
      "The groups difference are: [20.6180908  20.69978201 20.84379628 21.23432804 20.56094499]\n",
      "Begin group  0 training\n"
     ]
    },
    {
     "name": "stderr",
     "output_type": "stream",
     "text": [
      "Epoch:   0%|                                                                                     | 0/20 [00:00<?, ?it/s]"
     ]
    },
    {
     "name": "stdout",
     "output_type": "stream",
     "text": [
      "Begin group  1 training\n"
     ]
    },
    {
     "name": "stderr",
     "output_type": "stream",
     "text": [
      "Epoch:   0%|                                                                                     | 0/20 [00:00<?, ?it/s]"
     ]
    },
    {
     "name": "stdout",
     "output_type": "stream",
     "text": [
      "Begin group  2 training\n"
     ]
    },
    {
     "name": "stderr",
     "output_type": "stream",
     "text": [
      "Epoch:  25%|███████████████████▎                                                         | 5/20 [00:00<00:00, 45.89it/s]"
     ]
    },
    {
     "name": "stdout",
     "output_type": "stream",
     "text": [
      "Begin group  3 training\n"
     ]
    },
    {
     "name": "stderr",
     "output_type": "stream",
     "text": [
      "                                                                                                                        \r"
     ]
    },
    {
     "name": "stdout",
     "output_type": "stream",
     "text": [
      "Begin group  4 training\n",
      "Group 0, clients ['f_00023', 'f_00003']\n",
      "Group 1, clients ['f_00077', 'f_00128', 'f_00176']\n",
      "Group 2, clients ['f_00190', 'f_00149', 'f_00070', 'f_00019']\n",
      "Group 3, clients ['f_00102', 'f_00162', 'f_00052', 'f_00161', 'f_00172']\n",
      "Group 4, clients ['f_00196', 'f_00185', 'f_00105', 'f_00126', 'f_00096', 'f_00015']\n"
     ]
    },
    {
     "name": "stderr",
     "output_type": "stream",
     "text": [
      "Epoch:  35%|██████████████████████████▉                                                  | 7/20 [00:00<00:00, 68.16it/s]"
     ]
    },
    {
     "name": "stdout",
     "output_type": "stream",
     "text": [
      "Group 0\n",
      "At round 158 accuracy: 0.8455497382198953\n",
      "At round 158 training accuracy: 0.8588235294117647\n",
      "At round 158 training loss: 0.35254458371930447\n",
      "Group 1\n",
      "At round 158 accuracy: 0.7514619883040936\n",
      "At round 158 training accuracy: 0.7775474956822107\n",
      "At round 158 training loss: 0.7789482343742473\n",
      "Group 2\n",
      "At round 158 accuracy: 0.852054794520548\n",
      "At round 158 training accuracy: 0.8302007008601465\n",
      "At round 158 training loss: 0.42682992546145954\n",
      "Group 3\n",
      "At round 158 accuracy: 0.8689788053949904\n",
      "At round 158 training accuracy: 0.8785046728971962\n",
      "At round 158 training loss: 0.30675345092255857\n",
      "Group 4\n",
      "At round 158 accuracy: 0.8829113924050633\n",
      "At round 158 training accuracy: 0.8926023282012767\n",
      "At round 158 training loss: 0.3106285630929215\n",
      "At round 158 mean test accuracy: 0.8425155925155925 mean train accuracy: 0.849887339382498\n",
      "The groups difference are: [20.64128145 20.73884069 20.86706152 21.24544275 20.56723699]\n",
      "Begin group  0 training\n"
     ]
    },
    {
     "name": "stderr",
     "output_type": "stream",
     "text": [
      "Epoch:   0%|                                                                                     | 0/20 [00:00<?, ?it/s]"
     ]
    },
    {
     "name": "stdout",
     "output_type": "stream",
     "text": [
      "Begin group  1 training\n"
     ]
    },
    {
     "name": "stderr",
     "output_type": "stream",
     "text": [
      "Epoch:   0%|                                                                                     | 0/20 [00:00<?, ?it/s]"
     ]
    },
    {
     "name": "stdout",
     "output_type": "stream",
     "text": [
      "Begin group  2 training\n"
     ]
    },
    {
     "name": "stderr",
     "output_type": "stream",
     "text": [
      "Epoch:  25%|███████████████████▎                                                         | 5/20 [00:00<00:00, 40.91it/s]"
     ]
    },
    {
     "name": "stdout",
     "output_type": "stream",
     "text": [
      "Begin group  3 training\n"
     ]
    },
    {
     "name": "stderr",
     "output_type": "stream",
     "text": [
      "Epoch:   0%|                                                                                     | 0/20 [00:00<?, ?it/s]"
     ]
    },
    {
     "name": "stdout",
     "output_type": "stream",
     "text": [
      "Begin group  4 training\n"
     ]
    },
    {
     "name": "stderr",
     "output_type": "stream",
     "text": [
      "                                                                                                                        \r"
     ]
    },
    {
     "name": "stdout",
     "output_type": "stream",
     "text": [
      "Group 0, clients ['f_00004', 'f_00014', 'f_00184']\n",
      "Group 1, clients ['f_00097', 'f_00128', 'f_00176', 'f_00147', 'f_00038']\n",
      "Group 2, clients ['f_00100', 'f_00020']\n",
      "Group 3, clients ['f_00061', 'f_00131', 'f_00162', 'f_00022', 'f_00151', 'f_00041', 'f_00012']\n",
      "Group 4, clients ['f_00026', 'f_00165', 'f_00116']\n"
     ]
    },
    {
     "name": "stderr",
     "output_type": "stream",
     "text": [
      "Epoch:   0%|                                                                                     | 0/20 [00:00<?, ?it/s]"
     ]
    },
    {
     "name": "stdout",
     "output_type": "stream",
     "text": [
      "Group 0\n",
      "At round 159 accuracy: 0.819371727748691\n",
      "At round 159 training accuracy: 0.8250773993808049\n",
      "At round 159 training loss: 0.5425099487678832\n",
      "Group 1\n",
      "At round 159 accuracy: 0.7339181286549707\n",
      "At round 159 training accuracy: 0.740587219343696\n",
      "At round 159 training loss: 0.7379947798394169\n",
      "Group 2\n",
      "At round 159 accuracy: 0.8575342465753425\n",
      "At round 159 training accuracy: 0.8489964956992673\n",
      "At round 159 training loss: 0.402837410616662\n",
      "Group 3\n",
      "At round 159 accuracy: 0.8709055876685935\n",
      "At round 159 training accuracy: 0.8747218513573654\n",
      "At round 159 training loss: 0.3923083532205358\n",
      "Group 4\n",
      "At round 159 accuracy: 0.9082278481012658\n",
      "At round 159 training accuracy: 0.9132557266241081\n",
      "At round 159 training loss: 0.28046147774316027\n",
      "At round 159 mean test accuracy: 0.83991683991684 mean train accuracy: 0.842640521283722\n",
      "The groups difference are: [20.62603579 20.71604321 20.8668811  21.22536788 20.556425  ]\n",
      "Begin group  0 training\n"
     ]
    },
    {
     "name": "stderr",
     "output_type": "stream",
     "text": [
      "Epoch:   0%|                                                                                     | 0/20 [00:00<?, ?it/s]"
     ]
    },
    {
     "name": "stdout",
     "output_type": "stream",
     "text": [
      "Begin group  1 training\n"
     ]
    },
    {
     "name": "stderr",
     "output_type": "stream",
     "text": [
      "Epoch:  35%|██████████████████████████▉                                                  | 7/20 [00:00<00:00, 63.23it/s]"
     ]
    },
    {
     "name": "stdout",
     "output_type": "stream",
     "text": [
      "Begin group  2 training\n"
     ]
    },
    {
     "name": "stderr",
     "output_type": "stream",
     "text": [
      "Epoch:   0%|                                                                                     | 0/20 [00:00<?, ?it/s]"
     ]
    },
    {
     "name": "stdout",
     "output_type": "stream",
     "text": [
      "Begin group  3 training\n"
     ]
    },
    {
     "name": "stderr",
     "output_type": "stream",
     "text": [
      "Epoch:  55%|█████████████████████████████████████████▎                                 | 11/20 [00:00<00:00, 101.05it/s]"
     ]
    },
    {
     "name": "stdout",
     "output_type": "stream",
     "text": [
      "Begin group  4 training\n"
     ]
    },
    {
     "name": "stderr",
     "output_type": "stream",
     "text": [
      "                                                                                                                        \r"
     ]
    },
    {
     "name": "stdout",
     "output_type": "stream",
     "text": [
      "Group 0, clients ['f_00064', 'f_00054', 'f_00184']\n",
      "Group 1, clients ['f_00148', 'f_00178', 'f_00198', 'f_00057', 'f_00058']\n",
      "Group 2, clients ['f_00149', 'f_00000', 'f_00139', 'f_00079']\n",
      "Group 3, clients ['f_00142', 'f_00082', 'f_00081', 'f_00141', 'f_00021']\n",
      "Group 4, clients ['f_00196', 'f_00106', 'f_00115']\n"
     ]
    },
    {
     "name": "stderr",
     "output_type": "stream",
     "text": [
      "Epoch:   0%|                                                                                     | 0/20 [00:00<?, ?it/s]"
     ]
    },
    {
     "name": "stdout",
     "output_type": "stream",
     "text": [
      "Group 0\n",
      "At round 160 accuracy: 0.8586387434554974\n",
      "At round 160 training accuracy: 0.8625386996904024\n",
      "At round 160 training loss: 0.375007415802763\n",
      "Group 1\n",
      "At round 160 accuracy: 0.8362573099415205\n",
      "At round 160 training accuracy: 0.8469775474956822\n",
      "At round 160 training loss: 0.45177918774991044\n",
      "Group 2\n",
      "At round 160 accuracy: 0.8438356164383561\n",
      "At round 160 training accuracy: 0.8489964956992673\n",
      "At round 160 training loss: 0.5340041160611979\n",
      "Group 3\n",
      "At round 160 accuracy: 0.8728323699421965\n",
      "At round 160 training accuracy: 0.8838451268357811\n",
      "At round 160 training loss: 0.3058294037387644\n",
      "Group 4\n",
      "At round 160 accuracy: 0.8955696202531646\n",
      "At round 160 training accuracy: 0.9211415696582801\n",
      "At round 160 training loss: 0.28120557470313595\n",
      "At round 160 mean test accuracy: 0.8617463617463618 mean train accuracy: 0.8725412581450581\n",
      "The groups difference are: [20.58435268 20.66299599 20.82985234 21.17191811 20.51020793]\n",
      "Begin group  0 training\n"
     ]
    },
    {
     "name": "stderr",
     "output_type": "stream",
     "text": [
      "Epoch:   0%|                                                                                     | 0/20 [00:00<?, ?it/s]"
     ]
    },
    {
     "name": "stdout",
     "output_type": "stream",
     "text": [
      "Begin group  1 training\n"
     ]
    },
    {
     "name": "stderr",
     "output_type": "stream",
     "text": [
      "Epoch:   0%|                                                                                     | 0/20 [00:00<?, ?it/s]"
     ]
    },
    {
     "name": "stdout",
     "output_type": "stream",
     "text": [
      "Begin group  2 training\n"
     ]
    },
    {
     "name": "stderr",
     "output_type": "stream",
     "text": [
      "Epoch:  70%|████████████████████████████████████████████████████▌                      | 14/20 [00:00<00:00, 134.10it/s]"
     ]
    },
    {
     "name": "stdout",
     "output_type": "stream",
     "text": [
      "Begin group  3 training\n"
     ]
    },
    {
     "name": "stderr",
     "output_type": "stream",
     "text": [
      "                                                                                                                        "
     ]
    },
    {
     "name": "stdout",
     "output_type": "stream",
     "text": [
      "Begin group  4 training\n"
     ]
    },
    {
     "name": "stderr",
     "output_type": "stream",
     "text": [
      "\r"
     ]
    },
    {
     "name": "stdout",
     "output_type": "stream",
     "text": [
      "Group 0, clients ['f_00133', 'f_00193', 'f_00184', 'f_00124']\n",
      "Group 1, clients ['f_00097', 'f_00098', 'f_00137', 'f_00068', 'f_00117', 'f_00176']\n",
      "Group 2, clients ['f_00180', 'f_00009', 'f_00039', 'f_00149', 'f_00040']\n",
      "Group 3, clients ['f_00101']\n",
      "Group 4, clients ['f_00055', 'f_00175', 'f_00056', 'f_00075']\n"
     ]
    },
    {
     "name": "stderr",
     "output_type": "stream",
     "text": [
      "Epoch:  75%|████████████████████████████████████████████████████████▎                  | 15/20 [00:00<00:00, 143.74it/s]"
     ]
    },
    {
     "name": "stdout",
     "output_type": "stream",
     "text": [
      "Group 0\n",
      "At round 161 accuracy: 0.8455497382198953\n",
      "At round 161 training accuracy: 0.8393188854489164\n",
      "At round 161 training loss: 0.42657334688278176\n",
      "Group 1\n",
      "At round 161 accuracy: 0.7748538011695907\n",
      "At round 161 training accuracy: 0.7599309153713298\n",
      "At round 161 training loss: 0.6285644914253594\n",
      "Group 2\n",
      "At round 161 accuracy: 0.8246575342465754\n",
      "At round 161 training accuracy: 0.8152277795476266\n",
      "At round 161 training loss: 0.477308074914942\n",
      "Group 3\n",
      "At round 161 accuracy: 0.8747591522157996\n",
      "At round 161 training accuracy: 0.8809523809523809\n",
      "At round 161 training loss: 0.28528424237846906\n",
      "Group 4\n",
      "At round 161 accuracy: 0.8860759493670886\n",
      "At round 161 training accuracy: 0.9121291776192264\n",
      "At round 161 training loss: 0.2800991429065655\n",
      "At round 161 mean test accuracy: 0.8435550935550935 mean train accuracy: 0.8439193715364472\n",
      "The groups difference are: [20.53035178 20.60458664 20.77281935 21.11301119 20.45652455]\n",
      "Begin group  0 training\n"
     ]
    },
    {
     "name": "stderr",
     "output_type": "stream",
     "text": [
      "Epoch:  25%|███████████████████▎                                                         | 5/20 [00:00<00:00, 49.34it/s]"
     ]
    },
    {
     "name": "stdout",
     "output_type": "stream",
     "text": [
      "Begin group  1 training\n"
     ]
    },
    {
     "name": "stderr",
     "output_type": "stream",
     "text": [
      "Epoch:  30%|███████████████████████                                                      | 6/20 [00:00<00:00, 54.67it/s]"
     ]
    },
    {
     "name": "stdout",
     "output_type": "stream",
     "text": [
      "Begin group  2 training\n"
     ]
    },
    {
     "name": "stderr",
     "output_type": "stream",
     "text": [
      "Epoch:   0%|                                                                                     | 0/20 [00:00<?, ?it/s]"
     ]
    },
    {
     "name": "stdout",
     "output_type": "stream",
     "text": [
      "Begin group  3 training\n",
      "Begin group  4 training\n"
     ]
    },
    {
     "name": "stderr",
     "output_type": "stream",
     "text": [
      "                                                                                                                        \r"
     ]
    },
    {
     "name": "stdout",
     "output_type": "stream",
     "text": [
      "Group 0, clients ['f_00184', 'f_00064', 'f_00004']\n",
      "Group 1, clients ['f_00088', 'f_00057', 'f_00018']\n",
      "Group 2, clients ['f_00050', 'f_00180', 'f_00010', 'f_00040', 'f_00060']\n",
      "Group 3, clients ['f_00112', 'f_00152', 'f_00172', 'f_00001', 'f_00121', 'f_00101', 'f_00182']\n",
      "Group 4, clients ['f_00025', 'f_00136']\n"
     ]
    },
    {
     "name": "stderr",
     "output_type": "stream",
     "text": [
      "Epoch:   0%|                                                                                     | 0/20 [00:00<?, ?it/s]"
     ]
    },
    {
     "name": "stdout",
     "output_type": "stream",
     "text": [
      "Group 0\n",
      "At round 162 accuracy: 0.8429319371727748\n",
      "At round 162 training accuracy: 0.839938080495356\n",
      "At round 162 training loss: 0.4239445013942733\n",
      "Group 1\n",
      "At round 162 accuracy: 0.7777777777777778\n",
      "At round 162 training accuracy: 0.7682210708117444\n",
      "At round 162 training loss: 0.6392287403499525\n",
      "Group 2\n",
      "At round 162 accuracy: 0.873972602739726\n",
      "At round 162 training accuracy: 0.8633322714240204\n",
      "At round 162 training loss: 0.35402451734722856\n",
      "Group 3\n",
      "At round 162 accuracy: 0.8188824662813102\n",
      "At round 162 training accuracy: 0.8133066310636404\n",
      "At round 162 training loss: 0.49557934039279417\n",
      "Group 4\n",
      "At round 162 accuracy: 0.8670886075949367\n",
      "At round 162 training accuracy: 0.8614344723995494\n",
      "At round 162 training loss: 0.3620810680513851\n",
      "At round 162 mean test accuracy: 0.8347193347193347 mean train accuracy: 0.8279641921929237\n",
      "The groups difference are: [20.53166492 20.61661338 20.7744536  21.10093737 20.45811207]\n",
      "Begin group  0 training\n"
     ]
    },
    {
     "name": "stderr",
     "output_type": "stream",
     "text": [
      "Epoch:   0%|                                                                                     | 0/20 [00:00<?, ?it/s]"
     ]
    },
    {
     "name": "stdout",
     "output_type": "stream",
     "text": [
      "Begin group  1 training\n",
      "Begin group  2 training\n"
     ]
    },
    {
     "name": "stderr",
     "output_type": "stream",
     "text": [
      "Epoch:   0%|                                                                                     | 0/20 [00:00<?, ?it/s]"
     ]
    },
    {
     "name": "stdout",
     "output_type": "stream",
     "text": [
      "Begin group  3 training\n"
     ]
    },
    {
     "name": "stderr",
     "output_type": "stream",
     "text": [
      "Epoch:   0%|                                                                                     | 0/20 [00:00<?, ?it/s]"
     ]
    },
    {
     "name": "stdout",
     "output_type": "stream",
     "text": [
      "Begin group  4 training\n"
     ]
    },
    {
     "name": "stderr",
     "output_type": "stream",
     "text": [
      "                                                                                                                        \r"
     ]
    },
    {
     "name": "stdout",
     "output_type": "stream",
     "text": [
      "Group 0, clients ['f_00014', 'f_00024', 'f_00063']\n",
      "Group 1, clients ['f_00007', 'f_00058', 'f_00157']\n",
      "Group 2, clients ['f_00020', 'f_00150', 'f_00079']\n",
      "Group 3, clients ['f_00031', 'f_00112', 'f_00092', 'f_00032', 'f_00052', 'f_00082']\n",
      "Group 4, clients ['f_00075', 'f_00166', 'f_00085', 'f_00186', 'f_00036']\n"
     ]
    },
    {
     "name": "stderr",
     "output_type": "stream",
     "text": [
      "Epoch:  35%|██████████████████████████▉                                                  | 7/20 [00:00<00:00, 69.91it/s]"
     ]
    },
    {
     "name": "stdout",
     "output_type": "stream",
     "text": [
      "Group 0\n",
      "At round 163 accuracy: 0.8429319371727748\n",
      "At round 163 training accuracy: 0.8309597523219814\n",
      "At round 163 training loss: 0.4771334990835965\n",
      "Group 1\n",
      "At round 163 accuracy: 0.7953216374269005\n",
      "At round 163 training accuracy: 0.7772020725388601\n",
      "At round 163 training loss: 0.5895558527302454\n",
      "Group 2\n",
      "At round 163 accuracy: 0.8465753424657534\n",
      "At round 163 training accuracy: 0.8505893596686843\n",
      "At round 163 training loss: 0.5408588526245324\n",
      "Group 3\n",
      "At round 163 accuracy: 0.8497109826589595\n",
      "At round 163 training accuracy: 0.8551401869158879\n",
      "At round 163 training loss: 0.3595565317516121\n",
      "Group 4\n",
      "At round 163 accuracy: 0.8386075949367089\n",
      "At round 163 training accuracy: 0.8633120540743522\n",
      "At round 163 training loss: 0.35051040270813777\n",
      "At round 163 mean test accuracy: 0.8362785862785863 mean train accuracy: 0.8370988368552463\n",
      "The groups difference are: [20.51947241 20.60148215 20.7753875  21.08714696 20.45500901]\n",
      "Begin group  0 training\n"
     ]
    },
    {
     "name": "stderr",
     "output_type": "stream",
     "text": [
      "Epoch:   0%|                                                                                     | 0/20 [00:00<?, ?it/s]"
     ]
    },
    {
     "name": "stdout",
     "output_type": "stream",
     "text": [
      "Begin group  1 training\n"
     ]
    },
    {
     "name": "stderr",
     "output_type": "stream",
     "text": [
      "Epoch:   0%|                                                                                     | 0/20 [00:00<?, ?it/s]"
     ]
    },
    {
     "name": "stdout",
     "output_type": "stream",
     "text": [
      "Begin group  2 training\n"
     ]
    },
    {
     "name": "stderr",
     "output_type": "stream",
     "text": [
      "Epoch:   0%|                                                                                     | 0/20 [00:00<?, ?it/s]"
     ]
    },
    {
     "name": "stdout",
     "output_type": "stream",
     "text": [
      "Begin group  3 training\n"
     ]
    },
    {
     "name": "stderr",
     "output_type": "stream",
     "text": [
      "Epoch:  40%|██████████████████████████████▊                                              | 8/20 [00:00<00:00, 79.74it/s]"
     ]
    },
    {
     "name": "stdout",
     "output_type": "stream",
     "text": [
      "Begin group  4 training\n"
     ]
    },
    {
     "name": "stderr",
     "output_type": "stream",
     "text": [
      "                                                                                                                        \r"
     ]
    },
    {
     "name": "stdout",
     "output_type": "stream",
     "text": [
      "Group 0, clients ['f_00174', 'f_00154', 'f_00003', 'f_00194', 'f_00143', 'f_00044', 'f_00074', 'f_00123']\n",
      "Group 1, clients ['f_00176', 'f_00058', 'f_00028', 'f_00197']\n",
      "Group 2, clients ['f_00189', 'f_00060']\n",
      "Group 3, clients ['f_00182', 'f_00122']\n",
      "Group 4, clients ['f_00185', 'f_00175', 'f_00036', 'f_00145']\n"
     ]
    },
    {
     "name": "stderr",
     "output_type": "stream",
     "text": [
      "Epoch:  35%|██████████████████████████▉                                                  | 7/20 [00:00<00:00, 65.33it/s]"
     ]
    },
    {
     "name": "stdout",
     "output_type": "stream",
     "text": [
      "Group 0\n",
      "At round 164 accuracy: 0.8795811518324608\n",
      "At round 164 training accuracy: 0.8829721362229103\n",
      "At round 164 training loss: 0.3084858768680147\n",
      "Group 1\n",
      "At round 164 accuracy: 0.7660818713450293\n",
      "At round 164 training accuracy: 0.7924006908462867\n",
      "At round 164 training loss: 0.556332059382157\n",
      "Group 2\n",
      "At round 164 accuracy: 0.8465753424657534\n",
      "At round 164 training accuracy: 0.8388021662949984\n",
      "At round 164 training loss: 0.414996392030403\n",
      "Group 3\n",
      "At round 164 accuracy: 0.8651252408477842\n",
      "At round 164 training accuracy: 0.87427681352915\n",
      "At round 164 training loss: 0.32135230717118657\n",
      "Group 4\n",
      "At round 164 accuracy: 0.9177215189873418\n",
      "At round 164 training accuracy: 0.923019151333083\n",
      "At round 164 training loss: 0.2770409794133317\n",
      "At round 164 mean test accuracy: 0.8555093555093555 mean train accuracy: 0.8626758419097497\n",
      "The groups difference are: [20.48632356 20.57216407 20.75081598 21.0581074  20.42653678]\n",
      "Begin group  0 training\n"
     ]
    },
    {
     "name": "stderr",
     "output_type": "stream",
     "text": [
      "Epoch:   0%|                                                                                     | 0/20 [00:00<?, ?it/s]"
     ]
    },
    {
     "name": "stdout",
     "output_type": "stream",
     "text": [
      "Begin group  1 training\n"
     ]
    },
    {
     "name": "stderr",
     "output_type": "stream",
     "text": [
      "Epoch:  35%|██████████████████████████▉                                                  | 7/20 [00:00<00:00, 68.56it/s]"
     ]
    },
    {
     "name": "stdout",
     "output_type": "stream",
     "text": [
      "Begin group  2 training\n"
     ]
    },
    {
     "name": "stderr",
     "output_type": "stream",
     "text": [
      "Epoch:  20%|███████████████▍                                                             | 4/20 [00:00<00:00, 39.85it/s]"
     ]
    },
    {
     "name": "stdout",
     "output_type": "stream",
     "text": [
      "Begin group  3 training\n"
     ]
    },
    {
     "name": "stderr",
     "output_type": "stream",
     "text": [
      "Epoch:   0%|                                                                                     | 0/20 [00:00<?, ?it/s]"
     ]
    },
    {
     "name": "stdout",
     "output_type": "stream",
     "text": [
      "Begin group  4 training\n"
     ]
    },
    {
     "name": "stderr",
     "output_type": "stream",
     "text": [
      "                                                                                                                        \r"
     ]
    },
    {
     "name": "stdout",
     "output_type": "stream",
     "text": [
      "Group 0, clients ['f_00094', 'f_00134', 'f_00083', 'f_00113']\n",
      "Group 1, clients ['f_00058']\n",
      "Group 2, clients ['f_00009', 'f_00060', 'f_00130', 'f_00080']\n",
      "Group 3, clients ['f_00092', 'f_00142', 'f_00062', 'f_00042', 'f_00132', 'f_00112']\n",
      "Group 4, clients ['f_00165', 'f_00125', 'f_00036', 'f_00156', 'f_00106']\n"
     ]
    },
    {
     "name": "stderr",
     "output_type": "stream",
     "text": [
      "Epoch:  45%|██████████████████████████████████▋                                          | 9/20 [00:00<00:00, 87.25it/s]"
     ]
    },
    {
     "name": "stdout",
     "output_type": "stream",
     "text": [
      "Group 0\n",
      "At round 165 accuracy: 0.8664921465968587\n",
      "At round 165 training accuracy: 0.8643962848297214\n",
      "At round 165 training loss: 0.3511799535376738\n",
      "Group 1\n",
      "At round 165 accuracy: 0.7982456140350878\n",
      "At round 165 training accuracy: 0.8241796200345423\n",
      "At round 165 training loss: 0.4923782362684685\n",
      "Group 2\n",
      "At round 165 accuracy: 0.8273972602739726\n",
      "At round 165 training accuracy: 0.8263778273335457\n",
      "At round 165 training loss: 0.5016555334208459\n",
      "Group 3\n",
      "At round 165 accuracy: 0.8728323699421965\n",
      "At round 165 training accuracy: 0.8713840676457499\n",
      "At round 165 training loss: 0.4120071108341482\n",
      "Group 4\n",
      "At round 165 accuracy: 0.879746835443038\n",
      "At round 165 training accuracy: 0.883589936162223\n",
      "At round 165 training loss: 0.3171359693902218\n",
      "At round 165 mean test accuracy: 0.8508316008316008 mean train accuracy: 0.8550636380244808\n",
      "The groups difference are: [20.47211176 20.54844428 20.73589768 21.03846119 20.40650854]\n",
      "Begin group  0 training\n"
     ]
    },
    {
     "name": "stderr",
     "output_type": "stream",
     "text": [
      "Epoch:   0%|                                                                                     | 0/20 [00:00<?, ?it/s]"
     ]
    },
    {
     "name": "stdout",
     "output_type": "stream",
     "text": [
      "Begin group  1 training\n",
      "Begin group  2 training\n"
     ]
    },
    {
     "name": "stderr",
     "output_type": "stream",
     "text": [
      "Epoch:   0%|                                                                                     | 0/20 [00:00<?, ?it/s]"
     ]
    },
    {
     "name": "stdout",
     "output_type": "stream",
     "text": [
      "Begin group  3 training\n"
     ]
    },
    {
     "name": "stderr",
     "output_type": "stream",
     "text": [
      "Epoch:   0%|                                                                                     | 0/20 [00:00<?, ?it/s]"
     ]
    },
    {
     "name": "stdout",
     "output_type": "stream",
     "text": [
      "Begin group  4 training\n"
     ]
    },
    {
     "name": "stderr",
     "output_type": "stream",
     "text": [
      "                                                                                                                        \r"
     ]
    },
    {
     "name": "stdout",
     "output_type": "stream",
     "text": [
      "Group 0, clients ['f_00054', 'f_00114']\n",
      "Group 1, clients ['f_00176', 'f_00169', 'f_00087', 'f_00018', 'f_00098']\n",
      "Group 2, clients ['f_00159', 'f_00100', 'f_00170', 'f_00130', 'f_00069', 'f_00189']\n",
      "Group 3, clients ['f_00182', 'f_00181', 'f_00002', 'f_00121', 'f_00111']\n",
      "Group 4, clients ['f_00016', 'f_00066']\n"
     ]
    },
    {
     "name": "stderr",
     "output_type": "stream",
     "text": [
      "                                                                                                                        "
     ]
    },
    {
     "name": "stdout",
     "output_type": "stream",
     "text": [
      "Group 0\n",
      "At round 166 accuracy: 0.9031413612565445\n",
      "At round 166 training accuracy: 0.9018575851393189\n",
      "At round 166 training loss: 0.27841145161643116\n",
      "Group 1\n",
      "At round 166 accuracy: 0.7923976608187134\n",
      "At round 166 training accuracy: 0.7661485319516408\n",
      "At round 166 training loss: 0.6141379350722351\n",
      "Group 2\n",
      "At round 166 accuracy: 0.8438356164383561\n",
      "At round 166 training accuracy: 0.8464479133482\n",
      "At round 166 training loss: 0.3957509352627094\n",
      "Group 3\n",
      "At round 166 accuracy: 0.8689788053949904\n",
      "At round 166 training accuracy: 0.8724966622162884\n",
      "At round 166 training loss: 0.5563860606811659\n",
      "Group 4\n",
      "At round 166 accuracy: 0.9113924050632911\n",
      "At round 166 training accuracy: 0.9196395043184379\n",
      "At round 166 training loss: 0.25959610940145006\n",
      "At round 166 mean test accuracy: 0.8643451143451143 mean train accuracy: 0.8621886608610925\n",
      "The groups difference are: [20.56314715 20.63998249 20.83462607 21.21463439 20.50370763]\n",
      "Begin group  0 training\n",
      "Begin group  1 training\n"
     ]
    },
    {
     "name": "stderr",
     "output_type": "stream",
     "text": [
      "Epoch:   0%|                                                                                     | 0/20 [00:00<?, ?it/s]"
     ]
    },
    {
     "name": "stdout",
     "output_type": "stream",
     "text": [
      "Begin group  2 training\n"
     ]
    },
    {
     "name": "stderr",
     "output_type": "stream",
     "text": [
      "Epoch:   0%|                                                                                     | 0/20 [00:00<?, ?it/s]"
     ]
    },
    {
     "name": "stdout",
     "output_type": "stream",
     "text": [
      "Begin group  3 training\n"
     ]
    },
    {
     "name": "stderr",
     "output_type": "stream",
     "text": [
      "Epoch:  35%|██████████████████████████▉                                                  | 7/20 [00:00<00:00, 66.85it/s]"
     ]
    },
    {
     "name": "stdout",
     "output_type": "stream",
     "text": [
      "Begin group  4 training\n"
     ]
    },
    {
     "name": "stderr",
     "output_type": "stream",
     "text": [
      "                                                                                                                        \r"
     ]
    },
    {
     "name": "stdout",
     "output_type": "stream",
     "text": [
      "Group 0, clients ['f_00033', 'f_00073', 'f_00063']\n",
      "Group 1, clients ['f_00157', 'f_00027', 'f_00188', 'f_00198', 'f_00037']\n",
      "Group 2, clients ['f_00130', 'f_00159', 'f_00199', 'f_00019']\n",
      "Group 3, clients ['f_00022', 'f_00041', 'f_00182']\n",
      "Group 4, clients ['f_00095', 'f_00096', 'f_00045', 'f_00145', 'f_00136']\n"
     ]
    },
    {
     "name": "stderr",
     "output_type": "stream",
     "text": [
      "Epoch:  20%|███████████████▍                                                             | 4/20 [00:00<00:00, 37.09it/s]"
     ]
    },
    {
     "name": "stdout",
     "output_type": "stream",
     "text": [
      "Group 0\n",
      "At round 167 accuracy: 0.8481675392670157\n",
      "At round 167 training accuracy: 0.848297213622291\n",
      "At round 167 training loss: 0.38387645473559573\n",
      "Group 1\n",
      "At round 167 accuracy: 0.8011695906432749\n",
      "At round 167 training accuracy: 0.8027633851468048\n",
      "At round 167 training loss: 0.5316207455744604\n",
      "Group 2\n",
      "At round 167 accuracy: 0.8657534246575342\n",
      "At round 167 training accuracy: 0.8429436126154827\n",
      "At round 167 training loss: 0.406993621927646\n",
      "Group 3\n",
      "At round 167 accuracy: 0.8073217726396917\n",
      "At round 167 training accuracy: 0.8075211392968402\n",
      "At round 167 training loss: 0.48252324313323236\n",
      "Group 4\n",
      "At round 167 accuracy: 0.8069620253164557\n",
      "At round 167 training accuracy: 0.8073601201652272\n",
      "At round 167 training loss: 0.6263534936325088\n",
      "At round 167 mean test accuracy: 0.8253638253638254 mean train accuracy: 0.8214481456671335\n",
      "The groups difference are: [20.56456956 20.65461138 20.83256457 21.21211382 20.51308747]\n",
      "Begin group  0 training\n"
     ]
    },
    {
     "name": "stderr",
     "output_type": "stream",
     "text": [
      "Epoch:   0%|                                                                                     | 0/20 [00:00<?, ?it/s]"
     ]
    },
    {
     "name": "stdout",
     "output_type": "stream",
     "text": [
      "Begin group  1 training\n"
     ]
    },
    {
     "name": "stderr",
     "output_type": "stream",
     "text": [
      "Epoch:  60%|█████████████████████████████████████████████                              | 12/20 [00:00<00:00, 112.32it/s]"
     ]
    },
    {
     "name": "stdout",
     "output_type": "stream",
     "text": [
      "Begin group  2 training\n"
     ]
    },
    {
     "name": "stderr",
     "output_type": "stream",
     "text": [
      "                                                                                                                        "
     ]
    },
    {
     "name": "stdout",
     "output_type": "stream",
     "text": [
      "Begin group  3 training\n"
     ]
    },
    {
     "name": "stderr",
     "output_type": "stream",
     "text": [
      "Epoch:  50%|██████████████████████████████████████                                      | 10/20 [00:00<00:00, 91.95it/s]"
     ]
    },
    {
     "name": "stdout",
     "output_type": "stream",
     "text": [
      "Begin group  4 training\n"
     ]
    },
    {
     "name": "stderr",
     "output_type": "stream",
     "text": [
      "                                                                                                                        \r"
     ]
    },
    {
     "name": "stdout",
     "output_type": "stream",
     "text": [
      "Group 0, clients ['f_00093', 'f_00024', 'f_00104', 'f_00003', 'f_00114']\n",
      "Group 1, clients ['f_00068', 'f_00098']\n",
      "Group 2, clients ['f_00049', 'f_00190', 'f_00170', 'f_00100']\n",
      "Group 3, clients ['f_00091', 'f_00112', 'f_00122']\n",
      "Group 4, clients ['f_00175', 'f_00146', 'f_00125', 'f_00025', 'f_00155', 'f_00115']\n"
     ]
    },
    {
     "name": "stderr",
     "output_type": "stream",
     "text": [
      "Epoch:  30%|███████████████████████                                                      | 6/20 [00:00<00:00, 55.70it/s]"
     ]
    },
    {
     "name": "stdout",
     "output_type": "stream",
     "text": [
      "Group 0\n",
      "At round 168 accuracy: 0.8298429319371727\n",
      "At round 168 training accuracy: 0.8297213622291022\n",
      "At round 168 training loss: 0.5551899670124423\n",
      "Group 1\n",
      "At round 168 accuracy: 0.7748538011695907\n",
      "At round 168 training accuracy: 0.8134715025906736\n",
      "At round 168 training loss: 0.5385222213770647\n",
      "Group 2\n",
      "At round 168 accuracy: 0.7616438356164383\n",
      "At round 168 training accuracy: 0.7734947435489009\n",
      "At round 168 training loss: 0.745260500561834\n",
      "Group 3\n",
      "At round 168 accuracy: 0.882466281310212\n",
      "At round 168 training accuracy: 0.8954161103693814\n",
      "At round 168 training loss: 0.27250494165358463\n",
      "Group 4\n",
      "At round 168 accuracy: 0.8259493670886076\n",
      "At round 168 training accuracy: 0.8452872699962448\n",
      "At round 168 training loss: 0.40031732187105934\n",
      "At round 168 mean test accuracy: 0.8206860706860707 mean train accuracy: 0.8366116558065891\n",
      "The groups difference are: [20.57716011 20.65662689 20.83889088 21.19655735 20.51566249]\n",
      "Begin group  0 training\n"
     ]
    },
    {
     "name": "stderr",
     "output_type": "stream",
     "text": [
      "Epoch:  40%|██████████████████████████████▊                                              | 8/20 [00:00<00:00, 78.48it/s]"
     ]
    },
    {
     "name": "stdout",
     "output_type": "stream",
     "text": [
      "Begin group  1 training\n"
     ]
    },
    {
     "name": "stderr",
     "output_type": "stream",
     "text": [
      "Epoch:  55%|█████████████████████████████████████████▎                                 | 11/20 [00:00<00:00, 107.71it/s]"
     ]
    },
    {
     "name": "stdout",
     "output_type": "stream",
     "text": [
      "Begin group  2 training\n"
     ]
    },
    {
     "name": "stderr",
     "output_type": "stream",
     "text": [
      "Epoch:  35%|██████████████████████████▉                                                  | 7/20 [00:00<00:00, 61.16it/s]"
     ]
    },
    {
     "name": "stdout",
     "output_type": "stream",
     "text": [
      "Begin group  3 training\n"
     ]
    },
    {
     "name": "stderr",
     "output_type": "stream",
     "text": [
      "Epoch:   0%|                                                                                     | 0/20 [00:00<?, ?it/s]"
     ]
    },
    {
     "name": "stdout",
     "output_type": "stream",
     "text": [
      "Begin group  4 training\n"
     ]
    },
    {
     "name": "stderr",
     "output_type": "stream",
     "text": [
      "                                                                                                                        \r"
     ]
    },
    {
     "name": "stdout",
     "output_type": "stream",
     "text": [
      "Group 0, clients ['f_00194', 'f_00114', 'f_00073']\n",
      "Group 1, clients ['f_00168', 'f_00198', 'f_00098', 'f_00177', 'f_00008', 'f_00018', 'f_00007']\n",
      "Group 2, clients ['f_00119', 'f_00160', 'f_00140', 'f_00110']\n",
      "Group 3, clients ['f_00041', 'f_00091', 'f_00051']\n",
      "Group 4, clients ['f_00016', 'f_00015', 'f_00126']\n"
     ]
    },
    {
     "name": "stderr",
     "output_type": "stream",
     "text": [
      "Epoch:  35%|██████████████████████████▉                                                  | 7/20 [00:00<00:00, 61.47it/s]"
     ]
    },
    {
     "name": "stdout",
     "output_type": "stream",
     "text": [
      "Group 0\n",
      "At round 169 accuracy: 0.8481675392670157\n",
      "At round 169 training accuracy: 0.8486068111455108\n",
      "At round 169 training loss: 0.3866664134358105\n",
      "Group 1\n",
      "At round 169 accuracy: 0.7251461988304093\n",
      "At round 169 training accuracy: 0.7271157167530224\n",
      "At round 169 training loss: 1.0285629949472934\n",
      "Group 2\n",
      "At round 169 accuracy: 0.8383561643835616\n",
      "At round 169 training accuracy: 0.8489964956992673\n",
      "At round 169 training loss: 0.41917620330821104\n",
      "Group 3\n",
      "At round 169 accuracy: 0.8766859344894027\n",
      "At round 169 training accuracy: 0.8869603916332889\n",
      "At round 169 training loss: 0.3006922603913504\n",
      "Group 4\n",
      "At round 169 accuracy: 0.8765822784810127\n",
      "At round 169 training accuracy: 0.867067217423958\n",
      "At round 169 training loss: 0.3521086250956776\n",
      "At round 169 mean test accuracy: 0.8367983367983368 mean train accuracy: 0.8407526947201753\n",
      "The groups difference are: [20.57772911 20.6827513  20.83909891 21.19124685 20.52198587]\n",
      "Begin group  0 training\n"
     ]
    },
    {
     "name": "stderr",
     "output_type": "stream",
     "text": [
      "Epoch:  80%|████████████████████████████████████████████████████████████               | 16/20 [00:00<00:00, 155.16it/s]"
     ]
    },
    {
     "name": "stdout",
     "output_type": "stream",
     "text": [
      "Begin group  1 training\n"
     ]
    },
    {
     "name": "stderr",
     "output_type": "stream",
     "text": [
      "Epoch:   0%|                                                                                     | 0/20 [00:00<?, ?it/s]"
     ]
    },
    {
     "name": "stdout",
     "output_type": "stream",
     "text": [
      "Begin group  2 training\n"
     ]
    },
    {
     "name": "stderr",
     "output_type": "stream",
     "text": [
      "Epoch:  40%|██████████████████████████████▊                                              | 8/20 [00:00<00:00, 72.92it/s]"
     ]
    },
    {
     "name": "stdout",
     "output_type": "stream",
     "text": [
      "Begin group  3 training\n"
     ]
    },
    {
     "name": "stderr",
     "output_type": "stream",
     "text": [
      "Epoch:  50%|██████████████████████████████████████                                      | 10/20 [00:00<00:00, 92.33it/s]"
     ]
    },
    {
     "name": "stdout",
     "output_type": "stream",
     "text": [
      "Begin group  4 training\n"
     ]
    },
    {
     "name": "stderr",
     "output_type": "stream",
     "text": [
      "                                                                                                                        \r"
     ]
    },
    {
     "name": "stdout",
     "output_type": "stream",
     "text": [
      "Group 0, clients ['f_00173', 'f_00113', 'f_00123', 'f_00064', 'f_00164', 'f_00053']\n",
      "Group 1, clients ['f_00137', 'f_00198', 'f_00118', 'f_00007']\n",
      "Group 2, clients ['f_00179', 'f_00140', 'f_00100']\n",
      "Group 3, clients ['f_00032', 'f_00091']\n",
      "Group 4, clients ['f_00005', 'f_00105', 'f_00136', 'f_00035', 'f_00156']\n"
     ]
    },
    {
     "name": "stderr",
     "output_type": "stream",
     "text": [
      "                                                                                                                        "
     ]
    },
    {
     "name": "stdout",
     "output_type": "stream",
     "text": [
      "Group 0\n",
      "At round 170 accuracy: 0.8638743455497382\n",
      "At round 170 training accuracy: 0.8752321981424148\n",
      "At round 170 training loss: 0.30740262829805304\n",
      "Group 1\n",
      "At round 170 accuracy: 0.783625730994152\n",
      "At round 170 training accuracy: 0.7609671848013817\n",
      "At round 170 training loss: 0.6533872714880629\n",
      "Group 2\n",
      "At round 170 accuracy: 0.8465753424657534\n",
      "At round 170 training accuracy: 0.8496336412870341\n",
      "At round 170 training loss: 0.49493903720376975\n",
      "Group 3\n",
      "At round 170 accuracy: 0.7552986512524085\n",
      "At round 170 training accuracy: 0.7592345349354696\n",
      "At round 170 training loss: 0.7438783280014275\n",
      "Group 4\n",
      "At round 170 accuracy: 0.8670886075949367\n",
      "At round 170 training accuracy: 0.8719489297784454\n",
      "At round 170 training loss: 0.3285742667757207\n",
      "At round 170 mean test accuracy: 0.8175675675675675 mean train accuracy: 0.8179160830643688\n",
      "The groups difference are: [20.62840301 20.72849398 20.88865801 21.21644196 20.55942292]\n",
      "Begin group  0 training\n"
     ]
    },
    {
     "name": "stderr",
     "output_type": "stream",
     "text": [
      "Epoch:   0%|                                                                                     | 0/20 [00:00<?, ?it/s]"
     ]
    },
    {
     "name": "stdout",
     "output_type": "stream",
     "text": [
      "Begin group  1 training\n"
     ]
    },
    {
     "name": "stderr",
     "output_type": "stream",
     "text": [
      "Epoch:   0%|                                                                                     | 0/20 [00:00<?, ?it/s]"
     ]
    },
    {
     "name": "stdout",
     "output_type": "stream",
     "text": [
      "Begin group  2 training\n"
     ]
    },
    {
     "name": "stderr",
     "output_type": "stream",
     "text": [
      "Epoch:  45%|██████████████████████████████████▋                                          | 9/20 [00:00<00:00, 88.35it/s]"
     ]
    },
    {
     "name": "stdout",
     "output_type": "stream",
     "text": [
      "Begin group  3 training\n"
     ]
    },
    {
     "name": "stderr",
     "output_type": "stream",
     "text": [
      "Epoch:  30%|███████████████████████                                                      | 6/20 [00:00<00:00, 53.88it/s]"
     ]
    },
    {
     "name": "stdout",
     "output_type": "stream",
     "text": [
      "Begin group  4 training\n"
     ]
    },
    {
     "name": "stderr",
     "output_type": "stream",
     "text": [
      "                                                                                                                        \r"
     ]
    },
    {
     "name": "stdout",
     "output_type": "stream",
     "text": [
      "Group 0, clients ['f_00083', 'f_00164']\n",
      "Group 1, clients ['f_00117', 'f_00127', 'f_00087', 'f_00176']\n",
      "Group 2, clients ['f_00030', 'f_00019', 'f_00129', 'f_00190']\n",
      "Group 3, clients ['f_00091', 'f_00102', 'f_00142', 'f_00151', 'f_00121', 'f_00161']\n",
      "Group 4, clients ['f_00196', 'f_00116', 'f_00096', 'f_00166']\n"
     ]
    },
    {
     "name": "stderr",
     "output_type": "stream",
     "text": [
      "Epoch:   0%|                                                                                     | 0/20 [00:00<?, ?it/s]"
     ]
    },
    {
     "name": "stdout",
     "output_type": "stream",
     "text": [
      "Group 0\n",
      "At round 171 accuracy: 0.8507853403141361\n",
      "At round 171 training accuracy: 0.8594427244582044\n",
      "At round 171 training loss: 0.34656115332531856\n",
      "Group 1\n",
      "At round 171 accuracy: 0.7690058479532164\n",
      "At round 171 training accuracy: 0.7523316062176166\n",
      "At round 171 training loss: 0.666856250640436\n",
      "Group 2\n",
      "At round 171 accuracy: 0.8410958904109589\n",
      "At round 171 training accuracy: 0.8496336412870341\n",
      "At round 171 training loss: 0.4643232716486575\n",
      "Group 3\n",
      "At round 171 accuracy: 0.7456647398843931\n",
      "At round 171 training accuracy: 0.7516688918558078\n",
      "At round 171 training loss: 0.7416908825176939\n",
      "Group 4\n",
      "At round 171 accuracy: 0.8734177215189873\n",
      "At round 171 training accuracy: 0.883589936162223\n",
      "At round 171 training loss: 0.3438316685138141\n",
      "At round 171 mean test accuracy: 0.8097713097713097 mean train accuracy: 0.8131051702088788\n",
      "The groups difference are: [20.68682092 20.77625121 20.92609955 21.25048234 20.60783189]\n",
      "Begin group  0 training\n"
     ]
    },
    {
     "name": "stderr",
     "output_type": "stream",
     "text": [
      "Epoch:   0%|                                                                                     | 0/20 [00:00<?, ?it/s]"
     ]
    },
    {
     "name": "stdout",
     "output_type": "stream",
     "text": [
      "Begin group  1 training\n"
     ]
    },
    {
     "name": "stderr",
     "output_type": "stream",
     "text": [
      "Epoch:  70%|████████████████████████████████████████████████████▌                      | 14/20 [00:00<00:00, 137.00it/s]"
     ]
    },
    {
     "name": "stdout",
     "output_type": "stream",
     "text": [
      "Begin group  2 training\n"
     ]
    },
    {
     "name": "stderr",
     "output_type": "stream",
     "text": [
      "Epoch:  30%|███████████████████████                                                      | 6/20 [00:00<00:00, 58.67it/s]"
     ]
    },
    {
     "name": "stdout",
     "output_type": "stream",
     "text": [
      "Begin group  3 training\n"
     ]
    },
    {
     "name": "stderr",
     "output_type": "stream",
     "text": [
      "Epoch:   0%|                                                                                     | 0/20 [00:00<?, ?it/s]"
     ]
    },
    {
     "name": "stdout",
     "output_type": "stream",
     "text": [
      "Begin group  4 training\n"
     ]
    },
    {
     "name": "stderr",
     "output_type": "stream",
     "text": [
      "                                                                                                                        \r"
     ]
    },
    {
     "name": "stdout",
     "output_type": "stream",
     "text": [
      "Group 0, clients ['f_00173', 'f_00133', 'f_00044', 'f_00043', 'f_00134', 'f_00024', 'f_00113']\n",
      "Group 1, clients ['f_00098']\n",
      "Group 2, clients ['f_00069', 'f_00049', 'f_00129', 'f_00139', 'f_00150']\n",
      "Group 3, clients ['f_00102', 'f_00031', 'f_00032']\n",
      "Group 4, clients ['f_00096', 'f_00146', 'f_00065', 'f_00046']\n"
     ]
    },
    {
     "name": "stderr",
     "output_type": "stream",
     "text": [
      "Epoch:   0%|                                                                                     | 0/20 [00:00<?, ?it/s]"
     ]
    },
    {
     "name": "stdout",
     "output_type": "stream",
     "text": [
      "Group 0\n",
      "At round 172 accuracy: 0.8586387434554974\n",
      "At round 172 training accuracy: 0.8402476780185758\n",
      "At round 172 training loss: 0.5144378822700527\n",
      "Group 1\n",
      "At round 172 accuracy: 0.7456140350877193\n",
      "At round 172 training accuracy: 0.7696027633851468\n",
      "At round 172 training loss: 0.8935350117699882\n",
      "Group 2\n",
      "At round 172 accuracy: 0.8876712328767123\n",
      "At round 172 training accuracy: 0.8636508442179038\n",
      "At round 172 training loss: 0.3588003389069745\n",
      "Group 3\n",
      "At round 172 accuracy: 0.8304431599229287\n",
      "At round 172 training accuracy: 0.8328882955051179\n",
      "At round 172 training loss: 0.45063417536029565\n",
      "Group 4\n",
      "At round 172 accuracy: 0.8386075949367089\n",
      "At round 172 training accuracy: 0.8257604205782951\n",
      "At round 172 training loss: 0.4923117470543187\n",
      "At round 172 mean test accuracy: 0.8331600831600832 mean train accuracy: 0.8279032945618415\n",
      "The groups difference are: [20.7571483  20.83117449 20.96526123 21.29462069 20.63480541]\n",
      "Begin group  0 training\n"
     ]
    },
    {
     "name": "stderr",
     "output_type": "stream",
     "text": [
      "Epoch:  25%|███████████████████▎                                                         | 5/20 [00:00<00:00, 39.83it/s]"
     ]
    },
    {
     "name": "stdout",
     "output_type": "stream",
     "text": [
      "Begin group  1 training\n"
     ]
    },
    {
     "name": "stderr",
     "output_type": "stream",
     "text": [
      "Epoch:   0%|                                                                                     | 0/20 [00:00<?, ?it/s]"
     ]
    },
    {
     "name": "stdout",
     "output_type": "stream",
     "text": [
      "Begin group  2 training\n"
     ]
    },
    {
     "name": "stderr",
     "output_type": "stream",
     "text": [
      "Epoch:  20%|███████████████▍                                                             | 4/20 [00:00<00:00, 38.09it/s]"
     ]
    },
    {
     "name": "stdout",
     "output_type": "stream",
     "text": [
      "Begin group  3 training\n"
     ]
    },
    {
     "name": "stderr",
     "output_type": "stream",
     "text": [
      "Epoch:  45%|██████████████████████████████████▋                                          | 9/20 [00:00<00:00, 89.36it/s]"
     ]
    },
    {
     "name": "stdout",
     "output_type": "stream",
     "text": [
      "Begin group  4 training\n"
     ]
    },
    {
     "name": "stderr",
     "output_type": "stream",
     "text": [
      "                                                                                                                        \r"
     ]
    },
    {
     "name": "stdout",
     "output_type": "stream",
     "text": [
      "Group 0, clients ['f_00174', 'f_00183', 'f_00044', 'f_00043', 'f_00063', 'f_00024']\n",
      "Group 1, clients ['f_00008', 'f_00198']\n",
      "Group 2, clients ['f_00110', 'f_00070', 'f_00009', 'f_00050']\n",
      "Group 3, clients ['f_00101', 'f_00111', 'f_00001', 'f_00012']\n",
      "Group 4, clients ['f_00006', 'f_00056', 'f_00156', 'f_00125']\n"
     ]
    },
    {
     "name": "stderr",
     "output_type": "stream",
     "text": [
      "Epoch:   0%|                                                                                     | 0/20 [00:00<?, ?it/s]"
     ]
    },
    {
     "name": "stdout",
     "output_type": "stream",
     "text": [
      "Group 0\n",
      "At round 173 accuracy: 0.9031413612565445\n",
      "At round 173 training accuracy: 0.908359133126935\n",
      "At round 173 training loss: 0.25860855845105907\n",
      "Group 1\n",
      "At round 173 accuracy: 0.7280701754385965\n",
      "At round 173 training accuracy: 0.7208981001727116\n",
      "At round 173 training loss: 1.0522686931290157\n",
      "Group 2\n",
      "At round 173 accuracy: 0.7835616438356164\n",
      "At round 173 training accuracy: 0.7999362854412233\n",
      "At round 173 training loss: 0.5432766475383929\n",
      "Group 3\n",
      "At round 173 accuracy: 0.8728323699421965\n",
      "At round 173 training accuracy: 0.8773920783266578\n",
      "At round 173 training loss: 0.3424694021350551\n",
      "Group 4\n",
      "At round 173 accuracy: 0.8227848101265823\n",
      "At round 173 training accuracy: 0.8546751783702591\n",
      "At round 173 training loss: 0.3713365169483336\n",
      "At round 173 mean test accuracy: 0.827962577962578 mean train accuracy: 0.8374033250106571\n",
      "The groups difference are: [20.73980299 20.8424599  20.94971853 21.28821501 20.6336036 ]\n",
      "Begin group  0 training\n"
     ]
    },
    {
     "name": "stderr",
     "output_type": "stream",
     "text": [
      "Epoch:   0%|                                                                                     | 0/20 [00:00<?, ?it/s]"
     ]
    },
    {
     "name": "stdout",
     "output_type": "stream",
     "text": [
      "Begin group  1 training\n",
      "Begin group  2 training\n"
     ]
    },
    {
     "name": "stderr",
     "output_type": "stream",
     "text": [
      "Epoch:   0%|                                                                                     | 0/20 [00:00<?, ?it/s]"
     ]
    },
    {
     "name": "stdout",
     "output_type": "stream",
     "text": [
      "Begin group  3 training\n"
     ]
    },
    {
     "name": "stderr",
     "output_type": "stream",
     "text": [
      "Epoch:   0%|                                                                                     | 0/20 [00:00<?, ?it/s]"
     ]
    },
    {
     "name": "stdout",
     "output_type": "stream",
     "text": [
      "Begin group  4 training\n"
     ]
    },
    {
     "name": "stderr",
     "output_type": "stream",
     "text": [
      "                                                                                                                        \r"
     ]
    },
    {
     "name": "stdout",
     "output_type": "stream",
     "text": [
      "Group 0, clients ['f_00123', 'f_00103', 'f_00053', 'f_00134']\n",
      "Group 1, clients ['f_00059', 'f_00147']\n",
      "Group 2, clients ['f_00180', 'f_00129', 'f_00079', 'f_00070', 'f_00030', 'f_00120']\n",
      "Group 3, clients ['f_00021', 'f_00011', 'f_00042', 'f_00101', 'f_00112', 'f_00102']\n",
      "Group 4, clients ['f_00035', 'f_00096']\n"
     ]
    },
    {
     "name": "stderr",
     "output_type": "stream",
     "text": [
      "Epoch:  20%|███████████████▍                                                             | 4/20 [00:00<00:00, 34.09it/s]"
     ]
    },
    {
     "name": "stdout",
     "output_type": "stream",
     "text": [
      "Group 0\n",
      "At round 174 accuracy: 0.9057591623036649\n",
      "At round 174 training accuracy: 0.9356037151702786\n",
      "At round 174 training loss: 0.22541471199815857\n",
      "Group 1\n",
      "At round 174 accuracy: 0.7426900584795322\n",
      "At round 174 training accuracy: 0.7402417962003455\n",
      "At round 174 training loss: 1.0749843054227466\n",
      "Group 2\n",
      "At round 174 accuracy: 0.8547945205479452\n",
      "At round 174 training accuracy: 0.8585536795157693\n",
      "At round 174 training loss: 0.4151558179708566\n",
      "Group 3\n",
      "At round 174 accuracy: 0.859344894026975\n",
      "At round 174 training accuracy: 0.8624833110814419\n",
      "At round 174 training loss: 0.3749793106138799\n",
      "Group 4\n",
      "At round 174 accuracy: 0.8607594936708861\n",
      "At round 174 training accuracy: 0.8809613218174991\n",
      "At round 174 training loss: 0.3257927059696395\n",
      "At round 174 mean test accuracy: 0.8471933471933472 mean train accuracy: 0.8575604408988491\n",
      "The groups difference are: [20.70096843 20.80508696 20.92042359 21.23616035 20.59821187]\n",
      "Begin group  0 training\n"
     ]
    },
    {
     "name": "stderr",
     "output_type": "stream",
     "text": [
      "Epoch:   0%|                                                                                     | 0/20 [00:00<?, ?it/s]"
     ]
    },
    {
     "name": "stdout",
     "output_type": "stream",
     "text": [
      "Begin group  1 training\n",
      "Begin group  2 training\n"
     ]
    },
    {
     "name": "stderr",
     "output_type": "stream",
     "text": [
      "Epoch:   0%|                                                                                     | 0/20 [00:00<?, ?it/s]"
     ]
    },
    {
     "name": "stdout",
     "output_type": "stream",
     "text": [
      "Begin group  3 training\n"
     ]
    },
    {
     "name": "stderr",
     "output_type": "stream",
     "text": [
      "Epoch:   0%|                                                                                     | 0/20 [00:00<?, ?it/s]"
     ]
    },
    {
     "name": "stdout",
     "output_type": "stream",
     "text": [
      "Begin group  4 training\n"
     ]
    },
    {
     "name": "stderr",
     "output_type": "stream",
     "text": [
      "                                                                                                                        \r"
     ]
    },
    {
     "name": "stdout",
     "output_type": "stream",
     "text": [
      "Group 0, clients ['f_00044']\n",
      "Group 1, clients ['f_00087', 'f_00167', 'f_00017', 'f_00178', 'f_00198', 'f_00127']\n",
      "Group 2, clients ['f_00170', 'f_00139', 'f_00070', 'f_00029', 'f_00030']\n",
      "Group 3, clients ['f_00002', 'f_00182', 'f_00152']\n",
      "Group 4, clients ['f_00126', 'f_00186', 'f_00045', 'f_00016', 'f_00115']\n"
     ]
    },
    {
     "name": "stderr",
     "output_type": "stream",
     "text": [
      "Epoch:   0%|                                                                                     | 0/20 [00:00<?, ?it/s]"
     ]
    },
    {
     "name": "stdout",
     "output_type": "stream",
     "text": [
      "Group 0\n",
      "At round 175 accuracy: 0.8324607329842932\n",
      "At round 175 training accuracy: 0.8291021671826625\n",
      "At round 175 training loss: 0.5246895590468365\n",
      "Group 1\n",
      "At round 175 accuracy: 0.7192982456140351\n",
      "At round 175 training accuracy: 0.6825561312607945\n",
      "At round 175 training loss: 0.7385642417766064\n",
      "Group 2\n",
      "At round 175 accuracy: 0.8438356164383561\n",
      "At round 175 training accuracy: 0.8451736221726664\n",
      "At round 175 training loss: 0.40549737675511255\n",
      "Group 3\n",
      "At round 175 accuracy: 0.8882466281310212\n",
      "At round 175 training accuracy: 0.8947485536270583\n",
      "At round 175 training loss: 0.28326187376969114\n",
      "Group 4\n",
      "At round 175 accuracy: 0.8734177215189873\n",
      "At round 175 training accuracy: 0.8937288772061585\n",
      "At round 175 training loss: 0.2969227320956324\n",
      "At round 175 mean test accuracy: 0.8362785862785863 mean train accuracy: 0.8347847268741246\n",
      "The groups difference are: [20.71032378 20.78182985 20.92296835 21.21999526 20.6000278 ]\n",
      "Begin group  0 training\n",
      "Begin group  1 training\n"
     ]
    },
    {
     "name": "stderr",
     "output_type": "stream",
     "text": [
      "Epoch:   0%|                                                                                     | 0/20 [00:00<?, ?it/s]"
     ]
    },
    {
     "name": "stdout",
     "output_type": "stream",
     "text": [
      "Begin group  2 training\n"
     ]
    },
    {
     "name": "stderr",
     "output_type": "stream",
     "text": [
      "Epoch:  35%|██████████████████████████▉                                                  | 7/20 [00:00<00:00, 66.81it/s]"
     ]
    },
    {
     "name": "stdout",
     "output_type": "stream",
     "text": [
      "Begin group  3 training\n"
     ]
    },
    {
     "name": "stderr",
     "output_type": "stream",
     "text": [
      "Epoch:   0%|                                                                                     | 0/20 [00:00<?, ?it/s]"
     ]
    },
    {
     "name": "stdout",
     "output_type": "stream",
     "text": [
      "Begin group  4 training\n"
     ]
    },
    {
     "name": "stderr",
     "output_type": "stream",
     "text": [
      "                                                                                                                        \r"
     ]
    },
    {
     "name": "stdout",
     "output_type": "stream",
     "text": [
      "Group 0, clients ['f_00094']\n",
      "Group 1, clients ['f_00118', 'f_00197', 'f_00188', 'f_00198', 'f_00028', 'f_00087', 'f_00097']\n",
      "Group 2, clients ['f_00180', 'f_00029', 'f_00039', 'f_00160']\n",
      "Group 3, clients ['f_00171', 'f_00072', 'f_00162', 'f_00132', 'f_00071', 'f_00032']\n",
      "Group 4, clients ['f_00056', 'f_00185']\n"
     ]
    },
    {
     "name": "stderr",
     "output_type": "stream",
     "text": [
      "Epoch:  45%|██████████████████████████████████▋                                          | 9/20 [00:00<00:00, 88.20it/s]"
     ]
    },
    {
     "name": "stdout",
     "output_type": "stream",
     "text": [
      "Group 0\n",
      "At round 176 accuracy: 0.8926701570680629\n",
      "At round 176 training accuracy: 0.8913312693498452\n",
      "At round 176 training loss: 0.32380624883361275\n",
      "Group 1\n",
      "At round 176 accuracy: 0.7543859649122807\n",
      "At round 176 training accuracy: 0.7858376511226253\n",
      "At round 176 training loss: 0.6457754619226554\n",
      "Group 2\n",
      "At round 176 accuracy: 0.8410958904109589\n",
      "At round 176 training accuracy: 0.8461293405543167\n",
      "At round 176 training loss: 0.40537680183513863\n",
      "Group 3\n",
      "At round 176 accuracy: 0.8747591522157996\n",
      "At round 176 training accuracy: 0.8798397863818425\n",
      "At round 176 training loss: 0.3711298775934197\n",
      "Group 4\n",
      "At round 176 accuracy: 0.9177215189873418\n",
      "At round 176 training accuracy: 0.9425460007510327\n",
      "At round 176 training loss: 0.2343693310286468\n",
      "At round 176 mean test accuracy: 0.8575883575883576 mean train accuracy: 0.869252786066622\n",
      "The groups difference are: [20.7026264  20.80009211 20.9356654  21.22167874 20.58651372]\n",
      "Begin group  0 training\n"
     ]
    },
    {
     "name": "stderr",
     "output_type": "stream",
     "text": [
      "Epoch:  25%|███████████████████▎                                                         | 5/20 [00:00<00:00, 40.74it/s]"
     ]
    },
    {
     "name": "stdout",
     "output_type": "stream",
     "text": [
      "Begin group  1 training\n"
     ]
    },
    {
     "name": "stderr",
     "output_type": "stream",
     "text": [
      "Epoch:  25%|███████████████████▎                                                         | 5/20 [00:00<00:00, 49.50it/s]"
     ]
    },
    {
     "name": "stdout",
     "output_type": "stream",
     "text": [
      "Begin group  2 training\n"
     ]
    },
    {
     "name": "stderr",
     "output_type": "stream",
     "text": [
      "Epoch:   0%|                                                                                     | 0/20 [00:00<?, ?it/s]"
     ]
    },
    {
     "name": "stdout",
     "output_type": "stream",
     "text": [
      "Begin group  3 training\n"
     ]
    },
    {
     "name": "stderr",
     "output_type": "stream",
     "text": [
      "Epoch:  80%|████████████████████████████████████████████████████████████               | 16/20 [00:00<00:00, 150.80it/s]"
     ]
    },
    {
     "name": "stdout",
     "output_type": "stream",
     "text": [
      "Begin group  4 training\n"
     ]
    },
    {
     "name": "stderr",
     "output_type": "stream",
     "text": [
      "                                                                                                                        \r"
     ]
    },
    {
     "name": "stdout",
     "output_type": "stream",
     "text": [
      "Group 0, clients ['f_00003', 'f_00033', 'f_00194', 'f_00154', 'f_00144', 'f_00173', 'f_00014']\n",
      "Group 1, clients ['f_00037', 'f_00017', 'f_00018']\n",
      "Group 2, clients ['f_00100', 'f_00089', 'f_00069', 'f_00189']\n",
      "Group 3, clients ['f_00111']\n",
      "Group 4, clients ['f_00165', 'f_00055', 'f_00105', 'f_00126', 'f_00175']\n"
     ]
    },
    {
     "name": "stderr",
     "output_type": "stream",
     "text": [
      "Epoch:  30%|███████████████████████                                                      | 6/20 [00:00<00:00, 58.31it/s]"
     ]
    },
    {
     "name": "stdout",
     "output_type": "stream",
     "text": [
      "Group 0\n",
      "At round 177 accuracy: 0.8507853403141361\n",
      "At round 177 training accuracy: 0.8439628482972136\n",
      "At round 177 training loss: 0.4537003681548055\n",
      "Group 1\n",
      "At round 177 accuracy: 0.7631578947368421\n",
      "At round 177 training accuracy: 0.7820379965457686\n",
      "At round 177 training loss: 0.5694486310650854\n",
      "Group 2\n",
      "At round 177 accuracy: 0.8328767123287671\n",
      "At round 177 training accuracy: 0.8388021662949984\n",
      "At round 177 training loss: 0.5036731981816244\n",
      "Group 3\n",
      "At round 177 accuracy: 0.861271676300578\n",
      "At round 177 training accuracy: 0.8811748998664887\n",
      "At round 177 training loss: 0.312021010704952\n",
      "Group 4\n",
      "At round 177 accuracy: 0.8765822784810127\n",
      "At round 177 training accuracy: 0.894104393541119\n",
      "At round 177 training loss: 0.30424783067722494\n",
      "At round 177 mean test accuracy: 0.8388773388773388 mean train accuracy: 0.8503745204311552\n",
      "The groups difference are: [20.7219186  20.83437375 20.97045132 21.22583504 20.60140281]\n",
      "Begin group  0 training\n"
     ]
    },
    {
     "name": "stderr",
     "output_type": "stream",
     "text": [
      "Epoch:  45%|██████████████████████████████████▋                                          | 9/20 [00:00<00:00, 81.72it/s]"
     ]
    },
    {
     "name": "stdout",
     "output_type": "stream",
     "text": [
      "Begin group  1 training\n"
     ]
    },
    {
     "name": "stderr",
     "output_type": "stream",
     "text": [
      "Epoch:  35%|██████████████████████████▉                                                  | 7/20 [00:00<00:00, 69.66it/s]"
     ]
    },
    {
     "name": "stdout",
     "output_type": "stream",
     "text": [
      "Begin group  2 training\n"
     ]
    },
    {
     "name": "stderr",
     "output_type": "stream",
     "text": [
      "Epoch:   0%|                                                                                     | 0/20 [00:00<?, ?it/s]"
     ]
    },
    {
     "name": "stdout",
     "output_type": "stream",
     "text": [
      "Begin group  3 training\n",
      "Begin group  4 training\n"
     ]
    },
    {
     "name": "stderr",
     "output_type": "stream",
     "text": [
      "                                                                                                                        \r"
     ]
    },
    {
     "name": "stdout",
     "output_type": "stream",
     "text": [
      "Group 0, clients ['f_00053', 'f_00103']\n",
      "Group 1, clients ['f_00138', 'f_00188', 'f_00087', 'f_00137', 'f_00157', 'f_00038', 'f_00097']\n",
      "Group 2, clients ['f_00069', 'f_00099']\n",
      "Group 3, clients ['f_00022', 'f_00001', 'f_00071', 'f_00122']\n",
      "Group 4, clients ['f_00166', 'f_00115', 'f_00195', 'f_00126', 'f_00045']\n"
     ]
    },
    {
     "name": "stderr",
     "output_type": "stream",
     "text": [
      "Epoch:  15%|███████████▌                                                                 | 3/20 [00:00<00:00, 25.17it/s]"
     ]
    },
    {
     "name": "stdout",
     "output_type": "stream",
     "text": [
      "Group 0\n",
      "At round 178 accuracy: 0.8507853403141361\n",
      "At round 178 training accuracy: 0.8430340557275542\n",
      "At round 178 training loss: 0.4399171558350048\n",
      "Group 1\n",
      "At round 178 accuracy: 0.7573099415204678\n",
      "At round 178 training accuracy: 0.7772020725388601\n",
      "At round 178 training loss: 0.5614407508844744\n",
      "Group 2\n",
      "At round 178 accuracy: 0.873972602739726\n",
      "At round 178 training accuracy: 0.8454921949665498\n",
      "At round 178 training loss: 0.4123090561141099\n",
      "Group 3\n",
      "At round 178 accuracy: 0.7842003853564548\n",
      "At round 178 training accuracy: 0.7859368046283934\n",
      "At round 178 training loss: 0.5844127237523231\n",
      "Group 4\n",
      "At round 178 accuracy: 0.8449367088607594\n",
      "At round 178 training accuracy: 0.8490424333458505\n",
      "At round 178 training loss: 0.3784701258218293\n",
      "At round 178 mean test accuracy: 0.8196465696465697 mean train accuracy: 0.8172462091224652\n",
      "The groups difference are: [20.70662441 20.81811137 20.95194182 21.19950546 20.57833329]\n",
      "Begin group  0 training\n"
     ]
    },
    {
     "name": "stderr",
     "output_type": "stream",
     "text": [
      "Epoch:   0%|                                                                                     | 0/20 [00:00<?, ?it/s]"
     ]
    },
    {
     "name": "stdout",
     "output_type": "stream",
     "text": [
      "Begin group  1 training\n"
     ]
    },
    {
     "name": "stderr",
     "output_type": "stream",
     "text": [
      "Epoch:   0%|                                                                                     | 0/20 [00:00<?, ?it/s]"
     ]
    },
    {
     "name": "stdout",
     "output_type": "stream",
     "text": [
      "Begin group  2 training\n"
     ]
    },
    {
     "name": "stderr",
     "output_type": "stream",
     "text": [
      "Epoch:   0%|                                                                                     | 0/20 [00:00<?, ?it/s]"
     ]
    },
    {
     "name": "stdout",
     "output_type": "stream",
     "text": [
      "Begin group  3 training\n"
     ]
    },
    {
     "name": "stderr",
     "output_type": "stream",
     "text": [
      "Epoch:   0%|                                                                                     | 0/20 [00:00<?, ?it/s]"
     ]
    },
    {
     "name": "stdout",
     "output_type": "stream",
     "text": [
      "Begin group  4 training\n"
     ]
    },
    {
     "name": "stderr",
     "output_type": "stream",
     "text": [
      "                                                                                                                        \r"
     ]
    },
    {
     "name": "stdout",
     "output_type": "stream",
     "text": [
      "Group 0, clients ['f_00034', 'f_00134', 'f_00154', 'f_00064', 'f_00083', 'f_00024']\n",
      "Group 1, clients ['f_00187', 'f_00008', 'f_00067', 'f_00007', 'f_00098', 'f_00177']\n",
      "Group 2, clients ['f_00150', 'f_00109']\n",
      "Group 3, clients ['f_00031', 'f_00141', 'f_00192', 'f_00122']\n",
      "Group 4, clients ['f_00065', 'f_00185']\n"
     ]
    },
    {
     "name": "stderr",
     "output_type": "stream",
     "text": [
      "Epoch:   0%|                                                                                     | 0/20 [00:00<?, ?it/s]"
     ]
    },
    {
     "name": "stdout",
     "output_type": "stream",
     "text": [
      "Group 0\n",
      "At round 179 accuracy: 0.8219895287958116\n",
      "At round 179 training accuracy: 0.8222910216718267\n",
      "At round 179 training loss: 0.6356387245488979\n",
      "Group 1\n",
      "At round 179 accuracy: 0.7543859649122807\n",
      "At round 179 training accuracy: 0.7778929188255613\n",
      "At round 179 training loss: 0.6905869969432218\n",
      "Group 2\n",
      "At round 179 accuracy: 0.7616438356164383\n",
      "At round 179 training accuracy: 0.7719018795794839\n",
      "At round 179 training loss: 0.6875516863390875\n",
      "Group 3\n",
      "At round 179 accuracy: 0.8631984585741811\n",
      "At round 179 training accuracy: 0.8762794837561193\n",
      "At round 179 training loss: 0.3091574530330668\n",
      "Group 4\n",
      "At round 179 accuracy: 0.879746835443038\n",
      "At round 179 training accuracy: 0.8850920015020654\n",
      "At round 179 training loss: 0.3031906035752884\n",
      "At round 179 mean test accuracy: 0.8191268191268192 mean train accuracy: 0.8297911211253882\n",
      "The groups difference are: [20.74279427 20.84915822 20.97251327 21.21099088 20.59416409]\n",
      "Begin group  0 training\n"
     ]
    },
    {
     "name": "stderr",
     "output_type": "stream",
     "text": [
      "Epoch:   0%|                                                                                     | 0/20 [00:00<?, ?it/s]"
     ]
    },
    {
     "name": "stdout",
     "output_type": "stream",
     "text": [
      "Begin group  1 training\n"
     ]
    },
    {
     "name": "stderr",
     "output_type": "stream",
     "text": [
      "Epoch:   0%|                                                                                     | 0/20 [00:00<?, ?it/s]"
     ]
    },
    {
     "name": "stdout",
     "output_type": "stream",
     "text": [
      "Begin group  2 training\n",
      "Begin group  3 training\n"
     ]
    },
    {
     "name": "stderr",
     "output_type": "stream",
     "text": [
      "Epoch:   0%|                                                                                     | 0/20 [00:00<?, ?it/s]"
     ]
    },
    {
     "name": "stdout",
     "output_type": "stream",
     "text": [
      "Begin group  4 training\n"
     ]
    },
    {
     "name": "stderr",
     "output_type": "stream",
     "text": [
      "                                                                                                                        \r"
     ]
    },
    {
     "name": "stdout",
     "output_type": "stream",
     "text": [
      "Group 0, clients ['f_00103', 'f_00014', 'f_00173']\n",
      "Group 1, clients ['f_00057', 'f_00187', 'f_00017']\n",
      "Group 2, clients ['f_00020']\n",
      "Group 3, clients ['f_00001', 'f_00041', 'f_00132', 'f_00141', 'f_00061', 'f_00102', 'f_00161', 'f_00072']\n",
      "Group 4, clients ['f_00106', 'f_00195', 'f_00165', 'f_00015', 'f_00116']\n"
     ]
    },
    {
     "name": "stderr",
     "output_type": "stream",
     "text": [
      "Epoch:   0%|                                                                                     | 0/20 [00:00<?, ?it/s]"
     ]
    },
    {
     "name": "stdout",
     "output_type": "stream",
     "text": [
      "Group 0\n",
      "At round 180 accuracy: 0.8979057591623036\n",
      "At round 180 training accuracy: 0.8947368421052632\n",
      "At round 180 training loss: 0.2981618411123937\n",
      "Group 1\n",
      "At round 180 accuracy: 0.7456140350877193\n",
      "At round 180 training accuracy: 0.7754749568221071\n",
      "At round 180 training loss: 0.5912586226055659\n",
      "Group 2\n",
      "At round 180 accuracy: 0.8849315068493151\n",
      "At round 180 training accuracy: 0.8751194647977063\n",
      "At round 180 training loss: 0.3207322076727304\n",
      "Group 3\n",
      "At round 180 accuracy: 0.859344894026975\n",
      "At round 180 training accuracy: 0.8662661326212728\n",
      "At round 180 training loss: 0.3379664294352041\n",
      "Group 4\n",
      "At round 180 accuracy: 0.8354430379746836\n",
      "At round 180 training accuracy: 0.83552384528727\n",
      "At round 180 training loss: 0.48625121381479325\n",
      "At round 180 mean test accuracy: 0.8477130977130977 mean train accuracy: 0.8525668351501127\n",
      "The groups difference are: [20.72039708 20.85402492 20.94575475 21.19418103 20.57371762]\n",
      "Begin group  0 training\n"
     ]
    },
    {
     "name": "stderr",
     "output_type": "stream",
     "text": [
      "Epoch:   0%|                                                                                     | 0/20 [00:00<?, ?it/s]"
     ]
    },
    {
     "name": "stdout",
     "output_type": "stream",
     "text": [
      "Begin group  1 training\n"
     ]
    },
    {
     "name": "stderr",
     "output_type": "stream",
     "text": [
      "Epoch:   0%|                                                                                     | 0/20 [00:00<?, ?it/s]"
     ]
    },
    {
     "name": "stdout",
     "output_type": "stream",
     "text": [
      "Begin group  2 training\n",
      "Begin group  3 training\n"
     ]
    },
    {
     "name": "stderr",
     "output_type": "stream",
     "text": [
      "Epoch:   0%|                                                                                     | 0/20 [00:00<?, ?it/s]"
     ]
    },
    {
     "name": "stdout",
     "output_type": "stream",
     "text": [
      "Begin group  4 training\n"
     ]
    },
    {
     "name": "stderr",
     "output_type": "stream",
     "text": [
      "                                                                                                                        \r"
     ]
    },
    {
     "name": "stdout",
     "output_type": "stream",
     "text": [
      "Group 0, clients ['f_00073', 'f_00064', 'f_00114', 'f_00024', 'f_00013', 'f_00084', 'f_00083', 'f_00104', 'f_00154', 'f_00004']\n",
      "Group 1, clients ['f_00137', 'f_00176']\n",
      "Group 2, clients ['f_00189']\n",
      "Group 3, clients ['f_00052', 'f_00142', 'f_00002']\n",
      "Group 4, clients ['f_00195', 'f_00116', 'f_00166', 'f_00066']\n"
     ]
    },
    {
     "name": "stderr",
     "output_type": "stream",
     "text": [
      "Epoch:  20%|███████████████▍                                                             | 4/20 [00:00<00:00, 36.66it/s]"
     ]
    },
    {
     "name": "stdout",
     "output_type": "stream",
     "text": [
      "Group 0\n",
      "At round 181 accuracy: 0.918848167539267\n",
      "At round 181 training accuracy: 0.9260061919504644\n",
      "At round 181 training loss: 0.23761940971016884\n",
      "Group 1\n",
      "At round 181 accuracy: 0.7514619883040936\n",
      "At round 181 training accuracy: 0.772020725388601\n",
      "At round 181 training loss: 0.6534165806360607\n",
      "Group 2\n",
      "At round 181 accuracy: 0.8575342465753425\n",
      "At round 181 training accuracy: 0.8604651162790697\n",
      "At round 181 training loss: 0.4018643491466207\n",
      "Group 3\n",
      "At round 181 accuracy: 0.8631984585741811\n",
      "At round 181 training accuracy: 0.8678237650200267\n",
      "At round 181 training loss: 0.32808769134863464\n",
      "Group 4\n",
      "At round 181 accuracy: 0.8322784810126582\n",
      "At round 181 training accuracy: 0.8351483289523094\n",
      "At round 181 training loss: 0.4717229175144597\n",
      "At round 181 mean test accuracy: 0.8482328482328483 mean train accuracy: 0.8556726143353024\n",
      "The groups difference are: [20.68018069 20.81441208 20.90989701 21.15300884 20.53933077]\n",
      "Begin group  0 training\n"
     ]
    },
    {
     "name": "stderr",
     "output_type": "stream",
     "text": [
      "Epoch:   0%|                                                                                     | 0/20 [00:00<?, ?it/s]"
     ]
    },
    {
     "name": "stdout",
     "output_type": "stream",
     "text": [
      "Begin group  1 training\n"
     ]
    },
    {
     "name": "stderr",
     "output_type": "stream",
     "text": [
      "Epoch:  40%|██████████████████████████████▊                                              | 8/20 [00:00<00:00, 73.99it/s]"
     ]
    },
    {
     "name": "stdout",
     "output_type": "stream",
     "text": [
      "Begin group  2 training\n"
     ]
    },
    {
     "name": "stderr",
     "output_type": "stream",
     "text": [
      "Epoch:  25%|███████████████████▎                                                         | 5/20 [00:00<00:00, 47.95it/s]"
     ]
    },
    {
     "name": "stdout",
     "output_type": "stream",
     "text": [
      "Begin group  3 training\n"
     ]
    },
    {
     "name": "stderr",
     "output_type": "stream",
     "text": [
      "Epoch:   0%|                                                                                     | 0/20 [00:00<?, ?it/s]"
     ]
    },
    {
     "name": "stdout",
     "output_type": "stream",
     "text": [
      "Begin group  4 training\n"
     ]
    },
    {
     "name": "stderr",
     "output_type": "stream",
     "text": [
      "                                                                                                                        \r"
     ]
    },
    {
     "name": "stdout",
     "output_type": "stream",
     "text": [
      "Group 0, clients ['f_00164', 'f_00104', 'f_00134', 'f_00194']\n",
      "Group 1, clients ['f_00176', 'f_00048', 'f_00138']\n",
      "Group 2, clients ['f_00149', 'f_00070', 'f_00159', 'f_00120']\n",
      "Group 3, clients ['f_00041', 'f_00011', 'f_00192', 'f_00171', 'f_00181']\n",
      "Group 4, clients ['f_00045', 'f_00146', 'f_00155', 'f_00166']\n"
     ]
    },
    {
     "name": "stderr",
     "output_type": "stream",
     "text": [
      "Epoch:  15%|███████████▌                                                                 | 3/20 [00:00<00:00, 25.78it/s]"
     ]
    },
    {
     "name": "stdout",
     "output_type": "stream",
     "text": [
      "Group 0\n",
      "At round 182 accuracy: 0.8979057591623036\n",
      "At round 182 training accuracy: 0.9210526315789473\n",
      "At round 182 training loss: 0.24391434160825268\n",
      "Group 1\n",
      "At round 182 accuracy: 0.7456140350877193\n",
      "At round 182 training accuracy: 0.7651122625215889\n",
      "At round 182 training loss: 0.7313707735357301\n",
      "Group 2\n",
      "At round 182 accuracy: 0.7616438356164383\n",
      "At round 182 training accuracy: 0.7706275884039503\n",
      "At round 182 training loss: 0.6871946477071614\n",
      "Group 3\n",
      "At round 182 accuracy: 0.8689788053949904\n",
      "At round 182 training accuracy: 0.87427681352915\n",
      "At round 182 training loss: 0.38305943568030304\n",
      "Group 4\n",
      "At round 182 accuracy: 0.8386075949367089\n",
      "At round 182 training accuracy: 0.8621855050694706\n",
      "At round 182 training loss: 0.37773325804018054\n",
      "At round 182 mean test accuracy: 0.8274428274428275 mean train accuracy: 0.8424578283904756\n",
      "The groups difference are: [20.67318534 20.78952566 20.90624323 21.14564482 20.53016977]\n",
      "Begin group  0 training\n"
     ]
    },
    {
     "name": "stderr",
     "output_type": "stream",
     "text": [
      "Epoch:   0%|                                                                                     | 0/20 [00:00<?, ?it/s]"
     ]
    },
    {
     "name": "stdout",
     "output_type": "stream",
     "text": [
      "Begin group  1 training\n"
     ]
    },
    {
     "name": "stderr",
     "output_type": "stream",
     "text": [
      "Epoch:   0%|                                                                                     | 0/20 [00:00<?, ?it/s]"
     ]
    },
    {
     "name": "stdout",
     "output_type": "stream",
     "text": [
      "Begin group  2 training\n"
     ]
    },
    {
     "name": "stderr",
     "output_type": "stream",
     "text": [
      "Epoch:  80%|████████████████████████████████████████████████████████████               | 16/20 [00:00<00:00, 151.09it/s]"
     ]
    },
    {
     "name": "stdout",
     "output_type": "stream",
     "text": [
      "Begin group  3 training\n"
     ]
    },
    {
     "name": "stderr",
     "output_type": "stream",
     "text": [
      "Epoch:   0%|                                                                                     | 0/20 [00:00<?, ?it/s]"
     ]
    },
    {
     "name": "stdout",
     "output_type": "stream",
     "text": [
      "Begin group  4 training\n"
     ]
    },
    {
     "name": "stderr",
     "output_type": "stream",
     "text": [
      "                                                                                                                        \r"
     ]
    },
    {
     "name": "stdout",
     "output_type": "stream",
     "text": [
      "Group 0, clients ['f_00154', 'f_00124']\n",
      "Group 1, clients ['f_00158', 'f_00059', 'f_00058', 'f_00198', 'f_00108']\n",
      "Group 2, clients ['f_00049', 'f_00100', 'f_00000', 'f_00089', 'f_00069', 'f_00139', 'f_00130', 'f_00020', 'f_00170']\n",
      "Group 3 is empty.\n",
      "Group 4, clients ['f_00076', 'f_00055', 'f_00036', 'f_00126']\n"
     ]
    },
    {
     "name": "stderr",
     "output_type": "stream",
     "text": [
      "Epoch:  35%|██████████████████████████▉                                                  | 7/20 [00:00<00:00, 66.04it/s]"
     ]
    },
    {
     "name": "stdout",
     "output_type": "stream",
     "text": [
      "Group 0\n",
      "At round 183 accuracy: 0.8481675392670157\n",
      "At round 183 training accuracy: 0.8346749226006192\n",
      "At round 183 training loss: 0.48857853794383926\n",
      "Group 1\n",
      "At round 183 accuracy: 0.847953216374269\n",
      "At round 183 training accuracy: 0.814853195164076\n",
      "At round 183 training loss: 0.476183070806024\n",
      "Group 2\n",
      "At round 183 accuracy: 0.8383561643835616\n",
      "At round 183 training accuracy: 0.8365721567378146\n",
      "At round 183 training loss: 0.41886512290979505\n",
      "Group 3\n",
      "At round 183 accuracy: 0.8439306358381503\n",
      "At round 183 training accuracy: 0.8457943925233645\n",
      "At round 183 training loss: 0.43382925827273355\n",
      "Group 4\n",
      "At round 183 accuracy: 0.9272151898734177\n",
      "At round 183 training accuracy: 0.9432970334209538\n",
      "At round 183 training loss: 0.23774425418494208\n",
      "At round 183 mean test accuracy: 0.8581081081081081 mean train accuracy: 0.8522014493636197\n",
      "The groups difference are: [20.67782889 20.76553315 20.89251177 21.11923366 20.50634644]\n",
      "Begin group  0 training\n"
     ]
    },
    {
     "name": "stderr",
     "output_type": "stream",
     "text": [
      "Epoch:   0%|                                                                                     | 0/20 [00:00<?, ?it/s]"
     ]
    },
    {
     "name": "stdout",
     "output_type": "stream",
     "text": [
      "Begin group  1 training\n"
     ]
    },
    {
     "name": "stderr",
     "output_type": "stream",
     "text": [
      "Epoch:  30%|███████████████████████                                                      | 6/20 [00:00<00:00, 59.05it/s]"
     ]
    },
    {
     "name": "stdout",
     "output_type": "stream",
     "text": [
      "Begin group  2 training\n"
     ]
    },
    {
     "name": "stderr",
     "output_type": "stream",
     "text": [
      "Epoch:  25%|███████████████████▎                                                         | 5/20 [00:00<00:00, 45.70it/s]"
     ]
    },
    {
     "name": "stdout",
     "output_type": "stream",
     "text": [
      "Begin group  4 training\n"
     ]
    },
    {
     "name": "stderr",
     "output_type": "stream",
     "text": [
      "                                                                                                                        \r"
     ]
    },
    {
     "name": "stdout",
     "output_type": "stream",
     "text": [
      "Group 0, clients ['f_00014', 'f_00063', 'f_00194', 'f_00104']\n",
      "Group 1, clients ['f_00078', 'f_00138', 'f_00198', 'f_00188', 'f_00097']\n",
      "Group 2, clients ['f_00000', 'f_00139', 'f_00039', 'f_00079']\n",
      "Group 3, clients ['f_00181']\n",
      "Group 4, clients ['f_00165', 'f_00126', 'f_00066', 'f_00036', 'f_00186', 'f_00105']\n"
     ]
    },
    {
     "name": "stderr",
     "output_type": "stream",
     "text": [
      "Epoch:  45%|██████████████████████████████████▋                                          | 9/20 [00:00<00:00, 82.97it/s]"
     ]
    },
    {
     "name": "stdout",
     "output_type": "stream",
     "text": [
      "Group 0\n",
      "At round 184 accuracy: 0.8481675392670157\n",
      "At round 184 training accuracy: 0.8287925696594427\n",
      "At round 184 training loss: 0.5797550434529227\n",
      "Group 1\n",
      "At round 184 accuracy: 0.7543859649122807\n",
      "At round 184 training accuracy: 0.7526770293609671\n",
      "At round 184 training loss: 0.8033569237059673\n",
      "Group 2\n",
      "At round 184 accuracy: 0.8958904109589041\n",
      "At round 184 training accuracy: 0.887543803759159\n",
      "At round 184 training loss: 0.3176616588266232\n",
      "Group 3\n",
      "At round 184 accuracy: 0.8439306358381503\n",
      "At round 184 training accuracy: 0.8457943925233645\n",
      "At round 184 training loss: 0.43300110306449874\n",
      "Group 4\n",
      "At round 184 accuracy: 0.7911392405063291\n",
      "At round 184 training accuracy: 0.7998497934660158\n",
      "At round 184 training loss: 0.6197070524913451\n",
      "At round 184 mean test accuracy: 0.83004158004158 mean train accuracy: 0.8265635466780342\n",
      "The groups difference are: [20.66731506 20.74283288 20.87174869 21.08761403 20.49732419]\n",
      "Begin group  0 training\n"
     ]
    },
    {
     "name": "stderr",
     "output_type": "stream",
     "text": [
      "Epoch:   0%|                                                                                     | 0/20 [00:00<?, ?it/s]"
     ]
    },
    {
     "name": "stdout",
     "output_type": "stream",
     "text": [
      "Begin group  1 training\n"
     ]
    },
    {
     "name": "stderr",
     "output_type": "stream",
     "text": [
      "Epoch:   0%|                                                                                     | 0/20 [00:00<?, ?it/s]"
     ]
    },
    {
     "name": "stdout",
     "output_type": "stream",
     "text": [
      "Begin group  2 training\n"
     ]
    },
    {
     "name": "stderr",
     "output_type": "stream",
     "text": [
      "Epoch:  85%|███████████████████████████████████████████████████████████████▊           | 17/20 [00:00<00:00, 168.97it/s]"
     ]
    },
    {
     "name": "stdout",
     "output_type": "stream",
     "text": [
      "Begin group  3 training\n",
      "Begin group  4 training\n"
     ]
    },
    {
     "name": "stderr",
     "output_type": "stream",
     "text": [
      "                                                                                                                        \r"
     ]
    },
    {
     "name": "stdout",
     "output_type": "stream",
     "text": [
      "Group 0, clients ['f_00034', 'f_00024', 'f_00124']\n",
      "Group 1, clients ['f_00198']\n",
      "Group 2, clients ['f_00070', 'f_00039', 'f_00179', 'f_00050', 'f_00069']\n",
      "Group 3, clients ['f_00141', 'f_00191', 'f_00122', 'f_00081', 'f_00101']\n",
      "Group 4, clients ['f_00175', 'f_00036', 'f_00016', 'f_00015', 'f_00145', 'f_00095']\n"
     ]
    },
    {
     "name": "stderr",
     "output_type": "stream",
     "text": [
      "                                                                                                                        "
     ]
    },
    {
     "name": "stdout",
     "output_type": "stream",
     "text": [
      "Group 0\n",
      "At round 185 accuracy: 0.8429319371727748\n",
      "At round 185 training accuracy: 0.8408668730650155\n",
      "At round 185 training loss: 0.4452813228217441\n",
      "Group 1\n",
      "At round 185 accuracy: 0.7602339181286549\n",
      "At round 185 training accuracy: 0.7499136442141624\n",
      "At round 185 training loss: 0.7257226953080281\n",
      "Group 2\n",
      "At round 185 accuracy: 0.8383561643835616\n",
      "At round 185 training accuracy: 0.8330678560050971\n",
      "At round 185 training loss: 0.4667783626950102\n",
      "Group 3\n",
      "At round 185 accuracy: 0.766859344894027\n",
      "At round 185 training accuracy: 0.7623497997329773\n",
      "At round 185 training loss: 0.6684072047586395\n",
      "Group 4\n",
      "At round 185 accuracy: 0.8354430379746836\n",
      "At round 185 training accuracy: 0.8644386030792339\n",
      "At round 185 training loss: 0.36168882037312566\n",
      "At round 185 mean test accuracy: 0.8056133056133056 mean train accuracy: 0.8056756592168565\n",
      "The groups difference are: [20.63190174 20.69869292 20.8312262  21.04454525 20.46058982]\n",
      "Begin group  0 training\n"
     ]
    },
    {
     "name": "stderr",
     "output_type": "stream",
     "text": [
      "Epoch:   0%|                                                                                     | 0/20 [00:00<?, ?it/s]"
     ]
    },
    {
     "name": "stdout",
     "output_type": "stream",
     "text": [
      "Begin group  1 training\n",
      "Begin group  2 training\n"
     ]
    },
    {
     "name": "stderr",
     "output_type": "stream",
     "text": [
      "Epoch:  75%|████████████████████████████████████████████████████████▎                  | 15/20 [00:00<00:00, 148.86it/s]"
     ]
    },
    {
     "name": "stdout",
     "output_type": "stream",
     "text": [
      "Begin group  3 training\n"
     ]
    },
    {
     "name": "stderr",
     "output_type": "stream",
     "text": [
      "Epoch:   0%|                                                                                     | 0/20 [00:00<?, ?it/s]"
     ]
    },
    {
     "name": "stdout",
     "output_type": "stream",
     "text": [
      "Begin group  4 training\n"
     ]
    },
    {
     "name": "stderr",
     "output_type": "stream",
     "text": [
      "                                                                                                                        \r"
     ]
    },
    {
     "name": "stdout",
     "output_type": "stream",
     "text": [
      "Group 0, clients ['f_00054', 'f_00064']\n",
      "Group 1, clients ['f_00087', 'f_00167', 'f_00028', 'f_00138', 'f_00037']\n",
      "Group 2, clients ['f_00160', 'f_00040', 'f_00049', 'f_00130', 'f_00019']\n",
      "Group 3, clients ['f_00131', 'f_00041', 'f_00102', 'f_00061', 'f_00031', 'f_00151', 'f_00001']\n",
      "Group 4, clients ['f_00006']\n"
     ]
    },
    {
     "name": "stderr",
     "output_type": "stream",
     "text": [
      "                                                                                                                        "
     ]
    },
    {
     "name": "stdout",
     "output_type": "stream",
     "text": [
      "Group 0\n",
      "At round 186 accuracy: 0.8455497382198953\n",
      "At round 186 training accuracy: 0.8269349845201238\n",
      "At round 186 training loss: 0.5462122003983233\n",
      "Group 1\n",
      "At round 186 accuracy: 0.7543859649122807\n",
      "At round 186 training accuracy: 0.751986183074266\n",
      "At round 186 training loss: 0.8496340524501751\n",
      "Group 2\n",
      "At round 186 accuracy: 0.8958904109589041\n",
      "At round 186 training accuracy: 0.8798980567059573\n",
      "At round 186 training loss: 0.3272884229815815\n",
      "Group 3\n",
      "At round 186 accuracy: 0.8554913294797688\n",
      "At round 186 training accuracy: 0.8720516243880729\n",
      "At round 186 training loss: 0.3307673872730761\n",
      "Group 4\n",
      "At round 186 accuracy: 0.8860759493670886\n",
      "At round 186 training accuracy: 0.8974840405557641\n",
      "At round 186 training loss: 0.2918390834125593\n",
      "At round 186 mean test accuracy: 0.8482328482328483 mean train accuracy: 0.8476341270324584\n",
      "The groups difference are: [20.6161461  20.68768895 20.82587628 21.02649932 20.44833566]\n",
      "Begin group  0 training\n"
     ]
    },
    {
     "name": "stderr",
     "output_type": "stream",
     "text": [
      "Epoch:  20%|███████████████▍                                                             | 4/20 [00:00<00:00, 32.37it/s]"
     ]
    },
    {
     "name": "stdout",
     "output_type": "stream",
     "text": [
      "Begin group  1 training\n"
     ]
    },
    {
     "name": "stderr",
     "output_type": "stream",
     "text": [
      "Epoch:  20%|███████████████▍                                                             | 4/20 [00:00<00:00, 31.63it/s]"
     ]
    },
    {
     "name": "stdout",
     "output_type": "stream",
     "text": [
      "Begin group  2 training\n"
     ]
    },
    {
     "name": "stderr",
     "output_type": "stream",
     "text": [
      "Epoch:   0%|                                                                                     | 0/20 [00:00<?, ?it/s]"
     ]
    },
    {
     "name": "stdout",
     "output_type": "stream",
     "text": [
      "Begin group  3 training\n"
     ]
    },
    {
     "name": "stderr",
     "output_type": "stream",
     "text": [
      "                                                                                                                        \r"
     ]
    },
    {
     "name": "stdout",
     "output_type": "stream",
     "text": [
      "Begin group  4 training\n",
      "Group 0, clients ['f_00044', 'f_00183', 'f_00023', 'f_00193']\n",
      "Group 1, clients ['f_00176', 'f_00108', 'f_00198']\n",
      "Group 2, clients ['f_00020', 'f_00049', 'f_00109', 'f_00080', 'f_00120', 'f_00070']\n",
      "Group 3, clients ['f_00062', 'f_00102', 'f_00052', 'f_00192']\n",
      "Group 4, clients ['f_00136', 'f_00046', 'f_00076']\n"
     ]
    },
    {
     "name": "stderr",
     "output_type": "stream",
     "text": [
      "Epoch:   0%|                                                                                     | 0/20 [00:00<?, ?it/s]"
     ]
    },
    {
     "name": "stdout",
     "output_type": "stream",
     "text": [
      "Group 0\n",
      "At round 187 accuracy: 0.837696335078534\n",
      "At round 187 training accuracy: 0.8185758513931889\n",
      "At round 187 training loss: 0.5632679729431221\n",
      "Group 1\n",
      "At round 187 accuracy: 0.7602339181286549\n",
      "At round 187 training accuracy: 0.7899827288428325\n",
      "At round 187 training loss: 0.7042677663356735\n",
      "Group 2\n",
      "At round 187 accuracy: 0.8356164383561644\n",
      "At round 187 training accuracy: 0.8454921949665498\n",
      "At round 187 training loss: 0.4492031028123371\n",
      "Group 3\n",
      "At round 187 accuracy: 0.884393063583815\n",
      "At round 187 training accuracy: 0.890520694259012\n",
      "At round 187 training loss: 0.29438557733110604\n",
      "Group 4\n",
      "At round 187 accuracy: 0.8164556962025317\n",
      "At round 187 training accuracy: 0.8039804731505821\n",
      "At round 187 training loss: 0.5225588695736832\n",
      "At round 187 mean test accuracy: 0.8326403326403327 mean train accuracy: 0.8360026794957676\n",
      "The groups difference are: [20.63212553 20.7236236  20.87136143 21.04244609 20.46389027]\n",
      "Begin group  0 training\n"
     ]
    },
    {
     "name": "stderr",
     "output_type": "stream",
     "text": [
      "Epoch:  50%|██████████████████████████████████████                                      | 10/20 [00:00<00:00, 91.41it/s]"
     ]
    },
    {
     "name": "stdout",
     "output_type": "stream",
     "text": [
      "Begin group  1 training\n"
     ]
    },
    {
     "name": "stderr",
     "output_type": "stream",
     "text": [
      "Epoch:   0%|                                                                                     | 0/20 [00:00<?, ?it/s]"
     ]
    },
    {
     "name": "stdout",
     "output_type": "stream",
     "text": [
      "Begin group  2 training\n"
     ]
    },
    {
     "name": "stderr",
     "output_type": "stream",
     "text": [
      "Epoch:   5%|███▊                                                                         | 1/20 [00:00<00:03,  5.26it/s]"
     ]
    },
    {
     "name": "stdout",
     "output_type": "stream",
     "text": [
      "Begin group  3 training\n"
     ]
    },
    {
     "name": "stderr",
     "output_type": "stream",
     "text": [
      "Epoch:  35%|██████████████████████████▉                                                  | 7/20 [00:00<00:00, 69.95it/s]"
     ]
    },
    {
     "name": "stdout",
     "output_type": "stream",
     "text": [
      "Begin group  4 training\n"
     ]
    },
    {
     "name": "stderr",
     "output_type": "stream",
     "text": [
      "                                                                                                                        \r"
     ]
    },
    {
     "name": "stdout",
     "output_type": "stream",
     "text": [
      "Group 0, clients ['f_00163', 'f_00073', 'f_00083', 'f_00003', 'f_00004']\n",
      "Group 1, clients ['f_00169', 'f_00158', 'f_00087']\n",
      "Group 2, clients ['f_00060', 'f_00109', 'f_00079', 'f_00129', 'f_00010', 'f_00100']\n",
      "Group 3, clients ['f_00152', 'f_00082', 'f_00191', 'f_00091', 'f_00061']\n",
      "Group 4, clients ['f_00015']\n"
     ]
    },
    {
     "name": "stderr",
     "output_type": "stream",
     "text": [
      "Epoch:   0%|                                                                                     | 0/20 [00:00<?, ?it/s]"
     ]
    },
    {
     "name": "stdout",
     "output_type": "stream",
     "text": [
      "Group 0\n",
      "At round 188 accuracy: 0.8769633507853403\n",
      "At round 188 training accuracy: 0.8863777089783281\n",
      "At round 188 training loss: 0.2989490490141483\n",
      "Group 1\n",
      "At round 188 accuracy: 0.7660818713450293\n",
      "At round 188 training accuracy: 0.7557858376511226\n",
      "At round 188 training loss: 0.6609152920299656\n",
      "Group 2\n",
      "At round 188 accuracy: 0.8410958904109589\n",
      "At round 188 training accuracy: 0.8493150684931506\n",
      "At round 188 training loss: 0.4980264957228752\n",
      "Group 3\n",
      "At round 188 accuracy: 0.8728323699421965\n",
      "At round 188 training accuracy: 0.8769470404984424\n",
      "At round 188 training loss: 0.5328955355655314\n",
      "Group 4\n",
      "At round 188 accuracy: 0.8069620253164557\n",
      "At round 188 training accuracy: 0.8062335711603454\n",
      "At round 188 training loss: 0.7487586270115495\n",
      "At round 188 mean test accuracy: 0.8378378378378378 mean train accuracy: 0.8406917970890933\n",
      "The groups difference are: [20.74432744 20.83645231 20.99215139 21.23057105 20.59609927]\n",
      "Begin group  0 training\n"
     ]
    },
    {
     "name": "stderr",
     "output_type": "stream",
     "text": [
      "Epoch:  65%|████████████████████████████████████████████████▊                          | 13/20 [00:00<00:00, 124.62it/s]"
     ]
    },
    {
     "name": "stdout",
     "output_type": "stream",
     "text": [
      "Begin group  1 training\n"
     ]
    },
    {
     "name": "stderr",
     "output_type": "stream",
     "text": [
      "Epoch:   0%|                                                                                     | 0/20 [00:00<?, ?it/s]"
     ]
    },
    {
     "name": "stdout",
     "output_type": "stream",
     "text": [
      "Begin group  2 training\n"
     ]
    },
    {
     "name": "stderr",
     "output_type": "stream",
     "text": [
      "Epoch:  35%|██████████████████████████▉                                                  | 7/20 [00:00<00:00, 64.44it/s]"
     ]
    },
    {
     "name": "stdout",
     "output_type": "stream",
     "text": [
      "Begin group  3 training\n"
     ]
    },
    {
     "name": "stderr",
     "output_type": "stream",
     "text": [
      "Epoch:  45%|██████████████████████████████████▋                                          | 9/20 [00:00<00:00, 89.25it/s]"
     ]
    },
    {
     "name": "stdout",
     "output_type": "stream",
     "text": [
      "Begin group  4 training\n"
     ]
    },
    {
     "name": "stderr",
     "output_type": "stream",
     "text": [
      "                                                                                                                        \r"
     ]
    },
    {
     "name": "stdout",
     "output_type": "stream",
     "text": [
      "Group 0, clients ['f_00043', 'f_00114', 'f_00163', 'f_00053', 'f_00133']\n",
      "Group 1, clients ['f_00198', 'f_00027', 'f_00037', 'f_00077']\n",
      "Group 2, clients ['f_00130', 'f_00180']\n",
      "Group 3, clients ['f_00091', 'f_00111', 'f_00142', 'f_00002', 'f_00071', 'f_00012']\n",
      "Group 4, clients ['f_00075', 'f_00136', 'f_00106']\n"
     ]
    },
    {
     "name": "stderr",
     "output_type": "stream",
     "text": [
      "Epoch:   0%|                                                                                     | 0/20 [00:00<?, ?it/s]"
     ]
    },
    {
     "name": "stdout",
     "output_type": "stream",
     "text": [
      "Group 0\n",
      "At round 189 accuracy: 0.856020942408377\n",
      "At round 189 training accuracy: 0.8520123839009288\n",
      "At round 189 training loss: 0.4156284628268735\n",
      "Group 1\n",
      "At round 189 accuracy: 0.7485380116959064\n",
      "At round 189 training accuracy: 0.778238341968912\n",
      "At round 189 training loss: 0.6590116232890951\n",
      "Group 2\n",
      "At round 189 accuracy: 0.8575342465753425\n",
      "At round 189 training accuracy: 0.851226505256451\n",
      "At round 189 training loss: 0.39910957773102435\n",
      "Group 3\n",
      "At round 189 accuracy: 0.8362235067437379\n",
      "At round 189 training accuracy: 0.8529149977748108\n",
      "At round 189 training loss: 0.3648000130347798\n",
      "Group 4\n",
      "At round 189 accuracy: 0.8354430379746836\n",
      "At round 189 training accuracy: 0.8362748779571911\n",
      "At round 189 training loss: 0.48218494604740025\n",
      "At round 189 mean test accuracy: 0.8284823284823285 mean train accuracy: 0.836550758175507\n",
      "The groups difference are: [20.77086065 20.88281226 21.01978794 21.24540096 20.62276297]\n",
      "Begin group  0 training\n"
     ]
    },
    {
     "name": "stderr",
     "output_type": "stream",
     "text": [
      "Epoch:   0%|                                                                                     | 0/20 [00:00<?, ?it/s]"
     ]
    },
    {
     "name": "stdout",
     "output_type": "stream",
     "text": [
      "Begin group  1 training\n"
     ]
    },
    {
     "name": "stderr",
     "output_type": "stream",
     "text": [
      "Epoch:  25%|███████████████████▎                                                         | 5/20 [00:00<00:00, 47.60it/s]"
     ]
    },
    {
     "name": "stdout",
     "output_type": "stream",
     "text": [
      "Begin group  2 training\n"
     ]
    },
    {
     "name": "stderr",
     "output_type": "stream",
     "text": [
      "Epoch:  35%|██████████████████████████▉                                                  | 7/20 [00:00<00:00, 66.35it/s]"
     ]
    },
    {
     "name": "stdout",
     "output_type": "stream",
     "text": [
      "Begin group  3 training\n"
     ]
    },
    {
     "name": "stderr",
     "output_type": "stream",
     "text": [
      "Epoch:  40%|██████████████████████████████▊                                              | 8/20 [00:00<00:00, 77.59it/s]"
     ]
    },
    {
     "name": "stdout",
     "output_type": "stream",
     "text": [
      "Begin group  4 training\n"
     ]
    },
    {
     "name": "stderr",
     "output_type": "stream",
     "text": [
      "                                                                                                                        \r"
     ]
    },
    {
     "name": "stdout",
     "output_type": "stream",
     "text": [
      "Group 0, clients ['f_00024', 'f_00014', 'f_00023']\n",
      "Group 1, clients ['f_00107', 'f_00028', 'f_00017', 'f_00018', 'f_00008']\n",
      "Group 2, clients ['f_00139', 'f_00010', 'f_00019']\n",
      "Group 3, clients ['f_00001', 'f_00092']\n",
      "Group 4, clients ['f_00056', 'f_00006', 'f_00055', 'f_00116', 'f_00046', 'f_00045', 'f_00105']\n"
     ]
    },
    {
     "name": "stderr",
     "output_type": "stream",
     "text": [
      "Epoch:  45%|██████████████████████████████████▋                                          | 9/20 [00:00<00:00, 88.90it/s]"
     ]
    },
    {
     "name": "stdout",
     "output_type": "stream",
     "text": [
      "Group 0\n",
      "At round 190 accuracy: 0.824607329842932\n",
      "At round 190 training accuracy: 0.8222910216718267\n",
      "At round 190 training loss: 0.608332074253644\n",
      "Group 1\n",
      "At round 190 accuracy: 0.7485380116959064\n",
      "At round 190 training accuracy: 0.7844559585492228\n",
      "At round 190 training loss: 0.5852664952296667\n",
      "Group 2\n",
      "At round 190 accuracy: 0.8410958904109589\n",
      "At round 190 training accuracy: 0.8493150684931506\n",
      "At round 190 training loss: 0.5417929592264348\n",
      "Group 3\n",
      "At round 190 accuracy: 0.861271676300578\n",
      "At round 190 training accuracy: 0.8684913217623498\n",
      "At round 190 training loss: 0.3347781835166173\n",
      "Group 4\n",
      "At round 190 accuracy: 0.8575949367088608\n",
      "At round 190 training accuracy: 0.8798347728126173\n",
      "At round 190 training loss: 0.312261528424692\n",
      "At round 190 mean test accuracy: 0.8295218295218295 mean train accuracy: 0.8427623165458864\n",
      "The groups difference are: [20.81296519 20.91060446 21.05535902 21.25989045 20.65427262]\n",
      "Begin group  0 training\n"
     ]
    },
    {
     "name": "stderr",
     "output_type": "stream",
     "text": [
      "Epoch:   0%|                                                                                     | 0/20 [00:00<?, ?it/s]"
     ]
    },
    {
     "name": "stdout",
     "output_type": "stream",
     "text": [
      "Begin group  1 training\n"
     ]
    },
    {
     "name": "stderr",
     "output_type": "stream",
     "text": [
      "Epoch:  35%|██████████████████████████▉                                                  | 7/20 [00:00<00:00, 61.60it/s]"
     ]
    },
    {
     "name": "stdout",
     "output_type": "stream",
     "text": [
      "Begin group  2 training\n"
     ]
    },
    {
     "name": "stderr",
     "output_type": "stream",
     "text": [
      "Epoch:   0%|                                                                                     | 0/20 [00:00<?, ?it/s]"
     ]
    },
    {
     "name": "stdout",
     "output_type": "stream",
     "text": [
      "Begin group  3 training\n",
      "Begin group  4 training\n"
     ]
    },
    {
     "name": "stderr",
     "output_type": "stream",
     "text": [
      "                                                                                                                        \r"
     ]
    },
    {
     "name": "stdout",
     "output_type": "stream",
     "text": [
      "Group 0, clients ['f_00103', 'f_00093']\n",
      "Group 1, clients ['f_00028', 'f_00169', 'f_00059', 'f_00027']\n",
      "Group 2, clients ['f_00090', 'f_00110', 'f_00170', 'f_00189', 'f_00139']\n",
      "Group 3, clients ['f_00111', 'f_00142', 'f_00121', 'f_00002', 'f_00081']\n",
      "Group 4, clients ['f_00125', 'f_00045', 'f_00076', 'f_00136']\n"
     ]
    },
    {
     "name": "stderr",
     "output_type": "stream",
     "text": [
      "Epoch:   0%|                                                                                     | 0/20 [00:00<?, ?it/s]"
     ]
    },
    {
     "name": "stdout",
     "output_type": "stream",
     "text": [
      "Group 0\n",
      "At round 191 accuracy: 0.8795811518324608\n",
      "At round 191 training accuracy: 0.9077399380804954\n",
      "At round 191 training loss: 0.25432049590321515\n",
      "Group 1\n",
      "At round 191 accuracy: 0.8304093567251462\n",
      "At round 191 training accuracy: 0.8480138169257341\n",
      "At round 191 training loss: 0.4438521075125185\n",
      "Group 2\n",
      "At round 191 accuracy: 0.8575342465753425\n",
      "At round 191 training accuracy: 0.8556865243708187\n",
      "At round 191 training loss: 0.40485562754402726\n",
      "Group 3\n",
      "At round 191 accuracy: 0.8901734104046243\n",
      "At round 191 training accuracy: 0.9023141967067201\n",
      "At round 191 training loss: 0.26822324329924996\n",
      "Group 4\n",
      "At round 191 accuracy: 0.930379746835443\n",
      "At round 191 training accuracy: 0.9316560270371761\n",
      "At round 191 training loss: 0.2481455275697275\n",
      "At round 191 mean test accuracy: 0.8778586278586279 mean train accuracy: 0.8896534924791426\n",
      "The groups difference are: [20.77550412 20.87193742 21.02601386 21.21676849 20.61595813]\n",
      "Begin group  0 training\n"
     ]
    },
    {
     "name": "stderr",
     "output_type": "stream",
     "text": [
      "Epoch:   0%|                                                                                     | 0/20 [00:00<?, ?it/s]"
     ]
    },
    {
     "name": "stdout",
     "output_type": "stream",
     "text": [
      "Begin group  1 training\n"
     ]
    },
    {
     "name": "stderr",
     "output_type": "stream",
     "text": [
      "Epoch:  35%|██████████████████████████▉                                                  | 7/20 [00:00<00:00, 62.56it/s]"
     ]
    },
    {
     "name": "stdout",
     "output_type": "stream",
     "text": [
      "Begin group  2 training\n"
     ]
    },
    {
     "name": "stderr",
     "output_type": "stream",
     "text": [
      "Epoch:   0%|                                                                                     | 0/20 [00:00<?, ?it/s]"
     ]
    },
    {
     "name": "stdout",
     "output_type": "stream",
     "text": [
      "Begin group  3 training\n"
     ]
    },
    {
     "name": "stderr",
     "output_type": "stream",
     "text": [
      "Epoch:   0%|                                                                                     | 0/20 [00:00<?, ?it/s]"
     ]
    },
    {
     "name": "stdout",
     "output_type": "stream",
     "text": [
      "Begin group  4 training\n"
     ]
    },
    {
     "name": "stderr",
     "output_type": "stream",
     "text": [
      "                                                                                                                        \r"
     ]
    },
    {
     "name": "stdout",
     "output_type": "stream",
     "text": [
      "Group 0, clients ['f_00064', 'f_00133', 'f_00013', 'f_00093', 'f_00023']\n",
      "Group 1, clients ['f_00158', 'f_00037', 'f_00008', 'f_00197']\n",
      "Group 2, clients ['f_00079', 'f_00060', 'f_00100', 'f_00119']\n",
      "Group 3, clients ['f_00022', 'f_00072', 'f_00171', 'f_00041', 'f_00152']\n",
      "Group 4, clients ['f_00085', 'f_00196']\n"
     ]
    },
    {
     "name": "stderr",
     "output_type": "stream",
     "text": [
      "Epoch:   0%|                                                                                     | 0/20 [00:00<?, ?it/s]"
     ]
    },
    {
     "name": "stdout",
     "output_type": "stream",
     "text": [
      "Group 0\n",
      "At round 192 accuracy: 0.8272251308900523\n",
      "At round 192 training accuracy: 0.8281733746130031\n",
      "At round 192 training loss: 0.4993080925934547\n",
      "Group 1\n",
      "At round 192 accuracy: 0.7719298245614035\n",
      "At round 192 training accuracy: 0.7540587219343696\n",
      "At round 192 training loss: 0.6196486908948895\n",
      "Group 2\n",
      "At round 192 accuracy: 0.8821917808219178\n",
      "At round 192 training accuracy: 0.8760751831793565\n",
      "At round 192 training loss: 0.319134439104072\n",
      "Group 3\n",
      "At round 192 accuracy: 0.8477842003853564\n",
      "At round 192 training accuracy: 0.8526924788607032\n",
      "At round 192 training loss: 0.4067211828721355\n",
      "Group 4\n",
      "At round 192 accuracy: 0.819620253164557\n",
      "At round 192 training accuracy: 0.8336462636124672\n",
      "At round 192 training loss: 0.47909406860755255\n",
      "At round 192 mean test accuracy: 0.8321205821205822 mean train accuracy: 0.8318616405821814\n",
      "The groups difference are: [20.76429207 20.83703537 20.99979625 21.19164037 20.61384815]\n",
      "Begin group  0 training\n"
     ]
    },
    {
     "name": "stderr",
     "output_type": "stream",
     "text": [
      "Epoch:   0%|                                                                                     | 0/20 [00:00<?, ?it/s]"
     ]
    },
    {
     "name": "stdout",
     "output_type": "stream",
     "text": [
      "Begin group  1 training\n"
     ]
    },
    {
     "name": "stderr",
     "output_type": "stream",
     "text": [
      "Epoch:  50%|██████████████████████████████████████                                      | 10/20 [00:00<00:00, 91.15it/s]"
     ]
    },
    {
     "name": "stdout",
     "output_type": "stream",
     "text": [
      "Begin group  2 training\n"
     ]
    },
    {
     "name": "stderr",
     "output_type": "stream",
     "text": [
      "Epoch:  60%|█████████████████████████████████████████████                              | 12/20 [00:00<00:00, 117.71it/s]"
     ]
    },
    {
     "name": "stdout",
     "output_type": "stream",
     "text": [
      "Begin group  3 training\n"
     ]
    },
    {
     "name": "stderr",
     "output_type": "stream",
     "text": [
      "Epoch:   0%|                                                                                     | 0/20 [00:00<?, ?it/s]"
     ]
    },
    {
     "name": "stdout",
     "output_type": "stream",
     "text": [
      "Begin group  4 training\n"
     ]
    },
    {
     "name": "stderr",
     "output_type": "stream",
     "text": [
      "                                                                                                                        \r"
     ]
    },
    {
     "name": "stdout",
     "output_type": "stream",
     "text": [
      "Group 0, clients ['f_00133', 'f_00173', 'f_00184', 'f_00004', 'f_00043', 'f_00033', 'f_00073', 'f_00164']\n",
      "Group 1, clients ['f_00018', 'f_00187', 'f_00157']\n",
      "Group 2, clients ['f_00140', 'f_00119', 'f_00069', 'f_00000', 'f_00020']\n",
      "Group 3, clients ['f_00091']\n",
      "Group 4, clients ['f_00006', 'f_00186', 'f_00105']\n"
     ]
    },
    {
     "name": "stderr",
     "output_type": "stream",
     "text": [
      "Epoch:   0%|                                                                                     | 0/20 [00:00<?, ?it/s]"
     ]
    },
    {
     "name": "stdout",
     "output_type": "stream",
     "text": [
      "Group 0\n",
      "At round 193 accuracy: 0.8403141361256544\n",
      "At round 193 training accuracy: 0.8352941176470589\n",
      "At round 193 training loss: 0.4722629129148489\n",
      "Group 1\n",
      "At round 193 accuracy: 0.7953216374269005\n",
      "At round 193 training accuracy: 0.836614853195164\n",
      "At round 193 training loss: 0.47885388006200447\n",
      "Group 2\n",
      "At round 193 accuracy: 0.8493150684931506\n",
      "At round 193 training accuracy: 0.8435807582032494\n",
      "At round 193 training loss: 0.3894993259045454\n",
      "Group 3\n",
      "At round 193 accuracy: 0.8747591522157996\n",
      "At round 193 training accuracy: 0.8874054294615042\n",
      "At round 193 training loss: 0.2888786175089727\n",
      "Group 4\n",
      "At round 193 accuracy: 0.9018987341772152\n",
      "At round 193 training accuracy: 0.9102515959444236\n",
      "At round 193 training loss: 0.26188105976518905\n",
      "At round 193 mean test accuracy: 0.8534303534303534 mean train accuracy: 0.8635284087448998\n",
      "The groups difference are: [20.74621544 20.82983086 20.99153883 21.17364855 20.59461215]\n",
      "Begin group  0 training\n"
     ]
    },
    {
     "name": "stderr",
     "output_type": "stream",
     "text": [
      "Epoch:   0%|                                                                                     | 0/20 [00:00<?, ?it/s]"
     ]
    },
    {
     "name": "stdout",
     "output_type": "stream",
     "text": [
      "Begin group  1 training\n"
     ]
    },
    {
     "name": "stderr",
     "output_type": "stream",
     "text": [
      "Epoch:   0%|                                                                                     | 0/20 [00:00<?, ?it/s]"
     ]
    },
    {
     "name": "stdout",
     "output_type": "stream",
     "text": [
      "Begin group  2 training\n"
     ]
    },
    {
     "name": "stderr",
     "output_type": "stream",
     "text": [
      "Epoch:  35%|██████████████████████████▉                                                  | 7/20 [00:00<00:00, 60.93it/s]"
     ]
    },
    {
     "name": "stdout",
     "output_type": "stream",
     "text": [
      "Begin group  3 training\n"
     ]
    },
    {
     "name": "stderr",
     "output_type": "stream",
     "text": [
      "Epoch:   0%|                                                                                     | 0/20 [00:00<?, ?it/s]"
     ]
    },
    {
     "name": "stdout",
     "output_type": "stream",
     "text": [
      "Begin group  4 training\n"
     ]
    },
    {
     "name": "stderr",
     "output_type": "stream",
     "text": [
      "                                                                                                                        \r"
     ]
    },
    {
     "name": "stdout",
     "output_type": "stream",
     "text": [
      "Group 0, clients ['f_00073', 'f_00133', 'f_00164', 'f_00143', 'f_00053']\n",
      "Group 1, clients ['f_00017', 'f_00188', 'f_00008']\n",
      "Group 2, clients ['f_00139', 'f_00180']\n",
      "Group 3, clients ['f_00101', 'f_00152', 'f_00002', 'f_00041']\n",
      "Group 4, clients ['f_00006', 'f_00136', 'f_00035', 'f_00045', 'f_00165', 'f_00046']\n"
     ]
    },
    {
     "name": "stderr",
     "output_type": "stream",
     "text": [
      "Epoch:  20%|███████████████▍                                                             | 4/20 [00:00<00:00, 34.48it/s]"
     ]
    },
    {
     "name": "stdout",
     "output_type": "stream",
     "text": [
      "Group 0\n",
      "At round 194 accuracy: 0.8821989528795812\n",
      "At round 194 training accuracy: 0.8953560371517028\n",
      "At round 194 training loss: 0.28001767068455463\n",
      "Group 1\n",
      "At round 194 accuracy: 0.7953216374269005\n",
      "At round 194 training accuracy: 0.8293609671848013\n",
      "At round 194 training loss: 0.47339233459586305\n",
      "Group 2\n",
      "At round 194 accuracy: 0.9013698630136986\n",
      "At round 194 training accuracy: 0.890729531697993\n",
      "At round 194 training loss: 0.3162145272215372\n",
      "Group 3\n",
      "At round 194 accuracy: 0.7572254335260116\n",
      "At round 194 training accuracy: 0.7614597240765465\n",
      "At round 194 training loss: 0.714962582113441\n",
      "Group 4\n",
      "At round 194 accuracy: 0.9208860759493671\n",
      "At round 194 training accuracy: 0.9376642883965453\n",
      "At round 194 training loss: 0.24920720304598543\n",
      "At round 194 mean test accuracy: 0.843035343035343 mean train accuracy: 0.8530540161987699\n",
      "The groups difference are: [20.75585578 20.81913722 20.97573259 21.16646462 20.58371426]\n",
      "Begin group  0 training\n"
     ]
    },
    {
     "name": "stderr",
     "output_type": "stream",
     "text": [
      "Epoch:   0%|                                                                                     | 0/20 [00:00<?, ?it/s]"
     ]
    },
    {
     "name": "stdout",
     "output_type": "stream",
     "text": [
      "Begin group  1 training\n",
      "Begin group  2 training\n"
     ]
    },
    {
     "name": "stderr",
     "output_type": "stream",
     "text": [
      "Epoch:  30%|███████████████████████                                                      | 6/20 [00:00<00:00, 57.24it/s]"
     ]
    },
    {
     "name": "stdout",
     "output_type": "stream",
     "text": [
      "Begin group  3 training\n"
     ]
    },
    {
     "name": "stderr",
     "output_type": "stream",
     "text": [
      "Epoch:   0%|                                                                                     | 0/20 [00:00<?, ?it/s]"
     ]
    },
    {
     "name": "stdout",
     "output_type": "stream",
     "text": [
      "Begin group  4 training\n"
     ]
    },
    {
     "name": "stderr",
     "output_type": "stream",
     "text": [
      "                                                                                                                        \r"
     ]
    },
    {
     "name": "stdout",
     "output_type": "stream",
     "text": [
      "Group 0, clients ['f_00093', 'f_00173', 'f_00154', 'f_00194', 'f_00133']\n",
      "Group 1, clients ['f_00098', 'f_00107', 'f_00197', 'f_00068', 'f_00178']\n",
      "Group 2, clients ['f_00049', 'f_00019', 'f_00130']\n",
      "Group 3, clients ['f_00161', 'f_00052', 'f_00032', 'f_00062']\n",
      "Group 4, clients ['f_00036', 'f_00165', 'f_00015']\n"
     ]
    },
    {
     "name": "stderr",
     "output_type": "stream",
     "text": [
      "Epoch:  30%|███████████████████████                                                      | 6/20 [00:00<00:00, 55.69it/s]"
     ]
    },
    {
     "name": "stdout",
     "output_type": "stream",
     "text": [
      "Group 0\n",
      "At round 195 accuracy: 0.8586387434554974\n",
      "At round 195 training accuracy: 0.868421052631579\n",
      "At round 195 training loss: 0.3485598456356732\n",
      "Group 1\n",
      "At round 195 accuracy: 0.8450292397660819\n",
      "At round 195 training accuracy: 0.86286701208981\n",
      "At round 195 training loss: 0.4147450398750256\n",
      "Group 2\n",
      "At round 195 accuracy: 0.8328767123287671\n",
      "At round 195 training accuracy: 0.8407136030582988\n",
      "At round 195 training loss: 0.4750567264534478\n",
      "Group 3\n",
      "At round 195 accuracy: 0.8670520231213873\n",
      "At round 195 training accuracy: 0.8709390298175345\n",
      "At round 195 training loss: 0.30622524469029816\n",
      "Group 4\n",
      "At round 195 accuracy: 0.9177215189873418\n",
      "At round 195 training accuracy: 0.9339091250469396\n",
      "At round 195 training loss: 0.26598647936277714\n",
      "At round 195 mean test accuracy: 0.8633056133056133 mean train accuracy: 0.8734547226112904\n",
      "The groups difference are: [20.79014856 20.83171109 21.0079169  21.17827803 20.60340784]\n",
      "Begin group  0 training\n"
     ]
    },
    {
     "name": "stderr",
     "output_type": "stream",
     "text": [
      "Epoch:  25%|███████████████████▎                                                         | 5/20 [00:00<00:00, 41.88it/s]"
     ]
    },
    {
     "name": "stdout",
     "output_type": "stream",
     "text": [
      "Begin group  1 training\n"
     ]
    },
    {
     "name": "stderr",
     "output_type": "stream",
     "text": [
      "Epoch:  75%|████████████████████████████████████████████████████████▎                  | 15/20 [00:00<00:00, 141.48it/s]"
     ]
    },
    {
     "name": "stdout",
     "output_type": "stream",
     "text": [
      "Begin group  2 training\n"
     ]
    },
    {
     "name": "stderr",
     "output_type": "stream",
     "text": [
      "Epoch:  30%|███████████████████████                                                      | 6/20 [00:00<00:00, 59.68it/s]"
     ]
    },
    {
     "name": "stdout",
     "output_type": "stream",
     "text": [
      "Begin group  3 training\n"
     ]
    },
    {
     "name": "stderr",
     "output_type": "stream",
     "text": [
      "Epoch:   0%|                                                                                     | 0/20 [00:00<?, ?it/s]"
     ]
    },
    {
     "name": "stdout",
     "output_type": "stream",
     "text": [
      "Begin group  4 training\n"
     ]
    },
    {
     "name": "stderr",
     "output_type": "stream",
     "text": [
      "                                                                                                                        \r"
     ]
    },
    {
     "name": "stdout",
     "output_type": "stream",
     "text": [
      "Group 0, clients ['f_00073', 'f_00003', 'f_00103', 'f_00013', 'f_00023']\n",
      "Group 1, clients ['f_00157', 'f_00147', 'f_00177']\n",
      "Group 2, clients ['f_00150', 'f_00020', 'f_00159', 'f_00170', 'f_00179']\n",
      "Group 3, clients ['f_00182', 'f_00112', 'f_00122']\n",
      "Group 4, clients ['f_00036', 'f_00156', 'f_00145', 'f_00025']\n"
     ]
    },
    {
     "name": "stderr",
     "output_type": "stream",
     "text": [
      "Epoch:  25%|███████████████████▎                                                         | 5/20 [00:00<00:00, 40.16it/s]"
     ]
    },
    {
     "name": "stdout",
     "output_type": "stream",
     "text": [
      "Group 0\n",
      "At round 196 accuracy: 0.9031413612565445\n",
      "At round 196 training accuracy: 0.9377708978328173\n",
      "At round 196 training loss: 0.23015804882665905\n",
      "Group 1\n",
      "At round 196 accuracy: 0.783625730994152\n",
      "At round 196 training accuracy: 0.7633851468048359\n",
      "At round 196 training loss: 0.6148080442132934\n",
      "Group 2\n",
      "At round 196 accuracy: 0.8794520547945206\n",
      "At round 196 training accuracy: 0.8703408728894553\n",
      "At round 196 training loss: 0.36200169544380995\n",
      "Group 3\n",
      "At round 196 accuracy: 0.8689788053949904\n",
      "At round 196 training accuracy: 0.8749443702714731\n",
      "At round 196 training loss: 0.5312889236003545\n",
      "Group 4\n",
      "At round 196 accuracy: 0.870253164556962\n",
      "At round 196 training accuracy: 0.8772061584678934\n",
      "At round 196 training loss: 0.3256614787844711\n",
      "At round 196 mean test accuracy: 0.8627858627858628 mean train accuracy: 0.8671213689787467\n",
      "The groups difference are: [20.90441192 20.95772746 21.11669113 21.38189431 20.72349291]\n",
      "Begin group  0 training\n"
     ]
    },
    {
     "name": "stderr",
     "output_type": "stream",
     "text": [
      "                                                                                                                        "
     ]
    },
    {
     "name": "stdout",
     "output_type": "stream",
     "text": [
      "Begin group  1 training\n"
     ]
    },
    {
     "name": "stderr",
     "output_type": "stream",
     "text": [
      "Epoch:   0%|                                                                                     | 0/20 [00:00<?, ?it/s]"
     ]
    },
    {
     "name": "stdout",
     "output_type": "stream",
     "text": [
      "Begin group  2 training\n"
     ]
    },
    {
     "name": "stderr",
     "output_type": "stream",
     "text": [
      "Epoch:   0%|                                                                                     | 0/20 [00:00<?, ?it/s]"
     ]
    },
    {
     "name": "stdout",
     "output_type": "stream",
     "text": [
      "Begin group  3 training\n"
     ]
    },
    {
     "name": "stderr",
     "output_type": "stream",
     "text": [
      "Epoch:  90%|███████████████████████████████████████████████████████████████████▌       | 18/20 [00:00<00:00, 179.39it/s]"
     ]
    },
    {
     "name": "stdout",
     "output_type": "stream",
     "text": [
      "Begin group  4 training\n"
     ]
    },
    {
     "name": "stderr",
     "output_type": "stream",
     "text": [
      "                                                                                                                        \r"
     ]
    },
    {
     "name": "stdout",
     "output_type": "stream",
     "text": [
      "Group 0, clients ['f_00104', 'f_00103', 'f_00034', 'f_00194']\n",
      "Group 1, clients ['f_00047', 'f_00048', 'f_00138', 'f_00188', 'f_00147', 'f_00117', 'f_00028', 'f_00187']\n",
      "Group 2, clients ['f_00029', 'f_00130']\n",
      "Group 3, clients ['f_00172', 'f_00011', 'f_00101', 'f_00081', 'f_00052', 'f_00162']\n",
      "Group 4 is empty.\n"
     ]
    },
    {
     "name": "stderr",
     "output_type": "stream",
     "text": [
      "Epoch:   0%|                                                                                     | 0/20 [00:00<?, ?it/s]"
     ]
    },
    {
     "name": "stdout",
     "output_type": "stream",
     "text": [
      "Group 0\n",
      "At round 197 accuracy: 0.8298429319371727\n",
      "At round 197 training accuracy: 0.8303405572755418\n",
      "At round 197 training loss: 0.4951018779639489\n",
      "Group 1\n",
      "At round 197 accuracy: 0.7514619883040936\n",
      "At round 197 training accuracy: 0.7837651122625215\n",
      "At round 197 training loss: 0.7345978949971768\n",
      "Group 2\n",
      "At round 197 accuracy: 0.9068493150684932\n",
      "At round 197 training accuracy: 0.8929595412551768\n",
      "At round 197 training loss: 0.30039044260959713\n",
      "Group 3\n",
      "At round 197 accuracy: 0.8689788053949904\n",
      "At round 197 training accuracy: 0.8749443702714731\n",
      "At round 197 training loss: 0.5354509753820416\n",
      "Group 4\n",
      "At round 197 accuracy: 0.9272151898734177\n",
      "At round 197 training accuracy: 0.9279008636875704\n",
      "At round 197 training loss: 0.2582545365454154\n",
      "At round 197 mean test accuracy: 0.8570686070686071 mean train accuracy: 0.8621277632300104\n",
      "The groups difference are: [20.89478181 20.94975508 21.10155733 21.35864519 20.7060899 ]\n",
      "Begin group  0 training\n"
     ]
    },
    {
     "name": "stderr",
     "output_type": "stream",
     "text": [
      "Epoch:   0%|                                                                                     | 0/20 [00:00<?, ?it/s]"
     ]
    },
    {
     "name": "stdout",
     "output_type": "stream",
     "text": [
      "Begin group  1 training\n"
     ]
    },
    {
     "name": "stderr",
     "output_type": "stream",
     "text": [
      "Epoch:   0%|                                                                                     | 0/20 [00:00<?, ?it/s]"
     ]
    },
    {
     "name": "stdout",
     "output_type": "stream",
     "text": [
      "Begin group  2 training\n",
      "Begin group  3 training\n"
     ]
    },
    {
     "name": "stderr",
     "output_type": "stream",
     "text": [
      "                                                                                                                        \r"
     ]
    },
    {
     "name": "stdout",
     "output_type": "stream",
     "text": [
      "Group 0, clients ['f_00064', 'f_00173', 'f_00164', 'f_00083', 'f_00043']\n",
      "Group 1, clients ['f_00118', 'f_00158', 'f_00187', 'f_00147', 'f_00087']\n",
      "Group 2, clients ['f_00199', 'f_00080', 'f_00050']\n",
      "Group 3, clients ['f_00111', 'f_00091', 'f_00082', 'f_00102']\n",
      "Group 4, clients ['f_00125', 'f_00005', 'f_00026']\n"
     ]
    },
    {
     "name": "stderr",
     "output_type": "stream",
     "text": [
      "Epoch:   0%|                                                                                     | 0/20 [00:00<?, ?it/s]"
     ]
    },
    {
     "name": "stdout",
     "output_type": "stream",
     "text": [
      "Group 0\n",
      "At round 198 accuracy: 0.8979057591623036\n",
      "At round 198 training accuracy: 0.8953560371517028\n",
      "At round 198 training loss: 0.29239496140518795\n",
      "Group 1\n",
      "At round 198 accuracy: 0.8187134502923976\n",
      "At round 198 training accuracy: 0.8404145077720208\n",
      "At round 198 training loss: 0.4636723637169095\n",
      "Group 2\n",
      "At round 198 accuracy: 0.8712328767123287\n",
      "At round 198 training accuracy: 0.8626951258362536\n",
      "At round 198 training loss: 0.39545294692055666\n",
      "Group 3\n",
      "At round 198 accuracy: 0.8458574181117534\n",
      "At round 198 training accuracy: 0.8555852247441033\n",
      "At round 198 training loss: 0.4024200181318857\n",
      "Group 4\n",
      "At round 198 accuracy: 0.9272151898734177\n",
      "At round 198 training accuracy: 0.9279008636875704\n",
      "At round 198 training loss: 0.2583200501748775\n",
      "At round 198 mean test accuracy: 0.8695426195426196 mean train accuracy: 0.8738201083977833\n",
      "The groups difference are: [20.83988793 20.88847086 21.03878766 21.30074668 20.6383522 ]\n",
      "Begin group  0 training\n"
     ]
    },
    {
     "name": "stderr",
     "output_type": "stream",
     "text": [
      "Epoch:  25%|███████████████████▎                                                         | 5/20 [00:00<00:00, 46.29it/s]"
     ]
    },
    {
     "name": "stdout",
     "output_type": "stream",
     "text": [
      "Begin group  1 training\n"
     ]
    },
    {
     "name": "stderr",
     "output_type": "stream",
     "text": [
      "Epoch:  35%|██████████████████████████▉                                                  | 7/20 [00:00<00:00, 64.98it/s]"
     ]
    },
    {
     "name": "stdout",
     "output_type": "stream",
     "text": [
      "Begin group  2 training\n"
     ]
    },
    {
     "name": "stderr",
     "output_type": "stream",
     "text": [
      "Epoch:   0%|                                                                                     | 0/20 [00:00<?, ?it/s]"
     ]
    },
    {
     "name": "stdout",
     "output_type": "stream",
     "text": [
      "Begin group  3 training\n"
     ]
    },
    {
     "name": "stderr",
     "output_type": "stream",
     "text": [
      "Epoch:   0%|                                                                                     | 0/20 [00:00<?, ?it/s]"
     ]
    },
    {
     "name": "stdout",
     "output_type": "stream",
     "text": [
      "Begin group  4 training\n"
     ]
    },
    {
     "name": "stderr",
     "output_type": "stream",
     "text": [
      "                                                                                                                        \r"
     ]
    },
    {
     "name": "stdout",
     "output_type": "stream",
     "text": [
      "Group 0, clients ['f_00194', 'f_00043', 'f_00034', 'f_00144', 'f_00133', 'f_00094', 'f_00123', 'f_00153', 'f_00013', 'f_00063']\n",
      "Group 1, clients ['f_00157']\n",
      "Group 2, clients ['f_00070', 'f_00149', 'f_00089']\n",
      "Group 3, clients ['f_00052', 'f_00021']\n",
      "Group 4, clients ['f_00045', 'f_00146', 'f_00065', 'f_00116']\n"
     ]
    },
    {
     "name": "stderr",
     "output_type": "stream",
     "text": [
      "Epoch:  30%|███████████████████████                                                      | 6/20 [00:00<00:00, 56.84it/s]"
     ]
    },
    {
     "name": "stdout",
     "output_type": "stream",
     "text": [
      "Group 0\n",
      "At round 199 accuracy: 0.8507853403141361\n",
      "At round 199 training accuracy: 0.8625386996904024\n",
      "At round 199 training loss: 0.3712005587092863\n",
      "Group 1\n",
      "At round 199 accuracy: 0.783625730994152\n",
      "At round 199 training accuracy: 0.7889464594127806\n",
      "At round 199 training loss: 0.5630756109901455\n",
      "Group 2\n",
      "At round 199 accuracy: 0.8465753424657534\n",
      "At round 199 training accuracy: 0.8298821280662632\n",
      "At round 199 training loss: 0.43317675871543726\n",
      "Group 3\n",
      "At round 199 accuracy: 0.838150289017341\n",
      "At round 199 training accuracy: 0.8604806408544726\n",
      "At round 199 training loss: 0.3309811216442915\n",
      "Group 4\n",
      "At round 199 accuracy: 0.8607594936708861\n",
      "At round 199 training accuracy: 0.8471648516710477\n",
      "At round 199 training loss: 0.37941874439750806\n",
      "At round 199 mean test accuracy: 0.8362785862785863 mean train accuracy: 0.8402655136715181\n",
      "The groups difference are: [20.90904605 20.95994639 21.09869658 21.35260883 20.70280401]\n",
      "Begin group  0 training\n"
     ]
    },
    {
     "name": "stderr",
     "output_type": "stream",
     "text": [
      "Epoch:   0%|                                                                                     | 0/20 [00:00<?, ?it/s]"
     ]
    },
    {
     "name": "stdout",
     "output_type": "stream",
     "text": [
      "Begin group  1 training\n",
      "Begin group  2 training\n"
     ]
    },
    {
     "name": "stderr",
     "output_type": "stream",
     "text": [
      "Epoch:  25%|███████████████████▎                                                         | 5/20 [00:00<00:00, 49.75it/s]"
     ]
    },
    {
     "name": "stdout",
     "output_type": "stream",
     "text": [
      "Begin group  3 training\n"
     ]
    },
    {
     "name": "stderr",
     "output_type": "stream",
     "text": [
      "Epoch:   0%|                                                                                     | 0/20 [00:00<?, ?it/s]"
     ]
    },
    {
     "name": "stdout",
     "output_type": "stream",
     "text": [
      "Begin group  4 training\n"
     ]
    },
    {
     "name": "stderr",
     "output_type": "stream",
     "text": [
      "                                                                                                                        \r"
     ]
    }
   ],
   "source": [
    "server.train()"
   ]
  },
  {
   "cell_type": "code",
   "execution_count": 5,
   "metadata": {},
   "outputs": [
    {
     "name": "stdout",
     "output_type": "stream",
     "text": [
      "Counter({7.0: 107, 6.0: 104, 5.0: 60, 8.0: 45})\n",
      "316\n"
     ]
    }
   ],
   "source": [
    "from collections import Counter\n",
    "\n",
    "group_list = server.group_list\n",
    "clients = server.clients\n",
    "g = group_list[-1]\n",
    "c_list = []\n",
    "for c in clients:\n",
    "  if c.group == g:\n",
    "    c_list.append(c)\n",
    "\n",
    "cnt = Counter()\n",
    "for c in c_list:\n",
    "  cnt += Counter(c.eval_data['y'])\n",
    "print(cnt)\n",
    "print(sum(cnt.values()))"
   ]
  },
  {
   "cell_type": "code",
   "execution_count": 6,
   "metadata": {},
   "outputs": [
    {
     "name": "stdout",
     "output_type": "stream",
     "text": [
      "[[0.5 1. ]\n",
      " [1.5 2. ]\n",
      " [2.5 3. ]\n",
      " [3.5 4. ]\n",
      " [4.5 5. ]]\n",
      "(5, 1)\n"
     ]
    }
   ],
   "source": [
    "nd1 = np.arange(10).reshape(5,2)\n",
    "nd2 = np.arange(10).reshape(5,2)\n",
    "nd3 = np.array([3.]*10).reshape(5,2)\n",
    "print((nd2+1.)/2.)\n",
    "#print(nd2)\n",
    "\n",
    "print(np.linalg.norm(nd2, axis=1, keepdims=True).shape)"
   ]
  },
  {
   "cell_type": "code",
   "execution_count": 7,
   "metadata": {},
   "outputs": [],
   "source": [
    "fname = 'sampling_interval.csv'\n",
    "interval = 5\n",
    "rounds = 200\n",
    "with open(fname, 'w') as csv_f:\n",
    "  csv_f.write(str(1)+'\\n')\n",
    "  for i in range(2, rounds+1):\n",
    "    if i % interval == 0:\n",
    "      csv_f.write(str(i))\n",
    "    elif i == rounds:\n",
    "      csv_f.write('200')\n",
    "    csv_f.write('\\n')"
   ]
  }
 ],
 "metadata": {
  "kernelspec": {
   "display_name": "Python 3",
   "language": "python",
   "name": "python3"
  },
  "language_info": {
   "codemirror_mode": {
    "name": "ipython",
    "version": 3
   },
   "file_extension": ".py",
   "mimetype": "text/x-python",
   "name": "python",
   "nbconvert_exporter": "python",
   "pygments_lexer": "ipython3",
   "version": "3.7.7"
  }
 },
 "nbformat": 4,
 "nbformat_minor": 4
}
