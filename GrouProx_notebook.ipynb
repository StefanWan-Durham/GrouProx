{
 "cells": [
  {
   "cell_type": "code",
   "execution_count": 1,
   "metadata": {},
   "outputs": [
    {
     "name": "stdout",
     "output_type": "stream",
     "text": [
      "WARNING:tensorflow:From /home/lab/anaconda3/envs/TFF/lib/python3.7/site-packages/tensorflow/python/compat/v2_compat.py:96: disable_resource_variables (from tensorflow.python.ops.variable_scope) is deprecated and will be removed in a future version.\n",
      "Instructions for updating:\n",
      "non-resource variables are not supported in the long term\n"
     ]
    }
   ],
   "source": [
    "import importlib\n",
    "import tensorflow.compat.v1 as tf\n",
    "tf.disable_v2_behavior()\n",
    "from flearn.utils.model_utils import read_data\n",
    "import os\n",
    "import importlib\n",
    "import random\n",
    "import numpy as np\n",
    "\n",
    "from flearn.models import client\n",
    "from flearn.models import group\n",
    "from flearn.trainers import grouprox\n",
    "from flearn.trainers import fedprox\n",
    "from flearn.trainers import fedavg"
   ]
  },
  {
   "cell_type": "code",
   "execution_count": 2,
   "metadata": {},
   "outputs": [
    {
     "name": "stdout",
     "output_type": "stream",
     "text": [
      "grouprox-nist-NumG5-Agglr0.1-EmptyT-ProximalT.csv\n"
     ]
    }
   ],
   "source": [
    "params = {}\n",
    "#DATASETS = ['sent140', 'nist', 'shakespeare', 'mnist', 'synthetic_iid', 'synthetic_0_0', 'synthetic_0.5_0.5', 'synthetic_1_1']\n",
    "\n",
    "\"\"\"\n",
    "Parameters that need to be manually set\n",
    "\"\"\"\n",
    "\n",
    "params['dataset'] = 'nist'\n",
    "#params['dataset'] = 'mnist'\n",
    "params['model'] = 'mclr'\n",
    "params['optimizer'] = 'grouprox'\n",
    "params['drop_percent'] = 0\n",
    "\n",
    "if params['dataset'] == 'mnist':\n",
    "  params['model_params'] = (10,)\n",
    "  params['learning_rate'] = 0.03\n",
    "  params['mu'] = 1\n",
    "if params['dataset'] == 'nist':\n",
    "  params['model_params'] = (26,)\n",
    "  params['learning_rate'] = 0.003\n",
    "  params['mu'] = 1\n",
    "if params['dataset'] == 'sent140':\n",
    "  params['model_params'] = (25, 2, 100) # seq_len, num_classes, num_hidden\n",
    "  params['learning_rate'] = 0.3\n",
    "  params['mu'] = 0.01\n",
    "if params['dataset'].startswith('synthetic'):\n",
    "  params['model_params'] = (10,)\n",
    "  params['learning_rate'] = 0.0\n",
    "  params['mu'] = 1\n",
    "\n",
    "if params['optimizer']  == 'fedavg':\n",
    "  pass\n",
    "if params['optimizer']  == 'fedprox':\n",
    "  pass\n",
    "if params['optimizer']  == 'grouprox':\n",
    "  params['proximal'] = True\n",
    "  params['allow_empty'] = True\n",
    "  params['evenly'] = False\n",
    "  params['num_group'] = 5\n",
    "  params['min_clients'] = 2\n",
    "\n",
    "\n",
    "\"\"\"\n",
    "Common parameters\n",
    "\"\"\"\n",
    "params['num_rounds'] = 200\n",
    "params['num_epochs'] = 20\n",
    "params['batch_size'] = 10\n",
    "params['eval_every'] = 1\n",
    "params['clients_per_round'] = 20\n",
    "params['seed'] = 233\n",
    "params['agg_lr'] = 0.1\n",
    "\n",
    "\n",
    "\"\"\" Set the output CSV file name \"\"\"\n",
    "info = '{}-{}'.format(params['optimizer'], params['dataset'])\n",
    "info2 = ''\n",
    "suffix = '.csv'\n",
    "if params['optimizer'] == 'fedavg':\n",
    "  pass\n",
    "if params['optimizer'] == 'fedprox':\n",
    "  pass\n",
    "if params['optimizer'] == 'grouprox':\n",
    "  info2 = '-NumG{:1d}-Agglr{:.4}-Empty{:.1}-Proximal{:.1}'.format(\n",
    "    params['num_group'], params['agg_lr'], str(params['allow_empty']), str(params['proximal']))\n",
    "  if params['allow_empty'] == False:\n",
    "    info2 = info2 + '-Evenly{:.1}'.format(str(params['evenly']))\n",
    "\n",
    "params['export_filename'] = info + info2 + suffix\n",
    "\n",
    "print(params['export_filename'])"
   ]
  },
  {
   "cell_type": "code",
   "execution_count": 3,
   "metadata": {
    "scrolled": true
   },
   "outputs": [
    {
     "name": "stdout",
     "output_type": "stream",
     "text": [
      "Using Group prox to Train\n",
      "WARNING:tensorflow:From /home/lab/workspace/GrouProx/flearn/models/nist/mclr.py:41: dense (from tensorflow.python.layers.core) is deprecated and will be removed in a future version.\n",
      "Instructions for updating:\n",
      "Use keras.layers.Dense instead.\n",
      "WARNING:tensorflow:From /home/lab/anaconda3/envs/TFF/lib/python3.7/site-packages/tensorflow/python/layers/core.py:187: Layer.apply (from tensorflow.python.keras.engine.base_layer_v1) is deprecated and will be removed in a future version.\n",
      "Instructions for updating:\n",
      "Please use `layer.__call__` method instead.\n",
      "WARNING:tensorflow:From /home/lab/anaconda3/envs/TFF/lib/python3.7/site-packages/tensorflow/python/profiler/internal/flops_registry.py:142: tensor_shape_from_node_def_name (from tensorflow.python.framework.graph_util_impl) is deprecated and will be removed in a future version.\n",
      "Instructions for updating:\n",
      "Use `tf.compat.v1.graph_util.tensor_shape_from_node_def_name`\n",
      "200 Clients in Total\n",
      "WARNING:tensorflow:From /home/lab/workspace/GrouProx/flearn/optimizer/pgd.py:70: Variable.load (from tensorflow.python.ops.variables) is deprecated and will be removed in a future version.\n",
      "Instructions for updating:\n",
      "Prefer Variable.assign which has equivalent behavior in 2.X.\n"
     ]
    },
    {
     "name": "stderr",
     "output_type": "stream",
     "text": [
      "                                                                                                                        \r"
     ]
    },
    {
     "name": "stdout",
     "output_type": "stream",
     "text": [
      "Clustering Results: Counter({1: 33, 3: 32, 4: 20, 0: 8, 2: 7})\n"
     ]
    }
   ],
   "source": [
    "\"\"\"\n",
    "Some preparations\n",
    "\"\"\"\n",
    "\n",
    "# read data\n",
    "train_path = os.path.join('data', params['dataset'], 'data', 'train')\n",
    "test_path = os.path.join('data', params['dataset'], 'data', 'test')\n",
    "dataset = read_data(train_path, test_path)\n",
    "\n",
    "# Load model\n",
    "if params['dataset'].startswith('synthetic'):  # all synthetic datasets use the same model\n",
    "  model_path = '%s.%s.%s.%s' % ('flearn', 'models', 'synthetic', params['model'])\n",
    "else:\n",
    "  model_path = '%s.%s.%s.%s' % ('flearn', 'models', params['dataset'], params['model'])\n",
    "\n",
    "mod = importlib.import_module(model_path)\n",
    "learner = getattr(mod, 'Model')\n",
    "\n",
    "# Set seeds\n",
    "random.seed(1 + params['seed'])\n",
    "np.random.seed(12 + params['seed'])\n",
    "tf.set_random_seed(123 + params['seed'])\n",
    "\n",
    "# Set server\n",
    "if params['optimizer'] == 'fedavg':\n",
    "  server = fedavg.Server(params, learner, dataset)\n",
    "if params['optimizer'] == 'fedprox':\n",
    "  server = fedprox.Server(params, learner, dataset)\n",
    "if params['optimizer'] == 'grouprox':\n",
    "  server = grouprox.Server(params, learner, dataset)"
   ]
  },
  {
   "cell_type": "code",
   "execution_count": 4,
   "metadata": {
    "scrolled": true
   },
   "outputs": [
    {
     "name": "stderr",
     "output_type": "stream",
     "text": [
      "                                                                                                                        "
     ]
    },
    {
     "name": "stdout",
     "output_type": "stream",
     "text": [
      "Training with 20 workers ---\n"
     ]
    },
    {
     "name": "stderr",
     "output_type": "stream",
     "text": [
      "                                                                                                                        \r"
     ]
    },
    {
     "name": "stdout",
     "output_type": "stream",
     "text": [
      "Group 0, clients ['f_00018', 'f_00098']\n",
      "Group 1, clients ['f_00005', 'f_00012', 'f_00125', 'f_00154', 'f_00080', 'f_00074']\n",
      "Group 2, clients ['f_00152']\n",
      "Group 3, clients ['f_00170', 'f_00182', 'f_00146', 'f_00061', 'f_00180', 'f_00033', 'f_00130']\n",
      "Group 4, clients ['f_00107', 'f_00177', 'f_00007', 'f_00037']\n"
     ]
    },
    {
     "name": "stderr",
     "output_type": "stream",
     "text": [
      "Epoch:   0%|                                                                                     | 0/20 [00:00<?, ?it/s]"
     ]
    },
    {
     "name": "stdout",
     "output_type": "stream",
     "text": [
      "Group 0\n",
      "At round 0 accuracy: 0.3575757575757576\n",
      "At round 0 training accuracy: 0.3778705636743215\n",
      "At round 0 training loss: 1.7452807235651409\n",
      "Group 1\n",
      "At round 0 accuracy: 0.16382252559726962\n",
      "At round 0 training accuracy: 0.1682224025974026\n",
      "At round 0 training loss: 3.048404716777724\n",
      "Group 2\n",
      "At round 0 accuracy: 0.33073929961089493\n",
      "At round 0 training accuracy: 0.3336254107338445\n",
      "At round 0 training loss: 1.7150243875883757\n",
      "Group 3\n",
      "At round 0 accuracy: 0.1384180790960452\n",
      "At round 0 training accuracy: 0.1377551020408163\n",
      "At round 0 training loss: 3.2293870616932305\n",
      "Group 4\n",
      "At round 0 accuracy: 0.3540983606557377\n",
      "At round 0 training accuracy: 0.33085064680517445\n",
      "At round 0 training loss: 2.520616221362495\n",
      "At round 0 mean test accuracy: 0.2505197505197505 mean train accuracy: 0.25235978320443336\n",
      "The groups difference are: [0.         0.2729865  0.41831443 0.21542562 0.1434424 ]\n",
      "Begin group  0 training\n"
     ]
    },
    {
     "name": "stderr",
     "output_type": "stream",
     "text": [
      "Epoch:  20%|███████████████▍                                                             | 4/20 [00:00<00:00, 35.10it/s]"
     ]
    },
    {
     "name": "stdout",
     "output_type": "stream",
     "text": [
      "Begin group  1 training\n"
     ]
    },
    {
     "name": "stderr",
     "output_type": "stream",
     "text": [
      "Epoch:  30%|███████████████████████                                                      | 6/20 [00:00<00:00, 55.52it/s]"
     ]
    },
    {
     "name": "stdout",
     "output_type": "stream",
     "text": [
      "Begin group  2 training\n"
     ]
    },
    {
     "name": "stderr",
     "output_type": "stream",
     "text": [
      "Epoch:   0%|                                                                                     | 0/20 [00:00<?, ?it/s]"
     ]
    },
    {
     "name": "stdout",
     "output_type": "stream",
     "text": [
      "Begin group  3 training\n"
     ]
    },
    {
     "name": "stderr",
     "output_type": "stream",
     "text": [
      "Epoch:   0%|                                                                                     | 0/20 [00:00<?, ?it/s]"
     ]
    },
    {
     "name": "stdout",
     "output_type": "stream",
     "text": [
      "Begin group  4 training\n"
     ]
    },
    {
     "name": "stderr",
     "output_type": "stream",
     "text": [
      "                                                                                                                        \r"
     ]
    },
    {
     "name": "stdout",
     "output_type": "stream",
     "text": [
      "Group 0, clients ['f_00198', 'f_00018', 'f_00118']\n",
      "Group 1, clients ['f_00034', 'f_00184', 'f_00004', 'f_00171', 'f_00011', 'f_00035']\n",
      "Group 2, clients ['f_00102']\n",
      "Group 3, clients ['f_00040', 'f_00095', 'f_00110', 'f_00136']\n",
      "Group 4, clients ['f_00058', 'f_00029', 'f_00168', 'f_00089', 'f_00159', 'f_00059']\n"
     ]
    },
    {
     "name": "stderr",
     "output_type": "stream",
     "text": [
      "Epoch:   0%|                                                                                     | 0/20 [00:00<?, ?it/s]"
     ]
    },
    {
     "name": "stdout",
     "output_type": "stream",
     "text": [
      "Group 0\n",
      "At round 1 accuracy: 0.38181818181818183\n",
      "At round 1 training accuracy: 0.35768963117606123\n",
      "At round 1 training loss: 1.574860238290613\n",
      "Group 1\n",
      "At round 1 accuracy: 0.2986348122866894\n",
      "At round 1 training accuracy: 0.32508116883116883\n",
      "At round 1 training loss: 2.456019127644695\n",
      "Group 2\n",
      "At round 1 accuracy: 0.3638132295719844\n",
      "At round 1 training accuracy: 0.3706462212486309\n",
      "At round 1 training loss: 1.5990009241532392\n",
      "Group 3\n",
      "At round 1 accuracy: 0.3757062146892655\n",
      "At round 1 training accuracy: 0.36428571428571427\n",
      "At round 1 training loss: 3.1922313133470057\n",
      "Group 4\n",
      "At round 1 accuracy: 0.26229508196721313\n",
      "At round 1 training accuracy: 0.2920423363386907\n",
      "At round 1 training loss: 2.728735598196286\n",
      "At round 1 mean test accuracy: 0.3316008316008316 mean train accuracy: 0.3424882772060167\n",
      "The groups difference are: [0.         0.63055924 0.82574833 0.57552723 0.45054927]\n",
      "Begin group  0 training\n"
     ]
    },
    {
     "name": "stderr",
     "output_type": "stream",
     "text": [
      "Epoch:   0%|                                                                                     | 0/20 [00:00<?, ?it/s]"
     ]
    },
    {
     "name": "stdout",
     "output_type": "stream",
     "text": [
      "Begin group  1 training\n"
     ]
    },
    {
     "name": "stderr",
     "output_type": "stream",
     "text": [
      "Epoch:  25%|███████████████████▎                                                         | 5/20 [00:00<00:00, 44.60it/s]"
     ]
    },
    {
     "name": "stdout",
     "output_type": "stream",
     "text": [
      "Begin group  2 training\n"
     ]
    },
    {
     "name": "stderr",
     "output_type": "stream",
     "text": [
      "Epoch:   0%|                                                                                     | 0/20 [00:00<?, ?it/s]"
     ]
    },
    {
     "name": "stdout",
     "output_type": "stream",
     "text": [
      "Begin group  3 training\n"
     ]
    },
    {
     "name": "stderr",
     "output_type": "stream",
     "text": [
      "Epoch:   0%|                                                                                     | 0/20 [00:00<?, ?it/s]"
     ]
    },
    {
     "name": "stdout",
     "output_type": "stream",
     "text": [
      "Begin group  4 training\n"
     ]
    },
    {
     "name": "stderr",
     "output_type": "stream",
     "text": [
      "                                                                                                                        \r"
     ]
    },
    {
     "name": "stdout",
     "output_type": "stream",
     "text": [
      "Group 0 is empty.\n",
      "Group 1, clients ['f_00112', 'f_00085', 'f_00010', 'f_00054', 'f_00115', 'f_00035', 'f_00012', 'f_00092', 'f_00013', 'f_00174', 'f_00044', 'f_00113', 'f_00014']\n",
      "Group 2, clients ['f_00002']\n",
      "Group 3, clients ['f_00182', 'f_00193', 'f_00126', 'f_00003']\n",
      "Group 4, clients ['f_00029', 'f_00199']\n"
     ]
    },
    {
     "name": "stderr",
     "output_type": "stream",
     "text": [
      "Epoch:   0%|                                                                                     | 0/20 [00:00<?, ?it/s]"
     ]
    },
    {
     "name": "stdout",
     "output_type": "stream",
     "text": [
      "Group 0\n",
      "At round 2 accuracy: 0.4303030303030303\n",
      "At round 2 training accuracy: 0.44467640918580376\n",
      "At round 2 training loss: 1.591326381775266\n",
      "Group 1\n",
      "At round 2 accuracy: 0.36177474402730375\n",
      "At round 2 training accuracy: 0.36546266233766234\n",
      "At round 2 training loss: 2.2223816247439228\n",
      "Group 2\n",
      "At round 2 accuracy: 0.6536964980544747\n",
      "At round 2 training accuracy: 0.6707557502738226\n",
      "At round 2 training loss: 1.385965415381654\n",
      "Group 3\n",
      "At round 2 accuracy: 0.2062146892655367\n",
      "At round 2 training accuracy: 0.21054421768707482\n",
      "At round 2 training loss: 2.1008680367956356\n",
      "Group 4\n",
      "At round 2 accuracy: 0.5311475409836065\n",
      "At round 2 training accuracy: 0.4508036064288514\n",
      "At round 2 training loss: 2.106664218093217\n",
      "At round 2 mean test accuracy: 0.44386694386694386 mean train accuracy: 0.44278667559831925\n",
      "The groups difference are: [0.         0.85979905 1.11031461 0.70245381 0.5063355 ]\n",
      "Begin group  1 training\n"
     ]
    },
    {
     "name": "stderr",
     "output_type": "stream",
     "text": [
      "Epoch:  40%|██████████████████████████████▊                                              | 8/20 [00:00<00:00, 72.18it/s]"
     ]
    },
    {
     "name": "stdout",
     "output_type": "stream",
     "text": [
      "Begin group  2 training\n"
     ]
    },
    {
     "name": "stderr",
     "output_type": "stream",
     "text": [
      "                                                                                                                        \r"
     ]
    },
    {
     "name": "stdout",
     "output_type": "stream",
     "text": [
      "Begin group  3 training\n"
     ]
    },
    {
     "name": "stderr",
     "output_type": "stream",
     "text": [
      "Epoch:   0%|                                                                                     | 0/20 [00:00<?, ?it/s]"
     ]
    },
    {
     "name": "stdout",
     "output_type": "stream",
     "text": [
      "Begin group  4 training\n"
     ]
    },
    {
     "name": "stderr",
     "output_type": "stream",
     "text": [
      "                                                                                                                        \r"
     ]
    },
    {
     "name": "stdout",
     "output_type": "stream",
     "text": [
      "Group 0 is empty.\n",
      "Group 1, clients ['f_00051', 'f_00183', 'f_00070', 'f_00083', 'f_00025', 'f_00173']\n",
      "Group 2, clients ['f_00082']\n",
      "Group 3, clients ['f_00040', 'f_00170', 'f_00046', 'f_00100', 'f_00190', 'f_00095', 'f_00003', 'f_00041']\n",
      "Group 4, clients ['f_00139', 'f_00197', 'f_00179', 'f_00159', 'f_00058']\n"
     ]
    },
    {
     "name": "stderr",
     "output_type": "stream",
     "text": [
      "Epoch:   0%|                                                                                     | 0/20 [00:00<?, ?it/s]"
     ]
    },
    {
     "name": "stdout",
     "output_type": "stream",
     "text": [
      "Group 0\n",
      "At round 3 accuracy: 0.4484848484848485\n",
      "At round 3 training accuracy: 0.4516353514265832\n",
      "At round 3 training loss: 1.5535991191864014\n",
      "Group 1\n",
      "At round 3 accuracy: 0.3532423208191126\n",
      "At round 3 training accuracy: 0.3626217532467532\n",
      "At round 3 training loss: 1.9106852703231882\n",
      "Group 2\n",
      "At round 3 accuracy: 0.6264591439688716\n",
      "At round 3 training accuracy: 0.6354874041621029\n",
      "At round 3 training loss: 1.3944223927380874\n",
      "Group 3\n",
      "At round 3 accuracy: 0.3022598870056497\n",
      "At round 3 training accuracy: 0.3357142857142857\n",
      "At round 3 training loss: 2.4246073328718847\n",
      "Group 4\n",
      "At round 3 accuracy: 0.3475409836065574\n",
      "At round 3 training accuracy: 0.32183457467659743\n",
      "At round 3 training loss: 2.841105941602736\n",
      "At round 3 mean test accuracy: 0.42411642411642414 mean train accuracy: 0.4351135740819682\n",
      "The groups difference are: [0.         0.85556455 1.18460903 0.69652156 0.53893468]\n",
      "Begin group  1 training\n"
     ]
    },
    {
     "name": "stderr",
     "output_type": "stream",
     "text": [
      "Epoch:   0%|                                                                                     | 0/20 [00:00<?, ?it/s]"
     ]
    },
    {
     "name": "stdout",
     "output_type": "stream",
     "text": [
      "Begin group  2 training\n",
      "Begin group  3 training\n"
     ]
    },
    {
     "name": "stderr",
     "output_type": "stream",
     "text": [
      "Epoch:  65%|████████████████████████████████████████████████▊                          | 13/20 [00:00<00:00, 123.83it/s]"
     ]
    },
    {
     "name": "stdout",
     "output_type": "stream",
     "text": [
      "Begin group  4 training\n"
     ]
    },
    {
     "name": "stderr",
     "output_type": "stream",
     "text": [
      "                                                                                                                        \r"
     ]
    },
    {
     "name": "stdout",
     "output_type": "stream",
     "text": [
      "Group 0, clients ['f_00138']\n",
      "Group 1, clients ['f_00011', 'f_00175', 'f_00111', 'f_00191', 'f_00184', 'f_00171', 'f_00084']\n",
      "Group 2, clients ['f_00123']\n",
      "Group 3, clients ['f_00128', 'f_00001', 'f_00090', 'f_00061', 'f_00033']\n",
      "Group 4, clients ['f_00099', 'f_00177', 'f_00088', 'f_00187', 'f_00199', 'f_00188']\n"
     ]
    },
    {
     "name": "stderr",
     "output_type": "stream",
     "text": [
      "Epoch:   0%|                                                                                     | 0/20 [00:00<?, ?it/s]"
     ]
    },
    {
     "name": "stdout",
     "output_type": "stream",
     "text": [
      "Group 0\n",
      "At round 4 accuracy: 0.45454545454545453\n",
      "At round 4 training accuracy: 0.464857341684064\n",
      "At round 4 training loss: 1.5223603086415147\n",
      "Group 1\n",
      "At round 4 accuracy: 0.17235494880546076\n",
      "At round 4 training accuracy: 0.1728896103896104\n",
      "At round 4 training loss: 2.2624042854922544\n",
      "Group 2\n",
      "At round 4 accuracy: 0.5155642023346303\n",
      "At round 4 training accuracy: 0.5255202628696605\n",
      "At round 4 training loss: 1.4702352567935957\n",
      "Group 3\n",
      "At round 4 accuracy: 0.3305084745762712\n",
      "At round 4 training accuracy: 0.33503401360544216\n",
      "At round 4 training loss: 2.5616145569248263\n",
      "Group 4\n",
      "At round 4 accuracy: 0.38688524590163936\n",
      "At round 4 training accuracy: 0.3716189729517836\n",
      "At round 4 training loss: 1.8372478801705985\n",
      "At round 4 mean test accuracy: 0.35135135135135137 mean train accuracy: 0.3563729370927471\n",
      "The groups difference are: [0.         0.84932572 1.20390272 0.71749317 0.51761779]\n",
      "Begin group  0 training\n",
      "Begin group  1 training\n"
     ]
    },
    {
     "name": "stderr",
     "output_type": "stream",
     "text": [
      "Epoch:  20%|███████████████▍                                                             | 4/20 [00:00<00:00, 33.94it/s]"
     ]
    },
    {
     "name": "stdout",
     "output_type": "stream",
     "text": [
      "Begin group  2 training\n"
     ]
    },
    {
     "name": "stderr",
     "output_type": "stream",
     "text": [
      "Epoch:  35%|██████████████████████████▉                                                  | 7/20 [00:00<00:00, 67.70it/s]"
     ]
    },
    {
     "name": "stdout",
     "output_type": "stream",
     "text": [
      "Begin group  3 training\n"
     ]
    },
    {
     "name": "stderr",
     "output_type": "stream",
     "text": [
      "Epoch:  30%|███████████████████████                                                      | 6/20 [00:00<00:00, 59.73it/s]"
     ]
    },
    {
     "name": "stdout",
     "output_type": "stream",
     "text": [
      "Begin group  4 training\n"
     ]
    },
    {
     "name": "stderr",
     "output_type": "stream",
     "text": [
      "                                                                                                                        \r"
     ]
    },
    {
     "name": "stdout",
     "output_type": "stream",
     "text": [
      "Group 0, clients ['f_00028']\n",
      "Group 1, clients ['f_00154', 'f_00071', 'f_00034', 'f_00021', 'f_00055', 'f_00104', 'f_00134']\n",
      "Group 2, clients ['f_00122']\n",
      "Group 3, clients ['f_00151', 'f_00006', 'f_00040', 'f_00003']\n",
      "Group 4, clients ['f_00119', 'f_00077', 'f_00148', 'f_00149', 'f_00188', 'f_00039', 'f_00117']\n"
     ]
    },
    {
     "name": "stderr",
     "output_type": "stream",
     "text": [
      "Epoch:   0%|                                                                                     | 0/20 [00:00<?, ?it/s]"
     ]
    },
    {
     "name": "stdout",
     "output_type": "stream",
     "text": [
      "Group 0\n",
      "At round 5 accuracy: 0.7454545454545455\n",
      "At round 5 training accuracy: 0.7766179540709812\n",
      "At round 5 training loss: 1.3980160344783514\n",
      "Group 1\n",
      "At round 5 accuracy: 0.20136518771331058\n",
      "At round 5 training accuracy: 0.20921266233766234\n",
      "At round 5 training loss: 2.284482831159582\n",
      "Group 2\n",
      "At round 5 accuracy: 0.5\n",
      "At round 5 training accuracy: 0.5097480832420591\n",
      "At round 5 training loss: 1.6999024056657122\n",
      "Group 3\n",
      "At round 5 accuracy: 0.2768361581920904\n",
      "At round 5 training accuracy: 0.28775510204081634\n",
      "At round 5 training loss: 3.1881957999905763\n",
      "Group 4\n",
      "At round 5 accuracy: 0.3770491803278688\n",
      "At round 5 training accuracy: 0.3484907879263034\n",
      "At round 5 training loss: 1.4324102242382681\n",
      "At round 5 mean test accuracy: 0.3695426195426195 mean train accuracy: 0.37811339138907496\n",
      "The groups difference are: [0.         0.94175419 1.33351748 0.83170303 0.58346289]\n",
      "Begin group  0 training\n",
      "Begin group  1 training\n"
     ]
    },
    {
     "name": "stderr",
     "output_type": "stream",
     "text": [
      "Epoch:  20%|███████████████▍                                                             | 4/20 [00:00<00:00, 37.36it/s]"
     ]
    },
    {
     "name": "stdout",
     "output_type": "stream",
     "text": [
      "Begin group  2 training\n"
     ]
    },
    {
     "name": "stderr",
     "output_type": "stream",
     "text": [
      "Epoch:   0%|                                                                                     | 0/20 [00:00<?, ?it/s]"
     ]
    },
    {
     "name": "stdout",
     "output_type": "stream",
     "text": [
      "Begin group  3 training\n"
     ]
    },
    {
     "name": "stderr",
     "output_type": "stream",
     "text": [
      "Epoch:   0%|                                                                                     | 0/20 [00:00<?, ?it/s]"
     ]
    },
    {
     "name": "stdout",
     "output_type": "stream",
     "text": [
      "Begin group  4 training\n"
     ]
    },
    {
     "name": "stderr",
     "output_type": "stream",
     "text": [
      "                                                                                                                        \r"
     ]
    },
    {
     "name": "stdout",
     "output_type": "stream",
     "text": [
      "Group 0, clients ['f_00118', 'f_00108', 'f_00158']\n",
      "Group 1, clients ['f_00011', 'f_00145', 'f_00134', 'f_00004', 'f_00094', 'f_00081', 'f_00115', 'f_00013']\n",
      "Group 2, clients ['f_00152', 'f_00093']\n",
      "Group 3, clients ['f_00006', 'f_00151', 'f_00030', 'f_00156']\n",
      "Group 4, clients ['f_00149', 'f_00019', 'f_00088']\n"
     ]
    },
    {
     "name": "stderr",
     "output_type": "stream",
     "text": [
      "Epoch:  20%|███████████████▍                                                             | 4/20 [00:00<00:00, 34.60it/s]"
     ]
    },
    {
     "name": "stdout",
     "output_type": "stream",
     "text": [
      "Group 0\n",
      "At round 6 accuracy: 0.7454545454545455\n",
      "At round 6 training accuracy: 0.6931106471816284\n",
      "At round 6 training loss: 1.3713636298766962\n",
      "Group 1\n",
      "At round 6 accuracy: 0.4948805460750853\n",
      "At round 6 training accuracy: 0.4967532467532468\n",
      "At round 6 training loss: 2.168272224375857\n",
      "Group 2\n",
      "At round 6 accuracy: 0.7684824902723736\n",
      "At round 6 training accuracy: 0.7699890470974808\n",
      "At round 6 training loss: 1.0072684078984298\n",
      "Group 3\n",
      "At round 6 accuracy: 0.559322033898305\n",
      "At round 6 training accuracy: 0.5649659863945579\n",
      "At round 6 training loss: 1.7005613282018779\n",
      "Group 4\n",
      "At round 6 accuracy: 0.4852459016393443\n",
      "At round 6 training accuracy: 0.4272834182673461\n",
      "At round 6 training loss: 1.4126363819087546\n",
      "At round 6 mean test accuracy: 0.5997920997920998 mean train accuracy: 0.5913159978076853\n",
      "The groups difference are: [0.         1.04537108 1.44062143 0.82587508 0.60852227]\n",
      "Begin group  0 training\n"
     ]
    },
    {
     "name": "stderr",
     "output_type": "stream",
     "text": [
      "Epoch:   0%|                                                                                     | 0/20 [00:00<?, ?it/s]"
     ]
    },
    {
     "name": "stdout",
     "output_type": "stream",
     "text": [
      "Begin group  1 training\n"
     ]
    },
    {
     "name": "stderr",
     "output_type": "stream",
     "text": [
      "Epoch:  30%|███████████████████████                                                      | 6/20 [00:00<00:00, 59.47it/s]"
     ]
    },
    {
     "name": "stdout",
     "output_type": "stream",
     "text": [
      "Begin group  2 training\n"
     ]
    },
    {
     "name": "stderr",
     "output_type": "stream",
     "text": [
      "Epoch:   0%|                                                                                     | 0/20 [00:00<?, ?it/s]"
     ]
    },
    {
     "name": "stdout",
     "output_type": "stream",
     "text": [
      "Begin group  3 training\n"
     ]
    },
    {
     "name": "stderr",
     "output_type": "stream",
     "text": [
      "Epoch:   0%|                                                                                     | 0/20 [00:00<?, ?it/s]"
     ]
    },
    {
     "name": "stdout",
     "output_type": "stream",
     "text": [
      "Begin group  4 training\n"
     ]
    },
    {
     "name": "stderr",
     "output_type": "stream",
     "text": [
      "                                                                                                                        \r"
     ]
    },
    {
     "name": "stdout",
     "output_type": "stream",
     "text": [
      "Group 0, clients ['f_00108', 'f_00138']\n",
      "Group 1, clients ['f_00022', 'f_00011', 'f_00195', 'f_00094', 'f_00063', 'f_00065', 'f_00153']\n",
      "Group 2, clients ['f_00002', 'f_00121']\n",
      "Group 3, clients ['f_00086', 'f_00120', 'f_00066', 'f_00096', 'f_00155', 'f_00024', 'f_00046']\n",
      "Group 4, clients ['f_00188', 'f_00099']\n"
     ]
    },
    {
     "name": "stderr",
     "output_type": "stream",
     "text": [
      "Epoch:  40%|██████████████████████████████▊                                              | 8/20 [00:00<00:00, 71.59it/s]"
     ]
    },
    {
     "name": "stdout",
     "output_type": "stream",
     "text": [
      "Group 0\n",
      "At round 7 accuracy: 0.7151515151515152\n",
      "At round 7 training accuracy: 0.7411273486430062\n",
      "At round 7 training loss: 1.3629108281623346\n",
      "Group 1\n",
      "At round 7 accuracy: 0.41638225255972694\n",
      "At round 7 training accuracy: 0.42329545454545453\n",
      "At round 7 training loss: 1.9785887979140335\n",
      "Group 2\n",
      "At round 7 accuracy: 0.6284046692607004\n",
      "At round 7 training accuracy: 0.6337349397590362\n",
      "At round 7 training loss: 0.9910080294488947\n",
      "Group 3\n",
      "At round 7 accuracy: 0.2824858757062147\n",
      "At round 7 training accuracy: 0.28197278911564627\n",
      "At round 7 training loss: 2.373739468929719\n",
      "Group 4\n",
      "At round 7 accuracy: 0.5836065573770491\n",
      "At round 7 training accuracy: 0.5268522148177185\n",
      "At round 7 training loss: 1.9483050936486197\n",
      "At round 7 mean test accuracy: 0.5005197505197505 mean train accuracy: 0.500395834602034\n",
      "The groups difference are: [0.         1.18251128 1.56278605 0.93362377 0.67683954]\n",
      "Begin group  0 training\n"
     ]
    },
    {
     "name": "stderr",
     "output_type": "stream",
     "text": [
      "Epoch:   0%|                                                                                     | 0/20 [00:00<?, ?it/s]"
     ]
    },
    {
     "name": "stdout",
     "output_type": "stream",
     "text": [
      "Begin group  1 training\n"
     ]
    },
    {
     "name": "stderr",
     "output_type": "stream",
     "text": [
      "Epoch:  35%|██████████████████████████▉                                                  | 7/20 [00:00<00:00, 65.03it/s]"
     ]
    },
    {
     "name": "stdout",
     "output_type": "stream",
     "text": [
      "Begin group  2 training\n"
     ]
    },
    {
     "name": "stderr",
     "output_type": "stream",
     "text": [
      "Epoch:   0%|                                                                                     | 0/20 [00:00<?, ?it/s]"
     ]
    },
    {
     "name": "stdout",
     "output_type": "stream",
     "text": [
      "Begin group  3 training\n"
     ]
    },
    {
     "name": "stderr",
     "output_type": "stream",
     "text": [
      "                                                                                                                        \r"
     ]
    },
    {
     "name": "stdout",
     "output_type": "stream",
     "text": [
      "Begin group  4 training\n",
      "Group 0, clients ['f_00067']\n",
      "Group 1, clients ['f_00065', 'f_00181', 'f_00142', 'f_00103']\n",
      "Group 2 is empty.\n",
      "Group 3, clients ['f_00193', 'f_00161', 'f_00128', 'f_00146', 'f_00151', 'f_00190', 'f_00001', 'f_00150', 'f_00000']\n",
      "Group 4, clients ['f_00069', 'f_00088', 'f_00119', 'f_00117', 'f_00169', 'f_00027']\n"
     ]
    },
    {
     "name": "stderr",
     "output_type": "stream",
     "text": [
      "Epoch:  15%|███████████▌                                                                 | 3/20 [00:00<00:00, 25.29it/s]"
     ]
    },
    {
     "name": "stdout",
     "output_type": "stream",
     "text": [
      "Group 0\n",
      "At round 8 accuracy: 0.7575757575757576\n",
      "At round 8 training accuracy: 0.7244258872651357\n",
      "At round 8 training loss: 1.3520260245831541\n",
      "Group 1\n",
      "At round 8 accuracy: 0.3771331058020478\n",
      "At round 8 training accuracy: 0.3693181818181818\n",
      "At round 8 training loss: 1.810821765211302\n",
      "Group 2\n",
      "At round 8 accuracy: 0.5525291828793775\n",
      "At round 8 training accuracy: 0.5555312157721797\n",
      "At round 8 training loss: 1.1902054061372596\n",
      "Group 3\n",
      "At round 8 accuracy: 0.3559322033898305\n",
      "At round 8 training accuracy: 0.37517006802721087\n",
      "At round 8 training loss: 2.617343770748093\n",
      "Group 4\n",
      "At round 8 accuracy: 0.5868852459016394\n",
      "At round 8 training accuracy: 0.5460603684829478\n",
      "At round 8 training loss: 1.9275213015495398\n",
      "At round 8 mean test accuracy: 0.48596673596673595 mean train accuracy: 0.4806650021314171\n",
      "The groups difference are: [0.         1.25516721 1.61234675 1.01053897 0.70005024]\n",
      "Begin group  0 training\n"
     ]
    },
    {
     "name": "stderr",
     "output_type": "stream",
     "text": [
      "Epoch:   0%|                                                                                     | 0/20 [00:00<?, ?it/s]"
     ]
    },
    {
     "name": "stdout",
     "output_type": "stream",
     "text": [
      "Begin group  1 training\n"
     ]
    },
    {
     "name": "stderr",
     "output_type": "stream",
     "text": [
      "Epoch:   0%|                                                                                     | 0/20 [00:00<?, ?it/s]"
     ]
    },
    {
     "name": "stdout",
     "output_type": "stream",
     "text": [
      "Begin group  3 training\n"
     ]
    },
    {
     "name": "stderr",
     "output_type": "stream",
     "text": [
      "Epoch:   0%|                                                                                     | 0/20 [00:00<?, ?it/s]"
     ]
    },
    {
     "name": "stdout",
     "output_type": "stream",
     "text": [
      "Begin group  4 training\n"
     ]
    },
    {
     "name": "stderr",
     "output_type": "stream",
     "text": [
      "                                                                                                                        \r"
     ]
    },
    {
     "name": "stdout",
     "output_type": "stream",
     "text": [
      "Group 0, clients ['f_00158']\n",
      "Group 1, clients ['f_00084', 'f_00054', 'f_00103', 'f_00101', 'f_00174']\n",
      "Group 2, clients ['f_00123', 'f_00053', 'f_00163']\n",
      "Group 3, clients ['f_00060', 'f_00156', 'f_00140', 'f_00116', 'f_00003', 'f_00100']\n",
      "Group 4, clients ['f_00109', 'f_00039', 'f_00027', 'f_00037', 'f_00069']\n"
     ]
    },
    {
     "name": "stderr",
     "output_type": "stream",
     "text": [
      "Epoch:  50%|██████████████████████████████████████                                      | 10/20 [00:00<00:00, 99.83it/s]"
     ]
    },
    {
     "name": "stdout",
     "output_type": "stream",
     "text": [
      "Group 0\n",
      "At round 9 accuracy: 0.5575757575757576\n",
      "At round 9 training accuracy: 0.6068197633959638\n",
      "At round 9 training loss: 1.5416736511945226\n",
      "Group 1\n",
      "At round 9 accuracy: 0.4197952218430034\n",
      "At round 9 training accuracy: 0.40381493506493504\n",
      "At round 9 training loss: 1.748874035821139\n",
      "Group 2\n",
      "At round 9 accuracy: 0.5505836575875487\n",
      "At round 9 training accuracy: 0.5539978094194962\n",
      "At round 9 training loss: 1.1937294263959846\n",
      "Group 3\n",
      "At round 9 accuracy: 0.4350282485875706\n",
      "At round 9 training accuracy: 0.43435374149659867\n",
      "At round 9 training loss: 2.118939874772312\n",
      "Group 4\n",
      "At round 9 accuracy: 0.5147540983606558\n",
      "At round 9 training accuracy: 0.48294786358290864\n",
      "At round 9 training loss: 1.6102496889094566\n",
      "At round 9 mean test accuracy: 0.48440748440748443 mean train accuracy: 0.48109128554899216\n",
      "The groups difference are: [0.         1.30398852 1.60063298 1.04051041 0.70481598]\n",
      "Begin group  0 training\n"
     ]
    },
    {
     "name": "stderr",
     "output_type": "stream",
     "text": [
      "Epoch:   0%|                                                                                     | 0/20 [00:00<?, ?it/s]"
     ]
    },
    {
     "name": "stdout",
     "output_type": "stream",
     "text": [
      "Begin group  1 training\n"
     ]
    },
    {
     "name": "stderr",
     "output_type": "stream",
     "text": [
      "Epoch:  25%|███████████████████▎                                                         | 5/20 [00:00<00:00, 41.65it/s]"
     ]
    },
    {
     "name": "stdout",
     "output_type": "stream",
     "text": [
      "Begin group  2 training\n"
     ]
    },
    {
     "name": "stderr",
     "output_type": "stream",
     "text": [
      "Epoch:   0%|                                                                                     | 0/20 [00:00<?, ?it/s]"
     ]
    },
    {
     "name": "stdout",
     "output_type": "stream",
     "text": [
      "Begin group  3 training\n"
     ]
    },
    {
     "name": "stderr",
     "output_type": "stream",
     "text": [
      "Epoch:   0%|                                                                                     | 0/20 [00:00<?, ?it/s]"
     ]
    },
    {
     "name": "stdout",
     "output_type": "stream",
     "text": [
      "Begin group  4 training\n"
     ]
    },
    {
     "name": "stderr",
     "output_type": "stream",
     "text": [
      "                                                                                                                        \r"
     ]
    },
    {
     "name": "stdout",
     "output_type": "stream",
     "text": [
      "Group 0, clients ['f_00198', 'f_00098']\n",
      "Group 1, clients ['f_00005', 'f_00162', 'f_00055', 'f_00010', 'f_00075', 'f_00142', 'f_00124', 'f_00063', 'f_00111', 'f_00185']\n",
      "Group 2, clients ['f_00052', 'f_00002']\n",
      "Group 3, clients ['f_00020']\n",
      "Group 4, clients ['f_00059', 'f_00019', 'f_00069', 'f_00109', 'f_00078']\n"
     ]
    },
    {
     "name": "stderr",
     "output_type": "stream",
     "text": [
      "Epoch:   0%|                                                                                     | 0/20 [00:00<?, ?it/s]"
     ]
    },
    {
     "name": "stdout",
     "output_type": "stream",
     "text": [
      "Group 0\n",
      "At round 10 accuracy: 0.6060606060606061\n",
      "At round 10 training accuracy: 0.6214335421016005\n",
      "At round 10 training loss: 1.0978690534311613\n",
      "Group 1\n",
      "At round 10 accuracy: 0.45733788395904434\n",
      "At round 10 training accuracy: 0.4669237012987013\n",
      "At round 10 training loss: 1.8584728776416801\n",
      "Group 2\n",
      "At round 10 accuracy: 0.6400778210116731\n",
      "At round 10 training accuracy: 0.6188389923329682\n",
      "At round 10 training loss: 1.5563862611665131\n",
      "Group 3\n",
      "At round 10 accuracy: 0.4322033898305085\n",
      "At round 10 training accuracy: 0.42448979591836733\n",
      "At round 10 training loss: 2.207571064716294\n",
      "Group 4\n",
      "At round 10 accuracy: 0.4557377049180328\n",
      "At round 10 training accuracy: 0.42806742453939634\n",
      "At round 10 training loss: 1.2790933221473455\n",
      "At round 10 mean test accuracy: 0.514033264033264 mean train accuracy: 0.5090432982156994\n",
      "The groups difference are: [0.         1.36548522 1.71141069 1.09067564 0.6990817 ]\n",
      "Begin group  0 training\n"
     ]
    },
    {
     "name": "stderr",
     "output_type": "stream",
     "text": [
      "Epoch:  25%|███████████████████▎                                                         | 5/20 [00:00<00:00, 43.25it/s]"
     ]
    },
    {
     "name": "stdout",
     "output_type": "stream",
     "text": [
      "Begin group  1 training\n"
     ]
    },
    {
     "name": "stderr",
     "output_type": "stream",
     "text": [
      "Epoch:  25%|███████████████████▎                                                         | 5/20 [00:00<00:00, 46.45it/s]"
     ]
    },
    {
     "name": "stdout",
     "output_type": "stream",
     "text": [
      "Begin group  2 training\n"
     ]
    },
    {
     "name": "stderr",
     "output_type": "stream",
     "text": [
      "Epoch:   0%|                                                                                     | 0/20 [00:00<?, ?it/s]"
     ]
    },
    {
     "name": "stdout",
     "output_type": "stream",
     "text": [
      "Begin group  3 training\n",
      "Begin group  4 training\n"
     ]
    },
    {
     "name": "stderr",
     "output_type": "stream",
     "text": [
      "                                                                                                                        \r"
     ]
    },
    {
     "name": "stdout",
     "output_type": "stream",
     "text": [
      "Group 0 is empty.\n",
      "Group 1, clients ['f_00174', 'f_00173', 'f_00022', 'f_00134', 'f_00143', 'f_00094', 'f_00055', 'f_00014', 'f_00063', 'f_00111']\n",
      "Group 2, clients ['f_00053', 'f_00073']\n",
      "Group 3, clients ['f_00033', 'f_00186', 'f_00056', 'f_00130', 'f_00041', 'f_00016', 'f_00060', 'f_00000']\n",
      "Group 4 is empty.\n"
     ]
    },
    {
     "name": "stderr",
     "output_type": "stream",
     "text": [
      "Epoch:   0%|                                                                                     | 0/20 [00:00<?, ?it/s]"
     ]
    },
    {
     "name": "stdout",
     "output_type": "stream",
     "text": [
      "Group 0\n",
      "At round 11 accuracy: 0.7696969696969697\n",
      "At round 11 training accuracy: 0.7515657620041754\n",
      "At round 11 training loss: 1.0551567041135614\n",
      "Group 1\n",
      "At round 11 accuracy: 0.3839590443686007\n",
      "At round 11 training accuracy: 0.3894074675324675\n",
      "At round 11 training loss: 1.6773780480317482\n",
      "Group 2\n",
      "At round 11 accuracy: 0.7217898832684825\n",
      "At round 11 training accuracy: 0.7404162102957283\n",
      "At round 11 training loss: 0.8869524438697172\n",
      "Group 3\n",
      "At round 11 accuracy: 0.4745762711864407\n",
      "At round 11 training accuracy: 0.46462585034013604\n",
      "At round 11 training loss: 3.0824009478092194\n",
      "Group 4\n",
      "At round 11 accuracy: 0.6032786885245902\n",
      "At round 11 training accuracy: 0.5472363778910231\n",
      "At round 11 training loss: 1.93285308177216\n",
      "At round 11 mean test accuracy: 0.5587318087318087 mean train accuracy: 0.5566652457219414\n",
      "The groups difference are: [0.         1.44675709 1.79357688 1.18752961 0.78858586]\n",
      "Begin group  1 training\n"
     ]
    },
    {
     "name": "stderr",
     "output_type": "stream",
     "text": [
      "Epoch:  15%|███████████▌                                                                 | 3/20 [00:00<00:00, 24.82it/s]"
     ]
    },
    {
     "name": "stdout",
     "output_type": "stream",
     "text": [
      "Begin group  2 training\n"
     ]
    },
    {
     "name": "stderr",
     "output_type": "stream",
     "text": [
      "Epoch:   0%|                                                                                     | 0/20 [00:00<?, ?it/s]"
     ]
    },
    {
     "name": "stdout",
     "output_type": "stream",
     "text": [
      "Begin group  3 training\n"
     ]
    },
    {
     "name": "stderr",
     "output_type": "stream",
     "text": [
      "                                                                                                                        \r"
     ]
    },
    {
     "name": "stdout",
     "output_type": "stream",
     "text": [
      "Group 0, clients ['f_00098', 'f_00138']\n",
      "Group 1, clients ['f_00021', 'f_00063', 'f_00011', 'f_00032', 'f_00164', 'f_00173', 'f_00132', 'f_00181', 'f_00085']\n",
      "Group 2, clients ['f_00023', 'f_00172']\n",
      "Group 3, clients ['f_00182', 'f_00061', 'f_00095', 'f_00120', 'f_00031', 'f_00016']\n",
      "Group 4, clients ['f_00007']\n"
     ]
    },
    {
     "name": "stderr",
     "output_type": "stream",
     "text": [
      "Epoch:  20%|███████████████▍                                                             | 4/20 [00:00<00:00, 33.14it/s]"
     ]
    },
    {
     "name": "stdout",
     "output_type": "stream",
     "text": [
      "Group 0\n",
      "At round 12 accuracy: 0.7575757575757576\n",
      "At round 12 training accuracy: 0.7446068197633959\n",
      "At round 12 training loss: 1.0443499981320061\n",
      "Group 1\n",
      "At round 12 accuracy: 0.40784982935153585\n",
      "At round 12 training accuracy: 0.41030844155844154\n",
      "At round 12 training loss: 2.0644303140798947\n",
      "Group 2\n",
      "At round 12 accuracy: 0.7042801556420234\n",
      "At round 12 training accuracy: 0.6817086527929901\n",
      "At round 12 training loss: 1.4540524214799928\n",
      "Group 3\n",
      "At round 12 accuracy: 0.4576271186440678\n",
      "At round 12 training accuracy: 0.4530612244897959\n",
      "At round 12 training loss: 1.752288745678201\n",
      "Group 4\n",
      "At round 12 accuracy: 0.6098360655737705\n",
      "At round 12 training accuracy: 0.5539004312034497\n",
      "At round 12 training loss: 1.8847133642386007\n",
      "At round 12 mean test accuracy: 0.5582120582120582 mean train accuracy: 0.5449729005541685\n",
      "The groups difference are: [0.         1.43197158 1.81139124 1.11410181 0.73693692]\n",
      "Begin group  0 training\n"
     ]
    },
    {
     "name": "stderr",
     "output_type": "stream",
     "text": [
      "Epoch:  70%|████████████████████████████████████████████████████▌                      | 14/20 [00:00<00:00, 135.71it/s]"
     ]
    },
    {
     "name": "stdout",
     "output_type": "stream",
     "text": [
      "Begin group  1 training\n"
     ]
    },
    {
     "name": "stderr",
     "output_type": "stream",
     "text": [
      "Epoch:  35%|██████████████████████████▉                                                  | 7/20 [00:00<00:00, 65.52it/s]"
     ]
    },
    {
     "name": "stdout",
     "output_type": "stream",
     "text": [
      "Begin group  2 training\n"
     ]
    },
    {
     "name": "stderr",
     "output_type": "stream",
     "text": [
      "Epoch:   0%|                                                                                     | 0/20 [00:00<?, ?it/s]"
     ]
    },
    {
     "name": "stdout",
     "output_type": "stream",
     "text": [
      "Begin group  3 training\n"
     ]
    },
    {
     "name": "stderr",
     "output_type": "stream",
     "text": [
      "                                                                                                                        \r"
     ]
    },
    {
     "name": "stdout",
     "output_type": "stream",
     "text": [
      "Begin group  4 training\n",
      "Group 0, clients ['f_00198']\n",
      "Group 1, clients ['f_00065', 'f_00132', 'f_00104', 'f_00070']\n",
      "Group 2, clients ['f_00023', 'f_00042', 'f_00102']\n",
      "Group 3, clients ['f_00155', 'f_00096', 'f_00110', 'f_00128', 'f_00095', 'f_00106', 'f_00033']\n",
      "Group 4, clients ['f_00179', 'f_00159', 'f_00097', 'f_00089', 'f_00079']\n"
     ]
    },
    {
     "name": "stderr",
     "output_type": "stream",
     "text": [
      "Epoch:   0%|                                                                                     | 0/20 [00:00<?, ?it/s]"
     ]
    },
    {
     "name": "stdout",
     "output_type": "stream",
     "text": [
      "Group 0\n",
      "At round 13 accuracy: 0.7393939393939394\n",
      "At round 13 training accuracy: 0.7174669450243563\n",
      "At round 13 training loss: 1.1156608830663008\n",
      "Group 1\n",
      "At round 13 accuracy: 0.45051194539249145\n",
      "At round 13 training accuracy: 0.45718344155844154\n",
      "At round 13 training loss: 1.912207034694684\n",
      "Group 2\n",
      "At round 13 accuracy: 0.6459143968871596\n",
      "At round 13 training accuracy: 0.6433734939759036\n",
      "At round 13 training loss: 0.89252681066277\n",
      "Group 3\n",
      "At round 13 accuracy: 0.3220338983050847\n",
      "At round 13 training accuracy: 0.3282312925170068\n",
      "At round 13 training loss: 1.9895325438708675\n",
      "Group 4\n",
      "At round 13 accuracy: 0.4459016393442623\n",
      "At round 13 training accuracy: 0.4547236377891023\n",
      "At round 13 training loss: 1.8609410866434926\n",
      "At round 13 mean test accuracy: 0.5031185031185031 mean train accuracy: 0.5082516290116315\n",
      "The groups difference are: [0.         1.5381968  1.86031322 1.1842966  0.77738301]\n",
      "Begin group  0 training\n",
      "Begin group  1 training\n"
     ]
    },
    {
     "name": "stderr",
     "output_type": "stream",
     "text": [
      "Epoch:  35%|██████████████████████████▉                                                  | 7/20 [00:00<00:00, 68.43it/s]"
     ]
    },
    {
     "name": "stdout",
     "output_type": "stream",
     "text": [
      "Begin group  2 training\n"
     ]
    },
    {
     "name": "stderr",
     "output_type": "stream",
     "text": [
      "Epoch:  50%|██████████████████████████████████████                                      | 10/20 [00:00<00:00, 91.85it/s]"
     ]
    },
    {
     "name": "stdout",
     "output_type": "stream",
     "text": [
      "Begin group  3 training\n"
     ]
    },
    {
     "name": "stderr",
     "output_type": "stream",
     "text": [
      "Epoch:   0%|                                                                                     | 0/20 [00:00<?, ?it/s]"
     ]
    },
    {
     "name": "stdout",
     "output_type": "stream",
     "text": [
      "Begin group  4 training\n"
     ]
    },
    {
     "name": "stderr",
     "output_type": "stream",
     "text": [
      "                                                                                                                        \r"
     ]
    },
    {
     "name": "stdout",
     "output_type": "stream",
     "text": [
      "Group 0, clients ['f_00198']\n",
      "Group 1, clients ['f_00005', 'f_00015', 'f_00051', 'f_00112', 'f_00175', 'f_00044', 'f_00064']\n",
      "Group 2, clients ['f_00093', 'f_00122']\n",
      "Group 3, clients ['f_00114', 'f_00151', 'f_00024', 'f_00155', 'f_00006']\n",
      "Group 4, clients ['f_00189', 'f_00069', 'f_00047', 'f_00157', 'f_00149']\n"
     ]
    },
    {
     "name": "stderr",
     "output_type": "stream",
     "text": [
      "Epoch:   0%|                                                                                     | 0/20 [00:00<?, ?it/s]"
     ]
    },
    {
     "name": "stdout",
     "output_type": "stream",
     "text": [
      "Group 0\n",
      "At round 14 accuracy: 0.7515151515151515\n",
      "At round 14 training accuracy: 0.7397355601948504\n",
      "At round 14 training loss: 1.0925918500624188\n",
      "Group 1\n",
      "At round 14 accuracy: 0.16723549488054607\n",
      "At round 14 training accuracy: 0.17796266233766234\n",
      "At round 14 training loss: 1.995342273095792\n",
      "Group 2\n",
      "At round 14 accuracy: 0.6556420233463035\n",
      "At round 14 training accuracy: 0.6707557502738226\n",
      "At round 14 training loss: 0.860938806732278\n",
      "Group 3\n",
      "At round 14 accuracy: 0.3587570621468927\n",
      "At round 14 training accuracy: 0.38299319727891157\n",
      "At round 14 training loss: 1.8963585564068386\n",
      "Group 4\n",
      "At round 14 accuracy: 0.6491803278688525\n",
      "At round 14 training accuracy: 0.6013328106624853\n",
      "At round 14 training loss: 1.7554863251246269\n",
      "At round 14 mean test accuracy: 0.4594594594594595 mean train accuracy: 0.4665976493514402\n",
      "The groups difference are: [0.         1.4987546  1.85971526 1.16288551 0.79924083]\n",
      "Begin group  0 training\n",
      "Begin group  1 training\n"
     ]
    },
    {
     "name": "stderr",
     "output_type": "stream",
     "text": [
      "Epoch:  35%|██████████████████████████▉                                                  | 7/20 [00:00<00:00, 61.20it/s]"
     ]
    },
    {
     "name": "stdout",
     "output_type": "stream",
     "text": [
      "Begin group  2 training\n"
     ]
    },
    {
     "name": "stderr",
     "output_type": "stream",
     "text": [
      "Epoch:   0%|                                                                                     | 0/20 [00:00<?, ?it/s]"
     ]
    },
    {
     "name": "stdout",
     "output_type": "stream",
     "text": [
      "Begin group  3 training\n"
     ]
    },
    {
     "name": "stderr",
     "output_type": "stream",
     "text": [
      "Epoch:  35%|██████████████████████████▉                                                  | 7/20 [00:00<00:00, 64.31it/s]"
     ]
    },
    {
     "name": "stdout",
     "output_type": "stream",
     "text": [
      "Begin group  4 training\n"
     ]
    },
    {
     "name": "stderr",
     "output_type": "stream",
     "text": [
      "                                                                                                                        \r"
     ]
    },
    {
     "name": "stdout",
     "output_type": "stream",
     "text": [
      "Group 0, clients ['f_00138', 'f_00198']\n",
      "Group 1, clients ['f_00191', 'f_00012', 'f_00192', 'f_00115', 'f_00184']\n",
      "Group 2, clients ['f_00172', 'f_00072']\n",
      "Group 3, clients ['f_00040', 'f_00030', 'f_00170', 'f_00150', 'f_00146', 'f_00026']\n",
      "Group 4, clients ['f_00049', 'f_00127', 'f_00057', 'f_00058', 'f_00009']\n"
     ]
    },
    {
     "name": "stderr",
     "output_type": "stream",
     "text": [
      "Epoch:   0%|                                                                                     | 0/20 [00:00<?, ?it/s]"
     ]
    },
    {
     "name": "stdout",
     "output_type": "stream",
     "text": [
      "Group 0\n",
      "At round 15 accuracy: 0.7454545454545455\n",
      "At round 15 training accuracy: 0.7237299930410578\n",
      "At round 15 training loss: 1.1147264287798622\n",
      "Group 1\n",
      "At round 15 accuracy: 0.40784982935153585\n",
      "At round 15 training accuracy: 0.41680194805194803\n",
      "At round 15 training loss: 1.8998673194172708\n",
      "Group 2\n",
      "At round 15 accuracy: 0.6536964980544747\n",
      "At round 15 training accuracy: 0.6740416210295729\n",
      "At round 15 training loss: 0.8262509579204129\n",
      "Group 3\n",
      "At round 15 accuracy: 0.2796610169491525\n",
      "At round 15 training accuracy: 0.29931972789115646\n",
      "At round 15 training loss: 2.5302806244820966\n",
      "Group 4\n",
      "At round 15 accuracy: 0.5344262295081967\n",
      "At round 15 training accuracy: 0.5037240297922383\n",
      "At round 15 training loss: 1.532788216109745\n",
      "At round 15 mean test accuracy: 0.498960498960499 mean train accuracy: 0.50764265270081\n",
      "The groups difference are: [0.         1.53812235 1.86822019 1.16453749 0.80542453]\n",
      "Begin group  0 training\n"
     ]
    },
    {
     "name": "stderr",
     "output_type": "stream",
     "text": [
      "Epoch:   0%|                                                                                     | 0/20 [00:00<?, ?it/s]"
     ]
    },
    {
     "name": "stdout",
     "output_type": "stream",
     "text": [
      "Begin group  1 training\n"
     ]
    },
    {
     "name": "stderr",
     "output_type": "stream",
     "text": [
      "Epoch:  30%|███████████████████████                                                      | 6/20 [00:00<00:00, 58.09it/s]"
     ]
    },
    {
     "name": "stdout",
     "output_type": "stream",
     "text": [
      "Begin group  2 training\n"
     ]
    },
    {
     "name": "stderr",
     "output_type": "stream",
     "text": [
      "Epoch:   0%|                                                                                     | 0/20 [00:00<?, ?it/s]"
     ]
    },
    {
     "name": "stdout",
     "output_type": "stream",
     "text": [
      "Begin group  3 training\n"
     ]
    },
    {
     "name": "stderr",
     "output_type": "stream",
     "text": [
      "Epoch:   0%|                                                                                     | 0/20 [00:00<?, ?it/s]"
     ]
    },
    {
     "name": "stdout",
     "output_type": "stream",
     "text": [
      "Begin group  4 training\n"
     ]
    },
    {
     "name": "stderr",
     "output_type": "stream",
     "text": [
      "                                                                                                                        \r"
     ]
    },
    {
     "name": "stdout",
     "output_type": "stream",
     "text": [
      "Group 0 is empty.\n",
      "Group 1, clients ['f_00154', 'f_00174', 'f_00112', 'f_00032', 'f_00054', 'f_00134', 'f_00081', 'f_00051']\n",
      "Group 2, clients ['f_00073', 'f_00072']\n",
      "Group 3, clients ['f_00000', 'f_00170', 'f_00090', 'f_00096', 'f_00056', 'f_00100']\n",
      "Group 4, clients ['f_00059', 'f_00007', 'f_00029', 'f_00187']\n"
     ]
    },
    {
     "name": "stderr",
     "output_type": "stream",
     "text": [
      "Epoch:  35%|██████████████████████████▉                                                  | 7/20 [00:00<00:00, 62.86it/s]"
     ]
    },
    {
     "name": "stdout",
     "output_type": "stream",
     "text": [
      "Group 0\n",
      "At round 16 accuracy: 0.7515151515151515\n",
      "At round 16 training accuracy: 0.7313848295059151\n",
      "At round 16 training loss: 1.0951257540520978\n",
      "Group 1\n",
      "At round 16 accuracy: 0.6331058020477816\n",
      "At round 16 training accuracy: 0.6294642857142857\n",
      "At round 16 training loss: 1.496288906226491\n",
      "Group 2\n",
      "At round 16 accuracy: 0.7840466926070039\n",
      "At round 16 training accuracy: 0.7975903614457831\n",
      "At round 16 training loss: 0.9063462581587517\n",
      "Group 3\n",
      "At round 16 accuracy: 0.6779661016949152\n",
      "At round 16 training accuracy: 0.7017006802721089\n",
      "At round 16 training loss: 1.465952604603605\n",
      "Group 4\n",
      "At round 16 accuracy: 0.5770491803278689\n",
      "At round 16 training accuracy: 0.5397883183065465\n",
      "At round 16 training loss: 1.1945198396989665\n",
      "At round 16 mean test accuracy: 0.682952182952183 mean train accuracy: 0.6841239875768833\n",
      "The groups difference are: [0.         1.52431668 1.84936622 1.13735118 0.78477843]\n",
      "Begin group  1 training\n"
     ]
    },
    {
     "name": "stderr",
     "output_type": "stream",
     "text": [
      "Epoch:  20%|███████████████▍                                                             | 4/20 [00:00<00:00, 35.63it/s]"
     ]
    },
    {
     "name": "stdout",
     "output_type": "stream",
     "text": [
      "Begin group  2 training\n"
     ]
    },
    {
     "name": "stderr",
     "output_type": "stream",
     "text": [
      "Epoch:   0%|                                                                                     | 0/20 [00:00<?, ?it/s]"
     ]
    },
    {
     "name": "stdout",
     "output_type": "stream",
     "text": [
      "Begin group  3 training\n"
     ]
    },
    {
     "name": "stderr",
     "output_type": "stream",
     "text": [
      "Epoch:   0%|                                                                                     | 0/20 [00:00<?, ?it/s]"
     ]
    },
    {
     "name": "stdout",
     "output_type": "stream",
     "text": [
      "Begin group  4 training\n"
     ]
    },
    {
     "name": "stderr",
     "output_type": "stream",
     "text": [
      "                                                                                                                        \r"
     ]
    },
    {
     "name": "stdout",
     "output_type": "stream",
     "text": [
      "Group 0, clients ['f_00158', 'f_00138']\n",
      "Group 1, clients ['f_00075', 'f_00085', 'f_00080', 'f_00071', 'f_00192', 'f_00103']\n",
      "Group 2, clients ['f_00082']\n",
      "Group 3, clients ['f_00000', 'f_00146', 'f_00176', 'f_00095', 'f_00126', 'f_00016']\n",
      "Group 4, clients ['f_00197', 'f_00157', 'f_00109', 'f_00147', 'f_00087']\n"
     ]
    },
    {
     "name": "stderr",
     "output_type": "stream",
     "text": [
      "Epoch:  50%|██████████████████████████████████████                                      | 10/20 [00:00<00:00, 98.03it/s]"
     ]
    },
    {
     "name": "stdout",
     "output_type": "stream",
     "text": [
      "Group 0\n",
      "At round 17 accuracy: 0.7515151515151515\n",
      "At round 17 training accuracy: 0.7299930410577592\n",
      "At round 17 training loss: 1.0787403404754154\n",
      "Group 1\n",
      "At round 17 accuracy: 0.5170648464163823\n",
      "At round 17 training accuracy: 0.5186688311688312\n",
      "At round 17 training loss: 1.618243700232018\n",
      "Group 2\n",
      "At round 17 accuracy: 0.6381322957198443\n",
      "At round 17 training accuracy: 0.6427163198247535\n",
      "At round 17 training loss: 1.096381858875822\n",
      "Group 3\n",
      "At round 17 accuracy: 0.4604519774011299\n",
      "At round 17 training accuracy: 0.46122448979591835\n",
      "At round 17 training loss: 1.8939871054320108\n",
      "Group 4\n",
      "At round 17 accuracy: 0.49508196721311476\n",
      "At round 17 training accuracy: 0.4551156409251274\n",
      "At round 17 training loss: 1.2371583494285843\n",
      "At round 17 mean test accuracy: 0.5556133056133056 mean train accuracy: 0.5514889470799585\n",
      "The groups difference are: [0.         1.49224337 1.82332719 1.12735877 0.75137551]\n",
      "Begin group  0 training\n"
     ]
    },
    {
     "name": "stderr",
     "output_type": "stream",
     "text": [
      "Epoch:  40%|██████████████████████████████▊                                              | 8/20 [00:00<00:00, 76.68it/s]"
     ]
    },
    {
     "name": "stdout",
     "output_type": "stream",
     "text": [
      "Begin group  1 training\n"
     ]
    },
    {
     "name": "stderr",
     "output_type": "stream",
     "text": [
      "Epoch:   0%|                                                                                     | 0/20 [00:00<?, ?it/s]"
     ]
    },
    {
     "name": "stdout",
     "output_type": "stream",
     "text": [
      "Begin group  2 training\n",
      "Begin group  3 training\n"
     ]
    },
    {
     "name": "stderr",
     "output_type": "stream",
     "text": [
      "Epoch:   0%|                                                                                     | 0/20 [00:00<?, ?it/s]"
     ]
    },
    {
     "name": "stdout",
     "output_type": "stream",
     "text": [
      "Begin group  4 training\n"
     ]
    },
    {
     "name": "stderr",
     "output_type": "stream",
     "text": [
      "                                                                                                                        \r"
     ]
    },
    {
     "name": "stdout",
     "output_type": "stream",
     "text": [
      "Group 0, clients ['f_00108']\n",
      "Group 1, clients ['f_00134', 'f_00091', 'f_00081', 'f_00044', 'f_00074', 'f_00025', 'f_00012']\n",
      "Group 2 is empty.\n",
      "Group 3, clients ['f_00170', 'f_00151', 'f_00186', 'f_00040', 'f_00006', 'f_00033', 'f_00128']\n",
      "Group 4, clients ['f_00039', 'f_00047', 'f_00109', 'f_00049', 'f_00088']\n"
     ]
    },
    {
     "name": "stderr",
     "output_type": "stream",
     "text": [
      "Epoch:  40%|██████████████████████████████▊                                              | 8/20 [00:00<00:00, 74.20it/s]"
     ]
    },
    {
     "name": "stdout",
     "output_type": "stream",
     "text": [
      "Group 0\n",
      "At round 18 accuracy: 0.7333333333333333\n",
      "At round 18 training accuracy: 0.7613082811412665\n",
      "At round 18 training loss: 1.1141602157219135\n",
      "Group 1\n",
      "At round 18 accuracy: 0.5563139931740614\n",
      "At round 18 training accuracy: 0.5505275974025974\n",
      "At round 18 training loss: 1.4804740643685128\n",
      "Group 2\n",
      "At round 18 accuracy: 0.77431906614786\n",
      "At round 18 training accuracy: 0.7741511500547645\n",
      "At round 18 training loss: 0.8407251968767662\n",
      "Group 3\n",
      "At round 18 accuracy: 0.3813559322033898\n",
      "At round 18 training accuracy: 0.39727891156462586\n",
      "At round 18 training loss: 1.6409074727775288\n",
      "Group 4\n",
      "At round 18 accuracy: 0.5868852459016394\n",
      "At round 18 training accuracy: 0.5915327322618581\n",
      "At round 18 training loss: 1.7855877508046065\n",
      "At round 18 mean test accuracy: 0.6023908523908524 mean train accuracy: 0.6100724681809878\n",
      "The groups difference are: [0.         1.48337131 1.80442478 1.127532   0.75624505]\n",
      "Begin group  0 training\n"
     ]
    },
    {
     "name": "stderr",
     "output_type": "stream",
     "text": [
      "Epoch:   0%|                                                                                     | 0/20 [00:00<?, ?it/s]"
     ]
    },
    {
     "name": "stdout",
     "output_type": "stream",
     "text": [
      "Begin group  1 training\n"
     ]
    },
    {
     "name": "stderr",
     "output_type": "stream",
     "text": [
      "Epoch:   0%|                                                                                     | 0/20 [00:00<?, ?it/s]"
     ]
    },
    {
     "name": "stdout",
     "output_type": "stream",
     "text": [
      "Begin group  3 training\n"
     ]
    },
    {
     "name": "stderr",
     "output_type": "stream",
     "text": [
      "Epoch:   0%|                                                                                     | 0/20 [00:00<?, ?it/s]"
     ]
    },
    {
     "name": "stdout",
     "output_type": "stream",
     "text": [
      "Begin group  4 training\n"
     ]
    },
    {
     "name": "stderr",
     "output_type": "stream",
     "text": [
      "                                                                                                                        \r"
     ]
    },
    {
     "name": "stdout",
     "output_type": "stream",
     "text": [
      "Group 0 is empty.\n",
      "Group 1, clients ['f_00091', 'f_00013', 'f_00094', 'f_00105']\n",
      "Group 2, clients ['f_00163', 'f_00072', 'f_00152']\n",
      "Group 3, clients ['f_00040', 'f_00140', 'f_00033', 'f_00020', 'f_00196', 'f_00031', 'f_00016', 'f_00180']\n",
      "Group 4, clients ['f_00148', 'f_00078', 'f_00037', 'f_00169', 'f_00157']\n"
     ]
    },
    {
     "name": "stderr",
     "output_type": "stream",
     "text": [
      "Epoch:  30%|███████████████████████                                                      | 6/20 [00:00<00:00, 53.19it/s]"
     ]
    },
    {
     "name": "stdout",
     "output_type": "stream",
     "text": [
      "Group 0\n",
      "At round 19 accuracy: 0.7515151515151515\n",
      "At round 19 training accuracy: 0.7459986082115518\n",
      "At round 19 training loss: 1.1037645773416438\n",
      "Group 1\n",
      "At round 19 accuracy: 0.6416382252559727\n",
      "At round 19 training accuracy: 0.6292613636363636\n",
      "At round 19 training loss: 1.451035672943894\n",
      "Group 2\n",
      "At round 19 accuracy: 0.7840466926070039\n",
      "At round 19 training accuracy: 0.7774370208105148\n",
      "At round 19 training loss: 0.8302146342928803\n",
      "Group 3\n",
      "At round 19 accuracy: 0.6016949152542372\n",
      "At round 19 training accuracy: 0.6261904761904762\n",
      "At round 19 training loss: 1.4503001328633756\n",
      "Group 4\n",
      "At round 19 accuracy: 0.5344262295081967\n",
      "At round 19 training accuracy: 0.5029400235201882\n",
      "At round 19 training loss: 1.180892212724555\n",
      "At round 19 mean test accuracy: 0.6647609147609148 mean train accuracy: 0.6604957067170087\n",
      "The groups difference are: [0.         1.52163653 1.74570228 1.13525026 0.75118921]\n",
      "Begin group  1 training\n"
     ]
    },
    {
     "name": "stderr",
     "output_type": "stream",
     "text": [
      "Epoch:   0%|                                                                                     | 0/20 [00:00<?, ?it/s]"
     ]
    },
    {
     "name": "stdout",
     "output_type": "stream",
     "text": [
      "Begin group  2 training\n"
     ]
    },
    {
     "name": "stderr",
     "output_type": "stream",
     "text": [
      "Epoch:   0%|                                                                                     | 0/20 [00:00<?, ?it/s]"
     ]
    },
    {
     "name": "stdout",
     "output_type": "stream",
     "text": [
      "Begin group  3 training\n"
     ]
    },
    {
     "name": "stderr",
     "output_type": "stream",
     "text": [
      "Epoch:   0%|                                                                                     | 0/20 [00:00<?, ?it/s]"
     ]
    },
    {
     "name": "stdout",
     "output_type": "stream",
     "text": [
      "Begin group  4 training\n"
     ]
    },
    {
     "name": "stderr",
     "output_type": "stream",
     "text": [
      "                                                                                                                        \r"
     ]
    },
    {
     "name": "stdout",
     "output_type": "stream",
     "text": [
      "Group 0, clients ['f_00028', 'f_00178', 'f_00167']\n",
      "Group 1, clients ['f_00013', 'f_00195', 'f_00084', 'f_00175', 'f_00192']\n",
      "Group 2, clients ['f_00121']\n",
      "Group 3, clients ['f_00150', 'f_00196', 'f_00136', 'f_00166', 'f_00155']\n",
      "Group 4, clients ['f_00109', 'f_00168', 'f_00177', 'f_00047', 'f_00077', 'f_00187']\n"
     ]
    },
    {
     "name": "stderr",
     "output_type": "stream",
     "text": [
      "Epoch:   0%|                                                                                     | 0/20 [00:00<?, ?it/s]"
     ]
    },
    {
     "name": "stdout",
     "output_type": "stream",
     "text": [
      "Group 0\n",
      "At round 20 accuracy: 0.7515151515151515\n",
      "At round 20 training accuracy: 0.7466945024356297\n",
      "At round 20 training loss: 1.0831833570552685\n",
      "Group 1\n",
      "At round 20 accuracy: 0.5494880546075085\n",
      "At round 20 training accuracy: 0.5586444805194806\n",
      "At round 20 training loss: 1.4599125669277333\n",
      "Group 2\n",
      "At round 20 accuracy: 0.7198443579766537\n",
      "At round 20 training accuracy: 0.740197152245345\n",
      "At round 20 training loss: 0.8328941110843897\n",
      "Group 3\n",
      "At round 20 accuracy: 0.4604519774011299\n",
      "At round 20 training accuracy: 0.4595238095238095\n",
      "At round 20 training loss: 2.0632528135160197\n",
      "Group 4\n",
      "At round 20 accuracy: 0.5245901639344263\n",
      "At round 20 training accuracy: 0.5480203841630733\n",
      "At round 20 training loss: 1.438566059586769\n",
      "At round 20 mean test accuracy: 0.591995841995842 mean train accuracy: 0.60617501979173\n",
      "The groups difference are: [0.         1.49754327 1.70528454 1.12384329 0.71922564]\n",
      "Begin group  0 training\n"
     ]
    },
    {
     "name": "stderr",
     "output_type": "stream",
     "text": [
      "Epoch:   0%|                                                                                     | 0/20 [00:00<?, ?it/s]"
     ]
    },
    {
     "name": "stdout",
     "output_type": "stream",
     "text": [
      "Begin group  1 training\n"
     ]
    },
    {
     "name": "stderr",
     "output_type": "stream",
     "text": [
      "Epoch:  20%|███████████████▍                                                             | 4/20 [00:00<00:00, 39.45it/s]"
     ]
    },
    {
     "name": "stdout",
     "output_type": "stream",
     "text": [
      "Begin group  2 training\n"
     ]
    },
    {
     "name": "stderr",
     "output_type": "stream",
     "text": [
      "Epoch:  70%|████████████████████████████████████████████████████▌                      | 14/20 [00:00<00:00, 135.01it/s]"
     ]
    },
    {
     "name": "stdout",
     "output_type": "stream",
     "text": [
      "Begin group  3 training\n"
     ]
    },
    {
     "name": "stderr",
     "output_type": "stream",
     "text": [
      "Epoch:   0%|                                                                                     | 0/20 [00:00<?, ?it/s]"
     ]
    },
    {
     "name": "stdout",
     "output_type": "stream",
     "text": [
      "Begin group  4 training\n"
     ]
    },
    {
     "name": "stderr",
     "output_type": "stream",
     "text": [
      "                                                                                                                        \r"
     ]
    },
    {
     "name": "stdout",
     "output_type": "stream",
     "text": [
      "Group 0 is empty.\n",
      "Group 1, clients ['f_00144', 'f_00045', 'f_00091', 'f_00183', 'f_00021', 'f_00105', 'f_00145', 'f_00124', 'f_00092', 'f_00101', 'f_00013']\n",
      "Group 2, clients ['f_00052', 'f_00042', 'f_00152']\n",
      "Group 3, clients ['f_00020', 'f_00006']\n",
      "Group 4, clients ['f_00009', 'f_00017', 'f_00129', 'f_00087']\n"
     ]
    },
    {
     "name": "stderr",
     "output_type": "stream",
     "text": [
      "Epoch:   0%|                                                                                     | 0/20 [00:00<?, ?it/s]"
     ]
    },
    {
     "name": "stdout",
     "output_type": "stream",
     "text": [
      "Group 0\n",
      "At round 21 accuracy: 0.5636363636363636\n",
      "At round 21 training accuracy: 0.5845511482254697\n",
      "At round 21 training loss: 0.9641141725980166\n",
      "Group 1\n",
      "At round 21 accuracy: 0.4300341296928328\n",
      "At round 21 training accuracy: 0.4328327922077922\n",
      "At round 21 training loss: 1.6415263407367777\n",
      "Group 2\n",
      "At round 21 accuracy: 0.5175097276264592\n",
      "At round 21 training accuracy: 0.5200438116100766\n",
      "At round 21 training loss: 1.9113826198358526\n",
      "Group 3\n",
      "At round 21 accuracy: 0.384180790960452\n",
      "At round 21 training accuracy: 0.39727891156462586\n",
      "At round 21 training loss: 2.333719810508952\n",
      "Group 4\n",
      "At round 21 accuracy: 0.5606557377049181\n",
      "At round 21 training accuracy: 0.560172481379851\n",
      "At round 21 training loss: 1.7291096309408025\n",
      "At round 21 mean test accuracy: 0.47713097713097713 mean train accuracy: 0.4837707813166068\n",
      "The groups difference are: [0.         1.48215245 1.70019435 1.10826826 0.67603995]\n",
      "Begin group  1 training\n"
     ]
    },
    {
     "name": "stderr",
     "output_type": "stream",
     "text": [
      "Epoch:  25%|███████████████████▎                                                         | 5/20 [00:00<00:00, 41.97it/s]"
     ]
    },
    {
     "name": "stdout",
     "output_type": "stream",
     "text": [
      "Begin group  2 training\n"
     ]
    },
    {
     "name": "stderr",
     "output_type": "stream",
     "text": [
      "Epoch:   0%|                                                                                     | 0/20 [00:00<?, ?it/s]"
     ]
    },
    {
     "name": "stdout",
     "output_type": "stream",
     "text": [
      "Begin group  3 training\n"
     ]
    },
    {
     "name": "stderr",
     "output_type": "stream",
     "text": [
      "Epoch:   0%|                                                                                     | 0/20 [00:00<?, ?it/s]"
     ]
    },
    {
     "name": "stdout",
     "output_type": "stream",
     "text": [
      "Begin group  4 training\n"
     ]
    },
    {
     "name": "stderr",
     "output_type": "stream",
     "text": [
      "                                                                                                                        \r"
     ]
    },
    {
     "name": "stdout",
     "output_type": "stream",
     "text": [
      "Group 0, clients ['f_00098']\n",
      "Group 1, clients ['f_00144', 'f_00032', 'f_00091', 'f_00124', 'f_00075', 'f_00104', 'f_00135', 'f_00012']\n",
      "Group 2, clients ['f_00163']\n",
      "Group 3, clients ['f_00170', 'f_00176', 'f_00020', 'f_00046', 'f_00128', 'f_00036']\n",
      "Group 4, clients ['f_00157', 'f_00078', 'f_00189', 'f_00087']\n"
     ]
    },
    {
     "name": "stderr",
     "output_type": "stream",
     "text": [
      "Epoch:  20%|███████████████▍                                                             | 4/20 [00:00<00:00, 35.15it/s]"
     ]
    },
    {
     "name": "stdout",
     "output_type": "stream",
     "text": [
      "Group 0\n",
      "At round 22 accuracy: 0.5757575757575758\n",
      "At round 22 training accuracy: 0.5901183020180932\n",
      "At round 22 training loss: 0.9502120745953538\n",
      "Group 1\n",
      "At round 22 accuracy: 0.5034129692832765\n",
      "At round 22 training accuracy: 0.5056818181818182\n",
      "At round 22 training loss: 1.4638444063338367\n",
      "Group 2\n",
      "At round 22 accuracy: 0.7957198443579766\n",
      "At round 22 training accuracy: 0.7947426067907996\n",
      "At round 22 training loss: 0.9122357084482158\n",
      "Group 3\n",
      "At round 22 accuracy: 0.7005649717514124\n",
      "At round 22 training accuracy: 0.7112244897959183\n",
      "At round 22 training loss: 1.3929789672295252\n",
      "Group 4\n",
      "At round 22 accuracy: 0.5606557377049181\n",
      "At round 22 training accuracy: 0.560172481379851\n",
      "At round 22 training loss: 1.5457718578659754\n",
      "At round 22 mean test accuracy: 0.6330561330561331 mean train accuracy: 0.6386943547895987\n",
      "The groups difference are: [0.         1.44855832 1.67589464 1.07189756 0.68252307]\n",
      "Begin group  0 training\n"
     ]
    },
    {
     "name": "stderr",
     "output_type": "stream",
     "text": [
      "Epoch:   0%|                                                                                     | 0/20 [00:00<?, ?it/s]"
     ]
    },
    {
     "name": "stdout",
     "output_type": "stream",
     "text": [
      "Begin group  1 training\n"
     ]
    },
    {
     "name": "stderr",
     "output_type": "stream",
     "text": [
      "Epoch:   0%|                                                                                     | 0/20 [00:00<?, ?it/s]"
     ]
    },
    {
     "name": "stdout",
     "output_type": "stream",
     "text": [
      "Begin group  2 training\n",
      "Begin group  3 training\n"
     ]
    },
    {
     "name": "stderr",
     "output_type": "stream",
     "text": [
      "Epoch:   0%|                                                                                     | 0/20 [00:00<?, ?it/s]"
     ]
    },
    {
     "name": "stdout",
     "output_type": "stream",
     "text": [
      "Begin group  4 training\n"
     ]
    },
    {
     "name": "stderr",
     "output_type": "stream",
     "text": [
      "                                                                                                                        \r"
     ]
    },
    {
     "name": "stdout",
     "output_type": "stream",
     "text": [
      "Group 0, clients ['f_00198']\n",
      "Group 1, clients ['f_00014', 'f_00174', 'f_00185', 'f_00075', 'f_00081', 'f_00191', 'f_00092']\n",
      "Group 2, clients ['f_00072']\n",
      "Group 3, clients ['f_00030', 'f_00046', 'f_00024', 'f_00140']\n",
      "Group 4, clients ['f_00188', 'f_00077', 'f_00119', 'f_00097', 'f_00019', 'f_00199', 'f_00157']\n"
     ]
    },
    {
     "name": "stderr",
     "output_type": "stream",
     "text": [
      "Epoch:   0%|                                                                                     | 0/20 [00:00<?, ?it/s]"
     ]
    },
    {
     "name": "stdout",
     "output_type": "stream",
     "text": [
      "Group 0\n",
      "At round 23 accuracy: 0.7696969696969697\n",
      "At round 23 training accuracy: 0.7522616562282533\n",
      "At round 23 training loss: 0.9683270817136466\n",
      "Group 1\n",
      "At round 23 accuracy: 0.43856655290102387\n",
      "At round 23 training accuracy: 0.44176136363636365\n",
      "At round 23 training loss: 1.5353048606352373\n",
      "Group 2\n",
      "At round 23 accuracy: 0.7101167315175098\n",
      "At round 23 training accuracy: 0.6937568455640745\n",
      "At round 23 training loss: 1.3091422957828247\n",
      "Group 3\n",
      "At round 23 accuracy: 0.692090395480226\n",
      "At round 23 training accuracy: 0.6887755102040817\n",
      "At round 23 training loss: 1.3844781494870477\n",
      "Group 4\n",
      "At round 23 accuracy: 0.5639344262295082\n",
      "At round 23 training accuracy: 0.5715405723245786\n",
      "At round 23 training loss: 1.388756888256686\n",
      "At round 23 mean test accuracy: 0.606029106029106 mean train accuracy: 0.6033737287619512\n",
      "The groups difference are: [0.         1.5302919  1.7167744  1.12196409 0.7525006 ]\n",
      "Begin group  0 training\n",
      "Begin group  1 training\n"
     ]
    },
    {
     "name": "stderr",
     "output_type": "stream",
     "text": [
      "Epoch:  55%|█████████████████████████████████████████▎                                 | 11/20 [00:00<00:00, 100.58it/s]"
     ]
    },
    {
     "name": "stdout",
     "output_type": "stream",
     "text": [
      "Begin group  2 training\n"
     ]
    },
    {
     "name": "stderr",
     "output_type": "stream",
     "text": [
      "Epoch:   0%|                                                                                     | 0/20 [00:00<?, ?it/s]"
     ]
    },
    {
     "name": "stdout",
     "output_type": "stream",
     "text": [
      "Begin group  3 training\n"
     ]
    },
    {
     "name": "stderr",
     "output_type": "stream",
     "text": [
      "Epoch:   0%|                                                                                     | 0/20 [00:00<?, ?it/s]"
     ]
    },
    {
     "name": "stdout",
     "output_type": "stream",
     "text": [
      "Begin group  4 training\n"
     ]
    },
    {
     "name": "stderr",
     "output_type": "stream",
     "text": [
      "                                                                                                                        \r"
     ]
    },
    {
     "name": "stdout",
     "output_type": "stream",
     "text": [
      "Group 0, clients ['f_00048']\n",
      "Group 1, clients ['f_00101', 'f_00125', 'f_00142', 'f_00091', 'f_00014', 'f_00025', 'f_00144', 'f_00054']\n",
      "Group 2, clients ['f_00072', 'f_00102']\n",
      "Group 3, clients ['f_00196', 'f_00190', 'f_00026', 'f_00000']\n",
      "Group 4, clients ['f_00197', 'f_00109', 'f_00029', 'f_00159', 'f_00069']\n"
     ]
    },
    {
     "name": "stderr",
     "output_type": "stream",
     "text": [
      "Epoch:   0%|                                                                                     | 0/20 [00:00<?, ?it/s]"
     ]
    },
    {
     "name": "stdout",
     "output_type": "stream",
     "text": [
      "Group 0\n",
      "At round 24 accuracy: 0.7515151515151515\n",
      "At round 24 training accuracy: 0.7341684064022269\n",
      "At round 24 training loss: 0.9987750007986773\n",
      "Group 1\n",
      "At round 24 accuracy: 0.4522184300341297\n",
      "At round 24 training accuracy: 0.4577922077922078\n",
      "At round 24 training loss: 1.4392054359876103\n",
      "Group 2\n",
      "At round 24 accuracy: 0.6867704280155642\n",
      "At round 24 training accuracy: 0.7016429353778751\n",
      "At round 24 training loss: 0.8479295860767887\n",
      "Group 3\n",
      "At round 24 accuracy: 0.4491525423728814\n",
      "At round 24 training accuracy: 0.42585034013605444\n",
      "At round 24 training loss: 1.6970137138755954\n",
      "Group 4\n",
      "At round 24 accuracy: 0.5442622950819672\n",
      "At round 24 training accuracy: 0.519796158369267\n",
      "At round 24 training loss: 1.165538388401889\n",
      "At round 24 mean test accuracy: 0.5545738045738046 mean train accuracy: 0.553681261798916\n",
      "The groups difference are: [0.         1.52869734 1.70007982 1.12149334 0.76903561]\n",
      "Begin group  0 training\n",
      "Begin group  1 training\n"
     ]
    },
    {
     "name": "stderr",
     "output_type": "stream",
     "text": [
      "Epoch:   0%|                                                                                     | 0/20 [00:00<?, ?it/s]"
     ]
    },
    {
     "name": "stdout",
     "output_type": "stream",
     "text": [
      "Begin group  2 training\n"
     ]
    },
    {
     "name": "stderr",
     "output_type": "stream",
     "text": [
      "Epoch:   0%|                                                                                     | 0/20 [00:00<?, ?it/s]"
     ]
    },
    {
     "name": "stdout",
     "output_type": "stream",
     "text": [
      "Begin group  3 training\n"
     ]
    },
    {
     "name": "stderr",
     "output_type": "stream",
     "text": [
      "Epoch:   0%|                                                                                     | 0/20 [00:00<?, ?it/s]"
     ]
    },
    {
     "name": "stdout",
     "output_type": "stream",
     "text": [
      "Begin group  4 training\n"
     ]
    },
    {
     "name": "stderr",
     "output_type": "stream",
     "text": [
      "                                                                                                                        \r"
     ]
    },
    {
     "name": "stdout",
     "output_type": "stream",
     "text": [
      "Group 0, clients ['f_00068']\n",
      "Group 1, clients ['f_00135', 'f_00101', 'f_00035', 'f_00111', 'f_00103', 'f_00081']\n",
      "Group 2, clients ['f_00082', 'f_00102', 'f_00122']\n",
      "Group 3, clients ['f_00193', 'f_00126', 'f_00040', 'f_00120', 'f_00176']\n",
      "Group 4, clients ['f_00148', 'f_00069', 'f_00117', 'f_00169', 'f_00097']\n"
     ]
    },
    {
     "name": "stderr",
     "output_type": "stream",
     "text": [
      "Epoch:  35%|██████████████████████████▉                                                  | 7/20 [00:00<00:00, 66.63it/s]"
     ]
    },
    {
     "name": "stdout",
     "output_type": "stream",
     "text": [
      "Group 0\n",
      "At round 25 accuracy: 0.7636363636363637\n",
      "At round 25 training accuracy: 0.7501739735560194\n",
      "At round 25 training loss: 1.00189672442634\n",
      "Group 1\n",
      "At round 25 accuracy: 0.6296928327645052\n",
      "At round 25 training accuracy: 0.6055194805194806\n",
      "At round 25 training loss: 1.3496225332212333\n",
      "Group 2\n",
      "At round 25 accuracy: 0.7937743190661478\n",
      "At round 25 training accuracy: 0.7877327491785323\n",
      "At round 25 training loss: 0.8890034236364793\n",
      "Group 3\n",
      "At round 25 accuracy: 0.6186440677966102\n",
      "At round 25 training accuracy: 0.6517006802721088\n",
      "At round 25 training loss: 1.36700308979774\n",
      "Group 4\n",
      "At round 25 accuracy: 0.6229508196721312\n",
      "At round 25 training accuracy: 0.5801646413171305\n",
      "At round 25 training loss: 1.3793509072623782\n",
      "At round 25 mean test accuracy: 0.681912681912682 mean train accuracy: 0.6731624139820961\n",
      "The groups difference are: [0.         1.51026504 1.69020515 1.10604626 0.76544818]\n",
      "Begin group  0 training\n"
     ]
    },
    {
     "name": "stderr",
     "output_type": "stream",
     "text": [
      "Epoch:  30%|███████████████████████                                                      | 6/20 [00:00<00:00, 59.31it/s]"
     ]
    },
    {
     "name": "stdout",
     "output_type": "stream",
     "text": [
      "Begin group  1 training\n"
     ]
    },
    {
     "name": "stderr",
     "output_type": "stream",
     "text": [
      "                                                                                                                        "
     ]
    },
    {
     "name": "stdout",
     "output_type": "stream",
     "text": [
      "Begin group  2 training\n"
     ]
    },
    {
     "name": "stderr",
     "output_type": "stream",
     "text": [
      "Epoch:   0%|                                                                                     | 0/20 [00:00<?, ?it/s]"
     ]
    },
    {
     "name": "stdout",
     "output_type": "stream",
     "text": [
      "Begin group  3 training\n"
     ]
    },
    {
     "name": "stderr",
     "output_type": "stream",
     "text": [
      "Epoch:  50%|██████████████████████████████████████                                      | 10/20 [00:00<00:00, 95.71it/s]"
     ]
    },
    {
     "name": "stdout",
     "output_type": "stream",
     "text": [
      "Begin group  4 training\n"
     ]
    },
    {
     "name": "stderr",
     "output_type": "stream",
     "text": [
      "                                                                                                                        \r"
     ]
    },
    {
     "name": "stdout",
     "output_type": "stream",
     "text": [
      "Group 0, clients ['f_00167', 'f_00108', 'f_00118']\n",
      "Group 1, clients ['f_00153', 'f_00124', 'f_00025', 'f_00174']\n",
      "Group 2, clients ['f_00163', 'f_00042']\n",
      "Group 3, clients ['f_00196', 'f_00136', 'f_00116', 'f_00186', 'f_00030', 'f_00050']\n",
      "Group 4, clients ['f_00188', 'f_00137', 'f_00109', 'f_00168', 'f_00129']\n"
     ]
    },
    {
     "name": "stderr",
     "output_type": "stream",
     "text": [
      "Epoch:   0%|                                                                                     | 0/20 [00:00<?, ?it/s]"
     ]
    },
    {
     "name": "stdout",
     "output_type": "stream",
     "text": [
      "Group 0\n",
      "At round 26 accuracy: 0.703030303030303\n",
      "At round 26 training accuracy: 0.7070285316631872\n",
      "At round 26 training loss: 1.1212777140742802\n",
      "Group 1\n",
      "At round 26 accuracy: 0.49829351535836175\n",
      "At round 26 training accuracy: 0.5068993506493507\n",
      "At round 26 training loss: 1.5071974147667553\n",
      "Group 2\n",
      "At round 26 accuracy: 0.7937743190661478\n",
      "At round 26 training accuracy: 0.7868565169769989\n",
      "At round 26 training loss: 0.9375212927898728\n",
      "Group 3\n",
      "At round 26 accuracy: 0.4548022598870056\n",
      "At round 26 training accuracy: 0.4636054421768708\n",
      "At round 26 training loss: 1.5338179672250942\n",
      "Group 4\n",
      "At round 26 accuracy: 0.5442622950819672\n",
      "At round 26 training accuracy: 0.5096040768326147\n",
      "At round 26 training loss: 1.1283722400945666\n",
      "At round 26 mean test accuracy: 0.5940748440748441 mean train accuracy: 0.5949089580415322\n",
      "The groups difference are: [0.         1.53431906 1.71921933 1.12060527 0.76953738]\n",
      "Begin group  0 training\n"
     ]
    },
    {
     "name": "stderr",
     "output_type": "stream",
     "text": [
      "Epoch:  40%|██████████████████████████████▊                                              | 8/20 [00:00<00:00, 73.93it/s]"
     ]
    },
    {
     "name": "stdout",
     "output_type": "stream",
     "text": [
      "Begin group  1 training\n"
     ]
    },
    {
     "name": "stderr",
     "output_type": "stream",
     "text": [
      "Epoch:   0%|                                                                                     | 0/20 [00:00<?, ?it/s]"
     ]
    },
    {
     "name": "stdout",
     "output_type": "stream",
     "text": [
      "Begin group  2 training\n"
     ]
    },
    {
     "name": "stderr",
     "output_type": "stream",
     "text": [
      "Epoch:   0%|                                                                                     | 0/20 [00:00<?, ?it/s]"
     ]
    },
    {
     "name": "stdout",
     "output_type": "stream",
     "text": [
      "Begin group  3 training\n"
     ]
    },
    {
     "name": "stderr",
     "output_type": "stream",
     "text": [
      "Epoch:  60%|█████████████████████████████████████████████                              | 12/20 [00:00<00:00, 114.26it/s]"
     ]
    },
    {
     "name": "stdout",
     "output_type": "stream",
     "text": [
      "Begin group  4 training\n"
     ]
    },
    {
     "name": "stderr",
     "output_type": "stream",
     "text": [
      "                                                                                                                        \r"
     ]
    },
    {
     "name": "stdout",
     "output_type": "stream",
     "text": [
      "Group 0, clients ['f_00048', 'f_00068']\n",
      "Group 1, clients ['f_00103', 'f_00185', 'f_00074', 'f_00162', 'f_00101', 'f_00173', 'f_00012', 'f_00165']\n",
      "Group 2 is empty.\n",
      "Group 3, clients ['f_00040', 'f_00090', 'f_00095']\n",
      "Group 4, clients ['f_00148', 'f_00109', 'f_00139', 'f_00197', 'f_00078', 'f_00058', 'f_00009']\n"
     ]
    },
    {
     "name": "stderr",
     "output_type": "stream",
     "text": [
      "Epoch:  40%|██████████████████████████████▊                                              | 8/20 [00:00<00:00, 70.53it/s]"
     ]
    },
    {
     "name": "stdout",
     "output_type": "stream",
     "text": [
      "Group 0\n",
      "At round 27 accuracy: 0.6787878787878788\n",
      "At round 27 training accuracy: 0.6812804453723034\n",
      "At round 27 training loss: 1.040999887299853\n",
      "Group 1\n",
      "At round 27 accuracy: 0.43856655290102387\n",
      "At round 27 training accuracy: 0.4393262987012987\n",
      "At round 27 training loss: 1.9590256967545523\n",
      "Group 2\n",
      "At round 27 accuracy: 0.688715953307393\n",
      "At round 27 training accuracy: 0.7134720700985762\n",
      "At round 27 training loss: 0.7173579480927458\n",
      "Group 3\n",
      "At round 27 accuracy: 0.3785310734463277\n",
      "At round 27 training accuracy: 0.39285714285714285\n",
      "At round 27 training loss: 2.071837785039224\n",
      "Group 4\n",
      "At round 27 accuracy: 0.5147540983606558\n",
      "At round 27 training accuracy: 0.45433163465307724\n",
      "At round 27 training loss: 1.1370023677555638\n",
      "At round 27 mean test accuracy: 0.527027027027027 mean train accuracy: 0.5307228548809452\n",
      "The groups difference are: [0.         1.56965106 1.70517122 1.1479448  0.75651505]\n",
      "Begin group  0 training\n"
     ]
    },
    {
     "name": "stderr",
     "output_type": "stream",
     "text": [
      "Epoch:   0%|                                                                                     | 0/20 [00:00<?, ?it/s]"
     ]
    },
    {
     "name": "stdout",
     "output_type": "stream",
     "text": [
      "Begin group  1 training\n"
     ]
    },
    {
     "name": "stderr",
     "output_type": "stream",
     "text": [
      "Epoch:   0%|                                                                                     | 0/20 [00:00<?, ?it/s]"
     ]
    },
    {
     "name": "stdout",
     "output_type": "stream",
     "text": [
      "Begin group  3 training\n"
     ]
    },
    {
     "name": "stderr",
     "output_type": "stream",
     "text": [
      "Epoch:   0%|                                                                                     | 0/20 [00:00<?, ?it/s]"
     ]
    },
    {
     "name": "stdout",
     "output_type": "stream",
     "text": [
      "Begin group  4 training\n"
     ]
    },
    {
     "name": "stderr",
     "output_type": "stream",
     "text": [
      "                                                                                                                        \r"
     ]
    },
    {
     "name": "stdout",
     "output_type": "stream",
     "text": [
      "Group 0, clients ['f_00067', 'f_00098']\n",
      "Group 1, clients ['f_00065', 'f_00075', 'f_00134', 'f_00164', 'f_00051']\n",
      "Group 2, clients ['f_00073']\n",
      "Group 3, clients ['f_00024', 'f_00170', 'f_00061', 'f_00128', 'f_00126']\n",
      "Group 4, clients ['f_00187', 'f_00168', 'f_00127', 'f_00059', 'f_00099', 'f_00069', 'f_00177']\n"
     ]
    },
    {
     "name": "stderr",
     "output_type": "stream",
     "text": [
      "Epoch:  15%|███████████▌                                                                 | 3/20 [00:00<00:00, 24.29it/s]"
     ]
    },
    {
     "name": "stdout",
     "output_type": "stream",
     "text": [
      "Group 0\n",
      "At round 28 accuracy: 0.7818181818181819\n",
      "At round 28 training accuracy: 0.7515657620041754\n",
      "At round 28 training loss: 0.9794367214790549\n",
      "Group 1\n",
      "At round 28 accuracy: 0.5119453924914675\n",
      "At round 28 training accuracy: 0.515422077922078\n",
      "At round 28 training loss: 1.4838419504487863\n",
      "Group 2\n",
      "At round 28 accuracy: 0.7023346303501945\n",
      "At round 28 training accuracy: 0.7246440306681271\n",
      "At round 28 training loss: 0.707269486487891\n",
      "Group 3\n",
      "At round 28 accuracy: 0.4689265536723164\n",
      "At round 28 training accuracy: 0.4673469387755102\n",
      "At round 28 training loss: 2.1615745915442095\n",
      "Group 4\n",
      "At round 28 accuracy: 0.6262295081967213\n",
      "At round 28 training accuracy: 0.57781262250098\n",
      "At round 28 training loss: 1.045686346369601\n",
      "At round 28 mean test accuracy: 0.5961538461538461 mean train accuracy: 0.5953352414591072\n",
      "The groups difference are: [0.         1.55732452 1.64485505 1.18052984 0.7510552 ]\n",
      "Begin group  0 training\n"
     ]
    },
    {
     "name": "stderr",
     "output_type": "stream",
     "text": [
      "Epoch:   0%|                                                                                     | 0/20 [00:00<?, ?it/s]"
     ]
    },
    {
     "name": "stdout",
     "output_type": "stream",
     "text": [
      "Begin group  1 training\n"
     ]
    },
    {
     "name": "stderr",
     "output_type": "stream",
     "text": [
      "Epoch:  20%|███████████████▍                                                             | 4/20 [00:00<00:00, 33.89it/s]"
     ]
    },
    {
     "name": "stdout",
     "output_type": "stream",
     "text": [
      "Begin group  2 training\n"
     ]
    },
    {
     "name": "stderr",
     "output_type": "stream",
     "text": [
      "Epoch:   0%|                                                                                     | 0/20 [00:00<?, ?it/s]"
     ]
    },
    {
     "name": "stdout",
     "output_type": "stream",
     "text": [
      "Begin group  3 training\n"
     ]
    },
    {
     "name": "stderr",
     "output_type": "stream",
     "text": [
      "Epoch:   0%|                                                                                     | 0/20 [00:00<?, ?it/s]"
     ]
    },
    {
     "name": "stdout",
     "output_type": "stream",
     "text": [
      "Begin group  4 training\n"
     ]
    },
    {
     "name": "stderr",
     "output_type": "stream",
     "text": [
      "                                                                                                                        \r"
     ]
    },
    {
     "name": "stdout",
     "output_type": "stream",
     "text": [
      "Group 0, clients ['f_00138', 'f_00198']\n",
      "Group 1, clients ['f_00145', 'f_00075', 'f_00141', 'f_00183', 'f_00135', 'f_00101', 'f_00165', 'f_00063']\n",
      "Group 2, clients ['f_00053']\n",
      "Group 3, clients ['f_00061', 'f_00128', 'f_00126', 'f_00161']\n",
      "Group 4, clients ['f_00197', 'f_00119', 'f_00088', 'f_00008', 'f_00027']\n"
     ]
    },
    {
     "name": "stderr",
     "output_type": "stream",
     "text": [
      "Epoch:   0%|                                                                                     | 0/20 [00:00<?, ?it/s]"
     ]
    },
    {
     "name": "stdout",
     "output_type": "stream",
     "text": [
      "Group 0\n",
      "At round 29 accuracy: 0.6242424242424243\n",
      "At round 29 training accuracy: 0.6228253305497564\n",
      "At round 29 training loss: 0.8329199984327488\n",
      "Group 1\n",
      "At round 29 accuracy: 0.4709897610921502\n",
      "At round 29 training accuracy: 0.46732954545454547\n",
      "At round 29 training loss: 1.9714081089508224\n",
      "Group 2\n",
      "At round 29 accuracy: 0.7101167315175098\n",
      "At round 29 training accuracy: 0.6983570646221249\n",
      "At round 29 training loss: 1.3818577836076897\n",
      "Group 3\n",
      "At round 29 accuracy: 0.5734463276836158\n",
      "At round 29 training accuracy: 0.5829931972789115\n",
      "At round 29 training loss: 1.343895015079959\n",
      "Group 4\n",
      "At round 29 accuracy: 0.5016393442622951\n",
      "At round 29 training accuracy: 0.44257154057232456\n",
      "At round 29 training loss: 1.1149264496945719\n",
      "At round 29 mean test accuracy: 0.5717255717255717 mean train accuracy: 0.5620242372571707\n",
      "The groups difference are: [0.         1.60407674 1.70856332 1.15441469 0.70729612]\n",
      "Begin group  0 training\n"
     ]
    },
    {
     "name": "stderr",
     "output_type": "stream",
     "text": [
      "Epoch:   0%|                                                                                     | 0/20 [00:00<?, ?it/s]"
     ]
    },
    {
     "name": "stdout",
     "output_type": "stream",
     "text": [
      "Begin group  1 training\n"
     ]
    },
    {
     "name": "stderr",
     "output_type": "stream",
     "text": [
      "Epoch:  15%|███████████▌                                                                 | 3/20 [00:00<00:00, 28.17it/s]"
     ]
    },
    {
     "name": "stdout",
     "output_type": "stream",
     "text": [
      "Begin group  2 training\n"
     ]
    },
    {
     "name": "stderr",
     "output_type": "stream",
     "text": [
      "Epoch:   0%|                                                                                     | 0/20 [00:00<?, ?it/s]"
     ]
    },
    {
     "name": "stdout",
     "output_type": "stream",
     "text": [
      "Begin group  3 training\n",
      "Begin group  4 training\n"
     ]
    },
    {
     "name": "stderr",
     "output_type": "stream",
     "text": [
      "                                                                                                                        \r"
     ]
    },
    {
     "name": "stdout",
     "output_type": "stream",
     "text": [
      "Group 0, clients ['f_00067']\n",
      "Group 1, clients ['f_00143', 'f_00081', 'f_00124', 'f_00142', 'f_00171', 'f_00021', 'f_00184', 'f_00111', 'f_00063', 'f_00183']\n",
      "Group 2, clients ['f_00072', 'f_00093']\n",
      "Group 3, clients ['f_00026', 'f_00150', 'f_00024', 'f_00126', 'f_00106']\n",
      "Group 4, clients ['f_00129', 'f_00097']\n"
     ]
    },
    {
     "name": "stderr",
     "output_type": "stream",
     "text": [
      "Epoch:  15%|███████████▌                                                                 | 3/20 [00:00<00:00, 26.74it/s]"
     ]
    },
    {
     "name": "stdout",
     "output_type": "stream",
     "text": [
      "Group 0\n",
      "At round 30 accuracy: 0.7636363636363637\n",
      "At round 30 training accuracy: 0.7446068197633959\n",
      "At round 30 training loss: 0.8482148892031665\n",
      "Group 1\n",
      "At round 30 accuracy: 0.447098976109215\n",
      "At round 30 training accuracy: 0.4602272727272727\n",
      "At round 30 training loss: 1.8879340282193833\n",
      "Group 2\n",
      "At round 30 accuracy: 0.7159533073929961\n",
      "At round 30 training accuracy: 0.6994523548740417\n",
      "At round 30 training loss: 1.6348995477646622\n",
      "Group 3\n",
      "At round 30 accuracy: 0.3870056497175141\n",
      "At round 30 training accuracy: 0.40408163265306124\n",
      "At round 30 training loss: 1.50112949810466\n",
      "Group 4\n",
      "At round 30 accuracy: 0.49508196721311476\n",
      "At round 30 training accuracy: 0.4272834182673461\n",
      "At round 30 training loss: 1.109619850787122\n",
      "At round 30 mean test accuracy: 0.5426195426195426 mean train accuracy: 0.5364472322026673\n",
      "The groups difference are: [0.         1.58717826 1.73381909 1.11723408 0.70337626]\n",
      "Begin group  0 training\n"
     ]
    },
    {
     "name": "stderr",
     "output_type": "stream",
     "text": [
      "Epoch:  95%|███████████████████████████████████████████████████████████████████████▎   | 19/20 [00:00<00:00, 181.33it/s]"
     ]
    },
    {
     "name": "stdout",
     "output_type": "stream",
     "text": [
      "Begin group  1 training\n"
     ]
    },
    {
     "name": "stderr",
     "output_type": "stream",
     "text": [
      "Epoch:   0%|                                                                                     | 0/20 [00:00<?, ?it/s]"
     ]
    },
    {
     "name": "stdout",
     "output_type": "stream",
     "text": [
      "Begin group  2 training\n"
     ]
    },
    {
     "name": "stderr",
     "output_type": "stream",
     "text": [
      "                                                                                                                        "
     ]
    },
    {
     "name": "stdout",
     "output_type": "stream",
     "text": [
      "Begin group  3 training\n"
     ]
    },
    {
     "name": "stderr",
     "output_type": "stream",
     "text": [
      "Epoch:   0%|                                                                                     | 0/20 [00:00<?, ?it/s]"
     ]
    },
    {
     "name": "stdout",
     "output_type": "stream",
     "text": [
      "Begin group  4 training\n"
     ]
    },
    {
     "name": "stderr",
     "output_type": "stream",
     "text": [
      "                                                                                                                        \r"
     ]
    },
    {
     "name": "stdout",
     "output_type": "stream",
     "text": [
      "Group 0, clients ['f_00118']\n",
      "Group 1, clients ['f_00055', 'f_00045', 'f_00010']\n",
      "Group 2, clients ['f_00102']\n",
      "Group 3, clients ['f_00041', 'f_00056', 'f_00096', 'f_00043']\n",
      "Group 4, clients ['f_00148', 'f_00008', 'f_00079', 'f_00137', 'f_00147', 'f_00179', 'f_00169', 'f_00139', 'f_00189', 'f_00017', 'f_00157']\n"
     ]
    },
    {
     "name": "stderr",
     "output_type": "stream",
     "text": [
      "Epoch:  25%|███████████████████▎                                                         | 5/20 [00:00<00:00, 40.56it/s]"
     ]
    },
    {
     "name": "stdout",
     "output_type": "stream",
     "text": [
      "Group 0\n",
      "At round 31 accuracy: 0.6\n",
      "At round 31 training accuracy: 0.5942936673625608\n",
      "At round 31 training loss: 1.382063315158597\n",
      "Group 1\n",
      "At round 31 accuracy: 0.5511945392491467\n",
      "At round 31 training accuracy: 0.5620941558441559\n",
      "At round 31 training loss: 1.4546960412294834\n",
      "Group 2\n",
      "At round 31 accuracy: 0.6750972762645915\n",
      "At round 31 training accuracy: 0.664841182913472\n",
      "At round 31 training loss: 1.3219608206542663\n",
      "Group 3\n",
      "At round 31 accuracy: 0.3870056497175141\n",
      "At round 31 training accuracy: 0.39931972789115644\n",
      "At round 31 training loss: 2.135589250101119\n",
      "Group 4\n",
      "At round 31 accuracy: 0.6032786885245902\n",
      "At round 31 training accuracy: 0.5648765190121521\n",
      "At round 31 training loss: 1.2392892527584933\n",
      "At round 31 mean test accuracy: 0.5665280665280665 mean train accuracy: 0.5647646306558675\n",
      "The groups difference are: [0.         1.59064438 1.75765377 1.11245525 0.68586456]\n",
      "Begin group  0 training\n"
     ]
    },
    {
     "name": "stderr",
     "output_type": "stream",
     "text": [
      "Epoch:   0%|                                                                                     | 0/20 [00:00<?, ?it/s]"
     ]
    },
    {
     "name": "stdout",
     "output_type": "stream",
     "text": [
      "Begin group  1 training\n"
     ]
    },
    {
     "name": "stderr",
     "output_type": "stream",
     "text": [
      "Epoch:  30%|███████████████████████                                                      | 6/20 [00:00<00:00, 53.58it/s]"
     ]
    },
    {
     "name": "stdout",
     "output_type": "stream",
     "text": [
      "Begin group  2 training\n"
     ]
    },
    {
     "name": "stderr",
     "output_type": "stream",
     "text": [
      "Epoch:   0%|                                                                                     | 0/20 [00:00<?, ?it/s]"
     ]
    },
    {
     "name": "stdout",
     "output_type": "stream",
     "text": [
      "Begin group  3 training\n"
     ]
    },
    {
     "name": "stderr",
     "output_type": "stream",
     "text": [
      "Epoch:  55%|█████████████████████████████████████████▎                                 | 11/20 [00:00<00:00, 101.89it/s]"
     ]
    },
    {
     "name": "stdout",
     "output_type": "stream",
     "text": [
      "Begin group  4 training\n"
     ]
    },
    {
     "name": "stderr",
     "output_type": "stream",
     "text": [
      "                                                                                                                        \r"
     ]
    },
    {
     "name": "stdout",
     "output_type": "stream",
     "text": [
      "Group 0, clients ['f_00167', 'f_00028', 'f_00118']\n",
      "Group 1, clients ['f_00101', 'f_00075', 'f_00144', 'f_00181', 'f_00173']\n",
      "Group 2, clients ['f_00122', 'f_00121', 'f_00023', 'f_00002']\n",
      "Group 3, clients ['f_00186', 'f_00182']\n",
      "Group 4, clients ['f_00029', 'f_00027', 'f_00039', 'f_00107', 'f_00017', 'f_00109']\n"
     ]
    },
    {
     "name": "stderr",
     "output_type": "stream",
     "text": [
      "Epoch:   0%|                                                                                     | 0/20 [00:00<?, ?it/s]"
     ]
    },
    {
     "name": "stdout",
     "output_type": "stream",
     "text": [
      "Group 0\n",
      "At round 32 accuracy: 0.5393939393939394\n",
      "At round 32 training accuracy: 0.5316631871955463\n",
      "At round 32 training loss: 1.1505977968499324\n",
      "Group 1\n",
      "At round 32 accuracy: 0.2167235494880546\n",
      "At round 32 training accuracy: 0.22017045454545456\n",
      "At round 32 training loss: 1.9616293052042073\n",
      "Group 2\n",
      "At round 32 accuracy: 0.7412451361867705\n",
      "At round 32 training accuracy: 0.7577217962760131\n",
      "At round 32 training loss: 0.7817910974806528\n",
      "Group 3\n",
      "At round 32 accuracy: 0.3870056497175141\n",
      "At round 32 training accuracy: 0.39931972789115644\n",
      "At round 32 training loss: 2.317619101774125\n",
      "Group 4\n",
      "At round 32 accuracy: 0.5573770491803278\n",
      "At round 32 training accuracy: 0.5241081928655429\n",
      "At round 32 training loss: 1.1771848773731992\n",
      "At round 32 mean test accuracy: 0.4698544698544699 mean train accuracy: 0.47615857743133794\n",
      "The groups difference are: [0.         1.56908138 1.78294848 1.15663432 0.70159693]\n",
      "Begin group  0 training\n"
     ]
    },
    {
     "name": "stderr",
     "output_type": "stream",
     "text": [
      "Epoch:   0%|                                                                                     | 0/20 [00:00<?, ?it/s]"
     ]
    },
    {
     "name": "stdout",
     "output_type": "stream",
     "text": [
      "Begin group  1 training\n"
     ]
    },
    {
     "name": "stderr",
     "output_type": "stream",
     "text": [
      "Epoch:  20%|███████████████▍                                                             | 4/20 [00:00<00:00, 38.16it/s]"
     ]
    },
    {
     "name": "stdout",
     "output_type": "stream",
     "text": [
      "Begin group  2 training\n"
     ]
    },
    {
     "name": "stderr",
     "output_type": "stream",
     "text": [
      "Epoch:   0%|                                                                                     | 0/20 [00:00<?, ?it/s]"
     ]
    },
    {
     "name": "stdout",
     "output_type": "stream",
     "text": [
      "Begin group  3 training\n",
      "Begin group  4 training\n"
     ]
    },
    {
     "name": "stderr",
     "output_type": "stream",
     "text": [
      "                                                                                                                        \r"
     ]
    },
    {
     "name": "stdout",
     "output_type": "stream",
     "text": [
      "Group 0, clients ['f_00118', 'f_00038']\n",
      "Group 1, clients ['f_00015', 'f_00171', 'f_00103', 'f_00162', 'f_00054', 'f_00081', 'f_00085']\n",
      "Group 2 is empty.\n",
      "Group 3, clients ['f_00116', 'f_00100', 'f_00126']\n",
      "Group 4, clients ['f_00119', 'f_00017', 'f_00117', 'f_00109', 'f_00008', 'f_00029', 'f_00149', 'f_00189']\n"
     ]
    },
    {
     "name": "stderr",
     "output_type": "stream",
     "text": [
      "Epoch:  20%|███████████████▍                                                             | 4/20 [00:00<00:00, 33.66it/s]"
     ]
    },
    {
     "name": "stdout",
     "output_type": "stream",
     "text": [
      "Group 0\n",
      "At round 33 accuracy: 0.7636363636363637\n",
      "At round 33 training accuracy: 0.7446068197633959\n",
      "At round 33 training loss: 0.7890647894073545\n",
      "Group 1\n",
      "At round 33 accuracy: 0.5085324232081911\n",
      "At round 33 training accuracy: 0.5075081168831169\n",
      "At round 33 training loss: 1.306023321416858\n",
      "Group 2\n",
      "At round 33 accuracy: 0.7587548638132295\n",
      "At round 33 training accuracy: 0.7734939759036145\n",
      "At round 33 training loss: 0.7770663297319986\n",
      "Group 3\n",
      "At round 33 accuracy: 0.3615819209039548\n",
      "At round 33 training accuracy: 0.3843537414965986\n",
      "At round 33 training loss: 2.5015296997869907\n",
      "Group 4\n",
      "At round 33 accuracy: 0.5344262295081967\n",
      "At round 33 training accuracy: 0.4943159545276362\n",
      "At round 33 training loss: 1.0594224484001409\n",
      "At round 33 mean test accuracy: 0.5743243243243243 mean train accuracy: 0.5781012118628586\n",
      "The groups difference are: [0.         1.57589781 1.77697793 1.14672535 0.7157423 ]\n",
      "Begin group  0 training\n"
     ]
    },
    {
     "name": "stderr",
     "output_type": "stream",
     "text": [
      "Epoch:  40%|██████████████████████████████▊                                              | 8/20 [00:00<00:00, 77.78it/s]"
     ]
    },
    {
     "name": "stdout",
     "output_type": "stream",
     "text": [
      "Begin group  1 training\n"
     ]
    },
    {
     "name": "stderr",
     "output_type": "stream",
     "text": [
      "Epoch:  30%|███████████████████████                                                      | 6/20 [00:00<00:00, 55.42it/s]"
     ]
    },
    {
     "name": "stdout",
     "output_type": "stream",
     "text": [
      "Begin group  3 training\n"
     ]
    },
    {
     "name": "stderr",
     "output_type": "stream",
     "text": [
      "Epoch:   0%|                                                                                     | 0/20 [00:00<?, ?it/s]"
     ]
    },
    {
     "name": "stdout",
     "output_type": "stream",
     "text": [
      "Begin group  4 training\n"
     ]
    },
    {
     "name": "stderr",
     "output_type": "stream",
     "text": [
      "                                                                                                                        \r"
     ]
    },
    {
     "name": "stdout",
     "output_type": "stream",
     "text": [
      "Group 0 is empty.\n",
      "Group 1, clients ['f_00074', 'f_00010', 'f_00183', 'f_00195', 'f_00142', 'f_00184', 'f_00064', 'f_00113']\n",
      "Group 2 is empty.\n",
      "Group 3, clients ['f_00166', 'f_00180', 'f_00076', 'f_00026', 'f_00003', 'f_00040']\n",
      "Group 4, clients ['f_00087', 'f_00079', 'f_00129', 'f_00189', 'f_00169', 'f_00097']\n"
     ]
    },
    {
     "name": "stderr",
     "output_type": "stream",
     "text": [
      "Epoch:   0%|                                                                                     | 0/20 [00:00<?, ?it/s]"
     ]
    },
    {
     "name": "stdout",
     "output_type": "stream",
     "text": [
      "Group 0\n",
      "At round 34 accuracy: 0.6\n",
      "At round 34 training accuracy: 0.6068197633959638\n",
      "At round 34 training loss: 1.163382258776915\n",
      "Group 1\n",
      "At round 34 accuracy: 0.6228668941979523\n",
      "At round 34 training accuracy: 0.6148538961038961\n",
      "At round 34 training loss: 1.2949493062476833\n",
      "Group 2\n",
      "At round 34 accuracy: 0.7587548638132295\n",
      "At round 34 training accuracy: 0.7695509309967141\n",
      "At round 34 training loss: 0.7711348219547188\n",
      "Group 3\n",
      "At round 34 accuracy: 0.4124293785310734\n",
      "At round 34 training accuracy: 0.40170068027210887\n",
      "At round 34 training loss: 1.593878862403688\n",
      "Group 4\n",
      "At round 34 accuracy: 0.6295081967213115\n",
      "At round 34 training accuracy: 0.5848686789494316\n",
      "At round 34 training loss: 1.3020323610735707\n",
      "At round 34 mean test accuracy: 0.6195426195426196 mean train accuracy: 0.6143353023567383\n",
      "The groups difference are: [0.         1.58380406 1.72194063 1.16932623 0.77069365]\n",
      "Begin group  1 training\n"
     ]
    },
    {
     "name": "stderr",
     "output_type": "stream",
     "text": [
      "Epoch:  25%|███████████████████▎                                                         | 5/20 [00:00<00:00, 47.45it/s]"
     ]
    },
    {
     "name": "stdout",
     "output_type": "stream",
     "text": [
      "Begin group  3 training\n"
     ]
    },
    {
     "name": "stderr",
     "output_type": "stream",
     "text": [
      "Epoch:  20%|███████████████▍                                                             | 4/20 [00:00<00:00, 32.79it/s]"
     ]
    },
    {
     "name": "stdout",
     "output_type": "stream",
     "text": [
      "Begin group  4 training\n"
     ]
    },
    {
     "name": "stderr",
     "output_type": "stream",
     "text": [
      "                                                                                                                        \r"
     ]
    },
    {
     "name": "stdout",
     "output_type": "stream",
     "text": [
      "Group 0, clients ['f_00068', 'f_00028']\n",
      "Group 1, clients ['f_00142', 'f_00154', 'f_00164', 'f_00010', 'f_00074']\n",
      "Group 2, clients ['f_00102']\n",
      "Group 3, clients ['f_00136', 'f_00133', 'f_00130', 'f_00096', 'f_00003', 'f_00043', 'f_00156']\n",
      "Group 4, clients ['f_00077', 'f_00049', 'f_00127', 'f_00087', 'f_00179']\n"
     ]
    },
    {
     "name": "stderr",
     "output_type": "stream",
     "text": [
      "Epoch:  40%|██████████████████████████████▊                                              | 8/20 [00:00<00:00, 70.32it/s]"
     ]
    },
    {
     "name": "stdout",
     "output_type": "stream",
     "text": [
      "Group 0\n",
      "At round 35 accuracy: 0.6\n",
      "At round 35 training accuracy: 0.6102992345163535\n",
      "At round 35 training loss: 1.1308217906420979\n",
      "Group 1\n",
      "At round 35 accuracy: 0.6399317406143344\n",
      "At round 35 training accuracy: 0.65625\n",
      "At round 35 training loss: 1.2437521004807446\n",
      "Group 2\n",
      "At round 35 accuracy: 0.7412451361867705\n",
      "At round 35 training accuracy: 0.763855421686747\n",
      "At round 35 training loss: 0.7647388610821564\n",
      "Group 3\n",
      "At round 35 accuracy: 0.6073446327683616\n",
      "At round 35 training accuracy: 0.6309523809523809\n",
      "At round 35 training loss: 1.2916482576099382\n",
      "Group 4\n",
      "At round 35 accuracy: 0.5770491803278689\n",
      "At round 35 training accuracy: 0.5425323402587221\n",
      "At round 35 training loss: 0.9727396279725314\n",
      "At round 35 mean test accuracy: 0.6476091476091476 mean train accuracy: 0.6599476280372694\n",
      "The groups difference are: [0.         1.5131769  1.61284911 1.1300131  0.72252641]\n",
      "Begin group  0 training\n"
     ]
    },
    {
     "name": "stderr",
     "output_type": "stream",
     "text": [
      "Epoch:   0%|                                                                                     | 0/20 [00:00<?, ?it/s]"
     ]
    },
    {
     "name": "stdout",
     "output_type": "stream",
     "text": [
      "Begin group  1 training\n"
     ]
    },
    {
     "name": "stderr",
     "output_type": "stream",
     "text": [
      "Epoch:  25%|███████████████████▎                                                         | 5/20 [00:00<00:00, 47.25it/s]"
     ]
    },
    {
     "name": "stdout",
     "output_type": "stream",
     "text": [
      "Begin group  2 training\n"
     ]
    },
    {
     "name": "stderr",
     "output_type": "stream",
     "text": [
      "Epoch:  35%|██████████████████████████▉                                                  | 7/20 [00:00<00:00, 64.78it/s]"
     ]
    },
    {
     "name": "stdout",
     "output_type": "stream",
     "text": [
      "Begin group  3 training\n"
     ]
    },
    {
     "name": "stderr",
     "output_type": "stream",
     "text": [
      "Epoch:   0%|                                                                                     | 0/20 [00:00<?, ?it/s]"
     ]
    },
    {
     "name": "stdout",
     "output_type": "stream",
     "text": [
      "Begin group  4 training\n"
     ]
    },
    {
     "name": "stderr",
     "output_type": "stream",
     "text": [
      "                                                                                                                        \r"
     ]
    },
    {
     "name": "stdout",
     "output_type": "stream",
     "text": [
      "Group 0, clients ['f_00198']\n",
      "Group 1, clients ['f_00092', 'f_00184', 'f_00085', 'f_00143', 'f_00014', 'f_00010', 'f_00075', 'f_00074']\n",
      "Group 2, clients ['f_00052', 'f_00053']\n",
      "Group 3, clients ['f_00106', 'f_00155', 'f_00061', 'f_00156', 'f_00056']\n",
      "Group 4, clients ['f_00097', 'f_00077', 'f_00058', 'f_00139']\n"
     ]
    },
    {
     "name": "stderr",
     "output_type": "stream",
     "text": [
      "Epoch:   0%|                                                                                     | 0/20 [00:00<?, ?it/s]"
     ]
    },
    {
     "name": "stdout",
     "output_type": "stream",
     "text": [
      "Group 0\n",
      "At round 36 accuracy: 0.7393939393939394\n",
      "At round 36 training accuracy: 0.7696590118302018\n",
      "At round 36 training loss: 0.9465483570563437\n",
      "Group 1\n",
      "At round 36 accuracy: 0.5546075085324232\n",
      "At round 36 training accuracy: 0.5405844155844156\n",
      "At round 36 training loss: 1.5338461237185477\n",
      "Group 2\n",
      "At round 36 accuracy: 0.7607003891050583\n",
      "At round 36 training accuracy: 0.767579408543264\n",
      "At round 36 training loss: 0.8533436481231927\n",
      "Group 3\n",
      "At round 36 accuracy: 0.384180790960452\n",
      "At round 36 training accuracy: 0.39693877551020407\n",
      "At round 36 training loss: 2.3507925460938695\n",
      "Group 4\n",
      "At round 36 accuracy: 0.5967213114754099\n",
      "At round 36 training accuracy: 0.6056448451587613\n",
      "At round 36 training loss: 1.3573200443780735\n",
      "At round 36 mean test accuracy: 0.6008316008316008 mean train accuracy: 0.6081237439863589\n",
      "The groups difference are: [0.         1.5384867  1.63591672 1.15020414 0.71919723]\n",
      "Begin group  0 training\n",
      "Begin group  1 training\n"
     ]
    },
    {
     "name": "stderr",
     "output_type": "stream",
     "text": [
      "Epoch:  25%|███████████████████▎                                                         | 5/20 [00:00<00:00, 49.85it/s]"
     ]
    },
    {
     "name": "stdout",
     "output_type": "stream",
     "text": [
      "Begin group  2 training\n"
     ]
    },
    {
     "name": "stderr",
     "output_type": "stream",
     "text": [
      "Epoch:   0%|                                                                                     | 0/20 [00:00<?, ?it/s]"
     ]
    },
    {
     "name": "stdout",
     "output_type": "stream",
     "text": [
      "Begin group  3 training\n"
     ]
    },
    {
     "name": "stderr",
     "output_type": "stream",
     "text": [
      "Epoch:   0%|                                                                                     | 0/20 [00:00<?, ?it/s]"
     ]
    },
    {
     "name": "stdout",
     "output_type": "stream",
     "text": [
      "Begin group  4 training\n"
     ]
    },
    {
     "name": "stderr",
     "output_type": "stream",
     "text": [
      "                                                                                                                        \r"
     ]
    },
    {
     "name": "stdout",
     "output_type": "stream",
     "text": [
      "Group 0 is empty.\n",
      "Group 1, clients ['f_00183', 'f_00070', 'f_00125', 'f_00004', 'f_00153', 'f_00132', 'f_00195', 'f_00174', 'f_00081']\n",
      "Group 2, clients ['f_00121', 'f_00002', 'f_00102']\n",
      "Group 3, clients ['f_00150', 'f_00003', 'f_00114', 'f_00146', 'f_00020']\n",
      "Group 4, clients ['f_00187', 'f_00069', 'f_00078']\n"
     ]
    },
    {
     "name": "stderr",
     "output_type": "stream",
     "text": [
      "Epoch:   0%|                                                                                     | 0/20 [00:00<?, ?it/s]"
     ]
    },
    {
     "name": "stdout",
     "output_type": "stream",
     "text": [
      "Group 0\n",
      "At round 37 accuracy: 0.7878787878787878\n",
      "At round 37 training accuracy: 0.7592205984690327\n",
      "At round 37 training loss: 0.9153356266959143\n",
      "Group 1\n",
      "At round 37 accuracy: 0.5460750853242321\n",
      "At round 37 training accuracy: 0.5464691558441559\n",
      "At round 37 training loss: 1.3536542259374416\n",
      "Group 2\n",
      "At round 37 accuracy: 0.6498054474708171\n",
      "At round 37 training accuracy: 0.6525739320920044\n",
      "At round 37 training loss: 0.8628739796358549\n",
      "Group 3\n",
      "At round 37 accuracy: 0.3757062146892655\n",
      "At round 37 training accuracy: 0.3921768707482993\n",
      "At round 37 training loss: 2.653379799962855\n",
      "Group 4\n",
      "At round 37 accuracy: 0.5901639344262295\n",
      "At round 37 training accuracy: 0.5582124656997256\n",
      "At round 37 training loss: 1.1342123308540653\n",
      "At round 37 mean test accuracy: 0.5701663201663202 mean train accuracy: 0.5687838743072895\n",
      "The groups difference are: [0.         1.51068472 1.64334738 1.13390891 0.691923  ]\n",
      "Begin group  1 training\n"
     ]
    },
    {
     "name": "stderr",
     "output_type": "stream",
     "text": [
      "Epoch:  25%|███████████████████▎                                                         | 5/20 [00:00<00:00, 45.75it/s]"
     ]
    },
    {
     "name": "stdout",
     "output_type": "stream",
     "text": [
      "Begin group  2 training\n"
     ]
    },
    {
     "name": "stderr",
     "output_type": "stream",
     "text": [
      "Epoch:   0%|                                                                                     | 0/20 [00:00<?, ?it/s]"
     ]
    },
    {
     "name": "stdout",
     "output_type": "stream",
     "text": [
      "Begin group  3 training\n"
     ]
    },
    {
     "name": "stderr",
     "output_type": "stream",
     "text": [
      "Epoch:   0%|                                                                                     | 0/20 [00:00<?, ?it/s]"
     ]
    },
    {
     "name": "stdout",
     "output_type": "stream",
     "text": [
      "Begin group  4 training\n"
     ]
    },
    {
     "name": "stderr",
     "output_type": "stream",
     "text": [
      "                                                                                                                        \r"
     ]
    },
    {
     "name": "stdout",
     "output_type": "stream",
     "text": [
      "Group 0 is empty.\n",
      "Group 1, clients ['f_00124', 'f_00084', 'f_00174', 'f_00191', 'f_00113', 'f_00181', 'f_00011']\n",
      "Group 2, clients ['f_00152', 'f_00172']\n",
      "Group 3, clients ['f_00041', 'f_00170', 'f_00120', 'f_00176', 'f_00136', 'f_00186']\n",
      "Group 4, clients ['f_00137', 'f_00058', 'f_00197', 'f_00049', 'f_00117']\n"
     ]
    },
    {
     "name": "stderr",
     "output_type": "stream",
     "text": [
      "Epoch:  30%|███████████████████████                                                      | 6/20 [00:00<00:00, 56.46it/s]"
     ]
    },
    {
     "name": "stdout",
     "output_type": "stream",
     "text": [
      "Group 0\n",
      "At round 38 accuracy: 0.7757575757575758\n",
      "At round 38 training accuracy: 0.7620041753653445\n",
      "At round 38 training loss: 0.9014617660515161\n",
      "Group 1\n",
      "At round 38 accuracy: 0.6006825938566553\n",
      "At round 38 training accuracy: 0.5917207792207793\n",
      "At round 38 training loss: 1.3439706317935285\n",
      "Group 2\n",
      "At round 38 accuracy: 0.6167315175097277\n",
      "At round 38 training accuracy: 0.6341730558598029\n",
      "At round 38 training loss: 0.9134170754324045\n",
      "Group 3\n",
      "At round 38 accuracy: 0.480225988700565\n",
      "At round 38 training accuracy: 0.47278911564625853\n",
      "At round 38 training loss: 1.4217751856563854\n",
      "Group 4\n",
      "At round 38 accuracy: 0.6\n",
      "At round 38 training accuracy: 0.5495883967071736\n",
      "At round 38 training loss: 1.1231286178752984\n",
      "At round 38 mean test accuracy: 0.5977130977130977 mean train accuracy: 0.5905852262346994\n",
      "The groups difference are: [0.         1.44648576 1.60120601 1.06841038 0.66867357]\n",
      "Begin group  1 training\n"
     ]
    },
    {
     "name": "stderr",
     "output_type": "stream",
     "text": [
      "Epoch:  30%|███████████████████████                                                      | 6/20 [00:00<00:00, 54.75it/s]"
     ]
    },
    {
     "name": "stdout",
     "output_type": "stream",
     "text": [
      "Begin group  2 training\n"
     ]
    },
    {
     "name": "stderr",
     "output_type": "stream",
     "text": [
      "Epoch:   0%|                                                                                     | 0/20 [00:00<?, ?it/s]"
     ]
    },
    {
     "name": "stdout",
     "output_type": "stream",
     "text": [
      "Begin group  3 training\n"
     ]
    },
    {
     "name": "stderr",
     "output_type": "stream",
     "text": [
      "Epoch:   0%|                                                                                     | 0/20 [00:00<?, ?it/s]"
     ]
    },
    {
     "name": "stdout",
     "output_type": "stream",
     "text": [
      "Begin group  4 training\n"
     ]
    },
    {
     "name": "stderr",
     "output_type": "stream",
     "text": [
      "                                                                                                                        \r"
     ]
    },
    {
     "name": "stdout",
     "output_type": "stream",
     "text": [
      "Group 0, clients ['f_00108']\n",
      "Group 1, clients ['f_00125', 'f_00173', 'f_00191', 'f_00192', 'f_00074', 'f_00044', 'f_00005', 'f_00083', 'f_00135']\n",
      "Group 2, clients ['f_00002', 'f_00023']\n",
      "Group 3, clients ['f_00128', 'f_00020', 'f_00095', 'f_00006', 'f_00160']\n",
      "Group 4, clients ['f_00117', 'f_00019', 'f_00107']\n"
     ]
    },
    {
     "name": "stderr",
     "output_type": "stream",
     "text": [
      "Epoch:  35%|██████████████████████████▉                                                  | 7/20 [00:00<00:00, 69.87it/s]"
     ]
    },
    {
     "name": "stdout",
     "output_type": "stream",
     "text": [
      "Group 0\n",
      "At round 39 accuracy: 0.7757575757575758\n",
      "At round 39 training accuracy: 0.7508698677800975\n",
      "At round 39 training loss: 0.8811819917349327\n",
      "Group 1\n",
      "At round 39 accuracy: 0.6655290102389079\n",
      "At round 39 training accuracy: 0.6759334415584416\n",
      "At round 39 training loss: 1.2896733434217704\n",
      "Group 2\n",
      "At round 39 accuracy: 0.7782101167315175\n",
      "At round 39 training accuracy: 0.7958378970427163\n",
      "At round 39 training loss: 0.8553111002061349\n",
      "Group 3\n",
      "At round 39 accuracy: 0.6384180790960452\n",
      "At round 39 training accuracy: 0.6241496598639455\n",
      "At round 39 training loss: 1.2452668293398255\n",
      "Group 4\n",
      "At round 39 accuracy: 0.5639344262295082\n",
      "At round 39 training accuracy: 0.5715405723245786\n",
      "At round 39 training loss: 1.3310520718000487\n",
      "At round 39 mean test accuracy: 0.683991683991684 mean train accuracy: 0.6903355459472627\n",
      "The groups difference are: [0.         1.41359311 1.56998735 1.03482403 0.64879459]\n",
      "Begin group  0 training\n"
     ]
    },
    {
     "name": "stderr",
     "output_type": "stream",
     "text": [
      "Epoch:   0%|                                                                                     | 0/20 [00:00<?, ?it/s]"
     ]
    },
    {
     "name": "stdout",
     "output_type": "stream",
     "text": [
      "Begin group  1 training\n"
     ]
    },
    {
     "name": "stderr",
     "output_type": "stream",
     "text": [
      "Epoch:  40%|██████████████████████████████▊                                              | 8/20 [00:00<00:00, 76.63it/s]"
     ]
    },
    {
     "name": "stdout",
     "output_type": "stream",
     "text": [
      "Begin group  2 training\n"
     ]
    },
    {
     "name": "stderr",
     "output_type": "stream",
     "text": [
      "Epoch:   0%|                                                                                     | 0/20 [00:00<?, ?it/s]"
     ]
    },
    {
     "name": "stdout",
     "output_type": "stream",
     "text": [
      "Begin group  3 training\n"
     ]
    },
    {
     "name": "stderr",
     "output_type": "stream",
     "text": [
      "Epoch:   0%|                                                                                     | 0/20 [00:00<?, ?it/s]"
     ]
    },
    {
     "name": "stdout",
     "output_type": "stream",
     "text": [
      "Begin group  4 training\n"
     ]
    },
    {
     "name": "stderr",
     "output_type": "stream",
     "text": [
      "                                                                                                                        \r"
     ]
    },
    {
     "name": "stdout",
     "output_type": "stream",
     "text": [
      "Group 0 is empty.\n",
      "Group 1, clients ['f_00005', 'f_00035', 'f_00183', 'f_00054', 'f_00134', 'f_00191', 'f_00142', 'f_00171', 'f_00132']\n",
      "Group 2, clients ['f_00023']\n",
      "Group 3, clients ['f_00096', 'f_00116', 'f_00160', 'f_00090', 'f_00026', 'f_00140']\n",
      "Group 4, clients ['f_00139', 'f_00177', 'f_00089', 'f_00037']\n"
     ]
    },
    {
     "name": "stderr",
     "output_type": "stream",
     "text": [
      "Epoch:  20%|███████████████▍                                                             | 4/20 [00:00<00:00, 33.69it/s]"
     ]
    },
    {
     "name": "stdout",
     "output_type": "stream",
     "text": [
      "Group 0\n",
      "At round 40 accuracy: 0.7696969696969697\n",
      "At round 40 training accuracy: 0.7717466945024356\n",
      "At round 40 training loss: 0.9417108480060938\n",
      "Group 1\n",
      "At round 40 accuracy: 0.45051194539249145\n",
      "At round 40 training accuracy: 0.4628652597402597\n",
      "At round 40 training loss: 1.4805323534052481\n",
      "Group 2\n",
      "At round 40 accuracy: 0.6536964980544747\n",
      "At round 40 training accuracy: 0.6670317634173056\n",
      "At round 40 training loss: 0.8104767524791312\n",
      "Group 3\n",
      "At round 40 accuracy: 0.4745762711864407\n",
      "At round 40 training accuracy: 0.4598639455782313\n",
      "At round 40 training loss: 1.885957665254875\n",
      "Group 4\n",
      "At round 40 accuracy: 0.5967213114754099\n",
      "At round 40 training accuracy: 0.5974127793022345\n",
      "At round 40 training loss: 1.1023361681723585\n",
      "At round 40 mean test accuracy: 0.5597713097713097 mean train accuracy: 0.5670178430059071\n",
      "The groups difference are: [0.         1.43803736 1.57642393 1.08524708 0.66619191]\n",
      "Begin group  1 training\n"
     ]
    },
    {
     "name": "stderr",
     "output_type": "stream",
     "text": [
      "Epoch:  35%|██████████████████████████▉                                                  | 7/20 [00:00<00:00, 67.58it/s]"
     ]
    },
    {
     "name": "stdout",
     "output_type": "stream",
     "text": [
      "Begin group  2 training\n"
     ]
    },
    {
     "name": "stderr",
     "output_type": "stream",
     "text": [
      "Epoch:  45%|██████████████████████████████████▋                                          | 9/20 [00:00<00:00, 87.49it/s]"
     ]
    },
    {
     "name": "stdout",
     "output_type": "stream",
     "text": [
      "Begin group  3 training\n"
     ]
    },
    {
     "name": "stderr",
     "output_type": "stream",
     "text": [
      "Epoch:  30%|███████████████████████                                                      | 6/20 [00:00<00:00, 58.20it/s]"
     ]
    },
    {
     "name": "stdout",
     "output_type": "stream",
     "text": [
      "Begin group  4 training\n"
     ]
    },
    {
     "name": "stderr",
     "output_type": "stream",
     "text": [
      "                                                                                                                        \r"
     ]
    },
    {
     "name": "stdout",
     "output_type": "stream",
     "text": [
      "Group 0, clients ['f_00068', 'f_00118', 'f_00038']\n",
      "Group 1, clients ['f_00063', 'f_00091', 'f_00051', 'f_00014', 'f_00165', 'f_00194']\n",
      "Group 2, clients ['f_00152', 'f_00172']\n",
      "Group 3, clients ['f_00096', 'f_00196', 'f_00030', 'f_00130', 'f_00090']\n",
      "Group 4, clients ['f_00168', 'f_00009', 'f_00029', 'f_00137']\n"
     ]
    },
    {
     "name": "stderr",
     "output_type": "stream",
     "text": [
      "Epoch:  40%|██████████████████████████████▊                                              | 8/20 [00:00<00:00, 77.07it/s]"
     ]
    },
    {
     "name": "stdout",
     "output_type": "stream",
     "text": [
      "Group 0\n",
      "At round 41 accuracy: 0.7575757575757576\n",
      "At round 41 training accuracy: 0.7613082811412665\n",
      "At round 41 training loss: 0.9162764167860306\n",
      "Group 1\n",
      "At round 41 accuracy: 0.5358361774744027\n",
      "At round 41 training accuracy: 0.5438311688311688\n",
      "At round 41 training loss: 1.352068298871254\n",
      "Group 2\n",
      "At round 41 accuracy: 0.7101167315175098\n",
      "At round 41 training accuracy: 0.7007667031763417\n",
      "At round 41 training loss: 1.294697561210505\n",
      "Group 3\n",
      "At round 41 accuracy: 0.4745762711864407\n",
      "At round 41 training accuracy: 0.4629251700680272\n",
      "At round 41 training loss: 1.7645597739081804\n",
      "Group 4\n",
      "At round 41 accuracy: 0.5967213114754099\n",
      "At round 41 training accuracy: 0.6036848294786358\n",
      "At round 41 training loss: 1.352888076411\n",
      "At round 41 mean test accuracy: 0.5997920997920998 mean train accuracy: 0.601303209305158\n",
      "The groups difference are: [0.         1.40599616 1.54574462 1.07763412 0.65125236]\n",
      "Begin group  0 training\n"
     ]
    },
    {
     "name": "stderr",
     "output_type": "stream",
     "text": [
      "Epoch:   0%|                                                                                     | 0/20 [00:00<?, ?it/s]"
     ]
    },
    {
     "name": "stdout",
     "output_type": "stream",
     "text": [
      "Begin group  1 training\n"
     ]
    },
    {
     "name": "stderr",
     "output_type": "stream",
     "text": [
      "Epoch:  30%|███████████████████████                                                      | 6/20 [00:00<00:00, 53.58it/s]"
     ]
    },
    {
     "name": "stdout",
     "output_type": "stream",
     "text": [
      "Begin group  2 training\n"
     ]
    },
    {
     "name": "stderr",
     "output_type": "stream",
     "text": [
      "Epoch:  45%|██████████████████████████████████▋                                          | 9/20 [00:00<00:00, 86.41it/s]"
     ]
    },
    {
     "name": "stdout",
     "output_type": "stream",
     "text": [
      "Begin group  3 training\n"
     ]
    },
    {
     "name": "stderr",
     "output_type": "stream",
     "text": [
      "Epoch:   0%|                                                                                     | 0/20 [00:00<?, ?it/s]"
     ]
    },
    {
     "name": "stdout",
     "output_type": "stream",
     "text": [
      "Begin group  4 training\n"
     ]
    },
    {
     "name": "stderr",
     "output_type": "stream",
     "text": [
      "                                                                                                                        \r"
     ]
    },
    {
     "name": "stdout",
     "output_type": "stream",
     "text": [
      "Group 0, clients ['f_00158', 'f_00068']\n",
      "Group 1, clients ['f_00015', 'f_00115', 'f_00174', 'f_00045', 'f_00165']\n",
      "Group 2, clients ['f_00152', 'f_00082']\n",
      "Group 3, clients ['f_00095', 'f_00030', 'f_00128', 'f_00170', 'f_00066', 'f_00182', 'f_00186', 'f_00056']\n",
      "Group 4, clients ['f_00069', 'f_00078', 'f_00177']\n"
     ]
    },
    {
     "name": "stderr",
     "output_type": "stream",
     "text": [
      "Epoch:  55%|█████████████████████████████████████████▊                                  | 11/20 [00:00<00:00, 99.80it/s]"
     ]
    },
    {
     "name": "stdout",
     "output_type": "stream",
     "text": [
      "Group 0\n",
      "At round 42 accuracy: 0.7090909090909091\n",
      "At round 42 training accuracy: 0.6945024356297843\n",
      "At round 42 training loss: 1.0155695503008557\n",
      "Group 1\n",
      "At round 42 accuracy: 0.6143344709897611\n",
      "At round 42 training accuracy: 0.6164772727272727\n",
      "At round 42 training loss: 1.2572889664004763\n",
      "Group 2\n",
      "At round 42 accuracy: 0.791828793774319\n",
      "At round 42 training accuracy: 0.8094194961664841\n",
      "At round 42 training loss: 0.7355505294110402\n",
      "Group 3\n",
      "At round 42 accuracy: 0.6101694915254238\n",
      "At round 42 training accuracy: 0.6129251700680272\n",
      "At round 42 training loss: 1.267657629344739\n",
      "Group 4\n",
      "At round 42 accuracy: 0.6098360655737705\n",
      "At round 42 training accuracy: 0.5597804782438259\n",
      "At round 42 training loss: 0.9506539039544525\n",
      "At round 42 mean test accuracy: 0.6683991683991684 mean train accuracy: 0.667498934291456\n",
      "The groups difference are: [0.         1.43138426 1.56637326 1.09344163 0.65958358]\n",
      "Begin group  0 training\n"
     ]
    },
    {
     "name": "stderr",
     "output_type": "stream",
     "text": [
      "Epoch:  45%|██████████████████████████████████▋                                          | 9/20 [00:00<00:00, 89.05it/s]"
     ]
    },
    {
     "name": "stdout",
     "output_type": "stream",
     "text": [
      "Begin group  1 training\n"
     ]
    },
    {
     "name": "stderr",
     "output_type": "stream",
     "text": [
      "Epoch:  35%|██████████████████████████▉                                                  | 7/20 [00:00<00:00, 60.28it/s]"
     ]
    },
    {
     "name": "stdout",
     "output_type": "stream",
     "text": [
      "Begin group  2 training\n"
     ]
    },
    {
     "name": "stderr",
     "output_type": "stream",
     "text": [
      "Epoch:   0%|                                                                                     | 0/20 [00:00<?, ?it/s]"
     ]
    },
    {
     "name": "stdout",
     "output_type": "stream",
     "text": [
      "Begin group  3 training\n"
     ]
    },
    {
     "name": "stderr",
     "output_type": "stream",
     "text": [
      "Epoch:   0%|                                                                                     | 0/20 [00:00<?, ?it/s]"
     ]
    },
    {
     "name": "stdout",
     "output_type": "stream",
     "text": [
      "Begin group  4 training\n"
     ]
    },
    {
     "name": "stderr",
     "output_type": "stream",
     "text": [
      "                                                                                                                        \r"
     ]
    },
    {
     "name": "stdout",
     "output_type": "stream",
     "text": [
      "Group 0, clients ['f_00067', 'f_00038']\n",
      "Group 1, clients ['f_00080', 'f_00183', 'f_00010', 'f_00065', 'f_00195', 'f_00173']\n",
      "Group 2, clients ['f_00062', 'f_00093']\n",
      "Group 3, clients ['f_00056', 'f_00128', 'f_00133', 'f_00146']\n",
      "Group 4, clients ['f_00037', 'f_00079', 'f_00188', 'f_00017', 'f_00149', 'f_00029']\n"
     ]
    },
    {
     "name": "stderr",
     "output_type": "stream",
     "text": [
      "Epoch:  15%|███████████▌                                                                 | 3/20 [00:00<00:00, 29.65it/s]"
     ]
    },
    {
     "name": "stdout",
     "output_type": "stream",
     "text": [
      "Group 0\n",
      "At round 43 accuracy: 0.7818181818181819\n",
      "At round 43 training accuracy: 0.7759220598469033\n",
      "At round 43 training loss: 0.9569309778983343\n",
      "Group 1\n",
      "At round 43 accuracy: 0.5068259385665529\n",
      "At round 43 training accuracy: 0.5099431818181818\n",
      "At round 43 training loss: 2.136897336866997\n",
      "Group 2\n",
      "At round 43 accuracy: 0.7723735408560312\n",
      "At round 43 training accuracy: 0.7903614457831325\n",
      "At round 43 training loss: 0.8446831231049353\n",
      "Group 3\n",
      "At round 43 accuracy: 0.384180790960452\n",
      "At round 43 training accuracy: 0.39659863945578233\n",
      "At round 43 training loss: 1.6072697316201365\n",
      "Group 4\n",
      "At round 43 accuracy: 0.6819672131147541\n",
      "At round 43 training accuracy: 0.6468051744413955\n",
      "At round 43 training loss: 0.9644427206272334\n",
      "At round 43 mean test accuracy: 0.6065488565488566 mean train accuracy: 0.6121429876377809\n",
      "The groups difference are: [0.         1.44485626 1.5709134  1.09695102 0.66956807]\n",
      "Begin group  0 training\n"
     ]
    },
    {
     "name": "stderr",
     "output_type": "stream",
     "text": [
      "Epoch:  30%|███████████████████████                                                      | 6/20 [00:00<00:00, 57.05it/s]"
     ]
    },
    {
     "name": "stdout",
     "output_type": "stream",
     "text": [
      "Begin group  1 training\n"
     ]
    },
    {
     "name": "stderr",
     "output_type": "stream",
     "text": [
      "Epoch:   0%|                                                                                     | 0/20 [00:00<?, ?it/s]"
     ]
    },
    {
     "name": "stdout",
     "output_type": "stream",
     "text": [
      "Begin group  2 training\n"
     ]
    },
    {
     "name": "stderr",
     "output_type": "stream",
     "text": [
      "Epoch:   0%|                                                                                     | 0/20 [00:00<?, ?it/s]"
     ]
    },
    {
     "name": "stdout",
     "output_type": "stream",
     "text": [
      "Begin group  3 training\n"
     ]
    },
    {
     "name": "stderr",
     "output_type": "stream",
     "text": [
      "Epoch:  35%|██████████████████████████▉                                                  | 7/20 [00:00<00:00, 60.37it/s]"
     ]
    },
    {
     "name": "stdout",
     "output_type": "stream",
     "text": [
      "Begin group  4 training\n"
     ]
    },
    {
     "name": "stderr",
     "output_type": "stream",
     "text": [
      "                                                                                                                        \r"
     ]
    },
    {
     "name": "stdout",
     "output_type": "stream",
     "text": [
      "Group 0, clients ['f_00028', 'f_00068']\n",
      "Group 1, clients ['f_00135', 'f_00054', 'f_00124', 'f_00111', 'f_00064', 'f_00035', 'f_00045']\n",
      "Group 2, clients ['f_00073', 'f_00023']\n",
      "Group 3, clients ['f_00003', 'f_00114', 'f_00180', 'f_00182']\n",
      "Group 4, clients ['f_00157', 'f_00079', 'f_00009', 'f_00089', 'f_00047']\n"
     ]
    },
    {
     "name": "stderr",
     "output_type": "stream",
     "text": [
      "Epoch:   0%|                                                                                     | 0/20 [00:00<?, ?it/s]"
     ]
    },
    {
     "name": "stdout",
     "output_type": "stream",
     "text": [
      "Group 0\n",
      "At round 44 accuracy: 0.6\n",
      "At round 44 training accuracy: 0.6332637439109255\n",
      "At round 44 training loss: 1.033381624485605\n",
      "Group 1\n",
      "At round 44 accuracy: 0.3924914675767918\n",
      "At round 44 training accuracy: 0.3898133116883117\n",
      "At round 44 training loss: 1.6134050372359041\n",
      "Group 2\n",
      "At round 44 accuracy: 0.7821011673151751\n",
      "At round 44 training accuracy: 0.7848849945235488\n",
      "At round 44 training loss: 0.8266267474287833\n",
      "Group 3\n",
      "At round 44 accuracy: 0.3615819209039548\n",
      "At round 44 training accuracy: 0.3836734693877551\n",
      "At round 44 training loss: 1.9433823458191488\n",
      "Group 4\n",
      "At round 44 accuracy: 0.6983606557377049\n",
      "At round 44 training accuracy: 0.6617012936103489\n",
      "At round 44 training loss: 0.8600996209564792\n",
      "At round 44 mean test accuracy: 0.5571725571725572 mean train accuracy: 0.5620851348882528\n",
      "The groups difference are: [0.         1.40115455 1.60009994 1.04086352 0.61262193]\n",
      "Begin group  0 training\n"
     ]
    },
    {
     "name": "stderr",
     "output_type": "stream",
     "text": [
      "Epoch:  35%|██████████████████████████▉                                                  | 7/20 [00:00<00:00, 65.59it/s]"
     ]
    },
    {
     "name": "stdout",
     "output_type": "stream",
     "text": [
      "Begin group  1 training\n"
     ]
    },
    {
     "name": "stderr",
     "output_type": "stream",
     "text": [
      "Epoch:  20%|███████████████▍                                                             | 4/20 [00:00<00:00, 36.71it/s]"
     ]
    },
    {
     "name": "stdout",
     "output_type": "stream",
     "text": [
      "Begin group  2 training\n"
     ]
    },
    {
     "name": "stderr",
     "output_type": "stream",
     "text": [
      "Epoch:   0%|                                                                                     | 0/20 [00:00<?, ?it/s]"
     ]
    },
    {
     "name": "stdout",
     "output_type": "stream",
     "text": [
      "Begin group  3 training\n"
     ]
    },
    {
     "name": "stderr",
     "output_type": "stream",
     "text": [
      "Epoch:   0%|                                                                                     | 0/20 [00:00<?, ?it/s]"
     ]
    },
    {
     "name": "stdout",
     "output_type": "stream",
     "text": [
      "Begin group  4 training\n"
     ]
    },
    {
     "name": "stderr",
     "output_type": "stream",
     "text": [
      "                                                                                                                        \r"
     ]
    },
    {
     "name": "stdout",
     "output_type": "stream",
     "text": [
      "Group 0 is empty.\n",
      "Group 1, clients ['f_00045', 'f_00025', 'f_00013', 'f_00153', 'f_00080', 'f_00044', 'f_00134', 'f_00173', 'f_00112']\n",
      "Group 2, clients ['f_00072', 'f_00062']\n",
      "Group 3, clients ['f_00040', 'f_00003', 'f_00033', 'f_00182', 'f_00190']\n",
      "Group 4, clients ['f_00058', 'f_00149', 'f_00129', 'f_00069']\n"
     ]
    },
    {
     "name": "stderr",
     "output_type": "stream",
     "text": [
      "Epoch:   0%|                                                                                     | 0/20 [00:00<?, ?it/s]"
     ]
    },
    {
     "name": "stdout",
     "output_type": "stream",
     "text": [
      "Group 0\n",
      "At round 45 accuracy: 0.7575757575757576\n",
      "At round 45 training accuracy: 0.7313848295059151\n",
      "At round 45 training loss: 0.7727973265994649\n",
      "Group 1\n",
      "At round 45 accuracy: 0.41638225255972694\n",
      "At round 45 training accuracy: 0.42491883116883117\n",
      "At round 45 training loss: 1.668573064451384\n",
      "Group 2\n",
      "At round 45 accuracy: 0.7198443579766537\n",
      "At round 45 training accuracy: 0.695290251916758\n",
      "At round 45 training loss: 1.20212278415705\n",
      "Group 3\n",
      "At round 45 accuracy: 0.4463276836158192\n",
      "At round 45 training accuracy: 0.4527210884353742\n",
      "At round 45 training loss: 1.9509885820908612\n",
      "Group 4\n",
      "At round 45 accuracy: 0.5868852459016394\n",
      "At round 45 training accuracy: 0.5437083496667974\n",
      "At round 45 training loss: 0.9921817558272499\n",
      "At round 45 mean test accuracy: 0.5592515592515592 mean train accuracy: 0.5503318920893977\n",
      "The groups difference are: [0.         1.42281691 1.60741743 1.0975801  0.62925945]\n",
      "Begin group  1 training\n"
     ]
    },
    {
     "name": "stderr",
     "output_type": "stream",
     "text": [
      "Epoch:   0%|                                                                                     | 0/20 [00:00<?, ?it/s]"
     ]
    },
    {
     "name": "stdout",
     "output_type": "stream",
     "text": [
      "Begin group  2 training\n"
     ]
    },
    {
     "name": "stderr",
     "output_type": "stream",
     "text": [
      "Epoch:   0%|                                                                                     | 0/20 [00:00<?, ?it/s]"
     ]
    },
    {
     "name": "stdout",
     "output_type": "stream",
     "text": [
      "Begin group  3 training\n"
     ]
    },
    {
     "name": "stderr",
     "output_type": "stream",
     "text": [
      "Epoch:   0%|                                                                                     | 0/20 [00:00<?, ?it/s]"
     ]
    },
    {
     "name": "stdout",
     "output_type": "stream",
     "text": [
      "Begin group  4 training\n"
     ]
    },
    {
     "name": "stderr",
     "output_type": "stream",
     "text": [
      "                                                                                                                        \r"
     ]
    },
    {
     "name": "stdout",
     "output_type": "stream",
     "text": [
      "Group 0, clients ['f_00138']\n",
      "Group 1, clients ['f_00004', 'f_00145', 'f_00083', 'f_00134', 'f_00111', 'f_00025', 'f_00051', 'f_00012', 'f_00113']\n",
      "Group 2, clients ['f_00123']\n",
      "Group 3, clients ['f_00090', 'f_00110', 'f_00151', 'f_00106']\n",
      "Group 4, clients ['f_00037', 'f_00017', 'f_00177', 'f_00008', 'f_00169']\n"
     ]
    },
    {
     "name": "stderr",
     "output_type": "stream",
     "text": [
      "Epoch:   0%|                                                                                     | 0/20 [00:00<?, ?it/s]"
     ]
    },
    {
     "name": "stdout",
     "output_type": "stream",
     "text": [
      "Group 0\n",
      "At round 46 accuracy: 0.7575757575757576\n",
      "At round 46 training accuracy: 0.7313848295059151\n",
      "At round 46 training loss: 0.7640795950352026\n",
      "Group 1\n",
      "At round 46 accuracy: 0.5563139931740614\n",
      "At round 46 training accuracy: 0.5797483766233766\n",
      "At round 46 training loss: 1.1722848562330201\n",
      "Group 2\n",
      "At round 46 accuracy: 0.8132295719844358\n",
      "At round 46 training accuracy: 0.808762322015334\n",
      "At round 46 training loss: 0.6939097126499063\n",
      "Group 3\n",
      "At round 46 accuracy: 0.4491525423728814\n",
      "At round 46 training accuracy: 0.4534013605442177\n",
      "At round 46 training loss: 2.2111662263975664\n",
      "Group 4\n",
      "At round 46 accuracy: 0.6491803278688525\n",
      "At round 46 training accuracy: 0.595844766758134\n",
      "At round 46 training loss: 1.6489372373748787\n",
      "At round 46 mean test accuracy: 0.6372141372141372 mean train accuracy: 0.6365629377017235\n",
      "The groups difference are: [0.         1.36418968 1.58367923 1.06287278 0.63675694]\n",
      "Begin group  0 training\n",
      "Begin group  1 training\n"
     ]
    },
    {
     "name": "stderr",
     "output_type": "stream",
     "text": [
      "Epoch:  20%|███████████████▍                                                             | 4/20 [00:00<00:00, 35.01it/s]"
     ]
    },
    {
     "name": "stdout",
     "output_type": "stream",
     "text": [
      "Begin group  2 training\n"
     ]
    },
    {
     "name": "stderr",
     "output_type": "stream",
     "text": [
      "Epoch:  30%|███████████████████████                                                      | 6/20 [00:00<00:00, 54.49it/s]"
     ]
    },
    {
     "name": "stdout",
     "output_type": "stream",
     "text": [
      "Begin group  3 training\n"
     ]
    },
    {
     "name": "stderr",
     "output_type": "stream",
     "text": [
      "Epoch:  35%|██████████████████████████▉                                                  | 7/20 [00:00<00:00, 60.67it/s]"
     ]
    },
    {
     "name": "stdout",
     "output_type": "stream",
     "text": [
      "Begin group  4 training\n"
     ]
    },
    {
     "name": "stderr",
     "output_type": "stream",
     "text": [
      "                                                                                                                        \r"
     ]
    },
    {
     "name": "stdout",
     "output_type": "stream",
     "text": [
      "Group 0, clients ['f_00138', 'f_00108']\n",
      "Group 1, clients ['f_00005', 'f_00091', 'f_00191', 'f_00094', 'f_00141', 'f_00154', 'f_00132', 'f_00025', 'f_00083']\n",
      "Group 2, clients ['f_00062']\n",
      "Group 3, clients ['f_00000', 'f_00036', 'f_00170', 'f_00020', 'f_00106', 'f_00016', 'f_00133']\n",
      "Group 4, clients ['f_00009']\n"
     ]
    },
    {
     "name": "stderr",
     "output_type": "stream",
     "text": [
      "Epoch:   0%|                                                                                     | 0/20 [00:00<?, ?it/s]"
     ]
    },
    {
     "name": "stdout",
     "output_type": "stream",
     "text": [
      "Group 0\n",
      "At round 47 accuracy: 0.7696969696969697\n",
      "At round 47 training accuracy: 0.756437021572721\n",
      "At round 47 training loss: 0.8144222651410618\n",
      "Group 1\n",
      "At round 47 accuracy: 0.5341296928327645\n",
      "At round 47 training accuracy: 0.5265827922077922\n",
      "At round 47 training loss: 1.2627186988444103\n",
      "Group 2\n",
      "At round 47 accuracy: 0.7023346303501945\n",
      "At round 47 training accuracy: 0.6950711938663746\n",
      "At round 47 training loss: 1.1763126665895636\n",
      "Group 3\n",
      "At round 47 accuracy: 0.4661016949152542\n",
      "At round 47 training accuracy: 0.4741496598639456\n",
      "At round 47 training loss: 2.4986153196315377\n",
      "Group 4\n",
      "At round 47 accuracy: 0.5672131147540984\n",
      "At round 47 training accuracy: 0.5829086632693061\n",
      "At round 47 training loss: 1.2845368962902874\n",
      "At round 47 mean test accuracy: 0.591995841995842 mean train accuracy: 0.5928993362158212\n",
      "The groups difference are: [0.         1.3492949  1.58331025 1.06830835 0.60847647]\n",
      "Begin group  0 training\n"
     ]
    },
    {
     "name": "stderr",
     "output_type": "stream",
     "text": [
      "Epoch:  20%|███████████████▍                                                             | 4/20 [00:00<00:00, 37.56it/s]"
     ]
    },
    {
     "name": "stdout",
     "output_type": "stream",
     "text": [
      "Begin group  1 training\n"
     ]
    },
    {
     "name": "stderr",
     "output_type": "stream",
     "text": [
      "Epoch:   0%|                                                                                     | 0/20 [00:00<?, ?it/s]"
     ]
    },
    {
     "name": "stdout",
     "output_type": "stream",
     "text": [
      "Begin group  2 training\n"
     ]
    },
    {
     "name": "stderr",
     "output_type": "stream",
     "text": [
      "Epoch:   0%|                                                                                     | 0/20 [00:00<?, ?it/s]"
     ]
    },
    {
     "name": "stdout",
     "output_type": "stream",
     "text": [
      "Begin group  3 training\n"
     ]
    },
    {
     "name": "stderr",
     "output_type": "stream",
     "text": [
      "                                                                                                                        \r"
     ]
    },
    {
     "name": "stdout",
     "output_type": "stream",
     "text": [
      "Begin group  4 training\n",
      "Group 0 is empty.\n",
      "Group 1, clients ['f_00085', 'f_00165', 'f_00132', 'f_00192', 'f_00071', 'f_00013', 'f_00173', 'f_00184', 'f_00183', 'f_00195']\n",
      "Group 2, clients ['f_00072', 'f_00163']\n",
      "Group 3, clients ['f_00031', 'f_00041', 'f_00026']\n",
      "Group 4, clients ['f_00078', 'f_00129', 'f_00197', 'f_00137', 'f_00008']\n"
     ]
    },
    {
     "name": "stderr",
     "output_type": "stream",
     "text": [
      "Epoch:   0%|                                                                                     | 0/20 [00:00<?, ?it/s]"
     ]
    },
    {
     "name": "stdout",
     "output_type": "stream",
     "text": [
      "Group 0\n",
      "At round 48 accuracy: 0.7757575757575758\n",
      "At round 48 training accuracy: 0.7647877522616562\n",
      "At round 48 training loss: 0.8654723003164463\n",
      "Group 1\n",
      "At round 48 accuracy: 0.5836177474402731\n",
      "At round 48 training accuracy: 0.5775162337662337\n",
      "At round 48 training loss: 1.2090449762325008\n",
      "Group 2\n",
      "At round 48 accuracy: 0.7976653696498055\n",
      "At round 48 training accuracy: 0.8116100766703176\n",
      "At round 48 training loss: 0.7044926308593249\n",
      "Group 3\n",
      "At round 48 accuracy: 0.4689265536723164\n",
      "At round 48 training accuracy: 0.4670068027210884\n",
      "At round 48 training loss: 1.5235365512926562\n",
      "Group 4\n",
      "At round 48 accuracy: 0.659016393442623\n",
      "At round 48 training accuracy: 0.6091728733829871\n",
      "At round 48 training loss: 1.5322516680768499\n",
      "At round 48 mean test accuracy: 0.6481288981288982 mean train accuracy: 0.6441142439559101\n",
      "The groups difference are: [0.         1.36508172 1.59615888 1.04144669 0.63102124]\n",
      "Begin group  1 training\n"
     ]
    },
    {
     "name": "stderr",
     "output_type": "stream",
     "text": [
      "Epoch:  50%|██████████████████████████████████████                                      | 10/20 [00:00<00:00, 96.74it/s]"
     ]
    },
    {
     "name": "stdout",
     "output_type": "stream",
     "text": [
      "Begin group  2 training\n"
     ]
    },
    {
     "name": "stderr",
     "output_type": "stream",
     "text": [
      "Epoch:   0%|                                                                                     | 0/20 [00:00<?, ?it/s]"
     ]
    },
    {
     "name": "stdout",
     "output_type": "stream",
     "text": [
      "Begin group  3 training\n"
     ]
    },
    {
     "name": "stderr",
     "output_type": "stream",
     "text": [
      "Epoch:  70%|████████████████████████████████████████████████████▌                      | 14/20 [00:00<00:00, 139.34it/s]"
     ]
    },
    {
     "name": "stdout",
     "output_type": "stream",
     "text": [
      "Begin group  4 training\n"
     ]
    },
    {
     "name": "stderr",
     "output_type": "stream",
     "text": [
      "                                                                                                                        \r"
     ]
    },
    {
     "name": "stdout",
     "output_type": "stream",
     "text": [
      "Group 0, clients ['f_00067']\n",
      "Group 1, clients ['f_00144', 'f_00104', 'f_00195', 'f_00153', 'f_00065', 'f_00111', 'f_00013', 'f_00181', 'f_00132']\n",
      "Group 2 is empty.\n",
      "Group 3, clients ['f_00150', 'f_00180', 'f_00046']\n",
      "Group 4, clients ['f_00107', 'f_00017', 'f_00189', 'f_00029', 'f_00148', 'f_00007', 'f_00089']\n"
     ]
    },
    {
     "name": "stderr",
     "output_type": "stream",
     "text": [
      "Epoch:  15%|███████████▌                                                                 | 3/20 [00:00<00:00, 24.59it/s]"
     ]
    },
    {
     "name": "stdout",
     "output_type": "stream",
     "text": [
      "Group 0\n",
      "At round 49 accuracy: 0.7696969696969697\n",
      "At round 49 training accuracy: 0.7668754349338901\n",
      "At round 49 training loss: 0.842047327495567\n",
      "Group 1\n",
      "At round 49 accuracy: 0.5631399317406144\n",
      "At round 49 training accuracy: 0.5746753246753247\n",
      "At round 49 training loss: 1.2788661848511789\n",
      "Group 2\n",
      "At round 49 accuracy: 0.7470817120622568\n",
      "At round 49 training accuracy: 0.7570646221248631\n",
      "At round 49 training loss: 0.6371084321106643\n",
      "Group 3\n",
      "At round 49 accuracy: 0.4689265536723164\n",
      "At round 49 training accuracy: 0.4748299319727891\n",
      "At round 49 training loss: 1.4153253054740478\n",
      "Group 4\n",
      "At round 49 accuracy: 0.6557377049180327\n",
      "At round 49 training accuracy: 0.631125049000392\n",
      "At round 49 training loss: 0.9308208786287012\n",
      "At round 49 mean test accuracy: 0.6273388773388774 mean train accuracy: 0.6330917727300408\n",
      "The groups difference are: [0.         1.32015036 1.53355729 1.0084853  0.58812681]\n",
      "Begin group  0 training\n"
     ]
    },
    {
     "name": "stderr",
     "output_type": "stream",
     "text": [
      "Epoch:   0%|                                                                                     | 0/20 [00:00<?, ?it/s]"
     ]
    },
    {
     "name": "stdout",
     "output_type": "stream",
     "text": [
      "Begin group  1 training\n"
     ]
    },
    {
     "name": "stderr",
     "output_type": "stream",
     "text": [
      "Epoch:  30%|███████████████████████                                                      | 6/20 [00:00<00:00, 51.22it/s]"
     ]
    },
    {
     "name": "stdout",
     "output_type": "stream",
     "text": [
      "Begin group  3 training\n"
     ]
    },
    {
     "name": "stderr",
     "output_type": "stream",
     "text": [
      "Epoch:   0%|                                                                                     | 0/20 [00:00<?, ?it/s]"
     ]
    },
    {
     "name": "stdout",
     "output_type": "stream",
     "text": [
      "Begin group  4 training\n"
     ]
    },
    {
     "name": "stderr",
     "output_type": "stream",
     "text": [
      "                                                                                                                        \r"
     ]
    },
    {
     "name": "stdout",
     "output_type": "stream",
     "text": [
      "Group 0, clients ['f_00138']\n",
      "Group 1, clients ['f_00112', 'f_00165', 'f_00012', 'f_00144', 'f_00081', 'f_00025']\n",
      "Group 2, clients ['f_00073', 'f_00023']\n",
      "Group 3, clients ['f_00020', 'f_00160', 'f_00151']\n",
      "Group 4, clients ['f_00199', 'f_00008', 'f_00039', 'f_00088', 'f_00197', 'f_00069', 'f_00099', 'f_00159']\n"
     ]
    },
    {
     "name": "stderr",
     "output_type": "stream",
     "text": [
      "Epoch:   0%|                                                                                     | 0/20 [00:00<?, ?it/s]"
     ]
    },
    {
     "name": "stdout",
     "output_type": "stream",
     "text": [
      "Group 0\n",
      "At round 50 accuracy: 0.6242424242424243\n",
      "At round 50 training accuracy: 0.6151704940848991\n",
      "At round 50 training loss: 1.1929781689109615\n",
      "Group 1\n",
      "At round 50 accuracy: 0.5750853242320819\n",
      "At round 50 training accuracy: 0.5878652597402597\n",
      "At round 50 training loss: 1.2467796134508469\n",
      "Group 2\n",
      "At round 50 accuracy: 0.7509727626459144\n",
      "At round 50 training accuracy: 0.7629791894852136\n",
      "At round 50 training loss: 0.6254023534509987\n",
      "Group 3\n",
      "At round 50 accuracy: 0.4604519774011299\n",
      "At round 50 training accuracy: 0.46938775510204084\n",
      "At round 50 training loss: 1.8229668474420397\n",
      "Group 4\n",
      "At round 50 accuracy: 0.5868852459016394\n",
      "At round 50 training accuracy: 0.5437083496667974\n",
      "At round 50 training loss: 0.9987967748097091\n",
      "At round 50 mean test accuracy: 0.6070686070686071 mean train accuracy: 0.6108641373850557\n",
      "The groups difference are: [0.         1.31822643 1.4983179  1.06422924 0.56990403]\n",
      "Begin group  0 training\n",
      "Begin group  1 training\n"
     ]
    },
    {
     "name": "stderr",
     "output_type": "stream",
     "text": [
      "Epoch:  20%|███████████████▍                                                             | 4/20 [00:00<00:00, 36.05it/s]"
     ]
    },
    {
     "name": "stdout",
     "output_type": "stream",
     "text": [
      "Begin group  2 training\n"
     ]
    },
    {
     "name": "stderr",
     "output_type": "stream",
     "text": [
      "Epoch:   0%|                                                                                     | 0/20 [00:00<?, ?it/s]"
     ]
    },
    {
     "name": "stdout",
     "output_type": "stream",
     "text": [
      "Begin group  3 training\n"
     ]
    },
    {
     "name": "stderr",
     "output_type": "stream",
     "text": [
      "Epoch:  35%|██████████████████████████▉                                                  | 7/20 [00:00<00:00, 60.74it/s]"
     ]
    },
    {
     "name": "stdout",
     "output_type": "stream",
     "text": [
      "Begin group  4 training\n"
     ]
    },
    {
     "name": "stderr",
     "output_type": "stream",
     "text": [
      "                                                                                                                        \r"
     ]
    },
    {
     "name": "stdout",
     "output_type": "stream",
     "text": [
      "Group 0, clients ['f_00118', 'f_00067', 'f_00068']\n",
      "Group 1, clients ['f_00104', 'f_00004', 'f_00192', 'f_00174', 'f_00010', 'f_00115', 'f_00171', 'f_00014']\n",
      "Group 2, clients ['f_00023']\n",
      "Group 3, clients ['f_00160', 'f_00190', 'f_00086', 'f_00128']\n",
      "Group 4, clients ['f_00148', 'f_00007', 'f_00058', 'f_00177']\n"
     ]
    },
    {
     "name": "stderr",
     "output_type": "stream",
     "text": [
      "Epoch:  20%|███████████████▍                                                             | 4/20 [00:00<00:00, 33.79it/s]"
     ]
    },
    {
     "name": "stdout",
     "output_type": "stream",
     "text": [
      "Group 0\n",
      "At round 51 accuracy: 0.7636363636363637\n",
      "At round 51 training accuracy: 0.7529575504523313\n",
      "At round 51 training loss: 0.7342015347426022\n",
      "Group 1\n",
      "At round 51 accuracy: 0.6945392491467577\n",
      "At round 51 training accuracy: 0.698051948051948\n",
      "At round 51 training loss: 1.1719732978683595\n",
      "Group 2\n",
      "At round 51 accuracy: 0.72568093385214\n",
      "At round 51 training accuracy: 0.7016429353778751\n",
      "At round 51 training loss: 1.2284031780695732\n",
      "Group 3\n",
      "At round 51 accuracy: 0.4717514124293785\n",
      "At round 51 training accuracy: 0.4707482993197279\n",
      "At round 51 training loss: 2.608973955864809\n",
      "Group 4\n",
      "At round 51 accuracy: 0.6295081967213115\n",
      "At round 51 training accuracy: 0.5860446883575069\n",
      "At round 51 training loss: 1.346730132317459\n",
      "At round 51 mean test accuracy: 0.6574844074844075 mean train accuracy: 0.6457584799951281\n",
      "The groups difference are: [0.         1.29879535 1.49769716 1.09341447 0.58225326]\n",
      "Begin group  0 training\n"
     ]
    },
    {
     "name": "stderr",
     "output_type": "stream",
     "text": [
      "Epoch:   0%|                                                                                     | 0/20 [00:00<?, ?it/s]"
     ]
    },
    {
     "name": "stdout",
     "output_type": "stream",
     "text": [
      "Begin group  1 training\n"
     ]
    },
    {
     "name": "stderr",
     "output_type": "stream",
     "text": [
      "Epoch:  40%|██████████████████████████████▊                                              | 8/20 [00:00<00:00, 69.44it/s]"
     ]
    },
    {
     "name": "stdout",
     "output_type": "stream",
     "text": [
      "Begin group  2 training\n"
     ]
    },
    {
     "name": "stderr",
     "output_type": "stream",
     "text": [
      "Epoch:  15%|███████████▌                                                                 | 3/20 [00:00<00:00, 24.76it/s]"
     ]
    },
    {
     "name": "stdout",
     "output_type": "stream",
     "text": [
      "Begin group  3 training\n"
     ]
    },
    {
     "name": "stderr",
     "output_type": "stream",
     "text": [
      "Epoch:   0%|                                                                                     | 0/20 [00:00<?, ?it/s]"
     ]
    },
    {
     "name": "stdout",
     "output_type": "stream",
     "text": [
      "Begin group  4 training\n"
     ]
    },
    {
     "name": "stderr",
     "output_type": "stream",
     "text": [
      "                                                                                                                        \r"
     ]
    },
    {
     "name": "stdout",
     "output_type": "stream",
     "text": [
      "Group 0, clients ['f_00098', 'f_00067']\n",
      "Group 1, clients ['f_00132', 'f_00104', 'f_00145', 'f_00091', 'f_00115']\n",
      "Group 2, clients ['f_00062', 'f_00023', 'f_00093']\n",
      "Group 3, clients ['f_00114', 'f_00176', 'f_00131', 'f_00056', 'f_00040', 'f_00003']\n",
      "Group 4, clients ['f_00119', 'f_00189', 'f_00047', 'f_00027']\n"
     ]
    },
    {
     "name": "stderr",
     "output_type": "stream",
     "text": [
      "Epoch:  20%|███████████████▍                                                             | 4/20 [00:00<00:00, 33.35it/s]"
     ]
    },
    {
     "name": "stdout",
     "output_type": "stream",
     "text": [
      "Group 0\n",
      "At round 52 accuracy: 0.6242424242424243\n",
      "At round 52 training accuracy: 0.6423103688239388\n",
      "At round 52 training loss: 0.7981422665057782\n",
      "Group 1\n",
      "At round 52 accuracy: 0.6945392491467577\n",
      "At round 52 training accuracy: 0.6948051948051948\n",
      "At round 52 training loss: 1.1562206818685903\n",
      "Group 2\n",
      "At round 52 accuracy: 0.7237354085603113\n",
      "At round 52 training accuracy: 0.7053669222343921\n",
      "At round 52 training loss: 1.439120830398008\n",
      "Group 3\n",
      "At round 52 accuracy: 0.4661016949152542\n",
      "At round 52 training accuracy: 0.4683673469387755\n",
      "At round 52 training loss: 2.482682080566883\n",
      "Group 4\n",
      "At round 52 accuracy: 0.5639344262295082\n",
      "At round 52 training accuracy: 0.5515484123872991\n",
      "At round 52 training loss: 1.2395170124102368\n",
      "At round 52 mean test accuracy: 0.6335758835758836 mean train accuracy: 0.630351379331344\n",
      "The groups difference are: [0.         1.30141295 1.51449965 1.14777881 0.53403383]\n",
      "Begin group  0 training\n"
     ]
    },
    {
     "name": "stderr",
     "output_type": "stream",
     "text": [
      "Epoch:   0%|                                                                                     | 0/20 [00:00<?, ?it/s]"
     ]
    },
    {
     "name": "stdout",
     "output_type": "stream",
     "text": [
      "Begin group  1 training\n"
     ]
    },
    {
     "name": "stderr",
     "output_type": "stream",
     "text": [
      "Epoch:   5%|███▊                                                                         | 1/20 [00:00<00:03,  5.33it/s]"
     ]
    },
    {
     "name": "stdout",
     "output_type": "stream",
     "text": [
      "Begin group  2 training\n"
     ]
    },
    {
     "name": "stderr",
     "output_type": "stream",
     "text": [
      "Epoch:   0%|                                                                                     | 0/20 [00:00<?, ?it/s]"
     ]
    },
    {
     "name": "stdout",
     "output_type": "stream",
     "text": [
      "Begin group  3 training\n"
     ]
    },
    {
     "name": "stderr",
     "output_type": "stream",
     "text": [
      "Epoch:   0%|                                                                                     | 0/20 [00:00<?, ?it/s]"
     ]
    },
    {
     "name": "stdout",
     "output_type": "stream",
     "text": [
      "Begin group  4 training\n"
     ]
    },
    {
     "name": "stderr",
     "output_type": "stream",
     "text": [
      "                                                                                                                        \r"
     ]
    },
    {
     "name": "stdout",
     "output_type": "stream",
     "text": [
      "Group 0 is empty.\n",
      "Group 1, clients ['f_00143', 'f_00132', 'f_00115', 'f_00185', 'f_00175', 'f_00074']\n",
      "Group 2, clients ['f_00172', 'f_00163', 'f_00053']\n",
      "Group 3, clients ['f_00100', 'f_00001', 'f_00066', 'f_00120', 'f_00050', 'f_00190']\n",
      "Group 4, clients ['f_00188', 'f_00149', 'f_00109', 'f_00179', 'f_00168']\n"
     ]
    },
    {
     "name": "stderr",
     "output_type": "stream",
     "text": [
      "Epoch:   0%|                                                                                     | 0/20 [00:00<?, ?it/s]"
     ]
    },
    {
     "name": "stdout",
     "output_type": "stream",
     "text": [
      "Group 0\n",
      "At round 53 accuracy: 0.6545454545454545\n",
      "At round 53 training accuracy: 0.6534446764091858\n",
      "At round 53 training loss: 0.7680934217960036\n",
      "Group 1\n",
      "At round 53 accuracy: 0.5870307167235495\n",
      "At round 53 training accuracy: 0.5746753246753247\n",
      "At round 53 training loss: 1.244890752260561\n",
      "Group 2\n",
      "At round 53 accuracy: 0.754863813229572\n",
      "At round 53 training accuracy: 0.7642935377875137\n",
      "At round 53 training loss: 0.6545586676939685\n",
      "Group 3\n",
      "At round 53 accuracy: 0.53954802259887\n",
      "At round 53 training accuracy: 0.5295918367346939\n",
      "At round 53 training loss: 1.176350541037767\n",
      "Group 4\n",
      "At round 53 accuracy: 0.6262295081967213\n",
      "At round 53 training accuracy: 0.5829086632693061\n",
      "At round 53 training loss: 1.0749176779432608\n",
      "At round 53 mean test accuracy: 0.6351351351351351 mean train accuracy: 0.6274891906704829\n",
      "The groups difference are: [0.         1.31595153 1.54363607 1.11364237 0.58997149]\n",
      "Begin group  1 training\n"
     ]
    },
    {
     "name": "stderr",
     "output_type": "stream",
     "text": [
      "Epoch:  40%|██████████████████████████████▊                                              | 8/20 [00:00<00:00, 72.51it/s]"
     ]
    },
    {
     "name": "stdout",
     "output_type": "stream",
     "text": [
      "Begin group  2 training\n"
     ]
    },
    {
     "name": "stderr",
     "output_type": "stream",
     "text": [
      "Epoch:  35%|██████████████████████████▉                                                  | 7/20 [00:00<00:00, 61.25it/s]"
     ]
    },
    {
     "name": "stdout",
     "output_type": "stream",
     "text": [
      "Begin group  3 training\n"
     ]
    },
    {
     "name": "stderr",
     "output_type": "stream",
     "text": [
      "Epoch:   0%|                                                                                     | 0/20 [00:00<?, ?it/s]"
     ]
    },
    {
     "name": "stdout",
     "output_type": "stream",
     "text": [
      "Begin group  4 training\n"
     ]
    },
    {
     "name": "stderr",
     "output_type": "stream",
     "text": [
      "                                                                                                                        \r"
     ]
    },
    {
     "name": "stdout",
     "output_type": "stream",
     "text": [
      "Group 0, clients ['f_00118', 'f_00178', 'f_00138']\n",
      "Group 1, clients ['f_00134', 'f_00142', 'f_00012', 'f_00194', 'f_00011', 'f_00044', 'f_00101', 'f_00004']\n",
      "Group 2 is empty.\n",
      "Group 3, clients ['f_00166', 'f_00186', 'f_00043', 'f_00031']\n",
      "Group 4, clients ['f_00179', 'f_00187', 'f_00119', 'f_00049', 'f_00149']\n"
     ]
    },
    {
     "name": "stderr",
     "output_type": "stream",
     "text": [
      "Epoch:  20%|███████████████▍                                                             | 4/20 [00:00<00:00, 33.91it/s]"
     ]
    },
    {
     "name": "stdout",
     "output_type": "stream",
     "text": [
      "Group 0\n",
      "At round 54 accuracy: 0.6909090909090909\n",
      "At round 54 training accuracy: 0.6771050800278358\n",
      "At round 54 training loss: 0.746433363660973\n",
      "Group 1\n",
      "At round 54 accuracy: 0.5870307167235495\n",
      "At round 54 training accuracy: 0.5996347402597403\n",
      "At round 54 training loss: 1.277492673172579\n",
      "Group 2\n",
      "At round 54 accuracy: 0.708171206225681\n",
      "At round 54 training accuracy: 0.6985761226725082\n",
      "At round 54 training loss: 0.8715357457102977\n",
      "Group 3\n",
      "At round 54 accuracy: 0.4717514124293785\n",
      "At round 54 training accuracy: 0.47551020408163264\n",
      "At round 54 training loss: 1.4019973054325499\n",
      "Group 4\n",
      "At round 54 accuracy: 0.6491803278688525\n",
      "At round 54 training accuracy: 0.595452763622109\n",
      "At round 54 training loss: 1.3673937306339625\n",
      "At round 54 mean test accuracy: 0.6169438669438669 mean train accuracy: 0.6110468302783022\n",
      "The groups difference are: [0.         1.26950154 1.51319121 1.08256829 0.58687862]\n",
      "Begin group  0 training\n"
     ]
    },
    {
     "name": "stderr",
     "output_type": "stream",
     "text": [
      "Epoch:   0%|                                                                                     | 0/20 [00:00<?, ?it/s]"
     ]
    },
    {
     "name": "stdout",
     "output_type": "stream",
     "text": [
      "Begin group  1 training\n"
     ]
    },
    {
     "name": "stderr",
     "output_type": "stream",
     "text": [
      "Epoch:   0%|                                                                                     | 0/20 [00:00<?, ?it/s]"
     ]
    },
    {
     "name": "stdout",
     "output_type": "stream",
     "text": [
      "Begin group  3 training\n"
     ]
    },
    {
     "name": "stderr",
     "output_type": "stream",
     "text": [
      "Epoch:   0%|                                                                                     | 0/20 [00:00<?, ?it/s]"
     ]
    },
    {
     "name": "stdout",
     "output_type": "stream",
     "text": [
      "Begin group  4 training\n"
     ]
    },
    {
     "name": "stderr",
     "output_type": "stream",
     "text": [
      "                                                                                                                        \r"
     ]
    },
    {
     "name": "stdout",
     "output_type": "stream",
     "text": [
      "Group 0 is empty.\n",
      "Group 1, clients ['f_00124', 'f_00145', 'f_00022', 'f_00141', 'f_00181']\n",
      "Group 2, clients ['f_00053', 'f_00123']\n",
      "Group 3, clients ['f_00116', 'f_00136', 'f_00190', 'f_00170', 'f_00166', 'f_00133', 'f_00026']\n",
      "Group 4, clients ['f_00079', 'f_00129', 'f_00188', 'f_00199', 'f_00119', 'f_00057']\n"
     ]
    },
    {
     "name": "stderr",
     "output_type": "stream",
     "text": [
      "Epoch:  30%|███████████████████████                                                      | 6/20 [00:00<00:00, 56.21it/s]"
     ]
    },
    {
     "name": "stdout",
     "output_type": "stream",
     "text": [
      "Group 0\n",
      "At round 55 accuracy: 0.7757575757575758\n",
      "At round 55 training accuracy: 0.7466945024356297\n",
      "At round 55 training loss: 0.7464383751174685\n",
      "Group 1\n",
      "At round 55 accuracy: 0.5580204778156996\n",
      "At round 55 training accuracy: 0.5602678571428571\n",
      "At round 55 training loss: 1.3816832035731572\n",
      "Group 2\n",
      "At round 55 accuracy: 0.708171206225681\n",
      "At round 55 training accuracy: 0.6996714129244249\n",
      "At round 55 training loss: 0.850548499665934\n",
      "Group 3\n",
      "At round 55 accuracy: 0.5254237288135594\n",
      "At round 55 training accuracy: 0.527891156462585\n",
      "At round 55 training loss: 1.311449783857988\n",
      "Group 4\n",
      "At round 55 accuracy: 0.6524590163934426\n",
      "At round 55 training accuracy: 0.6017248137985104\n",
      "At round 55 training loss: 1.4331783250716097\n",
      "At round 55 mean test accuracy: 0.6257796257796258 mean train accuracy: 0.6159795383959564\n",
      "The groups difference are: [0.         1.29545732 1.4645668  1.06338909 0.60187085]\n",
      "Begin group  1 training\n"
     ]
    },
    {
     "name": "stderr",
     "output_type": "stream",
     "text": [
      "Epoch:  15%|███████████▌                                                                 | 3/20 [00:00<00:00, 25.07it/s]"
     ]
    },
    {
     "name": "stdout",
     "output_type": "stream",
     "text": [
      "Begin group  2 training\n"
     ]
    },
    {
     "name": "stderr",
     "output_type": "stream",
     "text": [
      "Epoch:  40%|██████████████████████████████▊                                              | 8/20 [00:00<00:00, 73.74it/s]"
     ]
    },
    {
     "name": "stdout",
     "output_type": "stream",
     "text": [
      "Begin group  3 training\n"
     ]
    },
    {
     "name": "stderr",
     "output_type": "stream",
     "text": [
      "Epoch:  45%|██████████████████████████████████▋                                          | 9/20 [00:00<00:00, 83.57it/s]"
     ]
    },
    {
     "name": "stdout",
     "output_type": "stream",
     "text": [
      "Begin group  4 training\n"
     ]
    },
    {
     "name": "stderr",
     "output_type": "stream",
     "text": [
      "                                                                                                                        \r"
     ]
    },
    {
     "name": "stdout",
     "output_type": "stream",
     "text": [
      "Group 0, clients ['f_00167', 'f_00038', 'f_00158']\n",
      "Group 1, clients ['f_00071', 'f_00045', 'f_00194', 'f_00081', 'f_00012', 'f_00063']\n",
      "Group 2, clients ['f_00042', 'f_00082', 'f_00073', 'f_00102']\n",
      "Group 3, clients ['f_00186', 'f_00096', 'f_00120', 'f_00126', 'f_00000']\n",
      "Group 4, clients ['f_00017', 'f_00139']\n"
     ]
    },
    {
     "name": "stderr",
     "output_type": "stream",
     "text": [
      "Epoch:   0%|                                                                                     | 0/20 [00:00<?, ?it/s]"
     ]
    },
    {
     "name": "stdout",
     "output_type": "stream",
     "text": [
      "Group 0\n",
      "At round 56 accuracy: 0.7818181818181819\n",
      "At round 56 training accuracy: 0.7522616562282533\n",
      "At round 56 training loss: 0.7347419777303084\n",
      "Group 1\n",
      "At round 56 accuracy: 0.5989761092150171\n",
      "At round 56 training accuracy: 0.598823051948052\n",
      "At round 56 training loss: 1.2355169824917207\n",
      "Group 2\n",
      "At round 56 accuracy: 0.7198443579766537\n",
      "At round 56 training accuracy: 0.6957283680175247\n",
      "At round 56 training loss: 1.3755814557464596\n",
      "Group 3\n",
      "At round 56 accuracy: 0.4011299435028249\n",
      "At round 56 training accuracy: 0.413265306122449\n",
      "At round 56 training loss: 1.4447948797320833\n",
      "Group 4\n",
      "At round 56 accuracy: 0.659016393442623\n",
      "At round 56 training accuracy: 0.5993727949823598\n",
      "At round 56 training loss: 1.7599997345558198\n",
      "At round 56 mean test accuracy: 0.6200623700623701 mean train accuracy: 0.6060532245295658\n",
      "The groups difference are: [0.         1.25696766 1.45677884 1.01570309 0.61957255]\n",
      "Begin group  0 training\n"
     ]
    },
    {
     "name": "stderr",
     "output_type": "stream",
     "text": [
      "Epoch:   0%|                                                                                     | 0/20 [00:00<?, ?it/s]"
     ]
    },
    {
     "name": "stdout",
     "output_type": "stream",
     "text": [
      "Begin group  1 training\n"
     ]
    },
    {
     "name": "stderr",
     "output_type": "stream",
     "text": [
      "Epoch:   0%|                                                                                     | 0/20 [00:00<?, ?it/s]"
     ]
    },
    {
     "name": "stdout",
     "output_type": "stream",
     "text": [
      "Begin group  2 training\n"
     ]
    },
    {
     "name": "stderr",
     "output_type": "stream",
     "text": [
      "Epoch:   0%|                                                                                     | 0/20 [00:00<?, ?it/s]"
     ]
    },
    {
     "name": "stdout",
     "output_type": "stream",
     "text": [
      "Begin group  3 training\n"
     ]
    },
    {
     "name": "stderr",
     "output_type": "stream",
     "text": [
      "                                                                                                                        \r"
     ]
    },
    {
     "name": "stdout",
     "output_type": "stream",
     "text": [
      "Begin group  4 training\n",
      "Group 0 is empty.\n",
      "Group 1, clients ['f_00084', 'f_00070', 'f_00153', 'f_00014', 'f_00051', 'f_00194']\n",
      "Group 2, clients ['f_00123', 'f_00072']\n",
      "Group 3, clients ['f_00182', 'f_00031', 'f_00193', 'f_00155', 'f_00116', 'f_00166', 'f_00090', 'f_00180']\n",
      "Group 4, clients ['f_00159', 'f_00157', 'f_00117', 'f_00017']\n"
     ]
    },
    {
     "name": "stderr",
     "output_type": "stream",
     "text": [
      "Epoch:   0%|                                                                                     | 0/20 [00:00<?, ?it/s]"
     ]
    },
    {
     "name": "stdout",
     "output_type": "stream",
     "text": [
      "Group 0\n",
      "At round 57 accuracy: 0.7393939393939394\n",
      "At round 57 training accuracy: 0.7105080027835768\n",
      "At round 57 training loss: 0.7114572226586405\n",
      "Group 1\n",
      "At round 57 accuracy: 0.6177474402730375\n",
      "At round 57 training accuracy: 0.622362012987013\n",
      "At round 57 training loss: 1.2127452004434807\n",
      "Group 2\n",
      "At round 57 accuracy: 0.6984435797665369\n",
      "At round 57 training accuracy: 0.696604600219058\n",
      "At round 57 training loss: 0.7762216213760084\n",
      "Group 3\n",
      "At round 57 accuracy: 0.6073446327683616\n",
      "At round 57 training accuracy: 0.6221088435374149\n",
      "At round 57 training loss: 1.1718638829228019\n",
      "Group 4\n",
      "At round 57 accuracy: 0.6622950819672131\n",
      "At round 57 training accuracy: 0.5938847510780086\n",
      "At round 57 training loss: 0.8751930776926546\n",
      "At round 57 mean test accuracy: 0.6548856548856549 mean train accuracy: 0.6462456610437854\n",
      "The groups difference are: [0.         1.24688579 1.44607214 0.99196283 0.56861805]\n",
      "Begin group  1 training\n"
     ]
    },
    {
     "name": "stderr",
     "output_type": "stream",
     "text": [
      "Epoch:  20%|███████████████▍                                                             | 4/20 [00:00<00:00, 36.88it/s]"
     ]
    },
    {
     "name": "stdout",
     "output_type": "stream",
     "text": [
      "Begin group  2 training\n"
     ]
    },
    {
     "name": "stderr",
     "output_type": "stream",
     "text": [
      "Epoch:   0%|                                                                                     | 0/20 [00:00<?, ?it/s]"
     ]
    },
    {
     "name": "stdout",
     "output_type": "stream",
     "text": [
      "Begin group  3 training\n"
     ]
    },
    {
     "name": "stderr",
     "output_type": "stream",
     "text": [
      "Epoch:   0%|                                                                                     | 0/20 [00:00<?, ?it/s]"
     ]
    },
    {
     "name": "stdout",
     "output_type": "stream",
     "text": [
      "Begin group  4 training\n"
     ]
    },
    {
     "name": "stderr",
     "output_type": "stream",
     "text": [
      "                                                                                                                        \r"
     ]
    },
    {
     "name": "stdout",
     "output_type": "stream",
     "text": [
      "Group 0, clients ['f_00048', 'f_00108', 'f_00068', 'f_00038']\n",
      "Group 1, clients ['f_00174', 'f_00075', 'f_00175', 'f_00181', 'f_00183', 'f_00143', 'f_00010']\n",
      "Group 2 is empty.\n",
      "Group 3, clients ['f_00041', 'f_00193', 'f_00131', 'f_00186', 'f_00176', 'f_00066']\n",
      "Group 4, clients ['f_00107', 'f_00079', 'f_00177']\n"
     ]
    },
    {
     "name": "stderr",
     "output_type": "stream",
     "text": [
      "Epoch:  40%|██████████████████████████████▊                                              | 8/20 [00:00<00:00, 74.57it/s]"
     ]
    },
    {
     "name": "stdout",
     "output_type": "stream",
     "text": [
      "Group 0\n",
      "At round 58 accuracy: 0.7454545454545455\n",
      "At round 58 training accuracy: 0.7125956854558108\n",
      "At round 58 training loss: 0.7000441664444877\n",
      "Group 1\n",
      "At round 58 accuracy: 0.6313993174061433\n",
      "At round 58 training accuracy: 0.6493506493506493\n",
      "At round 58 training loss: 1.20725048953885\n",
      "Group 2\n",
      "At round 58 accuracy: 0.6556420233463035\n",
      "At round 58 training accuracy: 0.6527929901423878\n",
      "At round 58 training loss: 0.981887511969396\n",
      "Group 3\n",
      "At round 58 accuracy: 0.4604519774011299\n",
      "At round 58 training accuracy: 0.4738095238095238\n",
      "At round 58 training loss: 1.6521469261471917\n",
      "Group 4\n",
      "At round 58 accuracy: 0.6754098360655738\n",
      "At round 58 training accuracy: 0.657781262250098\n",
      "At round 58 training loss: 0.8897290790796\n",
      "At round 58 mean test accuracy: 0.6231808731808732 mean train accuracy: 0.6257231593691005\n",
      "The groups difference are: [0.         1.2055602  1.42242721 0.99684512 0.5395435 ]\n",
      "Begin group  0 training\n"
     ]
    },
    {
     "name": "stderr",
     "output_type": "stream",
     "text": [
      "Epoch:  40%|██████████████████████████████▊                                              | 8/20 [00:00<00:00, 70.63it/s]"
     ]
    },
    {
     "name": "stdout",
     "output_type": "stream",
     "text": [
      "Begin group  1 training\n"
     ]
    },
    {
     "name": "stderr",
     "output_type": "stream",
     "text": [
      "                                                                                                                        "
     ]
    },
    {
     "name": "stdout",
     "output_type": "stream",
     "text": [
      "Begin group  3 training\n"
     ]
    },
    {
     "name": "stderr",
     "output_type": "stream",
     "text": [
      "Epoch:   0%|                                                                                     | 0/20 [00:00<?, ?it/s]"
     ]
    },
    {
     "name": "stdout",
     "output_type": "stream",
     "text": [
      "Begin group  4 training\n"
     ]
    },
    {
     "name": "stderr",
     "output_type": "stream",
     "text": [
      "                                                                                                                        \r"
     ]
    },
    {
     "name": "stdout",
     "output_type": "stream",
     "text": [
      "Group 0, clients ['f_00098']\n",
      "Group 1, clients ['f_00192', 'f_00144', 'f_00113', 'f_00091', 'f_00141', 'f_00165', 'f_00185', 'f_00132']\n",
      "Group 2 is empty.\n",
      "Group 3, clients ['f_00036', 'f_00146', 'f_00196', 'f_00133', 'f_00136', 'f_00106', 'f_00030', 'f_00020', 'f_00016']\n",
      "Group 4, clients ['f_00019', 'f_00139']\n"
     ]
    },
    {
     "name": "stderr",
     "output_type": "stream",
     "text": [
      "Epoch:  20%|███████████████▍                                                             | 4/20 [00:00<00:00, 34.78it/s]"
     ]
    },
    {
     "name": "stdout",
     "output_type": "stream",
     "text": [
      "Group 0\n",
      "At round 59 accuracy: 0.7878787878787878\n",
      "At round 59 training accuracy: 0.7543493389004872\n",
      "At round 59 training loss: 0.770769044290256\n",
      "Group 1\n",
      "At round 59 accuracy: 0.6399317406143344\n",
      "At round 59 training accuracy: 0.6339285714285714\n",
      "At round 59 training loss: 1.1932559925216166\n",
      "Group 2\n",
      "At round 59 accuracy: 0.6673151750972762\n",
      "At round 59 training accuracy: 0.6613362541073384\n",
      "At round 59 training loss: 0.9395553974697911\n",
      "Group 3\n",
      "At round 59 accuracy: 0.3898305084745763\n",
      "At round 59 training accuracy: 0.40714285714285714\n",
      "At round 59 training loss: 1.5744706604756467\n",
      "Group 4\n",
      "At round 59 accuracy: 0.580327868852459\n",
      "At round 59 training accuracy: 0.586436691493532\n",
      "At round 59 training loss: 0.9932565423190851\n",
      "At round 59 mean test accuracy: 0.6044698544698545 mean train accuracy: 0.604104500334937\n",
      "The groups difference are: [0.         1.19530523 1.37191356 0.98403322 0.56009583]\n",
      "Begin group  0 training\n"
     ]
    },
    {
     "name": "stderr",
     "output_type": "stream",
     "text": [
      "Epoch:   0%|                                                                                     | 0/20 [00:00<?, ?it/s]"
     ]
    },
    {
     "name": "stdout",
     "output_type": "stream",
     "text": [
      "Begin group  1 training\n"
     ]
    },
    {
     "name": "stderr",
     "output_type": "stream",
     "text": [
      "Epoch:   0%|                                                                                     | 0/20 [00:00<?, ?it/s]"
     ]
    },
    {
     "name": "stdout",
     "output_type": "stream",
     "text": [
      "Begin group  3 training\n"
     ]
    },
    {
     "name": "stderr",
     "output_type": "stream",
     "text": [
      "                                                                                                                        "
     ]
    },
    {
     "name": "stdout",
     "output_type": "stream",
     "text": [
      "Begin group  4 training\n"
     ]
    },
    {
     "name": "stderr",
     "output_type": "stream",
     "text": [
      "\r"
     ]
    },
    {
     "name": "stdout",
     "output_type": "stream",
     "text": [
      "Group 0 is empty.\n",
      "Group 1, clients ['f_00144', 'f_00081', 'f_00132', 'f_00192', 'f_00021']\n",
      "Group 2, clients ['f_00052', 'f_00053', 'f_00163']\n",
      "Group 3, clients ['f_00176', 'f_00033', 'f_00000', 'f_00120', 'f_00001', 'f_00106', 'f_00190', 'f_00193', 'f_00046', 'f_00056']\n",
      "Group 4, clients ['f_00087', 'f_00079']\n"
     ]
    },
    {
     "name": "stderr",
     "output_type": "stream",
     "text": [
      "Epoch:   0%|                                                                                     | 0/20 [00:00<?, ?it/s]"
     ]
    },
    {
     "name": "stdout",
     "output_type": "stream",
     "text": [
      "Group 0\n",
      "At round 60 accuracy: 0.7757575757575758\n",
      "At round 60 training accuracy: 0.7682672233820459\n",
      "At round 60 training loss: 0.8595710941379736\n",
      "Group 1\n",
      "At round 60 accuracy: 0.6160409556313993\n",
      "At round 60 training accuracy: 0.609577922077922\n",
      "At round 60 training loss: 1.204933424298833\n",
      "Group 2\n",
      "At round 60 accuracy: 0.6750972762645915\n",
      "At round 60 training accuracy: 0.6650602409638554\n",
      "At round 60 training loss: 0.9001986247490427\n",
      "Group 3\n",
      "At round 60 accuracy: 0.384180790960452\n",
      "At round 60 training accuracy: 0.4013605442176871\n",
      "At round 60 training loss: 1.6420858370304918\n",
      "Group 4\n",
      "At round 60 accuracy: 0.6229508196721312\n",
      "At round 60 training accuracy: 0.5848686789494316\n",
      "At round 60 training loss: 1.581704536392286\n",
      "At round 60 mean test accuracy: 0.603950103950104 mean train accuracy: 0.5977711467023933\n",
      "The groups difference are: [0.         1.22691516 1.34470133 0.99750388 0.620455  ]\n",
      "Begin group  1 training\n"
     ]
    },
    {
     "name": "stderr",
     "output_type": "stream",
     "text": [
      "Epoch:  25%|███████████████████▎                                                         | 5/20 [00:00<00:00, 40.79it/s]"
     ]
    },
    {
     "name": "stdout",
     "output_type": "stream",
     "text": [
      "Begin group  2 training\n"
     ]
    },
    {
     "name": "stderr",
     "output_type": "stream",
     "text": [
      "Epoch:   0%|                                                                                     | 0/20 [00:00<?, ?it/s]"
     ]
    },
    {
     "name": "stdout",
     "output_type": "stream",
     "text": [
      "Begin group  3 training\n"
     ]
    },
    {
     "name": "stderr",
     "output_type": "stream",
     "text": [
      "Epoch:  20%|███████████████▍                                                             | 4/20 [00:00<00:00, 33.06it/s]"
     ]
    },
    {
     "name": "stdout",
     "output_type": "stream",
     "text": [
      "Begin group  4 training\n"
     ]
    },
    {
     "name": "stderr",
     "output_type": "stream",
     "text": [
      "                                                                                                                        \r"
     ]
    },
    {
     "name": "stdout",
     "output_type": "stream",
     "text": [
      "Group 0, clients ['f_00028']\n",
      "Group 1, clients ['f_00085', 'f_00014', 'f_00070', 'f_00011', 'f_00081']\n",
      "Group 2, clients ['f_00062', 'f_00023', 'f_00073']\n",
      "Group 3, clients ['f_00086', 'f_00170', 'f_00003', 'f_00161', 'f_00193', 'f_00133', 'f_00030', 'f_00056']\n",
      "Group 4, clients ['f_00129', 'f_00097', 'f_00117']\n"
     ]
    },
    {
     "name": "stderr",
     "output_type": "stream",
     "text": [
      "Epoch:   0%|                                                                                     | 0/20 [00:00<?, ?it/s]"
     ]
    },
    {
     "name": "stdout",
     "output_type": "stream",
     "text": [
      "Group 0\n",
      "At round 61 accuracy: 0.7757575757575758\n",
      "At round 61 training accuracy: 0.767571329157968\n",
      "At round 61 training loss: 0.8388647690114663\n",
      "Group 1\n",
      "At round 61 accuracy: 0.36177474402730375\n",
      "At round 61 training accuracy: 0.3622159090909091\n",
      "At round 61 training loss: 1.726318044624255\n",
      "Group 2\n",
      "At round 61 accuracy: 0.7042801556420234\n",
      "At round 61 training accuracy: 0.6957283680175247\n",
      "At round 61 training loss: 0.9392991270057995\n",
      "Group 3\n",
      "At round 61 accuracy: 0.5310734463276836\n",
      "At round 61 training accuracy: 0.5513605442176871\n",
      "At round 61 training loss: 1.1891308411955834\n",
      "Group 4\n",
      "At round 61 accuracy: 0.6426229508196721\n",
      "At round 61 training accuracy: 0.6040768326146609\n",
      "At round 61 training loss: 0.9554017178454337\n",
      "At round 61 mean test accuracy: 0.5644490644490644 mean train accuracy: 0.5618415443639242\n",
      "The groups difference are: [0.         1.18872282 1.3356474  0.95708278 0.56420906]\n",
      "Begin group  0 training\n",
      "Begin group  1 training\n"
     ]
    },
    {
     "name": "stderr",
     "output_type": "stream",
     "text": [
      "Epoch:   0%|                                                                                     | 0/20 [00:00<?, ?it/s]"
     ]
    },
    {
     "name": "stdout",
     "output_type": "stream",
     "text": [
      "Begin group  2 training\n"
     ]
    },
    {
     "name": "stderr",
     "output_type": "stream",
     "text": [
      "Epoch:   0%|                                                                                     | 0/20 [00:00<?, ?it/s]"
     ]
    },
    {
     "name": "stdout",
     "output_type": "stream",
     "text": [
      "Begin group  3 training\n"
     ]
    },
    {
     "name": "stderr",
     "output_type": "stream",
     "text": [
      "Epoch:   0%|                                                                                     | 0/20 [00:00<?, ?it/s]"
     ]
    },
    {
     "name": "stdout",
     "output_type": "stream",
     "text": [
      "Begin group  4 training\n"
     ]
    },
    {
     "name": "stderr",
     "output_type": "stream",
     "text": [
      "                                                                                                                        \r"
     ]
    },
    {
     "name": "stdout",
     "output_type": "stream",
     "text": [
      "Group 0 is empty.\n",
      "Group 1, clients ['f_00125', 'f_00171', 'f_00162', 'f_00005', 'f_00032', 'f_00153', 'f_00004']\n",
      "Group 2 is empty.\n",
      "Group 3, clients ['f_00120', 'f_00146', 'f_00061', 'f_00076', 'f_00040', 'f_00166', 'f_00036']\n",
      "Group 4, clients ['f_00168', 'f_00199', 'f_00059', 'f_00087', 'f_00047', 'f_00037']\n"
     ]
    },
    {
     "name": "stderr",
     "output_type": "stream",
     "text": [
      "Epoch:   0%|                                                                                     | 0/20 [00:00<?, ?it/s]"
     ]
    },
    {
     "name": "stdout",
     "output_type": "stream",
     "text": [
      "Group 0\n",
      "At round 62 accuracy: 0.6303030303030303\n",
      "At round 62 training accuracy: 0.6485734168406402\n",
      "At round 62 training loss: 1.035962343589249\n",
      "Group 1\n",
      "At round 62 accuracy: 0.25597269624573377\n",
      "At round 62 training accuracy: 0.27069805194805197\n",
      "At round 62 training loss: 1.6225532721849036\n",
      "Group 2\n",
      "At round 62 accuracy: 0.811284046692607\n",
      "At round 62 training accuracy: 0.8116100766703176\n",
      "At round 62 training loss: 0.618187943796208\n",
      "Group 3\n",
      "At round 62 accuracy: 0.7288135593220338\n",
      "At round 62 training accuracy: 0.757482993197279\n",
      "At round 62 training loss: 1.0419044919159948\n",
      "Group 4\n",
      "At round 62 accuracy: 0.6950819672131148\n",
      "At round 62 training accuracy: 0.6809094472755782\n",
      "At round 62 training loss: 0.8337572386151714\n",
      "At round 62 mean test accuracy: 0.593035343035343 mean train accuracy: 0.6050179648011692\n",
      "The groups difference are: [0.         1.15799169 1.34405644 0.92412818 0.56098909]\n",
      "Begin group  1 training\n"
     ]
    },
    {
     "name": "stderr",
     "output_type": "stream",
     "text": [
      "Epoch:   0%|                                                                                     | 0/20 [00:00<?, ?it/s]"
     ]
    },
    {
     "name": "stdout",
     "output_type": "stream",
     "text": [
      "Begin group  3 training\n"
     ]
    },
    {
     "name": "stderr",
     "output_type": "stream",
     "text": [
      "Epoch:  30%|███████████████████████                                                      | 6/20 [00:00<00:00, 50.53it/s]"
     ]
    },
    {
     "name": "stdout",
     "output_type": "stream",
     "text": [
      "Begin group  4 training\n"
     ]
    },
    {
     "name": "stderr",
     "output_type": "stream",
     "text": [
      "                                                                                                                        \r"
     ]
    },
    {
     "name": "stdout",
     "output_type": "stream",
     "text": [
      "Group 0, clients ['f_00138', 'f_00068']\n",
      "Group 1, clients ['f_00154', 'f_00125', 'f_00143', 'f_00112', 'f_00153', 'f_00103', 'f_00064', 'f_00010', 'f_00194', 'f_00171']\n",
      "Group 2, clients ['f_00052']\n",
      "Group 3, clients ['f_00126', 'f_00193', 'f_00090']\n",
      "Group 4, clients ['f_00089', 'f_00097', 'f_00037', 'f_00069']\n"
     ]
    },
    {
     "name": "stderr",
     "output_type": "stream",
     "text": [
      "Epoch:   0%|                                                                                     | 0/20 [00:00<?, ?it/s]"
     ]
    },
    {
     "name": "stdout",
     "output_type": "stream",
     "text": [
      "Group 0\n",
      "At round 63 accuracy: 0.6303030303030303\n",
      "At round 63 training accuracy: 0.6485734168406402\n",
      "At round 63 training loss: 1.006012676155393\n",
      "Group 1\n",
      "At round 63 accuracy: 0.5580204778156996\n",
      "At round 63 training accuracy: 0.5535714285714286\n",
      "At round 63 training loss: 1.238648455251347\n",
      "Group 2\n",
      "At round 63 accuracy: 0.8132295719844358\n",
      "At round 63 training accuracy: 0.8155531215772179\n",
      "At round 63 training loss: 0.6097933271171491\n",
      "Group 3\n",
      "At round 63 accuracy: 0.3870056497175141\n",
      "At round 63 training accuracy: 0.40680272108843535\n",
      "At round 63 training loss: 1.538029185332814\n",
      "Group 4\n",
      "At round 63 accuracy: 0.5770491803278689\n",
      "At round 63 training accuracy: 0.5797726381811055\n",
      "At round 63 training loss: 1.0212191581165309\n",
      "At round 63 mean test accuracy: 0.603950103950104 mean train accuracy: 0.6125083734242738\n",
      "The groups difference are: [0.         1.14861848 1.26245363 0.90027389 0.55610379]\n",
      "Begin group  0 training\n"
     ]
    },
    {
     "name": "stderr",
     "output_type": "stream",
     "text": [
      "Epoch:  30%|███████████████████████                                                      | 6/20 [00:00<00:00, 59.46it/s]"
     ]
    },
    {
     "name": "stdout",
     "output_type": "stream",
     "text": [
      "Begin group  1 training\n"
     ]
    },
    {
     "name": "stderr",
     "output_type": "stream",
     "text": [
      "Epoch:  25%|███████████████████▎                                                         | 5/20 [00:00<00:00, 45.29it/s]"
     ]
    },
    {
     "name": "stdout",
     "output_type": "stream",
     "text": [
      "Begin group  2 training\n"
     ]
    },
    {
     "name": "stderr",
     "output_type": "stream",
     "text": [
      "Epoch:   0%|                                                                                     | 0/20 [00:00<?, ?it/s]"
     ]
    },
    {
     "name": "stdout",
     "output_type": "stream",
     "text": [
      "Begin group  3 training\n"
     ]
    },
    {
     "name": "stderr",
     "output_type": "stream",
     "text": [
      "Epoch:   0%|                                                                                     | 0/20 [00:00<?, ?it/s]"
     ]
    },
    {
     "name": "stdout",
     "output_type": "stream",
     "text": [
      "Begin group  4 training\n"
     ]
    },
    {
     "name": "stderr",
     "output_type": "stream",
     "text": [
      "                                                                                                                        \r"
     ]
    },
    {
     "name": "stdout",
     "output_type": "stream",
     "text": [
      "Group 0, clients ['f_00178']\n",
      "Group 1, clients ['f_00014', 'f_00035']\n",
      "Group 2, clients ['f_00163', 'f_00121', 'f_00123', 'f_00102', 'f_00042']\n",
      "Group 3, clients ['f_00041', 'f_00156', 'f_00086', 'f_00193', 'f_00030', 'f_00116']\n",
      "Group 4, clients ['f_00058', 'f_00109', 'f_00107', 'f_00069', 'f_00157', 'f_00097']\n"
     ]
    },
    {
     "name": "stderr",
     "output_type": "stream",
     "text": [
      "Epoch:   0%|                                                                                     | 0/20 [00:00<?, ?it/s]"
     ]
    },
    {
     "name": "stdout",
     "output_type": "stream",
     "text": [
      "Group 0\n",
      "At round 64 accuracy: 0.7636363636363637\n",
      "At round 64 training accuracy: 0.7738343771746694\n",
      "At round 64 training loss: 0.8918738938406597\n",
      "Group 1\n",
      "At round 64 accuracy: 0.6160409556313993\n",
      "At round 64 training accuracy: 0.632711038961039\n",
      "At round 64 training loss: 1.0971411035166352\n",
      "Group 2\n",
      "At round 64 accuracy: 0.7898832684824902\n",
      "At round 64 training accuracy: 0.8067907995618839\n",
      "At round 64 training loss: 0.7580742631984828\n",
      "Group 3\n",
      "At round 64 accuracy: 0.4632768361581921\n",
      "At round 64 training accuracy: 0.46938775510204084\n",
      "At round 64 training loss: 1.4654374115523838\n",
      "Group 4\n",
      "At round 64 accuracy: 0.7016393442622951\n",
      "At round 64 training accuracy: 0.6758134065072521\n",
      "At round 64 training loss: 0.8233915336082516\n",
      "At round 64 mean test accuracy: 0.6606029106029107 mean train accuracy: 0.6709092016320565\n",
      "The groups difference are: [0.         1.15457751 1.28942834 0.92852293 0.55349816]\n",
      "Begin group  0 training\n",
      "Begin group  1 training\n"
     ]
    },
    {
     "name": "stderr",
     "output_type": "stream",
     "text": [
      "Epoch:   0%|                                                                                     | 0/20 [00:00<?, ?it/s]"
     ]
    },
    {
     "name": "stdout",
     "output_type": "stream",
     "text": [
      "Begin group  2 training\n"
     ]
    },
    {
     "name": "stderr",
     "output_type": "stream",
     "text": [
      "Epoch:  65%|████████████████████████████████████████████████▊                          | 13/20 [00:00<00:00, 122.40it/s]"
     ]
    },
    {
     "name": "stdout",
     "output_type": "stream",
     "text": [
      "Begin group  3 training\n"
     ]
    },
    {
     "name": "stderr",
     "output_type": "stream",
     "text": [
      "Epoch:   0%|                                                                                     | 0/20 [00:00<?, ?it/s]"
     ]
    },
    {
     "name": "stdout",
     "output_type": "stream",
     "text": [
      "Begin group  4 training\n"
     ]
    },
    {
     "name": "stderr",
     "output_type": "stream",
     "text": [
      "                                                                                                                        \r"
     ]
    },
    {
     "name": "stdout",
     "output_type": "stream",
     "text": [
      "Group 0, clients ['f_00178']\n",
      "Group 1, clients ['f_00021', 'f_00012', 'f_00075', 'f_00054', 'f_00085', 'f_00065', 'f_00153', 'f_00070']\n",
      "Group 2, clients ['f_00082']\n",
      "Group 3, clients ['f_00176', 'f_00106', 'f_00020', 'f_00151', 'f_00166', 'f_00155', 'f_00116']\n",
      "Group 4, clients ['f_00169', 'f_00119', 'f_00099']\n"
     ]
    },
    {
     "name": "stderr",
     "output_type": "stream",
     "text": [
      "Epoch:   0%|                                                                                     | 0/20 [00:00<?, ?it/s]"
     ]
    },
    {
     "name": "stdout",
     "output_type": "stream",
     "text": [
      "Group 0\n",
      "At round 65 accuracy: 0.7636363636363637\n",
      "At round 65 training accuracy: 0.7390396659707724\n",
      "At round 65 training loss: 0.8830313307590258\n",
      "Group 1\n",
      "At round 65 accuracy: 0.4812286689419795\n",
      "At round 65 training accuracy: 0.4586038961038961\n",
      "At round 65 training loss: 1.7455168450311698\n",
      "Group 2\n",
      "At round 65 accuracy: 0.791828793774319\n",
      "At round 65 training accuracy: 0.8024096385542169\n",
      "At round 65 training loss: 0.5870003531430924\n",
      "Group 3\n",
      "At round 65 accuracy: 0.3870056497175141\n",
      "At round 65 training accuracy: 0.41836734693877553\n",
      "At round 65 training loss: 1.366572292078109\n",
      "Group 4\n",
      "At round 65 accuracy: 0.6262295081967213\n",
      "At round 65 training accuracy: 0.591140729125833\n",
      "At round 65 training loss: 0.8970133268753718\n",
      "At round 65 mean test accuracy: 0.5940748440748441 mean train accuracy: 0.5921076670117532\n",
      "The groups difference are: [0.         1.1802298  1.27810788 0.90967061 0.55301878]\n",
      "Begin group  0 training\n",
      "Begin group  1 training\n"
     ]
    },
    {
     "name": "stderr",
     "output_type": "stream",
     "text": [
      "Epoch:   0%|                                                                                     | 0/20 [00:00<?, ?it/s]"
     ]
    },
    {
     "name": "stdout",
     "output_type": "stream",
     "text": [
      "Begin group  2 training\n",
      "Begin group  3 training\n"
     ]
    },
    {
     "name": "stderr",
     "output_type": "stream",
     "text": [
      "Epoch:  60%|█████████████████████████████████████████████                              | 12/20 [00:00<00:00, 116.15it/s]"
     ]
    },
    {
     "name": "stdout",
     "output_type": "stream",
     "text": [
      "Begin group  4 training\n"
     ]
    },
    {
     "name": "stderr",
     "output_type": "stream",
     "text": [
      "                                                                                                                        \r"
     ]
    },
    {
     "name": "stdout",
     "output_type": "stream",
     "text": [
      "Group 0, clients ['f_00167', 'f_00118', 'f_00108', 'f_00018']\n",
      "Group 1, clients ['f_00174', 'f_00054', 'f_00104']\n",
      "Group 2, clients ['f_00052', 'f_00053']\n",
      "Group 3, clients ['f_00106', 'f_00128', 'f_00160', 'f_00130', 'f_00140', 'f_00156']\n",
      "Group 4, clients ['f_00017', 'f_00107', 'f_00007', 'f_00179', 'f_00148']\n"
     ]
    },
    {
     "name": "stderr",
     "output_type": "stream",
     "text": [
      "Epoch:   0%|                                                                                     | 0/20 [00:00<?, ?it/s]"
     ]
    },
    {
     "name": "stdout",
     "output_type": "stream",
     "text": [
      "Group 0\n",
      "At round 66 accuracy: 0.7878787878787878\n",
      "At round 66 training accuracy: 0.7710508002783577\n",
      "At round 66 training loss: 0.875020423819808\n",
      "Group 1\n",
      "At round 66 accuracy: 0.6313993174061433\n",
      "At round 66 training accuracy: 0.6296672077922078\n",
      "At round 66 training loss: 1.1794330992602877\n",
      "Group 2\n",
      "At round 66 accuracy: 0.7996108949416343\n",
      "At round 66 training accuracy: 0.811829134720701\n",
      "At round 66 training loss: 0.6982630518676156\n",
      "Group 3\n",
      "At round 66 accuracy: 0.7062146892655368\n",
      "At round 66 training accuracy: 0.7051020408163265\n",
      "At round 66 training loss: 1.0602064678660867\n",
      "Group 4\n",
      "At round 66 accuracy: 0.6491803278688525\n",
      "At round 66 training accuracy: 0.595844766758134\n",
      "At round 66 training loss: 1.5181321822711413\n",
      "At round 66 mean test accuracy: 0.7063409563409564 mean train accuracy: 0.700931733755557\n",
      "The groups difference are: [0.         1.14663411 1.26663076 0.89406046 0.57215363]\n",
      "Begin group  0 training\n"
     ]
    },
    {
     "name": "stderr",
     "output_type": "stream",
     "text": [
      "Epoch:   0%|                                                                                     | 0/20 [00:00<?, ?it/s]"
     ]
    },
    {
     "name": "stdout",
     "output_type": "stream",
     "text": [
      "Begin group  1 training\n"
     ]
    },
    {
     "name": "stderr",
     "output_type": "stream",
     "text": [
      "Epoch:  30%|███████████████████████                                                      | 6/20 [00:00<00:00, 50.20it/s]"
     ]
    },
    {
     "name": "stdout",
     "output_type": "stream",
     "text": [
      "Begin group  2 training\n"
     ]
    },
    {
     "name": "stderr",
     "output_type": "stream",
     "text": [
      "Epoch:   0%|                                                                                     | 0/20 [00:00<?, ?it/s]"
     ]
    },
    {
     "name": "stdout",
     "output_type": "stream",
     "text": [
      "Begin group  3 training\n"
     ]
    },
    {
     "name": "stderr",
     "output_type": "stream",
     "text": [
      "Epoch:  55%|█████████████████████████████████████████▎                                 | 11/20 [00:00<00:00, 107.60it/s]"
     ]
    },
    {
     "name": "stdout",
     "output_type": "stream",
     "text": [
      "Begin group  4 training\n"
     ]
    },
    {
     "name": "stderr",
     "output_type": "stream",
     "text": [
      "                                                                                                                        \r"
     ]
    },
    {
     "name": "stdout",
     "output_type": "stream",
     "text": [
      "Group 0, clients ['f_00038', 'f_00108']\n",
      "Group 1, clients ['f_00032', 'f_00071', 'f_00025', 'f_00195', 'f_00015']\n",
      "Group 2, clients ['f_00172', 'f_00062', 'f_00123']\n",
      "Group 3, clients ['f_00166', 'f_00131', 'f_00180', 'f_00030', 'f_00056']\n",
      "Group 4, clients ['f_00077', 'f_00187', 'f_00117', 'f_00109', 'f_00149']\n"
     ]
    },
    {
     "name": "stderr",
     "output_type": "stream",
     "text": [
      "Epoch:   0%|                                                                                     | 0/20 [00:00<?, ?it/s]"
     ]
    },
    {
     "name": "stdout",
     "output_type": "stream",
     "text": [
      "Group 0\n",
      "At round 67 accuracy: 0.7818181818181819\n",
      "At round 67 training accuracy: 0.7752261656228253\n",
      "At round 67 training loss: 0.8239717641138914\n",
      "Group 1\n",
      "At round 67 accuracy: 0.5324232081911263\n",
      "At round 67 training accuracy: 0.5332792207792207\n",
      "At round 67 training loss: 1.723128906632592\n",
      "Group 2\n",
      "At round 67 accuracy: 0.7062256809338522\n",
      "At round 67 training accuracy: 0.7086527929901424\n",
      "At round 67 training loss: 0.7447781904111948\n",
      "Group 3\n",
      "At round 67 accuracy: 0.4689265536723164\n",
      "At round 67 training accuracy: 0.4738095238095238\n",
      "At round 67 training loss: 1.6705499334197467\n",
      "Group 4\n",
      "At round 67 accuracy: 0.7147540983606557\n",
      "At round 67 training accuracy: 0.6883575068600549\n",
      "At round 67 training loss: 0.844171427339257\n",
      "At round 67 mean test accuracy: 0.6174636174636174 mean train accuracy: 0.6166494123378601\n",
      "The groups difference are: [0.         1.16501415 1.2943337  0.93613444 0.54624633]\n",
      "Begin group  0 training\n"
     ]
    },
    {
     "name": "stderr",
     "output_type": "stream",
     "text": [
      "Epoch:   0%|                                                                                     | 0/20 [00:00<?, ?it/s]"
     ]
    },
    {
     "name": "stdout",
     "output_type": "stream",
     "text": [
      "Begin group  1 training\n"
     ]
    },
    {
     "name": "stderr",
     "output_type": "stream",
     "text": [
      "Epoch:  40%|██████████████████████████████▊                                              | 8/20 [00:00<00:00, 75.48it/s]"
     ]
    },
    {
     "name": "stdout",
     "output_type": "stream",
     "text": [
      "Begin group  2 training\n"
     ]
    },
    {
     "name": "stderr",
     "output_type": "stream",
     "text": [
      "Epoch:   0%|                                                                                     | 0/20 [00:00<?, ?it/s]"
     ]
    },
    {
     "name": "stdout",
     "output_type": "stream",
     "text": [
      "Begin group  3 training\n"
     ]
    },
    {
     "name": "stderr",
     "output_type": "stream",
     "text": [
      "Epoch:   0%|                                                                                     | 0/20 [00:00<?, ?it/s]"
     ]
    },
    {
     "name": "stdout",
     "output_type": "stream",
     "text": [
      "Begin group  4 training\n"
     ]
    },
    {
     "name": "stderr",
     "output_type": "stream",
     "text": [
      "                                                                                                                        \r"
     ]
    },
    {
     "name": "stdout",
     "output_type": "stream",
     "text": [
      "Group 0 is empty.\n",
      "Group 1, clients ['f_00054', 'f_00143', 'f_00011', 'f_00004', 'f_00013', 'f_00112', 'f_00132', 'f_00183', 'f_00125']\n",
      "Group 2, clients ['f_00102', 'f_00121']\n",
      "Group 3, clients ['f_00016', 'f_00186', 'f_00126', 'f_00116', 'f_00056']\n",
      "Group 4, clients ['f_00117', 'f_00099', 'f_00107', 'f_00127']\n"
     ]
    },
    {
     "name": "stderr",
     "output_type": "stream",
     "text": [
      "Epoch:   0%|                                                                                     | 0/20 [00:00<?, ?it/s]"
     ]
    },
    {
     "name": "stdout",
     "output_type": "stream",
     "text": [
      "Group 0\n",
      "At round 68 accuracy: 0.793939393939394\n",
      "At round 68 training accuracy: 0.7738343771746694\n",
      "At round 68 training loss: 0.854121768358439\n",
      "Group 1\n",
      "At round 68 accuracy: 0.5068259385665529\n",
      "At round 68 training accuracy: 0.49898538961038963\n",
      "At round 68 training loss: 1.5559486276107273\n",
      "Group 2\n",
      "At round 68 accuracy: 0.7723735408560312\n",
      "At round 68 training accuracy: 0.7809419496166484\n",
      "At round 68 training loss: 0.6375474159257958\n",
      "Group 3\n",
      "At round 68 accuracy: 0.4576271186440678\n",
      "At round 68 training accuracy: 0.46598639455782315\n",
      "At round 68 training loss: 1.8655891887286082\n",
      "Group 4\n",
      "At round 68 accuracy: 0.6852459016393443\n",
      "At round 68 training accuracy: 0.6648373186985496\n",
      "At round 68 training loss: 0.9004397764714359\n",
      "At round 68 mean test accuracy: 0.6216216216216216 mean train accuracy: 0.6212776323001036\n",
      "The groups difference are: [0.         1.16464405 1.31836672 0.95780357 0.55401892]\n",
      "Begin group  1 training\n"
     ]
    },
    {
     "name": "stderr",
     "output_type": "stream",
     "text": [
      "Epoch:  25%|███████████████████▎                                                         | 5/20 [00:00<00:00, 47.45it/s]"
     ]
    },
    {
     "name": "stdout",
     "output_type": "stream",
     "text": [
      "Begin group  2 training\n"
     ]
    },
    {
     "name": "stderr",
     "output_type": "stream",
     "text": [
      "Epoch:   0%|                                                                                     | 0/20 [00:00<?, ?it/s]"
     ]
    },
    {
     "name": "stdout",
     "output_type": "stream",
     "text": [
      "Begin group  3 training\n"
     ]
    },
    {
     "name": "stderr",
     "output_type": "stream",
     "text": [
      "Epoch:   0%|                                                                                     | 0/20 [00:00<?, ?it/s]"
     ]
    },
    {
     "name": "stdout",
     "output_type": "stream",
     "text": [
      "Begin group  4 training\n"
     ]
    },
    {
     "name": "stderr",
     "output_type": "stream",
     "text": [
      "                                                                                                                        \r"
     ]
    },
    {
     "name": "stdout",
     "output_type": "stream",
     "text": [
      "Group 0, clients ['f_00178', 'f_00118', 'f_00068']\n",
      "Group 1, clients ['f_00070', 'f_00125', 'f_00032', 'f_00013', 'f_00015']\n",
      "Group 2, clients ['f_00062', 'f_00023']\n",
      "Group 3, clients ['f_00156', 'f_00086', 'f_00100', 'f_00031', 'f_00170']\n",
      "Group 4, clients ['f_00047', 'f_00058', 'f_00199', 'f_00008', 'f_00137']\n"
     ]
    },
    {
     "name": "stderr",
     "output_type": "stream",
     "text": [
      "Epoch:   0%|                                                                                     | 0/20 [00:00<?, ?it/s]"
     ]
    },
    {
     "name": "stdout",
     "output_type": "stream",
     "text": [
      "Group 0\n",
      "At round 69 accuracy: 0.793939393939394\n",
      "At round 69 training accuracy: 0.7710508002783577\n",
      "At round 69 training loss: 0.8270985345170161\n",
      "Group 1\n",
      "At round 69 accuracy: 0.5716723549488054\n",
      "At round 69 training accuracy: 0.585836038961039\n",
      "At round 69 training loss: 1.227418678232118\n",
      "Group 2\n",
      "At round 69 accuracy: 0.6926070038910506\n",
      "At round 69 training accuracy: 0.7101861993428259\n",
      "At round 69 training loss: 0.7829263271990377\n",
      "Group 3\n",
      "At round 69 accuracy: 0.3870056497175141\n",
      "At round 69 training accuracy: 0.40374149659863945\n",
      "At round 69 training loss: 2.092925014286017\n",
      "Group 4\n",
      "At round 69 accuracy: 0.5704918032786885\n",
      "At round 69 training accuracy: 0.573500588004704\n",
      "At round 69 training loss: 1.1909756412673398\n",
      "At round 69 mean test accuracy: 0.5888773388773388 mean train accuracy: 0.6020948785092259\n",
      "The groups difference are: [0.         1.12464877 1.28163057 0.91222184 0.54206343]\n",
      "Begin group  0 training\n"
     ]
    },
    {
     "name": "stderr",
     "output_type": "stream",
     "text": [
      "Epoch:  25%|███████████████████▎                                                         | 5/20 [00:00<00:00, 42.96it/s]"
     ]
    },
    {
     "name": "stdout",
     "output_type": "stream",
     "text": [
      "Begin group  1 training\n"
     ]
    },
    {
     "name": "stderr",
     "output_type": "stream",
     "text": [
      "Epoch:   5%|███▊                                                                         | 1/20 [00:00<00:03,  5.20it/s]"
     ]
    },
    {
     "name": "stdout",
     "output_type": "stream",
     "text": [
      "Begin group  2 training\n"
     ]
    },
    {
     "name": "stderr",
     "output_type": "stream",
     "text": [
      "Epoch:   0%|                                                                                     | 0/20 [00:00<?, ?it/s]"
     ]
    },
    {
     "name": "stdout",
     "output_type": "stream",
     "text": [
      "Begin group  3 training\n"
     ]
    },
    {
     "name": "stderr",
     "output_type": "stream",
     "text": [
      "Epoch:   0%|                                                                                     | 0/20 [00:00<?, ?it/s]"
     ]
    },
    {
     "name": "stdout",
     "output_type": "stream",
     "text": [
      "Begin group  4 training\n"
     ]
    },
    {
     "name": "stderr",
     "output_type": "stream",
     "text": [
      "                                                                                                                        \r"
     ]
    },
    {
     "name": "stdout",
     "output_type": "stream",
     "text": [
      "Group 0, clients ['f_00167']\n",
      "Group 1, clients ['f_00115', 'f_00164', 'f_00142', 'f_00021', 'f_00011', 'f_00105', 'f_00014']\n",
      "Group 2, clients ['f_00102']\n",
      "Group 3, clients ['f_00061', 'f_00182']\n",
      "Group 4, clients ['f_00017', 'f_00197', 'f_00057', 'f_00099', 'f_00109', 'f_00147', 'f_00179', 'f_00097', 'f_00188']\n"
     ]
    },
    {
     "name": "stderr",
     "output_type": "stream",
     "text": [
      "Epoch:   0%|                                                                                     | 0/20 [00:00<?, ?it/s]"
     ]
    },
    {
     "name": "stdout",
     "output_type": "stream",
     "text": [
      "Group 0\n",
      "At round 70 accuracy: 0.7454545454545455\n",
      "At round 70 training accuracy: 0.7696590118302018\n",
      "At round 70 training loss: 0.9181522353083704\n",
      "Group 1\n",
      "At round 70 accuracy: 0.6860068259385665\n",
      "At round 70 training accuracy: 0.6868912337662337\n",
      "At round 70 training loss: 1.0966389076784253\n",
      "Group 2\n",
      "At round 70 accuracy: 0.8171206225680934\n",
      "At round 70 training accuracy: 0.8140197152245345\n",
      "At round 70 training loss: 0.7127392577837749\n",
      "Group 3\n",
      "At round 70 accuracy: 0.635593220338983\n",
      "At round 70 training accuracy: 0.6622448979591836\n",
      "At round 70 training loss: 1.0919410036737416\n",
      "Group 4\n",
      "At round 70 accuracy: 0.5672131147540984\n",
      "At round 70 training accuracy: 0.5390043120344963\n",
      "At round 70 training loss: 0.9334173883727278\n",
      "At round 70 mean test accuracy: 0.6980249480249481 mean train accuracy: 0.7020887887461178\n",
      "The groups difference are: [0.         1.11858165 1.31999135 0.92604082 0.57130853]\n",
      "Begin group  0 training\n",
      "Begin group  1 training\n"
     ]
    },
    {
     "name": "stderr",
     "output_type": "stream",
     "text": [
      "Epoch:  25%|███████████████████▎                                                         | 5/20 [00:00<00:00, 46.99it/s]"
     ]
    },
    {
     "name": "stdout",
     "output_type": "stream",
     "text": [
      "Begin group  2 training\n"
     ]
    },
    {
     "name": "stderr",
     "output_type": "stream",
     "text": [
      "Epoch:   0%|                                                                                     | 0/20 [00:00<?, ?it/s]"
     ]
    },
    {
     "name": "stdout",
     "output_type": "stream",
     "text": [
      "Begin group  3 training\n",
      "Begin group  4 training\n"
     ]
    },
    {
     "name": "stderr",
     "output_type": "stream",
     "text": [
      "                                                                                                                        \r"
     ]
    },
    {
     "name": "stdout",
     "output_type": "stream",
     "text": [
      "Group 0, clients ['f_00108', 'f_00028']\n",
      "Group 1, clients ['f_00132', 'f_00145', 'f_00064', 'f_00034', 'f_00175']\n",
      "Group 2, clients ['f_00122', 'f_00121', 'f_00073']\n",
      "Group 3, clients ['f_00031', 'f_00136', 'f_00020', 'f_00106', 'f_00182', 'f_00130', 'f_00100']\n",
      "Group 4, clients ['f_00069', 'f_00189', 'f_00147']\n"
     ]
    },
    {
     "name": "stderr",
     "output_type": "stream",
     "text": [
      "Epoch:  45%|██████████████████████████████████▋                                          | 9/20 [00:00<00:00, 82.74it/s]"
     ]
    },
    {
     "name": "stdout",
     "output_type": "stream",
     "text": [
      "Group 0\n",
      "At round 71 accuracy: 0.6303030303030303\n",
      "At round 71 training accuracy: 0.6242171189979123\n",
      "At round 71 training loss: 1.0270933819132375\n",
      "Group 1\n",
      "At round 71 accuracy: 0.5597269624573379\n",
      "At round 71 training accuracy: 0.5509334415584416\n",
      "At round 71 training loss: 1.332525150033996\n",
      "Group 2\n",
      "At round 71 accuracy: 0.8035019455252919\n",
      "At round 71 training accuracy: 0.8168674698795181\n",
      "At round 71 training loss: 0.7878427439555934\n",
      "Group 3\n",
      "At round 71 accuracy: 0.2824858757062147\n",
      "At round 71 training accuracy: 0.28843537414965986\n",
      "At round 71 training loss: 2.0015294291839307\n",
      "Group 4\n",
      "At round 71 accuracy: 0.6688524590163935\n",
      "At round 71 training accuracy: 0.6389651117208938\n",
      "At round 71 training loss: 0.8428242666167122\n",
      "At round 71 mean test accuracy: 0.5971933471933472 mean train accuracy: 0.5979538395956397\n",
      "The groups difference are: [0.         1.14020367 1.3197557  0.9131013  0.50995564]\n",
      "Begin group  0 training\n"
     ]
    },
    {
     "name": "stderr",
     "output_type": "stream",
     "text": [
      "Epoch:   0%|                                                                                     | 0/20 [00:00<?, ?it/s]"
     ]
    },
    {
     "name": "stdout",
     "output_type": "stream",
     "text": [
      "Begin group  1 training\n"
     ]
    },
    {
     "name": "stderr",
     "output_type": "stream",
     "text": [
      "Epoch:  20%|███████████████▍                                                             | 4/20 [00:00<00:00, 36.02it/s]"
     ]
    },
    {
     "name": "stdout",
     "output_type": "stream",
     "text": [
      "Begin group  2 training\n"
     ]
    },
    {
     "name": "stderr",
     "output_type": "stream",
     "text": [
      "Epoch:  35%|██████████████████████████▉                                                  | 7/20 [00:00<00:00, 63.10it/s]"
     ]
    },
    {
     "name": "stdout",
     "output_type": "stream",
     "text": [
      "Begin group  3 training\n"
     ]
    },
    {
     "name": "stderr",
     "output_type": "stream",
     "text": [
      "Epoch:  50%|██████████████████████████████████████                                      | 10/20 [00:00<00:00, 92.74it/s]"
     ]
    },
    {
     "name": "stdout",
     "output_type": "stream",
     "text": [
      "Begin group  4 training\n"
     ]
    },
    {
     "name": "stderr",
     "output_type": "stream",
     "text": [
      "                                                                                                                        \r"
     ]
    },
    {
     "name": "stdout",
     "output_type": "stream",
     "text": [
      "Group 0 is empty.\n",
      "Group 1, clients ['f_00083', 'f_00141', 'f_00191', 'f_00175']\n",
      "Group 2, clients ['f_00023']\n",
      "Group 3, clients ['f_00043', 'f_00182', 'f_00176', 'f_00036', 'f_00133', 'f_00186', 'f_00086']\n",
      "Group 4, clients ['f_00177', 'f_00169', 'f_00187', 'f_00088', 'f_00049', 'f_00059', 'f_00197', 'f_00039']\n"
     ]
    },
    {
     "name": "stderr",
     "output_type": "stream",
     "text": [
      "Epoch:   0%|                                                                                     | 0/20 [00:00<?, ?it/s]"
     ]
    },
    {
     "name": "stdout",
     "output_type": "stream",
     "text": [
      "Group 0\n",
      "At round 72 accuracy: 0.7696969696969697\n",
      "At round 72 training accuracy: 0.7710508002783577\n",
      "At round 72 training loss: 0.6940838428487691\n",
      "Group 1\n",
      "At round 72 accuracy: 0.5563139931740614\n",
      "At round 72 training accuracy: 0.5740665584415584\n",
      "At round 72 training loss: 1.385892149308914\n",
      "Group 2\n",
      "At round 72 accuracy: 0.7840466926070039\n",
      "At round 72 training accuracy: 0.7975903614457831\n",
      "At round 72 training loss: 0.6018048173887706\n",
      "Group 3\n",
      "At round 72 accuracy: 0.556497175141243\n",
      "At round 72 training accuracy: 0.567687074829932\n",
      "At round 72 training loss: 1.1678111667333007\n",
      "Group 4\n",
      "At round 72 accuracy: 0.6622950819672131\n",
      "At round 72 training accuracy: 0.6076048608388868\n",
      "At round 72 training loss: 1.499481563817422\n",
      "At round 72 mean test accuracy: 0.6522869022869023 mean train accuracy: 0.6575117227939833\n",
      "The groups difference are: [0.         1.14764842 1.31492907 0.90070613 0.56773533]\n",
      "Begin group  1 training\n"
     ]
    },
    {
     "name": "stderr",
     "output_type": "stream",
     "text": [
      "Epoch:  35%|██████████████████████████▉                                                  | 7/20 [00:00<00:00, 69.21it/s]"
     ]
    },
    {
     "name": "stdout",
     "output_type": "stream",
     "text": [
      "Begin group  2 training\n"
     ]
    },
    {
     "name": "stderr",
     "output_type": "stream",
     "text": [
      "Epoch:   0%|                                                                                     | 0/20 [00:00<?, ?it/s]"
     ]
    },
    {
     "name": "stdout",
     "output_type": "stream",
     "text": [
      "Begin group  3 training\n"
     ]
    },
    {
     "name": "stderr",
     "output_type": "stream",
     "text": [
      "Epoch:  30%|███████████████████████                                                      | 6/20 [00:00<00:00, 52.72it/s]"
     ]
    },
    {
     "name": "stdout",
     "output_type": "stream",
     "text": [
      "Begin group  4 training\n"
     ]
    },
    {
     "name": "stderr",
     "output_type": "stream",
     "text": [
      "                                                                                                                        \r"
     ]
    },
    {
     "name": "stdout",
     "output_type": "stream",
     "text": [
      "Group 0 is empty.\n",
      "Group 1, clients ['f_00153', 'f_00185', 'f_00091', 'f_00165', 'f_00021', 'f_00014', 'f_00183', 'f_00032', 'f_00092', 'f_00105', 'f_00045', 'f_00111']\n",
      "Group 2, clients ['f_00052']\n",
      "Group 3, clients ['f_00033', 'f_00161', 'f_00001', 'f_00196']\n",
      "Group 4, clients ['f_00089', 'f_00007', 'f_00169']\n"
     ]
    },
    {
     "name": "stderr",
     "output_type": "stream",
     "text": [
      "Epoch:  55%|█████████████████████████████████████████▎                                 | 11/20 [00:00<00:00, 109.55it/s]"
     ]
    },
    {
     "name": "stdout",
     "output_type": "stream",
     "text": [
      "Group 0\n",
      "At round 73 accuracy: 0.7757575757575758\n",
      "At round 73 training accuracy: 0.7703549060542797\n",
      "At round 73 training loss: 0.6763431790103992\n",
      "Group 1\n",
      "At round 73 accuracy: 0.5563139931740614\n",
      "At round 73 training accuracy: 0.5296266233766234\n",
      "At round 73 training loss: 1.3380813255494872\n",
      "Group 2\n",
      "At round 73 accuracy: 0.7237354085603113\n",
      "At round 73 training accuracy: 0.7025191675794086\n",
      "At round 73 training loss: 1.1087418487338352\n",
      "Group 3\n",
      "At round 73 accuracy: 0.3870056497175141\n",
      "At round 73 training accuracy: 0.40476190476190477\n",
      "At round 73 training loss: 1.8100851252979162\n",
      "Group 4\n",
      "At round 73 accuracy: 0.6622950819672131\n",
      "At round 73 training accuracy: 0.6354370834966679\n",
      "At round 73 training loss: 0.8693734706733237\n",
      "At round 73 mean test accuracy: 0.6055093555093555 mean train accuracy: 0.5928384385847391\n",
      "The groups difference are: [0.         1.10043399 1.28928912 0.85990588 0.51489508]\n",
      "Begin group  1 training\n"
     ]
    },
    {
     "name": "stderr",
     "output_type": "stream",
     "text": [
      "Epoch:  25%|███████████████████▎                                                         | 5/20 [00:00<00:00, 47.60it/s]"
     ]
    },
    {
     "name": "stdout",
     "output_type": "stream",
     "text": [
      "Begin group  2 training\n"
     ]
    },
    {
     "name": "stderr",
     "output_type": "stream",
     "text": [
      "Epoch:   0%|                                                                                     | 0/20 [00:00<?, ?it/s]"
     ]
    },
    {
     "name": "stdout",
     "output_type": "stream",
     "text": [
      "Begin group  3 training\n"
     ]
    },
    {
     "name": "stderr",
     "output_type": "stream",
     "text": [
      "Epoch:   0%|                                                                                     | 0/20 [00:00<?, ?it/s]"
     ]
    },
    {
     "name": "stdout",
     "output_type": "stream",
     "text": [
      "Begin group  4 training\n"
     ]
    },
    {
     "name": "stderr",
     "output_type": "stream",
     "text": [
      "                                                                                                                        \r"
     ]
    },
    {
     "name": "stdout",
     "output_type": "stream",
     "text": [
      "Group 0, clients ['f_00067']\n",
      "Group 1, clients ['f_00101', 'f_00194', 'f_00185', 'f_00022', 'f_00084', 'f_00145']\n",
      "Group 2, clients ['f_00122', 'f_00072', 'f_00093']\n",
      "Group 3, clients ['f_00176', 'f_00136', 'f_00046', 'f_00100', 'f_00130', 'f_00140']\n",
      "Group 4, clients ['f_00117', 'f_00069', 'f_00097', 'f_00109']\n"
     ]
    },
    {
     "name": "stderr",
     "output_type": "stream",
     "text": [
      "Epoch:  15%|███████████▌                                                                 | 3/20 [00:00<00:00, 23.06it/s]"
     ]
    },
    {
     "name": "stdout",
     "output_type": "stream",
     "text": [
      "Group 0\n",
      "At round 74 accuracy: 0.7818181818181819\n",
      "At round 74 training accuracy: 0.7807933194154488\n",
      "At round 74 training loss: 0.6619140896311052\n",
      "Group 1\n",
      "At round 74 accuracy: 0.7337883959044369\n",
      "At round 74 training accuracy: 0.7418831168831169\n",
      "At round 74 training loss: 1.0537201626492398\n",
      "Group 2\n",
      "At round 74 accuracy: 0.8151750972762646\n",
      "At round 74 training accuracy: 0.8094194961664841\n",
      "At round 74 training loss: 0.6073709055144841\n",
      "Group 3\n",
      "At round 74 accuracy: 0.3954802259887006\n",
      "At round 74 training accuracy: 0.4091836734693878\n",
      "At round 74 training loss: 1.646914898609223\n",
      "Group 4\n",
      "At round 74 accuracy: 0.6983606557377049\n",
      "At round 74 training accuracy: 0.6244609956879655\n",
      "At round 74 training loss: 0.8411148996364365\n",
      "At round 74 mean test accuracy: 0.6917879417879418 mean train accuracy: 0.6862554046647585\n",
      "The groups difference are: [0.         1.06875806 1.2707622  0.82692978 0.50143629]\n",
      "Begin group  0 training\n"
     ]
    },
    {
     "name": "stderr",
     "output_type": "stream",
     "text": [
      "Epoch:   0%|                                                                                     | 0/20 [00:00<?, ?it/s]"
     ]
    },
    {
     "name": "stdout",
     "output_type": "stream",
     "text": [
      "Begin group  1 training\n"
     ]
    },
    {
     "name": "stderr",
     "output_type": "stream",
     "text": [
      "Epoch:  20%|███████████████▍                                                             | 4/20 [00:00<00:00, 36.92it/s]"
     ]
    },
    {
     "name": "stdout",
     "output_type": "stream",
     "text": [
      "Begin group  2 training\n"
     ]
    },
    {
     "name": "stderr",
     "output_type": "stream",
     "text": [
      "Epoch:  40%|██████████████████████████████▊                                              | 8/20 [00:00<00:00, 77.85it/s]"
     ]
    },
    {
     "name": "stdout",
     "output_type": "stream",
     "text": [
      "Begin group  3 training\n"
     ]
    },
    {
     "name": "stderr",
     "output_type": "stream",
     "text": [
      "Epoch:   0%|                                                                                     | 0/20 [00:00<?, ?it/s]"
     ]
    },
    {
     "name": "stdout",
     "output_type": "stream",
     "text": [
      "Begin group  4 training\n"
     ]
    },
    {
     "name": "stderr",
     "output_type": "stream",
     "text": [
      "                                                                                                                        \r"
     ]
    },
    {
     "name": "stdout",
     "output_type": "stream",
     "text": [
      "Group 0, clients ['f_00068', 'f_00167', 'f_00028']\n",
      "Group 1, clients ['f_00142', 'f_00022', 'f_00085', 'f_00091', 'f_00035']\n",
      "Group 2, clients ['f_00002', 'f_00062']\n",
      "Group 3, clients ['f_00086', 'f_00061', 'f_00006', 'f_00160']\n",
      "Group 4, clients ['f_00049', 'f_00119', 'f_00139', 'f_00147', 'f_00107', 'f_00177']\n"
     ]
    },
    {
     "name": "stderr",
     "output_type": "stream",
     "text": [
      "Epoch:  35%|██████████████████████████▉                                                  | 7/20 [00:00<00:00, 67.38it/s]"
     ]
    },
    {
     "name": "stdout",
     "output_type": "stream",
     "text": [
      "Group 0\n",
      "At round 75 accuracy: 0.6181818181818182\n",
      "At round 75 training accuracy: 0.6242171189979123\n",
      "At round 75 training loss: 1.1748833676635513\n",
      "Group 1\n",
      "At round 75 accuracy: 0.5358361774744027\n",
      "At round 75 training accuracy: 0.5359172077922078\n",
      "At round 75 training loss: 1.3131807596519494\n",
      "Group 2\n",
      "At round 75 accuracy: 0.7431906614785992\n",
      "At round 75 training accuracy: 0.7511500547645126\n",
      "At round 75 training loss: 0.6232908754790077\n",
      "Group 3\n",
      "At round 75 accuracy: 0.7401129943502824\n",
      "At round 75 training accuracy: 0.7523809523809524\n",
      "At round 75 training loss: 0.9918735749664761\n",
      "Group 4\n",
      "At round 75 accuracy: 0.6950819672131148\n",
      "At round 75 training accuracy: 0.6244609956879655\n",
      "At round 75 training loss: 0.8421204199701232\n",
      "At round 75 mean test accuracy: 0.6611226611226612 mean train accuracy: 0.6559892820169295\n",
      "The groups difference are: [0.         1.09289208 1.29575323 0.84259958 0.50038387]\n",
      "Begin group  0 training\n"
     ]
    },
    {
     "name": "stderr",
     "output_type": "stream",
     "text": [
      "Epoch:   0%|                                                                                     | 0/20 [00:00<?, ?it/s]"
     ]
    },
    {
     "name": "stdout",
     "output_type": "stream",
     "text": [
      "Begin group  1 training\n"
     ]
    },
    {
     "name": "stderr",
     "output_type": "stream",
     "text": [
      "Epoch:  40%|██████████████████████████████▊                                              | 8/20 [00:00<00:00, 70.16it/s]"
     ]
    },
    {
     "name": "stdout",
     "output_type": "stream",
     "text": [
      "Begin group  2 training\n"
     ]
    },
    {
     "name": "stderr",
     "output_type": "stream",
     "text": [
      "Epoch:   0%|                                                                                     | 0/20 [00:00<?, ?it/s]"
     ]
    },
    {
     "name": "stdout",
     "output_type": "stream",
     "text": [
      "Begin group  3 training\n"
     ]
    },
    {
     "name": "stderr",
     "output_type": "stream",
     "text": [
      "Epoch:  55%|█████████████████████████████████████████▎                                 | 11/20 [00:00<00:00, 103.47it/s]"
     ]
    },
    {
     "name": "stdout",
     "output_type": "stream",
     "text": [
      "Begin group  4 training\n"
     ]
    },
    {
     "name": "stderr",
     "output_type": "stream",
     "text": [
      "                                                                                                                        \r"
     ]
    },
    {
     "name": "stdout",
     "output_type": "stream",
     "text": [
      "Group 0, clients ['f_00178']\n",
      "Group 1, clients ['f_00092', 'f_00115', 'f_00074', 'f_00164', 'f_00094', 'f_00032', 'f_00022', 'f_00051', 'f_00021']\n",
      "Group 2, clients ['f_00122']\n",
      "Group 3, clients ['f_00096', 'f_00050', 'f_00095']\n",
      "Group 4, clients ['f_00157', 'f_00007', 'f_00107', 'f_00009', 'f_00059', 'f_00179']\n"
     ]
    },
    {
     "name": "stderr",
     "output_type": "stream",
     "text": [
      "Epoch:   0%|                                                                                     | 0/20 [00:00<?, ?it/s]"
     ]
    },
    {
     "name": "stdout",
     "output_type": "stream",
     "text": [
      "Group 0\n",
      "At round 76 accuracy: 0.7878787878787878\n",
      "At round 76 training accuracy: 0.7522616562282533\n",
      "At round 76 training loss: 0.6186501929431469\n",
      "Group 1\n",
      "At round 76 accuracy: 0.6825938566552902\n",
      "At round 76 training accuracy: 0.6836444805194806\n",
      "At round 76 training loss: 1.1184095123226379\n",
      "Group 2\n",
      "At round 76 accuracy: 0.8151750972762646\n",
      "At round 76 training accuracy: 0.8194961664841183\n",
      "At round 76 training loss: 0.6904703817780151\n",
      "Group 3\n",
      "At round 76 accuracy: 0.4717514124293785\n",
      "At round 76 training accuracy: 0.4751700680272109\n",
      "At round 76 training loss: 1.416254174912057\n",
      "Group 4\n",
      "At round 76 accuracy: 0.7016393442622951\n",
      "At round 76 training accuracy: 0.6758134065072521\n",
      "At round 76 training loss: 0.8358237150836019\n",
      "At round 76 mean test accuracy: 0.6912681912681913 mean train accuracy: 0.6888740028012911\n",
      "The groups difference are: [0.         1.09135581 1.31114265 0.88445455 0.46664606]\n",
      "Begin group  0 training\n",
      "Begin group  1 training\n"
     ]
    },
    {
     "name": "stderr",
     "output_type": "stream",
     "text": [
      "Epoch:  20%|███████████████▍                                                             | 4/20 [00:00<00:00, 38.63it/s]"
     ]
    },
    {
     "name": "stdout",
     "output_type": "stream",
     "text": [
      "Begin group  2 training\n"
     ]
    },
    {
     "name": "stderr",
     "output_type": "stream",
     "text": [
      "Epoch:  50%|██████████████████████████████████████                                      | 10/20 [00:00<00:00, 98.45it/s]"
     ]
    },
    {
     "name": "stdout",
     "output_type": "stream",
     "text": [
      "Begin group  3 training\n"
     ]
    },
    {
     "name": "stderr",
     "output_type": "stream",
     "text": [
      "Epoch:   0%|                                                                                     | 0/20 [00:00<?, ?it/s]"
     ]
    },
    {
     "name": "stdout",
     "output_type": "stream",
     "text": [
      "Begin group  4 training\n"
     ]
    },
    {
     "name": "stderr",
     "output_type": "stream",
     "text": [
      "                                                                                                                        \r"
     ]
    },
    {
     "name": "stdout",
     "output_type": "stream",
     "text": [
      "Group 0, clients ['f_00048']\n",
      "Group 1, clients ['f_00074', 'f_00174', 'f_00013', 'f_00154', 'f_00191']\n",
      "Group 2, clients ['f_00123']\n",
      "Group 3, clients ['f_00016', 'f_00020', 'f_00090', 'f_00170', 'f_00193', 'f_00182']\n",
      "Group 4, clients ['f_00127', 'f_00049', 'f_00107', 'f_00149', 'f_00017', 'f_00058', 'f_00008']\n"
     ]
    },
    {
     "name": "stderr",
     "output_type": "stream",
     "text": [
      "Epoch:   0%|                                                                                     | 0/20 [00:00<?, ?it/s]"
     ]
    },
    {
     "name": "stdout",
     "output_type": "stream",
     "text": [
      "Group 0\n",
      "At round 77 accuracy: 0.7515151515151515\n",
      "At round 77 training accuracy: 0.7543493389004872\n",
      "At round 77 training loss: 0.72486310066991\n",
      "Group 1\n",
      "At round 77 accuracy: 0.5494880546075085\n",
      "At round 77 training accuracy: 0.5616883116883117\n",
      "At round 77 training loss: 1.356774303445278\n",
      "Group 2\n",
      "At round 77 accuracy: 0.8132295719844358\n",
      "At round 77 training accuracy: 0.8096385542168675\n",
      "At round 77 training loss: 0.7518701321128164\n",
      "Group 3\n",
      "At round 77 accuracy: 0.3926553672316384\n",
      "At round 77 training accuracy: 0.4085034013605442\n",
      "At round 77 training loss: 1.5674834657384424\n",
      "Group 4\n",
      "At round 77 accuracy: 0.6655737704918033\n",
      "At round 77 training accuracy: 0.6326930615444923\n",
      "At round 77 training loss: 0.8878519075704714\n",
      "At round 77 mean test accuracy: 0.6268191268191268 mean train accuracy: 0.6310821509043298\n",
      "The groups difference are: [0.         1.12380719 1.31508784 0.86803663 0.47640898]\n",
      "Begin group  0 training\n",
      "Begin group  1 training\n"
     ]
    },
    {
     "name": "stderr",
     "output_type": "stream",
     "text": [
      "Epoch:  20%|███████████████▍                                                             | 4/20 [00:00<00:00, 31.70it/s]"
     ]
    },
    {
     "name": "stdout",
     "output_type": "stream",
     "text": [
      "Begin group  2 training\n"
     ]
    },
    {
     "name": "stderr",
     "output_type": "stream",
     "text": [
      "Epoch:  70%|████████████████████████████████████████████████████▌                      | 14/20 [00:00<00:00, 135.79it/s]"
     ]
    },
    {
     "name": "stdout",
     "output_type": "stream",
     "text": [
      "Begin group  3 training\n"
     ]
    },
    {
     "name": "stderr",
     "output_type": "stream",
     "text": [
      "Epoch:   0%|                                                                                     | 0/20 [00:00<?, ?it/s]"
     ]
    },
    {
     "name": "stdout",
     "output_type": "stream",
     "text": [
      "Begin group  4 training\n"
     ]
    },
    {
     "name": "stderr",
     "output_type": "stream",
     "text": [
      "                                                                                                                        \r"
     ]
    },
    {
     "name": "stdout",
     "output_type": "stream",
     "text": [
      "Group 0, clients ['f_00118', 'f_00138']\n",
      "Group 1, clients ['f_00173', 'f_00132', 'f_00080', 'f_00004']\n",
      "Group 2, clients ['f_00002', 'f_00042']\n",
      "Group 3, clients ['f_00006', 'f_00050', 'f_00190', 'f_00128', 'f_00193', 'f_00024', 'f_00196']\n",
      "Group 4, clients ['f_00099', 'f_00079', 'f_00089', 'f_00049', 'f_00039']\n"
     ]
    },
    {
     "name": "stderr",
     "output_type": "stream",
     "text": [
      "Epoch:  20%|███████████████▍                                                             | 4/20 [00:00<00:00, 37.26it/s]"
     ]
    },
    {
     "name": "stdout",
     "output_type": "stream",
     "text": [
      "Group 0\n",
      "At round 78 accuracy: 0.7696969696969697\n",
      "At round 78 training accuracy: 0.7710508002783577\n",
      "At round 78 training loss: 0.7335415923230417\n",
      "Group 1\n",
      "At round 78 accuracy: 0.5324232081911263\n",
      "At round 78 training accuracy: 0.541801948051948\n",
      "At round 78 training loss: 1.4569362626144928\n",
      "Group 2\n",
      "At round 78 accuracy: 0.6459143968871596\n",
      "At round 78 training accuracy: 0.6230010952902519\n",
      "At round 78 training loss: 1.3102944048119531\n",
      "Group 3\n",
      "At round 78 accuracy: 0.4689265536723164\n",
      "At round 78 training accuracy: 0.4595238095238095\n",
      "At round 78 training loss: 1.6353031091442725\n",
      "Group 4\n",
      "At round 78 accuracy: 0.6950819672131148\n",
      "At round 78 training accuracy: 0.6738533908271266\n",
      "At round 78 training loss: 0.8444266430610117\n",
      "At round 78 mean test accuracy: 0.5971933471933472 mean train accuracy: 0.5902198404482065\n",
      "The groups difference are: [0.         1.11378886 1.3037444  0.86838855 0.4602563 ]\n",
      "Begin group  0 training\n"
     ]
    },
    {
     "name": "stderr",
     "output_type": "stream",
     "text": [
      "Epoch:   0%|                                                                                     | 0/20 [00:00<?, ?it/s]"
     ]
    },
    {
     "name": "stdout",
     "output_type": "stream",
     "text": [
      "Begin group  1 training\n"
     ]
    },
    {
     "name": "stderr",
     "output_type": "stream",
     "text": [
      "Epoch:  35%|██████████████████████████▉                                                  | 7/20 [00:00<00:00, 63.40it/s]"
     ]
    },
    {
     "name": "stdout",
     "output_type": "stream",
     "text": [
      "Begin group  2 training\n"
     ]
    },
    {
     "name": "stderr",
     "output_type": "stream",
     "text": [
      "Epoch:   0%|                                                                                     | 0/20 [00:00<?, ?it/s]"
     ]
    },
    {
     "name": "stdout",
     "output_type": "stream",
     "text": [
      "Begin group  3 training\n"
     ]
    },
    {
     "name": "stderr",
     "output_type": "stream",
     "text": [
      "Epoch:  40%|██████████████████████████████▊                                              | 8/20 [00:00<00:00, 79.39it/s]"
     ]
    },
    {
     "name": "stdout",
     "output_type": "stream",
     "text": [
      "Begin group  4 training\n"
     ]
    },
    {
     "name": "stderr",
     "output_type": "stream",
     "text": [
      "                                                                                                                        \r"
     ]
    },
    {
     "name": "stdout",
     "output_type": "stream",
     "text": [
      "Group 0, clients ['f_00098']\n",
      "Group 1, clients ['f_00054', 'f_00091', 'f_00185', 'f_00154', 'f_00045']\n",
      "Group 2, clients ['f_00042']\n",
      "Group 3, clients ['f_00128', 'f_00196', 'f_00131', 'f_00000', 'f_00180', 'f_00120']\n",
      "Group 4, clients ['f_00139', 'f_00007', 'f_00137', 'f_00097', 'f_00029', 'f_00127', 'f_00069']\n"
     ]
    },
    {
     "name": "stderr",
     "output_type": "stream",
     "text": [
      "Epoch:  20%|███████████████▍                                                             | 4/20 [00:00<00:00, 34.13it/s]"
     ]
    },
    {
     "name": "stdout",
     "output_type": "stream",
     "text": [
      "Group 0\n",
      "At round 79 accuracy: 0.696969696969697\n",
      "At round 79 training accuracy: 0.6931106471816284\n",
      "At round 79 training loss: 0.9333178109814081\n",
      "Group 1\n",
      "At round 79 accuracy: 0.6484641638225256\n",
      "At round 79 training accuracy: 0.6420454545454546\n",
      "At round 79 training loss: 1.3006654710133936\n",
      "Group 2\n",
      "At round 79 accuracy: 0.8151750972762646\n",
      "At round 79 training accuracy: 0.8164293537787514\n",
      "At round 79 training loss: 0.591020651120868\n",
      "Group 3\n",
      "At round 79 accuracy: 0.6977401129943502\n",
      "At round 79 training accuracy: 0.7204081632653061\n",
      "At round 79 training loss: 0.9950822528527707\n",
      "Group 4\n",
      "At round 79 accuracy: 0.6622950819672131\n",
      "At round 79 training accuracy: 0.6068208545668365\n",
      "At round 79 training loss: 1.486532479127404\n",
      "At round 79 mean test accuracy: 0.7084199584199584 mean train accuracy: 0.7035503318920894\n",
      "The groups difference are: [0.         1.08677918 1.30355649 0.86568087 0.51998728]\n",
      "Begin group  0 training\n"
     ]
    },
    {
     "name": "stderr",
     "output_type": "stream",
     "text": [
      "Epoch:  35%|██████████████████████████▉                                                  | 7/20 [00:00<00:00, 62.90it/s]"
     ]
    },
    {
     "name": "stdout",
     "output_type": "stream",
     "text": [
      "Begin group  1 training\n"
     ]
    },
    {
     "name": "stderr",
     "output_type": "stream",
     "text": [
      "Epoch:   0%|                                                                                     | 0/20 [00:00<?, ?it/s]"
     ]
    },
    {
     "name": "stdout",
     "output_type": "stream",
     "text": [
      "Begin group  2 training\n",
      "Begin group  3 training\n"
     ]
    },
    {
     "name": "stderr",
     "output_type": "stream",
     "text": [
      "Epoch:   0%|                                                                                     | 0/20 [00:00<?, ?it/s]"
     ]
    },
    {
     "name": "stdout",
     "output_type": "stream",
     "text": [
      "Begin group  4 training\n"
     ]
    },
    {
     "name": "stderr",
     "output_type": "stream",
     "text": [
      "                                                                                                                        \r"
     ]
    },
    {
     "name": "stdout",
     "output_type": "stream",
     "text": [
      "Group 0, clients ['f_00028']\n",
      "Group 1, clients ['f_00142', 'f_00021', 'f_00005', 'f_00104', 'f_00022', 'f_00025', 'f_00092']\n",
      "Group 2, clients ['f_00023']\n",
      "Group 3, clients ['f_00161', 'f_00061', 'f_00060', 'f_00130', 'f_00030']\n",
      "Group 4, clients ['f_00109', 'f_00168', 'f_00097', 'f_00029', 'f_00049', 'f_00149']\n"
     ]
    },
    {
     "name": "stderr",
     "output_type": "stream",
     "text": [
      "Epoch:   0%|                                                                                     | 0/20 [00:00<?, ?it/s]"
     ]
    },
    {
     "name": "stdout",
     "output_type": "stream",
     "text": [
      "Group 0\n",
      "At round 80 accuracy: 0.7878787878787878\n",
      "At round 80 training accuracy: 0.7863604732080723\n",
      "At round 80 training loss: 0.8517966824392519\n",
      "Group 1\n",
      "At round 80 accuracy: 0.71160409556314\n",
      "At round 80 training accuracy: 0.7049512987012987\n",
      "At round 80 training loss: 1.0283297301427303\n",
      "Group 2\n",
      "At round 80 accuracy: 0.4669260700389105\n",
      "At round 80 training accuracy: 0.468565169769989\n",
      "At round 80 training loss: 1.3076030160485066\n",
      "Group 3\n",
      "At round 80 accuracy: 0.4632768361581921\n",
      "At round 80 training accuracy: 0.46870748299319726\n",
      "At round 80 training loss: 1.6913799383050325\n",
      "Group 4\n",
      "At round 80 accuracy: 0.6065573770491803\n",
      "At round 80 training accuracy: 0.5617404939239514\n",
      "At round 80 training loss: 0.9520136236279958\n",
      "At round 80 mean test accuracy: 0.5904365904365905 mean train accuracy: 0.5818159673588698\n",
      "The groups difference are: [0.         1.11874059 1.30014372 0.90309153 0.5335477 ]\n",
      "Begin group  0 training\n",
      "Begin group  1 training\n"
     ]
    },
    {
     "name": "stderr",
     "output_type": "stream",
     "text": [
      "Epoch:  35%|██████████████████████████▉                                                  | 7/20 [00:00<00:00, 67.33it/s]"
     ]
    },
    {
     "name": "stdout",
     "output_type": "stream",
     "text": [
      "Begin group  2 training\n"
     ]
    },
    {
     "name": "stderr",
     "output_type": "stream",
     "text": [
      "Epoch:   0%|                                                                                     | 0/20 [00:00<?, ?it/s]"
     ]
    },
    {
     "name": "stdout",
     "output_type": "stream",
     "text": [
      "Begin group  3 training\n"
     ]
    },
    {
     "name": "stderr",
     "output_type": "stream",
     "text": [
      "Epoch:   0%|                                                                                     | 0/20 [00:00<?, ?it/s]"
     ]
    },
    {
     "name": "stdout",
     "output_type": "stream",
     "text": [
      "Begin group  4 training\n"
     ]
    },
    {
     "name": "stderr",
     "output_type": "stream",
     "text": [
      "                                                                                                                        \r"
     ]
    },
    {
     "name": "stdout",
     "output_type": "stream",
     "text": [
      "Group 0, clients ['f_00068']\n",
      "Group 1, clients ['f_00171', 'f_00103', 'f_00044', 'f_00134', 'f_00141', 'f_00143', 'f_00032']\n",
      "Group 2, clients ['f_00073']\n",
      "Group 3, clients ['f_00182', 'f_00160', 'f_00086', 'f_00190']\n",
      "Group 4, clients ['f_00088', 'f_00037', 'f_00147', 'f_00047', 'f_00189', 'f_00187', 'f_00149']\n"
     ]
    },
    {
     "name": "stderr",
     "output_type": "stream",
     "text": [
      "Epoch:  35%|██████████████████████████▉                                                  | 7/20 [00:00<00:00, 69.10it/s]"
     ]
    },
    {
     "name": "stdout",
     "output_type": "stream",
     "text": [
      "Group 0\n",
      "At round 81 accuracy: 0.7575757575757576\n",
      "At round 81 training accuracy: 0.7348643006263048\n",
      "At round 81 training loss: 0.8787646213379186\n",
      "Group 1\n",
      "At round 81 accuracy: 0.6143344709897611\n",
      "At round 81 training accuracy: 0.6004464285714286\n",
      "At round 81 training loss: 1.1960788367364508\n",
      "Group 2\n",
      "At round 81 accuracy: 0.7276264591439688\n",
      "At round 81 training accuracy: 0.7058050383351588\n",
      "At round 81 training loss: 0.9497898915837655\n",
      "Group 3\n",
      "At round 81 accuracy: 0.4519774011299435\n",
      "At round 81 training accuracy: 0.4564625850340136\n",
      "At round 81 training loss: 2.014855343225051\n",
      "Group 4\n",
      "At round 81 accuracy: 0.6491803278688525\n",
      "At round 81 training accuracy: 0.5950607604860839\n",
      "At round 81 training loss: 1.1766128477537132\n",
      "At round 81 mean test accuracy: 0.6325363825363826 mean train accuracy: 0.6148833810364777\n",
      "The groups difference are: [0.         1.12110847 1.27936123 0.88537756 0.53353905]\n",
      "Begin group  0 training\n"
     ]
    },
    {
     "name": "stderr",
     "output_type": "stream",
     "text": [
      "Epoch:   0%|                                                                                     | 0/20 [00:00<?, ?it/s]"
     ]
    },
    {
     "name": "stdout",
     "output_type": "stream",
     "text": [
      "Begin group  1 training\n"
     ]
    },
    {
     "name": "stderr",
     "output_type": "stream",
     "text": [
      "Epoch:  20%|███████████████▍                                                             | 4/20 [00:00<00:00, 39.28it/s]"
     ]
    },
    {
     "name": "stdout",
     "output_type": "stream",
     "text": [
      "Begin group  2 training\n"
     ]
    },
    {
     "name": "stderr",
     "output_type": "stream",
     "text": [
      "Epoch:  15%|███████████▌                                                                 | 3/20 [00:00<00:00, 29.69it/s]"
     ]
    },
    {
     "name": "stdout",
     "output_type": "stream",
     "text": [
      "Begin group  3 training\n"
     ]
    },
    {
     "name": "stderr",
     "output_type": "stream",
     "text": [
      "Epoch:  40%|██████████████████████████████▊                                              | 8/20 [00:00<00:00, 73.90it/s]"
     ]
    },
    {
     "name": "stdout",
     "output_type": "stream",
     "text": [
      "Begin group  4 training\n"
     ]
    },
    {
     "name": "stderr",
     "output_type": "stream",
     "text": [
      "                                                                                                                        \r"
     ]
    },
    {
     "name": "stdout",
     "output_type": "stream",
     "text": [
      "Group 0, clients ['f_00018']\n",
      "Group 1, clients ['f_00084', 'f_00032', 'f_00191', 'f_00055', 'f_00015']\n",
      "Group 2 is empty.\n",
      "Group 3, clients ['f_00086', 'f_00151', 'f_00130', 'f_00116', 'f_00114', 'f_00066', 'f_00090', 'f_00040', 'f_00161', 'f_00026', 'f_00140', 'f_00033']\n",
      "Group 4, clients ['f_00179', 'f_00107']\n"
     ]
    },
    {
     "name": "stderr",
     "output_type": "stream",
     "text": [
      "Epoch:   0%|                                                                                     | 0/20 [00:00<?, ?it/s]"
     ]
    },
    {
     "name": "stdout",
     "output_type": "stream",
     "text": [
      "Group 0\n",
      "At round 82 accuracy: 0.7636363636363637\n",
      "At round 82 training accuracy: 0.7397355601948504\n",
      "At round 82 training loss: 0.9147380743079826\n",
      "Group 1\n",
      "At round 82 accuracy: 0.5972696245733788\n",
      "At round 82 training accuracy: 0.6211444805194806\n",
      "At round 82 training loss: 1.146915981025955\n",
      "Group 2\n",
      "At round 82 accuracy: 0.7217898832684825\n",
      "At round 82 training accuracy: 0.6996714129244249\n",
      "At round 82 training loss: 1.3126919898054554\n",
      "Group 3\n",
      "At round 82 accuracy: 0.4604519774011299\n",
      "At round 82 training accuracy: 0.46938775510204084\n",
      "At round 82 training loss: 2.184151194695713\n",
      "Group 4\n",
      "At round 82 accuracy: 0.760655737704918\n",
      "At round 82 training accuracy: 0.7103096824774598\n",
      "At round 82 training loss: 0.7871974363882184\n",
      "At round 82 mean test accuracy: 0.6455301455301455 mean train accuracy: 0.640034102673406\n",
      "The groups difference are: [0.         1.12079957 1.29673679 0.92189266 0.5359166 ]\n",
      "Begin group  0 training\n",
      "Begin group  1 training\n"
     ]
    },
    {
     "name": "stderr",
     "output_type": "stream",
     "text": [
      "Epoch:   0%|                                                                                     | 0/20 [00:00<?, ?it/s]"
     ]
    },
    {
     "name": "stdout",
     "output_type": "stream",
     "text": [
      "Begin group  3 training\n"
     ]
    },
    {
     "name": "stderr",
     "output_type": "stream",
     "text": [
      "Epoch:   0%|                                                                                     | 0/20 [00:00<?, ?it/s]"
     ]
    },
    {
     "name": "stdout",
     "output_type": "stream",
     "text": [
      "Begin group  4 training\n"
     ]
    },
    {
     "name": "stderr",
     "output_type": "stream",
     "text": [
      "                                                                                                                        \r"
     ]
    },
    {
     "name": "stdout",
     "output_type": "stream",
     "text": [
      "Group 0, clients ['f_00158', 'f_00138']\n",
      "Group 1, clients ['f_00113', 'f_00125', 'f_00071', 'f_00055', 'f_00145']\n",
      "Group 2, clients ['f_00042']\n",
      "Group 3, clients ['f_00161', 'f_00030', 'f_00151', 'f_00186', 'f_00046', 'f_00056']\n",
      "Group 4, clients ['f_00027', 'f_00069', 'f_00109', 'f_00179', 'f_00088', 'f_00147']\n"
     ]
    },
    {
     "name": "stderr",
     "output_type": "stream",
     "text": [
      "Epoch:  50%|██████████████████████████████████████                                      | 10/20 [00:00<00:00, 92.11it/s]"
     ]
    },
    {
     "name": "stdout",
     "output_type": "stream",
     "text": [
      "Group 0\n",
      "At round 83 accuracy: 0.7878787878787878\n",
      "At round 83 training accuracy: 0.7780097425191371\n",
      "At round 83 training loss: 0.8504711331471687\n",
      "Group 1\n",
      "At round 83 accuracy: 0.6484641638225256\n",
      "At round 83 training accuracy: 0.6414366883116883\n",
      "At round 83 training loss: 1.0847656156795171\n",
      "Group 2\n",
      "At round 83 accuracy: 0.7237354085603113\n",
      "At round 83 training accuracy: 0.6998904709748083\n",
      "At round 83 training loss: 1.2514898216868022\n",
      "Group 3\n",
      "At round 83 accuracy: 0.6610169491525424\n",
      "At round 83 training accuracy: 0.6976190476190476\n",
      "At round 83 training loss: 1.0108811127288\n",
      "Group 4\n",
      "At round 83 accuracy: 0.5672131147540984\n",
      "At round 83 training accuracy: 0.5131321050568405\n",
      "At round 83 training loss: 1.0196079638180944\n",
      "At round 83 mean test accuracy: 0.66995841995842 mean train accuracy: 0.6597649351440229\n",
      "The groups difference are: [0.         1.10518589 1.23522141 0.88997299 0.53240345]\n",
      "Begin group  0 training\n"
     ]
    },
    {
     "name": "stderr",
     "output_type": "stream",
     "text": [
      "Epoch:  65%|████████████████████████████████████████████████▊                          | 13/20 [00:00<00:00, 122.87it/s]"
     ]
    },
    {
     "name": "stdout",
     "output_type": "stream",
     "text": [
      "Begin group  1 training\n"
     ]
    },
    {
     "name": "stderr",
     "output_type": "stream",
     "text": [
      "Epoch:   0%|                                                                                     | 0/20 [00:00<?, ?it/s]"
     ]
    },
    {
     "name": "stdout",
     "output_type": "stream",
     "text": [
      "Begin group  2 training\n",
      "Begin group  3 training\n"
     ]
    },
    {
     "name": "stderr",
     "output_type": "stream",
     "text": [
      "Epoch:  50%|██████████████████████████████████████                                      | 10/20 [00:00<00:00, 95.95it/s]"
     ]
    },
    {
     "name": "stdout",
     "output_type": "stream",
     "text": [
      "Begin group  4 training\n"
     ]
    },
    {
     "name": "stderr",
     "output_type": "stream",
     "text": [
      "                                                                                                                        \r"
     ]
    },
    {
     "name": "stdout",
     "output_type": "stream",
     "text": [
      "Group 0, clients ['f_00028']\n",
      "Group 1, clients ['f_00012', 'f_00011', 'f_00103', 'f_00074', 'f_00025', 'f_00104', 'f_00085', 'f_00134', 'f_00054']\n",
      "Group 2 is empty.\n",
      "Group 3, clients ['f_00155', 'f_00096', 'f_00001', 'f_00120', 'f_00066']\n",
      "Group 4, clients ['f_00188', 'f_00157', 'f_00137', 'f_00059', 'f_00119']\n"
     ]
    },
    {
     "name": "stderr",
     "output_type": "stream",
     "text": [
      "Epoch:   0%|                                                                                     | 0/20 [00:00<?, ?it/s]"
     ]
    },
    {
     "name": "stdout",
     "output_type": "stream",
     "text": [
      "Group 0\n",
      "At round 84 accuracy: 0.7636363636363637\n",
      "At round 84 training accuracy: 0.7849686847599165\n",
      "At round 84 training loss: 0.8784386493841143\n",
      "Group 1\n",
      "At round 84 accuracy: 0.5511945392491467\n",
      "At round 84 training accuracy: 0.5482954545454546\n",
      "At round 84 training loss: 1.2419213237325577\n",
      "Group 2\n",
      "At round 84 accuracy: 0.7723735408560312\n",
      "At round 84 training accuracy: 0.7739320920043812\n",
      "At round 84 training loss: 0.6326711154715255\n",
      "Group 3\n",
      "At round 84 accuracy: 0.5056497175141242\n",
      "At round 84 training accuracy: 0.5163265306122449\n",
      "At round 84 training loss: 1.190220082505625\n",
      "Group 4\n",
      "At round 84 accuracy: 0.659016393442623\n",
      "At round 84 training accuracy: 0.6068208545668365\n",
      "At round 84 training loss: 1.0541811895599462\n",
      "At round 84 mean test accuracy: 0.6372141372141372 mean train accuracy: 0.6351013945557518\n",
      "The groups difference are: [0.         1.09611946 1.2125961  0.88063251 0.53187377]\n",
      "Begin group  0 training\n",
      "Begin group  1 training\n"
     ]
    },
    {
     "name": "stderr",
     "output_type": "stream",
     "text": [
      "Epoch:  45%|██████████████████████████████████▋                                          | 9/20 [00:00<00:00, 89.63it/s]"
     ]
    },
    {
     "name": "stdout",
     "output_type": "stream",
     "text": [
      "Begin group  3 training\n"
     ]
    },
    {
     "name": "stderr",
     "output_type": "stream",
     "text": [
      "Epoch:  65%|████████████████████████████████████████████████▊                          | 13/20 [00:00<00:00, 129.06it/s]"
     ]
    },
    {
     "name": "stdout",
     "output_type": "stream",
     "text": [
      "Begin group  4 training\n"
     ]
    },
    {
     "name": "stderr",
     "output_type": "stream",
     "text": [
      "                                                                                                                        \r"
     ]
    },
    {
     "name": "stdout",
     "output_type": "stream",
     "text": [
      "Group 0, clients ['f_00167', 'f_00048', 'f_00028']\n",
      "Group 1, clients ['f_00094', 'f_00070', 'f_00111', 'f_00195', 'f_00143', 'f_00055', 'f_00185']\n",
      "Group 2, clients ['f_00042', 'f_00023']\n",
      "Group 3, clients ['f_00046', 'f_00066']\n",
      "Group 4, clients ['f_00139', 'f_00157', 'f_00049', 'f_00088', 'f_00087', 'f_00148']\n"
     ]
    },
    {
     "name": "stderr",
     "output_type": "stream",
     "text": [
      "Epoch:   0%|                                                                                     | 0/20 [00:00<?, ?it/s]"
     ]
    },
    {
     "name": "stdout",
     "output_type": "stream",
     "text": [
      "Group 0\n",
      "At round 85 accuracy: 0.7636363636363637\n",
      "At round 85 training accuracy: 0.7849686847599165\n",
      "At round 85 training loss: 0.881534548480227\n",
      "Group 1\n",
      "At round 85 accuracy: 0.60580204778157\n",
      "At round 85 training accuracy: 0.6181006493506493\n",
      "At round 85 training loss: 1.1814866308606677\n",
      "Group 2\n",
      "At round 85 accuracy: 0.7762645914396887\n",
      "At round 85 training accuracy: 0.7791894852135816\n",
      "At round 85 training loss: 0.6198732379166999\n",
      "Group 3\n",
      "At round 85 accuracy: 0.3983050847457627\n",
      "At round 85 training accuracy: 0.4119047619047619\n",
      "At round 85 training loss: 1.5291669126676053\n",
      "Group 4\n",
      "At round 85 accuracy: 0.6655737704918033\n",
      "At round 85 training accuracy: 0.6542532340258722\n",
      "At round 85 training loss: 0.8320887849313144\n",
      "At round 85 mean test accuracy: 0.6361746361746362 mean train accuracy: 0.6461847634127033\n",
      "The groups difference are: [0.         1.08372754 1.1577642  0.87279455 0.51927165]\n",
      "Begin group  0 training\n"
     ]
    },
    {
     "name": "stderr",
     "output_type": "stream",
     "text": [
      "Epoch:  45%|██████████████████████████████████▋                                          | 9/20 [00:00<00:00, 81.50it/s]"
     ]
    },
    {
     "name": "stdout",
     "output_type": "stream",
     "text": [
      "Begin group  1 training\n"
     ]
    },
    {
     "name": "stderr",
     "output_type": "stream",
     "text": [
      "Epoch:   0%|                                                                                     | 0/20 [00:00<?, ?it/s]"
     ]
    },
    {
     "name": "stdout",
     "output_type": "stream",
     "text": [
      "Begin group  2 training\n"
     ]
    },
    {
     "name": "stderr",
     "output_type": "stream",
     "text": [
      "Epoch:   0%|                                                                                     | 0/20 [00:00<?, ?it/s]"
     ]
    },
    {
     "name": "stdout",
     "output_type": "stream",
     "text": [
      "Begin group  3 training\n"
     ]
    },
    {
     "name": "stderr",
     "output_type": "stream",
     "text": [
      "Epoch:  60%|█████████████████████████████████████████████                              | 12/20 [00:00<00:00, 116.59it/s]"
     ]
    },
    {
     "name": "stdout",
     "output_type": "stream",
     "text": [
      "Begin group  4 training\n"
     ]
    },
    {
     "name": "stderr",
     "output_type": "stream",
     "text": [
      "                                                                                                                        \r"
     ]
    },
    {
     "name": "stdout",
     "output_type": "stream",
     "text": [
      "Group 0, clients ['f_00067']\n",
      "Group 1, clients ['f_00171', 'f_00113', 'f_00055', 'f_00135', 'f_00132', 'f_00012', 'f_00195', 'f_00094', 'f_00034', 'f_00074', 'f_00184', 'f_00032', 'f_00083']\n",
      "Group 2 is empty.\n",
      "Group 3, clients ['f_00176', 'f_00182', 'f_00030', 'f_00001']\n",
      "Group 4, clients ['f_00189', 'f_00037']\n"
     ]
    },
    {
     "name": "stderr",
     "output_type": "stream",
     "text": [
      "Epoch:  15%|███████████▌                                                                 | 3/20 [00:00<00:00, 25.98it/s]"
     ]
    },
    {
     "name": "stdout",
     "output_type": "stream",
     "text": [
      "Group 0\n",
      "At round 86 accuracy: 0.7333333333333333\n",
      "At round 86 training accuracy: 0.720946416144746\n",
      "At round 86 training loss: 0.6505349591198114\n",
      "Group 1\n",
      "At round 86 accuracy: 0.7081911262798635\n",
      "At round 86 training accuracy: 0.723823051948052\n",
      "At round 86 training loss: 1.0056833142124406\n",
      "Group 2\n",
      "At round 86 accuracy: 0.6945525291828794\n",
      "At round 86 training accuracy: 0.6843373493975904\n",
      "At round 86 training loss: 0.9284280476016518\n",
      "Group 3\n",
      "At round 86 accuracy: 0.3870056497175141\n",
      "At round 86 training accuracy: 0.404421768707483\n",
      "At round 86 training loss: 2.7036645247569293\n",
      "Group 4\n",
      "At round 86 accuracy: 0.5967213114754099\n",
      "At round 86 training accuracy: 0.6017248137985104\n",
      "At round 86 training loss: 1.1535281250636655\n",
      "At round 86 mean test accuracy: 0.6299376299376299 mean train accuracy: 0.6364411424395591\n",
      "The groups difference are: [0.         1.03395752 1.14598268 0.85003957 0.46691029]\n",
      "Begin group  0 training\n"
     ]
    },
    {
     "name": "stderr",
     "output_type": "stream",
     "text": [
      "Epoch:   0%|                                                                                     | 0/20 [00:00<?, ?it/s]"
     ]
    },
    {
     "name": "stdout",
     "output_type": "stream",
     "text": [
      "Begin group  1 training\n"
     ]
    },
    {
     "name": "stderr",
     "output_type": "stream",
     "text": [
      "Epoch:   0%|                                                                                     | 0/20 [00:00<?, ?it/s]"
     ]
    },
    {
     "name": "stdout",
     "output_type": "stream",
     "text": [
      "Begin group  3 training\n"
     ]
    },
    {
     "name": "stderr",
     "output_type": "stream",
     "text": [
      "Epoch:  40%|██████████████████████████████▊                                              | 8/20 [00:00<00:00, 71.50it/s]"
     ]
    },
    {
     "name": "stdout",
     "output_type": "stream",
     "text": [
      "Begin group  4 training\n"
     ]
    },
    {
     "name": "stderr",
     "output_type": "stream",
     "text": [
      "                                                                                                                        \r"
     ]
    },
    {
     "name": "stdout",
     "output_type": "stream",
     "text": [
      "Group 0, clients ['f_00158', 'f_00067']\n",
      "Group 1, clients ['f_00032', 'f_00145', 'f_00080', 'f_00012', 'f_00125', 'f_00194', 'f_00044', 'f_00165', 'f_00013', 'f_00135']\n",
      "Group 2, clients ['f_00093']\n",
      "Group 3, clients ['f_00180', 'f_00106', 'f_00024']\n",
      "Group 4, clients ['f_00189', 'f_00097', 'f_00008', 'f_00029']\n"
     ]
    },
    {
     "name": "stderr",
     "output_type": "stream",
     "text": [
      "Epoch:  45%|██████████████████████████████████▋                                          | 9/20 [00:00<00:00, 85.60it/s]"
     ]
    },
    {
     "name": "stdout",
     "output_type": "stream",
     "text": [
      "Group 0\n",
      "At round 87 accuracy: 0.6060606060606061\n",
      "At round 87 training accuracy: 0.6172581767571329\n",
      "At round 87 training loss: 1.2332563551250397\n",
      "Group 1\n",
      "At round 87 accuracy: 0.5870307167235495\n",
      "At round 87 training accuracy: 0.6103896103896104\n",
      "At round 87 training loss: 1.1420076317637675\n",
      "Group 2\n",
      "At round 87 accuracy: 0.6926070038910506\n",
      "At round 87 training accuracy: 0.689156626506024\n",
      "At round 87 training loss: 0.890700828683076\n",
      "Group 3\n",
      "At round 87 accuracy: 0.7062146892655368\n",
      "At round 87 training accuracy: 0.717687074829932\n",
      "At round 87 training loss: 0.9869687387529684\n",
      "Group 4\n",
      "At round 87 accuracy: 0.7311475409836066\n",
      "At round 87 training accuracy: 0.7255978047824383\n",
      "At round 87 training loss: 0.7666030689016692\n",
      "At round 87 mean test accuracy: 0.6616424116424117 mean train accuracy: 0.6699957371658243\n",
      "The groups difference are: [0.         1.05987989 1.128923   0.83893205 0.47081086]\n",
      "Begin group  0 training\n"
     ]
    },
    {
     "name": "stderr",
     "output_type": "stream",
     "text": [
      "Epoch:  70%|████████████████████████████████████████████████████▌                      | 14/20 [00:00<00:00, 129.70it/s]"
     ]
    },
    {
     "name": "stdout",
     "output_type": "stream",
     "text": [
      "Begin group  1 training\n"
     ]
    },
    {
     "name": "stderr",
     "output_type": "stream",
     "text": [
      "Epoch:  30%|███████████████████████                                                      | 6/20 [00:00<00:00, 57.20it/s]"
     ]
    },
    {
     "name": "stdout",
     "output_type": "stream",
     "text": [
      "Begin group  2 training\n"
     ]
    },
    {
     "name": "stderr",
     "output_type": "stream",
     "text": [
      "Epoch:  20%|███████████████▍                                                             | 4/20 [00:00<00:00, 36.63it/s]"
     ]
    },
    {
     "name": "stdout",
     "output_type": "stream",
     "text": [
      "Begin group  3 training\n"
     ]
    },
    {
     "name": "stderr",
     "output_type": "stream",
     "text": [
      "Epoch:  30%|███████████████████████                                                      | 6/20 [00:00<00:00, 57.68it/s]"
     ]
    },
    {
     "name": "stdout",
     "output_type": "stream",
     "text": [
      "Begin group  4 training\n"
     ]
    },
    {
     "name": "stderr",
     "output_type": "stream",
     "text": [
      "                                                                                                                        \r"
     ]
    },
    {
     "name": "stdout",
     "output_type": "stream",
     "text": [
      "Group 0, clients ['f_00158']\n",
      "Group 1, clients ['f_00013', 'f_00074', 'f_00085', 'f_00111', 'f_00021', 'f_00153', 'f_00105', 'f_00113']\n",
      "Group 2, clients ['f_00002']\n",
      "Group 3, clients ['f_00166', 'f_00180', 'f_00033', 'f_00096']\n",
      "Group 4, clients ['f_00199', 'f_00039', 'f_00129', 'f_00057', 'f_00087', 'f_00069']\n"
     ]
    },
    {
     "name": "stderr",
     "output_type": "stream",
     "text": [
      "Epoch:  45%|██████████████████████████████████▋                                          | 9/20 [00:00<00:00, 81.05it/s]"
     ]
    },
    {
     "name": "stdout",
     "output_type": "stream",
     "text": [
      "Group 0\n",
      "At round 88 accuracy: 0.6181818181818182\n",
      "At round 88 training accuracy: 0.6283924843423799\n",
      "At round 88 training loss: 1.0817982201868241\n",
      "Group 1\n",
      "At round 88 accuracy: 0.5836177474402731\n",
      "At round 88 training accuracy: 0.585836038961039\n",
      "At round 88 training loss: 1.1315291759001647\n",
      "Group 2\n",
      "At round 88 accuracy: 0.7198443579766537\n",
      "At round 88 training accuracy: 0.7029572836801753\n",
      "At round 88 training loss: 1.2990975263998776\n",
      "Group 3\n",
      "At round 88 accuracy: 0.4689265536723164\n",
      "At round 88 training accuracy: 0.47312925170068026\n",
      "At round 88 training loss: 1.8170224684689726\n",
      "Group 4\n",
      "At round 88 accuracy: 0.659016393442623\n",
      "At round 88 training accuracy: 0.6103488827910624\n",
      "At round 88 training loss: 1.2471717320636693\n",
      "At round 88 mean test accuracy: 0.6138253638253638 mean train accuracy: 0.605748736374155\n",
      "The groups difference are: [0.         1.06818961 1.1648792  0.90825138 0.54036644]\n",
      "Begin group  0 training\n"
     ]
    },
    {
     "name": "stderr",
     "output_type": "stream",
     "text": [
      "Epoch:  50%|██████████████████████████████████████                                      | 10/20 [00:00<00:00, 96.63it/s]"
     ]
    },
    {
     "name": "stdout",
     "output_type": "stream",
     "text": [
      "Begin group  1 training\n"
     ]
    },
    {
     "name": "stderr",
     "output_type": "stream",
     "text": [
      "Epoch:  30%|███████████████████████                                                      | 6/20 [00:00<00:00, 56.05it/s]"
     ]
    },
    {
     "name": "stdout",
     "output_type": "stream",
     "text": [
      "Begin group  2 training\n"
     ]
    },
    {
     "name": "stderr",
     "output_type": "stream",
     "text": [
      "Epoch:  20%|███████████████▍                                                             | 4/20 [00:00<00:00, 38.77it/s]"
     ]
    },
    {
     "name": "stdout",
     "output_type": "stream",
     "text": [
      "Begin group  3 training\n"
     ]
    },
    {
     "name": "stderr",
     "output_type": "stream",
     "text": [
      "Epoch:  25%|███████████████████▎                                                         | 5/20 [00:00<00:00, 45.48it/s]"
     ]
    },
    {
     "name": "stdout",
     "output_type": "stream",
     "text": [
      "Begin group  4 training\n"
     ]
    },
    {
     "name": "stderr",
     "output_type": "stream",
     "text": [
      "                                                                                                                        \r"
     ]
    },
    {
     "name": "stdout",
     "output_type": "stream",
     "text": [
      "Group 0, clients ['f_00028']\n",
      "Group 1, clients ['f_00091', 'f_00014', 'f_00025', 'f_00065', 'f_00104', 'f_00144', 'f_00012', 'f_00074']\n",
      "Group 2 is empty.\n",
      "Group 3, clients ['f_00095', 'f_00170', 'f_00196', 'f_00120']\n",
      "Group 4, clients ['f_00197', 'f_00127', 'f_00058', 'f_00179', 'f_00078', 'f_00089', 'f_00107']\n"
     ]
    },
    {
     "name": "stderr",
     "output_type": "stream",
     "text": [
      "Epoch:   0%|                                                                                     | 0/20 [00:00<?, ?it/s]"
     ]
    },
    {
     "name": "stdout",
     "output_type": "stream",
     "text": [
      "Group 0\n",
      "At round 89 accuracy: 0.6545454545454545\n",
      "At round 89 training accuracy: 0.6548364648573417\n",
      "At round 89 training loss: 0.8213584534642426\n",
      "Group 1\n",
      "At round 89 accuracy: 0.6262798634812287\n",
      "At round 89 training accuracy: 0.6325081168831169\n",
      "At round 89 training loss: 1.1255088111192182\n",
      "Group 2\n",
      "At round 89 accuracy: 0.8190661478599222\n",
      "At round 89 training accuracy: 0.8168674698795181\n",
      "At round 89 training loss: 0.6047330377266414\n",
      "Group 3\n",
      "At round 89 accuracy: 0.5254237288135594\n",
      "At round 89 training accuracy: 0.5452380952380952\n",
      "At round 89 training loss: 1.2063299210501366\n",
      "Group 4\n",
      "At round 89 accuracy: 0.7114754098360656\n",
      "At round 89 training accuracy: 0.6428851430811446\n",
      "At round 89 training loss: 0.8132674701070841\n",
      "At round 89 mean test accuracy: 0.6751559251559252 mean train accuracy: 0.6717008708361245\n",
      "The groups difference are: [0.         1.07700571 1.16987196 0.89510805 0.48380927]\n",
      "Begin group  0 training\n",
      "Begin group  1 training\n"
     ]
    },
    {
     "name": "stderr",
     "output_type": "stream",
     "text": [
      "Epoch:   0%|                                                                                     | 0/20 [00:00<?, ?it/s]"
     ]
    },
    {
     "name": "stdout",
     "output_type": "stream",
     "text": [
      "Begin group  3 training\n"
     ]
    },
    {
     "name": "stderr",
     "output_type": "stream",
     "text": [
      "Epoch:  50%|██████████████████████████████████████                                      | 10/20 [00:00<00:00, 96.25it/s]"
     ]
    },
    {
     "name": "stdout",
     "output_type": "stream",
     "text": [
      "Begin group  4 training\n"
     ]
    },
    {
     "name": "stderr",
     "output_type": "stream",
     "text": [
      "                                                                                                                        \r"
     ]
    },
    {
     "name": "stdout",
     "output_type": "stream",
     "text": [
      "Group 0, clients ['f_00038']\n",
      "Group 1, clients ['f_00015', 'f_00184', 'f_00083', 'f_00145', 'f_00063', 'f_00115', 'f_00185']\n",
      "Group 2, clients ['f_00082', 'f_00122']\n",
      "Group 3, clients ['f_00193', 'f_00161', 'f_00016', 'f_00041', 'f_00001']\n",
      "Group 4, clients ['f_00117', 'f_00029', 'f_00088', 'f_00079', 'f_00197']\n"
     ]
    },
    {
     "name": "stderr",
     "output_type": "stream",
     "text": [
      "Epoch:   0%|                                                                                     | 0/20 [00:00<?, ?it/s]"
     ]
    },
    {
     "name": "stdout",
     "output_type": "stream",
     "text": [
      "Group 0\n",
      "At round 90 accuracy: 0.7575757575757576\n",
      "At round 90 training accuracy: 0.7383437717466945\n",
      "At round 90 training loss: 0.7332226210737195\n",
      "Group 1\n",
      "At round 90 accuracy: 0.6450511945392492\n",
      "At round 90 training accuracy: 0.6517857142857143\n",
      "At round 90 training loss: 1.0633989622598732\n",
      "Group 2\n",
      "At round 90 accuracy: 0.8229571984435797\n",
      "At round 90 training accuracy: 0.8186199342825848\n",
      "At round 90 training loss: 0.5941494630761893\n",
      "Group 3\n",
      "At round 90 accuracy: 0.556497175141243\n",
      "At round 90 training accuracy: 0.5659863945578232\n",
      "At round 90 training loss: 1.1238578445043694\n",
      "Group 4\n",
      "At round 90 accuracy: 0.7377049180327869\n",
      "At round 90 training accuracy: 0.7181497451979616\n",
      "At round 90 training loss: 0.7815036413857442\n",
      "At round 90 mean test accuracy: 0.7006237006237006 mean train accuracy: 0.7006881432312283\n",
      "The groups difference are: [0.         1.07067903 1.11848549 0.8692672  0.4741487 ]\n",
      "Begin group  0 training\n",
      "Begin group  1 training\n"
     ]
    },
    {
     "name": "stderr",
     "output_type": "stream",
     "text": [
      "Epoch:   0%|                                                                                     | 0/20 [00:00<?, ?it/s]"
     ]
    },
    {
     "name": "stdout",
     "output_type": "stream",
     "text": [
      "Begin group  2 training\n"
     ]
    },
    {
     "name": "stderr",
     "output_type": "stream",
     "text": [
      "Epoch:   0%|                                                                                     | 0/20 [00:00<?, ?it/s]"
     ]
    },
    {
     "name": "stdout",
     "output_type": "stream",
     "text": [
      "Begin group  3 training\n"
     ]
    },
    {
     "name": "stderr",
     "output_type": "stream",
     "text": [
      "Epoch:   0%|                                                                                     | 0/20 [00:00<?, ?it/s]"
     ]
    },
    {
     "name": "stdout",
     "output_type": "stream",
     "text": [
      "Begin group  4 training\n"
     ]
    },
    {
     "name": "stderr",
     "output_type": "stream",
     "text": [
      "                                                                                                                        \r"
     ]
    },
    {
     "name": "stdout",
     "output_type": "stream",
     "text": [
      "Group 0 is empty.\n",
      "Group 1, clients ['f_00011', 'f_00153', 'f_00055', 'f_00124', 'f_00112', 'f_00184', 'f_00084', 'f_00111']\n",
      "Group 2, clients ['f_00023', 'f_00122', 'f_00163', 'f_00073']\n",
      "Group 3, clients ['f_00020', 'f_00090', 'f_00146', 'f_00003', 'f_00120']\n",
      "Group 4, clients ['f_00137', 'f_00027', 'f_00177']\n"
     ]
    },
    {
     "name": "stderr",
     "output_type": "stream",
     "text": [
      "Epoch:   0%|                                                                                     | 0/20 [00:00<?, ?it/s]"
     ]
    },
    {
     "name": "stdout",
     "output_type": "stream",
     "text": [
      "Group 0\n",
      "At round 91 accuracy: 0.8\n",
      "At round 91 training accuracy: 0.7717466945024356\n",
      "At round 91 training loss: 0.724399666841775\n",
      "Group 1\n",
      "At round 91 accuracy: 0.5204778156996587\n",
      "At round 91 training accuracy: 0.5267857142857143\n",
      "At round 91 training loss: 1.4813575472852045\n",
      "Group 2\n",
      "At round 91 accuracy: 0.7976653696498055\n",
      "At round 91 training accuracy: 0.8026286966046002\n",
      "At round 91 training loss: 0.7025467046576288\n",
      "Group 3\n",
      "At round 91 accuracy: 0.5084745762711864\n",
      "At round 91 training accuracy: 0.536734693877551\n",
      "At round 91 training loss: 1.2491929691766395\n",
      "Group 4\n",
      "At round 91 accuracy: 0.7475409836065574\n",
      "At round 91 training accuracy: 0.6997255978047824\n",
      "At round 91 training loss: 0.771314476551331\n",
      "At round 91 mean test accuracy: 0.6522869022869023 mean train accuracy: 0.6535533767736436\n",
      "The groups difference are: [0.         1.06776084 1.12576576 0.86506748 0.48342641]\n",
      "Begin group  1 training\n"
     ]
    },
    {
     "name": "stderr",
     "output_type": "stream",
     "text": [
      "Epoch:  35%|██████████████████████████▉                                                  | 7/20 [00:00<00:00, 63.06it/s]"
     ]
    },
    {
     "name": "stdout",
     "output_type": "stream",
     "text": [
      "Begin group  2 training\n"
     ]
    },
    {
     "name": "stderr",
     "output_type": "stream",
     "text": [
      "Epoch:   0%|                                                                                     | 0/20 [00:00<?, ?it/s]"
     ]
    },
    {
     "name": "stdout",
     "output_type": "stream",
     "text": [
      "Begin group  3 training\n"
     ]
    },
    {
     "name": "stderr",
     "output_type": "stream",
     "text": [
      "Epoch:   0%|                                                                                     | 0/20 [00:00<?, ?it/s]"
     ]
    },
    {
     "name": "stdout",
     "output_type": "stream",
     "text": [
      "Begin group  4 training\n"
     ]
    },
    {
     "name": "stderr",
     "output_type": "stream",
     "text": [
      "                                                                                                                        \r"
     ]
    },
    {
     "name": "stdout",
     "output_type": "stream",
     "text": [
      "Group 0, clients ['f_00038']\n",
      "Group 1, clients ['f_00063', 'f_00032', 'f_00034', 'f_00091', 'f_00044', 'f_00141', 'f_00194', 'f_00115', 'f_00183', 'f_00022']\n",
      "Group 2, clients ['f_00123']\n",
      "Group 3, clients ['f_00116', 'f_00024', 'f_00176', 'f_00026', 'f_00031', 'f_00036', 'f_00061']\n",
      "Group 4, clients ['f_00007']\n"
     ]
    },
    {
     "name": "stderr",
     "output_type": "stream",
     "text": [
      "Epoch:   0%|                                                                                     | 0/20 [00:00<?, ?it/s]"
     ]
    },
    {
     "name": "stdout",
     "output_type": "stream",
     "text": [
      "Group 0\n",
      "At round 92 accuracy: 0.8\n",
      "At round 92 training accuracy: 0.7738343771746694\n",
      "At round 92 training loss: 0.7081808152095925\n",
      "Group 1\n",
      "At round 92 accuracy: 0.5887372013651877\n",
      "At round 92 training accuracy: 0.5971996753246753\n",
      "At round 92 training loss: 1.1402490104415588\n",
      "Group 2\n",
      "At round 92 accuracy: 0.7140077821011673\n",
      "At round 92 training accuracy: 0.7154435925520263\n",
      "At round 92 training loss: 0.7288624817740095\n",
      "Group 3\n",
      "At round 92 accuracy: 0.4717514124293785\n",
      "At round 92 training accuracy: 0.47244897959183674\n",
      "At round 92 training loss: 1.8585368818622463\n",
      "Group 4\n",
      "At round 92 accuracy: 0.5737704918032787\n",
      "At round 92 training accuracy: 0.5695805566444532\n",
      "At round 92 training loss: 1.3943884837912466\n",
      "At round 92 mean test accuracy: 0.6164241164241164 mean train accuracy: 0.6189026246878997\n",
      "The groups difference are: [0.         1.03770949 1.10666919 0.84139072 0.47048633]\n",
      "Begin group  0 training\n",
      "Begin group  1 training\n"
     ]
    },
    {
     "name": "stderr",
     "output_type": "stream",
     "text": [
      "Epoch:  20%|███████████████▍                                                             | 4/20 [00:00<00:00, 36.77it/s]"
     ]
    },
    {
     "name": "stdout",
     "output_type": "stream",
     "text": [
      "Begin group  2 training\n"
     ]
    },
    {
     "name": "stderr",
     "output_type": "stream",
     "text": [
      "Epoch:   0%|                                                                                     | 0/20 [00:00<?, ?it/s]"
     ]
    },
    {
     "name": "stdout",
     "output_type": "stream",
     "text": [
      "Begin group  3 training\n"
     ]
    },
    {
     "name": "stderr",
     "output_type": "stream",
     "text": [
      "                                                                                                                        \r"
     ]
    },
    {
     "name": "stdout",
     "output_type": "stream",
     "text": [
      "Begin group  4 training\n",
      "Group 0, clients ['f_00068', 'f_00028']\n",
      "Group 1, clients ['f_00065', 'f_00004', 'f_00153', 'f_00054', 'f_00175']\n",
      "Group 2, clients ['f_00052']\n",
      "Group 3, clients ['f_00050', 'f_00182', 'f_00136', 'f_00041', 'f_00151', 'f_00100', 'f_00095']\n",
      "Group 4, clients ['f_00089', 'f_00129', 'f_00119', 'f_00078', 'f_00007']\n"
     ]
    },
    {
     "name": "stderr",
     "output_type": "stream",
     "text": [
      "Epoch:  35%|██████████████████████████▉                                                  | 7/20 [00:00<00:00, 62.90it/s]"
     ]
    },
    {
     "name": "stdout",
     "output_type": "stream",
     "text": [
      "Group 0\n",
      "At round 93 accuracy: 0.793939393939394\n",
      "At round 93 training accuracy: 0.778705636743215\n",
      "At round 93 training loss: 0.7296279372236508\n",
      "Group 1\n",
      "At round 93 accuracy: 0.6416382252559727\n",
      "At round 93 training accuracy: 0.6501623376623377\n",
      "At round 93 training loss: 1.118625318468246\n",
      "Group 2\n",
      "At round 93 accuracy: 0.6964980544747081\n",
      "At round 93 training accuracy: 0.6858707557502738\n",
      "At round 93 training loss: 1.2729521634479473\n",
      "Group 3\n",
      "At round 93 accuracy: 0.4152542372881356\n",
      "At round 93 training accuracy: 0.4248299319727891\n",
      "At round 93 training loss: 1.4431320749172547\n",
      "Group 4\n",
      "At round 93 accuracy: 0.6\n",
      "At round 93 training accuracy: 0.5981967855742846\n",
      "At round 93 training loss: 1.5375563461773072\n",
      "At round 93 mean test accuracy: 0.6211018711018711 mean train accuracy: 0.6229218683393216\n",
      "The groups difference are: [0.         1.0331177  1.12587363 0.81779243 0.46875066]\n",
      "Begin group  0 training\n"
     ]
    },
    {
     "name": "stderr",
     "output_type": "stream",
     "text": [
      "Epoch:   0%|                                                                                     | 0/20 [00:00<?, ?it/s]"
     ]
    },
    {
     "name": "stdout",
     "output_type": "stream",
     "text": [
      "Begin group  1 training\n"
     ]
    },
    {
     "name": "stderr",
     "output_type": "stream",
     "text": [
      "Epoch:  25%|███████████████████▎                                                         | 5/20 [00:00<00:00, 42.03it/s]"
     ]
    },
    {
     "name": "stdout",
     "output_type": "stream",
     "text": [
      "Begin group  2 training\n"
     ]
    },
    {
     "name": "stderr",
     "output_type": "stream",
     "text": [
      "Epoch:   0%|                                                                                     | 0/20 [00:00<?, ?it/s]"
     ]
    },
    {
     "name": "stdout",
     "output_type": "stream",
     "text": [
      "Begin group  3 training\n"
     ]
    },
    {
     "name": "stderr",
     "output_type": "stream",
     "text": [
      "Epoch:   0%|                                                                                     | 0/20 [00:00<?, ?it/s]"
     ]
    },
    {
     "name": "stdout",
     "output_type": "stream",
     "text": [
      "Begin group  4 training\n"
     ]
    },
    {
     "name": "stderr",
     "output_type": "stream",
     "text": [
      "                                                                                                                        \r"
     ]
    },
    {
     "name": "stdout",
     "output_type": "stream",
     "text": [
      "Group 0, clients ['f_00167', 'f_00028']\n",
      "Group 1, clients ['f_00145', 'f_00092', 'f_00071', 'f_00195', 'f_00054', 'f_00080', 'f_00064', 'f_00025', 'f_00044']\n",
      "Group 2 is empty.\n",
      "Group 3, clients ['f_00020', 'f_00100', 'f_00130', 'f_00180']\n",
      "Group 4, clients ['f_00159', 'f_00177', 'f_00049', 'f_00037', 'f_00149']\n"
     ]
    },
    {
     "name": "stderr",
     "output_type": "stream",
     "text": [
      "Epoch:   0%|                                                                                     | 0/20 [00:00<?, ?it/s]"
     ]
    },
    {
     "name": "stdout",
     "output_type": "stream",
     "text": [
      "Group 0\n",
      "At round 94 accuracy: 0.7696969696969697\n",
      "At round 94 training accuracy: 0.7884481558803061\n",
      "At round 94 training loss: 0.7909703466447593\n",
      "Group 1\n",
      "At round 94 accuracy: 0.5648464163822525\n",
      "At round 94 training accuracy: 0.5771103896103896\n",
      "At round 94 training loss: 1.3855848712241883\n",
      "Group 2\n",
      "At round 94 accuracy: 0.7568093385214008\n",
      "At round 94 training accuracy: 0.7846659364731654\n",
      "At round 94 training loss: 0.6588968568733462\n",
      "Group 3\n",
      "At round 94 accuracy: 0.748587570621469\n",
      "At round 94 training accuracy: 0.7710884353741496\n",
      "At round 94 training loss: 0.9293547988546138\n",
      "Group 4\n",
      "At round 94 accuracy: 0.6229508196721312\n",
      "At round 94 training accuracy: 0.5805566444531556\n",
      "At round 94 training loss: 0.9766121616449042\n",
      "At round 94 mean test accuracy: 0.6767151767151767 mean train accuracy: 0.6885695146458802\n",
      "The groups difference are: [0.         1.04074576 1.14154452 0.8291138  0.46096324]\n",
      "Begin group  0 training\n"
     ]
    },
    {
     "name": "stderr",
     "output_type": "stream",
     "text": [
      "Epoch:   0%|                                                                                     | 0/20 [00:00<?, ?it/s]"
     ]
    },
    {
     "name": "stdout",
     "output_type": "stream",
     "text": [
      "Begin group  1 training\n"
     ]
    },
    {
     "name": "stderr",
     "output_type": "stream",
     "text": [
      "Epoch:   0%|                                                                                     | 0/20 [00:00<?, ?it/s]"
     ]
    },
    {
     "name": "stdout",
     "output_type": "stream",
     "text": [
      "Begin group  3 training\n"
     ]
    },
    {
     "name": "stderr",
     "output_type": "stream",
     "text": [
      "Epoch:   0%|                                                                                     | 0/20 [00:00<?, ?it/s]"
     ]
    },
    {
     "name": "stdout",
     "output_type": "stream",
     "text": [
      "Begin group  4 training\n"
     ]
    },
    {
     "name": "stderr",
     "output_type": "stream",
     "text": [
      "                                                                                                                        \r"
     ]
    },
    {
     "name": "stdout",
     "output_type": "stream",
     "text": [
      "Group 0, clients ['f_00178']\n",
      "Group 1, clients ['f_00063', 'f_00112', 'f_00085', 'f_00004', 'f_00021', 'f_00144', 'f_00174']\n",
      "Group 2, clients ['f_00053']\n",
      "Group 3, clients ['f_00066', 'f_00043', 'f_00061', 'f_00110', 'f_00160']\n",
      "Group 4, clients ['f_00179', 'f_00137', 'f_00089', 'f_00169', 'f_00069', 'f_00109']\n"
     ]
    },
    {
     "name": "stderr",
     "output_type": "stream",
     "text": [
      "Epoch:   0%|                                                                                     | 0/20 [00:00<?, ?it/s]"
     ]
    },
    {
     "name": "stdout",
     "output_type": "stream",
     "text": [
      "Group 0\n",
      "At round 95 accuracy: 0.7454545454545455\n",
      "At round 95 training accuracy: 0.7543493389004872\n",
      "At round 95 training loss: 0.6397348772177036\n",
      "Group 1\n",
      "At round 95 accuracy: 0.7440273037542662\n",
      "At round 95 training accuracy: 0.7337662337662337\n",
      "At round 95 training loss: 0.9687936485491015\n",
      "Group 2\n",
      "At round 95 accuracy: 0.7568093385214008\n",
      "At round 95 training accuracy: 0.7824753559693318\n",
      "At round 95 training loss: 0.650533768603209\n",
      "Group 3\n",
      "At round 95 accuracy: 0.4717514124293785\n",
      "At round 95 training accuracy: 0.4639455782312925\n",
      "At round 95 training loss: 2.088048392899182\n",
      "Group 4\n",
      "At round 95 accuracy: 0.6721311475409836\n",
      "At round 95 training accuracy: 0.6507252058016464\n",
      "At round 95 training loss: 0.8295454679751387\n",
      "At round 95 mean test accuracy: 0.6860706860706861 mean train accuracy: 0.6878996407039766\n",
      "The groups difference are: [0.         0.98920363 1.08923793 0.86586315 0.42022675]\n",
      "Begin group  0 training\n",
      "Begin group  1 training\n"
     ]
    },
    {
     "name": "stderr",
     "output_type": "stream",
     "text": [
      "Epoch:  15%|███████████▌                                                                 | 3/20 [00:00<00:00, 26.42it/s]"
     ]
    },
    {
     "name": "stdout",
     "output_type": "stream",
     "text": [
      "Begin group  2 training\n"
     ]
    },
    {
     "name": "stderr",
     "output_type": "stream",
     "text": [
      "Epoch:  35%|██████████████████████████▉                                                  | 7/20 [00:00<00:00, 62.84it/s]"
     ]
    },
    {
     "name": "stdout",
     "output_type": "stream",
     "text": [
      "Begin group  3 training\n"
     ]
    },
    {
     "name": "stderr",
     "output_type": "stream",
     "text": [
      "Epoch:   0%|                                                                                     | 0/20 [00:00<?, ?it/s]"
     ]
    },
    {
     "name": "stdout",
     "output_type": "stream",
     "text": [
      "Begin group  4 training\n"
     ]
    },
    {
     "name": "stderr",
     "output_type": "stream",
     "text": [
      "                                                                                                                        \r"
     ]
    },
    {
     "name": "stdout",
     "output_type": "stream",
     "text": [
      "Group 0, clients ['f_00167', 'f_00198']\n",
      "Group 1, clients ['f_00035', 'f_00005', 'f_00185', 'f_00113', 'f_00080', 'f_00071', 'f_00175', 'f_00015', 'f_00173', 'f_00184', 'f_00032', 'f_00051']\n",
      "Group 2, clients ['f_00102', 'f_00093']\n",
      "Group 3, clients ['f_00096', 'f_00026', 'f_00086', 'f_00036']\n",
      "Group 4 is empty.\n"
     ]
    },
    {
     "name": "stderr",
     "output_type": "stream",
     "text": [
      "Epoch:   0%|                                                                                     | 0/20 [00:00<?, ?it/s]"
     ]
    },
    {
     "name": "stdout",
     "output_type": "stream",
     "text": [
      "Group 0\n",
      "At round 96 accuracy: 0.7454545454545455\n",
      "At round 96 training accuracy: 0.7223382045929019\n",
      "At round 96 training loss: 0.7214707731785838\n",
      "Group 1\n",
      "At round 96 accuracy: 0.5511945392491467\n",
      "At round 96 training accuracy: 0.5744724025974026\n",
      "At round 96 training loss: 1.1478957241134984\n",
      "Group 2\n",
      "At round 96 accuracy: 0.7237354085603113\n",
      "At round 96 training accuracy: 0.7023001095290252\n",
      "At round 96 training loss: 1.0260995110507078\n",
      "Group 3\n",
      "At round 96 accuracy: 0.4632768361581921\n",
      "At round 96 training accuracy: 0.4775510204081633\n",
      "At round 96 training loss: 1.539332943632692\n",
      "Group 4\n",
      "At round 96 accuracy: 0.6229508196721312\n",
      "At round 96 training accuracy: 0.582124656997256\n",
      "At round 96 training loss: 0.9537991445726247\n",
      "At round 96 mean test accuracy: 0.6091476091476091 mean train accuracy: 0.6067839961025516\n",
      "The groups difference are: [0.         1.00392916 1.11863649 0.86444574 0.45636598]\n",
      "Begin group  0 training\n"
     ]
    },
    {
     "name": "stderr",
     "output_type": "stream",
     "text": [
      "Epoch:  50%|██████████████████████████████████████                                      | 10/20 [00:00<00:00, 94.19it/s]"
     ]
    },
    {
     "name": "stdout",
     "output_type": "stream",
     "text": [
      "Begin group  1 training\n"
     ]
    },
    {
     "name": "stderr",
     "output_type": "stream",
     "text": [
      "Epoch:  25%|███████████████████▎                                                         | 5/20 [00:00<00:00, 40.80it/s]"
     ]
    },
    {
     "name": "stdout",
     "output_type": "stream",
     "text": [
      "Begin group  2 training\n"
     ]
    },
    {
     "name": "stderr",
     "output_type": "stream",
     "text": [
      "Epoch:  50%|██████████████████████████████████████                                      | 10/20 [00:00<00:00, 93.02it/s]"
     ]
    },
    {
     "name": "stdout",
     "output_type": "stream",
     "text": [
      "Begin group  3 training\n"
     ]
    },
    {
     "name": "stderr",
     "output_type": "stream",
     "text": [
      "                                                                                                                        \r"
     ]
    },
    {
     "name": "stdout",
     "output_type": "stream",
     "text": [
      "Group 0, clients ['f_00167', 'f_00038']\n",
      "Group 1, clients ['f_00085', 'f_00055', 'f_00145', 'f_00005', 'f_00045', 'f_00063', 'f_00022', 'f_00065']\n",
      "Group 2, clients ['f_00121']\n",
      "Group 3, clients ['f_00020', 'f_00140', 'f_00110', 'f_00030', 'f_00128', 'f_00056']\n",
      "Group 4, clients ['f_00047', 'f_00049', 'f_00058']\n"
     ]
    },
    {
     "name": "stderr",
     "output_type": "stream",
     "text": [
      "Epoch:   0%|                                                                                     | 0/20 [00:00<?, ?it/s]"
     ]
    },
    {
     "name": "stdout",
     "output_type": "stream",
     "text": [
      "Group 0\n",
      "At round 97 accuracy: 0.7878787878787878\n",
      "At round 97 training accuracy: 0.7550452331245651\n",
      "At round 97 training loss: 0.6081120210674461\n",
      "Group 1\n",
      "At round 97 accuracy: 0.6160409556313993\n",
      "At round 97 training accuracy: 0.5965909090909091\n",
      "At round 97 training loss: 1.1212015390432404\n",
      "Group 2\n",
      "At round 97 accuracy: 0.7101167315175098\n",
      "At round 97 training accuracy: 0.7064622124863089\n",
      "At round 97 training loss: 0.7674171756222632\n",
      "Group 3\n",
      "At round 97 accuracy: 0.384180790960452\n",
      "At round 97 training accuracy: 0.4023809523809524\n",
      "At round 97 training loss: 2.1721434996038878\n",
      "Group 4\n",
      "At round 97 accuracy: 0.639344262295082\n",
      "At round 97 training accuracy: 0.5919247353978832\n",
      "At round 97 training loss: 0.9079154182863628\n",
      "At round 97 mean test accuracy: 0.6169438669438669 mean train accuracy: 0.6055051458498264\n",
      "The groups difference are: [0.         0.98766902 1.11992458 0.84102954 0.43160835]\n",
      "Begin group  0 training\n"
     ]
    },
    {
     "name": "stderr",
     "output_type": "stream",
     "text": [
      "Epoch:   0%|                                                                                     | 0/20 [00:00<?, ?it/s]"
     ]
    },
    {
     "name": "stdout",
     "output_type": "stream",
     "text": [
      "Begin group  1 training\n"
     ]
    },
    {
     "name": "stderr",
     "output_type": "stream",
     "text": [
      "Epoch:  20%|███████████████▍                                                             | 4/20 [00:00<00:00, 39.77it/s]"
     ]
    },
    {
     "name": "stdout",
     "output_type": "stream",
     "text": [
      "Begin group  2 training\n"
     ]
    },
    {
     "name": "stderr",
     "output_type": "stream",
     "text": [
      "Epoch:   0%|                                                                                     | 0/20 [00:00<?, ?it/s]"
     ]
    },
    {
     "name": "stdout",
     "output_type": "stream",
     "text": [
      "Begin group  3 training\n"
     ]
    },
    {
     "name": "stderr",
     "output_type": "stream",
     "text": [
      "Epoch:   0%|                                                                                     | 0/20 [00:00<?, ?it/s]"
     ]
    },
    {
     "name": "stdout",
     "output_type": "stream",
     "text": [
      "Begin group  4 training\n"
     ]
    },
    {
     "name": "stderr",
     "output_type": "stream",
     "text": [
      "                                                                                                                        \r"
     ]
    },
    {
     "name": "stdout",
     "output_type": "stream",
     "text": [
      "Group 0, clients ['f_00198']\n",
      "Group 1, clients ['f_00051', 'f_00064', 'f_00153', 'f_00115', 'f_00134', 'f_00145', 'f_00112', 'f_00184', 'f_00135']\n",
      "Group 2, clients ['f_00121', 'f_00152']\n",
      "Group 3, clients ['f_00041', 'f_00155', 'f_00182', 'f_00128', 'f_00096']\n",
      "Group 4, clients ['f_00058', 'f_00119', 'f_00097']\n"
     ]
    },
    {
     "name": "stderr",
     "output_type": "stream",
     "text": [
      "Epoch:   0%|                                                                                     | 0/20 [00:00<?, ?it/s]"
     ]
    },
    {
     "name": "stdout",
     "output_type": "stream",
     "text": [
      "Group 0\n",
      "At round 98 accuracy: 0.7393939393939394\n",
      "At round 98 training accuracy: 0.7334725121781489\n",
      "At round 98 training loss: 0.6653762472198502\n",
      "Group 1\n",
      "At round 98 accuracy: 0.5034129692832765\n",
      "At round 98 training accuracy: 0.5081168831168831\n",
      "At round 98 training loss: 1.7000673279021081\n",
      "Group 2\n",
      "At round 98 accuracy: 0.5428015564202334\n",
      "At round 98 training accuracy: 0.5465498357064622\n",
      "At round 98 training loss: 1.409921909867085\n",
      "Group 3\n",
      "At round 98 accuracy: 0.4745762711864407\n",
      "At round 98 training accuracy: 0.47619047619047616\n",
      "At round 98 training loss: 1.446816112678878\n",
      "Group 4\n",
      "At round 98 accuracy: 0.7147540983606557\n",
      "At round 98 training accuracy: 0.6934535476283811\n",
      "At round 98 training loss: 0.7897455528384328\n",
      "At round 98 mean test accuracy: 0.5623700623700624 mean train accuracy: 0.5615979538395957\n",
      "The groups difference are: [0.         1.00106118 1.10969642 0.84390041 0.39439565]\n",
      "Begin group  0 training\n",
      "Begin group  1 training\n"
     ]
    },
    {
     "name": "stderr",
     "output_type": "stream",
     "text": [
      "Epoch:  20%|███████████████▍                                                             | 4/20 [00:00<00:00, 38.97it/s]"
     ]
    },
    {
     "name": "stdout",
     "output_type": "stream",
     "text": [
      "Begin group  2 training\n"
     ]
    },
    {
     "name": "stderr",
     "output_type": "stream",
     "text": [
      "Epoch:   0%|                                                                                     | 0/20 [00:00<?, ?it/s]"
     ]
    },
    {
     "name": "stdout",
     "output_type": "stream",
     "text": [
      "Begin group  3 training\n"
     ]
    },
    {
     "name": "stderr",
     "output_type": "stream",
     "text": [
      "Epoch:   0%|                                                                                     | 0/20 [00:00<?, ?it/s]"
     ]
    },
    {
     "name": "stdout",
     "output_type": "stream",
     "text": [
      "Begin group  4 training\n"
     ]
    },
    {
     "name": "stderr",
     "output_type": "stream",
     "text": [
      "                                                                                                                        \r"
     ]
    },
    {
     "name": "stdout",
     "output_type": "stream",
     "text": [
      "Group 0 is empty.\n",
      "Group 1, clients ['f_00135', 'f_00191', 'f_00111', 'f_00081', 'f_00085', 'f_00195', 'f_00153']\n",
      "Group 2, clients ['f_00121']\n",
      "Group 3, clients ['f_00066', 'f_00036', 'f_00126', 'f_00155', 'f_00050', 'f_00024', 'f_00043']\n",
      "Group 4, clients ['f_00127', 'f_00119', 'f_00187', 'f_00049', 'f_00009']\n"
     ]
    },
    {
     "name": "stderr",
     "output_type": "stream",
     "text": [
      "Epoch:  35%|██████████████████████████▉                                                  | 7/20 [00:00<00:00, 64.97it/s]"
     ]
    },
    {
     "name": "stdout",
     "output_type": "stream",
     "text": [
      "Group 0\n",
      "At round 99 accuracy: 0.7818181818181819\n",
      "At round 99 training accuracy: 0.7821851078636047\n",
      "At round 99 training loss: 0.6528869186040006\n",
      "Group 1\n",
      "At round 99 accuracy: 0.5819112627986348\n",
      "At round 99 training accuracy: 0.5710227272727273\n",
      "At round 99 training loss: 1.3442072698108658\n",
      "Group 2\n",
      "At round 99 accuracy: 0.603112840466926\n",
      "At round 99 training accuracy: 0.6133625410733844\n",
      "At round 99 training loss: 1.0188771306619717\n",
      "Group 3\n",
      "At round 99 accuracy: 0.4265536723163842\n",
      "At round 99 training accuracy: 0.43435374149659867\n",
      "At round 99 training loss: 1.4396578398184712\n",
      "Group 4\n",
      "At round 99 accuracy: 0.6262295081967213\n",
      "At round 99 training accuracy: 0.5852606820854567\n",
      "At round 99 training loss: 1.0223785892789012\n",
      "At round 99 mean test accuracy: 0.5831600831600832 mean train accuracy: 0.5790146763290908\n",
      "The groups difference are: [0.         1.01835845 1.1130107  0.82331587 0.43099191]\n",
      "Begin group  1 training\n"
     ]
    },
    {
     "name": "stderr",
     "output_type": "stream",
     "text": [
      "Epoch:  25%|███████████████████▎                                                         | 5/20 [00:00<00:00, 45.96it/s]"
     ]
    },
    {
     "name": "stdout",
     "output_type": "stream",
     "text": [
      "Begin group  2 training\n"
     ]
    },
    {
     "name": "stderr",
     "output_type": "stream",
     "text": [
      "Epoch:  40%|██████████████████████████████▊                                              | 8/20 [00:00<00:00, 73.20it/s]"
     ]
    },
    {
     "name": "stdout",
     "output_type": "stream",
     "text": [
      "Begin group  3 training\n"
     ]
    },
    {
     "name": "stderr",
     "output_type": "stream",
     "text": [
      "Epoch:  70%|████████████████████████████████████████████████████▌                      | 14/20 [00:00<00:00, 139.81it/s]"
     ]
    },
    {
     "name": "stdout",
     "output_type": "stream",
     "text": [
      "Begin group  4 training\n"
     ]
    },
    {
     "name": "stderr",
     "output_type": "stream",
     "text": [
      "                                                                                                                        \r"
     ]
    },
    {
     "name": "stdout",
     "output_type": "stream",
     "text": [
      "Group 0, clients ['f_00167']\n",
      "Group 1, clients ['f_00104', 'f_00092', 'f_00111', 'f_00164', 'f_00124', 'f_00154', 'f_00125', 'f_00194']\n",
      "Group 2, clients ['f_00052', 'f_00163']\n",
      "Group 3, clients ['f_00126', 'f_00116', 'f_00096', 'f_00182', 'f_00196', 'f_00031']\n",
      "Group 4, clients ['f_00099', 'f_00069', 'f_00177']\n"
     ]
    },
    {
     "name": "stderr",
     "output_type": "stream",
     "text": [
      "                                                                                                                        "
     ]
    },
    {
     "name": "stdout",
     "output_type": "stream",
     "text": [
      "Group 0\n",
      "At round 100 accuracy: 0.7757575757575758\n",
      "At round 100 training accuracy: 0.7731384829505915\n",
      "At round 100 training loss: 0.6376578412540439\n",
      "Group 1\n",
      "At round 100 accuracy: 0.6075085324232082\n",
      "At round 100 training accuracy: 0.5994318181818182\n",
      "At round 100 training loss: 1.1320265577682718\n",
      "Group 2\n",
      "At round 100 accuracy: 0.5311284046692607\n",
      "At round 100 training accuracy: 0.5445783132530121\n",
      "At round 100 training loss: 1.8100191792156977\n",
      "Group 3\n",
      "At round 100 accuracy: 0.3870056497175141\n",
      "At round 100 training accuracy: 0.40476190476190477\n",
      "At round 100 training loss: 1.884067870514328\n",
      "Group 4\n",
      "At round 100 accuracy: 0.659016393442623\n",
      "At round 100 training accuracy: 0.6099568796550372\n",
      "At round 100 training loss: 0.9547669029338647\n",
      "At round 100 mean test accuracy: 0.5691268191268192 mean train accuracy: 0.566165276170757\n",
      "The groups difference are: [0.         0.98743785 1.09625756 0.79593877 0.42361872]\n",
      "Begin group  0 training\n",
      "Begin group  1 training\n"
     ]
    },
    {
     "name": "stderr",
     "output_type": "stream",
     "text": [
      "Epoch:  25%|███████████████████▎                                                         | 5/20 [00:00<00:00, 43.92it/s]"
     ]
    },
    {
     "name": "stdout",
     "output_type": "stream",
     "text": [
      "Begin group  2 training\n"
     ]
    },
    {
     "name": "stderr",
     "output_type": "stream",
     "text": [
      "Epoch:   0%|                                                                                     | 0/20 [00:00<?, ?it/s]"
     ]
    },
    {
     "name": "stdout",
     "output_type": "stream",
     "text": [
      "Begin group  3 training\n"
     ]
    },
    {
     "name": "stderr",
     "output_type": "stream",
     "text": [
      "Epoch:  60%|█████████████████████████████████████████████                              | 12/20 [00:00<00:00, 113.38it/s]"
     ]
    },
    {
     "name": "stdout",
     "output_type": "stream",
     "text": [
      "Begin group  4 training\n"
     ]
    },
    {
     "name": "stderr",
     "output_type": "stream",
     "text": [
      "                                                                                                                        \r"
     ]
    },
    {
     "name": "stdout",
     "output_type": "stream",
     "text": [
      "Group 0 is empty.\n",
      "Group 1, clients ['f_00054', 'f_00074', 'f_00145', 'f_00142', 'f_00112', 'f_00174', 'f_00055', 'f_00141', 'f_00025', 'f_00034']\n",
      "Group 2 is empty.\n",
      "Group 3, clients ['f_00031', 'f_00066', 'f_00170']\n",
      "Group 4, clients ['f_00037', 'f_00109', 'f_00089', 'f_00119', 'f_00148', 'f_00149', 'f_00039']\n"
     ]
    },
    {
     "name": "stderr",
     "output_type": "stream",
     "text": [
      "Epoch:  55%|█████████████████████████████████████████▎                                 | 11/20 [00:00<00:00, 103.91it/s]"
     ]
    },
    {
     "name": "stdout",
     "output_type": "stream",
     "text": [
      "Group 0\n",
      "At round 101 accuracy: 0.6545454545454545\n",
      "At round 101 training accuracy: 0.6430062630480167\n",
      "At round 101 training loss: 0.9608049823247317\n",
      "Group 1\n",
      "At round 101 accuracy: 0.5494880546075085\n",
      "At round 101 training accuracy: 0.562702922077922\n",
      "At round 101 training loss: 1.4701488453217528\n",
      "Group 2\n",
      "At round 101 accuracy: 0.6789883268482491\n",
      "At round 101 training accuracy: 0.7018619934282585\n",
      "At round 101 training loss: 0.6991754814476461\n",
      "Group 3\n",
      "At round 101 accuracy: 0.3870056497175141\n",
      "At round 101 training accuracy: 0.4051020408163265\n",
      "At round 101 training loss: 2.1233006605688405\n",
      "Group 4\n",
      "At round 101 accuracy: 0.7442622950819672\n",
      "At round 101 training accuracy: 0.7165817326538613\n",
      "At round 101 training loss: 0.7547333656409729\n",
      "At round 101 mean test accuracy: 0.5940748440748441 mean train accuracy: 0.604104500334937\n",
      "The groups difference are: [0.         1.0168021  1.09612168 0.77343152 0.40277054]\n",
      "Begin group  1 training\n"
     ]
    },
    {
     "name": "stderr",
     "output_type": "stream",
     "text": [
      "Epoch:  40%|██████████████████████████████▊                                              | 8/20 [00:00<00:00, 71.94it/s]"
     ]
    },
    {
     "name": "stdout",
     "output_type": "stream",
     "text": [
      "Begin group  3 training\n"
     ]
    },
    {
     "name": "stderr",
     "output_type": "stream",
     "text": [
      "Epoch:  35%|██████████████████████████▉                                                  | 7/20 [00:00<00:00, 66.49it/s]"
     ]
    },
    {
     "name": "stdout",
     "output_type": "stream",
     "text": [
      "Begin group  4 training\n"
     ]
    },
    {
     "name": "stderr",
     "output_type": "stream",
     "text": [
      "                                                                                                                        \r"
     ]
    },
    {
     "name": "stdout",
     "output_type": "stream",
     "text": [
      "Group 0, clients ['f_00118']\n",
      "Group 1, clients ['f_00142', 'f_00085', 'f_00054', 'f_00034', 'f_00185', 'f_00083', 'f_00005', 'f_00144']\n",
      "Group 2, clients ['f_00163', 'f_00002']\n",
      "Group 3, clients ['f_00120', 'f_00036']\n",
      "Group 4, clients ['f_00057', 'f_00029', 'f_00119', 'f_00008', 'f_00099', 'f_00129', 'f_00087']\n"
     ]
    },
    {
     "name": "stderr",
     "output_type": "stream",
     "text": [
      "Epoch:  20%|███████████████▍                                                             | 4/20 [00:00<00:00, 32.50it/s]"
     ]
    },
    {
     "name": "stdout",
     "output_type": "stream",
     "text": [
      "Group 0\n",
      "At round 102 accuracy: 0.6484848484848484\n",
      "At round 102 training accuracy: 0.6443980514961726\n",
      "At round 102 training loss: 0.942925134174676\n",
      "Group 1\n",
      "At round 102 accuracy: 0.6177474402730375\n",
      "At round 102 training accuracy: 0.6270292207792207\n",
      "At round 102 training loss: 1.2004886411263473\n",
      "Group 2\n",
      "At round 102 accuracy: 0.6926070038910506\n",
      "At round 102 training accuracy: 0.7130339539978094\n",
      "At round 102 training loss: 0.6795289283449\n",
      "Group 3\n",
      "At round 102 accuracy: 0.3954802259887006\n",
      "At round 102 training accuracy: 0.41156462585034015\n",
      "At round 102 training loss: 1.623531343828456\n",
      "Group 4\n",
      "At round 102 accuracy: 0.6950819672131148\n",
      "At round 102 training accuracy: 0.6409251274010193\n",
      "At round 102 training loss: 0.7974899885982497\n",
      "At round 102 mean test accuracy: 0.6117463617463618 mean train accuracy: 0.6160404360270385\n",
      "The groups difference are: [0.         0.97510305 1.03308113 0.75379647 0.40940454]\n",
      "Begin group  0 training\n"
     ]
    },
    {
     "name": "stderr",
     "output_type": "stream",
     "text": [
      "Epoch:   0%|                                                                                     | 0/20 [00:00<?, ?it/s]"
     ]
    },
    {
     "name": "stdout",
     "output_type": "stream",
     "text": [
      "Begin group  1 training\n"
     ]
    },
    {
     "name": "stderr",
     "output_type": "stream",
     "text": [
      "Epoch:   0%|                                                                                     | 0/20 [00:00<?, ?it/s]"
     ]
    },
    {
     "name": "stdout",
     "output_type": "stream",
     "text": [
      "Begin group  2 training\n"
     ]
    },
    {
     "name": "stderr",
     "output_type": "stream",
     "text": [
      "Epoch:   0%|                                                                                     | 0/20 [00:00<?, ?it/s]"
     ]
    },
    {
     "name": "stdout",
     "output_type": "stream",
     "text": [
      "Begin group  3 training\n"
     ]
    },
    {
     "name": "stderr",
     "output_type": "stream",
     "text": [
      "Epoch:   0%|                                                                                     | 0/20 [00:00<?, ?it/s]"
     ]
    },
    {
     "name": "stdout",
     "output_type": "stream",
     "text": [
      "Begin group  4 training\n"
     ]
    },
    {
     "name": "stderr",
     "output_type": "stream",
     "text": [
      "                                                                                                                        \r"
     ]
    },
    {
     "name": "stdout",
     "output_type": "stream",
     "text": [
      "Group 0 is empty.\n",
      "Group 1, clients ['f_00162', 'f_00085', 'f_00064', 'f_00113', 'f_00032', 'f_00101', 'f_00164', 'f_00111']\n",
      "Group 2, clients ['f_00052']\n",
      "Group 3, clients ['f_00155', 'f_00031', 'f_00160', 'f_00186', 'f_00166', 'f_00003', 'f_00193', 'f_00190']\n",
      "Group 4, clients ['f_00009', 'f_00149', 'f_00127']\n"
     ]
    },
    {
     "name": "stderr",
     "output_type": "stream",
     "text": [
      "Epoch:   0%|                                                                                     | 0/20 [00:00<?, ?it/s]"
     ]
    },
    {
     "name": "stdout",
     "output_type": "stream",
     "text": [
      "Group 0\n",
      "At round 103 accuracy: 0.7515151515151515\n",
      "At round 103 training accuracy: 0.7842727905358385\n",
      "At round 103 training loss: 0.6995861153886314\n",
      "Group 1\n",
      "At round 103 accuracy: 0.5580204778156996\n",
      "At round 103 training accuracy: 0.554586038961039\n",
      "At round 103 training loss: 1.520529665990261\n",
      "Group 2\n",
      "At round 103 accuracy: 0.7470817120622568\n",
      "At round 103 training accuracy: 0.7564074479737131\n",
      "At round 103 training loss: 0.5823563906736468\n",
      "Group 3\n",
      "At round 103 accuracy: 0.672316384180791\n",
      "At round 103 training accuracy: 0.7261904761904762\n",
      "At round 103 training loss: 0.9475528335490194\n",
      "Group 4\n",
      "At round 103 accuracy: 0.6622950819672131\n",
      "At round 103 training accuracy: 0.6338690709525676\n",
      "At round 103 training loss: 0.8049296039733079\n",
      "At round 103 mean test accuracy: 0.6626819126819127 mean train accuracy: 0.6738322879239997\n",
      "The groups difference are: [0.         1.01961282 1.05505417 0.77019447 0.41131582]\n",
      "Begin group  1 training\n"
     ]
    },
    {
     "name": "stderr",
     "output_type": "stream",
     "text": [
      "Epoch:  30%|███████████████████████                                                      | 6/20 [00:00<00:00, 53.54it/s]"
     ]
    },
    {
     "name": "stdout",
     "output_type": "stream",
     "text": [
      "Begin group  2 training\n"
     ]
    },
    {
     "name": "stderr",
     "output_type": "stream",
     "text": [
      "Epoch:   0%|                                                                                     | 0/20 [00:00<?, ?it/s]"
     ]
    },
    {
     "name": "stdout",
     "output_type": "stream",
     "text": [
      "Begin group  3 training\n"
     ]
    },
    {
     "name": "stderr",
     "output_type": "stream",
     "text": [
      "Epoch:   0%|                                                                                     | 0/20 [00:00<?, ?it/s]"
     ]
    },
    {
     "name": "stdout",
     "output_type": "stream",
     "text": [
      "Begin group  4 training\n"
     ]
    },
    {
     "name": "stderr",
     "output_type": "stream",
     "text": [
      "                                                                                                                        \r"
     ]
    },
    {
     "name": "stdout",
     "output_type": "stream",
     "text": [
      "Group 0, clients ['f_00018', 'f_00028']\n",
      "Group 1, clients ['f_00104', 'f_00034', 'f_00064', 'f_00045', 'f_00005', 'f_00154', 'f_00192', 'f_00113', 'f_00084', 'f_00153', 'f_00164']\n",
      "Group 2, clients ['f_00123']\n",
      "Group 3, clients ['f_00128', 'f_00061', 'f_00130', 'f_00001']\n",
      "Group 4, clients ['f_00049', 'f_00047']\n"
     ]
    },
    {
     "name": "stderr",
     "output_type": "stream",
     "text": [
      "                                                                                                                        "
     ]
    },
    {
     "name": "stdout",
     "output_type": "stream",
     "text": [
      "Group 0\n",
      "At round 104 accuracy: 0.7515151515151515\n",
      "At round 104 training accuracy: 0.7842727905358385\n",
      "At round 104 training loss: 0.6863162680143438\n",
      "Group 1\n",
      "At round 104 accuracy: 0.5767918088737202\n",
      "At round 104 training accuracy: 0.5868506493506493\n",
      "At round 104 training loss: 1.3215336819941348\n",
      "Group 2\n",
      "At round 104 accuracy: 0.8093385214007782\n",
      "At round 104 training accuracy: 0.8164293537787514\n",
      "At round 104 training loss: 0.6516706056231868\n",
      "Group 3\n",
      "At round 104 accuracy: 0.4689265536723164\n",
      "At round 104 training accuracy: 0.4792517006802721\n",
      "At round 104 training loss: 1.5020390254705132\n",
      "Group 4\n",
      "At round 104 accuracy: 0.6754098360655738\n",
      "At round 104 training accuracy: 0.6205409643277147\n",
      "At round 104 training loss: 0.9500526004459567\n",
      "At round 104 mean test accuracy: 0.6496881496881497 mean train accuracy: 0.6539187625601364\n",
      "The groups difference are: [0.         1.00904943 1.05180927 0.77585586 0.414064  ]\n",
      "Begin group  0 training\n",
      "Begin group  1 training\n"
     ]
    },
    {
     "name": "stderr",
     "output_type": "stream",
     "text": [
      "Epoch:  20%|███████████████▍                                                             | 4/20 [00:00<00:00, 35.33it/s]"
     ]
    },
    {
     "name": "stdout",
     "output_type": "stream",
     "text": [
      "Begin group  2 training\n"
     ]
    },
    {
     "name": "stderr",
     "output_type": "stream",
     "text": [
      "Epoch:   0%|                                                                                     | 0/20 [00:00<?, ?it/s]"
     ]
    },
    {
     "name": "stdout",
     "output_type": "stream",
     "text": [
      "Begin group  3 training\n",
      "Begin group  4 training\n"
     ]
    },
    {
     "name": "stderr",
     "output_type": "stream",
     "text": [
      "                                                                                                                        \r"
     ]
    },
    {
     "name": "stdout",
     "output_type": "stream",
     "text": [
      "Group 0, clients ['f_00018', 'f_00118', 'f_00198']\n",
      "Group 1, clients ['f_00044', 'f_00191', 'f_00171', 'f_00125', 'f_00115']\n",
      "Group 2, clients ['f_00093']\n",
      "Group 3, clients ['f_00096', 'f_00193', 'f_00110', 'f_00128', 'f_00043', 'f_00126', 'f_00086']\n",
      "Group 4, clients ['f_00168', 'f_00037', 'f_00147', 'f_00139']\n"
     ]
    },
    {
     "name": "stderr",
     "output_type": "stream",
     "text": [
      "Epoch:   0%|                                                                                     | 0/20 [00:00<?, ?it/s]"
     ]
    },
    {
     "name": "stdout",
     "output_type": "stream",
     "text": [
      "Group 0\n",
      "At round 105 accuracy: 0.7757575757575758\n",
      "At round 105 training accuracy: 0.7661795407098121\n",
      "At round 105 training loss: 0.7103469477151115\n",
      "Group 1\n",
      "At round 105 accuracy: 0.5494880546075085\n",
      "At round 105 training accuracy: 0.5525568181818182\n",
      "At round 105 training loss: 1.6234956000592897\n",
      "Group 2\n",
      "At round 105 accuracy: 0.7217898832684825\n",
      "At round 105 training accuracy: 0.695290251916758\n",
      "At round 105 training loss: 1.0236958317695286\n",
      "Group 3\n",
      "At round 105 accuracy: 0.403954802259887\n",
      "At round 105 training accuracy: 0.41904761904761906\n",
      "At round 105 training loss: 1.5533158409250836\n",
      "Group 4\n",
      "At round 105 accuracy: 0.7311475409836066\n",
      "At round 105 training accuracy: 0.724421795374363\n",
      "At round 105 training loss: 0.7308881467742016\n",
      "At round 105 mean test accuracy: 0.6169438669438669 mean train accuracy: 0.6137263260459168\n",
      "The groups difference are: [0.         1.02979014 1.06452229 0.75895681 0.39954872]\n",
      "Begin group  0 training\n"
     ]
    },
    {
     "name": "stderr",
     "output_type": "stream",
     "text": [
      "Epoch:   0%|                                                                                     | 0/20 [00:00<?, ?it/s]"
     ]
    },
    {
     "name": "stdout",
     "output_type": "stream",
     "text": [
      "Begin group  1 training\n"
     ]
    },
    {
     "name": "stderr",
     "output_type": "stream",
     "text": [
      "Epoch:  30%|███████████████████████                                                      | 6/20 [00:00<00:00, 55.24it/s]"
     ]
    },
    {
     "name": "stdout",
     "output_type": "stream",
     "text": [
      "Begin group  2 training\n"
     ]
    },
    {
     "name": "stderr",
     "output_type": "stream",
     "text": [
      "Epoch:  50%|██████████████████████████████████████                                      | 10/20 [00:00<00:00, 92.90it/s]"
     ]
    },
    {
     "name": "stdout",
     "output_type": "stream",
     "text": [
      "Begin group  3 training\n"
     ]
    },
    {
     "name": "stderr",
     "output_type": "stream",
     "text": [
      "Epoch:  35%|██████████████████████████▉                                                  | 7/20 [00:00<00:00, 61.81it/s]"
     ]
    },
    {
     "name": "stdout",
     "output_type": "stream",
     "text": [
      "Begin group  4 training\n"
     ]
    },
    {
     "name": "stderr",
     "output_type": "stream",
     "text": [
      "                                                                                                                        \r"
     ]
    },
    {
     "name": "stdout",
     "output_type": "stream",
     "text": [
      "Group 0 is empty.\n",
      "Group 1, clients ['f_00181', 'f_00065', 'f_00154', 'f_00192', 'f_00124', 'f_00032', 'f_00174', 'f_00063', 'f_00014', 'f_00084']\n",
      "Group 2, clients ['f_00102']\n",
      "Group 3, clients ['f_00036', 'f_00060', 'f_00003', 'f_00016', 'f_00190', 'f_00133']\n",
      "Group 4, clients ['f_00049', 'f_00019', 'f_00149']\n"
     ]
    },
    {
     "name": "stderr",
     "output_type": "stream",
     "text": [
      "Epoch:   0%|                                                                                     | 0/20 [00:00<?, ?it/s]"
     ]
    },
    {
     "name": "stdout",
     "output_type": "stream",
     "text": [
      "Group 0\n",
      "At round 106 accuracy: 0.7575757575757576\n",
      "At round 106 training accuracy: 0.7341684064022269\n",
      "At round 106 training loss: 0.8114220088110587\n",
      "Group 1\n",
      "At round 106 accuracy: 0.7747440273037542\n",
      "At round 106 training accuracy: 0.7637987012987013\n",
      "At round 106 training loss: 0.9658542376906647\n",
      "Group 2\n",
      "At round 106 accuracy: 0.7140077821011673\n",
      "At round 106 training accuracy: 0.6976998904709748\n",
      "At round 106 training loss: 1.3578920219187407\n",
      "Group 3\n",
      "At round 106 accuracy: 0.4576271186440678\n",
      "At round 106 training accuracy: 0.4785714285714286\n",
      "At round 106 training loss: 1.2471354377918502\n",
      "Group 4\n",
      "At round 106 accuracy: 0.5967213114754099\n",
      "At round 106 training accuracy: 0.6236769894159153\n",
      "At round 106 training loss: 1.0390751950182853\n",
      "At round 106 mean test accuracy: 0.6704781704781705 mean train accuracy: 0.6699957371658243\n",
      "The groups difference are: [0.         1.01511185 1.08549269 0.74413838 0.41842021]\n",
      "Begin group  1 training\n"
     ]
    },
    {
     "name": "stderr",
     "output_type": "stream",
     "text": [
      "Epoch:  20%|███████████████▍                                                             | 4/20 [00:00<00:00, 37.57it/s]"
     ]
    },
    {
     "name": "stdout",
     "output_type": "stream",
     "text": [
      "Begin group  2 training\n"
     ]
    },
    {
     "name": "stderr",
     "output_type": "stream",
     "text": [
      "Epoch:   0%|                                                                                     | 0/20 [00:00<?, ?it/s]"
     ]
    },
    {
     "name": "stdout",
     "output_type": "stream",
     "text": [
      "Begin group  3 training\n"
     ]
    },
    {
     "name": "stderr",
     "output_type": "stream",
     "text": [
      "Epoch:  70%|████████████████████████████████████████████████████▌                      | 14/20 [00:00<00:00, 133.28it/s]"
     ]
    },
    {
     "name": "stdout",
     "output_type": "stream",
     "text": [
      "Begin group  4 training\n"
     ]
    },
    {
     "name": "stderr",
     "output_type": "stream",
     "text": [
      "                                                                                                                        \r"
     ]
    },
    {
     "name": "stdout",
     "output_type": "stream",
     "text": [
      "Group 0, clients ['f_00018']\n",
      "Group 1, clients ['f_00010', 'f_00173', 'f_00164', 'f_00012', 'f_00132']\n",
      "Group 2, clients ['f_00121', 'f_00052', 'f_00002']\n",
      "Group 3, clients ['f_00128', 'f_00193']\n",
      "Group 4, clients ['f_00097', 'f_00019', 'f_00039', 'f_00129', 'f_00127', 'f_00109', 'f_00159', 'f_00069', 'f_00078']\n"
     ]
    },
    {
     "name": "stderr",
     "output_type": "stream",
     "text": [
      "Epoch:   0%|                                                                                     | 0/20 [00:00<?, ?it/s]"
     ]
    },
    {
     "name": "stdout",
     "output_type": "stream",
     "text": [
      "Group 0\n",
      "At round 107 accuracy: 0.7636363636363637\n",
      "At round 107 training accuracy: 0.7383437717466945\n",
      "At round 107 training loss: 0.7897394325638614\n",
      "Group 1\n",
      "At round 107 accuracy: 0.5648464163822525\n",
      "At round 107 training accuracy: 0.5736607142857143\n",
      "At round 107 training loss: 1.2891816033606793\n",
      "Group 2\n",
      "At round 107 accuracy: 0.8210116731517509\n",
      "At round 107 training accuracy: 0.8212486308871851\n",
      "At round 107 training loss: 0.5698998293309979\n",
      "Group 3\n",
      "At round 107 accuracy: 0.6779661016949152\n",
      "At round 107 training accuracy: 0.7231292517006803\n",
      "At round 107 training loss: 0.9268699729118217\n",
      "Group 4\n",
      "At round 107 accuracy: 0.6655737704918033\n",
      "At round 107 training accuracy: 0.6166209329674638\n",
      "At round 107 training loss: 1.356824265057692\n",
      "At round 107 mean test accuracy: 0.6871101871101871 mean train accuracy: 0.6903355459472627\n",
      "The groups difference are: [0.         1.00354293 1.06740526 0.72065904 0.44845726]\n",
      "Begin group  0 training\n",
      "Begin group  1 training\n"
     ]
    },
    {
     "name": "stderr",
     "output_type": "stream",
     "text": [
      "Epoch:  25%|███████████████████▎                                                         | 5/20 [00:00<00:00, 44.78it/s]"
     ]
    },
    {
     "name": "stdout",
     "output_type": "stream",
     "text": [
      "Begin group  2 training\n"
     ]
    },
    {
     "name": "stderr",
     "output_type": "stream",
     "text": [
      "Epoch:   0%|                                                                                     | 0/20 [00:00<?, ?it/s]"
     ]
    },
    {
     "name": "stdout",
     "output_type": "stream",
     "text": [
      "Begin group  3 training\n",
      "Begin group  4 training\n"
     ]
    },
    {
     "name": "stderr",
     "output_type": "stream",
     "text": [
      "                                                                                                                        \r"
     ]
    },
    {
     "name": "stdout",
     "output_type": "stream",
     "text": [
      "Group 0, clients ['f_00098']\n",
      "Group 1, clients ['f_00022', 'f_00113', 'f_00074', 'f_00063']\n",
      "Group 2, clients ['f_00002']\n",
      "Group 3, clients ['f_00180', 'f_00196', 'f_00146', 'f_00030', 'f_00106', 'f_00024', 'f_00031', 'f_00140']\n",
      "Group 4, clients ['f_00089', 'f_00077', 'f_00019', 'f_00009', 'f_00007', 'f_00179']\n"
     ]
    },
    {
     "name": "stderr",
     "output_type": "stream",
     "text": [
      "Epoch:  20%|███████████████▍                                                             | 4/20 [00:00<00:00, 36.13it/s]"
     ]
    },
    {
     "name": "stdout",
     "output_type": "stream",
     "text": [
      "Group 0\n",
      "At round 108 accuracy: 0.7757575757575758\n",
      "At round 108 training accuracy: 0.7724425887265136\n",
      "At round 108 training loss: 0.7559473610164892\n",
      "Group 1\n",
      "At round 108 accuracy: 0.5887372013651877\n",
      "At round 108 training accuracy: 0.5947646103896104\n",
      "At round 108 training loss: 1.1413863842049008\n",
      "Group 2\n",
      "At round 108 accuracy: 0.7334630350194552\n",
      "At round 108 training accuracy: 0.7590361445783133\n",
      "At round 108 training loss: 0.6635939253512505\n",
      "Group 3\n",
      "At round 108 accuracy: 0.307909604519774\n",
      "At round 108 training accuracy: 0.2938775510204082\n",
      "At round 108 training loss: 1.8056249002514242\n",
      "Group 4\n",
      "At round 108 accuracy: 0.6688524590163935\n",
      "At round 108 training accuracy: 0.6150529204233633\n",
      "At round 108 training loss: 1.368954595206112\n",
      "At round 108 mean test accuracy: 0.6044698544698545 mean train accuracy: 0.6052615553254979\n",
      "The groups difference are: [0.         0.99244852 1.05960864 0.70986172 0.448799  ]\n",
      "Begin group  0 training\n"
     ]
    },
    {
     "name": "stderr",
     "output_type": "stream",
     "text": [
      "Epoch:   0%|                                                                                     | 0/20 [00:00<?, ?it/s]"
     ]
    },
    {
     "name": "stdout",
     "output_type": "stream",
     "text": [
      "Begin group  1 training\n"
     ]
    },
    {
     "name": "stderr",
     "output_type": "stream",
     "text": [
      "Epoch:  35%|██████████████████████████▉                                                  | 7/20 [00:00<00:00, 69.55it/s]"
     ]
    },
    {
     "name": "stdout",
     "output_type": "stream",
     "text": [
      "Begin group  2 training\n"
     ]
    },
    {
     "name": "stderr",
     "output_type": "stream",
     "text": [
      "Epoch:  25%|███████████████████▎                                                         | 5/20 [00:00<00:00, 41.50it/s]"
     ]
    },
    {
     "name": "stdout",
     "output_type": "stream",
     "text": [
      "Begin group  3 training\n"
     ]
    },
    {
     "name": "stderr",
     "output_type": "stream",
     "text": [
      "Epoch:   0%|                                                                                     | 0/20 [00:00<?, ?it/s]"
     ]
    },
    {
     "name": "stdout",
     "output_type": "stream",
     "text": [
      "Begin group  4 training\n"
     ]
    },
    {
     "name": "stderr",
     "output_type": "stream",
     "text": [
      "                                                                                                                        \r"
     ]
    },
    {
     "name": "stdout",
     "output_type": "stream",
     "text": [
      "Group 0 is empty.\n",
      "Group 1, clients ['f_00054', 'f_00005', 'f_00083', 'f_00070', 'f_00055', 'f_00124', 'f_00035', 'f_00014']\n",
      "Group 2, clients ['f_00023']\n",
      "Group 3, clients ['f_00001', 'f_00076', 'f_00155', 'f_00066', 'f_00190', 'f_00193', 'f_00130', 'f_00110']\n",
      "Group 4, clients ['f_00079', 'f_00047', 'f_00107']\n"
     ]
    },
    {
     "name": "stderr",
     "output_type": "stream",
     "text": [
      "Epoch:  20%|███████████████▍                                                             | 4/20 [00:00<00:00, 34.85it/s]"
     ]
    },
    {
     "name": "stdout",
     "output_type": "stream",
     "text": [
      "Group 0\n",
      "At round 109 accuracy: 0.7878787878787878\n",
      "At round 109 training accuracy: 0.7849686847599165\n",
      "At round 109 training loss: 0.8201635303850712\n",
      "Group 1\n",
      "At round 109 accuracy: 0.5290102389078498\n",
      "At round 109 training accuracy: 0.5253652597402597\n",
      "At round 109 training loss: 1.4900381502864712\n",
      "Group 2\n",
      "At round 109 accuracy: 0.8132295719844358\n",
      "At round 109 training accuracy: 0.8098576122672508\n",
      "At round 109 training loss: 0.6614963021361946\n",
      "Group 3\n",
      "At round 109 accuracy: 0.4717514124293785\n",
      "At round 109 training accuracy: 0.4925170068027211\n",
      "At round 109 training loss: 1.4111178520078562\n",
      "Group 4\n",
      "At round 109 accuracy: 0.659016393442623\n",
      "At round 109 training accuracy: 0.6083888671109369\n",
      "At round 109 training loss: 1.0430568748714877\n",
      "At round 109 mean test accuracy: 0.6372141372141372 mean train accuracy: 0.6341879300895196\n",
      "The groups difference are: [0.         1.01181086 1.08696555 0.73909893 0.45847508]\n",
      "Begin group  1 training\n"
     ]
    },
    {
     "name": "stderr",
     "output_type": "stream",
     "text": [
      "Epoch:  35%|██████████████████████████▉                                                  | 7/20 [00:00<00:00, 66.01it/s]"
     ]
    },
    {
     "name": "stdout",
     "output_type": "stream",
     "text": [
      "Begin group  2 training\n"
     ]
    },
    {
     "name": "stderr",
     "output_type": "stream",
     "text": [
      "Epoch:  20%|███████████████▍                                                             | 4/20 [00:00<00:00, 39.20it/s]"
     ]
    },
    {
     "name": "stdout",
     "output_type": "stream",
     "text": [
      "Begin group  3 training\n"
     ]
    },
    {
     "name": "stderr",
     "output_type": "stream",
     "text": [
      "Epoch:  40%|██████████████████████████████▊                                              | 8/20 [00:00<00:00, 79.36it/s]"
     ]
    },
    {
     "name": "stdout",
     "output_type": "stream",
     "text": [
      "Begin group  4 training\n"
     ]
    },
    {
     "name": "stderr",
     "output_type": "stream",
     "text": [
      "                                                                                                                        \r"
     ]
    },
    {
     "name": "stdout",
     "output_type": "stream",
     "text": [
      "Group 0, clients ['f_00028', 'f_00198']\n",
      "Group 1, clients ['f_00124', 'f_00065', 'f_00071', 'f_00185', 'f_00055']\n",
      "Group 2, clients ['f_00042']\n",
      "Group 3, clients ['f_00140', 'f_00151', 'f_00020', 'f_00086', 'f_00041', 'f_00100']\n",
      "Group 4, clients ['f_00168', 'f_00197', 'f_00147', 'f_00027', 'f_00119', 'f_00079']\n"
     ]
    },
    {
     "name": "stderr",
     "output_type": "stream",
     "text": [
      "Epoch:   0%|                                                                                     | 0/20 [00:00<?, ?it/s]"
     ]
    },
    {
     "name": "stdout",
     "output_type": "stream",
     "text": [
      "Group 0\n",
      "At round 110 accuracy: 0.7878787878787878\n",
      "At round 110 training accuracy: 0.7842727905358385\n",
      "At round 110 training loss: 0.796093283300194\n",
      "Group 1\n",
      "At round 110 accuracy: 0.6177474402730375\n",
      "At round 110 training accuracy: 0.6270292207792207\n",
      "At round 110 training loss: 1.0519559378675245\n",
      "Group 2\n",
      "At round 110 accuracy: 0.7237354085603113\n",
      "At round 110 training accuracy: 0.7093099671412925\n",
      "At round 110 training loss: 1.0010149851163925\n",
      "Group 3\n",
      "At round 110 accuracy: 0.5225988700564972\n",
      "At round 110 training accuracy: 0.5268707482993197\n",
      "At round 110 training loss: 1.1454017085485717\n",
      "Group 4\n",
      "At round 110 accuracy: 0.7081967213114754\n",
      "At round 110 training accuracy: 0.6542532340258722\n",
      "At round 110 training loss: 0.7709763283965074\n",
      "At round 110 mean test accuracy: 0.6574844074844075 mean train accuracy: 0.6499604165397966\n",
      "The groups difference are: [0.         0.97847144 1.0635768  0.72186466 0.45010387]\n",
      "Begin group  0 training\n"
     ]
    },
    {
     "name": "stderr",
     "output_type": "stream",
     "text": [
      "Epoch:  35%|██████████████████████████▉                                                  | 7/20 [00:00<00:00, 62.84it/s]"
     ]
    },
    {
     "name": "stdout",
     "output_type": "stream",
     "text": [
      "Begin group  1 training\n"
     ]
    },
    {
     "name": "stderr",
     "output_type": "stream",
     "text": [
      "Epoch:   0%|                                                                                     | 0/20 [00:00<?, ?it/s]"
     ]
    },
    {
     "name": "stdout",
     "output_type": "stream",
     "text": [
      "Begin group  2 training\n",
      "Begin group  3 training\n"
     ]
    },
    {
     "name": "stderr",
     "output_type": "stream",
     "text": [
      "Epoch:  55%|█████████████████████████████████████████▎                                 | 11/20 [00:00<00:00, 109.87it/s]"
     ]
    },
    {
     "name": "stdout",
     "output_type": "stream",
     "text": [
      "Begin group  4 training\n"
     ]
    },
    {
     "name": "stderr",
     "output_type": "stream",
     "text": [
      "                                                                                                                        \r"
     ]
    },
    {
     "name": "stdout",
     "output_type": "stream",
     "text": [
      "Group 0, clients ['f_00198']\n",
      "Group 1, clients ['f_00132', 'f_00035', 'f_00195', 'f_00164', 'f_00175', 'f_00145', 'f_00183', 'f_00011', 'f_00055']\n",
      "Group 2, clients ['f_00023', 'f_00163', 'f_00093']\n",
      "Group 3, clients ['f_00126', 'f_00076', 'f_00150']\n",
      "Group 4, clients ['f_00129', 'f_00079', 'f_00159', 'f_00009']\n"
     ]
    },
    {
     "name": "stderr",
     "output_type": "stream",
     "text": [
      "Epoch:   0%|                                                                                     | 0/20 [00:00<?, ?it/s]"
     ]
    },
    {
     "name": "stdout",
     "output_type": "stream",
     "text": [
      "Group 0\n",
      "At round 111 accuracy: 0.7878787878787878\n",
      "At round 111 training accuracy: 0.8009742519137091\n",
      "At round 111 training loss: 0.8069784230213657\n",
      "Group 1\n",
      "At round 111 accuracy: 0.5989761092150171\n",
      "At round 111 training accuracy: 0.593952922077922\n",
      "At round 111 training loss: 1.1880189561793073\n",
      "Group 2\n",
      "At round 111 accuracy: 0.8190661478599222\n",
      "At round 111 training accuracy: 0.8251916757940855\n",
      "At round 111 training loss: 0.5594902929314387\n",
      "Group 3\n",
      "At round 111 accuracy: 0.4632768361581921\n",
      "At round 111 training accuracy: 0.48299319727891155\n",
      "At round 111 training loss: 1.4324808212060507\n",
      "Group 4\n",
      "At round 111 accuracy: 0.6459016393442623\n",
      "At round 111 training accuracy: 0.5915327322618581\n",
      "At round 111 training loss: 0.8621087373821748\n",
      "At round 111 mean test accuracy: 0.6564449064449065 mean train accuracy: 0.6561110772790938\n",
      "The groups difference are: [0.         0.98780892 1.04519028 0.73691541 0.45048679]\n",
      "Begin group  0 training\n",
      "Begin group  1 training\n"
     ]
    },
    {
     "name": "stderr",
     "output_type": "stream",
     "text": [
      "Epoch:  35%|██████████████████████████▉                                                  | 7/20 [00:00<00:00, 66.15it/s]"
     ]
    },
    {
     "name": "stdout",
     "output_type": "stream",
     "text": [
      "Begin group  2 training\n"
     ]
    },
    {
     "name": "stderr",
     "output_type": "stream",
     "text": [
      "Epoch:  20%|███████████████▍                                                             | 4/20 [00:00<00:00, 35.73it/s]"
     ]
    },
    {
     "name": "stdout",
     "output_type": "stream",
     "text": [
      "Begin group  3 training\n"
     ]
    },
    {
     "name": "stderr",
     "output_type": "stream",
     "text": [
      "Epoch:   0%|                                                                                     | 0/20 [00:00<?, ?it/s]"
     ]
    },
    {
     "name": "stdout",
     "output_type": "stream",
     "text": [
      "Begin group  4 training\n"
     ]
    },
    {
     "name": "stderr",
     "output_type": "stream",
     "text": [
      "                                                                                                                        \r"
     ]
    },
    {
     "name": "stdout",
     "output_type": "stream",
     "text": [
      "Group 0, clients ['f_00108', 'f_00178']\n",
      "Group 1, clients ['f_00173', 'f_00015', 'f_00145', 'f_00142']\n",
      "Group 2, clients ['f_00121', 'f_00072', 'f_00082', 'f_00023']\n",
      "Group 3, clients ['f_00150', 'f_00050', 'f_00166', 'f_00140', 'f_00110', 'f_00114', 'f_00024']\n",
      "Group 4, clients ['f_00019', 'f_00099', 'f_00088']\n"
     ]
    },
    {
     "name": "stderr",
     "output_type": "stream",
     "text": [
      "Epoch:  35%|██████████████████████████▉                                                  | 7/20 [00:00<00:00, 64.40it/s]"
     ]
    },
    {
     "name": "stdout",
     "output_type": "stream",
     "text": [
      "Group 0\n",
      "At round 112 accuracy: 0.7878787878787878\n",
      "At round 112 training accuracy: 0.7947112038970077\n",
      "At round 112 training loss: 0.8035451941549903\n",
      "Group 1\n",
      "At round 112 accuracy: 0.5580204778156996\n",
      "At round 112 training accuracy: 0.567573051948052\n",
      "At round 112 training loss: 1.3198782010669154\n",
      "Group 2\n",
      "At round 112 accuracy: 0.7237354085603113\n",
      "At round 112 training accuracy: 0.700328587075575\n",
      "At round 112 training loss: 1.0263660205872924\n",
      "Group 3\n",
      "At round 112 accuracy: 0.3870056497175141\n",
      "At round 112 training accuracy: 0.40714285714285714\n",
      "At round 112 training loss: 1.825999098337021\n",
      "Group 4\n",
      "At round 112 accuracy: 0.6360655737704918\n",
      "At round 112 training accuracy: 0.5981967855742846\n",
      "At round 112 training loss: 1.5930979379435606\n",
      "At round 112 mean test accuracy: 0.6029106029106029 mean train accuracy: 0.6003897448389258\n",
      "The groups difference are: [0.         1.00602908 1.04842905 0.75585463 0.49651979]\n",
      "Begin group  0 training\n"
     ]
    },
    {
     "name": "stderr",
     "output_type": "stream",
     "text": [
      "Epoch:   0%|                                                                                     | 0/20 [00:00<?, ?it/s]"
     ]
    },
    {
     "name": "stdout",
     "output_type": "stream",
     "text": [
      "Begin group  1 training\n"
     ]
    },
    {
     "name": "stderr",
     "output_type": "stream",
     "text": [
      "Epoch:  20%|███████████████▍                                                             | 4/20 [00:00<00:00, 37.19it/s]"
     ]
    },
    {
     "name": "stdout",
     "output_type": "stream",
     "text": [
      "Begin group  2 training\n"
     ]
    },
    {
     "name": "stderr",
     "output_type": "stream",
     "text": [
      "Epoch:   0%|                                                                                     | 0/20 [00:00<?, ?it/s]"
     ]
    },
    {
     "name": "stdout",
     "output_type": "stream",
     "text": [
      "Begin group  3 training\n"
     ]
    },
    {
     "name": "stderr",
     "output_type": "stream",
     "text": [
      "Epoch:   0%|                                                                                     | 0/20 [00:00<?, ?it/s]"
     ]
    },
    {
     "name": "stdout",
     "output_type": "stream",
     "text": [
      "Begin group  4 training\n"
     ]
    },
    {
     "name": "stderr",
     "output_type": "stream",
     "text": [
      "                                                                                                                        \r"
     ]
    },
    {
     "name": "stdout",
     "output_type": "stream",
     "text": [
      "Group 0 is empty.\n",
      "Group 1, clients ['f_00142', 'f_00071', 'f_00022', 'f_00034', 'f_00063', 'f_00091', 'f_00124']\n",
      "Group 2, clients ['f_00062']\n",
      "Group 3, clients ['f_00016', 'f_00155', 'f_00030', 'f_00161', 'f_00006', 'f_00114']\n",
      "Group 4, clients ['f_00057', 'f_00019', 'f_00127', 'f_00117', 'f_00017', 'f_00009']\n"
     ]
    },
    {
     "name": "stderr",
     "output_type": "stream",
     "text": [
      "Epoch:   0%|                                                                                     | 0/20 [00:00<?, ?it/s]"
     ]
    },
    {
     "name": "stdout",
     "output_type": "stream",
     "text": [
      "Group 0\n",
      "At round 113 accuracy: 0.7878787878787878\n",
      "At round 113 training accuracy: 0.7905358385525401\n",
      "At round 113 training loss: 0.8271606854664093\n",
      "Group 1\n",
      "At round 113 accuracy: 0.6092150170648464\n",
      "At round 113 training accuracy: 0.5874594155844156\n",
      "At round 113 training loss: 1.358478328370332\n",
      "Group 2\n",
      "At round 113 accuracy: 0.8385214007782101\n",
      "At round 113 training accuracy: 0.8403066812705366\n",
      "At round 113 training loss: 0.49963644980600863\n",
      "Group 3\n",
      "At round 113 accuracy: 0.596045197740113\n",
      "At round 113 training accuracy: 0.6020408163265306\n",
      "At round 113 training loss: 1.1525796635925365\n",
      "Group 4\n",
      "At round 113 accuracy: 0.6655737704918033\n",
      "At round 113 training accuracy: 0.6232849862798903\n",
      "At round 113 training loss: 1.460207436229378\n",
      "At round 113 mean test accuracy: 0.6923076923076923 mean train accuracy: 0.6836977041593082\n",
      "The groups difference are: [0.         1.00982366 1.03893067 0.73933195 0.48822964]\n",
      "Begin group  1 training\n"
     ]
    },
    {
     "name": "stderr",
     "output_type": "stream",
     "text": [
      "Epoch:   5%|███▊                                                                         | 1/20 [00:00<00:03,  5.37it/s]"
     ]
    },
    {
     "name": "stdout",
     "output_type": "stream",
     "text": [
      "Begin group  2 training\n"
     ]
    },
    {
     "name": "stderr",
     "output_type": "stream",
     "text": [
      "Epoch:   0%|                                                                                     | 0/20 [00:00<?, ?it/s]"
     ]
    },
    {
     "name": "stdout",
     "output_type": "stream",
     "text": [
      "Begin group  3 training\n"
     ]
    },
    {
     "name": "stderr",
     "output_type": "stream",
     "text": [
      "Epoch:   0%|                                                                                     | 0/20 [00:00<?, ?it/s]"
     ]
    },
    {
     "name": "stdout",
     "output_type": "stream",
     "text": [
      "Begin group  4 training\n"
     ]
    },
    {
     "name": "stderr",
     "output_type": "stream",
     "text": [
      "                                                                                                                        \r"
     ]
    },
    {
     "name": "stdout",
     "output_type": "stream",
     "text": [
      "Group 0, clients ['f_00198']\n",
      "Group 1, clients ['f_00015', 'f_00054', 'f_00105', 'f_00065']\n",
      "Group 2, clients ['f_00053', 'f_00121']\n",
      "Group 3, clients ['f_00006', 'f_00000', 'f_00114', 'f_00106', 'f_00030']\n",
      "Group 4, clients ['f_00059', 'f_00127', 'f_00007', 'f_00187', 'f_00078', 'f_00099', 'f_00069', 'f_00017']\n"
     ]
    },
    {
     "name": "stderr",
     "output_type": "stream",
     "text": [
      "Epoch:   0%|                                                                                     | 0/20 [00:00<?, ?it/s]"
     ]
    },
    {
     "name": "stdout",
     "output_type": "stream",
     "text": [
      "Group 0\n",
      "At round 114 accuracy: 0.793939393939394\n",
      "At round 114 training accuracy: 0.7835768963117606\n",
      "At round 114 training loss: 0.8021562082450591\n",
      "Group 1\n",
      "At round 114 accuracy: 0.6706484641638225\n",
      "At round 114 training accuracy: 0.6986607142857143\n",
      "At round 114 training loss: 1.0030359359966083\n",
      "Group 2\n",
      "At round 114 accuracy: 0.8171206225680934\n",
      "At round 114 training accuracy: 0.8148959474260679\n",
      "At round 114 training loss: 0.5967776739780117\n",
      "Group 3\n",
      "At round 114 accuracy: 0.519774011299435\n",
      "At round 114 training accuracy: 0.5255102040816326\n",
      "At round 114 training loss: 1.1401103186870918\n",
      "Group 4\n",
      "At round 114 accuracy: 0.7704918032786885\n",
      "At round 114 training accuracy: 0.7236377891023128\n",
      "At round 114 training loss: 0.7110412388000241\n",
      "At round 114 mean test accuracy: 0.7084199584199584 mean train accuracy: 0.7112843310395226\n",
      "The groups difference are: [0.         0.97706583 1.03952482 0.71609432 0.45734023]\n",
      "Begin group  0 training\n",
      "Begin group  1 training\n"
     ]
    },
    {
     "name": "stderr",
     "output_type": "stream",
     "text": [
      "Epoch:  15%|███████████▌                                                                 | 3/20 [00:00<00:00, 27.72it/s]"
     ]
    },
    {
     "name": "stdout",
     "output_type": "stream",
     "text": [
      "Begin group  2 training\n"
     ]
    },
    {
     "name": "stderr",
     "output_type": "stream",
     "text": [
      "Epoch:   0%|                                                                                     | 0/20 [00:00<?, ?it/s]"
     ]
    },
    {
     "name": "stdout",
     "output_type": "stream",
     "text": [
      "Begin group  3 training\n"
     ]
    },
    {
     "name": "stderr",
     "output_type": "stream",
     "text": [
      "Epoch:   0%|                                                                                     | 0/20 [00:00<?, ?it/s]"
     ]
    },
    {
     "name": "stdout",
     "output_type": "stream",
     "text": [
      "Begin group  4 training\n"
     ]
    },
    {
     "name": "stderr",
     "output_type": "stream",
     "text": [
      "                                                                                                                        \r"
     ]
    },
    {
     "name": "stdout",
     "output_type": "stream",
     "text": [
      "Group 0 is empty.\n",
      "Group 1, clients ['f_00143', 'f_00165', 'f_00010', 'f_00021', 'f_00183', 'f_00014']\n",
      "Group 2, clients ['f_00152', 'f_00042', 'f_00123', 'f_00073']\n",
      "Group 3, clients ['f_00140', 'f_00006', 'f_00128', 'f_00180', 'f_00061', 'f_00161', 'f_00030']\n",
      "Group 4, clients ['f_00169', 'f_00078', 'f_00188']\n"
     ]
    },
    {
     "name": "stderr",
     "output_type": "stream",
     "text": [
      "Epoch:   0%|                                                                                     | 0/20 [00:00<?, ?it/s]"
     ]
    },
    {
     "name": "stdout",
     "output_type": "stream",
     "text": [
      "Group 0\n",
      "At round 115 accuracy: 0.7818181818181819\n",
      "At round 115 training accuracy: 0.755741127348643\n",
      "At round 115 training loss: 0.8106120245151414\n",
      "Group 1\n",
      "At round 115 accuracy: 0.5136518771331058\n",
      "At round 115 training accuracy: 0.5117694805194806\n",
      "At round 115 training loss: 1.753135527819758\n",
      "Group 2\n",
      "At round 115 accuracy: 0.830739299610895\n",
      "At round 115 training accuracy: 0.8484118291347207\n",
      "At round 115 training loss: 0.5088197625153428\n",
      "Group 3\n",
      "At round 115 accuracy: 0.7457627118644068\n",
      "At round 115 training accuracy: 0.7863945578231293\n",
      "At round 115 training loss: 0.9004198574087247\n",
      "Group 4\n",
      "At round 115 accuracy: 0.7442622950819672\n",
      "At round 115 training accuracy: 0.6914935319482556\n",
      "At round 115 training loss: 0.7392887342728526\n",
      "At round 115 mean test accuracy: 0.7006237006237006 mean train accuracy: 0.703793922416418\n",
      "The groups difference are: [0.         0.99811378 1.03724666 0.70364763 0.45597494]\n",
      "Begin group  1 training\n"
     ]
    },
    {
     "name": "stderr",
     "output_type": "stream",
     "text": [
      "Epoch:  30%|███████████████████████                                                      | 6/20 [00:00<00:00, 54.23it/s]"
     ]
    },
    {
     "name": "stdout",
     "output_type": "stream",
     "text": [
      "Begin group  2 training\n"
     ]
    },
    {
     "name": "stderr",
     "output_type": "stream",
     "text": [
      "Epoch:   0%|                                                                                     | 0/20 [00:00<?, ?it/s]"
     ]
    },
    {
     "name": "stdout",
     "output_type": "stream",
     "text": [
      "Begin group  3 training\n"
     ]
    },
    {
     "name": "stderr",
     "output_type": "stream",
     "text": [
      "                                                                                                                        "
     ]
    },
    {
     "name": "stdout",
     "output_type": "stream",
     "text": [
      "Begin group  4 training\n",
      "Group 0, clients ['f_00018']\n",
      "Group 1, clients ['f_00142', 'f_00134', 'f_00034', 'f_00015', 'f_00025', 'f_00103', 'f_00132', 'f_00005', 'f_00153']\n",
      "Group 2, clients ['f_00102', 'f_00042']\n",
      "Group 3, clients ['f_00030', 'f_00166', 'f_00006', 'f_00150', 'f_00196']\n",
      "Group 4, clients ['f_00127', 'f_00077', 'f_00079']\n"
     ]
    },
    {
     "name": "stderr",
     "output_type": "stream",
     "text": [
      "Epoch:   0%|                                                                                     | 0/20 [00:00<?, ?it/s]"
     ]
    },
    {
     "name": "stdout",
     "output_type": "stream",
     "text": [
      "Group 0\n",
      "At round 116 accuracy: 0.7818181818181819\n",
      "At round 116 training accuracy: 0.755741127348643\n",
      "At round 116 training loss: 0.7946146943333585\n",
      "Group 1\n",
      "At round 116 accuracy: 0.7320819112627986\n",
      "At round 116 training accuracy: 0.7349837662337663\n",
      "At round 116 training loss: 0.9019509019185002\n",
      "Group 2\n",
      "At round 116 accuracy: 0.7276264591439688\n",
      "At round 116 training accuracy: 0.7237677984665937\n",
      "At round 116 training loss: 0.7438342076337612\n",
      "Group 3\n",
      "At round 116 accuracy: 0.4632768361581921\n",
      "At round 116 training accuracy: 0.4806122448979592\n",
      "At round 116 training loss: 1.464176476295708\n",
      "Group 4\n",
      "At round 116 accuracy: 0.7016393442622951\n",
      "At round 116 training accuracy: 0.6683653469227754\n",
      "At round 116 training loss: 0.9563919367368714\n",
      "At round 116 mean test accuracy: 0.6808731808731808 mean train accuracy: 0.6777906339443396\n",
      "The groups difference are: [0.         0.93390656 1.03047404 0.70129362 0.41644452]\n",
      "Begin group  0 training\n",
      "Begin group  1 training\n"
     ]
    },
    {
     "name": "stderr",
     "output_type": "stream",
     "text": [
      "Epoch:  25%|███████████████████▎                                                         | 5/20 [00:00<00:00, 47.00it/s]"
     ]
    },
    {
     "name": "stdout",
     "output_type": "stream",
     "text": [
      "Begin group  2 training\n"
     ]
    },
    {
     "name": "stderr",
     "output_type": "stream",
     "text": [
      "Epoch:   0%|                                                                                     | 0/20 [00:00<?, ?it/s]"
     ]
    },
    {
     "name": "stdout",
     "output_type": "stream",
     "text": [
      "Begin group  3 training\n"
     ]
    },
    {
     "name": "stderr",
     "output_type": "stream",
     "text": [
      "Epoch:   0%|                                                                                     | 0/20 [00:00<?, ?it/s]"
     ]
    },
    {
     "name": "stdout",
     "output_type": "stream",
     "text": [
      "Begin group  4 training\n"
     ]
    },
    {
     "name": "stderr",
     "output_type": "stream",
     "text": [
      "                                                                                                                        \r"
     ]
    },
    {
     "name": "stdout",
     "output_type": "stream",
     "text": [
      "Group 0 is empty.\n",
      "Group 1, clients ['f_00105', 'f_00174', 'f_00063', 'f_00171']\n",
      "Group 2, clients ['f_00062', 'f_00072']\n",
      "Group 3, clients ['f_00041', 'f_00120', 'f_00155', 'f_00036', 'f_00001', 'f_00133', 'f_00193', 'f_00096', 'f_00140', 'f_00006']\n",
      "Group 4, clients ['f_00129', 'f_00029', 'f_00149', 'f_00017']\n"
     ]
    },
    {
     "name": "stderr",
     "output_type": "stream",
     "text": [
      "Epoch:  45%|██████████████████████████████████▋                                          | 9/20 [00:00<00:00, 89.78it/s]"
     ]
    },
    {
     "name": "stdout",
     "output_type": "stream",
     "text": [
      "Group 0\n",
      "At round 117 accuracy: 0.793939393939394\n",
      "At round 117 training accuracy: 0.7828810020876826\n",
      "At round 117 training loss: 0.7913463368088982\n",
      "Group 1\n",
      "At round 117 accuracy: 0.6143344709897611\n",
      "At round 117 training accuracy: 0.596185064935065\n",
      "At round 117 training loss: 1.22299495017664\n",
      "Group 2\n",
      "At round 117 accuracy: 0.8151750972762646\n",
      "At round 117 training accuracy: 0.8197152245345016\n",
      "At round 117 training loss: 0.5679199140343452\n",
      "Group 3\n",
      "At round 117 accuracy: 0.5819209039548022\n",
      "At round 117 training accuracy: 0.5704081632653061\n",
      "At round 117 training loss: 1.0972175071535468\n",
      "Group 4\n",
      "At round 117 accuracy: 0.740983606557377\n",
      "At round 117 training accuracy: 0.679733437867503\n",
      "At round 117 training loss: 0.7684478897386698\n",
      "At round 117 mean test accuracy: 0.6975051975051975 mean train accuracy: 0.6830278302174045\n",
      "The groups difference are: [0.         0.96062834 1.03775794 0.69366155 0.45489386]\n",
      "Begin group  1 training\n"
     ]
    },
    {
     "name": "stderr",
     "output_type": "stream",
     "text": [
      "Epoch:   0%|                                                                                     | 0/20 [00:00<?, ?it/s]"
     ]
    },
    {
     "name": "stdout",
     "output_type": "stream",
     "text": [
      "Begin group  2 training\n"
     ]
    },
    {
     "name": "stderr",
     "output_type": "stream",
     "text": [
      "Epoch:  55%|█████████████████████████████████████████▎                                 | 11/20 [00:00<00:00, 106.71it/s]"
     ]
    },
    {
     "name": "stdout",
     "output_type": "stream",
     "text": [
      "Begin group  3 training\n"
     ]
    },
    {
     "name": "stderr",
     "output_type": "stream",
     "text": [
      "Epoch:   0%|                                                                                     | 0/20 [00:00<?, ?it/s]"
     ]
    },
    {
     "name": "stdout",
     "output_type": "stream",
     "text": [
      "Begin group  4 training\n"
     ]
    },
    {
     "name": "stderr",
     "output_type": "stream",
     "text": [
      "                                                                                                                        \r"
     ]
    },
    {
     "name": "stdout",
     "output_type": "stream",
     "text": [
      "Group 0 is empty.\n",
      "Group 1, clients ['f_00063', 'f_00113', 'f_00135', 'f_00103', 'f_00032', 'f_00034', 'f_00092', 'f_00075', 'f_00143']\n",
      "Group 2 is empty.\n",
      "Group 3, clients ['f_00161', 'f_00193', 'f_00061', 'f_00116', 'f_00016']\n",
      "Group 4, clients ['f_00188', 'f_00187', 'f_00058', 'f_00159', 'f_00137', 'f_00077']\n"
     ]
    },
    {
     "name": "stderr",
     "output_type": "stream",
     "text": [
      "Epoch:   0%|                                                                                     | 0/20 [00:00<?, ?it/s]"
     ]
    },
    {
     "name": "stdout",
     "output_type": "stream",
     "text": [
      "Group 0\n",
      "At round 118 accuracy: 0.793939393939394\n",
      "At round 118 training accuracy: 0.7877522616562282\n",
      "At round 118 training loss: 0.7710028391541419\n",
      "Group 1\n",
      "At round 118 accuracy: 0.689419795221843\n",
      "At round 118 training accuracy: 0.6812094155844156\n",
      "At round 118 training loss: 0.9783049221211052\n",
      "Group 2\n",
      "At round 118 accuracy: 0.7859922178988327\n",
      "At round 118 training accuracy: 0.8050383351588171\n",
      "At round 118 training loss: 0.6855813553273221\n",
      "Group 3\n",
      "At round 118 accuracy: 0.7146892655367232\n",
      "At round 118 training accuracy: 0.7445578231292517\n",
      "At round 118 training loss: 0.9219129771703766\n",
      "Group 4\n",
      "At round 118 accuracy: 0.6688524590163935\n",
      "At round 118 training accuracy: 0.6111328890631125\n",
      "At round 118 training loss: 1.1795223561608057\n",
      "At round 118 mean test accuracy: 0.7255717255717256 mean train accuracy: 0.7254125814505815\n",
      "The groups difference are: [0.         0.93066076 1.03399466 0.67300987 0.45528669]\n",
      "Begin group  1 training\n"
     ]
    },
    {
     "name": "stderr",
     "output_type": "stream",
     "text": [
      "Epoch:   0%|                                                                                     | 0/20 [00:00<?, ?it/s]"
     ]
    },
    {
     "name": "stdout",
     "output_type": "stream",
     "text": [
      "Begin group  3 training\n"
     ]
    },
    {
     "name": "stderr",
     "output_type": "stream",
     "text": [
      "Epoch:   0%|                                                                                     | 0/20 [00:00<?, ?it/s]"
     ]
    },
    {
     "name": "stdout",
     "output_type": "stream",
     "text": [
      "Begin group  4 training\n"
     ]
    },
    {
     "name": "stderr",
     "output_type": "stream",
     "text": [
      "                                                                                                                        \r"
     ]
    },
    {
     "name": "stdout",
     "output_type": "stream",
     "text": [
      "Group 0, clients ['f_00178', 'f_00067', 'f_00158']\n",
      "Group 1, clients ['f_00012', 'f_00112', 'f_00124', 'f_00011', 'f_00021', 'f_00035']\n",
      "Group 2, clients ['f_00102']\n",
      "Group 3, clients ['f_00150', 'f_00130', 'f_00090', 'f_00186']\n",
      "Group 4, clients ['f_00109', 'f_00088', 'f_00179', 'f_00027', 'f_00077', 'f_00008']\n"
     ]
    },
    {
     "name": "stderr",
     "output_type": "stream",
     "text": [
      "Epoch:   0%|                                                                                     | 0/20 [00:00<?, ?it/s]"
     ]
    },
    {
     "name": "stdout",
     "output_type": "stream",
     "text": [
      "Group 0\n",
      "At round 119 accuracy: 0.793939393939394\n",
      "At round 119 training accuracy: 0.7870563674321504\n",
      "At round 119 training loss: 0.7479402753903622\n",
      "Group 1\n",
      "At round 119 accuracy: 0.6450511945392492\n",
      "At round 119 training accuracy: 0.6517857142857143\n",
      "At round 119 training loss: 1.153286006616114\n",
      "Group 2\n",
      "At round 119 accuracy: 0.7879377431906615\n",
      "At round 119 training accuracy: 0.8072289156626506\n",
      "At round 119 training loss: 0.6640644804345034\n",
      "Group 3\n",
      "At round 119 accuracy: 0.559322033898305\n",
      "At round 119 training accuracy: 0.5693877551020409\n",
      "At round 119 training loss: 1.129366238891673\n",
      "Group 4\n",
      "At round 119 accuracy: 0.7475409836065574\n",
      "At round 119 training accuracy: 0.7353978831830654\n",
      "At round 119 training loss: 0.7414837873061467\n",
      "At round 119 mean test accuracy: 0.6964656964656964 mean train accuracy: 0.7050727726691431\n",
      "The groups difference are: [0.         0.92088931 0.97572241 0.65134668 0.42935049]\n",
      "Begin group  0 training\n"
     ]
    },
    {
     "name": "stderr",
     "output_type": "stream",
     "text": [
      "Epoch:   0%|                                                                                     | 0/20 [00:00<?, ?it/s]"
     ]
    },
    {
     "name": "stdout",
     "output_type": "stream",
     "text": [
      "Begin group  1 training\n"
     ]
    },
    {
     "name": "stderr",
     "output_type": "stream",
     "text": [
      "Epoch:  30%|███████████████████████                                                      | 6/20 [00:00<00:00, 51.94it/s]"
     ]
    },
    {
     "name": "stdout",
     "output_type": "stream",
     "text": [
      "Begin group  2 training\n"
     ]
    },
    {
     "name": "stderr",
     "output_type": "stream",
     "text": [
      "Epoch:   0%|                                                                                     | 0/20 [00:00<?, ?it/s]"
     ]
    },
    {
     "name": "stdout",
     "output_type": "stream",
     "text": [
      "Begin group  3 training\n"
     ]
    },
    {
     "name": "stderr",
     "output_type": "stream",
     "text": [
      "Epoch:   0%|                                                                                     | 0/20 [00:00<?, ?it/s]"
     ]
    },
    {
     "name": "stdout",
     "output_type": "stream",
     "text": [
      "Begin group  4 training\n"
     ]
    },
    {
     "name": "stderr",
     "output_type": "stream",
     "text": [
      "                                                                                                                        \r"
     ]
    },
    {
     "name": "stdout",
     "output_type": "stream",
     "text": [
      "Group 0, clients ['f_00118', 'f_00198', 'f_00108', 'f_00178']\n",
      "Group 1, clients ['f_00080', 'f_00101', 'f_00032', 'f_00035', 'f_00125', 'f_00074']\n",
      "Group 2, clients ['f_00062', 'f_00163']\n",
      "Group 3, clients ['f_00160', 'f_00161', 'f_00046', 'f_00136', 'f_00006']\n",
      "Group 4, clients ['f_00087', 'f_00199', 'f_00039']\n"
     ]
    },
    {
     "name": "stderr",
     "output_type": "stream",
     "text": [
      "Epoch:  20%|███████████████▍                                                             | 4/20 [00:00<00:00, 35.86it/s]"
     ]
    },
    {
     "name": "stdout",
     "output_type": "stream",
     "text": [
      "Group 0\n",
      "At round 120 accuracy: 0.7090909090909091\n",
      "At round 120 training accuracy: 0.720946416144746\n",
      "At round 120 training loss: 0.6826416535682784\n",
      "Group 1\n",
      "At round 120 accuracy: 0.7081911262798635\n",
      "At round 120 training accuracy: 0.7171266233766234\n",
      "At round 120 training loss: 0.9520757148683361\n",
      "Group 2\n",
      "At round 120 accuracy: 0.811284046692607\n",
      "At round 120 training accuracy: 0.8188389923329682\n",
      "At round 120 training loss: 0.6912688954766975\n",
      "Group 3\n",
      "At round 120 accuracy: 0.4689265536723164\n",
      "At round 120 training accuracy: 0.4931972789115646\n",
      "At round 120 training loss: 1.4146662309765816\n",
      "Group 4\n",
      "At round 120 accuracy: 0.8098360655737705\n",
      "At round 120 training accuracy: 0.7722461779694237\n",
      "At round 120 training loss: 0.6898723543391233\n",
      "At round 120 mean test accuracy: 0.7079002079002079 mean train accuracy: 0.7142074173314658\n",
      "The groups difference are: [0.         0.91326793 1.00257039 0.67385838 0.39669562]\n",
      "Begin group  0 training\n"
     ]
    },
    {
     "name": "stderr",
     "output_type": "stream",
     "text": [
      "Epoch:  35%|██████████████████████████▉                                                  | 7/20 [00:00<00:00, 60.14it/s]"
     ]
    },
    {
     "name": "stdout",
     "output_type": "stream",
     "text": [
      "Begin group  1 training\n"
     ]
    },
    {
     "name": "stderr",
     "output_type": "stream",
     "text": [
      "Epoch:   5%|███▊                                                                         | 1/20 [00:00<00:02,  6.73it/s]"
     ]
    },
    {
     "name": "stdout",
     "output_type": "stream",
     "text": [
      "Begin group  2 training\n"
     ]
    },
    {
     "name": "stderr",
     "output_type": "stream",
     "text": [
      "Epoch:  15%|███████████▌                                                                 | 3/20 [00:00<00:00, 27.68it/s]"
     ]
    },
    {
     "name": "stdout",
     "output_type": "stream",
     "text": [
      "Begin group  3 training\n"
     ]
    },
    {
     "name": "stderr",
     "output_type": "stream",
     "text": [
      "Epoch:  20%|███████████████▍                                                             | 4/20 [00:00<00:00, 31.27it/s]"
     ]
    },
    {
     "name": "stdout",
     "output_type": "stream",
     "text": [
      "Begin group  4 training\n"
     ]
    },
    {
     "name": "stderr",
     "output_type": "stream",
     "text": [
      "                                                                                                                        \r"
     ]
    },
    {
     "name": "stdout",
     "output_type": "stream",
     "text": [
      "Group 0, clients ['f_00178']\n",
      "Group 1, clients ['f_00070', 'f_00144', 'f_00142', 'f_00032', 'f_00143']\n",
      "Group 2 is empty.\n",
      "Group 3, clients ['f_00155', 'f_00090', 'f_00128', 'f_00146', 'f_00136', 'f_00056', 'f_00024']\n",
      "Group 4, clients ['f_00079', 'f_00189', 'f_00027', 'f_00197', 'f_00049', 'f_00147', 'f_00107']\n"
     ]
    },
    {
     "name": "stderr",
     "output_type": "stream",
     "text": [
      "Epoch:   0%|                                                                                     | 0/20 [00:00<?, ?it/s]"
     ]
    },
    {
     "name": "stdout",
     "output_type": "stream",
     "text": [
      "Group 0\n",
      "At round 121 accuracy: 0.7272727272727273\n",
      "At round 121 training accuracy: 0.7654836464857342\n",
      "At round 121 training loss: 0.7067218375604187\n",
      "Group 1\n",
      "At round 121 accuracy: 0.7747440273037542\n",
      "At round 121 training accuracy: 0.7611607142857143\n",
      "At round 121 training loss: 0.9142409935472654\n",
      "Group 2\n",
      "At round 121 accuracy: 0.8210116731517509\n",
      "At round 121 training accuracy: 0.8177437020810515\n",
      "At round 121 training loss: 0.7030890425546799\n",
      "Group 3\n",
      "At round 121 accuracy: 0.6045197740112994\n",
      "At round 121 training accuracy: 0.6306122448979592\n",
      "At round 121 training loss: 1.0495148229761189\n",
      "Group 4\n",
      "At round 121 accuracy: 0.6950819672131148\n",
      "At round 121 training accuracy: 0.6675813406507252\n",
      "At round 121 training loss: 0.7759831075292623\n",
      "At round 121 mean test accuracy: 0.739085239085239 mean train accuracy: 0.7393581389683941\n",
      "The groups difference are: [0.         0.91226609 1.03781551 0.69792789 0.41562271]\n",
      "Begin group  0 training\n",
      "Begin group  1 training\n"
     ]
    },
    {
     "name": "stderr",
     "output_type": "stream",
     "text": [
      "Epoch:  35%|██████████████████████████▉                                                  | 7/20 [00:00<00:00, 60.64it/s]"
     ]
    },
    {
     "name": "stdout",
     "output_type": "stream",
     "text": [
      "Begin group  3 training\n"
     ]
    },
    {
     "name": "stderr",
     "output_type": "stream",
     "text": [
      "Epoch:  50%|██████████████████████████████████████                                      | 10/20 [00:00<00:00, 95.97it/s]"
     ]
    },
    {
     "name": "stdout",
     "output_type": "stream",
     "text": [
      "Begin group  4 training\n"
     ]
    },
    {
     "name": "stderr",
     "output_type": "stream",
     "text": [
      "                                                                                                                        \r"
     ]
    },
    {
     "name": "stdout",
     "output_type": "stream",
     "text": [
      "Group 0, clients ['f_00018']\n",
      "Group 1, clients ['f_00064', 'f_00022', 'f_00035', 'f_00103', 'f_00075', 'f_00113', 'f_00191']\n",
      "Group 2, clients ['f_00002', 'f_00122', 'f_00023']\n",
      "Group 3, clients ['f_00095', 'f_00030', 'f_00043', 'f_00120', 'f_00160', 'f_00131', 'f_00040']\n",
      "Group 4, clients ['f_00007', 'f_00199']\n"
     ]
    },
    {
     "name": "stderr",
     "output_type": "stream",
     "text": [
      "Epoch:   0%|                                                                                     | 0/20 [00:00<?, ?it/s]"
     ]
    },
    {
     "name": "stdout",
     "output_type": "stream",
     "text": [
      "Group 0\n",
      "At round 122 accuracy: 0.7696969696969697\n",
      "At round 122 training accuracy: 0.7473903966597077\n",
      "At round 122 training loss: 0.7445444568587245\n",
      "Group 1\n",
      "At round 122 accuracy: 0.3430034129692833\n",
      "At round 122 training accuracy: 0.3630275974025974\n",
      "At round 122 training loss: 1.5650295360836308\n",
      "Group 2\n",
      "At round 122 accuracy: 0.8210116731517509\n",
      "At round 122 training accuracy: 0.8188389923329682\n",
      "At round 122 training loss: 0.683397635970946\n",
      "Group 3\n",
      "At round 122 accuracy: 0.7457627118644068\n",
      "At round 122 training accuracy: 0.7697278911564626\n",
      "At round 122 training loss: 0.88964972835617\n",
      "Group 4\n",
      "At round 122 accuracy: 0.7213114754098361\n",
      "At round 122 training accuracy: 0.6558212465699725\n",
      "At round 122 training loss: 0.7565114647208453\n",
      "At round 122 mean test accuracy: 0.6413721413721414 mean train accuracy: 0.641678338712624\n",
      "The groups difference are: [0.         0.89208605 0.99921031 0.69567057 0.43523359]\n",
      "Begin group  0 training\n",
      "Begin group  1 training\n"
     ]
    },
    {
     "name": "stderr",
     "output_type": "stream",
     "text": [
      "Epoch:  40%|██████████████████████████████▊                                              | 8/20 [00:00<00:00, 75.86it/s]"
     ]
    },
    {
     "name": "stdout",
     "output_type": "stream",
     "text": [
      "Begin group  2 training\n"
     ]
    },
    {
     "name": "stderr",
     "output_type": "stream",
     "text": [
      "Epoch:   0%|                                                                                     | 0/20 [00:00<?, ?it/s]"
     ]
    },
    {
     "name": "stdout",
     "output_type": "stream",
     "text": [
      "Begin group  3 training\n"
     ]
    },
    {
     "name": "stderr",
     "output_type": "stream",
     "text": [
      "Epoch:  40%|██████████████████████████████▊                                              | 8/20 [00:00<00:00, 72.17it/s]"
     ]
    },
    {
     "name": "stdout",
     "output_type": "stream",
     "text": [
      "Begin group  4 training\n"
     ]
    },
    {
     "name": "stderr",
     "output_type": "stream",
     "text": [
      "                                                                                                                        \r"
     ]
    },
    {
     "name": "stdout",
     "output_type": "stream",
     "text": [
      "Group 0, clients ['f_00158', 'f_00108', 'f_00178']\n",
      "Group 1, clients ['f_00104', 'f_00162', 'f_00185', 'f_00004']\n",
      "Group 2, clients ['f_00053', 'f_00082', 'f_00121']\n",
      "Group 3, clients ['f_00050', 'f_00182', 'f_00031', 'f_00020']\n",
      "Group 4, clients ['f_00127', 'f_00037', 'f_00149', 'f_00019', 'f_00179', 'f_00189']\n"
     ]
    },
    {
     "name": "stderr",
     "output_type": "stream",
     "text": [
      "Epoch:  50%|██████████████████████████████████████                                      | 10/20 [00:00<00:00, 95.17it/s]"
     ]
    },
    {
     "name": "stdout",
     "output_type": "stream",
     "text": [
      "Group 0\n",
      "At round 123 accuracy: 0.7878787878787878\n",
      "At round 123 training accuracy: 0.7905358385525401\n",
      "At round 123 training loss: 0.7304085831345165\n",
      "Group 1\n",
      "At round 123 accuracy: 0.7610921501706485\n",
      "At round 123 training accuracy: 0.75\n",
      "At round 123 training loss: 0.8878647051751614\n",
      "Group 2\n",
      "At round 123 accuracy: 0.7762645914396887\n",
      "At round 123 training accuracy: 0.7840087623220153\n",
      "At round 123 training loss: 0.6285281522446368\n",
      "Group 3\n",
      "At round 123 accuracy: 0.4661016949152542\n",
      "At round 123 training accuracy: 0.482312925170068\n",
      "At round 123 training loss: 1.7546797180915772\n",
      "Group 4\n",
      "At round 123 accuracy: 0.6229508196721312\n",
      "At round 123 training accuracy: 0.5797726381811055\n",
      "At round 123 training loss: 1.252476584859943\n",
      "At round 123 mean test accuracy: 0.6912681912681913 mean train accuracy: 0.6886304122769624\n",
      "The groups difference are: [0.         0.9079908  1.00021565 0.73719555 0.4672755 ]\n",
      "Begin group  0 training\n"
     ]
    },
    {
     "name": "stderr",
     "output_type": "stream",
     "text": [
      "Epoch:   0%|                                                                                     | 0/20 [00:00<?, ?it/s]"
     ]
    },
    {
     "name": "stdout",
     "output_type": "stream",
     "text": [
      "Begin group  1 training\n"
     ]
    },
    {
     "name": "stderr",
     "output_type": "stream",
     "text": [
      "Epoch:  15%|███████████▌                                                                 | 3/20 [00:00<00:00, 29.51it/s]"
     ]
    },
    {
     "name": "stdout",
     "output_type": "stream",
     "text": [
      "Begin group  2 training\n"
     ]
    },
    {
     "name": "stderr",
     "output_type": "stream",
     "text": [
      "Epoch:   0%|                                                                                     | 0/20 [00:00<?, ?it/s]"
     ]
    },
    {
     "name": "stdout",
     "output_type": "stream",
     "text": [
      "Begin group  3 training\n"
     ]
    },
    {
     "name": "stderr",
     "output_type": "stream",
     "text": [
      "Epoch:  35%|██████████████████████████▉                                                  | 7/20 [00:00<00:00, 67.38it/s]"
     ]
    },
    {
     "name": "stdout",
     "output_type": "stream",
     "text": [
      "Begin group  4 training\n"
     ]
    },
    {
     "name": "stderr",
     "output_type": "stream",
     "text": [
      "                                                                                                                        \r"
     ]
    },
    {
     "name": "stdout",
     "output_type": "stream",
     "text": [
      "Group 0, clients ['f_00108']\n",
      "Group 1, clients ['f_00005', 'f_00183', 'f_00184', 'f_00080', 'f_00091', 'f_00034', 'f_00075']\n",
      "Group 2, clients ['f_00152', 'f_00121']\n",
      "Group 3, clients ['f_00186', 'f_00100', 'f_00110', 'f_00056', 'f_00016', 'f_00151', 'f_00086']\n",
      "Group 4, clients ['f_00027', 'f_00127', 'f_00119']\n"
     ]
    },
    {
     "name": "stderr",
     "output_type": "stream",
     "text": [
      "Epoch:  40%|██████████████████████████████▊                                              | 8/20 [00:00<00:00, 76.24it/s]"
     ]
    },
    {
     "name": "stdout",
     "output_type": "stream",
     "text": [
      "Group 0\n",
      "At round 124 accuracy: 0.8\n",
      "At round 124 training accuracy: 0.7752261656228253\n",
      "At round 124 training loss: 0.7538952245509865\n",
      "Group 1\n",
      "At round 124 accuracy: 0.6296928327645052\n",
      "At round 124 training accuracy: 0.6414366883116883\n",
      "At round 124 training loss: 1.0712303283092166\n",
      "Group 2\n",
      "At round 124 accuracy: 0.8385214007782101\n",
      "At round 124 training accuracy: 0.8514786418400876\n",
      "At round 124 training loss: 0.47721799420762034\n",
      "Group 3\n",
      "At round 124 accuracy: 0.4604519774011299\n",
      "At round 124 training accuracy: 0.4697278911564626\n",
      "At round 124 training loss: 1.9669344149175145\n",
      "Group 4\n",
      "At round 124 accuracy: 0.6327868852459017\n",
      "At round 124 training accuracy: 0.5919247353978832\n",
      "At round 124 training loss: 0.9442301089800559\n",
      "At round 124 mean test accuracy: 0.6694386694386695 mean train accuracy: 0.6731015163510139\n",
      "The groups difference are: [0.         0.92760849 0.99879427 0.74559887 0.47547953]\n",
      "Begin group  0 training\n"
     ]
    },
    {
     "name": "stderr",
     "output_type": "stream",
     "text": [
      "Epoch:  25%|███████████████████▎                                                         | 5/20 [00:00<00:00, 43.04it/s]"
     ]
    },
    {
     "name": "stdout",
     "output_type": "stream",
     "text": [
      "Begin group  1 training\n"
     ]
    },
    {
     "name": "stderr",
     "output_type": "stream",
     "text": [
      "Epoch:  30%|███████████████████████                                                      | 6/20 [00:00<00:00, 55.48it/s]"
     ]
    },
    {
     "name": "stdout",
     "output_type": "stream",
     "text": [
      "Begin group  2 training\n"
     ]
    },
    {
     "name": "stderr",
     "output_type": "stream",
     "text": [
      "Epoch:  40%|██████████████████████████████▊                                              | 8/20 [00:00<00:00, 76.51it/s]"
     ]
    },
    {
     "name": "stdout",
     "output_type": "stream",
     "text": [
      "Begin group  3 training\n"
     ]
    },
    {
     "name": "stderr",
     "output_type": "stream",
     "text": [
      "Epoch:   0%|                                                                                     | 0/20 [00:00<?, ?it/s]"
     ]
    },
    {
     "name": "stdout",
     "output_type": "stream",
     "text": [
      "Begin group  4 training\n"
     ]
    },
    {
     "name": "stderr",
     "output_type": "stream",
     "text": [
      "                                                                                                                        \r"
     ]
    },
    {
     "name": "stdout",
     "output_type": "stream",
     "text": [
      "Group 0, clients ['f_00138', 'f_00098']\n",
      "Group 1, clients ['f_00135', 'f_00101', 'f_00011', 'f_00071', 'f_00074']\n",
      "Group 2, clients ['f_00123', 'f_00002', 'f_00053', 'f_00052']\n",
      "Group 3, clients ['f_00193', 'f_00090', 'f_00046', 'f_00150', 'f_00001']\n",
      "Group 4, clients ['f_00109', 'f_00149', 'f_00057', 'f_00079']\n"
     ]
    },
    {
     "name": "stderr",
     "output_type": "stream",
     "text": [
      "Epoch:   0%|                                                                                     | 0/20 [00:00<?, ?it/s]"
     ]
    },
    {
     "name": "stdout",
     "output_type": "stream",
     "text": [
      "Group 0\n",
      "At round 125 accuracy: 0.793939393939394\n",
      "At round 125 training accuracy: 0.7745302713987474\n",
      "At round 125 training loss: 0.7926530167719682\n",
      "Group 1\n",
      "At round 125 accuracy: 0.7320819112627986\n",
      "At round 125 training accuracy: 0.7155032467532467\n",
      "At round 125 training loss: 0.9232757365234293\n",
      "Group 2\n",
      "At round 125 accuracy: 0.6536964980544747\n",
      "At round 125 training accuracy: 0.6731653888280394\n",
      "At round 125 training loss: 0.7785509814829581\n",
      "Group 3\n",
      "At round 125 accuracy: 0.5621468926553672\n",
      "At round 125 training accuracy: 0.576530612244898\n",
      "At round 125 training loss: 1.1459335732875633\n",
      "Group 4\n",
      "At round 125 accuracy: 0.6557377049180327\n",
      "At round 125 training accuracy: 0.604468835750686\n",
      "At round 125 training loss: 0.8662153159004247\n",
      "At round 125 mean test accuracy: 0.6730769230769231 mean train accuracy: 0.6667681627184703\n",
      "The groups difference are: [0.         0.93201722 1.01257007 0.73230477 0.48482297]\n",
      "Begin group  0 training\n"
     ]
    },
    {
     "name": "stderr",
     "output_type": "stream",
     "text": [
      "Epoch:  30%|███████████████████████                                                      | 6/20 [00:00<00:00, 58.22it/s]"
     ]
    },
    {
     "name": "stdout",
     "output_type": "stream",
     "text": [
      "Begin group  1 training\n"
     ]
    },
    {
     "name": "stderr",
     "output_type": "stream",
     "text": [
      "Epoch:  20%|███████████████▍                                                             | 4/20 [00:00<00:00, 31.89it/s]"
     ]
    },
    {
     "name": "stdout",
     "output_type": "stream",
     "text": [
      "Begin group  2 training\n"
     ]
    },
    {
     "name": "stderr",
     "output_type": "stream",
     "text": [
      "Epoch:  35%|██████████████████████████▉                                                  | 7/20 [00:00<00:00, 60.05it/s]"
     ]
    },
    {
     "name": "stdout",
     "output_type": "stream",
     "text": [
      "Begin group  3 training\n"
     ]
    },
    {
     "name": "stderr",
     "output_type": "stream",
     "text": [
      "Epoch:  85%|███████████████████████████████████████████████████████████████▊           | 17/20 [00:00<00:00, 168.47it/s]"
     ]
    },
    {
     "name": "stdout",
     "output_type": "stream",
     "text": [
      "Begin group  4 training\n"
     ]
    },
    {
     "name": "stderr",
     "output_type": "stream",
     "text": [
      "                                                                                                                        \r"
     ]
    },
    {
     "name": "stdout",
     "output_type": "stream",
     "text": [
      "Group 0 is empty.\n",
      "Group 1, clients ['f_00055', 'f_00171', 'f_00051', 'f_00142', 'f_00074', 'f_00195', 'f_00113', 'f_00134', 'f_00103']\n",
      "Group 2, clients ['f_00121', 'f_00002']\n",
      "Group 3, clients ['f_00046', 'f_00036', 'f_00096', 'f_00076', 'f_00166']\n",
      "Group 4, clients ['f_00199', 'f_00079', 'f_00119', 'f_00159']\n"
     ]
    },
    {
     "name": "stderr",
     "output_type": "stream",
     "text": [
      "Epoch:  65%|████████████████████████████████████████████████▊                          | 13/20 [00:00<00:00, 125.55it/s]"
     ]
    },
    {
     "name": "stdout",
     "output_type": "stream",
     "text": [
      "Group 0\n",
      "At round 126 accuracy: 0.793939393939394\n",
      "At round 126 training accuracy: 0.7947112038970077\n",
      "At round 126 training loss: 0.8092243329426773\n",
      "Group 1\n",
      "At round 126 accuracy: 0.735494880546075\n",
      "At round 126 training accuracy: 0.7088068181818182\n",
      "At round 126 training loss: 0.9319869697626147\n",
      "Group 2\n",
      "At round 126 accuracy: 0.754863813229572\n",
      "At round 126 training accuracy: 0.7529025191675794\n",
      "At round 126 training loss: 0.5930873373513154\n",
      "Group 3\n",
      "At round 126 accuracy: 0.4632768361581921\n",
      "At round 126 training accuracy: 0.4714285714285714\n",
      "At round 126 training loss: 1.4982786984163887\n",
      "Group 4\n",
      "At round 126 accuracy: 0.6688524590163935\n",
      "At round 126 training accuracy: 0.6150529204233633\n",
      "At round 126 training loss: 1.3404438296447592\n",
      "At round 126 mean test accuracy: 0.685031185031185 mean train accuracy: 0.671518177942878\n",
      "The groups difference are: [0.         0.95180123 1.03629896 0.75913461 0.51835253]\n",
      "Begin group  1 training\n"
     ]
    },
    {
     "name": "stderr",
     "output_type": "stream",
     "text": [
      "Epoch:  25%|███████████████████▎                                                         | 5/20 [00:00<00:00, 45.82it/s]"
     ]
    },
    {
     "name": "stdout",
     "output_type": "stream",
     "text": [
      "Begin group  2 training\n"
     ]
    },
    {
     "name": "stderr",
     "output_type": "stream",
     "text": [
      "Epoch:   0%|                                                                                     | 0/20 [00:00<?, ?it/s]"
     ]
    },
    {
     "name": "stdout",
     "output_type": "stream",
     "text": [
      "Begin group  3 training\n"
     ]
    },
    {
     "name": "stderr",
     "output_type": "stream",
     "text": [
      "Epoch:  35%|██████████████████████████▉                                                  | 7/20 [00:00<00:00, 64.37it/s]"
     ]
    },
    {
     "name": "stdout",
     "output_type": "stream",
     "text": [
      "Begin group  4 training\n"
     ]
    },
    {
     "name": "stderr",
     "output_type": "stream",
     "text": [
      "                                                                                                                        \r"
     ]
    },
    {
     "name": "stdout",
     "output_type": "stream",
     "text": [
      "Group 0, clients ['f_00028', 'f_00158', 'f_00138']\n",
      "Group 1, clients ['f_00045', 'f_00075', 'f_00134', 'f_00010', 'f_00022']\n",
      "Group 2, clients ['f_00163']\n",
      "Group 3, clients ['f_00176', 'f_00026', 'f_00120', 'f_00061', 'f_00000', 'f_00186']\n",
      "Group 4, clients ['f_00168', 'f_00147', 'f_00129', 'f_00159', 'f_00058']\n"
     ]
    },
    {
     "name": "stderr",
     "output_type": "stream",
     "text": [
      "Epoch:   0%|                                                                                     | 0/20 [00:00<?, ?it/s]"
     ]
    },
    {
     "name": "stdout",
     "output_type": "stream",
     "text": [
      "Group 0\n",
      "At round 127 accuracy: 0.793939393939394\n",
      "At round 127 training accuracy: 0.7926235212247739\n",
      "At round 127 training loss: 0.7866465467583743\n",
      "Group 1\n",
      "At round 127 accuracy: 0.7303754266211604\n",
      "At round 127 training accuracy: 0.7376217532467533\n",
      "At round 127 training loss: 0.8963704249495036\n",
      "Group 2\n",
      "At round 127 accuracy: 0.642023346303502\n",
      "At round 127 training accuracy: 0.6622124863088719\n",
      "At round 127 training loss: 0.8074788344650644\n",
      "Group 3\n",
      "At round 127 accuracy: 0.3870056497175141\n",
      "At round 127 training accuracy: 0.40748299319727893\n",
      "At round 127 training loss: 2.0562118978879482\n",
      "Group 4\n",
      "At round 127 accuracy: 0.6655737704918033\n",
      "At round 127 training accuracy: 0.6217169737357899\n",
      "At round 127 training loss: 1.737693253281022\n",
      "At round 127 mean test accuracy: 0.6387733887733887 mean train accuracy: 0.6443578344802388\n",
      "The groups difference are: [0.         0.9254989  1.01380843 0.75226154 0.53388985]\n",
      "Begin group  0 training\n"
     ]
    },
    {
     "name": "stderr",
     "output_type": "stream",
     "text": [
      "Epoch:   0%|                                                                                     | 0/20 [00:00<?, ?it/s]"
     ]
    },
    {
     "name": "stdout",
     "output_type": "stream",
     "text": [
      "Begin group  1 training\n"
     ]
    },
    {
     "name": "stderr",
     "output_type": "stream",
     "text": [
      "Epoch:   0%|                                                                                     | 0/20 [00:00<?, ?it/s]"
     ]
    },
    {
     "name": "stdout",
     "output_type": "stream",
     "text": [
      "Begin group  2 training\n",
      "Begin group  3 training\n"
     ]
    },
    {
     "name": "stderr",
     "output_type": "stream",
     "text": [
      "Epoch:   0%|                                                                                     | 0/20 [00:00<?, ?it/s]"
     ]
    },
    {
     "name": "stdout",
     "output_type": "stream",
     "text": [
      "Begin group  4 training\n"
     ]
    },
    {
     "name": "stderr",
     "output_type": "stream",
     "text": [
      "                                                                                                                        \r"
     ]
    },
    {
     "name": "stdout",
     "output_type": "stream",
     "text": [
      "Group 0, clients ['f_00118']\n",
      "Group 1, clients ['f_00192', 'f_00021', 'f_00165']\n",
      "Group 2, clients ['f_00073', 'f_00122']\n",
      "Group 3, clients ['f_00043', 'f_00151', 'f_00146', 'f_00076', 'f_00116', 'f_00090', 'f_00136', 'f_00106', 'f_00155']\n",
      "Group 4, clients ['f_00037', 'f_00059', 'f_00109', 'f_00187', 'f_00159']\n"
     ]
    },
    {
     "name": "stderr",
     "output_type": "stream",
     "text": [
      "Epoch:  20%|███████████████▍                                                             | 4/20 [00:00<00:00, 35.01it/s]"
     ]
    },
    {
     "name": "stdout",
     "output_type": "stream",
     "text": [
      "Group 0\n",
      "At round 128 accuracy: 0.8\n",
      "At round 128 training accuracy: 0.7933194154488518\n",
      "At round 128 training loss: 0.7919545177170695\n",
      "Group 1\n",
      "At round 128 accuracy: 0.7815699658703071\n",
      "At round 128 training accuracy: 0.7668425324675324\n",
      "At round 128 training loss: 0.8901051050656802\n",
      "Group 2\n",
      "At round 128 accuracy: 0.7237354085603113\n",
      "At round 128 training accuracy: 0.7005476451259584\n",
      "At round 128 training loss: 0.9260149374685831\n",
      "Group 3\n",
      "At round 128 accuracy: 0.7062146892655368\n",
      "At round 128 training accuracy: 0.7312925170068028\n",
      "At round 128 training loss: 0.9393967334409149\n",
      "Group 4\n",
      "At round 128 accuracy: 0.6688524590163935\n",
      "At round 128 training accuracy: 0.6150529204233633\n",
      "At round 128 training loss: 1.42360712639821\n",
      "At round 128 mean test accuracy: 0.735966735966736 mean train accuracy: 0.7207843614883381\n",
      "The groups difference are: [0.         0.90453961 1.00776167 0.72894288 0.51895417]\n",
      "Begin group  0 training\n"
     ]
    },
    {
     "name": "stderr",
     "output_type": "stream",
     "text": [
      "Epoch:   0%|                                                                                     | 0/20 [00:00<?, ?it/s]"
     ]
    },
    {
     "name": "stdout",
     "output_type": "stream",
     "text": [
      "Begin group  1 training\n"
     ]
    },
    {
     "name": "stderr",
     "output_type": "stream",
     "text": [
      "Epoch:  25%|███████████████████▎                                                         | 5/20 [00:00<00:00, 41.31it/s]"
     ]
    },
    {
     "name": "stdout",
     "output_type": "stream",
     "text": [
      "Begin group  2 training\n"
     ]
    },
    {
     "name": "stderr",
     "output_type": "stream",
     "text": [
      "Epoch:   0%|                                                                                     | 0/20 [00:00<?, ?it/s]"
     ]
    },
    {
     "name": "stdout",
     "output_type": "stream",
     "text": [
      "Begin group  3 training\n"
     ]
    },
    {
     "name": "stderr",
     "output_type": "stream",
     "text": [
      "Epoch:  35%|██████████████████████████▉                                                  | 7/20 [00:00<00:00, 62.32it/s]"
     ]
    },
    {
     "name": "stdout",
     "output_type": "stream",
     "text": [
      "Begin group  4 training\n"
     ]
    },
    {
     "name": "stderr",
     "output_type": "stream",
     "text": [
      "                                                                                                                        \r"
     ]
    },
    {
     "name": "stdout",
     "output_type": "stream",
     "text": [
      "Group 0, clients ['f_00138', 'f_00068']\n",
      "Group 1, clients ['f_00115', 'f_00004', 'f_00112', 'f_00055', 'f_00132', 'f_00094', 'f_00022', 'f_00010', 'f_00162', 'f_00191']\n",
      "Group 2 is empty.\n",
      "Group 3, clients ['f_00193', 'f_00026', 'f_00100', 'f_00041', 'f_00043', 'f_00151']\n",
      "Group 4, clients ['f_00088', 'f_00107']\n"
     ]
    },
    {
     "name": "stderr",
     "output_type": "stream",
     "text": [
      "Epoch:   0%|                                                                                     | 0/20 [00:00<?, ?it/s]"
     ]
    },
    {
     "name": "stdout",
     "output_type": "stream",
     "text": [
      "Group 0\n",
      "At round 129 accuracy: 0.7454545454545455\n",
      "At round 129 training accuracy: 0.7891440501043842\n",
      "At round 129 training loss: 0.8761532867460842\n",
      "Group 1\n",
      "At round 129 accuracy: 0.7627986348122867\n",
      "At round 129 training accuracy: 0.7530438311688312\n",
      "At round 129 training loss: 0.9205128460904801\n",
      "Group 2\n",
      "At round 129 accuracy: 0.7295719844357976\n",
      "At round 129 training accuracy: 0.7342825848849945\n",
      "At round 129 training loss: 0.6693525207003523\n",
      "Group 3\n",
      "At round 129 accuracy: 0.4350282485875706\n",
      "At round 129 training accuracy: 0.45918367346938777\n",
      "At round 129 training loss: 1.3123014314239527\n",
      "Group 4\n",
      "At round 129 accuracy: 0.6950819672131148\n",
      "At round 129 training accuracy: 0.6452371618972952\n",
      "At round 129 training loss: 0.7898658098238956\n",
      "At round 129 mean test accuracy: 0.6813929313929314 mean train accuracy: 0.681627184702515\n",
      "The groups difference are: [0.         0.92930061 1.03349363 0.75877402 0.51296989]\n",
      "Begin group  0 training\n"
     ]
    },
    {
     "name": "stderr",
     "output_type": "stream",
     "text": [
      "Epoch:  80%|████████████████████████████████████████████████████████████               | 16/20 [00:00<00:00, 159.50it/s]"
     ]
    },
    {
     "name": "stdout",
     "output_type": "stream",
     "text": [
      "Begin group  1 training\n"
     ]
    },
    {
     "name": "stderr",
     "output_type": "stream",
     "text": [
      "Epoch:  65%|████████████████████████████████████████████████▊                          | 13/20 [00:00<00:00, 123.71it/s]"
     ]
    },
    {
     "name": "stdout",
     "output_type": "stream",
     "text": [
      "Begin group  3 training\n"
     ]
    },
    {
     "name": "stderr",
     "output_type": "stream",
     "text": [
      "Epoch:  60%|█████████████████████████████████████████████                              | 12/20 [00:00<00:00, 114.09it/s]"
     ]
    },
    {
     "name": "stdout",
     "output_type": "stream",
     "text": [
      "Begin group  4 training\n"
     ]
    },
    {
     "name": "stderr",
     "output_type": "stream",
     "text": [
      "                                                                                                                        \r"
     ]
    },
    {
     "name": "stdout",
     "output_type": "stream",
     "text": [
      "Group 0, clients ['f_00018', 'f_00158', 'f_00138']\n",
      "Group 1, clients ['f_00113', 'f_00132', 'f_00174', 'f_00134', 'f_00175']\n",
      "Group 2, clients ['f_00123', 'f_00042']\n",
      "Group 3, clients ['f_00041', 'f_00030', 'f_00166', 'f_00140', 'f_00131', 'f_00176']\n",
      "Group 4, clients ['f_00009', 'f_00047', 'f_00127', 'f_00007']\n"
     ]
    },
    {
     "name": "stderr",
     "output_type": "stream",
     "text": [
      "Epoch:   0%|                                                                                     | 0/20 [00:00<?, ?it/s]"
     ]
    },
    {
     "name": "stdout",
     "output_type": "stream",
     "text": [
      "Group 0\n",
      "At round 130 accuracy: 0.7636363636363637\n",
      "At round 130 training accuracy: 0.7362560890744607\n",
      "At round 130 training loss: 0.8856235115621018\n",
      "Group 1\n",
      "At round 130 accuracy: 0.6860068259385665\n",
      "At round 130 training accuracy: 0.6684253246753247\n",
      "At round 130 training loss: 0.9838710928384167\n",
      "Group 2\n",
      "At round 130 accuracy: 0.7412451361867705\n",
      "At round 130 training accuracy: 0.7406352683461117\n",
      "At round 130 training loss: 0.6426960591679727\n",
      "Group 3\n",
      "At round 130 accuracy: 0.672316384180791\n",
      "At round 130 training accuracy: 0.7115646258503401\n",
      "At round 130 training loss: 0.8876398392680551\n",
      "Group 4\n",
      "At round 130 accuracy: 0.6327868852459017\n",
      "At round 130 training accuracy: 0.6515092120736966\n",
      "At round 130 training loss: 1.0083465406306815\n",
      "At round 130 mean test accuracy: 0.6964656964656964 mean train accuracy: 0.6995310882406675\n",
      "The groups difference are: [0.         0.91785011 1.0000002  0.75199145 0.5132141 ]\n",
      "Begin group  0 training\n"
     ]
    },
    {
     "name": "stderr",
     "output_type": "stream",
     "text": [
      "Epoch:   0%|                                                                                     | 0/20 [00:00<?, ?it/s]"
     ]
    },
    {
     "name": "stdout",
     "output_type": "stream",
     "text": [
      "Begin group  1 training\n"
     ]
    },
    {
     "name": "stderr",
     "output_type": "stream",
     "text": [
      "Epoch:  25%|███████████████████▎                                                         | 5/20 [00:00<00:00, 46.99it/s]"
     ]
    },
    {
     "name": "stdout",
     "output_type": "stream",
     "text": [
      "Begin group  2 training\n"
     ]
    },
    {
     "name": "stderr",
     "output_type": "stream",
     "text": [
      "Epoch:   0%|                                                                                     | 0/20 [00:00<?, ?it/s]"
     ]
    },
    {
     "name": "stdout",
     "output_type": "stream",
     "text": [
      "Begin group  3 training\n"
     ]
    },
    {
     "name": "stderr",
     "output_type": "stream",
     "text": [
      "Epoch:   0%|                                                                                     | 0/20 [00:00<?, ?it/s]"
     ]
    },
    {
     "name": "stdout",
     "output_type": "stream",
     "text": [
      "Begin group  4 training\n"
     ]
    },
    {
     "name": "stderr",
     "output_type": "stream",
     "text": [
      "                                                                                                                        \r"
     ]
    },
    {
     "name": "stdout",
     "output_type": "stream",
     "text": [
      "Group 0, clients ['f_00108', 'f_00098', 'f_00038']\n",
      "Group 1, clients ['f_00104', 'f_00094', 'f_00125', 'f_00185', 'f_00074', 'f_00034', 'f_00044', 'f_00111']\n",
      "Group 2, clients ['f_00023', 'f_00163']\n",
      "Group 3, clients ['f_00186', 'f_00116', 'f_00036', 'f_00190', 'f_00161']\n",
      "Group 4, clients ['f_00188', 'f_00147']\n"
     ]
    },
    {
     "name": "stderr",
     "output_type": "stream",
     "text": [
      "Epoch:  45%|██████████████████████████████████▋                                          | 9/20 [00:00<00:00, 88.36it/s]"
     ]
    },
    {
     "name": "stdout",
     "output_type": "stream",
     "text": [
      "Group 0\n",
      "At round 131 accuracy: 0.806060606060606\n",
      "At round 131 training accuracy: 0.8009742519137091\n",
      "At round 131 training loss: 0.8212882406859242\n",
      "Group 1\n",
      "At round 131 accuracy: 0.6040955631399317\n",
      "At round 131 training accuracy: 0.6140422077922078\n",
      "At round 131 training loss: 1.0807533924613002\n",
      "Group 2\n",
      "At round 131 accuracy: 0.6906614785992218\n",
      "At round 131 training accuracy: 0.68039430449069\n",
      "At round 131 training loss: 1.0310556059729752\n",
      "Group 3\n",
      "At round 131 accuracy: 0.5141242937853108\n",
      "At round 131 training accuracy: 0.5149659863945578\n",
      "At round 131 training loss: 1.1547283573418248\n",
      "Group 4\n",
      "At round 131 accuracy: 0.6918032786885245\n",
      "At round 131 training accuracy: 0.6664053312426499\n",
      "At round 131 training loss: 0.8534211230273342\n",
      "At round 131 mean test accuracy: 0.6418918918918919 mean train accuracy: 0.6392424334693381\n",
      "The groups difference are: [0.         0.92665255 1.01082082 0.75784545 0.50358433]\n",
      "Begin group  0 training\n"
     ]
    },
    {
     "name": "stderr",
     "output_type": "stream",
     "text": [
      "Epoch:   0%|                                                                                     | 0/20 [00:00<?, ?it/s]"
     ]
    },
    {
     "name": "stdout",
     "output_type": "stream",
     "text": [
      "Begin group  1 training\n"
     ]
    },
    {
     "name": "stderr",
     "output_type": "stream",
     "text": [
      "Epoch:  40%|██████████████████████████████▊                                              | 8/20 [00:00<00:00, 71.75it/s]"
     ]
    },
    {
     "name": "stdout",
     "output_type": "stream",
     "text": [
      "Begin group  2 training\n"
     ]
    },
    {
     "name": "stderr",
     "output_type": "stream",
     "text": [
      "Epoch:   0%|                                                                                     | 0/20 [00:00<?, ?it/s]"
     ]
    },
    {
     "name": "stdout",
     "output_type": "stream",
     "text": [
      "Begin group  3 training\n"
     ]
    },
    {
     "name": "stderr",
     "output_type": "stream",
     "text": [
      "                                                                                                                        \r"
     ]
    },
    {
     "name": "stdout",
     "output_type": "stream",
     "text": [
      "Begin group  4 training\n",
      "Group 0 is empty.\n",
      "Group 1, clients ['f_00192', 'f_00144']\n",
      "Group 2, clients ['f_00073', 'f_00121']\n",
      "Group 3, clients ['f_00026', 'f_00131', 'f_00136', 'f_00166', 'f_00116', 'f_00114', 'f_00133', 'f_00060', 'f_00126', 'f_00156']\n",
      "Group 4, clients ['f_00007', 'f_00157', 'f_00187', 'f_00159', 'f_00077', 'f_00027']\n"
     ]
    },
    {
     "name": "stderr",
     "output_type": "stream",
     "text": [
      "Epoch:   0%|                                                                                     | 0/20 [00:00<?, ?it/s]"
     ]
    },
    {
     "name": "stdout",
     "output_type": "stream",
     "text": [
      "Group 0\n",
      "At round 132 accuracy: 0.793939393939394\n",
      "At round 132 training accuracy: 0.7884481558803061\n",
      "At round 132 training loss: 0.8303742549157259\n",
      "Group 1\n",
      "At round 132 accuracy: 0.5784982935153583\n",
      "At round 132 training accuracy: 0.573051948051948\n",
      "At round 132 training loss: 1.300071701963807\n",
      "Group 2\n",
      "At round 132 accuracy: 0.7315175097276264\n",
      "At round 132 training accuracy: 0.7119386637458927\n",
      "At round 132 training loss: 1.2074216700429332\n",
      "Group 3\n",
      "At round 132 accuracy: 0.7627118644067796\n",
      "At round 132 training accuracy: 0.7846938775510204\n",
      "At round 132 training loss: 0.8463773801922798\n",
      "Group 4\n",
      "At round 132 accuracy: 0.7081967213114754\n",
      "At round 132 training accuracy: 0.6981575852606821\n",
      "At round 132 training loss: 0.8425256598818214\n",
      "At round 132 mean test accuracy: 0.6923076923076923 mean train accuracy: 0.6878387430728945\n",
      "The groups difference are: [0.         0.94653054 1.02100259 0.75471679 0.4885115 ]\n",
      "Begin group  1 training\n"
     ]
    },
    {
     "name": "stderr",
     "output_type": "stream",
     "text": [
      "Epoch:  20%|███████████████▍                                                             | 4/20 [00:00<00:00, 36.78it/s]"
     ]
    },
    {
     "name": "stdout",
     "output_type": "stream",
     "text": [
      "Begin group  2 training\n"
     ]
    },
    {
     "name": "stderr",
     "output_type": "stream",
     "text": [
      "Epoch:   0%|                                                                                     | 0/20 [00:00<?, ?it/s]"
     ]
    },
    {
     "name": "stdout",
     "output_type": "stream",
     "text": [
      "Begin group  3 training\n"
     ]
    },
    {
     "name": "stderr",
     "output_type": "stream",
     "text": [
      "Epoch:   0%|                                                                                     | 0/20 [00:00<?, ?it/s]"
     ]
    },
    {
     "name": "stdout",
     "output_type": "stream",
     "text": [
      "Begin group  4 training\n"
     ]
    },
    {
     "name": "stderr",
     "output_type": "stream",
     "text": [
      "                                                                                                                        \r"
     ]
    },
    {
     "name": "stdout",
     "output_type": "stream",
     "text": [
      "Group 0, clients ['f_00018']\n",
      "Group 1, clients ['f_00124', 'f_00143', 'f_00194', 'f_00044', 'f_00103']\n",
      "Group 2 is empty.\n",
      "Group 3, clients ['f_00130', 'f_00043', 'f_00133', 'f_00126', 'f_00114', 'f_00003', 'f_00146']\n",
      "Group 4, clients ['f_00187', 'f_00129', 'f_00139', 'f_00169', 'f_00029', 'f_00039', 'f_00057']\n"
     ]
    },
    {
     "name": "stderr",
     "output_type": "stream",
     "text": [
      "Epoch:   0%|                                                                                     | 0/20 [00:00<?, ?it/s]"
     ]
    },
    {
     "name": "stdout",
     "output_type": "stream",
     "text": [
      "Group 0\n",
      "At round 133 accuracy: 0.793939393939394\n",
      "At round 133 training accuracy: 0.7926235212247739\n",
      "At round 133 training loss: 0.8018263878926852\n",
      "Group 1\n",
      "At round 133 accuracy: 0.5614334470989761\n",
      "At round 133 training accuracy: 0.5645292207792207\n",
      "At round 133 training loss: 1.2747431731020862\n",
      "Group 2\n",
      "At round 133 accuracy: 0.77431906614786\n",
      "At round 133 training accuracy: 0.7903614457831325\n",
      "At round 133 training loss: 0.5840295060440849\n",
      "Group 3\n",
      "At round 133 accuracy: 0.3954802259887006\n",
      "At round 133 training accuracy: 0.4129251700680272\n",
      "At round 133 training loss: 1.5774462109520322\n",
      "Group 4\n",
      "At round 133 accuracy: 0.7049180327868853\n",
      "At round 133 training accuracy: 0.6785574284594277\n",
      "At round 133 training loss: 0.8382708645834263\n",
      "At round 133 mean test accuracy: 0.6304573804573804 mean train accuracy: 0.6378417879544486\n",
      "The groups difference are: [0.         0.91432569 0.98749998 0.74209817 0.48536749]\n",
      "Begin group  0 training\n",
      "Begin group  1 training\n"
     ]
    },
    {
     "name": "stderr",
     "output_type": "stream",
     "text": [
      "Epoch:   0%|                                                                                     | 0/20 [00:00<?, ?it/s]"
     ]
    },
    {
     "name": "stdout",
     "output_type": "stream",
     "text": [
      "Begin group  3 training\n"
     ]
    },
    {
     "name": "stderr",
     "output_type": "stream",
     "text": [
      "Epoch:   0%|                                                                                     | 0/20 [00:00<?, ?it/s]"
     ]
    },
    {
     "name": "stdout",
     "output_type": "stream",
     "text": [
      "Begin group  4 training\n"
     ]
    },
    {
     "name": "stderr",
     "output_type": "stream",
     "text": [
      "                                                                                                                        \r"
     ]
    },
    {
     "name": "stdout",
     "output_type": "stream",
     "text": [
      "Group 0, clients ['f_00068']\n",
      "Group 1, clients ['f_00173', 'f_00084', 'f_00195', 'f_00013', 'f_00175', 'f_00012', 'f_00191', 'f_00081', 'f_00112', 'f_00085']\n",
      "Group 2, clients ['f_00122']\n",
      "Group 3, clients ['f_00196', 'f_00136', 'f_00016']\n",
      "Group 4, clients ['f_00008', 'f_00069', 'f_00127', 'f_00199', 'f_00097']\n"
     ]
    },
    {
     "name": "stderr",
     "output_type": "stream",
     "text": [
      "Epoch:  40%|██████████████████████████████▊                                              | 8/20 [00:00<00:00, 77.21it/s]"
     ]
    },
    {
     "name": "stdout",
     "output_type": "stream",
     "text": [
      "Group 0\n",
      "At round 134 accuracy: 0.7878787878787878\n",
      "At round 134 training accuracy: 0.7835768963117606\n",
      "At round 134 training loss: 0.8029511355449528\n",
      "Group 1\n",
      "At round 134 accuracy: 0.5290102389078498\n",
      "At round 134 training accuracy: 0.5407873376623377\n",
      "At round 134 training loss: 1.6617558263605097\n",
      "Group 2\n",
      "At round 134 accuracy: 0.7840466926070039\n",
      "At round 134 training accuracy: 0.7927710843373494\n",
      "At round 134 training loss: 0.5798635968699773\n",
      "Group 3\n",
      "At round 134 accuracy: 0.596045197740113\n",
      "At round 134 training accuracy: 0.5959183673469388\n",
      "At round 134 training loss: 1.1344806408294204\n",
      "Group 4\n",
      "At round 134 accuracy: 0.6754098360655738\n",
      "At round 134 training accuracy: 0.6201489611916895\n",
      "At round 134 training loss: 0.9585529362592263\n",
      "At round 134 mean test accuracy: 0.6548856548856549 mean train accuracy: 0.6542841483466293\n",
      "The groups difference are: [0.         0.92979684 0.94878537 0.72227544 0.48634935]\n",
      "Begin group  0 training\n"
     ]
    },
    {
     "name": "stderr",
     "output_type": "stream",
     "text": [
      "Epoch:   0%|                                                                                     | 0/20 [00:00<?, ?it/s]"
     ]
    },
    {
     "name": "stdout",
     "output_type": "stream",
     "text": [
      "Begin group  1 training\n"
     ]
    },
    {
     "name": "stderr",
     "output_type": "stream",
     "text": [
      "Epoch:  25%|███████████████████▎                                                         | 5/20 [00:00<00:00, 43.39it/s]"
     ]
    },
    {
     "name": "stdout",
     "output_type": "stream",
     "text": [
      "Begin group  2 training\n"
     ]
    },
    {
     "name": "stderr",
     "output_type": "stream",
     "text": [
      "Epoch:   0%|                                                                                     | 0/20 [00:00<?, ?it/s]"
     ]
    },
    {
     "name": "stdout",
     "output_type": "stream",
     "text": [
      "Begin group  3 training\n"
     ]
    },
    {
     "name": "stderr",
     "output_type": "stream",
     "text": [
      "Epoch:   0%|                                                                                     | 0/20 [00:00<?, ?it/s]"
     ]
    },
    {
     "name": "stdout",
     "output_type": "stream",
     "text": [
      "Begin group  4 training\n"
     ]
    },
    {
     "name": "stderr",
     "output_type": "stream",
     "text": [
      "                                                                                                                        \r"
     ]
    },
    {
     "name": "stdout",
     "output_type": "stream",
     "text": [
      "Group 0, clients ['f_00158', 'f_00108']\n",
      "Group 1, clients ['f_00143', 'f_00142', 'f_00065', 'f_00115', 'f_00192', 'f_00154']\n",
      "Group 2, clients ['f_00122']\n",
      "Group 3, clients ['f_00030', 'f_00060', 'f_00161', 'f_00193', 'f_00114', 'f_00026']\n",
      "Group 4, clients ['f_00078', 'f_00189', 'f_00077', 'f_00039', 'f_00058']\n"
     ]
    },
    {
     "name": "stderr",
     "output_type": "stream",
     "text": [
      "Epoch:  60%|█████████████████████████████████████████████                              | 12/20 [00:00<00:00, 110.67it/s]"
     ]
    },
    {
     "name": "stdout",
     "output_type": "stream",
     "text": [
      "Group 0\n",
      "At round 135 accuracy: 0.7878787878787878\n",
      "At round 135 training accuracy: 0.7738343771746694\n",
      "At round 135 training loss: 0.8046352021297649\n",
      "Group 1\n",
      "At round 135 accuracy: 0.6501706484641638\n",
      "At round 135 training accuracy: 0.674310064935065\n",
      "At round 135 training loss: 0.982876888518645\n",
      "Group 2\n",
      "At round 135 accuracy: 0.8268482490272373\n",
      "At round 135 training accuracy: 0.8251916757940855\n",
      "At round 135 training loss: 0.5359482267273739\n",
      "Group 3\n",
      "At round 135 accuracy: 0.3870056497175141\n",
      "At round 135 training accuracy: 0.4057823129251701\n",
      "At round 135 training loss: 2.4343909157173975\n",
      "Group 4\n",
      "At round 135 accuracy: 0.6524590163934426\n",
      "At round 135 training accuracy: 0.6052528420227362\n",
      "At round 135 training loss: 1.2213519544565925\n",
      "At round 135 mean test accuracy: 0.6611226611226612 mean train accuracy: 0.6661591864076487\n",
      "The groups difference are: [0.         0.91564364 0.98440781 0.75458655 0.51833551]\n",
      "Begin group  0 training\n"
     ]
    },
    {
     "name": "stderr",
     "output_type": "stream",
     "text": [
      "Epoch:   0%|                                                                                     | 0/20 [00:00<?, ?it/s]"
     ]
    },
    {
     "name": "stdout",
     "output_type": "stream",
     "text": [
      "Begin group  1 training\n"
     ]
    },
    {
     "name": "stderr",
     "output_type": "stream",
     "text": [
      "Epoch:  25%|███████████████████▎                                                         | 5/20 [00:00<00:00, 47.06it/s]"
     ]
    },
    {
     "name": "stdout",
     "output_type": "stream",
     "text": [
      "Begin group  2 training\n"
     ]
    },
    {
     "name": "stderr",
     "output_type": "stream",
     "text": [
      "Epoch:   0%|                                                                                     | 0/20 [00:00<?, ?it/s]"
     ]
    },
    {
     "name": "stdout",
     "output_type": "stream",
     "text": [
      "Begin group  3 training\n"
     ]
    },
    {
     "name": "stderr",
     "output_type": "stream",
     "text": [
      "Epoch:  45%|██████████████████████████████████▋                                          | 9/20 [00:00<00:00, 82.31it/s]"
     ]
    },
    {
     "name": "stdout",
     "output_type": "stream",
     "text": [
      "Begin group  4 training\n"
     ]
    },
    {
     "name": "stderr",
     "output_type": "stream",
     "text": [
      "                                                                                                                        \r"
     ]
    },
    {
     "name": "stdout",
     "output_type": "stream",
     "text": [
      "Group 0, clients ['f_00038', 'f_00068']\n",
      "Group 1, clients ['f_00064', 'f_00081', 'f_00181', 'f_00084', 'f_00144', 'f_00094', 'f_00115']\n",
      "Group 2, clients ['f_00163', 'f_00053', 'f_00042', 'f_00062']\n",
      "Group 3, clients ['f_00086', 'f_00000', 'f_00003', 'f_00150']\n",
      "Group 4, clients ['f_00049', 'f_00059', 'f_00078']\n"
     ]
    },
    {
     "name": "stderr",
     "output_type": "stream",
     "text": [
      "Epoch:   0%|                                                                                     | 0/20 [00:00<?, ?it/s]"
     ]
    },
    {
     "name": "stdout",
     "output_type": "stream",
     "text": [
      "Group 0\n",
      "At round 136 accuracy: 0.793939393939394\n",
      "At round 136 training accuracy: 0.7877522616562282\n",
      "At round 136 training loss: 0.816973918290626\n",
      "Group 1\n",
      "At round 136 accuracy: 0.6160409556313993\n",
      "At round 136 training accuracy: 0.6245941558441559\n",
      "At round 136 training loss: 1.0915673980731275\n",
      "Group 2\n",
      "At round 136 accuracy: 0.8073929961089494\n",
      "At round 136 training accuracy: 0.8148959474260679\n",
      "At round 136 training loss: 0.6467911775049479\n",
      "Group 3\n",
      "At round 136 accuracy: 0.5536723163841808\n",
      "At round 136 training accuracy: 0.5418367346938775\n",
      "At round 136 training loss: 1.0881674062739424\n",
      "Group 4\n",
      "At round 136 accuracy: 0.6622950819672131\n",
      "At round 136 training accuracy: 0.6111328890631125\n",
      "At round 136 training loss: 1.0843352616557604\n",
      "At round 136 mean test accuracy: 0.6782744282744283 mean train accuracy: 0.6748675476523963\n",
      "The groups difference are: [0.         0.92715323 1.00792047 0.7316459  0.52000973]\n",
      "Begin group  0 training\n"
     ]
    },
    {
     "name": "stderr",
     "output_type": "stream",
     "text": [
      "Epoch:   0%|                                                                                     | 0/20 [00:00<?, ?it/s]"
     ]
    },
    {
     "name": "stdout",
     "output_type": "stream",
     "text": [
      "Begin group  1 training\n"
     ]
    },
    {
     "name": "stderr",
     "output_type": "stream",
     "text": [
      "Epoch:   0%|                                                                                     | 0/20 [00:00<?, ?it/s]"
     ]
    },
    {
     "name": "stdout",
     "output_type": "stream",
     "text": [
      "Begin group  2 training\n"
     ]
    },
    {
     "name": "stderr",
     "output_type": "stream",
     "text": [
      "Epoch:   0%|                                                                                     | 0/20 [00:00<?, ?it/s]"
     ]
    },
    {
     "name": "stdout",
     "output_type": "stream",
     "text": [
      "Begin group  3 training\n"
     ]
    },
    {
     "name": "stderr",
     "output_type": "stream",
     "text": [
      "                                                                                                                        \r"
     ]
    },
    {
     "name": "stdout",
     "output_type": "stream",
     "text": [
      "Begin group  4 training\n",
      "Group 0, clients ['f_00198', 'f_00138', 'f_00158']\n",
      "Group 1, clients ['f_00044', 'f_00032', 'f_00144', 'f_00004', 'f_00064', 'f_00065', 'f_00080']\n",
      "Group 2 is empty.\n",
      "Group 3, clients ['f_00128', 'f_00133', 'f_00193', 'f_00196', 'f_00114', 'f_00106']\n",
      "Group 4, clients ['f_00047', 'f_00187', 'f_00168', 'f_00089']\n"
     ]
    },
    {
     "name": "stderr",
     "output_type": "stream",
     "text": [
      "Epoch:   0%|                                                                                     | 0/20 [00:00<?, ?it/s]"
     ]
    },
    {
     "name": "stdout",
     "output_type": "stream",
     "text": [
      "Group 0\n",
      "At round 137 accuracy: 0.7575757575757576\n",
      "At round 137 training accuracy: 0.7863604732080723\n",
      "At round 137 training loss: 0.8494992357786945\n",
      "Group 1\n",
      "At round 137 accuracy: 0.6382252559726962\n",
      "At round 137 training accuracy: 0.6359577922077922\n",
      "At round 137 training loss: 1.0562929716928826\n",
      "Group 2\n",
      "At round 137 accuracy: 0.8171206225680934\n",
      "At round 137 training accuracy: 0.8113910186199342\n",
      "At round 137 training loss: 0.5934401468013751\n",
      "Group 3\n",
      "At round 137 accuracy: 0.7457627118644068\n",
      "At round 137 training accuracy: 0.763265306122449\n",
      "At round 137 training loss: 0.8265781870808732\n",
      "Group 4\n",
      "At round 137 accuracy: 0.6688524590163935\n",
      "At round 137 training accuracy: 0.6174049392395139\n",
      "At round 137 training loss: 1.0947973810016571\n",
      "At round 137 mean test accuracy: 0.7208939708939709 mean train accuracy: 0.7178003775653127\n",
      "The groups difference are: [0.         0.9290328  1.02152079 0.72734036 0.50900869]\n",
      "Begin group  0 training\n"
     ]
    },
    {
     "name": "stderr",
     "output_type": "stream",
     "text": [
      "Epoch:   0%|                                                                                     | 0/20 [00:00<?, ?it/s]"
     ]
    },
    {
     "name": "stdout",
     "output_type": "stream",
     "text": [
      "Begin group  1 training\n"
     ]
    },
    {
     "name": "stderr",
     "output_type": "stream",
     "text": [
      "Epoch:   0%|                                                                                     | 0/20 [00:00<?, ?it/s]"
     ]
    },
    {
     "name": "stdout",
     "output_type": "stream",
     "text": [
      "Begin group  3 training\n"
     ]
    },
    {
     "name": "stderr",
     "output_type": "stream",
     "text": [
      "Epoch:   0%|                                                                                     | 0/20 [00:00<?, ?it/s]"
     ]
    },
    {
     "name": "stdout",
     "output_type": "stream",
     "text": [
      "Begin group  4 training\n"
     ]
    },
    {
     "name": "stderr",
     "output_type": "stream",
     "text": [
      "                                                                                                                        \r"
     ]
    },
    {
     "name": "stdout",
     "output_type": "stream",
     "text": [
      "Group 0, clients ['f_00038']\n",
      "Group 1, clients ['f_00013', 'f_00154', 'f_00162', 'f_00014', 'f_00084', 'f_00115', 'f_00185', 'f_00142']\n",
      "Group 2, clients ['f_00052']\n",
      "Group 3, clients ['f_00156', 'f_00128', 'f_00016', 'f_00114', 'f_00186', 'f_00151', 'f_00036', 'f_00155']\n",
      "Group 4, clients ['f_00058', 'f_00079']\n"
     ]
    },
    {
     "name": "stderr",
     "output_type": "stream",
     "text": [
      "Epoch:   0%|                                                                                     | 0/20 [00:00<?, ?it/s]"
     ]
    },
    {
     "name": "stdout",
     "output_type": "stream",
     "text": [
      "Group 0\n",
      "At round 138 accuracy: 0.7818181818181819\n",
      "At round 138 training accuracy: 0.8002783576896312\n",
      "At round 138 training loss: 0.8323497822820601\n",
      "Group 1\n",
      "At round 138 accuracy: 0.6860068259385665\n",
      "At round 138 training accuracy: 0.6994724025974026\n",
      "At round 138 training loss: 0.906719411826124\n",
      "Group 2\n",
      "At round 138 accuracy: 0.8210116731517509\n",
      "At round 138 training accuracy: 0.8129244249726177\n",
      "At round 138 training loss: 0.5777094240648201\n",
      "Group 3\n",
      "At round 138 accuracy: 0.4293785310734463\n",
      "At round 138 training accuracy: 0.4346938775510204\n",
      "At round 138 training loss: 1.4512061772095104\n",
      "Group 4\n",
      "At round 138 accuracy: 0.7868852459016393\n",
      "At round 138 training accuracy: 0.7714621716973736\n",
      "At round 138 training loss: 0.6981156006344437\n",
      "At round 138 mean test accuracy: 0.6990644490644491 mean train accuracy: 0.7036112295231716\n",
      "The groups difference are: [0.         0.89954764 0.98661957 0.73128364 0.50404266]\n",
      "Begin group  0 training\n",
      "Begin group  1 training\n"
     ]
    },
    {
     "name": "stderr",
     "output_type": "stream",
     "text": [
      "Epoch:  25%|███████████████████▎                                                         | 5/20 [00:00<00:00, 49.70it/s]"
     ]
    },
    {
     "name": "stdout",
     "output_type": "stream",
     "text": [
      "Begin group  2 training\n"
     ]
    },
    {
     "name": "stderr",
     "output_type": "stream",
     "text": [
      "Epoch:   0%|                                                                                     | 0/20 [00:00<?, ?it/s]"
     ]
    },
    {
     "name": "stdout",
     "output_type": "stream",
     "text": [
      "Begin group  3 training\n"
     ]
    },
    {
     "name": "stderr",
     "output_type": "stream",
     "text": [
      "Epoch:  50%|██████████████████████████████████████                                      | 10/20 [00:00<00:00, 97.71it/s]"
     ]
    },
    {
     "name": "stdout",
     "output_type": "stream",
     "text": [
      "Begin group  4 training\n"
     ]
    },
    {
     "name": "stderr",
     "output_type": "stream",
     "text": [
      "                                                                                                                        \r"
     ]
    },
    {
     "name": "stdout",
     "output_type": "stream",
     "text": [
      "Group 0, clients ['f_00108', 'f_00167']\n",
      "Group 1, clients ['f_00164', 'f_00103', 'f_00183', 'f_00104', 'f_00084', 'f_00142', 'f_00171', 'f_00054', 'f_00075']\n",
      "Group 2, clients ['f_00123']\n",
      "Group 3, clients ['f_00156', 'f_00180', 'f_00128', 'f_00151', 'f_00155']\n",
      "Group 4, clients ['f_00197', 'f_00097', 'f_00159']\n"
     ]
    },
    {
     "name": "stderr",
     "output_type": "stream",
     "text": [
      "Epoch:  40%|██████████████████████████████▊                                              | 8/20 [00:00<00:00, 75.93it/s]"
     ]
    },
    {
     "name": "stdout",
     "output_type": "stream",
     "text": [
      "Group 0\n",
      "At round 139 accuracy: 0.793939393939394\n",
      "At round 139 training accuracy: 0.7891440501043842\n",
      "At round 139 training loss: 0.8096038909861007\n",
      "Group 1\n",
      "At round 139 accuracy: 0.5665529010238908\n",
      "At round 139 training accuracy: 0.5846185064935064\n",
      "At round 139 training loss: 1.1836227494679004\n",
      "Group 2\n",
      "At round 139 accuracy: 0.7315175097276264\n",
      "At round 139 training accuracy: 0.7537787513691128\n",
      "At round 139 training loss: 0.7514360465460251\n",
      "Group 3\n",
      "At round 139 accuracy: 0.3898305084745763\n",
      "At round 139 training accuracy: 0.408843537414966\n",
      "At round 139 training loss: 2.00420437208852\n",
      "Group 4\n",
      "At round 139 accuracy: 0.6229508196721312\n",
      "At round 139 training accuracy: 0.5891807134457075\n",
      "At round 139 training loss: 1.3355219811609986\n",
      "At round 139 mean test accuracy: 0.6065488565488566 mean train accuracy: 0.6187808294257353\n",
      "The groups difference are: [0.         0.91163028 0.99538275 0.72602084 0.54050328]\n",
      "Begin group  0 training\n"
     ]
    },
    {
     "name": "stderr",
     "output_type": "stream",
     "text": [
      "Epoch:  15%|███████████▌                                                                 | 3/20 [00:00<00:00, 28.05it/s]"
     ]
    },
    {
     "name": "stdout",
     "output_type": "stream",
     "text": [
      "Begin group  1 training\n"
     ]
    },
    {
     "name": "stderr",
     "output_type": "stream",
     "text": [
      "Epoch:  20%|███████████████▍                                                             | 4/20 [00:00<00:00, 37.53it/s]"
     ]
    },
    {
     "name": "stdout",
     "output_type": "stream",
     "text": [
      "Begin group  2 training\n"
     ]
    },
    {
     "name": "stderr",
     "output_type": "stream",
     "text": [
      "Epoch:   0%|                                                                                     | 0/20 [00:00<?, ?it/s]"
     ]
    },
    {
     "name": "stdout",
     "output_type": "stream",
     "text": [
      "Begin group  3 training\n"
     ]
    },
    {
     "name": "stderr",
     "output_type": "stream",
     "text": [
      "Epoch:   0%|                                                                                     | 0/20 [00:00<?, ?it/s]"
     ]
    },
    {
     "name": "stdout",
     "output_type": "stream",
     "text": [
      "Begin group  4 training\n"
     ]
    },
    {
     "name": "stderr",
     "output_type": "stream",
     "text": [
      "                                                                                                                        \r"
     ]
    },
    {
     "name": "stdout",
     "output_type": "stream",
     "text": [
      "Group 0 is empty.\n",
      "Group 1, clients ['f_00142', 'f_00071', 'f_00021', 'f_00173', 'f_00145', 'f_00055', 'f_00154', 'f_00153', 'f_00132']\n",
      "Group 2 is empty.\n",
      "Group 3, clients ['f_00030', 'f_00120', 'f_00095', 'f_00140', 'f_00046', 'f_00061']\n",
      "Group 4, clients ['f_00129', 'f_00047', 'f_00049', 'f_00169', 'f_00137']\n"
     ]
    },
    {
     "name": "stderr",
     "output_type": "stream",
     "text": [
      "Epoch:   0%|                                                                                     | 0/20 [00:00<?, ?it/s]"
     ]
    },
    {
     "name": "stdout",
     "output_type": "stream",
     "text": [
      "Group 0\n",
      "At round 140 accuracy: 0.7878787878787878\n",
      "At round 140 training accuracy: 0.7515657620041754\n",
      "At round 140 training loss: 0.6491293114303464\n",
      "Group 1\n",
      "At round 140 accuracy: 0.5665529010238908\n",
      "At round 140 training accuracy: 0.578125\n",
      "At round 140 training loss: 1.296493732225295\n",
      "Group 2\n",
      "At round 140 accuracy: 0.6517509727626459\n",
      "At round 140 training accuracy: 0.6276013143483024\n",
      "At round 140 training loss: 1.1848017810730658\n",
      "Group 3\n",
      "At round 140 accuracy: 0.6412429378531074\n",
      "At round 140 training accuracy: 0.673469387755102\n",
      "At round 140 training loss: 0.9167984046599492\n",
      "Group 4\n",
      "At round 140 accuracy: 0.7639344262295082\n",
      "At round 140 training accuracy: 0.7161897295178361\n",
      "At round 140 training loss: 0.709130240848886\n",
      "At round 140 mean test accuracy: 0.6533264033264033 mean train accuracy: 0.6455757871018817\n",
      "The groups difference are: [0.         0.91813872 0.99851002 0.70425968 0.50554679]\n",
      "Begin group  1 training\n"
     ]
    },
    {
     "name": "stderr",
     "output_type": "stream",
     "text": [
      "Epoch:  65%|████████████████████████████████████████████████▊                          | 13/20 [00:00<00:00, 128.13it/s]"
     ]
    },
    {
     "name": "stdout",
     "output_type": "stream",
     "text": [
      "Begin group  3 training\n"
     ]
    },
    {
     "name": "stderr",
     "output_type": "stream",
     "text": [
      "Epoch:   0%|                                                                                     | 0/20 [00:00<?, ?it/s]"
     ]
    },
    {
     "name": "stdout",
     "output_type": "stream",
     "text": [
      "Begin group  4 training\n"
     ]
    },
    {
     "name": "stderr",
     "output_type": "stream",
     "text": [
      "                                                                                                                        \r"
     ]
    },
    {
     "name": "stdout",
     "output_type": "stream",
     "text": [
      "Group 0, clients ['f_00098', 'f_00108']\n",
      "Group 1, clients ['f_00055', 'f_00051', 'f_00010', 'f_00071', 'f_00183', 'f_00181']\n",
      "Group 2, clients ['f_00093', 'f_00163']\n",
      "Group 3, clients ['f_00036', 'f_00116', 'f_00126', 'f_00176', 'f_00020']\n",
      "Group 4, clients ['f_00079', 'f_00107', 'f_00029', 'f_00137', 'f_00007']\n"
     ]
    },
    {
     "name": "stderr",
     "output_type": "stream",
     "text": [
      "Epoch:  20%|███████████████▍                                                             | 4/20 [00:00<00:00, 32.62it/s]"
     ]
    },
    {
     "name": "stdout",
     "output_type": "stream",
     "text": [
      "Group 0\n",
      "At round 141 accuracy: 0.7878787878787878\n",
      "At round 141 training accuracy: 0.7515657620041754\n",
      "At round 141 training loss: 0.6352518376743287\n",
      "Group 1\n",
      "At round 141 accuracy: 0.6604095563139932\n",
      "At round 141 training accuracy: 0.6870941558441559\n",
      "At round 141 training loss: 0.9853125164623965\n",
      "Group 2\n",
      "At round 141 accuracy: 0.6556420233463035\n",
      "At round 141 training accuracy: 0.6341730558598029\n",
      "At round 141 training loss: 1.1311894521786376\n",
      "Group 3\n",
      "At round 141 accuracy: 0.4745762711864407\n",
      "At round 141 training accuracy: 0.48707482993197276\n",
      "At round 141 training loss: 1.3080683142352267\n",
      "Group 4\n",
      "At round 141 accuracy: 0.780327868852459\n",
      "At round 141 training accuracy: 0.7589180713445708\n",
      "At round 141 training loss: 0.6871281193546668\n",
      "At round 141 mean test accuracy: 0.6548856548856549 mean train accuracy: 0.6533706838803971\n",
      "The groups difference are: [0.         0.88581856 0.94366125 0.69217808 0.47986049]\n",
      "Begin group  0 training\n"
     ]
    },
    {
     "name": "stderr",
     "output_type": "stream",
     "text": [
      "Epoch:   0%|                                                                                     | 0/20 [00:00<?, ?it/s]"
     ]
    },
    {
     "name": "stdout",
     "output_type": "stream",
     "text": [
      "Begin group  1 training\n"
     ]
    },
    {
     "name": "stderr",
     "output_type": "stream",
     "text": [
      "Epoch:  30%|███████████████████████                                                      | 6/20 [00:00<00:00, 57.78it/s]"
     ]
    },
    {
     "name": "stdout",
     "output_type": "stream",
     "text": [
      "Begin group  2 training\n"
     ]
    },
    {
     "name": "stderr",
     "output_type": "stream",
     "text": [
      "Epoch:   0%|                                                                                     | 0/20 [00:00<?, ?it/s]"
     ]
    },
    {
     "name": "stdout",
     "output_type": "stream",
     "text": [
      "Begin group  3 training\n"
     ]
    },
    {
     "name": "stderr",
     "output_type": "stream",
     "text": [
      "Epoch:  50%|██████████████████████████████████████                                      | 10/20 [00:00<00:00, 98.13it/s]"
     ]
    },
    {
     "name": "stdout",
     "output_type": "stream",
     "text": [
      "Begin group  4 training\n"
     ]
    },
    {
     "name": "stderr",
     "output_type": "stream",
     "text": [
      "                                                                                                                        \r"
     ]
    },
    {
     "name": "stdout",
     "output_type": "stream",
     "text": [
      "Group 0, clients ['f_00068', 'f_00067']\n",
      "Group 1, clients ['f_00025', 'f_00153', 'f_00175', 'f_00010', 'f_00142', 'f_00162']\n",
      "Group 2, clients ['f_00072']\n",
      "Group 3, clients ['f_00166', 'f_00126', 'f_00106', 'f_00003', 'f_00090', 'f_00001', 'f_00161']\n",
      "Group 4, clients ['f_00199', 'f_00099', 'f_00148', 'f_00027']\n"
     ]
    },
    {
     "name": "stderr",
     "output_type": "stream",
     "text": [
      "Epoch:  40%|██████████████████████████████▊                                              | 8/20 [00:00<00:00, 71.73it/s]"
     ]
    },
    {
     "name": "stdout",
     "output_type": "stream",
     "text": [
      "Group 0\n",
      "At round 142 accuracy: 0.7878787878787878\n",
      "At round 142 training accuracy: 0.7884481558803061\n",
      "At round 142 training loss: 0.7167738960199084\n",
      "Group 1\n",
      "At round 142 accuracy: 0.2696245733788396\n",
      "At round 142 training accuracy: 0.2792207792207792\n",
      "At round 142 training loss: 1.7423028305910722\n",
      "Group 2\n",
      "At round 142 accuracy: 0.72568093385214\n",
      "At round 142 training accuracy: 0.704052573932092\n",
      "At round 142 training loss: 1.201473649464719\n",
      "Group 3\n",
      "At round 142 accuracy: 0.7401129943502824\n",
      "At round 142 training accuracy: 0.7646258503401361\n",
      "At round 142 training loss: 0.8650982710374456\n",
      "Group 4\n",
      "At round 142 accuracy: 0.7836065573770492\n",
      "At round 142 training accuracy: 0.7534300274402195\n",
      "At round 142 training loss: 0.678999995365184\n",
      "At round 142 mean test accuracy: 0.603950103950104 mean train accuracy: 0.6024602642957189\n",
      "The groups difference are: [0.         0.88092815 0.97099709 0.69430563 0.50103223]\n",
      "Begin group  0 training\n"
     ]
    },
    {
     "name": "stderr",
     "output_type": "stream",
     "text": [
      "Epoch:   0%|                                                                                     | 0/20 [00:00<?, ?it/s]"
     ]
    },
    {
     "name": "stdout",
     "output_type": "stream",
     "text": [
      "Begin group  1 training\n"
     ]
    },
    {
     "name": "stderr",
     "output_type": "stream",
     "text": [
      "Epoch:   0%|                                                                                     | 0/20 [00:00<?, ?it/s]"
     ]
    },
    {
     "name": "stdout",
     "output_type": "stream",
     "text": [
      "Begin group  2 training\n",
      "Begin group  3 training\n"
     ]
    },
    {
     "name": "stderr",
     "output_type": "stream",
     "text": [
      "Epoch:  30%|███████████████████████                                                      | 6/20 [00:00<00:00, 55.93it/s]"
     ]
    },
    {
     "name": "stdout",
     "output_type": "stream",
     "text": [
      "Begin group  4 training\n"
     ]
    },
    {
     "name": "stderr",
     "output_type": "stream",
     "text": [
      "                                                                                                                        \r"
     ]
    },
    {
     "name": "stdout",
     "output_type": "stream",
     "text": [
      "Group 0, clients ['f_00158']\n",
      "Group 1, clients ['f_00025', 'f_00015', 'f_00165', 'f_00105', 'f_00014', 'f_00032', 'f_00103']\n",
      "Group 2, clients ['f_00072', 'f_00002']\n",
      "Group 3, clients ['f_00161', 'f_00096', 'f_00041', 'f_00166', 'f_00001']\n",
      "Group 4, clients ['f_00107', 'f_00119', 'f_00139', 'f_00147', 'f_00019']\n"
     ]
    },
    {
     "name": "stderr",
     "output_type": "stream",
     "text": [
      "Epoch:  45%|██████████████████████████████████▋                                          | 9/20 [00:00<00:00, 81.07it/s]"
     ]
    },
    {
     "name": "stdout",
     "output_type": "stream",
     "text": [
      "Group 0\n",
      "At round 143 accuracy: 0.7212121212121212\n",
      "At round 143 training accuracy: 0.7244258872651357\n",
      "At round 143 training loss: 0.6559521426487567\n",
      "Group 1\n",
      "At round 143 accuracy: 0.4129692832764505\n",
      "At round 143 training accuracy: 0.4316152597402597\n",
      "At round 143 training loss: 1.3075396567341182\n",
      "Group 2\n",
      "At round 143 accuracy: 0.8365758754863813\n",
      "At round 143 training accuracy: 0.8282584884994524\n",
      "At round 143 training loss: 0.5222265077642647\n",
      "Group 3\n",
      "At round 143 accuracy: 0.5988700564971752\n",
      "At round 143 training accuracy: 0.6173469387755102\n",
      "At round 143 training loss: 1.0343753880181281\n",
      "Group 4\n",
      "At round 143 accuracy: 0.6688524590163935\n",
      "At round 143 training accuracy: 0.617796942375539\n",
      "At round 143 training loss: 1.1336268142233732\n",
      "At round 143 mean test accuracy: 0.6273388773388774 mean train accuracy: 0.6296815053894403\n",
      "The groups difference are: [0.         0.86955492 0.96625552 0.70608485 0.53464333]\n",
      "Begin group  0 training\n"
     ]
    },
    {
     "name": "stderr",
     "output_type": "stream",
     "text": [
      "                                                                                                                        "
     ]
    },
    {
     "name": "stdout",
     "output_type": "stream",
     "text": [
      "Begin group  1 training\n"
     ]
    },
    {
     "name": "stderr",
     "output_type": "stream",
     "text": [
      "Epoch:  45%|██████████████████████████████████▋                                          | 9/20 [00:00<00:00, 89.38it/s]"
     ]
    },
    {
     "name": "stdout",
     "output_type": "stream",
     "text": [
      "Begin group  2 training\n"
     ]
    },
    {
     "name": "stderr",
     "output_type": "stream",
     "text": [
      "Epoch:  45%|██████████████████████████████████▋                                          | 9/20 [00:00<00:00, 82.15it/s]"
     ]
    },
    {
     "name": "stdout",
     "output_type": "stream",
     "text": [
      "Begin group  3 training\n"
     ]
    },
    {
     "name": "stderr",
     "output_type": "stream",
     "text": [
      "Epoch:  50%|██████████████████████████████████████                                      | 10/20 [00:00<00:00, 99.89it/s]"
     ]
    },
    {
     "name": "stdout",
     "output_type": "stream",
     "text": [
      "Begin group  4 training\n"
     ]
    },
    {
     "name": "stderr",
     "output_type": "stream",
     "text": [
      "                                                                                                                        \r"
     ]
    },
    {
     "name": "stdout",
     "output_type": "stream",
     "text": [
      "Group 0, clients ['f_00178']\n",
      "Group 1, clients ['f_00144', 'f_00004', 'f_00165', 'f_00104']\n",
      "Group 2, clients ['f_00023', 'f_00163', 'f_00062']\n",
      "Group 3, clients ['f_00193', 'f_00060', 'f_00001', 'f_00020', 'f_00050', 'f_00146', 'f_00190']\n",
      "Group 4, clients ['f_00189', 'f_00088', 'f_00008', 'f_00168', 'f_00199']\n"
     ]
    },
    {
     "name": "stderr",
     "output_type": "stream",
     "text": [
      "Epoch:   0%|                                                                                     | 0/20 [00:00<?, ?it/s]"
     ]
    },
    {
     "name": "stdout",
     "output_type": "stream",
     "text": [
      "Group 0\n",
      "At round 144 accuracy: 0.793939393939394\n",
      "At round 144 training accuracy: 0.7717466945024356\n",
      "At round 144 training loss: 0.6051805126600657\n",
      "Group 1\n",
      "At round 144 accuracy: 0.5784982935153583\n",
      "At round 144 training accuracy: 0.5665584415584416\n",
      "At round 144 training loss: 1.2670668158317349\n",
      "Group 2\n",
      "At round 144 accuracy: 0.8151750972762646\n",
      "At round 144 training accuracy: 0.8155531215772179\n",
      "At round 144 training loss: 0.603013081500982\n",
      "Group 3\n",
      "At round 144 accuracy: 0.4491525423728814\n",
      "At round 144 training accuracy: 0.47551020408163264\n",
      "At round 144 training loss: 1.2999121620490843\n",
      "Group 4\n",
      "At round 144 accuracy: 0.6524590163934426\n",
      "At round 144 training accuracy: 0.6017248137985104\n",
      "At round 144 training loss: 0.9096915440342558\n",
      "At round 144 mean test accuracy: 0.6481288981288982 mean train accuracy: 0.6428962913342671\n",
      "The groups difference are: [0.         0.8991136  0.9795705  0.70858374 0.51535424]\n",
      "Begin group  0 training\n",
      "Begin group  1 training\n"
     ]
    },
    {
     "name": "stderr",
     "output_type": "stream",
     "text": [
      "Epoch:  40%|██████████████████████████████▊                                              | 8/20 [00:00<00:00, 78.65it/s]"
     ]
    },
    {
     "name": "stdout",
     "output_type": "stream",
     "text": [
      "Begin group  2 training\n"
     ]
    },
    {
     "name": "stderr",
     "output_type": "stream",
     "text": [
      "Epoch:   0%|                                                                                     | 0/20 [00:00<?, ?it/s]"
     ]
    },
    {
     "name": "stdout",
     "output_type": "stream",
     "text": [
      "Begin group  3 training\n"
     ]
    },
    {
     "name": "stderr",
     "output_type": "stream",
     "text": [
      "Epoch:  45%|██████████████████████████████████▋                                          | 9/20 [00:00<00:00, 89.03it/s]"
     ]
    },
    {
     "name": "stdout",
     "output_type": "stream",
     "text": [
      "Begin group  4 training\n"
     ]
    },
    {
     "name": "stderr",
     "output_type": "stream",
     "text": [
      "                                                                                                                        \r"
     ]
    },
    {
     "name": "stdout",
     "output_type": "stream",
     "text": [
      "Group 0, clients ['f_00067', 'f_00138', 'f_00068', 'f_00028', 'f_00167']\n",
      "Group 1, clients ['f_00055', 'f_00083', 'f_00174', 'f_00080', 'f_00063', 'f_00132']\n",
      "Group 2, clients ['f_00093', 'f_00163', 'f_00002']\n",
      "Group 3, clients ['f_00128', 'f_00130', 'f_00086', 'f_00001', 'f_00050']\n",
      "Group 4, clients ['f_00088']\n"
     ]
    },
    {
     "name": "stderr",
     "output_type": "stream",
     "text": [
      "Epoch:  15%|███████████▌                                                                 | 3/20 [00:00<00:00, 26.82it/s]"
     ]
    },
    {
     "name": "stdout",
     "output_type": "stream",
     "text": [
      "Group 0\n",
      "At round 145 accuracy: 0.7333333333333333\n",
      "At round 145 training accuracy: 0.7877522616562282\n",
      "At round 145 training loss: 0.7179721091137052\n",
      "Group 1\n",
      "At round 145 accuracy: 0.5750853242320819\n",
      "At round 145 training accuracy: 0.585836038961039\n",
      "At round 145 training loss: 1.4267195726067505\n",
      "Group 2\n",
      "At round 145 accuracy: 0.8132295719844358\n",
      "At round 145 training accuracy: 0.8190580503833516\n",
      "At round 145 training loss: 0.6253884279910732\n",
      "Group 3\n",
      "At round 145 accuracy: 0.480225988700565\n",
      "At round 145 training accuracy: 0.48673469387755103\n",
      "At round 145 training loss: 1.3558941102098852\n",
      "Group 4\n",
      "At round 145 accuracy: 0.6655737704918033\n",
      "At round 145 training accuracy: 0.6146609172873383\n",
      "At round 145 training loss: 1.3639953901420991\n",
      "At round 145 mean test accuracy: 0.6491683991683992 mean train accuracy: 0.6550758175506973\n",
      "The groups difference are: [0.         0.91284605 0.99124973 0.7122223  0.53653931]\n",
      "Begin group  0 training\n"
     ]
    },
    {
     "name": "stderr",
     "output_type": "stream",
     "text": [
      "Epoch:   0%|                                                                                     | 0/20 [00:00<?, ?it/s]"
     ]
    },
    {
     "name": "stdout",
     "output_type": "stream",
     "text": [
      "Begin group  1 training\n"
     ]
    },
    {
     "name": "stderr",
     "output_type": "stream",
     "text": [
      "Epoch:  35%|██████████████████████████▉                                                  | 7/20 [00:00<00:00, 63.41it/s]"
     ]
    },
    {
     "name": "stdout",
     "output_type": "stream",
     "text": [
      "Begin group  2 training\n"
     ]
    },
    {
     "name": "stderr",
     "output_type": "stream",
     "text": [
      "Epoch:   0%|                                                                                     | 0/20 [00:00<?, ?it/s]"
     ]
    },
    {
     "name": "stdout",
     "output_type": "stream",
     "text": [
      "Begin group  3 training\n"
     ]
    },
    {
     "name": "stderr",
     "output_type": "stream",
     "text": [
      "                                                                                                                        \r"
     ]
    },
    {
     "name": "stdout",
     "output_type": "stream",
     "text": [
      "Begin group  4 training\n",
      "Group 0, clients ['f_00118']\n",
      "Group 1, clients ['f_00162', 'f_00081', 'f_00143', 'f_00004', 'f_00185']\n",
      "Group 2 is empty.\n",
      "Group 3, clients ['f_00041', 'f_00193', 'f_00076', 'f_00024', 'f_00056', 'f_00095']\n",
      "Group 4, clients ['f_00007', 'f_00197', 'f_00089', 'f_00078', 'f_00148', 'f_00087', 'f_00039', 'f_00057']\n"
     ]
    },
    {
     "name": "stderr",
     "output_type": "stream",
     "text": [
      "Epoch:  20%|███████████████▍                                                             | 4/20 [00:00<00:00, 37.04it/s]"
     ]
    },
    {
     "name": "stdout",
     "output_type": "stream",
     "text": [
      "Group 0\n",
      "At round 146 accuracy: 0.7878787878787878\n",
      "At round 146 training accuracy: 0.7620041753653445\n",
      "At round 146 training loss: 0.6031563405204168\n",
      "Group 1\n",
      "At round 146 accuracy: 0.7320819112627986\n",
      "At round 146 training accuracy: 0.7418831168831169\n",
      "At round 146 training loss: 0.9197658174731708\n",
      "Group 2\n",
      "At round 146 accuracy: 0.7587548638132295\n",
      "At round 146 training accuracy: 0.7575027382256297\n",
      "At round 146 training loss: 0.6058638261155779\n",
      "Group 3\n",
      "At round 146 accuracy: 0.751412429378531\n",
      "At round 146 training accuracy: 0.7687074829931972\n",
      "At round 146 training loss: 0.8531663406260159\n",
      "Group 4\n",
      "At round 146 accuracy: 0.6983606557377049\n",
      "At round 146 training accuracy: 0.6777734221873775\n",
      "At round 146 training loss: 1.0395241070966634\n",
      "At round 146 mean test accuracy: 0.7422037422037422 mean train accuracy: 0.7428293039400767\n",
      "The groups difference are: [0.         0.8741487  0.98439157 0.68196449 0.49962506]\n",
      "Begin group  0 training\n"
     ]
    },
    {
     "name": "stderr",
     "output_type": "stream",
     "text": [
      "Epoch:   0%|                                                                                     | 0/20 [00:00<?, ?it/s]"
     ]
    },
    {
     "name": "stdout",
     "output_type": "stream",
     "text": [
      "Begin group  1 training\n"
     ]
    },
    {
     "name": "stderr",
     "output_type": "stream",
     "text": [
      "Epoch:   0%|                                                                                     | 0/20 [00:00<?, ?it/s]"
     ]
    },
    {
     "name": "stdout",
     "output_type": "stream",
     "text": [
      "Begin group  3 training\n"
     ]
    },
    {
     "name": "stderr",
     "output_type": "stream",
     "text": [
      "Epoch:   0%|                                                                                     | 0/20 [00:00<?, ?it/s]"
     ]
    },
    {
     "name": "stdout",
     "output_type": "stream",
     "text": [
      "Begin group  4 training\n"
     ]
    },
    {
     "name": "stderr",
     "output_type": "stream",
     "text": [
      "                                                                                                                        \r"
     ]
    },
    {
     "name": "stdout",
     "output_type": "stream",
     "text": [
      "Group 0, clients ['f_00138']\n",
      "Group 1, clients ['f_00035', 'f_00112', 'f_00022', 'f_00021', 'f_00044', 'f_00174', 'f_00194', 'f_00134', 'f_00175']\n",
      "Group 2, clients ['f_00062', 'f_00072']\n",
      "Group 3, clients ['f_00024', 'f_00031', 'f_00140', 'f_00090', 'f_00133']\n",
      "Group 4, clients ['f_00169', 'f_00097', 'f_00089']\n"
     ]
    },
    {
     "name": "stderr",
     "output_type": "stream",
     "text": [
      "Epoch:   0%|                                                                                     | 0/20 [00:00<?, ?it/s]"
     ]
    },
    {
     "name": "stdout",
     "output_type": "stream",
     "text": [
      "Group 0\n",
      "At round 147 accuracy: 0.8121212121212121\n",
      "At round 147 training accuracy: 0.8009742519137091\n",
      "At round 147 training loss: 0.6083792154998022\n",
      "Group 1\n",
      "At round 147 accuracy: 0.7133105802047781\n",
      "At round 147 training accuracy: 0.7256493506493507\n",
      "At round 147 training loss: 0.8604257756348264\n",
      "Group 2\n",
      "At round 147 accuracy: 0.7607003891050583\n",
      "At round 147 training accuracy: 0.7642935377875137\n",
      "At round 147 training loss: 0.5902412211516339\n",
      "Group 3\n",
      "At round 147 accuracy: 0.3898305084745763\n",
      "At round 147 training accuracy: 0.408843537414966\n",
      "At round 147 training loss: 1.8299433779199512\n",
      "Group 4\n",
      "At round 147 accuracy: 0.6754098360655738\n",
      "At round 147 training accuracy: 0.6679733437867503\n",
      "At round 147 training loss: 0.894284770249012\n",
      "At round 147 mean test accuracy: 0.668918918918919 mean train accuracy: 0.6773034528956824\n",
      "The groups difference are: [0.         0.9000919  0.97042494 0.71785097 0.48369655]\n",
      "Begin group  0 training\n",
      "Begin group  1 training\n"
     ]
    },
    {
     "name": "stderr",
     "output_type": "stream",
     "text": [
      "Epoch:   5%|███▊                                                                         | 1/20 [00:00<00:02,  6.65it/s]"
     ]
    },
    {
     "name": "stdout",
     "output_type": "stream",
     "text": [
      "Begin group  2 training\n"
     ]
    },
    {
     "name": "stderr",
     "output_type": "stream",
     "text": [
      "Epoch:   0%|                                                                                     | 0/20 [00:00<?, ?it/s]"
     ]
    },
    {
     "name": "stdout",
     "output_type": "stream",
     "text": [
      "Begin group  3 training\n"
     ]
    },
    {
     "name": "stderr",
     "output_type": "stream",
     "text": [
      "Epoch:   0%|                                                                                     | 0/20 [00:00<?, ?it/s]"
     ]
    },
    {
     "name": "stdout",
     "output_type": "stream",
     "text": [
      "Begin group  4 training\n"
     ]
    },
    {
     "name": "stderr",
     "output_type": "stream",
     "text": [
      "                                                                                                                        \r"
     ]
    },
    {
     "name": "stdout",
     "output_type": "stream",
     "text": [
      "Group 0, clients ['f_00158']\n",
      "Group 1, clients ['f_00192', 'f_00153', 'f_00181', 'f_00135', 'f_00055', 'f_00034', 'f_00013', 'f_00185']\n",
      "Group 2, clients ['f_00023', 'f_00073', 'f_00002']\n",
      "Group 3, clients ['f_00056', 'f_00193', 'f_00030', 'f_00060']\n",
      "Group 4, clients ['f_00097', 'f_00088', 'f_00189', 'f_00149']\n"
     ]
    },
    {
     "name": "stderr",
     "output_type": "stream",
     "text": [
      "Epoch:  50%|██████████████████████████████████████                                      | 10/20 [00:00<00:00, 91.39it/s]"
     ]
    },
    {
     "name": "stdout",
     "output_type": "stream",
     "text": [
      "Group 0\n",
      "At round 148 accuracy: 0.7818181818181819\n",
      "At round 148 training accuracy: 0.7814892136395268\n",
      "At round 148 training loss: 0.6519440381827252\n",
      "Group 1\n",
      "At round 148 accuracy: 0.6279863481228669\n",
      "At round 148 training accuracy: 0.6331168831168831\n",
      "At round 148 training loss: 1.0795773270406894\n",
      "Group 2\n",
      "At round 148 accuracy: 0.8132295719844358\n",
      "At round 148 training accuracy: 0.8186199342825848\n",
      "At round 148 training loss: 0.5753623924145693\n",
      "Group 3\n",
      "At round 148 accuracy: 0.4632768361581921\n",
      "At round 148 training accuracy: 0.48741496598639455\n",
      "At round 148 training loss: 1.461980951577425\n",
      "Group 4\n",
      "At round 148 accuracy: 0.659016393442623\n",
      "At round 148 training accuracy: 0.604860838886711\n",
      "At round 148 training loss: 0.8368389910281943\n",
      "At round 148 mean test accuracy: 0.6652806652806653 mean train accuracy: 0.6671944461360453\n",
      "The groups difference are: [0.         0.90801088 0.9874571  0.72738104 0.49305473]\n",
      "Begin group  0 training\n"
     ]
    },
    {
     "name": "stderr",
     "output_type": "stream",
     "text": [
      "Epoch:   0%|                                                                                     | 0/20 [00:00<?, ?it/s]"
     ]
    },
    {
     "name": "stdout",
     "output_type": "stream",
     "text": [
      "Begin group  1 training\n"
     ]
    },
    {
     "name": "stderr",
     "output_type": "stream",
     "text": [
      "Epoch:  40%|██████████████████████████████▊                                              | 8/20 [00:00<00:00, 77.85it/s]"
     ]
    },
    {
     "name": "stdout",
     "output_type": "stream",
     "text": [
      "Begin group  2 training\n"
     ]
    },
    {
     "name": "stderr",
     "output_type": "stream",
     "text": [
      "Epoch:   0%|                                                                                     | 0/20 [00:00<?, ?it/s]"
     ]
    },
    {
     "name": "stdout",
     "output_type": "stream",
     "text": [
      "Begin group  3 training\n"
     ]
    },
    {
     "name": "stderr",
     "output_type": "stream",
     "text": [
      "Epoch:   0%|                                                                                     | 0/20 [00:00<?, ?it/s]"
     ]
    },
    {
     "name": "stdout",
     "output_type": "stream",
     "text": [
      "Begin group  4 training\n"
     ]
    },
    {
     "name": "stderr",
     "output_type": "stream",
     "text": [
      "                                                                                                                        \r"
     ]
    },
    {
     "name": "stdout",
     "output_type": "stream",
     "text": [
      "Group 0 is empty.\n",
      "Group 1, clients ['f_00091', 'f_00071', 'f_00013', 'f_00135', 'f_00022', 'f_00063', 'f_00141', 'f_00074']\n",
      "Group 2, clients ['f_00052', 'f_00062']\n",
      "Group 3, clients ['f_00061', 'f_00182', 'f_00026', 'f_00180', 'f_00110', 'f_00186', 'f_00090']\n",
      "Group 4, clients ['f_00058', 'f_00089', 'f_00107']\n"
     ]
    },
    {
     "name": "stderr",
     "output_type": "stream",
     "text": [
      "Epoch:  30%|███████████████████████                                                      | 6/20 [00:00<00:00, 52.15it/s]"
     ]
    },
    {
     "name": "stdout",
     "output_type": "stream",
     "text": [
      "Group 0\n",
      "At round 149 accuracy: 0.806060606060606\n",
      "At round 149 training accuracy: 0.7988865692414753\n",
      "At round 149 training loss: 0.6878534579285335\n",
      "Group 1\n",
      "At round 149 accuracy: 0.6672354948805461\n",
      "At round 149 training accuracy: 0.6674107142857143\n",
      "At round 149 training loss: 1.0416433605268693\n",
      "Group 2\n",
      "At round 149 accuracy: 0.745136186770428\n",
      "At round 149 training accuracy: 0.7404162102957283\n",
      "At round 149 training loss: 0.6769417296560545\n",
      "Group 3\n",
      "At round 149 accuracy: 0.5875706214689266\n",
      "At round 149 training accuracy: 0.6027210884353742\n",
      "At round 149 training loss: 1.0471750506028836\n",
      "Group 4\n",
      "At round 149 accuracy: 0.6622950819672131\n",
      "At round 149 training accuracy: 0.6213249705997648\n",
      "At round 149 training loss: 1.1387027363679494\n",
      "At round 149 mean test accuracy: 0.6845114345114345 mean train accuracy: 0.6804701297119542\n",
      "The groups difference are: [0.         0.91298876 0.99353523 0.71198655 0.51842728]\n",
      "Begin group  1 training\n"
     ]
    },
    {
     "name": "stderr",
     "output_type": "stream",
     "text": [
      "Epoch:  25%|███████████████████▎                                                         | 5/20 [00:00<00:00, 45.66it/s]"
     ]
    },
    {
     "name": "stdout",
     "output_type": "stream",
     "text": [
      "Begin group  2 training\n"
     ]
    },
    {
     "name": "stderr",
     "output_type": "stream",
     "text": [
      "Epoch:  60%|█████████████████████████████████████████████                              | 12/20 [00:00<00:00, 118.95it/s]"
     ]
    },
    {
     "name": "stdout",
     "output_type": "stream",
     "text": [
      "Begin group  3 training\n"
     ]
    },
    {
     "name": "stderr",
     "output_type": "stream",
     "text": [
      "Epoch:   0%|                                                                                     | 0/20 [00:00<?, ?it/s]"
     ]
    },
    {
     "name": "stdout",
     "output_type": "stream",
     "text": [
      "Begin group  4 training\n"
     ]
    },
    {
     "name": "stderr",
     "output_type": "stream",
     "text": [
      "                                                                                                                        \r"
     ]
    },
    {
     "name": "stdout",
     "output_type": "stream",
     "text": [
      "Group 0 is empty.\n",
      "Group 1, clients ['f_00085', 'f_00194', 'f_00070', 'f_00091', 'f_00184', 'f_00013', 'f_00084']\n",
      "Group 2, clients ['f_00072', 'f_00042']\n",
      "Group 3, clients ['f_00036', 'f_00056', 'f_00066', 'f_00033', 'f_00133']\n",
      "Group 4, clients ['f_00087', 'f_00009', 'f_00119', 'f_00168', 'f_00008', 'f_00058']\n"
     ]
    },
    {
     "name": "stderr",
     "output_type": "stream",
     "text": [
      "Epoch:   0%|                                                                                     | 0/20 [00:00<?, ?it/s]"
     ]
    },
    {
     "name": "stdout",
     "output_type": "stream",
     "text": [
      "Group 0\n",
      "At round 150 accuracy: 0.793939393939394\n",
      "At round 150 training accuracy: 0.791231732776618\n",
      "At round 150 training loss: 0.6715474453914805\n",
      "Group 1\n",
      "At round 150 accuracy: 0.6689419795221843\n",
      "At round 150 training accuracy: 0.6956168831168831\n",
      "At round 150 training loss: 0.9213265825014609\n",
      "Group 2\n",
      "At round 150 accuracy: 0.8151750972762646\n",
      "At round 150 training accuracy: 0.8179627601314349\n",
      "At round 150 training loss: 0.5753069238620938\n",
      "Group 3\n",
      "At round 150 accuracy: 0.4774011299435028\n",
      "At round 150 training accuracy: 0.4887755102040816\n",
      "At round 150 training loss: 1.3089077233254505\n",
      "Group 4\n",
      "At round 150 accuracy: 0.7737704918032787\n",
      "At round 150 training accuracy: 0.7471579772638182\n",
      "At round 150 training loss: 0.7069848482863943\n",
      "At round 150 mean test accuracy: 0.7001039501039501 mean train accuracy: 0.7089702210584008\n",
      "The groups difference are: [0.         0.88518885 0.9909465  0.70379405 0.47348954]\n",
      "Begin group  1 training\n"
     ]
    },
    {
     "name": "stderr",
     "output_type": "stream",
     "text": [
      "Epoch:   0%|                                                                                     | 0/20 [00:00<?, ?it/s]"
     ]
    },
    {
     "name": "stdout",
     "output_type": "stream",
     "text": [
      "Begin group  2 training\n"
     ]
    },
    {
     "name": "stderr",
     "output_type": "stream",
     "text": [
      "Epoch:   0%|                                                                                     | 0/20 [00:00<?, ?it/s]"
     ]
    },
    {
     "name": "stdout",
     "output_type": "stream",
     "text": [
      "Begin group  3 training\n"
     ]
    },
    {
     "name": "stderr",
     "output_type": "stream",
     "text": [
      "Epoch:  20%|███████████████▍                                                             | 4/20 [00:00<00:00, 39.92it/s]"
     ]
    },
    {
     "name": "stdout",
     "output_type": "stream",
     "text": [
      "Begin group  4 training\n"
     ]
    },
    {
     "name": "stderr",
     "output_type": "stream",
     "text": [
      "                                                                                                                        \r"
     ]
    },
    {
     "name": "stdout",
     "output_type": "stream",
     "text": [
      "Group 0, clients ['f_00038', 'f_00138']\n",
      "Group 1, clients ['f_00103', 'f_00022', 'f_00153', 'f_00094', 'f_00142', 'f_00011']\n",
      "Group 2, clients ['f_00053']\n",
      "Group 3, clients ['f_00170', 'f_00050', 'f_00166', 'f_00061', 'f_00076', 'f_00066', 'f_00156']\n",
      "Group 4, clients ['f_00007', 'f_00008', 'f_00177', 'f_00187']\n"
     ]
    },
    {
     "name": "stderr",
     "output_type": "stream",
     "text": [
      "Epoch:   0%|                                                                                     | 0/20 [00:00<?, ?it/s]"
     ]
    },
    {
     "name": "stdout",
     "output_type": "stream",
     "text": [
      "Group 0\n",
      "At round 151 accuracy: 0.7818181818181819\n",
      "At round 151 training accuracy: 0.7821851078636047\n",
      "At round 151 training loss: 0.6529871148414386\n",
      "Group 1\n",
      "At round 151 accuracy: 0.764505119453925\n",
      "At round 151 training accuracy: 0.7719155844155844\n",
      "At round 151 training loss: 0.8624377421454176\n",
      "Group 2\n",
      "At round 151 accuracy: 0.8073929961089494\n",
      "At round 151 training accuracy: 0.8151150054764512\n",
      "At round 151 training loss: 0.6423688754455675\n",
      "Group 3\n",
      "At round 151 accuracy: 0.3898305084745763\n",
      "At round 151 training accuracy: 0.4095238095238095\n",
      "At round 151 training loss: 1.7796605610016252\n",
      "Group 4\n",
      "At round 151 accuracy: 0.7016393442622951\n",
      "At round 151 training accuracy: 0.6809094472755782\n",
      "At round 151 training loss: 0.8139072161756371\n",
      "At round 151 mean test accuracy: 0.6985446985446986 mean train accuracy: 0.705803544242129\n",
      "The groups difference are: [0.         0.84637128 0.96174154 0.68544776 0.44908066]\n",
      "Begin group  0 training\n"
     ]
    },
    {
     "name": "stderr",
     "output_type": "stream",
     "text": [
      "Epoch:   0%|                                                                                     | 0/20 [00:00<?, ?it/s]"
     ]
    },
    {
     "name": "stdout",
     "output_type": "stream",
     "text": [
      "Begin group  1 training\n"
     ]
    },
    {
     "name": "stderr",
     "output_type": "stream",
     "text": [
      "Epoch:  20%|███████████████▍                                                             | 4/20 [00:00<00:00, 31.10it/s]"
     ]
    },
    {
     "name": "stdout",
     "output_type": "stream",
     "text": [
      "Begin group  2 training\n"
     ]
    },
    {
     "name": "stderr",
     "output_type": "stream",
     "text": [
      "Epoch:   0%|                                                                                     | 0/20 [00:00<?, ?it/s]"
     ]
    },
    {
     "name": "stdout",
     "output_type": "stream",
     "text": [
      "Begin group  3 training\n"
     ]
    },
    {
     "name": "stderr",
     "output_type": "stream",
     "text": [
      "Epoch:   0%|                                                                                     | 0/20 [00:00<?, ?it/s]"
     ]
    },
    {
     "name": "stdout",
     "output_type": "stream",
     "text": [
      "Begin group  4 training\n"
     ]
    },
    {
     "name": "stderr",
     "output_type": "stream",
     "text": [
      "                                                                                                                        \r"
     ]
    },
    {
     "name": "stdout",
     "output_type": "stream",
     "text": [
      "Group 0, clients ['f_00167']\n",
      "Group 1, clients ['f_00191', 'f_00063', 'f_00115', 'f_00021', 'f_00085', 'f_00141', 'f_00010', 'f_00192', 'f_00144']\n",
      "Group 2, clients ['f_00102', 'f_00052']\n",
      "Group 3, clients ['f_00156', 'f_00076', 'f_00133', 'f_00003', 'f_00116']\n",
      "Group 4, clients ['f_00099', 'f_00088', 'f_00078']\n"
     ]
    },
    {
     "name": "stderr",
     "output_type": "stream",
     "text": [
      "Epoch:  55%|█████████████████████████████████████████▎                                 | 11/20 [00:00<00:00, 104.30it/s]"
     ]
    },
    {
     "name": "stdout",
     "output_type": "stream",
     "text": [
      "Group 0\n",
      "At round 152 accuracy: 0.7757575757575758\n",
      "At round 152 training accuracy: 0.7780097425191371\n",
      "At round 152 training loss: 0.6722057464019906\n",
      "Group 1\n",
      "At round 152 accuracy: 0.6501706484641638\n",
      "At round 152 training accuracy: 0.6690340909090909\n",
      "At round 152 training loss: 1.038665016502287\n",
      "Group 2\n",
      "At round 152 accuracy: 0.7237354085603113\n",
      "At round 152 training accuracy: 0.6974808324205914\n",
      "At round 152 training loss: 0.9216287624731513\n",
      "Group 3\n",
      "At round 152 accuracy: 0.3870056497175141\n",
      "At round 152 training accuracy: 0.4061224489795918\n",
      "At round 152 training loss: 2.0913325750427383\n",
      "Group 4\n",
      "At round 152 accuracy: 0.5836065573770491\n",
      "At round 152 training accuracy: 0.5844766758134065\n",
      "At round 152 training loss: 1.3820558059734254\n",
      "At round 152 mean test accuracy: 0.6216216216216216 mean train accuracy: 0.6262712380488399\n",
      "The groups difference are: [0.         0.85619668 0.96761929 0.69508265 0.46274331]\n",
      "Begin group  0 training\n"
     ]
    },
    {
     "name": "stderr",
     "output_type": "stream",
     "text": [
      "Epoch:   0%|                                                                                     | 0/20 [00:00<?, ?it/s]"
     ]
    },
    {
     "name": "stdout",
     "output_type": "stream",
     "text": [
      "Begin group  1 training\n"
     ]
    },
    {
     "name": "stderr",
     "output_type": "stream",
     "text": [
      "Epoch:  25%|███████████████████▎                                                         | 5/20 [00:00<00:00, 40.49it/s]"
     ]
    },
    {
     "name": "stdout",
     "output_type": "stream",
     "text": [
      "Begin group  2 training\n"
     ]
    },
    {
     "name": "stderr",
     "output_type": "stream",
     "text": [
      "Epoch:   0%|                                                                                     | 0/20 [00:00<?, ?it/s]"
     ]
    },
    {
     "name": "stdout",
     "output_type": "stream",
     "text": [
      "Begin group  3 training\n"
     ]
    },
    {
     "name": "stderr",
     "output_type": "stream",
     "text": [
      "Epoch:   0%|                                                                                     | 0/20 [00:00<?, ?it/s]"
     ]
    },
    {
     "name": "stdout",
     "output_type": "stream",
     "text": [
      "Begin group  4 training\n"
     ]
    },
    {
     "name": "stderr",
     "output_type": "stream",
     "text": [
      "                                                                                                                        \r"
     ]
    },
    {
     "name": "stdout",
     "output_type": "stream",
     "text": [
      "Group 0, clients ['f_00048', 'f_00198']\n",
      "Group 1, clients ['f_00071', 'f_00015', 'f_00074', 'f_00004', 'f_00162', 'f_00101', 'f_00125']\n",
      "Group 2, clients ['f_00023']\n",
      "Group 3, clients ['f_00016', 'f_00020', 'f_00056', 'f_00001', 'f_00060', 'f_00160']\n",
      "Group 4, clients ['f_00029', 'f_00127', 'f_00077', 'f_00039']\n"
     ]
    },
    {
     "name": "stderr",
     "output_type": "stream",
     "text": [
      "Epoch:   0%|                                                                                     | 0/20 [00:00<?, ?it/s]"
     ]
    },
    {
     "name": "stdout",
     "output_type": "stream",
     "text": [
      "Group 0\n",
      "At round 153 accuracy: 0.6606060606060606\n",
      "At round 153 training accuracy: 0.6471816283924844\n",
      "At round 153 training loss: 0.8396771575065645\n",
      "Group 1\n",
      "At round 153 accuracy: 0.6604095563139932\n",
      "At round 153 training accuracy: 0.6505681818181818\n",
      "At round 153 training loss: 1.0225570005086528\n",
      "Group 2\n",
      "At round 153 accuracy: 0.8249027237354085\n",
      "At round 153 training accuracy: 0.8306681270536692\n",
      "At round 153 training loss: 0.5224737258952392\n",
      "Group 3\n",
      "At round 153 accuracy: 0.3898305084745763\n",
      "At round 153 training accuracy: 0.4085034013605442\n",
      "At round 153 training loss: 2.6403627871301305\n",
      "Group 4\n",
      "At round 153 accuracy: 0.7344262295081967\n",
      "At round 153 training accuracy: 0.6997255978047824\n",
      "At round 153 training loss: 0.8271305917151439\n",
      "At round 153 mean test accuracy: 0.6663201663201663 mean train accuracy: 0.6646367456305949\n",
      "The groups difference are: [0.         0.82817982 0.97074356 0.66896364 0.42659495]\n",
      "Begin group  0 training\n"
     ]
    },
    {
     "name": "stderr",
     "output_type": "stream",
     "text": [
      "Epoch:   0%|                                                                                     | 0/20 [00:00<?, ?it/s]"
     ]
    },
    {
     "name": "stdout",
     "output_type": "stream",
     "text": [
      "Begin group  1 training\n"
     ]
    },
    {
     "name": "stderr",
     "output_type": "stream",
     "text": [
      "Epoch:  40%|██████████████████████████████▊                                              | 8/20 [00:00<00:00, 70.88it/s]"
     ]
    },
    {
     "name": "stdout",
     "output_type": "stream",
     "text": [
      "Begin group  2 training\n"
     ]
    },
    {
     "name": "stderr",
     "output_type": "stream",
     "text": [
      "Epoch:  65%|████████████████████████████████████████████████▊                          | 13/20 [00:00<00:00, 124.27it/s]"
     ]
    },
    {
     "name": "stdout",
     "output_type": "stream",
     "text": [
      "Begin group  3 training\n"
     ]
    },
    {
     "name": "stderr",
     "output_type": "stream",
     "text": [
      "Epoch:   0%|                                                                                     | 0/20 [00:00<?, ?it/s]"
     ]
    },
    {
     "name": "stdout",
     "output_type": "stream",
     "text": [
      "Begin group  4 training\n"
     ]
    },
    {
     "name": "stderr",
     "output_type": "stream",
     "text": [
      "                                                                                                                        \r"
     ]
    },
    {
     "name": "stdout",
     "output_type": "stream",
     "text": [
      "Group 0, clients ['f_00118']\n",
      "Group 1, clients ['f_00092', 'f_00101', 'f_00134', 'f_00162', 'f_00013', 'f_00065']\n",
      "Group 2, clients ['f_00123', 'f_00163']\n",
      "Group 3, clients ['f_00155', 'f_00095', 'f_00076', 'f_00040']\n",
      "Group 4, clients ['f_00157', 'f_00058', 'f_00107', 'f_00188', 'f_00077', 'f_00187', 'f_00097']\n"
     ]
    },
    {
     "name": "stderr",
     "output_type": "stream",
     "text": [
      "Epoch:  20%|███████████████▍                                                             | 4/20 [00:00<00:00, 32.98it/s]"
     ]
    },
    {
     "name": "stdout",
     "output_type": "stream",
     "text": [
      "Group 0\n",
      "At round 154 accuracy: 0.8181818181818182\n",
      "At round 154 training accuracy: 0.7967988865692415\n",
      "At round 154 training loss: 0.5583606831879772\n",
      "Group 1\n",
      "At round 154 accuracy: 0.764505119453925\n",
      "At round 154 training accuracy: 0.7528409090909091\n",
      "At round 154 training loss: 0.8381422541902533\n",
      "Group 2\n",
      "At round 154 accuracy: 0.7295719844357976\n",
      "At round 154 training accuracy: 0.7090909090909091\n",
      "At round 154 training loss: 0.9325442189683266\n",
      "Group 3\n",
      "At round 154 accuracy: 0.4774011299435028\n",
      "At round 154 training accuracy: 0.48775510204081635\n",
      "At round 154 training loss: 1.3409540768991521\n",
      "Group 4\n",
      "At round 154 accuracy: 0.760655737704918\n",
      "At round 154 training accuracy: 0.6965895727165817\n",
      "At round 154 training loss: 0.695737047418105\n",
      "At round 154 mean test accuracy: 0.7063409563409564 mean train accuracy: 0.6883259241215517\n",
      "The groups difference are: [0.         0.83129074 0.96993525 0.70700074 0.4144568 ]\n",
      "Begin group  0 training\n"
     ]
    },
    {
     "name": "stderr",
     "output_type": "stream",
     "text": [
      "Epoch:   0%|                                                                                     | 0/20 [00:00<?, ?it/s]"
     ]
    },
    {
     "name": "stdout",
     "output_type": "stream",
     "text": [
      "Begin group  1 training\n"
     ]
    },
    {
     "name": "stderr",
     "output_type": "stream",
     "text": [
      "Epoch:  20%|███████████████▍                                                             | 4/20 [00:00<00:00, 37.82it/s]"
     ]
    },
    {
     "name": "stdout",
     "output_type": "stream",
     "text": [
      "Begin group  2 training\n"
     ]
    },
    {
     "name": "stderr",
     "output_type": "stream",
     "text": [
      "Epoch:   0%|                                                                                     | 0/20 [00:00<?, ?it/s]"
     ]
    },
    {
     "name": "stdout",
     "output_type": "stream",
     "text": [
      "Begin group  3 training\n"
     ]
    },
    {
     "name": "stderr",
     "output_type": "stream",
     "text": [
      "Epoch:   0%|                                                                                     | 0/20 [00:00<?, ?it/s]"
     ]
    },
    {
     "name": "stdout",
     "output_type": "stream",
     "text": [
      "Begin group  4 training\n"
     ]
    },
    {
     "name": "stderr",
     "output_type": "stream",
     "text": [
      "                                                                                                                        \r"
     ]
    },
    {
     "name": "stdout",
     "output_type": "stream",
     "text": [
      "Group 0, clients ['f_00048']\n",
      "Group 1, clients ['f_00125', 'f_00183', 'f_00045', 'f_00083', 'f_00065', 'f_00035', 'f_00022']\n",
      "Group 2 is empty.\n",
      "Group 3, clients ['f_00130', 'f_00166', 'f_00155', 'f_00060', 'f_00076']\n",
      "Group 4, clients ['f_00199', 'f_00169', 'f_00077', 'f_00157', 'f_00007', 'f_00127', 'f_00099']\n"
     ]
    },
    {
     "name": "stderr",
     "output_type": "stream",
     "text": [
      "Epoch:   0%|                                                                                     | 0/20 [00:00<?, ?it/s]"
     ]
    },
    {
     "name": "stdout",
     "output_type": "stream",
     "text": [
      "Group 0\n",
      "At round 155 accuracy: 0.7090909090909091\n",
      "At round 155 training accuracy: 0.7390396659707724\n",
      "At round 155 training loss: 0.7921667031803808\n",
      "Group 1\n",
      "At round 155 accuracy: 0.6791808873720137\n",
      "At round 155 training accuracy: 0.6887175324675324\n",
      "At round 155 training loss: 0.9372068684511854\n",
      "Group 2\n",
      "At round 155 accuracy: 0.7237354085603113\n",
      "At round 155 training accuracy: 0.7049288061336254\n",
      "At round 155 training loss: 1.2278745691395014\n",
      "Group 3\n",
      "At round 155 accuracy: 0.4011299435028249\n",
      "At round 155 training accuracy: 0.4129251700680272\n",
      "At round 155 training loss: 1.628208249259968\n",
      "Group 4\n",
      "At round 155 accuracy: 0.6229508196721312\n",
      "At round 155 training accuracy: 0.613092904743238\n",
      "At round 155 training loss: 1.0770775986530883\n",
      "At round 155 mean test accuracy: 0.6335758835758836 mean train accuracy: 0.6365020400706413\n",
      "The groups difference are: [0.         0.86402195 0.99500458 0.73604501 0.43104708]\n",
      "Begin group  0 training\n",
      "Begin group  1 training\n"
     ]
    },
    {
     "name": "stderr",
     "output_type": "stream",
     "text": [
      "Epoch:   0%|                                                                                     | 0/20 [00:00<?, ?it/s]"
     ]
    },
    {
     "name": "stdout",
     "output_type": "stream",
     "text": [
      "Begin group  3 training\n"
     ]
    },
    {
     "name": "stderr",
     "output_type": "stream",
     "text": [
      "Epoch:  30%|███████████████████████                                                      | 6/20 [00:00<00:00, 51.79it/s]"
     ]
    },
    {
     "name": "stdout",
     "output_type": "stream",
     "text": [
      "Begin group  4 training\n"
     ]
    },
    {
     "name": "stderr",
     "output_type": "stream",
     "text": [
      "                                                                                                                        \r"
     ]
    },
    {
     "name": "stdout",
     "output_type": "stream",
     "text": [
      "Group 0, clients ['f_00068', 'f_00018']\n",
      "Group 1, clients ['f_00051', 'f_00144', 'f_00141', 'f_00132', 'f_00185']\n",
      "Group 2, clients ['f_00072']\n",
      "Group 3, clients ['f_00161', 'f_00000', 'f_00030', 'f_00050', 'f_00003', 'f_00196']\n",
      "Group 4, clients ['f_00009', 'f_00077', 'f_00099', 'f_00049', 'f_00149', 'f_00019']\n"
     ]
    },
    {
     "name": "stderr",
     "output_type": "stream",
     "text": [
      "Epoch:  35%|██████████████████████████▉                                                  | 7/20 [00:00<00:00, 61.57it/s]"
     ]
    },
    {
     "name": "stdout",
     "output_type": "stream",
     "text": [
      "Group 0\n",
      "At round 156 accuracy: 0.8121212121212121\n",
      "At round 156 training accuracy: 0.802366040361865\n",
      "At round 156 training loss: 0.6686733016431871\n",
      "Group 1\n",
      "At round 156 accuracy: 0.6296928327645052\n",
      "At round 156 training accuracy: 0.6231737012987013\n",
      "At round 156 training loss: 1.2100385638957771\n",
      "Group 2\n",
      "At round 156 accuracy: 0.7237354085603113\n",
      "At round 156 training accuracy: 0.7049288061336254\n",
      "At round 156 training loss: 1.1798329463042931\n",
      "Group 3\n",
      "At round 156 accuracy: 0.3898305084745763\n",
      "At round 156 training accuracy: 0.4098639455782313\n",
      "At round 156 training loss: 1.8938865854221136\n",
      "Group 4\n",
      "At round 156 accuracy: 0.760655737704918\n",
      "At round 156 training accuracy: 0.7161897295178361\n",
      "At round 156 training loss: 0.7047598478795033\n",
      "At round 156 mean test accuracy: 0.6470893970893971 mean train accuracy: 0.6378417879544486\n",
      "The groups difference are: [0.         0.85181087 0.94900997 0.72953598 0.42386309]\n",
      "Begin group  0 training\n"
     ]
    },
    {
     "name": "stderr",
     "output_type": "stream",
     "text": [
      "Epoch:   0%|                                                                                     | 0/20 [00:00<?, ?it/s]"
     ]
    },
    {
     "name": "stdout",
     "output_type": "stream",
     "text": [
      "Begin group  1 training\n"
     ]
    },
    {
     "name": "stderr",
     "output_type": "stream",
     "text": [
      "Epoch:   0%|                                                                                     | 0/20 [00:00<?, ?it/s]"
     ]
    },
    {
     "name": "stdout",
     "output_type": "stream",
     "text": [
      "Begin group  2 training\n",
      "Begin group  3 training\n"
     ]
    },
    {
     "name": "stderr",
     "output_type": "stream",
     "text": [
      "Epoch:   0%|                                                                                     | 0/20 [00:00<?, ?it/s]"
     ]
    },
    {
     "name": "stdout",
     "output_type": "stream",
     "text": [
      "Begin group  4 training\n"
     ]
    },
    {
     "name": "stderr",
     "output_type": "stream",
     "text": [
      "                                                                                                                        \r"
     ]
    },
    {
     "name": "stdout",
     "output_type": "stream",
     "text": [
      "Group 0, clients ['f_00178']\n",
      "Group 1, clients ['f_00144', 'f_00012', 'f_00055', 'f_00094', 'f_00103', 'f_00171']\n",
      "Group 2, clients ['f_00123', 'f_00052', 'f_00072']\n",
      "Group 3, clients ['f_00120', 'f_00040', 'f_00155', 'f_00151', 'f_00033', 'f_00060']\n",
      "Group 4, clients ['f_00039', 'f_00087', 'f_00199', 'f_00127']\n"
     ]
    },
    {
     "name": "stderr",
     "output_type": "stream",
     "text": [
      "Epoch:   0%|                                                                                     | 0/20 [00:00<?, ?it/s]"
     ]
    },
    {
     "name": "stdout",
     "output_type": "stream",
     "text": [
      "Group 0\n",
      "At round 157 accuracy: 0.8\n",
      "At round 157 training accuracy: 0.7814892136395268\n",
      "At round 157 training loss: 0.706031554759005\n",
      "Group 1\n",
      "At round 157 accuracy: 0.8191126279863481\n",
      "At round 157 training accuracy: 0.8114853896103896\n",
      "At round 157 training loss: 0.8465773791389225\n",
      "Group 2\n",
      "At round 157 accuracy: 0.8424124513618677\n",
      "At round 157 training accuracy: 0.8378970427163198\n",
      "At round 157 training loss: 0.5132896406300619\n",
      "Group 3\n",
      "At round 157 accuracy: 0.7288135593220338\n",
      "At round 157 training accuracy: 0.745578231292517\n",
      "At round 157 training loss: 0.8169116002463159\n",
      "Group 4\n",
      "At round 157 accuracy: 0.6754098360655738\n",
      "At round 157 training accuracy: 0.6228929831438651\n",
      "At round 157 training loss: 0.9667090372810734\n",
      "At round 157 mean test accuracy: 0.7843035343035343 mean train accuracy: 0.7751050484136167\n",
      "The groups difference are: [0.         0.85104615 0.94713474 0.70908419 0.45041959]\n",
      "Begin group  0 training\n",
      "Begin group  1 training\n"
     ]
    },
    {
     "name": "stderr",
     "output_type": "stream",
     "text": [
      "Epoch:  20%|███████████████▍                                                             | 4/20 [00:00<00:00, 38.71it/s]"
     ]
    },
    {
     "name": "stdout",
     "output_type": "stream",
     "text": [
      "Begin group  2 training\n"
     ]
    },
    {
     "name": "stderr",
     "output_type": "stream",
     "text": [
      "Epoch:   0%|                                                                                     | 0/20 [00:00<?, ?it/s]"
     ]
    },
    {
     "name": "stdout",
     "output_type": "stream",
     "text": [
      "Begin group  3 training\n"
     ]
    },
    {
     "name": "stderr",
     "output_type": "stream",
     "text": [
      "Epoch:   0%|                                                                                     | 0/20 [00:00<?, ?it/s]"
     ]
    },
    {
     "name": "stdout",
     "output_type": "stream",
     "text": [
      "Begin group  4 training\n"
     ]
    },
    {
     "name": "stderr",
     "output_type": "stream",
     "text": [
      "                                                                                                                        \r"
     ]
    },
    {
     "name": "stdout",
     "output_type": "stream",
     "text": [
      "Group 0 is empty.\n",
      "Group 1, clients ['f_00162', 'f_00185', 'f_00105', 'f_00070', 'f_00015']\n",
      "Group 2, clients ['f_00102', 'f_00023', 'f_00052', 'f_00172']\n",
      "Group 3, clients ['f_00196', 'f_00190', 'f_00128', 'f_00161', 'f_00003', 'f_00176', 'f_00126', 'f_00096']\n",
      "Group 4, clients ['f_00149', 'f_00077', 'f_00019']\n"
     ]
    },
    {
     "name": "stderr",
     "output_type": "stream",
     "text": [
      "Epoch:   0%|                                                                                     | 0/20 [00:00<?, ?it/s]"
     ]
    },
    {
     "name": "stdout",
     "output_type": "stream",
     "text": [
      "Group 0\n",
      "At round 158 accuracy: 0.8\n",
      "At round 158 training accuracy: 0.7814892136395268\n",
      "At round 158 training loss: 0.7264832511036116\n",
      "Group 1\n",
      "At round 158 accuracy: 0.6638225255972696\n",
      "At round 158 training accuracy: 0.6789772727272727\n",
      "At round 158 training loss: 0.9643574395797566\n",
      "Group 2\n",
      "At round 158 accuracy: 0.7470817120622568\n",
      "At round 158 training accuracy: 0.7465498357064622\n",
      "At round 158 training loss: 0.6096203768958398\n",
      "Group 3\n",
      "At round 158 accuracy: 0.4830508474576271\n",
      "At round 158 training accuracy: 0.4996598639455782\n",
      "At round 158 training loss: 1.3032470124868714\n",
      "Group 4\n",
      "At round 158 accuracy: 0.7147540983606557\n",
      "At round 158 training accuracy: 0.6746373970991768\n",
      "At round 158 training loss: 0.7564798434404054\n",
      "At round 158 mean test accuracy: 0.6725571725571725 mean train accuracy: 0.673954083186164\n",
      "The groups difference are: [0.         0.85427343 0.95038935 0.71120737 0.4412284 ]\n",
      "Begin group  1 training\n"
     ]
    },
    {
     "name": "stderr",
     "output_type": "stream",
     "text": [
      "Epoch:  25%|███████████████████▎                                                         | 5/20 [00:00<00:00, 43.41it/s]"
     ]
    },
    {
     "name": "stdout",
     "output_type": "stream",
     "text": [
      "Begin group  2 training\n"
     ]
    },
    {
     "name": "stderr",
     "output_type": "stream",
     "text": [
      "Epoch:   0%|                                                                                     | 0/20 [00:00<?, ?it/s]"
     ]
    },
    {
     "name": "stdout",
     "output_type": "stream",
     "text": [
      "Begin group  3 training\n"
     ]
    },
    {
     "name": "stderr",
     "output_type": "stream",
     "text": [
      "Epoch:   0%|                                                                                     | 0/20 [00:00<?, ?it/s]"
     ]
    },
    {
     "name": "stdout",
     "output_type": "stream",
     "text": [
      "Begin group  4 training\n"
     ]
    },
    {
     "name": "stderr",
     "output_type": "stream",
     "text": [
      "                                                                                                                        \r"
     ]
    },
    {
     "name": "stdout",
     "output_type": "stream",
     "text": [
      "Group 0, clients ['f_00038']\n",
      "Group 1, clients ['f_00004', 'f_00014', 'f_00165', 'f_00162', 'f_00022', 'f_00012', 'f_00184']\n",
      "Group 2 is empty.\n",
      "Group 3, clients ['f_00061', 'f_00128', 'f_00026', 'f_00131', 'f_00116', 'f_00176', 'f_00151', 'f_00041', 'f_00100', 'f_00020']\n",
      "Group 4, clients ['f_00097', 'f_00147']\n"
     ]
    },
    {
     "name": "stderr",
     "output_type": "stream",
     "text": [
      "Epoch:   0%|                                                                                     | 0/20 [00:00<?, ?it/s]"
     ]
    },
    {
     "name": "stdout",
     "output_type": "stream",
     "text": [
      "Group 0\n",
      "At round 159 accuracy: 0.8\n",
      "At round 159 training accuracy: 0.7814892136395268\n",
      "At round 159 training loss: 0.7086246827450078\n",
      "Group 1\n",
      "At round 159 accuracy: 0.71160409556314\n",
      "At round 159 training accuracy: 0.7288961038961039\n",
      "At round 159 training loss: 0.8849942358573536\n",
      "Group 2\n",
      "At round 159 accuracy: 0.8424124513618677\n",
      "At round 159 training accuracy: 0.831763417305586\n",
      "At round 159 training loss: 0.5051165760542712\n",
      "Group 3\n",
      "At round 159 accuracy: 0.6694915254237288\n",
      "At round 159 training accuracy: 0.6918367346938775\n",
      "At round 159 training loss: 0.8940005281952773\n",
      "Group 4\n",
      "At round 159 accuracy: 0.7081967213114754\n",
      "At round 159 training accuracy: 0.6464131713053705\n",
      "At round 159 training loss: 0.8201967866595518\n",
      "At round 159 mean test accuracy: 0.7458419958419958 mean train accuracy: 0.7426466110468303\n",
      "The groups difference are: [0.         0.80251533 0.93813654 0.67309777 0.43955022]\n",
      "Begin group  0 training\n",
      "Begin group  1 training\n"
     ]
    },
    {
     "name": "stderr",
     "output_type": "stream",
     "text": [
      "Epoch:  60%|█████████████████████████████████████████████                              | 12/20 [00:00<00:00, 116.56it/s]"
     ]
    },
    {
     "name": "stdout",
     "output_type": "stream",
     "text": [
      "Begin group  3 training\n"
     ]
    },
    {
     "name": "stderr",
     "output_type": "stream",
     "text": [
      "                                                                                                                        \r"
     ]
    },
    {
     "name": "stdout",
     "output_type": "stream",
     "text": [
      "Begin group  4 training\n",
      "Group 0, clients ['f_00178', 'f_00198']\n",
      "Group 1, clients ['f_00142', 'f_00064', 'f_00081', 'f_00141', 'f_00054', 'f_00115', 'f_00184', 'f_00021']\n",
      "Group 2, clients ['f_00082']\n",
      "Group 3, clients ['f_00196', 'f_00000', 'f_00106']\n",
      "Group 4, clients ['f_00149', 'f_00139', 'f_00148', 'f_00079', 'f_00057', 'f_00058']\n"
     ]
    },
    {
     "name": "stderr",
     "output_type": "stream",
     "text": [
      "Epoch:   0%|                                                                                     | 0/20 [00:00<?, ?it/s]"
     ]
    },
    {
     "name": "stdout",
     "output_type": "stream",
     "text": [
      "Group 0\n",
      "At round 160 accuracy: 0.806060606060606\n",
      "At round 160 training accuracy: 0.7995824634655533\n",
      "At round 160 training loss: 0.7038664081980971\n",
      "Group 1\n",
      "At round 160 accuracy: 0.6109215017064846\n",
      "At round 160 training accuracy: 0.6254058441558441\n",
      "At round 160 training loss: 1.0118700236946876\n",
      "Group 2\n",
      "At round 160 accuracy: 0.8482490272373541\n",
      "At round 160 training accuracy: 0.8350492880613363\n",
      "At round 160 training loss: 0.49516532547110925\n",
      "Group 3\n",
      "At round 160 accuracy: 0.6412429378531074\n",
      "At round 160 training accuracy: 0.6806122448979591\n",
      "At round 160 training loss: 0.9164206060827995\n",
      "Group 4\n",
      "At round 160 accuracy: 0.6327868852459017\n",
      "At round 160 training accuracy: 0.6275970207761662\n",
      "At round 160 training loss: 0.9931006144187535\n",
      "At round 160 mean test accuracy: 0.7001039501039501 mean train accuracy: 0.7091529139516473\n",
      "The groups difference are: [0.         0.82568234 0.90433661 0.68147995 0.44084274]\n",
      "Begin group  0 training\n"
     ]
    },
    {
     "name": "stderr",
     "output_type": "stream",
     "text": [
      "Epoch:  80%|████████████████████████████████████████████████████████████               | 16/20 [00:00<00:00, 153.94it/s]"
     ]
    },
    {
     "name": "stdout",
     "output_type": "stream",
     "text": [
      "Begin group  1 training\n"
     ]
    },
    {
     "name": "stderr",
     "output_type": "stream",
     "text": [
      "Epoch:   0%|                                                                                     | 0/20 [00:00<?, ?it/s]"
     ]
    },
    {
     "name": "stdout",
     "output_type": "stream",
     "text": [
      "Begin group  2 training\n",
      "Begin group  3 training\n"
     ]
    },
    {
     "name": "stderr",
     "output_type": "stream",
     "text": [
      "Epoch:   0%|                                                                                     | 0/20 [00:00<?, ?it/s]"
     ]
    },
    {
     "name": "stdout",
     "output_type": "stream",
     "text": [
      "Begin group  4 training\n"
     ]
    },
    {
     "name": "stderr",
     "output_type": "stream",
     "text": [
      "                                                                                                                        \r"
     ]
    },
    {
     "name": "stdout",
     "output_type": "stream",
     "text": [
      "Group 0, clients ['f_00098', 'f_00068']\n",
      "Group 1, clients ['f_00055', 'f_00101', 'f_00175', 'f_00184', 'f_00075', 'f_00124']\n",
      "Group 2 is empty.\n",
      "Group 3, clients ['f_00180', 'f_00133', 'f_00193', 'f_00040', 'f_00056', 'f_00176']\n",
      "Group 4, clients ['f_00097', 'f_00009', 'f_00039', 'f_00137', 'f_00149', 'f_00117']\n"
     ]
    },
    {
     "name": "stderr",
     "output_type": "stream",
     "text": [
      "Epoch:  20%|███████████████▍                                                             | 4/20 [00:00<00:00, 35.72it/s]"
     ]
    },
    {
     "name": "stdout",
     "output_type": "stream",
     "text": [
      "Group 0\n",
      "At round 161 accuracy: 0.8\n",
      "At round 161 training accuracy: 0.7794015309672929\n",
      "At round 161 training loss: 0.7275335120300328\n",
      "Group 1\n",
      "At round 161 accuracy: 0.7747440273037542\n",
      "At round 161 training accuracy: 0.7721185064935064\n",
      "At round 161 training loss: 0.8568179417256411\n",
      "Group 2\n",
      "At round 161 accuracy: 0.8151750972762646\n",
      "At round 161 training accuracy: 0.8170865279299014\n",
      "At round 161 training loss: 0.588749374715287\n",
      "Group 3\n",
      "At round 161 accuracy: 0.7344632768361582\n",
      "At round 161 training accuracy: 0.758843537414966\n",
      "At round 161 training loss: 0.8502113638281011\n",
      "Group 4\n",
      "At round 161 accuracy: 0.6950819672131148\n",
      "At round 161 training accuracy: 0.6381811054488435\n",
      "At round 161 training loss: 0.9151085705172544\n",
      "At round 161 mean test accuracy: 0.7676715176715176 mean train accuracy: 0.7620729553620365\n",
      "The groups difference are: [0.         0.82209347 0.90582019 0.67165511 0.44408105]\n",
      "Begin group  0 training\n"
     ]
    },
    {
     "name": "stderr",
     "output_type": "stream",
     "text": [
      "Epoch:   0%|                                                                                     | 0/20 [00:00<?, ?it/s]"
     ]
    },
    {
     "name": "stdout",
     "output_type": "stream",
     "text": [
      "Begin group  1 training\n"
     ]
    },
    {
     "name": "stderr",
     "output_type": "stream",
     "text": [
      "Epoch:  25%|███████████████████▎                                                         | 5/20 [00:00<00:00, 40.53it/s]"
     ]
    },
    {
     "name": "stdout",
     "output_type": "stream",
     "text": [
      "Begin group  3 training\n"
     ]
    },
    {
     "name": "stderr",
     "output_type": "stream",
     "text": [
      "Epoch:   0%|                                                                                     | 0/20 [00:00<?, ?it/s]"
     ]
    },
    {
     "name": "stdout",
     "output_type": "stream",
     "text": [
      "Begin group  4 training\n"
     ]
    },
    {
     "name": "stderr",
     "output_type": "stream",
     "text": [
      "                                                                                                                        \r"
     ]
    },
    {
     "name": "stdout",
     "output_type": "stream",
     "text": [
      "Group 0, clients ['f_00018']\n",
      "Group 1, clients ['f_00025', 'f_00112', 'f_00184', 'f_00010', 'f_00064', 'f_00004', 'f_00101']\n",
      "Group 2, clients ['f_00152', 'f_00172', 'f_00121']\n",
      "Group 3, clients ['f_00001', 'f_00050', 'f_00180', 'f_00136', 'f_00040', 'f_00182', 'f_00060']\n",
      "Group 4, clients ['f_00088', 'f_00057']\n"
     ]
    },
    {
     "name": "stderr",
     "output_type": "stream",
     "text": [
      "Epoch:   0%|                                                                                     | 0/20 [00:00<?, ?it/s]"
     ]
    },
    {
     "name": "stdout",
     "output_type": "stream",
     "text": [
      "Group 0\n",
      "At round 162 accuracy: 0.7757575757575758\n",
      "At round 162 training accuracy: 0.8009742519137091\n",
      "At round 162 training loss: 0.8000137269828745\n",
      "Group 1\n",
      "At round 162 accuracy: 0.60580204778157\n",
      "At round 162 training accuracy: 0.611810064935065\n",
      "At round 162 training loss: 1.1441574171729774\n",
      "Group 2\n",
      "At round 162 accuracy: 0.8171206225680934\n",
      "At round 162 training accuracy: 0.8181818181818182\n",
      "At round 162 training loss: 0.5752202395410945\n",
      "Group 3\n",
      "At round 162 accuracy: 0.5169491525423728\n",
      "At round 162 training accuracy: 0.5190476190476191\n",
      "At round 162 training loss: 1.2445992238920967\n",
      "Group 4\n",
      "At round 162 accuracy: 0.7540983606557377\n",
      "At round 162 training accuracy: 0.7059976479811838\n",
      "At round 162 training loss: 0.7221639661146865\n",
      "At round 162 mean test accuracy: 0.683991683991684 mean train accuracy: 0.6837586017903904\n",
      "The groups difference are: [0.         0.85629592 0.89245399 0.70040054 0.44258939]\n",
      "Begin group  0 training\n",
      "Begin group  1 training\n"
     ]
    },
    {
     "name": "stderr",
     "output_type": "stream",
     "text": [
      "Epoch:  40%|██████████████████████████████▊                                              | 8/20 [00:00<00:00, 71.25it/s]"
     ]
    },
    {
     "name": "stdout",
     "output_type": "stream",
     "text": [
      "Begin group  2 training\n"
     ]
    },
    {
     "name": "stderr",
     "output_type": "stream",
     "text": [
      "Epoch:   0%|                                                                                     | 0/20 [00:00<?, ?it/s]"
     ]
    },
    {
     "name": "stdout",
     "output_type": "stream",
     "text": [
      "Begin group  3 training\n"
     ]
    },
    {
     "name": "stderr",
     "output_type": "stream",
     "text": [
      "                                                                                                                        \r"
     ]
    },
    {
     "name": "stdout",
     "output_type": "stream",
     "text": [
      "Begin group  4 training\n",
      "Group 0 is empty.\n",
      "Group 1, clients ['f_00014', 'f_00112', 'f_00092', 'f_00075', 'f_00063', 'f_00085', 'f_00032']\n",
      "Group 2, clients ['f_00052', 'f_00082']\n",
      "Group 3, clients ['f_00020', 'f_00031', 'f_00024', 'f_00166', 'f_00150', 'f_00186', 'f_00036']\n",
      "Group 4, clients ['f_00007', 'f_00079', 'f_00058', 'f_00157']\n"
     ]
    },
    {
     "name": "stderr",
     "output_type": "stream",
     "text": [
      "Epoch:  45%|██████████████████████████████████▋                                          | 9/20 [00:00<00:00, 88.67it/s]"
     ]
    },
    {
     "name": "stdout",
     "output_type": "stream",
     "text": [
      "Group 0\n",
      "At round 163 accuracy: 0.793939393939394\n",
      "At round 163 training accuracy: 0.7926235212247739\n",
      "At round 163 training loss: 0.757386717828679\n",
      "Group 1\n",
      "At round 163 accuracy: 0.7542662116040956\n",
      "At round 163 training accuracy: 0.7599431818181818\n",
      "At round 163 training loss: 0.8192620941002358\n",
      "Group 2\n",
      "At round 163 accuracy: 0.7003891050583657\n",
      "At round 163 training accuracy: 0.7303395399780942\n",
      "At round 163 training loss: 0.7116837092388629\n",
      "Group 3\n",
      "At round 163 accuracy: 0.6016949152542372\n",
      "At round 163 training accuracy: 0.6193877551020408\n",
      "At round 163 training loss: 1.0591780196545886\n",
      "Group 4\n",
      "At round 163 accuracy: 0.7377049180327869\n",
      "At round 163 training accuracy: 0.7114856918855351\n",
      "At round 163 training loss: 0.7311591803677079\n",
      "At round 163 mean test accuracy: 0.7125779625779626 mean train accuracy: 0.7218805188478168\n",
      "The groups difference are: [0.         0.8212561  0.88733294 0.70182196 0.41866592]\n",
      "Begin group  1 training\n"
     ]
    },
    {
     "name": "stderr",
     "output_type": "stream",
     "text": [
      "Epoch:  30%|███████████████████████                                                      | 6/20 [00:00<00:00, 52.87it/s]"
     ]
    },
    {
     "name": "stdout",
     "output_type": "stream",
     "text": [
      "Begin group  2 training\n"
     ]
    },
    {
     "name": "stderr",
     "output_type": "stream",
     "text": [
      "Epoch:   0%|                                                                                     | 0/20 [00:00<?, ?it/s]"
     ]
    },
    {
     "name": "stdout",
     "output_type": "stream",
     "text": [
      "Begin group  3 training\n"
     ]
    },
    {
     "name": "stderr",
     "output_type": "stream",
     "text": [
      "Epoch:  50%|██████████████████████████████████████                                      | 10/20 [00:00<00:00, 99.31it/s]"
     ]
    },
    {
     "name": "stdout",
     "output_type": "stream",
     "text": [
      "Begin group  4 training\n"
     ]
    },
    {
     "name": "stderr",
     "output_type": "stream",
     "text": [
      "                                                                                                                        \r"
     ]
    },
    {
     "name": "stdout",
     "output_type": "stream",
     "text": [
      "Group 0, clients ['f_00028']\n",
      "Group 1, clients ['f_00185', 'f_00174', 'f_00154', 'f_00175', 'f_00194', 'f_00143', 'f_00044', 'f_00074', 'f_00145']\n",
      "Group 2, clients ['f_00123', 'f_00122']\n",
      "Group 3, clients ['f_00176', 'f_00003', 'f_00182', 'f_00036', 'f_00060']\n",
      "Group 4, clients ['f_00058', 'f_00189', 'f_00197']\n"
     ]
    },
    {
     "name": "stderr",
     "output_type": "stream",
     "text": [
      "Epoch:   0%|                                                                                     | 0/20 [00:00<?, ?it/s]"
     ]
    },
    {
     "name": "stdout",
     "output_type": "stream",
     "text": [
      "Group 0\n",
      "At round 164 accuracy: 0.793939393939394\n",
      "At round 164 training accuracy: 0.7863604732080723\n",
      "At round 164 training loss: 0.7356379579236795\n",
      "Group 1\n",
      "At round 164 accuracy: 0.6518771331058021\n",
      "At round 164 training accuracy: 0.6655844155844156\n",
      "At round 164 training loss: 0.9376509761038635\n",
      "Group 2\n",
      "At round 164 accuracy: 0.8054474708171206\n",
      "At round 164 training accuracy: 0.8146768893756846\n",
      "At round 164 training loss: 0.6457103236481498\n",
      "Group 3\n",
      "At round 164 accuracy: 0.7429378531073446\n",
      "At round 164 training accuracy: 0.7673469387755102\n",
      "At round 164 training loss: 0.8011647806281135\n",
      "Group 4\n",
      "At round 164 accuracy: 0.7967213114754098\n",
      "At round 164 training accuracy: 0.7659741277930223\n",
      "At round 164 training loss: 0.644236908408531\n",
      "At round 164 mean test accuracy: 0.7448024948024948 mean train accuracy: 0.75141586992266\n",
      "The groups difference are: [0.         0.8202296  0.88478071 0.6723246  0.42663512]\n",
      "Begin group  0 training\n",
      "Begin group  1 training\n"
     ]
    },
    {
     "name": "stderr",
     "output_type": "stream",
     "text": [
      "Epoch:  20%|███████████████▍                                                             | 4/20 [00:00<00:00, 37.74it/s]"
     ]
    },
    {
     "name": "stdout",
     "output_type": "stream",
     "text": [
      "Begin group  2 training\n"
     ]
    },
    {
     "name": "stderr",
     "output_type": "stream",
     "text": [
      "Epoch:   0%|                                                                                     | 0/20 [00:00<?, ?it/s]"
     ]
    },
    {
     "name": "stdout",
     "output_type": "stream",
     "text": [
      "Begin group  3 training\n"
     ]
    },
    {
     "name": "stderr",
     "output_type": "stream",
     "text": [
      "Epoch:  45%|██████████████████████████████████▋                                          | 9/20 [00:00<00:00, 85.58it/s]"
     ]
    },
    {
     "name": "stdout",
     "output_type": "stream",
     "text": [
      "Begin group  4 training\n"
     ]
    },
    {
     "name": "stderr",
     "output_type": "stream",
     "text": [
      "                                                                                                                        \r"
     ]
    },
    {
     "name": "stdout",
     "output_type": "stream",
     "text": [
      "Group 0 is empty.\n",
      "Group 1, clients ['f_00094', 'f_00092', 'f_00142', 'f_00165', 'f_00134', 'f_00125', 'f_00083', 'f_00080', 'f_00132', 'f_00113', 'f_00112']\n",
      "Group 2, clients ['f_00062', 'f_00042']\n",
      "Group 3, clients ['f_00060', 'f_00036', 'f_00130', 'f_00156', 'f_00106']\n",
      "Group 4, clients ['f_00009', 'f_00058']\n"
     ]
    },
    {
     "name": "stderr",
     "output_type": "stream",
     "text": [
      "Epoch:  50%|██████████████████████████████████████                                      | 10/20 [00:00<00:00, 96.01it/s]"
     ]
    },
    {
     "name": "stdout",
     "output_type": "stream",
     "text": [
      "Group 0\n",
      "At round 165 accuracy: 0.7696969696969697\n",
      "At round 165 training accuracy: 0.7974947807933194\n",
      "At round 165 training loss: 0.7609808767887147\n",
      "Group 1\n",
      "At round 165 accuracy: 0.5819112627986348\n",
      "At round 165 training accuracy: 0.5978084415584416\n",
      "At round 165 training loss: 1.3750198848739072\n",
      "Group 2\n",
      "At round 165 accuracy: 0.7568093385214008\n",
      "At round 165 training accuracy: 0.7693318729463308\n",
      "At round 165 training loss: 0.5435704227997987\n",
      "Group 3\n",
      "At round 165 accuracy: 0.6807909604519774\n",
      "At round 165 training accuracy: 0.6829931972789116\n",
      "At round 165 training loss: 0.894285273420162\n",
      "Group 4\n",
      "At round 165 accuracy: 0.7180327868852459\n",
      "At round 165 training accuracy: 0.6491571932575461\n",
      "At round 165 training loss: 0.7566557859659475\n",
      "At round 165 mean test accuracy: 0.6845114345114345 mean train accuracy: 0.6861945070336763\n",
      "The groups difference are: [0.         0.83823109 0.88453827 0.66492257 0.42671154]\n",
      "Begin group  1 training\n"
     ]
    },
    {
     "name": "stderr",
     "output_type": "stream",
     "text": [
      "Epoch:   5%|███▊                                                                         | 1/20 [00:00<00:03,  5.88it/s]"
     ]
    },
    {
     "name": "stdout",
     "output_type": "stream",
     "text": [
      "Begin group  2 training\n"
     ]
    },
    {
     "name": "stderr",
     "output_type": "stream",
     "text": [
      "Epoch:   0%|                                                                                     | 0/20 [00:00<?, ?it/s]"
     ]
    },
    {
     "name": "stdout",
     "output_type": "stream",
     "text": [
      "Begin group  3 training\n"
     ]
    },
    {
     "name": "stderr",
     "output_type": "stream",
     "text": [
      "                                                                                                                        \r"
     ]
    },
    {
     "name": "stdout",
     "output_type": "stream",
     "text": [
      "Begin group  4 training\n",
      "Group 0, clients ['f_00018', 'f_00098']\n",
      "Group 1, clients ['f_00181', 'f_00054', 'f_00111']\n",
      "Group 2, clients ['f_00002', 'f_00121']\n",
      "Group 3, clients ['f_00182', 'f_00176', 'f_00016', 'f_00100', 'f_00170', 'f_00130', 'f_00066', 'f_00114']\n",
      "Group 4, clients ['f_00159', 'f_00169', 'f_00087', 'f_00069', 'f_00189']\n"
     ]
    },
    {
     "name": "stderr",
     "output_type": "stream",
     "text": [
      "Epoch:   0%|                                                                                     | 0/20 [00:00<?, ?it/s]"
     ]
    },
    {
     "name": "stdout",
     "output_type": "stream",
     "text": [
      "Group 0\n",
      "At round 166 accuracy: 0.7757575757575758\n",
      "At round 166 training accuracy: 0.7988865692414753\n",
      "At round 166 training loss: 0.7374149755047856\n",
      "Group 1\n",
      "At round 166 accuracy: 0.7252559726962458\n",
      "At round 166 training accuracy: 0.7260551948051948\n",
      "At round 166 training loss: 0.8397922134571164\n",
      "Group 2\n",
      "At round 166 accuracy: 0.8210116731517509\n",
      "At round 166 training accuracy: 0.8216867469879519\n",
      "At round 166 training loss: 0.5462178256138261\n",
      "Group 3\n",
      "At round 166 accuracy: 0.5423728813559322\n",
      "At round 166 training accuracy: 0.536734693877551\n",
      "At round 166 training loss: 1.088515748940155\n",
      "Group 4\n",
      "At round 166 accuracy: 0.6852459016393443\n",
      "At round 166 training accuracy: 0.6272050176401411\n",
      "At round 166 training loss: 1.0230980789962818\n",
      "At round 166 mean test accuracy: 0.7151767151767152 mean train accuracy: 0.7097618902624688\n",
      "The groups difference are: [0.         0.78716634 0.88966475 0.64431724 0.41591046]\n",
      "Begin group  0 training\n"
     ]
    },
    {
     "name": "stderr",
     "output_type": "stream",
     "text": [
      "Epoch:   0%|                                                                                     | 0/20 [00:00<?, ?it/s]"
     ]
    },
    {
     "name": "stdout",
     "output_type": "stream",
     "text": [
      "Begin group  1 training\n"
     ]
    },
    {
     "name": "stderr",
     "output_type": "stream",
     "text": [
      "Epoch:  40%|██████████████████████████████▊                                              | 8/20 [00:00<00:00, 76.70it/s]"
     ]
    },
    {
     "name": "stdout",
     "output_type": "stream",
     "text": [
      "Begin group  2 training\n"
     ]
    },
    {
     "name": "stderr",
     "output_type": "stream",
     "text": [
      "Epoch:   0%|                                                                                     | 0/20 [00:00<?, ?it/s]"
     ]
    },
    {
     "name": "stdout",
     "output_type": "stream",
     "text": [
      "Begin group  3 training\n"
     ]
    },
    {
     "name": "stderr",
     "output_type": "stream",
     "text": [
      "Epoch:  50%|██████████████████████████████████████                                      | 10/20 [00:00<00:00, 99.88it/s]"
     ]
    },
    {
     "name": "stdout",
     "output_type": "stream",
     "text": [
      "Begin group  4 training\n"
     ]
    },
    {
     "name": "stderr",
     "output_type": "stream",
     "text": [
      "                                                                                                                        \r"
     ]
    },
    {
     "name": "stdout",
     "output_type": "stream",
     "text": [
      "Group 0, clients ['f_00198']\n",
      "Group 1, clients ['f_00022', 'f_00045', 'f_00145', 'f_00063']\n",
      "Group 2, clients ['f_00073']\n",
      "Group 3, clients ['f_00095', 'f_00033', 'f_00096', 'f_00041', 'f_00182', 'f_00130', 'f_00136']\n",
      "Group 4, clients ['f_00157', 'f_00027', 'f_00188', 'f_00159', 'f_00199', 'f_00037', 'f_00019']\n"
     ]
    },
    {
     "name": "stderr",
     "output_type": "stream",
     "text": [
      "Epoch:   0%|                                                                                     | 0/20 [00:00<?, ?it/s]"
     ]
    },
    {
     "name": "stdout",
     "output_type": "stream",
     "text": [
      "Group 0\n",
      "At round 167 accuracy: 0.7878787878787878\n",
      "At round 167 training accuracy: 0.7947112038970077\n",
      "At round 167 training loss: 0.7735842851689896\n",
      "Group 1\n",
      "At round 167 accuracy: 0.3447098976109215\n",
      "At round 167 training accuracy: 0.33867694805194803\n",
      "At round 167 training loss: 1.6758111204480293\n",
      "Group 2\n",
      "At round 167 accuracy: 0.6478599221789884\n",
      "At round 167 training accuracy: 0.6714129244249726\n",
      "At round 167 training loss: 0.8322540321851482\n",
      "Group 3\n",
      "At round 167 accuracy: 0.768361581920904\n",
      "At round 167 training accuracy: 0.7877551020408163\n",
      "At round 167 training loss: 0.7983803532460109\n",
      "Group 4\n",
      "At round 167 accuracy: 0.7508196721311475\n",
      "At round 167 training accuracy: 0.7016856134849079\n",
      "At round 167 training loss: 0.6967374181359574\n",
      "At round 167 mean test accuracy: 0.606029106029106 mean train accuracy: 0.6078801534620303\n",
      "The groups difference are: [0.         0.81739614 0.90287778 0.6613241  0.4316536 ]\n",
      "Begin group  0 training\n",
      "Begin group  1 training\n"
     ]
    },
    {
     "name": "stderr",
     "output_type": "stream",
     "text": [
      "Epoch:  25%|███████████████████▎                                                         | 5/20 [00:00<00:00, 46.88it/s]"
     ]
    },
    {
     "name": "stdout",
     "output_type": "stream",
     "text": [
      "Begin group  2 training\n"
     ]
    },
    {
     "name": "stderr",
     "output_type": "stream",
     "text": [
      "Epoch:  55%|█████████████████████████████████████████▎                                 | 11/20 [00:00<00:00, 108.53it/s]"
     ]
    },
    {
     "name": "stdout",
     "output_type": "stream",
     "text": [
      "Begin group  3 training\n"
     ]
    },
    {
     "name": "stderr",
     "output_type": "stream",
     "text": [
      "Epoch:   0%|                                                                                     | 0/20 [00:00<?, ?it/s]"
     ]
    },
    {
     "name": "stdout",
     "output_type": "stream",
     "text": [
      "Begin group  4 training\n"
     ]
    },
    {
     "name": "stderr",
     "output_type": "stream",
     "text": [
      "                                                                                                                        \r"
     ]
    },
    {
     "name": "stdout",
     "output_type": "stream",
     "text": [
      "Group 0, clients ['f_00068', 'f_00098']\n",
      "Group 1, clients ['f_00175', 'f_00104', 'f_00125', 'f_00091', 'f_00025', 'f_00112', 'f_00115']\n",
      "Group 2, clients ['f_00093', 'f_00122']\n",
      "Group 3, clients ['f_00024', 'f_00146', 'f_00003', 'f_00114', 'f_00190', 'f_00170', 'f_00100', 'f_00155']\n",
      "Group 4, clients ['f_00049']\n"
     ]
    },
    {
     "name": "stderr",
     "output_type": "stream",
     "text": [
      "Epoch:  40%|██████████████████████████████▊                                              | 8/20 [00:00<00:00, 79.73it/s]"
     ]
    },
    {
     "name": "stdout",
     "output_type": "stream",
     "text": [
      "Group 0\n",
      "At round 168 accuracy: 0.8121212121212121\n",
      "At round 168 training accuracy: 0.8016701461377871\n",
      "At round 168 training loss: 0.753880855310436\n",
      "Group 1\n",
      "At round 168 accuracy: 0.7133105802047781\n",
      "At round 168 training accuracy: 0.7199675324675324\n",
      "At round 168 training loss: 0.9098482219768422\n",
      "Group 2\n",
      "At round 168 accuracy: 0.7295719844357976\n",
      "At round 168 training accuracy: 0.7038335158817086\n",
      "At round 168 training loss: 0.8789581249309918\n",
      "Group 3\n",
      "At round 168 accuracy: 0.3983050847457627\n",
      "At round 168 training accuracy: 0.4159863945578231\n",
      "At round 168 training loss: 1.5683916137990903\n",
      "Group 4\n",
      "At round 168 accuracy: 0.7213114754098361\n",
      "At round 168 training accuracy: 0.653469227753822\n",
      "At round 168 training loss: 0.7557719092727034\n",
      "At round 168 mean test accuracy: 0.6694386694386695 mean train accuracy: 0.6578771085804762\n",
      "The groups difference are: [0.         0.81220498 0.91531625 0.68073233 0.43829412]\n",
      "Begin group  0 training\n"
     ]
    },
    {
     "name": "stderr",
     "output_type": "stream",
     "text": [
      "Epoch:  95%|███████████████████████████████████████████████████████████████████████▎   | 19/20 [00:00<00:00, 188.93it/s]"
     ]
    },
    {
     "name": "stdout",
     "output_type": "stream",
     "text": [
      "Begin group  1 training\n"
     ]
    },
    {
     "name": "stderr",
     "output_type": "stream",
     "text": [
      "Epoch:  30%|███████████████████████                                                      | 6/20 [00:00<00:00, 59.42it/s]"
     ]
    },
    {
     "name": "stdout",
     "output_type": "stream",
     "text": [
      "Begin group  2 training\n"
     ]
    },
    {
     "name": "stderr",
     "output_type": "stream",
     "text": [
      "Epoch:   0%|                                                                                     | 0/20 [00:00<?, ?it/s]"
     ]
    },
    {
     "name": "stdout",
     "output_type": "stream",
     "text": [
      "Begin group  3 training\n"
     ]
    },
    {
     "name": "stderr",
     "output_type": "stream",
     "text": [
      "                                                                                                                        \r"
     ]
    },
    {
     "name": "stdout",
     "output_type": "stream",
     "text": [
      "Begin group  4 training\n",
      "Group 0, clients ['f_00198', 'f_00098', 'f_00018']\n",
      "Group 1, clients ['f_00194', 'f_00091', 'f_00051', 'f_00015']\n",
      "Group 2, clients ['f_00073']\n",
      "Group 3, clients ['f_00041', 'f_00160', 'f_00140', 'f_00114', 'f_00016', 'f_00110', 'f_00126']\n",
      "Group 4, clients ['f_00168', 'f_00119', 'f_00177', 'f_00008', 'f_00007']\n"
     ]
    },
    {
     "name": "stderr",
     "output_type": "stream",
     "text": [
      "Epoch:   0%|                                                                                     | 0/20 [00:00<?, ?it/s]"
     ]
    },
    {
     "name": "stdout",
     "output_type": "stream",
     "text": [
      "Group 0\n",
      "At round 169 accuracy: 0.793939393939394\n",
      "At round 169 training accuracy: 0.8030619345859429\n",
      "At round 169 training loss: 0.8024935741016412\n",
      "Group 1\n",
      "At round 169 accuracy: 0.8054607508532423\n",
      "At round 169 training accuracy: 0.789163961038961\n",
      "At round 169 training loss: 0.8461977249108158\n",
      "Group 2\n",
      "At round 169 accuracy: 0.7684824902723736\n",
      "At round 169 training accuracy: 0.7730558598028477\n",
      "At round 169 training loss: 0.5511874441379785\n",
      "Group 3\n",
      "At round 169 accuracy: 0.5790960451977402\n",
      "At round 169 training accuracy: 0.572108843537415\n",
      "At round 169 training loss: 1.1314514588437923\n",
      "Group 4\n",
      "At round 169 accuracy: 0.6622950819672131\n",
      "At round 169 training accuracy: 0.6079968639749118\n",
      "At round 169 training loss: 1.215736296557997\n",
      "At round 169 mean test accuracy: 0.7302494802494802 mean train accuracy: 0.7188965349247914\n",
      "The groups difference are: [0.         0.82859718 0.93620362 0.68671036 0.45871909]\n",
      "Begin group  0 training\n"
     ]
    },
    {
     "name": "stderr",
     "output_type": "stream",
     "text": [
      "Epoch:  35%|██████████████████████████▉                                                  | 7/20 [00:00<00:00, 61.38it/s]"
     ]
    },
    {
     "name": "stdout",
     "output_type": "stream",
     "text": [
      "Begin group  1 training\n"
     ]
    },
    {
     "name": "stderr",
     "output_type": "stream",
     "text": [
      "Epoch:  20%|███████████████▍                                                             | 4/20 [00:00<00:00, 34.16it/s]"
     ]
    },
    {
     "name": "stdout",
     "output_type": "stream",
     "text": [
      "Begin group  2 training\n"
     ]
    },
    {
     "name": "stderr",
     "output_type": "stream",
     "text": [
      "Epoch:  15%|███████████▌                                                                 | 3/20 [00:00<00:00, 26.17it/s]"
     ]
    },
    {
     "name": "stdout",
     "output_type": "stream",
     "text": [
      "Begin group  3 training\n"
     ]
    },
    {
     "name": "stderr",
     "output_type": "stream",
     "text": [
      "Epoch:  65%|████████████████████████████████████████████████▊                          | 13/20 [00:00<00:00, 121.51it/s]"
     ]
    },
    {
     "name": "stdout",
     "output_type": "stream",
     "text": [
      "Begin group  4 training\n"
     ]
    },
    {
     "name": "stderr",
     "output_type": "stream",
     "text": [
      "                                                                                                                        \r"
     ]
    },
    {
     "name": "stdout",
     "output_type": "stream",
     "text": [
      "Group 0, clients ['f_00198', 'f_00118']\n",
      "Group 1, clients ['f_00173', 'f_00032', 'f_00113', 'f_00091', 'f_00005', 'f_00105', 'f_00064', 'f_00164', 'f_00035']\n",
      "Group 2, clients ['f_00123', 'f_00053']\n",
      "Group 3, clients ['f_00140', 'f_00100', 'f_00136', 'f_00156']\n",
      "Group 4, clients ['f_00137', 'f_00179', 'f_00007']\n"
     ]
    },
    {
     "name": "stderr",
     "output_type": "stream",
     "text": [
      "Epoch:   0%|                                                                                     | 0/20 [00:00<?, ?it/s]"
     ]
    },
    {
     "name": "stdout",
     "output_type": "stream",
     "text": [
      "Group 0\n",
      "At round 170 accuracy: 0.793939393939394\n",
      "At round 170 training accuracy: 0.8100208768267223\n",
      "At round 170 training loss: 0.8160266970584354\n",
      "Group 1\n",
      "At round 170 accuracy: 0.8020477815699659\n",
      "At round 170 training accuracy: 0.7930194805194806\n",
      "At round 170 training loss: 0.8338834414343265\n",
      "Group 2\n",
      "At round 170 accuracy: 0.7315175097276264\n",
      "At round 170 training accuracy: 0.7097480832420592\n",
      "At round 170 training loss: 1.0181096856265053\n",
      "Group 3\n",
      "At round 170 accuracy: 0.4661016949152542\n",
      "At round 170 training accuracy: 0.477891156462585\n",
      "At round 170 training loss: 1.6515450253829258\n",
      "Group 4\n",
      "At round 170 accuracy: 0.7967213114754098\n",
      "At round 170 training accuracy: 0.7722461779694237\n",
      "At round 170 training loss: 0.6624598981164942\n",
      "At round 170 mean test accuracy: 0.7198544698544699 mean train accuracy: 0.7117106144570976\n",
      "The groups difference are: [0.         0.84877459 0.96241465 0.72331064 0.45294124]\n",
      "Begin group  0 training\n"
     ]
    },
    {
     "name": "stderr",
     "output_type": "stream",
     "text": [
      "Epoch:   0%|                                                                                     | 0/20 [00:00<?, ?it/s]"
     ]
    },
    {
     "name": "stdout",
     "output_type": "stream",
     "text": [
      "Begin group  1 training\n"
     ]
    },
    {
     "name": "stderr",
     "output_type": "stream",
     "text": [
      "Epoch:  20%|███████████████▍                                                             | 4/20 [00:00<00:00, 39.89it/s]"
     ]
    },
    {
     "name": "stdout",
     "output_type": "stream",
     "text": [
      "Begin group  2 training\n"
     ]
    },
    {
     "name": "stderr",
     "output_type": "stream",
     "text": [
      "Epoch:   0%|                                                                                     | 0/20 [00:00<?, ?it/s]"
     ]
    },
    {
     "name": "stdout",
     "output_type": "stream",
     "text": [
      "Begin group  3 training\n"
     ]
    },
    {
     "name": "stderr",
     "output_type": "stream",
     "text": [
      "Epoch:   0%|                                                                                     | 0/20 [00:00<?, ?it/s]"
     ]
    },
    {
     "name": "stdout",
     "output_type": "stream",
     "text": [
      "Begin group  4 training\n"
     ]
    },
    {
     "name": "stderr",
     "output_type": "stream",
     "text": [
      "                                                                                                                        \r"
     ]
    },
    {
     "name": "stdout",
     "output_type": "stream",
     "text": [
      "Group 0 is empty.\n",
      "Group 1, clients ['f_00091', 'f_00083', 'f_00142', 'f_00164']\n",
      "Group 2, clients ['f_00102', 'f_00121']\n",
      "Group 3, clients ['f_00030', 'f_00151', 'f_00196', 'f_00116', 'f_00096', 'f_00190', 'f_00166', 'f_00161', 'f_00176']\n",
      "Group 4, clients ['f_00117', 'f_00127', 'f_00019', 'f_00129', 'f_00087']\n"
     ]
    },
    {
     "name": "stderr",
     "output_type": "stream",
     "text": [
      "Epoch:  30%|███████████████████████                                                      | 6/20 [00:00<00:00, 58.04it/s]"
     ]
    },
    {
     "name": "stdout",
     "output_type": "stream",
     "text": [
      "Group 0\n",
      "At round 171 accuracy: 0.8\n",
      "At round 171 training accuracy: 0.7926235212247739\n",
      "At round 171 training loss: 0.8013105565421517\n",
      "Group 1\n",
      "At round 171 accuracy: 0.6467576791808873\n",
      "At round 171 training accuracy: 0.6491477272727273\n",
      "At round 171 training loss: 1.011001373490004\n",
      "Group 2\n",
      "At round 171 accuracy: 0.7315175097276264\n",
      "At round 171 training accuracy: 0.7125958378970427\n",
      "At round 171 training loss: 1.2614620185858056\n",
      "Group 3\n",
      "At round 171 accuracy: 0.6836158192090396\n",
      "At round 171 training accuracy: 0.7200680272108844\n",
      "At round 171 training loss: 0.8601989201846577\n",
      "Group 4\n",
      "At round 171 accuracy: 0.7147540983606557\n",
      "At round 171 training accuracy: 0.6875735005880047\n",
      "At round 171 training loss: 0.7621714000559844\n",
      "At round 171 mean test accuracy: 0.7001039501039501 mean train accuracy: 0.6980086474636137\n",
      "The groups difference are: [0.         0.87739271 0.98393856 0.72375583 0.46996578]\n",
      "Begin group  1 training\n"
     ]
    },
    {
     "name": "stderr",
     "output_type": "stream",
     "text": [
      "Epoch:  25%|███████████████████▎                                                         | 5/20 [00:00<00:00, 49.63it/s]"
     ]
    },
    {
     "name": "stdout",
     "output_type": "stream",
     "text": [
      "Begin group  2 training\n"
     ]
    },
    {
     "name": "stderr",
     "output_type": "stream",
     "text": [
      "Epoch:   0%|                                                                                     | 0/20 [00:00<?, ?it/s]"
     ]
    },
    {
     "name": "stdout",
     "output_type": "stream",
     "text": [
      "Begin group  3 training\n"
     ]
    },
    {
     "name": "stderr",
     "output_type": "stream",
     "text": [
      "Epoch:   0%|                                                                                     | 0/20 [00:00<?, ?it/s]"
     ]
    },
    {
     "name": "stdout",
     "output_type": "stream",
     "text": [
      "Begin group  4 training\n"
     ]
    },
    {
     "name": "stderr",
     "output_type": "stream",
     "text": [
      "                                                                                                                        \r"
     ]
    },
    {
     "name": "stdout",
     "output_type": "stream",
     "text": [
      "Group 0, clients ['f_00098']\n",
      "Group 1, clients ['f_00173', 'f_00044', 'f_00065', 'f_00134', 'f_00032', 'f_00113']\n",
      "Group 2, clients ['f_00102']\n",
      "Group 3, clients ['f_00096', 'f_00133', 'f_00146', 'f_00043', 'f_00046', 'f_00031', 'f_00024', 'f_00150']\n",
      "Group 4, clients ['f_00069', 'f_00049', 'f_00129', 'f_00139']\n"
     ]
    },
    {
     "name": "stderr",
     "output_type": "stream",
     "text": [
      "Epoch:  20%|███████████████▍                                                             | 4/20 [00:00<00:00, 33.03it/s]"
     ]
    },
    {
     "name": "stdout",
     "output_type": "stream",
     "text": [
      "Group 0\n",
      "At round 172 accuracy: 0.8\n",
      "At round 172 training accuracy: 0.7926235212247739\n",
      "At round 172 training loss: 0.7748833846821914\n",
      "Group 1\n",
      "At round 172 accuracy: 0.674061433447099\n",
      "At round 172 training accuracy: 0.6751217532467533\n",
      "At round 172 training loss: 0.9885387314822186\n",
      "Group 2\n",
      "At round 172 accuracy: 0.7568093385214008\n",
      "At round 172 training accuracy: 0.7677984665936474\n",
      "At round 172 training loss: 0.566808692472788\n",
      "Group 3\n",
      "At round 172 accuracy: 0.692090395480226\n",
      "At round 172 training accuracy: 0.7108843537414966\n",
      "At round 172 training loss: 0.8891565911117054\n",
      "Group 4\n",
      "At round 172 accuracy: 0.6229508196721312\n",
      "At round 172 training accuracy: 0.639749117992944\n",
      "At round 172 training loss: 0.899709030921578\n",
      "At round 172 mean test accuracy: 0.7021829521829522 mean train accuracy: 0.7120760002435905\n",
      "The groups difference are: [0.         0.86712738 0.9446873  0.69998399 0.46084838]\n",
      "Begin group  0 training\n"
     ]
    },
    {
     "name": "stderr",
     "output_type": "stream",
     "text": [
      "Epoch:   0%|                                                                                     | 0/20 [00:00<?, ?it/s]"
     ]
    },
    {
     "name": "stdout",
     "output_type": "stream",
     "text": [
      "Begin group  1 training\n"
     ]
    },
    {
     "name": "stderr",
     "output_type": "stream",
     "text": [
      "Epoch:  30%|███████████████████████                                                      | 6/20 [00:00<00:00, 54.56it/s]"
     ]
    },
    {
     "name": "stdout",
     "output_type": "stream",
     "text": [
      "Begin group  2 training\n"
     ]
    },
    {
     "name": "stderr",
     "output_type": "stream",
     "text": [
      "Epoch:   0%|                                                                                     | 0/20 [00:00<?, ?it/s]"
     ]
    },
    {
     "name": "stdout",
     "output_type": "stream",
     "text": [
      "Begin group  3 training\n"
     ]
    },
    {
     "name": "stderr",
     "output_type": "stream",
     "text": [
      "Epoch:   0%|                                                                                     | 0/20 [00:00<?, ?it/s]"
     ]
    },
    {
     "name": "stdout",
     "output_type": "stream",
     "text": [
      "Begin group  4 training\n"
     ]
    },
    {
     "name": "stderr",
     "output_type": "stream",
     "text": [
      "                                                                                                                        \r"
     ]
    },
    {
     "name": "stdout",
     "output_type": "stream",
     "text": [
      "Group 0, clients ['f_00198']\n",
      "Group 1, clients ['f_00174', 'f_00183', 'f_00101', 'f_00111', 'f_00070', 'f_00044', 'f_00125', 'f_00012', 'f_00063']\n",
      "Group 2 is empty.\n",
      "Group 3, clients ['f_00006', 'f_00110', 'f_00001', 'f_00056', 'f_00043', 'f_00156', 'f_00050', 'f_00024']\n",
      "Group 4, clients ['f_00008', 'f_00009']\n"
     ]
    },
    {
     "name": "stderr",
     "output_type": "stream",
     "text": [
      "Epoch:   0%|                                                                                     | 0/20 [00:00<?, ?it/s]"
     ]
    },
    {
     "name": "stdout",
     "output_type": "stream",
     "text": [
      "Group 0\n",
      "At round 173 accuracy: 0.793939393939394\n",
      "At round 173 training accuracy: 0.7738343771746694\n",
      "At round 173 training loss: 0.8037471286978419\n",
      "Group 1\n",
      "At round 173 accuracy: 0.6023890784982935\n",
      "At round 173 training accuracy: 0.6219561688311688\n",
      "At round 173 training loss: 1.146759804604309\n",
      "Group 2\n",
      "At round 173 accuracy: 0.8268482490272373\n",
      "At round 173 training accuracy: 0.823658269441402\n",
      "At round 173 training loss: 0.5450955538734027\n",
      "Group 3\n",
      "At round 173 accuracy: 0.5056497175141242\n",
      "At round 173 training accuracy: 0.5149659863945578\n",
      "At round 173 training loss: 1.1204667067548044\n",
      "Group 4\n",
      "At round 173 accuracy: 0.6721311475409836\n",
      "At round 173 training accuracy: 0.6260290082320659\n",
      "At round 173 training loss: 1.2284438306095553\n",
      "At round 173 mean test accuracy: 0.672037422037422 mean train accuracy: 0.6727970281956032\n",
      "The groups difference are: [0.         0.88713323 0.9783138  0.71887888 0.49366401]\n",
      "Begin group  0 training\n",
      "Begin group  1 training\n"
     ]
    },
    {
     "name": "stderr",
     "output_type": "stream",
     "text": [
      "Epoch:   0%|                                                                                     | 0/20 [00:00<?, ?it/s]"
     ]
    },
    {
     "name": "stdout",
     "output_type": "stream",
     "text": [
      "Begin group  3 training\n"
     ]
    },
    {
     "name": "stderr",
     "output_type": "stream",
     "text": [
      "                                                                                                                        \r"
     ]
    },
    {
     "name": "stdout",
     "output_type": "stream",
     "text": [
      "Begin group  4 training\n",
      "Group 0 is empty.\n",
      "Group 1, clients ['f_00021', 'f_00035', 'f_00011', 'f_00103', 'f_00070', 'f_00101', 'f_00112', 'f_00134']\n",
      "Group 2, clients ['f_00123', 'f_00042', 'f_00053', 'f_00102']\n",
      "Group 3, clients ['f_00180', 'f_00096', 'f_00030', 'f_00120']\n",
      "Group 4, clients ['f_00129', 'f_00079', 'f_00059', 'f_00147']\n"
     ]
    },
    {
     "name": "stderr",
     "output_type": "stream",
     "text": [
      "Epoch:  45%|██████████████████████████████████▋                                          | 9/20 [00:00<00:00, 85.57it/s]"
     ]
    },
    {
     "name": "stdout",
     "output_type": "stream",
     "text": [
      "Group 0\n",
      "At round 174 accuracy: 0.793939393939394\n",
      "At round 174 training accuracy: 0.7870563674321504\n",
      "At round 174 training loss: 0.7914714018296433\n",
      "Group 1\n",
      "At round 174 accuracy: 0.7406143344709898\n",
      "At round 174 training accuracy: 0.7295048701298701\n",
      "At round 174 training loss: 0.8945788036753701\n",
      "Group 2\n",
      "At round 174 accuracy: 0.8268482490272373\n",
      "At round 174 training accuracy: 0.8240963855421687\n",
      "At round 174 training loss: 0.5326407852465326\n",
      "Group 3\n",
      "At round 174 accuracy: 0.5819209039548022\n",
      "At round 174 training accuracy: 0.5748299319727891\n",
      "At round 174 training loss: 1.0062364624116291\n",
      "Group 4\n",
      "At round 174 accuracy: 0.6721311475409836\n",
      "At round 174 training accuracy: 0.6232849862798903\n",
      "At round 174 training loss: 1.268382652580551\n",
      "At round 174 mean test accuracy: 0.7281704781704782 mean train accuracy: 0.7166433225747518\n",
      "The groups difference are: [0.         0.83823227 0.9409268  0.70366771 0.47685985]\n",
      "Begin group  1 training\n"
     ]
    },
    {
     "name": "stderr",
     "output_type": "stream",
     "text": [
      "Epoch:  20%|███████████████▍                                                             | 4/20 [00:00<00:00, 39.01it/s]"
     ]
    },
    {
     "name": "stdout",
     "output_type": "stream",
     "text": [
      "Begin group  2 training\n"
     ]
    },
    {
     "name": "stderr",
     "output_type": "stream",
     "text": [
      "Epoch:  25%|███████████████████▎                                                         | 5/20 [00:00<00:00, 43.27it/s]"
     ]
    },
    {
     "name": "stdout",
     "output_type": "stream",
     "text": [
      "Begin group  3 training\n"
     ]
    },
    {
     "name": "stderr",
     "output_type": "stream",
     "text": [
      "Epoch:   0%|                                                                                     | 0/20 [00:00<?, ?it/s]"
     ]
    },
    {
     "name": "stdout",
     "output_type": "stream",
     "text": [
      "Begin group  4 training\n"
     ]
    },
    {
     "name": "stderr",
     "output_type": "stream",
     "text": [
      "                                                                                                                        \r"
     ]
    },
    {
     "name": "stdout",
     "output_type": "stream",
     "text": [
      "Group 0, clients ['f_00167', 'f_00178', 'f_00198']\n",
      "Group 1, clients ['f_00044', 'f_00045', 'f_00070', 'f_00115']\n",
      "Group 2, clients ['f_00002', 'f_00152']\n",
      "Group 3, clients ['f_00126', 'f_00170', 'f_00186', 'f_00016', 'f_00030', 'f_00182']\n",
      "Group 4, clients ['f_00087', 'f_00139', 'f_00017', 'f_00029', 'f_00127']\n"
     ]
    },
    {
     "name": "stderr",
     "output_type": "stream",
     "text": [
      "Epoch:  55%|█████████████████████████████████████████▎                                 | 11/20 [00:00<00:00, 106.58it/s]"
     ]
    },
    {
     "name": "stdout",
     "output_type": "stream",
     "text": [
      "Group 0\n",
      "At round 175 accuracy: 0.793939393939394\n",
      "At round 175 training accuracy: 0.7919276270006959\n",
      "At round 175 training loss: 0.7739763366902298\n",
      "Group 1\n",
      "At round 175 accuracy: 0.5989761092150171\n",
      "At round 175 training accuracy: 0.593952922077922\n",
      "At round 175 training loss: 1.1066576039733051\n",
      "Group 2\n",
      "At round 175 accuracy: 0.7490272373540856\n",
      "At round 175 training accuracy: 0.7491785323110625\n",
      "At round 175 training loss: 0.6315343874373024\n",
      "Group 3\n",
      "At round 175 accuracy: 0.5847457627118644\n",
      "At round 175 training accuracy: 0.60578231292517\n",
      "At round 175 training loss: 1.045227615352796\n",
      "Group 4\n",
      "At round 175 accuracy: 0.6721311475409836\n",
      "At round 175 training accuracy: 0.6209329674637397\n",
      "At round 175 training loss: 1.5090339221892661\n",
      "At round 175 mean test accuracy: 0.6647609147609148 mean train accuracy: 0.6607392972413373\n",
      "The groups difference are: [0.         0.80489998 0.92894662 0.68951846 0.48351914]\n",
      "Begin group  0 training\n"
     ]
    },
    {
     "name": "stderr",
     "output_type": "stream",
     "text": [
      "Epoch:   0%|                                                                                     | 0/20 [00:00<?, ?it/s]"
     ]
    },
    {
     "name": "stdout",
     "output_type": "stream",
     "text": [
      "Begin group  1 training\n"
     ]
    },
    {
     "name": "stderr",
     "output_type": "stream",
     "text": [
      "Epoch:  30%|███████████████████████                                                      | 6/20 [00:00<00:00, 57.45it/s]"
     ]
    },
    {
     "name": "stdout",
     "output_type": "stream",
     "text": [
      "Begin group  2 training\n"
     ]
    },
    {
     "name": "stderr",
     "output_type": "stream",
     "text": [
      "Epoch:   0%|                                                                                     | 0/20 [00:00<?, ?it/s]"
     ]
    },
    {
     "name": "stdout",
     "output_type": "stream",
     "text": [
      "Begin group  3 training\n"
     ]
    },
    {
     "name": "stderr",
     "output_type": "stream",
     "text": [
      "Epoch:  15%|███████████▌                                                                 | 3/20 [00:00<00:00, 26.99it/s]"
     ]
    },
    {
     "name": "stdout",
     "output_type": "stream",
     "text": [
      "Begin group  4 training\n"
     ]
    },
    {
     "name": "stderr",
     "output_type": "stream",
     "text": [
      "                                                                                                                        \r"
     ]
    },
    {
     "name": "stdout",
     "output_type": "stream",
     "text": [
      "Group 0, clients ['f_00118', 'f_00198', 'f_00028']\n",
      "Group 1, clients ['f_00171', 'f_00185', 'f_00162', 'f_00132', 'f_00071', 'f_00032', 'f_00094']\n",
      "Group 2, clients ['f_00072']\n",
      "Group 3, clients ['f_00056', 'f_00180', 'f_00160']\n",
      "Group 4, clients ['f_00197', 'f_00188', 'f_00029', 'f_00039', 'f_00087', 'f_00097']\n"
     ]
    },
    {
     "name": "stderr",
     "output_type": "stream",
     "text": [
      "Epoch:  20%|███████████████▍                                                             | 4/20 [00:00<00:00, 31.31it/s]"
     ]
    },
    {
     "name": "stdout",
     "output_type": "stream",
     "text": [
      "Group 0\n",
      "At round 176 accuracy: 0.8242424242424242\n",
      "At round 176 training accuracy: 0.7759220598469033\n",
      "At round 176 training loss: 0.5600442494173057\n",
      "Group 1\n",
      "At round 176 accuracy: 0.46757679180887374\n",
      "At round 176 training accuracy: 0.4721996753246753\n",
      "At round 176 training loss: 1.3321000618932697\n",
      "Group 2\n",
      "At round 176 accuracy: 0.830739299610895\n",
      "At round 176 training accuracy: 0.8297918948521358\n",
      "At round 176 training loss: 0.5113699556506869\n",
      "Group 3\n",
      "At round 176 accuracy: 0.7768361581920904\n",
      "At round 176 training accuracy: 0.7996598639455782\n",
      "At round 176 training loss: 0.7807366485802495\n",
      "Group 4\n",
      "At round 176 accuracy: 0.6918032786885245\n",
      "At round 176 training accuracy: 0.6652293218345747\n",
      "At round 176 training loss: 0.8017832766743745\n",
      "At round 176 mean test accuracy: 0.6876299376299376 mean train accuracy: 0.6868034833444979\n",
      "The groups difference are: [0.         0.7798643  0.92233222 0.65159814 0.42520295]\n",
      "Begin group  0 training\n"
     ]
    },
    {
     "name": "stderr",
     "output_type": "stream",
     "text": [
      "Epoch:   0%|                                                                                     | 0/20 [00:00<?, ?it/s]"
     ]
    },
    {
     "name": "stdout",
     "output_type": "stream",
     "text": [
      "Begin group  1 training\n"
     ]
    },
    {
     "name": "stderr",
     "output_type": "stream",
     "text": [
      "Epoch:   0%|                                                                                     | 0/20 [00:00<?, ?it/s]"
     ]
    },
    {
     "name": "stdout",
     "output_type": "stream",
     "text": [
      "Begin group  2 training\n",
      "Begin group  3 training\n"
     ]
    },
    {
     "name": "stderr",
     "output_type": "stream",
     "text": [
      "Epoch:   0%|                                                                                     | 0/20 [00:00<?, ?it/s]"
     ]
    },
    {
     "name": "stdout",
     "output_type": "stream",
     "text": [
      "Begin group  4 training\n"
     ]
    },
    {
     "name": "stderr",
     "output_type": "stream",
     "text": [
      "                                                                                                                        \r"
     ]
    },
    {
     "name": "stdout",
     "output_type": "stream",
     "text": [
      "Group 0, clients ['f_00018']\n",
      "Group 1, clients ['f_00165', 'f_00055', 'f_00105', 'f_00194', 'f_00154', 'f_00111', 'f_00144', 'f_00173', 'f_00175', 'f_00014']\n",
      "Group 2 is empty.\n",
      "Group 3, clients ['f_00003', 'f_00033', 'f_00100', 'f_00126']\n",
      "Group 4, clients ['f_00037', 'f_00089', 'f_00017', 'f_00069', 'f_00189']\n"
     ]
    },
    {
     "name": "stderr",
     "output_type": "stream",
     "text": [
      "Epoch:   0%|                                                                                     | 0/20 [00:00<?, ?it/s]"
     ]
    },
    {
     "name": "stdout",
     "output_type": "stream",
     "text": [
      "Group 0\n",
      "At round 177 accuracy: 0.7636363636363637\n",
      "At round 177 training accuracy: 0.8002783576896312\n",
      "At round 177 training loss: 0.6900227442124526\n",
      "Group 1\n",
      "At round 177 accuracy: 0.7593856655290102\n",
      "At round 177 training accuracy: 0.7534496753246753\n",
      "At round 177 training loss: 0.8411571797007671\n",
      "Group 2\n",
      "At round 177 accuracy: 0.8171206225680934\n",
      "At round 177 training accuracy: 0.8153340635268346\n",
      "At round 177 training loss: 0.57429457665926\n",
      "Group 3\n",
      "At round 177 accuracy: 0.480225988700565\n",
      "At round 177 training accuracy: 0.47687074829931975\n",
      "At round 177 training loss: 1.7300339437919814\n",
      "Group 4\n",
      "At round 177 accuracy: 0.6360655737704918\n",
      "At round 177 training accuracy: 0.6471971775774206\n",
      "At round 177 training loss: 0.9586640907497511\n",
      "At round 177 mean test accuracy: 0.7042619542619543 mean train accuracy: 0.7087266305340723\n",
      "The groups difference are: [0.         0.81877991 0.93792553 0.71613904 0.45451548]\n",
      "Begin group  0 training\n",
      "Begin group  1 training\n"
     ]
    },
    {
     "name": "stderr",
     "output_type": "stream",
     "text": [
      "Epoch:  30%|███████████████████████                                                      | 6/20 [00:00<00:00, 58.20it/s]"
     ]
    },
    {
     "name": "stdout",
     "output_type": "stream",
     "text": [
      "Begin group  3 training\n"
     ]
    },
    {
     "name": "stderr",
     "output_type": "stream",
     "text": [
      "Epoch:  35%|██████████████████████████▉                                                  | 7/20 [00:00<00:00, 62.78it/s]"
     ]
    },
    {
     "name": "stdout",
     "output_type": "stream",
     "text": [
      "Begin group  4 training\n"
     ]
    },
    {
     "name": "stderr",
     "output_type": "stream",
     "text": [
      "                                                                                                                        \r"
     ]
    },
    {
     "name": "stdout",
     "output_type": "stream",
     "text": [
      "Group 0, clients ['f_00138', 'f_00038']\n",
      "Group 1, clients ['f_00022', 'f_00115', 'f_00195', 'f_00071', 'f_00103', 'f_00045']\n",
      "Group 2, clients ['f_00053', 'f_00122']\n",
      "Group 3, clients ['f_00166', 'f_00001', 'f_00126']\n",
      "Group 4, clients ['f_00069', 'f_00188', 'f_00087', 'f_00137', 'f_00099', 'f_00157', 'f_00097']\n"
     ]
    },
    {
     "name": "stderr",
     "output_type": "stream",
     "text": [
      "Epoch:   0%|                                                                                     | 0/20 [00:00<?, ?it/s]"
     ]
    },
    {
     "name": "stdout",
     "output_type": "stream",
     "text": [
      "Group 0\n",
      "At round 178 accuracy: 0.793939393939394\n",
      "At round 178 training accuracy: 0.7947112038970077\n",
      "At round 178 training loss: 0.6656371249079124\n",
      "Group 1\n",
      "At round 178 accuracy: 0.621160409556314\n",
      "At round 178 training accuracy: 0.6256087662337663\n",
      "At round 178 training loss: 1.1072456067482421\n",
      "Group 2\n",
      "At round 178 accuracy: 0.8210116731517509\n",
      "At round 178 training accuracy: 0.8203723986856517\n",
      "At round 178 training loss: 0.5602799325626494\n",
      "Group 3\n",
      "At round 178 accuracy: 0.480225988700565\n",
      "At round 178 training accuracy: 0.4782312925170068\n",
      "At round 178 training loss: 1.5740288918622496\n",
      "Group 4\n",
      "At round 178 accuracy: 0.7672131147540984\n",
      "At round 178 training accuracy: 0.7083496667973344\n",
      "At round 178 training loss: 0.6745716851804827\n",
      "At round 178 mean test accuracy: 0.6865904365904366 mean train accuracy: 0.6810182083916936\n",
      "The groups difference are: [0.         0.83675435 0.90202027 0.70850632 0.45562005]\n",
      "Begin group  0 training\n"
     ]
    },
    {
     "name": "stderr",
     "output_type": "stream",
     "text": [
      "Epoch:   0%|                                                                                     | 0/20 [00:00<?, ?it/s]"
     ]
    },
    {
     "name": "stdout",
     "output_type": "stream",
     "text": [
      "Begin group  1 training\n"
     ]
    },
    {
     "name": "stderr",
     "output_type": "stream",
     "text": [
      "Epoch:  15%|███████████▌                                                                 | 3/20 [00:00<00:00, 27.95it/s]"
     ]
    },
    {
     "name": "stdout",
     "output_type": "stream",
     "text": [
      "Begin group  2 training\n"
     ]
    },
    {
     "name": "stderr",
     "output_type": "stream",
     "text": [
      "Epoch:   0%|                                                                                     | 0/20 [00:00<?, ?it/s]"
     ]
    },
    {
     "name": "stdout",
     "output_type": "stream",
     "text": [
      "Begin group  3 training\n",
      "Begin group  4 training\n"
     ]
    },
    {
     "name": "stderr",
     "output_type": "stream",
     "text": [
      "                                                                                                                        \r"
     ]
    },
    {
     "name": "stdout",
     "output_type": "stream",
     "text": [
      "Group 0, clients ['f_00067', 'f_00098']\n",
      "Group 1, clients ['f_00065', 'f_00034', 'f_00134', 'f_00154', 'f_00185', 'f_00141', 'f_00192', 'f_00064', 'f_00083']\n",
      "Group 2, clients ['f_00122']\n",
      "Group 3, clients ['f_00031', 'f_00150', 'f_00024']\n",
      "Group 4, clients ['f_00187', 'f_00008', 'f_00109', 'f_00007', 'f_00177']\n"
     ]
    },
    {
     "name": "stderr",
     "output_type": "stream",
     "text": [
      "Epoch:  15%|███████████▌                                                                 | 3/20 [00:00<00:00, 23.50it/s]"
     ]
    },
    {
     "name": "stdout",
     "output_type": "stream",
     "text": [
      "Group 0\n",
      "At round 179 accuracy: 0.8\n",
      "At round 179 training accuracy: 0.7849686847599165\n",
      "At round 179 training loss: 0.6748043948689848\n",
      "Group 1\n",
      "At round 179 accuracy: 0.7559726962457338\n",
      "At round 179 training accuracy: 0.7660308441558441\n",
      "At round 179 training loss: 0.8597629074152414\n",
      "Group 2\n",
      "At round 179 accuracy: 0.7645914396887159\n",
      "At round 179 training accuracy: 0.7691128148959474\n",
      "At round 179 training loss: 0.5596563906228295\n",
      "Group 3\n",
      "At round 179 accuracy: 0.5225988700564972\n",
      "At round 179 training accuracy: 0.5224489795918368\n",
      "At round 179 training loss: 1.1280584508869924\n",
      "Group 4\n",
      "At round 179 accuracy: 0.6885245901639344\n",
      "At round 179 training accuracy: 0.6644453155625245\n",
      "At round 179 training loss: 0.8342808898478478\n",
      "At round 179 mean test accuracy: 0.7084199584199584 mean train accuracy: 0.7091529139516473\n",
      "The groups difference are: [0.         0.81967488 0.90744192 0.68583223 0.46287281]\n",
      "Begin group  0 training\n"
     ]
    },
    {
     "name": "stderr",
     "output_type": "stream",
     "text": [
      "Epoch:   0%|                                                                                     | 0/20 [00:00<?, ?it/s]"
     ]
    },
    {
     "name": "stdout",
     "output_type": "stream",
     "text": [
      "Begin group  1 training\n"
     ]
    },
    {
     "name": "stderr",
     "output_type": "stream",
     "text": [
      "Epoch:  20%|███████████████▍                                                             | 4/20 [00:00<00:00, 39.55it/s]"
     ]
    },
    {
     "name": "stdout",
     "output_type": "stream",
     "text": [
      "Begin group  2 training\n"
     ]
    },
    {
     "name": "stderr",
     "output_type": "stream",
     "text": [
      "Epoch:   0%|                                                                                     | 0/20 [00:00<?, ?it/s]"
     ]
    },
    {
     "name": "stdout",
     "output_type": "stream",
     "text": [
      "Begin group  3 training\n",
      "Begin group  4 training\n"
     ]
    },
    {
     "name": "stderr",
     "output_type": "stream",
     "text": [
      "                                                                                                                        \r"
     ]
    },
    {
     "name": "stdout",
     "output_type": "stream",
     "text": [
      "Group 0 is empty.\n",
      "Group 1, clients ['f_00132', 'f_00141', 'f_00103', 'f_00195', 'f_00165', 'f_00015', 'f_00014', 'f_00173']\n",
      "Group 2, clients ['f_00102', 'f_00072']\n",
      "Group 3, clients ['f_00001', 'f_00041', 'f_00106', 'f_00061', 'f_00161', 'f_00020', 'f_00116']\n",
      "Group 4, clients ['f_00057', 'f_00187', 'f_00017']\n"
     ]
    },
    {
     "name": "stderr",
     "output_type": "stream",
     "text": [
      "Epoch:   0%|                                                                                     | 0/20 [00:00<?, ?it/s]"
     ]
    },
    {
     "name": "stdout",
     "output_type": "stream",
     "text": [
      "Group 0\n",
      "At round 180 accuracy: 0.806060606060606\n",
      "At round 180 training accuracy: 0.7877522616562282\n",
      "At round 180 training loss: 0.5563682648110241\n",
      "Group 1\n",
      "At round 180 accuracy: 0.6177474402730375\n",
      "At round 180 training accuracy: 0.6331168831168831\n",
      "At round 180 training loss: 1.0996229618594244\n",
      "Group 2\n",
      "At round 180 accuracy: 0.830739299610895\n",
      "At round 180 training accuracy: 0.8311062431544359\n",
      "At round 180 training loss: 0.5301597757642397\n",
      "Group 3\n",
      "At round 180 accuracy: 0.5480225988700564\n",
      "At round 180 training accuracy: 0.5772108843537415\n",
      "At round 180 training loss: 1.070528100005218\n",
      "Group 4\n",
      "At round 180 accuracy: 0.5901639344262295\n",
      "At round 180 training accuracy: 0.6056448451587613\n",
      "At round 180 training loss: 1.1154942199418425\n",
      "At round 180 mean test accuracy: 0.6735966735966736 mean train accuracy: 0.6874124596553194\n",
      "The groups difference are: [0.         0.82744484 0.9289192  0.69421708 0.40538966]\n",
      "Begin group  1 training\n"
     ]
    },
    {
     "name": "stderr",
     "output_type": "stream",
     "text": [
      "Epoch:  25%|███████████████████▎                                                         | 5/20 [00:00<00:00, 47.46it/s]"
     ]
    },
    {
     "name": "stdout",
     "output_type": "stream",
     "text": [
      "Begin group  2 training\n"
     ]
    },
    {
     "name": "stderr",
     "output_type": "stream",
     "text": [
      "Epoch:   0%|                                                                                     | 0/20 [00:00<?, ?it/s]"
     ]
    },
    {
     "name": "stdout",
     "output_type": "stream",
     "text": [
      "Begin group  3 training\n"
     ]
    },
    {
     "name": "stderr",
     "output_type": "stream",
     "text": [
      "Epoch:   0%|                                                                                     | 0/20 [00:00<?, ?it/s]"
     ]
    },
    {
     "name": "stdout",
     "output_type": "stream",
     "text": [
      "Begin group  4 training\n"
     ]
    },
    {
     "name": "stderr",
     "output_type": "stream",
     "text": [
      "                                                                                                                        \r"
     ]
    },
    {
     "name": "stdout",
     "output_type": "stream",
     "text": [
      "Group 0 is empty.\n",
      "Group 1, clients ['f_00064', 'f_00195', 'f_00013', 'f_00142', 'f_00084', 'f_00083', 'f_00104', 'f_00154', 'f_00004']\n",
      "Group 2, clients ['f_00073', 'f_00052', 'f_00002']\n",
      "Group 3, clients ['f_00114', 'f_00024', 'f_00176', 'f_00116', 'f_00166', 'f_00066']\n",
      "Group 4, clients ['f_00137', 'f_00189']\n"
     ]
    },
    {
     "name": "stderr",
     "output_type": "stream",
     "text": [
      "Epoch:   0%|                                                                                     | 0/20 [00:00<?, ?it/s]"
     ]
    },
    {
     "name": "stdout",
     "output_type": "stream",
     "text": [
      "Group 0\n",
      "At round 181 accuracy: 0.8181818181818182\n",
      "At round 181 training accuracy: 0.7933194154488518\n",
      "At round 181 training loss: 0.5509581454901871\n",
      "Group 1\n",
      "At round 181 accuracy: 0.6621160409556314\n",
      "At round 181 training accuracy: 0.6552353896103896\n",
      "At round 181 training loss: 1.0689514231227049\n",
      "Group 2\n",
      "At round 181 accuracy: 0.8210116731517509\n",
      "At round 181 training accuracy: 0.8203723986856517\n",
      "At round 181 training loss: 0.5934061385519794\n",
      "Group 3\n",
      "At round 181 accuracy: 0.5254237288135594\n",
      "At round 181 training accuracy: 0.5238095238095238\n",
      "At round 181 training loss: 1.1350239352304108\n",
      "Group 4\n",
      "At round 181 accuracy: 0.5934426229508196\n",
      "At round 181 training accuracy: 0.6001568012544101\n",
      "At round 181 training loss: 1.2998981227925224\n",
      "At round 181 mean test accuracy: 0.681912681912682 mean train accuracy: 0.6811400036538579\n",
      "The groups difference are: [0.         0.80346683 0.91676061 0.6685729  0.3943314 ]\n",
      "Begin group  1 training\n"
     ]
    },
    {
     "name": "stderr",
     "output_type": "stream",
     "text": [
      "Epoch:  20%|███████████████▍                                                             | 4/20 [00:00<00:00, 34.22it/s]"
     ]
    },
    {
     "name": "stdout",
     "output_type": "stream",
     "text": [
      "Begin group  2 training\n"
     ]
    },
    {
     "name": "stderr",
     "output_type": "stream",
     "text": [
      "Epoch:   0%|                                                                                     | 0/20 [00:00<?, ?it/s]"
     ]
    },
    {
     "name": "stdout",
     "output_type": "stream",
     "text": [
      "Begin group  3 training\n"
     ]
    },
    {
     "name": "stderr",
     "output_type": "stream",
     "text": [
      "Epoch:   0%|                                                                                     | 0/20 [00:00<?, ?it/s]"
     ]
    },
    {
     "name": "stdout",
     "output_type": "stream",
     "text": [
      "Begin group  4 training\n"
     ]
    },
    {
     "name": "stderr",
     "output_type": "stream",
     "text": [
      "                                                                                                                        \r"
     ]
    },
    {
     "name": "stdout",
     "output_type": "stream",
     "text": [
      "Group 0, clients ['f_00048', 'f_00138']\n",
      "Group 1, clients ['f_00045', 'f_00164', 'f_00070', 'f_00104', 'f_00134', 'f_00194', 'f_00011', 'f_00192', 'f_00171', 'f_00181']\n",
      "Group 2 is empty.\n",
      "Group 3, clients ['f_00041', 'f_00176', 'f_00146', 'f_00155', 'f_00120', 'f_00166']\n",
      "Group 4, clients ['f_00149', 'f_00159']\n"
     ]
    },
    {
     "name": "stderr",
     "output_type": "stream",
     "text": [
      "Epoch:  95%|███████████████████████████████████████████████████████████████████████▎   | 19/20 [00:00<00:00, 188.84it/s]"
     ]
    },
    {
     "name": "stdout",
     "output_type": "stream",
     "text": [
      "Group 0\n",
      "At round 182 accuracy: 0.8181818181818182\n",
      "At round 182 training accuracy: 0.7967988865692415\n",
      "At round 182 training loss: 0.5475574700095708\n",
      "Group 1\n",
      "At round 182 accuracy: 0.5836177474402731\n",
      "At round 182 training accuracy: 0.5986201298701299\n",
      "At round 182 training loss: 1.2924998629771705\n",
      "Group 2\n",
      "At round 182 accuracy: 0.8073929961089494\n",
      "At round 182 training accuracy: 0.8050383351588171\n",
      "At round 182 training loss: 0.5170240164325376\n",
      "Group 3\n",
      "At round 182 accuracy: 0.3898305084745763\n",
      "At round 182 training accuracy: 0.4129251700680272\n",
      "At round 182 training loss: 1.678886843614635\n",
      "Group 4\n",
      "At round 182 accuracy: 0.760655737704918\n",
      "At round 182 training accuracy: 0.7071736573892591\n",
      "At round 182 training loss: 0.681403712927711\n",
      "At round 182 mean test accuracy: 0.6559251559251559 mean train accuracy: 0.6569636441142439\n",
      "The groups difference are: [0.         0.79762913 0.89921578 0.62284003 0.40506793]\n",
      "Begin group  0 training\n"
     ]
    },
    {
     "name": "stderr",
     "output_type": "stream",
     "text": [
      "Epoch:   0%|                                                                                     | 0/20 [00:00<?, ?it/s]"
     ]
    },
    {
     "name": "stdout",
     "output_type": "stream",
     "text": [
      "Begin group  1 training\n"
     ]
    },
    {
     "name": "stderr",
     "output_type": "stream",
     "text": [
      "Epoch:   0%|                                                                                     | 0/20 [00:00<?, ?it/s]"
     ]
    },
    {
     "name": "stdout",
     "output_type": "stream",
     "text": [
      "Begin group  3 training\n"
     ]
    },
    {
     "name": "stderr",
     "output_type": "stream",
     "text": [
      "Epoch:   0%|                                                                                     | 0/20 [00:00<?, ?it/s]"
     ]
    },
    {
     "name": "stdout",
     "output_type": "stream",
     "text": [
      "Begin group  4 training\n"
     ]
    },
    {
     "name": "stderr",
     "output_type": "stream",
     "text": [
      "                                                                                                                        \r"
     ]
    },
    {
     "name": "stdout",
     "output_type": "stream",
     "text": [
      "Group 0, clients ['f_00158', 'f_00198', 'f_00108']\n",
      "Group 1, clients ['f_00154', 'f_00055', 'f_00124']\n",
      "Group 2 is empty.\n",
      "Group 3, clients ['f_00100', 'f_00000', 'f_00076', 'f_00036', 'f_00126', 'f_00130', 'f_00020', 'f_00170']\n",
      "Group 4, clients ['f_00049', 'f_00059', 'f_00089', 'f_00058', 'f_00069', 'f_00139']\n"
     ]
    },
    {
     "name": "stderr",
     "output_type": "stream",
     "text": [
      "Epoch:  45%|██████████████████████████████████▋                                          | 9/20 [00:00<00:00, 89.08it/s]"
     ]
    },
    {
     "name": "stdout",
     "output_type": "stream",
     "text": [
      "Group 0\n",
      "At round 183 accuracy: 0.8\n",
      "At round 183 training accuracy: 0.7961029923451636\n",
      "At round 183 training loss: 0.5489516033011339\n",
      "Group 1\n",
      "At round 183 accuracy: 0.6484641638225256\n",
      "At round 183 training accuracy: 0.6657873376623377\n",
      "At round 183 training loss: 0.9345120623399347\n",
      "Group 2\n",
      "At round 183 accuracy: 0.8073929961089494\n",
      "At round 183 training accuracy: 0.8070098576122673\n",
      "At round 183 training loss: 0.50294059056703\n",
      "Group 3\n",
      "At round 183 accuracy: 0.7711864406779662\n",
      "At round 183 training accuracy: 0.7925170068027211\n",
      "At round 183 training loss: 0.7678841428387733\n",
      "Group 4\n",
      "At round 183 accuracy: 0.6327868852459017\n",
      "At round 183 training accuracy: 0.6068208545668365\n",
      "At round 183 training loss: 1.4328490934305125\n",
      "At round 183 mean test accuracy: 0.724012474012474 mean train accuracy: 0.7299799037817429\n",
      "The groups difference are: [0.         0.78791891 0.87037572 0.62357866 0.45405414]\n",
      "Begin group  0 training\n"
     ]
    },
    {
     "name": "stderr",
     "output_type": "stream",
     "text": [
      "Epoch:  35%|██████████████████████████▉                                                  | 7/20 [00:00<00:00, 65.37it/s]"
     ]
    },
    {
     "name": "stdout",
     "output_type": "stream",
     "text": [
      "Begin group  1 training\n"
     ]
    },
    {
     "name": "stderr",
     "output_type": "stream",
     "text": [
      "Epoch:  30%|███████████████████████                                                      | 6/20 [00:00<00:00, 53.33it/s]"
     ]
    },
    {
     "name": "stdout",
     "output_type": "stream",
     "text": [
      "Begin group  3 training\n"
     ]
    },
    {
     "name": "stderr",
     "output_type": "stream",
     "text": [
      "Epoch:   0%|                                                                                     | 0/20 [00:00<?, ?it/s]"
     ]
    },
    {
     "name": "stdout",
     "output_type": "stream",
     "text": [
      "Begin group  4 training\n"
     ]
    },
    {
     "name": "stderr",
     "output_type": "stream",
     "text": [
      "                                                                                                                        \r"
     ]
    },
    {
     "name": "stdout",
     "output_type": "stream",
     "text": [
      "Group 0, clients ['f_00138', 'f_00198']\n",
      "Group 1, clients ['f_00014', 'f_00165', 'f_00063', 'f_00194', 'f_00104', 'f_00181', 'f_00105']\n",
      "Group 2 is empty.\n",
      "Group 3, clients ['f_00126', 'f_00066', 'f_00000', 'f_00036', 'f_00186']\n",
      "Group 4, clients ['f_00078', 'f_00139', 'f_00039', 'f_00188', 'f_00079', 'f_00097']\n"
     ]
    },
    {
     "name": "stderr",
     "output_type": "stream",
     "text": [
      "Epoch:   0%|                                                                                     | 0/20 [00:00<?, ?it/s]"
     ]
    },
    {
     "name": "stdout",
     "output_type": "stream",
     "text": [
      "Group 0\n",
      "At round 184 accuracy: 0.8121212121212121\n",
      "At round 184 training accuracy: 0.7954070981210856\n",
      "At round 184 training loss: 0.6337339486317578\n",
      "Group 1\n",
      "At round 184 accuracy: 0.5546075085324232\n",
      "At round 184 training accuracy: 0.559862012987013\n",
      "At round 184 training loss: 1.5351567062906097\n",
      "Group 2\n",
      "At round 184 accuracy: 0.8073929961089494\n",
      "At round 184 training accuracy: 0.8096385542168675\n",
      "At round 184 training loss: 0.4914589443708171\n",
      "Group 3\n",
      "At round 184 accuracy: 0.7598870056497176\n",
      "At round 184 training accuracy: 0.7850340136054422\n",
      "At round 184 training loss: 0.7720540803407325\n",
      "Group 4\n",
      "At round 184 accuracy: 0.6655737704918033\n",
      "At round 184 training accuracy: 0.6146609172873383\n",
      "At round 184 training loss: 1.4705084923615366\n",
      "At round 184 mean test accuracy: 0.6995841995841996 mean train accuracy: 0.6987394190365995\n",
      "The groups difference are: [0.         0.83655037 0.85279928 0.63819068 0.45018202]\n",
      "Begin group  0 training\n"
     ]
    },
    {
     "name": "stderr",
     "output_type": "stream",
     "text": [
      "Epoch:  40%|██████████████████████████████▊                                              | 8/20 [00:00<00:00, 75.85it/s]"
     ]
    },
    {
     "name": "stdout",
     "output_type": "stream",
     "text": [
      "Begin group  1 training\n"
     ]
    },
    {
     "name": "stderr",
     "output_type": "stream",
     "text": [
      "Epoch:  35%|██████████████████████████▉                                                  | 7/20 [00:00<00:00, 67.10it/s]"
     ]
    },
    {
     "name": "stdout",
     "output_type": "stream",
     "text": [
      "Begin group  3 training\n"
     ]
    },
    {
     "name": "stderr",
     "output_type": "stream",
     "text": [
      "Epoch:   0%|                                                                                     | 0/20 [00:00<?, ?it/s]"
     ]
    },
    {
     "name": "stdout",
     "output_type": "stream",
     "text": [
      "Begin group  4 training\n"
     ]
    },
    {
     "name": "stderr",
     "output_type": "stream",
     "text": [
      "                                                                                                                        \r"
     ]
    },
    {
     "name": "stdout",
     "output_type": "stream",
     "text": [
      "Group 0, clients ['f_00198']\n",
      "Group 1, clients ['f_00070', 'f_00175', 'f_00141', 'f_00191', 'f_00034', 'f_00015', 'f_00145', 'f_00081', 'f_00101', 'f_00124']\n",
      "Group 2, clients ['f_00122']\n",
      "Group 3, clients ['f_00036', 'f_00016', 'f_00050', 'f_00024', 'f_00095']\n",
      "Group 4, clients ['f_00039', 'f_00179', 'f_00069']\n"
     ]
    },
    {
     "name": "stderr",
     "output_type": "stream",
     "text": [
      "Epoch:   0%|                                                                                     | 0/20 [00:00<?, ?it/s]"
     ]
    },
    {
     "name": "stdout",
     "output_type": "stream",
     "text": [
      "Group 0\n",
      "At round 185 accuracy: 0.8121212121212121\n",
      "At round 185 training accuracy: 0.8044537230340988\n",
      "At round 185 training loss: 0.6573781562125259\n",
      "Group 1\n",
      "At round 185 accuracy: 0.5648464163822525\n",
      "At round 185 training accuracy: 0.5878652597402597\n",
      "At round 185 training loss: 1.3308698345586512\n",
      "Group 2\n",
      "At round 185 accuracy: 0.8171206225680934\n",
      "At round 185 training accuracy: 0.8164293537787514\n",
      "At round 185 training loss: 0.48263862663135343\n",
      "Group 3\n",
      "At round 185 accuracy: 0.4124293785310734\n",
      "At round 185 training accuracy: 0.4241496598639456\n",
      "At round 185 training loss: 1.4963884593931591\n",
      "Group 4\n",
      "At round 185 accuracy: 0.6622950819672131\n",
      "At round 185 training accuracy: 0.6205409643277147\n",
      "At round 185 training loss: 1.2585615128196954\n",
      "At round 185 mean test accuracy: 0.6408523908523909 mean train accuracy: 0.6461238657816211\n",
      "The groups difference are: [0.         0.834603   0.8265889  0.65140734 0.44153049]\n",
      "Begin group  0 training\n",
      "Begin group  1 training\n"
     ]
    },
    {
     "name": "stderr",
     "output_type": "stream",
     "text": [
      "Epoch:  25%|███████████████████▎                                                         | 5/20 [00:00<00:00, 48.83it/s]"
     ]
    },
    {
     "name": "stdout",
     "output_type": "stream",
     "text": [
      "Begin group  2 training\n"
     ]
    },
    {
     "name": "stderr",
     "output_type": "stream",
     "text": [
      "Epoch:   0%|                                                                                     | 0/20 [00:00<?, ?it/s]"
     ]
    },
    {
     "name": "stdout",
     "output_type": "stream",
     "text": [
      "Begin group  3 training\n"
     ]
    },
    {
     "name": "stderr",
     "output_type": "stream",
     "text": [
      "Epoch:   0%|                                                                                     | 0/20 [00:00<?, ?it/s]"
     ]
    },
    {
     "name": "stdout",
     "output_type": "stream",
     "text": [
      "Begin group  4 training\n"
     ]
    },
    {
     "name": "stderr",
     "output_type": "stream",
     "text": [
      "                                                                                                                        \r"
     ]
    },
    {
     "name": "stdout",
     "output_type": "stream",
     "text": [
      "Group 0, clients ['f_00167', 'f_00028', 'f_00138']\n",
      "Group 1, clients ['f_00054', 'f_00064']\n",
      "Group 2, clients ['f_00102']\n",
      "Group 3, clients ['f_00160', 'f_00040', 'f_00131', 'f_00130', 'f_00041', 'f_00061', 'f_00031', 'f_00151', 'f_00001', 'f_00006']\n",
      "Group 4, clients ['f_00087', 'f_00049', 'f_00019', 'f_00037']\n"
     ]
    },
    {
     "name": "stderr",
     "output_type": "stream",
     "text": [
      "Epoch:   0%|                                                                                     | 0/20 [00:00<?, ?it/s]"
     ]
    },
    {
     "name": "stdout",
     "output_type": "stream",
     "text": [
      "Group 0\n",
      "At round 186 accuracy: 0.8121212121212121\n",
      "At round 186 training accuracy: 0.7967988865692415\n",
      "At round 186 training loss: 0.6757956045986301\n",
      "Group 1\n",
      "At round 186 accuracy: 0.7593856655290102\n",
      "At round 186 training accuracy: 0.755073051948052\n",
      "At round 186 training loss: 0.7938784608774662\n",
      "Group 2\n",
      "At round 186 accuracy: 0.8268482490272373\n",
      "At round 186 training accuracy: 0.8258488499452354\n",
      "At round 186 training loss: 0.5501255932473144\n",
      "Group 3\n",
      "At round 186 accuracy: 0.480225988700565\n",
      "At round 186 training accuracy: 0.495578231292517\n",
      "At round 186 training loss: 1.2187734893694215\n",
      "Group 4\n",
      "At round 186 accuracy: 0.6721311475409836\n",
      "At round 186 training accuracy: 0.6248529988239906\n",
      "At round 186 training loss: 1.5839971677199012\n",
      "At round 186 mean test accuracy: 0.7167359667359667 mean train accuracy: 0.7117106144570976\n",
      "The groups difference are: [0.         0.80798027 0.85660398 0.64157864 0.47069491]\n",
      "Begin group  0 training\n"
     ]
    },
    {
     "name": "stderr",
     "output_type": "stream",
     "text": [
      "Epoch:   0%|                                                                                     | 0/20 [00:00<?, ?it/s]"
     ]
    },
    {
     "name": "stdout",
     "output_type": "stream",
     "text": [
      "Begin group  1 training\n",
      "Begin group  2 training\n"
     ]
    },
    {
     "name": "stderr",
     "output_type": "stream",
     "text": [
      "Epoch:  15%|███████████▌                                                                 | 3/20 [00:00<00:00, 24.87it/s]"
     ]
    },
    {
     "name": "stdout",
     "output_type": "stream",
     "text": [
      "Begin group  3 training\n"
     ]
    },
    {
     "name": "stderr",
     "output_type": "stream",
     "text": [
      "Epoch:  15%|███████████▌                                                                 | 3/20 [00:00<00:00, 27.82it/s]"
     ]
    },
    {
     "name": "stdout",
     "output_type": "stream",
     "text": [
      "Begin group  4 training\n"
     ]
    },
    {
     "name": "stderr",
     "output_type": "stream",
     "text": [
      "                                                                                                                        \r"
     ]
    },
    {
     "name": "stdout",
     "output_type": "stream",
     "text": [
      "Group 0, clients ['f_00108', 'f_00198']\n",
      "Group 1, clients ['f_00044', 'f_00183', 'f_00080', 'f_00192', 'f_00070']\n",
      "Group 2, clients ['f_00062', 'f_00023', 'f_00102', 'f_00052']\n",
      "Group 3, clients ['f_00176', 'f_00136', 'f_00020', 'f_00193', 'f_00120', 'f_00046', 'f_00076']\n",
      "Group 4, clients ['f_00049', 'f_00109']\n"
     ]
    },
    {
     "name": "stderr",
     "output_type": "stream",
     "text": [
      "Epoch:  40%|██████████████████████████████▊                                              | 8/20 [00:00<00:00, 74.05it/s]"
     ]
    },
    {
     "name": "stdout",
     "output_type": "stream",
     "text": [
      "Group 0\n",
      "At round 187 accuracy: 0.8242424242424242\n",
      "At round 187 training accuracy: 0.7814892136395268\n",
      "At round 187 training loss: 0.5433463763054163\n",
      "Group 1\n",
      "At round 187 accuracy: 0.5836177474402731\n",
      "At round 187 training accuracy: 0.5864448051948052\n",
      "At round 187 training loss: 1.3370391751893542\n",
      "Group 2\n",
      "At round 187 accuracy: 0.8190661478599222\n",
      "At round 187 training accuracy: 0.8181818181818182\n",
      "At round 187 training loss: 0.6131983874792076\n",
      "Group 3\n",
      "At round 187 accuracy: 0.519774011299435\n",
      "At round 187 training accuracy: 0.5183673469387755\n",
      "At round 187 training loss: 1.2415947830342517\n",
      "Group 4\n",
      "At round 187 accuracy: 0.6721311475409836\n",
      "At round 187 training accuracy: 0.6468051744413955\n",
      "At round 187 training loss: 0.8344448613844774\n",
      "At round 187 mean test accuracy: 0.6694386694386695 mean train accuracy: 0.6651239266792521\n",
      "The groups difference are: [0.         0.81117662 0.86433823 0.65288385 0.41246827]\n",
      "Begin group  0 training\n"
     ]
    },
    {
     "name": "stderr",
     "output_type": "stream",
     "text": [
      "Epoch:   0%|                                                                                     | 0/20 [00:00<?, ?it/s]"
     ]
    },
    {
     "name": "stdout",
     "output_type": "stream",
     "text": [
      "Begin group  1 training\n"
     ]
    },
    {
     "name": "stderr",
     "output_type": "stream",
     "text": [
      "Epoch:   0%|                                                                                     | 0/20 [00:00<?, ?it/s]"
     ]
    },
    {
     "name": "stdout",
     "output_type": "stream",
     "text": [
      "Begin group  2 training\n"
     ]
    },
    {
     "name": "stderr",
     "output_type": "stream",
     "text": [
      "Epoch:  50%|██████████████████████████████████████                                      | 10/20 [00:00<00:00, 99.02it/s]"
     ]
    },
    {
     "name": "stdout",
     "output_type": "stream",
     "text": [
      "Begin group  3 training\n"
     ]
    },
    {
     "name": "stderr",
     "output_type": "stream",
     "text": [
      "                                                                                                                        \r"
     ]
    },
    {
     "name": "stdout",
     "output_type": "stream",
     "text": [
      "Begin group  4 training\n",
      "Group 0, clients ['f_00158']\n",
      "Group 1, clients ['f_00015', 'f_00083', 'f_00191', 'f_00010', 'f_00004', 'f_00091']\n",
      "Group 2, clients ['f_00163', 'f_00152', 'f_00082', 'f_00073']\n",
      "Group 3, clients ['f_00060', 'f_00003', 'f_00100', 'f_00061']\n",
      "Group 4, clients ['f_00169', 'f_00087', 'f_00109', 'f_00079', 'f_00129']\n"
     ]
    },
    {
     "name": "stderr",
     "output_type": "stream",
     "text": [
      "                                                                                                                        "
     ]
    },
    {
     "name": "stdout",
     "output_type": "stream",
     "text": [
      "Group 0\n",
      "At round 188 accuracy: 0.8\n",
      "At round 188 training accuracy: 0.7995824634655533\n",
      "At round 188 training loss: 0.609418710363185\n",
      "Group 1\n",
      "At round 188 accuracy: 0.34982935153583616\n",
      "At round 188 training accuracy: 0.3715503246753247\n",
      "At round 188 training loss: 1.6395527623448667\n",
      "Group 2\n",
      "At round 188 accuracy: 0.8151750972762646\n",
      "At round 188 training accuracy: 0.8210295728368018\n",
      "At round 188 training loss: 0.634463452196069\n",
      "Group 3\n",
      "At round 188 accuracy: 0.5480225988700564\n",
      "At round 188 training accuracy: 0.5574829931972789\n",
      "At round 188 training loss: 1.0341836583350792\n",
      "Group 4\n",
      "At round 188 accuracy: 0.6786885245901639\n",
      "At round 188 training accuracy: 0.6189729517836142\n",
      "At round 188 training loss: 1.0753072609811707\n",
      "At round 188 mean test accuracy: 0.6013513513513513 mean train accuracy: 0.6056878387430729\n",
      "The groups difference are: [0.         0.78268872 0.89010766 0.65208139 0.43952349]\n",
      "Begin group  0 training\n",
      "Begin group  1 training\n"
     ]
    },
    {
     "name": "stderr",
     "output_type": "stream",
     "text": [
      "Epoch:   0%|                                                                                     | 0/20 [00:00<?, ?it/s]"
     ]
    },
    {
     "name": "stdout",
     "output_type": "stream",
     "text": [
      "Begin group  2 training\n"
     ]
    },
    {
     "name": "stderr",
     "output_type": "stream",
     "text": [
      "Epoch:   0%|                                                                                     | 0/20 [00:00<?, ?it/s]"
     ]
    },
    {
     "name": "stdout",
     "output_type": "stream",
     "text": [
      "Begin group  3 training\n"
     ]
    },
    {
     "name": "stderr",
     "output_type": "stream",
     "text": [
      "Epoch:  20%|███████████████▍                                                             | 4/20 [00:00<00:00, 34.27it/s]"
     ]
    },
    {
     "name": "stdout",
     "output_type": "stream",
     "text": [
      "Begin group  4 training\n"
     ]
    },
    {
     "name": "stderr",
     "output_type": "stream",
     "text": [
      "                                                                                                                        \r"
     ]
    },
    {
     "name": "stdout",
     "output_type": "stream",
     "text": [
      "Group 0, clients ['f_00198']\n",
      "Group 1, clients ['f_00091', 'f_00111', 'f_00075', 'f_00142', 'f_00071', 'f_00012']\n",
      "Group 2, clients ['f_00002', 'f_00163', 'f_00053']\n",
      "Group 3, clients ['f_00043', 'f_00130', 'f_00136', 'f_00180', 'f_00106', 'f_00114', 'f_00133']\n",
      "Group 4, clients ['f_00027', 'f_00037', 'f_00077']\n"
     ]
    },
    {
     "name": "stderr",
     "output_type": "stream",
     "text": [
      "Epoch:   0%|                                                                                     | 0/20 [00:00<?, ?it/s]"
     ]
    },
    {
     "name": "stdout",
     "output_type": "stream",
     "text": [
      "Group 0\n",
      "At round 189 accuracy: 0.7757575757575758\n",
      "At round 189 training accuracy: 0.7988865692414753\n",
      "At round 189 training loss: 0.6796468018904774\n",
      "Group 1\n",
      "At round 189 accuracy: 0.4863481228668942\n",
      "At round 189 training accuracy: 0.49756493506493504\n",
      "At round 189 training loss: 1.280615647825376\n",
      "Group 2\n",
      "At round 189 accuracy: 0.77431906614786\n",
      "At round 189 training accuracy: 0.7877327491785323\n",
      "At round 189 training loss: 0.5399432670247516\n",
      "Group 3\n",
      "At round 189 accuracy: 0.4689265536723164\n",
      "At round 189 training accuracy: 0.49421768707482994\n",
      "At round 189 training loss: 1.513346559620228\n",
      "Group 4\n",
      "At round 189 accuracy: 0.7573770491803279\n",
      "At round 189 training accuracy: 0.7212857702861623\n",
      "At round 189 training loss: 0.6840404263667993\n",
      "At round 189 mean test accuracy: 0.6278586278586279 mean train accuracy: 0.6387552524206809\n",
      "The groups difference are: [0.         0.79703572 0.8917435  0.6868125  0.44459495]\n",
      "Begin group  0 training\n",
      "Begin group  1 training\n"
     ]
    },
    {
     "name": "stderr",
     "output_type": "stream",
     "text": [
      "Epoch:  40%|██████████████████████████████▊                                              | 8/20 [00:00<00:00, 73.58it/s]"
     ]
    },
    {
     "name": "stdout",
     "output_type": "stream",
     "text": [
      "Begin group  2 training\n"
     ]
    },
    {
     "name": "stderr",
     "output_type": "stream",
     "text": [
      "Epoch:   0%|                                                                                     | 0/20 [00:00<?, ?it/s]"
     ]
    },
    {
     "name": "stdout",
     "output_type": "stream",
     "text": [
      "Begin group  3 training\n"
     ]
    },
    {
     "name": "stderr",
     "output_type": "stream",
     "text": [
      "Epoch:  40%|██████████████████████████████▊                                              | 8/20 [00:00<00:00, 75.17it/s]"
     ]
    },
    {
     "name": "stdout",
     "output_type": "stream",
     "text": [
      "Begin group  4 training\n"
     ]
    },
    {
     "name": "stderr",
     "output_type": "stream",
     "text": [
      "                                                                                                                        \r"
     ]
    },
    {
     "name": "stdout",
     "output_type": "stream",
     "text": [
      "Group 0, clients ['f_00028', 'f_00018']\n",
      "Group 1, clients ['f_00092', 'f_00055', 'f_00014', 'f_00010', 'f_00045', 'f_00105']\n",
      "Group 2, clients ['f_00023']\n",
      "Group 3, clients ['f_00024', 'f_00056', 'f_00001', 'f_00006', 'f_00116', 'f_00046']\n",
      "Group 4, clients ['f_00139', 'f_00107', 'f_00017', 'f_00008', 'f_00019']\n"
     ]
    },
    {
     "name": "stderr",
     "output_type": "stream",
     "text": [
      "Epoch:   0%|                                                                                     | 0/20 [00:00<?, ?it/s]"
     ]
    },
    {
     "name": "stdout",
     "output_type": "stream",
     "text": [
      "Group 0\n",
      "At round 190 accuracy: 0.806060606060606\n",
      "At round 190 training accuracy: 0.7884481558803061\n",
      "At round 190 training loss: 0.6694066340548344\n",
      "Group 1\n",
      "At round 190 accuracy: 0.49146757679180886\n",
      "At round 190 training accuracy: 0.47767857142857145\n",
      "At round 190 training loss: 1.2789153275745255\n",
      "Group 2\n",
      "At round 190 accuracy: 0.7431906614785992\n",
      "At round 190 training accuracy: 0.7404162102957283\n",
      "At round 190 training loss: 0.7196087019271161\n",
      "Group 3\n",
      "At round 190 accuracy: 0.635593220338983\n",
      "At round 190 training accuracy: 0.6724489795918367\n",
      "At round 190 training loss: 0.8770212041480201\n",
      "Group 4\n",
      "At round 190 accuracy: 0.6196721311475409\n",
      "At round 190 training accuracy: 0.6146609172873383\n",
      "At round 190 training loss: 1.1969672232130284\n",
      "At round 190 mean test accuracy: 0.6325363825363826 mean train accuracy: 0.6340661348273552\n",
      "The groups difference are: [0.         0.81327554 0.89967596 0.67441927 0.45827634]\n",
      "Begin group  0 training\n"
     ]
    },
    {
     "name": "stderr",
     "output_type": "stream",
     "text": [
      "Epoch:   0%|                                                                                     | 0/20 [00:00<?, ?it/s]"
     ]
    },
    {
     "name": "stdout",
     "output_type": "stream",
     "text": [
      "Begin group  1 training\n"
     ]
    },
    {
     "name": "stderr",
     "output_type": "stream",
     "text": [
      "Epoch:  35%|██████████████████████████▉                                                  | 7/20 [00:00<00:00, 67.86it/s]"
     ]
    },
    {
     "name": "stdout",
     "output_type": "stream",
     "text": [
      "Begin group  2 training\n"
     ]
    },
    {
     "name": "stderr",
     "output_type": "stream",
     "text": [
      "Epoch:   0%|                                                                                     | 0/20 [00:00<?, ?it/s]"
     ]
    },
    {
     "name": "stdout",
     "output_type": "stream",
     "text": [
      "Begin group  3 training\n"
     ]
    },
    {
     "name": "stderr",
     "output_type": "stream",
     "text": [
      "Epoch:  60%|█████████████████████████████████████████████                              | 12/20 [00:00<00:00, 113.31it/s]"
     ]
    },
    {
     "name": "stdout",
     "output_type": "stream",
     "text": [
      "Begin group  4 training\n"
     ]
    },
    {
     "name": "stderr",
     "output_type": "stream",
     "text": [
      "                                                                                                                        \r"
     ]
    },
    {
     "name": "stdout",
     "output_type": "stream",
     "text": [
      "Group 0, clients ['f_00028']\n",
      "Group 1, clients ['f_00125', 'f_00111', 'f_00045', 'f_00142', 'f_00103', 'f_00081']\n",
      "Group 2, clients ['f_00121', 'f_00002', 'f_00093']\n",
      "Group 3, clients ['f_00090', 'f_00110', 'f_00170', 'f_00076', 'f_00136']\n",
      "Group 4, clients ['f_00189', 'f_00169', 'f_00059', 'f_00027', 'f_00139']\n"
     ]
    },
    {
     "name": "stderr",
     "output_type": "stream",
     "text": [
      "Epoch:   0%|                                                                                     | 0/20 [00:00<?, ?it/s]"
     ]
    },
    {
     "name": "stdout",
     "output_type": "stream",
     "text": [
      "Group 0\n",
      "At round 191 accuracy: 0.806060606060606\n",
      "At round 191 training accuracy: 0.7995824634655533\n",
      "At round 191 training loss: 0.6764919570774857\n",
      "Group 1\n",
      "At round 191 accuracy: 0.7474402730375427\n",
      "At round 191 training accuracy: 0.7433035714285714\n",
      "At round 191 training loss: 0.8235657006477961\n",
      "Group 2\n",
      "At round 191 accuracy: 0.7334630350194552\n",
      "At round 191 training accuracy: 0.7119386637458927\n",
      "At round 191 training loss: 1.0919264381516802\n",
      "Group 3\n",
      "At round 191 accuracy: 0.4152542372881356\n",
      "At round 191 training accuracy: 0.43197278911564624\n",
      "At round 191 training loss: 1.4542427355993768\n",
      "Group 4\n",
      "At round 191 accuracy: 0.7868852459016393\n",
      "At round 191 training accuracy: 0.7726381811054488\n",
      "At round 191 training loss: 0.6375411745965457\n",
      "At round 191 mean test accuracy: 0.6938669438669439 mean train accuracy: 0.6883259241215517\n",
      "The groups difference are: [0.         0.79128165 0.89937428 0.67658805 0.43983638]\n",
      "Begin group  0 training\n",
      "Begin group  1 training\n"
     ]
    },
    {
     "name": "stderr",
     "output_type": "stream",
     "text": [
      "Epoch:  25%|███████████████████▎                                                         | 5/20 [00:00<00:00, 40.74it/s]"
     ]
    },
    {
     "name": "stdout",
     "output_type": "stream",
     "text": [
      "Begin group  2 training\n"
     ]
    },
    {
     "name": "stderr",
     "output_type": "stream",
     "text": [
      "Epoch:  30%|███████████████████████                                                      | 6/20 [00:00<00:00, 58.91it/s]"
     ]
    },
    {
     "name": "stdout",
     "output_type": "stream",
     "text": [
      "Begin group  3 training\n"
     ]
    },
    {
     "name": "stderr",
     "output_type": "stream",
     "text": [
      "Epoch:  35%|██████████████████████████▉                                                  | 7/20 [00:00<00:00, 66.32it/s]"
     ]
    },
    {
     "name": "stdout",
     "output_type": "stream",
     "text": [
      "Begin group  4 training\n"
     ]
    },
    {
     "name": "stderr",
     "output_type": "stream",
     "text": [
      "                                                                                                                        \r"
     ]
    },
    {
     "name": "stdout",
     "output_type": "stream",
     "text": [
      "Group 0, clients ['f_00158']\n",
      "Group 1, clients ['f_00085', 'f_00022', 'f_00064', 'f_00171', 'f_00013']\n",
      "Group 2, clients ['f_00072', 'f_00093', 'f_00023', 'f_00152']\n",
      "Group 3, clients ['f_00133', 'f_00060', 'f_00100', 'f_00041', 'f_00196']\n",
      "Group 4, clients ['f_00079', 'f_00037', 'f_00008', 'f_00197', 'f_00119']\n"
     ]
    },
    {
     "name": "stderr",
     "output_type": "stream",
     "text": [
      "Epoch:  50%|██████████████████████████████████████                                      | 10/20 [00:00<00:00, 94.58it/s]"
     ]
    },
    {
     "name": "stdout",
     "output_type": "stream",
     "text": [
      "Group 0\n",
      "At round 192 accuracy: 0.793939393939394\n",
      "At round 192 training accuracy: 0.791231732776618\n",
      "At round 192 training loss: 0.6806581663479802\n",
      "Group 1\n",
      "At round 192 accuracy: 0.7952218430034129\n",
      "At round 192 training accuracy: 0.796672077922078\n",
      "At round 192 training loss: 0.8013980190402695\n",
      "Group 2\n",
      "At round 192 accuracy: 0.8715953307392996\n",
      "At round 192 training accuracy: 0.871631982475356\n",
      "At round 192 training loss: 0.4199641563022776\n",
      "Group 3\n",
      "At round 192 accuracy: 0.5084745762711864\n",
      "At round 192 training accuracy: 0.5282312925170068\n",
      "At round 192 training loss: 1.0853128037231714\n",
      "Group 4\n",
      "At round 192 accuracy: 0.6918032786885245\n",
      "At round 192 training accuracy: 0.6373970991767934\n",
      "At round 192 training loss: 1.0581445585613576\n",
      "At round 192 mean test accuracy: 0.7463617463617463 mean train accuracy: 0.7442299494549662\n",
      "The groups difference are: [0.         0.79298267 0.87391673 0.67164459 0.45634365]\n",
      "Begin group  0 training\n"
     ]
    },
    {
     "name": "stderr",
     "output_type": "stream",
     "text": [
      "Epoch:   0%|                                                                                     | 0/20 [00:00<?, ?it/s]"
     ]
    },
    {
     "name": "stdout",
     "output_type": "stream",
     "text": [
      "Begin group  1 training\n"
     ]
    },
    {
     "name": "stderr",
     "output_type": "stream",
     "text": [
      "Epoch:   0%|                                                                                     | 0/20 [00:00<?, ?it/s]"
     ]
    },
    {
     "name": "stdout",
     "output_type": "stream",
     "text": [
      "Begin group  2 training\n"
     ]
    },
    {
     "name": "stderr",
     "output_type": "stream",
     "text": [
      "Epoch:   0%|                                                                                     | 0/20 [00:00<?, ?it/s]"
     ]
    },
    {
     "name": "stdout",
     "output_type": "stream",
     "text": [
      "Begin group  3 training\n"
     ]
    },
    {
     "name": "stderr",
     "output_type": "stream",
     "text": [
      "Epoch:  40%|██████████████████████████████▊                                              | 8/20 [00:00<00:00, 77.05it/s]"
     ]
    },
    {
     "name": "stdout",
     "output_type": "stream",
     "text": [
      "Begin group  4 training\n"
     ]
    },
    {
     "name": "stderr",
     "output_type": "stream",
     "text": [
      "                                                                                                                        \r"
     ]
    },
    {
     "name": "stdout",
     "output_type": "stream",
     "text": [
      "Group 0, clients ['f_00018']\n",
      "Group 1, clients ['f_00173', 'f_00184', 'f_00004', 'f_00164', 'f_00091', 'f_00105']\n",
      "Group 2, clients ['f_00073']\n",
      "Group 3, clients ['f_00133', 'f_00140', 'f_00006', 'f_00043', 'f_00000', 'f_00033', 'f_00186', 'f_00020']\n",
      "Group 4, clients ['f_00119', 'f_00069', 'f_00187', 'f_00157']\n"
     ]
    },
    {
     "name": "stderr",
     "output_type": "stream",
     "text": [
      "Epoch:   0%|                                                                                     | 0/20 [00:00<?, ?it/s]"
     ]
    },
    {
     "name": "stdout",
     "output_type": "stream",
     "text": [
      "Group 0\n",
      "At round 193 accuracy: 0.8\n",
      "At round 193 training accuracy: 0.8058455114822547\n",
      "At round 193 training loss: 0.7094109549900685\n",
      "Group 1\n",
      "At round 193 accuracy: 0.6979522184300341\n",
      "At round 193 training accuracy: 0.7193587662337663\n",
      "At round 193 training loss: 0.8422903187040772\n",
      "Group 2\n",
      "At round 193 accuracy: 0.7684824902723736\n",
      "At round 193 training accuracy: 0.7741511500547645\n",
      "At round 193 training loss: 0.5540485291530635\n",
      "Group 3\n",
      "At round 193 accuracy: 0.6045197740112994\n",
      "At round 193 training accuracy: 0.6139455782312925\n",
      "At round 193 training loss: 1.0316349246570853\n",
      "Group 4\n",
      "At round 193 accuracy: 0.8032786885245902\n",
      "At round 193 training accuracy: 0.7451979615836927\n",
      "At round 193 training loss: 0.6434798290896817\n",
      "At round 193 mean test accuracy: 0.725051975051975 mean train accuracy: 0.7273004080141282\n",
      "The groups difference are: [0.         0.80950219 0.89054785 0.68266627 0.45251182]\n",
      "Begin group  0 training\n",
      "Begin group  1 training\n"
     ]
    },
    {
     "name": "stderr",
     "output_type": "stream",
     "text": [
      "Epoch:  20%|███████████████▍                                                             | 4/20 [00:00<00:00, 34.98it/s]"
     ]
    },
    {
     "name": "stdout",
     "output_type": "stream",
     "text": [
      "Begin group  2 training\n"
     ]
    },
    {
     "name": "stderr",
     "output_type": "stream",
     "text": [
      "Epoch:  55%|█████████████████████████████████████████▎                                 | 11/20 [00:00<00:00, 108.95it/s]"
     ]
    },
    {
     "name": "stdout",
     "output_type": "stream",
     "text": [
      "Begin group  3 training\n"
     ]
    },
    {
     "name": "stderr",
     "output_type": "stream",
     "text": [
      "Epoch:   0%|                                                                                     | 0/20 [00:00<?, ?it/s]"
     ]
    },
    {
     "name": "stdout",
     "output_type": "stream",
     "text": [
      "Begin group  4 training\n"
     ]
    },
    {
     "name": "stderr",
     "output_type": "stream",
     "text": [
      "                                                                                                                        \r"
     ]
    },
    {
     "name": "stdout",
     "output_type": "stream",
     "text": [
      "Group 0 is empty.\n",
      "Group 1, clients ['f_00035', 'f_00101', 'f_00045', 'f_00164', 'f_00143', 'f_00165']\n",
      "Group 2, clients ['f_00073', 'f_00152', 'f_00002', 'f_00053']\n",
      "Group 3, clients ['f_00006', 'f_00136', 'f_00133', 'f_00046', 'f_00180', 'f_00041']\n",
      "Group 4, clients ['f_00139', 'f_00017', 'f_00188', 'f_00008']\n"
     ]
    },
    {
     "name": "stderr",
     "output_type": "stream",
     "text": [
      "Epoch:  55%|█████████████████████████████████████████▎                                 | 11/20 [00:00<00:00, 100.41it/s]"
     ]
    },
    {
     "name": "stdout",
     "output_type": "stream",
     "text": [
      "Group 0\n",
      "At round 194 accuracy: 0.8121212121212121\n",
      "At round 194 training accuracy: 0.8079331941544885\n",
      "At round 194 training loss: 0.7037778479113874\n",
      "Group 1\n",
      "At round 194 accuracy: 0.6535836177474402\n",
      "At round 194 training accuracy: 0.6517857142857143\n",
      "At round 194 training loss: 1.003073224501515\n",
      "Group 2\n",
      "At round 194 accuracy: 0.72568093385214\n",
      "At round 194 training accuracy: 0.7079956188389923\n",
      "At round 194 training loss: 1.052881025667389\n",
      "Group 3\n",
      "At round 194 accuracy: 0.6299435028248588\n",
      "At round 194 training accuracy: 0.6520408163265307\n",
      "At round 194 training loss: 0.9196043647673665\n",
      "Group 4\n",
      "At round 194 accuracy: 0.7344262295081967\n",
      "At round 194 training accuracy: 0.6683653469227754\n",
      "At round 194 training loss: 0.7287949400408882\n",
      "At round 194 mean test accuracy: 0.6949064449064449 mean train accuracy: 0.6836977041593082\n",
      "The groups difference are: [0.         0.82653155 0.90569271 0.67150654 0.45443131]\n",
      "Begin group  1 training\n"
     ]
    },
    {
     "name": "stderr",
     "output_type": "stream",
     "text": [
      "Epoch:  20%|███████████████▍                                                             | 4/20 [00:00<00:00, 36.20it/s]"
     ]
    },
    {
     "name": "stdout",
     "output_type": "stream",
     "text": [
      "Begin group  2 training\n"
     ]
    },
    {
     "name": "stderr",
     "output_type": "stream",
     "text": [
      "Epoch:   0%|                                                                                     | 0/20 [00:00<?, ?it/s]"
     ]
    },
    {
     "name": "stdout",
     "output_type": "stream",
     "text": [
      "Begin group  3 training\n"
     ]
    },
    {
     "name": "stderr",
     "output_type": "stream",
     "text": [
      "Epoch:   0%|                                                                                     | 0/20 [00:00<?, ?it/s]"
     ]
    },
    {
     "name": "stdout",
     "output_type": "stream",
     "text": [
      "Begin group  4 training\n"
     ]
    },
    {
     "name": "stderr",
     "output_type": "stream",
     "text": [
      "                                                                                                                        \r"
     ]
    },
    {
     "name": "stdout",
     "output_type": "stream",
     "text": [
      "Group 0, clients ['f_00098', 'f_00068', 'f_00178']\n",
      "Group 1, clients ['f_00173', 'f_00154', 'f_00165', 'f_00194', 'f_00015', 'f_00032']\n",
      "Group 2, clients ['f_00093', 'f_00052', 'f_00062']\n",
      "Group 3, clients ['f_00161', 'f_00036', 'f_00133', 'f_00130']\n",
      "Group 4, clients ['f_00049', 'f_00019', 'f_00107', 'f_00197']\n"
     ]
    },
    {
     "name": "stderr",
     "output_type": "stream",
     "text": [
      "Epoch:  20%|███████████████▍                                                             | 4/20 [00:00<00:00, 33.82it/s]"
     ]
    },
    {
     "name": "stdout",
     "output_type": "stream",
     "text": [
      "Group 0\n",
      "At round 195 accuracy: 0.806060606060606\n",
      "At round 195 training accuracy: 0.7995824634655533\n",
      "At round 195 training loss: 0.6841634811215211\n",
      "Group 1\n",
      "At round 195 accuracy: 0.5938566552901023\n",
      "At round 195 training accuracy: 0.6073457792207793\n",
      "At round 195 training loss: 1.2444032187113998\n",
      "Group 2\n",
      "At round 195 accuracy: 0.7354085603112841\n",
      "At round 195 training accuracy: 0.7242059145673604\n",
      "At round 195 training loss: 0.7927999239827038\n",
      "Group 3\n",
      "At round 195 accuracy: 0.7655367231638418\n",
      "At round 195 training accuracy: 0.7700680272108843\n",
      "At round 195 training loss: 0.7568855562583119\n",
      "Group 4\n",
      "At round 195 accuracy: 0.8295081967213115\n",
      "At round 195 training accuracy: 0.7828302626421011\n",
      "At round 195 training loss: 0.5997782642703017\n",
      "At round 195 mean test accuracy: 0.7188149688149689 mean train accuracy: 0.7130503623409049\n",
      "The groups difference are: [0.         0.82531359 0.89109016 0.65868488 0.42334311]\n",
      "Begin group  0 training\n"
     ]
    },
    {
     "name": "stderr",
     "output_type": "stream",
     "text": [
      "Epoch:  45%|██████████████████████████████████▋                                          | 9/20 [00:00<00:00, 88.68it/s]"
     ]
    },
    {
     "name": "stdout",
     "output_type": "stream",
     "text": [
      "Begin group  1 training\n"
     ]
    },
    {
     "name": "stderr",
     "output_type": "stream",
     "text": [
      "Epoch:  35%|██████████████████████████▉                                                  | 7/20 [00:00<00:00, 69.10it/s]"
     ]
    },
    {
     "name": "stdout",
     "output_type": "stream",
     "text": [
      "Begin group  2 training\n"
     ]
    },
    {
     "name": "stderr",
     "output_type": "stream",
     "text": [
      "Epoch:   0%|                                                                                     | 0/20 [00:00<?, ?it/s]"
     ]
    },
    {
     "name": "stdout",
     "output_type": "stream",
     "text": [
      "Begin group  3 training\n"
     ]
    },
    {
     "name": "stderr",
     "output_type": "stream",
     "text": [
      "Epoch:  70%|████████████████████████████████████████████████████▌                      | 14/20 [00:00<00:00, 131.19it/s]"
     ]
    },
    {
     "name": "stdout",
     "output_type": "stream",
     "text": [
      "Begin group  4 training\n"
     ]
    },
    {
     "name": "stderr",
     "output_type": "stream",
     "text": [
      "                                                                                                                        \r"
     ]
    },
    {
     "name": "stdout",
     "output_type": "stream",
     "text": [
      "Group 0 is empty.\n",
      "Group 1, clients ['f_00145', 'f_00103', 'f_00112', 'f_00013', 'f_00025']\n",
      "Group 2, clients ['f_00073', 'f_00023', 'f_00122']\n",
      "Group 3, clients ['f_00036', 'f_00150', 'f_00182', 'f_00020', 'f_00156', 'f_00003', 'f_00170']\n",
      "Group 4, clients ['f_00157', 'f_00147', 'f_00159', 'f_00177', 'f_00179']\n"
     ]
    },
    {
     "name": "stderr",
     "output_type": "stream",
     "text": [
      "Epoch:   0%|                                                                                     | 0/20 [00:00<?, ?it/s]"
     ]
    },
    {
     "name": "stdout",
     "output_type": "stream",
     "text": [
      "Group 0\n",
      "At round 196 accuracy: 0.8121212121212121\n",
      "At round 196 training accuracy: 0.802366040361865\n",
      "At round 196 training loss: 0.7171429306704217\n",
      "Group 1\n",
      "At round 196 accuracy: 0.6126279863481229\n",
      "At round 196 training accuracy: 0.6183035714285714\n",
      "At round 196 training loss: 1.3533992672115323\n",
      "Group 2\n",
      "At round 196 accuracy: 0.8482490272373541\n",
      "At round 196 training accuracy: 0.8383351588170865\n",
      "At round 196 training loss: 0.4774854996477265\n",
      "Group 3\n",
      "At round 196 accuracy: 0.6949152542372882\n",
      "At round 196 training accuracy: 0.6877551020408164\n",
      "At round 196 training loss: 0.888715566400768\n",
      "Group 4\n",
      "At round 196 accuracy: 0.7508196721311475\n",
      "At round 196 training accuracy: 0.7161897295178361\n",
      "At round 196 training loss: 0.697276375589068\n",
      "At round 196 mean test accuracy: 0.7297297297297297 mean train accuracy: 0.7232202667316241\n",
      "The groups difference are: [0.         0.84933755 0.91154136 0.66850975 0.43706884]\n",
      "Begin group  1 training\n"
     ]
    },
    {
     "name": "stderr",
     "output_type": "stream",
     "text": [
      "Epoch:  20%|███████████████▍                                                             | 4/20 [00:00<00:00, 39.59it/s]"
     ]
    },
    {
     "name": "stdout",
     "output_type": "stream",
     "text": [
      "Begin group  2 training\n"
     ]
    },
    {
     "name": "stderr",
     "output_type": "stream",
     "text": [
      "Epoch:   0%|                                                                                     | 0/20 [00:00<?, ?it/s]"
     ]
    },
    {
     "name": "stdout",
     "output_type": "stream",
     "text": [
      "Begin group  3 training\n"
     ]
    },
    {
     "name": "stderr",
     "output_type": "stream",
     "text": [
      "Epoch:   0%|                                                                                     | 0/20 [00:00<?, ?it/s]"
     ]
    },
    {
     "name": "stdout",
     "output_type": "stream",
     "text": [
      "Begin group  4 training\n"
     ]
    },
    {
     "name": "stderr",
     "output_type": "stream",
     "text": [
      "                                                                                                                        \r"
     ]
    },
    {
     "name": "stdout",
     "output_type": "stream",
     "text": [
      "Group 0, clients ['f_00048', 'f_00138', 'f_00028']\n",
      "Group 1, clients ['f_00104', 'f_00103', 'f_00011', 'f_00101', 'f_00081', 'f_00162', 'f_00034', 'f_00194']\n",
      "Group 2, clients ['f_00172', 'f_00052']\n",
      "Group 3, clients ['f_00130']\n",
      "Group 4, clients ['f_00029', 'f_00047', 'f_00188', 'f_00147', 'f_00117', 'f_00187']\n"
     ]
    },
    {
     "name": "stderr",
     "output_type": "stream",
     "text": [
      "                                                                                                                        "
     ]
    },
    {
     "name": "stdout",
     "output_type": "stream",
     "text": [
      "Group 0\n",
      "At round 197 accuracy: 0.8121212121212121\n",
      "At round 197 training accuracy: 0.8009742519137091\n",
      "At round 197 training loss: 0.6941880585422263\n",
      "Group 1\n",
      "At round 197 accuracy: 0.6655290102389079\n",
      "At round 197 training accuracy: 0.6655844155844156\n",
      "At round 197 training loss: 1.1206928792034652\n",
      "Group 2\n",
      "At round 197 accuracy: 0.7684824902723736\n",
      "At round 197 training accuracy: 0.7728368017524644\n",
      "At round 197 training loss: 0.5749478342433879\n",
      "Group 3\n",
      "At round 197 accuracy: 0.7740112994350282\n",
      "At round 197 training accuracy: 0.7993197278911565\n",
      "At round 197 training loss: 0.7424388032077122\n",
      "Group 4\n",
      "At round 197 accuracy: 0.7049180327868853\n",
      "At round 197 training accuracy: 0.680125441003528\n",
      "At round 197 training loss: 0.7466510923784511\n",
      "At round 197 mean test accuracy: 0.7318087318087318 mean train accuracy: 0.7334510687534255\n",
      "The groups difference are: [0.         0.81708002 0.89751244 0.63948824 0.42602122]\n",
      "Begin group  0 training\n"
     ]
    },
    {
     "name": "stderr",
     "output_type": "stream",
     "text": [
      "Epoch:   0%|                                                                                     | 0/20 [00:00<?, ?it/s]"
     ]
    },
    {
     "name": "stdout",
     "output_type": "stream",
     "text": [
      "Begin group  1 training\n"
     ]
    },
    {
     "name": "stderr",
     "output_type": "stream",
     "text": [
      "Epoch:  30%|███████████████████████                                                      | 6/20 [00:00<00:00, 57.77it/s]"
     ]
    },
    {
     "name": "stdout",
     "output_type": "stream",
     "text": [
      "Begin group  2 training\n"
     ]
    },
    {
     "name": "stderr",
     "output_type": "stream",
     "text": [
      "Epoch:  80%|████████████████████████████████████████████████████████████               | 16/20 [00:00<00:00, 150.96it/s]"
     ]
    },
    {
     "name": "stdout",
     "output_type": "stream",
     "text": [
      "Begin group  3 training\n",
      "Begin group  4 training\n"
     ]
    },
    {
     "name": "stderr",
     "output_type": "stream",
     "text": [
      "                                                                                                                        \r"
     ]
    },
    {
     "name": "stdout",
     "output_type": "stream",
     "text": [
      "Group 0, clients ['f_00118', 'f_00158']\n",
      "Group 1, clients ['f_00111', 'f_00125', 'f_00091', 'f_00005', 'f_00080', 'f_00064', 'f_00173', 'f_00164', 'f_00083']\n",
      "Group 2, clients ['f_00082', 'f_00102']\n",
      "Group 3, clients ['f_00026', 'f_00050', 'f_00043']\n",
      "Group 4, clients ['f_00187', 'f_00147', 'f_00199', 'f_00087']\n"
     ]
    },
    {
     "name": "stderr",
     "output_type": "stream",
     "text": [
      "Epoch:  20%|███████████████▍                                                             | 4/20 [00:00<00:00, 35.88it/s]"
     ]
    },
    {
     "name": "stdout",
     "output_type": "stream",
     "text": [
      "Group 0\n",
      "At round 198 accuracy: 0.8121212121212121\n",
      "At round 198 training accuracy: 0.7995824634655533\n",
      "At round 198 training loss: 0.7056591878894641\n",
      "Group 1\n",
      "At round 198 accuracy: 0.6723549488054608\n",
      "At round 198 training accuracy: 0.6946022727272727\n",
      "At round 198 training loss: 0.919037918638825\n",
      "Group 2\n",
      "At round 198 accuracy: 0.8249027237354085\n",
      "At round 198 training accuracy: 0.831763417305586\n",
      "At round 198 training loss: 0.5258888429775426\n",
      "Group 3\n",
      "At round 198 accuracy: 0.5225988700564972\n",
      "At round 198 training accuracy: 0.5159863945578231\n",
      "At round 198 training loss: 1.3716081488243983\n",
      "Group 4\n",
      "At round 198 accuracy: 0.7311475409836066\n",
      "At round 198 training accuracy: 0.7079576636613093\n",
      "At round 198 training loss: 0.7205683803591061\n",
      "At round 198 mean test accuracy: 0.7068607068607069 mean train accuracy: 0.7120151026125083\n",
      "The groups difference are: [0.         0.80715699 0.90077466 0.63136571 0.41745183]\n",
      "Begin group  0 training\n"
     ]
    },
    {
     "name": "stderr",
     "output_type": "stream",
     "text": [
      "Epoch:   0%|                                                                                     | 0/20 [00:00<?, ?it/s]"
     ]
    },
    {
     "name": "stdout",
     "output_type": "stream",
     "text": [
      "Begin group  1 training\n"
     ]
    },
    {
     "name": "stderr",
     "output_type": "stream",
     "text": [
      "Epoch:   0%|                                                                                     | 0/20 [00:00<?, ?it/s]"
     ]
    },
    {
     "name": "stdout",
     "output_type": "stream",
     "text": [
      "Begin group  2 training\n"
     ]
    },
    {
     "name": "stderr",
     "output_type": "stream",
     "text": [
      "Epoch:   0%|                                                                                     | 0/20 [00:00<?, ?it/s]"
     ]
    },
    {
     "name": "stdout",
     "output_type": "stream",
     "text": [
      "Begin group  3 training\n"
     ]
    },
    {
     "name": "stderr",
     "output_type": "stream",
     "text": [
      "Epoch:   0%|                                                                                     | 0/20 [00:00<?, ?it/s]"
     ]
    },
    {
     "name": "stdout",
     "output_type": "stream",
     "text": [
      "Begin group  4 training\n"
     ]
    },
    {
     "name": "stderr",
     "output_type": "stream",
     "text": [
      "                                                                                                                        \r"
     ]
    },
    {
     "name": "stdout",
     "output_type": "stream",
     "text": [
      "Group 0 is empty.\n",
      "Group 1, clients ['f_00194', 'f_00045', 'f_00070', 'f_00034', 'f_00144', 'f_00065', 'f_00094', 'f_00021', 'f_00153', 'f_00013', 'f_00063']\n",
      "Group 2, clients ['f_00052', 'f_00123']\n",
      "Group 3, clients ['f_00146', 'f_00043', 'f_00133', 'f_00116']\n",
      "Group 4, clients ['f_00157', 'f_00149', 'f_00089']\n"
     ]
    },
    {
     "name": "stderr",
     "output_type": "stream",
     "text": [
      "Epoch:  30%|███████████████████████                                                      | 6/20 [00:00<00:00, 54.71it/s]"
     ]
    },
    {
     "name": "stdout",
     "output_type": "stream",
     "text": [
      "Group 0\n",
      "At round 199 accuracy: 0.7333333333333333\n",
      "At round 199 training accuracy: 0.7494780793319415\n",
      "At round 199 training loss: 0.8614974515713497\n",
      "Group 1\n",
      "At round 199 accuracy: 0.7133105802047781\n",
      "At round 199 training accuracy: 0.7331574675324676\n",
      "At round 199 training loss: 0.827264563882022\n",
      "Group 2\n",
      "At round 199 accuracy: 0.8326848249027238\n",
      "At round 199 training accuracy: 0.8295728368017524\n",
      "At round 199 training loss: 0.5691988733290059\n",
      "Group 3\n",
      "At round 199 accuracy: 0.6299435028248588\n",
      "At round 199 training accuracy: 0.6282312925170068\n",
      "At round 199 training loss: 0.9345183576298814\n",
      "Group 4\n",
      "At round 199 accuracy: 0.7049180327868853\n",
      "At round 199 training accuracy: 0.6746373970991768\n",
      "At round 199 training loss: 0.7614669576082824\n",
      "At round 199 mean test accuracy: 0.7302494802494802 mean train accuracy: 0.7335119663845077\n",
      "The groups difference are: [0.         0.82013435 0.9210835  0.65228951 0.44057087]\n",
      "Begin group  1 training\n"
     ]
    },
    {
     "name": "stderr",
     "output_type": "stream",
     "text": [
      "Epoch:  30%|███████████████████████                                                      | 6/20 [00:00<00:00, 53.54it/s]"
     ]
    },
    {
     "name": "stdout",
     "output_type": "stream",
     "text": [
      "Begin group  2 training\n"
     ]
    },
    {
     "name": "stderr",
     "output_type": "stream",
     "text": [
      "Epoch:   0%|                                                                                     | 0/20 [00:00<?, ?it/s]"
     ]
    },
    {
     "name": "stdout",
     "output_type": "stream",
     "text": [
      "Begin group  3 training\n"
     ]
    },
    {
     "name": "stderr",
     "output_type": "stream",
     "text": [
      "Epoch:   0%|                                                                                     | 0/20 [00:00<?, ?it/s]"
     ]
    },
    {
     "name": "stdout",
     "output_type": "stream",
     "text": [
      "Begin group  4 training\n"
     ]
    },
    {
     "name": "stderr",
     "output_type": "stream",
     "text": [
      "                                                                                                                        \r"
     ]
    }
   ],
   "source": [
    "server.train()"
   ]
  },
  {
   "cell_type": "code",
   "execution_count": 5,
   "metadata": {},
   "outputs": [
    {
     "name": "stdout",
     "output_type": "stream",
     "text": [
      "Counter({9.0: 57, 8.0: 54, 0.0: 41, 7.0: 13})\n",
      "165\n"
     ]
    }
   ],
   "source": [
    "from collections import Counter\n",
    "\n",
    "group_list = server.group_list\n",
    "clients = server.clients\n",
    "g = group_list[0]\n",
    "c_list = []\n",
    "for c in clients:\n",
    "  if c.group == g:\n",
    "    c_list.append(c)\n",
    "\n",
    "cnt = Counter()\n",
    "for c in c_list:\n",
    "  cnt += Counter(c.eval_data['y'])\n",
    "print(cnt)\n",
    "print(sum(cnt.values()))"
   ]
  },
  {
   "cell_type": "code",
   "execution_count": 6,
   "metadata": {},
   "outputs": [
    {
     "name": "stderr",
     "output_type": "stream",
     "text": [
      "                                                                                                                        \r"
     ]
    },
    {
     "name": "stdout",
     "output_type": "stream",
     "text": [
      "Clustering Results: Counter({4: 82, 0: 42, 3: 34, 1: 31, 2: 11})\n",
      "42\n",
      "31\n",
      "11\n",
      "34\n",
      "82\n"
     ]
    }
   ],
   "source": [
    "random.seed(10)\n",
    "cluster = server.clustering_clients(server.clients, n_clusters=5)\n",
    "for (cm, clients) in cluster.values():\n",
    "  print(len(clients))"
   ]
  },
  {
   "cell_type": "code",
   "execution_count": 7,
   "metadata": {},
   "outputs": [
    {
     "name": "stdout",
     "output_type": "stream",
     "text": [
      "5\n"
     ]
    }
   ],
   "source": [
    "cluster2clients = [[] for _ in range(5)]\n",
    "print(len(cluster2clients))"
   ]
  }
 ],
 "metadata": {
  "kernelspec": {
   "display_name": "Python 3",
   "language": "python",
   "name": "python3"
  },
  "language_info": {
   "codemirror_mode": {
    "name": "ipython",
    "version": 3
   },
   "file_extension": ".py",
   "mimetype": "text/x-python",
   "name": "python",
   "nbconvert_exporter": "python",
   "pygments_lexer": "ipython3",
   "version": "3.7.7"
  }
 },
 "nbformat": 4,
 "nbformat_minor": 4
}
