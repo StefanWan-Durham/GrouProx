{
 "cells": [
  {
   "cell_type": "code",
   "execution_count": 1,
   "metadata": {
    "scrolled": true
   },
   "outputs": [
    {
     "name": "stdout",
     "output_type": "stream",
     "text": [
      "WARNING:tensorflow:From /home/lab/anaconda3/envs/flex/lib/python3.9/site-packages/tensorflow/python/compat/v2_compat.py:101: disable_resource_variables (from tensorflow.python.ops.variable_scope) is deprecated and will be removed in a future version.\n",
      "Instructions for updating:\n",
      "non-resource variables are not supported in the long term\n",
      "Num GPUs Available:  1\n"
     ]
    }
   ],
   "source": [
    "import os\n",
    "os.environ[\"CUDA_VISIBLE_DEVICES\"]=\"1\"\n",
    "\n",
    "import importlib\n",
    "import tensorflow.compat.v1 as tf\n",
    "tf.disable_v2_behavior()\n",
    "from flearn.utils.model_utils import read_data\n",
    "import os\n",
    "import importlib\n",
    "import random\n",
    "import numpy as np\n",
    "\n",
    "from flearn.models import client\n",
    "from flearn.models import group\n",
    "from flearn.trainers import grouprox\n",
    "from flearn.trainers import fedprox\n",
    "from flearn.trainers import fedavg\n",
    "\n",
    "print(\"Num GPUs Available: \", len(tf.config.experimental.list_physical_devices('GPU')))"
   ]
  },
  {
   "cell_type": "code",
   "execution_count": 2,
   "metadata": {},
   "outputs": [
    {
     "name": "stdout",
     "output_type": "stream",
     "text": [
      "fedprox-sent140-stacked_gru.csv\n"
     ]
    }
   ],
   "source": [
    "params = {}\n",
    "#DATASETS = ['sent140', 'nist', 'shakespeare', 'mnist', 'synthetic_iid', 'synthetic_0_0', 'synthetic_0.5_0.5', 'synthetic_1_1']\n",
    "\n",
    "\"\"\"\n",
    "Parameters that need to be manually set\n",
    "\"\"\"\n",
    "\n",
    "#params['dataset'] = 'fmnist'\n",
    "params['dataset'] = 'sent140'\n",
    "#params['model'] = 'mlp'\n",
    "params['model'] = 'stacked_gru'\n",
    "params['optimizer'] = 'fedprox'\n",
    "params['drop_percent'] = 0\n",
    "\n",
    "if params['dataset'].startswith('mnist'):\n",
    "  params['model_params'] = (10,)\n",
    "  params['learning_rate'] = 0.03\n",
    "  params['mu'] = 1\n",
    "  params['num_group'] = 3\n",
    "if params['dataset'] == 'nist':\n",
    "  params['model_params'] = (26,)\n",
    "  params['learning_rate'] = 0.003\n",
    "  params['mu'] = 1\n",
    "  params['num_group'] = 5\n",
    "if params['dataset'] == 'sent140':\n",
    "  params['model_params'] = (25, 2, 100) # seq_len, num_classes, num_hidden\n",
    "  params['learning_rate'] = 0.3\n",
    "  params['mu'] = 0.01\n",
    "  params['num_group'] = 5\n",
    "if params['dataset'].startswith('synthetic'):\n",
    "  params['model_params'] = (10,)\n",
    "  params['learning_rate'] = 0.01\n",
    "  params['mu'] = 1\n",
    "  params['num_group'] = 5\n",
    "if params['dataset'] == 'celeba':\n",
    "  params['model_params'] = (2,)\n",
    "  params['learning_rate'] = 0.01\n",
    "  params['mu'] = 1\n",
    "  params['num_group'] = 3\n",
    "if params['dataset'] == 'vehicle':\n",
    "  params['model_params'] = (2,)\n",
    "  params['learning_rate'] = 0.01\n",
    "  params['mu'] = 1\n",
    "  params['num_group'] = 2\n",
    "if params['dataset'] == 'fmnist':\n",
    "  params['model_params'] = (10,)\n",
    "  params['learning_rate'] = 0.05\n",
    "  params['mu'] = 1\n",
    "  params['num_group'] = 3\n",
    "\n",
    "if params['optimizer']  == 'fedavg':\n",
    "  pass\n",
    "if params['optimizer']  == 'fedprox':\n",
    "  pass\n",
    "if params['optimizer']  == 'grouprox':\n",
    "  params['MADC'] = False                       # If false, EDC will be used\n",
    "  params['proximal'] = False\n",
    "  params['RAC'] = False\n",
    "  params['RCC'] = False\n",
    "  params['recluster_epoch'] = None\n",
    "  params['client_temp'] = None\n",
    "  params['allow_empty'] = True\n",
    "  params['agg_lr'] = 0.0 ########## Group Aggregataion Rate\n",
    "  \n",
    "  # TEST Hyperparameters, Experimental Only\n",
    "  params['evenly'] = False\n",
    "  params['min_clients'] = 2\n",
    "    \n",
    "  # We implement IFCA and FeSEM base on grouprox\n",
    "  params['ifca'] = False\n",
    "  params['fesem'] = False\n",
    "  \n",
    "  \"\"\"\n",
    "  We immplement IFCA and FeSEM base on grouprox,\n",
    "  Some configurations should be flush for above two CFL frameworks\n",
    "  \"\"\"\n",
    "  if params['ifca'] == True or params['fesem'] == True:\n",
    "    params['proximal'] = False ### Do not modify it\n",
    "    params['RAC'] = False\n",
    "    params['RCC'] = False\n",
    "    params['allow_empty'] = True\n",
    "    params['agg_lr'] = 0.0 # IFCA and FeSEM don't use this parameter\n",
    "    \n",
    "\"\"\"\n",
    "Common parameters\n",
    "\"\"\"\n",
    "params['num_rounds'] = 800\n",
    "params['num_epochs'] = 10\n",
    "params['batch_size'] = 10\n",
    "params['eval_every'] = 1\n",
    "params['clients_per_round'] = 20 ################ Important ######################\n",
    "params['seed'] = 233\n",
    "\n",
    "\"\"\" Set the output CSV file name \"\"\"\n",
    "info = '{}-{}-{}'.format(params['optimizer'], params['dataset'], params['model'])\n",
    "info2 = ''\n",
    "suffix = '.csv'\n",
    "if params['optimizer'] == 'fedavg':\n",
    "  pass\n",
    "if params['optimizer'] == 'fedprox':\n",
    "  pass\n",
    "if params['optimizer'] == 'grouprox':\n",
    "  if params['ifca'] == False and params['fesem'] == False:\n",
    "    if params['MADC'] == True:\n",
    "      info2 = info2 + '-MADC'\n",
    "    else:\n",
    "      info2 = info2 + '-EDC'\n",
    "    if params['recluster_epoch']:\n",
    "        info2 = info2 + '-RE{:2d}'.format(params['recluster_epoch'])\n",
    "    if params['client_temp']:\n",
    "        info2 = info2 + '-TEMP{:2d}'.format(params['client_temp'])\n",
    "        \n",
    "  if params['ifca'] == True:\n",
    "    info2 = info2 + '-IFCA'\n",
    "  if params['fesem'] == True:\n",
    "    info2 = info2 + '-FeSEM'\n",
    "  \n",
    "  info2 = info2 +  '-NumG{:1d}-Agglr{:.4}-Proximal{:.1}'.format(\n",
    "    params['num_group'], params['agg_lr'], str(params['proximal']))\n",
    "  \n",
    "  if params['RCC'] == True:\n",
    "    info2 = info2 + '-RCC.{:.1}'.format(str(params['RCC']))\n",
    "  \n",
    "  if params['RAC'] == True:\n",
    "    info2 = info2 + '-RAC.{:.1}-Evenly{:.1}'.format(str(params['RAC']), str(params['evenly']))\n",
    "  elif params['allow_empty'] == True:\n",
    "    info2 = info2 + '-Empty{:.1}'.format(str(params['allow_empty']))\n",
    "  elif params['allow_empty'] == False:\n",
    "    info2 = info2 + '-Evenly{:.1}'.format(str(params['evenly']))\n",
    "\n",
    "params['export_filename'] = info + info2 + suffix\n",
    "\n",
    "print(params['export_filename'])"
   ]
  },
  {
   "cell_type": "code",
   "execution_count": 3,
   "metadata": {
    "scrolled": true
   },
   "outputs": [
    {
     "name": "stdout",
     "output_type": "stream",
     "text": [
      "Using Federated prox to Train\n",
      "WARNING:tensorflow:`tf.nn.rnn_cell.MultiRNNCell` is deprecated. This class is equivalent as `tf.keras.layers.StackedRNNCells`, and will be replaced by that in Tensorflow 2.0.\n",
      "WARNING:tensorflow:From /home/lab/workspace/GrouProx/flearn/models/sent140/stacked_gru.py:67: dynamic_rnn (from tensorflow.python.ops.rnn) is deprecated and will be removed in a future version.\n",
      "Instructions for updating:\n",
      "Please use `keras.layers.RNN(cell)`, which is equivalent to this API\n",
      "WARNING:tensorflow:From /home/lab/anaconda3/envs/flex/lib/python3.9/site-packages/keras/layers/legacy_rnn/rnn_cell_impl.py:572: calling Constant.__init__ (from tensorflow.python.ops.init_ops) with dtype is deprecated and will be removed in a future version.\n",
      "Instructions for updating:\n",
      "Call initializer instance with the dtype argument instead of passing it to the constructor\n",
      "WARNING:tensorflow:From /home/lab/anaconda3/envs/flex/lib/python3.9/site-packages/keras/layers/legacy_rnn/rnn_cell_impl.py:582: calling Zeros.__init__ (from tensorflow.python.ops.init_ops) with dtype is deprecated and will be removed in a future version.\n",
      "Instructions for updating:\n",
      "Call initializer instance with the dtype argument instead of passing it to the constructor\n"
     ]
    },
    {
     "name": "stderr",
     "output_type": "stream",
     "text": [
      "/home/lab/anaconda3/envs/flex/lib/python3.9/site-packages/keras/layers/legacy_rnn/rnn_cell_impl.py:524: UserWarning: `tf.nn.rnn_cell.GRUCell` is deprecated and will be removed in a future version. This class is equivalent as `tf.keras.layers.GRUCell`, and will be replaced by that in Tensorflow 2.0.\n",
      "  warnings.warn(\"`tf.nn.rnn_cell.GRUCell` is deprecated and will be removed \"\n",
      "/home/lab/anaconda3/envs/flex/lib/python3.9/site-packages/keras/engine/base_layer_v1.py:1684: UserWarning: `layer.add_variable` is deprecated and will be removed in a future version. Please use `layer.add_weight` method instead.\n",
      "  warnings.warn('`layer.add_variable` is deprecated and '\n",
      "/home/lab/anaconda3/envs/flex/lib/python3.9/site-packages/keras/legacy_tf_layers/core.py:236: UserWarning: `tf.layers.dense` is deprecated and will be removed in a future version. Please use `tf.keras.layers.Dense` instead.\n",
      "  warnings.warn('`tf.layers.dense` is deprecated and '\n",
      "/home/lab/anaconda3/envs/flex/lib/python3.9/site-packages/keras/engine/base_layer_v1.py:1676: UserWarning: `layer.apply` is deprecated and will be removed in a future version. Please use `layer.__call__` method instead.\n",
      "  warnings.warn('`layer.apply` is deprecated and '\n"
     ]
    },
    {
     "name": "stdout",
     "output_type": "stream",
     "text": [
      "WARNING:tensorflow:From /home/lab/workspace/GrouProx/flearn/models/sent140/stacked_gru.py:77: to_int64 (from tensorflow.python.ops.math_ops) is deprecated and will be removed in a future version.\n",
      "Instructions for updating:\n",
      "Use `tf.cast` instead.\n"
     ]
    },
    {
     "name": "stderr",
     "output_type": "stream",
     "text": [
      "2021-11-01 12:18:45.919088: I tensorflow/core/platform/cpu_feature_guard.cc:142] This TensorFlow binary is optimized with oneAPI Deep Neural Network Library (oneDNN) to use the following CPU instructions in performance-critical operations:  AVX2 AVX512F FMA\n",
      "To enable them in other operations, rebuild TensorFlow with the appropriate compiler flags.\n",
      "2021-11-01 12:18:46.321409: I tensorflow/core/common_runtime/gpu/gpu_device.cc:1510] Created device /job:localhost/replica:0/task:0/device:GPU:0 with 22314 MB memory:  -> device: 0, name: NVIDIA GeForce RTX 3090, pci bus id: 0000:1a:00.0, compute capability: 8.6\n"
     ]
    },
    {
     "name": "stdout",
     "output_type": "stream",
     "text": [
      "WARNING:tensorflow:From /home/lab/anaconda3/envs/flex/lib/python3.9/site-packages/tensorflow/python/profiler/internal/flops_registry.py:142: tensor_shape_from_node_def_name (from tensorflow.python.framework.graph_util_impl) is deprecated and will be removed in a future version.\n",
      "Instructions for updating:\n",
      "Use `tf.compat.v1.graph_util.tensor_shape_from_node_def_name`\n"
     ]
    },
    {
     "name": "stderr",
     "output_type": "stream",
     "text": [
      "Incomplete shape.\n",
      "Incomplete shape.\n",
      "Incomplete shape.\n",
      "Incomplete shape.\n"
     ]
    },
    {
     "name": "stdout",
     "output_type": "stream",
     "text": [
      "\n",
      "=========================Options=============================\n",
      "-max_depth                  10000\n",
      "-min_bytes                  0\n",
      "-min_peak_bytes             0\n",
      "-min_residual_bytes         0\n",
      "-min_output_bytes           0\n",
      "-min_micros                 0\n",
      "-min_accelerator_micros     0\n",
      "-min_cpu_micros             0\n",
      "-min_params                 0\n",
      "-min_float_ops              1\n",
      "-min_occurrence             0\n",
      "-step                       -1\n",
      "-order_by                   float_ops\n",
      "-account_type_regexes       .*\n",
      "-start_name_regexes         .*\n",
      "-trim_name_regexes          \n",
      "-show_name_regexes          .*\n",
      "-hide_name_regexes          \n",
      "-account_displayed_op_only  true\n",
      "-select                     float_ops\n",
      "-output                     stdout:\n",
      "\n",
      "==================Model Analysis Report======================\n",
      "\n",
      "Doc:\n",
      "scope: The nodes in the model graph are organized by their names, which is hierarchical like filesystem.\n",
      "flops: Number of float operations. Note: Please read the implementation for the math behind it.\n",
      "\n",
      "Profile:\n",
      "node name | # float_ops\n",
      "_TFProfRoot (--/407.51k flops)\n",
      "  rnn/multi_rnn_cell/cell_0/gru_cell/gates/kernel/Initializer/random_uniform/mul (46.59k/46.59k flops)\n",
      "  PGD/update_rnn/multi_rnn_cell/cell_0/gru_cell/gates/kernel/sub (46.59k/46.59k flops)\n",
      "  PGD/update_rnn/multi_rnn_cell/cell_0/gru_cell/gates/kernel/mul_1 (46.59k/46.59k flops)\n",
      "  PGD/update_rnn/multi_rnn_cell/cell_0/gru_cell/gates/kernel/mul (46.59k/46.59k flops)\n",
      "  PGD/update_rnn/multi_rnn_cell/cell_0/gru_cell/gates/kernel/AssignSub (46.59k/46.59k flops)\n",
      "  PGD/update_rnn/multi_rnn_cell/cell_0/gru_cell/candidate/kernel/AssignSub (23.30k/23.30k flops)\n",
      "  PGD/update_rnn/multi_rnn_cell/cell_0/gru_cell/candidate/kernel/mul (23.30k/23.30k flops)\n",
      "  PGD/update_rnn/multi_rnn_cell/cell_0/gru_cell/candidate/kernel/mul_1 (23.30k/23.30k flops)\n",
      "  rnn/multi_rnn_cell/cell_0/gru_cell/candidate/kernel/Initializer/random_uniform/mul (23.30k/23.30k flops)\n",
      "  PGD/update_rnn/multi_rnn_cell/cell_0/gru_cell/candidate/kernel/sub (23.30k/23.30k flops)\n",
      "  rnn/multi_rnn_cell/cell_1/gru_cell/gates/kernel/Initializer/random_uniform/mul (6.14k/6.14k flops)\n",
      "  PGD/update_rnn/multi_rnn_cell/cell_1/gru_cell/gates/kernel/AssignSub (6.14k/6.14k flops)\n",
      "  PGD/update_rnn/multi_rnn_cell/cell_1/gru_cell/gates/kernel/mul (6.14k/6.14k flops)\n",
      "  PGD/update_rnn/multi_rnn_cell/cell_1/gru_cell/gates/kernel/mul_1 (6.14k/6.14k flops)\n",
      "  PGD/update_rnn/multi_rnn_cell/cell_1/gru_cell/gates/kernel/sub (6.14k/6.14k flops)\n",
      "  PGD/update_rnn/multi_rnn_cell/cell_1/gru_cell/candidate/kernel/mul_1 (3.07k/3.07k flops)\n",
      "  PGD/update_rnn/multi_rnn_cell/cell_1/gru_cell/candidate/kernel/mul (3.07k/3.07k flops)\n",
      "  PGD/update_rnn/multi_rnn_cell/cell_1/gru_cell/candidate/kernel/AssignSub (3.07k/3.07k flops)\n",
      "  PGD/update_rnn/multi_rnn_cell/cell_1/gru_cell/candidate/kernel/sub (3.07k/3.07k flops)\n",
      "  rnn/multi_rnn_cell/cell_1/gru_cell/candidate/kernel/Initializer/random_uniform/mul (3.07k/3.07k flops)\n",
      "  dense/kernel/Initializer/random_uniform/mul (2.05k/2.05k flops)\n",
      "  PGD/update_dense/kernel/sub (2.05k/2.05k flops)\n",
      "  PGD/update_dense/kernel/mul_1 (2.05k/2.05k flops)\n",
      "  PGD/update_dense/kernel/mul (2.05k/2.05k flops)\n",
      "  PGD/update_dense/kernel/AssignSub (2.05k/2.05k flops)\n",
      "  PGD/update_rnn/multi_rnn_cell/cell_0/gru_cell/gates/bias/AssignSub (128/128 flops)\n",
      "  PGD/update_rnn/multi_rnn_cell/cell_0/gru_cell/gates/bias/mul (128/128 flops)\n",
      "  PGD/update_rnn/multi_rnn_cell/cell_0/gru_cell/gates/bias/mul_1 (128/128 flops)\n",
      "  PGD/update_rnn/multi_rnn_cell/cell_0/gru_cell/gates/bias/sub (128/128 flops)\n",
      "  PGD/update_rnn/multi_rnn_cell/cell_1/gru_cell/gates/bias/AssignSub (64/64 flops)\n",
      "  PGD/update_rnn/multi_rnn_cell/cell_1/gru_cell/gates/bias/mul (64/64 flops)\n",
      "  PGD/update_rnn/multi_rnn_cell/cell_1/gru_cell/gates/bias/mul_1 (64/64 flops)\n",
      "  PGD/update_rnn/multi_rnn_cell/cell_1/gru_cell/gates/bias/sub (64/64 flops)\n",
      "  dense_1/kernel/Initializer/random_uniform/mul (64/64 flops)\n",
      "  PGD/update_dense/bias/mul (64/64 flops)\n",
      "  PGD/update_dense/bias/sub (64/64 flops)\n",
      "  PGD/update_dense/bias/mul_1 (64/64 flops)\n",
      "  PGD/update_dense/bias/AssignSub (64/64 flops)\n",
      "  PGD/update_rnn/multi_rnn_cell/cell_0/gru_cell/candidate/bias/sub (64/64 flops)\n",
      "  PGD/update_rnn/multi_rnn_cell/cell_0/gru_cell/candidate/bias/mul_1 (64/64 flops)\n",
      "  PGD/update_rnn/multi_rnn_cell/cell_0/gru_cell/candidate/bias/mul (64/64 flops)\n",
      "  PGD/update_rnn/multi_rnn_cell/cell_0/gru_cell/candidate/bias/AssignSub (64/64 flops)\n",
      "  PGD/update_dense_1/kernel/sub (64/64 flops)\n",
      "  PGD/update_dense_1/kernel/mul_1 (64/64 flops)\n",
      "  PGD/update_dense_1/kernel/mul (64/64 flops)\n",
      "  PGD/update_dense_1/kernel/AssignSub (64/64 flops)\n",
      "  PGD/update_rnn/multi_rnn_cell/cell_1/gru_cell/candidate/bias/mul_1 (32/32 flops)\n",
      "  PGD/update_rnn/multi_rnn_cell/cell_1/gru_cell/candidate/bias/sub (32/32 flops)\n",
      "  PGD/update_rnn/multi_rnn_cell/cell_1/gru_cell/candidate/bias/AssignSub (32/32 flops)\n",
      "  PGD/update_rnn/multi_rnn_cell/cell_1/gru_cell/candidate/bias/mul (32/32 flops)\n",
      "  sigmoid_cross_entropy_loss/num_present/broadcast_weights/assert_broadcastable/is_valid_shape/has_valid_nonscalar_shape/has_invalid_dims (1/1 flops)\n",
      "  sigmoid_cross_entropy_loss/num_present/broadcast_weights/assert_broadcastable/is_scalar (1/1 flops)\n",
      "  sigmoid_cross_entropy_loss/num_present/Equal (1/1 flops)\n",
      "  sigmoid_cross_entropy_loss/assert_broadcastable/is_valid_shape/has_valid_nonscalar_shape/is_same_rank (1/1 flops)\n",
      "  sigmoid_cross_entropy_loss/assert_broadcastable/is_valid_shape/has_valid_nonscalar_shape/has_invalid_dims (1/1 flops)\n",
      "  sigmoid_cross_entropy_loss/assert_broadcastable/is_scalar (1/1 flops)\n",
      "  rnn/while/Less_1 (1/1 flops)\n",
      "  rnn/while/Less (1/1 flops)\n",
      "  rnn/multi_rnn_cell/cell_1/gru_cell/gates/kernel/Initializer/random_uniform/sub (1/1 flops)\n",
      "  rnn/multi_rnn_cell/cell_1/gru_cell/candidate/kernel/Initializer/random_uniform/sub (1/1 flops)\n",
      "  sigmoid_cross_entropy_loss/num_present/broadcast_weights/assert_broadcastable/is_valid_shape/has_valid_nonscalar_shape/is_same_rank (1/1 flops)\n",
      "  rnn/multi_rnn_cell/cell_0/gru_cell/gates/kernel/Initializer/random_uniform/sub (1/1 flops)\n",
      "  rnn/multi_rnn_cell/cell_0/gru_cell/candidate/kernel/Initializer/random_uniform/sub (1/1 flops)\n",
      "  PGD/update_dense_1/bias/AssignSub (1/1 flops)\n",
      "  rnn/Minimum (1/1 flops)\n",
      "  rnn/Maximum (1/1 flops)\n",
      "  gradients/sigmoid_cross_entropy_loss/value_grad/mul (1/1 flops)\n",
      "  gradients/sigmoid_cross_entropy_loss/value_grad/Neg (1/1 flops)\n",
      "  gradients/Sub (1/1 flops)\n",
      "  gradients/GreaterEqual (1/1 flops)\n",
      "  dense_1/kernel/Initializer/random_uniform/sub (1/1 flops)\n",
      "  PGD/update_dense_1/bias/mul (1/1 flops)\n",
      "  dense/kernel/Initializer/random_uniform/sub (1/1 flops)\n",
      "  PGD/update_dense_1/bias/mul_1 (1/1 flops)\n",
      "  PGD/update_dense_1/bias/sub (1/1 flops)\n",
      "\n",
      "======================End of Report==========================\n",
      "772 Clients in Total\n",
      "81569 Parameters in Total\n"
     ]
    }
   ],
   "source": [
    "\"\"\"\n",
    "Some preparations\n",
    "\"\"\"\n",
    "\n",
    "# read data\n",
    "train_path = os.path.join('data', params['dataset'], 'data', 'train')\n",
    "test_path = os.path.join('data', params['dataset'], 'data', 'test')\n",
    "dataset = read_data(train_path, test_path)\n",
    "\n",
    "# Load model\n",
    "if params['dataset'].startswith('synthetic'):  # all synthetic datasets use the same model\n",
    "  model_path = '%s.%s.%s.%s' % ('flearn', 'models', 'synthetic', params['model'])\n",
    "elif params['dataset'].startswith('mnist'):\n",
    "  model_path = '%s.%s.%s.%s' % ('flearn', 'models', 'mnist', params['model'])\n",
    "else:\n",
    "  model_path = '%s.%s.%s.%s' % ('flearn', 'models', params['dataset'], params['model'])\n",
    "mod = importlib.import_module(model_path)\n",
    "learner = getattr(mod, 'Model')\n",
    "\n",
    "# Set seeds\n",
    "params['sklearn_seed'] = params['seed']\n",
    "random.seed(1 + params['seed'])\n",
    "np.random.seed(12 + params['seed'])\n",
    "tf.set_random_seed(123 + params['seed'])\n",
    "\n",
    "# Set server\n",
    "if params['optimizer'] == 'fedavg':\n",
    "  server = fedavg.Server(params, learner, dataset)  \n",
    "if params['optimizer'] == 'fedprox':\n",
    "  server = fedprox.Server(params, learner, dataset)\n",
    "if params['optimizer'] == 'grouprox':\n",
    "  server = grouprox.Server(params, learner, dataset)"
   ]
  },
  {
   "cell_type": "code",
   "execution_count": null,
   "metadata": {},
   "outputs": [],
   "source": [
    "\"\"\"\n",
    "Test Ternary Similarity\n",
    "\"\"\"\n",
    "#x, y = server.test_ternary_cosine_similariy()"
   ]
  },
  {
   "cell_type": "code",
   "execution_count": null,
   "metadata": {},
   "outputs": [],
   "source": [
    "\"\"\"\n",
    "import matplotlib.pyplot as plt\n",
    "plt.figure(figsize=(7,7))\n",
    "plt.scatter(x[:50000], y[:50000], linewidths=0.01, alpha=0.2, norm=True)\n",
    "plt.show()\n",
    "\"\"\""
   ]
  },
  {
   "cell_type": "code",
   "execution_count": 4,
   "metadata": {
    "scrolled": true
   },
   "outputs": [
    {
     "name": "stdout",
     "output_type": "stream",
     "text": [
      "Training with 20 workers ---\n",
      "WARNING:tensorflow:From /home/lab/workspace/GrouProx/flearn/models/sent140/stacked_gru.py:87: Variable.load (from tensorflow.python.ops.variables) is deprecated and will be removed in a future version.\n",
      "Instructions for updating:\n",
      "Prefer Variable.assign which has equivalent behavior in 2.X.\n"
     ]
    },
    {
     "name": "stderr",
     "output_type": "stream",
     "text": [
      "2021-11-01 12:18:53.806282: I tensorflow/stream_executor/cuda/cuda_blas.cc:1760] TensorFloat-32 will be used for the matrix multiplication. This will only be logged once.\n"
     ]
    },
    {
     "name": "stdout",
     "output_type": "stream",
     "text": [
      "At round 0 accuracy: 0.613036303630363\n",
      "At round 0 training accuracy: 0.5512321660181583\n",
      "At round 0 training loss: 0.695581448449235\n",
      "At round 0 Discrepancy: 0\n",
      "gradient difference: 0.8593350097529829\n"
     ]
    },
    {
     "name": "stderr",
     "output_type": "stream",
     "text": [
      "                                                      \r"
     ]
    },
    {
     "name": "stdout",
     "output_type": "stream",
     "text": [
      "At round 1 accuracy: 0.6100895803866101\n",
      "At round 1 training accuracy: 0.5040816326530613\n",
      "At round 1 training loss: 0.7067288722310747\n",
      "At round 1 Discrepancy: 1.1431233988661869\n",
      "gradient difference: 1.1704158667374747\n"
     ]
    },
    {
     "name": "stderr",
     "output_type": "stream",
     "text": [
      "                                                      \r"
     ]
    },
    {
     "name": "stdout",
     "output_type": "stream",
     "text": [
      "At round 2 accuracy: 0.5874587458745875\n",
      "At round 2 training accuracy: 0.6099865047233468\n",
      "At round 2 training loss: 0.6727080148884803\n",
      "At round 2 Discrepancy: 1.6419283449711277\n",
      "gradient difference: 1.8605427488238633\n"
     ]
    },
    {
     "name": "stderr",
     "output_type": "stream",
     "text": [
      "                                                      \r"
     ]
    },
    {
     "name": "stdout",
     "output_type": "stream",
     "text": [
      "At round 3 accuracy: 0.6208156529938709\n",
      "At round 3 training accuracy: 0.6657645466847091\n",
      "At round 3 training loss: 0.6293600007226244\n",
      "At round 3 Discrepancy: 1.1102255370958547\n",
      "gradient difference: 0.887803601556442\n"
     ]
    },
    {
     "name": "stderr",
     "output_type": "stream",
     "text": [
      "                                                      \r"
     ]
    },
    {
     "name": "stdout",
     "output_type": "stream",
     "text": [
      "At round 4 accuracy: 0.6214049976426214\n",
      "At round 4 training accuracy: 0.6694117647058824\n",
      "At round 4 training loss: 0.6230115753412246\n",
      "At round 4 Discrepancy: 1.2197283827405627\n",
      "gradient difference: 1.6904169700496567\n"
     ]
    },
    {
     "name": "stderr",
     "output_type": "stream",
     "text": [
      "                                                      \r"
     ]
    },
    {
     "name": "stdout",
     "output_type": "stream",
     "text": [
      "At round 5 accuracy: 0.6243517208863744\n",
      "At round 5 training accuracy: 0.6050420168067226\n",
      "At round 5 training loss: 0.8166470327297178\n",
      "At round 5 Discrepancy: 1.384330913255996\n",
      "gradient difference: 3.81217235010132\n"
     ]
    },
    {
     "name": "stderr",
     "output_type": "stream",
     "text": [
      "                                                      \r"
     ]
    },
    {
     "name": "stdout",
     "output_type": "stream",
     "text": [
      "At round 6 accuracy: 0.6261197548326262\n",
      "At round 6 training accuracy: 0.6581560283687943\n",
      "At round 6 training loss: 0.6206212311349016\n",
      "At round 6 Discrepancy: 1.3978535391614901\n",
      "gradient difference: 1.543953682140708\n"
     ]
    },
    {
     "name": "stderr",
     "output_type": "stream",
     "text": [
      "                                                      \r"
     ]
    },
    {
     "name": "stdout",
     "output_type": "stream",
     "text": [
      "At round 7 accuracy: 0.6232909005186232\n",
      "At round 7 training accuracy: 0.6105563480741797\n",
      "At round 7 training loss: 0.8156318114419466\n",
      "At round 7 Discrepancy: 1.399591325984948\n",
      "gradient difference: 2.801546654989576\n"
     ]
    },
    {
     "name": "stderr",
     "output_type": "stream",
     "text": [
      "                                                      \r"
     ]
    },
    {
     "name": "stdout",
     "output_type": "stream",
     "text": [
      "At round 8 accuracy: 0.6267090994813768\n",
      "At round 8 training accuracy: 0.6863207547169812\n",
      "At round 8 training loss: 0.6160869397715015\n",
      "At round 8 Discrepancy: 1.4906344804828886\n",
      "gradient difference: 2.58508304046888\n"
     ]
    },
    {
     "name": "stderr",
     "output_type": "stream",
     "text": [
      "                                                      \r"
     ]
    },
    {
     "name": "stdout",
     "output_type": "stream",
     "text": [
      "At round 9 accuracy: 0.6313059877416313\n",
      "At round 9 training accuracy: 0.5369649805447471\n",
      "At round 9 training loss: 1.0288161851958542\n",
      "At round 9 Discrepancy: 1.5974315141291542\n",
      "gradient difference: 3.37448838181379\n"
     ]
    },
    {
     "name": "stderr",
     "output_type": "stream",
     "text": [
      "                                                      \r"
     ]
    },
    {
     "name": "stdout",
     "output_type": "stream",
     "text": [
      "At round 10 accuracy: 0.5994813767090995\n",
      "At round 10 training accuracy: 0.5264586160108549\n",
      "At round 10 training loss: 0.7510032969219875\n",
      "At round 10 Discrepancy: 1.7222803302859528\n",
      "gradient difference: 4.793603096805671\n"
     ]
    },
    {
     "name": "stderr",
     "output_type": "stream",
     "text": [
      "                                                      \r"
     ]
    },
    {
     "name": "stdout",
     "output_type": "stream",
     "text": [
      "At round 11 accuracy: 0.6370815652993871\n",
      "At round 11 training accuracy: 0.709049255441008\n",
      "At round 11 training loss: 0.5878455399579335\n",
      "At round 11 Discrepancy: 1.718929986212613\n",
      "gradient difference: 3.762625052063113\n"
     ]
    },
    {
     "name": "stderr",
     "output_type": "stream",
     "text": [
      "                                                      \r"
     ]
    },
    {
     "name": "stdout",
     "output_type": "stream",
     "text": [
      "At round 12 accuracy: 0.6511079679396511\n",
      "At round 12 training accuracy: 0.6374045801526718\n",
      "At round 12 training loss: 0.783816375160642\n",
      "At round 12 Discrepancy: 1.884517271886707\n",
      "gradient difference: 8.022222053820947\n"
     ]
    },
    {
     "name": "stderr",
     "output_type": "stream",
     "text": [
      "                                                      \r"
     ]
    },
    {
     "name": "stdout",
     "output_type": "stream",
     "text": [
      "At round 13 accuracy: 0.5777934936350778\n",
      "At round 13 training accuracy: 0.5780141843971631\n",
      "At round 13 training loss: 0.7680565579210895\n",
      "At round 13 Discrepancy: 1.944506239482155\n",
      "gradient difference: 5.1528812189364634\n"
     ]
    },
    {
     "name": "stderr",
     "output_type": "stream",
     "text": [
      "                                                      \r"
     ]
    },
    {
     "name": "stdout",
     "output_type": "stream",
     "text": [
      "At round 14 accuracy: 0.6504007543611504\n",
      "At round 14 training accuracy: 0.7330037082818294\n",
      "At round 14 training loss: 0.5923550501926278\n",
      "At round 14 Discrepancy: 1.9609699916664471\n",
      "gradient difference: 7.894704868378204\n"
     ]
    },
    {
     "name": "stderr",
     "output_type": "stream",
     "text": [
      "                                                      \r"
     ]
    },
    {
     "name": "stdout",
     "output_type": "stream",
     "text": [
      "At round 15 accuracy: 0.6553512494106554\n",
      "At round 15 training accuracy: 0.7415881561238223\n",
      "At round 15 training loss: 0.6694696265426971\n",
      "At round 15 Discrepancy: 1.9069959929186258\n",
      "gradient difference: 9.817278282651094\n"
     ]
    },
    {
     "name": "stderr",
     "output_type": "stream",
     "text": [
      "                                                      \r"
     ]
    },
    {
     "name": "stdout",
     "output_type": "stream",
     "text": [
      "At round 16 accuracy: 0.6348420556341349\n",
      "At round 16 training accuracy: 0.6507503410641201\n",
      "At round 16 training loss: 0.7304371640513083\n",
      "At round 16 Discrepancy: 1.93596463313329\n",
      "gradient difference: 7.500558704649271\n"
     ]
    },
    {
     "name": "stderr",
     "output_type": "stream",
     "text": [
      "                                                      \r"
     ]
    },
    {
     "name": "stdout",
     "output_type": "stream",
     "text": [
      "At round 17 accuracy: 0.6435643564356436\n",
      "At round 17 training accuracy: 0.6589958158995816\n",
      "At round 17 training loss: 0.7375869617707809\n",
      "At round 17 Discrepancy: 1.803799562676107\n",
      "gradient difference: 10.014669012362702\n"
     ]
    },
    {
     "name": "stderr",
     "output_type": "stream",
     "text": [
      "                                                      \r"
     ]
    },
    {
     "name": "stdout",
     "output_type": "stream",
     "text": [
      "At round 18 accuracy: 0.6633663366336634\n",
      "At round 18 training accuracy: 0.6501340482573726\n",
      "At round 18 training loss: 0.8602577197407909\n",
      "At round 18 Discrepancy: 2.1964813903787013\n",
      "gradient difference: 7.973361202519885\n"
     ]
    },
    {
     "name": "stderr",
     "output_type": "stream",
     "text": [
      "                                                      \r"
     ]
    },
    {
     "name": "stdout",
     "output_type": "stream",
     "text": [
      "At round 19 accuracy: 0.636963696369637\n",
      "At round 19 training accuracy: 0.6401308615049073\n",
      "At round 19 training loss: 0.7870244626910502\n",
      "At round 19 Discrepancy: 2.0304884013267412\n",
      "gradient difference: 7.709989601751167\n"
     ]
    },
    {
     "name": "stderr",
     "output_type": "stream",
     "text": [
      "                                                      \r"
     ]
    },
    {
     "name": "stdout",
     "output_type": "stream",
     "text": [
      "At round 20 accuracy: 0.6526402640264026\n",
      "At round 20 training accuracy: 0.7303370786516854\n",
      "At round 20 training loss: 0.6700878986035393\n",
      "At round 20 Discrepancy: 1.9761959408220542\n",
      "gradient difference: 8.578678644177778\n"
     ]
    },
    {
     "name": "stderr",
     "output_type": "stream",
     "text": [
      "                                                      \r"
     ]
    },
    {
     "name": "stdout",
     "output_type": "stream",
     "text": [
      "At round 21 accuracy: 0.6368458274398868\n",
      "At round 21 training accuracy: 0.6931677018633541\n",
      "At round 21 training loss: 0.6923409407368358\n",
      "At round 21 Discrepancy: 2.026083194707186\n",
      "gradient difference: 8.963000500702273\n"
     ]
    },
    {
     "name": "stderr",
     "output_type": "stream",
     "text": [
      "                                                      \r"
     ]
    },
    {
     "name": "stdout",
     "output_type": "stream",
     "text": [
      "At round 22 accuracy: 0.6614804337576615\n",
      "At round 22 training accuracy: 0.75\n",
      "At round 22 training loss: 0.6245101477625516\n",
      "At round 22 Discrepancy: 1.9469976724029827\n",
      "gradient difference: 10.302780368152042\n"
     ]
    },
    {
     "name": "stderr",
     "output_type": "stream",
     "text": [
      "                                                      \r"
     ]
    },
    {
     "name": "stdout",
     "output_type": "stream",
     "text": [
      "At round 23 accuracy: 0.6555869872701556\n",
      "At round 23 training accuracy: 0.6750700280112045\n",
      "At round 23 training loss: 0.8198910410455963\n",
      "At round 23 Discrepancy: 1.7948548388292669\n",
      "gradient difference: 11.362593532334639\n"
     ]
    },
    {
     "name": "stderr",
     "output_type": "stream",
     "text": [
      "                                                      \r"
     ]
    },
    {
     "name": "stdout",
     "output_type": "stream",
     "text": [
      "At round 24 accuracy: 0.6528760018859029\n",
      "At round 24 training accuracy: 0.7637795275590551\n",
      "At round 24 training loss: 0.5961682660495398\n",
      "At round 24 Discrepancy: 1.990832386665011\n",
      "gradient difference: 9.20328724427488\n"
     ]
    },
    {
     "name": "stderr",
     "output_type": "stream",
     "text": [
      "                                                      \r"
     ]
    },
    {
     "name": "stdout",
     "output_type": "stream",
     "text": [
      "At round 25 accuracy: 0.6615983026874116\n",
      "At round 25 training accuracy: 0.652962515114873\n",
      "At round 25 training loss: 0.8218970313181756\n",
      "At round 25 Discrepancy: 1.8430127716928777\n",
      "gradient difference: 11.141865870720276\n"
     ]
    },
    {
     "name": "stderr",
     "output_type": "stream",
     "text": [
      "                                                      \r"
     ]
    },
    {
     "name": "stdout",
     "output_type": "stream",
     "text": [
      "At round 26 accuracy: 0.6473361621876473\n",
      "At round 26 training accuracy: 0.699873896595208\n",
      "At round 26 training loss: 0.6725919634892992\n",
      "At round 26 Discrepancy: 2.319589767799081\n",
      "gradient difference: 7.820534427831079\n"
     ]
    },
    {
     "name": "stderr",
     "output_type": "stream",
     "text": [
      "                                                      \r"
     ]
    },
    {
     "name": "stdout",
     "output_type": "stream",
     "text": [
      "At round 27 accuracy: 0.6564120697784064\n",
      "At round 27 training accuracy: 0.6496969696969697\n",
      "At round 27 training loss: 1.0798007121591857\n",
      "At round 27 Discrepancy: 1.8231508844345783\n",
      "gradient difference: 11.292301384791791\n"
     ]
    },
    {
     "name": "stderr",
     "output_type": "stream",
     "text": [
      "                                                      \r"
     ]
    },
    {
     "name": "stdout",
     "output_type": "stream",
     "text": [
      "At round 28 accuracy: 0.6485148514851485\n",
      "At round 28 training accuracy: 0.6221562809099901\n",
      "At round 28 training loss: 0.7367492612344457\n",
      "At round 28 Discrepancy: 2.1615255773624265\n",
      "gradient difference: 5.020793515434476\n"
     ]
    },
    {
     "name": "stderr",
     "output_type": "stream",
     "text": [
      "                                                      \r"
     ]
    },
    {
     "name": "stdout",
     "output_type": "stream",
     "text": [
      "At round 29 accuracy: 0.6640735502121641\n",
      "At round 29 training accuracy: 0.7107061503416856\n",
      "At round 29 training loss: 0.8189859299629859\n",
      "At round 29 Discrepancy: 1.7186139396891966\n",
      "gradient difference: 14.191117149105187\n"
     ]
    },
    {
     "name": "stderr",
     "output_type": "stream",
     "text": [
      "                                                      \r"
     ]
    },
    {
     "name": "stdout",
     "output_type": "stream",
     "text": [
      "At round 30 accuracy: 0.666077322017916\n",
      "At round 30 training accuracy: 0.7319062181447502\n",
      "At round 30 training loss: 0.7337640545062273\n",
      "At round 30 Discrepancy: 2.4225326915569347\n",
      "gradient difference: 7.445570334545077\n"
     ]
    },
    {
     "name": "stderr",
     "output_type": "stream",
     "text": [
      "                                                      \r"
     ]
    },
    {
     "name": "stdout",
     "output_type": "stream",
     "text": [
      "At round 31 accuracy: 0.6328382838283828\n",
      "At round 31 training accuracy: 0.6850068775790922\n",
      "At round 31 training loss: 0.6691035748019999\n",
      "At round 31 Discrepancy: 2.218694657510288\n",
      "gradient difference: 8.045365409223601\n"
     ]
    },
    {
     "name": "stderr",
     "output_type": "stream",
     "text": [
      "                                                      \r"
     ]
    },
    {
     "name": "stdout",
     "output_type": "stream",
     "text": [
      "At round 32 accuracy: 0.6546440358321547\n",
      "At round 32 training accuracy: 0.6569086651053864\n",
      "At round 32 training loss: 1.042384213826835\n",
      "At round 32 Discrepancy: 1.772365973349227\n",
      "gradient difference: 13.406053470352886\n"
     ]
    },
    {
     "name": "stderr",
     "output_type": "stream",
     "text": [
      "                                                      \r"
     ]
    },
    {
     "name": "stdout",
     "output_type": "stream",
     "text": [
      "At round 33 accuracy: 0.6562942008486563\n",
      "At round 33 training accuracy: 0.6141479099678456\n",
      "At round 33 training loss: 0.9297316683993334\n",
      "At round 33 Discrepancy: 2.4843535083058113\n",
      "gradient difference: 7.005191165185546\n"
     ]
    },
    {
     "name": "stderr",
     "output_type": "stream",
     "text": [
      "                                                      \r"
     ]
    },
    {
     "name": "stdout",
     "output_type": "stream",
     "text": [
      "At round 34 accuracy: 0.6617161716171617\n",
      "At round 34 training accuracy: 0.6677181913774973\n",
      "At round 34 training loss: 0.8247757183640537\n",
      "At round 34 Discrepancy: 1.7748540512670037\n",
      "gradient difference: 10.130375844975426\n"
     ]
    },
    {
     "name": "stderr",
     "output_type": "stream",
     "text": [
      "                                                      \r"
     ]
    },
    {
     "name": "stdout",
     "output_type": "stream",
     "text": [
      "At round 35 accuracy: 0.655940594059406\n",
      "At round 35 training accuracy: 0.671414038657172\n",
      "At round 35 training loss: 0.948949081514368\n",
      "At round 35 Discrepancy: 2.5561915688553007\n",
      "gradient difference: 10.971244906606445\n"
     ]
    },
    {
     "name": "stderr",
     "output_type": "stream",
     "text": [
      "                                                      \r"
     ]
    },
    {
     "name": "stdout",
     "output_type": "stream",
     "text": [
      "At round 36 accuracy: 0.6601838755304101\n",
      "At round 36 training accuracy: 0.702013422818792\n",
      "At round 36 training loss: 0.8474622548410932\n",
      "At round 36 Discrepancy: 2.01521937029208\n",
      "gradient difference: 11.780433645143402\n"
     ]
    },
    {
     "name": "stderr",
     "output_type": "stream",
     "text": [
      "                                                      \r"
     ]
    },
    {
     "name": "stdout",
     "output_type": "stream",
     "text": [
      "At round 37 accuracy: 0.6572371522866572\n",
      "At round 37 training accuracy: 0.691415313225058\n",
      "At round 37 training loss: 0.8678892121991691\n",
      "At round 37 Discrepancy: 1.771529196251155\n",
      "gradient difference: 13.196536938424083\n"
     ]
    },
    {
     "name": "stderr",
     "output_type": "stream",
     "text": [
      "                                                      \r"
     ]
    },
    {
     "name": "stdout",
     "output_type": "stream",
     "text": [
      "At round 38 accuracy: 0.6673738802451674\n",
      "At round 38 training accuracy: 0.6803185437997725\n",
      "At round 38 training loss: 0.9905757444473121\n",
      "At round 38 Discrepancy: 1.8537042666900905\n",
      "gradient difference: 12.19801625716039\n"
     ]
    },
    {
     "name": "stderr",
     "output_type": "stream",
     "text": [
      "                                                      \r"
     ]
    },
    {
     "name": "stdout",
     "output_type": "stream",
     "text": [
      "At round 39 accuracy: 0.6658415841584159\n",
      "At round 39 training accuracy: 0.6544566544566545\n",
      "At round 39 training loss: 0.9901860854855679\n",
      "At round 39 Discrepancy: 2.313282351379677\n",
      "gradient difference: 10.622968960653612\n"
     ]
    },
    {
     "name": "stderr",
     "output_type": "stream",
     "text": [
      "                                                      \r"
     ]
    },
    {
     "name": "stdout",
     "output_type": "stream",
     "text": [
      "At round 40 accuracy: 0.6492220650636492\n",
      "At round 40 training accuracy: 0.6824324324324325\n",
      "At round 40 training loss: 0.8985425470648585\n",
      "At round 40 Discrepancy: 2.2187496203415393\n",
      "gradient difference: 11.41489796123253\n"
     ]
    },
    {
     "name": "stderr",
     "output_type": "stream",
     "text": [
      "                                                      \r"
     ]
    },
    {
     "name": "stdout",
     "output_type": "stream",
     "text": [
      "At round 41 accuracy: 0.6528760018859029\n",
      "At round 41 training accuracy: 0.6963503649635037\n",
      "At round 41 training loss: 0.8587785264436346\n",
      "At round 41 Discrepancy: 1.9341808813121968\n",
      "gradient difference: 12.016819542969735\n"
     ]
    },
    {
     "name": "stderr",
     "output_type": "stream",
     "text": [
      "                                                      \r"
     ]
    },
    {
     "name": "stdout",
     "output_type": "stream",
     "text": [
      "At round 42 accuracy: 0.6646628948609147\n",
      "At round 42 training accuracy: 0.6849112426035503\n",
      "At round 42 training loss: 0.7855039896476551\n",
      "At round 42 Discrepancy: 2.176194707875589\n",
      "gradient difference: 9.039317626561212\n"
     ]
    },
    {
     "name": "stderr",
     "output_type": "stream",
     "text": [
      "                                                      \r"
     ]
    },
    {
     "name": "stdout",
     "output_type": "stream",
     "text": [
      "At round 43 accuracy: 0.667963224893918\n",
      "At round 43 training accuracy: 0.6695402298850575\n",
      "At round 43 training loss: 0.8645043005289017\n",
      "At round 43 Discrepancy: 1.7612563051989967\n",
      "gradient difference: 9.548082260833803\n"
     ]
    },
    {
     "name": "stderr",
     "output_type": "stream",
     "text": [
      "                                                      \r"
     ]
    },
    {
     "name": "stdout",
     "output_type": "stream",
     "text": [
      "At round 44 accuracy: 0.6760961810466761\n",
      "At round 44 training accuracy: 0.6161849710982659\n",
      "At round 44 training loss: 1.152160061956141\n",
      "At round 44 Discrepancy: 1.793203935731905\n",
      "gradient difference: 10.475659257284399\n"
     ]
    },
    {
     "name": "stderr",
     "output_type": "stream",
     "text": [
      "                                                      \r"
     ]
    },
    {
     "name": "stdout",
     "output_type": "stream",
     "text": [
      "At round 45 accuracy: 0.6397925506836398\n",
      "At round 45 training accuracy: 0.6506447831184057\n",
      "At round 45 training loss: 0.9677138726848231\n",
      "At round 45 Discrepancy: 2.069945816944668\n",
      "gradient difference: 13.20900350708371\n"
     ]
    },
    {
     "name": "stderr",
     "output_type": "stream",
     "text": [
      "                                                      \r"
     ]
    },
    {
     "name": "stdout",
     "output_type": "stream",
     "text": [
      "At round 46 accuracy: 0.6759783121169259\n",
      "At round 46 training accuracy: 0.7326589595375722\n",
      "At round 46 training loss: 0.8000871104570483\n",
      "At round 46 Discrepancy: 2.129406856230024\n",
      "gradient difference: 10.547244662163438\n"
     ]
    },
    {
     "name": "stderr",
     "output_type": "stream",
     "text": [
      "                                                      \r"
     ]
    },
    {
     "name": "stdout",
     "output_type": "stream",
     "text": [
      "At round 47 accuracy: 0.6793965110796794\n",
      "At round 47 training accuracy: 0.6924157303370787\n",
      "At round 47 training loss: 0.8238849829087097\n",
      "At round 47 Discrepancy: 1.9167750674526107\n",
      "gradient difference: 9.185058340944241\n"
     ]
    },
    {
     "name": "stderr",
     "output_type": "stream",
     "text": [
      "                                                      \r"
     ]
    },
    {
     "name": "stdout",
     "output_type": "stream",
     "text": [
      "At round 48 accuracy: 0.6763319189061763\n",
      "At round 48 training accuracy: 0.7029702970297029\n",
      "At round 48 training loss: 0.9451283029421553\n",
      "At round 48 Discrepancy: 1.8375734468853566\n",
      "gradient difference: 10.297212584005715\n"
     ]
    },
    {
     "name": "stderr",
     "output_type": "stream",
     "text": [
      "                                                      \r"
     ]
    },
    {
     "name": "stdout",
     "output_type": "stream",
     "text": [
      "At round 49 accuracy: 0.6814002828854314\n",
      "At round 49 training accuracy: 0.7570564516129032\n",
      "At round 49 training loss: 0.7131160645024671\n",
      "At round 49 Discrepancy: 2.069601393431463\n",
      "gradient difference: 8.518277650780432\n"
     ]
    },
    {
     "name": "stderr",
     "output_type": "stream",
     "text": [
      "                                                      \r"
     ]
    },
    {
     "name": "stdout",
     "output_type": "stream",
     "text": [
      "At round 50 accuracy: 0.6797501178689298\n",
      "At round 50 training accuracy: 0.7243852459016393\n",
      "At round 50 training loss: 0.7757898770868168\n",
      "At round 50 Discrepancy: 2.0465689880919045\n",
      "gradient difference: 9.38302478122457\n"
     ]
    },
    {
     "name": "stderr",
     "output_type": "stream",
     "text": [
      "                                                      \r"
     ]
    },
    {
     "name": "stdout",
     "output_type": "stream",
     "text": [
      "At round 51 accuracy: 0.6696133899104196\n",
      "At round 51 training accuracy: 0.6764275256222547\n",
      "At round 51 training loss: 0.9116779913141299\n",
      "At round 51 Discrepancy: 2.0761112139644564\n",
      "gradient difference: 13.405186430809469\n"
     ]
    },
    {
     "name": "stderr",
     "output_type": "stream",
     "text": [
      "                                                      \r"
     ]
    },
    {
     "name": "stdout",
     "output_type": "stream",
     "text": [
      "At round 52 accuracy: 0.6780999528524281\n",
      "At round 52 training accuracy: 0.6492622020431328\n",
      "At round 52 training loss: 1.0012945982032413\n",
      "At round 52 Discrepancy: 2.220348278863805\n",
      "gradient difference: 8.319944049236565\n"
     ]
    },
    {
     "name": "stderr",
     "output_type": "stream",
     "text": [
      "                                                      \r"
     ]
    },
    {
     "name": "stdout",
     "output_type": "stream",
     "text": [
      "At round 53 accuracy: 0.6828147100424328\n",
      "At round 53 training accuracy: 0.717391304347826\n",
      "At round 53 training loss: 0.7457992820636086\n",
      "At round 53 Discrepancy: 2.162135026446582\n",
      "gradient difference: 7.93462518228885\n"
     ]
    },
    {
     "name": "stderr",
     "output_type": "stream",
     "text": [
      "                                                      \r"
     ]
    },
    {
     "name": "stdout",
     "output_type": "stream",
     "text": [
      "At round 54 accuracy: 0.6815181518151815\n",
      "At round 54 training accuracy: 0.6398929049531459\n",
      "At round 54 training loss: 0.9125001087804715\n",
      "At round 54 Discrepancy: 2.000030274445103\n",
      "gradient difference: 6.789577782969067\n"
     ]
    },
    {
     "name": "stderr",
     "output_type": "stream",
     "text": [
      "                                                      \r"
     ]
    },
    {
     "name": "stdout",
     "output_type": "stream",
     "text": [
      "At round 55 accuracy: 0.6770391324846771\n",
      "At round 55 training accuracy: 0.7098560354374308\n",
      "At round 55 training loss: 0.9452199514249828\n",
      "At round 55 Discrepancy: 1.8074910673584692\n",
      "gradient difference: 9.19367373853605\n"
     ]
    },
    {
     "name": "stderr",
     "output_type": "stream",
     "text": [
      "                                                      \r"
     ]
    },
    {
     "name": "stdout",
     "output_type": "stream",
     "text": [
      "At round 56 accuracy: 0.6773927392739274\n",
      "At round 56 training accuracy: 0.6737891737891738\n",
      "At round 56 training loss: 0.9429943033433028\n",
      "At round 56 Discrepancy: 1.9617048102284849\n",
      "gradient difference: 8.32862273844336\n"
     ]
    },
    {
     "name": "stderr",
     "output_type": "stream",
     "text": [
      "                                                      \r"
     ]
    },
    {
     "name": "stdout",
     "output_type": "stream",
     "text": [
      "At round 57 accuracy: 0.6577086280056577\n",
      "At round 57 training accuracy: 0.7330791229742613\n",
      "At round 57 training loss: 0.7063216033211427\n",
      "At round 57 Discrepancy: 1.9467390405453422\n",
      "gradient difference: 8.48741002880819\n"
     ]
    },
    {
     "name": "stderr",
     "output_type": "stream",
     "text": [
      "                                                      \r"
     ]
    },
    {
     "name": "stdout",
     "output_type": "stream",
     "text": [
      "At round 58 accuracy: 0.6863507779349364\n",
      "At round 58 training accuracy: 0.7390350877192983\n",
      "At round 58 training loss: 0.83884121946533\n",
      "At round 58 Discrepancy: 1.962296687474979\n",
      "gradient difference: 10.112985415816576\n"
     ]
    },
    {
     "name": "stderr",
     "output_type": "stream",
     "text": [
      "                                                      \r"
     ]
    },
    {
     "name": "stdout",
     "output_type": "stream",
     "text": [
      "At round 59 accuracy: 0.6852899575671852\n",
      "At round 59 training accuracy: 0.6950146627565983\n",
      "At round 59 training loss: 0.9973396156802555\n",
      "At round 59 Discrepancy: 2.0883536050589013\n",
      "gradient difference: 10.38779176910702\n"
     ]
    },
    {
     "name": "stderr",
     "output_type": "stream",
     "text": [
      "                                                      \r"
     ]
    },
    {
     "name": "stdout",
     "output_type": "stream",
     "text": [
      "At round 60 accuracy: 0.6765676567656765\n",
      "At round 60 training accuracy: 0.7091675447839831\n",
      "At round 60 training loss: 0.786552568789654\n",
      "At round 60 Discrepancy: 1.9626414268972936\n",
      "gradient difference: 8.324229185961512\n"
     ]
    },
    {
     "name": "stderr",
     "output_type": "stream",
     "text": [
      "                                                      \r"
     ]
    },
    {
     "name": "stdout",
     "output_type": "stream",
     "text": [
      "At round 61 accuracy: 0.6894153701084395\n",
      "At round 61 training accuracy: 0.7071742313323572\n",
      "At round 61 training loss: 0.9133748596221875\n",
      "At round 61 Discrepancy: 1.9278149286038193\n",
      "gradient difference: 9.668143877959668\n"
     ]
    },
    {
     "name": "stderr",
     "output_type": "stream",
     "text": [
      "                                                      \r"
     ]
    },
    {
     "name": "stdout",
     "output_type": "stream",
     "text": [
      "At round 62 accuracy: 0.6745638849599246\n",
      "At round 62 training accuracy: 0.6537250786988458\n",
      "At round 62 training loss: 1.013501759684974\n",
      "At round 62 Discrepancy: 1.888882223383591\n",
      "gradient difference: 7.867456353796686\n"
     ]
    },
    {
     "name": "stderr",
     "output_type": "stream",
     "text": [
      "                                                      \r"
     ]
    },
    {
     "name": "stdout",
     "output_type": "stream",
     "text": [
      "At round 63 accuracy: 0.6809288071664309\n",
      "At round 63 training accuracy: 0.6923076923076923\n",
      "At round 63 training loss: 0.8743767367477157\n",
      "At round 63 Discrepancy: 2.1198803930648786\n",
      "gradient difference: 9.985496423162209\n"
     ]
    },
    {
     "name": "stderr",
     "output_type": "stream",
     "text": [
      "                                                      \r"
     ]
    },
    {
     "name": "stdout",
     "output_type": "stream",
     "text": [
      "At round 64 accuracy: 0.6815181518151815\n",
      "At round 64 training accuracy: 0.6954674220963173\n",
      "At round 64 training loss: 0.8847272201697144\n",
      "At round 64 Discrepancy: 2.0789499326074785\n",
      "gradient difference: 9.081031903868656\n"
     ]
    },
    {
     "name": "stderr",
     "output_type": "stream",
     "text": [
      "                                                      \r"
     ]
    },
    {
     "name": "stdout",
     "output_type": "stream",
     "text": [
      "At round 65 accuracy: 0.6841112682696842\n",
      "At round 65 training accuracy: 0.6974789915966386\n",
      "At round 65 training loss: 0.8076328796123257\n",
      "At round 65 Discrepancy: 1.7779394738730705\n",
      "gradient difference: 8.23953327995688\n"
     ]
    },
    {
     "name": "stderr",
     "output_type": "stream",
     "text": [
      "                                                      \r"
     ]
    },
    {
     "name": "stdout",
     "output_type": "stream",
     "text": [
      "At round 66 accuracy: 0.6811645450259312\n",
      "At round 66 training accuracy: 0.7108262108262108\n",
      "At round 66 training loss: 0.7809126530787205\n",
      "At round 66 Discrepancy: 1.923958695556586\n",
      "gradient difference: 7.701508242688688\n"
     ]
    },
    {
     "name": "stderr",
     "output_type": "stream",
     "text": [
      "                                                      \r"
     ]
    },
    {
     "name": "stdout",
     "output_type": "stream",
     "text": [
      "At round 67 accuracy: 0.6738566713814239\n",
      "At round 67 training accuracy: 0.7095375722543352\n",
      "At round 67 training loss: 0.6949977870449165\n",
      "At round 67 Discrepancy: 2.138586874953634\n",
      "gradient difference: 6.6462303730968175\n"
     ]
    },
    {
     "name": "stderr",
     "output_type": "stream",
     "text": [
      "                                                      \r"
     ]
    },
    {
     "name": "stdout",
     "output_type": "stream",
     "text": [
      "At round 68 accuracy: 0.6845827439886846\n",
      "At round 68 training accuracy: 0.714765100671141\n",
      "At round 68 training loss: 0.8264016473761674\n",
      "At round 68 Discrepancy: 1.614686005076959\n",
      "gradient difference: 8.713018739294787\n"
     ]
    },
    {
     "name": "stderr",
     "output_type": "stream",
     "text": [
      "                                                      \r"
     ]
    },
    {
     "name": "stdout",
     "output_type": "stream",
     "text": [
      "At round 69 accuracy: 0.6925978312116926\n",
      "At round 69 training accuracy: 0.652962515114873\n",
      "At round 69 training loss: 0.9796481433053115\n",
      "At round 69 Discrepancy: 2.0216420376545456\n",
      "gradient difference: 8.13389638262388\n"
     ]
    },
    {
     "name": "stderr",
     "output_type": "stream",
     "text": [
      "                                                      \r"
     ]
    },
    {
     "name": "stdout",
     "output_type": "stream",
     "text": [
      "At round 70 accuracy: 0.6760961810466761\n",
      "At round 70 training accuracy: 0.6864501679731243\n",
      "At round 70 training loss: 0.9315151268030201\n",
      "At round 70 Discrepancy: 1.9295653761580929\n",
      "gradient difference: 9.932797664598262\n"
     ]
    },
    {
     "name": "stderr",
     "output_type": "stream",
     "text": [
      "                                                      \r"
     ]
    },
    {
     "name": "stdout",
     "output_type": "stream",
     "text": [
      "At round 71 accuracy: 0.6852899575671852\n",
      "At round 71 training accuracy: 0.7601895734597156\n",
      "At round 71 training loss: 0.7047752758196745\n",
      "At round 71 Discrepancy: 2.0780449464173225\n",
      "gradient difference: 9.516227217477963\n"
     ]
    },
    {
     "name": "stderr",
     "output_type": "stream",
     "text": [
      "                                                      \r"
     ]
    },
    {
     "name": "stdout",
     "output_type": "stream",
     "text": [
      "At round 72 accuracy: 0.6942479962281942\n",
      "At round 72 training accuracy: 0.7137546468401487\n",
      "At round 72 training loss: 0.9931994530348086\n",
      "At round 72 Discrepancy: 1.9621397443978001\n",
      "gradient difference: 10.499159137015296\n"
     ]
    },
    {
     "name": "stderr",
     "output_type": "stream",
     "text": [
      "                                                      \r"
     ]
    },
    {
     "name": "stdout",
     "output_type": "stream",
     "text": [
      "At round 73 accuracy: 0.6855256954266855\n",
      "At round 73 training accuracy: 0.7298387096774194\n",
      "At round 73 training loss: 0.740831284330637\n",
      "At round 73 Discrepancy: 2.04131533005466\n",
      "gradient difference: 7.397197220101033\n"
     ]
    },
    {
     "name": "stderr",
     "output_type": "stream",
     "text": [
      "                                                      \r"
     ]
    },
    {
     "name": "stdout",
     "output_type": "stream",
     "text": [
      "At round 74 accuracy: 0.6850542197076851\n",
      "At round 74 training accuracy: 0.6575342465753424\n",
      "At round 74 training loss: 0.9116671829116745\n",
      "At round 74 Discrepancy: 1.792623969020917\n",
      "gradient difference: 7.473548101339818\n"
     ]
    },
    {
     "name": "stderr",
     "output_type": "stream",
     "text": [
      "                                                      \r"
     ]
    },
    {
     "name": "stdout",
     "output_type": "stream",
     "text": [
      "At round 75 accuracy: 0.6538189533239038\n",
      "At round 75 training accuracy: 0.7050359712230215\n",
      "At round 75 training loss: 0.7785609038001097\n",
      "At round 75 Discrepancy: 2.0048618530286895\n",
      "gradient difference: 9.055592747957814\n"
     ]
    },
    {
     "name": "stderr",
     "output_type": "stream",
     "text": [
      "                                                      \r"
     ]
    },
    {
     "name": "stdout",
     "output_type": "stream",
     "text": [
      "At round 76 accuracy: 0.6848184818481848\n",
      "At round 76 training accuracy: 0.7176913425345044\n",
      "At round 76 training loss: 0.7319278695726933\n",
      "At round 76 Discrepancy: 2.305462562372621\n",
      "gradient difference: 6.816542202004297\n"
     ]
    },
    {
     "name": "stderr",
     "output_type": "stream",
     "text": [
      "                                                      \r"
     ]
    },
    {
     "name": "stdout",
     "output_type": "stream",
     "text": [
      "At round 77 accuracy: 0.6883545497406883\n",
      "At round 77 training accuracy: 0.7432098765432099\n",
      "At round 77 training loss: 0.77048676536407\n",
      "At round 77 Discrepancy: 1.7815443521824652\n",
      "gradient difference: 8.253149066434322\n"
     ]
    },
    {
     "name": "stderr",
     "output_type": "stream",
     "text": [
      "                                                      \r"
     ]
    },
    {
     "name": "stdout",
     "output_type": "stream",
     "text": [
      "At round 78 accuracy: 0.688000942951438\n",
      "At round 78 training accuracy: 0.6578341013824884\n",
      "At round 78 training loss: 1.1832440936946511\n",
      "At round 78 Discrepancy: 2.0567343131520572\n",
      "gradient difference: 8.473121930180895\n"
     ]
    },
    {
     "name": "stderr",
     "output_type": "stream",
     "text": [
      "                                                      \r"
     ]
    },
    {
     "name": "stdout",
     "output_type": "stream",
     "text": [
      "At round 79 accuracy: 0.6724422442244224\n",
      "At round 79 training accuracy: 0.6871657754010695\n",
      "At round 79 training loss: 0.8899347466581008\n",
      "At round 79 Discrepancy: 2.030232966705065\n",
      "gradient difference: 10.329113486382024\n"
     ]
    },
    {
     "name": "stderr",
     "output_type": "stream",
     "text": [
      "                                                      \r"
     ]
    },
    {
     "name": "stdout",
     "output_type": "stream",
     "text": [
      "At round 80 accuracy: 0.6925978312116926\n",
      "At round 80 training accuracy: 0.6783042394014963\n",
      "At round 80 training loss: 0.9838654855986189\n",
      "At round 80 Discrepancy: 1.8569163449901194\n",
      "gradient difference: 8.018544229249411\n"
     ]
    },
    {
     "name": "stderr",
     "output_type": "stream",
     "text": [
      "                                                      \r"
     ]
    },
    {
     "name": "stdout",
     "output_type": "stream",
     "text": [
      "At round 81 accuracy: 0.6901225836869401\n",
      "At round 81 training accuracy: 0.7218045112781954\n",
      "At round 81 training loss: 0.7057017268225513\n",
      "At round 81 Discrepancy: 1.884670744611728\n",
      "gradient difference: 6.358336682185727\n"
     ]
    },
    {
     "name": "stderr",
     "output_type": "stream",
     "text": [
      "                                                      \r"
     ]
    },
    {
     "name": "stdout",
     "output_type": "stream",
     "text": [
      "At round 82 accuracy: 0.6943658651579444\n",
      "At round 82 training accuracy: 0.6793478260869565\n",
      "At round 82 training loss: 0.9173710019773115\n",
      "At round 82 Discrepancy: 1.78492842281541\n",
      "gradient difference: 7.846879633415917\n"
     ]
    },
    {
     "name": "stderr",
     "output_type": "stream",
     "text": [
      "                                                      \r"
     ]
    },
    {
     "name": "stdout",
     "output_type": "stream",
     "text": [
      "At round 83 accuracy: 0.6775106082036775\n",
      "At round 83 training accuracy: 0.6972477064220184\n",
      "At round 83 training loss: 0.7958352016980808\n",
      "At round 83 Discrepancy: 2.266348984599967\n",
      "gradient difference: 7.529458289584383\n"
     ]
    },
    {
     "name": "stderr",
     "output_type": "stream",
     "text": [
      "                                                      \r"
     ]
    },
    {
     "name": "stdout",
     "output_type": "stream",
     "text": [
      "At round 84 accuracy: 0.692008486562942\n",
      "At round 84 training accuracy: 0.7228661749209695\n",
      "At round 84 training loss: 0.7547829361873883\n",
      "At round 84 Discrepancy: 1.809900665711779\n",
      "gradient difference: 6.827168992504763\n"
     ]
    },
    {
     "name": "stderr",
     "output_type": "stream",
     "text": [
      "                                                      \r"
     ]
    },
    {
     "name": "stdout",
     "output_type": "stream",
     "text": [
      "At round 85 accuracy: 0.6850542197076851\n",
      "At round 85 training accuracy: 0.7624861265260822\n",
      "At round 85 training loss: 0.6936422329433221\n",
      "At round 85 Discrepancy: 1.825028202502093\n",
      "gradient difference: 8.120911876754079\n"
     ]
    },
    {
     "name": "stderr",
     "output_type": "stream",
     "text": [
      "                                                      \r"
     ]
    },
    {
     "name": "stdout",
     "output_type": "stream",
     "text": [
      "At round 86 accuracy: 0.6916548797736917\n",
      "At round 86 training accuracy: 0.7435294117647059\n",
      "At round 86 training loss: 0.8930757013489218\n",
      "At round 86 Discrepancy: 1.6064162844616885\n",
      "gradient difference: 9.811206430085296\n"
     ]
    },
    {
     "name": "stderr",
     "output_type": "stream",
     "text": [
      "                                                      \r"
     ]
    },
    {
     "name": "stdout",
     "output_type": "stream",
     "text": [
      "At round 87 accuracy: 0.6938943894389439\n",
      "At round 87 training accuracy: 0.7133479212253829\n",
      "At round 87 training loss: 0.8399582310891517\n",
      "At round 87 Discrepancy: 2.1169246294355815\n",
      "gradient difference: 7.453197336522786\n"
     ]
    },
    {
     "name": "stderr",
     "output_type": "stream",
     "text": [
      "                                                      \r"
     ]
    },
    {
     "name": "stdout",
     "output_type": "stream",
     "text": [
      "At round 88 accuracy: 0.6997878359264498\n",
      "At round 88 training accuracy: 0.7462277091906722\n",
      "At round 88 training loss: 0.7704026366805017\n",
      "At round 88 Discrepancy: 1.8582527978375734\n",
      "gradient difference: 8.391863848805414\n"
     ]
    },
    {
     "name": "stderr",
     "output_type": "stream",
     "text": [
      "                                                      \r"
     ]
    },
    {
     "name": "stdout",
     "output_type": "stream",
     "text": [
      "At round 89 accuracy: 0.7008486562942009\n",
      "At round 89 training accuracy: 0.7099236641221374\n",
      "At round 89 training loss: 0.9174187391703885\n",
      "At round 89 Discrepancy: 1.973874054669339\n",
      "gradient difference: 7.355804465979532\n"
     ]
    },
    {
     "name": "stderr",
     "output_type": "stream",
     "text": [
      "                                                      \r"
     ]
    },
    {
     "name": "stdout",
     "output_type": "stream",
     "text": [
      "At round 90 accuracy: 0.6935407826496935\n",
      "At round 90 training accuracy: 0.753384912959381\n",
      "At round 90 training loss: 0.7421801984454262\n",
      "At round 90 Discrepancy: 2.1343295706182284\n",
      "gradient difference: 7.891764501194623\n"
     ]
    },
    {
     "name": "stderr",
     "output_type": "stream",
     "text": [
      "                                                      \r"
     ]
    },
    {
     "name": "stdout",
     "output_type": "stream",
     "text": [
      "At round 91 accuracy: 0.6981376709099482\n",
      "At round 91 training accuracy: 0.72264631043257\n",
      "At round 91 training loss: 0.9091000077871573\n",
      "At round 91 Discrepancy: 1.9009538334609115\n",
      "gradient difference: 10.789069866149346\n"
     ]
    },
    {
     "name": "stderr",
     "output_type": "stream",
     "text": [
      "                                                      \r"
     ]
    },
    {
     "name": "stdout",
     "output_type": "stream",
     "text": [
      "At round 92 accuracy: 0.6996699669966997\n",
      "At round 92 training accuracy: 0.7554179566563467\n",
      "At round 92 training loss: 0.7650595821278752\n",
      "At round 92 Discrepancy: 1.9829743699007498\n",
      "gradient difference: 8.649970576034846\n"
     ]
    },
    {
     "name": "stderr",
     "output_type": "stream",
     "text": [
      "                                                      \r"
     ]
    },
    {
     "name": "stdout",
     "output_type": "stream",
     "text": [
      "At round 93 accuracy: 0.6946016030174446\n",
      "At round 93 training accuracy: 0.6605392156862745\n",
      "At round 93 training loss: 1.1404791136874872\n",
      "At round 93 Discrepancy: 1.91334960361771\n",
      "gradient difference: 9.691218302734395\n"
     ]
    },
    {
     "name": "stderr",
     "output_type": "stream",
     "text": [
      "                                                      \r"
     ]
    },
    {
     "name": "stdout",
     "output_type": "stream",
     "text": [
      "At round 94 accuracy: 0.6976661951909476\n",
      "At round 94 training accuracy: 0.764163372859025\n",
      "At round 94 training loss: 0.681863216106867\n",
      "At round 94 Discrepancy: 2.092547106151218\n",
      "gradient difference: 9.20037374996973\n"
     ]
    },
    {
     "name": "stderr",
     "output_type": "stream",
     "text": [
      "                                                      \r"
     ]
    },
    {
     "name": "stdout",
     "output_type": "stream",
     "text": [
      "At round 95 accuracy: 0.7013201320132013\n",
      "At round 95 training accuracy: 0.7055888223552894\n",
      "At round 95 training loss: 0.7755607641478647\n",
      "At round 95 Discrepancy: 1.7918452515473888\n",
      "gradient difference: 8.716513887863073\n"
     ]
    },
    {
     "name": "stderr",
     "output_type": "stream",
     "text": [
      "                                                      \r"
     ]
    },
    {
     "name": "stdout",
     "output_type": "stream",
     "text": [
      "At round 96 accuracy: 0.7032060348892032\n",
      "At round 96 training accuracy: 0.6997041420118343\n",
      "At round 96 training loss: 1.0335127486456075\n",
      "At round 96 Discrepancy: 1.6517999632037956\n",
      "gradient difference: 10.42696487974193\n"
     ]
    },
    {
     "name": "stderr",
     "output_type": "stream",
     "text": [
      "                                                      \r"
     ]
    },
    {
     "name": "stdout",
     "output_type": "stream",
     "text": [
      "At round 97 accuracy: 0.6887081565299387\n",
      "At round 97 training accuracy: 0.719225449515906\n",
      "At round 97 training loss: 0.7555470521024649\n",
      "At round 97 Discrepancy: 1.945414222736727\n",
      "gradient difference: 7.760252597472908\n"
     ]
    },
    {
     "name": "stderr",
     "output_type": "stream",
     "text": [
      "                                                      \r"
     ]
    },
    {
     "name": "stdout",
     "output_type": "stream",
     "text": [
      "At round 98 accuracy: 0.6971947194719472\n",
      "At round 98 training accuracy: 0.7317298797409806\n",
      "At round 98 training loss: 0.7713584434671825\n",
      "At round 98 Discrepancy: 1.775040726684479\n",
      "gradient difference: 7.874046553782491\n"
     ]
    },
    {
     "name": "stderr",
     "output_type": "stream",
     "text": [
      "                                                      \r"
     ]
    },
    {
     "name": "stdout",
     "output_type": "stream",
     "text": [
      "At round 99 accuracy: 0.697076850542197\n",
      "At round 99 training accuracy: 0.7277580071174378\n",
      "At round 99 training loss: 0.7619522362417174\n",
      "At round 99 Discrepancy: 1.9625819928936887\n",
      "gradient difference: 11.09254349895729\n"
     ]
    },
    {
     "name": "stderr",
     "output_type": "stream",
     "text": [
      "                                                      \r"
     ]
    },
    {
     "name": "stdout",
     "output_type": "stream",
     "text": [
      "At round 100 accuracy: 0.7017916077322018\n",
      "At round 100 training accuracy: 0.7030878859857482\n",
      "At round 100 training loss: 0.9560458596769251\n",
      "At round 100 Discrepancy: 1.9978784265361917\n",
      "gradient difference: 9.35899626960005\n"
     ]
    },
    {
     "name": "stderr",
     "output_type": "stream",
     "text": [
      "                                                      \r"
     ]
    },
    {
     "name": "stdout",
     "output_type": "stream",
     "text": [
      "At round 101 accuracy: 0.7067421027817068\n",
      "At round 101 training accuracy: 0.7485714285714286\n",
      "At round 101 training loss: 0.7807506656455142\n",
      "At round 101 Discrepancy: 1.8575210753083642\n",
      "gradient difference: 8.449095190624409\n"
     ]
    },
    {
     "name": "stderr",
     "output_type": "stream",
     "text": [
      "                                                      \r"
     ]
    },
    {
     "name": "stdout",
     "output_type": "stream",
     "text": [
      "At round 102 accuracy: 0.7057991513437057\n",
      "At round 102 training accuracy: 0.7380675203725262\n",
      "At round 102 training loss: 0.7469187360495433\n",
      "At round 102 Discrepancy: 1.735268302126921\n",
      "gradient difference: 8.694035145441303\n"
     ]
    },
    {
     "name": "stderr",
     "output_type": "stream",
     "text": [
      "                                                      \r"
     ]
    },
    {
     "name": "stdout",
     "output_type": "stream",
     "text": [
      "At round 103 accuracy: 0.6997878359264498\n",
      "At round 103 training accuracy: 0.74640522875817\n",
      "At round 103 training loss: 0.8587769078857759\n",
      "At round 103 Discrepancy: 2.030190313063553\n",
      "gradient difference: 8.511175994189738\n"
     ]
    },
    {
     "name": "stderr",
     "output_type": "stream",
     "text": [
      "                                                      \r"
     ]
    },
    {
     "name": "stdout",
     "output_type": "stream",
     "text": [
      "At round 104 accuracy: 0.6941301272984441\n",
      "At round 104 training accuracy: 0.689280868385346\n",
      "At round 104 training loss: 0.8456648461207282\n",
      "At round 104 Discrepancy: 1.9967123683963586\n",
      "gradient difference: 8.515050970578653\n"
     ]
    },
    {
     "name": "stderr",
     "output_type": "stream",
     "text": [
      "                                                      \r"
     ]
    },
    {
     "name": "stdout",
     "output_type": "stream",
     "text": [
      "At round 105 accuracy: 0.6816360207449317\n",
      "At round 105 training accuracy: 0.7020364415862809\n",
      "At round 105 training loss: 0.8284756171038935\n",
      "At round 105 Discrepancy: 1.9254366214074454\n",
      "gradient difference: 8.282264116013675\n"
     ]
    },
    {
     "name": "stderr",
     "output_type": "stream",
     "text": [
      "                                                      \r"
     ]
    },
    {
     "name": "stdout",
     "output_type": "stream",
     "text": [
      "At round 106 accuracy: 0.6967232437529467\n",
      "At round 106 training accuracy: 0.7335092348284961\n",
      "At round 106 training loss: 0.6678438227330461\n",
      "At round 106 Discrepancy: 2.0938536253937743\n",
      "gradient difference: 6.870434969464885\n"
     ]
    },
    {
     "name": "stderr",
     "output_type": "stream",
     "text": [
      "                                                      \r"
     ]
    },
    {
     "name": "stdout",
     "output_type": "stream",
     "text": [
      "At round 107 accuracy: 0.6991984912776992\n",
      "At round 107 training accuracy: 0.6907477820025348\n",
      "At round 107 training loss: 1.0067719951630847\n",
      "At round 107 Discrepancy: 1.9166199371376123\n",
      "gradient difference: 11.789151637867056\n"
     ]
    },
    {
     "name": "stderr",
     "output_type": "stream",
     "text": [
      "                                                      \r"
     ]
    },
    {
     "name": "stdout",
     "output_type": "stream",
     "text": [
      "At round 108 accuracy: 0.6876473361621877\n",
      "At round 108 training accuracy: 0.7398907103825136\n",
      "At round 108 training loss: 0.719298681030508\n",
      "At round 108 Discrepancy: 2.0983735887278843\n",
      "gradient difference: 9.361982104231544\n"
     ]
    },
    {
     "name": "stderr",
     "output_type": "stream",
     "text": [
      "                                                      \r"
     ]
    },
    {
     "name": "stdout",
     "output_type": "stream",
     "text": [
      "At round 109 accuracy: 0.6929514380009429\n",
      "At round 109 training accuracy: 0.716710182767624\n",
      "At round 109 training loss: 0.8345667143247769\n",
      "At round 109 Discrepancy: 1.9051064472445884\n",
      "gradient difference: 9.877941296849206\n"
     ]
    },
    {
     "name": "stderr",
     "output_type": "stream",
     "text": [
      "                                                      \r"
     ]
    },
    {
     "name": "stdout",
     "output_type": "stream",
     "text": [
      "At round 110 accuracy: 0.6997878359264498\n",
      "At round 110 training accuracy: 0.6899862825788752\n",
      "At round 110 training loss: 0.9888178474577693\n",
      "At round 110 Discrepancy: 1.8918372740033593\n",
      "gradient difference: 8.484084051948452\n"
     ]
    },
    {
     "name": "stderr",
     "output_type": "stream",
     "text": [
      "                                                      \r"
     ]
    },
    {
     "name": "stdout",
     "output_type": "stream",
     "text": [
      "At round 111 accuracy: 0.6917727487034417\n",
      "At round 111 training accuracy: 0.7671601615074024\n",
      "At round 111 training loss: 0.6456055643831656\n",
      "At round 111 Discrepancy: 1.8614993685163106\n",
      "gradient difference: 7.30131617574236\n"
     ]
    },
    {
     "name": "stderr",
     "output_type": "stream",
     "text": [
      "                                                      \r"
     ]
    },
    {
     "name": "stdout",
     "output_type": "stream",
     "text": [
      "At round 112 accuracy: 0.7050919377652051\n",
      "At round 112 training accuracy: 0.724\n",
      "At round 112 training loss: 0.758189859310786\n",
      "At round 112 Discrepancy: 1.7545794055901776\n",
      "gradient difference: 6.9271144093988655\n"
     ]
    },
    {
     "name": "stderr",
     "output_type": "stream",
     "text": [
      "                                                      \r"
     ]
    },
    {
     "name": "stdout",
     "output_type": "stream",
     "text": [
      "At round 113 accuracy: 0.6983734087694484\n",
      "At round 113 training accuracy: 0.7103386809269162\n",
      "At round 113 training loss: 0.8271827789657681\n",
      "At round 113 Discrepancy: 1.770275190209817\n",
      "gradient difference: 7.762123290324943\n"
     ]
    },
    {
     "name": "stderr",
     "output_type": "stream",
     "text": [
      "                                                      \r"
     ]
    },
    {
     "name": "stdout",
     "output_type": "stream",
     "text": [
      "At round 114 accuracy: 0.6966053748231966\n",
      "At round 114 training accuracy: 0.7181425485961123\n",
      "At round 114 training loss: 0.8380452496186703\n",
      "At round 114 Discrepancy: 2.0306742059777494\n",
      "gradient difference: 9.259263839597137\n"
     ]
    },
    {
     "name": "stderr",
     "output_type": "stream",
     "text": [
      "                                                      \r"
     ]
    },
    {
     "name": "stdout",
     "output_type": "stream",
     "text": [
      "At round 115 accuracy: 0.7061527581329562\n",
      "At round 115 training accuracy: 0.7205720572057206\n",
      "At round 115 training loss: 0.7449165764290376\n",
      "At round 115 Discrepancy: 2.1962308151233136\n",
      "gradient difference: 6.281429663017083\n"
     ]
    },
    {
     "name": "stderr",
     "output_type": "stream",
     "text": [
      "                                                      \r"
     ]
    },
    {
     "name": "stdout",
     "output_type": "stream",
     "text": [
      "At round 116 accuracy: 0.7095709570957096\n",
      "At round 116 training accuracy: 0.7281947261663286\n",
      "At round 116 training loss: 0.8573105579155212\n",
      "At round 116 Discrepancy: 1.6369276482134505\n",
      "gradient difference: 8.654890929813307\n"
     ]
    },
    {
     "name": "stderr",
     "output_type": "stream",
     "text": [
      "                                                      \r"
     ]
    },
    {
     "name": "stdout",
     "output_type": "stream",
     "text": [
      "At round 117 accuracy: 0.7035596416784535\n",
      "At round 117 training accuracy: 0.6927453769559033\n",
      "At round 117 training loss: 0.8965330836952665\n",
      "At round 117 Discrepancy: 2.012370615799615\n",
      "gradient difference: 9.079757833582224\n"
     ]
    },
    {
     "name": "stderr",
     "output_type": "stream",
     "text": [
      "                                                      \r"
     ]
    },
    {
     "name": "stdout",
     "output_type": "stream",
     "text": [
      "At round 118 accuracy: 0.6990806223479491\n",
      "At round 118 training accuracy: 0.7686170212765957\n",
      "At round 118 training loss: 0.5738414199428356\n",
      "At round 118 Discrepancy: 1.8518904000543945\n",
      "gradient difference: 8.045522592737914\n"
     ]
    },
    {
     "name": "stderr",
     "output_type": "stream",
     "text": [
      "                                                      \r"
     ]
    },
    {
     "name": "stdout",
     "output_type": "stream",
     "text": [
      "At round 119 accuracy: 0.7062706270627063\n",
      "At round 119 training accuracy: 0.6944801026957638\n",
      "At round 119 training loss: 0.9919749611381331\n",
      "At round 119 Discrepancy: 1.7653115831285535\n",
      "gradient difference: 9.045692048845535\n"
     ]
    },
    {
     "name": "stderr",
     "output_type": "stream",
     "text": [
      "                                                      \r"
     ]
    },
    {
     "name": "stdout",
     "output_type": "stream",
     "text": [
      "At round 120 accuracy: 0.6964875058934464\n",
      "At round 120 training accuracy: 0.7278250303766707\n",
      "At round 120 training loss: 0.7746638838894312\n",
      "At round 120 Discrepancy: 1.935806865776371\n",
      "gradient difference: 8.4298348671695\n"
     ]
    },
    {
     "name": "stderr",
     "output_type": "stream",
     "text": [
      "                                                      \r"
     ]
    },
    {
     "name": "stdout",
     "output_type": "stream",
     "text": [
      "At round 121 accuracy: 0.704031117397454\n",
      "At round 121 training accuracy: 0.7066848567530696\n",
      "At round 121 training loss: 0.9386528730392456\n",
      "At round 121 Discrepancy: 2.114859870496576\n",
      "gradient difference: 7.9235893008624965\n"
     ]
    },
    {
     "name": "stderr",
     "output_type": "stream",
     "text": [
      "                                                      \r"
     ]
    },
    {
     "name": "stdout",
     "output_type": "stream",
     "text": [
      "At round 122 accuracy: 0.6943658651579444\n",
      "At round 122 training accuracy: 0.6915052160953801\n",
      "At round 122 training loss: 0.877421559324563\n",
      "At round 122 Discrepancy: 1.8982053039490325\n",
      "gradient difference: 8.53770449958236\n"
     ]
    },
    {
     "name": "stderr",
     "output_type": "stream",
     "text": [
      "                                                      \r"
     ]
    },
    {
     "name": "stdout",
     "output_type": "stream",
     "text": [
      "At round 123 accuracy: 0.6910655351249411\n",
      "At round 123 training accuracy: 0.6981934112646121\n",
      "At round 123 training loss: 0.8317222417857771\n",
      "At round 123 Discrepancy: 1.871281405300401\n",
      "gradient difference: 8.055512736259264\n"
     ]
    },
    {
     "name": "stderr",
     "output_type": "stream",
     "text": [
      "                                                      \r"
     ]
    },
    {
     "name": "stdout",
     "output_type": "stream",
     "text": [
      "At round 124 accuracy: 0.6967232437529467\n",
      "At round 124 training accuracy: 0.7131608548931384\n",
      "At round 124 training loss: 0.7831869541727116\n",
      "At round 124 Discrepancy: 2.06179661401419\n",
      "gradient difference: 7.853186670658054\n"
     ]
    },
    {
     "name": "stderr",
     "output_type": "stream",
     "text": [
      "                                                      \r"
     ]
    },
    {
     "name": "stdout",
     "output_type": "stream",
     "text": [
      "At round 125 accuracy: 0.7090994813767091\n",
      "At round 125 training accuracy: 0.7\n",
      "At round 125 training loss: 0.9463104313672192\n",
      "At round 125 Discrepancy: 2.102587245056172\n",
      "gradient difference: 8.787853437608934\n"
     ]
    },
    {
     "name": "stderr",
     "output_type": "stream",
     "text": [
      "                                                      \r"
     ]
    },
    {
     "name": "stdout",
     "output_type": "stream",
     "text": [
      "At round 126 accuracy: 0.6964875058934464\n",
      "At round 126 training accuracy: 0.7328571428571429\n",
      "At round 126 training loss: 0.8133030380521502\n",
      "At round 126 Discrepancy: 2.1833883394724376\n",
      "gradient difference: 8.804978424216078\n"
     ]
    },
    {
     "name": "stderr",
     "output_type": "stream",
     "text": [
      "                                                      \r"
     ]
    },
    {
     "name": "stdout",
     "output_type": "stream",
     "text": [
      "At round 127 accuracy: 0.7070957095709571\n",
      "At round 127 training accuracy: 0.7037037037037037\n",
      "At round 127 training loss: 0.8716553380739034\n",
      "At round 127 Discrepancy: 1.8935429924124438\n",
      "gradient difference: 7.328882490362196\n"
     ]
    },
    {
     "name": "stderr",
     "output_type": "stream",
     "text": [
      "                                                      \r"
     ]
    },
    {
     "name": "stdout",
     "output_type": "stream",
     "text": [
      "At round 128 accuracy: 0.6989627534181989\n",
      "At round 128 training accuracy: 0.7731434384537131\n",
      "At round 128 training loss: 0.6422407269280779\n",
      "At round 128 Discrepancy: 2.077540110224627\n",
      "gradient difference: 6.899151392003262\n"
     ]
    },
    {
     "name": "stderr",
     "output_type": "stream",
     "text": [
      "                                                      \r"
     ]
    },
    {
     "name": "stdout",
     "output_type": "stream",
     "text": [
      "At round 129 accuracy: 0.7026166902404526\n",
      "At round 129 training accuracy: 0.7861873226111636\n",
      "At round 129 training loss: 0.6538110819500725\n",
      "At round 129 Discrepancy: 1.7767655204832091\n",
      "gradient difference: 9.88171838744435\n"
     ]
    },
    {
     "name": "stderr",
     "output_type": "stream",
     "text": [
      "                                                      \r"
     ]
    },
    {
     "name": "stdout",
     "output_type": "stream",
     "text": [
      "At round 130 accuracy: 0.6983734087694484\n",
      "At round 130 training accuracy: 0.6021505376344086\n",
      "At round 130 training loss: 1.3771031657712292\n",
      "At round 130 Discrepancy: 1.7960073053645893\n",
      "gradient difference: 9.60824806639798\n"
     ]
    },
    {
     "name": "stderr",
     "output_type": "stream",
     "text": [
      "                                                      \r"
     ]
    },
    {
     "name": "stdout",
     "output_type": "stream",
     "text": [
      "At round 131 accuracy: 0.6753889674681753\n",
      "At round 131 training accuracy: 0.6822695035460993\n",
      "At round 131 training loss: 0.8952176890897413\n",
      "At round 131 Discrepancy: 2.301096688539079\n",
      "gradient difference: 8.857946417785627\n"
     ]
    },
    {
     "name": "stderr",
     "output_type": "stream",
     "text": [
      "                                                      \r"
     ]
    },
    {
     "name": "stdout",
     "output_type": "stream",
     "text": [
      "At round 132 accuracy: 0.7029702970297029\n",
      "At round 132 training accuracy: 0.7370417193426043\n",
      "At round 132 training loss: 0.6579444510144018\n",
      "At round 132 Discrepancy: 1.9899721353129152\n",
      "gradient difference: 6.356460902002748\n"
     ]
    },
    {
     "name": "stderr",
     "output_type": "stream",
     "text": [
      "                                                      \r"
     ]
    },
    {
     "name": "stdout",
     "output_type": "stream",
     "text": [
      "At round 133 accuracy: 0.6988448844884488\n",
      "At round 133 training accuracy: 0.7457627118644068\n",
      "At round 133 training loss: 0.8019518354181516\n",
      "At round 133 Discrepancy: 1.6321721944112901\n",
      "gradient difference: 7.897708244596137\n"
     ]
    },
    {
     "name": "stderr",
     "output_type": "stream",
     "text": [
      "                                                      \r"
     ]
    },
    {
     "name": "stdout",
     "output_type": "stream",
     "text": [
      "At round 134 accuracy: 0.6957802923149458\n",
      "At round 134 training accuracy: 0.7065351418002466\n",
      "At round 134 training loss: 0.8912357267189849\n",
      "At round 134 Discrepancy: 1.7788546431313776\n",
      "gradient difference: 8.960622087747682\n"
     ]
    },
    {
     "name": "stderr",
     "output_type": "stream",
     "text": [
      "                                                      \r"
     ]
    },
    {
     "name": "stdout",
     "output_type": "stream",
     "text": [
      "At round 135 accuracy: 0.6974304573314475\n",
      "At round 135 training accuracy: 0.7436708860759493\n",
      "At round 135 training loss: 0.6960064577889719\n",
      "At round 135 Discrepancy: 2.0581444170774295\n",
      "gradient difference: 7.0271128127098335\n"
     ]
    },
    {
     "name": "stderr",
     "output_type": "stream",
     "text": [
      "                                                      \r"
     ]
    },
    {
     "name": "stdout",
     "output_type": "stream",
     "text": [
      "At round 136 accuracy: 0.6990806223479491\n",
      "At round 136 training accuracy: 0.7165841584158416\n",
      "At round 136 training loss: 0.863124445634018\n",
      "At round 136 Discrepancy: 1.6786021343378554\n",
      "gradient difference: 8.420666626206037\n"
     ]
    },
    {
     "name": "stderr",
     "output_type": "stream",
     "text": [
      "                                                      \r"
     ]
    },
    {
     "name": "stdout",
     "output_type": "stream",
     "text": [
      "At round 137 accuracy: 0.6953088165959453\n",
      "At round 137 training accuracy: 0.7829036635006784\n",
      "At round 137 training loss: 0.6329409923288197\n",
      "At round 137 Discrepancy: 2.1725108319864024\n",
      "gradient difference: 7.154531860609016\n"
     ]
    },
    {
     "name": "stderr",
     "output_type": "stream",
     "text": [
      "                                                      \r"
     ]
    },
    {
     "name": "stdout",
     "output_type": "stream",
     "text": [
      "At round 138 accuracy: 0.7063884959924563\n",
      "At round 138 training accuracy: 0.727705112960761\n",
      "At round 138 training loss: 0.8008574136177368\n",
      "At round 138 Discrepancy: 1.4334380592482232\n",
      "gradient difference: 6.669913706392695\n"
     ]
    },
    {
     "name": "stderr",
     "output_type": "stream",
     "text": [
      "                                                      \r"
     ]
    },
    {
     "name": "stdout",
     "output_type": "stream",
     "text": [
      "At round 139 accuracy: 0.7026166902404526\n",
      "At round 139 training accuracy: 0.7391799544419134\n",
      "At round 139 training loss: 0.692951847610312\n",
      "At round 139 Discrepancy: 1.934083066258508\n",
      "gradient difference: 7.269640597891742\n"
     ]
    },
    {
     "name": "stderr",
     "output_type": "stream",
     "text": [
      "                                                      \r"
     ]
    },
    {
     "name": "stdout",
     "output_type": "stream",
     "text": [
      "At round 140 accuracy: 0.7001414427157001\n",
      "At round 140 training accuracy: 0.7485779294653014\n",
      "At round 140 training loss: 0.7008348664224351\n",
      "At round 140 Discrepancy: 1.9549690076579302\n",
      "gradient difference: 7.278271044954093\n"
     ]
    },
    {
     "name": "stderr",
     "output_type": "stream",
     "text": [
      "                                                      \r"
     ]
    },
    {
     "name": "stdout",
     "output_type": "stream",
     "text": [
      "At round 141 accuracy: 0.7016737388024517\n",
      "At round 141 training accuracy: 0.755011135857461\n",
      "At round 141 training loss: 0.7011719953376626\n",
      "At round 141 Discrepancy: 1.733902238383066\n",
      "gradient difference: 8.699378645025435\n"
     ]
    },
    {
     "name": "stderr",
     "output_type": "stream",
     "text": [
      "                                                      \r"
     ]
    },
    {
     "name": "stdout",
     "output_type": "stream",
     "text": [
      "At round 142 accuracy: 0.7003771805752004\n",
      "At round 142 training accuracy: 0.7497034400948992\n",
      "At round 142 training loss: 0.6884720102394462\n",
      "At round 142 Discrepancy: 1.831187082008589\n",
      "gradient difference: 9.190149712048974\n"
     ]
    },
    {
     "name": "stderr",
     "output_type": "stream",
     "text": [
      "                                                      \r"
     ]
    },
    {
     "name": "stdout",
     "output_type": "stream",
     "text": [
      "At round 143 accuracy: 0.7030881659594531\n",
      "At round 143 training accuracy: 0.7350069735006973\n",
      "At round 143 training loss: 0.7724885474189056\n",
      "At round 143 Discrepancy: 1.935624111367218\n",
      "gradient difference: 9.287282976501492\n"
     ]
    },
    {
     "name": "stderr",
     "output_type": "stream",
     "text": [
      "                                                      \r"
     ]
    },
    {
     "name": "stdout",
     "output_type": "stream",
     "text": [
      "At round 144 accuracy: 0.7029702970297029\n",
      "At round 144 training accuracy: 0.7662976629766297\n",
      "At round 144 training loss: 0.6511096164382545\n",
      "At round 144 Discrepancy: 2.102279776298813\n",
      "gradient difference: 6.67686829895848\n"
     ]
    },
    {
     "name": "stderr",
     "output_type": "stream",
     "text": [
      "                                                      \r"
     ]
    },
    {
     "name": "stdout",
     "output_type": "stream",
     "text": [
      "At round 145 accuracy: 0.7063884959924563\n",
      "At round 145 training accuracy: 0.7550744248985115\n",
      "At round 145 training loss: 0.6860859432384997\n",
      "At round 145 Discrepancy: 1.7285672242394896\n",
      "gradient difference: 7.182015545364633\n"
     ]
    },
    {
     "name": "stderr",
     "output_type": "stream",
     "text": [
      "                                                      \r"
     ]
    },
    {
     "name": "stdout",
     "output_type": "stream",
     "text": [
      "At round 146 accuracy: 0.7033239038189534\n",
      "At round 146 training accuracy: 0.7565725413826679\n",
      "At round 146 training loss: 0.5794662588875389\n",
      "At round 146 Discrepancy: 1.6616874584678427\n",
      "gradient difference: 7.783625882912834\n"
     ]
    },
    {
     "name": "stderr",
     "output_type": "stream",
     "text": [
      "                                                      \r"
     ]
    },
    {
     "name": "stdout",
     "output_type": "stream",
     "text": [
      "At round 147 accuracy: 0.7155822725129656\n",
      "At round 147 training accuracy: 0.718475073313783\n",
      "At round 147 training loss: 0.727695001418523\n",
      "At round 147 Discrepancy: 1.8441612755950108\n",
      "gradient difference: 8.15813677882201\n"
     ]
    },
    {
     "name": "stderr",
     "output_type": "stream",
     "text": [
      "                                                      \r"
     ]
    },
    {
     "name": "stdout",
     "output_type": "stream",
     "text": [
      "At round 148 accuracy: 0.7047383309759547\n",
      "At round 148 training accuracy: 0.8\n",
      "At round 148 training loss: 0.6251399626745954\n",
      "At round 148 Discrepancy: 2.011144042069728\n",
      "gradient difference: 9.475954970147168\n"
     ]
    },
    {
     "name": "stderr",
     "output_type": "stream",
     "text": [
      "                                                      \r"
     ]
    },
    {
     "name": "stdout",
     "output_type": "stream",
     "text": [
      "At round 149 accuracy: 0.7062706270627063\n",
      "At round 149 training accuracy: 0.6938202247191011\n",
      "At round 149 training loss: 0.9194217949642622\n",
      "At round 149 Discrepancy: 1.7890683042676965\n",
      "gradient difference: 9.33718157231619\n"
     ]
    },
    {
     "name": "stderr",
     "output_type": "stream",
     "text": [
      "                                                      \r"
     ]
    },
    {
     "name": "stdout",
     "output_type": "stream",
     "text": [
      "At round 150 accuracy: 0.7094530881659594\n",
      "At round 150 training accuracy: 0.7268518518518519\n",
      "At round 150 training loss: 0.7717873219193684\n",
      "At round 150 Discrepancy: 1.8033338872089815\n",
      "gradient difference: 7.359197058056163\n"
     ]
    },
    {
     "name": "stderr",
     "output_type": "stream",
     "text": [
      "                                                      \r"
     ]
    },
    {
     "name": "stdout",
     "output_type": "stream",
     "text": [
      "At round 151 accuracy: 0.712989156058463\n",
      "At round 151 training accuracy: 0.717283950617284\n",
      "At round 151 training loss: 0.9203752389660588\n",
      "At round 151 Discrepancy: 1.8411431016027584\n",
      "gradient difference: 7.678388152481887\n"
     ]
    },
    {
     "name": "stderr",
     "output_type": "stream",
     "text": [
      "                                                      \r"
     ]
    },
    {
     "name": "stdout",
     "output_type": "stream",
     "text": [
      "At round 152 accuracy: 0.696016030174446\n",
      "At round 152 training accuracy: 0.7023004059539919\n",
      "At round 152 training loss: 0.8225767297093052\n",
      "At round 152 Discrepancy: 1.8002399207942947\n",
      "gradient difference: 7.629677859267922\n"
     ]
    },
    {
     "name": "stderr",
     "output_type": "stream",
     "text": [
      "                                                      \r"
     ]
    },
    {
     "name": "stdout",
     "output_type": "stream",
     "text": [
      "At round 153 accuracy: 0.7046204620462047\n",
      "At round 153 training accuracy: 0.6951530612244898\n",
      "At round 153 training loss: 0.8239430874890211\n",
      "At round 153 Discrepancy: 1.9146704981317946\n",
      "gradient difference: 5.981682640000674\n"
     ]
    },
    {
     "name": "stderr",
     "output_type": "stream",
     "text": [
      "                                                      \r"
     ]
    },
    {
     "name": "stdout",
     "output_type": "stream",
     "text": [
      "At round 154 accuracy: 0.69000471475719\n",
      "At round 154 training accuracy: 0.7569444444444444\n",
      "At round 154 training loss: 0.6775955075863749\n",
      "At round 154 Discrepancy: 1.7434988483473013\n",
      "gradient difference: 9.216328871066983\n"
     ]
    },
    {
     "name": "stderr",
     "output_type": "stream",
     "text": [
      "                                                      \r"
     ]
    },
    {
     "name": "stdout",
     "output_type": "stream",
     "text": [
      "At round 155 accuracy: 0.7076850542197077\n",
      "At round 155 training accuracy: 0.6963788300835655\n",
      "At round 155 training loss: 0.83757660066849\n",
      "At round 155 Discrepancy: 1.8036422300726798\n",
      "gradient difference: 6.784308172797885\n"
     ]
    },
    {
     "name": "stderr",
     "output_type": "stream",
     "text": [
      "                                                      \r"
     ]
    },
    {
     "name": "stdout",
     "output_type": "stream",
     "text": [
      "At round 156 accuracy: 0.7024988213107025\n",
      "At round 156 training accuracy: 0.7651162790697674\n",
      "At round 156 training loss: 0.7001434818083464\n",
      "At round 156 Discrepancy: 1.9020649796720541\n",
      "gradient difference: 6.726896412011946\n"
     ]
    },
    {
     "name": "stderr",
     "output_type": "stream",
     "text": [
      "                                                      \r"
     ]
    },
    {
     "name": "stdout",
     "output_type": "stream",
     "text": [
      "At round 157 accuracy: 0.7138142385667138\n",
      "At round 157 training accuracy: 0.7425149700598802\n",
      "At round 157 training loss: 0.7080819303515608\n",
      "At round 157 Discrepancy: 1.8923578348473657\n",
      "gradient difference: 6.375816077721549\n"
     ]
    },
    {
     "name": "stderr",
     "output_type": "stream",
     "text": [
      "                                                      \r"
     ]
    },
    {
     "name": "stdout",
     "output_type": "stream",
     "text": [
      "At round 158 accuracy: 0.7033239038189534\n",
      "At round 158 training accuracy: 0.7139240506329114\n",
      "At round 158 training loss: 0.7223905122874281\n",
      "At round 158 Discrepancy: 1.9966310657595354\n",
      "gradient difference: 5.607217582836584\n"
     ]
    },
    {
     "name": "stderr",
     "output_type": "stream",
     "text": [
      "                                                      \r"
     ]
    },
    {
     "name": "stdout",
     "output_type": "stream",
     "text": [
      "At round 159 accuracy: 0.7001414427157001\n",
      "At round 159 training accuracy: 0.6959847036328872\n",
      "At round 159 training loss: 0.820416932010286\n",
      "At round 159 Discrepancy: 1.8595945723799905\n",
      "gradient difference: 7.057147239866027\n"
     ]
    },
    {
     "name": "stderr",
     "output_type": "stream",
     "text": [
      "                                                      \r"
     ]
    },
    {
     "name": "stdout",
     "output_type": "stream",
     "text": [
      "At round 160 accuracy: 0.7133427628477134\n",
      "At round 160 training accuracy: 0.7875776397515528\n",
      "At round 160 training loss: 0.5946996170356407\n",
      "At round 160 Discrepancy: 1.7408885728257375\n",
      "gradient difference: 8.25976145657535\n"
     ]
    },
    {
     "name": "stderr",
     "output_type": "stream",
     "text": [
      "                                                      \r"
     ]
    },
    {
     "name": "stdout",
     "output_type": "stream",
     "text": [
      "At round 161 accuracy: 0.7111032531824611\n",
      "At round 161 training accuracy: 0.6978609625668449\n",
      "At round 161 training loss: 0.809374297356462\n",
      "At round 161 Discrepancy: 1.8512943506308221\n",
      "gradient difference: 5.654535982553171\n"
     ]
    },
    {
     "name": "stderr",
     "output_type": "stream",
     "text": [
      "                                                      \r"
     ]
    },
    {
     "name": "stdout",
     "output_type": "stream",
     "text": [
      "At round 162 accuracy: 0.6890617633191891\n",
      "At round 162 training accuracy: 0.7439353099730458\n",
      "At round 162 training loss: 0.7211681174621428\n",
      "At round 162 Discrepancy: 1.8884626549597225\n",
      "gradient difference: 6.599019184100937\n"
     ]
    },
    {
     "name": "stderr",
     "output_type": "stream",
     "text": [
      "                                                      \r"
     ]
    },
    {
     "name": "stdout",
     "output_type": "stream",
     "text": [
      "At round 163 accuracy: 0.7119283356907119\n",
      "At round 163 training accuracy: 0.7407878017789072\n",
      "At round 163 training loss: 0.7573036754070728\n",
      "At round 163 Discrepancy: 1.6940612994398296\n",
      "gradient difference: 6.5799701911671065\n"
     ]
    },
    {
     "name": "stderr",
     "output_type": "stream",
     "text": [
      "                                                      \r"
     ]
    },
    {
     "name": "stdout",
     "output_type": "stream",
     "text": [
      "At round 164 accuracy: 0.7092173503064593\n",
      "At round 164 training accuracy: 0.8011695906432749\n",
      "At round 164 training loss: 0.5212119581497803\n",
      "At round 164 Discrepancy: 1.857565739074417\n",
      "gradient difference: 6.260304201295409\n"
     ]
    },
    {
     "name": "stderr",
     "output_type": "stream",
     "text": [
      "                                                      \r"
     ]
    },
    {
     "name": "stdout",
     "output_type": "stream",
     "text": [
      "At round 165 accuracy: 0.7080386610089581\n",
      "At round 165 training accuracy: 0.7798165137614679\n",
      "At round 165 training loss: 0.7391364303539459\n",
      "At round 165 Discrepancy: 1.5976264257374293\n",
      "gradient difference: 7.8044735707172475\n"
     ]
    },
    {
     "name": "stderr",
     "output_type": "stream",
     "text": [
      "                                                      \r"
     ]
    },
    {
     "name": "stdout",
     "output_type": "stream",
     "text": [
      "At round 166 accuracy: 0.7087458745874587\n",
      "At round 166 training accuracy: 0.6827830188679245\n",
      "At round 166 training loss: 1.0058980634049424\n",
      "At round 166 Discrepancy: 1.71221587720454\n",
      "gradient difference: 7.375276156802124\n"
     ]
    },
    {
     "name": "stderr",
     "output_type": "stream",
     "text": [
      "                                                      \r"
     ]
    },
    {
     "name": "stdout",
     "output_type": "stream",
     "text": [
      "At round 167 accuracy: 0.6936586515794436\n",
      "At round 167 training accuracy: 0.7516512549537648\n",
      "At round 167 training loss: 0.6269512875510018\n",
      "At round 167 Discrepancy: 2.0664818260902496\n",
      "gradient difference: 7.291699198966056\n"
     ]
    },
    {
     "name": "stderr",
     "output_type": "stream",
     "text": [
      "                                                      \r"
     ]
    },
    {
     "name": "stdout",
     "output_type": "stream",
     "text": [
      "At round 168 accuracy: 0.7082743988684582\n",
      "At round 168 training accuracy: 0.7751552795031056\n",
      "At round 168 training loss: 0.6029555670303866\n",
      "At round 168 Discrepancy: 1.854895597054891\n",
      "gradient difference: 6.539568100449261\n"
     ]
    },
    {
     "name": "stderr",
     "output_type": "stream",
     "text": [
      "                                                      \r"
     ]
    },
    {
     "name": "stdout",
     "output_type": "stream",
     "text": [
      "At round 169 accuracy: 0.7088637435172088\n",
      "At round 169 training accuracy: 0.751937984496124\n",
      "At round 169 training loss: 0.7807548277137816\n",
      "At round 169 Discrepancy: 1.6251414892363045\n",
      "gradient difference: 7.265066209511101\n"
     ]
    },
    {
     "name": "stderr",
     "output_type": "stream",
     "text": [
      "                                                      \r"
     ]
    },
    {
     "name": "stdout",
     "output_type": "stream",
     "text": [
      "At round 170 accuracy: 0.7046204620462047\n",
      "At round 170 training accuracy: 0.7468982630272953\n",
      "At round 170 training loss: 0.6584405291218325\n",
      "At round 170 Discrepancy: 1.914210125083141\n",
      "gradient difference: 6.781314801854355\n"
     ]
    },
    {
     "name": "stderr",
     "output_type": "stream",
     "text": [
      "                                                      \r"
     ]
    },
    {
     "name": "stdout",
     "output_type": "stream",
     "text": [
      "At round 171 accuracy: 0.71004243281471\n",
      "At round 171 training accuracy: 0.7327478042659975\n",
      "At round 171 training loss: 0.7214617682445603\n",
      "At round 171 Discrepancy: 1.5510771597395219\n",
      "gradient difference: 5.660752062018367\n"
     ]
    },
    {
     "name": "stderr",
     "output_type": "stream",
     "text": [
      "                                                      \r"
     ]
    },
    {
     "name": "stdout",
     "output_type": "stream",
     "text": [
      "At round 172 accuracy: 0.7065063649222065\n",
      "At round 172 training accuracy: 0.7433510638297872\n",
      "At round 172 training loss: 0.7085295560710291\n",
      "At round 172 Discrepancy: 1.6819001807637495\n",
      "gradient difference: 5.440056602621488\n"
     ]
    },
    {
     "name": "stderr",
     "output_type": "stream",
     "text": [
      "                                                      \r"
     ]
    },
    {
     "name": "stdout",
     "output_type": "stream",
     "text": [
      "At round 173 accuracy: 0.7054455445544554\n",
      "At round 173 training accuracy: 0.7317880794701986\n",
      "At round 173 training loss: 0.766248627773447\n",
      "At round 173 Discrepancy: 1.7173087908607738\n",
      "gradient difference: 6.926248373716871\n"
     ]
    },
    {
     "name": "stderr",
     "output_type": "stream",
     "text": [
      "                                                      \r"
     ]
    },
    {
     "name": "stdout",
     "output_type": "stream",
     "text": [
      "At round 174 accuracy: 0.6996699669966997\n",
      "At round 174 training accuracy: 0.7054794520547946\n",
      "At round 174 training loss: 0.789673167752893\n",
      "At round 174 Discrepancy: 2.0648019063891985\n",
      "gradient difference: 8.041569909150518\n"
     ]
    },
    {
     "name": "stderr",
     "output_type": "stream",
     "text": [
      "                                                      \r"
     ]
    },
    {
     "name": "stdout",
     "output_type": "stream",
     "text": [
      "At round 175 accuracy: 0.7002593116454503\n",
      "At round 175 training accuracy: 0.7292993630573248\n",
      "At round 175 training loss: 0.7226661494171797\n",
      "At round 175 Discrepancy: 1.985506059745075\n",
      "gradient difference: 7.255356717584774\n"
     ]
    },
    {
     "name": "stderr",
     "output_type": "stream",
     "text": [
      "                                                      \r"
     ]
    },
    {
     "name": "stdout",
     "output_type": "stream",
     "text": [
      "At round 176 accuracy: 0.7029702970297029\n",
      "At round 176 training accuracy: 0.7229647630619684\n",
      "At round 176 training loss: 0.8159461153596459\n",
      "At round 176 Discrepancy: 1.7847767607457974\n",
      "gradient difference: 8.400284825720933\n"
     ]
    },
    {
     "name": "stderr",
     "output_type": "stream",
     "text": [
      "                                                      \r"
     ]
    },
    {
     "name": "stdout",
     "output_type": "stream",
     "text": [
      "At round 177 accuracy: 0.7002593116454503\n",
      "At round 177 training accuracy: 0.7254335260115607\n",
      "At round 177 training loss: 0.7300612049640258\n",
      "At round 177 Discrepancy: 2.058087802286746\n",
      "gradient difference: 7.229291443785418\n"
     ]
    },
    {
     "name": "stderr",
     "output_type": "stream",
     "text": [
      "                                                      \r"
     ]
    },
    {
     "name": "stdout",
     "output_type": "stream",
     "text": [
      "At round 178 accuracy: 0.7006129184347006\n",
      "At round 178 training accuracy: 0.7340720221606648\n",
      "At round 178 training loss: 0.6877050510881123\n",
      "At round 178 Discrepancy: 1.9027274089805406\n",
      "gradient difference: 6.958449644849856\n"
     ]
    },
    {
     "name": "stderr",
     "output_type": "stream",
     "text": [
      "                                                      \r"
     ]
    },
    {
     "name": "stdout",
     "output_type": "stream",
     "text": [
      "At round 179 accuracy: 0.7061527581329562\n",
      "At round 179 training accuracy: 0.7285714285714285\n",
      "At round 179 training loss: 0.7488677501630087\n",
      "At round 179 Discrepancy: 1.660464922095387\n",
      "gradient difference: 6.442005257168789\n"
     ]
    },
    {
     "name": "stderr",
     "output_type": "stream",
     "text": [
      "                                                      \r"
     ]
    },
    {
     "name": "stdout",
     "output_type": "stream",
     "text": [
      "At round 180 accuracy: 0.7107496463932107\n",
      "At round 180 training accuracy: 0.7198917456021651\n",
      "At round 180 training loss: 0.7309544135656344\n",
      "At round 180 Discrepancy: 1.7818421326848672\n",
      "gradient difference: 6.179603440880481\n"
     ]
    },
    {
     "name": "stderr",
     "output_type": "stream",
     "text": [
      "                                                      \r"
     ]
    },
    {
     "name": "stdout",
     "output_type": "stream",
     "text": [
      "At round 181 accuracy: 0.7057991513437057\n",
      "At round 181 training accuracy: 0.7464454976303317\n",
      "At round 181 training loss: 0.6873435466704776\n",
      "At round 181 Discrepancy: 1.771286877544957\n",
      "gradient difference: 6.8005826916639185\n"
     ]
    },
    {
     "name": "stderr",
     "output_type": "stream",
     "text": [
      "                                                      \r"
     ]
    },
    {
     "name": "stdout",
     "output_type": "stream",
     "text": [
      "At round 182 accuracy: 0.7078029231494578\n",
      "At round 182 training accuracy: 0.7827626918536009\n",
      "At round 182 training loss: 0.6944468318261514\n",
      "At round 182 Discrepancy: 1.7383661213479944\n",
      "gradient difference: 7.11069702715621\n"
     ]
    },
    {
     "name": "stderr",
     "output_type": "stream",
     "text": [
      "                                                      \r"
     ]
    },
    {
     "name": "stdout",
     "output_type": "stream",
     "text": [
      "At round 183 accuracy: 0.7052098066949553\n",
      "At round 183 training accuracy: 0.7332521315468941\n",
      "At round 183 training loss: 0.76394331832751\n",
      "At round 183 Discrepancy: 1.8496947525077363\n",
      "gradient difference: 7.478927100629414\n"
     ]
    },
    {
     "name": "stderr",
     "output_type": "stream",
     "text": [
      "                                                      \r"
     ]
    },
    {
     "name": "stdout",
     "output_type": "stream",
     "text": [
      "At round 184 accuracy: 0.7033239038189534\n",
      "At round 184 training accuracy: 0.7609860664523044\n",
      "At round 184 training loss: 0.6629607026472225\n",
      "At round 184 Discrepancy: 1.7760950043722112\n",
      "gradient difference: 6.9026972000466005\n"
     ]
    },
    {
     "name": "stderr",
     "output_type": "stream",
     "text": [
      "                                                      \r"
     ]
    },
    {
     "name": "stdout",
     "output_type": "stream",
     "text": [
      "At round 185 accuracy: 0.7073314474304573\n",
      "At round 185 training accuracy: 0.7392900856793145\n",
      "At round 185 training loss: 0.8218038214373886\n",
      "At round 185 Discrepancy: 1.9977075431421902\n",
      "gradient difference: 7.33379789547207\n"
     ]
    },
    {
     "name": "stderr",
     "output_type": "stream",
     "text": [
      "                                                      \r"
     ]
    },
    {
     "name": "stdout",
     "output_type": "stream",
     "text": [
      "At round 186 accuracy: 0.7087458745874587\n",
      "At round 186 training accuracy: 0.7338618346545867\n",
      "At round 186 training loss: 0.7128187471985952\n",
      "At round 186 Discrepancy: 1.7721971697375554\n",
      "gradient difference: 7.5000966151016\n"
     ]
    },
    {
     "name": "stderr",
     "output_type": "stream",
     "text": [
      "                                                      \r"
     ]
    },
    {
     "name": "stdout",
     "output_type": "stream",
     "text": [
      "At round 187 accuracy: 0.7094530881659594\n",
      "At round 187 training accuracy: 0.7334183673469388\n",
      "At round 187 training loss: 0.7962860944205705\n",
      "At round 187 Discrepancy: 2.2657894539866588\n",
      "gradient difference: 7.440444806984319\n"
     ]
    },
    {
     "name": "stderr",
     "output_type": "stream",
     "text": [
      "                                                      \r"
     ]
    },
    {
     "name": "stdout",
     "output_type": "stream",
     "text": [
      "At round 188 accuracy: 0.7088637435172088\n",
      "At round 188 training accuracy: 0.7588571428571429\n",
      "At round 188 training loss: 0.6639246973991394\n",
      "At round 188 Discrepancy: 2.001777909471648\n",
      "gradient difference: 6.593172062399978\n"
     ]
    },
    {
     "name": "stderr",
     "output_type": "stream",
     "text": [
      "                                                      \r"
     ]
    },
    {
     "name": "stdout",
     "output_type": "stream",
     "text": [
      "At round 189 accuracy: 0.7043847241867044\n",
      "At round 189 training accuracy: 0.7065868263473054\n",
      "At round 189 training loss: 0.7698939144165217\n",
      "At round 189 Discrepancy: 1.6754120180252727\n",
      "gradient difference: 7.257546416260704\n"
     ]
    },
    {
     "name": "stderr",
     "output_type": "stream",
     "text": [
      "                                                      \r"
     ]
    },
    {
     "name": "stdout",
     "output_type": "stream",
     "text": [
      "At round 190 accuracy: 0.7073314474304573\n",
      "At round 190 training accuracy: 0.5842155919153031\n",
      "At round 190 training loss: 1.4713933027896307\n",
      "At round 190 Discrepancy: 2.04510322253415\n",
      "gradient difference: 6.009029811162377\n"
     ]
    },
    {
     "name": "stderr",
     "output_type": "stream",
     "text": [
      "                                                      \r"
     ]
    },
    {
     "name": "stdout",
     "output_type": "stream",
     "text": [
      "At round 191 accuracy: 0.6914191419141914\n",
      "At round 191 training accuracy: 0.7338501291989664\n",
      "At round 191 training loss: 0.6686060730300516\n",
      "At round 191 Discrepancy: 1.8292365307543634\n",
      "gradient difference: 7.123733539614416\n"
     ]
    },
    {
     "name": "stderr",
     "output_type": "stream",
     "text": [
      "                                                      \r"
     ]
    },
    {
     "name": "stdout",
     "output_type": "stream",
     "text": [
      "At round 192 accuracy: 0.7029702970297029\n",
      "At round 192 training accuracy: 0.7690014903129657\n",
      "At round 192 training loss: 0.6559726103762756\n",
      "At round 192 Discrepancy: 1.6651995838741058\n",
      "gradient difference: 6.870118552130006\n"
     ]
    },
    {
     "name": "stderr",
     "output_type": "stream",
     "text": [
      "                                                      \r"
     ]
    },
    {
     "name": "stdout",
     "output_type": "stream",
     "text": [
      "At round 193 accuracy: 0.7093352192362093\n",
      "At round 193 training accuracy: 0.7410617551462622\n",
      "At round 193 training loss: 0.7039355542814715\n",
      "At round 193 Discrepancy: 1.5373646581013658\n",
      "gradient difference: 5.803145942984969\n"
     ]
    },
    {
     "name": "stderr",
     "output_type": "stream",
     "text": [
      "                                                      \r"
     ]
    },
    {
     "name": "stdout",
     "output_type": "stream",
     "text": [
      "At round 194 accuracy: 0.7116925978312116\n",
      "At round 194 training accuracy: 0.7801578354002254\n",
      "At round 194 training loss: 0.595726389301418\n",
      "At round 194 Discrepancy: 1.6655318869226197\n",
      "gradient difference: 6.363357392406309\n"
     ]
    },
    {
     "name": "stderr",
     "output_type": "stream",
     "text": [
      "                                                      \r"
     ]
    },
    {
     "name": "stdout",
     "output_type": "stream",
     "text": [
      "At round 195 accuracy: 0.7127534181989628\n",
      "At round 195 training accuracy: 0.7271523178807947\n",
      "At round 195 training loss: 0.7483889259644692\n",
      "At round 195 Discrepancy: 1.9340741828941497\n",
      "gradient difference: 6.22090048884381\n"
     ]
    },
    {
     "name": "stderr",
     "output_type": "stream",
     "text": [
      "                                                      \r"
     ]
    },
    {
     "name": "stdout",
     "output_type": "stream",
     "text": [
      "At round 196 accuracy: 0.7134606317774634\n",
      "At round 196 training accuracy: 0.8009433962264151\n",
      "At round 196 training loss: 0.5150644585490227\n",
      "At round 196 Discrepancy: 1.6566932681407125\n",
      "gradient difference: 6.478300665084043\n"
     ]
    },
    {
     "name": "stderr",
     "output_type": "stream",
     "text": [
      "                                                      \r"
     ]
    },
    {
     "name": "stdout",
     "output_type": "stream",
     "text": [
      "At round 197 accuracy: 0.7131070249882131\n",
      "At round 197 training accuracy: 0.7366412213740458\n",
      "At round 197 training loss: 0.8066293892470848\n",
      "At round 197 Discrepancy: 1.7809267995338611\n",
      "gradient difference: 8.179950390591513\n"
     ]
    },
    {
     "name": "stderr",
     "output_type": "stream",
     "text": [
      "                                                      \r"
     ]
    },
    {
     "name": "stdout",
     "output_type": "stream",
     "text": [
      "At round 198 accuracy: 0.6973125884016973\n",
      "At round 198 training accuracy: 0.705952380952381\n",
      "At round 198 training loss: 0.7534973800182343\n",
      "At round 198 Discrepancy: 1.9649302223555871\n",
      "gradient difference: 9.736536195131844\n"
     ]
    },
    {
     "name": "stderr",
     "output_type": "stream",
     "text": [
      "                                                      \r"
     ]
    },
    {
     "name": "stdout",
     "output_type": "stream",
     "text": [
      "At round 199 accuracy: 0.7047383309759547\n",
      "At round 199 training accuracy: 0.737649063032368\n",
      "At round 199 training loss: 0.6824412870464925\n",
      "At round 199 Discrepancy: 1.8580102482331184\n",
      "gradient difference: 5.965409923814932\n"
     ]
    },
    {
     "name": "stderr",
     "output_type": "stream",
     "text": [
      "                                                      \r"
     ]
    },
    {
     "name": "stdout",
     "output_type": "stream",
     "text": [
      "At round 200 accuracy: 0.7131070249882131\n",
      "At round 200 training accuracy: 0.6952624839948783\n",
      "At round 200 training loss: 1.0113094033108172\n",
      "At round 200 Discrepancy: 1.8544712909768737\n",
      "gradient difference: 6.580697329092956\n"
     ]
    },
    {
     "name": "stderr",
     "output_type": "stream",
     "text": [
      "                                                      \r"
     ]
    },
    {
     "name": "stdout",
     "output_type": "stream",
     "text": [
      "At round 201 accuracy: 0.6987270155586988\n",
      "At round 201 training accuracy: 0.7566765578635015\n",
      "At round 201 training loss: 0.7135728734713987\n",
      "At round 201 Discrepancy: 2.1071936788096144\n",
      "gradient difference: 7.937393031360547\n"
     ]
    },
    {
     "name": "stderr",
     "output_type": "stream",
     "text": [
      "                                                      \r"
     ]
    },
    {
     "name": "stdout",
     "output_type": "stream",
     "text": [
      "At round 202 accuracy: 0.7045025931164545\n",
      "At round 202 training accuracy: 0.7046894803548795\n",
      "At round 202 training loss: 0.8011967654426138\n",
      "At round 202 Discrepancy: 1.8849205146984236\n",
      "gradient difference: 5.971882269320848\n"
     ]
    },
    {
     "name": "stderr",
     "output_type": "stream",
     "text": [
      "                                                      \r"
     ]
    },
    {
     "name": "stdout",
     "output_type": "stream",
     "text": [
      "At round 203 accuracy: 0.702027345591702\n",
      "At round 203 training accuracy: 0.7381546134663342\n",
      "At round 203 training loss: 0.787520323670012\n",
      "At round 203 Discrepancy: 1.7179290950539303\n",
      "gradient difference: 6.4747156677559525\n"
     ]
    },
    {
     "name": "stderr",
     "output_type": "stream",
     "text": [
      "                                                      \r"
     ]
    },
    {
     "name": "stdout",
     "output_type": "stream",
     "text": [
      "At round 204 accuracy: 0.6943658651579444\n",
      "At round 204 training accuracy: 0.7873183619550859\n",
      "At round 204 training loss: 0.6169167275157913\n",
      "At round 204 Discrepancy: 1.8070920643365134\n",
      "gradient difference: 8.209510801085157\n"
     ]
    },
    {
     "name": "stderr",
     "output_type": "stream",
     "text": [
      "                                                      \r"
     ]
    },
    {
     "name": "stdout",
     "output_type": "stream",
     "text": [
      "At round 205 accuracy: 0.7006129184347006\n",
      "At round 205 training accuracy: 0.7208387942332897\n",
      "At round 205 training loss: 0.784478521597026\n",
      "At round 205 Discrepancy: 1.713371420196157\n",
      "gradient difference: 6.987763260937948\n"
     ]
    },
    {
     "name": "stderr",
     "output_type": "stream",
     "text": [
      "                                                      \r"
     ]
    },
    {
     "name": "stdout",
     "output_type": "stream",
     "text": [
      "At round 206 accuracy: 0.6929514380009429\n",
      "At round 206 training accuracy: 0.7553793884484711\n",
      "At round 206 training loss: 0.6271050116753929\n",
      "At round 206 Discrepancy: 1.6707782465513343\n",
      "gradient difference: 8.302750108398827\n"
     ]
    },
    {
     "name": "stderr",
     "output_type": "stream",
     "text": [
      "                                                      \r"
     ]
    },
    {
     "name": "stdout",
     "output_type": "stream",
     "text": [
      "At round 207 accuracy: 0.7073314474304573\n",
      "At round 207 training accuracy: 0.6530386740331492\n",
      "At round 207 training loss: 1.139788047318959\n",
      "At round 207 Discrepancy: 1.717013919835384\n",
      "gradient difference: 7.1709082948011655\n"
     ]
    },
    {
     "name": "stderr",
     "output_type": "stream",
     "text": [
      "                                                      \r"
     ]
    },
    {
     "name": "stdout",
     "output_type": "stream",
     "text": [
      "At round 208 accuracy: 0.7001414427157001\n",
      "At round 208 training accuracy: 0.7183622828784119\n",
      "At round 208 training loss: 0.6854414990970231\n",
      "At round 208 Discrepancy: 2.065675186065338\n",
      "gradient difference: 6.869429042838576\n"
     ]
    },
    {
     "name": "stderr",
     "output_type": "stream",
     "text": [
      "                                                      \r"
     ]
    },
    {
     "name": "stdout",
     "output_type": "stream",
     "text": [
      "At round 209 accuracy: 0.7107496463932107\n",
      "At round 209 training accuracy: 0.7832744405182568\n",
      "At round 209 training loss: 0.6361132898454053\n",
      "At round 209 Discrepancy: 1.7505339859185753\n",
      "gradient difference: 6.352468767816353\n"
     ]
    },
    {
     "name": "stderr",
     "output_type": "stream",
     "text": [
      "                                                      \r"
     ]
    },
    {
     "name": "stdout",
     "output_type": "stream",
     "text": [
      "At round 210 accuracy: 0.7085101367279585\n",
      "At round 210 training accuracy: 0.6939890710382514\n",
      "At round 210 training loss: 0.8044463815422006\n",
      "At round 210 Discrepancy: 1.6451420371958902\n",
      "gradient difference: 6.812287175921585\n"
     ]
    },
    {
     "name": "stderr",
     "output_type": "stream",
     "text": [
      "                                                      \r"
     ]
    },
    {
     "name": "stdout",
     "output_type": "stream",
     "text": [
      "At round 211 accuracy: 0.706977840641207\n",
      "At round 211 training accuracy: 0.6145930776426567\n",
      "At round 211 training loss: 1.273708431119878\n",
      "At round 211 Discrepancy: 1.953690168785604\n",
      "gradient difference: 6.379342318828585\n"
     ]
    },
    {
     "name": "stderr",
     "output_type": "stream",
     "text": [
      "                                                      \r"
     ]
    },
    {
     "name": "stdout",
     "output_type": "stream",
     "text": [
      "At round 212 accuracy: 0.6731494578029231\n",
      "At round 212 training accuracy: 0.6775147928994083\n",
      "At round 212 training loss: 0.8355360542528728\n",
      "At round 212 Discrepancy: 1.9347095336915807\n",
      "gradient difference: 6.054581556476573\n"
     ]
    },
    {
     "name": "stderr",
     "output_type": "stream",
     "text": [
      "                                                      \r"
     ]
    },
    {
     "name": "stdout",
     "output_type": "stream",
     "text": [
      "At round 213 accuracy: 0.7078029231494578\n",
      "At round 213 training accuracy: 0.731585518102372\n",
      "At round 213 training loss: 0.6569869590553452\n",
      "At round 213 Discrepancy: 1.950797297169132\n",
      "gradient difference: 6.706868786046785\n"
     ]
    },
    {
     "name": "stderr",
     "output_type": "stream",
     "text": [
      "                                                      \r"
     ]
    },
    {
     "name": "stdout",
     "output_type": "stream",
     "text": [
      "At round 214 accuracy: 0.7067421027817068\n",
      "At round 214 training accuracy: 0.7953539823008849\n",
      "At round 214 training loss: 0.6135123051018907\n",
      "At round 214 Discrepancy: 1.819084102934553\n",
      "gradient difference: 6.626694019675419\n"
     ]
    },
    {
     "name": "stderr",
     "output_type": "stream",
     "text": [
      "                                                      \r"
     ]
    },
    {
     "name": "stdout",
     "output_type": "stream",
     "text": [
      "At round 215 accuracy: 0.7093352192362093\n",
      "At round 215 training accuracy: 0.7316715542521994\n",
      "At round 215 training loss: 0.8011680746183367\n",
      "At round 215 Discrepancy: 1.7773372431153376\n",
      "gradient difference: 7.659289387328283\n"
     ]
    },
    {
     "name": "stderr",
     "output_type": "stream",
     "text": [
      "                                                      \r"
     ]
    },
    {
     "name": "stdout",
     "output_type": "stream",
     "text": [
      "At round 216 accuracy: 0.7093352192362093\n",
      "At round 216 training accuracy: 0.7518796992481203\n",
      "At round 216 training loss: 0.6537562020188361\n",
      "At round 216 Discrepancy: 1.8298080146657578\n",
      "gradient difference: 6.0045576301490176\n"
     ]
    },
    {
     "name": "stderr",
     "output_type": "stream",
     "text": [
      "                                                      \r"
     ]
    },
    {
     "name": "stdout",
     "output_type": "stream",
     "text": [
      "At round 217 accuracy: 0.7087458745874587\n",
      "At round 217 training accuracy: 0.7659297789336801\n",
      "At round 217 training loss: 0.6160531089349283\n",
      "At round 217 Discrepancy: 1.9862065163375178\n",
      "gradient difference: 6.408394567908606\n"
     ]
    },
    {
     "name": "stderr",
     "output_type": "stream",
     "text": [
      "                                                      \r"
     ]
    },
    {
     "name": "stdout",
     "output_type": "stream",
     "text": [
      "At round 218 accuracy: 0.7125176803394625\n",
      "At round 218 training accuracy: 0.7440993788819876\n",
      "At round 218 training loss: 0.7348609284769674\n",
      "At round 218 Discrepancy: 1.7473652302371367\n",
      "gradient difference: 6.445531074235926\n"
     ]
    },
    {
     "name": "stderr",
     "output_type": "stream",
     "text": [
      "                                                      \r"
     ]
    },
    {
     "name": "stdout",
     "output_type": "stream",
     "text": [
      "gradient difference: 7.042739067403011\n"
     ]
    },
    {
     "name": "stderr",
     "output_type": "stream",
     "text": [
      "                                                      \r"
     ]
    },
    {
     "name": "stdout",
     "output_type": "stream",
     "text": [
      "At round 221 accuracy: 0.7083922677982084\n",
      "At round 221 training accuracy: 0.7471751412429378\n",
      "At round 221 training loss: 0.6552894787263062\n",
      "At round 221 Discrepancy: 1.7732597025888122\n",
      "gradient difference: 6.907138637689675\n"
     ]
    },
    {
     "name": "stderr",
     "output_type": "stream",
     "text": [
      "                                                      \r"
     ]
    },
    {
     "name": "stdout",
     "output_type": "stream",
     "text": [
      "At round 222 accuracy: 0.7157001414427157\n",
      "At round 222 training accuracy: 0.7903885480572597\n",
      "At round 222 training loss: 0.5460079057724929\n",
      "At round 222 Discrepancy: 1.760274985668311\n",
      "gradient difference: 6.91442360420721\n"
     ]
    },
    {
     "name": "stderr",
     "output_type": "stream",
     "text": [
      "                                                      \r"
     ]
    },
    {
     "name": "stdout",
     "output_type": "stream",
     "text": [
      "At round 223 accuracy: 0.7106317774634606\n",
      "At round 223 training accuracy: 0.8011988011988012\n",
      "At round 223 training loss: 0.56079702322175\n",
      "At round 223 Discrepancy: 1.999432422244131\n",
      "gradient difference: 8.363146982958332\n"
     ]
    },
    {
     "name": "stderr",
     "output_type": "stream",
     "text": [
      "                                                      \r"
     ]
    },
    {
     "name": "stdout",
     "output_type": "stream",
     "text": [
      "At round 224 accuracy: 0.7115747289014616\n",
      "At round 224 training accuracy: 0.7528409090909091\n",
      "At round 224 training loss: 0.7842586085475474\n",
      "At round 224 Discrepancy: 1.779147694188105\n",
      "gradient difference: 7.977613581621344\n"
     ]
    },
    {
     "name": "stderr",
     "output_type": "stream",
     "text": [
      "                                                      \r"
     ]
    },
    {
     "name": "stdout",
     "output_type": "stream",
     "text": [
      "At round 225 accuracy: 0.7132248939179632\n",
      "At round 225 training accuracy: 0.7840909090909091\n",
      "At round 225 training loss: 0.5881245227869262\n",
      "At round 225 Discrepancy: 1.868182648097649\n",
      "gradient difference: 6.024305107053939\n"
     ]
    },
    {
     "name": "stderr",
     "output_type": "stream",
     "text": [
      "                                                      \r"
     ]
    },
    {
     "name": "stdout",
     "output_type": "stream",
     "text": [
      "At round 226 accuracy: 0.7092173503064593\n",
      "At round 226 training accuracy: 0.7548596112311015\n",
      "At round 226 training loss: 0.7658891301304424\n",
      "At round 226 Discrepancy: 1.6513030009638197\n",
      "gradient difference: 7.110556749451134\n"
     ]
    },
    {
     "name": "stderr",
     "output_type": "stream",
     "text": [
      "                                                      \r"
     ]
    },
    {
     "name": "stdout",
     "output_type": "stream",
     "text": [
      "At round 227 accuracy: 0.7141678453559641\n",
      "At round 227 training accuracy: 0.7755102040816326\n",
      "At round 227 training loss: 0.5908361142184458\n",
      "At round 227 Discrepancy: 1.798586291788324\n",
      "gradient difference: 7.292357496832148\n"
     ]
    },
    {
     "name": "stderr",
     "output_type": "stream",
     "text": [
      "                                                      \r"
     ]
    },
    {
     "name": "stdout",
     "output_type": "stream",
     "text": [
      "At round 228 accuracy: 0.7131070249882131\n",
      "At round 228 training accuracy: 0.7935656836461126\n",
      "At round 228 training loss: 0.6462059190413159\n",
      "At round 228 Discrepancy: 1.7871712850306753\n",
      "gradient difference: 7.137226584830654\n"
     ]
    },
    {
     "name": "stderr",
     "output_type": "stream",
     "text": [
      "                                                      \r"
     ]
    },
    {
     "name": "stdout",
     "output_type": "stream",
     "text": [
      "At round 229 accuracy: 0.712989156058463\n",
      "At round 229 training accuracy: 0.6973478939157566\n",
      "At round 229 training loss: 0.7776763531700497\n",
      "At round 229 Discrepancy: 1.7874889670460252\n",
      "gradient difference: 6.7802178771631265\n"
     ]
    },
    {
     "name": "stderr",
     "output_type": "stream",
     "text": [
      "                                                      \r"
     ]
    },
    {
     "name": "stdout",
     "output_type": "stream",
     "text": [
      "At round 230 accuracy: 0.7087458745874587\n",
      "At round 230 training accuracy: 0.5910852713178295\n",
      "At round 230 training loss: 1.1123959243499724\n",
      "At round 230 Discrepancy: 1.9683948522268835\n",
      "gradient difference: 5.767747031376924\n"
     ]
    },
    {
     "name": "stderr",
     "output_type": "stream",
     "text": [
      "                                                      \r"
     ]
    },
    {
     "name": "stdout",
     "output_type": "stream",
     "text": [
      "At round 231 accuracy: 0.6956624233851957\n",
      "At round 231 training accuracy: 0.7194835680751174\n",
      "At round 231 training loss: 0.6927316084224293\n",
      "At round 231 Discrepancy: 1.704871163863661\n",
      "gradient difference: 6.731215689464155\n"
     ]
    },
    {
     "name": "stderr",
     "output_type": "stream",
     "text": [
      "Epoch:  40%|████      | 4/10 [00:00<00:00,  6.15it/s] IOPub message rate exceeded.\n",
      "The notebook server will temporarily stop sending output\n",
      "to the client in order to avoid crashing it.\n",
      "To change this limit, set the config variable\n",
      "`--NotebookApp.iopub_msg_rate_limit`.\n",
      "\n",
      "Current values:\n",
      "NotebookApp.iopub_msg_rate_limit=1000.0 (msgs/sec)\n",
      "NotebookApp.rate_limit_window=3.0 (secs)\n",
      "\n",
      "                                                      \r"
     ]
    },
    {
     "name": "stdout",
     "output_type": "stream",
     "text": [
      "At round 287 accuracy: 0.701084394153701\n",
      "At round 287 training accuracy: 0.7323741007194244\n",
      "At round 287 training loss: 0.6821839225625874\n",
      "At round 287 Discrepancy: 1.9808492275496477\n",
      "gradient difference: 5.231466951807544\n"
     ]
    },
    {
     "name": "stderr",
     "output_type": "stream",
     "text": [
      "                                                      \r"
     ]
    },
    {
     "name": "stdout",
     "output_type": "stream",
     "text": [
      "At round 288 accuracy: 0.7073314474304573\n",
      "At round 288 training accuracy: 0.7673568818514007\n",
      "At round 288 training loss: 0.5934624015994543\n",
      "At round 288 Discrepancy: 1.7701054159285428\n",
      "gradient difference: 5.561701393759948\n"
     ]
    },
    {
     "name": "stderr",
     "output_type": "stream",
     "text": [
      "                                                      \r"
     ]
    },
    {
     "name": "stdout",
     "output_type": "stream",
     "text": [
      "At round 289 accuracy: 0.7114568599717115\n",
      "At round 289 training accuracy: 0.7665036674816625\n",
      "At round 289 training loss: 0.6404756233460455\n",
      "At round 289 Discrepancy: 1.7933340069640191\n",
      "gradient difference: 6.858476298679465\n"
     ]
    },
    {
     "name": "stderr",
     "output_type": "stream",
     "text": [
      "                                                      \r"
     ]
    },
    {
     "name": "stdout",
     "output_type": "stream",
     "text": [
      "At round 290 accuracy: 0.7153465346534653\n",
      "At round 290 training accuracy: 0.7975871313672922\n",
      "At round 290 training loss: 0.504363762985056\n",
      "At round 290 Discrepancy: 1.7646411022862991\n",
      "gradient difference: 4.616344542738582\n"
     ]
    },
    {
     "name": "stderr",
     "output_type": "stream",
     "text": [
      "                                                      \r"
     ]
    },
    {
     "name": "stdout",
     "output_type": "stream",
     "text": [
      "At round 291 accuracy: 0.7111032531824611\n",
      "At round 291 training accuracy: 0.7242921013412816\n",
      "At round 291 training loss: 0.6718349820988366\n",
      "At round 291 Discrepancy: 1.6071294617650593\n",
      "gradient difference: 5.616342290154087\n"
     ]
    },
    {
     "name": "stderr",
     "output_type": "stream",
     "text": [
      "                                                      \r"
     ]
    },
    {
     "name": "stdout",
     "output_type": "stream",
     "text": [
      "At round 292 accuracy: 0.70992456388496\n",
      "At round 292 training accuracy: 0.7788819875776397\n",
      "At round 292 training loss: 0.5940202688023171\n",
      "At round 292 Discrepancy: 1.617024486537641\n",
      "gradient difference: 5.5689660089171795\n"
     ]
    },
    {
     "name": "stderr",
     "output_type": "stream",
     "text": [
      "                                                      \r"
     ]
    },
    {
     "name": "stdout",
     "output_type": "stream",
     "text": [
      "At round 293 accuracy: 0.7120462046204621\n",
      "At round 293 training accuracy: 0.8\n",
      "At round 293 training loss: 0.4867183478894057\n",
      "At round 293 Discrepancy: 1.972802407487022\n",
      "gradient difference: 4.9306742979645755\n"
     ]
    },
    {
     "name": "stderr",
     "output_type": "stream",
     "text": [
      "                                                      \r"
     ]
    },
    {
     "name": "stdout",
     "output_type": "stream",
     "text": [
      "At round 294 accuracy: 0.7174681753889675\n",
      "At round 294 training accuracy: 0.79204107830552\n",
      "At round 294 training loss: 0.5824327754330211\n",
      "At round 294 Discrepancy: 1.7145561194315444\n",
      "gradient difference: 6.263963668397227\n"
     ]
    },
    {
     "name": "stderr",
     "output_type": "stream",
     "text": [
      "                                                      \r"
     ]
    },
    {
     "name": "stdout",
     "output_type": "stream",
     "text": [
      "At round 295 accuracy: 0.7173503064592174\n",
      "At round 295 training accuracy: 0.7352941176470589\n",
      "At round 295 training loss: 0.7485179649483339\n",
      "At round 295 Discrepancy: 1.89892470853104\n",
      "gradient difference: 5.387951287922777\n"
     ]
    },
    {
     "name": "stderr",
     "output_type": "stream",
     "text": [
      "                                                      \r"
     ]
    },
    {
     "name": "stdout",
     "output_type": "stream",
     "text": [
      "At round 296 accuracy: 0.7136963696369637\n",
      "At round 296 training accuracy: 0.7476525821596244\n",
      "At round 296 training loss: 0.6334110853117956\n",
      "At round 296 Discrepancy: 1.7080821515632052\n",
      "gradient difference: 5.165371395452938\n"
     ]
    },
    {
     "name": "stderr",
     "output_type": "stream",
     "text": [
      "                                                      \r"
     ]
    },
    {
     "name": "stdout",
     "output_type": "stream",
     "text": [
      "At round 297 accuracy: 0.7076850542197077\n",
      "At round 297 training accuracy: 0.8289205702647657\n",
      "At round 297 training loss: 0.4466088435284475\n",
      "At round 297 Discrepancy: 2.02565784850489\n",
      "gradient difference: 5.413895362211803\n"
     ]
    },
    {
     "name": "stderr",
     "output_type": "stream",
     "text": [
      "Epoch:   0%|          | 0/10 [00:00<?, ?it/s]         IOPub message rate exceeded.\n",
      "The notebook server will temporarily stop sending output\n",
      "to the client in order to avoid crashing it.\n",
      "To change this limit, set the config variable\n",
      "`--NotebookApp.iopub_msg_rate_limit`.\n",
      "\n",
      "Current values:\n",
      "NotebookApp.iopub_msg_rate_limit=1000.0 (msgs/sec)\n",
      "NotebookApp.rate_limit_window=3.0 (secs)\n",
      "\n"
     ]
    },
    {
     "name": "stdout",
     "output_type": "stream",
     "text": [
      "gradient difference: 5.896109562558895\n"
     ]
    },
    {
     "name": "stderr",
     "output_type": "stream",
     "text": [
      "                                                      \r"
     ]
    },
    {
     "name": "stdout",
     "output_type": "stream",
     "text": [
      "At round 323 accuracy: 0.7119283356907119\n",
      "At round 323 training accuracy: 0.7254901960784313\n",
      "At round 323 training loss: 0.6871504577226332\n",
      "At round 323 Discrepancy: 1.5884032846699012\n",
      "gradient difference: 5.234428128960764\n"
     ]
    },
    {
     "name": "stderr",
     "output_type": "stream",
     "text": [
      "                                                      \r"
     ]
    },
    {
     "name": "stdout",
     "output_type": "stream",
     "text": [
      "At round 324 accuracy: 0.7082743988684582\n",
      "At round 324 training accuracy: 0.7473684210526316\n",
      "At round 324 training loss: 0.6440830520893398\n",
      "At round 324 Discrepancy: 1.8612314087562551\n",
      "gradient difference: 4.428528873264985\n"
     ]
    },
    {
     "name": "stderr",
     "output_type": "stream",
     "text": [
      "                                                      \r"
     ]
    },
    {
     "name": "stdout",
     "output_type": "stream",
     "text": [
      "At round 325 accuracy: 0.7092173503064593\n",
      "At round 325 training accuracy: 0.7991675338189386\n",
      "At round 325 training loss: 0.5093741219075983\n",
      "At round 325 Discrepancy: 1.7738932207434597\n",
      "gradient difference: 6.011534779169468\n"
     ]
    },
    {
     "name": "stderr",
     "output_type": "stream",
     "text": [
      "                                                      \r"
     ]
    },
    {
     "name": "stdout",
     "output_type": "stream",
     "text": [
      "At round 326 accuracy: 0.7094530881659594\n",
      "At round 326 training accuracy: 0.7905824039653035\n",
      "At round 326 training loss: 0.5414822921064559\n",
      "At round 326 Discrepancy: 1.7936480683074532\n",
      "gradient difference: 6.0501608345736315\n"
     ]
    },
    {
     "name": "stderr",
     "output_type": "stream",
     "text": [
      "                                                      \r"
     ]
    },
    {
     "name": "stdout",
     "output_type": "stream",
     "text": [
      "At round 327 accuracy: 0.7151107967939652\n",
      "At round 327 training accuracy: 0.7926829268292683\n",
      "At round 327 training loss: 0.5993485990255506\n",
      "At round 327 Discrepancy: 1.8714064279425475\n",
      "gradient difference: 5.977418436830717\n"
     ]
    },
    {
     "name": "stderr",
     "output_type": "stream",
     "text": [
      "                                                      \r"
     ]
    },
    {
     "name": "stdout",
     "output_type": "stream",
     "text": [
      "At round 328 accuracy: 0.7136963696369637\n",
      "At round 328 training accuracy: 0.7243436754176611\n",
      "At round 328 training loss: 0.6157099652439711\n",
      "At round 328 Discrepancy: 1.7984834775744325\n",
      "gradient difference: 5.598559508226539\n"
     ]
    },
    {
     "name": "stderr",
     "output_type": "stream",
     "text": [
      "                                                      \r"
     ]
    },
    {
     "name": "stdout",
     "output_type": "stream",
     "text": [
      "At round 329 accuracy: 0.7107496463932107\n",
      "At round 329 training accuracy: 0.7667804323094426\n",
      "At round 329 training loss: 0.6561991255518486\n",
      "At round 329 Discrepancy: 1.728798247993931\n",
      "gradient difference: 6.306664592372132\n"
     ]
    },
    {
     "name": "stderr",
     "output_type": "stream",
     "text": [
      "                                                      \r"
     ]
    },
    {
     "name": "stdout",
     "output_type": "stream",
     "text": [
      "At round 330 accuracy: 0.7148750589344649\n",
      "At round 330 training accuracy: 0.7180851063829787\n",
      "At round 330 training loss: 0.8208950610078396\n",
      "At round 330 Discrepancy: 1.6800657564852464\n",
      "gradient difference: 5.757243492408133\n"
     ]
    },
    {
     "name": "stderr",
     "output_type": "stream",
     "text": [
      "                                                      \r"
     ]
    },
    {
     "name": "stdout",
     "output_type": "stream",
     "text": [
      "At round 331 accuracy: 0.7212399811409712\n",
      "At round 331 training accuracy: 0.7983367983367984\n",
      "At round 331 training loss: 0.6222468803630921\n",
      "At round 331 Discrepancy: 1.7257243825264967\n",
      "gradient difference: 5.799510161038458\n"
     ]
    },
    {
     "name": "stderr",
     "output_type": "stream",
     "text": [
      "                                                      \r"
     ]
    },
    {
     "name": "stdout",
     "output_type": "stream",
     "text": [
      "At round 332 accuracy: 0.7228901461574729\n",
      "At round 332 training accuracy: 0.7766884531590414\n",
      "At round 332 training loss: 0.5806099174134353\n",
      "At round 332 Discrepancy: 1.7656571443968978\n",
      "gradient difference: 5.8489297772454245\n"
     ]
    },
    {
     "name": "stderr",
     "output_type": "stream",
     "text": [
      "                                                      \r"
     ]
    },
    {
     "name": "stdout",
     "output_type": "stream",
     "text": [
      "At round 333 accuracy: 0.723008015087223\n",
      "At round 333 training accuracy: 0.8098676293622142\n",
      "At round 333 training loss: 0.5770110170189942\n",
      "At round 333 Discrepancy: 1.7957888418793686\n",
      "gradient difference: 6.0105145027951945\n"
     ]
    },
    {
     "name": "stderr",
     "output_type": "stream",
     "text": [
      "                                                      \r"
     ]
    },
    {
     "name": "stdout",
     "output_type": "stream",
     "text": [
      "At round 334 accuracy: 0.7191183404054691\n",
      "At round 334 training accuracy: 0.782707622298066\n",
      "At round 334 training loss: 0.5966018644141391\n",
      "At round 334 Discrepancy: 1.9995531554992092\n",
      "gradient difference: 5.85665168866284\n"
     ]
    },
    {
     "name": "stderr",
     "output_type": "stream",
     "text": [
      "                                                      \r"
     ]
    },
    {
     "name": "stdout",
     "output_type": "stream",
     "text": [
      "At round 335 accuracy: 0.7128712871287128\n",
      "At round 335 training accuracy: 0.748546511627907\n",
      "At round 335 training loss: 0.7053697457493737\n",
      "At round 335 Discrepancy: 2.0086942920247752\n",
      "gradient difference: 6.029002727589807\n"
     ]
    },
    {
     "name": "stderr",
     "output_type": "stream",
     "text": [
      "                                                      \r"
     ]
    },
    {
     "name": "stdout",
     "output_type": "stream",
     "text": [
      "At round 336 accuracy: 0.7186468646864687\n",
      "At round 336 training accuracy: 0.7840112201963534\n",
      "At round 336 training loss: 0.6025578003862629\n",
      "At round 336 Discrepancy: 1.8784927236655893\n",
      "gradient difference: 4.989764859167364\n"
     ]
    },
    {
     "name": "stderr",
     "output_type": "stream",
     "text": [
      "                                                      \r"
     ]
    },
    {
     "name": "stdout",
     "output_type": "stream",
     "text": [
      "At round 337 accuracy: 0.724068835454974\n",
      "At round 337 training accuracy: 0.7592867756315007\n",
      "At round 337 training loss: 0.6006589488805801\n",
      "At round 337 Discrepancy: 1.6490071240953128\n",
      "gradient difference: 5.215347293677422\n"
     ]
    },
    {
     "name": "stderr",
     "output_type": "stream",
     "text": [
      "                                                      \r"
     ]
    },
    {
     "name": "stdout",
     "output_type": "stream",
     "text": [
      "At round 338 accuracy: 0.7234794908062234\n",
      "At round 338 training accuracy: 0.7820689655172414\n",
      "At round 338 training loss: 0.5966558214508254\n",
      "At round 338 Discrepancy: 1.6828094168139067\n",
      "gradient difference: 5.014369979423598\n"
     ]
    },
    {
     "name": "stderr",
     "output_type": "stream",
     "text": [
      "                                                      \r"
     ]
    },
    {
     "name": "stdout",
     "output_type": "stream",
     "text": [
      "At round 339 accuracy: 0.724068835454974\n",
      "At round 339 training accuracy: 0.7615384615384615\n",
      "At round 339 training loss: 0.6516680265848454\n",
      "At round 339 Discrepancy: 1.5252179096663254\n",
      "gradient difference: 5.361706738378821\n"
     ]
    },
    {
     "name": "stderr",
     "output_type": "stream",
     "text": [
      "                                                      \r"
     ]
    },
    {
     "name": "stdout",
     "output_type": "stream",
     "text": [
      "At round 340 accuracy: 0.7204148986327205\n",
      "At round 340 training accuracy: 0.7588832487309645\n",
      "At round 340 training loss: 0.6917570279532959\n",
      "At round 340 Discrepancy: 1.7490031321670192\n",
      "gradient difference: 4.975070029890023\n"
     ]
    },
    {
     "name": "stderr",
     "output_type": "stream",
     "text": [
      "                                                      \r"
     ]
    },
    {
     "name": "stdout",
     "output_type": "stream",
     "text": [
      "At round 341 accuracy: 0.7102781706742103\n",
      "At round 341 training accuracy: 0.8188585607940446\n",
      "At round 341 training loss: 0.508554341757402\n",
      "At round 341 Discrepancy: 1.5942281345067644\n",
      "gradient difference: 5.808258468172038\n"
     ]
    },
    {
     "name": "stderr",
     "output_type": "stream",
     "text": [
      "                                                      \r"
     ]
    },
    {
     "name": "stdout",
     "output_type": "stream",
     "text": [
      "At round 342 accuracy: 0.7225365393682225\n",
      "At round 342 training accuracy: 0.7795454545454545\n",
      "At round 342 training loss: 0.6402378554879264\n",
      "At round 342 Discrepancy: 1.6710033875315902\n",
      "gradient difference: 5.854244200973898\n"
     ]
    },
    {
     "name": "stderr",
     "output_type": "stream",
     "text": [
      "                                                      \r"
     ]
    },
    {
     "name": "stdout",
     "output_type": "stream",
     "text": [
      "At round 343 accuracy: 0.7141678453559641\n",
      "At round 343 training accuracy: 0.8271461716937355\n",
      "At round 343 training loss: 0.45277716537501034\n",
      "At round 343 Discrepancy: 1.804601449810401\n",
      "gradient difference: 6.121706754055581\n"
     ]
    },
    {
     "name": "stderr",
     "output_type": "stream",
     "text": [
      "                                                      \r"
     ]
    },
    {
     "name": "stdout",
     "output_type": "stream",
     "text": [
      "At round 344 accuracy: 0.7164073550212164\n",
      "At round 344 training accuracy: 0.7771260997067448\n",
      "At round 344 training loss: 0.619648997865814\n",
      "At round 344 Discrepancy: 1.742631856348477\n",
      "gradient difference: 6.273841923496767\n"
     ]
    },
    {
     "name": "stderr",
     "output_type": "stream",
     "text": [
      "                                                      \r"
     ]
    },
    {
     "name": "stdout",
     "output_type": "stream",
     "text": [
      "At round 345 accuracy: 0.7142857142857143\n",
      "At round 345 training accuracy: 0.8292964244521338\n",
      "At round 345 training loss: 0.45407662501144025\n",
      "At round 345 Discrepancy: 1.7492336100891344\n",
      "gradient difference: 5.725287664407997\n"
     ]
    },
    {
     "name": "stderr",
     "output_type": "stream",
     "text": [
      "                                                      \r"
     ]
    },
    {
     "name": "stdout",
     "output_type": "stream",
     "text": [
      "At round 346 accuracy: 0.7226544082979727\n",
      "At round 346 training accuracy: 0.7260765550239234\n",
      "At round 346 training loss: 0.8028665518290118\n",
      "At round 346 Discrepancy: 1.723307851946609\n",
      "gradient difference: 6.289562598092158\n"
     ]
    },
    {
     "name": "stderr",
     "output_type": "stream",
     "text": [
      "                                                      \r"
     ]
    },
    {
     "name": "stdout",
     "output_type": "stream",
     "text": [
      "At round 347 accuracy: 0.7146393210749646\n",
      "At round 347 training accuracy: 0.7840755735492577\n",
      "At round 347 training loss: 0.5538479787613015\n",
      "At round 347 Discrepancy: 2.2613573291485665\n",
      "gradient difference: 5.093868404730061\n"
     ]
    },
    {
     "name": "stderr",
     "output_type": "stream",
     "text": [
      "                                                      \r"
     ]
    },
    {
     "name": "stdout",
     "output_type": "stream",
     "text": [
      "At round 348 accuracy: 0.7201791607732202\n",
      "At round 348 training accuracy: 0.7792041078305519\n",
      "At round 348 training loss: 0.6231550244932494\n",
      "At round 348 Discrepancy: 1.5310678238292614\n",
      "gradient difference: 5.4207492433071565\n"
     ]
    },
    {
     "name": "stderr",
     "output_type": "stream",
     "text": [
      "                                                      \r"
     ]
    },
    {
     "name": "stdout",
     "output_type": "stream",
     "text": [
      "At round 349 accuracy: 0.7145214521452146\n",
      "At round 349 training accuracy: 0.7869742198100407\n",
      "At round 349 training loss: 0.559608376020088\n",
      "At round 349 Discrepancy: 1.6602572197832715\n",
      "gradient difference: 5.598567801084333\n"
     ]
    },
    {
     "name": "stderr",
     "output_type": "stream",
     "text": [
      "                                                      \r"
     ]
    },
    {
     "name": "stdout",
     "output_type": "stream",
     "text": [
      "At round 350 accuracy: 0.7092173503064593\n",
      "At round 350 training accuracy: 0.754950495049505\n",
      "At round 350 training loss: 0.5865771054557645\n",
      "At round 350 Discrepancy: 1.6448532622598724\n",
      "gradient difference: 5.180956076006883\n"
     ]
    },
    {
     "name": "stderr",
     "output_type": "stream",
     "text": [
      "                                                      \r"
     ]
    },
    {
     "name": "stdout",
     "output_type": "stream",
     "text": [
      "At round 351 accuracy: 0.7215935879302215\n",
      "At round 351 training accuracy: 0.7882096069868996\n",
      "At round 351 training loss: 0.5150612861728378\n",
      "At round 351 Discrepancy: 1.788148046723051\n",
      "gradient difference: 5.019121720363892\n"
     ]
    },
    {
     "name": "stderr",
     "output_type": "stream",
     "text": [
      "                                                      \r"
     ]
    },
    {
     "name": "stdout",
     "output_type": "stream",
     "text": [
      "At round 352 accuracy: 0.7153465346534653\n",
      "At round 352 training accuracy: 0.8088737201365188\n",
      "At round 352 training loss: 0.5083784944119846\n",
      "At round 352 Discrepancy: 1.6218163121588396\n",
      "gradient difference: 5.899774300408484\n"
     ]
    },
    {
     "name": "stderr",
     "output_type": "stream",
     "text": [
      "                                                      \r"
     ]
    },
    {
     "name": "stdout",
     "output_type": "stream",
     "text": [
      "At round 353 accuracy: 0.7175860443187175\n",
      "At round 353 training accuracy: 0.7411003236245954\n",
      "At round 353 training loss: 0.7272711161528076\n",
      "At round 353 Discrepancy: 1.61259700959774\n",
      "gradient difference: 7.0393954273153065\n"
     ]
    },
    {
     "name": "stderr",
     "output_type": "stream",
     "text": [
      "                                                      \r"
     ]
    },
    {
     "name": "stdout",
     "output_type": "stream",
     "text": [
      "At round 354 accuracy: 0.7198255539839699\n",
      "At round 354 training accuracy: 0.7817622950819673\n",
      "At round 354 training loss: 0.5784014961529584\n",
      "At round 354 Discrepancy: 1.8941180766234527\n",
      "gradient difference: 6.684502307402152\n"
     ]
    },
    {
     "name": "stderr",
     "output_type": "stream",
     "text": [
      "                                                      \r"
     ]
    },
    {
     "name": "stdout",
     "output_type": "stream",
     "text": [
      "At round 355 accuracy: 0.7182932578972183\n",
      "At round 355 training accuracy: 0.783180026281209\n",
      "At round 355 training loss: 0.6015086821359967\n",
      "At round 355 Discrepancy: 1.718625252961821\n",
      "gradient difference: 7.006852900756518\n"
     ]
    },
    {
     "name": "stderr",
     "output_type": "stream",
     "text": [
      "                                                      \r"
     ]
    },
    {
     "name": "stdout",
     "output_type": "stream",
     "text": [
      "At round 356 accuracy: 0.7185289957567186\n",
      "At round 356 training accuracy: 0.8052073288331726\n",
      "At round 356 training loss: 0.5974487415878614\n",
      "At round 356 Discrepancy: 1.8491679808536685\n",
      "gradient difference: 6.172829897461331\n"
     ]
    },
    {
     "name": "stderr",
     "output_type": "stream",
     "text": [
      "                                                      \r"
     ]
    },
    {
     "name": "stdout",
     "output_type": "stream",
     "text": [
      "At round 357 accuracy: 0.7201791607732202\n",
      "At round 357 training accuracy: 0.7265258215962441\n",
      "At round 357 training loss: 0.7205982458353603\n",
      "At round 357 Discrepancy: 1.6051332447576605\n",
      "gradient difference: 6.5685876951856255\n"
     ]
    },
    {
     "name": "stderr",
     "output_type": "stream",
     "text": [
      "                                                      \r"
     ]
    },
    {
     "name": "stdout",
     "output_type": "stream",
     "text": [
      "At round 358 accuracy: 0.7138142385667138\n",
      "At round 358 training accuracy: 0.8304635761589404\n",
      "At round 358 training loss: 0.4711398375547485\n",
      "At round 358 Discrepancy: 1.9884597094248726\n",
      "gradient difference: 5.225977145824959\n"
     ]
    },
    {
     "name": "stderr",
     "output_type": "stream",
     "text": [
      "                                                      \r"
     ]
    },
    {
     "name": "stdout",
     "output_type": "stream",
     "text": [
      "At round 359 accuracy: 0.7172324375294672\n",
      "At round 359 training accuracy: 0.7693208430913349\n",
      "At round 359 training loss: 0.5876294554187207\n",
      "At round 359 Discrepancy: 1.7213656733695568\n",
      "gradient difference: 5.877263126697335\n"
     ]
    },
    {
     "name": "stderr",
     "output_type": "stream",
     "text": [
      "                                                      \r"
     ]
    },
    {
     "name": "stdout",
     "output_type": "stream",
     "text": [
      "At round 360 accuracy: 0.7188826025459689\n",
      "At round 360 training accuracy: 0.7520891364902507\n",
      "At round 360 training loss: 0.6335027539931707\n",
      "At round 360 Discrepancy: 1.8620511463531706\n",
      "gradient difference: 5.748323749747127\n"
     ]
    },
    {
     "name": "stderr",
     "output_type": "stream",
     "text": [
      "                                                      \r"
     ]
    },
    {
     "name": "stdout",
     "output_type": "stream",
     "text": [
      "At round 361 accuracy: 0.7172324375294672\n",
      "At round 361 training accuracy: 0.7678100263852242\n",
      "At round 361 training loss: 0.6101557090092146\n",
      "At round 361 Discrepancy: 1.7988340797967077\n",
      "gradient difference: 4.740376006193236\n"
     ]
    },
    {
     "name": "stderr",
     "output_type": "stream",
     "text": [
      "                                                      \r"
     ]
    },
    {
     "name": "stdout",
     "output_type": "stream",
     "text": [
      "At round 362 accuracy: 0.7152286657237152\n",
      "At round 362 training accuracy: 0.7253121452894438\n",
      "At round 362 training loss: 0.7465620104151606\n",
      "At round 362 Discrepancy: 1.7139542345034822\n",
      "gradient difference: 5.636885837620415\n"
     ]
    },
    {
     "name": "stderr",
     "output_type": "stream",
     "text": [
      "                                                      \r"
     ]
    },
    {
     "name": "stdout",
     "output_type": "stream",
     "text": [
      "At round 363 accuracy: 0.7105139085337105\n",
      "At round 363 training accuracy: 0.7581453634085213\n",
      "At round 363 training loss: 0.6648523932448903\n",
      "At round 363 Discrepancy: 1.7992877493201707\n",
      "gradient difference: 6.058790658325552\n"
     ]
    },
    {
     "name": "stderr",
     "output_type": "stream",
     "text": [
      "                                                      \r"
     ]
    },
    {
     "name": "stdout",
     "output_type": "stream",
     "text": [
      "At round 364 accuracy: 0.7141678453559641\n",
      "At round 364 training accuracy: 0.7588888888888888\n",
      "At round 364 training loss: 0.684336053878069\n",
      "At round 364 Discrepancy: 1.7820807900547653\n",
      "gradient difference: 6.355599863443139\n"
     ]
    },
    {
     "name": "stderr",
     "output_type": "stream",
     "text": [
      "                                                      \r"
     ]
    },
    {
     "name": "stdout",
     "output_type": "stream",
     "text": [
      "At round 365 accuracy: 0.7201791607732202\n",
      "At round 365 training accuracy: 0.76985559566787\n",
      "At round 365 training loss: 0.5940972531906965\n",
      "At round 365 Discrepancy: 2.046250709216893\n",
      "gradient difference: 5.659490622069104\n"
     ]
    },
    {
     "name": "stderr",
     "output_type": "stream",
     "text": [
      "                                                      \r"
     ]
    },
    {
     "name": "stdout",
     "output_type": "stream",
     "text": [
      "At round 366 accuracy: 0.7164073550212164\n",
      "At round 366 training accuracy: 0.8086330935251799\n",
      "At round 366 training loss: 0.49517862019564607\n",
      "At round 366 Discrepancy: 2.1344941383188316\n",
      "gradient difference: 7.099511242580395\n"
     ]
    },
    {
     "name": "stderr",
     "output_type": "stream",
     "text": [
      "                                                      \r"
     ]
    },
    {
     "name": "stdout",
     "output_type": "stream",
     "text": [
      "At round 367 accuracy: 0.7174681753889675\n",
      "At round 367 training accuracy: 0.804162724692526\n",
      "At round 367 training loss: 0.5645039757694291\n",
      "At round 367 Discrepancy: 1.8213796702486462\n",
      "gradient difference: 7.009539023880777\n"
     ]
    },
    {
     "name": "stderr",
     "output_type": "stream",
     "text": [
      "                                                      \r"
     ]
    },
    {
     "name": "stdout",
     "output_type": "stream",
     "text": [
      "At round 368 accuracy: 0.7194719471947195\n",
      "At round 368 training accuracy: 0.81\n",
      "At round 368 training loss: 0.5291421910072677\n",
      "At round 368 Discrepancy: 1.950183462334849\n",
      "gradient difference: 7.153166768391311\n"
     ]
    },
    {
     "name": "stderr",
     "output_type": "stream",
     "text": [
      "                                                      \r"
     ]
    },
    {
     "name": "stdout",
     "output_type": "stream",
     "text": [
      "At round 369 accuracy: 0.7231258840169731\n",
      "At round 369 training accuracy: 0.7494432071269488\n",
      "At round 369 training loss: 0.6725157063256302\n",
      "At round 369 Discrepancy: 1.6982006619231078\n",
      "gradient difference: 6.429962319604108\n"
     ]
    },
    {
     "name": "stderr",
     "output_type": "stream",
     "text": [
      "                                                      \r"
     ]
    },
    {
     "name": "stdout",
     "output_type": "stream",
     "text": [
      "At round 370 accuracy: 0.7205327675624705\n",
      "At round 370 training accuracy: 0.7745208568207441\n",
      "At round 370 training loss: 0.640683825618116\n",
      "At round 370 Discrepancy: 1.7708310912552345\n",
      "gradient difference: 6.123498025511726\n"
     ]
    },
    {
     "name": "stderr",
     "output_type": "stream",
     "text": [
      "                                                      \r"
     ]
    },
    {
     "name": "stdout",
     "output_type": "stream",
     "text": [
      "At round 371 accuracy: 0.7062706270627063\n",
      "At round 371 training accuracy: 0.7648902821316614\n",
      "At round 371 training loss: 0.5838578075731062\n",
      "At round 371 Discrepancy: 2.037609565262715\n",
      "gradient difference: 5.114472708760413\n"
     ]
    },
    {
     "name": "stderr",
     "output_type": "stream",
     "text": [
      "                                                      \r"
     ]
    },
    {
     "name": "stdout",
     "output_type": "stream",
     "text": [
      "At round 372 accuracy: 0.7153465346534653\n",
      "At round 372 training accuracy: 0.7928483353884094\n",
      "At round 372 training loss: 0.5841179250862389\n",
      "At round 372 Discrepancy: 1.6355238013323898\n",
      "gradient difference: 6.472903198111283\n"
     ]
    },
    {
     "name": "stderr",
     "output_type": "stream",
     "text": [
      "                                                      \r"
     ]
    },
    {
     "name": "stdout",
     "output_type": "stream",
     "text": [
      "At round 373 accuracy: 0.7147571900047147\n",
      "At round 373 training accuracy: 0.7831978319783198\n",
      "At round 373 training loss: 0.5539183813402162\n",
      "At round 373 Discrepancy: 1.8318339264613228\n",
      "gradient difference: 5.944714330501719\n"
     ]
    },
    {
     "name": "stderr",
     "output_type": "stream",
     "text": [
      "                                                      \r"
     ]
    },
    {
     "name": "stdout",
     "output_type": "stream",
     "text": [
      "At round 374 accuracy: 0.7202970297029703\n",
      "At round 374 training accuracy: 0.8207762557077626\n",
      "At round 374 training loss: 0.4537163050414688\n",
      "At round 374 Discrepancy: 1.8972334336098857\n",
      "gradient difference: 5.6527564886812565\n"
     ]
    },
    {
     "name": "stderr",
     "output_type": "stream",
     "text": [
      "                                                      \r"
     ]
    },
    {
     "name": "stdout",
     "output_type": "stream",
     "text": [
      "At round 375 accuracy: 0.7195898161244696\n",
      "At round 375 training accuracy: 0.8424036281179138\n",
      "At round 375 training loss: 0.4432599009553186\n",
      "At round 375 Discrepancy: 1.6117188929652873\n",
      "gradient difference: 6.342157515744458\n"
     ]
    },
    {
     "name": "stderr",
     "output_type": "stream",
     "text": [
      "                                                      \r"
     ]
    },
    {
     "name": "stdout",
     "output_type": "stream",
     "text": [
      "At round 376 accuracy: 0.7175860443187175\n",
      "At round 376 training accuracy: 0.7903014416775884\n",
      "At round 376 training loss: 0.6990385671679619\n",
      "At round 376 Discrepancy: 1.503946367078182\n",
      "gradient difference: 6.855477956851408\n"
     ]
    },
    {
     "name": "stderr",
     "output_type": "stream",
     "text": [
      "                                                      \r"
     ]
    },
    {
     "name": "stdout",
     "output_type": "stream",
     "text": [
      "At round 377 accuracy: 0.7165252239509665\n",
      "At round 377 training accuracy: 0.8123543123543123\n",
      "At round 377 training loss: 0.5101878814277672\n",
      "At round 377 Discrepancy: 1.8339016048658308\n",
      "gradient difference: 5.4497864897646116\n"
     ]
    },
    {
     "name": "stderr",
     "output_type": "stream",
     "text": [
      "                                                      \r"
     ]
    },
    {
     "name": "stdout",
     "output_type": "stream",
     "text": [
      "At round 378 accuracy: 0.7184111268269684\n",
      "At round 378 training accuracy: 0.5764596848934198\n",
      "At round 378 training loss: 1.4966676014512639\n",
      "At round 378 Discrepancy: 1.970837263949894\n",
      "gradient difference: 6.335435170159036\n"
     ]
    },
    {
     "name": "stderr",
     "output_type": "stream",
     "text": [
      "                                                      \r"
     ]
    },
    {
     "name": "stdout",
     "output_type": "stream",
     "text": [
      "At round 379 accuracy: 0.6961338991041961\n",
      "At round 379 training accuracy: 0.7531428571428571\n",
      "At round 379 training loss: 0.5350108557723995\n",
      "At round 379 Discrepancy: 1.8699109124098416\n",
      "gradient difference: 4.822765041050546\n"
     ]
    },
    {
     "name": "stderr",
     "output_type": "stream",
     "text": [
      "                                                      \r"
     ]
    },
    {
     "name": "stdout",
     "output_type": "stream",
     "text": [
      "At round 380 accuracy: 0.7256011315417256\n",
      "At round 380 training accuracy: 0.7783075089392133\n",
      "At round 380 training loss: 0.6096557134382773\n",
      "At round 380 Discrepancy: 1.503373672181842\n",
      "gradient difference: 5.61654108526248\n"
     ]
    },
    {
     "name": "stderr",
     "output_type": "stream",
     "text": [
      "                                                      \r"
     ]
    },
    {
     "name": "stdout",
     "output_type": "stream",
     "text": [
      "At round 381 accuracy: 0.7224186704384724\n",
      "At round 381 training accuracy: 0.7568208778173191\n",
      "At round 381 training loss: 0.6851501165052891\n",
      "At round 381 Discrepancy: 2.019145002543104\n",
      "gradient difference: 5.467220967700427\n"
     ]
    },
    {
     "name": "stderr",
     "output_type": "stream",
     "text": [
      "                                                      \r"
     ]
    },
    {
     "name": "stdout",
     "output_type": "stream",
     "text": [
      "At round 382 accuracy: 0.7204148986327205\n",
      "At round 382 training accuracy: 0.8255269320843092\n",
      "At round 382 training loss: 0.46834896595612063\n",
      "At round 382 Discrepancy: 1.8874425218088515\n",
      "gradient difference: 5.76002875569034\n"
     ]
    },
    {
     "name": "stderr",
     "output_type": "stream",
     "text": [
      "                                                      \r"
     ]
    },
    {
     "name": "stdout",
     "output_type": "stream",
     "text": [
      "At round 383 accuracy: 0.7184111268269684\n",
      "At round 383 training accuracy: 0.7506561679790026\n",
      "At round 383 training loss: 0.6796308573618961\n",
      "At round 383 Discrepancy: 1.7151399611609208\n",
      "gradient difference: 6.398955279194307\n"
     ]
    },
    {
     "name": "stderr",
     "output_type": "stream",
     "text": [
      "                                                      \r"
     ]
    },
    {
     "name": "stdout",
     "output_type": "stream",
     "text": [
      "At round 384 accuracy: 0.7114568599717115\n",
      "At round 384 training accuracy: 0.7997658079625293\n",
      "At round 384 training loss: 0.5207940513541839\n",
      "At round 384 Discrepancy: 2.0792674894029366\n",
      "gradient difference: 5.154743926227929\n"
     ]
    },
    {
     "name": "stderr",
     "output_type": "stream",
     "text": [
      "                                                      \r"
     ]
    },
    {
     "name": "stdout",
     "output_type": "stream",
     "text": [
      "At round 385 accuracy: 0.7157001414427157\n",
      "At round 385 training accuracy: 0.7991071428571429\n",
      "At round 385 training loss: 0.6216994778743745\n",
      "At round 385 Discrepancy: 1.5169736878117184\n",
      "gradient difference: 5.88767039985056\n"
     ]
    },
    {
     "name": "stderr",
     "output_type": "stream",
     "text": [
      "                                                      \r"
     ]
    },
    {
     "name": "stdout",
     "output_type": "stream",
     "text": [
      "At round 386 accuracy: 0.7161716171617162\n",
      "At round 386 training accuracy: 0.7829736211031175\n",
      "At round 386 training loss: 0.5426180993678044\n",
      "At round 386 Discrepancy: 1.750346781394447\n",
      "gradient difference: 5.887565055505225\n"
     ]
    },
    {
     "name": "stderr",
     "output_type": "stream",
     "text": [
      "                                                      \r"
     ]
    },
    {
     "name": "stdout",
     "output_type": "stream",
     "text": [
      "At round 387 accuracy: 0.7184111268269684\n",
      "At round 387 training accuracy: 0.793465577596266\n",
      "At round 387 training loss: 0.6502333814441253\n",
      "At round 387 Discrepancy: 2.005067214012665\n",
      "gradient difference: 5.9834491094535425\n"
     ]
    },
    {
     "name": "stderr",
     "output_type": "stream",
     "text": [
      "                                                      \r"
     ]
    },
    {
     "name": "stdout",
     "output_type": "stream",
     "text": [
      "At round 388 accuracy: 0.7164073550212164\n",
      "At round 388 training accuracy: 0.8162344983089064\n",
      "At round 388 training loss: 0.5136799774749001\n",
      "At round 388 Discrepancy: 2.1053317735921575\n",
      "gradient difference: 5.2419806000600015\n"
     ]
    },
    {
     "name": "stderr",
     "output_type": "stream",
     "text": [
      "                                                      \r"
     ]
    },
    {
     "name": "stdout",
     "output_type": "stream",
     "text": [
      "At round 389 accuracy: 0.7177039132484677\n",
      "At round 389 training accuracy: 0.804726368159204\n",
      "At round 389 training loss: 0.5129713884262896\n",
      "At round 389 Discrepancy: 1.6588923554023782\n",
      "gradient difference: 5.9428555237971885\n"
     ]
    },
    {
     "name": "stderr",
     "output_type": "stream",
     "text": [
      "                                                      \r"
     ]
    },
    {
     "name": "stdout",
     "output_type": "stream",
     "text": [
      "At round 390 accuracy: 0.716996699669967\n",
      "At round 390 training accuracy: 0.7626886145404664\n",
      "At round 390 training loss: 0.7097813962908929\n",
      "At round 390 Discrepancy: 1.7159720314649562\n",
      "gradient difference: 6.051056208676803\n"
     ]
    },
    {
     "name": "stderr",
     "output_type": "stream",
     "text": [
      "                                                      \r"
     ]
    },
    {
     "name": "stdout",
     "output_type": "stream",
     "text": [
      "At round 391 accuracy: 0.7151107967939652\n",
      "At round 391 training accuracy: 0.8017031630170316\n",
      "At round 391 training loss: 0.5710708978481097\n",
      "At round 391 Discrepancy: 1.830481254075936\n",
      "gradient difference: 5.310146360566846\n"
     ]
    },
    {
     "name": "stderr",
     "output_type": "stream",
     "text": [
      "                                                      \r"
     ]
    },
    {
     "name": "stdout",
     "output_type": "stream",
     "text": [
      "At round 392 accuracy: 0.7125176803394625\n",
      "At round 392 training accuracy: 0.7893462469733656\n",
      "At round 392 training loss: 0.5455640256044074\n",
      "At round 392 Discrepancy: 1.612269523529965\n",
      "gradient difference: 5.556030893554109\n"
     ]
    },
    {
     "name": "stderr",
     "output_type": "stream",
     "text": [
      "                                                      \r"
     ]
    },
    {
     "name": "stdout",
     "output_type": "stream",
     "text": [
      "At round 393 accuracy: 0.7151107967939652\n",
      "At round 393 training accuracy: 0.8188118811881188\n",
      "At round 393 training loss: 0.5158848634745815\n",
      "At round 393 Discrepancy: 1.7227218402215585\n",
      "gradient difference: 6.9959462355776205\n"
     ]
    },
    {
     "name": "stderr",
     "output_type": "stream",
     "text": [
      "                                                      \r"
     ]
    },
    {
     "name": "stdout",
     "output_type": "stream",
     "text": [
      "At round 394 accuracy: 0.7151107967939652\n",
      "At round 394 training accuracy: 0.7698412698412699\n",
      "At round 394 training loss: 0.6939557267695057\n",
      "At round 394 Discrepancy: 1.887386250576458\n",
      "gradient difference: 7.384224554197138\n"
     ]
    },
    {
     "name": "stderr",
     "output_type": "stream",
     "text": [
      "                                                      \r"
     ]
    },
    {
     "name": "stdout",
     "output_type": "stream",
     "text": [
      "At round 395 accuracy: 0.7142857142857143\n",
      "At round 395 training accuracy: 0.8280182232346242\n",
      "At round 395 training loss: 0.493759722941065\n",
      "At round 395 Discrepancy: 2.456692073611168\n",
      "gradient difference: 6.138138323535805\n"
     ]
    },
    {
     "name": "stderr",
     "output_type": "stream",
     "text": [
      "                                                      \r"
     ]
    },
    {
     "name": "stdout",
     "output_type": "stream",
     "text": [
      "At round 396 accuracy: 0.7162894860914663\n",
      "At round 396 training accuracy: 0.7985309548793285\n",
      "At round 396 training loss: 0.5698985871052661\n",
      "At round 396 Discrepancy: 1.6670746440104651\n",
      "gradient difference: 6.349494611607776\n"
     ]
    },
    {
     "name": "stderr",
     "output_type": "stream",
     "text": [
      "                                                      \r"
     ]
    },
    {
     "name": "stdout",
     "output_type": "stream",
     "text": [
      "At round 397 accuracy: 0.7166430928807166\n",
      "At round 397 training accuracy: 0.8116591928251121\n",
      "At round 397 training loss: 0.5689149438675009\n",
      "At round 397 Discrepancy: 1.7386911758778656\n",
      "gradient difference: 6.674511978722727\n"
     ]
    },
    {
     "name": "stderr",
     "output_type": "stream",
     "text": [
      "                                                      \r"
     ]
    },
    {
     "name": "stdout",
     "output_type": "stream",
     "text": [
      "At round 398 accuracy: 0.7259547383309759\n",
      "At round 398 training accuracy: 0.8131256952169077\n",
      "At round 398 training loss: 0.5303892367110237\n",
      "At round 398 Discrepancy: 2.0756644563999864\n",
      "gradient difference: 6.15513276329101\n"
     ]
    },
    {
     "name": "stderr",
     "output_type": "stream",
     "text": [
      "                                                      \r"
     ]
    },
    {
     "name": "stdout",
     "output_type": "stream",
     "text": [
      "At round 399 accuracy: 0.7238330975954739\n",
      "At round 399 training accuracy: 0.7451219512195122\n",
      "At round 399 training loss: 0.7167888546680532\n",
      "At round 399 Discrepancy: 1.8730532648752416\n",
      "gradient difference: 6.86509194188846\n"
     ]
    },
    {
     "name": "stderr",
     "output_type": "stream",
     "text": [
      "                                                      \r"
     ]
    },
    {
     "name": "stdout",
     "output_type": "stream",
     "text": [
      "At round 400 accuracy: 0.7191183404054691\n",
      "At round 400 training accuracy: 0.8153846153846154\n",
      "At round 400 training loss: 0.4929174099823685\n",
      "At round 400 Discrepancy: 1.9558637646558021\n",
      "gradient difference: 5.44042016008853\n"
     ]
    },
    {
     "name": "stderr",
     "output_type": "stream",
     "text": [
      "                                                      \r"
     ]
    },
    {
     "name": "stdout",
     "output_type": "stream",
     "text": [
      "At round 401 accuracy: 0.7232437529467233\n",
      "At round 401 training accuracy: 0.7722222222222223\n",
      "At round 401 training loss: 0.6988383865708279\n",
      "At round 401 Discrepancy: 1.5795902044047092\n",
      "gradient difference: 6.342269034831568\n"
     ]
    },
    {
     "name": "stderr",
     "output_type": "stream",
     "text": [
      "                                                      \r"
     ]
    },
    {
     "name": "stdout",
     "output_type": "stream",
     "text": [
      "At round 402 accuracy: 0.7178217821782178\n",
      "At round 402 training accuracy: 0.8047858942065491\n",
      "At round 402 training loss: 0.5443528628994896\n",
      "At round 402 Discrepancy: 1.7646999563522976\n",
      "gradient difference: 5.954420079746641\n"
     ]
    },
    {
     "name": "stderr",
     "output_type": "stream",
     "text": [
      "                                                      \r"
     ]
    },
    {
     "name": "stdout",
     "output_type": "stream",
     "text": [
      "At round 403 accuracy: 0.7264262140499764\n",
      "At round 403 training accuracy: 0.7151607963246555\n",
      "At round 403 training loss: 0.7805243669845061\n",
      "At round 403 Discrepancy: 1.8206470536797823\n",
      "gradient difference: 5.924872949467023\n"
     ]
    },
    {
     "name": "stderr",
     "output_type": "stream",
     "text": [
      "                                                      \r"
     ]
    },
    {
     "name": "stdout",
     "output_type": "stream",
     "text": [
      "At round 404 accuracy: 0.7133427628477134\n",
      "At round 404 training accuracy: 0.8117942283563363\n",
      "At round 404 training loss: 0.5225374497089961\n",
      "At round 404 Discrepancy: 2.0004206543252625\n",
      "gradient difference: 4.646205957634871\n"
     ]
    },
    {
     "name": "stderr",
     "output_type": "stream",
     "text": [
      "                                                      \r"
     ]
    },
    {
     "name": "stdout",
     "output_type": "stream",
     "text": [
      "At round 405 accuracy: 0.7220650636492221\n",
      "At round 405 training accuracy: 0.754054054054054\n",
      "At round 405 training loss: 0.700643858957935\n",
      "At round 405 Discrepancy: 1.7630172533529205\n",
      "gradient difference: 6.122984340444505\n"
     ]
    },
    {
     "name": "stderr",
     "output_type": "stream",
     "text": [
      "                                                      \r"
     ]
    },
    {
     "name": "stdout",
     "output_type": "stream",
     "text": [
      "At round 406 accuracy: 0.7122819424799622\n",
      "At round 406 training accuracy: 0.7777777777777778\n",
      "At round 406 training loss: 0.5856501501136356\n",
      "At round 406 Discrepancy: 1.9039251053959152\n",
      "gradient difference: 5.904996118644122\n"
     ]
    },
    {
     "name": "stderr",
     "output_type": "stream",
     "text": [
      "                                                      \r"
     ]
    },
    {
     "name": "stdout",
     "output_type": "stream",
     "text": [
      "At round 407 accuracy: 0.7186468646864687\n",
      "At round 407 training accuracy: 0.7492130115424974\n",
      "At round 407 training loss: 0.671846431284236\n",
      "At round 407 Discrepancy: 1.7750670808289797\n",
      "gradient difference: 5.7968834785731405\n"
     ]
    },
    {
     "name": "stderr",
     "output_type": "stream",
     "text": [
      "                                                      \r"
     ]
    },
    {
     "name": "stdout",
     "output_type": "stream",
     "text": [
      "At round 408 accuracy: 0.7087458745874587\n",
      "At round 408 training accuracy: 0.7713178294573644\n",
      "At round 408 training loss: 0.6220911249556899\n",
      "At round 408 Discrepancy: 1.9796220162410911\n",
      "gradient difference: 5.922723034424905\n"
     ]
    },
    {
     "name": "stderr",
     "output_type": "stream",
     "text": [
      "                                                      \r"
     ]
    },
    {
     "name": "stdout",
     "output_type": "stream",
     "text": [
      "At round 409 accuracy: 0.7197076850542197\n",
      "At round 409 training accuracy: 0.8500506585612969\n",
      "At round 409 training loss: 0.4277802421793949\n",
      "At round 409 Discrepancy: 1.7272090530138455\n",
      "gradient difference: 6.172777133083924\n"
     ]
    },
    {
     "name": "stderr",
     "output_type": "stream",
     "text": [
      "                                                      \r"
     ]
    },
    {
     "name": "stdout",
     "output_type": "stream",
     "text": [
      "At round 410 accuracy: 0.7166430928807166\n",
      "At round 410 training accuracy: 0.7750556792873051\n",
      "At round 410 training loss: 0.5833910857316912\n",
      "At round 410 Discrepancy: 1.562331759395975\n",
      "gradient difference: 6.605246668750879\n"
     ]
    },
    {
     "name": "stderr",
     "output_type": "stream",
     "text": [
      "                                                      \r"
     ]
    },
    {
     "name": "stdout",
     "output_type": "stream",
     "text": [
      "At round 411 accuracy: 0.7059170202734559\n",
      "At round 411 training accuracy: 0.8234482758620689\n",
      "At round 411 training loss: 0.47268641850043985\n",
      "At round 411 Discrepancy: 2.0755415819898806\n",
      "gradient difference: 5.895362560310141\n"
     ]
    },
    {
     "name": "stderr",
     "output_type": "stream",
     "text": [
      "                                                      \r"
     ]
    },
    {
     "name": "stdout",
     "output_type": "stream",
     "text": [
      "At round 412 accuracy: 0.7148750589344649\n",
      "At round 412 training accuracy: 0.8137254901960784\n",
      "At round 412 training loss: 0.5038837120755132\n",
      "At round 412 Discrepancy: 1.6436839907948673\n",
      "gradient difference: 5.896532313311458\n"
     ]
    },
    {
     "name": "stderr",
     "output_type": "stream",
     "text": [
      "                                                      \r"
     ]
    },
    {
     "name": "stdout",
     "output_type": "stream",
     "text": [
      "At round 413 accuracy: 0.7155822725129656\n",
      "At round 413 training accuracy: 0.7506361323155216\n",
      "At round 413 training loss: 0.5660342573977382\n",
      "At round 413 Discrepancy: 1.6970014244713962\n",
      "gradient difference: 5.740131540251096\n"
     ]
    },
    {
     "name": "stderr",
     "output_type": "stream",
     "text": [
      "                                                      \r"
     ]
    },
    {
     "name": "stdout",
     "output_type": "stream",
     "text": [
      "At round 414 accuracy: 0.72006129184347\n",
      "At round 414 training accuracy: 0.8245125348189415\n",
      "At round 414 training loss: 0.49064927494210453\n",
      "At round 414 Discrepancy: 1.9606437389112064\n",
      "gradient difference: 4.507171957732793\n"
     ]
    },
    {
     "name": "stderr",
     "output_type": "stream",
     "text": [
      "                                                      \r"
     ]
    },
    {
     "name": "stdout",
     "output_type": "stream",
     "text": [
      "At round 415 accuracy: 0.7167609618104668\n",
      "At round 415 training accuracy: 0.8162031438935913\n",
      "At round 415 training loss: 0.49252492922753494\n",
      "At round 415 Discrepancy: 1.6749032574225222\n",
      "gradient difference: 5.4258108040440165\n"
     ]
    },
    {
     "name": "stderr",
     "output_type": "stream",
     "text": [
      "                                                      \r"
     ]
    },
    {
     "name": "stdout",
     "output_type": "stream",
     "text": [
      "At round 416 accuracy: 0.7197076850542197\n",
      "At round 416 training accuracy: 0.7298701298701299\n",
      "At round 416 training loss: 0.7991568669870303\n",
      "At round 416 Discrepancy: 1.6036307640834142\n",
      "gradient difference: 5.988168041764993\n"
     ]
    },
    {
     "name": "stderr",
     "output_type": "stream",
     "text": [
      "                                                      \r"
     ]
    },
    {
     "name": "stdout",
     "output_type": "stream",
     "text": [
      "At round 417 accuracy: 0.7171145685997171\n",
      "At round 417 training accuracy: 0.8242548818088387\n",
      "At round 417 training loss: 0.4488422858996847\n",
      "At round 417 Discrepancy: 1.8387781114781085\n",
      "gradient difference: 5.546066204045513\n"
     ]
    },
    {
     "name": "stderr",
     "output_type": "stream",
     "text": [
      "                                                      \r"
     ]
    },
    {
     "name": "stdout",
     "output_type": "stream",
     "text": [
      "At round 418 accuracy: 0.7177039132484677\n",
      "At round 418 training accuracy: 0.7817319098457889\n",
      "At round 418 training loss: 0.6652973203048163\n",
      "At round 418 Discrepancy: 1.7928568671718381\n",
      "gradient difference: 7.084575001508211\n"
     ]
    },
    {
     "name": "stderr",
     "output_type": "stream",
     "text": [
      "                                                      \r"
     ]
    },
    {
     "name": "stdout",
     "output_type": "stream",
     "text": [
      "At round 419 accuracy: 0.7152286657237152\n",
      "At round 419 training accuracy: 0.7665745856353591\n",
      "At round 419 training loss: 0.6675526672222997\n",
      "At round 419 Discrepancy: 2.100783056067317\n",
      "gradient difference: 5.787488272980569\n"
     ]
    },
    {
     "name": "stderr",
     "output_type": "stream",
     "text": [
      "                                                      \r"
     ]
    },
    {
     "name": "stdout",
     "output_type": "stream",
     "text": [
      "At round 420 accuracy: 0.7232437529467233\n",
      "At round 420 training accuracy: 0.6036697247706422\n",
      "At round 420 training loss: 1.3960340593796257\n",
      "At round 420 Discrepancy: 1.6533952517368036\n",
      "gradient difference: 5.066380013867371\n"
     ]
    },
    {
     "name": "stderr",
     "output_type": "stream",
     "text": [
      "                                                      \r"
     ]
    },
    {
     "name": "stdout",
     "output_type": "stream",
     "text": [
      "At round 421 accuracy: 0.7167609618104668\n",
      "At round 421 training accuracy: 0.819620253164557\n",
      "At round 421 training loss: 0.4530133207639058\n",
      "At round 421 Discrepancy: 1.7515670731370947\n",
      "gradient difference: 4.379053597039592\n"
     ]
    },
    {
     "name": "stderr",
     "output_type": "stream",
     "text": [
      "                                                      \r"
     ]
    },
    {
     "name": "stdout",
     "output_type": "stream",
     "text": [
      "At round 422 accuracy: 0.723950966525224\n",
      "At round 422 training accuracy: 0.7628742514970059\n",
      "At round 422 training loss: 0.6297166588777554\n",
      "At round 422 Discrepancy: 1.6329103530943372\n",
      "gradient difference: 5.335385490813819\n"
     ]
    },
    {
     "name": "stderr",
     "output_type": "stream",
     "text": [
      "                                                      \r"
     ]
    },
    {
     "name": "stdout",
     "output_type": "stream",
     "text": [
      "At round 423 accuracy: 0.7223008015087223\n",
      "At round 423 training accuracy: 0.8243105209397344\n",
      "At round 423 training loss: 0.44039575425304844\n",
      "At round 423 Discrepancy: 1.7792960567040599\n",
      "gradient difference: 5.624591599141675\n"
     ]
    },
    {
     "name": "stderr",
     "output_type": "stream",
     "text": [
      "                                                      \r"
     ]
    },
    {
     "name": "stdout",
     "output_type": "stream",
     "text": [
      "At round 424 accuracy: 0.7207685054219708\n",
      "At round 424 training accuracy: 0.7972508591065293\n",
      "At round 424 training loss: 0.5786972463446726\n",
      "At round 424 Discrepancy: 1.7198705781734458\n",
      "gradient difference: 6.599533067292716\n"
     ]
    },
    {
     "name": "stderr",
     "output_type": "stream",
     "text": [
      "                                                      \r"
     ]
    },
    {
     "name": "stdout",
     "output_type": "stream",
     "text": [
      "At round 425 accuracy: 0.72006129184347\n",
      "At round 425 training accuracy: 0.7461340206185567\n",
      "At round 425 training loss: 0.7583912101372615\n",
      "At round 425 Discrepancy: 2.192767592130219\n",
      "gradient difference: 5.941057572873805\n"
     ]
    },
    {
     "name": "stderr",
     "output_type": "stream",
     "text": [
      "                                                      \r"
     ]
    },
    {
     "name": "stdout",
     "output_type": "stream",
     "text": [
      "At round 426 accuracy: 0.7185289957567186\n",
      "At round 426 training accuracy: 0.8209876543209876\n",
      "At round 426 training loss: 0.483180938642702\n",
      "At round 426 Discrepancy: 1.8522077257077725\n",
      "gradient difference: 5.336833829739145\n"
     ]
    },
    {
     "name": "stderr",
     "output_type": "stream",
     "text": [
      "                                                      \r"
     ]
    },
    {
     "name": "stdout",
     "output_type": "stream",
     "text": [
      "At round 427 accuracy: 0.7205327675624705\n",
      "At round 427 training accuracy: 0.744131455399061\n",
      "At round 427 training loss: 0.7612484595847662\n",
      "At round 427 Discrepancy: 1.4883962089378122\n",
      "gradient difference: 6.550979222227668\n"
     ]
    },
    {
     "name": "stderr",
     "output_type": "stream",
     "text": [
      "                                                      \r"
     ]
    },
    {
     "name": "stdout",
     "output_type": "stream",
     "text": [
      "At round 428 accuracy: 0.7221829325789721\n",
      "At round 428 training accuracy: 0.732605729877217\n",
      "At round 428 training loss: 0.6843243399063204\n",
      "At round 428 Discrepancy: 1.772735898854791\n",
      "gradient difference: 5.947812587851734\n"
     ]
    },
    {
     "name": "stderr",
     "output_type": "stream",
     "text": [
      "                                                      \r"
     ]
    },
    {
     "name": "stdout",
     "output_type": "stream",
     "text": [
      "At round 429 accuracy: 0.7135785007072136\n",
      "At round 429 training accuracy: 0.7971758664955071\n",
      "At round 429 training loss: 0.5333359263674745\n",
      "At round 429 Discrepancy: 2.2278689904013085\n",
      "gradient difference: 8.533706373771212\n"
     ]
    },
    {
     "name": "stderr",
     "output_type": "stream",
     "text": [
      "                                                      \r"
     ]
    },
    {
     "name": "stdout",
     "output_type": "stream",
     "text": [
      "At round 430 accuracy: 0.7226544082979727\n",
      "At round 430 training accuracy: 0.7770700636942676\n",
      "At round 430 training loss: 0.6161984910630877\n",
      "At round 430 Discrepancy: 1.7743319715718466\n",
      "gradient difference: 6.232795466809944\n"
     ]
    },
    {
     "name": "stderr",
     "output_type": "stream",
     "text": [
      "                                                      \r"
     ]
    },
    {
     "name": "stdout",
     "output_type": "stream",
     "text": [
      "At round 431 accuracy: 0.7232437529467233\n",
      "At round 431 training accuracy: 0.8077455048409405\n",
      "At round 431 training loss: 0.502340719536627\n",
      "At round 431 Discrepancy: 2.0938503766571053\n",
      "gradient difference: 5.058991781743739\n"
     ]
    },
    {
     "name": "stderr",
     "output_type": "stream",
     "text": [
      "                                                      \r"
     ]
    },
    {
     "name": "stdout",
     "output_type": "stream",
     "text": [
      "At round 432 accuracy: 0.7214757190004715\n",
      "At round 432 training accuracy: 0.7854291417165669\n",
      "At round 432 training loss: 0.5459691939388445\n",
      "At round 432 Discrepancy: 1.698748075303439\n",
      "gradient difference: 5.58243248024146\n"
     ]
    },
    {
     "name": "stderr",
     "output_type": "stream",
     "text": [
      "                                                      \r"
     ]
    },
    {
     "name": "stdout",
     "output_type": "stream",
     "text": [
      "At round 433 accuracy: 0.7187647336162187\n",
      "At round 433 training accuracy: 0.7940813810110974\n",
      "At round 433 training loss: 0.5535131702991949\n",
      "At round 433 Discrepancy: 1.9613069243813208\n",
      "gradient difference: 6.134614786604819\n"
     ]
    },
    {
     "name": "stderr",
     "output_type": "stream",
     "text": [
      "                                                      \r"
     ]
    },
    {
     "name": "stdout",
     "output_type": "stream",
     "text": [
      "At round 434 accuracy: 0.7251296558227251\n",
      "At round 434 training accuracy: 0.7994579945799458\n",
      "At round 434 training loss: 0.5160793704876732\n",
      "At round 434 Discrepancy: 2.01533671811086\n",
      "gradient difference: 6.107531934343042\n"
     ]
    },
    {
     "name": "stderr",
     "output_type": "stream",
     "text": [
      "                                                      \r"
     ]
    },
    {
     "name": "stdout",
     "output_type": "stream",
     "text": [
      "At round 435 accuracy: 0.7251296558227251\n",
      "At round 435 training accuracy: 0.7493333333333333\n",
      "At round 435 training loss: 0.6760467621485392\n",
      "At round 435 Discrepancy: 1.6983053528932512\n",
      "gradient difference: 6.005990726313105\n"
     ]
    },
    {
     "name": "stderr",
     "output_type": "stream",
     "text": [
      "                                                      \r"
     ]
    },
    {
     "name": "stdout",
     "output_type": "stream",
     "text": [
      "At round 436 accuracy: 0.7155822725129656\n",
      "At round 436 training accuracy: 0.8049568965517241\n",
      "At round 436 training loss: 0.5691358783635599\n",
      "At round 436 Discrepancy: 2.0252627318737857\n",
      "gradient difference: 5.947859507531125\n"
     ]
    },
    {
     "name": "stderr",
     "output_type": "stream",
     "text": [
      "                                                      \r"
     ]
    },
    {
     "name": "stdout",
     "output_type": "stream",
     "text": [
      "At round 437 accuracy: 0.7167609618104668\n",
      "At round 437 training accuracy: 0.8220338983050848\n",
      "At round 437 training loss: 0.4673463296659345\n",
      "At round 437 Discrepancy: 1.9264928424977643\n",
      "gradient difference: 6.521104418817509\n"
     ]
    },
    {
     "name": "stderr",
     "output_type": "stream",
     "text": [
      "                                                      \r"
     ]
    },
    {
     "name": "stdout",
     "output_type": "stream",
     "text": [
      "At round 438 accuracy: 0.7151107967939652\n",
      "At round 438 training accuracy: 0.7730263157894737\n",
      "At round 438 training loss: 0.6370509192020747\n",
      "At round 438 Discrepancy: 1.6533989850752733\n",
      "gradient difference: 7.001072182740894\n"
     ]
    },
    {
     "name": "stderr",
     "output_type": "stream",
     "text": [
      "                                                      \r"
     ]
    },
    {
     "name": "stdout",
     "output_type": "stream",
     "text": [
      "At round 439 accuracy: 0.7199434229137199\n",
      "At round 439 training accuracy: 0.7604166666666666\n",
      "At round 439 training loss: 0.7020554177440881\n",
      "At round 439 Discrepancy: 1.9322464446288539\n",
      "gradient difference: 6.095333024425624\n"
     ]
    },
    {
     "name": "stderr",
     "output_type": "stream",
     "text": [
      "                                                      \r"
     ]
    },
    {
     "name": "stdout",
     "output_type": "stream",
     "text": [
      "At round 440 accuracy: 0.7116925978312116\n",
      "At round 440 training accuracy: 0.775\n",
      "At round 440 training loss: 0.5575148210115731\n",
      "At round 440 Discrepancy: 2.395997497704621\n",
      "gradient difference: 4.533407498305712\n"
     ]
    },
    {
     "name": "stderr",
     "output_type": "stream",
     "text": [
      "                                                      \r"
     ]
    },
    {
     "name": "stdout",
     "output_type": "stream",
     "text": [
      "At round 441 accuracy: 0.7112211221122112\n",
      "At round 441 training accuracy: 0.734789391575663\n",
      "At round 441 training loss: 0.7271098163728595\n",
      "At round 441 Discrepancy: 1.538498489264429\n",
      "gradient difference: 5.788221243120908\n"
     ]
    },
    {
     "name": "stderr",
     "output_type": "stream",
     "text": [
      "                                                      \r"
     ]
    },
    {
     "name": "stdout",
     "output_type": "stream",
     "text": [
      "At round 442 accuracy: 0.7146393210749646\n",
      "At round 442 training accuracy: 0.779601406799531\n",
      "At round 442 training loss: 0.567284708600251\n",
      "At round 442 Discrepancy: 1.9265384784918111\n",
      "gradient difference: 4.9700392735698555\n"
     ]
    },
    {
     "name": "stderr",
     "output_type": "stream",
     "text": [
      "                                                      \r"
     ]
    },
    {
     "name": "stdout",
     "output_type": "stream",
     "text": [
      "At round 443 accuracy: 0.7057991513437057\n",
      "At round 443 training accuracy: 0.771505376344086\n",
      "At round 443 training loss: 0.5488610176710031\n",
      "At round 443 Discrepancy: 1.700396084639576\n",
      "gradient difference: 6.042430128438469\n"
     ]
    },
    {
     "name": "stderr",
     "output_type": "stream",
     "text": [
      "                                                      \r"
     ]
    },
    {
     "name": "stdout",
     "output_type": "stream",
     "text": [
      "At round 444 accuracy: 0.7186468646864687\n",
      "At round 444 training accuracy: 0.8367593712212817\n",
      "At round 444 training loss: 0.4205753716044443\n",
      "At round 444 Discrepancy: 1.8136085327415796\n",
      "gradient difference: 5.542849881281547\n"
     ]
    },
    {
     "name": "stderr",
     "output_type": "stream",
     "text": [
      "                                                      \r"
     ]
    },
    {
     "name": "stdout",
     "output_type": "stream",
     "text": [
      "At round 445 accuracy: 0.7206506364922206\n",
      "At round 445 training accuracy: 0.7845188284518828\n",
      "At round 445 training loss: 0.5392816922513897\n",
      "At round 445 Discrepancy: 1.9511187733137292\n",
      "gradient difference: 5.66643581976619\n"
     ]
    },
    {
     "name": "stderr",
     "output_type": "stream",
     "text": [
      "                                                      \r"
     ]
    },
    {
     "name": "stdout",
     "output_type": "stream",
     "text": [
      "At round 446 accuracy: 0.7207685054219708\n",
      "At round 446 training accuracy: 0.7880928355196771\n",
      "At round 446 training loss: 0.6097545038935034\n",
      "At round 446 Discrepancy: 1.6751117345623363\n",
      "gradient difference: 7.104921589286367\n"
     ]
    },
    {
     "name": "stderr",
     "output_type": "stream",
     "text": [
      "                                                      \r"
     ]
    },
    {
     "name": "stdout",
     "output_type": "stream",
     "text": [
      "At round 447 accuracy: 0.7147571900047147\n",
      "At round 447 training accuracy: 0.8164754953076121\n",
      "At round 447 training loss: 0.489971639419497\n",
      "At round 447 Discrepancy: 2.015260579379177\n",
      "gradient difference: 7.403738596505001\n"
     ]
    },
    {
     "name": "stderr",
     "output_type": "stream",
     "text": [
      "                                                      \r"
     ]
    },
    {
     "name": "stdout",
     "output_type": "stream",
     "text": [
      "At round 448 accuracy: 0.7115747289014616\n",
      "At round 448 training accuracy: 0.8114754098360656\n",
      "At round 448 training loss: 0.5187320446320733\n",
      "At round 448 Discrepancy: 1.9384008121823637\n",
      "gradient difference: 7.897147783385824\n"
     ]
    },
    {
     "name": "stderr",
     "output_type": "stream",
     "text": [
      "                                                      \r"
     ]
    },
    {
     "name": "stdout",
     "output_type": "stream",
     "text": [
      "At round 449 accuracy: 0.7181753889674681\n",
      "At round 449 training accuracy: 0.8130081300813008\n",
      "At round 449 training loss: 0.5288321807402923\n",
      "At round 449 Discrepancy: 1.996944130350887\n",
      "gradient difference: 7.263064169871801\n"
     ]
    },
    {
     "name": "stderr",
     "output_type": "stream",
     "text": [
      "                                                      \r"
     ]
    },
    {
     "name": "stdout",
     "output_type": "stream",
     "text": [
      "At round 450 accuracy: 0.7214757190004715\n",
      "At round 450 training accuracy: 0.8041095890410959\n",
      "At round 450 training loss: 0.5802591524584448\n",
      "At round 450 Discrepancy: 1.7640758460858568\n",
      "gradient difference: 6.857162375822764\n"
     ]
    },
    {
     "name": "stderr",
     "output_type": "stream",
     "text": [
      "                                                      \r"
     ]
    },
    {
     "name": "stdout",
     "output_type": "stream",
     "text": [
      "At round 451 accuracy: 0.723950966525224\n",
      "At round 451 training accuracy: 0.8193743693239153\n",
      "At round 451 training loss: 0.46775729724748283\n",
      "At round 451 Discrepancy: 1.8178804436414335\n",
      "gradient difference: 5.6961744126591025\n"
     ]
    },
    {
     "name": "stderr",
     "output_type": "stream",
     "text": [
      "                                                      \r"
     ]
    },
    {
     "name": "stdout",
     "output_type": "stream",
     "text": [
      "At round 452 accuracy: 0.7213578500707214\n",
      "At round 452 training accuracy: 0.8228730822873083\n",
      "At round 452 training loss: 0.46967233696658905\n",
      "At round 452 Discrepancy: 1.8398525065703093\n",
      "gradient difference: 6.880862694831751\n"
     ]
    },
    {
     "name": "stderr",
     "output_type": "stream",
     "text": [
      "                                                      \r"
     ]
    },
    {
     "name": "stdout",
     "output_type": "stream",
     "text": [
      "At round 453 accuracy: 0.7168788307402169\n",
      "At round 453 training accuracy: 0.8390663390663391\n",
      "At round 453 training loss: 0.500742855392597\n",
      "At round 453 Discrepancy: 1.5515241820699117\n",
      "gradient difference: 7.1739624892440395\n"
     ]
    },
    {
     "name": "stderr",
     "output_type": "stream",
     "text": [
      "                                                      \r"
     ]
    },
    {
     "name": "stdout",
     "output_type": "stream",
     "text": [
      "At round 454 accuracy: 0.7208863743517209\n",
      "At round 454 training accuracy: 0.8187372708757638\n",
      "At round 454 training loss: 0.444674685094534\n",
      "At round 454 Discrepancy: 1.9303354632953482\n",
      "gradient difference: 5.313624466288393\n"
     ]
    },
    {
     "name": "stderr",
     "output_type": "stream",
     "text": [
      "                                                      \r"
     ]
    },
    {
     "name": "stdout",
     "output_type": "stream",
     "text": [
      "At round 455 accuracy: 0.7245403111739745\n",
      "At round 455 training accuracy: 0.7861035422343324\n",
      "At round 455 training loss: 0.6077588203757885\n",
      "At round 455 Discrepancy: 1.6435376366007248\n",
      "gradient difference: 5.98230232667695\n"
     ]
    },
    {
     "name": "stderr",
     "output_type": "stream",
     "text": [
      "                                                      \r"
     ]
    },
    {
     "name": "stdout",
     "output_type": "stream",
     "text": [
      "At round 456 accuracy: 0.7166430928807166\n",
      "At round 456 training accuracy: 0.7829949238578681\n",
      "At round 456 training loss: 0.571589376419522\n",
      "At round 456 Discrepancy: 1.707853612204898\n",
      "gradient difference: 5.7218190587081015\n"
     ]
    },
    {
     "name": "stderr",
     "output_type": "stream",
     "text": [
      "                                                      \r"
     ]
    },
    {
     "name": "stdout",
     "output_type": "stream",
     "text": [
      "At round 457 accuracy: 0.7195898161244696\n",
      "At round 457 training accuracy: 0.847926267281106\n",
      "At round 457 training loss: 0.41071744556045203\n",
      "At round 457 Discrepancy: 1.650092342718084\n",
      "gradient difference: 5.524423663419132\n"
     ]
    },
    {
     "name": "stderr",
     "output_type": "stream",
     "text": [
      "                                                      \r"
     ]
    },
    {
     "name": "stdout",
     "output_type": "stream",
     "text": [
      "At round 458 accuracy: 0.7201791607732202\n",
      "At round 458 training accuracy: 0.7975206611570248\n",
      "At round 458 training loss: 0.5696008840406482\n",
      "At round 458 Discrepancy: 1.8719271110656348\n",
      "gradient difference: 5.943533311001601\n"
     ]
    },
    {
     "name": "stderr",
     "output_type": "stream",
     "text": [
      "                                                      \r"
     ]
    },
    {
     "name": "stdout",
     "output_type": "stream",
     "text": [
      "At round 459 accuracy: 0.7167609618104668\n",
      "At round 459 training accuracy: 0.8270616493194556\n",
      "At round 459 training loss: 0.4827291965723229\n",
      "At round 459 Discrepancy: 2.016820776185232\n",
      "gradient difference: 6.351866034663582\n"
     ]
    },
    {
     "name": "stderr",
     "output_type": "stream",
     "text": [
      "                                                      \r"
     ]
    },
    {
     "name": "stdout",
     "output_type": "stream",
     "text": [
      "At round 460 accuracy: 0.7223008015087223\n",
      "At round 460 training accuracy: 0.7737931034482759\n",
      "At round 460 training loss: 0.5932357462521257\n",
      "At round 460 Discrepancy: 2.0592289058073474\n",
      "gradient difference: 6.518101119987603\n"
     ]
    },
    {
     "name": "stderr",
     "output_type": "stream",
     "text": [
      "                                                      \r"
     ]
    },
    {
     "name": "stdout",
     "output_type": "stream",
     "text": [
      "At round 461 accuracy: 0.7215935879302215\n",
      "At round 461 training accuracy: 0.7934782608695652\n",
      "At round 461 training loss: 0.584535666053062\n",
      "At round 461 Discrepancy: 1.9234587853937701\n",
      "gradient difference: 5.932835249989718\n"
     ]
    },
    {
     "name": "stderr",
     "output_type": "stream",
     "text": [
      "                                                      \r"
     ]
    },
    {
     "name": "stdout",
     "output_type": "stream",
     "text": [
      "At round 462 accuracy: 0.7224186704384724\n",
      "At round 462 training accuracy: 0.8166666666666667\n",
      "At round 462 training loss: 0.4410085304195268\n",
      "At round 462 Discrepancy: 1.6907187569591262\n",
      "gradient difference: 5.415240282762737\n"
     ]
    },
    {
     "name": "stderr",
     "output_type": "stream",
     "text": [
      "                                                      \r"
     ]
    },
    {
     "name": "stdout",
     "output_type": "stream",
     "text": [
      "At round 463 accuracy: 0.7095709570957096\n",
      "At round 463 training accuracy: 0.7885057471264367\n",
      "At round 463 training loss: 0.6649098683372755\n",
      "At round 463 Discrepancy: 1.5216385041022489\n",
      "gradient difference: 6.873566123486231\n"
     ]
    },
    {
     "name": "stderr",
     "output_type": "stream",
     "text": [
      "                                                      \r"
     ]
    },
    {
     "name": "stdout",
     "output_type": "stream",
     "text": [
      "At round 464 accuracy: 0.7165252239509665\n",
      "At round 464 training accuracy: 0.7336394948335246\n",
      "At round 464 training loss: 0.7781214766743263\n",
      "At round 464 Discrepancy: 1.6310755760301034\n",
      "gradient difference: 5.963157482814918\n"
     ]
    },
    {
     "name": "stderr",
     "output_type": "stream",
     "text": [
      "                                                      \r"
     ]
    },
    {
     "name": "stdout",
     "output_type": "stream",
     "text": [
      "At round 465 accuracy: 0.7050919377652051\n",
      "At round 465 training accuracy: 0.7793923381770145\n",
      "At round 465 training loss: 0.5522077955020152\n",
      "At round 465 Discrepancy: 2.079595553111858\n",
      "gradient difference: 5.192662697377025\n"
     ]
    },
    {
     "name": "stderr",
     "output_type": "stream",
     "text": [
      "                                                      \r"
     ]
    },
    {
     "name": "stdout",
     "output_type": "stream",
     "text": [
      "At round 466 accuracy: 0.7115747289014616\n",
      "At round 466 training accuracy: 0.7292899408284024\n",
      "At round 466 training loss: 0.6706290823027227\n",
      "At round 466 Discrepancy: 1.8004538383112423\n",
      "gradient difference: 5.386882665481098\n"
     ]
    },
    {
     "name": "stderr",
     "output_type": "stream",
     "text": [
      "                                                      \r"
     ]
    },
    {
     "name": "stdout",
     "output_type": "stream",
     "text": [
      "At round 467 accuracy: 0.7095709570957096\n",
      "At round 467 training accuracy: 0.7994579945799458\n",
      "At round 467 training loss: 0.4904990669713434\n",
      "At round 467 Discrepancy: 2.0224292921299236\n",
      "gradient difference: 5.013067960975977\n"
     ]
    },
    {
     "name": "stderr",
     "output_type": "stream",
     "text": [
      "                                                      \r"
     ]
    },
    {
     "name": "stdout",
     "output_type": "stream",
     "text": [
      "At round 468 accuracy: 0.7159358793022159\n",
      "At round 468 training accuracy: 0.7946084724005135\n",
      "At round 468 training loss: 0.5398682451141049\n",
      "At round 468 Discrepancy: 1.7667974817419865\n",
      "gradient difference: 5.166309263253143\n"
     ]
    },
    {
     "name": "stderr",
     "output_type": "stream",
     "text": [
      "                                                      \r"
     ]
    },
    {
     "name": "stdout",
     "output_type": "stream",
     "text": [
      "At round 469 accuracy: 0.7144035832154644\n",
      "At round 469 training accuracy: 0.7807228915662651\n",
      "At round 469 training loss: 0.5673542483743415\n",
      "At round 469 Discrepancy: 1.8090535381241803\n",
      "gradient difference: 5.713141475708295\n"
     ]
    },
    {
     "name": "stderr",
     "output_type": "stream",
     "text": [
      "                                                      \r"
     ]
    },
    {
     "name": "stdout",
     "output_type": "stream",
     "text": [
      "At round 470 accuracy: 0.716996699669967\n",
      "At round 470 training accuracy: 0.7387096774193549\n",
      "At round 470 training loss: 0.7276073141347728\n",
      "At round 470 Discrepancy: 1.6963711180958576\n",
      "gradient difference: 6.820010006655769\n"
     ]
    },
    {
     "name": "stderr",
     "output_type": "stream",
     "text": [
      "                                                      \r"
     ]
    },
    {
     "name": "stdout",
     "output_type": "stream",
     "text": [
      "At round 471 accuracy: 0.7142857142857143\n",
      "At round 471 training accuracy: 0.8088426527958388\n",
      "At round 471 training loss: 0.5190115800837082\n",
      "At round 471 Discrepancy: 1.8927772935970524\n",
      "gradient difference: 7.070174007066473\n"
     ]
    },
    {
     "name": "stderr",
     "output_type": "stream",
     "text": [
      "                                                      \r"
     ]
    },
    {
     "name": "stdout",
     "output_type": "stream",
     "text": [
      "At round 472 accuracy: 0.7212399811409712\n",
      "At round 472 training accuracy: 0.8111332007952287\n",
      "At round 472 training loss: 0.534723048566824\n",
      "At round 472 Discrepancy: 2.059512698942513\n",
      "gradient difference: 6.267371602792364\n"
     ]
    },
    {
     "name": "stderr",
     "output_type": "stream",
     "text": [
      "                                                      \r"
     ]
    },
    {
     "name": "stdout",
     "output_type": "stream",
     "text": [
      "At round 473 accuracy: 0.7165252239509665\n",
      "At round 473 training accuracy: 0.7990543735224587\n",
      "At round 473 training loss: 0.5550128649017525\n",
      "At round 473 Discrepancy: 2.0895404014612047\n",
      "gradient difference: 6.476567395713808\n"
     ]
    },
    {
     "name": "stderr",
     "output_type": "stream",
     "text": [
      "                                                      \r"
     ]
    },
    {
     "name": "stdout",
     "output_type": "stream",
     "text": [
      "At round 474 accuracy: 0.7155822725129656\n",
      "At round 474 training accuracy: 0.816\n",
      "At round 474 training loss: 0.459653274392443\n",
      "At round 474 Discrepancy: 1.9621294808610767\n",
      "gradient difference: 4.819822658865125\n"
     ]
    },
    {
     "name": "stderr",
     "output_type": "stream",
     "text": [
      "                                                      \r"
     ]
    },
    {
     "name": "stdout",
     "output_type": "stream",
     "text": [
      "At round 475 accuracy: 0.7155822725129656\n",
      "At round 475 training accuracy: 0.8311291963377416\n",
      "At round 475 training loss: 0.41634994123267466\n",
      "At round 475 Discrepancy: 1.4962451858366186\n",
      "gradient difference: 6.791874716605544\n"
     ]
    },
    {
     "name": "stderr",
     "output_type": "stream",
     "text": [
      "                                                      \r"
     ]
    },
    {
     "name": "stdout",
     "output_type": "stream",
     "text": [
      "At round 476 accuracy: 0.7160537482319661\n",
      "At round 476 training accuracy: 0.8050239234449761\n",
      "At round 476 training loss: 0.6034519911240163\n",
      "At round 476 Discrepancy: 1.8552297172915986\n",
      "gradient difference: 8.382671860059164\n"
     ]
    },
    {
     "name": "stderr",
     "output_type": "stream",
     "text": [
      "                                                      \r"
     ]
    },
    {
     "name": "stdout",
     "output_type": "stream",
     "text": [
      "At round 477 accuracy: 0.7161716171617162\n",
      "At round 477 training accuracy: 0.8415730337078652\n",
      "At round 477 training loss: 0.43533509052620173\n",
      "At round 477 Discrepancy: 1.8949986909809884\n",
      "gradient difference: 7.017376511434318\n"
     ]
    },
    {
     "name": "stderr",
     "output_type": "stream",
     "text": [
      "                                                      \r"
     ]
    },
    {
     "name": "stdout",
     "output_type": "stream",
     "text": [
      "At round 478 accuracy: 0.7138142385667138\n",
      "At round 478 training accuracy: 0.8022528160200251\n",
      "At round 478 training loss: 0.5596268550960233\n",
      "At round 478 Discrepancy: 1.6361061858820907\n",
      "gradient difference: 6.967096608622041\n"
     ]
    },
    {
     "name": "stderr",
     "output_type": "stream",
     "text": [
      "                                                      \r"
     ]
    },
    {
     "name": "stdout",
     "output_type": "stream",
     "text": [
      "At round 479 accuracy: 0.7167609618104668\n",
      "At round 479 training accuracy: 0.79421768707483\n",
      "At round 479 training loss: 0.53554080454302\n",
      "At round 479 Discrepancy: 1.736465431183957\n",
      "gradient difference: 6.227730323728879\n"
     ]
    },
    {
     "name": "stderr",
     "output_type": "stream",
     "text": [
      "                                                      \r"
     ]
    },
    {
     "name": "stdout",
     "output_type": "stream",
     "text": [
      "At round 480 accuracy: 0.7191183404054691\n",
      "At round 480 training accuracy: 0.8056234718826406\n",
      "At round 480 training loss: 0.543682837784222\n",
      "At round 480 Discrepancy: 1.8134778604323532\n",
      "gradient difference: 7.050538737191632\n"
     ]
    },
    {
     "name": "stderr",
     "output_type": "stream",
     "text": [
      "                                                      \r"
     ]
    },
    {
     "name": "stdout",
     "output_type": "stream",
     "text": [
      "At round 481 accuracy: 0.7187647336162187\n",
      "At round 481 training accuracy: 0.7613293051359517\n",
      "At round 481 training loss: 0.7207682132270761\n",
      "At round 481 Discrepancy: 1.6489914238814536\n",
      "gradient difference: 7.389192355103967\n"
     ]
    },
    {
     "name": "stderr",
     "output_type": "stream",
     "text": [
      "                                                      \r"
     ]
    },
    {
     "name": "stdout",
     "output_type": "stream",
     "text": [
      "At round 482 accuracy: 0.7125176803394625\n",
      "At round 482 training accuracy: 0.7929155313351499\n",
      "At round 482 training loss: 0.5189986040140693\n",
      "At round 482 Discrepancy: 1.8589279436927417\n",
      "gradient difference: 5.834436382126731\n"
     ]
    },
    {
     "name": "stderr",
     "output_type": "stream",
     "text": [
      "                                                      \r"
     ]
    },
    {
     "name": "stdout",
     "output_type": "stream",
     "text": [
      "At round 483 accuracy: 0.7197076850542197\n",
      "At round 483 training accuracy: 0.8208092485549133\n",
      "At round 483 training loss: 0.4738501899001801\n",
      "At round 483 Discrepancy: 2.034938468009875\n",
      "gradient difference: 5.877382177238053\n"
     ]
    },
    {
     "name": "stderr",
     "output_type": "stream",
     "text": [
      "                                                      \r"
     ]
    },
    {
     "name": "stdout",
     "output_type": "stream",
     "text": [
      "At round 484 accuracy: 0.7204148986327205\n",
      "At round 484 training accuracy: 0.7862595419847328\n",
      "At round 484 training loss: 0.6437084007289183\n",
      "At round 484 Discrepancy: 1.8397890307242601\n",
      "gradient difference: 6.863057551559841\n"
     ]
    },
    {
     "name": "stderr",
     "output_type": "stream",
     "text": [
      "                                                      \r"
     ]
    },
    {
     "name": "stdout",
     "output_type": "stream",
     "text": [
      "At round 485 accuracy: 0.7138142385667138\n",
      "At round 485 training accuracy: 0.8137369033760187\n",
      "At round 485 training loss: 0.45605684273873\n",
      "At round 485 Discrepancy: 1.9263675753620788\n",
      "gradient difference: 6.076557513740923\n"
     ]
    },
    {
     "name": "stderr",
     "output_type": "stream",
     "text": [
      "                                                      \r"
     ]
    },
    {
     "name": "stdout",
     "output_type": "stream",
     "text": [
      "At round 486 accuracy: 0.7174681753889675\n",
      "At round 486 training accuracy: 0.7871878393051032\n",
      "At round 486 training loss: 0.6104421524349175\n",
      "At round 486 Discrepancy: 1.7902742503214177\n",
      "gradient difference: 6.844371499658021\n"
     ]
    },
    {
     "name": "stderr",
     "output_type": "stream",
     "text": [
      "                                                      \r"
     ]
    },
    {
     "name": "stdout",
     "output_type": "stream",
     "text": [
      "At round 487 accuracy: 0.719000471475719\n",
      "At round 487 training accuracy: 0.8186666666666667\n",
      "At round 487 training loss: 0.47436182490984596\n",
      "At round 487 Discrepancy: 1.9084550878790723\n",
      "gradient difference: 5.8781980805122815\n"
     ]
    },
    {
     "name": "stderr",
     "output_type": "stream",
     "text": [
      "                                                      \r"
     ]
    },
    {
     "name": "stdout",
     "output_type": "stream",
     "text": [
      "At round 488 accuracy: 0.7202970297029703\n",
      "At round 488 training accuracy: 0.7805800756620429\n",
      "At round 488 training loss: 0.5422296498545115\n",
      "At round 488 Discrepancy: 1.879392253023255\n",
      "gradient difference: 5.1786308186808325\n"
     ]
    },
    {
     "name": "stderr",
     "output_type": "stream",
     "text": [
      "                                                      \r"
     ]
    },
    {
     "name": "stdout",
     "output_type": "stream",
     "text": [
      "At round 489 accuracy: 0.7153465346534653\n",
      "At round 489 training accuracy: 0.8002008032128514\n",
      "At round 489 training loss: 0.5484285385433929\n",
      "At round 489 Discrepancy: 1.5756159735082573\n",
      "gradient difference: 6.1145028286942456\n"
     ]
    },
    {
     "name": "stderr",
     "output_type": "stream",
     "text": [
      "                                                      \r"
     ]
    },
    {
     "name": "stdout",
     "output_type": "stream",
     "text": [
      "At round 490 accuracy: 0.7083922677982084\n",
      "At round 490 training accuracy: 0.8129973474801061\n",
      "At round 490 training loss: 0.4789670250064814\n",
      "At round 490 Discrepancy: 1.824828103481881\n",
      "gradient difference: 6.8137771389554915\n"
     ]
    },
    {
     "name": "stderr",
     "output_type": "stream",
     "text": [
      "                                                      \r"
     ]
    },
    {
     "name": "stdout",
     "output_type": "stream",
     "text": [
      "At round 491 accuracy: 0.7133427628477134\n",
      "At round 491 training accuracy: 0.8441734417344173\n",
      "At round 491 training loss: 0.4228255020727108\n",
      "At round 491 Discrepancy: 1.998940794395525\n",
      "gradient difference: 6.476978157513995\n"
     ]
    },
    {
     "name": "stderr",
     "output_type": "stream",
     "text": [
      "                                                      \r"
     ]
    },
    {
     "name": "stdout",
     "output_type": "stream",
     "text": [
      "At round 492 accuracy: 0.7159358793022159\n",
      "At round 492 training accuracy: 0.7518796992481203\n",
      "At round 492 training loss: 0.6439069978276589\n",
      "At round 492 Discrepancy: 1.7796354000956687\n",
      "gradient difference: 6.141470805387941\n"
     ]
    },
    {
     "name": "stderr",
     "output_type": "stream",
     "text": [
      "                                                      \r"
     ]
    },
    {
     "name": "stdout",
     "output_type": "stream",
     "text": [
      "At round 493 accuracy: 0.7171145685997171\n",
      "At round 493 training accuracy: 0.7957839262187089\n",
      "At round 493 training loss: 0.5107238581293656\n",
      "At round 493 Discrepancy: 1.8128404139752419\n",
      "gradient difference: 5.148899733099903\n"
     ]
    },
    {
     "name": "stderr",
     "output_type": "stream",
     "text": [
      "                                                      \r"
     ]
    },
    {
     "name": "stdout",
     "output_type": "stream",
     "text": [
      "At round 494 accuracy: 0.7173503064592174\n",
      "At round 494 training accuracy: 0.7653701380175659\n",
      "At round 494 training loss: 0.6390056451747528\n",
      "At round 494 Discrepancy: 1.5963338364076205\n",
      "gradient difference: 5.726376804526888\n"
     ]
    },
    {
     "name": "stderr",
     "output_type": "stream",
     "text": [
      "                                                      \r"
     ]
    },
    {
     "name": "stdout",
     "output_type": "stream",
     "text": [
      "At round 495 accuracy: 0.7048561999057048\n",
      "At round 495 training accuracy: 0.7920517560073937\n",
      "At round 495 training loss: 0.5500826989326372\n",
      "At round 495 Discrepancy: 1.5841439145614964\n",
      "gradient difference: 5.309799954940592\n"
     ]
    },
    {
     "name": "stderr",
     "output_type": "stream",
     "text": [
      "                                                      \r"
     ]
    },
    {
     "name": "stdout",
     "output_type": "stream",
     "text": [
      "At round 496 accuracy: 0.7193540782649693\n",
      "At round 496 training accuracy: 0.8017789072426937\n",
      "At round 496 training loss: 0.5847560936227687\n",
      "At round 496 Discrepancy: 1.708000904213479\n",
      "gradient difference: 6.666115862370044\n"
     ]
    },
    {
     "name": "stderr",
     "output_type": "stream",
     "text": [
      "                                                      \r"
     ]
    },
    {
     "name": "stdout",
     "output_type": "stream",
     "text": [
      "At round 497 accuracy: 0.7177039132484677\n",
      "At round 497 training accuracy: 0.8278301886792453\n",
      "At round 497 training loss: 0.5210585002339185\n",
      "At round 497 Discrepancy: 1.7733122395151089\n",
      "gradient difference: 6.499970504546265\n"
     ]
    },
    {
     "name": "stderr",
     "output_type": "stream",
     "text": [
      "                                                      \r"
     ]
    },
    {
     "name": "stdout",
     "output_type": "stream",
     "text": [
      "At round 498 accuracy: 0.7205327675624705\n",
      "At round 498 training accuracy: 0.8313413014608234\n",
      "At round 498 training loss: 0.48701625785346364\n",
      "At round 498 Discrepancy: 1.782156010805331\n",
      "gradient difference: 5.930869386125345\n"
     ]
    },
    {
     "name": "stderr",
     "output_type": "stream",
     "text": [
      "                                                      \r"
     ]
    },
    {
     "name": "stdout",
     "output_type": "stream",
     "text": [
      "At round 499 accuracy: 0.7204148986327205\n",
      "At round 499 training accuracy: 0.7969598262757872\n",
      "At round 499 training loss: 0.5484707804374502\n",
      "At round 499 Discrepancy: 2.18184772506259\n",
      "gradient difference: 5.803846207486954\n"
     ]
    },
    {
     "name": "stderr",
     "output_type": "stream",
     "text": [
      "                                                      \r"
     ]
    },
    {
     "name": "stdout",
     "output_type": "stream",
     "text": [
      "At round 500 accuracy: 0.7207685054219708\n",
      "At round 500 training accuracy: 0.8729166666666667\n",
      "At round 500 training loss: 0.36052193729556165\n",
      "At round 500 Discrepancy: 1.873837786292413\n",
      "gradient difference: 5.872950157527403\n"
     ]
    },
    {
     "name": "stderr",
     "output_type": "stream",
     "text": [
      "                                                      \r"
     ]
    },
    {
     "name": "stdout",
     "output_type": "stream",
     "text": [
      "At round 501 accuracy: 0.7213578500707214\n",
      "At round 501 training accuracy: 0.8154681139755766\n",
      "At round 501 training loss: 0.5461491197230752\n",
      "At round 501 Discrepancy: 1.4258503411795966\n",
      "gradient difference: 6.9235583720403024\n"
     ]
    },
    {
     "name": "stderr",
     "output_type": "stream",
     "text": [
      "                                                      \r"
     ]
    },
    {
     "name": "stdout",
     "output_type": "stream",
     "text": [
      "At round 502 accuracy: 0.7193540782649693\n",
      "At round 502 training accuracy: 0.7953091684434968\n",
      "At round 502 training loss: 0.5551054221925451\n",
      "At round 502 Discrepancy: 1.9138386075964533\n",
      "gradient difference: 5.529890282963604\n"
     ]
    },
    {
     "name": "stderr",
     "output_type": "stream",
     "text": [
      "                                                      \r"
     ]
    },
    {
     "name": "stdout",
     "output_type": "stream",
     "text": [
      "At round 503 accuracy: 0.7228901461574729\n",
      "At round 503 training accuracy: 0.6187683284457478\n",
      "At round 503 training loss: 1.3129653486797361\n",
      "At round 503 Discrepancy: 1.9110818812366048\n",
      "gradient difference: 4.999595638260815\n"
     ]
    },
    {
     "name": "stderr",
     "output_type": "stream",
     "text": [
      "                                                      \r"
     ]
    },
    {
     "name": "stdout",
     "output_type": "stream",
     "text": [
      "At round 504 accuracy: 0.7128712871287128\n",
      "At round 504 training accuracy: 0.7723342939481268\n",
      "At round 504 training loss: 0.5547300667289956\n",
      "At round 504 Discrepancy: 1.6997264254501498\n",
      "gradient difference: 4.386858638543486\n"
     ]
    },
    {
     "name": "stderr",
     "output_type": "stream",
     "text": [
      "                                                      \r"
     ]
    },
    {
     "name": "stdout",
     "output_type": "stream",
     "text": [
      "At round 505 accuracy: 0.7177039132484677\n",
      "At round 505 training accuracy: 0.7834757834757835\n",
      "At round 505 training loss: 0.5454999976804709\n",
      "At round 505 Discrepancy: 1.6066544994903516\n",
      "gradient difference: 5.124787693689617\n"
     ]
    },
    {
     "name": "stderr",
     "output_type": "stream",
     "text": [
      "                                                      \r"
     ]
    },
    {
     "name": "stdout",
     "output_type": "stream",
     "text": [
      "At round 506 accuracy: 0.7144035832154644\n",
      "At round 506 training accuracy: 0.7603748326639893\n",
      "At round 506 training loss: 0.6337270126983503\n",
      "At round 506 Discrepancy: 1.7916385767655096\n",
      "gradient difference: 5.554588260593906\n"
     ]
    },
    {
     "name": "stderr",
     "output_type": "stream",
     "text": [
      "                                                      \r"
     ]
    },
    {
     "name": "stdout",
     "output_type": "stream",
     "text": [
      "At round 507 accuracy: 0.7201791607732202\n",
      "At round 507 training accuracy: 0.8224917309812569\n",
      "At round 507 training loss: 0.4199077375438537\n",
      "At round 507 Discrepancy: 1.7634786616622669\n",
      "gradient difference: 4.678268598188122\n"
     ]
    },
    {
     "name": "stderr",
     "output_type": "stream",
     "text": [
      "                                                      \r"
     ]
    },
    {
     "name": "stdout",
     "output_type": "stream",
     "text": [
      "At round 508 accuracy: 0.7160537482319661\n",
      "At round 508 training accuracy: 0.7913669064748201\n",
      "At round 508 training loss: 0.5852569182570889\n",
      "At round 508 Discrepancy: 1.6186435221537845\n",
      "gradient difference: 5.948132758851512\n"
     ]
    },
    {
     "name": "stderr",
     "output_type": "stream",
     "text": [
      "                                                      \r"
     ]
    },
    {
     "name": "stdout",
     "output_type": "stream",
     "text": [
      "At round 509 accuracy: 0.7173503064592174\n",
      "At round 509 training accuracy: 0.7884012539184952\n",
      "At round 509 training loss: 0.561195976775268\n",
      "At round 509 Discrepancy: 2.0092622750342146\n",
      "gradient difference: 4.878992755737439\n"
     ]
    },
    {
     "name": "stderr",
     "output_type": "stream",
     "text": [
      "                                                      \r"
     ]
    },
    {
     "name": "stdout",
     "output_type": "stream",
     "text": [
      "At round 510 accuracy: 0.7167609618104668\n",
      "At round 510 training accuracy: 0.8164556962025317\n",
      "At round 510 training loss: 0.4742720690520504\n",
      "At round 510 Discrepancy: 1.8571648332337318\n",
      "gradient difference: 4.88646265221925\n"
     ]
    },
    {
     "name": "stderr",
     "output_type": "stream",
     "text": [
      "                                                      \r"
     ]
    },
    {
     "name": "stdout",
     "output_type": "stream",
     "text": [
      "At round 511 accuracy: 0.7161716171617162\n",
      "At round 511 training accuracy: 0.7776497695852534\n",
      "At round 511 training loss: 0.578755009919405\n",
      "At round 511 Discrepancy: 1.6978834428562017\n",
      "gradient difference: 5.6312969871501695\n"
     ]
    },
    {
     "name": "stderr",
     "output_type": "stream",
     "text": [
      "                                                      \r"
     ]
    },
    {
     "name": "stdout",
     "output_type": "stream",
     "text": [
      "At round 512 accuracy: 0.714992927864215\n",
      "At round 512 training accuracy: 0.7492537313432835\n",
      "At round 512 training loss: 0.6384814822907323\n",
      "At round 512 Discrepancy: 1.8626562106023319\n",
      "gradient difference: 5.365299956342441\n"
     ]
    },
    {
     "name": "stderr",
     "output_type": "stream",
     "text": [
      "                                                      \r"
     ]
    },
    {
     "name": "stdout",
     "output_type": "stream",
     "text": [
      "At round 513 accuracy: 0.7106317774634606\n",
      "At round 513 training accuracy: 0.8428246013667426\n",
      "At round 513 training loss: 0.3922864810689851\n",
      "At round 513 Discrepancy: 1.6849871934694396\n",
      "gradient difference: 5.636133967851052\n"
     ]
    },
    {
     "name": "stderr",
     "output_type": "stream",
     "text": [
      "                                                      \r"
     ]
    },
    {
     "name": "stdout",
     "output_type": "stream",
     "text": [
      "At round 514 accuracy: 0.7186468646864687\n",
      "At round 514 training accuracy: 0.8043478260869565\n",
      "At round 514 training loss: 0.5657006892137193\n",
      "At round 514 Discrepancy: 1.52261677440128\n",
      "gradient difference: 6.047874297141676\n"
     ]
    },
    {
     "name": "stderr",
     "output_type": "stream",
     "text": [
      "                                                      \r"
     ]
    },
    {
     "name": "stdout",
     "output_type": "stream",
     "text": [
      "At round 515 accuracy: 0.7177039132484677\n",
      "At round 515 training accuracy: 0.7821939586645469\n",
      "At round 515 training loss: 0.6060600239540701\n",
      "At round 515 Discrepancy: 1.781531052665408\n",
      "gradient difference: 5.454259152671952\n"
     ]
    },
    {
     "name": "stderr",
     "output_type": "stream",
     "text": [
      "                                                      \r"
     ]
    },
    {
     "name": "stdout",
     "output_type": "stream",
     "text": [
      "At round 516 accuracy: 0.7187647336162187\n",
      "At round 516 training accuracy: 0.7754077791718946\n",
      "At round 516 training loss: 0.5725800425300335\n",
      "At round 516 Discrepancy: 1.6760495782495421\n",
      "gradient difference: 5.103270338223002\n"
     ]
    },
    {
     "name": "stderr",
     "output_type": "stream",
     "text": [
      "                                                      \r"
     ]
    },
    {
     "name": "stdout",
     "output_type": "stream",
     "text": [
      "At round 517 accuracy: 0.7177039132484677\n",
      "At round 517 training accuracy: 0.7907801418439716\n",
      "At round 517 training loss: 0.5241246539615007\n",
      "At round 517 Discrepancy: 1.8373302318487894\n",
      "gradient difference: 5.044410783423212\n"
     ]
    },
    {
     "name": "stderr",
     "output_type": "stream",
     "text": [
      "                                                      \r"
     ]
    },
    {
     "name": "stdout",
     "output_type": "stream",
     "text": [
      "At round 518 accuracy: 0.7214757190004715\n",
      "At round 518 training accuracy: 0.7970085470085471\n",
      "At round 518 training loss: 0.4681414670796476\n",
      "At round 518 Discrepancy: 2.0129150132050233\n",
      "gradient difference: 5.238425755697859\n"
     ]
    },
    {
     "name": "stderr",
     "output_type": "stream",
     "text": [
      "                                                      \r"
     ]
    },
    {
     "name": "stdout",
     "output_type": "stream",
     "text": [
      "At round 519 accuracy: 0.7208863743517209\n",
      "At round 519 training accuracy: 0.7939110070257611\n",
      "At round 519 training loss: 0.5360336082287359\n",
      "At round 519 Discrepancy: 1.717006593960937\n",
      "gradient difference: 6.112629439085935\n"
     ]
    },
    {
     "name": "stderr",
     "output_type": "stream",
     "text": [
      "                                                      \r"
     ]
    },
    {
     "name": "stdout",
     "output_type": "stream",
     "text": [
      "At round 520 accuracy: 0.7175860443187175\n",
      "At round 520 training accuracy: 0.7931904161412359\n",
      "At round 520 training loss: 0.5484605522958144\n",
      "At round 520 Discrepancy: 1.7652380722124517\n",
      "gradient difference: 7.1385977995067424\n"
     ]
    },
    {
     "name": "stderr",
     "output_type": "stream",
     "text": [
      "                                                      \r"
     ]
    },
    {
     "name": "stdout",
     "output_type": "stream",
     "text": [
      "At round 521 accuracy: 0.7162894860914663\n",
      "At round 521 training accuracy: 0.7898022892819979\n",
      "At round 521 training loss: 0.6034243124295859\n",
      "At round 521 Discrepancy: 1.916288431147878\n",
      "gradient difference: 6.022285092814767\n"
     ]
    },
    {
     "name": "stderr",
     "output_type": "stream",
     "text": [
      "                                                      \r"
     ]
    },
    {
     "name": "stdout",
     "output_type": "stream",
     "text": [
      "At round 522 accuracy: 0.7186468646864687\n",
      "At round 522 training accuracy: 0.8481283422459893\n",
      "At round 522 training loss: 0.4387502368121224\n",
      "At round 522 Discrepancy: 1.8463069977533277\n",
      "gradient difference: 5.832761315412464\n"
     ]
    },
    {
     "name": "stderr",
     "output_type": "stream",
     "text": [
      "                                                      \r"
     ]
    },
    {
     "name": "stdout",
     "output_type": "stream",
     "text": [
      "At round 523 accuracy: 0.7158180103724658\n",
      "At round 523 training accuracy: 0.8074792243767313\n",
      "At round 523 training loss: 0.5501350675015568\n",
      "At round 523 Discrepancy: 1.6660415405956104\n",
      "gradient difference: 6.670646953799611\n"
     ]
    },
    {
     "name": "stderr",
     "output_type": "stream",
     "text": [
      "                                                      \r"
     ]
    },
    {
     "name": "stdout",
     "output_type": "stream",
     "text": [
      "At round 524 accuracy: 0.7202970297029703\n",
      "At round 524 training accuracy: 0.8537284894837476\n",
      "At round 524 training loss: 0.4052455485949781\n",
      "At round 524 Discrepancy: 2.012893691915058\n",
      "gradient difference: 5.219087327623631\n"
     ]
    },
    {
     "name": "stderr",
     "output_type": "stream",
     "text": [
      "                                                      \r"
     ]
    },
    {
     "name": "stdout",
     "output_type": "stream",
     "text": [
      "At round 525 accuracy: 0.7177039132484677\n",
      "At round 525 training accuracy: 0.7746478873239436\n",
      "At round 525 training loss: 0.6501726586494088\n",
      "At round 525 Discrepancy: 1.710676176147206\n",
      "gradient difference: 6.984159627656253\n"
     ]
    },
    {
     "name": "stderr",
     "output_type": "stream",
     "text": [
      "                                                      \r"
     ]
    },
    {
     "name": "stdout",
     "output_type": "stream",
     "text": [
      "At round 526 accuracy: 0.7087458745874587\n",
      "At round 526 training accuracy: 0.8118932038834952\n",
      "At round 526 training loss: 0.48696251886272895\n",
      "At round 526 Discrepancy: 1.9833462056170184\n",
      "gradient difference: 5.7067203101521\n"
     ]
    },
    {
     "name": "stderr",
     "output_type": "stream",
     "text": [
      "                                                      \r"
     ]
    },
    {
     "name": "stdout",
     "output_type": "stream",
     "text": [
      "At round 527 accuracy: 0.7173503064592174\n",
      "At round 527 training accuracy: 0.8364312267657993\n",
      "At round 527 training loss: 0.4540947168843897\n",
      "At round 527 Discrepancy: 1.8358771446656477\n",
      "gradient difference: 5.88451803944498\n"
     ]
    },
    {
     "name": "stderr",
     "output_type": "stream",
     "text": [
      "                                                      \r"
     ]
    },
    {
     "name": "stdout",
     "output_type": "stream",
     "text": [
      "At round 528 accuracy: 0.7201791607732202\n",
      "At round 528 training accuracy: 0.7935034802784223\n",
      "At round 528 training loss: 0.5566494588474387\n",
      "At round 528 Discrepancy: 1.859365421526051\n",
      "gradient difference: 6.558141627759622\n"
     ]
    },
    {
     "name": "stderr",
     "output_type": "stream",
     "text": [
      "                                                      \r"
     ]
    },
    {
     "name": "stdout",
     "output_type": "stream",
     "text": [
      "At round 529 accuracy: 0.713932107496464\n",
      "At round 529 training accuracy: 0.8318356867779204\n",
      "At round 529 training loss: 0.4249514199737149\n",
      "At round 529 Discrepancy: 1.9655775379304106\n",
      "gradient difference: 5.537290766569705\n"
     ]
    },
    {
     "name": "stderr",
     "output_type": "stream",
     "text": [
      "                                                      \r"
     ]
    },
    {
     "name": "stdout",
     "output_type": "stream",
     "text": [
      "At round 530 accuracy: 0.7155822725129656\n",
      "At round 530 training accuracy: 0.6404715127701375\n",
      "At round 530 training loss: 1.224137071102916\n",
      "At round 530 Discrepancy: 1.7356001619947459\n",
      "gradient difference: 6.3615600502086\n"
     ]
    },
    {
     "name": "stderr",
     "output_type": "stream",
     "text": [
      "                                                      \r"
     ]
    },
    {
     "name": "stdout",
     "output_type": "stream",
     "text": [
      "At round 531 accuracy: 0.6982555398396982\n",
      "At round 531 training accuracy: 0.7769607843137255\n",
      "At round 531 training loss: 0.5427011100429238\n",
      "At round 531 Discrepancy: 2.214678132510444\n",
      "gradient difference: 4.93324269713691\n"
     ]
    },
    {
     "name": "stderr",
     "output_type": "stream",
     "text": [
      "                                                      \r"
     ]
    },
    {
     "name": "stdout",
     "output_type": "stream",
     "text": [
      "At round 532 accuracy: 0.7231258840169731\n",
      "At round 532 training accuracy: 0.7813299232736572\n",
      "At round 532 training loss: 0.5590991184610845\n",
      "At round 532 Discrepancy: 1.7322675108064474\n",
      "gradient difference: 4.8949661321120255\n"
     ]
    },
    {
     "name": "stderr",
     "output_type": "stream",
     "text": [
      "                                                      \r"
     ]
    },
    {
     "name": "stdout",
     "output_type": "stream",
     "text": [
      "At round 533 accuracy: 0.7220650636492221\n",
      "At round 533 training accuracy: 0.7664739884393064\n",
      "At round 533 training loss: 0.627149547593442\n",
      "At round 533 Discrepancy: 1.754831308380331\n",
      "gradient difference: 4.836757490992109\n"
     ]
    },
    {
     "name": "stderr",
     "output_type": "stream",
     "text": [
      "                                                      \r"
     ]
    },
    {
     "name": "stdout",
     "output_type": "stream",
     "text": [
      "At round 534 accuracy: 0.7123998114097124\n",
      "At round 534 training accuracy: 0.8012738853503185\n",
      "At round 534 training loss: 0.5210573166418987\n",
      "At round 534 Discrepancy: 1.6868997363979439\n",
      "gradient difference: 5.344846114889433\n"
     ]
    },
    {
     "name": "stderr",
     "output_type": "stream",
     "text": [
      "                                                      \r"
     ]
    },
    {
     "name": "stdout",
     "output_type": "stream",
     "text": [
      "At round 535 accuracy: 0.7154644035832155\n",
      "At round 535 training accuracy: 0.8064516129032258\n",
      "At round 535 training loss: 0.482250021494204\n",
      "At round 535 Discrepancy: 1.9329721332751149\n",
      "gradient difference: 5.005571284845349\n"
     ]
    },
    {
     "name": "stderr",
     "output_type": "stream",
     "text": [
      "                                                      \r"
     ]
    },
    {
     "name": "stdout",
     "output_type": "stream",
     "text": [
      "At round 536 accuracy: 0.7158180103724658\n",
      "At round 536 training accuracy: 0.7881241565452092\n",
      "At round 536 training loss: 0.6118601279461432\n",
      "At round 536 Discrepancy: 1.696371152832541\n",
      "gradient difference: 5.586702120552698\n"
     ]
    },
    {
     "name": "stderr",
     "output_type": "stream",
     "text": [
      "                                                      \r"
     ]
    },
    {
     "name": "stdout",
     "output_type": "stream",
     "text": [
      "At round 537 accuracy: 0.7078029231494578\n",
      "At round 537 training accuracy: 0.8093607305936074\n",
      "At round 537 training loss: 0.477637411519068\n",
      "At round 537 Discrepancy: 1.8146514029000052\n",
      "gradient difference: 5.203848196074933\n"
     ]
    },
    {
     "name": "stderr",
     "output_type": "stream",
     "text": [
      "                                                      \r"
     ]
    },
    {
     "name": "stdout",
     "output_type": "stream",
     "text": [
      "At round 538 accuracy: 0.7166430928807166\n",
      "At round 538 training accuracy: 0.8621848739495799\n",
      "At round 538 training loss: 0.3627467581767495\n",
      "At round 538 Discrepancy: 1.5671299211794723\n",
      "gradient difference: 5.596714652389914\n"
     ]
    },
    {
     "name": "stderr",
     "output_type": "stream",
     "text": [
      "                                                      \r"
     ]
    },
    {
     "name": "stdout",
     "output_type": "stream",
     "text": [
      "At round 539 accuracy: 0.7116925978312116\n",
      "At round 539 training accuracy: 0.7890961262553802\n",
      "At round 539 training loss: 0.6686102826591885\n",
      "At round 539 Discrepancy: 1.6590753161099698\n",
      "gradient difference: 8.066087892203473\n"
     ]
    },
    {
     "name": "stderr",
     "output_type": "stream",
     "text": [
      "                                                      \r"
     ]
    },
    {
     "name": "stdout",
     "output_type": "stream",
     "text": [
      "At round 540 accuracy: 0.7162894860914663\n",
      "At round 540 training accuracy: 0.8463917525773196\n",
      "At round 540 training loss: 0.39569937333311\n",
      "At round 540 Discrepancy: 1.9530269970390073\n",
      "gradient difference: 5.474286429466773\n"
     ]
    },
    {
     "name": "stderr",
     "output_type": "stream",
     "text": [
      "                                                      \r"
     ]
    },
    {
     "name": "stdout",
     "output_type": "stream",
     "text": [
      "At round 541 accuracy: 0.7164073550212164\n",
      "At round 541 training accuracy: 0.8108108108108109\n",
      "At round 541 training loss: 0.5392475351892613\n",
      "At round 541 Discrepancy: 1.7674206384135807\n",
      "gradient difference: 6.755805380194613\n"
     ]
    },
    {
     "name": "stderr",
     "output_type": "stream",
     "text": [
      "                                                      \r"
     ]
    },
    {
     "name": "stdout",
     "output_type": "stream",
     "text": [
      "At round 542 accuracy: 0.7107496463932107\n",
      "At round 542 training accuracy: 0.7863128491620112\n",
      "At round 542 training loss: 0.6037903387494926\n",
      "At round 542 Discrepancy: 2.069059571154504\n",
      "gradient difference: 5.509528866148335\n"
     ]
    },
    {
     "name": "stderr",
     "output_type": "stream",
     "text": [
      "                                                      \r"
     ]
    },
    {
     "name": "stdout",
     "output_type": "stream",
     "text": [
      "At round 543 accuracy: 0.7178217821782178\n",
      "At round 543 training accuracy: 0.8033854166666666\n",
      "At round 543 training loss: 0.4829067904938711\n",
      "At round 543 Discrepancy: 1.7210519486005864\n",
      "gradient difference: 5.09627708183082\n"
     ]
    },
    {
     "name": "stderr",
     "output_type": "stream",
     "text": [
      "                                                      \r"
     ]
    },
    {
     "name": "stdout",
     "output_type": "stream",
     "text": [
      "At round 544 accuracy: 0.7188826025459689\n",
      "At round 544 training accuracy: 0.7979139504563233\n",
      "At round 544 training loss: 0.4999839613770257\n",
      "At round 544 Discrepancy: 1.7770156923198361\n",
      "gradient difference: 5.683802706023094\n"
     ]
    },
    {
     "name": "stderr",
     "output_type": "stream",
     "text": [
      "                                                      \r"
     ]
    },
    {
     "name": "stdout",
     "output_type": "stream",
     "text": [
      "At round 545 accuracy: 0.7205327675624705\n",
      "At round 545 training accuracy: 0.8199445983379502\n",
      "At round 545 training loss: 0.48128960533402965\n",
      "At round 545 Discrepancy: 1.937768557733829\n",
      "gradient difference: 5.1404239830287475\n"
     ]
    },
    {
     "name": "stderr",
     "output_type": "stream",
     "text": [
      "                                                      \r"
     ]
    },
    {
     "name": "stdout",
     "output_type": "stream",
     "text": [
      "At round 546 accuracy: 0.7175860443187175\n",
      "At round 546 training accuracy: 0.7864864864864864\n",
      "At round 546 training loss: 0.5179928340621897\n",
      "At round 546 Discrepancy: 1.8934797316435041\n",
      "gradient difference: 5.328816321462812\n"
     ]
    },
    {
     "name": "stderr",
     "output_type": "stream",
     "text": [
      "                                                      \r"
     ]
    },
    {
     "name": "stdout",
     "output_type": "stream",
     "text": [
      "At round 547 accuracy: 0.7164073550212164\n",
      "At round 547 training accuracy: 0.8211586901763224\n",
      "At round 547 training loss: 0.4645912824597407\n",
      "At round 547 Discrepancy: 1.7323836182841272\n",
      "gradient difference: 5.446265040935477\n"
     ]
    },
    {
     "name": "stderr",
     "output_type": "stream",
     "text": [
      "                                                      \r"
     ]
    },
    {
     "name": "stdout",
     "output_type": "stream",
     "text": [
      "At round 548 accuracy: 0.7194719471947195\n",
      "At round 548 training accuracy: 0.7813238770685579\n",
      "At round 548 training loss: 0.6065732325574749\n",
      "At round 548 Discrepancy: 1.8013649009681056\n",
      "gradient difference: 5.112035582687515\n"
     ]
    },
    {
     "name": "stderr",
     "output_type": "stream",
     "text": [
      "                                                      \r"
     ]
    },
    {
     "name": "stdout",
     "output_type": "stream",
     "text": [
      "At round 549 accuracy: 0.7165252239509665\n",
      "At round 549 training accuracy: 0.7801047120418848\n",
      "At round 549 training loss: 0.5307019920629591\n",
      "At round 549 Discrepancy: 1.8304483327178107\n",
      "gradient difference: 5.341972597002334\n"
     ]
    },
    {
     "name": "stderr",
     "output_type": "stream",
     "text": [
      "                                                      \r"
     ]
    },
    {
     "name": "stdout",
     "output_type": "stream",
     "text": [
      "At round 550 accuracy: 0.7023809523809523\n",
      "At round 550 training accuracy: 0.8118811881188119\n",
      "At round 550 training loss: 0.4086201867507573\n",
      "At round 550 Discrepancy: 1.945226721502051\n",
      "gradient difference: 5.014169300022872\n"
     ]
    },
    {
     "name": "stderr",
     "output_type": "stream",
     "text": [
      "                                                      \r"
     ]
    },
    {
     "name": "stdout",
     "output_type": "stream",
     "text": [
      "At round 551 accuracy: 0.7211221122112211\n",
      "At round 551 training accuracy: 0.7472118959107806\n",
      "At round 551 training loss: 0.7059593096357001\n",
      "At round 551 Discrepancy: 1.5715202331599532\n",
      "gradient difference: 5.965053287125765\n"
     ]
    },
    {
     "name": "stderr",
     "output_type": "stream",
     "text": [
      "                                                      \r"
     ]
    },
    {
     "name": "stdout",
     "output_type": "stream",
     "text": [
      "At round 552 accuracy: 0.7108675153229609\n",
      "At round 552 training accuracy: 0.6445725264169068\n",
      "At round 552 training loss: 0.885752428094002\n",
      "At round 552 Discrepancy: 1.9994906810526996\n",
      "gradient difference: 5.313433580463422\n"
     ]
    },
    {
     "name": "stderr",
     "output_type": "stream",
     "text": [
      "                                                      \r"
     ]
    },
    {
     "name": "stdout",
     "output_type": "stream",
     "text": [
      "At round 553 accuracy: 0.6947194719471947\n",
      "At round 553 training accuracy: 0.8064806480648065\n",
      "At round 553 training loss: 0.4553830484540263\n",
      "At round 553 Discrepancy: 2.079246310574849\n",
      "gradient difference: 5.170950162166744\n"
     ]
    },
    {
     "name": "stderr",
     "output_type": "stream",
     "text": [
      "                                                      \r"
     ]
    },
    {
     "name": "stdout",
     "output_type": "stream",
     "text": [
      "At round 554 accuracy: 0.7115747289014616\n",
      "At round 554 training accuracy: 0.804932735426009\n",
      "At round 554 training loss: 0.4911658949314746\n",
      "At round 554 Discrepancy: 1.7720996275579097\n",
      "gradient difference: 5.630770187288983\n"
     ]
    },
    {
     "name": "stderr",
     "output_type": "stream",
     "text": [
      "                                                      \r"
     ]
    },
    {
     "name": "stdout",
     "output_type": "stream",
     "text": [
      "At round 555 accuracy: 0.7204148986327205\n",
      "At round 555 training accuracy: 0.8115264797507789\n",
      "At round 555 training loss: 0.551492426864298\n",
      "At round 555 Discrepancy: 1.8676466671788887\n",
      "gradient difference: 6.0708724472843825\n"
     ]
    },
    {
     "name": "stderr",
     "output_type": "stream",
     "text": [
      "                                                      \r"
     ]
    },
    {
     "name": "stdout",
     "output_type": "stream",
     "text": [
      "At round 556 accuracy: 0.727015558698727\n",
      "At round 556 training accuracy: 0.8037109375\n",
      "At round 556 training loss: 0.4943704133766005\n",
      "At round 556 Discrepancy: 1.7690945803045455\n",
      "gradient difference: 5.495388535038685\n"
     ]
    },
    {
     "name": "stderr",
     "output_type": "stream",
     "text": [
      "                                                      \r"
     ]
    },
    {
     "name": "stdout",
     "output_type": "stream",
     "text": [
      "At round 557 accuracy: 0.7245403111739745\n",
      "At round 557 training accuracy: 0.8263403263403264\n",
      "At round 557 training loss: 0.49744152517377077\n",
      "At round 557 Discrepancy: 1.781148733459672\n",
      "gradient difference: 6.039619482318997\n"
     ]
    },
    {
     "name": "stderr",
     "output_type": "stream",
     "text": [
      "                                                      \r"
     ]
    },
    {
     "name": "stdout",
     "output_type": "stream",
     "text": [
      "At round 558 accuracy: 0.7261904761904762\n",
      "At round 558 training accuracy: 0.8\n",
      "At round 558 training loss: 0.5820539096042966\n",
      "At round 558 Discrepancy: 1.782156838077261\n",
      "gradient difference: 6.3683851216398235\n"
     ]
    },
    {
     "name": "stderr",
     "output_type": "stream",
     "text": [
      "                                                      \r"
     ]
    },
    {
     "name": "stdout",
     "output_type": "stream",
     "text": [
      "At round 559 accuracy: 0.7135785007072136\n",
      "At round 559 training accuracy: 0.8075268817204301\n",
      "At round 559 training loss: 0.545856956336447\n",
      "At round 559 Discrepancy: 1.7311548090801665\n",
      "gradient difference: 5.82169699437773\n"
     ]
    },
    {
     "name": "stderr",
     "output_type": "stream",
     "text": [
      "                                                      \r"
     ]
    },
    {
     "name": "stdout",
     "output_type": "stream",
     "text": [
      "At round 560 accuracy: 0.7160537482319661\n",
      "At round 560 training accuracy: 0.8393094289508632\n",
      "At round 560 training loss: 0.4335536292822448\n",
      "At round 560 Discrepancy: 2.0039818960713704\n",
      "gradient difference: 5.690162115776594\n"
     ]
    },
    {
     "name": "stderr",
     "output_type": "stream",
     "text": [
      "                                                      \r"
     ]
    },
    {
     "name": "stdout",
     "output_type": "stream",
     "text": [
      "At round 561 accuracy: 0.7215935879302215\n",
      "At round 561 training accuracy: 0.8206820682068207\n",
      "At round 561 training loss: 0.4779682106443971\n",
      "At round 561 Discrepancy: 1.7565159229305547\n",
      "gradient difference: 4.925053412478621\n"
     ]
    },
    {
     "name": "stderr",
     "output_type": "stream",
     "text": [
      "                                                      \r"
     ]
    },
    {
     "name": "stdout",
     "output_type": "stream",
     "text": [
      "At round 562 accuracy: 0.7212399811409712\n",
      "At round 562 training accuracy: 0.7248764415156508\n",
      "At round 562 training loss: 0.7373957553942867\n",
      "At round 562 Discrepancy: 1.7828494361207738\n",
      "gradient difference: 5.67883843238796\n"
     ]
    },
    {
     "name": "stderr",
     "output_type": "stream",
     "text": [
      "                                                      \r"
     ]
    },
    {
     "name": "stdout",
     "output_type": "stream",
     "text": [
      "At round 563 accuracy: 0.7080386610089581\n",
      "At round 563 training accuracy: 0.8317046688382194\n",
      "At round 563 training loss: 0.43384662001160146\n",
      "At round 563 Discrepancy: 1.8334983477434246\n",
      "gradient difference: 4.698863381855825\n"
     ]
    },
    {
     "name": "stderr",
     "output_type": "stream",
     "text": [
      "                                                      \r"
     ]
    },
    {
     "name": "stdout",
     "output_type": "stream",
     "text": [
      "At round 564 accuracy: 0.7191183404054691\n",
      "At round 564 training accuracy: 0.8668252080856124\n",
      "At round 564 training loss: 0.3744964861752871\n",
      "At round 564 Discrepancy: 1.732451858237876\n",
      "gradient difference: 5.706238118514768\n"
     ]
    },
    {
     "name": "stderr",
     "output_type": "stream",
     "text": [
      "                                                      \r"
     ]
    },
    {
     "name": "stdout",
     "output_type": "stream",
     "text": [
      "At round 565 accuracy: 0.7147571900047147\n",
      "At round 565 training accuracy: 0.7542787286063569\n",
      "At round 565 training loss: 0.7062883064165612\n",
      "At round 565 Discrepancy: 1.6311170733439908\n",
      "gradient difference: 6.140838192174521\n"
     ]
    },
    {
     "name": "stderr",
     "output_type": "stream",
     "text": [
      "                                                      \r"
     ]
    },
    {
     "name": "stdout",
     "output_type": "stream",
     "text": [
      "At round 566 accuracy: 0.7144035832154644\n",
      "At round 566 training accuracy: 0.7690288713910761\n",
      "At round 566 training loss: 0.6445990145558448\n",
      "At round 566 Discrepancy: 1.7437075114149543\n",
      "gradient difference: 5.4310527371918775\n"
     ]
    },
    {
     "name": "stderr",
     "output_type": "stream",
     "text": [
      "                                                      \r"
     ]
    },
    {
     "name": "stdout",
     "output_type": "stream",
     "text": [
      "At round 567 accuracy: 0.7074493163602075\n",
      "At round 567 training accuracy: 0.794251134644478\n",
      "At round 567 training loss: 0.4948396978282712\n",
      "At round 567 Discrepancy: 2.1026279752085153\n",
      "gradient difference: 5.041394210388588\n"
     ]
    },
    {
     "name": "stderr",
     "output_type": "stream",
     "text": [
      "                                                      \r"
     ]
    },
    {
     "name": "stdout",
     "output_type": "stream",
     "text": [
      "At round 568 accuracy: 0.7211221122112211\n",
      "At round 568 training accuracy: 0.8317107093184979\n",
      "At round 568 training loss: 0.4569986596303928\n",
      "At round 568 Discrepancy: 1.7115169870279914\n",
      "gradient difference: 4.969104537844029\n"
     ]
    },
    {
     "name": "stderr",
     "output_type": "stream",
     "text": [
      "                                                      \r"
     ]
    },
    {
     "name": "stdout",
     "output_type": "stream",
     "text": [
      "At round 569 accuracy: 0.7218293257897218\n",
      "At round 569 training accuracy: 0.8461538461538461\n",
      "At round 569 training loss: 0.4158661222642807\n",
      "At round 569 Discrepancy: 1.4435147300965625\n",
      "gradient difference: 5.293249271750796\n"
     ]
    },
    {
     "name": "stderr",
     "output_type": "stream",
     "text": [
      "                                                      \r"
     ]
    },
    {
     "name": "stdout",
     "output_type": "stream",
     "text": [
      "At round 570 accuracy: 0.7204148986327205\n",
      "At round 570 training accuracy: 0.8005082592121983\n",
      "At round 570 training loss: 0.558475947289182\n",
      "At round 570 Discrepancy: 1.486864717266497\n",
      "gradient difference: 5.22951272311985\n"
     ]
    },
    {
     "name": "stderr",
     "output_type": "stream",
     "text": [
      "                                                      \r"
     ]
    },
    {
     "name": "stdout",
     "output_type": "stream",
     "text": [
      "At round 571 accuracy: 0.7162894860914663\n",
      "At round 571 training accuracy: 0.8475689881734559\n",
      "At round 571 training loss: 0.4508632090346246\n",
      "At round 571 Discrepancy: 1.7750089005530938\n",
      "gradient difference: 5.310987635052155\n"
     ]
    },
    {
     "name": "stderr",
     "output_type": "stream",
     "text": [
      "                                                      \r"
     ]
    },
    {
     "name": "stdout",
     "output_type": "stream",
     "text": [
      "At round 572 accuracy: 0.7154644035832155\n",
      "At round 572 training accuracy: 0.818830242510699\n",
      "At round 572 training loss: 0.49976508621343635\n",
      "At round 572 Discrepancy: 1.646438272194399\n",
      "gradient difference: 5.606300634368153\n"
     ]
    },
    {
     "name": "stderr",
     "output_type": "stream",
     "text": [
      "                                                      \r"
     ]
    },
    {
     "name": "stdout",
     "output_type": "stream",
     "text": [
      "At round 573 accuracy: 0.7235973597359736\n",
      "At round 573 training accuracy: 0.8041504539559015\n",
      "At round 573 training loss: 0.530602994699867\n",
      "At round 573 Discrepancy: 1.7293726473924633\n",
      "gradient difference: 5.343915447457069\n"
     ]
    },
    {
     "name": "stderr",
     "output_type": "stream",
     "text": [
      "                                                      \r"
     ]
    },
    {
     "name": "stdout",
     "output_type": "stream",
     "text": [
      "At round 574 accuracy: 0.7164073550212164\n",
      "At round 574 training accuracy: 0.8105548037889039\n",
      "At round 574 training loss: 0.4822270590184995\n",
      "At round 574 Discrepancy: 2.1365413282066275\n",
      "gradient difference: 5.76411911361289\n"
     ]
    },
    {
     "name": "stderr",
     "output_type": "stream",
     "text": [
      "                                                      \r"
     ]
    },
    {
     "name": "stdout",
     "output_type": "stream",
     "text": [
      "At round 575 accuracy: 0.7204148986327205\n",
      "At round 575 training accuracy: 0.7969543147208121\n",
      "At round 575 training loss: 0.5153736654045012\n",
      "At round 575 Discrepancy: 1.8573587566352536\n",
      "gradient difference: 5.279566992457683\n"
     ]
    },
    {
     "name": "stderr",
     "output_type": "stream",
     "text": [
      "                                                      \r"
     ]
    },
    {
     "name": "stdout",
     "output_type": "stream",
     "text": [
      "At round 576 accuracy: 0.7032060348892032\n",
      "At round 576 training accuracy: 0.8615751789976134\n",
      "At round 576 training loss: 0.3809427596264139\n",
      "At round 576 Discrepancy: 1.7331157173515699\n",
      "gradient difference: 5.758600165275657\n"
     ]
    },
    {
     "name": "stderr",
     "output_type": "stream",
     "text": [
      "                                                      \r"
     ]
    },
    {
     "name": "stdout",
     "output_type": "stream",
     "text": [
      "At round 577 accuracy: 0.7173503064592174\n",
      "At round 577 training accuracy: 0.7905491698595147\n",
      "At round 577 training loss: 0.5528516032724697\n",
      "At round 577 Discrepancy: 1.575111252424985\n",
      "gradient difference: 5.976906257475919\n"
     ]
    },
    {
     "name": "stderr",
     "output_type": "stream",
     "text": [
      "                                                      \r"
     ]
    },
    {
     "name": "stdout",
     "output_type": "stream",
     "text": [
      "At round 578 accuracy: 0.6944837340876945\n",
      "At round 578 training accuracy: 0.78428927680798\n",
      "At round 578 training loss: 0.6201429498240241\n",
      "At round 578 Discrepancy: 2.365759092246822\n",
      "gradient difference: 6.4164701272311095\n"
     ]
    },
    {
     "name": "stderr",
     "output_type": "stream",
     "text": [
      "                                                      \r"
     ]
    },
    {
     "name": "stdout",
     "output_type": "stream",
     "text": [
      "At round 579 accuracy: 0.7235973597359736\n",
      "At round 579 training accuracy: 0.8502994011976048\n",
      "At round 579 training loss: 0.396256744154188\n",
      "At round 579 Discrepancy: 1.5836960850466977\n",
      "gradient difference: 5.695188951486569\n"
     ]
    },
    {
     "name": "stderr",
     "output_type": "stream",
     "text": [
      "                                                      \r"
     ]
    },
    {
     "name": "stdout",
     "output_type": "stream",
     "text": [
      "At round 580 accuracy: 0.7217114568599717\n",
      "At round 580 training accuracy: 0.8213256484149856\n",
      "At round 580 training loss: 0.4834463140958791\n",
      "At round 580 Discrepancy: 1.7624121770333754\n",
      "gradient difference: 5.541929070120605\n"
     ]
    },
    {
     "name": "stderr",
     "output_type": "stream",
     "text": [
      "                                                      \r"
     ]
    },
    {
     "name": "stdout",
     "output_type": "stream",
     "text": [
      "At round 581 accuracy: 0.7243045733144743\n",
      "At round 581 training accuracy: 0.7975708502024291\n",
      "At round 581 training loss: 0.5224192305172665\n",
      "At round 581 Discrepancy: 2.0553629107113207\n",
      "gradient difference: 4.9785580008737345\n"
     ]
    },
    {
     "name": "stderr",
     "output_type": "stream",
     "text": [
      "                                                      \r"
     ]
    },
    {
     "name": "stdout",
     "output_type": "stream",
     "text": [
      "At round 582 accuracy: 0.7256011315417256\n",
      "At round 582 training accuracy: 0.7925824175824175\n",
      "At round 582 training loss: 0.5270316702119269\n",
      "At round 582 Discrepancy: 1.7838083554226376\n",
      "gradient difference: 5.328179597767014\n"
     ]
    },
    {
     "name": "stderr",
     "output_type": "stream",
     "text": [
      "                                                      \r"
     ]
    },
    {
     "name": "stdout",
     "output_type": "stream",
     "text": [
      "At round 583 accuracy: 0.7241867043847242\n",
      "At round 583 training accuracy: 0.7517630465444288\n",
      "At round 583 training loss: 0.7167503867398196\n",
      "At round 583 Discrepancy: 1.8131597255234702\n",
      "gradient difference: 6.009503786058178\n"
     ]
    },
    {
     "name": "stderr",
     "output_type": "stream",
     "text": [
      "                                                      \r"
     ]
    },
    {
     "name": "stdout",
     "output_type": "stream",
     "text": [
      "At round 584 accuracy: 0.7224186704384724\n",
      "At round 584 training accuracy: 0.83125\n",
      "At round 584 training loss: 0.4347038089577109\n",
      "At round 584 Discrepancy: 1.8993158470316556\n",
      "gradient difference: 4.728462065067136\n"
     ]
    },
    {
     "name": "stderr",
     "output_type": "stream",
     "text": [
      "                                                      \r"
     ]
    },
    {
     "name": "stdout",
     "output_type": "stream",
     "text": [
      "At round 585 accuracy: 0.7253653936822254\n",
      "At round 585 training accuracy: 0.7944514501891551\n",
      "At round 585 training loss: 0.5355821669026551\n",
      "At round 585 Discrepancy: 1.4765525877198307\n",
      "gradient difference: 5.625734767037445\n"
     ]
    },
    {
     "name": "stderr",
     "output_type": "stream",
     "text": [
      "                                                      \r"
     ]
    },
    {
     "name": "stdout",
     "output_type": "stream",
     "text": [
      "At round 586 accuracy: 0.7127534181989628\n",
      "At round 586 training accuracy: 0.7706935123042505\n",
      "At round 586 training loss: 0.5890045796731441\n",
      "At round 586 Discrepancy: 1.7228432143631494\n",
      "gradient difference: 6.0609729967007455\n"
     ]
    },
    {
     "name": "stderr",
     "output_type": "stream",
     "text": [
      "                                                      \r"
     ]
    },
    {
     "name": "stdout",
     "output_type": "stream",
     "text": [
      "At round 587 accuracy: 0.7218293257897218\n",
      "At round 587 training accuracy: 0.8217142857142857\n",
      "At round 587 training loss: 0.4466462272746222\n",
      "At round 587 Discrepancy: 2.1449332796844702\n",
      "gradient difference: 6.31467707986242\n"
     ]
    },
    {
     "name": "stderr",
     "output_type": "stream",
     "text": [
      "                                                      \r"
     ]
    },
    {
     "name": "stdout",
     "output_type": "stream",
     "text": [
      "At round 588 accuracy: 0.7167609618104668\n",
      "At round 588 training accuracy: 0.7659574468085106\n",
      "At round 588 training loss: 0.6371017171347395\n",
      "At round 588 Discrepancy: 1.8076468893088389\n",
      "gradient difference: 6.089653981738759\n"
     ]
    },
    {
     "name": "stderr",
     "output_type": "stream",
     "text": [
      "                                                      \r"
     ]
    },
    {
     "name": "stdout",
     "output_type": "stream",
     "text": [
      "At round 589 accuracy: 0.7103960396039604\n",
      "At round 589 training accuracy: 0.8599182004089979\n",
      "At round 589 training loss: 0.3691003095512878\n",
      "At round 589 Discrepancy: 2.115286261189836\n",
      "gradient difference: 5.319572844681975\n"
     ]
    },
    {
     "name": "stderr",
     "output_type": "stream",
     "text": [
      "                                                      \r"
     ]
    },
    {
     "name": "stdout",
     "output_type": "stream",
     "text": [
      "At round 590 accuracy: 0.7141678453559641\n",
      "At round 590 training accuracy: 0.7581120943952803\n",
      "At round 590 training loss: 0.6295318413185159\n",
      "At round 590 Discrepancy: 1.848525611135487\n",
      "gradient difference: 5.146149040512498\n"
     ]
    },
    {
     "name": "stderr",
     "output_type": "stream",
     "text": [
      "                                                      \r"
     ]
    },
    {
     "name": "stdout",
     "output_type": "stream",
     "text": [
      "At round 591 accuracy: 0.7070957095709571\n",
      "At round 591 training accuracy: 0.7964285714285714\n",
      "At round 591 training loss: 0.5176264895214922\n",
      "At round 591 Discrepancy: 2.0599411292541094\n",
      "gradient difference: 4.475525857721838\n"
     ]
    },
    {
     "name": "stderr",
     "output_type": "stream",
     "text": [
      "                                                      \r"
     ]
    },
    {
     "name": "stdout",
     "output_type": "stream",
     "text": [
      "At round 592 accuracy: 0.7106317774634606\n",
      "At round 592 training accuracy: 0.7842920353982301\n",
      "At round 592 training loss: 0.5173657243428504\n",
      "At round 592 Discrepancy: 1.7092787119959543\n",
      "gradient difference: 5.259343408704881\n"
     ]
    },
    {
     "name": "stderr",
     "output_type": "stream",
     "text": [
      "                                                      \r"
     ]
    },
    {
     "name": "stdout",
     "output_type": "stream",
     "text": [
      "At round 593 accuracy: 0.7184111268269684\n",
      "At round 593 training accuracy: 0.8077455048409405\n",
      "At round 593 training loss: 0.4804732951441558\n",
      "At round 593 Discrepancy: 1.8915507221906753\n",
      "gradient difference: 5.01611327692625\n"
     ]
    },
    {
     "name": "stderr",
     "output_type": "stream",
     "text": [
      "                                                      \r"
     ]
    },
    {
     "name": "stdout",
     "output_type": "stream",
     "text": [
      "At round 594 accuracy: 0.7211221122112211\n",
      "At round 594 training accuracy: 0.8362944162436549\n",
      "At round 594 training loss: 0.45209991279575823\n",
      "At round 594 Discrepancy: 1.7485688458981994\n",
      "gradient difference: 5.977835670108402\n"
     ]
    },
    {
     "name": "stderr",
     "output_type": "stream",
     "text": [
      "                                                      \r"
     ]
    },
    {
     "name": "stdout",
     "output_type": "stream",
     "text": [
      "At round 595 accuracy: 0.721947194719472\n",
      "At round 595 training accuracy: 0.7320916905444126\n",
      "At round 595 training loss: 0.6896171573186587\n",
      "At round 595 Discrepancy: 1.5581470249168952\n",
      "gradient difference: 5.855881688199746\n"
     ]
    },
    {
     "name": "stderr",
     "output_type": "stream",
     "text": [
      "                                                      \r"
     ]
    },
    {
     "name": "stdout",
     "output_type": "stream",
     "text": [
      "At round 596 accuracy: 0.7103960396039604\n",
      "At round 596 training accuracy: 0.7983193277310925\n",
      "At round 596 training loss: 0.46854064824367436\n",
      "At round 596 Discrepancy: 1.992033599187425\n",
      "gradient difference: 4.308857942815037\n"
     ]
    },
    {
     "name": "stderr",
     "output_type": "stream",
     "text": [
      "                                                      \r"
     ]
    },
    {
     "name": "stdout",
     "output_type": "stream",
     "text": [
      "At round 597 accuracy: 0.7220650636492221\n",
      "At round 597 training accuracy: 0.8417553191489362\n",
      "At round 597 training loss: 0.4151174905908076\n",
      "At round 597 Discrepancy: 1.4801974455834777\n",
      "gradient difference: 5.3008119624143335\n"
     ]
    },
    {
     "name": "stderr",
     "output_type": "stream",
     "text": [
      "                                                      \r"
     ]
    },
    {
     "name": "stdout",
     "output_type": "stream",
     "text": [
      "At round 598 accuracy: 0.7212399811409712\n",
      "At round 598 training accuracy: 0.8246124031007752\n",
      "At round 598 training loss: 0.43771693400398815\n",
      "At round 598 Discrepancy: 1.7590093689311685\n",
      "gradient difference: 5.8239697191398365\n"
     ]
    },
    {
     "name": "stderr",
     "output_type": "stream",
     "text": [
      "                                                      \r"
     ]
    },
    {
     "name": "stdout",
     "output_type": "stream",
     "text": [
      "At round 599 accuracy: 0.7177039132484677\n",
      "At round 599 training accuracy: 0.7844444444444445\n",
      "At round 599 training loss: 0.5384401398973487\n",
      "At round 599 Discrepancy: 1.7592453482065202\n",
      "gradient difference: 6.248129000361828\n"
     ]
    },
    {
     "name": "stderr",
     "output_type": "stream",
     "text": [
      "                                                      \r"
     ]
    },
    {
     "name": "stdout",
     "output_type": "stream",
     "text": [
      "At round 600 accuracy: 0.7134606317774634\n",
      "At round 600 training accuracy: 0.798984771573604\n",
      "At round 600 training loss: 0.4870214629748146\n",
      "At round 600 Discrepancy: 2.050870971953012\n",
      "gradient difference: 6.375770458583319\n"
     ]
    },
    {
     "name": "stderr",
     "output_type": "stream",
     "text": [
      "                                                      \r"
     ]
    },
    {
     "name": "stdout",
     "output_type": "stream",
     "text": [
      "At round 601 accuracy: 0.7197076850542197\n",
      "At round 601 training accuracy: 0.7745098039215687\n",
      "At round 601 training loss: 0.6959576854557716\n",
      "At round 601 Discrepancy: 1.6545164367450975\n",
      "gradient difference: 7.630458162517881\n"
     ]
    },
    {
     "name": "stderr",
     "output_type": "stream",
     "text": [
      "                                                      \r"
     ]
    },
    {
     "name": "stdout",
     "output_type": "stream",
     "text": [
      "At round 602 accuracy: 0.7192362093352193\n",
      "At round 602 training accuracy: 0.8402948402948403\n",
      "At round 602 training loss: 0.46438123726818586\n",
      "At round 602 Discrepancy: 1.8835777025796112\n",
      "gradient difference: 6.235776978010744\n"
     ]
    },
    {
     "name": "stderr",
     "output_type": "stream",
     "text": [
      "                                                      \r"
     ]
    },
    {
     "name": "stdout",
     "output_type": "stream",
     "text": [
      "At round 603 accuracy: 0.7224186704384724\n",
      "At round 603 training accuracy: 0.7896103896103897\n",
      "At round 603 training loss: 0.5331172429121934\n",
      "At round 603 Discrepancy: 2.247993727621442\n",
      "gradient difference: 5.2839617630046956\n"
     ]
    },
    {
     "name": "stderr",
     "output_type": "stream",
     "text": [
      "                                                      \r"
     ]
    },
    {
     "name": "stdout",
     "output_type": "stream",
     "text": [
      "At round 604 accuracy: 0.7115747289014616\n",
      "At round 604 training accuracy: 0.8512221041445271\n",
      "At round 604 training loss: 0.3940799753325145\n",
      "At round 604 Discrepancy: 1.7504158117873874\n",
      "gradient difference: 5.538137200472096\n"
     ]
    },
    {
     "name": "stderr",
     "output_type": "stream",
     "text": [
      "                                                      \r"
     ]
    },
    {
     "name": "stdout",
     "output_type": "stream",
     "text": [
      "At round 605 accuracy: 0.7264262140499764\n",
      "At round 605 training accuracy: 0.8204365079365079\n",
      "At round 605 training loss: 0.4221683190865276\n",
      "At round 605 Discrepancy: 1.7131627119441426\n",
      "gradient difference: 5.771785915962088\n"
     ]
    },
    {
     "name": "stderr",
     "output_type": "stream",
     "text": [
      "                                                      \r"
     ]
    },
    {
     "name": "stdout",
     "output_type": "stream",
     "text": [
      "At round 606 accuracy: 0.7158180103724658\n",
      "At round 606 training accuracy: 0.8285101822079314\n",
      "At round 606 training loss: 0.4512972235460022\n",
      "At round 606 Discrepancy: 1.8947149334936768\n",
      "gradient difference: 6.809176225013396\n"
     ]
    },
    {
     "name": "stderr",
     "output_type": "stream",
     "text": [
      "                                                      \r"
     ]
    },
    {
     "name": "stdout",
     "output_type": "stream",
     "text": [
      "At round 607 accuracy: 0.7220650636492221\n",
      "At round 607 training accuracy: 0.7814761215629522\n",
      "At round 607 training loss: 0.5908805297097318\n",
      "At round 607 Discrepancy: 1.763024311620558\n",
      "gradient difference: 6.262865712044712\n"
     ]
    },
    {
     "name": "stderr",
     "output_type": "stream",
     "text": [
      "                                                      \r"
     ]
    },
    {
     "name": "stdout",
     "output_type": "stream",
     "text": [
      "At round 608 accuracy: 0.7238330975954739\n",
      "At round 608 training accuracy: 0.8270571827057183\n",
      "At round 608 training loss: 0.4239263723668028\n",
      "At round 608 Discrepancy: 2.116575714750383\n",
      "gradient difference: 4.623636222166733\n"
     ]
    },
    {
     "name": "stderr",
     "output_type": "stream",
     "text": [
      "                                                      \r"
     ]
    },
    {
     "name": "stdout",
     "output_type": "stream",
     "text": [
      "At round 609 accuracy: 0.7220650636492221\n",
      "At round 609 training accuracy: 0.8502475247524752\n",
      "At round 609 training loss: 0.37890952997057153\n",
      "At round 609 Discrepancy: 1.986113724015982\n",
      "gradient difference: 5.388728205164791\n"
     ]
    },
    {
     "name": "stderr",
     "output_type": "stream",
     "text": [
      "                                                      \r"
     ]
    },
    {
     "name": "stdout",
     "output_type": "stream",
     "text": [
      "At round 610 accuracy: 0.7234794908062234\n",
      "At round 610 training accuracy: 0.8118361153262519\n",
      "At round 610 training loss: 0.46770150744679845\n",
      "At round 610 Discrepancy: 1.9960039401126313\n",
      "gradient difference: 6.112906880540224\n"
     ]
    },
    {
     "name": "stderr",
     "output_type": "stream",
     "text": [
      "                                                      \r"
     ]
    },
    {
     "name": "stdout",
     "output_type": "stream",
     "text": [
      "At round 611 accuracy: 0.7235973597359736\n",
      "At round 611 training accuracy: 0.8416175231676495\n",
      "At round 611 training loss: 0.42317264831508017\n",
      "At round 611 Discrepancy: 1.722545878207318\n",
      "gradient difference: 6.244970500539153\n"
     ]
    },
    {
     "name": "stderr",
     "output_type": "stream",
     "text": [
      "                                                      \r"
     ]
    },
    {
     "name": "stdout",
     "output_type": "stream",
     "text": [
      "At round 612 accuracy: 0.7224186704384724\n",
      "At round 612 training accuracy: 0.8198433420365535\n",
      "At round 612 training loss: 0.5354423120267708\n",
      "At round 612 Discrepancy: 2.12401490269989\n",
      "gradient difference: 6.743106305543203\n"
     ]
    },
    {
     "name": "stderr",
     "output_type": "stream",
     "text": [
      "                                                      \r"
     ]
    },
    {
     "name": "stdout",
     "output_type": "stream",
     "text": [
      "At round 613 accuracy: 0.726897689768977\n",
      "At round 613 training accuracy: 0.8558456299659478\n",
      "At round 613 training loss: 0.37422750193897103\n",
      "At round 613 Discrepancy: 2.0236113910880675\n",
      "gradient difference: 5.603643394832044\n"
     ]
    },
    {
     "name": "stderr",
     "output_type": "stream",
     "text": [
      "                                                      \r"
     ]
    },
    {
     "name": "stdout",
     "output_type": "stream",
     "text": [
      "At round 614 accuracy: 0.7267798208392268\n",
      "At round 614 training accuracy: 0.8197088465845465\n",
      "At round 614 training loss: 0.48344224834896016\n",
      "At round 614 Discrepancy: 1.6382318597895007\n",
      "gradient difference: 5.835849095266045\n"
     ]
    },
    {
     "name": "stderr",
     "output_type": "stream",
     "text": [
      "                                                      \r"
     ]
    },
    {
     "name": "stdout",
     "output_type": "stream",
     "text": [
      "At round 615 accuracy: 0.7278406412069779\n",
      "At round 615 training accuracy: 0.8046875\n",
      "At round 615 training loss: 0.5145481654908508\n",
      "At round 615 Discrepancy: 1.9640204421996437\n",
      "gradient difference: 5.641689144499125\n"
     ]
    },
    {
     "name": "stderr",
     "output_type": "stream",
     "text": [
      "                                                      \r"
     ]
    },
    {
     "name": "stdout",
     "output_type": "stream",
     "text": [
      "At round 616 accuracy: 0.7228901461574729\n",
      "At round 616 training accuracy: 0.8358509566968781\n",
      "At round 616 training loss: 0.4051601790709558\n",
      "At round 616 Discrepancy: 2.0373605030728164\n",
      "gradient difference: 5.527591097957498\n"
     ]
    },
    {
     "name": "stderr",
     "output_type": "stream",
     "text": [
      "                                                      \r"
     ]
    },
    {
     "name": "stdout",
     "output_type": "stream",
     "text": [
      "At round 617 accuracy: 0.7257190004714758\n",
      "At round 617 training accuracy: 0.798358733880422\n",
      "At round 617 training loss: 0.5639495113460568\n",
      "At round 617 Discrepancy: 1.8656150572080636\n",
      "gradient difference: 5.770313684204985\n"
     ]
    },
    {
     "name": "stderr",
     "output_type": "stream",
     "text": [
      "                                                      \r"
     ]
    },
    {
     "name": "stdout",
     "output_type": "stream",
     "text": [
      "At round 618 accuracy: 0.7198255539839699\n",
      "At round 618 training accuracy: 0.8225058004640371\n",
      "At round 618 training loss: 0.47799887120931167\n",
      "At round 618 Discrepancy: 1.738508598337005\n",
      "gradient difference: 6.158482777272148\n"
     ]
    },
    {
     "name": "stderr",
     "output_type": "stream",
     "text": [
      "                                                      \r"
     ]
    },
    {
     "name": "stdout",
     "output_type": "stream",
     "text": [
      "At round 619 accuracy: 0.7192362093352193\n",
      "At round 619 training accuracy: 0.8747152619589977\n",
      "At round 619 training loss: 0.3544692141433503\n",
      "At round 619 Discrepancy: 1.9898658215188274\n",
      "gradient difference: 5.702364625508556\n"
     ]
    },
    {
     "name": "stderr",
     "output_type": "stream",
     "text": [
      "                                                      \r"
     ]
    },
    {
     "name": "stdout",
     "output_type": "stream",
     "text": [
      "At round 620 accuracy: 0.7244224422442245\n",
      "At round 620 training accuracy: 0.8222222222222222\n",
      "At round 620 training loss: 0.4916223670569835\n",
      "At round 620 Discrepancy: 1.6905370611991912\n",
      "gradient difference: 6.25650815678907\n"
     ]
    },
    {
     "name": "stderr",
     "output_type": "stream",
     "text": [
      "                                                      \r"
     ]
    },
    {
     "name": "stdout",
     "output_type": "stream",
     "text": [
      "At round 621 accuracy: 0.7175860443187175\n",
      "At round 621 training accuracy: 0.8357615894039735\n",
      "At round 621 training loss: 0.4497182874049103\n",
      "At round 621 Discrepancy: 1.9056740328204296\n",
      "gradient difference: 5.048341068954412\n"
     ]
    },
    {
     "name": "stderr",
     "output_type": "stream",
     "text": [
      "                                                      \r"
     ]
    },
    {
     "name": "stdout",
     "output_type": "stream",
     "text": [
      "At round 622 accuracy: 0.7123998114097124\n",
      "At round 622 training accuracy: 0.8208516886930984\n",
      "At round 622 training loss: 0.47762651966881997\n",
      "At round 622 Discrepancy: 1.731178864941985\n",
      "gradient difference: 5.1266607624456135\n"
     ]
    },
    {
     "name": "stderr",
     "output_type": "stream",
     "text": [
      "                                                      \r"
     ]
    },
    {
     "name": "stdout",
     "output_type": "stream",
     "text": [
      "At round 623 accuracy: 0.7132248939179632\n",
      "At round 623 training accuracy: 0.8014925373134328\n",
      "At round 623 training loss: 0.5148782735735651\n",
      "At round 623 Discrepancy: 1.7049032979432415\n",
      "gradient difference: 4.948768242208922\n"
     ]
    },
    {
     "name": "stderr",
     "output_type": "stream",
     "text": [
      "                                                      \r"
     ]
    },
    {
     "name": "stdout",
     "output_type": "stream",
     "text": [
      "At round 624 accuracy: 0.7101603017444602\n",
      "At round 624 training accuracy: 0.8258503401360544\n",
      "At round 624 training loss: 0.4469957178344532\n",
      "At round 624 Discrepancy: 1.6527340020549866\n",
      "gradient difference: 4.875038028390399\n"
     ]
    },
    {
     "name": "stderr",
     "output_type": "stream",
     "text": [
      "                                                      \r"
     ]
    },
    {
     "name": "stdout",
     "output_type": "stream",
     "text": [
      "At round 625 accuracy: 0.7182932578972183\n",
      "At round 625 training accuracy: 0.8399558498896247\n",
      "At round 625 training loss: 0.3820603550483717\n",
      "At round 625 Discrepancy: 1.8846097479081583\n",
      "gradient difference: 5.083696507035456\n"
     ]
    },
    {
     "name": "stderr",
     "output_type": "stream",
     "text": [
      "                                                      \r"
     ]
    },
    {
     "name": "stdout",
     "output_type": "stream",
     "text": [
      "At round 626 accuracy: 0.72006129184347\n",
      "At round 626 training accuracy: 0.8050108932461874\n",
      "At round 626 training loss: 0.5286727434334656\n",
      "At round 626 Discrepancy: 1.486951042470255\n",
      "gradient difference: 6.125144867268026\n"
     ]
    },
    {
     "name": "stderr",
     "output_type": "stream",
     "text": [
      "                                                      \r"
     ]
    },
    {
     "name": "stdout",
     "output_type": "stream",
     "text": [
      "At round 627 accuracy: 0.7292550683639792\n",
      "At round 627 training accuracy: 0.8233173076923077\n",
      "At round 627 training loss: 0.4905298804470266\n",
      "At round 627 Discrepancy: 1.8548019760766217\n",
      "gradient difference: 5.825444000888721\n"
     ]
    },
    {
     "name": "stderr",
     "output_type": "stream",
     "text": [
      "                                                      \r"
     ]
    },
    {
     "name": "stdout",
     "output_type": "stream",
     "text": [
      "At round 628 accuracy: 0.7247760490334748\n",
      "At round 628 training accuracy: 0.7972027972027972\n",
      "At round 628 training loss: 0.5400766902592354\n",
      "At round 628 Discrepancy: 1.9880708919085923\n",
      "gradient difference: 5.590655780884408\n"
     ]
    },
    {
     "name": "stderr",
     "output_type": "stream",
     "text": [
      "                                                      \r"
     ]
    },
    {
     "name": "stdout",
     "output_type": "stream",
     "text": [
      "At round 629 accuracy: 0.7257190004714758\n",
      "At round 629 training accuracy: 0.8014354066985646\n",
      "At round 629 training loss: 0.5380610003190128\n",
      "At round 629 Discrepancy: 1.8012146481811833\n",
      "gradient difference: 5.826378588129208\n"
     ]
    },
    {
     "name": "stderr",
     "output_type": "stream",
     "text": [
      "                                                      \r"
     ]
    },
    {
     "name": "stdout",
     "output_type": "stream",
     "text": [
      "At round 630 accuracy: 0.726897689768977\n",
      "At round 630 training accuracy: 0.8314917127071824\n",
      "At round 630 training loss: 0.43276579533986625\n",
      "At round 630 Discrepancy: 1.9786898829292645\n",
      "gradient difference: 5.392007682207605\n"
     ]
    },
    {
     "name": "stderr",
     "output_type": "stream",
     "text": [
      "                                                      \r"
     ]
    },
    {
     "name": "stdout",
     "output_type": "stream",
     "text": [
      "At round 631 accuracy: 0.723950966525224\n",
      "At round 631 training accuracy: 0.7958656330749354\n",
      "At round 631 training loss: 0.590135042596541\n",
      "At round 631 Discrepancy: 1.6333515289967422\n",
      "gradient difference: 5.980351565176161\n"
     ]
    },
    {
     "name": "stderr",
     "output_type": "stream",
     "text": [
      "                                                      \r"
     ]
    },
    {
     "name": "stdout",
     "output_type": "stream",
     "text": [
      "At round 632 accuracy: 0.7251296558227251\n",
      "At round 632 training accuracy: 0.8142292490118577\n",
      "At round 632 training loss: 0.47421086403849255\n",
      "At round 632 Discrepancy: 1.8707860111844472\n",
      "gradient difference: 5.048381852821982\n"
     ]
    },
    {
     "name": "stderr",
     "output_type": "stream",
     "text": [
      "                                                      \r"
     ]
    },
    {
     "name": "stdout",
     "output_type": "stream",
     "text": [
      "At round 633 accuracy: 0.7244224422442245\n",
      "At round 633 training accuracy: 0.829940119760479\n",
      "At round 633 training loss: 0.4963971221719138\n",
      "At round 633 Discrepancy: 1.741008428629281\n",
      "gradient difference: 5.462577107513724\n"
     ]
    },
    {
     "name": "stderr",
     "output_type": "stream",
     "text": [
      "                                                      \r"
     ]
    },
    {
     "name": "stdout",
     "output_type": "stream",
     "text": [
      "At round 634 accuracy: 0.7245403111739745\n",
      "At round 634 training accuracy: 0.8428390367553865\n",
      "At round 634 training loss: 0.44572760508465376\n",
      "At round 634 Discrepancy: 1.7105471763051128\n",
      "gradient difference: 5.665223722688754\n"
     ]
    },
    {
     "name": "stderr",
     "output_type": "stream",
     "text": [
      "                                                      \r"
     ]
    },
    {
     "name": "stdout",
     "output_type": "stream",
     "text": [
      "At round 635 accuracy: 0.7224186704384724\n",
      "At round 635 training accuracy: 0.7832258064516129\n",
      "At round 635 training loss: 0.6092712419936734\n",
      "At round 635 Discrepancy: 1.843389991069748\n",
      "gradient difference: 5.6645292627137165\n"
     ]
    },
    {
     "name": "stderr",
     "output_type": "stream",
     "text": [
      "                                                      \r"
     ]
    },
    {
     "name": "stdout",
     "output_type": "stream",
     "text": [
      "At round 636 accuracy: 0.7237152286657237\n",
      "At round 636 training accuracy: 0.808066759388039\n",
      "At round 636 training loss: 0.45274717755543176\n",
      "At round 636 Discrepancy: 1.8594366161425402\n",
      "gradient difference: 3.6778367281955364\n"
     ]
    },
    {
     "name": "stderr",
     "output_type": "stream",
     "text": [
      "                                                      \r"
     ]
    },
    {
     "name": "stdout",
     "output_type": "stream",
     "text": [
      "At round 637 accuracy: 0.7218293257897218\n",
      "At round 637 training accuracy: 0.7678571428571429\n",
      "At round 637 training loss: 0.5879765359152641\n",
      "At round 637 Discrepancy: 1.4918520067458445\n",
      "gradient difference: 4.960774851428677\n"
     ]
    },
    {
     "name": "stderr",
     "output_type": "stream",
     "text": [
      "                                                      \r"
     ]
    },
    {
     "name": "stdout",
     "output_type": "stream",
     "text": [
      "At round 638 accuracy: 0.7145214521452146\n",
      "At round 638 training accuracy: 0.8378378378378378\n",
      "At round 638 training loss: 0.42601015049259405\n",
      "At round 638 Discrepancy: 1.860982595216043\n",
      "gradient difference: 4.851518183104121\n"
     ]
    },
    {
     "name": "stderr",
     "output_type": "stream",
     "text": [
      "                                                      \r"
     ]
    },
    {
     "name": "stdout",
     "output_type": "stream",
     "text": [
      "At round 639 accuracy: 0.7082743988684582\n",
      "At round 639 training accuracy: 0.8178947368421052\n",
      "At round 639 training loss: 0.47300401439792233\n",
      "At round 639 Discrepancy: 1.5758287794856434\n",
      "gradient difference: 5.970929450098863\n"
     ]
    },
    {
     "name": "stderr",
     "output_type": "stream",
     "text": [
      "                                                      \r"
     ]
    },
    {
     "name": "stdout",
     "output_type": "stream",
     "text": [
      "At round 640 accuracy: 0.7192362093352193\n",
      "At round 640 training accuracy: 0.8135593220338984\n",
      "At round 640 training loss: 0.4613438861638524\n",
      "At round 640 Discrepancy: 2.014549359539735\n",
      "gradient difference: 5.452187601774622\n"
     ]
    },
    {
     "name": "stderr",
     "output_type": "stream",
     "text": [
      "                                                      \r"
     ]
    },
    {
     "name": "stdout",
     "output_type": "stream",
     "text": [
      "At round 641 accuracy: 0.7195898161244696\n",
      "At round 641 training accuracy: 0.8155784650630011\n",
      "At round 641 training loss: 0.510673804961802\n",
      "At round 641 Discrepancy: 1.763425771090732\n",
      "gradient difference: 7.122315723795102\n"
     ]
    },
    {
     "name": "stderr",
     "output_type": "stream",
     "text": [
      "                                                      \r"
     ]
    },
    {
     "name": "stdout",
     "output_type": "stream",
     "text": [
      "At round 642 accuracy: 0.7205327675624705\n",
      "At round 642 training accuracy: 0.8278481012658228\n",
      "At round 642 training loss: 0.44032091324975053\n",
      "At round 642 Discrepancy: 1.735107438397008\n",
      "gradient difference: 6.751247036508497\n"
     ]
    },
    {
     "name": "stderr",
     "output_type": "stream",
     "text": [
      "                                                      \r"
     ]
    },
    {
     "name": "stdout",
     "output_type": "stream",
     "text": [
      "At round 643 accuracy: 0.7231258840169731\n",
      "At round 643 training accuracy: 0.8253968253968254\n",
      "At round 643 training loss: 0.4085240964654577\n",
      "At round 643 Discrepancy: 1.672610416325956\n",
      "gradient difference: 5.70466920589743\n"
     ]
    },
    {
     "name": "stderr",
     "output_type": "stream",
     "text": [
      "                                                      \r"
     ]
    },
    {
     "name": "stdout",
     "output_type": "stream",
     "text": [
      "At round 644 accuracy: 0.7204148986327205\n",
      "At round 644 training accuracy: 0.8427672955974843\n",
      "At round 644 training loss: 0.41448585969440843\n",
      "At round 644 Discrepancy: 1.8334697239942386\n",
      "gradient difference: 5.601450254728942\n"
     ]
    },
    {
     "name": "stderr",
     "output_type": "stream",
     "text": [
      "                                                      \r"
     ]
    },
    {
     "name": "stdout",
     "output_type": "stream",
     "text": [
      "At round 645 accuracy: 0.7185289957567186\n",
      "At round 645 training accuracy: 0.8404133180252583\n",
      "At round 645 training loss: 0.45251829241817854\n",
      "At round 645 Discrepancy: 1.8222119932234946\n",
      "gradient difference: 6.440154926729113\n"
     ]
    },
    {
     "name": "stderr",
     "output_type": "stream",
     "text": [
      "                                                      \r"
     ]
    },
    {
     "name": "stdout",
     "output_type": "stream",
     "text": [
      "At round 646 accuracy: 0.7238330975954739\n",
      "At round 646 training accuracy: 0.8574850299401198\n",
      "At round 646 training loss: 0.3548379997293392\n",
      "At round 646 Discrepancy: 1.9706658101072083\n",
      "gradient difference: 5.155860899300432\n"
     ]
    },
    {
     "name": "stderr",
     "output_type": "stream",
     "text": [
      "                                                      \r"
     ]
    },
    {
     "name": "stdout",
     "output_type": "stream",
     "text": [
      "At round 647 accuracy: 0.7306694955209807\n",
      "At round 647 training accuracy: 0.8147013782542113\n",
      "At round 647 training loss: 0.47814838668106163\n",
      "At round 647 Discrepancy: 1.958219721335214\n",
      "gradient difference: 4.918298773017861\n"
     ]
    },
    {
     "name": "stderr",
     "output_type": "stream",
     "text": [
      "                                                      \r"
     ]
    },
    {
     "name": "stdout",
     "output_type": "stream",
     "text": [
      "At round 648 accuracy: 0.7260726072607261\n",
      "At round 648 training accuracy: 0.8252184769038702\n",
      "At round 648 training loss: 0.4683792323953055\n",
      "At round 648 Discrepancy: 1.6299987112169045\n",
      "gradient difference: 5.548365697092751\n"
     ]
    },
    {
     "name": "stderr",
     "output_type": "stream",
     "text": [
      "                                                      \r"
     ]
    },
    {
     "name": "stdout",
     "output_type": "stream",
     "text": [
      "At round 649 accuracy: 0.7225365393682225\n",
      "At round 649 training accuracy: 0.834625322997416\n",
      "At round 649 training loss: 0.4391192741769075\n",
      "At round 649 Discrepancy: 1.932251020145321\n",
      "gradient difference: 6.040318658726124\n"
     ]
    },
    {
     "name": "stderr",
     "output_type": "stream",
     "text": [
      "                                                      \r"
     ]
    },
    {
     "name": "stdout",
     "output_type": "stream",
     "text": [
      "At round 650 accuracy: 0.7234794908062234\n",
      "At round 650 training accuracy: 0.8111587982832618\n",
      "At round 650 training loss: 0.5196935111799057\n",
      "At round 650 Discrepancy: 1.892266284576604\n",
      "gradient difference: 5.803771891437473\n"
     ]
    },
    {
     "name": "stderr",
     "output_type": "stream",
     "text": [
      "                                                      \r"
     ]
    },
    {
     "name": "stdout",
     "output_type": "stream",
     "text": [
      "At round 651 accuracy: 0.7194719471947195\n",
      "At round 651 training accuracy: 0.8340365682137834\n",
      "At round 651 training loss: 0.41975421266585755\n",
      "At round 651 Discrepancy: 1.7570389966304618\n",
      "gradient difference: 5.505429013539373\n"
     ]
    },
    {
     "name": "stderr",
     "output_type": "stream",
     "text": [
      "                                                      \r"
     ]
    },
    {
     "name": "stdout",
     "output_type": "stream",
     "text": [
      "At round 652 accuracy: 0.7214757190004715\n",
      "At round 652 training accuracy: 0.824516129032258\n",
      "At round 652 training loss: 0.4487970225134068\n",
      "At round 652 Discrepancy: 1.7476388708553892\n",
      "gradient difference: 5.503836495162031\n"
     ]
    },
    {
     "name": "stderr",
     "output_type": "stream",
     "text": [
      "                                                      \r"
     ]
    },
    {
     "name": "stdout",
     "output_type": "stream",
     "text": [
      "At round 653 accuracy: 0.7131070249882131\n",
      "At round 653 training accuracy: 0.7384615384615385\n",
      "At round 653 training loss: 0.6980057641481742\n",
      "At round 653 Discrepancy: 1.9343062743473696\n",
      "gradient difference: 5.749150414704188\n"
     ]
    },
    {
     "name": "stderr",
     "output_type": "stream",
     "text": [
      "                                                      \r"
     ]
    },
    {
     "name": "stdout",
     "output_type": "stream",
     "text": [
      "At round 654 accuracy: 0.713932107496464\n",
      "At round 654 training accuracy: 0.8254931714719271\n",
      "At round 654 training loss: 0.4655035630614696\n",
      "At round 654 Discrepancy: 1.821674404924875\n",
      "gradient difference: 5.667974994537557\n"
     ]
    },
    {
     "name": "stderr",
     "output_type": "stream",
     "text": [
      "                                                      \r"
     ]
    },
    {
     "name": "stdout",
     "output_type": "stream",
     "text": [
      "At round 655 accuracy: 0.7165252239509665\n",
      "At round 655 training accuracy: 0.8336755646817249\n",
      "At round 655 training loss: 0.45304191058972043\n",
      "At round 655 Discrepancy: 1.7764017552972238\n",
      "gradient difference: 5.426386720341922\n"
     ]
    },
    {
     "name": "stderr",
     "output_type": "stream",
     "text": [
      "                                                      \r"
     ]
    },
    {
     "name": "stdout",
     "output_type": "stream",
     "text": [
      "At round 656 accuracy: 0.7167609618104668\n",
      "At round 656 training accuracy: 0.8384512683578104\n",
      "At round 656 training loss: 0.41191027177191863\n",
      "At round 656 Discrepancy: 1.727582293389667\n",
      "gradient difference: 6.423025376192267\n"
     ]
    },
    {
     "name": "stderr",
     "output_type": "stream",
     "text": [
      "                                                      \r"
     ]
    },
    {
     "name": "stdout",
     "output_type": "stream",
     "text": [
      "At round 657 accuracy: 0.7244224422442245\n",
      "At round 657 training accuracy: 0.8539325842696629\n",
      "At round 657 training loss: 0.4040105803281048\n",
      "At round 657 Discrepancy: 2.118065955649711\n",
      "gradient difference: 6.0272130173681315\n"
     ]
    },
    {
     "name": "stderr",
     "output_type": "stream",
     "text": [
      "                                                      \r"
     ]
    },
    {
     "name": "stdout",
     "output_type": "stream",
     "text": [
      "At round 658 accuracy: 0.7217114568599717\n",
      "At round 658 training accuracy: 0.8631578947368421\n",
      "At round 658 training loss: 0.3453223036022848\n",
      "At round 658 Discrepancy: 1.8419908709133737\n",
      "gradient difference: 5.662096175943668\n"
     ]
    },
    {
     "name": "stderr",
     "output_type": "stream",
     "text": [
      "                                                      \r"
     ]
    },
    {
     "name": "stdout",
     "output_type": "stream",
     "text": [
      "At round 659 accuracy: 0.7237152286657237\n",
      "At round 659 training accuracy: 0.6631878557874763\n",
      "At round 659 training loss: 1.3942087032784491\n",
      "At round 659 Discrepancy: 1.6639053553219583\n",
      "gradient difference: 6.281609667476769\n"
     ]
    },
    {
     "name": "stderr",
     "output_type": "stream",
     "text": [
      "                                                      \r"
     ]
    },
    {
     "name": "stdout",
     "output_type": "stream",
     "text": [
      "At round 660 accuracy: 0.7073314474304573\n",
      "At round 660 training accuracy: 0.8099078341013825\n",
      "At round 660 training loss: 0.4907763470565119\n",
      "At round 660 Discrepancy: 2.0572048101033484\n",
      "gradient difference: 4.852322258770871\n"
     ]
    },
    {
     "name": "stderr",
     "output_type": "stream",
     "text": [
      "                                                      \r"
     ]
    },
    {
     "name": "stdout",
     "output_type": "stream",
     "text": [
      "At round 661 accuracy: 0.7213578500707214\n",
      "At round 661 training accuracy: 0.768377253814147\n",
      "At round 661 training loss: 0.5815893879131867\n",
      "At round 661 Discrepancy: 1.8566826947810173\n",
      "gradient difference: 5.183931517123103\n"
     ]
    },
    {
     "name": "stderr",
     "output_type": "stream",
     "text": [
      "                                                      \r"
     ]
    },
    {
     "name": "stdout",
     "output_type": "stream",
     "text": [
      "At round 662 accuracy: 0.7080386610089581\n",
      "At round 662 training accuracy: 0.7672090112640801\n",
      "At round 662 training loss: 0.6057968207906572\n",
      "At round 662 Discrepancy: 2.0391045105100174\n",
      "gradient difference: 5.46066197635667\n"
     ]
    },
    {
     "name": "stderr",
     "output_type": "stream",
     "text": [
      "                                                      \r"
     ]
    },
    {
     "name": "stdout",
     "output_type": "stream",
     "text": [
      "At round 663 accuracy: 0.7164073550212164\n",
      "At round 663 training accuracy: 0.8471074380165289\n",
      "At round 663 training loss: 0.4073960083368755\n",
      "At round 663 Discrepancy: 2.3793505537249695\n",
      "gradient difference: 5.036057285237793\n"
     ]
    },
    {
     "name": "stderr",
     "output_type": "stream",
     "text": [
      "                                                      \r"
     ]
    },
    {
     "name": "stdout",
     "output_type": "stream",
     "text": [
      "At round 664 accuracy: 0.7164073550212164\n",
      "At round 664 training accuracy: 0.8164642375168691\n",
      "At round 664 training loss: 0.5364567298195784\n",
      "At round 664 Discrepancy: 1.6400348738302017\n",
      "gradient difference: 5.587856590694892\n"
     ]
    },
    {
     "name": "stderr",
     "output_type": "stream",
     "text": [
      "                                                      \r"
     ]
    },
    {
     "name": "stdout",
     "output_type": "stream",
     "text": [
      "At round 665 accuracy: 0.719000471475719\n",
      "At round 665 training accuracy: 0.800251256281407\n",
      "At round 665 training loss: 0.5408325566531126\n",
      "At round 665 Discrepancy: 2.123976512969472\n",
      "gradient difference: 4.877232841594437\n"
     ]
    },
    {
     "name": "stderr",
     "output_type": "stream",
     "text": [
      "                                                      \r"
     ]
    },
    {
     "name": "stdout",
     "output_type": "stream",
     "text": [
      "At round 666 accuracy: 0.7053276756247053\n",
      "At round 666 training accuracy: 0.8111587982832618\n",
      "At round 666 training loss: 0.462082561750354\n",
      "At round 666 Discrepancy: 1.9487228141514283\n",
      "gradient difference: 4.844282471722117\n"
     ]
    },
    {
     "name": "stderr",
     "output_type": "stream",
     "text": [
      "                                                      \r"
     ]
    },
    {
     "name": "stdout",
     "output_type": "stream",
     "text": [
      "At round 667 accuracy: 0.7224186704384724\n",
      "At round 667 training accuracy: 0.8252569750367107\n",
      "At round 667 training loss: 0.49152312307138535\n",
      "At round 667 Discrepancy: 1.4525612848509815\n",
      "gradient difference: 5.34777102306186\n"
     ]
    },
    {
     "name": "stderr",
     "output_type": "stream",
     "text": [
      "                                                      \r"
     ]
    },
    {
     "name": "stdout",
     "output_type": "stream",
     "text": [
      "At round 668 accuracy: 0.7154644035832155\n",
      "At round 668 training accuracy: 0.8233861144945189\n",
      "At round 668 training loss: 0.45968662785881187\n",
      "At round 668 Discrepancy: 1.7641256716673699\n",
      "gradient difference: 5.2678910232777065\n"
     ]
    },
    {
     "name": "stderr",
     "output_type": "stream",
     "text": [
      "                                                      \r"
     ]
    },
    {
     "name": "stdout",
     "output_type": "stream",
     "text": [
      "At round 669 accuracy: 0.7168788307402169\n",
      "At round 669 training accuracy: 0.8217562254259502\n",
      "At round 669 training loss: 0.42880229382418084\n",
      "At round 669 Discrepancy: 2.2146732945042946\n",
      "gradient difference: 5.2735244099196885\n"
     ]
    },
    {
     "name": "stderr",
     "output_type": "stream",
     "text": [
      "                                                      \r"
     ]
    },
    {
     "name": "stdout",
     "output_type": "stream",
     "text": [
      "At round 670 accuracy: 0.708981612446959\n",
      "At round 670 training accuracy: 0.8209302325581396\n",
      "At round 670 training loss: 0.44563365422709045\n",
      "At round 670 Discrepancy: 2.031097844422176\n",
      "gradient difference: 5.393290337223319\n"
     ]
    },
    {
     "name": "stderr",
     "output_type": "stream",
     "text": [
      "                                                      \r"
     ]
    },
    {
     "name": "stdout",
     "output_type": "stream",
     "text": [
      "At round 671 accuracy: 0.7155822725129656\n",
      "At round 671 training accuracy: 0.8110344827586207\n",
      "At round 671 training loss: 0.4903056388065733\n",
      "At round 671 Discrepancy: 1.7922160245668028\n",
      "gradient difference: 6.007326069363101\n"
     ]
    },
    {
     "name": "stderr",
     "output_type": "stream",
     "text": [
      "                                                      \r"
     ]
    },
    {
     "name": "stdout",
     "output_type": "stream",
     "text": [
      "At round 672 accuracy: 0.7154644035832155\n",
      "At round 672 training accuracy: 0.9036144578313253\n",
      "At round 672 training loss: 0.28978845434023504\n",
      "At round 672 Discrepancy: 1.8542367516885894\n",
      "gradient difference: 5.598834939200729\n"
     ]
    },
    {
     "name": "stderr",
     "output_type": "stream",
     "text": [
      "                                                      \r"
     ]
    },
    {
     "name": "stdout",
     "output_type": "stream",
     "text": [
      "At round 673 accuracy: 0.7162894860914663\n",
      "At round 673 training accuracy: 0.8248009101251422\n",
      "At round 673 training loss: 0.4890974351672182\n",
      "At round 673 Discrepancy: 1.4025102760580896\n",
      "gradient difference: 6.381000378065563\n"
     ]
    },
    {
     "name": "stderr",
     "output_type": "stream",
     "text": [
      "                                                      \r"
     ]
    },
    {
     "name": "stdout",
     "output_type": "stream",
     "text": [
      "At round 674 accuracy: 0.7144035832154644\n",
      "At round 674 training accuracy: 0.8741721854304636\n",
      "At round 674 training loss: 0.3702229108686084\n",
      "At round 674 Discrepancy: 2.26713987075701\n",
      "gradient difference: 5.700422753886781\n"
     ]
    },
    {
     "name": "stderr",
     "output_type": "stream",
     "text": [
      "                                                      \r"
     ]
    },
    {
     "name": "stdout",
     "output_type": "stream",
     "text": [
      "At round 675 accuracy: 0.7192362093352193\n",
      "At round 675 training accuracy: 0.8116531165311653\n",
      "At round 675 training loss: 0.514368974702145\n",
      "At round 675 Discrepancy: 1.7854274415887534\n",
      "gradient difference: 5.595935526216635\n"
     ]
    },
    {
     "name": "stderr",
     "output_type": "stream",
     "text": [
      "                                                      \r"
     ]
    },
    {
     "name": "stdout",
     "output_type": "stream",
     "text": [
      "At round 676 accuracy: 0.7226544082979727\n",
      "At round 676 training accuracy: 0.8647214854111406\n",
      "At round 676 training loss: 0.379733668338873\n",
      "At round 676 Discrepancy: 1.7436702171583902\n",
      "gradient difference: 5.88306308755866\n"
     ]
    },
    {
     "name": "stderr",
     "output_type": "stream",
     "text": [
      "                                                      \r"
     ]
    },
    {
     "name": "stdout",
     "output_type": "stream",
     "text": [
      "At round 677 accuracy: 0.7228901461574729\n",
      "At round 677 training accuracy: 0.7705382436260623\n",
      "At round 677 training loss: 0.6759800047484403\n",
      "At round 677 Discrepancy: 1.5842820148575254\n",
      "gradient difference: 6.3922979081272455\n"
     ]
    },
    {
     "name": "stderr",
     "output_type": "stream",
     "text": [
      "                                                      \r"
     ]
    },
    {
     "name": "stdout",
     "output_type": "stream",
     "text": [
      "At round 678 accuracy: 0.7193540782649693\n",
      "At round 678 training accuracy: 0.7833333333333333\n",
      "At round 678 training loss: 0.5171466827747367\n",
      "At round 678 Discrepancy: 1.8156947515294746\n",
      "gradient difference: 3.6198272753996665\n"
     ]
    },
    {
     "name": "stderr",
     "output_type": "stream",
     "text": [
      "                                                      \r"
     ]
    },
    {
     "name": "stdout",
     "output_type": "stream",
     "text": [
      "At round 679 accuracy: 0.7226544082979727\n",
      "At round 679 training accuracy: 0.8564102564102564\n",
      "At round 679 training loss: 0.3565985857609074\n",
      "At round 679 Discrepancy: 1.7257682333706064\n",
      "gradient difference: 5.145123742162157\n"
     ]
    },
    {
     "name": "stderr",
     "output_type": "stream",
     "text": [
      "                                                      \r"
     ]
    },
    {
     "name": "stdout",
     "output_type": "stream",
     "text": [
      "At round 680 accuracy: 0.7246581801037246\n",
      "At round 680 training accuracy: 0.8489461358313818\n",
      "At round 680 training loss: 0.4139515037441995\n",
      "At round 680 Discrepancy: 1.3882085466294711\n",
      "gradient difference: 5.588078859659542\n"
     ]
    },
    {
     "name": "stderr",
     "output_type": "stream",
     "text": [
      "                                                      \r"
     ]
    },
    {
     "name": "stdout",
     "output_type": "stream",
     "text": [
      "At round 681 accuracy: 0.7201791607732202\n",
      "At round 681 training accuracy: 0.8530751708428246\n",
      "At round 681 training loss: 0.4036699984569245\n",
      "At round 681 Discrepancy: 1.9385310423139235\n",
      "gradient difference: 5.581013621883412\n"
     ]
    },
    {
     "name": "stderr",
     "output_type": "stream",
     "text": [
      "                                                      \r"
     ]
    },
    {
     "name": "stdout",
     "output_type": "stream",
     "text": [
      "At round 682 accuracy: 0.7188826025459689\n",
      "At round 682 training accuracy: 0.869942196531792\n",
      "At round 682 training loss: 0.35880895113927697\n",
      "At round 682 Discrepancy: 1.8962991229225103\n",
      "gradient difference: 5.852650144077882\n"
     ]
    },
    {
     "name": "stderr",
     "output_type": "stream",
     "text": [
      "                                                      \r"
     ]
    },
    {
     "name": "stdout",
     "output_type": "stream",
     "text": [
      "At round 683 accuracy: 0.7217114568599717\n",
      "At round 683 training accuracy: 0.8526570048309179\n",
      "At round 683 training loss: 0.3653127108183172\n",
      "At round 683 Discrepancy: 1.6077385570525393\n",
      "gradient difference: 6.040292875107814\n"
     ]
    },
    {
     "name": "stderr",
     "output_type": "stream",
     "text": [
      "                                                      \r"
     ]
    },
    {
     "name": "stdout",
     "output_type": "stream",
     "text": [
      "At round 684 accuracy: 0.7195898161244696\n",
      "At round 684 training accuracy: 0.7816377171215881\n",
      "At round 684 training loss: 0.6456819753493032\n",
      "At round 684 Discrepancy: 1.7481508554244787\n",
      "gradient difference: 6.587805986894276\n"
     ]
    },
    {
     "name": "stderr",
     "output_type": "stream",
     "text": [
      "                                                      \r"
     ]
    },
    {
     "name": "stdout",
     "output_type": "stream",
     "text": [
      "At round 685 accuracy: 0.7197076850542197\n",
      "At round 685 training accuracy: 0.845360824742268\n",
      "At round 685 training loss: 0.40399943704035174\n",
      "At round 685 Discrepancy: 1.8953440793785146\n",
      "gradient difference: 5.54827212396839\n"
     ]
    },
    {
     "name": "stderr",
     "output_type": "stream",
     "text": [
      "                                                      \r"
     ]
    },
    {
     "name": "stdout",
     "output_type": "stream",
     "text": [
      "At round 686 accuracy: 0.7185289957567186\n",
      "At round 686 training accuracy: 0.8273972602739726\n",
      "At round 686 training loss: 0.4652512513407289\n",
      "At round 686 Discrepancy: 1.83095823349447\n",
      "gradient difference: 6.071163734399517\n"
     ]
    },
    {
     "name": "stderr",
     "output_type": "stream",
     "text": [
      "                                                      \r"
     ]
    },
    {
     "name": "stdout",
     "output_type": "stream",
     "text": [
      "At round 687 accuracy: 0.7146393210749646\n",
      "At round 687 training accuracy: 0.8583333333333333\n",
      "At round 687 training loss: 0.4016351837930935\n",
      "At round 687 Discrepancy: 1.9506964612966897\n",
      "gradient difference: 5.739438817903763\n"
     ]
    },
    {
     "name": "stderr",
     "output_type": "stream",
     "text": [
      "                                                      \r"
     ]
    },
    {
     "name": "stdout",
     "output_type": "stream",
     "text": [
      "At round 688 accuracy: 0.7180575200377181\n",
      "At round 688 training accuracy: 0.821954484605087\n",
      "At round 688 training loss: 0.4729102406983664\n",
      "At round 688 Discrepancy: 1.8495283864845231\n",
      "gradient difference: 6.049508384302638\n"
     ]
    },
    {
     "name": "stderr",
     "output_type": "stream",
     "text": [
      "                                                      \r"
     ]
    },
    {
     "name": "stdout",
     "output_type": "stream",
     "text": [
      "At round 689 accuracy: 0.713932107496464\n",
      "At round 689 training accuracy: 0.8825995807127882\n",
      "At round 689 training loss: 0.30035797560458666\n",
      "At round 689 Discrepancy: 1.7414613235222969\n",
      "gradient difference: 6.230279369508495\n"
     ]
    },
    {
     "name": "stderr",
     "output_type": "stream",
     "text": [
      "                                                      \r"
     ]
    },
    {
     "name": "stdout",
     "output_type": "stream",
     "text": [
      "At round 690 accuracy: 0.7194719471947195\n",
      "At round 690 training accuracy: 0.772609819121447\n",
      "At round 690 training loss: 0.606413005896933\n",
      "At round 690 Discrepancy: 2.0604004521718453\n",
      "gradient difference: 6.32892628447756\n"
     ]
    },
    {
     "name": "stderr",
     "output_type": "stream",
     "text": [
      "                                                      \r"
     ]
    },
    {
     "name": "stdout",
     "output_type": "stream",
     "text": [
      "At round 691 accuracy: 0.7087458745874587\n",
      "At round 691 training accuracy: 0.8643892339544513\n",
      "At round 691 training loss: 0.33726795403028675\n",
      "At round 691 Discrepancy: 1.9957426313613649\n",
      "gradient difference: 5.424201983702314\n"
     ]
    },
    {
     "name": "stderr",
     "output_type": "stream",
     "text": [
      "                                                      \r"
     ]
    },
    {
     "name": "stdout",
     "output_type": "stream",
     "text": [
      "At round 692 accuracy: 0.7115747289014616\n",
      "At round 692 training accuracy: 0.7860892388451444\n",
      "At round 692 training loss: 0.5678609820874775\n",
      "At round 692 Discrepancy: 1.797595281299006\n",
      "gradient difference: 6.064912820315706\n"
     ]
    },
    {
     "name": "stderr",
     "output_type": "stream",
     "text": [
      "                                                      \r"
     ]
    },
    {
     "name": "stdout",
     "output_type": "stream",
     "text": [
      "At round 693 accuracy: 0.7148750589344649\n",
      "At round 693 training accuracy: 0.8141263940520446\n",
      "At round 693 training loss: 0.485191732294202\n",
      "At round 693 Discrepancy: 1.8628990802410024\n",
      "gradient difference: 5.395949364343232\n"
     ]
    },
    {
     "name": "stderr",
     "output_type": "stream",
     "text": [
      "                                                      \r"
     ]
    },
    {
     "name": "stdout",
     "output_type": "stream",
     "text": [
      "At round 694 accuracy: 0.7244224422442245\n",
      "At round 694 training accuracy: 0.7828507795100222\n",
      "At round 694 training loss: 0.5474628936540842\n",
      "At round 694 Discrepancy: 1.8970940372666878\n",
      "gradient difference: 5.581031956964324\n"
     ]
    },
    {
     "name": "stderr",
     "output_type": "stream",
     "text": [
      "                                                      \r"
     ]
    },
    {
     "name": "stdout",
     "output_type": "stream",
     "text": [
      "At round 695 accuracy: 0.7237152286657237\n",
      "At round 695 training accuracy: 0.847682119205298\n",
      "At round 695 training loss: 0.365926458542266\n",
      "At round 695 Discrepancy: 2.052726284451338\n",
      "gradient difference: 4.539460407895116\n"
     ]
    },
    {
     "name": "stderr",
     "output_type": "stream",
     "text": [
      "                                                      \r"
     ]
    },
    {
     "name": "stdout",
     "output_type": "stream",
     "text": [
      "At round 696 accuracy: 0.7232437529467233\n",
      "At round 696 training accuracy: 0.8575697211155379\n",
      "At round 696 training loss: 0.4016447340795006\n",
      "At round 696 Discrepancy: 1.5169430286736214\n",
      "gradient difference: 5.424221592734101\n"
     ]
    },
    {
     "name": "stderr",
     "output_type": "stream",
     "text": [
      "                                                      \r"
     ]
    },
    {
     "name": "stdout",
     "output_type": "stream",
     "text": [
      "At round 697 accuracy: 0.7198255539839699\n",
      "At round 697 training accuracy: 0.8339869281045752\n",
      "At round 697 training loss: 0.4566319732366775\n",
      "At round 697 Discrepancy: 1.9987987749674172\n",
      "gradient difference: 6.2780377703224\n"
     ]
    },
    {
     "name": "stderr",
     "output_type": "stream",
     "text": [
      "                                                      \r"
     ]
    },
    {
     "name": "stdout",
     "output_type": "stream",
     "text": [
      "At round 698 accuracy: 0.7119283356907119\n",
      "At round 698 training accuracy: 0.796923076923077\n",
      "At round 698 training loss: 0.4752414622215124\n",
      "At round 698 Discrepancy: 2.0067613375838387\n",
      "gradient difference: 5.517170467157671\n"
     ]
    },
    {
     "name": "stderr",
     "output_type": "stream",
     "text": [
      "                                                      \r"
     ]
    },
    {
     "name": "stdout",
     "output_type": "stream",
     "text": [
      "At round 699 accuracy: 0.7127534181989628\n",
      "At round 699 training accuracy: 0.8166666666666667\n",
      "At round 699 training loss: 0.42805886740485827\n",
      "At round 699 Discrepancy: 2.1671173027140562\n",
      "gradient difference: 4.409562272521985\n"
     ]
    },
    {
     "name": "stderr",
     "output_type": "stream",
     "text": [
      "                                                      \r"
     ]
    },
    {
     "name": "stdout",
     "output_type": "stream",
     "text": [
      "At round 700 accuracy: 0.7112211221122112\n",
      "At round 700 training accuracy: 0.8120617110799438\n",
      "At round 700 training loss: 0.4525139176758296\n",
      "At round 700 Discrepancy: 1.6371227119743317\n",
      "gradient difference: 5.758464616857886\n"
     ]
    },
    {
     "name": "stderr",
     "output_type": "stream",
     "text": [
      "                                                      \r"
     ]
    },
    {
     "name": "stdout",
     "output_type": "stream",
     "text": [
      "At round 701 accuracy: 0.716996699669967\n",
      "At round 701 training accuracy: 0.8669950738916257\n",
      "At round 701 training loss: 0.38872216019296\n",
      "At round 701 Discrepancy: 1.8069730264369632\n",
      "gradient difference: 5.507672111568333\n"
     ]
    },
    {
     "name": "stderr",
     "output_type": "stream",
     "text": [
      "                                                      \r"
     ]
    },
    {
     "name": "stdout",
     "output_type": "stream",
     "text": [
      "At round 702 accuracy: 0.7126355492692127\n",
      "At round 702 training accuracy: 0.6386701662292213\n",
      "At round 702 training loss: 0.9073059272949119\n",
      "At round 702 Discrepancy: 1.776746234981125\n",
      "gradient difference: 5.430129070395243\n"
     ]
    },
    {
     "name": "stderr",
     "output_type": "stream",
     "text": [
      "                                                      \r"
     ]
    },
    {
     "name": "stdout",
     "output_type": "stream",
     "text": [
      "At round 703 accuracy: 0.7002593116454503\n",
      "At round 703 training accuracy: 0.7897934386391251\n",
      "At round 703 training loss: 0.5395102679445425\n",
      "At round 703 Discrepancy: 1.8649637707185114\n",
      "gradient difference: 5.39728338507376\n"
     ]
    },
    {
     "name": "stderr",
     "output_type": "stream",
     "text": [
      "                                                      \r"
     ]
    },
    {
     "name": "stdout",
     "output_type": "stream",
     "text": [
      "At round 704 accuracy: 0.7098066949552098\n",
      "At round 704 training accuracy: 0.8079896907216495\n",
      "At round 704 training loss: 0.4685238789690217\n",
      "At round 704 Discrepancy: 1.9649183694977392\n",
      "gradient difference: 5.121697735106303\n"
     ]
    },
    {
     "name": "stderr",
     "output_type": "stream",
     "text": [
      "                                                      \r"
     ]
    },
    {
     "name": "stdout",
     "output_type": "stream",
     "text": [
      "At round 705 accuracy: 0.7090994813767091\n",
      "At round 705 training accuracy: 0.8257477243172952\n",
      "At round 705 training loss: 0.42574362354098744\n",
      "At round 705 Discrepancy: 1.7889230094409618\n",
      "gradient difference: 4.980793820619522\n"
     ]
    },
    {
     "name": "stderr",
     "output_type": "stream",
     "text": [
      "                                                      \r"
     ]
    },
    {
     "name": "stdout",
     "output_type": "stream",
     "text": [
      "At round 706 accuracy: 0.7154644035832155\n",
      "At round 706 training accuracy: 0.8646532438478747\n",
      "At round 706 training loss: 0.37261429301192733\n",
      "At round 706 Discrepancy: 1.7606413309725173\n",
      "gradient difference: 5.833475342821744\n"
     ]
    },
    {
     "name": "stderr",
     "output_type": "stream",
     "text": [
      "                                                      \r"
     ]
    },
    {
     "name": "stdout",
     "output_type": "stream",
     "text": [
      "At round 707 accuracy: 0.7151107967939652\n",
      "At round 707 training accuracy: 0.8139841688654353\n",
      "At round 707 training loss: 0.4890139817326553\n",
      "At round 707 Discrepancy: 2.531832722922218\n",
      "gradient difference: 5.470423790425465\n"
     ]
    },
    {
     "name": "stderr",
     "output_type": "stream",
     "text": [
      "                                                      \r"
     ]
    },
    {
     "name": "stdout",
     "output_type": "stream",
     "text": [
      "At round 708 accuracy: 0.712989156058463\n",
      "At round 708 training accuracy: 0.8498789346246973\n",
      "At round 708 training loss: 0.41261050482133976\n",
      "At round 708 Discrepancy: 1.9303214258531536\n",
      "gradient difference: 5.580195373225966\n"
     ]
    },
    {
     "name": "stderr",
     "output_type": "stream",
     "text": [
      "                                                      \r"
     ]
    },
    {
     "name": "stdout",
     "output_type": "stream",
     "text": [
      "At round 709 accuracy: 0.7119283356907119\n",
      "At round 709 training accuracy: 0.819918144611187\n",
      "At round 709 training loss: 0.46083101654605685\n",
      "At round 709 Discrepancy: 1.8540026690701965\n",
      "gradient difference: 5.599958648924438\n"
     ]
    },
    {
     "name": "stderr",
     "output_type": "stream",
     "text": [
      "                                                      \r"
     ]
    },
    {
     "name": "stdout",
     "output_type": "stream",
     "text": [
      "At round 710 accuracy: 0.714992927864215\n",
      "At round 710 training accuracy: 0.8319783197831978\n",
      "At round 710 training loss: 0.4146024249494076\n",
      "At round 710 Discrepancy: 1.9078144011282894\n",
      "gradient difference: 5.502170209537976\n"
     ]
    },
    {
     "name": "stderr",
     "output_type": "stream",
     "text": [
      "                                                      \r"
     ]
    },
    {
     "name": "stdout",
     "output_type": "stream",
     "text": [
      "At round 711 accuracy: 0.7148750589344649\n",
      "At round 711 training accuracy: 0.8322851153039832\n",
      "At round 711 training loss: 0.42231467594265687\n",
      "At round 711 Discrepancy: 1.720928827941163\n",
      "gradient difference: 5.667150225496993\n"
     ]
    },
    {
     "name": "stderr",
     "output_type": "stream",
     "text": [
      "                                                      \r"
     ]
    },
    {
     "name": "stdout",
     "output_type": "stream",
     "text": [
      "At round 712 accuracy: 0.7166430928807166\n",
      "At round 712 training accuracy: 0.8406285072951739\n",
      "At round 712 training loss: 0.43997155444322344\n",
      "At round 712 Discrepancy: 1.7700967165880157\n",
      "gradient difference: 5.92653718679712\n"
     ]
    },
    {
     "name": "stderr",
     "output_type": "stream",
     "text": [
      "                                                      \r"
     ]
    },
    {
     "name": "stdout",
     "output_type": "stream",
     "text": [
      "At round 713 accuracy: 0.7145214521452146\n",
      "At round 713 training accuracy: 0.8601997146932953\n",
      "At round 713 training loss: 0.37317518500900815\n",
      "At round 713 Discrepancy: 1.8911984303425668\n",
      "gradient difference: 5.413927002045341\n"
     ]
    },
    {
     "name": "stderr",
     "output_type": "stream",
     "text": [
      "                                                      \r"
     ]
    },
    {
     "name": "stdout",
     "output_type": "stream",
     "text": [
      "At round 714 accuracy: 0.7187647336162187\n",
      "At round 714 training accuracy: 0.8350282485875706\n",
      "At round 714 training loss: 0.4224621017773946\n",
      "At round 714 Discrepancy: 1.8530668589842676\n",
      "gradient difference: 5.998357917959357\n"
     ]
    },
    {
     "name": "stderr",
     "output_type": "stream",
     "text": [
      "                                                      \r"
     ]
    },
    {
     "name": "stdout",
     "output_type": "stream",
     "text": [
      "At round 715 accuracy: 0.7182932578972183\n",
      "At round 715 training accuracy: 0.8156028368794326\n",
      "At round 715 training loss: 0.5010898376451739\n",
      "At round 715 Discrepancy: 1.8819080537889448\n",
      "gradient difference: 5.600054967505918\n"
     ]
    },
    {
     "name": "stderr",
     "output_type": "stream",
     "text": [
      "                                                      \r"
     ]
    },
    {
     "name": "stdout",
     "output_type": "stream",
     "text": [
      "At round 716 accuracy: 0.7171145685997171\n",
      "At round 716 training accuracy: 0.8161209068010076\n",
      "At round 716 training loss: 0.42575604903250136\n",
      "At round 716 Discrepancy: 1.9956498937714104\n",
      "gradient difference: 5.292648054321082\n"
     ]
    },
    {
     "name": "stderr",
     "output_type": "stream",
     "text": [
      "                                                      \r"
     ]
    },
    {
     "name": "stdout",
     "output_type": "stream",
     "text": [
      "At round 717 accuracy: 0.717939651107968\n",
      "At round 717 training accuracy: 0.8382716049382716\n",
      "At round 717 training loss: 0.3879574955613525\n",
      "At round 717 Discrepancy: 1.8911464807267784\n",
      "gradient difference: 4.068892489121236\n"
     ]
    },
    {
     "name": "stderr",
     "output_type": "stream",
     "text": [
      "                                                      \r"
     ]
    },
    {
     "name": "stdout",
     "output_type": "stream",
     "text": [
      "At round 718 accuracy: 0.719000471475719\n",
      "At round 718 training accuracy: 0.8016928657799275\n",
      "At round 718 training loss: 0.5207531903577606\n",
      "At round 718 Discrepancy: 1.6400040723107245\n",
      "gradient difference: 5.510001821395095\n"
     ]
    },
    {
     "name": "stderr",
     "output_type": "stream",
     "text": [
      "                                                      \r"
     ]
    },
    {
     "name": "stdout",
     "output_type": "stream",
     "text": [
      "At round 719 accuracy: 0.7145214521452146\n",
      "At round 719 training accuracy: 0.8435072142064373\n",
      "At round 719 training loss: 0.35931277331316247\n",
      "At round 719 Discrepancy: 1.9478832547132676\n",
      "gradient difference: 5.3097557001698314\n"
     ]
    },
    {
     "name": "stderr",
     "output_type": "stream",
     "text": [
      "                                                      \r"
     ]
    },
    {
     "name": "stdout",
     "output_type": "stream",
     "text": [
      "At round 720 accuracy: 0.7119283356907119\n",
      "At round 720 training accuracy: 0.8314465408805032\n",
      "At round 720 training loss: 0.4998113108412275\n",
      "At round 720 Discrepancy: 1.656796389220305\n",
      "gradient difference: 7.1070177847448806\n"
     ]
    },
    {
     "name": "stderr",
     "output_type": "stream",
     "text": [
      "                                                      \r"
     ]
    },
    {
     "name": "stdout",
     "output_type": "stream",
     "text": [
      "At round 721 accuracy: 0.7131070249882131\n",
      "At round 721 training accuracy: 0.8493333333333334\n",
      "At round 721 training loss: 0.3760895899683237\n",
      "At round 721 Discrepancy: 2.0536617147026286\n",
      "gradient difference: 5.717537685150505\n"
     ]
    },
    {
     "name": "stderr",
     "output_type": "stream",
     "text": [
      "                                                      \r"
     ]
    },
    {
     "name": "stdout",
     "output_type": "stream",
     "text": [
      "At round 722 accuracy: 0.7141678453559641\n",
      "At round 722 training accuracy: 0.8270967741935484\n",
      "At round 722 training loss: 0.4482373028609061\n",
      "At round 722 Discrepancy: 2.081274019427009\n",
      "gradient difference: 5.173734916956145\n"
     ]
    },
    {
     "name": "stderr",
     "output_type": "stream",
     "text": [
      "                                                      \r"
     ]
    },
    {
     "name": "stdout",
     "output_type": "stream",
     "text": [
      "At round 723 accuracy: 0.7079207920792079\n",
      "At round 723 training accuracy: 0.854389721627409\n",
      "At round 723 training loss: 0.3447738073814094\n",
      "At round 723 Discrepancy: 2.0866228153910127\n",
      "gradient difference: 5.639194763213439\n"
     ]
    },
    {
     "name": "stderr",
     "output_type": "stream",
     "text": [
      "                                                      \r"
     ]
    },
    {
     "name": "stdout",
     "output_type": "stream",
     "text": [
      "At round 724 accuracy: 0.7158180103724658\n",
      "At round 724 training accuracy: 0.8745874587458746\n",
      "At round 724 training loss: 0.3413717595069404\n",
      "At round 724 Discrepancy: 1.6234562578760556\n",
      "gradient difference: 7.071994171325775\n"
     ]
    },
    {
     "name": "stderr",
     "output_type": "stream",
     "text": [
      "                                                      \r"
     ]
    },
    {
     "name": "stdout",
     "output_type": "stream",
     "text": [
      "At round 725 accuracy: 0.7165252239509665\n",
      "At round 725 training accuracy: 0.8196286472148541\n",
      "At round 725 training loss: 0.4998527988593838\n",
      "At round 725 Discrepancy: 1.6326854222365674\n",
      "gradient difference: 7.9143573250843735\n"
     ]
    },
    {
     "name": "stderr",
     "output_type": "stream",
     "text": [
      "                                                      \r"
     ]
    },
    {
     "name": "stdout",
     "output_type": "stream",
     "text": [
      "At round 726 accuracy: 0.7166430928807166\n",
      "At round 726 training accuracy: 0.8697972251867663\n",
      "At round 726 training loss: 0.35192877219842295\n",
      "At round 726 Discrepancy: 2.206076375731878\n",
      "gradient difference: 6.19235701155711\n"
     ]
    },
    {
     "name": "stderr",
     "output_type": "stream",
     "text": [
      "                                                      \r"
     ]
    },
    {
     "name": "stdout",
     "output_type": "stream",
     "text": [
      "At round 727 accuracy: 0.7193540782649693\n",
      "At round 727 training accuracy: 0.8351001177856302\n",
      "At round 727 training loss: 0.4433384450027462\n",
      "At round 727 Discrepancy: 1.7500012282699469\n",
      "gradient difference: 6.610325236859354\n"
     ]
    },
    {
     "name": "stderr",
     "output_type": "stream",
     "text": [
      "                                                      \r"
     ]
    },
    {
     "name": "stdout",
     "output_type": "stream",
     "text": [
      "At round 728 accuracy: 0.7134606317774634\n",
      "At round 728 training accuracy: 0.7901234567901234\n",
      "At round 728 training loss: 0.5995749865578096\n",
      "At round 728 Discrepancy: 1.8965975933462587\n",
      "gradient difference: 7.116250449994118\n"
     ]
    },
    {
     "name": "stderr",
     "output_type": "stream",
     "text": [
      "                                                      \r"
     ]
    },
    {
     "name": "stdout",
     "output_type": "stream",
     "text": [
      "At round 729 accuracy: 0.7192362093352193\n",
      "At round 729 training accuracy: 0.7744807121661721\n",
      "At round 729 training loss: 0.6469528363127737\n",
      "At round 729 Discrepancy: 1.9220935834365798\n",
      "gradient difference: 5.5621549538093955\n"
     ]
    },
    {
     "name": "stderr",
     "output_type": "stream",
     "text": [
      "                                                      \r"
     ]
    },
    {
     "name": "stdout",
     "output_type": "stream",
     "text": [
      "At round 730 accuracy: 0.7220650636492221\n",
      "At round 730 training accuracy: 0.8575418994413407\n",
      "At round 730 training loss: 0.37731043607329523\n",
      "At round 730 Discrepancy: 1.8307282704733994\n",
      "gradient difference: 4.629592157897751\n"
     ]
    },
    {
     "name": "stderr",
     "output_type": "stream",
     "text": [
      "                                                      \r"
     ]
    },
    {
     "name": "stdout",
     "output_type": "stream",
     "text": [
      "At round 731 accuracy: 0.719000471475719\n",
      "At round 731 training accuracy: 0.5893074119076549\n",
      "At round 731 training loss: 1.3673987861718182\n",
      "At round 731 Discrepancy: 1.3737522021205737\n",
      "gradient difference: 5.5410234914407\n"
     ]
    },
    {
     "name": "stderr",
     "output_type": "stream",
     "text": [
      "                                                      \r"
     ]
    },
    {
     "name": "stdout",
     "output_type": "stream",
     "text": [
      "At round 732 accuracy: 0.7080386610089581\n",
      "At round 732 training accuracy: 0.7976710334788938\n",
      "At round 732 training loss: 0.4820479142874089\n",
      "At round 732 Discrepancy: 2.1573956787525677\n",
      "gradient difference: 4.39482074224159\n"
     ]
    },
    {
     "name": "stderr",
     "output_type": "stream",
     "text": [
      "                                                      \r"
     ]
    },
    {
     "name": "stdout",
     "output_type": "stream",
     "text": [
      "At round 733 accuracy: 0.7174681753889675\n",
      "At round 733 training accuracy: 0.845360824742268\n",
      "At round 733 training loss: 0.3872449718338927\n",
      "At round 733 Discrepancy: 1.611481659453188\n",
      "gradient difference: 4.784260152147414\n"
     ]
    },
    {
     "name": "stderr",
     "output_type": "stream",
     "text": [
      "                                                      \r"
     ]
    },
    {
     "name": "stdout",
     "output_type": "stream",
     "text": [
      "At round 734 accuracy: 0.7212399811409712\n",
      "At round 734 training accuracy: 0.8329297820823245\n",
      "At round 734 training loss: 0.4269943384512285\n",
      "At round 734 Discrepancy: 1.5376810447545708\n",
      "gradient difference: 5.258010859842585\n"
     ]
    },
    {
     "name": "stderr",
     "output_type": "stream",
     "text": [
      "                                                      \r"
     ]
    },
    {
     "name": "stdout",
     "output_type": "stream",
     "text": [
      "At round 735 accuracy: 0.7103960396039604\n",
      "At round 735 training accuracy: 0.826025459688826\n",
      "At round 735 training loss: 0.4548960260446203\n",
      "At round 735 Discrepancy: 1.6245161277321885\n",
      "gradient difference: 6.454971144002276\n"
     ]
    },
    {
     "name": "stderr",
     "output_type": "stream",
     "text": [
      "                                                      \r"
     ]
    },
    {
     "name": "stdout",
     "output_type": "stream",
     "text": [
      "At round 736 accuracy: 0.7155822725129656\n",
      "At round 736 training accuracy: 0.8628158844765343\n",
      "At round 736 training loss: 0.36394788454129573\n",
      "At round 736 Discrepancy: 2.1262912667012213\n",
      "gradient difference: 5.191676303485436\n"
     ]
    },
    {
     "name": "stderr",
     "output_type": "stream",
     "text": [
      "                                                      \r"
     ]
    },
    {
     "name": "stdout",
     "output_type": "stream",
     "text": [
      "At round 737 accuracy: 0.7167609618104668\n",
      "At round 737 training accuracy: 0.8331226295828066\n",
      "At round 737 training loss: 0.4131713624850537\n",
      "At round 737 Discrepancy: 1.61295546727262\n",
      "gradient difference: 5.70641060073517\n"
     ]
    },
    {
     "name": "stderr",
     "output_type": "stream",
     "text": [
      "                                                      \r"
     ]
    },
    {
     "name": "stdout",
     "output_type": "stream",
     "text": [
      "At round 738 accuracy: 0.706977840641207\n",
      "At round 738 training accuracy: 0.8538860103626943\n",
      "At round 738 training loss: 0.41943789045712454\n",
      "At round 738 Discrepancy: 2.030321171659117\n",
      "gradient difference: 5.340195568196014\n"
     ]
    },
    {
     "name": "stderr",
     "output_type": "stream",
     "text": [
      "                                                      \r"
     ]
    },
    {
     "name": "stdout",
     "output_type": "stream",
     "text": [
      "At round 739 accuracy: 0.7221829325789721\n",
      "At round 739 training accuracy: 0.662839248434238\n",
      "At round 739 training loss: 0.7262191171825928\n",
      "At round 739 Discrepancy: 1.705925681453295\n",
      "gradient difference: 5.736719869836309\n"
     ]
    },
    {
     "name": "stderr",
     "output_type": "stream",
     "text": [
      "                                                      \r"
     ]
    },
    {
     "name": "stdout",
     "output_type": "stream",
     "text": [
      "At round 740 accuracy: 0.7120462046204621\n",
      "At round 740 training accuracy: 0.8346666666666667\n",
      "At round 740 training loss: 0.4299920208454132\n",
      "At round 740 Discrepancy: 1.988298240876346\n",
      "gradient difference: 5.501013768623214\n"
     ]
    },
    {
     "name": "stderr",
     "output_type": "stream",
     "text": [
      "                                                      \r"
     ]
    },
    {
     "name": "stdout",
     "output_type": "stream",
     "text": [
      "At round 741 accuracy: 0.7224186704384724\n",
      "At round 741 training accuracy: 0.8397863818424566\n",
      "At round 741 training loss: 0.4407378243590301\n",
      "At round 741 Discrepancy: 2.0313536996756363\n",
      "gradient difference: 4.97228272356402\n"
     ]
    },
    {
     "name": "stderr",
     "output_type": "stream",
     "text": [
      "                                                      \r"
     ]
    },
    {
     "name": "stdout",
     "output_type": "stream",
     "text": [
      "At round 742 accuracy: 0.7141678453559641\n",
      "At round 742 training accuracy: 0.8439306358381503\n",
      "At round 742 training loss: 0.40940410105479247\n",
      "At round 742 Discrepancy: 1.5849025050677155\n",
      "gradient difference: 5.471532890867213\n"
     ]
    },
    {
     "name": "stderr",
     "output_type": "stream",
     "text": [
      "                                                      \r"
     ]
    },
    {
     "name": "stdout",
     "output_type": "stream",
     "text": [
      "At round 743 accuracy: 0.7193540782649693\n",
      "At round 743 training accuracy: 0.8517316017316018\n",
      "At round 743 training loss: 0.35915820937587584\n",
      "At round 743 Discrepancy: 1.703930837226094\n",
      "gradient difference: 5.137680349133282\n"
     ]
    },
    {
     "name": "stderr",
     "output_type": "stream",
     "text": [
      "                                                      \r"
     ]
    },
    {
     "name": "stdout",
     "output_type": "stream",
     "text": [
      "At round 744 accuracy: 0.7243045733144743\n",
      "At round 744 training accuracy: 0.8272727272727273\n",
      "At round 744 training loss: 0.4325455633979855\n",
      "At round 744 Discrepancy: 1.7912992403527608\n",
      "gradient difference: 5.887259220681171\n"
     ]
    },
    {
     "name": "stderr",
     "output_type": "stream",
     "text": [
      "                                                      \r"
     ]
    },
    {
     "name": "stdout",
     "output_type": "stream",
     "text": [
      "At round 745 accuracy: 0.7221829325789721\n",
      "At round 745 training accuracy: 0.7658823529411765\n",
      "At round 745 training loss: 0.6563008970723433\n",
      "At round 745 Discrepancy: 2.179622974643734\n",
      "gradient difference: 6.417493906939099\n"
     ]
    },
    {
     "name": "stderr",
     "output_type": "stream",
     "text": [
      "                                                      \r"
     ]
    },
    {
     "name": "stdout",
     "output_type": "stream",
     "text": [
      "At round 746 accuracy: 0.7231258840169731\n",
      "At round 746 training accuracy: 0.8482060717571297\n",
      "At round 746 training loss: 0.3632635593948939\n",
      "At round 746 Discrepancy: 2.2846068832047397\n",
      "gradient difference: 5.201997387431861\n"
     ]
    },
    {
     "name": "stderr",
     "output_type": "stream",
     "text": [
      "                                                      \r"
     ]
    },
    {
     "name": "stdout",
     "output_type": "stream",
     "text": [
      "At round 747 accuracy: 0.7151107967939652\n",
      "At round 747 training accuracy: 0.8433889602053916\n",
      "At round 747 training loss: 0.4042872718998036\n",
      "At round 747 Discrepancy: 1.900002478495821\n",
      "gradient difference: 5.8970044660056455\n"
     ]
    },
    {
     "name": "stderr",
     "output_type": "stream",
     "text": [
      "                                                      \r"
     ]
    },
    {
     "name": "stdout",
     "output_type": "stream",
     "text": [
      "At round 748 accuracy: 0.723950966525224\n",
      "At round 748 training accuracy: 0.8803317535545023\n",
      "At round 748 training loss: 0.32827252315984096\n",
      "At round 748 Discrepancy: 2.2312063423061517\n",
      "gradient difference: 6.602172462141006\n"
     ]
    },
    {
     "name": "stderr",
     "output_type": "stream",
     "text": [
      "                                                      \r"
     ]
    },
    {
     "name": "stdout",
     "output_type": "stream",
     "text": [
      "At round 749 accuracy: 0.7231258840169731\n",
      "At round 749 training accuracy: 0.8261421319796954\n",
      "At round 749 training loss: 0.42607284671991\n",
      "At round 749 Discrepancy: 1.7726164880688722\n",
      "gradient difference: 6.411262333161415\n"
     ]
    },
    {
     "name": "stderr",
     "output_type": "stream",
     "text": [
      "                                                      \r"
     ]
    },
    {
     "name": "stdout",
     "output_type": "stream",
     "text": [
      "At round 750 accuracy: 0.7234794908062234\n",
      "At round 750 training accuracy: 0.8491978609625669\n",
      "At round 750 training loss: 0.40638729863785167\n",
      "At round 750 Discrepancy: 1.9298059558928025\n",
      "gradient difference: 5.60108713695553\n"
     ]
    },
    {
     "name": "stderr",
     "output_type": "stream",
     "text": [
      "                                                      \r"
     ]
    },
    {
     "name": "stdout",
     "output_type": "stream",
     "text": [
      "At round 751 accuracy: 0.7217114568599717\n",
      "At round 751 training accuracy: 0.8230593607305936\n",
      "At round 751 training loss: 0.5132571858051977\n",
      "At round 751 Discrepancy: 1.8816258331361488\n",
      "gradient difference: 6.747652823172339\n"
     ]
    },
    {
     "name": "stderr",
     "output_type": "stream",
     "text": [
      "                                                      \r"
     ]
    },
    {
     "name": "stdout",
     "output_type": "stream",
     "text": [
      "At round 752 accuracy: 0.721947194719472\n",
      "At round 752 training accuracy: 0.8240343347639485\n",
      "At round 752 training loss: 0.4730526195873689\n",
      "At round 752 Discrepancy: 2.062321455447755\n",
      "gradient difference: 5.616552758775848\n"
     ]
    },
    {
     "name": "stderr",
     "output_type": "stream",
     "text": [
      "                                                      \r"
     ]
    },
    {
     "name": "stdout",
     "output_type": "stream",
     "text": [
      "At round 753 accuracy: 0.7201791607732202\n",
      "At round 753 training accuracy: 0.8994708994708994\n",
      "At round 753 training loss: 0.2400801602317385\n",
      "At round 753 Discrepancy: 1.7496101027084563\n",
      "gradient difference: 5.634549008685325\n"
     ]
    },
    {
     "name": "stderr",
     "output_type": "stream",
     "text": [
      "                                                      \r"
     ]
    },
    {
     "name": "stdout",
     "output_type": "stream",
     "text": [
      "At round 754 accuracy: 0.7211221122112211\n",
      "At round 754 training accuracy: 0.818276220145379\n",
      "At round 754 training loss: 0.5279806905183342\n",
      "At round 754 Discrepancy: 1.61370178166993\n",
      "gradient difference: 7.045069720676126\n"
     ]
    },
    {
     "name": "stderr",
     "output_type": "stream",
     "text": [
      "                                                      \r"
     ]
    },
    {
     "name": "stdout",
     "output_type": "stream",
     "text": [
      "At round 755 accuracy: 0.7198255539839699\n",
      "At round 755 training accuracy: 0.7933491686460807\n",
      "At round 755 training loss: 0.5930775293545032\n",
      "At round 755 Discrepancy: 1.8770743256680955\n",
      "gradient difference: 6.544632893508746\n"
     ]
    },
    {
     "name": "stderr",
     "output_type": "stream",
     "text": [
      "                                                      \r"
     ]
    },
    {
     "name": "stdout",
     "output_type": "stream",
     "text": [
      "At round 756 accuracy: 0.7122819424799622\n",
      "At round 756 training accuracy: 0.8171683389074693\n",
      "At round 756 training loss: 0.43918035273235645\n",
      "At round 756 Discrepancy: 2.256414374516765\n",
      "gradient difference: 4.469909542504625\n"
     ]
    },
    {
     "name": "stderr",
     "output_type": "stream",
     "text": [
      "                                                      \r"
     ]
    },
    {
     "name": "stdout",
     "output_type": "stream",
     "text": [
      "At round 757 accuracy: 0.7201791607732202\n",
      "At round 757 training accuracy: 0.8531746031746031\n",
      "At round 757 training loss: 0.36713042045036753\n",
      "At round 757 Discrepancy: 1.9380221288017652\n",
      "gradient difference: 5.657683902477735\n"
     ]
    },
    {
     "name": "stderr",
     "output_type": "stream",
     "text": [
      "                                                      \r"
     ]
    },
    {
     "name": "stdout",
     "output_type": "stream",
     "text": [
      "At round 758 accuracy: 0.7206506364922206\n",
      "At round 758 training accuracy: 0.7700865265760197\n",
      "At round 758 training loss: 0.6297483979661032\n",
      "At round 758 Discrepancy: 1.6007702123441299\n",
      "gradient difference: 6.377039370857398\n"
     ]
    },
    {
     "name": "stderr",
     "output_type": "stream",
     "text": [
      "                                                      \r"
     ]
    },
    {
     "name": "stdout",
     "output_type": "stream",
     "text": [
      "At round 759 accuracy: 0.7195898161244696\n",
      "At round 759 training accuracy: 0.8179581795817958\n",
      "At round 759 training loss: 0.4947576657175871\n",
      "At round 759 Discrepancy: 1.816104805039148\n",
      "gradient difference: 5.358146212097847\n"
     ]
    },
    {
     "name": "stderr",
     "output_type": "stream",
     "text": [
      "                                                      \r"
     ]
    },
    {
     "name": "stdout",
     "output_type": "stream",
     "text": [
      "At round 760 accuracy: 0.7093352192362093\n",
      "At round 760 training accuracy: 0.852752880921895\n",
      "At round 760 training loss: 0.3465015740156479\n",
      "At round 760 Discrepancy: 1.9292159296702036\n",
      "gradient difference: 5.157337066637958\n"
     ]
    },
    {
     "name": "stderr",
     "output_type": "stream",
     "text": [
      "                                                      \r"
     ]
    },
    {
     "name": "stdout",
     "output_type": "stream",
     "text": [
      "At round 761 accuracy: 0.7098066949552098\n",
      "At round 761 training accuracy: 0.875886524822695\n",
      "At round 761 training loss: 0.3182149035922179\n",
      "At round 761 Discrepancy: 1.7119271427661609\n",
      "gradient difference: 6.178439833910964\n"
     ]
    },
    {
     "name": "stderr",
     "output_type": "stream",
     "text": [
      "                                                      \r"
     ]
    },
    {
     "name": "stdout",
     "output_type": "stream",
     "text": [
      "At round 762 accuracy: 0.7101603017444602\n",
      "At round 762 training accuracy: 0.8107036669970268\n",
      "At round 762 training loss: 0.46429467706306954\n",
      "At round 762 Discrepancy: 2.1391578403249505\n",
      "gradient difference: 6.86930416715756\n"
     ]
    },
    {
     "name": "stderr",
     "output_type": "stream",
     "text": [
      "                                                      \r"
     ]
    },
    {
     "name": "stdout",
     "output_type": "stream",
     "text": [
      "At round 763 accuracy: 0.7188826025459689\n",
      "At round 763 training accuracy: 0.8388278388278388\n",
      "At round 763 training loss: 0.45049643125362304\n",
      "At round 763 Discrepancy: 1.874034759844029\n",
      "gradient difference: 6.362377969706437\n"
     ]
    },
    {
     "name": "stderr",
     "output_type": "stream",
     "text": [
      "                                                      \r"
     ]
    },
    {
     "name": "stdout",
     "output_type": "stream",
     "text": [
      "At round 764 accuracy: 0.7174681753889675\n",
      "At round 764 training accuracy: 0.8274509803921568\n",
      "At round 764 training loss: 0.49238370166105383\n",
      "At round 764 Discrepancy: 1.6553453494213244\n",
      "gradient difference: 6.560182885816054\n"
     ]
    },
    {
     "name": "stderr",
     "output_type": "stream",
     "text": [
      "                                                      \r"
     ]
    },
    {
     "name": "stdout",
     "output_type": "stream",
     "text": [
      "At round 765 accuracy: 0.7167609618104668\n",
      "At round 765 training accuracy: 0.8618705035971223\n",
      "At round 765 training loss: 0.4099168507685456\n",
      "At round 765 Discrepancy: 2.1277623359425846\n",
      "gradient difference: 6.171282700938122\n"
     ]
    },
    {
     "name": "stderr",
     "output_type": "stream",
     "text": [
      "                                                      \r"
     ]
    },
    {
     "name": "stdout",
     "output_type": "stream",
     "text": [
      "At round 766 accuracy: 0.7158180103724658\n",
      "At round 766 training accuracy: 0.8618988902589396\n",
      "At round 766 training loss: 0.37209177891805345\n",
      "At round 766 Discrepancy: 1.7927684531295836\n",
      "gradient difference: 6.004550949893072\n"
     ]
    },
    {
     "name": "stderr",
     "output_type": "stream",
     "text": [
      "                                                      \r"
     ]
    },
    {
     "name": "stdout",
     "output_type": "stream",
     "text": [
      "At round 767 accuracy: 0.7213578500707214\n",
      "At round 767 training accuracy: 0.8627906976744186\n",
      "At round 767 training loss: 0.39535609164761193\n",
      "At round 767 Discrepancy: 1.572808865342296\n",
      "gradient difference: 6.213599740357667\n"
     ]
    },
    {
     "name": "stderr",
     "output_type": "stream",
     "text": [
      "                                                      \r"
     ]
    },
    {
     "name": "stdout",
     "output_type": "stream",
     "text": [
      "At round 768 accuracy: 0.7154644035832155\n",
      "At round 768 training accuracy: 0.8564650059311981\n",
      "At round 768 training loss: 0.35852951501554275\n",
      "At round 768 Discrepancy: 2.129114438002119\n",
      "gradient difference: 5.697223853774551\n"
     ]
    },
    {
     "name": "stderr",
     "output_type": "stream",
     "text": [
      "                                                      \r"
     ]
    },
    {
     "name": "stdout",
     "output_type": "stream",
     "text": [
      "At round 769 accuracy: 0.7158180103724658\n",
      "At round 769 training accuracy: 0.8320802005012531\n",
      "At round 769 training loss: 0.3895522932472982\n",
      "At round 769 Discrepancy: 1.7054043521175744\n",
      "gradient difference: 5.528544174129517\n"
     ]
    },
    {
     "name": "stderr",
     "output_type": "stream",
     "text": [
      "                                                      \r"
     ]
    },
    {
     "name": "stdout",
     "output_type": "stream",
     "text": [
      "At round 770 accuracy: 0.7186468646864687\n",
      "At round 770 training accuracy: 0.6230916030534351\n",
      "At round 770 training loss: 1.1021561466550338\n",
      "At round 770 Discrepancy: 1.790822196838033\n",
      "gradient difference: 5.730431854210911\n"
     ]
    },
    {
     "name": "stderr",
     "output_type": "stream",
     "text": [
      "                                                      \r"
     ]
    },
    {
     "name": "stdout",
     "output_type": "stream",
     "text": [
      "At round 771 accuracy: 0.6979019330504479\n",
      "At round 771 training accuracy: 0.7921419518377694\n",
      "At round 771 training loss: 0.47005127158832793\n",
      "At round 771 Discrepancy: 2.1148461017820446\n",
      "gradient difference: 4.697863118154468\n"
     ]
    },
    {
     "name": "stderr",
     "output_type": "stream",
     "text": [
      "                                                      \r"
     ]
    },
    {
     "name": "stdout",
     "output_type": "stream",
     "text": [
      "At round 772 accuracy: 0.7162894860914663\n",
      "At round 772 training accuracy: 0.8353909465020576\n",
      "At round 772 training loss: 0.3991671627073131\n",
      "At round 772 Discrepancy: 1.8424236073073736\n",
      "gradient difference: 4.667582988402916\n"
     ]
    },
    {
     "name": "stderr",
     "output_type": "stream",
     "text": [
      "                                                      \r"
     ]
    },
    {
     "name": "stdout",
     "output_type": "stream",
     "text": [
      "At round 773 accuracy: 0.7206506364922206\n",
      "At round 773 training accuracy: 0.8318713450292398\n",
      "At round 773 training loss: 0.4278709407002605\n",
      "At round 773 Discrepancy: 1.704012468339273\n",
      "gradient difference: 4.703728417342781\n"
     ]
    },
    {
     "name": "stderr",
     "output_type": "stream",
     "text": [
      "                                                      \r"
     ]
    },
    {
     "name": "stdout",
     "output_type": "stream",
     "text": [
      "At round 774 accuracy: 0.7264262140499764\n",
      "At round 774 training accuracy: 0.8162291169451074\n",
      "At round 774 training loss: 0.4714283352289327\n",
      "At round 774 Discrepancy: 1.6305911005707763\n",
      "gradient difference: 4.9300962144609155\n"
     ]
    },
    {
     "name": "stderr",
     "output_type": "stream",
     "text": [
      "                                                      \r"
     ]
    },
    {
     "name": "stdout",
     "output_type": "stream",
     "text": [
      "At round 775 accuracy: 0.7244224422442245\n",
      "At round 775 training accuracy: 0.845223700120919\n",
      "At round 775 training loss: 0.40837129749618967\n",
      "At round 775 Discrepancy: 1.7538646039585981\n",
      "gradient difference: 5.055974040235861\n"
     ]
    },
    {
     "name": "stderr",
     "output_type": "stream",
     "text": [
      "                                                      \r"
     ]
    },
    {
     "name": "stdout",
     "output_type": "stream",
     "text": [
      "At round 776 accuracy: 0.7186468646864687\n",
      "At round 776 training accuracy: 0.8288075560802833\n",
      "At round 776 training loss: 0.39919221730201276\n",
      "At round 776 Discrepancy: 1.71023013615294\n",
      "gradient difference: 5.455877477980178\n"
     ]
    },
    {
     "name": "stderr",
     "output_type": "stream",
     "text": [
      "                                                      \r"
     ]
    },
    {
     "name": "stdout",
     "output_type": "stream",
     "text": [
      "At round 777 accuracy: 0.7154644035832155\n",
      "At round 777 training accuracy: 0.8609625668449198\n",
      "At round 777 training loss: 0.3510165601026237\n",
      "At round 777 Discrepancy: 1.8990402530781616\n",
      "gradient difference: 5.929194603414062\n"
     ]
    },
    {
     "name": "stderr",
     "output_type": "stream",
     "text": [
      "                                                      \r"
     ]
    },
    {
     "name": "stdout",
     "output_type": "stream",
     "text": [
      "At round 778 accuracy: 0.7178217821782178\n",
      "At round 778 training accuracy: 0.8345588235294118\n",
      "At round 778 training loss: 0.44989376715738233\n",
      "At round 778 Discrepancy: 1.9925619140646185\n",
      "gradient difference: 6.240525671227617\n"
     ]
    },
    {
     "name": "stderr",
     "output_type": "stream",
     "text": [
      "                                                      \r"
     ]
    },
    {
     "name": "stdout",
     "output_type": "stream",
     "text": [
      "At round 779 accuracy: 0.7193540782649693\n",
      "At round 779 training accuracy: 0.7945041816009558\n",
      "At round 779 training loss: 0.5124863054038091\n",
      "At round 779 Discrepancy: 2.012060110105526\n",
      "gradient difference: 5.550680333745029\n"
     ]
    },
    {
     "name": "stderr",
     "output_type": "stream",
     "text": [
      "                                                      \r"
     ]
    },
    {
     "name": "stdout",
     "output_type": "stream",
     "text": [
      "At round 780 accuracy: 0.7205327675624705\n",
      "At round 780 training accuracy: 0.9029850746268657\n",
      "At round 780 training loss: 0.26684990009654863\n",
      "At round 780 Discrepancy: 1.7693547323908743\n",
      "gradient difference: 5.399629038765816\n"
     ]
    },
    {
     "name": "stderr",
     "output_type": "stream",
     "text": [
      "                                                      \r"
     ]
    },
    {
     "name": "stdout",
     "output_type": "stream",
     "text": [
      "At round 781 accuracy: 0.7245403111739745\n",
      "At round 781 training accuracy: 0.8313253012048193\n",
      "At round 781 training loss: 0.441179377952086\n",
      "At round 781 Discrepancy: 1.5082126837364687\n",
      "gradient difference: 6.325626841716982\n"
     ]
    },
    {
     "name": "stderr",
     "output_type": "stream",
     "text": [
      "                                                      \r"
     ]
    },
    {
     "name": "stdout",
     "output_type": "stream",
     "text": [
      "At round 782 accuracy: 0.7173503064592174\n",
      "At round 782 training accuracy: 0.8100263852242744\n",
      "At round 782 training loss: 0.47882065119954087\n",
      "At round 782 Discrepancy: 2.0067735443343984\n",
      "gradient difference: 4.985786141757296\n"
     ]
    },
    {
     "name": "stderr",
     "output_type": "stream",
     "text": [
      "                                                      \r"
     ]
    },
    {
     "name": "stdout",
     "output_type": "stream",
     "text": [
      "At round 783 accuracy: 0.7205327675624705\n",
      "At round 783 training accuracy: 0.8718487394957983\n",
      "At round 783 training loss: 0.3327306814984802\n",
      "At round 783 Discrepancy: 1.6119516682301804\n",
      "gradient difference: 5.899570003670295\n"
     ]
    },
    {
     "name": "stderr",
     "output_type": "stream",
     "text": [
      "                                                      \r"
     ]
    },
    {
     "name": "stdout",
     "output_type": "stream",
     "text": [
      "At round 784 accuracy: 0.7191183404054691\n",
      "At round 784 training accuracy: 0.8248914616497829\n",
      "At round 784 training loss: 0.47222295604031617\n",
      "At round 784 Discrepancy: 1.6769279260599874\n",
      "gradient difference: 6.737832464210123\n"
     ]
    },
    {
     "name": "stderr",
     "output_type": "stream",
     "text": [
      "                                                      \r"
     ]
    },
    {
     "name": "stdout",
     "output_type": "stream",
     "text": [
      "At round 785 accuracy: 0.7147571900047147\n",
      "At round 785 training accuracy: 0.8497297297297297\n",
      "At round 785 training loss: 0.39683445961894215\n",
      "At round 785 Discrepancy: 1.8277488195783538\n",
      "gradient difference: 5.740365678971736\n"
     ]
    },
    {
     "name": "stderr",
     "output_type": "stream",
     "text": [
      "                                                      \r"
     ]
    },
    {
     "name": "stdout",
     "output_type": "stream",
     "text": [
      "At round 786 accuracy: 0.714992927864215\n",
      "At round 786 training accuracy: 0.8641552511415526\n",
      "At round 786 training loss: 0.3752843602709302\n",
      "At round 786 Discrepancy: 1.926127414755226\n",
      "gradient difference: 5.785143410307252\n"
     ]
    },
    {
     "name": "stderr",
     "output_type": "stream",
     "text": [
      "                                                      \r"
     ]
    },
    {
     "name": "stdout",
     "output_type": "stream",
     "text": [
      "At round 787 accuracy: 0.7178217821782178\n",
      "At round 787 training accuracy: 0.8707182320441988\n",
      "At round 787 training loss: 0.3301547340431266\n",
      "At round 787 Discrepancy: 1.658418768556081\n",
      "gradient difference: 5.997117810657123\n"
     ]
    },
    {
     "name": "stderr",
     "output_type": "stream",
     "text": [
      "                                                      \r"
     ]
    },
    {
     "name": "stdout",
     "output_type": "stream",
     "text": [
      "At round 788 accuracy: 0.7165252239509665\n",
      "At round 788 training accuracy: 0.8700410396716827\n",
      "At round 788 training loss: 0.34119123049451755\n",
      "At round 788 Discrepancy: 1.8014704420138732\n",
      "gradient difference: 6.166422751244712\n"
     ]
    },
    {
     "name": "stderr",
     "output_type": "stream",
     "text": [
      "                                                      \r"
     ]
    },
    {
     "name": "stdout",
     "output_type": "stream",
     "text": [
      "At round 789 accuracy: 0.7106317774634606\n",
      "At round 789 training accuracy: 0.8859060402684564\n",
      "At round 789 training loss: 0.29631833012072034\n",
      "At round 789 Discrepancy: 1.8967351514206545\n",
      "gradient difference: 6.137860397058978\n"
     ]
    },
    {
     "name": "stderr",
     "output_type": "stream",
     "text": [
      "                                                      \r"
     ]
    },
    {
     "name": "stdout",
     "output_type": "stream",
     "text": [
      "At round 790 accuracy: 0.7134606317774634\n",
      "At round 790 training accuracy: 0.824009324009324\n",
      "At round 790 training loss: 0.4863095545928517\n",
      "At round 790 Discrepancy: 1.5804728901261202\n",
      "gradient difference: 6.411821628549105\n"
     ]
    },
    {
     "name": "stderr",
     "output_type": "stream",
     "text": [
      "                                                      \r"
     ]
    },
    {
     "name": "stdout",
     "output_type": "stream",
     "text": [
      "At round 791 accuracy: 0.7206506364922206\n",
      "At round 791 training accuracy: 0.8704253214638972\n",
      "At round 791 training loss: 0.38200301269454373\n",
      "At round 791 Discrepancy: 1.9009916507016325\n",
      "gradient difference: 6.5682063926714\n"
     ]
    },
    {
     "name": "stderr",
     "output_type": "stream",
     "text": [
      "                                                      \r"
     ]
    },
    {
     "name": "stdout",
     "output_type": "stream",
     "text": [
      "At round 792 accuracy: 0.7193540782649693\n",
      "At round 792 training accuracy: 0.7851037851037851\n",
      "At round 792 training loss: 0.6414631461413061\n",
      "At round 792 Discrepancy: 2.594547297948838\n",
      "gradient difference: 6.5744064930836785\n"
     ]
    },
    {
     "name": "stderr",
     "output_type": "stream",
     "text": [
      "                                                      \r"
     ]
    },
    {
     "name": "stdout",
     "output_type": "stream",
     "text": [
      "At round 793 accuracy: 0.717939651107968\n",
      "At round 793 training accuracy: 0.8369330453563715\n",
      "At round 793 training loss: 0.3896334253082587\n",
      "At round 793 Discrepancy: 2.0042413510234516\n",
      "gradient difference: 5.417589614741644\n"
     ]
    },
    {
     "name": "stderr",
     "output_type": "stream",
     "text": [
      "                                                      \r"
     ]
    },
    {
     "name": "stdout",
     "output_type": "stream",
     "text": [
      "At round 794 accuracy: 0.7252475247524752\n",
      "At round 794 training accuracy: 0.8751334044823906\n",
      "At round 794 training loss: 0.3131810592330381\n",
      "At round 794 Discrepancy: 1.598034917406924\n",
      "gradient difference: 6.525830768826696\n"
     ]
    },
    {
     "name": "stderr",
     "output_type": "stream",
     "text": [
      "                                                      \r"
     ]
    },
    {
     "name": "stdout",
     "output_type": "stream",
     "text": [
      "At round 795 accuracy: 0.7243045733144743\n",
      "At round 795 training accuracy: 0.6240234375\n",
      "At round 795 training loss: 1.2853648371674353\n",
      "At round 795 Discrepancy: 1.4747487120960485\n",
      "gradient difference: 7.773188077714167\n"
     ]
    },
    {
     "name": "stderr",
     "output_type": "stream",
     "text": [
      "                                                      \r"
     ]
    },
    {
     "name": "stdout",
     "output_type": "stream",
     "text": [
      "At round 796 accuracy: 0.7056812824139557\n",
      "At round 796 training accuracy: 0.8176100628930818\n",
      "At round 796 training loss: 0.4578259189680523\n",
      "At round 796 Discrepancy: 2.3692194458873375\n",
      "gradient difference: 5.308729483574377\n"
     ]
    },
    {
     "name": "stderr",
     "output_type": "stream",
     "text": [
      "                                                      \r"
     ]
    },
    {
     "name": "stdout",
     "output_type": "stream",
     "text": [
      "At round 797 accuracy: 0.7184111268269684\n",
      "At round 797 training accuracy: 0.8419071518193224\n",
      "At round 797 training loss: 0.39540881895398255\n",
      "At round 797 Discrepancy: 1.6383902364889096\n",
      "gradient difference: 5.105404723722034\n"
     ]
    },
    {
     "name": "stderr",
     "output_type": "stream",
     "text": [
      "                                                      \r"
     ]
    },
    {
     "name": "stdout",
     "output_type": "stream",
     "text": [
      "At round 798 accuracy: 0.7234794908062234\n",
      "At round 798 training accuracy: 0.8579088471849866\n",
      "At round 798 training loss: 0.389942728412455\n",
      "At round 798 Discrepancy: 1.8715065357051142\n",
      "gradient difference: 5.572896788487846\n"
     ]
    },
    {
     "name": "stderr",
     "output_type": "stream",
     "text": [
      "                                                      \r"
     ]
    },
    {
     "name": "stdout",
     "output_type": "stream",
     "text": [
      "At round 799 accuracy: 0.7243045733144743\n",
      "At round 799 training accuracy: 0.8438356164383561\n",
      "At round 799 training loss: 0.4708479014161515\n",
      "At round 799 Discrepancy: 1.5258426518640111\n",
      "gradient difference: 6.362471314891438\n"
     ]
    },
    {
     "name": "stderr",
     "output_type": "stream",
     "text": [
      "                                                      \r"
     ]
    },
    {
     "name": "stdout",
     "output_type": "stream",
     "text": [
      "At round 800 accuracy: 0.7141678453559641\n",
      "At round 800 training accuracy: 0.8391591070930988\n"
     ]
    }
   ],
   "source": [
    "server.train()"
   ]
  },
  {
   "cell_type": "code",
   "execution_count": null,
   "metadata": {},
   "outputs": [],
   "source": [
    "\"\"\"\n",
    "fname = 'sampling_interval.csv'\n",
    "interval = 5\n",
    "rounds = 200\n",
    "with open(fname, 'w') as csv_f:\n",
    "  csv_f.write(str(1)+'\\n')\n",
    "  for i in range(2, rounds+1):\n",
    "    if i % interval == 0:\n",
    "      csv_f.write(str(i))\n",
    "    elif i == rounds:\n",
    "      csv_f.write('200')\n",
    "    csv_f.write('\\n')\n",
    "\"\"\""
   ]
  },
  {
   "cell_type": "code",
   "execution_count": null,
   "metadata": {},
   "outputs": [],
   "source": [
    "a = np.arange(32).reshape(2,4,4)\n",
    "mask = np.zeros(shape=(4,4))\n",
    "np.fill_diagonal(mask, 1)\n",
    "#for i in range(a.shape[0]):\n",
    "#    mask[i,:,i] =1\n",
    "#x = np.ma.array([a, mask=[0] + [1,0]*4)\n",
    "b = np.repeat(mask[np.newaxis,:,:], 2, axis=0)\n",
    "for i in range(b.shape[0]):\n",
    "    b[i,:,i]=1\n",
    "    #b[i,i,:]=1\n",
    "print(a)\n",
    "x=np.ma.array(a,mask=b)\n",
    "print(x)\n",
    "print(np.sum(x,axis=-1))"
   ]
  }
 ],
 "metadata": {
  "kernelspec": {
   "display_name": "Python 3 (ipykernel)",
   "language": "python",
   "name": "python3"
  },
  "language_info": {
   "codemirror_mode": {
    "name": "ipython",
    "version": 3
   },
   "file_extension": ".py",
   "mimetype": "text/x-python",
   "name": "python",
   "nbconvert_exporter": "python",
   "pygments_lexer": "ipython3",
   "version": "3.9.7"
  }
 },
 "nbformat": 4,
 "nbformat_minor": 4
}
