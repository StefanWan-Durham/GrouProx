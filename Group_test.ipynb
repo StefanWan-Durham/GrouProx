{
 "cells": [
  {
   "cell_type": "code",
   "execution_count": 1,
   "metadata": {},
   "outputs": [
    {
     "name": "stdout",
     "output_type": "stream",
     "text": [
      "WARNING:tensorflow:From /home/lab/anaconda3/envs/TFF/lib/python3.7/site-packages/tensorflow/python/compat/v2_compat.py:96: disable_resource_variables (from tensorflow.python.ops.variable_scope) is deprecated and will be removed in a future version.\n",
      "Instructions for updating:\n",
      "non-resource variables are not supported in the long term\n"
     ]
    }
   ],
   "source": [
    "import importlib\n",
    "import tensorflow.compat.v1 as tf\n",
    "tf.disable_v2_behavior()\n",
    "from flearn.utils.model_utils import read_data\n",
    "import os\n",
    "\n",
    "from flearn.models import client\n",
    "from flearn.models import group\n",
    "from flearn.trainers import grouprox\n",
    "from flearn.models.mnist import mclr"
   ]
  },
  {
   "cell_type": "code",
   "execution_count": 2,
   "metadata": {},
   "outputs": [],
   "source": [
    "# read data\n",
    "train_path = os.path.join('data', 'nist', 'data', 'train')\n",
    "test_path = os.path.join('data', 'nist', 'data', 'test')\n",
    "dataset = read_data(train_path, test_path)"
   ]
  },
  {
   "cell_type": "code",
   "execution_count": 3,
   "metadata": {
    "scrolled": true
   },
   "outputs": [
    {
     "name": "stdout",
     "output_type": "stream",
     "text": [
      "Using Group prox to Train\n",
      "WARNING:tensorflow:From /home/lab/workspace/GrouProx/flearn/models/mnist/mclr.py:41: dense (from tensorflow.python.layers.core) is deprecated and will be removed in a future version.\n",
      "Instructions for updating:\n",
      "Use keras.layers.Dense instead.\n",
      "WARNING:tensorflow:From /home/lab/anaconda3/envs/TFF/lib/python3.7/site-packages/tensorflow/python/layers/core.py:187: Layer.apply (from tensorflow.python.keras.engine.base_layer_v1) is deprecated and will be removed in a future version.\n",
      "Instructions for updating:\n",
      "Please use `layer.__call__` method instead.\n",
      "WARNING:tensorflow:From /home/lab/anaconda3/envs/TFF/lib/python3.7/site-packages/tensorflow/python/profiler/internal/flops_registry.py:142: tensor_shape_from_node_def_name (from tensorflow.python.framework.graph_util_impl) is deprecated and will be removed in a future version.\n",
      "Instructions for updating:\n",
      "Use `tf.compat.v1.graph_util.tensor_shape_from_node_def_name`\n"
     ]
    },
    {
     "name": "stderr",
     "output_type": "stream",
     "text": [
      "                                                                                                                        "
     ]
    },
    {
     "name": "stdout",
     "output_type": "stream",
     "text": [
      "200 Clients in Total\n",
      "WARNING:tensorflow:From /home/lab/workspace/GrouProx/flearn/models/mnist/mclr.py:59: Variable.load (from tensorflow.python.ops.variables) is deprecated and will be removed in a future version.\n",
      "Instructions for updating:\n",
      "Prefer Variable.assign which has equivalent behavior in 2.X.\n"
     ]
    },
    {
     "name": "stderr",
     "output_type": "stream",
     "text": [
      "Epoch:   0%|                                                                                      | 0/1 [00:00<?, ?it/s]"
     ]
    },
    {
     "name": "stdout",
     "output_type": "stream",
     "text": [
      "Clustering iteration: 2\n",
      "Training with 20 workers ---\n"
     ]
    },
    {
     "name": "stderr",
     "output_type": "stream",
     "text": [
      "                                                                                                                        \r"
     ]
    },
    {
     "name": "stdout",
     "output_type": "stream",
     "text": [
      "Group 0, clients ['f_00182', 'f_00012', 'f_00152', 'f_00154', 'f_00033', 'f_00074']\n",
      "Group 1 is empty.\n",
      "Group 2, clients ['f_00018', 'f_00098']\n",
      "Group 3, clients ['f_00170', 'f_00180', 'f_00080', 'f_00130']\n",
      "Group 4, clients ['f_00107', 'f_00177', 'f_00005', 'f_00146', 'f_00061', 'f_00125', 'f_00007', 'f_00037']\n",
      "The groups difference are: [1.1102230246251565e-16, 0.00031652811077720333, 0.0004305075027213334, 0.0005536973045618954, 0.0003926970380794259]\n"
     ]
    },
    {
     "name": "stderr",
     "output_type": "stream",
     "text": [
      "Epoch:   0%|                                                                                      | 0/5 [00:00<?, ?it/s]"
     ]
    },
    {
     "name": "stdout",
     "output_type": "stream",
     "text": [
      "Group 0\n",
      "At round 0 accuracy: 0.18053777208706787\n",
      "At round 0 training accuracy: 0.15703461595602436\n",
      "At round 0 training loss: 1.9825773006951255\n",
      "Group 2\n",
      "At round 0 accuracy: 0.3018867924528302\n",
      "At round 0 training accuracy: 0.33935289691497367\n",
      "At round 0 training loss: 1.5773887119408028\n",
      "Group 3\n",
      "At round 0 accuracy: 0.24649859943977592\n",
      "At round 0 training accuracy: 0.2731707317073171\n",
      "At round 0 training loss: 1.7362903204972182\n",
      "Group 4\n",
      "At round 0 accuracy: 0.3157894736842105\n",
      "At round 0 training accuracy: 0.3296321998612075\n",
      "At round 0 training loss: 1.61863756502444\n",
      "At round 0 mean test accuracy: 0.2611781594159711 mean train accuracy: 0.27479761110988066\n",
      "Begin group  0 training\n"
     ]
    },
    {
     "name": "stderr",
     "output_type": "stream",
     "text": [
      "Epoch:   0%|                                                                                      | 0/5 [00:00<?, ?it/s]"
     ]
    },
    {
     "name": "stdout",
     "output_type": "stream",
     "text": [
      "Begin group  2 training\n",
      "Begin group  3 training\n"
     ]
    },
    {
     "name": "stderr",
     "output_type": "stream",
     "text": [
      "Epoch:   0%|                                                                                      | 0/5 [00:00<?, ?it/s]"
     ]
    },
    {
     "name": "stdout",
     "output_type": "stream",
     "text": [
      "Begin group  4 training\n"
     ]
    },
    {
     "name": "stderr",
     "output_type": "stream",
     "text": [
      "                                                                                                                        \r"
     ]
    },
    {
     "name": "stdout",
     "output_type": "stream",
     "text": [
      "Group 0, clients ['f_00034', 'f_00102', 'f_00184', 'f_00004']\n",
      "Group 1, clients ['f_00171', 'f_00011']\n",
      "Group 2, clients ['f_00058', 'f_00198', 'f_00168', 'f_00018', 'f_00089', 'f_00118', 'f_00059']\n",
      "Group 3, clients ['f_00040', 'f_00029', 'f_00110', 'f_00159']\n",
      "Group 4, clients ['f_00095', 'f_00035', 'f_00136']\n",
      "The groups difference are: [1.1102230246251565e-16, 0.0004059156369907724, 0.0013405211902572933, 0.0010767602973091872, 0.0007634772112201649]\n"
     ]
    },
    {
     "name": "stderr",
     "output_type": "stream",
     "text": [
      "Epoch:  80%|██████████████████████████████████████████████████████████████▍               | 4/5 [00:00<00:00, 34.60it/s]"
     ]
    },
    {
     "name": "stdout",
     "output_type": "stream",
     "text": [
      "Group 0\n",
      "At round 1 accuracy: 0.32522407170294493\n",
      "At round 1 training accuracy: 0.3342742534541673\n",
      "At round 1 training loss: 1.6694899485203685\n",
      "Group 1\n",
      "At round 1 accuracy: 0.2807017543859649\n",
      "At round 1 training accuracy: 0.2949117341640706\n",
      "At round 1 training loss: 1.666919249735641\n",
      "Group 2\n",
      "At round 1 accuracy: 0.3584905660377358\n",
      "At round 1 training accuracy: 0.382242287434161\n",
      "At round 1 training loss: 1.2453410196698995\n",
      "Group 3\n",
      "At round 1 accuracy: 0.24369747899159663\n",
      "At round 1 training accuracy: 0.23739837398373984\n",
      "At round 1 training loss: 1.596328004317555\n",
      "Group 4\n",
      "At round 1 accuracy: 0.3216374269005848\n",
      "At round 1 training accuracy: 0.33194540828128616\n",
      "At round 1 training loss: 1.6197463476958442\n",
      "At round 1 mean test accuracy: 0.30595025960376543 mean train accuracy: 0.316154411463485\n",
      "Begin group  0 training\n"
     ]
    },
    {
     "name": "stderr",
     "output_type": "stream",
     "text": [
      "                                                                                                                        "
     ]
    },
    {
     "name": "stdout",
     "output_type": "stream",
     "text": [
      "Begin group  1 training\n",
      "Begin group  2 training\n"
     ]
    },
    {
     "name": "stderr",
     "output_type": "stream",
     "text": [
      "Epoch:   0%|                                                                                      | 0/5 [00:00<?, ?it/s]"
     ]
    },
    {
     "name": "stdout",
     "output_type": "stream",
     "text": [
      "Begin group  3 training\n",
      "Begin group  4 training\n"
     ]
    },
    {
     "name": "stderr",
     "output_type": "stream",
     "text": [
      "                                                                                                                        \r"
     ]
    },
    {
     "name": "stdout",
     "output_type": "stream",
     "text": [
      "Group 0, clients ['f_00112', 'f_00182', 'f_00193', 'f_00054', 'f_00012', 'f_00092', 'f_00013', 'f_00174', 'f_00002', 'f_00044', 'f_00003', 'f_00113', 'f_00014']\n",
      "Group 1 is empty.\n",
      "Group 2 is empty.\n",
      "Group 3, clients ['f_00029', 'f_00199', 'f_00010']\n",
      "Group 4, clients ['f_00085', 'f_00115', 'f_00035', 'f_00126']\n",
      "The groups difference are: [1.1102230246251565e-16, 0.0006459896321271419, 0.001524275491391447, 0.0010777877385218515, 0.001013096045149764]\n"
     ]
    },
    {
     "name": "stderr",
     "output_type": "stream",
     "text": [
      "Epoch:   0%|                                                                                      | 0/5 [00:00<?, ?it/s]"
     ]
    },
    {
     "name": "stdout",
     "output_type": "stream",
     "text": [
      "Group 0\n",
      "At round 2 accuracy: 0.3265044814340589\n",
      "At round 2 training accuracy: 0.33471995245877284\n",
      "At round 2 training loss: 1.5757623782148689\n",
      "Group 3\n",
      "At round 2 accuracy: 0.2969187675070028\n",
      "At round 2 training accuracy: 0.3278048780487805\n",
      "At round 2 training loss: 1.5191710213917058\n",
      "Group 4\n",
      "At round 2 accuracy: 0.35477582846003897\n",
      "At round 2 training accuracy: 0.3564654175341198\n",
      "At round 2 training loss: 1.7227193019524123\n",
      "At round 2 mean test accuracy: 0.3260663591337002 mean train accuracy: 0.33966341601389105\n",
      "Begin group  0 training\n"
     ]
    },
    {
     "name": "stderr",
     "output_type": "stream",
     "text": [
      "Epoch:   0%|                                                                                      | 0/5 [00:00<?, ?it/s]"
     ]
    },
    {
     "name": "stdout",
     "output_type": "stream",
     "text": [
      "Begin group  3 training\n"
     ]
    },
    {
     "name": "stderr",
     "output_type": "stream",
     "text": [
      "                                                                                                                        \r"
     ]
    },
    {
     "name": "stdout",
     "output_type": "stream",
     "text": [
      "Begin group  4 training\n",
      "Group 0, clients ['f_00082', 'f_00183', 'f_00083', 'f_00173', 'f_00003']\n",
      "Group 1, clients ['f_00051', 'f_00041']\n",
      "Group 2, clients ['f_00058']\n",
      "Group 3, clients ['f_00040', 'f_00139', 'f_00170', 'f_00070', 'f_00100', 'f_00179', 'f_00190', 'f_00159']\n",
      "Group 4, clients ['f_00197', 'f_00046', 'f_00025', 'f_00095']\n",
      "The groups difference are: [0.0, 0.0004847460060859454, 0.0009360571587448963, 0.0012360686545739297, 0.0008194588340423303]\n"
     ]
    },
    {
     "name": "stderr",
     "output_type": "stream",
     "text": [
      "Epoch:   0%|                                                                                      | 0/5 [00:00<?, ?it/s]"
     ]
    },
    {
     "name": "stdout",
     "output_type": "stream",
     "text": [
      "Group 0\n",
      "At round 3 accuracy: 0.3405889884763124\n",
      "At round 3 training accuracy: 0.355667805675234\n",
      "At round 3 training loss: 1.5515976319109732\n",
      "Group 1\n",
      "At round 3 accuracy: 0.3333333333333333\n",
      "At round 3 training accuracy: 0.3333333333333333\n",
      "At round 3 training loss: 1.4317445774811204\n",
      "Group 2\n",
      "At round 3 accuracy: 0.36477987421383645\n",
      "At round 3 training accuracy: 0.3220466516177577\n",
      "At round 3 training loss: 1.4167484547340214\n",
      "Group 3\n",
      "At round 3 accuracy: 0.2969187675070028\n",
      "At round 3 training accuracy: 0.3336585365853659\n",
      "At round 3 training loss: 1.4797713145977114\n",
      "Group 4\n",
      "At round 3 accuracy: 0.3138401559454191\n",
      "At round 3 training accuracy: 0.31413370344668057\n",
      "At round 3 training loss: 1.9887556519851401\n",
      "At round 3 mean test accuracy: 0.3298922238951808 mean train accuracy: 0.33176800613167434\n",
      "Begin group  0 training\n",
      "Begin group  1 training\n"
     ]
    },
    {
     "name": "stderr",
     "output_type": "stream",
     "text": [
      "Epoch:   0%|                                                                                      | 0/5 [00:00<?, ?it/s]"
     ]
    },
    {
     "name": "stdout",
     "output_type": "stream",
     "text": [
      "Begin group  2 training\n",
      "Begin group  3 training\n"
     ]
    },
    {
     "name": "stderr",
     "output_type": "stream",
     "text": [
      "                                                                                                                        \r"
     ]
    },
    {
     "name": "stdout",
     "output_type": "stream",
     "text": [
      "Begin group  4 training\n",
      "Group 0, clients ['f_00123', 'f_00184', 'f_00033', 'f_00084']\n",
      "Group 1, clients ['f_00011', 'f_00001', 'f_00111', 'f_00191', 'f_00171']\n",
      "Group 2, clients ['f_00128', 'f_00088', 'f_00188', 'f_00138']\n",
      "Group 3, clients ['f_00099', 'f_00090', 'f_00199']\n",
      "Group 4, clients ['f_00175', 'f_00177', 'f_00187', 'f_00061']\n",
      "The groups difference are: [1.1102230246251565e-16, 0.0004962242127983796, 0.0008689498556067043, 0.0012155031553442441, 0.0008666017207759058]\n"
     ]
    },
    {
     "name": "stderr",
     "output_type": "stream",
     "text": [
      "Epoch:   0%|                                                                                      | 0/5 [00:00<?, ?it/s]"
     ]
    },
    {
     "name": "stdout",
     "output_type": "stream",
     "text": [
      "Group 0\n",
      "At round 4 accuracy: 0.3265044814340589\n",
      "At round 4 training accuracy: 0.3217946813252117\n",
      "At round 4 training loss: 1.6160290967371431\n",
      "Group 1\n",
      "At round 4 accuracy: 0.3333333333333333\n",
      "At round 4 training accuracy: 0.3333333333333333\n",
      "At round 4 training loss: 1.2770792986126085\n",
      "Group 2\n",
      "At round 4 accuracy: 0.33962264150943394\n",
      "At round 4 training accuracy: 0.345372460496614\n",
      "At round 4 training loss: 1.369770433330464\n",
      "Group 3\n",
      "At round 4 accuracy: 0.38375350140056025\n",
      "At round 4 training accuracy: 0.39447154471544715\n",
      "At round 4 training loss: 1.3943561669093807\n",
      "Group 4\n",
      "At round 4 accuracy: 0.3313840155945419\n",
      "At round 4 training accuracy: 0.3460559796437659\n",
      "At round 4 training loss: 1.6098267161236741\n",
      "At round 4 mean test accuracy: 0.34291959465438565 mean train accuracy: 0.3482055999028744\n",
      "Begin group  0 training\n"
     ]
    },
    {
     "name": "stderr",
     "output_type": "stream",
     "text": [
      "Epoch:   0%|                                                                                      | 0/5 [00:00<?, ?it/s]"
     ]
    },
    {
     "name": "stdout",
     "output_type": "stream",
     "text": [
      "Begin group  1 training\n",
      "Begin group  2 training\n"
     ]
    },
    {
     "name": "stderr",
     "output_type": "stream",
     "text": [
      "Epoch:   0%|                                                                                      | 0/5 [00:00<?, ?it/s]"
     ]
    },
    {
     "name": "stdout",
     "output_type": "stream",
     "text": [
      "Begin group  3 training\n"
     ]
    },
    {
     "name": "stderr",
     "output_type": "stream",
     "text": [
      "                                                                                                                        \r"
     ]
    },
    {
     "name": "stdout",
     "output_type": "stream",
     "text": [
      "Begin group  4 training\n",
      "Group 0, clients ['f_00154', 'f_00122', 'f_00034', 'f_00104', 'f_00003', 'f_00134']\n",
      "Group 1, clients ['f_00071', 'f_00021']\n",
      "Group 2, clients ['f_00148', 'f_00028', 'f_00188']\n",
      "Group 3, clients ['f_00119', 'f_00149', 'f_00040', 'f_00039']\n",
      "Group 4, clients ['f_00077', 'f_00151', 'f_00006', 'f_00055', 'f_00117']\n",
      "The groups difference are: [0.0, 0.001085094995910696, 0.0013419240895510276, 0.0018986695681333376, 0.001464698108555318]\n"
     ]
    },
    {
     "name": "stderr",
     "output_type": "stream",
     "text": [
      "Epoch:   0%|                                                                                      | 0/5 [00:00<?, ?it/s]"
     ]
    },
    {
     "name": "stdout",
     "output_type": "stream",
     "text": [
      "Group 0\n",
      "At round 5 accuracy: 0.18053777208706787\n",
      "At round 5 training accuracy: 0.15792601396523548\n",
      "At round 5 training loss: 2.085099766095385\n",
      "Group 1\n",
      "At round 5 accuracy: 0.4824561403508772\n",
      "At round 5 training accuracy: 0.5451713395638629\n",
      "At round 5 training loss: 1.1332110489640281\n",
      "Group 2\n",
      "At round 5 accuracy: 0.41509433962264153\n",
      "At round 5 training accuracy: 0.45598194130925507\n",
      "At round 5 training loss: 1.2809963385981666\n",
      "Group 3\n",
      "At round 5 accuracy: 0.4117647058823529\n",
      "At round 5 training accuracy: 0.4091056910569106\n",
      "At round 5 training loss: 1.420076861885505\n",
      "Group 4\n",
      "At round 5 accuracy: 0.40545808966861596\n",
      "At round 5 training accuracy: 0.4205412907702984\n",
      "At round 5 training loss: 1.9315878093835521\n",
      "At round 5 mean test accuracy: 0.3790622095223111 mean train accuracy: 0.3977452553331125\n",
      "Begin group  0 training\n"
     ]
    },
    {
     "name": "stderr",
     "output_type": "stream",
     "text": [
      "Epoch:   0%|                                                                                      | 0/5 [00:00<?, ?it/s]"
     ]
    },
    {
     "name": "stdout",
     "output_type": "stream",
     "text": [
      "Begin group  1 training\n",
      "Begin group  2 training\n",
      "Begin group  3 training\n"
     ]
    },
    {
     "name": "stderr",
     "output_type": "stream",
     "text": [
      "                                                                                                                        \r"
     ]
    },
    {
     "name": "stdout",
     "output_type": "stream",
     "text": [
      "Begin group  4 training\n",
      "Group 0, clients ['f_00152', 'f_00134', 'f_00093', 'f_00004', 'f_00094', 'f_00013']\n",
      "Group 1, clients ['f_00011', 'f_00081']\n",
      "Group 2, clients ['f_00118', 'f_00088', 'f_00108', 'f_00158']\n",
      "Group 3, clients ['f_00149', 'f_00019', 'f_00030']\n",
      "Group 4, clients ['f_00145', 'f_00006', 'f_00151', 'f_00156', 'f_00115']\n",
      "The groups difference are: [1.1102230246251565e-16, 0.0008810138431222247, 0.0012215890369848825, 0.0014903954659595264, 0.0011811610537937334]\n"
     ]
    },
    {
     "name": "stderr",
     "output_type": "stream",
     "text": [
      "Epoch:   0%|                                                                                      | 0/5 [00:00<?, ?it/s]"
     ]
    },
    {
     "name": "stdout",
     "output_type": "stream",
     "text": [
      "Group 0\n",
      "At round 6 accuracy: 0.32522407170294493\n",
      "At round 6 training accuracy: 0.3342742534541673\n",
      "At round 6 training loss: 1.5903467424485078\n",
      "Group 1\n",
      "At round 6 accuracy: 0.5263157894736842\n",
      "At round 6 training accuracy: 0.5887850467289719\n",
      "At round 6 training loss: 1.1161752196487236\n",
      "Group 2\n",
      "At round 6 accuracy: 0.49056603773584906\n",
      "At round 6 training accuracy: 0.4597441685477803\n",
      "At round 6 training loss: 1.2725997132587648\n",
      "Group 3\n",
      "At round 6 accuracy: 0.34173669467787116\n",
      "At round 6 training accuracy: 0.3567479674796748\n",
      "At round 6 training loss: 1.54066362528297\n",
      "Group 4\n",
      "At round 6 accuracy: 0.44834307992202727\n",
      "At round 6 training accuracy: 0.4728198010640759\n",
      "At round 6 training loss: 1.7667582540525322\n",
      "At round 6 mean test accuracy: 0.42643713470247535 mean train accuracy: 0.442474247454934\n",
      "Begin group  0 training\n"
     ]
    },
    {
     "name": "stderr",
     "output_type": "stream",
     "text": [
      "Epoch:  80%|██████████████████████████████████████████████████████████████▍               | 4/5 [00:00<00:00, 37.66it/s]"
     ]
    },
    {
     "name": "stdout",
     "output_type": "stream",
     "text": [
      "Begin group  1 training\n",
      "Begin group  2 training\n"
     ]
    },
    {
     "name": "stderr",
     "output_type": "stream",
     "text": [
      "Epoch:   0%|                                                                                      | 0/5 [00:00<?, ?it/s]"
     ]
    },
    {
     "name": "stdout",
     "output_type": "stream",
     "text": [
      "Begin group  3 training\n",
      "Begin group  4 training\n"
     ]
    },
    {
     "name": "stderr",
     "output_type": "stream",
     "text": [
      "                                                                                                                        \r"
     ]
    },
    {
     "name": "stdout",
     "output_type": "stream",
     "text": [
      "Group 0, clients ['f_00022', 'f_00002', 'f_00094', 'f_00063', 'f_00024', 'f_00153']\n",
      "Group 1, clients ['f_00011', 'f_00121']\n",
      "Group 2, clients ['f_00108', 'f_00138', 'f_00188']\n",
      "Group 3, clients ['f_00120', 'f_00099']\n",
      "Group 4, clients ['f_00086', 'f_00195', 'f_00066', 'f_00096', 'f_00065', 'f_00155', 'f_00046']\n",
      "The groups difference are: [0.0, 0.0008692134899217496, 0.0015886319594788922, 0.0013694706156899272, 0.0009924600758279833]\n"
     ]
    },
    {
     "name": "stderr",
     "output_type": "stream",
     "text": [
      "Epoch:   0%|                                                                                      | 0/5 [00:00<?, ?it/s]"
     ]
    },
    {
     "name": "stdout",
     "output_type": "stream",
     "text": [
      "Group 0\n",
      "At round 7 accuracy: 0.44174135723431496\n",
      "At round 7 training accuracy: 0.4574357450601694\n",
      "At round 7 training loss: 1.50825222516871\n",
      "Group 1\n",
      "At round 7 accuracy: 0.5614035087719298\n",
      "At round 7 training accuracy: 0.5825545171339563\n",
      "At round 7 training loss: 1.1008468321674463\n",
      "Group 2\n",
      "At round 7 accuracy: 0.3270440251572327\n",
      "At round 7 training accuracy: 0.3370955605718585\n",
      "At round 7 training loss: 1.231123245506918\n",
      "Group 3\n",
      "At round 7 accuracy: 0.4005602240896359\n",
      "At round 7 training accuracy: 0.4217886178861789\n",
      "At round 7 training loss: 1.5274748477703188\n",
      "Group 4\n",
      "At round 7 accuracy: 0.21442495126705652\n",
      "At round 7 training accuracy: 0.2181355540134166\n",
      "At round 7 training loss: 1.714048166725058\n",
      "At round 7 mean test accuracy: 0.38903481330403394 mean train accuracy: 0.403401998933116\n",
      "Begin group  0 training\n"
     ]
    },
    {
     "name": "stderr",
     "output_type": "stream",
     "text": [
      "Epoch:   0%|                                                                                      | 0/5 [00:00<?, ?it/s]"
     ]
    },
    {
     "name": "stdout",
     "output_type": "stream",
     "text": [
      "Begin group  1 training\n",
      "Begin group  2 training\n"
     ]
    },
    {
     "name": "stderr",
     "output_type": "stream",
     "text": [
      "Epoch:   0%|                                                                                      | 0/5 [00:00<?, ?it/s]"
     ]
    },
    {
     "name": "stdout",
     "output_type": "stream",
     "text": [
      "Begin group  3 training\n",
      "Begin group  4 training\n"
     ]
    },
    {
     "name": "stderr",
     "output_type": "stream",
     "text": [
      "                                                                                                                        \r"
     ]
    },
    {
     "name": "stdout",
     "output_type": "stream",
     "text": [
      "Group 0, clients ['f_00193', 'f_00142', 'f_00103']\n",
      "Group 1, clients ['f_00181', 'f_00001']\n",
      "Group 2, clients ['f_00088', 'f_00128', 'f_00169']\n",
      "Group 3, clients ['f_00069', 'f_00119', 'f_00190', 'f_00150', 'f_00000']\n",
      "Group 4, clients ['f_00067', 'f_00161', 'f_00065', 'f_00117', 'f_00146', 'f_00151', 'f_00027']\n",
      "The groups difference are: [1.1102230246251565e-16, 0.0008803002084940559, 0.0013617599140325343, 0.0010879147202585981, 0.0010421711850756576]\n"
     ]
    },
    {
     "name": "stderr",
     "output_type": "stream",
     "text": [
      "                                                                                                                        "
     ]
    },
    {
     "name": "stdout",
     "output_type": "stream",
     "text": [
      "Group 0\n",
      "At round 8 accuracy: 0.5249679897567221\n",
      "At round 8 training accuracy: 0.5290447184667955\n",
      "At round 8 training loss: 1.4468547596900996\n",
      "Group 1\n",
      "At round 8 accuracy: 0.6052631578947368\n",
      "At round 8 training accuracy: 0.608515057113188\n",
      "At round 8 training loss: 0.9703975379900274\n",
      "Group 2\n",
      "At round 8 accuracy: 0.5849056603773585\n",
      "At round 8 training accuracy: 0.5568096313017307\n",
      "At round 8 training loss: 1.1821386176361188\n",
      "Group 3\n",
      "At round 8 accuracy: 0.38935574229691877\n",
      "At round 8 training accuracy: 0.4273170731707317\n",
      "At round 8 training loss: 1.3393765755397518\n",
      "Group 4\n",
      "At round 8 accuracy: 0.47173489278752434\n",
      "At round 8 training accuracy: 0.4871616932685635\n",
      "At round 8 training loss: 1.6863281654037592\n",
      "At round 8 mean test accuracy: 0.5152454886226522 mean train accuracy: 0.5217696346642019\n",
      "Begin group  0 training\n",
      "Begin group  1 training\n",
      "Begin group  2 training\n"
     ]
    },
    {
     "name": "stderr",
     "output_type": "stream",
     "text": [
      "Epoch:   0%|                                                                                      | 0/5 [00:00<?, ?it/s]"
     ]
    },
    {
     "name": "stdout",
     "output_type": "stream",
     "text": [
      "Begin group  3 training\n"
     ]
    },
    {
     "name": "stderr",
     "output_type": "stream",
     "text": [
      "Epoch:   0%|                                                                                      | 0/5 [00:00<?, ?it/s]"
     ]
    },
    {
     "name": "stdout",
     "output_type": "stream",
     "text": [
      "Begin group  4 training\n"
     ]
    },
    {
     "name": "stderr",
     "output_type": "stream",
     "text": [
      "                                                                                                                        \r"
     ]
    },
    {
     "name": "stdout",
     "output_type": "stream",
     "text": [
      "Group 0, clients ['f_00084', 'f_00054', 'f_00123', 'f_00053', 'f_00103', 'f_00003', 'f_00163', 'f_00174']\n",
      "Group 1, clients ['f_00101']\n",
      "Group 2, clients ['f_00158']\n",
      "Group 3, clients ['f_00060', 'f_00109', 'f_00140', 'f_00039', 'f_00100', 'f_00069']\n",
      "Group 4, clients ['f_00156', 'f_00116', 'f_00027', 'f_00037']\n",
      "The groups difference are: [1.1102230246251565e-16, 0.0005294229222656543, 0.0009081648217688087, 0.0009666179268212893, 0.0012991333207850175]\n"
     ]
    },
    {
     "name": "stderr",
     "output_type": "stream",
     "text": [
      "Epoch:  80%|██████████████████████████████████████████████████████████████▍               | 4/5 [00:00<00:00, 30.45it/s]"
     ]
    },
    {
     "name": "stdout",
     "output_type": "stream",
     "text": [
      "Group 0\n",
      "At round 9 accuracy: 0.3060179257362356\n",
      "At round 9 training accuracy: 0.3157034615956024\n",
      "At round 9 training loss: 1.601079482058858\n",
      "Group 1\n",
      "At round 9 accuracy: 0.6491228070175439\n",
      "At round 9 training accuracy: 0.6957424714434061\n",
      "At round 9 training loss: 1.01325697164793\n",
      "Group 2\n",
      "At round 9 accuracy: 0.33962264150943394\n",
      "At round 9 training accuracy: 0.35741158765989467\n",
      "At round 9 training loss: 1.2643807095813966\n",
      "Group 3\n",
      "At round 9 accuracy: 0.5266106442577031\n",
      "At round 9 training accuracy: 0.5089430894308943\n",
      "At round 9 training loss: 1.3395876849182253\n",
      "Group 4\n",
      "At round 9 accuracy: 0.2573099415204678\n",
      "At round 9 training accuracy: 0.2736525560953042\n",
      "At round 9 training loss: 2.009081099255615\n",
      "At round 9 mean test accuracy: 0.41573679200827685 mean train accuracy: 0.43029063324502037\n",
      "Begin group  0 training\n"
     ]
    },
    {
     "name": "stderr",
     "output_type": "stream",
     "text": [
      "Epoch:   0%|                                                                                      | 0/5 [00:00<?, ?it/s]"
     ]
    },
    {
     "name": "stdout",
     "output_type": "stream",
     "text": [
      "Begin group  1 training\n",
      "Begin group  2 training\n",
      "Begin group  3 training\n"
     ]
    },
    {
     "name": "stderr",
     "output_type": "stream",
     "text": [
      "                                                                                                                        \r"
     ]
    },
    {
     "name": "stdout",
     "output_type": "stream",
     "text": [
      "Begin group  4 training\n",
      "Group 0, clients ['f_00052', 'f_00162', 'f_00002', 'f_00142', 'f_00124', 'f_00063']\n",
      "Group 1, clients ['f_00111']\n",
      "Group 2, clients ['f_00059', 'f_00198', 'f_00098', 'f_00078']\n",
      "Group 3, clients ['f_00020', 'f_00019', 'f_00069', 'f_00010', 'f_00109']\n",
      "Group 4, clients ['f_00005', 'f_00055', 'f_00075', 'f_00185']\n",
      "The groups difference are: [0.0, 0.0011800182468071352, 0.0017876227851507664, 0.0017626876204432929, 0.0018409975903047604]\n"
     ]
    },
    {
     "name": "stderr",
     "output_type": "stream",
     "text": [
      "Epoch:   0%|                                                                                      | 0/5 [00:00<?, ?it/s]"
     ]
    },
    {
     "name": "stdout",
     "output_type": "stream",
     "text": [
      "Group 0\n",
      "At round 10 accuracy: 0.5454545454545454\n",
      "At round 10 training accuracy: 0.5150794829891546\n",
      "At round 10 training loss: 1.7822210588421197\n",
      "Group 1\n",
      "At round 10 accuracy: 0.7105263157894737\n",
      "At round 10 training accuracy: 0.7538940809968847\n",
      "At round 10 training loss: 1.0265968322506327\n",
      "Group 2\n",
      "At round 10 accuracy: 0.3270440251572327\n",
      "At round 10 training accuracy: 0.3340857787810384\n",
      "At round 10 training loss: 1.394185857363802\n",
      "Group 3\n",
      "At round 10 accuracy: 0.5154061624649859\n",
      "At round 10 training accuracy: 0.5203252032520326\n",
      "At round 10 training loss: 1.2717757436705799\n",
      "Group 4\n",
      "At round 10 accuracy: 0.20662768031189083\n",
      "At round 10 training accuracy: 0.22068008327550312\n",
      "At round 10 training loss: 1.9640636929697994\n",
      "At round 10 mean test accuracy: 0.4610117458356257 mean train accuracy: 0.4688129258589227\n",
      "Begin group  0 training\n"
     ]
    },
    {
     "name": "stderr",
     "output_type": "stream",
     "text": [
      "Epoch:   0%|                                                                                      | 0/5 [00:00<?, ?it/s]"
     ]
    },
    {
     "name": "stdout",
     "output_type": "stream",
     "text": [
      "Begin group  1 training\n",
      "Begin group  2 training\n"
     ]
    },
    {
     "name": "stderr",
     "output_type": "stream",
     "text": [
      "Epoch:   0%|                                                                                      | 0/5 [00:00<?, ?it/s]"
     ]
    },
    {
     "name": "stdout",
     "output_type": "stream",
     "text": [
      "Begin group  3 training\n"
     ]
    },
    {
     "name": "stderr",
     "output_type": "stream",
     "text": [
      "Epoch:   0%|                                                                                      | 0/5 [00:00<?, ?it/s]"
     ]
    },
    {
     "name": "stdout",
     "output_type": "stream",
     "text": [
      "Begin group  4 training\n"
     ]
    },
    {
     "name": "stderr",
     "output_type": "stream",
     "text": [
      "                                                                                                                        \r"
     ]
    },
    {
     "name": "stdout",
     "output_type": "stream",
     "text": [
      "Group 0, clients ['f_00174', 'f_00033', 'f_00173', 'f_00022', 'f_00053', 'f_00134', 'f_00143', 'f_00094', 'f_00073', 'f_00014', 'f_00063']\n",
      "Group 1, clients ['f_00041', 'f_00111']\n",
      "Group 2 is empty.\n",
      "Group 3, clients ['f_00130', 'f_00060', 'f_00000']\n",
      "Group 4, clients ['f_00186', 'f_00056', 'f_00055', 'f_00016']\n",
      "The groups difference are: [0.0, 0.000748237367425908, 0.0017477159439531764, 0.0013763551313695777, 0.0014617999383532698]\n"
     ]
    },
    {
     "name": "stderr",
     "output_type": "stream",
     "text": [
      "Epoch:   0%|                                                                                      | 0/5 [00:00<?, ?it/s]"
     ]
    },
    {
     "name": "stdout",
     "output_type": "stream",
     "text": [
      "Group 0\n",
      "At round 11 accuracy: 0.5198463508322664\n",
      "At round 11 training accuracy: 0.5176051106819195\n",
      "At round 11 training loss: 1.4329753865672865\n",
      "Group 1\n",
      "At round 11 accuracy: 0.5526315789473685\n",
      "At round 11 training accuracy: 0.6220145379023884\n",
      "At round 11 training loss: 1.0197168446899327\n",
      "Group 3\n",
      "At round 11 accuracy: 0.5770308123249299\n",
      "At round 11 training accuracy: 0.576260162601626\n",
      "At round 11 training loss: 1.2741270086629604\n",
      "Group 4\n",
      "At round 11 accuracy: 0.34307992202729043\n",
      "At round 11 training accuracy: 0.33587786259541985\n",
      "At round 11 training loss: 2.055939930471976\n",
      "At round 11 mean test accuracy: 0.4981471660329638 mean train accuracy: 0.5129394184453384\n",
      "Begin group  0 training\n"
     ]
    },
    {
     "name": "stderr",
     "output_type": "stream",
     "text": [
      "Epoch:   0%|                                                                                      | 0/5 [00:00<?, ?it/s]"
     ]
    },
    {
     "name": "stdout",
     "output_type": "stream",
     "text": [
      "Begin group  1 training\n",
      "Begin group  3 training\n",
      "Begin group  4 training\n"
     ]
    },
    {
     "name": "stderr",
     "output_type": "stream",
     "text": [
      "                                                                                                                        \r"
     ]
    },
    {
     "name": "stdout",
     "output_type": "stream",
     "text": [
      "Group 0, clients ['f_00023', 'f_00182', 'f_00172', 'f_00063', 'f_00032', 'f_00164', 'f_00173', 'f_00132']\n",
      "Group 1, clients ['f_00021', 'f_00011', 'f_00031', 'f_00181']\n",
      "Group 2, clients ['f_00098', 'f_00138']\n",
      "Group 3, clients ['f_00120']\n",
      "Group 4, clients ['f_00061', 'f_00007', 'f_00095', 'f_00016', 'f_00085']\n",
      "The groups difference are: [2.220446049250313e-16, 0.0011218756455174672, 0.0014890590764031764, 0.001607298983430594, 0.0013291221220601557]\n"
     ]
    },
    {
     "name": "stderr",
     "output_type": "stream",
     "text": [
      "Epoch:   0%|                                                                                      | 0/5 [00:00<?, ?it/s]"
     ]
    },
    {
     "name": "stdout",
     "output_type": "stream",
     "text": [
      "Group 0\n",
      "At round 12 accuracy: 0.6440460947503202\n",
      "At round 12 training accuracy: 0.6210072797504086\n",
      "At round 12 training loss: 1.546640391575424\n",
      "Group 1\n",
      "At round 12 accuracy: 0.43859649122807015\n",
      "At round 12 training accuracy: 0.5295950155763239\n",
      "At round 12 training loss: 1.0234340949840883\n",
      "Group 2\n",
      "At round 12 accuracy: 0.660377358490566\n",
      "At round 12 training accuracy: 0.6892400300978179\n",
      "At round 12 training loss: 1.233094078692572\n",
      "Group 3\n",
      "At round 12 accuracy: 0.3473389355742297\n",
      "At round 12 training accuracy: 0.3460162601626016\n",
      "At round 12 training loss: 1.4310704731359714\n",
      "Group 4\n",
      "At round 12 accuracy: 0.4873294346978557\n",
      "At round 12 training accuracy: 0.49294471431876014\n",
      "At round 12 training loss: 1.6059812949317598\n",
      "At round 12 mean test accuracy: 0.5155376629482084 mean train accuracy: 0.5357606599811824\n",
      "Begin group  0 training\n"
     ]
    },
    {
     "name": "stderr",
     "output_type": "stream",
     "text": [
      "Epoch:   0%|                                                                                      | 0/5 [00:00<?, ?it/s]"
     ]
    },
    {
     "name": "stdout",
     "output_type": "stream",
     "text": [
      "Begin group  1 training\n",
      "Begin group  2 training\n"
     ]
    },
    {
     "name": "stderr",
     "output_type": "stream",
     "text": [
      "                                                                                                                        \r"
     ]
    },
    {
     "name": "stdout",
     "output_type": "stream",
     "text": [
      "Begin group  3 training\n",
      "Begin group  4 training\n",
      "Group 0, clients ['f_00023', 'f_00042', 'f_00033', 'f_00102', 'f_00132', 'f_00104']\n",
      "Group 1 is empty.\n",
      "Group 2, clients ['f_00198', 'f_00128', 'f_00097', 'f_00089']\n",
      "Group 3, clients ['f_00179', 'f_00159', 'f_00110', 'f_00079', 'f_00070']\n",
      "Group 4, clients ['f_00155', 'f_00096', 'f_00095', 'f_00106', 'f_00065']\n",
      "The groups difference are: [0.0, 0.0011227342779740468, 0.002040700518056049, 0.0015567778156919676, 0.0010560261618012268]\n"
     ]
    },
    {
     "name": "stderr",
     "output_type": "stream",
     "text": [
      "Epoch:   0%|                                                                                      | 0/5 [00:00<?, ?it/s]"
     ]
    },
    {
     "name": "stdout",
     "output_type": "stream",
     "text": [
      "Group 0\n",
      "At round 13 accuracy: 0.3700384122919334\n",
      "At round 13 training accuracy: 0.37290150051998217\n",
      "At round 13 training loss: 1.4950964922643561\n",
      "Group 2\n",
      "At round 13 accuracy: 0.5220125786163522\n",
      "At round 13 training accuracy: 0.5063957863054929\n",
      "At round 13 training loss: 1.1128092136393821\n",
      "Group 3\n",
      "At round 13 accuracy: 0.48739495798319327\n",
      "At round 13 training accuracy: 0.5456910569105691\n",
      "At round 13 training loss: 1.376206474110363\n",
      "Group 4\n",
      "At round 13 accuracy: 0.4074074074074074\n",
      "At round 13 training accuracy: 0.4200786490862827\n",
      "At round 13 training loss: 1.614241991003382\n",
      "At round 13 mean test accuracy: 0.4467133390747216 mean train accuracy: 0.46126674820558167\n",
      "Begin group  0 training\n"
     ]
    },
    {
     "name": "stderr",
     "output_type": "stream",
     "text": [
      "Epoch:   0%|                                                                                      | 0/5 [00:00<?, ?it/s]"
     ]
    },
    {
     "name": "stdout",
     "output_type": "stream",
     "text": [
      "Begin group  2 training\n",
      "Begin group  3 training\n"
     ]
    },
    {
     "name": "stderr",
     "output_type": "stream",
     "text": [
      "                                                                                                                        \r"
     ]
    },
    {
     "name": "stdout",
     "output_type": "stream",
     "text": [
      "Begin group  4 training\n",
      "Group 0, clients ['f_00114', 'f_00024', 'f_00112', 'f_00093', 'f_00122', 'f_00044', 'f_00064']\n",
      "Group 1, clients ['f_00051']\n",
      "Group 2, clients ['f_00198']\n",
      "Group 3, clients ['f_00189', 'f_00069', 'f_00149']\n",
      "Group 4, clients ['f_00151', 'f_00005', 'f_00015', 'f_00155', 'f_00006', 'f_00175', 'f_00047', 'f_00157']\n",
      "The groups difference are: [0.0, 0.0007002968566141021, 0.0014640837905235404, 0.0014490137195870556, 0.0012389481707870686]\n"
     ]
    },
    {
     "name": "stderr",
     "output_type": "stream",
     "text": [
      "Epoch:   0%|                                                                                      | 0/5 [00:00<?, ?it/s]"
     ]
    },
    {
     "name": "stdout",
     "output_type": "stream",
     "text": [
      "Group 0\n",
      "At round 14 accuracy: 0.5454545454545454\n",
      "At round 14 training accuracy: 0.5550438270687862\n",
      "At round 14 training loss: 1.42389474703571\n",
      "Group 1\n",
      "At round 14 accuracy: 0.7543859649122807\n",
      "At round 14 training accuracy: 0.7653167185877466\n",
      "At round 14 training loss: 1.1192052488138866\n",
      "Group 2\n",
      "At round 14 accuracy: 0.6415094339622641\n",
      "At round 14 training accuracy: 0.6297968397291196\n",
      "At round 14 training loss: 1.1690572308274119\n",
      "Group 3\n",
      "At round 14 accuracy: 0.5070028011204482\n",
      "At round 14 training accuracy: 0.4796747967479675\n",
      "At round 14 training loss: 1.2862906392803037\n",
      "Group 4\n",
      "At round 14 accuracy: 0.4171539961013645\n",
      "At round 14 training accuracy: 0.43303261623872313\n",
      "At round 14 training loss: 1.6111987113897486\n",
      "At round 14 mean test accuracy: 0.5731013483101806 mean train accuracy: 0.5725729596744686\n",
      "Begin group  0 training\n"
     ]
    },
    {
     "name": "stderr",
     "output_type": "stream",
     "text": [
      "Epoch:   0%|                                                                                      | 0/5 [00:00<?, ?it/s]"
     ]
    },
    {
     "name": "stdout",
     "output_type": "stream",
     "text": [
      "Begin group  1 training\n",
      "Begin group  2 training\n",
      "Begin group  3 training\n"
     ]
    },
    {
     "name": "stderr",
     "output_type": "stream",
     "text": [
      "Epoch:   0%|                                                                                      | 0/5 [00:00<?, ?it/s]"
     ]
    },
    {
     "name": "stdout",
     "output_type": "stream",
     "text": [
      "Begin group  4 training\n"
     ]
    },
    {
     "name": "stderr",
     "output_type": "stream",
     "text": [
      "                                                                                                                        \r"
     ]
    },
    {
     "name": "stdout",
     "output_type": "stream",
     "text": [
      "Group 0, clients ['f_00012', 'f_00172', 'f_00192', 'f_00072', 'f_00184']\n",
      "Group 1, clients ['f_00191']\n",
      "Group 2, clients ['f_00049', 'f_00138', 'f_00058', 'f_00198']\n",
      "Group 3, clients ['f_00040', 'f_00030', 'f_00170', 'f_00150', 'f_00009']\n",
      "Group 4, clients ['f_00127', 'f_00057', 'f_00146', 'f_00026', 'f_00115']\n",
      "The groups difference are: [1.1102230246251565e-16, 0.0007472067511865577, 0.001461199150432746, 0.0015692180822993729, 0.001208595042007543]\n"
     ]
    },
    {
     "name": "stderr",
     "output_type": "stream",
     "text": [
      "Epoch:   0%|                                                                                      | 0/5 [00:00<?, ?it/s]"
     ]
    },
    {
     "name": "stdout",
     "output_type": "stream",
     "text": [
      "Group 0\n",
      "At round 15 accuracy: 0.5339308578745199\n",
      "At round 15 training accuracy: 0.5470212449858862\n",
      "At round 15 training loss: 1.3512565150797198\n",
      "Group 1\n",
      "At round 15 accuracy: 0.7807017543859649\n",
      "At round 15 training accuracy: 0.7975077881619937\n",
      "At round 15 training loss: 0.9825799447229966\n",
      "Group 2\n",
      "At round 15 accuracy: 0.6981132075471698\n",
      "At round 15 training accuracy: 0.7057938299473289\n",
      "At round 15 training loss: 1.0901486247979761\n",
      "Group 3\n",
      "At round 15 accuracy: 0.4565826330532213\n",
      "At round 15 training accuracy: 0.4796747967479675\n",
      "At round 15 training loss: 1.5759066027354418\n",
      "Group 4\n",
      "At round 15 accuracy: 0.4775828460038986\n",
      "At round 15 training accuracy: 0.49942169789498037\n",
      "At round 15 training loss: 1.6533259718389994\n",
      "At round 15 mean test accuracy: 0.589382259772955 mean train accuracy: 0.6058838715476315\n",
      "Begin group  0 training\n"
     ]
    },
    {
     "name": "stderr",
     "output_type": "stream",
     "text": [
      "                                                                                                                        "
     ]
    },
    {
     "name": "stdout",
     "output_type": "stream",
     "text": [
      "Begin group  1 training\n",
      "Begin group  2 training\n",
      "Begin group  3 training\n"
     ]
    },
    {
     "name": "stderr",
     "output_type": "stream",
     "text": [
      "                                                                                                                        \r"
     ]
    },
    {
     "name": "stdout",
     "output_type": "stream",
     "text": [
      "Begin group  4 training\n",
      "Group 0, clients ['f_00154', 'f_00174', 'f_00112', 'f_00073', 'f_00032', 'f_00054', 'f_00134', 'f_00072']\n",
      "Group 1, clients ['f_00081', 'f_00051']\n",
      "Group 2, clients ['f_00059']\n",
      "Group 3, clients ['f_00000', 'f_00170', 'f_00029', 'f_00090', 'f_00100']\n",
      "Group 4, clients ['f_00007', 'f_00096', 'f_00056', 'f_00187']\n",
      "The groups difference are: [0.0, 0.0006155259097642141, 0.0011848795039294258, 0.0010183027010554069, 0.0011101116023538582]\n"
     ]
    },
    {
     "name": "stderr",
     "output_type": "stream",
     "text": [
      "Epoch:   0%|                                                                                      | 0/5 [00:00<?, ?it/s]"
     ]
    },
    {
     "name": "stdout",
     "output_type": "stream",
     "text": [
      "Group 0\n",
      "At round 16 accuracy: 0.5364916773367477\n",
      "At round 16 training accuracy: 0.5369187342148269\n",
      "At round 16 training loss: 1.4763219752720464\n",
      "Group 1\n",
      "At round 16 accuracy: 0.7982456140350878\n",
      "At round 16 training accuracy: 0.8307372793354102\n",
      "At round 16 training loss: 0.9177471073740863\n",
      "Group 2\n",
      "At round 16 accuracy: 0.779874213836478\n",
      "At round 16 training accuracy: 0.800601956358164\n",
      "At round 16 training loss: 1.11459022773846\n",
      "Group 3\n",
      "At round 16 accuracy: 0.6246498599439776\n",
      "At round 16 training accuracy: 0.6256910569105691\n",
      "At round 16 training loss: 1.2213263660911622\n",
      "Group 4\n",
      "At round 16 accuracy: 0.580896686159844\n",
      "At round 16 training accuracy: 0.6062919269026139\n",
      "At round 16 training loss: 1.5237577787957863\n",
      "At round 16 mean test accuracy: 0.6640316102624271 mean train accuracy: 0.6800481907443169\n",
      "Begin group  0 training\n"
     ]
    },
    {
     "name": "stderr",
     "output_type": "stream",
     "text": [
      "Epoch:   0%|                                                                                      | 0/5 [00:00<?, ?it/s]"
     ]
    },
    {
     "name": "stdout",
     "output_type": "stream",
     "text": [
      "Begin group  1 training\n",
      "Begin group  2 training\n",
      "Begin group  3 training\n"
     ]
    },
    {
     "name": "stderr",
     "output_type": "stream",
     "text": [
      "                                                                                                                        \r"
     ]
    },
    {
     "name": "stdout",
     "output_type": "stream",
     "text": [
      "Begin group  4 training\n",
      "Group 0, clients ['f_00082', 'f_00192', 'f_00103']\n",
      "Group 1, clients ['f_00071']\n",
      "Group 2, clients ['f_00158', 'f_00138']\n",
      "Group 3, clients ['f_00000', 'f_00080', 'f_00109']\n",
      "Group 4, clients ['f_00146', 'f_00176', 'f_00197', 'f_00075', 'f_00085', 'f_00157', 'f_00095', 'f_00147', 'f_00126', 'f_00016', 'f_00087']\n",
      "The groups difference are: [0.0, 0.0008354093944011876, 0.0011398668303927995, 0.0013042183665055163, 0.0010994132767123688]\n"
     ]
    },
    {
     "name": "stderr",
     "output_type": "stream",
     "text": [
      "Epoch:   0%|                                                                                      | 0/5 [00:00<?, ?it/s]"
     ]
    },
    {
     "name": "stdout",
     "output_type": "stream",
     "text": [
      "Group 0\n",
      "At round 17 accuracy: 0.49167733674775926\n",
      "At round 17 training accuracy: 0.49710295647006386\n",
      "At round 17 training loss: 1.3745879153584746\n",
      "Group 1\n",
      "At round 17 accuracy: 0.43859649122807015\n",
      "At round 17 training accuracy: 0.49117341640706125\n",
      "At round 17 training loss: 0.9570970474621465\n",
      "Group 2\n",
      "At round 17 accuracy: 0.3333333333333333\n",
      "At round 17 training accuracy: 0.33860045146726864\n",
      "At round 17 training loss: 1.744794916711955\n",
      "Group 3\n",
      "At round 17 accuracy: 0.3445378151260504\n",
      "At round 17 training accuracy: 0.367479674796748\n",
      "At round 17 training loss: 1.3027251245529672\n",
      "Group 4\n",
      "At round 17 accuracy: 0.4756335282651072\n",
      "At round 17 training accuracy: 0.49803377284293315\n",
      "At round 17 training loss: 1.595683790372804\n",
      "At round 17 mean test accuracy: 0.41675570094006403 mean train accuracy: 0.438478054396815\n",
      "Begin group  0 training\n",
      "Begin group  1 training\n",
      "Begin group  2 training\n"
     ]
    },
    {
     "name": "stderr",
     "output_type": "stream",
     "text": [
      "Epoch:   0%|                                                                                      | 0/5 [00:00<?, ?it/s]"
     ]
    },
    {
     "name": "stdout",
     "output_type": "stream",
     "text": [
      "Begin group  3 training\n",
      "Begin group  4 training\n"
     ]
    },
    {
     "name": "stderr",
     "output_type": "stream",
     "text": [
      "                                                                                                                        \r"
     ]
    },
    {
     "name": "stdout",
     "output_type": "stream",
     "text": [
      "Group 0, clients ['f_00134', 'f_00044', 'f_00074', 'f_00033', 'f_00012']\n",
      "Group 1, clients ['f_00091', 'f_00081']\n",
      "Group 2, clients ['f_00108', 'f_00128', 'f_00049', 'f_00088']\n",
      "Group 3, clients ['f_00170', 'f_00039', 'f_00040', 'f_00109']\n",
      "Group 4, clients ['f_00151', 'f_00047', 'f_00186', 'f_00006', 'f_00025']\n",
      "The groups difference are: [0.0, 0.000539308011234807, 0.0011037602011851888, 0.0010729639335625984, 0.0011346598360111315]\n"
     ]
    },
    {
     "name": "stderr",
     "output_type": "stream",
     "text": [
      "Epoch:   0%|                                                                                      | 0/5 [00:00<?, ?it/s]"
     ]
    },
    {
     "name": "stdout",
     "output_type": "stream",
     "text": [
      "Group 0\n",
      "At round 18 accuracy: 0.5531370038412292\n",
      "At round 18 training accuracy: 0.5602436487891844\n",
      "At round 18 training loss: 1.5138369256365158\n",
      "Group 1\n",
      "At round 18 accuracy: 0.5087719298245614\n",
      "At round 18 training accuracy: 0.569055036344756\n",
      "At round 18 training loss: 0.9620538030829385\n",
      "Group 2\n",
      "At round 18 accuracy: 0.34591194968553457\n",
      "At round 18 training accuracy: 0.35966892400300976\n",
      "At round 18 training loss: 1.1505230990812418\n",
      "Group 3\n",
      "At round 18 accuracy: 0.6610644257703081\n",
      "At round 18 training accuracy: 0.6494308943089431\n",
      "At round 18 training loss: 1.2614000664300065\n",
      "Group 4\n",
      "At round 18 accuracy: 0.44639376218323584\n",
      "At round 18 training accuracy: 0.47050659264399725\n",
      "At round 18 training loss: 1.6258770997342815\n",
      "At round 18 mean test accuracy: 0.5030558142609739 mean train accuracy: 0.5217810192179781\n",
      "Begin group  0 training\n",
      "Begin group  1 training\n"
     ]
    },
    {
     "name": "stderr",
     "output_type": "stream",
     "text": [
      "Epoch:   0%|                                                                                      | 0/5 [00:00<?, ?it/s]"
     ]
    },
    {
     "name": "stdout",
     "output_type": "stream",
     "text": [
      "Begin group  2 training\n",
      "Begin group  3 training\n"
     ]
    },
    {
     "name": "stderr",
     "output_type": "stream",
     "text": [
      "                                                                                                                        \r"
     ]
    },
    {
     "name": "stdout",
     "output_type": "stream",
     "text": [
      "Begin group  4 training\n",
      "Group 0, clients ['f_00033', 'f_00013', 'f_00094', 'f_00163', 'f_00072', 'f_00152']\n",
      "Group 1, clients ['f_00091', 'f_00031']\n",
      "Group 2, clients ['f_00148', 'f_00078', 'f_00169']\n",
      "Group 3, clients ['f_00040', 'f_00140', 'f_00020', 'f_00180']\n",
      "Group 4, clients ['f_00196', 'f_00016', 'f_00037', 'f_00105', 'f_00157']\n",
      "The groups difference are: [1.1102230246251565e-16, 0.0009518007884237178, 0.0010464781353547448, 0.0009686572302591845, 0.0006519760058470991]\n"
     ]
    },
    {
     "name": "stderr",
     "output_type": "stream",
     "text": [
      "Epoch:   0%|                                                                                      | 0/5 [00:00<?, ?it/s]"
     ]
    },
    {
     "name": "stdout",
     "output_type": "stream",
     "text": [
      "Group 0\n",
      "At round 19 accuracy: 0.4647887323943662\n",
      "At round 19 training accuracy: 0.4566929133858268\n",
      "At round 19 training loss: 1.687110766420887\n",
      "Group 1\n",
      "At round 19 accuracy: 0.41228070175438597\n",
      "At round 19 training accuracy: 0.43613707165109034\n",
      "At round 19 training loss: 0.9263720012280552\n",
      "Group 2\n",
      "At round 19 accuracy: 0.7610062893081762\n",
      "At round 19 training accuracy: 0.7705041384499624\n",
      "At round 19 training loss: 1.0483593263511284\n",
      "Group 3\n",
      "At round 19 accuracy: 0.5798319327731093\n",
      "At round 19 training accuracy: 0.5808130081300813\n",
      "At round 19 training loss: 1.2045427712773888\n",
      "Group 4\n",
      "At round 19 accuracy: 0.5458089668615984\n",
      "At round 19 training accuracy: 0.5690492713393477\n",
      "At round 19 training loss: 1.4553208105712474\n",
      "At round 19 mean test accuracy: 0.5527433246183273 mean train accuracy: 0.5626392805912618\n",
      "Begin group  0 training\n"
     ]
    },
    {
     "name": "stderr",
     "output_type": "stream",
     "text": [
      "Epoch:   0%|                                                                                      | 0/5 [00:00<?, ?it/s]"
     ]
    },
    {
     "name": "stdout",
     "output_type": "stream",
     "text": [
      "Begin group  1 training\n",
      "Begin group  2 training\n",
      "Begin group  3 training\n"
     ]
    },
    {
     "name": "stderr",
     "output_type": "stream",
     "text": [
      "Epoch:   0%|                                                                                      | 0/5 [00:00<?, ?it/s]"
     ]
    },
    {
     "name": "stdout",
     "output_type": "stream",
     "text": [
      "Begin group  4 training\n"
     ]
    },
    {
     "name": "stderr",
     "output_type": "stream",
     "text": [
      "                                                                                                                        \r"
     ]
    },
    {
     "name": "stdout",
     "output_type": "stream",
     "text": [
      "Group 0, clients ['f_00013', 'f_00084', 'f_00192']\n",
      "Group 1, clients ['f_00121']\n",
      "Group 2, clients ['f_00028', 'f_00178', 'f_00168']\n",
      "Group 3, clients ['f_00150', 'f_00109']\n",
      "Group 4, clients ['f_00177', 'f_00196', 'f_00047', 'f_00195', 'f_00136', 'f_00077', 'f_00187', 'f_00166', 'f_00175', 'f_00155', 'f_00167']\n",
      "The groups difference are: [0.0, 0.0006622019575582838, 0.0009042306746784856, 0.0010419661649954115, 0.0009057563685181957]\n"
     ]
    },
    {
     "name": "stderr",
     "output_type": "stream",
     "text": [
      "Epoch:   0%|                                                                                      | 0/5 [00:00<?, ?it/s]"
     ]
    },
    {
     "name": "stdout",
     "output_type": "stream",
     "text": [
      "Group 0\n",
      "At round 20 accuracy: 0.5710627400768246\n",
      "At round 20 training accuracy: 0.58074580300104\n",
      "At round 20 training loss: 1.3283817564072111\n",
      "Group 1\n",
      "At round 20 accuracy: 0.868421052631579\n",
      "At round 20 training accuracy: 0.8504672897196262\n",
      "At round 20 training loss: 0.8037815936381696\n",
      "Group 2\n",
      "At round 20 accuracy: 0.5220125786163522\n",
      "At round 20 training accuracy: 0.526711813393529\n",
      "At round 20 training loss: 1.1436894586698017\n",
      "Group 3\n",
      "At round 20 accuracy: 0.47058823529411764\n",
      "At round 20 training accuracy: 0.48878048780487804\n",
      "At round 20 training loss: 1.346905496682578\n",
      "Group 4\n",
      "At round 20 accuracy: 0.47368421052631576\n",
      "At round 20 training accuracy: 0.4961832061068702\n",
      "At round 20 training loss: 1.54349330487473\n",
      "At round 20 mean test accuracy: 0.5811537634290378 mean train accuracy: 0.5885777200051887\n",
      "Begin group  0 training\n",
      "Begin group  1 training\n"
     ]
    },
    {
     "name": "stderr",
     "output_type": "stream",
     "text": [
      "Epoch:   0%|                                                                                      | 0/5 [00:00<?, ?it/s]"
     ]
    },
    {
     "name": "stdout",
     "output_type": "stream",
     "text": [
      "Begin group  2 training\n",
      "Begin group  3 training\n",
      "Begin group  4 training\n"
     ]
    },
    {
     "name": "stderr",
     "output_type": "stream",
     "text": [
      "                                                                                                                        \r"
     ]
    },
    {
     "name": "stdout",
     "output_type": "stream",
     "text": [
      "Group 0, clients ['f_00144', 'f_00052', 'f_00183', 'f_00042', 'f_00152', 'f_00124', 'f_00092', 'f_00013']\n",
      "Group 1, clients ['f_00091', 'f_00021', 'f_00101']\n",
      "Group 2 is empty.\n",
      "Group 3, clients ['f_00009', 'f_00020', 'f_00129']\n",
      "Group 4, clients ['f_00017', 'f_00045', 'f_00006', 'f_00105', 'f_00145', 'f_00087']\n",
      "The groups difference are: [0.0, 0.0009943296381096367, 0.0008713797529230627, 0.0008327582791527455, 0.0008883287258469874]\n"
     ]
    },
    {
     "name": "stderr",
     "output_type": "stream",
     "text": [
      "                                                                                                                        "
     ]
    },
    {
     "name": "stdout",
     "output_type": "stream",
     "text": [
      "Group 0\n",
      "At round 21 accuracy: 0.6197183098591549\n",
      "At round 21 training accuracy: 0.6109047689793493\n",
      "At round 21 training loss: 1.3416127098508124\n",
      "Group 1\n",
      "At round 21 accuracy: 0.7719298245614035\n",
      "At round 21 training accuracy: 0.7570093457943925\n",
      "At round 21 training loss: 0.7841847209049039\n",
      "Group 3\n",
      "At round 21 accuracy: 0.5070028011204482\n",
      "At round 21 training accuracy: 0.5252032520325203\n",
      "At round 21 training loss: 1.163451089742707\n",
      "Group 4\n",
      "At round 21 accuracy: 0.49122807017543857\n",
      "At round 21 training accuracy: 0.5126069858894287\n",
      "At round 21 training loss: 1.554652406583085\n",
      "At round 21 mean test accuracy: 0.5974697514291112 mean train accuracy: 0.6014310881739227\n",
      "Begin group  0 training\n"
     ]
    },
    {
     "name": "stderr",
     "output_type": "stream",
     "text": [
      "Epoch:   0%|                                                                                      | 0/5 [00:00<?, ?it/s]"
     ]
    },
    {
     "name": "stdout",
     "output_type": "stream",
     "text": [
      "Begin group  1 training\n",
      "Begin group  3 training\n"
     ]
    },
    {
     "name": "stderr",
     "output_type": "stream",
     "text": [
      "Epoch:   0%|                                                                                      | 0/5 [00:00<?, ?it/s]"
     ]
    },
    {
     "name": "stdout",
     "output_type": "stream",
     "text": [
      "Begin group  4 training\n"
     ]
    },
    {
     "name": "stderr",
     "output_type": "stream",
     "text": [
      "                                                                                                                        \r"
     ]
    },
    {
     "name": "stdout",
     "output_type": "stream",
     "text": [
      "Group 0, clients ['f_00144', 'f_00032', 'f_00163', 'f_00124', 'f_00104', 'f_00012']\n",
      "Group 1, clients ['f_00091']\n",
      "Group 2, clients ['f_00098', 'f_00078', 'f_00128']\n",
      "Group 3, clients ['f_00170', 'f_00189', 'f_00020']\n",
      "Group 4, clients ['f_00157', 'f_00075', 'f_00176', 'f_00087', 'f_00046', 'f_00036', 'f_00135']\n",
      "The groups difference are: [0.0, 0.0007518895008792326, 0.0007149114179378913, 0.00091122128304999, 0.0011136932570111613]\n"
     ]
    },
    {
     "name": "stderr",
     "output_type": "stream",
     "text": [
      "Epoch:   0%|                                                                                      | 0/5 [00:00<?, ?it/s]"
     ]
    },
    {
     "name": "stdout",
     "output_type": "stream",
     "text": [
      "Group 0\n",
      "At round 22 accuracy: 0.5556978233034571\n",
      "At round 22 training accuracy: 0.5623235774773436\n",
      "At round 22 training loss: 1.3368855085367257\n",
      "Group 1\n",
      "At round 22 accuracy: 0.8859649122807017\n",
      "At round 22 training accuracy: 0.8795430944963655\n",
      "At round 22 training loss: 0.7702664084895007\n",
      "Group 2\n",
      "At round 22 accuracy: 0.660377358490566\n",
      "At round 22 training accuracy: 0.708051166290444\n",
      "At round 22 training loss: 1.232221249802118\n",
      "Group 3\n",
      "At round 22 accuracy: 0.4649859943977591\n",
      "At round 22 training accuracy: 0.47544715447154473\n",
      "At round 22 training loss: 1.1912488849376275\n",
      "Group 4\n",
      "At round 22 accuracy: 0.5029239766081871\n",
      "At round 22 training accuracy: 0.5186213277816332\n",
      "At round 22 training loss: 1.5433533952629404\n",
      "At round 22 mean test accuracy: 0.6139900130161342 mean train accuracy: 0.6287972641034663\n",
      "Begin group  0 training\n"
     ]
    },
    {
     "name": "stderr",
     "output_type": "stream",
     "text": [
      "Epoch:   0%|                                                                                      | 0/5 [00:00<?, ?it/s]"
     ]
    },
    {
     "name": "stdout",
     "output_type": "stream",
     "text": [
      "Begin group  1 training\n",
      "Begin group  2 training\n"
     ]
    },
    {
     "name": "stderr",
     "output_type": "stream",
     "text": [
      "Epoch:   0%|                                                                                      | 0/5 [00:00<?, ?it/s]"
     ]
    },
    {
     "name": "stdout",
     "output_type": "stream",
     "text": [
      "Begin group  3 training\n",
      "Begin group  4 training\n"
     ]
    },
    {
     "name": "stderr",
     "output_type": "stream",
     "text": [
      "                                                                                                                        \r"
     ]
    },
    {
     "name": "stdout",
     "output_type": "stream",
     "text": [
      "Group 0, clients ['f_00072', 'f_00014', 'f_00174', 'f_00024', 'f_00092']\n",
      "Group 1, clients ['f_00081', 'f_00191']\n",
      "Group 2, clients ['f_00188', 'f_00097', 'f_00198']\n",
      "Group 3, clients ['f_00030', 'f_00119', 'f_00019', 'f_00199', 'f_00140']\n",
      "Group 4, clients ['f_00077', 'f_00185', 'f_00075', 'f_00046', 'f_00157']\n",
      "The groups difference are: [2.220446049250313e-16, 0.0011477649494895381, 0.0013058043786784435, 0.0010356957911406006, 0.0009822142432487357]\n"
     ]
    },
    {
     "name": "stderr",
     "output_type": "stream",
     "text": [
      "Epoch:   0%|                                                                                      | 0/5 [00:00<?, ?it/s]"
     ]
    },
    {
     "name": "stdout",
     "output_type": "stream",
     "text": [
      "Group 0\n",
      "At round 23 accuracy: 0.4801536491677337\n",
      "At round 23 training accuracy: 0.46768682216609714\n",
      "At round 23 training loss: 1.5648894185138624\n",
      "Group 1\n",
      "At round 23 accuracy: 0.5789473684210527\n",
      "At round 23 training accuracy: 0.5939771547248183\n",
      "At round 23 training loss: 0.8517876001904686\n",
      "Group 2\n",
      "At round 23 accuracy: 0.4088050314465409\n",
      "At round 23 training accuracy: 0.4108352144469526\n",
      "At round 23 training loss: 1.0431789836549867\n",
      "Group 3\n",
      "At round 23 accuracy: 0.6106442577030813\n",
      "At round 23 training accuracy: 0.6182113821138211\n",
      "At round 23 training loss: 1.1779326399748888\n",
      "Group 4\n",
      "At round 23 accuracy: 0.43859649122807015\n",
      "At round 23 training accuracy: 0.4607911172796669\n",
      "At round 23 training loss: 1.4388302857473771\n",
      "At round 23 mean test accuracy: 0.5034293595932957 mean train accuracy: 0.5103003381462712\n",
      "Begin group  0 training\n"
     ]
    },
    {
     "name": "stderr",
     "output_type": "stream",
     "text": [
      "Epoch:   0%|                                                                                      | 0/5 [00:00<?, ?it/s]"
     ]
    },
    {
     "name": "stdout",
     "output_type": "stream",
     "text": [
      "Begin group  1 training\n",
      "Begin group  2 training\n",
      "Begin group  3 training\n"
     ]
    },
    {
     "name": "stderr",
     "output_type": "stream",
     "text": [
      "Epoch:   0%|                                                                                      | 0/5 [00:00<?, ?it/s]"
     ]
    },
    {
     "name": "stdout",
     "output_type": "stream",
     "text": [
      "Begin group  4 training\n"
     ]
    },
    {
     "name": "stderr",
     "output_type": "stream",
     "text": [
      "                                                                                                                        \r"
     ]
    },
    {
     "name": "stdout",
     "output_type": "stream",
     "text": [
      "Group 0, clients ['f_00142', 'f_00072', 'f_00014', 'f_00144', 'f_00102', 'f_00054']\n",
      "Group 1, clients ['f_00101', 'f_00091']\n",
      "Group 2, clients ['f_00048']\n",
      "Group 3, clients ['f_00109', 'f_00029', 'f_00190', 'f_00159', 'f_00069', 'f_00000']\n",
      "Group 4, clients ['f_00197', 'f_00125', 'f_00196', 'f_00025', 'f_00026']\n",
      "The groups difference are: [0.0, 0.000699496482912676, 0.0009229412580458174, 0.000979010142479253, 0.0007043369865363802]\n"
     ]
    },
    {
     "name": "stderr",
     "output_type": "stream",
     "text": [
      "Epoch:   0%|                                                                                      | 0/5 [00:00<?, ?it/s]"
     ]
    },
    {
     "name": "stdout",
     "output_type": "stream",
     "text": [
      "Group 0\n",
      "At round 24 accuracy: 0.6017925736235595\n",
      "At round 24 training accuracy: 0.5999108601990789\n",
      "At round 24 training loss: 1.3696351778523173\n",
      "Group 1\n",
      "At round 24 accuracy: 0.8333333333333334\n",
      "At round 24 training accuracy: 0.8359293873312564\n",
      "At round 24 training loss: 0.7910939758935573\n",
      "Group 2\n",
      "At round 24 accuracy: 0.710691823899371\n",
      "At round 24 training accuracy: 0.7057938299473289\n",
      "At round 24 training loss: 1.0264778546232134\n",
      "Group 3\n",
      "At round 24 accuracy: 0.6554621848739496\n",
      "At round 24 training accuracy: 0.625040650406504\n",
      "At round 24 training loss: 1.2592201292999392\n",
      "Group 4\n",
      "At round 24 accuracy: 0.3664717348927875\n",
      "At round 24 training accuracy: 0.38676844783715014\n",
      "At round 24 training loss: 1.4162687741301\n",
      "At round 24 mean test accuracy: 0.6335503301246003 mean train accuracy: 0.6306886351442638\n",
      "Begin group  0 training\n"
     ]
    },
    {
     "name": "stderr",
     "output_type": "stream",
     "text": [
      "Epoch:   0%|                                                                                      | 0/5 [00:00<?, ?it/s]"
     ]
    },
    {
     "name": "stdout",
     "output_type": "stream",
     "text": [
      "Begin group  1 training\n",
      "Begin group  2 training\n",
      "Begin group  3 training\n"
     ]
    },
    {
     "name": "stderr",
     "output_type": "stream",
     "text": [
      "Epoch:   0%|                                                                                      | 0/5 [00:00<?, ?it/s]"
     ]
    },
    {
     "name": "stdout",
     "output_type": "stream",
     "text": [
      "Begin group  4 training\n"
     ]
    },
    {
     "name": "stderr",
     "output_type": "stream",
     "text": [
      "                                                                                                                        \r"
     ]
    },
    {
     "name": "stdout",
     "output_type": "stream",
     "text": [
      "Group 0, clients ['f_00082', 'f_00193', 'f_00103', 'f_00102', 'f_00122']\n",
      "Group 1, clients ['f_00101', 'f_00111', 'f_00081']\n",
      "Group 2, clients ['f_00148', 'f_00068', 'f_00169', 'f_00097']\n",
      "Group 3, clients ['f_00069', 'f_00040', 'f_00120']\n",
      "Group 4, clients ['f_00135', 'f_00126', 'f_00035', 'f_00176', 'f_00117']\n",
      "The groups difference are: [0.0, 0.00066055037718038, 0.0009309947133298024, 0.0009740901553210168, 0.0009115824618759483]\n"
     ]
    },
    {
     "name": "stderr",
     "output_type": "stream",
     "text": [
      "Epoch:   0%|                                                                                      | 0/5 [00:00<?, ?it/s]"
     ]
    },
    {
     "name": "stdout",
     "output_type": "stream",
     "text": [
      "Group 0\n",
      "At round 25 accuracy: 0.5070422535211268\n",
      "At round 25 training accuracy: 0.5121081562917843\n",
      "At round 25 training loss: 1.3372201170667712\n",
      "Group 1\n",
      "At round 25 accuracy: 0.7192982456140351\n",
      "At round 25 training accuracy: 0.7684319833852544\n",
      "At round 25 training loss: 0.7806863031530925\n",
      "Group 2\n",
      "At round 25 accuracy: 0.7924528301886793\n",
      "At round 25 training accuracy: 0.7659894657637322\n",
      "At round 25 training loss: 1.0387497168900466\n",
      "Group 3\n",
      "At round 25 accuracy: 0.5994397759103641\n",
      "At round 25 training accuracy: 0.6048780487804878\n",
      "At round 25 training loss: 1.1561236348772437\n",
      "Group 4\n",
      "At round 25 accuracy: 0.391812865497076\n",
      "At round 25 training accuracy: 0.41013185287994447\n",
      "At round 25 training loss: 1.4179343712321593\n",
      "At round 25 mean test accuracy: 0.6020091941462563 mean train accuracy: 0.6123079014202407\n",
      "Begin group  0 training\n"
     ]
    },
    {
     "name": "stderr",
     "output_type": "stream",
     "text": [
      "Epoch:   0%|                                                                                      | 0/5 [00:00<?, ?it/s]"
     ]
    },
    {
     "name": "stdout",
     "output_type": "stream",
     "text": [
      "Begin group  1 training\n",
      "Begin group  2 training\n"
     ]
    },
    {
     "name": "stderr",
     "output_type": "stream",
     "text": [
      "Epoch:   0%|                                                                                      | 0/5 [00:00<?, ?it/s]"
     ]
    },
    {
     "name": "stdout",
     "output_type": "stream",
     "text": [
      "Begin group  3 training\n",
      "Begin group  4 training\n"
     ]
    },
    {
     "name": "stderr",
     "output_type": "stream",
     "text": [
      "                                                                                                                        \r"
     ]
    },
    {
     "name": "stdout",
     "output_type": "stream",
     "text": [
      "Group 0, clients ['f_00153', 'f_00163', 'f_00124', 'f_00042', 'f_00174']\n",
      "Group 1 is empty.\n",
      "Group 2, clients ['f_00188', 'f_00108', 'f_00118', 'f_00168']\n",
      "Group 3, clients ['f_00109', 'f_00030', 'f_00050', 'f_00129']\n",
      "Group 4, clients ['f_00025', 'f_00196', 'f_00167', 'f_00137', 'f_00136', 'f_00116', 'f_00186']\n",
      "The groups difference are: [1.1102230246251565e-16, 0.0005563902088592254, 0.0012891520237743315, 0.0011183160932437541, 0.0012801312426142797]\n"
     ]
    },
    {
     "name": "stderr",
     "output_type": "stream",
     "text": [
      "Epoch:   0%|                                                                                      | 0/5 [00:00<?, ?it/s]"
     ]
    },
    {
     "name": "stdout",
     "output_type": "stream",
     "text": [
      "Group 0\n",
      "At round 26 accuracy: 0.5749039692701664\n",
      "At round 26 training accuracy: 0.5755459812806418\n",
      "At round 26 training loss: 1.5886906412518798\n",
      "Group 2\n",
      "At round 26 accuracy: 0.33962264150943394\n",
      "At round 26 training accuracy: 0.35214446952595935\n",
      "At round 26 training loss: 1.204412386953786\n",
      "Group 3\n",
      "At round 26 accuracy: 0.6162464985994398\n",
      "At round 26 training accuracy: 0.6178861788617886\n",
      "At round 26 training loss: 1.0846795172032302\n",
      "Group 4\n",
      "At round 26 accuracy: 0.4074074074074074\n",
      "At round 26 training accuracy: 0.4226231783483692\n",
      "At round 26 training loss: 1.5228931973605362\n",
      "At round 26 mean test accuracy: 0.4845451291966119 mean train accuracy: 0.4920499520041898\n",
      "Begin group  0 training\n"
     ]
    },
    {
     "name": "stderr",
     "output_type": "stream",
     "text": [
      "Epoch:  80%|██████████████████████████████████████████████████████████████▍               | 4/5 [00:00<00:00, 39.38it/s]"
     ]
    },
    {
     "name": "stdout",
     "output_type": "stream",
     "text": [
      "Begin group  2 training\n"
     ]
    },
    {
     "name": "stderr",
     "output_type": "stream",
     "text": [
      "Epoch:   0%|                                                                                      | 0/5 [00:00<?, ?it/s]"
     ]
    },
    {
     "name": "stdout",
     "output_type": "stream",
     "text": [
      "Begin group  3 training\n",
      "Begin group  4 training\n"
     ]
    },
    {
     "name": "stderr",
     "output_type": "stream",
     "text": [
      "                                                                                                                        \r"
     ]
    },
    {
     "name": "stdout",
     "output_type": "stream",
     "text": [
      "Group 0, clients ['f_00103', 'f_00074', 'f_00162', 'f_00173', 'f_00012']\n",
      "Group 1, clients ['f_00101']\n",
      "Group 2, clients ['f_00048', 'f_00148', 'f_00068', 'f_00078', 'f_00058']\n",
      "Group 3, clients ['f_00040', 'f_00109', 'f_00139', 'f_00009', 'f_00090']\n",
      "Group 4, clients ['f_00185', 'f_00197', 'f_00165', 'f_00095']\n",
      "The groups difference are: [1.1102230246251565e-16, 0.000559231549483008, 0.0013050063670370093, 0.0009226033265036238, 0.0008437055569808782]\n"
     ]
    },
    {
     "name": "stderr",
     "output_type": "stream",
     "text": [
      "Epoch:   0%|                                                                                      | 0/5 [00:00<?, ?it/s]"
     ]
    },
    {
     "name": "stdout",
     "output_type": "stream",
     "text": [
      "Group 0\n",
      "At round 27 accuracy: 0.586427656850192\n",
      "At round 27 training accuracy: 0.5782201753082752\n",
      "At round 27 training loss: 1.381697892947885\n",
      "Group 1\n",
      "At round 27 accuracy: 0.8859649122807017\n",
      "At round 27 training accuracy: 0.8712357217030114\n",
      "At round 27 training loss: 0.9325807362578244\n",
      "Group 2\n",
      "At round 27 accuracy: 0.710691823899371\n",
      "At round 27 training accuracy: 0.7298720842738902\n",
      "At round 27 training loss: 0.951313176354221\n",
      "Group 3\n",
      "At round 27 accuracy: 0.6554621848739496\n",
      "At round 27 training accuracy: 0.6331707317073171\n",
      "At round 27 training loss: 1.1784283898128727\n",
      "Group 4\n",
      "At round 27 accuracy: 0.5263157894736842\n",
      "At round 27 training accuracy: 0.5528568123987971\n",
      "At round 27 training loss: 1.4147346001958616\n",
      "At round 27 mean test accuracy: 0.6729724734755796 mean train accuracy: 0.6730711050782582\n",
      "Begin group  0 training\n",
      "Begin group  1 training\n"
     ]
    },
    {
     "name": "stderr",
     "output_type": "stream",
     "text": [
      "Epoch:   0%|                                                                                      | 0/5 [00:00<?, ?it/s]"
     ]
    },
    {
     "name": "stdout",
     "output_type": "stream",
     "text": [
      "Begin group  2 training\n",
      "Begin group  3 training\n"
     ]
    },
    {
     "name": "stderr",
     "output_type": "stream",
     "text": [
      "                                                                                                                        \r"
     ]
    },
    {
     "name": "stdout",
     "output_type": "stream",
     "text": [
      "Begin group  4 training\n",
      "Group 0, clients ['f_00024', 'f_00073', 'f_00134', 'f_00164']\n",
      "Group 1, clients ['f_00051']\n",
      "Group 2, clients ['f_00168', 'f_00128', 'f_00059', 'f_00098']\n",
      "Group 3, clients ['f_00170', 'f_00099', 'f_00069']\n",
      "Group 4, clients ['f_00067', 'f_00065', 'f_00061', 'f_00187', 'f_00127', 'f_00075', 'f_00126', 'f_00177']\n",
      "The groups difference are: [0.0, 0.0004740991185722132, 0.0009985723047161166, 0.0008133051394997315, 0.00061744336528613]\n"
     ]
    },
    {
     "name": "stderr",
     "output_type": "stream",
     "text": [
      "Epoch:   0%|                                                                                      | 0/5 [00:00<?, ?it/s]"
     ]
    },
    {
     "name": "stdout",
     "output_type": "stream",
     "text": [
      "Group 0\n",
      "At round 28 accuracy: 0.5941101152368758\n",
      "At round 28 training accuracy: 0.5785173079780122\n",
      "At round 28 training loss: 1.2879195737902502\n",
      "Group 1\n",
      "At round 28 accuracy: 0.7719298245614035\n",
      "At round 28 training accuracy: 0.794392523364486\n",
      "At round 28 training loss: 0.8362067664895102\n",
      "Group 2\n",
      "At round 28 accuracy: 0.6918238993710691\n",
      "At round 28 training accuracy: 0.7065462753950339\n",
      "At round 28 training loss: 0.9645427868633543\n",
      "Group 3\n",
      "At round 28 accuracy: 0.6246498599439776\n",
      "At round 28 training accuracy: 0.6276422764227643\n",
      "At round 28 training loss: 1.0892546991991803\n",
      "Group 4\n",
      "At round 28 accuracy: 0.44639376218323584\n",
      "At round 28 training accuracy: 0.4531575294934074\n",
      "At round 28 training loss: 1.4052371495359617\n",
      "At round 28 mean test accuracy: 0.6257814922593125 mean train accuracy: 0.6320511825307409\n",
      "Begin group  0 training\n"
     ]
    },
    {
     "name": "stderr",
     "output_type": "stream",
     "text": [
      "Epoch:   0%|                                                                                      | 0/5 [00:00<?, ?it/s]"
     ]
    },
    {
     "name": "stdout",
     "output_type": "stream",
     "text": [
      "Begin group  1 training\n",
      "Begin group  2 training\n"
     ]
    },
    {
     "name": "stderr",
     "output_type": "stream",
     "text": [
      "Epoch:   0%|                                                                                      | 0/5 [00:00<?, ?it/s]"
     ]
    },
    {
     "name": "stdout",
     "output_type": "stream",
     "text": [
      "Begin group  3 training\n",
      "Begin group  4 training\n"
     ]
    },
    {
     "name": "stderr",
     "output_type": "stream",
     "text": [
      "                                                                                                                        \r"
     ]
    },
    {
     "name": "stdout",
     "output_type": "stream",
     "text": [
      "Group 0, clients ['f_00183', 'f_00053', 'f_00063']\n",
      "Group 1, clients ['f_00141', 'f_00101']\n",
      "Group 2, clients ['f_00088', 'f_00008', 'f_00138', 'f_00198', 'f_00128']\n",
      "Group 3, clients ['f_00119']\n",
      "Group 4, clients ['f_00145', 'f_00197', 'f_00075', 'f_00061', 'f_00135', 'f_00027', 'f_00165', 'f_00126', 'f_00161']\n",
      "The groups difference are: [0.0, 0.0011012112506353366, 0.0017124775968868633, 0.0013485077726033134, 0.0012653790258974063]\n"
     ]
    },
    {
     "name": "stderr",
     "output_type": "stream",
     "text": [
      "Epoch:  60%|██████████████████████████████████████████████▊                               | 3/5 [00:00<00:00, 21.91it/s]"
     ]
    },
    {
     "name": "stdout",
     "output_type": "stream",
     "text": [
      "Group 0\n",
      "At round 29 accuracy: 0.33418693982074266\n",
      "At round 29 training accuracy: 0.304115287475858\n",
      "At round 29 training loss: 1.8688335970914163\n",
      "Group 1\n",
      "At round 29 accuracy: 0.8859649122807017\n",
      "At round 29 training accuracy: 0.8639667705088265\n",
      "At round 29 training loss: 0.8238676827892213\n",
      "Group 2\n",
      "At round 29 accuracy: 0.7672955974842768\n",
      "At round 29 training accuracy: 0.744168547780286\n",
      "At round 29 training loss: 0.9155757376535931\n",
      "Group 3\n",
      "At round 29 accuracy: 0.680672268907563\n",
      "At round 29 training accuracy: 0.6608130081300813\n",
      "At round 29 training loss: 1.27415363517234\n",
      "Group 4\n",
      "At round 29 accuracy: 0.5380116959064327\n",
      "At round 29 training accuracy: 0.5512375665047421\n",
      "At round 29 training loss: 1.5953225883763613\n",
      "At round 29 mean test accuracy: 0.6412262828799435 mean train accuracy: 0.6248602360799588\n",
      "Begin group  0 training\n"
     ]
    },
    {
     "name": "stderr",
     "output_type": "stream",
     "text": [
      "Epoch:   0%|                                                                                      | 0/5 [00:00<?, ?it/s]"
     ]
    },
    {
     "name": "stdout",
     "output_type": "stream",
     "text": [
      "Begin group  1 training\n",
      "Begin group  2 training\n",
      "Begin group  3 training\n"
     ]
    },
    {
     "name": "stderr",
     "output_type": "stream",
     "text": [
      "Epoch:   0%|                                                                                      | 0/5 [00:00<?, ?it/s]"
     ]
    },
    {
     "name": "stdout",
     "output_type": "stream",
     "text": [
      "Begin group  4 training\n"
     ]
    },
    {
     "name": "stderr",
     "output_type": "stream",
     "text": [
      "                                                                                                                        \r"
     ]
    },
    {
     "name": "stdout",
     "output_type": "stream",
     "text": [
      "Group 0, clients ['f_00143', 'f_00124', 'f_00024', 'f_00142', 'f_00072', 'f_00184', 'f_00063', 'f_00093', 'f_00183']\n",
      "Group 1, clients ['f_00081', 'f_00171', 'f_00021', 'f_00111']\n",
      "Group 2, clients ['f_00097']\n",
      "Group 3, clients ['f_00150', 'f_00129']\n",
      "Group 4, clients ['f_00026', 'f_00126', 'f_00067', 'f_00106']\n",
      "The groups difference are: [0.0, 0.0011978008223401115, 0.0017248379886228848, 0.0017362098894156963, 0.0013554854846313802]\n"
     ]
    },
    {
     "name": "stderr",
     "output_type": "stream",
     "text": [
      "Epoch:   0%|                                                                                      | 0/5 [00:00<?, ?it/s]"
     ]
    },
    {
     "name": "stdout",
     "output_type": "stream",
     "text": [
      "Group 0\n",
      "At round 30 accuracy: 0.6811779769526248\n",
      "At round 30 training accuracy: 0.6654286138760956\n",
      "At round 30 training loss: 1.641725579788348\n",
      "Group 1\n",
      "At round 30 accuracy: 0.8859649122807017\n",
      "At round 30 training accuracy: 0.897196261682243\n",
      "At round 30 training loss: 0.8303963656489847\n",
      "Group 2\n",
      "At round 30 accuracy: 0.8490566037735849\n",
      "At round 30 training accuracy: 0.8337095560571859\n",
      "At round 30 training loss: 0.9307134421451186\n",
      "Group 3\n",
      "At round 30 accuracy: 0.6106442577030813\n",
      "At round 30 training accuracy: 0.5700813008130081\n",
      "At round 30 training loss: 1.519069694251549\n",
      "Group 4\n",
      "At round 30 accuracy: 0.5087719298245614\n",
      "At round 30 training accuracy: 0.5234790654637983\n",
      "At round 30 training loss: 1.4661751183100165\n",
      "At round 30 mean test accuracy: 0.7071231361069109 mean train accuracy: 0.6979789595784663\n",
      "Begin group  0 training\n"
     ]
    },
    {
     "name": "stderr",
     "output_type": "stream",
     "text": [
      "Epoch:   0%|                                                                                      | 0/5 [00:00<?, ?it/s]"
     ]
    },
    {
     "name": "stdout",
     "output_type": "stream",
     "text": [
      "Begin group  1 training\n",
      "Begin group  2 training\n",
      "Begin group  3 training\n"
     ]
    },
    {
     "name": "stderr",
     "output_type": "stream",
     "text": [
      "Epoch:   0%|                                                                                      | 0/5 [00:00<?, ?it/s]"
     ]
    },
    {
     "name": "stdout",
     "output_type": "stream",
     "text": [
      "Begin group  4 training\n"
     ]
    },
    {
     "name": "stderr",
     "output_type": "stream",
     "text": [
      "                                                                                                                        \r"
     ]
    },
    {
     "name": "stdout",
     "output_type": "stream",
     "text": [
      "Group 0, clients ['f_00102', 'f_00043']\n",
      "Group 1, clients ['f_00041']\n",
      "Group 2, clients ['f_00148', 'f_00008', 'f_00169', 'f_00118']\n",
      "Group 3, clients ['f_00079', 'f_00179', 'f_00139', 'f_00189', 'f_00010']\n",
      "Group 4, clients ['f_00137', 'f_00147', 'f_00056', 'f_00055', 'f_00045', 'f_00017', 'f_00157', 'f_00096']\n",
      "The groups difference are: [2.220446049250313e-16, 0.0008435713587737759, 0.0011150539126777437, 0.0011062239481824943, 0.0014694820124807606]\n"
     ]
    },
    {
     "name": "stderr",
     "output_type": "stream",
     "text": [
      "                                                                                                                        "
     ]
    },
    {
     "name": "stdout",
     "output_type": "stream",
     "text": [
      "Group 0\n",
      "At round 31 accuracy: 0.6235595390524968\n",
      "At round 31 training accuracy: 0.6021393552221067\n",
      "At round 31 training loss: 1.3424569250056373\n",
      "Group 1\n",
      "At round 31 accuracy: 0.8771929824561403\n",
      "At round 31 training accuracy: 0.877466251298027\n",
      "At round 31 training loss: 0.8115973535727861\n",
      "Group 2\n",
      "At round 31 accuracy: 0.06918238993710692\n",
      "At round 31 training accuracy: 0.07900677200902935\n",
      "At round 31 training loss: 1.889761246309144\n",
      "Group 3\n",
      "At round 31 accuracy: 0.6666666666666666\n",
      "At round 31 training accuracy: 0.672520325203252\n",
      "At round 31 training loss: 1.3067338263310069\n",
      "Group 4\n",
      "At round 31 accuracy: 0.5516569200779727\n",
      "At round 31 training accuracy: 0.5597964376590331\n",
      "At round 31 training loss: 1.774657280004441\n",
      "At round 31 mean test accuracy: 0.5576516996380767 mean train accuracy: 0.5581858282782897\n",
      "Begin group  0 training\n",
      "Begin group  1 training\n",
      "Begin group  2 training\n"
     ]
    },
    {
     "name": "stderr",
     "output_type": "stream",
     "text": [
      "Epoch:   0%|                                                                                      | 0/5 [00:00<?, ?it/s]"
     ]
    },
    {
     "name": "stdout",
     "output_type": "stream",
     "text": [
      "Begin group  3 training\n"
     ]
    },
    {
     "name": "stderr",
     "output_type": "stream",
     "text": [
      "Epoch:   0%|                                                                                      | 0/5 [00:00<?, ?it/s]"
     ]
    },
    {
     "name": "stdout",
     "output_type": "stream",
     "text": [
      "Begin group  4 training\n"
     ]
    },
    {
     "name": "stderr",
     "output_type": "stream",
     "text": [
      "                                                                                                                        \r"
     ]
    },
    {
     "name": "stdout",
     "output_type": "stream",
     "text": [
      "Group 0, clients ['f_00122', 'f_00144', 'f_00182', 'f_00023', 'f_00002', 'f_00173']\n",
      "Group 1, clients ['f_00101', 'f_00121', 'f_00181']\n",
      "Group 2, clients ['f_00028', 'f_00118']\n",
      "Group 3, clients ['f_00029', 'f_00039', 'f_00109']\n",
      "Group 4, clients ['f_00186', 'f_00167', 'f_00075', 'f_00027', 'f_00107', 'f_00017']\n",
      "The groups difference are: [0.0, 0.0006442549822669452, 0.0015855835247395866, 0.0012598269761538994, 0.0013652884400363607]\n"
     ]
    },
    {
     "name": "stderr",
     "output_type": "stream",
     "text": [
      "Epoch:   0%|                                                                                      | 0/5 [00:00<?, ?it/s]"
     ]
    },
    {
     "name": "stdout",
     "output_type": "stream",
     "text": [
      "Group 0\n",
      "At round 32 accuracy: 0.4558258642765685\n",
      "At round 32 training accuracy: 0.45817857673451196\n",
      "At round 32 training loss: 1.6028713579872815\n",
      "Group 1\n",
      "At round 32 accuracy: 0.5175438596491229\n",
      "At round 32 training accuracy: 0.5524402907580478\n",
      "At round 32 training loss: 0.8853948441868879\n",
      "Group 2\n",
      "At round 32 accuracy: 0.4025157232704403\n",
      "At round 32 training accuracy: 0.40632054176072235\n",
      "At round 32 training loss: 1.0938661083679975\n",
      "Group 3\n",
      "At round 32 accuracy: 0.6190476190476191\n",
      "At round 32 training accuracy: 0.6107317073170732\n",
      "At round 32 training loss: 1.1226514667030272\n",
      "Group 4\n",
      "At round 32 accuracy: 0.5087719298245614\n",
      "At round 32 training accuracy: 0.535970390932223\n",
      "At round 32 training loss: 1.4454239734394418\n",
      "At round 32 mean test accuracy: 0.5007409992136624 mean train accuracy: 0.5127283015005157\n",
      "Begin group  0 training\n"
     ]
    },
    {
     "name": "stderr",
     "output_type": "stream",
     "text": [
      "Epoch:   0%|                                                                                      | 0/5 [00:00<?, ?it/s]"
     ]
    },
    {
     "name": "stdout",
     "output_type": "stream",
     "text": [
      "Begin group  1 training\n",
      "Begin group  2 training\n"
     ]
    },
    {
     "name": "stderr",
     "output_type": "stream",
     "text": [
      "Epoch:   0%|                                                                                      | 0/5 [00:00<?, ?it/s]"
     ]
    },
    {
     "name": "stdout",
     "output_type": "stream",
     "text": [
      "Begin group  3 training\n",
      "Begin group  4 training\n"
     ]
    },
    {
     "name": "stderr",
     "output_type": "stream",
     "text": [
      "                                                                                                                        \r"
     ]
    },
    {
     "name": "stdout",
     "output_type": "stream",
     "text": [
      "Group 0, clients ['f_00103', 'f_00162', 'f_00054']\n",
      "Group 1, clients ['f_00171', 'f_00081']\n",
      "Group 2, clients ['f_00008', 'f_00118', 'f_00038']\n",
      "Group 3, clients ['f_00119', 'f_00100', 'f_00109', 'f_00029', 'f_00149', 'f_00189']\n",
      "Group 4, clients ['f_00015', 'f_00116', 'f_00017', 'f_00117', 'f_00126', 'f_00085']\n",
      "The groups difference are: [0.0, 0.000627498258959136, 0.0016255577435977386, 0.0011626245400107038, 0.0011367966095570115]\n"
     ]
    },
    {
     "name": "stderr",
     "output_type": "stream",
     "text": [
      "Epoch:   0%|                                                                                      | 0/5 [00:00<?, ?it/s]"
     ]
    },
    {
     "name": "stdout",
     "output_type": "stream",
     "text": [
      "Group 0\n",
      "At round 33 accuracy: 0.5787451984635084\n",
      "At round 33 training accuracy: 0.5938196404694697\n",
      "At round 33 training loss: 1.3809732505283745\n",
      "Group 1\n",
      "At round 33 accuracy: 0.7894736842105263\n",
      "At round 33 training accuracy: 0.822429906542056\n",
      "At round 33 training loss: 0.7132286654083156\n",
      "Group 2\n",
      "At round 33 accuracy: 0.389937106918239\n",
      "At round 33 training accuracy: 0.43340857787810383\n",
      "At round 33 training loss: 1.0462447486487074\n",
      "Group 3\n",
      "At round 33 accuracy: 0.6162464985994398\n",
      "At round 33 training accuracy: 0.6133333333333333\n",
      "At round 33 training loss: 1.3381011815575081\n",
      "Group 4\n",
      "At round 33 accuracy: 0.47368421052631576\n",
      "At round 33 training accuracy: 0.4954892435808466\n",
      "At round 33 training loss: 1.4032206335554183\n",
      "At round 33 mean test accuracy: 0.5696173397436058 mean train accuracy: 0.5916961403607619\n",
      "Begin group  0 training\n",
      "Begin group  1 training\n",
      "Begin group  2 training\n"
     ]
    },
    {
     "name": "stderr",
     "output_type": "stream",
     "text": [
      "Epoch:   0%|                                                                                      | 0/5 [00:00<?, ?it/s]"
     ]
    },
    {
     "name": "stdout",
     "output_type": "stream",
     "text": [
      "Begin group  3 training\n"
     ]
    },
    {
     "name": "stderr",
     "output_type": "stream",
     "text": [
      "                                                                                                                        "
     ]
    },
    {
     "name": "stdout",
     "output_type": "stream",
     "text": [
      "Begin group  4 training\n"
     ]
    },
    {
     "name": "stderr",
     "output_type": "stream",
     "text": [
      "\r"
     ]
    },
    {
     "name": "stdout",
     "output_type": "stream",
     "text": [
      "Group 0, clients ['f_00074', 'f_00183', 'f_00142', 'f_00184', 'f_00064', 'f_00003', 'f_00113']\n",
      "Group 1 is empty.\n",
      "Group 2, clients ['f_00169', 'f_00097']\n",
      "Group 3, clients ['f_00010', 'f_00079', 'f_00129', 'f_00180', 'f_00189', 'f_00040']\n",
      "Group 4, clients ['f_00195', 'f_00087', 'f_00166', 'f_00076', 'f_00026']\n",
      "The groups difference are: [2.220446049250313e-16, 0.00048582643642602896, 0.0013222261113802203, 0.0008889979175663587, 0.0007604061778044846]\n"
     ]
    },
    {
     "name": "stderr",
     "output_type": "stream",
     "text": [
      "Epoch:   0%|                                                                                      | 0/5 [00:00<?, ?it/s]"
     ]
    },
    {
     "name": "stdout",
     "output_type": "stream",
     "text": [
      "Group 0\n",
      "At round 34 accuracy: 0.5710627400768246\n",
      "At round 34 training accuracy: 0.5773287772990641\n",
      "At round 34 training loss: 1.2687187431790539\n",
      "Group 2\n",
      "At round 34 accuracy: 0.6729559748427673\n",
      "At round 34 training accuracy: 0.690744920993228\n",
      "At round 34 training loss: 0.9020832523176596\n",
      "Group 3\n",
      "At round 34 accuracy: 0.6414565826330533\n",
      "At round 34 training accuracy: 0.6217886178861789\n",
      "At round 34 training loss: 1.1540862701191166\n",
      "Group 4\n",
      "At round 34 accuracy: 0.4171539961013645\n",
      "At round 34 training accuracy: 0.43141337034466803\n",
      "At round 34 training loss: 1.3384506839473793\n",
      "At round 34 mean test accuracy: 0.5756573234135024 mean train accuracy: 0.5803189216307848\n",
      "Begin group  0 training\n"
     ]
    },
    {
     "name": "stderr",
     "output_type": "stream",
     "text": [
      "Epoch:   0%|                                                                                      | 0/5 [00:00<?, ?it/s]"
     ]
    },
    {
     "name": "stdout",
     "output_type": "stream",
     "text": [
      "Begin group  2 training\n",
      "Begin group  3 training\n"
     ]
    },
    {
     "name": "stderr",
     "output_type": "stream",
     "text": [
      "Epoch:  80%|██████████████████████████████████████████████████████████████▍               | 4/5 [00:00<00:00, 31.44it/s]"
     ]
    },
    {
     "name": "stdout",
     "output_type": "stream",
     "text": [
      "Begin group  4 training\n"
     ]
    },
    {
     "name": "stderr",
     "output_type": "stream",
     "text": [
      "                                                                                                                        \r"
     ]
    },
    {
     "name": "stdout",
     "output_type": "stream",
     "text": [
      "Group 0, clients ['f_00133', 'f_00142', 'f_00154', 'f_00164', 'f_00003', 'f_00043', 'f_00102', 'f_00074']\n",
      "Group 1 is empty.\n",
      "Group 2, clients ['f_00049', 'f_00068', 'f_00028']\n",
      "Group 3, clients ['f_00130', 'f_00010', 'f_00179']\n",
      "Group 4, clients ['f_00136', 'f_00096', 'f_00077', 'f_00127', 'f_00087', 'f_00156']\n",
      "The groups difference are: [0.0, 0.000497620167951851, 0.0008373647298260956, 0.0009608497740105637, 0.0009435595632611982]\n"
     ]
    },
    {
     "name": "stderr",
     "output_type": "stream",
     "text": [
      "Epoch:   0%|                                                                                      | 0/5 [00:00<?, ?it/s]"
     ]
    },
    {
     "name": "stdout",
     "output_type": "stream",
     "text": [
      "Group 0\n",
      "At round 35 accuracy: 0.5556978233034571\n",
      "At round 35 training accuracy: 0.5496954390135196\n",
      "At round 35 training loss: 1.4126050754741792\n",
      "Group 2\n",
      "At round 35 accuracy: 0.5723270440251572\n",
      "At round 35 training accuracy: 0.5696012039127163\n",
      "At round 35 training loss: 1.072098043110247\n",
      "Group 3\n",
      "At round 35 accuracy: 0.6330532212885154\n",
      "At round 35 training accuracy: 0.6364227642276423\n",
      "At round 35 training loss: 1.0358661399042703\n",
      "Group 4\n",
      "At round 35 accuracy: 0.5009746588693957\n",
      "At round 35 training accuracy: 0.5227851029377747\n",
      "At round 35 training loss: 1.4674593550778914\n",
      "At round 35 mean test accuracy: 0.5655131868716313 mean train accuracy: 0.5696261275229132\n",
      "Begin group  0 training\n"
     ]
    },
    {
     "name": "stderr",
     "output_type": "stream",
     "text": [
      "Epoch:   0%|                                                                                      | 0/5 [00:00<?, ?it/s]"
     ]
    },
    {
     "name": "stdout",
     "output_type": "stream",
     "text": [
      "Begin group  2 training\n",
      "Begin group  3 training\n"
     ]
    },
    {
     "name": "stderr",
     "output_type": "stream",
     "text": [
      "Epoch:   0%|                                                                                      | 0/5 [00:00<?, ?it/s]"
     ]
    },
    {
     "name": "stdout",
     "output_type": "stream",
     "text": [
      "Begin group  4 training\n"
     ]
    },
    {
     "name": "stderr",
     "output_type": "stream",
     "text": [
      "                                                                                                                        \r"
     ]
    },
    {
     "name": "stdout",
     "output_type": "stream",
     "text": [
      "Group 0, clients ['f_00052', 'f_00092', 'f_00184', 'f_00143', 'f_00014', 'f_00053', 'f_00074']\n",
      "Group 1 is empty.\n",
      "Group 2, clients ['f_00097', 'f_00198', 'f_00058']\n",
      "Group 3, clients ['f_00010', 'f_00139']\n",
      "Group 4, clients ['f_00106', 'f_00155', 'f_00085', 'f_00061', 'f_00077', 'f_00156', 'f_00075', 'f_00056']\n",
      "The groups difference are: [0.0, 0.0005978676711375641, 0.0011699807878939872, 0.0011872264396377563, 0.0012008967320262798]\n"
     ]
    },
    {
     "name": "stderr",
     "output_type": "stream",
     "text": [
      "Epoch:   0%|                                                                                      | 0/5 [00:00<?, ?it/s]"
     ]
    },
    {
     "name": "stdout",
     "output_type": "stream",
     "text": [
      "Group 0\n",
      "At round 36 accuracy: 0.3559539052496799\n",
      "At round 36 training accuracy: 0.3627989897489229\n",
      "At round 36 training loss: 1.4705803539897833\n",
      "Group 2\n",
      "At round 36 accuracy: 0.8176100628930818\n",
      "At round 36 training accuracy: 0.8156508653122648\n",
      "At round 36 training loss: 0.8563540704363356\n",
      "Group 3\n",
      "At round 36 accuracy: 0.6078431372549019\n",
      "At round 36 training accuracy: 0.6120325203252033\n",
      "At round 36 training loss: 1.035221804370725\n",
      "Group 4\n",
      "At round 36 accuracy: 0.48927875243664715\n",
      "At round 36 training accuracy: 0.511913023363405\n",
      "At round 36 training loss: 1.530726688991342\n",
      "At round 36 mean test accuracy: 0.5676714644585777 mean train accuracy: 0.575598849687449\n",
      "Begin group  0 training\n"
     ]
    },
    {
     "name": "stderr",
     "output_type": "stream",
     "text": [
      "Epoch:   0%|                                                                                      | 0/5 [00:00<?, ?it/s]"
     ]
    },
    {
     "name": "stdout",
     "output_type": "stream",
     "text": [
      "Begin group  2 training\n",
      "Begin group  3 training\n"
     ]
    },
    {
     "name": "stderr",
     "output_type": "stream",
     "text": [
      "Epoch:   0%|                                                                                      | 0/5 [00:00<?, ?it/s]"
     ]
    },
    {
     "name": "stdout",
     "output_type": "stream",
     "text": [
      "Begin group  4 training\n"
     ]
    },
    {
     "name": "stderr",
     "output_type": "stream",
     "text": [
      "                                                                                                                        \r"
     ]
    },
    {
     "name": "stdout",
     "output_type": "stream",
     "text": [
      "Group 0, clients ['f_00183', 'f_00004', 'f_00153', 'f_00132', 'f_00003', 'f_00002', 'f_00102', 'f_00114', 'f_00174']\n",
      "Group 1, clients ['f_00121', 'f_00081']\n",
      "Group 2, clients ['f_00078']\n",
      "Group 3, clients ['f_00150', 'f_00069', 'f_00070', 'f_00020']\n",
      "Group 4, clients ['f_00187', 'f_00125', 'f_00146', 'f_00195']\n",
      "The groups difference are: [0.0, 0.0006120682205816852, 0.001141637377440663, 0.0013492875663470016, 0.0009403375987711016]\n"
     ]
    },
    {
     "name": "stderr",
     "output_type": "stream",
     "text": [
      "Epoch:   0%|                                                                                      | 0/5 [00:00<?, ?it/s]"
     ]
    },
    {
     "name": "stdout",
     "output_type": "stream",
     "text": [
      "Group 0\n",
      "At round 37 accuracy: 0.5902688860435339\n",
      "At round 37 training accuracy: 0.5752488486109048\n",
      "At round 37 training loss: 1.2568054965640085\n",
      "Group 1\n",
      "At round 37 accuracy: 0.868421052631579\n",
      "At round 37 training accuracy: 0.8431983385254413\n",
      "At round 37 training loss: 1.2708400351731328\n",
      "Group 2\n",
      "At round 37 accuracy: 0.8238993710691824\n",
      "At round 37 training accuracy: 0.8231753197893152\n",
      "At round 37 training loss: 0.8997143202925912\n",
      "Group 3\n",
      "At round 37 accuracy: 0.773109243697479\n",
      "At round 37 training accuracy: 0.7590243902439024\n",
      "At round 37 training loss: 1.0469541612097888\n",
      "Group 4\n",
      "At round 37 accuracy: 0.49707602339181284\n",
      "At round 37 training accuracy: 0.5311126532500579\n",
      "At round 37 training loss: 1.290813067294149\n",
      "At round 37 mean test accuracy: 0.7105549153667174 mean train accuracy: 0.7063519100839244\n",
      "Begin group  0 training\n"
     ]
    },
    {
     "name": "stderr",
     "output_type": "stream",
     "text": [
      "Epoch:   0%|                                                                                      | 0/5 [00:00<?, ?it/s]"
     ]
    },
    {
     "name": "stdout",
     "output_type": "stream",
     "text": [
      "Begin group  1 training\n",
      "Begin group  2 training\n",
      "Begin group  3 training\n"
     ]
    },
    {
     "name": "stderr",
     "output_type": "stream",
     "text": [
      "                                                                                                                        \r"
     ]
    },
    {
     "name": "stdout",
     "output_type": "stream",
     "text": [
      "Begin group  4 training\n",
      "Group 0, clients ['f_00124', 'f_00084', 'f_00174', 'f_00113', 'f_00152', 'f_00172']\n",
      "Group 1, clients ['f_00041', 'f_00191', 'f_00181', 'f_00011']\n",
      "Group 2, clients ['f_00058', 'f_00049']\n",
      "Group 3, clients ['f_00170', 'f_00120']\n",
      "Group 4, clients ['f_00137', 'f_00197', 'f_00176', 'f_00136', 'f_00117', 'f_00186']\n",
      "The groups difference are: [0.0, 0.0005807655476313123, 0.0009271829466730441, 0.001045007738661008, 0.0008557214140350045]\n"
     ]
    },
    {
     "name": "stderr",
     "output_type": "stream",
     "text": [
      "Epoch:   0%|                                                                                      | 0/5 [00:00<?, ?it/s]"
     ]
    },
    {
     "name": "stdout",
     "output_type": "stream",
     "text": [
      "Group 0\n",
      "At round 38 accuracy: 0.6440460947503202\n",
      "At round 38 training accuracy: 0.6513148120635864\n",
      "At round 38 training loss: 1.2494249593678493\n",
      "Group 1\n",
      "At round 38 accuracy: 0.8771929824561403\n",
      "At round 38 training accuracy: 0.8286604361370716\n",
      "At round 38 training loss: 0.6812560691392805\n",
      "Group 2\n",
      "At round 38 accuracy: 0.7861635220125787\n",
      "At round 38 training accuracy: 0.7614747930775019\n",
      "At round 38 training loss: 0.9272939569973425\n",
      "Group 3\n",
      "At round 38 accuracy: 0.7647058823529411\n",
      "At round 38 training accuracy: 0.745040650406504\n",
      "At round 38 training loss: 1.0169943709489775\n",
      "Group 4\n",
      "At round 38 accuracy: 0.4678362573099415\n",
      "At round 38 training accuracy: 0.48484848484848486\n",
      "At round 38 training loss: 1.391823866895137\n",
      "At round 38 mean test accuracy: 0.7079889477763843 mean train accuracy: 0.6942678353066298\n",
      "Begin group  0 training\n"
     ]
    },
    {
     "name": "stderr",
     "output_type": "stream",
     "text": [
      "Epoch:   0%|                                                                                      | 0/5 [00:00<?, ?it/s]"
     ]
    },
    {
     "name": "stdout",
     "output_type": "stream",
     "text": [
      "Begin group  1 training\n",
      "Begin group  2 training\n",
      "Begin group  3 training\n"
     ]
    },
    {
     "name": "stderr",
     "output_type": "stream",
     "text": [
      "Epoch:   0%|                                                                                      | 0/5 [00:00<?, ?it/s]"
     ]
    },
    {
     "name": "stdout",
     "output_type": "stream",
     "text": [
      "Begin group  4 training\n"
     ]
    },
    {
     "name": "stderr",
     "output_type": "stream",
     "text": [
      "                                                                                                                        \r"
     ]
    },
    {
     "name": "stdout",
     "output_type": "stream",
     "text": [
      "Group 0, clients ['f_00173', 'f_00192', 'f_00074', 'f_00044', 'f_00083', 'f_00002', 'f_00023']\n",
      "Group 1, clients ['f_00191']\n",
      "Group 2, clients ['f_00128', 'f_00108']\n",
      "Group 3, clients ['f_00020', 'f_00019', 'f_00160']\n",
      "Group 4, clients ['f_00117', 'f_00125', 'f_00095', 'f_00005', 'f_00006', 'f_00135', 'f_00107']\n",
      "The groups difference are: [0.0, 0.0005311282211959423, 0.0007826663403186496, 0.0008599574425998124, 0.0008954748701273108]\n"
     ]
    },
    {
     "name": "stderr",
     "output_type": "stream",
     "text": [
      "Epoch:   0%|                                                                                      | 0/5 [00:00<?, ?it/s]"
     ]
    },
    {
     "name": "stdout",
     "output_type": "stream",
     "text": [
      "Group 0\n",
      "At round 39 accuracy: 0.586427656850192\n",
      "At round 39 training accuracy: 0.596196701827366\n",
      "At round 39 training loss: 1.1772496842679183\n",
      "Group 1\n",
      "At round 39 accuracy: 0.8508771929824561\n",
      "At round 39 training accuracy: 0.818276220145379\n",
      "At round 39 training loss: 0.7021149328812136\n",
      "Group 2\n",
      "At round 39 accuracy: 0.6352201257861635\n",
      "At round 39 training accuracy: 0.6117381489841986\n",
      "At round 39 training loss: 1.1537979312011224\n",
      "Group 3\n",
      "At round 39 accuracy: 0.7310924369747899\n",
      "At round 39 training accuracy: 0.7622764227642277\n",
      "At round 39 training loss: 1.0628209123960355\n",
      "Group 4\n",
      "At round 39 accuracy: 0.5224171539961013\n",
      "At round 39 training accuracy: 0.5431413370344668\n",
      "At round 39 training loss: 1.4265032924079188\n",
      "At round 39 mean test accuracy: 0.6652069133179407 mean train accuracy: 0.6663257661511276\n",
      "Begin group  0 training\n"
     ]
    },
    {
     "name": "stderr",
     "output_type": "stream",
     "text": [
      "Epoch:   0%|                                                                                      | 0/5 [00:00<?, ?it/s]"
     ]
    },
    {
     "name": "stdout",
     "output_type": "stream",
     "text": [
      "Begin group  1 training\n",
      "Begin group  2 training\n",
      "Begin group  3 training\n"
     ]
    },
    {
     "name": "stderr",
     "output_type": "stream",
     "text": [
      "Epoch:   0%|                                                                                      | 0/5 [00:00<?, ?it/s]"
     ]
    },
    {
     "name": "stdout",
     "output_type": "stream",
     "text": [
      "Begin group  4 training\n"
     ]
    },
    {
     "name": "stderr",
     "output_type": "stream",
     "text": [
      "                                                                                                                        \r"
     ]
    },
    {
     "name": "stdout",
     "output_type": "stream",
     "text": [
      "Group 0, clients ['f_00183', 'f_00054', 'f_00134', 'f_00142', 'f_00023', 'f_00132']\n",
      "Group 1, clients ['f_00191', 'f_00171']\n",
      "Group 2, clients ['f_00089']\n",
      "Group 3, clients ['f_00160', 'f_00090', 'f_00139', 'f_00140']\n",
      "Group 4, clients ['f_00096', 'f_00005', 'f_00116', 'f_00035', 'f_00177', 'f_00026', 'f_00037']\n",
      "The groups difference are: [0.0, 0.0005264177510801993, 0.0009898525133269498, 0.0011126450996142845, 0.0007642419663504985]\n"
     ]
    },
    {
     "name": "stderr",
     "output_type": "stream",
     "text": [
      "Epoch:   0%|                                                                                      | 0/5 [00:00<?, ?it/s]"
     ]
    },
    {
     "name": "stdout",
     "output_type": "stream",
     "text": [
      "Group 0\n",
      "At round 40 accuracy: 0.6696542893725992\n",
      "At round 40 training accuracy: 0.656663200118853\n",
      "At round 40 training loss: 1.1227371280003118\n",
      "Group 1\n",
      "At round 40 accuracy: 0.8771929824561403\n",
      "At round 40 training accuracy: 0.8743509865005192\n",
      "At round 40 training loss: 0.6759966440413724\n",
      "Group 2\n",
      "At round 40 accuracy: 0.5534591194968553\n",
      "At round 40 training accuracy: 0.563581640331076\n",
      "At round 40 training loss: 0.9704899342549843\n",
      "Group 3\n",
      "At round 40 accuracy: 0.6274509803921569\n",
      "At round 40 training accuracy: 0.6647154471544715\n",
      "At round 40 training loss: 1.0912991389026487\n",
      "Group 4\n",
      "At round 40 accuracy: 0.4834307992202729\n",
      "At round 40 training accuracy: 0.5052047189451769\n",
      "At round 40 training loss: 1.418602238726125\n",
      "At round 40 mean test accuracy: 0.6422376341876049 mean train accuracy: 0.6529031986100194\n",
      "Begin group  0 training\n"
     ]
    },
    {
     "name": "stderr",
     "output_type": "stream",
     "text": [
      "Epoch:   0%|                                                                                      | 0/5 [00:00<?, ?it/s]"
     ]
    },
    {
     "name": "stdout",
     "output_type": "stream",
     "text": [
      "Begin group  1 training\n",
      "Begin group  2 training\n",
      "Begin group  3 training\n"
     ]
    },
    {
     "name": "stderr",
     "output_type": "stream",
     "text": [
      "Epoch:   0%|                                                                                      | 0/5 [00:00<?, ?it/s]"
     ]
    },
    {
     "name": "stdout",
     "output_type": "stream",
     "text": [
      "Begin group  4 training\n"
     ]
    },
    {
     "name": "stderr",
     "output_type": "stream",
     "text": [
      "                                                                                                                        \r"
     ]
    },
    {
     "name": "stdout",
     "output_type": "stream",
     "text": [
      "Group 0, clients ['f_00063', 'f_00152', 'f_00172', 'f_00014', 'f_00194']\n",
      "Group 1, clients ['f_00091', 'f_00051']\n",
      "Group 2, clients ['f_00168', 'f_00068', 'f_00118', 'f_00038']\n",
      "Group 3, clients ['f_00009', 'f_00030', 'f_00029', 'f_00130', 'f_00090']\n",
      "Group 4, clients ['f_00096', 'f_00196', 'f_00165', 'f_00137']\n",
      "The groups difference are: [0.0, 0.000568526583018647, 0.0008136744556402897, 0.001234502268197879, 0.000786783364415955]\n"
     ]
    },
    {
     "name": "stderr",
     "output_type": "stream",
     "text": [
      "Epoch:   0%|                                                                                      | 0/5 [00:00<?, ?it/s]"
     ]
    },
    {
     "name": "stdout",
     "output_type": "stream",
     "text": [
      "Group 0\n",
      "At round 41 accuracy: 0.6568501920614597\n",
      "At round 41 training accuracy: 0.6373495765859456\n",
      "At round 41 training loss: 1.165510246647784\n",
      "Group 1\n",
      "At round 41 accuracy: 0.8157894736842105\n",
      "At round 41 training accuracy: 0.7808930425752856\n",
      "At round 41 training loss: 0.7130723915615061\n",
      "Group 2\n",
      "At round 41 accuracy: 0.4339622641509434\n",
      "At round 41 training accuracy: 0.418359668924003\n",
      "At round 41 training loss: 1.591388486802264\n",
      "Group 3\n",
      "At round 41 accuracy: 0.6442577030812325\n",
      "At round 41 training accuracy: 0.6826016260162602\n",
      "At round 41 training loss: 1.1094298131485296\n",
      "Group 4\n",
      "At round 41 accuracy: 0.4171539961013645\n",
      "At round 41 training accuracy: 0.4304880869766366\n",
      "At round 41 training loss: 1.280892003252637\n",
      "At round 41 mean test accuracy: 0.5936027258158421 mean train accuracy: 0.5899384002156262\n",
      "Begin group  0 training\n"
     ]
    },
    {
     "name": "stderr",
     "output_type": "stream",
     "text": [
      "Epoch:   0%|                                                                                      | 0/5 [00:00<?, ?it/s]"
     ]
    },
    {
     "name": "stdout",
     "output_type": "stream",
     "text": [
      "Begin group  1 training\n",
      "Begin group  2 training\n"
     ]
    },
    {
     "name": "stderr",
     "output_type": "stream",
     "text": [
      "Epoch:   0%|                                                                                      | 0/5 [00:00<?, ?it/s]"
     ]
    },
    {
     "name": "stdout",
     "output_type": "stream",
     "text": [
      "Begin group  3 training\n",
      "Begin group  4 training\n"
     ]
    },
    {
     "name": "stderr",
     "output_type": "stream",
     "text": [
      "                                                                                                                        \r"
     ]
    },
    {
     "name": "stdout",
     "output_type": "stream",
     "text": [
      "Group 0, clients ['f_00174', 'f_00182', 'f_00152', 'f_00082']\n",
      "Group 1 is empty.\n",
      "Group 2, clients ['f_00158', 'f_00128', 'f_00078', 'f_00068']\n",
      "Group 3, clients ['f_00030', 'f_00069', 'f_00170']\n",
      "Group 4, clients ['f_00095', 'f_00015', 'f_00115', 'f_00045', 'f_00066', 'f_00165', 'f_00186', 'f_00177', 'f_00056']\n",
      "The groups difference are: [0.0, 0.0006031441349050315, 0.001099728713844117, 0.0009452176549782365, 0.0007607845707924277]\n"
     ]
    },
    {
     "name": "stderr",
     "output_type": "stream",
     "text": [
      "Epoch:   0%|                                                                                      | 0/5 [00:00<?, ?it/s]"
     ]
    },
    {
     "name": "stdout",
     "output_type": "stream",
     "text": [
      "Group 0\n",
      "At round 42 accuracy: 0.5454545454545454\n",
      "At round 42 training accuracy: 0.5403357599168028\n",
      "At round 42 training loss: 1.1391236087114456\n",
      "Group 2\n",
      "At round 42 accuracy: 0.6352201257861635\n",
      "At round 42 training accuracy: 0.5996990218209179\n",
      "At round 42 training loss: 0.9464078715100515\n",
      "Group 3\n",
      "At round 42 accuracy: 0.7366946778711485\n",
      "At round 42 training accuracy: 0.734959349593496\n",
      "At round 42 training loss: 0.9622746982613231\n",
      "Group 4\n",
      "At round 42 accuracy: 0.6081871345029239\n",
      "At round 42 training accuracy: 0.6389081656257228\n",
      "At round 42 training loss: 1.2740634122215817\n",
      "At round 42 mean test accuracy: 0.6313891209036954 mean train accuracy: 0.6284755742392348\n",
      "Begin group  0 training\n"
     ]
    },
    {
     "name": "stderr",
     "output_type": "stream",
     "text": [
      "Epoch:   0%|                                                                                      | 0/5 [00:00<?, ?it/s]"
     ]
    },
    {
     "name": "stdout",
     "output_type": "stream",
     "text": [
      "Begin group  2 training\n",
      "Begin group  3 training\n"
     ]
    },
    {
     "name": "stderr",
     "output_type": "stream",
     "text": [
      "Epoch:   0%|                                                                                      | 0/5 [00:00<?, ?it/s]"
     ]
    },
    {
     "name": "stdout",
     "output_type": "stream",
     "text": [
      "Begin group  4 training\n"
     ]
    },
    {
     "name": "stderr",
     "output_type": "stream",
     "text": [
      "                                                                                                                        \r"
     ]
    },
    {
     "name": "stdout",
     "output_type": "stream",
     "text": [
      "Group 0, clients ['f_00183', 'f_00062', 'f_00133', 'f_00173', 'f_00093']\n",
      "Group 1 is empty.\n",
      "Group 2, clients ['f_00188', 'f_00128', 'f_00038']\n",
      "Group 3, clients ['f_00079', 'f_00080', 'f_00010', 'f_00149', 'f_00029']\n",
      "Group 4, clients ['f_00056', 'f_00037', 'f_00067', 'f_00065', 'f_00017', 'f_00195', 'f_00146']\n",
      "The groups difference are: [0.0, 0.00035478675006161975, 0.0010691519318848375, 0.0008680660595330458, 0.0009396755462085515]\n"
     ]
    },
    {
     "name": "stderr",
     "output_type": "stream",
     "text": [
      "Epoch:   0%|                                                                                      | 0/5 [00:00<?, ?it/s]"
     ]
    },
    {
     "name": "stdout",
     "output_type": "stream",
     "text": [
      "Group 0\n",
      "At round 43 accuracy: 0.5070422535211268\n",
      "At round 43 training accuracy: 0.5186450750259991\n",
      "At round 43 training loss: 1.4160947016879082\n",
      "Group 2\n",
      "At round 43 accuracy: 0.779874213836478\n",
      "At round 43 training accuracy: 0.7547027840481565\n",
      "At round 43 training loss: 0.82169913680505\n",
      "Group 3\n",
      "At round 43 accuracy: 0.6358543417366946\n",
      "At round 43 training accuracy: 0.6360975609756098\n",
      "At round 43 training loss: 0.9715738397303636\n",
      "Group 4\n",
      "At round 43 accuracy: 0.5477582846003899\n",
      "At round 43 training accuracy: 0.5803839925977331\n",
      "At round 43 training loss: 1.244733921719899\n",
      "At round 43 mean test accuracy: 0.6176322734236723 mean train accuracy: 0.6224573531618747\n",
      "Begin group  0 training\n"
     ]
    },
    {
     "name": "stderr",
     "output_type": "stream",
     "text": [
      "Epoch:   0%|                                                                                      | 0/5 [00:00<?, ?it/s]"
     ]
    },
    {
     "name": "stdout",
     "output_type": "stream",
     "text": [
      "Begin group  2 training\n",
      "Begin group  3 training\n"
     ]
    },
    {
     "name": "stderr",
     "output_type": "stream",
     "text": [
      "Epoch:   0%|                                                                                      | 0/5 [00:00<?, ?it/s]"
     ]
    },
    {
     "name": "stdout",
     "output_type": "stream",
     "text": [
      "Begin group  4 training\n"
     ]
    },
    {
     "name": "stderr",
     "output_type": "stream",
     "text": [
      "                                                                                                                        \r"
     ]
    },
    {
     "name": "stdout",
     "output_type": "stream",
     "text": [
      "Group 0, clients ['f_00073', 'f_00023', 'f_00054', 'f_00003', 'f_00114', 'f_00124', 'f_00182', 'f_00064']\n",
      "Group 1, clients ['f_00111']\n",
      "Group 2, clients ['f_00028', 'f_00068', 'f_00089']\n",
      "Group 3, clients ['f_00079', 'f_00180', 'f_00009']\n",
      "Group 4, clients ['f_00135', 'f_00157', 'f_00035', 'f_00045', 'f_00047']\n",
      "The groups difference are: [0.0, 0.0026112526995738516, 0.003454665982973504, 0.003186327348075446, 0.0037680717602723846]\n"
     ]
    },
    {
     "name": "stderr",
     "output_type": "stream",
     "text": [
      "Epoch:   0%|                                                                                      | 0/5 [00:00<?, ?it/s]"
     ]
    },
    {
     "name": "stdout",
     "output_type": "stream",
     "text": [
      "Group 0\n",
      "At round 44 accuracy: 0.47759282970550576\n",
      "At round 44 training accuracy: 0.48447481800623976\n",
      "At round 44 training loss: 1.8229237721377576\n",
      "Group 1\n",
      "At round 44 accuracy: 0.8421052631578947\n",
      "At round 44 training accuracy: 0.8411214953271028\n",
      "At round 44 training loss: 0.8553953548334345\n",
      "Group 2\n",
      "At round 44 accuracy: 0.8427672955974843\n",
      "At round 44 training accuracy: 0.836719337848006\n",
      "At round 44 training loss: 0.8546631681551334\n",
      "Group 3\n",
      "At round 44 accuracy: 0.7366946778711485\n",
      "At round 44 training accuracy: 0.734959349593496\n",
      "At round 44 training loss: 0.9110228175070227\n",
      "Group 4\n",
      "At round 44 accuracy: 0.5458089668615984\n",
      "At round 44 training accuracy: 0.5482303955586398\n",
      "At round 44 training loss: 1.5934031446057835\n",
      "At round 44 mean test accuracy: 0.6889938066387263 mean train accuracy: 0.6891010792666968\n",
      "Begin group  0 training\n"
     ]
    },
    {
     "name": "stderr",
     "output_type": "stream",
     "text": [
      "Epoch:   0%|                                                                                      | 0/5 [00:00<?, ?it/s]"
     ]
    },
    {
     "name": "stdout",
     "output_type": "stream",
     "text": [
      "Begin group  1 training\n",
      "Begin group  2 training\n",
      "Begin group  3 training\n"
     ]
    },
    {
     "name": "stderr",
     "output_type": "stream",
     "text": [
      "Epoch:   0%|                                                                                      | 0/5 [00:00<?, ?it/s]"
     ]
    },
    {
     "name": "stdout",
     "output_type": "stream",
     "text": [
      "Begin group  4 training\n"
     ]
    },
    {
     "name": "stderr",
     "output_type": "stream",
     "text": [
      "                                                                                                                        \r"
     ]
    },
    {
     "name": "stdout",
     "output_type": "stream",
     "text": [
      "Group 0, clients ['f_00072', 'f_00013', 'f_00153', 'f_00003', 'f_00044', 'f_00134', 'f_00173', 'f_00033', 'f_00062', 'f_00182', 'f_00112']\n",
      "Group 1 is empty.\n",
      "Group 2, clients ['f_00058']\n",
      "Group 3, clients ['f_00040', 'f_00080', 'f_00149', 'f_00129', 'f_00069', 'f_00190']\n",
      "Group 4, clients ['f_00045', 'f_00025']\n",
      "The groups difference are: [0.0, 0.0015351318912089074, 0.0020106460111328772, 0.0020389753273475364, 0.0017633917382842146]\n"
     ]
    },
    {
     "name": "stderr",
     "output_type": "stream",
     "text": [
      "Epoch:   0%|                                                                                      | 0/5 [00:00<?, ?it/s]"
     ]
    },
    {
     "name": "stdout",
     "output_type": "stream",
     "text": [
      "Group 0\n",
      "At round 45 accuracy: 0.678617157490397\n",
      "At round 45 training accuracy: 0.6577031644629328\n",
      "At round 45 training loss: 1.2272880422805115\n",
      "Group 2\n",
      "At round 45 accuracy: 0.8238993710691824\n",
      "At round 45 training accuracy: 0.8164033107599699\n",
      "At round 45 training loss: 0.8340692500407935\n",
      "Group 3\n",
      "At round 45 accuracy: 0.6162464985994398\n",
      "At round 45 training accuracy: 0.6152845528455284\n",
      "At round 45 training loss: 0.9384441348789184\n",
      "Group 4\n",
      "At round 45 accuracy: 0.5009746588693957\n",
      "At round 45 training accuracy: 0.5232477446217905\n",
      "At round 45 training loss: 1.3072544645027735\n",
      "At round 45 mean test accuracy: 0.6549344215071038 mean train accuracy: 0.6531596931725554\n",
      "Begin group  0 training\n"
     ]
    },
    {
     "name": "stderr",
     "output_type": "stream",
     "text": [
      "Epoch:   0%|                                                                                      | 0/5 [00:00<?, ?it/s]"
     ]
    },
    {
     "name": "stdout",
     "output_type": "stream",
     "text": [
      "Begin group  2 training\n",
      "Begin group  3 training\n"
     ]
    },
    {
     "name": "stderr",
     "output_type": "stream",
     "text": [
      "                                                                                                                        \r"
     ]
    },
    {
     "name": "stdout",
     "output_type": "stream",
     "text": [
      "Begin group  4 training\n",
      "Group 0, clients ['f_00123', 'f_00004', 'f_00083', 'f_00134', 'f_00012', 'f_00113']\n",
      "Group 1, clients ['f_00111', 'f_00051']\n",
      "Group 2, clients ['f_00138', 'f_00008', 'f_00169']\n",
      "Group 3, clients ['f_00090', 'f_00110']\n",
      "Group 4, clients ['f_00037', 'f_00017', 'f_00145', 'f_00177', 'f_00025', 'f_00151', 'f_00106']\n",
      "The groups difference are: [0.0, 0.0029719443276616797, 0.0036782881912755805, 0.0035059479031920304, 0.0038511615445675496]\n"
     ]
    },
    {
     "name": "stderr",
     "output_type": "stream",
     "text": [
      "Epoch:   0%|                                                                                      | 0/5 [00:00<?, ?it/s]"
     ]
    },
    {
     "name": "stdout",
     "output_type": "stream",
     "text": [
      "Group 0\n",
      "At round 46 accuracy: 0.6402048655569782\n",
      "At round 46 training accuracy: 0.6557718021096419\n",
      "At round 46 training loss: 1.5006689925885204\n",
      "Group 1\n",
      "At round 46 accuracy: 0.8859649122807017\n",
      "At round 46 training accuracy: 0.8805815160955348\n",
      "At round 46 training loss: 0.7664106125524606\n",
      "Group 2\n",
      "At round 46 accuracy: 0.8050314465408805\n",
      "At round 46 training accuracy: 0.7990970654627539\n",
      "At round 46 training loss: 0.9129367449662128\n",
      "Group 3\n",
      "At round 46 accuracy: 0.6974789915966386\n",
      "At round 46 training accuracy: 0.7069918699186992\n",
      "At round 46 training loss: 0.892991400520976\n",
      "Group 4\n",
      "At round 46 accuracy: 0.5633528265107213\n",
      "At round 46 training accuracy: 0.5662734212352533\n",
      "At round 46 training loss: 1.642636418080622\n",
      "At round 46 mean test accuracy: 0.7184066084971841 mean train accuracy: 0.7217431349643767\n",
      "Begin group  0 training\n"
     ]
    },
    {
     "name": "stderr",
     "output_type": "stream",
     "text": [
      "Epoch:   0%|                                                                                      | 0/5 [00:00<?, ?it/s]"
     ]
    },
    {
     "name": "stdout",
     "output_type": "stream",
     "text": [
      "Begin group  1 training\n",
      "Begin group  2 training\n",
      "Begin group  3 training\n"
     ]
    },
    {
     "name": "stderr",
     "output_type": "stream",
     "text": [
      "Epoch:   0%|                                                                                      | 0/5 [00:00<?, ?it/s]"
     ]
    },
    {
     "name": "stdout",
     "output_type": "stream",
     "text": [
      "Begin group  4 training\n"
     ]
    },
    {
     "name": "stderr",
     "output_type": "stream",
     "text": [
      "                                                                                                                        \r"
     ]
    },
    {
     "name": "stdout",
     "output_type": "stream",
     "text": [
      "Group 0, clients ['f_00094', 'f_00154', 'f_00062', 'f_00132', 'f_00133', 'f_00083']\n",
      "Group 1, clients ['f_00091', 'f_00191', 'f_00141']\n",
      "Group 2, clients ['f_00138', 'f_00108']\n",
      "Group 3, clients ['f_00000', 'f_00170', 'f_00020', 'f_00009']\n",
      "Group 4, clients ['f_00005', 'f_00036', 'f_00106', 'f_00016', 'f_00025']\n",
      "The groups difference are: [0.0, 0.0016423156442589848, 0.001977538173340676, 0.0021037658376430457, 0.001998340468699844]\n"
     ]
    },
    {
     "name": "stderr",
     "output_type": "stream",
     "text": [
      "Epoch:   0%|                                                                                      | 0/5 [00:00<?, ?it/s]"
     ]
    },
    {
     "name": "stdout",
     "output_type": "stream",
     "text": [
      "Group 0\n",
      "At round 47 accuracy: 0.7157490396927016\n",
      "At round 47 training accuracy: 0.6909820234734809\n",
      "At round 47 training loss: 1.1132720392537745\n",
      "Group 1\n",
      "At round 47 accuracy: 0.9298245614035088\n",
      "At round 47 training accuracy: 0.9096573208722741\n",
      "At round 47 training loss: 0.6487291523353086\n",
      "Group 2\n",
      "At round 47 accuracy: 0.7358490566037735\n",
      "At round 47 training accuracy: 0.6930022573363431\n",
      "At round 47 training loss: 0.9468337536486043\n",
      "Group 3\n",
      "At round 47 accuracy: 0.6834733893557423\n",
      "At round 47 training accuracy: 0.7121951219512195\n",
      "At round 47 training loss: 1.018841787799587\n",
      "Group 4\n",
      "At round 47 accuracy: 0.5536062378167641\n",
      "At round 47 training accuracy: 0.5669673837612769\n",
      "At round 47 training loss: 1.3540557900320014\n",
      "At round 47 mean test accuracy: 0.723700456974498 mean train accuracy: 0.714560821478919\n",
      "Begin group  0 training\n"
     ]
    },
    {
     "name": "stderr",
     "output_type": "stream",
     "text": [
      "Epoch:   0%|                                                                                      | 0/5 [00:00<?, ?it/s]"
     ]
    },
    {
     "name": "stdout",
     "output_type": "stream",
     "text": [
      "Begin group  1 training\n",
      "Begin group  2 training\n"
     ]
    },
    {
     "name": "stderr",
     "output_type": "stream",
     "text": [
      "Epoch:   0%|                                                                                      | 0/5 [00:00<?, ?it/s]"
     ]
    },
    {
     "name": "stdout",
     "output_type": "stream",
     "text": [
      "Begin group  3 training\n",
      "Begin group  4 training\n"
     ]
    },
    {
     "name": "stderr",
     "output_type": "stream",
     "text": [
      "                                                                                                                        \r"
     ]
    },
    {
     "name": "stdout",
     "output_type": "stream",
     "text": [
      "Group 0, clients ['f_00132', 'f_00192', 'f_00072', 'f_00013', 'f_00173', 'f_00163', 'f_00184', 'f_00183']\n",
      "Group 1, clients ['f_00031', 'f_00041', 'f_00071']\n",
      "Group 2, clients ['f_00078', 'f_00008']\n",
      "Group 3, clients ['f_00129']\n",
      "Group 4, clients ['f_00085', 'f_00165', 'f_00197', 'f_00137', 'f_00026', 'f_00195']\n",
      "The groups difference are: [0.0, 0.002825643513644227, 0.0038194975458361036, 0.0033715357979657856, 0.003909348114084721]\n"
     ]
    },
    {
     "name": "stderr",
     "output_type": "stream",
     "text": [
      "Epoch:   0%|                                                                                      | 0/5 [00:00<?, ?it/s]"
     ]
    },
    {
     "name": "stdout",
     "output_type": "stream",
     "text": [
      "Group 0\n",
      "At round 48 accuracy: 0.5953905249679897\n",
      "At round 48 training accuracy: 0.60882484029119\n",
      "At round 48 training loss: 1.5092386911163675\n",
      "Group 1\n",
      "At round 48 accuracy: 0.7631578947368421\n",
      "At round 48 training accuracy: 0.7902388369678089\n",
      "At round 48 training loss: 0.6250848787472132\n",
      "Group 2\n",
      "At round 48 accuracy: 0.7861635220125787\n",
      "At round 48 training accuracy: 0.7599699021820918\n",
      "At round 48 training loss: 0.8400377455378404\n",
      "Group 3\n",
      "At round 48 accuracy: 0.7478991596638656\n",
      "At round 48 training accuracy: 0.7678048780487805\n",
      "At round 48 training loss: 0.9640092363202475\n",
      "Group 4\n",
      "At round 48 accuracy: 0.5692007797270955\n",
      "At round 48 training accuracy: 0.5727504048114735\n",
      "At round 48 training loss: 1.5510859100073542\n",
      "At round 48 mean test accuracy: 0.6923623762216743 mean train accuracy: 0.699917772460269\n",
      "Begin group  0 training\n"
     ]
    },
    {
     "name": "stderr",
     "output_type": "stream",
     "text": [
      "Epoch:   0%|                                                                                      | 0/5 [00:00<?, ?it/s]"
     ]
    },
    {
     "name": "stdout",
     "output_type": "stream",
     "text": [
      "Begin group  1 training\n",
      "Begin group  2 training\n",
      "Begin group  3 training\n",
      "Begin group  4 training\n"
     ]
    },
    {
     "name": "stderr",
     "output_type": "stream",
     "text": [
      "                                                                                                                        \r"
     ]
    },
    {
     "name": "stdout",
     "output_type": "stream",
     "text": [
      "Group 0, clients ['f_00144', 'f_00104', 'f_00153', 'f_00013', 'f_00132']\n",
      "Group 1, clients ['f_00111', 'f_00181']\n",
      "Group 2, clients ['f_00148', 'f_00089']\n",
      "Group 3, clients ['f_00150', 'f_00180', 'f_00189', 'f_00029']\n",
      "Group 4, clients ['f_00107', 'f_00195', 'f_00065', 'f_00017', 'f_00046', 'f_00007', 'f_00067']\n",
      "The groups difference are: [0.0, 0.0013934357972167355, 0.0018102336250747086, 0.0018765483932360327, 0.0018170939894868177]\n"
     ]
    },
    {
     "name": "stderr",
     "output_type": "stream",
     "text": [
      "Epoch:   0%|                                                                                      | 0/5 [00:00<?, ?it/s]"
     ]
    },
    {
     "name": "stdout",
     "output_type": "stream",
     "text": [
      "Group 0\n",
      "At round 49 accuracy: 0.6632522407170295\n",
      "At round 49 training accuracy: 0.6649829148714901\n",
      "At round 49 training loss: 1.0158783419846673\n",
      "Group 1\n",
      "At round 49 accuracy: 0.7982456140350878\n",
      "At round 49 training accuracy: 0.838006230529595\n",
      "At round 49 training loss: 0.638143876878891\n",
      "Group 2\n",
      "At round 49 accuracy: 0.8301886792452831\n",
      "At round 49 training accuracy: 0.8028592927012792\n",
      "At round 49 training loss: 0.8668878916693057\n",
      "Group 3\n",
      "At round 49 accuracy: 0.6862745098039216\n",
      "At round 49 training accuracy: 0.6637398373983739\n",
      "At round 49 training loss: 1.1544571764682368\n",
      "Group 4\n",
      "At round 49 accuracy: 0.5828460038986355\n",
      "At round 49 training accuracy: 0.611149664584779\n",
      "At round 49 training loss: 1.2107568092707983\n",
      "At round 49 mean test accuracy: 0.7121614095399915 mean train accuracy: 0.7161475880171035\n",
      "Begin group  0 training\n",
      "Begin group  1 training\n"
     ]
    },
    {
     "name": "stderr",
     "output_type": "stream",
     "text": [
      "Epoch:   0%|                                                                                      | 0/5 [00:00<?, ?it/s]"
     ]
    },
    {
     "name": "stdout",
     "output_type": "stream",
     "text": [
      "Begin group  2 training\n",
      "Begin group  3 training\n"
     ]
    },
    {
     "name": "stderr",
     "output_type": "stream",
     "text": [
      "Epoch:   0%|                                                                                      | 0/5 [00:00<?, ?it/s]"
     ]
    },
    {
     "name": "stdout",
     "output_type": "stream",
     "text": [
      "Begin group  4 training\n"
     ]
    },
    {
     "name": "stderr",
     "output_type": "stream",
     "text": [
      "                                                                                                                        \r"
     ]
    },
    {
     "name": "stdout",
     "output_type": "stream",
     "text": [
      "Group 0, clients ['f_00112', 'f_00012', 'f_00073', 'f_00144', 'f_00023']\n",
      "Group 1, clients ['f_00081']\n",
      "Group 2, clients ['f_00008', 'f_00088', 'f_00138']\n",
      "Group 3, clients ['f_00020', 'f_00199', 'f_00039', 'f_00069', 'f_00160', 'f_00099', 'f_00159']\n",
      "Group 4, clients ['f_00165', 'f_00197', 'f_00025', 'f_00151']\n",
      "The groups difference are: [0.0, 0.0008558766595158085, 0.001069377185762499, 0.0011908159881665048, 0.0012856904496959531]\n"
     ]
    },
    {
     "name": "stderr",
     "output_type": "stream",
     "text": [
      "Epoch:  80%|██████████████████████████████████████████████████████████████▍               | 4/5 [00:00<00:00, 33.13it/s]"
     ]
    },
    {
     "name": "stdout",
     "output_type": "stream",
     "text": [
      "Group 0\n",
      "At round 50 accuracy: 0.6939820742637645\n",
      "At round 50 training accuracy: 0.6807309463675532\n",
      "At round 50 training loss: 1.0510687779625782\n",
      "Group 1\n",
      "At round 50 accuracy: 0.9122807017543859\n",
      "At round 50 training accuracy: 0.9034267912772586\n",
      "At round 50 training loss: 0.6214383728531414\n",
      "Group 2\n",
      "At round 50 accuracy: 0.6477987421383647\n",
      "At round 50 training accuracy: 0.6260346124905944\n",
      "At round 50 training loss: 1.0890054195962335\n",
      "Group 3\n",
      "At round 50 accuracy: 0.6274509803921569\n",
      "At round 50 training accuracy: 0.6341463414634146\n",
      "At round 50 training loss: 0.9013432482975285\n",
      "Group 4\n",
      "At round 50 accuracy: 0.543859649122807\n",
      "At round 50 training accuracy: 0.5574832292389544\n",
      "At round 50 training loss: 1.5145094570340367\n",
      "At round 50 mean test accuracy: 0.6850744295342959 mean train accuracy: 0.6803643841675551\n",
      "Begin group  0 training\n"
     ]
    },
    {
     "name": "stderr",
     "output_type": "stream",
     "text": [
      "Epoch:   0%|                                                                                      | 0/5 [00:00<?, ?it/s]"
     ]
    },
    {
     "name": "stdout",
     "output_type": "stream",
     "text": [
      "Begin group  1 training\n",
      "Begin group  2 training\n",
      "Begin group  3 training\n"
     ]
    },
    {
     "name": "stderr",
     "output_type": "stream",
     "text": [
      "                                                                                                                        \r"
     ]
    },
    {
     "name": "stdout",
     "output_type": "stream",
     "text": [
      "Begin group  4 training\n",
      "Group 0, clients ['f_00104', 'f_00004', 'f_00192', 'f_00174', 'f_00023', 'f_00014']\n",
      "Group 1, clients ['f_00171']\n",
      "Group 2, clients ['f_00148', 'f_00118', 'f_00058', 'f_00068', 'f_00128']\n",
      "Group 3, clients ['f_00160', 'f_00190', 'f_00010']\n",
      "Group 4, clients ['f_00007', 'f_00115', 'f_00086', 'f_00067', 'f_00177']\n",
      "The groups difference are: [0.0, 0.0007582321782007018, 0.001013732501136566, 0.0012508569178957263, 0.0009069790743003736]\n"
     ]
    },
    {
     "name": "stderr",
     "output_type": "stream",
     "text": [
      "Epoch:   0%|                                                                                      | 0/5 [00:00<?, ?it/s]"
     ]
    },
    {
     "name": "stdout",
     "output_type": "stream",
     "text": [
      "Group 0\n",
      "At round 51 accuracy: 0.7131882202304738\n",
      "At round 51 training accuracy: 0.6936562175011143\n",
      "At round 51 training loss: 1.2136707652502439\n",
      "Group 1\n",
      "At round 51 accuracy: 0.9122807017543859\n",
      "At round 51 training accuracy: 0.9065420560747663\n",
      "At round 51 training loss: 0.6150958322661688\n",
      "Group 2\n",
      "At round 51 accuracy: 0.8176100628930818\n",
      "At round 51 training accuracy: 0.7915726109857035\n",
      "At round 51 training loss: 0.8544218084074843\n",
      "Group 3\n",
      "At round 51 accuracy: 0.6330532212885154\n",
      "At round 51 training accuracy: 0.6357723577235772\n",
      "At round 51 training loss: 0.9127761334132373\n",
      "Group 4\n",
      "At round 51 accuracy: 0.5341130604288499\n",
      "At round 51 training accuracy: 0.5401341660883645\n",
      "At round 51 training loss: 1.3041537995418961\n",
      "At round 51 mean test accuracy: 0.7220490533190616 mean train accuracy: 0.7135354816747053\n",
      "Begin group  0 training\n"
     ]
    },
    {
     "name": "stderr",
     "output_type": "stream",
     "text": [
      "                                                                                                                        "
     ]
    },
    {
     "name": "stdout",
     "output_type": "stream",
     "text": [
      "Begin group  1 training\n",
      "Begin group  2 training\n"
     ]
    },
    {
     "name": "stderr",
     "output_type": "stream",
     "text": [
      "Epoch:  60%|██████████████████████████████████████████████▊                               | 3/5 [00:00<00:00, 25.23it/s]"
     ]
    },
    {
     "name": "stdout",
     "output_type": "stream",
     "text": [
      "Begin group  3 training\n"
     ]
    },
    {
     "name": "stderr",
     "output_type": "stream",
     "text": [
      "Epoch:   0%|                                                                                      | 0/5 [00:00<?, ?it/s]"
     ]
    },
    {
     "name": "stdout",
     "output_type": "stream",
     "text": [
      "Begin group  4 training\n"
     ]
    },
    {
     "name": "stderr",
     "output_type": "stream",
     "text": [
      "                                                                                                                        \r"
     ]
    },
    {
     "name": "stdout",
     "output_type": "stream",
     "text": [
      "Group 0, clients ['f_00062', 'f_00132', 'f_00114', 'f_00104', 'f_00023', 'f_00093', 'f_00003']\n",
      "Group 1, clients ['f_00131', 'f_00091']\n",
      "Group 2, clients ['f_00098']\n",
      "Group 3, clients ['f_00119', 'f_00189', 'f_00040']\n",
      "Group 4, clients ['f_00176', 'f_00056', 'f_00145', 'f_00047', 'f_00027', 'f_00115', 'f_00067']\n",
      "The groups difference are: [0.0, 0.0006849161185756847, 0.0010294073885797062, 0.0011971275392934633, 0.001077824917794401]\n"
     ]
    },
    {
     "name": "stderr",
     "output_type": "stream",
     "text": [
      "\r",
      "Epoch:   0%|                                                                                      | 0/5 [00:00<?, ?it/s]"
     ]
    },
    {
     "name": "stdout",
     "output_type": "stream",
     "text": [
      "Group 0\n",
      "At round 52 accuracy: 0.6798975672215108\n",
      "At round 52 training accuracy: 0.6670628435596494\n",
      "At round 52 training loss: 1.1485859100752396\n",
      "Group 1\n",
      "At round 52 accuracy: 0.7631578947368421\n",
      "At round 52 training accuracy: 0.77466251298027\n",
      "At round 52 training loss: 0.6629305712159178\n",
      "Group 2\n",
      "At round 52 accuracy: 0.8113207547169812\n",
      "At round 52 training accuracy: 0.7953348382242288\n",
      "At round 52 training loss: 0.793588029701428\n",
      "Group 3\n",
      "At round 52 accuracy: 0.7647058823529411\n",
      "At round 52 training accuracy: 0.7882926829268293\n",
      "At round 52 training loss: 0.9503799650727249\n",
      "Group 4\n",
      "At round 52 accuracy: 0.5789473684210527\n",
      "At round 52 training accuracy: 0.5727504048114735\n",
      "At round 52 training loss: 1.6706168907344439\n",
      "At round 52 mean test accuracy: 0.7196058934898656 mean train accuracy: 0.7196206565004902\n",
      "Begin group  0 training\n"
     ]
    },
    {
     "name": "stderr",
     "output_type": "stream",
     "text": [
      "Epoch:   0%|                                                                                      | 0/5 [00:00<?, ?it/s]"
     ]
    },
    {
     "name": "stdout",
     "output_type": "stream",
     "text": [
      "Begin group  1 training\n",
      "Begin group  2 training\n"
     ]
    },
    {
     "name": "stderr",
     "output_type": "stream",
     "text": [
      "Epoch:   0%|                                                                                      | 0/5 [00:00<?, ?it/s]"
     ]
    },
    {
     "name": "stdout",
     "output_type": "stream",
     "text": [
      "Begin group  3 training\n",
      "Begin group  4 training\n"
     ]
    },
    {
     "name": "stderr",
     "output_type": "stream",
     "text": [
      "                                                                                                                        \r"
     ]
    },
    {
     "name": "stdout",
     "output_type": "stream",
     "text": [
      "Group 0, clients ['f_00143', 'f_00172', 'f_00132', 'f_00074', 'f_00163', 'f_00053']\n",
      "Group 1, clients ['f_00001']\n",
      "Group 2, clients ['f_00188', 'f_00168']\n",
      "Group 3, clients ['f_00100', 'f_00120', 'f_00149', 'f_00109', 'f_00050', 'f_00190', 'f_00179']\n",
      "Group 4, clients ['f_00115', 'f_00185', 'f_00066', 'f_00175']\n",
      "The groups difference are: [0.0, 0.001651397015026812, 0.0028355076418909997, 0.002467320971997755, 0.0027557753174761723]\n"
     ]
    },
    {
     "name": "stderr",
     "output_type": "stream",
     "text": [
      "Epoch:   0%|                                                                                      | 0/5 [00:00<?, ?it/s]"
     ]
    },
    {
     "name": "stdout",
     "output_type": "stream",
     "text": [
      "Group 0\n",
      "At round 53 accuracy: 0.6645326504481434\n",
      "At round 53 training accuracy: 0.6807309463675532\n",
      "At round 53 training loss: 1.5002113492859719\n",
      "Group 1\n",
      "At round 53 accuracy: 0.868421052631579\n",
      "At round 53 training accuracy: 0.8701973001038421\n",
      "At round 53 training loss: 0.561948874936297\n",
      "Group 2\n",
      "At round 53 accuracy: 0.7672955974842768\n",
      "At round 53 training accuracy: 0.744168547780286\n",
      "At round 53 training loss: 0.792611705036967\n",
      "Group 3\n",
      "At round 53 accuracy: 0.6946778711484594\n",
      "At round 53 training accuracy: 0.6813008130081301\n",
      "At round 53 training loss: 1.0196293516275359\n",
      "Group 4\n",
      "At round 53 accuracy: 0.5867446393762183\n",
      "At round 53 training accuracy: 0.5815405968077724\n",
      "At round 53 training loss: 1.6151948781744794\n",
      "At round 53 mean test accuracy: 0.7163343622177354 mean train accuracy: 0.7115876408135168\n",
      "Begin group  0 training\n"
     ]
    },
    {
     "name": "stderr",
     "output_type": "stream",
     "text": [
      "Epoch:   0%|                                                                                      | 0/5 [00:00<?, ?it/s]"
     ]
    },
    {
     "name": "stdout",
     "output_type": "stream",
     "text": [
      "Begin group  1 training\n",
      "Begin group  2 training\n",
      "Begin group  3 training\n"
     ]
    },
    {
     "name": "stderr",
     "output_type": "stream",
     "text": [
      "                                                                                                                        \r"
     ]
    },
    {
     "name": "stdout",
     "output_type": "stream",
     "text": [
      "Begin group  4 training\n",
      "Group 0, clients ['f_00134', 'f_00142', 'f_00012', 'f_00043', 'f_00194', 'f_00044', 'f_00004']\n",
      "Group 1, clients ['f_00011', 'f_00101', 'f_00031']\n",
      "Group 2, clients ['f_00118', 'f_00178', 'f_00138', 'f_00049']\n",
      "Group 3, clients ['f_00179', 'f_00119', 'f_00149']\n",
      "Group 4, clients ['f_00166', 'f_00187', 'f_00186']\n",
      "The groups difference are: [0.0, 0.0010501172653306634, 0.0015612202000399034, 0.0015009662711370497, 0.0015473223936982583]\n"
     ]
    },
    {
     "name": "stderr",
     "output_type": "stream",
     "text": [
      "Epoch:   0%|                                                                                      | 0/5 [00:00<?, ?it/s]"
     ]
    },
    {
     "name": "stdout",
     "output_type": "stream",
     "text": [
      "Group 0\n",
      "At round 54 accuracy: 0.677336747759283\n",
      "At round 54 training accuracy: 0.6614173228346457\n",
      "At round 54 training loss: 1.0626524997986615\n",
      "Group 1\n",
      "At round 54 accuracy: 0.9035087719298246\n",
      "At round 54 training accuracy: 0.90134994807892\n",
      "At round 54 training loss: 0.607856890989365\n",
      "Group 2\n",
      "At round 54 accuracy: 0.7610062893081762\n",
      "At round 54 training accuracy: 0.7486832204665161\n",
      "At round 54 training loss: 0.7971781866275968\n",
      "Group 3\n",
      "At round 54 accuracy: 0.7871148459383753\n",
      "At round 54 training accuracy: 0.7821138211382114\n",
      "At round 54 training loss: 0.861778289399496\n",
      "Group 4\n",
      "At round 54 accuracy: 0.6003898635477583\n",
      "At round 54 training accuracy: 0.6229470275271802\n",
      "At round 54 training loss: 1.224207953904311\n",
      "At round 54 mean test accuracy: 0.7458713036966834 mean train accuracy: 0.7433022680090947\n",
      "Begin group  0 training\n"
     ]
    },
    {
     "name": "stderr",
     "output_type": "stream",
     "text": [
      "Epoch:  80%|██████████████████████████████████████████████████████████████▍               | 4/5 [00:00<00:00, 39.09it/s]"
     ]
    },
    {
     "name": "stdout",
     "output_type": "stream",
     "text": [
      "Begin group  1 training\n",
      "Begin group  2 training\n"
     ]
    },
    {
     "name": "stderr",
     "output_type": "stream",
     "text": [
      "                                                                                                                        \r"
     ]
    },
    {
     "name": "stdout",
     "output_type": "stream",
     "text": [
      "Begin group  3 training\n",
      "Begin group  4 training\n",
      "Group 0, clients ['f_00124', 'f_00022', 'f_00053', 'f_00123', 'f_00133']\n",
      "Group 1, clients ['f_00141', 'f_00181']\n",
      "Group 2, clients ['f_00188']\n",
      "Group 3, clients ['f_00079', 'f_00129', 'f_00190', 'f_00170', 'f_00199', 'f_00119']\n",
      "Group 4, clients ['f_00116', 'f_00136', 'f_00145', 'f_00166', 'f_00057', 'f_00026']\n",
      "The groups difference are: [0.0, 0.0008372578375419604, 0.0012324787242156132, 0.001090574524481136, 0.0008747683931018546]\n"
     ]
    },
    {
     "name": "stderr",
     "output_type": "stream",
     "text": [
      "Epoch:   0%|                                                                                      | 0/5 [00:00<?, ?it/s]"
     ]
    },
    {
     "name": "stdout",
     "output_type": "stream",
     "text": [
      "Group 0\n",
      "At round 55 accuracy: 0.6133162612035852\n",
      "At round 55 training accuracy: 0.6132818303372456\n",
      "At round 55 training loss: 1.2390677409298865\n",
      "Group 1\n",
      "At round 55 accuracy: 0.9298245614035088\n",
      "At round 55 training accuracy: 0.9345794392523364\n",
      "At round 55 training loss: 0.6135904657754077\n",
      "Group 2\n",
      "At round 55 accuracy: 0.7044025157232704\n",
      "At round 55 training accuracy: 0.6576373212942062\n",
      "At round 55 training loss: 0.8278039120210572\n",
      "Group 3\n",
      "At round 55 accuracy: 0.6750700280112045\n",
      "At round 55 training accuracy: 0.6507317073170732\n",
      "At round 55 training loss: 1.1646440329978136\n",
      "Group 4\n",
      "At round 55 accuracy: 0.5692007797270955\n",
      "At round 55 training accuracy: 0.5968077723802915\n",
      "At round 55 training loss: 1.2621255334317616\n",
      "At round 55 mean test accuracy: 0.6983628292137328 mean train accuracy: 0.6906076141162306\n",
      "Begin group  0 training\n"
     ]
    },
    {
     "name": "stderr",
     "output_type": "stream",
     "text": [
      "Epoch:   0%|                                                                                      | 0/5 [00:00<?, ?it/s]"
     ]
    },
    {
     "name": "stdout",
     "output_type": "stream",
     "text": [
      "Begin group  1 training\n",
      "Begin group  2 training\n",
      "Begin group  3 training\n"
     ]
    },
    {
     "name": "stderr",
     "output_type": "stream",
     "text": [
      "Epoch:   0%|                                                                                      | 0/5 [00:00<?, ?it/s]"
     ]
    },
    {
     "name": "stdout",
     "output_type": "stream",
     "text": [
      "Begin group  4 training\n"
     ]
    },
    {
     "name": "stderr",
     "output_type": "stream",
     "text": [
      "                                                                                                                        \r"
     ]
    },
    {
     "name": "stdout",
     "output_type": "stream",
     "text": [
      "Group 0, clients ['f_00042', 'f_00082', 'f_00194', 'f_00012', 'f_00063', 'f_00073', 'f_00102']\n",
      "Group 1, clients ['f_00071', 'f_00081']\n",
      "Group 2, clients ['f_00038', 'f_00158']\n",
      "Group 3, clients ['f_00139', 'f_00120', 'f_00000']\n",
      "Group 4, clients ['f_00167', 'f_00186', 'f_00017', 'f_00045', 'f_00096', 'f_00126']\n",
      "The groups difference are: [0.0, 0.0008313794129446439, 0.0011166363199042184, 0.0012408491283638634, 0.0011022853913920105]\n"
     ]
    },
    {
     "name": "stderr",
     "output_type": "stream",
     "text": [
      "Epoch:   0%|                                                                                      | 0/5 [00:00<?, ?it/s]"
     ]
    },
    {
     "name": "stdout",
     "output_type": "stream",
     "text": [
      "Group 0\n",
      "At round 56 accuracy: 0.6991037131882202\n",
      "At round 56 training accuracy: 0.6805823800326846\n",
      "At round 56 training loss: 1.2542902354038659\n",
      "Group 1\n",
      "At round 56 accuracy: 0.8245614035087719\n",
      "At round 56 training accuracy: 0.8515057113187954\n",
      "At round 56 training loss: 0.6232280609268513\n",
      "Group 2\n",
      "At round 56 accuracy: 0.8427672955974843\n",
      "At round 56 training accuracy: 0.8337095560571859\n",
      "At round 56 training loss: 0.7879359965220352\n",
      "Group 3\n",
      "At round 56 accuracy: 0.7226890756302521\n",
      "At round 56 training accuracy: 0.7001626016260163\n",
      "At round 56 training loss: 1.0586548507504348\n",
      "Group 4\n",
      "At round 56 accuracy: 0.621832358674464\n",
      "At round 56 training accuracy: 0.6495489243580846\n",
      "At round 56 training loss: 1.248843362009859\n",
      "At round 56 mean test accuracy: 0.7421907693198385 mean train accuracy: 0.7431018346785535\n",
      "Begin group  0 training\n"
     ]
    },
    {
     "name": "stderr",
     "output_type": "stream",
     "text": [
      "Epoch:   0%|                                                                                      | 0/5 [00:00<?, ?it/s]"
     ]
    },
    {
     "name": "stdout",
     "output_type": "stream",
     "text": [
      "Begin group  1 training\n",
      "Begin group  2 training\n",
      "Begin group  3 training\n"
     ]
    },
    {
     "name": "stderr",
     "output_type": "stream",
     "text": [
      "Epoch:   0%|                                                                                      | 0/5 [00:00<?, ?it/s]"
     ]
    },
    {
     "name": "stdout",
     "output_type": "stream",
     "text": [
      "Begin group  4 training\n"
     ]
    },
    {
     "name": "stderr",
     "output_type": "stream",
     "text": [
      "                                                                                                                        \r"
     ]
    },
    {
     "name": "stdout",
     "output_type": "stream",
     "text": [
      "Group 0, clients ['f_00084', 'f_00123', 'f_00182', 'f_00153', 'f_00014', 'f_00072', 'f_00193', 'f_00194']\n",
      "Group 1, clients ['f_00031', 'f_00051']\n",
      "Group 2 is empty.\n",
      "Group 3, clients ['f_00159', 'f_00070', 'f_00090', 'f_00180']\n",
      "Group 4, clients ['f_00157', 'f_00117', 'f_00017', 'f_00155', 'f_00116', 'f_00166']\n",
      "The groups difference are: [0.0, 0.0005762872413380693, 0.0009545876349799087, 0.0008478199183289403, 0.0008452091318404964]\n"
     ]
    },
    {
     "name": "stderr",
     "output_type": "stream",
     "text": [
      "Epoch:  80%|██████████████████████████████████████████████████████████████▍               | 4/5 [00:00<00:00, 30.14it/s]"
     ]
    },
    {
     "name": "stdout",
     "output_type": "stream",
     "text": [
      "Group 0\n",
      "At round 57 accuracy: 0.6619718309859155\n",
      "At round 57 training accuracy: 0.6539890060912197\n",
      "At round 57 training loss: 0.9811917710155492\n",
      "Group 1\n",
      "At round 57 accuracy: 0.8859649122807017\n",
      "At round 57 training accuracy: 0.8878504672897196\n",
      "At round 57 training loss: 0.5695898289002115\n",
      "Group 3\n",
      "At round 57 accuracy: 0.7787114845938375\n",
      "At round 57 training accuracy: 0.7743089430894309\n",
      "At round 57 training loss: 0.8727394423252198\n",
      "Group 4\n",
      "At round 57 accuracy: 0.5886939571150097\n",
      "At round 57 training accuracy: 0.6160074022669443\n",
      "At round 57 training loss: 1.2631197323022605\n",
      "At round 57 mean test accuracy: 0.728835546243866 mean train accuracy: 0.7330389546843287\n",
      "Begin group  0 training\n"
     ]
    },
    {
     "name": "stderr",
     "output_type": "stream",
     "text": [
      "Epoch:   0%|                                                                                      | 0/5 [00:00<?, ?it/s]"
     ]
    },
    {
     "name": "stdout",
     "output_type": "stream",
     "text": [
      "Begin group  1 training\n",
      "Begin group  3 training\n"
     ]
    },
    {
     "name": "stderr",
     "output_type": "stream",
     "text": [
      "                                                                                                                        \r"
     ]
    },
    {
     "name": "stdout",
     "output_type": "stream",
     "text": [
      "Begin group  4 training\n",
      "Group 0, clients ['f_00193', 'f_00174', 'f_00183', 'f_00143']\n",
      "Group 1, clients ['f_00041', 'f_00131', 'f_00181']\n",
      "Group 2, clients ['f_00048', 'f_00108', 'f_00068', 'f_00038']\n",
      "Group 3, clients ['f_00079', 'f_00010']\n",
      "Group 4, clients ['f_00107', 'f_00075', 'f_00175', 'f_00186', 'f_00176', 'f_00177', 'f_00066']\n",
      "The groups difference are: [0.0, 0.0006464716506089374, 0.000705150201255833, 0.0010413529299559965, 0.0007726249191212231]\n"
     ]
    },
    {
     "name": "stderr",
     "output_type": "stream",
     "text": [
      "Epoch:   0%|                                                                                      | 0/5 [00:00<?, ?it/s]"
     ]
    },
    {
     "name": "stdout",
     "output_type": "stream",
     "text": [
      "Group 0\n",
      "At round 58 accuracy: 0.6670934699103713\n",
      "At round 58 training accuracy: 0.6502748477195067\n",
      "At round 58 training loss: 1.0811347680183243\n",
      "Group 1\n",
      "At round 58 accuracy: 0.8947368421052632\n",
      "At round 58 training accuracy: 0.8951194184839044\n",
      "At round 58 training loss: 0.5758725544930989\n",
      "Group 2\n",
      "At round 58 accuracy: 0.710691823899371\n",
      "At round 58 training accuracy: 0.7005267118133935\n",
      "At round 58 training loss: 0.9168758418795038\n",
      "Group 3\n",
      "At round 58 accuracy: 0.7338935574229691\n",
      "At round 58 training accuracy: 0.7372357723577235\n",
      "At round 58 training loss: 0.914017602951546\n",
      "Group 4\n",
      "At round 58 accuracy: 0.5614035087719298\n",
      "At round 58 training accuracy: 0.5669673837612769\n",
      "At round 58 training loss: 1.36180373275553\n",
      "At round 58 mean test accuracy: 0.713563840421981 mean train accuracy: 0.7100248268271611\n",
      "Begin group  0 training\n",
      "Begin group  1 training\n",
      "Begin group  2 training\n"
     ]
    },
    {
     "name": "stderr",
     "output_type": "stream",
     "text": [
      "Epoch:   0%|                                                                                      | 0/5 [00:00<?, ?it/s]"
     ]
    },
    {
     "name": "stdout",
     "output_type": "stream",
     "text": [
      "Begin group  3 training\n",
      "Begin group  4 training\n"
     ]
    },
    {
     "name": "stderr",
     "output_type": "stream",
     "text": [
      "                                                                                                                        \r"
     ]
    },
    {
     "name": "stdout",
     "output_type": "stream",
     "text": [
      "Group 0, clients ['f_00192', 'f_00144', 'f_00113', 'f_00133', 'f_00132']\n",
      "Group 1, clients ['f_00091', 'f_00141']\n",
      "Group 2, clients ['f_00098']\n",
      "Group 3, clients ['f_00019', 'f_00030', 'f_00139', 'f_00020']\n",
      "Group 4, clients ['f_00036', 'f_00146', 'f_00196', 'f_00136', 'f_00106', 'f_00165', 'f_00185', 'f_00016']\n",
      "The groups difference are: [0.0, 0.00046138963558683965, 0.000719801530095987, 0.000825728042320728, 0.0006006828272231424]\n"
     ]
    },
    {
     "name": "stderr",
     "output_type": "stream",
     "text": [
      "Epoch:   0%|                                                                                      | 0/5 [00:00<?, ?it/s]"
     ]
    },
    {
     "name": "stdout",
     "output_type": "stream",
     "text": [
      "Group 0\n",
      "At round 59 accuracy: 0.7131882202304738\n",
      "At round 59 training accuracy: 0.691873421482692\n",
      "At round 59 training loss: 1.089454822219015\n",
      "Group 1\n",
      "At round 59 accuracy: 0.9122807017543859\n",
      "At round 59 training accuracy: 0.8868120456905504\n",
      "At round 59 training loss: 0.6018746174013132\n",
      "Group 2\n",
      "At round 59 accuracy: 0.7547169811320755\n",
      "At round 59 training accuracy: 0.7178329571106095\n",
      "At round 59 training loss: 0.7680215930203194\n",
      "Group 3\n",
      "At round 59 accuracy: 0.6974789915966386\n",
      "At round 59 training accuracy: 0.6826016260162602\n",
      "At round 59 training loss: 0.8643460236719953\n",
      "Group 4\n",
      "At round 59 accuracy: 0.5886939571150097\n",
      "At round 59 training accuracy: 0.6104557020587555\n",
      "At round 59 training loss: 1.1907280518753287\n",
      "At round 59 mean test accuracy: 0.7332717703657168 mean train accuracy: 0.7179151504717736\n",
      "Begin group  0 training\n",
      "Begin group  1 training\n"
     ]
    },
    {
     "name": "stderr",
     "output_type": "stream",
     "text": [
      "Epoch:   0%|                                                                                      | 0/5 [00:00<?, ?it/s]"
     ]
    },
    {
     "name": "stdout",
     "output_type": "stream",
     "text": [
      "Begin group  2 training\n",
      "Begin group  3 training\n"
     ]
    },
    {
     "name": "stderr",
     "output_type": "stream",
     "text": [
      "Epoch:   0%|                                                                                      | 0/5 [00:00<?, ?it/s]"
     ]
    },
    {
     "name": "stdout",
     "output_type": "stream",
     "text": [
      "Begin group  4 training\n"
     ]
    },
    {
     "name": "stderr",
     "output_type": "stream",
     "text": [
      "                                                                                                                        \r"
     ]
    },
    {
     "name": "stdout",
     "output_type": "stream",
     "text": [
      "Group 0, clients ['f_00052', 'f_00144', 'f_00033', 'f_00053', 'f_00132', 'f_00163', 'f_00192', 'f_00193']\n",
      "Group 1, clients ['f_00081', 'f_00001', 'f_00021']\n",
      "Group 2 is empty.\n",
      "Group 3, clients ['f_00000', 'f_00120', 'f_00190', 'f_00079']\n",
      "Group 4, clients ['f_00087', 'f_00176', 'f_00106', 'f_00046', 'f_00056']\n",
      "The groups difference are: [0.0, 0.00036455076742702985, 0.0008655116937552609, 0.0005543339039196793, 0.0005336174664366533]\n"
     ]
    },
    {
     "name": "stderr",
     "output_type": "stream",
     "text": [
      "Epoch:   0%|                                                                                      | 0/5 [00:00<?, ?it/s]"
     ]
    },
    {
     "name": "stdout",
     "output_type": "stream",
     "text": [
      "Group 0\n",
      "At round 60 accuracy: 0.7183098591549296\n",
      "At round 60 training accuracy: 0.7171296984103402\n",
      "At round 60 training loss: 0.9988493674170863\n",
      "Group 1\n",
      "At round 60 accuracy: 0.7982456140350878\n",
      "At round 60 training accuracy: 0.8369678089304258\n",
      "At round 60 training loss: 0.5780244895787997\n",
      "Group 3\n",
      "At round 60 accuracy: 0.7170868347338936\n",
      "At round 60 training accuracy: 0.6913821138211382\n",
      "At round 60 training loss: 0.8362642887549672\n",
      "Group 4\n",
      "At round 60 accuracy: 0.6296296296296297\n",
      "At round 60 training accuracy: 0.6655100624566274\n",
      "At round 60 training loss: 1.2226302440646841\n",
      "At round 60 mean test accuracy: 0.7158179843883852 mean train accuracy: 0.7277474209046328\n",
      "Begin group  0 training\n"
     ]
    },
    {
     "name": "stderr",
     "output_type": "stream",
     "text": [
      "Epoch:   0%|                                                                                      | 0/5 [00:00<?, ?it/s]"
     ]
    },
    {
     "name": "stdout",
     "output_type": "stream",
     "text": [
      "Begin group  1 training\n",
      "Begin group  3 training\n"
     ]
    },
    {
     "name": "stderr",
     "output_type": "stream",
     "text": [
      "                                                                                                                        "
     ]
    },
    {
     "name": "stdout",
     "output_type": "stream",
     "text": [
      "Begin group  4 training\n"
     ]
    },
    {
     "name": "stderr",
     "output_type": "stream",
     "text": [
      "                                                                                                                        \r"
     ]
    },
    {
     "name": "stdout",
     "output_type": "stream",
     "text": [
      "Group 0, clients ['f_00062', 'f_00014', 'f_00003', 'f_00023', 'f_00073', 'f_00193', 'f_00133']\n",
      "Group 1, clients ['f_00011', 'f_00081']\n",
      "Group 2, clients ['f_00097', 'f_00028']\n",
      "Group 3, clients ['f_00170', 'f_00129', 'f_00070', 'f_00030']\n",
      "Group 4, clients ['f_00085', 'f_00086', 'f_00161', 'f_00117', 'f_00056']\n",
      "The groups difference are: [0.0, 0.0004933521519765449, 0.0007705290996782299, 0.0008151048492619495, 0.001054831119229993]\n"
     ]
    },
    {
     "name": "stderr",
     "output_type": "stream",
     "text": [
      "\r",
      "Epoch:   0%|                                                                                      | 0/5 [00:00<?, ?it/s]"
     ]
    },
    {
     "name": "stdout",
     "output_type": "stream",
     "text": [
      "Group 0\n",
      "At round 61 accuracy: 0.6389244558258643\n",
      "At round 61 training accuracy: 0.6288812954984401\n",
      "At round 61 training loss: 1.090380879545474\n",
      "Group 1\n",
      "At round 61 accuracy: 0.9122807017543859\n",
      "At round 61 training accuracy: 0.9241952232606438\n",
      "At round 61 training loss: 0.5551310558866241\n",
      "Group 2\n",
      "At round 61 accuracy: 0.8490566037735849\n",
      "At round 61 training accuracy: 0.8314522197140707\n",
      "At round 61 training loss: 0.7747106109013496\n",
      "Group 3\n",
      "At round 61 accuracy: 0.7366946778711485\n",
      "At round 61 training accuracy: 0.7008130081300813\n",
      "At round 61 training loss: 0.8203054019106113\n",
      "Group 4\n",
      "At round 61 accuracy: 0.4074074074074074\n",
      "At round 61 training accuracy: 0.4214665741383299\n",
      "At round 61 training loss: 1.6918871777354914\n",
      "At round 61 mean test accuracy: 0.7088727693264782 mean train accuracy: 0.7013616641483131\n",
      "Begin group  0 training\n"
     ]
    },
    {
     "name": "stderr",
     "output_type": "stream",
     "text": [
      "Epoch:   0%|                                                                                      | 0/5 [00:00<?, ?it/s]"
     ]
    },
    {
     "name": "stdout",
     "output_type": "stream",
     "text": [
      "Begin group  1 training\n",
      "Begin group  2 training\n",
      "Begin group  3 training\n"
     ]
    },
    {
     "name": "stderr",
     "output_type": "stream",
     "text": [
      "                                                                                                                        \r"
     ]
    },
    {
     "name": "stdout",
     "output_type": "stream",
     "text": [
      "Begin group  4 training\n",
      "Group 0, clients ['f_00162', 'f_00032', 'f_00153', 'f_00004']\n",
      "Group 1, clients ['f_00171']\n",
      "Group 2, clients ['f_00168', 'f_00059']\n",
      "Group 3, clients ['f_00120', 'f_00199', 'f_00040']\n",
      "Group 4, clients ['f_00125', 'f_00146', 'f_00061', 'f_00087', 'f_00076', 'f_00005', 'f_00047', 'f_00166', 'f_00037', 'f_00036']\n",
      "The groups difference are: [2.220446049250313e-16, 0.0011793598956144624, 0.0017217733874614893, 0.0016369809917550215, 0.0018084489218621602]\n"
     ]
    },
    {
     "name": "stderr",
     "output_type": "stream",
     "text": [
      "Epoch:   0%|                                                                                      | 0/5 [00:00<?, ?it/s]"
     ]
    },
    {
     "name": "stdout",
     "output_type": "stream",
     "text": [
      "Group 0\n",
      "At round 62 accuracy: 0.649167733674776\n",
      "At round 62 training accuracy: 0.6713712672708364\n",
      "At round 62 training loss: 1.408776871734947\n",
      "Group 1\n",
      "At round 62 accuracy: 0.8859649122807017\n",
      "At round 62 training accuracy: 0.877466251298027\n",
      "At round 62 training loss: 0.5283205732625841\n",
      "Group 2\n",
      "At round 62 accuracy: 0.660377358490566\n",
      "At round 62 training accuracy: 0.653875094055681\n",
      "At round 62 training loss: 0.96232411011975\n",
      "Group 3\n",
      "At round 62 accuracy: 0.7310924369747899\n",
      "At round 62 training accuracy: 0.7486178861788618\n",
      "At round 62 training loss: 0.8956018717211437\n",
      "Group 4\n",
      "At round 62 accuracy: 0.6042884990253411\n",
      "At round 62 training accuracy: 0.6493176035160768\n",
      "At round 62 training loss: 1.1915745824927013\n",
      "At round 62 mean test accuracy: 0.7061781880892349 mean train accuracy: 0.7201296204638966\n",
      "Begin group  0 training\n",
      "Begin group  1 training\n",
      "Begin group  2 training\n"
     ]
    },
    {
     "name": "stderr",
     "output_type": "stream",
     "text": [
      "Epoch:   0%|                                                                                      | 0/5 [00:00<?, ?it/s]"
     ]
    },
    {
     "name": "stdout",
     "output_type": "stream",
     "text": [
      "Begin group  3 training\n",
      "Begin group  4 training\n"
     ]
    },
    {
     "name": "stderr",
     "output_type": "stream",
     "text": [
      "                                                                                                                        \r"
     ]
    },
    {
     "name": "stdout",
     "output_type": "stream",
     "text": [
      "Group 0, clients ['f_00154', 'f_00143', 'f_00112', 'f_00153', 'f_00193', 'f_00103', 'f_00064', 'f_00194', 'f_00052']\n",
      "Group 1, clients ['f_00171']\n",
      "Group 2, clients ['f_00089', 'f_00097', 'f_00138', 'f_00068']\n",
      "Group 3, clients ['f_00010', 'f_00069', 'f_00090']\n",
      "Group 4, clients ['f_00126', 'f_00125', 'f_00037']\n",
      "The groups difference are: [0.0, 0.0007304514888015756, 0.0008808386633248899, 0.0010272690911004023, 0.0010044268957438707]\n"
     ]
    },
    {
     "name": "stderr",
     "output_type": "stream",
     "text": [
      "Epoch:   0%|                                                                                      | 0/5 [00:00<?, ?it/s]"
     ]
    },
    {
     "name": "stdout",
     "output_type": "stream",
     "text": [
      "Group 0\n",
      "At round 63 accuracy: 0.6504481434058899\n",
      "At round 63 training accuracy: 0.6547318377655623\n",
      "At round 63 training loss: 0.9516845788259312\n",
      "Group 1\n",
      "At round 63 accuracy: 0.7807017543859649\n",
      "At round 63 training accuracy: 0.7237798546209762\n",
      "At round 63 training loss: 0.6687000993008678\n",
      "Group 2\n",
      "At round 63 accuracy: 0.6792452830188679\n",
      "At round 63 training accuracy: 0.6493604213694507\n",
      "At round 63 training loss: 0.9907387797773288\n",
      "Group 3\n",
      "At round 63 accuracy: 0.7170868347338936\n",
      "At round 63 training accuracy: 0.7099186991869919\n",
      "At round 63 training loss: 0.8730104546042962\n",
      "Group 4\n",
      "At round 63 accuracy: 0.5925925925925926\n",
      "At round 63 training accuracy: 0.6298866527874162\n",
      "At round 63 training loss: 1.1507336413201263\n",
      "At round 63 mean test accuracy: 0.6840149216274418 mean train accuracy: 0.6735354931460796\n",
      "Begin group  0 training\n"
     ]
    },
    {
     "name": "stderr",
     "output_type": "stream",
     "text": [
      "Epoch:   0%|                                                                                      | 0/5 [00:00<?, ?it/s]"
     ]
    },
    {
     "name": "stdout",
     "output_type": "stream",
     "text": [
      "Begin group  1 training\n",
      "Begin group  2 training\n",
      "Begin group  3 training\n"
     ]
    },
    {
     "name": "stderr",
     "output_type": "stream",
     "text": [
      "                                                                                                                        \r"
     ]
    },
    {
     "name": "stdout",
     "output_type": "stream",
     "text": [
      "Begin group  4 training\n",
      "Group 0, clients ['f_00163', 'f_00014', 'f_00193', 'f_00123', 'f_00102', 'f_00042']\n",
      "Group 1, clients ['f_00041', 'f_00121']\n",
      "Group 2, clients ['f_00058', 'f_00097', 'f_00178']\n",
      "Group 3, clients ['f_00109', 'f_00030', 'f_00069']\n",
      "Group 4, clients ['f_00156', 'f_00086', 'f_00035', 'f_00107', 'f_00157', 'f_00116']\n",
      "The groups difference are: [0.0, 0.0005468564514572449, 0.0008210973586286752, 0.0008748518982186759, 0.0008028751758476504]\n"
     ]
    },
    {
     "name": "stderr",
     "output_type": "stream",
     "text": [
      "Epoch:   0%|                                                                                      | 0/5 [00:00<?, ?it/s]"
     ]
    },
    {
     "name": "stdout",
     "output_type": "stream",
     "text": [
      "Group 0\n",
      "At round 64 accuracy: 0.7259923175416133\n",
      "At round 64 training accuracy: 0.7201010251077106\n",
      "At round 64 training loss: 0.9360727947191468\n",
      "Group 1\n",
      "At round 64 accuracy: 0.8157894736842105\n",
      "At round 64 training accuracy: 0.8494288681204569\n",
      "At round 64 training loss: 0.5634617371598756\n",
      "Group 2\n",
      "At round 64 accuracy: 0.8364779874213837\n",
      "At round 64 training accuracy: 0.8126410835214447\n",
      "At round 64 training loss: 0.7799541936322565\n",
      "Group 3\n",
      "At round 64 accuracy: 0.7871148459383753\n",
      "At round 64 training accuracy: 0.7808130081300813\n",
      "At round 64 training loss: 0.820588542310203\n",
      "Group 4\n",
      "At round 64 accuracy: 0.5126705653021443\n",
      "At round 64 training accuracy: 0.5431413370344668\n",
      "At round 64 training loss: 1.2733233208847134\n",
      "At round 64 mean test accuracy: 0.7356090379775455 mean train accuracy: 0.7412250643828321\n",
      "Begin group  0 training\n"
     ]
    },
    {
     "name": "stderr",
     "output_type": "stream",
     "text": [
      "Epoch:   0%|                                                                                      | 0/5 [00:00<?, ?it/s]"
     ]
    },
    {
     "name": "stdout",
     "output_type": "stream",
     "text": [
      "Begin group  1 training\n",
      "Begin group  2 training\n"
     ]
    },
    {
     "name": "stderr",
     "output_type": "stream",
     "text": [
      "Epoch:   0%|                                                                                      | 0/5 [00:00<?, ?it/s]"
     ]
    },
    {
     "name": "stdout",
     "output_type": "stream",
     "text": [
      "Begin group  3 training\n",
      "Begin group  4 training\n"
     ]
    },
    {
     "name": "stderr",
     "output_type": "stream",
     "text": [
      "                                                                                                                        \r"
     ]
    },
    {
     "name": "stdout",
     "output_type": "stream",
     "text": [
      "Group 0, clients ['f_00012', 'f_00054', 'f_00153', 'f_00082']\n",
      "Group 1, clients ['f_00021']\n",
      "Group 2, clients ['f_00169', 'f_00178']\n",
      "Group 3, clients ['f_00119', 'f_00020', 'f_00070', 'f_00099']\n",
      "Group 4, clients ['f_00075', 'f_00176', 'f_00106', 'f_00085', 'f_00065', 'f_00151', 'f_00166', 'f_00155', 'f_00116']\n",
      "The groups difference are: [0.0, 0.0005974434347606472, 0.0007731695307547914, 0.0008520054524641107, 0.0007699344625982096]\n"
     ]
    },
    {
     "name": "stderr",
     "output_type": "stream",
     "text": [
      "Epoch:   0%|                                                                                      | 0/5 [00:00<?, ?it/s]"
     ]
    },
    {
     "name": "stdout",
     "output_type": "stream",
     "text": [
      "Group 0\n",
      "At round 65 accuracy: 0.7093469910371318\n",
      "At round 65 training accuracy: 0.699896003565592\n",
      "At round 65 training loss: 0.9453294134001873\n",
      "Group 1\n",
      "At round 65 accuracy: 0.8947368421052632\n",
      "At round 65 training accuracy: 0.8868120456905504\n",
      "At round 65 training loss: 0.4950408401704652\n",
      "Group 2\n",
      "At round 65 accuracy: 0.8176100628930818\n",
      "At round 65 training accuracy: 0.799849510910459\n",
      "At round 65 training loss: 0.8102962058051535\n",
      "Group 3\n",
      "At round 65 accuracy: 0.7282913165266106\n",
      "At round 65 training accuracy: 0.7069918699186992\n",
      "At round 65 training loss: 0.9080314542413727\n",
      "Group 4\n",
      "At round 65 accuracy: 0.5692007797270955\n",
      "At round 65 training accuracy: 0.6065232477446217\n",
      "At round 65 training loss: 1.1811664688236978\n",
      "At round 65 mean test accuracy: 0.7438371984578366 mean train accuracy: 0.7400145355659846\n",
      "Begin group  0 training\n",
      "Begin group  1 training\n",
      "Begin group  2 training\n"
     ]
    },
    {
     "name": "stderr",
     "output_type": "stream",
     "text": [
      "Epoch:   0%|                                                                                      | 0/5 [00:00<?, ?it/s]"
     ]
    },
    {
     "name": "stdout",
     "output_type": "stream",
     "text": [
      "Begin group  3 training\n"
     ]
    },
    {
     "name": "stderr",
     "output_type": "stream",
     "text": [
      "Epoch:   0%|                                                                                      | 0/5 [00:00<?, ?it/s]"
     ]
    },
    {
     "name": "stdout",
     "output_type": "stream",
     "text": [
      "Begin group  4 training\n"
     ]
    },
    {
     "name": "stderr",
     "output_type": "stream",
     "text": [
      "                                                                                                                        \r"
     ]
    },
    {
     "name": "stdout",
     "output_type": "stream",
     "text": [
      "Group 0, clients ['f_00052', 'f_00174', 'f_00054', 'f_00053', 'f_00104']\n",
      "Group 1 is empty.\n",
      "Group 2, clients ['f_00118', 'f_00128', 'f_00108', 'f_00018', 'f_00148']\n",
      "Group 3, clients ['f_00179', 'f_00160', 'f_00130', 'f_00140']\n",
      "Group 4, clients ['f_00167', 'f_00106', 'f_00017', 'f_00107', 'f_00007', 'f_00156']\n",
      "The groups difference are: [0.0, 0.00028893648481986833, 0.0006064007997907961, 0.000634474086918968, 0.0005859039758162599]\n"
     ]
    },
    {
     "name": "stderr",
     "output_type": "stream",
     "text": [
      "Epoch:   0%|                                                                                      | 0/5 [00:00<?, ?it/s]"
     ]
    },
    {
     "name": "stdout",
     "output_type": "stream",
     "text": [
      "Group 0\n",
      "At round 66 accuracy: 0.6901408450704225\n",
      "At round 66 training accuracy: 0.6932105184965087\n",
      "At round 66 training loss: 1.023576016501179\n",
      "Group 2\n",
      "At round 66 accuracy: 0.7169811320754716\n",
      "At round 66 training accuracy: 0.7057938299473289\n",
      "At round 66 training loss: 0.8730361494827844\n",
      "Group 3\n",
      "At round 66 accuracy: 0.7478991596638656\n",
      "At round 66 training accuracy: 0.7567479674796748\n",
      "At round 66 training loss: 0.8117792269078696\n",
      "Group 4\n",
      "At round 66 accuracy: 0.5458089668615984\n",
      "At round 66 training accuracy: 0.5551700208188758\n",
      "At round 66 training loss: 1.3266275901086293\n",
      "At round 66 mean test accuracy: 0.6752075259178395 mean train accuracy: 0.6777305841855971\n",
      "Begin group  0 training\n"
     ]
    },
    {
     "name": "stderr",
     "output_type": "stream",
     "text": [
      "Epoch:   0%|                                                                                      | 0/5 [00:00<?, ?it/s]"
     ]
    },
    {
     "name": "stdout",
     "output_type": "stream",
     "text": [
      "Begin group  2 training\n"
     ]
    },
    {
     "name": "stderr",
     "output_type": "stream",
     "text": [
      "Epoch:  60%|██████████████████████████████████████████████▊                               | 3/5 [00:00<00:00, 25.06it/s]"
     ]
    },
    {
     "name": "stdout",
     "output_type": "stream",
     "text": [
      "Begin group  3 training\n"
     ]
    },
    {
     "name": "stderr",
     "output_type": "stream",
     "text": [
      "                                                                                                                        \r"
     ]
    },
    {
     "name": "stdout",
     "output_type": "stream",
     "text": [
      "Begin group  4 training\n",
      "Group 0, clients ['f_00032', 'f_00172', 'f_00062', 'f_00123']\n",
      "Group 1, clients ['f_00071', 'f_00131']\n",
      "Group 2, clients ['f_00038', 'f_00108']\n",
      "Group 3, clients ['f_00109', 'f_00149', 'f_00180', 'f_00030']\n",
      "Group 4, clients ['f_00077', 'f_00166', 'f_00187', 'f_00025', 'f_00117', 'f_00195', 'f_00056', 'f_00015']\n",
      "The groups difference are: [0.0, 0.0003914142506171725, 0.0009728913898923164, 0.0009930883428805881, 0.0007888565959696114]\n"
     ]
    },
    {
     "name": "stderr",
     "output_type": "stream",
     "text": [
      "Epoch:   0%|                                                                                      | 0/5 [00:00<?, ?it/s]"
     ]
    },
    {
     "name": "stdout",
     "output_type": "stream",
     "text": [
      "Group 0\n",
      "At round 67 accuracy: 0.6978233034571063\n",
      "At round 67 training accuracy: 0.6967761105333531\n",
      "At round 67 training loss: 1.0164500109385353\n",
      "Group 1\n",
      "At round 67 accuracy: 0.8596491228070176\n",
      "At round 67 training accuracy: 0.8795430944963655\n",
      "At round 67 training loss: 0.6415969870543554\n",
      "Group 2\n",
      "At round 67 accuracy: 0.8364779874213837\n",
      "At round 67 training accuracy: 0.8231753197893152\n",
      "At round 67 training loss: 0.7193899325987196\n",
      "Group 3\n",
      "At round 67 accuracy: 0.7647058823529411\n",
      "At round 67 training accuracy: 0.7847154471544715\n",
      "At round 67 training loss: 0.881001812878663\n",
      "Group 4\n",
      "At round 67 accuracy: 0.543859649122807\n",
      "At round 67 training accuracy: 0.5660421003932454\n",
      "At round 67 training loss: 1.3365398803960662\n",
      "At round 67 mean test accuracy: 0.7405031890322512 mean train accuracy: 0.7500504144733502\n",
      "Begin group  0 training\n"
     ]
    },
    {
     "name": "stderr",
     "output_type": "stream",
     "text": [
      "Epoch:   0%|                                                                                      | 0/5 [00:00<?, ?it/s]"
     ]
    },
    {
     "name": "stdout",
     "output_type": "stream",
     "text": [
      "Begin group  1 training\n",
      "Begin group  2 training\n",
      "Begin group  3 training\n"
     ]
    },
    {
     "name": "stderr",
     "output_type": "stream",
     "text": [
      "Epoch:   0%|                                                                                      | 0/5 [00:00<?, ?it/s]"
     ]
    },
    {
     "name": "stdout",
     "output_type": "stream",
     "text": [
      "Begin group  4 training\n"
     ]
    },
    {
     "name": "stderr",
     "output_type": "stream",
     "text": [
      "                                                                                                                        \r"
     ]
    },
    {
     "name": "stdout",
     "output_type": "stream",
     "text": [
      "Group 0, clients ['f_00054', 'f_00143', 'f_00102', 'f_00004', 'f_00013', 'f_00112', 'f_00132', 'f_00183']\n",
      "Group 1, clients ['f_00011', 'f_00121']\n",
      "Group 2 is empty.\n",
      "Group 3, clients ['f_00099']\n",
      "Group 4, clients ['f_00016', 'f_00117', 'f_00186', 'f_00126', 'f_00107', 'f_00116', 'f_00056', 'f_00127', 'f_00125']\n",
      "The groups difference are: [0.0, 0.0011362310212101878, 0.001946558757770056, 0.001692560562292833, 0.001807752455582179]\n"
     ]
    },
    {
     "name": "stderr",
     "output_type": "stream",
     "text": [
      "Epoch:   0%|                                                                                      | 0/5 [00:00<?, ?it/s]"
     ]
    },
    {
     "name": "stdout",
     "output_type": "stream",
     "text": [
      "Group 0\n",
      "At round 68 accuracy: 0.5774647887323944\n",
      "At round 68 training accuracy: 0.5915911454464419\n",
      "At round 68 training loss: 1.5407002916654493\n",
      "Group 1\n",
      "At round 68 accuracy: 0.868421052631579\n",
      "At round 68 training accuracy: 0.8681204569055037\n",
      "At round 68 training loss: 0.5383688200299985\n",
      "Group 3\n",
      "At round 68 accuracy: 0.7535014005602241\n",
      "At round 68 training accuracy: 0.7538211382113821\n",
      "At round 68 training loss: 0.8352345466419934\n",
      "Group 4\n",
      "At round 68 accuracy: 0.5886939571150097\n",
      "At round 68 training accuracy: 0.618089289845015\n",
      "At round 68 training loss: 1.1721293302754852\n",
      "At round 68 mean test accuracy: 0.6970202997598017 mean train accuracy: 0.7079055076020857\n",
      "Begin group  0 training\n"
     ]
    },
    {
     "name": "stderr",
     "output_type": "stream",
     "text": [
      "Epoch:   0%|                                                                                      | 0/5 [00:00<?, ?it/s]"
     ]
    },
    {
     "name": "stdout",
     "output_type": "stream",
     "text": [
      "Begin group  1 training\n",
      "Begin group  3 training\n"
     ]
    },
    {
     "name": "stderr",
     "output_type": "stream",
     "text": [
      "Epoch:   0%|                                                                                      | 0/5 [00:00<?, ?it/s]"
     ]
    },
    {
     "name": "stdout",
     "output_type": "stream",
     "text": [
      "Begin group  4 training\n"
     ]
    },
    {
     "name": "stderr",
     "output_type": "stream",
     "text": [
      "                                                                                                                        \r"
     ]
    },
    {
     "name": "stdout",
     "output_type": "stream",
     "text": [
      "Group 0, clients ['f_00032', 'f_00062', 'f_00023', 'f_00013']\n",
      "Group 1, clients ['f_00031']\n",
      "Group 2, clients ['f_00178', 'f_00118', 'f_00058', 'f_00008', 'f_00068']\n",
      "Group 3, clients ['f_00070', 'f_00100', 'f_00170', 'f_00199']\n",
      "Group 4, clients ['f_00156', 'f_00047', 'f_00086', 'f_00125', 'f_00015', 'f_00137']\n",
      "The groups difference are: [0.0, 0.0006990458958913148, 0.0009032466803415851, 0.001024548524453106, 0.000987568024032437]\n"
     ]
    },
    {
     "name": "stderr",
     "output_type": "stream",
     "text": [
      "Epoch:   0%|                                                                                      | 0/5 [00:00<?, ?it/s]"
     ]
    },
    {
     "name": "stdout",
     "output_type": "stream",
     "text": [
      "Group 0\n",
      "At round 69 accuracy: 0.6709346991037132\n",
      "At round 69 training accuracy: 0.6822166097162383\n",
      "At round 69 training loss: 1.0392172757733755\n",
      "Group 1\n",
      "At round 69 accuracy: 0.8947368421052632\n",
      "At round 69 training accuracy: 0.8961578400830738\n",
      "At round 69 training loss: 0.4723099921660755\n",
      "Group 2\n",
      "At round 69 accuracy: 0.8427672955974843\n",
      "At round 69 training accuracy: 0.8412340105342363\n",
      "At round 69 training loss: 0.8299375989995028\n",
      "Group 3\n",
      "At round 69 accuracy: 0.7030812324929971\n",
      "At round 69 training accuracy: 0.6930081300813008\n",
      "At round 69 training loss: 0.9134849997846092\n",
      "Group 4\n",
      "At round 69 accuracy: 0.6276803118908382\n",
      "At round 69 training accuracy: 0.6652787416146195\n",
      "At round 69 training loss: 1.1905531241279936\n",
      "At round 69 mean test accuracy: 0.7478400762380593 mean train accuracy: 0.7555790664058938\n",
      "Begin group  0 training\n"
     ]
    },
    {
     "name": "stderr",
     "output_type": "stream",
     "text": [
      "                                                                                                                        "
     ]
    },
    {
     "name": "stdout",
     "output_type": "stream",
     "text": [
      "Begin group  1 training\n",
      "Begin group  2 training\n"
     ]
    },
    {
     "name": "stderr",
     "output_type": "stream",
     "text": [
      "Epoch:   0%|                                                                                      | 0/5 [00:00<?, ?it/s]"
     ]
    },
    {
     "name": "stdout",
     "output_type": "stream",
     "text": [
      "Begin group  3 training\n"
     ]
    },
    {
     "name": "stderr",
     "output_type": "stream",
     "text": [
      "Epoch:   0%|                                                                                      | 0/5 [00:00<?, ?it/s]"
     ]
    },
    {
     "name": "stdout",
     "output_type": "stream",
     "text": [
      "Begin group  4 training\n"
     ]
    },
    {
     "name": "stderr",
     "output_type": "stream",
     "text": [
      "                                                                                                                        \r"
     ]
    },
    {
     "name": "stdout",
     "output_type": "stream",
     "text": [
      "Group 0, clients ['f_00164', 'f_00102', 'f_00142', 'f_00182', 'f_00014']\n",
      "Group 1, clients ['f_00021', 'f_00011']\n",
      "Group 2, clients ['f_00097', 'f_00188']\n",
      "Group 3, clients ['f_00099', 'f_00109', 'f_00179']\n",
      "Group 4, clients ['f_00115', 'f_00017', 'f_00197', 'f_00057', 'f_00061', 'f_00167', 'f_00105', 'f_00147']\n",
      "The groups difference are: [1.1102230246251565e-16, 0.0015092787325434731, 0.0023638641122891713, 0.002082068997675046, 0.0021987752741259303]\n"
     ]
    },
    {
     "name": "stderr",
     "output_type": "stream",
     "text": [
      "Epoch:  60%|██████████████████████████████████████████████▊                               | 3/5 [00:00<00:00, 24.55it/s]"
     ]
    },
    {
     "name": "stdout",
     "output_type": "stream",
     "text": [
      "Group 0\n",
      "At round 70 accuracy: 0.6709346991037132\n",
      "At round 70 training accuracy: 0.6848908037438717\n",
      "At round 70 training loss: 1.4901865381504518\n",
      "Group 1\n",
      "At round 70 accuracy: 0.8333333333333334\n",
      "At round 70 training accuracy: 0.8515057113187954\n",
      "At round 70 training loss: 0.5174917577149836\n",
      "Group 2\n",
      "At round 70 accuracy: 0.6792452830188679\n",
      "At round 70 training accuracy: 0.6749435665914221\n",
      "At round 70 training loss: 0.813685434845895\n",
      "Group 3\n",
      "At round 70 accuracy: 0.7198879551820728\n",
      "At round 70 training accuracy: 0.7258536585365853\n",
      "At round 70 training loss: 0.8086514587712482\n",
      "Group 4\n",
      "At round 70 accuracy: 0.6042884990253411\n",
      "At round 70 training accuracy: 0.6465417534119824\n",
      "At round 70 training loss: 1.1425591079195478\n",
      "At round 70 mean test accuracy: 0.7015379539326657 mean train accuracy: 0.7167470987205313\n",
      "Begin group  0 training\n"
     ]
    },
    {
     "name": "stderr",
     "output_type": "stream",
     "text": [
      "Epoch:   0%|                                                                                      | 0/5 [00:00<?, ?it/s]"
     ]
    },
    {
     "name": "stdout",
     "output_type": "stream",
     "text": [
      "Begin group  1 training\n",
      "Begin group  2 training\n",
      "Begin group  3 training\n",
      "Begin group  4 training\n"
     ]
    },
    {
     "name": "stderr",
     "output_type": "stream",
     "text": [
      "                                                                                                                        \r"
     ]
    },
    {
     "name": "stdout",
     "output_type": "stream",
     "text": [
      "Group 0, clients ['f_00122', 'f_00132', 'f_00064', 'f_00034', 'f_00182', 'f_00073']\n",
      "Group 1, clients ['f_00121', 'f_00031']\n",
      "Group 2, clients ['f_00108', 'f_00028']\n",
      "Group 3, clients ['f_00069', 'f_00189', 'f_00020', 'f_00130', 'f_00100']\n",
      "Group 4, clients ['f_00145', 'f_00147', 'f_00136', 'f_00106', 'f_00175']\n",
      "The groups difference are: [0.0, 0.0009884978721597104, 0.0011972302065835772, 0.0012527785269433878, 0.0010377375558604518]\n"
     ]
    },
    {
     "name": "stderr",
     "output_type": "stream",
     "text": [
      "Epoch:   0%|                                                                                      | 0/5 [00:00<?, ?it/s]"
     ]
    },
    {
     "name": "stdout",
     "output_type": "stream",
     "text": [
      "Group 0\n",
      "At round 71 accuracy: 0.6901408450704225\n",
      "At round 71 training accuracy: 0.6706284355964939\n",
      "At round 71 training loss: 0.9156923414498696\n",
      "Group 1\n",
      "At round 71 accuracy: 0.9298245614035088\n",
      "At round 71 training accuracy: 0.9241952232606438\n",
      "At round 71 training loss: 0.5187385848192411\n",
      "Group 2\n",
      "At round 71 accuracy: 0.7547169811320755\n",
      "At round 71 training accuracy: 0.7915726109857035\n",
      "At round 71 training loss: 0.927217783248003\n",
      "Group 3\n",
      "At round 71 accuracy: 0.6918767507002801\n",
      "At round 71 training accuracy: 0.7011382113821139\n",
      "At round 71 training loss: 0.9678394680876072\n",
      "Group 4\n",
      "At round 71 accuracy: 0.5867446393762183\n",
      "At round 71 training accuracy: 0.592412676382142\n",
      "At round 71 training loss: 1.187573485688261\n",
      "At round 71 mean test accuracy: 0.7306607555365011 mean train accuracy: 0.7359894315214195\n",
      "Begin group  0 training\n"
     ]
    },
    {
     "name": "stderr",
     "output_type": "stream",
     "text": [
      "Epoch:   0%|                                                                                      | 0/5 [00:00<?, ?it/s]"
     ]
    },
    {
     "name": "stdout",
     "output_type": "stream",
     "text": [
      "Begin group  1 training\n",
      "Begin group  2 training\n"
     ]
    },
    {
     "name": "stderr",
     "output_type": "stream",
     "text": [
      "Epoch:   0%|                                                                                      | 0/5 [00:00<?, ?it/s]"
     ]
    },
    {
     "name": "stdout",
     "output_type": "stream",
     "text": [
      "Begin group  3 training\n"
     ]
    },
    {
     "name": "stderr",
     "output_type": "stream",
     "text": [
      "                                                                                                                        \r"
     ]
    },
    {
     "name": "stdout",
     "output_type": "stream",
     "text": [
      "Begin group  4 training\n",
      "Group 0, clients ['f_00043', 'f_00182', 'f_00083', 'f_00023', 'f_00133']\n",
      "Group 1, clients ['f_00141', 'f_00191']\n",
      "Group 2, clients ['f_00169', 'f_00088', 'f_00049', 'f_00059']\n",
      "Group 3, clients ['f_00039']\n",
      "Group 4, clients ['f_00177', 'f_00187', 'f_00176', 'f_00036', 'f_00186', 'f_00175', 'f_00197', 'f_00086']\n",
      "The groups difference are: [0.0, 0.0007117858774344787, 0.001054135345922913, 0.0009775174235430173, 0.0009014871366751498]\n"
     ]
    },
    {
     "name": "stderr",
     "output_type": "stream",
     "text": [
      "                                                                                                                        "
     ]
    },
    {
     "name": "stdout",
     "output_type": "stream",
     "text": [
      "Group 0\n",
      "At round 72 accuracy: 0.6530089628681178\n",
      "At round 72 training accuracy: 0.6596345268162235\n",
      "At round 72 training loss: 0.906215312106881\n",
      "Group 1\n",
      "At round 72 accuracy: 0.9210526315789473\n",
      "At round 72 training accuracy: 0.9148494288681205\n",
      "At round 72 training loss: 0.4594139511216343\n",
      "Group 2\n",
      "At round 72 accuracy: 0.8176100628930818\n",
      "At round 72 training accuracy: 0.799849510910459\n",
      "At round 72 training loss: 0.7120440551174414\n",
      "Group 3\n",
      "At round 72 accuracy: 0.7142857142857143\n",
      "At round 72 training accuracy: 0.6897560975609756\n",
      "At round 72 training loss: 0.7953396780510259\n",
      "Group 4\n",
      "At round 72 accuracy: 0.6335282651072125\n",
      "At round 72 training accuracy: 0.6692111959287532\n",
      "At round 72 training loss: 1.1742845431483788\n",
      "At round 72 mean test accuracy: 0.7478971273466148 mean train accuracy: 0.7466601520169064\n",
      "Begin group  0 training\n",
      "Begin group  1 training\n"
     ]
    },
    {
     "name": "stderr",
     "output_type": "stream",
     "text": [
      "Epoch:   0%|                                                                                      | 0/5 [00:00<?, ?it/s]"
     ]
    },
    {
     "name": "stdout",
     "output_type": "stream",
     "text": [
      "Begin group  2 training\n",
      "Begin group  3 training\n",
      "Begin group  4 training\n"
     ]
    },
    {
     "name": "stderr",
     "output_type": "stream",
     "text": [
      "                                                                                                                        \r"
     ]
    },
    {
     "name": "stdout",
     "output_type": "stream",
     "text": [
      "Group 0, clients ['f_00153', 'f_00033', 'f_00014', 'f_00183', 'f_00052', 'f_00032', 'f_00092']\n",
      "Group 1, clients ['f_00091', 'f_00021', 'f_00001', 'f_00111']\n",
      "Group 2, clients ['f_00089', 'f_00169']\n",
      "Group 3 is empty.\n",
      "Group 4, clients ['f_00185', 'f_00165', 'f_00161', 'f_00007', 'f_00105', 'f_00045', 'f_00196']\n",
      "The groups difference are: [0.0, 0.000560490990804352, 0.0007384133854638764, 0.0008188796487444971, 0.0007937901070191877]\n"
     ]
    },
    {
     "name": "stderr",
     "output_type": "stream",
     "text": [
      "Epoch:   0%|                                                                                      | 0/5 [00:00<?, ?it/s]"
     ]
    },
    {
     "name": "stdout",
     "output_type": "stream",
     "text": [
      "Group 0\n",
      "At round 73 accuracy: 0.6862996158770807\n",
      "At round 73 training accuracy: 0.6779081860050512\n",
      "At round 73 training loss: 1.0662411158054053\n",
      "Group 1\n",
      "At round 73 accuracy: 0.9298245614035088\n",
      "At round 73 training accuracy: 0.9252336448598131\n",
      "At round 73 training loss: 0.5007076582804647\n",
      "Group 2\n",
      "At round 73 accuracy: 0.6666666666666666\n",
      "At round 73 training accuracy: 0.6418359668924003\n",
      "At round 73 training loss: 0.9462853466504674\n",
      "Group 4\n",
      "At round 73 accuracy: 0.580896686159844\n",
      "At round 73 training accuracy: 0.5914873930141106\n",
      "At round 73 training loss: 1.2611057361380633\n",
      "At round 73 mean test accuracy: 0.715921882526775 mean train accuracy: 0.7091162976928438\n",
      "Begin group  0 training\n"
     ]
    },
    {
     "name": "stderr",
     "output_type": "stream",
     "text": [
      "Epoch:   0%|                                                                                      | 0/5 [00:00<?, ?it/s]"
     ]
    },
    {
     "name": "stdout",
     "output_type": "stream",
     "text": [
      "Begin group  1 training\n",
      "Begin group  2 training\n"
     ]
    },
    {
     "name": "stderr",
     "output_type": "stream",
     "text": [
      "Epoch:   0%|                                                                                      | 0/5 [00:00<?, ?it/s]"
     ]
    },
    {
     "name": "stdout",
     "output_type": "stream",
     "text": [
      "Begin group  4 training\n"
     ]
    },
    {
     "name": "stderr",
     "output_type": "stream",
     "text": [
      "                                                                                                                        \r"
     ]
    },
    {
     "name": "stdout",
     "output_type": "stream",
     "text": [
      "Group 0, clients ['f_00122', 'f_00194', 'f_00072', 'f_00022', 'f_00093', 'f_00084']\n",
      "Group 1, clients ['f_00101']\n",
      "Group 2, clients ['f_00097']\n",
      "Group 3, clients ['f_00100', 'f_00069', 'f_00109', 'f_00130', 'f_00140']\n",
      "Group 4, clients ['f_00176', 'f_00136', 'f_00046', 'f_00117', 'f_00185', 'f_00145', 'f_00067']\n",
      "The groups difference are: [0.0, 0.00038206413273544904, 0.0006147927802823139, 0.0004920785555969642, 0.00054146191482074]\n"
     ]
    },
    {
     "name": "stderr",
     "output_type": "stream",
     "text": [
      "Epoch:   0%|                                                                                      | 0/5 [00:00<?, ?it/s]"
     ]
    },
    {
     "name": "stdout",
     "output_type": "stream",
     "text": [
      "Group 0\n",
      "At round 74 accuracy: 0.7323943661971831\n",
      "At round 74 training accuracy: 0.7235180508096866\n",
      "At round 74 training loss: 0.9075046498873598\n",
      "Group 1\n",
      "At round 74 accuracy: 0.9298245614035088\n",
      "At round 74 training accuracy: 0.9075804776739356\n",
      "At round 74 training loss: 0.4928953824632512\n",
      "Group 2\n",
      "At round 74 accuracy: 0.6352201257861635\n",
      "At round 74 training accuracy: 0.6215199398043642\n",
      "At round 74 training loss: 1.3193728370133695\n",
      "Group 3\n",
      "At round 74 accuracy: 0.6918767507002801\n",
      "At round 74 training accuracy: 0.7017886178861789\n",
      "At round 74 training loss: 0.9897617832238113\n",
      "Group 4\n",
      "At round 74 accuracy: 0.5750487329434698\n",
      "At round 74 training accuracy: 0.5769141799676151\n",
      "At round 74 training loss: 1.2465662023906985\n",
      "At round 74 mean test accuracy: 0.7128729074061212 mean train accuracy: 0.7062642532283561\n",
      "Begin group  0 training\n"
     ]
    },
    {
     "name": "stderr",
     "output_type": "stream",
     "text": [
      "Epoch:   0%|                                                                                      | 0/5 [00:00<?, ?it/s]"
     ]
    },
    {
     "name": "stdout",
     "output_type": "stream",
     "text": [
      "Begin group  1 training\n",
      "Begin group  2 training\n",
      "Begin group  3 training\n"
     ]
    },
    {
     "name": "stderr",
     "output_type": "stream",
     "text": [
      "Epoch:   0%|                                                                                      | 0/5 [00:00<?, ?it/s]"
     ]
    },
    {
     "name": "stdout",
     "output_type": "stream",
     "text": [
      "Begin group  4 training\n"
     ]
    },
    {
     "name": "stderr",
     "output_type": "stream",
     "text": [
      "                                                                                                                        \r"
     ]
    },
    {
     "name": "stdout",
     "output_type": "stream",
     "text": [
      "Group 0, clients ['f_00142', 'f_00022', 'f_00002', 'f_00062']\n",
      "Group 1, clients ['f_00091']\n",
      "Group 2, clients ['f_00049', 'f_00068', 'f_00028']\n",
      "Group 3, clients ['f_00119', 'f_00139', 'f_00160']\n",
      "Group 4, clients ['f_00167', 'f_00086', 'f_00061', 'f_00147', 'f_00085', 'f_00107', 'f_00006', 'f_00177', 'f_00035']\n",
      "The groups difference are: [0.0, 0.0003656995268631613, 0.0006114966129242561, 0.0006048923457653288, 0.0007230337660093511]\n"
     ]
    },
    {
     "name": "stderr",
     "output_type": "stream",
     "text": [
      "Epoch:   0%|                                                                                      | 0/5 [00:00<?, ?it/s]"
     ]
    },
    {
     "name": "stdout",
     "output_type": "stream",
     "text": [
      "Group 0\n",
      "At round 75 accuracy: 0.6645326504481434\n",
      "At round 75 training accuracy: 0.6657257465458327\n",
      "At round 75 training loss: 0.9000318952910951\n",
      "Group 1\n",
      "At round 75 accuracy: 0.9298245614035088\n",
      "At round 75 training accuracy: 0.9376947040498442\n",
      "At round 75 training loss: 0.4982111183839424\n",
      "Group 2\n",
      "At round 75 accuracy: 0.3710691823899371\n",
      "At round 75 training accuracy: 0.4221218961625282\n",
      "At round 75 training loss: 1.3058717938811373\n",
      "Group 3\n",
      "At round 75 accuracy: 0.7843137254901961\n",
      "At round 75 training accuracy: 0.7778861788617886\n",
      "At round 75 training loss: 0.784948534713528\n",
      "Group 4\n",
      "At round 75 accuracy: 0.5419103313840156\n",
      "At round 75 training accuracy: 0.5697432338653713\n",
      "At round 75 training loss: 1.2328051904988957\n",
      "At round 75 mean test accuracy: 0.6583300902231602 mean train accuracy: 0.674634351897073\n",
      "Begin group  0 training\n"
     ]
    },
    {
     "name": "stderr",
     "output_type": "stream",
     "text": [
      "Epoch:   0%|                                                                                      | 0/5 [00:00<?, ?it/s]"
     ]
    },
    {
     "name": "stdout",
     "output_type": "stream",
     "text": [
      "Begin group  1 training\n",
      "Begin group  2 training\n"
     ]
    },
    {
     "name": "stderr",
     "output_type": "stream",
     "text": [
      "Epoch:  60%|██████████████████████████████████████████████▊                               | 3/5 [00:00<00:00, 26.81it/s]"
     ]
    },
    {
     "name": "stdout",
     "output_type": "stream",
     "text": [
      "Begin group  3 training\n"
     ]
    },
    {
     "name": "stderr",
     "output_type": "stream",
     "text": [
      "Epoch:   0%|                                                                                      | 0/5 [00:00<?, ?it/s]"
     ]
    },
    {
     "name": "stdout",
     "output_type": "stream",
     "text": [
      "Begin group  4 training\n"
     ]
    },
    {
     "name": "stderr",
     "output_type": "stream",
     "text": [
      "                                                                                                                        \r"
     ]
    },
    {
     "name": "stdout",
     "output_type": "stream",
     "text": [
      "Group 0, clients ['f_00092', 'f_00074', 'f_00164', 'f_00094', 'f_00122', 'f_00032', 'f_00022']\n",
      "Group 1, clients ['f_00051', 'f_00021']\n",
      "Group 2, clients ['f_00178', 'f_00059']\n",
      "Group 3, clients ['f_00050', 'f_00009', 'f_00179']\n",
      "Group 4, clients ['f_00157', 'f_00007', 'f_00115', 'f_00096', 'f_00107', 'f_00095']\n",
      "The groups difference are: [0.0, 0.0010583950215699023, 0.0017492414882712692, 0.001587210054195598, 0.0017418530120658637]\n"
     ]
    },
    {
     "name": "stderr",
     "output_type": "stream",
     "text": [
      "Epoch:   0%|                                                                                      | 0/5 [00:00<?, ?it/s]"
     ]
    },
    {
     "name": "stdout",
     "output_type": "stream",
     "text": [
      "Group 0\n",
      "At round 76 accuracy: 0.6248399487836107\n",
      "At round 76 training accuracy: 0.6450750259991086\n",
      "At round 76 training loss: 1.5857575816706835\n",
      "Group 1\n",
      "At round 76 accuracy: 0.8859649122807017\n",
      "At round 76 training accuracy: 0.8899273104880582\n",
      "At round 76 training loss: 0.45695227378377784\n",
      "Group 2\n",
      "At round 76 accuracy: 0.8301886792452831\n",
      "At round 76 training accuracy: 0.8299473288186606\n",
      "At round 76 training loss: 0.7196953655006834\n",
      "Group 3\n",
      "At round 76 accuracy: 0.7703081232492998\n",
      "At round 76 training accuracy: 0.7678048780487805\n",
      "At round 76 training loss: 0.8202464320116896\n",
      "Group 4\n",
      "At round 76 accuracy: 0.5672514619883041\n",
      "At round 76 training accuracy: 0.5826972010178118\n",
      "At round 76 training loss: 1.2131874253566195\n",
      "At round 76 mean test accuracy: 0.7357106251094399 mean train accuracy: 0.7430903488744839\n",
      "Begin group  0 training\n"
     ]
    },
    {
     "name": "stderr",
     "output_type": "stream",
     "text": [
      "Epoch:   0%|                                                                                      | 0/5 [00:00<?, ?it/s]"
     ]
    },
    {
     "name": "stdout",
     "output_type": "stream",
     "text": [
      "Begin group  1 training\n",
      "Begin group  2 training\n",
      "Begin group  3 training\n",
      "Begin group  4 training\n"
     ]
    },
    {
     "name": "stderr",
     "output_type": "stream",
     "text": [
      "                                                                                                                        \r"
     ]
    },
    {
     "name": "stdout",
     "output_type": "stream",
     "text": [
      "Group 0, clients ['f_00074', 'f_00123', 'f_00174', 'f_00013', 'f_00193', 'f_00154', 'f_00182']\n",
      "Group 1, clients ['f_00191']\n",
      "Group 2, clients ['f_00048', 'f_00049', 'f_00058', 'f_00008']\n",
      "Group 3, clients ['f_00020', 'f_00090', 'f_00170', 'f_00149']\n",
      "Group 4, clients ['f_00127', 'f_00016', 'f_00107', 'f_00017']\n",
      "The groups difference are: [0.0, 0.0007352510332900852, 0.0009668556393401806, 0.0009629113869541461, 0.0008721835037860393]\n"
     ]
    },
    {
     "name": "stderr",
     "output_type": "stream",
     "text": [
      "Epoch:  60%|██████████████████████████████████████████████▊                               | 3/5 [00:00<00:00, 29.56it/s]"
     ]
    },
    {
     "name": "stdout",
     "output_type": "stream",
     "text": [
      "Group 0\n",
      "At round 77 accuracy: 0.6901408450704225\n",
      "At round 77 training accuracy: 0.6877135641063735\n",
      "At round 77 training loss: 0.8847753879680728\n",
      "Group 1\n",
      "At round 77 accuracy: 0.8859649122807017\n",
      "At round 77 training accuracy: 0.8899273104880582\n",
      "At round 77 training loss: 0.4860426900852259\n",
      "Group 2\n",
      "At round 77 accuracy: 0.7861635220125787\n",
      "At round 77 training accuracy: 0.8051166290443943\n",
      "At round 77 training loss: 0.7731027170802706\n",
      "Group 3\n",
      "At round 77 accuracy: 0.7591036414565826\n",
      "At round 77 training accuracy: 0.7352845528455284\n",
      "At round 77 training loss: 0.8128504247200198\n",
      "Group 4\n",
      "At round 77 accuracy: 0.6023391812865497\n",
      "At round 77 training accuracy: 0.6141568355308813\n",
      "At round 77 training loss: 1.185087422750461\n",
      "At round 77 mean test accuracy: 0.7447424204213671 mean train accuracy: 0.7464397784030472\n",
      "Begin group  0 training\n"
     ]
    },
    {
     "name": "stderr",
     "output_type": "stream",
     "text": [
      "Epoch:   0%|                                                                                      | 0/5 [00:00<?, ?it/s]"
     ]
    },
    {
     "name": "stdout",
     "output_type": "stream",
     "text": [
      "Begin group  1 training\n",
      "Begin group  2 training\n",
      "Begin group  3 training\n"
     ]
    },
    {
     "name": "stderr",
     "output_type": "stream",
     "text": [
      "                                                                                                                        \r"
     ]
    },
    {
     "name": "stdout",
     "output_type": "stream",
     "text": [
      "Begin group  4 training\n",
      "Group 0, clients ['f_00002', 'f_00173', 'f_00132', 'f_00042', 'f_00193', 'f_00024', 'f_00004']\n",
      "Group 1 is empty.\n",
      "Group 2, clients ['f_00118', 'f_00089', 'f_00049', 'f_00128', 'f_00138']\n",
      "Group 3, clients ['f_00099', 'f_00079', 'f_00050', 'f_00080', 'f_00190', 'f_00039']\n",
      "Group 4, clients ['f_00006', 'f_00196']\n",
      "The groups difference are: [0.0, 0.0006733156126403905, 0.0007604259913258637, 0.0008887897540066358, 0.0007901322550434298]\n"
     ]
    },
    {
     "name": "stderr",
     "output_type": "stream",
     "text": [
      "Epoch:   0%|                                                                                      | 0/5 [00:00<?, ?it/s]"
     ]
    },
    {
     "name": "stdout",
     "output_type": "stream",
     "text": [
      "Group 0\n",
      "At round 78 accuracy: 0.7247119078104993\n",
      "At round 78 training accuracy: 0.6909820234734809\n",
      "At round 78 training loss: 1.005663283865513\n",
      "Group 2\n",
      "At round 78 accuracy: 0.8427672955974843\n",
      "At round 78 training accuracy: 0.836719337848006\n",
      "At round 78 training loss: 0.806971556625481\n",
      "Group 3\n",
      "At round 78 accuracy: 0.7675070028011205\n",
      "At round 78 training accuracy: 0.7931707317073171\n",
      "At round 78 training loss: 0.7744544347611869\n",
      "Group 4\n",
      "At round 78 accuracy: 0.5477582846003899\n",
      "At round 78 training accuracy: 0.5544760582928522\n",
      "At round 78 training loss: 1.4628516475332023\n",
      "At round 78 mean test accuracy: 0.7206861227023735 mean train accuracy: 0.718837037830414\n",
      "Begin group  0 training\n"
     ]
    },
    {
     "name": "stderr",
     "output_type": "stream",
     "text": [
      "Epoch:   0%|                                                                                      | 0/5 [00:00<?, ?it/s]"
     ]
    },
    {
     "name": "stdout",
     "output_type": "stream",
     "text": [
      "Begin group  2 training\n"
     ]
    },
    {
     "name": "stderr",
     "output_type": "stream",
     "text": [
      "Epoch:   0%|                                                                                      | 0/5 [00:00<?, ?it/s]"
     ]
    },
    {
     "name": "stdout",
     "output_type": "stream",
     "text": [
      "Begin group  3 training\n"
     ]
    },
    {
     "name": "stderr",
     "output_type": "stream",
     "text": [
      "                                                                                                                        \r"
     ]
    },
    {
     "name": "stdout",
     "output_type": "stream",
     "text": [
      "Begin group  4 training\n",
      "Group 0, clients ['f_00054', 'f_00154', 'f_00042']\n",
      "Group 1, clients ['f_00091', 'f_00131']\n",
      "Group 2, clients ['f_00128', 'f_00098', 'f_00097']\n",
      "Group 3, clients ['f_00139', 'f_00000', 'f_00029', 'f_00180', 'f_00120', 'f_00069']\n",
      "Group 4, clients ['f_00196', 'f_00007', 'f_00137', 'f_00185', 'f_00127', 'f_00045']\n",
      "The groups difference are: [0.0, 0.0002884517002570419, 0.0007488144382743478, 0.0006175767948235489, 0.0006279278963756685]\n"
     ]
    },
    {
     "name": "stderr",
     "output_type": "stream",
     "text": [
      "Epoch:   0%|                                                                                      | 0/5 [00:00<?, ?it/s]"
     ]
    },
    {
     "name": "stdout",
     "output_type": "stream",
     "text": [
      "Group 0\n",
      "At round 79 accuracy: 0.6965428937259923\n",
      "At round 79 training accuracy: 0.6979646412123013\n",
      "At round 79 training loss: 0.9043501044449631\n",
      "Group 1\n",
      "At round 79 accuracy: 0.9122807017543859\n",
      "At round 79 training accuracy: 0.9086188992731049\n",
      "At round 79 training loss: 0.5747479424422156\n",
      "Group 2\n",
      "At round 79 accuracy: 0.6918238993710691\n",
      "At round 79 training accuracy: 0.6516177577125658\n",
      "At round 79 training loss: 0.784215422614882\n",
      "Group 3\n",
      "At round 79 accuracy: 0.7338935574229691\n",
      "At round 79 training accuracy: 0.7222764227642277\n",
      "At round 79 training loss: 0.7656397240917857\n",
      "Group 4\n",
      "At round 79 accuracy: 0.645224171539961\n",
      "At round 79 training accuracy: 0.6752255378209576\n",
      "At round 79 training loss: 1.263472534635126\n",
      "At round 79 mean test accuracy: 0.7359530447628756 mean train accuracy: 0.7311406517566315\n",
      "Begin group  0 training\n",
      "Begin group  1 training\n"
     ]
    },
    {
     "name": "stderr",
     "output_type": "stream",
     "text": [
      "Epoch:   0%|                                                                                      | 0/5 [00:00<?, ?it/s]"
     ]
    },
    {
     "name": "stdout",
     "output_type": "stream",
     "text": [
      "Begin group  2 training\n",
      "Begin group  3 training\n"
     ]
    },
    {
     "name": "stderr",
     "output_type": "stream",
     "text": [
      "Epoch:   0%|                                                                                      | 0/5 [00:00<?, ?it/s]"
     ]
    },
    {
     "name": "stdout",
     "output_type": "stream",
     "text": [
      "Begin group  4 training\n"
     ]
    },
    {
     "name": "stderr",
     "output_type": "stream",
     "text": [
      "                                                                                                                        \r"
     ]
    },
    {
     "name": "stdout",
     "output_type": "stream",
     "text": [
      "Group 0, clients ['f_00142', 'f_00104', 'f_00023', 'f_00022', 'f_00092']\n",
      "Group 1, clients ['f_00021']\n",
      "Group 2, clients ['f_00168', 'f_00097', 'f_00028', 'f_00049']\n",
      "Group 3, clients ['f_00109', 'f_00060', 'f_00130', 'f_00029', 'f_00030', 'f_00149']\n",
      "Group 4, clients ['f_00161', 'f_00061', 'f_00005', 'f_00025']\n",
      "The groups difference are: [0.0, 0.0005551444366114211, 0.0008475292702376791, 0.0006791208043193109, 0.00042259970049407514]\n"
     ]
    },
    {
     "name": "stderr",
     "output_type": "stream",
     "text": [
      "Epoch:   0%|                                                                                      | 0/5 [00:00<?, ?it/s]"
     ]
    },
    {
     "name": "stdout",
     "output_type": "stream",
     "text": [
      "Group 0\n",
      "At round 80 accuracy: 0.6709346991037132\n",
      "At round 80 training accuracy: 0.6574060317931957\n",
      "At round 80 training loss: 1.0562075971051677\n",
      "Group 1\n",
      "At round 80 accuracy: 0.8947368421052632\n",
      "At round 80 training accuracy: 0.8940809968847352\n",
      "At round 80 training loss: 0.47223936830601837\n",
      "Group 2\n",
      "At round 80 accuracy: 0.8364779874213837\n",
      "At round 80 training accuracy: 0.8239277652370203\n",
      "At round 80 training loss: 0.6712346269368588\n",
      "Group 3\n",
      "At round 80 accuracy: 0.7591036414565826\n",
      "At round 80 training accuracy: 0.7616260162601626\n",
      "At round 80 training loss: 0.7399121657328877\n",
      "Group 4\n",
      "At round 80 accuracy: 0.6491228070175439\n",
      "At round 80 training accuracy: 0.6858662965533194\n",
      "At round 80 training loss: 1.0903593179613194\n",
      "At round 80 mean test accuracy: 0.7620751954208973 mean train accuracy: 0.7645814213456866\n",
      "Begin group  0 training\n"
     ]
    },
    {
     "name": "stderr",
     "output_type": "stream",
     "text": [
      "Epoch:   0%|                                                                                      | 0/5 [00:00<?, ?it/s]"
     ]
    },
    {
     "name": "stdout",
     "output_type": "stream",
     "text": [
      "Begin group  1 training\n",
      "Begin group  2 training\n",
      "Begin group  3 training\n"
     ]
    },
    {
     "name": "stderr",
     "output_type": "stream",
     "text": [
      "                                                                                                                        \r"
     ]
    },
    {
     "name": "stdout",
     "output_type": "stream",
     "text": [
      "Begin group  4 training\n",
      "Group 0, clients ['f_00103', 'f_00182', 'f_00073', 'f_00044', 'f_00134', 'f_00143', 'f_00032']\n",
      "Group 1, clients ['f_00171', 'f_00141']\n",
      "Group 2, clients ['f_00088', 'f_00068']\n",
      "Group 3, clients ['f_00160', 'f_00189', 'f_00190', 'f_00149']\n",
      "Group 4, clients ['f_00037', 'f_00147', 'f_00047', 'f_00086', 'f_00187']\n",
      "The groups difference are: [0.0, 0.00027757907708814145, 0.0005595250836745169, 0.0005228618454062861, 0.0005148530752114855]\n"
     ]
    },
    {
     "name": "stderr",
     "output_type": "stream",
     "text": [
      "Epoch:   0%|                                                                                      | 0/5 [00:00<?, ?it/s]"
     ]
    },
    {
     "name": "stdout",
     "output_type": "stream",
     "text": [
      "Group 0\n",
      "At round 81 accuracy: 0.7592829705505761\n",
      "At round 81 training accuracy: 0.7530827514485218\n",
      "At round 81 training loss: 0.8634965115503116\n",
      "Group 1\n",
      "At round 81 accuracy: 0.8070175438596491\n",
      "At round 81 training accuracy: 0.838006230529595\n",
      "At round 81 training loss: 0.5839422096035067\n",
      "Group 2\n",
      "At round 81 accuracy: 0.8050314465408805\n",
      "At round 81 training accuracy: 0.8096313017306245\n",
      "At round 81 training loss: 0.7813803812361374\n",
      "Group 3\n",
      "At round 81 accuracy: 0.8207282913165266\n",
      "At round 81 training accuracy: 0.8087804878048781\n",
      "At round 81 training loss: 0.7739026655414241\n",
      "Group 4\n",
      "At round 81 accuracy: 0.557504873294347\n",
      "At round 81 training accuracy: 0.5486930372426556\n",
      "At round 81 training loss: 1.5847853035141466\n",
      "At round 81 mean test accuracy: 0.749913025112396 mean train accuracy: 0.751638761751255\n",
      "Begin group  0 training\n"
     ]
    },
    {
     "name": "stderr",
     "output_type": "stream",
     "text": [
      "Epoch:   0%|                                                                                      | 0/5 [00:00<?, ?it/s]"
     ]
    },
    {
     "name": "stdout",
     "output_type": "stream",
     "text": [
      "Begin group  1 training\n",
      "Begin group  2 training\n",
      "Begin group  3 training\n"
     ]
    },
    {
     "name": "stderr",
     "output_type": "stream",
     "text": [
      "                                                                                                                        "
     ]
    },
    {
     "name": "stdout",
     "output_type": "stream",
     "text": [
      "Begin group  4 training\n"
     ]
    },
    {
     "name": "stderr",
     "output_type": "stream",
     "text": [
      "\r"
     ]
    },
    {
     "name": "stdout",
     "output_type": "stream",
     "text": [
      "Group 0, clients ['f_00114', 'f_00084', 'f_00032', 'f_00033']\n",
      "Group 1, clients ['f_00191']\n",
      "Group 2, clients ['f_00018']\n",
      "Group 3, clients ['f_00130', 'f_00179', 'f_00090', 'f_00040', 'f_00140']\n",
      "Group 4, clients ['f_00086', 'f_00151', 'f_00116', 'f_00066', 'f_00055', 'f_00107', 'f_00161', 'f_00026', 'f_00015']\n",
      "The groups difference are: [0.0, 0.0004525770086500902, 0.0007404630375071886, 0.0008036875107941821, 0.0006568439734456755]\n"
     ]
    },
    {
     "name": "stderr",
     "output_type": "stream",
     "text": [
      "Epoch:   0%|                                                                                      | 0/5 [00:00<?, ?it/s]"
     ]
    },
    {
     "name": "stdout",
     "output_type": "stream",
     "text": [
      "Group 0\n",
      "At round 82 accuracy: 0.7144686299615877\n",
      "At round 82 training accuracy: 0.6926162531570346\n",
      "At round 82 training loss: 1.0089620366358258\n",
      "Group 1\n",
      "At round 82 accuracy: 0.8771929824561403\n",
      "At round 82 training accuracy: 0.8785046728971962\n",
      "At round 82 training loss: 0.49655674832756025\n",
      "Group 2\n",
      "At round 82 accuracy: 0.8238993710691824\n",
      "At round 82 training accuracy: 0.8261851015801355\n",
      "At round 82 training loss: 0.6776543711701042\n",
      "Group 3\n",
      "At round 82 accuracy: 0.7759103641456583\n",
      "At round 82 training accuracy: 0.7795121951219512\n",
      "At round 82 training loss: 0.7398292918224645\n",
      "Group 4\n",
      "At round 82 accuracy: 0.5536062378167641\n",
      "At round 82 training accuracy: 0.5614156835530881\n",
      "At round 82 training loss: 1.358360226303787\n",
      "At round 82 mean test accuracy: 0.7490155170898665 mean train accuracy: 0.7476467812618812\n",
      "Begin group  0 training\n",
      "Begin group  1 training\n",
      "Begin group  2 training\n",
      "Begin group  3 training\n"
     ]
    },
    {
     "name": "stderr",
     "output_type": "stream",
     "text": [
      "Epoch:   0%|                                                                                      | 0/5 [00:00<?, ?it/s]"
     ]
    },
    {
     "name": "stdout",
     "output_type": "stream",
     "text": [
      "Begin group  4 training\n"
     ]
    },
    {
     "name": "stderr",
     "output_type": "stream",
     "text": [
      "                                                                                                                        \r"
     ]
    },
    {
     "name": "stdout",
     "output_type": "stream",
     "text": [
      "Group 0, clients ['f_00042', 'f_00113']\n",
      "Group 1, clients ['f_00071']\n",
      "Group 2, clients ['f_00158', 'f_00088', 'f_00138']\n",
      "Group 3, clients ['f_00069', 'f_00109', 'f_00030', 'f_00179']\n",
      "Group 4, clients ['f_00027', 'f_00161', 'f_00125', 'f_00151', 'f_00147', 'f_00186', 'f_00046', 'f_00055', 'f_00056', 'f_00145']\n",
      "The groups difference are: [0.0, 0.0004004544395974641, 0.000491825951354441, 0.0005590226953647859, 0.0003565034316702631]\n"
     ]
    },
    {
     "name": "stderr",
     "output_type": "stream",
     "text": [
      "Epoch:   0%|                                                                                      | 0/5 [00:00<?, ?it/s]"
     ]
    },
    {
     "name": "stdout",
     "output_type": "stream",
     "text": [
      "Group 0\n",
      "At round 83 accuracy: 0.7490396927016645\n",
      "At round 83 training accuracy: 0.7349576585945625\n",
      "At round 83 training loss: 1.0284259912341085\n",
      "Group 1\n",
      "At round 83 accuracy: 0.8859649122807017\n",
      "At round 83 training accuracy: 0.8920041536863966\n",
      "At round 83 training loss: 0.4793110170468363\n",
      "Group 2\n",
      "At round 83 accuracy: 0.8238993710691824\n",
      "At round 83 training accuracy: 0.8021068472535741\n",
      "At round 83 training loss: 0.6952808271950578\n",
      "Group 3\n",
      "At round 83 accuracy: 0.7759103641456583\n",
      "At round 83 training accuracy: 0.7967479674796748\n",
      "At round 83 training loss: 0.782118891157755\n",
      "Group 4\n",
      "At round 83 accuracy: 0.6393762183235867\n",
      "At round 83 training accuracy: 0.669442516770761\n",
      "At round 83 training loss: 1.1077443278279813\n",
      "At round 83 mean test accuracy: 0.7748381117041588 mean train accuracy: 0.779051828756994\n",
      "Begin group  0 training\n",
      "Begin group  1 training\n",
      "Begin group  2 training\n"
     ]
    },
    {
     "name": "stderr",
     "output_type": "stream",
     "text": [
      "Epoch:   0%|                                                                                      | 0/5 [00:00<?, ?it/s]"
     ]
    },
    {
     "name": "stdout",
     "output_type": "stream",
     "text": [
      "Begin group  3 training\n",
      "Begin group  4 training\n"
     ]
    },
    {
     "name": "stderr",
     "output_type": "stream",
     "text": [
      "                                                                                                                        \r"
     ]
    },
    {
     "name": "stdout",
     "output_type": "stream",
     "text": [
      "Group 0, clients ['f_00012', 'f_00103', 'f_00074', 'f_00104', 'f_00134', 'f_00054']\n",
      "Group 1, clients ['f_00011', 'f_00001']\n",
      "Group 2, clients ['f_00188', 'f_00028', 'f_00059']\n",
      "Group 3, clients ['f_00120', 'f_00119']\n",
      "Group 4, clients ['f_00155', 'f_00096', 'f_00025', 'f_00157', 'f_00137', 'f_00085', 'f_00066']\n",
      "The groups difference are: [0.0, 0.0002752283008127243, 0.0005320637802399553, 0.0005186436906019498, 0.0004052411518918886]\n"
     ]
    },
    {
     "name": "stderr",
     "output_type": "stream",
     "text": [
      "Epoch:   0%|                                                                                      | 0/5 [00:00<?, ?it/s]"
     ]
    },
    {
     "name": "stdout",
     "output_type": "stream",
     "text": [
      "Group 0\n",
      "At round 84 accuracy: 0.6837387964148528\n",
      "At round 84 training accuracy: 0.6808795127024216\n",
      "At round 84 training loss: 0.9324173668645462\n",
      "Group 1\n",
      "At round 84 accuracy: 0.9035087719298246\n",
      "At round 84 training accuracy: 0.893042575285566\n",
      "At round 84 training loss: 0.5013712364193806\n",
      "Group 2\n",
      "At round 84 accuracy: 0.7987421383647799\n",
      "At round 84 training accuracy: 0.7915726109857035\n",
      "At round 84 training loss: 0.6950934592541937\n",
      "Group 3\n",
      "At round 84 accuracy: 0.7226890756302521\n",
      "At round 84 training accuracy: 0.6995121951219512\n",
      "At round 84 training loss: 0.859738030627491\n",
      "Group 4\n",
      "At round 84 accuracy: 0.6666666666666666\n",
      "At round 84 training accuracy: 0.7022900763358778\n",
      "At round 84 training loss: 1.124600859571325\n",
      "At round 84 mean test accuracy: 0.7550690898012752 mean train accuracy: 0.7534593940863041\n",
      "Begin group  0 training\n"
     ]
    },
    {
     "name": "stderr",
     "output_type": "stream",
     "text": [
      "Epoch:   0%|                                                                                      | 0/5 [00:00<?, ?it/s]"
     ]
    },
    {
     "name": "stdout",
     "output_type": "stream",
     "text": [
      "Begin group  1 training\n",
      "Begin group  2 training\n",
      "Begin group  3 training\n"
     ]
    },
    {
     "name": "stderr",
     "output_type": "stream",
     "text": [
      "Epoch:   0%|                                                                                      | 0/5 [00:00<?, ?it/s]"
     ]
    },
    {
     "name": "stdout",
     "output_type": "stream",
     "text": [
      "Begin group  4 training\n"
     ]
    },
    {
     "name": "stderr",
     "output_type": "stream",
     "text": [
      "                                                                                                                        \r"
     ]
    },
    {
     "name": "stdout",
     "output_type": "stream",
     "text": [
      "Group 0, clients ['f_00094', 'f_00042', 'f_00143', 'f_00023']\n",
      "Group 1, clients ['f_00111']\n",
      "Group 2, clients ['f_00048', 'f_00049', 'f_00088', 'f_00028', 'f_00148']\n",
      "Group 3, clients ['f_00070', 'f_00139']\n",
      "Group 4, clients ['f_00167', 'f_00195', 'f_00046', 'f_00157', 'f_00066', 'f_00055', 'f_00185', 'f_00087']\n",
      "The groups difference are: [0.0, 0.00041352907587199894, 0.000453723124834049, 0.0005363310013040135, 0.00034776554184134945]\n"
     ]
    },
    {
     "name": "stderr",
     "output_type": "stream",
     "text": [
      "Epoch:   0%|                                                                                      | 0/5 [00:00<?, ?it/s]"
     ]
    },
    {
     "name": "stdout",
     "output_type": "stream",
     "text": [
      "Group 0\n",
      "At round 85 accuracy: 0.6837387964148528\n",
      "At round 85 training accuracy: 0.6783538850096568\n",
      "At round 85 training loss: 1.078710964150741\n",
      "Group 1\n",
      "At round 85 accuracy: 0.9298245614035088\n",
      "At round 85 training accuracy: 0.9376947040498442\n",
      "At round 85 training loss: 0.48984636760946376\n",
      "Group 2\n",
      "At round 85 accuracy: 0.8553459119496856\n",
      "At round 85 training accuracy: 0.8525206922498119\n",
      "At round 85 training loss: 0.7504014041838205\n",
      "Group 3\n",
      "At round 85 accuracy: 0.7142857142857143\n",
      "At round 85 training accuracy: 0.6917073170731707\n",
      "At round 85 training loss: 0.7841975968252353\n",
      "Group 4\n",
      "At round 85 accuracy: 0.6413255360623782\n",
      "At round 85 training accuracy: 0.6722183668748555\n",
      "At round 85 training loss: 1.0560269242851872\n",
      "At round 85 mean test accuracy: 0.764904104023228 mean train accuracy: 0.7664989930514678\n",
      "Begin group  0 training\n"
     ]
    },
    {
     "name": "stderr",
     "output_type": "stream",
     "text": [
      "Epoch:   0%|                                                                                      | 0/5 [00:00<?, ?it/s]"
     ]
    },
    {
     "name": "stdout",
     "output_type": "stream",
     "text": [
      "Begin group  1 training\n",
      "Begin group  2 training\n",
      "Begin group  3 training\n"
     ]
    },
    {
     "name": "stderr",
     "output_type": "stream",
     "text": [
      "Epoch:   0%|                                                                                      | 0/5 [00:00<?, ?it/s]"
     ]
    },
    {
     "name": "stdout",
     "output_type": "stream",
     "text": [
      "Begin group  4 training\n"
     ]
    },
    {
     "name": "stderr",
     "output_type": "stream",
     "text": [
      "                                                                                                                        \r"
     ]
    },
    {
     "name": "stdout",
     "output_type": "stream",
     "text": [
      "Group 0, clients ['f_00182', 'f_00113', 'f_00132', 'f_00012', 'f_00094', 'f_00034', 'f_00074', 'f_00184', 'f_00032', 'f_00083']\n",
      "Group 1, clients ['f_00171', 'f_00001']\n",
      "Group 2 is empty.\n",
      "Group 3, clients ['f_00030', 'f_00189']\n",
      "Group 4, clients ['f_00176', 'f_00055', 'f_00135', 'f_00195', 'f_00067', 'f_00037']\n",
      "The groups difference are: [1.1102230246251565e-16, 0.0003471239478161081, 0.000483011368403341, 0.0006787714993325977, 0.000552735966897977]\n"
     ]
    },
    {
     "name": "stderr",
     "output_type": "stream",
     "text": [
      "Epoch:   0%|                                                                                      | 0/5 [00:00<?, ?it/s]"
     ]
    },
    {
     "name": "stdout",
     "output_type": "stream",
     "text": [
      "Group 0\n",
      "At round 86 accuracy: 0.7285531370038413\n",
      "At round 86 training accuracy: 0.7123755756945476\n",
      "At round 86 training loss: 0.9001309314147447\n",
      "Group 1\n",
      "At round 86 accuracy: 0.9035087719298246\n",
      "At round 86 training accuracy: 0.9169262720664589\n",
      "At round 86 training loss: 0.48414820308873463\n",
      "Group 3\n",
      "At round 86 accuracy: 0.773109243697479\n",
      "At round 86 training accuracy: 0.7879674796747967\n",
      "At round 86 training loss: 0.8052356192639204\n",
      "Group 4\n",
      "At round 86 accuracy: 0.5925925925925926\n",
      "At round 86 training accuracy: 0.613000231320842\n",
      "At round 86 training loss: 1.1615921336138053\n",
      "At round 86 mean test accuracy: 0.7494409363059343 mean train accuracy: 0.7575673896891614\n",
      "Begin group  0 training\n"
     ]
    },
    {
     "name": "stderr",
     "output_type": "stream",
     "text": [
      "Epoch:   0%|                                                                                      | 0/5 [00:00<?, ?it/s]"
     ]
    },
    {
     "name": "stdout",
     "output_type": "stream",
     "text": [
      "Begin group  1 training\n",
      "Begin group  3 training\n",
      "Begin group  4 training\n"
     ]
    },
    {
     "name": "stderr",
     "output_type": "stream",
     "text": [
      "                                                                                                                        \r"
     ]
    },
    {
     "name": "stdout",
     "output_type": "stream",
     "text": [
      "Group 0, clients ['f_00032', 'f_00012', 'f_00194', 'f_00044', 'f_00013', 'f_00024', 'f_00093']\n",
      "Group 1 is empty.\n",
      "Group 2, clients ['f_00158', 'f_00097', 'f_00008']\n",
      "Group 3, clients ['f_00180', 'f_00080', 'f_00189', 'f_00029']\n",
      "Group 4, clients ['f_00145', 'f_00125', 'f_00165', 'f_00106', 'f_00067', 'f_00135']\n",
      "The groups difference are: [1.1102230246251565e-16, 0.00039133627074083854, 0.0003446775598014984, 0.0006248550565137734, 0.00053749085042476]\n"
     ]
    },
    {
     "name": "stderr",
     "output_type": "stream",
     "text": [
      "Epoch:   0%|                                                                                      | 0/5 [00:00<?, ?it/s]"
     ]
    },
    {
     "name": "stdout",
     "output_type": "stream",
     "text": [
      "Group 0\n",
      "At round 87 accuracy: 0.7144686299615877\n",
      "At round 87 training accuracy: 0.7007874015748031\n",
      "At round 87 training loss: 1.0112927180752678\n",
      "Group 2\n",
      "At round 87 accuracy: 0.8490566037735849\n",
      "At round 87 training accuracy: 0.8510158013544018\n",
      "At round 87 training loss: 0.8328163988434165\n",
      "Group 3\n",
      "At round 87 accuracy: 0.7254901960784313\n",
      "At round 87 training accuracy: 0.7086178861788618\n",
      "At round 87 training loss: 0.8928209674358368\n",
      "Group 4\n",
      "At round 87 accuracy: 0.5867446393762183\n",
      "At round 87 training accuracy: 0.5852417302798982\n",
      "At round 87 training loss: 1.2173282963766865\n",
      "At round 87 mean test accuracy: 0.7189400172974556 mean train accuracy: 0.7114157048469912\n",
      "Begin group  0 training\n"
     ]
    },
    {
     "name": "stderr",
     "output_type": "stream",
     "text": [
      "Epoch:   0%|                                                                                      | 0/5 [00:00<?, ?it/s]"
     ]
    },
    {
     "name": "stdout",
     "output_type": "stream",
     "text": [
      "Begin group  2 training\n",
      "Begin group  3 training\n"
     ]
    },
    {
     "name": "stderr",
     "output_type": "stream",
     "text": [
      "Epoch:   0%|                                                                                      | 0/5 [00:00<?, ?it/s]"
     ]
    },
    {
     "name": "stdout",
     "output_type": "stream",
     "text": [
      "Begin group  4 training\n"
     ]
    },
    {
     "name": "stderr",
     "output_type": "stream",
     "text": [
      "                                                                                                                        \r"
     ]
    },
    {
     "name": "stdout",
     "output_type": "stream",
     "text": [
      "Group 0, clients ['f_00002', 'f_00013', 'f_00074', 'f_00033', 'f_00153', 'f_00113']\n",
      "Group 1, clients ['f_00111', 'f_00021']\n",
      "Group 2, clients ['f_00158']\n",
      "Group 3, clients ['f_00199', 'f_00039', 'f_00129', 'f_00180', 'f_00069']\n",
      "Group 4, clients ['f_00166', 'f_00085', 'f_00057', 'f_00087', 'f_00105', 'f_00096']\n",
      "The groups difference are: [0.0, 0.00032712133101342467, 0.000546224429431863, 0.0007098086005015158, 0.0005400507025206114]\n"
     ]
    },
    {
     "name": "stderr",
     "output_type": "stream",
     "text": [
      "Epoch:   0%|                                                                                      | 0/5 [00:00<?, ?it/s]"
     ]
    },
    {
     "name": "stdout",
     "output_type": "stream",
     "text": [
      "Group 0\n",
      "At round 88 accuracy: 0.6875800256081946\n",
      "At round 88 training accuracy: 0.6692913385826772\n",
      "At round 88 training loss: 1.0673506068999161\n",
      "Group 1\n",
      "At round 88 accuracy: 0.9298245614035088\n",
      "At round 88 training accuracy: 0.9387331256490135\n",
      "At round 88 training loss: 0.6289776629871793\n",
      "Group 2\n",
      "At round 88 accuracy: 0.8176100628930818\n",
      "At round 88 training accuracy: 0.801354401805869\n",
      "At round 88 training loss: 0.692679076736542\n",
      "Group 3\n",
      "At round 88 accuracy: 0.7478991596638656\n",
      "At round 88 training accuracy: 0.7486178861788618\n",
      "At round 88 training loss: 0.7412252943690231\n",
      "Group 4\n",
      "At round 88 accuracy: 0.5653021442495126\n",
      "At round 88 training accuracy: 0.5933379597501734\n",
      "At round 88 training loss: 1.078410068803051\n",
      "At round 88 mean test accuracy: 0.7496431907636327 mean train accuracy: 0.750266942393319\n",
      "Begin group  0 training\n"
     ]
    },
    {
     "name": "stderr",
     "output_type": "stream",
     "text": [
      "Epoch:   0%|                                                                                      | 0/5 [00:00<?, ?it/s]"
     ]
    },
    {
     "name": "stdout",
     "output_type": "stream",
     "text": [
      "Begin group  1 training\n",
      "Begin group  2 training\n",
      "Begin group  3 training\n"
     ]
    },
    {
     "name": "stderr",
     "output_type": "stream",
     "text": [
      "Epoch:   0%|                                                                                      | 0/5 [00:00<?, ?it/s]"
     ]
    },
    {
     "name": "stdout",
     "output_type": "stream",
     "text": [
      "Begin group  4 training\n"
     ]
    },
    {
     "name": "stderr",
     "output_type": "stream",
     "text": [
      "                                                                                                                        \r"
     ]
    },
    {
     "name": "stdout",
     "output_type": "stream",
     "text": [
      "Group 0, clients ['f_00014', 'f_00104', 'f_00144', 'f_00012', 'f_00074']\n",
      "Group 1, clients ['f_00091']\n",
      "Group 2, clients ['f_00058', 'f_00078', 'f_00089', 'f_00028']\n",
      "Group 3, clients ['f_00170', 'f_00120', 'f_00179']\n",
      "Group 4, clients ['f_00197', 'f_00127', 'f_00025', 'f_00095', 'f_00065', 'f_00196', 'f_00107']\n",
      "The groups difference are: [0.0, 0.00025980705383576996, 0.0005890156625273368, 0.000619312502268432, 0.0006106738640070386]\n"
     ]
    },
    {
     "name": "stderr",
     "output_type": "stream",
     "text": [
      "Epoch:   0%|                                                                                      | 0/5 [00:00<?, ?it/s]"
     ]
    },
    {
     "name": "stdout",
     "output_type": "stream",
     "text": [
      "Group 0\n",
      "At round 89 accuracy: 0.6965428937259923\n",
      "At round 89 training accuracy: 0.6951418808497994\n",
      "At round 89 training loss: 0.890923669514977\n",
      "Group 1\n",
      "At round 89 accuracy: 0.9298245614035088\n",
      "At round 89 training accuracy: 0.936656282450675\n",
      "At round 89 training loss: 0.5140723876059364\n",
      "Group 2\n",
      "At round 89 accuracy: 0.7421383647798742\n",
      "At round 89 training accuracy: 0.7140707298720843\n",
      "At round 89 training loss: 0.7197846381443618\n",
      "Group 3\n",
      "At round 89 accuracy: 0.7142857142857143\n",
      "At round 89 training accuracy: 0.6923577235772358\n",
      "At round 89 training loss: 0.7823390197366233\n",
      "Group 4\n",
      "At round 89 accuracy: 0.5886939571150097\n",
      "At round 89 training accuracy: 0.602590793430488\n",
      "At round 89 training loss: 1.117166616658549\n",
      "At round 89 mean test accuracy: 0.7342970982620199 mean train accuracy: 0.7281634820360566\n",
      "Begin group  0 training\n"
     ]
    },
    {
     "name": "stderr",
     "output_type": "stream",
     "text": [
      "Epoch:   0%|                                                                                      | 0/5 [00:00<?, ?it/s]"
     ]
    },
    {
     "name": "stdout",
     "output_type": "stream",
     "text": [
      "Begin group  1 training\n",
      "Begin group  2 training\n",
      "Begin group  3 training\n"
     ]
    },
    {
     "name": "stderr",
     "output_type": "stream",
     "text": [
      "                                                                                                                        "
     ]
    },
    {
     "name": "stdout",
     "output_type": "stream",
     "text": [
      "Begin group  4 training\n"
     ]
    },
    {
     "name": "stderr",
     "output_type": "stream",
     "text": [
      "                                                                                                                        \r"
     ]
    },
    {
     "name": "stdout",
     "output_type": "stream",
     "text": [
      "Group 0, clients ['f_00193', 'f_00082', 'f_00184', 'f_00083', 'f_00063', 'f_00122']\n",
      "Group 1, clients ['f_00041', 'f_00001']\n",
      "Group 2, clients ['f_00088', 'f_00038']\n",
      "Group 3, clients ['f_00029', 'f_00079']\n",
      "Group 4, clients ['f_00015', 'f_00161', 'f_00117', 'f_00016', 'f_00145', 'f_00197', 'f_00115', 'f_00185']\n",
      "The groups difference are: [0.0, 0.0005771883195365701, 0.0005107611876992157, 0.000588535088563491, 0.00038165651407884305]\n"
     ]
    },
    {
     "name": "stderr",
     "output_type": "stream",
     "text": [
      "Epoch:   0%|                                                                                      | 0/5 [00:00<?, ?it/s]"
     ]
    },
    {
     "name": "stdout",
     "output_type": "stream",
     "text": [
      "Group 0\n",
      "At round 90 accuracy: 0.6325224071702945\n",
      "At round 90 training accuracy: 0.6190759173971178\n",
      "At round 90 training loss: 1.1726638087367713\n",
      "Group 1\n",
      "At round 90 accuracy: 0.8771929824561403\n",
      "At round 90 training accuracy: 0.877466251298027\n",
      "At round 90 training loss: 0.4571308095321477\n",
      "Group 2\n",
      "At round 90 accuracy: 0.8301886792452831\n",
      "At round 90 training accuracy: 0.8382242287434161\n",
      "At round 90 training loss: 0.7291441370527757\n",
      "Group 3\n",
      "At round 90 accuracy: 0.8011204481792717\n",
      "At round 90 training accuracy: 0.7850406504065041\n",
      "At round 90 training loss: 0.7176588533564312\n",
      "Group 4\n",
      "At round 90 accuracy: 0.6978557504873294\n",
      "At round 90 training accuracy: 0.7187138561184363\n",
      "At round 90 training loss: 1.0175163603590065\n",
      "At round 90 mean test accuracy: 0.7677760535076639 mean train accuracy: 0.7677041807927002\n",
      "Begin group  0 training\n"
     ]
    },
    {
     "name": "stderr",
     "output_type": "stream",
     "text": [
      "Epoch:   0%|                                                                                      | 0/5 [00:00<?, ?it/s]"
     ]
    },
    {
     "name": "stdout",
     "output_type": "stream",
     "text": [
      "Begin group  1 training\n",
      "Begin group  2 training\n",
      "Begin group  3 training\n",
      "Begin group  4 training\n"
     ]
    },
    {
     "name": "stderr",
     "output_type": "stream",
     "text": [
      "                                                                                                                        \r"
     ]
    },
    {
     "name": "stdout",
     "output_type": "stream",
     "text": [
      "Group 0, clients ['f_00023', 'f_00153', 'f_00122', 'f_00124', 'f_00163', 'f_00112', 'f_00184', 'f_00084', 'f_00003', 'f_00073']\n",
      "Group 1, clients ['f_00011', 'f_00111']\n",
      "Group 2 is empty.\n",
      "Group 3, clients ['f_00020', 'f_00090', 'f_00120']\n",
      "Group 4, clients ['f_00137', 'f_00027', 'f_00055', 'f_00177', 'f_00146']\n",
      "The groups difference are: [0.0, 0.0002194723720253533, 0.0005290380559082042, 0.0006490410653006151, 0.0004979757078806824]\n"
     ]
    },
    {
     "name": "stderr",
     "output_type": "stream",
     "text": [
      "Epoch:   0%|                                                                                      | 0/5 [00:00<?, ?it/s]"
     ]
    },
    {
     "name": "stdout",
     "output_type": "stream",
     "text": [
      "Group 0\n",
      "At round 91 accuracy: 0.7003841229193342\n",
      "At round 91 training accuracy: 0.7018273659188827\n",
      "At round 91 training loss: 0.9094356479536387\n",
      "Group 1\n",
      "At round 91 accuracy: 0.8771929824561403\n",
      "At round 91 training accuracy: 0.885773624091381\n",
      "At round 91 training loss: 0.5296827472073267\n",
      "Group 3\n",
      "At round 91 accuracy: 0.6890756302521008\n",
      "At round 91 training accuracy: 0.68\n",
      "At round 91 training loss: 1.0165256556165896\n",
      "Group 4\n",
      "At round 91 accuracy: 0.6861598440545809\n",
      "At round 91 training accuracy: 0.727735368956743\n",
      "At round 91 training loss: 1.0682473394734535\n",
      "At round 91 mean test accuracy: 0.7382031449205391 mean train accuracy: 0.7488340897417517\n",
      "Begin group  0 training\n"
     ]
    },
    {
     "name": "stderr",
     "output_type": "stream",
     "text": [
      "Epoch:   0%|                                                                                      | 0/5 [00:00<?, ?it/s]"
     ]
    },
    {
     "name": "stdout",
     "output_type": "stream",
     "text": [
      "Begin group  1 training\n",
      "Begin group  3 training\n"
     ]
    },
    {
     "name": "stderr",
     "output_type": "stream",
     "text": [
      "                                                                                                                        \r"
     ]
    },
    {
     "name": "stdout",
     "output_type": "stream",
     "text": [
      "Begin group  4 training\n",
      "Group 0, clients ['f_00024', 'f_00063', 'f_00032', 'f_00034', 'f_00044', 'f_00194', 'f_00123', 'f_00183', 'f_00022']\n",
      "Group 1, clients ['f_00031', 'f_00091', 'f_00141']\n",
      "Group 2, clients ['f_00038']\n",
      "Group 3 is empty.\n",
      "Group 4, clients ['f_00116', 'f_00176', 'f_00026', 'f_00007', 'f_00036', 'f_00115', 'f_00061']\n",
      "The groups difference are: [0.0, 0.0003259468287741818, 0.0004040385160903881, 0.0006020548563909767, 0.0006178698043821651]\n"
     ]
    },
    {
     "name": "stderr",
     "output_type": "stream",
     "text": [
      "Epoch:   0%|                                                                                      | 0/5 [00:00<?, ?it/s]"
     ]
    },
    {
     "name": "stdout",
     "output_type": "stream",
     "text": [
      "Group 0\n",
      "At round 92 accuracy: 0.736235595390525\n",
      "At round 92 training accuracy: 0.727975040855742\n",
      "At round 92 training loss: 0.8415481775286222\n",
      "Group 1\n",
      "At round 92 accuracy: 0.9122807017543859\n",
      "At round 92 training accuracy: 0.9252336448598131\n",
      "At round 92 training loss: 0.45448616004683395\n",
      "Group 2\n",
      "At round 92 accuracy: 0.8679245283018868\n",
      "At round 92 training accuracy: 0.8600451467268623\n",
      "At round 92 training loss: 0.8102513692538661\n",
      "Group 4\n",
      "At round 92 accuracy: 0.5867446393762183\n",
      "At round 92 training accuracy: 0.5806153134397409\n",
      "At round 92 training loss: 1.3675272134120835\n",
      "At round 92 mean test accuracy: 0.7757963662057539 mean train accuracy: 0.7734672864705396\n",
      "Begin group  0 training\n"
     ]
    },
    {
     "name": "stderr",
     "output_type": "stream",
     "text": [
      "Epoch:   0%|                                                                                      | 0/5 [00:00<?, ?it/s]"
     ]
    },
    {
     "name": "stdout",
     "output_type": "stream",
     "text": [
      "Begin group  1 training\n",
      "Begin group  2 training\n",
      "Begin group  4 training\n"
     ]
    },
    {
     "name": "stderr",
     "output_type": "stream",
     "text": [
      "                                                                                                                        \r"
     ]
    },
    {
     "name": "stdout",
     "output_type": "stream",
     "text": [
      "Group 0, clients ['f_00182', 'f_00004', 'f_00153', 'f_00052', 'f_00054']\n",
      "Group 1, clients ['f_00041']\n",
      "Group 2, clients ['f_00089', 'f_00068', 'f_00028', 'f_00078']\n",
      "Group 3, clients ['f_00050', 'f_00100', 'f_00129', 'f_00119']\n",
      "Group 4, clients ['f_00065', 'f_00136', 'f_00151', 'f_00095', 'f_00007', 'f_00175']\n",
      "The groups difference are: [0.0, 0.0004964350137899309, 0.0005505065167862311, 0.0005057953348996946, 0.0004870119731530398]\n"
     ]
    },
    {
     "name": "stderr",
     "output_type": "stream",
     "text": [
      "Epoch:  80%|██████████████████████████████████████████████████████████████▍               | 4/5 [00:00<00:00, 39.09it/s]"
     ]
    },
    {
     "name": "stdout",
     "output_type": "stream",
     "text": [
      "Group 0\n",
      "At round 93 accuracy: 0.6850192061459667\n",
      "At round 93 training accuracy: 0.6588916951418808\n",
      "At round 93 training loss: 1.03152525287701\n",
      "Group 1\n",
      "At round 93 accuracy: 0.9122807017543859\n",
      "At round 93 training accuracy: 0.9252336448598131\n",
      "At round 93 training loss: 0.4355505315252306\n",
      "Group 2\n",
      "At round 93 accuracy: 0.8490566037735849\n",
      "At round 93 training accuracy: 0.837471783295711\n",
      "At round 93 training loss: 0.7057552667288425\n",
      "Group 3\n",
      "At round 93 accuracy: 0.7647058823529411\n",
      "At round 93 training accuracy: 0.7811382113821138\n",
      "At round 93 training loss: 0.8237764138128699\n",
      "Group 4\n",
      "At round 93 accuracy: 0.6491228070175439\n",
      "At round 93 training accuracy: 0.6710617626648161\n",
      "At round 93 training loss: 1.089098788454884\n",
      "At round 93 mean test accuracy: 0.7720370402088845 mean train accuracy: 0.7747594194688672\n",
      "Begin group  0 training\n"
     ]
    },
    {
     "name": "stderr",
     "output_type": "stream",
     "text": [
      "Epoch:   0%|                                                                                      | 0/5 [00:00<?, ?it/s]"
     ]
    },
    {
     "name": "stdout",
     "output_type": "stream",
     "text": [
      "Begin group  1 training\n",
      "Begin group  2 training\n",
      "Begin group  3 training\n"
     ]
    },
    {
     "name": "stderr",
     "output_type": "stream",
     "text": [
      "Epoch:   0%|                                                                                      | 0/5 [00:00<?, ?it/s]"
     ]
    },
    {
     "name": "stdout",
     "output_type": "stream",
     "text": [
      "Begin group  4 training\n"
     ]
    },
    {
     "name": "stderr",
     "output_type": "stream",
     "text": [
      "                                                                                                                        \r"
     ]
    },
    {
     "name": "stdout",
     "output_type": "stream",
     "text": [
      "Group 0, clients ['f_00092', 'f_00054', 'f_00064', 'f_00044']\n",
      "Group 1, clients ['f_00071']\n",
      "Group 2, clients ['f_00028', 'f_00049']\n",
      "Group 3, clients ['f_00020', 'f_00159', 'f_00100', 'f_00130', 'f_00149', 'f_00080', 'f_00180']\n",
      "Group 4, clients ['f_00167', 'f_00145', 'f_00195', 'f_00177', 'f_00037', 'f_00025']\n",
      "The groups difference are: [0.0, 0.0002486855561736334, 0.0005685333526113112, 0.0004936672871160841, 0.0004943669249393157]\n"
     ]
    },
    {
     "name": "stderr",
     "output_type": "stream",
     "text": [
      "Epoch:   0%|                                                                                      | 0/5 [00:00<?, ?it/s]"
     ]
    },
    {
     "name": "stdout",
     "output_type": "stream",
     "text": [
      "Group 0\n",
      "At round 94 accuracy: 0.6952624839948783\n",
      "At round 94 training accuracy: 0.7019759322537513\n",
      "At round 94 training loss: 0.8943269168386628\n",
      "Group 1\n",
      "At round 94 accuracy: 0.9298245614035088\n",
      "At round 94 training accuracy: 0.9397715472481828\n",
      "At round 94 training loss: 0.47841125677184027\n",
      "Group 2\n",
      "At round 94 accuracy: 0.8176100628930818\n",
      "At round 94 training accuracy: 0.8141459744168548\n",
      "At round 94 training loss: 0.7063292538070248\n",
      "Group 3\n",
      "At round 94 accuracy: 0.7815126050420168\n",
      "At round 94 training accuracy: 0.7765853658536586\n",
      "At round 94 training loss: 0.7368468600850764\n",
      "Group 4\n",
      "At round 94 accuracy: 0.6491228070175439\n",
      "At round 94 training accuracy: 0.6689798750867453\n",
      "At round 94 training loss: 1.080677946725709\n",
      "At round 94 mean test accuracy: 0.7746665040702059 mean train accuracy: 0.7802917389718387\n",
      "Begin group  0 training\n",
      "Begin group  1 training\n",
      "Begin group  2 training\n"
     ]
    },
    {
     "name": "stderr",
     "output_type": "stream",
     "text": [
      "Epoch:   0%|                                                                                      | 0/5 [00:00<?, ?it/s]"
     ]
    },
    {
     "name": "stdout",
     "output_type": "stream",
     "text": [
      "Begin group  3 training\n"
     ]
    },
    {
     "name": "stderr",
     "output_type": "stream",
     "text": [
      "Epoch:   0%|                                                                                      | 0/5 [00:00<?, ?it/s]"
     ]
    },
    {
     "name": "stdout",
     "output_type": "stream",
     "text": [
      "Begin group  4 training\n"
     ]
    },
    {
     "name": "stderr",
     "output_type": "stream",
     "text": [
      "                                                                                                                        \r"
     ]
    },
    {
     "name": "stdout",
     "output_type": "stream",
     "text": [
      "Group 0, clients ['f_00043', 'f_00063', 'f_00112', 'f_00004', 'f_00053', 'f_00144', 'f_00174']\n",
      "Group 1, clients ['f_00021']\n",
      "Group 2, clients ['f_00089', 'f_00178', 'f_00169']\n",
      "Group 3, clients ['f_00179', 'f_00069', 'f_00109', 'f_00110', 'f_00160']\n",
      "Group 4, clients ['f_00137', 'f_00066', 'f_00085', 'f_00061']\n",
      "The groups difference are: [0.0, 0.000355015234982492, 0.00043884154983730994, 0.0005453240722564923, 0.00040798186937918146]\n"
     ]
    },
    {
     "name": "stderr",
     "output_type": "stream",
     "text": [
      "Epoch:   0%|                                                                                      | 0/5 [00:00<?, ?it/s]"
     ]
    },
    {
     "name": "stdout",
     "output_type": "stream",
     "text": [
      "Group 0\n",
      "At round 95 accuracy: 0.7234314980793854\n",
      "At round 95 training accuracy: 0.7144555043827069\n",
      "At round 95 training loss: 0.9248226462882618\n",
      "Group 1\n",
      "At round 95 accuracy: 0.9035087719298246\n",
      "At round 95 training accuracy: 0.9210799584631361\n",
      "At round 95 training loss: 0.4523055475448894\n",
      "Group 2\n",
      "At round 95 accuracy: 0.8176100628930818\n",
      "At round 95 training accuracy: 0.8231753197893152\n",
      "At round 95 training loss: 0.754603813204037\n",
      "Group 3\n",
      "At round 95 accuracy: 0.7815126050420168\n",
      "At round 95 training accuracy: 0.8009756097560976\n",
      "At round 95 training loss: 0.7676986007864882\n",
      "Group 4\n",
      "At round 95 accuracy: 0.6120857699805068\n",
      "At round 95 training accuracy: 0.6197085357390701\n",
      "At round 95 training loss: 1.0847792181735951\n",
      "At round 95 mean test accuracy: 0.7676297415849631 mean train accuracy: 0.7758789856260653\n",
      "Begin group  0 training\n"
     ]
    },
    {
     "name": "stderr",
     "output_type": "stream",
     "text": [
      "Epoch:   0%|                                                                                      | 0/5 [00:00<?, ?it/s]"
     ]
    },
    {
     "name": "stdout",
     "output_type": "stream",
     "text": [
      "Begin group  1 training\n",
      "Begin group  2 training\n",
      "Begin group  3 training\n"
     ]
    },
    {
     "name": "stderr",
     "output_type": "stream",
     "text": [
      "                                                                                                                        \r"
     ]
    },
    {
     "name": "stdout",
     "output_type": "stream",
     "text": [
      "Begin group  4 training\n",
      "Group 0, clients ['f_00102', 'f_00113', 'f_00093', 'f_00173', 'f_00184', 'f_00032']\n",
      "Group 1, clients ['f_00071', 'f_00051']\n",
      "Group 2, clients ['f_00198']\n",
      "Group 3, clients ['f_00080']\n",
      "Group 4, clients ['f_00035', 'f_00005', 'f_00167', 'f_00185', 'f_00096', 'f_00175', 'f_00015', 'f_00026', 'f_00086', 'f_00036']\n",
      "The groups difference are: [0.0, 0.00038954398022506, 0.0005940159087041152, 0.0008077943027837708, 0.0005758368267125835]\n"
     ]
    },
    {
     "name": "stderr",
     "output_type": "stream",
     "text": [
      "Epoch:   0%|                                                                                      | 0/5 [00:00<?, ?it/s]"
     ]
    },
    {
     "name": "stdout",
     "output_type": "stream",
     "text": [
      "Group 0\n",
      "At round 96 accuracy: 0.7234314980793854\n",
      "At round 96 training accuracy: 0.6963304115287476\n",
      "At round 96 training loss: 1.0078910504252077\n",
      "Group 1\n",
      "At round 96 accuracy: 0.8947368421052632\n",
      "At round 96 training accuracy: 0.8878504672897196\n",
      "At round 96 training loss: 0.5054104835382999\n",
      "Group 2\n",
      "At round 96 accuracy: 0.7295597484276729\n",
      "At round 96 training accuracy: 0.6982693754702785\n",
      "At round 96 training loss: 0.8568502750676588\n",
      "Group 3\n",
      "At round 96 accuracy: 0.7254901960784313\n",
      "At round 96 training accuracy: 0.7239024390243902\n",
      "At round 96 training loss: 0.7650154700124167\n",
      "Group 4\n",
      "At round 96 accuracy: 0.6101364522417154\n",
      "At round 96 training accuracy: 0.6523247744621791\n",
      "At round 96 training loss: 1.0379362128935228\n",
      "At round 96 mean test accuracy: 0.7366709473864936 mean train accuracy: 0.7317354935550631\n",
      "Begin group  0 training\n"
     ]
    },
    {
     "name": "stderr",
     "output_type": "stream",
     "text": [
      "Epoch:   0%|                                                                                      | 0/5 [00:00<?, ?it/s]"
     ]
    },
    {
     "name": "stdout",
     "output_type": "stream",
     "text": [
      "Begin group  1 training\n",
      "Begin group  2 training\n",
      "Begin group  3 training\n"
     ]
    },
    {
     "name": "stderr",
     "output_type": "stream",
     "text": [
      "Epoch:   0%|                                                                                      | 0/5 [00:00<?, ?it/s]"
     ]
    },
    {
     "name": "stdout",
     "output_type": "stream",
     "text": [
      "Begin group  4 training\n"
     ]
    },
    {
     "name": "stderr",
     "output_type": "stream",
     "text": [
      "                                                                                                                        \r"
     ]
    },
    {
     "name": "stdout",
     "output_type": "stream",
     "text": [
      "Group 0, clients ['f_00063', 'f_00022']\n",
      "Group 1, clients ['f_00121']\n",
      "Group 2, clients ['f_00128', 'f_00049', 'f_00038', 'f_00058']\n",
      "Group 3, clients ['f_00020', 'f_00140', 'f_00110', 'f_00030']\n",
      "Group 4, clients ['f_00085', 'f_00055', 'f_00145', 'f_00005', 'f_00167', 'f_00045', 'f_00047', 'f_00056', 'f_00065']\n",
      "The groups difference are: [0.0, 0.00030764373921310373, 0.0006008955429144258, 0.0007045907150400321, 0.000553817970287529]\n"
     ]
    },
    {
     "name": "stderr",
     "output_type": "stream",
     "text": [
      "Epoch:   0%|                                                                                      | 0/5 [00:00<?, ?it/s]"
     ]
    },
    {
     "name": "stdout",
     "output_type": "stream",
     "text": [
      "Group 0\n",
      "At round 97 accuracy: 0.6952624839948783\n",
      "At round 97 training accuracy: 0.6966275441984846\n",
      "At round 97 training loss: 0.8697632628012476\n",
      "Group 1\n",
      "At round 97 accuracy: 0.8859649122807017\n",
      "At round 97 training accuracy: 0.897196261682243\n",
      "At round 97 training loss: 0.4549176872147949\n",
      "Group 2\n",
      "At round 97 accuracy: 0.7735849056603774\n",
      "At round 97 training accuracy: 0.7426636568848759\n",
      "At round 97 training loss: 0.7035706004224567\n",
      "Group 3\n",
      "At round 97 accuracy: 0.7815126050420168\n",
      "At round 97 training accuracy: 0.7801626016260162\n",
      "At round 97 training loss: 0.8388100486073068\n",
      "Group 4\n",
      "At round 97 accuracy: 0.6549707602339181\n",
      "At round 97 training accuracy: 0.672912329400879\n",
      "At round 97 training loss: 1.1144355713094023\n",
      "At round 97 mean test accuracy: 0.7582591334423785 mean train accuracy: 0.7579124787584997\n",
      "Begin group  0 training\n",
      "Begin group  1 training\n"
     ]
    },
    {
     "name": "stderr",
     "output_type": "stream",
     "text": [
      "Epoch:   0%|                                                                                      | 0/5 [00:00<?, ?it/s]"
     ]
    },
    {
     "name": "stdout",
     "output_type": "stream",
     "text": [
      "Begin group  2 training\n",
      "Begin group  3 training\n"
     ]
    },
    {
     "name": "stderr",
     "output_type": "stream",
     "text": [
      "Epoch:   0%|                                                                                      | 0/5 [00:00<?, ?it/s]"
     ]
    },
    {
     "name": "stdout",
     "output_type": "stream",
     "text": [
      "Begin group  4 training\n"
     ]
    },
    {
     "name": "stderr",
     "output_type": "stream",
     "text": [
      "                                                                                                                        \r"
     ]
    },
    {
     "name": "stdout",
     "output_type": "stream",
     "text": [
      "Group 0, clients ['f_00064', 'f_00153', 'f_00134', 'f_00182', 'f_00152', 'f_00112', 'f_00184']\n",
      "Group 1, clients ['f_00041', 'f_00051', 'f_00121']\n",
      "Group 2, clients ['f_00058', 'f_00097', 'f_00198', 'f_00128']\n",
      "Group 3, clients ['f_00119']\n",
      "Group 4, clients ['f_00155', 'f_00115', 'f_00145', 'f_00096', 'f_00135']\n",
      "The groups difference are: [0.0, 0.0003506911817559022, 0.00044434944671289944, 0.00048279769264136796, 0.00047171225585407317]\n"
     ]
    },
    {
     "name": "stderr",
     "output_type": "stream",
     "text": [
      "Epoch:   0%|                                                                                      | 0/5 [00:00<?, ?it/s]"
     ]
    },
    {
     "name": "stdout",
     "output_type": "stream",
     "text": [
      "Group 0\n",
      "At round 98 accuracy: 0.7874519846350833\n",
      "At round 98 training accuracy: 0.7853216461149903\n",
      "At round 98 training loss: 0.865801940850173\n",
      "Group 1\n",
      "At round 98 accuracy: 0.8947368421052632\n",
      "At round 98 training accuracy: 0.8982346832814122\n",
      "At round 98 training loss: 0.4063719657103716\n",
      "Group 2\n",
      "At round 98 accuracy: 0.8238993710691824\n",
      "At round 98 training accuracy: 0.8404815650865313\n",
      "At round 98 training loss: 0.7669321443910793\n",
      "Group 3\n",
      "At round 98 accuracy: 0.7535014005602241\n",
      "At round 98 training accuracy: 0.7759349593495934\n",
      "At round 98 training loss: 0.8515169199501595\n",
      "Group 4\n",
      "At round 98 accuracy: 0.571150097465887\n",
      "At round 98 training accuracy: 0.5778394633356465\n",
      "At round 98 training loss: 1.2584276125713987\n",
      "At round 98 mean test accuracy: 0.766147939167128 mean train accuracy: 0.7755624634336348\n",
      "Begin group  0 training\n"
     ]
    },
    {
     "name": "stderr",
     "output_type": "stream",
     "text": [
      "Epoch:   0%|                                                                                      | 0/5 [00:00<?, ?it/s]"
     ]
    },
    {
     "name": "stdout",
     "output_type": "stream",
     "text": [
      "Begin group  1 training\n",
      "Begin group  2 training\n"
     ]
    },
    {
     "name": "stderr",
     "output_type": "stream",
     "text": [
      "Epoch:   0%|                                                                                      | 0/5 [00:00<?, ?it/s]"
     ]
    },
    {
     "name": "stdout",
     "output_type": "stream",
     "text": [
      "Begin group  3 training\n",
      "Begin group  4 training\n"
     ]
    },
    {
     "name": "stderr",
     "output_type": "stream",
     "text": [
      "                                                                                                                        \r"
     ]
    },
    {
     "name": "stdout",
     "output_type": "stream",
     "text": [
      "Group 0, clients ['f_00024', 'f_00043', 'f_00153']\n",
      "Group 1, clients ['f_00191', 'f_00111', 'f_00081', 'f_00121']\n",
      "Group 2, clients ['f_00049']\n",
      "Group 3, clients ['f_00119', 'f_00050', 'f_00009']\n",
      "Group 4, clients ['f_00135', 'f_00127', 'f_00066', 'f_00036', 'f_00126', 'f_00187', 'f_00085', 'f_00155', 'f_00195']\n",
      "The groups difference are: [0.0, 0.00036334994249298536, 0.00044482344733842716, 0.0005526750878525055, 0.00041609405705145264]\n"
     ]
    },
    {
     "name": "stderr",
     "output_type": "stream",
     "text": [
      "Epoch:   0%|                                                                                      | 0/5 [00:00<?, ?it/s]"
     ]
    },
    {
     "name": "stdout",
     "output_type": "stream",
     "text": [
      "Group 0\n",
      "At round 99 accuracy: 0.7964148527528809\n",
      "At round 99 training accuracy: 0.7795275590551181\n",
      "At round 99 training loss: 0.8151677787578437\n",
      "Group 1\n",
      "At round 99 accuracy: 0.9298245614035088\n",
      "At round 99 training accuracy: 0.9231568016614745\n",
      "At round 99 training loss: 0.4191503996727746\n",
      "Group 2\n",
      "At round 99 accuracy: 0.8616352201257862\n",
      "At round 99 training accuracy: 0.8472535741158767\n",
      "At round 99 training loss: 0.728863636159287\n",
      "Group 3\n",
      "At round 99 accuracy: 0.6974789915966386\n",
      "At round 99 training accuracy: 0.6871544715447154\n",
      "At round 99 training loss: 0.9499627266569836\n",
      "Group 4\n",
      "At round 99 accuracy: 0.5653021442495126\n",
      "At round 99 training accuracy: 0.5741383298635208\n",
      "At round 99 training loss: 1.2216581788543968\n",
      "At round 99 mean test accuracy: 0.7701311540256653 mean train accuracy: 0.762246147248141\n",
      "Begin group  0 training\n",
      "Begin group  1 training\n"
     ]
    },
    {
     "name": "stderr",
     "output_type": "stream",
     "text": [
      "Epoch:   0%|                                                                                      | 0/5 [00:00<?, ?it/s]"
     ]
    },
    {
     "name": "stdout",
     "output_type": "stream",
     "text": [
      "Begin group  2 training\n",
      "Begin group  3 training\n",
      "Begin group  4 training\n"
     ]
    },
    {
     "name": "stderr",
     "output_type": "stream",
     "text": [
      "                                                                                                                        \r"
     ]
    },
    {
     "name": "stdout",
     "output_type": "stream",
     "text": [
      "Group 0, clients ['f_00104', 'f_00092', 'f_00052', 'f_00164', 'f_00124', 'f_00182', 'f_00154', 'f_00194', 'f_00163']\n",
      "Group 1, clients ['f_00111', 'f_00031']\n",
      "Group 2 is empty.\n",
      "Group 3, clients ['f_00099', 'f_00069']\n",
      "Group 4, clients ['f_00126', 'f_00167', 'f_00116', 'f_00096', 'f_00125', 'f_00196', 'f_00177']\n",
      "The groups difference are: [1.1102230246251565e-16, 0.00039354430560334386, 0.00038403664203889853, 0.00045583116739877916, 0.0003548569737840124]\n"
     ]
    },
    {
     "name": "stderr",
     "output_type": "stream",
     "text": [
      "Epoch:   0%|                                                                                      | 0/5 [00:00<?, ?it/s]"
     ]
    },
    {
     "name": "stdout",
     "output_type": "stream",
     "text": [
      "Group 0\n",
      "At round 100 accuracy: 0.7516005121638925\n",
      "At round 100 training accuracy: 0.7239637498142921\n",
      "At round 100 training loss: 0.9081519549747683\n",
      "Group 1\n",
      "At round 100 accuracy: 0.9298245614035088\n",
      "At round 100 training accuracy: 0.9376947040498442\n",
      "At round 100 training loss: 0.4091823856778605\n",
      "Group 3\n",
      "At round 100 accuracy: 0.7282913165266106\n",
      "At round 100 training accuracy: 0.7076422764227642\n",
      "At round 100 training loss: 0.8714896945061722\n",
      "Group 4\n",
      "At round 100 accuracy: 0.631578947368421\n",
      "At round 100 training accuracy: 0.6588017580383992\n",
      "At round 100 training loss: 1.0917949417992485\n",
      "At round 100 mean test accuracy: 0.7603238343656082 mean train accuracy: 0.757025622081325\n",
      "Begin group  0 training\n"
     ]
    },
    {
     "name": "stderr",
     "output_type": "stream",
     "text": [
      "Epoch:   0%|                                                                                      | 0/5 [00:00<?, ?it/s]"
     ]
    },
    {
     "name": "stdout",
     "output_type": "stream",
     "text": [
      "Begin group  1 training\n",
      "Begin group  3 training\n",
      "Begin group  4 training\n"
     ]
    },
    {
     "name": "stderr",
     "output_type": "stream",
     "text": [
      "                                                                                                                        \r"
     ]
    },
    {
     "name": "stdout",
     "output_type": "stream",
     "text": [
      "Group 0, clients ['f_00054', 'f_00074', 'f_00142', 'f_00112', 'f_00174', 'f_00034']\n",
      "Group 1, clients ['f_00031', 'f_00141']\n",
      "Group 2, clients ['f_00089', 'f_00148']\n",
      "Group 3, clients ['f_00109', 'f_00119', 'f_00149', 'f_00170', 'f_00039']\n",
      "Group 4, clients ['f_00037', 'f_00066', 'f_00145', 'f_00055', 'f_00025']\n",
      "The groups difference are: [0.0, 0.0004685918839306691, 0.00040404779565728077, 0.0006250046169444801, 0.0004724859967876194]\n"
     ]
    },
    {
     "name": "stderr",
     "output_type": "stream",
     "text": [
      "Epoch:   0%|                                                                                      | 0/5 [00:00<?, ?it/s]"
     ]
    },
    {
     "name": "stdout",
     "output_type": "stream",
     "text": [
      "Group 0\n",
      "At round 101 accuracy: 0.6734955185659411\n",
      "At round 101 training accuracy: 0.6578517307978012\n",
      "At round 101 training loss: 1.0588896762047812\n",
      "Group 1\n",
      "At round 101 accuracy: 0.9298245614035088\n",
      "At round 101 training accuracy: 0.9376947040498442\n",
      "At round 101 training loss: 0.45001825139406193\n",
      "Group 2\n",
      "At round 101 accuracy: 0.6352201257861635\n",
      "At round 101 training accuracy: 0.6155003762227238\n",
      "At round 101 training loss: 1.1420907862568548\n",
      "Group 3\n",
      "At round 101 accuracy: 0.711484593837535\n",
      "At round 101 training accuracy: 0.7108943089430895\n",
      "At round 101 training loss: 0.9821470651781656\n",
      "Group 4\n",
      "At round 101 accuracy: 0.6374269005847953\n",
      "At round 101 training accuracy: 0.6817025213971779\n",
      "At round 101 training loss: 1.025210436422351\n",
      "At round 101 mean test accuracy: 0.7174903400355889 mean train accuracy: 0.7207287282821273\n",
      "Begin group  0 training\n"
     ]
    },
    {
     "name": "stderr",
     "output_type": "stream",
     "text": [
      "Epoch:   0%|                                                                                      | 0/5 [00:00<?, ?it/s]"
     ]
    },
    {
     "name": "stdout",
     "output_type": "stream",
     "text": [
      "Begin group  1 training\n",
      "Begin group  2 training\n",
      "Begin group  3 training\n"
     ]
    },
    {
     "name": "stderr",
     "output_type": "stream",
     "text": [
      "Epoch:   0%|                                                                                      | 0/5 [00:00<?, ?it/s]"
     ]
    },
    {
     "name": "stdout",
     "output_type": "stream",
     "text": [
      "Begin group  4 training\n"
     ]
    },
    {
     "name": "stderr",
     "output_type": "stream",
     "text": [
      "                                                                                                                        \r"
     ]
    },
    {
     "name": "stdout",
     "output_type": "stream",
     "text": [
      "Group 0, clients ['f_00142', 'f_00054', 'f_00034', 'f_00163', 'f_00002', 'f_00083', 'f_00144']\n",
      "Group 1 is empty.\n",
      "Group 2, clients ['f_00118', 'f_00008']\n",
      "Group 3, clients ['f_00029', 'f_00119', 'f_00120', 'f_00099', 'f_00129']\n",
      "Group 4, clients ['f_00057', 'f_00085', 'f_00185', 'f_00005', 'f_00036', 'f_00087']\n",
      "The groups difference are: [0.0, 0.0003241036021632837, 0.0003905396072595435, 0.0004686231982613531, 0.00035874878386099596]\n"
     ]
    },
    {
     "name": "stderr",
     "output_type": "stream",
     "text": [
      "Epoch:   0%|                                                                                      | 0/5 [00:00<?, ?it/s]"
     ]
    },
    {
     "name": "stdout",
     "output_type": "stream",
     "text": [
      "Group 0\n",
      "At round 102 accuracy: 0.7195902688860435\n",
      "At round 102 training accuracy: 0.7049472589511216\n",
      "At round 102 training loss: 0.9697537688988666\n",
      "Group 2\n",
      "At round 102 accuracy: 0.6855345911949685\n",
      "At round 102 training accuracy: 0.6674191121143717\n",
      "At round 102 training loss: 0.9240639681112865\n",
      "Group 3\n",
      "At round 102 accuracy: 0.7030812324929971\n",
      "At round 102 training accuracy: 0.6904065040650407\n",
      "At round 102 training loss: 0.910477373813226\n",
      "Group 4\n",
      "At round 102 accuracy: 0.6666666666666666\n",
      "At round 102 training accuracy: 0.6928059218135554\n",
      "At round 102 training loss: 0.9743215505817051\n",
      "At round 102 mean test accuracy: 0.6937181898101689 mean train accuracy: 0.6888946992360223\n",
      "Begin group  0 training\n"
     ]
    },
    {
     "name": "stderr",
     "output_type": "stream",
     "text": [
      "Epoch:   0%|                                                                                      | 0/5 [00:00<?, ?it/s]"
     ]
    },
    {
     "name": "stdout",
     "output_type": "stream",
     "text": [
      "Begin group  2 training\n",
      "Begin group  3 training\n"
     ]
    },
    {
     "name": "stderr",
     "output_type": "stream",
     "text": [
      "Epoch:   0%|                                                                                      | 0/5 [00:00<?, ?it/s]"
     ]
    },
    {
     "name": "stdout",
     "output_type": "stream",
     "text": [
      "Begin group  4 training\n"
     ]
    },
    {
     "name": "stderr",
     "output_type": "stream",
     "text": [
      "                                                                                                                        \r"
     ]
    },
    {
     "name": "stdout",
     "output_type": "stream",
     "text": [
      "Group 0, clients ['f_00003', 'f_00162', 'f_00052', 'f_00193', 'f_00064', 'f_00113', 'f_00032', 'f_00164']\n",
      "Group 1, clients ['f_00031', 'f_00101', 'f_00111']\n",
      "Group 2 is empty.\n",
      "Group 3, clients ['f_00160', 'f_00009', 'f_00190', 'f_00149']\n",
      "Group 4, clients ['f_00155', 'f_00186', 'f_00166', 'f_00085', 'f_00127']\n",
      "The groups difference are: [0.0, 0.0001810544903187994, 0.0006549910715167861, 0.0004539267846110917, 0.00046643021460779366]\n"
     ]
    },
    {
     "name": "stderr",
     "output_type": "stream",
     "text": [
      "                                                                                                                        "
     ]
    },
    {
     "name": "stdout",
     "output_type": "stream",
     "text": [
      "Group 0\n",
      "At round 103 accuracy: 0.7682458386683739\n",
      "At round 103 training accuracy: 0.7564997771504977\n",
      "At round 103 training loss: 0.8334439428382883\n",
      "Group 1\n",
      "At round 103 accuracy: 0.9298245614035088\n",
      "At round 103 training accuracy: 0.9501557632398754\n",
      "At round 103 training loss: 0.6371851148758846\n",
      "Group 3\n",
      "At round 103 accuracy: 0.7142857142857143\n",
      "At round 103 training accuracy: 0.712520325203252\n",
      "At round 103 training loss: 0.8642282989354637\n",
      "Group 4\n",
      "At round 103 accuracy: 0.6003898635477583\n",
      "At round 103 training accuracy: 0.6428406199398565\n",
      "At round 103 training loss: 1.0125053709727483\n",
      "At round 103 mean test accuracy: 0.7531864944763389 mean train accuracy: 0.7655041213833703\n",
      "Begin group  0 training\n"
     ]
    },
    {
     "name": "stderr",
     "output_type": "stream",
     "text": [
      "Epoch:   0%|                                                                                      | 0/5 [00:00<?, ?it/s]"
     ]
    },
    {
     "name": "stdout",
     "output_type": "stream",
     "text": [
      "Begin group  1 training\n",
      "Begin group  3 training\n"
     ]
    },
    {
     "name": "stderr",
     "output_type": "stream",
     "text": [
      "                                                                                                                        \r"
     ]
    },
    {
     "name": "stdout",
     "output_type": "stream",
     "text": [
      "Begin group  4 training\n",
      "Group 0, clients ['f_00104', 'f_00034', 'f_00064', 'f_00154', 'f_00192', 'f_00113', 'f_00084', 'f_00153', 'f_00123', 'f_00164']\n",
      "Group 1, clients ['f_00001']\n",
      "Group 2, clients ['f_00128', 'f_00049', 'f_00018', 'f_00028']\n",
      "Group 3, clients ['f_00130']\n",
      "Group 4, clients ['f_00045', 'f_00005', 'f_00047', 'f_00061']\n",
      "The groups difference are: [0.0, 0.00035737994876616774, 0.000522559766437114, 0.0006583704988880612, 0.00035877534003669886]\n"
     ]
    },
    {
     "name": "stderr",
     "output_type": "stream",
     "text": [
      "Epoch:   0%|                                                                                      | 0/5 [00:00<?, ?it/s]"
     ]
    },
    {
     "name": "stdout",
     "output_type": "stream",
     "text": [
      "Group 0\n",
      "At round 104 accuracy: 0.7131882202304738\n",
      "At round 104 training accuracy: 0.6975189422076957\n",
      "At round 104 training loss: 0.8957474710522993\n",
      "Group 1\n",
      "At round 104 accuracy: 0.9122807017543859\n",
      "At round 104 training accuracy: 0.936656282450675\n",
      "At round 104 training loss: 0.4750265035611942\n",
      "Group 2\n",
      "At round 104 accuracy: 0.7987421383647799\n",
      "At round 104 training accuracy: 0.7923250564334086\n",
      "At round 104 training loss: 0.724706151550026\n",
      "Group 3\n",
      "At round 104 accuracy: 0.7535014005602241\n",
      "At round 104 training accuracy: 0.776910569105691\n",
      "At round 104 training loss: 0.7701226451144955\n",
      "Group 4\n",
      "At round 104 accuracy: 0.7017543859649122\n",
      "At round 104 training accuracy: 0.7279666897987509\n",
      "At round 104 training loss: 1.0142405411172954\n",
      "At round 104 mean test accuracy: 0.7758933693749552 mean train accuracy: 0.7862755079992442\n",
      "Begin group  0 training\n"
     ]
    },
    {
     "name": "stderr",
     "output_type": "stream",
     "text": [
      "Epoch:   0%|                                                                                      | 0/5 [00:00<?, ?it/s]"
     ]
    },
    {
     "name": "stdout",
     "output_type": "stream",
     "text": [
      "Begin group  1 training\n",
      "Begin group  2 training\n",
      "Begin group  3 training\n",
      "Begin group  4 training\n"
     ]
    },
    {
     "name": "stderr",
     "output_type": "stream",
     "text": [
      "                                                                                                                        \r"
     ]
    },
    {
     "name": "stdout",
     "output_type": "stream",
     "text": [
      "Group 0, clients ['f_00193', 'f_00044', 'f_00093', 'f_00043']\n",
      "Group 1, clients ['f_00191', 'f_00171']\n",
      "Group 2, clients ['f_00168', 'f_00018', 'f_00118', 'f_00128', 'f_00198']\n",
      "Group 3, clients ['f_00110', 'f_00139']\n",
      "Group 4, clients ['f_00037', 'f_00147', 'f_00096', 'f_00125', 'f_00115', 'f_00126', 'f_00086']\n",
      "The groups difference are: [0.0, 0.0004429954492318755, 0.0005728282709205335, 0.0006292246425780856, 0.0003758012504329056]\n"
     ]
    },
    {
     "name": "stderr",
     "output_type": "stream",
     "text": [
      "Epoch:   0%|                                                                                      | 0/5 [00:00<?, ?it/s]"
     ]
    },
    {
     "name": "stdout",
     "output_type": "stream",
     "text": [
      "Group 0\n",
      "At round 105 accuracy: 0.6209987195902689\n",
      "At round 105 training accuracy: 0.6266528004754123\n",
      "At round 105 training loss: 1.1263128812432448\n",
      "Group 1\n",
      "At round 105 accuracy: 0.9035087719298246\n",
      "At round 105 training accuracy: 0.9148494288681205\n",
      "At round 105 training loss: 0.5223060694686597\n",
      "Group 2\n",
      "At round 105 accuracy: 0.8364779874213837\n",
      "At round 105 training accuracy: 0.837471783295711\n",
      "At round 105 training loss: 0.7428411918981709\n",
      "Group 3\n",
      "At round 105 accuracy: 0.5490196078431373\n",
      "At round 105 training accuracy: 0.5791869918699187\n",
      "At round 105 training loss: 0.9454598241705235\n",
      "Group 4\n",
      "At round 105 accuracy: 0.5828460038986355\n",
      "At round 105 training accuracy: 0.5884802220680083\n",
      "At round 105 training loss: 1.3502413644135454\n",
      "At round 105 mean test accuracy: 0.69857021813665 mean train accuracy: 0.7093282453154343\n",
      "Begin group  0 training\n",
      "Begin group  1 training\n"
     ]
    },
    {
     "name": "stderr",
     "output_type": "stream",
     "text": [
      "Epoch:   0%|                                                                                      | 0/5 [00:00<?, ?it/s]"
     ]
    },
    {
     "name": "stdout",
     "output_type": "stream",
     "text": [
      "Begin group  2 training\n"
     ]
    },
    {
     "name": "stderr",
     "output_type": "stream",
     "text": [
      "Epoch:   0%|                                                                                      | 0/5 [00:00<?, ?it/s]"
     ]
    },
    {
     "name": "stdout",
     "output_type": "stream",
     "text": [
      "Begin group  3 training\n",
      "Begin group  4 training\n"
     ]
    },
    {
     "name": "stderr",
     "output_type": "stream",
     "text": [
      "                                                                                                                        \r"
     ]
    },
    {
     "name": "stdout",
     "output_type": "stream",
     "text": [
      "Group 0, clients ['f_00003', 'f_00154', 'f_00192', 'f_00124', 'f_00032', 'f_00174', 'f_00063', 'f_00014', 'f_00102', 'f_00133', 'f_00084']\n",
      "Group 1, clients ['f_00181']\n",
      "Group 2, clients ['f_00049']\n",
      "Group 3, clients ['f_00060', 'f_00019', 'f_00190', 'f_00149']\n",
      "Group 4, clients ['f_00036', 'f_00065', 'f_00016']\n",
      "The groups difference are: [0.0, 0.00042088870833922876, 0.0007085386888512346, 0.0005380064681013152, 0.0005107009371113636]\n"
     ]
    },
    {
     "name": "stderr",
     "output_type": "stream",
     "text": [
      "Epoch:   0%|                                                                                      | 0/5 [00:00<?, ?it/s]"
     ]
    },
    {
     "name": "stdout",
     "output_type": "stream",
     "text": [
      "Group 0\n",
      "At round 106 accuracy: 0.7285531370038413\n",
      "At round 106 training accuracy: 0.708215718318229\n",
      "At round 106 training loss: 0.9887029179278498\n",
      "Group 1\n",
      "At round 106 accuracy: 0.9298245614035088\n",
      "At round 106 training accuracy: 0.9480789200415368\n",
      "At round 106 training loss: 0.451800775057554\n",
      "Group 2\n",
      "At round 106 accuracy: 0.7924528301886793\n",
      "At round 106 training accuracy: 0.8028592927012792\n",
      "At round 106 training loss: 0.6745290623023332\n",
      "Group 3\n",
      "At round 106 accuracy: 0.8011204481792717\n",
      "At round 106 training accuracy: 0.7798373983739837\n",
      "At round 106 training loss: 0.7362646609883967\n",
      "Group 4\n",
      "At round 106 accuracy: 0.6939571150097466\n",
      "At round 106 training accuracy: 0.7136247975942632\n",
      "At round 106 training loss: 0.9602978673214\n",
      "At round 106 mean test accuracy: 0.7891816183570096 mean train accuracy: 0.7905232254058585\n",
      "Begin group  0 training\n"
     ]
    },
    {
     "name": "stderr",
     "output_type": "stream",
     "text": [
      "Epoch:   0%|                                                                                      | 0/5 [00:00<?, ?it/s]"
     ]
    },
    {
     "name": "stdout",
     "output_type": "stream",
     "text": [
      "Begin group  1 training\n",
      "Begin group  2 training\n",
      "Begin group  3 training\n"
     ]
    },
    {
     "name": "stderr",
     "output_type": "stream",
     "text": [
      "                                                                                                                        \r"
     ]
    },
    {
     "name": "stdout",
     "output_type": "stream",
     "text": [
      "Begin group  4 training\n",
      "Group 0, clients ['f_00193', 'f_00052', 'f_00173', 'f_00164', 'f_00002', 'f_00012', 'f_00132']\n",
      "Group 1, clients ['f_00121']\n",
      "Group 2, clients ['f_00097', 'f_00128', 'f_00018', 'f_00078']\n",
      "Group 3, clients ['f_00019', 'f_00039', 'f_00010', 'f_00129', 'f_00109', 'f_00159', 'f_00069']\n",
      "Group 4, clients ['f_00127']\n",
      "The groups difference are: [0.0, 0.00035732439506652725, 0.0004944799468500349, 0.000485260060279713, 0.0003472207196708599]\n"
     ]
    },
    {
     "name": "stderr",
     "output_type": "stream",
     "text": [
      "Epoch:   0%|                                                                                      | 0/5 [00:00<?, ?it/s]"
     ]
    },
    {
     "name": "stdout",
     "output_type": "stream",
     "text": [
      "Group 0\n",
      "At round 107 accuracy: 0.7195902688860435\n",
      "At round 107 training accuracy: 0.7097013816669143\n",
      "At round 107 training loss: 0.8679533592571813\n",
      "Group 1\n",
      "At round 107 accuracy: 0.8947368421052632\n",
      "At round 107 training accuracy: 0.9065420560747663\n",
      "At round 107 training loss: 0.447955870863557\n",
      "Group 2\n",
      "At round 107 accuracy: 0.660377358490566\n",
      "At round 107 training accuracy: 0.6425884123401053\n",
      "At round 107 training loss: 1.0382368681213747\n",
      "Group 3\n",
      "At round 107 accuracy: 0.7647058823529411\n",
      "At round 107 training accuracy: 0.7560975609756098\n",
      "At round 107 training loss: 0.7286650369419315\n",
      "Group 4\n",
      "At round 107 accuracy: 0.6471734892787524\n",
      "At round 107 training accuracy: 0.6668979875086746\n",
      "At round 107 training loss: 1.084227618935647\n",
      "At round 107 mean test accuracy: 0.7373167682227132 mean train accuracy: 0.7363654797132141\n",
      "Begin group  0 training\n"
     ]
    },
    {
     "name": "stderr",
     "output_type": "stream",
     "text": [
      "Epoch:   0%|                                                                                      | 0/5 [00:00<?, ?it/s]"
     ]
    },
    {
     "name": "stdout",
     "output_type": "stream",
     "text": [
      "Begin group  1 training\n",
      "Begin group  2 training\n"
     ]
    },
    {
     "name": "stderr",
     "output_type": "stream",
     "text": [
      "Epoch:   0%|                                                                                      | 0/5 [00:00<?, ?it/s]"
     ]
    },
    {
     "name": "stdout",
     "output_type": "stream",
     "text": [
      "Begin group  3 training\n"
     ]
    },
    {
     "name": "stderr",
     "output_type": "stream",
     "text": [
      "                                                                                                                        \r"
     ]
    },
    {
     "name": "stdout",
     "output_type": "stream",
     "text": [
      "Begin group  4 training\n",
      "Group 0, clients ['f_00022', 'f_00002', 'f_00113', 'f_00074', 'f_00024', 'f_00063']\n",
      "Group 1, clients ['f_00031']\n",
      "Group 2, clients ['f_00089', 'f_00098']\n",
      "Group 3, clients ['f_00180', 'f_00030', 'f_00019', 'f_00009', 'f_00179', 'f_00140']\n",
      "Group 4, clients ['f_00196', 'f_00077', 'f_00146', 'f_00106', 'f_00007']\n",
      "The groups difference are: [0.0, 0.00044330765804445615, 0.000499961819399819, 0.000557105843842054, 0.000473677945080464]\n"
     ]
    },
    {
     "name": "stderr",
     "output_type": "stream",
     "text": [
      "Epoch:   0%|                                                                                      | 0/5 [00:00<?, ?it/s]"
     ]
    },
    {
     "name": "stdout",
     "output_type": "stream",
     "text": [
      "Group 0\n",
      "At round 108 accuracy: 0.7541613316261203\n",
      "At round 108 training accuracy: 0.7468429653840439\n",
      "At round 108 training loss: 0.7966787651803302\n",
      "Group 1\n",
      "At round 108 accuracy: 0.9298245614035088\n",
      "At round 108 training accuracy: 0.9376947040498442\n",
      "At round 108 training loss: 0.387180614972783\n",
      "Group 2\n",
      "At round 108 accuracy: 0.8490566037735849\n",
      "At round 108 training accuracy: 0.8457486832204665\n",
      "At round 108 training loss: 0.7228820645513169\n",
      "Group 3\n",
      "At round 108 accuracy: 0.7871148459383753\n",
      "At round 108 training accuracy: 0.7573983739837399\n",
      "At round 108 training loss: 0.7132956086910837\n",
      "Group 4\n",
      "At round 108 accuracy: 0.6140350877192983\n",
      "At round 108 training accuracy: 0.6030534351145038\n",
      "At round 108 training loss: 1.2253577340098682\n",
      "At round 108 mean test accuracy: 0.7868384860921775 mean train accuracy: 0.7781476323505196\n",
      "Begin group  0 training\n"
     ]
    },
    {
     "name": "stderr",
     "output_type": "stream",
     "text": [
      "Epoch:   0%|                                                                                      | 0/5 [00:00<?, ?it/s]"
     ]
    },
    {
     "name": "stdout",
     "output_type": "stream",
     "text": [
      "Begin group  1 training\n",
      "Begin group  2 training\n",
      "Begin group  3 training\n"
     ]
    },
    {
     "name": "stderr",
     "output_type": "stream",
     "text": [
      "                                                                                                                        \r"
     ]
    },
    {
     "name": "stdout",
     "output_type": "stream",
     "text": [
      "Begin group  4 training\n",
      "Group 0, clients ['f_00023', 'f_00054', 'f_00083', 'f_00193', 'f_00124', 'f_00014']\n",
      "Group 1, clients ['f_00001']\n",
      "Group 2 is empty.\n",
      "Group 3, clients ['f_00079', 'f_00070', 'f_00190', 'f_00130', 'f_00110']\n",
      "Group 4, clients ['f_00076', 'f_00005', 'f_00155', 'f_00066', 'f_00055', 'f_00047', 'f_00107', 'f_00035']\n",
      "The groups difference are: [1.1102230246251565e-16, 0.0002544834764484083, 0.0006586011157942995, 0.0004854695055733771, 0.00043037741225959714]\n"
     ]
    },
    {
     "name": "stderr",
     "output_type": "stream",
     "text": [
      "Epoch:   0%|                                                                                      | 0/5 [00:00<?, ?it/s]"
     ]
    },
    {
     "name": "stdout",
     "output_type": "stream",
     "text": [
      "Group 0\n",
      "At round 109 accuracy: 0.764404609475032\n",
      "At round 109 training accuracy: 0.7524884861090477\n",
      "At round 109 training loss: 0.8156455058060434\n",
      "Group 1\n",
      "At round 109 accuracy: 0.9298245614035088\n",
      "At round 109 training accuracy: 0.9376947040498442\n",
      "At round 109 training loss: 0.4314578225679487\n",
      "Group 3\n",
      "At round 109 accuracy: 0.7815126050420168\n",
      "At round 109 training accuracy: 0.7671544715447155\n",
      "At round 109 training loss: 0.6863650879336567\n",
      "Group 4\n",
      "At round 109 accuracy: 0.5847953216374269\n",
      "At round 109 training accuracy: 0.6266481609993061\n",
      "At round 109 training loss: 1.1902502535698234\n",
      "At round 109 mean test accuracy: 0.765134274389496 mean train accuracy: 0.7709964556757284\n",
      "Begin group  0 training\n"
     ]
    },
    {
     "name": "stderr",
     "output_type": "stream",
     "text": [
      "Epoch: 100%|██████████████████████████████████████████████████████████████████████████████| 5/5 [00:00<00:00, 44.66it/s]"
     ]
    },
    {
     "name": "stdout",
     "output_type": "stream",
     "text": [
      "Begin group  1 training\n",
      "Begin group  3 training\n"
     ]
    },
    {
     "name": "stderr",
     "output_type": "stream",
     "text": [
      "Epoch:   0%|                                                                                      | 0/5 [00:00<?, ?it/s]"
     ]
    },
    {
     "name": "stdout",
     "output_type": "stream",
     "text": [
      "Begin group  4 training\n"
     ]
    },
    {
     "name": "stderr",
     "output_type": "stream",
     "text": [
      "                                                                                                                        \r"
     ]
    },
    {
     "name": "stdout",
     "output_type": "stream",
     "text": [
      "Group 0, clients ['f_00124', 'f_00042']\n",
      "Group 1, clients ['f_00071', 'f_00041']\n",
      "Group 2, clients ['f_00168', 'f_00028', 'f_00198']\n",
      "Group 3, clients ['f_00140', 'f_00020', 'f_00100', 'f_00119', 'f_00079']\n",
      "Group 4, clients ['f_00197', 'f_00147', 'f_00065', 'f_00151', 'f_00086', 'f_00027', 'f_00185', 'f_00055']\n",
      "The groups difference are: [0.0, 0.0003871027081150391, 0.0004982104516311203, 0.0006403986272547346, 0.00040901126367676177]\n"
     ]
    },
    {
     "name": "stderr",
     "output_type": "stream",
     "text": [
      "Epoch:   0%|                                                                                      | 0/5 [00:00<?, ?it/s]"
     ]
    },
    {
     "name": "stdout",
     "output_type": "stream",
     "text": [
      "Group 0\n",
      "At round 110 accuracy: 0.7093469910371318\n",
      "At round 110 training accuracy: 0.6963304115287476\n",
      "At round 110 training loss: 0.9901393348493082\n",
      "Group 1\n",
      "At round 110 accuracy: 0.9210526315789473\n",
      "At round 110 training accuracy: 0.9262720664589823\n",
      "At round 110 training loss: 0.4797752163491888\n",
      "Group 2\n",
      "At round 110 accuracy: 0.8301886792452831\n",
      "At round 110 training accuracy: 0.8291948833709556\n",
      "At round 110 training loss: 0.6844518401732205\n",
      "Group 3\n",
      "At round 110 accuracy: 0.7871148459383753\n",
      "At round 110 training accuracy: 0.7954471544715447\n",
      "At round 110 training loss: 0.7130338811002127\n",
      "Group 4\n",
      "At round 110 accuracy: 0.6510721247563352\n",
      "At round 110 training accuracy: 0.6752255378209576\n",
      "At round 110 training loss: 1.026805229245472\n",
      "At round 110 mean test accuracy: 0.7797550545112146 mean train accuracy: 0.7844940107302376\n",
      "Begin group  0 training\n",
      "Begin group  1 training\n"
     ]
    },
    {
     "name": "stderr",
     "output_type": "stream",
     "text": [
      "Epoch:   0%|                                                                                      | 0/5 [00:00<?, ?it/s]"
     ]
    },
    {
     "name": "stdout",
     "output_type": "stream",
     "text": [
      "Begin group  2 training\n",
      "Begin group  3 training\n"
     ]
    },
    {
     "name": "stderr",
     "output_type": "stream",
     "text": [
      "Epoch:   0%|                                                                                      | 0/5 [00:00<?, ?it/s]"
     ]
    },
    {
     "name": "stdout",
     "output_type": "stream",
     "text": [
      "Begin group  4 training\n"
     ]
    },
    {
     "name": "stderr",
     "output_type": "stream",
     "text": [
      "                                                                                                                        \r"
     ]
    },
    {
     "name": "stdout",
     "output_type": "stream",
     "text": [
      "Group 0, clients ['f_00132', 'f_00164', 'f_00183', 'f_00023', 'f_00163', 'f_00093']\n",
      "Group 1, clients ['f_00011']\n",
      "Group 2, clients ['f_00198']\n",
      "Group 3, clients ['f_00129', 'f_00079', 'f_00159', 'f_00009', 'f_00150']\n",
      "Group 4, clients ['f_00126', 'f_00035', 'f_00195', 'f_00076', 'f_00175', 'f_00145', 'f_00055']\n",
      "The groups difference are: [0.0, 0.0004082562360914199, 0.0005149946271769679, 0.0005771925561026681, 0.00030418535572240835]\n"
     ]
    },
    {
     "name": "stderr",
     "output_type": "stream",
     "text": [
      "Epoch:  60%|██████████████████████████████████████████████▊                               | 3/5 [00:00<00:00, 23.08it/s]"
     ]
    },
    {
     "name": "stdout",
     "output_type": "stream",
     "text": [
      "Group 0\n",
      "At round 111 accuracy: 0.6811779769526248\n",
      "At round 111 training accuracy: 0.679839548358342\n",
      "At round 111 training loss: 1.031457153565284\n",
      "Group 1\n",
      "At round 111 accuracy: 0.9298245614035088\n",
      "At round 111 training accuracy: 0.9376947040498442\n",
      "At round 111 training loss: 0.46441600500361324\n",
      "Group 2\n",
      "At round 111 accuracy: 0.8553459119496856\n",
      "At round 111 training accuracy: 0.8555304740406321\n",
      "At round 111 training loss: 0.666279920247195\n",
      "Group 3\n",
      "At round 111 accuracy: 0.773109243697479\n",
      "At round 111 training accuracy: 0.7619512195121951\n",
      "At round 111 training loss: 0.6921575225950256\n",
      "Group 4\n",
      "At round 111 accuracy: 0.7368421052631579\n",
      "At round 111 training accuracy: 0.7672912329400879\n",
      "At round 111 training loss: 0.9669124564031415\n",
      "At round 111 mean test accuracy: 0.7952599598532912 mean train accuracy: 0.8004614357802204\n",
      "Begin group  0 training\n"
     ]
    },
    {
     "name": "stderr",
     "output_type": "stream",
     "text": [
      "Epoch:   0%|                                                                                      | 0/5 [00:00<?, ?it/s]"
     ]
    },
    {
     "name": "stdout",
     "output_type": "stream",
     "text": [
      "Begin group  1 training\n",
      "Begin group  2 training\n",
      "Begin group  3 training\n"
     ]
    },
    {
     "name": "stderr",
     "output_type": "stream",
     "text": [
      "Epoch:   0%|                                                                                      | 0/5 [00:00<?, ?it/s]"
     ]
    },
    {
     "name": "stdout",
     "output_type": "stream",
     "text": [
      "Begin group  4 training\n"
     ]
    },
    {
     "name": "stderr",
     "output_type": "stream",
     "text": [
      "                                                                                                                        \r"
     ]
    },
    {
     "name": "stdout",
     "output_type": "stream",
     "text": [
      "Group 0, clients ['f_00173', 'f_00072', 'f_00082', 'f_00142', 'f_00023', 'f_00114', 'f_00024']\n",
      "Group 1, clients ['f_00121']\n",
      "Group 2, clients ['f_00108', 'f_00178', 'f_00088']\n",
      "Group 3, clients ['f_00150', 'f_00019', 'f_00050', 'f_00099', 'f_00140', 'f_00110']\n",
      "Group 4, clients ['f_00015', 'f_00166', 'f_00145']\n",
      "The groups difference are: [0.0, 0.00048711751753127697, 0.0006196875608146524, 0.0006702413868791002, 0.00043979291525608755]\n"
     ]
    },
    {
     "name": "stderr",
     "output_type": "stream",
     "text": [
      "Epoch:   0%|                                                                                      | 0/5 [00:00<?, ?it/s]"
     ]
    },
    {
     "name": "stdout",
     "output_type": "stream",
     "text": [
      "Group 0\n",
      "At round 112 accuracy: 0.7093469910371318\n",
      "At round 112 training accuracy: 0.6963304115287476\n",
      "At round 112 training loss: 1.0348185731457524\n",
      "Group 1\n",
      "At round 112 accuracy: 0.9298245614035088\n",
      "At round 112 training accuracy: 0.9376947040498442\n",
      "At round 112 training loss: 0.45355014829496976\n",
      "Group 2\n",
      "At round 112 accuracy: 0.8176100628930818\n",
      "At round 112 training accuracy: 0.8111361926260346\n",
      "At round 112 training loss: 0.6404171799519082\n",
      "Group 3\n",
      "At round 112 accuracy: 0.7226890756302521\n",
      "At round 112 training accuracy: 0.7089430894308943\n",
      "At round 112 training loss: 0.8848014318749188\n",
      "Group 4\n",
      "At round 112 accuracy: 0.6783625730994152\n",
      "At round 112 training accuracy: 0.7034466805459172\n",
      "At round 112 training loss: 1.045565443294842\n",
      "At round 112 mean test accuracy: 0.771566652812678 mean train accuracy: 0.7715102156362876\n",
      "Begin group  0 training\n"
     ]
    },
    {
     "name": "stderr",
     "output_type": "stream",
     "text": [
      "Epoch:   0%|                                                                                      | 0/5 [00:00<?, ?it/s]"
     ]
    },
    {
     "name": "stdout",
     "output_type": "stream",
     "text": [
      "Begin group  1 training\n",
      "Begin group  2 training\n"
     ]
    },
    {
     "name": "stderr",
     "output_type": "stream",
     "text": [
      "Epoch:   0%|                                                                                      | 0/5 [00:00<?, ?it/s]"
     ]
    },
    {
     "name": "stdout",
     "output_type": "stream",
     "text": [
      "Begin group  3 training\n",
      "Begin group  4 training\n"
     ]
    },
    {
     "name": "stderr",
     "output_type": "stream",
     "text": [
      "                                                                                                                        \r"
     ]
    },
    {
     "name": "stdout",
     "output_type": "stream",
     "text": [
      "Group 0, clients ['f_00062', 'f_00142', 'f_00022', 'f_00034', 'f_00063', 'f_00124', 'f_00114']\n",
      "Group 1, clients ['f_00071', 'f_00091']\n",
      "Group 2 is empty.\n",
      "Group 3, clients ['f_00030', 'f_00019', 'f_00009']\n",
      "Group 4, clients ['f_00016', 'f_00057', 'f_00155', 'f_00127', 'f_00117', 'f_00017', 'f_00161', 'f_00006']\n",
      "The groups difference are: [0.0, 0.00035685747056968253, 0.0005497561050196165, 0.00045438601107283816, 0.0004458593901598418]\n"
     ]
    },
    {
     "name": "stderr",
     "output_type": "stream",
     "text": [
      "\r",
      "Epoch:   0%|                                                                                      | 0/5 [00:00<?, ?it/s]"
     ]
    },
    {
     "name": "stdout",
     "output_type": "stream",
     "text": [
      "Group 0\n",
      "At round 113 accuracy: 0.7298335467349552\n",
      "At round 113 training accuracy: 0.7300549695439014\n",
      "At round 113 training loss: 0.8045689168381596\n",
      "Group 1\n",
      "At round 113 accuracy: 0.9035087719298246\n",
      "At round 113 training accuracy: 0.9190031152647975\n",
      "At round 113 training loss: 0.38564248294845177\n",
      "Group 3\n",
      "At round 113 accuracy: 0.84593837535014\n",
      "At round 113 training accuracy: 0.8204878048780487\n",
      "At round 113 training loss: 0.6824368899818358\n",
      "Group 4\n",
      "At round 113 accuracy: 0.5867446393762183\n",
      "At round 113 training accuracy: 0.5866296553319454\n",
      "At round 113 training loss: 1.2234387925149335\n",
      "At round 113 mean test accuracy: 0.7665063333477846 mean train accuracy: 0.7640438862546732\n",
      "Begin group  0 training\n"
     ]
    },
    {
     "name": "stderr",
     "output_type": "stream",
     "text": [
      "Epoch:   0%|                                                                                      | 0/5 [00:00<?, ?it/s]"
     ]
    },
    {
     "name": "stdout",
     "output_type": "stream",
     "text": [
      "Begin group  1 training\n",
      "Begin group  3 training\n"
     ]
    },
    {
     "name": "stderr",
     "output_type": "stream",
     "text": [
      "                                                                                                                        \r"
     ]
    },
    {
     "name": "stdout",
     "output_type": "stream",
     "text": [
      "Begin group  4 training\n",
      "Group 0, clients ['f_00053', 'f_00054', 'f_00114']\n",
      "Group 1, clients ['f_00121']\n",
      "Group 2, clients ['f_00059', 'f_00078', 'f_00198']\n",
      "Group 3, clients ['f_00099', 'f_00000', 'f_00069', 'f_00030']\n",
      "Group 4, clients ['f_00006', 'f_00127', 'f_00007', 'f_00015', 'f_00187', 'f_00105', 'f_00106', 'f_00065', 'f_00017']\n",
      "The groups difference are: [0.0, 0.0005960520242007661, 0.0009385707483411387, 0.0010125593588610204, 0.0010284506481382794]\n"
     ]
    },
    {
     "name": "stderr",
     "output_type": "stream",
     "text": [
      "Epoch:  60%|██████████████████████████████████████████████▊                               | 3/5 [00:00<00:00, 21.61it/s]"
     ]
    },
    {
     "name": "stdout",
     "output_type": "stream",
     "text": [
      "Group 0\n",
      "At round 114 accuracy: 0.6081946222791293\n",
      "At round 114 training accuracy: 0.6299212598425197\n",
      "At round 114 training loss: 1.3171880109103646\n",
      "Group 1\n",
      "At round 114 accuracy: 0.8859649122807017\n",
      "At round 114 training accuracy: 0.9023883696780893\n",
      "At round 114 training loss: 0.395412695896836\n",
      "Group 2\n",
      "At round 114 accuracy: 0.8679245283018868\n",
      "At round 114 training accuracy: 0.871331828442438\n",
      "At round 114 training loss: 0.761671412430642\n",
      "Group 3\n",
      "At round 114 accuracy: 0.7871148459383753\n",
      "At round 114 training accuracy: 0.7547967479674796\n",
      "At round 114 training loss: 0.7249897783946215\n",
      "Group 4\n",
      "At round 114 accuracy: 0.6530214424951267\n",
      "At round 114 training accuracy: 0.6826278047652093\n",
      "At round 114 training loss: 1.052672042908449\n",
      "At round 114 mean test accuracy: 0.760444070259044 mean train accuracy: 0.7682132021391473\n",
      "Begin group  0 training\n"
     ]
    },
    {
     "name": "stderr",
     "output_type": "stream",
     "text": [
      "Epoch:   0%|                                                                                      | 0/5 [00:00<?, ?it/s]"
     ]
    },
    {
     "name": "stdout",
     "output_type": "stream",
     "text": [
      "Begin group  1 training\n",
      "Begin group  2 training\n"
     ]
    },
    {
     "name": "stderr",
     "output_type": "stream",
     "text": [
      "Epoch:   0%|                                                                                      | 0/5 [00:00<?, ?it/s]"
     ]
    },
    {
     "name": "stdout",
     "output_type": "stream",
     "text": [
      "Begin group  3 training\n",
      "Begin group  4 training\n"
     ]
    },
    {
     "name": "stderr",
     "output_type": "stream",
     "text": [
      "                                                                                                                        \r"
     ]
    },
    {
     "name": "stdout",
     "output_type": "stream",
     "text": [
      "Group 0, clients ['f_00152', 'f_00143', 'f_00042', 'f_00123', 'f_00183', 'f_00014', 'f_00073']\n",
      "Group 1, clients ['f_00021']\n",
      "Group 2, clients ['f_00169', 'f_00128', 'f_00078', 'f_00188']\n",
      "Group 3, clients ['f_00140', 'f_00180', 'f_00010', 'f_00030']\n",
      "Group 4, clients ['f_00006', 'f_00165', 'f_00061', 'f_00161']\n",
      "The groups difference are: [0.0, 0.0007318759939960451, 0.000806738766205406, 0.0008513264366019069, 0.0007072749798615607]\n"
     ]
    },
    {
     "name": "stderr",
     "output_type": "stream",
     "text": [
      "                                                                                                                        "
     ]
    },
    {
     "name": "stdout",
     "output_type": "stream",
     "text": [
      "Group 0\n",
      "At round 115 accuracy: 0.7272727272727273\n",
      "At round 115 training accuracy: 0.7042044272767791\n",
      "At round 115 training loss: 1.0763430995654961\n",
      "Group 1\n",
      "At round 115 accuracy: 0.9298245614035088\n",
      "At round 115 training accuracy: 0.9376947040498442\n",
      "At round 115 training loss: 0.3797966046249136\n",
      "Group 2\n",
      "At round 115 accuracy: 0.8616352201257862\n",
      "At round 115 training accuracy: 0.8577878103837472\n",
      "At round 115 training loss: 0.6900361418903457\n",
      "Group 3\n",
      "At round 115 accuracy: 0.7927170868347339\n",
      "At round 115 training accuracy: 0.7635772357723577\n",
      "At round 115 training loss: 0.7337446826841773\n",
      "Group 4\n",
      "At round 115 accuracy: 0.7095516569200779\n",
      "At round 115 training accuracy: 0.7372195234790655\n",
      "At round 115 training loss: 1.0174040878753874\n",
      "At round 115 mean test accuracy: 0.804200250511367 mean train accuracy: 0.8000967401923589\n",
      "Begin group  0 training\n"
     ]
    },
    {
     "name": "stderr",
     "output_type": "stream",
     "text": [
      "Epoch:   0%|                                                                                      | 0/5 [00:00<?, ?it/s]"
     ]
    },
    {
     "name": "stdout",
     "output_type": "stream",
     "text": [
      "Begin group  1 training\n",
      "Begin group  2 training\n",
      "Begin group  3 training\n"
     ]
    },
    {
     "name": "stderr",
     "output_type": "stream",
     "text": [
      "                                                                                                                        \r"
     ]
    },
    {
     "name": "stdout",
     "output_type": "stream",
     "text": [
      "Begin group  4 training\n",
      "Group 0, clients ['f_00142', 'f_00134', 'f_00034', 'f_00103', 'f_00102', 'f_00132', 'f_00042', 'f_00153']\n",
      "Group 1 is empty.\n",
      "Group 2, clients ['f_00018']\n",
      "Group 3, clients ['f_00030', 'f_00079', 'f_00150']\n",
      "Group 4, clients ['f_00127', 'f_00077', 'f_00166', 'f_00015', 'f_00025', 'f_00006', 'f_00005', 'f_00196']\n",
      "The groups difference are: [0.0, 0.00040207876252962294, 0.0005741390687498127, 0.0007472634647330834, 0.0005104694369805207]\n"
     ]
    },
    {
     "name": "stderr",
     "output_type": "stream",
     "text": [
      "Epoch:   0%|                                                                                      | 0/5 [00:00<?, ?it/s]"
     ]
    },
    {
     "name": "stdout",
     "output_type": "stream",
     "text": [
      "Group 0\n",
      "At round 116 accuracy: 0.7285531370038413\n",
      "At round 116 training accuracy: 0.7107413460109939\n",
      "At round 116 training loss: 0.88005799046687\n",
      "Group 2\n",
      "At round 116 accuracy: 0.8238993710691824\n",
      "At round 116 training accuracy: 0.8209179834462002\n",
      "At round 116 training loss: 0.765865238785654\n",
      "Group 3\n",
      "At round 116 accuracy: 0.7955182072829131\n",
      "At round 116 training accuracy: 0.8003252032520325\n",
      "At round 116 training loss: 0.7729967908549115\n",
      "Group 4\n",
      "At round 116 accuracy: 0.7192982456140351\n",
      "At round 116 training accuracy: 0.7436965070552857\n",
      "At round 116 training loss: 1.0970160686911847\n",
      "At round 116 mean test accuracy: 0.766817240242493 mean train accuracy: 0.768920259941128\n",
      "Begin group  0 training\n"
     ]
    },
    {
     "name": "stderr",
     "output_type": "stream",
     "text": [
      "Epoch:   0%|                                                                                      | 0/5 [00:00<?, ?it/s]"
     ]
    },
    {
     "name": "stdout",
     "output_type": "stream",
     "text": [
      "Begin group  2 training\n",
      "Begin group  3 training\n",
      "Begin group  4 training\n"
     ]
    },
    {
     "name": "stderr",
     "output_type": "stream",
     "text": [
      "                                                                                                                        \r"
     ]
    },
    {
     "name": "stdout",
     "output_type": "stream",
     "text": [
      "Group 0, clients ['f_00174', 'f_00063', 'f_00133', 'f_00193', 'f_00062', 'f_00072']\n",
      "Group 1, clients ['f_00041', 'f_00001', 'f_00171']\n",
      "Group 2 is empty.\n",
      "Group 3, clients ['f_00120', 'f_00129', 'f_00029', 'f_00149', 'f_00140']\n",
      "Group 4, clients ['f_00155', 'f_00036', 'f_00105', 'f_00096', 'f_00017', 'f_00006']\n",
      "The groups difference are: [0.0, 0.00019475259035206527, 0.00049180378591962, 0.0005090197770519778, 0.0004659419736693371]\n"
     ]
    },
    {
     "name": "stderr",
     "output_type": "stream",
     "text": [
      "Epoch:   0%|                                                                                      | 0/5 [00:00<?, ?it/s]"
     ]
    },
    {
     "name": "stdout",
     "output_type": "stream",
     "text": [
      "Group 0\n",
      "At round 117 accuracy: 0.7874519846350833\n",
      "At round 117 training accuracy: 0.7726935076511663\n",
      "At round 117 training loss: 0.7708264250153862\n",
      "Group 1\n",
      "At round 117 accuracy: 0.9210526315789473\n",
      "At round 117 training accuracy: 0.8992731048805815\n",
      "At round 117 training loss: 0.5275182601137943\n",
      "Group 3\n",
      "At round 117 accuracy: 0.7338935574229691\n",
      "At round 117 training accuracy: 0.7219512195121951\n",
      "At round 117 training loss: 0.7316510250897912\n",
      "Group 4\n",
      "At round 117 accuracy: 0.621832358674464\n",
      "At round 117 training accuracy: 0.6368262780476521\n",
      "At round 117 training loss: 1.1393447632787406\n",
      "At round 117 mean test accuracy: 0.7660576330778659 mean train accuracy: 0.7576860275228988\n",
      "Begin group  0 training\n"
     ]
    },
    {
     "name": "stderr",
     "output_type": "stream",
     "text": [
      "Epoch:   0%|                                                                                      | 0/5 [00:00<?, ?it/s]"
     ]
    },
    {
     "name": "stdout",
     "output_type": "stream",
     "text": [
      "Begin group  1 training\n",
      "Begin group  3 training\n"
     ]
    },
    {
     "name": "stderr",
     "output_type": "stream",
     "text": [
      "Epoch:   0%|                                                                                      | 0/5 [00:00<?, ?it/s]"
     ]
    },
    {
     "name": "stdout",
     "output_type": "stream",
     "text": [
      "Begin group  4 training\n"
     ]
    },
    {
     "name": "stderr",
     "output_type": "stream",
     "text": [
      "                                                                                                                        \r"
     ]
    },
    {
     "name": "stdout",
     "output_type": "stream",
     "text": [
      "Group 0, clients ['f_00063', 'f_00113', 'f_00103', 'f_00032', 'f_00034', 'f_00092', 'f_00193', 'f_00143']\n",
      "Group 1 is empty.\n",
      "Group 2, clients ['f_00188', 'f_00058']\n",
      "Group 3, clients ['f_00159']\n",
      "Group 4, clients ['f_00161', 'f_00135', 'f_00187', 'f_00075', 'f_00061', 'f_00116', 'f_00137', 'f_00077', 'f_00016']\n",
      "The groups difference are: [0.0, 0.0007051621751181791, 0.0010359766070817678, 0.0011088393223490645, 0.0012641201538149405]\n"
     ]
    },
    {
     "name": "stderr",
     "output_type": "stream",
     "text": [
      "Epoch:   0%|                                                                                      | 0/5 [00:00<?, ?it/s]"
     ]
    },
    {
     "name": "stdout",
     "output_type": "stream",
     "text": [
      "Group 0\n",
      "At round 118 accuracy: 0.6338028169014085\n",
      "At round 118 training accuracy: 0.6582974298024068\n",
      "At round 118 training loss: 1.3723592667899502\n",
      "Group 2\n",
      "At round 118 accuracy: 0.8490566037735849\n",
      "At round 118 training accuracy: 0.8329571106094809\n",
      "At round 118 training loss: 0.8332853017667795\n",
      "Group 3\n",
      "At round 118 accuracy: 0.8487394957983193\n",
      "At round 118 training accuracy: 0.8250406504065041\n",
      "At round 118 training loss: 0.664282330526569\n",
      "Group 4\n",
      "At round 118 accuracy: 0.682261208576998\n",
      "At round 118 training accuracy: 0.6985889428637521\n",
      "At round 118 training loss: 1.057049223402157\n",
      "At round 118 mean test accuracy: 0.7534650312625777 mean train accuracy: 0.753721033420536\n",
      "Begin group  0 training\n"
     ]
    },
    {
     "name": "stderr",
     "output_type": "stream",
     "text": [
      "Epoch:   0%|                                                                                      | 0/5 [00:00<?, ?it/s]"
     ]
    },
    {
     "name": "stdout",
     "output_type": "stream",
     "text": [
      "Begin group  2 training\n",
      "Begin group  3 training\n",
      "Begin group  4 training\n"
     ]
    },
    {
     "name": "stderr",
     "output_type": "stream",
     "text": [
      "                                                                                                                        \r"
     ]
    },
    {
     "name": "stdout",
     "output_type": "stream",
     "text": [
      "Group 0, clients ['f_00012', 'f_00112', 'f_00102', 'f_00124']\n",
      "Group 1, clients ['f_00011', 'f_00021']\n",
      "Group 2, clients ['f_00178', 'f_00088', 'f_00158', 'f_00008']\n",
      "Group 3, clients ['f_00150', 'f_00109', 'f_00130', 'f_00179', 'f_00090']\n",
      "Group 4, clients ['f_00067', 'f_00027', 'f_00186', 'f_00077', 'f_00035']\n",
      "The groups difference are: [0.0, 0.0003639701713087362, 0.0005460772560059723, 0.0007233931018106876, 0.0005541754842934843]\n"
     ]
    },
    {
     "name": "stderr",
     "output_type": "stream",
     "text": [
      "Epoch:  80%|██████████████████████████████████████████████████████████████▍               | 4/5 [00:00<00:00, 34.46it/s]"
     ]
    },
    {
     "name": "stdout",
     "output_type": "stream",
     "text": [
      "Group 0\n",
      "At round 119 accuracy: 0.7528809218950064\n",
      "At round 119 training accuracy: 0.7501114247511513\n",
      "At round 119 training loss: 0.7670642780462429\n",
      "Group 1\n",
      "At round 119 accuracy: 0.9035087719298246\n",
      "At round 119 training accuracy: 0.9190031152647975\n",
      "At round 119 training loss: 0.5253816668799114\n",
      "Group 2\n",
      "At round 119 accuracy: 0.8553459119496856\n",
      "At round 119 training accuracy: 0.8570353649360422\n",
      "At round 119 training loss: 0.7237680613142463\n",
      "Group 3\n",
      "At round 119 accuracy: 0.7142857142857143\n",
      "At round 119 training accuracy: 0.7040650406504065\n",
      "At round 119 training loss: 0.8979914497844572\n",
      "Group 4\n",
      "At round 119 accuracy: 0.7173489278752436\n",
      "At round 119 training accuracy: 0.7464723571593801\n",
      "At round 119 training loss: 0.994668165098151\n",
      "At round 119 mean test accuracy: 0.788674049587095 mean train accuracy: 0.7953374605523557\n",
      "Begin group  0 training\n"
     ]
    },
    {
     "name": "stderr",
     "output_type": "stream",
     "text": [
      "Epoch:   0%|                                                                                      | 0/5 [00:00<?, ?it/s]"
     ]
    },
    {
     "name": "stdout",
     "output_type": "stream",
     "text": [
      "Begin group  1 training\n",
      "Begin group  2 training\n",
      "Begin group  3 training\n"
     ]
    },
    {
     "name": "stderr",
     "output_type": "stream",
     "text": [
      "                                                                                                                        "
     ]
    },
    {
     "name": "stdout",
     "output_type": "stream",
     "text": [
      "Begin group  4 training\n"
     ]
    },
    {
     "name": "stderr",
     "output_type": "stream",
     "text": [
      "                                                                                                                        \r"
     ]
    },
    {
     "name": "stdout",
     "output_type": "stream",
     "text": [
      "Group 0, clients ['f_00062', 'f_00032', 'f_00163', 'f_00074']\n",
      "Group 1, clients ['f_00101']\n",
      "Group 2, clients ['f_00118', 'f_00198', 'f_00108', 'f_00178']\n",
      "Group 3, clients ['f_00080', 'f_00199', 'f_00160', 'f_00039']\n",
      "Group 4, clients ['f_00087', 'f_00035', 'f_00125', 'f_00161', 'f_00046', 'f_00136', 'f_00006']\n",
      "The groups difference are: [0.0, 0.000296558154180282, 0.0005607362224362422, 0.0005112312138830788, 0.0006827582907326102]\n"
     ]
    },
    {
     "name": "stderr",
     "output_type": "stream",
     "text": [
      "\r",
      "Epoch:   0%|                                                                                      | 0/5 [00:00<?, ?it/s]"
     ]
    },
    {
     "name": "stdout",
     "output_type": "stream",
     "text": [
      "Group 0\n",
      "At round 120 accuracy: 0.7247119078104993\n",
      "At round 120 training accuracy: 0.7328777299064032\n",
      "At round 120 training loss: 0.8116611237689585\n",
      "Group 1\n",
      "At round 120 accuracy: 0.9210526315789473\n",
      "At round 120 training accuracy: 0.9387331256490135\n",
      "At round 120 training loss: 0.4343126046694699\n",
      "Group 2\n",
      "At round 120 accuracy: 0.8553459119496856\n",
      "At round 120 training accuracy: 0.8412340105342363\n",
      "At round 120 training loss: 0.6508650799457788\n",
      "Group 3\n",
      "At round 120 accuracy: 0.8319327731092437\n",
      "At round 120 training accuracy: 0.8143089430894309\n",
      "At round 120 training loss: 0.6588159068716251\n",
      "Group 4\n",
      "At round 120 accuracy: 0.5906432748538012\n",
      "At round 120 training accuracy: 0.5912560721721027\n",
      "At round 120 training loss: 1.2371661211780836\n",
      "At round 120 mean test accuracy: 0.7847372998604356 mean train accuracy: 0.7836819762702374\n",
      "Begin group  0 training\n"
     ]
    },
    {
     "name": "stderr",
     "output_type": "stream",
     "text": [
      "Epoch:   0%|                                                                                      | 0/5 [00:00<?, ?it/s]"
     ]
    },
    {
     "name": "stdout",
     "output_type": "stream",
     "text": [
      "Begin group  1 training\n",
      "Begin group  2 training\n"
     ]
    },
    {
     "name": "stderr",
     "output_type": "stream",
     "text": [
      "Epoch:   0%|                                                                                      | 0/5 [00:00<?, ?it/s]"
     ]
    },
    {
     "name": "stdout",
     "output_type": "stream",
     "text": [
      "Begin group  3 training\n"
     ]
    },
    {
     "name": "stderr",
     "output_type": "stream",
     "text": [
      "Epoch:   0%|                                                                                      | 0/5 [00:00<?, ?it/s]"
     ]
    },
    {
     "name": "stdout",
     "output_type": "stream",
     "text": [
      "Begin group  4 training\n"
     ]
    },
    {
     "name": "stderr",
     "output_type": "stream",
     "text": [
      "                                                                                                                        \r"
     ]
    },
    {
     "name": "stdout",
     "output_type": "stream",
     "text": [
      "Group 0, clients ['f_00144', 'f_00142', 'f_00032', 'f_00024', 'f_00143']\n",
      "Group 1 is empty.\n",
      "Group 2, clients ['f_00128', 'f_00178', 'f_00049']\n",
      "Group 3, clients ['f_00070', 'f_00079', 'f_00090', 'f_00189']\n",
      "Group 4, clients ['f_00155', 'f_00146', 'f_00027', 'f_00197', 'f_00147', 'f_00136', 'f_00107', 'f_00056']\n",
      "The groups difference are: [0.0, 0.0007814970589206105, 0.0014164919273036425, 0.0012400160461985, 0.0014025736729057492]\n"
     ]
    },
    {
     "name": "stderr",
     "output_type": "stream",
     "text": [
      "Epoch:   0%|                                                                                      | 0/5 [00:00<?, ?it/s]"
     ]
    },
    {
     "name": "stdout",
     "output_type": "stream",
     "text": [
      "Group 0\n",
      "At round 121 accuracy: 0.6581306017925737\n",
      "At round 121 training accuracy: 0.6783538850096568\n",
      "At round 121 training loss: 1.3482339051738215\n",
      "Group 2\n",
      "At round 121 accuracy: 0.7672955974842768\n",
      "At round 121 training accuracy: 0.7343867569601203\n",
      "At round 121 training loss: 0.7017048759241585\n",
      "Group 3\n",
      "At round 121 accuracy: 0.7843137254901961\n",
      "At round 121 training accuracy: 0.7723577235772358\n",
      "At round 121 training loss: 0.6806178010382303\n",
      "Group 4\n",
      "At round 121 accuracy: 0.621832358674464\n",
      "At round 121 training accuracy: 0.6527874161461947\n",
      "At round 121 training loss: 1.0681100058632815\n",
      "At round 121 mean test accuracy: 0.7078930708603776 mean train accuracy: 0.709471445423302\n",
      "Begin group  0 training\n",
      "Begin group  2 training\n"
     ]
    },
    {
     "name": "stderr",
     "output_type": "stream",
     "text": [
      "Epoch:   0%|                                                                                      | 0/5 [00:00<?, ?it/s]"
     ]
    },
    {
     "name": "stdout",
     "output_type": "stream",
     "text": [
      "Begin group  3 training\n"
     ]
    },
    {
     "name": "stderr",
     "output_type": "stream",
     "text": [
      "Epoch:   0%|                                                                                      | 0/5 [00:00<?, ?it/s]"
     ]
    },
    {
     "name": "stdout",
     "output_type": "stream",
     "text": [
      "Begin group  4 training\n"
     ]
    },
    {
     "name": "stderr",
     "output_type": "stream",
     "text": [
      "                                                                                                                        \r"
     ]
    },
    {
     "name": "stdout",
     "output_type": "stream",
     "text": [
      "Group 0, clients ['f_00002', 'f_00043', 'f_00064', 'f_00022', 'f_00122', 'f_00103', 'f_00113', 'f_00023']\n",
      "Group 1, clients ['f_00131', 'f_00191']\n",
      "Group 2, clients ['f_00018']\n",
      "Group 3, clients ['f_00030', 'f_00120', 'f_00160', 'f_00199', 'f_00040']\n",
      "Group 4, clients ['f_00095', 'f_00035', 'f_00075', 'f_00007']\n",
      "The groups difference are: [0.0, 0.00035750042035209706, 0.000623616506768121, 0.0006814325266095711, 0.0006538293719382526]\n"
     ]
    },
    {
     "name": "stderr",
     "output_type": "stream",
     "text": [
      "Epoch:   0%|                                                                                      | 0/5 [00:00<?, ?it/s]"
     ]
    },
    {
     "name": "stdout",
     "output_type": "stream",
     "text": [
      "Group 0\n",
      "At round 122 accuracy: 0.7772087067861716\n",
      "At round 122 training accuracy: 0.7633338285544495\n",
      "At round 122 training loss: 0.7830812957626522\n",
      "Group 1\n",
      "At round 122 accuracy: 0.9122807017543859\n",
      "At round 122 training accuracy: 0.9376947040498442\n",
      "At round 122 training loss: 0.518564530436495\n",
      "Group 2\n",
      "At round 122 accuracy: 0.8427672955974843\n",
      "At round 122 training accuracy: 0.8510158013544018\n",
      "At round 122 training loss: 0.6580190843348219\n",
      "Group 3\n",
      "At round 122 accuracy: 0.7955182072829131\n",
      "At round 122 training accuracy: 0.7775609756097561\n",
      "At round 122 training loss: 0.652680606221765\n",
      "Group 4\n",
      "At round 122 accuracy: 0.6432748538011696\n",
      "At round 122 training accuracy: 0.6657413832986352\n",
      "At round 122 training loss: 1.0946827008165532\n",
      "At round 122 mean test accuracy: 0.7942099530444249 mean train accuracy: 0.7990693385734174\n",
      "Begin group  0 training\n"
     ]
    },
    {
     "name": "stderr",
     "output_type": "stream",
     "text": [
      "Epoch:   0%|                                                                                      | 0/5 [00:00<?, ?it/s]"
     ]
    },
    {
     "name": "stdout",
     "output_type": "stream",
     "text": [
      "Begin group  1 training\n",
      "Begin group  2 training\n",
      "Begin group  3 training\n"
     ]
    },
    {
     "name": "stderr",
     "output_type": "stream",
     "text": [
      "                                                                                                                        \r"
     ]
    },
    {
     "name": "stdout",
     "output_type": "stream",
     "text": [
      "Begin group  4 training\n",
      "Group 0, clients ['f_00104', 'f_00053', 'f_00162', 'f_00082', 'f_00182', 'f_00004']\n",
      "Group 1, clients ['f_00031', 'f_00121']\n",
      "Group 2, clients ['f_00158', 'f_00108', 'f_00178']\n",
      "Group 3, clients ['f_00050', 'f_00149', 'f_00019', 'f_00179', 'f_00189', 'f_00020']\n",
      "Group 4, clients ['f_00127', 'f_00037', 'f_00185']\n",
      "The groups difference are: [0.0, 0.00028753810738968433, 0.0005598227716648863, 0.0006280849629703988, 0.0005574654810684976]\n"
     ]
    },
    {
     "name": "stderr",
     "output_type": "stream",
     "text": [
      "Epoch:  60%|██████████████████████████████████████████████▊                               | 3/5 [00:00<00:00, 22.42it/s]"
     ]
    },
    {
     "name": "stdout",
     "output_type": "stream",
     "text": [
      "Group 0\n",
      "At round 123 accuracy: 0.7323943661971831\n",
      "At round 123 training accuracy: 0.7199524587728421\n",
      "At round 123 training loss: 0.8359645993743923\n",
      "Group 1\n",
      "At round 123 accuracy: 0.9210526315789473\n",
      "At round 123 training accuracy: 0.9262720664589823\n",
      "At round 123 training loss: 0.4158571177739592\n",
      "Group 2\n",
      "At round 123 accuracy: 0.8238993710691824\n",
      "At round 123 training accuracy: 0.8201655379984951\n",
      "At round 123 training loss: 0.6451420364207662\n",
      "Group 3\n",
      "At round 123 accuracy: 0.7871148459383753\n",
      "At round 123 training accuracy: 0.7863414634146342\n",
      "At round 123 training loss: 0.6690488321994378\n",
      "Group 4\n",
      "At round 123 accuracy: 0.5789473684210527\n",
      "At round 123 training accuracy: 0.599352301642378\n",
      "At round 123 training loss: 1.1517341602959899\n",
      "At round 123 mean test accuracy: 0.7686817166409482 mean train accuracy: 0.7704167656574664\n",
      "Begin group  0 training\n"
     ]
    },
    {
     "name": "stderr",
     "output_type": "stream",
     "text": [
      "Epoch:   0%|                                                                                      | 0/5 [00:00<?, ?it/s]"
     ]
    },
    {
     "name": "stdout",
     "output_type": "stream",
     "text": [
      "Begin group  1 training\n",
      "Begin group  2 training\n"
     ]
    },
    {
     "name": "stderr",
     "output_type": "stream",
     "text": [
      "Epoch:   0%|                                                                                      | 0/5 [00:00<?, ?it/s]"
     ]
    },
    {
     "name": "stdout",
     "output_type": "stream",
     "text": [
      "Begin group  3 training\n"
     ]
    },
    {
     "name": "stderr",
     "output_type": "stream",
     "text": [
      "                                                                                                                        \r"
     ]
    },
    {
     "name": "stdout",
     "output_type": "stream",
     "text": [
      "Begin group  4 training\n",
      "Group 0, clients ['f_00183', 'f_00152', 'f_00184', 'f_00034']\n",
      "Group 1, clients ['f_00091', 'f_00121']\n",
      "Group 2, clients ['f_00108']\n",
      "Group 3, clients ['f_00080', 'f_00100', 'f_00119', 'f_00110']\n",
      "Group 4, clients ['f_00005', 'f_00027', 'f_00186', 'f_00127', 'f_00056', 'f_00016', 'f_00151', 'f_00075', 'f_00086']\n",
      "The groups difference are: [1.1102230246251565e-16, 0.00047740193706635736, 0.0006466971987226788, 0.0006507191006857038, 0.0005481793962689441]\n"
     ]
    },
    {
     "name": "stderr",
     "output_type": "stream",
     "text": [
      "Epoch:   0%|                                                                                      | 0/5 [00:00<?, ?it/s]"
     ]
    },
    {
     "name": "stdout",
     "output_type": "stream",
     "text": [
      "Group 0\n",
      "At round 124 accuracy: 0.7387964148527529\n",
      "At round 124 training accuracy: 0.723666617144555\n",
      "At round 124 training loss: 0.8711821791667355\n",
      "Group 1\n",
      "At round 124 accuracy: 0.9210526315789473\n",
      "At round 124 training accuracy: 0.9117341640706127\n",
      "At round 124 training loss: 0.38708530485568143\n",
      "Group 2\n",
      "At round 124 accuracy: 0.8176100628930818\n",
      "At round 124 training accuracy: 0.7975921745673439\n",
      "At round 124 training loss: 0.6100922122631331\n",
      "Group 3\n",
      "At round 124 accuracy: 0.742296918767507\n",
      "At round 124 training accuracy: 0.7317073170731707\n",
      "At round 124 training loss: 0.72877542770975\n",
      "Group 4\n",
      "At round 124 accuracy: 0.6647173489278753\n",
      "At round 124 training accuracy: 0.6419153365718251\n",
      "At round 124 training loss: 1.069710244866066\n",
      "At round 124 mean test accuracy: 0.7768946754040329 mean train accuracy: 0.7613231218855014\n",
      "Begin group  0 training\n"
     ]
    },
    {
     "name": "stderr",
     "output_type": "stream",
     "text": [
      "Epoch:   0%|                                                                                      | 0/5 [00:00<?, ?it/s]"
     ]
    },
    {
     "name": "stdout",
     "output_type": "stream",
     "text": [
      "Begin group  1 training\n"
     ]
    },
    {
     "name": "stderr",
     "output_type": "stream",
     "text": [
      "Epoch:   0%|                                                                                      | 0/5 [00:00<?, ?it/s]"
     ]
    },
    {
     "name": "stdout",
     "output_type": "stream",
     "text": [
      "Begin group  2 training\n",
      "Begin group  3 training\n"
     ]
    },
    {
     "name": "stderr",
     "output_type": "stream",
     "text": [
      "Epoch:   0%|                                                                                      | 0/5 [00:00<?, ?it/s]"
     ]
    },
    {
     "name": "stdout",
     "output_type": "stream",
     "text": [
      "Begin group  4 training\n"
     ]
    },
    {
     "name": "stderr",
     "output_type": "stream",
     "text": [
      "                                                                                                                        \r"
     ]
    },
    {
     "name": "stdout",
     "output_type": "stream",
     "text": [
      "Group 0, clients ['f_00123', 'f_00193', 'f_00074', 'f_00002', 'f_00053', 'f_00052']\n",
      "Group 1, clients ['f_00101', 'f_00011', 'f_00071', 'f_00001']\n",
      "Group 2, clients ['f_00138', 'f_00098']\n",
      "Group 3, clients ['f_00109', 'f_00149', 'f_00090', 'f_00150', 'f_00079']\n",
      "Group 4, clients ['f_00135', 'f_00057', 'f_00046']\n",
      "The groups difference are: [0.0, 0.00037677525478740925, 0.0005669019140686071, 0.0005003749883090158, 0.00040770055658945203]\n"
     ]
    },
    {
     "name": "stderr",
     "output_type": "stream",
     "text": [
      "Epoch:   0%|                                                                                      | 0/5 [00:00<?, ?it/s]"
     ]
    },
    {
     "name": "stdout",
     "output_type": "stream",
     "text": [
      "Group 0\n",
      "At round 125 accuracy: 0.7900128040973111\n",
      "At round 125 training accuracy: 0.7768533650274848\n",
      "At round 125 training loss: 0.7396080624541845\n",
      "Group 1\n",
      "At round 125 accuracy: 0.9298245614035088\n",
      "At round 125 training accuracy: 0.9241952232606438\n",
      "At round 125 training loss: 0.38699123959675014\n",
      "Group 2\n",
      "At round 125 accuracy: 0.8553459119496856\n",
      "At round 125 training accuracy: 0.8314522197140707\n",
      "At round 125 training loss: 0.6054535513313486\n",
      "Group 3\n",
      "At round 125 accuracy: 0.7843137254901961\n",
      "At round 125 training accuracy: 0.8078048780487805\n",
      "At round 125 training loss: 0.6944771383448345\n",
      "Group 4\n",
      "At round 125 accuracy: 0.6627680311890838\n",
      "At round 125 training accuracy: 0.6731436502428869\n",
      "At round 125 training loss: 1.0827020072231077\n",
      "At round 125 mean test accuracy: 0.8044530068259571 mean train accuracy: 0.8026898672587734\n",
      "Begin group  0 training\n"
     ]
    },
    {
     "name": "stderr",
     "output_type": "stream",
     "text": [
      "Epoch:   0%|                                                                                      | 0/5 [00:00<?, ?it/s]"
     ]
    },
    {
     "name": "stdout",
     "output_type": "stream",
     "text": [
      "Begin group  1 training\n",
      "Begin group  2 training\n"
     ]
    },
    {
     "name": "stderr",
     "output_type": "stream",
     "text": [
      "Epoch:   0%|                                                                                      | 0/5 [00:00<?, ?it/s]"
     ]
    },
    {
     "name": "stdout",
     "output_type": "stream",
     "text": [
      "Begin group  3 training\n"
     ]
    },
    {
     "name": "stderr",
     "output_type": "stream",
     "text": [
      "                                                                                                                        \r"
     ]
    },
    {
     "name": "stdout",
     "output_type": "stream",
     "text": [
      "Begin group  4 training\n",
      "Group 0, clients ['f_00002', 'f_00142', 'f_00074', 'f_00113', 'f_00134', 'f_00103']\n",
      "Group 1, clients ['f_00171', 'f_00121', 'f_00051']\n",
      "Group 2 is empty.\n",
      "Group 3, clients ['f_00199', 'f_00079', 'f_00119', 'f_00159']\n",
      "Group 4, clients ['f_00055', 'f_00046', 'f_00036', 'f_00096', 'f_00076', 'f_00195', 'f_00166']\n",
      "The groups difference are: [0.0, 0.0003503735773282557, 0.0007556028936523962, 0.0006035063071416769, 0.0005342409161340766]\n"
     ]
    },
    {
     "name": "stderr",
     "output_type": "stream",
     "text": [
      "                                                                                                                        "
     ]
    },
    {
     "name": "stdout",
     "output_type": "stream",
     "text": [
      "Group 0\n",
      "At round 126 accuracy: 0.7259923175416133\n",
      "At round 126 training accuracy: 0.7128212746991531\n",
      "At round 126 training loss: 0.8400836517084337\n",
      "Group 1\n",
      "At round 126 accuracy: 0.9298245614035088\n",
      "At round 126 training accuracy: 0.9491173416407062\n",
      "At round 126 training loss: 0.3942296812900749\n",
      "Group 3\n",
      "At round 126 accuracy: 0.8123249299719888\n",
      "At round 126 training accuracy: 0.7944715447154471\n",
      "At round 126 training loss: 0.6533716474509821\n",
      "Group 4\n",
      "At round 126 accuracy: 0.5867446393762183\n",
      "At round 126 training accuracy: 0.5963451306962757\n",
      "At round 126 training loss: 1.1260860509517263\n",
      "At round 126 mean test accuracy: 0.7637216120733323 mean train accuracy: 0.7631888229378956\n",
      "Begin group  0 training\n"
     ]
    },
    {
     "name": "stderr",
     "output_type": "stream",
     "text": [
      "Epoch:   0%|                                                                                      | 0/5 [00:00<?, ?it/s]"
     ]
    },
    {
     "name": "stdout",
     "output_type": "stream",
     "text": [
      "Begin group  1 training\n"
     ]
    },
    {
     "name": "stderr",
     "output_type": "stream",
     "text": [
      "Epoch:   0%|                                                                                      | 0/5 [00:00<?, ?it/s]"
     ]
    },
    {
     "name": "stdout",
     "output_type": "stream",
     "text": [
      "Begin group  3 training\n"
     ]
    },
    {
     "name": "stderr",
     "output_type": "stream",
     "text": [
      "Epoch:   0%|                                                                                      | 0/5 [00:00<?, ?it/s]"
     ]
    },
    {
     "name": "stdout",
     "output_type": "stream",
     "text": [
      "Begin group  4 training\n"
     ]
    },
    {
     "name": "stderr",
     "output_type": "stream",
     "text": [
      "                                                                                                                        \r"
     ]
    },
    {
     "name": "stdout",
     "output_type": "stream",
     "text": [
      "Group 0, clients ['f_00134', 'f_00163', 'f_00022']\n",
      "Group 1 is empty.\n",
      "Group 2, clients ['f_00168', 'f_00028', 'f_00158', 'f_00138', 'f_00058']\n",
      "Group 3, clients ['f_00129', 'f_00159', 'f_00120', 'f_00000', 'f_00010']\n",
      "Group 4, clients ['f_00176', 'f_00045', 'f_00147', 'f_00026', 'f_00075', 'f_00061', 'f_00186']\n",
      "The groups difference are: [0.0, 0.0003256107471403258, 0.0003989883752522072, 0.0005567837475732862, 0.00048208724192144725]\n"
     ]
    },
    {
     "name": "stderr",
     "output_type": "stream",
     "text": [
      "Epoch:   0%|                                                                                      | 0/5 [00:00<?, ?it/s]"
     ]
    },
    {
     "name": "stdout",
     "output_type": "stream",
     "text": [
      "Group 0\n",
      "At round 127 accuracy: 0.7900128040973111\n",
      "At round 127 training accuracy: 0.7777447630366959\n",
      "At round 127 training loss: 0.7487088666063523\n",
      "Group 2\n",
      "At round 127 accuracy: 0.8553459119496856\n",
      "At round 127 training accuracy: 0.8487584650112867\n",
      "At round 127 training loss: 0.6472038276846737\n",
      "Group 3\n",
      "At round 127 accuracy: 0.7058823529411765\n",
      "At round 127 training accuracy: 0.7050406504065041\n",
      "At round 127 training loss: 0.9069738705952962\n",
      "Group 4\n",
      "At round 127 accuracy: 0.6647173489278753\n",
      "At round 127 training accuracy: 0.6923432801295397\n",
      "At round 127 training loss: 1.1021823012357284\n",
      "At round 127 mean test accuracy: 0.7539896044790122 mean train accuracy: 0.7559717896460066\n",
      "Begin group  0 training\n",
      "Begin group  2 training\n"
     ]
    },
    {
     "name": "stderr",
     "output_type": "stream",
     "text": [
      "Epoch:   0%|                                                                                      | 0/5 [00:00<?, ?it/s]"
     ]
    },
    {
     "name": "stdout",
     "output_type": "stream",
     "text": [
      "Begin group  3 training\n"
     ]
    },
    {
     "name": "stderr",
     "output_type": "stream",
     "text": [
      "Epoch:   0%|                                                                                      | 0/5 [00:00<?, ?it/s]"
     ]
    },
    {
     "name": "stdout",
     "output_type": "stream",
     "text": [
      "Begin group  4 training\n"
     ]
    },
    {
     "name": "stderr",
     "output_type": "stream",
     "text": [
      "                                                                                                                        \r"
     ]
    },
    {
     "name": "stdout",
     "output_type": "stream",
     "text": [
      "Group 0, clients ['f_00043', 'f_00073', 'f_00192', 'f_00122']\n",
      "Group 1, clients ['f_00021']\n",
      "Group 2, clients ['f_00059', 'f_00118']\n",
      "Group 3, clients ['f_00109', 'f_00090', 'f_00159']\n",
      "Group 4, clients ['f_00037', 'f_00151', 'f_00187', 'f_00146', 'f_00076', 'f_00116', 'f_00136', 'f_00165', 'f_00106', 'f_00155']\n",
      "The groups difference are: [0.0, 0.0002514282990258021, 0.0004154727950722581, 0.0004604547491180444, 0.000286181606674929]\n"
     ]
    },
    {
     "name": "stderr",
     "output_type": "stream",
     "text": [
      "Epoch:   0%|                                                                                      | 0/5 [00:00<?, ?it/s]"
     ]
    },
    {
     "name": "stdout",
     "output_type": "stream",
     "text": [
      "Group 0\n",
      "At round 128 accuracy: 0.7784891165172856\n",
      "At round 128 training accuracy: 0.7790818600505126\n",
      "At round 128 training loss: 0.7936878104724212\n",
      "Group 1\n",
      "At round 128 accuracy: 0.9210526315789473\n",
      "At round 128 training accuracy: 0.9138110072689511\n",
      "At round 128 training loss: 0.46866334413070915\n",
      "Group 2\n",
      "At round 128 accuracy: 0.8427672955974843\n",
      "At round 128 training accuracy: 0.8231753197893152\n",
      "At round 128 training loss: 0.6264507788029535\n",
      "Group 3\n",
      "At round 128 accuracy: 0.8151260504201681\n",
      "At round 128 training accuracy: 0.8009756097560976\n",
      "At round 128 training loss: 0.6493875681287874\n",
      "Group 4\n",
      "At round 128 accuracy: 0.7134502923976608\n",
      "At round 128 training accuracy: 0.7358315984270183\n",
      "At round 128 training loss: 1.0247536252666176\n",
      "At round 128 mean test accuracy: 0.8141770773023094 mean train accuracy: 0.810575079058379\n",
      "Begin group  0 training\n"
     ]
    },
    {
     "name": "stderr",
     "output_type": "stream",
     "text": [
      "Epoch:   0%|                                                                                      | 0/5 [00:00<?, ?it/s]"
     ]
    },
    {
     "name": "stdout",
     "output_type": "stream",
     "text": [
      "Begin group  1 training\n",
      "Begin group  2 training\n",
      "Begin group  3 training\n"
     ]
    },
    {
     "name": "stderr",
     "output_type": "stream",
     "text": [
      "Epoch:   0%|                                                                                      | 0/5 [00:00<?, ?it/s]"
     ]
    },
    {
     "name": "stdout",
     "output_type": "stream",
     "text": [
      "Begin group  4 training\n"
     ]
    },
    {
     "name": "stderr",
     "output_type": "stream",
     "text": [
      "                                                                                                                        \r"
     ]
    },
    {
     "name": "stdout",
     "output_type": "stream",
     "text": [
      "Group 0, clients ['f_00004', 'f_00112', 'f_00193', 'f_00132', 'f_00094', 'f_00022', 'f_00162', 'f_00043']\n",
      "Group 1, clients ['f_00191', 'f_00041']\n",
      "Group 2, clients ['f_00088', 'f_00138', 'f_00068']\n",
      "Group 3, clients ['f_00010', 'f_00100']\n",
      "Group 4, clients ['f_00115', 'f_00055', 'f_00026', 'f_00107', 'f_00151']\n",
      "The groups difference are: [0.0, 0.00020263601566927747, 0.0007050836146269557, 0.0005180029287076282, 0.0005786747185209107]\n"
     ]
    },
    {
     "name": "stderr",
     "output_type": "stream",
     "text": [
      "Epoch:   0%|                                                                                      | 0/5 [00:00<?, ?it/s]"
     ]
    },
    {
     "name": "stdout",
     "output_type": "stream",
     "text": [
      "Group 0\n",
      "At round 129 accuracy: 0.7259923175416133\n",
      "At round 129 training accuracy: 0.7282721735254791\n",
      "At round 129 training loss: 0.8147540344532771\n",
      "Group 1\n",
      "At round 129 accuracy: 0.8421052631578947\n",
      "At round 129 training accuracy: 0.8691588785046729\n",
      "At round 129 training loss: 0.48225269922338665\n",
      "Group 2\n",
      "At round 129 accuracy: 0.7169811320754716\n",
      "At round 129 training accuracy: 0.6756960120391272\n",
      "At round 129 training loss: 0.7275140359493195\n",
      "Group 3\n",
      "At round 129 accuracy: 0.8431372549019608\n",
      "At round 129 training accuracy: 0.8198373983739837\n",
      "At round 129 training loss: 0.6337638360988803\n",
      "Group 4\n",
      "At round 129 accuracy: 0.6588693957115009\n",
      "At round 129 training accuracy: 0.6830904464492251\n",
      "At round 129 training loss: 1.0005986164241043\n",
      "At round 129 mean test accuracy: 0.7574170726776883 mean train accuracy: 0.7552109817784975\n",
      "Begin group  0 training\n"
     ]
    },
    {
     "name": "stderr",
     "output_type": "stream",
     "text": [
      "Epoch:   0%|                                                                                      | 0/5 [00:00<?, ?it/s]"
     ]
    },
    {
     "name": "stdout",
     "output_type": "stream",
     "text": [
      "Begin group  1 training\n",
      "Begin group  2 training\n",
      "Begin group  3 training\n"
     ]
    },
    {
     "name": "stderr",
     "output_type": "stream",
     "text": [
      "                                                                                                                        \r"
     ]
    },
    {
     "name": "stdout",
     "output_type": "stream",
     "text": [
      "Begin group  4 training\n",
      "Group 0, clients ['f_00113', 'f_00132', 'f_00174', 'f_00123', 'f_00042', 'f_00134']\n",
      "Group 1, clients ['f_00041', 'f_00131']\n",
      "Group 2, clients ['f_00018', 'f_00158', 'f_00138']\n",
      "Group 3, clients ['f_00009', 'f_00030', 'f_00140']\n",
      "Group 4, clients ['f_00166', 'f_00047', 'f_00127', 'f_00007', 'f_00175', 'f_00176']\n",
      "The groups difference are: [0.0, 0.0002337514452290801, 0.000485222013344222, 0.00047493732846293213, 0.0003336004629440614]\n"
     ]
    },
    {
     "name": "stderr",
     "output_type": "stream",
     "text": [
      "Epoch:   0%|                                                                                      | 0/5 [00:00<?, ?it/s]"
     ]
    },
    {
     "name": "stdout",
     "output_type": "stream",
     "text": [
      "Group 0\n",
      "At round 130 accuracy: 0.8271446862996159\n",
      "At round 130 training accuracy: 0.8263259545387015\n",
      "At round 130 training loss: 0.744218951542511\n",
      "Group 1\n",
      "At round 130 accuracy: 0.9210526315789473\n",
      "At round 130 training accuracy: 0.936656282450675\n",
      "At round 130 training loss: 0.4045881198821657\n",
      "Group 2\n",
      "At round 130 accuracy: 0.8553459119496856\n",
      "At round 130 training accuracy: 0.8487584650112867\n",
      "At round 130 training loss: 0.5983107634914648\n",
      "Group 3\n",
      "At round 130 accuracy: 0.7815126050420168\n",
      "At round 130 training accuracy: 0.8\n",
      "At round 130 training loss: 0.7403610042149459\n",
      "Group 4\n",
      "At round 130 accuracy: 0.6803118908382066\n",
      "At round 130 training accuracy: 0.7004395095998149\n",
      "At round 130 training loss: 0.9683637075089978\n",
      "At round 130 mean test accuracy: 0.8130735451416945 mean train accuracy: 0.8224360423200957\n",
      "Begin group  0 training\n"
     ]
    },
    {
     "name": "stderr",
     "output_type": "stream",
     "text": [
      "Epoch:   0%|                                                                                      | 0/5 [00:00<?, ?it/s]"
     ]
    },
    {
     "name": "stdout",
     "output_type": "stream",
     "text": [
      "Begin group  1 training\n",
      "Begin group  2 training\n",
      "Begin group  3 training\n"
     ]
    },
    {
     "name": "stderr",
     "output_type": "stream",
     "text": [
      "                                                                                                                        \r"
     ]
    },
    {
     "name": "stdout",
     "output_type": "stream",
     "text": [
      "Begin group  4 training\n",
      "Group 0, clients ['f_00023', 'f_00104', 'f_00163', 'f_00094', 'f_00074', 'f_00034', 'f_00044']\n",
      "Group 1, clients ['f_00111']\n",
      "Group 2, clients ['f_00188', 'f_00108', 'f_00098', 'f_00038']\n",
      "Group 3, clients ['f_00190']\n",
      "Group 4, clients ['f_00186', 'f_00116', 'f_00036', 'f_00125', 'f_00185', 'f_00147', 'f_00161']\n",
      "The groups difference are: [0.0, 0.0002766573208595746, 0.0005210279276330887, 0.00048674383982771907, 0.00039083745053503094]\n"
     ]
    },
    {
     "name": "stderr",
     "output_type": "stream",
     "text": [
      "Epoch:   0%|                                                                                      | 0/5 [00:00<?, ?it/s]"
     ]
    },
    {
     "name": "stdout",
     "output_type": "stream",
     "text": [
      "Group 0\n",
      "At round 131 accuracy: 0.7580025608194623\n",
      "At round 131 training accuracy: 0.7368890209478532\n",
      "At round 131 training loss: 0.8210321519185699\n",
      "Group 1\n",
      "At round 131 accuracy: 0.9298245614035088\n",
      "At round 131 training accuracy: 0.9345794392523364\n",
      "At round 131 training loss: 0.43972140389687053\n",
      "Group 2\n",
      "At round 131 accuracy: 0.8553459119496856\n",
      "At round 131 training accuracy: 0.8495109104589917\n",
      "At round 131 training loss: 0.6054579675242451\n",
      "Group 3\n",
      "At round 131 accuracy: 0.8095238095238095\n",
      "At round 131 training accuracy: 0.7990243902439025\n",
      "At round 131 training loss: 0.6553545774483099\n",
      "Group 4\n",
      "At round 131 accuracy: 0.6920077972709552\n",
      "At round 131 training accuracy: 0.6928059218135554\n",
      "At round 131 training loss: 1.0187156907722903\n",
      "At round 131 mean test accuracy: 0.8089409281934843 mean train accuracy: 0.8025619365433281\n",
      "Begin group  0 training\n"
     ]
    },
    {
     "name": "stderr",
     "output_type": "stream",
     "text": [
      "Epoch:   0%|                                                                                      | 0/5 [00:00<?, ?it/s]"
     ]
    },
    {
     "name": "stdout",
     "output_type": "stream",
     "text": [
      "Begin group  1 training\n",
      "Begin group  2 training\n"
     ]
    },
    {
     "name": "stderr",
     "output_type": "stream",
     "text": [
      "Epoch:   0%|                                                                                      | 0/5 [00:00<?, ?it/s]"
     ]
    },
    {
     "name": "stdout",
     "output_type": "stream",
     "text": [
      "Begin group  3 training\n",
      "Begin group  4 training\n"
     ]
    },
    {
     "name": "stderr",
     "output_type": "stream",
     "text": [
      "                                                                                                                        \r"
     ]
    },
    {
     "name": "stdout",
     "output_type": "stream",
     "text": [
      "Group 0, clients ['f_00073', 'f_00114', 'f_00133', 'f_00192', 'f_00144']\n",
      "Group 1, clients ['f_00131', 'f_00121']\n",
      "Group 2 is empty.\n",
      "Group 3, clients ['f_00159', 'f_00060']\n",
      "Group 4, clients ['f_00007', 'f_00026', 'f_00157', 'f_00136', 'f_00166', 'f_00187', 'f_00116', 'f_00077', 'f_00126', 'f_00027', 'f_00156']\n",
      "The groups difference are: [0.0, 0.0003566152672840328, 0.0005846833179794508, 0.0005255002463071534, 0.0002650989807322368]\n"
     ]
    },
    {
     "name": "stderr",
     "output_type": "stream",
     "text": [
      "Epoch:   0%|                                                                                      | 0/5 [00:00<?, ?it/s]"
     ]
    },
    {
     "name": "stdout",
     "output_type": "stream",
     "text": [
      "Group 0\n",
      "At round 132 accuracy: 0.7208706786171575\n",
      "At round 132 training accuracy: 0.6990046055563809\n",
      "At round 132 training loss: 0.92489212713311\n",
      "Group 1\n",
      "At round 132 accuracy: 0.9298245614035088\n",
      "At round 132 training accuracy: 0.9376947040498442\n",
      "At round 132 training loss: 0.41615440834967393\n",
      "Group 3\n",
      "At round 132 accuracy: 0.7787114845938375\n",
      "At round 132 training accuracy: 0.7817886178861788\n",
      "At round 132 training loss: 0.7166079321624786\n",
      "Group 4\n",
      "At round 132 accuracy: 0.7212475633528265\n",
      "At round 132 training accuracy: 0.7476289613694194\n",
      "At round 132 training loss: 0.9852189974958026\n",
      "At round 132 mean test accuracy: 0.7876635719918326 mean train accuracy: 0.7915292222154559\n",
      "Begin group  0 training\n"
     ]
    },
    {
     "name": "stderr",
     "output_type": "stream",
     "text": [
      "Epoch:   0%|                                                                                      | 0/5 [00:00<?, ?it/s]"
     ]
    },
    {
     "name": "stdout",
     "output_type": "stream",
     "text": [
      "Begin group  1 training\n",
      "Begin group  3 training\n"
     ]
    },
    {
     "name": "stderr",
     "output_type": "stream",
     "text": [
      "                                                                                                                        "
     ]
    },
    {
     "name": "stdout",
     "output_type": "stream",
     "text": [
      "Begin group  4 training\n"
     ]
    },
    {
     "name": "stderr",
     "output_type": "stream",
     "text": [
      "                                                                                                                        \r"
     ]
    },
    {
     "name": "stdout",
     "output_type": "stream",
     "text": [
      "Group 0, clients ['f_00043', 'f_00124', 'f_00133', 'f_00143', 'f_00194', 'f_00044', 'f_00103', 'f_00114', 'f_00003']\n",
      "Group 1 is empty.\n",
      "Group 2, clients ['f_00018', 'f_00169']\n",
      "Group 3, clients ['f_00130', 'f_00129', 'f_00139', 'f_00029', 'f_00039']\n",
      "Group 4, clients ['f_00187', 'f_00126', 'f_00146', 'f_00057']\n",
      "The groups difference are: [0.0, 0.0004443200326764707, 0.00045311605809950084, 0.0005327399834869073, 0.00048389396710479815]\n"
     ]
    },
    {
     "name": "stderr",
     "output_type": "stream",
     "text": [
      "Epoch:   0%|                                                                                      | 0/5 [00:00<?, ?it/s]"
     ]
    },
    {
     "name": "stdout",
     "output_type": "stream",
     "text": [
      "Group 0\n",
      "At round 133 accuracy: 0.7323943661971831\n",
      "At round 133 training accuracy: 0.7098499480017828\n",
      "At round 133 training loss: 0.9083846871503269\n",
      "Group 2\n",
      "At round 133 accuracy: 0.8176100628930818\n",
      "At round 133 training accuracy: 0.8126410835214447\n",
      "At round 133 training loss: 0.6462951051372617\n",
      "Group 3\n",
      "At round 133 accuracy: 0.7563025210084033\n",
      "At round 133 training accuracy: 0.743739837398374\n",
      "At round 133 training loss: 0.7273205247254876\n",
      "Group 4\n",
      "At round 133 accuracy: 0.6510721247563352\n",
      "At round 133 training accuracy: 0.6768447837150128\n",
      "At round 133 training loss: 1.0203618086752118\n",
      "At round 133 mean test accuracy: 0.7393447687137509 mean train accuracy: 0.7357689131591536\n",
      "Begin group  0 training\n"
     ]
    },
    {
     "name": "stderr",
     "output_type": "stream",
     "text": [
      "Epoch:   0%|                                                                                      | 0/5 [00:00<?, ?it/s]"
     ]
    },
    {
     "name": "stdout",
     "output_type": "stream",
     "text": [
      "Begin group  2 training\n",
      "Begin group  3 training\n"
     ]
    },
    {
     "name": "stderr",
     "output_type": "stream",
     "text": [
      "                                                                                                                        \r"
     ]
    },
    {
     "name": "stdout",
     "output_type": "stream",
     "text": [
      "Begin group  4 training\n",
      "Group 0, clients ['f_00173', 'f_00084', 'f_00013', 'f_00122', 'f_00012', 'f_00112']\n",
      "Group 1, clients ['f_00191', 'f_00081']\n",
      "Group 2, clients ['f_00008', 'f_00068', 'f_00097']\n",
      "Group 3, clients ['f_00069', 'f_00199']\n",
      "Group 4, clients ['f_00195', 'f_00196', 'f_00136', 'f_00016', 'f_00127', 'f_00175', 'f_00085']\n",
      "The groups difference are: [0.0, 0.0003691632027182923, 0.0004239614392318458, 0.00048235735733348495, 0.0003538671526364112]\n"
     ]
    },
    {
     "name": "stderr",
     "output_type": "stream",
     "text": [
      "Epoch:   0%|                                                                                      | 0/5 [00:00<?, ?it/s]"
     ]
    },
    {
     "name": "stdout",
     "output_type": "stream",
     "text": [
      "Group 0\n",
      "At round 134 accuracy: 0.6901408450704225\n",
      "At round 134 training accuracy: 0.6755311246471549\n",
      "At round 134 training loss: 1.074773232511099\n",
      "Group 1\n",
      "At round 134 accuracy: 0.9298245614035088\n",
      "At round 134 training accuracy: 0.9356178608515057\n",
      "At round 134 training loss: 0.4741748626791676\n",
      "Group 2\n",
      "At round 134 accuracy: 0.8616352201257862\n",
      "At round 134 training accuracy: 0.8607975921745673\n",
      "At round 134 training loss: 0.6536486817984943\n",
      "Group 3\n",
      "At round 134 accuracy: 0.7142857142857143\n",
      "At round 134 training accuracy: 0.7128455284552846\n",
      "At round 134 training loss: 0.8255825462380075\n",
      "Group 4\n",
      "At round 134 accuracy: 0.6920077972709552\n",
      "At round 134 training accuracy: 0.6974323386537127\n",
      "At round 134 training loss: 1.006299874820065\n",
      "At round 134 mean test accuracy: 0.7775788276312775 mean train accuracy: 0.7764448889564451\n",
      "Begin group  0 training\n"
     ]
    },
    {
     "name": "stderr",
     "output_type": "stream",
     "text": [
      "Epoch:   0%|                                                                                      | 0/5 [00:00<?, ?it/s]"
     ]
    },
    {
     "name": "stdout",
     "output_type": "stream",
     "text": [
      "Begin group  1 training\n",
      "Begin group  2 training\n",
      "Begin group  3 training\n"
     ]
    },
    {
     "name": "stderr",
     "output_type": "stream",
     "text": [
      "Epoch:   0%|                                                                                      | 0/5 [00:00<?, ?it/s]"
     ]
    },
    {
     "name": "stdout",
     "output_type": "stream",
     "text": [
      "Begin group  4 training\n"
     ]
    },
    {
     "name": "stderr",
     "output_type": "stream",
     "text": [
      "                                                                                                                        \r"
     ]
    },
    {
     "name": "stdout",
     "output_type": "stream",
     "text": [
      "Group 0, clients ['f_00143', 'f_00142', 'f_00192', 'f_00154', 'f_00122', 'f_00193', 'f_00114']\n",
      "Group 1 is empty.\n",
      "Group 2, clients ['f_00158', 'f_00078', 'f_00108', 'f_00058']\n",
      "Group 3, clients ['f_00030', 'f_00060', 'f_00189', 'f_00039']\n",
      "Group 4, clients ['f_00065', 'f_00115', 'f_00161', 'f_00077', 'f_00026']\n",
      "The groups difference are: [0.0, 0.0002083125704328559, 0.0004979381399219385, 0.0005730767169966899, 0.00042801367900913156]\n"
     ]
    },
    {
     "name": "stderr",
     "output_type": "stream",
     "text": [
      "Epoch:   0%|                                                                                      | 0/5 [00:00<?, ?it/s]"
     ]
    },
    {
     "name": "stdout",
     "output_type": "stream",
     "text": [
      "Group 0\n",
      "At round 135 accuracy: 0.7451984635083226\n",
      "At round 135 training accuracy: 0.7386718169662755\n",
      "At round 135 training loss: 0.8007169347154033\n",
      "Group 2\n",
      "At round 135 accuracy: 0.8176100628930818\n",
      "At round 135 training accuracy: 0.8194130925507901\n",
      "At round 135 training loss: 0.5942680116566256\n",
      "Group 3\n",
      "At round 135 accuracy: 0.7226890756302521\n",
      "At round 135 training accuracy: 0.7183739837398374\n",
      "At round 135 training loss: 0.9608425727123168\n",
      "Group 4\n",
      "At round 135 accuracy: 0.6861598440545809\n",
      "At round 135 training accuracy: 0.7069164931760351\n",
      "At round 135 training loss: 0.9602751407997216\n",
      "At round 135 mean test accuracy: 0.7429143615215593 mean train accuracy: 0.7458438466082346\n",
      "Begin group  0 training\n"
     ]
    },
    {
     "name": "stderr",
     "output_type": "stream",
     "text": [
      "Epoch:   0%|                                                                                      | 0/5 [00:00<?, ?it/s]"
     ]
    },
    {
     "name": "stdout",
     "output_type": "stream",
     "text": [
      "Begin group  2 training\n",
      "Begin group  3 training\n"
     ]
    },
    {
     "name": "stderr",
     "output_type": "stream",
     "text": [
      "                                                                                                                        \r"
     ]
    },
    {
     "name": "stdout",
     "output_type": "stream",
     "text": [
      "Begin group  4 training\n",
      "Group 0, clients ['f_00064', 'f_00163', 'f_00053', 'f_00084', 'f_00003', 'f_00144', 'f_00042', 'f_00094', 'f_00062']\n",
      "Group 1, clients ['f_00081', 'f_00181']\n",
      "Group 2, clients ['f_00049', 'f_00038', 'f_00059', 'f_00078', 'f_00068']\n",
      "Group 3, clients ['f_00000', 'f_00150']\n",
      "Group 4, clients ['f_00086', 'f_00115']\n",
      "The groups difference are: [0.0, 0.00017100957604443412, 0.0004961282346093165, 0.00046604169871933276, 0.0003517563377748445]\n"
     ]
    },
    {
     "name": "stderr",
     "output_type": "stream",
     "text": [
      "Epoch:   0%|                                                                                      | 0/5 [00:00<?, ?it/s]"
     ]
    },
    {
     "name": "stdout",
     "output_type": "stream",
     "text": [
      "Group 0\n",
      "At round 136 accuracy: 0.765685019206146\n",
      "At round 136 training accuracy: 0.7536770167879958\n",
      "At round 136 training loss: 0.7692954790944633\n",
      "Group 1\n",
      "At round 136 accuracy: 0.9298245614035088\n",
      "At round 136 training accuracy: 0.9376947040498442\n",
      "At round 136 training loss: 0.527513743808584\n",
      "Group 2\n",
      "At round 136 accuracy: 0.8427672955974843\n",
      "At round 136 training accuracy: 0.8239277652370203\n",
      "At round 136 training loss: 0.5831419954046977\n",
      "Group 3\n",
      "At round 136 accuracy: 0.7030812324929971\n",
      "At round 136 training accuracy: 0.6878048780487804\n",
      "At round 136 training loss: 0.8171398402520311\n",
      "Group 4\n",
      "At round 136 accuracy: 0.746588693957115\n",
      "At round 136 training accuracy: 0.7642840619939857\n",
      "At round 136 training loss: 0.9174070124435336\n",
      "At round 136 mean test accuracy: 0.7975893605314504 mean train accuracy: 0.7934776852235252\n",
      "Begin group  0 training\n"
     ]
    },
    {
     "name": "stderr",
     "output_type": "stream",
     "text": [
      "Epoch:   0%|                                                                                      | 0/5 [00:00<?, ?it/s]"
     ]
    },
    {
     "name": "stdout",
     "output_type": "stream",
     "text": [
      "Begin group  1 training\n",
      "Begin group  2 training\n"
     ]
    },
    {
     "name": "stderr",
     "output_type": "stream",
     "text": [
      "                                                                                                                        \r"
     ]
    },
    {
     "name": "stdout",
     "output_type": "stream",
     "text": [
      "Begin group  3 training\n",
      "Begin group  4 training\n",
      "Group 0, clients ['f_00044', 'f_00032', 'f_00133', 'f_00144', 'f_00193', 'f_00004', 'f_00114', 'f_00064']\n",
      "Group 1 is empty.\n",
      "Group 2, clients ['f_00128', 'f_00198', 'f_00168', 'f_00089', 'f_00138', 'f_00158']\n",
      "Group 3, clients ['f_00080']\n",
      "Group 4, clients ['f_00047', 'f_00187', 'f_00196', 'f_00065', 'f_00106']\n",
      "The groups difference are: [0.0, 0.00042097234845006604, 0.0008637345993467438, 0.0006735257978668363, 0.0008012026492738578]\n"
     ]
    },
    {
     "name": "stderr",
     "output_type": "stream",
     "text": [
      "Epoch:   0%|                                                                                      | 0/5 [00:00<?, ?it/s]"
     ]
    },
    {
     "name": "stdout",
     "output_type": "stream",
     "text": [
      "Group 0\n",
      "At round 137 accuracy: 0.6798975672215108\n",
      "At round 137 training accuracy: 0.6967761105333531\n",
      "At round 137 training loss: 1.0617289915780508\n",
      "Group 2\n",
      "At round 137 accuracy: 0.8616352201257862\n",
      "At round 137 training accuracy: 0.8675696012039127\n",
      "At round 137 training loss: 0.6124219569924902\n",
      "Group 3\n",
      "At round 137 accuracy: 0.7759103641456583\n",
      "At round 137 training accuracy: 0.7899186991869919\n",
      "At round 137 training loss: 0.7196173848466175\n",
      "Group 4\n",
      "At round 137 accuracy: 0.6627680311890838\n",
      "At round 137 training accuracy: 0.6881795049733981\n",
      "At round 137 training loss: 0.9884223603634213\n",
      "At round 137 mean test accuracy: 0.7450527956705097 mean train accuracy: 0.760610978974414\n",
      "Begin group  0 training\n"
     ]
    },
    {
     "name": "stderr",
     "output_type": "stream",
     "text": [
      "Epoch:   0%|                                                                                      | 0/5 [00:00<?, ?it/s]"
     ]
    },
    {
     "name": "stdout",
     "output_type": "stream",
     "text": [
      "Begin group  2 training\n",
      "Begin group  3 training\n"
     ]
    },
    {
     "name": "stderr",
     "output_type": "stream",
     "text": [
      "                                                                                                                        \r"
     ]
    },
    {
     "name": "stdout",
     "output_type": "stream",
     "text": [
      "Begin group  4 training\n",
      "Group 0, clients ['f_00013', 'f_00154', 'f_00162', 'f_00014', 'f_00084', 'f_00114', 'f_00052', 'f_00142']\n",
      "Group 1 is empty.\n",
      "Group 2, clients ['f_00058', 'f_00128', 'f_00038']\n",
      "Group 3, clients ['f_00079']\n",
      "Group 4, clients ['f_00156', 'f_00115', 'f_00016', 'f_00185', 'f_00186', 'f_00151', 'f_00036', 'f_00155']\n",
      "The groups difference are: [0.0, 0.00031861288944068367, 0.0005210528480947829, 0.0005859627971475101, 0.00035291720974472973]\n"
     ]
    },
    {
     "name": "stderr",
     "output_type": "stream",
     "text": [
      "Epoch:   0%|                                                                                      | 0/5 [00:00<?, ?it/s]"
     ]
    },
    {
     "name": "stdout",
     "output_type": "stream",
     "text": [
      "Group 0\n",
      "At round 138 accuracy: 0.7682458386683739\n",
      "At round 138 training accuracy: 0.7517456544347051\n",
      "At round 138 training loss: 0.8413601094042452\n",
      "Group 2\n",
      "At round 138 accuracy: 0.8616352201257862\n",
      "At round 138 training accuracy: 0.8698269375470279\n",
      "At round 138 training loss: 0.6128457836453587\n",
      "Group 3\n",
      "At round 138 accuracy: 0.7535014005602241\n",
      "At round 138 training accuracy: 0.7710569105691056\n",
      "At round 138 training loss: 0.7811849405901219\n",
      "Group 4\n",
      "At round 138 accuracy: 0.6998050682261209\n",
      "At round 138 training accuracy: 0.719176497802452\n",
      "At round 138 training loss: 0.9310568073902752\n",
      "At round 138 mean test accuracy: 0.7707968818951262 mean train accuracy: 0.7779515000883226\n",
      "Begin group  0 training\n"
     ]
    },
    {
     "name": "stderr",
     "output_type": "stream",
     "text": [
      "Epoch:   0%|                                                                                      | 0/5 [00:00<?, ?it/s]"
     ]
    },
    {
     "name": "stdout",
     "output_type": "stream",
     "text": [
      "Begin group  2 training\n",
      "Begin group  3 training\n",
      "Begin group  4 training\n"
     ]
    },
    {
     "name": "stderr",
     "output_type": "stream",
     "text": [
      "                                                                                                                        \r"
     ]
    },
    {
     "name": "stdout",
     "output_type": "stream",
     "text": [
      "Group 0, clients ['f_00164', 'f_00123', 'f_00103', 'f_00183', 'f_00104', 'f_00084', 'f_00142', 'f_00054']\n",
      "Group 1, clients ['f_00171']\n",
      "Group 2, clients ['f_00128', 'f_00108', 'f_00097']\n",
      "Group 3, clients ['f_00180', 'f_00159']\n",
      "Group 4, clients ['f_00156', 'f_00151', 'f_00155', 'f_00197', 'f_00075', 'f_00167']\n",
      "The groups difference are: [0.0, 0.0001867052035504635, 0.0004159136615855541, 0.0005636690562814684, 0.0003067259626536867]\n"
     ]
    },
    {
     "name": "stderr",
     "output_type": "stream",
     "text": [
      "Epoch:  60%|██████████████████████████████████████████████▊                               | 3/5 [00:00<00:00, 22.63it/s]"
     ]
    },
    {
     "name": "stdout",
     "output_type": "stream",
     "text": [
      "Group 0\n",
      "At round 139 accuracy: 0.7925736235595391\n",
      "At round 139 training accuracy: 0.7992868815926311\n",
      "At round 139 training loss: 0.7380062787640131\n",
      "Group 1\n",
      "At round 139 accuracy: 0.9298245614035088\n",
      "At round 139 training accuracy: 0.936656282450675\n",
      "At round 139 training loss: 0.6254385609183604\n",
      "Group 2\n",
      "At round 139 accuracy: 0.8553459119496856\n",
      "At round 139 training accuracy: 0.8585402558314522\n",
      "At round 139 training loss: 0.6210893481140123\n",
      "Group 3\n",
      "At round 139 accuracy: 0.6778711484593838\n",
      "At round 139 training accuracy: 0.6764227642276422\n",
      "At round 139 training loss: 0.9092180155253992\n",
      "Group 4\n",
      "At round 139 accuracy: 0.695906432748538\n",
      "At round 139 training accuracy: 0.7129308350682396\n",
      "At round 139 training loss: 0.9836979319093516\n",
      "At round 139 mean test accuracy: 0.7903043356241312 mean train accuracy: 0.796767403834128\n",
      "Begin group  0 training\n"
     ]
    },
    {
     "name": "stderr",
     "output_type": "stream",
     "text": [
      "Epoch:   0%|                                                                                      | 0/5 [00:00<?, ?it/s]"
     ]
    },
    {
     "name": "stdout",
     "output_type": "stream",
     "text": [
      "Begin group  1 training\n",
      "Begin group  2 training\n",
      "Begin group  3 training\n"
     ]
    },
    {
     "name": "stderr",
     "output_type": "stream",
     "text": [
      "Epoch:   0%|                                                                                      | 0/5 [00:00<?, ?it/s]"
     ]
    },
    {
     "name": "stdout",
     "output_type": "stream",
     "text": [
      "Begin group  4 training\n"
     ]
    },
    {
     "name": "stderr",
     "output_type": "stream",
     "text": [
      "                                                                                                                        \r"
     ]
    },
    {
     "name": "stdout",
     "output_type": "stream",
     "text": [
      "Group 0, clients ['f_00142', 'f_00173', 'f_00154', 'f_00153', 'f_00132']\n",
      "Group 1, clients ['f_00071', 'f_00021']\n",
      "Group 2, clients ['f_00049', 'f_00169']\n",
      "Group 3, clients ['f_00129', 'f_00030', 'f_00120', 'f_00140']\n",
      "Group 4, clients ['f_00047', 'f_00095', 'f_00046', 'f_00137', 'f_00145', 'f_00061', 'f_00055']\n",
      "The groups difference are: [0.0, 0.0004065913038659996, 0.0005500694195981204, 0.0006442615612185509, 0.00034776739416986224]\n"
     ]
    },
    {
     "name": "stderr",
     "output_type": "stream",
     "text": [
      "Epoch:   0%|                                                                                      | 0/5 [00:00<?, ?it/s]"
     ]
    },
    {
     "name": "stdout",
     "output_type": "stream",
     "text": [
      "Group 0\n",
      "At round 140 accuracy: 0.7016645326504481\n",
      "At round 140 training accuracy: 0.6874164314366364\n",
      "At round 140 training loss: 0.9441695637395487\n",
      "Group 1\n",
      "At round 140 accuracy: 0.9298245614035088\n",
      "At round 140 training accuracy: 0.9376947040498442\n",
      "At round 140 training loss: 0.41558326027227466\n",
      "Group 2\n",
      "At round 140 accuracy: 0.8301886792452831\n",
      "At round 140 training accuracy: 0.8066215199398044\n",
      "At round 140 training loss: 0.6039443361615668\n",
      "Group 3\n",
      "At round 140 accuracy: 0.7955182072829131\n",
      "At round 140 training accuracy: 0.7892682926829269\n",
      "At round 140 training loss: 0.6570417466396239\n",
      "Group 4\n",
      "At round 140 accuracy: 0.7426900584795322\n",
      "At round 140 training accuracy: 0.7624334952579227\n",
      "At round 140 training loss: 0.8957517248128758\n",
      "At round 140 mean test accuracy: 0.7999772078123372 mean train accuracy: 0.7966868886734269\n",
      "Begin group  0 training\n"
     ]
    },
    {
     "name": "stderr",
     "output_type": "stream",
     "text": [
      "Epoch:   0%|                                                                                      | 0/5 [00:00<?, ?it/s]"
     ]
    },
    {
     "name": "stdout",
     "output_type": "stream",
     "text": [
      "Begin group  1 training\n",
      "Begin group  2 training\n",
      "Begin group  3 training\n"
     ]
    },
    {
     "name": "stderr",
     "output_type": "stream",
     "text": [
      "Epoch:   0%|                                                                                      | 0/5 [00:00<?, ?it/s]"
     ]
    },
    {
     "name": "stdout",
     "output_type": "stream",
     "text": [
      "Begin group  4 training\n"
     ]
    },
    {
     "name": "stderr",
     "output_type": "stream",
     "text": [
      "                                                                                                                        \r"
     ]
    },
    {
     "name": "stdout",
     "output_type": "stream",
     "text": [
      "Group 0, clients ['f_00093', 'f_00183', 'f_00163']\n",
      "Group 1, clients ['f_00051', 'f_00071', 'f_00181']\n",
      "Group 2, clients ['f_00098', 'f_00108']\n",
      "Group 3, clients ['f_00079', 'f_00029', 'f_00010', 'f_00020']\n",
      "Group 4, clients ['f_00036', 'f_00107', 'f_00116', 'f_00055', 'f_00137', 'f_00007', 'f_00126', 'f_00176']\n",
      "The groups difference are: [0.0, 0.0002842126094526609, 0.0003892126077315039, 0.0004292796468380322, 0.0002850355746857325]\n"
     ]
    },
    {
     "name": "stderr",
     "output_type": "stream",
     "text": [
      "                                                                                                                        "
     ]
    },
    {
     "name": "stdout",
     "output_type": "stream",
     "text": [
      "Group 0\n",
      "At round 141 accuracy: 0.7567221510883483\n",
      "At round 141 training accuracy: 0.7541227157926014\n",
      "At round 141 training loss: 0.7846179729654926\n",
      "Group 1\n",
      "At round 141 accuracy: 0.9298245614035088\n",
      "At round 141 training accuracy: 0.9501557632398754\n",
      "At round 141 training loss: 0.40075550461236314\n",
      "Group 2\n",
      "At round 141 accuracy: 0.6666666666666666\n",
      "At round 141 training accuracy: 0.6591422121896162\n",
      "At round 141 training loss: 0.9615558925609646\n",
      "Group 3\n",
      "At round 141 accuracy: 0.8319327731092437\n",
      "At round 141 training accuracy: 0.8295934959349593\n",
      "At round 141 training loss: 0.635169808321852\n",
      "Group 4\n",
      "At round 141 accuracy: 0.7797270955165692\n",
      "At round 141 training accuracy: 0.7772380291464261\n",
      "At round 141 training loss: 0.9338911385578109\n",
      "At round 141 mean test accuracy: 0.7929746495568673 mean train accuracy: 0.7940504432606958\n",
      "Begin group  0 training\n",
      "Begin group  1 training\n"
     ]
    },
    {
     "name": "stderr",
     "output_type": "stream",
     "text": [
      "Epoch:   0%|                                                                                      | 0/5 [00:00<?, ?it/s]"
     ]
    },
    {
     "name": "stdout",
     "output_type": "stream",
     "text": [
      "Begin group  2 training\n",
      "Begin group  3 training\n"
     ]
    },
    {
     "name": "stderr",
     "output_type": "stream",
     "text": [
      "                                                                                                                        "
     ]
    },
    {
     "name": "stdout",
     "output_type": "stream",
     "text": [
      "Begin group  4 training\n"
     ]
    },
    {
     "name": "stderr",
     "output_type": "stream",
     "text": [
      "                                                                                                                        \r"
     ]
    },
    {
     "name": "stdout",
     "output_type": "stream",
     "text": [
      "Group 0, clients ['f_00153', 'f_00003', 'f_00142', 'f_00162', 'f_00072']\n",
      "Group 1, clients ['f_00001']\n",
      "Group 2, clients ['f_00068', 'f_00148']\n",
      "Group 3, clients ['f_00010', 'f_00090', 'f_00199', 'f_00099']\n",
      "Group 4, clients ['f_00025', 'f_00166', 'f_00126', 'f_00175', 'f_00106', 'f_00067', 'f_00161', 'f_00027']\n",
      "The groups difference are: [0.0, 0.0003419386323654239, 0.0006542506046398611, 0.0005701365703945083, 0.0004545913273805713]\n"
     ]
    },
    {
     "name": "stderr",
     "output_type": "stream",
     "text": [
      "                                                                                                                        "
     ]
    },
    {
     "name": "stdout",
     "output_type": "stream",
     "text": [
      "Group 0\n",
      "At round 142 accuracy: 0.734955185659411\n",
      "At round 142 training accuracy: 0.7135641063734958\n",
      "At round 142 training loss: 0.9250077951133313\n",
      "Group 1\n",
      "At round 142 accuracy: 0.9298245614035088\n",
      "At round 142 training accuracy: 0.9376947040498442\n",
      "At round 142 training loss: 0.4011029526204459\n",
      "Group 2\n",
      "At round 142 accuracy: 0.7924528301886793\n",
      "At round 142 training accuracy: 0.7757712565838977\n",
      "At round 142 training loss: 0.5724190620437791\n",
      "Group 3\n",
      "At round 142 accuracy: 0.8095238095238095\n",
      "At round 142 training accuracy: 0.7853658536585366\n",
      "At round 142 training loss: 0.6411901542907807\n",
      "Group 4\n",
      "At round 142 accuracy: 0.6257309941520468\n",
      "At round 142 training accuracy: 0.628498727735369\n",
      "At round 142 training loss: 1.06514738903756\n",
      "At round 142 mean test accuracy: 0.7784974761854911 mean train accuracy: 0.7681789296802286\n",
      "Begin group  0 training\n",
      "Begin group  1 training\n",
      "Begin group  2 training\n"
     ]
    },
    {
     "name": "stderr",
     "output_type": "stream",
     "text": [
      "Epoch:   0%|                                                                                      | 0/5 [00:00<?, ?it/s]"
     ]
    },
    {
     "name": "stdout",
     "output_type": "stream",
     "text": [
      "Begin group  3 training\n"
     ]
    },
    {
     "name": "stderr",
     "output_type": "stream",
     "text": [
      "Epoch:   0%|                                                                                      | 0/5 [00:00<?, ?it/s]"
     ]
    },
    {
     "name": "stdout",
     "output_type": "stream",
     "text": [
      "Begin group  4 training\n"
     ]
    },
    {
     "name": "stderr",
     "output_type": "stream",
     "text": [
      "                                                                                                                        \r"
     ]
    },
    {
     "name": "stdout",
     "output_type": "stream",
     "text": [
      "Group 0, clients ['f_00072', 'f_00014', 'f_00032', 'f_00103', 'f_00002']\n",
      "Group 1, clients ['f_00041', 'f_00001']\n",
      "Group 2, clients ['f_00158']\n",
      "Group 3, clients ['f_00119', 'f_00139', 'f_00019']\n",
      "Group 4, clients ['f_00025', 'f_00015', 'f_00107', 'f_00161', 'f_00165', 'f_00105', 'f_00096', 'f_00147', 'f_00166']\n",
      "The groups difference are: [0.0, 0.00011061639529186262, 0.0004896011356292362, 0.0003880729637648628, 0.00048252773572476926]\n"
     ]
    },
    {
     "name": "stderr",
     "output_type": "stream",
     "text": [
      "Epoch:   0%|                                                                                      | 0/5 [00:00<?, ?it/s]"
     ]
    },
    {
     "name": "stdout",
     "output_type": "stream",
     "text": [
      "Group 0\n",
      "At round 143 accuracy: 0.6325224071702945\n",
      "At round 143 training accuracy: 0.6447778933293715\n",
      "At round 143 training loss: 0.9842282869392192\n",
      "Group 1\n",
      "At round 143 accuracy: 0.8947368421052632\n",
      "At round 143 training accuracy: 0.9148494288681205\n",
      "At round 143 training loss: 0.44538129972891644\n",
      "Group 2\n",
      "At round 143 accuracy: 0.8364779874213837\n",
      "At round 143 training accuracy: 0.8103837471783296\n",
      "At round 143 training loss: 0.5757978580292228\n",
      "Group 3\n",
      "At round 143 accuracy: 0.8235294117647058\n",
      "At round 143 training accuracy: 0.8104065040650407\n",
      "At round 143 training loss: 0.6160559155107513\n",
      "Group 4\n",
      "At round 143 accuracy: 0.6159844054580896\n",
      "At round 143 training accuracy: 0.6062919269026139\n",
      "At round 143 training loss: 1.1678878768103116\n",
      "At round 143 mean test accuracy: 0.7606502107839475 mean train accuracy: 0.7573419000686953\n",
      "Begin group  0 training\n"
     ]
    },
    {
     "name": "stderr",
     "output_type": "stream",
     "text": [
      "Epoch:   0%|                                                                                      | 0/5 [00:00<?, ?it/s]"
     ]
    },
    {
     "name": "stdout",
     "output_type": "stream",
     "text": [
      "Begin group  1 training\n",
      "Begin group  2 training\n",
      "Begin group  3 training\n"
     ]
    },
    {
     "name": "stderr",
     "output_type": "stream",
     "text": [
      "Epoch:   0%|                                                                                      | 0/5 [00:00<?, ?it/s]"
     ]
    },
    {
     "name": "stdout",
     "output_type": "stream",
     "text": [
      "Begin group  4 training\n"
     ]
    },
    {
     "name": "stderr",
     "output_type": "stream",
     "text": [
      "                                                                                                                        \r"
     ]
    },
    {
     "name": "stdout",
     "output_type": "stream",
     "text": [
      "Group 0, clients ['f_00023', 'f_00144', 'f_00193', 'f_00163', 'f_00004', 'f_00062', 'f_00104']\n",
      "Group 1, clients ['f_00001']\n",
      "Group 2, clients ['f_00088', 'f_00008', 'f_00178', 'f_00168']\n",
      "Group 3, clients ['f_00189', 'f_00060', 'f_00199', 'f_00020', 'f_00050', 'f_00190']\n",
      "Group 4, clients ['f_00165', 'f_00146']\n",
      "The groups difference are: [0.0, 0.0001502601155094485, 0.00046216335322313284, 0.00043963775881206146, 0.00034742859500069834]\n"
     ]
    },
    {
     "name": "stderr",
     "output_type": "stream",
     "text": [
      "Epoch:   0%|                                                                                      | 0/5 [00:00<?, ?it/s]"
     ]
    },
    {
     "name": "stdout",
     "output_type": "stream",
     "text": [
      "Group 0\n",
      "At round 144 accuracy: 0.7912932138284251\n",
      "At round 144 training accuracy: 0.7716535433070866\n",
      "At round 144 training loss: 0.7711183582668477\n",
      "Group 1\n",
      "At round 144 accuracy: 0.9298245614035088\n",
      "At round 144 training accuracy: 0.9376947040498442\n",
      "At round 144 training loss: 0.46157708751697285\n",
      "Group 2\n",
      "At round 144 accuracy: 0.8176100628930818\n",
      "At round 144 training accuracy: 0.7915726109857035\n",
      "At round 144 training loss: 0.5878372672718212\n",
      "Group 3\n",
      "At round 144 accuracy: 0.7086834733893558\n",
      "At round 144 training accuracy: 0.7073170731707317\n",
      "At round 144 training loss: 0.8288581252679592\n",
      "Group 4\n",
      "At round 144 accuracy: 0.7270955165692008\n",
      "At round 144 training accuracy: 0.7557251908396947\n",
      "At round 144 training loss: 0.9042208627531602\n",
      "At round 144 mean test accuracy: 0.7949013656167145 mean train accuracy: 0.7927926244706123\n",
      "Begin group  0 training\n"
     ]
    },
    {
     "name": "stderr",
     "output_type": "stream",
     "text": [
      "Epoch:   0%|                                                                                      | 0/5 [00:00<?, ?it/s]"
     ]
    },
    {
     "name": "stdout",
     "output_type": "stream",
     "text": [
      "Begin group  1 training\n",
      "Begin group  2 training\n",
      "Begin group  3 training\n"
     ]
    },
    {
     "name": "stderr",
     "output_type": "stream",
     "text": [
      "                                                                                                                        \r"
     ]
    },
    {
     "name": "stdout",
     "output_type": "stream",
     "text": [
      "Begin group  4 training\n",
      "Group 0, clients ['f_00093', 'f_00163', 'f_00083', 'f_00174', 'f_00002', 'f_00063', 'f_00132']\n",
      "Group 1, clients ['f_00001']\n",
      "Group 2, clients ['f_00128', 'f_00138', 'f_00068', 'f_00028', 'f_00088']\n",
      "Group 3, clients ['f_00130', 'f_00080', 'f_00050']\n",
      "Group 4, clients ['f_00067', 'f_00055', 'f_00086', 'f_00167']\n",
      "The groups difference are: [2.220446049250313e-16, 0.00043174544751711785, 0.0008639728279210557, 0.0008519243330795678, 0.0008686081173328031]\n"
     ]
    },
    {
     "name": "stderr",
     "output_type": "stream",
     "text": [
      "Epoch:   0%|                                                                                      | 0/5 [00:00<?, ?it/s]"
     ]
    },
    {
     "name": "stdout",
     "output_type": "stream",
     "text": [
      "Group 0\n",
      "At round 145 accuracy: 0.646606914212548\n",
      "At round 145 training accuracy: 0.6657257465458327\n",
      "At round 145 training loss: 1.1790968068215242\n",
      "Group 1\n",
      "At round 145 accuracy: 0.8947368421052632\n",
      "At round 145 training accuracy: 0.9117341640706127\n",
      "At round 145 training loss: 0.4524189879032682\n",
      "Group 2\n",
      "At round 145 accuracy: 0.8553459119496856\n",
      "At round 145 training accuracy: 0.8382242287434161\n",
      "At round 145 training loss: 0.6075035217922374\n",
      "Group 3\n",
      "At round 145 accuracy: 0.8263305322128851\n",
      "At round 145 training accuracy: 0.7931707317073171\n",
      "At round 145 training loss: 0.6432439957401617\n",
      "Group 4\n",
      "At round 145 accuracy: 0.6491228070175439\n",
      "At round 145 training accuracy: 0.6583391163543836\n",
      "At round 145 training loss: 1.1022650788510366\n",
      "At round 145 mean test accuracy: 0.7744286014995851 mean train accuracy: 0.7734387974843124\n",
      "Begin group  0 training\n"
     ]
    },
    {
     "name": "stderr",
     "output_type": "stream",
     "text": [
      "                                                                                                                        "
     ]
    },
    {
     "name": "stdout",
     "output_type": "stream",
     "text": [
      "Begin group  1 training\n",
      "Begin group  2 training\n",
      "Begin group  3 training\n"
     ]
    },
    {
     "name": "stderr",
     "output_type": "stream",
     "text": [
      "Epoch:   0%|                                                                                      | 0/5 [00:00<?, ?it/s]"
     ]
    },
    {
     "name": "stdout",
     "output_type": "stream",
     "text": [
      "Begin group  4 training\n"
     ]
    },
    {
     "name": "stderr",
     "output_type": "stream",
     "text": [
      "                                                                                                                        \r"
     ]
    },
    {
     "name": "stdout",
     "output_type": "stream",
     "text": [
      "Group 0, clients ['f_00162', 'f_00143', 'f_00193', 'f_00004', 'f_00024']\n",
      "Group 1, clients ['f_00041', 'f_00081']\n",
      "Group 2, clients ['f_00089', 'f_00078', 'f_00148', 'f_00118']\n",
      "Group 3, clients ['f_00039']\n",
      "Group 4, clients ['f_00007', 'f_00197', 'f_00076', 'f_00087', 'f_00056', 'f_00185', 'f_00095', 'f_00057']\n",
      "The groups difference are: [1.1102230246251565e-16, 0.0002668352720398559, 0.0005742279158786889, 0.0005480800938427732, 0.0007025762032528693]\n"
     ]
    },
    {
     "name": "stderr",
     "output_type": "stream",
     "text": [
      "Epoch:   0%|                                                                                      | 0/5 [00:00<?, ?it/s]"
     ]
    },
    {
     "name": "stdout",
     "output_type": "stream",
     "text": [
      "Group 0\n",
      "At round 146 accuracy: 0.7810499359795134\n",
      "At round 146 training accuracy: 0.7741791709998515\n",
      "At round 146 training loss: 0.7692434855138648\n",
      "Group 1\n",
      "At round 146 accuracy: 0.8859649122807017\n",
      "At round 146 training accuracy: 0.8961578400830738\n",
      "At round 146 training loss: 0.4698065327768633\n",
      "Group 2\n",
      "At round 146 accuracy: 0.7987421383647799\n",
      "At round 146 training accuracy: 0.7712565838976674\n",
      "At round 146 training loss: 0.6102874298083145\n",
      "Group 3\n",
      "At round 146 accuracy: 0.6498599439775911\n",
      "At round 146 training accuracy: 0.6773983739837398\n",
      "At round 146 training loss: 0.7954191938842216\n",
      "Group 4\n",
      "At round 146 accuracy: 0.5692007797270955\n",
      "At round 146 training accuracy: 0.5715938006014342\n",
      "At round 146 training loss: 1.3223875652660022\n",
      "At round 146 mean test accuracy: 0.7369635420659364 mean train accuracy: 0.7381171539131534\n",
      "Begin group  0 training\n",
      "Begin group  1 training\n"
     ]
    },
    {
     "name": "stderr",
     "output_type": "stream",
     "text": [
      "Epoch:   0%|                                                                                      | 0/5 [00:00<?, ?it/s]"
     ]
    },
    {
     "name": "stdout",
     "output_type": "stream",
     "text": [
      "Begin group  2 training\n",
      "Begin group  3 training\n"
     ]
    },
    {
     "name": "stderr",
     "output_type": "stream",
     "text": [
      "Epoch:  80%|██████████████████████████████████████████████████████████████▍               | 4/5 [00:00<00:00, 39.24it/s]"
     ]
    },
    {
     "name": "stdout",
     "output_type": "stream",
     "text": [
      "Begin group  4 training\n"
     ]
    },
    {
     "name": "stderr",
     "output_type": "stream",
     "text": [
      "                                                                                                                        \r"
     ]
    },
    {
     "name": "stdout",
     "output_type": "stream",
     "text": [
      "Group 0, clients ['f_00062', 'f_00024', 'f_00112', 'f_00022', 'f_00072', 'f_00044', 'f_00133', 'f_00174', 'f_00194', 'f_00134']\n",
      "Group 1, clients ['f_00031', 'f_00021']\n",
      "Group 2, clients ['f_00138', 'f_00169', 'f_00097', 'f_00089']\n",
      "Group 3, clients ['f_00140', 'f_00090']\n",
      "Group 4, clients ['f_00035', 'f_00175']\n",
      "The groups difference are: [0.0, 0.00026112239232012335, 0.0004902125321544215, 0.000427718318734005, 0.00047798319024583424]\n"
     ]
    },
    {
     "name": "stderr",
     "output_type": "stream",
     "text": [
      "\r",
      "Epoch:   0%|                                                                                      | 0/5 [00:00<?, ?it/s]"
     ]
    },
    {
     "name": "stdout",
     "output_type": "stream",
     "text": [
      "Group 0\n",
      "At round 147 accuracy: 0.7925736235595391\n",
      "At round 147 training accuracy: 0.7881444064774922\n",
      "At round 147 training loss: 0.7613420196440966\n",
      "Group 1\n",
      "At round 147 accuracy: 0.9298245614035088\n",
      "At round 147 training accuracy: 0.9376947040498442\n",
      "At round 147 training loss: 0.4224211698318691\n",
      "Group 2\n",
      "At round 147 accuracy: 0.8553459119496856\n",
      "At round 147 training accuracy: 0.8397291196388262\n",
      "At round 147 training loss: 0.5753438755073791\n",
      "Group 3\n",
      "At round 147 accuracy: 0.6918767507002801\n",
      "At round 147 training accuracy: 0.7004878048780487\n",
      "At round 147 training loss: 0.8274291551306965\n",
      "Group 4\n",
      "At round 147 accuracy: 0.6081871345029239\n",
      "At round 147 training accuracy: 0.6342817487855655\n",
      "At round 147 training loss: 1.0913288953843119\n",
      "At round 147 mean test accuracy: 0.7755615964231876 mean train accuracy: 0.7800675567659555\n",
      "Begin group  0 training\n"
     ]
    },
    {
     "name": "stderr",
     "output_type": "stream",
     "text": [
      "Epoch:   0%|                                                                                      | 0/5 [00:00<?, ?it/s]"
     ]
    },
    {
     "name": "stdout",
     "output_type": "stream",
     "text": [
      "Begin group  1 training\n",
      "Begin group  2 training\n",
      "Begin group  3 training\n"
     ]
    },
    {
     "name": "stderr",
     "output_type": "stream",
     "text": [
      "                                                                                                                        \r"
     ]
    },
    {
     "name": "stdout",
     "output_type": "stream",
     "text": [
      "Begin group  4 training\n",
      "Group 0, clients ['f_00192', 'f_00153', 'f_00023', 'f_00193', 'f_00073', 'f_00034', 'f_00013', 'f_00002']\n",
      "Group 1, clients ['f_00181']\n",
      "Group 2, clients ['f_00158', 'f_00097', 'f_00088']\n",
      "Group 3, clients ['f_00189', 'f_00030', 'f_00149', 'f_00060']\n",
      "Group 4, clients ['f_00056', 'f_00135', 'f_00055', 'f_00185']\n",
      "The groups difference are: [0.0, 0.0004739102956694552, 0.0008568886062103598, 0.000780099294477421, 0.0009279734295344344]\n"
     ]
    },
    {
     "name": "stderr",
     "output_type": "stream",
     "text": [
      "Epoch:   0%|                                                                                      | 0/5 [00:00<?, ?it/s]"
     ]
    },
    {
     "name": "stdout",
     "output_type": "stream",
     "text": [
      "Group 0\n",
      "At round 148 accuracy: 0.6619718309859155\n",
      "At round 148 training accuracy: 0.6831080077254494\n",
      "At round 148 training loss: 1.1055541225801586\n",
      "Group 1\n",
      "At round 148 accuracy: 0.9035087719298246\n",
      "At round 148 training accuracy: 0.9221183800623053\n",
      "At round 148 training loss: 0.3996339900223761\n",
      "Group 2\n",
      "At round 148 accuracy: 0.8427672955974843\n",
      "At round 148 training accuracy: 0.8404815650865313\n",
      "At round 148 training loss: 0.7077088718848448\n",
      "Group 3\n",
      "At round 148 accuracy: 0.7591036414565826\n",
      "At round 148 training accuracy: 0.7817886178861788\n",
      "At round 148 training loss: 0.7268769758309775\n",
      "Group 4\n",
      "At round 148 accuracy: 0.6101364522417154\n",
      "At round 148 training accuracy: 0.611149664584779\n",
      "At round 148 training loss: 1.1426200485328764\n",
      "At round 148 mean test accuracy: 0.7554975984423045 mean train accuracy: 0.7677292470690489\n",
      "Begin group  0 training\n"
     ]
    },
    {
     "name": "stderr",
     "output_type": "stream",
     "text": [
      "Epoch:   0%|                                                                                      | 0/5 [00:00<?, ?it/s]"
     ]
    },
    {
     "name": "stdout",
     "output_type": "stream",
     "text": [
      "Begin group  1 training\n",
      "Begin group  2 training\n",
      "Begin group  3 training\n"
     ]
    },
    {
     "name": "stderr",
     "output_type": "stream",
     "text": [
      "                                                                                                                        \r"
     ]
    },
    {
     "name": "stdout",
     "output_type": "stream",
     "text": [
      "Begin group  4 training\n",
      "Group 0, clients ['f_00182', 'f_00013', 'f_00022', 'f_00052', 'f_00063', 'f_00074', 'f_00062']\n",
      "Group 1, clients ['f_00091', 'f_00071', 'f_00141']\n",
      "Group 2, clients ['f_00058', 'f_00089']\n",
      "Group 3, clients ['f_00180', 'f_00110', 'f_00090']\n",
      "Group 4, clients ['f_00061', 'f_00026', 'f_00135', 'f_00107', 'f_00186']\n",
      "The groups difference are: [0.0, 0.0003705446064654616, 0.0005997361729613848, 0.0006162374190163966, 0.0005151490823444016]\n"
     ]
    },
    {
     "name": "stderr",
     "output_type": "stream",
     "text": [
      "Epoch:   0%|                                                                                      | 0/5 [00:00<?, ?it/s]"
     ]
    },
    {
     "name": "stdout",
     "output_type": "stream",
     "text": [
      "Group 0\n",
      "At round 149 accuracy: 0.7580025608194623\n",
      "At round 149 training accuracy: 0.7490714604070717\n",
      "At round 149 training loss: 0.7664532504877282\n",
      "Group 1\n",
      "At round 149 accuracy: 0.9298245614035088\n",
      "At round 149 training accuracy: 0.9491173416407062\n",
      "At round 149 training loss: 0.38795467790289706\n",
      "Group 2\n",
      "At round 149 accuracy: 0.8616352201257862\n",
      "At round 149 training accuracy: 0.8510158013544018\n",
      "At round 149 training loss: 0.6091468795472469\n",
      "Group 3\n",
      "At round 149 accuracy: 0.7478991596638656\n",
      "At round 149 training accuracy: 0.7326829268292683\n",
      "At round 149 training loss: 0.7027765754180226\n",
      "Group 4\n",
      "At round 149 accuracy: 0.5984405458089669\n",
      "At round 149 training accuracy: 0.5965764515382836\n",
      "At round 149 training loss: 1.2244149025545996\n",
      "At round 149 mean test accuracy: 0.779160409564318 mean train accuracy: 0.7756927963539464\n",
      "Begin group  0 training\n"
     ]
    },
    {
     "name": "stderr",
     "output_type": "stream",
     "text": [
      "Epoch:   0%|                                                                                      | 0/5 [00:00<?, ?it/s]"
     ]
    },
    {
     "name": "stdout",
     "output_type": "stream",
     "text": [
      "Begin group  1 training\n",
      "Begin group  2 training\n"
     ]
    },
    {
     "name": "stderr",
     "output_type": "stream",
     "text": [
      "Epoch:   0%|                                                                                      | 0/5 [00:00<?, ?it/s]"
     ]
    },
    {
     "name": "stdout",
     "output_type": "stream",
     "text": [
      "Begin group  3 training\n"
     ]
    },
    {
     "name": "stderr",
     "output_type": "stream",
     "text": [
      "Epoch:   0%|                                                                                      | 0/5 [00:00<?, ?it/s]"
     ]
    },
    {
     "name": "stdout",
     "output_type": "stream",
     "text": [
      "Begin group  4 training\n"
     ]
    },
    {
     "name": "stderr",
     "output_type": "stream",
     "text": [
      "                                                                                                                        \r"
     ]
    },
    {
     "name": "stdout",
     "output_type": "stream",
     "text": [
      "Group 0, clients ['f_00072', 'f_00194', 'f_00042', 'f_00184', 'f_00013', 'f_00033', 'f_00084', 'f_00133']\n",
      "Group 1, clients ['f_00091']\n",
      "Group 2, clients ['f_00168', 'f_00008', 'f_00058']\n",
      "Group 3, clients ['f_00070', 'f_00009', 'f_00119']\n",
      "Group 4, clients ['f_00085', 'f_00087', 'f_00036', 'f_00056', 'f_00066']\n",
      "The groups difference are: [0.0, 0.0005628827129050551, 0.0009486946618424419, 0.0009083440119069808, 0.0009948528171570548]\n"
     ]
    },
    {
     "name": "stderr",
     "output_type": "stream",
     "text": [
      "Epoch:   0%|                                                                                      | 0/5 [00:00<?, ?it/s]"
     ]
    },
    {
     "name": "stdout",
     "output_type": "stream",
     "text": [
      "Group 0\n",
      "At round 150 accuracy: 0.6350832266325224\n",
      "At round 150 training accuracy: 0.6588916951418808\n",
      "At round 150 training loss: 1.2507032247022505\n",
      "Group 1\n",
      "At round 150 accuracy: 0.9210526315789473\n",
      "At round 150 training accuracy: 0.9376947040498442\n",
      "At round 150 training loss: 0.34709238436610773\n",
      "Group 2\n",
      "At round 150 accuracy: 0.7295597484276729\n",
      "At round 150 training accuracy: 0.7313769751693002\n",
      "At round 150 training loss: 0.8815736502655652\n",
      "Group 3\n",
      "At round 150 accuracy: 0.7703081232492998\n",
      "At round 150 training accuracy: 0.80130081300813\n",
      "At round 150 training loss: 0.7338003266051533\n",
      "Group 4\n",
      "At round 150 accuracy: 0.7348927875243665\n",
      "At round 150 training accuracy: 0.7622021744159149\n",
      "At round 150 training loss: 0.9531374313256102\n",
      "At round 150 mean test accuracy: 0.7581793034825618 mean train accuracy: 0.778293272357014\n",
      "Begin group  0 training\n"
     ]
    },
    {
     "name": "stderr",
     "output_type": "stream",
     "text": [
      "Epoch:   0%|                                                                                      | 0/5 [00:00<?, ?it/s]"
     ]
    },
    {
     "name": "stdout",
     "output_type": "stream",
     "text": [
      "Begin group  1 training\n",
      "Begin group  2 training\n",
      "Begin group  3 training\n"
     ]
    },
    {
     "name": "stderr",
     "output_type": "stream",
     "text": [
      "Epoch:  60%|██████████████████████████████████████████████▊                               | 3/5 [00:00<00:00, 28.84it/s]"
     ]
    },
    {
     "name": "stdout",
     "output_type": "stream",
     "text": [
      "Begin group  4 training\n"
     ]
    },
    {
     "name": "stderr",
     "output_type": "stream",
     "text": [
      "                                                                                                                        \r"
     ]
    },
    {
     "name": "stdout",
     "output_type": "stream",
     "text": [
      "Group 0, clients ['f_00053', 'f_00103', 'f_00022', 'f_00153', 'f_00094', 'f_00142']\n",
      "Group 1, clients ['f_00011']\n",
      "Group 2, clients ['f_00038', 'f_00008', 'f_00138']\n",
      "Group 3, clients ['f_00170', 'f_00050']\n",
      "Group 4, clients ['f_00007', 'f_00166', 'f_00061', 'f_00076', 'f_00066', 'f_00177', 'f_00156', 'f_00187']\n",
      "The groups difference are: [0.0, 0.0004281012436887499, 0.0004905425213705961, 0.0005999404130212493, 0.0005935543465905857]\n"
     ]
    },
    {
     "name": "stderr",
     "output_type": "stream",
     "text": [
      "Epoch:  60%|██████████████████████████████████████████████▊                               | 3/5 [00:00<00:00, 24.85it/s]"
     ]
    },
    {
     "name": "stdout",
     "output_type": "stream",
     "text": [
      "Group 0\n",
      "At round 151 accuracy: 0.8079385403329066\n",
      "At round 151 training accuracy: 0.7976526519090774\n",
      "At round 151 training loss: 0.6829269011906893\n",
      "Group 1\n",
      "At round 151 accuracy: 0.9035087719298246\n",
      "At round 151 training accuracy: 0.9190031152647975\n",
      "At round 151 training loss: 0.34789161009642444\n",
      "Group 2\n",
      "At round 151 accuracy: 0.8553459119496856\n",
      "At round 151 training accuracy: 0.8254326561324304\n",
      "At round 151 training loss: 0.6730862996289387\n",
      "Group 3\n",
      "At round 151 accuracy: 0.803921568627451\n",
      "At round 151 training accuracy: 0.7957723577235772\n",
      "At round 151 training loss: 0.6404463096168952\n",
      "Group 4\n",
      "At round 151 accuracy: 0.621832358674464\n",
      "At round 151 training accuracy: 0.6553319454082813\n",
      "At round 151 training loss: 1.0087995722203957\n",
      "At round 151 mean test accuracy: 0.7985094303028664 mean train accuracy: 0.7986385452876329\n",
      "Begin group  0 training\n"
     ]
    },
    {
     "name": "stderr",
     "output_type": "stream",
     "text": [
      "Epoch:   0%|                                                                                      | 0/5 [00:00<?, ?it/s]"
     ]
    },
    {
     "name": "stdout",
     "output_type": "stream",
     "text": [
      "Begin group  1 training\n",
      "Begin group  2 training\n",
      "Begin group  3 training\n",
      "Begin group  4 training\n"
     ]
    },
    {
     "name": "stderr",
     "output_type": "stream",
     "text": [
      "                                                                                                                        \r"
     ]
    },
    {
     "name": "stdout",
     "output_type": "stream",
     "text": [
      "Group 0, clients ['f_00102', 'f_00052', 'f_00063', 'f_00133', 'f_00003', 'f_00192', 'f_00144']\n",
      "Group 1, clients ['f_00191', 'f_00021', 'f_00141']\n",
      "Group 2, clients ['f_00088', 'f_00078']\n",
      "Group 3, clients ['f_00099', 'f_00010']\n",
      "Group 4, clients ['f_00156', 'f_00076', 'f_00116', 'f_00115', 'f_00085', 'f_00167']\n",
      "The groups difference are: [0.0, 0.00040191725868599093, 0.0005150079829443488, 0.0005308902764260548, 0.000619182405799279]\n"
     ]
    },
    {
     "name": "stderr",
     "output_type": "stream",
     "text": [
      "Epoch:   0%|                                                                                      | 0/5 [00:00<?, ?it/s]"
     ]
    },
    {
     "name": "stdout",
     "output_type": "stream",
     "text": [
      "Group 0\n",
      "At round 152 accuracy: 0.7528809218950064\n",
      "At round 152 training accuracy: 0.7276779081860051\n",
      "At round 152 training loss: 0.806183933087115\n",
      "Group 1\n",
      "At round 152 accuracy: 0.9298245614035088\n",
      "At round 152 training accuracy: 0.9376947040498442\n",
      "At round 152 training loss: 0.3660932902946898\n",
      "Group 2\n",
      "At round 152 accuracy: 0.8427672955974843\n",
      "At round 152 training accuracy: 0.8148984198645598\n",
      "At round 152 training loss: 0.6217615982928251\n",
      "Group 3\n",
      "At round 152 accuracy: 0.8011204481792717\n",
      "At round 152 training accuracy: 0.8094308943089431\n",
      "At round 152 training loss: 0.6849225858168874\n",
      "Group 4\n",
      "At round 152 accuracy: 0.6471734892787524\n",
      "At round 152 training accuracy: 0.6773074253990284\n",
      "At round 152 training loss: 1.0295724976663923\n",
      "At round 152 mean test accuracy: 0.7947533432708047 mean train accuracy: 0.7934018703616761\n",
      "Begin group  0 training\n"
     ]
    },
    {
     "name": "stderr",
     "output_type": "stream",
     "text": [
      "Epoch:   0%|                                                                                      | 0/5 [00:00<?, ?it/s]"
     ]
    },
    {
     "name": "stdout",
     "output_type": "stream",
     "text": [
      "Begin group  1 training\n",
      "Begin group  2 training\n",
      "Begin group  3 training\n"
     ]
    },
    {
     "name": "stderr",
     "output_type": "stream",
     "text": [
      "Epoch:   0%|                                                                                      | 0/5 [00:00<?, ?it/s]"
     ]
    },
    {
     "name": "stdout",
     "output_type": "stream",
     "text": [
      "Begin group  4 training\n"
     ]
    },
    {
     "name": "stderr",
     "output_type": "stream",
     "text": [
      "                                                                                                                        \r"
     ]
    },
    {
     "name": "stdout",
     "output_type": "stream",
     "text": [
      "Group 0, clients ['f_00023', 'f_00074', 'f_00004', 'f_00162']\n",
      "Group 1, clients ['f_00071', 'f_00101', 'f_00001']\n",
      "Group 2, clients ['f_00048', 'f_00198']\n",
      "Group 3, clients ['f_00029', 'f_00020', 'f_00060', 'f_00160', 'f_00039']\n",
      "Group 4, clients ['f_00015', 'f_00016', 'f_00056', 'f_00127', 'f_00077', 'f_00125']\n",
      "The groups difference are: [0.0, 0.00021015158244086507, 0.00043191392300989673, 0.0004602220261155088, 0.0005671433459977226]\n"
     ]
    },
    {
     "name": "stderr",
     "output_type": "stream",
     "text": [
      "Epoch:   0%|                                                                                      | 0/5 [00:00<?, ?it/s]"
     ]
    },
    {
     "name": "stdout",
     "output_type": "stream",
     "text": [
      "Group 0\n",
      "At round 153 accuracy: 0.7093469910371318\n",
      "At round 153 training accuracy: 0.7144555043827069\n",
      "At round 153 training loss: 0.8458414173129762\n",
      "Group 1\n",
      "At round 153 accuracy: 0.9210526315789473\n",
      "At round 153 training accuracy: 0.9231568016614745\n",
      "At round 153 training loss: 0.37123711854374175\n",
      "Group 2\n",
      "At round 153 accuracy: 0.779874213836478\n",
      "At round 153 training accuracy: 0.7577125658389767\n",
      "At round 153 training loss: 0.6583896767743285\n",
      "Group 3\n",
      "At round 153 accuracy: 0.8067226890756303\n",
      "At round 153 training accuracy: 0.8065040650406504\n",
      "At round 153 training loss: 0.6936931551762713\n",
      "Group 4\n",
      "At round 153 accuracy: 0.6432748538011696\n",
      "At round 153 training accuracy: 0.6805459171871385\n",
      "At round 153 training loss: 1.0232640490428788\n",
      "At round 153 mean test accuracy: 0.7720542758658715 mean train accuracy: 0.7764749708221894\n",
      "Begin group  0 training\n"
     ]
    },
    {
     "name": "stderr",
     "output_type": "stream",
     "text": [
      "Epoch:   0%|                                                                                      | 0/5 [00:00<?, ?it/s]"
     ]
    },
    {
     "name": "stdout",
     "output_type": "stream",
     "text": [
      "Begin group  1 training\n",
      "Begin group  2 training\n",
      "Begin group  3 training\n"
     ]
    },
    {
     "name": "stderr",
     "output_type": "stream",
     "text": [
      "Epoch:   0%|                                                                                      | 0/5 [00:00<?, ?it/s]"
     ]
    },
    {
     "name": "stdout",
     "output_type": "stream",
     "text": [
      "Begin group  4 training\n"
     ]
    },
    {
     "name": "stderr",
     "output_type": "stream",
     "text": [
      "                                                                                                                        \r"
     ]
    },
    {
     "name": "stdout",
     "output_type": "stream",
     "text": [
      "Group 0, clients ['f_00123', 'f_00092', 'f_00163', 'f_00134', 'f_00162', 'f_00013']\n",
      "Group 1, clients ['f_00101']\n",
      "Group 2, clients ['f_00058', 'f_00188', 'f_00097', 'f_00118']\n",
      "Group 3, clients ['f_00040']\n",
      "Group 4, clients ['f_00157', 'f_00155', 'f_00107', 'f_00095', 'f_00076', 'f_00077', 'f_00187', 'f_00065']\n",
      "The groups difference are: [1.1102230246251565e-16, 0.00028324923054601214, 0.000411872184558737, 0.0005248552355048286, 0.00030724145476579423]\n"
     ]
    },
    {
     "name": "stderr",
     "output_type": "stream",
     "text": [
      "Epoch:   0%|                                                                                      | 0/5 [00:00<?, ?it/s]"
     ]
    },
    {
     "name": "stdout",
     "output_type": "stream",
     "text": [
      "Group 0\n",
      "At round 154 accuracy: 0.7925736235595391\n",
      "At round 154 training accuracy: 0.7775961967018273\n",
      "At round 154 training loss: 0.735048448941166\n",
      "Group 1\n",
      "At round 154 accuracy: 0.9298245614035088\n",
      "At round 154 training accuracy: 0.9501557632398754\n",
      "At round 154 training loss: 0.37738812500504565\n",
      "Group 2\n",
      "At round 154 accuracy: 0.8427672955974843\n",
      "At round 154 training accuracy: 0.837471783295711\n",
      "At round 154 training loss: 0.5989756081855951\n",
      "Group 3\n",
      "At round 154 accuracy: 0.8011204481792717\n",
      "At round 154 training accuracy: 0.8029268292682927\n",
      "At round 154 training loss: 0.6782023633689415\n",
      "Group 4\n",
      "At round 154 accuracy: 0.7192982456140351\n",
      "At round 154 training accuracy: 0.7485542447374508\n",
      "At round 154 training loss: 0.930928420681328\n",
      "At round 154 mean test accuracy: 0.8171168348707679 mean train accuracy: 0.8233409634486316\n",
      "Begin group  0 training\n"
     ]
    },
    {
     "name": "stderr",
     "output_type": "stream",
     "text": [
      "Epoch:   0%|                                                                                      | 0/5 [00:00<?, ?it/s]"
     ]
    },
    {
     "name": "stdout",
     "output_type": "stream",
     "text": [
      "Begin group  1 training\n",
      "Begin group  2 training\n"
     ]
    },
    {
     "name": "stderr",
     "output_type": "stream",
     "text": [
      "Epoch:   0%|                                                                                      | 0/5 [00:00<?, ?it/s]"
     ]
    },
    {
     "name": "stdout",
     "output_type": "stream",
     "text": [
      "Begin group  3 training\n",
      "Begin group  4 training\n"
     ]
    },
    {
     "name": "stderr",
     "output_type": "stream",
     "text": [
      "                                                                                                                        \r"
     ]
    },
    {
     "name": "stdout",
     "output_type": "stream",
     "text": [
      "Group 0, clients ['f_00183', 'f_00083', 'f_00022']\n",
      "Group 1 is empty.\n",
      "Group 2, clients ['f_00169', 'f_00048']\n",
      "Group 3, clients ['f_00199', 'f_00130', 'f_00060', 'f_00099']\n",
      "Group 4, clients ['f_00077', 'f_00166', 'f_00125', 'f_00157', 'f_00045', 'f_00155', 'f_00065', 'f_00007', 'f_00127', 'f_00076', 'f_00035']\n",
      "The groups difference are: [0.0, 0.00027673785328685696, 0.0005653375822238793, 0.0004503838978615615, 0.00045362772382806504]\n"
     ]
    },
    {
     "name": "stderr",
     "output_type": "stream",
     "text": [
      "Epoch:   0%|                                                                                      | 0/5 [00:00<?, ?it/s]"
     ]
    },
    {
     "name": "stdout",
     "output_type": "stream",
     "text": [
      "Group 0\n",
      "At round 155 accuracy: 0.7554417413572343\n",
      "At round 155 training accuracy: 0.7309463675531125\n",
      "At round 155 training loss: 0.8043198911338942\n",
      "Group 2\n",
      "At round 155 accuracy: 0.8490566037735849\n",
      "At round 155 training accuracy: 0.8487584650112867\n",
      "At round 155 training loss: 0.5611440771903374\n",
      "Group 3\n",
      "At round 155 accuracy: 0.8179271708683473\n",
      "At round 155 training accuracy: 0.8087804878048781\n",
      "At round 155 training loss: 0.6837250052816499\n",
      "Group 4\n",
      "At round 155 accuracy: 0.6861598440545809\n",
      "At round 155 training accuracy: 0.6992829053897757\n",
      "At round 155 training loss: 0.9225293338064405\n",
      "At round 155 mean test accuracy: 0.7771463400134369 mean train accuracy: 0.7719420564397632\n",
      "Begin group  0 training\n",
      "Begin group  2 training\n",
      "Begin group  3 training\n"
     ]
    },
    {
     "name": "stderr",
     "output_type": "stream",
     "text": [
      "Epoch:   0%|                                                                                      | 0/5 [00:00<?, ?it/s]"
     ]
    },
    {
     "name": "stdout",
     "output_type": "stream",
     "text": [
      "Begin group  4 training\n"
     ]
    },
    {
     "name": "stderr",
     "output_type": "stream",
     "text": [
      "                                                                                                                        \r"
     ]
    },
    {
     "name": "stdout",
     "output_type": "stream",
     "text": [
      "Group 0, clients ['f_00072', 'f_00144', 'f_00132', 'f_00003']\n",
      "Group 1, clients ['f_00051', 'f_00141']\n",
      "Group 2, clients ['f_00049', 'f_00068', 'f_00018']\n",
      "Group 3, clients ['f_00009', 'f_00000', 'f_00030', 'f_00050', 'f_00099', 'f_00149', 'f_00019']\n",
      "Group 4, clients ['f_00161', 'f_00077', 'f_00185', 'f_00196']\n",
      "The groups difference are: [0.0, 0.0001450004362947288, 0.000344282605079238, 0.0004183436740823332, 0.00037016796463817947]\n"
     ]
    },
    {
     "name": "stderr",
     "output_type": "stream",
     "text": [
      "Epoch:   0%|                                                                                      | 0/5 [00:00<?, ?it/s]"
     ]
    },
    {
     "name": "stdout",
     "output_type": "stream",
     "text": [
      "Group 0\n",
      "At round 156 accuracy: 0.7733674775928298\n",
      "At round 156 training accuracy: 0.7654137572426088\n",
      "At round 156 training loss: 0.7627172086085134\n",
      "Group 1\n",
      "At round 156 accuracy: 0.9298245614035088\n",
      "At round 156 training accuracy: 0.9491173416407062\n",
      "At round 156 training loss: 0.5112059705292077\n",
      "Group 2\n",
      "At round 156 accuracy: 0.8301886792452831\n",
      "At round 156 training accuracy: 0.8291948833709556\n",
      "At round 156 training loss: 0.6421236223390535\n",
      "Group 3\n",
      "At round 156 accuracy: 0.7338935574229691\n",
      "At round 156 training accuracy: 0.7183739837398374\n",
      "At round 156 training loss: 0.7686219613823464\n",
      "Group 4\n",
      "At round 156 accuracy: 0.7095516569200779\n",
      "At round 156 training accuracy: 0.7235715938006014\n",
      "At round 156 training loss: 0.86517788232986\n",
      "At round 156 mean test accuracy: 0.7953651865169338 mean train accuracy: 0.7971343119589419\n",
      "Begin group  0 training\n",
      "Begin group  1 training\n"
     ]
    },
    {
     "name": "stderr",
     "output_type": "stream",
     "text": [
      "                                                                                                                        "
     ]
    },
    {
     "name": "stdout",
     "output_type": "stream",
     "text": [
      "Begin group  2 training\n",
      "Begin group  3 training\n"
     ]
    },
    {
     "name": "stderr",
     "output_type": "stream",
     "text": [
      "                                                                                                                        \r"
     ]
    },
    {
     "name": "stdout",
     "output_type": "stream",
     "text": [
      "Begin group  4 training\n",
      "Group 0, clients ['f_00144', 'f_00123', 'f_00012', 'f_00052', 'f_00094', 'f_00072', 'f_00103', 'f_00033']\n",
      "Group 1, clients ['f_00171']\n",
      "Group 2, clients ['f_00178']\n",
      "Group 3, clients ['f_00120', 'f_00039', 'f_00040', 'f_00060', 'f_00199']\n",
      "Group 4, clients ['f_00055', 'f_00155', 'f_00151', 'f_00087', 'f_00127']\n",
      "The groups difference are: [1.1102230246251565e-16, 0.00012262623392245153, 0.0003771295183783163, 0.00030437553820439334, 0.0003021797603693921]\n"
     ]
    },
    {
     "name": "stderr",
     "output_type": "stream",
     "text": [
      "Epoch:  80%|██████████████████████████████████████████████████████████████▍               | 4/5 [00:00<00:00, 31.70it/s]"
     ]
    },
    {
     "name": "stdout",
     "output_type": "stream",
     "text": [
      "Group 0\n",
      "At round 157 accuracy: 0.7733674775928298\n",
      "At round 157 training accuracy: 0.7670479869261625\n",
      "At round 157 training loss: 0.7831659589979486\n",
      "Group 1\n",
      "At round 157 accuracy: 0.9298245614035088\n",
      "At round 157 training accuracy: 0.9376947040498442\n",
      "At round 157 training loss: 0.4060385391224458\n",
      "Group 2\n",
      "At round 157 accuracy: 0.7924528301886793\n",
      "At round 157 training accuracy: 0.7689992475545523\n",
      "At round 157 training loss: 0.5905807970429472\n",
      "Group 3\n",
      "At round 157 accuracy: 0.7871148459383753\n",
      "At round 157 training accuracy: 0.7723577235772358\n",
      "At round 157 training loss: 0.6643055639034364\n",
      "Group 4\n",
      "At round 157 accuracy: 0.6920077972709552\n",
      "At round 157 training accuracy: 0.7189451769604441\n",
      "At round 157 training loss: 0.8931879895637357\n",
      "At round 157 mean test accuracy: 0.7949535024788698 mean train accuracy: 0.7930089678136479\n",
      "Begin group  0 training\n"
     ]
    },
    {
     "name": "stderr",
     "output_type": "stream",
     "text": [
      "Epoch:   0%|                                                                                      | 0/5 [00:00<?, ?it/s]"
     ]
    },
    {
     "name": "stdout",
     "output_type": "stream",
     "text": [
      "Begin group  1 training\n",
      "Begin group  2 training\n",
      "Begin group  3 training\n"
     ]
    },
    {
     "name": "stderr",
     "output_type": "stream",
     "text": [
      "Epoch:  60%|██████████████████████████████████████████████▊                               | 3/5 [00:00<00:00, 29.75it/s]"
     ]
    },
    {
     "name": "stdout",
     "output_type": "stream",
     "text": [
      "Begin group  4 training\n"
     ]
    },
    {
     "name": "stderr",
     "output_type": "stream",
     "text": [
      "                                                                                                                        \r"
     ]
    },
    {
     "name": "stdout",
     "output_type": "stream",
     "text": [
      "Group 0, clients ['f_00102', 'f_00162', 'f_00023', 'f_00052', 'f_00003', 'f_00172']\n",
      "Group 1 is empty.\n",
      "Group 2, clients ['f_00128']\n",
      "Group 3, clients ['f_00190', 'f_00149', 'f_00070', 'f_00019']\n",
      "Group 4, clients ['f_00196', 'f_00185', 'f_00077', 'f_00161', 'f_00176', 'f_00105', 'f_00126', 'f_00096', 'f_00015']\n",
      "The groups difference are: [0.0, 0.00023862553299958122, 0.00042491029828140015, 0.00043156190090842816, 0.000512509370612868]\n"
     ]
    },
    {
     "name": "stderr",
     "output_type": "stream",
     "text": [
      "Epoch:   0%|                                                                                      | 0/5 [00:00<?, ?it/s]"
     ]
    },
    {
     "name": "stdout",
     "output_type": "stream",
     "text": [
      "Group 0\n",
      "At round 158 accuracy: 0.7567221510883483\n",
      "At round 158 training accuracy: 0.7483286287327292\n",
      "At round 158 training loss: 0.754507090610233\n",
      "Group 2\n",
      "At round 158 accuracy: 0.8616352201257862\n",
      "At round 158 training accuracy: 0.8577878103837472\n",
      "At round 158 training loss: 0.5667923856400475\n",
      "Group 3\n",
      "At round 158 accuracy: 0.7675070028011205\n",
      "At round 158 training accuracy: 0.7580487804878049\n",
      "At round 158 training loss: 0.6743164113672768\n",
      "Group 4\n",
      "At round 158 accuracy: 0.580896686159844\n",
      "At round 158 training accuracy: 0.5794587092297016\n",
      "At round 158 training loss: 1.3508747664144296\n",
      "At round 158 mean test accuracy: 0.7416902650437748 mean train accuracy: 0.7359059822084957\n",
      "Begin group  0 training\n"
     ]
    },
    {
     "name": "stderr",
     "output_type": "stream",
     "text": [
      "Epoch:   0%|                                                                                      | 0/5 [00:00<?, ?it/s]"
     ]
    },
    {
     "name": "stdout",
     "output_type": "stream",
     "text": [
      "Begin group  2 training\n",
      "Begin group  3 training\n"
     ]
    },
    {
     "name": "stderr",
     "output_type": "stream",
     "text": [
      "Epoch:   0%|                                                                                      | 0/5 [00:00<?, ?it/s]"
     ]
    },
    {
     "name": "stdout",
     "output_type": "stream",
     "text": [
      "Begin group  4 training\n"
     ]
    },
    {
     "name": "stderr",
     "output_type": "stream",
     "text": [
      "                                                                                                                        \r"
     ]
    },
    {
     "name": "stdout",
     "output_type": "stream",
     "text": [
      "Group 0, clients ['f_00004', 'f_00014', 'f_00162', 'f_00022', 'f_00012', 'f_00184']\n",
      "Group 1, clients ['f_00131', 'f_00041']\n",
      "Group 2, clients ['f_00097', 'f_00128', 'f_00038']\n",
      "Group 3, clients ['f_00100', 'f_00020']\n",
      "Group 4, clients ['f_00061', 'f_00026', 'f_00165', 'f_00116', 'f_00176', 'f_00147', 'f_00151']\n",
      "The groups difference are: [0.0, 0.00016486135825788395, 0.0003774934386255868, 0.00042621772854667395, 0.0004613210913336774]\n"
     ]
    },
    {
     "name": "stderr",
     "output_type": "stream",
     "text": [
      "Epoch:   0%|                                                                                      | 0/5 [00:00<?, ?it/s]"
     ]
    },
    {
     "name": "stdout",
     "output_type": "stream",
     "text": [
      "Group 0\n",
      "At round 159 accuracy: 0.70550576184379\n",
      "At round 159 training accuracy: 0.711632744020205\n",
      "At round 159 training loss: 0.8784883527057236\n",
      "Group 1\n",
      "At round 159 accuracy: 0.9035087719298246\n",
      "At round 159 training accuracy: 0.9106957424714434\n",
      "At round 159 training loss: 0.4664368667830312\n",
      "Group 2\n",
      "At round 159 accuracy: 0.8616352201257862\n",
      "At round 159 training accuracy: 0.8638073739653875\n",
      "At round 159 training loss: 0.6348489278505582\n",
      "Group 3\n",
      "At round 159 accuracy: 0.8207282913165266\n",
      "At round 159 training accuracy: 0.816260162601626\n",
      "At round 159 training loss: 0.6168085441065998\n",
      "Group 4\n",
      "At round 159 accuracy: 0.7446393762183235\n",
      "At round 159 training accuracy: 0.7490168864214666\n",
      "At round 159 training loss: 0.891666893451103\n",
      "At round 159 mean test accuracy: 0.8072034842868502 mean train accuracy: 0.8102825818960258\n",
      "Begin group  0 training\n"
     ]
    },
    {
     "name": "stderr",
     "output_type": "stream",
     "text": [
      "Epoch:   0%|                                                                                      | 0/5 [00:00<?, ?it/s]"
     ]
    },
    {
     "name": "stdout",
     "output_type": "stream",
     "text": [
      "Begin group  1 training\n",
      "Begin group  2 training\n",
      "Begin group  3 training\n"
     ]
    },
    {
     "name": "stderr",
     "output_type": "stream",
     "text": [
      "                                                                                                                        \r"
     ]
    },
    {
     "name": "stdout",
     "output_type": "stream",
     "text": [
      "Begin group  4 training\n",
      "Group 0, clients ['f_00142', 'f_00082', 'f_00064', 'f_00054', 'f_00184']\n",
      "Group 1, clients ['f_00081', 'f_00141', 'f_00021']\n",
      "Group 2, clients ['f_00148', 'f_00178', 'f_00198', 'f_00058']\n",
      "Group 3, clients ['f_00149', 'f_00000', 'f_00139', 'f_00079']\n",
      "Group 4, clients ['f_00196', 'f_00106', 'f_00115', 'f_00057']\n",
      "The groups difference are: [0.0, 0.0002200827421164897, 0.0003093064840582471, 0.0004216517336987913, 0.00022653599975441807]\n"
     ]
    },
    {
     "name": "stderr",
     "output_type": "stream",
     "text": [
      "                                                                                                                        "
     ]
    },
    {
     "name": "stdout",
     "output_type": "stream",
     "text": [
      "Group 0\n",
      "At round 160 accuracy: 0.7797695262483995\n",
      "At round 160 training accuracy: 0.7775961967018273\n",
      "At round 160 training loss: 0.7619346709737379\n",
      "Group 1\n",
      "At round 160 accuracy: 0.9298245614035088\n",
      "At round 160 training accuracy: 0.9470404984423676\n",
      "At round 160 training loss: 0.42079517892092805\n",
      "Group 2\n",
      "At round 160 accuracy: 0.8616352201257862\n",
      "At round 160 training accuracy: 0.8224228743416102\n",
      "At round 160 training loss: 0.6620247020498984\n",
      "Group 3\n",
      "At round 160 accuracy: 0.7759103641456583\n",
      "At round 160 training accuracy: 0.8019512195121952\n",
      "At round 160 training loss: 0.7157805066864665\n",
      "Group 4\n",
      "At round 160 accuracy: 0.7368421052631579\n",
      "At round 160 training accuracy: 0.7552625491556789\n",
      "At round 160 training loss: 0.9401027700593839\n",
      "At round 160 mean test accuracy: 0.8167963554373022 mean train accuracy: 0.8208546676307359\n",
      "Begin group  0 training\n"
     ]
    },
    {
     "name": "stderr",
     "output_type": "stream",
     "text": [
      "Epoch:   0%|                                                                                      | 0/5 [00:00<?, ?it/s]"
     ]
    },
    {
     "name": "stdout",
     "output_type": "stream",
     "text": [
      "Begin group  1 training\n",
      "Begin group  2 training\n"
     ]
    },
    {
     "name": "stderr",
     "output_type": "stream",
     "text": [
      "Epoch:   0%|                                                                                      | 0/5 [00:00<?, ?it/s]"
     ]
    },
    {
     "name": "stdout",
     "output_type": "stream",
     "text": [
      "Begin group  3 training\n",
      "Begin group  4 training\n"
     ]
    },
    {
     "name": "stderr",
     "output_type": "stream",
     "text": [
      "                                                                                                                        \r"
     ]
    },
    {
     "name": "stdout",
     "output_type": "stream",
     "text": [
      "Group 0, clients ['f_00133', 'f_00193', 'f_00184', 'f_00124']\n",
      "Group 1, clients ['f_00101']\n",
      "Group 2, clients ['f_00097', 'f_00098', 'f_00068']\n",
      "Group 3, clients ['f_00180', 'f_00009', 'f_00039', 'f_00149', 'f_00040']\n",
      "Group 4, clients ['f_00055', 'f_00137', 'f_00175', 'f_00056', 'f_00117', 'f_00176', 'f_00075']\n",
      "The groups difference are: [0.0, 0.00019685620249465519, 0.00033021693677959263, 0.0003651865936926679, 0.00022726822082108633]\n"
     ]
    },
    {
     "name": "stderr",
     "output_type": "stream",
     "text": [
      "Epoch:   0%|                                                                                      | 0/5 [00:00<?, ?it/s]"
     ]
    },
    {
     "name": "stdout",
     "output_type": "stream",
     "text": [
      "Group 0\n",
      "At round 161 accuracy: 0.8028169014084507\n",
      "At round 161 training accuracy: 0.8171148417768533\n",
      "At round 161 training loss: 0.7349800455448019\n",
      "Group 1\n",
      "At round 161 accuracy: 0.9298245614035088\n",
      "At round 161 training accuracy: 0.9480789200415368\n",
      "At round 161 training loss: 0.3951016172441738\n",
      "Group 2\n",
      "At round 161 accuracy: 0.8364779874213837\n",
      "At round 161 training accuracy: 0.8344620015048909\n",
      "At round 161 training loss: 0.592265823871413\n",
      "Group 3\n",
      "At round 161 accuracy: 0.7815126050420168\n",
      "At round 161 training accuracy: 0.7635772357723577\n",
      "At round 161 training loss: 0.6706949555486198\n",
      "Group 4\n",
      "At round 161 accuracy: 0.6900584795321637\n",
      "At round 161 training accuracy: 0.7189451769604441\n",
      "At round 161 training loss: 0.907699627634168\n",
      "At round 161 mean test accuracy: 0.8081381069615048 mean train accuracy: 0.8164356352112166\n",
      "Begin group  0 training\n",
      "Begin group  1 training\n"
     ]
    },
    {
     "name": "stderr",
     "output_type": "stream",
     "text": [
      "Epoch:   0%|                                                                                      | 0/5 [00:00<?, ?it/s]"
     ]
    },
    {
     "name": "stdout",
     "output_type": "stream",
     "text": [
      "Begin group  2 training\n"
     ]
    },
    {
     "name": "stderr",
     "output_type": "stream",
     "text": [
      "                                                                                                                        "
     ]
    },
    {
     "name": "stdout",
     "output_type": "stream",
     "text": [
      "Begin group  3 training\n"
     ]
    },
    {
     "name": "stderr",
     "output_type": "stream",
     "text": [
      "Epoch:   0%|                                                                                      | 0/5 [00:00<?, ?it/s]"
     ]
    },
    {
     "name": "stdout",
     "output_type": "stream",
     "text": [
      "Begin group  4 training\n"
     ]
    },
    {
     "name": "stderr",
     "output_type": "stream",
     "text": [
      "                                                                                                                        \r"
     ]
    },
    {
     "name": "stdout",
     "output_type": "stream",
     "text": [
      "Group 0, clients ['f_00112', 'f_00152', 'f_00172', 'f_00184', 'f_00064', 'f_00004', 'f_00182']\n",
      "Group 1, clients ['f_00001', 'f_00121', 'f_00101']\n",
      "Group 2, clients ['f_00088', 'f_00018']\n",
      "Group 3, clients ['f_00050', 'f_00180', 'f_00010', 'f_00040', 'f_00060']\n",
      "Group 4, clients ['f_00025', 'f_00057', 'f_00136']\n",
      "The groups difference are: [0.0, 0.00035848270719140984, 0.0005320999994624653, 0.00048615989366274093, 0.0002337208987386319]\n"
     ]
    },
    {
     "name": "stderr",
     "output_type": "stream",
     "text": [
      "Epoch:   0%|                                                                                      | 0/5 [00:00<?, ?it/s]"
     ]
    },
    {
     "name": "stdout",
     "output_type": "stream",
     "text": [
      "Group 0\n",
      "At round 162 accuracy: 0.6389244558258643\n",
      "At round 162 training accuracy: 0.6419551329668697\n",
      "At round 162 training loss: 1.089325980164466\n",
      "Group 1\n",
      "At round 162 accuracy: 0.9298245614035088\n",
      "At round 162 training accuracy: 0.9376947040498442\n",
      "At round 162 training loss: 0.41010893690994593\n",
      "Group 2\n",
      "At round 162 accuracy: 0.8427672955974843\n",
      "At round 162 training accuracy: 0.8284424379232506\n",
      "At round 162 training loss: 0.5427956693238831\n",
      "Group 3\n",
      "At round 162 accuracy: 0.8235294117647058\n",
      "At round 162 training accuracy: 0.8065040650406504\n",
      "At round 162 training loss: 0.6212006451153174\n",
      "Group 4\n",
      "At round 162 accuracy: 0.7777777777777778\n",
      "At round 162 training accuracy: 0.7938931297709924\n",
      "At round 162 training loss: 0.850845937455332\n",
      "At round 162 mean test accuracy: 0.8025647004738683 mean train accuracy: 0.8016978939503215\n",
      "Begin group  0 training\n"
     ]
    },
    {
     "name": "stderr",
     "output_type": "stream",
     "text": [
      "Epoch:   0%|                                                                                      | 0/5 [00:00<?, ?it/s]"
     ]
    },
    {
     "name": "stdout",
     "output_type": "stream",
     "text": [
      "Begin group  1 training\n",
      "Begin group  2 training\n"
     ]
    },
    {
     "name": "stderr",
     "output_type": "stream",
     "text": [
      "Epoch:   0%|                                                                                      | 0/5 [00:00<?, ?it/s]"
     ]
    },
    {
     "name": "stdout",
     "output_type": "stream",
     "text": [
      "Begin group  3 training\n"
     ]
    },
    {
     "name": "stderr",
     "output_type": "stream",
     "text": [
      "                                                                                                                        \r"
     ]
    },
    {
     "name": "stdout",
     "output_type": "stream",
     "text": [
      "Begin group  4 training\n",
      "Group 0, clients ['f_00014', 'f_00112', 'f_00092', 'f_00024', 'f_00063', 'f_00032', 'f_00052', 'f_00082']\n",
      "Group 1, clients ['f_00031']\n",
      "Group 2, clients ['f_00058']\n",
      "Group 3, clients ['f_00020', 'f_00150', 'f_00079']\n",
      "Group 4, clients ['f_00007', 'f_00075', 'f_00166', 'f_00085', 'f_00186', 'f_00036', 'f_00157']\n",
      "The groups difference are: [0.0, 0.00023674101962711802, 0.0003889331371034199, 0.0003923134508009296, 0.0003418506873165139]\n"
     ]
    },
    {
     "name": "stderr",
     "output_type": "stream",
     "text": [
      "Epoch:   0%|                                                                                      | 0/5 [00:00<?, ?it/s]"
     ]
    },
    {
     "name": "stdout",
     "output_type": "stream",
     "text": [
      "Group 0\n",
      "At round 163 accuracy: 0.8104993597951344\n",
      "At round 163 training accuracy: 0.7917099985143367\n",
      "At round 163 training loss: 0.7223391003620039\n",
      "Group 1\n",
      "At round 163 accuracy: 0.9298245614035088\n",
      "At round 163 training accuracy: 0.9376947040498442\n",
      "At round 163 training loss: 0.3398669407096607\n",
      "Group 2\n",
      "At round 163 accuracy: 0.8113207547169812\n",
      "At round 163 training accuracy: 0.7983446200150489\n",
      "At round 163 training loss: 0.5856271017485762\n",
      "Group 3\n",
      "At round 163 accuracy: 0.7703081232492998\n",
      "At round 163 training accuracy: 0.8035772357723577\n",
      "At round 163 training loss: 0.71932550040687\n",
      "Group 4\n",
      "At round 163 accuracy: 0.6881091617933723\n",
      "At round 163 training accuracy: 0.7066851723340273\n",
      "At round 163 training loss: 0.9577741803958574\n",
      "At round 163 mean test accuracy: 0.8020123921916593 mean train accuracy: 0.8076023461371231\n",
      "Begin group  0 training\n"
     ]
    },
    {
     "name": "stderr",
     "output_type": "stream",
     "text": [
      "Epoch:   0%|                                                                                      | 0/5 [00:00<?, ?it/s]"
     ]
    },
    {
     "name": "stdout",
     "output_type": "stream",
     "text": [
      "Begin group  1 training\n",
      "Begin group  2 training\n",
      "Begin group  3 training\n",
      "Begin group  4 training\n"
     ]
    },
    {
     "name": "stderr",
     "output_type": "stream",
     "text": [
      "                                                                                                                        \r"
     ]
    },
    {
     "name": "stdout",
     "output_type": "stream",
     "text": [
      "Group 0, clients ['f_00174', 'f_00154', 'f_00003', 'f_00182', 'f_00194', 'f_00143', 'f_00044', 'f_00074', 'f_00123', 'f_00122']\n",
      "Group 1 is empty.\n",
      "Group 2, clients ['f_00058', 'f_00028']\n",
      "Group 3, clients ['f_00189', 'f_00060']\n",
      "Group 4, clients ['f_00185', 'f_00176', 'f_00175', 'f_00036', 'f_00197', 'f_00145']\n",
      "The groups difference are: [1.1102230246251565e-16, 0.00016019926721067002, 0.0003264821099258075, 0.00037174243037063626, 0.0003175892245818046]\n"
     ]
    },
    {
     "name": "stderr",
     "output_type": "stream",
     "text": [
      "Epoch:   0%|                                                                                      | 0/5 [00:00<?, ?it/s]"
     ]
    },
    {
     "name": "stdout",
     "output_type": "stream",
     "text": [
      "Group 0\n",
      "At round 164 accuracy: 0.7823303457106274\n",
      "At round 164 training accuracy: 0.7796761253899867\n",
      "At round 164 training loss: 0.7332542184875901\n",
      "Group 2\n",
      "At round 164 accuracy: 0.8616352201257862\n",
      "At round 164 training accuracy: 0.8442437923250564\n",
      "At round 164 training loss: 0.6205424720672309\n",
      "Group 3\n",
      "At round 164 accuracy: 0.8627450980392157\n",
      "At round 164 training accuracy: 0.8341463414634146\n",
      "At round 164 training loss: 0.6126881170466664\n",
      "Group 4\n",
      "At round 164 accuracy: 0.7270955165692008\n",
      "At round 164 training accuracy: 0.7591950034698126\n",
      "At round 164 training loss: 0.8747958408139962\n",
      "At round 164 mean test accuracy: 0.8084515451112075 mean train accuracy: 0.8043153156620675\n",
      "Begin group  0 training\n"
     ]
    },
    {
     "name": "stderr",
     "output_type": "stream",
     "text": [
      "Epoch:   0%|                                                                                      | 0/5 [00:00<?, ?it/s]"
     ]
    },
    {
     "name": "stdout",
     "output_type": "stream",
     "text": [
      "Begin group  2 training\n",
      "Begin group  3 training\n",
      "Begin group  4 training\n"
     ]
    },
    {
     "name": "stderr",
     "output_type": "stream",
     "text": [
      "                                                                                                                        \r"
     ]
    },
    {
     "name": "stdout",
     "output_type": "stream",
     "text": [
      "Group 0, clients ['f_00094', 'f_00092', 'f_00142', 'f_00062', 'f_00134', 'f_00042', 'f_00083', 'f_00132', 'f_00113', 'f_00112']\n",
      "Group 1 is empty.\n",
      "Group 2, clients ['f_00058']\n",
      "Group 3, clients ['f_00009', 'f_00060', 'f_00130', 'f_00080']\n",
      "Group 4, clients ['f_00165', 'f_00125', 'f_00036', 'f_00156', 'f_00106']\n",
      "The groups difference are: [0.0, 0.00020463210327603676, 0.00036409221178734796, 0.00047197444856528215, 0.0002700717148920173]\n"
     ]
    },
    {
     "name": "stderr",
     "output_type": "stream",
     "text": [
      "Epoch:   0%|                                                                                      | 0/5 [00:00<?, ?it/s]"
     ]
    },
    {
     "name": "stdout",
     "output_type": "stream",
     "text": [
      "Group 0\n",
      "At round 165 accuracy: 0.7836107554417413\n",
      "At round 165 training accuracy: 0.778933293715644\n",
      "At round 165 training loss: 0.7270237916230695\n",
      "Group 2\n",
      "At round 165 accuracy: 0.8238993710691824\n",
      "At round 165 training accuracy: 0.8246802106847254\n",
      "At round 165 training loss: 0.6020322320513298\n",
      "Group 3\n",
      "At round 165 accuracy: 0.7366946778711485\n",
      "At round 165 training accuracy: 0.7252032520325203\n",
      "At round 165 training loss: 0.7224499604760146\n",
      "Group 4\n",
      "At round 165 accuracy: 0.7777777777777778\n",
      "At round 165 training accuracy: 0.7957436965070552\n",
      "At round 165 training loss: 0.8641143282364839\n",
      "At round 165 mean test accuracy: 0.7804956455399625 mean train accuracy: 0.7811401132349862\n",
      "Begin group  0 training\n"
     ]
    },
    {
     "name": "stderr",
     "output_type": "stream",
     "text": [
      "Epoch:   0%|                                                                                      | 0/5 [00:00<?, ?it/s]"
     ]
    },
    {
     "name": "stdout",
     "output_type": "stream",
     "text": [
      "Begin group  2 training\n",
      "Begin group  3 training\n"
     ]
    },
    {
     "name": "stderr",
     "output_type": "stream",
     "text": [
      "                                                                                                                        \r"
     ]
    },
    {
     "name": "stdout",
     "output_type": "stream",
     "text": [
      "Begin group  4 training\n",
      "Group 0, clients ['f_00182', 'f_00054', 'f_00002', 'f_00114']\n",
      "Group 1, clients ['f_00181', 'f_00121', 'f_00111']\n",
      "Group 2, clients ['f_00169', 'f_00018', 'f_00098']\n",
      "Group 3, clients ['f_00159', 'f_00100', 'f_00170', 'f_00130', 'f_00069', 'f_00189']\n",
      "Group 4, clients ['f_00176', 'f_00087', 'f_00016', 'f_00066']\n",
      "The groups difference are: [0.0, 0.0003933272560570078, 0.0006734491304046797, 0.0006454453048631015, 0.0007496199221705968]\n"
     ]
    },
    {
     "name": "stderr",
     "output_type": "stream",
     "text": [
      "Epoch:   0%|                                                                                      | 0/5 [00:00<?, ?it/s]"
     ]
    },
    {
     "name": "stdout",
     "output_type": "stream",
     "text": [
      "Group 0\n",
      "At round 166 accuracy: 0.6696542893725992\n",
      "At round 166 training accuracy: 0.6880106967761105\n",
      "At round 166 training loss: 1.08765017227846\n",
      "Group 1\n",
      "At round 166 accuracy: 0.9035087719298246\n",
      "At round 166 training accuracy: 0.9325025960539979\n",
      "At round 166 training loss: 0.5516754481341856\n",
      "Group 2\n",
      "At round 166 accuracy: 0.8553459119496856\n",
      "At round 166 training accuracy: 0.836719337848006\n",
      "At round 166 training loss: 0.647954766735984\n",
      "Group 3\n",
      "At round 166 accuracy: 0.7815126050420168\n",
      "At round 166 training accuracy: 0.8003252032520325\n",
      "At round 166 training loss: 0.6621668627979309\n",
      "Group 4\n",
      "At round 166 accuracy: 0.7037037037037037\n",
      "At round 166 training accuracy: 0.7256534813786722\n",
      "At round 166 training loss: 0.9728938844808958\n",
      "At round 166 mean test accuracy: 0.782745056399566 mean train accuracy: 0.7966422630617639\n",
      "Begin group  0 training\n",
      "Begin group  1 training\n"
     ]
    },
    {
     "name": "stderr",
     "output_type": "stream",
     "text": [
      "Epoch:   0%|                                                                                      | 0/5 [00:00<?, ?it/s]"
     ]
    },
    {
     "name": "stdout",
     "output_type": "stream",
     "text": [
      "Begin group  2 training\n",
      "Begin group  3 training\n"
     ]
    },
    {
     "name": "stderr",
     "output_type": "stream",
     "text": [
      "Epoch:   0%|                                                                                      | 0/5 [00:00<?, ?it/s]"
     ]
    },
    {
     "name": "stdout",
     "output_type": "stream",
     "text": [
      "Begin group  4 training\n"
     ]
    },
    {
     "name": "stderr",
     "output_type": "stream",
     "text": [
      "                                                                                                                        \r"
     ]
    },
    {
     "name": "stdout",
     "output_type": "stream",
     "text": [
      "Group 0, clients ['f_00022', 'f_00033', 'f_00182', 'f_00073', 'f_00063']\n",
      "Group 1, clients ['f_00041']\n",
      "Group 2, clients ['f_00188', 'f_00198']\n",
      "Group 3, clients ['f_00130', 'f_00159', 'f_00199', 'f_00019']\n",
      "Group 4, clients ['f_00157', 'f_00095', 'f_00027', 'f_00096', 'f_00045', 'f_00145', 'f_00136', 'f_00037']\n",
      "The groups difference are: [0.0, 0.0002437476211845091, 0.0006028290273828452, 0.00047476407228630446, 0.0006025656253392242]\n"
     ]
    },
    {
     "name": "stderr",
     "output_type": "stream",
     "text": [
      "Epoch:  80%|██████████████████████████████████████████████████████████████▍               | 4/5 [00:00<00:00, 32.23it/s]"
     ]
    },
    {
     "name": "stdout",
     "output_type": "stream",
     "text": [
      "Group 0\n",
      "At round 167 accuracy: 0.6978233034571063\n",
      "At round 167 training accuracy: 0.7101470806715199\n",
      "At round 167 training loss: 0.9269391989755765\n",
      "Group 1\n",
      "At round 167 accuracy: 0.9298245614035088\n",
      "At round 167 training accuracy: 0.9501557632398754\n",
      "At round 167 training loss: 0.3411425626135566\n",
      "Group 2\n",
      "At round 167 accuracy: 0.8553459119496856\n",
      "At round 167 training accuracy: 0.8306997742663657\n",
      "At round 167 training loss: 0.5413899968179928\n",
      "Group 3\n",
      "At round 167 accuracy: 0.8431372549019608\n",
      "At round 167 training accuracy: 0.817560975609756\n",
      "At round 167 training loss: 0.5996550752089276\n",
      "Group 4\n",
      "At round 167 accuracy: 0.580896686159844\n",
      "At round 167 training accuracy: 0.613000231320842\n",
      "At round 167 training loss: 1.139844659409974\n",
      "At round 167 mean test accuracy: 0.7814055435744212 mean train accuracy: 0.7843127650216719\n",
      "Begin group  0 training\n"
     ]
    },
    {
     "name": "stderr",
     "output_type": "stream",
     "text": [
      "Epoch:   0%|                                                                                      | 0/5 [00:00<?, ?it/s]"
     ]
    },
    {
     "name": "stdout",
     "output_type": "stream",
     "text": [
      "Begin group  1 training\n",
      "Begin group  2 training\n",
      "Begin group  3 training\n"
     ]
    },
    {
     "name": "stderr",
     "output_type": "stream",
     "text": [
      "Epoch:   0%|                                                                                      | 0/5 [00:00<?, ?it/s]"
     ]
    },
    {
     "name": "stdout",
     "output_type": "stream",
     "text": [
      "Begin group  4 training\n"
     ]
    },
    {
     "name": "stderr",
     "output_type": "stream",
     "text": [
      "                                                                                                                        \r"
     ]
    },
    {
     "name": "stdout",
     "output_type": "stream",
     "text": [
      "Group 0, clients ['f_00093', 'f_00024', 'f_00104', 'f_00003', 'f_00114', 'f_00112', 'f_00122']\n",
      "Group 1, clients ['f_00091']\n",
      "Group 2, clients ['f_00068', 'f_00049', 'f_00098']\n",
      "Group 3, clients ['f_00190', 'f_00170', 'f_00100']\n",
      "Group 4, clients ['f_00175', 'f_00146', 'f_00125', 'f_00025', 'f_00155', 'f_00115']\n",
      "The groups difference are: [0.0, 0.00028905245786958744, 0.0005147407356325129, 0.0005856890736551934, 0.0004975154845968666]\n"
     ]
    },
    {
     "name": "stderr",
     "output_type": "stream",
     "text": [
      "Epoch:   0%|                                                                                      | 0/5 [00:00<?, ?it/s]"
     ]
    },
    {
     "name": "stdout",
     "output_type": "stream",
     "text": [
      "Group 0\n",
      "At round 168 accuracy: 0.7298335467349552\n",
      "At round 168 training accuracy: 0.7209924231169217\n",
      "At round 168 training loss: 0.8768673017543557\n",
      "Group 1\n",
      "At round 168 accuracy: 0.9298245614035088\n",
      "At round 168 training accuracy: 0.9335410176531672\n",
      "At round 168 training loss: 0.4149098271892821\n",
      "Group 2\n",
      "At round 168 accuracy: 0.8427672955974843\n",
      "At round 168 training accuracy: 0.8299473288186606\n",
      "At round 168 training loss: 0.5509290327875125\n",
      "Group 3\n",
      "At round 168 accuracy: 0.7086834733893558\n",
      "At round 168 training accuracy: 0.7034146341463414\n",
      "At round 168 training loss: 0.8478756585838348\n",
      "Group 4\n",
      "At round 168 accuracy: 0.695906432748538\n",
      "At round 168 training accuracy: 0.7138561184362711\n",
      "At round 168 training loss: 0.9015754879817018\n",
      "At round 168 mean test accuracy: 0.7814030619747685 mean train accuracy: 0.7803503044342724\n",
      "Begin group  0 training\n"
     ]
    },
    {
     "name": "stderr",
     "output_type": "stream",
     "text": [
      "Epoch:   0%|                                                                                      | 0/5 [00:00<?, ?it/s]"
     ]
    },
    {
     "name": "stdout",
     "output_type": "stream",
     "text": [
      "Begin group  1 training\n",
      "Begin group  2 training\n"
     ]
    },
    {
     "name": "stderr",
     "output_type": "stream",
     "text": [
      "Epoch:   0%|                                                                                      | 0/5 [00:00<?, ?it/s]"
     ]
    },
    {
     "name": "stdout",
     "output_type": "stream",
     "text": [
      "Begin group  3 training\n",
      "Begin group  4 training\n"
     ]
    },
    {
     "name": "stderr",
     "output_type": "stream",
     "text": [
      "                                                                                                                        \r"
     ]
    },
    {
     "name": "stdout",
     "output_type": "stream",
     "text": [
      "Group 0, clients ['f_00194', 'f_00114', 'f_00073']\n",
      "Group 1, clients ['f_00041', 'f_00091', 'f_00051']\n",
      "Group 2, clients ['f_00168', 'f_00198', 'f_00098', 'f_00008', 'f_00018']\n",
      "Group 3, clients ['f_00119', 'f_00160', 'f_00140', 'f_00110']\n",
      "Group 4, clients ['f_00177', 'f_00016', 'f_00015', 'f_00126', 'f_00007']\n",
      "The groups difference are: [0.0, 0.0002344412007651009, 0.0005427060069658207, 0.0004321877386807005, 0.0003866274117698687]\n"
     ]
    },
    {
     "name": "stderr",
     "output_type": "stream",
     "text": [
      "Epoch:   0%|                                                                                      | 0/5 [00:00<?, ?it/s]"
     ]
    },
    {
     "name": "stdout",
     "output_type": "stream",
     "text": [
      "Group 0\n",
      "At round 169 accuracy: 0.7682458386683739\n",
      "At round 169 training accuracy: 0.7660080225820829\n",
      "At round 169 training loss: 0.7402309664529104\n",
      "Group 1\n",
      "At round 169 accuracy: 0.9035087719298246\n",
      "At round 169 training accuracy: 0.9190031152647975\n",
      "At round 169 training loss: 0.34317494512594626\n",
      "Group 2\n",
      "At round 169 accuracy: 0.8301886792452831\n",
      "At round 169 training accuracy: 0.8254326561324304\n",
      "At round 169 training loss: 0.5444933786438855\n",
      "Group 3\n",
      "At round 169 accuracy: 0.803921568627451\n",
      "At round 169 training accuracy: 0.8094308943089431\n",
      "At round 169 training loss: 0.6572188680540255\n",
      "Group 4\n",
      "At round 169 accuracy: 0.7095516569200779\n",
      "At round 169 training accuracy: 0.7203331020124913\n",
      "At round 169 training loss: 1.0021500959320253\n",
      "At round 169 mean test accuracy: 0.8030833030782021 mean train accuracy: 0.8080415580601492\n",
      "Begin group  0 training\n"
     ]
    },
    {
     "name": "stderr",
     "output_type": "stream",
     "text": [
      "Epoch:   0%|                                                                                      | 0/5 [00:00<?, ?it/s]"
     ]
    },
    {
     "name": "stdout",
     "output_type": "stream",
     "text": [
      "Begin group  1 training\n",
      "Begin group  2 training\n"
     ]
    },
    {
     "name": "stderr",
     "output_type": "stream",
     "text": [
      "Epoch:  60%|██████████████████████████████████████████████▊                               | 3/5 [00:00<00:00, 28.21it/s]"
     ]
    },
    {
     "name": "stdout",
     "output_type": "stream",
     "text": [
      "Begin group  3 training\n"
     ]
    },
    {
     "name": "stderr",
     "output_type": "stream",
     "text": [
      "Epoch:   0%|                                                                                      | 0/5 [00:00<?, ?it/s]"
     ]
    },
    {
     "name": "stdout",
     "output_type": "stream",
     "text": [
      "Begin group  4 training\n"
     ]
    },
    {
     "name": "stderr",
     "output_type": "stream",
     "text": [
      "                                                                                                                        \r"
     ]
    },
    {
     "name": "stdout",
     "output_type": "stream",
     "text": [
      "Group 0, clients ['f_00173', 'f_00032', 'f_00113', 'f_00123', 'f_00064', 'f_00164', 'f_00053']\n",
      "Group 1, clients ['f_00091']\n",
      "Group 2, clients ['f_00198', 'f_00118']\n",
      "Group 3, clients ['f_00179', 'f_00140', 'f_00100']\n",
      "Group 4, clients ['f_00137', 'f_00005', 'f_00007', 'f_00105', 'f_00136', 'f_00035', 'f_00156']\n",
      "The groups difference are: [0.0, 0.00039617292570492957, 0.0005950296589916082, 0.0006064766603451899, 0.00038188684023943154]\n"
     ]
    },
    {
     "name": "stderr",
     "output_type": "stream",
     "text": [
      "Epoch:   0%|                                                                                      | 0/5 [00:00<?, ?it/s]"
     ]
    },
    {
     "name": "stdout",
     "output_type": "stream",
     "text": [
      "Group 0\n",
      "At round 170 accuracy: 0.7234314980793854\n",
      "At round 170 training accuracy: 0.7000445699004606\n",
      "At round 170 training loss: 0.8945831212232698\n",
      "Group 1\n",
      "At round 170 accuracy: 0.9298245614035088\n",
      "At round 170 training accuracy: 0.9480789200415368\n",
      "At round 170 training loss: 0.34551800035427666\n",
      "Group 2\n",
      "At round 170 accuracy: 0.8553459119496856\n",
      "At round 170 training accuracy: 0.8337095560571859\n",
      "At round 170 training loss: 0.5338997779437884\n",
      "Group 3\n",
      "At round 170 accuracy: 0.803921568627451\n",
      "At round 170 training accuracy: 0.8087804878048781\n",
      "At round 170 training loss: 0.6439197992115486\n",
      "Group 4\n",
      "At round 170 accuracy: 0.7407407407407407\n",
      "At round 170 training accuracy: 0.748322923895443\n",
      "At round 170 training loss: 0.8769986493124775\n",
      "At round 170 mean test accuracy: 0.8106528561601544 mean train accuracy: 0.8077872915399009\n",
      "Begin group  0 training\n"
     ]
    },
    {
     "name": "stderr",
     "output_type": "stream",
     "text": [
      "Epoch:   0%|                                                                                      | 0/5 [00:00<?, ?it/s]"
     ]
    },
    {
     "name": "stdout",
     "output_type": "stream",
     "text": [
      "Begin group  1 training\n",
      "Begin group  2 training\n"
     ]
    },
    {
     "name": "stderr",
     "output_type": "stream",
     "text": [
      "Epoch:   0%|                                                                                      | 0/5 [00:00<?, ?it/s]"
     ]
    },
    {
     "name": "stdout",
     "output_type": "stream",
     "text": [
      "Begin group  3 training\n",
      "Begin group  4 training\n"
     ]
    },
    {
     "name": "stderr",
     "output_type": "stream",
     "text": [
      "                                                                                                                        \r"
     ]
    },
    {
     "name": "stdout",
     "output_type": "stream",
     "text": [
      "Group 0, clients ['f_00102', 'f_00083', 'f_00142', 'f_00164']\n",
      "Group 1, clients ['f_00091', 'f_00121']\n",
      "Group 2 is empty.\n",
      "Group 3, clients ['f_00030', 'f_00019', 'f_00129', 'f_00190']\n",
      "Group 4, clients ['f_00117', 'f_00127', 'f_00151', 'f_00196', 'f_00116', 'f_00087', 'f_00096', 'f_00166', 'f_00161', 'f_00176']\n",
      "The groups difference are: [1.1102230246251565e-16, 0.00046734788008728767, 0.0006535153935018911, 0.0005985105598035334, 0.0003650264256158664]\n"
     ]
    },
    {
     "name": "stderr",
     "output_type": "stream",
     "text": [
      "Epoch:   0%|                                                                                      | 0/5 [00:00<?, ?it/s]"
     ]
    },
    {
     "name": "stdout",
     "output_type": "stream",
     "text": [
      "Group 0\n",
      "At round 171 accuracy: 0.734955185659411\n",
      "At round 171 training accuracy: 0.7052443916208587\n",
      "At round 171 training loss: 0.9233947042157189\n",
      "Group 1\n",
      "At round 171 accuracy: 0.9298245614035088\n",
      "At round 171 training accuracy: 0.9491173416407062\n",
      "At round 171 training loss: 0.3354312825178184\n",
      "Group 3\n",
      "At round 171 accuracy: 0.8095238095238095\n",
      "At round 171 training accuracy: 0.8084552845528455\n",
      "At round 171 training loss: 0.6427720585295824\n",
      "Group 4\n",
      "At round 171 accuracy: 0.7251461988304093\n",
      "At round 171 training accuracy: 0.7642840619939857\n",
      "At round 171 training loss: 0.893871310213333\n",
      "At round 171 mean test accuracy: 0.7998624388542848 mean train accuracy: 0.8067752699520991\n",
      "Begin group  0 training\n"
     ]
    },
    {
     "name": "stderr",
     "output_type": "stream",
     "text": [
      "Epoch:   0%|                                                                                      | 0/5 [00:00<?, ?it/s]"
     ]
    },
    {
     "name": "stdout",
     "output_type": "stream",
     "text": [
      "Begin group  1 training\n"
     ]
    },
    {
     "name": "stderr",
     "output_type": "stream",
     "text": [
      "Epoch:   0%|                                                                                      | 0/5 [00:00<?, ?it/s]"
     ]
    },
    {
     "name": "stdout",
     "output_type": "stream",
     "text": [
      "Begin group  3 training\n",
      "Begin group  4 training\n"
     ]
    },
    {
     "name": "stderr",
     "output_type": "stream",
     "text": [
      "                                                                                                                        \r"
     ]
    },
    {
     "name": "stdout",
     "output_type": "stream",
     "text": [
      "Group 0, clients ['f_00173', 'f_00133', 'f_00102', 'f_00044', 'f_00043', 'f_00134', 'f_00024', 'f_00032', 'f_00113']\n",
      "Group 1, clients ['f_00031']\n",
      "Group 2, clients ['f_00049', 'f_00098']\n",
      "Group 3, clients ['f_00069', 'f_00129', 'f_00139', 'f_00150']\n",
      "Group 4, clients ['f_00096', 'f_00146', 'f_00065', 'f_00046']\n",
      "The groups difference are: [0.0, 0.00040080252365060076, 0.00041725338263332024, 0.00044882589785333327, 0.00046363890013956244]\n"
     ]
    },
    {
     "name": "stderr",
     "output_type": "stream",
     "text": [
      "Epoch:   0%|                                                                                      | 0/5 [00:00<?, ?it/s]"
     ]
    },
    {
     "name": "stdout",
     "output_type": "stream",
     "text": [
      "Group 0\n",
      "At round 172 accuracy: 0.7592829705505761\n",
      "At round 172 training accuracy: 0.7560540781458921\n",
      "At round 172 training loss: 0.721560241314972\n",
      "Group 1\n",
      "At round 172 accuracy: 0.9298245614035088\n",
      "At round 172 training accuracy: 0.9501557632398754\n",
      "At round 172 training loss: 0.3245163161311442\n",
      "Group 2\n",
      "At round 172 accuracy: 0.8301886792452831\n",
      "At round 172 training accuracy: 0.8088788562829194\n",
      "At round 172 training loss: 0.6011553999398147\n",
      "Group 3\n",
      "At round 172 accuracy: 0.876750700280112\n",
      "At round 172 training accuracy: 0.8601626016260162\n",
      "At round 172 training loss: 0.5820004780408813\n",
      "Group 4\n",
      "At round 172 accuracy: 0.6257309941520468\n",
      "At round 172 training accuracy: 0.6497802452000925\n",
      "At round 172 training loss: 1.0169364291017264\n",
      "At round 172 mean test accuracy: 0.8043555811263053 mean train accuracy: 0.8050063088989592\n",
      "Begin group  0 training\n"
     ]
    },
    {
     "name": "stderr",
     "output_type": "stream",
     "text": [
      "Epoch:   0%|                                                                                      | 0/5 [00:00<?, ?it/s]"
     ]
    },
    {
     "name": "stdout",
     "output_type": "stream",
     "text": [
      "Begin group  1 training\n",
      "Begin group  2 training\n",
      "Begin group  3 training\n"
     ]
    },
    {
     "name": "stderr",
     "output_type": "stream",
     "text": [
      "                                                                                                                        \r"
     ]
    },
    {
     "name": "stdout",
     "output_type": "stream",
     "text": [
      "Begin group  4 training\n",
      "Group 0, clients ['f_00174', 'f_00183', 'f_00044', 'f_00043', 'f_00012', 'f_00063', 'f_00024']\n",
      "Group 1, clients ['f_00101', 'f_00111', 'f_00001']\n",
      "Group 2, clients ['f_00008', 'f_00198']\n",
      "Group 3, clients ['f_00110', 'f_00070', 'f_00009', 'f_00050']\n",
      "Group 4, clients ['f_00006', 'f_00056', 'f_00156', 'f_00125']\n",
      "The groups difference are: [0.0, 0.0002019362350607068, 0.0005294289598872792, 0.000402539642611055, 0.0003358362380884161]\n"
     ]
    },
    {
     "name": "stderr",
     "output_type": "stream",
     "text": [
      "                                                                                                                        "
     ]
    },
    {
     "name": "stdout",
     "output_type": "stream",
     "text": [
      "Group 0\n",
      "At round 173 accuracy: 0.8143405889884763\n",
      "At round 173 training accuracy: 0.8079037290150052\n",
      "At round 173 training loss: 0.6801698347059654\n",
      "Group 1\n",
      "At round 173 accuracy: 0.9298245614035088\n",
      "At round 173 training accuracy: 0.9480789200415368\n",
      "At round 173 training loss: 0.37479164538787035\n",
      "Group 2\n",
      "At round 173 accuracy: 0.8616352201257862\n",
      "At round 173 training accuracy: 0.8480060195635817\n",
      "At round 173 training loss: 0.5472967977179362\n",
      "Group 3\n",
      "At round 173 accuracy: 0.7142857142857143\n",
      "At round 173 training accuracy: 0.7213008130081301\n",
      "At round 173 training loss: 0.7376666533268564\n",
      "Group 4\n",
      "At round 173 accuracy: 0.7095516569200779\n",
      "At round 173 training accuracy: 0.7332870691649318\n",
      "At round 173 training loss: 0.897850716428406\n",
      "At round 173 mean test accuracy: 0.8059275483447128 mean train accuracy: 0.8117153101586372\n",
      "Begin group  0 training\n"
     ]
    },
    {
     "name": "stderr",
     "output_type": "stream",
     "text": [
      "Epoch:   0%|                                                                                      | 0/5 [00:00<?, ?it/s]"
     ]
    },
    {
     "name": "stdout",
     "output_type": "stream",
     "text": [
      "Begin group  1 training\n",
      "Begin group  2 training\n",
      "Begin group  3 training\n"
     ]
    },
    {
     "name": "stderr",
     "output_type": "stream",
     "text": [
      "                                                                                                                        \r"
     ]
    },
    {
     "name": "stdout",
     "output_type": "stream",
     "text": [
      "Begin group  4 training\n",
      "Group 0, clients ['f_00123', 'f_00103', 'f_00042', 'f_00053', 'f_00112', 'f_00102', 'f_00134']\n",
      "Group 1, clients ['f_00021', 'f_00011', 'f_00101']\n",
      "Group 2, clients ['f_00059']\n",
      "Group 3, clients ['f_00180', 'f_00129', 'f_00079', 'f_00070', 'f_00030', 'f_00120']\n",
      "Group 4, clients ['f_00035', 'f_00096', 'f_00147']\n",
      "The groups difference are: [0.0, 0.00021040638587954685, 0.00036641005674975524, 0.0003825571439974862, 0.0002710657470410549]\n"
     ]
    },
    {
     "name": "stderr",
     "output_type": "stream",
     "text": [
      "Epoch:   0%|                                                                                      | 0/5 [00:00<?, ?it/s]"
     ]
    },
    {
     "name": "stdout",
     "output_type": "stream",
     "text": [
      "Group 0\n",
      "At round 174 accuracy: 0.8181818181818182\n",
      "At round 174 training accuracy: 0.8151834794235626\n",
      "At round 174 training loss: 0.7022928781680129\n",
      "Group 1\n",
      "At round 174 accuracy: 0.9298245614035088\n",
      "At round 174 training accuracy: 0.9480789200415368\n",
      "At round 174 training loss: 0.375217405326765\n",
      "Group 2\n",
      "At round 174 accuracy: 0.8427672955974843\n",
      "At round 174 training accuracy: 0.8291948833709556\n",
      "At round 174 training loss: 0.5488432324452899\n",
      "Group 3\n",
      "At round 174 accuracy: 0.7927170868347339\n",
      "At round 174 training accuracy: 0.8091056910569105\n",
      "At round 174 training loss: 0.6360935820699707\n",
      "Group 4\n",
      "At round 174 accuracy: 0.6705653021442495\n",
      "At round 174 training accuracy: 0.6983576220217441\n",
      "At round 174 training loss: 0.9867898876912997\n",
      "At round 174 mean test accuracy: 0.810811212832359 mean train accuracy: 0.8199841191829419\n",
      "Begin group  0 training\n"
     ]
    },
    {
     "name": "stderr",
     "output_type": "stream",
     "text": [
      "Epoch:   0%|                                                                                      | 0/5 [00:00<?, ?it/s]"
     ]
    },
    {
     "name": "stdout",
     "output_type": "stream",
     "text": [
      "Begin group  1 training\n",
      "Begin group  2 training\n",
      "Begin group  3 training\n"
     ]
    },
    {
     "name": "stderr",
     "output_type": "stream",
     "text": [
      "                                                                                                                        \r"
     ]
    },
    {
     "name": "stdout",
     "output_type": "stream",
     "text": [
      "Begin group  4 training\n",
      "Group 0, clients ['f_00002', 'f_00044', 'f_00182', 'f_00152']\n",
      "Group 1 is empty.\n",
      "Group 2, clients ['f_00178', 'f_00198']\n",
      "Group 3, clients ['f_00170', 'f_00139', 'f_00070', 'f_00029', 'f_00030']\n",
      "Group 4, clients ['f_00126', 'f_00087', 'f_00186', 'f_00167', 'f_00045', 'f_00016', 'f_00017', 'f_00127', 'f_00115']\n",
      "The groups difference are: [0.0, 0.0002574174640587179, 0.00041947160465061195, 0.0005144556267629996, 0.0004023194169993083]\n"
     ]
    },
    {
     "name": "stderr",
     "output_type": "stream",
     "text": [
      "Epoch:   0%|                                                                                      | 0/5 [00:00<?, ?it/s]"
     ]
    },
    {
     "name": "stdout",
     "output_type": "stream",
     "text": [
      "Group 0\n",
      "At round 175 accuracy: 0.7490396927016645\n",
      "At round 175 training accuracy: 0.7449116030307532\n",
      "At round 175 training loss: 0.7486506965198979\n",
      "Group 2\n",
      "At round 175 accuracy: 0.6918238993710691\n",
      "At round 175 training accuracy: 0.6674191121143717\n",
      "At round 175 training loss: 0.906087628224454\n",
      "Group 3\n",
      "At round 175 accuracy: 0.8095238095238095\n",
      "At round 175 training accuracy: 0.8094308943089431\n",
      "At round 175 training loss: 0.6280828757305456\n",
      "Group 4\n",
      "At round 175 accuracy: 0.7290448343079922\n",
      "At round 175 training accuracy: 0.7480916030534351\n",
      "At round 175 training loss: 0.921387469757494\n",
      "At round 175 mean test accuracy: 0.7448580589761339 mean train accuracy: 0.7424633031268758\n",
      "Begin group  0 training\n"
     ]
    },
    {
     "name": "stderr",
     "output_type": "stream",
     "text": [
      "Epoch:   0%|                                                                                      | 0/5 [00:00<?, ?it/s]"
     ]
    },
    {
     "name": "stdout",
     "output_type": "stream",
     "text": [
      "Begin group  2 training\n",
      "Begin group  3 training\n"
     ]
    },
    {
     "name": "stderr",
     "output_type": "stream",
     "text": [
      "Epoch:   0%|                                                                                      | 0/5 [00:00<?, ?it/s]"
     ]
    },
    {
     "name": "stdout",
     "output_type": "stream",
     "text": [
      "Begin group  4 training\n"
     ]
    },
    {
     "name": "stderr",
     "output_type": "stream",
     "text": [
      "                                                                                                                        \r"
     ]
    },
    {
     "name": "stdout",
     "output_type": "stream",
     "text": [
      "Group 0, clients ['f_00072', 'f_00162', 'f_00132', 'f_00032', 'f_00094']\n",
      "Group 1, clients ['f_00171', 'f_00071']\n",
      "Group 2, clients ['f_00118', 'f_00188', 'f_00198', 'f_00028', 'f_00097']\n",
      "Group 3, clients ['f_00180', 'f_00029', 'f_00039', 'f_00160']\n",
      "Group 4, clients ['f_00197', 'f_00056', 'f_00185', 'f_00087']\n",
      "The groups difference are: [1.1102230246251565e-16, 0.00013834402415668912, 0.00042385049091664406, 0.0003785265049447428, 0.00046361503798464376]\n"
     ]
    },
    {
     "name": "stderr",
     "output_type": "stream",
     "text": [
      "Epoch:   0%|                                                                                      | 0/5 [00:00<?, ?it/s]"
     ]
    },
    {
     "name": "stdout",
     "output_type": "stream",
     "text": [
      "Group 0\n",
      "At round 176 accuracy: 0.706786171574904\n",
      "At round 176 training accuracy: 0.7150497697221809\n",
      "At round 176 training loss: 0.8623792869147495\n",
      "Group 1\n",
      "At round 176 accuracy: 0.9298245614035088\n",
      "At round 176 training accuracy: 0.952232606438214\n",
      "At round 176 training loss: 0.43980208410652255\n",
      "Group 2\n",
      "At round 176 accuracy: 0.8490566037735849\n",
      "At round 176 training accuracy: 0.8322046651617758\n",
      "At round 176 training loss: 0.5605016168882472\n",
      "Group 3\n",
      "At round 176 accuracy: 0.8319327731092437\n",
      "At round 176 training accuracy: 0.8188617886178862\n",
      "At round 176 training loss: 0.6023005366713051\n",
      "Group 4\n",
      "At round 176 accuracy: 0.6413255360623782\n",
      "At round 176 training accuracy: 0.6190145732130465\n",
      "At round 176 training loss: 1.0529833279520777\n",
      "At round 176 mean test accuracy: 0.791785129184724 mean train accuracy: 0.7874726806306207\n",
      "Begin group  0 training\n"
     ]
    },
    {
     "name": "stderr",
     "output_type": "stream",
     "text": [
      "Epoch:   0%|                                                                                      | 0/5 [00:00<?, ?it/s]"
     ]
    },
    {
     "name": "stdout",
     "output_type": "stream",
     "text": [
      "Begin group  1 training\n",
      "Begin group  2 training\n"
     ]
    },
    {
     "name": "stderr",
     "output_type": "stream",
     "text": [
      "Epoch:   0%|                                                                                      | 0/5 [00:00<?, ?it/s]"
     ]
    },
    {
     "name": "stdout",
     "output_type": "stream",
     "text": [
      "Begin group  3 training\n"
     ]
    },
    {
     "name": "stderr",
     "output_type": "stream",
     "text": [
      "Epoch:   0%|                                                                                      | 0/5 [00:00<?, ?it/s]"
     ]
    },
    {
     "name": "stdout",
     "output_type": "stream",
     "text": [
      "Begin group  4 training\n"
     ]
    },
    {
     "name": "stderr",
     "output_type": "stream",
     "text": [
      "                                                                                                                        \r"
     ]
    },
    {
     "name": "stdout",
     "output_type": "stream",
     "text": [
      "Group 0, clients ['f_00003', 'f_00033', 'f_00194', 'f_00154', 'f_00144', 'f_00173', 'f_00014']\n",
      "Group 1, clients ['f_00111']\n",
      "Group 2, clients ['f_00089', 'f_00018']\n",
      "Group 3, clients ['f_00100', 'f_00069', 'f_00189']\n",
      "Group 4, clients ['f_00165', 'f_00037', 'f_00055', 'f_00105', 'f_00126', 'f_00017', 'f_00175']\n",
      "The groups difference are: [1.1102230246251565e-16, 0.0001561485496370807, 0.00041710169953523835, 0.00038711474689767655, 0.0004221777048976083]\n"
     ]
    },
    {
     "name": "stderr",
     "output_type": "stream",
     "text": [
      "Epoch:   0%|                                                                                      | 0/5 [00:00<?, ?it/s]"
     ]
    },
    {
     "name": "stdout",
     "output_type": "stream",
     "text": [
      "Group 0\n",
      "At round 177 accuracy: 0.7592829705505761\n",
      "At round 177 training accuracy: 0.758876838508394\n",
      "At round 177 training loss: 0.7652571642935462\n",
      "Group 1\n",
      "At round 177 accuracy: 0.9035087719298246\n",
      "At round 177 training accuracy: 0.8961578400830738\n",
      "At round 177 training loss: 0.39133178890679854\n",
      "Group 2\n",
      "At round 177 accuracy: 0.8553459119496856\n",
      "At round 177 training accuracy: 0.8517682468021068\n",
      "At round 177 training loss: 0.5281817210940511\n",
      "Group 3\n",
      "At round 177 accuracy: 0.7899159663865546\n",
      "At round 177 training accuracy: 0.8055284552845529\n",
      "At round 177 training loss: 0.6340388661477624\n",
      "Group 4\n",
      "At round 177 accuracy: 0.6003898635477583\n",
      "At round 177 training accuracy: 0.5956511681702521\n",
      "At round 177 training loss: 1.1981164680472023\n",
      "At round 177 mean test accuracy: 0.7816886968728798 mean train accuracy: 0.7815965097696759\n",
      "Begin group  0 training\n"
     ]
    },
    {
     "name": "stderr",
     "output_type": "stream",
     "text": [
      "Epoch:   0%|                                                                                      | 0/5 [00:00<?, ?it/s]"
     ]
    },
    {
     "name": "stdout",
     "output_type": "stream",
     "text": [
      "Begin group  1 training\n",
      "Begin group  2 training\n",
      "Begin group  3 training\n"
     ]
    },
    {
     "name": "stderr",
     "output_type": "stream",
     "text": [
      "Epoch:   0%|                                                                                      | 0/5 [00:00<?, ?it/s]"
     ]
    },
    {
     "name": "stdout",
     "output_type": "stream",
     "text": [
      "Begin group  4 training\n"
     ]
    },
    {
     "name": "stderr",
     "output_type": "stream",
     "text": [
      "                                                                                                                        \r"
     ]
    },
    {
     "name": "stdout",
     "output_type": "stream",
     "text": [
      "Group 0, clients ['f_00053', 'f_00022', 'f_00103', 'f_00122']\n",
      "Group 1, clients ['f_00001', 'f_00071']\n",
      "Group 2, clients ['f_00138', 'f_00188', 'f_00038', 'f_00097']\n",
      "Group 3, clients ['f_00069', 'f_00099']\n",
      "Group 4, clients ['f_00087', 'f_00166', 'f_00137', 'f_00115', 'f_00195', 'f_00126', 'f_00157', 'f_00045']\n",
      "The groups difference are: [0.0, 0.00037350727656437765, 0.0004162759409240824, 0.0005152316705074877, 0.00026922526285577675]\n"
     ]
    },
    {
     "name": "stderr",
     "output_type": "stream",
     "text": [
      "Epoch:  60%|██████████████████████████████████████████████▊                               | 3/5 [00:00<00:00, 22.30it/s]"
     ]
    },
    {
     "name": "stdout",
     "output_type": "stream",
     "text": [
      "Group 0\n",
      "At round 178 accuracy: 0.6542893725992317\n",
      "At round 178 training accuracy: 0.6618630218392513\n",
      "At round 178 training loss: 1.028215791673119\n",
      "Group 1\n",
      "At round 178 accuracy: 0.9298245614035088\n",
      "At round 178 training accuracy: 0.9356178608515057\n",
      "At round 178 training loss: 0.37504394688215087\n",
      "Group 2\n",
      "At round 178 accuracy: 0.7987421383647799\n",
      "At round 178 training accuracy: 0.8171557562076749\n",
      "At round 178 training loss: 0.6396477339947645\n",
      "Group 3\n",
      "At round 178 accuracy: 0.7871148459383753\n",
      "At round 178 training accuracy: 0.7609756097560976\n",
      "At round 178 training loss: 0.6205333984382754\n",
      "Group 4\n",
      "At round 178 accuracy: 0.7758284600389863\n",
      "At round 178 training accuracy: 0.7827897293546149\n",
      "At round 178 training loss: 0.8284793799739179\n",
      "At round 178 mean test accuracy: 0.7891598756689764 mean train accuracy: 0.7916803956018289\n",
      "Begin group  0 training\n"
     ]
    },
    {
     "name": "stderr",
     "output_type": "stream",
     "text": [
      "Epoch:   0%|                                                                                      | 0/5 [00:00<?, ?it/s]"
     ]
    },
    {
     "name": "stdout",
     "output_type": "stream",
     "text": [
      "Begin group  1 training\n",
      "Begin group  2 training\n",
      "Begin group  3 training\n"
     ]
    },
    {
     "name": "stderr",
     "output_type": "stream",
     "text": [
      "Epoch:   0%|                                                                                      | 0/5 [00:00<?, ?it/s]"
     ]
    },
    {
     "name": "stdout",
     "output_type": "stream",
     "text": [
      "Begin group  4 training\n"
     ]
    },
    {
     "name": "stderr",
     "output_type": "stream",
     "text": [
      "                                                                                                                        \r"
     ]
    },
    {
     "name": "stdout",
     "output_type": "stream",
     "text": [
      "Group 0, clients ['f_00034', 'f_00134', 'f_00154', 'f_00192', 'f_00064', 'f_00083', 'f_00024', 'f_00122']\n",
      "Group 1, clients ['f_00031', 'f_00141']\n",
      "Group 2, clients ['f_00008', 'f_00098']\n",
      "Group 3, clients ['f_00150', 'f_00109']\n",
      "Group 4, clients ['f_00065', 'f_00187', 'f_00067', 'f_00185', 'f_00007', 'f_00177']\n",
      "The groups difference are: [0.0, 0.00022886733659621683, 0.0004308807448065721, 0.0005215792598975977, 0.0004997430739953623]\n"
     ]
    },
    {
     "name": "stderr",
     "output_type": "stream",
     "text": [
      "Epoch:   0%|                                                                                      | 0/5 [00:00<?, ?it/s]"
     ]
    },
    {
     "name": "stdout",
     "output_type": "stream",
     "text": [
      "Group 0\n",
      "At round 179 accuracy: 0.7387964148527529\n",
      "At round 179 training accuracy: 0.7371861536175902\n",
      "At round 179 training loss: 0.7556049694917192\n",
      "Group 1\n",
      "At round 179 accuracy: 0.9298245614035088\n",
      "At round 179 training accuracy: 0.9345794392523364\n",
      "At round 179 training loss: 0.3762017555325945\n",
      "Group 2\n",
      "At round 179 accuracy: 0.8742138364779874\n",
      "At round 179 training accuracy: 0.8570353649360422\n",
      "At round 179 training loss: 0.5862934385546174\n",
      "Group 3\n",
      "At round 179 accuracy: 0.7058823529411765\n",
      "At round 179 training accuracy: 0.7008130081300813\n",
      "At round 179 training loss: 0.8138162672035093\n",
      "Group 4\n",
      "At round 179 accuracy: 0.6276803118908382\n",
      "At round 179 training accuracy: 0.6287300485773768\n",
      "At round 179 training loss: 1.0575915508018774\n",
      "At round 179 mean test accuracy: 0.7752794955132528 mean train accuracy: 0.7716688029026854\n",
      "Begin group  0 training\n"
     ]
    },
    {
     "name": "stderr",
     "output_type": "stream",
     "text": [
      "Epoch:  80%|██████████████████████████████████████████████████████████████▍               | 4/5 [00:00<00:00, 35.26it/s]"
     ]
    },
    {
     "name": "stdout",
     "output_type": "stream",
     "text": [
      "Begin group  1 training\n",
      "Begin group  2 training\n"
     ]
    },
    {
     "name": "stderr",
     "output_type": "stream",
     "text": [
      "Epoch:   0%|                                                                                      | 0/5 [00:00<?, ?it/s]"
     ]
    },
    {
     "name": "stdout",
     "output_type": "stream",
     "text": [
      "Begin group  3 training\n",
      "Begin group  4 training\n"
     ]
    },
    {
     "name": "stderr",
     "output_type": "stream",
     "text": [
      "                                                                                                                        \r"
     ]
    },
    {
     "name": "stdout",
     "output_type": "stream",
     "text": [
      "Group 0, clients ['f_00132', 'f_00103', 'f_00102', 'f_00014', 'f_00173', 'f_00072']\n",
      "Group 1, clients ['f_00001', 'f_00041', 'f_00141']\n",
      "Group 2 is empty.\n",
      "Group 3, clients ['f_00020']\n",
      "Group 4, clients ['f_00057', 'f_00106', 'f_00061', 'f_00195', 'f_00165', 'f_00015', 'f_00187', 'f_00161', 'f_00017', 'f_00116']\n",
      "The groups difference are: [1.1102230246251565e-16, 0.00020184754951857453, 0.0005156417570586491, 0.00031229595983006675, 0.000435536182503915]\n"
     ]
    },
    {
     "name": "stderr",
     "output_type": "stream",
     "text": [
      "Epoch:  80%|██████████████████████████████████████████████████████████████▍               | 4/5 [00:00<00:00, 34.84it/s]"
     ]
    },
    {
     "name": "stdout",
     "output_type": "stream",
     "text": [
      "Group 0\n",
      "At round 180 accuracy: 0.8169014084507042\n",
      "At round 180 training accuracy: 0.8132521170702719\n",
      "At round 180 training loss: 0.6810398247121189\n",
      "Group 1\n",
      "At round 180 accuracy: 0.9298245614035088\n",
      "At round 180 training accuracy: 0.9491173416407062\n",
      "At round 180 training loss: 0.39783492981459123\n",
      "Group 3\n",
      "At round 180 accuracy: 0.8515406162464986\n",
      "At round 180 training accuracy: 0.8247154471544715\n",
      "At round 180 training loss: 0.6162738888244319\n",
      "Group 4\n",
      "At round 180 accuracy: 0.5984405458089669\n",
      "At round 180 training accuracy: 0.5972704140643071\n",
      "At round 180 training loss: 1.1589924998231544\n",
      "At round 180 mean test accuracy: 0.7991767829774197 mean train accuracy: 0.7960888299824392\n",
      "Begin group  0 training\n"
     ]
    },
    {
     "name": "stderr",
     "output_type": "stream",
     "text": [
      "Epoch:   0%|                                                                                      | 0/5 [00:00<?, ?it/s]"
     ]
    },
    {
     "name": "stdout",
     "output_type": "stream",
     "text": [
      "Begin group  1 training\n",
      "Begin group  3 training\n",
      "Begin group  4 training\n"
     ]
    },
    {
     "name": "stderr",
     "output_type": "stream",
     "text": [
      "                                                                                                                        \r"
     ]
    },
    {
     "name": "stdout",
     "output_type": "stream",
     "text": [
      "Group 0, clients ['f_00073', 'f_00064', 'f_00114', 'f_00024', 'f_00052', 'f_00013', 'f_00142', 'f_00084', 'f_00083', 'f_00002', 'f_00104', 'f_00154', 'f_00004']\n",
      "Group 1 is empty.\n",
      "Group 2 is empty.\n",
      "Group 3, clients ['f_00189']\n",
      "Group 4, clients ['f_00195', 'f_00137', 'f_00176', 'f_00116', 'f_00166', 'f_00066']\n",
      "The groups difference are: [0.0, 0.0001504525852678018, 0.0003581514886336068, 0.0003187868356318013, 0.00030988384968710925]\n"
     ]
    },
    {
     "name": "stderr",
     "output_type": "stream",
     "text": [
      "Epoch:   0%|                                                                                      | 0/5 [00:00<?, ?it/s]"
     ]
    },
    {
     "name": "stdout",
     "output_type": "stream",
     "text": [
      "Group 0\n",
      "At round 181 accuracy: 0.7912932138284251\n",
      "At round 181 training accuracy: 0.7695736146189274\n",
      "At round 181 training loss: 0.7160995409297759\n",
      "Group 3\n",
      "At round 181 accuracy: 0.8011204481792717\n",
      "At round 181 training accuracy: 0.8136585365853658\n",
      "At round 181 training loss: 0.6392431528103061\n",
      "Group 4\n",
      "At round 181 accuracy: 0.7875243664717348\n",
      "At round 181 training accuracy: 0.7915799213509137\n",
      "At round 181 training loss: 0.8650009169116385\n",
      "At round 181 mean test accuracy: 0.7933126761598106 mean train accuracy: 0.7916040241850689\n",
      "Begin group  0 training\n"
     ]
    },
    {
     "name": "stderr",
     "output_type": "stream",
     "text": [
      "Epoch:   0%|                                                                                      | 0/5 [00:00<?, ?it/s]"
     ]
    },
    {
     "name": "stdout",
     "output_type": "stream",
     "text": [
      "Begin group  3 training\n",
      "Begin group  4 training\n"
     ]
    },
    {
     "name": "stderr",
     "output_type": "stream",
     "text": [
      "                                                                                                                        \r"
     ]
    },
    {
     "name": "stdout",
     "output_type": "stream",
     "text": [
      "Group 0, clients ['f_00164', 'f_00104', 'f_00134', 'f_00194', 'f_00192']\n",
      "Group 1, clients ['f_00041', 'f_00011', 'f_00171', 'f_00181']\n",
      "Group 2, clients ['f_00048', 'f_00138']\n",
      "Group 3, clients ['f_00149', 'f_00070', 'f_00159', 'f_00120']\n",
      "Group 4, clients ['f_00045', 'f_00176', 'f_00146', 'f_00155', 'f_00166']\n",
      "The groups difference are: [0.0, 0.00015236183347777654, 0.00025559636385596995, 0.00047027667756016633, 0.0003259915692399584]\n"
     ]
    },
    {
     "name": "stderr",
     "output_type": "stream",
     "text": [
      "Epoch:  60%|██████████████████████████████████████████████▊                               | 3/5 [00:00<00:00, 23.31it/s]"
     ]
    },
    {
     "name": "stdout",
     "output_type": "stream",
     "text": [
      "Group 0\n",
      "At round 182 accuracy: 0.795134443021767\n",
      "At round 182 training accuracy: 0.7908186005051255\n",
      "At round 182 training loss: 0.6735232981640523\n",
      "Group 1\n",
      "At round 182 accuracy: 0.9298245614035088\n",
      "At round 182 training accuracy: 0.9345794392523364\n",
      "At round 182 training loss: 0.5042621749274332\n",
      "Group 2\n",
      "At round 182 accuracy: 0.8553459119496856\n",
      "At round 182 training accuracy: 0.8532731376975169\n",
      "At round 182 training loss: 0.6580666881292901\n",
      "Group 3\n",
      "At round 182 accuracy: 0.7058823529411765\n",
      "At round 182 training accuracy: 0.7050406504065041\n",
      "At round 182 training loss: 0.8382977180267737\n",
      "Group 4\n",
      "At round 182 accuracy: 0.7212475633528265\n",
      "At round 182 training accuracy: 0.7270414064307195\n",
      "At round 182 training loss: 0.8528240112458119\n",
      "At round 182 mean test accuracy: 0.8014869665337929 mean train accuracy: 0.8021506468584405\n",
      "Begin group  0 training\n"
     ]
    },
    {
     "name": "stderr",
     "output_type": "stream",
     "text": [
      "Epoch:   0%|                                                                                      | 0/5 [00:00<?, ?it/s]"
     ]
    },
    {
     "name": "stdout",
     "output_type": "stream",
     "text": [
      "Begin group  1 training\n",
      "Begin group  2 training\n",
      "Begin group  3 training\n"
     ]
    },
    {
     "name": "stderr",
     "output_type": "stream",
     "text": [
      "                                                                                                                        \r"
     ]
    },
    {
     "name": "stdout",
     "output_type": "stream",
     "text": [
      "Begin group  4 training\n",
      "Group 0, clients ['f_00154', 'f_00124']\n",
      "Group 1 is empty.\n",
      "Group 2, clients ['f_00158', 'f_00049', 'f_00059', 'f_00089', 'f_00058', 'f_00198', 'f_00108']\n",
      "Group 3, clients ['f_00100', 'f_00000', 'f_00069', 'f_00139', 'f_00130', 'f_00020', 'f_00170']\n",
      "Group 4, clients ['f_00076', 'f_00055', 'f_00036', 'f_00126']\n",
      "The groups difference are: [1.1102230246251565e-16, 0.00041369968782800637, 0.0004247144202247366, 0.0005540001585123688, 0.00023665963830388215]\n"
     ]
    },
    {
     "name": "stderr",
     "output_type": "stream",
     "text": [
      "Epoch:   0%|                                                                                      | 0/5 [00:00<?, ?it/s]"
     ]
    },
    {
     "name": "stdout",
     "output_type": "stream",
     "text": [
      "Group 0\n",
      "At round 183 accuracy: 0.6120358514724712\n",
      "At round 183 training accuracy: 0.6064477789332937\n",
      "At round 183 training loss: 1.1647913281160627\n",
      "Group 2\n",
      "At round 183 accuracy: 0.8490566037735849\n",
      "At round 183 training accuracy: 0.8329571106094809\n",
      "At round 183 training loss: 0.588928894049427\n",
      "Group 3\n",
      "At round 183 accuracy: 0.8207282913165266\n",
      "At round 183 training accuracy: 0.8061788617886179\n",
      "At round 183 training loss: 0.5838984051371009\n",
      "Group 4\n",
      "At round 183 accuracy: 0.7251461988304093\n",
      "At round 183 training accuracy: 0.7524866990515845\n",
      "At round 183 training loss: 0.8950344049045396\n",
      "At round 183 mean test accuracy: 0.7517417363482481 mean train accuracy: 0.7495176125957442\n",
      "Begin group  0 training\n",
      "Begin group  2 training\n"
     ]
    },
    {
     "name": "stderr",
     "output_type": "stream",
     "text": [
      "Epoch:   0%|                                                                                      | 0/5 [00:00<?, ?it/s]"
     ]
    },
    {
     "name": "stdout",
     "output_type": "stream",
     "text": [
      "Begin group  3 training\n"
     ]
    },
    {
     "name": "stderr",
     "output_type": "stream",
     "text": [
      "Epoch:   0%|                                                                                      | 0/5 [00:00<?, ?it/s]"
     ]
    },
    {
     "name": "stdout",
     "output_type": "stream",
     "text": [
      "Begin group  4 training\n"
     ]
    },
    {
     "name": "stderr",
     "output_type": "stream",
     "text": [
      "                                                                                                                        \r"
     ]
    },
    {
     "name": "stdout",
     "output_type": "stream",
     "text": [
      "Group 0, clients ['f_00014', 'f_00063', 'f_00194', 'f_00104']\n",
      "Group 1, clients ['f_00181']\n",
      "Group 2, clients ['f_00078', 'f_00138', 'f_00198', 'f_00188', 'f_00097']\n",
      "Group 3, clients ['f_00000', 'f_00139', 'f_00039', 'f_00079']\n",
      "Group 4, clients ['f_00165', 'f_00126', 'f_00066', 'f_00036', 'f_00186', 'f_00105']\n",
      "The groups difference are: [-2.220446049250313e-16, 0.0003225118297816021, 0.0004466357229599982, 0.0004995676834524954, 0.00036211299464505853]\n"
     ]
    },
    {
     "name": "stderr",
     "output_type": "stream",
     "text": [
      "Epoch:   0%|                                                                                      | 0/5 [00:00<?, ?it/s]"
     ]
    },
    {
     "name": "stdout",
     "output_type": "stream",
     "text": [
      "Group 0\n",
      "At round 184 accuracy: 0.5723431498079385\n",
      "At round 184 training accuracy: 0.5565294904174714\n",
      "At round 184 training loss: 1.338148022150501\n",
      "Group 1\n",
      "At round 184 accuracy: 0.9298245614035088\n",
      "At round 184 training accuracy: 0.9376947040498442\n",
      "At round 184 training loss: 0.531294663190099\n",
      "Group 2\n",
      "At round 184 accuracy: 0.8616352201257862\n",
      "At round 184 training accuracy: 0.8623024830699775\n",
      "At round 184 training loss: 0.5695797195552972\n",
      "Group 3\n",
      "At round 184 accuracy: 0.8403361344537815\n",
      "At round 184 training accuracy: 0.8204878048780487\n",
      "At round 184 training loss: 0.5952405724777439\n",
      "Group 4\n",
      "At round 184 accuracy: 0.6627680311890838\n",
      "At round 184 training accuracy: 0.6923432801295397\n",
      "At round 184 training loss: 1.0767271505402052\n",
      "At round 184 mean test accuracy: 0.7733814193960198 mean train accuracy: 0.7738715525089764\n",
      "Begin group  0 training\n"
     ]
    },
    {
     "name": "stderr",
     "output_type": "stream",
     "text": [
      "Epoch:   0%|                                                                                      | 0/5 [00:00<?, ?it/s]"
     ]
    },
    {
     "name": "stdout",
     "output_type": "stream",
     "text": [
      "Begin group  1 training\n",
      "Begin group  2 training\n",
      "Begin group  3 training\n"
     ]
    },
    {
     "name": "stderr",
     "output_type": "stream",
     "text": [
      "                                                                                                                        "
     ]
    },
    {
     "name": "stdout",
     "output_type": "stream",
     "text": [
      "Begin group  4 training\n"
     ]
    },
    {
     "name": "stderr",
     "output_type": "stream",
     "text": [
      "                                                                                                                        \r"
     ]
    },
    {
     "name": "stdout",
     "output_type": "stream",
     "text": [
      "Group 0, clients ['f_00122', 'f_00034', 'f_00024', 'f_00124']\n",
      "Group 1, clients ['f_00141', 'f_00191', 'f_00081', 'f_00101']\n",
      "Group 2, clients ['f_00198']\n",
      "Group 3, clients ['f_00070', 'f_00039', 'f_00179', 'f_00050', 'f_00069']\n",
      "Group 4, clients ['f_00175', 'f_00036', 'f_00016', 'f_00015', 'f_00145', 'f_00095']\n",
      "The groups difference are: [0.0, 0.0003690701677204755, 0.00037422184428925753, 0.000439098818765582, 0.00025227374938596725]\n"
     ]
    },
    {
     "name": "stderr",
     "output_type": "stream",
     "text": [
      "Epoch:   0%|                                                                                      | 0/5 [00:00<?, ?it/s]"
     ]
    },
    {
     "name": "stdout",
     "output_type": "stream",
     "text": [
      "Group 0\n",
      "At round 185 accuracy: 0.6235595390524968\n",
      "At round 185 training accuracy: 0.6175902540484326\n",
      "At round 185 training loss: 1.1894437591276168\n",
      "Group 1\n",
      "At round 185 accuracy: 0.9298245614035088\n",
      "At round 185 training accuracy: 0.9241952232606438\n",
      "At round 185 training loss: 0.42647887805045454\n",
      "Group 2\n",
      "At round 185 accuracy: 0.8616352201257862\n",
      "At round 185 training accuracy: 0.8382242287434161\n",
      "At round 185 training loss: 0.5726847633596109\n",
      "Group 3\n",
      "At round 185 accuracy: 0.7366946778711485\n",
      "At round 185 training accuracy: 0.7346341463414634\n",
      "At round 185 training loss: 0.7067404830843452\n",
      "Group 4\n",
      "At round 185 accuracy: 0.7056530214424951\n",
      "At round 185 training accuracy: 0.7238029146426093\n",
      "At round 185 training loss: 0.9336729805047055\n",
      "At round 185 mean test accuracy: 0.771473403979087 mean train accuracy: 0.7676893534073131\n",
      "Begin group  0 training\n"
     ]
    },
    {
     "name": "stderr",
     "output_type": "stream",
     "text": [
      "Epoch:   0%|                                                                                      | 0/5 [00:00<?, ?it/s]"
     ]
    },
    {
     "name": "stdout",
     "output_type": "stream",
     "text": [
      "Begin group  1 training\n",
      "Begin group  2 training\n",
      "Begin group  3 training\n"
     ]
    },
    {
     "name": "stderr",
     "output_type": "stream",
     "text": [
      "                                                                                                                        "
     ]
    },
    {
     "name": "stdout",
     "output_type": "stream",
     "text": [
      "Begin group  4 training\n"
     ]
    },
    {
     "name": "stderr",
     "output_type": "stream",
     "text": [
      "\r"
     ]
    },
    {
     "name": "stdout",
     "output_type": "stream",
     "text": [
      "Group 0, clients ['f_00054', 'f_00064', 'f_00102']\n",
      "Group 1, clients ['f_00131', 'f_00041', 'f_00031', 'f_00001']\n",
      "Group 2, clients ['f_00028', 'f_00049', 'f_00138']\n",
      "Group 3, clients ['f_00160', 'f_00040', 'f_00130', 'f_00019']\n",
      "Group 4, clients ['f_00087', 'f_00167', 'f_00037', 'f_00061', 'f_00151', 'f_00006']\n",
      "The groups difference are: [1.1102230246251565e-16, 0.00022030335288936165, 0.00038787856645139396, 0.0003958953522349429, 0.0002741483775585696]\n"
     ]
    },
    {
     "name": "stderr",
     "output_type": "stream",
     "text": [
      "Epoch:  80%|██████████████████████████████████████████████████████████████▍               | 4/5 [00:00<00:00, 36.05it/s]"
     ]
    },
    {
     "name": "stdout",
     "output_type": "stream",
     "text": [
      "Group 0\n",
      "At round 186 accuracy: 0.7592829705505761\n",
      "At round 186 training accuracy: 0.7664537215866885\n",
      "At round 186 training loss: 0.7096975662966502\n",
      "Group 1\n",
      "At round 186 accuracy: 0.9298245614035088\n",
      "At round 186 training accuracy: 0.9376947040498442\n",
      "At round 186 training loss: 0.3687482624781837\n",
      "Group 2\n",
      "At round 186 accuracy: 0.8427672955974843\n",
      "At round 186 training accuracy: 0.8329571106094809\n",
      "At round 186 training loss: 0.5512152945887693\n",
      "Group 3\n",
      "At round 186 accuracy: 0.8375350140056023\n",
      "At round 186 training accuracy: 0.8055284552845529\n",
      "At round 186 training loss: 0.5976822741535621\n",
      "Group 4\n",
      "At round 186 accuracy: 0.6920077972709552\n",
      "At round 186 training accuracy: 0.6967383761276891\n",
      "At round 186 training loss: 0.9937946973314667\n",
      "At round 186 mean test accuracy: 0.8122835277656254 mean train accuracy: 0.8078744735316512\n",
      "Begin group  0 training\n"
     ]
    },
    {
     "name": "stderr",
     "output_type": "stream",
     "text": [
      "Epoch:   0%|                                                                                      | 0/5 [00:00<?, ?it/s]"
     ]
    },
    {
     "name": "stdout",
     "output_type": "stream",
     "text": [
      "Begin group  1 training\n",
      "Begin group  2 training\n",
      "Begin group  3 training\n"
     ]
    },
    {
     "name": "stderr",
     "output_type": "stream",
     "text": [
      "Epoch:   0%|                                                                                      | 0/5 [00:00<?, ?it/s]"
     ]
    },
    {
     "name": "stdout",
     "output_type": "stream",
     "text": [
      "Begin group  4 training\n"
     ]
    },
    {
     "name": "stderr",
     "output_type": "stream",
     "text": [
      "                                                                                                                        \r"
     ]
    },
    {
     "name": "stdout",
     "output_type": "stream",
     "text": [
      "Group 0, clients ['f_00044', 'f_00062', 'f_00183', 'f_00023', 'f_00102', 'f_00052', 'f_00193', 'f_00192']\n",
      "Group 1 is empty.\n",
      "Group 2, clients ['f_00108', 'f_00049', 'f_00198']\n",
      "Group 3, clients ['f_00020', 'f_00109', 'f_00080', 'f_00120', 'f_00070']\n",
      "Group 4, clients ['f_00176', 'f_00136', 'f_00046', 'f_00076']\n",
      "The groups difference are: [0.0, 0.00014515986335417175, 0.00036755697825896494, 0.0004157466444604241, 0.00048658076425356356]\n"
     ]
    },
    {
     "name": "stderr",
     "output_type": "stream",
     "text": [
      "Epoch:   0%|                                                                                      | 0/5 [00:00<?, ?it/s]"
     ]
    },
    {
     "name": "stdout",
     "output_type": "stream",
     "text": [
      "Group 0\n",
      "At round 187 accuracy: 0.7183098591549296\n",
      "At round 187 training accuracy: 0.731689199227455\n",
      "At round 187 training loss: 0.7912719098123571\n",
      "Group 2\n",
      "At round 187 accuracy: 0.8616352201257862\n",
      "At round 187 training accuracy: 0.8653122648607976\n",
      "At round 187 training loss: 0.5828608202476803\n",
      "Group 3\n",
      "At round 187 accuracy: 0.7927170868347339\n",
      "At round 187 training accuracy: 0.8052032520325203\n",
      "At round 187 training loss: 0.6268398389389844\n",
      "Group 4\n",
      "At round 187 accuracy: 0.6101364522417154\n",
      "At round 187 training accuracy: 0.5998149433263937\n",
      "At round 187 training loss: 1.171718630178808\n",
      "At round 187 mean test accuracy: 0.7456996545892912 mean train accuracy: 0.7505049148617916\n",
      "Begin group  0 training\n"
     ]
    },
    {
     "name": "stderr",
     "output_type": "stream",
     "text": [
      "                                                                                                                        "
     ]
    },
    {
     "name": "stdout",
     "output_type": "stream",
     "text": [
      "Begin group  2 training\n",
      "Begin group  3 training\n"
     ]
    },
    {
     "name": "stderr",
     "output_type": "stream",
     "text": [
      "Epoch:   0%|                                                                                      | 0/5 [00:00<?, ?it/s]"
     ]
    },
    {
     "name": "stdout",
     "output_type": "stream",
     "text": [
      "Begin group  4 training\n"
     ]
    },
    {
     "name": "stderr",
     "output_type": "stream",
     "text": [
      "                                                                                                                        \r"
     ]
    },
    {
     "name": "stdout",
     "output_type": "stream",
     "text": [
      "Group 0, clients ['f_00163', 'f_00152', 'f_00082', 'f_00073', 'f_00083', 'f_00003', 'f_00004']\n",
      "Group 1, clients ['f_00191', 'f_00091']\n",
      "Group 2, clients ['f_00169', 'f_00158']\n",
      "Group 3, clients ['f_00060', 'f_00109', 'f_00079', 'f_00129', 'f_00010', 'f_00100']\n",
      "Group 4, clients ['f_00015', 'f_00087', 'f_00061']\n",
      "The groups difference are: [0.0, 0.00032344483020563253, 0.000725000244433005, 0.0006163114744487386, 0.0008489920039518317]\n"
     ]
    },
    {
     "name": "stderr",
     "output_type": "stream",
     "text": [
      "Epoch:   0%|                                                                                      | 0/5 [00:00<?, ?it/s]"
     ]
    },
    {
     "name": "stdout",
     "output_type": "stream",
     "text": [
      "Group 0\n",
      "At round 188 accuracy: 0.646606914212548\n",
      "At round 188 training accuracy: 0.6648343485366216\n",
      "At round 188 training loss: 1.1943749313438794\n",
      "Group 1\n",
      "At round 188 accuracy: 0.9035087719298246\n",
      "At round 188 training accuracy: 0.9325025960539979\n",
      "At round 188 training loss: 0.45573061701540885\n",
      "Group 2\n",
      "At round 188 accuracy: 0.8238993710691824\n",
      "At round 188 training accuracy: 0.8231753197893152\n",
      "At round 188 training loss: 0.5477628164761402\n",
      "Group 3\n",
      "At round 188 accuracy: 0.7703081232492998\n",
      "At round 188 training accuracy: 0.8\n",
      "At round 188 training loss: 0.6961939499436355\n",
      "Group 4\n",
      "At round 188 accuracy: 0.6900584795321637\n",
      "At round 188 training accuracy: 0.7138561184362711\n",
      "At round 188 training loss: 1.1300085783832028\n",
      "At round 188 mean test accuracy: 0.7668763319986038 mean train accuracy: 0.7868736765632413\n",
      "Begin group  0 training\n"
     ]
    },
    {
     "name": "stderr",
     "output_type": "stream",
     "text": [
      "                                                                                                                        "
     ]
    },
    {
     "name": "stdout",
     "output_type": "stream",
     "text": [
      "Begin group  1 training\n",
      "Begin group  2 training\n"
     ]
    },
    {
     "name": "stderr",
     "output_type": "stream",
     "text": [
      "Epoch:   0%|                                                                                      | 0/5 [00:00<?, ?it/s]"
     ]
    },
    {
     "name": "stdout",
     "output_type": "stream",
     "text": [
      "Begin group  3 training\n"
     ]
    },
    {
     "name": "stderr",
     "output_type": "stream",
     "text": [
      "Epoch:  80%|██████████████████████████████████████████████████████████████▍               | 4/5 [00:00<00:00, 31.16it/s]"
     ]
    },
    {
     "name": "stdout",
     "output_type": "stream",
     "text": [
      "Begin group  4 training\n"
     ]
    },
    {
     "name": "stderr",
     "output_type": "stream",
     "text": [
      "                                                                                                                        \r"
     ]
    },
    {
     "name": "stdout",
     "output_type": "stream",
     "text": [
      "Group 0, clients ['f_00043', 'f_00142', 'f_00002', 'f_00114', 'f_00163', 'f_00053', 'f_00012', 'f_00133']\n",
      "Group 1, clients ['f_00091', 'f_00111', 'f_00071']\n",
      "Group 2, clients ['f_00198']\n",
      "Group 3, clients ['f_00130', 'f_00180']\n",
      "Group 4, clients ['f_00075', 'f_00027', 'f_00037', 'f_00136', 'f_00077', 'f_00106']\n",
      "The groups difference are: [0.0, 0.00028671451492201516, 0.00048694855661335357, 0.0004862599326819206, 0.0005350201287047662]\n"
     ]
    },
    {
     "name": "stderr",
     "output_type": "stream",
     "text": [
      "Epoch:   0%|                                                                                      | 0/5 [00:00<?, ?it/s]"
     ]
    },
    {
     "name": "stdout",
     "output_type": "stream",
     "text": [
      "Group 0\n",
      "At round 189 accuracy: 0.7516005121638925\n",
      "At round 189 training accuracy: 0.7386718169662755\n",
      "At round 189 training loss: 0.7405064953832848\n",
      "Group 1\n",
      "At round 189 accuracy: 0.9298245614035088\n",
      "At round 189 training accuracy: 0.9376947040498442\n",
      "At round 189 training loss: 0.3373241980530144\n",
      "Group 2\n",
      "At round 189 accuracy: 0.8113207547169812\n",
      "At round 189 training accuracy: 0.8254326561324304\n",
      "At round 189 training loss: 0.5924333343611704\n",
      "Group 3\n",
      "At round 189 accuracy: 0.8319327731092437\n",
      "At round 189 training accuracy: 0.8149593495934959\n",
      "At round 189 training loss: 0.5760203109039523\n",
      "Group 4\n",
      "At round 189 accuracy: 0.6296296296296297\n",
      "At round 189 training accuracy: 0.6160074022669443\n",
      "At round 189 training loss: 1.029818482188585\n",
      "At round 189 mean test accuracy: 0.7908616462046512 mean train accuracy: 0.7865531858017981\n",
      "Begin group  0 training\n"
     ]
    },
    {
     "name": "stderr",
     "output_type": "stream",
     "text": [
      "                                                                                                                        "
     ]
    },
    {
     "name": "stdout",
     "output_type": "stream",
     "text": [
      "Begin group  1 training\n",
      "Begin group  2 training\n",
      "Begin group  3 training\n"
     ]
    },
    {
     "name": "stderr",
     "output_type": "stream",
     "text": [
      "Epoch:   0%|                                                                                      | 0/5 [00:00<?, ?it/s]"
     ]
    },
    {
     "name": "stdout",
     "output_type": "stream",
     "text": [
      "Begin group  4 training\n"
     ]
    },
    {
     "name": "stderr",
     "output_type": "stream",
     "text": [
      "                                                                                                                        \r"
     ]
    },
    {
     "name": "stdout",
     "output_type": "stream",
     "text": [
      "Group 0, clients ['f_00024', 'f_00092', 'f_00014', 'f_00023']\n",
      "Group 1, clients ['f_00001']\n",
      "Group 2, clients ['f_00028', 'f_00018', 'f_00008']\n",
      "Group 3, clients ['f_00139', 'f_00010', 'f_00019']\n",
      "Group 4, clients ['f_00056', 'f_00107', 'f_00006', 'f_00055', 'f_00116', 'f_00046', 'f_00017', 'f_00045', 'f_00105']\n",
      "The groups difference are: [0.0, 0.0002839744697702429, 0.0004599416952894009, 0.0005263698976395448, 0.00045683174927924064]\n"
     ]
    },
    {
     "name": "stderr",
     "output_type": "stream",
     "text": [
      "Epoch:   0%|                                                                                      | 0/5 [00:00<?, ?it/s]"
     ]
    },
    {
     "name": "stdout",
     "output_type": "stream",
     "text": [
      "Group 0\n",
      "At round 190 accuracy: 0.7733674775928298\n",
      "At round 190 training accuracy: 0.7688307829445847\n",
      "At round 190 training loss: 0.7400753777725986\n",
      "Group 1\n",
      "At round 190 accuracy: 0.9298245614035088\n",
      "At round 190 training accuracy: 0.9491173416407062\n",
      "At round 190 training loss: 0.3237695924991883\n",
      "Group 2\n",
      "At round 190 accuracy: 0.8616352201257862\n",
      "At round 190 training accuracy: 0.8427389014296464\n",
      "At round 190 training loss: 0.5425459462911048\n",
      "Group 3\n",
      "At round 190 accuracy: 0.7759103641456583\n",
      "At round 190 training accuracy: 0.8071544715447154\n",
      "At round 190 training loss: 0.6786206455153179\n",
      "Group 4\n",
      "At round 190 accuracy: 0.6627680311890838\n",
      "At round 190 training accuracy: 0.6948878093916262\n",
      "At round 190 training loss: 0.8594791709673562\n",
      "At round 190 mean test accuracy: 0.8007011308913734 mean train accuracy: 0.8125458613902558\n",
      "Begin group  0 training\n"
     ]
    },
    {
     "name": "stderr",
     "output_type": "stream",
     "text": [
      "Epoch:   0%|                                                                                      | 0/5 [00:00<?, ?it/s]"
     ]
    },
    {
     "name": "stdout",
     "output_type": "stream",
     "text": [
      "Begin group  1 training\n",
      "Begin group  2 training\n",
      "Begin group  3 training\n"
     ]
    },
    {
     "name": "stderr",
     "output_type": "stream",
     "text": [
      "Epoch:   0%|                                                                                      | 0/5 [00:00<?, ?it/s]"
     ]
    },
    {
     "name": "stdout",
     "output_type": "stream",
     "text": [
      "Begin group  4 training\n"
     ]
    },
    {
     "name": "stderr",
     "output_type": "stream",
     "text": [
      "                                                                                                                        \r"
     ]
    },
    {
     "name": "stdout",
     "output_type": "stream",
     "text": [
      "Group 0, clients ['f_00142', 'f_00002', 'f_00103', 'f_00093']\n",
      "Group 1, clients ['f_00111', 'f_00121', 'f_00081']\n",
      "Group 2, clients ['f_00028', 'f_00169', 'f_00059']\n",
      "Group 3, clients ['f_00090', 'f_00110', 'f_00170', 'f_00189', 'f_00139']\n",
      "Group 4, clients ['f_00125', 'f_00045', 'f_00076', 'f_00136', 'f_00027']\n",
      "The groups difference are: [1.1102230246251565e-16, 0.0002338968793293983, 0.00035668796929178015, 0.00043772790192875277, 0.00026849078337609633]\n"
     ]
    },
    {
     "name": "stderr",
     "output_type": "stream",
     "text": [
      "Epoch:   0%|                                                                                      | 0/5 [00:00<?, ?it/s]"
     ]
    },
    {
     "name": "stdout",
     "output_type": "stream",
     "text": [
      "Group 0\n",
      "At round 191 accuracy: 0.7848911651728553\n",
      "At round 191 training accuracy: 0.7731392066557718\n",
      "At round 191 training loss: 0.7122722928927108\n",
      "Group 1\n",
      "At round 191 accuracy: 0.9210526315789473\n",
      "At round 191 training accuracy: 0.9293873312564901\n",
      "At round 191 training loss: 0.384482507935318\n",
      "Group 2\n",
      "At round 191 accuracy: 0.8616352201257862\n",
      "At round 191 training accuracy: 0.8502633559066968\n",
      "At round 191 training loss: 0.5596511684206754\n",
      "Group 3\n",
      "At round 191 accuracy: 0.834733893557423\n",
      "At round 191 training accuracy: 0.8247154471544715\n",
      "At round 191 training loss: 0.5859739771121886\n",
      "Group 4\n",
      "At round 191 accuracy: 0.797270955165692\n",
      "At round 191 training accuracy: 0.8103169095535507\n",
      "At round 191 training loss: 0.8133040068327705\n",
      "At round 191 mean test accuracy: 0.8399167731201409 mean train accuracy: 0.8375644501053962\n",
      "Begin group  0 training\n"
     ]
    },
    {
     "name": "stderr",
     "output_type": "stream",
     "text": [
      "Epoch:   0%|                                                                                      | 0/5 [00:00<?, ?it/s]"
     ]
    },
    {
     "name": "stdout",
     "output_type": "stream",
     "text": [
      "Begin group  1 training\n"
     ]
    },
    {
     "name": "stderr",
     "output_type": "stream",
     "text": [
      "Epoch:   0%|                                                                                      | 0/5 [00:00<?, ?it/s]"
     ]
    },
    {
     "name": "stdout",
     "output_type": "stream",
     "text": [
      "Begin group  2 training\n",
      "Begin group  3 training\n"
     ]
    },
    {
     "name": "stderr",
     "output_type": "stream",
     "text": [
      "Epoch:  80%|██████████████████████████████████████████████████████████████▍               | 4/5 [00:00<00:00, 37.65it/s]"
     ]
    },
    {
     "name": "stdout",
     "output_type": "stream",
     "text": [
      "Begin group  4 training\n"
     ]
    },
    {
     "name": "stderr",
     "output_type": "stream",
     "text": [
      "                                                                                                                        \r"
     ]
    },
    {
     "name": "stdout",
     "output_type": "stream",
     "text": [
      "Group 0, clients ['f_00022', 'f_00064', 'f_00072', 'f_00133', 'f_00013', 'f_00093', 'f_00023', 'f_00152']\n",
      "Group 1, clients ['f_00171', 'f_00041']\n",
      "Group 2, clients ['f_00158', 'f_00008']\n",
      "Group 3, clients ['f_00079', 'f_00060', 'f_00100', 'f_00119']\n",
      "Group 4, clients ['f_00085', 'f_00037', 'f_00197', 'f_00196']\n",
      "The groups difference are: [2.220446049250313e-16, 0.00023168421374852866, 0.00032955230531306334, 0.0003952200199184297, 0.0004448880724327031]\n"
     ]
    },
    {
     "name": "stderr",
     "output_type": "stream",
     "text": [
      "Epoch:   0%|                                                                                      | 0/5 [00:00<?, ?it/s]"
     ]
    },
    {
     "name": "stdout",
     "output_type": "stream",
     "text": [
      "Group 0\n",
      "At round 192 accuracy: 0.7976952624839949\n",
      "At round 192 training accuracy: 0.8046352696478978\n",
      "At round 192 training loss: 0.6890963190307838\n",
      "Group 1\n",
      "At round 192 accuracy: 0.9298245614035088\n",
      "At round 192 training accuracy: 0.9356178608515057\n",
      "At round 192 training loss: 0.31949469883493914\n",
      "Group 2\n",
      "At round 192 accuracy: 0.8553459119496856\n",
      "At round 192 training accuracy: 0.8585402558314522\n",
      "At round 192 training loss: 0.6614415208991978\n",
      "Group 3\n",
      "At round 192 accuracy: 0.8403361344537815\n",
      "At round 192 training accuracy: 0.8221138211382114\n",
      "At round 192 training loss: 0.5809105932034128\n",
      "Group 4\n",
      "At round 192 accuracy: 0.6939571150097466\n",
      "At round 192 training accuracy: 0.7164006476983577\n",
      "At round 192 training loss: 0.9565372184942696\n",
      "At round 192 mean test accuracy: 0.8234317970601437 mean train accuracy: 0.8274615710334849\n",
      "Begin group  0 training\n"
     ]
    },
    {
     "name": "stderr",
     "output_type": "stream",
     "text": [
      "                                                                                                                        "
     ]
    },
    {
     "name": "stdout",
     "output_type": "stream",
     "text": [
      "Begin group  1 training\n",
      "Begin group  2 training\n",
      "Begin group  3 training\n"
     ]
    },
    {
     "name": "stderr",
     "output_type": "stream",
     "text": [
      "Epoch:   0%|                                                                                      | 0/5 [00:00<?, ?it/s]"
     ]
    },
    {
     "name": "stdout",
     "output_type": "stream",
     "text": [
      "Begin group  4 training\n"
     ]
    },
    {
     "name": "stderr",
     "output_type": "stream",
     "text": [
      "                                                                                                                        \r"
     ]
    },
    {
     "name": "stdout",
     "output_type": "stream",
     "text": [
      "Group 0, clients ['f_00133', 'f_00173', 'f_00184', 'f_00004', 'f_00043', 'f_00033', 'f_00073', 'f_00164']\n",
      "Group 1, clients ['f_00091']\n",
      "Group 2, clients ['f_00018']\n",
      "Group 3, clients ['f_00140', 'f_00119', 'f_00069', 'f_00000', 'f_00020']\n",
      "Group 4, clients ['f_00006', 'f_00187', 'f_00157', 'f_00186', 'f_00105']\n",
      "The groups difference are: [0.0, 0.00018436996812953854, 0.0003930778506249233, 0.00038961806671089505, 0.0003820992890362085]\n"
     ]
    },
    {
     "name": "stderr",
     "output_type": "stream",
     "text": [
      "Epoch:   0%|                                                                                      | 0/5 [00:00<?, ?it/s]"
     ]
    },
    {
     "name": "stdout",
     "output_type": "stream",
     "text": [
      "Group 0\n",
      "At round 193 accuracy: 0.7964148527528809\n",
      "At round 193 training accuracy: 0.7976526519090774\n",
      "At round 193 training loss: 0.6970122898781465\n",
      "Group 1\n",
      "At round 193 accuracy: 0.9210526315789473\n",
      "At round 193 training accuracy: 0.9304257528556594\n",
      "At round 193 training loss: 0.3613672777778263\n",
      "Group 2\n",
      "At round 193 accuracy: 0.8427672955974843\n",
      "At round 193 training accuracy: 0.8306997742663657\n",
      "At round 193 training loss: 0.5337954663171904\n",
      "Group 3\n",
      "At round 193 accuracy: 0.8571428571428571\n",
      "At round 193 training accuracy: 0.8321951219512195\n",
      "At round 193 training loss: 0.5708059008916219\n",
      "Group 4\n",
      "At round 193 accuracy: 0.6510721247563352\n",
      "At round 193 training accuracy: 0.672912329400879\n",
      "At round 193 training loss: 0.9157973518118989\n",
      "At round 193 mean test accuracy: 0.8136899523657011 mean train accuracy: 0.8127771260766403\n",
      "Begin group  0 training\n"
     ]
    },
    {
     "name": "stderr",
     "output_type": "stream",
     "text": [
      "Epoch:   0%|                                                                                      | 0/5 [00:00<?, ?it/s]"
     ]
    },
    {
     "name": "stdout",
     "output_type": "stream",
     "text": [
      "Begin group  1 training\n",
      "Begin group  2 training\n",
      "Begin group  3 training\n"
     ]
    },
    {
     "name": "stderr",
     "output_type": "stream",
     "text": [
      "                                                                                                                        \r"
     ]
    },
    {
     "name": "stdout",
     "output_type": "stream",
     "text": [
      "Begin group  4 training\n",
      "Group 0, clients ['f_00073', 'f_00133', 'f_00164', 'f_00143', 'f_00152', 'f_00002', 'f_00053']\n",
      "Group 1, clients ['f_00101', 'f_00041']\n",
      "Group 2, clients ['f_00188', 'f_00008']\n",
      "Group 3, clients ['f_00139', 'f_00180']\n",
      "Group 4, clients ['f_00006', 'f_00136', 'f_00035', 'f_00045', 'f_00017', 'f_00165', 'f_00046']\n",
      "The groups difference are: [0.0, 0.00040914389554913555, 0.0004267946203030393, 0.0004688705599171783, 0.00029190532005962666]\n"
     ]
    },
    {
     "name": "stderr",
     "output_type": "stream",
     "text": [
      "Epoch:   0%|                                                                                      | 0/5 [00:00<?, ?it/s]"
     ]
    },
    {
     "name": "stdout",
     "output_type": "stream",
     "text": [
      "Group 0\n",
      "At round 194 accuracy: 0.7157490396927016\n",
      "At round 194 training accuracy: 0.7007874015748031\n",
      "At round 194 training loss: 0.8853224053582648\n",
      "Group 1\n",
      "At round 194 accuracy: 0.9210526315789473\n",
      "At round 194 training accuracy: 0.9325025960539979\n",
      "At round 194 training loss: 0.33166139148106083\n",
      "Group 2\n",
      "At round 194 accuracy: 0.8490566037735849\n",
      "At round 194 training accuracy: 0.8412340105342363\n",
      "At round 194 training loss: 0.5457182339118601\n",
      "Group 3\n",
      "At round 194 accuracy: 0.8599439775910365\n",
      "At round 194 training accuracy: 0.8276422764227642\n",
      "At round 194 training loss: 0.5813359531348313\n",
      "Group 4\n",
      "At round 194 accuracy: 0.7816764132553606\n",
      "At round 194 training accuracy: 0.7992135091371733\n",
      "At round 194 training loss: 0.8070235616378202\n",
      "At round 194 mean test accuracy: 0.8254957331783263 mean train accuracy: 0.820275958744595\n",
      "Begin group  0 training\n"
     ]
    },
    {
     "name": "stderr",
     "output_type": "stream",
     "text": [
      "Epoch:   0%|                                                                                      | 0/5 [00:00<?, ?it/s]"
     ]
    },
    {
     "name": "stdout",
     "output_type": "stream",
     "text": [
      "Begin group  1 training\n",
      "Begin group  2 training\n",
      "Begin group  3 training\n"
     ]
    },
    {
     "name": "stderr",
     "output_type": "stream",
     "text": [
      "Epoch:   0%|                                                                                      | 0/5 [00:00<?, ?it/s]"
     ]
    },
    {
     "name": "stdout",
     "output_type": "stream",
     "text": [
      "Begin group  4 training\n"
     ]
    },
    {
     "name": "stderr",
     "output_type": "stream",
     "text": [
      "                                                                                                                        \r"
     ]
    },
    {
     "name": "stdout",
     "output_type": "stream",
     "text": [
      "Group 0, clients ['f_00093', 'f_00173', 'f_00154', 'f_00052', 'f_00194', 'f_00032', 'f_00133', 'f_00062']\n",
      "Group 1 is empty.\n",
      "Group 2, clients ['f_00049', 'f_00098', 'f_00068', 'f_00178']\n",
      "Group 3, clients ['f_00019', 'f_00130']\n",
      "Group 4, clients ['f_00161', 'f_00036', 'f_00165', 'f_00107', 'f_00197', 'f_00015']\n",
      "The groups difference are: [1.1102230246251565e-16, 0.00029031170925553074, 0.00036259539038119293, 0.000524783859374045, 0.00032990941422705866]\n"
     ]
    },
    {
     "name": "stderr",
     "output_type": "stream",
     "text": [
      "Epoch:   0%|                                                                                      | 0/5 [00:00<?, ?it/s]"
     ]
    },
    {
     "name": "stdout",
     "output_type": "stream",
     "text": [
      "Group 0\n",
      "At round 195 accuracy: 0.7682458386683739\n",
      "At round 195 training accuracy: 0.7523399197741791\n",
      "At round 195 training loss: 0.7218875364719927\n",
      "Group 2\n",
      "At round 195 accuracy: 0.8490566037735849\n",
      "At round 195 training accuracy: 0.8322046651617758\n",
      "At round 195 training loss: 0.6133091173017716\n",
      "Group 3\n",
      "At round 195 accuracy: 0.773109243697479\n",
      "At round 195 training accuracy: 0.7996747967479675\n",
      "At round 195 training loss: 0.6682279366594019\n",
      "Group 4\n",
      "At round 195 accuracy: 0.7543859649122807\n",
      "At round 195 training accuracy: 0.7800138792505205\n",
      "At round 195 training loss: 0.8588494894930866\n",
      "At round 195 mean test accuracy: 0.7861994127629297 mean train accuracy: 0.7910583152336108\n",
      "Begin group  0 training\n"
     ]
    },
    {
     "name": "stderr",
     "output_type": "stream",
     "text": [
      "Epoch:   0%|                                                                                      | 0/5 [00:00<?, ?it/s]"
     ]
    },
    {
     "name": "stdout",
     "output_type": "stream",
     "text": [
      "Begin group  2 training\n"
     ]
    },
    {
     "name": "stderr",
     "output_type": "stream",
     "text": [
      "Epoch:   0%|                                                                                      | 0/5 [00:00<?, ?it/s]"
     ]
    },
    {
     "name": "stdout",
     "output_type": "stream",
     "text": [
      "Begin group  3 training\n",
      "Begin group  4 training\n"
     ]
    },
    {
     "name": "stderr",
     "output_type": "stream",
     "text": [
      "                                                                                                                        \r"
     ]
    },
    {
     "name": "stdout",
     "output_type": "stream",
     "text": [
      "Group 0, clients ['f_00182', 'f_00073', 'f_00003', 'f_00103', 'f_00112', 'f_00013', 'f_00023', 'f_00122']\n",
      "Group 1 is empty.\n",
      "Group 2 is empty.\n",
      "Group 3, clients ['f_00150', 'f_00020', 'f_00159', 'f_00170', 'f_00179']\n",
      "Group 4, clients ['f_00036', 'f_00157', 'f_00156', 'f_00145', 'f_00147', 'f_00177', 'f_00025']\n",
      "The groups difference are: [1.1102230246251565e-16, 0.0003059590987093408, 0.0007397332125655964, 0.0005978792766486718, 0.0006013263792489232]\n"
     ]
    },
    {
     "name": "stderr",
     "output_type": "stream",
     "text": [
      "Epoch:   0%|                                                                                      | 0/5 [00:00<?, ?it/s]"
     ]
    },
    {
     "name": "stdout",
     "output_type": "stream",
     "text": [
      "Group 0\n",
      "At round 196 accuracy: 0.6978233034571063\n",
      "At round 196 training accuracy: 0.7088099836577032\n",
      "At round 196 training loss: 0.9397953240500572\n",
      "Group 3\n",
      "At round 196 accuracy: 0.8515406162464986\n",
      "At round 196 training accuracy: 0.8305691056910569\n",
      "At round 196 training loss: 0.5937171337468837\n",
      "Group 4\n",
      "At round 196 accuracy: 0.7894736842105263\n",
      "At round 196 training accuracy: 0.806384455239417\n",
      "At round 196 training loss: 0.8078110669460556\n",
      "At round 196 mean test accuracy: 0.7796125346380436 mean train accuracy: 0.7819211815293924\n",
      "Begin group  0 training\n"
     ]
    },
    {
     "name": "stderr",
     "output_type": "stream",
     "text": [
      "Epoch:   0%|                                                                                      | 0/5 [00:00<?, ?it/s]"
     ]
    },
    {
     "name": "stdout",
     "output_type": "stream",
     "text": [
      "Begin group  3 training\n",
      "Begin group  4 training\n"
     ]
    },
    {
     "name": "stderr",
     "output_type": "stream",
     "text": [
      "                                                                                                                        \r"
     ]
    },
    {
     "name": "stdout",
     "output_type": "stream",
     "text": [
      "Group 0, clients ['f_00104', 'f_00103', 'f_00172', 'f_00052', 'f_00162', 'f_00034', 'f_00194']\n",
      "Group 1, clients ['f_00011', 'f_00101', 'f_00081']\n",
      "Group 2, clients ['f_00048', 'f_00138', 'f_00188', 'f_00028']\n",
      "Group 3, clients ['f_00029', 'f_00130']\n",
      "Group 4, clients ['f_00047', 'f_00147', 'f_00117', 'f_00187']\n",
      "The groups difference are: [0.0, 0.00020285203901104776, 0.0003957771427833823, 0.00042748423560379223, 0.00044101030869470037]\n"
     ]
    },
    {
     "name": "stderr",
     "output_type": "stream",
     "text": [
      "Epoch:   0%|                                                                                      | 0/5 [00:00<?, ?it/s]"
     ]
    },
    {
     "name": "stdout",
     "output_type": "stream",
     "text": [
      "Group 0\n",
      "At round 197 accuracy: 0.7733674775928298\n",
      "At round 197 training accuracy: 0.7698707472886643\n",
      "At round 197 training loss: 0.7145846088756833\n",
      "Group 1\n",
      "At round 197 accuracy: 0.9210526315789473\n",
      "At round 197 training accuracy: 0.9460020768431984\n",
      "At round 197 training loss: 0.5477156750819145\n",
      "Group 2\n",
      "At round 197 accuracy: 0.8490566037735849\n",
      "At round 197 training accuracy: 0.8314522197140707\n",
      "At round 197 training loss: 0.5797356635085437\n",
      "Group 3\n",
      "At round 197 accuracy: 0.876750700280112\n",
      "At round 197 training accuracy: 0.847479674796748\n",
      "At round 197 training loss: 0.5777214180163252\n",
      "Group 4\n",
      "At round 197 accuracy: 0.7270955165692008\n",
      "At round 197 training accuracy: 0.7316678232708768\n",
      "At round 197 training loss: 0.8219293810939061\n",
      "At round 197 mean test accuracy: 0.8294645859589351 mean train accuracy: 0.8252945083827116\n",
      "Begin group  0 training\n"
     ]
    },
    {
     "name": "stderr",
     "output_type": "stream",
     "text": [
      "Epoch:   0%|                                                                                      | 0/5 [00:00<?, ?it/s]"
     ]
    },
    {
     "name": "stdout",
     "output_type": "stream",
     "text": [
      "Begin group  1 training\n",
      "Begin group  2 training\n"
     ]
    },
    {
     "name": "stderr",
     "output_type": "stream",
     "text": [
      "                                                                                                                        \r"
     ]
    },
    {
     "name": "stdout",
     "output_type": "stream",
     "text": [
      "Begin group  3 training\n",
      "Begin group  4 training\n",
      "Group 0, clients ['f_00082', 'f_00064', 'f_00173', 'f_00164', 'f_00083', 'f_00102', 'f_00043']\n",
      "Group 1, clients ['f_00111', 'f_00091']\n",
      "Group 2, clients ['f_00118', 'f_00158']\n",
      "Group 3, clients ['f_00199', 'f_00080', 'f_00050']\n",
      "Group 4, clients ['f_00187', 'f_00147', 'f_00125', 'f_00005', 'f_00026', 'f_00087']\n",
      "The groups difference are: [0.0, 0.00018260969363903534, 0.0003200689883458008, 0.00033873146883312, 0.0003539971105113171]\n"
     ]
    },
    {
     "name": "stderr",
     "output_type": "stream",
     "text": [
      "Epoch:   0%|                                                                                      | 0/5 [00:00<?, ?it/s]"
     ]
    },
    {
     "name": "stdout",
     "output_type": "stream",
     "text": [
      "Group 0\n",
      "At round 198 accuracy: 0.8181818181818182\n",
      "At round 198 training accuracy: 0.8135492497400089\n",
      "At round 198 training loss: 0.6512936249058768\n",
      "Group 1\n",
      "At round 198 accuracy: 0.9298245614035088\n",
      "At round 198 training accuracy: 0.9491173416407062\n",
      "At round 198 training loss: 0.36779645349934836\n",
      "Group 2\n",
      "At round 198 accuracy: 0.8427672955974843\n",
      "At round 198 training accuracy: 0.8291948833709556\n",
      "At round 198 training loss: 0.5606867916786733\n",
      "Group 3\n",
      "At round 198 accuracy: 0.7871148459383753\n",
      "At round 198 training accuracy: 0.7801626016260162\n",
      "At round 198 training loss: 0.6668486913723675\n",
      "Group 4\n",
      "At round 198 accuracy: 0.631578947368421\n",
      "At round 198 training accuracy: 0.6139255146888735\n",
      "At round 198 training loss: 1.1004045965865672\n",
      "At round 198 mean test accuracy: 0.8018934936979216 mean train accuracy: 0.797189918213312\n",
      "Begin group  0 training\n"
     ]
    },
    {
     "name": "stderr",
     "output_type": "stream",
     "text": [
      "Epoch:   0%|                                                                                      | 0/5 [00:00<?, ?it/s]"
     ]
    },
    {
     "name": "stdout",
     "output_type": "stream",
     "text": [
      "Begin group  1 training\n",
      "Begin group  2 training\n"
     ]
    },
    {
     "name": "stderr",
     "output_type": "stream",
     "text": [
      "Epoch:   0%|                                                                                      | 0/5 [00:00<?, ?it/s]"
     ]
    },
    {
     "name": "stdout",
     "output_type": "stream",
     "text": [
      "Begin group  3 training\n"
     ]
    },
    {
     "name": "stderr",
     "output_type": "stream",
     "text": [
      "Epoch:  80%|██████████████████████████████████████████████████████████████▍               | 4/5 [00:00<00:00, 39.11it/s]"
     ]
    },
    {
     "name": "stdout",
     "output_type": "stream",
     "text": [
      "Begin group  4 training\n"
     ]
    },
    {
     "name": "stderr",
     "output_type": "stream",
     "text": [
      "                                                                                                                        \r"
     ]
    },
    {
     "name": "stdout",
     "output_type": "stream",
     "text": [
      "Group 0, clients ['f_00194', 'f_00043', 'f_00052', 'f_00034', 'f_00144', 'f_00133', 'f_00094', 'f_00123', 'f_00153', 'f_00013', 'f_00063']\n",
      "Group 1, clients ['f_00021']\n",
      "Group 2, clients ['f_00089']\n",
      "Group 3, clients ['f_00070', 'f_00149']\n",
      "Group 4, clients ['f_00045', 'f_00146', 'f_00157', 'f_00065', 'f_00116']\n",
      "The groups difference are: [0.0, 0.00029117707031423024, 0.0004893196435582503, 0.0004273045304621359, 0.00032702325665912024]\n"
     ]
    },
    {
     "name": "stderr",
     "output_type": "stream",
     "text": [
      "Epoch:   0%|                                                                                      | 0/5 [00:00<?, ?it/s]"
     ]
    },
    {
     "name": "stdout",
     "output_type": "stream",
     "text": [
      "Group 0\n",
      "At round 199 accuracy: 0.7784891165172856\n",
      "At round 199 training accuracy: 0.7881444064774922\n",
      "At round 199 training loss: 0.6903872043093606\n",
      "Group 1\n",
      "At round 199 accuracy: 0.9298245614035088\n",
      "At round 199 training accuracy: 0.9356178608515057\n",
      "At round 199 training loss: 0.34052936137032036\n",
      "Group 2\n",
      "At round 199 accuracy: 0.8427672955974843\n",
      "At round 199 training accuracy: 0.8291948833709556\n",
      "At round 199 training loss: 0.561311490603907\n",
      "Group 3\n",
      "At round 199 accuracy: 0.8627450980392157\n",
      "At round 199 training accuracy: 0.8308943089430895\n",
      "At round 199 training loss: 0.5748008251868613\n",
      "Group 4\n",
      "At round 199 accuracy: 0.7212475633528265\n",
      "At round 199 training accuracy: 0.7332870691649318\n",
      "At round 199 training loss: 0.8193190328065041\n",
      "At round 199 mean test accuracy: 0.8270147269820644 mean train accuracy: 0.8234277057615951\n",
      "Begin group  0 training\n"
     ]
    },
    {
     "name": "stderr",
     "output_type": "stream",
     "text": [
      "Epoch:   0%|                                                                                      | 0/5 [00:00<?, ?it/s]"
     ]
    },
    {
     "name": "stdout",
     "output_type": "stream",
     "text": [
      "Begin group  1 training\n",
      "Begin group  2 training\n",
      "Begin group  3 training\n"
     ]
    },
    {
     "name": "stderr",
     "output_type": "stream",
     "text": [
      "                                                                                                                        "
     ]
    },
    {
     "name": "stdout",
     "output_type": "stream",
     "text": [
      "Begin group  4 training\n"
     ]
    },
    {
     "name": "stderr",
     "output_type": "stream",
     "text": [
      "\r"
     ]
    }
   ],
   "source": [
    "params = {}\n",
    "params['num_group'] = 5\n",
    "params['learning_rate'] = 0.003\n",
    "params['model_params'] = (10,)\n",
    "params['seed'] = 123\n",
    "params['mu'] = 1\n",
    "params['num_rounds'] = 200\n",
    "params['eval_every'] = 1\n",
    "params['clients_per_round'] = 20\n",
    "params['drop_percent'] = 0\n",
    "params['min_clients'] = 2\n",
    "learner = mclr.Model\n",
    "\n",
    "server = grouprox.Server(params, learner, dataset)\n",
    "server.train()"
   ]
  },
  {
   "cell_type": "code",
   "execution_count": 4,
   "metadata": {},
   "outputs": [
    {
     "name": "stdout",
     "output_type": "stream",
     "text": [
      "Counter({0.0: 124, 1.0: 111, 2.0: 80, 9.0: 42})\n",
      "357\n"
     ]
    }
   ],
   "source": [
    "from collections import Counter\n",
    "\n",
    "group_list = server.group_list\n",
    "clients = server.clients\n",
    "g = group_list[3]\n",
    "c_list = []\n",
    "for c in clients:\n",
    "  if c.group == g:\n",
    "    c_list.append(c)\n",
    "\n",
    "cnt = Counter()\n",
    "for c in c_list:\n",
    "  cnt += Counter(c.eval_data['y'])\n",
    "print(cnt)\n",
    "print(sum(cnt.values()))"
   ]
  }
 ],
 "metadata": {
  "kernelspec": {
   "display_name": "Python 3",
   "language": "python",
   "name": "python3"
  },
  "language_info": {
   "codemirror_mode": {
    "name": "ipython",
    "version": 3
   },
   "file_extension": ".py",
   "mimetype": "text/x-python",
   "name": "python",
   "nbconvert_exporter": "python",
   "pygments_lexer": "ipython3",
   "version": "3.7.7"
  }
 },
 "nbformat": 4,
 "nbformat_minor": 4
}
