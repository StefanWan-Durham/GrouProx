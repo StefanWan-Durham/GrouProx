{
 "cells": [
  {
   "cell_type": "code",
   "execution_count": 1,
   "metadata": {},
   "outputs": [
    {
     "name": "stdout",
     "output_type": "stream",
     "text": [
      "WARNING:tensorflow:From /home/lab/anaconda3/envs/TFF/lib/python3.7/site-packages/tensorflow/python/compat/v2_compat.py:96: disable_resource_variables (from tensorflow.python.ops.variable_scope) is deprecated and will be removed in a future version.\n",
      "Instructions for updating:\n",
      "non-resource variables are not supported in the long term\n"
     ]
    }
   ],
   "source": [
    "import importlib\n",
    "import tensorflow.compat.v1 as tf\n",
    "tf.disable_v2_behavior()\n",
    "from flearn.utils.model_utils import read_data\n",
    "import os\n",
    "\n",
    "from flearn.models import client\n",
    "from flearn.models import group\n",
    "from flearn.trainers import grouprox\n",
    "from flearn.models.mnist import mclr"
   ]
  },
  {
   "cell_type": "code",
   "execution_count": 2,
   "metadata": {},
   "outputs": [],
   "source": [
    "# read data\n",
    "train_path = os.path.join('data', 'nist', 'data', 'train')\n",
    "test_path = os.path.join('data', 'nist', 'data', 'test')\n",
    "dataset = read_data(train_path, test_path)"
   ]
  },
  {
   "cell_type": "code",
   "execution_count": 3,
   "metadata": {
    "scrolled": true
   },
   "outputs": [
    {
     "name": "stdout",
     "output_type": "stream",
     "text": [
      "Using Group prox to Train\n",
      "WARNING:tensorflow:From /home/lab/workspace/FedProx/flearn/models/mnist/mclr.py:41: dense (from tensorflow.python.layers.core) is deprecated and will be removed in a future version.\n",
      "Instructions for updating:\n",
      "Use keras.layers.Dense instead.\n",
      "WARNING:tensorflow:From /home/lab/anaconda3/envs/TFF/lib/python3.7/site-packages/tensorflow/python/layers/core.py:187: Layer.apply (from tensorflow.python.keras.engine.base_layer_v1) is deprecated and will be removed in a future version.\n",
      "Instructions for updating:\n",
      "Please use `layer.__call__` method instead.\n",
      "WARNING:tensorflow:From /home/lab/anaconda3/envs/TFF/lib/python3.7/site-packages/tensorflow/python/profiler/internal/flops_registry.py:142: tensor_shape_from_node_def_name (from tensorflow.python.framework.graph_util_impl) is deprecated and will be removed in a future version.\n",
      "Instructions for updating:\n",
      "Use `tf.compat.v1.graph_util.tensor_shape_from_node_def_name`\n"
     ]
    },
    {
     "name": "stderr",
     "output_type": "stream",
     "text": [
      "\r",
      "Epoch:   0%|                                                                                      | 0/1 [00:00<?, ?it/s]"
     ]
    },
    {
     "name": "stdout",
     "output_type": "stream",
     "text": [
      "200 Clients in Total\n"
     ]
    },
    {
     "name": "stderr",
     "output_type": "stream",
     "text": [
      "                                                                                                                        "
     ]
    },
    {
     "name": "stdout",
     "output_type": "stream",
     "text": [
      "WARNING:tensorflow:From /home/lab/workspace/FedProx/flearn/models/mnist/mclr.py:59: Variable.load (from tensorflow.python.ops.variables) is deprecated and will be removed in a future version.\n",
      "Instructions for updating:\n",
      "Prefer Variable.assign which has equivalent behavior in 2.X.\n"
     ]
    },
    {
     "name": "stderr",
     "output_type": "stream",
     "text": [
      "Epoch:   0%|                                                                                      | 0/1 [00:00<?, ?it/s]"
     ]
    },
    {
     "name": "stdout",
     "output_type": "stream",
     "text": [
      "Training with 20 workers ---\n"
     ]
    },
    {
     "name": "stderr",
     "output_type": "stream",
     "text": [
      "Epoch:   0%|                                                                                      | 0/5 [00:00<?, ?it/s]"
     ]
    },
    {
     "name": "stdout",
     "output_type": "stream",
     "text": [
      "Group 0 clients ['f_00146', 'f_00007', 'f_00037', 'f_00107', 'f_00098', 'f_00177']\n",
      "Group 1 clients ['f_00033', 'f_00182', 'f_00061', 'f_00074', 'f_00018', 'f_00170', 'f_00152', 'f_00180', 'f_00080', 'f_00130']\n",
      "Group 2 clients ['f_00005', 'f_00125', 'f_00154', 'f_00012']\n",
      "The groups difference are: [-5.960464477539063e-08, 0.000307232141494751, 0.00022077560424804688]\n",
      "Group 0\n",
      "At round 0 accuracy: 0.07894736842105263\n",
      "At round 0 training accuracy: 0.12347560975609756\n",
      "At round 0 training loss: 2.8466310243054136\n",
      "Group 1\n",
      "At round 0 accuracy: 0.06976744186046512\n",
      "At round 0 training accuracy: 0.033012379642365884\n",
      "At round 0 training loss: 4.696682598108766\n",
      "Group 2\n",
      "At round 0 accuracy: 0.33962264150943394\n",
      "At round 0 training accuracy: 0.39606126914660833\n",
      "At round 0 training loss: 1.8176772385770434\n",
      "Begin group  0 training\n"
     ]
    },
    {
     "name": "stderr",
     "output_type": "stream",
     "text": [
      "Epoch:   0%|                                                                                      | 0/5 [00:00<?, ?it/s]"
     ]
    },
    {
     "name": "stdout",
     "output_type": "stream",
     "text": [
      "Begin group  1 training\n"
     ]
    },
    {
     "name": "stderr",
     "output_type": "stream",
     "text": [
      "Epoch:   0%|                                                                                      | 0/5 [00:00<?, ?it/s]"
     ]
    },
    {
     "name": "stdout",
     "output_type": "stream",
     "text": [
      "Begin group  2 training\n"
     ]
    },
    {
     "name": "stderr",
     "output_type": "stream",
     "text": [
      "Epoch:   0%|                                                                                      | 0/5 [00:00<?, ?it/s]"
     ]
    },
    {
     "name": "stdout",
     "output_type": "stream",
     "text": [
      "Group 0 clients ['f_00018', 'f_00118', 'f_00198', 'f_00168']\n",
      "Group 1 clients ['f_00110', 'f_00040', 'f_00029', 'f_00089', 'f_00058', 'f_00102', 'f_00095', 'f_00171', 'f_00011', 'f_00159', 'f_00059']\n",
      "Group 2 clients ['f_00035', 'f_00004', 'f_00184', 'f_00034', 'f_00136']\n",
      "The groups difference are: [0.0, 0.001312075107837929, 0.0014711066228028091]\n",
      "Group 0\n",
      "At round 1 accuracy: 0.3\n",
      "At round 1 training accuracy: 0.41935483870967744\n",
      "At round 1 training loss: 1.8637084345663748\n",
      "Group 1\n",
      "At round 1 accuracy: 0.2054794520547945\n",
      "At round 1 training accuracy: 0.21498371335504887\n",
      "At round 1 training loss: 2.4533397473807446\n",
      "Group 2\n",
      "At round 1 accuracy: 0.42\n",
      "At round 1 training accuracy: 0.419811320754717\n",
      "At round 1 training loss: 2.041205425026282\n",
      "Begin group  0 training\n"
     ]
    },
    {
     "name": "stderr",
     "output_type": "stream",
     "text": [
      "Epoch:   0%|                                                                                      | 0/5 [00:00<?, ?it/s]"
     ]
    },
    {
     "name": "stdout",
     "output_type": "stream",
     "text": [
      "Begin group  1 training\n"
     ]
    },
    {
     "name": "stderr",
     "output_type": "stream",
     "text": [
      "Epoch:   0%|                                                                                      | 0/5 [00:00<?, ?it/s]"
     ]
    },
    {
     "name": "stdout",
     "output_type": "stream",
     "text": [
      "Begin group  2 training\n"
     ]
    },
    {
     "name": "stderr",
     "output_type": "stream",
     "text": [
      "Epoch:   0%|                                                                                      | 0/5 [00:00<?, ?it/s]"
     ]
    },
    {
     "name": "stdout",
     "output_type": "stream",
     "text": [
      "Group 0 clients ['f_00199', 'f_00003', 'f_00193', 'f_00113']\n",
      "Group 1 clients ['f_00182', 'f_00029', 'f_00012', 'f_00010']\n",
      "Group 2 clients ['f_00044', 'f_00174', 'f_00054', 'f_00014', 'f_00112', 'f_00085', 'f_00115', 'f_00035', 'f_00092', 'f_00013', 'f_00126', 'f_00002']\n",
      "The groups difference are: [1.1102230246251565e-16, 0.0017839007063824575, 0.0021923265803229786]\n",
      "Group 0\n",
      "At round 2 accuracy: 0.25925925925925924\n",
      "At round 2 training accuracy: 0.23873873873873874\n",
      "At round 2 training loss: 3.7596973900322443\n",
      "Group 1\n",
      "At round 2 accuracy: 0.25\n",
      "At round 2 training accuracy: 0.2693726937269373\n",
      "At round 2 training loss: 1.8602305624317859\n",
      "Group 2\n",
      "At round 2 accuracy: 0.22093023255813954\n",
      "At round 2 training accuracy: 0.18820224719101122\n",
      "At round 2 training loss: 2.4536459263456\n",
      "Begin group  0 training\n"
     ]
    },
    {
     "name": "stderr",
     "output_type": "stream",
     "text": [
      "Epoch:   0%|                                                                                      | 0/5 [00:00<?, ?it/s]"
     ]
    },
    {
     "name": "stdout",
     "output_type": "stream",
     "text": [
      "Begin group  1 training\n",
      "Begin group  2 training\n"
     ]
    },
    {
     "name": "stderr",
     "output_type": "stream",
     "text": [
      "Epoch:   0%|                                                                                      | 0/5 [00:00<?, ?it/s]"
     ]
    },
    {
     "name": "stdout",
     "output_type": "stream",
     "text": [
      "Group 0 clients ['f_00058', 'f_00003', 'f_00179', 'f_00159']\n",
      "Group 1 clients ['f_00170', 'f_00040', 'f_00070', 'f_00100', 'f_00190']\n",
      "Group 2 clients ['f_00095', 'f_00025', 'f_00046', 'f_00173', 'f_00051', 'f_00139', 'f_00197', 'f_00082', 'f_00183', 'f_00083', 'f_00041']\n",
      "The groups difference are: [0.0, 0.0011361390919506498, 0.0019847387089138024]\n",
      "Group 0\n",
      "At round 3 accuracy: 0.2222222222222222\n",
      "At round 3 training accuracy: 0.4375\n",
      "At round 3 training loss: 1.5177429277035925\n",
      "Group 1\n",
      "At round 3 accuracy: 0.3225806451612903\n",
      "At round 3 training accuracy: 0.32142857142857145\n",
      "At round 3 training loss: 1.1963920712022853\n",
      "Group 2\n",
      "At round 3 accuracy: 0.17543859649122806\n",
      "At round 3 training accuracy: 0.22641509433962265\n",
      "At round 3 training loss: 2.4848387993606633\n",
      "Begin group  0 training\n",
      "Begin group  1 training\n"
     ]
    },
    {
     "name": "stderr",
     "output_type": "stream",
     "text": [
      "Epoch:   0%|                                                                                      | 0/5 [00:00<?, ?it/s]"
     ]
    },
    {
     "name": "stdout",
     "output_type": "stream",
     "text": [
      "Begin group  2 training\n"
     ]
    },
    {
     "name": "stderr",
     "output_type": "stream",
     "text": [
      "Epoch:   0%|                                                                                      | 0/5 [00:00<?, ?it/s]"
     ]
    },
    {
     "name": "stdout",
     "output_type": "stream",
     "text": [
      "Group 0 clients ['f_00199', 'f_00177', 'f_00099', 'f_00138']\n",
      "Group 1 clients ['f_00171', 'f_00011', 'f_00061', 'f_00033']\n",
      "Group 2 clients ['f_00188', 'f_00088', 'f_00187', 'f_00175', 'f_00128', 'f_00001', 'f_00111', 'f_00090', 'f_00191', 'f_00123', 'f_00184', 'f_00084']\n",
      "The groups difference are: [0.0, 0.0014653914288614844, 0.0016246549839291635]\n",
      "Group 0\n",
      "At round 4 accuracy: 0.2\n",
      "At round 4 training accuracy: 0.1994949494949495\n",
      "At round 4 training loss: 2.358646719744711\n",
      "Group 1\n",
      "At round 4 accuracy: 0.35294117647058826\n",
      "At round 4 training accuracy: 0.47692307692307695\n",
      "At round 4 training loss: 2.711979313997122\n",
      "Group 2\n",
      "At round 4 accuracy: 0.20224719101123595\n",
      "At round 4 training accuracy: 0.2170439414114514\n",
      "At round 4 training loss: 2.2135930580400753\n",
      "Begin group  0 training\n"
     ]
    },
    {
     "name": "stderr",
     "output_type": "stream",
     "text": [
      "Epoch:   0%|                                                                                      | 0/5 [00:00<?, ?it/s]"
     ]
    },
    {
     "name": "stdout",
     "output_type": "stream",
     "text": [
      "Begin group  1 training\n",
      "Begin group  2 training\n"
     ]
    },
    {
     "name": "stderr",
     "output_type": "stream",
     "text": [
      "Epoch:   0%|                                                                                      | 0/5 [00:00<?, ?it/s]"
     ]
    },
    {
     "name": "stdout",
     "output_type": "stream",
     "text": [
      "Group 0 clients ['f_00003', 'f_00188', 'f_00119', 'f_00039']\n",
      "Group 1 clients ['f_00040', 'f_00122', 'f_00149', 'f_00154']\n",
      "Group 2 clients ['f_00021', 'f_00071', 'f_00034', 'f_00151', 'f_00077', 'f_00148', 'f_00006', 'f_00028', 'f_00055', 'f_00104', 'f_00117', 'f_00134']\n",
      "The groups difference are: [0.0, 0.0019410443463331317, 0.0018088175362709347]\n",
      "Group 0\n",
      "At round 5 accuracy: 0.42105263157894735\n",
      "At round 5 training accuracy: 0.3221476510067114\n",
      "At round 5 training loss: 1.6034598518537995\n",
      "Group 1\n",
      "At round 5 accuracy: 0.23076923076923078\n",
      "At round 5 training accuracy: 0.1836283185840708\n",
      "At round 5 training loss: 3.234212401693901\n",
      "Group 2\n",
      "At round 5 accuracy: 0.171875\n",
      "At round 5 training accuracy: 0.14122137404580154\n",
      "At round 5 training loss: 2.625649012682092\n",
      "Begin group  0 training\n"
     ]
    },
    {
     "name": "stderr",
     "output_type": "stream",
     "text": [
      "                                                                                                                        "
     ]
    },
    {
     "name": "stdout",
     "output_type": "stream",
     "text": [
      "Begin group  1 training\n"
     ]
    },
    {
     "name": "stderr",
     "output_type": "stream",
     "text": [
      "                                                                                                                        "
     ]
    },
    {
     "name": "stdout",
     "output_type": "stream",
     "text": [
      "Begin group  2 training\n"
     ]
    },
    {
     "name": "stderr",
     "output_type": "stream",
     "text": [
      "Epoch:  80%|██████████████████████████████████████████████████████████████▍               | 4/5 [00:00<00:00, 35.49it/s]"
     ]
    },
    {
     "name": "stdout",
     "output_type": "stream",
     "text": [
      "Group 0 clients ['f_00118', 'f_00149', 'f_00088', 'f_00019']\n",
      "Group 1 clients ['f_00011', 'f_00081', 'f_00151', 'f_00152']\n",
      "Group 2 clients ['f_00030', 'f_00004', 'f_00156', 'f_00013', 'f_00145', 'f_00134', 'f_00093', 'f_00006', 'f_00094', 'f_00115', 'f_00108', 'f_00158']\n",
      "The groups difference are: [0.0, 0.002153873074354329, 0.0015991237799658498]\n",
      "Group 0\n",
      "At round 6 accuracy: 0.43902439024390244\n",
      "At round 6 training accuracy: 0.39154929577464787\n",
      "At round 6 training loss: 1.6715954229865275\n",
      "Group 1\n",
      "At round 6 accuracy: 0.17142857142857143\n",
      "At round 6 training accuracy: 0.18983050847457628\n",
      "At round 6 training loss: 1.734471435061956\n",
      "Group 2\n",
      "At round 6 accuracy: 0.4074074074074074\n",
      "At round 6 training accuracy: 0.4144736842105263\n",
      "At round 6 training loss: 2.015936507467638\n",
      "Begin group  0 training\n"
     ]
    },
    {
     "name": "stderr",
     "output_type": "stream",
     "text": [
      "Epoch:   0%|                                                                                      | 0/5 [00:00<?, ?it/s]"
     ]
    },
    {
     "name": "stdout",
     "output_type": "stream",
     "text": [
      "Begin group  1 training\n",
      "Begin group  2 training\n"
     ]
    },
    {
     "name": "stderr",
     "output_type": "stream",
     "text": [
      "                                                                                                                        \r"
     ]
    },
    {
     "name": "stdout",
     "output_type": "stream",
     "text": [
      "Group 0 clients ['f_00138', 'f_00188', 'f_00099', 'f_00108']\n",
      "Group 1 clients ['f_00011', 'f_00121', 'f_00022', 'f_00120']\n",
      "Group 2 clients ['f_00063', 'f_00153', 'f_00155', 'f_00024', 'f_00086', 'f_00195', 'f_00002', 'f_00094', 'f_00066', 'f_00096', 'f_00065', 'f_00046']\n",
      "The groups difference are: [0.0, 0.003205755187915993, 0.002073231052877045]\n",
      "Group 0\n",
      "At round 7 accuracy: 0.4166666666666667\n",
      "At round 7 training accuracy: 0.3582089552238806\n",
      "At round 7 training loss: 1.2757770831312114\n",
      "Group 1\n",
      "At round 7 accuracy: 0.37777777777777777\n",
      "At round 7 training accuracy: 0.4307692307692308\n",
      "At round 7 training loss: 1.7693763778759883\n",
      "Group 2\n",
      "At round 7 accuracy: 0.3368421052631579\n",
      "At round 7 training accuracy: 0.31155778894472363\n",
      "At round 7 training loss: 2.067436027616712\n",
      "Begin group  0 training\n",
      "Begin group  1 training\n"
     ]
    },
    {
     "name": "stderr",
     "output_type": "stream",
     "text": [
      "Epoch:   0%|                                                                                      | 0/5 [00:00<?, ?it/s]"
     ]
    },
    {
     "name": "stdout",
     "output_type": "stream",
     "text": [
      "Begin group  2 training\n"
     ]
    },
    {
     "name": "stderr",
     "output_type": "stream",
     "text": [
      "Epoch:   0%|                                                                                      | 0/5 [00:00<?, ?it/s]"
     ]
    },
    {
     "name": "stdout",
     "output_type": "stream",
     "text": [
      "Group 0 clients ['f_00119', 'f_00088', 'f_00069', 'f_00128']\n",
      "Group 1 clients ['f_00190', 'f_00151', 'f_00146', 'f_00193']\n",
      "Group 2 clients ['f_00103', 'f_00161', 'f_00142', 'f_00150', 'f_00067', 'f_00065', 'f_00181', 'f_00117', 'f_00169', 'f_00001', 'f_00027', 'f_00000']\n",
      "The groups difference are: [0.0, 0.003315811742922836, 0.002275018132669393]\n",
      "Group 0\n",
      "At round 8 accuracy: 0.7083333333333334\n",
      "At round 8 training accuracy: 0.6069651741293532\n",
      "At round 8 training loss: 1.619574199861555\n",
      "Group 1\n",
      "At round 8 accuracy: 0.4444444444444444\n",
      "At round 8 training accuracy: 0.43410852713178294\n",
      "At round 8 training loss: 2.6522122584572134\n",
      "Group 2\n",
      "At round 8 accuracy: 0.047619047619047616\n",
      "At round 8 training accuracy: 0.038135593220338986\n",
      "At round 8 training loss: 2.5263641153351735\n",
      "Begin group  0 training\n"
     ]
    },
    {
     "name": "stderr",
     "output_type": "stream",
     "text": [
      "Epoch:   0%|                                                                                      | 0/5 [00:00<?, ?it/s]"
     ]
    },
    {
     "name": "stdout",
     "output_type": "stream",
     "text": [
      "Begin group  1 training\n",
      "Begin group  2 training\n"
     ]
    },
    {
     "name": "stderr",
     "output_type": "stream",
     "text": [
      "Epoch:   0%|                                                                                      | 0/5 [00:00<?, ?it/s]"
     ]
    },
    {
     "name": "stdout",
     "output_type": "stream",
     "text": [
      "Group 0 clients ['f_00039', 'f_00069', 'f_00037', 'f_00003']\n",
      "Group 1 clients ['f_00100', 'f_00140', 'f_00101', 'f_00060', 'f_00109']\n",
      "Group 2 clients ['f_00027', 'f_00054', 'f_00174', 'f_00084', 'f_00156', 'f_00116', 'f_00123', 'f_00053', 'f_00103', 'f_00158', 'f_00163']\n",
      "The groups difference are: [0.0, 0.0021287961614862017, 0.0017325192365329478]\n",
      "Group 0\n",
      "At round 9 accuracy: 0.45454545454545453\n",
      "At round 9 training accuracy: 0.4157706093189964\n",
      "At round 9 training loss: 2.2355135901427183\n",
      "Group 1\n",
      "At round 9 accuracy: 0.6923076923076923\n",
      "At round 9 training accuracy: 0.5855855855855856\n",
      "At round 9 training loss: 1.2133094501924944\n",
      "Group 2\n",
      "At round 9 accuracy: 0.07964601769911504\n",
      "At round 9 training accuracy: 0.08016443987667009\n",
      "At round 9 training loss: 3.152437418852411\n",
      "Begin group  0 training\n"
     ]
    },
    {
     "name": "stderr",
     "output_type": "stream",
     "text": [
      "Epoch:   0%|                                                                                      | 0/5 [00:00<?, ?it/s]"
     ]
    },
    {
     "name": "stdout",
     "output_type": "stream",
     "text": [
      "Begin group  1 training\n"
     ]
    },
    {
     "name": "stderr",
     "output_type": "stream",
     "text": [
      "Epoch:   0%|                                                                                      | 0/5 [00:00<?, ?it/s]"
     ]
    },
    {
     "name": "stdout",
     "output_type": "stream",
     "text": [
      "Begin group  2 training\n"
     ]
    },
    {
     "name": "stderr",
     "output_type": "stream",
     "text": [
      "Epoch:   0%|                                                                                      | 0/5 [00:00<?, ?it/s]"
     ]
    },
    {
     "name": "stdout",
     "output_type": "stream",
     "text": [
      "Group 0 clients ['f_00198', 'f_00069', 'f_00019', 'f_00098']\n",
      "Group 1 clients ['f_00010', 'f_00059', 'f_00109', 'f_00111']\n",
      "Group 2 clients ['f_00005', 'f_00078', 'f_00055', 'f_00162', 'f_00020', 'f_00052', 'f_00002', 'f_00075', 'f_00142', 'f_00124', 'f_00063', 'f_00185']\n",
      "The groups difference are: [0.0, 0.002183070985969815, 0.0025369081138605365]\n",
      "Group 0\n",
      "At round 10 accuracy: 0.4117647058823529\n",
      "At round 10 training accuracy: 0.3244444444444444\n",
      "At round 10 training loss: 1.4445939336882698\n",
      "Group 1\n",
      "At round 10 accuracy: 0.6666666666666666\n",
      "At round 10 training accuracy: 0.5296296296296297\n",
      "At round 10 training loss: 1.3708301014370388\n",
      "Group 2\n",
      "At round 10 accuracy: 0.3333333333333333\n",
      "At round 10 training accuracy: 0.3846823324630113\n",
      "At round 10 training loss: 2.6208544237080402\n",
      "Begin group  0 training\n"
     ]
    },
    {
     "name": "stderr",
     "output_type": "stream",
     "text": [
      "                                                                                                                        "
     ]
    },
    {
     "name": "stdout",
     "output_type": "stream",
     "text": [
      "Begin group  1 training\n",
      "Begin group  2 training\n"
     ]
    },
    {
     "name": "stderr",
     "output_type": "stream",
     "text": [
      "Epoch:   0%|                                                                                      | 0/5 [00:00<?, ?it/s]"
     ]
    },
    {
     "name": "stdout",
     "output_type": "stream",
     "text": [
      "Group 0 clients ['f_00033', 'f_00000', 'f_00041', 'f_00174']\n",
      "Group 1 clients ['f_00060', 'f_00130', 'f_00111', 'f_00022']\n",
      "Group 2 clients ['f_00143', 'f_00055', 'f_00134', 'f_00173', 'f_00186', 'f_00053', 'f_00056', 'f_00094', 'f_00073', 'f_00014', 'f_00063', 'f_00016']\n",
      "The groups difference are: [0.0, 0.0024591804169616927, 0.003045689040366284]\n",
      "Group 0\n",
      "At round 11 accuracy: 0.15384615384615385\n",
      "At round 11 training accuracy: 0.12871287128712872\n",
      "At round 11 training loss: 4.292050182229222\n",
      "Group 1\n",
      "At round 11 accuracy: 0.2222222222222222\n",
      "At round 11 training accuracy: 0.34057971014492755\n",
      "At round 11 training loss: 1.975885595532431\n",
      "Group 2\n",
      "At round 11 accuracy: 0.7751937984496124\n",
      "At round 11 training accuracy: 0.703905540417802\n",
      "At round 11 training loss: 1.47653676660141\n",
      "Begin group  0 training\n",
      "Begin group  1 training\n"
     ]
    },
    {
     "name": "stderr",
     "output_type": "stream",
     "text": [
      "Epoch:   0%|                                                                                      | 0/5 [00:00<?, ?it/s]"
     ]
    },
    {
     "name": "stdout",
     "output_type": "stream",
     "text": [
      "Begin group  2 training\n"
     ]
    },
    {
     "name": "stderr",
     "output_type": "stream",
     "text": [
      "Epoch:   0%|                                                                                      | 0/5 [00:00<?, ?it/s]"
     ]
    },
    {
     "name": "stdout",
     "output_type": "stream",
     "text": [
      "Group 0 clients ['f_00138', 'f_00098', 'f_00007', 'f_00031']\n",
      "Group 1 clients ['f_00061', 'f_00011', 'f_00120', 'f_00182']\n",
      "Group 2 clients ['f_00063', 'f_00023', 'f_00173', 'f_00095', 'f_00172', 'f_00021', 'f_00032', 'f_00164', 'f_00132', 'f_00016', 'f_00181', 'f_00085']\n",
      "The groups difference are: [0.0, 0.0012937333519118521, 0.0026935894073805144]\n",
      "Group 0\n",
      "At round 12 accuracy: 0.05128205128205128\n",
      "At round 12 training accuracy: 0.04093567251461988\n",
      "At round 12 training loss: 2.3675321065194423\n",
      "Group 1\n",
      "At round 12 accuracy: 0.42105263157894735\n",
      "At round 12 training accuracy: 0.4064516129032258\n",
      "At round 12 training loss: 1.2729385937413862\n",
      "Group 2\n",
      "At round 12 accuracy: 0.5045871559633027\n",
      "At round 12 training accuracy: 0.4934782608695652\n",
      "At round 12 training loss: 1.8695994905803515\n",
      "Begin group  0 training\n"
     ]
    },
    {
     "name": "stderr",
     "output_type": "stream",
     "text": [
      "Epoch:   0%|                                                                                      | 0/5 [00:00<?, ?it/s]"
     ]
    },
    {
     "name": "stdout",
     "output_type": "stream",
     "text": [
      "Begin group  1 training\n",
      "Begin group  2 training\n"
     ]
    },
    {
     "name": "stderr",
     "output_type": "stream",
     "text": [
      "Epoch:   0%|                                                                                      | 0/5 [00:00<?, ?it/s]"
     ]
    },
    {
     "name": "stdout",
     "output_type": "stream",
     "text": [
      "Group 0 clients ['f_00179', 'f_00159', 'f_00198', 'f_00128', 'f_00033']\n",
      "Group 1 clients ['f_00070', 'f_00110', 'f_00089', 'f_00102']\n",
      "Group 2 clients ['f_00155', 'f_00042', 'f_00023', 'f_00104', 'f_00096', 'f_00097', 'f_00095', 'f_00106', 'f_00065', 'f_00132', 'f_00079']\n",
      "The groups difference are: [1.1102230246251565e-16, 0.0024346210305281613, 0.0038811468365962387]\n",
      "Group 0\n",
      "At round 13 accuracy: 0.3333333333333333\n",
      "At round 13 training accuracy: 0.28125\n",
      "At round 13 training loss: 1.8627963702504833\n",
      "Group 1\n",
      "At round 13 accuracy: 0.4915254237288136\n",
      "At round 13 training accuracy: 0.46771037181996084\n",
      "At round 13 training loss: 1.7125496801331552\n",
      "Group 2\n",
      "At round 13 accuracy: 0.22972972972972974\n",
      "At round 13 training accuracy: 0.2185430463576159\n",
      "At round 13 training loss: 2.663796050461712\n",
      "Begin group  0 training\n"
     ]
    },
    {
     "name": "stderr",
     "output_type": "stream",
     "text": [
      "Epoch:   0%|                                                                                      | 0/5 [00:00<?, ?it/s]"
     ]
    },
    {
     "name": "stdout",
     "output_type": "stream",
     "text": [
      "Begin group  1 training\n"
     ]
    },
    {
     "name": "stderr",
     "output_type": "stream",
     "text": [
      "Epoch:   0%|                                                                                      | 0/5 [00:00<?, ?it/s]"
     ]
    },
    {
     "name": "stdout",
     "output_type": "stream",
     "text": [
      "Begin group  2 training\n"
     ]
    },
    {
     "name": "stderr",
     "output_type": "stream",
     "text": [
      "Epoch:   0%|                                                                                      | 0/5 [00:00<?, ?it/s]"
     ]
    },
    {
     "name": "stdout",
     "output_type": "stream",
     "text": [
      "Group 0 clients ['f_00198', 'f_00069', 'f_00149', 'f_00189']\n",
      "Group 1 clients ['f_00151', 'f_00122', 'f_00051', 'f_00093']\n",
      "Group 2 clients ['f_00044', 'f_00024', 'f_00155', 'f_00064', 'f_00114', 'f_00005', 'f_00015', 'f_00112', 'f_00006', 'f_00175', 'f_00047', 'f_00157']\n",
      "The groups difference are: [1.1102230246251565e-16, 0.002136539841053109, 0.0026960240358626653]\n",
      "Group 0\n",
      "At round 14 accuracy: 0.3783783783783784\n",
      "At round 14 training accuracy: 0.38485804416403785\n",
      "At round 14 training loss: 1.2423655392619715\n",
      "Group 1\n",
      "At round 14 accuracy: 0.22641509433962265\n",
      "At round 14 training accuracy: 0.22538293216630198\n",
      "At round 14 training loss: 2.1762570742705196\n",
      "Group 2\n",
      "At round 14 accuracy: 0.3595505617977528\n",
      "At round 14 training accuracy: 0.3181818181818182\n",
      "At round 14 training loss: 1.9524227881176586\n",
      "Begin group  0 training\n"
     ]
    },
    {
     "name": "stderr",
     "output_type": "stream",
     "text": [
      "Epoch:   0%|                                                                                      | 0/5 [00:00<?, ?it/s]"
     ]
    },
    {
     "name": "stdout",
     "output_type": "stream",
     "text": [
      "Begin group  1 training\n"
     ]
    },
    {
     "name": "stderr",
     "output_type": "stream",
     "text": [
      "Epoch:   0%|                                                                                      | 0/5 [00:00<?, ?it/s]"
     ]
    },
    {
     "name": "stdout",
     "output_type": "stream",
     "text": [
      "Begin group  2 training\n"
     ]
    },
    {
     "name": "stderr",
     "output_type": "stream",
     "text": [
      "Epoch:   0%|                                                                                      | 0/5 [00:00<?, ?it/s]"
     ]
    },
    {
     "name": "stdout",
     "output_type": "stream",
     "text": [
      "Group 0 clients ['f_00138', 'f_00058', 'f_00198', 'f_00040']\n",
      "Group 1 clients ['f_00170', 'f_00146', 'f_00191', 'f_00012']\n",
      "Group 2 clients ['f_00115', 'f_00026', 'f_00192', 'f_00184', 'f_00049', 'f_00172', 'f_00127', 'f_00030', 'f_00057', 'f_00072', 'f_00150', 'f_00009']\n",
      "The groups difference are: [1.1102230246251565e-16, 0.0030876405629522985, 0.003144100885591694]\n",
      "Group 0\n",
      "At round 15 accuracy: 0.6666666666666666\n",
      "At round 15 training accuracy: 0.6054421768707483\n",
      "At round 15 training loss: 1.8341147615796043\n",
      "Group 1\n",
      "At round 15 accuracy: 0.2\n",
      "At round 15 training accuracy: 0.2662337662337662\n",
      "At round 15 training loss: 2.6213187358596106\n",
      "Group 2\n",
      "At round 15 accuracy: 0.2054794520547945\n",
      "At round 15 training accuracy: 0.17275747508305647\n",
      "At round 15 training loss: 2.8318302811578264\n",
      "Begin group  0 training\n",
      "Begin group  1 training\n"
     ]
    },
    {
     "name": "stderr",
     "output_type": "stream",
     "text": [
      "Epoch:   0%|                                                                                      | 0/5 [00:00<?, ?it/s]"
     ]
    },
    {
     "name": "stdout",
     "output_type": "stream",
     "text": [
      "Begin group  2 training\n"
     ]
    },
    {
     "name": "stderr",
     "output_type": "stream",
     "text": [
      "Epoch:   0%|                                                                                      | 0/5 [00:00<?, ?it/s]"
     ]
    },
    {
     "name": "stdout",
     "output_type": "stream",
     "text": [
      "Group 0 clients ['f_00000', 'f_00007', 'f_00174', 'f_00029']\n",
      "Group 1 clients ['f_00100', 'f_00170', 'f_00081', 'f_00059', 'f_00154', 'f_00051']\n",
      "Group 2 clients ['f_00073', 'f_00072', 'f_00032', 'f_00134', 'f_00112', 'f_00090', 'f_00096', 'f_00054', 'f_00056', 'f_00187']\n",
      "The groups difference are: [1.1102230246251565e-16, 0.0020395937617700977, 0.002131468667800007]\n",
      "Group 0\n",
      "At round 16 accuracy: 0.6111111111111112\n",
      "At round 16 training accuracy: 0.33962264150943394\n",
      "At round 16 training loss: 2.3822734460890667\n",
      "Group 1\n",
      "At round 16 accuracy: 0.3584905660377358\n",
      "At round 16 training accuracy: 0.38137472283813745\n",
      "At round 16 training loss: 2.088726700145231\n",
      "Group 2\n",
      "At round 16 accuracy: 0.2872340425531915\n",
      "At round 16 training accuracy: 0.3185840707964602\n",
      "At round 16 training loss: 1.8901607358802284\n",
      "Begin group  0 training\n",
      "Begin group  1 training\n"
     ]
    },
    {
     "name": "stderr",
     "output_type": "stream",
     "text": [
      "Epoch:   0%|                                                                                      | 0/5 [00:00<?, ?it/s]"
     ]
    },
    {
     "name": "stdout",
     "output_type": "stream",
     "text": [
      "Begin group  2 training\n"
     ]
    },
    {
     "name": "stderr",
     "output_type": "stream",
     "text": [
      "Epoch:   0%|                                                                                      | 0/5 [00:00<?, ?it/s]"
     ]
    },
    {
     "name": "stdout",
     "output_type": "stream",
     "text": [
      "Group 0 clients ['f_00138', 'f_00000', 'f_00158', 'f_00147']\n",
      "Group 1 clients ['f_00080', 'f_00109', 'f_00146', 'f_00071']\n",
      "Group 2 clients ['f_00095', 'f_00192', 'f_00103', 'f_00082', 'f_00176', 'f_00197', 'f_00075', 'f_00085', 'f_00157', 'f_00126', 'f_00016', 'f_00087']\n",
      "The groups difference are: [1.1102230246251565e-16, 0.0012837728425261208, 0.0017399148480752302]\n",
      "Group 0\n",
      "At round 17 accuracy: 0.23809523809523808\n",
      "At round 17 training accuracy: 0.2711864406779661\n",
      "At round 17 training loss: 1.6542504817079016\n",
      "Group 1\n",
      "At round 17 accuracy: 0.5666666666666667\n",
      "At round 17 training accuracy: 0.5271317829457365\n",
      "At round 17 training loss: 1.4941759774851244\n",
      "Group 2\n",
      "At round 17 accuracy: 0.07920792079207921\n",
      "At round 17 training accuracy: 0.14219653179190753\n",
      "At round 17 training loss: 2.630048905356082\n",
      "Begin group  0 training\n"
     ]
    },
    {
     "name": "stderr",
     "output_type": "stream",
     "text": [
      "Epoch:   0%|                                                                                      | 0/5 [00:00<?, ?it/s]"
     ]
    },
    {
     "name": "stdout",
     "output_type": "stream",
     "text": [
      "Begin group  1 training\n",
      "Begin group  2 training\n"
     ]
    },
    {
     "name": "stderr",
     "output_type": "stream",
     "text": [
      "Epoch:   0%|                                                                                      | 0/5 [00:00<?, ?it/s]"
     ]
    },
    {
     "name": "stdout",
     "output_type": "stream",
     "text": [
      "Group 0 clients ['f_00108', 'f_00128', 'f_00088', 'f_00039', 'f_00040', 'f_00033']\n",
      "Group 1 clients ['f_00170', 'f_00012', 'f_00081', 'f_00109', 'f_00151', 'f_00074']\n",
      "Group 2 clients ['f_00044', 'f_00006', 'f_00134', 'f_00025', 'f_00091', 'f_00047', 'f_00186', 'f_00049']\n",
      "The groups difference are: [0.0, 0.0015244067503826786, 0.001584104783496132]\n",
      "Group 0\n",
      "At round 18 accuracy: 0.6333333333333333\n",
      "At round 18 training accuracy: 0.5085470085470085\n",
      "At round 18 training loss: 1.4066531372885418\n",
      "Group 1\n",
      "At round 18 accuracy: 0.5172413793103449\n",
      "At round 18 training accuracy: 0.37610619469026546\n",
      "At round 18 training loss: 2.561808760187267\n",
      "Group 2\n",
      "At round 18 accuracy: 0.22413793103448276\n",
      "At round 18 training accuracy: 0.13078470824949698\n",
      "At round 18 training loss: 2.4941993203441384\n",
      "Begin group  0 training\n"
     ]
    },
    {
     "name": "stderr",
     "output_type": "stream",
     "text": [
      "Epoch:   0%|                                                                                      | 0/5 [00:00<?, ?it/s]"
     ]
    },
    {
     "name": "stdout",
     "output_type": "stream",
     "text": [
      "Begin group  1 training\n",
      "Begin group  2 training\n"
     ]
    },
    {
     "name": "stderr",
     "output_type": "stream",
     "text": [
      "                                                                                                                        "
     ]
    },
    {
     "name": "stdout",
     "output_type": "stream",
     "text": [
      "Group 0 clients ['f_00037', 'f_00040', 'f_00033', 'f_00148']\n",
      "Group 1 clients ['f_00140', 'f_00152', 'f_00180', 'f_00031']\n",
      "Group 2 clients ['f_00163', 'f_00157', 'f_00105', 'f_00196', 'f_00091', 'f_00013', 'f_00094', 'f_00020', 'f_00078', 'f_00016', 'f_00169', 'f_00072']\n",
      "The groups difference are: [0.0, 0.0014029329819981173, 0.0015603789563412018]\n",
      "Group 0\n",
      "At round 19 accuracy: 0.28\n",
      "At round 19 training accuracy: 0.3054187192118227\n",
      "At round 19 training loss: 2.1884515849240307\n",
      "Group 1\n",
      "At round 19 accuracy: 0.5925925925925926\n",
      "At round 19 training accuracy: 0.549266247379455\n",
      "At round 19 training loss: 1.3971258736756362\n",
      "Group 2\n",
      "At round 19 accuracy: 0.21052631578947367\n",
      "At round 19 training accuracy: 0.2527743526510481\n",
      "At round 19 training loss: 1.9773458799510348\n",
      "Begin group  0 training\n"
     ]
    },
    {
     "name": "stderr",
     "output_type": "stream",
     "text": [
      "Epoch:   0%|                                                                                      | 0/5 [00:00<?, ?it/s]"
     ]
    },
    {
     "name": "stdout",
     "output_type": "stream",
     "text": [
      "Begin group  1 training\n"
     ]
    },
    {
     "name": "stderr",
     "output_type": "stream",
     "text": [
      "Epoch:   0%|                                                                                      | 0/5 [00:00<?, ?it/s]"
     ]
    },
    {
     "name": "stdout",
     "output_type": "stream",
     "text": [
      "Begin group  2 training\n"
     ]
    },
    {
     "name": "stderr",
     "output_type": "stream",
     "text": [
      "Epoch:   0%|                                                                                      | 0/5 [00:00<?, ?it/s]"
     ]
    },
    {
     "name": "stdout",
     "output_type": "stream",
     "text": [
      "Group 0 clients ['f_00168', 'f_00177', 'f_00167', 'f_00178']\n",
      "Group 1 clients ['f_00121', 'f_00109', 'f_00150', 'f_00192']\n",
      "Group 2 clients ['f_00175', 'f_00155', 'f_00166', 'f_00195', 'f_00028', 'f_00013', 'f_00196', 'f_00047', 'f_00136', 'f_00077', 'f_00187', 'f_00084']\n",
      "The groups difference are: [0.0, 0.002014328141308197, 0.0013502163003400458]\n",
      "Group 0\n",
      "At round 20 accuracy: 0.2727272727272727\n",
      "At round 20 training accuracy: 0.34035087719298246\n",
      "At round 20 training loss: 1.335992323724847\n",
      "Group 1\n",
      "At round 20 accuracy: 0.2\n",
      "At round 20 training accuracy: 0.3256578947368421\n",
      "At round 20 training loss: 1.524106119024126\n",
      "Group 2\n",
      "At round 20 accuracy: 0.1643835616438356\n",
      "At round 20 training accuracy: 0.18677685950413223\n",
      "At round 20 training loss: 2.1383259322032457\n",
      "Begin group  0 training\n"
     ]
    },
    {
     "name": "stderr",
     "output_type": "stream",
     "text": [
      "Epoch:   0%|                                                                                      | 0/5 [00:00<?, ?it/s]"
     ]
    },
    {
     "name": "stdout",
     "output_type": "stream",
     "text": [
      "Begin group  1 training\n"
     ]
    },
    {
     "name": "stderr",
     "output_type": "stream",
     "text": [
      "Epoch:   0%|                                                                                      | 0/5 [00:00<?, ?it/s]"
     ]
    },
    {
     "name": "stdout",
     "output_type": "stream",
     "text": [
      "Begin group  2 training\n"
     ]
    },
    {
     "name": "stderr",
     "output_type": "stream",
     "text": [
      "Epoch:   0%|                                                                                      | 0/5 [00:00<?, ?it/s]"
     ]
    },
    {
     "name": "stdout",
     "output_type": "stream",
     "text": [
      "Group 0 clients ['f_00129', 'f_00009', 'f_00144', 'f_00087']\n",
      "Group 1 clients ['f_00101', 'f_00152', 'f_00020', 'f_00091']\n",
      "Group 2 clients ['f_00017', 'f_00045', 'f_00183', 'f_00006', 'f_00052', 'f_00021', 'f_00042', 'f_00105', 'f_00145', 'f_00124', 'f_00092', 'f_00013']\n",
      "The groups difference are: [0.0, 0.0028465961796009243, 0.0011100319999086672]\n",
      "Group 0\n",
      "At round 21 accuracy: 0.5294117647058824\n",
      "At round 21 training accuracy: 0.5079365079365079\n",
      "At round 21 training loss: 1.7902568965271757\n",
      "Group 1\n",
      "At round 21 accuracy: 0.7291666666666666\n",
      "At round 21 training accuracy: 0.6067146282973621\n",
      "At round 21 training loss: 1.4159220528545426\n",
      "Group 2\n",
      "At round 21 accuracy: 0.18181818181818182\n",
      "At round 21 training accuracy: 0.19098457888493475\n",
      "At round 21 training loss: 2.2491496689661825\n",
      "Begin group  0 training\n"
     ]
    },
    {
     "name": "stderr",
     "output_type": "stream",
     "text": [
      "Epoch:   0%|                                                                                      | 0/5 [00:00<?, ?it/s]"
     ]
    },
    {
     "name": "stdout",
     "output_type": "stream",
     "text": [
      "Begin group  1 training\n"
     ]
    },
    {
     "name": "stderr",
     "output_type": "stream",
     "text": [
      "Epoch:   0%|                                                                                      | 0/5 [00:00<?, ?it/s]"
     ]
    },
    {
     "name": "stdout",
     "output_type": "stream",
     "text": [
      "Begin group  2 training\n"
     ]
    },
    {
     "name": "stderr",
     "output_type": "stream",
     "text": [
      "Epoch:   0%|                                                                                      | 0/5 [00:00<?, ?it/s]"
     ]
    },
    {
     "name": "stdout",
     "output_type": "stream",
     "text": [
      "Group 0 clients ['f_00128', 'f_00189', 'f_00098', 'f_00087', 'f_00144']\n",
      "Group 1 clients ['f_00091', 'f_00012', 'f_00170', 'f_00020']\n",
      "Group 2 clients ['f_00032', 'f_00046', 'f_00036', 'f_00176', 'f_00157', 'f_00163', 'f_00078', 'f_00124', 'f_00075', 'f_00104', 'f_00135']\n",
      "The groups difference are: [0.0, 0.0030685052862321482, 0.0017435505359757464]\n",
      "Group 0\n",
      "At round 22 accuracy: 0.2926829268292683\n",
      "At round 22 training accuracy: 0.3170391061452514\n",
      "At round 22 training loss: 1.7864772902187689\n",
      "Group 1\n",
      "At round 22 accuracy: 0.5454545454545454\n",
      "At round 22 training accuracy: 0.5177304964539007\n",
      "At round 22 training loss: 1.3663404444430738\n",
      "Group 2\n",
      "At round 22 accuracy: 0.36904761904761907\n",
      "At round 22 training accuracy: 0.3403068340306834\n",
      "At round 22 training loss: 1.8226197575591765\n",
      "Begin group  0 training\n"
     ]
    },
    {
     "name": "stderr",
     "output_type": "stream",
     "text": [
      "                                                                                                                        "
     ]
    },
    {
     "name": "stdout",
     "output_type": "stream",
     "text": [
      "Begin group  1 training\n"
     ]
    },
    {
     "name": "stderr",
     "output_type": "stream",
     "text": [
      "Epoch:   0%|                                                                                      | 0/5 [00:00<?, ?it/s]"
     ]
    },
    {
     "name": "stdout",
     "output_type": "stream",
     "text": [
      "Begin group  2 training\n"
     ]
    },
    {
     "name": "stderr",
     "output_type": "stream",
     "text": [
      "Epoch:   0%|                                                                                      | 0/5 [00:00<?, ?it/s]"
     ]
    },
    {
     "name": "stdout",
     "output_type": "stream",
     "text": [
      "Group 0 clients ['f_00119', 'f_00188', 'f_00198', 'f_00019', 'f_00174', 'f_00199']\n",
      "Group 1 clients ['f_00191', 'f_00140', 'f_00081', 'f_00072']\n",
      "Group 2 clients ['f_00075', 'f_00092', 'f_00077', 'f_00024', 'f_00030', 'f_00014', 'f_00097', 'f_00185', 'f_00046', 'f_00157']\n",
      "The groups difference are: [1.1102230246251565e-16, 0.003226851868521008, 0.0020215007069359636]\n",
      "Group 0\n",
      "At round 23 accuracy: 0.3695652173913043\n",
      "At round 23 training accuracy: 0.30423940149625933\n",
      "At round 23 training loss: 2.0838815164090394\n",
      "Group 1\n",
      "At round 23 accuracy: 0.7272727272727273\n",
      "At round 23 training accuracy: 0.519298245614035\n",
      "At round 23 training loss: 1.36191236930981\n",
      "Group 2\n",
      "At round 23 accuracy: 0.36923076923076925\n",
      "At round 23 training accuracy: 0.40625\n",
      "At round 23 training loss: 1.7646842697525726\n",
      "Begin group  0 training\n"
     ]
    },
    {
     "name": "stderr",
     "output_type": "stream",
     "text": [
      "Epoch:   0%|                                                                                      | 0/5 [00:00<?, ?it/s]"
     ]
    },
    {
     "name": "stdout",
     "output_type": "stream",
     "text": [
      "Begin group  1 training\n"
     ]
    },
    {
     "name": "stderr",
     "output_type": "stream",
     "text": [
      "Epoch:   0%|                                                                                      | 0/5 [00:00<?, ?it/s]"
     ]
    },
    {
     "name": "stdout",
     "output_type": "stream",
     "text": [
      "Begin group  2 training\n"
     ]
    },
    {
     "name": "stderr",
     "output_type": "stream",
     "text": [
      "Epoch:   0%|                                                                                      | 0/5 [00:00<?, ?it/s]"
     ]
    },
    {
     "name": "stdout",
     "output_type": "stream",
     "text": [
      "Group 0 clients ['f_00069', 'f_00159', 'f_00029', 'f_00000', 'f_00144']\n",
      "Group 1 clients ['f_00091', 'f_00190', 'f_00101', 'f_00072', 'f_00109', 'f_00102']\n",
      "Group 2 clients ['f_00125', 'f_00197', 'f_00196', 'f_00054', 'f_00048', 'f_00142', 'f_00014', 'f_00025', 'f_00026']\n",
      "The groups difference are: [0.0, 0.0024698597496327634, 0.0019618524912288215]\n",
      "Group 0\n",
      "At round 24 accuracy: 0.7222222222222222\n",
      "At round 24 training accuracy: 0.6039603960396039\n",
      "At round 24 training loss: 1.5781567734066804\n",
      "Group 1\n",
      "At round 24 accuracy: 0.4626865671641791\n",
      "At round 24 training accuracy: 0.5017123287671232\n",
      "At round 24 training loss: 1.4168290991897452\n",
      "Group 2\n",
      "At round 24 accuracy: 0.515625\n",
      "At round 24 training accuracy: 0.4944649446494465\n",
      "At round 24 training loss: 1.6185687259114536\n",
      "Begin group  0 training\n"
     ]
    },
    {
     "name": "stderr",
     "output_type": "stream",
     "text": [
      "Epoch:   0%|                                                                                      | 0/5 [00:00<?, ?it/s]"
     ]
    },
    {
     "name": "stdout",
     "output_type": "stream",
     "text": [
      "Begin group  1 training\n"
     ]
    },
    {
     "name": "stderr",
     "output_type": "stream",
     "text": [
      "Epoch:   0%|                                                                                      | 0/5 [00:00<?, ?it/s]"
     ]
    },
    {
     "name": "stdout",
     "output_type": "stream",
     "text": [
      "Begin group  2 training\n"
     ]
    },
    {
     "name": "stderr",
     "output_type": "stream",
     "text": [
      "Epoch:   0%|                                                                                      | 0/5 [00:00<?, ?it/s]"
     ]
    },
    {
     "name": "stdout",
     "output_type": "stream",
     "text": [
      "Group 0 clients ['f_00069', 'f_00148', 'f_00040', 'f_00068']\n",
      "Group 1 clients ['f_00081', 'f_00111', 'f_00120', 'f_00101', 'f_00193', 'f_00102', 'f_00122']\n",
      "Group 2 clients ['f_00117', 'f_00135', 'f_00176', 'f_00126', 'f_00082', 'f_00035', 'f_00103', 'f_00169', 'f_00097']\n",
      "The groups difference are: [0.0, 0.002255519712920817, 0.0016438546157002687]\n",
      "Group 0\n",
      "At round 25 accuracy: 0.7741935483870968\n",
      "At round 25 training accuracy: 0.6197718631178707\n",
      "At round 25 training loss: 1.4850870042246105\n",
      "Group 1\n",
      "At round 25 accuracy: 0.6219512195121951\n",
      "At round 25 training accuracy: 0.572039942938659\n",
      "At round 25 training loss: 1.141616079929722\n",
      "Group 2\n",
      "At round 25 accuracy: 0.3389830508474576\n",
      "At round 25 training accuracy: 0.4209445585215606\n",
      "At round 25 training loss: 1.7240780538112477\n",
      "Begin group  0 training\n"
     ]
    },
    {
     "name": "stderr",
     "output_type": "stream",
     "text": [
      "Epoch:   0%|                                                                                      | 0/5 [00:00<?, ?it/s]"
     ]
    },
    {
     "name": "stdout",
     "output_type": "stream",
     "text": [
      "Begin group  1 training\n"
     ]
    },
    {
     "name": "stderr",
     "output_type": "stream",
     "text": [
      "Epoch:   0%|                                                                                      | 0/5 [00:00<?, ?it/s]"
     ]
    },
    {
     "name": "stdout",
     "output_type": "stream",
     "text": [
      "Begin group  2 training\n"
     ]
    },
    {
     "name": "stderr",
     "output_type": "stream",
     "text": [
      "                                                                                                                        "
     ]
    },
    {
     "name": "stdout",
     "output_type": "stream",
     "text": [
      "Group 0 clients ['f_00167', 'f_00108', 'f_00118', 'f_00188', 'f_00174', 'f_00129']\n",
      "Group 1 clients ['f_00109', 'f_00030', 'f_00042', 'f_00168']\n",
      "Group 2 clients ['f_00025', 'f_00196', 'f_00050', 'f_00136', 'f_00153', 'f_00163', 'f_00124', 'f_00137', 'f_00116', 'f_00186']\n",
      "The groups difference are: [1.1102230246251565e-16, 0.002677928099709126, 0.0016965450923334124]\n",
      "Group 0\n",
      "At round 26 accuracy: 0.5789473684210527\n",
      "At round 26 training accuracy: 0.5494949494949495\n",
      "At round 26 training loss: 1.5559534901320333\n",
      "Group 1\n",
      "At round 26 accuracy: 0.4375\n",
      "At round 26 training accuracy: 0.328\n",
      "At round 26 training loss: 2.419775578022003\n",
      "Group 2\n",
      "At round 26 accuracy: 0.42105263157894735\n",
      "At round 26 training accuracy: 0.3384615384615385\n",
      "At round 26 training loss: 1.682545406634991\n",
      "Begin group  0 training\n"
     ]
    },
    {
     "name": "stderr",
     "output_type": "stream",
     "text": [
      "Epoch:   0%|                                                                                      | 0/5 [00:00<?, ?it/s]"
     ]
    },
    {
     "name": "stdout",
     "output_type": "stream",
     "text": [
      "Begin group  1 training\n",
      "Begin group  2 training\n"
     ]
    },
    {
     "name": "stderr",
     "output_type": "stream",
     "text": [
      "Epoch:   0%|                                                                                      | 0/5 [00:00<?, ?it/s]"
     ]
    },
    {
     "name": "stdout",
     "output_type": "stream",
     "text": [
      "Group 0 clients ['f_00058', 'f_00148', 'f_00068', 'f_00040', 'f_00009']\n",
      "Group 1 clients ['f_00101', 'f_00109', 'f_00012', 'f_00074']\n",
      "Group 2 clients ['f_00165', 'f_00185', 'f_00173', 'f_00095', 'f_00103', 'f_00048', 'f_00162', 'f_00139', 'f_00197', 'f_00078', 'f_00090']\n",
      "The groups difference are: [2.220446049250313e-16, 0.001974055205965275, 0.0017020132949481237]\n",
      "Group 0\n",
      "At round 27 accuracy: 0.7857142857142857\n",
      "At round 27 training accuracy: 0.7130434782608696\n",
      "At round 27 training loss: 1.217077054148135\n",
      "Group 1\n",
      "At round 27 accuracy: 0.35\n",
      "At round 27 training accuracy: 0.36363636363636365\n",
      "At round 27 training loss: 2.1236088121092163\n",
      "Group 2\n",
      "At round 27 accuracy: 0.3333333333333333\n",
      "At round 27 training accuracy: 0.2774869109947644\n",
      "At round 27 training loss: 2.377742125517827\n",
      "Begin group  0 training\n"
     ]
    },
    {
     "name": "stderr",
     "output_type": "stream",
     "text": [
      "Epoch:   0%|                                                                                      | 0/5 [00:00<?, ?it/s]"
     ]
    },
    {
     "name": "stdout",
     "output_type": "stream",
     "text": [
      "Begin group  1 training\n",
      "Begin group  2 training\n"
     ]
    },
    {
     "name": "stderr",
     "output_type": "stream",
     "text": [
      "Epoch:   0%|                                                                                      | 0/5 [00:00<?, ?it/s]"
     ]
    },
    {
     "name": "stdout",
     "output_type": "stream",
     "text": [
      "Group 0 clients ['f_00177', 'f_00069', 'f_00128', 'f_00098', 'f_00099']\n",
      "Group 1 clients ['f_00061', 'f_00170', 'f_00051', 'f_00168', 'f_00059']\n",
      "Group 2 clients ['f_00024', 'f_00126', 'f_00075', 'f_00187', 'f_00067', 'f_00065', 'f_00127', 'f_00073', 'f_00134', 'f_00164']\n",
      "The groups difference are: [0.0, 0.0017332918635981631, 0.0011790296346325668]\n",
      "Group 0\n",
      "At round 28 accuracy: 0.5\n",
      "At round 28 training accuracy: 0.4312617702448211\n",
      "At round 28 training loss: 1.4655964473322063\n",
      "Group 1\n",
      "At round 28 accuracy: 0.1111111111111111\n",
      "At round 28 training accuracy: 0.2518518518518518\n",
      "At round 28 training loss: 1.822383987462079\n",
      "Group 2\n",
      "At round 28 accuracy: 0.5170068027210885\n",
      "At round 28 training accuracy: 0.5168627450980392\n",
      "At round 28 training loss: 1.874961869015413\n",
      "Begin group  0 training\n"
     ]
    },
    {
     "name": "stderr",
     "output_type": "stream",
     "text": [
      "Epoch:   0%|                                                                                      | 0/5 [00:00<?, ?it/s]"
     ]
    },
    {
     "name": "stdout",
     "output_type": "stream",
     "text": [
      "Begin group  1 training\n",
      "Begin group  2 training\n"
     ]
    },
    {
     "name": "stderr",
     "output_type": "stream",
     "text": [
      "Epoch:   0%|                                                                                      | 0/5 [00:00<?, ?it/s]"
     ]
    },
    {
     "name": "stdout",
     "output_type": "stream",
     "text": [
      "Group 0 clients ['f_00119', 'f_00138', 'f_00088', 'f_00128', 'f_00198']\n",
      "Group 1 clients ['f_00061', 'f_00101', 'f_00161', 'f_00126']\n",
      "Group 2 clients ['f_00183', 'f_00063', 'f_00135', 'f_00053', 'f_00145', 'f_00197', 'f_00075', 'f_00141', 'f_00008', 'f_00027', 'f_00165']\n",
      "The groups difference are: [0.0, 0.0016744886907298362, 0.0017124413531242055]\n",
      "Group 0\n",
      "At round 29 accuracy: 0.5\n",
      "At round 29 training accuracy: 0.46919431279620855\n",
      "At round 29 training loss: 1.1308150172798555\n",
      "Group 1\n",
      "At round 29 accuracy: 0.46153846153846156\n",
      "At round 29 training accuracy: 0.43023255813953487\n",
      "At round 29 training loss: 2.010129755319551\n",
      "Group 2\n",
      "At round 29 accuracy: 0.336283185840708\n",
      "At round 29 training accuracy: 0.3556701030927835\n",
      "At round 29 training loss: 1.6226672134448572\n",
      "Begin group  0 training\n"
     ]
    },
    {
     "name": "stderr",
     "output_type": "stream",
     "text": [
      "Epoch:   0%|                                                                                      | 0/5 [00:00<?, ?it/s]"
     ]
    },
    {
     "name": "stdout",
     "output_type": "stream",
     "text": [
      "Begin group  1 training\n",
      "Begin group  2 training\n"
     ]
    },
    {
     "name": "stderr",
     "output_type": "stream",
     "text": [
      "Epoch:   0%|                                                                                      | 0/5 [00:00<?, ?it/s]"
     ]
    },
    {
     "name": "stdout",
     "output_type": "stream",
     "text": [
      "Group 0 clients ['f_00129', 'f_00067', 'f_00097', 'f_00126']\n",
      "Group 1 clients ['f_00171', 'f_00072', 'f_00111', 'f_00081', 'f_00150', 'f_00093']\n",
      "Group 2 clients ['f_00183', 'f_00063', 'f_00143', 'f_00024', 'f_00026', 'f_00124', 'f_00142', 'f_00021', 'f_00106', 'f_00184']\n",
      "The groups difference are: [0.0, 0.0014601717181497165, 0.0021445038879385203]\n",
      "Group 0\n",
      "At round 30 accuracy: 0.3333333333333333\n",
      "At round 30 training accuracy: 0.319634703196347\n",
      "At round 30 training loss: 2.0523172682278776\n",
      "Group 1\n",
      "At round 30 accuracy: 0.6326530612244898\n",
      "At round 30 training accuracy: 0.594272076372315\n",
      "At round 30 training loss: 1.6920912638484435\n",
      "Group 2\n",
      "At round 30 accuracy: 0.2833333333333333\n",
      "At round 30 training accuracy: 0.29116465863453816\n",
      "At round 30 training loss: 1.6025216134197742\n",
      "Begin group  0 training\n"
     ]
    },
    {
     "name": "stderr",
     "output_type": "stream",
     "text": [
      "Epoch:   0%|                                                                                      | 0/5 [00:00<?, ?it/s]"
     ]
    },
    {
     "name": "stdout",
     "output_type": "stream",
     "text": [
      "Begin group  1 training\n"
     ]
    },
    {
     "name": "stderr",
     "output_type": "stream",
     "text": [
      "Epoch:   0%|                                                                                      | 0/5 [00:00<?, ?it/s]"
     ]
    },
    {
     "name": "stdout",
     "output_type": "stream",
     "text": [
      "Begin group  2 training\n"
     ]
    },
    {
     "name": "stderr",
     "output_type": "stream",
     "text": [
      "Epoch:   0%|                                                                                      | 0/5 [00:00<?, ?it/s]"
     ]
    },
    {
     "name": "stdout",
     "output_type": "stream",
     "text": [
      "Group 0 clients ['f_00148', 'f_00179', 'f_00118', 'f_00147', 'f_00189']\n",
      "Group 1 clients ['f_00010', 'f_00102', 'f_00008', 'f_00041']\n",
      "Group 2 clients ['f_00043', 'f_00139', 'f_00045', 'f_00137', 'f_00079', 'f_00056', 'f_00055', 'f_00169', 'f_00017', 'f_00157', 'f_00096']\n",
      "The groups difference are: [0.0, 0.0024743713095922715, 0.002233027583907532]\n",
      "Group 0\n",
      "At round 31 accuracy: 0.35294117647058826\n",
      "At round 31 training accuracy: 0.3888888888888889\n",
      "At round 31 training loss: 2.205119816517388\n",
      "Group 1\n",
      "At round 31 accuracy: 0.36\n",
      "At round 31 training accuracy: 0.468384074941452\n",
      "At round 31 training loss: 1.6342469585025619\n",
      "Group 2\n",
      "At round 31 accuracy: 0.1044776119402985\n",
      "At round 31 training accuracy: 0.1444043321299639\n",
      "At round 31 training loss: 2.7093707817986554\n",
      "Begin group  0 training\n"
     ]
    },
    {
     "name": "stderr",
     "output_type": "stream",
     "text": [
      "Epoch:   0%|                                                                                      | 0/5 [00:00<?, ?it/s]"
     ]
    },
    {
     "name": "stdout",
     "output_type": "stream",
     "text": [
      "Begin group  1 training\n"
     ]
    },
    {
     "name": "stderr",
     "output_type": "stream",
     "text": [
      "                                                                                                                        "
     ]
    },
    {
     "name": "stdout",
     "output_type": "stream",
     "text": [
      "Begin group  2 training\n"
     ]
    },
    {
     "name": "stderr",
     "output_type": "stream",
     "text": [
      "Epoch:   0%|                                                                                      | 0/5 [00:00<?, ?it/s]"
     ]
    },
    {
     "name": "stdout",
     "output_type": "stream",
     "text": [
      "Group 0 clients ['f_00029', 'f_00118', 'f_00039', 'f_00107', 'f_00167', 'f_00144']\n",
      "Group 1 clients ['f_00121', 'f_00122', 'f_00101', 'f_00182', 'f_00109']\n",
      "Group 2 clients ['f_00017', 'f_00186', 'f_00075', 'f_00023', 'f_00028', 'f_00027', 'f_00181', 'f_00002', 'f_00173']\n",
      "The groups difference are: [0.0, 0.0024280116729129553, 0.001467729465422174]\n",
      "Group 0\n",
      "At round 32 accuracy: 0.423728813559322\n",
      "At round 32 training accuracy: 0.4408817635270541\n",
      "At round 32 training loss: 1.8121309891970219\n",
      "Group 1\n",
      "At round 32 accuracy: 0.47540983606557374\n",
      "At round 32 training accuracy: 0.46716697936210133\n",
      "At round 32 training loss: 1.235237741783457\n",
      "Group 2\n",
      "At round 32 accuracy: 0.16176470588235295\n",
      "At round 32 training accuracy: 0.20557491289198607\n",
      "At round 32 training loss: 2.3103121425631987\n",
      "Begin group  0 training\n"
     ]
    },
    {
     "name": "stderr",
     "output_type": "stream",
     "text": [
      "Epoch:   0%|                                                                                      | 0/5 [00:00<?, ?it/s]"
     ]
    },
    {
     "name": "stdout",
     "output_type": "stream",
     "text": [
      "Begin group  1 training\n"
     ]
    },
    {
     "name": "stderr",
     "output_type": "stream",
     "text": [
      "Epoch:   0%|                                                                                      | 0/5 [00:00<?, ?it/s]"
     ]
    },
    {
     "name": "stdout",
     "output_type": "stream",
     "text": [
      "Begin group  2 training\n"
     ]
    },
    {
     "name": "stderr",
     "output_type": "stream",
     "text": [
      "Epoch:   0%|                                                                                      | 0/5 [00:00<?, ?it/s]"
     ]
    },
    {
     "name": "stdout",
     "output_type": "stream",
     "text": [
      "Group 0 clients ['f_00149', 'f_00119', 'f_00118', 'f_00189', 'f_00029', 'f_00126']\n",
      "Group 1 clients ['f_00081', 'f_00171', 'f_00100', 'f_00008', 'f_00109']\n",
      "Group 2 clients ['f_00116', 'f_00015', 'f_00054', 'f_00038', 'f_00103', 'f_00162', 'f_00017', 'f_00117', 'f_00085']\n",
      "The groups difference are: [0.0, 0.0028511868102696347, 0.001679108024117415]\n",
      "Group 0\n",
      "At round 33 accuracy: 0.390625\n",
      "At round 33 training accuracy: 0.48175182481751827\n",
      "At round 33 training loss: 1.3335869843072266\n",
      "Group 1\n",
      "At round 33 accuracy: 0.25\n",
      "At round 33 training accuracy: 0.40594059405940597\n",
      "At round 33 training loss: 2.0541414872254475\n",
      "Group 2\n",
      "At round 33 accuracy: 0.25\n",
      "At round 33 training accuracy: 0.21800947867298578\n",
      "At round 33 training loss: 1.9764983656847082\n",
      "Begin group  0 training\n"
     ]
    },
    {
     "name": "stderr",
     "output_type": "stream",
     "text": [
      "                                                                                                                        "
     ]
    },
    {
     "name": "stdout",
     "output_type": "stream",
     "text": [
      "Begin group  1 training\n"
     ]
    },
    {
     "name": "stderr",
     "output_type": "stream",
     "text": [
      "Epoch:   0%|                                                                                      | 0/5 [00:00<?, ?it/s]"
     ]
    },
    {
     "name": "stdout",
     "output_type": "stream",
     "text": [
      "Begin group  2 training\n"
     ]
    },
    {
     "name": "stderr",
     "output_type": "stream",
     "text": [
      "Epoch:   0%|                                                                                      | 0/5 [00:00<?, ?it/s]"
     ]
    },
    {
     "name": "stdout",
     "output_type": "stream",
     "text": [
      "Group 0 clients ['f_00189', 'f_00097', 'f_00087', 'f_00040', 'f_00129', 'f_00003', 'f_00113']\n",
      "Group 1 clients ['f_00180', 'f_00074', 'f_00010', 'f_00142']\n",
      "Group 2 clients ['f_00166', 'f_00184', 'f_00183', 'f_00195', 'f_00079', 'f_00064', 'f_00076', 'f_00026', 'f_00169']\n",
      "The groups difference are: [0.0, 0.002055987397763692, 0.0017506083744247558]\n",
      "Group 0\n",
      "At round 34 accuracy: 0.3235294117647059\n",
      "At round 34 training accuracy: 0.35701906412478335\n",
      "At round 34 training loss: 2.156120898818639\n",
      "Group 1\n",
      "At round 34 accuracy: 0.3508771929824561\n",
      "At round 34 training accuracy: 0.3987730061349693\n",
      "At round 34 training loss: 1.5489252667973135\n",
      "Group 2\n",
      "At round 34 accuracy: 0.4050632911392405\n",
      "At round 34 training accuracy: 0.3914327917282127\n",
      "At round 34 training loss: 1.6711219992912327\n",
      "Begin group  0 training\n"
     ]
    },
    {
     "name": "stderr",
     "output_type": "stream",
     "text": [
      "Epoch:   0%|                                                                                      | 0/5 [00:00<?, ?it/s]"
     ]
    },
    {
     "name": "stdout",
     "output_type": "stream",
     "text": [
      "Begin group  1 training\n"
     ]
    },
    {
     "name": "stderr",
     "output_type": "stream",
     "text": [
      "Epoch:   0%|                                                                                      | 0/5 [00:00<?, ?it/s]"
     ]
    },
    {
     "name": "stdout",
     "output_type": "stream",
     "text": [
      "Begin group  2 training\n"
     ]
    },
    {
     "name": "stderr",
     "output_type": "stream",
     "text": [
      "Epoch:   0%|                                                                                      | 0/5 [00:00<?, ?it/s]"
     ]
    },
    {
     "name": "stdout",
     "output_type": "stream",
     "text": [
      "Group 0 clients ['f_00068', 'f_00179', 'f_00087', 'f_00003']\n",
      "Group 1 clients ['f_00010', 'f_00130', 'f_00102', 'f_00142', 'f_00154', 'f_00074']\n",
      "Group 2 clients ['f_00136', 'f_00096', 'f_00077', 'f_00133', 'f_00164', 'f_00049', 'f_00043', 'f_00028', 'f_00127', 'f_00156']\n",
      "The groups difference are: [0.0, 0.0022480873077765917, 0.0013130099437377307]\n",
      "Group 0\n",
      "At round 35 accuracy: 0.4528301886792453\n",
      "At round 35 training accuracy: 0.4613733905579399\n",
      "At round 35 training loss: 1.1678516956869625\n",
      "Group 1\n",
      "At round 35 accuracy: 0.3815789473684211\n",
      "At round 35 training accuracy: 0.39076923076923076\n",
      "At round 35 training loss: 2.5489679392484517\n",
      "Group 2\n",
      "At round 35 accuracy: 0.45263157894736844\n",
      "At round 35 training accuracy: 0.523153942428035\n",
      "At round 35 training loss: 1.594362702850108\n",
      "Begin group  0 training\n"
     ]
    },
    {
     "name": "stderr",
     "output_type": "stream",
     "text": [
      "Epoch:   0%|                                                                                      | 0/5 [00:00<?, ?it/s]"
     ]
    },
    {
     "name": "stdout",
     "output_type": "stream",
     "text": [
      "Begin group  1 training\n"
     ]
    },
    {
     "name": "stderr",
     "output_type": "stream",
     "text": [
      "Epoch:   0%|                                                                                      | 0/5 [00:00<?, ?it/s]"
     ]
    },
    {
     "name": "stdout",
     "output_type": "stream",
     "text": [
      "Begin group  2 training\n"
     ]
    },
    {
     "name": "stderr",
     "output_type": "stream",
     "text": [
      "Epoch:   0%|                                                                                      | 0/5 [00:00<?, ?it/s]"
     ]
    },
    {
     "name": "stdout",
     "output_type": "stream",
     "text": [
      "Group 0 clients ['f_00058', 'f_00198', 'f_00097', 'f_00077']\n",
      "Group 1 clients ['f_00061', 'f_00074', 'f_00010', 'f_00052']\n",
      "Group 2 clients ['f_00085', 'f_00143', 'f_00155', 'f_00056', 'f_00106', 'f_00092', 'f_00184', 'f_00014', 'f_00156', 'f_00075', 'f_00139', 'f_00053']\n",
      "The groups difference are: [0.0, 0.002795620359155815, 0.0018962009491793053]\n",
      "Group 0\n",
      "At round 36 accuracy: 0.7222222222222222\n",
      "At round 36 training accuracy: 0.6666666666666666\n",
      "At round 36 training loss: 1.0809397638266813\n",
      "Group 1\n",
      "At round 36 accuracy: 0.3018867924528302\n",
      "At round 36 training accuracy: 0.41517857142857145\n",
      "At round 36 training loss: 1.435725080647639\n",
      "Group 2\n",
      "At round 36 accuracy: 0.35514018691588783\n",
      "At round 36 training accuracy: 0.3178378378378378\n",
      "At round 36 training loss: 1.7653963390556542\n",
      "Begin group  0 training\n"
     ]
    },
    {
     "name": "stderr",
     "output_type": "stream",
     "text": [
      "Epoch:   0%|                                                                                      | 0/5 [00:00<?, ?it/s]"
     ]
    },
    {
     "name": "stdout",
     "output_type": "stream",
     "text": [
      "Begin group  1 training\n"
     ]
    },
    {
     "name": "stderr",
     "output_type": "stream",
     "text": [
      "Epoch:   0%|                                                                                      | 0/5 [00:00<?, ?it/s]"
     ]
    },
    {
     "name": "stdout",
     "output_type": "stream",
     "text": [
      "Begin group  2 training\n"
     ]
    },
    {
     "name": "stderr",
     "output_type": "stream",
     "text": [
      "Epoch:   0%|                                                                                      | 0/5 [00:00<?, ?it/s]"
     ]
    },
    {
     "name": "stdout",
     "output_type": "stream",
     "text": [
      "Group 0 clients ['f_00069', 'f_00078', 'f_00003', 'f_00174']\n",
      "Group 1 clients ['f_00020', 'f_00121', 'f_00081', 'f_00102', 'f_00150', 'f_00070', 'f_00146']\n",
      "Group 2 clients ['f_00125', 'f_00195', 'f_00004', 'f_00114', 'f_00187', 'f_00183', 'f_00153', 'f_00132', 'f_00002']\n",
      "The groups difference are: [0.0, 0.002487580015015256, 0.0020830390028347967]\n",
      "Group 0\n",
      "At round 37 accuracy: 0.4444444444444444\n",
      "At round 37 training accuracy: 0.358974358974359\n",
      "At round 37 training loss: 2.400871674983929\n",
      "Group 1\n",
      "At round 37 accuracy: 0.5425531914893617\n",
      "At round 37 training accuracy: 0.5788834951456311\n",
      "At round 37 training loss: 1.288806438735388\n",
      "Group 2\n",
      "At round 37 accuracy: 0.4642857142857143\n",
      "At round 37 training accuracy: 0.4157782515991471\n",
      "At round 37 training loss: 1.7744823203666378\n",
      "Begin group  0 training\n"
     ]
    },
    {
     "name": "stderr",
     "output_type": "stream",
     "text": [
      "Epoch:   0%|                                                                                      | 0/5 [00:00<?, ?it/s]"
     ]
    },
    {
     "name": "stdout",
     "output_type": "stream",
     "text": [
      "Begin group  1 training\n"
     ]
    },
    {
     "name": "stderr",
     "output_type": "stream",
     "text": [
      "Epoch:   0%|                                                                                      | 0/5 [00:00<?, ?it/s]"
     ]
    },
    {
     "name": "stdout",
     "output_type": "stream",
     "text": [
      "Begin group  2 training\n"
     ]
    },
    {
     "name": "stderr",
     "output_type": "stream",
     "text": [
      "Epoch:   0%|                                                                                      | 0/5 [00:00<?, ?it/s]"
     ]
    },
    {
     "name": "stdout",
     "output_type": "stream",
     "text": [
      "Group 0 clients ['f_00058', 'f_00174', 'f_00113', 'f_00197']\n",
      "Group 1 clients ['f_00191', 'f_00170', 'f_00011', 'f_00041', 'f_00120', 'f_00152']\n",
      "Group 2 clients ['f_00124', 'f_00137', 'f_00176', 'f_00117', 'f_00084', 'f_00049', 'f_00172', 'f_00136', 'f_00181', 'f_00186']\n",
      "The groups difference are: [0.0, 0.001914497898777734, 0.0015646590213277412]\n",
      "Group 0\n",
      "At round 38 accuracy: 0.2222222222222222\n",
      "At round 38 training accuracy: 0.23333333333333334\n",
      "At round 38 training loss: 2.3483892393112185\n",
      "Group 1\n",
      "At round 38 accuracy: 0.6862745098039216\n",
      "At round 38 training accuracy: 0.5972222222222222\n",
      "At round 38 training loss: 1.1465627446218773\n",
      "Group 2\n",
      "At round 38 accuracy: 0.3614457831325301\n",
      "At round 38 training accuracy: 0.3300699300699301\n",
      "At round 38 training loss: 1.9126639124396798\n",
      "Begin group  0 training\n"
     ]
    },
    {
     "name": "stderr",
     "output_type": "stream",
     "text": [
      "Epoch:   0%|                                                                                      | 0/5 [00:00<?, ?it/s]"
     ]
    },
    {
     "name": "stdout",
     "output_type": "stream",
     "text": [
      "Begin group  1 training\n"
     ]
    },
    {
     "name": "stderr",
     "output_type": "stream",
     "text": [
      "Epoch:   0%|                                                                                      | 0/5 [00:00<?, ?it/s]"
     ]
    },
    {
     "name": "stdout",
     "output_type": "stream",
     "text": [
      "Begin group  2 training\n"
     ]
    },
    {
     "name": "stderr",
     "output_type": "stream",
     "text": [
      "Epoch:   0%|                                                                                      | 0/5 [00:00<?, ?it/s]"
     ]
    },
    {
     "name": "stdout",
     "output_type": "stream",
     "text": [
      "Group 0 clients ['f_00019', 'f_00108', 'f_00128', 'f_00107']\n",
      "Group 1 clients ['f_00191', 'f_00020', 'f_00192', 'f_00074']\n",
      "Group 2 clients ['f_00173', 'f_00095', 'f_00005', 'f_00083', 'f_00117', 'f_00125', 'f_00044', 'f_00006', 'f_00002', 'f_00135', 'f_00023', 'f_00160']\n",
      "The groups difference are: [0.0, 0.0018730041968266775, 0.000866535704602267]\n",
      "Group 0\n",
      "At round 39 accuracy: 0.5666666666666667\n",
      "At round 39 training accuracy: 0.5793650793650794\n",
      "At round 39 training loss: 1.4555742049974107\n",
      "Group 1\n",
      "At round 39 accuracy: 0.3793103448275862\n",
      "At round 39 training accuracy: 0.4495798319327731\n",
      "At round 39 training loss: 1.7967365549392058\n",
      "Group 2\n",
      "At round 39 accuracy: 0.3288590604026846\n",
      "At round 39 training accuracy: 0.4080370942812983\n",
      "At round 39 training loss: 1.90171406783129\n",
      "Begin group  0 training\n"
     ]
    },
    {
     "name": "stderr",
     "output_type": "stream",
     "text": [
      "Epoch:   0%|                                                                                      | 0/5 [00:00<?, ?it/s]"
     ]
    },
    {
     "name": "stdout",
     "output_type": "stream",
     "text": [
      "Begin group  1 training\n",
      "Begin group  2 training\n"
     ]
    },
    {
     "name": "stderr",
     "output_type": "stream",
     "text": [
      "Epoch:   0%|                                                                                      | 0/5 [00:00<?, ?it/s]"
     ]
    },
    {
     "name": "stdout",
     "output_type": "stream",
     "text": [
      "Group 0 clients ['f_00037', 'f_00177', 'f_00089', 'f_00139']\n",
      "Group 1 clients ['f_00142', 'f_00171', 'f_00191', 'f_00140']\n",
      "Group 2 clients ['f_00116', 'f_00026', 'f_00183', 'f_00035', 'f_00096', 'f_00005', 'f_00160', 'f_00054', 'f_00134', 'f_00090', 'f_00023', 'f_00132']\n",
      "The groups difference are: [0.0, 0.001698825326008846, 0.0012383693560371611]\n",
      "Group 0\n",
      "At round 40 accuracy: 0.3902439024390244\n",
      "At round 40 training accuracy: 0.3324022346368715\n",
      "At round 40 training loss: 1.6343340574030103\n",
      "Group 1\n",
      "At round 40 accuracy: 0.75\n",
      "At round 40 training accuracy: 0.673728813559322\n",
      "At round 40 training loss: 1.0747361011424308\n",
      "Group 2\n",
      "At round 40 accuracy: 0.45806451612903226\n",
      "At round 40 training accuracy: 0.4451219512195122\n",
      "At round 40 training loss: 1.6856466143778184\n",
      "Begin group  0 training\n"
     ]
    },
    {
     "name": "stderr",
     "output_type": "stream",
     "text": [
      "Epoch:   0%|                                                                                      | 0/5 [00:00<?, ?it/s]"
     ]
    },
    {
     "name": "stdout",
     "output_type": "stream",
     "text": [
      "Begin group  1 training\n",
      "Begin group  2 training\n"
     ]
    },
    {
     "name": "stderr",
     "output_type": "stream",
     "text": [
      "Epoch:   0%|                                                                                      | 0/5 [00:00<?, ?it/s]"
     ]
    },
    {
     "name": "stdout",
     "output_type": "stream",
     "text": [
      "Group 0 clients ['f_00029', 'f_00118', 'f_00009', 'f_00068']\n",
      "Group 1 clients ['f_00051', 'f_00030', 'f_00091', 'f_00152', 'f_00168', 'f_00130']\n",
      "Group 2 clients ['f_00196', 'f_00063', 'f_00014', 'f_00165', 'f_00096', 'f_00172', 'f_00090', 'f_00194', 'f_00038', 'f_00137']\n",
      "The groups difference are: [0.0, 0.0020325126152218598, 0.0013537682741864288]\n",
      "Group 0\n",
      "At round 41 accuracy: 0.5102040816326531\n",
      "At round 41 training accuracy: 0.5046728971962616\n",
      "At round 41 training loss: 1.7138216049871713\n",
      "Group 1\n",
      "At round 41 accuracy: 0.6\n",
      "At round 41 training accuracy: 0.6179245283018868\n",
      "At round 41 training loss: 1.2252112722621773\n",
      "Group 2\n",
      "At round 41 accuracy: 0.3611111111111111\n",
      "At round 41 training accuracy: 0.3740621650589496\n",
      "At round 41 training loss: 1.8505547718730897\n",
      "Begin group  0 training\n"
     ]
    },
    {
     "name": "stderr",
     "output_type": "stream",
     "text": [
      "Epoch:   0%|                                                                                      | 0/5 [00:00<?, ?it/s]"
     ]
    },
    {
     "name": "stdout",
     "output_type": "stream",
     "text": [
      "Begin group  1 training\n"
     ]
    },
    {
     "name": "stderr",
     "output_type": "stream",
     "text": [
      "Epoch:   0%|                                                                                      | 0/5 [00:00<?, ?it/s]"
     ]
    },
    {
     "name": "stdout",
     "output_type": "stream",
     "text": [
      "Begin group  2 training\n"
     ]
    },
    {
     "name": "stderr",
     "output_type": "stream",
     "text": [
      "Epoch:   0%|                                                                                      | 0/5 [00:00<?, ?it/s]"
     ]
    },
    {
     "name": "stdout",
     "output_type": "stream",
     "text": [
      "Group 0 clients ['f_00068', 'f_00177', 'f_00158', 'f_00128', 'f_00069', 'f_00174', 'f_00078']\n",
      "Group 1 clients ['f_00182', 'f_00170', 'f_00152', 'f_00030']\n",
      "Group 2 clients ['f_00095', 'f_00186', 'f_00015', 'f_00165', 'f_00115', 'f_00045', 'f_00066', 'f_00056', 'f_00082']\n",
      "The groups difference are: [0.0, 0.0021186962264740927, 0.0014681608650308764]\n",
      "Group 0\n",
      "At round 42 accuracy: 0.7017543859649122\n",
      "At round 42 training accuracy: 0.5178571428571429\n",
      "At round 42 training loss: 1.568319917671264\n",
      "Group 1\n",
      "At round 42 accuracy: 0.6206896551724138\n",
      "At round 42 training accuracy: 0.5778688524590164\n",
      "At round 42 training loss: 1.197044039847421\n",
      "Group 2\n",
      "At round 42 accuracy: 0.5223880597014925\n",
      "At round 42 training accuracy: 0.5399644760213144\n",
      "At round 42 training loss: 1.5993589823453507\n",
      "Begin group  0 training\n"
     ]
    },
    {
     "name": "stderr",
     "output_type": "stream",
     "text": [
      "                                                                                                                        "
     ]
    },
    {
     "name": "stdout",
     "output_type": "stream",
     "text": [
      "Begin group  1 training\n",
      "Begin group  2 training\n"
     ]
    },
    {
     "name": "stderr",
     "output_type": "stream",
     "text": [
      "Epoch:   0%|                                                                                      | 0/5 [00:00<?, ?it/s]"
     ]
    },
    {
     "name": "stdout",
     "output_type": "stream",
     "text": [
      "Group 0 clients ['f_00037', 'f_00067', 'f_00128', 'f_00188', 'f_00149', 'f_00029']\n",
      "Group 1 clients ['f_00080', 'f_00093', 'f_00010', 'f_00062', 'f_00146']\n",
      "Group 2 clients ['f_00056', 'f_00017', 'f_00133', 'f_00195', 'f_00079', 'f_00183', 'f_00065', 'f_00038', 'f_00173']\n",
      "The groups difference are: [0.0, 0.002042971314097919, 0.001394599551511777]\n",
      "Group 0\n",
      "At round 43 accuracy: 0.6060606060606061\n",
      "At round 43 training accuracy: 0.5446735395189003\n",
      "At round 43 training loss: 1.2758350073267095\n",
      "Group 1\n",
      "At round 43 accuracy: 0.6616541353383458\n",
      "At round 43 training accuracy: 0.6629974597798476\n",
      "At round 43 training loss: 1.0068836777922867\n",
      "Group 2\n",
      "At round 43 accuracy: 0.20833333333333334\n",
      "At round 43 training accuracy: 0.2153846153846154\n",
      "At round 43 training loss: 2.336629067323147\n",
      "Begin group  0 training\n"
     ]
    },
    {
     "name": "stderr",
     "output_type": "stream",
     "text": [
      "Epoch:   0%|                                                                                      | 0/5 [00:00<?, ?it/s]"
     ]
    },
    {
     "name": "stdout",
     "output_type": "stream",
     "text": [
      "Begin group  1 training\n"
     ]
    },
    {
     "name": "stderr",
     "output_type": "stream",
     "text": [
      "Epoch:   0%|                                                                                      | 0/5 [00:00<?, ?it/s]"
     ]
    },
    {
     "name": "stdout",
     "output_type": "stream",
     "text": [
      "Begin group  2 training\n"
     ]
    },
    {
     "name": "stderr",
     "output_type": "stream",
     "text": [
      "Epoch:   0%|                                                                                      | 0/5 [00:00<?, ?it/s]"
     ]
    },
    {
     "name": "stdout",
     "output_type": "stream",
     "text": [
      "Group 0 clients ['f_00068', 'f_00009', 'f_00089', 'f_00003']\n",
      "Group 1 clients ['f_00182', 'f_00180', 'f_00111', 'f_00023']\n",
      "Group 2 clients ['f_00045', 'f_00114', 'f_00157', 'f_00054', 'f_00135', 'f_00073', 'f_00028', 'f_00079', 'f_00124', 'f_00064', 'f_00035', 'f_00047']\n",
      "The groups difference are: [2.220446049250313e-16, 0.0058882256098746755, 0.0011052675601643802]\n",
      "Group 0\n",
      "At round 44 accuracy: 0.32\n",
      "At round 44 training accuracy: 0.44660194174757284\n",
      "At round 44 training loss: 2.1730913247876953\n",
      "Group 1\n",
      "At round 44 accuracy: 0.3333333333333333\n",
      "At round 44 training accuracy: 0.3932291666666667\n",
      "At round 44 training loss: 2.8678593604514995\n",
      "Group 2\n",
      "At round 44 accuracy: 0.5508474576271186\n",
      "At round 44 training accuracy: 0.5621242484969939\n",
      "At round 44 training loss: 1.5794598822125452\n",
      "Begin group  0 training\n"
     ]
    },
    {
     "name": "stderr",
     "output_type": "stream",
     "text": [
      "Epoch:   0%|                                                                                      | 0/5 [00:00<?, ?it/s]"
     ]
    },
    {
     "name": "stdout",
     "output_type": "stream",
     "text": [
      "Begin group  1 training\n"
     ]
    },
    {
     "name": "stderr",
     "output_type": "stream",
     "text": [
      "Epoch:   0%|                                                                                      | 0/5 [00:00<?, ?it/s]"
     ]
    },
    {
     "name": "stdout",
     "output_type": "stream",
     "text": [
      "Begin group  2 training\n"
     ]
    },
    {
     "name": "stderr",
     "output_type": "stream",
     "text": [
      "                                                                                                                        "
     ]
    },
    {
     "name": "stdout",
     "output_type": "stream",
     "text": [
      "Group 0 clients ['f_00058', 'f_00069', 'f_00129', 'f_00149', 'f_00040', 'f_00003', 'f_00033']\n",
      "Group 1 clients ['f_00062', 'f_00072', 'f_00182', 'f_00190', 'f_00080']\n",
      "Group 2 clients ['f_00153', 'f_00025', 'f_00112', 'f_00045', 'f_00013', 'f_00044', 'f_00134', 'f_00173']\n",
      "The groups difference are: [0.0, 0.003724592069438426, 0.0012813040321442148]\n",
      "Group 0\n",
      "At round 45 accuracy: 0.6875\n",
      "At round 45 training accuracy: 0.5343511450381679\n",
      "At round 45 training loss: 1.5526669566867917\n",
      "Group 1\n",
      "At round 45 accuracy: 0.6352459016393442\n",
      "At round 45 training accuracy: 0.6871559633027523\n",
      "At round 45 training loss: 1.0346910711548745\n",
      "Group 2\n",
      "At round 45 accuracy: 0.5\n",
      "At round 45 training accuracy: 0.5069124423963134\n",
      "At round 45 training loss: 1.338233502504463\n",
      "Begin group  0 training\n"
     ]
    },
    {
     "name": "stderr",
     "output_type": "stream",
     "text": [
      "Epoch:   0%|                                                                                      | 0/5 [00:00<?, ?it/s]"
     ]
    },
    {
     "name": "stdout",
     "output_type": "stream",
     "text": [
      "Begin group  1 training\n"
     ]
    },
    {
     "name": "stderr",
     "output_type": "stream",
     "text": [
      "Epoch:   0%|                                                                                      | 0/5 [00:00<?, ?it/s]"
     ]
    },
    {
     "name": "stdout",
     "output_type": "stream",
     "text": [
      "Begin group  2 training\n"
     ]
    },
    {
     "name": "stderr",
     "output_type": "stream",
     "text": [
      "                                                                                                                        "
     ]
    },
    {
     "name": "stdout",
     "output_type": "stream",
     "text": [
      "Group 0 clients ['f_00138', 'f_00037', 'f_00177', 'f_00113']\n",
      "Group 1 clients ['f_00051', 'f_00151', 'f_00111', 'f_00012', 'f_00110', 'f_00008']\n",
      "Group 2 clients ['f_00134', 'f_00123', 'f_00017', 'f_00025', 'f_00004', 'f_00145', 'f_00090', 'f_00083', 'f_00169', 'f_00106']\n",
      "The groups difference are: [0.0, 0.007275322102952009, 0.0013814013675705894]\n",
      "Group 0\n",
      "At round 46 accuracy: 0.3333333333333333\n",
      "At round 46 training accuracy: 0.3\n",
      "At round 46 training loss: 2.4478053516811795\n",
      "Group 1\n",
      "At round 46 accuracy: 0.375\n",
      "At round 46 training accuracy: 0.5459770114942529\n",
      "At round 46 training loss: 2.262626244076367\n",
      "Group 2\n",
      "At round 46 accuracy: 0.5161290322580645\n",
      "At round 46 training accuracy: 0.5165394402035624\n",
      "At round 46 training loss: 1.6283117240773508\n",
      "Begin group  0 training\n"
     ]
    },
    {
     "name": "stderr",
     "output_type": "stream",
     "text": [
      "                                                                                                                        "
     ]
    },
    {
     "name": "stdout",
     "output_type": "stream",
     "text": [
      "Begin group  1 training\n",
      "Begin group  2 training\n"
     ]
    },
    {
     "name": "stderr",
     "output_type": "stream",
     "text": [
      "Epoch:   0%|                                                                                      | 0/5 [00:00<?, ?it/s]"
     ]
    },
    {
     "name": "stdout",
     "output_type": "stream",
     "text": [
      "Group 0 clients ['f_00108', 'f_00009', 'f_00138', 'f_00000']\n",
      "Group 1 clients ['f_00191', 'f_00062', 'f_00091', 'f_00020', 'f_00170', 'f_00154']\n",
      "Group 2 clients ['f_00083', 'f_00133', 'f_00036', 'f_00025', 'f_00005', 'f_00094', 'f_00141', 'f_00106', 'f_00016', 'f_00132']\n",
      "The groups difference are: [0.0, 0.005395180414371592, 0.0013663991162489175]\n",
      "Group 0\n",
      "At round 47 accuracy: 0.4642857142857143\n",
      "At round 47 training accuracy: 0.41630901287553645\n",
      "At round 47 training loss: 2.0744302129540833\n",
      "Group 1\n",
      "At round 47 accuracy: 0.6511627906976745\n",
      "At round 47 training accuracy: 0.6832244008714597\n",
      "At round 47 training loss: 0.9366704973000587\n",
      "Group 2\n",
      "At round 47 accuracy: 0.42105263157894735\n",
      "At round 47 training accuracy: 0.420545746388443\n",
      "At round 47 training loss: 1.6672239427007796\n",
      "Begin group  0 training\n"
     ]
    },
    {
     "name": "stderr",
     "output_type": "stream",
     "text": [
      "Epoch:   0%|                                                                                      | 0/5 [00:00<?, ?it/s]"
     ]
    },
    {
     "name": "stdout",
     "output_type": "stream",
     "text": [
      "Begin group  1 training\n"
     ]
    },
    {
     "name": "stderr",
     "output_type": "stream",
     "text": [
      "Epoch:   0%|                                                                                      | 0/5 [00:00<?, ?it/s]"
     ]
    },
    {
     "name": "stdout",
     "output_type": "stream",
     "text": [
      "Begin group  2 training\n"
     ]
    },
    {
     "name": "stderr",
     "output_type": "stream",
     "text": [
      "Epoch:   0%|                                                                                      | 0/5 [00:00<?, ?it/s]"
     ]
    },
    {
     "name": "stdout",
     "output_type": "stream",
     "text": [
      "Group 0 clients ['f_00129', 'f_00078', 'f_00197', 'f_00137']\n",
      "Group 1 clients ['f_00041', 'f_00192', 'f_00031', 'f_00071', 'f_00072', 'f_00008']\n",
      "Group 2 clients ['f_00165', 'f_00173', 'f_00013', 'f_00184', 'f_00085', 'f_00132', 'f_00163', 'f_00026', 'f_00183', 'f_00195']\n",
      "The groups difference are: [0.0, 0.007747942399267016, 0.0015248791048849686]\n",
      "Group 0\n",
      "At round 48 accuracy: 0.5\n",
      "At round 48 training accuracy: 0.5619834710743802\n",
      "At round 48 training loss: 1.5132234394550323\n",
      "Group 1\n",
      "At round 48 accuracy: 0.8214285714285714\n",
      "At round 48 training accuracy: 0.691304347826087\n",
      "At round 48 training loss: 1.330029250357462\n",
      "Group 2\n",
      "At round 48 accuracy: 0.4857142857142857\n",
      "At round 48 training accuracy: 0.5025295109612141\n",
      "At round 48 training loss: 1.3835015627626224\n",
      "Begin group  0 training\n"
     ]
    },
    {
     "name": "stderr",
     "output_type": "stream",
     "text": [
      "Epoch:   0%|                                                                                      | 0/5 [00:00<?, ?it/s]"
     ]
    },
    {
     "name": "stdout",
     "output_type": "stream",
     "text": [
      "Begin group  1 training\n",
      "Begin group  2 training\n"
     ]
    },
    {
     "name": "stderr",
     "output_type": "stream",
     "text": [
      "Epoch:   0%|                                                                                      | 0/5 [00:00<?, ?it/s]"
     ]
    },
    {
     "name": "stdout",
     "output_type": "stream",
     "text": [
      "Group 0 clients ['f_00067', 'f_00148', 'f_00089', 'f_00107', 'f_00144', 'f_00189', 'f_00029', 'f_00007']\n",
      "Group 1 clients ['f_00111', 'f_00150', 'f_00180', 'f_00181']\n",
      "Group 2 clients ['f_00195', 'f_00153', 'f_00046', 'f_00104', 'f_00065', 'f_00017', 'f_00013', 'f_00132']\n",
      "The groups difference are: [2.220446049250313e-16, 0.005583869860932733, 0.0012778465889642376]\n",
      "Group 0\n",
      "At round 49 accuracy: 0.4883720930232558\n",
      "At round 49 training accuracy: 0.5328767123287671\n",
      "At round 49 training loss: 1.2881627037100596\n",
      "Group 1\n",
      "At round 49 accuracy: 0.35135135135135137\n",
      "At round 49 training accuracy: 0.4\n",
      "At round 49 training loss: 2.1419381529092787\n",
      "Group 2\n",
      "At round 49 accuracy: 0.5333333333333333\n",
      "At round 49 training accuracy: 0.5454545454545454\n",
      "At round 49 training loss: 1.3175606607734007\n",
      "Begin group  0 training\n"
     ]
    },
    {
     "name": "stderr",
     "output_type": "stream",
     "text": [
      "Epoch:   0%|                                                                                      | 0/5 [00:00<?, ?it/s]"
     ]
    },
    {
     "name": "stdout",
     "output_type": "stream",
     "text": [
      "Begin group  1 training\n"
     ]
    },
    {
     "name": "stderr",
     "output_type": "stream",
     "text": [
      "Epoch:   0%|                                                                                      | 0/5 [00:00<?, ?it/s]"
     ]
    },
    {
     "name": "stdout",
     "output_type": "stream",
     "text": [
      "Begin group  2 training\n"
     ]
    },
    {
     "name": "stderr",
     "output_type": "stream",
     "text": [
      "Epoch:   0%|                                                                                      | 0/5 [00:00<?, ?it/s]"
     ]
    },
    {
     "name": "stdout",
     "output_type": "stream",
     "text": [
      "Group 0 clients ['f_00069', 'f_00138', 'f_00088', 'f_00197', 'f_00199', 'f_00039', 'f_00099', 'f_00159']\n",
      "Group 1 clients ['f_00151', 'f_00081', 'f_00012', 'f_00008', 'f_00020', 'f_00023']\n",
      "Group 2 clients ['f_00025', 'f_00165', 'f_00112', 'f_00144', 'f_00073', 'f_00160']\n",
      "The groups difference are: [0.0, 0.004325010044550437, 0.0012544721816942772]\n",
      "Group 0\n",
      "At round 50 accuracy: 0.36923076923076925\n",
      "At round 50 training accuracy: 0.36363636363636365\n",
      "At round 50 training loss: 1.563933708451011\n",
      "Group 1\n",
      "At round 50 accuracy: 0.4473684210526316\n",
      "At round 50 training accuracy: 0.3256578947368421\n",
      "At round 50 training loss: 2.2377441839167944\n",
      "Group 2\n",
      "At round 50 accuracy: 0.4166666666666667\n",
      "At round 50 training accuracy: 0.44565217391304346\n",
      "At round 50 training loss: 1.9599899083807848\n",
      "Begin group  0 training\n"
     ]
    },
    {
     "name": "stderr",
     "output_type": "stream",
     "text": [
      "Epoch:   0%|                                                                                      | 0/5 [00:00<?, ?it/s]"
     ]
    },
    {
     "name": "stdout",
     "output_type": "stream",
     "text": [
      "Begin group  1 training\n"
     ]
    },
    {
     "name": "stderr",
     "output_type": "stream",
     "text": [
      "Epoch:   0%|                                                                                      | 0/5 [00:00<?, ?it/s]"
     ]
    },
    {
     "name": "stdout",
     "output_type": "stream",
     "text": [
      "Begin group  2 training\n"
     ]
    },
    {
     "name": "stderr",
     "output_type": "stream",
     "text": [
      "Epoch:   0%|                                                                                      | 0/5 [00:00<?, ?it/s]"
     ]
    },
    {
     "name": "stdout",
     "output_type": "stream",
     "text": [
      "Group 0 clients ['f_00177', 'f_00118', 'f_00068', 'f_00007', 'f_00148', 'f_00058', 'f_00067', 'f_00128']\n",
      "Group 1 clients ['f_00171', 'f_00192', 'f_00023', 'f_00174', 'f_00190', 'f_00010']\n",
      "Group 2 clients ['f_00115', 'f_00104', 'f_00004', 'f_00086', 'f_00160', 'f_00014']\n",
      "The groups difference are: [0.0, 0.0031152370902629567, 0.0011153465704083487]\n",
      "Group 0\n",
      "At round 51 accuracy: 0.47115384615384615\n",
      "At round 51 training accuracy: 0.42417582417582417\n",
      "At round 51 training loss: 1.8497177337552164\n",
      "Group 1\n",
      "At round 51 accuracy: 0.5166666666666667\n",
      "At round 51 training accuracy: 0.5297619047619048\n",
      "At round 51 training loss: 1.275990170382318\n",
      "Group 2\n",
      "At round 51 accuracy: 0.6\n",
      "At round 51 training accuracy: 0.5767441860465117\n",
      "At round 51 training loss: 1.559505844485852\n",
      "Begin group  0 training\n"
     ]
    },
    {
     "name": "stderr",
     "output_type": "stream",
     "text": [
      "Epoch:   0%|                                                                                      | 0/5 [00:00<?, ?it/s]"
     ]
    },
    {
     "name": "stdout",
     "output_type": "stream",
     "text": [
      "Begin group  1 training\n"
     ]
    },
    {
     "name": "stderr",
     "output_type": "stream",
     "text": [
      "Epoch:   0%|                                                                                      | 0/5 [00:00<?, ?it/s]"
     ]
    },
    {
     "name": "stdout",
     "output_type": "stream",
     "text": [
      "Begin group  2 training\n"
     ]
    },
    {
     "name": "stderr",
     "output_type": "stream",
     "text": [
      "Epoch:   0%|                                                                                      | 0/5 [00:00<?, ?it/s]"
     ]
    },
    {
     "name": "stdout",
     "output_type": "stream",
     "text": [
      "Group 0 clients ['f_00119', 'f_00098', 'f_00067', 'f_00040', 'f_00189', 'f_00003']\n",
      "Group 1 clients ['f_00062', 'f_00023', 'f_00091', 'f_00104', 'f_00093']\n",
      "Group 2 clients ['f_00114', 'f_00176', 'f_00131', 'f_00056', 'f_00132', 'f_00145', 'f_00047', 'f_00027', 'f_00115']\n",
      "The groups difference are: [0.0, 0.003074168455805326, 0.001630212281150012]\n",
      "Group 0\n",
      "At round 52 accuracy: 0.46808510638297873\n",
      "At round 52 training accuracy: 0.47730061349693254\n",
      "At round 52 training loss: 1.3825739913191533\n",
      "Group 1\n",
      "At round 52 accuracy: 0.5307692307692308\n",
      "At round 52 training accuracy: 0.5687121866897148\n",
      "At round 52 training loss: 1.2136359100158398\n",
      "Group 2\n",
      "At round 52 accuracy: 0.15\n",
      "At round 52 training accuracy: 0.07213114754098361\n",
      "At round 52 training loss: 2.6472554785306337\n",
      "Begin group  0 training\n"
     ]
    },
    {
     "name": "stderr",
     "output_type": "stream",
     "text": [
      "Epoch:   0%|                                                                                      | 0/5 [00:00<?, ?it/s]"
     ]
    },
    {
     "name": "stdout",
     "output_type": "stream",
     "text": [
      "Begin group  1 training\n"
     ]
    },
    {
     "name": "stderr",
     "output_type": "stream",
     "text": [
      "Epoch:   0%|                                                                                      | 0/5 [00:00<?, ?it/s]"
     ]
    },
    {
     "name": "stdout",
     "output_type": "stream",
     "text": [
      "Begin group  2 training\n"
     ]
    },
    {
     "name": "stderr",
     "output_type": "stream",
     "text": [
      "                                                                                                                        "
     ]
    },
    {
     "name": "stdout",
     "output_type": "stream",
     "text": [
      "Group 0 clients ['f_00149', 'f_00188', 'f_00179', 'f_00168']\n",
      "Group 1 clients ['f_00100', 'f_00190', 'f_00120', 'f_00109', 'f_00074']\n",
      "Group 2 clients ['f_00115', 'f_00143', 'f_00175', 'f_00163', 'f_00172', 'f_00132', 'f_00001', 'f_00185', 'f_00066', 'f_00050', 'f_00053']\n",
      "The groups difference are: [0.0, 0.005847013326455985, 0.0012140232810115004]\n",
      "Group 0\n",
      "At round 53 accuracy: 0.4666666666666667\n",
      "At round 53 training accuracy: 0.5447154471544715\n",
      "At round 53 training loss: 1.28448186608834\n",
      "Group 1\n",
      "At round 53 accuracy: 0.08333333333333333\n",
      "At round 53 training accuracy: 0.23039215686274508\n",
      "At round 53 training loss: 4.0023441939961675\n",
      "Group 2\n",
      "At round 53 accuracy: 0.27927927927927926\n",
      "At round 53 training accuracy: 0.35343915343915344\n",
      "At round 53 training loss: 1.576641896666673\n",
      "Begin group  0 training\n",
      "Begin group  1 training\n"
     ]
    },
    {
     "name": "stderr",
     "output_type": "stream",
     "text": [
      "Epoch:   0%|                                                                                      | 0/5 [00:00<?, ?it/s]"
     ]
    },
    {
     "name": "stdout",
     "output_type": "stream",
     "text": [
      "Begin group  2 training\n"
     ]
    },
    {
     "name": "stderr",
     "output_type": "stream",
     "text": [
      "Epoch:   0%|                                                                                      | 0/5 [00:00<?, ?it/s]"
     ]
    },
    {
     "name": "stdout",
     "output_type": "stream",
     "text": [
      "Group 0 clients ['f_00149', 'f_00179', 'f_00138', 'f_00118', 'f_00119', 'f_00178']\n",
      "Group 1 clients ['f_00011', 'f_00031', 'f_00012', 'f_00101', 'f_00142']\n",
      "Group 2 clients ['f_00166', 'f_00186', 'f_00044', 'f_00134', 'f_00187', 'f_00043', 'f_00194', 'f_00049', 'f_00004']\n",
      "The groups difference are: [0.0, 0.003296032672815752, 0.0015131516971129688]\n",
      "Group 0\n",
      "At round 54 accuracy: 0.6851851851851852\n",
      "At round 54 training accuracy: 0.6580645161290323\n",
      "At round 54 training loss: 0.9453621399018073\n",
      "Group 1\n",
      "At round 54 accuracy: 0.5416666666666666\n",
      "At round 54 training accuracy: 0.4791666666666667\n",
      "At round 54 training loss: 1.5031696973989408\n",
      "Group 2\n",
      "At round 54 accuracy: 0.5\n",
      "At round 54 training accuracy: 0.4589473684210526\n",
      "At round 54 training loss: 1.626404854623895\n",
      "Begin group  0 training\n"
     ]
    },
    {
     "name": "stderr",
     "output_type": "stream",
     "text": [
      "Epoch:   0%|                                                                                      | 0/5 [00:00<?, ?it/s]"
     ]
    },
    {
     "name": "stdout",
     "output_type": "stream",
     "text": [
      "Begin group  1 training\n",
      "Begin group  2 training\n"
     ]
    },
    {
     "name": "stderr",
     "output_type": "stream",
     "text": [
      "Epoch:   0%|                                                                                      | 0/5 [00:00<?, ?it/s]"
     ]
    },
    {
     "name": "stdout",
     "output_type": "stream",
     "text": [
      "Group 0 clients ['f_00199', 'f_00188', 'f_00119', 'f_00129']\n",
      "Group 1 clients ['f_00190', 'f_00181', 'f_00022', 'f_00170']\n",
      "Group 2 clients ['f_00145', 'f_00124', 'f_00116', 'f_00053', 'f_00079', 'f_00136', 'f_00141', 'f_00123', 'f_00166', 'f_00057', 'f_00133', 'f_00026']\n",
      "The groups difference are: [0.0, 0.003043343303057555, 0.001616896867215556]\n",
      "Group 0\n",
      "At round 55 accuracy: 0.6944444444444444\n",
      "At round 55 training accuracy: 0.625\n",
      "At round 55 training loss: 1.0646549719266403\n",
      "Group 1\n",
      "At round 55 accuracy: 0.56\n",
      "At round 55 training accuracy: 0.5812807881773399\n",
      "At round 55 training loss: 1.1187445042755804\n",
      "Group 2\n",
      "At round 55 accuracy: 0.4965034965034965\n",
      "At round 55 training accuracy: 0.49065800162469536\n",
      "At round 55 training loss: 1.5871969582490277\n",
      "Begin group  0 training\n"
     ]
    },
    {
     "name": "stderr",
     "output_type": "stream",
     "text": [
      "Epoch:   0%|                                                                                      | 0/5 [00:00<?, ?it/s]"
     ]
    },
    {
     "name": "stdout",
     "output_type": "stream",
     "text": [
      "Begin group  1 training\n",
      "Begin group  2 training\n"
     ]
    },
    {
     "name": "stderr",
     "output_type": "stream",
     "text": [
      "Epoch:   0%|                                                                                      | 0/5 [00:00<?, ?it/s]"
     ]
    },
    {
     "name": "stdout",
     "output_type": "stream",
     "text": [
      "Group 0 clients ['f_00158', 'f_00167', 'f_00000', 'f_00139', 'f_00126']\n",
      "Group 1 clients ['f_00120', 'f_00012', 'f_00071', 'f_00081', 'f_00042', 'f_00102']\n",
      "Group 2 clients ['f_00194', 'f_00045', 'f_00038', 'f_00063', 'f_00082', 'f_00186', 'f_00017', 'f_00096', 'f_00073']\n",
      "The groups difference are: [0.0, 0.0021361801987066498, 0.0016560020810620912]\n",
      "Group 0\n",
      "At round 56 accuracy: 0.42857142857142855\n",
      "At round 56 training accuracy: 0.49173553719008267\n",
      "At round 56 training loss: 2.27616141231592\n",
      "Group 1\n",
      "At round 56 accuracy: 0.6428571428571429\n",
      "At round 56 training accuracy: 0.5626283367556468\n",
      "At round 56 training loss: 1.1507961306973404\n",
      "Group 2\n",
      "At round 56 accuracy: 0.5376344086021505\n",
      "At round 56 training accuracy: 0.5513307984790875\n",
      "At round 56 training loss: 1.366641376257245\n",
      "Begin group  0 training\n"
     ]
    },
    {
     "name": "stderr",
     "output_type": "stream",
     "text": [
      "Epoch:   0%|                                                                                      | 0/5 [00:00<?, ?it/s]"
     ]
    },
    {
     "name": "stdout",
     "output_type": "stream",
     "text": [
      "Begin group  1 training\n"
     ]
    },
    {
     "name": "stderr",
     "output_type": "stream",
     "text": [
      "Epoch:   0%|                                                                                      | 0/5 [00:00<?, ?it/s]"
     ]
    },
    {
     "name": "stdout",
     "output_type": "stream",
     "text": [
      "Begin group  2 training\n"
     ]
    },
    {
     "name": "stderr",
     "output_type": "stream",
     "text": [
      "Epoch:   0%|                                                                                      | 0/5 [00:00<?, ?it/s]"
     ]
    },
    {
     "name": "stdout",
     "output_type": "stream",
     "text": [
      "Group 0 clients ['f_00159', 'f_00017', 'f_00157', 'f_00117']\n",
      "Group 1 clients ['f_00031', 'f_00051', 'f_00180', 'f_00072', 'f_00182', 'f_00070', 'f_00193']\n",
      "Group 2 clients ['f_00153', 'f_00123', 'f_00194', 'f_00084', 'f_00014', 'f_00155', 'f_00116', 'f_00166', 'f_00090']\n",
      "The groups difference are: [0.0, 0.0020102897498949224, 0.001222295643106941]\n",
      "Group 0\n",
      "At round 57 accuracy: 0.39285714285714285\n",
      "At round 57 training accuracy: 0.51931330472103\n",
      "At round 57 training loss: 1.3170976546700932\n",
      "Group 1\n",
      "At round 57 accuracy: 0.4782608695652174\n",
      "At round 57 training accuracy: 0.44333333333333336\n",
      "At round 57 training loss: 1.5115406989057858\n",
      "Group 2\n",
      "At round 57 accuracy: 0.5652173913043478\n",
      "At round 57 training accuracy: 0.5565438373570522\n",
      "At round 57 training loss: 1.389058459441271\n",
      "Begin group  0 training\n"
     ]
    },
    {
     "name": "stderr",
     "output_type": "stream",
     "text": [
      "Epoch:   0%|                                                                                      | 0/5 [00:00<?, ?it/s]"
     ]
    },
    {
     "name": "stdout",
     "output_type": "stream",
     "text": [
      "Begin group  1 training\n"
     ]
    },
    {
     "name": "stderr",
     "output_type": "stream",
     "text": [
      "Epoch:   0%|                                                                                      | 0/5 [00:00<?, ?it/s]"
     ]
    },
    {
     "name": "stdout",
     "output_type": "stream",
     "text": [
      "Begin group  2 training\n"
     ]
    },
    {
     "name": "stderr",
     "output_type": "stream",
     "text": [
      "                                                                                                                        "
     ]
    },
    {
     "name": "stdout",
     "output_type": "stream",
     "text": [
      "Group 0 clients ['f_00108', 'f_00107', 'f_00177', 'f_00068']\n",
      "Group 1 clients ['f_00041', 'f_00181', 'f_00010', 'f_00174', 'f_00193']\n",
      "Group 2 clients ['f_00143', 'f_00176', 'f_00183', 'f_00048', 'f_00131', 'f_00038', 'f_00075', 'f_00175', 'f_00186', 'f_00079', 'f_00066']\n",
      "The groups difference are: [0.0, 0.0017407116344170248, 0.001299871835191313]\n",
      "Group 0\n",
      "At round 58 accuracy: 0.5471698113207547\n",
      "At round 58 training accuracy: 0.4845814977973568\n",
      "At round 58 training loss: 1.0343331345377516\n",
      "Group 1\n",
      "At round 58 accuracy: 0.6571428571428571\n",
      "At round 58 training accuracy: 0.6643598615916955\n",
      "At round 58 training loss: 1.2229565175759338\n",
      "Group 2\n",
      "At round 58 accuracy: 0.2054794520547945\n",
      "At round 58 training accuracy: 0.21983471074380165\n",
      "At round 58 training loss: 2.2813699279934907\n",
      "Begin group  0 training\n"
     ]
    },
    {
     "name": "stderr",
     "output_type": "stream",
     "text": [
      "                                                                                                                        \r"
     ]
    },
    {
     "name": "stdout",
     "output_type": "stream",
     "text": [
      "Begin group  1 training\n",
      "Begin group  2 training\n"
     ]
    },
    {
     "name": "stderr",
     "output_type": "stream",
     "text": [
      "Epoch:   0%|                                                                                      | 0/5 [00:00<?, ?it/s]"
     ]
    },
    {
     "name": "stdout",
     "output_type": "stream",
     "text": [
      "Group 0 clients ['f_00098', 'f_00139', 'f_00019', 'f_00113']\n",
      "Group 1 clients ['f_00192', 'f_00020', 'f_00030', 'f_00141', 'f_00146', 'f_00091']\n",
      "Group 2 clients ['f_00133', 'f_00132', 'f_00016', 'f_00106', 'f_00036', 'f_00144', 'f_00196', 'f_00136', 'f_00165', 'f_00185']\n",
      "The groups difference are: [0.0, 0.0017781687690296977, 0.0008660019473804015]\n",
      "Group 0\n",
      "At round 59 accuracy: 0.4878048780487805\n",
      "At round 59 training accuracy: 0.4692737430167598\n",
      "At round 59 training loss: 1.4128160916227201\n",
      "Group 1\n",
      "At round 59 accuracy: 0.525\n",
      "At round 59 training accuracy: 0.6445783132530121\n",
      "At round 59 training loss: 1.2287117817315711\n",
      "Group 2\n",
      "At round 59 accuracy: 0.7777777777777778\n",
      "At round 59 training accuracy: 0.7352941176470589\n",
      "At round 59 training loss: 1.2610338933327618\n",
      "Begin group  0 training\n"
     ]
    },
    {
     "name": "stderr",
     "output_type": "stream",
     "text": [
      "Epoch:   0%|                                                                                      | 0/5 [00:00<?, ?it/s]"
     ]
    },
    {
     "name": "stdout",
     "output_type": "stream",
     "text": [
      "Begin group  1 training\n"
     ]
    },
    {
     "name": "stderr",
     "output_type": "stream",
     "text": [
      "                                                                                                                        "
     ]
    },
    {
     "name": "stdout",
     "output_type": "stream",
     "text": [
      "Begin group  2 training\n"
     ]
    },
    {
     "name": "stderr",
     "output_type": "stream",
     "text": [
      "Epoch:   0%|                                                                                      | 0/5 [00:00<?, ?it/s]"
     ]
    },
    {
     "name": "stdout",
     "output_type": "stream",
     "text": [
      "Group 0 clients ['f_00087', 'f_00000', 'f_00033', 'f_00079']\n",
      "Group 1 clients ['f_00190', 'f_00081', 'f_00192', 'f_00052', 'f_00120', 'f_00193']\n",
      "Group 2 clients ['f_00106', 'f_00163', 'f_00176', 'f_00056', 'f_00144', 'f_00053', 'f_00132', 'f_00001', 'f_00021', 'f_00046']\n",
      "The groups difference are: [1.1102230246251565e-16, 0.001576029851392713, 0.0011900016670018942]\n",
      "Group 0\n",
      "At round 60 accuracy: 0.5\n",
      "At round 60 training accuracy: 0.47345132743362833\n",
      "At round 60 training loss: 1.7951641417710127\n",
      "Group 1\n",
      "At round 60 accuracy: 0.5892857142857143\n",
      "At round 60 training accuracy: 0.6247334754797441\n",
      "At round 60 training loss: 1.1457718512905177\n",
      "Group 2\n",
      "At round 60 accuracy: 0.21052631578947367\n",
      "At round 60 training accuracy: 0.15421303656597773\n",
      "At round 60 training loss: 2.1459224663781438\n",
      "Begin group  0 training\n"
     ]
    },
    {
     "name": "stderr",
     "output_type": "stream",
     "text": [
      "Epoch:   0%|                                                                                      | 0/5 [00:00<?, ?it/s]"
     ]
    },
    {
     "name": "stdout",
     "output_type": "stream",
     "text": [
      "Begin group  1 training\n"
     ]
    },
    {
     "name": "stderr",
     "output_type": "stream",
     "text": [
      "Epoch:   0%|                                                                                      | 0/5 [00:00<?, ?it/s]"
     ]
    },
    {
     "name": "stdout",
     "output_type": "stream",
     "text": [
      "Begin group  2 training\n"
     ]
    },
    {
     "name": "stderr",
     "output_type": "stream",
     "text": [
      "Epoch:   0%|                                                                                      | 0/5 [00:00<?, ?it/s]"
     ]
    },
    {
     "name": "stdout",
     "output_type": "stream",
     "text": [
      "Group 0 clients ['f_00129', 'f_00097', 'f_00117', 'f_00028', 'f_00003']\n",
      "Group 1 clients ['f_00170', 'f_00011', 'f_00070', 'f_00062', 'f_00023', 'f_00161', 'f_00081', 'f_00193', 'f_00030']\n",
      "Group 2 clients ['f_00014', 'f_00085', 'f_00073', 'f_00133', 'f_00086', 'f_00056']\n",
      "The groups difference are: [0.0, 0.0016584519924338625, 0.0015934898872209668]\n",
      "Group 0\n",
      "At round 61 accuracy: 0.5652173913043478\n",
      "At round 61 training accuracy: 0.5294117647058824\n",
      "At round 61 training loss: 1.3260223910132831\n",
      "Group 1\n",
      "At round 61 accuracy: 0.7262773722627737\n",
      "At round 61 training accuracy: 0.7355509355509355\n",
      "At round 61 training loss: 0.7922459425896469\n",
      "Group 2\n",
      "At round 61 accuracy: 0.6440677966101694\n",
      "At round 61 training accuracy: 0.6075697211155379\n",
      "At round 61 training loss: 1.3358750063109683\n",
      "Begin group  0 training\n"
     ]
    },
    {
     "name": "stderr",
     "output_type": "stream",
     "text": [
      "Epoch:   0%|                                                                                      | 0/5 [00:00<?, ?it/s]"
     ]
    },
    {
     "name": "stdout",
     "output_type": "stream",
     "text": [
      "Begin group  1 training\n"
     ]
    },
    {
     "name": "stderr",
     "output_type": "stream",
     "text": [
      "Epoch:   0%|                                                                                      | 0/5 [00:00<?, ?it/s]"
     ]
    },
    {
     "name": "stdout",
     "output_type": "stream",
     "text": [
      "Begin group  2 training\n"
     ]
    },
    {
     "name": "stderr",
     "output_type": "stream",
     "text": [
      "Epoch:   0%|                                                                                      | 0/5 [00:00<?, ?it/s]"
     ]
    },
    {
     "name": "stdout",
     "output_type": "stream",
     "text": [
      "Group 0 clients ['f_00199', 'f_00037', 'f_00087', 'f_00168', 'f_00040']\n",
      "Group 1 clients ['f_00061', 'f_00171', 'f_00059', 'f_00120', 'f_00146']\n",
      "Group 2 clients ['f_00004', 'f_00036', 'f_00153', 'f_00005', 'f_00125', 'f_00162', 'f_00076', 'f_00032', 'f_00047', 'f_00166']\n",
      "The groups difference are: [1.1102230246251565e-16, 0.003125274199943684, 0.0014201584281925417]\n",
      "Group 0\n",
      "At round 62 accuracy: 0.6301369863013698\n",
      "At round 62 training accuracy: 0.6304347826086957\n",
      "At round 62 training loss: 1.0790337457419923\n",
      "Group 1\n",
      "At round 62 accuracy: 0.2608695652173913\n",
      "At round 62 training accuracy: 0.3539325842696629\n",
      "At round 62 training loss: 3.167705957139476\n",
      "Group 2\n",
      "At round 62 accuracy: 0.29473684210526313\n",
      "At round 62 training accuracy: 0.2236024844720497\n",
      "At round 62 training loss: 2.2512482783809213\n",
      "Begin group  0 training\n"
     ]
    },
    {
     "name": "stderr",
     "output_type": "stream",
     "text": [
      "Epoch:   0%|                                                                                      | 0/5 [00:00<?, ?it/s]"
     ]
    },
    {
     "name": "stdout",
     "output_type": "stream",
     "text": [
      "Begin group  1 training\n",
      "Begin group  2 training\n"
     ]
    },
    {
     "name": "stderr",
     "output_type": "stream",
     "text": [
      "Epoch:   0%|                                                                                      | 0/5 [00:00<?, ?it/s]"
     ]
    },
    {
     "name": "stdout",
     "output_type": "stream",
     "text": [
      "Group 0 clients ['f_00069', 'f_00138', 'f_00037', 'f_00097', 'f_00126', 'f_00089', 'f_00068']\n",
      "Group 1 clients ['f_00010', 'f_00171', 'f_00052', 'f_00090', 'f_00154', 'f_00193']\n",
      "Group 2 clients ['f_00125', 'f_00064', 'f_00194', 'f_00112', 'f_00143', 'f_00153', 'f_00103']\n",
      "The groups difference are: [0.0, 0.0022608173405738174, 0.0013389505467595875]\n",
      "Group 0\n",
      "At round 63 accuracy: 0.41818181818181815\n",
      "At round 63 training accuracy: 0.41379310344827586\n",
      "At round 63 training loss: 1.3930584404232174\n",
      "Group 1\n",
      "At round 63 accuracy: 0.5238095238095238\n",
      "At round 63 training accuracy: 0.5236111111111111\n",
      "At round 63 training loss: 1.3960881122284465\n",
      "Group 2\n",
      "At round 63 accuracy: 0.22448979591836735\n",
      "At round 63 training accuracy: 0.2623762376237624\n",
      "At round 63 training loss: 1.866165670723018\n",
      "Begin group  0 training\n"
     ]
    },
    {
     "name": "stderr",
     "output_type": "stream",
     "text": [
      "Epoch:   0%|                                                                                      | 0/5 [00:00<?, ?it/s]"
     ]
    },
    {
     "name": "stdout",
     "output_type": "stream",
     "text": [
      "Begin group  1 training\n"
     ]
    },
    {
     "name": "stderr",
     "output_type": "stream",
     "text": [
      "Epoch:   0%|                                                                                      | 0/5 [00:00<?, ?it/s]"
     ]
    },
    {
     "name": "stdout",
     "output_type": "stream",
     "text": [
      "Begin group  2 training\n"
     ]
    },
    {
     "name": "stderr",
     "output_type": "stream",
     "text": [
      "                                                                                                                        "
     ]
    },
    {
     "name": "stdout",
     "output_type": "stream",
     "text": [
      "Group 0 clients ['f_00157', 'f_00107', 'f_00097', 'f_00178', 'f_00058', 'f_00069']\n",
      "Group 1 clients ['f_00042', 'f_00102', 'f_00041', 'f_00121', 'f_00109', 'f_00193', 'f_00030']\n",
      "Group 2 clients ['f_00163', 'f_00014', 'f_00035', 'f_00123', 'f_00156', 'f_00086', 'f_00116']\n",
      "The groups difference are: [0.0, 0.001823711681678053, 0.0014449994491726459]\n",
      "Group 0\n",
      "At round 64 accuracy: 0.7297297297297297\n",
      "At round 64 training accuracy: 0.6495176848874598\n",
      "At round 64 training loss: 1.0066058909778044\n",
      "Group 1\n",
      "At round 64 accuracy: 0.6865671641791045\n",
      "At round 64 training accuracy: 0.7043478260869566\n",
      "At round 64 training loss: 0.9290915108763653\n",
      "Group 2\n",
      "At round 64 accuracy: 0.5\n",
      "At round 64 training accuracy: 0.6265625\n",
      "At round 64 training loss: 1.1172168869525194\n",
      "Begin group  0 training\n"
     ]
    },
    {
     "name": "stderr",
     "output_type": "stream",
     "text": [
      "                                                                                                                        "
     ]
    },
    {
     "name": "stdout",
     "output_type": "stream",
     "text": [
      "Begin group  1 training\n"
     ]
    },
    {
     "name": "stderr",
     "output_type": "stream",
     "text": [
      "Epoch:   0%|                                                                                      | 0/5 [00:00<?, ?it/s]"
     ]
    },
    {
     "name": "stdout",
     "output_type": "stream",
     "text": [
      "Begin group  2 training\n"
     ]
    },
    {
     "name": "stderr",
     "output_type": "stream",
     "text": [
      "Epoch:   0%|                                                                                      | 0/5 [00:00<?, ?it/s]"
     ]
    },
    {
     "name": "stdout",
     "output_type": "stream",
     "text": [
      "Group 0 clients ['f_00119', 'f_00099', 'f_00178', 'f_00106']\n",
      "Group 1 clients ['f_00012', 'f_00151', 'f_00020', 'f_00021', 'f_00070']\n",
      "Group 2 clients ['f_00054', 'f_00166', 'f_00153', 'f_00065', 'f_00169', 'f_00075', 'f_00176', 'f_00085', 'f_00155', 'f_00082', 'f_00116']\n",
      "The groups difference are: [0.0, 0.001851054935484986, 0.001380610055712439]\n",
      "Group 0\n",
      "At round 65 accuracy: 0.4\n",
      "At round 65 training accuracy: 0.5180722891566265\n",
      "At round 65 training loss: 1.1427047985145844\n",
      "Group 1\n",
      "At round 65 accuracy: 0.5\n",
      "At round 65 training accuracy: 0.47126436781609193\n",
      "At round 65 training loss: 1.6354648947030648\n",
      "Group 2\n",
      "At round 65 accuracy: 0.288135593220339\n",
      "At round 65 training accuracy: 0.4126315789473684\n",
      "At round 65 training loss: 1.6082314355749834\n",
      "Begin group  0 training\n"
     ]
    },
    {
     "name": "stderr",
     "output_type": "stream",
     "text": [
      "Epoch:   0%|                                                                                      | 0/5 [00:00<?, ?it/s]"
     ]
    },
    {
     "name": "stdout",
     "output_type": "stream",
     "text": [
      "Begin group  1 training\n"
     ]
    },
    {
     "name": "stderr",
     "output_type": "stream",
     "text": [
      "Epoch:   0%|                                                                                      | 0/5 [00:00<?, ?it/s]"
     ]
    },
    {
     "name": "stdout",
     "output_type": "stream",
     "text": [
      "Begin group  2 training\n"
     ]
    },
    {
     "name": "stderr",
     "output_type": "stream",
     "text": [
      "Epoch:   0%|                                                                                      | 0/5 [00:00<?, ?it/s]"
     ]
    },
    {
     "name": "stdout",
     "output_type": "stream",
     "text": [
      "Group 0 clients ['f_00017', 'f_00118', 'f_00007', 'f_00108', 'f_00167', 'f_00106', 'f_00128', 'f_00107', 'f_00018', 'f_00179', 'f_00148']\n",
      "Group 1 clients ['f_00140', 'f_00052', 'f_00130', 'f_00174', 'f_00104']\n",
      "Group 2 clients ['f_00054', 'f_00053', 'f_00160', 'f_00156']\n",
      "The groups difference are: [0.0, 0.0012355635678944488, 0.0012484180872520678]\n",
      "Group 0\n",
      "At round 66 accuracy: 0.4936708860759494\n",
      "At round 66 training accuracy: 0.5181268882175226\n",
      "At round 66 training loss: 1.311660314524642\n",
      "Group 1\n",
      "At round 66 accuracy: 0.5\n",
      "At round 66 training accuracy: 0.4049586776859504\n",
      "At round 66 training loss: 2.0962679416515937\n",
      "Group 2\n",
      "At round 66 accuracy: 0.23863636363636365\n",
      "At round 66 training accuracy: 0.2922077922077922\n",
      "At round 66 training loss: 2.141722598633209\n",
      "Begin group  0 training\n"
     ]
    },
    {
     "name": "stderr",
     "output_type": "stream",
     "text": [
      "Epoch:   0%|                                                                                      | 0/5 [00:00<?, ?it/s]"
     ]
    },
    {
     "name": "stdout",
     "output_type": "stream",
     "text": [
      "Begin group  1 training\n"
     ]
    },
    {
     "name": "stderr",
     "output_type": "stream",
     "text": [
      "Epoch:  60%|██████████████████████████████████████████████▊                               | 3/5 [00:00<00:00, 22.69it/s]"
     ]
    },
    {
     "name": "stdout",
     "output_type": "stream",
     "text": [
      "Begin group  2 training\n"
     ]
    },
    {
     "name": "stderr",
     "output_type": "stream",
     "text": [
      "                                                                                                                        "
     ]
    },
    {
     "name": "stdout",
     "output_type": "stream",
     "text": [
      "Group 0 clients ['f_00108', 'f_00077', 'f_00117', 'f_00149']\n",
      "Group 1 clients ['f_00180', 'f_00062', 'f_00071', 'f_00030', 'f_00109']\n",
      "Group 2 clients ['f_00015', 'f_00195', 'f_00166', 'f_00123', 'f_00032', 'f_00187', 'f_00025', 'f_00172', 'f_00131', 'f_00038', 'f_00056']\n",
      "The groups difference are: [0.0, 0.001539216229385687, 0.0011421100487936098]\n",
      "Group 0\n",
      "At round 67 accuracy: 0.8387096774193549\n",
      "At round 67 training accuracy: 0.6653846153846154\n",
      "At round 67 training loss: 1.0367671778568854\n",
      "Group 1\n",
      "At round 67 accuracy: 0.7727272727272727\n",
      "At round 67 training accuracy: 0.7845227062094532\n",
      "At round 67 training loss: 0.6932030921738053\n",
      "Group 2\n",
      "At round 67 accuracy: 0.5161290322580645\n",
      "At round 67 training accuracy: 0.5455680399500624\n",
      "At round 67 training loss: 1.6828734263052207\n",
      "Begin group  0 training\n"
     ]
    },
    {
     "name": "stderr",
     "output_type": "stream",
     "text": [
      "Epoch:   0%|                                                                                      | 0/5 [00:00<?, ?it/s]"
     ]
    },
    {
     "name": "stdout",
     "output_type": "stream",
     "text": [
      "Begin group  1 training\n"
     ]
    },
    {
     "name": "stderr",
     "output_type": "stream",
     "text": [
      "Epoch:   0%|                                                                                      | 0/5 [00:00<?, ?it/s]"
     ]
    },
    {
     "name": "stdout",
     "output_type": "stream",
     "text": [
      "Begin group  2 training\n"
     ]
    },
    {
     "name": "stderr",
     "output_type": "stream",
     "text": [
      "                                                                                                                        "
     ]
    },
    {
     "name": "stdout",
     "output_type": "stream",
     "text": [
      "Group 0 clients ['f_00099', 'f_00117', 'f_00107', 'f_00126']\n",
      "Group 1 clients ['f_00102', 'f_00121', 'f_00132', 'f_00011']\n",
      "Group 2 clients ['f_00016', 'f_00116', 'f_00143', 'f_00186', 'f_00054', 'f_00004', 'f_00013', 'f_00112', 'f_00056', 'f_00127', 'f_00183', 'f_00125']\n",
      "The groups difference are: [0.0, 0.0033021679672440296, 0.0011290344855467982]\n",
      "Group 0\n",
      "At round 68 accuracy: 0.4583333333333333\n",
      "At round 68 training accuracy: 0.5252525252525253\n",
      "At round 68 training loss: 1.2623515827487213\n",
      "Group 1\n",
      "At round 68 accuracy: 0.7377049180327869\n",
      "At round 68 training accuracy: 0.7182835820895522\n",
      "At round 68 training loss: 1.135635390599717\n",
      "Group 2\n",
      "At round 68 accuracy: 0.6271186440677966\n",
      "At round 68 training accuracy: 0.5273522975929978\n",
      "At round 68 training loss: 1.3624243522368584\n",
      "Begin group  0 training\n"
     ]
    },
    {
     "name": "stderr",
     "output_type": "stream",
     "text": [
      "Epoch:   0%|                                                                                      | 0/5 [00:00<?, ?it/s]"
     ]
    },
    {
     "name": "stdout",
     "output_type": "stream",
     "text": [
      "Begin group  1 training\n"
     ]
    },
    {
     "name": "stderr",
     "output_type": "stream",
     "text": [
      "Epoch:   0%|                                                                                      | 0/5 [00:00<?, ?it/s]"
     ]
    },
    {
     "name": "stdout",
     "output_type": "stream",
     "text": [
      "Begin group  2 training\n"
     ]
    },
    {
     "name": "stderr",
     "output_type": "stream",
     "text": [
      "Epoch:   0%|                                                                                      | 0/5 [00:00<?, ?it/s]"
     ]
    },
    {
     "name": "stdout",
     "output_type": "stream",
     "text": [
      "Group 0 clients ['f_00058', 'f_00137', 'f_00118', 'f_00068', 'f_00178', 'f_00199']\n",
      "Group 1 clients ['f_00070', 'f_00062', 'f_00100', 'f_00031', 'f_00170', 'f_00023', 'f_00008']\n",
      "Group 2 clients ['f_00032', 'f_00013', 'f_00125', 'f_00015', 'f_00156', 'f_00047', 'f_00086']\n",
      "The groups difference are: [0.0, 0.0025440066479222034, 0.0008727469534721699]\n",
      "Group 0\n",
      "At round 69 accuracy: 0.5416666666666666\n",
      "At round 69 training accuracy: 0.5181674565560821\n",
      "At round 69 training loss: 1.360211914749507\n",
      "Group 1\n",
      "At round 69 accuracy: 0.6423357664233577\n",
      "At round 69 training accuracy: 0.667353668590272\n",
      "At round 69 training loss: 0.9709031788996203\n",
      "Group 2\n",
      "At round 69 accuracy: 0.6862745098039216\n",
      "At round 69 training accuracy: 0.41843971631205673\n",
      "At round 69 training loss: 1.4028753859495158\n",
      "Begin group  0 training\n"
     ]
    },
    {
     "name": "stderr",
     "output_type": "stream",
     "text": [
      "Epoch:   0%|                                                                                      | 0/5 [00:00<?, ?it/s]"
     ]
    },
    {
     "name": "stdout",
     "output_type": "stream",
     "text": [
      "Begin group  1 training\n"
     ]
    },
    {
     "name": "stderr",
     "output_type": "stream",
     "text": [
      "Epoch:   0%|                                                                                      | 0/5 [00:00<?, ?it/s]"
     ]
    },
    {
     "name": "stdout",
     "output_type": "stream",
     "text": [
      "Begin group  2 training\n"
     ]
    },
    {
     "name": "stderr",
     "output_type": "stream",
     "text": [
      "                                                                                                                        "
     ]
    },
    {
     "name": "stdout",
     "output_type": "stream",
     "text": [
      "Group 0 clients ['f_00097', 'f_00017', 'f_00188', 'f_00167', 'f_00197', 'f_00099', 'f_00147', 'f_00179']\n",
      "Group 1 clients ['f_00011', 'f_00142', 'f_00102', 'f_00061', 'f_00109', 'f_00021', 'f_00182']\n",
      "Group 2 clients ['f_00014', 'f_00115', 'f_00057', 'f_00105', 'f_00164']\n",
      "The groups difference are: [0.0, 0.0037064263683985743, 0.0010647085924722077]\n",
      "Group 0\n",
      "At round 70 accuracy: 0.4166666666666667\n",
      "At round 70 training accuracy: 0.5387205387205387\n",
      "At round 70 training loss: 1.3554007814388083\n",
      "Group 1\n",
      "At round 70 accuracy: 0.8666666666666667\n",
      "At round 70 training accuracy: 0.7619047619047619\n",
      "At round 70 training loss: 0.9234456369485805\n",
      "Group 2\n",
      "At round 70 accuracy: 0.6029411764705882\n",
      "At round 70 training accuracy: 0.6256499133448874\n",
      "At round 70 training loss: 1.1023301994573305\n",
      "Begin group  0 training\n"
     ]
    },
    {
     "name": "stderr",
     "output_type": "stream",
     "text": [
      "Epoch:   0%|                                                                                      | 0/5 [00:00<?, ?it/s]"
     ]
    },
    {
     "name": "stdout",
     "output_type": "stream",
     "text": [
      "Begin group  1 training\n"
     ]
    },
    {
     "name": "stderr",
     "output_type": "stream",
     "text": [
      "Epoch:   0%|                                                                                      | 0/5 [00:00<?, ?it/s]"
     ]
    },
    {
     "name": "stdout",
     "output_type": "stream",
     "text": [
      "Begin group  2 training\n"
     ]
    },
    {
     "name": "stderr",
     "output_type": "stream",
     "text": [
      "                                                                                                                        "
     ]
    },
    {
     "name": "stdout",
     "output_type": "stream",
     "text": [
      "Group 0 clients ['f_00147', 'f_00108', 'f_00028', 'f_00069', 'f_00189', 'f_00106']\n",
      "Group 1 clients ['f_00020', 'f_00182', 'f_00132', 'f_00121', 'f_00122', 'f_00031', 'f_00130', 'f_00100']\n",
      "Group 2 clients ['f_00064', 'f_00136', 'f_00073', 'f_00175', 'f_00145', 'f_00034']\n",
      "The groups difference are: [0.0, 0.002749648672912275, 0.0014251386101737928]\n",
      "Group 0\n",
      "At round 71 accuracy: 0.45652173913043476\n",
      "At round 71 training accuracy: 0.4725848563968668\n",
      "At round 71 training loss: 1.280131547164668\n",
      "Group 1\n",
      "At round 71 accuracy: 0.5934065934065934\n",
      "At round 71 training accuracy: 0.6158690176322418\n",
      "At round 71 training loss: 1.2627364461608137\n",
      "Group 2\n",
      "At round 71 accuracy: 0.625\n",
      "At round 71 training accuracy: 0.5707317073170731\n",
      "At round 71 training loss: 1.466044058935429\n",
      "Begin group  0 training\n"
     ]
    },
    {
     "name": "stderr",
     "output_type": "stream",
     "text": [
      "Epoch:   0%|                                                                                      | 0/5 [00:00<?, ?it/s]"
     ]
    },
    {
     "name": "stdout",
     "output_type": "stream",
     "text": [
      "Begin group  1 training\n"
     ]
    },
    {
     "name": "stderr",
     "output_type": "stream",
     "text": [
      "Epoch:   0%|                                                                                      | 0/5 [00:00<?, ?it/s]"
     ]
    },
    {
     "name": "stdout",
     "output_type": "stream",
     "text": [
      "Begin group  2 training\n"
     ]
    },
    {
     "name": "stderr",
     "output_type": "stream",
     "text": [
      "Epoch:   0%|                                                                                      | 0/5 [00:00<?, ?it/s]"
     ]
    },
    {
     "name": "stdout",
     "output_type": "stream",
     "text": [
      "Group 0 clients ['f_00039', 'f_00197', 'f_00177', 'f_00088']\n",
      "Group 1 clients ['f_00141', 'f_00182', 'f_00059', 'f_00023', 'f_00191']\n",
      "Group 2 clients ['f_00133', 'f_00036', 'f_00176', 'f_00086', 'f_00043', 'f_00169', 'f_00083', 'f_00187', 'f_00049', 'f_00186', 'f_00175']\n",
      "The groups difference are: [0.0, 0.002070966695990606, 0.0013840741836486092]\n",
      "Group 0\n",
      "At round 72 accuracy: 0.4864864864864865\n",
      "At round 72 training accuracy: 0.37942122186495175\n",
      "At round 72 training loss: 1.7024964502386726\n",
      "Group 1\n",
      "At round 72 accuracy: 0.3870967741935484\n",
      "At round 72 training accuracy: 0.5758754863813229\n",
      "At round 72 training loss: 1.3987256566838069\n",
      "Group 2\n",
      "At round 72 accuracy: 0.3023255813953488\n",
      "At round 72 training accuracy: 0.34328358208955223\n",
      "At round 72 training loss: 1.757506791157509\n",
      "Begin group  0 training\n"
     ]
    },
    {
     "name": "stderr",
     "output_type": "stream",
     "text": [
      "                                                                                                                        \r"
     ]
    },
    {
     "name": "stdout",
     "output_type": "stream",
     "text": [
      "Begin group  1 training\n",
      "Begin group  2 training\n"
     ]
    },
    {
     "name": "stderr",
     "output_type": "stream",
     "text": [
      "Epoch:   0%|                                                                                      | 0/5 [00:00<?, ?it/s]"
     ]
    },
    {
     "name": "stdout",
     "output_type": "stream",
     "text": [
      "Group 0 clients ['f_00007', 'f_00089', 'f_00033', 'f_00169']\n",
      "Group 1 clients ['f_00091', 'f_00021', 'f_00052', 'f_00111', 'f_00161']\n",
      "Group 2 clients ['f_00014', 'f_00196', 'f_00183', 'f_00165', 'f_00153', 'f_00185', 'f_00001', 'f_00032', 'f_00092', 'f_00105', 'f_00045']\n",
      "The groups difference are: [0.0, 0.0018925480940075179, 0.0007051062270224673]\n",
      "Group 0\n",
      "At round 73 accuracy: 0.35714285714285715\n",
      "At round 73 training accuracy: 0.49056603773584906\n",
      "At round 73 training loss: 1.6229664053557054\n",
      "Group 1\n",
      "At round 73 accuracy: 0.5306122448979592\n",
      "At round 73 training accuracy: 0.6803874092009685\n",
      "At round 73 training loss: 0.8198150664784429\n",
      "Group 2\n",
      "At round 73 accuracy: 0.6323529411764706\n",
      "At round 73 training accuracy: 0.5854092526690391\n",
      "At round 73 training loss: 1.2703314631434945\n",
      "Begin group  0 training\n",
      "Begin group  1 training\n"
     ]
    },
    {
     "name": "stderr",
     "output_type": "stream",
     "text": [
      "Epoch:   0%|                                                                                      | 0/5 [00:00<?, ?it/s]"
     ]
    },
    {
     "name": "stdout",
     "output_type": "stream",
     "text": [
      "Begin group  2 training\n"
     ]
    },
    {
     "name": "stderr",
     "output_type": "stream",
     "text": [
      "Epoch:   0%|                                                                                      | 0/5 [00:00<?, ?it/s]"
     ]
    },
    {
     "name": "stdout",
     "output_type": "stream",
     "text": [
      "Group 0 clients ['f_00097', 'f_00117', 'f_00069', 'f_00067']\n",
      "Group 1 clients ['f_00101', 'f_00130', 'f_00122', 'f_00022', 'f_00072', 'f_00100', 'f_00093', 'f_00109', 'f_00140']\n",
      "Group 2 clients ['f_00185', 'f_00176', 'f_00194', 'f_00084', 'f_00136', 'f_00046', 'f_00145']\n",
      "The groups difference are: [0.0, 0.0015548944625776162, 0.0008430386745430507]\n",
      "Group 0\n",
      "At round 74 accuracy: 0.49122807017543857\n",
      "At round 74 training accuracy: 0.405189620758483\n",
      "At round 74 training loss: 1.1883989457122819\n",
      "Group 1\n",
      "At round 74 accuracy: 0.5816326530612245\n",
      "At round 74 training accuracy: 0.5552913198573127\n",
      "At round 74 training loss: 1.3333059908660498\n",
      "Group 2\n",
      "At round 74 accuracy: 0.6774193548387096\n",
      "At round 74 training accuracy: 0.7\n",
      "At round 74 training loss: 1.0364189136486788\n",
      "Begin group  0 training\n"
     ]
    },
    {
     "name": "stderr",
     "output_type": "stream",
     "text": [
      "Epoch:  80%|██████████████████████████████████████████████████████████████▍               | 4/5 [00:00<00:00, 32.66it/s]"
     ]
    },
    {
     "name": "stdout",
     "output_type": "stream",
     "text": [
      "Begin group  1 training\n"
     ]
    },
    {
     "name": "stderr",
     "output_type": "stream",
     "text": [
      "Epoch:   0%|                                                                                      | 0/5 [00:00<?, ?it/s]"
     ]
    },
    {
     "name": "stdout",
     "output_type": "stream",
     "text": [
      "Begin group  2 training\n"
     ]
    },
    {
     "name": "stderr",
     "output_type": "stream",
     "text": [
      "Epoch:   0%|                                                                                      | 0/5 [00:00<?, ?it/s]"
     ]
    },
    {
     "name": "stdout",
     "output_type": "stream",
     "text": [
      "Group 0 clients ['f_00068', 'f_00107', 'f_00119', 'f_00177', 'f_00167', 'f_00139', 'f_00147', 'f_00028']\n",
      "Group 1 clients ['f_00142', 'f_00061', 'f_00022', 'f_00062', 'f_00091']\n",
      "Group 2 clients ['f_00085', 'f_00086', 'f_00035', 'f_00006', 'f_00049', 'f_00002', 'f_00160']\n",
      "The groups difference are: [0.0, 0.001722125040492073, 0.0010117065127341895]\n",
      "Group 0\n",
      "At round 75 accuracy: 0.6923076923076923\n",
      "At round 75 training accuracy: 0.6853526220614828\n",
      "At round 75 training loss: 1.1666666172296618\n",
      "Group 1\n",
      "At round 75 accuracy: 0.8760683760683761\n",
      "At round 75 training accuracy: 0.8810211946050096\n",
      "At round 75 training loss: 0.511148656006034\n",
      "Group 2\n",
      "At round 75 accuracy: 0.20454545454545456\n",
      "At round 75 training accuracy: 0.21465968586387435\n",
      "At round 75 training loss: 2.635949988171692\n",
      "Begin group  0 training\n"
     ]
    },
    {
     "name": "stderr",
     "output_type": "stream",
     "text": [
      "Epoch:   0%|                                                                                      | 0/5 [00:00<?, ?it/s]"
     ]
    },
    {
     "name": "stdout",
     "output_type": "stream",
     "text": [
      "Begin group  1 training\n"
     ]
    },
    {
     "name": "stderr",
     "output_type": "stream",
     "text": [
      "Epoch:   0%|                                                                                      | 0/5 [00:00<?, ?it/s]"
     ]
    },
    {
     "name": "stdout",
     "output_type": "stream",
     "text": [
      "Begin group  2 training\n"
     ]
    },
    {
     "name": "stderr",
     "output_type": "stream",
     "text": [
      "Epoch:   0%|                                                                                      | 0/5 [00:00<?, ?it/s]"
     ]
    },
    {
     "name": "stdout",
     "output_type": "stream",
     "text": [
      "Group 0 clients ['f_00178', 'f_00107', 'f_00157', 'f_00007', 'f_00009', 'f_00179']\n",
      "Group 1 clients ['f_00021', 'f_00122', 'f_00051', 'f_00059', 'f_00074', 'f_00022']\n",
      "Group 2 clients ['f_00095', 'f_00164', 'f_00094', 'f_00115', 'f_00092', 'f_00096', 'f_00050', 'f_00032']\n",
      "The groups difference are: [-2.220446049250313e-16, 0.003242674688675118, 0.0007927409816614883]\n",
      "Group 0\n",
      "At round 76 accuracy: 0.6666666666666666\n",
      "At round 76 training accuracy: 0.6765676567656765\n",
      "At round 76 training loss: 1.0086713132291738\n",
      "Group 1\n",
      "At round 76 accuracy: 0.7307692307692307\n",
      "At round 76 training accuracy: 0.7211981566820277\n",
      "At round 76 training loss: 1.3716010707452\n",
      "Group 2\n",
      "At round 76 accuracy: 0.175\n",
      "At round 76 training accuracy: 0.17087667161961367\n",
      "At round 76 training loss: 1.9087644890725701\n",
      "Begin group  0 training\n"
     ]
    },
    {
     "name": "stderr",
     "output_type": "stream",
     "text": [
      "Epoch:   0%|                                                                                      | 0/5 [00:00<?, ?it/s]"
     ]
    },
    {
     "name": "stdout",
     "output_type": "stream",
     "text": [
      "Begin group  1 training\n"
     ]
    },
    {
     "name": "stderr",
     "output_type": "stream",
     "text": [
      "Epoch:  60%|██████████████████████████████████████████████▊                               | 3/5 [00:00<00:00, 23.36it/s]"
     ]
    },
    {
     "name": "stdout",
     "output_type": "stream",
     "text": [
      "Begin group  2 training\n"
     ]
    },
    {
     "name": "stderr",
     "output_type": "stream",
     "text": [
      "Epoch:   0%|                                                                                      | 0/5 [00:00<?, ?it/s]"
     ]
    },
    {
     "name": "stdout",
     "output_type": "stream",
     "text": [
      "Group 0 clients ['f_00017', 'f_00058', 'f_00107', 'f_00149']\n",
      "Group 1 clients ['f_00182', 'f_00191', 'f_00020', 'f_00090', 'f_00170', 'f_00074', 'f_00174', 'f_00193', 'f_00154', 'f_00008']\n",
      "Group 2 clients ['f_00016', 'f_00123', 'f_00049', 'f_00048', 'f_00127', 'f_00013']\n",
      "The groups difference are: [1.1102230246251565e-16, 0.0022956596081391556, 0.00116877932171211]\n",
      "Group 0\n",
      "At round 77 accuracy: 0.65\n",
      "At round 77 training accuracy: 0.61875\n",
      "At round 77 training loss: 0.9848557390272618\n",
      "Group 1\n",
      "At round 77 accuracy: 0.32857142857142857\n",
      "At round 77 training accuracy: 0.31497418244406195\n",
      "At round 77 training loss: 2.6599528742328977\n",
      "Group 2\n",
      "At round 77 accuracy: 0.44\n",
      "At round 77 training accuracy: 0.48711943793911006\n",
      "At round 77 training loss: 1.6393679587009082\n",
      "Begin group  0 training\n"
     ]
    },
    {
     "name": "stderr",
     "output_type": "stream",
     "text": [
      "Epoch:   0%|                                                                                      | 0/5 [00:00<?, ?it/s]"
     ]
    },
    {
     "name": "stdout",
     "output_type": "stream",
     "text": [
      "Begin group  1 training\n"
     ]
    },
    {
     "name": "stderr",
     "output_type": "stream",
     "text": [
      "Epoch:   0%|                                                                                      | 0/5 [00:00<?, ?it/s]"
     ]
    },
    {
     "name": "stdout",
     "output_type": "stream",
     "text": [
      "Begin group  2 training\n"
     ]
    },
    {
     "name": "stderr",
     "output_type": "stream",
     "text": [
      "Epoch:   0%|                                                                                      | 0/5 [00:00<?, ?it/s]"
     ]
    },
    {
     "name": "stdout",
     "output_type": "stream",
     "text": [
      "Group 0 clients ['f_00138', 'f_00128', 'f_00089', 'f_00118', 'f_00099', 'f_00079', 'f_00039']\n",
      "Group 1 clients ['f_00042', 'f_00132', 'f_00193', 'f_00190', 'f_00080']\n",
      "Group 2 clients ['f_00024', 'f_00004', 'f_00173', 'f_00196', 'f_00002', 'f_00006', 'f_00050', 'f_00049']\n",
      "The groups difference are: [0.0, 0.001528042011597397, 0.0010890309157891576]\n",
      "Group 0\n",
      "At round 78 accuracy: 0.39655172413793105\n",
      "At round 78 training accuracy: 0.39918533604887985\n",
      "At round 78 training loss: 1.2314054779025543\n",
      "Group 1\n",
      "At round 78 accuracy: 0.627906976744186\n",
      "At round 78 training accuracy: 0.6852367688022284\n",
      "At round 78 training loss: 1.0228660576522848\n",
      "Group 2\n",
      "At round 78 accuracy: 0.4166666666666667\n",
      "At round 78 training accuracy: 0.41362530413625304\n",
      "At round 78 training loss: 2.0453548846888716\n",
      "Begin group  0 training\n"
     ]
    },
    {
     "name": "stderr",
     "output_type": "stream",
     "text": [
      "Epoch:   0%|                                                                                      | 0/5 [00:00<?, ?it/s]"
     ]
    },
    {
     "name": "stdout",
     "output_type": "stream",
     "text": [
      "Begin group  1 training\n"
     ]
    },
    {
     "name": "stderr",
     "output_type": "stream",
     "text": [
      "Epoch:   0%|                                                                                      | 0/5 [00:00<?, ?it/s]"
     ]
    },
    {
     "name": "stdout",
     "output_type": "stream",
     "text": [
      "Begin group  2 training\n"
     ]
    },
    {
     "name": "stderr",
     "output_type": "stream",
     "text": [
      "Epoch:   0%|                                                                                      | 0/5 [00:00<?, ?it/s]"
     ]
    },
    {
     "name": "stdout",
     "output_type": "stream",
     "text": [
      "Group 0 clients ['f_00098', 'f_00007', 'f_00128', 'f_00097', 'f_00139', 'f_00137', 'f_00029', 'f_00069']\n",
      "Group 1 clients ['f_00120', 'f_00042', 'f_00154', 'f_00000', 'f_00091', 'f_00180']\n",
      "Group 2 clients ['f_00054', 'f_00045', 'f_00185', 'f_00131', 'f_00196', 'f_00127']\n",
      "The groups difference are: [0.0, 0.0012742133669114697, 0.0009638616138810674]\n",
      "Group 0\n",
      "At round 79 accuracy: 0.5714285714285714\n",
      "At round 79 training accuracy: 0.5797101449275363\n",
      "At round 79 training loss: 1.1375944274275198\n",
      "Group 1\n",
      "At round 79 accuracy: 0.581081081081081\n",
      "At round 79 training accuracy: 0.6194144838212635\n",
      "At round 79 training loss: 1.2021371061886403\n",
      "Group 2\n",
      "At round 79 accuracy: 0.34375\n",
      "At round 79 training accuracy: 0.383399209486166\n",
      "At round 79 training loss: 1.6793842763297642\n",
      "Begin group  0 training\n"
     ]
    },
    {
     "name": "stderr",
     "output_type": "stream",
     "text": [
      "Epoch:   0%|                                                                                      | 0/5 [00:00<?, ?it/s]"
     ]
    },
    {
     "name": "stdout",
     "output_type": "stream",
     "text": [
      "Begin group  1 training\n"
     ]
    },
    {
     "name": "stderr",
     "output_type": "stream",
     "text": [
      "                                                                                                                        "
     ]
    },
    {
     "name": "stdout",
     "output_type": "stream",
     "text": [
      "Begin group  2 training\n"
     ]
    },
    {
     "name": "stderr",
     "output_type": "stream",
     "text": [
      "Epoch:   0%|                                                                                      | 0/5 [00:00<?, ?it/s]"
     ]
    },
    {
     "name": "stdout",
     "output_type": "stream",
     "text": [
      "Group 0 clients ['f_00028', 'f_00168', 'f_00097', 'f_00029', 'f_00149']\n",
      "Group 1 clients ['f_00022', 'f_00161', 'f_00023', 'f_00021', 'f_00109', 'f_00142', 'f_00061', 'f_00060', 'f_00130', 'f_00104']\n",
      "Group 2 clients ['f_00005', 'f_00025', 'f_00049', 'f_00030', 'f_00092']\n",
      "The groups difference are: [0.0, 0.0012173398548549486, 0.000881540538361647]\n",
      "Group 0\n",
      "At round 80 accuracy: 0.7142857142857143\n",
      "At round 80 training accuracy: 0.7134502923976608\n",
      "At round 80 training loss: 0.9053124973648473\n",
      "Group 1\n",
      "At round 80 accuracy: 0.3617021276595745\n",
      "At round 80 training accuracy: 0.3869209809264305\n",
      "At round 80 training loss: 1.5478038862550616\n",
      "Group 2\n",
      "At round 80 accuracy: 0.6666666666666666\n",
      "At round 80 training accuracy: 0.6131386861313869\n",
      "At round 80 training loss: 1.212705679908576\n",
      "Begin group  0 training\n"
     ]
    },
    {
     "name": "stderr",
     "output_type": "stream",
     "text": [
      "                                                                                                                        "
     ]
    },
    {
     "name": "stdout",
     "output_type": "stream",
     "text": [
      "Begin group  1 training\n"
     ]
    },
    {
     "name": "stderr",
     "output_type": "stream",
     "text": [
      "Epoch:   0%|                                                                                      | 0/5 [00:00<?, ?it/s]"
     ]
    },
    {
     "name": "stdout",
     "output_type": "stream",
     "text": [
      "Begin group  2 training\n"
     ]
    },
    {
     "name": "stderr",
     "output_type": "stream",
     "text": [
      "Epoch:   0%|                                                                                      | 0/5 [00:00<?, ?it/s]"
     ]
    },
    {
     "name": "stdout",
     "output_type": "stream",
     "text": [
      "Group 0 clients ['f_00149', 'f_00147', 'f_00189', 'f_00068', 'f_00088', 'f_00037']\n",
      "Group 1 clients ['f_00190', 'f_00171', 'f_00141', 'f_00182']\n",
      "Group 2 clients ['f_00044', 'f_00134', 'f_00143', 'f_00103', 'f_00073', 'f_00160', 'f_00047', 'f_00086', 'f_00187', 'f_00032']\n",
      "The groups difference are: [0.0, 0.0010468390170486064, 0.0010662964145298215]\n",
      "Group 0\n",
      "At round 81 accuracy: 0.5740740740740741\n",
      "At round 81 training accuracy: 0.6096491228070176\n",
      "At round 81 training loss: 1.0273012607766872\n",
      "Group 1\n",
      "At round 81 accuracy: 0.5238095238095238\n",
      "At round 81 training accuracy: 0.536723163841808\n",
      "At round 81 training loss: 1.2873944057583135\n",
      "Group 2\n",
      "At round 81 accuracy: 0.26605504587155965\n",
      "At round 81 training accuracy: 0.23927038626609443\n",
      "At round 81 training loss: 2.4211727923078086\n",
      "Begin group  0 training\n"
     ]
    },
    {
     "name": "stderr",
     "output_type": "stream",
     "text": [
      "Epoch:   0%|                                                                                      | 0/5 [00:00<?, ?it/s]"
     ]
    },
    {
     "name": "stdout",
     "output_type": "stream",
     "text": [
      "Begin group  1 training\n",
      "Begin group  2 training\n"
     ]
    },
    {
     "name": "stderr",
     "output_type": "stream",
     "text": [
      "                                                                                                                        "
     ]
    },
    {
     "name": "stdout",
     "output_type": "stream",
     "text": [
      "Group 0 clients ['f_00018', 'f_00107', 'f_00179', 'f_00033', 'f_00040']\n",
      "Group 1 clients ['f_00161', 'f_00191', 'f_00130', 'f_00090', 'f_00151', 'f_00140']\n",
      "Group 2 clients ['f_00084', 'f_00015', 'f_00032', 'f_00116', 'f_00086', 'f_00114', 'f_00066', 'f_00055', 'f_00026']\n",
      "The groups difference are: [0.0, 0.0009619023704110496, 0.0007384682464126602]\n",
      "Group 0\n",
      "At round 82 accuracy: 0.44\n",
      "At round 82 training accuracy: 0.5126903553299492\n",
      "At round 82 training loss: 1.3462054051723578\n",
      "Group 1\n",
      "At round 82 accuracy: 0.7073170731707317\n",
      "At round 82 training accuracy: 0.688622754491018\n",
      "At round 82 training loss: 0.7253220859401954\n",
      "Group 2\n",
      "At round 82 accuracy: 0.3225806451612903\n",
      "At round 82 training accuracy: 0.21042084168336672\n",
      "At round 82 training loss: 2.0490990411303565\n",
      "Begin group  0 training\n"
     ]
    },
    {
     "name": "stderr",
     "output_type": "stream",
     "text": [
      "Epoch:   0%|                                                                                      | 0/5 [00:00<?, ?it/s]"
     ]
    },
    {
     "name": "stdout",
     "output_type": "stream",
     "text": [
      "Begin group  1 training\n"
     ]
    },
    {
     "name": "stderr",
     "output_type": "stream",
     "text": [
      "                                                                                                                        "
     ]
    },
    {
     "name": "stdout",
     "output_type": "stream",
     "text": [
      "Begin group  2 training\n"
     ]
    },
    {
     "name": "stderr",
     "output_type": "stream",
     "text": [
      "Epoch:   0%|                                                                                      | 0/5 [00:00<?, ?it/s]"
     ]
    },
    {
     "name": "stdout",
     "output_type": "stream",
     "text": [
      "Group 0 clients ['f_00088', 'f_00138', 'f_00147', 'f_00158', 'f_00069', 'f_00113', 'f_00179']\n",
      "Group 1 clients ['f_00161', 'f_00151', 'f_00042', 'f_00109', 'f_00071']\n",
      "Group 2 clients ['f_00125', 'f_00145', 'f_00186', 'f_00055', 'f_00027', 'f_00030', 'f_00046', 'f_00056']\n",
      "The groups difference are: [0.0, 0.000773068814326261, 0.0006641361552560676]\n",
      "Group 0\n",
      "At round 83 accuracy: 0.7435897435897436\n",
      "At round 83 training accuracy: 0.7098765432098766\n",
      "At round 83 training loss: 1.0462408172495572\n",
      "Group 1\n",
      "At round 83 accuracy: 0.6842105263157895\n",
      "At round 83 training accuracy: 0.5369127516778524\n",
      "At round 83 training loss: 1.5420624857780918\n",
      "Group 2\n",
      "At round 83 accuracy: 0.5833333333333334\n",
      "At round 83 training accuracy: 0.65625\n",
      "At round 83 training loss: 1.1328925949831803\n",
      "Begin group  0 training\n"
     ]
    },
    {
     "name": "stderr",
     "output_type": "stream",
     "text": [
      "Epoch:   0%|                                                                                      | 0/5 [00:00<?, ?it/s]"
     ]
    },
    {
     "name": "stdout",
     "output_type": "stream",
     "text": [
      "Begin group  1 training\n",
      "Begin group  2 training\n"
     ]
    },
    {
     "name": "stderr",
     "output_type": "stream",
     "text": [
      "Epoch:   0%|                                                                                      | 0/5 [00:00<?, ?it/s]"
     ]
    },
    {
     "name": "stdout",
     "output_type": "stream",
     "text": [
      "Group 0 clients ['f_00028', 'f_00157', 'f_00188', 'f_00137', 'f_00119']\n",
      "Group 1 clients ['f_00120', 'f_00011', 'f_00104', 'f_00074', 'f_00012', 'f_00059']\n",
      "Group 2 clients ['f_00155', 'f_00025', 'f_00066', 'f_00054', 'f_00096', 'f_00103', 'f_00001', 'f_00085', 'f_00134']\n",
      "The groups difference are: [0.0, 0.0006535961531456413, 0.0007293150620582001]\n",
      "Group 0\n",
      "At round 84 accuracy: 0.53125\n",
      "At round 84 training accuracy: 0.5535055350553506\n",
      "At round 84 training loss: 1.2139237716629057\n",
      "Group 1\n",
      "At round 84 accuracy: 0.4722222222222222\n",
      "At round 84 training accuracy: 0.46258503401360546\n",
      "At round 84 training loss: 1.5592699237421257\n",
      "Group 2\n",
      "At round 84 accuracy: 0.6363636363636364\n",
      "At round 84 training accuracy: 0.604735883424408\n",
      "At round 84 training loss: 1.0809402160740071\n",
      "Begin group  0 training\n"
     ]
    },
    {
     "name": "stderr",
     "output_type": "stream",
     "text": [
      "Epoch:   0%|                                                                                      | 0/5 [00:00<?, ?it/s]"
     ]
    },
    {
     "name": "stdout",
     "output_type": "stream",
     "text": [
      "Begin group  1 training\n"
     ]
    },
    {
     "name": "stderr",
     "output_type": "stream",
     "text": [
      "Epoch:   0%|                                                                                      | 0/5 [00:00<?, ?it/s]"
     ]
    },
    {
     "name": "stdout",
     "output_type": "stream",
     "text": [
      "Begin group  2 training\n"
     ]
    },
    {
     "name": "stderr",
     "output_type": "stream",
     "text": [
      "Epoch:   0%|                                                                                      | 0/5 [00:00<?, ?it/s]"
     ]
    },
    {
     "name": "stdout",
     "output_type": "stream",
     "text": [
      "Group 0 clients ['f_00148', 'f_00088', 'f_00028', 'f_00157', 'f_00167', 'f_00139', 'f_00087']\n",
      "Group 1 clients ['f_00111', 'f_00042', 'f_00023', 'f_00049', 'f_00070']\n",
      "Group 2 clients ['f_00055', 'f_00094', 'f_00046', 'f_00185', 'f_00195', 'f_00048', 'f_00066', 'f_00143']\n",
      "The groups difference are: [1.1102230246251565e-16, 0.0006556245087799839, 0.0006849207415952074]\n",
      "Group 0\n",
      "At round 85 accuracy: 0.6825396825396826\n",
      "At round 85 training accuracy: 0.5915750915750916\n",
      "At round 85 training loss: 0.9292832444875668\n",
      "Group 1\n",
      "At round 85 accuracy: 0.7090909090909091\n",
      "At round 85 training accuracy: 0.6875\n",
      "At round 85 training loss: 1.0714956329300487\n",
      "Group 2\n",
      "At round 85 accuracy: 0.6140350877192983\n",
      "At round 85 training accuracy: 0.620253164556962\n",
      "At round 85 training loss: 1.124507903172497\n",
      "Begin group  0 training\n"
     ]
    },
    {
     "name": "stderr",
     "output_type": "stream",
     "text": [
      "Epoch:   0%|                                                                                      | 0/5 [00:00<?, ?it/s]"
     ]
    },
    {
     "name": "stdout",
     "output_type": "stream",
     "text": [
      "Begin group  1 training\n"
     ]
    },
    {
     "name": "stderr",
     "output_type": "stream",
     "text": [
      "Epoch:   0%|                                                                                      | 0/5 [00:00<?, ?it/s]"
     ]
    },
    {
     "name": "stdout",
     "output_type": "stream",
     "text": [
      "Begin group  2 training\n"
     ]
    },
    {
     "name": "stderr",
     "output_type": "stream",
     "text": [
      "Epoch:   0%|                                                                                      | 0/5 [00:00<?, ?it/s]"
     ]
    },
    {
     "name": "stdout",
     "output_type": "stream",
     "text": [
      "Group 0 clients ['f_00067', 'f_00189', 'f_00037', 'f_00030', 'f_00113']\n",
      "Group 1 clients ['f_00171', 'f_00012', 'f_00182', 'f_00001', 'f_00132', 'f_00074']\n",
      "Group 2 clients ['f_00055', 'f_00195', 'f_00034', 'f_00176', 'f_00135', 'f_00094', 'f_00184', 'f_00032', 'f_00083']\n",
      "The groups difference are: [0.0, 0.0010605726366388346, 0.0007001008354383664]\n",
      "Group 0\n",
      "At round 86 accuracy: 0.64\n",
      "At round 86 training accuracy: 0.6248062015503876\n",
      "At round 86 training loss: 1.2365653292153234\n",
      "Group 1\n",
      "At round 86 accuracy: 0.5555555555555556\n",
      "At round 86 training accuracy: 0.5047619047619047\n",
      "At round 86 training loss: 1.2981015670867193\n",
      "Group 2\n",
      "At round 86 accuracy: 0.671875\n",
      "At round 86 training accuracy: 0.6125954198473282\n",
      "At round 86 training loss: 1.092835427923057\n",
      "Begin group  0 training\n"
     ]
    },
    {
     "name": "stderr",
     "output_type": "stream",
     "text": [
      "Epoch:   0%|                                                                                      | 0/5 [00:00<?, ?it/s]"
     ]
    },
    {
     "name": "stdout",
     "output_type": "stream",
     "text": [
      "Begin group  1 training\n",
      "Begin group  2 training\n"
     ]
    },
    {
     "name": "stderr",
     "output_type": "stream",
     "text": [
      "Epoch:   0%|                                                                                      | 0/5 [00:00<?, ?it/s]"
     ]
    },
    {
     "name": "stdout",
     "output_type": "stream",
     "text": [
      "Group 0 clients ['f_00029', 'f_00158', 'f_00067', 'f_00097', 'f_00189', 'f_00106']\n",
      "Group 1 clients ['f_00012', 'f_00080', 'f_00180', 'f_00032', 'f_00008', 'f_00093']\n",
      "Group 2 clients ['f_00013', 'f_00125', 'f_00145', 'f_00165', 'f_00194', 'f_00044', 'f_00024', 'f_00135']\n",
      "The groups difference are: [0.0, 0.0010480575423381655, 0.000957299658852051]\n",
      "Group 0\n",
      "At round 87 accuracy: 0.5694444444444444\n",
      "At round 87 training accuracy: 0.6217948717948718\n",
      "At round 87 training loss: 1.1437537743686101\n",
      "Group 1\n",
      "At round 87 accuracy: 0.5441176470588235\n",
      "At round 87 training accuracy: 0.553448275862069\n",
      "At round 87 training loss: 1.3622412432884348\n",
      "Group 2\n",
      "At round 87 accuracy: 0.7777777777777778\n",
      "At round 87 training accuracy: 0.6957928802588996\n",
      "At round 87 training loss: 0.8538202258568366\n",
      "Begin group  0 training\n"
     ]
    },
    {
     "name": "stderr",
     "output_type": "stream",
     "text": [
      "Epoch:   0%|                                                                                      | 0/5 [00:00<?, ?it/s]"
     ]
    },
    {
     "name": "stdout",
     "output_type": "stream",
     "text": [
      "Begin group  1 training\n"
     ]
    },
    {
     "name": "stderr",
     "output_type": "stream",
     "text": [
      "Epoch:   0%|                                                                                      | 0/5 [00:00<?, ?it/s]"
     ]
    },
    {
     "name": "stdout",
     "output_type": "stream",
     "text": [
      "Begin group  2 training\n"
     ]
    },
    {
     "name": "stderr",
     "output_type": "stream",
     "text": [
      "Epoch:  60%|██████████████████████████████████████████████▊                               | 3/5 [00:00<00:00, 28.67it/s]"
     ]
    },
    {
     "name": "stdout",
     "output_type": "stream",
     "text": [
      "Group 0 clients ['f_00087', 'f_00039', 'f_00069', 'f_00158', 'f_00199', 'f_00129', 'f_00033', 'f_00113']\n",
      "Group 1 clients ['f_00111', 'f_00021', 'f_00180', 'f_00074']\n",
      "Group 2 clients ['f_00085', 'f_00096', 'f_00105', 'f_00002', 'f_00013', 'f_00166', 'f_00057', 'f_00153']\n",
      "The groups difference are: [0.0, 0.00103764011554619, 0.0010876756267019783]\n",
      "Group 0\n",
      "At round 88 accuracy: 0.5280898876404494\n",
      "At round 88 training accuracy: 0.5168393782383419\n",
      "At round 88 training loss: 1.2847547284062044\n",
      "Group 1\n",
      "At round 88 accuracy: 0.625\n",
      "At round 88 training accuracy: 0.6985074626865672\n",
      "At round 88 training loss: 1.005229279354437\n",
      "Group 2\n",
      "At round 88 accuracy: 0.3125\n",
      "At round 88 training accuracy: 0.39811320754716983\n",
      "At round 88 training loss: 1.6482609950146585\n",
      "Begin group  0 training\n"
     ]
    },
    {
     "name": "stderr",
     "output_type": "stream",
     "text": [
      "Epoch:  80%|██████████████████████████████████████████████████████████████▍               | 4/5 [00:00<00:00, 37.24it/s]"
     ]
    },
    {
     "name": "stdout",
     "output_type": "stream",
     "text": [
      "Begin group  1 training\n"
     ]
    },
    {
     "name": "stderr",
     "output_type": "stream",
     "text": [
      "Epoch:   0%|                                                                                      | 0/5 [00:00<?, ?it/s]"
     ]
    },
    {
     "name": "stdout",
     "output_type": "stream",
     "text": [
      "Begin group  2 training\n"
     ]
    },
    {
     "name": "stderr",
     "output_type": "stream",
     "text": [
      "Epoch:   0%|                                                                                      | 0/5 [00:00<?, ?it/s]"
     ]
    },
    {
     "name": "stdout",
     "output_type": "stream",
     "text": [
      "Group 0 clients ['f_00197', 'f_00179', 'f_00089', 'f_00058', 'f_00078', 'f_00107', 'f_00028']\n",
      "Group 1 clients ['f_00170', 'f_00091', 'f_00120', 'f_00012', 'f_00104', 'f_00074']\n",
      "Group 2 clients ['f_00065', 'f_00025', 'f_00196', 'f_00014', 'f_00127', 'f_00095', 'f_00144']\n",
      "The groups difference are: [0.0, 0.0009305475442809019, 0.000921636319928032]\n",
      "Group 0\n",
      "At round 89 accuracy: 0.5135135135135135\n",
      "At round 89 training accuracy: 0.5681818181818182\n",
      "At round 89 training loss: 0.9397359045294972\n",
      "Group 1\n",
      "At round 89 accuracy: 0.46808510638297873\n",
      "At round 89 training accuracy: 0.5415617128463476\n",
      "At round 89 training loss: 1.362344009599998\n",
      "Group 2\n",
      "At round 89 accuracy: 0.723404255319149\n",
      "At round 89 training accuracy: 0.7989690721649485\n",
      "At round 89 training loss: 0.9865480881069124\n",
      "Begin group  0 training\n"
     ]
    },
    {
     "name": "stderr",
     "output_type": "stream",
     "text": [
      "Epoch:   0%|                                                                                      | 0/5 [00:00<?, ?it/s]"
     ]
    },
    {
     "name": "stdout",
     "output_type": "stream",
     "text": [
      "Begin group  1 training\n"
     ]
    },
    {
     "name": "stderr",
     "output_type": "stream",
     "text": [
      "Epoch:   0%|                                                                                      | 0/5 [00:00<?, ?it/s]"
     ]
    },
    {
     "name": "stdout",
     "output_type": "stream",
     "text": [
      "Begin group  2 training\n"
     ]
    },
    {
     "name": "stderr",
     "output_type": "stream",
     "text": [
      "Epoch:   0%|                                                                                      | 0/5 [00:00<?, ?it/s]"
     ]
    },
    {
     "name": "stdout",
     "output_type": "stream",
     "text": [
      "Group 0 clients ['f_00117', 'f_00197', 'f_00079', 'f_00088', 'f_00029']\n",
      "Group 1 clients ['f_00161', 'f_00122', 'f_00041', 'f_00001', 'f_00193']\n",
      "Group 2 clients ['f_00145', 'f_00184', 'f_00185', 'f_00063', 'f_00015', 'f_00082', 'f_00083', 'f_00016', 'f_00115', 'f_00038']\n",
      "The groups difference are: [0.0, 0.0009072026656123944, 0.0008808039832315373]\n",
      "Group 0\n",
      "At round 90 accuracy: 0.6842105263157895\n",
      "At round 90 training accuracy: 0.6307692307692307\n",
      "At round 90 training loss: 0.985828879062946\n",
      "Group 1\n",
      "At round 90 accuracy: 0.6842105263157895\n",
      "At round 90 training accuracy: 0.6387096774193548\n",
      "At round 90 training loss: 0.9670988869282507\n",
      "Group 2\n",
      "At round 90 accuracy: 0.6571428571428571\n",
      "At round 90 training accuracy: 0.6280276816608996\n",
      "At round 90 training loss: 1.2330130571725046\n",
      "Begin group  0 training\n"
     ]
    },
    {
     "name": "stderr",
     "output_type": "stream",
     "text": [
      "Epoch:   0%|                                                                                      | 0/5 [00:00<?, ?it/s]"
     ]
    },
    {
     "name": "stdout",
     "output_type": "stream",
     "text": [
      "Begin group  1 training\n"
     ]
    },
    {
     "name": "stderr",
     "output_type": "stream",
     "text": [
      "Epoch:   0%|                                                                                      | 0/5 [00:00<?, ?it/s]"
     ]
    },
    {
     "name": "stdout",
     "output_type": "stream",
     "text": [
      "Begin group  2 training\n"
     ]
    },
    {
     "name": "stderr",
     "output_type": "stream",
     "text": [
      "Epoch:   0%|                                                                                      | 0/5 [00:00<?, ?it/s]"
     ]
    },
    {
     "name": "stdout",
     "output_type": "stream",
     "text": [
      "Group 0 clients ['f_00137', 'f_00177', 'f_00027', 'f_00003']\n",
      "Group 1 clients ['f_00122', 'f_00090', 'f_00120', 'f_00011', 'f_00020', 'f_00023', 'f_00146', 'f_00111']\n",
      "Group 2 clients ['f_00055', 'f_00163', 'f_00184', 'f_00153', 'f_00124', 'f_00112', 'f_00084', 'f_00073']\n",
      "The groups difference are: [0.0, 0.0012207087366483682, 0.0008086313540607293]\n",
      "Group 0\n",
      "At round 91 accuracy: 0.5\n",
      "At round 91 training accuracy: 0.5166051660516605\n",
      "At round 91 training loss: 1.1437982516535095\n",
      "Group 1\n",
      "At round 91 accuracy: 0.5913978494623656\n",
      "At round 91 training accuracy: 0.5694444444444444\n",
      "At round 91 training loss: 1.5595268048722335\n",
      "Group 2\n",
      "At round 91 accuracy: 0.8026315789473685\n",
      "At round 91 training accuracy: 0.7996894409937888\n",
      "At round 91 training loss: 0.9103907329140243\n",
      "Begin group  0 training\n"
     ]
    },
    {
     "name": "stderr",
     "output_type": "stream",
     "text": [
      "Epoch:   0%|                                                                                      | 0/5 [00:00<?, ?it/s]"
     ]
    },
    {
     "name": "stdout",
     "output_type": "stream",
     "text": [
      "Begin group  1 training\n"
     ]
    },
    {
     "name": "stderr",
     "output_type": "stream",
     "text": [
      "Epoch:   0%|                                                                                      | 0/5 [00:00<?, ?it/s]"
     ]
    },
    {
     "name": "stdout",
     "output_type": "stream",
     "text": [
      "Begin group  2 training\n"
     ]
    },
    {
     "name": "stderr",
     "output_type": "stream",
     "text": [
      "Epoch:   0%|                                                                                      | 0/5 [00:00<?, ?it/s]"
     ]
    },
    {
     "name": "stdout",
     "output_type": "stream",
     "text": [
      "Group 0 clients ['f_00007', 'f_00038', 'f_00176', 'f_00026']\n",
      "Group 1 clients ['f_00031', 'f_00141', 'f_00022', 'f_00061', 'f_00032', 'f_00091']\n",
      "Group 2 clients ['f_00116', 'f_00115', 'f_00034', 'f_00123', 'f_00024', 'f_00063', 'f_00044', 'f_00036', 'f_00194', 'f_00183']\n",
      "The groups difference are: [0.0, 0.001159020637383823, 0.0011192562137880557]\n",
      "Group 0\n",
      "At round 92 accuracy: 0.5454545454545454\n",
      "At round 92 training accuracy: 0.6424581005586593\n",
      "At round 92 training loss: 1.3829344254632236\n",
      "Group 1\n",
      "At round 92 accuracy: 0.6666666666666666\n",
      "At round 92 training accuracy: 0.8148148148148148\n",
      "At round 92 training loss: 0.6228619593161123\n",
      "Group 2\n",
      "At round 92 accuracy: 0.6627906976744186\n",
      "At round 92 training accuracy: 0.7125171939477304\n",
      "At round 92 training loss: 0.8960641701250981\n",
      "Begin group  0 training\n"
     ]
    },
    {
     "name": "stderr",
     "output_type": "stream",
     "text": [
      "                                                                                                                        "
     ]
    },
    {
     "name": "stdout",
     "output_type": "stream",
     "text": [
      "Begin group  1 training\n"
     ]
    },
    {
     "name": "stderr",
     "output_type": "stream",
     "text": [
      "Epoch:   0%|                                                                                      | 0/5 [00:00<?, ?it/s]"
     ]
    },
    {
     "name": "stdout",
     "output_type": "stream",
     "text": [
      "Begin group  2 training\n"
     ]
    },
    {
     "name": "stderr",
     "output_type": "stream",
     "text": [
      "Epoch:   0%|                                                                                      | 0/5 [00:00<?, ?it/s]"
     ]
    },
    {
     "name": "stdout",
     "output_type": "stream",
     "text": [
      "Group 0 clients ['f_00078', 'f_00028', 'f_00068', 'f_00007', 'f_00089', 'f_00129', 'f_00119']\n",
      "Group 1 clients ['f_00182', 'f_00151', 'f_00052', 'f_00041', 'f_00100']\n",
      "Group 2 clients ['f_00095', 'f_00153', 'f_00065', 'f_00175', 'f_00050', 'f_00004', 'f_00136', 'f_00054']\n",
      "The groups difference are: [0.0, 0.0010773604175490226, 0.0008525659922404838]\n",
      "Group 0\n",
      "At round 93 accuracy: 0.2\n",
      "At round 93 training accuracy: 0.25196850393700787\n",
      "At round 93 training loss: 1.936825753040514\n",
      "Group 1\n",
      "At round 93 accuracy: 0.5434782608695652\n",
      "At round 93 training accuracy: 0.6683673469387755\n",
      "At round 93 training loss: 1.0346311244125268\n",
      "Group 2\n",
      "At round 93 accuracy: 0.3191489361702128\n",
      "At round 93 training accuracy: 0.34554973821989526\n",
      "At round 93 training loss: 1.9904575282366488\n",
      "Begin group  0 training\n"
     ]
    },
    {
     "name": "stderr",
     "output_type": "stream",
     "text": [
      "Epoch:   0%|                                                                                      | 0/5 [00:00<?, ?it/s]"
     ]
    },
    {
     "name": "stdout",
     "output_type": "stream",
     "text": [
      "Begin group  1 training\n"
     ]
    },
    {
     "name": "stderr",
     "output_type": "stream",
     "text": [
      "Epoch:   0%|                                                                                      | 0/5 [00:00<?, ?it/s]"
     ]
    },
    {
     "name": "stdout",
     "output_type": "stream",
     "text": [
      "Begin group  2 training\n"
     ]
    },
    {
     "name": "stderr",
     "output_type": "stream",
     "text": [
      "Epoch:   0%|                                                                                      | 0/5 [00:00<?, ?it/s]"
     ]
    },
    {
     "name": "stdout",
     "output_type": "stream",
     "text": [
      "Group 0 clients ['f_00177', 'f_00167', 'f_00037', 'f_00028', 'f_00159', 'f_00149']\n",
      "Group 1 clients ['f_00130', 'f_00071', 'f_00180', 'f_00080', 'f_00020', 'f_00100', 'f_00049']\n",
      "Group 2 clients ['f_00044', 'f_00025', 'f_00195', 'f_00145', 'f_00092', 'f_00054', 'f_00064']\n",
      "The groups difference are: [0.0, 0.000848349140273652, 0.0007618164442573239]\n",
      "Group 0\n",
      "At round 94 accuracy: 0.46551724137931033\n",
      "At round 94 training accuracy: 0.504\n",
      "At round 94 training loss: 1.267316645383835\n",
      "Group 1\n",
      "At round 94 accuracy: 0.5316455696202531\n",
      "At round 94 training accuracy: 0.5640287769784172\n",
      "At round 94 training loss: 1.1532783317051345\n",
      "Group 2\n",
      "At round 94 accuracy: 0.7674418604651163\n",
      "At round 94 training accuracy: 0.7214484679665738\n",
      "At round 94 training loss: 0.9903612243099797\n",
      "Begin group  0 training\n"
     ]
    },
    {
     "name": "stderr",
     "output_type": "stream",
     "text": [
      "Epoch:   0%|                                                                                      | 0/5 [00:00<?, ?it/s]"
     ]
    },
    {
     "name": "stdout",
     "output_type": "stream",
     "text": [
      "Begin group  1 training\n"
     ]
    },
    {
     "name": "stderr",
     "output_type": "stream",
     "text": [
      "                                                                                                                        "
     ]
    },
    {
     "name": "stdout",
     "output_type": "stream",
     "text": [
      "Begin group  2 training\n"
     ]
    },
    {
     "name": "stderr",
     "output_type": "stream",
     "text": [
      "Epoch:   0%|                                                                                      | 0/5 [00:00<?, ?it/s]"
     ]
    },
    {
     "name": "stdout",
     "output_type": "stream",
     "text": [
      "Group 0 clients ['f_00137', 'f_00169', 'f_00089', 'f_00178', 'f_00179', 'f_00069']\n",
      "Group 1 clients ['f_00061', 'f_00021', 'f_00110', 'f_00174', 'f_00109']\n",
      "Group 2 clients ['f_00063', 'f_00144', 'f_00066', 'f_00085', 'f_00043', 'f_00112', 'f_00004', 'f_00053', 'f_00160']\n",
      "The groups difference are: [0.0, 0.0010039892191505695, 0.0007685636564589426]\n",
      "Group 0\n",
      "At round 95 accuracy: 0.4864864864864865\n",
      "At round 95 training accuracy: 0.4872611464968153\n",
      "At round 95 training loss: 1.2389538223576393\n",
      "Group 1\n",
      "At round 95 accuracy: 0.5625\n",
      "At round 95 training accuracy: 0.5630252100840336\n",
      "At round 95 training loss: 1.7369062940613562\n",
      "Group 2\n",
      "At round 95 accuracy: 0.4696969696969697\n",
      "At round 95 training accuracy: 0.4412024756852343\n",
      "At round 95 training loss: 1.811424504013635\n",
      "Begin group  0 training\n"
     ]
    },
    {
     "name": "stderr",
     "output_type": "stream",
     "text": [
      "Epoch:   0%|                                                                                      | 0/5 [00:00<?, ?it/s]"
     ]
    },
    {
     "name": "stdout",
     "output_type": "stream",
     "text": [
      "Begin group  1 training\n",
      "Begin group  2 training\n"
     ]
    },
    {
     "name": "stderr",
     "output_type": "stream",
     "text": [
      "Epoch:   0%|                                                                                      | 0/5 [00:00<?, ?it/s]"
     ]
    },
    {
     "name": "stdout",
     "output_type": "stream",
     "text": [
      "Group 0 clients ['f_00167', 'f_00198', 'f_00026', 'f_00036', 'f_00113']\n",
      "Group 1 clients ['f_00080', 'f_00102', 'f_00032', 'f_00051', 'f_00071', 'f_00093']\n",
      "Group 2 clients ['f_00175', 'f_00086', 'f_00005', 'f_00185', 'f_00035', 'f_00096', 'f_00015', 'f_00173', 'f_00184']\n",
      "The groups difference are: [0.0, 0.0005133531365900668, 0.0006536080444957681]\n",
      "Group 0\n",
      "At round 96 accuracy: 0.17647058823529413\n",
      "At round 96 training accuracy: 0.22419928825622776\n",
      "At round 96 training loss: 2.0329322204046827\n",
      "Group 1\n",
      "At round 96 accuracy: 0.5\n",
      "At round 96 training accuracy: 0.551617873651772\n",
      "At round 96 training loss: 1.2434019994662244\n",
      "Group 2\n",
      "At round 96 accuracy: 0.37362637362637363\n",
      "At round 96 training accuracy: 0.43170103092783507\n",
      "At round 96 training loss: 1.5540112306930356\n",
      "Begin group  0 training\n"
     ]
    },
    {
     "name": "stderr",
     "output_type": "stream",
     "text": [
      "Epoch:   0%|                                                                                      | 0/5 [00:00<?, ?it/s]"
     ]
    },
    {
     "name": "stdout",
     "output_type": "stream",
     "text": [
      "Begin group  1 training\n"
     ]
    },
    {
     "name": "stderr",
     "output_type": "stream",
     "text": [
      "Epoch:  80%|██████████████████████████████████████████████████████████████▍               | 4/5 [00:00<00:00, 36.41it/s]"
     ]
    },
    {
     "name": "stdout",
     "output_type": "stream",
     "text": [
      "Begin group  2 training\n"
     ]
    },
    {
     "name": "stderr",
     "output_type": "stream",
     "text": [
      "                                                                                                                        "
     ]
    },
    {
     "name": "stdout",
     "output_type": "stream",
     "text": [
      "Group 0 clients ['f_00128', 'f_00058', 'f_00167', 'f_00038', 'f_00030']\n",
      "Group 1 clients ['f_00020', 'f_00140', 'f_00110', 'f_00121', 'f_00022', 'f_00049']\n",
      "Group 2 clients ['f_00145', 'f_00056', 'f_00045', 'f_00005', 'f_00085', 'f_00055', 'f_00063', 'f_00047', 'f_00065']\n",
      "The groups difference are: [0.0, 0.0007897303891195584, 0.0005218561399867871]\n",
      "Group 0\n",
      "At round 97 accuracy: 0.47368421052631576\n",
      "At round 97 training accuracy: 0.4129032258064516\n",
      "At round 97 training loss: 1.47795394005314\n",
      "Group 1\n",
      "At round 97 accuracy: 0.5740740740740741\n",
      "At round 97 training accuracy: 0.5974025974025974\n",
      "At round 97 training loss: 1.0503614534547319\n",
      "Group 2\n",
      "At round 97 accuracy: 0.7662337662337663\n",
      "At round 97 training accuracy: 0.7573872472783826\n",
      "At round 97 training loss: 0.8825060094867487\n",
      "Begin group  0 training\n",
      "Begin group  1 training\n"
     ]
    },
    {
     "name": "stderr",
     "output_type": "stream",
     "text": [
      "Epoch:   0%|                                                                                      | 0/5 [00:00<?, ?it/s]"
     ]
    },
    {
     "name": "stdout",
     "output_type": "stream",
     "text": [
      "Begin group  2 training\n"
     ]
    },
    {
     "name": "stderr",
     "output_type": "stream",
     "text": [
      "Epoch:   0%|                                                                                      | 0/5 [00:00<?, ?it/s]"
     ]
    },
    {
     "name": "stdout",
     "output_type": "stream",
     "text": [
      "Group 0 clients ['f_00128', 'f_00058', 'f_00097', 'f_00119', 'f_00198']\n",
      "Group 1 clients ['f_00182', 'f_00152', 'f_00121', 'f_00041', 'f_00051']\n",
      "Group 2 clients ['f_00145', 'f_00155', 'f_00064', 'f_00135', 'f_00153', 'f_00115', 'f_00134', 'f_00112', 'f_00184', 'f_00096']\n",
      "The groups difference are: [2.220446049250313e-16, 0.0007193459755558962, 0.0006657261736948694]\n",
      "Group 0\n",
      "At round 98 accuracy: 0.6363636363636364\n",
      "At round 98 training accuracy: 0.6983240223463687\n",
      "At round 98 training loss: 0.9669116802055743\n",
      "Group 1\n",
      "At round 98 accuracy: 0.7115384615384616\n",
      "At round 98 training accuracy: 0.7186813186813187\n",
      "At round 98 training loss: 0.8187395398433391\n",
      "Group 2\n",
      "At round 98 accuracy: 0.5789473684210527\n",
      "At round 98 training accuracy: 0.6757188498402555\n",
      "At round 98 training loss: 1.16017255353661\n",
      "Begin group  0 training\n"
     ]
    },
    {
     "name": "stderr",
     "output_type": "stream",
     "text": [
      "Epoch:   0%|                                                                                      | 0/5 [00:00<?, ?it/s]"
     ]
    },
    {
     "name": "stdout",
     "output_type": "stream",
     "text": [
      "Begin group  1 training\n"
     ]
    },
    {
     "name": "stderr",
     "output_type": "stream",
     "text": [
      "Epoch:   0%|                                                                                      | 0/5 [00:00<?, ?it/s]"
     ]
    },
    {
     "name": "stdout",
     "output_type": "stream",
     "text": [
      "Begin group  2 training\n"
     ]
    },
    {
     "name": "stderr",
     "output_type": "stream",
     "text": [
      "Epoch:   0%|                                                                                      | 0/5 [00:00<?, ?it/s]"
     ]
    },
    {
     "name": "stdout",
     "output_type": "stream",
     "text": [
      "Group 0 clients ['f_00119', 'f_00036', 'f_00009', 'f_00126']\n",
      "Group 1 clients ['f_00121', 'f_00111', 'f_00191', 'f_00050', 'f_00081', 'f_00049']\n",
      "Group 2 clients ['f_00085', 'f_00155', 'f_00195', 'f_00024', 'f_00135', 'f_00127', 'f_00066', 'f_00187', 'f_00043', 'f_00153']\n",
      "The groups difference are: [0.0, 0.0008908751998004671, 0.0008105683303871736]\n",
      "Group 0\n",
      "At round 99 accuracy: 0.4583333333333333\n",
      "At round 99 training accuracy: 0.4791666666666667\n",
      "At round 99 training loss: 1.420636549902459\n",
      "Group 1\n",
      "At round 99 accuracy: 0.6666666666666666\n",
      "At round 99 training accuracy: 0.771689497716895\n",
      "At round 99 training loss: 0.6690506948047577\n",
      "Group 2\n",
      "At round 99 accuracy: 0.7384615384615385\n",
      "At round 99 training accuracy: 0.7095588235294118\n",
      "At round 99 training loss: 1.031540705000653\n",
      "Begin group  0 training\n"
     ]
    },
    {
     "name": "stderr",
     "output_type": "stream",
     "text": [
      "Epoch:   0%|                                                                                      | 0/5 [00:00<?, ?it/s]"
     ]
    },
    {
     "name": "stdout",
     "output_type": "stream",
     "text": [
      "Begin group  1 training\n"
     ]
    },
    {
     "name": "stderr",
     "output_type": "stream",
     "text": [
      "Epoch:   0%|                                                                                      | 0/5 [00:00<?, ?it/s]"
     ]
    },
    {
     "name": "stdout",
     "output_type": "stream",
     "text": [
      "Begin group  2 training\n"
     ]
    },
    {
     "name": "stderr",
     "output_type": "stream",
     "text": [
      "Epoch:   0%|                                                                                      | 0/5 [00:00<?, ?it/s]"
     ]
    },
    {
     "name": "stdout",
     "output_type": "stream",
     "text": [
      "Group 0 clients ['f_00177', 'f_00099', 'f_00069', 'f_00167', 'f_00126']\n",
      "Group 1 clients ['f_00031', 'f_00111', 'f_00182', 'f_00052', 'f_00104', 'f_00154']\n",
      "Group 2 clients ['f_00163', 'f_00125', 'f_00194', 'f_00164', 'f_00092', 'f_00116', 'f_00096', 'f_00124', 'f_00196']\n",
      "The groups difference are: [0.0, 0.0007423272008245663, 0.0005481803486482306]\n",
      "Group 0\n",
      "At round 100 accuracy: 0.6744186046511628\n",
      "At round 100 training accuracy: 0.6122994652406417\n",
      "At round 100 training loss: 1.0999080793742828\n",
      "Group 1\n",
      "At round 100 accuracy: 0.40384615384615385\n",
      "At round 100 training accuracy: 0.4192825112107623\n",
      "At round 100 training loss: 2.0542181583263415\n",
      "Group 2\n",
      "At round 100 accuracy: 0.4774774774774775\n",
      "At round 100 training accuracy: 0.4510416666666667\n",
      "At round 100 training loss: 1.29565275448064\n",
      "Begin group  0 training\n"
     ]
    },
    {
     "name": "stderr",
     "output_type": "stream",
     "text": [
      "Epoch:   0%|                                                                                      | 0/5 [00:00<?, ?it/s]"
     ]
    },
    {
     "name": "stdout",
     "output_type": "stream",
     "text": [
      "Begin group  1 training\n"
     ]
    },
    {
     "name": "stderr",
     "output_type": "stream",
     "text": [
      "Epoch:   0%|                                                                                      | 0/5 [00:00<?, ?it/s]"
     ]
    },
    {
     "name": "stdout",
     "output_type": "stream",
     "text": [
      "Begin group  2 training\n"
     ]
    },
    {
     "name": "stderr",
     "output_type": "stream",
     "text": [
      "Epoch:   0%|                                                                                      | 0/5 [00:00<?, ?it/s]"
     ]
    },
    {
     "name": "stdout",
     "output_type": "stream",
     "text": [
      "Group 0 clients ['f_00089', 'f_00037', 'f_00039', 'f_00119', 'f_00148', 'f_00149']\n",
      "Group 1 clients ['f_00141', 'f_00142', 'f_00170', 'f_00109', 'f_00031', 'f_00074', 'f_00174']\n",
      "Group 2 clients ['f_00055', 'f_00054', 'f_00145', 'f_00034', 'f_00066', 'f_00112', 'f_00025']\n",
      "The groups difference are: [0.0, 0.0008668947934000748, 0.0008542204760562111]\n",
      "Group 0\n",
      "At round 101 accuracy: 0.6363636363636364\n",
      "At round 101 training accuracy: 0.5906593406593407\n",
      "At round 101 training loss: 1.0801105751441076\n",
      "Group 1\n",
      "At round 101 accuracy: 0.5161290322580645\n",
      "At round 101 training accuracy: 0.5291828793774319\n",
      "At round 101 training loss: 1.359649753292247\n",
      "Group 2\n",
      "At round 101 accuracy: 0.5\n",
      "At round 101 training accuracy: 0.5578231292517006\n",
      "At round 101 training loss: 1.3021770595422948\n",
      "Begin group  0 training\n"
     ]
    },
    {
     "name": "stderr",
     "output_type": "stream",
     "text": [
      "Epoch:   0%|                                                                                      | 0/5 [00:00<?, ?it/s]"
     ]
    },
    {
     "name": "stdout",
     "output_type": "stream",
     "text": [
      "Begin group  1 training\n"
     ]
    },
    {
     "name": "stderr",
     "output_type": "stream",
     "text": [
      "Epoch:   0%|                                                                                      | 0/5 [00:00<?, ?it/s]"
     ]
    },
    {
     "name": "stdout",
     "output_type": "stream",
     "text": [
      "Begin group  2 training\n"
     ]
    },
    {
     "name": "stderr",
     "output_type": "stream",
     "text": [
      "Epoch:   0%|                                                                                      | 0/5 [00:00<?, ?it/s]"
     ]
    },
    {
     "name": "stdout",
     "output_type": "stream",
     "text": [
      "Group 0 clients ['f_00129', 'f_00118', 'f_00029', 'f_00119', 'f_00099', 'f_00036', 'f_00087']\n",
      "Group 1 clients ['f_00142', 'f_00120', 'f_00008', 'f_00163']\n",
      "Group 2 clients ['f_00185', 'f_00085', 'f_00005', 'f_00054', 'f_00057', 'f_00034', 'f_00002', 'f_00083', 'f_00144']\n",
      "The groups difference are: [0.0, 0.0006344468371553003, 0.0007496176465089377]\n",
      "Group 0\n",
      "At round 102 accuracy: 0.6444444444444445\n",
      "At round 102 training accuracy: 0.641318124207858\n",
      "At round 102 training loss: 0.9783566029050655\n",
      "Group 1\n",
      "At round 102 accuracy: 0.5833333333333334\n",
      "At round 102 training accuracy: 0.6767676767676768\n",
      "At round 102 training loss: 1.13072370880782\n",
      "Group 2\n",
      "At round 102 accuracy: 0.5647058823529412\n",
      "At round 102 training accuracy: 0.5539772727272727\n",
      "At round 102 training loss: 1.170745504596694\n",
      "Begin group  0 training\n"
     ]
    },
    {
     "name": "stderr",
     "output_type": "stream",
     "text": [
      "Epoch:   0%|                                                                                      | 0/5 [00:00<?, ?it/s]"
     ]
    },
    {
     "name": "stdout",
     "output_type": "stream",
     "text": [
      "Begin group  1 training\n",
      "Begin group  2 training\n"
     ]
    },
    {
     "name": "stderr",
     "output_type": "stream",
     "text": [
      "                                                                                                                        "
     ]
    },
    {
     "name": "stdout",
     "output_type": "stream",
     "text": [
      "Group 0 clients ['f_00009', 'f_00149', 'f_00127', 'f_00113', 'f_00003']\n",
      "Group 1 clients ['f_00032', 'f_00190', 'f_00031', 'f_00101', 'f_00052', 'f_00193', 'f_00111']\n",
      "Group 2 clients ['f_00155', 'f_00085', 'f_00186', 'f_00164', 'f_00160', 'f_00166', 'f_00162', 'f_00064']\n",
      "The groups difference are: [1.1102230246251565e-16, 0.0007424279461698546, 0.0008853426280797105]\n",
      "Group 0\n",
      "At round 103 accuracy: 0.4\n",
      "At round 103 training accuracy: 0.35064935064935066\n",
      "At round 103 training loss: 1.8456517717280945\n",
      "Group 1\n",
      "At round 103 accuracy: 0.8269230769230769\n",
      "At round 103 training accuracy: 0.8436018957345972\n",
      "At round 103 training loss: 0.8325177916983293\n",
      "Group 2\n",
      "At round 103 accuracy: 0.4953271028037383\n",
      "At round 103 training accuracy: 0.4989224137931034\n",
      "At round 103 training loss: 1.784952321186148\n",
      "Begin group  0 training\n"
     ]
    },
    {
     "name": "stderr",
     "output_type": "stream",
     "text": [
      "Epoch:   0%|                                                                                      | 0/5 [00:00<?, ?it/s]"
     ]
    },
    {
     "name": "stdout",
     "output_type": "stream",
     "text": [
      "Begin group  1 training\n"
     ]
    },
    {
     "name": "stderr",
     "output_type": "stream",
     "text": [
      "Epoch:   0%|                                                                                      | 0/5 [00:00<?, ?it/s]"
     ]
    },
    {
     "name": "stdout",
     "output_type": "stream",
     "text": [
      "Begin group  2 training\n"
     ]
    },
    {
     "name": "stderr",
     "output_type": "stream",
     "text": [
      "Epoch:   0%|                                                                                      | 0/5 [00:00<?, ?it/s]"
     ]
    },
    {
     "name": "stdout",
     "output_type": "stream",
     "text": [
      "Group 0 clients ['f_00128', 'f_00018', 'f_00028', 'f_00047', 'f_00113']\n",
      "Group 1 clients ['f_00130', 'f_00192', 'f_00061', 'f_00104', 'f_00049', 'f_00154', 'f_00001']\n",
      "Group 2 clients ['f_00045', 'f_00034', 'f_00084', 'f_00123', 'f_00064', 'f_00005', 'f_00153', 'f_00164']\n",
      "The groups difference are: [0.0, 0.0005552590616282327, 0.000521170291619022]\n",
      "Group 0\n",
      "At round 104 accuracy: 0.45\n",
      "At round 104 training accuracy: 0.551948051948052\n",
      "At round 104 training loss: 1.2365460906709944\n",
      "Group 1\n",
      "At round 104 accuracy: 0.34285714285714286\n",
      "At round 104 training accuracy: 0.34296028880866425\n",
      "At round 104 training loss: 1.8418894704928896\n",
      "Group 2\n",
      "At round 104 accuracy: 0.704\n",
      "At round 104 training accuracy: 0.7319109461966605\n",
      "At round 104 training loss: 1.0535388828872085\n",
      "Begin group  0 training\n",
      "Begin group  1 training\n"
     ]
    },
    {
     "name": "stderr",
     "output_type": "stream",
     "text": [
      "Epoch:   0%|                                                                                      | 0/5 [00:00<?, ?it/s]"
     ]
    },
    {
     "name": "stdout",
     "output_type": "stream",
     "text": [
      "Begin group  2 training\n"
     ]
    },
    {
     "name": "stderr",
     "output_type": "stream",
     "text": [
      "Epoch:   0%|                                                                                      | 0/5 [00:00<?, ?it/s]"
     ]
    },
    {
     "name": "stdout",
     "output_type": "stream",
     "text": [
      "Group 0 clients ['f_00128', 'f_00198', 'f_00018', 'f_00168', 'f_00037', 'f_00147', 'f_00118', 'f_00139', 'f_00126']\n",
      "Group 1 clients ['f_00191', 'f_00110', 'f_00193', 'f_00171', 'f_00093']\n",
      "Group 2 clients ['f_00115', 'f_00044', 'f_00125', 'f_00086', 'f_00096', 'f_00043']\n",
      "The groups difference are: [0.0, 0.0004922873740494937, 0.0007752027153620222]\n",
      "Group 0\n",
      "At round 105 accuracy: 0.7384615384615385\n",
      "At round 105 training accuracy: 0.7763636363636364\n",
      "At round 105 training loss: 0.9042613044652071\n",
      "Group 1\n",
      "At round 105 accuracy: 0.5\n",
      "At round 105 training accuracy: 0.5045592705167173\n",
      "At round 105 training loss: 1.310725322610339\n",
      "Group 2\n",
      "At round 105 accuracy: 0.34210526315789475\n",
      "At round 105 training accuracy: 0.3860759493670886\n",
      "At round 105 training loss: 1.7750665805762327\n",
      "Begin group  0 training\n"
     ]
    },
    {
     "name": "stderr",
     "output_type": "stream",
     "text": [
      "Epoch:   0%|                                                                                      | 0/5 [00:00<?, ?it/s]"
     ]
    },
    {
     "name": "stdout",
     "output_type": "stream",
     "text": [
      "Begin group  1 training\n"
     ]
    },
    {
     "name": "stderr",
     "output_type": "stream",
     "text": [
      "Epoch:   0%|                                                                                      | 0/5 [00:00<?, ?it/s]"
     ]
    },
    {
     "name": "stdout",
     "output_type": "stream",
     "text": [
      "Begin group  2 training\n"
     ]
    },
    {
     "name": "stderr",
     "output_type": "stream",
     "text": [
      "Epoch:   0%|                                                                                      | 0/5 [00:00<?, ?it/s]"
     ]
    },
    {
     "name": "stdout",
     "output_type": "stream",
     "text": [
      "Group 0 clients ['f_00149', 'f_00019', 'f_00003', 'f_00049', 'f_00036']\n",
      "Group 1 clients ['f_00032', 'f_00154', 'f_00174', 'f_00102', 'f_00181', 'f_00060', 'f_00192', 'f_00190']\n",
      "Group 2 clients ['f_00065', 'f_00124', 'f_00084', 'f_00014', 'f_00016', 'f_00063', 'f_00133']\n",
      "The groups difference are: [0.0, 0.0008355724119937236, 0.0007905178516359745]\n",
      "Group 0\n",
      "At round 106 accuracy: 0.5652173913043478\n",
      "At round 106 training accuracy: 0.41578947368421054\n",
      "At round 106 training loss: 1.731129395334344\n",
      "Group 1\n",
      "At round 106 accuracy: 0.5942028985507246\n",
      "At round 106 training accuracy: 0.6071428571428571\n",
      "At round 106 training loss: 1.1459343736471772\n",
      "Group 2\n",
      "At round 106 accuracy: 0.5660377358490566\n",
      "At round 106 training accuracy: 0.5193621867881549\n",
      "At round 106 training loss: 1.0720101675031397\n",
      "Begin group  0 training\n"
     ]
    },
    {
     "name": "stderr",
     "output_type": "stream",
     "text": [
      "Epoch:   0%|                                                                                      | 0/5 [00:00<?, ?it/s]"
     ]
    },
    {
     "name": "stdout",
     "output_type": "stream",
     "text": [
      "Begin group  1 training\n"
     ]
    },
    {
     "name": "stderr",
     "output_type": "stream",
     "text": [
      "Epoch:   0%|                                                                                      | 0/5 [00:00<?, ?it/s]"
     ]
    },
    {
     "name": "stdout",
     "output_type": "stream",
     "text": [
      "Begin group  2 training\n"
     ]
    },
    {
     "name": "stderr",
     "output_type": "stream",
     "text": [
      "Epoch:   0%|                                                                                      | 0/5 [00:00<?, ?it/s]"
     ]
    },
    {
     "name": "stdout",
     "output_type": "stream",
     "text": [
      "Group 0 clients ['f_00018', 'f_00128', 'f_00078', 'f_00019', 'f_00097', 'f_00039', 'f_00129', 'f_00127', 'f_00159', 'f_00069']\n",
      "Group 1 clients ['f_00121', 'f_00193', 'f_00132', 'f_00052', 'f_00010', 'f_00109']\n",
      "Group 2 clients ['f_00164', 'f_00012', 'f_00173', 'f_00002']\n",
      "The groups difference are: [0.0, 0.0005649280916295574, 0.0007397611367588874]\n",
      "Group 0\n",
      "At round 107 accuracy: 0.9090909090909091\n",
      "At round 107 training accuracy: 0.8185840707964602\n",
      "At round 107 training loss: 0.797641903821346\n",
      "Group 1\n",
      "At round 107 accuracy: 0.569620253164557\n",
      "At round 107 training accuracy: 0.638109305760709\n",
      "At round 107 training loss: 1.077113182981398\n",
      "Group 2\n",
      "At round 107 accuracy: 0.6129032258064516\n",
      "At round 107 training accuracy: 0.7100371747211895\n",
      "At round 107 training loss: 1.0615796506626456\n",
      "Begin group  0 training\n"
     ]
    },
    {
     "name": "stderr",
     "output_type": "stream",
     "text": [
      "Epoch:   0%|                                                                                      | 0/5 [00:00<?, ?it/s]"
     ]
    },
    {
     "name": "stdout",
     "output_type": "stream",
     "text": [
      "Begin group  1 training\n"
     ]
    },
    {
     "name": "stderr",
     "output_type": "stream",
     "text": [
      "Epoch:  60%|██████████████████████████████████████████████▊                               | 3/5 [00:00<00:00, 24.32it/s]"
     ]
    },
    {
     "name": "stdout",
     "output_type": "stream",
     "text": [
      "Begin group  2 training\n"
     ]
    },
    {
     "name": "stderr",
     "output_type": "stream",
     "text": [
      "Epoch:   0%|                                                                                      | 0/5 [00:00<?, ?it/s]"
     ]
    },
    {
     "name": "stdout",
     "output_type": "stream",
     "text": [
      "Group 0 clients ['f_00019', 'f_00179', 'f_00089', 'f_00098', 'f_00077', 'f_00113', 'f_00030', 'f_00106', 'f_00009', 'f_00007']\n",
      "Group 1 clients ['f_00180', 'f_00031', 'f_00140', 'f_00074', 'f_00022']\n",
      "Group 2 clients ['f_00024', 'f_00063', 'f_00146', 'f_00196', 'f_00002']\n",
      "The groups difference are: [0.0, 0.0006635356606037313, 0.0010647320920347259]\n",
      "Group 0\n",
      "At round 108 accuracy: 0.6086956521739131\n",
      "At round 108 training accuracy: 0.6111111111111112\n",
      "At round 108 training loss: 1.200678551569581\n",
      "Group 1\n",
      "At round 108 accuracy: 0.5\n",
      "At round 108 training accuracy: 0.5279805352798054\n",
      "At round 108 training loss: 1.3115080445642309\n",
      "Group 2\n",
      "At round 108 accuracy: 0.5294117647058824\n",
      "At round 108 training accuracy: 0.5070422535211268\n",
      "At round 108 training loss: 1.5029198216720365\n",
      "Begin group  0 training\n"
     ]
    },
    {
     "name": "stderr",
     "output_type": "stream",
     "text": [
      "Epoch:   0%|                                                                                      | 0/5 [00:00<?, ?it/s]"
     ]
    },
    {
     "name": "stdout",
     "output_type": "stream",
     "text": [
      "Begin group  1 training\n"
     ]
    },
    {
     "name": "stderr",
     "output_type": "stream",
     "text": [
      "Epoch:   0%|                                                                                      | 0/5 [00:00<?, ?it/s]"
     ]
    },
    {
     "name": "stdout",
     "output_type": "stream",
     "text": [
      "Begin group  2 training\n"
     ]
    },
    {
     "name": "stderr",
     "output_type": "stream",
     "text": [
      "Epoch:   0%|                                                                                      | 0/5 [00:00<?, ?it/s]"
     ]
    },
    {
     "name": "stdout",
     "output_type": "stream",
     "text": [
      "Group 0 clients ['f_00107', 'f_00047', 'f_00079', 'f_00190']\n",
      "Group 1 clients ['f_00070', 'f_00193', 'f_00001', 'f_00110', 'f_00023', 'f_00130']\n",
      "Group 2 clients ['f_00035', 'f_00055', 'f_00124', 'f_00014', 'f_00076', 'f_00054', 'f_00005', 'f_00155', 'f_00083', 'f_00066']\n",
      "The groups difference are: [0.0, 0.0005460310972753568, 0.0008659962998749382]\n",
      "Group 0\n",
      "At round 109 accuracy: 0.5135135135135135\n",
      "At round 109 training accuracy: 0.5794701986754967\n",
      "At round 109 training loss: 1.351020197205196\n",
      "Group 1\n",
      "At round 109 accuracy: 0.5660377358490566\n",
      "At round 109 training accuracy: 0.6120092378752887\n",
      "At round 109 training loss: 1.152695768286945\n",
      "Group 2\n",
      "At round 109 accuracy: 0.32231404958677684\n",
      "At round 109 training accuracy: 0.30665380906460943\n",
      "At round 109 training loss: 1.7710498799008596\n",
      "Begin group  0 training\n"
     ]
    },
    {
     "name": "stderr",
     "output_type": "stream",
     "text": [
      "Epoch:   0%|                                                                                      | 0/5 [00:00<?, ?it/s]"
     ]
    },
    {
     "name": "stdout",
     "output_type": "stream",
     "text": [
      "Begin group  1 training\n"
     ]
    },
    {
     "name": "stderr",
     "output_type": "stream",
     "text": [
      "Epoch:   0%|                                                                                      | 0/5 [00:00<?, ?it/s]"
     ]
    },
    {
     "name": "stdout",
     "output_type": "stream",
     "text": [
      "Begin group  2 training\n"
     ]
    },
    {
     "name": "stderr",
     "output_type": "stream",
     "text": [
      "Epoch:   0%|                                                                                      | 0/5 [00:00<?, ?it/s]"
     ]
    },
    {
     "name": "stdout",
     "output_type": "stream",
     "text": [
      "Group 0 clients ['f_00198', 'f_00027', 'f_00028', 'f_00168', 'f_00197', 'f_00147', 'f_00119', 'f_00079']\n",
      "Group 1 clients ['f_00100', 'f_00140', 'f_00041', 'f_00151', 'f_00020', 'f_00071', 'f_00042']\n",
      "Group 2 clients ['f_00185', 'f_00055', 'f_00086', 'f_00065', 'f_00124']\n",
      "The groups difference are: [0.0, 0.0004258867901871799, 0.0008028893437714846]\n",
      "Group 0\n",
      "At round 110 accuracy: 0.7551020408163265\n",
      "At round 110 training accuracy: 0.7655860349127181\n",
      "At round 110 training loss: 0.8667052944104867\n",
      "Group 1\n",
      "At round 110 accuracy: 0.9038461538461539\n",
      "At round 110 training accuracy: 0.8216704288939052\n",
      "At round 110 training loss: 0.7225021519456437\n",
      "Group 2\n",
      "At round 110 accuracy: 0.65\n",
      "At round 110 training accuracy: 0.6775147928994083\n",
      "At round 110 training loss: 0.8488549692390939\n",
      "Begin group  0 training\n"
     ]
    },
    {
     "name": "stderr",
     "output_type": "stream",
     "text": [
      "Epoch:   0%|                                                                                      | 0/5 [00:00<?, ?it/s]"
     ]
    },
    {
     "name": "stdout",
     "output_type": "stream",
     "text": [
      "Begin group  1 training\n"
     ]
    },
    {
     "name": "stderr",
     "output_type": "stream",
     "text": [
      "Epoch:   0%|                                                                                      | 0/5 [00:00<?, ?it/s]"
     ]
    },
    {
     "name": "stdout",
     "output_type": "stream",
     "text": [
      "Begin group  2 training\n"
     ]
    },
    {
     "name": "stderr",
     "output_type": "stream",
     "text": [
      "Epoch:   0%|                                                                                      | 0/5 [00:00<?, ?it/s]"
     ]
    },
    {
     "name": "stdout",
     "output_type": "stream",
     "text": [
      "Group 0 clients ['f_00129', 'f_00159', 'f_00198', 'f_00009', 'f_00079', 'f_00126']\n",
      "Group 1 clients ['f_00150', 'f_00011', 'f_00132', 'f_00093', 'f_00023', 'f_00163']\n",
      "Group 2 clients ['f_00175', 'f_00055', 'f_00195', 'f_00145', 'f_00035', 'f_00164', 'f_00076', 'f_00183']\n",
      "The groups difference are: [0.0, 0.000546011984233985, 0.0009182974736294813]\n",
      "Group 0\n",
      "At round 111 accuracy: 0.7272727272727273\n",
      "At round 111 training accuracy: 0.7202216066481995\n",
      "At round 111 training loss: 0.8266113770305284\n",
      "Group 1\n",
      "At round 111 accuracy: 0.2631578947368421\n",
      "At round 111 training accuracy: 0.2194616977225673\n",
      "At round 111 training loss: 2.1397272718619114\n",
      "Group 2\n",
      "At round 111 accuracy: 0.69\n",
      "At round 111 training accuracy: 0.6720741599073001\n",
      "At round 111 training loss: 0.9022512147904548\n",
      "Begin group  0 training\n"
     ]
    },
    {
     "name": "stderr",
     "output_type": "stream",
     "text": [
      "Epoch:   0%|                                                                                      | 0/5 [00:00<?, ?it/s]"
     ]
    },
    {
     "name": "stdout",
     "output_type": "stream",
     "text": [
      "Begin group  1 training\n"
     ]
    },
    {
     "name": "stderr",
     "output_type": "stream",
     "text": [
      "Epoch:   0%|                                                                                      | 0/5 [00:00<?, ?it/s]"
     ]
    },
    {
     "name": "stdout",
     "output_type": "stream",
     "text": [
      "Begin group  2 training\n"
     ]
    },
    {
     "name": "stderr",
     "output_type": "stream",
     "text": [
      "Epoch:   0%|                                                                                      | 0/5 [00:00<?, ?it/s]"
     ]
    },
    {
     "name": "stdout",
     "output_type": "stream",
     "text": [
      "Group 0 clients ['f_00178', 'f_00088', 'f_00108', 'f_00019', 'f_00099']\n",
      "Group 1 clients ['f_00140', 'f_00023', 'f_00110', 'f_00072', 'f_00150', 'f_00121', 'f_00050', 'f_00142']\n",
      "Group 2 clients ['f_00015', 'f_00145', 'f_00173', 'f_00024', 'f_00082', 'f_00166', 'f_00114']\n",
      "The groups difference are: [0.0, 0.0008314483854060528, 0.0010490347950489198]\n",
      "Group 0\n",
      "At round 112 accuracy: 0.7878787878787878\n",
      "At round 112 training accuracy: 0.7132616487455197\n",
      "At round 112 training loss: 0.8180246285853847\n",
      "Group 1\n",
      "At round 112 accuracy: 0.4383561643835616\n",
      "At round 112 training accuracy: 0.435126582278481\n",
      "At round 112 training loss: 1.4642389278057255\n",
      "Group 2\n",
      "At round 112 accuracy: 0.5853658536585366\n",
      "At round 112 training accuracy: 0.5128939828080229\n",
      "At round 112 training loss: 1.2978167228165876\n",
      "Begin group  0 training\n"
     ]
    },
    {
     "name": "stderr",
     "output_type": "stream",
     "text": [
      "Epoch:   0%|                                                                                      | 0/5 [00:00<?, ?it/s]"
     ]
    },
    {
     "name": "stdout",
     "output_type": "stream",
     "text": [
      "Begin group  1 training\n"
     ]
    },
    {
     "name": "stderr",
     "output_type": "stream",
     "text": [
      "Epoch:   0%|                                                                                      | 0/5 [00:00<?, ?it/s]"
     ]
    },
    {
     "name": "stdout",
     "output_type": "stream",
     "text": [
      "Begin group  2 training\n"
     ]
    },
    {
     "name": "stderr",
     "output_type": "stream",
     "text": [
      "Epoch:   0%|                                                                                      | 0/5 [00:00<?, ?it/s]"
     ]
    },
    {
     "name": "stdout",
     "output_type": "stream",
     "text": [
      "Group 0 clients ['f_00009', 'f_00017', 'f_00019', 'f_00117', 'f_00030', 'f_00127']\n",
      "Group 1 clients ['f_00062', 'f_00091', 'f_00142', 'f_00071', 'f_00022', 'f_00161']\n",
      "Group 2 clients ['f_00155', 'f_00034', 'f_00114', 'f_00124', 'f_00016', 'f_00057', 'f_00063', 'f_00006']\n",
      "The groups difference are: [0.0, 0.0007439732773126817, 0.0009211174189859284]\n",
      "Group 0\n",
      "At round 113 accuracy: 0.6774193548387096\n",
      "At round 113 training accuracy: 0.5776892430278885\n",
      "At round 113 training loss: 1.3481785709639469\n",
      "Group 1\n",
      "At round 113 accuracy: 0.8125\n",
      "At round 113 training accuracy: 0.8389671361502348\n",
      "At round 113 training loss: 0.5925976803604985\n",
      "Group 2\n",
      "At round 113 accuracy: 0.8333333333333334\n",
      "At round 113 training accuracy: 0.8059701492537313\n",
      "At round 113 training loss: 0.8715310648306093\n",
      "Begin group  0 training\n"
     ]
    },
    {
     "name": "stderr",
     "output_type": "stream",
     "text": [
      "Epoch:   0%|                                                                                      | 0/5 [00:00<?, ?it/s]"
     ]
    },
    {
     "name": "stdout",
     "output_type": "stream",
     "text": [
      "Begin group  1 training\n"
     ]
    },
    {
     "name": "stderr",
     "output_type": "stream",
     "text": [
      "Epoch:   0%|                                                                                      | 0/5 [00:00<?, ?it/s]"
     ]
    },
    {
     "name": "stdout",
     "output_type": "stream",
     "text": [
      "Begin group  2 training\n"
     ]
    },
    {
     "name": "stderr",
     "output_type": "stream",
     "text": [
      "Epoch:   0%|                                                                                      | 0/5 [00:00<?, ?it/s]"
     ]
    },
    {
     "name": "stdout",
     "output_type": "stream",
     "text": [
      "Group 0 clients ['f_00069', 'f_00099', 'f_00078', 'f_00017', 'f_00127', 'f_00007', 'f_00106', 'f_00198']\n",
      "Group 1 clients ['f_00000', 'f_00121', 'f_00059', 'f_00030']\n",
      "Group 2 clients ['f_00114', 'f_00065', 'f_00015', 'f_00054', 'f_00053', 'f_00006', 'f_00187', 'f_00105']\n",
      "The groups difference are: [0.0, 0.0016062550829267774, 0.0007468936790334668]\n",
      "Group 0\n",
      "At round 114 accuracy: 0.8157894736842105\n",
      "At round 114 training accuracy: 0.7658227848101266\n",
      "At round 114 training loss: 0.8572414134499393\n",
      "Group 1\n",
      "At round 114 accuracy: 0.5\n",
      "At round 114 training accuracy: 0.511326860841424\n",
      "At round 114 training loss: 2.3369446618657284\n",
      "Group 2\n",
      "At round 114 accuracy: 0.7176470588235294\n",
      "At round 114 training accuracy: 0.6096551724137931\n",
      "At round 114 training loss: 1.0467853334032255\n",
      "Begin group  0 training\n"
     ]
    },
    {
     "name": "stderr",
     "output_type": "stream",
     "text": [
      "Epoch:   0%|                                                                                      | 0/5 [00:00<?, ?it/s]"
     ]
    },
    {
     "name": "stdout",
     "output_type": "stream",
     "text": [
      "Begin group  1 training\n"
     ]
    },
    {
     "name": "stderr",
     "output_type": "stream",
     "text": [
      "Epoch:   0%|                                                                                      | 0/5 [00:00<?, ?it/s]"
     ]
    },
    {
     "name": "stdout",
     "output_type": "stream",
     "text": [
      "Begin group  2 training\n"
     ]
    },
    {
     "name": "stderr",
     "output_type": "stream",
     "text": [
      "Epoch:   0%|                                                                                      | 0/5 [00:00<?, ?it/s]"
     ]
    },
    {
     "name": "stdout",
     "output_type": "stream",
     "text": [
      "Group 0 clients ['f_00169', 'f_00078', 'f_00128', 'f_00188']\n",
      "Group 1 clients ['f_00180', 'f_00152', 'f_00030', 'f_00021', 'f_00140', 'f_00042', 'f_00010', 'f_00061', 'f_00161']\n",
      "Group 2 clients ['f_00165', 'f_00073', 'f_00014', 'f_00123', 'f_00143', 'f_00006', 'f_00183']\n",
      "The groups difference are: [1.1102230246251565e-16, 0.0010038563512548837, 0.0008215292021712672]\n",
      "Group 0\n",
      "At round 115 accuracy: 0.8888888888888888\n",
      "At round 115 training accuracy: 0.8472222222222222\n",
      "At round 115 training loss: 0.6233595394425921\n",
      "Group 1\n",
      "At round 115 accuracy: 0.6853932584269663\n",
      "At round 115 training accuracy: 0.6471371504660453\n",
      "At round 115 training loss: 1.2230739793907628\n",
      "Group 2\n",
      "At round 115 accuracy: 0.7912087912087912\n",
      "At round 115 training accuracy: 0.7720403022670025\n",
      "At round 115 training loss: 0.7170140137074876\n",
      "Begin group  0 training\n",
      "Begin group  1 training\n"
     ]
    },
    {
     "name": "stderr",
     "output_type": "stream",
     "text": [
      "Epoch:  80%|██████████████████████████████████████████████████████████████▍               | 4/5 [00:00<00:00, 31.73it/s]"
     ]
    },
    {
     "name": "stdout",
     "output_type": "stream",
     "text": [
      "Begin group  2 training\n"
     ]
    },
    {
     "name": "stderr",
     "output_type": "stream",
     "text": [
      "Epoch:   0%|                                                                                      | 0/5 [00:00<?, ?it/s]"
     ]
    },
    {
     "name": "stdout",
     "output_type": "stream",
     "text": [
      "Group 0 clients ['f_00079', 'f_00018', 'f_00127', 'f_00077']\n",
      "Group 1 clients ['f_00030', 'f_00102', 'f_00150', 'f_00132', 'f_00142', 'f_00042']\n",
      "Group 2 clients ['f_00034', 'f_00025', 'f_00134', 'f_00005', 'f_00166', 'f_00015', 'f_00006', 'f_00103', 'f_00196', 'f_00153']\n",
      "The groups difference are: [0.0, 0.0007179182012305718, 0.0009276934084174737]\n",
      "Group 0\n",
      "At round 116 accuracy: 0.7407407407407407\n",
      "At round 116 training accuracy: 0.6527777777777778\n",
      "At round 116 training loss: 1.012433659699228\n",
      "Group 1\n",
      "At round 116 accuracy: 0.6041666666666666\n",
      "At round 116 training accuracy: 0.5955882352941176\n",
      "At round 116 training loss: 1.049974848972816\n",
      "Group 2\n",
      "At round 116 accuracy: 0.4044943820224719\n",
      "At round 116 training accuracy: 0.3877284595300261\n",
      "At round 116 training loss: 1.8097727941470731\n",
      "Begin group  0 training\n"
     ]
    },
    {
     "name": "stderr",
     "output_type": "stream",
     "text": [
      "Epoch:   0%|                                                                                      | 0/5 [00:00<?, ?it/s]"
     ]
    },
    {
     "name": "stdout",
     "output_type": "stream",
     "text": [
      "Begin group  1 training\n"
     ]
    },
    {
     "name": "stderr",
     "output_type": "stream",
     "text": [
      "Epoch:   0%|                                                                                      | 0/5 [00:00<?, ?it/s]"
     ]
    },
    {
     "name": "stdout",
     "output_type": "stream",
     "text": [
      "Begin group  2 training\n"
     ]
    },
    {
     "name": "stderr",
     "output_type": "stream",
     "text": [
      "Epoch:   0%|                                                                                      | 0/5 [00:00<?, ?it/s]"
     ]
    },
    {
     "name": "stdout",
     "output_type": "stream",
     "text": [
      "Group 0 clients ['f_00129', 'f_00149', 'f_00017', 'f_00029', 'f_00036']\n",
      "Group 1 clients ['f_00062', 'f_00140', 'f_00001', 'f_00072', 'f_00041', 'f_00120', 'f_00174', 'f_00193', 'f_00171']\n",
      "Group 2 clients ['f_00155', 'f_00096', 'f_00133', 'f_00105', 'f_00063', 'f_00006']\n",
      "The groups difference are: [0.0, 0.0009011196850329251, 0.0008589896816019182]\n",
      "Group 0\n",
      "At round 117 accuracy: 0.6785714285714286\n",
      "At round 117 training accuracy: 0.6866952789699571\n",
      "At round 117 training loss: 1.0239469838756348\n",
      "Group 1\n",
      "At round 117 accuracy: 0.816\n",
      "At round 117 training accuracy: 0.8319023949389969\n",
      "At round 117 training loss: 0.5455026220828227\n",
      "Group 2\n",
      "At round 117 accuracy: 0.725\n",
      "At round 117 training accuracy: 0.668693009118541\n",
      "At round 117 training loss: 1.071796505465696\n",
      "Begin group  0 training\n"
     ]
    },
    {
     "name": "stderr",
     "output_type": "stream",
     "text": [
      "Epoch:   0%|                                                                                      | 0/5 [00:00<?, ?it/s]"
     ]
    },
    {
     "name": "stdout",
     "output_type": "stream",
     "text": [
      "Begin group  1 training\n"
     ]
    },
    {
     "name": "stderr",
     "output_type": "stream",
     "text": [
      "Epoch:   0%|                                                                                      | 0/5 [00:00<?, ?it/s]"
     ]
    },
    {
     "name": "stdout",
     "output_type": "stream",
     "text": [
      "Begin group  2 training\n"
     ]
    },
    {
     "name": "stderr",
     "output_type": "stream",
     "text": [
      "Epoch:   0%|                                                                                      | 0/5 [00:00<?, ?it/s]"
     ]
    },
    {
     "name": "stdout",
     "output_type": "stream",
     "text": [
      "Group 0 clients ['f_00188', 'f_00159', 'f_00058', 'f_00077', 'f_00113', 'f_00137']\n",
      "Group 1 clients ['f_00032', 'f_00161', 'f_00061', 'f_00092', 'f_00193']\n",
      "Group 2 clients ['f_00143', 'f_00135', 'f_00075', 'f_00034', 'f_00063', 'f_00187', 'f_00103', 'f_00116', 'f_00016']\n",
      "The groups difference are: [0.0, 0.0017040706336871603, 0.0006427925421799152]\n",
      "Group 0\n",
      "At round 118 accuracy: 0.59375\n",
      "At round 118 training accuracy: 0.578125\n",
      "At round 118 training loss: 1.179867054335773\n",
      "Group 1\n",
      "At round 118 accuracy: 0.7333333333333333\n",
      "At round 118 training accuracy: 0.8282828282828283\n",
      "At round 118 training loss: 0.7693947701141087\n",
      "Group 2\n",
      "At round 118 accuracy: 0.734375\n",
      "At round 118 training accuracy: 0.6754221388367729\n",
      "At round 118 training loss: 0.9711896875562185\n",
      "Begin group  0 training\n"
     ]
    },
    {
     "name": "stderr",
     "output_type": "stream",
     "text": [
      "Epoch:   0%|                                                                                      | 0/5 [00:00<?, ?it/s]"
     ]
    },
    {
     "name": "stdout",
     "output_type": "stream",
     "text": [
      "Begin group  1 training\n",
      "Begin group  2 training\n"
     ]
    },
    {
     "name": "stderr",
     "output_type": "stream",
     "text": [
      "                                                                                                                        "
     ]
    },
    {
     "name": "stdout",
     "output_type": "stream",
     "text": [
      "Group 0 clients ['f_00178', 'f_00088', 'f_00077', 'f_00179', 'f_00067', 'f_00027', 'f_00158']\n",
      "Group 1 clients ['f_00102', 'f_00130', 'f_00021', 'f_00008', 'f_00150', 'f_00109', 'f_00090', 'f_00011']\n",
      "Group 2 clients ['f_00124', 'f_00035', 'f_00012', 'f_00186', 'f_00112']\n",
      "The groups difference are: [0.0, 0.001186224988574236, 0.0005658369348893189]\n",
      "Group 0\n",
      "At round 119 accuracy: 0.7971014492753623\n",
      "At round 119 training accuracy: 0.7969543147208121\n",
      "At round 119 training loss: 0.8694604065414209\n",
      "Group 1\n",
      "At round 119 accuracy: 0.6774193548387096\n",
      "At round 119 training accuracy: 0.5551330798479087\n",
      "At round 119 training loss: 1.613468573347244\n",
      "Group 2\n",
      "At round 119 accuracy: 0.717948717948718\n",
      "At round 119 training accuracy: 0.7407407407407407\n",
      "At round 119 training loss: 1.0232770091589587\n",
      "Begin group  0 training\n"
     ]
    },
    {
     "name": "stderr",
     "output_type": "stream",
     "text": [
      "Epoch:   0%|                                                                                      | 0/5 [00:00<?, ?it/s]"
     ]
    },
    {
     "name": "stdout",
     "output_type": "stream",
     "text": [
      "Begin group  1 training\n"
     ]
    },
    {
     "name": "stderr",
     "output_type": "stream",
     "text": [
      "Epoch:   0%|                                                                                      | 0/5 [00:00<?, ?it/s]"
     ]
    },
    {
     "name": "stdout",
     "output_type": "stream",
     "text": [
      "Begin group  2 training\n"
     ]
    },
    {
     "name": "stderr",
     "output_type": "stream",
     "text": [
      "Epoch:   0%|                                                                                      | 0/5 [00:00<?, ?it/s]"
     ]
    },
    {
     "name": "stdout",
     "output_type": "stream",
     "text": [
      "Group 0 clients ['f_00039', 'f_00108', 'f_00198', 'f_00118', 'f_00087', 'f_00199', 'f_00178']\n",
      "Group 1 clients ['f_00032', 'f_00163', 'f_00062', 'f_00101', 'f_00080', 'f_00161', 'f_00074']\n",
      "Group 2 clients ['f_00125', 'f_00006', 'f_00046', 'f_00035', 'f_00160', 'f_00136']\n",
      "The groups difference are: [0.0, 0.0011565710909813287, 0.000757178457533092]\n",
      "Group 0\n",
      "At round 120 accuracy: 0.5981308411214953\n",
      "At round 120 training accuracy: 0.5795090715048026\n",
      "At round 120 training loss: 1.1852755005866003\n",
      "Group 1\n",
      "At round 120 accuracy: 0.768\n",
      "At round 120 training accuracy: 0.7816039873130947\n",
      "At round 120 training loss: 0.6654271490443169\n",
      "Group 2\n",
      "At round 120 accuracy: 0.34146341463414637\n",
      "At round 120 training accuracy: 0.31843575418994413\n",
      "At round 120 training loss: 2.1385539737660126\n",
      "Begin group  0 training\n"
     ]
    },
    {
     "name": "stderr",
     "output_type": "stream",
     "text": [
      "Epoch:   0%|                                                                                      | 0/5 [00:00<?, ?it/s]"
     ]
    },
    {
     "name": "stdout",
     "output_type": "stream",
     "text": [
      "Begin group  1 training\n"
     ]
    },
    {
     "name": "stderr",
     "output_type": "stream",
     "text": [
      "Epoch:   0%|                                                                                      | 0/5 [00:00<?, ?it/s]"
     ]
    },
    {
     "name": "stdout",
     "output_type": "stream",
     "text": [
      "Begin group  2 training\n"
     ]
    },
    {
     "name": "stderr",
     "output_type": "stream",
     "text": [
      "Epoch:   0%|                                                                                      | 0/5 [00:00<?, ?it/s]"
     ]
    },
    {
     "name": "stdout",
     "output_type": "stream",
     "text": [
      "Group 0 clients ['f_00128', 'f_00049', 'f_00178', 'f_00027', 'f_00079', 'f_00189', 'f_00197', 'f_00147', 'f_00107']\n",
      "Group 1 clients ['f_00142', 'f_00070', 'f_00090', 'f_00032']\n",
      "Group 2 clients ['f_00155', 'f_00024', 'f_00144', 'f_00056', 'f_00146', 'f_00136', 'f_00143']\n",
      "The groups difference are: [0.0, 0.0021058830317484123, 0.0005563988788693797]\n",
      "Group 0\n",
      "At round 121 accuracy: 0.4745762711864407\n",
      "At round 121 training accuracy: 0.5174537987679672\n",
      "At round 121 training loss: 1.0994679528829743\n",
      "Group 1\n",
      "At round 121 accuracy: 0.5\n",
      "At round 121 training accuracy: 0.37264150943396224\n",
      "At round 121 training loss: 2.8659157757208034\n",
      "Group 2\n",
      "At round 121 accuracy: 0.47368421052631576\n",
      "At round 121 training accuracy: 0.5394736842105263\n",
      "At round 121 training loss: 1.372658277420621\n",
      "Begin group  0 training\n"
     ]
    },
    {
     "name": "stderr",
     "output_type": "stream",
     "text": [
      "Epoch:   0%|                                                                                      | 0/5 [00:00<?, ?it/s]"
     ]
    },
    {
     "name": "stdout",
     "output_type": "stream",
     "text": [
      "Begin group  1 training\n"
     ]
    },
    {
     "name": "stderr",
     "output_type": "stream",
     "text": [
      "                                                                                                                        "
     ]
    },
    {
     "name": "stdout",
     "output_type": "stream",
     "text": [
      "Begin group  2 training\n"
     ]
    },
    {
     "name": "stderr",
     "output_type": "stream",
     "text": [
      "Epoch:   0%|                                                                                      | 0/5 [00:00<?, ?it/s]"
     ]
    },
    {
     "name": "stdout",
     "output_type": "stream",
     "text": [
      "Group 0 clients ['f_00018', 'f_00007', 'f_00040', 'f_00199', 'f_00113']\n",
      "Group 1 clients ['f_00191', 'f_00122', 'f_00043', 'f_00030', 'f_00120', 'f_00022', 'f_00023']\n",
      "Group 2 clients ['f_00095', 'f_00064', 'f_00075', 'f_00002', 'f_00160', 'f_00035', 'f_00103', 'f_00131']\n",
      "The groups difference are: [1.1102230246251565e-16, 0.001169291469118372, 0.000570102185265764]\n",
      "Group 0\n",
      "At round 122 accuracy: 0.6857142857142857\n",
      "At round 122 training accuracy: 0.6510067114093959\n",
      "At round 122 training loss: 1.1305941975356748\n",
      "Group 1\n",
      "At round 122 accuracy: 0.4166666666666667\n",
      "At round 122 training accuracy: 0.4121510673234811\n",
      "At round 122 training loss: 1.8856387919393078\n",
      "Group 2\n",
      "At round 122 accuracy: 0.28421052631578947\n",
      "At round 122 training accuracy: 0.2573170731707317\n",
      "At round 122 training loss: 1.8716015189159207\n",
      "Begin group  0 training\n"
     ]
    },
    {
     "name": "stderr",
     "output_type": "stream",
     "text": [
      "Epoch:  80%|██████████████████████████████████████████████████████████████▍               | 4/5 [00:00<00:00, 32.37it/s]"
     ]
    },
    {
     "name": "stdout",
     "output_type": "stream",
     "text": [
      "Begin group  1 training\n"
     ]
    },
    {
     "name": "stderr",
     "output_type": "stream",
     "text": [
      "Epoch:   0%|                                                                                      | 0/5 [00:00<?, ?it/s]"
     ]
    },
    {
     "name": "stdout",
     "output_type": "stream",
     "text": [
      "Begin group  2 training\n"
     ]
    },
    {
     "name": "stderr",
     "output_type": "stream",
     "text": [
      "Epoch:   0%|                                                                                      | 0/5 [00:00<?, ?it/s]"
     ]
    },
    {
     "name": "stdout",
     "output_type": "stream",
     "text": [
      "Group 0 clients ['f_00149', 'f_00108', 'f_00178', 'f_00189', 'f_00127', 'f_00037', 'f_00019', 'f_00179', 'f_00158']\n",
      "Group 1 clients ['f_00020', 'f_00121', 'f_00104', 'f_00182', 'f_00050', 'f_00031']\n",
      "Group 2 clients ['f_00185', 'f_00053', 'f_00004', 'f_00162', 'f_00082']\n",
      "The groups difference are: [0.0, 0.0010227877795466744, 0.00043511095014503454]\n",
      "Group 0\n",
      "At round 123 accuracy: 0.6666666666666666\n",
      "At round 123 training accuracy: 0.6547085201793722\n",
      "At round 123 training loss: 1.00496650263333\n",
      "Group 1\n",
      "At round 123 accuracy: 0.5909090909090909\n",
      "At round 123 training accuracy: 0.6368286445012787\n",
      "At round 123 training loss: 1.0172927672295924\n",
      "Group 2\n",
      "At round 123 accuracy: 0.4057971014492754\n",
      "At round 123 training accuracy: 0.3953098827470687\n",
      "At round 123 training loss: 1.5071778762680001\n",
      "Begin group  0 training\n"
     ]
    },
    {
     "name": "stderr",
     "output_type": "stream",
     "text": [
      "Epoch:   0%|                                                                                      | 0/5 [00:00<?, ?it/s]"
     ]
    },
    {
     "name": "stdout",
     "output_type": "stream",
     "text": [
      "Begin group  1 training\n"
     ]
    },
    {
     "name": "stderr",
     "output_type": "stream",
     "text": [
      "Epoch:  60%|██████████████████████████████████████████████▊                               | 3/5 [00:00<00:00, 26.97it/s]"
     ]
    },
    {
     "name": "stdout",
     "output_type": "stream",
     "text": [
      "Begin group  2 training\n"
     ]
    },
    {
     "name": "stderr",
     "output_type": "stream",
     "text": [
      "                                                                                                                        "
     ]
    },
    {
     "name": "stdout",
     "output_type": "stream",
     "text": [
      "Group 0 clients ['f_00108', 'f_00119', 'f_00127', 'f_00027']\n",
      "Group 1 clients ['f_00100', 'f_00121', 'f_00151', 'f_00110', 'f_00152', 'f_00080', 'f_00091']\n",
      "Group 2 clients ['f_00056', 'f_00183', 'f_00005', 'f_00184', 'f_00186', 'f_00016', 'f_00034', 'f_00075', 'f_00086']\n",
      "The groups difference are: [1.1102230246251565e-16, 0.0009340479184027917, 0.0009037242947792512]\n",
      "Group 0\n",
      "At round 124 accuracy: 0.7586206896551724\n",
      "At round 124 training accuracy: 0.723404255319149\n",
      "At round 124 training loss: 0.7896548357415707\n",
      "Group 1\n",
      "At round 124 accuracy: 0.7156862745098039\n",
      "At round 124 training accuracy: 0.743847874720358\n",
      "At round 124 training loss: 0.758822325625409\n",
      "Group 2\n",
      "At round 124 accuracy: 0.27631578947368424\n",
      "At round 124 training accuracy: 0.35846153846153844\n",
      "At round 124 training loss: 2.0900426228229816\n",
      "Begin group  0 training\n"
     ]
    },
    {
     "name": "stderr",
     "output_type": "stream",
     "text": [
      "Epoch:   0%|                                                                                      | 0/5 [00:00<?, ?it/s]"
     ]
    },
    {
     "name": "stdout",
     "output_type": "stream",
     "text": [
      "Begin group  1 training\n"
     ]
    },
    {
     "name": "stderr",
     "output_type": "stream",
     "text": [
      "Epoch:   0%|                                                                                      | 0/5 [00:00<?, ?it/s]"
     ]
    },
    {
     "name": "stdout",
     "output_type": "stream",
     "text": [
      "Begin group  2 training\n"
     ]
    },
    {
     "name": "stderr",
     "output_type": "stream",
     "text": [
      "Epoch:   0%|                                                                                      | 0/5 [00:00<?, ?it/s]"
     ]
    },
    {
     "name": "stdout",
     "output_type": "stream",
     "text": [
      "Group 0 clients ['f_00138', 'f_00149', 'f_00098', 'f_00079']\n",
      "Group 1 clients ['f_00090', 'f_00150', 'f_00011', 'f_00193', 'f_00101', 'f_00109', 'f_00071', 'f_00074', 'f_00001', 'f_00052']\n",
      "Group 2 clients ['f_00123', 'f_00053', 'f_00135', 'f_00046', 'f_00057', 'f_00002']\n",
      "The groups difference are: [0.0, 0.0008767767346271604, 0.0008796537930331194]\n",
      "Group 0\n",
      "At round 125 accuracy: 0.7551020408163265\n",
      "At round 125 training accuracy: 0.8305882352941176\n",
      "At round 125 training loss: 0.6545456716593574\n",
      "Group 1\n",
      "At round 125 accuracy: 0.5657894736842105\n",
      "At round 125 training accuracy: 0.5815047021943573\n",
      "At round 125 training loss: 1.1465281672705678\n",
      "Group 2\n",
      "At round 125 accuracy: 0.4339622641509434\n",
      "At round 125 training accuracy: 0.5027085590465872\n",
      "At round 125 training loss: 1.3438791637172678\n",
      "Begin group  0 training\n"
     ]
    },
    {
     "name": "stderr",
     "output_type": "stream",
     "text": [
      "Epoch:   0%|                                                                                      | 0/5 [00:00<?, ?it/s]"
     ]
    },
    {
     "name": "stdout",
     "output_type": "stream",
     "text": [
      "Begin group  1 training\n"
     ]
    },
    {
     "name": "stderr",
     "output_type": "stream",
     "text": [
      "Epoch:   0%|                                                                                      | 0/5 [00:00<?, ?it/s]"
     ]
    },
    {
     "name": "stdout",
     "output_type": "stream",
     "text": [
      "Begin group  2 training\n"
     ]
    },
    {
     "name": "stderr",
     "output_type": "stream",
     "text": [
      "Epoch:   0%|                                                                                      | 0/5 [00:00<?, ?it/s]"
     ]
    },
    {
     "name": "stdout",
     "output_type": "stream",
     "text": [
      "Group 0 clients ['f_00199', 'f_00119', 'f_00159', 'f_00079', 'f_00036', 'f_00113']\n",
      "Group 1 clients ['f_00051', 'f_00121', 'f_00002', 'f_00074', 'f_00171', 'f_00142']\n",
      "Group 2 clients ['f_00055', 'f_00195', 'f_00096', 'f_00134', 'f_00046', 'f_00076', 'f_00166', 'f_00103']\n",
      "The groups difference are: [0.0, 0.0008534786573688447, 0.0011246111660442315]\n",
      "Group 0\n",
      "At round 126 accuracy: 0.6379310344827587\n",
      "At round 126 training accuracy: 0.6229508196721312\n",
      "At round 126 training loss: 1.1571795058543566\n",
      "Group 1\n",
      "At round 126 accuracy: 0.765625\n",
      "At round 126 training accuracy: 0.7725631768953068\n",
      "At round 126 training loss: 0.7269661005330861\n",
      "Group 2\n",
      "At round 126 accuracy: 0.20588235294117646\n",
      "At round 126 training accuracy: 0.19112627986348124\n",
      "At round 126 training loss: 2.399360750773254\n",
      "Begin group  0 training\n"
     ]
    },
    {
     "name": "stderr",
     "output_type": "stream",
     "text": [
      "Epoch:   0%|                                                                                      | 0/5 [00:00<?, ?it/s]"
     ]
    },
    {
     "name": "stdout",
     "output_type": "stream",
     "text": [
      "Begin group  1 training\n"
     ]
    },
    {
     "name": "stderr",
     "output_type": "stream",
     "text": [
      "Epoch:   0%|                                                                                      | 0/5 [00:00<?, ?it/s]"
     ]
    },
    {
     "name": "stdout",
     "output_type": "stream",
     "text": [
      "Begin group  2 training\n"
     ]
    },
    {
     "name": "stderr",
     "output_type": "stream",
     "text": [
      "                                                                                                                        "
     ]
    },
    {
     "name": "stdout",
     "output_type": "stream",
     "text": [
      "Group 0 clients ['f_00159', 'f_00028', 'f_00176', 'f_00138', 'f_00168', 'f_00147', 'f_00129', 'f_00026', 'f_00158', 'f_00058']\n",
      "Group 1 clients ['f_00022', 'f_00061', 'f_00010', 'f_00000', 'f_00120', 'f_00163']\n",
      "Group 2 clients ['f_00075', 'f_00045', 'f_00186', 'f_00134']\n",
      "The groups difference are: [0.0, 0.0007750240190957935, 0.0009305698147623609]\n",
      "Group 0\n",
      "At round 127 accuracy: 0.5740740740740741\n",
      "At round 127 training accuracy: 0.541095890410959\n",
      "At round 127 training loss: 1.4525218087516418\n",
      "Group 1\n",
      "At round 127 accuracy: 0.6\n",
      "At round 127 training accuracy: 0.5430622009569378\n",
      "At round 127 training loss: 1.296963000696812\n",
      "Group 2\n",
      "At round 127 accuracy: 0.6060606060606061\n",
      "At round 127 training accuracy: 0.6105263157894737\n",
      "At round 127 training loss: 1.011513204532757\n",
      "Begin group  0 training\n"
     ]
    },
    {
     "name": "stderr",
     "output_type": "stream",
     "text": [
      "Epoch:   0%|                                                                                      | 0/5 [00:00<?, ?it/s]"
     ]
    },
    {
     "name": "stdout",
     "output_type": "stream",
     "text": [
      "Begin group  1 training\n"
     ]
    },
    {
     "name": "stderr",
     "output_type": "stream",
     "text": [
      "                                                                                                                        \r"
     ]
    },
    {
     "name": "stdout",
     "output_type": "stream",
     "text": [
      "Begin group  2 training\n",
      "Group 0 clients ['f_00118', 'f_00159', 'f_00106', 'f_00037']\n",
      "Group 1 clients ['f_00192', 'f_00151', 'f_00021', 'f_00122', 'f_00043', 'f_00059', 'f_00109', 'f_00090']\n",
      "Group 2 clients ['f_00146', 'f_00073', 'f_00155', 'f_00076', 'f_00187', 'f_00116', 'f_00136', 'f_00165']\n",
      "The groups difference are: [0.0, 0.0005562761099382474, 0.0006851862937360398]\n"
     ]
    },
    {
     "name": "stderr",
     "output_type": "stream",
     "text": [
      "Epoch:   0%|                                                                                      | 0/5 [00:00<?, ?it/s]"
     ]
    },
    {
     "name": "stdout",
     "output_type": "stream",
     "text": [
      "Group 0\n",
      "At round 128 accuracy: 0.6666666666666666\n",
      "At round 128 training accuracy: 0.7374429223744292\n",
      "At round 128 training loss: 0.8375676920697025\n",
      "Group 1\n",
      "At round 128 accuracy: 0.6875\n",
      "At round 128 training accuracy: 0.6041275797373359\n",
      "At round 128 training loss: 1.0905630943028162\n",
      "Group 2\n",
      "At round 128 accuracy: 0.532608695652174\n",
      "At round 128 training accuracy: 0.5253164556962026\n",
      "At round 128 training loss: 1.2474667260918437\n",
      "Begin group  0 training\n"
     ]
    },
    {
     "name": "stderr",
     "output_type": "stream",
     "text": [
      "Epoch:  80%|██████████████████████████████████████████████████████████████▍               | 4/5 [00:00<00:00, 33.67it/s]"
     ]
    },
    {
     "name": "stdout",
     "output_type": "stream",
     "text": [
      "Begin group  1 training\n"
     ]
    },
    {
     "name": "stderr",
     "output_type": "stream",
     "text": [
      "Epoch:   0%|                                                                                      | 0/5 [00:00<?, ?it/s]"
     ]
    },
    {
     "name": "stdout",
     "output_type": "stream",
     "text": [
      "Begin group  2 training\n"
     ]
    },
    {
     "name": "stderr",
     "output_type": "stream",
     "text": [
      "                                                                                                                        "
     ]
    },
    {
     "name": "stdout",
     "output_type": "stream",
     "text": [
      "Group 0 clients ['f_00138', 'f_00068', 'f_00088', 'f_00107', 'f_00026']\n",
      "Group 1 clients ['f_00132', 'f_00151', 'f_00010', 'f_00100', 'f_00193', 'f_00022', 'f_00191', 'f_00041', 'f_00043']\n",
      "Group 2 clients ['f_00094', 'f_00115', 'f_00055', 'f_00162', 'f_00004', 'f_00112']\n",
      "The groups difference are: [2.220446049250313e-16, 0.0008719096856170117, 0.0007286526320073872]\n",
      "Group 0\n",
      "At round 129 accuracy: 0.43902439024390244\n",
      "At round 129 training accuracy: 0.47477744807121663\n",
      "At round 129 training loss: 1.2379385353195915\n",
      "Group 1\n",
      "At round 129 accuracy: 0.5362318840579711\n",
      "At round 129 training accuracy: 0.5935828877005348\n",
      "At round 129 training loss: 0.975910200473459\n",
      "Group 2\n",
      "At round 129 accuracy: 0.6923076923076923\n",
      "At round 129 training accuracy: 0.6731391585760518\n",
      "At round 129 training loss: 1.1910037600878374\n",
      "Begin group  0 training\n"
     ]
    },
    {
     "name": "stderr",
     "output_type": "stream",
     "text": [
      "Epoch:   0%|                                                                                      | 0/5 [00:00<?, ?it/s]"
     ]
    },
    {
     "name": "stdout",
     "output_type": "stream",
     "text": [
      "Begin group  1 training\n"
     ]
    },
    {
     "name": "stderr",
     "output_type": "stream",
     "text": [
      "Epoch:   0%|                                                                                      | 0/5 [00:00<?, ?it/s]"
     ]
    },
    {
     "name": "stdout",
     "output_type": "stream",
     "text": [
      "Begin group  2 training\n"
     ]
    },
    {
     "name": "stderr",
     "output_type": "stream",
     "text": [
      "Epoch:   0%|                                                                                      | 0/5 [00:00<?, ?it/s]"
     ]
    },
    {
     "name": "stdout",
     "output_type": "stream",
     "text": [
      "Group 0 clients ['f_00138', 'f_00158', 'f_00009', 'f_00018', 'f_00113', 'f_00047', 'f_00127', 'f_00007', 'f_00176']\n",
      "Group 1 clients ['f_00042', 'f_00041', 'f_00132', 'f_00030', 'f_00174', 'f_00140']\n",
      "Group 2 clients ['f_00166', 'f_00123', 'f_00175', 'f_00134', 'f_00131']\n",
      "The groups difference are: [0.0, 0.0007520980307536007, 0.0006547136946040144]\n",
      "Group 0\n",
      "At round 130 accuracy: 0.7555555555555555\n",
      "At round 130 training accuracy: 0.6583333333333333\n",
      "At round 130 training loss: 0.989313814871841\n",
      "Group 1\n",
      "At round 130 accuracy: 0.7419354838709677\n",
      "At round 130 training accuracy: 0.6135458167330677\n",
      "At round 130 training loss: 1.0873180195629835\n",
      "Group 2\n",
      "At round 130 accuracy: 0.7083333333333334\n",
      "At round 130 training accuracy: 0.7553956834532374\n",
      "At round 130 training loss: 0.8073700700732444\n",
      "Begin group  0 training\n"
     ]
    },
    {
     "name": "stderr",
     "output_type": "stream",
     "text": [
      "                                                                                                                        "
     ]
    },
    {
     "name": "stdout",
     "output_type": "stream",
     "text": [
      "Begin group  1 training\n"
     ]
    },
    {
     "name": "stderr",
     "output_type": "stream",
     "text": [
      "Epoch:   0%|                                                                                      | 0/5 [00:00<?, ?it/s]"
     ]
    },
    {
     "name": "stdout",
     "output_type": "stream",
     "text": [
      "Begin group  2 training\n"
     ]
    },
    {
     "name": "stderr",
     "output_type": "stream",
     "text": [
      "Epoch:   0%|                                                                                      | 0/5 [00:00<?, ?it/s]"
     ]
    },
    {
     "name": "stdout",
     "output_type": "stream",
     "text": [
      "Group 0 clients ['f_00108', 'f_00188', 'f_00098', 'f_00038', 'f_00036', 'f_00147']\n",
      "Group 1 clients ['f_00111', 'f_00190', 'f_00023', 'f_00163', 'f_00104', 'f_00074', 'f_00161']\n",
      "Group 2 clients ['f_00116', 'f_00094', 'f_00034', 'f_00186', 'f_00125', 'f_00185', 'f_00044']\n",
      "The groups difference are: [1.1102230246251565e-16, 0.0005824523919958358, 0.0007201059819939015]\n",
      "Group 0\n",
      "At round 131 accuracy: 0.7818181818181819\n",
      "At round 131 training accuracy: 0.7965738758029979\n",
      "At round 131 training loss: 0.7276026182817953\n",
      "Group 1\n",
      "At round 131 accuracy: 0.4074074074074074\n",
      "At round 131 training accuracy: 0.48299319727891155\n",
      "At round 131 training loss: 1.309954351984184\n",
      "Group 2\n",
      "At round 131 accuracy: 0.5416666666666666\n",
      "At round 131 training accuracy: 0.5151515151515151\n",
      "At round 131 training loss: 1.4179789880008409\n",
      "Begin group  0 training\n"
     ]
    },
    {
     "name": "stderr",
     "output_type": "stream",
     "text": [
      "Epoch:   0%|                                                                                      | 0/5 [00:00<?, ?it/s]"
     ]
    },
    {
     "name": "stdout",
     "output_type": "stream",
     "text": [
      "Begin group  1 training\n"
     ]
    },
    {
     "name": "stderr",
     "output_type": "stream",
     "text": [
      "Epoch:   0%|                                                                                      | 0/5 [00:00<?, ?it/s]"
     ]
    },
    {
     "name": "stdout",
     "output_type": "stream",
     "text": [
      "Begin group  2 training\n"
     ]
    },
    {
     "name": "stderr",
     "output_type": "stream",
     "text": [
      "Epoch:   0%|                                                                                      | 0/5 [00:00<?, ?it/s]"
     ]
    },
    {
     "name": "stdout",
     "output_type": "stream",
     "text": [
      "Group 0 clients ['f_00157', 'f_00077', 'f_00007', 'f_00027', 'f_00026', 'f_00159', 'f_00126']\n",
      "Group 1 clients ['f_00192', 'f_00121', 'f_00131', 'f_00060']\n",
      "Group 2 clients ['f_00114', 'f_00136', 'f_00116', 'f_00156', 'f_00073', 'f_00166', 'f_00187', 'f_00133', 'f_00144']\n",
      "The groups difference are: [-2.220446049250313e-16, 0.0007331055026087441, 0.000814463607107907]\n",
      "Group 0\n",
      "At round 132 accuracy: 0.4772727272727273\n",
      "At round 132 training accuracy: 0.43661971830985913\n",
      "At round 132 training loss: 1.5817594289779664\n",
      "Group 1\n",
      "At round 132 accuracy: 0.5945945945945946\n",
      "At round 132 training accuracy: 0.5299684542586751\n",
      "At round 132 training loss: 1.196751624439793\n",
      "Group 2\n",
      "At round 132 accuracy: 0.5352112676056338\n",
      "At round 132 training accuracy: 0.5167224080267558\n",
      "At round 132 training loss: 1.2327012216367053\n",
      "Begin group  0 training\n"
     ]
    },
    {
     "name": "stderr",
     "output_type": "stream",
     "text": [
      "Epoch:   0%|                                                                                      | 0/5 [00:00<?, ?it/s]"
     ]
    },
    {
     "name": "stdout",
     "output_type": "stream",
     "text": [
      "Begin group  1 training\n"
     ]
    },
    {
     "name": "stderr",
     "output_type": "stream",
     "text": [
      "Epoch:   0%|                                                                                      | 0/5 [00:00<?, ?it/s]"
     ]
    },
    {
     "name": "stdout",
     "output_type": "stream",
     "text": [
      "Begin group  2 training\n"
     ]
    },
    {
     "name": "stderr",
     "output_type": "stream",
     "text": [
      "Epoch:   0%|                                                                                      | 0/5 [00:00<?, ?it/s]"
     ]
    },
    {
     "name": "stdout",
     "output_type": "stream",
     "text": [
      "Group 0 clients ['f_00018', 'f_00169', 'f_00029', 'f_00126', 'f_00129', 'f_00039']\n",
      "Group 1 clients ['f_00130', 'f_00003', 'f_00043', 'f_00139']\n",
      "Group 2 clients ['f_00194', 'f_00044', 'f_00146', 'f_00133', 'f_00187', 'f_00124', 'f_00143', 'f_00103', 'f_00114', 'f_00057']\n",
      "The groups difference are: [1.1102230246251565e-16, 0.0008352941971506711, 0.00043573028833598926]\n",
      "Group 0\n",
      "At round 133 accuracy: 0.5483870967741935\n",
      "At round 133 training accuracy: 0.4274193548387097\n",
      "At round 133 training loss: 1.4108479830526537\n",
      "Group 1\n",
      "At round 133 accuracy: 0.36363636363636365\n",
      "At round 133 training accuracy: 0.4117647058823529\n",
      "At round 133 training loss: 1.8571977867799647\n",
      "Group 2\n",
      "At round 133 accuracy: 0.85\n",
      "At round 133 training accuracy: 0.8323232323232324\n",
      "At round 133 training loss: 0.7889385809802045\n",
      "Begin group  0 training\n"
     ]
    },
    {
     "name": "stderr",
     "output_type": "stream",
     "text": [
      "Epoch:   0%|                                                                                      | 0/5 [00:00<?, ?it/s]"
     ]
    },
    {
     "name": "stdout",
     "output_type": "stream",
     "text": [
      "Begin group  1 training\n",
      "Begin group  2 training\n"
     ]
    },
    {
     "name": "stderr",
     "output_type": "stream",
     "text": [
      "                                                                                                                        "
     ]
    },
    {
     "name": "stdout",
     "output_type": "stream",
     "text": [
      "Group 0 clients ['f_00199', 'f_00127', 'f_00068', 'f_00069', 'f_00097']\n",
      "Group 1 clients ['f_00081', 'f_00191', 'f_00122', 'f_00008']\n",
      "Group 2 clients ['f_00084', 'f_00195', 'f_00016', 'f_00173', 'f_00196', 'f_00136', 'f_00013', 'f_00175', 'f_00012', 'f_00112', 'f_00085']\n",
      "The groups difference are: [0.0, 0.00034867568369767454, 0.0006779751405365797]\n",
      "Group 0\n",
      "At round 134 accuracy: 0.875\n",
      "At round 134 training accuracy: 0.7777777777777778\n",
      "At round 134 training loss: 0.7566901324451833\n",
      "Group 1\n",
      "At round 134 accuracy: 0.9333333333333333\n",
      "At round 134 training accuracy: 0.8489583333333334\n",
      "At round 134 training loss: 0.8053734924954673\n",
      "Group 2\n",
      "At round 134 accuracy: 0.5\n",
      "At round 134 training accuracy: 0.5185185185185185\n",
      "At round 134 training loss: 1.3104143186851784\n",
      "Begin group  0 training\n"
     ]
    },
    {
     "name": "stderr",
     "output_type": "stream",
     "text": [
      "Epoch:   0%|                                                                                      | 0/5 [00:00<?, ?it/s]"
     ]
    },
    {
     "name": "stdout",
     "output_type": "stream",
     "text": [
      "Begin group  1 training\n"
     ]
    },
    {
     "name": "stderr",
     "output_type": "stream",
     "text": [
      "Epoch:   0%|                                                                                      | 0/5 [00:00<?, ?it/s]"
     ]
    },
    {
     "name": "stdout",
     "output_type": "stream",
     "text": [
      "Begin group  2 training\n"
     ]
    },
    {
     "name": "stderr",
     "output_type": "stream",
     "text": [
      "Epoch:   0%|                                                                                      | 0/5 [00:00<?, ?it/s]"
     ]
    },
    {
     "name": "stdout",
     "output_type": "stream",
     "text": [
      "Group 0 clients ['f_00108', 'f_00078', 'f_00058', 'f_00039', 'f_00158', 'f_00189', 'f_00077', 'f_00026']\n",
      "Group 1 clients ['f_00122', 'f_00142', 'f_00030', 'f_00161', 'f_00060', 'f_00192', 'f_00154', 'f_00193']\n",
      "Group 2 clients ['f_00114', 'f_00143', 'f_00115', 'f_00065']\n",
      "The groups difference are: [0.0, 0.0008022966808620691, 0.00070233073529824]\n",
      "Group 0\n",
      "At round 135 accuracy: 0.65625\n",
      "At round 135 training accuracy: 0.5928705440900562\n",
      "At round 135 training loss: 1.1425899675371052\n",
      "Group 1\n",
      "At round 135 accuracy: 0.7575757575757576\n",
      "At round 135 training accuracy: 0.6758241758241759\n",
      "At round 135 training loss: 1.0911503302636163\n",
      "Group 2\n",
      "At round 135 accuracy: 0.8\n",
      "At round 135 training accuracy: 0.8246753246753247\n",
      "At round 135 training loss: 0.7404176770866692\n",
      "Begin group  0 training\n"
     ]
    },
    {
     "name": "stderr",
     "output_type": "stream",
     "text": [
      "                                                                                                                        "
     ]
    },
    {
     "name": "stdout",
     "output_type": "stream",
     "text": [
      "Begin group  1 training\n"
     ]
    },
    {
     "name": "stderr",
     "output_type": "stream",
     "text": [
      "                                                                                                                        \r"
     ]
    },
    {
     "name": "stdout",
     "output_type": "stream",
     "text": [
      "Begin group  2 training\n",
      "Group 0 clients ['f_00078', 'f_00038', 'f_00049', 'f_00068']\n",
      "Group 1 clients ['f_00000', 'f_00062', 'f_00163', 'f_00150', 'f_00081', 'f_00059', 'f_00181', 'f_00003', 'f_00042']\n",
      "Group 2 clients ['f_00115', 'f_00094', 'f_00053', 'f_00144', 'f_00064', 'f_00086', 'f_00084']\n",
      "The groups difference are: [0.0, 0.0007117787491550676, 0.0006177729385470343]\n"
     ]
    },
    {
     "name": "stderr",
     "output_type": "stream",
     "text": [
      "Epoch:   0%|                                                                                      | 0/5 [00:00<?, ?it/s]"
     ]
    },
    {
     "name": "stdout",
     "output_type": "stream",
     "text": [
      "Group 0\n",
      "At round 136 accuracy: 0.9583333333333334\n",
      "At round 136 training accuracy: 0.8529411764705882\n",
      "At round 136 training loss: 0.5789849065682467\n",
      "Group 1\n",
      "At round 136 accuracy: 0.8040816326530612\n",
      "At round 136 training accuracy: 0.8117809479981593\n",
      "At round 136 training loss: 0.5506061657310026\n",
      "Group 2\n",
      "At round 136 accuracy: 0.7530864197530864\n",
      "At round 136 training accuracy: 0.7669616519174042\n",
      "At round 136 training loss: 0.8275201010317226\n",
      "Begin group  0 training\n",
      "Begin group  1 training\n"
     ]
    },
    {
     "name": "stderr",
     "output_type": "stream",
     "text": [
      "Epoch:   0%|                                                                                      | 0/5 [00:00<?, ?it/s]"
     ]
    },
    {
     "name": "stdout",
     "output_type": "stream",
     "text": [
      "Begin group  2 training\n"
     ]
    },
    {
     "name": "stderr",
     "output_type": "stream",
     "text": [
      "Epoch:   0%|                                                                                      | 0/5 [00:00<?, ?it/s]"
     ]
    },
    {
     "name": "stdout",
     "output_type": "stream",
     "text": [
      "Group 0 clients ['f_00138', 'f_00168', 'f_00198', 'f_00128', 'f_00047', 'f_00089', 'f_00158', 'f_00106']\n",
      "Group 1 clients ['f_00193', 'f_00080', 'f_00133', 'f_00032']\n",
      "Group 2 clients ['f_00044', 'f_00065', 'f_00004', 'f_00114', 'f_00187', 'f_00144', 'f_00196', 'f_00064']\n",
      "The groups difference are: [0.0, 0.0015260340269700468, 0.0008584023698405829]\n",
      "Group 0\n",
      "At round 137 accuracy: 0.7368421052631579\n",
      "At round 137 training accuracy: 0.7654723127035831\n",
      "At round 137 training loss: 0.765500458424565\n",
      "Group 1\n",
      "At round 137 accuracy: 0.5\n",
      "At round 137 training accuracy: 0.3894230769230769\n",
      "At round 137 training loss: 3.1126314031963167\n",
      "Group 2\n",
      "At round 137 accuracy: 0.5869565217391305\n",
      "At round 137 training accuracy: 0.5026737967914439\n",
      "At round 137 training loss: 1.3362346334572144\n",
      "Begin group  0 training\n"
     ]
    },
    {
     "name": "stderr",
     "output_type": "stream",
     "text": [
      "Epoch:   0%|                                                                                      | 0/5 [00:00<?, ?it/s]"
     ]
    },
    {
     "name": "stdout",
     "output_type": "stream",
     "text": [
      "Begin group  1 training\n",
      "Begin group  2 training\n"
     ]
    },
    {
     "name": "stderr",
     "output_type": "stream",
     "text": [
      "                                                                                                                        "
     ]
    },
    {
     "name": "stdout",
     "output_type": "stream",
     "text": [
      "Group 0 clients ['f_00038', 'f_00128', 'f_00058', 'f_00079', 'f_00036']\n",
      "Group 1 clients ['f_00142', 'f_00151', 'f_00052', 'f_00154']\n",
      "Group 2 clients ['f_00114', 'f_00185', 'f_00016', 'f_00155', 'f_00156', 'f_00013', 'f_00162', 'f_00014', 'f_00084', 'f_00115', 'f_00186']\n",
      "The groups difference are: [0.0, 0.0007960041666730255, 0.0006111910352508687]\n",
      "Group 0\n",
      "At round 138 accuracy: 0.5384615384615384\n",
      "At round 138 training accuracy: 0.6355140186915887\n",
      "At round 138 training loss: 1.0892420249564625\n",
      "Group 1\n",
      "At round 138 accuracy: 0.36363636363636365\n",
      "At round 138 training accuracy: 0.3163538873994638\n",
      "At round 138 training loss: 1.8704022658094963\n",
      "Group 2\n",
      "At round 138 accuracy: 0.734375\n",
      "At round 138 training accuracy: 0.7495256166982922\n",
      "At round 138 training loss: 0.8683443834026127\n",
      "Begin group  0 training\n"
     ]
    },
    {
     "name": "stderr",
     "output_type": "stream",
     "text": [
      "Epoch:   0%|                                                                                      | 0/5 [00:00<?, ?it/s]"
     ]
    },
    {
     "name": "stdout",
     "output_type": "stream",
     "text": [
      "Begin group  1 training\n"
     ]
    },
    {
     "name": "stderr",
     "output_type": "stream",
     "text": [
      "Epoch:   0%|                                                                                      | 0/5 [00:00<?, ?it/s]"
     ]
    },
    {
     "name": "stdout",
     "output_type": "stream",
     "text": [
      "Begin group  2 training\n"
     ]
    },
    {
     "name": "stderr",
     "output_type": "stream",
     "text": [
      "Epoch:   0%|                                                                                      | 0/5 [00:00<?, ?it/s]"
     ]
    },
    {
     "name": "stdout",
     "output_type": "stream",
     "text": [
      "Group 0 clients ['f_00128', 'f_00108', 'f_00167', 'f_00197', 'f_00097', 'f_00159']\n",
      "Group 1 clients ['f_00171', 'f_00142', 'f_00180', 'f_00104', 'f_00151']\n",
      "Group 2 clients ['f_00075', 'f_00084', 'f_00155', 'f_00123', 'f_00156', 'f_00164', 'f_00103', 'f_00183', 'f_00054']\n",
      "The groups difference are: [1.1102230246251565e-16, 0.000773093760294552, 0.0005330291134697518]\n",
      "Group 0\n",
      "At round 139 accuracy: 0.6428571428571429\n",
      "At round 139 training accuracy: 0.6866096866096866\n",
      "At round 139 training loss: 0.9509747204957185\n",
      "Group 1\n",
      "At round 139 accuracy: 0.43902439024390244\n",
      "At round 139 training accuracy: 0.47277936962750716\n",
      "At round 139 training loss: 1.5635075859490644\n",
      "Group 2\n",
      "At round 139 accuracy: 0.7641509433962265\n",
      "At round 139 training accuracy: 0.8102508178844057\n",
      "At round 139 training loss: 0.7107360090333217\n",
      "Begin group  0 training\n"
     ]
    },
    {
     "name": "stderr",
     "output_type": "stream",
     "text": [
      "Epoch:  80%|██████████████████████████████████████████████████████████████▍               | 4/5 [00:00<00:00, 39.75it/s]"
     ]
    },
    {
     "name": "stdout",
     "output_type": "stream",
     "text": [
      "Begin group  1 training\n"
     ]
    },
    {
     "name": "stderr",
     "output_type": "stream",
     "text": [
      "Epoch:   0%|                                                                                      | 0/5 [00:00<?, ?it/s]"
     ]
    },
    {
     "name": "stdout",
     "output_type": "stream",
     "text": [
      "Begin group  2 training\n"
     ]
    },
    {
     "name": "stderr",
     "output_type": "stream",
     "text": [
      "Epoch:   0%|                                                                                      | 0/5 [00:00<?, ?it/s]"
     ]
    },
    {
     "name": "stdout",
     "output_type": "stream",
     "text": [
      "Group 0 clients ['f_00169', 'f_00129', 'f_00049', 'f_00137', 'f_00047']\n",
      "Group 1 clients ['f_00120', 'f_00071', 'f_00021', 'f_00132', 'f_00030', 'f_00142', 'f_00140', 'f_00061', 'f_00154']\n",
      "Group 2 clients ['f_00046', 'f_00145', 'f_00055', 'f_00173', 'f_00095', 'f_00153']\n",
      "The groups difference are: [-2.220446049250313e-16, 0.0006710453165124086, 0.0007324309983703925]\n",
      "Group 0\n",
      "At round 140 accuracy: 0.75\n",
      "At round 140 training accuracy: 0.7400881057268722\n",
      "At round 140 training loss: 0.8894140344884427\n",
      "Group 1\n",
      "At round 140 accuracy: 0.559322033898305\n",
      "At round 140 training accuracy: 0.5495867768595041\n",
      "At round 140 training loss: 1.169298093181011\n",
      "Group 2\n",
      "At round 140 accuracy: 0.7083333333333334\n",
      "At round 140 training accuracy: 0.5625\n",
      "At round 140 training loss: 1.1237466419115663\n",
      "Begin group  0 training\n"
     ]
    },
    {
     "name": "stderr",
     "output_type": "stream",
     "text": [
      "                                                                                                                        "
     ]
    },
    {
     "name": "stdout",
     "output_type": "stream",
     "text": [
      "Begin group  1 training\n"
     ]
    },
    {
     "name": "stderr",
     "output_type": "stream",
     "text": [
      "                                                                                                                        \r"
     ]
    },
    {
     "name": "stdout",
     "output_type": "stream",
     "text": [
      "Begin group  2 training\n",
      "Group 0 clients ['f_00098', 'f_00029', 'f_00007', 'f_00108', 'f_00079', 'f_00036', 'f_00107', 'f_00137', 'f_00126', 'f_00176']\n",
      "Group 1 clients ['f_00051', 'f_00093', 'f_00010', 'f_00071', 'f_00020', 'f_00181']\n",
      "Group 2 clients ['f_00055', 'f_00183', 'f_00116', 'f_00163']\n",
      "The groups difference are: [0.0, 0.0005840703321416951, 0.000546140806103379]\n"
     ]
    },
    {
     "name": "stderr",
     "output_type": "stream",
     "text": [
      "Epoch:   0%|                                                                                      | 0/5 [00:00<?, ?it/s]"
     ]
    },
    {
     "name": "stdout",
     "output_type": "stream",
     "text": [
      "Group 0\n",
      "At round 141 accuracy: 0.7204301075268817\n",
      "At round 141 training accuracy: 0.7021546261089987\n",
      "At round 141 training loss: 0.9230690971677898\n",
      "Group 1\n",
      "At round 141 accuracy: 0.746031746031746\n",
      "At round 141 training accuracy: 0.7307692307692307\n",
      "At round 141 training loss: 0.8769089500982683\n",
      "Group 2\n",
      "At round 141 accuracy: 0.7222222222222222\n",
      "At round 141 training accuracy: 0.7872340425531915\n",
      "At round 141 training loss: 0.8147188792837426\n",
      "Begin group  0 training\n"
     ]
    },
    {
     "name": "stderr",
     "output_type": "stream",
     "text": [
      "Epoch:   0%|                                                                                      | 0/5 [00:00<?, ?it/s]"
     ]
    },
    {
     "name": "stdout",
     "output_type": "stream",
     "text": [
      "Begin group  1 training\n"
     ]
    },
    {
     "name": "stderr",
     "output_type": "stream",
     "text": [
      "Epoch:   0%|                                                                                      | 0/5 [00:00<?, ?it/s]"
     ]
    },
    {
     "name": "stdout",
     "output_type": "stream",
     "text": [
      "Begin group  2 training\n",
      "Group 0 clients ['f_00068', 'f_00027', 'f_00199', 'f_00099', 'f_00126', 'f_00106', 'f_00067', 'f_00148']\n",
      "Group 1 clients ['f_00001', 'f_00161', 'f_00142', 'f_00010', 'f_00003', 'f_00090', 'f_00072']\n",
      "Group 2 clients ['f_00025', 'f_00175', 'f_00166', 'f_00153', 'f_00162']\n",
      "The groups difference are: [0.0, 0.0006294871074243868, 0.0006501062150122694]\n",
      "Group 0\n",
      "At round 142 accuracy: 0.7294117647058823\n",
      "At round 142 training accuracy: 0.6443228454172366\n",
      "At round 142 training loss: 0.9455110628040643\n",
      "Group 1\n",
      "At round 142 accuracy: 0.8103448275862069\n",
      "At round 142 training accuracy: 0.8164948453608247\n",
      "At round 142 training loss: 0.7341210772081749\n",
      "Group 2\n",
      "At round 142 accuracy: 0.5833333333333334\n",
      "At round 142 training accuracy: 0.5124378109452736\n",
      "At round 142 training loss: 1.2608872858149496\n",
      "Begin group  0 training\n"
     ]
    },
    {
     "name": "stderr",
     "output_type": "stream",
     "text": [
      "Epoch:   0%|                                                                                      | 0/5 [00:00<?, ?it/s]"
     ]
    },
    {
     "name": "stdout",
     "output_type": "stream",
     "text": [
      "Begin group  1 training\n"
     ]
    },
    {
     "name": "stderr",
     "output_type": "stream",
     "text": [
      "                                                                                                                        \r"
     ]
    },
    {
     "name": "stdout",
     "output_type": "stream",
     "text": [
      "Begin group  2 training\n",
      "Group 0 clients ['f_00119', 'f_00158', 'f_00019', 'f_00107', 'f_00147']\n",
      "Group 1 clients ['f_00041', 'f_00161', 'f_00002', 'f_00001', 'f_00072', 'f_00139', 'f_00032']\n",
      "Group 2 clients ['f_00015', 'f_00096', 'f_00025', 'f_00014', 'f_00165', 'f_00105', 'f_00166', 'f_00103']\n",
      "The groups difference are: [0.0, 0.0007574826382488187, 0.00056325965089421]\n"
     ]
    },
    {
     "name": "stderr",
     "output_type": "stream",
     "text": [
      "Epoch:   0%|                                                                                      | 0/5 [00:00<?, ?it/s]"
     ]
    },
    {
     "name": "stdout",
     "output_type": "stream",
     "text": [
      "Group 0\n",
      "At round 143 accuracy: 0.6666666666666666\n",
      "At round 143 training accuracy: 0.6732673267326733\n",
      "At round 143 training loss: 0.9130077548939796\n",
      "Group 1\n",
      "At round 143 accuracy: 0.5\n",
      "At round 143 training accuracy: 0.4774193548387097\n",
      "At round 143 training loss: 1.3572371250198734\n",
      "Group 2\n",
      "At round 143 accuracy: 0.9154929577464789\n",
      "At round 143 training accuracy: 0.8138385502471169\n",
      "At round 143 training loss: 0.7492480607951886\n",
      "Begin group  0 training\n"
     ]
    },
    {
     "name": "stderr",
     "output_type": "stream",
     "text": [
      "Epoch:   0%|                                                                                      | 0/5 [00:00<?, ?it/s]"
     ]
    },
    {
     "name": "stdout",
     "output_type": "stream",
     "text": [
      "Begin group  1 training\n"
     ]
    },
    {
     "name": "stderr",
     "output_type": "stream",
     "text": [
      "Epoch:   0%|                                                                                      | 0/5 [00:00<?, ?it/s]"
     ]
    },
    {
     "name": "stdout",
     "output_type": "stream",
     "text": [
      "Begin group  2 training\n"
     ]
    },
    {
     "name": "stderr",
     "output_type": "stream",
     "text": [
      "Epoch:   0%|                                                                                      | 0/5 [00:00<?, ?it/s]"
     ]
    },
    {
     "name": "stdout",
     "output_type": "stream",
     "text": [
      "Group 0 clients ['f_00168', 'f_00178', 'f_00088', 'f_00189', 'f_00199']\n",
      "Group 1 clients ['f_00062', 'f_00050', 'f_00001', 'f_00020', 'f_00023', 'f_00193', 'f_00008', 'f_00060', 'f_00104', 'f_00190']\n",
      "Group 2 clients ['f_00165', 'f_00163', 'f_00144', 'f_00004', 'f_00146']\n",
      "The groups difference are: [0.0, 0.0007496330579606081, 0.0006621741986757579]\n",
      "Group 0\n",
      "At round 144 accuracy: 0.8\n",
      "At round 144 training accuracy: 0.7952755905511811\n",
      "At round 144 training loss: 0.7059006315516675\n",
      "Group 1\n",
      "At round 144 accuracy: 0.7790697674418605\n",
      "At round 144 training accuracy: 0.8154997798326729\n",
      "At round 144 training loss: 0.591344938515462\n",
      "Group 2\n",
      "At round 144 accuracy: 0.696969696969697\n",
      "At round 144 training accuracy: 0.6928838951310862\n",
      "At round 144 training loss: 0.8634780964601353\n",
      "Begin group  0 training\n"
     ]
    },
    {
     "name": "stderr",
     "output_type": "stream",
     "text": [
      "Epoch:   0%|                                                                                      | 0/5 [00:00<?, ?it/s]"
     ]
    },
    {
     "name": "stdout",
     "output_type": "stream",
     "text": [
      "Begin group  1 training\n"
     ]
    },
    {
     "name": "stderr",
     "output_type": "stream",
     "text": [
      "                                                                                                                        \r"
     ]
    },
    {
     "name": "stdout",
     "output_type": "stream",
     "text": [
      "Begin group  2 training\n",
      "Group 0 clients ['f_00138', 'f_00128', 'f_00028', 'f_00167', 'f_00067', 'f_00068', 'f_00088']\n",
      "Group 1 clients ['f_00002', 'f_00080', 'f_00130', 'f_00132', 'f_00093', 'f_00001', 'f_00050']\n",
      "Group 2 clients ['f_00163', 'f_00055', 'f_00174', 'f_00063', 'f_00083', 'f_00086']\n",
      "The groups difference are: [0.0, 0.001452044767753069, 0.0008511624628667613]\n"
     ]
    },
    {
     "name": "stderr",
     "output_type": "stream",
     "text": [
      "Epoch:   0%|                                                                                      | 0/5 [00:00<?, ?it/s]"
     ]
    },
    {
     "name": "stdout",
     "output_type": "stream",
     "text": [
      "Group 0\n",
      "At round 145 accuracy: 0.43661971830985913\n",
      "At round 145 training accuracy: 0.41435562805872755\n",
      "At round 145 training loss: 1.8400624395389151\n",
      "Group 1\n",
      "At round 145 accuracy: 0.5909090909090909\n",
      "At round 145 training accuracy: 0.5975177304964538\n",
      "At round 145 training loss: 1.73212194918318\n",
      "Group 2\n",
      "At round 145 accuracy: 0.75\n",
      "At round 145 training accuracy: 0.7283018867924528\n",
      "At round 145 training loss: 0.8057071987188087\n",
      "Begin group  0 training\n"
     ]
    },
    {
     "name": "stderr",
     "output_type": "stream",
     "text": [
      "Epoch:   0%|                                                                                      | 0/5 [00:00<?, ?it/s]"
     ]
    },
    {
     "name": "stdout",
     "output_type": "stream",
     "text": [
      "Begin group  1 training\n"
     ]
    },
    {
     "name": "stderr",
     "output_type": "stream",
     "text": [
      "                                                                                                                        "
     ]
    },
    {
     "name": "stdout",
     "output_type": "stream",
     "text": [
      "Begin group  2 training\n"
     ]
    },
    {
     "name": "stderr",
     "output_type": "stream",
     "text": [
      "Epoch:   0%|                                                                                      | 0/5 [00:00<?, ?it/s]"
     ]
    },
    {
     "name": "stdout",
     "output_type": "stream",
     "text": [
      "Group 0 clients ['f_00078', 'f_00118', 'f_00148', 'f_00197', 'f_00007', 'f_00089', 'f_00087', 'f_00039']\n",
      "Group 1 clients ['f_00041', 'f_00143', 'f_00193', 'f_00162', 'f_00081']\n",
      "Group 2 clients ['f_00095', 'f_00004', 'f_00185', 'f_00024', 'f_00076', 'f_00056', 'f_00057']\n",
      "The groups difference are: [0.0, 0.0010855309416539782, 0.0006774521103202202]\n",
      "Group 0\n",
      "At round 146 accuracy: 0.6629213483146067\n",
      "At round 146 training accuracy: 0.6476683937823834\n",
      "At round 146 training loss: 0.8676248915454884\n",
      "Group 1\n",
      "At round 146 accuracy: 0.6956521739130435\n",
      "At round 146 training accuracy: 0.8202247191011236\n",
      "At round 146 training loss: 0.6172674298286438\n",
      "Group 2\n",
      "At round 146 accuracy: 0.37735849056603776\n",
      "At round 146 training accuracy: 0.40224719101123596\n",
      "At round 146 training loss: 1.3748745197660468\n",
      "Begin group  0 training\n"
     ]
    },
    {
     "name": "stderr",
     "output_type": "stream",
     "text": [
      "Epoch:   0%|                                                                                      | 0/5 [00:00<?, ?it/s]"
     ]
    },
    {
     "name": "stdout",
     "output_type": "stream",
     "text": [
      "Begin group  1 training\n",
      "Begin group  2 training\n"
     ]
    },
    {
     "name": "stderr",
     "output_type": "stream",
     "text": [
      "Epoch:   0%|                                                                                      | 0/5 [00:00<?, ?it/s]"
     ]
    },
    {
     "name": "stdout",
     "output_type": "stream",
     "text": [
      "Group 0 clients ['f_00097', 'f_00169', 'f_00138', 'f_00089']\n",
      "Group 1 clients ['f_00072', 'f_00031', 'f_00062', 'f_00090', 'f_00022', 'f_00021', 'f_00140', 'f_00133']\n",
      "Group 2 clients ['f_00194', 'f_00175', 'f_00044', 'f_00174', 'f_00024', 'f_00035', 'f_00112', 'f_00134']\n",
      "The groups difference are: [-2.220446049250313e-16, 0.0010028933597900913, 0.000558296590908447]\n",
      "Group 0\n",
      "At round 147 accuracy: 0.6875\n",
      "At round 147 training accuracy: 0.5819672131147541\n",
      "At round 147 training loss: 1.1662174370445189\n",
      "Group 1\n",
      "At round 147 accuracy: 0.8779527559055118\n",
      "At round 147 training accuracy: 0.8527580071174378\n",
      "At round 147 training loss: 0.5323968826929021\n",
      "Group 2\n",
      "At round 147 accuracy: 0.44642857142857145\n",
      "At round 147 training accuracy: 0.4427966101694915\n",
      "At round 147 training loss: 1.3562930269261537\n",
      "Begin group  0 training\n",
      "Begin group  1 training\n"
     ]
    },
    {
     "name": "stderr",
     "output_type": "stream",
     "text": [
      "Epoch:   0%|                                                                                      | 0/5 [00:00<?, ?it/s]"
     ]
    },
    {
     "name": "stdout",
     "output_type": "stream",
     "text": [
      "Begin group  2 training\n"
     ]
    },
    {
     "name": "stderr",
     "output_type": "stream",
     "text": [
      "Epoch:   0%|                                                                                      | 0/5 [00:00<?, ?it/s]"
     ]
    },
    {
     "name": "stdout",
     "output_type": "stream",
     "text": [
      "Group 0 clients ['f_00189', 'f_00158', 'f_00149', 'f_00097', 'f_00088']\n",
      "Group 1 clients ['f_00192', 'f_00193', 'f_00181', 'f_00030', 'f_00023', 'f_00060', 'f_00002']\n",
      "Group 2 clients ['f_00056', 'f_00034', 'f_00055', 'f_00185', 'f_00153', 'f_00073', 'f_00135', 'f_00013']\n",
      "The groups difference are: [-2.220446049250313e-16, 0.001515510624985228, 0.0007146508510026406]\n",
      "Group 0\n",
      "At round 148 accuracy: 0.7777777777777778\n",
      "At round 148 training accuracy: 0.7733333333333333\n",
      "At round 148 training loss: 0.7040092623233796\n",
      "Group 1\n",
      "At round 148 accuracy: 0.6153846153846154\n",
      "At round 148 training accuracy: 0.6985981308411215\n",
      "At round 148 training loss: 1.2564493337663534\n",
      "Group 2\n",
      "At round 148 accuracy: 0.7341772151898734\n",
      "At round 148 training accuracy: 0.687218045112782\n",
      "At round 148 training loss: 0.859414415700095\n",
      "Begin group  0 training\n"
     ]
    },
    {
     "name": "stderr",
     "output_type": "stream",
     "text": [
      "Epoch:   0%|                                                                                      | 0/5 [00:00<?, ?it/s]"
     ]
    },
    {
     "name": "stdout",
     "output_type": "stream",
     "text": [
      "Begin group  1 training\n"
     ]
    },
    {
     "name": "stderr",
     "output_type": "stream",
     "text": [
      "Epoch:   0%|                                                                                      | 0/5 [00:00<?, ?it/s]"
     ]
    },
    {
     "name": "stdout",
     "output_type": "stream",
     "text": [
      "Begin group  2 training\n"
     ]
    },
    {
     "name": "stderr",
     "output_type": "stream",
     "text": [
      "Epoch:   0%|                                                                                      | 0/5 [00:00<?, ?it/s]"
     ]
    },
    {
     "name": "stdout",
     "output_type": "stream",
     "text": [
      "Group 0 clients ['f_00058', 'f_00089', 'f_00107', 'f_00026']\n",
      "Group 1 clients ['f_00062', 'f_00091', 'f_00061', 'f_00110', 'f_00182', 'f_00071', 'f_00180', 'f_00022', 'f_00052', 'f_00141', 'f_00074', 'f_00090']\n",
      "Group 2 clients ['f_00063', 'f_00013', 'f_00186', 'f_00135']\n",
      "The groups difference are: [1.1102230246251565e-16, 0.001056907968717935, 0.000821704559534453]\n",
      "Group 0\n",
      "At round 149 accuracy: 0.3076923076923077\n",
      "At round 149 training accuracy: 0.3791469194312796\n",
      "At round 149 training loss: 1.8010056369112566\n",
      "Group 1\n",
      "At round 149 accuracy: 0.7587301587301587\n",
      "At round 149 training accuracy: 0.7583603020496225\n",
      "At round 149 training loss: 0.7177098702715696\n",
      "Group 2\n",
      "At round 149 accuracy: 0.7222222222222222\n",
      "At round 149 training accuracy: 0.6138613861386139\n",
      "At round 149 training loss: 0.9270334805395737\n",
      "Begin group  0 training\n"
     ]
    },
    {
     "name": "stderr",
     "output_type": "stream",
     "text": [
      "Epoch:   0%|                                                                                      | 0/5 [00:00<?, ?it/s]"
     ]
    },
    {
     "name": "stdout",
     "output_type": "stream",
     "text": [
      "Begin group  1 training\n"
     ]
    },
    {
     "name": "stderr",
     "output_type": "stream",
     "text": [
      "Epoch:   0%|                                                                                      | 0/5 [00:00<?, ?it/s]"
     ]
    },
    {
     "name": "stdout",
     "output_type": "stream",
     "text": [
      "Begin group  2 training\n"
     ]
    },
    {
     "name": "stderr",
     "output_type": "stream",
     "text": [
      "Epoch:   0%|                                                                                      | 0/5 [00:00<?, ?it/s]"
     ]
    },
    {
     "name": "stdout",
     "output_type": "stream",
     "text": [
      "Group 0 clients ['f_00119', 'f_00087', 'f_00058', 'f_00168', 'f_00036', 'f_00033', 'f_00009']\n",
      "Group 1 clients ['f_00070', 'f_00072', 'f_00042', 'f_00091', 'f_00133', 'f_00008']\n",
      "Group 2 clients ['f_00084', 'f_00194', 'f_00085', 'f_00013', 'f_00184', 'f_00056', 'f_00066']\n",
      "The groups difference are: [0.0, 0.0014186047622918307, 0.00048408271694189153]\n",
      "Group 0\n",
      "At round 150 accuracy: 0.6166666666666667\n",
      "At round 150 training accuracy: 0.6785009861932939\n",
      "At round 150 training loss: 0.919810938764606\n",
      "Group 1\n",
      "At round 150 accuracy: 0.5333333333333333\n",
      "At round 150 training accuracy: 0.5555555555555556\n",
      "At round 150 training loss: 1.6986803188774786\n",
      "Group 2\n",
      "At round 150 accuracy: 0.5909090909090909\n",
      "At round 150 training accuracy: 0.6290322580645161\n",
      "At round 150 training loss: 0.9254831650351111\n",
      "Begin group  0 training\n"
     ]
    },
    {
     "name": "stderr",
     "output_type": "stream",
     "text": [
      "Epoch:   0%|                                                                                      | 0/5 [00:00<?, ?it/s]"
     ]
    },
    {
     "name": "stdout",
     "output_type": "stream",
     "text": [
      "Begin group  1 training\n"
     ]
    },
    {
     "name": "stderr",
     "output_type": "stream",
     "text": [
      "Epoch:   0%|                                                                                      | 0/5 [00:00<?, ?it/s]"
     ]
    },
    {
     "name": "stdout",
     "output_type": "stream",
     "text": [
      "Begin group  2 training\n"
     ]
    },
    {
     "name": "stderr",
     "output_type": "stream",
     "text": [
      "Epoch:   0%|                                                                                      | 0/5 [00:00<?, ?it/s]"
     ]
    },
    {
     "name": "stdout",
     "output_type": "stream",
     "text": [
      "Group 0 clients ['f_00138', 'f_00007', 'f_00038', 'f_00177']\n",
      "Group 1 clients ['f_00011', 'f_00022', 'f_00050', 'f_00061', 'f_00170', 'f_00008', 'f_00142']\n",
      "Group 2 clients ['f_00076', 'f_00153', 'f_00053', 'f_00094', 'f_00166', 'f_00066', 'f_00103', 'f_00156', 'f_00187']\n",
      "The groups difference are: [0.0, 0.001144104160555992, 0.0005544146130045391]\n",
      "Group 0\n",
      "At round 151 accuracy: 0.78125\n",
      "At round 151 training accuracy: 0.7846715328467153\n",
      "At round 151 training loss: 0.6975039500389656\n",
      "Group 1\n",
      "At round 151 accuracy: 0.7931034482758621\n",
      "At round 151 training accuracy: 0.6412556053811659\n",
      "At round 151 training loss: 0.8198680816209905\n",
      "Group 2\n",
      "At round 151 accuracy: 0.7130434782608696\n",
      "At round 151 training accuracy: 0.6723276723276723\n",
      "At round 151 training loss: 0.9599123859143519\n",
      "Begin group  0 training\n"
     ]
    },
    {
     "name": "stderr",
     "output_type": "stream",
     "text": [
      "Epoch:   0%|                                                                                      | 0/5 [00:00<?, ?it/s]"
     ]
    },
    {
     "name": "stdout",
     "output_type": "stream",
     "text": [
      "Begin group  1 training\n",
      "Begin group  2 training\n"
     ]
    },
    {
     "name": "stderr",
     "output_type": "stream",
     "text": [
      "Epoch:   0%|                                                                                      | 0/5 [00:00<?, ?it/s]"
     ]
    },
    {
     "name": "stdout",
     "output_type": "stream",
     "text": [
      "Group 0 clients ['f_00167', 'f_00078', 'f_00088', 'f_00099']\n",
      "Group 1 clients ['f_00010', 'f_00192', 'f_00052', 'f_00191', 'f_00102', 'f_00133', 'f_00003', 'f_00021', 'f_00141']\n",
      "Group 2 clients ['f_00144', 'f_00115', 'f_00085', 'f_00063', 'f_00156', 'f_00076', 'f_00116']\n",
      "The groups difference are: [1.1102230246251565e-16, 0.0009741908441018854, 0.0005117469464555047]\n",
      "Group 0\n",
      "At round 152 accuracy: 0.5555555555555556\n",
      "At round 152 training accuracy: 0.673202614379085\n",
      "At round 152 training loss: 0.944613919928183\n",
      "Group 1\n",
      "At round 152 accuracy: 0.7252747252747253\n",
      "At round 152 training accuracy: 0.7865459249676585\n",
      "At round 152 training loss: 0.6425122891252747\n",
      "Group 2\n",
      "At round 152 accuracy: 0.8888888888888888\n",
      "At round 152 training accuracy: 0.8674242424242424\n",
      "At round 152 training loss: 0.7527222396297888\n",
      "Begin group  0 training\n",
      "Begin group  1 training\n"
     ]
    },
    {
     "name": "stderr",
     "output_type": "stream",
     "text": [
      "Epoch:   0%|                                                                                      | 0/5 [00:00<?, ?it/s]"
     ]
    },
    {
     "name": "stdout",
     "output_type": "stream",
     "text": [
      "Begin group  2 training\n"
     ]
    },
    {
     "name": "stderr",
     "output_type": "stream",
     "text": [
      "Epoch:   0%|                                                                                      | 0/5 [00:00<?, ?it/s]"
     ]
    },
    {
     "name": "stdout",
     "output_type": "stream",
     "text": [
      "Group 0 clients ['f_00198', 'f_00077', 'f_00029', 'f_00127', 'f_00039']\n",
      "Group 1 clients ['f_00162', 'f_00101', 'f_00001', 'f_00023', 'f_00071', 'f_00074', 'f_00020', 'f_00060']\n",
      "Group 2 clients ['f_00015', 'f_00125', 'f_00016', 'f_00056', 'f_00048', 'f_00004', 'f_00160']\n",
      "The groups difference are: [0.0, 0.0008183977397893116, 0.0004529803999129278]\n",
      "Group 0\n",
      "At round 153 accuracy: 0.8275862068965517\n",
      "At round 153 training accuracy: 0.6896551724137931\n",
      "At round 153 training loss: 0.9411131094755798\n",
      "Group 1\n",
      "At round 153 accuracy: 0.49056603773584906\n",
      "At round 153 training accuracy: 0.6018099547511312\n",
      "At round 153 training loss: 1.1829587370831502\n",
      "Group 2\n",
      "At round 153 accuracy: 0.25\n",
      "At round 153 training accuracy: 0.3093415007656968\n",
      "At round 153 training loss: 2.593119904649933\n",
      "Begin group  0 training\n"
     ]
    },
    {
     "name": "stderr",
     "output_type": "stream",
     "text": [
      "                                                                                                                        "
     ]
    },
    {
     "name": "stdout",
     "output_type": "stream",
     "text": [
      "Begin group  1 training\n"
     ]
    },
    {
     "name": "stderr",
     "output_type": "stream",
     "text": [
      "Epoch:   0%|                                                                                      | 0/5 [00:00<?, ?it/s]"
     ]
    },
    {
     "name": "stdout",
     "output_type": "stream",
     "text": [
      "Begin group  2 training\n"
     ]
    },
    {
     "name": "stderr",
     "output_type": "stream",
     "text": [
      "Epoch:   0%|                                                                                      | 0/5 [00:00<?, ?it/s]"
     ]
    },
    {
     "name": "stdout",
     "output_type": "stream",
     "text": [
      "Group 0 clients ['f_00188', 'f_00157', 'f_00107', 'f_00058', 'f_00077', 'f_00097', 'f_00118']\n",
      "Group 1 clients ['f_00092', 'f_00162', 'f_00101', 'f_00040']\n",
      "Group 2 clients ['f_00134', 'f_00163', 'f_00076', 'f_00095', 'f_00123', 'f_00155', 'f_00013', 'f_00187', 'f_00065']\n",
      "The groups difference are: [0.0, 0.0006071875377295921, 0.00032159669177211914]\n",
      "Group 0\n",
      "At round 154 accuracy: 0.7818181818181819\n",
      "At round 154 training accuracy: 0.7114967462039046\n",
      "At round 154 training loss: 0.8318966584453873\n",
      "Group 1\n",
      "At round 154 accuracy: 0.7368421052631579\n",
      "At round 154 training accuracy: 0.8580645161290322\n",
      "At round 154 training loss: 0.657571925655488\n",
      "Group 2\n",
      "At round 154 accuracy: 0.25510204081632654\n",
      "At round 154 training accuracy: 0.3071512309495897\n",
      "At round 154 training loss: 1.6620726166129252\n",
      "Begin group  0 training\n"
     ]
    },
    {
     "name": "stderr",
     "output_type": "stream",
     "text": [
      "Epoch:   0%|                                                                                      | 0/5 [00:00<?, ?it/s]"
     ]
    },
    {
     "name": "stdout",
     "output_type": "stream",
     "text": [
      "Begin group  1 training\n",
      "Begin group  2 training\n"
     ]
    },
    {
     "name": "stderr",
     "output_type": "stream",
     "text": [
      "Epoch:   0%|                                                                                      | 0/5 [00:00<?, ?it/s]"
     ]
    },
    {
     "name": "stdout",
     "output_type": "stream",
     "text": [
      "Group 0 clients ['f_00007', 'f_00199', 'f_00169', 'f_00157', 'f_00077', 'f_00127', 'f_00099']\n",
      "Group 1 clients ['f_00022', 'f_00130', 'f_00060', 'f_00155']\n",
      "Group 2 clients ['f_00045', 'f_00183', 'f_00083', 'f_00166', 'f_00125', 'f_00048', 'f_00065', 'f_00076', 'f_00035']\n",
      "The groups difference are: [0.0, 0.000745787855592539, 0.0005269684115901674]\n",
      "Group 0\n",
      "At round 155 accuracy: 0.8085106382978723\n",
      "At round 155 training accuracy: 0.5944584382871536\n",
      "At round 155 training loss: 1.0785054837726527\n",
      "Group 1\n",
      "At round 155 accuracy: 0.8\n",
      "At round 155 training accuracy: 0.5555555555555556\n",
      "At round 155 training loss: 1.2100426648926532\n",
      "Group 2\n",
      "At round 155 accuracy: 0.7162162162162162\n",
      "At round 155 training accuracy: 0.7527733755942948\n",
      "At round 155 training loss: 0.9532864558526718\n",
      "Begin group  0 training\n"
     ]
    },
    {
     "name": "stderr",
     "output_type": "stream",
     "text": [
      "Epoch:   0%|                                                                                      | 0/5 [00:00<?, ?it/s]"
     ]
    },
    {
     "name": "stdout",
     "output_type": "stream",
     "text": [
      "Begin group  1 training\n",
      "Begin group  2 training\n"
     ]
    },
    {
     "name": "stderr",
     "output_type": "stream",
     "text": [
      "Epoch:   0%|                                                                                      | 0/5 [00:00<?, ?it/s]"
     ]
    },
    {
     "name": "stdout",
     "output_type": "stream",
     "text": [
      "Group 0 clients ['f_00149', 'f_00099', 'f_00049', 'f_00018', 'f_00009', 'f_00019', 'f_00068']\n",
      "Group 1 clients ['f_00141', 'f_00050', 'f_00051', 'f_00161', 'f_00000', 'f_00072', 'f_00030', 'f_00132', 'f_00003']\n",
      "Group 2 clients ['f_00185', 'f_00144', 'f_00196', 'f_00077']\n",
      "The groups difference are: [0.0, 0.0004542489745404943, 0.000543584988966006]\n",
      "Group 0\n",
      "At round 156 accuracy: 0.8571428571428571\n",
      "At round 156 training accuracy: 0.8011204481792717\n",
      "At round 156 training loss: 0.6769491125221679\n",
      "Group 1\n",
      "At round 156 accuracy: 0.7\n",
      "At round 156 training accuracy: 0.852760736196319\n",
      "At round 156 training loss: 0.7332508373845574\n",
      "Group 2\n",
      "At round 156 accuracy: 0.6923076923076923\n",
      "At round 156 training accuracy: 0.6778846153846154\n",
      "At round 156 training loss: 0.9597663352122674\n",
      "Begin group  0 training\n"
     ]
    },
    {
     "name": "stderr",
     "output_type": "stream",
     "text": [
      "Epoch:   0%|                                                                                      | 0/5 [00:00<?, ?it/s]"
     ]
    },
    {
     "name": "stdout",
     "output_type": "stream",
     "text": [
      "Begin group  1 training\n"
     ]
    },
    {
     "name": "stderr",
     "output_type": "stream",
     "text": [
      "                                                                                                                        \r"
     ]
    },
    {
     "name": "stdout",
     "output_type": "stream",
     "text": [
      "Begin group  2 training\n",
      "Group 0 clients ['f_00087', 'f_00039', 'f_00199', 'f_00127', 'f_00178', 'f_00033']\n",
      "Group 1 clients ['f_00052', 'f_00060', 'f_00072', 'f_00171', 'f_00120', 'f_00040', 'f_00155', 'f_00151']\n",
      "Group 2 clients ['f_00103', 'f_00055', 'f_00094', 'f_00144', 'f_00123', 'f_00012']\n",
      "The groups difference are: [1.1102230246251565e-16, 0.0005201088386813657, 0.0005342920159688846]\n"
     ]
    },
    {
     "name": "stderr",
     "output_type": "stream",
     "text": [
      "Epoch:   0%|                                                                                      | 0/5 [00:00<?, ?it/s]"
     ]
    },
    {
     "name": "stdout",
     "output_type": "stream",
     "text": [
      "Group 0\n",
      "At round 157 accuracy: 0.6911764705882353\n",
      "At round 157 training accuracy: 0.6313993174061433\n",
      "At round 157 training loss: 1.1204830849536858\n",
      "Group 1\n",
      "At round 157 accuracy: 0.6779661016949152\n",
      "At round 157 training accuracy: 0.7227722772277227\n",
      "At round 157 training loss: 0.7515342181271846\n",
      "Group 2\n",
      "At round 157 accuracy: 0.45614035087719296\n",
      "At round 157 training accuracy: 0.39375\n",
      "At round 157 training loss: 1.4489373101542393\n",
      "Begin group  0 training\n"
     ]
    },
    {
     "name": "stderr",
     "output_type": "stream",
     "text": [
      "Epoch:   0%|                                                                                      | 0/5 [00:00<?, ?it/s]"
     ]
    },
    {
     "name": "stdout",
     "output_type": "stream",
     "text": [
      "Begin group  1 training\n"
     ]
    },
    {
     "name": "stderr",
     "output_type": "stream",
     "text": [
      "Epoch:   0%|                                                                                      | 0/5 [00:00<?, ?it/s]"
     ]
    },
    {
     "name": "stdout",
     "output_type": "stream",
     "text": [
      "Begin group  2 training\n"
     ]
    },
    {
     "name": "stderr",
     "output_type": "stream",
     "text": [
      "Epoch:   0%|                                                                                      | 0/5 [00:00<?, ?it/s]"
     ]
    },
    {
     "name": "stdout",
     "output_type": "stream",
     "text": [
      "Group 0 clients ['f_00149', 'f_00019', 'f_00128', 'f_00176', 'f_00126']\n",
      "Group 1 clients ['f_00161', 'f_00162', 'f_00102', 'f_00052', 'f_00190', 'f_00023', 'f_00003', 'f_00070']\n",
      "Group 2 clients ['f_00105', 'f_00185', 'f_00196', 'f_00077', 'f_00172', 'f_00096', 'f_00015']\n",
      "The groups difference are: [0.0, 0.0006879500668750538, 0.0007577339966495789]\n",
      "Group 0\n",
      "At round 158 accuracy: 0.5\n",
      "At round 158 training accuracy: 0.43558282208588955\n",
      "At round 158 training loss: 1.3725645966325069\n",
      "Group 1\n",
      "At round 158 accuracy: 0.6857142857142857\n",
      "At round 158 training accuracy: 0.7021040974529347\n",
      "At round 158 training loss: 0.8141169931207385\n",
      "Group 2\n",
      "At round 158 accuracy: 0.34285714285714286\n",
      "At round 158 training accuracy: 0.30847457627118646\n",
      "At round 158 training loss: 1.8888793676586475\n",
      "Begin group  0 training\n"
     ]
    },
    {
     "name": "stderr",
     "output_type": "stream",
     "text": [
      "Epoch:   0%|                                                                                      | 0/5 [00:00<?, ?it/s]"
     ]
    },
    {
     "name": "stdout",
     "output_type": "stream",
     "text": [
      "Begin group  1 training\n"
     ]
    },
    {
     "name": "stderr",
     "output_type": "stream",
     "text": [
      "Epoch:   0%|                                                                                      | 0/5 [00:00<?, ?it/s]"
     ]
    },
    {
     "name": "stdout",
     "output_type": "stream",
     "text": [
      "Begin group  2 training\n"
     ]
    },
    {
     "name": "stderr",
     "output_type": "stream",
     "text": [
      "Epoch:   0%|                                                                                      | 0/5 [00:00<?, ?it/s]"
     ]
    },
    {
     "name": "stdout",
     "output_type": "stream",
     "text": [
      "Group 0 clients ['f_00128', 'f_00097', 'f_00147', 'f_00038', 'f_00026', 'f_00176']\n",
      "Group 1 clients ['f_00061', 'f_00131', 'f_00151', 'f_00162', 'f_00022', 'f_00041', 'f_00100', 'f_00020']\n",
      "Group 2 clients ['f_00116', 'f_00184', 'f_00165', 'f_00014', 'f_00004', 'f_00012']\n",
      "The groups difference are: [1.1102230246251565e-16, 0.0005259841569567048, 0.00045393294351270264]\n",
      "Group 0\n",
      "At round 159 accuracy: 0.375\n",
      "At round 159 training accuracy: 0.44623655913978494\n",
      "At round 159 training loss: 1.3343358558993186\n",
      "Group 1\n",
      "At round 159 accuracy: 0.5957446808510638\n",
      "At round 159 training accuracy: 0.6781002638522428\n",
      "At round 159 training loss: 0.887544369162859\n",
      "Group 2\n",
      "At round 159 accuracy: 0.7857142857142857\n",
      "At round 159 training accuracy: 0.7816091954022989\n",
      "At round 159 training loss: 0.8266512037351214\n",
      "Begin group  0 training\n"
     ]
    },
    {
     "name": "stderr",
     "output_type": "stream",
     "text": [
      "Epoch:   0%|                                                                                      | 0/5 [00:00<?, ?it/s]"
     ]
    },
    {
     "name": "stdout",
     "output_type": "stream",
     "text": [
      "Begin group  1 training\n"
     ]
    },
    {
     "name": "stderr",
     "output_type": "stream",
     "text": [
      "Epoch:   0%|                                                                                      | 0/5 [00:00<?, ?it/s]"
     ]
    },
    {
     "name": "stdout",
     "output_type": "stream",
     "text": [
      "Begin group  2 training\n"
     ]
    },
    {
     "name": "stderr",
     "output_type": "stream",
     "text": [
      "Epoch:   0%|                                                                                      | 0/5 [00:00<?, ?it/s]"
     ]
    },
    {
     "name": "stdout",
     "output_type": "stream",
     "text": [
      "Group 0 clients ['f_00058', 'f_00149', 'f_00198', 'f_00148', 'f_00178', 'f_00079', 'f_00106']\n",
      "Group 1 clients ['f_00141', 'f_00021', 'f_00142', 'f_00081', 'f_00000', 'f_00139']\n",
      "Group 2 clients ['f_00184', 'f_00054', 'f_00064', 'f_00115', 'f_00196', 'f_00082', 'f_00057']\n",
      "The groups difference are: [2.220446049250313e-16, 0.0005791427763718326, 0.00040146877407643]\n",
      "Group 0\n",
      "At round 160 accuracy: 0.2702702702702703\n",
      "At round 160 training accuracy: 0.3377049180327869\n",
      "At round 160 training loss: 1.5130427018540804\n",
      "Group 1\n",
      "At round 160 accuracy: 0.5925925925925926\n",
      "At round 160 training accuracy: 0.7288888888888889\n",
      "At round 160 training loss: 0.7946361525853475\n",
      "Group 2\n",
      "At round 160 accuracy: 0.525\n",
      "At round 160 training accuracy: 0.6625\n",
      "At round 160 training loss: 0.9972032295539975\n",
      "Begin group  0 training\n"
     ]
    },
    {
     "name": "stderr",
     "output_type": "stream",
     "text": [
      "Epoch:   0%|                                                                                      | 0/5 [00:00<?, ?it/s]"
     ]
    },
    {
     "name": "stdout",
     "output_type": "stream",
     "text": [
      "Begin group  1 training\n",
      "Begin group  2 training\n"
     ]
    },
    {
     "name": "stderr",
     "output_type": "stream",
     "text": [
      "Epoch:   0%|                                                                                      | 0/5 [00:00<?, ?it/s]"
     ]
    },
    {
     "name": "stdout",
     "output_type": "stream",
     "text": [
      "Group 0 clients ['f_00176', 'f_00009', 'f_00149', 'f_00097', 'f_00098', 'f_00039', 'f_00137', 'f_00068', 'f_00117']\n",
      "Group 1 clients ['f_00101', 'f_00193', 'f_00133', 'f_00040', 'f_00180']\n",
      "Group 2 clients ['f_00124', 'f_00184', 'f_00175', 'f_00075', 'f_00055', 'f_00056']\n",
      "The groups difference are: [0.0, 0.0004378670812215102, 0.0005204675077468135]\n",
      "Group 0\n",
      "At round 161 accuracy: 0.6282051282051282\n",
      "At round 161 training accuracy: 0.6787330316742082\n",
      "At round 161 training loss: 0.8966836137289734\n",
      "Group 1\n",
      "At round 161 accuracy: 0.5945945945945946\n",
      "At round 161 training accuracy: 0.7417218543046358\n",
      "At round 161 training loss: 0.7774045950924324\n",
      "Group 2\n",
      "At round 161 accuracy: 0.8444444444444444\n",
      "At round 161 training accuracy: 0.8153846153846154\n",
      "At round 161 training loss: 0.7130927921869816\n",
      "Begin group  0 training\n"
     ]
    },
    {
     "name": "stderr",
     "output_type": "stream",
     "text": [
      "Epoch:   0%|                                                                                      | 0/5 [00:00<?, ?it/s]"
     ]
    },
    {
     "name": "stdout",
     "output_type": "stream",
     "text": [
      "Begin group  1 training\n"
     ]
    },
    {
     "name": "stderr",
     "output_type": "stream",
     "text": [
      "Epoch:   0%|                                                                                      | 0/5 [00:00<?, ?it/s]"
     ]
    },
    {
     "name": "stdout",
     "output_type": "stream",
     "text": [
      "Begin group  2 training\n"
     ]
    },
    {
     "name": "stderr",
     "output_type": "stream",
     "text": [
      "Epoch:   0%|                                                                                      | 0/5 [00:00<?, ?it/s]"
     ]
    },
    {
     "name": "stdout",
     "output_type": "stream",
     "text": [
      "Group 0 clients ['f_00018', 'f_00088', 'f_00057', 'f_00050']\n",
      "Group 1 clients ['f_00121', 'f_00180', 'f_00040', 'f_00001', 'f_00152', 'f_00010', 'f_00101', 'f_00182', 'f_00060']\n",
      "Group 2 clients ['f_00004', 'f_00025', 'f_00184', 'f_00064', 'f_00112', 'f_00172', 'f_00136']\n",
      "The groups difference are: [0.0, 0.0005305712282712705, 0.0006612950364195402]\n",
      "Group 0\n",
      "At round 162 accuracy: 0.8\n",
      "At round 162 training accuracy: 0.7280701754385965\n",
      "At round 162 training loss: 0.9670724740676713\n",
      "Group 1\n",
      "At round 162 accuracy: 0.7378640776699029\n",
      "At round 162 training accuracy: 0.7178051511758119\n",
      "At round 162 training loss: 0.8647680676063525\n",
      "Group 2\n",
      "At round 162 accuracy: 0.5441176470588235\n",
      "At round 162 training accuracy: 0.6137931034482759\n",
      "At round 162 training loss: 1.1699817081977582\n",
      "Begin group  0 training\n",
      "Begin group  1 training\n"
     ]
    },
    {
     "name": "stderr",
     "output_type": "stream",
     "text": [
      "Epoch:   0%|                                                                                      | 0/5 [00:00<?, ?it/s]"
     ]
    },
    {
     "name": "stdout",
     "output_type": "stream",
     "text": [
      "Begin group  2 training\n"
     ]
    },
    {
     "name": "stderr",
     "output_type": "stream",
     "text": [
      "Epoch:   0%|                                                                                      | 0/5 [00:00<?, ?it/s]"
     ]
    },
    {
     "name": "stdout",
     "output_type": "stream",
     "text": [
      "Group 0 clients ['f_00058', 'f_00079', 'f_00007', 'f_00157', 'f_00036']\n",
      "Group 1 clients ['f_00032', 'f_00020', 'f_00092', 'f_00052', 'f_00031', 'f_00150']\n",
      "Group 2 clients ['f_00014', 'f_00024', 'f_00166', 'f_00075', 'f_00112', 'f_00063', 'f_00085', 'f_00186', 'f_00082']\n",
      "The groups difference are: [0.0, 0.000450383878220717, 0.00046062986843775633]\n",
      "Group 0\n",
      "At round 163 accuracy: 0.625\n",
      "At round 163 training accuracy: 0.5608856088560885\n",
      "At round 163 training loss: 1.088023597903797\n",
      "Group 1\n",
      "At round 163 accuracy: 0.6136363636363636\n",
      "At round 163 training accuracy: 0.5963060686015831\n",
      "At round 163 training loss: 1.0023330690678318\n",
      "Group 2\n",
      "At round 163 accuracy: 0.796875\n",
      "At round 163 training accuracy: 0.7944954128440367\n",
      "At round 163 training loss: 0.8254202656789658\n",
      "Begin group  0 training\n"
     ]
    },
    {
     "name": "stderr",
     "output_type": "stream",
     "text": [
      "Epoch:   0%|                                                                                      | 0/5 [00:00<?, ?it/s]"
     ]
    },
    {
     "name": "stdout",
     "output_type": "stream",
     "text": [
      "Begin group  1 training\n"
     ]
    },
    {
     "name": "stderr",
     "output_type": "stream",
     "text": [
      "Epoch:   0%|                                                                                      | 0/5 [00:00<?, ?it/s]"
     ]
    },
    {
     "name": "stdout",
     "output_type": "stream",
     "text": [
      "Begin group  2 training\n"
     ]
    },
    {
     "name": "stderr",
     "output_type": "stream",
     "text": [
      "Epoch:   0%|                                                                                      | 0/5 [00:00<?, ?it/s]"
     ]
    },
    {
     "name": "stdout",
     "output_type": "stream",
     "text": [
      "Group 0 clients ['f_00197', 'f_00058', 'f_00189', 'f_00028', 'f_00176', 'f_00036']\n",
      "Group 1 clients ['f_00060', 'f_00122', 'f_00182', 'f_00003', 'f_00154', 'f_00143', 'f_00074']\n",
      "Group 2 clients ['f_00044', 'f_00174', 'f_00175', 'f_00145', 'f_00185', 'f_00194', 'f_00123']\n",
      "The groups difference are: [1.1102230246251565e-16, 0.0005431572045256905, 0.0004418715703581322]\n",
      "Group 0\n",
      "At round 164 accuracy: 0.6666666666666666\n",
      "At round 164 training accuracy: 0.8099688473520249\n",
      "At round 164 training loss: 0.8605577808302882\n",
      "Group 1\n",
      "At round 164 accuracy: 0.5873015873015873\n",
      "At round 164 training accuracy: 0.5655430711610487\n",
      "At round 164 training loss: 1.3038501380088177\n",
      "Group 2\n",
      "At round 164 accuracy: 0.863013698630137\n",
      "At round 164 training accuracy: 0.8677165354330708\n",
      "At round 164 training loss: 0.6461372991246501\n",
      "Begin group  0 training\n"
     ]
    },
    {
     "name": "stderr",
     "output_type": "stream",
     "text": [
      "Epoch:   0%|                                                                                      | 0/5 [00:00<?, ?it/s]"
     ]
    },
    {
     "name": "stdout",
     "output_type": "stream",
     "text": [
      "Begin group  1 training\n"
     ]
    },
    {
     "name": "stderr",
     "output_type": "stream",
     "text": [
      "Epoch:   0%|                                                                                      | 0/5 [00:00<?, ?it/s]"
     ]
    },
    {
     "name": "stdout",
     "output_type": "stream",
     "text": [
      "Begin group  2 training\n"
     ]
    },
    {
     "name": "stderr",
     "output_type": "stream",
     "text": [
      "Epoch:   0%|                                                                                      | 0/5 [00:00<?, ?it/s]"
     ]
    },
    {
     "name": "stdout",
     "output_type": "stream",
     "text": [
      "Group 0 clients ['f_00058', 'f_00009', 'f_00036', 'f_00106', 'f_00113']\n",
      "Group 1 clients ['f_00092', 'f_00132', 'f_00130', 'f_00062', 'f_00142', 'f_00060', 'f_00042', 'f_00080']\n",
      "Group 2 clients ['f_00156', 'f_00125', 'f_00165', 'f_00134', 'f_00094', 'f_00083', 'f_00112']\n",
      "The groups difference are: [0.0, 0.0005540741454738152, 0.0006182465758536315]\n",
      "Group 0\n",
      "At round 165 accuracy: 0.5263157894736842\n",
      "At round 165 training accuracy: 0.5821917808219178\n",
      "At round 165 training loss: 1.2633776901519462\n",
      "Group 1\n",
      "At round 165 accuracy: 0.7747035573122529\n",
      "At round 165 training accuracy: 0.7427552385198395\n",
      "At round 165 training loss: 0.6609819237270687\n",
      "Group 2\n",
      "At round 165 accuracy: 0.6481481481481481\n",
      "At round 165 training accuracy: 0.5607064017660044\n",
      "At round 165 training loss: 1.141195223163032\n",
      "Begin group  0 training\n",
      "Begin group  1 training\n"
     ]
    },
    {
     "name": "stderr",
     "output_type": "stream",
     "text": [
      "Epoch:   0%|                                                                                      | 0/5 [00:00<?, ?it/s]"
     ]
    },
    {
     "name": "stdout",
     "output_type": "stream",
     "text": [
      "Begin group  2 training\n"
     ]
    },
    {
     "name": "stderr",
     "output_type": "stream",
     "text": [
      "Epoch:   0%|                                                                                      | 0/5 [00:00<?, ?it/s]"
     ]
    },
    {
     "name": "stdout",
     "output_type": "stream",
     "text": [
      "Group 0 clients ['f_00169', 'f_00018', 'f_00069', 'f_00098', 'f_00159', 'f_00087', 'f_00189']\n",
      "Group 1 clients ['f_00002', 'f_00100', 'f_00170', 'f_00182', 'f_00181', 'f_00130', 'f_00121', 'f_00111']\n",
      "Group 2 clients ['f_00114', 'f_00054', 'f_00066', 'f_00176', 'f_00016']\n",
      "The groups difference are: [0.0, 0.0009226102504678035, 0.0002975880962263755]\n",
      "Group 0\n",
      "At round 166 accuracy: 0.7156862745098039\n",
      "At round 166 training accuracy: 0.7152542372881356\n",
      "At round 166 training loss: 1.052079971631368\n",
      "Group 1\n",
      "At round 166 accuracy: 0.48717948717948717\n",
      "At round 166 training accuracy: 0.5744047619047619\n",
      "At round 166 training loss: 1.8385636387836366\n",
      "Group 2\n",
      "At round 166 accuracy: 0.7407407407407407\n",
      "At round 166 training accuracy: 0.5352112676056338\n",
      "At round 166 training loss: 1.2012686178158147\n",
      "Begin group  0 training\n"
     ]
    },
    {
     "name": "stderr",
     "output_type": "stream",
     "text": [
      "Epoch:   0%|                                                                                      | 0/5 [00:00<?, ?it/s]"
     ]
    },
    {
     "name": "stdout",
     "output_type": "stream",
     "text": [
      "Begin group  1 training\n"
     ]
    },
    {
     "name": "stderr",
     "output_type": "stream",
     "text": [
      "                                                                                                                        \r"
     ]
    },
    {
     "name": "stdout",
     "output_type": "stream",
     "text": [
      "Begin group  2 training\n",
      "Group 0 clients ['f_00188', 'f_00027', 'f_00198', 'f_00019', 'f_00157', 'f_00033', 'f_00159', 'f_00199', 'f_00037']\n",
      "Group 1 clients ['f_00130', 'f_00041', 'f_00022', 'f_00182']\n",
      "Group 2 clients ['f_00045', 'f_00095', 'f_00063', 'f_00073', 'f_00096', 'f_00145', 'f_00136']\n",
      "The groups difference are: [0.0, 0.000822989735373536, 0.00048821859162551107]\n"
     ]
    },
    {
     "name": "stderr",
     "output_type": "stream",
     "text": [
      "Epoch:   0%|                                                                                      | 0/5 [00:00<?, ?it/s]"
     ]
    },
    {
     "name": "stdout",
     "output_type": "stream",
     "text": [
      "Group 0\n",
      "At round 167 accuracy: 0.6901408450704225\n",
      "At round 167 training accuracy: 0.7019867549668874\n",
      "At round 167 training loss: 0.9154852728377905\n",
      "Group 1\n",
      "At round 167 accuracy: 0.6666666666666666\n",
      "At round 167 training accuracy: 0.7701149425287356\n",
      "At round 167 training loss: 0.6201049462817181\n",
      "Group 2\n",
      "At round 167 accuracy: 0.5\n",
      "At round 167 training accuracy: 0.5357664233576642\n",
      "At round 167 training loss: 1.2996814884843617\n",
      "Begin group  0 training\n"
     ]
    },
    {
     "name": "stderr",
     "output_type": "stream",
     "text": [
      "Epoch:   0%|                                                                                      | 0/5 [00:00<?, ?it/s]"
     ]
    },
    {
     "name": "stdout",
     "output_type": "stream",
     "text": [
      "Begin group  1 training\n",
      "Begin group  2 training\n"
     ]
    },
    {
     "name": "stderr",
     "output_type": "stream",
     "text": [
      "Epoch:   0%|                                                                                      | 0/5 [00:00<?, ?it/s]"
     ]
    },
    {
     "name": "stdout",
     "output_type": "stream",
     "text": [
      "Group 0 clients ['f_00068', 'f_00049', 'f_00098', 'f_00190']\n",
      "Group 1 clients ['f_00003', 'f_00091', 'f_00170', 'f_00122', 'f_00093', 'f_00104', 'f_00100', 'f_00155']\n",
      "Group 2 clients ['f_00024', 'f_00125', 'f_00115', 'f_00175', 'f_00146', 'f_00114', 'f_00025', 'f_00112']\n",
      "The groups difference are: [-2.220446049250313e-16, 0.000610188605509876, 0.0005575575632188468]\n",
      "Group 0\n",
      "At round 168 accuracy: 0.7547169811320755\n",
      "At round 168 training accuracy: 0.7043478260869566\n",
      "At round 168 training loss: 0.8857701990915381\n",
      "Group 1\n",
      "At round 168 accuracy: 0.631578947368421\n",
      "At round 168 training accuracy: 0.6888619854721549\n",
      "At round 168 training loss: 0.9366221339520762\n",
      "Group 2\n",
      "At round 168 accuracy: 0.8157894736842105\n",
      "At round 168 training accuracy: 0.8256578947368421\n",
      "At round 168 training loss: 0.832641934289744\n",
      "Begin group  0 training\n"
     ]
    },
    {
     "name": "stderr",
     "output_type": "stream",
     "text": [
      "Epoch:   0%|                                                                                      | 0/5 [00:00<?, ?it/s]"
     ]
    },
    {
     "name": "stdout",
     "output_type": "stream",
     "text": [
      "Begin group  1 training\n"
     ]
    },
    {
     "name": "stderr",
     "output_type": "stream",
     "text": [
      "Epoch:   0%|                                                                                      | 0/5 [00:00<?, ?it/s]"
     ]
    },
    {
     "name": "stdout",
     "output_type": "stream",
     "text": [
      "Begin group  2 training\n"
     ]
    },
    {
     "name": "stderr",
     "output_type": "stream",
     "text": [
      "Epoch:   0%|                                                                                      | 0/5 [00:00<?, ?it/s]"
     ]
    },
    {
     "name": "stdout",
     "output_type": "stream",
     "text": [
      "Group 0 clients ['f_00177', 'f_00098', 'f_00018', 'f_00198', 'f_00168', 'f_00119', 'f_00126', 'f_00007']\n",
      "Group 1 clients ['f_00041', 'f_00051', 'f_00091', 'f_00008', 'f_00140', 'f_00110']\n",
      "Group 2 clients ['f_00016', 'f_00194', 'f_00114', 'f_00015', 'f_00160', 'f_00073']\n",
      "The groups difference are: [0.0, 0.0006476886999664533, 0.0006897366567764074]\n",
      "Group 0\n",
      "At round 169 accuracy: 0.7532467532467533\n",
      "At round 169 training accuracy: 0.6732522796352584\n",
      "At round 169 training loss: 0.9499438001482683\n",
      "Group 1\n",
      "At round 169 accuracy: 0.6\n",
      "At round 169 training accuracy: 0.7048192771084337\n",
      "At round 169 training loss: 0.8173423507306949\n",
      "Group 2\n",
      "At round 169 accuracy: 0.5392156862745098\n",
      "At round 169 training accuracy: 0.47796610169491527\n",
      "At round 169 training loss: 1.6924462882812414\n",
      "Begin group  0 training\n"
     ]
    },
    {
     "name": "stderr",
     "output_type": "stream",
     "text": [
      "Epoch:   0%|                                                                                      | 0/5 [00:00<?, ?it/s]"
     ]
    },
    {
     "name": "stdout",
     "output_type": "stream",
     "text": [
      "Begin group  1 training\n"
     ]
    },
    {
     "name": "stderr",
     "output_type": "stream",
     "text": [
      "Epoch:   0%|                                                                                      | 0/5 [00:00<?, ?it/s]"
     ]
    },
    {
     "name": "stdout",
     "output_type": "stream",
     "text": [
      "Begin group  2 training\n"
     ]
    },
    {
     "name": "stderr",
     "output_type": "stream",
     "text": [
      "Epoch:   0%|                                                                                      | 0/5 [00:00<?, ?it/s]"
     ]
    },
    {
     "name": "stdout",
     "output_type": "stream",
     "text": [
      "Group 0 clients ['f_00198', 'f_00118', 'f_00179', 'f_00007', 'f_00137']\n",
      "Group 1 clients ['f_00032', 'f_00091', 'f_00140', 'f_00113', 'f_00100']\n",
      "Group 2 clients ['f_00035', 'f_00005', 'f_00064', 'f_00105', 'f_00173', 'f_00123', 'f_00164', 'f_00136', 'f_00156', 'f_00053']\n",
      "The groups difference are: [1.1102230246251565e-16, 0.0006739089146976518, 0.0005142668497971625]\n",
      "Group 0\n",
      "At round 170 accuracy: 0.74\n",
      "At round 170 training accuracy: 0.7660550458715596\n",
      "At round 170 training loss: 0.7134877935462042\n",
      "Group 1\n",
      "At round 170 accuracy: 0.64\n",
      "At round 170 training accuracy: 0.7142857142857143\n",
      "At round 170 training loss: 0.7285049339926494\n",
      "Group 2\n",
      "At round 170 accuracy: 0.6344086021505376\n",
      "At round 170 training accuracy: 0.6672816728167281\n",
      "At round 170 training loss: 1.0875751866992256\n",
      "Begin group  0 training\n"
     ]
    },
    {
     "name": "stderr",
     "output_type": "stream",
     "text": [
      "Epoch:   0%|                                                                                      | 0/5 [00:00<?, ?it/s]"
     ]
    },
    {
     "name": "stdout",
     "output_type": "stream",
     "text": [
      "Begin group  1 training\n"
     ]
    },
    {
     "name": "stderr",
     "output_type": "stream",
     "text": [
      "Epoch:   0%|                                                                                      | 0/5 [00:00<?, ?it/s]"
     ]
    },
    {
     "name": "stdout",
     "output_type": "stream",
     "text": [
      "Begin group  2 training\n"
     ]
    },
    {
     "name": "stderr",
     "output_type": "stream",
     "text": [
      "Epoch:   0%|                                                                                      | 0/5 [00:00<?, ?it/s]"
     ]
    },
    {
     "name": "stdout",
     "output_type": "stream",
     "text": [
      "Group 0 clients ['f_00127', 'f_00019', 'f_00129', 'f_00117', 'f_00087', 'f_00190']\n",
      "Group 1 clients ['f_00161', 'f_00121', 'f_00151', 'f_00030', 'f_00091', 'f_00102', 'f_00142']\n",
      "Group 2 clients ['f_00176', 'f_00083', 'f_00164', 'f_00166', 'f_00196', 'f_00116', 'f_00096']\n",
      "The groups difference are: [1.1102230246251565e-16, 0.0006479879116751963, 0.0007562268731161614]\n",
      "Group 0\n",
      "At round 171 accuracy: 0.5294117647058824\n",
      "At round 171 training accuracy: 0.5202702702702703\n",
      "At round 171 training loss: 1.2709792471818022\n",
      "Group 1\n",
      "At round 171 accuracy: 0.6623376623376623\n",
      "At round 171 training accuracy: 0.7289156626506024\n",
      "At round 171 training loss: 0.7922548462288925\n",
      "Group 2\n",
      "At round 171 accuracy: 0.5571428571428572\n",
      "At round 171 training accuracy: 0.6183986371379898\n",
      "At round 171 training loss: 0.9518206443453566\n",
      "Begin group  0 training\n"
     ]
    },
    {
     "name": "stderr",
     "output_type": "stream",
     "text": [
      "Epoch:   0%|                                                                                      | 0/5 [00:00<?, ?it/s]"
     ]
    },
    {
     "name": "stdout",
     "output_type": "stream",
     "text": [
      "Begin group  1 training\n"
     ]
    },
    {
     "name": "stderr",
     "output_type": "stream",
     "text": [
      "Epoch:  60%|██████████████████████████████████████████████▊                               | 3/5 [00:00<00:00, 28.83it/s]"
     ]
    },
    {
     "name": "stdout",
     "output_type": "stream",
     "text": [
      "Begin group  2 training\n"
     ]
    },
    {
     "name": "stderr",
     "output_type": "stream",
     "text": [
      "                                                                                                                        "
     ]
    },
    {
     "name": "stdout",
     "output_type": "stream",
     "text": [
      "Group 0 clients ['f_00098', 'f_00049', 'f_00069', 'f_00139', 'f_00129']\n",
      "Group 1 clients ['f_00031', 'f_00102', 'f_00043', 'f_00032', 'f_00133', 'f_00150', 'f_00113']\n",
      "Group 2 clients ['f_00134', 'f_00044', 'f_00065', 'f_00146', 'f_00173', 'f_00096', 'f_00046', 'f_00024']\n",
      "The groups difference are: [0.0, 0.0007455735555649268, 0.0006892763392264412]\n",
      "Group 0\n",
      "At round 172 accuracy: 0.58\n",
      "At round 172 training accuracy: 0.5284738041002278\n",
      "At round 172 training loss: 1.0899052019814424\n",
      "Group 1\n",
      "At round 172 accuracy: 0.6428571428571429\n",
      "At round 172 training accuracy: 0.6837606837606838\n",
      "At round 172 training loss: 0.8321119177545238\n",
      "Group 2\n",
      "At round 172 accuracy: 0.5319148936170213\n",
      "At round 172 training accuracy: 0.6649350649350649\n",
      "At round 172 training loss: 0.8287013677033511\n",
      "Begin group  0 training\n"
     ]
    },
    {
     "name": "stderr",
     "output_type": "stream",
     "text": [
      "Epoch:   0%|                                                                                      | 0/5 [00:00<?, ?it/s]"
     ]
    },
    {
     "name": "stdout",
     "output_type": "stream",
     "text": [
      "Begin group  1 training\n"
     ]
    },
    {
     "name": "stderr",
     "output_type": "stream",
     "text": [
      "Epoch:   0%|                                                                                      | 0/5 [00:00<?, ?it/s]"
     ]
    },
    {
     "name": "stdout",
     "output_type": "stream",
     "text": [
      "Begin group  2 training\n"
     ]
    },
    {
     "name": "stderr",
     "output_type": "stream",
     "text": [
      "Epoch:   0%|                                                                                      | 0/5 [00:00<?, ?it/s]"
     ]
    },
    {
     "name": "stdout",
     "output_type": "stream",
     "text": [
      "Group 0 clients ['f_00198', 'f_00050', 'f_00009', 'f_00008']\n",
      "Group 1 clients ['f_00111', 'f_00001', 'f_00101', 'f_00110', 'f_00070', 'f_00043']\n",
      "Group 2 clients ['f_00125', 'f_00174', 'f_00024', 'f_00044', 'f_00183', 'f_00006', 'f_00056', 'f_00156', 'f_00012', 'f_00063']\n",
      "The groups difference are: [1.1102230246251565e-16, 0.0008149679169608959, 0.000753923200844886]\n",
      "Group 0\n",
      "At round 173 accuracy: 0.7647058823529411\n",
      "At round 173 training accuracy: 0.7132352941176471\n",
      "At round 173 training loss: 0.8827137912020964\n",
      "Group 1\n",
      "At round 173 accuracy: 0.45652173913043476\n",
      "At round 173 training accuracy: 0.44919786096256686\n",
      "At round 173 training loss: 1.5997651769196923\n",
      "Group 2\n",
      "At round 173 accuracy: 0.8125\n",
      "At round 173 training accuracy: 0.7794117647058824\n",
      "At round 173 training loss: 0.820707520214366\n",
      "Begin group  0 training\n",
      "Begin group  1 training\n"
     ]
    },
    {
     "name": "stderr",
     "output_type": "stream",
     "text": [
      "Epoch:   0%|                                                                                      | 0/5 [00:00<?, ?it/s]"
     ]
    },
    {
     "name": "stdout",
     "output_type": "stream",
     "text": [
      "Begin group  2 training\n"
     ]
    },
    {
     "name": "stderr",
     "output_type": "stream",
     "text": [
      "Epoch:   0%|                                                                                      | 0/5 [00:00<?, ?it/s]"
     ]
    },
    {
     "name": "stdout",
     "output_type": "stream",
     "text": [
      "Group 0 clients ['f_00147', 'f_00129', 'f_00079', 'f_00059']\n",
      "Group 1 clients ['f_00102', 'f_00021', 'f_00011', 'f_00070', 'f_00180', 'f_00030', 'f_00042', 'f_00101', 'f_00120']\n",
      "Group 2 clients ['f_00103', 'f_00134', 'f_00096', 'f_00035', 'f_00123', 'f_00053', 'f_00112']\n",
      "The groups difference are: [0.0, 0.00039461146316810414, 0.00058882881365796]\n",
      "Group 0\n",
      "At round 174 accuracy: 0.9166666666666666\n",
      "At round 174 training accuracy: 0.8\n",
      "At round 174 training loss: 0.6313047485473828\n",
      "Group 1\n",
      "At round 174 accuracy: 0.7358490566037735\n",
      "At round 174 training accuracy: 0.7199124726477024\n",
      "At round 174 training loss: 0.7905831559677353\n",
      "Group 2\n",
      "At round 174 accuracy: 0.7870370370370371\n",
      "At round 174 training accuracy: 0.7628205128205128\n",
      "At round 174 training loss: 0.8578449560281558\n",
      "Begin group  0 training\n"
     ]
    },
    {
     "name": "stderr",
     "output_type": "stream",
     "text": [
      "Epoch:   0%|                                                                                      | 0/5 [00:00<?, ?it/s]"
     ]
    },
    {
     "name": "stdout",
     "output_type": "stream",
     "text": [
      "Begin group  1 training\n"
     ]
    },
    {
     "name": "stderr",
     "output_type": "stream",
     "text": [
      "Epoch:   0%|                                                                                      | 0/5 [00:00<?, ?it/s]"
     ]
    },
    {
     "name": "stdout",
     "output_type": "stream",
     "text": [
      "Begin group  2 training\n"
     ]
    },
    {
     "name": "stderr",
     "output_type": "stream",
     "text": [
      "Epoch:   0%|                                                                                      | 0/5 [00:00<?, ?it/s]"
     ]
    },
    {
     "name": "stdout",
     "output_type": "stream",
     "text": [
      "Group 0 clients ['f_00127', 'f_00198', 'f_00178', 'f_00139', 'f_00126', 'f_00087', 'f_00167', 'f_00017', 'f_00029']\n",
      "Group 1 clients ['f_00182', 'f_00030', 'f_00070', 'f_00170', 'f_00002', 'f_00152']\n",
      "Group 2 clients ['f_00115', 'f_00044', 'f_00045', 'f_00186', 'f_00016']\n",
      "The groups difference are: [0.0, 0.00039983251772190975, 0.000846225243907206]\n",
      "Group 0\n",
      "At round 175 accuracy: 0.410958904109589\n",
      "At round 175 training accuracy: 0.4069952305246423\n",
      "At round 175 training loss: 2.0043105135282384\n",
      "Group 1\n",
      "At round 175 accuracy: 0.7428571428571429\n",
      "At round 175 training accuracy: 0.6694352159468439\n",
      "At round 175 training loss: 0.8067253599333208\n",
      "Group 2\n",
      "At round 175 accuracy: 0.2916666666666667\n",
      "At round 175 training accuracy: 0.3489583333333333\n",
      "At round 175 training loss: 1.6335033404951294\n",
      "Begin group  0 training\n"
     ]
    },
    {
     "name": "stderr",
     "output_type": "stream",
     "text": [
      "Epoch:   0%|                                                                                      | 0/5 [00:00<?, ?it/s]"
     ]
    },
    {
     "name": "stdout",
     "output_type": "stream",
     "text": [
      "Begin group  1 training\n"
     ]
    },
    {
     "name": "stderr",
     "output_type": "stream",
     "text": [
      "                                                                                                                        \r"
     ]
    },
    {
     "name": "stdout",
     "output_type": "stream",
     "text": [
      "Begin group  2 training\n",
      "Group 0 clients ['f_00118', 'f_00188', 'f_00028', 'f_00087', 'f_00197', 'f_00029', 'f_00039', 'f_00198', 'f_00097']\n",
      "Group 1 clients ['f_00032', 'f_00072', 'f_00171', 'f_00180', 'f_00162', 'f_00071']\n",
      "Group 2 clients ['f_00094', 'f_00056', 'f_00185', 'f_00132', 'f_00160']\n",
      "The groups difference are: [2.220446049250313e-16, 0.0006937352890969972, 0.0005378573270813369]\n"
     ]
    },
    {
     "name": "stderr",
     "output_type": "stream",
     "text": [
      "Epoch:   0%|                                                                                      | 0/5 [00:00<?, ?it/s]"
     ]
    },
    {
     "name": "stdout",
     "output_type": "stream",
     "text": [
      "Group 0\n",
      "At round 176 accuracy: 0.6947368421052632\n",
      "At round 176 training accuracy: 0.7047387606318347\n",
      "At round 176 training loss: 0.8294776850453559\n",
      "Group 1\n",
      "At round 176 accuracy: 0.6538461538461539\n",
      "At round 176 training accuracy: 0.7057522123893806\n",
      "At round 176 training loss: 0.6847794489786688\n",
      "Group 2\n",
      "At round 176 accuracy: 0.3235294117647059\n",
      "At round 176 training accuracy: 0.30344827586206896\n",
      "At round 176 training loss: 2.162782006839226\n",
      "Begin group  0 training\n"
     ]
    },
    {
     "name": "stderr",
     "output_type": "stream",
     "text": [
      "Epoch:   0%|                                                                                      | 0/5 [00:00<?, ?it/s]"
     ]
    },
    {
     "name": "stdout",
     "output_type": "stream",
     "text": [
      "Begin group  1 training\n"
     ]
    },
    {
     "name": "stderr",
     "output_type": "stream",
     "text": [
      "Epoch:   0%|                                                                                      | 0/5 [00:00<?, ?it/s]"
     ]
    },
    {
     "name": "stdout",
     "output_type": "stream",
     "text": [
      "Begin group  2 training\n"
     ]
    },
    {
     "name": "stderr",
     "output_type": "stream",
     "text": [
      "Epoch:   0%|                                                                                      | 0/5 [00:00<?, ?it/s]"
     ]
    },
    {
     "name": "stdout",
     "output_type": "stream",
     "text": [
      "Group 0 clients ['f_00018', 'f_00017', 'f_00069', 'f_00037', 'f_00033', 'f_00089', 'f_00126', 'f_00189']\n",
      "Group 1 clients ['f_00100', 'f_00003', 'f_00111', 'f_00154']\n",
      "Group 2 clients ['f_00175', 'f_00055', 'f_00165', 'f_00014', 'f_00105', 'f_00194', 'f_00144', 'f_00173']\n",
      "The groups difference are: [-2.220446049250313e-16, 0.000716682431886273, 0.0005259117897478127]\n",
      "Group 0\n",
      "At round 177 accuracy: 0.6666666666666666\n",
      "At round 177 training accuracy: 0.6242424242424243\n",
      "At round 177 training loss: 1.067179432541433\n",
      "Group 1\n",
      "At round 177 accuracy: 0.4634146341463415\n",
      "At round 177 training accuracy: 0.44508670520231214\n",
      "At round 177 training loss: 1.6851645323927003\n",
      "Group 2\n",
      "At round 177 accuracy: 0.125\n",
      "At round 177 training accuracy: 0.15955473098330242\n",
      "At round 177 training loss: 1.9554441804567384\n",
      "Begin group  0 training\n"
     ]
    },
    {
     "name": "stderr",
     "output_type": "stream",
     "text": [
      "Epoch:   0%|                                                                                      | 0/5 [00:00<?, ?it/s]"
     ]
    },
    {
     "name": "stdout",
     "output_type": "stream",
     "text": [
      "Begin group  1 training\n"
     ]
    },
    {
     "name": "stderr",
     "output_type": "stream",
     "text": [
      "Epoch:   0%|                                                                                      | 0/5 [00:00<?, ?it/s]"
     ]
    },
    {
     "name": "stdout",
     "output_type": "stream",
     "text": [
      "Begin group  2 training\n"
     ]
    },
    {
     "name": "stderr",
     "output_type": "stream",
     "text": [
      "Epoch:   0%|                                                                                      | 0/5 [00:00<?, ?it/s]"
     ]
    },
    {
     "name": "stdout",
     "output_type": "stream",
     "text": [
      "Group 0 clients ['f_00188', 'f_00099', 'f_00097', 'f_00069', 'f_00138', 'f_00087', 'f_00137', 'f_00126', 'f_00157', 'f_00038']\n",
      "Group 1 clients ['f_00022', 'f_00071', 'f_00122', 'f_00001']\n",
      "Group 2 clients ['f_00103', 'f_00115', 'f_00045', 'f_00053', 'f_00166', 'f_00195']\n",
      "The groups difference are: [0.0, 0.00043494932704923883, 0.0006022266724958758]\n",
      "Group 0\n",
      "At round 178 accuracy: 0.6506024096385542\n",
      "At round 178 training accuracy: 0.6489510489510489\n",
      "At round 178 training loss: 0.9124758238142187\n",
      "Group 1\n",
      "At round 178 accuracy: 0.7560975609756098\n",
      "At round 178 training accuracy: 0.7102272727272727\n",
      "At round 178 training loss: 0.9505081127651713\n",
      "Group 2\n",
      "At round 178 accuracy: 0.703125\n",
      "At round 178 training accuracy: 0.6211849192100538\n",
      "At round 178 training loss: 1.0634842844582975\n",
      "Begin group  0 training\n"
     ]
    },
    {
     "name": "stderr",
     "output_type": "stream",
     "text": [
      "Epoch:  80%|██████████████████████████████████████████████████████████████▍               | 4/5 [00:00<00:00, 35.92it/s]"
     ]
    },
    {
     "name": "stdout",
     "output_type": "stream",
     "text": [
      "Begin group  1 training\n"
     ]
    },
    {
     "name": "stderr",
     "output_type": "stream",
     "text": [
      "Epoch:   0%|                                                                                      | 0/5 [00:00<?, ?it/s]"
     ]
    },
    {
     "name": "stdout",
     "output_type": "stream",
     "text": [
      "Begin group  2 training\n"
     ]
    },
    {
     "name": "stderr",
     "output_type": "stream",
     "text": [
      "Epoch:  80%|██████████████████████████████████████████████████████████████▍               | 4/5 [00:00<00:00, 37.32it/s]"
     ]
    },
    {
     "name": "stdout",
     "output_type": "stream",
     "text": [
      "Group 0 clients ['f_00008', 'f_00098', 'f_00067', 'f_00007', 'f_00177']\n",
      "Group 1 clients ['f_00122', 'f_00141', 'f_00192', 'f_00031', 'f_00154', 'f_00150', 'f_00109']\n",
      "Group 2 clients ['f_00024', 'f_00064', 'f_00065', 'f_00034', 'f_00134', 'f_00187', 'f_00185', 'f_00083']\n",
      "The groups difference are: [0.0, 0.0008649987166950979, 0.00074951144080182]\n",
      "Group 0\n",
      "At round 179 accuracy: 0.75\n",
      "At round 179 training accuracy: 0.7710219922380336\n",
      "At round 179 training loss: 0.7013606784568875\n",
      "Group 1\n",
      "At round 179 accuracy: 0.6721311475409836\n",
      "At round 179 training accuracy: 0.650853889943074\n",
      "At round 179 training loss: 1.0725553090590454\n",
      "Group 2\n",
      "At round 179 accuracy: 0.5769230769230769\n",
      "At round 179 training accuracy: 0.5677570093457944\n",
      "At round 179 training loss: 1.1845433311623947\n",
      "Begin group  0 training\n"
     ]
    },
    {
     "name": "stderr",
     "output_type": "stream",
     "text": [
      "Epoch:   0%|                                                                                      | 0/5 [00:00<?, ?it/s]"
     ]
    },
    {
     "name": "stdout",
     "output_type": "stream",
     "text": [
      "Begin group  1 training\n"
     ]
    },
    {
     "name": "stderr",
     "output_type": "stream",
     "text": [
      "Epoch:   0%|                                                                                      | 0/5 [00:00<?, ?it/s]"
     ]
    },
    {
     "name": "stdout",
     "output_type": "stream",
     "text": [
      "Begin group  2 training\n"
     ]
    },
    {
     "name": "stderr",
     "output_type": "stream",
     "text": [
      "Epoch:   0%|                                                                                      | 0/5 [00:00<?, ?it/s]"
     ]
    },
    {
     "name": "stdout",
     "output_type": "stream",
     "text": [
      "Group 0 clients ['f_00106', 'f_00057', 'f_00017', 'f_00187']\n",
      "Group 1 clients ['f_00041', 'f_00161', 'f_00061', 'f_00001', 'f_00141', 'f_00102', 'f_00020', 'f_00072']\n",
      "Group 2 clients ['f_00103', 'f_00014', 'f_00165', 'f_00116', 'f_00132', 'f_00195', 'f_00015', 'f_00173']\n",
      "The groups difference are: [0.0, 0.000872826534348059, 0.0007191729240911826]\n",
      "Group 0\n",
      "At round 180 accuracy: 0.5384615384615384\n",
      "At round 180 training accuracy: 0.8421052631578947\n",
      "At round 180 training loss: 0.5742033644726402\n",
      "Group 1\n",
      "At round 180 accuracy: 0.6851851851851852\n",
      "At round 180 training accuracy: 0.7741228070175439\n",
      "At round 180 training loss: 0.6988423715688681\n",
      "Group 2\n",
      "At round 180 accuracy: 0.7678571428571429\n",
      "At round 180 training accuracy: 0.7733050847457628\n",
      "At round 180 training loss: 0.7650400739857706\n",
      "Begin group  0 training\n",
      "Begin group  1 training\n"
     ]
    },
    {
     "name": "stderr",
     "output_type": "stream",
     "text": [
      "Epoch:   0%|                                                                                      | 0/5 [00:00<?, ?it/s]"
     ]
    },
    {
     "name": "stdout",
     "output_type": "stream",
     "text": [
      "Begin group  2 training\n"
     ]
    },
    {
     "name": "stderr",
     "output_type": "stream",
     "text": [
      "                                                                                                                        "
     ]
    },
    {
     "name": "stdout",
     "output_type": "stream",
     "text": [
      "Group 0 clients ['f_00137', 'f_00189', 'f_00116', 'f_00166']\n",
      "Group 1 clients ['f_00052', 'f_00142', 'f_00002', 'f_00083', 'f_00104', 'f_00154']\n",
      "Group 2 clients ['f_00066', 'f_00024', 'f_00064', 'f_00084', 'f_00073', 'f_00114', 'f_00195', 'f_00176', 'f_00013', 'f_00004']\n",
      "The groups difference are: [0.0, 0.0007470707271095556, 0.0005131776278491929]\n",
      "Group 0\n",
      "At round 181 accuracy: 0.5333333333333333\n",
      "At round 181 training accuracy: 0.5060240963855421\n",
      "At round 181 training loss: 1.4841021543525788\n",
      "Group 1\n",
      "At round 181 accuracy: 0.6617647058823529\n",
      "At round 181 training accuracy: 0.7341337907375644\n",
      "At round 181 training loss: 0.8101380554316997\n",
      "Group 2\n",
      "At round 181 accuracy: 0.8160919540229885\n",
      "At round 181 training accuracy: 0.7901234567901234\n",
      "At round 181 training loss: 0.7767293402523988\n",
      "Begin group  0 training\n"
     ]
    },
    {
     "name": "stderr",
     "output_type": "stream",
     "text": [
      "Epoch:   0%|                                                                                      | 0/5 [00:00<?, ?it/s]"
     ]
    },
    {
     "name": "stdout",
     "output_type": "stream",
     "text": [
      "Begin group  1 training\n"
     ]
    },
    {
     "name": "stderr",
     "output_type": "stream",
     "text": [
      "Epoch:   0%|                                                                                      | 0/5 [00:00<?, ?it/s]"
     ]
    },
    {
     "name": "stdout",
     "output_type": "stream",
     "text": [
      "Begin group  2 training\n"
     ]
    },
    {
     "name": "stderr",
     "output_type": "stream",
     "text": [
      "Epoch:   0%|                                                                                      | 0/5 [00:00<?, ?it/s]"
     ]
    },
    {
     "name": "stdout",
     "output_type": "stream",
     "text": [
      "Group 0 clients ['f_00159', 'f_00138', 'f_00149', 'f_00048', 'f_00166']\n",
      "Group 1 clients ['f_00192', 'f_00181', 'f_00171', 'f_00120', 'f_00041', 'f_00070', 'f_00104', 'f_00011', 'f_00155']\n",
      "Group 2 clients ['f_00134', 'f_00146', 'f_00194', 'f_00164', 'f_00045', 'f_00176']\n",
      "The groups difference are: [2.220446049250313e-16, 0.0006051638818005411, 0.0005240999175291083]\n",
      "Group 0\n",
      "At round 182 accuracy: 0.76\n",
      "At round 182 training accuracy: 0.7272727272727273\n",
      "At round 182 training loss: 0.8352198175836408\n",
      "Group 1\n",
      "At round 182 accuracy: 0.3382352941176471\n",
      "At round 182 training accuracy: 0.3554006968641115\n",
      "At round 182 training loss: 1.8179550908687638\n",
      "Group 2\n",
      "At round 182 accuracy: 0.7402597402597403\n",
      "At round 182 training accuracy: 0.7948328267477204\n",
      "At round 182 training loss: 0.6325893749038499\n",
      "Begin group  0 training\n"
     ]
    },
    {
     "name": "stderr",
     "output_type": "stream",
     "text": [
      "Epoch:   0%|                                                                                      | 0/5 [00:00<?, ?it/s]"
     ]
    },
    {
     "name": "stdout",
     "output_type": "stream",
     "text": [
      "Begin group  1 training\n"
     ]
    },
    {
     "name": "stderr",
     "output_type": "stream",
     "text": [
      "Epoch:   0%|                                                                                      | 0/5 [00:00<?, ?it/s]"
     ]
    },
    {
     "name": "stdout",
     "output_type": "stream",
     "text": [
      "Begin group  2 training\n"
     ]
    },
    {
     "name": "stderr",
     "output_type": "stream",
     "text": [
      "Epoch:   0%|                                                                                      | 0/5 [00:00<?, ?it/s]"
     ]
    },
    {
     "name": "stdout",
     "output_type": "stream",
     "text": [
      "Group 0 clients ['f_00059', 'f_00108', 'f_00198', 'f_00089', 'f_00158', 'f_00049', 'f_00058', 'f_00069', 'f_00139', 'f_00036', 'f_00126']\n",
      "Group 1 clients ['f_00170', 'f_00000', 'f_00130', 'f_00100', 'f_00020']\n",
      "Group 2 clients ['f_00124', 'f_00055', 'f_00076', 'f_00154']\n",
      "The groups difference are: [-2.220446049250313e-16, 0.00037333251286708613, 0.0007131147490602174]\n",
      "Group 0\n",
      "At round 183 accuracy: 0.8\n",
      "At round 183 training accuracy: 0.7169117647058824\n",
      "At round 183 training loss: 0.780780602575225\n",
      "Group 1\n",
      "At round 183 accuracy: 0.7435897435897436\n",
      "At round 183 training accuracy: 0.7657657657657657\n",
      "At round 183 training loss: 0.6319320367442237\n",
      "Group 2\n",
      "At round 183 accuracy: 0.6\n",
      "At round 183 training accuracy: 0.6209523809523809\n",
      "At round 183 training loss: 1.2187241704123362\n",
      "Begin group  0 training\n"
     ]
    },
    {
     "name": "stderr",
     "output_type": "stream",
     "text": [
      "Epoch:   0%|                                                                                      | 0/5 [00:00<?, ?it/s]"
     ]
    },
    {
     "name": "stdout",
     "output_type": "stream",
     "text": [
      "Begin group  1 training\n"
     ]
    },
    {
     "name": "stderr",
     "output_type": "stream",
     "text": [
      "Epoch:   0%|                                                                                      | 0/5 [00:00<?, ?it/s]"
     ]
    },
    {
     "name": "stdout",
     "output_type": "stream",
     "text": [
      "Begin group  2 training\n"
     ]
    },
    {
     "name": "stderr",
     "output_type": "stream",
     "text": [
      "Epoch:   0%|                                                                                      | 0/5 [00:00<?, ?it/s]"
     ]
    },
    {
     "name": "stdout",
     "output_type": "stream",
     "text": [
      "Group 0 clients ['f_00079', 'f_00097', 'f_00198', 'f_00078', 'f_00126', 'f_00138', 'f_00039', 'f_00036', 'f_00188']\n",
      "Group 1 clients ['f_00000', 'f_00181', 'f_00139', 'f_00104']\n",
      "Group 2 clients ['f_00194', 'f_00165', 'f_00014', 'f_00186', 'f_00063', 'f_00066', 'f_00105']\n",
      "The groups difference are: [0.0, 0.0003993419720187408, 0.0005503050206956406]\n",
      "Group 0\n",
      "At round 184 accuracy: 0.6666666666666666\n",
      "At round 184 training accuracy: 0.7002583979328165\n",
      "At round 184 training loss: 0.8570964093048136\n",
      "Group 1\n",
      "At round 184 accuracy: 0.4444444444444444\n",
      "At round 184 training accuracy: 0.532051282051282\n",
      "At round 184 training loss: 1.4847623287485197\n",
      "Group 2\n",
      "At round 184 accuracy: 0.6756756756756757\n",
      "At round 184 training accuracy: 0.667192429022082\n",
      "At round 184 training loss: 0.8278592902027094\n",
      "Begin group  0 training\n"
     ]
    },
    {
     "name": "stderr",
     "output_type": "stream",
     "text": [
      "Epoch:   0%|                                                                                      | 0/5 [00:00<?, ?it/s]"
     ]
    },
    {
     "name": "stdout",
     "output_type": "stream",
     "text": [
      "Begin group  1 training\n",
      "Begin group  2 training\n"
     ]
    },
    {
     "name": "stderr",
     "output_type": "stream",
     "text": [
      "Epoch:   0%|                                                                                      | 0/5 [00:00<?, ?it/s]"
     ]
    },
    {
     "name": "stdout",
     "output_type": "stream",
     "text": [
      "Group 0 clients ['f_00198', 'f_00039', 'f_00069', 'f_00050', 'f_00036', 'f_00179']\n",
      "Group 1 clients ['f_00081', 'f_00101', 'f_00141', 'f_00122', 'f_00070', 'f_00191']\n",
      "Group 2 clients ['f_00034', 'f_00024', 'f_00095', 'f_00016', 'f_00175', 'f_00015', 'f_00145', 'f_00124']\n",
      "The groups difference are: [1.1102230246251565e-16, 0.00027303122294308757, 0.0004911530608088244]\n",
      "Group 0\n",
      "At round 185 accuracy: 0.8108108108108109\n",
      "At round 185 training accuracy: 0.7652733118971061\n",
      "At round 185 training loss: 0.8307384198884872\n",
      "Group 1\n",
      "At round 185 accuracy: 0.8831168831168831\n",
      "At round 185 training accuracy: 0.7484939759036144\n",
      "At round 185 training loss: 0.8417001482413475\n",
      "Group 2\n",
      "At round 185 accuracy: 0.9464285714285714\n",
      "At round 185 training accuracy: 0.8220338983050848\n",
      "At round 185 training loss: 0.5725515678019847\n",
      "Begin group  0 training\n"
     ]
    },
    {
     "name": "stderr",
     "output_type": "stream",
     "text": [
      "Epoch:   0%|                                                                                      | 0/5 [00:00<?, ?it/s]"
     ]
    },
    {
     "name": "stdout",
     "output_type": "stream",
     "text": [
      "Begin group  1 training\n"
     ]
    },
    {
     "name": "stderr",
     "output_type": "stream",
     "text": [
      "                                                                                                                        "
     ]
    },
    {
     "name": "stdout",
     "output_type": "stream",
     "text": [
      "Begin group  2 training\n"
     ]
    },
    {
     "name": "stderr",
     "output_type": "stream",
     "text": [
      "Epoch:   0%|                                                                                      | 0/5 [00:00<?, ?it/s]"
     ]
    },
    {
     "name": "stdout",
     "output_type": "stream",
     "text": [
      "Group 0 clients ['f_00167', 'f_00138', 'f_00028', 'f_00049', 'f_00087', 'f_00019', 'f_00037']\n",
      "Group 1 clients ['f_00061', 'f_00130', 'f_00040', 'f_00151', 'f_00131', 'f_00041', 'f_00102', 'f_00031', 'f_00001']\n",
      "Group 2 clients ['f_00064', 'f_00006', 'f_00160', 'f_00054']\n",
      "The groups difference are: [-2.220446049250313e-16, 0.00038854182677305893, 0.00055712211783987]\n",
      "Group 0\n",
      "At round 186 accuracy: 0.4864864864864865\n",
      "At round 186 training accuracy: 0.5608628659476117\n",
      "At round 186 training loss: 1.2364673377552826\n",
      "Group 1\n",
      "At round 186 accuracy: 0.7872340425531915\n",
      "At round 186 training accuracy: 0.8153034300791556\n",
      "At round 186 training loss: 0.57847508599387\n",
      "Group 2\n",
      "At round 186 accuracy: 0.2545454545454545\n",
      "At round 186 training accuracy: 0.19238900634249473\n",
      "At round 186 training loss: 2.739866342781462\n",
      "Begin group  0 training\n"
     ]
    },
    {
     "name": "stderr",
     "output_type": "stream",
     "text": [
      "Epoch:   0%|                                                                                      | 0/5 [00:00<?, ?it/s]"
     ]
    },
    {
     "name": "stdout",
     "output_type": "stream",
     "text": [
      "Begin group  1 training\n"
     ]
    },
    {
     "name": "stderr",
     "output_type": "stream",
     "text": [
      "Epoch:   0%|                                                                                      | 0/5 [00:00<?, ?it/s]"
     ]
    },
    {
     "name": "stdout",
     "output_type": "stream",
     "text": [
      "Begin group  2 training\n"
     ]
    },
    {
     "name": "stderr",
     "output_type": "stream",
     "text": [
      "Epoch:   0%|                                                                                      | 0/5 [00:00<?, ?it/s]"
     ]
    },
    {
     "name": "stdout",
     "output_type": "stream",
     "text": [
      "Group 0 clients ['f_00108', 'f_00198', 'f_00049', 'f_00070']\n",
      "Group 1 clients ['f_00020', 'f_00062', 'f_00102', 'f_00120', 'f_00109', 'f_00080', 'f_00052', 'f_00193', 'f_00192']\n",
      "Group 2 clients ['f_00046', 'f_00044', 'f_00183', 'f_00023', 'f_00176', 'f_00136', 'f_00076']\n",
      "The groups difference are: [1.1102230246251565e-16, 0.00074122083300876, 0.0005477134630076375]\n",
      "Group 0\n",
      "At round 187 accuracy: 0.3125\n",
      "At round 187 training accuracy: 0.2798053527980535\n",
      "At round 187 training loss: 1.82404314209945\n",
      "Group 1\n",
      "At round 187 accuracy: 0.7953020134228188\n",
      "At round 187 training accuracy: 0.8181474480151228\n",
      "At round 187 training loss: 0.5356469151541056\n",
      "Group 2\n",
      "At round 187 accuracy: 0.02702702702702703\n",
      "At round 187 training accuracy: 0.03627760252365931\n",
      "At round 187 training loss: 2.6290305751355287\n",
      "Begin group  0 training\n"
     ]
    },
    {
     "name": "stderr",
     "output_type": "stream",
     "text": [
      "Epoch:   0%|                                                                                      | 0/5 [00:00<?, ?it/s]"
     ]
    },
    {
     "name": "stdout",
     "output_type": "stream",
     "text": [
      "Begin group  1 training\n"
     ]
    },
    {
     "name": "stderr",
     "output_type": "stream",
     "text": [
      "Epoch:   0%|                                                                                      | 0/5 [00:00<?, ?it/s]"
     ]
    },
    {
     "name": "stdout",
     "output_type": "stream",
     "text": [
      "Begin group  2 training\n"
     ]
    },
    {
     "name": "stderr",
     "output_type": "stream",
     "text": [
      "Epoch:   0%|                                                                                      | 0/5 [00:00<?, ?it/s]"
     ]
    },
    {
     "name": "stdout",
     "output_type": "stream",
     "text": [
      "Group 0 clients ['f_00129', 'f_00158', 'f_00087', 'f_00169', 'f_00079']\n",
      "Group 1 clients ['f_00100', 'f_00091', 'f_00061', 'f_00191', 'f_00152', 'f_00060', 'f_00083', 'f_00109', 'f_00003', 'f_00010']\n",
      "Group 2 clients ['f_00015', 'f_00004', 'f_00163', 'f_00073', 'f_00082']\n",
      "The groups difference are: [0.0, 0.0007983950736774048, 0.00045276807391014806]\n",
      "Group 0\n",
      "At round 188 accuracy: 0.609375\n",
      "At round 188 training accuracy: 0.5017857142857143\n",
      "At round 188 training loss: 1.4094523069049631\n",
      "Group 1\n",
      "At round 188 accuracy: 0.46938775510204084\n",
      "At round 188 training accuracy: 0.5353293413173653\n",
      "At round 188 training loss: 1.799015910861021\n",
      "Group 2\n",
      "At round 188 accuracy: 0.3939393939393939\n",
      "At round 188 training accuracy: 0.4603174603174603\n",
      "At round 188 training loss: 1.3963864381561415\n",
      "Begin group  0 training\n"
     ]
    },
    {
     "name": "stderr",
     "output_type": "stream",
     "text": [
      "Epoch:   0%|                                                                                      | 0/5 [00:00<?, ?it/s]"
     ]
    },
    {
     "name": "stdout",
     "output_type": "stream",
     "text": [
      "Begin group  1 training\n"
     ]
    },
    {
     "name": "stderr",
     "output_type": "stream",
     "text": [
      "Epoch:   0%|                                                                                      | 0/5 [00:00<?, ?it/s]"
     ]
    },
    {
     "name": "stdout",
     "output_type": "stream",
     "text": [
      "Begin group  2 training\n"
     ]
    },
    {
     "name": "stderr",
     "output_type": "stream",
     "text": [
      "Epoch:   0%|                                                                                      | 0/5 [00:00<?, ?it/s]"
     ]
    },
    {
     "name": "stdout",
     "output_type": "stream",
     "text": [
      "Group 0 clients ['f_00037', 'f_00106', 'f_00027', 'f_00198']\n",
      "Group 1 clients ['f_00142', 'f_00002', 'f_00133', 'f_00091', 'f_00043', 'f_00111', 'f_00130', 'f_00180', 'f_00071']\n",
      "Group 2 clients ['f_00163', 'f_00114', 'f_00053', 'f_00136', 'f_00075', 'f_00077', 'f_00012']\n",
      "The groups difference are: [1.1102230246251565e-16, 0.000668167116078533, 0.0006856610187497836]\n",
      "Group 0\n",
      "At round 189 accuracy: 0.6296296296296297\n",
      "At round 189 training accuracy: 0.7777777777777778\n",
      "At round 189 training loss: 0.7183847787645128\n",
      "Group 1\n",
      "At round 189 accuracy: 0.7375\n",
      "At round 189 training accuracy: 0.7360703812316716\n",
      "At round 189 training loss: 0.6608890936958475\n",
      "Group 2\n",
      "At round 189 accuracy: 0.5795454545454546\n",
      "At round 189 training accuracy: 0.6202365308804205\n",
      "At round 189 training loss: 0.9716697451946144\n",
      "Begin group  0 training\n"
     ]
    },
    {
     "name": "stderr",
     "output_type": "stream",
     "text": [
      "Epoch:   0%|                                                                                      | 0/5 [00:00<?, ?it/s]"
     ]
    },
    {
     "name": "stdout",
     "output_type": "stream",
     "text": [
      "Begin group  1 training\n"
     ]
    },
    {
     "name": "stderr",
     "output_type": "stream",
     "text": [
      "Epoch:  80%|██████████████████████████████████████████████████████████████▍               | 4/5 [00:00<00:00, 32.09it/s]"
     ]
    },
    {
     "name": "stdout",
     "output_type": "stream",
     "text": [
      "Begin group  2 training\n"
     ]
    },
    {
     "name": "stderr",
     "output_type": "stream",
     "text": [
      "Epoch:   0%|                                                                                      | 0/5 [00:00<?, ?it/s]"
     ]
    },
    {
     "name": "stdout",
     "output_type": "stream",
     "text": [
      "Group 0 clients ['f_00017', 'f_00018', 'f_00008', 'f_00107', 'f_00116', 'f_00028', 'f_00019']\n",
      "Group 1 clients ['f_00001', 'f_00010', 'f_00139', 'f_00092']\n",
      "Group 2 clients ['f_00024', 'f_00046', 'f_00014', 'f_00105', 'f_00056', 'f_00006', 'f_00055', 'f_00023', 'f_00045']\n",
      "The groups difference are: [2.220446049250313e-16, 0.0007182055259640219, 0.0005682672879827599]\n",
      "Group 0\n",
      "At round 190 accuracy: 0.7058823529411765\n",
      "At round 190 training accuracy: 0.6197718631178707\n",
      "At round 190 training loss: 0.9837280801947126\n",
      "Group 1\n",
      "At round 190 accuracy: 0.6774193548387096\n",
      "At round 190 training accuracy: 0.6501901140684411\n",
      "At round 190 training loss: 0.8510596595789544\n",
      "Group 2\n",
      "At round 190 accuracy: 0.6774193548387096\n",
      "At round 190 training accuracy: 0.6288461538461538\n",
      "At round 190 training loss: 0.9335941148492006\n",
      "Begin group  0 training\n"
     ]
    },
    {
     "name": "stderr",
     "output_type": "stream",
     "text": [
      "Epoch:   0%|                                                                                      | 0/5 [00:00<?, ?it/s]"
     ]
    },
    {
     "name": "stdout",
     "output_type": "stream",
     "text": [
      "Begin group  1 training\n",
      "Begin group  2 training\n"
     ]
    },
    {
     "name": "stderr",
     "output_type": "stream",
     "text": [
      "Epoch:   0%|                                                                                      | 0/5 [00:00<?, ?it/s]"
     ]
    },
    {
     "name": "stdout",
     "output_type": "stream",
     "text": [
      "Group 0 clients ['f_00027', 'f_00028', 'f_00059', 'f_00189', 'f_00169']\n",
      "Group 1 clients ['f_00170', 'f_00110', 'f_00111', 'f_00081', 'f_00090', 'f_00142', 'f_00121', 'f_00002', 'f_00093', 'f_00139']\n",
      "Group 2 clients ['f_00045', 'f_00125', 'f_00076', 'f_00103', 'f_00136']\n",
      "The groups difference are: [1.1102230246251565e-16, 0.0004806106662642584, 0.00048896871569859]\n",
      "Group 0\n",
      "At round 191 accuracy: 0.6428571428571429\n",
      "At round 191 training accuracy: 0.7420814479638009\n",
      "At round 191 training loss: 0.7770733296601481\n",
      "Group 1\n",
      "At round 191 accuracy: 0.6037735849056604\n",
      "At round 191 training accuracy: 0.6189427312775331\n",
      "At round 191 training loss: 1.11588742193409\n",
      "Group 2\n",
      "At round 191 accuracy: 0.6557377049180327\n",
      "At round 191 training accuracy: 0.7425373134328358\n",
      "At round 191 training loss: 0.8785645866127156\n",
      "Begin group  0 training\n"
     ]
    },
    {
     "name": "stderr",
     "output_type": "stream",
     "text": [
      "Epoch:   0%|                                                                                      | 0/5 [00:00<?, ?it/s]"
     ]
    },
    {
     "name": "stdout",
     "output_type": "stream",
     "text": [
      "Begin group  1 training\n"
     ]
    },
    {
     "name": "stderr",
     "output_type": "stream",
     "text": [
      "Epoch:  80%|██████████████████████████████████████████████████████████████▍               | 4/5 [00:00<00:00, 39.03it/s]"
     ]
    },
    {
     "name": "stdout",
     "output_type": "stream",
     "text": [
      "Begin group  2 training\n"
     ]
    },
    {
     "name": "stderr",
     "output_type": "stream",
     "text": [
      "                                                                                                                        "
     ]
    },
    {
     "name": "stdout",
     "output_type": "stream",
     "text": [
      "Group 0 clients ['f_00008', 'f_00037', 'f_00197', 'f_00158', 'f_00079', 'f_00119']\n",
      "Group 1 clients ['f_00022', 'f_00072', 'f_00060', 'f_00041', 'f_00171', 'f_00100', 'f_00093', 'f_00152']\n",
      "Group 2 clients ['f_00013', 'f_00085', 'f_00023', 'f_00133', 'f_00064', 'f_00196']\n",
      "The groups difference are: [0.0, 0.00042381380193678986, 0.0006552222805260577]\n",
      "Group 0\n",
      "At round 192 accuracy: 0.6607142857142857\n",
      "At round 192 training accuracy: 0.6297071129707112\n",
      "At round 192 training loss: 1.0236557558740034\n",
      "Group 1\n",
      "At round 192 accuracy: 0.6951219512195121\n",
      "At round 192 training accuracy: 0.7185289957567186\n",
      "At round 192 training loss: 0.8054598609494016\n",
      "Group 2\n",
      "At round 192 accuracy: 0.2978723404255319\n",
      "At round 192 training accuracy: 0.3246753246753247\n",
      "At round 192 training loss: 1.73747051017625\n",
      "Begin group  0 training\n"
     ]
    },
    {
     "name": "stderr",
     "output_type": "stream",
     "text": [
      "Epoch:   0%|                                                                                      | 0/5 [00:00<?, ?it/s]"
     ]
    },
    {
     "name": "stdout",
     "output_type": "stream",
     "text": [
      "Begin group  1 training\n"
     ]
    },
    {
     "name": "stderr",
     "output_type": "stream",
     "text": [
      "Epoch:   0%|                                                                                      | 0/5 [00:00<?, ?it/s]"
     ]
    },
    {
     "name": "stdout",
     "output_type": "stream",
     "text": [
      "Begin group  2 training\n"
     ]
    },
    {
     "name": "stderr",
     "output_type": "stream",
     "text": [
      "Epoch:   0%|                                                                                      | 0/5 [00:00<?, ?it/s]"
     ]
    },
    {
     "name": "stdout",
     "output_type": "stream",
     "text": [
      "Group 0 clients ['f_00187', 'f_00157', 'f_00018', 'f_00069', 'f_00119', 'f_00033']\n",
      "Group 1 clients ['f_00140', 'f_00091', 'f_00000', 'f_00043', 'f_00020']\n",
      "Group 2 clients ['f_00164', 'f_00133', 'f_00073', 'f_00105', 'f_00173', 'f_00184', 'f_00004', 'f_00006', 'f_00186']\n",
      "The groups difference are: [1.1102230246251565e-16, 0.0005265810407739657, 0.0005483449917127459]\n",
      "Group 0\n",
      "At round 193 accuracy: 0.7631578947368421\n",
      "At round 193 training accuracy: 0.7021943573667712\n",
      "At round 193 training loss: 0.8388869590520112\n",
      "Group 1\n",
      "At round 193 accuracy: 0.5121951219512195\n",
      "At round 193 training accuracy: 0.659217877094972\n",
      "At round 193 training loss: 0.8372658556067077\n",
      "Group 2\n",
      "At round 193 accuracy: 0.6915887850467289\n",
      "At round 193 training accuracy: 0.8008705114254625\n",
      "At round 193 training loss: 0.6353889627542277\n",
      "Begin group  0 training\n"
     ]
    },
    {
     "name": "stderr",
     "output_type": "stream",
     "text": [
      "Epoch:   0%|                                                                                      | 0/5 [00:00<?, ?it/s]"
     ]
    },
    {
     "name": "stdout",
     "output_type": "stream",
     "text": [
      "Begin group  1 training\n"
     ]
    },
    {
     "name": "stderr",
     "output_type": "stream",
     "text": [
      "Epoch:  60%|██████████████████████████████████████████████▊                               | 3/5 [00:00<00:00, 25.39it/s]"
     ]
    },
    {
     "name": "stdout",
     "output_type": "stream",
     "text": [
      "Begin group  2 training\n"
     ]
    },
    {
     "name": "stderr",
     "output_type": "stream",
     "text": [
      "Epoch:   0%|                                                                                      | 0/5 [00:00<?, ?it/s]"
     ]
    },
    {
     "name": "stdout",
     "output_type": "stream",
     "text": [
      "Group 0 clients ['f_00188', 'f_00008', 'f_00017', 'f_00139']\n",
      "Group 1 clients ['f_00101', 'f_00041', 'f_00143', 'f_00152', 'f_00002', 'f_00180']\n",
      "Group 2 clients ['f_00136', 'f_00165', 'f_00164', 'f_00133', 'f_00006', 'f_00035', 'f_00073', 'f_00045', 'f_00046', 'f_00053']\n",
      "The groups difference are: [0.0, 0.00041416564635254893, 0.0006631165984796183]\n",
      "Group 0\n",
      "At round 194 accuracy: 0.7272727272727273\n",
      "At round 194 training accuracy: 0.7195121951219512\n",
      "At round 194 training loss: 0.7170970683417669\n",
      "Group 1\n",
      "At round 194 accuracy: 0.647887323943662\n",
      "At round 194 training accuracy: 0.6803953871499177\n",
      "At round 194 training loss: 0.8201364309724906\n",
      "Group 2\n",
      "At round 194 accuracy: 0.689873417721519\n",
      "At round 194 training accuracy: 0.7135568513119533\n",
      "At round 194 training loss: 0.8069820416651384\n",
      "Begin group  0 training\n",
      "Begin group  1 training\n"
     ]
    },
    {
     "name": "stderr",
     "output_type": "stream",
     "text": [
      "Epoch:   0%|                                                                                      | 0/5 [00:00<?, ?it/s]"
     ]
    },
    {
     "name": "stdout",
     "output_type": "stream",
     "text": [
      "Begin group  2 training\n"
     ]
    },
    {
     "name": "stderr",
     "output_type": "stream",
     "text": [
      "Epoch:   0%|                                                                                      | 0/5 [00:00<?, ?it/s]"
     ]
    },
    {
     "name": "stdout",
     "output_type": "stream",
     "text": [
      "Group 0 clients ['f_00068', 'f_00107', 'f_00197', 'f_00049', 'f_00036', 'f_00098', 'f_00019', 'f_00178']\n",
      "Group 1 clients ['f_00062', 'f_00161', 'f_00130', 'f_00052', 'f_00093', 'f_00032']\n",
      "Group 2 clients ['f_00133', 'f_00194', 'f_00173', 'f_00165', 'f_00154', 'f_00015']\n",
      "The groups difference are: [0.0, 0.0004470632187365542, 0.0005786861916080577]\n",
      "Group 0\n",
      "At round 195 accuracy: 0.7974683544303798\n",
      "At round 195 training accuracy: 0.7941176470588235\n",
      "At round 195 training loss: 0.7472665444892995\n",
      "Group 1\n",
      "At round 195 accuracy: 0.8307086614173228\n",
      "At round 195 training accuracy: 0.8516703786191536\n",
      "At round 195 training loss: 0.5101880804202074\n",
      "Group 2\n",
      "At round 195 accuracy: 0.7288135593220338\n",
      "At round 195 training accuracy: 0.7250996015936255\n",
      "At round 195 training loss: 0.7028460531714428\n",
      "Begin group  0 training\n"
     ]
    },
    {
     "name": "stderr",
     "output_type": "stream",
     "text": [
      "Epoch:   0%|                                                                                      | 0/5 [00:00<?, ?it/s]"
     ]
    },
    {
     "name": "stdout",
     "output_type": "stream",
     "text": [
      "Begin group  1 training\n"
     ]
    },
    {
     "name": "stderr",
     "output_type": "stream",
     "text": [
      "Epoch:   0%|                                                                                      | 0/5 [00:00<?, ?it/s]"
     ]
    },
    {
     "name": "stdout",
     "output_type": "stream",
     "text": [
      "Begin group  2 training\n"
     ]
    },
    {
     "name": "stderr",
     "output_type": "stream",
     "text": [
      "Epoch:   0%|                                                                                      | 0/5 [00:00<?, ?it/s]"
     ]
    },
    {
     "name": "stdout",
     "output_type": "stream",
     "text": [
      "Group 0 clients ['f_00177', 'f_00179', 'f_00159', 'f_00157', 'f_00036', 'f_00147']\n",
      "Group 1 clients ['f_00182', 'f_00020', 'f_00170', 'f_00122', 'f_00150', 'f_00003']\n",
      "Group 2 clients ['f_00145', 'f_00025', 'f_00013', 'f_00023', 'f_00073', 'f_00156', 'f_00103', 'f_00112']\n",
      "The groups difference are: [0.0, 0.0011490195281413929, 0.0006735698673012713]\n",
      "Group 0\n",
      "At round 196 accuracy: 0.7083333333333334\n",
      "At round 196 training accuracy: 0.6370370370370371\n",
      "At round 196 training loss: 1.0466759178373548\n",
      "Group 1\n",
      "At round 196 accuracy: 0.6595744680851063\n",
      "At round 196 training accuracy: 0.6896551724137931\n",
      "At round 196 training loss: 1.354489807718493\n",
      "Group 2\n",
      "At round 196 accuracy: 0.6627906976744186\n",
      "At round 196 training accuracy: 0.7066848567530696\n",
      "At round 196 training loss: 0.8911771283956375\n",
      "Begin group  0 training\n"
     ]
    },
    {
     "name": "stderr",
     "output_type": "stream",
     "text": [
      "Epoch:   0%|                                                                                      | 0/5 [00:00<?, ?it/s]"
     ]
    },
    {
     "name": "stdout",
     "output_type": "stream",
     "text": [
      "Begin group  1 training\n"
     ]
    },
    {
     "name": "stderr",
     "output_type": "stream",
     "text": [
      "Epoch:   0%|                                                                                      | 0/5 [00:00<?, ?it/s]"
     ]
    },
    {
     "name": "stdout",
     "output_type": "stream",
     "text": [
      "Begin group  2 training\n"
     ]
    },
    {
     "name": "stderr",
     "output_type": "stream",
     "text": [
      "Epoch:   0%|                                                                                      | 0/5 [00:00<?, ?it/s]"
     ]
    },
    {
     "name": "stdout",
     "output_type": "stream",
     "text": [
      "Group 0 clients ['f_00147', 'f_00188', 'f_00048', 'f_00117', 'f_00029', 'f_00047', 'f_00138', 'f_00028', 'f_00187']\n",
      "Group 1 clients ['f_00081', 'f_00101', 'f_00011', 'f_00162', 'f_00052', 'f_00130']\n",
      "Group 2 clients ['f_00103', 'f_00194', 'f_00034', 'f_00104', 'f_00172']\n",
      "The groups difference are: [0.0, 0.0007731904974924708, 0.0005639272988622324]\n",
      "Group 0\n",
      "At round 197 accuracy: 0.7692307692307693\n",
      "At round 197 training accuracy: 0.7438271604938271\n",
      "At round 197 training loss: 0.7498008937195495\n",
      "Group 1\n",
      "At round 197 accuracy: 0.7959183673469388\n",
      "At round 197 training accuracy: 0.8159806295399515\n",
      "At round 197 training loss: 0.5809105594279402\n",
      "Group 2\n",
      "At round 197 accuracy: 0.7\n",
      "At round 197 training accuracy: 0.7247706422018348\n",
      "At round 197 training loss: 0.8328626250865263\n",
      "Begin group  0 training\n"
     ]
    },
    {
     "name": "stderr",
     "output_type": "stream",
     "text": [
      "Epoch:   0%|                                                                                      | 0/5 [00:00<?, ?it/s]"
     ]
    },
    {
     "name": "stdout",
     "output_type": "stream",
     "text": [
      "Begin group  1 training\n"
     ]
    },
    {
     "name": "stderr",
     "output_type": "stream",
     "text": [
      "Epoch:   0%|                                                                                      | 0/5 [00:00<?, ?it/s]"
     ]
    },
    {
     "name": "stdout",
     "output_type": "stream",
     "text": [
      "Begin group  2 training\n"
     ]
    },
    {
     "name": "stderr",
     "output_type": "stream",
     "text": [
      "Epoch:   0%|                                                                                      | 0/5 [00:00<?, ?it/s]"
     ]
    },
    {
     "name": "stdout",
     "output_type": "stream",
     "text": [
      "Group 0 clients ['f_00147', 'f_00187', 'f_00026', 'f_00158', 'f_00118', 'f_00199', 'f_00087']\n",
      "Group 1 clients ['f_00111', 'f_00091', 'f_00102', 'f_00050', 'f_00080', 'f_00083', 'f_00043']\n",
      "Group 2 clients ['f_00064', 'f_00164', 'f_00125', 'f_00173', 'f_00005', 'f_00082']\n",
      "The groups difference are: [0.0, 0.0006672743406410664, 0.0005633129318238783]\n",
      "Group 0\n",
      "At round 198 accuracy: 0.7227722772277227\n",
      "At round 198 training accuracy: 0.7477578475336323\n",
      "At round 198 training loss: 0.8260601291207454\n",
      "Group 1\n",
      "At round 198 accuracy: 0.72\n",
      "At round 198 training accuracy: 0.6819571865443425\n",
      "At round 198 training loss: 0.9039602267815068\n",
      "Group 2\n",
      "At round 198 accuracy: 0.5978260869565217\n",
      "At round 198 training accuracy: 0.6733167082294265\n",
      "At round 198 training loss: 0.8662997879961185\n",
      "Begin group  0 training\n"
     ]
    },
    {
     "name": "stderr",
     "output_type": "stream",
     "text": [
      "Epoch:   0%|                                                                                      | 0/5 [00:00<?, ?it/s]"
     ]
    },
    {
     "name": "stdout",
     "output_type": "stream",
     "text": [
      "Begin group  1 training\n"
     ]
    },
    {
     "name": "stderr",
     "output_type": "stream",
     "text": [
      "Epoch:  60%|██████████████████████████████████████████████▊                               | 3/5 [00:00<00:00, 26.22it/s]"
     ]
    },
    {
     "name": "stdout",
     "output_type": "stream",
     "text": [
      "Begin group  2 training\n"
     ]
    },
    {
     "name": "stderr",
     "output_type": "stream",
     "text": [
      "Epoch:   0%|                                                                                      | 0/5 [00:00<?, ?it/s]"
     ]
    },
    {
     "name": "stdout",
     "output_type": "stream",
     "text": [
      "Group 0 clients ['f_00157', 'f_00149', 'f_00089', 'f_00070', 'f_00116']\n",
      "Group 1 clients ['f_00052', 'f_00021', 'f_00043', 'f_00063']\n",
      "Group 2 clients ['f_00013', 'f_00144', 'f_00034', 'f_00123', 'f_00194', 'f_00045', 'f_00146', 'f_00065', 'f_00133', 'f_00094', 'f_00153']\n",
      "The groups difference are: [0.0, 0.0006865117952805644, 0.0007159384569445093]\n",
      "Group 0\n",
      "At round 199 accuracy: 0.41304347826086957\n",
      "At round 199 training accuracy: 0.34190231362467866\n",
      "At round 199 training loss: 1.7193074143637728\n",
      "Group 1\n",
      "At round 199 accuracy: 0.6857142857142857\n",
      "At round 199 training accuracy: 0.7986577181208053\n",
      "At round 199 training loss: 0.6228703614449341\n",
      "Group 2\n",
      "At round 199 accuracy: 0.8269230769230769\n",
      "At round 199 training accuracy: 0.8046242774566474\n",
      "At round 199 training loss: 0.6618596357417245\n",
      "Begin group  0 training\n"
     ]
    },
    {
     "name": "stderr",
     "output_type": "stream",
     "text": [
      "                                                                                                                        "
     ]
    },
    {
     "name": "stdout",
     "output_type": "stream",
     "text": [
      "Begin group  1 training\n"
     ]
    },
    {
     "name": "stderr",
     "output_type": "stream",
     "text": [
      "Epoch:   0%|                                                                                      | 0/5 [00:00<?, ?it/s]"
     ]
    },
    {
     "name": "stdout",
     "output_type": "stream",
     "text": [
      "Begin group  2 training\n"
     ]
    },
    {
     "name": "stderr",
     "output_type": "stream",
     "text": [
      "                                                                                                                        \r"
     ]
    }
   ],
   "source": [
    "params = {}\n",
    "params['num_group'] = 3\n",
    "params['learning_rate'] = 0.003\n",
    "params['model_params'] = (10,)\n",
    "params['seed'] = 123\n",
    "params['mu'] = 1\n",
    "params['num_rounds'] = 200\n",
    "params['eval_every'] = 1\n",
    "params['clients_per_round'] = 20\n",
    "params['drop_percent'] = 0\n",
    "params['min_clients'] = 4\n",
    "learner = mclr.Model\n",
    "\n",
    "server = grouprox.Server(params, learner, dataset)\n",
    "server.train()"
   ]
  },
  {
   "cell_type": "code",
   "execution_count": 4,
   "metadata": {},
   "outputs": [
    {
     "name": "stdout",
     "output_type": "stream",
     "text": [
      "[('B', 0.02), ('C', 1)]\n",
      "[7, 5, 4]\n",
      "[10 10 10 10 11 11 10 11 10 10]\n",
      "[10, 10, 10, 10, 11, 11, 10, 11, 10, 10]\n"
     ]
    }
   ],
   "source": [
    "diff_tuples = [\n",
    "  ('A', 0.1),\n",
    "  ('B', 0.02),\n",
    "  ('C', 1)\n",
    "]\n",
    "sorted(diff_tuples, key = lambda tup: tup[1])\n",
    "\n",
    "for name, score in diff_tuples:\n",
    "  if name == 'A':\n",
    "    diff_tuples.remove(('A', 0.1))\n",
    "print(diff_tuples)\n",
    "\n",
    "import random\n",
    "import numpy as np\n",
    "\n",
    "group = np.array([10]*10)\n",
    "\n",
    "random_groups = random.sample(range(10), 3)\n",
    "group[random_groups] += 1\n",
    "\n",
    "print(random_groups)\n",
    "\n",
    "print(group)\n",
    "print(group.tolist())"
   ]
  }
 ],
 "metadata": {
  "kernelspec": {
   "display_name": "Python 3",
   "language": "python",
   "name": "python3"
  },
  "language_info": {
   "codemirror_mode": {
    "name": "ipython",
    "version": 3
   },
   "file_extension": ".py",
   "mimetype": "text/x-python",
   "name": "python",
   "nbconvert_exporter": "python",
   "pygments_lexer": "ipython3",
   "version": "3.7.7"
  }
 },
 "nbformat": 4,
 "nbformat_minor": 4
}
